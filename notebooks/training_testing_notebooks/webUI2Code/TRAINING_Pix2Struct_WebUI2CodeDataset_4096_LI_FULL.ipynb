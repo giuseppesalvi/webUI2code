{
  "cells": [
    {
      "cell_type": "markdown",
      "metadata": {
        "id": "xY4KuZUbq83Q"
      },
      "source": [
        "# Finetune Pix2Struct model on WebUI2Code dataset, version 4096 Lorem Ipsum"
      ]
    },
    {
      "cell_type": "markdown",
      "metadata": {
        "id": "jT6iC6BDrB9i"
      },
      "source": [
        "## Setup Envirnoment"
      ]
    },
    {
      "cell_type": "code",
      "execution_count": null,
      "metadata": {
        "colab": {
          "base_uri": "https://localhost:8080/"
        },
        "id": "jc7bhkoMEtq3",
        "outputId": "f6d4161d-d104-48f3-a7da-2df50d9f8b7a"
      },
      "outputs": [
        {
          "name": "stdout",
          "output_type": "stream",
          "text": [
            "Collecting transformers==4.33.1\n",
            "  Downloading transformers-4.33.1-py3-none-any.whl (7.6 MB)\n",
            "\u001b[2K     \u001b[90m━━━━━━━━━━━━━━━━━━━━━━━━━━━━━━━━━━━━━━━━\u001b[0m \u001b[32m7.6/7.6 MB\u001b[0m \u001b[31m64.3 MB/s\u001b[0m eta \u001b[36m0:00:00\u001b[0m\n",
            "\u001b[?25hRequirement already satisfied: filelock in /usr/local/lib/python3.10/dist-packages (from transformers==4.33.1) (3.12.2)\n",
            "Collecting huggingface-hub<1.0,>=0.15.1 (from transformers==4.33.1)\n",
            "  Downloading huggingface_hub-0.17.3-py3-none-any.whl (295 kB)\n",
            "\u001b[2K     \u001b[90m━━━━━━━━━━━━━━━━━━━━━━━━━━━━━━━━━━━━━━\u001b[0m \u001b[32m295.0/295.0 kB\u001b[0m \u001b[31m31.6 MB/s\u001b[0m eta \u001b[36m0:00:00\u001b[0m\n",
            "\u001b[?25hRequirement already satisfied: numpy>=1.17 in /usr/local/lib/python3.10/dist-packages (from transformers==4.33.1) (1.23.5)\n",
            "Requirement already satisfied: packaging>=20.0 in /usr/local/lib/python3.10/dist-packages (from transformers==4.33.1) (23.1)\n",
            "Requirement already satisfied: pyyaml>=5.1 in /usr/local/lib/python3.10/dist-packages (from transformers==4.33.1) (6.0.1)\n",
            "Requirement already satisfied: regex!=2019.12.17 in /usr/local/lib/python3.10/dist-packages (from transformers==4.33.1) (2023.6.3)\n",
            "Requirement already satisfied: requests in /usr/local/lib/python3.10/dist-packages (from transformers==4.33.1) (2.31.0)\n",
            "Collecting tokenizers!=0.11.3,<0.14,>=0.11.1 (from transformers==4.33.1)\n",
            "  Downloading tokenizers-0.13.3-cp310-cp310-manylinux_2_17_x86_64.manylinux2014_x86_64.whl (7.8 MB)\n",
            "\u001b[2K     \u001b[90m━━━━━━━━━━━━━━━━━━━━━━━━━━━━━━━━━━━━━━━━\u001b[0m \u001b[32m7.8/7.8 MB\u001b[0m \u001b[31m118.3 MB/s\u001b[0m eta \u001b[36m0:00:00\u001b[0m\n",
            "\u001b[?25hCollecting safetensors>=0.3.1 (from transformers==4.33.1)\n",
            "  Downloading safetensors-0.3.3-cp310-cp310-manylinux_2_17_x86_64.manylinux2014_x86_64.whl (1.3 MB)\n",
            "\u001b[2K     \u001b[90m━━━━━━━━━━━━━━━━━━━━━━━━━━━━━━━━━━━━━━━━\u001b[0m \u001b[32m1.3/1.3 MB\u001b[0m \u001b[31m74.6 MB/s\u001b[0m eta \u001b[36m0:00:00\u001b[0m\n",
            "\u001b[?25hRequirement already satisfied: tqdm>=4.27 in /usr/local/lib/python3.10/dist-packages (from transformers==4.33.1) (4.66.1)\n",
            "Requirement already satisfied: fsspec in /usr/local/lib/python3.10/dist-packages (from huggingface-hub<1.0,>=0.15.1->transformers==4.33.1) (2023.6.0)\n",
            "Requirement already satisfied: typing-extensions>=3.7.4.3 in /usr/local/lib/python3.10/dist-packages (from huggingface-hub<1.0,>=0.15.1->transformers==4.33.1) (4.5.0)\n",
            "Requirement already satisfied: charset-normalizer<4,>=2 in /usr/local/lib/python3.10/dist-packages (from requests->transformers==4.33.1) (3.2.0)\n",
            "Requirement already satisfied: idna<4,>=2.5 in /usr/local/lib/python3.10/dist-packages (from requests->transformers==4.33.1) (3.4)\n",
            "Requirement already satisfied: urllib3<3,>=1.21.1 in /usr/local/lib/python3.10/dist-packages (from requests->transformers==4.33.1) (2.0.4)\n",
            "Requirement already satisfied: certifi>=2017.4.17 in /usr/local/lib/python3.10/dist-packages (from requests->transformers==4.33.1) (2023.7.22)\n",
            "Installing collected packages: tokenizers, safetensors, huggingface-hub, transformers\n",
            "Successfully installed huggingface-hub-0.17.3 safetensors-0.3.3 tokenizers-0.13.3 transformers-4.33.1\n"
          ]
        }
      ],
      "source": [
        "!pip install transformers==4.33.1"
      ]
    },
    {
      "cell_type": "code",
      "execution_count": null,
      "metadata": {
        "colab": {
          "base_uri": "https://localhost:8080/"
        },
        "id": "901j04acrHxe",
        "outputId": "05295755-a7e8-48db-bb47-c61118b44c9e"
      },
      "outputs": [
        {
          "name": "stdout",
          "output_type": "stream",
          "text": [
            "\u001b[2K     \u001b[90m━━━━━━━━━━━━━━━━━━━━━━━━━━━━━━━━━━━━━━━━\u001b[0m \u001b[32m2.1/2.1 MB\u001b[0m \u001b[31m23.9 MB/s\u001b[0m eta \u001b[36m0:00:00\u001b[0m\n",
            "\u001b[2K     \u001b[90m━━━━━━━━━━━━━━━━━━━━━━━━━━━━━━━━━━━━━━\u001b[0m \u001b[32m190.0/190.0 kB\u001b[0m \u001b[31m19.1 MB/s\u001b[0m eta \u001b[36m0:00:00\u001b[0m\n",
            "\u001b[2K     \u001b[90m━━━━━━━━━━━━━━━━━━━━━━━━━━━━━━━━━━━━━━\u001b[0m \u001b[32m224.8/224.8 kB\u001b[0m \u001b[31m20.5 MB/s\u001b[0m eta \u001b[36m0:00:00\u001b[0m\n",
            "\u001b[?25h  Preparing metadata (setup.py) ... \u001b[?25l\u001b[?25hdone\n",
            "\u001b[2K     \u001b[90m━━━━━━━━━━━━━━━━━━━━━━━━━━━━━━━━━━━━━━━━\u001b[0m \u001b[32m62.7/62.7 kB\u001b[0m \u001b[31m7.7 MB/s\u001b[0m eta \u001b[36m0:00:00\u001b[0m\n",
            "\u001b[?25h  Building wheel for pathtools (setup.py) ... \u001b[?25l\u001b[?25hdone\n"
          ]
        }
      ],
      "source": [
        "!pip install -q wandb"
      ]
    },
    {
      "cell_type": "markdown",
      "metadata": {
        "id": "pGk1Y2ea-3vS"
      },
      "source": [
        "## Import necessary libraries"
      ]
    },
    {
      "cell_type": "code",
      "execution_count": null,
      "metadata": {
        "id": "9qulzbyd-1GC"
      },
      "outputs": [],
      "source": [
        "from google.colab import drive\n",
        "import os\n",
        "import zipfile\n",
        "from torch.utils.data import Dataset, DataLoader\n",
        "from torchvision import transforms\n",
        "from PIL import Image\n",
        "import re\n",
        "from transformers import Pix2StructForConditionalGeneration, AutoProcessor\n",
        "import torch\n",
        "from torch.nn import functional as F\n",
        "from transformers.optimization import Adafactor, get_cosine_schedule_with_warmup\n",
        "from pathlib import Path\n",
        "from nltk import edit_distance\n",
        "import numpy as np\n",
        "import wandb\n",
        "from tqdm import tqdm\n",
        "from nltk.translate.bleu_score import corpus_bleu, sentence_bleu, SmoothingFunction\n",
        "from torch.utils.data import random_split\n",
        "import random\n",
        "import json"
      ]
    },
    {
      "cell_type": "markdown",
      "metadata": {
        "id": "rZ3TJ2yzBAs0"
      },
      "source": [
        "## Define variables and parameters"
      ]
    },
    {
      "cell_type": "code",
      "execution_count": null,
      "metadata": {
        "id": "Rrjr3uhaBDqp"
      },
      "outputs": [],
      "source": [
        "G_DRIVE_FOLDER = '/content/drive/MyDrive/Datasets/'\n",
        "G_DRIVE_FOLDER_CHECKPOINTS = '/content/drive/MyDrive/Checkpoints/'\n",
        "DATASET_NAME = 'WebUI2Code_4096_LI_preprocessed'\n",
        "ZIP_NAME = DATASET_NAME + '.zip'\n",
        "\n",
        "DESTINATION_FOLDER= '/content/data/'\n",
        "DATASET_FOLDER = DESTINATION_FOLDER + DATASET_NAME + \"/\"\n",
        "\n",
        "EXPERIMENT_NAME = \"Pix2Struct_WebUI2Code_Complete_4096_LI_FULL\"\n",
        "\n",
        "MAX_SENTENCE_LEN = 4096\n",
        "\n",
        "CHUNK_LENGTH =  1024\n",
        "CONTEXT_OVERLAP_LENGTH = 256\n",
        "\n",
        "MAX_PATCHES = 1024\n",
        "\n",
        "DEBUG = False\n",
        "VERBOSE = True\n",
        "\n",
        "BATCH_SIZE = 4\n",
        "NUM_WARMUP_STEPS = 3000\n",
        "MAX_EPOCHS = 10\n",
        "LR = 1e-4\n",
        "CHECK_VAL_EVERY_N_EPOCH = 5\n",
        "GRADIENT_CLIP_VAL = 1.0\n",
        "ACCUMULATE_GRAD_BATCHES = 8 / BATCH_SIZE\n",
        "\n",
        "TRAIN_SET_PERCENTAGE = 0.898\n",
        "VALID_SET_PERCENTAGE = 0.002 # Use around 10 samples for validation\n",
        "# TEST_SET_PERCENTAGE is 1 - TRAIN_SET_PERCENTAGE - VALID_SET_PERCENTAGE # Use 10% for test\n",
        "\n",
        "RANDOM_SEED = 100\n",
        "\n",
        "# Start from last checkpoint of experiment on SynthBootsrapDataset\n",
        "LOAD_FROM_CHECKPOINT = False\n",
        "LAST_CHECKPOINT_NAME = \"\""
      ]
    },
    {
      "cell_type": "code",
      "execution_count": null,
      "metadata": {
        "id": "UVN0Pk4IuVYN"
      },
      "outputs": [],
      "source": [
        "DEVICE = torch.device('cuda' if torch.cuda.is_available() else 'cpu')"
      ]
    },
    {
      "cell_type": "code",
      "execution_count": null,
      "metadata": {
        "colab": {
          "base_uri": "https://localhost:8080/"
        },
        "id": "sKC06Ai1Xhcl",
        "outputId": "52274e28-b99d-4763-c01d-0e77f67cae2a"
      },
      "outputs": [
        {
          "name": "stdout",
          "output_type": "stream",
          "text": [
            "MAX_N_CHUNKS_PER_SENTENCE 5\n"
          ]
        }
      ],
      "source": [
        "MAX_N_CHUNKS_PER_SENTENCE = 1 + (MAX_SENTENCE_LEN - CHUNK_LENGTH) // (CHUNK_LENGTH - CONTEXT_OVERLAP_LENGTH)\n",
        "print(\"MAX_N_CHUNKS_PER_SENTENCE\", MAX_N_CHUNKS_PER_SENTENCE)"
      ]
    },
    {
      "cell_type": "markdown",
      "metadata": {
        "id": "kflo6stPSGhT"
      },
      "source": [
        "\n",
        "## Load WebUI2Code LI Dataset"
      ]
    },
    {
      "cell_type": "markdown",
      "metadata": {
        "id": "tq4WHje5RJ9u"
      },
      "source": [
        "### Mount Google Drive"
      ]
    },
    {
      "cell_type": "code",
      "execution_count": null,
      "metadata": {
        "colab": {
          "base_uri": "https://localhost:8080/"
        },
        "id": "uGqbLAK6RJ9x",
        "outputId": "ce484091-bf90-4378-8998-e3342a7b796c"
      },
      "outputs": [
        {
          "name": "stdout",
          "output_type": "stream",
          "text": [
            "Mounted at /content/drive\n"
          ]
        }
      ],
      "source": [
        "drive.mount('/content/drive')"
      ]
    },
    {
      "cell_type": "markdown",
      "metadata": {
        "id": "R-TqChHhSYgz"
      },
      "source": [
        "### Import zip file from Google Drive"
      ]
    },
    {
      "cell_type": "code",
      "execution_count": null,
      "metadata": {
        "id": "Ju1BprKCVbvg"
      },
      "outputs": [],
      "source": [
        "os.makedirs(DESTINATION_FOLDER, exist_ok=True)\n",
        "\n",
        "with zipfile.ZipFile(G_DRIVE_FOLDER + ZIP_NAME, \"r\") as zf:\n",
        "    zf.extractall(DESTINATION_FOLDER)"
      ]
    },
    {
      "cell_type": "markdown",
      "metadata": {
        "id": "ibNV0bxIsT3A"
      },
      "source": []
    },
    {
      "cell_type": "markdown",
      "metadata": {
        "id": "XIyXwQultNqy"
      },
      "source": [
        "## Load Model and Processor"
      ]
    },
    {
      "cell_type": "code",
      "execution_count": null,
      "metadata": {
        "colab": {
          "base_uri": "https://localhost:8080/",
          "height": 241,
          "referenced_widgets": [
            "d58ef6e437d74c32849bf5ec4cddb7c8",
            "4be24b17ef084375acd505e4238fd95c",
            "c539fe8271804eae8a2af9f158b23df5",
            "7ec6fcf232ee469b8713795c11f93305",
            "a44a4450e1274a828c074828a526be1f",
            "b10a5e2994ce412aa160864c8150b484",
            "7f9f10c0ffd04521a8ca7f75af957988",
            "003b6f1db5c84e61b08bd27fbced5048",
            "298536407d0044ec9d8fb9d1c249e7b7",
            "1d2842890b4c45d993c92993ee0d49c9",
            "1cacf9bf785b4a34968d69c1963a29a2",
            "6a8cb7fb38164672bbf463f0c4adb206",
            "b9dcd675d3ed42c2bca89d7691431ebb",
            "df2b2ae208bc45208788286d198d7605",
            "7f7f97c5e6704eacb615296ad1ed3477",
            "d709f261d2c64ddfb1955c5b95c828c6",
            "885c3d9d2997431885d13ef65496f4e3",
            "b9a06a97b5574442b5031bf847e4c494",
            "cec1e24e23fd468186cd43d5f2c36542",
            "b2fc509e6c2d4c94ad2299502e2e5f45",
            "0ecc83ca92fa49acad8a06149030f1b3",
            "6db5b2b959724e5b94fcb7731eeb3199",
            "ec3ce7e4517a4037b09de316c4cd9df7",
            "313acea89f7f4c819799e1c681d65d60",
            "a6a62b4e088b493e94ce144a92d1ac14",
            "19e40a6778f543baa8611dd61429f9e3",
            "b6b99b767c5547c5abf9930c5ebdda89",
            "cb850da44ec04c25864a8f1351ab91bf",
            "ee9634f3d1bd4d7587c4624ce4b4d1cf",
            "6be9144aa972486497dbe1b2d7dc4eb4",
            "7504147c57cd4f9299f3eb76b1d0be12",
            "8b87bf75f3134af4aaf841f053a17e93",
            "e1f84bdeade640738ec6bcd3343f60b6",
            "61519dc12b7b45948be924313911ed60",
            "187ab89735a749a4b07c3650b1ebb66e",
            "393ab64ba6b946a084857d95cbaecef5",
            "1f04c1d7860349738bdff1c7755ceef6",
            "6cd1cb6db2b942f48db02e49a670dc49",
            "38aefcf37aeb45e189655dce5e4b26c3",
            "f50b82ee34fc4f7599102a95994e1ae2",
            "6bde9c137b5f43e497d435d857c51f37",
            "05102f8dcd5244aca4c43875cd15dfb3",
            "ec3d7e73c7ef4e84a3aedd7b7b567f63",
            "75170b0fd2874252aabdfdd4859eb748",
            "0867b312d5c74f6295d9219b39d542fb",
            "c70d559b146c4fe8b771a1f7c2dfe6fa",
            "f58815b6316a4c32830d73ddf7c1e3ec",
            "d178422db7984f9f84ea0d275c555bb3",
            "c18503476c5742289a26c6a7dabd7746",
            "cdfcfb30a8c84cb393a8218ddb0fe580",
            "01e67c93506043a19b2e0920f76bd60e",
            "e29a90824bc3414799206b704a9ab09d",
            "160df6f3d6294932bc2612e2e0b28337",
            "8cab2a533a894b73bb860cafcf5b89c8",
            "7e7284dc1d80429a9ee973eab3b14d6e",
            "9f6ee787f703461f86a1a10d4d5e6aac",
            "09fef01d671a4cd39ffce4a94400c799",
            "971bbcbe8e4a4e7dadc94b5e1eb16688",
            "002ac9e3a0e6429eaac5ba9bd82a7b1d",
            "71ede0d91ce0445e877f6e59cd2cf3fc",
            "42ac2fcebe7f4258a6f4802dcdf2cb20",
            "ca02712c598c4b908735a2a2d28812b3",
            "eea281b6e40f4ef9850d02fc79adba25",
            "7f355394fb084c8995f36d7ef33ce9dc",
            "9b45fe84383348fb87439867d27acc91",
            "09304fc509464b7aa5e9931e4a3d742d",
            "d0e6e2d299d64855979c7944ed095735",
            "7c1c8b5e33264ce298d8c18f24b7001e",
            "337d16a63c454b7a8902321a53e3eac0",
            "878d4198f3514a1697f44ee4264694d2",
            "3b0e67781c424f6a80f22f1409be0e44",
            "918446a92a9f4cc98f976a7e783549ad",
            "b8378a0340464effaf276f9e070a1e1b",
            "bcd6ab1e7d924c28a3661cf2430046ef",
            "22f86059af1449d198053e70a861b7cd",
            "b02168968ec94c93bfd245d7ac8a0d94",
            "4ad9b1563d2841b2a86b0038d48fc904"
          ]
        },
        "id": "15QM1CZQtRWr",
        "outputId": "125121cc-a309-488a-d151-3cb20fefe604"
      },
      "outputs": [
        {
          "data": {
            "application/vnd.jupyter.widget-view+json": {
              "model_id": "d58ef6e437d74c32849bf5ec4cddb7c8",
              "version_major": 2,
              "version_minor": 0
            },
            "text/plain": [
              "Downloading (…)rocessor_config.json:   0%|          | 0.00/231 [00:00<?, ?B/s]"
            ]
          },
          "metadata": {},
          "output_type": "display_data"
        },
        {
          "data": {
            "application/vnd.jupyter.widget-view+json": {
              "model_id": "6a8cb7fb38164672bbf463f0c4adb206",
              "version_major": 2,
              "version_minor": 0
            },
            "text/plain": [
              "Downloading (…)okenizer_config.json:   0%|          | 0.00/2.61k [00:00<?, ?B/s]"
            ]
          },
          "metadata": {},
          "output_type": "display_data"
        },
        {
          "data": {
            "application/vnd.jupyter.widget-view+json": {
              "model_id": "ec3ce7e4517a4037b09de316c4cd9df7",
              "version_major": 2,
              "version_minor": 0
            },
            "text/plain": [
              "Downloading spiece.model:   0%|          | 0.00/851k [00:00<?, ?B/s]"
            ]
          },
          "metadata": {},
          "output_type": "display_data"
        },
        {
          "data": {
            "application/vnd.jupyter.widget-view+json": {
              "model_id": "61519dc12b7b45948be924313911ed60",
              "version_major": 2,
              "version_minor": 0
            },
            "text/plain": [
              "Downloading (…)/main/tokenizer.json:   0%|          | 0.00/3.27M [00:00<?, ?B/s]"
            ]
          },
          "metadata": {},
          "output_type": "display_data"
        },
        {
          "data": {
            "application/vnd.jupyter.widget-view+json": {
              "model_id": "0867b312d5c74f6295d9219b39d542fb",
              "version_major": 2,
              "version_minor": 0
            },
            "text/plain": [
              "Downloading (…)cial_tokens_map.json:   0%|          | 0.00/2.20k [00:00<?, ?B/s]"
            ]
          },
          "metadata": {},
          "output_type": "display_data"
        },
        {
          "data": {
            "application/vnd.jupyter.widget-view+json": {
              "model_id": "9f6ee787f703461f86a1a10d4d5e6aac",
              "version_major": 2,
              "version_minor": 0
            },
            "text/plain": [
              "Downloading (…)lve/main/config.json:   0%|          | 0.00/4.92k [00:00<?, ?B/s]"
            ]
          },
          "metadata": {},
          "output_type": "display_data"
        },
        {
          "data": {
            "application/vnd.jupyter.widget-view+json": {
              "model_id": "d0e6e2d299d64855979c7944ed095735",
              "version_major": 2,
              "version_minor": 0
            },
            "text/plain": [
              "Downloading pytorch_model.bin:   0%|          | 0.00/1.13G [00:00<?, ?B/s]"
            ]
          },
          "metadata": {},
          "output_type": "display_data"
        }
      ],
      "source": [
        "repo_id = \"google/pix2struct-base\"\n",
        "\n",
        "processor = AutoProcessor.from_pretrained(repo_id)\n",
        "model = Pix2StructForConditionalGeneration.from_pretrained(repo_id, is_encoder_decoder=True)"
      ]
    },
    {
      "cell_type": "code",
      "execution_count": null,
      "metadata": {
        "id": "pbOXdTmPEbGi"
      },
      "outputs": [],
      "source": [
        "if LOAD_FROM_CHECKPOINT:\n",
        "    print(\"Loading model from checkpoint:\", LAST_CHECKPOINT_NAME)\n",
        "    checkpoint = torch.load(G_DRIVE_FOLDER_CHECKPOINTS + LAST_CHECKPOINT_NAME)\n",
        "\n",
        "    # Load only model weights from training on synth bootstrap dataset\n",
        "    model.load_state_dict(checkpoint[\"model_state_dict\"])\n"
      ]
    },
    {
      "cell_type": "markdown",
      "metadata": {
        "id": "8vyJVirgV8VN"
      },
      "source": [
        "## Create Dataset class"
      ]
    },
    {
      "cell_type": "markdown",
      "metadata": {
        "id": "pxls5fsNDAXL"
      },
      "source": [
        "### Find max sentence length and new unknown tokens"
      ]
    },
    {
      "cell_type": "code",
      "execution_count": null,
      "metadata": {
        "id": "f1Q8943LSO-b"
      },
      "outputs": [],
      "source": [
        "all_paths = [path.replace(\".png\", \"\") for path in os.listdir(DATASET_FOLDER) if path.endswith(\".png\")]"
      ]
    },
    {
      "cell_type": "code",
      "execution_count": null,
      "metadata": {
        "colab": {
          "base_uri": "https://localhost:8080/"
        },
        "id": "ZqMid-_0CXay",
        "outputId": "bf4c1200-7c64-4d22-e11a-a39ec32aa93e"
      },
      "outputs": [
        {
          "data": {
            "text/plain": [
              "2321"
            ]
          },
          "execution_count": 14,
          "metadata": {},
          "output_type": "execute_result"
        }
      ],
      "source": [
        "len(all_paths)"
      ]
    },
    {
      "cell_type": "code",
      "execution_count": null,
      "metadata": {
        "colab": {
          "base_uri": "https://localhost:8080/"
        },
        "id": "YEhd7D32SZrf",
        "outputId": "c6ffc57b-7130-46c6-87a7-783a2356c558"
      },
      "outputs": [
        {
          "name": "stdout",
          "output_type": "stream",
          "text": [
            "Max sentence length = 17575\n",
            "Number of new tokens = 95\n"
          ]
        }
      ],
      "source": [
        "# Find max length\n",
        "max_length = 0\n",
        "paths_filtered = []\n",
        "\n",
        "# Read text files and add new tokens to dictionary\n",
        "tokens_to_add = set()\n",
        "for path in all_paths:\n",
        "    with open(DATASET_FOLDER + path + \".txt\", \"r\") as reader:\n",
        "        splitted_text = processor.tokenizer(reader.read()).tokens()\n",
        "\n",
        "        # Check if the current sentence has the largest number of tokens\n",
        "        if len(splitted_text) > max_length:\n",
        "            max_length = len(splitted_text)\n",
        "\n",
        "        if len(splitted_text) <= MAX_SENTENCE_LEN:\n",
        "            paths_filtered.append(path)\n",
        "            tokens_to_add = tokens_to_add.union(set(splitted_text))\n",
        "\n",
        "print(f\"Max sentence length = {max_length}\")\n",
        "\n",
        "newly_added_num = processor.tokenizer.add_tokens(list(tokens_to_add))\n",
        "print(f\"Number of new tokens = {newly_added_num}\")\n",
        "\n",
        "# Resize the model's token embeddings if there are new tokens\n",
        "if newly_added_num > 0:\n",
        "    model.decoder.resize_token_embeddings(len(processor.tokenizer), pad_to_multiple_of=8)"
      ]
    },
    {
      "cell_type": "code",
      "execution_count": null,
      "metadata": {
        "id": "UQXnqCIGpfFu"
      },
      "outputs": [],
      "source": [
        "# Keep only the samples with number of tokens lower than Max Sentence Length\n",
        "all_paths = paths_filtered"
      ]
    },
    {
      "cell_type": "code",
      "execution_count": null,
      "metadata": {
        "colab": {
          "base_uri": "https://localhost:8080/"
        },
        "id": "0n9_vcTdpjtT",
        "outputId": "1f72f134-3629-4050-ee7d-bf7f9d352c96"
      },
      "outputs": [
        {
          "name": "stdout",
          "output_type": "stream",
          "text": [
            "1874\n"
          ]
        }
      ],
      "source": [
        "print(len(all_paths))"
      ]
    },
    {
      "cell_type": "markdown",
      "metadata": {
        "id": "SfKTQ5aMPtfN"
      },
      "source": [
        "### Split files into training - validation - test sets"
      ]
    },
    {
      "cell_type": "code",
      "execution_count": null,
      "metadata": {
        "colab": {
          "base_uri": "https://localhost:8080/"
        },
        "id": "FJJvSGk00jfL",
        "outputId": "db65b09d-91a6-4d6c-ff5d-d376d9dabf05"
      },
      "outputs": [
        {
          "name": "stdout",
          "output_type": "stream",
          "text": [
            "TRAIN_SET size = 1682\n",
            "VALID_SET size = 3\n",
            "TEST_SET size = 189\n"
          ]
        }
      ],
      "source": [
        "random.seed(RANDOM_SEED)\n",
        "\n",
        "# Use the same seed, so that parts remain the same\n",
        "random.shuffle(all_paths)\n",
        "\n",
        "train_len = int(TRAIN_SET_PERCENTAGE * len(all_paths))\n",
        "valid_len = int(VALID_SET_PERCENTAGE * len(all_paths))\n",
        "\n",
        "train_paths = all_paths[:train_len]\n",
        "valid_paths = all_paths[train_len:train_len+valid_len]\n",
        "test_paths = all_paths[train_len+valid_len:]\n",
        "\n",
        "print(f\"TRAIN_SET size = {len(train_paths)}\")\n",
        "print(f\"VALID_SET size = {len(valid_paths)}\")\n",
        "print(f\"TEST_SET size = {len(test_paths)}\")"
      ]
    },
    {
      "cell_type": "code",
      "execution_count": null,
      "metadata": {
        "id": "EiExjyGE1cla"
      },
      "outputs": [],
      "source": [
        "class WebUI2CodeTrainingDataset(Dataset):\n",
        "    # This is a modification of the dataset used for validation and testing\n",
        "    # In this one the sentences are already split into chunks, already having\n",
        "    # the context from the previous chunk, empty chunks are discarded\n",
        "    def __init__(self, root_dir, transform, paths):\n",
        "\n",
        "        self.root_dir = root_dir\n",
        "        self.transform = transform\n",
        "        self.paths = paths\n",
        "\n",
        "        self.max_patches = MAX_PATCHES\n",
        "        self.max_length = MAX_SENTENCE_LEN\n",
        "        self.ignore_id = -100\n",
        "\n",
        "        self.data = []\n",
        "        self.images_encoding = []\n",
        "\n",
        "        for path in tqdm(paths):\n",
        "            # Directly process the text files, and save them in the ram\n",
        "            # Do the same also for images, if there is enough space in memory\n",
        "            text_file_path = os.path.join(root_dir, path + \".txt\")\n",
        "            image_file_path = os.path.join(root_dir , path + \".png\")\n",
        "\n",
        "            # Each data entry has the following structure\n",
        "            # labels, image_encoding_idx, part\n",
        "\n",
        "            # image_encoding_idx points to an entry of images_encoding, which contains attention_mask and flattened_patches for the image\n",
        "            # Since a single image is used for multiple slices of the same text, this approach is used to save memory\n",
        "\n",
        "            # Load image\n",
        "            image = Image.open(image_file_path).convert('RGB')\n",
        "\n",
        "            if DEBUG:\n",
        "                image.show()\n",
        "\n",
        "            if self.transform:\n",
        "                image = self.transform(image)\n",
        "\n",
        "            encoding = processor(images=image, max_patches=self.max_patches, return_tensors=\"pt\")\n",
        "            encoding = {k:v.squeeze() for k,v in encoding.items()}\n",
        "\n",
        "            self.images_encoding.append(encoding)\n",
        "            image_encoding_idx = len(self.images_encoding) - 1\n",
        "\n",
        "            # Load text\n",
        "            with open(text_file_path, 'r') as f:\n",
        "                text = f.read()\n",
        "\n",
        "            if DEBUG:\n",
        "              print(\"text:\")\n",
        "              print(text)\n",
        "\n",
        "            input_ids = processor.tokenizer(\n",
        "                text,\n",
        "                max_length=self.max_length,\n",
        "                padding=\"max_length\",\n",
        "                truncation=True,\n",
        "                return_tensors=\"pt\",\n",
        "            ).input_ids\n",
        "\n",
        "            input_ids_slices = []\n",
        "\n",
        "            start_index = 0\n",
        "            end_index = CHUNK_LENGTH\n",
        "            while end_index <= MAX_SENTENCE_LEN:\n",
        "                input_ids_slices.append(input_ids[:, start_index:end_index])\n",
        "                start_index = end_index - CONTEXT_OVERLAP_LENGTH\n",
        "                end_index = start_index + CHUNK_LENGTH\n",
        "\n",
        "            for part, input_ids_slice in enumerate(input_ids_slices):\n",
        "                labels = input_ids_slice.squeeze().clone()\n",
        "\n",
        "                labels[labels == processor.tokenizer.pad_token_id] = self.ignore_id  # model doesn't need to predict pad token\n",
        "\n",
        "                # Skip slices with only padding tokens, ignore context from the previous chunk\n",
        "                if part != 0 and all(x == self.ignore_id for x in labels[CONTEXT_OVERLAP_LENGTH:]):\n",
        "                    continue\n",
        "\n",
        "                # labels, image_encoding_idx, part\n",
        "                # Save them as int32 to save ram memory\n",
        "                self.data.append((labels.to(torch.int32), image_encoding_idx, part))\n",
        "\n",
        "    def __len__(self):\n",
        "        return len(self.data)\n",
        "\n",
        "    def __getitem__(self, idx):\n",
        "        labels, image_encoding_idx, part = self.data[idx]\n",
        "        encoding = self.images_encoding[image_encoding_idx]\n",
        "        encoding[\"labels\"] = labels.to(torch.int64)\n",
        "\n",
        "        return encoding, part"
      ]
    },
    {
      "cell_type": "code",
      "execution_count": null,
      "metadata": {
        "id": "oMC2-OYYWB75"
      },
      "outputs": [],
      "source": [
        "class WebUI2CodeDataset(Dataset):\n",
        "    def __init__(self, root_dir, transform, paths):\n",
        "\n",
        "        self.root_dir = root_dir\n",
        "        self.transform = transform\n",
        "        self.paths = paths\n",
        "\n",
        "        self.max_patches = MAX_PATCHES\n",
        "        self.max_length = MAX_SENTENCE_LEN\n",
        "        self.ignore_id = -100\n",
        "\n",
        "        self.encodings = []\n",
        "\n",
        "        for path in tqdm(paths):\n",
        "            # Directly process the text files, and save them in the ram\n",
        "            # Do the same also for images, if there is enough space in memory\n",
        "            text_file_path = os.path.join(root_dir + path + \".txt\")\n",
        "            image_file_path = os.path.join(root_dir + path + \".png\")\n",
        "\n",
        "            # Load image\n",
        "            image = Image.open(image_file_path).convert('RGB')\n",
        "\n",
        "            if DEBUG:\n",
        "                image.show()\n",
        "\n",
        "            if self.transform:\n",
        "                image = self.transform(image)\n",
        "\n",
        "            encoding = processor(images=image, max_patches=self.max_patches, return_tensors=\"pt\")\n",
        "            encoding = {k:v.squeeze() for k,v in encoding.items()}\n",
        "\n",
        "            # Load text\n",
        "            with open(text_file_path, 'r') as f:\n",
        "                text = f.read()\n",
        "\n",
        "            if DEBUG:\n",
        "              print(\"text:\")\n",
        "              print(text)\n",
        "\n",
        "            input_ids = processor.tokenizer(\n",
        "                text,\n",
        "                max_length=self.max_length,\n",
        "                padding=\"max_length\",\n",
        "                truncation=True,\n",
        "                return_tensors=\"pt\",\n",
        "            ).input_ids\n",
        "\n",
        "            labels = input_ids.squeeze().clone()\n",
        "            labels[labels == processor.tokenizer.pad_token_id] = self.ignore_id  # model doesn't need to predict pad token\n",
        "\n",
        "            encoding[\"labels\"] = labels.to(torch.int32)\n",
        "\n",
        "            # For each sample save directly the encoding of both text and image\n",
        "            self.encodings.append(encoding)\n",
        "\n",
        "    def __len__(self):\n",
        "        return len(self.encodings)\n",
        "\n",
        "    def __getitem__(self, idx):\n",
        "        return self.encodings[idx]"
      ]
    },
    {
      "cell_type": "code",
      "execution_count": null,
      "metadata": {
        "colab": {
          "base_uri": "https://localhost:8080/"
        },
        "id": "WulOgKwb1aNh",
        "outputId": "f37d2f2e-88bc-4023-ea12-a18fc25f1605"
      },
      "outputs": [
        {
          "name": "stderr",
          "output_type": "stream",
          "text": [
            "100%|██████████| 1682/1682 [03:06<00:00,  9.02it/s]\n",
            "100%|██████████| 3/3 [00:00<00:00,  5.22it/s]\n"
          ]
        }
      ],
      "source": [
        "# Transformations for the image\n",
        "transform = transforms.Compose([\n",
        "    transforms.ToTensor(),  # convert PIL Image to PyTorch Tensor\n",
        "    transforms.Normalize(mean=[0.485, 0.456, 0.406], std=[0.229, 0.224, 0.225]),  # normalize for pretrained models\n",
        "])\n",
        "\n",
        "# Instantiate the CustomDataset\n",
        "train_dataset = WebUI2CodeTrainingDataset(DATASET_FOLDER, transform, train_paths)\n",
        "val_dataset = WebUI2CodeDataset(DATASET_FOLDER, transform, valid_paths)\n",
        "\n",
        "# Use DataLoader for batching and shuffling\n",
        "train_dataloader = DataLoader(train_dataset, batch_size=BATCH_SIZE, shuffle=True)\n",
        "val_dataloader = DataLoader(val_dataset, batch_size=10, shuffle=False) # Use 10 as batch for testing since they are lighter"
      ]
    },
    {
      "cell_type": "code",
      "execution_count": null,
      "metadata": {
        "colab": {
          "base_uri": "https://localhost:8080/"
        },
        "id": "RJbcAvt2eSvb",
        "outputId": "6b043ff6-31b6-4e9d-915b-00aaf15c1357"
      },
      "outputs": [
        {
          "name": "stdout",
          "output_type": "stream",
          "text": [
            "train_dataloader size = 1629\n",
            "val_dataloader size = 1\n"
          ]
        }
      ],
      "source": [
        "print(f\"train_dataloader size = {len(train_dataloader)}\")\n",
        "print(f\"val_dataloader size = {len(val_dataloader)}\")"
      ]
    },
    {
      "cell_type": "code",
      "execution_count": null,
      "metadata": {
        "id": "PqriagijAJPV"
      },
      "outputs": [],
      "source": [
        "batch = next(iter(train_dataloader))"
      ]
    },
    {
      "cell_type": "code",
      "execution_count": null,
      "metadata": {
        "id": "weky0ZtQALky"
      },
      "outputs": [],
      "source": [
        "encoding, part = batch"
      ]
    },
    {
      "cell_type": "code",
      "execution_count": null,
      "metadata": {
        "colab": {
          "base_uri": "https://localhost:8080/"
        },
        "id": "2zjLcfjQDQYg",
        "outputId": "967482ba-ee5b-4011-c330-95696374e313"
      },
      "outputs": [
        {
          "data": {
            "text/plain": [
              "tensor([[  411,   812, 11789,  ..., 18733,   389, 36022],\n",
              "        [  360,   354, 38687,  ...,   288,  4683,   393],\n",
              "        [  963,   393,  5405,  ...,  1715, 30314,   354],\n",
              "        [  411,   812, 11789,  ...,   393,  5405,   274]])"
            ]
          },
          "execution_count": 27,
          "metadata": {},
          "output_type": "execute_result"
        }
      ],
      "source": [
        "encoding[\"labels\"]"
      ]
    },
    {
      "cell_type": "code",
      "execution_count": null,
      "metadata": {
        "id": "5LzfjsX_qs5u"
      },
      "outputs": [],
      "source": [
        "labels_list = encoding[\"labels\"][0].tolist()\n",
        "\n",
        "# Filter out the -100 values\n",
        "filtered_labels = [token for token in labels_list if token != -100]\n",
        "\n",
        "# Decode the cleaned list of tokens\n",
        "decoded_text_example = processor.tokenizer.batch_decode([filtered_labels], skip_special_tokens=True)[0]\n"
      ]
    },
    {
      "cell_type": "code",
      "execution_count": null,
      "metadata": {
        "colab": {
          "base_uri": "https://localhost:8080/",
          "height": 553
        },
        "id": "_nFDTn-XrQWl",
        "outputId": "0a7ede60-f96a-4673-acc9-703f24e24068"
      },
      "outputs": [
        {
          "data": {
            "application/vnd.google.colaboratory.intrinsic+json": {
              "type": "string"
            },
            "text/plain": [
              "'<html xmlns=\"https://example.com\"> <head> <title> Ea ullamco do occaecat non laborum elit labore eiusmod </title> <link href=\"modafinilp.shop.css\" rel=\"stylesheet\" type=\"text/css\"/> </head> <body> <div id=\"wrapper\"> <div id=\"header\"> <div id=\"logo\"> <h1> Esse </h1> <h2> Quis consequat </h2> </div> <div id=\"menu\"> <ul> <li class=\"active\"> <a href=\"ref.placeholder\"> Irure </a> </li> <li> <a href=\"ref.placeholder\"> Esse culpa </a> </li> <li> <a href=\"ref.placeholder\"> Aliquip consequat </a> </li> <li> <a href=\"ref.placeholder\"> Sunt </a> </li> <li> <a href=\"ref.placeholder\"> Non nisi </a> </li> </ul> </div> </div> </div> <div id=\"page\"> <div id=\"content\"> <div class=\"post\"> <h1 class=\"title\"> Dolor ipsum officia elit amet </h1> <div class=\"entry\"> <p> Nostrud velit laboris est ullamco pariatur ad veniam eiusmod excepteur cupidatat officia ea ut pariatur voluptate lorem consectetur ea aliqua veniam amet ex laborum ex nisi nulla ea cupidatat minim sint ut non exercitation anim do sit ad incididunt magna tempor aliquip deserunt est minim ullamco deserunt nostrud ut elit fugiat proident cupidatat quis dolor ad ea quis aliqua sint deserunt sunt cupidatat labore commodo ex aute pariatur magna ea esse qui laboris eiusmod nulla nostrud veniam lorem lorem id incididunt exercitation minim cupidatat incididunt eiusmod esse commodo in lorem consequat dolore nostrud ut ad commodo duis </p> <p> Ullamco nostrud occaecat exercitation ullamco dolore </p> </div> <div class=\"meta\"> <p class=\"links\"> Commodo do dolor cupidatat pariatur officia ea nulla qui fugiat minim in occaecat in lorem eiusmod adipiscing et commodo quis reprehenderit incididunt laboris irure pariatur dolor in exercitation consectetur do irure non </p> </div> </div> <div class=\"post\"> <h2 class=\"title\"> Aute ipsum </h2> <div class=\"entry\"> <p> Et et aute occaecat </p> <p> Ea cillum quis amet reprehenderit ex incididunt est anim consequat anim proident excepteur do adipiscing labore tempor excepteur officia mollit laboris nulla adipiscing sed fugiat reprehenderit sit esse eu ut eu est ipsum et enim anim tempor quis proident veniam irure eiusmod laboris in officia nostrud cillum occaecat aliquip minim laborum ullamco duis sint ullamco duis deserunt laboris eu quis dolor mollit quis dolor in labore sit do dolore do eiusmod id eiusmod cupidatat dolore ipsum adipiscing sed minim cillum sed fugiat id excepteur ut ex sit nostrud in aliqua irure ut irure tempor nulla deserunt ex non aliquip velit irure reprehenderit ex eiusmod reprehenderit incididunt minim qui adipiscing quis et voluptate tempor velit incididunt commodo ex enim officia aliquip minim reprehenderit duis culpa lorem ipsum occaecat exercitation nulla ipsum </p> </div> <div class=\"meta\"> <p class=\"links\"> </p> </div> </div> </div> <div id=\"sidebar\"> <ul> <li id=\"search\"> <h2> Sit </h2> <form action=\"\" method=\"get\"> <fieldset> <input id=\"s\" name=\"s\" type=\"text\" value=\"\"/> <input id=\"x\" type=\"submit\" value=\"Search\"/> </fieldset> </form> </li> <li> <h2> Cupidatat </h2> <ul> <li> <a href=\"ref.placeholder\"> Id est elit occaecat </a> </li> <li> <a href=\"ref.placeholder\"> Veniam magna labore aute consequa'"
            ]
          },
          "execution_count": 30,
          "metadata": {},
          "output_type": "execute_result"
        }
      ],
      "source": [
        "decoded_text_example"
      ]
    },
    {
      "cell_type": "markdown",
      "metadata": {
        "id": "g7DngCr1FJQJ"
      },
      "source": [
        "## Training"
      ]
    },
    {
      "cell_type": "code",
      "execution_count": null,
      "metadata": {
        "id": "zkCJQz_GEM4W"
      },
      "outputs": [],
      "source": [
        "START_TOKEN_ID = PAD_TOKEN_ID = processor.tokenizer.pad_token_id"
      ]
    },
    {
      "cell_type": "markdown",
      "metadata": {
        "id": "fWSsn0vr1mV2"
      },
      "source": [
        "### Utility functions"
      ]
    },
    {
      "cell_type": "code",
      "execution_count": null,
      "metadata": {
        "id": "mq6Y22hDqn3x"
      },
      "outputs": [],
      "source": [
        "def move_to_device(data):\n",
        "    if isinstance(data, (list,tuple)):\n",
        "        return [move_to_device(x) for x in data]\n",
        "    elif isinstance(data, dict):\n",
        "        return {k: move_to_device(v) for k, v in data.items()}\n",
        "    elif isinstance(data, torch.Tensor):\n",
        "        return data.to(DEVICE)\n",
        "    else:\n",
        "        return data"
      ]
    },
    {
      "cell_type": "code",
      "execution_count": null,
      "metadata": {
        "id": "JRX7UDLE4Nh8"
      },
      "outputs": [],
      "source": [
        "def create_extended_attention_mask_for_decoder_with_context(input_shape, attention_mask, part):\n",
        "    device = attention_mask.device\n",
        "    batch_size, seq_length = input_shape\n",
        "    seq_ids = torch.arange(seq_length, device=device)\n",
        "\n",
        "    causal_mask = seq_ids[None, None, :].repeat(batch_size, seq_length, 1) <= seq_ids[None, :, None]\n",
        "\n",
        "    # Expand part to have the same shape as the relevant slice of causal_mask\n",
        "    part_expanded = part.unsqueeze(-1).unsqueeze(-1).expand(-1, seq_length, CONTEXT_OVERLAP_LENGTH)\n",
        "\n",
        "    # Create a mask with ones where part is not zero\n",
        "    context_mask = (part_expanded != 0).float()\n",
        "\n",
        "    # Apply the context_mask to the corresponding part of causal_mask\n",
        "    causal_mask[:, :, :CONTEXT_OVERLAP_LENGTH] = causal_mask[:, :, :CONTEXT_OVERLAP_LENGTH] * (1 - context_mask) + context_mask\n",
        "\n",
        "    # in case past_key_values are used we need to add a prefix ones mask to the causal mask\n",
        "    causal_mask = causal_mask.to(attention_mask.dtype)\n",
        "\n",
        "    if causal_mask.shape[1] < attention_mask.shape[1]:\n",
        "        print(\"!!should not enter here in my case!!\")\n",
        "        prefix_seq_len = attention_mask.shape[1] - causal_mask.shape[1]\n",
        "        causal_mask = torch.cat(\n",
        "            [\n",
        "                torch.ones((batch_size, seq_length, prefix_seq_len), device=device, dtype=causal_mask.dtype),\n",
        "                causal_mask,\n",
        "            ],\n",
        "            axis=-1,\n",
        "        )\n",
        "\n",
        "    extended_attention_mask = causal_mask[:, :, :] * attention_mask[:, None, :]\n",
        "    return extended_attention_mask\n"
      ]
    },
    {
      "cell_type": "code",
      "execution_count": null,
      "metadata": {
        "id": "8RMB16MR53fK"
      },
      "outputs": [],
      "source": [
        "def get_attention_mask(decoder_input_ids, part):\n",
        "    decoder_attention_mask = (decoder_input_ids.ne(PAD_TOKEN_ID).float())\n",
        "\n",
        "    # always attend on first token\n",
        "    decoder_attention_mask[:, 0] = 1\n",
        "\n",
        "    # Expand part to have the same shape as the relevant slice of decoder_attention_mask\n",
        "    part_expanded = part.unsqueeze(-1).expand(-1, CONTEXT_OVERLAP_LENGTH)\n",
        "\n",
        "    # Create a mask with ones where part is not zero\n",
        "    context_mask = (part_expanded != 0).float()\n",
        "\n",
        "    # Apply the context_mask to the corresponding part of decoder_attention_mask\n",
        "    decoder_attention_mask[:, 0:CONTEXT_OVERLAP_LENGTH] = decoder_attention_mask[:, 0:CONTEXT_OVERLAP_LENGTH] * (1 - context_mask) + context_mask\n",
        "\n",
        "    return decoder_attention_mask"
      ]
    },
    {
      "cell_type": "code",
      "execution_count": null,
      "metadata": {
        "id": "I4EwQ8iP8a9I"
      },
      "outputs": [],
      "source": [
        "def shift_right_modified(input_ids, decoder_starting_token_idx):\n",
        "\n",
        "    # shift inputs to the right\n",
        "    shifted_input_ids = input_ids.new_zeros(input_ids.shape)\n",
        "    shifted_input_ids[..., 1:] = input_ids[..., :-1].clone()\n",
        "    shifted_input_ids[..., 0] = decoder_starting_token_idx\n",
        "\n",
        "    # replace possible -100 values in labels by `pad_token_id`\n",
        "    shifted_input_ids.masked_fill_(shifted_input_ids == -100, PAD_TOKEN_ID)\n",
        "\n",
        "    return shifted_input_ids"
      ]
    },
    {
      "cell_type": "code",
      "execution_count": null,
      "metadata": {
        "id": "Mvsy0HBseyzQ"
      },
      "outputs": [],
      "source": [
        "def get_decoder_input_ids(labels_chunk, start_id):\n",
        "    return shift_right_modified(labels_chunk, start_id)"
      ]
    },
    {
      "cell_type": "code",
      "execution_count": null,
      "metadata": {
        "id": "2LqZyYsWOywQ"
      },
      "outputs": [],
      "source": [
        "def get_decoder_input_ids_and_attention_mask(labels, part):\n",
        "    decoder_input_ids = get_decoder_input_ids(labels, START_TOKEN_ID)\n",
        "    decoder_attention_mask = get_attention_mask(decoder_input_ids, part)\n",
        "    extended_decoder_attention_mask = create_extended_attention_mask_for_decoder_with_context(decoder_input_ids.shape, decoder_attention_mask, part)\n",
        "\n",
        "    return decoder_input_ids, extended_decoder_attention_mask"
      ]
    },
    {
      "cell_type": "markdown",
      "metadata": {
        "id": "TEt-owxM1puj"
      },
      "source": [
        "### Main training function"
      ]
    },
    {
      "cell_type": "code",
      "execution_count": null,
      "metadata": {
        "id": "1j0_8Yk6Gk4-"
      },
      "outputs": [],
      "source": [
        "def train_model(config, processor, model, train_dataloader, val_dataloader):\n",
        "    # Extract configuration values\n",
        "    lr = config.get(\"lr\")\n",
        "    max_epochs = config.get(\"max_epochs\")\n",
        "    num_warmup_steps = config.get(\"num_warmup_steps\")\n",
        "\n",
        "    model.to(DEVICE)\n",
        "\n",
        "    optimizer = Adafactor(model.parameters(), scale_parameter=False, relative_step=False, lr=lr, weight_decay=1e-05)\n",
        "\n",
        "    # Use total steps (i.e., max_epochs * length_of_train_data)\n",
        "    total_steps = max_epochs * len(train_dataloader)\n",
        "    scheduler = get_cosine_schedule_with_warmup(optimizer,\n",
        "                                                num_warmup_steps=num_warmup_steps,\n",
        "                                                num_training_steps=total_steps)\n",
        "\n",
        "    global_step = 0  # to keep track of total steps\n",
        "    epoch_start = 0\n",
        "\n",
        "    wandb.init(project=\"Pix2Struct\", name=\"run-\" + EXPERIMENT_NAME, config=config)\n",
        "\n",
        "    #epoch_last = epoch_start + max_epochs - 1\n",
        "    epoch_last = max_epochs - 1\n",
        "    #for epoch in range(epoch_start, epoch_start + max_epochs):\n",
        "    for epoch in range(epoch_start, max_epochs):\n",
        "        global_step, moving_avg_loss = training_loop(epoch, train_dataloader, model, config, optimizer, scheduler, global_step, epoch_last)\n",
        "\n",
        "        if config.get(\"verbose\", False):\n",
        "            print(f\"Moving Avg Loss: {moving_avg_loss:.3f}\")\n",
        "\n",
        "        wandb.log({\"moving_avg_loss\": moving_avg_loss, **{f'lr_{i}': param_group['lr'] for i, param_group in enumerate(optimizer.param_groups)}})\n",
        "\n",
        "        # Save the model after each validation step\n",
        "        save_checkpoint(model, optimizer, scheduler, epoch, global_step, wandb.run.id, EXPERIMENT_NAME, G_DRIVE_FOLDER_CHECKPOINTS)\n",
        "\n",
        "        #if epoch == 0 + epoch_start or epoch == epoch_last or (epoch + 1) % config.get(\"check_val_every_n_epoch\") == 0:\n",
        "        if epoch == epoch_last or (epoch + 1) % config.get(\"check_val_every_n_epoch\") == 0:\n",
        "            avg_bleu_score = testing_loop(val_dataloader, model, processor, config, f\"Epoch {epoch}/{epoch_last} - valid loop\")\n",
        "\n",
        "            if config.get(\"verbose\", False):\n",
        "                print(f\" Avg Bleu Score: {avg_bleu_score:.2f}\")\n",
        "\n",
        "            wandb.log({\"bleu\": avg_bleu_score})\n",
        "\n",
        "    wandb.finish()"
      ]
    },
    {
      "cell_type": "code",
      "execution_count": null,
      "metadata": {
        "id": "wg6u7CI38kMU"
      },
      "outputs": [],
      "source": [
        "def training_loop(epoch, train_dataloader, model, config, optimizer, scheduler, global_step, epoch_last):\n",
        "    model.train()\n",
        "    train_loop = tqdm(enumerate(train_dataloader), total=len(train_dataloader), desc=f\"Epoch {epoch}/{epoch_last} - train loop\")\n",
        "\n",
        "    # Extract configuration values\n",
        "    accumulate_grad_batches = config.get('accumulate_grad_batches', 1)\n",
        "    gradient_clip_val = config.get(\"gradient_clip_val\")\n",
        "\n",
        "    moving_avg_loss = 0\n",
        "    alpha = 0.1 # Smoothing factor\n",
        "\n",
        "    for step, batch in train_loop:\n",
        "        encoding, part = map(move_to_device, batch)\n",
        "        labels, flattened_patches, attention_mask = encoding[\"labels\"], encoding[\"flattened_patches\"], encoding[\"attention_mask\"]\n",
        "\n",
        "        decoder_input_ids, decoder_attention_mask = get_decoder_input_ids_and_attention_mask(labels, part)\n",
        "        outputs = model(labels=labels, flattened_patches=flattened_patches, attention_mask=attention_mask, decoder_input_ids=decoder_input_ids, decoder_attention_mask=decoder_attention_mask)\n",
        "        loss = outputs.loss\n",
        "        loss.backward()\n",
        "\n",
        "        if global_step % accumulate_grad_batches == 0 or step == len(train_dataloader) - 1:\n",
        "            if gradient_clip_val:\n",
        "                torch.nn.utils.clip_grad_norm_(model.parameters(), gradient_clip_val)\n",
        "            optimizer.step()\n",
        "            optimizer.zero_grad()\n",
        "\n",
        "        # Update the progress bar\n",
        "        train_loop.set_postfix({'loss': loss.item()}, refresh=True)\n",
        "\n",
        "        scheduler.step()\n",
        "        global_step += 1\n",
        "\n",
        "        # Update the moving average loss\n",
        "        moving_avg_loss = loss.item() if moving_avg_loss == 0 else alpha * loss.item() + (1 - alpha) * moving_avg_loss\n",
        "\n",
        "        # Log Loss after each step\n",
        "        wandb.log({\"loss\": loss.item()})\n",
        "\n",
        "    return global_step, moving_avg_loss"
      ]
    },
    {
      "cell_type": "code",
      "execution_count": null,
      "metadata": {
        "id": "RXfc_whn-qJW"
      },
      "outputs": [],
      "source": [
        "def testing_loop(testing_dataloader, model, processor, config, description):\n",
        "    model.eval()\n",
        "    bleu_scores = []\n",
        "\n",
        "    with torch.no_grad():\n",
        "        test_loop = tqdm(enumerate(testing_dataloader), total=len(testing_dataloader), desc=description)\n",
        "        for i, batch in test_loop:\n",
        "            encoding = move_to_device(batch)\n",
        "            labels, flattened_patches, attention_mask = encoding[\"labels\"], encoding[\"flattened_patches\"], encoding[\"attention_mask\"]\n",
        "\n",
        "            # Initialize total_outputs with zeros\n",
        "            total_outputs = None\n",
        "            context_from_last = None\n",
        "\n",
        "            # Initialize a mask to track which sentences are finished\n",
        "            finished_sentences_mask = torch.zeros(flattened_patches.size(0), dtype=torch.bool, device=flattened_patches.device)\n",
        "\n",
        "            for iteration in range(MAX_N_CHUNKS_PER_SENTENCE):\n",
        "\n",
        "                generate_args = {\n",
        "                    \"flattened_patches\": flattened_patches[~finished_sentences_mask],\n",
        "                    \"attention_mask\": attention_mask[~finished_sentences_mask],\n",
        "                    \"max_new_tokens\": CHUNK_LENGTH - (CONTEXT_OVERLAP_LENGTH if iteration else 0),\n",
        "                }\n",
        "\n",
        "                if iteration and context_from_last is not None:\n",
        "                    generate_args[\"decoder_input_ids\"] = context_from_last[~finished_sentences_mask]\n",
        "\n",
        "                outputs = model.generate(**generate_args)\n",
        "\n",
        "                # Remove context overlap only from the second iteration onwards\n",
        "                new_chunks = outputs if iteration == 0 else outputs[:, CONTEXT_OVERLAP_LENGTH:]\n",
        "\n",
        "                if iteration == 0:\n",
        "                    total_outputs = new_chunks\n",
        "                else:\n",
        "                    # Update total_outputs by concatenating new chunks\n",
        "                    new_chunks_with_padding_chunks = torch.full((flattened_patches.shape[0], new_chunks.shape[1]), PAD_TOKEN_ID, dtype=new_chunks.dtype, device=new_chunks.device)\n",
        "                    new_chunks_with_padding_chunks[~finished_sentences_mask] = new_chunks\n",
        "                    total_outputs = torch.cat((total_outputs, new_chunks_with_padding_chunks), dim=1)\n",
        "\n",
        "                # Update the finished_sentences_mask\n",
        "                finished_sentences_mask[~finished_sentences_mask] |= (outputs == processor.tokenizer.eos_token_id).any(dim=1)\n",
        "\n",
        "                # If all sentences are finished, exit the loop\n",
        "                if finished_sentences_mask.all():\n",
        "                    break\n",
        "\n",
        "                if outputs.shape[1] < CHUNK_LENGTH:\n",
        "                    print(\"ERROR: !! should have already exited because all sentences reached the end!!\")\n",
        "\n",
        "                # -1 because it will put in front a START_TOKEN automatically\n",
        "                context_from_last = total_outputs[:, -(CONTEXT_OVERLAP_LENGTH-1):]\n",
        "\n",
        "            predictions = processor.tokenizer.batch_decode(total_outputs, skip_special_tokens=True)\n",
        "\n",
        "            labels[labels == -100] = 0\n",
        "            answers = processor.tokenizer.batch_decode(labels, skip_special_tokens=True)\n",
        "\n",
        "            bleu_scores += [corpus_bleu([[answer]], [pred], smoothing_function=SmoothingFunction().method4) for pred, answer in zip(predictions, answers)]\n",
        "\n",
        "            avg_bleu_score = np.mean(bleu_scores)\n",
        "            test_loop.set_postfix(bleu_score=avg_bleu_score)\n",
        "\n",
        "            if config.get(\"verbose\", False):\n",
        "                for pred, answer, bleu_score in zip(predictions, answers, bleu_scores):\n",
        "                    tqdm.write(f\"\\nPrediction: {pred}\\n    Answer: {answer}\\n      Bleu: {bleu_score:.2f}\")\n",
        "\n",
        "\n",
        "    return avg_bleu_score\n"
      ]
    },
    {
      "cell_type": "code",
      "execution_count": null,
      "metadata": {
        "id": "GhiWvFFFA8n4"
      },
      "outputs": [],
      "source": [
        "def save_checkpoint(model, optimizer, scheduler, epoch, global_step, wandb_run_id, experiment_name, folder_path):\n",
        "    checkpoint = {\n",
        "        \"model_state_dict\": model.state_dict(),\n",
        "        \"optimizer_state_dict\": optimizer.state_dict(),\n",
        "        \"scheduler_state_dict\": scheduler.state_dict(),\n",
        "        \"epoch\": epoch,\n",
        "        \"global_step\": global_step,\n",
        "        'wandb_run_id': wandb_run_id\n",
        "    }\n",
        "    model_name = f\"{experiment_name}_epoch[{epoch}].pth\"\n",
        "    torch.save(checkpoint, folder_path + model_name)\n"
      ]
    },
    {
      "cell_type": "code",
      "execution_count": null,
      "metadata": {
        "id": "F6Lme6odJJK8"
      },
      "outputs": [],
      "source": [
        "config = {\n",
        "          \"batch_size\": BATCH_SIZE,\n",
        "          \"num_warmup_steps\": NUM_WARMUP_STEPS,\n",
        "          \"max_epochs\": MAX_EPOCHS,\n",
        "          \"lr\": LR,\n",
        "          \"check_val_every_n_epoch\": CHECK_VAL_EVERY_N_EPOCH,\n",
        "          \"gradient_clip_val\": GRADIENT_CLIP_VAL,\n",
        "          \"accumulate_grad_batches\": ACCUMULATE_GRAD_BATCHES,\n",
        "          \"verbose\": VERBOSE,\n",
        "}"
      ]
    },
    {
      "cell_type": "code",
      "execution_count": null,
      "metadata": {
        "id": "QxemWk5nEfZL"
      },
      "outputs": [],
      "source": [
        "def validate_config(config):\n",
        "    # Check required keys\n",
        "    required_keys = [\n",
        "        \"batch_size\",\n",
        "        \"num_warmup_steps\",\n",
        "        \"max_epochs\",\n",
        "        \"lr\",\n",
        "        \"check_val_every_n_epoch\",\n",
        "        \"gradient_clip_val\",\n",
        "        \"accumulate_grad_batches\",\n",
        "        \"verbose\"\n",
        "    ]\n",
        "    for key in required_keys:\n",
        "        if key not in config:\n",
        "            raise ValueError(f\"Key '{key}' must be present in the configuration.\")\n",
        "\n",
        "    # Check that values are in expected ranges\n",
        "    if config[\"batch_size\"] <= 0:\n",
        "        raise ValueError(\"batch_size must be positive.\")\n",
        "    if config[\"num_warmup_steps\"] < 0:\n",
        "        raise ValueError(\"num_warmup_steps must be non-negative.\")\n",
        "    if config[\"max_epochs\"] <= 0:\n",
        "        raise ValueError(\"max_epochs must be positive.\")\n",
        "    if config[\"lr\"] <= 0:\n",
        "        raise ValueError(\"Learning rate must be positive.\")\n",
        "    if config[\"check_val_every_n_epoch\"] <= 0:\n",
        "        raise ValueError(\"check_val_every_n_epoch must be positive.\")\n",
        "    if config[\"gradient_clip_val\"] < 0:\n",
        "        raise ValueError(\"gradient_clip_val must be non-negative.\")\n",
        "    if config[\"accumulate_grad_batches\"] <= 0:\n",
        "        raise ValueError(\"accumulate_grad_batches must be positive.\")\n",
        "    if not isinstance(config[\"verbose\"], bool):\n",
        "        raise ValueError(\"verbose must be a boolean value.\")\n"
      ]
    },
    {
      "cell_type": "code",
      "execution_count": null,
      "metadata": {
        "colab": {
          "base_uri": "https://localhost:8080/"
        },
        "id": "knzzKEtwEruj",
        "outputId": "08e7ec05-f12f-4386-baf4-188030b153fc"
      },
      "outputs": [
        {
          "name": "stdout",
          "output_type": "stream",
          "text": [
            "{'batch_size': 4, 'num_warmup_steps': 3000, 'max_epochs': 10, 'lr': 0.0001, 'check_val_every_n_epoch': 5, 'gradient_clip_val': 1.0, 'accumulate_grad_batches': 2.0, 'verbose': True}\n"
          ]
        }
      ],
      "source": [
        "validate_config(config)\n",
        "print(config)"
      ]
    },
    {
      "cell_type": "code",
      "execution_count": null,
      "metadata": {
        "colab": {
          "base_uri": "https://localhost:8080/",
          "height": 1000,
          "referenced_widgets": [
            "03fe231b9cd64286842ac2f1fa1a1004",
            "dc12cf8f2c714d76bdd04a2e44fe73c6",
            "f4b4b672588d49088bd0be77097fa13d",
            "1712518845bf417cba3682934183a972",
            "3ad412d528664e028f3deeee82ff3112",
            "2c73312f6e074631bfd243f4375f3310",
            "29a2fc9c865d4a2eb870e5ebea7883b7",
            "2036eb94ac5e47bc82f219cb55b4ebde"
          ]
        },
        "id": "EPfNUdrEoci8",
        "outputId": "7c81ed14-41ab-45c0-d962-6d4adda0b546"
      },
      "outputs": [
        {
          "data": {
            "application/javascript": "\n        window._wandbApiKey = new Promise((resolve, reject) => {\n            function loadScript(url) {\n            return new Promise(function(resolve, reject) {\n                let newScript = document.createElement(\"script\");\n                newScript.onerror = reject;\n                newScript.onload = resolve;\n                document.body.appendChild(newScript);\n                newScript.src = url;\n            });\n            }\n            loadScript(\"https://cdn.jsdelivr.net/npm/postmate/build/postmate.min.js\").then(() => {\n            const iframe = document.createElement('iframe')\n            iframe.style.cssText = \"width:0;height:0;border:none\"\n            document.body.appendChild(iframe)\n            const handshake = new Postmate({\n                container: iframe,\n                url: 'https://wandb.ai/authorize'\n            });\n            const timeout = setTimeout(() => reject(\"Couldn't auto authenticate\"), 5000)\n            handshake.then(function(child) {\n                child.on('authorize', data => {\n                    clearTimeout(timeout)\n                    resolve(data)\n                });\n            });\n            })\n        });\n    ",
            "text/plain": [
              "<IPython.core.display.Javascript object>"
            ]
          },
          "metadata": {},
          "output_type": "display_data"
        },
        {
          "name": "stderr",
          "output_type": "stream",
          "text": [
            "\u001b[34m\u001b[1mwandb\u001b[0m: Appending key for api.wandb.ai to your netrc file: /root/.netrc\n"
          ]
        },
        {
          "data": {
            "text/html": [
              "Tracking run with wandb version 0.15.11"
            ],
            "text/plain": [
              "<IPython.core.display.HTML object>"
            ]
          },
          "metadata": {},
          "output_type": "display_data"
        },
        {
          "data": {
            "text/html": [
              "Run data is saved locally in <code>/content/wandb/run-20230928_073744-lc6s2wuc</code>"
            ],
            "text/plain": [
              "<IPython.core.display.HTML object>"
            ]
          },
          "metadata": {},
          "output_type": "display_data"
        },
        {
          "data": {
            "text/html": [
              "Syncing run <strong><a href='https://wandb.ai/team-gs/Pix2Struct/runs/lc6s2wuc' target=\"_blank\">run-Pix2Struct_WebUI2Code_Complete_4096_LI_FULL</a></strong> to <a href='https://wandb.ai/team-gs/Pix2Struct' target=\"_blank\">Weights & Biases</a> (<a href='https://wandb.me/run' target=\"_blank\">docs</a>)<br/>"
            ],
            "text/plain": [
              "<IPython.core.display.HTML object>"
            ]
          },
          "metadata": {},
          "output_type": "display_data"
        },
        {
          "data": {
            "text/html": [
              " View project at <a href='https://wandb.ai/team-gs/Pix2Struct' target=\"_blank\">https://wandb.ai/team-gs/Pix2Struct</a>"
            ],
            "text/plain": [
              "<IPython.core.display.HTML object>"
            ]
          },
          "metadata": {},
          "output_type": "display_data"
        },
        {
          "data": {
            "text/html": [
              " View run at <a href='https://wandb.ai/team-gs/Pix2Struct/runs/lc6s2wuc' target=\"_blank\">https://wandb.ai/team-gs/Pix2Struct/runs/lc6s2wuc</a>"
            ],
            "text/plain": [
              "<IPython.core.display.HTML object>"
            ]
          },
          "metadata": {},
          "output_type": "display_data"
        },
        {
          "name": "stderr",
          "output_type": "stream",
          "text": [
            "Epoch 0/9 - train loop: 100%|██████████| 1629/1629 [20:57<00:00,  1.30it/s, loss=1.49]\n"
          ]
        },
        {
          "name": "stdout",
          "output_type": "stream",
          "text": [
            "Moving Avg Loss: 1.690\n"
          ]
        },
        {
          "name": "stderr",
          "output_type": "stream",
          "text": [
            "Epoch 1/9 - train loop: 100%|██████████| 1629/1629 [20:54<00:00,  1.30it/s, loss=1.72]\n"
          ]
        },
        {
          "name": "stdout",
          "output_type": "stream",
          "text": [
            "Moving Avg Loss: 1.373\n"
          ]
        },
        {
          "name": "stderr",
          "output_type": "stream",
          "text": [
            "Epoch 2/9 - train loop: 100%|██████████| 1629/1629 [20:54<00:00,  1.30it/s, loss=0.652]\n"
          ]
        },
        {
          "name": "stdout",
          "output_type": "stream",
          "text": [
            "Moving Avg Loss: 1.014\n"
          ]
        },
        {
          "name": "stderr",
          "output_type": "stream",
          "text": [
            "Epoch 3/9 - train loop: 100%|██████████| 1629/1629 [20:54<00:00,  1.30it/s, loss=1.27]\n"
          ]
        },
        {
          "name": "stdout",
          "output_type": "stream",
          "text": [
            "Moving Avg Loss: 1.035\n"
          ]
        },
        {
          "name": "stderr",
          "output_type": "stream",
          "text": [
            "Epoch 4/9 - train loop: 100%|██████████| 1629/1629 [20:54<00:00,  1.30it/s, loss=1.11]\n"
          ]
        },
        {
          "name": "stdout",
          "output_type": "stream",
          "text": [
            "Moving Avg Loss: 1.126\n"
          ]
        },
        {
          "name": "stderr",
          "output_type": "stream",
          "text": [
            "Epoch 4/9 - valid loop: 100%|██████████| 1/1 [04:25<00:00, 265.63s/it, bleu_score=0.132]\n"
          ]
        },
        {
          "name": "stdout",
          "output_type": "stream",
          "text": [
            "\n",
            "Prediction: <html xmlns=\"https://example.com\"> <head> <title> Anim aliquip aliquip aliquip aliquip aliquip </title> <link href=\"https://example.com\" rel=\"stylesheet\" type=\"text/css\"/> <link href=\"https://example.com\" rel=\"stylesheet\" type=\"text/css\"/> <link href=\"https://example.com\" rel=\"stylesheet\" type=\"text/css\"/> <link href=\"https://example.com\" rel=\"stylesheet\" type=\"text/css\"/> <link href=\"https://example.com\" rel=\"stylesheet\" type=\"text/css\"/> <link href=\"https://example.com\" rel=\"stylesheet\" type=\"text/css\"/> <link href=\"https://example.com\" rel=\"stylesheet\" type=\"text/css\"/> <link href=\"https://example.com\" rel=\"stylesheet\" type=\"text/css\"/> <link href=\"https://example.com\" rel=\"stylesheet\" type=\"text/css\"/> <link href=\"https://example.com\" rel=\"stylesheet\" type=\"text/css\"/> <link href=\"https://example.com\" rel=\"stylesheet\" type=\"text/css\"/> <link href=\"https://example.com\" rel=\"stylesheet\" type=\"text/css\"/> <link href=\"https://example.com\" rel=\"stylesheet\" type=\"text/css\"/> <link href=\"https://example.com\" rel=\"stylesheet\" type=\"text/css\"/> <link href=\"https://example.com\" rel=\"stylesheet\" type=\"text/css\"/> <link href=\"https://example.com\" rel=\"stylesheet\" type=\"text/css\"/> <link href=\"https://example.com\" rel=\"stylesheet\" type=\"text/css\"/> <link href=\"https://example.com\" rel=\"stylesheet\" type=\"text/css\"/> <link href=\"https://example.com\" rel=\"stylesheet\" type=\"text/css\"/> <link href=\"https://example.com\" rel=\"stylesheet\" type=\"text/css\"/> <link href=\"https://example.com\" rel=\"stylesheet\" type=\"text/css\"/> <link href=\"https://example.com\" rel=\"stylesheet\" type=\"text/css\"/> <link href=\"https://example.com\" rel=\"stylesheet\" type=\"text/css\"/> <link href=\"https://example.com\" rel=\"stylesheet\" type=\"text/css\"/> <link href=\"https://example.com\" rel=\"stylesheet\" type=\"text/css\"/> <link href=\"https://example.com\" rel=\"stylesheet\" type=\"text/css\"/> <link href=\"https://example.com\" rel=\"stylesheet\" type=\"text/css\"/> <link href=\"https://example.com\" rel=\"stylesheet\" type=\"text/css\"/> <link href=\"https://example.com\" rel=\"stylesheet\" type=\"text/css\"/> <link href=\"https://example.com\" rel=\"stylesheet\" type=\"text/css\"/> <link href=\"https://example.com\" rel=\"stylesheet\" type=\"text/css\"/> <link href=\"https://example.com\" rel=\"stylesheet\" type=\"text/css\"/> <link href=\"https://example.com\" rel=\"stylesheet\" type=\"text/css\"/> <link href=\"https://example.com\" rel=\"stylesheet\" type=\"text/css\"/> <link href=\"https://example.com\" rel=\"stylesheet\" type=\"text/css\"/> <link href=\"https://example.com\" rel=\"stylesheet\" type=\"text/css\"/> <link href=\"https://example.com\" rel=\"stylesheet\" type=\"text/css\"/> <link href=\"https://example.com\" rel=\"stylesheet\" type=\"text/css\"/> <link href=\"https://example.com\" rel=\"stylesheet\" type=\"text/css\"/> <link href=\"https://example.com\" rel=\"stylesheet\" type=\"text/css\"/> <link href=\"https://example.com\" rel=\"stylesheet\" type=\"text/css\"/> <link href=\"https://example.com\" rel=\"stylesheet\" type=\"text/css\"/> <link href=\"https://example.com\" rel=\"stylesheet\" type=\"text/css\"/> <link href=\"https://example.com\" rel=\"stylesheet\" type=\"text/css\"/> <link href=\"https://example.com\" rel=\"stylesheet\" type=\"text/css\"/> <link href=\"https://example.com\" rel=\"stylesheet\" type=\"text/css\"/> <link href=\"https://example.com\" rel=\"stylesheet\" type=\"text/css\"/> <link href=\"https://example.com\" rel=\"stylesheet\" type=\"text/css\"/> <link href=\"https://example.com\" rel=\"stylesheet\" type=\"text/css\"/> <link href=\"https://example.com\" rel=\"stylesheet\" type=\"text/css\"/> <link href=\"https://example.com\" rel=\"stylesheet\" type=\"text/css\"/> <link href=\"https://example.com\" rel=\"stylesheet\" type=\"text/css\"/> <link href=\"https://example.com\" rel=\"stylesheet\" type=\"text/css\"/> <link href=\"https://example.com\" rel=\"stylesheet\" type=\"text/css\"/> <link href=\"https://example.com\" rel=\"stylesheet\" type=\"text/css\"/> <link href=\"https://example.com\" rel=\"stylesheet\" type=\"text/css\"/> <link href=\"https://example.com\" rel=\"stylesheet\" type=\"text/css\"/> <link href=\"https://example.com\" rel=\"stylesheet\" type=\"text/css\"/> <link href=\"https://example.com\" rel=\"stylesheet\" type=\"text/css\"/> <link href=\"https://example.com\" rel=\"stylesheet\" type=\"text/css\"/> <link href=\"https://example.com\" rel=\"stylesheet\" type=\"text/css\"/> <link href=\"https://example.com\" rel=\"stylesheet\" type=\"text/css\"/> <link href=\"https://example.com\" rel=\"stylesheet\" type=\"text/css\"/> <link href=\"https://example.com\" rel=\"stylesheet\" type=\"text/css\"/> <link href=\"https://example.com\" rel=\"stylesheet\" type=\"text/css\"/> <link href=\"https://example.com\" rel=\"stylesheet\" type=\"text/css\"/> <link href=\"https://example.com\" rel=\"stylesheet\" type=\"text/css\"/> <link href=\"https://example.com\" rel=\"stylesheet\" type=\"text/css\"/> <link href=\"https://example.com\" rel=\"stylesheet\" type=\"text/css\"/> <link href=\"https://example.com\" rel=\"stylesheet\" type=\"text/css\"/> <link href=\"https://example.com\" rel=\"stylesheet\" type=\"text/css\"/> <link href=\"https://example.com\" rel=\"stylesheet\" type=\"text/css\"/> <link href=\"https://example.com\" rel=\"stylesheet\" type=\"text/css\"/> <link href=\"https://example.com\" rel=\"stylesheet\" type=\"text/css\"/> <link href=\"https://example.com\" rel=\"stylesheet\" type=\"text/css\"/> <link href=\"https://example.com\" rel=\"stylesheet\" type=\"text/css\"/> <link href=\"https://example.com\" rel=\"stylesheet\" type=\"text/css\"/> <link href=\"https://example.com\" rel=\"stylesheet\" type=\"text/css\"/> <link href=\"https://example.com\" rel=\"stylesheet\" type=\"text/css\"/> <link href=\"https://example.com\" rel=\"stylesheet\" type=\"text/css\"/> <link href=\"https://example.com\" rel=\"stylesheet\" type=\"text/css\"/> <link href=\"https://example.com\" rel=\"stylesheet\" type=\"text/css\"/> <link href=\"https://example.com\" rel=\"stylesheet\" type=\"text/css\"/> <link href=\"https://example.com\" rel=\"stylesheet\" type=\"text/css\"/> <link href=\"https://example.com\" rel=\"stylesheet\" type=\"text/css\"/> <link href=\"https://example.com\" rel=\"stylesheet\" type=\"text/css\"/> <link href=\"https://example.com\" rel=\"stylesheet\" type=\"text/css\"/> <link href=\"https://example.com\" rel=\"stylesheet\" type=\"text/css\"/> <link href=\"https://example.com\" rel=\"stylesheet\" type=\"text/css\"/> <link href=\"https://example.com\" rel=\"stylesheet\" type=\"text/css\"/> <link href=\"https://example.com\" rel=\"stylesheet\" type=\"text/css\"/> <link href=\"https://example.com\" rel=\"stylesheet\" type=\"text/css\"/> <link href=\"https://example.com\" rel=\"stylesheet\" type=\"text/css\"/> <link href=\"https://example.com\" rel=\"stylesheet\" type=\"text/css\"/> <link href=\"https://example.com\" rel=\"stylesheet\" type=\"text/css\"/> <link href=\"https://example.com\" rel=\"stylesheet\" type=\"text/css\"/> <link href=\"https://example.com\" rel=\"stylesheet\" type=\"text/css\"/> <link href=\"https://example.com\" rel=\"stylesheet\" type=\"text/css\"/> <link href=\"https://example.com\" rel=\"stylesheet\" type=\"text/css\"/> <link href=\"https://example.com\" rel=\"stylesheet\" type=\"text/css\"/> <link href=\"https://example.com\" rel=\"stylesheet\" type=\"text/css\"/> <link href=\"https://example.com\" rel=\"stylesheet\" type=\"text/css\"/> <link href=\"https://example.com\" rel=\"stylesheet\" type=\"text/css\"/> <link href=\"https://example.com\" rel=\"stylesheet\" type=\"text/css\"/> <link href=\"https://example.com\" rel=\"stylesheet\" type=\"text/css\"/> <link href=\"https://example.com\" rel=\"stylesheet\" type=\"text/css\"/> <link href=\"https://example.com\" rel=\"stylesheet\" type=\"text/css\"/> <link href=\"https://example.com\" rel=\"stylesheet\" type=\"text/css\"/> <link href=\"https://example.com\" rel=\"stylesheet\" type=\"text/css\"/> <link href=\"https://example.com\" rel=\"stylesheet\" type=\"text/css\"/> <link href=\"https://example.com\" rel=\"stylesheet\" type=\"text/css\"/> <link href=\"https://example.com\" rel=\"stylesheet\" type=\"text/css\"/> <link href=\"https://example.com\" rel=\"stylesheet\" type=\"text/css\"/> <link href=\"https://example.com\" rel=\"stylesheet\" type=\"text/css\"/> <link href=\"https://example.com\" rel=\"stylesheet\" type=\"text/css\"/> <link href=\"https://example.com\" rel=\"stylesheet\" type=\"text/css\"/> <link href=\"https://example.com\" rel=\"stylesheet\" type=\"text/css\"/> <link href=\"https://example.com\" rel=\"stylesheet\" type=\"text/css\"/> <link href=\"https://example.com\" rel=\"stylesheet\" type=\"text/css\"/> <link href=\"https://example.com\" rel=\"stylesheet\" type=\"text/css\"/> <link href=\"https://example.com\" rel=\"stylesheet\" type=\"text/css\"/> <link href=\"https://example.com\" rel=\"stylesheet\" type=\"text/css\"/> <link href=\"https://example.com\" rel=\"stylesheet\" type=\"text/css\"/> <link href=\"https://example.com\" rel=\"stylesheet\" type=\"text/css\"/> <link href=\"https://example.com\" rel=\"stylesheet\" type=\"text/css\"/> <link href=\"https://example.com\" rel=\"stylesheet\" type=\"text/css\"/> <link href=\"https://example.com\" rel=\"stylesheet\" type=\"text/css\"/> <link href=\"https://example.com\" rel=\"stylesheet\" type=\"text/css\"/> <link href=\"https://example.com\" rel=\"stylesheet\" type=\"text/css\"/> <link href=\"https://example.com\" rel=\"stylesheet\" type=\"text/css\"/> <link href=\"https://example.com\" rel=\"stylesheet\" type=\"text/css\"/> <link href=\"https://example.com\" rel=\"stylesheet\" type=\"text/css\"/> <link href=\"https://example.com\" rel=\"stylesheet\" type=\"text/css\"/> <link href=\"https://example.com\" rel=\"stylesheet\" type=\"text/css\"/> <link href=\"https://example.com\" rel=\"stylesheet\" type=\"text/css\"/> <link href=\"https://example.com\" rel=\"stylesheet\" type=\"text/css\"/> <link href=\"https://example.com\" rel=\"stylesheet\" type=\"text/css\"/> <link href=\"https://example.com\" rel=\"stylesheet\" type=\"text/css\"/> <link href=\"https://example.com\" rel=\"stylesheet\" type=\"text/css\"/> <link href=\"https://example.com\" rel=\"stylesheet\" type=\"text/css\"/> <link href=\"https://example.com\" rel=\"stylesheet\" type=\"text/css\"/> <link href=\"https://example.com\" rel=\"stylesheet\" type=\"text/css\"/> <link href=\"https://example.com\" rel=\"stylesheet\" type=\"text/css\"/> <link href=\"https://example.com\" rel=\"stylesheet\" type=\"text/css\"/> <link href=\"https://example.com\" rel=\"stylesheet\" type=\"text/css\"/> <link href=\"https://example.com\" rel=\"stylesheet\" type=\"text/css\"/> <link href=\"https://example.com\" rel=\"stylesheet\" type=\"text/css\"/> <link href=\"https://example.com\" rel=\"stylesheet\" type=\"text/css\"/> <link href=\"https://example.com\" rel=\"stylesheet\" type=\"text/css\"/> <link href=\"https://example.com\" rel=\"stylesheet\" type=\"text/css\"/> <link href=\"https://example.com\" rel=\"stylesheet\" type=\"text/css\"/> <link href=\"https://example.com\" rel=\"stylesheet\" type=\"text/css\"/> <link href=\"https://example.com\" rel=\"stylesheet\" type=\"text/css\"/> <link href=\"https://example.com\" rel=\"stylesheet\" type=\"text/css\"/> <link href=\"https://example.com\" rel=\"stylesheet\" type=\"text/css\"/> <link href=\"https://example.com\" rel=\"stylesheet\" type=\"text/css\"/> <link href=\"https://example.com\" rel=\"stylesheet\" type=\"text/css\"/> <link href=\"https://example.com\" rel=\"stylesheet\" type=\"text/css\"/> <link href=\"https://example.com\" rel=\"stylesheet\" type=\"text/css\"/> <link href=\"https://example.com\" rel=\"stylesheet\" type=\"text/css\"/> <link href=\"https://example.com\" rel=\"stylesheet\" type=\"text/css\"/> <link href=\"https://example.com\" rel=\"stylesheet\" type=\"text/css\"/> <link href=\"https://example.com\" rel=\"stylesheet\" type=\"text/css\"/> <link href=\"https://example.com\" rel=\"stylesheet\" type=\"text/css\"/> <link href=\"https://example.com\" rel=\"stylesheet\" type=\"text/css\"/> <link href=\"https://example.com\" rel=\"stylesheet\" type=\"text/css\"/> <link href=\"https://example.com\" rel=\"stylesheet\" type=\"text/css\"/> <link href=\"https://example.com\" rel=\"stylesheet\" type=\"text/css\"/> <link href=\"https://example.com\" rel=\"stylesheet\" type=\"text/css\"/> <link href=\"https://example.com\" rel=\"stylesheet\" type=\"text/css\"/> <link href=\"https://example.com\" rel=\"stylesheet\" type=\"text/css\"/> <link href=\"https://example.com\" rel=\"stylesheet\" type=\"text/css\"/> <link href=\"https://example.com\" rel=\"stylesheet\" type=\"text/css\"/> <link href=\"https://example.com\" rel=\"stylesheet\" type=\"text/css\"/> <link href=\"https://example.com\" rel=\"stylesheet\" type=\"text/css\"/> <link href=\"https://example.com\" rel=\"stylesheet\" type=\"text/css\"/> <link href=\"https://example.com\" rel=\"stylesheet\" type=\"text/css\"/> <link href=\"https://example.com\" rel=\"stylesheet\" type=\"text/css\"/> <link href=\"https://example.com\" rel=\"stylesheet\" type=\"text/css\"/> <link href=\"https://example.com\" rel=\"stylesheet\" type=\"text/css\"/> <link href=\"https://example.com\" rel=\"stylesheet\" type=\"text/css\"/> <link href=\"https://example.com\" rel=\"stylesheet\" type=\"text/css\"/> <link href=\"https://example.com\" rel=\"stylesheet\" type=\"text/css\"/> <link href=\"https://example.com\" rel=\"stylesheet\" type=\"text/css\"/> <link href=\"https://example.com\" rel=\"stylesheet\" type=\"text/css\"/> <link href=\"https://example.com\" rel=\"stylesheet\" type=\"text/css\"/> <link href=\"https://example.com\" rel=\"stylesheet\" type=\"text/css\"/> <link href=\"https://example.com\" rel=\"stylesheet\" type=\"text/css\"/> <link href=\"https://example.com\" rel=\"stylesheet\" type=\"text/css\"/> <link href=\"https://example.com\" rel=\"stylesheet\" type=\"text/css\"/> <link href=\"https://example.com\" rel=\"stylesheet\" type=\"text/css\"/> <link href=\"https://example.com\" rel=\"stylesheet\" type=\"text/css\"/> <link href=\"https://example.com\" rel=\"stylesheet\" type=\"text/css\"/> <link href=\"https://example.com\" rel=\"stylesheet\" type=\"text/css\"/> <link href=\"https://example.com\" rel=\"stylesheet\" type=\"text/css\"/> <link href=\"https://example.com\" rel=\"stylesheet\" type=\"text/css\"/> <link href=\"https://example.com\" rel=\"stylesheet\" type=\"text/css\"/> <link href=\"https://example.com\" rel=\"stylesheet\" type=\"text/css\"/> <link href=\"https://example.com\" rel=\"stylesheet\" type=\"text/css\"/> <link href=\"https://example.com\" rel=\"stylesheet\" type=\"text/css\"/> <link href=\"https://example.com\" rel=\"stylesheet\" type=\"text/css\"/> <link href=\"https://example.com\" rel=\"stylesheet\" type=\"text/css\"/> <link href=\"https://example.com\" rel=\"stylesheet\" type=\"text/css\"/> <\n",
            "    Answer: <html lang=\"en\"> <head> <title> Do aliqua aliqua </title> <link crossorigin=\"anonymous\" href=\"datacite.org.css\" integrity=\"sha512-1PKOgIY59xJ8Co8+NE6FZ+LOAZKjy+KY8iq0G4B3CyeY6wYHN3yt9PW0XpSriVlkMXe40PTKnXrLnZ9+fkDaog==\" rel=\"stylesheet\"/> <link href=\"ref.placeholder\" rel=\"stylesheet\" type=\"text/css\"/> <link href=\"datacite.org.css\" rel=\"stylesheet\" type=\"text/css\"/> <link href=\"ref.placeholder\" rel=\"icon\" type=\"image/ico\"/> </head> <body> <nav class=\"navbar navbar-default navbar-fixed-top\" role=\"navigation\"> <div class=\"container\"> <div class=\"navbar-header\"> <button class=\"navbar-toggle\" data-target=\"#bs-example-navbar-collapse-1\" data-toggle=\"collapse\" type=\"button\"> <span class=\"sr-only\"> Adipiscing cillum </span> <span class=\"icon-bar\"> </span> <span class=\"icon-bar\"> </span> <span class=\"icon-bar\"> </span> </button> <a class=\"navbar-brand\" href=\"ref.placeholder\"> </a> </div> <div class=\"collapse navbar-collapse\" id=\"bs-example-navbar-collapse-1\"> <ul class=\"nav navbar-nav navbar-right\"> <li class=\"dropdown\"> <a aria-expanded=\"false\" aria-haspopup=\"true\" class=\"dropdown-toggle\" data-toggle=\"dropdown\" href=\"ref.placeholder\" role=\"button\"> Sed mollit eu <span class=\"caret\"> </span> </a> <ul class=\"dropdown-menu\"> <li> <a href=\"ref.placeholder\"> Nulla adipiscing excepteur </a> </li> <li class=\"divider\" role=\"separator\"> </li> <li> <a href=\"ref.placeholder\"> Ea </a> </li> <li class=\"divider\" role=\"separator\"> </li> <li> <a href=\"ref.placeholder\"> Occaecat </a> </li> <li class=\"divider\" role=\"separator\"> </li> <li> <a href=\"ref.placeholder\"> Ea commodo </a> </li> <li class=\"divider\" role=\"separator\"> </li> <li> <a href=\"ref.placeholder\"> Mollit </a> </li> <li class=\"divider\" role=\"separator\"> </li> <li> <a href=\"ref.placeholder\"> Officia ullamco </a> </li> </ul> </li> <li class=\"dropdown\"> <a aria-expanded=\"false\" aria-haspopup=\"true\" class=\"dropdown-toggle\" data-toggle=\"dropdown\" href=\"ref.placeholder\" role=\"button\"> Nostrud qui <span class=\"caret\"> </span> </a> <ul class=\"dropdown-menu\"> <li> <a href=\"https://example.com\"> Ut esse adipiscing tempor </a> </li> <li class=\"divider\" role=\"separator\"> </li> <li> <a href=\"https://example.com\"> Cillum irure adipiscing id </a> </li> <li class=\"divider\" role=\"separator\"> </li> <li> <a href=\"ref.placeholder\"> Culpa tempor cillum </a> </li> <li class=\"divider\" role=\"separator\"> </li> <li> <a href=\"ref.placeholder\"> Ad nulla ipsum aliqua aute in velit consectetur reprehenderit reprehenderit lorem esse tempor </a> </li> </ul> </li> <li class=\"dropdown\"> <a aria-expanded=\"false\" aria-haspopup=\"true\" class=\"dropdown-toggle\" data-toggle=\"dropdown\" href=\"ref.placeholder\" role=\"button\"> Voluptate officia <span class=\"caret\"> </span> </a> <ul class=\"dropdown-menu\"> <li> <a href=\"https://example.com\"> Ea magna </a> </li> <li class=\"divider\" role=\"separator\"> </li> <li> <a href=\"https://example.com\"> Cillum </a> </li> <li class=\"divider\" role=\"separator\"> </li> <li> <a href=\"ref.placeholder\"> Eiusmod velit </a> </li> </ul> </li> <li class=\"dropdown\"> <a aria-expanded=\"false\" aria-haspopup=\"true\" class=\"dropdown-toggle\" data-toggle=\"dropdown\" href=\"ref.placeholder\" role=\"button\"> Duis tempor <span class=\"caret\"> </span> </a> <ul class=\"dropdown-menu\"> <li> <a href=\"ref.placeholder\"> Veniam </a> </li> <li class=\"divider\" role=\"separator\"> </li> <li> <a href=\"ref.placeholder\"> Ea </a> </li> <li class=\"divider\" role=\"separator\"> </li> <li> <a href=\"ref.placeholder\"> Consectetur incididunt </a> </li> <li class=\"divider\" role=\"separator\"> </li> <li> <a href=\"ref.placeholder\"> Consectetur aute </a> </li> <li class=\"divider\" role=\"separator\"> </li> <li> <a href=\"ref.placeholder\"> Sed </a> </li> <li class=\"divider\" role=\"separator\"> </li> <li> <a href=\"ref.placeholder\"> Non laboris </a> </li> <li class=\"divider\" role=\"separator\"> </li> <li> <a href=\"ref.placeholder\"> Aute enim sed </a> </li> <li class=\"divider\" role=\"separator\"> </li> <li> <a href=\"ref.placeholder\"> Commodo veniam mollit excepteur </a> </li> <li class=\"divider\" role=\"separator\"> </li> <li> <a href=\"ref.placeholder\"> Nulla voluptate officia cillum enim eu laboris minim do adipiscing sint ut pariatur ipsum ex ea </a> </li> <li class=\"divider\" role=\"separator\"> </li> <li> <a href=\"ref.placeholder\"> Excepteur veniam dolore cupidatat qui magna ipsum sit ad ullamco enim ea tempor consequat minim labore qui lorem proident </a> </li> </ul> </li> <li class=\"active\"> <a href=\"ref.placeholder\"> Est laborum magna </a> <span class=\"sr-only\"> Sit </span> </li> <li> <a href=\"https://example.com\"> Labore </a> </li> <li> <a href=\"ref.placeholder\"> <i class=\"fas fa-envelope fa-lg\"> </i> </a> </li> <li> <a href=\"https://example.com\"> <i class=\"fab fa-twitter fa-lg\"> </i> </a> </li> </ul> </div> </div> </nav> <header class=\"image-bg-fixed-height randimg\" style='background-image:url(\"images/banner_figshare.jpg\")'> <div class=\"jumbotron\"> <h1> Consequat deserunt incididunt </h1> <div class=\"row\"> <div class=\"col-md-2\"> </div> <div class=\"col-md-8\"> <p> Ad nostrud non ut </p> </div> <div class=\"col-md-2\"> </div> </div> <p> <a class=\"btn btn-primary btn-lg\" href=\"ref.placeholder\" role=\"button\"> Commodo nulla </a> </p> </div> </header> <section> <div class=\"container\"> <div class=\"row\"> <div class=\"col-md-3\"> <h1 class=\"section-heading\"> <img alt=\"Home search\" src=\"../../images/default_img.svg\"/> </h1> <p class=\"section-paragraph\"> Culpa dolor id sed nulla elit laborum deserunt officia esse velit enim qui do deserunt ipsum in pariatur minim nulla duis sit eu nostrud esse esse nostrud fugiat commodo </p> </div> <div class=\"col-md-3\"> <h1 class=\"section-heading\"> <img alt=\"Home reuse\" src=\"../../images/default_img.svg\"/> </h1> <p class=\"section-paragraph\"> Voluptate aliquip sint tempor aute do occaecat cupidatat nisi eu sint aute do nisi sit est esse laboris cupidatat veniam laboris magna officia nulla laboris commodo occaecat adipiscing est mollit in consectetur minim </p> </div> <div class=\"col-md-3\"> <h1 class=\"section-heading\"> <img alt=\"Home quotes\" src=\"../../images/default_img.svg\"/> </h1> <p class=\"section-paragraph\"> Ullamco lorem nostrud irure culpa anim in lorem labore amet enim voluptate proident minim non ipsum sunt lorem consectetur mollit excepteur culpa dolore ea velit nostrud esse id fugiat culpa </p> </div> <div class=\"col-md-3\"> <h1 class=\"section-heading\"> <img alt=\"Home link\" src=\"../../images/default_img.svg\"/> </h1> <p class=\"section-paragraph\"> Id labore ea et quis tempor esse consectetur sit enim dolore nisi veniam pariatur consectetur elit reprehenderit anim pariatur cupidatat est cillum et sunt in magna quis non laboris culpa aliqua </p> </div> </div> </div> </section> <section> <div class=\"container-fluid bg-primary\"> <div class=\"row\"> <div class=\"col-md-12\"> <h1 class=\"svc-heading\"> Proident pariatur do qui </h1> </div> <div class=\"container\"> <div class=\"row text-center\"> <div class=\"col-md-4 col-sm-4 svc-item\"> <div class=\"thumbnail\"> <div class=\"caption\"> <a href=\"https://example.com\"> <img alt=\"Fabrica\" src=\"../../images/default_img.jpeg\"/> </a> <p> Sint id cupidatat elit esse consectetur ad </p> </div> </div> </div> <div class=\"col-md-4 col-sm-4 svc-item\"> <div class=\"thumbnail\"> <div class=\"caption\"> <a href=\"https://example.com\"> <img alt=\"Home search2\" src=\"../../images/default_img.svg\"/> </a> <p> Quis irure sunt sint proident </p> </div> </div> </div> <div class=\"col-md-4 col-sm-4 svc-item\"> <div class=\"thumbnail\"> <div class=\"caption\"> <a href=\"https://example.com\"> <img alt=\"Home api\" src=\"../../images/default_img.jpeg\"/> </a> <p> Cillum non irure nisi </p> </div> </div> </div> </div> </div> </div> </div> </section> <footer class=\"footer\"> <div class=\"container-fluid bg-primary\"> <div class=\"container\"> <div class=\"col-md-3 col-sm-3\"> <h4> Magna aute </h4> <ul> <li> <a href=\"ref.placeholder\"> Pariatur cupidatat et </a> </li> <li> <a href=\"ref.placeholder\"> Sit </a> </li> <li> <a href=\"ref.placeholder\"> Nulla </a> </li> <li> <a href=\"ref.placeholder\"> Sed consequat </a> </li> <li> <a href=\"ref.placeholder\"> Sit </a> </li> <li> <a href=\"ref.placeholder\"> Duis consequat </a> </li> </ul> </div> <div class=\"col-md-3 col-sm-3\"> <h4> Nostrud </h4> <ul> <li> <a href=\"https://example.com\"> Consectetur enim exercitation ipsum </a> </li> <li> <a href=\"https://example.com\"> Veniam dolore ipsum irure </a> </li> <li> <a href=\"ref.placeholder\"> Minim amet id </a> </li> <li> <a href=\"ref.placeholder\"> Tempor commodo commodo reprehenderit sit consectetur sunt et lorem excepteur quis veniam non sunt aute exercitation veniam </a> </li> </ul> </div> <div class=\"col-md-3 col-sm-3\"> <h4> Amet </h4> <ul> <li> <a href=\"https://example.com\"> Laboris aliqua </a> </li> <li> <a href=\"https://example.com\"> Ex </a> </li> <li> <a href=\"ref.placeholder\"> Reprehenderit deserunt do aute esse enim consequat proident incididunt mollit eiusmod amet do culpa mollit esse eu </a> </li> </ul> <h4> Labore </h4> <ul> <li> <a href=\"ref.placeholder\"> Veniam </a> </li> <li> <a href=\"ref.placeholder\"> Proident </a> </li> <li> <a href=\"ref.placeholder\"> Sit veniam </a> </li> <li> <a href=\"ref.placeholder\"> Voluptate et reprehenderit in minim sint tempor lorem lorem eu ipsum magna enim laboris consectetur enim veniam </a> </li> <li> <a href=\"ref.placeholder\"> Aute </a> </li> <li> <a href=\"ref.placeholder\"> Eiusmod et nulla culpa ullamco velit sit mollit velit proident nostrud in laboris amet labore officia id </a> </li> <li> <a href=\"ref.placeholder\"> Culpa sunt laborum </a> </li> <li> <a href=\"ref.placeholder\"> Dolor nisi ut et </a> </li> <li> <a href=\"ref.placeholder\"> Non do velit do duis </a> </li> <li> <a href=\"ref.placeholder\"> Sed ex veniam anim irure ut eiusmod anim minim non cillum incididunt aliquip in commodo sint deserunt sunt nisi id mollit nulla ipsum </a> </li> </ul> </div> <div class=\"col-md-3 col-sm-3\"> <h4 class=\"share\"> Deserunt labore </h4> <a class=\"share\" href=\"mailto:support@datacite.org\"> <i class=\"fas fa-envelope\"> </i> </a> <a class=\"share\" href=\"https://example.com\"> <i class=\"fas fa-blog\"> </i> </a> <a class=\"share\" href=\"https://example.com\"> <i class=\"fab fa-twitter\"> </i> </a> <a class=\"share\" href=\"https://example.com\"> <i class=\"fab fa-github\"> </i> </a> <a class=\"share\" href=\"https://example.com\"> <i class=\"fab fa-youtube\"> </i> </a> <a class=\"share\" href=\"https://example.com\"> <i class=\"fab fa-linkedin\"> </i> </a> <a class=\"share\" href=\"https://example.com\" rel=\"me\"> <i class=\"fab fa-mastodon\"> </i> </a> <ul class=\"contact\"> <li> <a href=\"ref.placeholder\"> Consectetur </a> </li> <li> <a href=\"ref.placeholder\"> Proident velit ipsum </a> </li> <li> <a href=\"ref.placeholder\"> Officia excepteur velit excepteur deserunt in ex pariatur dolor eu nisi velit qui aliqua consectetur in culpa </a> </li> </ul> </div> </div> </div> </footer> <div id=\"consent\"> <div class=\"CookieConsent MY_CONTAINER_CLASS\" style=\"align-items:baseline;background:rgb(53, 53, 53);color:white;display:flex;justify-content:space-between;left:0px;position:fixed;width:100%;z-index:999;font-size:16px;height:95px;bottom:0px\"> <div class=\"MY_CONTENT_CLASS\" style=\"flex:1 0 300px;margin:15px\"> Reprehenderit non laborum magna pariatur veniam ad amet cupidatat elit est exercitation dolore labore fugiat mollit proident aliqua irure anim reprehenderit deserunt consequat ex nisi quis velit cupidatat do dolore ipsum amet elit labore cillum aliqua nulla tempor laboris occaecat dolore duis proident id eiusmod aliquip velit do enim voluptate anim <a href=\"https://example.com\" rel=\"noreferrer\" style=\"color:rgb(254, 205, 35)\"> Cupidatat laboris </a> Cupidatat sunt aliqua ullamco dolore laboris irure labore fugiat est cupidatat aute laborum duis esse exercitation pariatur esse sed quis cillum adipiscing velit </div> <div class=\"MY_BUTTON_WRAPPER_CLASS\"> <button aria-label=\"Decline cookies\" class=\"MY_DECLINE_BUTTON_CLASS\" id=\"rcc-decline-button\" style=\"background:rgb(193, 42, 42);border:0px;border-radius:0px;box-shadow:none;color:rgb(229, 229, 229);cursor:pointer;flex:0 0 auto;padding:5px 10px;margin:15px\"> Sed </button> <button aria-label=\"Accept cookies\" id=\"rcc-confirm-button\" style=\"background:rgb(255, 212, 45);border:0px;border-radius:0px;box-shadow:none;color:black;cursor:pointer;flex:0 0 auto;padding:5px 10px;margin:15px\"> Tempor </button> </div> </div> </div> <div data-ga=\"UA-22806196-8\" id=\"ga\"> <div> </div> </div> </body> </html> /* START CSS */.fab,.fas { display: inline-block; font-variant: normal; text-rendering: auto; }.fa-lg { font-size: 1.33333em; vertical-align: -.0667em }.sr-only { border: 0; clip: rect(0,0,0,0); height: 1px; margin: -1px; overflow: hidden; padding: 0; position: absolute; width: 1px }.fab { font-family: \"Font Awesome 5 Brands\" }.fab { font-weight: 400 }.fas { font-family: \"Font Awesome 5 Free\" }.fas { font-weight: 900 } error\n",
            "      Bleu: 0.18\n",
            "\n",
            "Prediction: <html xmlns=\"https://example.com\"> <head> <title> Anim aliquip aliquip aliquip aliquip aliquip aliquip </title> <link href=\"https://example.com\" rel=\"stylesheet\" type=\"text/css\"/> <link href=\"https://example.com\" rel=\"stylesheet\" type=\"text/css\"/> <link href=\"https://example.com\" rel=\"stylesheet\" type=\"text/css\"/> <link href=\"https://example.com\" rel=\"stylesheet\" type=\"text/css\"/> <link href=\"https://example.com\" rel=\"stylesheet\" type=\"text/css\"/> <link href=\"https://example.com\" rel=\"stylesheet\" type=\"text/css\"/> <link href=\"https://example.com\" rel=\"stylesheet\" type=\"text/css\"/> <link href=\"https://example.com\" rel=\"stylesheet\" type=\"text/css\"/> <link href=\"https://example.com\" rel=\"stylesheet\" type=\"text/css\"/> <link href=\"https://example.com\" rel=\"stylesheet\" type=\"text/css\"/> <link href=\"https://example.com\" rel=\"stylesheet\" type=\"text/css\"/> <link href=\"https://example.com\" rel=\"stylesheet\" type=\"text/css\"/> <link href=\"https://example.com\" rel=\"stylesheet\" type=\"text/css\"/> <link href=\"https://example.com\" rel=\"stylesheet\" type=\"text/css\"/> <link href=\"https://example.com\" rel=\"stylesheet\" type=\"text/css\"/> <link href=\"https://example.com\" rel=\"stylesheet\" type=\"text/css\"/> <link href=\"https://example.com\" rel=\"stylesheet\" type=\"text/css\"/> <link href=\"https://example.com\" rel=\"stylesheet\" type=\"text/css\"/> <link href=\"https://example.com\" rel=\"stylesheet\" type=\"text/css\"/> <link href=\"https://example.com\" rel=\"stylesheet\" type=\"text/css\"/> <link href=\"https://example.com\" rel=\"stylesheet\" type=\"text/css\"/> <link href=\"https://example.com\" rel=\"stylesheet\" type=\"text/css\"/> <link href=\"https://example.com\" rel=\"stylesheet\" type=\"text/css\"/> <link href=\"https://example.com\" rel=\"stylesheet\" type=\"text/css\"/> <link href=\"https://example.com\" rel=\"stylesheet\" type=\"text/css\"/> <link href=\"https://example.com\" rel=\"stylesheet\" type=\"text/css\"/> <link href=\"https://example.com\" rel=\"stylesheet\" type=\"text/css\"/> <link href=\"https://example.com\" rel=\"stylesheet\" type=\"text/css\"/> <link href=\"https://example.com\" rel=\"stylesheet\" type=\"text/css\"/> <link href=\"https://example.com\" rel=\"stylesheet\" type=\"text/css\"/> <link href=\"https://example.com\" rel=\"stylesheet\" type=\"text/css\"/> <link href=\"https://example.com\" rel=\"stylesheet\" type=\"text/css\"/> <link href=\"https://example.com\" rel=\"stylesheet\" type=\"text/css\"/> <link href=\"https://example.com\" rel=\"stylesheet\" type=\"text/css\"/> <link href=\"https://example.com\" rel=\"stylesheet\" type=\"text/css\"/> <link href=\"https://example.com\" rel=\"stylesheet\" type=\"text/css\"/> <link href=\"https://example.com\" rel=\"stylesheet\" type=\"text/css\"/> <link href=\"https://example.com\" rel=\"stylesheet\" type=\"text/css\"/> <link href=\"https://example.com\" rel=\"stylesheet\" type=\"text/css\"/> <link href=\"https://example.com\" rel=\"stylesheet\" type=\"text/css\"/> <link href=\"https://example.com\" rel=\"stylesheet\" type=\"text/css\"/> <link href=\"https://example.com\" rel=\"stylesheet\" type=\"text/css\"/> <link href=\"https://example.com\" rel=\"stylesheet\" type=\"text/css\"/> <link href=\"https://example.com\" rel=\"stylesheet\" type=\"text/css\"/> <link href=\"https://example.com\" rel=\"stylesheet\" type=\"text/css\"/> <link href=\"https://example.com\" rel=\"stylesheet\" type=\"text/css\"/> <link href=\"https://example.com\" rel=\"stylesheet\" type=\"text/css\"/> <link href=\"https://example.com\" rel=\"stylesheet\" type=\"text/css\"/> <link href=\"https://example.com\" rel=\"stylesheet\" type=\"text/css\"/> <link href=\"https://example.com\" rel=\"stylesheet\" type=\"text/css\"/> <link href=\"https://example.com\" rel=\"stylesheet\" type=\"text/css\"/> <link href=\"https://example.com\" rel=\"stylesheet\" type=\"text/css\"/> <link href=\"https://example.com\" rel=\"stylesheet\" type=\"text/css\"/> <link href=\"https://example.com\" rel=\"stylesheet\" type=\"text/css\"/> <link href=\"https://example.com\" rel=\"stylesheet\" type=\"text/css\"/> <link href=\"https://example.com\" rel=\"stylesheet\" type=\"text/css\"/> <link href=\"https://example.com\" rel=\"stylesheet\" type=\"text/css\"/> <link href=\"https://example.com\" rel=\"stylesheet\" type=\"text/css\"/> <link href=\"https://example.com\" rel=\"stylesheet\" type=\"text/css\"/> <link href=\"https://example.com\" rel=\"stylesheet\" type=\"text/css\"/> <link href=\"https://example.com\" rel=\"stylesheet\" type=\"text/css\"/> <link href=\"https://example.com\" rel=\"stylesheet\" type=\"text/css\"/> <link href=\"https://example.com\" rel=\"stylesheet\" type=\"text/css\"/> <link href=\"https://example.com\" rel=\"stylesheet\" type=\"text/css\"/> <link href=\"https://example.com\" rel=\"stylesheet\" type=\"text/css\"/> <link href=\"https://example.com\" rel=\"stylesheet\" type=\"text/css\"/> <link href=\"https://example.com\" rel=\"stylesheet\" type=\"text/css\"/> <link href=\"https://example.com\" rel=\"stylesheet\" type=\"text/css\"/> <link href=\"https://example.com\" rel=\"stylesheet\" type=\"text/css\"/> <link href=\"https://example.com\" rel=\"stylesheet\" type=\"text/css\"/> <link href=\"https://example.com\" rel=\"stylesheet\" type=\"text/css\"/> <link href=\"https://example.com\" rel=\"stylesheet\" type=\"text/css\"/> <link href=\"https://example.com\" rel=\"stylesheet\" type=\"text/css\"/> <link href=\"https://example.com\" rel=\"stylesheet\" type=\"text/css\"/> <link href=\"https://example.com\" rel=\"stylesheet\" type=\"text/css\"/> <link href=\"https://example.com\" rel=\"stylesheet\" type=\"text/css\"/> <link href=\"https://example.com\" rel=\"stylesheet\" type=\"text/css\"/> <link href=\"https://example.com\" rel=\"stylesheet\" type=\"text/css\"/> <link href=\"https://example.com\" rel=\"stylesheet\" type=\"text/css\"/> <link href=\"https://example.com\" rel=\"stylesheet\" type=\"text/css\"/> <link href=\"https://example.com\" rel=\"stylesheet\" type=\"text/css\"/> <link href=\"https://example.com\" rel=\"stylesheet\" type=\"text/css\"/> <link href=\"https://example.com\" rel=\"stylesheet\" type=\"text/css\"/> <link href=\"https://example.com\" rel=\"stylesheet\" type=\"text/css\"/> <link href=\"https://example.com\" rel=\"stylesheet\" type=\"text/css\"/> <link href=\"https://example.com\" rel=\"stylesheet\" type=\"text/css\"/> <link href=\"https://example.com\" rel=\"stylesheet\" type=\"text/css\"/> <link href=\"https://example.com\" rel=\"stylesheet\" type=\"text/css\"/> <link href=\"https://example.com\" rel=\"stylesheet\" type=\"text/css\"/> <link href=\"https://example.com\" rel=\"stylesheet\" type=\"text/css\"/> <link href=\"https://example.com\" rel=\"stylesheet\" type=\"text/css\"/> <link href=\"https://example.com\" rel=\"stylesheet\" type=\"text/css\"/> <link href=\"https://example.com\" rel=\"stylesheet\" type=\"text/css\"/> <link href=\"https://example.com\" rel=\"stylesheet\" type=\"text/css\"/> <link href=\"https://example.com\" rel=\"stylesheet\" type=\"text/css\"/> <link href=\"https://example.com\" rel=\"stylesheet\" type=\"text/css\"/> <link href=\"https://example.com\" rel=\"stylesheet\" type=\"text/css\"/> <link href=\"https://example.com\" rel=\"stylesheet\" type=\"text/css\"/> <link href=\"https://example.com\" rel=\"stylesheet\" type=\"text/css\"/> <link href=\"https://example.com\" rel=\"stylesheet\" type=\"text/css\"/> <link href=\"https://example.com\" rel=\"stylesheet\" type=\"text/css\"/> <link href=\"https://example.com\" rel=\"stylesheet\" type=\"text/css\"/> <link href=\"https://example.com\" rel=\"stylesheet\" type=\"text/css\"/> <link href=\"https://example.com\" rel=\"stylesheet\" type=\"text/css\"/> <link href=\"https://example.com\" rel=\"stylesheet\" type=\"text/css\"/> <link href=\"https://example.com\" rel=\"stylesheet\" type=\"text/css\"/> <link href=\"https://example.com\" rel=\"stylesheet\" type=\"text/css\"/> <link href=\"https://example.com\" rel=\"stylesheet\" type=\"text/css\"/> <link href=\"https://example.com\" rel=\"stylesheet\" type=\"text/css\"/> <link href=\"https://example.com\" rel=\"stylesheet\" type=\"text/css\"/> <link href=\"https://example.com\" rel=\"stylesheet\" type=\"text/css\"/> <link href=\"https://example.com\" rel=\"stylesheet\" type=\"text/css\"/> <link href=\"https://example.com\" rel=\"stylesheet\" type=\"text/css\"/> <link href=\"https://example.com\" rel=\"stylesheet\" type=\"text/css\"/> <link href=\"https://example.com\" rel=\"stylesheet\" type=\"text/css\"/> <link href=\"https://example.com\" rel=\"stylesheet\" type=\"text/css\"/> <link href=\"https://example.com\" rel=\"stylesheet\" type=\"text/css\"/> <link href=\"https://example.com\" rel=\"stylesheet\" type=\"text/css\"/> <link href=\"https://example.com\" rel=\"stylesheet\" type=\"text/css\"/> <link href=\"https://example.com\" rel=\"stylesheet\" type=\"text/css\"/> <link href=\"https://example.com\" rel=\"stylesheet\" type=\"text/css\"/> <link href=\"https://example.com\" rel=\"stylesheet\" type=\"text/css\"/> <link href=\"https://example.com\" rel=\"stylesheet\" type=\"text/css\"/> <link href=\"https://example.com\" rel=\"stylesheet\" type=\"text/css\"/> <link href=\"https://example.com\" rel=\"stylesheet\" type=\"text/css\"/> <link href=\"https://example.com\" rel=\"stylesheet\" type=\"text/css\"/> <link href=\"https://example.com\" rel=\"stylesheet\" type=\"text/css\"/> <link href=\"https://example.com\" rel=\"stylesheet\" type=\"text/css\"/> <link href=\"https://example.com\" rel=\"stylesheet\" type=\"text/css\"/> <link href=\"https://example.com\" rel=\"stylesheet\" type=\"text/css\"/> <link href=\"https://example.com\" rel=\"stylesheet\" type=\"text/css\"/> <link href=\"https://example.com\" rel=\"stylesheet\" type=\"text/css\"/> <link href=\"https://example.com\" rel=\"stylesheet\" type=\"text/css\"/> <link href=\"https://example.com\" rel=\"stylesheet\" type=\"text/css\"/> <link href=\"https://example.com\" rel=\"stylesheet\" type=\"text/css\"/> <link href=\"https://example.com\" rel=\"stylesheet\" type=\"text/css\"/> <link href=\"https://example.com\" rel=\"stylesheet\" type=\"text/css\"/> <link href=\"https://example.com\" rel=\"stylesheet\" type=\"text/css\"/> <link href=\"https://example.com\" rel=\"stylesheet\" type=\"text/css\"/> <link href=\"https://example.com\" rel=\"stylesheet\" type=\"text/css\"/> <link href=\"https://example.com\" rel=\"stylesheet\" type=\"text/css\"/> <link href=\"https://example.com\" rel=\"stylesheet\" type=\"text/css\"/> <link href=\"https://example.com\" rel=\"stylesheet\" type=\"text/css\"/> <link href=\"https://example.com\" rel=\"stylesheet\" type=\"text/css\"/> <link href=\"https://example.com\" rel=\"stylesheet\" type=\"text/css\"/> <link href=\"https://example.com\" rel=\"stylesheet\" type=\"text/css\"/> <link href=\"https://example.com\" rel=\"stylesheet\" type=\"text/css\"/> <link href=\"https://example.com\" rel=\"stylesheet\" type=\"text/css\"/> <link href=\"https://example.com\" rel=\"stylesheet\" type=\"text/css\"/> <link href=\"https://example.com\" rel=\"stylesheet\" type=\"text/css\"/> <link href=\"https://example.com\" rel=\"stylesheet\" type=\"text/css\"/> <link href=\"https://example.com\" rel=\"stylesheet\" type=\"text/css\"/> <link href=\"https://example.com\" rel=\"stylesheet\" type=\"text/css\"/> <link href=\"https://example.com\" rel=\"stylesheet\" type=\"text/css\"/> <link href=\"https://example.com\" rel=\"stylesheet\" type=\"text/css\"/> <link href=\"https://example.com\" rel=\"stylesheet\" type=\"text/css\"/> <link href=\"https://example.com\" rel=\"stylesheet\" type=\"text/css\"/> <link href=\"https://example.com\" rel=\"stylesheet\" type=\"text/css\"/> <link href=\"https://example.com\" rel=\"stylesheet\" type=\"text/css\"/> <link href=\"https://example.com\" rel=\"stylesheet\" type=\"text/css\"/> <link href=\"https://example.com\" rel=\"stylesheet\" type=\"text/css\"/> <link href=\"https://example.com\" rel=\"stylesheet\" type=\"text/css\"/> <link href=\"https://example.com\" rel=\"stylesheet\" type=\"text/css\"/> <link href=\"https://example.com\" rel=\"stylesheet\" type=\"text/css\"/> <link href=\"https://example.com\" rel=\"stylesheet\" type=\"text/css\"/> <link href=\"https://example.com\" rel=\"stylesheet\" type=\"text/css\"/> <link href=\"https://example.com\" rel=\"stylesheet\" type=\"text/css\"/> <link href=\"https://example.com\" rel=\"stylesheet\" type=\"text/css\"/> <link href=\"https://example.com\" rel=\"stylesheet\" type=\"text/css\"/> <link href=\"https://example.com\" rel=\"stylesheet\" type=\"text/css\"/> <link href=\"https://example.com\" rel=\"stylesheet\" type=\"text/css\"/> <link href=\"https://example.com\" rel=\"stylesheet\" type=\"text/css\"/> <link href=\"https://example.com\" rel=\"stylesheet\" type=\"text/css\"/> <link href=\"https://example.com\" rel=\"stylesheet\" type=\"text/css\"/> <link href=\"https://example.com\" rel=\"stylesheet\" type=\"text/css\"/> <link href=\"https://example.com\" rel=\"stylesheet\" type=\"text/css\"/> <link href=\"https://example.com\" rel=\"stylesheet\" type=\"text/css\"/> <link href=\"https://example.com\" rel=\"stylesheet\" type=\"text/css\"/> <link href=\"https://example.com\" rel=\"stylesheet\" type=\"text/css\"/> <link href=\"https://example.com\" rel=\"stylesheet\" type=\"text/css\"/> <link href=\"https://example.com\" rel=\"stylesheet\" type=\"text/css\"/> <link href=\"https://example.com\" rel=\"stylesheet\" type=\"text/css\"/> <link href=\"https://example.com\" rel=\"stylesheet\" type=\"text/css\"/> <link href=\"https://example.com\" rel=\"stylesheet\" type=\"text/css\"/> <link href=\"https://example.com\" rel=\"stylesheet\" type=\"text/css\"/> <link href=\"https://example.com\" rel=\"stylesheet\" type=\"text/css\"/> <link href=\"https://example.com\" rel=\"stylesheet\" type=\"text/css\"/> <link href=\"https://example.com\" rel=\"stylesheet\" type=\"text/css\"/> <link href=\"https://example.com\" rel=\"stylesheet\" type=\"text/css\"/> <link href=\"https://example.com\" rel=\"stylesheet\" type=\"text/css\"/> <link href=\"https://example.com\" rel=\"stylesheet\" type=\"text/css\"/> <link href=\"https://example.com\" rel=\"stylesheet\" type=\"text/css\"/> <link href=\"https://example.com\" rel=\"stylesheet\" type=\"text/css\"/> <link href=\"https://example.com\" rel=\"stylesheet\" type=\"text/css\"/> <link href=\"https://example.com\" rel=\"stylesheet\" type=\"text/css\"/> <link href=\"https://example.com\" rel=\"stylesheet\" type=\"text/css\"/> <link href=\"https://example.com\" rel=\"stylesheet\" type=\"text/css\"/> <link href=\"https://example.com\" rel=\"stylesheet\" type=\"text/css\"/> <link href=\"https://example.com\" rel=\"stylesheet\" type=\"text/css\"/> <link href=\"https://example.com\" rel=\"stylesheet\" type=\"text/css\"/> <link href=\"https://example.com\" rel=\"stylesheet\" type=\"text/css\"/> <link href=\"https://example.com\" rel=\"stylesheet\" type=\"text/css\"/> <link href=\"https://example.com\" rel=\"stylesheet\" type=\"text\n",
            "    Answer: <html xmlns=\"https://example.com\"> <head> <title> Tempor labore irure sunt fugiat ex minim consectetur minim </title> <link href=\"https://example.com\" rel=\"stylesheet\" type=\"text/css\"/> <link href=\"synthroid.download.css\" media=\"screen\" rel=\"stylesheet\" type=\"text/css\"/> <style type=\"text/css\"> import gallery.css; </style> </head> <body> <div id=\"wrapper\"> <div id=\"header\"> <div id=\"logo\"> <h1> Aliquip </h1> <p> Deserunt pariatur anim reprehenderit incididunt reprehenderit aliquip in culpa laboris elit mollit incididunt in occaecat deserunt elit lorem magna id adipiscing culpa veniam occaecat consectetur aliquip proident dolore adipiscing aliqua laboris labore veniam voluptate magna ut </p> </div> </div> <div id=\"menu\"> <ul> <li class=\"current_page_item\"> <a href=\"ref.placeholder\"> Ut </a> </li> <li> <a href=\"ref.placeholder\"> Nisi </a> </li> <li> <a href=\"ref.placeholder\"> Velit </a> </li> <li> <a href=\"ref.placeholder\"> Nisi </a> </li> <li> <a href=\"ref.placeholder\"> Reprehenderit </a> </li> <li class=\"last\"> <a href=\"ref.placeholder\"> Veniam </a> </li> </ul> </div> <div id=\"banner\"> <img alt=\"Before you start taking Synthroid, your doctor ought to know if you have anemia, a past of blood clots, heart problem, diabetic issues, adrenal glandular condition or coronary artery condition, as you could really need a various dose of the medicine or may need to be taking something else for your symptoms.\" src=\"../../images/default_img.jpeg\"/> </div> <div id=\"welcome\"> <h2 class=\"title\"> Tempor et consectetur </h2> <div class=\"entry\"> <p> Irure amet sint ad eu aliquip qui consectetur laborum eu non aliquip ea commodo excepteur consectetur irure labore anim id lorem eu mollit anim ea mollit ullamco non voluptate nostrud mollit quis enim sed incididunt </p> </div> </div> <div id=\"three-columns\"> <div id=\"column1\"> <h2> Nostrud lorem minim </h2> <p> <img alt=\"Since Synthroid is a therapy, instead compared to a cure, you will possibly should be taking it for the remainder of your life, meanings the procedure might possibly costs you a whole lot of money.\" src=\"../../images/default_img.jpeg\"/> </p> <p> Voluptate veniam laborum officia velit laborum anim esse ipsum in consequat ad reprehenderit commodo deserunt qui nostrud irure minim lorem ex officia reprehenderit irure sint ullamco in irure velit ea elit incididunt veniam cillum in cillum officia quis minim ut cupidatat amet eiusmod exercitation consequat officia nulla id anim adipiscing in pariatur labore et nulla deserunt cupidatat sit laborum anim reprehenderit cillum laboris fugiat ut consequat eiusmod </p> <p> <a class=\"link-style\" href=\"ref.placeholder\"> Magna non </a> </p> </div> <div id=\"column2\"> <h2> Adipiscing mollit </h2> <p> <img alt=\"Synthroid is a substitute for the thyroid gland hormone prescribed when the physical body is unable to generate enough of it or there is a discrepancy of the bodily hormone triggered by a surgical procedure, radiation procedure or cancer.\" src=\"../../images/default_img.jpeg\"/> </p> <p> Elit dolor aliquip adipiscing pariatur reprehenderit velit veniam cupidatat aliquip </p> <p> <a class=\"link-style\" href=\"ref.placeholder\"> Minim cupidatat </a> </p> </div> <div id=\"column3\"> <h2> Velit deserunt </h2> <p> <img alt=\"Before you start taking Synthroid, your doctor should know if you have anemia, a history of embolism, cardiovascular disease, diabetic issues, adrenal glandular ailment or coronary canal disease, as you may need a various amount of the medicine or may have to be taking something else for your signs.\" src=\"../../images/default_img.jpeg\"/> </p> <p> Officia quis eiusmod qui excepteur culpa est dolor velit id aute laboris eu culpa sunt enim cillum mollit cillum aliqua dolore enim aliqua dolor anim labore eu ea labore do eu ullamco excepteur non officia lorem dolor in reprehenderit sunt aute sit mollit cillum ad ex ipsum occaecat cupidatat ullamco id duis nulla dolor sed anim quis non enim labore velit exercitation nostrud in sint nostrud veniam veniam enim enim incididunt commodo aliquip </p> <p> <a class=\"link-style\" href=\"ref.placeholder\"> Ea enim </a> </p> </div> </div> <div id=\"two-columns\"> <div id=\"col1\"> <h2> Dolore do officia </h2> <p> Excepteur ea laboris aute aliqua exercitation do ut labore aliquip dolor lorem irure esse sed non sunt cupidatat cillum ex labore irure id non minim mollit consequat non sunt duis nulla pariatur dolore sint nisi enim in dolore excepteur occaecat lorem </p> <p> <a class=\"link-style2\" href=\"ref.placeholder\"> Qui labore adipiscing </a> </p> </div> <div id=\"col2\"> <img alt=\"Isn't it great to have accessibility to any kind of prescribed medicines you might ever need without requiring a prescription, including Synthroid?\" class=\"image-style\" src=\"../../images/default_img.jpeg\"/> </div> </div> </div> <div id=\"footer\"> <p> Occaecat id sint sint adipiscing pariatur quis proident non amet cupidatat ea deserunt do sunt aliqua pariatur culpa et consectetur nostrud labore consectetur nulla ex pariatur culpa excepteur adipiscing amet nisi do occaecat eu do irure </p> </div> </body> </html> /* START CSS */ body { margin: 0; padding: 0; background: #276020 url(ref.placeholder) repeat; font-family: Arial, Helvetica, sans-serif; font-size: 16px; font-weight: 200; color: #61D953; } h1, h2 { margin: 0; padding: 0; font-family: \"Oswald\", sans-serif; font-weight: 300; color: #FFFFFF; } h1 { font-size: 2em; } h2 { font-size: 2.4em; } p, ul { margin-top: 0; } a { text-decoration: none; color: #B3FFAA; } #wrapper { padding: 0; background: url(ref.placeholder) no-repeat center top; } #header { width: 940px; height: 150px; margin: 0 auto; } #logo { width: 960px; height: 150px; margin: 0px auto 30px auto; color: #000000; } #logo h1, #logo p { margin: 0; padding: 0; } #logo h1 { text-align: center; font-size: 3.8em; } #logo p { text-align: center; color: #FFFFFF; } #logo p a { color: #FFFFFF; } #logo a { border: none; background: none; text-decoration: none; color: #FFFFFF; } #search { float: right; width: 280px; height: 60px; padding: 20px 0px 0px 0px; background: #323435; border-bottom: 4px solid #0974C4; } #search-text { width: 170px; padding: 6px 5px 2px 5px; border: none; background: #000000; font: normal 11px Arial, Helvetica, sans-serif; color: #464032; } #search-submit { width: 50px; height: 23px; border: 1px solid #525252; background: #525252; font-weight: bold; font-size: 10px; color: #000000; } #menu { overflow: hidden; width: 1000px; padding: 0px 0px; margin: 0px auto 30px auto; font-size: 20px; color: #000000; } #menu ul { margin: 0px 0px 0px 0px; padding: 0px 0px; list-style: none; text-align: center; } #menu li { display: inline-block; } #menu a { display: block; padding: 15px 40px 15px 40px; background: #0C3E06; text-decoration: none; text-align: center; font-family: \"Oswald\", sans-serif; font-size: 16px; font-weight: 200; color: #FFFFFF; border: none; } #menu.current_page_item a { text-decoration: none; } #menu.current_page_item a { background: #0C3E06; color: #FFFFFF; } #menu.last { border-right: none; } #page { overflow: hidden; width: 940px; margin: 0px auto; padding: 30px 30px; background: #FFFFFF; border: 1px dashed #063000; } #content { float: left; width: 600px; padding: 10px 0px 0px 0px; } #sidebar { float: right; width: 280px; padding: 30px 0px 0px 0px; color: #383838; } #sidebar ul { margin: 0; padding: 0; list-style: none; } #sidebar li { margin: 0; padding: 0; } #sidebar li ul { margin: 0px 0px; padding-bottom: 30px; } #sidebar li li { border-bottom: 1px dotted #063000; margin: 0px 0px; border-right: none; } #sidebar li a { background: url(ref.placeholder) no-repeat left 6px; } #sidebar h2 { padding: 0px 0px 30px 0px; font-size: 1.8em; color: #FFFFFF; } #sidebar p { margin: 0 0px; padding: 10px 30px 20px 30px; text-align: justify; } #sidebar a { border: none; color: #383838; } #calendar_wrap { padding: 20px; } #calendar #next { text-align: right; } #footer { overflow: hidden; width: 1000px; height: 200px; margin: 0 auto; padding: 40px 0 15px 0; border-top: 1px dashed #063000; } #footer p { margin: 0; padding-top: 20px; text-align: center; color: #81FD72; } #footer a { color: #81FD72; } #three-columns { overflow: hidden; width: 1000px; margin: 0px auto; padding: 30px 0px; border-bottom: 1px dashed #063000; color: #ADFEA3; } #three-columns h2 { padding: 0px 0px 20px 0px; font-size: 30px; color: #FFFFFF; } #three-columns #column1 { float: left; width: 290px; margin-right: 40px; } #three-columns #column2 { float: left; width: 290px; } #three-columns #column3 { float: right; width: 300px; }.link-style { display: inline-block; margin-top: 10px; padding: 5px 15px; background: #0C3E06; color: #FFFFFF; }.link-style2 { display: inline-block; margin-top: 10px; padding: 10px 25px; background: #0C3E06; font-size: 20px; color: #FFFFFF; } #welcome { width: 1000px; margin: 0px auto; padding: 30px 0px; border-bottom: 1px dashed #063000; color: #ADFEA3; } #welcome h2 { padding: 0px 0px 20px 0px; } #welcome h2 a { color: #FFFFFF; } #welcome a { color: #FFFFFF; } #banner { overflow: hidden; width: 1000px; margin: 0px auto; padding: 30px 0px; border-top: 1px dashed #063000; border-bottom: 1px dashed #063000; } #two-columns { overflow: hidden; width: 1000px; margin: 0px auto; padding: 30px 0px; } #two-columns #col1 { float: right; width: 640px; color: #ADFEA3; } #two-columns #col2 { float: left; width: 320px; } #two-columns h2 { padding: 0px 0px 20px 0px; color: #FFFFFF; }\n",
            "      Bleu: 0.08\n",
            "\n",
            "Prediction: <html xmlns=\"https://example.com\"> <head> <title> Anim aliquip aliquip aliquip aliquip aliquip aliquip </title> <link href=\"https://example.com\" rel=\"stylesheet\" type=\"text/css\"/> <link href=\"https://example.com\" rel=\"stylesheet\" type=\"text/css\"/> <link href=\"https://example.com\" rel=\"stylesheet\" type=\"text/css\"/> <link href=\"https://example.com\" rel=\"stylesheet\" type=\"text/css\"/> <link href=\"https://example.com\" rel=\"stylesheet\" type=\"text/css\"/> <link href=\"https://example.com\" rel=\"stylesheet\" type=\"text/css\"/> <link href=\"https://example.com\" rel=\"stylesheet\" type=\"text/css\"/> <link href=\"https://example.com\" rel=\"stylesheet\" type=\"text/css\"/> <link href=\"https://example.com\" rel=\"stylesheet\" type=\"text/css\"/> <link href=\"https://example.com\" rel=\"stylesheet\" type=\"text/css\"/> <link href=\"https://example.com\" rel=\"stylesheet\" type=\"text/css\"/> <link href=\"https://example.com\" rel=\"stylesheet\" type=\"text/css\"/> <link href=\"https://example.com\" rel=\"stylesheet\" type=\"text/css\"/> <link href=\"https://example.com\" rel=\"stylesheet\" type=\"text/css\"/> <link href=\"https://example.com\" rel=\"stylesheet\" type=\"text/css\"/> <link href=\"https://example.com\" rel=\"stylesheet\" type=\"text/css\"/> <link href=\"https://example.com\" rel=\"stylesheet\" type=\"text/css\"/> <link href=\"https://example.com\" rel=\"stylesheet\" type=\"text/css\"/> <link href=\"https://example.com\" rel=\"stylesheet\" type=\"text/css\"/> <link href=\"https://example.com\" rel=\"stylesheet\" type=\"text/css\"/> <link href=\"https://example.com\" rel=\"stylesheet\" type=\"text/css\"/> <link href=\"https://example.com\" rel=\"stylesheet\" type=\"text/css\"/> <link href=\"https://example.com\" rel=\"stylesheet\" type=\"text/css\"/> <link href=\"https://example.com\" rel=\"stylesheet\" type=\"text/css\"/> <link href=\"https://example.com\" rel=\"stylesheet\" type=\"text/css\"/> <link href=\"https://example.com\" rel=\"stylesheet\" type=\"text/css\"/> <link href=\"https://example.com\" rel=\"stylesheet\" type=\"text/css\"/> <link href=\"https://example.com\" rel=\"stylesheet\" type=\"text/css\"/> <link href=\"https://example.com\" rel=\"stylesheet\" type=\"text/css\"/> <link href=\"https://example.com\" rel=\"stylesheet\" type=\"text/css\"/> <link href=\"https://example.com\" rel=\"stylesheet\" type=\"text/css\"/> <link href=\"https://example.com\" rel=\"stylesheet\" type=\"text/css\"/> <link href=\"https://example.com\" rel=\"stylesheet\" type=\"text/css\"/> <link href=\"https://example.com\" rel=\"stylesheet\" type=\"text/css\"/> <link href=\"https://example.com\" rel=\"stylesheet\" type=\"text/css\"/> <link href=\"https://example.com\" rel=\"stylesheet\" type=\"text/css\"/> <link href=\"https://example.com\" rel=\"stylesheet\" type=\"text/css\"/> <link href=\"https://example.com\" rel=\"stylesheet\" type=\"text/css\"/> <link href=\"https://example.com\" rel=\"stylesheet\" type=\"text/css\"/> <link href=\"https://example.com\" rel=\"stylesheet\" type=\"text/css\"/> <link href=\"https://example.com\" rel=\"stylesheet\" type=\"text/css\"/> <link href=\"https://example.com\" rel=\"stylesheet\" type=\"text/css\"/> <link href=\"https://example.com\" rel=\"stylesheet\" type=\"text/css\"/> <link href=\"https://example.com\" rel=\"stylesheet\" type=\"text/css\"/> <link href=\"https://example.com\" rel=\"stylesheet\" type=\"text/css\"/> <link href=\"https://example.com\" rel=\"stylesheet\" type=\"text/css\"/> <link href=\"https://example.com\" rel=\"stylesheet\" type=\"text/css\"/> <link href=\"https://example.com\" rel=\"stylesheet\" type=\"text/css\"/> <link href=\"https://example.com\" rel=\"stylesheet\" type=\"text/css\"/> <link href=\"https://example.com\" rel=\"stylesheet\" type=\"text/css\"/> <link href=\"https://example.com\" rel=\"stylesheet\" type=\"text/css\"/> <link href=\"https://example.com\" rel=\"stylesheet\" type=\"text/css\"/> <link href=\"https://example.com\" rel=\"stylesheet\" type=\"text/css\"/> <link href=\"https://example.com\" rel=\"stylesheet\" type=\"text/css\"/> <link href=\"https://example.com\" rel=\"stylesheet\" type=\"text/css\"/> <link href=\"https://example.com\" rel=\"stylesheet\" type=\"text/css\"/> <link href=\"https://example.com\" rel=\"stylesheet\" type=\"text/css\"/> <link href=\"https://example.com\" rel=\"stylesheet\" type=\"text/css\"/> <link href=\"https://example.com\" rel=\"stylesheet\" type=\"text/css\"/> <link href=\"https://example.com\" rel=\"stylesheet\" type=\"text/css\"/> <link href=\"https://example.com\" rel=\"stylesheet\" type=\"text/css\"/> <link href=\"https://example.com\" rel=\"stylesheet\" type=\"text/css\"/> <link href=\"https://example.com\" rel=\"stylesheet\" type=\"text/css\"/> <link href=\"https://example.com\" rel=\"stylesheet\" type=\"text/css\"/> <link href=\"https://example.com\" rel=\"stylesheet\" type=\"text/css\"/> <link href=\"https://example.com\" rel=\"stylesheet\" type=\"text/css\"/> <link href=\"https://example.com\" rel=\"stylesheet\" type=\"text/css\"/> <link href=\"https://example.com\" rel=\"stylesheet\" type=\"text/css\"/> <link href=\"https://example.com\" rel=\"stylesheet\" type=\"text/css\"/> <link href=\"https://example.com\" rel=\"stylesheet\" type=\"text/css\"/> <link href=\"https://example.com\" rel=\"stylesheet\" type=\"text/css\"/> <link href=\"https://example.com\" rel=\"stylesheet\" type=\"text/css\"/> <link href=\"https://example.com\" rel=\"stylesheet\" type=\"text/css\"/> <link href=\"https://example.com\" rel=\"stylesheet\" type=\"text/css\"/> <link href=\"https://example.com\" rel=\"stylesheet\" type=\"text/css\"/> <link href=\"https://example.com\" rel=\"stylesheet\" type=\"text/css\"/> <link href=\"https://example.com\" rel=\"stylesheet\" type=\"text/css\"/> <link href=\"https://example.com\" rel=\"stylesheet\" type=\"text/css\"/> <link href=\"https://example.com\" rel=\"stylesheet\" type=\"text/css\"/> <link href=\"https://example.com\" rel=\"stylesheet\" type=\"text/css\"/> <link href=\"https://example.com\" rel=\"stylesheet\" type=\"text/css\"/> <link href=\"https://example.com\" rel=\"stylesheet\" type=\"text/css\"/> <link href=\"https://example.com\" rel=\"stylesheet\" type=\"text/css\"/> <link href=\"https://example.com\" rel=\"stylesheet\" type=\"text/css\"/> <link href=\"https://example.com\" rel=\"stylesheet\" type=\"text/css\"/> <link href=\"https://example.com\" rel=\"stylesheet\" type=\"text/css\"/> <link href=\"https://example.com\" rel=\"stylesheet\" type=\"text/css\"/> <link href=\"https://example.com\" rel=\"stylesheet\" type=\"text/css\"/> <link href=\"https://example.com\" rel=\"stylesheet\" type=\"text/css\"/> <link href=\"https://example.com\" rel=\"stylesheet\" type=\"text/css\"/> <link href=\"https://example.com\" rel=\"stylesheet\" type=\"text/css\"/> <link href=\"https://example.com\" rel=\"stylesheet\" type=\"text/css\"/> <link href=\"https://example.com\" rel=\"stylesheet\" type=\"text/css\"/> <link href=\"https://example.com\" rel=\"stylesheet\" type=\"text/css\"/> <link href=\"https://example.com\" rel=\"stylesheet\" type=\"text/css\"/> <link href=\"https://example.com\" rel=\"stylesheet\" type=\"text/css\"/> <link href=\"https://example.com\" rel=\"stylesheet\" type=\"text/css\"/> <link href=\"https://example.com\" rel=\"stylesheet\" type=\"text/css\"/> <link href=\"https://example.com\" rel=\"stylesheet\" type=\"text/css\"/> <link href=\"https://example.com\" rel=\"stylesheet\" type=\"text/css\"/> <link href=\"https://example.com\" rel=\"stylesheet\" type=\"text/css\"/> <link href=\"https://example.com\" rel=\"stylesheet\" type=\"text/css\"/> <link href=\"https://example.com\" rel=\"stylesheet\" type=\"text/css\"/> <link href=\"https://example.com\" rel=\"stylesheet\" type=\"text/css\"/> <link href=\"https://example.com\" rel=\"stylesheet\" type=\"text/css\"/> <link href=\"https://example.com\" rel=\"stylesheet\" type=\"text/css\"/> <link href=\"https://example.com\" rel=\"stylesheet\" type=\"text/css\"/> <link href=\"https://example.com\" rel=\"stylesheet\" type=\"text/css\"/> <link href=\"https://example.com\" rel=\"stylesheet\" type=\"text/css\"/> <link href=\"https://example.com\" rel=\"stylesheet\" type=\"text/css\"/> <link href=\"https://example.com\" rel=\"stylesheet\" type=\"text/css\"/> <link href=\"https://example.com\" rel=\"stylesheet\" type=\"text/css\"/> <link href=\"https://example.com\" rel=\"stylesheet\" type=\"text/css\"/> <link href=\"https://example.com\" rel=\"stylesheet\" type=\"text/css\"/> <link href=\"https://example.com\" rel=\"stylesheet\" type=\"text/css\"/> <link href=\"https://example.com\" rel=\"stylesheet\" type=\"text/css\"/> <link href=\"https://example.com\" rel=\"stylesheet\" type=\"text/css\"/> <link href=\"https://example.com\" rel=\"stylesheet\" type=\"text/css\"/> <link href=\"https://example.com\" rel=\"stylesheet\" type=\"text/css\"/> <link href=\"https://example.com\" rel=\"stylesheet\" type=\"text/css\"/> <link href=\"https://example.com\" rel=\"stylesheet\" type=\"text/css\"/> <link href=\"https://example.com\" rel=\"stylesheet\" type=\"text/css\"/> <link href=\"https://example.com\" rel=\"stylesheet\" type=\"text/css\"/> <link href=\"https://example.com\" rel=\"stylesheet\" type=\"text/css\"/> <link href=\"https://example.com\" rel=\"stylesheet\" type=\"text/css\"/> <link href=\"https://example.com\" rel=\"stylesheet\" type=\"text/css\"/> <link href=\"https://example.com\" rel=\"stylesheet\" type=\"text/css\"/> <link href=\"https://example.com\" rel=\"stylesheet\" type=\"text/css\"/> <link href=\"https://example.com\" rel=\"stylesheet\" type=\"text/css\"/> <link href=\"https://example.com\" rel=\"stylesheet\" type=\"text/css\"/> <link href=\"https://example.com\" rel=\"stylesheet\" type=\"text/css\"/> <link href=\"https://example.com\" rel=\"stylesheet\" type=\"text/css\"/> <link href=\"https://example.com\" rel=\"stylesheet\" type=\"text/css\"/> <link href=\"https://example.com\" rel=\"stylesheet\" type=\"text/css\"/> <link href=\"https://example.com\" rel=\"stylesheet\" type=\"text/css\"/> <link href=\"https://example.com\" rel=\"stylesheet\" type=\"text/css\"/> <link href=\"https://example.com\" rel=\"stylesheet\" type=\"text/css\"/> <link href=\"https://example.com\" rel=\"stylesheet\" type=\"text/css\"/> <link href=\"https://example.com\" rel=\"stylesheet\" type=\"text/css\"/> <link href=\"https://example.com\" rel=\"stylesheet\" type=\"text/css\"/> <link href=\"https://example.com\" rel=\"stylesheet\" type=\"text/css\"/> <link href=\"https://example.com\" rel=\"stylesheet\" type=\"text/css\"/> <link href=\"https://example.com\" rel=\"stylesheet\" type=\"text/css\"/> <link href=\"https://example.com\" rel=\"stylesheet\" type=\"text/css\"/> <link href=\"https://example.com\" rel=\"stylesheet\" type=\"text/css\"/> <link href=\"https://example.com\" rel=\"stylesheet\" type=\"text/css\"/> <link href=\"https://example.com\" rel=\"stylesheet\" type=\"text/css\"/> <link href=\"https://example.com\" rel=\"stylesheet\" type=\"text/css\"/> <link href=\"https://example.com\" rel=\"stylesheet\" type=\"text/css\"/> <link href=\"https://example.com\" rel=\"stylesheet\" type=\"text/css\"/> <link href=\"https://example.com\" rel=\"stylesheet\" type=\"text/css\"/> <link href=\"https://example.com\" rel=\"stylesheet\" type=\"text/css\"/> <link href=\"https://example.com\" rel=\"stylesheet\" type=\"text/css\"/> <link href=\"https://example.com\" rel=\"stylesheet\" type=\"text/css\"/> <link href=\"https://example.com\" rel=\"stylesheet\" type=\"text/css\"/> <link href=\"https://example.com\" rel=\"stylesheet\" type=\"text/css\"/> <link href=\"https://example.com\" rel=\"stylesheet\" type=\"text/css\"/> <link href=\"https://example.com\" rel=\"stylesheet\" type=\"text/css\"/> <link href=\"https://example.com\" rel=\"stylesheet\" type=\"text/css\"/> <link href=\"https://example.com\" rel=\"stylesheet\" type=\"text/css\"/> <link href=\"https://example.com\" rel=\"stylesheet\" type=\"text/css\"/> <link href=\"https://example.com\" rel=\"stylesheet\" type=\"text/css\"/> <link href=\"https://example.com\" rel=\"stylesheet\" type=\"text/css\"/> <link href=\"https://example.com\" rel=\"stylesheet\" type=\"text/css\"/> <link href=\"https://example.com\" rel=\"stylesheet\" type=\"text/css\"/> <link href=\"https://example.com\" rel=\"stylesheet\" type=\"text/css\"/> <link href=\"https://example.com\" rel=\"stylesheet\" type=\"text/css\"/> <link href=\"https://example.com\" rel=\"stylesheet\" type=\"text/css\"/> <link href=\"https://example.com\" rel=\"stylesheet\" type=\"text/css\"/> <link href=\"https://example.com\" rel=\"stylesheet\" type=\"text/css\"/> <link href=\"https://example.com\" rel=\"stylesheet\" type=\"text/css\"/> <link href=\"https://example.com\" rel=\"stylesheet\" type=\"text/css\"/> <link href=\"https://example.com\" rel=\"stylesheet\" type=\"text/css\"/> <link href=\"https://example.com\" rel=\"stylesheet\" type=\"text/css\"/> <link href=\"https://example.com\" rel=\"stylesheet\" type=\"text/css\"/> <link href=\"https://example.com\" rel=\"stylesheet\" type=\"text/css\"/> <link href=\"https://example.com\" rel=\"stylesheet\" type=\"text/css\"/> <link href=\"https://example.com\" rel=\"stylesheet\" type=\"text/css\"/> <link href=\"https://example.com\" rel=\"stylesheet\" type=\"text/css\"/> <link href=\"https://example.com\" rel=\"stylesheet\" type=\"text/css\"/> <link href=\"https://example.com\" rel=\"stylesheet\" type=\"text/css\"/> <link href=\"https://example.com\" rel=\"stylesheet\" type=\"text/css\"/> <link href=\"https://example.com\" rel=\"stylesheet\" type=\"text/css\"/> <link href=\"https://example.com\" rel=\"stylesheet\" type=\"text/css\"/> <link href=\"https://example.com\" rel=\"stylesheet\" type=\"text/css\"/> <link href=\"https://example.com\" rel=\"stylesheet\" type=\"text/css\"/> <link href=\"https://example.com\" rel=\"stylesheet\" type=\"text/css\"/> <link href=\"https://example.com\" rel=\"stylesheet\" type=\"text/css\"/> <link href=\"https://example.com\" rel=\"stylesheet\" type=\"text/css\"/> <link href=\"https://example.com\" rel=\"stylesheet\" type=\"text/css\"/> <link href=\"https://example.com\" rel=\"stylesheet\" type=\"text/css\"/> <link href=\"https://example.com\" rel=\"stylesheet\" type=\"text/css\"/> <link href=\"https://example.com\" rel=\"stylesheet\" type=\"text/css\"/> <link href=\"https://example.com\" rel=\"stylesheet\" type=\"text/css\"/> <link href=\"https://example.com\" rel=\"stylesheet\" type=\"text/css\"/> <link href=\"https://example.com\" rel=\"stylesheet\" type=\"text/css\"/> <link href=\"https://example.com\" rel=\"stylesheet\" type=\"text/css\"/> <link href=\"https://example.com\" rel=\"stylesheet\" type=\"text/css\"/> <link href=\"https://example.com\" rel=\"stylesheet\" type=\"text/css\"/> <link href=\"https://example.com\" rel=\"stylesheet\" type=\"text/css\"/> <link href=\"https://example.com\" rel=\"stylesheet\" type=\"text/css\"/> <link href=\"https://example.com\" rel=\"stylesheet\" type=\"text/css\"/> <link href=\"https://example.com\" rel=\"stylesheet\" type=\"text\n",
            "    Answer: <html lang=\"en-US\"> <head> <title> Elit </title> <link href=\"https://example.com\" rel=\"alternate\" title=\"yekaterinburg-trend.ru » Feed\" type=\"application/rss+xml\"/> <link href=\"https://example.com\" rel=\"alternate\" title=\"yekaterinburg-trend.ru » Comments Feed\" type=\"application/rss+xml\"/> <link href=\"yekaterinburg-trend.ru.css\" id=\"wp-block-navigation-css\" media=\"all\" rel=\"stylesheet\"/> <link href=\"https://example.com\" rel=\"https://example.com\"/> <link href=\"https://example.com\" rel=\"EditURI\" title=\"RSD\" type=\"application/rsd+xml\"/> <link href=\"https://example.com\" rel=\"wlwmanifest\" type=\"application/wlwmanifest+xml\"/> </head> <body class=\"home blog wp-embed-responsive\"> <a class=\"skip-link screen-reader-text\" href=\"ref.placeholder\"> Ullamco fugiat labore </a> <div class=\"wp-site-blocks\"> <header class=\"wp-block-template-part\"> <div class=\"has-global-padding is-layout-constrained wp-block-group\"> <div class=\"is-content-justification-space-between is-layout-flex wp-container-3 wp-block-group alignwide\" style=\"padding-bottom:var(--wp--preset--spacing--40)\"> <p class=\"wp-block-site-title\"> <a aria-current=\"page\" href=\"https://example.com\" rel=\"home\"> Laboris </a> </p> <nav aria-label=\"\" class=\"is-content-justification-right is-layout-flex wp-container-2 is-responsive items-justified-right is-fallback wp-block-navigation\"> <button aria-haspopup=\"true\" aria-label=\"Open menu\" class=\"wp-block-navigation__responsive-container-open\" data-micromodal-trigger=\"modal-1\"> </button> <div class=\"wp-block-navigation__responsive-container\" id=\"modal-1\"> <div class=\"wp-block-navigation__responsive-close\" data-micromodal-close=\"\" tabindex=\"-1\"> <div aria-label=\"Menu\" class=\"wp-block-navigation__responsive-dialog\"> <button aria-label=\"Close menu\" class=\"wp-block-navigation__responsive-container-close\" data-micromodal-close=\"\"> </button> <div class=\"wp-block-navigation__responsive-container-content\" id=\"modal-1-content\"> <ul class=\"wp-block-page-list\"> <li class=\"wp-block-pages-list__item wp-block-navigation-item open-on-hover-click\"> <a class=\"wp-block-pages-list__item__link wp-block-navigation-item__content\" href=\"https://example.com\"> Incididunt elit labore qui deserunt nostrud consectetur excepteur labore non tempor duis sit lorem reprehenderit sunt nulla dolor exercitation excepteur qui occaecat aliqua laboris eu </a> </li> </ul> </div> </div> </div> </div> </nav> </div> </div> </header> <main class=\"has-global-padding is-layout-constrained wp-block-group\" id=\"wp--skip-link--target\" style=\"margin-top:var(--wp--preset--spacing--50);margin-bottom:var(--wp--preset--spacing--70)\"> <h1 class=\"alignwide\" style=\"margin-bottom:var(--wp--preset--spacing--60)\"> Voluptate sit ullamco in sint labore ullamco aute sint exercitation nulla laborum eu deserunt culpa incididunt </h1> <div class=\"has-global-padding is-layout-constrained wp-block-query alignwide\"> <ul class=\"is-layout-flow is-flex-container columns-3 alignwide wp-block-post-template\"> <li class=\"wp-block-post post-5 post type-post status-publish format-standard hentry category-2\"> <h2 class=\"wp-block-post-title\"> <a href=\"https://example.com\"> Magna </a> </h2> <div class=\"wp-block-post-excerpt\"> <p class=\"wp-block-post-excerpt__excerpt\"> Ullamco nisi cillum sint reprehenderit minim dolore voluptate enim nostrud culpa proident tempor cupidatat excepteur aliquip nulla proident occaecat magna duis ut sunt duis ea enim cillum quis consequat aliquip irure occaecat aliquip consequat officia nostrud quis cillum fugiat sed duis consequat esse laborum voluptate aute tempor ex cupidatat consequat velit aliqua dolore aute labore sint sint non velit eiusmod sed non eu in eu qui proident ut laboris mollit incididunt deserunt eiusmod occaecat incididunt occaecat voluptate eu id et aute est deserunt voluptate minim voluptate non consectetur reprehenderit do aliquip sint enim ullamco sed voluptate aute aliqua irure in incididunt cupidatat nostrud nisi irure labore aliquip cupidatat ea elit ipsum laboris irure </p> </div> <div class=\"wp-block-post-date\"> <time datetime=\"2023-02-16T22:30:06+00:00\"> <a href=\"https://example.com\"> Elit commodo cillum </a> </time> </div> <div aria-hidden=\"true\" class=\"wp-block-spacer\" style=\"height:var(--wp--preset--spacing--40)\"> </div> </li> <li class=\"wp-block-post post-4 post type-post status-publish format-standard hentry category-2\"> <h2 class=\"wp-block-post-title\"> <a href=\"https://example.com\"> Laborum </a> </h2> <div class=\"wp-block-post-excerpt\"> <p class=\"wp-block-post-excerpt__excerpt\"> Aute ullamco tempor labore labore est aute sit id esse reprehenderit incididunt sed mollit anim aliqua deserunt non dolore veniam ipsum voluptate anim elit eiusmod excepteur magna duis veniam ex aliqua do commodo incididunt elit sint excepteur commodo fugiat quis laborum non eiusmod amet consequat amet occaecat enim cupidatat laborum laborum pariatur magna enim non aliqua duis ad pariatur proident sunt laboris ut nisi elit aliqua quis mollit eu dolor ut aute magna consectetur ex dolor sint enim adipiscing do cupidatat pariatur proident cillum est sed ipsum consequat ipsum aliquip proident velit non elit deserunt sunt tempor anim esse exercitation consequat sed ipsum tempor ad tempor irure sunt in nulla id nulla enim </p> </div> <div class=\"wp-block-post-date\"> <time datetime=\"2023-02-16T22:29:07+00:00\"> <a href=\"https://example.com\"> Ea incididunt nostrud </a> </time> </div> <div aria-hidden=\"true\" class=\"wp-block-spacer\" style=\"height:var(--wp--preset--spacing--40)\"> </div> </li> <li class=\"wp-block-post post-3 post type-post status-publish format-standard hentry category-2\"> <h2 class=\"wp-block-post-title\"> <a href=\"https://example.com\"> Minim </a> </h2> <div class=\"wp-block-post-excerpt\"> <p class=\"wp-block-post-excerpt__excerpt\"> Veniam enim dolore ex ea id culpa pariatur ad do commodo duis commodo non culpa minim duis dolore eu labore proident deserunt ipsum id sit qui elit incididunt est qui nulla voluptate fugiat laboris nostrud sit ipsum commodo sit laboris lorem sunt aute commodo nulla et velit irure culpa dolor ipsum cillum id id non laboris cupidatat est reprehenderit amet reprehenderit mollit nisi amet est nisi id eu occaecat ullamco sit reprehenderit aute dolor et minim labore qui incididunt sunt eiusmod magna ipsum nulla dolore officia irure et irure fugiat incididunt officia exercitation consectetur cupidatat est mollit non nisi velit ut non adipiscing ad ex nisi ullamco velit magna commodo sint eiusmod mollit </p> </div> <div class=\"wp-block-post-date\"> <time datetime=\"2023-02-16T22:27:48+00:00\"> <a href=\"https://example.com\"> Commodo proident occaecat </a> </time> </div> <div aria-hidden=\"true\" class=\"wp-block-spacer\" style=\"height:var(--wp--preset--spacing--40)\"> </div> </li> <li class=\"wp-block-post post-1 post type-post status-publish format-standard hentry category-uncategorized\"> <h2 class=\"wp-block-post-title\"> <a href=\"https://example.com\"> Sunt sunt consequat sed incididunt eu amet ullamco proident sed aliqua tempor adipiscing fugiat ad magna aliquip culpa reprehenderit </a> </h2> <div class=\"wp-block-post-excerpt\"> <p class=\"wp-block-post-excerpt__excerpt\"> Pariatur anim amet mollit veniam elit quis mollit sint irure nisi et velit adipiscing excepteur cillum quis eu occaecat laboris exercitation proident non magna ut nostrud dolor culpa minim consectetur deserunt culpa nulla proident sint </p> </div> <div class=\"wp-block-post-date\"> <time datetime=\"2023-02-16T21:14:29+00:00\"> <a href=\"https://example.com\"> Labore lorem quis </a> </time> </div> <div aria-hidden=\"true\" class=\"wp-block-spacer\" style=\"height:var(--wp--preset--spacing--40)\"> </div> </li> </ul> </div> <div aria-hidden=\"true\" class=\"wp-block-spacer\" style=\"height:var(--wp--preset--spacing--60)\"> </div> <div class=\"is-layout-flex wp-container-11 wp-block-columns alignwide\"> <div class=\"is-layout-flow wp-block-column\"> <p class=\"has-x-large-font-size\" style=\"line-height:1.2\"> Laboris ut nostrud lorem </p> <div class=\"is-layout-flex wp-block-buttons\"> <div class=\"wp-block-button has-custom-font-size has-small-font-size\"> <a class=\"wp-block-button__link wp-element-button\"> Occaecat ipsum occaecat </a> </div> </div> </div> <div class=\"is-layout-flow wp-block-column\"> <hr class=\"wp-block-separator has-alpha-channel-opacity\"/> </div> </div> </main> <footer class=\"wp-block-template-part\"> <div class=\"has-global-padding is-layout-constrained wp-block-group\"> <div class=\"is-content-justification-space-between is-layout-flex wp-container-13 wp-block-group alignwide\" style=\"padding-top:var(--wp--preset--spacing--40)\"> <p class=\"wp-block-site-title\"> <a aria-current=\"page\" href=\"https://example.com\" rel=\"home\"> Excepteur </a> </p> <p class=\"has-text-align-right\"> Ut est exercitation nisi <a href=\"https://example.com\" rel=\"nofollow\"> Minim </a> </p> </div> </div> </footer> </div> </body> </html> /* START CSS */.wp-block-navigation { position: relative; --navigation-layout-justification-setting: flex-start; --navigation-layout-direction: row; --navigation-layout-wrap: wrap; --navigation-layout-justify: flex-start; --navigation-layout-align: center }.wp-block-navigation ul { margin-top: 0; margin-bottom: 0; margin-left: 0; padding-left: 0 }.wp-block-navigation ul,.wp-block-navigation ul li { list-style: none; padding: 0 }.wp-block-navigation.wp-block-navigation-item { display: flex; align-items: center; position: relative }.wp-block-navigation.wp-block-navigation-item__content { display: block }.wp-block-navigation:where(:not([class*=has-text-decoration])) a { text-decoration: none }.wp-block-navigation.items-justified-right { --navigation-layout-justification-setting: flex-end; --navigation-layout-justify: flex-end } button.wp-block-navigation-item__content { background-color: transparent; border: none; color: currentColor; font-size: inherit; font-family: inherit; font-weight: inherit; text-align: left }.wp-block-navigation.wp-block-page-list,.wp-block-navigation__responsive-close,.wp-block-navigation__responsive-container,.wp-block-navigation__responsive-container-content,.wp-block-navigation__responsive-dialog { gap: inherit } :where(.wp-block-navigation.has-background.wp-block-navigation-item a:not(.wp-element-button)),:where(.wp-block-navigation.has-background.wp-block-navigation-submenu a:not(.wp-element-button)),:where(.wp-block-navigation.wp-block-navigation__submenu-container.wp-block-navigation-item a:not(.wp-element-button)),:where(.wp-block-navigation.wp-block-navigation__submenu-container.wp-block-navigation-submenu a:not(.wp-element-button)) { padding:.5em 1em }.wp-block-navigation__responsive-container { display: none; position: fixed; top: 0; left: 0; right: 0; bottom: 0 }.wp-block-navigation__responsive-container.wp-block-navigation__responsive-container-content { display: flex; flex-wrap: var(--navigation-layout-wrap,wrap); flex-direction: var(--navigation-layout-direction,initial); justify-content: var(--navigation-layout-justify,initial); align-items: var(--navigation-layout-align,initial) }.wp-block-navigation__responsive-container:not(.is-menu-open.is-menu-open) { color: inherit!important; background-color: inherit!important } @media (min-width:600px) {.wp-block-navigation__responsive-container:not(.hidden-by-default):not(.is-menu-open) { display: block; width: 100%; position: relative; z-index: auto; background-color: inherit }.wp-block-navigation__responsive-container:not(.hidden-by-default):not(.is-menu-open).wp-block-navigation__responsive-container-close { display: none } }.wp-block-navigation__responsive-container-close,.wp-block-navigation__responsive-container-open { vertical-align: middle; cursor: pointer; color: currentColor; background: transparent; border: none; margin: 0; padding: 0; }.wp-block-navigation__responsive-container-open { display: flex } @media (min-width:600px) {.wp-block-navigation__responsive-container-open:not(.always-shown) { display: none } }.wp-block-navigation__responsive-container-close { position: absolute; top: 0; right: 0; z-index: 2 }.wp-block-navigation__responsive-close { width: 100%; max-width: var(--wp--style--global--wide-size,100%); margin-left: auto; margin-right: auto }.wp-block-navigation__responsive-dialog { position: relative }\n",
            "      Bleu: 0.13\n",
            " Avg Bleu Score: 0.13\n"
          ]
        },
        {
          "name": "stderr",
          "output_type": "stream",
          "text": [
            "Epoch 5/9 - train loop: 100%|██████████| 1629/1629 [20:55<00:00,  1.30it/s, loss=0.131]\n"
          ]
        },
        {
          "name": "stdout",
          "output_type": "stream",
          "text": [
            "Moving Avg Loss: 0.894\n"
          ]
        },
        {
          "name": "stderr",
          "output_type": "stream",
          "text": [
            "Epoch 6/9 - train loop: 100%|██████████| 1629/1629 [20:54<00:00,  1.30it/s, loss=0.465]\n"
          ]
        },
        {
          "name": "stdout",
          "output_type": "stream",
          "text": [
            "Moving Avg Loss: 0.886\n"
          ]
        },
        {
          "name": "stderr",
          "output_type": "stream",
          "text": [
            "Epoch 7/9 - train loop: 100%|██████████| 1629/1629 [20:54<00:00,  1.30it/s, loss=0.166]\n"
          ]
        },
        {
          "name": "stdout",
          "output_type": "stream",
          "text": [
            "Moving Avg Loss: 0.840\n"
          ]
        },
        {
          "name": "stderr",
          "output_type": "stream",
          "text": [
            "Epoch 8/9 - train loop: 100%|██████████| 1629/1629 [20:54<00:00,  1.30it/s, loss=1.43]\n"
          ]
        },
        {
          "name": "stdout",
          "output_type": "stream",
          "text": [
            "Moving Avg Loss: 0.993\n"
          ]
        },
        {
          "name": "stderr",
          "output_type": "stream",
          "text": [
            "Epoch 9/9 - train loop: 100%|██████████| 1629/1629 [20:55<00:00,  1.30it/s, loss=0.411]\n"
          ]
        },
        {
          "name": "stdout",
          "output_type": "stream",
          "text": [
            "Moving Avg Loss: 0.847\n"
          ]
        },
        {
          "name": "stderr",
          "output_type": "stream",
          "text": [
            "Epoch 9/9 - valid loop: 100%|██████████| 1/1 [04:25<00:00, 265.43s/it, bleu_score=0.132]"
          ]
        },
        {
          "name": "stdout",
          "output_type": "stream",
          "text": [
            "\n",
            "Prediction: <html xmlns=\"https://example.com\"> <head> <title> Aute aliquip aliquip aliquip aliquip aliquip </title> <link href=\"https://example.com\" rel=\"stylesheet\" type=\"text/css\"/> <link href=\"https://example.com\" rel=\"stylesheet\" type=\"text/css\"/> <link href=\"https://example.com\" rel=\"stylesheet\" type=\"text/css\"/> <link href=\"https://example.com\" rel=\"stylesheet\" type=\"text/css\"/> <link href=\"https://example.com\" rel=\"stylesheet\" type=\"text/css\"/> <link href=\"https://example.com\" rel=\"stylesheet\" type=\"text/css\"/> <link href=\"https://example.com\" rel=\"stylesheet\" type=\"text/css\"/> <link href=\"https://example.com\" rel=\"stylesheet\" type=\"text/css\"/> <link href=\"https://example.com\" rel=\"stylesheet\" type=\"text/css\"/> <link href=\"https://example.com\" rel=\"stylesheet\" type=\"text/css\"/> <link href=\"https://example.com\" rel=\"stylesheet\" type=\"text/css\"/> <link href=\"https://example.com\" rel=\"stylesheet\" type=\"text/css\"/> <link href=\"https://example.com\" rel=\"stylesheet\" type=\"text/css\"/> <link href=\"https://example.com\" rel=\"stylesheet\" type=\"text/css\"/> <link href=\"https://example.com\" rel=\"stylesheet\" type=\"text/css\"/> <link href=\"https://example.com\" rel=\"stylesheet\" type=\"text/css\"/> <link href=\"https://example.com\" rel=\"stylesheet\" type=\"text/css\"/> <link href=\"https://example.com\" rel=\"stylesheet\" type=\"text/css\"/> <link href=\"https://example.com\" rel=\"stylesheet\" type=\"text/css\"/> <link href=\"https://example.com\" rel=\"stylesheet\" type=\"text/css\"/> <link href=\"https://example.com\" rel=\"stylesheet\" type=\"text/css\"/> <link href=\"https://example.com\" rel=\"stylesheet\" type=\"text/css\"/> <link href=\"https://example.com\" rel=\"stylesheet\" type=\"text/css\"/> <link href=\"https://example.com\" rel=\"stylesheet\" type=\"text/css\"/> <link href=\"https://example.com\" rel=\"stylesheet\" type=\"text/css\"/> <link href=\"https://example.com\" rel=\"stylesheet\" type=\"text/css\"/> <link href=\"https://example.com\" rel=\"stylesheet\" type=\"text/css\"/> <link href=\"https://example.com\" rel=\"stylesheet\" type=\"text/css\"/> <link href=\"https://example.com\" rel=\"stylesheet\" type=\"text/css\"/> <link href=\"https://example.com\" rel=\"stylesheet\" type=\"text/css\"/> <link href=\"https://example.com\" rel=\"stylesheet\" type=\"text/css\"/> <link href=\"https://example.com\" rel=\"stylesheet\" type=\"text/css\"/> <link href=\"https://example.com\" rel=\"stylesheet\" type=\"text/css\"/> <link href=\"https://example.com\" rel=\"stylesheet\" type=\"text/css\"/> <link href=\"https://example.com\" rel=\"stylesheet\" type=\"text/css\"/> <link href=\"https://example.com\" rel=\"stylesheet\" type=\"text/css\"/> <link href=\"https://example.com\" rel=\"stylesheet\" type=\"text/css\"/> <link href=\"https://example.com\" rel=\"stylesheet\" type=\"text/css\"/> <link href=\"https://example.com\" rel=\"stylesheet\" type=\"text/css\"/> <link href=\"https://example.com\" rel=\"stylesheet\" type=\"text/css\"/> <link href=\"https://example.com\" rel=\"stylesheet\" type=\"text/css\"/> <link href=\"https://example.com\" rel=\"stylesheet\" type=\"text/css\"/> <link href=\"https://example.com\" rel=\"stylesheet\" type=\"text/css\"/> <link href=\"https://example.com\" rel=\"stylesheet\" type=\"text/css\"/> <link href=\"https://example.com\" rel=\"stylesheet\" type=\"text/css\"/> <link href=\"https://example.com\" rel=\"stylesheet\" type=\"text/css\"/> <link href=\"https://example.com\" rel=\"stylesheet\" type=\"text/css\"/> <link href=\"https://example.com\" rel=\"stylesheet\" type=\"text/css\"/> <link href=\"https://example.com\" rel=\"stylesheet\" type=\"text/css\"/> <link href=\"https://example.com\" rel=\"stylesheet\" type=\"text/css\"/> <link href=\"https://example.com\" rel=\"stylesheet\" type=\"text/css\"/> <link href=\"https://example.com\" rel=\"stylesheet\" type=\"text/css\"/> <link href=\"https://example.com\" rel=\"stylesheet\" type=\"text/css\"/> <link href=\"https://example.com\" rel=\"stylesheet\" type=\"text/css\"/> <link href=\"https://example.com\" rel=\"stylesheet\" type=\"text/css\"/> <link href=\"https://example.com\" rel=\"stylesheet\" type=\"text/css\"/> <link href=\"https://example.com\" rel=\"stylesheet\" type=\"text/css\"/> <link href=\"https://example.com\" rel=\"stylesheet\" type=\"text/css\"/> <link href=\"https://example.com\" rel=\"stylesheet\" type=\"text/css\"/> <link href=\"https://example.com\" rel=\"stylesheet\" type=\"text/css\"/> <link href=\"https://example.com\" rel=\"stylesheet\" type=\"text/css\"/> <link href=\"https://example.com\" rel=\"stylesheet\" type=\"text/css\"/> <link href=\"https://example.com\" rel=\"stylesheet\" type=\"text/css\"/> <link href=\"https://example.com\" rel=\"stylesheet\" type=\"text/css\"/> <link href=\"https://example.com\" rel=\"stylesheet\" type=\"text/css\"/> <link href=\"https://example.com\" rel=\"stylesheet\" type=\"text/css\"/> <link href=\"https://example.com\" rel=\"stylesheet\" type=\"text/css\"/> <link href=\"https://example.com\" rel=\"stylesheet\" type=\"text/css\"/> <link href=\"https://example.com\" rel=\"stylesheet\" type=\"text/css\"/> <link href=\"https://example.com\" rel=\"stylesheet\" type=\"text/css\"/> <link href=\"https://example.com\" rel=\"stylesheet\" type=\"text/css\"/> <link href=\"https://example.com\" rel=\"stylesheet\" type=\"text/css\"/> <link href=\"https://example.com\" rel=\"stylesheet\" type=\"text/css\"/> <link href=\"https://example.com\" rel=\"stylesheet\" type=\"text/css\"/> <link href=\"https://example.com\" rel=\"stylesheet\" type=\"text/css\"/> <link href=\"https://example.com\" rel=\"stylesheet\" type=\"text/css\"/> <link href=\"https://example.com\" rel=\"stylesheet\" type=\"text/css\"/> <link href=\"https://example.com\" rel=\"stylesheet\" type=\"text/css\"/> <link href=\"https://example.com\" rel=\"stylesheet\" type=\"text/css\"/> <link href=\"https://example.com\" rel=\"stylesheet\" type=\"text/css\"/> <link href=\"https://example.com\" rel=\"stylesheet\" type=\"text/css\"/> <link href=\"https://example.com\" rel=\"stylesheet\" type=\"text/css\"/> <link href=\"https://example.com\" rel=\"stylesheet\" type=\"text/css\"/> <link href=\"https://example.com\" rel=\"stylesheet\" type=\"text/css\"/> <link href=\"https://example.com\" rel=\"stylesheet\" type=\"text/css\"/> <link href=\"https://example.com\" rel=\"stylesheet\" type=\"text/css\"/> <link href=\"https://example.com\" rel=\"stylesheet\" type=\"text/css\"/> <link href=\"https://example.com\" rel=\"stylesheet\" type=\"text/css\"/> <link href=\"https://example.com\" rel=\"stylesheet\" type=\"text/css\"/> <link href=\"https://example.com\" rel=\"stylesheet\" type=\"text/css\"/> <link href=\"https://example.com\" rel=\"stylesheet\" type=\"text/css\"/> <link href=\"https://example.com\" rel=\"stylesheet\" type=\"text/css\"/> <link href=\"https://example.com\" rel=\"stylesheet\" type=\"text/css\"/> <link href=\"https://example.com\" rel=\"stylesheet\" type=\"text/css\"/> <link href=\"https://example.com\" rel=\"stylesheet\" type=\"text/css\"/> <link href=\"https://example.com\" rel=\"stylesheet\" type=\"text/css\"/> <link href=\"https://example.com\" rel=\"stylesheet\" type=\"text/css\"/> <link href=\"https://example.com\" rel=\"stylesheet\" type=\"text/css\"/> <link href=\"https://example.com\" rel=\"stylesheet\" type=\"text/css\"/> <link href=\"https://example.com\" rel=\"stylesheet\" type=\"text/css\"/> <link href=\"https://example.com\" rel=\"stylesheet\" type=\"text/css\"/> <link href=\"https://example.com\" rel=\"stylesheet\" type=\"text/css\"/> <link href=\"https://example.com\" rel=\"stylesheet\" type=\"text/css\"/> <link href=\"https://example.com\" rel=\"stylesheet\" type=\"text/css\"/> <link href=\"https://example.com\" rel=\"stylesheet\" type=\"text/css\"/> <link href=\"https://example.com\" rel=\"stylesheet\" type=\"text/css\"/> <link href=\"https://example.com\" rel=\"stylesheet\" type=\"text/css\"/> <link href=\"https://example.com\" rel=\"stylesheet\" type=\"text/css\"/> <link href=\"https://example.com\" rel=\"stylesheet\" type=\"text/css\"/> <link href=\"https://example.com\" rel=\"stylesheet\" type=\"text/css\"/> <link href=\"https://example.com\" rel=\"stylesheet\" type=\"text/css\"/> <link href=\"https://example.com\" rel=\"stylesheet\" type=\"text/css\"/> <link href=\"https://example.com\" rel=\"stylesheet\" type=\"text/css\"/> <link href=\"https://example.com\" rel=\"stylesheet\" type=\"text/css\"/> <link href=\"https://example.com\" rel=\"stylesheet\" type=\"text/css\"/> <link href=\"https://example.com\" rel=\"stylesheet\" type=\"text/css\"/> <link href=\"https://example.com\" rel=\"stylesheet\" type=\"text/css\"/> <link href=\"https://example.com\" rel=\"stylesheet\" type=\"text/css\"/> <link href=\"https://example.com\" rel=\"stylesheet\" type=\"text/css\"/> <link href=\"https://example.com\" rel=\"stylesheet\" type=\"text/css\"/> <link href=\"https://example.com\" rel=\"stylesheet\" type=\"text/css\"/> <link href=\"https://example.com\" rel=\"stylesheet\" type=\"text/css\"/> <link href=\"https://example.com\" rel=\"stylesheet\" type=\"text/css\"/> <link href=\"https://example.com\" rel=\"stylesheet\" type=\"text/css\"/> <link href=\"https://example.com\" rel=\"stylesheet\" type=\"text/css\"/> <link href=\"https://example.com\" rel=\"stylesheet\" type=\"text/css\"/> <link href=\"https://example.com\" rel=\"stylesheet\" type=\"text/css\"/> <link href=\"https://example.com\" rel=\"stylesheet\" type=\"text/css\"/> <link href=\"https://example.com\" rel=\"stylesheet\" type=\"text/css\"/> <link href=\"https://example.com\" rel=\"stylesheet\" type=\"text/css\"/> <link href=\"https://example.com\" rel=\"stylesheet\" type=\"text/css\"/> <link href=\"https://example.com\" rel=\"stylesheet\" type=\"text/css\"/> <link href=\"https://example.com\" rel=\"stylesheet\" type=\"text/css\"/> <link href=\"https://example.com\" rel=\"stylesheet\" type=\"text/css\"/> <link href=\"https://example.com\" rel=\"stylesheet\" type=\"text/css\"/> <link href=\"https://example.com\" rel=\"stylesheet\" type=\"text/css\"/> <link href=\"https://example.com\" rel=\"stylesheet\" type=\"text/css\"/> <link href=\"https://example.com\" rel=\"stylesheet\" type=\"text/css\"/> <link href=\"https://example.com\" rel=\"stylesheet\" type=\"text/css\"/> <link href=\"https://example.com\" rel=\"stylesheet\" type=\"text/css\"/> <link href=\"https://example.com\" rel=\"stylesheet\" type=\"text/css\"/> <link href=\"https://example.com\" rel=\"stylesheet\" type=\"text/css\"/> <link href=\"https://example.com\" rel=\"stylesheet\" type=\"text/css\"/> <link href=\"https://example.com\" rel=\"stylesheet\" type=\"text/css\"/> <link href=\"https://example.com\" rel=\"stylesheet\" type=\"text/css\"/> <link href=\"https://example.com\" rel=\"stylesheet\" type=\"text/css\"/> <link href=\"https://example.com\" rel=\"stylesheet\" type=\"text/css\"/> <link href=\"https://example.com\" rel=\"stylesheet\" type=\"text/css\"/> <link href=\"https://example.com\" rel=\"stylesheet\" type=\"text/css\"/> <link href=\"https://example.com\" rel=\"stylesheet\" type=\"text/css\"/> <link href=\"https://example.com\" rel=\"stylesheet\" type=\"text/css\"/> <link href=\"https://example.com\" rel=\"stylesheet\" type=\"text/css\"/> <link href=\"https://example.com\" rel=\"stylesheet\" type=\"text/css\"/> <link href=\"https://example.com\" rel=\"stylesheet\" type=\"text/css\"/> <link href=\"https://example.com\" rel=\"stylesheet\" type=\"text/css\"/> <link href=\"https://example.com\" rel=\"stylesheet\" type=\"text/css\"/> <link href=\"https://example.com\" rel=\"stylesheet\" type=\"text/css\"/> <link href=\"https://example.com\" rel=\"stylesheet\" type=\"text/css\"/> <link href=\"https://example.com\" rel=\"stylesheet\" type=\"text/css\"/> <link href=\"https://example.com\" rel=\"stylesheet\" type=\"text/css\"/> <link href=\"https://example.com\" rel=\"stylesheet\" type=\"text/css\"/> <link href=\"https://example.com\" rel=\"stylesheet\" type=\"text/css\"/> <link href=\"https://example.com\" rel=\"stylesheet\" type=\"text/css\"/> <link href=\"https://example.com\" rel=\"stylesheet\" type=\"text/css\"/> <link href=\"https://example.com\" rel=\"stylesheet\" type=\"text/css\"/> <link href=\"https://example.com\" rel=\"stylesheet\" type=\"text/css\"/> <link href=\"https://example.com\" rel=\"stylesheet\" type=\"text/css\"/> <link href=\"https://example.com\" rel=\"stylesheet\" type=\"text/css\"/> <link href=\"https://example.com\" rel=\"stylesheet\" type=\"text/css\"/> <link href=\"https://example.com\" rel=\"stylesheet\" type=\"text/css\"/> <link href=\"https://example.com\" rel=\"stylesheet\" type=\"text/css\"/> <link href=\"https://example.com\" rel=\"stylesheet\" type=\"text/css\"/> <link href=\"https://example.com\" rel=\"stylesheet\" type=\"text/css\"/> <link href=\"https://example.com\" rel=\"stylesheet\" type=\"text/css\"/> <link href=\"https://example.com\" rel=\"stylesheet\" type=\"text/css\"/> <link href=\"https://example.com\" rel=\"stylesheet\" type=\"text/css\"/> <link href=\"https://example.com\" rel=\"stylesheet\" type=\"text/css\"/> <link href=\"https://example.com\" rel=\"stylesheet\" type=\"text/css\"/> <link href=\"https://example.com\" rel=\"stylesheet\" type=\"text/css\"/> <link href=\"https://example.com\" rel=\"stylesheet\" type=\"text/css\"/> <link href=\"https://example.com\" rel=\"stylesheet\" type=\"text/css\"/> <link href=\"https://example.com\" rel=\"stylesheet\" type=\"text/css\"/> <link href=\"https://example.com\" rel=\"stylesheet\" type=\"text/css\"/> <link href=\"https://example.com\" rel=\"stylesheet\" type=\"text/css\"/> <link href=\"https://example.com\" rel=\"stylesheet\" type=\"text/css\"/> <link href=\"https://example.com\" rel=\"stylesheet\" type=\"text/css\"/> <link href=\"https://example.com\" rel=\"stylesheet\" type=\"text/css\"/> <link href=\"https://example.com\" rel=\"stylesheet\" type=\"text/css\"/> <link href=\"https://example.com\" rel=\"stylesheet\" type=\"text/css\"/> <link href=\"https://example.com\" rel=\"stylesheet\" type=\"text/css\"/> <link href=\"https://example.com\" rel=\"stylesheet\" type=\"text/css\"/> <link href=\"https://example.com\" rel=\"stylesheet\" type=\"text/css\"/> <link href=\"https://example.com\" rel=\"stylesheet\" type=\"text/css\"/> <link href=\"https://example.com\" rel=\"stylesheet\" type=\"text/css\"/> <link href=\"https://example.com\" rel=\"stylesheet\" type=\"text/css\"/> <link href=\"https://example.com\" rel=\"stylesheet\" type=\"text/css\"/> <link href=\"https://example.com\" rel=\"stylesheet\" type=\"text/css\"/> <link href=\"https://example.com\" rel=\"stylesheet\" type=\"text/css\"/> <link href=\"https://example.com\" rel=\"stylesheet\" type=\"text/css\"/> <link href=\"https://example.com\" rel=\"stylesheet\" type=\"text/css\"/> <link href=\"https://example.com\" rel=\"stylesheet\" type=\"text/css\"/> <link href=\"https://example.com\" rel=\"stylesheet\" type=\"text/css\"/> <link href=\"https://example.com\" rel=\"stylesheet\" type=\"text/css\"/> <\n",
            "    Answer: <html lang=\"en\"> <head> <title> Do aliqua aliqua </title> <link crossorigin=\"anonymous\" href=\"datacite.org.css\" integrity=\"sha512-1PKOgIY59xJ8Co8+NE6FZ+LOAZKjy+KY8iq0G4B3CyeY6wYHN3yt9PW0XpSriVlkMXe40PTKnXrLnZ9+fkDaog==\" rel=\"stylesheet\"/> <link href=\"ref.placeholder\" rel=\"stylesheet\" type=\"text/css\"/> <link href=\"datacite.org.css\" rel=\"stylesheet\" type=\"text/css\"/> <link href=\"ref.placeholder\" rel=\"icon\" type=\"image/ico\"/> </head> <body> <nav class=\"navbar navbar-default navbar-fixed-top\" role=\"navigation\"> <div class=\"container\"> <div class=\"navbar-header\"> <button class=\"navbar-toggle\" data-target=\"#bs-example-navbar-collapse-1\" data-toggle=\"collapse\" type=\"button\"> <span class=\"sr-only\"> Adipiscing cillum </span> <span class=\"icon-bar\"> </span> <span class=\"icon-bar\"> </span> <span class=\"icon-bar\"> </span> </button> <a class=\"navbar-brand\" href=\"ref.placeholder\"> </a> </div> <div class=\"collapse navbar-collapse\" id=\"bs-example-navbar-collapse-1\"> <ul class=\"nav navbar-nav navbar-right\"> <li class=\"dropdown\"> <a aria-expanded=\"false\" aria-haspopup=\"true\" class=\"dropdown-toggle\" data-toggle=\"dropdown\" href=\"ref.placeholder\" role=\"button\"> Sed mollit eu <span class=\"caret\"> </span> </a> <ul class=\"dropdown-menu\"> <li> <a href=\"ref.placeholder\"> Nulla adipiscing excepteur </a> </li> <li class=\"divider\" role=\"separator\"> </li> <li> <a href=\"ref.placeholder\"> Ea </a> </li> <li class=\"divider\" role=\"separator\"> </li> <li> <a href=\"ref.placeholder\"> Occaecat </a> </li> <li class=\"divider\" role=\"separator\"> </li> <li> <a href=\"ref.placeholder\"> Ea commodo </a> </li> <li class=\"divider\" role=\"separator\"> </li> <li> <a href=\"ref.placeholder\"> Mollit </a> </li> <li class=\"divider\" role=\"separator\"> </li> <li> <a href=\"ref.placeholder\"> Officia ullamco </a> </li> </ul> </li> <li class=\"dropdown\"> <a aria-expanded=\"false\" aria-haspopup=\"true\" class=\"dropdown-toggle\" data-toggle=\"dropdown\" href=\"ref.placeholder\" role=\"button\"> Nostrud qui <span class=\"caret\"> </span> </a> <ul class=\"dropdown-menu\"> <li> <a href=\"https://example.com\"> Ut esse adipiscing tempor </a> </li> <li class=\"divider\" role=\"separator\"> </li> <li> <a href=\"https://example.com\"> Cillum irure adipiscing id </a> </li> <li class=\"divider\" role=\"separator\"> </li> <li> <a href=\"ref.placeholder\"> Culpa tempor cillum </a> </li> <li class=\"divider\" role=\"separator\"> </li> <li> <a href=\"ref.placeholder\"> Ad nulla ipsum aliqua aute in velit consectetur reprehenderit reprehenderit lorem esse tempor </a> </li> </ul> </li> <li class=\"dropdown\"> <a aria-expanded=\"false\" aria-haspopup=\"true\" class=\"dropdown-toggle\" data-toggle=\"dropdown\" href=\"ref.placeholder\" role=\"button\"> Voluptate officia <span class=\"caret\"> </span> </a> <ul class=\"dropdown-menu\"> <li> <a href=\"https://example.com\"> Ea magna </a> </li> <li class=\"divider\" role=\"separator\"> </li> <li> <a href=\"https://example.com\"> Cillum </a> </li> <li class=\"divider\" role=\"separator\"> </li> <li> <a href=\"ref.placeholder\"> Eiusmod velit </a> </li> </ul> </li> <li class=\"dropdown\"> <a aria-expanded=\"false\" aria-haspopup=\"true\" class=\"dropdown-toggle\" data-toggle=\"dropdown\" href=\"ref.placeholder\" role=\"button\"> Duis tempor <span class=\"caret\"> </span> </a> <ul class=\"dropdown-menu\"> <li> <a href=\"ref.placeholder\"> Veniam </a> </li> <li class=\"divider\" role=\"separator\"> </li> <li> <a href=\"ref.placeholder\"> Ea </a> </li> <li class=\"divider\" role=\"separator\"> </li> <li> <a href=\"ref.placeholder\"> Consectetur incididunt </a> </li> <li class=\"divider\" role=\"separator\"> </li> <li> <a href=\"ref.placeholder\"> Consectetur aute </a> </li> <li class=\"divider\" role=\"separator\"> </li> <li> <a href=\"ref.placeholder\"> Sed </a> </li> <li class=\"divider\" role=\"separator\"> </li> <li> <a href=\"ref.placeholder\"> Non laboris </a> </li> <li class=\"divider\" role=\"separator\"> </li> <li> <a href=\"ref.placeholder\"> Aute enim sed </a> </li> <li class=\"divider\" role=\"separator\"> </li> <li> <a href=\"ref.placeholder\"> Commodo veniam mollit excepteur </a> </li> <li class=\"divider\" role=\"separator\"> </li> <li> <a href=\"ref.placeholder\"> Nulla voluptate officia cillum enim eu laboris minim do adipiscing sint ut pariatur ipsum ex ea </a> </li> <li class=\"divider\" role=\"separator\"> </li> <li> <a href=\"ref.placeholder\"> Excepteur veniam dolore cupidatat qui magna ipsum sit ad ullamco enim ea tempor consequat minim labore qui lorem proident </a> </li> </ul> </li> <li class=\"active\"> <a href=\"ref.placeholder\"> Est laborum magna </a> <span class=\"sr-only\"> Sit </span> </li> <li> <a href=\"https://example.com\"> Labore </a> </li> <li> <a href=\"ref.placeholder\"> <i class=\"fas fa-envelope fa-lg\"> </i> </a> </li> <li> <a href=\"https://example.com\"> <i class=\"fab fa-twitter fa-lg\"> </i> </a> </li> </ul> </div> </div> </nav> <header class=\"image-bg-fixed-height randimg\" style='background-image:url(\"images/banner_figshare.jpg\")'> <div class=\"jumbotron\"> <h1> Consequat deserunt incididunt </h1> <div class=\"row\"> <div class=\"col-md-2\"> </div> <div class=\"col-md-8\"> <p> Ad nostrud non ut </p> </div> <div class=\"col-md-2\"> </div> </div> <p> <a class=\"btn btn-primary btn-lg\" href=\"ref.placeholder\" role=\"button\"> Commodo nulla </a> </p> </div> </header> <section> <div class=\"container\"> <div class=\"row\"> <div class=\"col-md-3\"> <h1 class=\"section-heading\"> <img alt=\"Home search\" src=\"../../images/default_img.svg\"/> </h1> <p class=\"section-paragraph\"> Culpa dolor id sed nulla elit laborum deserunt officia esse velit enim qui do deserunt ipsum in pariatur minim nulla duis sit eu nostrud esse esse nostrud fugiat commodo </p> </div> <div class=\"col-md-3\"> <h1 class=\"section-heading\"> <img alt=\"Home reuse\" src=\"../../images/default_img.svg\"/> </h1> <p class=\"section-paragraph\"> Voluptate aliquip sint tempor aute do occaecat cupidatat nisi eu sint aute do nisi sit est esse laboris cupidatat veniam laboris magna officia nulla laboris commodo occaecat adipiscing est mollit in consectetur minim </p> </div> <div class=\"col-md-3\"> <h1 class=\"section-heading\"> <img alt=\"Home quotes\" src=\"../../images/default_img.svg\"/> </h1> <p class=\"section-paragraph\"> Ullamco lorem nostrud irure culpa anim in lorem labore amet enim voluptate proident minim non ipsum sunt lorem consectetur mollit excepteur culpa dolore ea velit nostrud esse id fugiat culpa </p> </div> <div class=\"col-md-3\"> <h1 class=\"section-heading\"> <img alt=\"Home link\" src=\"../../images/default_img.svg\"/> </h1> <p class=\"section-paragraph\"> Id labore ea et quis tempor esse consectetur sit enim dolore nisi veniam pariatur consectetur elit reprehenderit anim pariatur cupidatat est cillum et sunt in magna quis non laboris culpa aliqua </p> </div> </div> </div> </section> <section> <div class=\"container-fluid bg-primary\"> <div class=\"row\"> <div class=\"col-md-12\"> <h1 class=\"svc-heading\"> Proident pariatur do qui </h1> </div> <div class=\"container\"> <div class=\"row text-center\"> <div class=\"col-md-4 col-sm-4 svc-item\"> <div class=\"thumbnail\"> <div class=\"caption\"> <a href=\"https://example.com\"> <img alt=\"Fabrica\" src=\"../../images/default_img.jpeg\"/> </a> <p> Sint id cupidatat elit esse consectetur ad </p> </div> </div> </div> <div class=\"col-md-4 col-sm-4 svc-item\"> <div class=\"thumbnail\"> <div class=\"caption\"> <a href=\"https://example.com\"> <img alt=\"Home search2\" src=\"../../images/default_img.svg\"/> </a> <p> Quis irure sunt sint proident </p> </div> </div> </div> <div class=\"col-md-4 col-sm-4 svc-item\"> <div class=\"thumbnail\"> <div class=\"caption\"> <a href=\"https://example.com\"> <img alt=\"Home api\" src=\"../../images/default_img.jpeg\"/> </a> <p> Cillum non irure nisi </p> </div> </div> </div> </div> </div> </div> </div> </section> <footer class=\"footer\"> <div class=\"container-fluid bg-primary\"> <div class=\"container\"> <div class=\"col-md-3 col-sm-3\"> <h4> Magna aute </h4> <ul> <li> <a href=\"ref.placeholder\"> Pariatur cupidatat et </a> </li> <li> <a href=\"ref.placeholder\"> Sit </a> </li> <li> <a href=\"ref.placeholder\"> Nulla </a> </li> <li> <a href=\"ref.placeholder\"> Sed consequat </a> </li> <li> <a href=\"ref.placeholder\"> Sit </a> </li> <li> <a href=\"ref.placeholder\"> Duis consequat </a> </li> </ul> </div> <div class=\"col-md-3 col-sm-3\"> <h4> Nostrud </h4> <ul> <li> <a href=\"https://example.com\"> Consectetur enim exercitation ipsum </a> </li> <li> <a href=\"https://example.com\"> Veniam dolore ipsum irure </a> </li> <li> <a href=\"ref.placeholder\"> Minim amet id </a> </li> <li> <a href=\"ref.placeholder\"> Tempor commodo commodo reprehenderit sit consectetur sunt et lorem excepteur quis veniam non sunt aute exercitation veniam </a> </li> </ul> </div> <div class=\"col-md-3 col-sm-3\"> <h4> Amet </h4> <ul> <li> <a href=\"https://example.com\"> Laboris aliqua </a> </li> <li> <a href=\"https://example.com\"> Ex </a> </li> <li> <a href=\"ref.placeholder\"> Reprehenderit deserunt do aute esse enim consequat proident incididunt mollit eiusmod amet do culpa mollit esse eu </a> </li> </ul> <h4> Labore </h4> <ul> <li> <a href=\"ref.placeholder\"> Veniam </a> </li> <li> <a href=\"ref.placeholder\"> Proident </a> </li> <li> <a href=\"ref.placeholder\"> Sit veniam </a> </li> <li> <a href=\"ref.placeholder\"> Voluptate et reprehenderit in minim sint tempor lorem lorem eu ipsum magna enim laboris consectetur enim veniam </a> </li> <li> <a href=\"ref.placeholder\"> Aute </a> </li> <li> <a href=\"ref.placeholder\"> Eiusmod et nulla culpa ullamco velit sit mollit velit proident nostrud in laboris amet labore officia id </a> </li> <li> <a href=\"ref.placeholder\"> Culpa sunt laborum </a> </li> <li> <a href=\"ref.placeholder\"> Dolor nisi ut et </a> </li> <li> <a href=\"ref.placeholder\"> Non do velit do duis </a> </li> <li> <a href=\"ref.placeholder\"> Sed ex veniam anim irure ut eiusmod anim minim non cillum incididunt aliquip in commodo sint deserunt sunt nisi id mollit nulla ipsum </a> </li> </ul> </div> <div class=\"col-md-3 col-sm-3\"> <h4 class=\"share\"> Deserunt labore </h4> <a class=\"share\" href=\"mailto:support@datacite.org\"> <i class=\"fas fa-envelope\"> </i> </a> <a class=\"share\" href=\"https://example.com\"> <i class=\"fas fa-blog\"> </i> </a> <a class=\"share\" href=\"https://example.com\"> <i class=\"fab fa-twitter\"> </i> </a> <a class=\"share\" href=\"https://example.com\"> <i class=\"fab fa-github\"> </i> </a> <a class=\"share\" href=\"https://example.com\"> <i class=\"fab fa-youtube\"> </i> </a> <a class=\"share\" href=\"https://example.com\"> <i class=\"fab fa-linkedin\"> </i> </a> <a class=\"share\" href=\"https://example.com\" rel=\"me\"> <i class=\"fab fa-mastodon\"> </i> </a> <ul class=\"contact\"> <li> <a href=\"ref.placeholder\"> Consectetur </a> </li> <li> <a href=\"ref.placeholder\"> Proident velit ipsum </a> </li> <li> <a href=\"ref.placeholder\"> Officia excepteur velit excepteur deserunt in ex pariatur dolor eu nisi velit qui aliqua consectetur in culpa </a> </li> </ul> </div> </div> </div> </footer> <div id=\"consent\"> <div class=\"CookieConsent MY_CONTAINER_CLASS\" style=\"align-items:baseline;background:rgb(53, 53, 53);color:white;display:flex;justify-content:space-between;left:0px;position:fixed;width:100%;z-index:999;font-size:16px;height:95px;bottom:0px\"> <div class=\"MY_CONTENT_CLASS\" style=\"flex:1 0 300px;margin:15px\"> Reprehenderit non laborum magna pariatur veniam ad amet cupidatat elit est exercitation dolore labore fugiat mollit proident aliqua irure anim reprehenderit deserunt consequat ex nisi quis velit cupidatat do dolore ipsum amet elit labore cillum aliqua nulla tempor laboris occaecat dolore duis proident id eiusmod aliquip velit do enim voluptate anim <a href=\"https://example.com\" rel=\"noreferrer\" style=\"color:rgb(254, 205, 35)\"> Cupidatat laboris </a> Cupidatat sunt aliqua ullamco dolore laboris irure labore fugiat est cupidatat aute laborum duis esse exercitation pariatur esse sed quis cillum adipiscing velit </div> <div class=\"MY_BUTTON_WRAPPER_CLASS\"> <button aria-label=\"Decline cookies\" class=\"MY_DECLINE_BUTTON_CLASS\" id=\"rcc-decline-button\" style=\"background:rgb(193, 42, 42);border:0px;border-radius:0px;box-shadow:none;color:rgb(229, 229, 229);cursor:pointer;flex:0 0 auto;padding:5px 10px;margin:15px\"> Sed </button> <button aria-label=\"Accept cookies\" id=\"rcc-confirm-button\" style=\"background:rgb(255, 212, 45);border:0px;border-radius:0px;box-shadow:none;color:black;cursor:pointer;flex:0 0 auto;padding:5px 10px;margin:15px\"> Tempor </button> </div> </div> </div> <div data-ga=\"UA-22806196-8\" id=\"ga\"> <div> </div> </div> </body> </html> /* START CSS */.fab,.fas { display: inline-block; font-variant: normal; text-rendering: auto; }.fa-lg { font-size: 1.33333em; vertical-align: -.0667em }.sr-only { border: 0; clip: rect(0,0,0,0); height: 1px; margin: -1px; overflow: hidden; padding: 0; position: absolute; width: 1px }.fab { font-family: \"Font Awesome 5 Brands\" }.fab { font-weight: 400 }.fas { font-family: \"Font Awesome 5 Free\" }.fas { font-weight: 900 } error\n",
            "      Bleu: 0.18\n",
            "\n",
            "Prediction: <html xmlns=\"https://example.com\"> <head> <title> Aute aliquip aliquip aliquip aliquip aliquip </title> <link href=\"https://example.com\" rel=\"stylesheet\" type=\"text/css\"/> <link href=\"https://example.com\" rel=\"stylesheet\" type=\"text/css\"/> <link href=\"https://example.com\" rel=\"stylesheet\" type=\"text/css\"/> <link href=\"https://example.com\" rel=\"stylesheet\" type=\"text/css\"/> <link href=\"https://example.com\" rel=\"stylesheet\" type=\"text/css\"/> <link href=\"https://example.com\" rel=\"stylesheet\" type=\"text/css\"/> <link href=\"https://example.com\" rel=\"stylesheet\" type=\"text/css\"/> <link href=\"https://example.com\" rel=\"stylesheet\" type=\"text/css\"/> <link href=\"https://example.com\" rel=\"stylesheet\" type=\"text/css\"/> <link href=\"https://example.com\" rel=\"stylesheet\" type=\"text/css\"/> <link href=\"https://example.com\" rel=\"stylesheet\" type=\"text/css\"/> <link href=\"https://example.com\" rel=\"stylesheet\" type=\"text/css\"/> <link href=\"https://example.com\" rel=\"stylesheet\" type=\"text/css\"/> <link href=\"https://example.com\" rel=\"stylesheet\" type=\"text/css\"/> <link href=\"https://example.com\" rel=\"stylesheet\" type=\"text/css\"/> <link href=\"https://example.com\" rel=\"stylesheet\" type=\"text/css\"/> <link href=\"https://example.com\" rel=\"stylesheet\" type=\"text/css\"/> <link href=\"https://example.com\" rel=\"stylesheet\" type=\"text/css\"/> <link href=\"https://example.com\" rel=\"stylesheet\" type=\"text/css\"/> <link href=\"https://example.com\" rel=\"stylesheet\" type=\"text/css\"/> <link href=\"https://example.com\" rel=\"stylesheet\" type=\"text/css\"/> <link href=\"https://example.com\" rel=\"stylesheet\" type=\"text/css\"/> <link href=\"https://example.com\" rel=\"stylesheet\" type=\"text/css\"/> <link href=\"https://example.com\" rel=\"stylesheet\" type=\"text/css\"/> <link href=\"https://example.com\" rel=\"stylesheet\" type=\"text/css\"/> <link href=\"https://example.com\" rel=\"stylesheet\" type=\"text/css\"/> <link href=\"https://example.com\" rel=\"stylesheet\" type=\"text/css\"/> <link href=\"https://example.com\" rel=\"stylesheet\" type=\"text/css\"/> <link href=\"https://example.com\" rel=\"stylesheet\" type=\"text/css\"/> <link href=\"https://example.com\" rel=\"stylesheet\" type=\"text/css\"/> <link href=\"https://example.com\" rel=\"stylesheet\" type=\"text/css\"/> <link href=\"https://example.com\" rel=\"stylesheet\" type=\"text/css\"/> <link href=\"https://example.com\" rel=\"stylesheet\" type=\"text/css\"/> <link href=\"https://example.com\" rel=\"stylesheet\" type=\"text/css\"/> <link href=\"https://example.com\" rel=\"stylesheet\" type=\"text/css\"/> <link href=\"https://example.com\" rel=\"stylesheet\" type=\"text/css\"/> <link href=\"https://example.com\" rel=\"stylesheet\" type=\"text/css\"/> <link href=\"https://example.com\" rel=\"stylesheet\" type=\"text/css\"/> <link href=\"https://example.com\" rel=\"stylesheet\" type=\"text/css\"/> <link href=\"https://example.com\" rel=\"stylesheet\" type=\"text/css\"/> <link href=\"https://example.com\" rel=\"stylesheet\" type=\"text/css\"/> <link href=\"https://example.com\" rel=\"stylesheet\" type=\"text/css\"/> <link href=\"https://example.com\" rel=\"stylesheet\" type=\"text/css\"/> <link href=\"https://example.com\" rel=\"stylesheet\" type=\"text/css\"/> <link href=\"https://example.com\" rel=\"stylesheet\" type=\"text/css\"/> <link href=\"https://example.com\" rel=\"stylesheet\" type=\"text/css\"/> <link href=\"https://example.com\" rel=\"stylesheet\" type=\"text/css\"/> <link href=\"https://example.com\" rel=\"stylesheet\" type=\"text/css\"/> <link href=\"https://example.com\" rel=\"stylesheet\" type=\"text/css\"/> <link href=\"https://example.com\" rel=\"stylesheet\" type=\"text/css\"/> <link href=\"https://example.com\" rel=\"stylesheet\" type=\"text/css\"/> <link href=\"https://example.com\" rel=\"stylesheet\" type=\"text/css\"/> <link href=\"https://example.com\" rel=\"stylesheet\" type=\"text/css\"/> <link href=\"https://example.com\" rel=\"stylesheet\" type=\"text/css\"/> <link href=\"https://example.com\" rel=\"stylesheet\" type=\"text/css\"/> <link href=\"https://example.com\" rel=\"stylesheet\" type=\"text/css\"/> <link href=\"https://example.com\" rel=\"stylesheet\" type=\"text/css\"/> <link href=\"https://example.com\" rel=\"stylesheet\" type=\"text/css\"/> <link href=\"https://example.com\" rel=\"stylesheet\" type=\"text/css\"/> <link href=\"https://example.com\" rel=\"stylesheet\" type=\"text/css\"/> <link href=\"https://example.com\" rel=\"stylesheet\" type=\"text/css\"/> <link href=\"https://example.com\" rel=\"stylesheet\" type=\"text/css\"/> <link href=\"https://example.com\" rel=\"stylesheet\" type=\"text/css\"/> <link href=\"https://example.com\" rel=\"stylesheet\" type=\"text/css\"/> <link href=\"https://example.com\" rel=\"stylesheet\" type=\"text/css\"/> <link href=\"https://example.com\" rel=\"stylesheet\" type=\"text/css\"/> <link href=\"https://example.com\" rel=\"stylesheet\" type=\"text/css\"/> <link href=\"https://example.com\" rel=\"stylesheet\" type=\"text/css\"/> <link href=\"https://example.com\" rel=\"stylesheet\" type=\"text/css\"/> <link href=\"https://example.com\" rel=\"stylesheet\" type=\"text/css\"/> <link href=\"https://example.com\" rel=\"stylesheet\" type=\"text/css\"/> <link href=\"https://example.com\" rel=\"stylesheet\" type=\"text/css\"/> <link href=\"https://example.com\" rel=\"stylesheet\" type=\"text/css\"/> <link href=\"https://example.com\" rel=\"stylesheet\" type=\"text/css\"/> <link href=\"https://example.com\" rel=\"stylesheet\" type=\"text/css\"/> <link href=\"https://example.com\" rel=\"stylesheet\" type=\"text/css\"/> <link href=\"https://example.com\" rel=\"stylesheet\" type=\"text/css\"/> <link href=\"https://example.com\" rel=\"stylesheet\" type=\"text/css\"/> <link href=\"https://example.com\" rel=\"stylesheet\" type=\"text/css\"/> <link href=\"https://example.com\" rel=\"stylesheet\" type=\"text/css\"/> <link href=\"https://example.com\" rel=\"stylesheet\" type=\"text/css\"/> <link href=\"https://example.com\" rel=\"stylesheet\" type=\"text/css\"/> <link href=\"https://example.com\" rel=\"stylesheet\" type=\"text/css\"/> <link href=\"https://example.com\" rel=\"stylesheet\" type=\"text/css\"/> <link href=\"https://example.com\" rel=\"stylesheet\" type=\"text/css\"/> <link href=\"https://example.com\" rel=\"stylesheet\" type=\"text/css\"/> <link href=\"https://example.com\" rel=\"stylesheet\" type=\"text/css\"/> <link href=\"https://example.com\" rel=\"stylesheet\" type=\"text/css\"/> <link href=\"https://example.com\" rel=\"stylesheet\" type=\"text/css\"/> <link href=\"https://example.com\" rel=\"stylesheet\" type=\"text/css\"/> <link href=\"https://example.com\" rel=\"stylesheet\" type=\"text/css\"/> <link href=\"https://example.com\" rel=\"stylesheet\" type=\"text/css\"/> <link href=\"https://example.com\" rel=\"stylesheet\" type=\"text/css\"/> <link href=\"https://example.com\" rel=\"stylesheet\" type=\"text/css\"/> <link href=\"https://example.com\" rel=\"stylesheet\" type=\"text/css\"/> <link href=\"https://example.com\" rel=\"stylesheet\" type=\"text/css\"/> <link href=\"https://example.com\" rel=\"stylesheet\" type=\"text/css\"/> <link href=\"https://example.com\" rel=\"stylesheet\" type=\"text/css\"/> <link href=\"https://example.com\" rel=\"stylesheet\" type=\"text/css\"/> <link href=\"https://example.com\" rel=\"stylesheet\" type=\"text/css\"/> <link href=\"https://example.com\" rel=\"stylesheet\" type=\"text/css\"/> <link href=\"https://example.com\" rel=\"stylesheet\" type=\"text/css\"/> <link href=\"https://example.com\" rel=\"stylesheet\" type=\"text/css\"/> <link href=\"https://example.com\" rel=\"stylesheet\" type=\"text/css\"/> <link href=\"https://example.com\" rel=\"stylesheet\" type=\"text/css\"/> <link href=\"https://example.com\" rel=\"stylesheet\" type=\"text/css\"/> <link href=\"https://example.com\" rel=\"stylesheet\" type=\"text/css\"/> <link href=\"https://example.com\" rel=\"stylesheet\" type=\"text/css\"/> <link href=\"https://example.com\" rel=\"stylesheet\" type=\"text/css\"/> <link href=\"https://example.com\" rel=\"stylesheet\" type=\"text/css\"/> <link href=\"https://example.com\" rel=\"stylesheet\" type=\"text/css\"/> <link href=\"https://example.com\" rel=\"stylesheet\" type=\"text/css\"/> <link href=\"https://example.com\" rel=\"stylesheet\" type=\"text/css\"/> <link href=\"https://example.com\" rel=\"stylesheet\" type=\"text/css\"/> <link href=\"https://example.com\" rel=\"stylesheet\" type=\"text/css\"/> <link href=\"https://example.com\" rel=\"stylesheet\" type=\"text/css\"/> <link href=\"https://example.com\" rel=\"stylesheet\" type=\"text/css\"/> <link href=\"https://example.com\" rel=\"stylesheet\" type=\"text/css\"/> <link href=\"https://example.com\" rel=\"stylesheet\" type=\"text/css\"/> <link href=\"https://example.com\" rel=\"stylesheet\" type=\"text/css\"/> <link href=\"https://example.com\" rel=\"stylesheet\" type=\"text/css\"/> <link href=\"https://example.com\" rel=\"stylesheet\" type=\"text/css\"/> <link href=\"https://example.com\" rel=\"stylesheet\" type=\"text/css\"/> <link href=\"https://example.com\" rel=\"stylesheet\" type=\"text/css\"/> <link href=\"https://example.com\" rel=\"stylesheet\" type=\"text/css\"/> <link href=\"https://example.com\" rel=\"stylesheet\" type=\"text/css\"/> <link href=\"https://example.com\" rel=\"stylesheet\" type=\"text/css\"/> <link href=\"https://example.com\" rel=\"stylesheet\" type=\"text/css\"/> <link href=\"https://example.com\" rel=\"stylesheet\" type=\"text/css\"/> <link href=\"https://example.com\" rel=\"stylesheet\" type=\"text/css\"/> <link href=\"https://example.com\" rel=\"stylesheet\" type=\"text/css\"/> <link href=\"https://example.com\" rel=\"stylesheet\" type=\"text/css\"/> <link href=\"https://example.com\" rel=\"stylesheet\" type=\"text/css\"/> <link href=\"https://example.com\" rel=\"stylesheet\" type=\"text/css\"/> <link href=\"https://example.com\" rel=\"stylesheet\" type=\"text/css\"/> <link href=\"https://example.com\" rel=\"stylesheet\" type=\"text/css\"/> <link href=\"https://example.com\" rel=\"stylesheet\" type=\"text/css\"/> <link href=\"https://example.com\" rel=\"stylesheet\" type=\"text/css\"/> <link href=\"https://example.com\" rel=\"stylesheet\" type=\"text/css\"/> <link href=\"https://example.com\" rel=\"stylesheet\" type=\"text/css\"/> <link href=\"https://example.com\" rel=\"stylesheet\" type=\"text/css\"/> <link href=\"https://example.com\" rel=\"stylesheet\" type=\"text/css\"/> <link href=\"https://example.com\" rel=\"stylesheet\" type=\"text/css\"/> <link href=\"https://example.com\" rel=\"stylesheet\" type=\"text/css\"/> <link href=\"https://example.com\" rel=\"stylesheet\" type=\"text/css\"/> <link href=\"https://example.com\" rel=\"stylesheet\" type=\"text/css\"/> <link href=\"https://example.com\" rel=\"stylesheet\" type=\"text/css\"/> <link href=\"https://example.com\" rel=\"stylesheet\" type=\"text/css\"/> <link href=\"https://example.com\" rel=\"stylesheet\" type=\"text/css\"/> <link href=\"https://example.com\" rel=\"stylesheet\" type=\"text/css\"/> <link href=\"https://example.com\" rel=\"stylesheet\" type=\"text/css\"/> <link href=\"https://example.com\" rel=\"stylesheet\" type=\"text/css\"/> <link href=\"https://example.com\" rel=\"stylesheet\" type=\"text/css\"/> <link href=\"https://example.com\" rel=\"stylesheet\" type=\"text/css\"/> <link href=\"https://example.com\" rel=\"stylesheet\" type=\"text/css\"/> <link href=\"https://example.com\" rel=\"stylesheet\" type=\"text/css\"/> <link href=\"https://example.com\" rel=\"stylesheet\" type=\"text/css\"/> <link href=\"https://example.com\" rel=\"stylesheet\" type=\"text/css\"/> <link href=\"https://example.com\" rel=\"stylesheet\" type=\"text/css\"/> <link href=\"https://example.com\" rel=\"stylesheet\" type=\"text/css\"/> <link href=\"https://example.com\" rel=\"stylesheet\" type=\"text/css\"/> <link href=\"https://example.com\" rel=\"stylesheet\" type=\"text/css\"/> <link href=\"https://example.com\" rel=\"stylesheet\" type=\"text/css\"/> <link href=\"https://example.com\" rel=\"stylesheet\" type=\"text/css\"/> <link href=\"https://example.com\" rel=\"stylesheet\" type=\"text/css\"/> <link href=\"https://example.com\" rel=\"stylesheet\" type=\"text/css\"/> <link href=\"https://example.com\" rel=\"stylesheet\" type=\"text/css\"/> <link href=\"https://example.com\" rel=\"stylesheet\" type=\"text/css\"/> <link href=\"https://example.com\" rel=\"stylesheet\" type=\"text/css\"/> <link href=\"https://example.com\" rel=\"stylesheet\" type=\"text/css\"/> <link href=\"https://example.com\" rel=\"stylesheet\" type=\"text/css\"/> <link href=\"https://example.com\" rel=\"stylesheet\" type=\"text/css\"/> <link href=\"https://example.com\" rel=\"stylesheet\" type=\"text/css\"/> <link href=\"https://example.com\" rel=\"stylesheet\" type=\"text/css\"/> <link href=\"https://example.com\" rel=\"stylesheet\" type=\"text/css\"/> <link href=\"https://example.com\" rel=\"stylesheet\" type=\"text/css\"/> <link href=\"https://example.com\" rel=\"stylesheet\" type=\"text/css\"/> <link href=\"https://example.com\" rel=\"stylesheet\" type=\"text/css\"/> <link href=\"https://example.com\" rel=\"stylesheet\" type=\"text/css\"/> <link href=\"https://example.com\" rel=\"stylesheet\" type=\"text/css\"/> <link href=\"https://example.com\" rel=\"stylesheet\" type=\"text/css\"/> <link href=\"https://example.com\" rel=\"stylesheet\" type=\"text/css\"/> <link href=\"https://example.com\" rel=\"stylesheet\" type=\"text/css\"/> <link href=\"https://example.com\" rel=\"stylesheet\" type=\"text/css\"/> <link href=\"https://example.com\" rel=\"stylesheet\" type=\"text/css\"/> <link href=\"https://example.com\" rel=\"stylesheet\" type=\"text/css\"/> <link href=\"https://example.com\" rel=\"stylesheet\" type=\"text/css\"/> <link href=\"https://example.com\" rel=\"stylesheet\" type=\"text/css\"/> <link href=\"https://example.com\" rel=\"stylesheet\" type=\"text/css\"/> <link href=\"https://example.com\" rel=\"stylesheet\" type=\"text/css\"/> <link href=\"https://example.com\" rel=\"stylesheet\" type=\"text/css\"/> <link href=\"https://example.com\" rel=\"stylesheet\" type=\"text/css\"/> <link href=\"https://example.com\" rel=\"stylesheet\" type=\"text/css\"/> <link href=\"https://example.com\" rel=\"stylesheet\" type=\"text/css\"/> <link href=\"https://example.com\" rel=\"stylesheet\" type=\"text/css\"/> <link href=\"https://example.com\" rel=\"stylesheet\" type=\"text/css\"/> <link href=\"https://example.com\" rel=\"stylesheet\" type=\"text/css\"/> <link href=\"https://example.com\" rel=\"stylesheet\" type=\"text/css\"/> <link href=\"https://example.com\" rel=\"stylesheet\" type=\"text/css\"/> <link href=\"https://example.com\" rel=\"stylesheet\" type=\"text/css\"/> <link href=\"https://example.com\" rel=\"stylesheet\" type=\"text/css\"/> <link href=\"https://example.com\" rel=\"stylesheet\" type=\"text/css\"/> <link href=\"https://example.com\" rel=\"stylesheet\" type=\"text/css\"/> <\n",
            "    Answer: <html xmlns=\"https://example.com\"> <head> <title> Tempor labore irure sunt fugiat ex minim consectetur minim </title> <link href=\"https://example.com\" rel=\"stylesheet\" type=\"text/css\"/> <link href=\"synthroid.download.css\" media=\"screen\" rel=\"stylesheet\" type=\"text/css\"/> <style type=\"text/css\"> import gallery.css; </style> </head> <body> <div id=\"wrapper\"> <div id=\"header\"> <div id=\"logo\"> <h1> Aliquip </h1> <p> Deserunt pariatur anim reprehenderit incididunt reprehenderit aliquip in culpa laboris elit mollit incididunt in occaecat deserunt elit lorem magna id adipiscing culpa veniam occaecat consectetur aliquip proident dolore adipiscing aliqua laboris labore veniam voluptate magna ut </p> </div> </div> <div id=\"menu\"> <ul> <li class=\"current_page_item\"> <a href=\"ref.placeholder\"> Ut </a> </li> <li> <a href=\"ref.placeholder\"> Nisi </a> </li> <li> <a href=\"ref.placeholder\"> Velit </a> </li> <li> <a href=\"ref.placeholder\"> Nisi </a> </li> <li> <a href=\"ref.placeholder\"> Reprehenderit </a> </li> <li class=\"last\"> <a href=\"ref.placeholder\"> Veniam </a> </li> </ul> </div> <div id=\"banner\"> <img alt=\"Before you start taking Synthroid, your doctor ought to know if you have anemia, a past of blood clots, heart problem, diabetic issues, adrenal glandular condition or coronary artery condition, as you could really need a various dose of the medicine or may need to be taking something else for your symptoms.\" src=\"../../images/default_img.jpeg\"/> </div> <div id=\"welcome\"> <h2 class=\"title\"> Tempor et consectetur </h2> <div class=\"entry\"> <p> Irure amet sint ad eu aliquip qui consectetur laborum eu non aliquip ea commodo excepteur consectetur irure labore anim id lorem eu mollit anim ea mollit ullamco non voluptate nostrud mollit quis enim sed incididunt </p> </div> </div> <div id=\"three-columns\"> <div id=\"column1\"> <h2> Nostrud lorem minim </h2> <p> <img alt=\"Since Synthroid is a therapy, instead compared to a cure, you will possibly should be taking it for the remainder of your life, meanings the procedure might possibly costs you a whole lot of money.\" src=\"../../images/default_img.jpeg\"/> </p> <p> Voluptate veniam laborum officia velit laborum anim esse ipsum in consequat ad reprehenderit commodo deserunt qui nostrud irure minim lorem ex officia reprehenderit irure sint ullamco in irure velit ea elit incididunt veniam cillum in cillum officia quis minim ut cupidatat amet eiusmod exercitation consequat officia nulla id anim adipiscing in pariatur labore et nulla deserunt cupidatat sit laborum anim reprehenderit cillum laboris fugiat ut consequat eiusmod </p> <p> <a class=\"link-style\" href=\"ref.placeholder\"> Magna non </a> </p> </div> <div id=\"column2\"> <h2> Adipiscing mollit </h2> <p> <img alt=\"Synthroid is a substitute for the thyroid gland hormone prescribed when the physical body is unable to generate enough of it or there is a discrepancy of the bodily hormone triggered by a surgical procedure, radiation procedure or cancer.\" src=\"../../images/default_img.jpeg\"/> </p> <p> Elit dolor aliquip adipiscing pariatur reprehenderit velit veniam cupidatat aliquip </p> <p> <a class=\"link-style\" href=\"ref.placeholder\"> Minim cupidatat </a> </p> </div> <div id=\"column3\"> <h2> Velit deserunt </h2> <p> <img alt=\"Before you start taking Synthroid, your doctor should know if you have anemia, a history of embolism, cardiovascular disease, diabetic issues, adrenal glandular ailment or coronary canal disease, as you may need a various amount of the medicine or may have to be taking something else for your signs.\" src=\"../../images/default_img.jpeg\"/> </p> <p> Officia quis eiusmod qui excepteur culpa est dolor velit id aute laboris eu culpa sunt enim cillum mollit cillum aliqua dolore enim aliqua dolor anim labore eu ea labore do eu ullamco excepteur non officia lorem dolor in reprehenderit sunt aute sit mollit cillum ad ex ipsum occaecat cupidatat ullamco id duis nulla dolor sed anim quis non enim labore velit exercitation nostrud in sint nostrud veniam veniam enim enim incididunt commodo aliquip </p> <p> <a class=\"link-style\" href=\"ref.placeholder\"> Ea enim </a> </p> </div> </div> <div id=\"two-columns\"> <div id=\"col1\"> <h2> Dolore do officia </h2> <p> Excepteur ea laboris aute aliqua exercitation do ut labore aliquip dolor lorem irure esse sed non sunt cupidatat cillum ex labore irure id non minim mollit consequat non sunt duis nulla pariatur dolore sint nisi enim in dolore excepteur occaecat lorem </p> <p> <a class=\"link-style2\" href=\"ref.placeholder\"> Qui labore adipiscing </a> </p> </div> <div id=\"col2\"> <img alt=\"Isn't it great to have accessibility to any kind of prescribed medicines you might ever need without requiring a prescription, including Synthroid?\" class=\"image-style\" src=\"../../images/default_img.jpeg\"/> </div> </div> </div> <div id=\"footer\"> <p> Occaecat id sint sint adipiscing pariatur quis proident non amet cupidatat ea deserunt do sunt aliqua pariatur culpa et consectetur nostrud labore consectetur nulla ex pariatur culpa excepteur adipiscing amet nisi do occaecat eu do irure </p> </div> </body> </html> /* START CSS */ body { margin: 0; padding: 0; background: #276020 url(ref.placeholder) repeat; font-family: Arial, Helvetica, sans-serif; font-size: 16px; font-weight: 200; color: #61D953; } h1, h2 { margin: 0; padding: 0; font-family: \"Oswald\", sans-serif; font-weight: 300; color: #FFFFFF; } h1 { font-size: 2em; } h2 { font-size: 2.4em; } p, ul { margin-top: 0; } a { text-decoration: none; color: #B3FFAA; } #wrapper { padding: 0; background: url(ref.placeholder) no-repeat center top; } #header { width: 940px; height: 150px; margin: 0 auto; } #logo { width: 960px; height: 150px; margin: 0px auto 30px auto; color: #000000; } #logo h1, #logo p { margin: 0; padding: 0; } #logo h1 { text-align: center; font-size: 3.8em; } #logo p { text-align: center; color: #FFFFFF; } #logo p a { color: #FFFFFF; } #logo a { border: none; background: none; text-decoration: none; color: #FFFFFF; } #search { float: right; width: 280px; height: 60px; padding: 20px 0px 0px 0px; background: #323435; border-bottom: 4px solid #0974C4; } #search-text { width: 170px; padding: 6px 5px 2px 5px; border: none; background: #000000; font: normal 11px Arial, Helvetica, sans-serif; color: #464032; } #search-submit { width: 50px; height: 23px; border: 1px solid #525252; background: #525252; font-weight: bold; font-size: 10px; color: #000000; } #menu { overflow: hidden; width: 1000px; padding: 0px 0px; margin: 0px auto 30px auto; font-size: 20px; color: #000000; } #menu ul { margin: 0px 0px 0px 0px; padding: 0px 0px; list-style: none; text-align: center; } #menu li { display: inline-block; } #menu a { display: block; padding: 15px 40px 15px 40px; background: #0C3E06; text-decoration: none; text-align: center; font-family: \"Oswald\", sans-serif; font-size: 16px; font-weight: 200; color: #FFFFFF; border: none; } #menu.current_page_item a { text-decoration: none; } #menu.current_page_item a { background: #0C3E06; color: #FFFFFF; } #menu.last { border-right: none; } #page { overflow: hidden; width: 940px; margin: 0px auto; padding: 30px 30px; background: #FFFFFF; border: 1px dashed #063000; } #content { float: left; width: 600px; padding: 10px 0px 0px 0px; } #sidebar { float: right; width: 280px; padding: 30px 0px 0px 0px; color: #383838; } #sidebar ul { margin: 0; padding: 0; list-style: none; } #sidebar li { margin: 0; padding: 0; } #sidebar li ul { margin: 0px 0px; padding-bottom: 30px; } #sidebar li li { border-bottom: 1px dotted #063000; margin: 0px 0px; border-right: none; } #sidebar li a { background: url(ref.placeholder) no-repeat left 6px; } #sidebar h2 { padding: 0px 0px 30px 0px; font-size: 1.8em; color: #FFFFFF; } #sidebar p { margin: 0 0px; padding: 10px 30px 20px 30px; text-align: justify; } #sidebar a { border: none; color: #383838; } #calendar_wrap { padding: 20px; } #calendar #next { text-align: right; } #footer { overflow: hidden; width: 1000px; height: 200px; margin: 0 auto; padding: 40px 0 15px 0; border-top: 1px dashed #063000; } #footer p { margin: 0; padding-top: 20px; text-align: center; color: #81FD72; } #footer a { color: #81FD72; } #three-columns { overflow: hidden; width: 1000px; margin: 0px auto; padding: 30px 0px; border-bottom: 1px dashed #063000; color: #ADFEA3; } #three-columns h2 { padding: 0px 0px 20px 0px; font-size: 30px; color: #FFFFFF; } #three-columns #column1 { float: left; width: 290px; margin-right: 40px; } #three-columns #column2 { float: left; width: 290px; } #three-columns #column3 { float: right; width: 300px; }.link-style { display: inline-block; margin-top: 10px; padding: 5px 15px; background: #0C3E06; color: #FFFFFF; }.link-style2 { display: inline-block; margin-top: 10px; padding: 10px 25px; background: #0C3E06; font-size: 20px; color: #FFFFFF; } #welcome { width: 1000px; margin: 0px auto; padding: 30px 0px; border-bottom: 1px dashed #063000; color: #ADFEA3; } #welcome h2 { padding: 0px 0px 20px 0px; } #welcome h2 a { color: #FFFFFF; } #welcome a { color: #FFFFFF; } #banner { overflow: hidden; width: 1000px; margin: 0px auto; padding: 30px 0px; border-top: 1px dashed #063000; border-bottom: 1px dashed #063000; } #two-columns { overflow: hidden; width: 1000px; margin: 0px auto; padding: 30px 0px; } #two-columns #col1 { float: right; width: 640px; color: #ADFEA3; } #two-columns #col2 { float: left; width: 320px; } #two-columns h2 { padding: 0px 0px 20px 0px; color: #FFFFFF; }\n",
            "      Bleu: 0.08\n",
            "\n",
            "Prediction: <html xmlns=\"https://example.com\"> <head> <title> Aute aliquip aliquip aliquip aliquip aliquip </title> <link href=\"https://example.com\" rel=\"stylesheet\" type=\"text/css\"/> <link href=\"https://example.com\" rel=\"stylesheet\" type=\"text/css\"/> <link href=\"https://example.com\" rel=\"stylesheet\" type=\"text/css\"/> <link href=\"https://example.com\" rel=\"stylesheet\" type=\"text/css\"/> <link href=\"https://example.com\" rel=\"stylesheet\" type=\"text/css\"/> <link href=\"https://example.com\" rel=\"stylesheet\" type=\"text/css\"/> <link href=\"https://example.com\" rel=\"stylesheet\" type=\"text/css\"/> <link href=\"https://example.com\" rel=\"stylesheet\" type=\"text/css\"/> <link href=\"https://example.com\" rel=\"stylesheet\" type=\"text/css\"/> <link href=\"https://example.com\" rel=\"stylesheet\" type=\"text/css\"/> <link href=\"https://example.com\" rel=\"stylesheet\" type=\"text/css\"/> <link href=\"https://example.com\" rel=\"stylesheet\" type=\"text/css\"/> <link href=\"https://example.com\" rel=\"stylesheet\" type=\"text/css\"/> <link href=\"https://example.com\" rel=\"stylesheet\" type=\"text/css\"/> <link href=\"https://example.com\" rel=\"stylesheet\" type=\"text/css\"/> <link href=\"https://example.com\" rel=\"stylesheet\" type=\"text/css\"/> <link href=\"https://example.com\" rel=\"stylesheet\" type=\"text/css\"/> <link href=\"https://example.com\" rel=\"stylesheet\" type=\"text/css\"/> <link href=\"https://example.com\" rel=\"stylesheet\" type=\"text/css\"/> <link href=\"https://example.com\" rel=\"stylesheet\" type=\"text/css\"/> <link href=\"https://example.com\" rel=\"stylesheet\" type=\"text/css\"/> <link href=\"https://example.com\" rel=\"stylesheet\" type=\"text/css\"/> <link href=\"https://example.com\" rel=\"stylesheet\" type=\"text/css\"/> <link href=\"https://example.com\" rel=\"stylesheet\" type=\"text/css\"/> <link href=\"https://example.com\" rel=\"stylesheet\" type=\"text/css\"/> <link href=\"https://example.com\" rel=\"stylesheet\" type=\"text/css\"/> <link href=\"https://example.com\" rel=\"stylesheet\" type=\"text/css\"/> <link href=\"https://example.com\" rel=\"stylesheet\" type=\"text/css\"/> <link href=\"https://example.com\" rel=\"stylesheet\" type=\"text/css\"/> <link href=\"https://example.com\" rel=\"stylesheet\" type=\"text/css\"/> <link href=\"https://example.com\" rel=\"stylesheet\" type=\"text/css\"/> <link href=\"https://example.com\" rel=\"stylesheet\" type=\"text/css\"/> <link href=\"https://example.com\" rel=\"stylesheet\" type=\"text/css\"/> <link href=\"https://example.com\" rel=\"stylesheet\" type=\"text/css\"/> <link href=\"https://example.com\" rel=\"stylesheet\" type=\"text/css\"/> <link href=\"https://example.com\" rel=\"stylesheet\" type=\"text/css\"/> <link href=\"https://example.com\" rel=\"stylesheet\" type=\"text/css\"/> <link href=\"https://example.com\" rel=\"stylesheet\" type=\"text/css\"/> <link href=\"https://example.com\" rel=\"stylesheet\" type=\"text/css\"/> <link href=\"https://example.com\" rel=\"stylesheet\" type=\"text/css\"/> <link href=\"https://example.com\" rel=\"stylesheet\" type=\"text/css\"/> <link href=\"https://example.com\" rel=\"stylesheet\" type=\"text/css\"/> <link href=\"https://example.com\" rel=\"stylesheet\" type=\"text/css\"/> <link href=\"https://example.com\" rel=\"stylesheet\" type=\"text/css\"/> <link href=\"https://example.com\" rel=\"stylesheet\" type=\"text/css\"/> <link href=\"https://example.com\" rel=\"stylesheet\" type=\"text/css\"/> <link href=\"https://example.com\" rel=\"stylesheet\" type=\"text/css\"/> <link href=\"https://example.com\" rel=\"stylesheet\" type=\"text/css\"/> <link href=\"https://example.com\" rel=\"stylesheet\" type=\"text/css\"/> <link href=\"https://example.com\" rel=\"stylesheet\" type=\"text/css\"/> <link href=\"https://example.com\" rel=\"stylesheet\" type=\"text/css\"/> <link href=\"https://example.com\" rel=\"stylesheet\" type=\"text/css\"/> <link href=\"https://example.com\" rel=\"stylesheet\" type=\"text/css\"/> <link href=\"https://example.com\" rel=\"stylesheet\" type=\"text/css\"/> <link href=\"https://example.com\" rel=\"stylesheet\" type=\"text/css\"/> <link href=\"https://example.com\" rel=\"stylesheet\" type=\"text/css\"/> <link href=\"https://example.com\" rel=\"stylesheet\" type=\"text/css\"/> <link href=\"https://example.com\" rel=\"stylesheet\" type=\"text/css\"/> <link href=\"https://example.com\" rel=\"stylesheet\" type=\"text/css\"/> <link href=\"https://example.com\" rel=\"stylesheet\" type=\"text/css\"/> <link href=\"https://example.com\" rel=\"stylesheet\" type=\"text/css\"/> <link href=\"https://example.com\" rel=\"stylesheet\" type=\"text/css\"/> <link href=\"https://example.com\" rel=\"stylesheet\" type=\"text/css\"/> <link href=\"https://example.com\" rel=\"stylesheet\" type=\"text/css\"/> <link href=\"https://example.com\" rel=\"stylesheet\" type=\"text/css\"/> <link href=\"https://example.com\" rel=\"stylesheet\" type=\"text/css\"/> <link href=\"https://example.com\" rel=\"stylesheet\" type=\"text/css\"/> <link href=\"https://example.com\" rel=\"stylesheet\" type=\"text/css\"/> <link href=\"https://example.com\" rel=\"stylesheet\" type=\"text/css\"/> <link href=\"https://example.com\" rel=\"stylesheet\" type=\"text/css\"/> <link href=\"https://example.com\" rel=\"stylesheet\" type=\"text/css\"/> <link href=\"https://example.com\" rel=\"stylesheet\" type=\"text/css\"/> <link href=\"https://example.com\" rel=\"stylesheet\" type=\"text/css\"/> <link href=\"https://example.com\" rel=\"stylesheet\" type=\"text/css\"/> <link href=\"https://example.com\" rel=\"stylesheet\" type=\"text/css\"/> <link href=\"https://example.com\" rel=\"stylesheet\" type=\"text/css\"/> <link href=\"https://example.com\" rel=\"stylesheet\" type=\"text/css\"/> <link href=\"https://example.com\" rel=\"stylesheet\" type=\"text/css\"/> <link href=\"https://example.com\" rel=\"stylesheet\" type=\"text/css\"/> <link href=\"https://example.com\" rel=\"stylesheet\" type=\"text/css\"/> <link href=\"https://example.com\" rel=\"stylesheet\" type=\"text/css\"/> <link href=\"https://example.com\" rel=\"stylesheet\" type=\"text/css\"/> <link href=\"https://example.com\" rel=\"stylesheet\" type=\"text/css\"/> <link href=\"https://example.com\" rel=\"stylesheet\" type=\"text/css\"/> <link href=\"https://example.com\" rel=\"stylesheet\" type=\"text/css\"/> <link href=\"https://example.com\" rel=\"stylesheet\" type=\"text/css\"/> <link href=\"https://example.com\" rel=\"stylesheet\" type=\"text/css\"/> <link href=\"https://example.com\" rel=\"stylesheet\" type=\"text/css\"/> <link href=\"https://example.com\" rel=\"stylesheet\" type=\"text/css\"/> <link href=\"https://example.com\" rel=\"stylesheet\" type=\"text/css\"/> <link href=\"https://example.com\" rel=\"stylesheet\" type=\"text/css\"/> <link href=\"https://example.com\" rel=\"stylesheet\" type=\"text/css\"/> <link href=\"https://example.com\" rel=\"stylesheet\" type=\"text/css\"/> <link href=\"https://example.com\" rel=\"stylesheet\" type=\"text/css\"/> <link href=\"https://example.com\" rel=\"stylesheet\" type=\"text/css\"/> <link href=\"https://example.com\" rel=\"stylesheet\" type=\"text/css\"/> <link href=\"https://example.com\" rel=\"stylesheet\" type=\"text/css\"/> <link href=\"https://example.com\" rel=\"stylesheet\" type=\"text/css\"/> <link href=\"https://example.com\" rel=\"stylesheet\" type=\"text/css\"/> <link href=\"https://example.com\" rel=\"stylesheet\" type=\"text/css\"/> <link href=\"https://example.com\" rel=\"stylesheet\" type=\"text/css\"/> <link href=\"https://example.com\" rel=\"stylesheet\" type=\"text/css\"/> <link href=\"https://example.com\" rel=\"stylesheet\" type=\"text/css\"/> <link href=\"https://example.com\" rel=\"stylesheet\" type=\"text/css\"/> <link href=\"https://example.com\" rel=\"stylesheet\" type=\"text/css\"/> <link href=\"https://example.com\" rel=\"stylesheet\" type=\"text/css\"/> <link href=\"https://example.com\" rel=\"stylesheet\" type=\"text/css\"/> <link href=\"https://example.com\" rel=\"stylesheet\" type=\"text/css\"/> <link href=\"https://example.com\" rel=\"stylesheet\" type=\"text/css\"/> <link href=\"https://example.com\" rel=\"stylesheet\" type=\"text/css\"/> <link href=\"https://example.com\" rel=\"stylesheet\" type=\"text/css\"/> <link href=\"https://example.com\" rel=\"stylesheet\" type=\"text/css\"/> <link href=\"https://example.com\" rel=\"stylesheet\" type=\"text/css\"/> <link href=\"https://example.com\" rel=\"stylesheet\" type=\"text/css\"/> <link href=\"https://example.com\" rel=\"stylesheet\" type=\"text/css\"/> <link href=\"https://example.com\" rel=\"stylesheet\" type=\"text/css\"/> <link href=\"https://example.com\" rel=\"stylesheet\" type=\"text/css\"/> <link href=\"https://example.com\" rel=\"stylesheet\" type=\"text/css\"/> <link href=\"https://example.com\" rel=\"stylesheet\" type=\"text/css\"/> <link href=\"https://example.com\" rel=\"stylesheet\" type=\"text/css\"/> <link href=\"https://example.com\" rel=\"stylesheet\" type=\"text/css\"/> <link href=\"https://example.com\" rel=\"stylesheet\" type=\"text/css\"/> <link href=\"https://example.com\" rel=\"stylesheet\" type=\"text/css\"/> <link href=\"https://example.com\" rel=\"stylesheet\" type=\"text/css\"/> <link href=\"https://example.com\" rel=\"stylesheet\" type=\"text/css\"/> <link href=\"https://example.com\" rel=\"stylesheet\" type=\"text/css\"/> <link href=\"https://example.com\" rel=\"stylesheet\" type=\"text/css\"/> <link href=\"https://example.com\" rel=\"stylesheet\" type=\"text/css\"/> <link href=\"https://example.com\" rel=\"stylesheet\" type=\"text/css\"/> <link href=\"https://example.com\" rel=\"stylesheet\" type=\"text/css\"/> <link href=\"https://example.com\" rel=\"stylesheet\" type=\"text/css\"/> <link href=\"https://example.com\" rel=\"stylesheet\" type=\"text/css\"/> <link href=\"https://example.com\" rel=\"stylesheet\" type=\"text/css\"/> <link href=\"https://example.com\" rel=\"stylesheet\" type=\"text/css\"/> <link href=\"https://example.com\" rel=\"stylesheet\" type=\"text/css\"/> <link href=\"https://example.com\" rel=\"stylesheet\" type=\"text/css\"/> <link href=\"https://example.com\" rel=\"stylesheet\" type=\"text/css\"/> <link href=\"https://example.com\" rel=\"stylesheet\" type=\"text/css\"/> <link href=\"https://example.com\" rel=\"stylesheet\" type=\"text/css\"/> <link href=\"https://example.com\" rel=\"stylesheet\" type=\"text/css\"/> <link href=\"https://example.com\" rel=\"stylesheet\" type=\"text/css\"/> <link href=\"https://example.com\" rel=\"stylesheet\" type=\"text/css\"/> <link href=\"https://example.com\" rel=\"stylesheet\" type=\"text/css\"/> <link href=\"https://example.com\" rel=\"stylesheet\" type=\"text/css\"/> <link href=\"https://example.com\" rel=\"stylesheet\" type=\"text/css\"/> <link href=\"https://example.com\" rel=\"stylesheet\" type=\"text/css\"/> <link href=\"https://example.com\" rel=\"stylesheet\" type=\"text/css\"/> <link href=\"https://example.com\" rel=\"stylesheet\" type=\"text/css\"/> <link href=\"https://example.com\" rel=\"stylesheet\" type=\"text/css\"/> <link href=\"https://example.com\" rel=\"stylesheet\" type=\"text/css\"/> <link href=\"https://example.com\" rel=\"stylesheet\" type=\"text/css\"/> <link href=\"https://example.com\" rel=\"stylesheet\" type=\"text/css\"/> <link href=\"https://example.com\" rel=\"stylesheet\" type=\"text/css\"/> <link href=\"https://example.com\" rel=\"stylesheet\" type=\"text/css\"/> <link href=\"https://example.com\" rel=\"stylesheet\" type=\"text/css\"/> <link href=\"https://example.com\" rel=\"stylesheet\" type=\"text/css\"/> <link href=\"https://example.com\" rel=\"stylesheet\" type=\"text/css\"/> <link href=\"https://example.com\" rel=\"stylesheet\" type=\"text/css\"/> <link href=\"https://example.com\" rel=\"stylesheet\" type=\"text/css\"/> <link href=\"https://example.com\" rel=\"stylesheet\" type=\"text/css\"/> <link href=\"https://example.com\" rel=\"stylesheet\" type=\"text/css\"/> <link href=\"https://example.com\" rel=\"stylesheet\" type=\"text/css\"/> <link href=\"https://example.com\" rel=\"stylesheet\" type=\"text/css\"/> <link href=\"https://example.com\" rel=\"stylesheet\" type=\"text/css\"/> <link href=\"https://example.com\" rel=\"stylesheet\" type=\"text/css\"/> <link href=\"https://example.com\" rel=\"stylesheet\" type=\"text/css\"/> <link href=\"https://example.com\" rel=\"stylesheet\" type=\"text/css\"/> <link href=\"https://example.com\" rel=\"stylesheet\" type=\"text/css\"/> <link href=\"https://example.com\" rel=\"stylesheet\" type=\"text/css\"/> <link href=\"https://example.com\" rel=\"stylesheet\" type=\"text/css\"/> <link href=\"https://example.com\" rel=\"stylesheet\" type=\"text/css\"/> <link href=\"https://example.com\" rel=\"stylesheet\" type=\"text/css\"/> <link href=\"https://example.com\" rel=\"stylesheet\" type=\"text/css\"/> <link href=\"https://example.com\" rel=\"stylesheet\" type=\"text/css\"/> <link href=\"https://example.com\" rel=\"stylesheet\" type=\"text/css\"/> <link href=\"https://example.com\" rel=\"stylesheet\" type=\"text/css\"/> <link href=\"https://example.com\" rel=\"stylesheet\" type=\"text/css\"/> <link href=\"https://example.com\" rel=\"stylesheet\" type=\"text/css\"/> <link href=\"https://example.com\" rel=\"stylesheet\" type=\"text/css\"/> <link href=\"https://example.com\" rel=\"stylesheet\" type=\"text/css\"/> <link href=\"https://example.com\" rel=\"stylesheet\" type=\"text/css\"/> <link href=\"https://example.com\" rel=\"stylesheet\" type=\"text/css\"/> <link href=\"https://example.com\" rel=\"stylesheet\" type=\"text/css\"/> <link href=\"https://example.com\" rel=\"stylesheet\" type=\"text/css\"/> <link href=\"https://example.com\" rel=\"stylesheet\" type=\"text/css\"/> <link href=\"https://example.com\" rel=\"stylesheet\" type=\"text/css\"/> <link href=\"https://example.com\" rel=\"stylesheet\" type=\"text/css\"/> <link href=\"https://example.com\" rel=\"stylesheet\" type=\"text/css\"/> <link href=\"https://example.com\" rel=\"stylesheet\" type=\"text/css\"/> <link href=\"https://example.com\" rel=\"stylesheet\" type=\"text/css\"/> <link href=\"https://example.com\" rel=\"stylesheet\" type=\"text/css\"/> <link href=\"https://example.com\" rel=\"stylesheet\" type=\"text/css\"/> <link href=\"https://example.com\" rel=\"stylesheet\" type=\"text/css\"/> <link href=\"https://example.com\" rel=\"stylesheet\" type=\"text/css\"/> <link href=\"https://example.com\" rel=\"stylesheet\" type=\"text/css\"/> <link href=\"https://example.com\" rel=\"stylesheet\" type=\"text/css\"/> <link href=\"https://example.com\" rel=\"stylesheet\" type=\"text/css\"/> <link href=\"https://example.com\" rel=\"stylesheet\" type=\"text/css\"/> <link href=\"https://example.com\" rel=\"stylesheet\" type=\"text/css\"/> <link href=\"https://example.com\" rel=\"stylesheet\" type=\"text/css\"/> <link href=\"https://example.com\" rel=\"stylesheet\" type=\"text/css\"/> <link href=\"https://example.com\" rel=\"stylesheet\" type=\"text/css\"/> <link href=\"https://example.com\" rel=\"stylesheet\" type=\"text/css\"/> <\n",
            "    Answer: <html lang=\"en-US\"> <head> <title> Elit </title> <link href=\"https://example.com\" rel=\"alternate\" title=\"yekaterinburg-trend.ru » Feed\" type=\"application/rss+xml\"/> <link href=\"https://example.com\" rel=\"alternate\" title=\"yekaterinburg-trend.ru » Comments Feed\" type=\"application/rss+xml\"/> <link href=\"yekaterinburg-trend.ru.css\" id=\"wp-block-navigation-css\" media=\"all\" rel=\"stylesheet\"/> <link href=\"https://example.com\" rel=\"https://example.com\"/> <link href=\"https://example.com\" rel=\"EditURI\" title=\"RSD\" type=\"application/rsd+xml\"/> <link href=\"https://example.com\" rel=\"wlwmanifest\" type=\"application/wlwmanifest+xml\"/> </head> <body class=\"home blog wp-embed-responsive\"> <a class=\"skip-link screen-reader-text\" href=\"ref.placeholder\"> Ullamco fugiat labore </a> <div class=\"wp-site-blocks\"> <header class=\"wp-block-template-part\"> <div class=\"has-global-padding is-layout-constrained wp-block-group\"> <div class=\"is-content-justification-space-between is-layout-flex wp-container-3 wp-block-group alignwide\" style=\"padding-bottom:var(--wp--preset--spacing--40)\"> <p class=\"wp-block-site-title\"> <a aria-current=\"page\" href=\"https://example.com\" rel=\"home\"> Laboris </a> </p> <nav aria-label=\"\" class=\"is-content-justification-right is-layout-flex wp-container-2 is-responsive items-justified-right is-fallback wp-block-navigation\"> <button aria-haspopup=\"true\" aria-label=\"Open menu\" class=\"wp-block-navigation__responsive-container-open\" data-micromodal-trigger=\"modal-1\"> </button> <div class=\"wp-block-navigation__responsive-container\" id=\"modal-1\"> <div class=\"wp-block-navigation__responsive-close\" data-micromodal-close=\"\" tabindex=\"-1\"> <div aria-label=\"Menu\" class=\"wp-block-navigation__responsive-dialog\"> <button aria-label=\"Close menu\" class=\"wp-block-navigation__responsive-container-close\" data-micromodal-close=\"\"> </button> <div class=\"wp-block-navigation__responsive-container-content\" id=\"modal-1-content\"> <ul class=\"wp-block-page-list\"> <li class=\"wp-block-pages-list__item wp-block-navigation-item open-on-hover-click\"> <a class=\"wp-block-pages-list__item__link wp-block-navigation-item__content\" href=\"https://example.com\"> Incididunt elit labore qui deserunt nostrud consectetur excepteur labore non tempor duis sit lorem reprehenderit sunt nulla dolor exercitation excepteur qui occaecat aliqua laboris eu </a> </li> </ul> </div> </div> </div> </div> </nav> </div> </div> </header> <main class=\"has-global-padding is-layout-constrained wp-block-group\" id=\"wp--skip-link--target\" style=\"margin-top:var(--wp--preset--spacing--50);margin-bottom:var(--wp--preset--spacing--70)\"> <h1 class=\"alignwide\" style=\"margin-bottom:var(--wp--preset--spacing--60)\"> Voluptate sit ullamco in sint labore ullamco aute sint exercitation nulla laborum eu deserunt culpa incididunt </h1> <div class=\"has-global-padding is-layout-constrained wp-block-query alignwide\"> <ul class=\"is-layout-flow is-flex-container columns-3 alignwide wp-block-post-template\"> <li class=\"wp-block-post post-5 post type-post status-publish format-standard hentry category-2\"> <h2 class=\"wp-block-post-title\"> <a href=\"https://example.com\"> Magna </a> </h2> <div class=\"wp-block-post-excerpt\"> <p class=\"wp-block-post-excerpt__excerpt\"> Ullamco nisi cillum sint reprehenderit minim dolore voluptate enim nostrud culpa proident tempor cupidatat excepteur aliquip nulla proident occaecat magna duis ut sunt duis ea enim cillum quis consequat aliquip irure occaecat aliquip consequat officia nostrud quis cillum fugiat sed duis consequat esse laborum voluptate aute tempor ex cupidatat consequat velit aliqua dolore aute labore sint sint non velit eiusmod sed non eu in eu qui proident ut laboris mollit incididunt deserunt eiusmod occaecat incididunt occaecat voluptate eu id et aute est deserunt voluptate minim voluptate non consectetur reprehenderit do aliquip sint enim ullamco sed voluptate aute aliqua irure in incididunt cupidatat nostrud nisi irure labore aliquip cupidatat ea elit ipsum laboris irure </p> </div> <div class=\"wp-block-post-date\"> <time datetime=\"2023-02-16T22:30:06+00:00\"> <a href=\"https://example.com\"> Elit commodo cillum </a> </time> </div> <div aria-hidden=\"true\" class=\"wp-block-spacer\" style=\"height:var(--wp--preset--spacing--40)\"> </div> </li> <li class=\"wp-block-post post-4 post type-post status-publish format-standard hentry category-2\"> <h2 class=\"wp-block-post-title\"> <a href=\"https://example.com\"> Laborum </a> </h2> <div class=\"wp-block-post-excerpt\"> <p class=\"wp-block-post-excerpt__excerpt\"> Aute ullamco tempor labore labore est aute sit id esse reprehenderit incididunt sed mollit anim aliqua deserunt non dolore veniam ipsum voluptate anim elit eiusmod excepteur magna duis veniam ex aliqua do commodo incididunt elit sint excepteur commodo fugiat quis laborum non eiusmod amet consequat amet occaecat enim cupidatat laborum laborum pariatur magna enim non aliqua duis ad pariatur proident sunt laboris ut nisi elit aliqua quis mollit eu dolor ut aute magna consectetur ex dolor sint enim adipiscing do cupidatat pariatur proident cillum est sed ipsum consequat ipsum aliquip proident velit non elit deserunt sunt tempor anim esse exercitation consequat sed ipsum tempor ad tempor irure sunt in nulla id nulla enim </p> </div> <div class=\"wp-block-post-date\"> <time datetime=\"2023-02-16T22:29:07+00:00\"> <a href=\"https://example.com\"> Ea incididunt nostrud </a> </time> </div> <div aria-hidden=\"true\" class=\"wp-block-spacer\" style=\"height:var(--wp--preset--spacing--40)\"> </div> </li> <li class=\"wp-block-post post-3 post type-post status-publish format-standard hentry category-2\"> <h2 class=\"wp-block-post-title\"> <a href=\"https://example.com\"> Minim </a> </h2> <div class=\"wp-block-post-excerpt\"> <p class=\"wp-block-post-excerpt__excerpt\"> Veniam enim dolore ex ea id culpa pariatur ad do commodo duis commodo non culpa minim duis dolore eu labore proident deserunt ipsum id sit qui elit incididunt est qui nulla voluptate fugiat laboris nostrud sit ipsum commodo sit laboris lorem sunt aute commodo nulla et velit irure culpa dolor ipsum cillum id id non laboris cupidatat est reprehenderit amet reprehenderit mollit nisi amet est nisi id eu occaecat ullamco sit reprehenderit aute dolor et minim labore qui incididunt sunt eiusmod magna ipsum nulla dolore officia irure et irure fugiat incididunt officia exercitation consectetur cupidatat est mollit non nisi velit ut non adipiscing ad ex nisi ullamco velit magna commodo sint eiusmod mollit </p> </div> <div class=\"wp-block-post-date\"> <time datetime=\"2023-02-16T22:27:48+00:00\"> <a href=\"https://example.com\"> Commodo proident occaecat </a> </time> </div> <div aria-hidden=\"true\" class=\"wp-block-spacer\" style=\"height:var(--wp--preset--spacing--40)\"> </div> </li> <li class=\"wp-block-post post-1 post type-post status-publish format-standard hentry category-uncategorized\"> <h2 class=\"wp-block-post-title\"> <a href=\"https://example.com\"> Sunt sunt consequat sed incididunt eu amet ullamco proident sed aliqua tempor adipiscing fugiat ad magna aliquip culpa reprehenderit </a> </h2> <div class=\"wp-block-post-excerpt\"> <p class=\"wp-block-post-excerpt__excerpt\"> Pariatur anim amet mollit veniam elit quis mollit sint irure nisi et velit adipiscing excepteur cillum quis eu occaecat laboris exercitation proident non magna ut nostrud dolor culpa minim consectetur deserunt culpa nulla proident sint </p> </div> <div class=\"wp-block-post-date\"> <time datetime=\"2023-02-16T21:14:29+00:00\"> <a href=\"https://example.com\"> Labore lorem quis </a> </time> </div> <div aria-hidden=\"true\" class=\"wp-block-spacer\" style=\"height:var(--wp--preset--spacing--40)\"> </div> </li> </ul> </div> <div aria-hidden=\"true\" class=\"wp-block-spacer\" style=\"height:var(--wp--preset--spacing--60)\"> </div> <div class=\"is-layout-flex wp-container-11 wp-block-columns alignwide\"> <div class=\"is-layout-flow wp-block-column\"> <p class=\"has-x-large-font-size\" style=\"line-height:1.2\"> Laboris ut nostrud lorem </p> <div class=\"is-layout-flex wp-block-buttons\"> <div class=\"wp-block-button has-custom-font-size has-small-font-size\"> <a class=\"wp-block-button__link wp-element-button\"> Occaecat ipsum occaecat </a> </div> </div> </div> <div class=\"is-layout-flow wp-block-column\"> <hr class=\"wp-block-separator has-alpha-channel-opacity\"/> </div> </div> </main> <footer class=\"wp-block-template-part\"> <div class=\"has-global-padding is-layout-constrained wp-block-group\"> <div class=\"is-content-justification-space-between is-layout-flex wp-container-13 wp-block-group alignwide\" style=\"padding-top:var(--wp--preset--spacing--40)\"> <p class=\"wp-block-site-title\"> <a aria-current=\"page\" href=\"https://example.com\" rel=\"home\"> Excepteur </a> </p> <p class=\"has-text-align-right\"> Ut est exercitation nisi <a href=\"https://example.com\" rel=\"nofollow\"> Minim </a> </p> </div> </div> </footer> </div> </body> </html> /* START CSS */.wp-block-navigation { position: relative; --navigation-layout-justification-setting: flex-start; --navigation-layout-direction: row; --navigation-layout-wrap: wrap; --navigation-layout-justify: flex-start; --navigation-layout-align: center }.wp-block-navigation ul { margin-top: 0; margin-bottom: 0; margin-left: 0; padding-left: 0 }.wp-block-navigation ul,.wp-block-navigation ul li { list-style: none; padding: 0 }.wp-block-navigation.wp-block-navigation-item { display: flex; align-items: center; position: relative }.wp-block-navigation.wp-block-navigation-item__content { display: block }.wp-block-navigation:where(:not([class*=has-text-decoration])) a { text-decoration: none }.wp-block-navigation.items-justified-right { --navigation-layout-justification-setting: flex-end; --navigation-layout-justify: flex-end } button.wp-block-navigation-item__content { background-color: transparent; border: none; color: currentColor; font-size: inherit; font-family: inherit; font-weight: inherit; text-align: left }.wp-block-navigation.wp-block-page-list,.wp-block-navigation__responsive-close,.wp-block-navigation__responsive-container,.wp-block-navigation__responsive-container-content,.wp-block-navigation__responsive-dialog { gap: inherit } :where(.wp-block-navigation.has-background.wp-block-navigation-item a:not(.wp-element-button)),:where(.wp-block-navigation.has-background.wp-block-navigation-submenu a:not(.wp-element-button)),:where(.wp-block-navigation.wp-block-navigation__submenu-container.wp-block-navigation-item a:not(.wp-element-button)),:where(.wp-block-navigation.wp-block-navigation__submenu-container.wp-block-navigation-submenu a:not(.wp-element-button)) { padding:.5em 1em }.wp-block-navigation__responsive-container { display: none; position: fixed; top: 0; left: 0; right: 0; bottom: 0 }.wp-block-navigation__responsive-container.wp-block-navigation__responsive-container-content { display: flex; flex-wrap: var(--navigation-layout-wrap,wrap); flex-direction: var(--navigation-layout-direction,initial); justify-content: var(--navigation-layout-justify,initial); align-items: var(--navigation-layout-align,initial) }.wp-block-navigation__responsive-container:not(.is-menu-open.is-menu-open) { color: inherit!important; background-color: inherit!important } @media (min-width:600px) {.wp-block-navigation__responsive-container:not(.hidden-by-default):not(.is-menu-open) { display: block; width: 100%; position: relative; z-index: auto; background-color: inherit }.wp-block-navigation__responsive-container:not(.hidden-by-default):not(.is-menu-open).wp-block-navigation__responsive-container-close { display: none } }.wp-block-navigation__responsive-container-close,.wp-block-navigation__responsive-container-open { vertical-align: middle; cursor: pointer; color: currentColor; background: transparent; border: none; margin: 0; padding: 0; }.wp-block-navigation__responsive-container-open { display: flex } @media (min-width:600px) {.wp-block-navigation__responsive-container-open:not(.always-shown) { display: none } }.wp-block-navigation__responsive-container-close { position: absolute; top: 0; right: 0; z-index: 2 }.wp-block-navigation__responsive-close { width: 100%; max-width: var(--wp--style--global--wide-size,100%); margin-left: auto; margin-right: auto }.wp-block-navigation__responsive-dialog { position: relative }\n",
            "      Bleu: 0.13\n",
            " Avg Bleu Score: 0.13\n"
          ]
        },
        {
          "name": "stderr",
          "output_type": "stream",
          "text": [
            "\n"
          ]
        },
        {
          "data": {
            "text/html": [
              "Waiting for W&B process to finish... <strong style=\"color:green\">(success).</strong>"
            ],
            "text/plain": [
              "<IPython.core.display.HTML object>"
            ]
          },
          "metadata": {},
          "output_type": "display_data"
        },
        {
          "data": {
            "application/vnd.jupyter.widget-view+json": {
              "model_id": "03fe231b9cd64286842ac2f1fa1a1004",
              "version_major": 2,
              "version_minor": 0
            },
            "text/plain": [
              "VBox(children=(Label(value='0.002 MB of 0.002 MB uploaded (0.000 MB deduped)\\r'), FloatProgress(value=1.0, max…"
            ]
          },
          "metadata": {},
          "output_type": "display_data"
        },
        {
          "data": {
            "text/html": [
              "<style>\n",
              "    table.wandb td:nth-child(1) { padding: 0 10px; text-align: left ; width: auto;} td:nth-child(2) {text-align: left ; width: 100%}\n",
              "    .wandb-row { display: flex; flex-direction: row; flex-wrap: wrap; justify-content: flex-start; width: 100% }\n",
              "    .wandb-col { display: flex; flex-direction: column; flex-basis: 100%; flex: 1; padding: 10px; }\n",
              "    </style>\n",
              "<div class=\"wandb-row\"><div class=\"wandb-col\"><h3>Run history:</h3><br/><table class=\"wandb\"><tr><td>bleu</td><td>█▁</td></tr><tr><td>loss</td><td>█▄▃▃▂▂▂▃▂▂▂▂▂▂▁▂▂▂▂▁▁▂▁▂▂▁▂▁▁▂▂▁▁▂▂▂▂▂▂▂</td></tr><tr><td>lr_0</td><td>▅██▇▆▄▃▂▁▁</td></tr><tr><td>moving_avg_loss</td><td>█▅▂▃▃▁▁▁▂▁</td></tr></table><br/></div><div class=\"wandb-col\"><h3>Run summary:</h3><br/><table class=\"wandb\"><tr><td>bleu</td><td>0.13194</td></tr><tr><td>loss</td><td>0.41094</td></tr><tr><td>lr_0</td><td>0.0</td></tr><tr><td>moving_avg_loss</td><td>0.84663</td></tr></table><br/></div></div>"
            ],
            "text/plain": [
              "<IPython.core.display.HTML object>"
            ]
          },
          "metadata": {},
          "output_type": "display_data"
        },
        {
          "data": {
            "text/html": [
              " View run <strong style=\"color:#cdcd00\">run-Pix2Struct_WebUI2Code_Complete_4096_LI_FULL</strong> at: <a href='https://wandb.ai/team-gs/Pix2Struct/runs/lc6s2wuc' target=\"_blank\">https://wandb.ai/team-gs/Pix2Struct/runs/lc6s2wuc</a><br/>Synced 5 W&B file(s), 0 media file(s), 0 artifact file(s) and 0 other file(s)"
            ],
            "text/plain": [
              "<IPython.core.display.HTML object>"
            ]
          },
          "metadata": {},
          "output_type": "display_data"
        },
        {
          "data": {
            "text/html": [
              "Find logs at: <code>./wandb/run-20230928_073744-lc6s2wuc/logs</code>"
            ],
            "text/plain": [
              "<IPython.core.display.HTML object>"
            ]
          },
          "metadata": {},
          "output_type": "display_data"
        }
      ],
      "source": [
        "train_model(config, processor, model, train_dataloader, val_dataloader)"
      ]
    }
  ],
  "metadata": {
    "accelerator": "GPU",
    "colab": {
      "gpuType": "A100",
      "machine_shape": "hm",
      "provenance": []
    },
    "kernelspec": {
      "display_name": "Python 3",
      "name": "python3"
    },
    "language_info": {
      "name": "python"
    },
    "widgets": {
      "application/vnd.jupyter.widget-state+json": {
        "002ac9e3a0e6429eaac5ba9bd82a7b1d": {
          "model_module": "@jupyter-widgets/controls",
          "model_module_version": "1.5.0",
          "model_name": "HTMLModel",
          "state": {
            "_dom_classes": [],
            "_model_module": "@jupyter-widgets/controls",
            "_model_module_version": "1.5.0",
            "_model_name": "HTMLModel",
            "_view_count": null,
            "_view_module": "@jupyter-widgets/controls",
            "_view_module_version": "1.5.0",
            "_view_name": "HTMLView",
            "description": "",
            "description_tooltip": null,
            "layout": "IPY_MODEL_9b45fe84383348fb87439867d27acc91",
            "placeholder": "​",
            "style": "IPY_MODEL_09304fc509464b7aa5e9931e4a3d742d",
            "value": " 4.92k/4.92k [00:00&lt;00:00, 452kB/s]"
          }
        },
        "003b6f1db5c84e61b08bd27fbced5048": {
          "model_module": "@jupyter-widgets/base",
          "model_module_version": "1.2.0",
          "model_name": "LayoutModel",
          "state": {
            "_model_module": "@jupyter-widgets/base",
            "_model_module_version": "1.2.0",
            "_model_name": "LayoutModel",
            "_view_count": null,
            "_view_module": "@jupyter-widgets/base",
            "_view_module_version": "1.2.0",
            "_view_name": "LayoutView",
            "align_content": null,
            "align_items": null,
            "align_self": null,
            "border": null,
            "bottom": null,
            "display": null,
            "flex": null,
            "flex_flow": null,
            "grid_area": null,
            "grid_auto_columns": null,
            "grid_auto_flow": null,
            "grid_auto_rows": null,
            "grid_column": null,
            "grid_gap": null,
            "grid_row": null,
            "grid_template_areas": null,
            "grid_template_columns": null,
            "grid_template_rows": null,
            "height": null,
            "justify_content": null,
            "justify_items": null,
            "left": null,
            "margin": null,
            "max_height": null,
            "max_width": null,
            "min_height": null,
            "min_width": null,
            "object_fit": null,
            "object_position": null,
            "order": null,
            "overflow": null,
            "overflow_x": null,
            "overflow_y": null,
            "padding": null,
            "right": null,
            "top": null,
            "visibility": null,
            "width": null
          }
        },
        "01e67c93506043a19b2e0920f76bd60e": {
          "model_module": "@jupyter-widgets/controls",
          "model_module_version": "1.5.0",
          "model_name": "DescriptionStyleModel",
          "state": {
            "_model_module": "@jupyter-widgets/controls",
            "_model_module_version": "1.5.0",
            "_model_name": "DescriptionStyleModel",
            "_view_count": null,
            "_view_module": "@jupyter-widgets/base",
            "_view_module_version": "1.2.0",
            "_view_name": "StyleView",
            "description_width": ""
          }
        },
        "03fe231b9cd64286842ac2f1fa1a1004": {
          "model_module": "@jupyter-widgets/controls",
          "model_module_version": "1.5.0",
          "model_name": "VBoxModel",
          "state": {
            "_dom_classes": [],
            "_model_module": "@jupyter-widgets/controls",
            "_model_module_version": "1.5.0",
            "_model_name": "VBoxModel",
            "_view_count": null,
            "_view_module": "@jupyter-widgets/controls",
            "_view_module_version": "1.5.0",
            "_view_name": "VBoxView",
            "box_style": "",
            "children": [
              "IPY_MODEL_dc12cf8f2c714d76bdd04a2e44fe73c6",
              "IPY_MODEL_f4b4b672588d49088bd0be77097fa13d"
            ],
            "layout": "IPY_MODEL_1712518845bf417cba3682934183a972"
          }
        },
        "05102f8dcd5244aca4c43875cd15dfb3": {
          "model_module": "@jupyter-widgets/controls",
          "model_module_version": "1.5.0",
          "model_name": "ProgressStyleModel",
          "state": {
            "_model_module": "@jupyter-widgets/controls",
            "_model_module_version": "1.5.0",
            "_model_name": "ProgressStyleModel",
            "_view_count": null,
            "_view_module": "@jupyter-widgets/base",
            "_view_module_version": "1.2.0",
            "_view_name": "StyleView",
            "bar_color": null,
            "description_width": ""
          }
        },
        "0867b312d5c74f6295d9219b39d542fb": {
          "model_module": "@jupyter-widgets/controls",
          "model_module_version": "1.5.0",
          "model_name": "HBoxModel",
          "state": {
            "_dom_classes": [],
            "_model_module": "@jupyter-widgets/controls",
            "_model_module_version": "1.5.0",
            "_model_name": "HBoxModel",
            "_view_count": null,
            "_view_module": "@jupyter-widgets/controls",
            "_view_module_version": "1.5.0",
            "_view_name": "HBoxView",
            "box_style": "",
            "children": [
              "IPY_MODEL_c70d559b146c4fe8b771a1f7c2dfe6fa",
              "IPY_MODEL_f58815b6316a4c32830d73ddf7c1e3ec",
              "IPY_MODEL_d178422db7984f9f84ea0d275c555bb3"
            ],
            "layout": "IPY_MODEL_c18503476c5742289a26c6a7dabd7746"
          }
        },
        "09304fc509464b7aa5e9931e4a3d742d": {
          "model_module": "@jupyter-widgets/controls",
          "model_module_version": "1.5.0",
          "model_name": "DescriptionStyleModel",
          "state": {
            "_model_module": "@jupyter-widgets/controls",
            "_model_module_version": "1.5.0",
            "_model_name": "DescriptionStyleModel",
            "_view_count": null,
            "_view_module": "@jupyter-widgets/base",
            "_view_module_version": "1.2.0",
            "_view_name": "StyleView",
            "description_width": ""
          }
        },
        "09fef01d671a4cd39ffce4a94400c799": {
          "model_module": "@jupyter-widgets/controls",
          "model_module_version": "1.5.0",
          "model_name": "HTMLModel",
          "state": {
            "_dom_classes": [],
            "_model_module": "@jupyter-widgets/controls",
            "_model_module_version": "1.5.0",
            "_model_name": "HTMLModel",
            "_view_count": null,
            "_view_module": "@jupyter-widgets/controls",
            "_view_module_version": "1.5.0",
            "_view_name": "HTMLView",
            "description": "",
            "description_tooltip": null,
            "layout": "IPY_MODEL_42ac2fcebe7f4258a6f4802dcdf2cb20",
            "placeholder": "​",
            "style": "IPY_MODEL_ca02712c598c4b908735a2a2d28812b3",
            "value": "Downloading (…)lve/main/config.json: 100%"
          }
        },
        "0ecc83ca92fa49acad8a06149030f1b3": {
          "model_module": "@jupyter-widgets/base",
          "model_module_version": "1.2.0",
          "model_name": "LayoutModel",
          "state": {
            "_model_module": "@jupyter-widgets/base",
            "_model_module_version": "1.2.0",
            "_model_name": "LayoutModel",
            "_view_count": null,
            "_view_module": "@jupyter-widgets/base",
            "_view_module_version": "1.2.0",
            "_view_name": "LayoutView",
            "align_content": null,
            "align_items": null,
            "align_self": null,
            "border": null,
            "bottom": null,
            "display": null,
            "flex": null,
            "flex_flow": null,
            "grid_area": null,
            "grid_auto_columns": null,
            "grid_auto_flow": null,
            "grid_auto_rows": null,
            "grid_column": null,
            "grid_gap": null,
            "grid_row": null,
            "grid_template_areas": null,
            "grid_template_columns": null,
            "grid_template_rows": null,
            "height": null,
            "justify_content": null,
            "justify_items": null,
            "left": null,
            "margin": null,
            "max_height": null,
            "max_width": null,
            "min_height": null,
            "min_width": null,
            "object_fit": null,
            "object_position": null,
            "order": null,
            "overflow": null,
            "overflow_x": null,
            "overflow_y": null,
            "padding": null,
            "right": null,
            "top": null,
            "visibility": null,
            "width": null
          }
        },
        "160df6f3d6294932bc2612e2e0b28337": {
          "model_module": "@jupyter-widgets/controls",
          "model_module_version": "1.5.0",
          "model_name": "ProgressStyleModel",
          "state": {
            "_model_module": "@jupyter-widgets/controls",
            "_model_module_version": "1.5.0",
            "_model_name": "ProgressStyleModel",
            "_view_count": null,
            "_view_module": "@jupyter-widgets/base",
            "_view_module_version": "1.2.0",
            "_view_name": "StyleView",
            "bar_color": null,
            "description_width": ""
          }
        },
        "1712518845bf417cba3682934183a972": {
          "model_module": "@jupyter-widgets/base",
          "model_module_version": "1.2.0",
          "model_name": "LayoutModel",
          "state": {
            "_model_module": "@jupyter-widgets/base",
            "_model_module_version": "1.2.0",
            "_model_name": "LayoutModel",
            "_view_count": null,
            "_view_module": "@jupyter-widgets/base",
            "_view_module_version": "1.2.0",
            "_view_name": "LayoutView",
            "align_content": null,
            "align_items": null,
            "align_self": null,
            "border": null,
            "bottom": null,
            "display": null,
            "flex": null,
            "flex_flow": null,
            "grid_area": null,
            "grid_auto_columns": null,
            "grid_auto_flow": null,
            "grid_auto_rows": null,
            "grid_column": null,
            "grid_gap": null,
            "grid_row": null,
            "grid_template_areas": null,
            "grid_template_columns": null,
            "grid_template_rows": null,
            "height": null,
            "justify_content": null,
            "justify_items": null,
            "left": null,
            "margin": null,
            "max_height": null,
            "max_width": null,
            "min_height": null,
            "min_width": null,
            "object_fit": null,
            "object_position": null,
            "order": null,
            "overflow": null,
            "overflow_x": null,
            "overflow_y": null,
            "padding": null,
            "right": null,
            "top": null,
            "visibility": null,
            "width": null
          }
        },
        "187ab89735a749a4b07c3650b1ebb66e": {
          "model_module": "@jupyter-widgets/controls",
          "model_module_version": "1.5.0",
          "model_name": "HTMLModel",
          "state": {
            "_dom_classes": [],
            "_model_module": "@jupyter-widgets/controls",
            "_model_module_version": "1.5.0",
            "_model_name": "HTMLModel",
            "_view_count": null,
            "_view_module": "@jupyter-widgets/controls",
            "_view_module_version": "1.5.0",
            "_view_name": "HTMLView",
            "description": "",
            "description_tooltip": null,
            "layout": "IPY_MODEL_38aefcf37aeb45e189655dce5e4b26c3",
            "placeholder": "​",
            "style": "IPY_MODEL_f50b82ee34fc4f7599102a95994e1ae2",
            "value": "Downloading (…)/main/tokenizer.json: 100%"
          }
        },
        "19e40a6778f543baa8611dd61429f9e3": {
          "model_module": "@jupyter-widgets/controls",
          "model_module_version": "1.5.0",
          "model_name": "HTMLModel",
          "state": {
            "_dom_classes": [],
            "_model_module": "@jupyter-widgets/controls",
            "_model_module_version": "1.5.0",
            "_model_name": "HTMLModel",
            "_view_count": null,
            "_view_module": "@jupyter-widgets/controls",
            "_view_module_version": "1.5.0",
            "_view_name": "HTMLView",
            "description": "",
            "description_tooltip": null,
            "layout": "IPY_MODEL_8b87bf75f3134af4aaf841f053a17e93",
            "placeholder": "​",
            "style": "IPY_MODEL_e1f84bdeade640738ec6bcd3343f60b6",
            "value": " 851k/851k [00:00&lt;00:00, 29.1MB/s]"
          }
        },
        "1cacf9bf785b4a34968d69c1963a29a2": {
          "model_module": "@jupyter-widgets/controls",
          "model_module_version": "1.5.0",
          "model_name": "DescriptionStyleModel",
          "state": {
            "_model_module": "@jupyter-widgets/controls",
            "_model_module_version": "1.5.0",
            "_model_name": "DescriptionStyleModel",
            "_view_count": null,
            "_view_module": "@jupyter-widgets/base",
            "_view_module_version": "1.2.0",
            "_view_name": "StyleView",
            "description_width": ""
          }
        },
        "1d2842890b4c45d993c92993ee0d49c9": {
          "model_module": "@jupyter-widgets/base",
          "model_module_version": "1.2.0",
          "model_name": "LayoutModel",
          "state": {
            "_model_module": "@jupyter-widgets/base",
            "_model_module_version": "1.2.0",
            "_model_name": "LayoutModel",
            "_view_count": null,
            "_view_module": "@jupyter-widgets/base",
            "_view_module_version": "1.2.0",
            "_view_name": "LayoutView",
            "align_content": null,
            "align_items": null,
            "align_self": null,
            "border": null,
            "bottom": null,
            "display": null,
            "flex": null,
            "flex_flow": null,
            "grid_area": null,
            "grid_auto_columns": null,
            "grid_auto_flow": null,
            "grid_auto_rows": null,
            "grid_column": null,
            "grid_gap": null,
            "grid_row": null,
            "grid_template_areas": null,
            "grid_template_columns": null,
            "grid_template_rows": null,
            "height": null,
            "justify_content": null,
            "justify_items": null,
            "left": null,
            "margin": null,
            "max_height": null,
            "max_width": null,
            "min_height": null,
            "min_width": null,
            "object_fit": null,
            "object_position": null,
            "order": null,
            "overflow": null,
            "overflow_x": null,
            "overflow_y": null,
            "padding": null,
            "right": null,
            "top": null,
            "visibility": null,
            "width": null
          }
        },
        "1f04c1d7860349738bdff1c7755ceef6": {
          "model_module": "@jupyter-widgets/controls",
          "model_module_version": "1.5.0",
          "model_name": "HTMLModel",
          "state": {
            "_dom_classes": [],
            "_model_module": "@jupyter-widgets/controls",
            "_model_module_version": "1.5.0",
            "_model_name": "HTMLModel",
            "_view_count": null,
            "_view_module": "@jupyter-widgets/controls",
            "_view_module_version": "1.5.0",
            "_view_name": "HTMLView",
            "description": "",
            "description_tooltip": null,
            "layout": "IPY_MODEL_ec3d7e73c7ef4e84a3aedd7b7b567f63",
            "placeholder": "​",
            "style": "IPY_MODEL_75170b0fd2874252aabdfdd4859eb748",
            "value": " 3.27M/3.27M [00:00&lt;00:00, 48.1MB/s]"
          }
        },
        "2036eb94ac5e47bc82f219cb55b4ebde": {
          "model_module": "@jupyter-widgets/controls",
          "model_module_version": "1.5.0",
          "model_name": "ProgressStyleModel",
          "state": {
            "_model_module": "@jupyter-widgets/controls",
            "_model_module_version": "1.5.0",
            "_model_name": "ProgressStyleModel",
            "_view_count": null,
            "_view_module": "@jupyter-widgets/base",
            "_view_module_version": "1.2.0",
            "_view_name": "StyleView",
            "bar_color": null,
            "description_width": ""
          }
        },
        "22f86059af1449d198053e70a861b7cd": {
          "model_module": "@jupyter-widgets/controls",
          "model_module_version": "1.5.0",
          "model_name": "ProgressStyleModel",
          "state": {
            "_model_module": "@jupyter-widgets/controls",
            "_model_module_version": "1.5.0",
            "_model_name": "ProgressStyleModel",
            "_view_count": null,
            "_view_module": "@jupyter-widgets/base",
            "_view_module_version": "1.2.0",
            "_view_name": "StyleView",
            "bar_color": null,
            "description_width": ""
          }
        },
        "298536407d0044ec9d8fb9d1c249e7b7": {
          "model_module": "@jupyter-widgets/controls",
          "model_module_version": "1.5.0",
          "model_name": "ProgressStyleModel",
          "state": {
            "_model_module": "@jupyter-widgets/controls",
            "_model_module_version": "1.5.0",
            "_model_name": "ProgressStyleModel",
            "_view_count": null,
            "_view_module": "@jupyter-widgets/base",
            "_view_module_version": "1.2.0",
            "_view_name": "StyleView",
            "bar_color": null,
            "description_width": ""
          }
        },
        "29a2fc9c865d4a2eb870e5ebea7883b7": {
          "model_module": "@jupyter-widgets/base",
          "model_module_version": "1.2.0",
          "model_name": "LayoutModel",
          "state": {
            "_model_module": "@jupyter-widgets/base",
            "_model_module_version": "1.2.0",
            "_model_name": "LayoutModel",
            "_view_count": null,
            "_view_module": "@jupyter-widgets/base",
            "_view_module_version": "1.2.0",
            "_view_name": "LayoutView",
            "align_content": null,
            "align_items": null,
            "align_self": null,
            "border": null,
            "bottom": null,
            "display": null,
            "flex": null,
            "flex_flow": null,
            "grid_area": null,
            "grid_auto_columns": null,
            "grid_auto_flow": null,
            "grid_auto_rows": null,
            "grid_column": null,
            "grid_gap": null,
            "grid_row": null,
            "grid_template_areas": null,
            "grid_template_columns": null,
            "grid_template_rows": null,
            "height": null,
            "justify_content": null,
            "justify_items": null,
            "left": null,
            "margin": null,
            "max_height": null,
            "max_width": null,
            "min_height": null,
            "min_width": null,
            "object_fit": null,
            "object_position": null,
            "order": null,
            "overflow": null,
            "overflow_x": null,
            "overflow_y": null,
            "padding": null,
            "right": null,
            "top": null,
            "visibility": null,
            "width": null
          }
        },
        "2c73312f6e074631bfd243f4375f3310": {
          "model_module": "@jupyter-widgets/controls",
          "model_module_version": "1.5.0",
          "model_name": "DescriptionStyleModel",
          "state": {
            "_model_module": "@jupyter-widgets/controls",
            "_model_module_version": "1.5.0",
            "_model_name": "DescriptionStyleModel",
            "_view_count": null,
            "_view_module": "@jupyter-widgets/base",
            "_view_module_version": "1.2.0",
            "_view_name": "StyleView",
            "description_width": ""
          }
        },
        "313acea89f7f4c819799e1c681d65d60": {
          "model_module": "@jupyter-widgets/controls",
          "model_module_version": "1.5.0",
          "model_name": "HTMLModel",
          "state": {
            "_dom_classes": [],
            "_model_module": "@jupyter-widgets/controls",
            "_model_module_version": "1.5.0",
            "_model_name": "HTMLModel",
            "_view_count": null,
            "_view_module": "@jupyter-widgets/controls",
            "_view_module_version": "1.5.0",
            "_view_name": "HTMLView",
            "description": "",
            "description_tooltip": null,
            "layout": "IPY_MODEL_cb850da44ec04c25864a8f1351ab91bf",
            "placeholder": "​",
            "style": "IPY_MODEL_ee9634f3d1bd4d7587c4624ce4b4d1cf",
            "value": "Downloading spiece.model: 100%"
          }
        },
        "337d16a63c454b7a8902321a53e3eac0": {
          "model_module": "@jupyter-widgets/controls",
          "model_module_version": "1.5.0",
          "model_name": "FloatProgressModel",
          "state": {
            "_dom_classes": [],
            "_model_module": "@jupyter-widgets/controls",
            "_model_module_version": "1.5.0",
            "_model_name": "FloatProgressModel",
            "_view_count": null,
            "_view_module": "@jupyter-widgets/controls",
            "_view_module_version": "1.5.0",
            "_view_name": "ProgressView",
            "bar_style": "success",
            "description": "",
            "description_tooltip": null,
            "layout": "IPY_MODEL_bcd6ab1e7d924c28a3661cf2430046ef",
            "max": 1129238081,
            "min": 0,
            "orientation": "horizontal",
            "style": "IPY_MODEL_22f86059af1449d198053e70a861b7cd",
            "value": 1129238081
          }
        },
        "38aefcf37aeb45e189655dce5e4b26c3": {
          "model_module": "@jupyter-widgets/base",
          "model_module_version": "1.2.0",
          "model_name": "LayoutModel",
          "state": {
            "_model_module": "@jupyter-widgets/base",
            "_model_module_version": "1.2.0",
            "_model_name": "LayoutModel",
            "_view_count": null,
            "_view_module": "@jupyter-widgets/base",
            "_view_module_version": "1.2.0",
            "_view_name": "LayoutView",
            "align_content": null,
            "align_items": null,
            "align_self": null,
            "border": null,
            "bottom": null,
            "display": null,
            "flex": null,
            "flex_flow": null,
            "grid_area": null,
            "grid_auto_columns": null,
            "grid_auto_flow": null,
            "grid_auto_rows": null,
            "grid_column": null,
            "grid_gap": null,
            "grid_row": null,
            "grid_template_areas": null,
            "grid_template_columns": null,
            "grid_template_rows": null,
            "height": null,
            "justify_content": null,
            "justify_items": null,
            "left": null,
            "margin": null,
            "max_height": null,
            "max_width": null,
            "min_height": null,
            "min_width": null,
            "object_fit": null,
            "object_position": null,
            "order": null,
            "overflow": null,
            "overflow_x": null,
            "overflow_y": null,
            "padding": null,
            "right": null,
            "top": null,
            "visibility": null,
            "width": null
          }
        },
        "393ab64ba6b946a084857d95cbaecef5": {
          "model_module": "@jupyter-widgets/controls",
          "model_module_version": "1.5.0",
          "model_name": "FloatProgressModel",
          "state": {
            "_dom_classes": [],
            "_model_module": "@jupyter-widgets/controls",
            "_model_module_version": "1.5.0",
            "_model_name": "FloatProgressModel",
            "_view_count": null,
            "_view_module": "@jupyter-widgets/controls",
            "_view_module_version": "1.5.0",
            "_view_name": "ProgressView",
            "bar_style": "success",
            "description": "",
            "description_tooltip": null,
            "layout": "IPY_MODEL_6bde9c137b5f43e497d435d857c51f37",
            "max": 3265159,
            "min": 0,
            "orientation": "horizontal",
            "style": "IPY_MODEL_05102f8dcd5244aca4c43875cd15dfb3",
            "value": 3265159
          }
        },
        "3ad412d528664e028f3deeee82ff3112": {
          "model_module": "@jupyter-widgets/base",
          "model_module_version": "1.2.0",
          "model_name": "LayoutModel",
          "state": {
            "_model_module": "@jupyter-widgets/base",
            "_model_module_version": "1.2.0",
            "_model_name": "LayoutModel",
            "_view_count": null,
            "_view_module": "@jupyter-widgets/base",
            "_view_module_version": "1.2.0",
            "_view_name": "LayoutView",
            "align_content": null,
            "align_items": null,
            "align_self": null,
            "border": null,
            "bottom": null,
            "display": null,
            "flex": null,
            "flex_flow": null,
            "grid_area": null,
            "grid_auto_columns": null,
            "grid_auto_flow": null,
            "grid_auto_rows": null,
            "grid_column": null,
            "grid_gap": null,
            "grid_row": null,
            "grid_template_areas": null,
            "grid_template_columns": null,
            "grid_template_rows": null,
            "height": null,
            "justify_content": null,
            "justify_items": null,
            "left": null,
            "margin": null,
            "max_height": null,
            "max_width": null,
            "min_height": null,
            "min_width": null,
            "object_fit": null,
            "object_position": null,
            "order": null,
            "overflow": null,
            "overflow_x": null,
            "overflow_y": null,
            "padding": null,
            "right": null,
            "top": null,
            "visibility": null,
            "width": null
          }
        },
        "3b0e67781c424f6a80f22f1409be0e44": {
          "model_module": "@jupyter-widgets/base",
          "model_module_version": "1.2.0",
          "model_name": "LayoutModel",
          "state": {
            "_model_module": "@jupyter-widgets/base",
            "_model_module_version": "1.2.0",
            "_model_name": "LayoutModel",
            "_view_count": null,
            "_view_module": "@jupyter-widgets/base",
            "_view_module_version": "1.2.0",
            "_view_name": "LayoutView",
            "align_content": null,
            "align_items": null,
            "align_self": null,
            "border": null,
            "bottom": null,
            "display": null,
            "flex": null,
            "flex_flow": null,
            "grid_area": null,
            "grid_auto_columns": null,
            "grid_auto_flow": null,
            "grid_auto_rows": null,
            "grid_column": null,
            "grid_gap": null,
            "grid_row": null,
            "grid_template_areas": null,
            "grid_template_columns": null,
            "grid_template_rows": null,
            "height": null,
            "justify_content": null,
            "justify_items": null,
            "left": null,
            "margin": null,
            "max_height": null,
            "max_width": null,
            "min_height": null,
            "min_width": null,
            "object_fit": null,
            "object_position": null,
            "order": null,
            "overflow": null,
            "overflow_x": null,
            "overflow_y": null,
            "padding": null,
            "right": null,
            "top": null,
            "visibility": null,
            "width": null
          }
        },
        "42ac2fcebe7f4258a6f4802dcdf2cb20": {
          "model_module": "@jupyter-widgets/base",
          "model_module_version": "1.2.0",
          "model_name": "LayoutModel",
          "state": {
            "_model_module": "@jupyter-widgets/base",
            "_model_module_version": "1.2.0",
            "_model_name": "LayoutModel",
            "_view_count": null,
            "_view_module": "@jupyter-widgets/base",
            "_view_module_version": "1.2.0",
            "_view_name": "LayoutView",
            "align_content": null,
            "align_items": null,
            "align_self": null,
            "border": null,
            "bottom": null,
            "display": null,
            "flex": null,
            "flex_flow": null,
            "grid_area": null,
            "grid_auto_columns": null,
            "grid_auto_flow": null,
            "grid_auto_rows": null,
            "grid_column": null,
            "grid_gap": null,
            "grid_row": null,
            "grid_template_areas": null,
            "grid_template_columns": null,
            "grid_template_rows": null,
            "height": null,
            "justify_content": null,
            "justify_items": null,
            "left": null,
            "margin": null,
            "max_height": null,
            "max_width": null,
            "min_height": null,
            "min_width": null,
            "object_fit": null,
            "object_position": null,
            "order": null,
            "overflow": null,
            "overflow_x": null,
            "overflow_y": null,
            "padding": null,
            "right": null,
            "top": null,
            "visibility": null,
            "width": null
          }
        },
        "4ad9b1563d2841b2a86b0038d48fc904": {
          "model_module": "@jupyter-widgets/controls",
          "model_module_version": "1.5.0",
          "model_name": "DescriptionStyleModel",
          "state": {
            "_model_module": "@jupyter-widgets/controls",
            "_model_module_version": "1.5.0",
            "_model_name": "DescriptionStyleModel",
            "_view_count": null,
            "_view_module": "@jupyter-widgets/base",
            "_view_module_version": "1.2.0",
            "_view_name": "StyleView",
            "description_width": ""
          }
        },
        "4be24b17ef084375acd505e4238fd95c": {
          "model_module": "@jupyter-widgets/controls",
          "model_module_version": "1.5.0",
          "model_name": "HTMLModel",
          "state": {
            "_dom_classes": [],
            "_model_module": "@jupyter-widgets/controls",
            "_model_module_version": "1.5.0",
            "_model_name": "HTMLModel",
            "_view_count": null,
            "_view_module": "@jupyter-widgets/controls",
            "_view_module_version": "1.5.0",
            "_view_name": "HTMLView",
            "description": "",
            "description_tooltip": null,
            "layout": "IPY_MODEL_b10a5e2994ce412aa160864c8150b484",
            "placeholder": "​",
            "style": "IPY_MODEL_7f9f10c0ffd04521a8ca7f75af957988",
            "value": "Downloading (…)rocessor_config.json: 100%"
          }
        },
        "61519dc12b7b45948be924313911ed60": {
          "model_module": "@jupyter-widgets/controls",
          "model_module_version": "1.5.0",
          "model_name": "HBoxModel",
          "state": {
            "_dom_classes": [],
            "_model_module": "@jupyter-widgets/controls",
            "_model_module_version": "1.5.0",
            "_model_name": "HBoxModel",
            "_view_count": null,
            "_view_module": "@jupyter-widgets/controls",
            "_view_module_version": "1.5.0",
            "_view_name": "HBoxView",
            "box_style": "",
            "children": [
              "IPY_MODEL_187ab89735a749a4b07c3650b1ebb66e",
              "IPY_MODEL_393ab64ba6b946a084857d95cbaecef5",
              "IPY_MODEL_1f04c1d7860349738bdff1c7755ceef6"
            ],
            "layout": "IPY_MODEL_6cd1cb6db2b942f48db02e49a670dc49"
          }
        },
        "6a8cb7fb38164672bbf463f0c4adb206": {
          "model_module": "@jupyter-widgets/controls",
          "model_module_version": "1.5.0",
          "model_name": "HBoxModel",
          "state": {
            "_dom_classes": [],
            "_model_module": "@jupyter-widgets/controls",
            "_model_module_version": "1.5.0",
            "_model_name": "HBoxModel",
            "_view_count": null,
            "_view_module": "@jupyter-widgets/controls",
            "_view_module_version": "1.5.0",
            "_view_name": "HBoxView",
            "box_style": "",
            "children": [
              "IPY_MODEL_b9dcd675d3ed42c2bca89d7691431ebb",
              "IPY_MODEL_df2b2ae208bc45208788286d198d7605",
              "IPY_MODEL_7f7f97c5e6704eacb615296ad1ed3477"
            ],
            "layout": "IPY_MODEL_d709f261d2c64ddfb1955c5b95c828c6"
          }
        },
        "6bde9c137b5f43e497d435d857c51f37": {
          "model_module": "@jupyter-widgets/base",
          "model_module_version": "1.2.0",
          "model_name": "LayoutModel",
          "state": {
            "_model_module": "@jupyter-widgets/base",
            "_model_module_version": "1.2.0",
            "_model_name": "LayoutModel",
            "_view_count": null,
            "_view_module": "@jupyter-widgets/base",
            "_view_module_version": "1.2.0",
            "_view_name": "LayoutView",
            "align_content": null,
            "align_items": null,
            "align_self": null,
            "border": null,
            "bottom": null,
            "display": null,
            "flex": null,
            "flex_flow": null,
            "grid_area": null,
            "grid_auto_columns": null,
            "grid_auto_flow": null,
            "grid_auto_rows": null,
            "grid_column": null,
            "grid_gap": null,
            "grid_row": null,
            "grid_template_areas": null,
            "grid_template_columns": null,
            "grid_template_rows": null,
            "height": null,
            "justify_content": null,
            "justify_items": null,
            "left": null,
            "margin": null,
            "max_height": null,
            "max_width": null,
            "min_height": null,
            "min_width": null,
            "object_fit": null,
            "object_position": null,
            "order": null,
            "overflow": null,
            "overflow_x": null,
            "overflow_y": null,
            "padding": null,
            "right": null,
            "top": null,
            "visibility": null,
            "width": null
          }
        },
        "6be9144aa972486497dbe1b2d7dc4eb4": {
          "model_module": "@jupyter-widgets/base",
          "model_module_version": "1.2.0",
          "model_name": "LayoutModel",
          "state": {
            "_model_module": "@jupyter-widgets/base",
            "_model_module_version": "1.2.0",
            "_model_name": "LayoutModel",
            "_view_count": null,
            "_view_module": "@jupyter-widgets/base",
            "_view_module_version": "1.2.0",
            "_view_name": "LayoutView",
            "align_content": null,
            "align_items": null,
            "align_self": null,
            "border": null,
            "bottom": null,
            "display": null,
            "flex": null,
            "flex_flow": null,
            "grid_area": null,
            "grid_auto_columns": null,
            "grid_auto_flow": null,
            "grid_auto_rows": null,
            "grid_column": null,
            "grid_gap": null,
            "grid_row": null,
            "grid_template_areas": null,
            "grid_template_columns": null,
            "grid_template_rows": null,
            "height": null,
            "justify_content": null,
            "justify_items": null,
            "left": null,
            "margin": null,
            "max_height": null,
            "max_width": null,
            "min_height": null,
            "min_width": null,
            "object_fit": null,
            "object_position": null,
            "order": null,
            "overflow": null,
            "overflow_x": null,
            "overflow_y": null,
            "padding": null,
            "right": null,
            "top": null,
            "visibility": null,
            "width": null
          }
        },
        "6cd1cb6db2b942f48db02e49a670dc49": {
          "model_module": "@jupyter-widgets/base",
          "model_module_version": "1.2.0",
          "model_name": "LayoutModel",
          "state": {
            "_model_module": "@jupyter-widgets/base",
            "_model_module_version": "1.2.0",
            "_model_name": "LayoutModel",
            "_view_count": null,
            "_view_module": "@jupyter-widgets/base",
            "_view_module_version": "1.2.0",
            "_view_name": "LayoutView",
            "align_content": null,
            "align_items": null,
            "align_self": null,
            "border": null,
            "bottom": null,
            "display": null,
            "flex": null,
            "flex_flow": null,
            "grid_area": null,
            "grid_auto_columns": null,
            "grid_auto_flow": null,
            "grid_auto_rows": null,
            "grid_column": null,
            "grid_gap": null,
            "grid_row": null,
            "grid_template_areas": null,
            "grid_template_columns": null,
            "grid_template_rows": null,
            "height": null,
            "justify_content": null,
            "justify_items": null,
            "left": null,
            "margin": null,
            "max_height": null,
            "max_width": null,
            "min_height": null,
            "min_width": null,
            "object_fit": null,
            "object_position": null,
            "order": null,
            "overflow": null,
            "overflow_x": null,
            "overflow_y": null,
            "padding": null,
            "right": null,
            "top": null,
            "visibility": null,
            "width": null
          }
        },
        "6db5b2b959724e5b94fcb7731eeb3199": {
          "model_module": "@jupyter-widgets/controls",
          "model_module_version": "1.5.0",
          "model_name": "DescriptionStyleModel",
          "state": {
            "_model_module": "@jupyter-widgets/controls",
            "_model_module_version": "1.5.0",
            "_model_name": "DescriptionStyleModel",
            "_view_count": null,
            "_view_module": "@jupyter-widgets/base",
            "_view_module_version": "1.2.0",
            "_view_name": "StyleView",
            "description_width": ""
          }
        },
        "71ede0d91ce0445e877f6e59cd2cf3fc": {
          "model_module": "@jupyter-widgets/base",
          "model_module_version": "1.2.0",
          "model_name": "LayoutModel",
          "state": {
            "_model_module": "@jupyter-widgets/base",
            "_model_module_version": "1.2.0",
            "_model_name": "LayoutModel",
            "_view_count": null,
            "_view_module": "@jupyter-widgets/base",
            "_view_module_version": "1.2.0",
            "_view_name": "LayoutView",
            "align_content": null,
            "align_items": null,
            "align_self": null,
            "border": null,
            "bottom": null,
            "display": null,
            "flex": null,
            "flex_flow": null,
            "grid_area": null,
            "grid_auto_columns": null,
            "grid_auto_flow": null,
            "grid_auto_rows": null,
            "grid_column": null,
            "grid_gap": null,
            "grid_row": null,
            "grid_template_areas": null,
            "grid_template_columns": null,
            "grid_template_rows": null,
            "height": null,
            "justify_content": null,
            "justify_items": null,
            "left": null,
            "margin": null,
            "max_height": null,
            "max_width": null,
            "min_height": null,
            "min_width": null,
            "object_fit": null,
            "object_position": null,
            "order": null,
            "overflow": null,
            "overflow_x": null,
            "overflow_y": null,
            "padding": null,
            "right": null,
            "top": null,
            "visibility": null,
            "width": null
          }
        },
        "7504147c57cd4f9299f3eb76b1d0be12": {
          "model_module": "@jupyter-widgets/controls",
          "model_module_version": "1.5.0",
          "model_name": "ProgressStyleModel",
          "state": {
            "_model_module": "@jupyter-widgets/controls",
            "_model_module_version": "1.5.0",
            "_model_name": "ProgressStyleModel",
            "_view_count": null,
            "_view_module": "@jupyter-widgets/base",
            "_view_module_version": "1.2.0",
            "_view_name": "StyleView",
            "bar_color": null,
            "description_width": ""
          }
        },
        "75170b0fd2874252aabdfdd4859eb748": {
          "model_module": "@jupyter-widgets/controls",
          "model_module_version": "1.5.0",
          "model_name": "DescriptionStyleModel",
          "state": {
            "_model_module": "@jupyter-widgets/controls",
            "_model_module_version": "1.5.0",
            "_model_name": "DescriptionStyleModel",
            "_view_count": null,
            "_view_module": "@jupyter-widgets/base",
            "_view_module_version": "1.2.0",
            "_view_name": "StyleView",
            "description_width": ""
          }
        },
        "7c1c8b5e33264ce298d8c18f24b7001e": {
          "model_module": "@jupyter-widgets/controls",
          "model_module_version": "1.5.0",
          "model_name": "HTMLModel",
          "state": {
            "_dom_classes": [],
            "_model_module": "@jupyter-widgets/controls",
            "_model_module_version": "1.5.0",
            "_model_name": "HTMLModel",
            "_view_count": null,
            "_view_module": "@jupyter-widgets/controls",
            "_view_module_version": "1.5.0",
            "_view_name": "HTMLView",
            "description": "",
            "description_tooltip": null,
            "layout": "IPY_MODEL_918446a92a9f4cc98f976a7e783549ad",
            "placeholder": "​",
            "style": "IPY_MODEL_b8378a0340464effaf276f9e070a1e1b",
            "value": "Downloading pytorch_model.bin: 100%"
          }
        },
        "7e7284dc1d80429a9ee973eab3b14d6e": {
          "model_module": "@jupyter-widgets/controls",
          "model_module_version": "1.5.0",
          "model_name": "DescriptionStyleModel",
          "state": {
            "_model_module": "@jupyter-widgets/controls",
            "_model_module_version": "1.5.0",
            "_model_name": "DescriptionStyleModel",
            "_view_count": null,
            "_view_module": "@jupyter-widgets/base",
            "_view_module_version": "1.2.0",
            "_view_name": "StyleView",
            "description_width": ""
          }
        },
        "7ec6fcf232ee469b8713795c11f93305": {
          "model_module": "@jupyter-widgets/controls",
          "model_module_version": "1.5.0",
          "model_name": "HTMLModel",
          "state": {
            "_dom_classes": [],
            "_model_module": "@jupyter-widgets/controls",
            "_model_module_version": "1.5.0",
            "_model_name": "HTMLModel",
            "_view_count": null,
            "_view_module": "@jupyter-widgets/controls",
            "_view_module_version": "1.5.0",
            "_view_name": "HTMLView",
            "description": "",
            "description_tooltip": null,
            "layout": "IPY_MODEL_1d2842890b4c45d993c92993ee0d49c9",
            "placeholder": "​",
            "style": "IPY_MODEL_1cacf9bf785b4a34968d69c1963a29a2",
            "value": " 231/231 [00:00&lt;00:00, 16.9kB/s]"
          }
        },
        "7f355394fb084c8995f36d7ef33ce9dc": {
          "model_module": "@jupyter-widgets/controls",
          "model_module_version": "1.5.0",
          "model_name": "ProgressStyleModel",
          "state": {
            "_model_module": "@jupyter-widgets/controls",
            "_model_module_version": "1.5.0",
            "_model_name": "ProgressStyleModel",
            "_view_count": null,
            "_view_module": "@jupyter-widgets/base",
            "_view_module_version": "1.2.0",
            "_view_name": "StyleView",
            "bar_color": null,
            "description_width": ""
          }
        },
        "7f7f97c5e6704eacb615296ad1ed3477": {
          "model_module": "@jupyter-widgets/controls",
          "model_module_version": "1.5.0",
          "model_name": "HTMLModel",
          "state": {
            "_dom_classes": [],
            "_model_module": "@jupyter-widgets/controls",
            "_model_module_version": "1.5.0",
            "_model_name": "HTMLModel",
            "_view_count": null,
            "_view_module": "@jupyter-widgets/controls",
            "_view_module_version": "1.5.0",
            "_view_name": "HTMLView",
            "description": "",
            "description_tooltip": null,
            "layout": "IPY_MODEL_0ecc83ca92fa49acad8a06149030f1b3",
            "placeholder": "​",
            "style": "IPY_MODEL_6db5b2b959724e5b94fcb7731eeb3199",
            "value": " 2.61k/2.61k [00:00&lt;00:00, 223kB/s]"
          }
        },
        "7f9f10c0ffd04521a8ca7f75af957988": {
          "model_module": "@jupyter-widgets/controls",
          "model_module_version": "1.5.0",
          "model_name": "DescriptionStyleModel",
          "state": {
            "_model_module": "@jupyter-widgets/controls",
            "_model_module_version": "1.5.0",
            "_model_name": "DescriptionStyleModel",
            "_view_count": null,
            "_view_module": "@jupyter-widgets/base",
            "_view_module_version": "1.2.0",
            "_view_name": "StyleView",
            "description_width": ""
          }
        },
        "878d4198f3514a1697f44ee4264694d2": {
          "model_module": "@jupyter-widgets/controls",
          "model_module_version": "1.5.0",
          "model_name": "HTMLModel",
          "state": {
            "_dom_classes": [],
            "_model_module": "@jupyter-widgets/controls",
            "_model_module_version": "1.5.0",
            "_model_name": "HTMLModel",
            "_view_count": null,
            "_view_module": "@jupyter-widgets/controls",
            "_view_module_version": "1.5.0",
            "_view_name": "HTMLView",
            "description": "",
            "description_tooltip": null,
            "layout": "IPY_MODEL_b02168968ec94c93bfd245d7ac8a0d94",
            "placeholder": "​",
            "style": "IPY_MODEL_4ad9b1563d2841b2a86b0038d48fc904",
            "value": " 1.13G/1.13G [00:04&lt;00:00, 235MB/s]"
          }
        },
        "885c3d9d2997431885d13ef65496f4e3": {
          "model_module": "@jupyter-widgets/base",
          "model_module_version": "1.2.0",
          "model_name": "LayoutModel",
          "state": {
            "_model_module": "@jupyter-widgets/base",
            "_model_module_version": "1.2.0",
            "_model_name": "LayoutModel",
            "_view_count": null,
            "_view_module": "@jupyter-widgets/base",
            "_view_module_version": "1.2.0",
            "_view_name": "LayoutView",
            "align_content": null,
            "align_items": null,
            "align_self": null,
            "border": null,
            "bottom": null,
            "display": null,
            "flex": null,
            "flex_flow": null,
            "grid_area": null,
            "grid_auto_columns": null,
            "grid_auto_flow": null,
            "grid_auto_rows": null,
            "grid_column": null,
            "grid_gap": null,
            "grid_row": null,
            "grid_template_areas": null,
            "grid_template_columns": null,
            "grid_template_rows": null,
            "height": null,
            "justify_content": null,
            "justify_items": null,
            "left": null,
            "margin": null,
            "max_height": null,
            "max_width": null,
            "min_height": null,
            "min_width": null,
            "object_fit": null,
            "object_position": null,
            "order": null,
            "overflow": null,
            "overflow_x": null,
            "overflow_y": null,
            "padding": null,
            "right": null,
            "top": null,
            "visibility": null,
            "width": null
          }
        },
        "8b87bf75f3134af4aaf841f053a17e93": {
          "model_module": "@jupyter-widgets/base",
          "model_module_version": "1.2.0",
          "model_name": "LayoutModel",
          "state": {
            "_model_module": "@jupyter-widgets/base",
            "_model_module_version": "1.2.0",
            "_model_name": "LayoutModel",
            "_view_count": null,
            "_view_module": "@jupyter-widgets/base",
            "_view_module_version": "1.2.0",
            "_view_name": "LayoutView",
            "align_content": null,
            "align_items": null,
            "align_self": null,
            "border": null,
            "bottom": null,
            "display": null,
            "flex": null,
            "flex_flow": null,
            "grid_area": null,
            "grid_auto_columns": null,
            "grid_auto_flow": null,
            "grid_auto_rows": null,
            "grid_column": null,
            "grid_gap": null,
            "grid_row": null,
            "grid_template_areas": null,
            "grid_template_columns": null,
            "grid_template_rows": null,
            "height": null,
            "justify_content": null,
            "justify_items": null,
            "left": null,
            "margin": null,
            "max_height": null,
            "max_width": null,
            "min_height": null,
            "min_width": null,
            "object_fit": null,
            "object_position": null,
            "order": null,
            "overflow": null,
            "overflow_x": null,
            "overflow_y": null,
            "padding": null,
            "right": null,
            "top": null,
            "visibility": null,
            "width": null
          }
        },
        "8cab2a533a894b73bb860cafcf5b89c8": {
          "model_module": "@jupyter-widgets/base",
          "model_module_version": "1.2.0",
          "model_name": "LayoutModel",
          "state": {
            "_model_module": "@jupyter-widgets/base",
            "_model_module_version": "1.2.0",
            "_model_name": "LayoutModel",
            "_view_count": null,
            "_view_module": "@jupyter-widgets/base",
            "_view_module_version": "1.2.0",
            "_view_name": "LayoutView",
            "align_content": null,
            "align_items": null,
            "align_self": null,
            "border": null,
            "bottom": null,
            "display": null,
            "flex": null,
            "flex_flow": null,
            "grid_area": null,
            "grid_auto_columns": null,
            "grid_auto_flow": null,
            "grid_auto_rows": null,
            "grid_column": null,
            "grid_gap": null,
            "grid_row": null,
            "grid_template_areas": null,
            "grid_template_columns": null,
            "grid_template_rows": null,
            "height": null,
            "justify_content": null,
            "justify_items": null,
            "left": null,
            "margin": null,
            "max_height": null,
            "max_width": null,
            "min_height": null,
            "min_width": null,
            "object_fit": null,
            "object_position": null,
            "order": null,
            "overflow": null,
            "overflow_x": null,
            "overflow_y": null,
            "padding": null,
            "right": null,
            "top": null,
            "visibility": null,
            "width": null
          }
        },
        "918446a92a9f4cc98f976a7e783549ad": {
          "model_module": "@jupyter-widgets/base",
          "model_module_version": "1.2.0",
          "model_name": "LayoutModel",
          "state": {
            "_model_module": "@jupyter-widgets/base",
            "_model_module_version": "1.2.0",
            "_model_name": "LayoutModel",
            "_view_count": null,
            "_view_module": "@jupyter-widgets/base",
            "_view_module_version": "1.2.0",
            "_view_name": "LayoutView",
            "align_content": null,
            "align_items": null,
            "align_self": null,
            "border": null,
            "bottom": null,
            "display": null,
            "flex": null,
            "flex_flow": null,
            "grid_area": null,
            "grid_auto_columns": null,
            "grid_auto_flow": null,
            "grid_auto_rows": null,
            "grid_column": null,
            "grid_gap": null,
            "grid_row": null,
            "grid_template_areas": null,
            "grid_template_columns": null,
            "grid_template_rows": null,
            "height": null,
            "justify_content": null,
            "justify_items": null,
            "left": null,
            "margin": null,
            "max_height": null,
            "max_width": null,
            "min_height": null,
            "min_width": null,
            "object_fit": null,
            "object_position": null,
            "order": null,
            "overflow": null,
            "overflow_x": null,
            "overflow_y": null,
            "padding": null,
            "right": null,
            "top": null,
            "visibility": null,
            "width": null
          }
        },
        "971bbcbe8e4a4e7dadc94b5e1eb16688": {
          "model_module": "@jupyter-widgets/controls",
          "model_module_version": "1.5.0",
          "model_name": "FloatProgressModel",
          "state": {
            "_dom_classes": [],
            "_model_module": "@jupyter-widgets/controls",
            "_model_module_version": "1.5.0",
            "_model_name": "FloatProgressModel",
            "_view_count": null,
            "_view_module": "@jupyter-widgets/controls",
            "_view_module_version": "1.5.0",
            "_view_name": "ProgressView",
            "bar_style": "success",
            "description": "",
            "description_tooltip": null,
            "layout": "IPY_MODEL_eea281b6e40f4ef9850d02fc79adba25",
            "max": 4918,
            "min": 0,
            "orientation": "horizontal",
            "style": "IPY_MODEL_7f355394fb084c8995f36d7ef33ce9dc",
            "value": 4918
          }
        },
        "9b45fe84383348fb87439867d27acc91": {
          "model_module": "@jupyter-widgets/base",
          "model_module_version": "1.2.0",
          "model_name": "LayoutModel",
          "state": {
            "_model_module": "@jupyter-widgets/base",
            "_model_module_version": "1.2.0",
            "_model_name": "LayoutModel",
            "_view_count": null,
            "_view_module": "@jupyter-widgets/base",
            "_view_module_version": "1.2.0",
            "_view_name": "LayoutView",
            "align_content": null,
            "align_items": null,
            "align_self": null,
            "border": null,
            "bottom": null,
            "display": null,
            "flex": null,
            "flex_flow": null,
            "grid_area": null,
            "grid_auto_columns": null,
            "grid_auto_flow": null,
            "grid_auto_rows": null,
            "grid_column": null,
            "grid_gap": null,
            "grid_row": null,
            "grid_template_areas": null,
            "grid_template_columns": null,
            "grid_template_rows": null,
            "height": null,
            "justify_content": null,
            "justify_items": null,
            "left": null,
            "margin": null,
            "max_height": null,
            "max_width": null,
            "min_height": null,
            "min_width": null,
            "object_fit": null,
            "object_position": null,
            "order": null,
            "overflow": null,
            "overflow_x": null,
            "overflow_y": null,
            "padding": null,
            "right": null,
            "top": null,
            "visibility": null,
            "width": null
          }
        },
        "9f6ee787f703461f86a1a10d4d5e6aac": {
          "model_module": "@jupyter-widgets/controls",
          "model_module_version": "1.5.0",
          "model_name": "HBoxModel",
          "state": {
            "_dom_classes": [],
            "_model_module": "@jupyter-widgets/controls",
            "_model_module_version": "1.5.0",
            "_model_name": "HBoxModel",
            "_view_count": null,
            "_view_module": "@jupyter-widgets/controls",
            "_view_module_version": "1.5.0",
            "_view_name": "HBoxView",
            "box_style": "",
            "children": [
              "IPY_MODEL_09fef01d671a4cd39ffce4a94400c799",
              "IPY_MODEL_971bbcbe8e4a4e7dadc94b5e1eb16688",
              "IPY_MODEL_002ac9e3a0e6429eaac5ba9bd82a7b1d"
            ],
            "layout": "IPY_MODEL_71ede0d91ce0445e877f6e59cd2cf3fc"
          }
        },
        "a44a4450e1274a828c074828a526be1f": {
          "model_module": "@jupyter-widgets/base",
          "model_module_version": "1.2.0",
          "model_name": "LayoutModel",
          "state": {
            "_model_module": "@jupyter-widgets/base",
            "_model_module_version": "1.2.0",
            "_model_name": "LayoutModel",
            "_view_count": null,
            "_view_module": "@jupyter-widgets/base",
            "_view_module_version": "1.2.0",
            "_view_name": "LayoutView",
            "align_content": null,
            "align_items": null,
            "align_self": null,
            "border": null,
            "bottom": null,
            "display": null,
            "flex": null,
            "flex_flow": null,
            "grid_area": null,
            "grid_auto_columns": null,
            "grid_auto_flow": null,
            "grid_auto_rows": null,
            "grid_column": null,
            "grid_gap": null,
            "grid_row": null,
            "grid_template_areas": null,
            "grid_template_columns": null,
            "grid_template_rows": null,
            "height": null,
            "justify_content": null,
            "justify_items": null,
            "left": null,
            "margin": null,
            "max_height": null,
            "max_width": null,
            "min_height": null,
            "min_width": null,
            "object_fit": null,
            "object_position": null,
            "order": null,
            "overflow": null,
            "overflow_x": null,
            "overflow_y": null,
            "padding": null,
            "right": null,
            "top": null,
            "visibility": null,
            "width": null
          }
        },
        "a6a62b4e088b493e94ce144a92d1ac14": {
          "model_module": "@jupyter-widgets/controls",
          "model_module_version": "1.5.0",
          "model_name": "FloatProgressModel",
          "state": {
            "_dom_classes": [],
            "_model_module": "@jupyter-widgets/controls",
            "_model_module_version": "1.5.0",
            "_model_name": "FloatProgressModel",
            "_view_count": null,
            "_view_module": "@jupyter-widgets/controls",
            "_view_module_version": "1.5.0",
            "_view_name": "ProgressView",
            "bar_style": "success",
            "description": "",
            "description_tooltip": null,
            "layout": "IPY_MODEL_6be9144aa972486497dbe1b2d7dc4eb4",
            "max": 851388,
            "min": 0,
            "orientation": "horizontal",
            "style": "IPY_MODEL_7504147c57cd4f9299f3eb76b1d0be12",
            "value": 851388
          }
        },
        "b02168968ec94c93bfd245d7ac8a0d94": {
          "model_module": "@jupyter-widgets/base",
          "model_module_version": "1.2.0",
          "model_name": "LayoutModel",
          "state": {
            "_model_module": "@jupyter-widgets/base",
            "_model_module_version": "1.2.0",
            "_model_name": "LayoutModel",
            "_view_count": null,
            "_view_module": "@jupyter-widgets/base",
            "_view_module_version": "1.2.0",
            "_view_name": "LayoutView",
            "align_content": null,
            "align_items": null,
            "align_self": null,
            "border": null,
            "bottom": null,
            "display": null,
            "flex": null,
            "flex_flow": null,
            "grid_area": null,
            "grid_auto_columns": null,
            "grid_auto_flow": null,
            "grid_auto_rows": null,
            "grid_column": null,
            "grid_gap": null,
            "grid_row": null,
            "grid_template_areas": null,
            "grid_template_columns": null,
            "grid_template_rows": null,
            "height": null,
            "justify_content": null,
            "justify_items": null,
            "left": null,
            "margin": null,
            "max_height": null,
            "max_width": null,
            "min_height": null,
            "min_width": null,
            "object_fit": null,
            "object_position": null,
            "order": null,
            "overflow": null,
            "overflow_x": null,
            "overflow_y": null,
            "padding": null,
            "right": null,
            "top": null,
            "visibility": null,
            "width": null
          }
        },
        "b10a5e2994ce412aa160864c8150b484": {
          "model_module": "@jupyter-widgets/base",
          "model_module_version": "1.2.0",
          "model_name": "LayoutModel",
          "state": {
            "_model_module": "@jupyter-widgets/base",
            "_model_module_version": "1.2.0",
            "_model_name": "LayoutModel",
            "_view_count": null,
            "_view_module": "@jupyter-widgets/base",
            "_view_module_version": "1.2.0",
            "_view_name": "LayoutView",
            "align_content": null,
            "align_items": null,
            "align_self": null,
            "border": null,
            "bottom": null,
            "display": null,
            "flex": null,
            "flex_flow": null,
            "grid_area": null,
            "grid_auto_columns": null,
            "grid_auto_flow": null,
            "grid_auto_rows": null,
            "grid_column": null,
            "grid_gap": null,
            "grid_row": null,
            "grid_template_areas": null,
            "grid_template_columns": null,
            "grid_template_rows": null,
            "height": null,
            "justify_content": null,
            "justify_items": null,
            "left": null,
            "margin": null,
            "max_height": null,
            "max_width": null,
            "min_height": null,
            "min_width": null,
            "object_fit": null,
            "object_position": null,
            "order": null,
            "overflow": null,
            "overflow_x": null,
            "overflow_y": null,
            "padding": null,
            "right": null,
            "top": null,
            "visibility": null,
            "width": null
          }
        },
        "b2fc509e6c2d4c94ad2299502e2e5f45": {
          "model_module": "@jupyter-widgets/controls",
          "model_module_version": "1.5.0",
          "model_name": "ProgressStyleModel",
          "state": {
            "_model_module": "@jupyter-widgets/controls",
            "_model_module_version": "1.5.0",
            "_model_name": "ProgressStyleModel",
            "_view_count": null,
            "_view_module": "@jupyter-widgets/base",
            "_view_module_version": "1.2.0",
            "_view_name": "StyleView",
            "bar_color": null,
            "description_width": ""
          }
        },
        "b6b99b767c5547c5abf9930c5ebdda89": {
          "model_module": "@jupyter-widgets/base",
          "model_module_version": "1.2.0",
          "model_name": "LayoutModel",
          "state": {
            "_model_module": "@jupyter-widgets/base",
            "_model_module_version": "1.2.0",
            "_model_name": "LayoutModel",
            "_view_count": null,
            "_view_module": "@jupyter-widgets/base",
            "_view_module_version": "1.2.0",
            "_view_name": "LayoutView",
            "align_content": null,
            "align_items": null,
            "align_self": null,
            "border": null,
            "bottom": null,
            "display": null,
            "flex": null,
            "flex_flow": null,
            "grid_area": null,
            "grid_auto_columns": null,
            "grid_auto_flow": null,
            "grid_auto_rows": null,
            "grid_column": null,
            "grid_gap": null,
            "grid_row": null,
            "grid_template_areas": null,
            "grid_template_columns": null,
            "grid_template_rows": null,
            "height": null,
            "justify_content": null,
            "justify_items": null,
            "left": null,
            "margin": null,
            "max_height": null,
            "max_width": null,
            "min_height": null,
            "min_width": null,
            "object_fit": null,
            "object_position": null,
            "order": null,
            "overflow": null,
            "overflow_x": null,
            "overflow_y": null,
            "padding": null,
            "right": null,
            "top": null,
            "visibility": null,
            "width": null
          }
        },
        "b8378a0340464effaf276f9e070a1e1b": {
          "model_module": "@jupyter-widgets/controls",
          "model_module_version": "1.5.0",
          "model_name": "DescriptionStyleModel",
          "state": {
            "_model_module": "@jupyter-widgets/controls",
            "_model_module_version": "1.5.0",
            "_model_name": "DescriptionStyleModel",
            "_view_count": null,
            "_view_module": "@jupyter-widgets/base",
            "_view_module_version": "1.2.0",
            "_view_name": "StyleView",
            "description_width": ""
          }
        },
        "b9a06a97b5574442b5031bf847e4c494": {
          "model_module": "@jupyter-widgets/controls",
          "model_module_version": "1.5.0",
          "model_name": "DescriptionStyleModel",
          "state": {
            "_model_module": "@jupyter-widgets/controls",
            "_model_module_version": "1.5.0",
            "_model_name": "DescriptionStyleModel",
            "_view_count": null,
            "_view_module": "@jupyter-widgets/base",
            "_view_module_version": "1.2.0",
            "_view_name": "StyleView",
            "description_width": ""
          }
        },
        "b9dcd675d3ed42c2bca89d7691431ebb": {
          "model_module": "@jupyter-widgets/controls",
          "model_module_version": "1.5.0",
          "model_name": "HTMLModel",
          "state": {
            "_dom_classes": [],
            "_model_module": "@jupyter-widgets/controls",
            "_model_module_version": "1.5.0",
            "_model_name": "HTMLModel",
            "_view_count": null,
            "_view_module": "@jupyter-widgets/controls",
            "_view_module_version": "1.5.0",
            "_view_name": "HTMLView",
            "description": "",
            "description_tooltip": null,
            "layout": "IPY_MODEL_885c3d9d2997431885d13ef65496f4e3",
            "placeholder": "​",
            "style": "IPY_MODEL_b9a06a97b5574442b5031bf847e4c494",
            "value": "Downloading (…)okenizer_config.json: 100%"
          }
        },
        "bcd6ab1e7d924c28a3661cf2430046ef": {
          "model_module": "@jupyter-widgets/base",
          "model_module_version": "1.2.0",
          "model_name": "LayoutModel",
          "state": {
            "_model_module": "@jupyter-widgets/base",
            "_model_module_version": "1.2.0",
            "_model_name": "LayoutModel",
            "_view_count": null,
            "_view_module": "@jupyter-widgets/base",
            "_view_module_version": "1.2.0",
            "_view_name": "LayoutView",
            "align_content": null,
            "align_items": null,
            "align_self": null,
            "border": null,
            "bottom": null,
            "display": null,
            "flex": null,
            "flex_flow": null,
            "grid_area": null,
            "grid_auto_columns": null,
            "grid_auto_flow": null,
            "grid_auto_rows": null,
            "grid_column": null,
            "grid_gap": null,
            "grid_row": null,
            "grid_template_areas": null,
            "grid_template_columns": null,
            "grid_template_rows": null,
            "height": null,
            "justify_content": null,
            "justify_items": null,
            "left": null,
            "margin": null,
            "max_height": null,
            "max_width": null,
            "min_height": null,
            "min_width": null,
            "object_fit": null,
            "object_position": null,
            "order": null,
            "overflow": null,
            "overflow_x": null,
            "overflow_y": null,
            "padding": null,
            "right": null,
            "top": null,
            "visibility": null,
            "width": null
          }
        },
        "c18503476c5742289a26c6a7dabd7746": {
          "model_module": "@jupyter-widgets/base",
          "model_module_version": "1.2.0",
          "model_name": "LayoutModel",
          "state": {
            "_model_module": "@jupyter-widgets/base",
            "_model_module_version": "1.2.0",
            "_model_name": "LayoutModel",
            "_view_count": null,
            "_view_module": "@jupyter-widgets/base",
            "_view_module_version": "1.2.0",
            "_view_name": "LayoutView",
            "align_content": null,
            "align_items": null,
            "align_self": null,
            "border": null,
            "bottom": null,
            "display": null,
            "flex": null,
            "flex_flow": null,
            "grid_area": null,
            "grid_auto_columns": null,
            "grid_auto_flow": null,
            "grid_auto_rows": null,
            "grid_column": null,
            "grid_gap": null,
            "grid_row": null,
            "grid_template_areas": null,
            "grid_template_columns": null,
            "grid_template_rows": null,
            "height": null,
            "justify_content": null,
            "justify_items": null,
            "left": null,
            "margin": null,
            "max_height": null,
            "max_width": null,
            "min_height": null,
            "min_width": null,
            "object_fit": null,
            "object_position": null,
            "order": null,
            "overflow": null,
            "overflow_x": null,
            "overflow_y": null,
            "padding": null,
            "right": null,
            "top": null,
            "visibility": null,
            "width": null
          }
        },
        "c539fe8271804eae8a2af9f158b23df5": {
          "model_module": "@jupyter-widgets/controls",
          "model_module_version": "1.5.0",
          "model_name": "FloatProgressModel",
          "state": {
            "_dom_classes": [],
            "_model_module": "@jupyter-widgets/controls",
            "_model_module_version": "1.5.0",
            "_model_name": "FloatProgressModel",
            "_view_count": null,
            "_view_module": "@jupyter-widgets/controls",
            "_view_module_version": "1.5.0",
            "_view_name": "ProgressView",
            "bar_style": "success",
            "description": "",
            "description_tooltip": null,
            "layout": "IPY_MODEL_003b6f1db5c84e61b08bd27fbced5048",
            "max": 231,
            "min": 0,
            "orientation": "horizontal",
            "style": "IPY_MODEL_298536407d0044ec9d8fb9d1c249e7b7",
            "value": 231
          }
        },
        "c70d559b146c4fe8b771a1f7c2dfe6fa": {
          "model_module": "@jupyter-widgets/controls",
          "model_module_version": "1.5.0",
          "model_name": "HTMLModel",
          "state": {
            "_dom_classes": [],
            "_model_module": "@jupyter-widgets/controls",
            "_model_module_version": "1.5.0",
            "_model_name": "HTMLModel",
            "_view_count": null,
            "_view_module": "@jupyter-widgets/controls",
            "_view_module_version": "1.5.0",
            "_view_name": "HTMLView",
            "description": "",
            "description_tooltip": null,
            "layout": "IPY_MODEL_cdfcfb30a8c84cb393a8218ddb0fe580",
            "placeholder": "​",
            "style": "IPY_MODEL_01e67c93506043a19b2e0920f76bd60e",
            "value": "Downloading (…)cial_tokens_map.json: 100%"
          }
        },
        "ca02712c598c4b908735a2a2d28812b3": {
          "model_module": "@jupyter-widgets/controls",
          "model_module_version": "1.5.0",
          "model_name": "DescriptionStyleModel",
          "state": {
            "_model_module": "@jupyter-widgets/controls",
            "_model_module_version": "1.5.0",
            "_model_name": "DescriptionStyleModel",
            "_view_count": null,
            "_view_module": "@jupyter-widgets/base",
            "_view_module_version": "1.2.0",
            "_view_name": "StyleView",
            "description_width": ""
          }
        },
        "cb850da44ec04c25864a8f1351ab91bf": {
          "model_module": "@jupyter-widgets/base",
          "model_module_version": "1.2.0",
          "model_name": "LayoutModel",
          "state": {
            "_model_module": "@jupyter-widgets/base",
            "_model_module_version": "1.2.0",
            "_model_name": "LayoutModel",
            "_view_count": null,
            "_view_module": "@jupyter-widgets/base",
            "_view_module_version": "1.2.0",
            "_view_name": "LayoutView",
            "align_content": null,
            "align_items": null,
            "align_self": null,
            "border": null,
            "bottom": null,
            "display": null,
            "flex": null,
            "flex_flow": null,
            "grid_area": null,
            "grid_auto_columns": null,
            "grid_auto_flow": null,
            "grid_auto_rows": null,
            "grid_column": null,
            "grid_gap": null,
            "grid_row": null,
            "grid_template_areas": null,
            "grid_template_columns": null,
            "grid_template_rows": null,
            "height": null,
            "justify_content": null,
            "justify_items": null,
            "left": null,
            "margin": null,
            "max_height": null,
            "max_width": null,
            "min_height": null,
            "min_width": null,
            "object_fit": null,
            "object_position": null,
            "order": null,
            "overflow": null,
            "overflow_x": null,
            "overflow_y": null,
            "padding": null,
            "right": null,
            "top": null,
            "visibility": null,
            "width": null
          }
        },
        "cdfcfb30a8c84cb393a8218ddb0fe580": {
          "model_module": "@jupyter-widgets/base",
          "model_module_version": "1.2.0",
          "model_name": "LayoutModel",
          "state": {
            "_model_module": "@jupyter-widgets/base",
            "_model_module_version": "1.2.0",
            "_model_name": "LayoutModel",
            "_view_count": null,
            "_view_module": "@jupyter-widgets/base",
            "_view_module_version": "1.2.0",
            "_view_name": "LayoutView",
            "align_content": null,
            "align_items": null,
            "align_self": null,
            "border": null,
            "bottom": null,
            "display": null,
            "flex": null,
            "flex_flow": null,
            "grid_area": null,
            "grid_auto_columns": null,
            "grid_auto_flow": null,
            "grid_auto_rows": null,
            "grid_column": null,
            "grid_gap": null,
            "grid_row": null,
            "grid_template_areas": null,
            "grid_template_columns": null,
            "grid_template_rows": null,
            "height": null,
            "justify_content": null,
            "justify_items": null,
            "left": null,
            "margin": null,
            "max_height": null,
            "max_width": null,
            "min_height": null,
            "min_width": null,
            "object_fit": null,
            "object_position": null,
            "order": null,
            "overflow": null,
            "overflow_x": null,
            "overflow_y": null,
            "padding": null,
            "right": null,
            "top": null,
            "visibility": null,
            "width": null
          }
        },
        "cec1e24e23fd468186cd43d5f2c36542": {
          "model_module": "@jupyter-widgets/base",
          "model_module_version": "1.2.0",
          "model_name": "LayoutModel",
          "state": {
            "_model_module": "@jupyter-widgets/base",
            "_model_module_version": "1.2.0",
            "_model_name": "LayoutModel",
            "_view_count": null,
            "_view_module": "@jupyter-widgets/base",
            "_view_module_version": "1.2.0",
            "_view_name": "LayoutView",
            "align_content": null,
            "align_items": null,
            "align_self": null,
            "border": null,
            "bottom": null,
            "display": null,
            "flex": null,
            "flex_flow": null,
            "grid_area": null,
            "grid_auto_columns": null,
            "grid_auto_flow": null,
            "grid_auto_rows": null,
            "grid_column": null,
            "grid_gap": null,
            "grid_row": null,
            "grid_template_areas": null,
            "grid_template_columns": null,
            "grid_template_rows": null,
            "height": null,
            "justify_content": null,
            "justify_items": null,
            "left": null,
            "margin": null,
            "max_height": null,
            "max_width": null,
            "min_height": null,
            "min_width": null,
            "object_fit": null,
            "object_position": null,
            "order": null,
            "overflow": null,
            "overflow_x": null,
            "overflow_y": null,
            "padding": null,
            "right": null,
            "top": null,
            "visibility": null,
            "width": null
          }
        },
        "d0e6e2d299d64855979c7944ed095735": {
          "model_module": "@jupyter-widgets/controls",
          "model_module_version": "1.5.0",
          "model_name": "HBoxModel",
          "state": {
            "_dom_classes": [],
            "_model_module": "@jupyter-widgets/controls",
            "_model_module_version": "1.5.0",
            "_model_name": "HBoxModel",
            "_view_count": null,
            "_view_module": "@jupyter-widgets/controls",
            "_view_module_version": "1.5.0",
            "_view_name": "HBoxView",
            "box_style": "",
            "children": [
              "IPY_MODEL_7c1c8b5e33264ce298d8c18f24b7001e",
              "IPY_MODEL_337d16a63c454b7a8902321a53e3eac0",
              "IPY_MODEL_878d4198f3514a1697f44ee4264694d2"
            ],
            "layout": "IPY_MODEL_3b0e67781c424f6a80f22f1409be0e44"
          }
        },
        "d178422db7984f9f84ea0d275c555bb3": {
          "model_module": "@jupyter-widgets/controls",
          "model_module_version": "1.5.0",
          "model_name": "HTMLModel",
          "state": {
            "_dom_classes": [],
            "_model_module": "@jupyter-widgets/controls",
            "_model_module_version": "1.5.0",
            "_model_name": "HTMLModel",
            "_view_count": null,
            "_view_module": "@jupyter-widgets/controls",
            "_view_module_version": "1.5.0",
            "_view_name": "HTMLView",
            "description": "",
            "description_tooltip": null,
            "layout": "IPY_MODEL_8cab2a533a894b73bb860cafcf5b89c8",
            "placeholder": "​",
            "style": "IPY_MODEL_7e7284dc1d80429a9ee973eab3b14d6e",
            "value": " 2.20k/2.20k [00:00&lt;00:00, 206kB/s]"
          }
        },
        "d58ef6e437d74c32849bf5ec4cddb7c8": {
          "model_module": "@jupyter-widgets/controls",
          "model_module_version": "1.5.0",
          "model_name": "HBoxModel",
          "state": {
            "_dom_classes": [],
            "_model_module": "@jupyter-widgets/controls",
            "_model_module_version": "1.5.0",
            "_model_name": "HBoxModel",
            "_view_count": null,
            "_view_module": "@jupyter-widgets/controls",
            "_view_module_version": "1.5.0",
            "_view_name": "HBoxView",
            "box_style": "",
            "children": [
              "IPY_MODEL_4be24b17ef084375acd505e4238fd95c",
              "IPY_MODEL_c539fe8271804eae8a2af9f158b23df5",
              "IPY_MODEL_7ec6fcf232ee469b8713795c11f93305"
            ],
            "layout": "IPY_MODEL_a44a4450e1274a828c074828a526be1f"
          }
        },
        "d709f261d2c64ddfb1955c5b95c828c6": {
          "model_module": "@jupyter-widgets/base",
          "model_module_version": "1.2.0",
          "model_name": "LayoutModel",
          "state": {
            "_model_module": "@jupyter-widgets/base",
            "_model_module_version": "1.2.0",
            "_model_name": "LayoutModel",
            "_view_count": null,
            "_view_module": "@jupyter-widgets/base",
            "_view_module_version": "1.2.0",
            "_view_name": "LayoutView",
            "align_content": null,
            "align_items": null,
            "align_self": null,
            "border": null,
            "bottom": null,
            "display": null,
            "flex": null,
            "flex_flow": null,
            "grid_area": null,
            "grid_auto_columns": null,
            "grid_auto_flow": null,
            "grid_auto_rows": null,
            "grid_column": null,
            "grid_gap": null,
            "grid_row": null,
            "grid_template_areas": null,
            "grid_template_columns": null,
            "grid_template_rows": null,
            "height": null,
            "justify_content": null,
            "justify_items": null,
            "left": null,
            "margin": null,
            "max_height": null,
            "max_width": null,
            "min_height": null,
            "min_width": null,
            "object_fit": null,
            "object_position": null,
            "order": null,
            "overflow": null,
            "overflow_x": null,
            "overflow_y": null,
            "padding": null,
            "right": null,
            "top": null,
            "visibility": null,
            "width": null
          }
        },
        "dc12cf8f2c714d76bdd04a2e44fe73c6": {
          "model_module": "@jupyter-widgets/controls",
          "model_module_version": "1.5.0",
          "model_name": "LabelModel",
          "state": {
            "_dom_classes": [],
            "_model_module": "@jupyter-widgets/controls",
            "_model_module_version": "1.5.0",
            "_model_name": "LabelModel",
            "_view_count": null,
            "_view_module": "@jupyter-widgets/controls",
            "_view_module_version": "1.5.0",
            "_view_name": "LabelView",
            "description": "",
            "description_tooltip": null,
            "layout": "IPY_MODEL_3ad412d528664e028f3deeee82ff3112",
            "placeholder": "​",
            "style": "IPY_MODEL_2c73312f6e074631bfd243f4375f3310",
            "value": "0.002 MB of 0.002 MB uploaded (0.000 MB deduped)\r"
          }
        },
        "df2b2ae208bc45208788286d198d7605": {
          "model_module": "@jupyter-widgets/controls",
          "model_module_version": "1.5.0",
          "model_name": "FloatProgressModel",
          "state": {
            "_dom_classes": [],
            "_model_module": "@jupyter-widgets/controls",
            "_model_module_version": "1.5.0",
            "_model_name": "FloatProgressModel",
            "_view_count": null,
            "_view_module": "@jupyter-widgets/controls",
            "_view_module_version": "1.5.0",
            "_view_name": "ProgressView",
            "bar_style": "success",
            "description": "",
            "description_tooltip": null,
            "layout": "IPY_MODEL_cec1e24e23fd468186cd43d5f2c36542",
            "max": 2613,
            "min": 0,
            "orientation": "horizontal",
            "style": "IPY_MODEL_b2fc509e6c2d4c94ad2299502e2e5f45",
            "value": 2613
          }
        },
        "e1f84bdeade640738ec6bcd3343f60b6": {
          "model_module": "@jupyter-widgets/controls",
          "model_module_version": "1.5.0",
          "model_name": "DescriptionStyleModel",
          "state": {
            "_model_module": "@jupyter-widgets/controls",
            "_model_module_version": "1.5.0",
            "_model_name": "DescriptionStyleModel",
            "_view_count": null,
            "_view_module": "@jupyter-widgets/base",
            "_view_module_version": "1.2.0",
            "_view_name": "StyleView",
            "description_width": ""
          }
        },
        "e29a90824bc3414799206b704a9ab09d": {
          "model_module": "@jupyter-widgets/base",
          "model_module_version": "1.2.0",
          "model_name": "LayoutModel",
          "state": {
            "_model_module": "@jupyter-widgets/base",
            "_model_module_version": "1.2.0",
            "_model_name": "LayoutModel",
            "_view_count": null,
            "_view_module": "@jupyter-widgets/base",
            "_view_module_version": "1.2.0",
            "_view_name": "LayoutView",
            "align_content": null,
            "align_items": null,
            "align_self": null,
            "border": null,
            "bottom": null,
            "display": null,
            "flex": null,
            "flex_flow": null,
            "grid_area": null,
            "grid_auto_columns": null,
            "grid_auto_flow": null,
            "grid_auto_rows": null,
            "grid_column": null,
            "grid_gap": null,
            "grid_row": null,
            "grid_template_areas": null,
            "grid_template_columns": null,
            "grid_template_rows": null,
            "height": null,
            "justify_content": null,
            "justify_items": null,
            "left": null,
            "margin": null,
            "max_height": null,
            "max_width": null,
            "min_height": null,
            "min_width": null,
            "object_fit": null,
            "object_position": null,
            "order": null,
            "overflow": null,
            "overflow_x": null,
            "overflow_y": null,
            "padding": null,
            "right": null,
            "top": null,
            "visibility": null,
            "width": null
          }
        },
        "ec3ce7e4517a4037b09de316c4cd9df7": {
          "model_module": "@jupyter-widgets/controls",
          "model_module_version": "1.5.0",
          "model_name": "HBoxModel",
          "state": {
            "_dom_classes": [],
            "_model_module": "@jupyter-widgets/controls",
            "_model_module_version": "1.5.0",
            "_model_name": "HBoxModel",
            "_view_count": null,
            "_view_module": "@jupyter-widgets/controls",
            "_view_module_version": "1.5.0",
            "_view_name": "HBoxView",
            "box_style": "",
            "children": [
              "IPY_MODEL_313acea89f7f4c819799e1c681d65d60",
              "IPY_MODEL_a6a62b4e088b493e94ce144a92d1ac14",
              "IPY_MODEL_19e40a6778f543baa8611dd61429f9e3"
            ],
            "layout": "IPY_MODEL_b6b99b767c5547c5abf9930c5ebdda89"
          }
        },
        "ec3d7e73c7ef4e84a3aedd7b7b567f63": {
          "model_module": "@jupyter-widgets/base",
          "model_module_version": "1.2.0",
          "model_name": "LayoutModel",
          "state": {
            "_model_module": "@jupyter-widgets/base",
            "_model_module_version": "1.2.0",
            "_model_name": "LayoutModel",
            "_view_count": null,
            "_view_module": "@jupyter-widgets/base",
            "_view_module_version": "1.2.0",
            "_view_name": "LayoutView",
            "align_content": null,
            "align_items": null,
            "align_self": null,
            "border": null,
            "bottom": null,
            "display": null,
            "flex": null,
            "flex_flow": null,
            "grid_area": null,
            "grid_auto_columns": null,
            "grid_auto_flow": null,
            "grid_auto_rows": null,
            "grid_column": null,
            "grid_gap": null,
            "grid_row": null,
            "grid_template_areas": null,
            "grid_template_columns": null,
            "grid_template_rows": null,
            "height": null,
            "justify_content": null,
            "justify_items": null,
            "left": null,
            "margin": null,
            "max_height": null,
            "max_width": null,
            "min_height": null,
            "min_width": null,
            "object_fit": null,
            "object_position": null,
            "order": null,
            "overflow": null,
            "overflow_x": null,
            "overflow_y": null,
            "padding": null,
            "right": null,
            "top": null,
            "visibility": null,
            "width": null
          }
        },
        "ee9634f3d1bd4d7587c4624ce4b4d1cf": {
          "model_module": "@jupyter-widgets/controls",
          "model_module_version": "1.5.0",
          "model_name": "DescriptionStyleModel",
          "state": {
            "_model_module": "@jupyter-widgets/controls",
            "_model_module_version": "1.5.0",
            "_model_name": "DescriptionStyleModel",
            "_view_count": null,
            "_view_module": "@jupyter-widgets/base",
            "_view_module_version": "1.2.0",
            "_view_name": "StyleView",
            "description_width": ""
          }
        },
        "eea281b6e40f4ef9850d02fc79adba25": {
          "model_module": "@jupyter-widgets/base",
          "model_module_version": "1.2.0",
          "model_name": "LayoutModel",
          "state": {
            "_model_module": "@jupyter-widgets/base",
            "_model_module_version": "1.2.0",
            "_model_name": "LayoutModel",
            "_view_count": null,
            "_view_module": "@jupyter-widgets/base",
            "_view_module_version": "1.2.0",
            "_view_name": "LayoutView",
            "align_content": null,
            "align_items": null,
            "align_self": null,
            "border": null,
            "bottom": null,
            "display": null,
            "flex": null,
            "flex_flow": null,
            "grid_area": null,
            "grid_auto_columns": null,
            "grid_auto_flow": null,
            "grid_auto_rows": null,
            "grid_column": null,
            "grid_gap": null,
            "grid_row": null,
            "grid_template_areas": null,
            "grid_template_columns": null,
            "grid_template_rows": null,
            "height": null,
            "justify_content": null,
            "justify_items": null,
            "left": null,
            "margin": null,
            "max_height": null,
            "max_width": null,
            "min_height": null,
            "min_width": null,
            "object_fit": null,
            "object_position": null,
            "order": null,
            "overflow": null,
            "overflow_x": null,
            "overflow_y": null,
            "padding": null,
            "right": null,
            "top": null,
            "visibility": null,
            "width": null
          }
        },
        "f4b4b672588d49088bd0be77097fa13d": {
          "model_module": "@jupyter-widgets/controls",
          "model_module_version": "1.5.0",
          "model_name": "FloatProgressModel",
          "state": {
            "_dom_classes": [],
            "_model_module": "@jupyter-widgets/controls",
            "_model_module_version": "1.5.0",
            "_model_name": "FloatProgressModel",
            "_view_count": null,
            "_view_module": "@jupyter-widgets/controls",
            "_view_module_version": "1.5.0",
            "_view_name": "ProgressView",
            "bar_style": "",
            "description": "",
            "description_tooltip": null,
            "layout": "IPY_MODEL_29a2fc9c865d4a2eb870e5ebea7883b7",
            "max": 1,
            "min": 0,
            "orientation": "horizontal",
            "style": "IPY_MODEL_2036eb94ac5e47bc82f219cb55b4ebde",
            "value": 1
          }
        },
        "f50b82ee34fc4f7599102a95994e1ae2": {
          "model_module": "@jupyter-widgets/controls",
          "model_module_version": "1.5.0",
          "model_name": "DescriptionStyleModel",
          "state": {
            "_model_module": "@jupyter-widgets/controls",
            "_model_module_version": "1.5.0",
            "_model_name": "DescriptionStyleModel",
            "_view_count": null,
            "_view_module": "@jupyter-widgets/base",
            "_view_module_version": "1.2.0",
            "_view_name": "StyleView",
            "description_width": ""
          }
        },
        "f58815b6316a4c32830d73ddf7c1e3ec": {
          "model_module": "@jupyter-widgets/controls",
          "model_module_version": "1.5.0",
          "model_name": "FloatProgressModel",
          "state": {
            "_dom_classes": [],
            "_model_module": "@jupyter-widgets/controls",
            "_model_module_version": "1.5.0",
            "_model_name": "FloatProgressModel",
            "_view_count": null,
            "_view_module": "@jupyter-widgets/controls",
            "_view_module_version": "1.5.0",
            "_view_name": "ProgressView",
            "bar_style": "success",
            "description": "",
            "description_tooltip": null,
            "layout": "IPY_MODEL_e29a90824bc3414799206b704a9ab09d",
            "max": 2201,
            "min": 0,
            "orientation": "horizontal",
            "style": "IPY_MODEL_160df6f3d6294932bc2612e2e0b28337",
            "value": 2201
          }
        }
      }
    }
  },
  "nbformat": 4,
  "nbformat_minor": 0
}
