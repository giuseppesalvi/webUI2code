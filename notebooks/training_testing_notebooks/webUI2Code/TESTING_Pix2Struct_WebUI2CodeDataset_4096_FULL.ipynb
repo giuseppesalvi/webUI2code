{
  "cells": [
    {
      "cell_type": "markdown",
      "metadata": {
        "id": "xY4KuZUbq83Q"
      },
      "source": [
        "# Test Pix2Struct model on WebUI2Code dataset, version 4096"
      ]
    },
    {
      "cell_type": "markdown",
      "metadata": {
        "id": "jT6iC6BDrB9i"
      },
      "source": [
        "## Setup Envirnoment"
      ]
    },
    {
      "cell_type": "code",
      "execution_count": null,
      "metadata": {
        "colab": {
          "base_uri": "https://localhost:8080/"
        },
        "id": "jc7bhkoMEtq3",
        "outputId": "f4276a65-a16c-4654-8fb8-ddf580fe1848"
      },
      "outputs": [
        {
          "name": "stdout",
          "output_type": "stream",
          "text": [
            "Collecting transformers==4.33.1\n",
            "  Downloading transformers-4.33.1-py3-none-any.whl (7.6 MB)\n",
            "\u001b[2K     \u001b[90m━━━━━━━━━━━━━━━━━━━━━━━━━━━━━━━━━━━━━━━━\u001b[0m \u001b[32m7.6/7.6 MB\u001b[0m \u001b[31m19.8 MB/s\u001b[0m eta \u001b[36m0:00:00\u001b[0m\n",
            "\u001b[?25hRequirement already satisfied: filelock in /usr/local/lib/python3.10/dist-packages (from transformers==4.33.1) (3.12.4)\n",
            "Collecting huggingface-hub<1.0,>=0.15.1 (from transformers==4.33.1)\n",
            "  Downloading huggingface_hub-0.18.0-py3-none-any.whl (301 kB)\n",
            "\u001b[2K     \u001b[90m━━━━━━━━━━━━━━━━━━━━━━━━━━━━━━━━━━━━━━━━\u001b[0m \u001b[32m302.0/302.0 kB\u001b[0m \u001b[31m36.6 MB/s\u001b[0m eta \u001b[36m0:00:00\u001b[0m\n",
            "\u001b[?25hRequirement already satisfied: numpy>=1.17 in /usr/local/lib/python3.10/dist-packages (from transformers==4.33.1) (1.23.5)\n",
            "Requirement already satisfied: packaging>=20.0 in /usr/local/lib/python3.10/dist-packages (from transformers==4.33.1) (23.2)\n",
            "Requirement already satisfied: pyyaml>=5.1 in /usr/local/lib/python3.10/dist-packages (from transformers==4.33.1) (6.0.1)\n",
            "Requirement already satisfied: regex!=2019.12.17 in /usr/local/lib/python3.10/dist-packages (from transformers==4.33.1) (2023.6.3)\n",
            "Requirement already satisfied: requests in /usr/local/lib/python3.10/dist-packages (from transformers==4.33.1) (2.31.0)\n",
            "Collecting tokenizers!=0.11.3,<0.14,>=0.11.1 (from transformers==4.33.1)\n",
            "  Downloading tokenizers-0.13.3-cp310-cp310-manylinux_2_17_x86_64.manylinux2014_x86_64.whl (7.8 MB)\n",
            "\u001b[2K     \u001b[90m━━━━━━━━━━━━━━━━━━━━━━━━━━━━━━━━━━━━━━━━\u001b[0m \u001b[32m7.8/7.8 MB\u001b[0m \u001b[31m111.4 MB/s\u001b[0m eta \u001b[36m0:00:00\u001b[0m\n",
            "\u001b[?25hCollecting safetensors>=0.3.1 (from transformers==4.33.1)\n",
            "  Downloading safetensors-0.4.0-cp310-cp310-manylinux_2_17_x86_64.manylinux2014_x86_64.whl (1.3 MB)\n",
            "\u001b[2K     \u001b[90m━━━━━━━━━━━━━━━━━━━━━━━━━━━━━━━━━━━━━━━━\u001b[0m \u001b[32m1.3/1.3 MB\u001b[0m \u001b[31m82.9 MB/s\u001b[0m eta \u001b[36m0:00:00\u001b[0m\n",
            "\u001b[?25hRequirement already satisfied: tqdm>=4.27 in /usr/local/lib/python3.10/dist-packages (from transformers==4.33.1) (4.66.1)\n",
            "Requirement already satisfied: fsspec>=2023.5.0 in /usr/local/lib/python3.10/dist-packages (from huggingface-hub<1.0,>=0.15.1->transformers==4.33.1) (2023.6.0)\n",
            "Requirement already satisfied: typing-extensions>=3.7.4.3 in /usr/local/lib/python3.10/dist-packages (from huggingface-hub<1.0,>=0.15.1->transformers==4.33.1) (4.5.0)\n",
            "Requirement already satisfied: charset-normalizer<4,>=2 in /usr/local/lib/python3.10/dist-packages (from requests->transformers==4.33.1) (3.3.0)\n",
            "Requirement already satisfied: idna<4,>=2.5 in /usr/local/lib/python3.10/dist-packages (from requests->transformers==4.33.1) (3.4)\n",
            "Requirement already satisfied: urllib3<3,>=1.21.1 in /usr/local/lib/python3.10/dist-packages (from requests->transformers==4.33.1) (2.0.6)\n",
            "Requirement already satisfied: certifi>=2017.4.17 in /usr/local/lib/python3.10/dist-packages (from requests->transformers==4.33.1) (2023.7.22)\n",
            "Installing collected packages: tokenizers, safetensors, huggingface-hub, transformers\n",
            "Successfully installed huggingface-hub-0.18.0 safetensors-0.4.0 tokenizers-0.13.3 transformers-4.33.1\n"
          ]
        }
      ],
      "source": [
        "!pip install transformers==4.33.1"
      ]
    },
    {
      "cell_type": "markdown",
      "metadata": {
        "id": "pGk1Y2ea-3vS"
      },
      "source": [
        "## Import necessary libraries"
      ]
    },
    {
      "cell_type": "code",
      "execution_count": null,
      "metadata": {
        "id": "9qulzbyd-1GC"
      },
      "outputs": [],
      "source": [
        "from google.colab import drive\n",
        "import os\n",
        "import zipfile\n",
        "from torch.utils.data import Dataset, DataLoader\n",
        "from torchvision import transforms\n",
        "from PIL import Image\n",
        "import re\n",
        "from transformers import Pix2StructForConditionalGeneration, AutoProcessor, GenerationConfig\n",
        "import torch\n",
        "from torch.nn import functional as F\n",
        "from pathlib import Path\n",
        "from nltk import edit_distance\n",
        "import numpy as np\n",
        "from tqdm import tqdm\n",
        "from nltk.translate.bleu_score import corpus_bleu, sentence_bleu, SmoothingFunction\n",
        "from torch.utils.data import random_split\n",
        "import random"
      ]
    },
    {
      "cell_type": "markdown",
      "metadata": {
        "id": "rZ3TJ2yzBAs0"
      },
      "source": [
        "## Define variables and parameters"
      ]
    },
    {
      "cell_type": "code",
      "execution_count": null,
      "metadata": {
        "id": "Rrjr3uhaBDqp"
      },
      "outputs": [],
      "source": [
        "G_DRIVE_FOLDER = '/content/drive/MyDrive/Datasets/'\n",
        "G_DRIVE_FOLDER_CHECKPOINTS = '/content/drive/MyDrive/Checkpoints/'\n",
        "DATASET_NAME = 'WebUI2Code_4096_preprocessed'\n",
        "ZIP_NAME = DATASET_NAME + '.zip'\n",
        "\n",
        "DESTINATION_FOLDER= '/content/data/'\n",
        "DATASET_FOLDER = DESTINATION_FOLDER + DATASET_NAME\n",
        "OUTPUT_FOLDER = '/content/drive/MyDrive/Testing_output/webUI2Code_4096'\n",
        "\n",
        "\n",
        "EXPERIMENT_NAME = \"Pix2Struct_WebUI2Code_Complete_4096_FULL_TEST\"\n",
        "\n",
        "MAX_SENTENCE_LEN = 4096\n",
        "\n",
        "CHUNK_LENGTH = 1024\n",
        "CONTEXT_OVERLAP_LENGTH = 256\n",
        "\n",
        "MAX_PATCHES = 1024\n",
        "\n",
        "DEBUG = False\n",
        "VERBOSE = True\n",
        "\n",
        "BATCH_SIZE = 8\n",
        "\n",
        "TRAIN_SET_PERCENTAGE = 0.898\n",
        "VALID_SET_PERCENTAGE = 0.002 # Use 20 samples for validation\n",
        "# TEST_SET_PERCENTAGE is 1 - TRAIN_SET_PERCENTAGE - VALID_SET_PERCENTAGE\n",
        "\n",
        "RANDOM_SEED = 100\n",
        "\n",
        "LOAD_FROM_CHECKPOINT = True\n",
        "LAST_CHECKPOINT_NAME = \"Pix2Struct_WebUI2Code_Complete_4096_FULL_epoch[9].pth\""
      ]
    },
    {
      "cell_type": "code",
      "execution_count": null,
      "metadata": {
        "id": "UVN0Pk4IuVYN"
      },
      "outputs": [],
      "source": [
        "DEVICE = torch.device('cuda' if torch.cuda.is_available() else 'cpu')"
      ]
    },
    {
      "cell_type": "code",
      "execution_count": null,
      "metadata": {
        "colab": {
          "base_uri": "https://localhost:8080/"
        },
        "id": "sKC06Ai1Xhcl",
        "outputId": "0e01e060-4418-446e-9c18-f7b11d2c7a23"
      },
      "outputs": [
        {
          "name": "stdout",
          "output_type": "stream",
          "text": [
            "MAX_N_CHUNKS_PER_SENTENCE 5\n"
          ]
        }
      ],
      "source": [
        "MAX_N_CHUNKS_PER_SENTENCE = 1 + (MAX_SENTENCE_LEN - CHUNK_LENGTH) // (CHUNK_LENGTH - CONTEXT_OVERLAP_LENGTH)\n",
        "print(\"MAX_N_CHUNKS_PER_SENTENCE\", MAX_N_CHUNKS_PER_SENTENCE)"
      ]
    },
    {
      "cell_type": "markdown",
      "metadata": {
        "id": "kflo6stPSGhT"
      },
      "source": [
        "\n",
        "## Load WebUI2Code Dataset"
      ]
    },
    {
      "cell_type": "markdown",
      "metadata": {
        "id": "tq4WHje5RJ9u"
      },
      "source": [
        "### Mount Google Drive"
      ]
    },
    {
      "cell_type": "code",
      "execution_count": null,
      "metadata": {
        "colab": {
          "base_uri": "https://localhost:8080/"
        },
        "id": "uGqbLAK6RJ9x",
        "outputId": "38d99821-38de-4fe6-d7f8-d148a05f86ad"
      },
      "outputs": [
        {
          "name": "stdout",
          "output_type": "stream",
          "text": [
            "Mounted at /content/drive\n"
          ]
        }
      ],
      "source": [
        "drive.mount('/content/drive')"
      ]
    },
    {
      "cell_type": "markdown",
      "metadata": {
        "id": "R-TqChHhSYgz"
      },
      "source": [
        "### Import zip file from Google Drive"
      ]
    },
    {
      "cell_type": "code",
      "execution_count": null,
      "metadata": {
        "id": "Ju1BprKCVbvg"
      },
      "outputs": [],
      "source": [
        "os.makedirs(DESTINATION_FOLDER, exist_ok=True)\n",
        "\n",
        "with zipfile.ZipFile(G_DRIVE_FOLDER + ZIP_NAME, \"r\") as zf:\n",
        "    zf.extractall(DESTINATION_FOLDER)"
      ]
    },
    {
      "cell_type": "markdown",
      "metadata": {
        "id": "XIyXwQultNqy"
      },
      "source": [
        "## Load Model and Processor"
      ]
    },
    {
      "cell_type": "code",
      "execution_count": null,
      "metadata": {
        "colab": {
          "base_uri": "https://localhost:8080/",
          "height": 241,
          "referenced_widgets": [
            "cc63fa3865e84d85b01fac454c545ef5",
            "95559343ecfc40709cca25812716b738",
            "9dade711321b4e44bf6f1e91a921dee5",
            "6498f5c0963d47e98f79815e598e2f46",
            "d4604b7865e0420a8a02948ad4f4292b",
            "fde70be823934291add1eabd47e8d39b",
            "0c4a5ddabe35420b838e8ee4f96a7699",
            "8ba7fdc3ec844e7da32321f825318d64",
            "eac2610d1922406f84d6bd1fd100e637",
            "e10176b9b9964839ad46b9d41cd2e1c3",
            "4867f9c6e1f94546a069ec42fff2f5be",
            "0069e5a573ca422b9e407c8a14a31e01",
            "50f7204b73e94f64a6b19e88d2f332d0",
            "42f08fb7fff748bea24ab79c1779d971",
            "e1a64e5efa3b48d5907b18943ebdb9df",
            "5f670e6002a040008dd41013754ffb7c",
            "f47e7d354b9048b7a657bd2ef708593e",
            "41ef9272d6984adab599f4ef4e27e45a",
            "f04f11fe732b496e806e865a4c39ecca",
            "4a74344372b341a09ce89a80bda90166",
            "e784aeaa38924914adffb214512902e3",
            "341a90b40427453e86041e9cdf1a7e12",
            "5fb3df60bc75412387bf13db553bc24c",
            "a4408d7ddfaf4ce9a2961d78e753b55e",
            "965440fceb2c4d29b9ba9077d770decd",
            "1ea8136b184c4d38843dad25935ad8dc",
            "4ebeb7032f6447c196e0d9f3e22a3df3",
            "6bdf63c4bb6b46a6bf1b78977f6ebbd7",
            "b1f535284d1e4743aec3122ad99903f2",
            "eab43b385e7d4b5bb14775d59ed4d33f",
            "a2becea14df94a94adaf2a37ae27c902",
            "a635e7c944804143a8e9fb68ce3d42c0",
            "5ae152a358f04d9a8a88c727c00bb769",
            "46c2d2e418bd491aafe765130dd3ec97",
            "9d2ee7a740374a1b938ee4981de7a995",
            "70097547d92943b197d95dbe4726680c",
            "b142f160104c4305923e5ffb602650d1",
            "d7a246e2f7f64c37ac999f3a2985ea1c",
            "81b0e9d4774d4a099a03364cceb07701",
            "3e5c1b3592cb497683b491ca74d957b6",
            "8a846845b663487989c8416f1518957f",
            "fc8db9ed00044715b46f69a3125718ed",
            "83398382c8684f5b9598da53b3d163ca",
            "430b46a80ea6411e9af604aeea9d71ad",
            "0d1759b61ffb4bda8a0df5eb27c8bda1",
            "35cb3ee916fa4ea7936a2b67006901eb",
            "4128e5b5dd084daaa09e684f4f2e310a",
            "87bd2d0383c4405ab228f19cfe420bcb",
            "e35c52f5170e446ea61b0d0d13f87895",
            "389dbd77aecf40ac973cb532515494e1",
            "7a793072a1ec4403b62f332f76fcae9a",
            "c0b63fe0065f43bd95d333d42e3a8663",
            "0ce3d699c3454fb3ba56dd67809704a2",
            "fb8328ae751440a68d2758acd6f0531d",
            "bf0f3c71d6f347c8828b72cd4c951bc3",
            "6fef91b9cec74fadab3580110edca81c",
            "61eb29ab02de4563a41aa85c22242791",
            "73fe8273f19d4f5e8c622c96c2917620",
            "64282c1cfa3d44708ffb0a92ff9ab3e5",
            "66013ab2304d4d1d97dbecb29a4f0bcd",
            "912545d55bbc4a04ae9e984c29207a9b",
            "b94266b5365f4ff1a028382973a7ea41",
            "82e265bf978f4702bdeb27517d23a149",
            "400f57b6e7a44442a5bf37bbd0a9ec28",
            "dba285067b0941998880200933bbc46d",
            "a9d2aefdd7a149beb821de11592fe33c",
            "db36f86b9a6549618ad88c2b06383156",
            "a9507c6087714f13a0576eae781a8ce1",
            "e95193d0d7624e418210d7173fe865c5",
            "3e02a1d8e4a5425b83d11af08247a0a2",
            "3f42f538694e4444b4455283ace55993",
            "9336f3debbd14c3b8b69c7effa80c603",
            "1f803620e5764e3d8142672cb7246bdc",
            "47dba91700764abda1b5af20aaecae3e",
            "c4a358ef8c8944669ea94c42d4b8b7ee",
            "a28128cae9524f8eb62b447516c726d0",
            "3eaf3b9ef5f94f609aad7727bf733b34"
          ]
        },
        "id": "15QM1CZQtRWr",
        "outputId": "8457f116-ee68-4ecd-de53-6fa79a9a7566"
      },
      "outputs": [
        {
          "data": {
            "application/vnd.jupyter.widget-view+json": {
              "model_id": "cc63fa3865e84d85b01fac454c545ef5",
              "version_major": 2,
              "version_minor": 0
            },
            "text/plain": [
              "(…)se/resolve/main/preprocessor_config.json:   0%|          | 0.00/231 [00:00<?, ?B/s]"
            ]
          },
          "metadata": {},
          "output_type": "display_data"
        },
        {
          "data": {
            "application/vnd.jupyter.widget-view+json": {
              "model_id": "0069e5a573ca422b9e407c8a14a31e01",
              "version_major": 2,
              "version_minor": 0
            },
            "text/plain": [
              "(…)-base/resolve/main/tokenizer_config.json:   0%|          | 0.00/2.61k [00:00<?, ?B/s]"
            ]
          },
          "metadata": {},
          "output_type": "display_data"
        },
        {
          "data": {
            "application/vnd.jupyter.widget-view+json": {
              "model_id": "5fb3df60bc75412387bf13db553bc24c",
              "version_major": 2,
              "version_minor": 0
            },
            "text/plain": [
              "spiece.model:   0%|          | 0.00/851k [00:00<?, ?B/s]"
            ]
          },
          "metadata": {},
          "output_type": "display_data"
        },
        {
          "data": {
            "application/vnd.jupyter.widget-view+json": {
              "model_id": "46c2d2e418bd491aafe765130dd3ec97",
              "version_major": 2,
              "version_minor": 0
            },
            "text/plain": [
              "(…)2struct-base/resolve/main/tokenizer.json:   0%|          | 0.00/3.27M [00:00<?, ?B/s]"
            ]
          },
          "metadata": {},
          "output_type": "display_data"
        },
        {
          "data": {
            "application/vnd.jupyter.widget-view+json": {
              "model_id": "0d1759b61ffb4bda8a0df5eb27c8bda1",
              "version_major": 2,
              "version_minor": 0
            },
            "text/plain": [
              "(…)ase/resolve/main/special_tokens_map.json:   0%|          | 0.00/2.20k [00:00<?, ?B/s]"
            ]
          },
          "metadata": {},
          "output_type": "display_data"
        },
        {
          "data": {
            "application/vnd.jupyter.widget-view+json": {
              "model_id": "6fef91b9cec74fadab3580110edca81c",
              "version_major": 2,
              "version_minor": 0
            },
            "text/plain": [
              "(…)pix2struct-base/resolve/main/config.json:   0%|          | 0.00/4.92k [00:00<?, ?B/s]"
            ]
          },
          "metadata": {},
          "output_type": "display_data"
        },
        {
          "data": {
            "application/vnd.jupyter.widget-view+json": {
              "model_id": "db36f86b9a6549618ad88c2b06383156",
              "version_major": 2,
              "version_minor": 0
            },
            "text/plain": [
              "pytorch_model.bin:   0%|          | 0.00/1.13G [00:00<?, ?B/s]"
            ]
          },
          "metadata": {},
          "output_type": "display_data"
        }
      ],
      "source": [
        "repo_id = \"google/pix2struct-base\"\n",
        "\n",
        "processor = AutoProcessor.from_pretrained(repo_id)\n",
        "model = Pix2StructForConditionalGeneration.from_pretrained(repo_id, is_encoder_decoder=True)"
      ]
    },
    {
      "cell_type": "markdown",
      "metadata": {
        "id": "8vyJVirgV8VN"
      },
      "source": [
        "## Create Dataset class"
      ]
    },
    {
      "cell_type": "markdown",
      "metadata": {
        "id": "_XZYBPhkDomP"
      },
      "source": [
        "### Find max sentence length and new unknown tokens"
      ]
    },
    {
      "cell_type": "code",
      "execution_count": null,
      "metadata": {
        "id": "a_f03w-_ALwm"
      },
      "outputs": [],
      "source": [
        "all_paths = [path.replace(\".png\", \"\") for path in os.listdir(DATASET_FOLDER) if path.endswith(\".png\")]"
      ]
    },
    {
      "cell_type": "code",
      "execution_count": null,
      "metadata": {
        "colab": {
          "base_uri": "https://localhost:8080/"
        },
        "id": "IE2H2yQiDomQ",
        "outputId": "9be4559f-d9ed-4028-c1aa-fd2887347f5a"
      },
      "outputs": [
        {
          "data": {
            "text/plain": [
              "2322"
            ]
          },
          "execution_count": 10,
          "metadata": {},
          "output_type": "execute_result"
        }
      ],
      "source": [
        "len(all_paths)"
      ]
    },
    {
      "cell_type": "code",
      "execution_count": null,
      "metadata": {
        "colab": {
          "base_uri": "https://localhost:8080/"
        },
        "id": "958G7LlM9NIK",
        "outputId": "d0b90318-8776-43db-8d36-cba20c0221d8"
      },
      "outputs": [
        {
          "name": "stdout",
          "output_type": "stream",
          "text": [
            "deltasonetabs.monster\n"
          ]
        }
      ],
      "source": [
        "print(all_paths[0])"
      ]
    },
    {
      "cell_type": "markdown",
      "metadata": {
        "id": "3J235iNOT5I9"
      },
      "source": [
        "### Filter samples with images which are too big, too small, or with strange aspect ratios"
      ]
    },
    {
      "cell_type": "code",
      "execution_count": null,
      "metadata": {
        "colab": {
          "base_uri": "https://localhost:8080/"
        },
        "id": "w9ZnWHqnDomR",
        "outputId": "12ed0042-14dc-4365-a0a0-0f0de0a24f7b"
      },
      "outputs": [
        {
          "name": "stdout",
          "output_type": "stream",
          "text": [
            "Max sentence length = 4092\n",
            "Number of new tokens = 101\n"
          ]
        }
      ],
      "source": [
        "# Find max length\n",
        "max_length = 0\n",
        "\n",
        "# Read text files and add new tokens to dictionary\n",
        "tokens_to_add = set()\n",
        "for path in all_paths:\n",
        "    with open(DATASET_FOLDER + \"/\" + path + \".txt\", \"r\") as reader:\n",
        "        splitted_text = processor.tokenizer(reader.read()).tokens()\n",
        "        tokens_to_add = tokens_to_add.union(set(splitted_text))\n",
        "\n",
        "        # Check if the current sentence has the largest number of tokens\n",
        "        if len(splitted_text) > max_length:\n",
        "            max_length = len(splitted_text)\n",
        "\n",
        "print(f\"Max sentence length = {max_length}\")\n",
        "\n",
        "newly_added_num = processor.tokenizer.add_tokens(list(tokens_to_add))\n",
        "print(f\"Number of new tokens = {newly_added_num}\")\n",
        "\n",
        "# Resize the model's token embeddings if there are new tokens\n",
        "if newly_added_num > 0:\n",
        "    model.decoder.resize_token_embeddings(len(processor.tokenizer), pad_to_multiple_of=8)"
      ]
    },
    {
      "cell_type": "code",
      "execution_count": null,
      "metadata": {
        "colab": {
          "base_uri": "https://localhost:8080/"
        },
        "id": "ohr9-TQ4DT9Q",
        "outputId": "1d240526-e380-40f4-dc85-622d0d589647"
      },
      "outputs": [
        {
          "name": "stdout",
          "output_type": "stream",
          "text": [
            "Loading model from checkpoint: Pix2Struct_WebUI2Code_Complete_4096_FULL_epoch[9].pth\n"
          ]
        },
        {
          "data": {
            "text/plain": [
              "Pix2StructForConditionalGeneration(\n",
              "  (encoder): Pix2StructVisionModel(\n",
              "    (embeddings): Pix2StructVisionEmbeddings(\n",
              "      (patch_projection): Linear(in_features=768, out_features=768, bias=True)\n",
              "      (row_embedder): Embedding(4096, 768)\n",
              "      (column_embedder): Embedding(4096, 768)\n",
              "      (dropout): Dropout(p=0.2, inplace=False)\n",
              "    )\n",
              "    (encoder): Pix2StructVisionEncoder(\n",
              "      (layer): ModuleList(\n",
              "        (0-11): 12 x Pix2StructVisionLayer(\n",
              "          (attention): Pix2StructVisionAttention(\n",
              "            (query): Linear(in_features=768, out_features=768, bias=False)\n",
              "            (key): Linear(in_features=768, out_features=768, bias=False)\n",
              "            (value): Linear(in_features=768, out_features=768, bias=False)\n",
              "            (output): Linear(in_features=768, out_features=768, bias=False)\n",
              "          )\n",
              "          (mlp): Pix2StructVisionMlp(\n",
              "            (wi_0): Linear(in_features=768, out_features=2048, bias=False)\n",
              "            (wi_1): Linear(in_features=768, out_features=2048, bias=False)\n",
              "            (wo): Linear(in_features=2048, out_features=768, bias=False)\n",
              "            (dropout): Dropout(p=0.2, inplace=False)\n",
              "            (act): NewGELUActivation()\n",
              "          )\n",
              "          (pre_mlp_layer_norm): Pix2StructLayerNorm()\n",
              "          (pre_attention_layer_norm): Pix2StructLayerNorm()\n",
              "        )\n",
              "      )\n",
              "    )\n",
              "    (layernorm): Pix2StructLayerNorm()\n",
              "  )\n",
              "  (decoder): Pix2StructTextModel(\n",
              "    (embed_tokens): Embedding(50448, 768)\n",
              "    (layer): ModuleList(\n",
              "      (0): Pix2StructTextBlock(\n",
              "        (self_attention): Pix2StructTextLayerSelfAttention(\n",
              "          (attention): Pix2StructTextAttention(\n",
              "            (query): Linear(in_features=768, out_features=768, bias=False)\n",
              "            (key): Linear(in_features=768, out_features=768, bias=False)\n",
              "            (value): Linear(in_features=768, out_features=768, bias=False)\n",
              "            (output): Linear(in_features=768, out_features=768, bias=False)\n",
              "            (relative_attention_bias): Embedding(32, 12)\n",
              "          )\n",
              "          (layer_norm): Pix2StructLayerNorm()\n",
              "          (dropout): Dropout(p=0.2, inplace=False)\n",
              "        )\n",
              "        (encoder_decoder_attention): Pix2StructTextLayerCrossAttention(\n",
              "          (attention): Pix2StructTextAttention(\n",
              "            (query): Linear(in_features=768, out_features=768, bias=False)\n",
              "            (key): Linear(in_features=768, out_features=768, bias=False)\n",
              "            (value): Linear(in_features=768, out_features=768, bias=False)\n",
              "            (output): Linear(in_features=768, out_features=768, bias=False)\n",
              "          )\n",
              "          (layer_norm): Pix2StructLayerNorm()\n",
              "          (dropout): Dropout(p=0.2, inplace=False)\n",
              "        )\n",
              "        (mlp): Pix2StructTextLayerFF(\n",
              "          (DenseReluDense): Pix2StructTextDenseGatedActDense(\n",
              "            (wi_0): Linear(in_features=768, out_features=2048, bias=False)\n",
              "            (wi_1): Linear(in_features=768, out_features=2048, bias=False)\n",
              "            (wo): Linear(in_features=2048, out_features=768, bias=False)\n",
              "            (dropout): Dropout(p=0.2, inplace=False)\n",
              "            (act): NewGELUActivation()\n",
              "          )\n",
              "          (layer_norm): Pix2StructLayerNorm()\n",
              "          (dropout): Dropout(p=0.2, inplace=False)\n",
              "        )\n",
              "      )\n",
              "      (1-11): 11 x Pix2StructTextBlock(\n",
              "        (self_attention): Pix2StructTextLayerSelfAttention(\n",
              "          (attention): Pix2StructTextAttention(\n",
              "            (query): Linear(in_features=768, out_features=768, bias=False)\n",
              "            (key): Linear(in_features=768, out_features=768, bias=False)\n",
              "            (value): Linear(in_features=768, out_features=768, bias=False)\n",
              "            (output): Linear(in_features=768, out_features=768, bias=False)\n",
              "          )\n",
              "          (layer_norm): Pix2StructLayerNorm()\n",
              "          (dropout): Dropout(p=0.2, inplace=False)\n",
              "        )\n",
              "        (encoder_decoder_attention): Pix2StructTextLayerCrossAttention(\n",
              "          (attention): Pix2StructTextAttention(\n",
              "            (query): Linear(in_features=768, out_features=768, bias=False)\n",
              "            (key): Linear(in_features=768, out_features=768, bias=False)\n",
              "            (value): Linear(in_features=768, out_features=768, bias=False)\n",
              "            (output): Linear(in_features=768, out_features=768, bias=False)\n",
              "          )\n",
              "          (layer_norm): Pix2StructLayerNorm()\n",
              "          (dropout): Dropout(p=0.2, inplace=False)\n",
              "        )\n",
              "        (mlp): Pix2StructTextLayerFF(\n",
              "          (DenseReluDense): Pix2StructTextDenseGatedActDense(\n",
              "            (wi_0): Linear(in_features=768, out_features=2048, bias=False)\n",
              "            (wi_1): Linear(in_features=768, out_features=2048, bias=False)\n",
              "            (wo): Linear(in_features=2048, out_features=768, bias=False)\n",
              "            (dropout): Dropout(p=0.2, inplace=False)\n",
              "            (act): NewGELUActivation()\n",
              "          )\n",
              "          (layer_norm): Pix2StructLayerNorm()\n",
              "          (dropout): Dropout(p=0.2, inplace=False)\n",
              "        )\n",
              "      )\n",
              "    )\n",
              "    (final_layer_norm): Pix2StructLayerNorm()\n",
              "    (dropout): Dropout(p=0.2, inplace=False)\n",
              "    (lm_head): Linear(in_features=768, out_features=50448, bias=False)\n",
              "  )\n",
              ")"
            ]
          },
          "execution_count": 13,
          "metadata": {},
          "output_type": "execute_result"
        }
      ],
      "source": [
        "print(\"Loading model from checkpoint:\", LAST_CHECKPOINT_NAME)\n",
        "checkpoint = torch.load(G_DRIVE_FOLDER_CHECKPOINTS + LAST_CHECKPOINT_NAME)\n",
        "model.load_state_dict(checkpoint[\"model_state_dict\"])\n",
        "model.to(DEVICE)"
      ]
    },
    {
      "cell_type": "markdown",
      "metadata": {
        "id": "SfKTQ5aMPtfN"
      },
      "source": [
        "### Split files into training - validation - test sets"
      ]
    },
    {
      "cell_type": "code",
      "execution_count": null,
      "metadata": {
        "colab": {
          "base_uri": "https://localhost:8080/"
        },
        "id": "bK9CQSLZFAuA",
        "outputId": "658f008d-920d-4214-8116-f1fc2b55ca77"
      },
      "outputs": [
        {
          "name": "stdout",
          "output_type": "stream",
          "text": [
            "TRAIN_SET size = 2085\n",
            "VALID_SET size = 4\n",
            "TEST_SET size = 233\n"
          ]
        }
      ],
      "source": [
        "random.seed(RANDOM_SEED)\n",
        "\n",
        "# Use the same seed, so that parts remain the same\n",
        "random.shuffle(all_paths)\n",
        "\n",
        "train_len = int(TRAIN_SET_PERCENTAGE * len(all_paths))\n",
        "valid_len = int(VALID_SET_PERCENTAGE * len(all_paths))\n",
        "\n",
        "train_paths = all_paths[:train_len]\n",
        "valid_paths = all_paths[train_len:train_len+valid_len]\n",
        "test_paths = all_paths[train_len+valid_len:]\n",
        "\n",
        "print(f\"TRAIN_SET size = {len(train_paths)}\")\n",
        "print(f\"VALID_SET size = {len(valid_paths)}\")\n",
        "print(f\"TEST_SET size = {len(test_paths)}\")"
      ]
    },
    {
      "cell_type": "code",
      "execution_count": null,
      "metadata": {
        "id": "oMC2-OYYWB75"
      },
      "outputs": [],
      "source": [
        "class WebUI2CodeDataset(Dataset):\n",
        "    def __init__(self, root_dir, transform, paths):\n",
        "\n",
        "        self.root_dir = root_dir\n",
        "        self.transform = transform\n",
        "        self.paths = paths\n",
        "\n",
        "        self.max_patches = MAX_PATCHES\n",
        "        self.max_length = MAX_SENTENCE_LEN\n",
        "        self.ignore_id = -100\n",
        "\n",
        "        self.encodings = []\n",
        "\n",
        "        for path in tqdm(paths):\n",
        "            # Directly process the text files, and save them in the ram\n",
        "            # Do the same also for images, if there is enough space in memory\n",
        "            text_file_path = os.path.join(root_dir , path + \".txt\")\n",
        "            image_file_path = os.path.join(root_dir , path + \".png\")\n",
        "\n",
        "            # Load image\n",
        "            image = Image.open(image_file_path).convert('RGB')\n",
        "\n",
        "            if DEBUG:\n",
        "                image.show()\n",
        "\n",
        "            if self.transform:\n",
        "                image = self.transform(image)\n",
        "\n",
        "            encoding = processor(images=image, max_patches=self.max_patches, return_tensors=\"pt\")\n",
        "            encoding = {k:v.squeeze() for k,v in encoding.items()}\n",
        "\n",
        "            # Load text\n",
        "            with open(text_file_path, 'r') as f:\n",
        "                text = f.read()\n",
        "\n",
        "            if DEBUG:\n",
        "              print(\"text:\")\n",
        "              print(text)\n",
        "\n",
        "            input_ids = processor.tokenizer(\n",
        "                text,\n",
        "                max_length=self.max_length,\n",
        "                padding=\"max_length\",\n",
        "                truncation=True,\n",
        "                return_tensors=\"pt\",\n",
        "            ).input_ids\n",
        "\n",
        "            labels = input_ids.squeeze().clone()\n",
        "            labels[labels == processor.tokenizer.pad_token_id] = self.ignore_id  # model doesn't need to predict pad token\n",
        "\n",
        "            encoding[\"labels\"] = labels.to(torch.int32)\n",
        "\n",
        "            # For each sample save directly the encoding of both text and image\n",
        "            self.encodings.append(encoding)\n",
        "\n",
        "    def __len__(self):\n",
        "        return len(self.encodings)\n",
        "\n",
        "    def __getitem__(self, idx):\n",
        "        return self.encodings[idx], self.paths[idx]"
      ]
    },
    {
      "cell_type": "code",
      "execution_count": null,
      "metadata": {
        "colab": {
          "base_uri": "https://localhost:8080/"
        },
        "id": "WulOgKwb1aNh",
        "outputId": "6a634a5f-cdd6-44eb-a342-e24273068667"
      },
      "outputs": [
        {
          "name": "stderr",
          "output_type": "stream",
          "text": [
            "100%|██████████| 233/233 [00:22<00:00, 10.53it/s]\n"
          ]
        }
      ],
      "source": [
        "# Transformations for the image\n",
        "transform = transforms.Compose([\n",
        "    transforms.ToTensor(),  # convert PIL Image to PyTorch Tensor\n",
        "    transforms.Normalize(mean=[0.485, 0.456, 0.406], std=[0.229, 0.224, 0.225]),  # normalize for pretrained models\n",
        "])\n",
        "\n",
        "# Instantiate the CustomDataset\n",
        "test_dataset = WebUI2CodeDataset(DATASET_FOLDER, transform, test_paths)\n",
        "\n",
        "# Use DataLoader for batching and shuffling\n",
        "test_dataloader = DataLoader(test_dataset, batch_size=BATCH_SIZE, shuffle=False)"
      ]
    },
    {
      "cell_type": "code",
      "execution_count": null,
      "metadata": {
        "colab": {
          "base_uri": "https://localhost:8080/"
        },
        "id": "RJbcAvt2eSvb",
        "outputId": "42126d00-1193-4848-a9af-35d26aea0a20"
      },
      "outputs": [
        {
          "name": "stdout",
          "output_type": "stream",
          "text": [
            "test_dataloader size = 30\n"
          ]
        }
      ],
      "source": [
        "print(f\"test_dataloader size = {len(test_dataloader)}\")"
      ]
    },
    {
      "cell_type": "code",
      "execution_count": null,
      "metadata": {
        "id": "AY0iklFpwju3"
      },
      "outputs": [],
      "source": [
        "batch = next(iter(test_dataloader))"
      ]
    },
    {
      "cell_type": "code",
      "execution_count": null,
      "metadata": {
        "id": "Np5m_Wn9wqXX"
      },
      "outputs": [],
      "source": [
        "encoding, text_file_paths = batch"
      ]
    },
    {
      "cell_type": "code",
      "execution_count": null,
      "metadata": {
        "colab": {
          "base_uri": "https://localhost:8080/"
        },
        "id": "rBcIM_U1wtXy",
        "outputId": "85495f52-c57d-4837-88d9-15b809523742"
      },
      "outputs": [
        {
          "name": "stdout",
          "output_type": "stream",
          "text": [
            "3\n"
          ]
        }
      ],
      "source": [
        "print(len(encoding))"
      ]
    },
    {
      "cell_type": "code",
      "execution_count": null,
      "metadata": {
        "colab": {
          "base_uri": "https://localhost:8080/"
        },
        "id": "TTIYBuTDqAX5",
        "outputId": "34fb729d-b17f-4d3a-9cdc-a40ca434f76a"
      },
      "outputs": [
        {
          "data": {
            "text/plain": [
              "tensor([[  411,   812,   482,  ...,  -100,  -100,  -100],\n",
              "        [  411,   812, 11789,  ...,  -100,  -100,  -100],\n",
              "        [  411,   812, 11789,  ...,  -100,  -100,  -100],\n",
              "        ...,\n",
              "        [  411,   812, 11789,  ...,  -100,  -100,  -100],\n",
              "        [50190, 50194, 50130,  ...,  -100,  -100,  -100],\n",
              "        [  411,   812, 11789,  ...,  -100,  -100,  -100]], dtype=torch.int32)"
            ]
          },
          "execution_count": 21,
          "metadata": {},
          "output_type": "execute_result"
        }
      ],
      "source": [
        "encoding[\"labels\"]"
      ]
    },
    {
      "cell_type": "code",
      "execution_count": null,
      "metadata": {
        "colab": {
          "base_uri": "https://localhost:8080/"
        },
        "id": "sMl1M2T8qTmg",
        "outputId": "f508ae56-cdea-469e-ec57-839aceda7433"
      },
      "outputs": [
        {
          "data": {
            "text/plain": [
              "tensor([ 411,  812,  482,  ..., -100, -100, -100], dtype=torch.int32)"
            ]
          },
          "execution_count": 22,
          "metadata": {},
          "output_type": "execute_result"
        }
      ],
      "source": [
        "encoding[\"labels\"][0]"
      ]
    },
    {
      "cell_type": "code",
      "execution_count": null,
      "metadata": {
        "id": "5LzfjsX_qs5u"
      },
      "outputs": [],
      "source": [
        "labels_list = encoding[\"labels\"][0].tolist()\n",
        "\n",
        "# Filter out the -100 values\n",
        "filtered_labels = [token for token in labels_list if token != -100]\n",
        "\n",
        "# Decode the cleaned list of tokens\n",
        "decoded_text_example = processor.tokenizer.batch_decode([filtered_labels], skip_special_tokens=True)[0]\n"
      ]
    },
    {
      "cell_type": "code",
      "execution_count": null,
      "metadata": {
        "colab": {
          "base_uri": "https://localhost:8080/",
          "height": 143
        },
        "id": "_nFDTn-XrQWl",
        "outputId": "92cbb422-610d-47b6-adce-32e6a374e159"
      },
      "outputs": [
        {
          "data": {
            "application/vnd.google.colaboratory.intrinsic+json": {
              "type": "string"
            },
            "text/plain": [
              "'<html class=\"no-js seed-csp4\" lang=\"en\"> <head> <title></title> <link href=\"aracne.biz.css\" rel=\"stylesheet\"/> <link href=\"aracne.biz.css\" rel=\"stylesheet\"/> <style type=\"text/css\"> calculated styles Background Style html background fafafa urlhttpsexample.com no-repeat top center fixed; -webkit-background-size cover; -moz-background-size cover; -o-background-size cover; background-size cover;.seed-csp4 body background transparent; Text Styles.seed-csp4 body font-family Helvetica Neue, Helvetica, Arial, sans-serif.seed-csp4 h1,.seed-csp4 h2,.seed-csp4 h3,.seed-csp4 h4,.seed-csp4 h5,.seed-csp4 h6 font-family Helvetica Neue, Helvetica, Arial, sans-serif.seed-csp4 body colorffffff;.seed-csp4 h1,.seed-csp4 h2,.seed-csp4 h3,.seed-csp4 h4,.seed-csp4 h5,.seed-csp4 h6 colorffffff;.seed-csp4 a,.seed-csp4 avisited,.seed-csp4 ahover,.seed-csp4 aactive,.seed-csp4 afocus color27AE60; supports -webkit-overflow-scrolling touch html height 100; overflow hidden; body height100; overflow auto; -webkit-overflow-scrolling touch; </style> </head> <body data-rsssl=\"1\"> <div id=\"seed-csp4-page\"> <div id=\"seed-csp4-content\"> <img id=\"seed-csp4-image\" src=\"../../images/default_img.jpeg\"/> <h1 id=\"seed-csp4-headline\">Get Ready... Something Really Cool Is Coming Soon</h1> <div id=\"seed-csp4-description\"> <h3 style=\"text-align:center;text-shadow:2px 2px 2px #000\"> <span style=\"color:#ffffff\">Sito in manutenzione</span> <br/> <span style=\"color:#ffffff\">A breve online</span> </h3> </div> </div> </div> </body> </html> /* START CSS */.seed-csp4 [hidden] { display: none }.seed-csp4 html { font-family: sans-serif; -webkit-text-size-adjust: 100% }.seed-csp4 body { margin: 0 }.seed-csp4 h1 { font-size: 2em; margin:.67em 0 }.seed-csp4 img { border: 0 }.seed-csp4 * { -webkit-box-sizing: border-box; box-sizing: border-box }.seed-csp4 html { font-size: 62.5%; -webkit-tap-highlight-color: rgba(0,0,0,0) }.seed-csp4 body { font-family: \"Helvetica Neue\",Helvetica,Arial,sans-serif; font-size: 14px; color: #333; background-color: #fff }.seed-csp4 img { vertical-align: middle }.seed-csp4 h1,.seed-csp4 h3,.seed-csp4.h1,.seed-csp4.h3 { font-family: \"Helvetica Neue\",Helvetica,Arial,sans-serif; font-weight: 500; color: inherit }.seed-csp4 h1,.seed-csp4 h3 { margin-top: 20px; margin-bottom: 10px }.seed-csp4 h1,.seed-csp4.h1 { font-size: 36px }.seed-csp4 h3,.seed-csp4.h3 { font-size: 24px } html, body { height: 100%; } #seed-csp4-page { padding: 60px 20px 60px; min-height: 100%; } body { height: 100%; text-align: center; } #seed-csp4-content { max-width: 600px; margin: 0 auto; } #seed-csp4-content img { max-width: 100%; height: auto; } #seed-csp4-image { margin-bottom: 20px; } #seed-csp4-headline { margin-top: 0; } #seed-csp4-credit { position: fixed; bottom: 0; right: 20px; background-color: #000; background-color: rgba(0, 0, 0, 1); padding: 1px 5px 2px; } #supersized-loader { position: absolute; top: 50%; left: 50%; z-index: -1; width: 60px; height: 60px; margin: -30px 0 0 -30px; text-indent: -999em; } #supersized img { max-width: none; } #supersized { display: none; position: fixed; left: 0; top: 0; overflow: hidden; z-index: -999; height: 100%; width: 100%; margin: 0; } #supersized img { width: auto; height: auto; position: relative; display: none; outline: none; border: none; }'"
            ]
          },
          "execution_count": 24,
          "metadata": {},
          "output_type": "execute_result"
        }
      ],
      "source": [
        "decoded_text_example"
      ]
    },
    {
      "cell_type": "code",
      "execution_count": null,
      "metadata": {
        "colab": {
          "base_uri": "https://localhost:8080/"
        },
        "id": "w721sx7Q-_DV",
        "outputId": "eb858910-da64-45e1-ab75-822662457cc7"
      },
      "outputs": [
        {
          "name": "stdout",
          "output_type": "stream",
          "text": [
            "flattened_patches torch.Size([8, 1024, 770])\n",
            "attention_mask torch.Size([8, 1024])\n",
            "labels torch.Size([8, 4096])\n"
          ]
        }
      ],
      "source": [
        "for k,v in encoding.items():\n",
        "    print(k,v.shape)"
      ]
    },
    {
      "cell_type": "code",
      "execution_count": null,
      "metadata": {
        "colab": {
          "base_uri": "https://localhost:8080/"
        },
        "id": "Hw__V87EwvWn",
        "outputId": "e73c2f5f-7754-4936-b008-53c16ccc16d2"
      },
      "outputs": [
        {
          "name": "stdout",
          "output_type": "stream",
          "text": [
            "('aracne.biz', 'albendazole.works', 'diflucan.run', 'vldb.org', 'hcch.net', 'tadalafilx.online', 'adium.im', 'tetracyclinetab.quest')\n"
          ]
        }
      ],
      "source": [
        "print(text_file_paths)"
      ]
    },
    {
      "cell_type": "markdown",
      "metadata": {
        "id": "fWSsn0vr1mV2"
      },
      "source": [
        "### Utility functions"
      ]
    },
    {
      "cell_type": "code",
      "execution_count": null,
      "metadata": {
        "id": "mq6Y22hDqn3x"
      },
      "outputs": [],
      "source": [
        "def move_to_device(data):\n",
        "    if isinstance(data, (list,tuple)):\n",
        "        return [move_to_device(x) for x in data]\n",
        "    elif isinstance(data, dict):\n",
        "        return {k: move_to_device(v) for k, v in data.items()}\n",
        "    elif isinstance(data, torch.Tensor):\n",
        "        return data.to(DEVICE)\n",
        "    else:\n",
        "        return data"
      ]
    },
    {
      "cell_type": "markdown",
      "metadata": {
        "id": "TEt-owxM1puj"
      },
      "source": [
        "### Main Testing function"
      ]
    },
    {
      "cell_type": "code",
      "execution_count": null,
      "metadata": {
        "id": "P0SOkRu1n2_S"
      },
      "outputs": [],
      "source": [
        "START_TOKEN_ID = PAD_TOKEN_ID = processor.tokenizer.pad_token_id"
      ]
    },
    {
      "cell_type": "code",
      "execution_count": null,
      "metadata": {
        "id": "Yp4NELlRFaXM"
      },
      "outputs": [],
      "source": [
        "def testing_loop(testing_dataloader, model, processor, config, description, generation_config=None, do_sample=False):\n",
        "\n",
        "    if (generation_config):\n",
        "        print(\"using custom generation config in testing loop: \\n\")\n",
        "        print(generation_config)\n",
        "    if (do_sample):\n",
        "        print(\"\\nusing sampling\\n\")\n",
        "\n",
        "    model.eval()\n",
        "\n",
        "    with torch.no_grad():\n",
        "        test_loop = tqdm(enumerate(testing_dataloader), total=len(testing_dataloader), desc=description)\n",
        "        for i, batch in test_loop:\n",
        "            encoding, text_file_paths = batch\n",
        "            encoding = move_to_device(encoding)\n",
        "            labels, flattened_patches, attention_mask = encoding[\"labels\"], encoding[\"flattened_patches\"], encoding[\"attention_mask\"]\n",
        "\n",
        "            # Initialize total_outputs with zeros\n",
        "            total_outputs = None\n",
        "            context_from_last = None\n",
        "\n",
        "            # Initialize a mask to track which sentences are finished\n",
        "            finished_sentences_mask = torch.zeros(flattened_patches.size(0), dtype=torch.bool, device=flattened_patches.device)\n",
        "\n",
        "            for iteration in range(MAX_N_CHUNKS_PER_SENTENCE):\n",
        "\n",
        "                generate_args = {\n",
        "                    \"flattened_patches\": flattened_patches[~finished_sentences_mask],\n",
        "                    \"attention_mask\": attention_mask[~finished_sentences_mask],\n",
        "                    \"max_new_tokens\": CHUNK_LENGTH - (CONTEXT_OVERLAP_LENGTH if iteration else 0),\n",
        "                    \"generation_config\": generation_config,\n",
        "                    \"do_sample\": do_sample\n",
        "                }\n",
        "\n",
        "                if iteration and context_from_last is not None:\n",
        "                    generate_args[\"decoder_input_ids\"] = context_from_last[~finished_sentences_mask]\n",
        "\n",
        "                outputs = model.generate(**generate_args)\n",
        "\n",
        "                # Remove context overlap only from the second iteration onwards\n",
        "                new_chunks = outputs if iteration == 0 else outputs[:, CONTEXT_OVERLAP_LENGTH:]\n",
        "\n",
        "                if iteration == 0:\n",
        "                    total_outputs = new_chunks\n",
        "                else:\n",
        "                    # Update total_outputs by concatenating new chunks\n",
        "                    new_chunks_with_padding_chunks = torch.full((flattened_patches.shape[0], new_chunks.shape[1]), PAD_TOKEN_ID, dtype=new_chunks.dtype, device=new_chunks.device)\n",
        "                    new_chunks_with_padding_chunks[~finished_sentences_mask] = new_chunks\n",
        "                    total_outputs = torch.cat((total_outputs, new_chunks_with_padding_chunks), dim=1)\n",
        "\n",
        "                # Update the finished_sentences_mask\n",
        "                finished_sentences_mask[~finished_sentences_mask] |= (outputs == processor.tokenizer.eos_token_id).any(dim=1)\n",
        "\n",
        "                # If all sentences are finished, exit the loop\n",
        "                if finished_sentences_mask.all():\n",
        "                    break\n",
        "\n",
        "                if outputs.shape[1] < CHUNK_LENGTH:\n",
        "                    print(\"ERROR: !! should have already exited because all sentences reached the end!!\")\n",
        "\n",
        "                # -1 because it will put in front a START_TOKEN automatically\n",
        "                context_from_last = total_outputs[:, -(CONTEXT_OVERLAP_LENGTH-1):]\n",
        "\n",
        "            predictions = processor.tokenizer.batch_decode(total_outputs, skip_special_tokens=True)\n",
        "\n",
        "            labels[labels == -100] = 0\n",
        "            answers = processor.tokenizer.batch_decode(labels, skip_special_tokens=True)\n",
        "\n",
        "            for pred, answer, text_file_path in zip(predictions, answers, text_file_paths):\n",
        "                file_path_answer = f\"{OUTPUT_FOLDER}/{text_file_path}_answer.txt\"\n",
        "                file_path_pred = f\"{OUTPUT_FOLDER}/{text_file_path}_pred.txt\"\n",
        "\n",
        "                try:\n",
        "                    with open(file_path_answer, \"w\", encoding=\"utf-8\") as f:\n",
        "                        print(answer, file=f)\n",
        "                except UnicodeEncodeError:\n",
        "                    cleaned_answer = ''.join(char for char in answer if ord(char) < 128)\n",
        "                    with open(file_path_answer, \"w\") as f:\n",
        "                        print(cleaned_answer, file=f)\n",
        "                except Exception as e:\n",
        "                    print(f\"An unexpected error occurred for file {file_path_answer}: {e}\")\n",
        "\n",
        "                try:\n",
        "                    with open(file_path_pred, \"w\", encoding=\"utf-8\") as f:\n",
        "                        print(pred, file=f)\n",
        "                except UnicodeEncodeError:\n",
        "                    cleaned_pred = ''.join(char for char in pred if ord(char) < 128)\n",
        "                    with open(file_path_pred, \"w\") as f:\n",
        "                        print(cleaned_pred, file=f)\n",
        "                except Exception as e:\n",
        "                    print(f\"An unexpected error occurred for file {file_path_pred}: {e}\")\n",
        "\n",
        "    return"
      ]
    },
    {
      "cell_type": "code",
      "execution_count": null,
      "metadata": {
        "id": "F6Lme6odJJK8"
      },
      "outputs": [],
      "source": [
        "config = {\n",
        "          \"verbose\": VERBOSE,\n",
        "}"
      ]
    },
    {
      "cell_type": "code",
      "execution_count": null,
      "metadata": {
        "id": "TJWtCoNBEkzT"
      },
      "outputs": [],
      "source": [
        "def validate_config(config):\n",
        "    # Check required keys\n",
        "    required_keys = [\n",
        "        \"verbose\"\n",
        "    ]\n",
        "    for key in required_keys:\n",
        "        if key not in config:\n",
        "            raise ValueError(f\"Key '{key}' must be present in the configuration.\")\n",
        "\n",
        "    # Check that values are in expected ranges\n",
        "    if not isinstance(config[\"verbose\"], bool):\n",
        "        raise ValueError(\"verbose must be a boolean value.\")"
      ]
    },
    {
      "cell_type": "code",
      "execution_count": null,
      "metadata": {
        "colab": {
          "base_uri": "https://localhost:8080/"
        },
        "id": "XtHfn35GEne6",
        "outputId": "3427c864-caf2-4954-f8cc-5a7975fe02f0"
      },
      "outputs": [
        {
          "name": "stdout",
          "output_type": "stream",
          "text": [
            "{'verbose': True}\n"
          ]
        }
      ],
      "source": [
        "validate_config(config)\n",
        "print(config)"
      ]
    },
    {
      "cell_type": "markdown",
      "metadata": {
        "id": "OKtpIOwKuszL"
      },
      "source": [
        "## Test the model"
      ]
    },
    {
      "cell_type": "code",
      "execution_count": null,
      "metadata": {
        "colab": {
          "base_uri": "https://localhost:8080/"
        },
        "id": "I4TK5t0nl3aw",
        "outputId": "4c2c6fba-ece7-4d95-910d-5f878343ce28"
      },
      "outputs": [
        {
          "name": "stdout",
          "output_type": "stream",
          "text": [
            "using custom generation config in testing loop: \n",
            "\n",
            "GenerationConfig {\n",
            "  \"_from_model_config\": true,\n",
            "  \"decoder_start_token_id\": 0,\n",
            "  \"eos_token_id\": 1,\n",
            "  \"pad_token_id\": 0,\n",
            "  \"repetition_penalty\": 1.3,\n",
            "  \"transformers_version\": \"4.33.1\",\n",
            "  \"use_cache\": false\n",
            "}\n",
            "\n"
          ]
        },
        {
          "name": "stderr",
          "output_type": "stream",
          "text": [
            "Test loop: 100%|██████████| 30/30 [5:39:59<00:00, 679.97s/it]\n"
          ]
        }
      ],
      "source": [
        "generation_config = GenerationConfig.from_model_config(model.config)\n",
        "generation_config.repetition_penalty = 1.3\n",
        "testing_loop(test_dataloader, model, processor, config, f\"Test loop\", generation_config=generation_config, do_sample=False)"
      ]
    }
  ],
  "metadata": {
    "accelerator": "GPU",
    "colab": {
      "gpuType": "V100",
      "machine_shape": "hm",
      "provenance": []
    },
    "kernelspec": {
      "display_name": "Python 3",
      "name": "python3"
    },
    "language_info": {
      "name": "python"
    },
    "widgets": {
      "application/vnd.jupyter.widget-state+json": {
        "0069e5a573ca422b9e407c8a14a31e01": {
          "model_module": "@jupyter-widgets/controls",
          "model_module_version": "1.5.0",
          "model_name": "HBoxModel",
          "state": {
            "_dom_classes": [],
            "_model_module": "@jupyter-widgets/controls",
            "_model_module_version": "1.5.0",
            "_model_name": "HBoxModel",
            "_view_count": null,
            "_view_module": "@jupyter-widgets/controls",
            "_view_module_version": "1.5.0",
            "_view_name": "HBoxView",
            "box_style": "",
            "children": [
              "IPY_MODEL_50f7204b73e94f64a6b19e88d2f332d0",
              "IPY_MODEL_42f08fb7fff748bea24ab79c1779d971",
              "IPY_MODEL_e1a64e5efa3b48d5907b18943ebdb9df"
            ],
            "layout": "IPY_MODEL_5f670e6002a040008dd41013754ffb7c"
          }
        },
        "0c4a5ddabe35420b838e8ee4f96a7699": {
          "model_module": "@jupyter-widgets/controls",
          "model_module_version": "1.5.0",
          "model_name": "DescriptionStyleModel",
          "state": {
            "_model_module": "@jupyter-widgets/controls",
            "_model_module_version": "1.5.0",
            "_model_name": "DescriptionStyleModel",
            "_view_count": null,
            "_view_module": "@jupyter-widgets/base",
            "_view_module_version": "1.2.0",
            "_view_name": "StyleView",
            "description_width": ""
          }
        },
        "0ce3d699c3454fb3ba56dd67809704a2": {
          "model_module": "@jupyter-widgets/controls",
          "model_module_version": "1.5.0",
          "model_name": "ProgressStyleModel",
          "state": {
            "_model_module": "@jupyter-widgets/controls",
            "_model_module_version": "1.5.0",
            "_model_name": "ProgressStyleModel",
            "_view_count": null,
            "_view_module": "@jupyter-widgets/base",
            "_view_module_version": "1.2.0",
            "_view_name": "StyleView",
            "bar_color": null,
            "description_width": ""
          }
        },
        "0d1759b61ffb4bda8a0df5eb27c8bda1": {
          "model_module": "@jupyter-widgets/controls",
          "model_module_version": "1.5.0",
          "model_name": "HBoxModel",
          "state": {
            "_dom_classes": [],
            "_model_module": "@jupyter-widgets/controls",
            "_model_module_version": "1.5.0",
            "_model_name": "HBoxModel",
            "_view_count": null,
            "_view_module": "@jupyter-widgets/controls",
            "_view_module_version": "1.5.0",
            "_view_name": "HBoxView",
            "box_style": "",
            "children": [
              "IPY_MODEL_35cb3ee916fa4ea7936a2b67006901eb",
              "IPY_MODEL_4128e5b5dd084daaa09e684f4f2e310a",
              "IPY_MODEL_87bd2d0383c4405ab228f19cfe420bcb"
            ],
            "layout": "IPY_MODEL_e35c52f5170e446ea61b0d0d13f87895"
          }
        },
        "1ea8136b184c4d38843dad25935ad8dc": {
          "model_module": "@jupyter-widgets/controls",
          "model_module_version": "1.5.0",
          "model_name": "HTMLModel",
          "state": {
            "_dom_classes": [],
            "_model_module": "@jupyter-widgets/controls",
            "_model_module_version": "1.5.0",
            "_model_name": "HTMLModel",
            "_view_count": null,
            "_view_module": "@jupyter-widgets/controls",
            "_view_module_version": "1.5.0",
            "_view_name": "HTMLView",
            "description": "",
            "description_tooltip": null,
            "layout": "IPY_MODEL_a635e7c944804143a8e9fb68ce3d42c0",
            "placeholder": "​",
            "style": "IPY_MODEL_5ae152a358f04d9a8a88c727c00bb769",
            "value": " 851k/851k [00:00&lt;00:00, 998kB/s]"
          }
        },
        "1f803620e5764e3d8142672cb7246bdc": {
          "model_module": "@jupyter-widgets/controls",
          "model_module_version": "1.5.0",
          "model_name": "DescriptionStyleModel",
          "state": {
            "_model_module": "@jupyter-widgets/controls",
            "_model_module_version": "1.5.0",
            "_model_name": "DescriptionStyleModel",
            "_view_count": null,
            "_view_module": "@jupyter-widgets/base",
            "_view_module_version": "1.2.0",
            "_view_name": "StyleView",
            "description_width": ""
          }
        },
        "341a90b40427453e86041e9cdf1a7e12": {
          "model_module": "@jupyter-widgets/controls",
          "model_module_version": "1.5.0",
          "model_name": "DescriptionStyleModel",
          "state": {
            "_model_module": "@jupyter-widgets/controls",
            "_model_module_version": "1.5.0",
            "_model_name": "DescriptionStyleModel",
            "_view_count": null,
            "_view_module": "@jupyter-widgets/base",
            "_view_module_version": "1.2.0",
            "_view_name": "StyleView",
            "description_width": ""
          }
        },
        "35cb3ee916fa4ea7936a2b67006901eb": {
          "model_module": "@jupyter-widgets/controls",
          "model_module_version": "1.5.0",
          "model_name": "HTMLModel",
          "state": {
            "_dom_classes": [],
            "_model_module": "@jupyter-widgets/controls",
            "_model_module_version": "1.5.0",
            "_model_name": "HTMLModel",
            "_view_count": null,
            "_view_module": "@jupyter-widgets/controls",
            "_view_module_version": "1.5.0",
            "_view_name": "HTMLView",
            "description": "",
            "description_tooltip": null,
            "layout": "IPY_MODEL_389dbd77aecf40ac973cb532515494e1",
            "placeholder": "​",
            "style": "IPY_MODEL_7a793072a1ec4403b62f332f76fcae9a",
            "value": "(…)ase/resolve/main/special_tokens_map.json: 100%"
          }
        },
        "389dbd77aecf40ac973cb532515494e1": {
          "model_module": "@jupyter-widgets/base",
          "model_module_version": "1.2.0",
          "model_name": "LayoutModel",
          "state": {
            "_model_module": "@jupyter-widgets/base",
            "_model_module_version": "1.2.0",
            "_model_name": "LayoutModel",
            "_view_count": null,
            "_view_module": "@jupyter-widgets/base",
            "_view_module_version": "1.2.0",
            "_view_name": "LayoutView",
            "align_content": null,
            "align_items": null,
            "align_self": null,
            "border": null,
            "bottom": null,
            "display": null,
            "flex": null,
            "flex_flow": null,
            "grid_area": null,
            "grid_auto_columns": null,
            "grid_auto_flow": null,
            "grid_auto_rows": null,
            "grid_column": null,
            "grid_gap": null,
            "grid_row": null,
            "grid_template_areas": null,
            "grid_template_columns": null,
            "grid_template_rows": null,
            "height": null,
            "justify_content": null,
            "justify_items": null,
            "left": null,
            "margin": null,
            "max_height": null,
            "max_width": null,
            "min_height": null,
            "min_width": null,
            "object_fit": null,
            "object_position": null,
            "order": null,
            "overflow": null,
            "overflow_x": null,
            "overflow_y": null,
            "padding": null,
            "right": null,
            "top": null,
            "visibility": null,
            "width": null
          }
        },
        "3e02a1d8e4a5425b83d11af08247a0a2": {
          "model_module": "@jupyter-widgets/controls",
          "model_module_version": "1.5.0",
          "model_name": "HTMLModel",
          "state": {
            "_dom_classes": [],
            "_model_module": "@jupyter-widgets/controls",
            "_model_module_version": "1.5.0",
            "_model_name": "HTMLModel",
            "_view_count": null,
            "_view_module": "@jupyter-widgets/controls",
            "_view_module_version": "1.5.0",
            "_view_name": "HTMLView",
            "description": "",
            "description_tooltip": null,
            "layout": "IPY_MODEL_a28128cae9524f8eb62b447516c726d0",
            "placeholder": "​",
            "style": "IPY_MODEL_3eaf3b9ef5f94f609aad7727bf733b34",
            "value": " 1.13G/1.13G [00:54&lt;00:00, 21.0MB/s]"
          }
        },
        "3e5c1b3592cb497683b491ca74d957b6": {
          "model_module": "@jupyter-widgets/controls",
          "model_module_version": "1.5.0",
          "model_name": "DescriptionStyleModel",
          "state": {
            "_model_module": "@jupyter-widgets/controls",
            "_model_module_version": "1.5.0",
            "_model_name": "DescriptionStyleModel",
            "_view_count": null,
            "_view_module": "@jupyter-widgets/base",
            "_view_module_version": "1.2.0",
            "_view_name": "StyleView",
            "description_width": ""
          }
        },
        "3eaf3b9ef5f94f609aad7727bf733b34": {
          "model_module": "@jupyter-widgets/controls",
          "model_module_version": "1.5.0",
          "model_name": "DescriptionStyleModel",
          "state": {
            "_model_module": "@jupyter-widgets/controls",
            "_model_module_version": "1.5.0",
            "_model_name": "DescriptionStyleModel",
            "_view_count": null,
            "_view_module": "@jupyter-widgets/base",
            "_view_module_version": "1.2.0",
            "_view_name": "StyleView",
            "description_width": ""
          }
        },
        "3f42f538694e4444b4455283ace55993": {
          "model_module": "@jupyter-widgets/base",
          "model_module_version": "1.2.0",
          "model_name": "LayoutModel",
          "state": {
            "_model_module": "@jupyter-widgets/base",
            "_model_module_version": "1.2.0",
            "_model_name": "LayoutModel",
            "_view_count": null,
            "_view_module": "@jupyter-widgets/base",
            "_view_module_version": "1.2.0",
            "_view_name": "LayoutView",
            "align_content": null,
            "align_items": null,
            "align_self": null,
            "border": null,
            "bottom": null,
            "display": null,
            "flex": null,
            "flex_flow": null,
            "grid_area": null,
            "grid_auto_columns": null,
            "grid_auto_flow": null,
            "grid_auto_rows": null,
            "grid_column": null,
            "grid_gap": null,
            "grid_row": null,
            "grid_template_areas": null,
            "grid_template_columns": null,
            "grid_template_rows": null,
            "height": null,
            "justify_content": null,
            "justify_items": null,
            "left": null,
            "margin": null,
            "max_height": null,
            "max_width": null,
            "min_height": null,
            "min_width": null,
            "object_fit": null,
            "object_position": null,
            "order": null,
            "overflow": null,
            "overflow_x": null,
            "overflow_y": null,
            "padding": null,
            "right": null,
            "top": null,
            "visibility": null,
            "width": null
          }
        },
        "400f57b6e7a44442a5bf37bbd0a9ec28": {
          "model_module": "@jupyter-widgets/controls",
          "model_module_version": "1.5.0",
          "model_name": "ProgressStyleModel",
          "state": {
            "_model_module": "@jupyter-widgets/controls",
            "_model_module_version": "1.5.0",
            "_model_name": "ProgressStyleModel",
            "_view_count": null,
            "_view_module": "@jupyter-widgets/base",
            "_view_module_version": "1.2.0",
            "_view_name": "StyleView",
            "bar_color": null,
            "description_width": ""
          }
        },
        "4128e5b5dd084daaa09e684f4f2e310a": {
          "model_module": "@jupyter-widgets/controls",
          "model_module_version": "1.5.0",
          "model_name": "FloatProgressModel",
          "state": {
            "_dom_classes": [],
            "_model_module": "@jupyter-widgets/controls",
            "_model_module_version": "1.5.0",
            "_model_name": "FloatProgressModel",
            "_view_count": null,
            "_view_module": "@jupyter-widgets/controls",
            "_view_module_version": "1.5.0",
            "_view_name": "ProgressView",
            "bar_style": "success",
            "description": "",
            "description_tooltip": null,
            "layout": "IPY_MODEL_c0b63fe0065f43bd95d333d42e3a8663",
            "max": 2201,
            "min": 0,
            "orientation": "horizontal",
            "style": "IPY_MODEL_0ce3d699c3454fb3ba56dd67809704a2",
            "value": 2201
          }
        },
        "41ef9272d6984adab599f4ef4e27e45a": {
          "model_module": "@jupyter-widgets/controls",
          "model_module_version": "1.5.0",
          "model_name": "DescriptionStyleModel",
          "state": {
            "_model_module": "@jupyter-widgets/controls",
            "_model_module_version": "1.5.0",
            "_model_name": "DescriptionStyleModel",
            "_view_count": null,
            "_view_module": "@jupyter-widgets/base",
            "_view_module_version": "1.2.0",
            "_view_name": "StyleView",
            "description_width": ""
          }
        },
        "42f08fb7fff748bea24ab79c1779d971": {
          "model_module": "@jupyter-widgets/controls",
          "model_module_version": "1.5.0",
          "model_name": "FloatProgressModel",
          "state": {
            "_dom_classes": [],
            "_model_module": "@jupyter-widgets/controls",
            "_model_module_version": "1.5.0",
            "_model_name": "FloatProgressModel",
            "_view_count": null,
            "_view_module": "@jupyter-widgets/controls",
            "_view_module_version": "1.5.0",
            "_view_name": "ProgressView",
            "bar_style": "success",
            "description": "",
            "description_tooltip": null,
            "layout": "IPY_MODEL_f04f11fe732b496e806e865a4c39ecca",
            "max": 2613,
            "min": 0,
            "orientation": "horizontal",
            "style": "IPY_MODEL_4a74344372b341a09ce89a80bda90166",
            "value": 2613
          }
        },
        "430b46a80ea6411e9af604aeea9d71ad": {
          "model_module": "@jupyter-widgets/controls",
          "model_module_version": "1.5.0",
          "model_name": "DescriptionStyleModel",
          "state": {
            "_model_module": "@jupyter-widgets/controls",
            "_model_module_version": "1.5.0",
            "_model_name": "DescriptionStyleModel",
            "_view_count": null,
            "_view_module": "@jupyter-widgets/base",
            "_view_module_version": "1.2.0",
            "_view_name": "StyleView",
            "description_width": ""
          }
        },
        "46c2d2e418bd491aafe765130dd3ec97": {
          "model_module": "@jupyter-widgets/controls",
          "model_module_version": "1.5.0",
          "model_name": "HBoxModel",
          "state": {
            "_dom_classes": [],
            "_model_module": "@jupyter-widgets/controls",
            "_model_module_version": "1.5.0",
            "_model_name": "HBoxModel",
            "_view_count": null,
            "_view_module": "@jupyter-widgets/controls",
            "_view_module_version": "1.5.0",
            "_view_name": "HBoxView",
            "box_style": "",
            "children": [
              "IPY_MODEL_9d2ee7a740374a1b938ee4981de7a995",
              "IPY_MODEL_70097547d92943b197d95dbe4726680c",
              "IPY_MODEL_b142f160104c4305923e5ffb602650d1"
            ],
            "layout": "IPY_MODEL_d7a246e2f7f64c37ac999f3a2985ea1c"
          }
        },
        "47dba91700764abda1b5af20aaecae3e": {
          "model_module": "@jupyter-widgets/base",
          "model_module_version": "1.2.0",
          "model_name": "LayoutModel",
          "state": {
            "_model_module": "@jupyter-widgets/base",
            "_model_module_version": "1.2.0",
            "_model_name": "LayoutModel",
            "_view_count": null,
            "_view_module": "@jupyter-widgets/base",
            "_view_module_version": "1.2.0",
            "_view_name": "LayoutView",
            "align_content": null,
            "align_items": null,
            "align_self": null,
            "border": null,
            "bottom": null,
            "display": null,
            "flex": null,
            "flex_flow": null,
            "grid_area": null,
            "grid_auto_columns": null,
            "grid_auto_flow": null,
            "grid_auto_rows": null,
            "grid_column": null,
            "grid_gap": null,
            "grid_row": null,
            "grid_template_areas": null,
            "grid_template_columns": null,
            "grid_template_rows": null,
            "height": null,
            "justify_content": null,
            "justify_items": null,
            "left": null,
            "margin": null,
            "max_height": null,
            "max_width": null,
            "min_height": null,
            "min_width": null,
            "object_fit": null,
            "object_position": null,
            "order": null,
            "overflow": null,
            "overflow_x": null,
            "overflow_y": null,
            "padding": null,
            "right": null,
            "top": null,
            "visibility": null,
            "width": null
          }
        },
        "4867f9c6e1f94546a069ec42fff2f5be": {
          "model_module": "@jupyter-widgets/controls",
          "model_module_version": "1.5.0",
          "model_name": "DescriptionStyleModel",
          "state": {
            "_model_module": "@jupyter-widgets/controls",
            "_model_module_version": "1.5.0",
            "_model_name": "DescriptionStyleModel",
            "_view_count": null,
            "_view_module": "@jupyter-widgets/base",
            "_view_module_version": "1.2.0",
            "_view_name": "StyleView",
            "description_width": ""
          }
        },
        "4a74344372b341a09ce89a80bda90166": {
          "model_module": "@jupyter-widgets/controls",
          "model_module_version": "1.5.0",
          "model_name": "ProgressStyleModel",
          "state": {
            "_model_module": "@jupyter-widgets/controls",
            "_model_module_version": "1.5.0",
            "_model_name": "ProgressStyleModel",
            "_view_count": null,
            "_view_module": "@jupyter-widgets/base",
            "_view_module_version": "1.2.0",
            "_view_name": "StyleView",
            "bar_color": null,
            "description_width": ""
          }
        },
        "4ebeb7032f6447c196e0d9f3e22a3df3": {
          "model_module": "@jupyter-widgets/base",
          "model_module_version": "1.2.0",
          "model_name": "LayoutModel",
          "state": {
            "_model_module": "@jupyter-widgets/base",
            "_model_module_version": "1.2.0",
            "_model_name": "LayoutModel",
            "_view_count": null,
            "_view_module": "@jupyter-widgets/base",
            "_view_module_version": "1.2.0",
            "_view_name": "LayoutView",
            "align_content": null,
            "align_items": null,
            "align_self": null,
            "border": null,
            "bottom": null,
            "display": null,
            "flex": null,
            "flex_flow": null,
            "grid_area": null,
            "grid_auto_columns": null,
            "grid_auto_flow": null,
            "grid_auto_rows": null,
            "grid_column": null,
            "grid_gap": null,
            "grid_row": null,
            "grid_template_areas": null,
            "grid_template_columns": null,
            "grid_template_rows": null,
            "height": null,
            "justify_content": null,
            "justify_items": null,
            "left": null,
            "margin": null,
            "max_height": null,
            "max_width": null,
            "min_height": null,
            "min_width": null,
            "object_fit": null,
            "object_position": null,
            "order": null,
            "overflow": null,
            "overflow_x": null,
            "overflow_y": null,
            "padding": null,
            "right": null,
            "top": null,
            "visibility": null,
            "width": null
          }
        },
        "50f7204b73e94f64a6b19e88d2f332d0": {
          "model_module": "@jupyter-widgets/controls",
          "model_module_version": "1.5.0",
          "model_name": "HTMLModel",
          "state": {
            "_dom_classes": [],
            "_model_module": "@jupyter-widgets/controls",
            "_model_module_version": "1.5.0",
            "_model_name": "HTMLModel",
            "_view_count": null,
            "_view_module": "@jupyter-widgets/controls",
            "_view_module_version": "1.5.0",
            "_view_name": "HTMLView",
            "description": "",
            "description_tooltip": null,
            "layout": "IPY_MODEL_f47e7d354b9048b7a657bd2ef708593e",
            "placeholder": "​",
            "style": "IPY_MODEL_41ef9272d6984adab599f4ef4e27e45a",
            "value": "(…)-base/resolve/main/tokenizer_config.json: 100%"
          }
        },
        "5ae152a358f04d9a8a88c727c00bb769": {
          "model_module": "@jupyter-widgets/controls",
          "model_module_version": "1.5.0",
          "model_name": "DescriptionStyleModel",
          "state": {
            "_model_module": "@jupyter-widgets/controls",
            "_model_module_version": "1.5.0",
            "_model_name": "DescriptionStyleModel",
            "_view_count": null,
            "_view_module": "@jupyter-widgets/base",
            "_view_module_version": "1.2.0",
            "_view_name": "StyleView",
            "description_width": ""
          }
        },
        "5f670e6002a040008dd41013754ffb7c": {
          "model_module": "@jupyter-widgets/base",
          "model_module_version": "1.2.0",
          "model_name": "LayoutModel",
          "state": {
            "_model_module": "@jupyter-widgets/base",
            "_model_module_version": "1.2.0",
            "_model_name": "LayoutModel",
            "_view_count": null,
            "_view_module": "@jupyter-widgets/base",
            "_view_module_version": "1.2.0",
            "_view_name": "LayoutView",
            "align_content": null,
            "align_items": null,
            "align_self": null,
            "border": null,
            "bottom": null,
            "display": null,
            "flex": null,
            "flex_flow": null,
            "grid_area": null,
            "grid_auto_columns": null,
            "grid_auto_flow": null,
            "grid_auto_rows": null,
            "grid_column": null,
            "grid_gap": null,
            "grid_row": null,
            "grid_template_areas": null,
            "grid_template_columns": null,
            "grid_template_rows": null,
            "height": null,
            "justify_content": null,
            "justify_items": null,
            "left": null,
            "margin": null,
            "max_height": null,
            "max_width": null,
            "min_height": null,
            "min_width": null,
            "object_fit": null,
            "object_position": null,
            "order": null,
            "overflow": null,
            "overflow_x": null,
            "overflow_y": null,
            "padding": null,
            "right": null,
            "top": null,
            "visibility": null,
            "width": null
          }
        },
        "5fb3df60bc75412387bf13db553bc24c": {
          "model_module": "@jupyter-widgets/controls",
          "model_module_version": "1.5.0",
          "model_name": "HBoxModel",
          "state": {
            "_dom_classes": [],
            "_model_module": "@jupyter-widgets/controls",
            "_model_module_version": "1.5.0",
            "_model_name": "HBoxModel",
            "_view_count": null,
            "_view_module": "@jupyter-widgets/controls",
            "_view_module_version": "1.5.0",
            "_view_name": "HBoxView",
            "box_style": "",
            "children": [
              "IPY_MODEL_a4408d7ddfaf4ce9a2961d78e753b55e",
              "IPY_MODEL_965440fceb2c4d29b9ba9077d770decd",
              "IPY_MODEL_1ea8136b184c4d38843dad25935ad8dc"
            ],
            "layout": "IPY_MODEL_4ebeb7032f6447c196e0d9f3e22a3df3"
          }
        },
        "61eb29ab02de4563a41aa85c22242791": {
          "model_module": "@jupyter-widgets/controls",
          "model_module_version": "1.5.0",
          "model_name": "HTMLModel",
          "state": {
            "_dom_classes": [],
            "_model_module": "@jupyter-widgets/controls",
            "_model_module_version": "1.5.0",
            "_model_name": "HTMLModel",
            "_view_count": null,
            "_view_module": "@jupyter-widgets/controls",
            "_view_module_version": "1.5.0",
            "_view_name": "HTMLView",
            "description": "",
            "description_tooltip": null,
            "layout": "IPY_MODEL_912545d55bbc4a04ae9e984c29207a9b",
            "placeholder": "​",
            "style": "IPY_MODEL_b94266b5365f4ff1a028382973a7ea41",
            "value": "(…)pix2struct-base/resolve/main/config.json: 100%"
          }
        },
        "64282c1cfa3d44708ffb0a92ff9ab3e5": {
          "model_module": "@jupyter-widgets/controls",
          "model_module_version": "1.5.0",
          "model_name": "HTMLModel",
          "state": {
            "_dom_classes": [],
            "_model_module": "@jupyter-widgets/controls",
            "_model_module_version": "1.5.0",
            "_model_name": "HTMLModel",
            "_view_count": null,
            "_view_module": "@jupyter-widgets/controls",
            "_view_module_version": "1.5.0",
            "_view_name": "HTMLView",
            "description": "",
            "description_tooltip": null,
            "layout": "IPY_MODEL_dba285067b0941998880200933bbc46d",
            "placeholder": "​",
            "style": "IPY_MODEL_a9d2aefdd7a149beb821de11592fe33c",
            "value": " 4.92k/4.92k [00:00&lt;00:00, 412kB/s]"
          }
        },
        "6498f5c0963d47e98f79815e598e2f46": {
          "model_module": "@jupyter-widgets/controls",
          "model_module_version": "1.5.0",
          "model_name": "HTMLModel",
          "state": {
            "_dom_classes": [],
            "_model_module": "@jupyter-widgets/controls",
            "_model_module_version": "1.5.0",
            "_model_name": "HTMLModel",
            "_view_count": null,
            "_view_module": "@jupyter-widgets/controls",
            "_view_module_version": "1.5.0",
            "_view_name": "HTMLView",
            "description": "",
            "description_tooltip": null,
            "layout": "IPY_MODEL_e10176b9b9964839ad46b9d41cd2e1c3",
            "placeholder": "​",
            "style": "IPY_MODEL_4867f9c6e1f94546a069ec42fff2f5be",
            "value": " 231/231 [00:00&lt;00:00, 19.7kB/s]"
          }
        },
        "66013ab2304d4d1d97dbecb29a4f0bcd": {
          "model_module": "@jupyter-widgets/base",
          "model_module_version": "1.2.0",
          "model_name": "LayoutModel",
          "state": {
            "_model_module": "@jupyter-widgets/base",
            "_model_module_version": "1.2.0",
            "_model_name": "LayoutModel",
            "_view_count": null,
            "_view_module": "@jupyter-widgets/base",
            "_view_module_version": "1.2.0",
            "_view_name": "LayoutView",
            "align_content": null,
            "align_items": null,
            "align_self": null,
            "border": null,
            "bottom": null,
            "display": null,
            "flex": null,
            "flex_flow": null,
            "grid_area": null,
            "grid_auto_columns": null,
            "grid_auto_flow": null,
            "grid_auto_rows": null,
            "grid_column": null,
            "grid_gap": null,
            "grid_row": null,
            "grid_template_areas": null,
            "grid_template_columns": null,
            "grid_template_rows": null,
            "height": null,
            "justify_content": null,
            "justify_items": null,
            "left": null,
            "margin": null,
            "max_height": null,
            "max_width": null,
            "min_height": null,
            "min_width": null,
            "object_fit": null,
            "object_position": null,
            "order": null,
            "overflow": null,
            "overflow_x": null,
            "overflow_y": null,
            "padding": null,
            "right": null,
            "top": null,
            "visibility": null,
            "width": null
          }
        },
        "6bdf63c4bb6b46a6bf1b78977f6ebbd7": {
          "model_module": "@jupyter-widgets/base",
          "model_module_version": "1.2.0",
          "model_name": "LayoutModel",
          "state": {
            "_model_module": "@jupyter-widgets/base",
            "_model_module_version": "1.2.0",
            "_model_name": "LayoutModel",
            "_view_count": null,
            "_view_module": "@jupyter-widgets/base",
            "_view_module_version": "1.2.0",
            "_view_name": "LayoutView",
            "align_content": null,
            "align_items": null,
            "align_self": null,
            "border": null,
            "bottom": null,
            "display": null,
            "flex": null,
            "flex_flow": null,
            "grid_area": null,
            "grid_auto_columns": null,
            "grid_auto_flow": null,
            "grid_auto_rows": null,
            "grid_column": null,
            "grid_gap": null,
            "grid_row": null,
            "grid_template_areas": null,
            "grid_template_columns": null,
            "grid_template_rows": null,
            "height": null,
            "justify_content": null,
            "justify_items": null,
            "left": null,
            "margin": null,
            "max_height": null,
            "max_width": null,
            "min_height": null,
            "min_width": null,
            "object_fit": null,
            "object_position": null,
            "order": null,
            "overflow": null,
            "overflow_x": null,
            "overflow_y": null,
            "padding": null,
            "right": null,
            "top": null,
            "visibility": null,
            "width": null
          }
        },
        "6fef91b9cec74fadab3580110edca81c": {
          "model_module": "@jupyter-widgets/controls",
          "model_module_version": "1.5.0",
          "model_name": "HBoxModel",
          "state": {
            "_dom_classes": [],
            "_model_module": "@jupyter-widgets/controls",
            "_model_module_version": "1.5.0",
            "_model_name": "HBoxModel",
            "_view_count": null,
            "_view_module": "@jupyter-widgets/controls",
            "_view_module_version": "1.5.0",
            "_view_name": "HBoxView",
            "box_style": "",
            "children": [
              "IPY_MODEL_61eb29ab02de4563a41aa85c22242791",
              "IPY_MODEL_73fe8273f19d4f5e8c622c96c2917620",
              "IPY_MODEL_64282c1cfa3d44708ffb0a92ff9ab3e5"
            ],
            "layout": "IPY_MODEL_66013ab2304d4d1d97dbecb29a4f0bcd"
          }
        },
        "70097547d92943b197d95dbe4726680c": {
          "model_module": "@jupyter-widgets/controls",
          "model_module_version": "1.5.0",
          "model_name": "FloatProgressModel",
          "state": {
            "_dom_classes": [],
            "_model_module": "@jupyter-widgets/controls",
            "_model_module_version": "1.5.0",
            "_model_name": "FloatProgressModel",
            "_view_count": null,
            "_view_module": "@jupyter-widgets/controls",
            "_view_module_version": "1.5.0",
            "_view_name": "ProgressView",
            "bar_style": "success",
            "description": "",
            "description_tooltip": null,
            "layout": "IPY_MODEL_8a846845b663487989c8416f1518957f",
            "max": 3265159,
            "min": 0,
            "orientation": "horizontal",
            "style": "IPY_MODEL_fc8db9ed00044715b46f69a3125718ed",
            "value": 3265159
          }
        },
        "73fe8273f19d4f5e8c622c96c2917620": {
          "model_module": "@jupyter-widgets/controls",
          "model_module_version": "1.5.0",
          "model_name": "FloatProgressModel",
          "state": {
            "_dom_classes": [],
            "_model_module": "@jupyter-widgets/controls",
            "_model_module_version": "1.5.0",
            "_model_name": "FloatProgressModel",
            "_view_count": null,
            "_view_module": "@jupyter-widgets/controls",
            "_view_module_version": "1.5.0",
            "_view_name": "ProgressView",
            "bar_style": "success",
            "description": "",
            "description_tooltip": null,
            "layout": "IPY_MODEL_82e265bf978f4702bdeb27517d23a149",
            "max": 4918,
            "min": 0,
            "orientation": "horizontal",
            "style": "IPY_MODEL_400f57b6e7a44442a5bf37bbd0a9ec28",
            "value": 4918
          }
        },
        "7a793072a1ec4403b62f332f76fcae9a": {
          "model_module": "@jupyter-widgets/controls",
          "model_module_version": "1.5.0",
          "model_name": "DescriptionStyleModel",
          "state": {
            "_model_module": "@jupyter-widgets/controls",
            "_model_module_version": "1.5.0",
            "_model_name": "DescriptionStyleModel",
            "_view_count": null,
            "_view_module": "@jupyter-widgets/base",
            "_view_module_version": "1.2.0",
            "_view_name": "StyleView",
            "description_width": ""
          }
        },
        "81b0e9d4774d4a099a03364cceb07701": {
          "model_module": "@jupyter-widgets/base",
          "model_module_version": "1.2.0",
          "model_name": "LayoutModel",
          "state": {
            "_model_module": "@jupyter-widgets/base",
            "_model_module_version": "1.2.0",
            "_model_name": "LayoutModel",
            "_view_count": null,
            "_view_module": "@jupyter-widgets/base",
            "_view_module_version": "1.2.0",
            "_view_name": "LayoutView",
            "align_content": null,
            "align_items": null,
            "align_self": null,
            "border": null,
            "bottom": null,
            "display": null,
            "flex": null,
            "flex_flow": null,
            "grid_area": null,
            "grid_auto_columns": null,
            "grid_auto_flow": null,
            "grid_auto_rows": null,
            "grid_column": null,
            "grid_gap": null,
            "grid_row": null,
            "grid_template_areas": null,
            "grid_template_columns": null,
            "grid_template_rows": null,
            "height": null,
            "justify_content": null,
            "justify_items": null,
            "left": null,
            "margin": null,
            "max_height": null,
            "max_width": null,
            "min_height": null,
            "min_width": null,
            "object_fit": null,
            "object_position": null,
            "order": null,
            "overflow": null,
            "overflow_x": null,
            "overflow_y": null,
            "padding": null,
            "right": null,
            "top": null,
            "visibility": null,
            "width": null
          }
        },
        "82e265bf978f4702bdeb27517d23a149": {
          "model_module": "@jupyter-widgets/base",
          "model_module_version": "1.2.0",
          "model_name": "LayoutModel",
          "state": {
            "_model_module": "@jupyter-widgets/base",
            "_model_module_version": "1.2.0",
            "_model_name": "LayoutModel",
            "_view_count": null,
            "_view_module": "@jupyter-widgets/base",
            "_view_module_version": "1.2.0",
            "_view_name": "LayoutView",
            "align_content": null,
            "align_items": null,
            "align_self": null,
            "border": null,
            "bottom": null,
            "display": null,
            "flex": null,
            "flex_flow": null,
            "grid_area": null,
            "grid_auto_columns": null,
            "grid_auto_flow": null,
            "grid_auto_rows": null,
            "grid_column": null,
            "grid_gap": null,
            "grid_row": null,
            "grid_template_areas": null,
            "grid_template_columns": null,
            "grid_template_rows": null,
            "height": null,
            "justify_content": null,
            "justify_items": null,
            "left": null,
            "margin": null,
            "max_height": null,
            "max_width": null,
            "min_height": null,
            "min_width": null,
            "object_fit": null,
            "object_position": null,
            "order": null,
            "overflow": null,
            "overflow_x": null,
            "overflow_y": null,
            "padding": null,
            "right": null,
            "top": null,
            "visibility": null,
            "width": null
          }
        },
        "83398382c8684f5b9598da53b3d163ca": {
          "model_module": "@jupyter-widgets/base",
          "model_module_version": "1.2.0",
          "model_name": "LayoutModel",
          "state": {
            "_model_module": "@jupyter-widgets/base",
            "_model_module_version": "1.2.0",
            "_model_name": "LayoutModel",
            "_view_count": null,
            "_view_module": "@jupyter-widgets/base",
            "_view_module_version": "1.2.0",
            "_view_name": "LayoutView",
            "align_content": null,
            "align_items": null,
            "align_self": null,
            "border": null,
            "bottom": null,
            "display": null,
            "flex": null,
            "flex_flow": null,
            "grid_area": null,
            "grid_auto_columns": null,
            "grid_auto_flow": null,
            "grid_auto_rows": null,
            "grid_column": null,
            "grid_gap": null,
            "grid_row": null,
            "grid_template_areas": null,
            "grid_template_columns": null,
            "grid_template_rows": null,
            "height": null,
            "justify_content": null,
            "justify_items": null,
            "left": null,
            "margin": null,
            "max_height": null,
            "max_width": null,
            "min_height": null,
            "min_width": null,
            "object_fit": null,
            "object_position": null,
            "order": null,
            "overflow": null,
            "overflow_x": null,
            "overflow_y": null,
            "padding": null,
            "right": null,
            "top": null,
            "visibility": null,
            "width": null
          }
        },
        "87bd2d0383c4405ab228f19cfe420bcb": {
          "model_module": "@jupyter-widgets/controls",
          "model_module_version": "1.5.0",
          "model_name": "HTMLModel",
          "state": {
            "_dom_classes": [],
            "_model_module": "@jupyter-widgets/controls",
            "_model_module_version": "1.5.0",
            "_model_name": "HTMLModel",
            "_view_count": null,
            "_view_module": "@jupyter-widgets/controls",
            "_view_module_version": "1.5.0",
            "_view_name": "HTMLView",
            "description": "",
            "description_tooltip": null,
            "layout": "IPY_MODEL_fb8328ae751440a68d2758acd6f0531d",
            "placeholder": "​",
            "style": "IPY_MODEL_bf0f3c71d6f347c8828b72cd4c951bc3",
            "value": " 2.20k/2.20k [00:00&lt;00:00, 225kB/s]"
          }
        },
        "8a846845b663487989c8416f1518957f": {
          "model_module": "@jupyter-widgets/base",
          "model_module_version": "1.2.0",
          "model_name": "LayoutModel",
          "state": {
            "_model_module": "@jupyter-widgets/base",
            "_model_module_version": "1.2.0",
            "_model_name": "LayoutModel",
            "_view_count": null,
            "_view_module": "@jupyter-widgets/base",
            "_view_module_version": "1.2.0",
            "_view_name": "LayoutView",
            "align_content": null,
            "align_items": null,
            "align_self": null,
            "border": null,
            "bottom": null,
            "display": null,
            "flex": null,
            "flex_flow": null,
            "grid_area": null,
            "grid_auto_columns": null,
            "grid_auto_flow": null,
            "grid_auto_rows": null,
            "grid_column": null,
            "grid_gap": null,
            "grid_row": null,
            "grid_template_areas": null,
            "grid_template_columns": null,
            "grid_template_rows": null,
            "height": null,
            "justify_content": null,
            "justify_items": null,
            "left": null,
            "margin": null,
            "max_height": null,
            "max_width": null,
            "min_height": null,
            "min_width": null,
            "object_fit": null,
            "object_position": null,
            "order": null,
            "overflow": null,
            "overflow_x": null,
            "overflow_y": null,
            "padding": null,
            "right": null,
            "top": null,
            "visibility": null,
            "width": null
          }
        },
        "8ba7fdc3ec844e7da32321f825318d64": {
          "model_module": "@jupyter-widgets/base",
          "model_module_version": "1.2.0",
          "model_name": "LayoutModel",
          "state": {
            "_model_module": "@jupyter-widgets/base",
            "_model_module_version": "1.2.0",
            "_model_name": "LayoutModel",
            "_view_count": null,
            "_view_module": "@jupyter-widgets/base",
            "_view_module_version": "1.2.0",
            "_view_name": "LayoutView",
            "align_content": null,
            "align_items": null,
            "align_self": null,
            "border": null,
            "bottom": null,
            "display": null,
            "flex": null,
            "flex_flow": null,
            "grid_area": null,
            "grid_auto_columns": null,
            "grid_auto_flow": null,
            "grid_auto_rows": null,
            "grid_column": null,
            "grid_gap": null,
            "grid_row": null,
            "grid_template_areas": null,
            "grid_template_columns": null,
            "grid_template_rows": null,
            "height": null,
            "justify_content": null,
            "justify_items": null,
            "left": null,
            "margin": null,
            "max_height": null,
            "max_width": null,
            "min_height": null,
            "min_width": null,
            "object_fit": null,
            "object_position": null,
            "order": null,
            "overflow": null,
            "overflow_x": null,
            "overflow_y": null,
            "padding": null,
            "right": null,
            "top": null,
            "visibility": null,
            "width": null
          }
        },
        "912545d55bbc4a04ae9e984c29207a9b": {
          "model_module": "@jupyter-widgets/base",
          "model_module_version": "1.2.0",
          "model_name": "LayoutModel",
          "state": {
            "_model_module": "@jupyter-widgets/base",
            "_model_module_version": "1.2.0",
            "_model_name": "LayoutModel",
            "_view_count": null,
            "_view_module": "@jupyter-widgets/base",
            "_view_module_version": "1.2.0",
            "_view_name": "LayoutView",
            "align_content": null,
            "align_items": null,
            "align_self": null,
            "border": null,
            "bottom": null,
            "display": null,
            "flex": null,
            "flex_flow": null,
            "grid_area": null,
            "grid_auto_columns": null,
            "grid_auto_flow": null,
            "grid_auto_rows": null,
            "grid_column": null,
            "grid_gap": null,
            "grid_row": null,
            "grid_template_areas": null,
            "grid_template_columns": null,
            "grid_template_rows": null,
            "height": null,
            "justify_content": null,
            "justify_items": null,
            "left": null,
            "margin": null,
            "max_height": null,
            "max_width": null,
            "min_height": null,
            "min_width": null,
            "object_fit": null,
            "object_position": null,
            "order": null,
            "overflow": null,
            "overflow_x": null,
            "overflow_y": null,
            "padding": null,
            "right": null,
            "top": null,
            "visibility": null,
            "width": null
          }
        },
        "9336f3debbd14c3b8b69c7effa80c603": {
          "model_module": "@jupyter-widgets/base",
          "model_module_version": "1.2.0",
          "model_name": "LayoutModel",
          "state": {
            "_model_module": "@jupyter-widgets/base",
            "_model_module_version": "1.2.0",
            "_model_name": "LayoutModel",
            "_view_count": null,
            "_view_module": "@jupyter-widgets/base",
            "_view_module_version": "1.2.0",
            "_view_name": "LayoutView",
            "align_content": null,
            "align_items": null,
            "align_self": null,
            "border": null,
            "bottom": null,
            "display": null,
            "flex": null,
            "flex_flow": null,
            "grid_area": null,
            "grid_auto_columns": null,
            "grid_auto_flow": null,
            "grid_auto_rows": null,
            "grid_column": null,
            "grid_gap": null,
            "grid_row": null,
            "grid_template_areas": null,
            "grid_template_columns": null,
            "grid_template_rows": null,
            "height": null,
            "justify_content": null,
            "justify_items": null,
            "left": null,
            "margin": null,
            "max_height": null,
            "max_width": null,
            "min_height": null,
            "min_width": null,
            "object_fit": null,
            "object_position": null,
            "order": null,
            "overflow": null,
            "overflow_x": null,
            "overflow_y": null,
            "padding": null,
            "right": null,
            "top": null,
            "visibility": null,
            "width": null
          }
        },
        "95559343ecfc40709cca25812716b738": {
          "model_module": "@jupyter-widgets/controls",
          "model_module_version": "1.5.0",
          "model_name": "HTMLModel",
          "state": {
            "_dom_classes": [],
            "_model_module": "@jupyter-widgets/controls",
            "_model_module_version": "1.5.0",
            "_model_name": "HTMLModel",
            "_view_count": null,
            "_view_module": "@jupyter-widgets/controls",
            "_view_module_version": "1.5.0",
            "_view_name": "HTMLView",
            "description": "",
            "description_tooltip": null,
            "layout": "IPY_MODEL_fde70be823934291add1eabd47e8d39b",
            "placeholder": "​",
            "style": "IPY_MODEL_0c4a5ddabe35420b838e8ee4f96a7699",
            "value": "(…)se/resolve/main/preprocessor_config.json: 100%"
          }
        },
        "965440fceb2c4d29b9ba9077d770decd": {
          "model_module": "@jupyter-widgets/controls",
          "model_module_version": "1.5.0",
          "model_name": "FloatProgressModel",
          "state": {
            "_dom_classes": [],
            "_model_module": "@jupyter-widgets/controls",
            "_model_module_version": "1.5.0",
            "_model_name": "FloatProgressModel",
            "_view_count": null,
            "_view_module": "@jupyter-widgets/controls",
            "_view_module_version": "1.5.0",
            "_view_name": "ProgressView",
            "bar_style": "success",
            "description": "",
            "description_tooltip": null,
            "layout": "IPY_MODEL_eab43b385e7d4b5bb14775d59ed4d33f",
            "max": 851388,
            "min": 0,
            "orientation": "horizontal",
            "style": "IPY_MODEL_a2becea14df94a94adaf2a37ae27c902",
            "value": 851388
          }
        },
        "9d2ee7a740374a1b938ee4981de7a995": {
          "model_module": "@jupyter-widgets/controls",
          "model_module_version": "1.5.0",
          "model_name": "HTMLModel",
          "state": {
            "_dom_classes": [],
            "_model_module": "@jupyter-widgets/controls",
            "_model_module_version": "1.5.0",
            "_model_name": "HTMLModel",
            "_view_count": null,
            "_view_module": "@jupyter-widgets/controls",
            "_view_module_version": "1.5.0",
            "_view_name": "HTMLView",
            "description": "",
            "description_tooltip": null,
            "layout": "IPY_MODEL_81b0e9d4774d4a099a03364cceb07701",
            "placeholder": "​",
            "style": "IPY_MODEL_3e5c1b3592cb497683b491ca74d957b6",
            "value": "(…)2struct-base/resolve/main/tokenizer.json: 100%"
          }
        },
        "9dade711321b4e44bf6f1e91a921dee5": {
          "model_module": "@jupyter-widgets/controls",
          "model_module_version": "1.5.0",
          "model_name": "FloatProgressModel",
          "state": {
            "_dom_classes": [],
            "_model_module": "@jupyter-widgets/controls",
            "_model_module_version": "1.5.0",
            "_model_name": "FloatProgressModel",
            "_view_count": null,
            "_view_module": "@jupyter-widgets/controls",
            "_view_module_version": "1.5.0",
            "_view_name": "ProgressView",
            "bar_style": "success",
            "description": "",
            "description_tooltip": null,
            "layout": "IPY_MODEL_8ba7fdc3ec844e7da32321f825318d64",
            "max": 231,
            "min": 0,
            "orientation": "horizontal",
            "style": "IPY_MODEL_eac2610d1922406f84d6bd1fd100e637",
            "value": 231
          }
        },
        "a28128cae9524f8eb62b447516c726d0": {
          "model_module": "@jupyter-widgets/base",
          "model_module_version": "1.2.0",
          "model_name": "LayoutModel",
          "state": {
            "_model_module": "@jupyter-widgets/base",
            "_model_module_version": "1.2.0",
            "_model_name": "LayoutModel",
            "_view_count": null,
            "_view_module": "@jupyter-widgets/base",
            "_view_module_version": "1.2.0",
            "_view_name": "LayoutView",
            "align_content": null,
            "align_items": null,
            "align_self": null,
            "border": null,
            "bottom": null,
            "display": null,
            "flex": null,
            "flex_flow": null,
            "grid_area": null,
            "grid_auto_columns": null,
            "grid_auto_flow": null,
            "grid_auto_rows": null,
            "grid_column": null,
            "grid_gap": null,
            "grid_row": null,
            "grid_template_areas": null,
            "grid_template_columns": null,
            "grid_template_rows": null,
            "height": null,
            "justify_content": null,
            "justify_items": null,
            "left": null,
            "margin": null,
            "max_height": null,
            "max_width": null,
            "min_height": null,
            "min_width": null,
            "object_fit": null,
            "object_position": null,
            "order": null,
            "overflow": null,
            "overflow_x": null,
            "overflow_y": null,
            "padding": null,
            "right": null,
            "top": null,
            "visibility": null,
            "width": null
          }
        },
        "a2becea14df94a94adaf2a37ae27c902": {
          "model_module": "@jupyter-widgets/controls",
          "model_module_version": "1.5.0",
          "model_name": "ProgressStyleModel",
          "state": {
            "_model_module": "@jupyter-widgets/controls",
            "_model_module_version": "1.5.0",
            "_model_name": "ProgressStyleModel",
            "_view_count": null,
            "_view_module": "@jupyter-widgets/base",
            "_view_module_version": "1.2.0",
            "_view_name": "StyleView",
            "bar_color": null,
            "description_width": ""
          }
        },
        "a4408d7ddfaf4ce9a2961d78e753b55e": {
          "model_module": "@jupyter-widgets/controls",
          "model_module_version": "1.5.0",
          "model_name": "HTMLModel",
          "state": {
            "_dom_classes": [],
            "_model_module": "@jupyter-widgets/controls",
            "_model_module_version": "1.5.0",
            "_model_name": "HTMLModel",
            "_view_count": null,
            "_view_module": "@jupyter-widgets/controls",
            "_view_module_version": "1.5.0",
            "_view_name": "HTMLView",
            "description": "",
            "description_tooltip": null,
            "layout": "IPY_MODEL_6bdf63c4bb6b46a6bf1b78977f6ebbd7",
            "placeholder": "​",
            "style": "IPY_MODEL_b1f535284d1e4743aec3122ad99903f2",
            "value": "spiece.model: 100%"
          }
        },
        "a635e7c944804143a8e9fb68ce3d42c0": {
          "model_module": "@jupyter-widgets/base",
          "model_module_version": "1.2.0",
          "model_name": "LayoutModel",
          "state": {
            "_model_module": "@jupyter-widgets/base",
            "_model_module_version": "1.2.0",
            "_model_name": "LayoutModel",
            "_view_count": null,
            "_view_module": "@jupyter-widgets/base",
            "_view_module_version": "1.2.0",
            "_view_name": "LayoutView",
            "align_content": null,
            "align_items": null,
            "align_self": null,
            "border": null,
            "bottom": null,
            "display": null,
            "flex": null,
            "flex_flow": null,
            "grid_area": null,
            "grid_auto_columns": null,
            "grid_auto_flow": null,
            "grid_auto_rows": null,
            "grid_column": null,
            "grid_gap": null,
            "grid_row": null,
            "grid_template_areas": null,
            "grid_template_columns": null,
            "grid_template_rows": null,
            "height": null,
            "justify_content": null,
            "justify_items": null,
            "left": null,
            "margin": null,
            "max_height": null,
            "max_width": null,
            "min_height": null,
            "min_width": null,
            "object_fit": null,
            "object_position": null,
            "order": null,
            "overflow": null,
            "overflow_x": null,
            "overflow_y": null,
            "padding": null,
            "right": null,
            "top": null,
            "visibility": null,
            "width": null
          }
        },
        "a9507c6087714f13a0576eae781a8ce1": {
          "model_module": "@jupyter-widgets/controls",
          "model_module_version": "1.5.0",
          "model_name": "HTMLModel",
          "state": {
            "_dom_classes": [],
            "_model_module": "@jupyter-widgets/controls",
            "_model_module_version": "1.5.0",
            "_model_name": "HTMLModel",
            "_view_count": null,
            "_view_module": "@jupyter-widgets/controls",
            "_view_module_version": "1.5.0",
            "_view_name": "HTMLView",
            "description": "",
            "description_tooltip": null,
            "layout": "IPY_MODEL_9336f3debbd14c3b8b69c7effa80c603",
            "placeholder": "​",
            "style": "IPY_MODEL_1f803620e5764e3d8142672cb7246bdc",
            "value": "pytorch_model.bin: 100%"
          }
        },
        "a9d2aefdd7a149beb821de11592fe33c": {
          "model_module": "@jupyter-widgets/controls",
          "model_module_version": "1.5.0",
          "model_name": "DescriptionStyleModel",
          "state": {
            "_model_module": "@jupyter-widgets/controls",
            "_model_module_version": "1.5.0",
            "_model_name": "DescriptionStyleModel",
            "_view_count": null,
            "_view_module": "@jupyter-widgets/base",
            "_view_module_version": "1.2.0",
            "_view_name": "StyleView",
            "description_width": ""
          }
        },
        "b142f160104c4305923e5ffb602650d1": {
          "model_module": "@jupyter-widgets/controls",
          "model_module_version": "1.5.0",
          "model_name": "HTMLModel",
          "state": {
            "_dom_classes": [],
            "_model_module": "@jupyter-widgets/controls",
            "_model_module_version": "1.5.0",
            "_model_name": "HTMLModel",
            "_view_count": null,
            "_view_module": "@jupyter-widgets/controls",
            "_view_module_version": "1.5.0",
            "_view_name": "HTMLView",
            "description": "",
            "description_tooltip": null,
            "layout": "IPY_MODEL_83398382c8684f5b9598da53b3d163ca",
            "placeholder": "​",
            "style": "IPY_MODEL_430b46a80ea6411e9af604aeea9d71ad",
            "value": " 3.27M/3.27M [00:01&lt;00:00, 3.12MB/s]"
          }
        },
        "b1f535284d1e4743aec3122ad99903f2": {
          "model_module": "@jupyter-widgets/controls",
          "model_module_version": "1.5.0",
          "model_name": "DescriptionStyleModel",
          "state": {
            "_model_module": "@jupyter-widgets/controls",
            "_model_module_version": "1.5.0",
            "_model_name": "DescriptionStyleModel",
            "_view_count": null,
            "_view_module": "@jupyter-widgets/base",
            "_view_module_version": "1.2.0",
            "_view_name": "StyleView",
            "description_width": ""
          }
        },
        "b94266b5365f4ff1a028382973a7ea41": {
          "model_module": "@jupyter-widgets/controls",
          "model_module_version": "1.5.0",
          "model_name": "DescriptionStyleModel",
          "state": {
            "_model_module": "@jupyter-widgets/controls",
            "_model_module_version": "1.5.0",
            "_model_name": "DescriptionStyleModel",
            "_view_count": null,
            "_view_module": "@jupyter-widgets/base",
            "_view_module_version": "1.2.0",
            "_view_name": "StyleView",
            "description_width": ""
          }
        },
        "bf0f3c71d6f347c8828b72cd4c951bc3": {
          "model_module": "@jupyter-widgets/controls",
          "model_module_version": "1.5.0",
          "model_name": "DescriptionStyleModel",
          "state": {
            "_model_module": "@jupyter-widgets/controls",
            "_model_module_version": "1.5.0",
            "_model_name": "DescriptionStyleModel",
            "_view_count": null,
            "_view_module": "@jupyter-widgets/base",
            "_view_module_version": "1.2.0",
            "_view_name": "StyleView",
            "description_width": ""
          }
        },
        "c0b63fe0065f43bd95d333d42e3a8663": {
          "model_module": "@jupyter-widgets/base",
          "model_module_version": "1.2.0",
          "model_name": "LayoutModel",
          "state": {
            "_model_module": "@jupyter-widgets/base",
            "_model_module_version": "1.2.0",
            "_model_name": "LayoutModel",
            "_view_count": null,
            "_view_module": "@jupyter-widgets/base",
            "_view_module_version": "1.2.0",
            "_view_name": "LayoutView",
            "align_content": null,
            "align_items": null,
            "align_self": null,
            "border": null,
            "bottom": null,
            "display": null,
            "flex": null,
            "flex_flow": null,
            "grid_area": null,
            "grid_auto_columns": null,
            "grid_auto_flow": null,
            "grid_auto_rows": null,
            "grid_column": null,
            "grid_gap": null,
            "grid_row": null,
            "grid_template_areas": null,
            "grid_template_columns": null,
            "grid_template_rows": null,
            "height": null,
            "justify_content": null,
            "justify_items": null,
            "left": null,
            "margin": null,
            "max_height": null,
            "max_width": null,
            "min_height": null,
            "min_width": null,
            "object_fit": null,
            "object_position": null,
            "order": null,
            "overflow": null,
            "overflow_x": null,
            "overflow_y": null,
            "padding": null,
            "right": null,
            "top": null,
            "visibility": null,
            "width": null
          }
        },
        "c4a358ef8c8944669ea94c42d4b8b7ee": {
          "model_module": "@jupyter-widgets/controls",
          "model_module_version": "1.5.0",
          "model_name": "ProgressStyleModel",
          "state": {
            "_model_module": "@jupyter-widgets/controls",
            "_model_module_version": "1.5.0",
            "_model_name": "ProgressStyleModel",
            "_view_count": null,
            "_view_module": "@jupyter-widgets/base",
            "_view_module_version": "1.2.0",
            "_view_name": "StyleView",
            "bar_color": null,
            "description_width": ""
          }
        },
        "cc63fa3865e84d85b01fac454c545ef5": {
          "model_module": "@jupyter-widgets/controls",
          "model_module_version": "1.5.0",
          "model_name": "HBoxModel",
          "state": {
            "_dom_classes": [],
            "_model_module": "@jupyter-widgets/controls",
            "_model_module_version": "1.5.0",
            "_model_name": "HBoxModel",
            "_view_count": null,
            "_view_module": "@jupyter-widgets/controls",
            "_view_module_version": "1.5.0",
            "_view_name": "HBoxView",
            "box_style": "",
            "children": [
              "IPY_MODEL_95559343ecfc40709cca25812716b738",
              "IPY_MODEL_9dade711321b4e44bf6f1e91a921dee5",
              "IPY_MODEL_6498f5c0963d47e98f79815e598e2f46"
            ],
            "layout": "IPY_MODEL_d4604b7865e0420a8a02948ad4f4292b"
          }
        },
        "d4604b7865e0420a8a02948ad4f4292b": {
          "model_module": "@jupyter-widgets/base",
          "model_module_version": "1.2.0",
          "model_name": "LayoutModel",
          "state": {
            "_model_module": "@jupyter-widgets/base",
            "_model_module_version": "1.2.0",
            "_model_name": "LayoutModel",
            "_view_count": null,
            "_view_module": "@jupyter-widgets/base",
            "_view_module_version": "1.2.0",
            "_view_name": "LayoutView",
            "align_content": null,
            "align_items": null,
            "align_self": null,
            "border": null,
            "bottom": null,
            "display": null,
            "flex": null,
            "flex_flow": null,
            "grid_area": null,
            "grid_auto_columns": null,
            "grid_auto_flow": null,
            "grid_auto_rows": null,
            "grid_column": null,
            "grid_gap": null,
            "grid_row": null,
            "grid_template_areas": null,
            "grid_template_columns": null,
            "grid_template_rows": null,
            "height": null,
            "justify_content": null,
            "justify_items": null,
            "left": null,
            "margin": null,
            "max_height": null,
            "max_width": null,
            "min_height": null,
            "min_width": null,
            "object_fit": null,
            "object_position": null,
            "order": null,
            "overflow": null,
            "overflow_x": null,
            "overflow_y": null,
            "padding": null,
            "right": null,
            "top": null,
            "visibility": null,
            "width": null
          }
        },
        "d7a246e2f7f64c37ac999f3a2985ea1c": {
          "model_module": "@jupyter-widgets/base",
          "model_module_version": "1.2.0",
          "model_name": "LayoutModel",
          "state": {
            "_model_module": "@jupyter-widgets/base",
            "_model_module_version": "1.2.0",
            "_model_name": "LayoutModel",
            "_view_count": null,
            "_view_module": "@jupyter-widgets/base",
            "_view_module_version": "1.2.0",
            "_view_name": "LayoutView",
            "align_content": null,
            "align_items": null,
            "align_self": null,
            "border": null,
            "bottom": null,
            "display": null,
            "flex": null,
            "flex_flow": null,
            "grid_area": null,
            "grid_auto_columns": null,
            "grid_auto_flow": null,
            "grid_auto_rows": null,
            "grid_column": null,
            "grid_gap": null,
            "grid_row": null,
            "grid_template_areas": null,
            "grid_template_columns": null,
            "grid_template_rows": null,
            "height": null,
            "justify_content": null,
            "justify_items": null,
            "left": null,
            "margin": null,
            "max_height": null,
            "max_width": null,
            "min_height": null,
            "min_width": null,
            "object_fit": null,
            "object_position": null,
            "order": null,
            "overflow": null,
            "overflow_x": null,
            "overflow_y": null,
            "padding": null,
            "right": null,
            "top": null,
            "visibility": null,
            "width": null
          }
        },
        "db36f86b9a6549618ad88c2b06383156": {
          "model_module": "@jupyter-widgets/controls",
          "model_module_version": "1.5.0",
          "model_name": "HBoxModel",
          "state": {
            "_dom_classes": [],
            "_model_module": "@jupyter-widgets/controls",
            "_model_module_version": "1.5.0",
            "_model_name": "HBoxModel",
            "_view_count": null,
            "_view_module": "@jupyter-widgets/controls",
            "_view_module_version": "1.5.0",
            "_view_name": "HBoxView",
            "box_style": "",
            "children": [
              "IPY_MODEL_a9507c6087714f13a0576eae781a8ce1",
              "IPY_MODEL_e95193d0d7624e418210d7173fe865c5",
              "IPY_MODEL_3e02a1d8e4a5425b83d11af08247a0a2"
            ],
            "layout": "IPY_MODEL_3f42f538694e4444b4455283ace55993"
          }
        },
        "dba285067b0941998880200933bbc46d": {
          "model_module": "@jupyter-widgets/base",
          "model_module_version": "1.2.0",
          "model_name": "LayoutModel",
          "state": {
            "_model_module": "@jupyter-widgets/base",
            "_model_module_version": "1.2.0",
            "_model_name": "LayoutModel",
            "_view_count": null,
            "_view_module": "@jupyter-widgets/base",
            "_view_module_version": "1.2.0",
            "_view_name": "LayoutView",
            "align_content": null,
            "align_items": null,
            "align_self": null,
            "border": null,
            "bottom": null,
            "display": null,
            "flex": null,
            "flex_flow": null,
            "grid_area": null,
            "grid_auto_columns": null,
            "grid_auto_flow": null,
            "grid_auto_rows": null,
            "grid_column": null,
            "grid_gap": null,
            "grid_row": null,
            "grid_template_areas": null,
            "grid_template_columns": null,
            "grid_template_rows": null,
            "height": null,
            "justify_content": null,
            "justify_items": null,
            "left": null,
            "margin": null,
            "max_height": null,
            "max_width": null,
            "min_height": null,
            "min_width": null,
            "object_fit": null,
            "object_position": null,
            "order": null,
            "overflow": null,
            "overflow_x": null,
            "overflow_y": null,
            "padding": null,
            "right": null,
            "top": null,
            "visibility": null,
            "width": null
          }
        },
        "e10176b9b9964839ad46b9d41cd2e1c3": {
          "model_module": "@jupyter-widgets/base",
          "model_module_version": "1.2.0",
          "model_name": "LayoutModel",
          "state": {
            "_model_module": "@jupyter-widgets/base",
            "_model_module_version": "1.2.0",
            "_model_name": "LayoutModel",
            "_view_count": null,
            "_view_module": "@jupyter-widgets/base",
            "_view_module_version": "1.2.0",
            "_view_name": "LayoutView",
            "align_content": null,
            "align_items": null,
            "align_self": null,
            "border": null,
            "bottom": null,
            "display": null,
            "flex": null,
            "flex_flow": null,
            "grid_area": null,
            "grid_auto_columns": null,
            "grid_auto_flow": null,
            "grid_auto_rows": null,
            "grid_column": null,
            "grid_gap": null,
            "grid_row": null,
            "grid_template_areas": null,
            "grid_template_columns": null,
            "grid_template_rows": null,
            "height": null,
            "justify_content": null,
            "justify_items": null,
            "left": null,
            "margin": null,
            "max_height": null,
            "max_width": null,
            "min_height": null,
            "min_width": null,
            "object_fit": null,
            "object_position": null,
            "order": null,
            "overflow": null,
            "overflow_x": null,
            "overflow_y": null,
            "padding": null,
            "right": null,
            "top": null,
            "visibility": null,
            "width": null
          }
        },
        "e1a64e5efa3b48d5907b18943ebdb9df": {
          "model_module": "@jupyter-widgets/controls",
          "model_module_version": "1.5.0",
          "model_name": "HTMLModel",
          "state": {
            "_dom_classes": [],
            "_model_module": "@jupyter-widgets/controls",
            "_model_module_version": "1.5.0",
            "_model_name": "HTMLModel",
            "_view_count": null,
            "_view_module": "@jupyter-widgets/controls",
            "_view_module_version": "1.5.0",
            "_view_name": "HTMLView",
            "description": "",
            "description_tooltip": null,
            "layout": "IPY_MODEL_e784aeaa38924914adffb214512902e3",
            "placeholder": "​",
            "style": "IPY_MODEL_341a90b40427453e86041e9cdf1a7e12",
            "value": " 2.61k/2.61k [00:00&lt;00:00, 235kB/s]"
          }
        },
        "e35c52f5170e446ea61b0d0d13f87895": {
          "model_module": "@jupyter-widgets/base",
          "model_module_version": "1.2.0",
          "model_name": "LayoutModel",
          "state": {
            "_model_module": "@jupyter-widgets/base",
            "_model_module_version": "1.2.0",
            "_model_name": "LayoutModel",
            "_view_count": null,
            "_view_module": "@jupyter-widgets/base",
            "_view_module_version": "1.2.0",
            "_view_name": "LayoutView",
            "align_content": null,
            "align_items": null,
            "align_self": null,
            "border": null,
            "bottom": null,
            "display": null,
            "flex": null,
            "flex_flow": null,
            "grid_area": null,
            "grid_auto_columns": null,
            "grid_auto_flow": null,
            "grid_auto_rows": null,
            "grid_column": null,
            "grid_gap": null,
            "grid_row": null,
            "grid_template_areas": null,
            "grid_template_columns": null,
            "grid_template_rows": null,
            "height": null,
            "justify_content": null,
            "justify_items": null,
            "left": null,
            "margin": null,
            "max_height": null,
            "max_width": null,
            "min_height": null,
            "min_width": null,
            "object_fit": null,
            "object_position": null,
            "order": null,
            "overflow": null,
            "overflow_x": null,
            "overflow_y": null,
            "padding": null,
            "right": null,
            "top": null,
            "visibility": null,
            "width": null
          }
        },
        "e784aeaa38924914adffb214512902e3": {
          "model_module": "@jupyter-widgets/base",
          "model_module_version": "1.2.0",
          "model_name": "LayoutModel",
          "state": {
            "_model_module": "@jupyter-widgets/base",
            "_model_module_version": "1.2.0",
            "_model_name": "LayoutModel",
            "_view_count": null,
            "_view_module": "@jupyter-widgets/base",
            "_view_module_version": "1.2.0",
            "_view_name": "LayoutView",
            "align_content": null,
            "align_items": null,
            "align_self": null,
            "border": null,
            "bottom": null,
            "display": null,
            "flex": null,
            "flex_flow": null,
            "grid_area": null,
            "grid_auto_columns": null,
            "grid_auto_flow": null,
            "grid_auto_rows": null,
            "grid_column": null,
            "grid_gap": null,
            "grid_row": null,
            "grid_template_areas": null,
            "grid_template_columns": null,
            "grid_template_rows": null,
            "height": null,
            "justify_content": null,
            "justify_items": null,
            "left": null,
            "margin": null,
            "max_height": null,
            "max_width": null,
            "min_height": null,
            "min_width": null,
            "object_fit": null,
            "object_position": null,
            "order": null,
            "overflow": null,
            "overflow_x": null,
            "overflow_y": null,
            "padding": null,
            "right": null,
            "top": null,
            "visibility": null,
            "width": null
          }
        },
        "e95193d0d7624e418210d7173fe865c5": {
          "model_module": "@jupyter-widgets/controls",
          "model_module_version": "1.5.0",
          "model_name": "FloatProgressModel",
          "state": {
            "_dom_classes": [],
            "_model_module": "@jupyter-widgets/controls",
            "_model_module_version": "1.5.0",
            "_model_name": "FloatProgressModel",
            "_view_count": null,
            "_view_module": "@jupyter-widgets/controls",
            "_view_module_version": "1.5.0",
            "_view_name": "ProgressView",
            "bar_style": "success",
            "description": "",
            "description_tooltip": null,
            "layout": "IPY_MODEL_47dba91700764abda1b5af20aaecae3e",
            "max": 1129238081,
            "min": 0,
            "orientation": "horizontal",
            "style": "IPY_MODEL_c4a358ef8c8944669ea94c42d4b8b7ee",
            "value": 1129238081
          }
        },
        "eab43b385e7d4b5bb14775d59ed4d33f": {
          "model_module": "@jupyter-widgets/base",
          "model_module_version": "1.2.0",
          "model_name": "LayoutModel",
          "state": {
            "_model_module": "@jupyter-widgets/base",
            "_model_module_version": "1.2.0",
            "_model_name": "LayoutModel",
            "_view_count": null,
            "_view_module": "@jupyter-widgets/base",
            "_view_module_version": "1.2.0",
            "_view_name": "LayoutView",
            "align_content": null,
            "align_items": null,
            "align_self": null,
            "border": null,
            "bottom": null,
            "display": null,
            "flex": null,
            "flex_flow": null,
            "grid_area": null,
            "grid_auto_columns": null,
            "grid_auto_flow": null,
            "grid_auto_rows": null,
            "grid_column": null,
            "grid_gap": null,
            "grid_row": null,
            "grid_template_areas": null,
            "grid_template_columns": null,
            "grid_template_rows": null,
            "height": null,
            "justify_content": null,
            "justify_items": null,
            "left": null,
            "margin": null,
            "max_height": null,
            "max_width": null,
            "min_height": null,
            "min_width": null,
            "object_fit": null,
            "object_position": null,
            "order": null,
            "overflow": null,
            "overflow_x": null,
            "overflow_y": null,
            "padding": null,
            "right": null,
            "top": null,
            "visibility": null,
            "width": null
          }
        },
        "eac2610d1922406f84d6bd1fd100e637": {
          "model_module": "@jupyter-widgets/controls",
          "model_module_version": "1.5.0",
          "model_name": "ProgressStyleModel",
          "state": {
            "_model_module": "@jupyter-widgets/controls",
            "_model_module_version": "1.5.0",
            "_model_name": "ProgressStyleModel",
            "_view_count": null,
            "_view_module": "@jupyter-widgets/base",
            "_view_module_version": "1.2.0",
            "_view_name": "StyleView",
            "bar_color": null,
            "description_width": ""
          }
        },
        "f04f11fe732b496e806e865a4c39ecca": {
          "model_module": "@jupyter-widgets/base",
          "model_module_version": "1.2.0",
          "model_name": "LayoutModel",
          "state": {
            "_model_module": "@jupyter-widgets/base",
            "_model_module_version": "1.2.0",
            "_model_name": "LayoutModel",
            "_view_count": null,
            "_view_module": "@jupyter-widgets/base",
            "_view_module_version": "1.2.0",
            "_view_name": "LayoutView",
            "align_content": null,
            "align_items": null,
            "align_self": null,
            "border": null,
            "bottom": null,
            "display": null,
            "flex": null,
            "flex_flow": null,
            "grid_area": null,
            "grid_auto_columns": null,
            "grid_auto_flow": null,
            "grid_auto_rows": null,
            "grid_column": null,
            "grid_gap": null,
            "grid_row": null,
            "grid_template_areas": null,
            "grid_template_columns": null,
            "grid_template_rows": null,
            "height": null,
            "justify_content": null,
            "justify_items": null,
            "left": null,
            "margin": null,
            "max_height": null,
            "max_width": null,
            "min_height": null,
            "min_width": null,
            "object_fit": null,
            "object_position": null,
            "order": null,
            "overflow": null,
            "overflow_x": null,
            "overflow_y": null,
            "padding": null,
            "right": null,
            "top": null,
            "visibility": null,
            "width": null
          }
        },
        "f47e7d354b9048b7a657bd2ef708593e": {
          "model_module": "@jupyter-widgets/base",
          "model_module_version": "1.2.0",
          "model_name": "LayoutModel",
          "state": {
            "_model_module": "@jupyter-widgets/base",
            "_model_module_version": "1.2.0",
            "_model_name": "LayoutModel",
            "_view_count": null,
            "_view_module": "@jupyter-widgets/base",
            "_view_module_version": "1.2.0",
            "_view_name": "LayoutView",
            "align_content": null,
            "align_items": null,
            "align_self": null,
            "border": null,
            "bottom": null,
            "display": null,
            "flex": null,
            "flex_flow": null,
            "grid_area": null,
            "grid_auto_columns": null,
            "grid_auto_flow": null,
            "grid_auto_rows": null,
            "grid_column": null,
            "grid_gap": null,
            "grid_row": null,
            "grid_template_areas": null,
            "grid_template_columns": null,
            "grid_template_rows": null,
            "height": null,
            "justify_content": null,
            "justify_items": null,
            "left": null,
            "margin": null,
            "max_height": null,
            "max_width": null,
            "min_height": null,
            "min_width": null,
            "object_fit": null,
            "object_position": null,
            "order": null,
            "overflow": null,
            "overflow_x": null,
            "overflow_y": null,
            "padding": null,
            "right": null,
            "top": null,
            "visibility": null,
            "width": null
          }
        },
        "fb8328ae751440a68d2758acd6f0531d": {
          "model_module": "@jupyter-widgets/base",
          "model_module_version": "1.2.0",
          "model_name": "LayoutModel",
          "state": {
            "_model_module": "@jupyter-widgets/base",
            "_model_module_version": "1.2.0",
            "_model_name": "LayoutModel",
            "_view_count": null,
            "_view_module": "@jupyter-widgets/base",
            "_view_module_version": "1.2.0",
            "_view_name": "LayoutView",
            "align_content": null,
            "align_items": null,
            "align_self": null,
            "border": null,
            "bottom": null,
            "display": null,
            "flex": null,
            "flex_flow": null,
            "grid_area": null,
            "grid_auto_columns": null,
            "grid_auto_flow": null,
            "grid_auto_rows": null,
            "grid_column": null,
            "grid_gap": null,
            "grid_row": null,
            "grid_template_areas": null,
            "grid_template_columns": null,
            "grid_template_rows": null,
            "height": null,
            "justify_content": null,
            "justify_items": null,
            "left": null,
            "margin": null,
            "max_height": null,
            "max_width": null,
            "min_height": null,
            "min_width": null,
            "object_fit": null,
            "object_position": null,
            "order": null,
            "overflow": null,
            "overflow_x": null,
            "overflow_y": null,
            "padding": null,
            "right": null,
            "top": null,
            "visibility": null,
            "width": null
          }
        },
        "fc8db9ed00044715b46f69a3125718ed": {
          "model_module": "@jupyter-widgets/controls",
          "model_module_version": "1.5.0",
          "model_name": "ProgressStyleModel",
          "state": {
            "_model_module": "@jupyter-widgets/controls",
            "_model_module_version": "1.5.0",
            "_model_name": "ProgressStyleModel",
            "_view_count": null,
            "_view_module": "@jupyter-widgets/base",
            "_view_module_version": "1.2.0",
            "_view_name": "StyleView",
            "bar_color": null,
            "description_width": ""
          }
        },
        "fde70be823934291add1eabd47e8d39b": {
          "model_module": "@jupyter-widgets/base",
          "model_module_version": "1.2.0",
          "model_name": "LayoutModel",
          "state": {
            "_model_module": "@jupyter-widgets/base",
            "_model_module_version": "1.2.0",
            "_model_name": "LayoutModel",
            "_view_count": null,
            "_view_module": "@jupyter-widgets/base",
            "_view_module_version": "1.2.0",
            "_view_name": "LayoutView",
            "align_content": null,
            "align_items": null,
            "align_self": null,
            "border": null,
            "bottom": null,
            "display": null,
            "flex": null,
            "flex_flow": null,
            "grid_area": null,
            "grid_auto_columns": null,
            "grid_auto_flow": null,
            "grid_auto_rows": null,
            "grid_column": null,
            "grid_gap": null,
            "grid_row": null,
            "grid_template_areas": null,
            "grid_template_columns": null,
            "grid_template_rows": null,
            "height": null,
            "justify_content": null,
            "justify_items": null,
            "left": null,
            "margin": null,
            "max_height": null,
            "max_width": null,
            "min_height": null,
            "min_width": null,
            "object_fit": null,
            "object_position": null,
            "order": null,
            "overflow": null,
            "overflow_x": null,
            "overflow_y": null,
            "padding": null,
            "right": null,
            "top": null,
            "visibility": null,
            "width": null
          }
        }
      }
    }
  },
  "nbformat": 4,
  "nbformat_minor": 0
}
