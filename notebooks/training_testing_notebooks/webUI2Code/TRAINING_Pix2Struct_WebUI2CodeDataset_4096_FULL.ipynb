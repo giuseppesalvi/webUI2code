{
  "cells": [
    {
      "cell_type": "markdown",
      "metadata": {
        "id": "xY4KuZUbq83Q"
      },
      "source": [
        "# Finetune Pix2Struct model on WebUI2Code dataset, version 4096"
      ]
    },
    {
      "cell_type": "markdown",
      "metadata": {
        "id": "jT6iC6BDrB9i"
      },
      "source": [
        "## Setup Envirnoment"
      ]
    },
    {
      "cell_type": "code",
      "execution_count": null,
      "metadata": {
        "colab": {
          "base_uri": "https://localhost:8080/"
        },
        "id": "jc7bhkoMEtq3",
        "outputId": "53be6e24-3c12-448a-e9e2-ffae3ddb7641"
      },
      "outputs": [
        {
          "name": "stdout",
          "output_type": "stream",
          "text": [
            "Collecting transformers==4.33.1\n",
            "  Downloading transformers-4.33.1-py3-none-any.whl (7.6 MB)\n",
            "\u001b[2K     \u001b[90m━━━━━━━━━━━━━━━━━━━━━━━━━━━━━━━━━━━━━━━━\u001b[0m \u001b[32m7.6/7.6 MB\u001b[0m \u001b[31m46.3 MB/s\u001b[0m eta \u001b[36m0:00:00\u001b[0m\n",
            "\u001b[?25hRequirement already satisfied: filelock in /usr/local/lib/python3.10/dist-packages (from transformers==4.33.1) (3.12.2)\n",
            "Collecting huggingface-hub<1.0,>=0.15.1 (from transformers==4.33.1)\n",
            "  Downloading huggingface_hub-0.17.3-py3-none-any.whl (295 kB)\n",
            "\u001b[2K     \u001b[90m━━━━━━━━━━━━━━━━━━━━━━━━━━━━━━━━━━━━━━\u001b[0m \u001b[32m295.0/295.0 kB\u001b[0m \u001b[31m31.1 MB/s\u001b[0m eta \u001b[36m0:00:00\u001b[0m\n",
            "\u001b[?25hRequirement already satisfied: numpy>=1.17 in /usr/local/lib/python3.10/dist-packages (from transformers==4.33.1) (1.23.5)\n",
            "Requirement already satisfied: packaging>=20.0 in /usr/local/lib/python3.10/dist-packages (from transformers==4.33.1) (23.1)\n",
            "Requirement already satisfied: pyyaml>=5.1 in /usr/local/lib/python3.10/dist-packages (from transformers==4.33.1) (6.0.1)\n",
            "Requirement already satisfied: regex!=2019.12.17 in /usr/local/lib/python3.10/dist-packages (from transformers==4.33.1) (2023.6.3)\n",
            "Requirement already satisfied: requests in /usr/local/lib/python3.10/dist-packages (from transformers==4.33.1) (2.31.0)\n",
            "Collecting tokenizers!=0.11.3,<0.14,>=0.11.1 (from transformers==4.33.1)\n",
            "  Downloading tokenizers-0.13.3-cp310-cp310-manylinux_2_17_x86_64.manylinux2014_x86_64.whl (7.8 MB)\n",
            "\u001b[2K     \u001b[90m━━━━━━━━━━━━━━━━━━━━━━━━━━━━━━━━━━━━━━━━\u001b[0m \u001b[32m7.8/7.8 MB\u001b[0m \u001b[31m107.9 MB/s\u001b[0m eta \u001b[36m0:00:00\u001b[0m\n",
            "\u001b[?25hCollecting safetensors>=0.3.1 (from transformers==4.33.1)\n",
            "  Downloading safetensors-0.3.3-cp310-cp310-manylinux_2_17_x86_64.manylinux2014_x86_64.whl (1.3 MB)\n",
            "\u001b[2K     \u001b[90m━━━━━━━━━━━━━━━━━━━━━━━━━━━━━━━━━━━━━━━━\u001b[0m \u001b[32m1.3/1.3 MB\u001b[0m \u001b[31m80.4 MB/s\u001b[0m eta \u001b[36m0:00:00\u001b[0m\n",
            "\u001b[?25hRequirement already satisfied: tqdm>=4.27 in /usr/local/lib/python3.10/dist-packages (from transformers==4.33.1) (4.66.1)\n",
            "Requirement already satisfied: fsspec in /usr/local/lib/python3.10/dist-packages (from huggingface-hub<1.0,>=0.15.1->transformers==4.33.1) (2023.6.0)\n",
            "Requirement already satisfied: typing-extensions>=3.7.4.3 in /usr/local/lib/python3.10/dist-packages (from huggingface-hub<1.0,>=0.15.1->transformers==4.33.1) (4.5.0)\n",
            "Requirement already satisfied: charset-normalizer<4,>=2 in /usr/local/lib/python3.10/dist-packages (from requests->transformers==4.33.1) (3.2.0)\n",
            "Requirement already satisfied: idna<4,>=2.5 in /usr/local/lib/python3.10/dist-packages (from requests->transformers==4.33.1) (3.4)\n",
            "Requirement already satisfied: urllib3<3,>=1.21.1 in /usr/local/lib/python3.10/dist-packages (from requests->transformers==4.33.1) (2.0.4)\n",
            "Requirement already satisfied: certifi>=2017.4.17 in /usr/local/lib/python3.10/dist-packages (from requests->transformers==4.33.1) (2023.7.22)\n",
            "Installing collected packages: tokenizers, safetensors, huggingface-hub, transformers\n",
            "Successfully installed huggingface-hub-0.17.3 safetensors-0.3.3 tokenizers-0.13.3 transformers-4.33.1\n"
          ]
        }
      ],
      "source": [
        "!pip install transformers==4.33.1"
      ]
    },
    {
      "cell_type": "code",
      "execution_count": null,
      "metadata": {
        "colab": {
          "base_uri": "https://localhost:8080/"
        },
        "id": "901j04acrHxe",
        "outputId": "8647130b-9506-4ea8-9894-de138a6aa3dc"
      },
      "outputs": [
        {
          "name": "stdout",
          "output_type": "stream",
          "text": [
            "\u001b[2K     \u001b[90m━━━━━━━━━━━━━━━━━━━━━━━━━━━━━━━━━━━━━━━━\u001b[0m \u001b[32m2.1/2.1 MB\u001b[0m \u001b[31m22.5 MB/s\u001b[0m eta \u001b[36m0:00:00\u001b[0m\n",
            "\u001b[2K     \u001b[90m━━━━━━━━━━━━━━━━━━━━━━━━━━━━━━━━━━━━━━\u001b[0m \u001b[32m190.0/190.0 kB\u001b[0m \u001b[31m24.2 MB/s\u001b[0m eta \u001b[36m0:00:00\u001b[0m\n",
            "\u001b[2K     \u001b[90m━━━━━━━━━━━━━━━━━━━━━━━━━━━━━━━━━━━━━━\u001b[0m \u001b[32m224.8/224.8 kB\u001b[0m \u001b[31m25.6 MB/s\u001b[0m eta \u001b[36m0:00:00\u001b[0m\n",
            "\u001b[?25h  Preparing metadata (setup.py) ... \u001b[?25l\u001b[?25hdone\n",
            "\u001b[2K     \u001b[90m━━━━━━━━━━━━━━━━━━━━━━━━━━━━━━━━━━━━━━━━\u001b[0m \u001b[32m62.7/62.7 kB\u001b[0m \u001b[31m8.6 MB/s\u001b[0m eta \u001b[36m0:00:00\u001b[0m\n",
            "\u001b[?25h  Building wheel for pathtools (setup.py) ... \u001b[?25l\u001b[?25hdone\n"
          ]
        }
      ],
      "source": [
        "!pip install -q wandb"
      ]
    },
    {
      "cell_type": "markdown",
      "metadata": {
        "id": "pGk1Y2ea-3vS"
      },
      "source": [
        "## Import necessary libraries"
      ]
    },
    {
      "cell_type": "code",
      "execution_count": null,
      "metadata": {
        "id": "9qulzbyd-1GC"
      },
      "outputs": [],
      "source": [
        "from google.colab import drive\n",
        "import os\n",
        "import zipfile\n",
        "from torch.utils.data import Dataset, DataLoader\n",
        "from torchvision import transforms\n",
        "from PIL import Image\n",
        "import re\n",
        "from transformers import Pix2StructForConditionalGeneration, AutoProcessor\n",
        "import torch\n",
        "from torch.nn import functional as F\n",
        "from transformers.optimization import Adafactor, get_cosine_schedule_with_warmup\n",
        "from pathlib import Path\n",
        "from nltk import edit_distance\n",
        "import numpy as np\n",
        "import wandb\n",
        "from tqdm import tqdm\n",
        "from nltk.translate.bleu_score import corpus_bleu, sentence_bleu, SmoothingFunction\n",
        "from torch.utils.data import random_split\n",
        "import random\n",
        "import json"
      ]
    },
    {
      "cell_type": "markdown",
      "metadata": {
        "id": "rZ3TJ2yzBAs0"
      },
      "source": [
        "## Define variables and parameters"
      ]
    },
    {
      "cell_type": "code",
      "execution_count": null,
      "metadata": {
        "id": "Rrjr3uhaBDqp"
      },
      "outputs": [],
      "source": [
        "G_DRIVE_FOLDER = '/content/drive/MyDrive/Datasets/'\n",
        "G_DRIVE_FOLDER_CHECKPOINTS = '/content/drive/MyDrive/Checkpoints/'\n",
        "DATASET_NAME = 'WebUI2Code_4096_preprocessed'\n",
        "ZIP_NAME = DATASET_NAME + '.zip'\n",
        "\n",
        "DESTINATION_FOLDER= '/content/data/'\n",
        "DATASET_FOLDER = DESTINATION_FOLDER + DATASET_NAME + \"/\"\n",
        "\n",
        "EXPERIMENT_NAME = \"Pix2Struct_WebUI2Code_Complete_4096_FULL\"\n",
        "\n",
        "MAX_SENTENCE_LEN = 4096\n",
        "\n",
        "CHUNK_LENGTH =  1024\n",
        "CONTEXT_OVERLAP_LENGTH = 256\n",
        "\n",
        "MAX_PATCHES = 1024\n",
        "\n",
        "DEBUG = False\n",
        "VERBOSE = True\n",
        "\n",
        "BATCH_SIZE = 4\n",
        "NUM_WARMUP_STEPS = 2000\n",
        "MAX_EPOCHS = 10\n",
        "LR = 1e-4\n",
        "CHECK_VAL_EVERY_N_EPOCH = 5\n",
        "GRADIENT_CLIP_VAL = 1.0\n",
        "ACCUMULATE_GRAD_BATCHES = 8 / BATCH_SIZE\n",
        "\n",
        "TRAIN_SET_PERCENTAGE = 0.896\n",
        "VALID_SET_PERCENTAGE = 0.004 # Use around 10 samples for validation\n",
        "# TEST_SET_PERCENTAGE is 1 - TRAIN_SET_PERCENTAGE - VALID_SET_PERCENTAGE # Use 10% for test\n",
        "\n",
        "RANDOM_SEED = 100\n",
        "\n",
        "# Start from last checkpoint of experiment on SynthBootsrapDataset\n",
        "LOAD_FROM_CHECKPOINT = False\n",
        "LAST_CHECKPOINT_NAME = \"\""
      ]
    },
    {
      "cell_type": "code",
      "execution_count": null,
      "metadata": {
        "id": "UVN0Pk4IuVYN"
      },
      "outputs": [],
      "source": [
        "DEVICE = torch.device('cuda' if torch.cuda.is_available() else 'cpu')"
      ]
    },
    {
      "cell_type": "code",
      "execution_count": null,
      "metadata": {
        "colab": {
          "base_uri": "https://localhost:8080/"
        },
        "id": "sKC06Ai1Xhcl",
        "outputId": "c9dc33ae-0363-4954-eb69-014434cfbd32"
      },
      "outputs": [
        {
          "name": "stdout",
          "output_type": "stream",
          "text": [
            "MAX_N_CHUNKS_PER_SENTENCE 5\n"
          ]
        }
      ],
      "source": [
        "MAX_N_CHUNKS_PER_SENTENCE = 1 + (MAX_SENTENCE_LEN - CHUNK_LENGTH) // (CHUNK_LENGTH - CONTEXT_OVERLAP_LENGTH)\n",
        "print(\"MAX_N_CHUNKS_PER_SENTENCE\", MAX_N_CHUNKS_PER_SENTENCE)"
      ]
    },
    {
      "cell_type": "markdown",
      "metadata": {
        "id": "kflo6stPSGhT"
      },
      "source": [
        "\n",
        "## Load WebUI2Code Dataset"
      ]
    },
    {
      "cell_type": "markdown",
      "metadata": {
        "id": "tq4WHje5RJ9u"
      },
      "source": [
        "### Mount Google Drive"
      ]
    },
    {
      "cell_type": "code",
      "execution_count": null,
      "metadata": {
        "colab": {
          "base_uri": "https://localhost:8080/"
        },
        "id": "uGqbLAK6RJ9x",
        "outputId": "f53109b1-ac0e-490e-960e-ac971d8172e4"
      },
      "outputs": [
        {
          "name": "stdout",
          "output_type": "stream",
          "text": [
            "Mounted at /content/drive\n"
          ]
        }
      ],
      "source": [
        "drive.mount('/content/drive')"
      ]
    },
    {
      "cell_type": "markdown",
      "metadata": {
        "id": "R-TqChHhSYgz"
      },
      "source": [
        "### Import zip file from Google Drive"
      ]
    },
    {
      "cell_type": "code",
      "execution_count": null,
      "metadata": {
        "id": "Ju1BprKCVbvg"
      },
      "outputs": [],
      "source": [
        "os.makedirs(DESTINATION_FOLDER, exist_ok=True)\n",
        "\n",
        "with zipfile.ZipFile(G_DRIVE_FOLDER + ZIP_NAME, \"r\") as zf:\n",
        "    zf.extractall(DESTINATION_FOLDER)"
      ]
    },
    {
      "cell_type": "markdown",
      "metadata": {
        "id": "ibNV0bxIsT3A"
      },
      "source": []
    },
    {
      "cell_type": "markdown",
      "metadata": {
        "id": "XIyXwQultNqy"
      },
      "source": [
        "## Load Model and Processor"
      ]
    },
    {
      "cell_type": "code",
      "execution_count": null,
      "metadata": {
        "colab": {
          "base_uri": "https://localhost:8080/",
          "height": 241,
          "referenced_widgets": [
            "5897daeab3f9459e95d1dd9656b3fec4",
            "dfabf7f02f394b67a87febcbacdbeab3",
            "ce903cc02e3640aa9323e74387d8235b",
            "8d940cacc8694462816ac116efc84d0c",
            "261403b1c6c9425ea6c517648038064d",
            "0da6a786e18843c6a995f778a8c42c08",
            "cf940b4663984dfa8dfa3387354a27a8",
            "2761a3b7cb8d43ef8a73ea10f697d215",
            "f4d04a564a7c413da55e074d87c86d59",
            "73c97afe7761479f8abdeb76115a6093",
            "5e9f1dcfd8714beea2f503716d4faf98",
            "b69e906f96b441d29aa2e66c3645f6cb",
            "7ff0cc3a547e4a3688a79095a6828c0c",
            "4ab9fafb843f422d8abd8a7b669060f0",
            "a2ca7ba98b23411dbb3c7bcc1ceed443",
            "86b736e0fe224c0e8e05ec7a53ab4d8f",
            "d004d65a827749ad925af650a2f0b200",
            "d8a1b37a914d4baba10f999fb8e750ac",
            "4d7b9bd154114e55bf83b7c94842193b",
            "5dfc4dff5533471b90c2690fe38beb92",
            "5bca828406604bd4bba5a45bf6061491",
            "170edd58221343f78db1c148794b4232",
            "47d74811e90c46f6b5a7e843021ef2db",
            "0a08c2188cc140b9bf8c753bf9b4ddd9",
            "bc91cabb909e44fb864435f23a13802e",
            "a582c1a345c44a258987f934a2ca0103",
            "bffb0d0c9bea488f877ee55e0c0f5788",
            "495848e0e8244df9a6e0d403d7563a62",
            "763b486d5088418fac3c7c3d1f9968fd",
            "c9d8e521fd5e433a84cb7624ec177800",
            "0c66fd6444ed4aec9511d6bb97933b33",
            "1e6f8f9e7f614a138aaaa1d87ef2d0c7",
            "7d3190ef02bf4a428b11c2ebfa8aa02c",
            "c46bba8361384a59ba27fdcf3a5581cb",
            "5580ef43a68748e6bdf7b00555be9ec1",
            "023a1bf654a143d89162e69db8cf88e1",
            "d8efec3a95e242daa418d9a42ea4a861",
            "e8ff054b0433462a9d061dc57854bc9f",
            "34c0c9a3c722433eb04cc9f97c161ab0",
            "73cd6e6d093b40e6a88d9c47b6f3f32b",
            "0215e5e3a2354510be27266227803b24",
            "5c0fa36900a3492a9789c4be383e3b9b",
            "223c830e047641f5bd4e1d5a3b6185c1",
            "1ce79ace9d0e46169ddc4e67cebbd94d",
            "7f78f1fcd12c43268c7f58a16d1a29c0",
            "b6f4dff2ade542378c1903411c659107",
            "b9a4fd0bd07b469aaaf4938af8a8053a",
            "ac85c3ef4ca3455fa8e939f8c90cac5e",
            "a8577e5d66ec4dd4810ecb5a89ad25de",
            "ed6e56c931584c65ade1bc9b05bbdef7",
            "31d7340c7e7249cda5c6f03483b94a8c",
            "0b8fbc394bb64aaaaf8cc9d82ba394ad",
            "4ad91b04d6f44e3086dc21abd3db4901",
            "043b7c4a718c411da0d97d326c6f572e",
            "9ffcd92a1dc547f2b0e25b8f383f8dff",
            "4825f6065cf5488fa706f75f3c62ad48",
            "6892ebb706164fdbbb96883943731009",
            "63c4306ebe9a469cb1b68814de35cfd9",
            "ab83a71782d640e8b2153a9172a82f30",
            "3dccaf4a45d144eb9c2b72844af73150",
            "6e957ae9cfcd4713b2ecb4cea573a409",
            "5d067cbfb1524eee8f1edec7532d4be1",
            "61ab7053ef194b60bcf3a43e765c9c5c",
            "f604b07273f149708d1cb10107b5f2e2",
            "5169212f3b074e2ea92dcc3da1c5ce2f",
            "3eaa4f58b805437fa096cff23136bd23",
            "db3841936c7c4af08e2c9e31db890639",
            "a58bd2af33c644de997d7a05af64fb87",
            "d503ebc69d7041cab00aad00491640a7",
            "1047b12c02af4b5eb35af605b4227e3d",
            "08a2e56f85224833bed8b2dbcc1bbf85",
            "70188b0de2994e69bef65e5be87c2c0d",
            "87d27225c7a24424a4e86edbe92140b9",
            "efd8fb53fc934272ba5b0c609d6d817d",
            "240aa65f023b458799c97be83a1874a3",
            "62c1935b23f94a329d6a89d0c4cdffb2",
            "5b685b6e028d491e97dcb757f383c599"
          ]
        },
        "id": "15QM1CZQtRWr",
        "outputId": "ea8f43f0-e565-41c4-8b60-fbc8b9b1bfa0"
      },
      "outputs": [
        {
          "data": {
            "application/vnd.jupyter.widget-view+json": {
              "model_id": "5897daeab3f9459e95d1dd9656b3fec4",
              "version_major": 2,
              "version_minor": 0
            },
            "text/plain": [
              "Downloading (…)rocessor_config.json:   0%|          | 0.00/231 [00:00<?, ?B/s]"
            ]
          },
          "metadata": {},
          "output_type": "display_data"
        },
        {
          "data": {
            "application/vnd.jupyter.widget-view+json": {
              "model_id": "b69e906f96b441d29aa2e66c3645f6cb",
              "version_major": 2,
              "version_minor": 0
            },
            "text/plain": [
              "Downloading (…)okenizer_config.json:   0%|          | 0.00/2.61k [00:00<?, ?B/s]"
            ]
          },
          "metadata": {},
          "output_type": "display_data"
        },
        {
          "data": {
            "application/vnd.jupyter.widget-view+json": {
              "model_id": "47d74811e90c46f6b5a7e843021ef2db",
              "version_major": 2,
              "version_minor": 0
            },
            "text/plain": [
              "Downloading spiece.model:   0%|          | 0.00/851k [00:00<?, ?B/s]"
            ]
          },
          "metadata": {},
          "output_type": "display_data"
        },
        {
          "data": {
            "application/vnd.jupyter.widget-view+json": {
              "model_id": "c46bba8361384a59ba27fdcf3a5581cb",
              "version_major": 2,
              "version_minor": 0
            },
            "text/plain": [
              "Downloading (…)/main/tokenizer.json:   0%|          | 0.00/3.27M [00:00<?, ?B/s]"
            ]
          },
          "metadata": {},
          "output_type": "display_data"
        },
        {
          "data": {
            "application/vnd.jupyter.widget-view+json": {
              "model_id": "7f78f1fcd12c43268c7f58a16d1a29c0",
              "version_major": 2,
              "version_minor": 0
            },
            "text/plain": [
              "Downloading (…)cial_tokens_map.json:   0%|          | 0.00/2.20k [00:00<?, ?B/s]"
            ]
          },
          "metadata": {},
          "output_type": "display_data"
        },
        {
          "data": {
            "application/vnd.jupyter.widget-view+json": {
              "model_id": "4825f6065cf5488fa706f75f3c62ad48",
              "version_major": 2,
              "version_minor": 0
            },
            "text/plain": [
              "Downloading (…)lve/main/config.json:   0%|          | 0.00/4.92k [00:00<?, ?B/s]"
            ]
          },
          "metadata": {},
          "output_type": "display_data"
        },
        {
          "data": {
            "application/vnd.jupyter.widget-view+json": {
              "model_id": "db3841936c7c4af08e2c9e31db890639",
              "version_major": 2,
              "version_minor": 0
            },
            "text/plain": [
              "Downloading pytorch_model.bin:   0%|          | 0.00/1.13G [00:00<?, ?B/s]"
            ]
          },
          "metadata": {},
          "output_type": "display_data"
        }
      ],
      "source": [
        "repo_id = \"google/pix2struct-base\"\n",
        "\n",
        "processor = AutoProcessor.from_pretrained(repo_id)\n",
        "model = Pix2StructForConditionalGeneration.from_pretrained(repo_id, is_encoder_decoder=True)"
      ]
    },
    {
      "cell_type": "code",
      "execution_count": null,
      "metadata": {
        "id": "pbOXdTmPEbGi"
      },
      "outputs": [],
      "source": [
        "if LOAD_FROM_CHECKPOINT:\n",
        "    print(\"Loading model from checkpoint:\", LAST_CHECKPOINT_NAME)\n",
        "    checkpoint = torch.load(G_DRIVE_FOLDER_CHECKPOINTS + LAST_CHECKPOINT_NAME)\n",
        "\n",
        "    # Load only model weights from training on synth bootstrap dataset\n",
        "    model.load_state_dict(checkpoint[\"model_state_dict\"])\n"
      ]
    },
    {
      "cell_type": "markdown",
      "metadata": {
        "id": "8vyJVirgV8VN"
      },
      "source": [
        "## Create Dataset class"
      ]
    },
    {
      "cell_type": "markdown",
      "metadata": {
        "id": "pxls5fsNDAXL"
      },
      "source": [
        "### Find max sentence length and new unknown tokens"
      ]
    },
    {
      "cell_type": "code",
      "execution_count": null,
      "metadata": {
        "id": "f1Q8943LSO-b"
      },
      "outputs": [],
      "source": [
        "all_paths = [path.replace(\".png\", \"\") for path in os.listdir(DATASET_FOLDER) if path.endswith(\".png\")]"
      ]
    },
    {
      "cell_type": "code",
      "execution_count": null,
      "metadata": {
        "colab": {
          "base_uri": "https://localhost:8080/"
        },
        "id": "ZqMid-_0CXay",
        "outputId": "155a54d2-f2ae-4c4a-9824-0d22807b20b5"
      },
      "outputs": [
        {
          "data": {
            "text/plain": [
              "2322"
            ]
          },
          "execution_count": 12,
          "metadata": {},
          "output_type": "execute_result"
        }
      ],
      "source": [
        "len(all_paths)"
      ]
    },
    {
      "cell_type": "code",
      "execution_count": null,
      "metadata": {
        "colab": {
          "base_uri": "https://localhost:8080/"
        },
        "id": "YEhd7D32SZrf",
        "outputId": "5da46e29-004b-48d5-e0ab-56c47c913308"
      },
      "outputs": [
        {
          "name": "stdout",
          "output_type": "stream",
          "text": [
            "Max sentence length = 4092\n",
            "Number of new tokens = 101\n"
          ]
        }
      ],
      "source": [
        "# Find max length\n",
        "max_length = 0\n",
        "paths_filtered = []\n",
        "\n",
        "# Read text files and add new tokens to dictionary\n",
        "tokens_to_add = set()\n",
        "for path in all_paths:\n",
        "    with open(DATASET_FOLDER + path + \".txt\", \"r\") as reader:\n",
        "        splitted_text = processor.tokenizer(reader.read()).tokens()\n",
        "\n",
        "        # Check if the current sentence has the largest number of tokens\n",
        "        if len(splitted_text) > max_length:\n",
        "            max_length = len(splitted_text)\n",
        "\n",
        "        if len(splitted_text) <= MAX_SENTENCE_LEN:\n",
        "            paths_filtered.append(path)\n",
        "            tokens_to_add = tokens_to_add.union(set(splitted_text))\n",
        "\n",
        "print(f\"Max sentence length = {max_length}\")\n",
        "\n",
        "newly_added_num = processor.tokenizer.add_tokens(list(tokens_to_add))\n",
        "print(f\"Number of new tokens = {newly_added_num}\")\n",
        "\n",
        "# Resize the model's token embeddings if there are new tokens\n",
        "if newly_added_num > 0:\n",
        "    model.decoder.resize_token_embeddings(len(processor.tokenizer), pad_to_multiple_of=8)"
      ]
    },
    {
      "cell_type": "code",
      "execution_count": null,
      "metadata": {
        "id": "UQXnqCIGpfFu"
      },
      "outputs": [],
      "source": [
        "# Keep only the samples with number of tokens lower than Max Sentence Length\n",
        "all_paths = paths_filtered"
      ]
    },
    {
      "cell_type": "code",
      "execution_count": null,
      "metadata": {
        "colab": {
          "base_uri": "https://localhost:8080/"
        },
        "id": "0n9_vcTdpjtT",
        "outputId": "2041ba06-c58d-4cf6-cfd3-25657454f17f"
      },
      "outputs": [
        {
          "name": "stdout",
          "output_type": "stream",
          "text": [
            "2322\n"
          ]
        }
      ],
      "source": [
        "print(len(all_paths))"
      ]
    },
    {
      "cell_type": "markdown",
      "metadata": {
        "id": "SfKTQ5aMPtfN"
      },
      "source": [
        "### Split files into training - validation - test sets"
      ]
    },
    {
      "cell_type": "code",
      "execution_count": null,
      "metadata": {
        "colab": {
          "base_uri": "https://localhost:8080/"
        },
        "id": "FJJvSGk00jfL",
        "outputId": "a5e47296-65e5-4980-a073-7a19bd78735d"
      },
      "outputs": [
        {
          "name": "stdout",
          "output_type": "stream",
          "text": [
            "TRAIN_SET size = 2080\n",
            "VALID_SET size = 9\n",
            "TEST_SET size = 233\n"
          ]
        }
      ],
      "source": [
        "random.seed(RANDOM_SEED)\n",
        "\n",
        "# Use the same seed, so that parts remain the same\n",
        "random.shuffle(all_paths)\n",
        "\n",
        "train_len = int(TRAIN_SET_PERCENTAGE * len(all_paths))\n",
        "valid_len = int(VALID_SET_PERCENTAGE * len(all_paths))\n",
        "\n",
        "train_paths = all_paths[:train_len]\n",
        "valid_paths = all_paths[train_len:train_len+valid_len]\n",
        "test_paths = all_paths[train_len+valid_len:]\n",
        "\n",
        "print(f\"TRAIN_SET size = {len(train_paths)}\")\n",
        "print(f\"VALID_SET size = {len(valid_paths)}\")\n",
        "print(f\"TEST_SET size = {len(test_paths)}\")"
      ]
    },
    {
      "cell_type": "code",
      "execution_count": null,
      "metadata": {
        "id": "EiExjyGE1cla"
      },
      "outputs": [],
      "source": [
        "class WebUI2CodeTrainingDataset(Dataset):\n",
        "    # This is a modification of the dataset used for validation and testing\n",
        "    # In this one the sentences are already split into chunks, already having\n",
        "    # the context from the previous chunk, empty chunks are discarded\n",
        "    def __init__(self, root_dir, transform, paths):\n",
        "\n",
        "        self.root_dir = root_dir\n",
        "        self.transform = transform\n",
        "        self.paths = paths\n",
        "\n",
        "        self.max_patches = MAX_PATCHES\n",
        "        self.max_length = MAX_SENTENCE_LEN\n",
        "        self.ignore_id = -100\n",
        "\n",
        "        self.data = []\n",
        "        self.images_encoding = []\n",
        "\n",
        "        for path in tqdm(paths):\n",
        "            # Directly process the text files, and save them in the ram\n",
        "            # Do the same also for images, if there is enough space in memory\n",
        "            text_file_path = os.path.join(root_dir, path + \".txt\")\n",
        "            image_file_path = os.path.join(root_dir , path + \".png\")\n",
        "\n",
        "            # Each data entry has the following structure\n",
        "            # labels, image_encoding_idx, part\n",
        "\n",
        "            # image_encoding_idx points to an entry of images_encoding, which contains attention_mask and flattened_patches for the image\n",
        "            # Since a single image is used for multiple slices of the same text, this approach is used to save memory\n",
        "\n",
        "            # Load image\n",
        "            image = Image.open(image_file_path).convert('RGB')\n",
        "\n",
        "            if DEBUG:\n",
        "                image.show()\n",
        "\n",
        "            if self.transform:\n",
        "                image = self.transform(image)\n",
        "\n",
        "            encoding = processor(images=image, max_patches=self.max_patches, return_tensors=\"pt\")\n",
        "            encoding = {k:v.squeeze() for k,v in encoding.items()}\n",
        "\n",
        "            self.images_encoding.append(encoding)\n",
        "            image_encoding_idx = len(self.images_encoding) - 1\n",
        "\n",
        "            # Load text\n",
        "            with open(text_file_path, 'r') as f:\n",
        "                text = f.read()\n",
        "\n",
        "            if DEBUG:\n",
        "              print(\"text:\")\n",
        "              print(text)\n",
        "\n",
        "            input_ids = processor.tokenizer(\n",
        "                text,\n",
        "                max_length=self.max_length,\n",
        "                padding=\"max_length\",\n",
        "                truncation=True,\n",
        "                return_tensors=\"pt\",\n",
        "            ).input_ids\n",
        "\n",
        "            input_ids_slices = []\n",
        "\n",
        "            start_index = 0\n",
        "            end_index = CHUNK_LENGTH\n",
        "            while end_index <= MAX_SENTENCE_LEN:\n",
        "                input_ids_slices.append(input_ids[:, start_index:end_index])\n",
        "                start_index = end_index - CONTEXT_OVERLAP_LENGTH\n",
        "                end_index = start_index + CHUNK_LENGTH\n",
        "\n",
        "            for part, input_ids_slice in enumerate(input_ids_slices):\n",
        "                labels = input_ids_slice.squeeze().clone()\n",
        "\n",
        "                labels[labels == processor.tokenizer.pad_token_id] = self.ignore_id  # model doesn't need to predict pad token\n",
        "\n",
        "                # Skip slices with only padding tokens, ignore context from the previous chunk\n",
        "                if part != 0 and all(x == self.ignore_id for x in labels[CONTEXT_OVERLAP_LENGTH:]):\n",
        "                    continue\n",
        "\n",
        "                # labels, image_encoding_idx, part\n",
        "                # Save them as int32 to save ram memory\n",
        "                self.data.append((labels.to(torch.int32), image_encoding_idx, part))\n",
        "\n",
        "    def __len__(self):\n",
        "        return len(self.data)\n",
        "\n",
        "    def __getitem__(self, idx):\n",
        "        labels, image_encoding_idx, part = self.data[idx]\n",
        "        encoding = self.images_encoding[image_encoding_idx]\n",
        "        encoding[\"labels\"] = labels.to(torch.int64)\n",
        "\n",
        "        return encoding, part"
      ]
    },
    {
      "cell_type": "code",
      "execution_count": null,
      "metadata": {
        "id": "oMC2-OYYWB75"
      },
      "outputs": [],
      "source": [
        "class WebUI2CodeDataset(Dataset):\n",
        "    def __init__(self, root_dir, transform, paths):\n",
        "\n",
        "        self.root_dir = root_dir\n",
        "        self.transform = transform\n",
        "        self.paths = paths\n",
        "\n",
        "        self.max_patches = MAX_PATCHES\n",
        "        self.max_length = MAX_SENTENCE_LEN\n",
        "        self.ignore_id = -100\n",
        "\n",
        "        self.encodings = []\n",
        "\n",
        "        for path in tqdm(paths):\n",
        "            # Directly process the text files, and save them in the ram\n",
        "            # Do the same also for images, if there is enough space in memory\n",
        "            text_file_path = os.path.join(root_dir + path + \".txt\")\n",
        "            image_file_path = os.path.join(root_dir + path + \".png\")\n",
        "\n",
        "            # Load image\n",
        "            image = Image.open(image_file_path).convert('RGB')\n",
        "\n",
        "            if DEBUG:\n",
        "                image.show()\n",
        "\n",
        "            if self.transform:\n",
        "                image = self.transform(image)\n",
        "\n",
        "            encoding = processor(images=image, max_patches=self.max_patches, return_tensors=\"pt\")\n",
        "            encoding = {k:v.squeeze() for k,v in encoding.items()}\n",
        "\n",
        "            # Load text\n",
        "            with open(text_file_path, 'r') as f:\n",
        "                text = f.read()\n",
        "\n",
        "            if DEBUG:\n",
        "              print(\"text:\")\n",
        "              print(text)\n",
        "\n",
        "            input_ids = processor.tokenizer(\n",
        "                text,\n",
        "                max_length=self.max_length,\n",
        "                padding=\"max_length\",\n",
        "                truncation=True,\n",
        "                return_tensors=\"pt\",\n",
        "            ).input_ids\n",
        "\n",
        "            labels = input_ids.squeeze().clone()\n",
        "            labels[labels == processor.tokenizer.pad_token_id] = self.ignore_id  # model doesn't need to predict pad token\n",
        "\n",
        "            encoding[\"labels\"] = labels.to(torch.int32)\n",
        "\n",
        "            # For each sample save directly the encoding of both text and image\n",
        "            self.encodings.append(encoding)\n",
        "\n",
        "    def __len__(self):\n",
        "        return len(self.encodings)\n",
        "\n",
        "    def __getitem__(self, idx):\n",
        "        return self.encodings[idx]"
      ]
    },
    {
      "cell_type": "code",
      "execution_count": null,
      "metadata": {
        "colab": {
          "base_uri": "https://localhost:8080/"
        },
        "id": "WulOgKwb1aNh",
        "outputId": "70a999d9-40b4-4bb3-a2ab-74fbaba6a20e"
      },
      "outputs": [
        {
          "name": "stderr",
          "output_type": "stream",
          "text": [
            "100%|██████████| 2080/2080 [03:57<00:00,  8.76it/s]\n",
            "100%|██████████| 9/9 [00:01<00:00,  8.62it/s]\n"
          ]
        }
      ],
      "source": [
        "# Transformations for the image\n",
        "transform = transforms.Compose([\n",
        "    transforms.ToTensor(),  # convert PIL Image to PyTorch Tensor\n",
        "    transforms.Normalize(mean=[0.485, 0.456, 0.406], std=[0.229, 0.224, 0.225]),  # normalize for pretrained models\n",
        "])\n",
        "\n",
        "# Instantiate the CustomDataset\n",
        "train_dataset = WebUI2CodeTrainingDataset(DATASET_FOLDER, transform, train_paths)\n",
        "val_dataset = WebUI2CodeDataset(DATASET_FOLDER, transform, valid_paths)\n",
        "\n",
        "# Use DataLoader for batching and shuffling\n",
        "train_dataloader = DataLoader(train_dataset, batch_size=BATCH_SIZE, shuffle=True)\n",
        "val_dataloader = DataLoader(val_dataset, batch_size=10, shuffle=False) # Use 10 as batch for testing since they are lighter"
      ]
    },
    {
      "cell_type": "code",
      "execution_count": null,
      "metadata": {
        "colab": {
          "base_uri": "https://localhost:8080/"
        },
        "id": "RJbcAvt2eSvb",
        "outputId": "6e2f9be6-fe00-4152-c6e9-2593b3d3c1d9"
      },
      "outputs": [
        {
          "name": "stdout",
          "output_type": "stream",
          "text": [
            "train_dataloader size = 1888\n",
            "val_dataloader size = 1\n"
          ]
        }
      ],
      "source": [
        "print(f\"train_dataloader size = {len(train_dataloader)}\")\n",
        "print(f\"val_dataloader size = {len(val_dataloader)}\")"
      ]
    },
    {
      "cell_type": "code",
      "execution_count": null,
      "metadata": {
        "id": "PqriagijAJPV"
      },
      "outputs": [],
      "source": [
        "batch = next(iter(train_dataloader))"
      ]
    },
    {
      "cell_type": "code",
      "execution_count": null,
      "metadata": {
        "id": "weky0ZtQALky"
      },
      "outputs": [],
      "source": [
        "encoding, part = batch"
      ]
    },
    {
      "cell_type": "code",
      "execution_count": null,
      "metadata": {
        "colab": {
          "base_uri": "https://localhost:8080/"
        },
        "id": "2zjLcfjQDQYg",
        "outputId": "94a4df5f-cb4b-456a-89e6-c0ead1377f8b"
      },
      "outputs": [
        {
          "data": {
            "text/plain": [
              "tensor([[  512,   283,   273,  ...,   292,   278,   278],\n",
              "        [  282,   286,  1134,  ...,   450,   324,  5694],\n",
              "        [  288,  4568,   288,  ...,  2796,   305,  1948],\n",
              "        [  316,   314,   275,  ...,   278, 11921,   612]])"
            ]
          },
          "execution_count": 23,
          "metadata": {},
          "output_type": "execute_result"
        }
      ],
      "source": [
        "encoding[\"labels\"]"
      ]
    },
    {
      "cell_type": "code",
      "execution_count": null,
      "metadata": {
        "id": "5LzfjsX_qs5u"
      },
      "outputs": [],
      "source": [
        "labels_list = encoding[\"labels\"][0].tolist()\n",
        "\n",
        "# Filter out the -100 values\n",
        "filtered_labels = [token for token in labels_list if token != -100]\n",
        "\n",
        "# Decode the cleaned list of tokens\n",
        "decoded_text_example = processor.tokenizer.batch_decode([filtered_labels], skip_special_tokens=True)[0]\n"
      ]
    },
    {
      "cell_type": "code",
      "execution_count": null,
      "metadata": {
        "colab": {
          "base_uri": "https://localhost:8080/",
          "height": 214
        },
        "id": "_nFDTn-XrQWl",
        "outputId": "3f84a77f-959c-40fc-a598-a97cba5d17d1"
      },
      "outputs": [
        {
          "data": {
            "application/vnd.google.colaboratory.intrinsic+json": {
              "type": "string"
            },
            "text/plain": [
              "'} a img { border: none; }.image { display: inline-block; }.image img { display: block; width: 100%; }.image-full { display: block; width: 100%; margin: 0 0 2em 0; }.button-style { display: inline-block; margin-top: 20px; padding: 10px 20px; background: #99CCBB; border: 1px solid #8EBEAE; text-align: center; text-decoration: none; font-size: 1em; font-weight: 400; color: #FFF!important; }.button-style a { text-decoration: none; color: #FFF!important; } ul.style3 { margin: 0; padding: 0; overflow: hidden; list-style: none; color: #6c6c6c } ul.style3 li { padding: 0px 0px 5px 0px; margin: 0 0 1em 0; } ul.style3 p { margin: 0; } ul.style3 a { display: block; text-decoration: none; color: #6c6c6c; } ul.style3 h3 { padding: 8px 0em 5px 0em; font-size: 1.1em; font-weight: 700; color: #606060; } ul.style3.first { padding-top: 0px; background: none; } ul.style3.date { float: left; position: relative; width: 60px; height: 54px; margin: 0em 1.5em 0em 0em; padding: 8px 0em 0em 0em; background: #99CCBB; border: 1px solid #8EBEAE; text-align: center; font-size: 1em; font-weight: 400; color: #FFF; } ul.style3.date b { margin: 0; padding: 0; display: block; margin-top: -5px; font-size: 1.8em; font-weight: 700; color: #FFFFFF; } ul.style3.date a { color: #FFFFFF!important; } ul.style5 { margin: 0; padding: 0; list-style: none; } ul.style5 li { clear: both; border-top: 1px solid #8EBEAE; } ul.style5 span { padding: 1em 0em; } ul.style5.address { float: left; width: 80px; display: inline-block; font-weight: 600; } ul.style5.address-01 { float: left; display: inline-block; } ul.style5.mail { float: left; width: 80px; display: inline-block; font-weight: 600; } ul.style5.mail-01 { display: inline-block; } ul.style5.phone { float: left; width: 80px; display: inline-block; font-weight: 600; } ul.style5.phone-01 { float: left; display: inline-block; } ul.style5.first { padding-top: 0em!important!; border-top: none; } #wrapper-bg { overflow: hidden; background: url(ref.placeholder) repeat; } #wrapper { margin-top: 30px; padding-bottom: 50px; background: #FFF; }.container { width: 1200px; margin: 0px auto; } #header { overflow: hidden; border-bottom: 1px solid #E7E7E7; } #logo { float: left; width: 300; } #logo h1 a { display: block; text-decoration: none; font-family: \"Archivo Narrow\", sans-serif; font-size: 1.3em; color: #3E3E3E; } #logo span { color: #8EBEAE; } #menu { float: right; width: 900'"
            ]
          },
          "execution_count": 25,
          "metadata": {},
          "output_type": "execute_result"
        }
      ],
      "source": [
        "decoded_text_example"
      ]
    },
    {
      "cell_type": "markdown",
      "metadata": {
        "id": "g7DngCr1FJQJ"
      },
      "source": [
        "## Training"
      ]
    },
    {
      "cell_type": "code",
      "execution_count": null,
      "metadata": {
        "id": "zkCJQz_GEM4W"
      },
      "outputs": [],
      "source": [
        "START_TOKEN_ID = PAD_TOKEN_ID = processor.tokenizer.pad_token_id"
      ]
    },
    {
      "cell_type": "markdown",
      "metadata": {
        "id": "fWSsn0vr1mV2"
      },
      "source": [
        "### Utility functions"
      ]
    },
    {
      "cell_type": "code",
      "execution_count": null,
      "metadata": {
        "id": "mq6Y22hDqn3x"
      },
      "outputs": [],
      "source": [
        "def move_to_device(data):\n",
        "    if isinstance(data, (list,tuple)):\n",
        "        return [move_to_device(x) for x in data]\n",
        "    elif isinstance(data, dict):\n",
        "        return {k: move_to_device(v) for k, v in data.items()}\n",
        "    elif isinstance(data, torch.Tensor):\n",
        "        return data.to(DEVICE)\n",
        "    else:\n",
        "        return data"
      ]
    },
    {
      "cell_type": "code",
      "execution_count": null,
      "metadata": {
        "id": "JRX7UDLE4Nh8"
      },
      "outputs": [],
      "source": [
        "def create_extended_attention_mask_for_decoder_with_context(input_shape, attention_mask, part):\n",
        "    device = attention_mask.device\n",
        "    batch_size, seq_length = input_shape\n",
        "    seq_ids = torch.arange(seq_length, device=device)\n",
        "\n",
        "    causal_mask = seq_ids[None, None, :].repeat(batch_size, seq_length, 1) <= seq_ids[None, :, None]\n",
        "\n",
        "    # Expand part to have the same shape as the relevant slice of causal_mask\n",
        "    part_expanded = part.unsqueeze(-1).unsqueeze(-1).expand(-1, seq_length, CONTEXT_OVERLAP_LENGTH)\n",
        "\n",
        "    # Create a mask with ones where part is not zero\n",
        "    context_mask = (part_expanded != 0).float()\n",
        "\n",
        "    # Apply the context_mask to the corresponding part of causal_mask\n",
        "    causal_mask[:, :, :CONTEXT_OVERLAP_LENGTH] = causal_mask[:, :, :CONTEXT_OVERLAP_LENGTH] * (1 - context_mask) + context_mask\n",
        "\n",
        "    # in case past_key_values are used we need to add a prefix ones mask to the causal mask\n",
        "    causal_mask = causal_mask.to(attention_mask.dtype)\n",
        "\n",
        "    if causal_mask.shape[1] < attention_mask.shape[1]:\n",
        "        print(\"!!should not enter here in my case!!\")\n",
        "        prefix_seq_len = attention_mask.shape[1] - causal_mask.shape[1]\n",
        "        causal_mask = torch.cat(\n",
        "            [\n",
        "                torch.ones((batch_size, seq_length, prefix_seq_len), device=device, dtype=causal_mask.dtype),\n",
        "                causal_mask,\n",
        "            ],\n",
        "            axis=-1,\n",
        "        )\n",
        "\n",
        "    extended_attention_mask = causal_mask[:, :, :] * attention_mask[:, None, :]\n",
        "    return extended_attention_mask\n"
      ]
    },
    {
      "cell_type": "code",
      "execution_count": null,
      "metadata": {
        "id": "8RMB16MR53fK"
      },
      "outputs": [],
      "source": [
        "def get_attention_mask(decoder_input_ids, part):\n",
        "    decoder_attention_mask = (decoder_input_ids.ne(PAD_TOKEN_ID).float())\n",
        "\n",
        "    # always attend on first token\n",
        "    decoder_attention_mask[:, 0] = 1\n",
        "\n",
        "    # Expand part to have the same shape as the relevant slice of decoder_attention_mask\n",
        "    part_expanded = part.unsqueeze(-1).expand(-1, CONTEXT_OVERLAP_LENGTH)\n",
        "\n",
        "    # Create a mask with ones where part is not zero\n",
        "    context_mask = (part_expanded != 0).float()\n",
        "\n",
        "    # Apply the context_mask to the corresponding part of decoder_attention_mask\n",
        "    decoder_attention_mask[:, 0:CONTEXT_OVERLAP_LENGTH] = decoder_attention_mask[:, 0:CONTEXT_OVERLAP_LENGTH] * (1 - context_mask) + context_mask\n",
        "\n",
        "    return decoder_attention_mask"
      ]
    },
    {
      "cell_type": "code",
      "execution_count": null,
      "metadata": {
        "id": "I4EwQ8iP8a9I"
      },
      "outputs": [],
      "source": [
        "def shift_right_modified(input_ids, decoder_starting_token_idx):\n",
        "\n",
        "    # shift inputs to the right\n",
        "    shifted_input_ids = input_ids.new_zeros(input_ids.shape)\n",
        "    shifted_input_ids[..., 1:] = input_ids[..., :-1].clone()\n",
        "    shifted_input_ids[..., 0] = decoder_starting_token_idx\n",
        "\n",
        "    # replace possible -100 values in labels by `pad_token_id`\n",
        "    shifted_input_ids.masked_fill_(shifted_input_ids == -100, PAD_TOKEN_ID)\n",
        "\n",
        "    return shifted_input_ids"
      ]
    },
    {
      "cell_type": "code",
      "execution_count": null,
      "metadata": {
        "id": "Mvsy0HBseyzQ"
      },
      "outputs": [],
      "source": [
        "def get_decoder_input_ids(labels_chunk, start_id):\n",
        "    return shift_right_modified(labels_chunk, start_id)"
      ]
    },
    {
      "cell_type": "code",
      "execution_count": null,
      "metadata": {
        "id": "2LqZyYsWOywQ"
      },
      "outputs": [],
      "source": [
        "def get_decoder_input_ids_and_attention_mask(labels, part):\n",
        "    decoder_input_ids = get_decoder_input_ids(labels, START_TOKEN_ID)\n",
        "    decoder_attention_mask = get_attention_mask(decoder_input_ids, part)\n",
        "    extended_decoder_attention_mask = create_extended_attention_mask_for_decoder_with_context(decoder_input_ids.shape, decoder_attention_mask, part)\n",
        "\n",
        "    return decoder_input_ids, extended_decoder_attention_mask"
      ]
    },
    {
      "cell_type": "markdown",
      "metadata": {
        "id": "TEt-owxM1puj"
      },
      "source": [
        "### Main training function"
      ]
    },
    {
      "cell_type": "code",
      "execution_count": null,
      "metadata": {
        "id": "1j0_8Yk6Gk4-"
      },
      "outputs": [],
      "source": [
        "def train_model(config, processor, model, train_dataloader, val_dataloader):\n",
        "    # Extract configuration values\n",
        "    lr = config.get(\"lr\")\n",
        "    max_epochs = config.get(\"max_epochs\")\n",
        "    num_warmup_steps = config.get(\"num_warmup_steps\")\n",
        "\n",
        "    model.to(DEVICE)\n",
        "\n",
        "    optimizer = Adafactor(model.parameters(), scale_parameter=False, relative_step=False, lr=lr, weight_decay=1e-05)\n",
        "\n",
        "    # Use total steps (i.e., max_epochs * length_of_train_data)\n",
        "    total_steps = max_epochs * len(train_dataloader)\n",
        "    scheduler = get_cosine_schedule_with_warmup(optimizer,\n",
        "                                                num_warmup_steps=num_warmup_steps,\n",
        "                                                num_training_steps=total_steps)\n",
        "\n",
        "    global_step = 0  # to keep track of total steps\n",
        "    epoch_start = 0\n",
        "\n",
        "    wandb.init(project=\"Pix2Struct\", name=\"run-\" + EXPERIMENT_NAME, config=config)\n",
        "\n",
        "    #epoch_last = epoch_start + max_epochs - 1\n",
        "    epoch_last = max_epochs - 1\n",
        "    #for epoch in range(epoch_start, epoch_start + max_epochs):\n",
        "    for epoch in range(epoch_start, max_epochs):\n",
        "        global_step, moving_avg_loss = training_loop(epoch, train_dataloader, model, config, optimizer, scheduler, global_step, epoch_last)\n",
        "\n",
        "        if config.get(\"verbose\", False):\n",
        "            print(f\"Moving Avg Loss: {moving_avg_loss:.3f}\")\n",
        "\n",
        "        wandb.log({\"moving_avg_loss\": moving_avg_loss, **{f'lr_{i}': param_group['lr'] for i, param_group in enumerate(optimizer.param_groups)}})\n",
        "\n",
        "        # Save the model after each validation step\n",
        "        save_checkpoint(model, optimizer, scheduler, epoch, global_step, wandb.run.id, EXPERIMENT_NAME, G_DRIVE_FOLDER_CHECKPOINTS)\n",
        "\n",
        "        #if epoch == 0 + epoch_start or epoch == epoch_last or (epoch + 1) % config.get(\"check_val_every_n_epoch\") == 0:\n",
        "        if epoch == epoch_last or (epoch + 1) % config.get(\"check_val_every_n_epoch\") == 0:\n",
        "            avg_bleu_score = testing_loop(val_dataloader, model, processor, config, f\"Epoch {epoch}/{epoch_last} - valid loop\")\n",
        "\n",
        "            if config.get(\"verbose\", False):\n",
        "                print(f\" Avg Bleu Score: {avg_bleu_score:.2f}\")\n",
        "\n",
        "            wandb.log({\"bleu\": avg_bleu_score})\n",
        "\n",
        "    wandb.finish()"
      ]
    },
    {
      "cell_type": "code",
      "execution_count": null,
      "metadata": {
        "id": "wg6u7CI38kMU"
      },
      "outputs": [],
      "source": [
        "def training_loop(epoch, train_dataloader, model, config, optimizer, scheduler, global_step, epoch_last):\n",
        "    model.train()\n",
        "    train_loop = tqdm(enumerate(train_dataloader), total=len(train_dataloader), desc=f\"Epoch {epoch}/{epoch_last} - train loop\")\n",
        "\n",
        "    # Extract configuration values\n",
        "    accumulate_grad_batches = config.get('accumulate_grad_batches', 1)\n",
        "    gradient_clip_val = config.get(\"gradient_clip_val\")\n",
        "\n",
        "    moving_avg_loss = 0\n",
        "    alpha = 0.1 # Smoothing factor\n",
        "\n",
        "    for step, batch in train_loop:\n",
        "        encoding, part = map(move_to_device, batch)\n",
        "        labels, flattened_patches, attention_mask = encoding[\"labels\"], encoding[\"flattened_patches\"], encoding[\"attention_mask\"]\n",
        "\n",
        "        decoder_input_ids, decoder_attention_mask = get_decoder_input_ids_and_attention_mask(labels, part)\n",
        "        outputs = model(labels=labels, flattened_patches=flattened_patches, attention_mask=attention_mask, decoder_input_ids=decoder_input_ids, decoder_attention_mask=decoder_attention_mask)\n",
        "        loss = outputs.loss\n",
        "        loss.backward()\n",
        "\n",
        "        if global_step % accumulate_grad_batches == 0 or step == len(train_dataloader) - 1:\n",
        "            if gradient_clip_val:\n",
        "                torch.nn.utils.clip_grad_norm_(model.parameters(), gradient_clip_val)\n",
        "            optimizer.step()\n",
        "            optimizer.zero_grad()\n",
        "\n",
        "        # Update the progress bar\n",
        "        train_loop.set_postfix({'loss': loss.item()}, refresh=True)\n",
        "\n",
        "        scheduler.step()\n",
        "        global_step += 1\n",
        "\n",
        "        # Update the moving average loss\n",
        "        moving_avg_loss = loss.item() if moving_avg_loss == 0 else alpha * loss.item() + (1 - alpha) * moving_avg_loss\n",
        "\n",
        "        # Log Loss after each step\n",
        "        wandb.log({\"loss\": loss.item()})\n",
        "\n",
        "    return global_step, moving_avg_loss"
      ]
    },
    {
      "cell_type": "code",
      "execution_count": null,
      "metadata": {
        "id": "RXfc_whn-qJW"
      },
      "outputs": [],
      "source": [
        "def testing_loop(testing_dataloader, model, processor, config, description):\n",
        "    model.eval()\n",
        "    bleu_scores = []\n",
        "\n",
        "    with torch.no_grad():\n",
        "        test_loop = tqdm(enumerate(testing_dataloader), total=len(testing_dataloader), desc=description)\n",
        "        for i, batch in test_loop:\n",
        "            encoding = move_to_device(batch)\n",
        "            labels, flattened_patches, attention_mask = encoding[\"labels\"], encoding[\"flattened_patches\"], encoding[\"attention_mask\"]\n",
        "\n",
        "            # Initialize total_outputs with zeros\n",
        "            total_outputs = None\n",
        "            context_from_last = None\n",
        "\n",
        "            # Initialize a mask to track which sentences are finished\n",
        "            finished_sentences_mask = torch.zeros(flattened_patches.size(0), dtype=torch.bool, device=flattened_patches.device)\n",
        "\n",
        "            for iteration in range(MAX_N_CHUNKS_PER_SENTENCE):\n",
        "\n",
        "                generate_args = {\n",
        "                    \"flattened_patches\": flattened_patches[~finished_sentences_mask],\n",
        "                    \"attention_mask\": attention_mask[~finished_sentences_mask],\n",
        "                    \"max_new_tokens\": CHUNK_LENGTH - (CONTEXT_OVERLAP_LENGTH if iteration else 0),\n",
        "                }\n",
        "\n",
        "                if iteration and context_from_last is not None:\n",
        "                    generate_args[\"decoder_input_ids\"] = context_from_last[~finished_sentences_mask]\n",
        "\n",
        "                outputs = model.generate(**generate_args)\n",
        "\n",
        "                # Remove context overlap only from the second iteration onwards\n",
        "                new_chunks = outputs if iteration == 0 else outputs[:, CONTEXT_OVERLAP_LENGTH:]\n",
        "\n",
        "                if iteration == 0:\n",
        "                    total_outputs = new_chunks\n",
        "                else:\n",
        "                    # Update total_outputs by concatenating new chunks\n",
        "                    new_chunks_with_padding_chunks = torch.full((flattened_patches.shape[0], new_chunks.shape[1]), PAD_TOKEN_ID, dtype=new_chunks.dtype, device=new_chunks.device)\n",
        "                    new_chunks_with_padding_chunks[~finished_sentences_mask] = new_chunks\n",
        "                    total_outputs = torch.cat((total_outputs, new_chunks_with_padding_chunks), dim=1)\n",
        "\n",
        "                # Update the finished_sentences_mask\n",
        "                finished_sentences_mask[~finished_sentences_mask] |= (outputs == processor.tokenizer.eos_token_id).any(dim=1)\n",
        "\n",
        "                # If all sentences are finished, exit the loop\n",
        "                if finished_sentences_mask.all():\n",
        "                    break\n",
        "\n",
        "                if outputs.shape[1] < CHUNK_LENGTH:\n",
        "                    print(\"ERROR: !! should have already exited because all sentences reached the end!!\")\n",
        "\n",
        "                # -1 because it will put in front a START_TOKEN automatically\n",
        "                context_from_last = total_outputs[:, -(CONTEXT_OVERLAP_LENGTH-1):]\n",
        "\n",
        "            predictions = processor.tokenizer.batch_decode(total_outputs, skip_special_tokens=True)\n",
        "\n",
        "            labels[labels == -100] = 0\n",
        "            answers = processor.tokenizer.batch_decode(labels, skip_special_tokens=True)\n",
        "\n",
        "            bleu_scores += [corpus_bleu([[answer]], [pred], smoothing_function=SmoothingFunction().method4) for pred, answer in zip(predictions, answers)]\n",
        "\n",
        "            avg_bleu_score = np.mean(bleu_scores)\n",
        "            test_loop.set_postfix(bleu_score=avg_bleu_score)\n",
        "\n",
        "            if config.get(\"verbose\", False):\n",
        "                for pred, answer, bleu_score in zip(predictions, answers, bleu_scores):\n",
        "                    tqdm.write(f\"\\nPrediction: {pred}\\n    Answer: {answer}\\n      Bleu: {bleu_score:.2f}\")\n",
        "\n",
        "\n",
        "    return avg_bleu_score\n"
      ]
    },
    {
      "cell_type": "code",
      "execution_count": null,
      "metadata": {
        "id": "GhiWvFFFA8n4"
      },
      "outputs": [],
      "source": [
        "def save_checkpoint(model, optimizer, scheduler, epoch, global_step, wandb_run_id, experiment_name, folder_path):\n",
        "    checkpoint = {\n",
        "        \"model_state_dict\": model.state_dict(),\n",
        "        \"optimizer_state_dict\": optimizer.state_dict(),\n",
        "        \"scheduler_state_dict\": scheduler.state_dict(),\n",
        "        \"epoch\": epoch,\n",
        "        \"global_step\": global_step,\n",
        "        'wandb_run_id': wandb_run_id\n",
        "    }\n",
        "    model_name = f\"{experiment_name}_epoch[{epoch}].pth\"\n",
        "    torch.save(checkpoint, folder_path + model_name)\n"
      ]
    },
    {
      "cell_type": "code",
      "execution_count": null,
      "metadata": {
        "id": "F6Lme6odJJK8"
      },
      "outputs": [],
      "source": [
        "config = {\n",
        "          \"batch_size\": BATCH_SIZE,\n",
        "          \"num_warmup_steps\": NUM_WARMUP_STEPS,\n",
        "          \"max_epochs\": MAX_EPOCHS,\n",
        "          \"lr\": LR,\n",
        "          \"check_val_every_n_epoch\": CHECK_VAL_EVERY_N_EPOCH,\n",
        "          \"gradient_clip_val\": GRADIENT_CLIP_VAL,\n",
        "          \"accumulate_grad_batches\": ACCUMULATE_GRAD_BATCHES,\n",
        "          \"verbose\": VERBOSE,\n",
        "}"
      ]
    },
    {
      "cell_type": "code",
      "execution_count": null,
      "metadata": {
        "id": "QxemWk5nEfZL"
      },
      "outputs": [],
      "source": [
        "def validate_config(config):\n",
        "    # Check required keys\n",
        "    required_keys = [\n",
        "        \"batch_size\",\n",
        "        \"num_warmup_steps\",\n",
        "        \"max_epochs\",\n",
        "        \"lr\",\n",
        "        \"check_val_every_n_epoch\",\n",
        "        \"gradient_clip_val\",\n",
        "        \"accumulate_grad_batches\",\n",
        "        \"verbose\"\n",
        "    ]\n",
        "    for key in required_keys:\n",
        "        if key not in config:\n",
        "            raise ValueError(f\"Key '{key}' must be present in the configuration.\")\n",
        "\n",
        "    # Check that values are in expected ranges\n",
        "    if config[\"batch_size\"] <= 0:\n",
        "        raise ValueError(\"batch_size must be positive.\")\n",
        "    if config[\"num_warmup_steps\"] < 0:\n",
        "        raise ValueError(\"num_warmup_steps must be non-negative.\")\n",
        "    if config[\"max_epochs\"] <= 0:\n",
        "        raise ValueError(\"max_epochs must be positive.\")\n",
        "    if config[\"lr\"] <= 0:\n",
        "        raise ValueError(\"Learning rate must be positive.\")\n",
        "    if config[\"check_val_every_n_epoch\"] <= 0:\n",
        "        raise ValueError(\"check_val_every_n_epoch must be positive.\")\n",
        "    if config[\"gradient_clip_val\"] < 0:\n",
        "        raise ValueError(\"gradient_clip_val must be non-negative.\")\n",
        "    if config[\"accumulate_grad_batches\"] <= 0:\n",
        "        raise ValueError(\"accumulate_grad_batches must be positive.\")\n",
        "    if not isinstance(config[\"verbose\"], bool):\n",
        "        raise ValueError(\"verbose must be a boolean value.\")\n"
      ]
    },
    {
      "cell_type": "code",
      "execution_count": null,
      "metadata": {
        "colab": {
          "base_uri": "https://localhost:8080/"
        },
        "id": "knzzKEtwEruj",
        "outputId": "a2a96ade-776c-48eb-b1ff-1cd42e02bc89"
      },
      "outputs": [
        {
          "name": "stdout",
          "output_type": "stream",
          "text": [
            "{'batch_size': 4, 'num_warmup_steps': 2000, 'max_epochs': 10, 'lr': 0.0001, 'check_val_every_n_epoch': 5, 'gradient_clip_val': 1.0, 'accumulate_grad_batches': 2.0, 'verbose': True}\n"
          ]
        }
      ],
      "source": [
        "validate_config(config)\n",
        "print(config)"
      ]
    },
    {
      "cell_type": "code",
      "execution_count": null,
      "metadata": {
        "colab": {
          "base_uri": "https://localhost:8080/",
          "height": 1000
        },
        "id": "EPfNUdrEoci8",
        "outputId": "97ed5313-26f9-4086-be5b-f85e14452034"
      },
      "outputs": [
        {
          "data": {
            "application/javascript": "\n        window._wandbApiKey = new Promise((resolve, reject) => {\n            function loadScript(url) {\n            return new Promise(function(resolve, reject) {\n                let newScript = document.createElement(\"script\");\n                newScript.onerror = reject;\n                newScript.onload = resolve;\n                document.body.appendChild(newScript);\n                newScript.src = url;\n            });\n            }\n            loadScript(\"https://cdn.jsdelivr.net/npm/postmate/build/postmate.min.js\").then(() => {\n            const iframe = document.createElement('iframe')\n            iframe.style.cssText = \"width:0;height:0;border:none\"\n            document.body.appendChild(iframe)\n            const handshake = new Postmate({\n                container: iframe,\n                url: 'https://wandb.ai/authorize'\n            });\n            const timeout = setTimeout(() => reject(\"Couldn't auto authenticate\"), 5000)\n            handshake.then(function(child) {\n                child.on('authorize', data => {\n                    clearTimeout(timeout)\n                    resolve(data)\n                });\n            });\n            })\n        });\n    ",
            "text/plain": [
              "<IPython.core.display.Javascript object>"
            ]
          },
          "metadata": {},
          "output_type": "display_data"
        },
        {
          "name": "stderr",
          "output_type": "stream",
          "text": [
            "\u001b[34m\u001b[1mwandb\u001b[0m: Appending key for api.wandb.ai to your netrc file: /root/.netrc\n"
          ]
        },
        {
          "data": {
            "text/html": [
              "Tracking run with wandb version 0.15.11"
            ],
            "text/plain": [
              "<IPython.core.display.HTML object>"
            ]
          },
          "metadata": {},
          "output_type": "display_data"
        },
        {
          "data": {
            "text/html": [
              "Run data is saved locally in <code>/content/wandb/run-20230928_115207-edfn2mle</code>"
            ],
            "text/plain": [
              "<IPython.core.display.HTML object>"
            ]
          },
          "metadata": {},
          "output_type": "display_data"
        },
        {
          "data": {
            "text/html": [
              "Syncing run <strong><a href='https://wandb.ai/team-gs/Pix2Struct/runs/edfn2mle' target=\"_blank\">run-Pix2Struct_WebUI2Code_Complete_4096_FULL</a></strong> to <a href='https://wandb.ai/team-gs/Pix2Struct' target=\"_blank\">Weights & Biases</a> (<a href='https://wandb.me/run' target=\"_blank\">docs</a>)<br/>"
            ],
            "text/plain": [
              "<IPython.core.display.HTML object>"
            ]
          },
          "metadata": {},
          "output_type": "display_data"
        },
        {
          "data": {
            "text/html": [
              " View project at <a href='https://wandb.ai/team-gs/Pix2Struct' target=\"_blank\">https://wandb.ai/team-gs/Pix2Struct</a>"
            ],
            "text/plain": [
              "<IPython.core.display.HTML object>"
            ]
          },
          "metadata": {},
          "output_type": "display_data"
        },
        {
          "data": {
            "text/html": [
              " View run at <a href='https://wandb.ai/team-gs/Pix2Struct/runs/edfn2mle' target=\"_blank\">https://wandb.ai/team-gs/Pix2Struct/runs/edfn2mle</a>"
            ],
            "text/plain": [
              "<IPython.core.display.HTML object>"
            ]
          },
          "metadata": {},
          "output_type": "display_data"
        },
        {
          "name": "stderr",
          "output_type": "stream",
          "text": [
            "Epoch 0/9 - train loop: 100%|██████████| 1888/1888 [24:19<00:00,  1.29it/s, loss=1.85]\n"
          ]
        },
        {
          "name": "stdout",
          "output_type": "stream",
          "text": [
            "Moving Avg Loss: 1.622\n"
          ]
        },
        {
          "name": "stderr",
          "output_type": "stream",
          "text": [
            "Epoch 1/9 - train loop: 100%|██████████| 1888/1888 [24:15<00:00,  1.30it/s, loss=1.1]\n"
          ]
        },
        {
          "name": "stdout",
          "output_type": "stream",
          "text": [
            "Moving Avg Loss: 1.165\n"
          ]
        },
        {
          "name": "stderr",
          "output_type": "stream",
          "text": [
            "Epoch 2/9 - train loop: 100%|██████████| 1888/1888 [24:15<00:00,  1.30it/s, loss=0.433]\n"
          ]
        },
        {
          "name": "stdout",
          "output_type": "stream",
          "text": [
            "Moving Avg Loss: 0.950\n"
          ]
        },
        {
          "name": "stderr",
          "output_type": "stream",
          "text": [
            "Epoch 3/9 - train loop: 100%|██████████| 1888/1888 [24:15<00:00,  1.30it/s, loss=1.21]\n"
          ]
        },
        {
          "name": "stdout",
          "output_type": "stream",
          "text": [
            "Moving Avg Loss: 0.965\n"
          ]
        },
        {
          "name": "stderr",
          "output_type": "stream",
          "text": [
            "Epoch 4/9 - train loop: 100%|██████████| 1888/1888 [24:15<00:00,  1.30it/s, loss=0.67]\n"
          ]
        },
        {
          "name": "stdout",
          "output_type": "stream",
          "text": [
            "Moving Avg Loss: 0.858\n"
          ]
        },
        {
          "name": "stderr",
          "output_type": "stream",
          "text": [
            "Epoch 4/9 - valid loop: 100%|██████████| 1/1 [11:23<00:00, 683.45s/it, bleu_score=0.168]\n"
          ]
        },
        {
          "name": "stdout",
          "output_type": "stream",
          "text": [
            "\n",
            "Prediction: <html xmlns=\"https://example.com\"> <head> <title>Buy Albenza Online - Best Prices</title> <link href=\"albenza.life.css\" rel=\"stylesheet\" type=\"text/css\"/> </head> <body> <div id=\"wrapper\"> <div id=\"header\"> <div id=\"logo\"> <h1>Albenza</h1> <p>You will certainly have to be taking this medicine as soon as you are taking it.</p> </div> <div id=\"menu\"><ul><li class=\"current_page_item\"><a accesskey=\"1\" href=\"ref.placeholder\" title=\"\">Homepage</a></li><li><a accesskey=\"2\" href=\"ref.placeholder\" title=\"\">Our Clients</a></li><li><a accesskey=\"3\" href=\"ref.placeholder\" title=\"\">About Us</a></li><li><a accesskey=\"4\" href=\"ref.placeholder\" title=\"\">Careers</a></li><li><a accesskey=\"5\" href=\"ref.placeholder\" title=\"\">Contact Us</a></li></ul></div> </div> <div id=\"page\"> <div id=\"content\"> <div class=\"post\"> <h2 class=\"title\">a hrefref.placeholderWelcome to Our Website!</h2> <p class=\"meta\"><span class=\"date\">September 10, 2007</span><span class=\"posted\">Posted by <a href=\"ref.placeholder\">Someone</a></span></p> <div style=\"clear:both\"></div> <div class=\"entry\"> <p><img alt=\"Albenza is a prescription medication that can be taken by people with a history of heart disease, heart disease, liver disease, liver disease, liver disease, liver disease, liver disease, liver disease, liver disease, liver disease, liver disease, liver disease, liver disease, liver disease, liver disease, liver disease, liver disease, liver disease, liver disease, liver disease, liver disease, liver disease, liver disease, liver disease, liver disease, liver disease, liver disease, liver disease, liver disease, liver disease, liver disease, liver disease, liver disease, liver disease, liver disease, liver disease, liver disease, liver disease, liver disease, liver disease, liver disease, liver disease, liver disease, liver disease, liver disease, liver disease, liver disease, liver disease, liver disease, liver disease, liver disease, liver disease, liver disease, liver disease, liver disease, liver disease, liver disease, liver disease, liver disease, liver disease, liver disease, liver disease, liver disease, liver disease, liver disease, liver disease, liver disease, liver disease, liver disease, liver disease, liver disease, liver disease, liver disease, liver disease, liver disease, liver disease, liver disease, liver disease, liver disease, liver disease, liver disease, liver disease, liver disease, liver disease, liver disease, liver disease, liver disease, liver disease, liver disease, liver disease, liver disease, liver disease, liver disease, liver disease, liver disease, liver disease, liver disease, liver disease, liver disease, liver disease, liver disease, liver disease, liver disease, liver disease, liver disease, liver disease, liver disease, liver disease, liver disease, liver disease, liver disease, liver disease, liver disease, liver disease, liver disease, liver disease, liver disease, liver disease, liver disease, liver disease, liver disease, liver disease, liver disease, liver disease, liver disease, liver disease, liver disease, liver disease, liver disease, liver disease, liver disease, liver disease, liver disease, liver disease, liver disease, liver disease, liver disease, liver disease, liver disease, liver disease, liver disease, liver disease, liver disease, liver disease, liver disease, liver disease, liver disease, liver disease, liver disease, liver disease, liver disease, liver disease, liver disease, liver disease, liver disease, liver disease, liver disease, liver disease, liver disease, liver disease, liver disease, liver disease, liver disease, liver disease, liver disease, liver disease, liver disease, liver disease, liver disease, liver disease, liver disease, liver disease, liver disease, liver disease, liver disease, liver disease, liver disease, liver disease, liver disease, liver disease, liver disease, liver disease, liver disease, liver disease, liver disease, liver disease, liver disease, liver disease, liver disease, liver disease, liver disease, liver disease, liver disease, liver disease, liver disease, liver disease, liver disease, liver disease, liver disease, liver disease, liver disease, liver disease, liver disease, liver disease, liver disease, liver disease, liver disease, liver disease, liver disease, liver disease, liver disease, liver disease, liver disease, liver disease, liver disease, liver disease, liver disease, liver disease, liver disease, liver disease, liver disease, liver disease, liver disease, liver disease, liver disease, liver disease, liver disease, liver disease, liver disease, liver disease, liver disease, liver disease, liver disease, liver disease, liver disease, liver disease, liver disease, liver disease, liver disease, liver disease, liver disease, liver disease, liver disease, liver disease, liver disease, liver disease, liver disease, liver disease, liver disease, liver disease, liver disease, liver disease, liver disease, liver disease, liver disease, liver disease, liver disease, liver disease, liver disease, liver disease, liver disease, liver disease, liver disease, liver disease, liver disease, liver disease, liver disease, liver disease, liver disease, liver disease, liver disease, liver disease, liver disease, liver disease, liver disease, liver disease, liver disease, liver disease, liver disease, liver disease, liver disease, liver disease, liver disease, liver disease, liver disease, liver disease, liver disease, liver disease, liver disease, liver disease, liver disease, liver disease, liver disease, liver disease, liver disease, liver disease, liver disease, liver disease, liver disease, liver disease, liver disease, liver disease, liver disease, liver disease, liver disease, liver disease, liver disease, liver disease, liver disease, liver disease, liver disease, liver disease, liver disease, liver disease, liver disease, liver disease, liver disease, liver disease, liver disease, liver disease, liver disease, liver disease, liver disease, liver disease, liver disease, liver disease, liver disease, liver disease, liver disease, liver disease, liver disease, liver disease, liver disease, liver disease, liver disease, liver disease, liver disease, liver disease, liver disease, liver disease, liver disease, liver disease, liver disease, liver disease, liver disease, liver disease, liver disease, liver disease, liver disease, liver disease, liver disease, liver disease, liver disease, liver disease, liver disease, liver disease, liver disease, liver disease, liver disease, liver disease, liver disease, liver disease, liver disease, liver disease, liver disease, liver disease, liver disease, liver disease, liver disease, liver disease, liver disease, liver disease, liver disease, liver disease, liver disease, liver disease, liver disease, liver disease, liver disease, liver disease, liver disease, liver disease, liver disease, liver disease, liver disease, liver disease, liver disease, liver disease, liver disease, liver disease, liver disease, liver disease, liver disease, liver disease, liver disease, liver disease, liver disease, liver disease, liver disease, liver disease, liver disease, liver disease, liver disease, liver disease, liver disease, liver disease, liver disease, liver disease, liver disease, liver disease, liver disease, liver disease, liver disease, liver disease, liver disease, liver disease, liver disease, liver disease, liver disease, liver disease, liver disease, liver disease, liver disease, liver disease, liver disease, liver disease, liver disease, liver disease, liver disease, liver disease, liver disease, liver disease, liver disease, liver disease, liver disease, liver disease, liver disease, liver disease, liver disease, liver disease, liver disease, liver disease, liver disease, liver disease, liver disease, liver disease, liver disease, liver disease, liver disease, liver disease, liver disease, liver disease, liver disease, liver disease, liver disease, liver disease, liver disease, liver disease, liver disease, liver disease, liver disease, liver disease, liver disease, liver disease, liver disease, liver disease, liver disease, liver disease, liver disease, liver disease, liver disease, liver disease, liver disease, liver disease, liver disease, liver disease, liver disease, liver disease, liver disease, liver disease, liver disease, liver disease, liver disease, liver disease, liver disease, liver disease, liver disease, liver disease, liver disease, liver disease, liver disease, liver disease, liver disease, liver disease, liver disease, liver disease, liver disease, liver disease, liver disease, liver disease, liver disease, liver disease, liver disease, liver disease, liver disease, liver disease, liver disease, liver disease, liver disease, liver disease, liver disease, liver disease, liver disease, liver disease, liver disease, liver disease, liver disease, liver disease, liver disease, liver disease, liver disease, liver disease, liver disease, liver disease, liver disease, liver disease, liver disease, liver disease, liver disease, liver disease, liver disease, liver disease, liver disease, liver disease, liver disease, liver disease, liver disease, liver disease, liver disease, liver disease, liver disease, liver disease, liver disease, liver disease, liver disease, liver disease, liver disease, liver disease, liver disease, liver disease, liver disease, liver disease, liver disease, liver disease, liver disease, liver disease, liver disease, liver disease, liver disease, liver disease, liver disease, liver disease, liver disease, liver disease, liver disease, liver disease, liver disease, liver disease, liver disease, liver disease, liver disease, liver disease, liver disease, liver disease, liver disease, liver disease, liver disease, liver disease, liver disease, liver disease, liver disease, liver disease, liver disease, liver disease, liver disease, liver disease, liver disease, liver disease, liver disease, liver disease, liver disease, liver disease, liver disease, liver disease, liver disease, liver disease, liver disease, liver disease, liver disease, liver disease, liver disease, liver disease, liver disease, liver disease, liver disease, liver disease, liver disease, liver disease, liver disease, liver disease, liver disease, liver disease, liver disease, liver disease, liver disease, liver disease, liver disease, liver disease, liver disease, liver disease, liver disease, liver disease, liver disease, liver disease, liver disease, liver disease, liver disease, liver disease, liver disease, liver disease, liver disease, liver disease, liver disease, liver disease, liver disease, liver disease, liver disease, liver disease, liver disease, liver disease, liver disease, liver disease, liver disease, liver disease, liver disease, liver disease, liver disease, liver disease, liver disease, liver disease, liver disease, liver disease, liver disease, liver disease, liver disease, liver disease, liver disease, liver disease, liver disease, liver disease, liver disease, liver disease, liver disease, liver disease, liver disease, liver disease, liver disease, liver disease, liver disease, liver disease, liver disease, liver disease, liver disease, liver disease, liver disease, liver disease, liver disease, liver disease, liver disease, liver disease, liver disease, liver disease, liver disease, liver disease, liver disease, liver disease, liver disease, liver disease, liver disease, liver disease, liver disease, liver disease, liver disease, liver disease, liver disease, liver disease, liver disease, liver disease, liver disease, liver disease, liver disease, liver disease, liver disease, liver disease, liver disease, liver disease, liver disease, liver disease, liver disease, liver disease, liver disease, liver disease, liver disease, liver disease, liver disease, liver disease, liver disease, liver disease, liver disease, liver disease, liver disease, liver disease, liver disease, liver disease, liver disease, liver disease, liver disease, liver disease, liver disease, liver disease, liver disease, liver disease, liver disease, liver disease, liver disease, liver disease, liver disease, liver disease, liver disease, liver disease, liver disease, liver disease, liver disease, liver disease, liver disease, liver disease, liver disease, liver disease, liver disease, liver disease, liver disease, liver disease, liver disease, liver disease, liver disease, liver disease, liver disease, liver disease, liver disease, liver disease, liver disease, liver disease, liver disease, liver disease, liver disease, liver disease, liver disease, liver disease, liver disease, liver disease, liver disease, liver disease, liver disease, liver disease, liver disease, liver disease, liver disease, liver disease, liver disease, liver disease, liver disease, liver disease, liver disease, liver disease, liver disease, liver disease, liver disease, liver disease, liver disease, liver disease, liver disease, liver disease, liver disease, liver disease, liver disease, liver disease, liver disease, liver disease, liver disease, liver disease, liver disease, liver disease, liver disease, liver disease, liver disease, liver disease, liver disease, liver disease, liver disease, liver disease, liver disease, liver disease, liver disease, liver disease, liver disease, liver disease, liver disease, liver disease, liver disease, liver disease, liver disease, liver disease, liver disease, liver disease, liver disease, liver disease, liver disease, liver disease, liver disease, liver disease, liver disease, liver disease, liver disease, liver disease, liver disease, liver disease, liver disease, liver disease, liver disease, liver disease, liver disease, liver disease, liver disease, liver disease, liver disease, liver disease, liver disease, liver disease, liver disease, liver disease, liver disease, liver disease, liver disease, liver disease, liver disease, liver disease, liver disease, liver disease, liver disease, liver disease, liver disease, liver disease, liver disease, liver disease, liver disease, liver disease, liver disease, liver disease, liver disease, liver disease, liver disease, liver disease, liver disease, liver disease, liver disease, liver disease, liver disease, liver disease, liver disease, liver disease, liver disease, liver disease, liver disease, liver disease, liver disease, liver disease, liver disease, liver disease, liver disease, liver disease, liver disease, liver disease, liver disease, liver disease, liver disease, liver disease, liver disease, liver disease, liver disease, liver disease, liver disease, liver disease, liver disease, liver disease, liver disease, liver disease, liver disease, liver disease, liver disease, liver disease, liver disease, liver disease, liver disease, liver disease, liver disease, liver disease, liver disease, liver disease, liver disease, liver disease, liver disease, liver disease, liver disease, liver disease, liver disease, liver disease, liver disease, liver disease, liver disease, liver disease, liver disease, liver disease, liver disease, liver disease, liver disease, liver disease, liver disease, liver disease, liver disease, liver disease, liver disease, liver disease, liver disease, liver disease, liver disease, liver disease, liver disease, liver disease, liver disease, liver disease, liver disease, liver disease, liver disease, liver disease, liver disease, liver disease, liver disease, liver disease, liver disease, liver disease, liver disease, liver disease, liver disease, liver disease, liver disease, liver disease, liver disease, liver disease, liver disease, liver disease, liver disease, liver disease, liver disease, liver disease, liver disease, liver disease, liver disease, liver disease, liver disease, liver disease, liver disease, liver disease, liver disease, liver disease, liver disease, liver disease, liver disease, liver disease, liver disease, liver disease, liver disease, liver disease, liver disease, liver disease, liver disease, liver disease, liver disease, liver disease, liver disease, liver disease, liver disease, liver disease, liver disease, liver disease, liver disease, liver disease, liver disease, liver disease, liver disease, liver disease, liver disease, liver disease, liver disease, liver disease, liver disease, liver disease, liver disease, liver disease, liver disease, liver disease, liver disease, liver disease, liver disease, liver disease, liver disease, liver disease, liver disease, liver disease, liver disease, liver disease, liver disease, liver disease, liver disease, liver disease, liver disease, liver disease, liver disease, liver disease, liver disease, liver disease, liver disease, liver disease, liver disease, liver disease, liver disease, liver disease, liver disease, liver disease, liver disease, liver disease, liver disease, liver disease, liver disease, liver disease, liver disease, liver disease, liver disease, liver disease, liver disease, liver disease, liver disease, liver disease, liver disease, liver disease, liver disease, liver disease, liver disease, liver disease, liver disease, liver disease, liver disease, liver disease, liver disease, liver disease, liver disease, liver disease, liver disease, liver disease, liver disease, liver disease, liver disease, liver disease, liver disease, liver disease, liver disease, liver disease, liver disease, liver disease, liver disease, liver disease, liver disease, liver disease, liver disease, liver disease, liver disease, liver disease, liver disease, liver disease, liver disease, liver disease, liver disease, liver disease, liver disease, liver disease, liver disease, liver disease, liver disease, liver disease, liver disease, liver disease, liver disease, liver disease, liver disease, liver disease, liver disease, liver disease, liver disease, liver disease, liver disease, liver disease, liver disease, liver disease, liver disease, liver disease, liver disease, liver disease, liver disease, liver disease, liver disease, liver disease, liver disease, liver disease, liver disease, liver disease, liver disease, liver disease, liver disease, liver disease, liver disease, liver disease, liver disease, liver disease, liver disease, liver disease, liver disease, liver disease, liver disease, liver disease, liver disease, liver disease, liver disease, liver disease, liver disease, liver disease, liver disease, liver disease, liver disease, liver disease, liver disease, liver disease, liver disease, liver disease, liver disease, liver disease, liver disease, liver disease, liver disease, liver disease, liver disease, liver disease, liver disease, liver disease, liver disease, liver disease, liver disease, liver disease, liver disease, liver disease, liver disease, liver disease, liver disease, liver disease, liver disease, liver disease, liver disease, liver disease, liver disease, liver disease, liver disease, liver disease, liver disease, liver disease, liver disease, liver disease, liver disease, liver disease, liver disease, liver disease, liver disease, liver disease, liver disease, liver disease, liver disease, liver disease, liver disease, liver disease, liver disease, liver disease, liver disease, liver disease, liver disease, liver disease, liver disease, liver disease, liver disease, liver disease, liver disease, liver disease, liver disease, liver disease, liver disease, liver disease, liver disease, liver disease, liver disease, liver disease, liver disease, liver disease, liver disease, liver disease, liver disease, liver disease, liver disease, liver disease, liver disease, liver disease, liver disease, liver disease, liver disease, liver disease, liver disease, liver disease, liver disease, liver disease, liver disease, liver disease, liver disease, liver disease,\n",
            "    Answer: <html lang=\"en\"> <head> <link href=\"interfacelift.com.css\" rel=\"stylesheet\" type=\"text/css\"/> <link href=\"interfacelift.com.css\" media=\"screen and (min-width: 1366px)\" rel=\"stylesheet\" type=\"text/css\"/> <link href=\"interfacelift.com.css\" media=\"only screen and (min-device-width: 768px) and (max-device-width: 1024px)\" rel=\"stylesheet\" type=\"text/css\"/> <title>interfacelift wallpapers, icons, themes, and iOS apps</title> </head> <body> <div id=\"page\"> <div id=\"header\"> <div style=\"float:right;width:750px\"> <div class=\"nav_button\"><a href=\"ref.placeholder\">Free Wallpaper Downloads </a></div> <div class=\"nav_button\"><a href=\"ref.placeholder\" style=\"margin-right:7px;background-color:red;font-size:0.75em\">Bulk Download Service</a></div> <div class=\"nav_button\"><a href=\"https://example.com\" style=\"margin-right:7px;background-color:green;font-size:0.75em\">Mac App</a></div> <div class=\"nav_button\"><a href=\"https://example.com\" style=\"margin-right:7px;background-color:green;font-size:0.75em\">iOS App</a></div> <div style=\"clear:right;text-align:right;padding-top:8px;font-family:sans-serif;color:grey\"><a href=\"ref.placeholder\" style=\"color:grey;text-decoration:none\">High-Resolution Photography Wallpapers for Every Screen Size </a></div> </div> <div id=\"logo\"><a href=\"ref.placeholder\"><img alt=\"InterfaceLIFT\" src=\"../../images/default_img.jpeg\"/></a></div> </div> <div class=\"row\"> <div class=\"wallpaper\"> <a href=\"ref.placeholder\"><img id=\"wall_img\" src=\"../../images/default_img.jpeg\"/></a> <a class=\"label\" href=\"ref.placeholder\"> <h1>Unreachable </h1> <p>This is the peak of Mount Cook, New Zealand. I captured this beautiful view during a recent flight around the Aoraki area with its wonderful mountains, glaciers and valleys.</p> <p>For me - and I guess for most of other people, too - reaching the top of one of these mountains is a lifelong but yet unreachable dream.</p> <p>Canon EOS 5DS R.</p> <p>Carl Zeiss Milvus 2.818mm</p> <p>Capture One Pro 11</p> </a> </div> </div> <div class=\"row\" style=\"text-align:center;width:768px\"> <div id=\"amzn-assoc-ad-c494c65c-b087-4b64-96f9-ba84e21b666b\"></div> </div> <div class=\"row\" id=\"row2\" style=\"height:288px\"> <div id=\"amzn_assoc_ad_div_adunit0_0\"></div> </div> <div class=\"row\" style=\"width:768px\"></div> </div> </body> </html> /* START CSS */ body { background-color: #eee; padding: 0; margin: 0; } #page { width: 1024px; margin: 8px auto; } #header { position: relative; width: 100%; padding: 0; margin: 0; } #logo a img { width: 242px; height: 54px; padding: 0; margin: 0 0 8px 0; -webkit-border-radius: 5px; -moz-border-radius: 5px; -o-border-radius: 5px; background-color: rgba(173,0,23,1); }.nav_button a { color: white; text-decoration: none; font-family: helvetica; font-weight: bold; padding: 6px; margin: 0; background-color: rgba(0,23,173,1); float: right; }.row { position: relative; width: 1024px; margin: 0 auto 8px auto; }.wallpaper { max-height: 800px; }.wallpaper img { position: relative; width: 100%; max-width: 1280px; padding: 0; -webkit-border-radius: 5px; -moz-border-radius: 5px; -o-border-radius: 5px; }.label { position: absolute; left: 0; bottom: 18px; width: 320px; max-height: 600px; overflow: hidden; text-overflow: ellipsis; background-color: rgba(0,0,0,0.6); color: rgba(255,255,255,1.0); font-family: \"Avant Garde\", Helvetica, Verdana, Arial, serif; font-size: 12px; padding: 2px 8px 8px 8px; -webkit-border-radius: 0 5px 5px 0; -moz-border-radius: 0 5px 5px 0; -o-border-radius: 0 5px 5px 0; }.label h1 { margin: 4px 0; font-family: Georgia, Times, \"Times New Roman\", sans-serif; font-weight: normal; font-size: 24px; } a.label { color: white; text-decoration: none; }.label p { margin: 8px 0 0 0; width: 100%; overflow: hidden; text-overflow: ellipsis; font-size: 0.9em; } error body { background-color: #eee; padding: 0; margin: 0; } #page { width: 1366px; margin: 8px auto; } #header { position: relative; width: 100%; padding: 0; margin: 0; } #logo a img { width: 242px; height: 54px; padding: 0; margin: 0 0 8px 0; -webkit-border-radius: 5px; -moz-border-radius: 5px; -o-border-radius: 5px; background-color: rgba(173,0,23,1); }.nav_button a { color: white; text-decoration: none; font-family: helvetica; font-weight: bold; padding: 6px; margin: 0; background-color: rgba(0,23,173,1); float: right; }.row { position: relative; width: 1366px; margin: 0 auto 8px auto; }.wallpaper { max-height: 854px; }.wallpaper img { position: relative; width: 100%; max-width: 1366px; padding: 0; -webkit-border-radius: 5px; -moz-border-radius: 5px; -o-border-radius: 5px; }.label { position: absolute; left: 0; bottom: 24px; width: 320px; background-color: rgba(0,0,0,0.6); color: rgba(255,255,255,1.0); font-family: georgia; font-size: 12px; padding: 2px 8px 8px 8px; -webkit-border-radius: 0 5px 5px 0; -moz-border-radius: 0 5px 5px 0; -o-border-radius: 0 5px 5px 0; }.label h1 { margin: 4px 0; font-family: Verdana; font-weight: normal; font-size: 24px; } a.label { color: white; text-decoration: none; }.label p { margin: 8px 0 0 0; } body { background-color: #eee; padding: 0; margin: 0; } #page { width: 100%; min-width: 768px; max-width: 1024px; margin: 0; } #header { position: relative; width: 100%; padding: 0; margin: 0; } #logo a img { width: 242px; height: 54px; padding: 0; margin: 0; background-color: rgba(173,0,23,1); }.nav_button a { color: white; text-decoration: none; font-family: helvetica; font-weight: bold; padding: 6px; margin: 0; background-color: rgba(0,23,173,1); float: right; }.row { position: relative; width: 100%; min-width: 768px; max-width: 1024px; margin: 0 auto 4px auto; }.wallpaper { max-height: 800px; }.wallpaper img { position: relative; width: 100%; min-width: 768px; max-width: 1024px; min-height: 480px; max-height: 640px; padding: 0; }.label { position: absolute; bottom: 5px; float: right; width: 408px; background-color: rgba(0,0,0,0.6); color: rgba(255,255,255,1.0); font-family: georgia; font-size: 12px; padding: 2px 8px 8px 8px; -webkit-border-radius: 0 5px 0 0; -moz-border-radius: 0 5px 0 0; -o-border-radius: 0 5px 0 0; }.label h1 { margin: 4px 0; font-family: Verdana; font-weight: normal; font-size: 20px; } a.label { color: white; text-decoration: none; }.label p { margin: 8px 0 0 0; }\n",
            "      Bleu: 0.05\n",
            "\n",
            "Prediction: <html xmlns=\"https://example.com\"> <head> <title>Buy Viagra Online - Best Prices</title> <link href=\"viagra.life.css\" rel=\"stylesheet\" type=\"text/css\"/> </head> <body> <div id=\"wrapper\"> <div id=\"header\"> <div id=\"logo\"> <h1>Viagra</h1> <p>You will certainly have to be taking this medicine for the very first 2 weeks of your treatment.</p> </div> <div id=\"menu\"><ul><li class=\"current_page_item\"><a href=\"ref.placeholder\">Homepage</a></li><li><a href=\"ref.placeholder\">Blog</a></li><li><a href=\"ref.placeholder\">Photos</a></li><li><a href=\"ref.placeholder\">About</a></li><li><a href=\"ref.placeholder\">Links</a></li><li><a href=\"ref.placeholder\">Contact</a></li></ul></div> <div id=\"page\"> <div id=\"page-bgtop\"> <div id=\"page-bgbtm\"> <div id=\"content\"> <div class=\"post\"> <h2 class=\"title\">Viagra 20 Mg</h2> <p class=\"meta\"><span class=\"date\">September 10, 2007</span><span class=\"posted\">Posted by <a href=\"ref.placeholder\">Someone</a></span></p> <div style=\"clear:both\"></div> <div class=\"entry\"> <p>You will certainly have to be taking this medicine for the very first 2 weeks of your treatment.</p> </div> </div> <div class=\"post\"> <h2 class=\"title\">Viagra 20 Mg</h2> <p class=\"meta\"><span class=\"date\">September 10, 2007</span><span class=\"posted\">Posted by <a href=\"ref.placeholder\">Someone</a></span></p> <div style=\"clear:both\"></div> <div class=\"entry\"> <p>You will certainly have to be taking this medicine for the very first 2 weeks of your treatment.</p> </div> </div> <div class=\"post\"> <h2 class=\"title\">Viagra 20 Mg</h2> <p class=\"meta\"><span class=\"date\">September 10, 2007</span><span class=\"posted\">Posted by <a href=\"ref.placeholder\">Someone</a></span></p> <div style=\"clear:both\"></div> <div class=\"entry\"> <p>You will certainly have to be taking this medicine for the very first 2 weeks of your treatment.</p> </div> </div> <div class=\"post\"> <h2 class=\"title\">Lorem Ipsum Dolor</h2> <p class=\"meta\"><span class=\"date\">September 10, 2007</span><span class=\"posted\">Posted by <a href=\"ref.placeholder\">Someone</a></span></p> <div style=\"clear:both\"></div> <div class=\"entry\"> <p>You will certainly have to be taking this medicine for the very first 2 weeks of your treatment.</p> </div> </div> <div id=\"sidebar\"> <ul> <li> <h2>Aliquam tempus</h2> <p>You will certainly have to be taking this medicine for the very first 2 weeks of your treatment.</p> </li> <li> <h2>Categories</h2> <ul><li><a href=\"ref.placeholder\">Aliquam libero</a></li><li><a href=\"ref.placeholder\">Consectetuer adipiscing elit</a></li><li><a href=\"ref.placeholder\">Metus aliquam pellentesque</a></li><li><a href=\"ref.placeholder\">Suspendisse iaculis mauris</a></li><li><a href=\"ref.placeholder\">Urnanet non molestie semper</a></li><li><a href=\"ref.placeholder\">Proin gravida orci porttitor</a></li></ul> </li> <li> <h2>Blogroll</h2> <ul><li><a href=\"ref.placeholder\">Aliquam libero</a></li><li><a href=\"ref.placeholder\">Consectetuer adipiscing elit</a></li><li><a href=\"ref.placeholder\">Metus aliquam pellentesque</a></li><li><a href=\"ref.placeholder\">Suspendisse iaculis mauris</a></li><li><a href=\"ref.placeholder\">Urnanet non molestie semper</a></li><li><a href=\"ref.placeholder\">Proin gravida orci porttitor</a></li></ul> </li> </ul> </div> <div style=\"clear:both\"></div> </div> </div> <div id=\"footer\"> <p>You will certainly have to be taking this medicine for the very first 2 weeks of the procedure.</p> </div> </body> </html> /* START CSS */ body { margin: 0; padding: 0; background: #FFFFFF; font-family: Arial, Helvetica, sans-serif; font-size: 13px; color: #333333; } h1, h2 { margin: 0; padding: 0; font-weight: normal; color: #333333; } h1 { font-size: 2em; } h2 { font-size: 2.4em; } p, ul { margin-top: 0; } a { text-decoration: none; color: #333333; } #wrapper { background: #FFFFFF url(ref.placeholder) repeat-x left top; } #header-wrapper { overflow: hidden; height: 150px; background: url(ref.placeholder) no-repeat left top; } #header { width: 960px; height: 150px; margin: 0 auto; padding: 0px 0px 0px 0px; } #logo { float: left; width: 300px; height: 150px; margin: 0; padding: 0; color: #FFFFFF; } #logo h1, #logo p { margin: 0; padding: 0; } #logo h1 { padding: 0px 0px 0px 0px; font-size: 3.8em; } #logo p { margin: 0; padding: 0px 0 0 0px; font: normal 18px Georgia, \"Times New Roman\", Times, serif; color: #FFFFFF; } #logo p a { color: #FFFFFF; } #logo a { border: none; background: none; text-decoration: none; color: #FFFFFF; } #search { float: right; width: 280px; height: 60px; padding: 0; } #search-text { width: 170px; padding: 6px 5px 5px 5px; border: none; background: #FFFFFF; font: normal 11px Arial, Helvetica, sans-serif; color: #7F7F81; } #search-submit { display: none; } #menu { width: 960px; height: 50px; margin: 0 auto; padding: 0; background: #FFFFFF; } #menu ul { margin: 0; padding: 0; list-style: none; } #menu li { float: left; } #menu a { display: block; float: left; height: 50px; margin-right: 1px; padding: 10px 20px 20px 20px; text-decoration: none; text-align: center; font-family: Arial, Helvetica, sans-serif; font-size: 11px; font-weight: normal; color: #FFFFFF; border: none; } #menu.current_page_item a { background: #FFFFFF; } #page { width: 960px; margin: 0 auto; padding: 0px 0px 0px 0px; } #content { float: left; width: 600px; padding: 0px 0px 0px 0px; }.post { margin-bottom: 20px; padding-bottom: 20px; }.post.title { margin: 0px; padding: 0px 0px 0px 0px; font-size: 24px; }.post.title a { border: none; color: #FFFFFF; }.post.meta { margin-bottom: 20px; padding: 10px 0px 0px 0px; text-align: left; font-family: Arial, Helvetica, sans-serif; font-size: 11px; font-weight: normal; }.post.meta.date { float: left; }.post.meta.posted { float: right; }.post.entry { padding: 0px 0px 20px 0px; padding-bottom: 20px; text-align: justify; } #sidebar { float: right; width: 280px; padding: 0px 0px 0px 0px; } #sidebar ul { margin: 0; padding: 0; list-style: none; } #sidebar li { margin: 0; padding: 0; } #sidebar li ul { margin: 0px 0px; padding-bottom: 30px; } #sidebar li li { border-bottom: 1px dashed #E7E7E7; margin: 0px 0px; padding-bottom: 30px; } #sidebar h2 { height: 38px; margin: 0px 0px 20px 0px; padding-bottom: 30px; font-size: 1.8em; color: #FFFFFF; } #sidebar p { margin: 0 0px; padding: 0px 20px 20px 20px; text-align: justify; } #sidebar a { border: none; color: #FFFFFF; } #calendar_wrap { padding: 20px; } #calendar #next { text-align: right; } #footer-wrapper { overflow: hidden; padding: 50px 0px; background: #E7E7E7; } #footer { width: 960px; margin: 0px auto; padding: 50px 0px; color: #FFFFFF; } #footer p { margin: 0; padding-top: 10px; text-align: center; color: #FFFFFF; } #footer a { color: #FFFFFF; }\n",
            "    Answer: <html xmlns=\"https://example.com\"> <head> <title>Clomid For Sale - Secured Order Processing</title> <link href=\"https://example.com\" rel=\"stylesheet\" type=\"text/css\"/> <link href=\"clomidf.com.css\" media=\"all\" rel=\"stylesheet\" type=\"text/css\"/> </head> <body> <div id=\"wrapper\"> <div class=\"container\" id=\"header\"> <div id=\"logo\"> <h1>Clomid Generic And Brand Pills Online</h1> <p>At the very same time, there is not sufficient info on how Clomid can have an effect on the nursing infant.</p> </div> <div id=\"menu\"><ul><li class=\"active\"><a accesskey=\"1\" href=\"ref.placeholder\" title=\"\">Homepage</a></li><li><a accesskey=\"2\" href=\"ref.placeholder\" title=\"\">Our Clients</a></li><li><a accesskey=\"3\" href=\"ref.placeholder\" title=\"\">About Us</a></li><li><a accesskey=\"4\" href=\"ref.placeholder\" title=\"\">Careers</a></li><li><a accesskey=\"5\" href=\"ref.placeholder\" title=\"\">Contact Us</a></li></ul></div> </div> <div class=\"container\" id=\"banner\"> <div id=\"column1\"> <h2>Where To Buy Clomid Online Uk</h2> <p>This medicine will just work if the issue is induced by absence of hormone excitement of the ovaries.</p> <ul><li>Donec dictum metus in sapien</li><li>Integer gravida nibh quis urna</li><li>Etiam posuere augue sit amet nisl</li><li>Mauris vulputate dolor sit amet nibh</li><li>Nulla luctus eleifend purus</li><li>Praesent scelerisque scelerisque erat</li><li>Etiam posuere augue sit amet nisl</li><li>Mauris vulputate dolor sit amet nibh</li><li>Nulla luctus eleifend purus</li></ul> </div> <div id=\"column2\"><img alt=\"They might vary in intensity depending upon each particular scenario, but it's suggested to keep on taking Clomid if the side result pointed out could be endured.\" src=\"../../images/default_img.jpeg\"/></div> </div> <div class=\"container\" id=\"page\"> <div id=\"content\"> <div> <h2>Welcome to Handling!</h2> <p><img alt=\"Clomid is taken in patterns, and you are supposed to start each cycle on the third or 5th day of the duration.\" class=\"alignleft\" src=\"../../images/default_img.jpeg\"/></p> <h3>Donec dictum metus in sapien</h3> <p>Clomid is not supposed to be taken by a pregnant female, because the actual point of the procedure is to aid the women patient develop a child.</p> <p> With the assistance of Clomid results, the ovaries could produce an egg due to the fact that it makes them work more challenging and advance the egg faster. <br/> </p> </div> </div> <div id=\"sidebar\"> <div> <h2>Fusce ultrices fringilla</h2> <ul class=\"style1\"> <li class=\"first\"> <h3>Mauris vulputate dolor sit amet</h3> <p><a href=\"ref.placeholder\">Donec leo, vivamus fermentum nibh in augue praesent a lacus at urna congue rutrum.</a></p> </li> <li> <h3>Fusce ultrices fringilla metus</h3> <p><a href=\"ref.placeholder\">Donec leo, vivamus fermentum nibh in augue praesent a lacus at urna congue rutrum.</a></p> </li> <li> <h3>Donec dictum metus in sapien</h3> <p><a href=\"ref.placeholder\">Donec leo, vivamus fermentum nibh in augue praesent a lacus at urna congue rutrum.</a></p> </li> </ul> </div> </div> </div> </div> <div class=\"container\" id=\"footer-content\"> <div id=\"fbox1\"> <h2>Donec dictum metus in sapien</h2> <p>Typically, nevertheless, you are not most likely to get any kind of adverse effects whatsoever, as long as you adhere to the amount prescribed.</p> <ul class=\"style3\"> <li class=\"first\"> <p><span class=\"date\"><a href=\"ref.placeholder\">20012.25</a></span><span class=\"heading-title\">Etiam posuere augue</span></p> <p>This is your complete independence of selection that you could count on whenever you really need some treatment. Flushing, breast soreness, hassle, puking and indigestion are minority mild negative side effects you could experience when taking this medication.</p> </li> <li> <p><span class=\"date\"><a href=\"ref.placeholder\">20012.25</a></span><span class=\"heading-title\">Etiam posuere augue</span></p> <p>Its impacts are based on promoting the process of ovulation.</p> </li> </ul> </div> <div id=\"fbox2\"> <h2>Fusce ultrices fringilla metus</h2> <ul class=\"style4\"> <li class=\"first\"> <h3>Mauris vulputate dolor sit amet</h3> <p><a href=\"ref.placeholder\">Donec leo, vivamus fermentum nibh in augue praesent a lacus at urna congue rutrum.</a></p> </li> <li> <h3>Fusce ultrices fringilla metus</h3> <p><a href=\"ref.placeholder\">Donec leo, vivamus fermentum nibh in augue praesent a lacus at urna congue rutrum.</a></p> </li> <li> <h3>Donec dictum metus in sapien</h3> <p><a href=\"ref.placeholder\">Donec leo, vivamus fermentum nibh in augue praesent a lacus at urna congue rutrum.</a></p> </li> </ul> </div> <div id=\"fbox3\"> <h2>Praesent scelerisque scelerisque</h2> <ul class=\"style4\"><li class=\"first\"><a href=\"ref.placeholder\">Maecenas luctus sapien</a></li><li><a href=\"ref.placeholder\">Etiam rhoncus volutpat erat</a></li><li><a href=\"ref.placeholder\">Donec dictum metus sapien</a></li><li><a href=\"ref.placeholder\">Integer gravida quis urna</a></li><li><a href=\"ref.placeholder\">Donec dictum metus sapien</a></li><li><a href=\"ref.placeholder\">Integer gravida quis urna</a></li></ul> </div> </div> <div class=\"container\" id=\"footer\"> <p>A couple of mild negative effects of Clomid are possible in some clients.</p> </div> </body> </html> /* START CSS */ html, body { height: 100%; } body { margin: 0px; padding: 0px; background: #1A1A1A url(ref.placeholder) repeat; font-family: \"Open Sans\", sans-serif; font-size: 10pt; color: #4F4F4F; } h1, h2, h3 { margin: 0; padding: 0; } p, ul { margin-top: 0px; } a { color: #17689D; } a img { border: none; } img.alignleft { float: left; margin-right: 40px; }.container { width: 1200px; margin: 0px auto; } ul.style1 { overflow: hidden; margin: 0em; padding: 0em; list-style: none; } ul.style1 li { padding: 1.50em 0em 1.50em 0em; border-top: 1px solid #CFCFCF; } ul.style1 a { text-decoration: none; color: #7C7C7C; } ul.style1 h3 { padding: 0 0 0.75em 0; font-size: 1.10em; font-weight: 400; color: #4F4F4F; } ul.style1.first { padding-top: 0; border-top: none; } ul.style3 { margin: 0em; padding: 0em 0em 0em 0em; list-style: none; } ul.style3 li { padding: 1.75em 0em 1.50em 0em; border-top: 1px solid #474747; } ul.style3.heading-title { font-size: 1.10em; font-weight: 400; color: #EBEBEB; } ul.style3.date { display: inline-block; margin: 0em 1em 1em 0em; font-size:.80em; background: #17689D; border: 1px solid #3B98D4; color: #FFFFFF; } ul.style3.date a { display: inline-block; padding:.5em 1em; text-align: center; text-decoration: none; font-size: 1.10em; font-weight: 400; color: #FFFFFF; } ul.style3 a { text-decoration: none; color: #919191; } ul.style3.first { border-top: none; } ul.style4 { overflow: hidden; margin: 0em; padding: 0em; list-style: none; } ul.style4 li { padding: 1.50em 0em 1.50em 0em; border-top: 1px solid #474747; } ul.style4 a { text-decoration: none; color: #919191; } ul.style4 h3 { padding: 0 0 0.75em 0; font-size: 1.10em; font-weight: 400; color: #EBEBEB; } ul.style4.first { padding-top: 0; border-top: none; } #wrapper { overflow: hidden; background: url(ref.placeholder) repeat; }.container { width: 1200px; margin: 0px auto; } #header { overflow: hidden; height: 120px; } #logo { float: left; width: 400px; } #logo h1, #logo p { margin: 0px; } #logo h1 a { display: block; padding: 45px 0px 0px 0px; font-weight: 400; font-size: 40px; color: #0C0C0C; } #logo p { margin-top: -5px; padding: 0px; font-size: 12px; color: #7C7C7C; } #logo a { text-decoration: none; color: #7C7C7C; } #menu { float: right; width: 800px; } #menu ul { float: right; margin: 0px; padding: 60px 0px 0px 0px; list-style: none; } #menu li { float: left; } #menu a { display: block; padding: 10px 20px; text-decoration: none; color: #0C0C0C } #menu.active a { background: #17689D; border: 1px solid #3B98D4; } #menu.active a { display: inline-block; padding:.5em 1em; text-align: center; text-decoration: none; font-weight: 400; color: #FFFFFF; } #banner { overflow: hidden; height: 500px; margin: 3em auto; background: #17689D; } #banner #column1 { float: left; width: 348px; padding: 100px 30px 20px 30px; color: #FFFFFF; } #banner #column1 h2 { padding: 0px 0px 20px 0px; font-size: 30px; font-weight: 400; } #banner #column2 { float: left; width: 792px; } #page { overflow: hidden; padding: 2em 0em 3em 0em; } #content { float: left; width: 772px; padding: 0px 20px 0px 0px; } #content h2 { padding: 0px 0px 20px 0px; font-size: 40px; font-weight: 400; } #content h3 { margin-top: -15px; padding: 0px 0px 5px 0px; font-size: 14px; } #sidebar { float: right; width: 384px; } #sidebar h2 { padding: 0px 0px 20px 0px; font-size: 30px; font-weight: 400; } #footer { overflow: hidden; border-top: 1px solid #474747; } #footer p { padding: 4em 0em; text-align: center; color: #919191; } #footer a { color: #919191; } #footer-content { overflow: hidden; padding: 5em 0em 3em 0em; color: #919191; } #footer-content h2 { padding: 0em 0em 1.50em 0em; font-weight: 300; color: #FFFFFF; } #footer-content #fbox1 { float: left; width: 384px; margin-right: 24px; } #footer-content #fbox2 { float: left; width: 384px; } #footer-content #fbox3 { float: right; width: 384px; }\n",
            "      Bleu: 0.52\n",
            "\n",
            "Prediction: <html xmlns=\"https://example.com\"> <head> <title>Buy Prednisolone Online - Free Bonus Pills At Lowest Prices</title> <link href=\"prednisolone.shop.css\" rel=\"stylesheet\" type=\"text/css\"/> </head> <body> <div id=\"wrapper\"> <div id=\"header-wrapper\"> <div class=\"container\" id=\"header\"> <div id=\"logo\"> <h1>Prednisolone</h1> </div> <div id=\"menu\"><ul><li class=\"current_page_item\"><a accesskey=\"1\" href=\"ref.placeholder\" title=\"\">Homepage</a></li><li><a accesskey=\"2\" href=\"ref.placeholder\" title=\"\">Our Clients</a></li><li><a accesskey=\"3\" href=\"ref.placeholder\" title=\"\">About Us</a></li><li><a accesskey=\"4\" href=\"ref.placeholder\" title=\"\">Careers</a></li><li><a accesskey=\"5\" href=\"ref.placeholder\" title=\"\">Contact Us</a></li></ul></div> </div> <div id=\"page\"> <div id=\"page-bgtop\"> <div id=\"page-bgbtm\"> <div id=\"content\"> <div class=\"post\"> <h2 class=\"title\">Prednisolone 20 Mg</h2> <p class=\"meta\"><span class=\"date\">September 10, 2011</span><span class=\"posted\">Posted by <a href=\"ref.placeholder\">Someone</a></span></p> <div style=\"clear:both\"></div> <div class=\"entry\"> <p>Prednisolone is a prescription medication that can be taken by people with a history of heart disease, heart attack, heart attack, heart attack, heart attack, heart attack, heart attack, heart attack, heart attack, heart attack, heart attack, heart attack, heart attack, heart attack, heart attack, heart attack, heart attack, heart attack, heart attack, heart attack, heart attack, heart attack, heart attack, heart attack, heart attack, heart attack, heart attack, heart attack, heart attack, heart attack, heart attack, heart attack, heart attack, heart attack, heart attack, heart attack, heart attack, heart attack, heart attack, heart attack, heart attack, heart attack, heart attack, heart attack, heart attack, heart attack, heart attack, heart attack, heart attack, heart attack, heart attack, heart attack, heart attack, heart attack, heart attack, heart attack, heart attack, heart attack, heart attack, heart attack, heart attack, heart attack, heart attack, heart attack, heart attack, heart attack, heart attack, heart attack, heart attack, heart attack, heart attack, heart attack, heart attack, heart attack, heart attack, heart attack, heart attack, heart attack, heart attack, heart attack, heart attack, heart attack, heart attack, heart attack, heart attack, heart attack, heart attack, heart attack, heart attack, heart attack, heart attack, heart attack, heart attack, heart attack, heart attack, heart attack, heart attack, heart attack, heart attack, heart attack, heart attack, heart attack, heart attack, heart attack, heart attack, heart attack, heart attack, heart attack, heart attack, heart attack, heart attack, heart attack, heart attack, heart attack, heart attack, heart attack, heart attack, heart attack, heart attack, heart attack, heart attack, heart attack, heart attack, heart attack, heart attack, heart attack, heart attack, heart attack, heart attack, heart attack, heart attack, heart attack, heart attack, heart attack, heart attack, heart attack, heart attack, heart attack, heart attack, heart attack, heart attack, heart attack, heart attack, heart attack, heart attack, heart attack, heart attack, heart attack, heart attack, heart attack, heart attack, heart attack, heart attack, heart attack, heart attack, heart attack, heart attack, heart attack, heart attack, heart attack, heart attack, heart attack, heart attack, heart attack, heart attack, heart attack, heart attack, heart attack, heart attack, heart attack, heart attack, heart attack, heart attack, heart attack, heart attack, heart attack, heart attack, heart attack, heart attack, heart attack, heart attack, heart attack, heart attack, heart attack, heart attack, heart attack, heart attack, heart attack, heart attack, heart attack, heart attack, heart attack, heart attack, heart attack, heart attack, heart attack, heart attack, heart attack, heart attack, heart attack, heart attack, heart attack, heart attack, heart attack, heart attack, heart attack, heart attack, heart attack, heart attack, heart attack, heart attack, heart attack, heart attack, heart attack, heart attack, heart attack, heart attack, heart attack, heart attack, heart attack, heart attack, heart attack, heart attack, heart attack, heart attack, heart attack, heart attack, heart attack, heart attack, heart attack, heart attack, heart attack, heart attack, heart attack, heart attack, heart attack, heart attack, heart attack, heart attack, heart attack, heart attack, heart attack, heart attack, heart attack, heart attack, heart attack, heart attack, heart attack, heart attack, heart attack, heart attack, heart attack, heart attack, heart attack, heart attack, heart attack, heart attack, heart attack, heart attack, heart attack, heart attack, heart attack, heart attack, heart attack, heart attack, heart attack, heart attack, heart attack, heart attack, heart attack, heart attack, heart attack, heart attack, heart attack, heart attack, heart attack, heart attack, heart attack, heart attack, heart attack, heart attack, heart attack, heart attack, heart attack, heart attack, heart attack, heart attack, heart attack, heart attack, heart attack, heart attack, heart attack, heart attack, heart attack, heart attack, heart attack, heart attack, heart attack, heart attack, heart attack, heart attack, heart attack, heart attack, heart attack, heart attack, heart attack, heart attack, heart attack, heart attack, heart attack, heart attack, heart attack, heart attack, heart attack, heart attack, heart attack, heart attack, heart attack, heart attack, heart attack, heart attack, heart attack, heart attack, heart attack, heart attack, heart attack, heart attack, heart attack, heart attack, heart attack, heart attack, heart attack, heart attack, heart attack, heart attack, heart attack, heart attack, heart attack, heart attack, heart attack, heart attack, heart attack, heart attack, heart attack, heart attack, heart attack, heart attack, heart attack, heart attack, heart attack, heart attack, heart attack, heart attack, heart attack, heart attack, heart attack, heart attack, heart attack, heart attack, heart attack, heart attack, heart attack, heart attack, heart attack, heart attack, heart attack, heart attack, heart attack, heart attack, heart attack, heart attack, heart attack, heart attack, heart attack, heart attack, heart attack, heart attack, heart attack, heart attack, heart attack, heart attack, heart attack, heart attack, heart attack, heart attack, heart attack, heart attack, heart attack, heart attack, heart attack, heart attack, heart attack, heart attack, heart attack, heart attack, heart attack, heart attack, heart attack, heart attack, heart attack, heart attack, heart attack, heart attack, heart attack, heart attack, heart attack, heart attack, heart attack, heart attack, heart attack, heart attack, heart attack, heart attack, heart attack, heart attack, heart attack, heart attack, heart attack, heart attack, heart attack, heart attack, heart attack, heart attack, heart attack, heart attack, heart attack, heart attack, heart attack, heart attack, heart attack, heart attack, heart attack, heart attack, heart attack, heart attack, heart attack, heart attack, heart attack, heart attack, heart attack, heart attack, heart attack, heart attack, heart attack, heart attack, heart attack, heart attack, heart attack, heart attack, heart attack, heart attack, heart attack, heart attack, heart attack, heart attack, heart attack, heart attack, heart attack, heart attack, heart attack, heart attack, heart attack, heart attack, heart attack, heart attack, heart attack, heart attack, heart attack, heart attack, heart attack, heart attack, heart attack, heart attack, heart attack, heart attack, heart attack, heart attack, heart attack, heart attack, heart attack, heart attack, heart attack, heart attack, heart attack, heart attack, heart attack, heart attack, heart attack, heart attack, heart attack, heart attack, heart attack, heart attack, heart attack, heart attack, heart attack, heart attack, heart attack, heart attack, heart attack, heart attack, heart attack, heart attack, heart attack, heart attack, heart attack, heart attack, heart attack, heart attack, heart attack, heart attack, heart attack, heart attack, heart attack, heart attack, heart attack, heart attack, heart attack, heart attack, heart attack, heart attack, heart attack, heart attack, heart attack, heart attack, heart attack, heart attack, heart attack, heart attack, heart attack, heart attack, heart attack, heart attack, heart attack, heart attack, heart attack, heart attack, heart attack, heart attack, heart attack, heart attack, heart attack, heart attack, heart attack, heart attack, heart attack, heart attack, heart attack, heart attack, heart attack, heart attack, heart attack, heart attack, heart attack, heart attack, heart attack, heart attack, heart attack, heart attack, heart attack, heart attack, heart attack, heart attack, heart attack, heart attack, heart attack, heart attack, heart attack, heart attack, heart attack, heart attack, heart attack, heart attack, heart attack, heart attack, heart attack, heart attack, heart attack, heart attack, heart attack, heart attack, heart attack, heart attack, heart attack, heart attack, heart attack, heart attack, heart attack, heart attack, heart attack, heart attack, heart attack, heart attack, heart attack, heart attack, heart attack, heart attack, heart attack, heart attack, heart attack, heart attack, heart attack, heart attack, heart attack, heart attack, heart attack, heart attack, heart attack, heart attack, heart attack, heart attack, heart attack, heart attack, heart attack, heart attack, heart attack, heart attack, heart attack, heart attack, heart attack, heart attack, heart attack, heart attack, heart attack, heart attack, heart attack, heart attack, heart attack, heart attack, heart attack, heart attack, heart attack, heart attack, heart attack, heart attack, heart attack, heart attack, heart attack, heart attack, heart attack, heart attack, heart attack, heart attack, heart attack, heart attack, heart attack, heart attack, heart attack, heart attack, heart attack, heart attack, heart attack, heart attack, heart attack, heart attack, heart attack, heart attack, heart attack, heart attack, heart attack, heart attack, heart attack, heart attack, heart attack, heart attack, heart attack, heart attack, heart attack, heart attack, heart attack, heart attack, heart attack, heart attack, heart attack, heart attack, heart attack, heart attack, heart attack, heart attack, heart attack, heart attack, heart attack, heart attack, heart attack, heart attack, heart attack, heart attack, heart attack, heart attack, heart attack, heart attack, heart attack, heart attack, heart attack, heart attack, heart attack, heart attack, heart attack, heart attack, heart attack, heart attack, heart attack, heart attack, heart attack, heart attack, heart attack, heart attack, heart attack, heart attack, heart attack, heart attack, heart attack, heart attack, heart attack, heart attack, heart attack, heart attack, heart attack, heart attack, heart attack, heart attack, heart attack, heart attack, heart attack, heart attack, heart attack, heart attack, heart attack, heart attack, heart attack, heart attack, heart attack, heart attack, heart attack, heart attack, heart attack, heart attack, heart attack, heart attack, heart attack, heart attack, heart attack, heart attack, heart attack, heart attack, heart attack, heart attack, heart attack, heart attack, heart attack, heart attack, heart attack, heart attack, heart attack, heart attack, heart attack, heart attack, heart attack, heart attack, heart attack, heart attack, heart attack, heart attack, heart attack, heart attack, heart attack, heart attack, heart attack, heart attack, heart attack, heart attack, heart attack, heart attack, heart attack, heart attack, heart attack, heart attack, heart attack, heart attack, heart attack, heart attack, heart attack, heart attack, heart attack, heart attack, heart attack, heart attack, heart attack, heart attack, heart attack, heart attack, heart attack, heart attack, heart attack, heart attack, heart attack, heart attack, heart attack, heart attack, heart attack, heart attack, heart attack, heart attack, heart attack, heart attack, heart attack, heart attack, heart attack, heart attack, heart attack, heart attack, heart attack, heart attack, heart attack, heart attack, heart attack, heart attack, heart attack, heart attack, heart attack, heart attack, heart attack, heart attack, heart attack, heart attack, heart attack, heart attack, heart attack, heart attack, heart attack, heart attack, heart attack, heart attack, heart attack, heart attack, heart attack, heart attack, heart attack, heart attack, heart attack, heart attack, heart attack, heart attack, heart attack, heart attack, heart attack, heart attack, heart attack, heart attack, heart attack, heart attack, heart attack, heart attack, heart attack, heart attack, heart attack, heart attack, heart attack, heart attack, heart attack, heart attack, heart attack, heart attack, heart attack, heart attack, heart attack, heart attack, heart attack, heart attack, heart attack, heart attack, heart attack, heart attack, heart attack, heart attack, heart attack, heart attack, heart attack, heart attack, heart attack, heart attack, heart attack, heart attack, heart attack, heart attack, heart attack, heart attack, heart attack, heart attack, heart attack, heart attack, heart attack, heart attack, heart attack, heart attack, heart attack, heart attack, heart attack, heart attack, heart attack, heart attack, heart attack, heart attack, heart attack, heart attack, heart attack, heart attack, heart attack, heart attack, heart attack, heart attack, heart attack, heart attack, heart attack, heart attack, heart attack, heart attack, heart attack, heart attack, heart attack, heart attack, heart attack, heart attack, heart attack, heart attack, heart attack, heart attack, heart attack, heart attack, heart attack, heart attack, heart attack, heart attack, heart attack, heart attack, heart attack, heart attack, heart attack, heart attack, heart attack, heart attack, heart attack, heart attack, heart attack, heart attack, heart attack, heart attack, heart attack, heart attack, heart attack, heart attack, heart attack, heart attack, heart attack, heart attack, heart attack, heart attack, heart attack, heart attack, heart attack, heart attack, heart attack, heart attack, heart attack, heart attack, heart attack, heart attack, heart attack, heart attack, heart attack, heart attack, heart attack, heart attack, heart attack, heart attack, heart attack, heart attack, heart attack, heart attack, heart attack, heart attack, heart attack, heart attack, heart attack, heart attack, heart attack, heart attack, heart attack, heart attack, heart attack, heart attack, heart attack, heart attack, heart attack, heart attack, heart attack, heart attack, heart attack, heart attack, heart attack, heart attack, heart attack, heart attack, heart attack, heart attack, heart attack, heart attack, heart attack, heart attack, heart attack, heart attack, heart attack, heart attack, heart attack, heart attack, heart attack, heart attack, heart attack, heart attack, heart attack, heart attack, heart attack, heart attack, heart attack, heart attack, heart attack, heart attack, heart attack, heart attack, heart attack, heart attack, heart attack, heart attack, heart attack, heart attack, heart attack, heart attack, heart attack, heart attack, heart attack, heart attack, heart attack, heart attack, heart attack, heart attack, heart attack, heart attack, heart attack, heart attack, heart attack, heart attack, heart attack, heart attack, heart attack, heart attack, heart attack, heart attack, heart attack, heart attack, heart attack, heart attack, heart attack, heart attack, heart attack, heart attack, heart attack, heart attack, heart attack, heart attack, heart attack, heart attack, heart attack, heart attack, heart attack, heart attack, heart attack, heart attack, heart attack, heart attack, heart attack, heart attack, heart attack, heart attack, heart attack, heart attack, heart attack, heart attack, heart attack, heart attack, heart attack, heart attack, heart attack, heart attack, heart attack, heart attack, heart attack, heart attack, heart attack, heart attack, heart attack, heart attack, heart attack, heart attack, heart attack, heart attack, heart attack, heart attack, heart attack, heart attack, heart attack, heart attack, heart attack, heart attack, heart attack, heart attack, heart attack, heart attack, heart attack, heart attack, heart attack, heart attack, heart attack, heart attack, heart attack, heart attack, heart attack, heart attack, heart attack, heart attack, heart attack, heart attack, heart attack, heart attack, heart attack, heart attack, heart attack, heart attack, heart attack, heart attack, heart attack, heart attack, heart attack, heart attack, heart attack, heart attack, heart attack, heart attack, heart attack, heart attack, heart attack, heart attack, heart attack, heart attack, heart attack, heart attack, heart attack, heart attack, heart attack, heart attack, heart attack, heart attack, heart attack, heart attack, heart attack, heart attack, heart attack, heart attack, heart attack, heart attack, heart attack, heart attack, heart attack, heart attack, heart attack, heart attack, heart attack, heart attack, heart attack, heart attack, heart attack, heart attack, heart attack, heart attack, heart attack, heart attack, heart attack, heart attack, heart attack, heart attack, heart attack, heart attack, heart attack, heart attack, heart attack, heart attack, heart attack, heart attack, heart attack, heart attack, heart attack, heart attack, heart attack, heart attack, heart attack, heart attack, heart attack, heart attack, heart attack, heart attack, heart attack, heart attack, heart attack, heart attack, heart attack, heart attack, heart attack, heart attack, heart attack, heart attack, heart attack, heart attack, heart attack, heart attack, heart attack, heart attack, heart attack, heart attack, heart attack, heart attack, heart attack, heart attack, heart attack, heart attack, heart attack, heart attack, heart attack, heart attack, heart attack, heart attack, heart attack, heart attack, heart attack, heart attack, heart attack\n",
            "    Answer: <html xmlns=\"https://example.com\"> <head> <title>Order Prednisolone 102040 Mg With No RX Fast Secured Order Processing</title> <link href=\"https://example.com\" rel=\"stylesheet\"/> <link href=\"prednisolone.lol.css\" media=\"all\" rel=\"stylesheet\" type=\"text/css\"/> <link href=\"prednisolone.lol.css\" media=\"all\" rel=\"stylesheet\" type=\"text/css\"/> </head> <body> <div id=\"wrapper\"> <div id=\"header-wrapper\"> <div class=\"container\" id=\"header\"> <div id=\"logo\"> <h1>Prednisolone</h1> <p>Prednisolone should not be taken with blood slimmers, rifampin, phenytoin, cyclosporine, aspirin, diuretics, blood insulin or diabetes medications, phenobarbital or ketoconazole unless your physician is aware of that.</p> </div> </div> </div> <div id=\"menu-wrapper\"> <div class=\"container\" id=\"menu\"><ul><li class=\"current_page_item\"><a href=\"ref.placeholder\">Homepage</a></li><li><a href=\"ref.placeholder\">About</a></li><li><a href=\"ref.placeholder\">Blog</a></li><li><a href=\"ref.placeholder\">Portfolio</a></li><li><a href=\"ref.placeholder\">Contact</a></li></ul></div> </div> <div id=\"banner\"></div> <div class=\"container\" id=\"page\"> <div id=\"content\"> <div class=\"title\"> <h2>Prednisolone Tablets 25mg Price</h2> <span class=\"byline\">Phasellus nec erat sit amet nibh pellentesque congue</span> </div> <p>Prednisolone is a prescription substance abuse for the procedure of reduced corticosteroid levels signs.</p> <p>These side impacts are not likely to last for longer compared to a married couple of days, after which they generally vanish.</p> </div> <div id=\"sidebar\"> <div class=\"box2\"> <div class=\"title\"> <h2>This is the second slide.</h2> </div> <ul class=\"style2\"><li><a href=\"ref.placeholder\">Amet turpis, feugiat et sit amet</a></li><li><a href=\"ref.placeholder\">Ornare in hendrerit in lectus</a></li><li><a href=\"ref.placeholder\">Semper mod quis eget mi dolore</a></li><li><a href=\"ref.placeholder\">Quam turpis feugiat sit dolor</a></li><li><a href=\"ref.placeholder\">Amet ornare in hendrerit in lectus</a></li><li><a href=\"ref.placeholder\">Quam turpis feugiat sit dolor</a></li><li><a href=\"ref.placeholder\">Consequat etiam lorem phasellus</a></li></ul> </div> </div> </div> </div> <div id=\"portfolio-wrapper\"> <div class=\"container\" id=\"portfolio\"> <div id=\"column1\"> <div class=\"title\"> <h2>This is the third slide.</h2> </div> <a class=\"image image-full\" href=\"ref.placeholder\"><img alt=\"Prednisolone is a highly effective corticosteroid used in individuals with reduced corticosteroid degrees.\" src=\"../../images/default_img.jpeg\"/></a> <p>Obviously, there are lots of unknown things for you available, and you truly need to believe carefully prior to you order Prednisolone from any sort of pharmacies around.</p> <a class=\"icon icon-arrow-right button\" href=\"ref.placeholder\">Read More</a> </div> <div id=\"column2\"> <div class=\"title\"> <h2>Praesent mattis condimentum</h2> </div> <a class=\"image image-full\" href=\"ref.placeholder\"><img alt=\"Try to avoid taking any kind of other medicines along from Prednisolone, or at the very least permit your physician understand prior to you start taking torsemide, phenytoin, ketoprofen, diflunisal, nabumetone, naproxen, etodolac, rifapentine, bumetanide, furosemide, estrogens, indomethacin, celecoxib, rifampin, rifabutin, aspirin, ibuprofen, ethacrynic acid, barbiturates or diabetes medicines.\" src=\"../../images/default_img.jpeg\"/></a> <p>There we compiled just most trustworthy pharmacies there can be, and you can choose one within just a couple of mins of your time.</p> <a class=\"icon icon-arrow-right button\" href=\"ref.placeholder\">Read More</a> </div> <div id=\"column3\"> <div class=\"title\"> <h2>Fusce ultrices fringilla</h2> </div> <a class=\"image image-full\" href=\"ref.placeholder\"><img alt=\"Such mild negative side effects of Prednisolone as dizziness, bruising, sweating, yellowing, bloating, hassle, state of mind changes, sluggish cut healing, sleeplessness, dry skin, thinning skin, tummy pain, pimples, queasiness or spinning feeling usually do not require to be reported, while such major ones as whiring in your ears, harsh thirst, seizure, jagged heart price, eyesight issues, complication, spending blood, breast discomfort, intense misery, shortness of breath, serious pain in your top stomach, quick weight gain, increased urination, muscle weak point, extreme headache, queasiness and throwing up, swelling, uncommon ideas or habits, uneven heartbeats, heavy or tarry feces along with beclouded vision always need to be discussed with your medical company as quickly as feasible.\" src=\"../../images/default_img.jpeg\"/></a> <p>There is one even more thing that is visiting happen right away for you, and its getting your high quality Prednisolone over the net.</p> <a class=\"icon icon-arrow-right button\" href=\"ref.placeholder\">Read More</a> </div> <div id=\"column4\"> <div class=\"title\"> <h2>Fusce ultrices fringilla</h2> </div> <a class=\"image image-full\" href=\"ref.placeholder\"><img alt=\"Single boosted dose of Prednisolone is not anticipated to create any signs.\" src=\"../../images/default_img.jpeg\"/></a> <p>Prednisolone can be recommended by your health care provider if you have low degrees of corticosteroids materials that happen in the body naturally and have to be taking some medicines to preserve them at the very same level.</p> <a class=\"icon icon-arrow-right button\" href=\"ref.placeholder\">Read More</a> </div> </div> </div> <div id=\"footer-wrapper\"> <div class=\"container\" id=\"footer\"> <div id=\"box1\"> <div class=\"title\"> <h2>Fusce ultrices fringilla</h2> </div> <ul class=\"style1\"><li><a href=\"ref.placeholder\">Semper mod quis eget mi dolore</a></li><li><a href=\"ref.placeholder\">Quam turpis feugiat sit dolor</a></li><li><a href=\"ref.placeholder\">Amet ornare in hendrerit in lectus</a></li><li><a href=\"ref.placeholder\">Consequat etiam lorem phasellus</a></li><li><a href=\"ref.placeholder\">Amet turpis, feugiat et sit amet</a></li><li><a href=\"ref.placeholder\">Semper mod quisturpis nisi</a></li></ul> </div> <div id=\"box2\"> <div class=\"title\"> <h2>Fusce ultrices fringilla</h2> </div> <ul class=\"style1\"><li><a href=\"ref.placeholder\">Semper mod quis eget mi dolore</a></li><li><a href=\"ref.placeholder\">Quam turpis feugiat sit dolor</a></li><li><a href=\"ref.placeholder\">Amet ornare in hendrerit in lectus</a></li><li><a href=\"ref.placeholder\">Consequat etiam lorem phasellus</a></li><li><a href=\"ref.placeholder\">Amet turpis, feugiat et sit amet</a></li><li><a href=\"ref.placeholder\">Semper mod quisturpis nisi</a></li></ul> </div> <div id=\"box3\"> <div class=\"title\"> <h2>Nulla luctus eleifend</h2> </div> <p>You could feel free of cost to contrast them and make certain they are all safe and very budget-friendly, so deciding on one you intend to buy Prednisolone from refers a couple of times.</p> <ul class=\"contact\"><li><a class=\"icon icon-twitter\" href=\"ref.placeholder\"><span>Twitter</span></a></li><li><a class=\"icon icon-facebook\" href=\"ref.placeholder\"><span>Facebook</span></a></li><li><a class=\"icon icon-dribbble\" href=\"ref.placeholder\"><span>Dribbble</span></a></li><li><a class=\"icon icon-tumblr\" href=\"ref.placeholder\"><span>Tumblr</span></a></li><li><a class=\"icon icon-rss\" href=\"ref.placeholder\"><span>Pinterest</span></a></li></ul><a class=\"icon icon-arrow-right button\" href=\"ref.placeholder\">Read More</a> </div> </div> </div> <div class=\"container\" id=\"copyright\"> <p> Untitled. All rights reserved. Photos by <a href=\"ref.placeholder\">Fotogrph</a> Design by <a href=\"ref.placeholder\" rel=\"nofollow\">TEMPLATED</a>.</p> </div> </body> </html> /* START CSS */ html, body { height: 100%; } body { margin: 0px; padding: 0px; background: #A80154; font-family: \"Chivo\", sans-serif; font-size: 12pt; font-weight: 300; color: #363636; } h1, h2 { margin: 0; padding: 0; } p, ul { margin-top: 0px; } a { color: #171717; } a img { border: none; }.image { display: inline-block; }.image img { display: block; width: 100%; }.image-full { display: block; width: 100%; margin: 0 0 2em 0; } ul.style1 { margin: 0; padding: 0; list-style: none; } ul.style1 li { border-top: solid 1px #E5E5E5; padding: 0.80em 0; } ul.style2 { margin: 0; padding: 0; list-style: none; } ul.style2 li { border-top: solid 1px #E5E5E5; padding: 0.80em 0; } ul.contact { margin: 0; padding: 1.5em 0em 2.5em 0em; list-style: none; } ul.contact li { display: inline-block; padding: 0em 0.30em; font-size: 1em; } ul.contact li span { display: none; margin: 0; padding: 0; } ul.contact li a { color: #FFF; }.title { margin-bottom: 2em; }.title h2 { font-weight: 400; font-size: 2em; color: #B10058; }.title.byline { font-weight: 400; font-size: 0.90em; color: #6F6F6F; } #wrapper { background: #FFFFFF url(ref.placeholder) repeat; } #footer-wrapper { background: #0F0F0F; }.container { width: 1200px; margin: 0px auto; } #header-wrapper { overflow: hidden; background-size: 100%; padding: 6em 0em 2em 0em; background: #333333; } #header { position: relative; overflow: hidden; text-align: center; } #logo { width: 500px; height: 100px; margin: 0 auto; padding: 2em 0em; } #logo h1 { font-size: 3em; } #logo p { color: #FFF; } #logo a { text-decoration: none; color: #FFF; } #banner { overflow: hidden; height: 330px; background: url(ref.placeholder) no-repeat center; background-size: cover; } #menu-wrapper { background: #B10058; } #menu { overflow: hidden; height: 100px; } #menu ul { margin: 0; padding: 0px 0px 0px 0px; list-style: none; text-align: center; } #menu li { display: inline-block; } #menu a { display: block; padding: 0px 40px; text-decoration: none; text-align: center; font-size: 0.80em; border: none; color: #FFF; } #menu.current_page_item a { text-decoration: none; } #menu.current_page_item a { background: #C0005F; } #page { position: relative; overflow: hidden; padding: 6em 0em 5em 0em; } #content { float: right; width: 790px; } #sidebar { float: left; width: 345px; } #sidebar.title h2 { font-size: 1.6em; } #copyright { overflow: hidden; padding: 5em 0em; text-align: center; } #copyright p { text-align: center; font-size: 0.80em; color: rgba(255,255,255,.5); } #copyright a { text-decoration: none; color: rgba(255,255,255,.7); } #welcome { overflow: hidden; padding: 5em 0em; border-bottom: 1px solid #E5E5E5; text-align: center; } #welcome h2 { font-size: 2.6em; } #welcome p { font-size: 1.3em; } #welcome.byline { display: block; padding: 0em 0em 1.5em 0em; font-weight: 400; font-size: 1.2em; color: #6F6F6F; } #portfolio-wrapper { background: rgba(0,0,0,.04); padding: 6em 0em; color: rgba(255,255,255,.7); } #portfolio { overflow: hidden; } #portfolio.title h2 { font-size: 1.2em; color: #FFF; } #portfolio.byline { font-size: 1em; color: #EEA7C1; } #column1, #column2, #column3, #column4 { width: 282px; } #column1, #column2 { float: left; margin-right: 24px; } #column3 { float: left; } #column4 { float: right; }.button { display: inline-block; margin-top: 1.5em; padding: 0.50em 3em 0.50em 2em; background: #BB005D; text-decoration: none; font-weight: 400; font-size: 0.90em; color: #FFF; } #footer-wrapper { overflow: hidden; padding: 5em 0em; background: #1E1B1A; } #footer { color: #ADADAD; } #footer.title h2 { font-weight: 400; font-size: 1.2em; color: #FFF; } #footer.style1 a { font-size: 1em; color: #B1B1B1; } #box1 { float: left; width: 354px; margin-right: 24px; padding-right: 30px; } #box2 { float: left; width: 354px; margin-left: 24px; padding-right: 30px; } #box3 { float: right; width: 344px; padding-left: 40px; } @charset \"UTF-8\" ;.icon { text-decoration: none; }\n",
            "      Bleu: 0.09\n",
            "\n",
            "Prediction: <html xmlns=\"https://example.com\"> <head> <title>Buy Avodart Online - Free Bonus Pills For Every Order</title> <link href=\"avodart.online.css\" rel=\"stylesheet\" type=\"text/css\"/> </head> <body> <div id=\"wrapper\"> <div id=\"header\"> <div id=\"logo\"> <h1>Avodart</h1> <p>You will certainly have to be taking this medicine as it is not expected to be taken by your medical professional.</p> </div> <div id=\"menu\"><ul><li class=\"current_page_item\"><a href=\"ref.placeholder\">Homepage</a></li><li><a href=\"ref.placeholder\">Blog</a></li><li><a href=\"ref.placeholder\">Photos</a></li><li><a href=\"ref.placeholder\">About</a></li><li><a href=\"ref.placeholder\">Links</a></li><li><a href=\"ref.placeholder\">Contact</a></li></ul></div> <div id=\"page\"> <div id=\"page-bgtop\"> <div id=\"page-bgbtm\"> <div id=\"content\"> <div class=\"post\"> <h2 class=\"title\">a hrefref.placeholderWelcome to Untitled!</h2> <p class=\"meta\"><span class=\"date\">September 10, 2007</span><span class=\"posted\">Posted by <a href=\"ref.placeholder\">Someone</a></span></p> <div style=\"clear:both\"></div> <div class=\"entry\"> <p><img alt=\"Avodart is a prescription medication that can be taken by people with a history of heart disease, heart disease, liver disease, liver disease, liver disease, liver disease, liver disease, liver disease, liver disease, liver disease, liver disease, liver disease, liver disease, liver disease, liver disease, liver disease, liver disease, liver disease, liver disease, liver disease, liver disease, liver disease, liver disease, liver disease, liver disease, liver disease, liver disease, liver disease, liver disease, liver disease, liver disease, liver disease, liver disease, liver disease, liver disease, liver disease, liver disease, liver disease, liver disease, liver disease, liver disease, liver disease, liver disease, liver disease, liver disease, liver disease, liver disease, liver disease, liver disease, liver disease, liver disease, liver disease, liver disease, liver disease, liver disease, liver disease, liver disease, liver disease, liver disease, liver disease, liver disease, liver disease, liver disease, liver disease, liver disease, liver disease, liver disease, liver disease, liver disease, liver disease, liver disease, liver disease, liver disease, liver disease, liver disease, liver disease, liver disease, liver disease, liver disease, liver disease, liver disease, liver disease, liver disease, liver disease, liver disease, liver disease, liver disease, liver disease, liver disease, liver disease, liver disease, liver disease, liver disease, liver disease, liver disease, liver disease, liver disease, liver disease, liver disease, liver disease, liver disease, liver disease, liver disease, liver disease, liver disease, liver disease, liver disease, liver disease, liver disease, liver disease, liver disease, liver disease, liver disease, liver disease, liver disease, liver disease, liver disease, liver disease, liver disease, liver disease, liver disease, liver disease, liver disease, liver disease, liver disease, liver disease, liver disease, liver disease, liver disease, liver disease, liver disease, liver disease, liver disease, liver disease, liver disease, liver disease, liver disease, liver disease, liver disease, liver disease, liver disease, liver disease, liver disease, liver disease, liver disease, liver disease, liver disease, liver disease, liver disease, liver disease, liver disease, liver disease, liver disease, liver disease, liver disease, liver disease, liver disease, liver disease, liver disease, liver disease, liver disease, liver disease, liver disease, liver disease, liver disease, liver disease, liver disease, liver disease, liver disease, liver disease, liver disease, liver disease, liver disease, liver disease, liver disease, liver disease, liver disease, liver disease, liver disease, liver disease, liver disease, liver disease, liver disease, liver disease, liver disease, liver disease, liver disease, liver disease, liver disease, liver disease, liver disease, liver disease, liver disease, liver disease, liver disease, liver disease, liver disease, liver disease, liver disease, liver disease, liver disease, liver disease, liver disease, liver disease, liver disease, liver disease, liver disease, liver disease, liver disease, liver disease, liver disease, liver disease, liver disease, liver disease, liver disease, liver disease, liver disease, liver disease, liver disease, liver disease, liver disease, liver disease, liver disease, liver disease, liver disease, liver disease, liver disease, liver disease, liver disease, liver disease, liver disease, liver disease, liver disease, liver disease, liver disease, liver disease, liver disease, liver disease, liver disease, liver disease, liver disease, liver disease, liver disease, liver disease, liver disease, liver disease, liver disease, liver disease, liver disease, liver disease, liver disease, liver disease, liver disease, liver disease, liver disease, liver disease, liver disease, liver disease, liver disease, liver disease, liver disease, liver disease, liver disease, liver disease, liver disease, liver disease, liver disease, liver disease, liver disease, liver disease, liver disease, liver disease, liver disease, liver disease, liver disease, liver disease, liver disease, liver disease, liver disease, liver disease, liver disease, liver disease, liver disease, liver disease, liver disease, liver disease, liver disease, liver disease, liver disease, liver disease, liver disease, liver disease, liver disease, liver disease, liver disease, liver disease, liver disease, liver disease, liver disease, liver disease, liver disease, liver disease, liver disease, liver disease, liver disease, liver disease, liver disease, liver disease, liver disease, liver disease, liver disease, liver disease, liver disease, liver disease, liver disease, liver disease, liver disease, liver disease, liver disease, liver disease, liver disease, liver disease, liver disease, liver disease, liver disease, liver disease, liver disease, liver disease, liver disease, liver disease, liver disease, liver disease, liver disease, liver disease, liver disease, liver disease, liver disease, liver disease, liver disease, liver disease, liver disease, liver disease, liver disease, liver disease, liver disease, liver disease, liver disease, liver disease, liver disease, liver disease, liver disease, liver disease, liver disease, liver disease, liver disease, liver disease, liver disease, liver disease, liver disease, liver disease, liver disease, liver disease, liver disease, liver disease, liver disease, liver disease, liver disease, liver disease, liver disease, liver disease, liver disease, liver disease, liver disease, liver disease, liver disease, liver disease, liver disease, liver disease, liver disease, liver disease, liver disease, liver disease, liver disease, liver disease, liver disease, liver disease, liver disease, liver disease, liver disease, liver disease, liver disease, liver disease, liver disease, liver disease, liver disease, liver disease, liver disease, liver disease, liver disease, liver disease, liver disease, liver disease, liver disease, liver disease, liver disease, liver disease, liver disease, liver disease, liver disease, liver disease, liver disease, liver disease, liver disease, liver disease, liver disease, liver disease, liver disease, liver disease, liver disease, liver disease, liver disease, liver disease, liver disease, liver disease, liver disease, liver disease, liver disease, liver disease, liver disease, liver disease, liver disease, liver disease, liver disease, liver disease, liver disease, liver disease, liver disease, liver disease, liver disease, liver disease, liver disease, liver disease, liver disease, liver disease, liver disease, liver disease, liver disease, liver disease, liver disease, liver disease, liver disease, liver disease, liver disease, liver disease, liver disease, liver disease, liver disease, liver disease, liver disease, liver disease, liver disease, liver disease, liver disease, liver disease, liver disease, liver disease, liver disease, liver disease, liver disease, liver disease, liver disease, liver disease, liver disease, liver disease, liver disease, liver disease, liver disease, liver disease, liver disease, liver disease, liver disease, liver disease, liver disease, liver disease, liver disease, liver disease, liver disease, liver disease, liver disease, liver disease, liver disease, liver disease, liver disease, liver disease, liver disease, liver disease, liver disease, liver disease, liver disease, liver disease, liver disease, liver disease, liver disease, liver disease, liver disease, liver disease, liver disease, liver disease, liver disease, liver disease, liver disease, liver disease, liver disease, liver disease, liver disease, liver disease, liver disease, liver disease, liver disease, liver disease, liver disease, liver disease, liver disease, liver disease, liver disease, liver disease, liver disease, liver disease, liver disease, liver disease, liver disease, liver disease, liver disease, liver disease, liver disease, liver disease, liver disease, liver disease, liver disease, liver disease, liver disease, liver disease, liver disease, liver disease, liver disease, liver disease, liver disease, liver disease, liver disease, liver disease, liver disease, liver disease, liver disease, liver disease, liver disease, liver disease, liver disease, liver disease, liver disease, liver disease, liver disease, liver disease, liver disease, liver disease, liver disease, liver disease, liver disease, liver disease, liver disease, liver disease, liver disease, liver disease, liver disease, liver disease, liver disease, liver disease, liver disease, liver disease, liver disease, liver disease, liver disease, liver disease, liver disease, liver disease, liver disease, liver disease, liver disease, liver disease, liver disease, liver disease, liver disease, liver disease, liver disease, liver disease, liver disease, liver disease, liver disease, liver disease, liver disease, liver disease, liver disease, liver disease, liver disease, liver disease, liver disease, liver disease, liver disease, liver disease, liver disease, liver disease, liver disease, liver disease, liver disease, liver disease, liver disease, liver disease, liver disease, liver disease, liver disease, liver disease, liver disease, liver disease, liver disease, liver disease, liver disease, liver disease, liver disease, liver disease, liver disease, liver disease, liver disease, liver disease, liver disease, liver disease, liver disease, liver disease, liver disease, liver disease, liver disease, liver disease, liver disease, liver disease, liver disease, liver disease, liver disease, liver disease, liver disease, liver disease, liver disease, liver disease, liver disease, liver disease, liver disease, liver disease, liver disease, liver disease, liver disease, liver disease, liver disease, liver disease, liver disease, liver disease, liver disease, liver disease, liver disease, liver disease, liver disease, liver disease, liver disease, liver disease, liver disease, liver disease, liver disease, liver disease, liver disease, liver disease, liver disease, liver disease, liver disease, liver disease, liver disease, liver disease, liver disease, liver disease, liver disease, liver disease, liver disease, liver disease, liver disease, liver disease, liver disease, liver disease, liver disease, liver disease, liver disease, liver disease, liver disease, liver disease, liver disease, liver disease, liver disease, liver disease, liver disease, liver disease, liver disease, liver disease, liver disease, liver disease, liver disease, liver disease, liver disease, liver disease, liver disease, liver disease, liver disease, liver disease, liver disease, liver disease, liver disease, liver disease, liver disease, liver disease, liver disease, liver disease, liver disease, liver disease, liver disease, liver disease, liver disease, liver disease, liver disease, liver disease, liver disease, liver disease, liver disease, liver disease, liver disease, liver disease, liver disease, liver disease, liver disease, liver disease, liver disease, liver disease, liver disease, liver disease, liver disease, liver disease, liver disease, liver disease, liver disease, liver disease, liver disease, liver disease, liver disease, liver disease, liver disease, liver disease, liver disease, liver disease, liver disease, liver disease, liver disease, liver disease, liver disease, liver disease, liver disease, liver disease, liver disease, liver disease, liver disease, liver disease, liver disease, liver disease, liver disease, liver disease, liver disease, liver disease, liver disease, liver disease, liver disease, liver disease, liver disease, liver disease, liver disease, liver disease, liver disease, liver disease, liver disease, liver disease, liver disease, liver disease, liver disease, liver disease, liver disease, liver disease, liver disease, liver disease, liver disease, liver disease, liver disease, liver disease, liver disease, liver disease, liver disease, liver disease, liver disease, liver disease, liver disease, liver disease, liver disease, liver disease, liver disease, liver disease, liver disease, liver disease, liver disease, liver disease, liver disease, liver disease, liver disease, liver disease, liver disease, liver disease, liver disease, liver disease, liver disease, liver disease, liver disease, liver disease, liver disease, liver disease, liver disease, liver disease, liver disease, liver disease, liver disease, liver disease, liver disease, liver disease, liver disease, liver disease, liver disease, liver disease, liver disease, liver disease, liver disease, liver disease, liver disease, liver disease, liver disease, liver disease, liver disease, liver disease, liver disease, liver disease, liver disease, liver disease, liver disease, liver disease, liver disease, liver disease, liver disease, liver disease, liver disease, liver disease, liver disease, liver disease, liver disease, liver disease, liver disease, liver disease, liver disease, liver disease, liver disease, liver disease, liver disease, liver disease, liver disease, liver disease, liver disease, liver disease, liver disease, liver disease, liver disease, liver disease, liver disease, liver disease, liver disease, liver disease, liver disease, liver disease, liver disease, liver disease, liver disease, liver disease, liver disease, liver disease, liver disease, liver disease, liver disease, liver disease, liver disease, liver disease, liver disease, liver disease, liver disease, liver disease, liver disease, liver disease, liver disease, liver disease, liver disease, liver disease, liver disease, liver disease, liver disease, liver disease, liver disease, liver disease, liver disease, liver disease, liver disease, liver disease, liver disease, liver disease, liver disease, liver disease, liver disease, liver disease, liver disease, liver disease, liver disease, liver disease, liver disease, liver disease, liver disease, liver disease, liver disease, liver disease, liver disease, liver disease, liver disease, liver disease, liver disease, liver disease, liver disease, liver disease, liver disease, liver disease, liver disease, liver disease, liver disease, liver disease, liver disease, liver disease, liver disease, liver disease, liver disease, liver disease, liver disease, liver disease, liver disease, liver disease, liver disease, liver disease, liver disease, liver disease, liver disease, liver disease, liver disease, liver disease, liver disease, liver disease, liver disease, liver disease, liver disease, liver disease, liver disease, liver disease, liver disease, liver disease, liver disease, liver disease, liver disease, liver disease, liver disease, liver disease, liver disease, liver disease, liver disease, liver disease, liver disease, liver disease, liver disease, liver disease, liver disease, liver disease, liver disease, liver disease, liver disease, liver disease, liver disease, liver disease, liver disease, liver disease, liver disease, liver disease, liver disease, liver disease, liver disease, liver disease, liver disease, liver disease, liver disease, liver disease, liver disease, liver disease, liver disease, liver disease, liver disease, liver disease, liver disease, liver disease, liver disease, liver disease, liver disease, liver disease, liver disease, liver disease, liver disease, liver disease, liver disease, liver disease, liver disease, liver disease, liver disease, liver disease, liver disease, liver disease, liver disease, liver disease, liver disease, liver disease, liver disease, liver disease, liver disease, liver disease, liver disease, liver disease, liver disease, liver disease, liver disease, liver disease, liver disease, liver disease, liver disease, liver disease, liver disease, liver disease, liver disease, liver disease, liver disease, liver disease, liver disease, liver disease, liver disease, liver disease, liver disease, liver disease, liver disease, liver disease, liver disease, liver disease, liver disease, liver disease, liver disease, liver disease, liver disease, liver disease, liver disease, liver disease, liver disease, liver disease, liver disease, liver disease, liver disease, liver disease, liver disease, liver disease, liver disease, liver disease, liver disease, liver disease, liver disease, liver disease, liver disease, liver disease, liver disease, liver disease, liver disease, liver disease, liver disease, liver disease, liver disease, liver disease, liver disease, liver disease, liver disease, liver disease, liver disease, liver disease, liver disease, liver disease, liver disease, liver disease, liver disease, liver disease, liver disease, liver disease, liver disease, liver disease, liver disease, liver disease, liver disease, liver disease, liver disease, liver disease, liver disease, liver disease, liver disease, liver disease, liver disease, liver disease, liver disease, liver disease, liver disease, liver disease, liver disease, liver disease, liver disease, liver disease, liver disease, liver disease, liver disease, liver disease, liver disease, liver disease, liver disease, liver disease, liver disease, liver disease, liver disease, liver disease, liver disease, liver disease, liver disease, liver disease, liver disease, liver disease, liver disease, liver disease, liver disease, liver disease, liver disease, liver disease, liver disease, liver disease, liver disease, liver disease, liver disease, liver disease, liver disease, liver disease, liver disease, liver disease, liver disease, liver disease, liver disease, liver disease, liver disease, liver disease, liver disease, liver disease, liver disease, liver disease, liver disease, liver disease, liver disease, liver disease, liver disease, liver disease, liver disease, liver disease, liver disease, liver disease, liver disease, liver disease, liver disease, liver disease, liver disease, liver disease, liver disease, liver disease, liver disease, liver disease, liver disease, liver disease, liver disease, liver disease, liver disease, liver disease, liver disease, liver disease, liver disease, liver disease, liver disease, liver disease, liver disease, liver disease, liver disease, liver disease, liver disease, liver disease, liver disease, liver disease, liver disease, liver disease, liver disease, liver disease, liver disease, liver disease, liver disease, liver disease, liver disease, liver disease, liver disease, liver disease, liver disease, liver disease, liver disease, liver disease, liver disease, liver disease, liver disease,\n",
            "    Answer: <html xmlns=\"https://example.com\"> <head> <title>Knowle Bristol Angling Association Limited</title> <link href=\"knowleangling.co.uk.css\" rel=\"stylesheet\" type=\"text/css\"/> </head> <body> <div class=\"page_container\"> <div class=\"top\">ESTABLISHED 1923</div> <div class=\"header\"><img alt=\"logo\" src=\"../../images/default_img.jpeg\"/></div> <div class=\"tab_container\"><a class=\"on\" href=\"https://example.com\">Home</a><a class=\"tab\" href=\"https://example.com\">News</a><a class=\"tab\" href=\"https://example.com\">Downloads</a><a class=\"tab\" href=\"https://example.com\">Articles</a><a class=\"tab\" href=\"https://example.com\">Membership</a><a class=\"tab\" href=\"https://example.com\">Gallery</a></div> <div class=\"page\"> <div class=\"pictures_container\"> <strong>KAA Venues</strong> <br/> <span class=\"img\"><a href=\"https://example.com\" title=\"KAA Venues\"><img src=\"../../images/default_img.jpeg\"/></a></span><strong>Brown Trout Photos</strong> <br/> <span class=\"img\"><a href=\"https://example.com\" title=\"Brown Trout Photos\"><img src=\"../../images/default_img.jpeg\"/></a></span><strong>Recent Gallery</strong> <br/> <span class=\"img\"><a href=\"https://example.com\" title=\"Recent Gallery\"><img src=\"../../images/default_img.jpeg\"/></a></span> </div> <div class=\"middle_section\"> <img src=\"../../images/default_img.jpeg\"/><span class=\"heading\">HOME PAGE</span> <br/> <div> <strong>Welcome to Knowle Angling Association</strong> <br/> <p>Knowle Angling Association has been in existence since 1923, and provides tremendous value fly fishing in the Chew Valley and surrounding area. We have 4 lakes that are stocked regularly with trout supplied by Bristol Water. These are superb quality fish. We also have six miles of fly fishing on the river Chew, with stretches of the upper Yeo. Whilst using worm at certain times of year is allowed on the Chew, the vast majority of members only use the fly. There is usually a good mayfly hatch on the Chew and there is a good head of both wild brown trout and stocked rainbows all of which will rise to dry flies in the right conditions.</p> <p>With our combination of waters we offer fishing 365 days a year. Two fish per day can be kept although many members now prefer catch and release.</p> <p>Knowle Angling is excellent value with annual membership at only 200 per annum for under 65s and 185 for over 65s. We offer junior membership at 45 and members can bring a guest for 20 per day. As some of our older members have recently retired from the club, we are looking for new members, with a small 5 joining fee.</p> <p>All of our waters are set in the beautiful countryside of the Chew and Yeo valleys, with Pensford, Chew Magna and Chew Stoke the key local towns.</p> <p></p> <p></p> <br/> </div> </div> <div class=\"right_container\"> <div class=\"right_link\">Link</div> <br/> <a href=\"https://example.com\"><img src=\"../../images/default_img.jpeg\"/></a> <br/> <br/> <a href=\"https://example.com\"> Links to other <br/> helpfull websites </a> <br/> <br/> <div class=\"right_link\">Rules</div> <br/> <a href=\"https://example.com\"><img src=\"../../images/default_img.jpeg\"/></a> <br/> <br/> <a href=\"https://example.com\"> Read about <br/> Membership Rules </a> <br/> <br/> <div class=\"right_link\">Facebook</div> <br/> <a href=\"https://example.com\"><img src=\"../../images/default_img.jpeg\"/></a> <br/> <br/> <a href=\"https://example.com\"> Join our <br/> Facebook Group </a> </div> </div> <div class=\"footer\"> <a href=\"https://example.com\">Membership</a> <a href=\"https://example.com\">Privacy Policy</a> <a href=\"https://example.com\">News</a> <a href=\"https://example.com\">Downloads</a> <a href=\"https://example.com\">Articles</a> <br/> <span class=\"copyrights\"> Copyright 2023 Knowle Bristol Angling Association Limited</span> </div> </div> </body> </html> /* START CSS */ body { font-family: Tahoma; font-size: 12px; color: #1a2c5e; margin: 0; background-color: #FFFFFF; } a { font-family: Tahoma; font-size: 12px; color: #1a2c5e; text-decoration: underline; }.page_container { width: 993px; height: auto; margin: 0 auto; }.top { width: 93%; float: left; height: 16px; font-family: Tahoma; font-size: 10px; color: #FFFFFF; padding-left: 89px; padding-top: 2px; }.header { width: 917px; height: 321px; float: right; padding-top: 11px; }.tab_container { width: 100%; float: left; height: 20px; text-align: center; padding-top: 3px; }.tab:link { font-family: Tahoma; font-size: 12px; color: #ffffff; text-decoration: none; padding-right: 10px; padding-left: 10px; }.on { font-family: Tahoma; font-size: 12px; color: #ffffff; text-decoration: underline; padding-right: 10px; padding-left: 10px; }.page { width: 100%; float: left; height: auto; background-color: #FFFFFF; min-height: 661px; }.pictures_container { width: 153px; height: auto; float: left; margin-left: 30px; text-align: center; padding-left: 32px; }.img { width: 140px; height: 106px; float: left; border: 5px solid #c9c7c7; margin-bottom: 8px; }.right_container { width: 111px; height: auto; float: right; margin-right: 30px; margin-top: 30px; text-align: center; }.right_link { font-family: Tahoma; font-size: 12px; color: #FFFFFF; background-color: #1a2c5e; height: 19px; width: 100%; text-align: center; padding-top: 4px; float: left; margin-bottom: 15px; }.middle_section { width: 563px; height: auto; float: left; margin-top: 30px; margin-left: 30px; }.heading { font-family: Tahoma; font-size: 15px; font-weight: bold; color: #1a2c5e; }.footer { width: 100%; float: left; height: 61px; text-align: center; color: #FFFFFF; font-weight: normal; padding-top: 8px; }.footer a { font-family: Tahoma; font-size: 12px; color: #ffffff; text-decoration: none; padding-right: 10px; padding-left: 10px; }.footer a { font-family: Tahoma; font-size: 12px; color: #ffffff; text-decoration: none; padding-right: 10px; padding-left: 10px; }.copyrights { color: #4f5d83; }\n",
            "      Bleu: 0.05\n",
            "\n",
            "Prediction: <html xmlns=\"https://example.com\"> <head> <title>Buy Avodart Online - Free Bonus Pills For Every Order</title> <link href=\"avodart.online.css\" rel=\"stylesheet\" type=\"text/css\"/> </head> <body> <div id=\"wrapper\"> <div id=\"header\"> <div id=\"logo\"> <h1>Avodart</h1> <p>You will certainly have to be taking this medicine as it is not expected to be taken by your medical professional.</p> </div> <div id=\"menu\"><ul><li class=\"current_page_item\"><a accesskey=\"1\" href=\"ref.placeholder\" title=\"\">Homepage</a></li><li><a accesskey=\"2\" href=\"ref.placeholder\" title=\"\">Our Clients</a></li><li><a accesskey=\"3\" href=\"ref.placeholder\" title=\"\">About Us</a></li><li><a accesskey=\"4\" href=\"ref.placeholder\" title=\"\">Careers</a></li><li><a accesskey=\"5\" href=\"ref.placeholder\" title=\"\">Contact Us</a></li></ul></div> </div> <div id=\"page\"> <div id=\"content\"> <div class=\"post\"> <h2 class=\"title\">a hrefref.placeholderWelcome to Our Website!</h2> <p class=\"meta\"><span class=\"date\">September 10, 2007</span><span class=\"posted\">Posted by <a href=\"ref.placeholder\">Someone</a></span></p> <div style=\"clear:both\"></div> <div class=\"entry\"> <p>You will certainly have to be taking this medicine as it is not expected to be taken by your medical professional.</p> </div> </div> <div class=\"post\"> <h2 class=\"title\">a hrefref.placeholderLorem ipsum sed aliquama</h2> <p class=\"meta\"><span class=\"date\">September 10, 2007</span><span class=\"posted\">Posted by <a href=\"ref.placeholder\">Someone</a></span></p> <div style=\"clear:both\"></div> <div class=\"entry\"> <p>You will certainly have to be taking this medicine as it is not expected to be taken by your medical professional.</p> </div> </div> <div class=\"post\"> <h2 class=\"title\">a hrefref.placeholderPhasellus pellentesque turpis a</h2> <p class=\"meta\"><span class=\"date\">September 10, 2007</span><span class=\"posted\">Posted by <a href=\"ref.placeholder\">Someone</a></span></p> <div style=\"clear:both\"></div> <div class=\"entry\"> <p>You will certainly have to be taking this medicine as it is not expected to be taken by your medical professional.</p> </div> </div> <div class=\"post\"> <h2 class=\"title\">a hrefref.placeholderPhasellus pellentesque turpis a</h2> <p class=\"meta\"><span class=\"date\">September 10, 2007</span><span class=\"posted\">Posted by <a href=\"ref.placeholder\">Someone</a></span></p> <div style=\"clear:both\"></div> <div class=\"entry\"> <p>You will certainly have to be taking this medicine as it is not expected to be taken by your medical professional.</p> </div> </div> <div style=\"clear:both\"></div> </div> <div id=\"sidebar\"> <ul> <li> <h2>Aliquam tempus</h2> <p>You will certainly have to be taking this medicine as it is not expected to be taken by your medical professional.</p> </li> <li> <h2>Categories</h2> <ul><li><a href=\"ref.placeholder\">Aliquam libero</a></li><li><a href=\"ref.placeholder\">Consectetuer adipiscing elit</a></li><li><a href=\"ref.placeholder\">Metus aliquam pellentesque</a></li><li><a href=\"ref.placeholder\">Suspendisse iaculis mauris</a></li><li><a href=\"ref.placeholder\">Urnanet non molestie semper</a></li><li><a href=\"ref.placeholder\">Proin gravida orci porttitor</a></li></ul> </li> <li> <h2>Blogroll</h2> <ul><li><a href=\"ref.placeholder\">Aliquam libero</a></li><li><a href=\"ref.placeholder\">Consectetuer adipiscing elit</a></li><li><a href=\"ref.placeholder\">Metus aliquam pellentesque</a></li><li><a href=\"ref.placeholder\">Suspendisse iaculis mauris</a></li><li><a href=\"ref.placeholder\">Urnanet non molestie semper</a></li><li><a href=\"ref.placeholder\">Proin gravida orci porttitor</a></li></ul> </li> </ul> </div> <div style=\"clear:both\"></div> </div> </div> <div id=\"footer\"> <p>You will certainly have to be taking this medicine as it is not expected to be taken by your medical professional.</p> </div> </body> </html> /* START CSS */ body { margin: 0; padding: 0; background: #FFFFFF; font-family: Arial, Helvetica, sans-serif; font-size: 13px; color: #333333; } h1, h2 { margin: 0; padding: 0; font-weight: normal; color: #333333; } h1 { font-size: 2em; } h2 { font-size: 2.4em; } p, ul { margin-top: 0; } a { text-decoration: none; color: #333333; } #wrapper { width: 960px; margin: 0 auto; padding: 0; background: #FFFFFF; } #header-wrapper { height: 100px; background: url(ref.placeholder) no-repeat left top; } #header { width: 960px; height: 100px; margin: 0 auto; padding: 0; } #logo { float: left; width: 300px; height: 100px; margin: 0; padding: 0; color: #FFFFFF; } #logo h1, #logo p { margin: 0; padding: 0; } #logo h1 { float: left; padding: 0; } #logo h1 a { color: #FFFFFF; } #logo p { margin: 0; padding: 0; } #logo p a { color: #FFFFFF; } #logo a { border: none; background: none; text-decoration: none; color: #FFFFFF; } #search { float: right; width: 280px; height: 60px; padding: 0; } #search-text { width: 170px; padding: 6px 5px 5px 5px; border: none; background: #FFFFFF; font: normal 11px Arial, Helvetica, sans-serif; color: #7F7F81; } #search-submit { display: none; } #menu { width: 960px; height: 50px; margin: 0 auto; padding: 0; background: #FFFFFF; } #menu ul { margin: 0; padding: 0; list-style: none; } #menu li { float: left; } #menu a { display: block; float: left; height: 50px; margin-right: 1px; padding: 10px 20px 0px 20px; text-decoration: none; text-align: center; font-family: Arial, Helvetica, sans-serif; font-size: 11px; font-weight: normal; color: #FFFFFF; border: none; } #menu.current_page_item a { background: #FFFFFF; } #page { width: 960px; margin: 0 auto; padding: 0px 0px 0px 0px; } #content { float: left; width: 600px; padding: 0px 0px 0px 0px; }.post { margin-bottom: 30px; padding-bottom: 30px; }.post.title { height: 30px; margin-bottom: 20px; padding-bottom: 30px; font-size: 11px; }.post.title a { text-decoration: none; color: #FFFFFF; }.post.meta { margin-bottom: 20px; padding-bottom: 30px; text-align: left; font-family: Arial, Helvetica, sans-serif; font-size: 11px; font-weight: bold; }.post.entry { padding: 0px 0px 20px 0px; padding-bottom: 20px; text-align: justify; }.links { float: right; width: 280px; padding: 0px 0px 0px 0px; } #sidebar { float: left; width: 280px; padding: 0px 0px 0px 0px; } #sidebar ul { margin: 0; padding: 0; list-style: none; } #sidebar li { margin: 0; padding: 0; } #sidebar li ul { margin: 0px 0px; padding-bottom: 30px; } #sidebar li li { margin: 0px 0px; padding-bottom: 30px; } #sidebar h2 { height: 30px; margin: 0px 0px 20px 0px; padding-bottom: 30px; font-size: 1.8em; color: #FFFFFF; } #sidebar p { margin: 0 0px; padding: 0px 30px 20px 30px; text-align: justify; } #sidebar a { border: none; color: #FFFFFF; } #calendar_wrap { padding: 20px; } #calendar #next { text-align: right; } #footer-wrapper { overflow: hidden; padding: 50px 0px; background: #FFFFFF; } #footer { width: 960px; margin: 0px auto; padding: 50px 0px; background: #FFFFFF; } #footer p { margin: 0; padding-top: 10px; text-align: center; color: #FFFFFF; } #footer a { color: #FFFFFF; }\n",
            "    Answer: <html xmlns=\"https://example.com\"> <head> <title>Buy Arimidex Generic Pills - Pills At Best Price</title> <link href=\"arimidex.life.css\" rel=\"stylesheet\" type=\"text/css\"/> </head> <body> <div id=\"wrapper\"> <div id=\"header\"> <div id=\"logo\"> <h1>Arimidex</h1> </div> <div id=\"slogan\"> <h2>Arimidex For Bodybuilding</h2> </div> </div> <div id=\"menu\"> <ul><li class=\"first current_page_item\"><a href=\"ref.placeholder\">Homepage</a></li><li><a href=\"ref.placeholder\">Products</a></li><li><a href=\"ref.placeholder\">Services</a></li><li><a href=\"ref.placeholder\">Clients</a></li><li><a href=\"ref.placeholder\">Support</a></li><li><a href=\"ref.placeholder\">About</a></li><li class=\"last\"><a href=\"ref.placeholder\">Contact</a></li></ul> <br class=\"clearfix\"/> </div> <div id=\"splash\"><img alt=\"Individuals with ER-negative illness and also individuals which did not react to previous tamoxifen treatment seldom replied to Arimidex.\" class=\"pic\" src=\"../../images/default_img.jpeg\"/></div> <div id=\"page\"> <div id=\"content\"> <div class=\"box\"> <h2>Recent Updates</h2> <p>The pharmacokinetics of anastrozole are direct over the dose array of 1 to 20 milligrams, and also do not alter with repeated dosing.</p> </div> <div class=\"box\" id=\"content-box1\"> <h3>Mauris justo</h3> <ul class=\"section-list\"><li class=\"first\"><img alt=\"Arimidex has actually not been researched in people regarding serious hepatic impairment [see Dosage as well as Administration (2.2) and Clinical Pharmacology (12.\" class=\"pic alignleft\" src=\"../../images/default_img.jpeg\"/><span>Condimentum et porttitor tristique nec aliquet magnis pretium quam nibh.</span></li><li><img alt=\"Arimidex has actually not been researched in people regarding serious hepatic impairment [see Dosage as well as Administration (2.2) and Clinical Pharmacology (12.\" class=\"pic alignleft\" src=\"../../images/default_img.jpeg\"/><span>Posuere elementum sapien justo tortor nulla fringilla suspendisse nascetur.</span></li><li class=\"last\"><img alt=\"Arimidex has actually not been researched in people regarding serious hepatic impairment [see Dosage as well as Administration (2.2) and Clinical Pharmacology (12.\" class=\"pic alignleft\" src=\"../../images/default_img.jpeg\"/><span>Ipsum quis vestibulum feugiat congue nunc laoreet volutpat lorem ipsum sociis.</span></li></ul> </div> <div class=\"box\" id=\"content-box2\"> <h3>Magnis hendrerit erat</h3> <p>The reductions of estrogen biosynthesis in peripheral tissues and in the cancer cells cells itself can consequently be achieved by especially hindering the aromatase enzyme.</p> <ul class=\"list\"><li class=\"first\"><a href=\"ref.placeholder\">Ipsum phasellus ullamcorper</a></li><li><a href=\"ref.placeholder\">Mollis mattis tempus amet</a></li><li><a href=\"ref.placeholder\">Ipsum aliquet dignissim vitae</a></li><li><a href=\"ref.placeholder\">Orci metus curae sed mollis</a></li><li class=\"last\"><a href=\"ref.placeholder\">Tristique amet venenatis</a></li></ul> </div> <br class=\"clearfix\"/> </div> <div id=\"sidebar\"> <div class=\"box\"> <h3>Cursus magnis</h3> <ul class=\"list\"><li class=\"first\"><a href=\"ref.placeholder\">Adipiscing tincidunt</a></li><li><a href=\"ref.placeholder\">Euismod elit sollicitudin</a></li><li><a href=\"ref.placeholder\">Dolor magnis et lacinia</a></li><li><a href=\"ref.placeholder\">Mauris ornare aenean</a></li><li class=\"last\"><a href=\"ref.placeholder\">Ante semper fringilla</a></li></ul> </div> <div class=\"box\"> <h3>Morbi at varius</h3> <div class=\"date-list\"><ul class=\"list date-list\"><li class=\"first\"><span class=\"date\">208</span><a href=\"ref.placeholder\">Quam sed tempus</a></li><li><span class=\"date\">205</span><a href=\"ref.placeholder\">Lorem et vestibulum</a></li><li><span class=\"date\">201</span><a href=\"ref.placeholder\">Risus aenean tellus</a></li><li class=\"last\"><span class=\"date\">131</span><a href=\"ref.placeholder\">Tristique et primis</a></li></ul></div> </div> </div> <br class=\"clearfix\"/> </div> <div id=\"page-bottom\"> <div id=\"page-bottom-content\"> <h3>Magnis hendrerit erat</h3> <p>Individuals getting Arimidex had an increase in joint conditions consisting of arthrosis, arthralgia as well as joint inflammation compared to clients obtaining tamoxifen.</p> </div> <div id=\"page-bottom-sidebar\"> <h3>Sed interdum</h3> <ul class=\"list\"><li class=\"first\"><a href=\"ref.placeholder\">Suspendisse ultricies</a></li><li><a href=\"ref.placeholder\">Tortor mollis enim</a></li><li class=\"last\"><a href=\"ref.placeholder\">Lorem enim tempor</a></li></ul> </div> <br class=\"clearfix\"/> </div> </div> <div id=\"footer\"> Untitled. All rights reserved. Design by <a href=\"ref.placeholder\" rel=\"nofollow\">TEMPLATED</a>.</div> </body> </html> /* START CSS */ * { margin: 0; padding: 0; } a { text-decoration: underline; color: #0F8C8C; } body { font-size: 11.5pt; color: #5C5B5B; background: #E0DCDC url(ref.placeholder) repeat-x top left; } body { font-family: Georgia, serif; } br.clearfix { clear: both; } h1,h2,h3 { font-weight: normal; } h2 { font-size: 2.25em; } h2,h3 { color: #2C2B2B; margin-bottom: 1em; } h3 { font-size: 1.75em; } img.alignleft { margin: 5px 20px 20px 0; float: left; } img.pic { padding: 5px; border: solid 1px #D4D4D4; } p { margin-bottom: 1.5em; } ul { margin-bottom: 1.5em; }.box { overflow: hidden; margin-bottom: 1em; }.date { background: #6E6E6E; padding: 5px 6px 5px 6px; margin: 0 6px 0 0; color: #FFFFFF; font-size: 0.8em; } #content { width: 665px; float: left; padding: 0; } #content-box1 { width: 320px; float: left; } #content-box2 { margin: 0 0 0 345px; width: 320px; } #footer { margin: 40px 0 120px 0; text-align: center; color: #8C8B8B; } #footer a { color: #8C8B8B; } #header { height: 75px; position: relative; background: #6E6E6E url(ref.placeholder) top left no-repeat; padding: 45px; color: #FFFFFF; width: 888px; border: solid 1px #7E7E7E; border-top-left-radius: 5px; border-top-right-radius: 5px; overflow: hidden; } #logo { height: 160px; padding: 5px 0 0 0; position: absolute; top: 0; left: 45px; } #logo a { text-decoration: none; color: #FFFFFF; } #logo h1 { font-size: 3.25em; } #slogan { height: 160px; padding: 5px 0 0 0; position: absolute; right: 45px; top: 0; } #slogan h2 { color: #BEBEBE; font-size: 1.25em; } #menu { padding: 0 45px 0 45px; position: relative; background: #209D9D url(ref.placeholder) repeat-x top left; margin: 0 0 0 0; height: 60px; width: 890px; border-top: solid 1px #5AD7D7; } #menu a { text-decoration: none; color: #FFFFFF; font-size: 1.25em; } #menu ul { list-style: none; } #menu ul li { padding: 0 20px 0 20px; display: inline; } #menu ul li.first { padding-left: 0; } #page { padding: 45px 45px 15px 45px; position: relative; width: 890px; margin: 0; } #page.section-list { list-style: none; padding-left: 0; } #page.section-list li { clear: both; padding: 30px 0 30px 0; } #page ul { list-style: none; } #page ul li { border-top: solid 1px #D4D4D4; padding: 15px 0 15px 0; } #page ul li.first { padding-top: 0; border-top: 0; } #page-bottom { position: relative; margin: 0; background: #6E6E6E url(ref.placeholder) top left no-repeat; border: solid 1px #7E7E7E; width: 888px; padding: 45px 45px 0 45px; color: #DCDCDC; border-bottom-left-radius: 5px; border-bottom-right-radius: 5px; } #page-bottom a { color: #F5F5F5; } #page-bottom h2, #page-bottom h3 { color: #FFFFFF; } #page-bottom ul { list-style: none; } #page-bottom ul li { border-top: solid 1px #8F8F8F; padding: 15px 0 15px 0; } #page-bottom ul li.first { padding-top: 0; border-top: 0; } #page-bottom-content { width: 665px; float: left; } #page-bottom-sidebar { width: 200px; margin: 0 0 0 690px; } #sidebar { width: 200px; padding: 0; margin: 0 0 0 690px; } #splash { margin: 0 0 0 0; height: 250px; position: relative; padding: 45px 45px 10px 45px; width: 890px; } #splash.pic { padding: 9px; } #wrapper { position: relative; width: 980px; margin: 75px auto 0 auto; background: #FFFFFF; }\n",
            "      Bleu: 0.62\n",
            "\n",
            "Prediction: <html xmlns=\"https://example.com\"> <head> <title>Buy Prednisolone Online - Free Bonus Pills For Every Order</title> <link href=\"prednisolone.life.css\" rel=\"stylesheet\" type=\"text/css\"/> </head> <body> <div id=\"wrapper\"> <div id=\"header\"> <div id=\"logo\"> <h1>Prednisolone</h1> <p>Prednisolone is a prescription medication that can be taken by people with a history of heart disease, heart disease, liver disease, liver disease, liver disease, liver disease, liver disease, liver disease, liver disease, liver disease, liver disease, liver disease, liver disease, liver disease, liver disease, liver disease, liver disease, liver disease, liver disease, liver disease, liver disease, liver disease, liver disease, liver disease, liver disease, liver disease, liver disease, liver disease, liver disease, liver disease, liver disease, liver disease, liver disease, liver disease, liver disease, liver disease, liver disease, liver disease, liver disease, liver disease, liver disease, liver disease, liver disease, liver disease, liver disease, liver disease, liver disease, liver disease, liver disease, liver disease, liver disease, liver disease, liver disease, liver disease, liver disease, liver disease, liver disease, liver disease, liver disease, liver disease, liver disease, liver disease, liver disease, liver disease, liver disease, liver disease, liver disease, liver disease, liver disease, liver disease, liver disease, liver disease, liver disease, liver disease, liver disease, liver disease, liver disease, liver disease, liver disease, liver disease, liver disease, liver disease, liver disease, liver disease, liver disease, liver disease, liver disease, liver disease, liver disease, liver disease, liver disease, liver disease, liver disease, liver disease, liver disease, liver disease, liver disease, liver disease, liver disease, liver disease, liver disease, liver disease, liver disease, liver disease, liver disease, liver disease, liver disease, liver disease, liver disease, liver disease, liver disease, liver disease, liver disease, liver disease, liver disease, liver disease, liver disease, liver disease, liver disease, liver disease, liver disease, liver disease, liver disease, liver disease, liver disease, liver disease, liver disease, liver disease, liver disease, liver disease, liver disease, liver disease, liver disease, liver disease, liver disease, liver disease, liver disease, liver disease, liver disease, liver disease, liver disease, liver disease, liver disease, liver disease, liver disease, liver disease, liver disease, liver disease, liver disease, liver disease, liver disease, liver disease, liver disease, liver disease, liver disease, liver disease, liver disease, liver disease, liver disease, liver disease, liver disease, liver disease, liver disease, liver disease, liver disease, liver disease, liver disease, liver disease, liver disease, liver disease, liver disease, liver disease, liver disease, liver disease, liver disease, liver disease, liver disease, liver disease, liver disease, liver disease, liver disease, liver disease, liver disease, liver disease, liver disease, liver disease, liver disease, liver disease, liver disease, liver disease, liver disease, liver disease, liver disease, liver disease, liver disease, liver disease, liver disease, liver disease, liver disease, liver disease, liver disease, liver disease, liver disease, liver disease, liver disease, liver disease, liver disease, liver disease, liver disease, liver disease, liver disease, liver disease, liver disease, liver disease, liver disease, liver disease, liver disease, liver disease, liver disease, liver disease, liver disease, liver disease, liver disease, liver disease, liver disease, liver disease, liver disease, liver disease, liver disease, liver disease, liver disease, liver disease, liver disease, liver disease, liver disease, liver disease, liver disease, liver disease, liver disease, liver disease, liver disease, liver disease, liver disease, liver disease, liver disease, liver disease, liver disease, liver disease, liver disease, liver disease, liver disease, liver disease, liver disease, liver disease, liver disease, liver disease, liver disease, liver disease, liver disease, liver disease, liver disease, liver disease, liver disease, liver disease, liver disease, liver disease, liver disease, liver disease, liver disease, liver disease, liver disease, liver disease, liver disease, liver disease, liver disease, liver disease, liver disease, liver disease, liver disease, liver disease, liver disease, liver disease, liver disease, liver disease, liver disease, liver disease, liver disease, liver disease, liver disease, liver disease, liver disease, liver disease, liver disease, liver disease, liver disease, liver disease, liver disease, liver disease, liver disease, liver disease, liver disease, liver disease, liver disease, liver disease, liver disease, liver disease, liver disease, liver disease, liver disease, liver disease, liver disease, liver disease, liver disease, liver disease, liver disease, liver disease, liver disease, liver disease, liver disease, liver disease, liver disease, liver disease, liver disease, liver disease, liver disease, liver disease, liver disease, liver disease, liver disease, liver disease, liver disease, liver disease, liver disease, liver disease, liver disease, liver disease, liver disease, liver disease, liver disease, liver disease, liver disease, liver disease, liver disease, liver disease, liver disease, liver disease, liver disease, liver disease, liver disease, liver disease, liver disease, liver disease, liver disease, liver disease, liver disease, liver disease, liver disease, liver disease, liver disease, liver disease, liver disease, liver disease, liver disease, liver disease, liver disease, liver disease, liver disease, liver disease, liver disease, liver disease, liver disease, liver disease, liver disease, liver disease, liver disease, liver disease, liver disease, liver disease, liver disease, liver disease, liver disease, liver disease, liver disease, liver disease, liver disease, liver disease, liver disease, liver disease, liver disease, liver disease, liver disease, liver disease, liver disease, liver disease, liver disease, liver disease, liver disease, liver disease, liver disease, liver disease, liver disease, liver disease, liver disease, liver disease, liver disease, liver disease, liver disease, liver disease, liver disease, liver disease, liver disease, liver disease, liver disease, liver disease, liver disease, liver disease, liver disease, liver disease, liver disease, liver disease, liver disease, liver disease, liver disease, liver disease, liver disease, liver disease, liver disease, liver disease, liver disease, liver disease, liver disease, liver disease, liver disease, liver disease, liver disease, liver disease, liver disease, liver disease, liver disease, liver disease, liver disease, liver disease, liver disease, liver disease, liver disease, liver disease, liver disease, liver disease, liver disease, liver disease, liver disease, liver disease, liver disease, liver disease, liver disease, liver disease, liver disease, liver disease, liver disease, liver disease, liver disease, liver disease, liver disease, liver disease, liver disease, liver disease, liver disease, liver disease, liver disease, liver disease, liver disease, liver disease, liver disease, liver disease, liver disease, liver disease, liver disease, liver disease, liver disease, liver disease, liver disease, liver disease, liver disease, liver disease, liver disease, liver disease, liver disease, liver disease, liver disease, liver disease, liver disease, liver disease, liver disease, liver disease, liver disease, liver disease, liver disease, liver disease, liver disease, liver disease, liver disease, liver disease, liver disease, liver disease, liver disease, liver disease, liver disease, liver disease, liver disease, liver disease, liver disease, liver disease, liver disease, liver disease, liver disease, liver disease, liver disease, liver disease, liver disease, liver disease, liver disease, liver disease, liver disease, liver disease, liver disease, liver disease, liver disease, liver disease, liver disease, liver disease, liver disease, liver disease, liver disease, liver disease, liver disease, liver disease, liver disease, liver disease, liver disease, liver disease, liver disease, liver disease, liver disease, liver disease, liver disease, liver disease, liver disease, liver disease, liver disease, liver disease, liver disease, liver disease, liver disease, liver disease, liver disease, liver disease, liver disease, liver disease, liver disease, liver disease, liver disease, liver disease, liver disease, liver disease, liver disease, liver disease, liver disease, liver disease, liver disease, liver disease, liver disease, liver disease, liver disease, liver disease, liver disease, liver disease, liver disease, liver disease, liver disease, liver disease, liver disease, liver disease, liver disease, liver disease, liver disease, liver disease, liver disease, liver disease, liver disease, liver disease, liver disease, liver disease, liver disease, liver disease, liver disease, liver disease, liver disease, liver disease, liver disease, liver disease, liver disease, liver disease, liver disease, liver disease, liver disease, liver disease, liver disease, liver disease, liver disease, liver disease, liver disease, liver disease, liver disease, liver disease, liver disease, liver disease, liver disease, liver disease, liver disease, liver disease, liver disease, liver disease, liver disease, liver disease, liver disease, liver disease, liver disease, liver disease, liver disease, liver disease, liver disease, liver disease, liver disease, liver disease, liver disease, liver disease, liver disease, liver disease, liver disease, liver disease, liver disease, liver disease, liver disease, liver disease, liver disease, liver disease, liver disease, liver disease, liver disease, liver disease, liver disease, liver disease, liver disease, liver disease, liver disease, liver disease, liver disease, liver disease, liver disease, liver disease, liver disease, liver disease, liver disease, liver disease, liver disease, liver disease, liver disease, liver disease, liver disease, liver disease, liver disease, liver disease, liver disease, liver disease, liver disease, liver disease, liver disease, liver disease, liver disease, liver disease, liver disease, liver disease, liver disease, liver disease, liver disease, liver disease, liver disease, liver disease, liver disease, liver disease, liver disease, liver disease, liver disease, liver disease, liver disease, liver disease, liver disease, liver disease, liver disease, liver disease, liver disease, liver disease, liver disease, liver disease, liver disease, liver disease, liver disease, liver disease, liver disease, liver disease, liver disease, liver disease, liver disease, liver disease, liver disease, liver disease, liver disease, liver disease, liver disease, liver disease, liver disease, liver disease, liver disease, liver disease, liver disease, liver disease, liver disease, liver disease, liver disease, liver disease, liver disease, liver disease, liver disease, liver disease, liver disease, liver disease, liver disease, liver disease, liver disease, liver disease, liver disease, liver disease, liver disease, liver disease, liver disease, liver disease, liver disease, liver disease, liver disease, liver disease, liver disease, liver disease, liver disease, liver disease, liver disease, liver disease, liver disease, liver disease, liver disease, liver disease, liver disease, liver disease, liver disease, liver disease, liver disease, liver disease, liver disease, liver disease, liver disease, liver disease, liver disease, liver disease, liver disease, liver disease, liver disease, liver disease, liver disease, liver disease, liver disease, liver disease, liver disease, liver disease, liver disease, liver disease, liver disease, liver disease, liver disease, liver disease, liver disease, liver disease, liver disease, liver disease, liver disease, liver disease, liver disease, liver disease, liver disease, liver disease, liver disease, liver disease, liver disease, liver disease, liver disease, liver disease, liver disease, liver disease, liver disease, liver disease, liver disease, liver disease, liver disease, liver disease, liver disease, liver disease, liver disease, liver disease, liver disease, liver disease, liver disease, liver disease, liver disease, liver disease, liver disease, liver disease, liver disease, liver disease, liver disease, liver disease, liver disease, liver disease, liver disease, liver disease, liver disease, liver disease, liver disease, liver disease, liver disease, liver disease, liver disease, liver disease, liver disease, liver disease, liver disease, liver disease, liver disease, liver disease, liver disease, liver disease, liver disease, liver disease, liver disease, liver disease, liver disease, liver disease, liver disease, liver disease, liver disease, liver disease, liver disease, liver disease, liver disease, liver disease, liver disease, liver disease, liver disease, liver disease, liver disease, liver disease, liver disease, liver disease, liver disease, liver disease, liver disease, liver disease, liver disease, liver disease, liver disease, liver disease, liver disease, liver disease, liver disease, liver disease, liver disease, liver disease, liver disease, liver disease, liver disease, liver disease, liver disease, liver disease, liver disease, liver disease, liver disease, liver disease, liver disease, liver disease, liver disease, liver disease, liver disease, liver disease, liver disease, liver disease, liver disease, liver disease, liver disease, liver disease, liver disease, liver disease, liver disease, liver disease, liver disease, liver disease, liver disease, liver disease, liver disease, liver disease, liver disease, liver disease, liver disease, liver disease, liver disease, liver disease, liver disease, liver disease, liver disease, liver disease, liver disease, liver disease, liver disease, liver disease, liver disease, liver disease, liver disease, liver disease, liver disease, liver disease, liver disease, liver disease, liver disease, liver disease, liver disease, liver disease, liver disease, liver disease, liver disease, liver disease, liver disease, liver disease, liver disease, liver disease, liver disease, liver disease, liver disease, liver disease, liver disease, liver disease, liver disease, liver disease, liver disease, liver disease, liver disease, liver disease, liver disease, liver disease, liver disease, liver disease, liver disease, liver disease, liver disease, liver disease, liver disease, liver disease, liver disease, liver disease, liver disease, liver disease, liver disease, liver disease, liver disease, liver disease, liver disease, liver disease, liver disease, liver disease, liver disease, liver disease, liver disease, liver disease, liver disease, liver disease, liver disease, liver disease, liver disease, liver disease, liver disease, liver disease, liver disease, liver disease, liver disease, liver disease, liver disease, liver disease, liver disease, liver disease, liver disease, liver disease, liver disease, liver disease, liver disease, liver disease, liver disease, liver disease, liver disease, liver disease, liver disease, liver disease, liver disease, liver disease, liver disease, liver disease, liver disease, liver disease, liver disease, liver disease, liver disease, liver disease, liver disease, liver disease, liver disease, liver disease, liver disease, liver disease, liver disease, liver disease, liver disease, liver disease, liver disease, liver disease, liver disease, liver disease, liver disease, liver disease, liver disease, liver disease, liver disease, liver disease, liver disease, liver disease, liver disease, liver disease, liver disease, liver disease, liver disease, liver disease, liver disease, liver disease, liver disease, liver disease, liver disease, liver disease, liver disease, liver disease, liver disease, liver disease, liver disease, liver disease, liver disease, liver disease, liver disease, liver disease, liver disease, liver disease, liver disease, liver disease, liver disease, liver disease, liver disease, liver disease, liver disease, liver disease, liver disease, liver disease, liver disease, liver disease, liver disease, liver disease, liver disease, liver disease, liver disease, liver disease, liver disease, liver disease, liver disease, liver disease, liver disease, liver disease, liver disease, liver disease, liver disease, liver disease, liver disease, liver disease, liver disease, liver disease, liver disease, liver disease, liver disease, liver disease, liver disease, liver disease, liver disease, liver disease, liver disease, liver disease, liver disease, liver disease, liver disease, liver disease, liver disease, liver disease, liver disease, liver disease, liver disease, liver disease, liver disease, liver disease, liver disease, liver disease, liver disease, liver disease, liver disease, liver disease, liver disease, liver disease, liver disease, liver disease, liver disease, liver disease, liver disease, liver disease, liver disease, liver disease, liver disease, liver disease, liver disease, liver disease, liver disease, liver disease, liver disease, liver disease, liver disease, liver disease, liver disease, liver disease, liver disease, liver disease, liver disease, liver disease, liver disease, liver disease, liver disease, liver disease, liver disease, liver disease, liver disease, liver disease, liver disease, liver disease, liver disease, liver disease, liver disease, liver disease, liver disease, liver disease, liver disease, liver disease, liver disease, liver disease, liver disease, liver disease, liver disease, liver disease, liver disease, liver disease, liver disease, liver disease, liver disease, liver disease, liver disease, liver disease, liver disease, liver disease, liver disease, liver disease, liver disease, liver disease, liver disease, liver disease, liver disease, liver disease, liver disease, liver disease, liver disease, liver disease, liver disease, liver disease, liver disease, liver disease, liver disease, liver disease, liver disease, liver disease, liver disease, liver disease, liver disease, liver disease, liver disease, liver disease, liver disease, liver disease, liver disease, liver disease, liver disease, liver disease, liver disease, liver disease, liver disease, liver disease, liver disease, liver disease, liver disease, liver disease, liver disease, liver disease, liver disease, liver disease, liver disease, liver disease, liver disease, liver disease, liver disease, liver disease, liver disease, liver disease, liver disease, liver disease, liver disease, liver disease, liver disease, liver disease, liver disease, liver disease, liver disease, liver disease, liver disease, liver disease, liver disease, liver disease, liver disease, liver disease, liver disease, liver disease, liver disease, liver disease, liver disease, liver disease, liver disease, liver disease, liver disease, liver disease, liver disease, liver disease, liver disease, liver disease, liver disease, liver disease, liver disease, liver disease, liver disease, liver disease, liver disease, liver disease, liver disease, liver disease, liver disease, liver disease, liver disease, liver disease, liver disease, liver disease, liver disease, liver disease, liver disease, liver disease, liver disease, liver disease, liver disease, liver disease, liver disease, liver disease, liver disease, liver disease, liver disease, liver disease, liver disease, liver disease, liver disease, liver disease, liver disease, liver disease, liver disease, liver disease, liver disease, liver disease, liver disease, liver disease, liver disease, liver disease, liver disease, liver disease, liver disease, liver disease, liver disease, liver disease, liver disease, liver disease, liver disease, liver disease, liver disease, liver disease, liver disease, liver disease, liver\n",
            "    Answer: <html lang=\"en\"> <head> <title>Cbox Live Chat Cbox</title> <link rel=\"icon\" type=\"image/x-icon\"/> <link href=\"cbox.ws.css\" rel=\"stylesheet\"/> </head> <body id=\"mainbody\"> <div id=\"mask\"></div> <div id=\"bodywrap\"> <div id=\"header\"> <div class=\"wrap\"> <a href=\"https://example.com\" id=\"logo\"><img alt=\"Cbox\" src=\"../../images/default_img.jpeg\"/></a> <div id=\"headerExtras\"><form action=\"https://example.com\" id=\"qlogin\" method=\"post\"><input class=\"txtbox\" maxlength=\"50\" name=\"uname\" placeholder=\"Email / Cbox name\" spellcheck=\"false\" style=\"width:160px\" tabindex=\"1\" type=\"text\" value=\"\"/><input class=\"txtbox\" maxlength=\"50\" name=\"pword\" placeholder=\"Password\" style=\"width:160px\" tabindex=\"2\" type=\"password\"/><input tabindex=\"3\" type=\"submit\" value=\"Log in\"/></form></div> </div> </div> <div id=\"topbar\"> <div class=\"wrap\"><span class=\"Spacer\"></span><a class=\"button\" href=\"ref.placeholder\">Home</a><a class=\"button\" href=\"ref.placeholder\">Plans Pricing</a><a class=\"button\" href=\"https://example.com\">Sign up</a><a class=\"button\" href=\"https://example.com\">Upgrade</a><a class=\"button\" href=\"ref.placeholder\">Support</a></div> </div> <div id=\"wideimg\" style=\"position:relative;width:100%;left:0\"></div> <div class=\"wrap\" id=\"main\"> <div id=\"content\"> <h1>Cbox Live Chat</h1> <div class=\"col1_2\"> <p>Cbox is an embedded real-time chat web app. Its perfect for live-streaming, online communities and events. Cbox has been operating for more than a decade and we know how it works. You cannot go wrong.</p> <form action=\"/getone\" method=\"post\" name=\"\"> <fieldset> <legend>Get started</legend> <p>Enter your email address to create your Free Cbox</p> <label>Your email</label><input class=\"txtbox\" name=\"email\" placeholder=\"me@address.com\" type=\"text\"/><input type=\"submit\" value=\"Go!\"/> </fieldset> </form> <p>Cbox keeps users on your site and keeps them returning. Embed your Cbox directly into your site, or access it in a mobile-friendly standalone mode.</p> <h2>Style it up</h2> <p>Just as every conversation is unique, so is every Cbox. A wide range of theme and customization options allows you to get your Cbox looking just the way you want. Change colours, choose fonts, and upload your own emoticons to make your Cbox live chat experience your own.</p> </div> <div class=\"col2_2\"> <div id=\"cboxdiv\" style=\"width:100%;height:400px;box-sizing:border-box;-moz-box-sizing:border-box;background:#EDF3F7;line-height:0;overflow:hidden\"></div> <div id=\"demoPalette\" style=\"margin-top:1em\"> <div style=\"display:inline-block;box-sizing:border-box;border:4px solid rgb(255, 255, 255);height:40px;width:11%;background-color:rgb(68, 68, 68)\"></div> <div style=\"display:inline-block;box-sizing:border-box;border:4px solid rgb(255, 255, 255);height:40px;width:11%;background-color:rgb(222, 26, 16)\"></div> <div style=\"display:inline-block;box-sizing:border-box;border:4px solid rgb(255, 255, 255);height:40px;width:11%;background-color:rgb(255, 135, 15)\"></div> <div style=\"display:inline-block;box-sizing:border-box;border:4px solid rgb(255, 255, 255);height:40px;width:11%;background-color:rgb(255, 229, 0)\"></div> <div style=\"display:inline-block;box-sizing:border-box;border:4px solid rgb(255, 255, 255);height:40px;width:11%;background-color:rgb(132, 189, 0)\"></div> <div style=\"display:inline-block;box-sizing:border-box;border:4px solid rgb(255, 255, 255);height:40px;width:11%;background-color:rgb(0, 191, 182)\"></div> <div style=\"display:inline-block;box-sizing:border-box;border:4px solid rgb(255, 255, 255);height:40px;width:11%;background-color:rgb(0, 106, 176)\"></div> <div style=\"display:inline-block;box-sizing:border-box;border:4px solid rgb(255, 255, 255);height:40px;width:11%;background-color:rgb(125, 33, 217)\"></div> <div style=\"display:inline-block;box-sizing:border-box;border:4px solid rgb(255, 255, 255);height:40px;width:11%;background-color:rgb(186, 32, 140)\"></div> </div> <h2>Find out more</h2> <p>Check out our <a href=\"ref.placeholder\">Plans Pricing</a> to compare features and find out what Cbox can do for your site.</p> </div> <div class=\"colclear\"></div> </div> <div style=\"clear:both\"></div> </div> </div> <div id=\"siteErrorBar\"> <div class=\"wrap\" id=\"siteErrorBarCont\">Loading...</div> </div> <div id=\"footer\"> <a href=\"ref.placeholder\">About</a><a href=\"ref.placeholder\">Plans pricing</a><a href=\"ref.placeholder\">Terms conditions</a><a href=\"ref.placeholder\">Privacy policy</a><a href=\"ref.placeholder\">Notices</a><a href=\"ref.placeholder\">Contact us</a> <div class=\"verybottom\"> 20042023 Cbox, all rights reserved. 0 ms. 83ce</div> </div> </body> </html> /* START CSS */ body,html { margin: 0; font: 14px \"Open Sans\",Tahoma,Arial,sans-serif; font-weight: 400; color: #454545; text-align: center; position: absolute; top: 0; bottom: 0; right: 0; left: 0; cursor: default; -webkit-tap-highlight-color: rgba(0,0,0,0) } body { min-width: 780px } #mainbody { position: absolute; top: 0; bottom: 0; left: 0; right: 0; background: #fff } a { color: #059ad0; text-decoration: none } h1 { font: normal 200% Numans,Century Gothic,sans-serif; margin: 0 0.5em } h2,legend { font: 400 150% Numans,Century Gothic,sans-serif } p { margin: 0 0 1.5em } h2 { margin: 1em 0 0 } #content>h1,#content>h2,#content>p { margin-left: 60px } #main { text-align: left; position: relative; padding-bottom: 96px } #bodywrap { min-height: 100%; margin-bottom: -96px }.wrap { max-width: 780px; font-size: 100%; position: relative; margin: 0 auto } #bar3.wrap,#header.wrap,#subbar.wrap,#topbar.wrap { max-width: 1000px } #title { display: block; float: left } #header { position: relative; text-align: right; } #headerExtras a,#headerExtras span { padding: 5px 10px } #topbar { text-align: right; position: relative } #header #logo { position: absolute; z-index: 2; left: 0; top: 5px } #topbar.Spacer { display: inline-block; float: left; width: 100px; height: 60px } #subbar { position: relative; text-align: right; height: auto; z-index: 2 } #content { clear: both; position: relative; zoom: 1; padding: 20px 20px 40px } #footer { position: relative; text-align: center; margin-top: -96px; height: 96px; clear: both } #footer,#header { background: #323232; color: #ddd; font-size: 85%; font-weight: 300 } #footer.verybottom,#footer>a,#header #headerExtras a { padding: 4px 1em; color: #fcc946; white-space: nowrap; display: inline-block; height: 24px; overflow: hidden; text-overflow: ellipsis; vertical-align: bottom } #footer.verybottom { position: absolute; bottom: 0; left: 0; right: 0; text-align: center; color: #777 } #footer.verybottom a { color: #777 } #header input { font-size: 13px; vertical-align: top; border: 0; border-bottom: #059ad0 2px solid; padding:.1em.5em; background: 0 0; color: #fff; height: 30px } a.button { overflow: hidden; text-align: center; background: 0 0; height: 20px; font: 18px Numans,Century Gothic,sans-serif; color: #454545; padding: 5px 10px; display: inline-block; position: relative; cursor: pointer; text-decoration: none; outline: 0 }.txtbox { font-family: \"Open Sans\",Tahoma,Arial,sans-serif; font-size: 100%; border: 2px solid #059ad0; background-color: #fff; padding:.15em.5em; outline: 0; color: #000; height: 2em; box-sizing: border-box; -webkit-box-sizing: border-box; vertical-align: top } input[type=button],input[type=submit] { font-family: \"Open Sans\",Tahoma,Arial,sans-serif; font-size: 100%; border: 2px solid #059ad0; background: #059ad0; color: #fff; padding:.2em 1em; outline: 0; text-align: center; -webkit-appearance: none } input[type=checkbox],input[type=radio] { width: 1.5em; height: 1.5em; margin: 0; vertical-align: text-bottom } fieldset { padding: 1em; border: 0; background: url(ref.placeholder) #f2f2f2; position: relative; margin: 0 0 1em; clear: both } form { margin: 0; padding: 0 } #hovmenu { font: 400 90% Numans,Century Gothic,sans-serif; text-align: right } #qlerr { color: red; margin-right: 2em; position: absolute; right: 0; top: 2em } #mask,#smiliemask { position: fixed; top: 0; left: 0; right: 0; height: 100%; z-index: 90; display: none; background: #fff; opacity: 0; filter: alpha(opacity=0) } #wideimg { position: relative } #wideimg img { width: 100% } fieldset { width: 100% } fieldset,fieldset>* { box-sizing: border-box; -webkit-box-sizing: border-box } fieldset>* { float: left; padding:.15em.5em; border: 2px solid transparent } fieldset>legend { color: #454545; margin-bottom:.5em } fieldset>legend+* { clear: both } fieldset>label { display: inline-block; width: 30%; text-align: right; white-space: nowrap; overflow: hidden; text-overflow: ellipsis; vertical-align: bottom; clear: both; padding-left: 0; margin: 0 0 6px } fieldset>input { width: 100%; margin: 0 0 6px } fieldset>label+input { width: 70% } fieldset>input[type=button],fieldset>input[type=submit] { width: auto } fieldset>input[type=submit] { clear: both; float: right; margin: 0 } fieldset>*+input[type=submit] { margin-top: 1em }.col1_2,.col2_2 { box-sizing: border-box; -webkit-box-sizing: border-box; width: 50%; float: left; padding-right: 10px }.col2_2 { padding-right: 0 }.colclear { clear: both; display: block } @media (max-width:800px) { body { min-width: 300px } #content>h1,#content>h2,#content>p { margin-left: 0 } #qlogin input:not([type=submit]) { display: none } #topbar { z-index: 3 } #topbar.Spacer { display: none } #header #logo { top: 0 } #header img { height: 40px; width: auto } #header #userWelcome { display: none } fieldset>label,fieldset>label+input { width: 100%; text-align: left; white-space: normal } } @media (max-width:450px) {.col1_2,.col2_2 { float: left; width: 100%; padding: 0 } } #popovr_title { float: left; font: 400 150% Numans,Century Gothic,sans-serif; margin-bottom: 1em; text-align: left } #popovr_box { display: none; position: fixed; top: 0; left: 0; right: 0; bottom: 0; background: #000; background: rgba(0,0,0,.6); z-index: 1000 } @media (min-width:600px) { h2#featureGridTitle { display: block } } #palFloat { position: absolute; text-align: center; display: none; width: 128px; height: 320px; background: #FFF; border: 1px solid #DDD; padding: 10px } #palFloat #colpal { width: 128px; height: 256px; position: relative; margin: 0 auto; cursor: none } #palFloat #palColCircle { z-index: 2; position: absolute; width: 32px; height: 32px; border: 2px solid #000; top: 0; right: 0 } #palFloat #palMask { position: absolute; display: none; top: 0; left: 0; right: 0; bottom: 0; z-index: 1000 } #siteErrorBarCont { padding-left: 20px } #siteErrorBar { position: fixed; bottom: 0; left: 0; right: 0; padding: 0; text-align: left; z-index: 99999; background: #fff; color: #fff; height: 0; text-overflow: ellipsis; overflow: hidden }\n",
            "      Bleu: 0.04\n",
            "\n",
            "Prediction: <html xmlns=\"https://example.com\"> <head> <title>Buy Celexa Celexa Online - Free Bonus Pills</title> <link href=\"celexa.life.css\" rel=\"stylesheet\" type=\"text/css\"/> </head> <body> <div id=\"wrapper\"> <div id=\"header\"> <div id=\"logo\"> <h1>Celexa</h1> <p>You will certainly have to be taking this medicine as it is not expected to be taken by your medical professional.</p> </div> <div id=\"menu\"><ul><li class=\"current_page_item\"><a href=\"ref.placeholder\">Homepage</a></li><li><a href=\"ref.placeholder\">Blog</a></li><li><a href=\"ref.placeholder\">Photos</a></li><li><a href=\"ref.placeholder\">About</a></li><li><a href=\"ref.placeholder\">Links</a></li><li><a href=\"ref.placeholder\">Contact</a></li></ul></div> <div id=\"page\"> <div id=\"page-bgtop\"> <div id=\"page-bgbtm\"> <div id=\"content\"> <div class=\"post\"> <h2 class=\"title\">Celexa 100 Mg</h2> <p class=\"meta\"><span class=\"date\">September 10, 2007</span><span class=\"posted\">Posted by <a href=\"ref.placeholder\">Someone</a></span></p> <div style=\"clear:both\"></div> <div class=\"entry\"> <p><img alt=\"Celexa is a prescription medicine that can be taken by people with a history of heart attack, heart attack, heart attack, heart attack, heart attack, heart attack, heart attack, heart attack, heart attack, heart attack, heart attack, heart attack, heart attack, heart attack, heart attack, heart attack, heart attack, heart attack, heart attack, heart attack, heart attack, heart attack, heart attack, heart attack, heart attack, heart attack, heart attack, heart attack, heart attack, heart attack, heart attack, heart attack, heart attack, heart attack, heart attack, heart attack, heart attack, heart attack, heart attack, heart attack, heart attack, heart attack, heart attack, heart attack, heart attack, heart attack, heart attack, heart attack, heart attack, heart attack, heart attack, heart attack, heart attack, heart attack, heart attack, heart attack, heart attack, heart attack, heart attack, heart attack, heart attack, heart attack, heart attack, heart attack, heart attack, heart attack, heart attack, heart attack, heart attack, heart attack, heart attack, heart attack, heart attack, heart attack, heart attack, heart attack, heart attack, heart attack, heart attack, heart attack, heart attack, heart attack, heart attack, heart attack, heart attack, heart attack, heart attack, heart attack, heart attack, heart attack, heart attack, heart attack, heart attack, heart attack, heart attack, heart attack, heart attack, heart attack, heart attack, heart attack, heart attack, heart attack, heart attack, heart attack, heart attack, heart attack, heart attack, heart attack, heart attack, heart attack, heart attack, heart attack, heart attack, heart attack, heart attack, heart attack, heart attack, heart attack, heart attack, heart attack, heart attack, heart attack, heart attack, heart attack, heart attack, heart attack, heart attack, heart attack, heart attack, heart attack, heart attack, heart attack, heart attack, heart attack, heart attack, heart attack, heart attack, heart attack, heart attack, heart attack, heart attack, heart attack, heart attack, heart attack, heart attack, heart attack, heart attack, heart attack, heart attack, heart attack, heart attack, heart attack, heart attack, heart attack, heart attack, heart attack, heart attack, heart attack, heart attack, heart attack, heart attack, heart attack, heart attack, heart attack, heart attack, heart attack, heart attack, heart attack, heart attack, heart attack, heart attack, heart attack, heart attack, heart attack, heart attack, heart attack, heart attack, heart attack, heart attack, heart attack, heart attack, heart attack, heart attack, heart attack, heart attack, heart attack, heart attack, heart attack, heart attack, heart attack, heart attack, heart attack, heart attack, heart attack, heart attack, heart attack, heart attack, heart attack, heart attack, heart attack, heart attack, heart attack, heart attack, heart attack, heart attack, heart attack, heart attack, heart attack, heart attack, heart attack, heart attack, heart attack, heart attack, heart attack, heart attack, heart attack, heart attack, heart attack, heart attack, heart attack, heart attack, heart attack, heart attack, heart attack, heart attack, heart attack, heart attack, heart attack, heart attack, heart attack, heart attack, heart attack, heart attack, heart attack, heart attack, heart attack, heart attack, heart attack, heart attack, heart attack, heart attack, heart attack, heart attack, heart attack, heart attack, heart attack, heart attack, heart attack, heart attack, heart attack, heart attack, heart attack, heart attack, heart attack, heart attack, heart attack, heart attack, heart attack, heart attack, heart attack, heart attack, heart attack, heart attack, heart attack, heart attack, heart attack, heart attack, heart attack, heart attack, heart attack, heart attack, heart attack, heart attack, heart attack, heart attack, heart attack, heart attack, heart attack, heart attack, heart attack, heart attack, heart attack, heart attack, heart attack, heart attack, heart attack, heart attack, heart attack, heart attack, heart attack, heart attack, heart attack, heart attack, heart attack, heart attack, heart attack, heart attack, heart attack, heart attack, heart attack, heart attack, heart attack, heart attack, heart attack, heart attack, heart attack, heart attack, heart attack, heart attack, heart attack, heart attack, heart attack, heart attack, heart attack, heart attack, heart attack, heart attack, heart attack, heart attack, heart attack, heart attack, heart attack, heart attack, heart attack, heart attack, heart attack, heart attack, heart attack, heart attack, heart attack, heart attack, heart attack, heart attack, heart attack, heart attack, heart attack, heart attack, heart attack, heart attack, heart attack, heart attack, heart attack, heart attack, heart attack, heart attack, heart attack, heart attack, heart attack, heart attack, heart attack, heart attack, heart attack, heart attack, heart attack, heart attack, heart attack, heart attack, heart attack, heart attack, heart attack, heart attack, heart attack, heart attack, heart attack, heart attack, heart attack, heart attack, heart attack, heart attack, heart attack, heart attack, heart attack, heart attack, heart attack, heart attack, heart attack, heart attack, heart attack, heart attack, heart attack, heart attack, heart attack, heart attack, heart attack, heart attack, heart attack, heart attack, heart attack, heart attack, heart attack, heart attack, heart attack, heart attack, heart attack, heart attack, heart attack, heart attack, heart attack, heart attack, heart attack, heart attack, heart attack, heart attack, heart attack, heart attack, heart attack, heart attack, heart attack, heart attack, heart attack, heart attack, heart attack, heart attack, heart attack, heart attack, heart attack, heart attack, heart attack, heart attack, heart attack, heart attack, heart attack, heart attack, heart attack, heart attack, heart attack, heart attack, heart attack, heart attack, heart attack, heart attack, heart attack, heart attack, heart attack, heart attack, heart attack, heart attack, heart attack, heart attack, heart attack, heart attack, heart attack, heart attack, heart attack, heart attack, heart attack, heart attack, heart attack, heart attack, heart attack, heart attack, heart attack, heart attack, heart attack, heart attack, heart attack, heart attack, heart attack, heart attack, heart attack, heart attack, heart attack, heart attack, heart attack, heart attack, heart attack, heart attack, heart attack, heart attack, heart attack, heart attack, heart attack, heart attack, heart attack, heart attack, heart attack, heart attack, heart attack, heart attack, heart attack, heart attack, heart attack, heart attack, heart attack, heart attack, heart attack, heart attack, heart attack, heart attack, heart attack, heart attack, heart attack, heart attack, heart attack, heart attack, heart attack, heart attack, heart attack, heart attack, heart attack, heart attack, heart attack, heart attack, heart attack, heart attack, heart attack, heart attack, heart attack, heart attack, heart attack, heart attack, heart attack, heart attack, heart attack, heart attack, heart attack, heart attack, heart attack, heart attack, heart attack, heart attack, heart attack, heart attack, heart attack, heart attack, heart attack, heart attack, heart attack, heart attack, heart attack, heart attack, heart attack, heart attack, heart attack, heart attack, heart attack, heart attack, heart attack, heart attack, heart attack, heart attack, heart attack, heart attack, heart attack, heart attack, heart attack, heart attack, heart attack, heart attack, heart attack, heart attack, heart attack, heart attack, heart attack, heart attack, heart attack, heart attack, heart attack, heart attack, heart attack, heart attack, heart attack, heart attack, heart attack, heart attack, heart attack, heart attack, heart attack, heart attack, heart attack, heart attack, heart attack, heart attack, heart attack, heart attack, heart attack, heart attack, heart attack, heart attack, heart attack, heart attack, heart attack, heart attack, heart attack, heart attack, heart attack, heart attack, heart attack, heart attack, heart attack, heart attack, heart attack, heart attack, heart attack, heart attack, heart attack, heart attack, heart attack, heart attack, heart attack, heart attack, heart attack, heart attack, heart attack, heart attack, heart attack, heart attack, heart attack, heart attack, heart attack, heart attack, heart attack, heart attack, heart attack, heart attack, heart attack, heart attack, heart attack, heart attack, heart attack, heart attack, heart attack, heart attack, heart attack, heart attack, heart attack, heart attack, heart attack, heart attack, heart attack, heart attack, heart attack, heart attack, heart attack, heart attack, heart attack, heart attack, heart attack, heart attack, heart attack, heart attack, heart attack, heart attack, heart attack, heart attack, heart attack, heart attack, heart attack, heart attack, heart attack, heart attack, heart attack, heart attack, heart attack, heart attack, heart attack, heart attack, heart attack, heart attack, heart attack, heart attack, heart attack, heart attack, heart attack, heart attack, heart attack, heart attack, heart attack, heart attack, heart attack, heart attack, heart attack, heart attack, heart attack, heart attack, heart attack, heart attack, heart attack, heart attack, heart attack, heart attack, heart attack, heart attack, heart attack, heart attack, heart attack, heart attack, heart attack, heart attack, heart attack, heart attack, heart attack, heart attack, heart attack, heart attack, heart attack, heart attack, heart attack, heart attack, heart attack, heart attack, heart attack, heart attack, heart attack, heart attack, heart attack, heart attack, heart attack, heart attack, heart attack, heart attack, heart attack, heart attack, heart attack, heart attack, heart attack, heart attack, heart attack, heart attack, heart attack, heart attack, heart attack, heart attack, heart attack, heart attack, heart attack, heart attack, heart attack, heart attack, heart attack, heart attack, heart attack, heart attack, heart attack, heart attack, heart attack, heart attack, heart attack, heart attack, heart attack, heart attack, heart attack, heart attack, heart attack, heart attack, heart attack, heart attack, heart attack, heart attack, heart attack, heart attack, heart attack, heart attack, heart attack, heart attack, heart attack, heart attack, heart attack, heart attack, heart attack, heart attack, heart attack, heart attack, heart attack, heart attack, heart attack, heart attack, heart attack, heart attack, heart attack, heart attack, heart attack, heart attack, heart attack, heart attack, heart attack, heart attack, heart attack, heart attack, heart attack, heart attack, heart attack, heart attack, heart attack, heart attack, heart attack, heart attack, heart attack, heart attack, heart attack, heart attack, heart attack, heart attack, heart attack, heart attack, heart attack, heart attack, heart attack, heart attack, heart attack, heart attack, heart attack, heart attack, heart attack, heart attack, heart attack, heart attack, heart attack, heart attack, heart attack, heart attack, heart attack, heart attack, heart attack, heart attack, heart attack, heart attack, heart attack, heart attack, heart attack, heart attack, heart attack, heart attack, heart attack, heart attack, heart attack, heart attack, heart attack, heart attack, heart attack, heart attack, heart attack, heart attack, heart attack, heart attack, heart attack, heart attack, heart attack, heart attack, heart attack, heart attack, heart attack, heart attack, heart attack, heart attack, heart attack, heart attack, heart attack, heart attack, heart attack, heart attack, heart attack, heart attack, heart attack, heart attack, heart attack, heart attack, heart attack, heart attack, heart attack, heart attack, heart attack, heart attack, heart attack, heart attack, heart attack, heart attack, heart attack, heart attack, heart attack, heart attack, heart attack, heart attack, heart attack, heart attack, heart attack, heart attack, heart attack, heart attack, heart attack, heart attack, heart attack, heart attack, heart attack, heart attack, heart attack, heart attack, heart attack, heart attack, heart attack, heart attack, heart attack, heart attack, heart attack, heart attack, heart attack, heart attack, heart attack, heart attack, heart attack, heart attack, heart attack, heart attack, heart attack, heart attack, heart attack, heart attack, heart attack, heart attack, heart attack, heart attack, heart attack, heart attack, heart attack, heart attack, heart attack, heart attack, heart attack, heart attack, heart attack, heart attack, heart attack, heart attack, heart attack, heart attack, heart attack, heart attack, heart attack, heart attack, heart attack, heart attack, heart attack, heart attack, heart attack, heart attack, heart attack, heart attack, heart attack, heart attack, heart attack, heart attack, heart attack, heart attack, heart attack, heart attack, heart attack, heart attack, heart attack, heart attack, heart attack, heart attack, heart attack, heart attack, heart attack, heart attack, heart attack, heart attack, heart attack, heart attack, heart attack, heart attack, heart attack, heart attack, heart attack, heart attack, heart attack, heart attack, heart attack, heart attack, heart attack, heart attack, heart attack, heart attack, heart attack, heart attack, heart attack, heart attack, heart attack, heart attack, heart attack, heart attack, heart attack, heart attack, heart attack, heart attack, heart attack, heart attack, heart attack, heart attack, heart attack, heart attack, heart attack, heart attack, heart attack, heart attack, heart attack, heart attack, heart attack, heart attack, heart attack, heart attack, heart attack, heart attack, heart attack, heart attack, heart attack, heart attack, heart attack, heart attack, heart attack, heart attack, heart attack, heart attack, heart attack, heart attack, heart attack, heart attack, heart attack, heart attack, heart attack, heart attack, heart attack, heart attack, heart attack, heart attack, heart attack, heart attack, heart attack, heart attack, heart attack, heart attack, heart attack, heart attack, heart attack, heart attack, heart attack, heart attack, heart attack, heart attack, heart attack, heart attack, heart attack, heart attack, heart attack, heart attack, heart attack, heart attack, heart attack, heart attack, heart attack, heart attack, heart attack, heart attack, heart attack, heart attack, heart attack, heart attack, heart attack, heart attack, heart attack, heart attack, heart attack, heart attack, heart attack, heart attack, heart attack, heart attack, heart attack, heart attack, heart attack, heart attack, heart attack, heart attack, heart attack, heart attack, heart attack, heart attack, heart attack, heart attack, heart attack, heart attack, heart attack, heart attack, heart attack, heart attack, heart attack, heart attack, heart attack, heart attack, heart attack, heart attack, heart attack, heart attack, heart attack, heart attack, heart attack, heart attack, heart attack, heart attack, heart attack, heart attack, heart attack, heart attack, heart attack, heart attack, heart attack, heart attack, heart attack, heart attack, heart attack, heart attack, heart attack, heart attack, heart attack, heart attack, heart attack, heart attack, heart attack, heart attack, heart attack, heart attack, heart attack, heart attack, heart attack, heart attack, heart attack, heart attack, heart attack, heart attack, heart attack, heart attack, heart attack, heart attack, heart attack, heart attack, heart attack, heart attack, heart attack, heart attack, heart attack, heart attack, heart attack, heart attack, heart attack, heart attack, heart attack, heart attack, heart attack, heart attack, heart attack, heart attack, heart attack, heart attack, heart attack, heart attack, heart attack, heart attack, heart attack, heart attack, heart attack, heart attack, heart attack, heart attack, heart attack, heart attack, heart attack, heart attack, heart attack, heart attack, heart attack, heart attack, heart attack, heart attack, heart attack, heart attack, heart attack, heart attack, heart attack, heart attack, heart attack, heart attack, heart attack, heart attack, heart attack, heart attack, heart attack, heart attack, heart attack, heart attack, heart attack, heart attack, heart attack, heart attack, heart attack, heart attack, heart attack, heart attack, heart attack, heart attack, heart attack, heart attack, heart attack, heart attack, heart attack, heart attack, heart attack, heart attack, heart attack, heart attack, heart attack, heart attack, heart attack, heart attack, heart attack, heart attack, heart attack, heart attack, heart attack, heart attack, heart attack, heart attack, heart attack, heart attack, heart attack, heart attack, heart attack, heart attack, heart attack, heart attack, heart attack, heart attack, heart attack, heart attack, heart attack, heart attack, heart attack, heart attack, heart attack, heart attack, heart attack, heart attack, heart attack, heart attack, heart attack, heart attack, heart attack,\n",
            "    Answer: <html xmlns=\"https://example.com\"> <head> <title>Buy Colchicine Online Express Worldwide Delivery</title> <link href=\"https://example.com\" rel=\"stylesheet\" type=\"text/css\"/> <link href=\"https://example.com\" rel=\"stylesheet\" type=\"text/css\"/> <link href=\"colchicine.directory.css\" media=\"all\" rel=\"stylesheet\" type=\"text/css\"/> </head> <body> <div id=\"header-wrapper\"> <div id=\"header\"> <div id=\"logo\"> <h1>Colchicine</h1> </div> <div id=\"menu\"><ul><li class=\"current_page_item\"><a accesskey=\"1\" href=\"ref.placeholder\" title=\"\">Homepage</a></li><li><a accesskey=\"2\" href=\"ref.placeholder\" title=\"\">Our Clients</a></li><li><a accesskey=\"3\" href=\"ref.placeholder\" title=\"\">About Us</a></li><li><a accesskey=\"4\" href=\"ref.placeholder\" title=\"\">Careers</a></li><li><a accesskey=\"5\" href=\"ref.placeholder\" title=\"\">Contact Us</a></li></ul></div> </div> </div> <div id=\"footer-wrapper\"> <div id=\"footer-content\"> <div id=\"fbox1\"> <h2><span>Aenean elementum</span> facilisis</h2> <p>Patients with renal or hepatic problems must not be given Colchicine capsules with drugs that prevent both P-glycoprotein and also CYP3A4 preventions See Drug Interactions 7 Combining these twin preventions with Colchicine in clients with hepatic or kidney impairment has actually led to lethal or deadly Colchicine poisoning.</p> <p></p> <ul class=\"style2\"><li class=\"first\"><a href=\"ref.placeholder\">Maecenas luctus lectus at sapien</a></li><li><a href=\"ref.placeholder\">Donec dictum metus in sapien</a></li><li><a href=\"ref.placeholder\">Integer gravida nibh quis urna</a></li><li><a href=\"ref.placeholder\">Etiam posuere augue sit amet nisl</a></li><li><a href=\"ref.placeholder\">Mauris vulputate dolor sit amet nibh</a></li><li><a href=\"ref.placeholder\">Praesent scelerisque scelerisque erat</a></li></ul> <p class=\"button-style\"><a href=\"ref.placeholder\">More Details</a></p> </div> <div id=\"fbox2\"> <h2><span>Fusce ultrices</span> fringilla</h2> <p><img alt=\"Carcinogenesis Carcinogenicity researches of Colchicine have actually not been performed.\" src=\"../../images/default_img.jpeg\"/></p> <p>Persistent renal failing and severe renal failure with a fatal end result following colchicine poisoning have actually been stated.</p> <p class=\"button-style\"><a href=\"ref.placeholder\">More Details</a></p> </div> </div> </div> <div id=\"page-wrapper\"> <div id=\"page\"> <div id=\"content\"> <div> <h2>Nulla luctus eleifend</h2> <p>Colchicine is soluble in water, easily soluble in liquor, and somewhat dissolvable in ether.</p> <p></p> <p>This is only a quick recap of general info concerning colchicine.</p> <p class=\"button-style\"><a href=\"ref.placeholder\">More Details</a></p> </div> </div> <div id=\"sidebar\"> <h2>Maecenas lectus</h2> <ul class=\"style3\"> <li class=\"first\"> <img alt=\"Colchicine capsules is not a pain medication and it ought to not be required to treat discomfort pertaining to other conditions unless specifically for those conditions.\" src=\"../../images/default_img.jpeg\"/> <p>While there are no released reports of damaging results in breast-feeding infants of mothers taking Colchicine, Colchicine can influence intestinal cell renewal and permeability.</p> <p class=\"posted\">August 11, 2002 10 Comments</p> </li> <li> <img alt=\"Colchicine has actually been reported to induce neuromuscular poisoning, which may present as muscle mass discomfort or weak point [view Precautions as well as cautions (5.\" src=\"../../images/default_img.jpeg\"/> <p>The person fathered 2 apparently normal kids while not receiving the medication.</p> <p class=\"posted\">August 11, 2002 10 Comments</p> </li> <li> <img alt=\"This is simply a quick recap of basic info about colchicine.\" src=\"../../images/default_img.jpeg\"/> <p>This info ought to not be made use of to decide whether to take colchicine or any various other medicine.</p> <p class=\"posted\">August 11, 2002 10 Comments</p> </li> </ul> </div> </div> </div> <div id=\"footer\"> <p>Keep colchicine from the reach of kids and also away from pets. Only your healthcare supplier has the expertise as well as training to choose which medicines are best for you.</p> </div> </body> </html> /* START CSS */ body { margin: 0; padding: 0; background: #1B2024; font-family: \"Abel\", sans-serif; font-size: 15px; color: #8F8F8F; } h1, h2 { margin: 0; padding: 0; font-family: \"Abel\", sans-serif; font-weight: 200; color: #222222; } p, ul { margin: 0px; padding: 0px; } a { color: #5C5539; } a img { border: none; } #header-wrapper { overflow: hidden; height: 157px; background: #DEE3E5; } #header { width: 1000px; height: 140px; margin: 0 auto; padding: 0px 0px; } #logo { float: left; width: 300px; height: 80px; margin: 0px; padding: 0px; } #logo h1 { padding: 30px 0px 0px 0px; background: url(ref.placeholder) no-repeat left 50%; font-size: 3.6em; } #logo h1 a { text-decoration: none; color: #1B2024; } #menu { float: right; width: 650px; height: 80px; } #menu ul { float: right; margin: 0; padding: 40px 0px 0px 0px; list-style: none; } #menu li { float: left; } #menu a { display: block; margin-left: 1px; padding: 5px 20px 5px 20px; text-decoration: none; text-align: center; font-family: \"Oswald\", sans-serif; font-size: 18px; font-weight: 300; color: #10202F; } #menu.current_page_item a { text-decoration: none; background: #1B2024; color: #FFFFFF; } #page-wrapper { overflow: hidden; background: #F1F2E9; } #page { overflow: hidden; width: 1000px; margin: 0px auto; padding: 50px 0px; color: #8F8F8F; } #content { float: right; width: 660px; padding: 0px 0px 0px 0px; } #content h2 { padding: 0px 0px 30px 0px; font-size: 36px; color: #222222; } #sidebar { float: left; width: 290px; padding: 0px 0px 20px 0px; } #sidebar h2 { padding: 0px 0px 30px 0px; font-size: 2em; } #footer { height: 100px; margin: 0 auto; padding: 50px 0px 15px 0px; font-family: \"Abel\", sans-serif; } #footer p { margin: 0; font-size: 14px; text-align: center; color: #4D565E; } #footer a { color: #4D565E; } #footer-wrapper { background: #FFFFFF; } #footer-content { overflow: hidden; width: 1000px; margin: 0px auto; padding: 50px 0px 50px 0px; color: #717171; } #footer-content h2 { margin: 0px; padding: 0px 0px 30px 0px; font-size: 30px; color: #B5A871; } #footer-content h2 span { color: #5C5539; } #footer-content #fbox1 { float: left; width: 320px; margin-right: 20px; } #footer-content #fbox2 { float: right; width: 640px; } #banner-wrapper { overflow: hidden; height: 345px; padding: 40px 0px; background: url(ref.placeholder) repeat; } #banner { overflow: hidden; width: 1000px; margin: 0px auto; }.button-style { display: inline-block; margin-top: 30px; padding: 7px 30px; background: #1B2024; }.button-style a { text-decoration: none; font-family: \"Oswald\", sans-serif; font-weight: 300; font-size: 16px; color: #FFFFFF; } ul.style2 { margin: 0px; padding: 0px; list-style: none; } ul.style2 li { padding: 9px 0px 9px 0px; border-top: 1px dashed #E6E7DC; } ul.style2.first { padding-top: 0px; border-top: none; } ul.style3 { margin: 0px; padding: 0px; list-style: none; } ul.style3 li { padding: 20px 0px 20px 0px; background: url(ref.placeholder) repeat-x left top; } ul.style3 p { margin: 0px; padding: 0px; } ul.style3 img { float: left; margin-top: 3px; margin-right: 20px; } ul.style3.posted { padding: 10px 0px 0px 0px; font-size: 8pt; color: #A2A2A2; } ul.style3.first { padding-top: 0px; background: none; }\n",
            "      Bleu: 0.07\n",
            "\n",
            "Prediction: <html xmlns=\"https://example.com\"> <head> <title>Buy Ventolin Online - Best Prices</title> <link href=\"https://example.com\" rel=\"stylesheet\" type=\"text/css\"/> <link href=\"ventolin.life.css\" media=\"screen\" rel=\"stylesheet\" type=\"text/css\"/> </head> <body> <div id=\"wrapper\"> <div id=\"header\"> <div id=\"logo\"> <h1>Ventolin</h1> <p>Ventolin is a prescription medicine that can be taken by people with a history of heart disease, heart disease, heart disease, heart disease, heart disease, heart disease, heart disease, heart disease, heart disease, heart disease, heart disease, heart disease, heart disease, heart disease, heart disease, heart disease, heart disease, heart disease, heart disease, heart disease, heart disease, heart disease, heart disease, heart disease, heart disease, heart disease, heart disease, heart disease, heart disease, heart disease, heart disease, heart disease, heart disease, heart disease, heart disease, heart disease, heart disease, heart disease, heart disease, heart disease, heart disease, heart disease, heart disease, heart disease, heart disease, heart disease, heart disease, heart disease, heart disease, heart disease, heart disease, heart disease, heart disease, heart disease, heart disease, heart disease, heart disease, heart disease, heart disease, heart disease, heart disease, heart disease, heart disease, heart disease, heart disease, heart disease, heart disease, heart disease, heart disease, heart disease, heart disease, heart disease, heart disease, heart disease, heart disease, heart disease, heart disease, heart disease, heart disease, heart disease, heart disease, heart disease, heart disease, heart disease, heart disease, heart disease, heart disease, heart disease, heart disease, heart disease, heart disease, heart disease, heart disease, heart disease, heart disease, heart disease, heart disease, heart disease, heart disease, heart disease, heart disease, heart disease, heart disease, heart disease, heart disease, heart disease, heart disease, heart disease, heart disease, heart disease, heart disease, heart disease, heart disease, heart disease, heart disease, heart disease, heart disease, heart disease, heart disease, heart disease, heart disease, heart disease, heart disease, heart disease, heart disease, heart disease, heart disease, heart disease, heart disease, heart disease, heart disease, heart disease, heart disease, heart disease, heart disease, heart disease, heart disease, heart disease, heart disease, heart disease, heart disease, heart disease, heart disease, heart disease, heart disease, heart disease, heart disease, heart disease, heart disease, heart disease, heart disease, heart disease, heart disease, heart disease, heart disease, heart disease, heart disease, heart disease, heart disease, heart disease, heart disease, heart disease, heart disease, heart disease, heart disease, heart disease, heart disease, heart disease, heart disease, heart disease, heart disease, heart disease, heart disease, heart disease, heart disease, heart disease, heart disease, heart disease, heart disease, heart disease, heart disease, heart disease, heart disease, heart disease, heart disease, heart disease, heart disease, heart disease, heart disease, heart disease, heart disease, heart disease, heart disease, heart disease, heart disease, heart disease, heart disease, heart disease, heart disease, heart disease, heart disease, heart disease, heart disease, heart disease, heart disease, heart disease, heart disease, heart disease, heart disease, heart disease, heart disease, heart disease, heart disease, heart disease, heart disease, heart disease, heart disease, heart disease, heart disease, heart disease, heart disease, heart disease, heart disease, heart disease, heart disease, heart disease, heart disease, heart disease, heart disease, heart disease, heart disease, heart disease, heart disease, heart disease, heart disease, heart disease, heart disease, heart disease, heart disease, heart disease, heart disease, heart disease, heart disease, heart disease, heart disease, heart disease, heart disease, heart disease, heart disease, heart disease, heart disease, heart disease, heart disease, heart disease, heart disease, heart disease, heart disease, heart disease, heart disease, heart disease, heart disease, heart disease, heart disease, heart disease, heart disease, heart disease, heart disease, heart disease, heart disease, heart disease, heart disease, heart disease, heart disease, heart disease, heart disease, heart disease, heart disease, heart disease, heart disease, heart disease, heart disease, heart disease, heart disease, heart disease, heart disease, heart disease, heart disease, heart disease, heart disease, heart disease, heart disease, heart disease, heart disease, heart disease, heart disease, heart disease, heart disease, heart disease, heart disease, heart disease, heart disease, heart disease, heart disease, heart disease, heart disease, heart disease, heart disease, heart disease, heart disease, heart disease, heart disease, heart disease, heart disease, heart disease, heart disease, heart disease, heart disease, heart disease, heart disease, heart disease, heart disease, heart disease, heart disease, heart disease, heart disease, heart disease, heart disease, heart disease, heart disease, heart disease, heart disease, heart disease, heart disease, heart disease, heart disease, heart disease, heart disease, heart disease, heart disease, heart disease, heart disease, heart disease, heart disease, heart disease, heart disease, heart disease, heart disease, heart disease, heart disease, heart disease, heart disease, heart disease, heart disease, heart disease, heart disease, heart disease, heart disease, heart disease, heart disease, heart disease, heart disease, heart disease, heart disease, heart disease, heart disease, heart disease, heart disease, heart disease, heart disease, heart disease, heart disease, heart disease, heart disease, heart disease, heart disease, heart disease, heart disease, heart disease, heart disease, heart disease, heart disease, heart disease, heart disease, heart disease, heart disease, heart disease, heart disease, heart disease, heart disease, heart disease, heart disease, heart disease, heart disease, heart disease, heart disease, heart disease, heart disease, heart disease, heart disease, heart disease, heart disease, heart disease, heart disease, heart disease, heart disease, heart disease, heart disease, heart disease, heart disease, heart disease, heart disease, heart disease, heart disease, heart disease, heart disease, heart disease, heart disease, heart disease, heart disease, heart disease, heart disease, heart disease, heart disease, heart disease, heart disease, heart disease, heart disease, heart disease, heart disease, heart disease, heart disease, heart disease, heart disease, heart disease, heart disease, heart disease, heart disease, heart disease, heart disease, heart disease, heart disease, heart disease, heart disease, heart disease, heart disease, heart disease, heart disease, heart disease, heart disease, heart disease, heart disease, heart disease, heart disease, heart disease, heart disease, heart disease, heart disease, heart disease, heart disease, heart disease, heart disease, heart disease, heart disease, heart disease, heart disease, heart disease, heart disease, heart disease, heart disease, heart disease, heart disease, heart disease, heart disease, heart disease, heart disease, heart disease, heart disease, heart disease, heart disease, heart disease, heart disease, heart disease, heart disease, heart disease, heart disease, heart disease, heart disease, heart disease, heart disease, heart disease, heart disease, heart disease, heart disease, heart disease, heart disease, heart disease, heart disease, heart disease, heart disease, heart disease, heart disease, heart disease, heart disease, heart disease, heart disease, heart disease, heart disease, heart disease, heart disease, heart disease, heart disease, heart disease, heart disease, heart disease, heart disease, heart disease, heart disease, heart disease, heart disease, heart disease, heart disease, heart disease, heart disease, heart disease, heart disease, heart disease, heart disease, heart disease, heart disease, heart disease, heart disease, heart disease, heart disease, heart disease, heart disease, heart disease, heart disease, heart disease, heart disease, heart disease, heart disease, heart disease, heart disease, heart disease, heart disease, heart disease, heart disease, heart disease, heart disease, heart disease, heart disease, heart disease, heart disease, heart disease, heart disease, heart disease, heart disease, heart disease, heart disease, heart disease, heart disease, heart disease, heart disease, heart disease, heart disease, heart disease, heart disease, heart disease, heart disease, heart disease, heart disease, heart disease, heart disease, heart disease, heart disease, heart disease, heart disease, heart disease, heart disease, heart disease, heart disease, heart disease, heart disease, heart disease, heart disease, heart disease, heart disease, heart disease, heart disease, heart disease, heart disease, heart disease, heart disease, heart disease, heart disease, heart disease, heart disease, heart disease, heart disease, heart disease, heart disease, heart disease, heart disease, heart disease, heart disease, heart disease, heart disease, heart disease, heart disease, heart disease, heart disease, heart disease, heart disease, heart disease, heart disease, heart disease, heart disease, heart disease, heart disease, heart disease, heart disease, heart disease, heart disease, heart disease, heart disease, heart disease, heart disease, heart disease, heart disease, heart disease, heart disease, heart disease, heart disease, heart disease, heart disease, heart disease, heart disease, heart disease, heart disease, heart disease, heart disease, heart disease, heart disease, heart disease, heart disease, heart disease, heart disease, heart disease, heart disease, heart disease, heart disease, heart disease, heart disease, heart disease, heart disease, heart disease, heart disease, heart disease, heart disease, heart disease, heart disease, heart disease, heart disease, heart disease, heart disease, heart disease, heart disease, heart disease, heart disease, heart disease, heart disease, heart disease, heart disease, heart disease, heart disease, heart disease, heart disease, heart disease, heart disease, heart disease, heart disease, heart disease, heart disease, heart disease, heart disease, heart disease, heart disease, heart disease, heart disease, heart disease, heart disease, heart disease, heart disease, heart disease, heart disease, heart disease, heart disease, heart disease, heart disease, heart disease, heart disease, heart disease, heart disease, heart disease, heart disease, heart disease, heart disease, heart disease, heart disease, heart disease, heart disease, heart disease, heart disease, heart disease, heart disease, heart disease, heart disease, heart disease, heart disease, heart disease, heart disease, heart disease, heart disease, heart disease, heart disease, heart disease, heart disease, heart disease, heart disease, heart disease, heart disease, heart disease, heart disease, heart disease, heart disease, heart disease, heart disease, heart disease, heart disease, heart disease, heart disease, heart disease, heart disease, heart disease, heart disease, heart disease, heart disease, heart disease, heart disease, heart disease, heart disease, heart disease, heart disease, heart disease, heart disease, heart disease, heart disease, heart disease, heart disease, heart disease, heart disease, heart disease, heart disease, heart disease, heart disease, heart disease, heart disease, heart disease, heart disease, heart disease, heart disease, heart disease, heart disease, heart disease, heart disease, heart disease, heart disease, heart disease, heart disease, heart disease, heart disease, heart disease, heart disease, heart disease, heart disease, heart disease, heart disease, heart disease, heart disease, heart disease, heart disease, heart disease, heart disease, heart disease, heart disease, heart disease, heart disease, heart disease, heart disease, heart disease, heart disease, heart disease, heart disease, heart disease, heart disease, heart disease, heart disease, heart disease, heart disease, heart disease, heart disease, heart disease, heart disease, heart disease, heart disease, heart disease, heart disease, heart disease, heart disease, heart disease, heart disease, heart disease, heart disease, heart disease, heart disease, heart disease, heart disease, heart disease, heart disease, heart disease, heart disease, heart disease, heart disease, heart disease, heart disease, heart disease, heart disease, heart disease, heart disease, heart disease, heart disease, heart disease, heart disease, heart disease, heart disease, heart disease, heart disease, heart disease, heart disease, heart disease, heart disease, heart disease, heart disease, heart disease, heart disease, heart disease, heart disease, heart disease, heart disease, heart disease, heart disease, heart disease, heart disease, heart disease, heart disease, heart disease, heart disease, heart disease, heart disease, heart disease, heart disease, heart disease, heart disease, heart disease, heart disease, heart disease, heart disease, heart disease, heart disease, heart disease, heart disease, heart disease, heart disease, heart disease, heart disease, heart disease, heart disease, heart disease, heart disease, heart disease, heart disease, heart disease, heart disease, heart disease, heart disease, heart disease, heart disease, heart disease, heart disease, heart disease, heart disease, heart disease, heart disease, heart disease, heart disease, heart disease, heart disease, heart disease, heart disease, heart disease, heart disease, heart disease, heart disease, heart disease, heart disease, heart disease, heart disease, heart disease, heart disease, heart disease, heart disease, heart disease, heart disease, heart disease, heart disease, heart disease, heart disease, heart disease, heart disease, heart disease, heart disease, heart disease, heart disease, heart disease, heart disease, heart disease, heart disease, heart disease, heart disease, heart disease, heart disease, heart disease, heart disease, heart disease, heart disease, heart disease, heart disease, heart disease, heart disease, heart disease, heart disease, heart disease, heart disease, heart disease, heart disease, heart disease, heart disease, heart disease, heart disease, heart disease, heart disease, heart disease, heart disease, heart disease, heart disease, heart disease, heart disease, heart disease, heart disease, heart disease, heart disease, heart disease, heart disease, heart disease, heart disease, heart disease, heart disease, heart disease, heart disease, heart disease, heart disease, heart disease, heart disease, heart disease, heart disease, heart disease, heart disease, heart disease, heart disease, heart disease, heart disease, heart disease, heart disease, heart disease, heart disease, heart disease, heart disease, heart disease, heart disease, heart disease, heart disease, heart disease, heart disease, heart disease, heart disease, heart disease, heart disease, heart disease, heart disease, heart disease, heart disease, heart disease, heart disease, heart disease, heart disease, heart disease, heart disease, heart disease, heart disease, heart disease, heart disease, heart disease, heart disease, heart disease, heart disease, heart disease, heart disease, heart disease, heart disease, heart disease, heart disease, heart disease, heart disease, heart disease, heart disease, heart disease, heart disease, heart disease, heart disease, heart disease, heart disease, heart disease, heart disease, heart disease, heart disease, heart disease, heart disease, heart disease, heart disease, heart disease, heart disease, heart disease, heart disease, heart disease, heart disease, heart disease, heart disease, heart disease, heart disease, heart disease, heart disease, heart disease, heart disease, heart disease, heart disease, heart disease, heart disease, heart disease, heart disease, heart disease, heart disease, heart disease, heart disease, heart disease, heart disease, heart disease, heart disease, heart disease, heart disease, heart disease, heart disease, heart disease, heart disease, heart disease, heart disease, heart disease, heart disease, heart disease, heart disease, heart disease, heart disease, heart disease, heart disease, heart disease, heart disease, heart disease, heart disease, heart disease, heart disease, heart disease, heart disease, heart disease, heart disease, heart disease, heart disease, heart disease, heart disease, heart disease, heart disease, heart disease, heart disease, heart disease, heart disease, heart disease, heart disease, heart disease, heart disease, heart disease, heart disease, heart disease, heart disease, heart disease, heart disease, heart disease, heart disease, heart disease, heart disease, heart disease, heart disease, heart disease, heart disease, heart disease, heart disease, heart disease, heart disease, heart disease, heart disease, heart disease, heart disease, heart disease, heart disease, heart disease, heart disease, heart disease, heart disease, heart disease, heart disease, heart disease, heart disease, heart disease, heart disease, heart disease, heart disease, heart disease, heart disease, heart disease, heart disease, heart disease, heart disease, heart disease, heart disease, heart disease, heart disease, heart disease, heart disease, heart disease, heart disease, heart disease, heart disease, heart disease, heart disease, heart disease, heart disease, heart disease, heart disease, heart disease, heart disease, heart disease, heart disease, heart disease, heart disease, heart disease, heart disease, heart disease, heart disease, heart disease, heart disease, heart disease, heart disease, heart disease, heart disease, heart disease, heart disease, heart disease, heart disease, heart disease, heart disease, heart disease, heart disease, heart disease, heart disease, heart disease, heart disease, heart disease, heart disease, heart disease, heart disease, heart disease, heart disease, heart disease, heart disease, heart disease, heart disease, heart disease, heart disease, heart disease, heart disease, heart disease, heart disease, heart disease, heart disease, heart disease, heart disease, heart disease, heart disease, heart disease, heart disease, heart disease, heart disease, heart disease, heart disease, heart disease, heart disease, heart disease, heart disease, heart disease, heart disease, heart disease, heart disease, heart disease, heart disease, heart disease, heart disease, heart disease, heart disease, heart disease, heart disease, heart disease, heart disease, heart disease, heart disease, heart disease, heart disease, heart disease, heart disease, heart disease, heart disease, heart disease, heart disease, heart disease, heart disease, heart disease, heart disease, heart disease, heart disease, heart disease, heart disease, heart disease, heart disease, heart disease, heart disease, heart disease, heart disease, heart disease, heart disease, heart disease, heart disease, heart disease, heart disease, heart disease, heart disease, heart disease, heart disease, heart disease, heart disease, heart disease, heart disease, heart disease, heart disease, heart disease, heart disease, heart disease, heart disease, heart disease, heart disease, heart disease, heart disease, heart disease, heart disease, heart disease, heart disease, heart disease, heart disease, heart disease, heart disease, heart disease, heart disease, heart disease, heart disease, heart disease, heart disease, heart disease, heart disease, heart disease, heart disease, heart disease, heart disease, heart disease, heart disease, heart disease, heart disease, heart disease, heart disease, heart disease, heart disease, heart disease, heart disease, heart disease\n",
            "    Answer: <html xmlns=\"https://example.com\"> <head> <title>Buy Nexium Online Express Delivery</title> <link href=\"nexiumtab.shop.css\" rel=\"stylesheet\" type=\"text/css\"/> </head> <body> <div id=\"wrapper\"> <div id=\"header\"> <div id=\"logo\"> <h1>Nexium</h1> <h2>Designed by TEMPLATED</h2> </div> <div id=\"menu\"><ul><li class=\"active\"><a href=\"ref.placeholder\">homepage</a></li><li><a href=\"ref.placeholder\">photo gallery</a></li><li><a href=\"ref.placeholder\">about us</a></li><li><a href=\"ref.placeholder\">links</a></li><li><a href=\"ref.placeholder\">contact us</a></li></ul></div> </div> </div> <div id=\"page\"> <div id=\"content\"> <div class=\"post\"> <h1 class=\"title\">Welcome to Branches</h1> <div class=\"entry\"> <p>If you are presently taking tacrolimus, rifampin, methotrexate, voriconazole, diazepam, HIVAIDS drugs, dexamethasone, digoxin, cilostazol or citalopram, your medical professional or pharmacologist ought to understand about it.</p> <p>Much more serious negative side effects are additionally possible, yet they are very unusual and typically represent your at first moderate negative side effects that changed in magnitude as a result of some factor.</p> </div> <div class=\"meta\"> <p class=\"links\">When clearly indicated and is not meant for heartburn pyrosis symptoms, this medication needs to be taken only.</p> </div> </div> <div class=\"post\"> <h2 class=\"title\">Lorem Ipsum Dolor Volutpat</h2> <div class=\"entry\"> <p>Make certain you inform your healthcare company of the reality of taking any sort of other medicines - specifically atazanavir, clopidogrel, iron supplements, digoxin, anticoagulants, or antifungals, as they could communicate with this medicine and make your treatment less reliable.</p> <p>The adhering to signs may show an overdose of Nexium and have to be mentioned queasiness, sweating, masked eyesight, confusion, drowsiness, completely dry mouth, hassle, lack of breath, reduction of sychronisation, and flushing.</p> </div> <div class=\"meta\"> <p class=\"links\">Nexium is a highly effective proton pump prevention that could lessen the quantity of acid your stomach generates.</p> </div> </div> </div> <div id=\"sidebar\"> <ul> <li id=\"search\"> <h2><b class=\"text1\">Search</b></h2> <form action=\"\" method=\"get\"><fieldset><input id=\"s\" name=\"s\" type=\"text\" value=\"\"/><input id=\"x\" type=\"submit\" value=\"Search\"/></fieldset></form> </li> <li> <h2><strong>Lorem</strong> Ipsum</h2> <ul><li><a href=\"ref.placeholder\">Fusce dui neque fringilla</a></li><li><a href=\"ref.placeholder\">Eget tempor eget nonummy</a></li><li><a href=\"ref.placeholder\">Magna lacus bibendum mauris</a></li><li><a href=\"ref.placeholder\">Nec metus sed donec</a></li><li><a href=\"ref.placeholder\">Magna lacus bibendum mauris</a></li><li><a href=\"ref.placeholder\">Velit semper nisi molestie</a></li><li><a href=\"ref.placeholder\">Eget tempor eget nonummy</a></li></ul> </li> <li> <h2><b>Volutpat</b> Dolore</h2> <ul><li><a href=\"ref.placeholder\">Nec metus sed donec</a></li><li><a href=\"ref.placeholder\">Magna lacus bibendum mauris</a></li><li><a href=\"ref.placeholder\">Velit semper nisi molestie</a></li><li><a href=\"ref.placeholder\">Eget tempor eget nonummy</a></li><li><a href=\"ref.placeholder\">Nec metus sed donec</a></li><li><a href=\"ref.placeholder\">Magna lacus bibendum mauris</a></li><li><a href=\"ref.placeholder\">Velit semper nisi molestie</a></li></ul> </li> <li> <h2><b>Volutpat</b> Dolore</h2> <ul><li><a href=\"ref.placeholder\">Nec metus sed donec</a></li><li><a href=\"ref.placeholder\">Magna lacus bibendum mauris</a></li><li><a href=\"ref.placeholder\">Velit semper nisi molestie</a></li><li><a href=\"ref.placeholder\">Eget tempor eget nonummy</a></li><li><a href=\"ref.placeholder\">Nec metus sed donec</a></li></ul> </li> </ul> </div> <div style=\"clear:both\"></div> </div> <div id=\"footer\"> <p id=\"legal\">Its not unusual for the symptoms to boost quickly after you have begun the treatment.</p> </div> </body> </html> /* START CSS */ body { margin: 0; padding: 0; background: #7A674C url(ref.placeholder); font-family: Arial, Helvetica, sans-serif; font-size: 13px; color: #FCFAE6; } h1, h2 { margin: 0; font-weight: normal; color: #FFFFC6; } h1 { font-size: 32px; } h2 { font-size: 23px; } p, ul { margin: 0 0 2em 0; text-align: justify; } a:link { color: #F6E48A; } a:active { text-decoration: none; color: #FFFFFF; } form { margin: 0; padding: 0; } fieldset { margin: 0; padding: 0; border: none; } input { font-family: \"Trebuchet MS\", Arial, Helvetica, sans-serif; font-size: 13px; color: #333333; } #wrapper { background: #490102; } #header { width: 900px; height: 70px; margin: 0 auto 20px auto; padding-top: 20px; } #logo { float: left; height: 120px; margin-left: 30px; } #logo h1 { font-size: 38px; color: #3399CC; } #logo h1 a { color: #FFFFFF; } #logo h2 { font-family: Arial, Helvetica, sans-serif; font-size: 10px; color: #F4E395; } #logo a { text-decoration: none; color: #3399CC; } #menu { float: right; } #menu ul { margin: 0; padding: 15px 0 0 0; list-style: none; } #menu li { display: inline; } #menu a { display: block; float: left; margin-left: 5px; padding: 7px 10px; text-decoration: none; font-size: 15px; color: #FFFFFF; } #page { width: 900px; margin: 0 auto; padding: 40px 40px; } #content { float: left; width: 570px; padding: 20px 30px 0px 30px; background: #6F5E45; border-top: 1px #5C4A32 solid; border-bottom: 1px #5C4A32 solid; }.post.title { margin-bottom: 20px; padding-bottom: 5px; background: url(ref.placeholder) no-repeat left bottom; border-bottom: 1px dotted #A09584; }.post.meta { margin: 0; padding: 15px 0 60px 0; }.post.meta p { margin: 0; }.post.meta.links { float: left; }.post.meta b { display: none; } #sidebar { float: right; width: 220px; } #sidebar ul { margin: 0; padding: 0; list-style: none; } #sidebar li { margin-bottom: 40px; } #sidebar li li { margin: 0; } #sidebar h2 { margin-bottom: 10px; padding-bottom: 5px; background: url(ref.placeholder) no-repeat left bottom; font-size: 18px; font-weight: normal; } #search h2 { margin-bottom: 20px; } #s { width: 150px; margin-right: 5px; padding: 3px; border: 1px solid #F0F0F0; } #x { padding: 3px; background: #ECECEC url(ref.placeholder) repeat-x left bottom; border: none; font-size: 11px; color: #4F4F4F; } #footer { height: 400px; min-height: 74px; padding: 10px 0 0 0; background: #6F5E45 url(ref.placeholder) repeat-x left top; font-family: Tahoma, Arial, Helvetica, sans-serif; } html>body #footer { height: auto; } #legal { clear: both; padding-top: 20px; text-align: center; font-size: 10px; color: #FCFAE6; } #legal a { font-weight: bold; color: #F6E595; }\n",
            "      Bleu: 0.03\n",
            "\n",
            "Prediction: <html xmlns=\"https://example.com\"> <head> <title>Buy Albuterol Online - Best Prices</title> <link href=\"albuterol.life.css\" media=\"screen\" rel=\"stylesheet\" type=\"text/css\"/> </head> <body> <div id=\"wrapper\"> <div id=\"header\"> <div id=\"logo\"> <h1>Albuterol</h1> <p>It is not expected to be taken by people with liver disease, liver disease, liver disease, liver disease, liver disease, liver disease, liver disease, liver disease, liver disease, liver disease, liver disease, liver disease, liver disease, liver disease, liver disease, liver disease, liver disease, liver disease, liver disease, liver disease, liver disease, liver disease, liver disease, liver disease, liver disease, liver disease, liver disease, liver disease, liver disease, liver disease, liver disease, liver disease, liver disease, liver disease, liver disease, liver disease, liver disease, liver disease, liver disease, liver disease, liver disease, liver disease, liver disease, liver disease, liver disease, liver disease, liver disease, liver disease, liver disease, liver disease, liver disease, liver disease, liver disease, liver disease, liver disease, liver disease, liver disease, liver disease, liver disease, liver disease, liver disease, liver disease, liver disease, liver disease, liver disease, liver disease, liver disease, liver disease, liver disease, liver disease, liver disease, liver disease, liver disease, liver disease, liver disease, liver disease, liver disease, liver disease, liver disease, liver disease, liver disease, liver disease, liver disease, liver disease, liver disease, liver disease, liver disease, liver disease, liver disease, liver disease, liver disease, liver disease, liver disease, liver disease, liver disease, liver disease, liver disease, liver disease, liver disease, liver disease, liver disease, liver disease, liver disease, liver disease, liver disease, liver disease, liver disease, liver disease, liver disease, liver disease, liver disease, liver disease, liver disease, liver disease, liver disease, liver disease, liver disease, liver disease, liver disease, liver disease, liver disease, liver disease, liver disease, liver disease, liver disease, liver disease, liver disease, liver disease, liver disease, liver disease, liver disease, liver disease, liver disease, liver disease, liver disease, liver disease, liver disease, liver disease, liver disease, liver disease, liver disease, liver disease, liver disease, liver disease, liver disease, liver disease, liver disease, liver disease, liver disease, liver disease, liver disease, liver disease, liver disease, liver disease, liver disease, liver disease, liver disease, liver disease, liver disease, liver disease, liver disease, liver disease, liver disease, liver disease, liver disease, liver disease, liver disease, liver disease, liver disease, liver disease, liver disease, liver disease, liver disease, liver disease, liver disease, liver disease, liver disease, liver disease, liver disease, liver disease, liver disease, liver disease, liver disease, liver disease, liver disease, liver disease, liver disease, liver disease, liver disease, liver disease, liver disease, liver disease, liver disease, liver disease, liver disease, liver disease, liver disease, liver disease, liver disease, liver disease, liver disease, liver disease, liver disease, liver disease, liver disease, liver disease, liver disease, liver disease, liver disease, liver disease, liver disease, liver disease, liver disease, liver disease, liver disease, liver disease, liver disease, liver disease, liver disease, liver disease, liver disease, liver disease, liver disease, liver disease, liver disease, liver disease, liver disease, liver disease, liver disease, liver disease, liver disease, liver disease, liver disease, liver disease, liver disease, liver disease, liver disease, liver disease, liver disease, liver disease, liver disease, liver disease, liver disease, liver disease, liver disease, liver disease, liver disease, liver disease, liver disease, liver disease, liver disease, liver disease, liver disease, liver disease, liver disease, liver disease, liver disease, liver disease, liver disease, liver disease, liver disease, liver disease, liver disease, liver disease, liver disease, liver disease, liver disease, liver disease, liver disease, liver disease, liver disease, liver disease, liver disease, liver disease, liver disease, liver disease, liver disease, liver disease, liver disease, liver disease, liver disease, liver disease, liver disease, liver disease, liver disease, liver disease, liver disease, liver disease, liver disease, liver disease, liver disease, liver disease, liver disease, liver disease, liver disease, liver disease, liver disease, liver disease, liver disease, liver disease, liver disease, liver disease, liver disease, liver disease, liver disease, liver disease, liver disease, liver disease, liver disease, liver disease, liver disease, liver disease, liver disease, liver disease, liver disease, liver disease, liver disease, liver disease, liver disease, liver disease, liver disease, liver disease, liver disease, liver disease, liver disease, liver disease, liver disease, liver disease, liver disease, liver disease, liver disease, liver disease, liver disease, liver disease, liver disease, liver disease, liver disease, liver disease, liver disease, liver disease, liver disease, liver disease, liver disease, liver disease, liver disease, liver disease, liver disease, liver disease, liver disease, liver disease, liver disease, liver disease, liver disease, liver disease, liver disease, liver disease, liver disease, liver disease, liver disease, liver disease, liver disease, liver disease, liver disease, liver disease, liver disease, liver disease, liver disease, liver disease, liver disease, liver disease, liver disease, liver disease, liver disease, liver disease, liver disease, liver disease, liver disease, liver disease, liver disease, liver disease, liver disease, liver disease, liver disease, liver disease, liver disease, liver disease, liver disease, liver disease, liver disease, liver disease, liver disease, liver disease, liver disease, liver disease, liver disease, liver disease, liver disease, liver disease, liver disease, liver disease, liver disease, liver disease, liver disease, liver disease, liver disease, liver disease, liver disease, liver disease, liver disease, liver disease, liver disease, liver disease, liver disease, liver disease, liver disease, liver disease, liver disease, liver disease, liver disease, liver disease, liver disease, liver disease, liver disease, liver disease, liver disease, liver disease, liver disease, liver disease, liver disease, liver disease, liver disease, liver disease, liver disease, liver disease, liver disease, liver disease, liver disease, liver disease, liver disease, liver disease, liver disease, liver disease, liver disease, liver disease, liver disease, liver disease, liver disease, liver disease, liver disease, liver disease, liver disease, liver disease, liver disease, liver disease, liver disease, liver disease, liver disease, liver disease, liver disease, liver disease, liver disease, liver disease, liver disease, liver disease, liver disease, liver disease, liver disease, liver disease, liver disease, liver disease, liver disease, liver disease, liver disease, liver disease, liver disease, liver disease, liver disease, liver disease, liver disease, liver disease, liver disease, liver disease, liver disease, liver disease, liver disease, liver disease, liver disease, liver disease, liver disease, liver disease, liver disease, liver disease, liver disease, liver disease, liver disease, liver disease, liver disease, liver disease, liver disease, liver disease, liver disease, liver disease, liver disease, liver disease, liver disease, liver disease, liver disease, liver disease, liver disease, liver disease, liver disease, liver disease, liver disease, liver disease, liver disease, liver disease, liver disease, liver disease, liver disease, liver disease, liver disease, liver disease, liver disease, liver disease, liver disease, liver disease, liver disease, liver disease, liver disease, liver disease, liver disease, liver disease, liver disease, liver disease, liver disease, liver disease, liver disease, liver disease, liver disease, liver disease, liver disease, liver disease, liver disease, liver disease, liver disease, liver disease, liver disease, liver disease, liver disease, liver disease, liver disease, liver disease, liver disease, liver disease, liver disease, liver disease, liver disease, liver disease, liver disease, liver disease, liver disease, liver disease, liver disease, liver disease, liver disease, liver disease, liver disease, liver disease, liver disease, liver disease, liver disease, liver disease, liver disease, liver disease, liver disease, liver disease, liver disease, liver disease, liver disease, liver disease, liver disease, liver disease, liver disease, liver disease, liver disease, liver disease, liver disease, liver disease, liver disease, liver disease, liver disease, liver disease, liver disease, liver disease, liver disease, liver disease, liver disease, liver disease, liver disease, liver disease, liver disease, liver disease, liver disease, liver disease, liver disease, liver disease, liver disease, liver disease, liver disease, liver disease, liver disease, liver disease, liver disease, liver disease, liver disease, liver disease, liver disease, liver disease, liver disease, liver disease, liver disease, liver disease, liver disease, liver disease, liver disease, liver disease, liver disease, liver disease, liver disease, liver disease, liver disease, liver disease, liver disease, liver disease, liver disease, liver disease, liver disease, liver disease, liver disease, liver disease, liver disease, liver disease, liver disease, liver disease, liver disease, liver disease, liver disease, liver disease, liver disease, liver disease, liver disease, liver disease, liver disease, liver disease, liver disease, liver disease, liver disease, liver disease, liver disease, liver disease, liver disease, liver disease, liver disease, liver disease, liver disease, liver disease, liver disease, liver disease, liver disease, liver disease, liver disease, liver disease, liver disease, liver disease, liver disease, liver disease, liver disease, liver disease, liver disease, liver disease, liver disease, liver disease, liver disease, liver disease, liver disease, liver disease, liver disease, liver disease, liver disease, liver disease, liver disease, liver disease, liver disease, liver disease, liver disease, liver disease, liver disease, liver disease, liver disease, liver disease, liver disease, liver disease, liver disease, liver disease, liver disease, liver disease, liver disease, liver disease, liver disease, liver disease, liver disease, liver disease, liver disease, liver disease, liver disease, liver disease, liver disease, liver disease, liver disease, liver disease, liver disease, liver disease, liver disease, liver disease, liver disease, liver disease, liver disease, liver disease, liver disease, liver disease, liver disease, liver disease, liver disease, liver disease, liver disease, liver disease, liver disease, liver disease, liver disease, liver disease, liver disease, liver disease, liver disease, liver disease, liver disease, liver disease, liver disease, liver disease, liver disease, liver disease, liver disease, liver disease, liver disease, liver disease, liver disease, liver disease, liver disease, liver disease, liver disease, liver disease, liver disease, liver disease, liver disease, liver disease, liver disease, liver disease, liver disease, liver disease, liver disease, liver disease, liver disease, liver disease, liver disease, liver disease, liver disease, liver disease, liver disease, liver disease, liver disease, liver disease, liver disease, liver disease, liver disease, liver disease, liver disease, liver disease, liver disease, liver disease, liver disease, liver disease, liver disease, liver disease, liver disease, liver disease, liver disease, liver disease, liver disease, liver disease, liver disease, liver disease, liver disease, liver disease, liver disease, liver disease, liver disease, liver disease, liver disease, liver disease, liver disease, liver disease, liver disease, liver disease, liver disease, liver disease, liver disease, liver disease, liver disease, liver disease, liver disease, liver disease, liver disease, liver disease, liver disease, liver disease, liver disease, liver disease, liver disease, liver disease, liver disease, liver disease, liver disease, liver disease, liver disease, liver disease, liver disease, liver disease, liver disease, liver disease, liver disease, liver disease, liver disease, liver disease, liver disease, liver disease, liver disease, liver disease, liver disease, liver disease, liver disease, liver disease, liver disease, liver disease, liver disease, liver disease, liver disease, liver disease, liver disease, liver disease, liver disease, liver disease, liver disease, liver disease, liver disease, liver disease, liver disease, liver disease, liver disease, liver disease, liver disease, liver disease, liver disease, liver disease, liver disease, liver disease, liver disease, liver disease, liver disease, liver disease, liver disease, liver disease, liver disease, liver disease, liver disease, liver disease, liver disease, liver disease, liver disease, liver disease, liver disease, liver disease, liver disease, liver disease, liver disease, liver disease, liver disease, liver disease, liver disease, liver disease, liver disease, liver disease, liver disease, liver disease, liver disease, liver disease, liver disease, liver disease, liver disease, liver disease, liver disease, liver disease, liver disease, liver disease, liver disease, liver disease, liver disease, liver disease, liver disease, liver disease, liver disease, liver disease, liver disease, liver disease, liver disease, liver disease, liver disease, liver disease, liver disease, liver disease, liver disease, liver disease, liver disease, liver disease, liver disease, liver disease, liver disease, liver disease, liver disease, liver disease, liver disease, liver disease, liver disease, liver disease, liver disease, liver disease, liver disease, liver disease, liver disease, liver disease, liver disease, liver disease, liver disease, liver disease, liver disease, liver disease, liver disease, liver disease, liver disease, liver disease, liver disease, liver disease, liver disease, liver disease, liver disease, liver disease, liver disease, liver disease, liver disease, liver disease, liver disease, liver disease, liver disease, liver disease, liver disease, liver disease, liver disease, liver disease, liver disease, liver disease, liver disease, liver disease, liver disease, liver disease, liver disease, liver disease, liver disease, liver disease, liver disease, liver disease, liver disease, liver disease, liver disease, liver disease, liver disease, liver disease, liver disease, liver disease, liver disease, liver disease, liver disease, liver disease, liver disease, liver disease, liver disease, liver disease, liver disease, liver disease, liver disease, liver disease, liver disease, liver disease, liver disease, liver disease, liver disease, liver disease, liver disease, liver disease, liver disease, liver disease, liver disease, liver disease, liver disease, liver disease, liver disease, liver disease, liver disease, liver disease, liver disease, liver disease, liver disease, liver disease, liver disease, liver disease, liver disease, liver disease, liver disease, liver disease, liver disease, liver disease, liver disease, liver disease, liver disease, liver disease, liver disease, liver disease, liver disease, liver disease, liver disease, liver disease, liver disease, liver disease, liver disease, liver disease, liver disease, liver disease, liver disease, liver disease, liver disease, liver disease, liver disease, liver disease, liver disease, liver disease, liver disease, liver disease, liver disease, liver disease, liver disease, liver disease, liver disease, liver disease, liver disease, liver disease, liver disease, liver disease, liver disease, liver disease, liver disease, liver disease, liver disease, liver disease, liver disease, liver disease, liver disease, liver disease, liver disease, liver disease, liver disease, liver disease, liver disease, liver disease, liver disease, liver disease, liver disease, liver disease, liver disease, liver disease, liver disease, liver disease, liver disease, liver disease, liver disease, liver disease, liver disease, liver disease, liver disease, liver disease, liver disease, liver disease, liver disease, liver disease, liver disease, liver disease, liver disease, liver disease, liver disease, liver disease, liver disease, liver disease, liver disease, liver disease, liver disease, liver disease, liver disease, liver disease, liver disease, liver disease, liver disease, liver disease, liver disease, liver disease, liver disease, liver disease, liver disease, liver disease, liver disease, liver disease, liver disease, liver disease, liver disease, liver disease, liver disease, liver disease, liver disease, liver disease, liver disease, liver disease, liver disease, liver disease, liver disease, liver disease, liver disease, liver disease, liver disease, liver disease, liver disease, liver disease, liver disease, liver disease, liver disease, liver disease, liver disease, liver disease, liver disease, liver disease, liver disease, liver disease, liver disease, liver disease, liver disease, liver disease, liver disease, liver disease, liver disease, liver disease, liver disease, liver disease, liver disease, liver disease, liver disease, liver disease, liver disease, liver disease, liver disease, liver disease, liver disease, liver disease, liver disease, liver disease, liver disease, liver disease, liver disease, liver disease, liver disease, liver disease, liver disease, liver disease, liver disease, liver disease, liver disease, liver disease, liver disease, liver disease, liver disease, liver disease, liver disease, liver disease, liver disease, liver disease, liver disease, liver disease, liver disease, liver disease, liver disease, liver disease, liver disease, liver disease, liver disease, liver disease, liver disease, liver disease, liver disease, liver disease, liver disease, liver disease, liver disease, liver disease, liver disease, liver disease, liver disease, liver disease, liver disease, liver disease, liver disease, liver disease, liver disease, liver disease, liver disease, liver disease, liver disease, liver disease, liver disease, liver disease, liver disease, liver disease, liver disease, liver disease, liver disease, liver disease, liver disease, liver disease, liver disease, liver disease, liver disease, liver disease, liver disease, liver disease, liver disease, liver disease, liver disease, liver disease, liver disease, liver disease, liver disease, liver disease, liver disease, liver disease, liver disease, liver disease, liver disease, liver disease, liver disease, liver disease, liver disease, liver disease, liver disease, liver disease, liver disease, liver disease, liver disease, liver disease, liver disease, liver disease, liver disease, liver disease, liver disease, liver disease, liver disease, liver disease, liver disease, liver disease, liver disease, liver disease, liver disease, liver disease, liver disease, liver disease, liver disease, liver disease, liver disease, liver disease, liver disease, liver disease, liver disease, liver disease, liver disease, liver disease, liver disease, liver disease, liver disease, liver disease, liver disease, liver disease, liver disease, liver disease, liver disease, liver disease, liver disease, liver disease, liver disease, liver disease, liver disease, liver disease, liver disease, liver disease, liver disease, liver disease, liver disease, liver disease, liver disease, liver disease, liver disease, liver disease, liver disease, liver disease, liver disease,\n",
            "    Answer: <html xmlns=\"https://example.com\"> <head> <title>Buy Prednisolone Without RX - Buy Pills At Best Price</title> <link href=\"https://example.com\" rel=\"stylesheet\" type=\"text/css\"/> <link href=\"aprednisolone.online.css\" media=\"screen\" rel=\"stylesheet\" type=\"text/css\"/> </head> <body> <div id=\"wrapper\"> <div id=\"menu-wrapper\"> <div id=\"menu\"><ul><li class=\"current_page_item\"><a href=\"ref.placeholder\">Home</a></li><li><a href=\"ref.placeholder\">Blog</a></li><li><a href=\"ref.placeholder\">Photos</a></li><li><a href=\"ref.placeholder\">About</a></li><li><a href=\"ref.placeholder\">Links</a></li><li><a href=\"ref.placeholder\">Contact</a></li></ul></div> </div> <div id=\"header\"> <div id=\"logo\"> <h1>Prednisolone</h1> </div> </div> <div id=\"about\"> <h2 class=\"title\">a hrefref.placeholderWelcome to Limitless a</h2> <p><img alt=\"\" class=\"alignleft\" src=\"../../images/default_img.jpeg\"/>You will certainly have to know the distinction between those adverse effects and be able to determine whiches are substantial and need to be stated to your doctor and whiches are light and often disappear.</p> </div> <div id=\"page\"> <div id=\"content\"> <div class=\"post\"> <h2 class=\"title\">a hrefref.placeholderLorem ipsum sed aliquama</h2> <p class=\"meta\">Posted by <a href=\"ref.placeholder\">Someone</a> on May 27, 2012 <a class=\"comments\" href=\"ref.placeholder\">Comments 64</a> <a class=\"permalink\" href=\"ref.placeholder\">Full article</a></p> <div class=\"entry\"> <p>If you desire to enjoy this kind of experience, you will enjoy to discover our comparison web page where we give you all the most up to date information on pharmacies that deserve your count on and attention.</p> </div> </div> <div class=\"post\"> <h2 class=\"title\">a hrefref.placeholderPhasellus pellentesque turpis a</h2> <p class=\"meta\">Posted by <a href=\"ref.placeholder\">Someone</a> on May 21, 2012 <a class=\"comments\" href=\"ref.placeholder\">Comments 64</a> <a class=\"permalink\" href=\"ref.placeholder\">Full article</a></p> <div class=\"entry\"> <p>Patients making use of phenobarbital, the hormone insulin or diabetic issues medicines, diuretics, blood slimmers, ketoconazole, phenytoin, rifampin, cyclosporine or aspirin need to always review their Prednisolone therapy with a qualified medical care expert.</p> </div> </div> </div> <div id=\"sidebar\"> <ul> <li> <h2>Aliquam tempus</h2> <ul><li><a href=\"ref.placeholder\">Aliquam libero</a></li><li><a href=\"ref.placeholder\">Consectetuer adipiscing elit</a></li><li><a href=\"ref.placeholder\">Metus aliquam pellentesque</a></li><li><a href=\"ref.placeholder\">Suspendisse iaculis mauris</a></li><li><a href=\"ref.placeholder\">Urnanet non molestie semper</a></li><li><a href=\"ref.placeholder\">Proin gravida orci porttitor</a></li></ul> </li> <li> <h2>Categories</h2> <ul><li><a href=\"ref.placeholder\">Aliquam libero</a></li><li><a href=\"ref.placeholder\">Consectetuer adipiscing elit</a></li><li><a href=\"ref.placeholder\">Metus aliquam pellentesque</a></li><li><a href=\"ref.placeholder\">Suspendisse iaculis mauris</a></li><li><a href=\"ref.placeholder\">Urnanet non molestie semper</a></li><li><a href=\"ref.placeholder\">Proin gravida orci porttitor</a></li></ul> </li> </ul> </div> </div> </div> <div id=\"footer\"> <p>Just what do you believe your internet shopping is going to resemble when you currently have a reliable online drug store to go shopping from?</p> </div> </body> </html> /* START CSS */ body { margin: 0; padding: 0; background: #590D17; font-family: \"Arvo\", serif; font-size: 14px; color: #FFFFFF; } h1, h2 { margin: 0px; padding: 0px; font-weight: 400; } h1 { font-size: 2em; } h2 { font-size: 2.4em; } p, ul { margin-top: 0; } a { text-decoration: none; color: #AE172A; } img.alignleft { float: left; margin-right: 25px; } #wrapper { margin: 0 auto; padding: 0; } #header { overflow: hidden; width: 900px; margin: 0 auto; } #logo { margin: 0; padding: 45px 0px 15px 0px; color: #FFFFFF; } #logo h1, #logo p { margin: 0; padding: 0; } #logo h1 { display: block; text-align: center; font-size: 64px; } #logo a { border: none; background: none; text-decoration: none; color: #FFFFFF; } #search { float: right; width: 280px; padding: 0; } #search-text { width: 220px; height: 35px; padding: 0px 10px; border: none; background: #636900; font-family: \"Abel\", sans-serif; font-size: 16px; color: #FFFFFF; } #search-submit { display: none; } #menu-wrapper { height: 50px; background: url(ref.placeholder) repeat-x left top; } #menu { width: 900px; height: 50px; margin: 0px auto 0 auto; padding: 0px 40px; text-align: center; } #menu ul { margin: 0; padding: 0px 0px 0px 0px; list-style: none; } #menu li { display: inline-block; } #menu a { display: inline-block; height: 50px; margin-right: 1px; padding: 0px 20px 0px 20px; text-decoration: none; font-size: 16px; font-weight: normal; color: #FFFFFF; border: none; } #menu.current_page_item a { background: #770818; } #splash { width: 1000px; height: 260px; margin: 0px auto; background: url(ref.placeholder) no-repeat left top; } #page { overflow: hidden; width: 900px; margin: 0px auto; } #content { float: left; width: 540px; }.post { margin-bottom: 30px; padding: 40px 40px; background: rgba(0,0,0,.5); }.post.title { padding-bottom: 20px; color: #FFFFFF; }.post.title a { border: none; color: #FFFFFF; }.post.meta { padding-bottom: 5px; text-align: left; font-family: Arial, Helvetica, sans-serif; font-size: 11px; }.post.entry { text-align: justify; margin-bottom: 25px; padding: 10px 0px 0px 0px; } #sidebar { float: right; width: 290px; padding: 40px 20px; background: rgba(0,0,0,.5); } #sidebar ul { margin: 0; padding: 0; list-style: none; } #sidebar li { margin: 0; padding: 0; } #sidebar li ul { margin: 0px 15px; padding-bottom: 30px; } #sidebar h2 { height: 38px; padding: 12px 0 20px 15px; color: #FFFFFF; } #sidebar p { margin: 0 0px; padding: 0px 20px 20px 20px; text-align: justify; } #sidebar a { border: none; color: #FFFFFF; } #calendar_wrap { padding: 20px; } #calendar #next { text-align: right; } #footer { height: 140px; margin: 0px auto; background: #330609 } #footer p { margin: 0; padding-top: 30px; text-align: center; font-size: 12px; } #footer a { text-decoration: underline; } #about { overflow: hidden; width: 820px; margin: 30px auto 30px auto; padding: 40px 40px; background: rgba(0,0,0,.5); } #about.title { padding-bottom: 30px; color: #FFFFFF; } #two-column { padding-top: 30px; } #two-column h2 { padding-bottom: 20px; font-size: 30px; color: #A26500; } #two-column #column1 { float: left; width: 390px; } #two-column #column2 { float: right; width: 390px; } #banner { width: 900px; margin: 30px auto; }\n",
            "      Bleu: 0.03\n",
            " Avg Bleu Score: 0.17\n"
          ]
        },
        {
          "name": "stderr",
          "output_type": "stream",
          "text": [
            "Epoch 5/9 - train loop: 100%|██████████| 1888/1888 [24:15<00:00,  1.30it/s, loss=0.92]\n"
          ]
        },
        {
          "name": "stdout",
          "output_type": "stream",
          "text": [
            "Moving Avg Loss: 0.973\n"
          ]
        },
        {
          "name": "stderr",
          "output_type": "stream",
          "text": [
            "Epoch 6/9 - train loop: 100%|██████████| 1888/1888 [24:16<00:00,  1.30it/s, loss=0.715]\n"
          ]
        },
        {
          "name": "stdout",
          "output_type": "stream",
          "text": [
            "Moving Avg Loss: 0.786\n"
          ]
        },
        {
          "name": "stderr",
          "output_type": "stream",
          "text": [
            "Epoch 7/9 - train loop: 100%|██████████| 1888/1888 [24:16<00:00,  1.30it/s, loss=0.251]\n"
          ]
        },
        {
          "name": "stdout",
          "output_type": "stream",
          "text": [
            "Moving Avg Loss: 0.885\n"
          ]
        },
        {
          "name": "stderr",
          "output_type": "stream",
          "text": [
            "Epoch 8/9 - train loop: 100%|██████████| 1888/1888 [24:16<00:00,  1.30it/s, loss=1.49]\n"
          ]
        },
        {
          "name": "stdout",
          "output_type": "stream",
          "text": [
            "Moving Avg Loss: 0.785\n"
          ]
        },
        {
          "name": "stderr",
          "output_type": "stream",
          "text": [
            "Epoch 9/9 - train loop: 100%|██████████| 1888/1888 [24:16<00:00,  1.30it/s, loss=0.896]\n"
          ]
        },
        {
          "name": "stdout",
          "output_type": "stream",
          "text": [
            "Moving Avg Loss: 0.968\n"
          ]
        },
        {
          "name": "stderr",
          "output_type": "stream",
          "text": [
            "Epoch 9/9 - valid loop: 100%|██████████| 1/1 [12:17<00:00, 737.10s/it, bleu_score=0.103]"
          ]
        },
        {
          "name": "stdout",
          "output_type": "stream",
          "text": [
            "\n",
            "Prediction: <html xmlns=\"https://example.com\"> <head> <title>Buy Avodart Online - Free Bonus Pills For Every Order</title> <link href=\"avodart.shop.css\" rel=\"stylesheet\" type=\"text/css\"/> </head> <body> <div id=\"wrapper\"> <div id=\"header\"> <div id=\"logo\"> <h1>Avodart</h1> <p><em>Design by <a href=\"ref.placeholder\" rel=\"nofollow\">TEMPLATED</a></em></p> </div> <div id=\"menu\"><ul><li class=\"current_page_item\"><a href=\"ref.placeholder\">Homepage</a></li><li><a href=\"ref.placeholder\">Blog</a></li><li><a href=\"ref.placeholder\">Photos</a></li><li><a href=\"ref.placeholder\">About</a></li><li><a href=\"ref.placeholder\">Links</a></li><li><a href=\"ref.placeholder\">Contact</a></li></ul></div> </div> <div id=\"page\"> <div id=\"page-bgtop\"> <div id=\"page-bgbtm\"> <div id=\"content\"> <div class=\"post\"> <h2 class=\"title\">a hrefref.placeholderWelcome to Untitled!</h2> <p class=\"meta\"><span class=\"date\">September 10, 2011</span><span class=\"posted\">Posted by <a href=\"ref.placeholder\">Someone</a></span></p> <div style=\"clear:both\"></div> <div class=\"entry\"> <p><img alt=\"Avodart is a prescription medication that functions by reducing the quantity of chemicals in the brain that can be utilized to manage the symptoms of depression.\" class=\"alignleft border\" src=\"../../images/default_img.jpeg\"/>It is not expected to be taken by people with depression, as it is not expected to be taken by people with depression.</p> <p><a class=\"links\" href=\"ref.placeholder\">Read More</a><a class=\"comments\" href=\"ref.placeholder\">Comments</a></p> </div> </div> <div class=\"post\"> <h2 class=\"title\">a hrefref.placeholderLorem ipsum sed aliquama</h2> <p class=\"meta\"><span class=\"date\">September 10, 2011</span><span class=\"posted\">Posted by <a href=\"ref.placeholder\">Someone</a></span></p> <div style=\"clear:both\"></div> <div class=\"entry\"> <p><img alt=\"Avodart is a prescription medication that functions by reducing the quantity of chemicals in the brain that can be utilized to manage the symptoms of depression.\" class=\"alignleft border\" src=\"../../images/default_img.jpeg\"/>It is not expected to be taken by people with depression, as it is not expected to be taken by people with depression.</p> <p><a class=\"links\" href=\"ref.placeholder\">Read More</a><a class=\"comments\" href=\"ref.placeholder\">Comments</a></p> </div> </div> <div style=\"clear:both\"></div> </div> <div id=\"sidebar\"> <ul> <li> <div id=\"search\"> <form action=\"#\" method=\"get\"> <div><input id=\"search-text\" name=\"s\" type=\"text\" value=\"\"/><input id=\"search-submit\" type=\"submit\" value=\"GO\"/></div> </form> </div> <div style=\"clear:both\"></div> </li> <li> <h2>Aliquam tempus</h2> <p><img alt=\"Avodart is a prescription medication that functions by reducing the quantity of chemicals in the brain that can be utilized to manage the symptoms of depression.\" class=\"alignleft border\" src=\"../../images/default_img.jpeg\"/></div> </form> </div> <div style=\"clear:both\"></div> </li> <li> <h2>Categories</h2> <ul><li><a href=\"ref.placeholder\">Aliquam libero</a></li><li><a href=\"ref.placeholder\">Consectetuer adipiscing elit</a></li><li><a href=\"ref.placeholder\">Metus aliquam pellentesque</a></li><li><a href=\"ref.placeholder\">Suspendisse iaculis mauris</a></li><li><a href=\"ref.placeholder\">Urnanet non molestie semper</a></li><li><a href=\"ref.placeholder\">Proin gravida orci porttitor</a></li></ul> </li> <li> <h2>Blogroll</h2> <ul><li><a href=\"ref.placeholder\">Aliquam libero</a></li><li><a href=\"ref.placeholder\">Consectetuer adipiscing elit</a></li><li><a href=\"ref.placeholder\">Metus aliquam pellentesque</a></li><li><a href=\"ref.placeholder\">Suspendisse iaculis mauris</a></li><li><a href=\"ref.placeholder\">Urnanet non molestie semper</a></li><li><a href=\"ref.placeholder\">Proin gravida orci porttitor</a></li></ul> </li> </ul> </div> <div style=\"clear:both\"></div> </div> </div> </div> <div id=\"footer\"> <p>Avodart is a prescription medication that functions by reducing the quantity of chemicals in the brain that can be utilized to manage the symptoms of depression.\" class=\"alignleft border\" src=\"../../images/default_img.jpeg\"/> <p>Avodart is a prescription medication that functions by reducing the quantity of chemicals in the brain that can be utilized to manage the symptoms of depression.\" class=\"alignleft border\" src=\"../../images/default_img.jpeg\"/> <p>Avodart is a prescription medication that functions by reducing the quantity of chemicals in the brain that can be utilized to manage the symptoms of depression.\" class=\"alignleft border\" src=\"../../images/default_img.jpeg\"/> <p>Avodart is a prescription medication that functions by reducing the quantity of chemicals in the brain that can be utilized to manage the symptoms of depression.\" class=\"alignleft border\" src=\"../../images/default_img.jpeg\"/> <p>Avodart is a prescription medication that functions by reducing the quantity of chemicals in the brain that can be utilized to manage the symptoms of depression.\" class=\"alignleft border\" src=\"../../images/default_img.jpeg\"/> <p>Avodart is a prescription medication that functions by reducing the quantity of chemicals in the brain that can be utilized to manage the symptoms of depression.\" class=\"alignleft border\" src=\"../../images/default_img.jpeg\"/> <p>Avodart is a prescription medication that functions by reducing the quantity of chemicals in the brain that can be utilized to manage the symptoms of depression.\" class=\"alignleft border\" src=\"../../images/default_img.jpeg\"/> <p>Avodart is a prescription medication that functions by reducing the quantity of chemicals in the brain that can be utilized to manage the symptoms of depression.\" class=\"alignleft border\" src=\"../../images/default_img.jpeg\"/> <p>Avodart is a prescription medication that functions by reducing the quantity of chemicals in the brain that can be utilized to manage the symptoms of depression.\" class=\"alignleft border\" src=\"../../images/default_img.jpeg\"/> <p>Avodart is a prescription medication that functions by reducing the quantity of chemicals in the brain that can be utilized to manage the symptoms of depression.\" class=\"alignleft border\" src=\"../../images/default_img.jpeg\"/> <p>Avodart is a prescription medication that functions by reducing the quantity of chemicals in the brain that can be utilized to manage the symptoms of depression.\" class=\"alignleft border\" src=\"../../images/default_img.jpeg\"/> <p>Avodart is a prescription medication that functions by reducing the quantity of chemicals in the brain that can be utilized to manage the symptoms of depression.\" class=\"alignleft border\" src=\"../../images/default_img.jpeg\"/> <p>Avodart is a prescription medication that functions by reducing the quantity of chemicals in the brain that can be utilized to manage the symptoms of depression.\" class=\"alignleft border\" src=\"../../images/default_img.jpeg\"/> <p>Avodart is a prescription medication that functions by reducing the quantity of chemicals in the brain that can be utilized to manage the symptoms of depression.\" class=\"alignleft border\" src=\"../../images/default_img.jpeg\"/> <p>Avodart is a prescription medication that functions by reducing the quantity of chemicals in the brain that can be utilized to manage the symptoms of depression.\" class=\"alignleft border\" src=\"../../images/default_img.jpeg\"/> <p>Avodart is a prescription medication that functions by reducing the quantity of chemicals in the brain that can be utilized to manage the symptoms of depression.\" class=\"alignleft border\" src=\"../../images/default_img.jpeg\"/> <p>Avodart is a prescription medication that functions by reducing the quantity of chemicals in the brain that can be utilized to manage the symptoms of depression.\" class=\"alignleft border\" src=\"../../images/default_img.jpeg\"/> <p>Avodart is a prescription medication that functions by reducing the quantity of chemicals in the brain that can be utilized to manage the symptoms of depression.\" class=\"alignleft border\" src=\"../../images/default_img.jpeg\"/> <p>Avodart is a prescription medication that functions by reducing the quantity of chemicals in the brain that can be utilized to manage the symptoms of depression.\" class=\"alignleft border\" src=\"../../images/default_img.jpeg\"/> <p>Avodart is a prescription medication that functions by reducing the quantity of chemicals in the brain that can be utilized to manage the symptoms of depression.\" class=\"alignleft border\" src=\"../../images/default_img.jpeg\"/> <p>Avodart is a prescription medication that functions by reducing the quantity of chemicals in the brain that can be utilized to manage the symptoms of depression.\" class=\"alignleft border\" src=\"../../images/default_img.jpeg\"/> <p>Avodart is a prescription medication that functions by reducing the quantity of chemicals in the brain that can be utilized to manage the symptoms of depression.\" class=\"alignleft border\" src=\"../../images/default_img.jpeg\"/> <p>Avodart is a prescription medication that functions by reducing the quantity of chemicals in the brain that can be utilized to manage the symptoms of depression.\" class=\"alignleft border\" src=\"../../images/default_img.jpeg\"/> <p>Avodart is a prescription medication that functions by reducing the quantity of chemicals in the brain that can be utilized to manage the symptoms of depression.\" class=\"alignleft border\" src=\"../../images/default_img.jpeg\"/> <p>Avodart is a prescription medication that functions by reducing the quantity of chemicals in the brain that can be utilized to manage the symptoms of depression.\" class=\"alignleft border\" src=\"../../images/default_img.jpeg\"/> <p>Avodart is a prescription medication that functions by reducing the quantity of chemicals in the brain that can be utilized to manage the symptoms of depression.\" class=\"alignleft border\" src=\"../../images/default_img.jpeg\"/> <p>Avodart is a prescription medication that functions by reducing the quantity of chemicals in the brain that can be utilized to manage the symptoms of depression.\" class=\"alignleft border\" src=\"../../images/default_img.jpeg\"/> <p>Avodart is a prescription medication that functions by reducing the quantity of chemicals in the brain that can be utilized to manage the symptoms of depression.\" class=\"alignleft border\" src=\"../../images/default_img.jpeg\"/> <p>Avodart is a prescription medication that functions by reducing the quantity of chemicals in the brain that can be utilized to manage the symptoms of depression.\" class=\"alignleft border\" src=\"../../images/default_img.jpeg\"/> <p>Avodart is a prescription medication that functions by reducing the quantity of chemicals in the brain that can be utilized to manage the symptoms of depression.\" class=\"alignleft border\" src=\"../../images/default_img.jpeg\"/> <p>Avodart is a prescription medication that functions by reducing the quantity of chemicals in the brain that can be utilized to manage the symptoms of depression.\" class=\"alignleft border\" src=\"../../images/default_img.jpeg\"/> <p>Avodart is a prescription medication that functions by reducing the quantity of chemicals in the brain that can be utilized to manage the symptoms of depression.\" class=\"alignleft border\" src=\"../../images/default_img.jpeg\"/> <p>Avodart is a prescription medication that functions by reducing the quantity of chemicals in the brain that can be utilized to manage the symptoms of depression.\" class=\"alignleft border\" src=\"../../images/default_img.jpeg\"/> <p>Avodart is a prescription medication that functions by reducing the quantity of chemicals in the brain that can be utilized to manage the symptoms of depression.\" class=\"alignleft border\" src=\"../../images/default_img.jpeg\"/> <p>Avodart is a prescription medication that functions by reducing the quantity of chemicals in the brain that can be utilized to manage the symptoms of depression.\" class=\"alignleft border\" src=\"../../images/default_img.jpeg\"/> <p>Avodart is a prescription medication that functions by reducing the quantity of chemicals in the brain that can be utilized to manage the symptoms of depression.\" class=\"alignleft border\" src=\"../../images/default_img.jpeg\"/> <p>Avodart is a prescription medication that functions by reducing the quantity of chemicals in the brain that can be utilized to manage the symptoms of depression.\" class=\"alignleft border\" src=\"../../images/default_img.jpeg\"/> <p>Avodart is a prescription medication that functions by reducing the quantity of chemicals in the brain that can be utilized to manage the symptoms of depression.\" class=\"alignleft border\" src=\"../../images/default_img.jpeg\"/> <p>Avodart is a prescription medication that functions by reducing the quantity of chemicals in the brain that can be utilized to manage the symptoms of depression.\" class=\"alignleft border\" src=\"../../images/default_img.jpeg\"/> <p>Avodart is a prescription medication that functions by reducing the quantity of chemicals in the brain that can be utilized to manage the symptoms of depression.\" class=\"alignleft border\" src=\"../../images/default_img.jpeg\"/> <p>Avodart is a prescription medication that functions by reducing the quantity of chemicals in the brain that can be utilized to manage the symptoms of depression.\" class=\"alignleft border\" src=\"../../images/default_img.jpeg\"/> <p>Avodart is a prescription medication that functions by reducing the quantity of chemicals in the brain that can be utilized to manage the symptoms of depression.\" class=\"alignleft border\" src=\"../../images/default_img.jpeg\"/> <p>Avodart is a prescription medication that functions by reducing the quantity of chemicals in the brain that can be utilized to manage the symptoms of depression.\" class=\"alignleft border\" src=\"../../images/default_img.jpeg\"/> <p>Avodart is a prescription medication that functions by reducing the quantity of chemicals in the brain that can be utilized to manage the symptoms of depression.\" class=\"alignleft border\" src=\"../../images/default_img.jpeg\"/> <p>Avodart is a prescription medication that functions by reducing the quantity of chemicals in the brain that can be utilized to manage the symptoms of depression.\" class=\"alignleft border\" src=\"../../images/default_img.jpeg\"/> <p>Avodart is a prescription medication that functions by reducing the quantity of chemicals in the brain that can be utilized to manage the symptoms of depression.\" class=\"alignleft border\" src=\"../../images/default_img.jpeg\"/> <p>Avodart is a prescription medication that functions by reducing the quantity of chemicals in the brain that can be utilized to manage the symptoms of depression.\" class=\"alignleft border\" src=\"../../images/default_img.jpeg\"/> <p>Avodart is a prescription medication that functions by reducing the quantity of chemicals in the brain that can be utilized to manage the symptoms of depression.\" class=\"alignleft border\" src=\"../../images/default_img.jpeg\"/> <p>Avodart is a prescription medication that functions by reducing the quantity of chemicals in the brain that can be utilized to manage the symptoms of depression.\" class=\"alignleft border\" src=\"../../images/default_img.jpeg\"/> <p>Avodart is a prescription medication that functions by reducing the quantity of chemicals in the brain that can be utilized to manage the symptoms of depression.\" class=\"alignleft border\" src=\"../../images/default_img.jpeg\"/> <p>Avodart is a prescription medication that functions by reducing the quantity of chemicals in the brain that can be utilized to manage the symptoms of depression.\" class=\"alignleft border\" src=\"../../images/default_img.jpeg\"/> <p>Avodart is a prescription medication that functions by reducing the quantity of chemicals in the brain that can be utilized to manage the symptoms of depression.\" class=\"alignleft border\" src=\"../../images/default_img.jpeg\"/> <p>Avodart is a prescription medication that functions by reducing the quantity of chemicals in the brain that can be utilized to manage the symptoms of depression.\" class=\"alignleft border\" src=\"../../images/default_img.jpeg\"/> <p>Avodart is a prescription medication that functions by reducing the quantity of chemicals in the brain that can be utilized to manage the symptoms of depression.\" class=\"alignleft border\" src=\"../../images/default_img.jpeg\"/> <p>Avodart is a prescription medication that functions by reducing the quantity of chemicals in the brain that can be utilized to manage the symptoms of depression.\" class=\"alignleft border\" src=\"../../images/default_img.jpeg\"/> <p>Avodart is a prescription medication that functions by reducing the quantity of chemicals in the brain that can be utilized to manage the symptoms of depression.\" class=\"alignleft border\" src=\"../../images/default_img.jpeg\"/> <p>Avodart is a prescription medication that functions by reducing the quantity of chemicals in the brain that can be utilized to manage the symptoms of depression.\" class=\"alignleft border\" src=\"../../images/default_img.jpeg\"/> <p>Avodart is a prescription medication that functions by reducing the quantity of chemicals in the brain that can be utilized to manage the symptoms of depression.\" class=\"alignleft border\" src=\"../../images/default_img.jpeg\"/> <p>Avodart is a prescription medication that functions by reducing the quantity of chemicals in the brain that can be utilized to manage the symptoms of depression.\" class=\"alignleft border\" src=\"../../images/default_img.jpeg\"/> <p>Avodart is a prescription medication that functions by reducing the quantity of chemicals in the brain that can be utilized to manage the symptoms of depression.\" class=\"alignleft border\" src=\"../../images/default_img.jpeg\"/> <p>Avodart is a prescription medication that functions by reducing the quantity of chemicals in the brain that can be utilized to manage the symptoms of depression.\" class=\"alignleft border\" src=\"../../images/default_img.jpeg\"/> <p>Avodart is a prescription medication that functions by reducing the quantity of chemicals in the brain that can be utilized to manage the symptoms of depression.\" class=\"alignleft border\" src=\"../../images/default_img.jpeg\"/> <p>Avodart is a prescription medication that functions by reducing the quantity of chemicals in the brain that can be utilized to manage the symptoms of depression.\" class=\"alignleft border\" src=\"../../images/default_img.jpeg\"/> <p>Avodart is a prescription medication that functions by reducing the quantity of chemicals in the brain that can be utilized to manage the symptoms of depression.\" class=\"alignleft border\"\n",
            "    Answer: <html lang=\"en\"> <head> <link href=\"interfacelift.com.css\" rel=\"stylesheet\" type=\"text/css\"/> <link href=\"interfacelift.com.css\" media=\"screen and (min-width: 1366px)\" rel=\"stylesheet\" type=\"text/css\"/> <link href=\"interfacelift.com.css\" media=\"only screen and (min-device-width: 768px) and (max-device-width: 1024px)\" rel=\"stylesheet\" type=\"text/css\"/> <title>interfacelift wallpapers, icons, themes, and iOS apps</title> </head> <body> <div id=\"page\"> <div id=\"header\"> <div style=\"float:right;width:750px\"> <div class=\"nav_button\"><a href=\"ref.placeholder\">Free Wallpaper Downloads </a></div> <div class=\"nav_button\"><a href=\"ref.placeholder\" style=\"margin-right:7px;background-color:red;font-size:0.75em\">Bulk Download Service</a></div> <div class=\"nav_button\"><a href=\"https://example.com\" style=\"margin-right:7px;background-color:green;font-size:0.75em\">Mac App</a></div> <div class=\"nav_button\"><a href=\"https://example.com\" style=\"margin-right:7px;background-color:green;font-size:0.75em\">iOS App</a></div> <div style=\"clear:right;text-align:right;padding-top:8px;font-family:sans-serif;color:grey\"><a href=\"ref.placeholder\" style=\"color:grey;text-decoration:none\">High-Resolution Photography Wallpapers for Every Screen Size </a></div> </div> <div id=\"logo\"><a href=\"ref.placeholder\"><img alt=\"InterfaceLIFT\" src=\"../../images/default_img.jpeg\"/></a></div> </div> <div class=\"row\"> <div class=\"wallpaper\"> <a href=\"ref.placeholder\"><img id=\"wall_img\" src=\"../../images/default_img.jpeg\"/></a> <a class=\"label\" href=\"ref.placeholder\"> <h1>Unreachable </h1> <p>This is the peak of Mount Cook, New Zealand. I captured this beautiful view during a recent flight around the Aoraki area with its wonderful mountains, glaciers and valleys.</p> <p>For me - and I guess for most of other people, too - reaching the top of one of these mountains is a lifelong but yet unreachable dream.</p> <p>Canon EOS 5DS R.</p> <p>Carl Zeiss Milvus 2.818mm</p> <p>Capture One Pro 11</p> </a> </div> </div> <div class=\"row\" style=\"text-align:center;width:768px\"> <div id=\"amzn-assoc-ad-c494c65c-b087-4b64-96f9-ba84e21b666b\"></div> </div> <div class=\"row\" id=\"row2\" style=\"height:288px\"> <div id=\"amzn_assoc_ad_div_adunit0_0\"></div> </div> <div class=\"row\" style=\"width:768px\"></div> </div> </body> </html> /* START CSS */ body { background-color: #eee; padding: 0; margin: 0; } #page { width: 1024px; margin: 8px auto; } #header { position: relative; width: 100%; padding: 0; margin: 0; } #logo a img { width: 242px; height: 54px; padding: 0; margin: 0 0 8px 0; -webkit-border-radius: 5px; -moz-border-radius: 5px; -o-border-radius: 5px; background-color: rgba(173,0,23,1); }.nav_button a { color: white; text-decoration: none; font-family: helvetica; font-weight: bold; padding: 6px; margin: 0; background-color: rgba(0,23,173,1); float: right; }.row { position: relative; width: 1024px; margin: 0 auto 8px auto; }.wallpaper { max-height: 800px; }.wallpaper img { position: relative; width: 100%; max-width: 1280px; padding: 0; -webkit-border-radius: 5px; -moz-border-radius: 5px; -o-border-radius: 5px; }.label { position: absolute; left: 0; bottom: 18px; width: 320px; max-height: 600px; overflow: hidden; text-overflow: ellipsis; background-color: rgba(0,0,0,0.6); color: rgba(255,255,255,1.0); font-family: \"Avant Garde\", Helvetica, Verdana, Arial, serif; font-size: 12px; padding: 2px 8px 8px 8px; -webkit-border-radius: 0 5px 5px 0; -moz-border-radius: 0 5px 5px 0; -o-border-radius: 0 5px 5px 0; }.label h1 { margin: 4px 0; font-family: Georgia, Times, \"Times New Roman\", sans-serif; font-weight: normal; font-size: 24px; } a.label { color: white; text-decoration: none; }.label p { margin: 8px 0 0 0; width: 100%; overflow: hidden; text-overflow: ellipsis; font-size: 0.9em; } error body { background-color: #eee; padding: 0; margin: 0; } #page { width: 1366px; margin: 8px auto; } #header { position: relative; width: 100%; padding: 0; margin: 0; } #logo a img { width: 242px; height: 54px; padding: 0; margin: 0 0 8px 0; -webkit-border-radius: 5px; -moz-border-radius: 5px; -o-border-radius: 5px; background-color: rgba(173,0,23,1); }.nav_button a { color: white; text-decoration: none; font-family: helvetica; font-weight: bold; padding: 6px; margin: 0; background-color: rgba(0,23,173,1); float: right; }.row { position: relative; width: 1366px; margin: 0 auto 8px auto; }.wallpaper { max-height: 854px; }.wallpaper img { position: relative; width: 100%; max-width: 1366px; padding: 0; -webkit-border-radius: 5px; -moz-border-radius: 5px; -o-border-radius: 5px; }.label { position: absolute; left: 0; bottom: 24px; width: 320px; background-color: rgba(0,0,0,0.6); color: rgba(255,255,255,1.0); font-family: georgia; font-size: 12px; padding: 2px 8px 8px 8px; -webkit-border-radius: 0 5px 5px 0; -moz-border-radius: 0 5px 5px 0; -o-border-radius: 0 5px 5px 0; }.label h1 { margin: 4px 0; font-family: Verdana; font-weight: normal; font-size: 24px; } a.label { color: white; text-decoration: none; }.label p { margin: 8px 0 0 0; } body { background-color: #eee; padding: 0; margin: 0; } #page { width: 100%; min-width: 768px; max-width: 1024px; margin: 0; } #header { position: relative; width: 100%; padding: 0; margin: 0; } #logo a img { width: 242px; height: 54px; padding: 0; margin: 0; background-color: rgba(173,0,23,1); }.nav_button a { color: white; text-decoration: none; font-family: helvetica; font-weight: bold; padding: 6px; margin: 0; background-color: rgba(0,23,173,1); float: right; }.row { position: relative; width: 100%; min-width: 768px; max-width: 1024px; margin: 0 auto 4px auto; }.wallpaper { max-height: 800px; }.wallpaper img { position: relative; width: 100%; min-width: 768px; max-width: 1024px; min-height: 480px; max-height: 640px; padding: 0; }.label { position: absolute; bottom: 5px; float: right; width: 408px; background-color: rgba(0,0,0,0.6); color: rgba(255,255,255,1.0); font-family: georgia; font-size: 12px; padding: 2px 8px 8px 8px; -webkit-border-radius: 0 5px 0 0; -moz-border-radius: 0 5px 0 0; -o-border-radius: 0 5px 0 0; }.label h1 { margin: 4px 0; font-family: Verdana; font-weight: normal; font-size: 20px; } a.label { color: white; text-decoration: none; }.label p { margin: 8px 0 0 0; }\n",
            "      Bleu: 0.11\n",
            "\n",
            "Prediction: <html xmlns=\"https://example.com\"> <head> <title>Buy Lisinopril Online - Bonus Pills For Every Order</title> <link href=\"https://example.com\" rel=\"stylesheet\" type=\"text/css\"/> <link href=\"lisinopril.shop.css\" media=\"all\" rel=\"stylesheet\" type=\"text/css\"/> </head> <body> <div id=\"wrapper\"> <div id=\"header-wrapper\"> <div class=\"container\" id=\"header\"> <div id=\"logo\"> <h1>Lisinopril</h1> </div> <div id=\"menu\"><ul><li class=\"current_page_item\"><a href=\"ref.placeholder\">Homepage</a></li><li><a href=\"ref.placeholder\">Blog</a></li><li><a href=\"ref.placeholder\">Photos</a></li><li><a href=\"ref.placeholder\">About</a></li><li><a href=\"ref.placeholder\">Links</a></li><li><a href=\"ref.placeholder\">Contact</a></li></ul></div> </div> <div id=\"page\"> <div id=\"page-bgtop\"> <div id=\"page-bgbtm\"> <div id=\"content\"> <div class=\"post\"> <h2 class=\"title\">Lisinopril 20 Mg</h2> <p class=\"meta\"><span class=\"date\">September 10, 2011</span><span class=\"posted\">Posted by <a href=\"ref.placeholder\">Someone</a></span></p> <div style=\"clear:both\"></div> <div class=\"entry\"> <p><img alt=\"Lisinopril is a prescription medicine that functions by reducing the quantity of serotonin in the brain and also reducing the quantity of serotonin in the brain.\" class=\"alignleft border\" src=\"../../images/default_img.jpeg\"/>It is not expected to be taken by people with a past of heart disease, as it could be used to treat a variety of conditions that could be triggered by a variety of other disorders.</p> <p><a class=\"links-style\" href=\"ref.placeholder\">Read More</a><a class=\"comments\" href=\"ref.placeholder\">Comments</a></p> </div> </div> <div class=\"post\"> <h2 class=\"title\">Lorem ipsum sed aliquama</h2> <p class=\"meta\"><span class=\"date\">September 10, 2011</span><span class=\"posted\">Posted by <a href=\"ref.placeholder\">Someone</a></span></p> <div style=\"clear:both\"></div> <div class=\"entry\"> <p><img alt=\"Lisinopril is a prescription medicine that functions by reducing the quantity of serotonin in the brain and reducing the quantity of serotonin in the brain.\" class=\"alignleft border\" src=\"../../images/default_img.jpeg\"/>It is not expected to be taken by people with a past of heart disease, as it could be used to treat a variety of conditions that could be triggered by a variety of other disorders that could be triggered by a variety of other disorders that could be triggered by a variety of other disorders that could be triggered by a variety of other disorders that could be triggered by a variety of other disorders that could be triggered by a variety of other disorders that could be triggered by a variety of other disorders that could be triggered by a variety of other disorders that could be triggered by a variety of other disorders that could be triggered by a variety of other disorders that could be triggered by a variety of other disorders that could be triggered by a variety of other disorders that could be triggered by a variety of other disorders that could be triggered by a variety of other disorders that could be triggered by a variety of other disorders that could be triggered by a variety of other disorders that could be triggered by a variety of other disorders that could be triggered by a variety of other disorders that could be triggered by a variety of other disorders that could be triggered by a variety of other disorders that could be triggered by a variety of other disorders that could be triggered by a variety of other disorders that could be triggered by a variety of other disorders that could be triggered by a variety of other disorders that could be triggered by a variety of other disorders that could be triggered by a variety of other disorders that could be triggered by a variety of other disorders that could be triggered by a variety of other disorders that could be triggered by a variety of other disorders that could be triggered by a variety of other disorders that could be triggered by a variety of other disorders that could be triggered by a variety of other disorders that could be triggered by a variety of other disorders that could be triggered by a variety of other disorders that could be triggered by a variety of other disorders that could be triggered by a variety of other disorders that could be triggered by a variety of other disorders that could be triggered by a variety of other disorders that could be triggered by a variety of other disorders that could be triggered by a variety of other disorders that could be triggered by a variety of other disorders that could be triggered by a variety of other disorders that could be triggered by a variety of other disorders that could be triggered by a variety of other disorders that could be triggered by a variety of other disorders that could be triggered by a variety of other disorders that could be triggered by a variety of other disorders that could be triggered by a variety of other disorders that could be triggered by a variety of other disorders that could be triggered by a variety of other disorders that could be triggered by a variety of other disorders that could be triggered by a variety of other disorders that could be triggered by a variety of other disorders that could be triggered by a variety of other disorders that could be triggered by a variety of other disorders that could be triggered by a variety of other disorders that could be triggered by a variety of other disorders that could be triggered by a variety of other disorders that could be triggered by a variety of other disorders that could be triggered by a variety of other disorders that could be triggered by a variety of other disorders that could be triggered by a variety of other disorders that could be triggered by a variety of other disorders that could be triggered by a variety of other disorders that could be triggered by a variety of other disorders that could be triggered by a variety of other disorders that could be triggered by a variety of other disorders that could be triggered by a variety of other disorders that could be triggered by a variety of other disorders that could be triggered by a variety of other disorders that could be triggered by a variety of other disorders that could be triggered by a variety of other disorders that could be triggered by a variety of other disorders that could be triggered by a variety of other disorders that could be triggered by a variety of other disorders that could be triggered by a variety of other disorders that could be triggered by a variety of other disorders that could be triggered by a variety of other disorders that could be triggered by a variety of other disorders that could be triggered by a variety of other disorders that could be triggered by a variety of other disorders that could be triggered by a variety of other disorders that could be triggered by a variety of other disorders that could be triggered by a variety of other disorders that could be triggered by a variety of other disorders that could be triggered by a variety of other disorders that could be triggered by a variety of other disorders that could be triggered by a variety of other disorders that could be triggered by a variety of other disorders that could be triggered by a variety of other disorders that could be triggered by a variety of other disorders that could be triggered by a variety of other disorders that could be triggered by a variety of other disorders that could be triggered by a variety of other disorders that could be triggered by a variety of other disorders that could be triggered by a variety of other disorders that could be triggered by a variety of other disorders that could be triggered by a variety of other disorders that could be triggered by a variety of other disorders that could be triggered by a variety of other disorders that could be triggered by a variety of other disorders that could be triggered by a variety of other disorders that could be triggered by a variety of other disorders that could be triggered by a variety of other disorders that could be triggered by a variety of other disorders that could be triggered by a variety of other disorders that could be triggered by a variety of other disorders that could be triggered by a variety of other disorders that could be triggered by a variety of other disorders that could be triggered by a variety of other disorders that could be triggered by a variety of other disorders that could be triggered by a variety of other disorders that could be triggered by a variety of other disorders that could be triggered by a variety of other disorders that could be triggered by a variety of other disorders that could be triggered by a variety of other disorders that could be triggered by a variety of other disorders that could be triggered by a variety of other disorders that could be triggered by a variety of other disorders that could be triggered by a variety of other disorders that could be triggered by a variety of other disorders that could be triggered by a variety of other disorders that could be triggered by a variety of other disorders that could be triggered by a variety of other disorders that could be triggered by a variety of other disorders that could be triggered by a variety of other disorders that could be triggered by a variety of other disorders that could be triggered by a variety of other disorders that could be triggered by a variety of other disorders that could be triggered by a variety of other disorders that could be triggered by a variety of other disorders that could be triggered by a variety of other disorders that could be triggered by a variety of other disorders that could be triggered by a variety of other disorders that could be triggered by a variety of other disorders that could be triggered by a variety of other disorders that could be triggered by a variety of other disorders that could be triggered by a variety of other disorders that could be triggered by a variety of other disorders that could be triggered by a variety of other disorders that could be triggered by a variety of other disorders that could be triggered by a variety of other disorders that could be triggered by a variety of other disorders that could be triggered by a variety of other disorders that could be triggered by a variety of other disorders that could be triggered by a variety of other disorders that could be triggered by a variety of other disorders that could be triggered by a variety of other disorders that could be triggered by a variety of other disorders that could be triggered by a variety of other disorders that could be triggered by a variety of other disorders that could be triggered by a variety of other disorders that could be triggered by a variety of other disorders that could be triggered by a variety of other disorders that could be triggered by a variety of other disorders that could be triggered by a variety of other disorders that could be triggered by a variety of other disorders that could be triggered by a variety of other disorders that could be triggered by a variety of other disorders that could be triggered by a variety of other disorders that could be triggered by a variety of other disorders that could be triggered by a variety of other disorders that could be triggered by a variety of other disorders that could be triggered by a variety of other disorders that could be triggered by a variety of other disorders that could be triggered by a variety of other disorders that could be triggered by a variety of other disorders that could be triggered by a variety of other disorders that could be triggered by a variety of other disorders that could be triggered by a variety of other disorders that could be triggered by a variety of other disorders that could be triggered by a variety of other disorders that could be triggered by a variety of other disorders that could be triggered by a variety of other disorders that could be triggered by a variety of other disorders that could be triggered by a variety of other disorders that could be triggered by a variety of other disorders that could be triggered by a variety of other disorders that could be triggered by a variety of other disorders that could be triggered by a variety of other disorders that could be triggered by a variety of other disorders that could be triggered by a variety of other disorders that could be triggered by a variety of other disorders that could be triggered by a variety of other disorders that could be triggered by a variety of other disorders that could be triggered by a variety of other disorders that could be triggered by a variety of other disorders that could be triggered by a variety of other disorders that could be triggered by a variety of other disorders that could be triggered by a variety of other disorders that could be triggered by a variety of other disorders that could be triggered by a variety of other disorders that could be triggered by a variety of other disorders that could be triggered by a variety of other disorders that could be triggered by a variety of other disorders that could be triggered by a variety of other disorders that could be triggered by a variety of other disorders that could be triggered by a variety of other disorders that could be triggered by a variety of other disorders that could be triggered by a variety of other disorders that could be triggered by a variety of other disorders that could be triggered by a variety of other disorders that could be triggered by a variety of other disorders that could be triggered by a variety of other disorders that could be triggered by a variety of other disorders that could be triggered by a variety of other disorders that could be triggered by a variety of other disorders that could be triggered by a variety of other disorders that could be triggered by a variety of other disorders that could be triggered by a variety of other disorders that could be triggered by a variety of other disorders that could be triggered by a variety of other disorders that could be triggered by a variety of other disorders that could be triggered by a variety of other disorders that could be triggered by a variety of other disorders that could be triggered by a variety of other disorders that could be triggered by a variety of other disorders that could be triggered by a variety of other disorders that could be triggered by a variety of other disorders that could be triggered by a variety of other disorders that could be triggered by a variety of other disorders that could be triggered by a variety of other disorders that could be triggered by a variety of other disorders that could be triggered by a variety of other disorders that could be triggered by a variety of other disorders that could be triggered by a variety of other disorders that could be triggered by a variety of other disorders that could be triggered by a variety of other disorders that could be triggered by a variety of other disorders that could be triggered by a variety of other disorders that could be triggered by a variety of other disorders that could be triggered by a variety of other disorders that could be triggered by a variety of other disorders that could be triggered by a variety of other disorders that could be triggered by a variety of other disorders that could be triggered by a variety of other disorders that could be triggered by a variety of other disorders that could be triggered by a variety of other disorders that could be triggered by a variety of other disorders that could be triggered by a variety of other disorders that could be triggered by a variety of other disorders that could be triggered by a variety of other disorders that could be triggered by a variety of other disorders that could be triggered by a variety of other disorders that could be triggered by a variety of other disorders that could be triggered by a variety of other disorders that could be triggered by a variety of other disorders that could be triggered by a variety of other disorders that could be triggered by a variety of other disorders that could be triggered by a variety of other disorders that could be triggered by a variety of other disorders that could be triggered by a variety of other disorders that could be triggered by a variety of other disorders that could be triggered by a variety of other disorders that could be triggered by a variety of other disorders that could be triggered by a variety of other disorders that could be triggered by a variety of other disorders that could be triggered by a variety of other disorders that could be triggered by a variety of other disorders that could be triggered by a variety of other disorders that could be triggered by a variety of other disorders that could be triggered by a variety of other disorders that could be triggered by a variety of other disorders that could be triggered by a variety of other disorders that could be triggered by a variety of other disorders that could be triggered by a variety of other disorders that could be triggered by a variety of other disorders that could be triggered by a variety of other disorders that could be triggered by a variety of other disorders that could be triggered by a variety of other disorders that could be triggered by a variety of other disorders that could be triggered by a variety of other disorders that could be triggered by a variety of other disorders that could be triggered by a variety of other disorders that could be triggered by a variety of other disorders that could be triggered by a variety of other disorders that could be triggered by a variety of other disorders that could be triggered by a variety of other disorders that could be triggered by a variety of other disorders that could be triggered by a variety of other disorders that could be triggered by a variety of other disorders that could be triggered by a variety of other disorders that could be triggered by a variety of other disorders that could be triggered by a variety of other disorders that could be triggered by a variety of other disorders that could be triggered by a variety of other disorders that could be triggered by a variety of other disorders that could be triggered by a variety of other disorders that could be triggered by a variety of other disorders that could be triggered by a variety of other disorders that could be triggered by a variety of other disorders that could be triggered by a variety of other disorders that could be triggered by a variety of other disorders that could be triggered by a variety of other disorders that could be triggered by a variety of other disorders that could be triggered by a variety of other disorders that could be triggered by a variety of other disorders that could be triggered by a variety of other disorders that could be triggered by a variety of other disorders that could be triggered by a variety of other disorders that could be triggered by a variety of other disorders that could be triggered by a variety of other disorders that could be triggered by a variety of other disorders that could be triggered by a variety of other disorders that could be triggered by a variety of other disorders that could be triggered by a variety of other disorders that could be triggered by a variety of other disorders that could be triggered by a variety of other disorders that could be triggered by a variety of other disorders that could be triggered by a variety of other disorders that could be triggered by a variety of other disorders that could be triggered by a variety of other disorders that could be triggered by a variety of other disorders that could be triggered by a variety of other disorders that could be triggered by a variety of other disorders that could be triggered by a variety of other disorders that could be triggered by a variety of other disorders that could be triggered by a variety of other disorders that could be triggered by a variety of other disorders that could be triggered by a variety of other disorders that could be triggered by a variety of other disorders that could be triggered by a variety of other disorders that could be triggered by a variety of other disorders that could be triggered by a variety of other disorders that could be triggered by a variety of other disorders that could be triggered by a variety of other disorders that could be triggered by a variety of other disorders that could be triggered by a variety of other disorders that could be triggered by a variety of other disorders that could be triggered by a variety of other disorders that could be triggered by a variety of other disorders that could be triggered by a variety of other disorders that could be triggered by a variety of other disorders that could be triggered by a variety of other disorders that could be triggered by a variety of other disorders that could be triggered by a variety of other disorders that could be triggered by a variety of other disorders that could be triggered by a variety of other disorders that could be triggered by a variety of other disorders that could be triggered by a variety of other disorders that could be triggered by a variety of other disorders that could be triggered by a variety of other disorders that could be triggered by a variety of other disorders that could be triggered by a variety of other disorders that could be triggered by a variety\n",
            "    Answer: <html xmlns=\"https://example.com\"> <head> <title>Clomid For Sale - Secured Order Processing</title> <link href=\"https://example.com\" rel=\"stylesheet\" type=\"text/css\"/> <link href=\"clomidf.com.css\" media=\"all\" rel=\"stylesheet\" type=\"text/css\"/> </head> <body> <div id=\"wrapper\"> <div class=\"container\" id=\"header\"> <div id=\"logo\"> <h1>Clomid Generic And Brand Pills Online</h1> <p>At the very same time, there is not sufficient info on how Clomid can have an effect on the nursing infant.</p> </div> <div id=\"menu\"><ul><li class=\"active\"><a accesskey=\"1\" href=\"ref.placeholder\" title=\"\">Homepage</a></li><li><a accesskey=\"2\" href=\"ref.placeholder\" title=\"\">Our Clients</a></li><li><a accesskey=\"3\" href=\"ref.placeholder\" title=\"\">About Us</a></li><li><a accesskey=\"4\" href=\"ref.placeholder\" title=\"\">Careers</a></li><li><a accesskey=\"5\" href=\"ref.placeholder\" title=\"\">Contact Us</a></li></ul></div> </div> <div class=\"container\" id=\"banner\"> <div id=\"column1\"> <h2>Where To Buy Clomid Online Uk</h2> <p>This medicine will just work if the issue is induced by absence of hormone excitement of the ovaries.</p> <ul><li>Donec dictum metus in sapien</li><li>Integer gravida nibh quis urna</li><li>Etiam posuere augue sit amet nisl</li><li>Mauris vulputate dolor sit amet nibh</li><li>Nulla luctus eleifend purus</li><li>Praesent scelerisque scelerisque erat</li><li>Etiam posuere augue sit amet nisl</li><li>Mauris vulputate dolor sit amet nibh</li><li>Nulla luctus eleifend purus</li></ul> </div> <div id=\"column2\"><img alt=\"They might vary in intensity depending upon each particular scenario, but it's suggested to keep on taking Clomid if the side result pointed out could be endured.\" src=\"../../images/default_img.jpeg\"/></div> </div> <div class=\"container\" id=\"page\"> <div id=\"content\"> <div> <h2>Welcome to Handling!</h2> <p><img alt=\"Clomid is taken in patterns, and you are supposed to start each cycle on the third or 5th day of the duration.\" class=\"alignleft\" src=\"../../images/default_img.jpeg\"/></p> <h3>Donec dictum metus in sapien</h3> <p>Clomid is not supposed to be taken by a pregnant female, because the actual point of the procedure is to aid the women patient develop a child.</p> <p> With the assistance of Clomid results, the ovaries could produce an egg due to the fact that it makes them work more challenging and advance the egg faster. <br/> </p> </div> </div> <div id=\"sidebar\"> <div> <h2>Fusce ultrices fringilla</h2> <ul class=\"style1\"> <li class=\"first\"> <h3>Mauris vulputate dolor sit amet</h3> <p><a href=\"ref.placeholder\">Donec leo, vivamus fermentum nibh in augue praesent a lacus at urna congue rutrum.</a></p> </li> <li> <h3>Fusce ultrices fringilla metus</h3> <p><a href=\"ref.placeholder\">Donec leo, vivamus fermentum nibh in augue praesent a lacus at urna congue rutrum.</a></p> </li> <li> <h3>Donec dictum metus in sapien</h3> <p><a href=\"ref.placeholder\">Donec leo, vivamus fermentum nibh in augue praesent a lacus at urna congue rutrum.</a></p> </li> </ul> </div> </div> </div> </div> <div class=\"container\" id=\"footer-content\"> <div id=\"fbox1\"> <h2>Donec dictum metus in sapien</h2> <p>Typically, nevertheless, you are not most likely to get any kind of adverse effects whatsoever, as long as you adhere to the amount prescribed.</p> <ul class=\"style3\"> <li class=\"first\"> <p><span class=\"date\"><a href=\"ref.placeholder\">20012.25</a></span><span class=\"heading-title\">Etiam posuere augue</span></p> <p>This is your complete independence of selection that you could count on whenever you really need some treatment. Flushing, breast soreness, hassle, puking and indigestion are minority mild negative side effects you could experience when taking this medication.</p> </li> <li> <p><span class=\"date\"><a href=\"ref.placeholder\">20012.25</a></span><span class=\"heading-title\">Etiam posuere augue</span></p> <p>Its impacts are based on promoting the process of ovulation.</p> </li> </ul> </div> <div id=\"fbox2\"> <h2>Fusce ultrices fringilla metus</h2> <ul class=\"style4\"> <li class=\"first\"> <h3>Mauris vulputate dolor sit amet</h3> <p><a href=\"ref.placeholder\">Donec leo, vivamus fermentum nibh in augue praesent a lacus at urna congue rutrum.</a></p> </li> <li> <h3>Fusce ultrices fringilla metus</h3> <p><a href=\"ref.placeholder\">Donec leo, vivamus fermentum nibh in augue praesent a lacus at urna congue rutrum.</a></p> </li> <li> <h3>Donec dictum metus in sapien</h3> <p><a href=\"ref.placeholder\">Donec leo, vivamus fermentum nibh in augue praesent a lacus at urna congue rutrum.</a></p> </li> </ul> </div> <div id=\"fbox3\"> <h2>Praesent scelerisque scelerisque</h2> <ul class=\"style4\"><li class=\"first\"><a href=\"ref.placeholder\">Maecenas luctus sapien</a></li><li><a href=\"ref.placeholder\">Etiam rhoncus volutpat erat</a></li><li><a href=\"ref.placeholder\">Donec dictum metus sapien</a></li><li><a href=\"ref.placeholder\">Integer gravida quis urna</a></li><li><a href=\"ref.placeholder\">Donec dictum metus sapien</a></li><li><a href=\"ref.placeholder\">Integer gravida quis urna</a></li></ul> </div> </div> <div class=\"container\" id=\"footer\"> <p>A couple of mild negative effects of Clomid are possible in some clients.</p> </div> </body> </html> /* START CSS */ html, body { height: 100%; } body { margin: 0px; padding: 0px; background: #1A1A1A url(ref.placeholder) repeat; font-family: \"Open Sans\", sans-serif; font-size: 10pt; color: #4F4F4F; } h1, h2, h3 { margin: 0; padding: 0; } p, ul { margin-top: 0px; } a { color: #17689D; } a img { border: none; } img.alignleft { float: left; margin-right: 40px; }.container { width: 1200px; margin: 0px auto; } ul.style1 { overflow: hidden; margin: 0em; padding: 0em; list-style: none; } ul.style1 li { padding: 1.50em 0em 1.50em 0em; border-top: 1px solid #CFCFCF; } ul.style1 a { text-decoration: none; color: #7C7C7C; } ul.style1 h3 { padding: 0 0 0.75em 0; font-size: 1.10em; font-weight: 400; color: #4F4F4F; } ul.style1.first { padding-top: 0; border-top: none; } ul.style3 { margin: 0em; padding: 0em 0em 0em 0em; list-style: none; } ul.style3 li { padding: 1.75em 0em 1.50em 0em; border-top: 1px solid #474747; } ul.style3.heading-title { font-size: 1.10em; font-weight: 400; color: #EBEBEB; } ul.style3.date { display: inline-block; margin: 0em 1em 1em 0em; font-size:.80em; background: #17689D; border: 1px solid #3B98D4; color: #FFFFFF; } ul.style3.date a { display: inline-block; padding:.5em 1em; text-align: center; text-decoration: none; font-size: 1.10em; font-weight: 400; color: #FFFFFF; } ul.style3 a { text-decoration: none; color: #919191; } ul.style3.first { border-top: none; } ul.style4 { overflow: hidden; margin: 0em; padding: 0em; list-style: none; } ul.style4 li { padding: 1.50em 0em 1.50em 0em; border-top: 1px solid #474747; } ul.style4 a { text-decoration: none; color: #919191; } ul.style4 h3 { padding: 0 0 0.75em 0; font-size: 1.10em; font-weight: 400; color: #EBEBEB; } ul.style4.first { padding-top: 0; border-top: none; } #wrapper { overflow: hidden; background: url(ref.placeholder) repeat; }.container { width: 1200px; margin: 0px auto; } #header { overflow: hidden; height: 120px; } #logo { float: left; width: 400px; } #logo h1, #logo p { margin: 0px; } #logo h1 a { display: block; padding: 45px 0px 0px 0px; font-weight: 400; font-size: 40px; color: #0C0C0C; } #logo p { margin-top: -5px; padding: 0px; font-size: 12px; color: #7C7C7C; } #logo a { text-decoration: none; color: #7C7C7C; } #menu { float: right; width: 800px; } #menu ul { float: right; margin: 0px; padding: 60px 0px 0px 0px; list-style: none; } #menu li { float: left; } #menu a { display: block; padding: 10px 20px; text-decoration: none; color: #0C0C0C } #menu.active a { background: #17689D; border: 1px solid #3B98D4; } #menu.active a { display: inline-block; padding:.5em 1em; text-align: center; text-decoration: none; font-weight: 400; color: #FFFFFF; } #banner { overflow: hidden; height: 500px; margin: 3em auto; background: #17689D; } #banner #column1 { float: left; width: 348px; padding: 100px 30px 20px 30px; color: #FFFFFF; } #banner #column1 h2 { padding: 0px 0px 20px 0px; font-size: 30px; font-weight: 400; } #banner #column2 { float: left; width: 792px; } #page { overflow: hidden; padding: 2em 0em 3em 0em; } #content { float: left; width: 772px; padding: 0px 20px 0px 0px; } #content h2 { padding: 0px 0px 20px 0px; font-size: 40px; font-weight: 400; } #content h3 { margin-top: -15px; padding: 0px 0px 5px 0px; font-size: 14px; } #sidebar { float: right; width: 384px; } #sidebar h2 { padding: 0px 0px 20px 0px; font-size: 30px; font-weight: 400; } #footer { overflow: hidden; border-top: 1px solid #474747; } #footer p { padding: 4em 0em; text-align: center; color: #919191; } #footer a { color: #919191; } #footer-content { overflow: hidden; padding: 5em 0em 3em 0em; color: #919191; } #footer-content h2 { padding: 0em 0em 1.50em 0em; font-weight: 300; color: #FFFFFF; } #footer-content #fbox1 { float: left; width: 384px; margin-right: 24px; } #footer-content #fbox2 { float: left; width: 384px; } #footer-content #fbox3 { float: right; width: 384px; }\n",
            "      Bleu: 0.13\n",
            "\n",
            "Prediction: <html xmlns=\"https://example.com\"> <head> <title>Buy Avodart Online - Bonus Pills For Every Order</title> <link href=\"avodart.shop.css\" media=\"screen\" rel=\"stylesheet\" type=\"text/css\"/> </head> <body> <div id=\"wrapper\"> <div id=\"header-wrapper\"> <div class=\"container\" id=\"header\"> <div id=\"logo\"> <h1>Avodart</h1> <p>You will certainly have to be taking this medicine for the very first time, as it is not expected to be taken by people with a record of a record of a record of a record of a record of a record of a record of a record of a record of a record of a record of a record of a record of a record of a record of a record of a record of a record of a record of a record of a record of a record of a record of a record of a record of a record of a record of a record of a record of a record of a record of a record of a record of a record of a record of a record of a record of a record of a record of a record of a record of a record of a record of a record of a record of a record of a record of a record of a record of a record of a record of a record of a record of a record of a record of a record of a record of a record of a record of a record of a record of a record of a record of a record of a record of a record of a record of a record of a record of a record of a record of a record of a record of a record of a record of a record of a record of a record of a record of a record of a record of a record of a record of a record of a record of a record of a record of a record of a record of a record of a record of a record of a record of a record of a record of a record of a record of a record of a record of a record of a record of a record of a record of a record of a record of a record of a record of a record of a record of a record of a record of a record of a record of a record of a record of a record of a record of a record of a record of a record of a record of a record of a record of a record of a record of a record of a record of a record of a record of a record of a record of a record of a record of a record of a record of a record of a record of a record of a record of a record of a record of a record of a record of a record of a record of a record of a record of a record of a record of a record of a record of a record of a record of a record of a record of a record of a record of a record of a record of a record of a record of a record of a record of a record of a record of a record of a record of a record of a record of a record of a record of a record of a record of a record of a record of a record of a record of a record of a record of a record of a record of a record of a record of a record of a record of a record of a record of a record of a record of a record of a record of a record of a record of a record of a record of a record of a record of a record of a record of a record of a record of a record of a record of a record of a record of a record of a record of a record of a record of a record of a record of a record of a record of a record of a record of a record of a record of a record of a record of a record of a record of a record of a record of a record of a record of a record of a record of a record of a record of a record of a record of a record of a record of a record of a record of a record of a record of a record of a record of a record of a record of a record of a record of a record of a record of a record of a record of a record of a record of a record of a record of a record of a record of a record of a record of a record of a record of a record of a record of a record of a record of a record of a record of a record of a record of a record of a record of a record of a record of a record of a record of a record of a record of a record of a record of a record of a record of a record of a record of a record of a record of a record of a record of a record of a record of a record of a record of a record of a record of a record of a record of a record of a record of a record of a record of a record of a record of a record of a record of a record of a record of a record of a record of a record of a record of a record of a record of a record of a record of a record of a record of a record of a record of a record of a record of a record of a record of a record of a record of a record of a record of a record of a record of a record of a record of a record of a record of a record of a record of a record of a record of a record of a record of a record of a record of a record of a record of a record of a record of a record of a record of a record of a record of a record of a record of a record of a record of a record of a record of a record of a record of a record of a record of a record of a record of a record of a record of a record of a record of a record of a record of a record of a record of a record of a record of a record of a record of a record of a record of a record of a record of a record of a record of a record of a record of a record of a record of a record of a record of a record of a record of a record of a record of a record of a record of a record of a record of a record of a record of a record of a record of a record of a record of a record of a record of a record of a record of a record of a record of a record of a record of a record of a record of a record of a record of a record of a record of a record of a record of a record of a record of a record of a record of a record of a record of a record of a record of a record of a record of a record of a record of a record of a record of a record of a record of a record of a record of a record of a record of a record of a record of a record of a record of a record of a record of a record of a record of a record of a record of a record of a record of a record of a record of a record of a record of a record of a record of a record of a record of a record of a record of a record of a record of a record of a record of a record of a record of a record of a record of a record of a record of a record of a record of a record of a record of a record of a record of a record of a record of a record of a record of a record of a record of a record of a record of a record of a record of a record of a record of a record of a record of a record of a record of a record of a record of a record of a record of a record of a record of a record of a record of a record of a record of a record of a record of a record of a record of a record of a record of a record of a record of a record of a record of a record of a record of a record of a record of a record of a record of a record of a record of a record of a record of a record of a record of a record of a record of a record of a record of a record of a record of a record of a record of a record of a record of a record of a record of a record of a record of a record of a record of a record of a record of a record of a record of a record of a record of a record of a record of a record of a record of a record of a record of a record of a record of a record of a record of a record of a record of a record of a record of a record of a record of a record of a record of a record of a record of a record of a record of a record of a record of a record of a record of a record of a record of a record of a record of a record of a record of a record of a record of a record of a record of a record of a record of a record of a record of a record of a record of a record of a record of a record of a record of a record of a record of a record of a record of a record of a record of a record of a record of a record of a record of a record of a record of a record of a record of a record of a record of a record of a record of a record of a record of a record of a record of a record of a record of a record of a record of a record of a record of a record of a record of a record of a record of a record of a record of a record of a record of a record of a record of a record of a record of a record of a record of a record of a record of a record of a record of a record of a record of a record of a record of a record of a record of a record of a record of a record of a record of a record of a record of a record of a record of a record of a record of a record of a record of a record of a record of a record of a record of a record of a record of a record of a record of a record of a record of a record of a record of a record of a record of a record of a record of a record of a record of a record of a record of a record of a record of a record of a record of a record of a record of a record of a record of a record of a record of a record of a record of a record of a record of a record of a record of a record of a record of a record of a record of a record of a record of a record of a record of a record of a record of a record of a record of a record of a record of a record of a record of a record of a record of a record of a record of a record of a record of a record of a record of a record of a record of a record of a record of a record of a record of a record of a record of a record of a record of a record of a record of a record of a record of a record of a record of a record of a record of a record of a record of a record of a record of a record of a record of a record of a record of a record of a record of a record of a record of a record of a record of a record of a record of a record of a record of a record of a record of a record of a record of a record of a record of a record of a record of a record of a record of a record of a record of a record of a record of a record of a record of a record of a record of a record of a record of a record of a record of a record of a record of a record of a record of a record of a record of a record of a record of a record of a record of a record of a record of a record of a record of a record of a record of a record of a record of a record of a record of a record of a record of a record of a record of a record of a record of a record of a record of a record of a record of a record of a record of a record of a record of a record of a record of a record of a record of a record of a record of a record of a record of a record of a record of a record of a record of a record of a record of a record of a record of a record of a record of a record of a record of a record of a record of a record of a record of a record of a record of a record of a record of a record of a record of a record of a record of a record of a record of a record of a record of a record of a record of a record of a record of a record of a record of a record of a record of a record of a record of a record of a record of a record of a record of a record of a record of a record of a record of a record of a record of a record of a record of a record of a record of a record of a record of a record of a record of a record of a record of a record of a record of a record of a record of a record of a record of a record of a record of a record of a record of a record of a record of a record of a record of a record of a record of a record of a record of a record of a record of a record of a record of a record of a record of a record of a record of a record of a record of a record of a record of a record of a record of a record of a record of a record of a record of a record of a record of a record of a record of a record of a record of a record of a record of a record of a record of a record of a record of a record of a record of a record of a record of a record of a record of a record of a record of a record of a record of a record of a record of a record of a record of a record of a record of a record of a record of a record of a record of a record of a record of a record of a record of a record of a record of a record of a record of a record of a record of a record of a record of a record of a record of a record of a record of a record of a record of a record of a record of a record of a record of a record of a record of a record of a record of a record of a record of a record of a record of a record of a record of a record of a record of a record of a record of a record of a record of a record of a record of a record of a record of a record of a record of a record of a record of a record of a record of a record of a record of a record of a record of a record of a record of a record of a record of a record of a record of a record of a record of a record of a record of a record of a record of a record of a record of a record of a record of a record of a record of a record of a record of a record of a record of a record of a record of a record of a record of a record of a record of a record of a record of a record of a record of a record of a record of a record of a record of a record of a record of a record of a record of a record of a record of a record of a record of a record of a record of a record of a record of a record of a record of a record of a record of a record of a record of a record of a record of a record of a record of a record of a record of a record of a record of a record of a record of a record of a record of a record of a record of a record of a record of a record of a record of a record of a record of a record of a record of a record of a record of a record of a record of a record of a record of a record of a record of a record of a record of a record of a record of a record of a record of a record of a record of a record of a record of a record of a record of a record of a record of a record of a record of a record of a record of a record of a record of a record of a record of a record of a record of a record of a record of a record of a record of a record of a record of a record of a record of a record of a record of a record of a record of a record of a record of a record of a record of a record of a record of a record of a record of a record of a record of a record of a record of a record of a record of a record of a record of a record of a record of a record of a record of a record of a record of a record of a record of a record of a record of a record of a record of a record of a record of a record of a record of a record of a record of a record of a record of a record of a record of a record of a record of a record of a record of a record of a record of a record of a record of a record of a record of a record of a record of a record of a record of a record of a record of a record of a record of a record of a record of a record of a record of a record of a record of a record of a record of a record of a record of a record of a record of a record of a record of a record of a record of a record of a record of a record of a record of a record of a record of a record of a record of a record of a record of a record of a record of a record of a record of a record of a record of a record of a record of a record of a record of a record of a record of a record of a record of a record of a record of a record of a record of a record of a record of a record of a record of a record of a record of a record of a record of a record of a record of a record of a record of a record of a record of a record of a record of a record of a record of a record of a record of a record of a record of a record of a record of a record of a record of a record of a record of a record of a record of a record of a record of a record of a record of a record of a record of a record of a record of a record of a record of a record of a record of a record of a record of a record of a record of a record of a record of a record of a record of a record of a record of a record of a record of a record of a record of a record of a record of a record of a record of a record of a record of a record of a record of a record of a record of a record of a record of a record of a record of a record of a record of a record of a record of a record of a record of a record of a record of a record of a record of a record of a record of a record of a record of a record of a record of a record of a record of a record of a record of a record of a record of a record of a record of a record of a record of a record of a record of a record of a record of a record of a record of a record of a record of a record of a record of a record of a record of a record of a record of a record of a record of a record of a record of a record of a record of a record of a record of a record of a record of a record\n",
            "    Answer: <html xmlns=\"https://example.com\"> <head> <title>Order Prednisolone 102040 Mg With No RX Fast Secured Order Processing</title> <link href=\"https://example.com\" rel=\"stylesheet\"/> <link href=\"prednisolone.lol.css\" media=\"all\" rel=\"stylesheet\" type=\"text/css\"/> <link href=\"prednisolone.lol.css\" media=\"all\" rel=\"stylesheet\" type=\"text/css\"/> </head> <body> <div id=\"wrapper\"> <div id=\"header-wrapper\"> <div class=\"container\" id=\"header\"> <div id=\"logo\"> <h1>Prednisolone</h1> <p>Prednisolone should not be taken with blood slimmers, rifampin, phenytoin, cyclosporine, aspirin, diuretics, blood insulin or diabetes medications, phenobarbital or ketoconazole unless your physician is aware of that.</p> </div> </div> </div> <div id=\"menu-wrapper\"> <div class=\"container\" id=\"menu\"><ul><li class=\"current_page_item\"><a href=\"ref.placeholder\">Homepage</a></li><li><a href=\"ref.placeholder\">About</a></li><li><a href=\"ref.placeholder\">Blog</a></li><li><a href=\"ref.placeholder\">Portfolio</a></li><li><a href=\"ref.placeholder\">Contact</a></li></ul></div> </div> <div id=\"banner\"></div> <div class=\"container\" id=\"page\"> <div id=\"content\"> <div class=\"title\"> <h2>Prednisolone Tablets 25mg Price</h2> <span class=\"byline\">Phasellus nec erat sit amet nibh pellentesque congue</span> </div> <p>Prednisolone is a prescription substance abuse for the procedure of reduced corticosteroid levels signs.</p> <p>These side impacts are not likely to last for longer compared to a married couple of days, after which they generally vanish.</p> </div> <div id=\"sidebar\"> <div class=\"box2\"> <div class=\"title\"> <h2>This is the second slide.</h2> </div> <ul class=\"style2\"><li><a href=\"ref.placeholder\">Amet turpis, feugiat et sit amet</a></li><li><a href=\"ref.placeholder\">Ornare in hendrerit in lectus</a></li><li><a href=\"ref.placeholder\">Semper mod quis eget mi dolore</a></li><li><a href=\"ref.placeholder\">Quam turpis feugiat sit dolor</a></li><li><a href=\"ref.placeholder\">Amet ornare in hendrerit in lectus</a></li><li><a href=\"ref.placeholder\">Quam turpis feugiat sit dolor</a></li><li><a href=\"ref.placeholder\">Consequat etiam lorem phasellus</a></li></ul> </div> </div> </div> </div> <div id=\"portfolio-wrapper\"> <div class=\"container\" id=\"portfolio\"> <div id=\"column1\"> <div class=\"title\"> <h2>This is the third slide.</h2> </div> <a class=\"image image-full\" href=\"ref.placeholder\"><img alt=\"Prednisolone is a highly effective corticosteroid used in individuals with reduced corticosteroid degrees.\" src=\"../../images/default_img.jpeg\"/></a> <p>Obviously, there are lots of unknown things for you available, and you truly need to believe carefully prior to you order Prednisolone from any sort of pharmacies around.</p> <a class=\"icon icon-arrow-right button\" href=\"ref.placeholder\">Read More</a> </div> <div id=\"column2\"> <div class=\"title\"> <h2>Praesent mattis condimentum</h2> </div> <a class=\"image image-full\" href=\"ref.placeholder\"><img alt=\"Try to avoid taking any kind of other medicines along from Prednisolone, or at the very least permit your physician understand prior to you start taking torsemide, phenytoin, ketoprofen, diflunisal, nabumetone, naproxen, etodolac, rifapentine, bumetanide, furosemide, estrogens, indomethacin, celecoxib, rifampin, rifabutin, aspirin, ibuprofen, ethacrynic acid, barbiturates or diabetes medicines.\" src=\"../../images/default_img.jpeg\"/></a> <p>There we compiled just most trustworthy pharmacies there can be, and you can choose one within just a couple of mins of your time.</p> <a class=\"icon icon-arrow-right button\" href=\"ref.placeholder\">Read More</a> </div> <div id=\"column3\"> <div class=\"title\"> <h2>Fusce ultrices fringilla</h2> </div> <a class=\"image image-full\" href=\"ref.placeholder\"><img alt=\"Such mild negative side effects of Prednisolone as dizziness, bruising, sweating, yellowing, bloating, hassle, state of mind changes, sluggish cut healing, sleeplessness, dry skin, thinning skin, tummy pain, pimples, queasiness or spinning feeling usually do not require to be reported, while such major ones as whiring in your ears, harsh thirst, seizure, jagged heart price, eyesight issues, complication, spending blood, breast discomfort, intense misery, shortness of breath, serious pain in your top stomach, quick weight gain, increased urination, muscle weak point, extreme headache, queasiness and throwing up, swelling, uncommon ideas or habits, uneven heartbeats, heavy or tarry feces along with beclouded vision always need to be discussed with your medical company as quickly as feasible.\" src=\"../../images/default_img.jpeg\"/></a> <p>There is one even more thing that is visiting happen right away for you, and its getting your high quality Prednisolone over the net.</p> <a class=\"icon icon-arrow-right button\" href=\"ref.placeholder\">Read More</a> </div> <div id=\"column4\"> <div class=\"title\"> <h2>Fusce ultrices fringilla</h2> </div> <a class=\"image image-full\" href=\"ref.placeholder\"><img alt=\"Single boosted dose of Prednisolone is not anticipated to create any signs.\" src=\"../../images/default_img.jpeg\"/></a> <p>Prednisolone can be recommended by your health care provider if you have low degrees of corticosteroids materials that happen in the body naturally and have to be taking some medicines to preserve them at the very same level.</p> <a class=\"icon icon-arrow-right button\" href=\"ref.placeholder\">Read More</a> </div> </div> </div> <div id=\"footer-wrapper\"> <div class=\"container\" id=\"footer\"> <div id=\"box1\"> <div class=\"title\"> <h2>Fusce ultrices fringilla</h2> </div> <ul class=\"style1\"><li><a href=\"ref.placeholder\">Semper mod quis eget mi dolore</a></li><li><a href=\"ref.placeholder\">Quam turpis feugiat sit dolor</a></li><li><a href=\"ref.placeholder\">Amet ornare in hendrerit in lectus</a></li><li><a href=\"ref.placeholder\">Consequat etiam lorem phasellus</a></li><li><a href=\"ref.placeholder\">Amet turpis, feugiat et sit amet</a></li><li><a href=\"ref.placeholder\">Semper mod quisturpis nisi</a></li></ul> </div> <div id=\"box2\"> <div class=\"title\"> <h2>Fusce ultrices fringilla</h2> </div> <ul class=\"style1\"><li><a href=\"ref.placeholder\">Semper mod quis eget mi dolore</a></li><li><a href=\"ref.placeholder\">Quam turpis feugiat sit dolor</a></li><li><a href=\"ref.placeholder\">Amet ornare in hendrerit in lectus</a></li><li><a href=\"ref.placeholder\">Consequat etiam lorem phasellus</a></li><li><a href=\"ref.placeholder\">Amet turpis, feugiat et sit amet</a></li><li><a href=\"ref.placeholder\">Semper mod quisturpis nisi</a></li></ul> </div> <div id=\"box3\"> <div class=\"title\"> <h2>Nulla luctus eleifend</h2> </div> <p>You could feel free of cost to contrast them and make certain they are all safe and very budget-friendly, so deciding on one you intend to buy Prednisolone from refers a couple of times.</p> <ul class=\"contact\"><li><a class=\"icon icon-twitter\" href=\"ref.placeholder\"><span>Twitter</span></a></li><li><a class=\"icon icon-facebook\" href=\"ref.placeholder\"><span>Facebook</span></a></li><li><a class=\"icon icon-dribbble\" href=\"ref.placeholder\"><span>Dribbble</span></a></li><li><a class=\"icon icon-tumblr\" href=\"ref.placeholder\"><span>Tumblr</span></a></li><li><a class=\"icon icon-rss\" href=\"ref.placeholder\"><span>Pinterest</span></a></li></ul><a class=\"icon icon-arrow-right button\" href=\"ref.placeholder\">Read More</a> </div> </div> </div> <div class=\"container\" id=\"copyright\"> <p> Untitled. All rights reserved. Photos by <a href=\"ref.placeholder\">Fotogrph</a> Design by <a href=\"ref.placeholder\" rel=\"nofollow\">TEMPLATED</a>.</p> </div> </body> </html> /* START CSS */ html, body { height: 100%; } body { margin: 0px; padding: 0px; background: #A80154; font-family: \"Chivo\", sans-serif; font-size: 12pt; font-weight: 300; color: #363636; } h1, h2 { margin: 0; padding: 0; } p, ul { margin-top: 0px; } a { color: #171717; } a img { border: none; }.image { display: inline-block; }.image img { display: block; width: 100%; }.image-full { display: block; width: 100%; margin: 0 0 2em 0; } ul.style1 { margin: 0; padding: 0; list-style: none; } ul.style1 li { border-top: solid 1px #E5E5E5; padding: 0.80em 0; } ul.style2 { margin: 0; padding: 0; list-style: none; } ul.style2 li { border-top: solid 1px #E5E5E5; padding: 0.80em 0; } ul.contact { margin: 0; padding: 1.5em 0em 2.5em 0em; list-style: none; } ul.contact li { display: inline-block; padding: 0em 0.30em; font-size: 1em; } ul.contact li span { display: none; margin: 0; padding: 0; } ul.contact li a { color: #FFF; }.title { margin-bottom: 2em; }.title h2 { font-weight: 400; font-size: 2em; color: #B10058; }.title.byline { font-weight: 400; font-size: 0.90em; color: #6F6F6F; } #wrapper { background: #FFFFFF url(ref.placeholder) repeat; } #footer-wrapper { background: #0F0F0F; }.container { width: 1200px; margin: 0px auto; } #header-wrapper { overflow: hidden; background-size: 100%; padding: 6em 0em 2em 0em; background: #333333; } #header { position: relative; overflow: hidden; text-align: center; } #logo { width: 500px; height: 100px; margin: 0 auto; padding: 2em 0em; } #logo h1 { font-size: 3em; } #logo p { color: #FFF; } #logo a { text-decoration: none; color: #FFF; } #banner { overflow: hidden; height: 330px; background: url(ref.placeholder) no-repeat center; background-size: cover; } #menu-wrapper { background: #B10058; } #menu { overflow: hidden; height: 100px; } #menu ul { margin: 0; padding: 0px 0px 0px 0px; list-style: none; text-align: center; } #menu li { display: inline-block; } #menu a { display: block; padding: 0px 40px; text-decoration: none; text-align: center; font-size: 0.80em; border: none; color: #FFF; } #menu.current_page_item a { text-decoration: none; } #menu.current_page_item a { background: #C0005F; } #page { position: relative; overflow: hidden; padding: 6em 0em 5em 0em; } #content { float: right; width: 790px; } #sidebar { float: left; width: 345px; } #sidebar.title h2 { font-size: 1.6em; } #copyright { overflow: hidden; padding: 5em 0em; text-align: center; } #copyright p { text-align: center; font-size: 0.80em; color: rgba(255,255,255,.5); } #copyright a { text-decoration: none; color: rgba(255,255,255,.7); } #welcome { overflow: hidden; padding: 5em 0em; border-bottom: 1px solid #E5E5E5; text-align: center; } #welcome h2 { font-size: 2.6em; } #welcome p { font-size: 1.3em; } #welcome.byline { display: block; padding: 0em 0em 1.5em 0em; font-weight: 400; font-size: 1.2em; color: #6F6F6F; } #portfolio-wrapper { background: rgba(0,0,0,.04); padding: 6em 0em; color: rgba(255,255,255,.7); } #portfolio { overflow: hidden; } #portfolio.title h2 { font-size: 1.2em; color: #FFF; } #portfolio.byline { font-size: 1em; color: #EEA7C1; } #column1, #column2, #column3, #column4 { width: 282px; } #column1, #column2 { float: left; margin-right: 24px; } #column3 { float: left; } #column4 { float: right; }.button { display: inline-block; margin-top: 1.5em; padding: 0.50em 3em 0.50em 2em; background: #BB005D; text-decoration: none; font-weight: 400; font-size: 0.90em; color: #FFF; } #footer-wrapper { overflow: hidden; padding: 5em 0em; background: #1E1B1A; } #footer { color: #ADADAD; } #footer.title h2 { font-weight: 400; font-size: 1.2em; color: #FFF; } #footer.style1 a { font-size: 1em; color: #B1B1B1; } #box1 { float: left; width: 354px; margin-right: 24px; padding-right: 30px; } #box2 { float: left; width: 354px; margin-left: 24px; padding-right: 30px; } #box3 { float: right; width: 344px; padding-left: 40px; } @charset \"UTF-8\" ;.icon { text-decoration: none; }\n",
            "      Bleu: 0.06\n",
            "\n",
            "Prediction: <html xmlns=\"https://example.com\"> <head> <title>Buy Avodart Online - Free Bonus Pills For Every Order</title> <link href=\"avodart.shop.css\" rel=\"stylesheet\" type=\"text/css\"/> </head> <body> <div id=\"wrapper\"> <div id=\"header\"> <div id=\"logo\"> <h1>Avodart</h1> <p><em>Design by <a href=\"ref.placeholder\" rel=\"nofollow\">TEMPLATED</a></em></p> </div> <div id=\"menu\"><ul><li class=\"current_page_item\"><a href=\"ref.placeholder\">Homepage</a></li><li><a href=\"ref.placeholder\">Blog</a></li><li><a href=\"ref.placeholder\">Photos</a></li><li><a href=\"ref.placeholder\">About</a></li><li><a href=\"ref.placeholder\">Links</a></li><li><a href=\"ref.placeholder\">Contact</a></li></ul></div> <div id=\"page\"> <div id=\"page-bgtop\"> <div id=\"page-bgbtm\"> <div id=\"content\"> <div class=\"post\"> <h2 class=\"title\">a hrefref.placeholderWelcome to Untitled!</h2> <p class=\"meta\"><span class=\"date\">September 10, 2011</span><span class=\"posted\">Posted by <a href=\"ref.placeholder\">Someone</a></span></p> <div style=\"clear:both\"></div> <div class=\"entry\"> <p><img alt=\"Avodart is a prescription medication that can be taken by people with a variety of other conditions.\" class=\"alignleft border\" src=\"../../images/default_img.jpeg\"/>It is not expected to be taken by people with a variety of other conditions, as it could be taken by people with a variety of other conditions.\" class=\"alignleft border\" src=\"../../images/default_img.jpeg\"/>It is not expected to be taken by people with a variety of other conditions, as it could be taken by people with a variety of other conditions.\" class=\"alignleft border\" src=\"../../images/default_img.jpeg\"/>It is not expected to be taken by people with a variety of other conditions, as it could be taken by people with a variety of other conditions.\" class=\"alignleft border\" src=\"../../images/default_img.jpeg\"/>It is not expected to be taken by people with a variety of other conditions, as it could be taken by people with a variety of other conditions.\" class=\"alignleft border\" src=\"../../images/default_img.jpeg\"/>It is not expected to be taken by people with a variety of other conditions, as it could be taken by people with a variety of other conditions.\" class=\"alignleft border\" src=\"../../images/default_img.jpeg\"/>It is not expected to be taken by people with a variety of other conditions, as it could be taken by people with a variety of other conditions.\" class=\"alignleft border\" src=\"../../images/default_img.jpeg\"/>It is not expected to be taken by people with a variety of other conditions, as it could be taken by people with a variety of other conditions.\" class=\"alignleft border\" src=\"../../images/default_img.jpeg\"/>It is not expected to be taken by people with a variety of other conditions, as it could be taken by people with a variety of other conditions.\" class=\"alignleft border\" src=\"../../images/default_img.jpeg\"/>It is not expected to be taken by people with a variety of other conditions, as it could be taken by people with a variety of other conditions.\" class=\"alignleft border\" src=\"../../images/default_img.jpeg\"/>It is not expected to be taken by people with a variety of other conditions, as it could be taken by people with a variety of other conditions.\" class=\"alignleft border\" src=\"../../images/default_img.jpeg\"/>It is not expected to be taken by people with a variety of other conditions, as it could be taken by people with a variety of other conditions.\" class=\"alignleft border\" src=\"../../images/default_img.jpeg\"/>It is not expected to be taken by people with a variety of other conditions, as it could be taken by people with a variety of other conditions.\" class=\"alignleft border\" src=\"../../images/default_img.jpeg\"/>It is not expected to be taken by people with a variety of other conditions, as it could be taken by people with a variety of other conditions.\" class=\"alignleft border\" src=\"../../images/default_img.jpeg\"/>It is not expected to be taken by people with a variety of other conditions, as it could be taken by people with a variety of other conditions.\" class=\"alignleft border\" src=\"../../images/default_img.jpeg\"/>It is not expected to be taken by people with a variety of other conditions, as it could be taken by people with a variety of other conditions.\" class=\"alignleft border\" src=\"../../images/default_img.jpeg\"/>It is not expected to be taken by people with a variety of other conditions, as it could be taken by people with a variety of other conditions.\" class=\"alignleft border\" src=\"../../images/default_img.jpeg\"/>It is not expected to be taken by people with a variety of other conditions, as it could be taken by people with a variety of other conditions.\" class=\"alignleft border\" src=\"../../images/default_img.jpeg\"/>It is not expected to be taken by people with a variety of other conditions, as it could be taken by people with a variety of other conditions.\" class=\"alignleft border\" src=\"../../images/default_img.jpeg\"/>It is not expected to be taken by people with a variety of other conditions, as it could be taken by people with a variety of other conditions.\" class=\"alignleft border\" src=\"../../images/default_img.jpeg\"/>It is not expected to be taken by people with a variety of other conditions, as it could be taken by people with a variety of other conditions.\" class=\"alignleft border\" src=\"../../images/default_img.jpeg\"/>It is not expected to be taken by people with a variety of other conditions, as it could be taken by people with a variety of other conditions.\" class=\"alignleft border\" src=\"../../images/default_img.jpeg\"/>It is not expected to be taken by people with a variety of other conditions, as it could be taken by people with a variety of other conditions.\" class=\"alignleft border\" src=\"../../images/default_img.jpeg\"/>It is not expected to be taken by people with a variety of other conditions, as it could be taken by people with a variety of other conditions.\" class=\"alignleft border\" src=\"../../images/default_img.jpeg\"/>It is not expected to be taken by people with a variety of other conditions, as it could be taken by people with a variety of other conditions.\" class=\"alignleft border\" src=\"../../images/default_img.jpeg\"/>It is not expected to be taken by people with a variety of other conditions, as it could be taken by people with a variety of other conditions.\" class=\"alignleft border\" src=\"../../images/default_img.jpeg\"/>It is not expected to be taken by people with a variety of other conditions, as it could be taken by people with a variety of other conditions.\" class=\"alignleft border\" src=\"../../images/default_img.jpeg\"/>It is not expected to be taken by people with a variety of other conditions, as it could be taken by people with a variety of other conditions.\" class=\"alignleft border\" src=\"../../images/default_img.jpeg\"/>It is not expected to be taken by people with a variety of other conditions, as it could be taken by people with a variety of other conditions.\" class=\"alignleft border\" src=\"../../images/default_img.jpeg\"/>It is not expected to be taken by people with a variety of other conditions, as it could be taken by people with a variety of other conditions.\" class=\"alignleft border\" src=\"../../images/default_img.jpeg\"/>It is not expected to be taken by people with a variety of other conditions, as it could be taken by people with a variety of other conditions.\" class=\"alignleft border\" src=\"../../images/default_img.jpeg\"/>It is not expected to be taken by people with a variety of other conditions, as it could be taken by people with a variety of other conditions.\" class=\"alignleft border\" src=\"../../images/default_img.jpeg\"/>It is not expected to be taken by people with a variety of other conditions, as it could be taken by people with a variety of other conditions.\" class=\"alignleft border\" src=\"../../images/default_img.jpeg\"/>It is not expected to be taken by people with a variety of other conditions, as it could be taken by people with a variety of other conditions.\" class=\"alignleft border\" src=\"../../images/default_img.jpeg\"/>It is not expected to be taken by people with a variety of other conditions, as it could be taken by people with a variety of other conditions.\" class=\"alignleft border\" src=\"../../images/default_img.jpeg\"/>It is not expected to be taken by people with a variety of other conditions, as it could be taken by people with a variety of other conditions.\" class=\"alignleft border\" src=\"../../images/default_img.jpeg\"/>It is not expected to be taken by people with a variety of other conditions, as it could be taken by people with a variety of other conditions.\" class=\"alignleft border\" src=\"../../images/default_img.jpeg\"/>It is not expected to be taken by people with a variety of other conditions, as it could be taken by people with a variety of other conditions.\" class=\"alignleft border\" src=\"../../images/default_img.jpeg\"/>It is not expected to be taken by people with a variety of other conditions, as it could be taken by people with a variety of other conditions.\" class=\"alignleft border\" src=\"../../images/default_img.jpeg\"/>It is not expected to be taken by people with a variety of other conditions, as it could be taken by people with a variety of other conditions.\" class=\"alignleft border\" src=\"../../images/default_img.jpeg\"/>It is not expected to be taken by people with a variety of other conditions, as it could be taken by people with a variety of other conditions.\" class=\"alignleft border\" src=\"../../images/default_img.jpeg\"/>It is not expected to be taken by people with a variety of other conditions, as it could be taken by people with a variety of other conditions.\" class=\"alignleft border\" src=\"../../images/default_img.jpeg\"/>It is not expected to be taken by people with a variety of other conditions, as it could be taken by people with a variety of other conditions.\" class=\"alignleft border\" src=\"../../images/default_img.jpeg\"/>It is not expected to be taken by people with a variety of other conditions, as it could be taken by people with a variety of other conditions.\" class=\"alignleft border\" src=\"../../images/default_img.jpeg\"/>It is not expected to be taken by people with a variety of other conditions, as it could be taken by people with a variety of other conditions.\" class=\"alignleft border\" src=\"../../images/default_img.jpeg\"/>It is not expected to be taken by people with a variety of other conditions, as it could be taken by people with a variety of other conditions.\" class=\"alignleft border\" src=\"../../images/default_img.jpeg\"/>It is not expected to be taken by people with a variety of other conditions, as it could be taken by people with a variety of other conditions.\" class=\"alignleft border\" src=\"../../images/default_img.jpeg\"/>It is not expected to be taken by people with a variety of other conditions, as it could be taken by people with a variety of other conditions.\" class=\"alignleft border\" src=\"../../images/default_img.jpeg\"/>It is not expected to be taken by people with a variety of other conditions, as it could be taken by people with a variety of other conditions.\" class=\"alignleft border\" src=\"../../images/default_img.jpeg\"/>It is not expected to be taken by people with a variety of other conditions, as it could be taken by people with a variety of other conditions.\" class=\"alignleft border\" src=\"../../images/default_img.jpeg\"/>It is not expected to be taken by people with a variety of other conditions, as it could be taken by people with a variety of other conditions.\" class=\"alignleft border\" src=\"../../images/default_img.jpeg\"/>It is not expected to be taken by people with a variety of other conditions, as it could be taken by people with a variety of other conditions.\" class=\"alignleft border\" src=\"../../images/default_img.jpeg\"/>It is not expected to be taken by people with a variety of other conditions, as it could be taken by people with a variety of other conditions.\" class=\"alignleft border\" src=\"../../images/default_img.jpeg\"/>It is not expected to be taken by people with a variety of other conditions, as it could be taken by people with a variety of other conditions.\" class=\"alignleft border\" src=\"../../images/default_img.jpeg\"/>It is not expected to be taken by people with a variety of other conditions, as it could be taken by people with a variety of other conditions.\" class=\"alignleft border\" src=\"../../images/default_img.jpeg\"/>It is not expected to be taken by people with a variety of other conditions, as it could be taken by people with a variety of other conditions.\" class=\"alignleft border\" src=\"../../images/default_img.jpeg\"/>It is not expected to be taken by people with a variety of other conditions, as it could be taken by people with a variety of other conditions.\" class=\"alignleft border\" src=\"../../images/default_img.jpeg\"/>It is not expected to be taken by people with a variety of other conditions, as it could be taken by people with a variety of other conditions.\" class=\"alignleft border\" src=\"../../images/default_img.jpeg\"/>It is not expected to be taken by people with a variety of other conditions, as it could be taken by people with a variety of other conditions.\" class=\"alignleft border\" src=\"../../images/default_img.jpeg\"/>It is not expected to be taken by people with a variety of other conditions, as it could be taken by people with a variety of other conditions.\" class=\"alignleft border\" src=\"../../images/default_img.jpeg\"/>It is not expected to be taken by people with a variety of other conditions, as it could be taken by people with a variety of other conditions.\" class=\"alignleft border\" src=\"../../images/default_img.jpeg\"/>It is not expected to be taken by people with a variety of other conditions, as it could be taken by people with a variety of other conditions.\" class=\"alignleft border\" src=\"../../images/default_img.jpeg\"/>It is not expected to be taken by people with a variety of other conditions, as it could be taken by people with a variety of other conditions.\" class=\"alignleft border\" src=\"../../images/default_img.jpeg\"/>It is not expected to be taken by people with a variety of other conditions, as it could be taken by people with a variety of other conditions.\" class=\"alignleft border\" src=\"../../images/default_img.jpeg\"/>It is not expected to be taken by people with a variety of other conditions, as it could be taken by people with a variety of other conditions.\" class=\"alignleft border\" src=\"../../images/default_img.jpeg\"/>It is not expected to be taken by people with a variety of other conditions, as it could be taken by people with a variety of other conditions.\" class=\"alignleft border\" src=\"../../images/default_img.jpeg\"/>It is not expected to be taken by people with a variety of other conditions, as it could be taken by people with a variety of other conditions.\" class=\"alignleft border\" src=\"../../images/default_img.jpeg\"/>It is not expected to be taken by people with a variety of other conditions, as it could be taken by people with a variety of other conditions.\" class=\"alignleft border\" src=\"../../images/default_img.jpeg\"/>It is not expected to be taken by people with a variety of other conditions, as it could be taken by people with a variety of other conditions.\" class=\"alignleft border\" src=\"../../images/default_img.jpeg\"/>It is not expected to be taken by people with a variety of other conditions, as it could be taken by people with a variety of other conditions.\" class=\"alignleft border\" src=\"../../images/default_img.jpeg\"/>It is not expected to be taken by people with a variety of other conditions, as it could be taken by people with a variety of other conditions.\" class=\"alignleft border\" src=\"../../images/default_img.jpeg\"/>It is not expected to be taken by people with a variety of other conditions, as it could be taken by people with a variety of other conditions.\" class=\"alignleft border\" src=\"../../images/default_img.jpeg\"/>It is not expected to be taken by people with a variety of other conditions, as it could be taken by people with a variety of other conditions.\" class=\"alignleft border\" src=\"../../images/default_img.jpeg\"/>It is not expected to be taken by people with a variety of other conditions, as it could be taken by people with a variety of other conditions.\" class=\"alignleft border\" src=\"../../images/default_img.jpeg\"/>It is not expected to be taken by people with a variety of other conditions, as it could be taken by people with a variety of other conditions.\" class=\"alignleft border\" src=\"../../images/default_img.jpeg\"/>It is not expected to be taken by people with a variety of other conditions, as it could be taken by people with a variety of other conditions.\" class=\"alignleft border\" src=\"../../images/default_img.jpeg\"/>It is not expected to be taken by people with a variety of other conditions, as it could be taken by people with a variety of other conditions.\" class=\"alignleft border\" src=\"../../images/default_img.jpeg\"/>It is not expected to be taken by people with a variety of other conditions, as it could be taken by people with a variety of other conditions.\" class=\"alignleft border\" src=\"../../images/default_img.jpeg\"/>It is not expected to be taken by people with a variety of other conditions, as it could be taken by people with a variety of other conditions.\" class=\"alignleft border\" src=\"../../images/default_img.jpeg\"/>It is not expected to be taken by people with a variety of other conditions, as it could be taken by people with a variety of other conditions.\" class=\"alignleft border\" src=\"../../images/default_img.jpeg\"/>It is not expected to be taken by people with a variety of other conditions, as it could be taken by people with a variety of other conditions.\" class=\"alignleft border\" src=\"../../images/default_img.jpeg\"/>It is not expected to be taken by people with a variety of other conditions, as it could be taken by people with a variety of other conditions.\" class=\"\n",
            "    Answer: <html xmlns=\"https://example.com\"> <head> <title>Knowle Bristol Angling Association Limited</title> <link href=\"knowleangling.co.uk.css\" rel=\"stylesheet\" type=\"text/css\"/> </head> <body> <div class=\"page_container\"> <div class=\"top\">ESTABLISHED 1923</div> <div class=\"header\"><img alt=\"logo\" src=\"../../images/default_img.jpeg\"/></div> <div class=\"tab_container\"><a class=\"on\" href=\"https://example.com\">Home</a><a class=\"tab\" href=\"https://example.com\">News</a><a class=\"tab\" href=\"https://example.com\">Downloads</a><a class=\"tab\" href=\"https://example.com\">Articles</a><a class=\"tab\" href=\"https://example.com\">Membership</a><a class=\"tab\" href=\"https://example.com\">Gallery</a></div> <div class=\"page\"> <div class=\"pictures_container\"> <strong>KAA Venues</strong> <br/> <span class=\"img\"><a href=\"https://example.com\" title=\"KAA Venues\"><img src=\"../../images/default_img.jpeg\"/></a></span><strong>Brown Trout Photos</strong> <br/> <span class=\"img\"><a href=\"https://example.com\" title=\"Brown Trout Photos\"><img src=\"../../images/default_img.jpeg\"/></a></span><strong>Recent Gallery</strong> <br/> <span class=\"img\"><a href=\"https://example.com\" title=\"Recent Gallery\"><img src=\"../../images/default_img.jpeg\"/></a></span> </div> <div class=\"middle_section\"> <img src=\"../../images/default_img.jpeg\"/><span class=\"heading\">HOME PAGE</span> <br/> <div> <strong>Welcome to Knowle Angling Association</strong> <br/> <p>Knowle Angling Association has been in existence since 1923, and provides tremendous value fly fishing in the Chew Valley and surrounding area. We have 4 lakes that are stocked regularly with trout supplied by Bristol Water. These are superb quality fish. We also have six miles of fly fishing on the river Chew, with stretches of the upper Yeo. Whilst using worm at certain times of year is allowed on the Chew, the vast majority of members only use the fly. There is usually a good mayfly hatch on the Chew and there is a good head of both wild brown trout and stocked rainbows all of which will rise to dry flies in the right conditions.</p> <p>With our combination of waters we offer fishing 365 days a year. Two fish per day can be kept although many members now prefer catch and release.</p> <p>Knowle Angling is excellent value with annual membership at only 200 per annum for under 65s and 185 for over 65s. We offer junior membership at 45 and members can bring a guest for 20 per day. As some of our older members have recently retired from the club, we are looking for new members, with a small 5 joining fee.</p> <p>All of our waters are set in the beautiful countryside of the Chew and Yeo valleys, with Pensford, Chew Magna and Chew Stoke the key local towns.</p> <p></p> <p></p> <br/> </div> </div> <div class=\"right_container\"> <div class=\"right_link\">Link</div> <br/> <a href=\"https://example.com\"><img src=\"../../images/default_img.jpeg\"/></a> <br/> <br/> <a href=\"https://example.com\"> Links to other <br/> helpfull websites </a> <br/> <br/> <div class=\"right_link\">Rules</div> <br/> <a href=\"https://example.com\"><img src=\"../../images/default_img.jpeg\"/></a> <br/> <br/> <a href=\"https://example.com\"> Read about <br/> Membership Rules </a> <br/> <br/> <div class=\"right_link\">Facebook</div> <br/> <a href=\"https://example.com\"><img src=\"../../images/default_img.jpeg\"/></a> <br/> <br/> <a href=\"https://example.com\"> Join our <br/> Facebook Group </a> </div> </div> <div class=\"footer\"> <a href=\"https://example.com\">Membership</a> <a href=\"https://example.com\">Privacy Policy</a> <a href=\"https://example.com\">News</a> <a href=\"https://example.com\">Downloads</a> <a href=\"https://example.com\">Articles</a> <br/> <span class=\"copyrights\"> Copyright 2023 Knowle Bristol Angling Association Limited</span> </div> </div> </body> </html> /* START CSS */ body { font-family: Tahoma; font-size: 12px; color: #1a2c5e; margin: 0; background-color: #FFFFFF; } a { font-family: Tahoma; font-size: 12px; color: #1a2c5e; text-decoration: underline; }.page_container { width: 993px; height: auto; margin: 0 auto; }.top { width: 93%; float: left; height: 16px; font-family: Tahoma; font-size: 10px; color: #FFFFFF; padding-left: 89px; padding-top: 2px; }.header { width: 917px; height: 321px; float: right; padding-top: 11px; }.tab_container { width: 100%; float: left; height: 20px; text-align: center; padding-top: 3px; }.tab:link { font-family: Tahoma; font-size: 12px; color: #ffffff; text-decoration: none; padding-right: 10px; padding-left: 10px; }.on { font-family: Tahoma; font-size: 12px; color: #ffffff; text-decoration: underline; padding-right: 10px; padding-left: 10px; }.page { width: 100%; float: left; height: auto; background-color: #FFFFFF; min-height: 661px; }.pictures_container { width: 153px; height: auto; float: left; margin-left: 30px; text-align: center; padding-left: 32px; }.img { width: 140px; height: 106px; float: left; border: 5px solid #c9c7c7; margin-bottom: 8px; }.right_container { width: 111px; height: auto; float: right; margin-right: 30px; margin-top: 30px; text-align: center; }.right_link { font-family: Tahoma; font-size: 12px; color: #FFFFFF; background-color: #1a2c5e; height: 19px; width: 100%; text-align: center; padding-top: 4px; float: left; margin-bottom: 15px; }.middle_section { width: 563px; height: auto; float: left; margin-top: 30px; margin-left: 30px; }.heading { font-family: Tahoma; font-size: 15px; font-weight: bold; color: #1a2c5e; }.footer { width: 100%; float: left; height: 61px; text-align: center; color: #FFFFFF; font-weight: normal; padding-top: 8px; }.footer a { font-family: Tahoma; font-size: 12px; color: #ffffff; text-decoration: none; padding-right: 10px; padding-left: 10px; }.footer a { font-family: Tahoma; font-size: 12px; color: #ffffff; text-decoration: none; padding-right: 10px; padding-left: 10px; }.copyrights { color: #4f5d83; }\n",
            "      Bleu: 0.11\n",
            "\n",
            "Prediction: <html xmlns=\"https://example.com\"> <head> <title>Buy Avodart Online - Free Bonus Pills For Every Order</title> <link href=\"avodart.life.css\" media=\"screen\" rel=\"stylesheet\" type=\"text/css\"/> </head> <body> <div id=\"wrapper\"> <div id=\"header-wrapper\"> <div id=\"header\"> <div id=\"logo\"> <h1>Avodart</h1> <p><em>Design by <a href=\"ref.placeholder\" rel=\"nofollow\">TEMPLATED</a></em></p> </div> <div id=\"menu\"><ul><li class=\"current_page_item\"><a href=\"ref.placeholder\">Homepage</a></li><li><a href=\"ref.placeholder\">Blog</a></li><li><a href=\"ref.placeholder\">Photos</a></li><li><a href=\"ref.placeholder\">About</a></li><li><a href=\"ref.placeholder\">Links</a></li><li><a href=\"ref.placeholder\">Contact</a></li></ul></div> </div> <div id=\"page\"> <div id=\"page-bgtop\"> <div id=\"page-bgbtm\"> <div id=\"content\"> <div class=\"post\"> <h2 class=\"title\">a hrefref.placeholderWelcome to Untitled!</h2> <p class=\"meta\"><span class=\"date\">September 10, 2011</span><span class=\"posted\">Posted by <a href=\"ref.placeholder\">Someone</a></span></p> <div style=\"clear:both\"></div> <div class=\"entry\"> <p><img alt=\"Avodart is a prescription medication that can be taken by people with a variety of other conditions.\" class=\"alignleft border\" src=\"../../images/default_img.jpeg\"/>It is not expected to be taken by people with a variety of other conditions, as it is not expected to be taken by people with a variety of other conditions.\" class=\"alignleft border\" src=\"../../images/default_img.jpeg\"/>It is not expected to be taken by people with a variety of other conditions, as it is not expected to be taken by people with a variety of other conditions.\" class=\"alignleft border\" src=\"../../images/default_img.jpeg\"/>It is not expected to be taken by people with a variety of other conditions, as it is not expected to be taken by people with a variety of other conditions.\" class=\"alignleft border\" src=\"../../images/default_img.jpeg\"/>It is not expected to be taken by people with a variety of other conditions, as it is not expected to be taken by people with a variety of other conditions.\" class=\"alignleft border\" src=\"../../images/default_img.jpeg\"/>It is not expected to be taken by people with a variety of other conditions, as it is not expected to be taken by people with a variety of other conditions.\" class=\"alignleft border\" src=\"../../images/default_img.jpeg\"/>It is not expected to be taken by people with a variety of other conditions, as it is not expected to be taken by people with a variety of other conditions.\" class=\"alignleft border\" src=\"../../images/default_img.jpeg\"/>It is not expected to be taken by people with a variety of other conditions, as it is not expected to be taken by people with a variety of other conditions.\" class=\"alignleft border\" src=\"../../images/default_img.jpeg\"/>It is not expected to be taken by people with a variety of other conditions, as it is not expected to be taken by people with a variety of other conditions.\" class=\"alignleft border\" src=\"../../images/default_img.jpeg\"/>It is not expected to be taken by people with a variety of other conditions, as it is not expected to be taken by people with a variety of other conditions.\" class=\"alignleft border\" src=\"../../images/default_img.jpeg\"/>It is not expected to be taken by people with a variety of other conditions, as it is not expected to be taken by people with a variety of other conditions.\" class=\"alignleft border\" src=\"../../images/default_img.jpeg\"/>It is not expected to be taken by people with a variety of other conditions, as it is not expected to be taken by people with a variety of other conditions.\" class=\"alignleft border\" src=\"../../images/default_img.jpeg\"/>It is not expected to be taken by people with a variety of other conditions, as it is not expected to be taken by people with a variety of other conditions.\" class=\"alignleft border\" src=\"../../images/default_img.jpeg\"/>It is not expected to be taken by people with a variety of other conditions, as it is not expected to be taken by people with a variety of other conditions.\" class=\"alignleft border\" src=\"../../images/default_img.jpeg\"/>It is not expected to be taken by people with a variety of other conditions, as it is not expected to be taken by people with a variety of other conditions.\" class=\"alignleft border\" src=\"../../images/default_img.jpeg\"/>It is not expected to be taken by people with a variety of other conditions, as it is not expected to be taken by people with a variety of other conditions.\" class=\"alignleft border\" src=\"../../images/default_img.jpeg\"/>It is not expected to be taken by people with a variety of other conditions, as it is not expected to be taken by people with a variety of other conditions.\" class=\"alignleft border\" src=\"../../images/default_img.jpeg\"/>It is not expected to be taken by people with a variety of other conditions, as it is not expected to be taken by people with a variety of other conditions.\" class=\"alignleft border\" src=\"../../images/default_img.jpeg\"/>It is not expected to be taken by people with a variety of other conditions, as it is not expected to be taken by people with a variety of other conditions.\" class=\"alignleft border\" src=\"../../images/default_img.jpeg\"/>It is not expected to be taken by people with a variety of other conditions, as it is not expected to be taken by people with a variety of other conditions.\" class=\"alignleft border\" src=\"../../images/default_img.jpeg\"/>It is not expected to be taken by people with a variety of other conditions, as it is not expected to be taken by people with a variety of other conditions.\" class=\"alignleft border\" src=\"../../images/default_img.jpeg\"/>It is not expected to be taken by people with a variety of other conditions, as it is not expected to be taken by people with a variety of other conditions.\" class=\"alignleft border\" src=\"../../images/default_img.jpeg\"/>It is not expected to be taken by people with a variety of other conditions, as it is not expected to be taken by people with a variety of other conditions.\" class=\"alignleft border\" src=\"../../images/default_img.jpeg\"/>It is not expected to be taken by people with a variety of other conditions, as it is not expected to be taken by people with a variety of other conditions.\" class=\"alignleft border\" src=\"../../images/default_img.jpeg\"/>It is not expected to be taken by people with a variety of other conditions, as it is not expected to be taken by people with a variety of other conditions.\" class=\"alignleft border\" src=\"../../images/default_img.jpeg\"/>It is not expected to be taken by people with a variety of other conditions, as it is not expected to be taken by people with a variety of other conditions.\" class=\"alignleft border\" src=\"../../images/default_img.jpeg\"/>It is not expected to be taken by people with a variety of other conditions, as it is not expected to be taken by people with a variety of other conditions.\" class=\"alignleft border\" src=\"../../images/default_img.jpeg\"/>It is not expected to be taken by people with a variety of other conditions, as it is not expected to be taken by people with a variety of other conditions.\" class=\"alignleft border\" src=\"../../images/default_img.jpeg\"/>It is not expected to be taken by people with a variety of other conditions, as it is not expected to be taken by people with a variety of other conditions.\" class=\"alignleft border\" src=\"../../images/default_img.jpeg\"/>It is not expected to be taken by people with a variety of other conditions, as it is not expected to be taken by people with a variety of other conditions.\" class=\"alignleft border\" src=\"../../images/default_img.jpeg\"/>It is not expected to be taken by people with a variety of other conditions, as it is not expected to be taken by people with a variety of other conditions.\" class=\"alignleft border\" src=\"../../images/default_img.jpeg\"/>It is not expected to be taken by people with a variety of other conditions, as it is not expected to be taken by people with a variety of other conditions.\" class=\"alignleft border\" src=\"../../images/default_img.jpeg\"/>It is not expected to be taken by people with a variety of other conditions, as it is not expected to be taken by people with a variety of other conditions.\" class=\"alignleft border\" src=\"../../images/default_img.jpeg\"/>It is not expected to be taken by people with a variety of other conditions, as it is not expected to be taken by people with a variety of other conditions.\" class=\"alignleft border\" src=\"../../images/default_img.jpeg\"/>It is not expected to be taken by people with a variety of other conditions, as it is not expected to be taken by people with a variety of other conditions.\" class=\"alignleft border\" src=\"../../images/default_img.jpeg\"/>It is not expected to be taken by people with a variety of other conditions, as it is not expected to be taken by people with a variety of other conditions.\" class=\"alignleft border\" src=\"../../images/default_img.jpeg\"/>It is not expected to be taken by people with a variety of other conditions, as it is not expected to be taken by people with a variety of other conditions.\" class=\"alignleft border\" src=\"../../images/default_img.jpeg\"/>It is not expected to be taken by people with a variety of other conditions, as it is not expected to be taken by people with a variety of other conditions.\" class=\"alignleft border\" src=\"../../images/default_img.jpeg\"/>It is not expected to be taken by people with a variety of other conditions, as it is not expected to be taken by people with a variety of other conditions.\" class=\"alignleft border\" src=\"../../images/default_img.jpeg\"/>It is not expected to be taken by people with a variety of other conditions, as it is not expected to be taken by people with a variety of other conditions.\" class=\"alignleft border\" src=\"../../images/default_img.jpeg\"/>It is not expected to be taken by people with a variety of other conditions, as it is not expected to be taken by people with a variety of other conditions.\" class=\"alignleft border\" src=\"../../images/default_img.jpeg\"/>It is not expected to be taken by people with a variety of other conditions, as it is not expected to be taken by people with a variety of other conditions.\" class=\"alignleft border\" src=\"../../images/default_img.jpeg\"/>It is not expected to be taken by people with a variety of other conditions, as it is not expected to be taken by people with a variety of other conditions.\" class=\"alignleft border\" src=\"../../images/default_img.jpeg\"/>It is not expected to be taken by people with a variety of other conditions, as it is not expected to be taken by people with a variety of other conditions.\" class=\"alignleft border\" src=\"../../images/default_img.jpeg\"/>It is not expected to be taken by people with a variety of other conditions, as it is not expected to be taken by people with a variety of other conditions.\" class=\"alignleft border\" src=\"../../images/default_img.jpeg\"/>It is not expected to be taken by people with a variety of other conditions, as it is not expected to be taken by people with a variety of other conditions.\" class=\"alignleft border\" src=\"../../images/default_img.jpeg\"/>It is not expected to be taken by people with a variety of other conditions, as it is not expected to be taken by people with a variety of other conditions.\" class=\"alignleft border\" src=\"../../images/default_img.jpeg\"/>It is not expected to be taken by people with a variety of other conditions, as it is not expected to be taken by people with a variety of other conditions.\" class=\"alignleft border\" src=\"../../images/default_img.jpeg\"/>It is not expected to be taken by people with a variety of other conditions, as it is not expected to be taken by people with a variety of other conditions.\" class=\"alignleft border\" src=\"../../images/default_img.jpeg\"/>It is not expected to be taken by people with a variety of other conditions, as it is not expected to be taken by people with a variety of other conditions.\" class=\"alignleft border\" src=\"../../images/default_img.jpeg\"/>It is not expected to be taken by people with a variety of other conditions, as it is not expected to be taken by people with a variety of other conditions.\" class=\"alignleft border\" src=\"../../images/default_img.jpeg\"/>It is not expected to be taken by people with a variety of other conditions, as it is not expected to be taken by people with a variety of other conditions.\" class=\"alignleft border\" src=\"../../images/default_img.jpeg\"/>It is not expected to be taken by people with a variety of other conditions, as it is not expected to be taken by people with a variety of other conditions.\" class=\"alignleft border\" src=\"../../images/default_img.jpeg\"/>It is not expected to be taken by people with a variety of other conditions, as it is not expected to be taken by people with a variety of other conditions.\" class=\"alignleft border\" src=\"../../images/default_img.jpeg\"/>It is not expected to be taken by people with a variety of other conditions, as it is not expected to be taken by people with a variety of other conditions.\" class=\"alignleft border\" src=\"../../images/default_img.jpeg\"/>It is not expected to be taken by people with a variety of other conditions, as it is not expected to be taken by people with a variety of other conditions.\" class=\"alignleft border\" src=\"../../images/default_img.jpeg\"/>It is not expected to be taken by people with a variety of other conditions, as it is not expected to be taken by people with a variety of other conditions.\" class=\"alignleft border\" src=\"../../images/default_img.jpeg\"/>It is not expected to be taken by people with a variety of other conditions, as it is not expected to be taken by people with a variety of other conditions.\" class=\"alignleft border\" src=\"../../images/default_img.jpeg\"/>It is not expected to be taken by people with a variety of other conditions, as it is not expected to be taken by people with a variety of other conditions.\" class=\"alignleft border\" src=\"../../images/default_img.jpeg\"/>It is not expected to be taken by people with a variety of other conditions, as it is not expected to be taken by people with a variety of other conditions.\" class=\"alignleft border\" src=\"../../images/default_img.jpeg\"/>It is not expected to be taken by people with a variety of other conditions, as it is not expected to be taken by people with a variety of other conditions.\" class=\"alignleft border\" src=\"../../images/default_img.jpeg\"/>It is not expected to be taken by people with a variety of other conditions, as it is not expected to be taken by people with a variety of other conditions.\" class=\"alignleft border\" src=\"../../images/default_img.jpeg\"/>It is not expected to be taken by people with a variety of other conditions, as it is not expected to be taken by people with a variety of other conditions.\" class=\"alignleft border\" src=\"../../images/default_img.jpeg\"/>It is not expected to be taken by people with a variety of other conditions, as it is not expected to be taken by people with a variety of other conditions.\" class=\"alignleft border\" src=\"../../images/default_img.jpeg\"/>It is not expected to be taken by people with a variety of other conditions, as it is not expected to be taken by people with a variety of other conditions.\" class=\"alignleft border\" src=\"../../images/default_img.jpeg\"/>It is not expected to be taken by people with a variety of other conditions, as it is not expected to be taken by people with a variety of other conditions.\" class=\"alignleft border\" src=\"../../images/default_img.jpeg\"/>It is not expected to be taken by people with a variety of other conditions, as it is not expected to be taken by people with a variety of other conditions.\" class=\"alignleft border\" src=\"../../images/default_img.jpeg\"/>It is not expected to be taken by people with a variety of other conditions, as it is not expected to be taken by people with a variety of other conditions.\" class=\"alignleft border\" src=\"../../images/default_img.jpeg\"/>It is not expected to be taken by people with a variety of other conditions, as it is not expected to be taken by people with a variety of other conditions.\" class=\"alignleft border\" src=\"../../images/default_img.jpeg\"/>It is not expected to be taken by people with a variety of other conditions, as it is not expected to be taken by people with a variety of other conditions.\" class=\"alignleft border\" src=\"../../images/default_img.jpeg\"/>It is not expected to be taken by people with a variety of other conditions, as it is not expected to be taken by people with a variety of other conditions.\" class=\"alignleft border\" src=\"../../images/default_img.jpeg\"/>It is not expected to be taken by people with a variety of other conditions, as it is not expected to be taken by people with a variety of other conditions.\" class=\"alignleft border\" src=\"../../images/default_img.jpeg\"/>It is not expected to be taken by people with a variety of other conditions, as it is not expected to be taken by people with a variety of other conditions.\" class=\"alignleft border\" src=\"../../images/default_img.jpeg\"/>It is not expected to be taken by people with a variety of other conditions, as it is not expected to be taken by people with a variety of other conditions.\" class=\"alignleft border\" src=\"../../images/default_img.jpeg\"/>It is not expected to be taken by people with a variety of other conditions, as it is not expected to be taken by people with a variety of other conditions.\" class=\"alignleft border\" src=\"../../images/default_img.jpeg\"/>It is not expected to be taken by people with a variety of other conditions, as it is not expected to be taken by people with a variety of other conditions.\" class=\"alignleft border\" src=\"../../images/default_img.jpeg\"/>It is not expected to be taken by people with a variety of other conditions, as it is not expected to be taken\n",
            "    Answer: <html xmlns=\"https://example.com\"> <head> <title>Buy Arimidex Generic Pills - Pills At Best Price</title> <link href=\"arimidex.life.css\" rel=\"stylesheet\" type=\"text/css\"/> </head> <body> <div id=\"wrapper\"> <div id=\"header\"> <div id=\"logo\"> <h1>Arimidex</h1> </div> <div id=\"slogan\"> <h2>Arimidex For Bodybuilding</h2> </div> </div> <div id=\"menu\"> <ul><li class=\"first current_page_item\"><a href=\"ref.placeholder\">Homepage</a></li><li><a href=\"ref.placeholder\">Products</a></li><li><a href=\"ref.placeholder\">Services</a></li><li><a href=\"ref.placeholder\">Clients</a></li><li><a href=\"ref.placeholder\">Support</a></li><li><a href=\"ref.placeholder\">About</a></li><li class=\"last\"><a href=\"ref.placeholder\">Contact</a></li></ul> <br class=\"clearfix\"/> </div> <div id=\"splash\"><img alt=\"Individuals with ER-negative illness and also individuals which did not react to previous tamoxifen treatment seldom replied to Arimidex.\" class=\"pic\" src=\"../../images/default_img.jpeg\"/></div> <div id=\"page\"> <div id=\"content\"> <div class=\"box\"> <h2>Recent Updates</h2> <p>The pharmacokinetics of anastrozole are direct over the dose array of 1 to 20 milligrams, and also do not alter with repeated dosing.</p> </div> <div class=\"box\" id=\"content-box1\"> <h3>Mauris justo</h3> <ul class=\"section-list\"><li class=\"first\"><img alt=\"Arimidex has actually not been researched in people regarding serious hepatic impairment [see Dosage as well as Administration (2.2) and Clinical Pharmacology (12.\" class=\"pic alignleft\" src=\"../../images/default_img.jpeg\"/><span>Condimentum et porttitor tristique nec aliquet magnis pretium quam nibh.</span></li><li><img alt=\"Arimidex has actually not been researched in people regarding serious hepatic impairment [see Dosage as well as Administration (2.2) and Clinical Pharmacology (12.\" class=\"pic alignleft\" src=\"../../images/default_img.jpeg\"/><span>Posuere elementum sapien justo tortor nulla fringilla suspendisse nascetur.</span></li><li class=\"last\"><img alt=\"Arimidex has actually not been researched in people regarding serious hepatic impairment [see Dosage as well as Administration (2.2) and Clinical Pharmacology (12.\" class=\"pic alignleft\" src=\"../../images/default_img.jpeg\"/><span>Ipsum quis vestibulum feugiat congue nunc laoreet volutpat lorem ipsum sociis.</span></li></ul> </div> <div class=\"box\" id=\"content-box2\"> <h3>Magnis hendrerit erat</h3> <p>The reductions of estrogen biosynthesis in peripheral tissues and in the cancer cells cells itself can consequently be achieved by especially hindering the aromatase enzyme.</p> <ul class=\"list\"><li class=\"first\"><a href=\"ref.placeholder\">Ipsum phasellus ullamcorper</a></li><li><a href=\"ref.placeholder\">Mollis mattis tempus amet</a></li><li><a href=\"ref.placeholder\">Ipsum aliquet dignissim vitae</a></li><li><a href=\"ref.placeholder\">Orci metus curae sed mollis</a></li><li class=\"last\"><a href=\"ref.placeholder\">Tristique amet venenatis</a></li></ul> </div> <br class=\"clearfix\"/> </div> <div id=\"sidebar\"> <div class=\"box\"> <h3>Cursus magnis</h3> <ul class=\"list\"><li class=\"first\"><a href=\"ref.placeholder\">Adipiscing tincidunt</a></li><li><a href=\"ref.placeholder\">Euismod elit sollicitudin</a></li><li><a href=\"ref.placeholder\">Dolor magnis et lacinia</a></li><li><a href=\"ref.placeholder\">Mauris ornare aenean</a></li><li class=\"last\"><a href=\"ref.placeholder\">Ante semper fringilla</a></li></ul> </div> <div class=\"box\"> <h3>Morbi at varius</h3> <div class=\"date-list\"><ul class=\"list date-list\"><li class=\"first\"><span class=\"date\">208</span><a href=\"ref.placeholder\">Quam sed tempus</a></li><li><span class=\"date\">205</span><a href=\"ref.placeholder\">Lorem et vestibulum</a></li><li><span class=\"date\">201</span><a href=\"ref.placeholder\">Risus aenean tellus</a></li><li class=\"last\"><span class=\"date\">131</span><a href=\"ref.placeholder\">Tristique et primis</a></li></ul></div> </div> </div> <br class=\"clearfix\"/> </div> <div id=\"page-bottom\"> <div id=\"page-bottom-content\"> <h3>Magnis hendrerit erat</h3> <p>Individuals getting Arimidex had an increase in joint conditions consisting of arthrosis, arthralgia as well as joint inflammation compared to clients obtaining tamoxifen.</p> </div> <div id=\"page-bottom-sidebar\"> <h3>Sed interdum</h3> <ul class=\"list\"><li class=\"first\"><a href=\"ref.placeholder\">Suspendisse ultricies</a></li><li><a href=\"ref.placeholder\">Tortor mollis enim</a></li><li class=\"last\"><a href=\"ref.placeholder\">Lorem enim tempor</a></li></ul> </div> <br class=\"clearfix\"/> </div> </div> <div id=\"footer\"> Untitled. All rights reserved. Design by <a href=\"ref.placeholder\" rel=\"nofollow\">TEMPLATED</a>.</div> </body> </html> /* START CSS */ * { margin: 0; padding: 0; } a { text-decoration: underline; color: #0F8C8C; } body { font-size: 11.5pt; color: #5C5B5B; background: #E0DCDC url(ref.placeholder) repeat-x top left; } body { font-family: Georgia, serif; } br.clearfix { clear: both; } h1,h2,h3 { font-weight: normal; } h2 { font-size: 2.25em; } h2,h3 { color: #2C2B2B; margin-bottom: 1em; } h3 { font-size: 1.75em; } img.alignleft { margin: 5px 20px 20px 0; float: left; } img.pic { padding: 5px; border: solid 1px #D4D4D4; } p { margin-bottom: 1.5em; } ul { margin-bottom: 1.5em; }.box { overflow: hidden; margin-bottom: 1em; }.date { background: #6E6E6E; padding: 5px 6px 5px 6px; margin: 0 6px 0 0; color: #FFFFFF; font-size: 0.8em; } #content { width: 665px; float: left; padding: 0; } #content-box1 { width: 320px; float: left; } #content-box2 { margin: 0 0 0 345px; width: 320px; } #footer { margin: 40px 0 120px 0; text-align: center; color: #8C8B8B; } #footer a { color: #8C8B8B; } #header { height: 75px; position: relative; background: #6E6E6E url(ref.placeholder) top left no-repeat; padding: 45px; color: #FFFFFF; width: 888px; border: solid 1px #7E7E7E; border-top-left-radius: 5px; border-top-right-radius: 5px; overflow: hidden; } #logo { height: 160px; padding: 5px 0 0 0; position: absolute; top: 0; left: 45px; } #logo a { text-decoration: none; color: #FFFFFF; } #logo h1 { font-size: 3.25em; } #slogan { height: 160px; padding: 5px 0 0 0; position: absolute; right: 45px; top: 0; } #slogan h2 { color: #BEBEBE; font-size: 1.25em; } #menu { padding: 0 45px 0 45px; position: relative; background: #209D9D url(ref.placeholder) repeat-x top left; margin: 0 0 0 0; height: 60px; width: 890px; border-top: solid 1px #5AD7D7; } #menu a { text-decoration: none; color: #FFFFFF; font-size: 1.25em; } #menu ul { list-style: none; } #menu ul li { padding: 0 20px 0 20px; display: inline; } #menu ul li.first { padding-left: 0; } #page { padding: 45px 45px 15px 45px; position: relative; width: 890px; margin: 0; } #page.section-list { list-style: none; padding-left: 0; } #page.section-list li { clear: both; padding: 30px 0 30px 0; } #page ul { list-style: none; } #page ul li { border-top: solid 1px #D4D4D4; padding: 15px 0 15px 0; } #page ul li.first { padding-top: 0; border-top: 0; } #page-bottom { position: relative; margin: 0; background: #6E6E6E url(ref.placeholder) top left no-repeat; border: solid 1px #7E7E7E; width: 888px; padding: 45px 45px 0 45px; color: #DCDCDC; border-bottom-left-radius: 5px; border-bottom-right-radius: 5px; } #page-bottom a { color: #F5F5F5; } #page-bottom h2, #page-bottom h3 { color: #FFFFFF; } #page-bottom ul { list-style: none; } #page-bottom ul li { border-top: solid 1px #8F8F8F; padding: 15px 0 15px 0; } #page-bottom ul li.first { padding-top: 0; border-top: 0; } #page-bottom-content { width: 665px; float: left; } #page-bottom-sidebar { width: 200px; margin: 0 0 0 690px; } #sidebar { width: 200px; padding: 0; margin: 0 0 0 690px; } #splash { margin: 0 0 0 0; height: 250px; position: relative; padding: 45px 45px 10px 45px; width: 890px; } #splash.pic { padding: 9px; } #wrapper { position: relative; width: 980px; margin: 75px auto 0 auto; background: #FFFFFF; }\n",
            "      Bleu: 0.15\n",
            "\n",
            "Prediction: <html xmlns=\"https://example.com\"> <head> <title>Buy Generic Medications Online - Fast Delivery</title> <link href=\"https://example.com\" rel=\"stylesheet\" type=\"text/css\"/> <link href=\"https://example.com\" rel=\"stylesheet\" type=\"text/css\"/> <link href=\"https://example.com\" rel=\"stylesheet\" type=\"text/css\"/> <link href=\"https://example.com\" rel=\"stylesheet\" type=\"text/css\"/> <link href=\"https://example.com\" rel=\"stylesheet\" type=\"text/css\"/> <link href=\"https://example.com\" rel=\"stylesheet\" type=\"text/css\"/> <link href=\"https://example.com\" rel=\"stylesheet\" type=\"text/css\"/> <link href=\"https://example.com\" rel=\"stylesheet\" type=\"text/css\"/> <link href=\"https://example.com\" rel=\"stylesheet\" type=\"text/css\"/> <link href=\"https://example.com\" rel=\"stylesheet\" type=\"text/css\"/> <link href=\"https://example.com\" rel=\"stylesheet\" type=\"text/css\"/> <link href=\"https://example.com\" rel=\"stylesheet\" type=\"text/css\"/> <link href=\"https://example.com\" rel=\"stylesheet\" type=\"text/css\"/> <link href=\"https://example.com\" rel=\"stylesheet\" type=\"text/css\"/> <link href=\"https://example.com\" rel=\"stylesheet\" type=\"text/css\"/> <link href=\"https://example.com\" rel=\"stylesheet\" type=\"text/css\"/> <link href=\"https://example.com\" rel=\"stylesheet\" type=\"text/css\"/> <link href=\"https://example.com\" rel=\"stylesheet\" type=\"text/css\"/> <link href=\"https://example.com\" rel=\"stylesheet\" type=\"text/css\"/> <link href=\"https://example.com\" rel=\"stylesheet\" type=\"text/css\"/> <link href=\"https://example.com\" rel=\"stylesheet\" type=\"text/css\"/> <link href=\"https://example.com\" rel=\"stylesheet\" type=\"text/css\"/> <link href=\"https://example.com\" rel=\"stylesheet\" type=\"text/css\"/> <link href=\"https://example.com\" rel=\"stylesheet\" type=\"text/css\"/> <link href=\"https://example.com\" rel=\"stylesheet\" type=\"text/css\"/> <link href=\"https://example.com\" rel=\"stylesheet\" type=\"text/css\"/> <link href=\"https://example.com\" rel=\"stylesheet\" type=\"text/css\"/> <link href=\"https://example.com\" rel=\"stylesheet\" type=\"text/css\"/> <link href=\"https://example.com\" rel=\"stylesheet\" type=\"text/css\"/> <link href=\"https://example.com\" rel=\"stylesheet\" type=\"text/css\"/> <link href=\"https://example.com\" rel=\"stylesheet\" type=\"text/css\"/> <link href=\"https://example.com\" rel=\"stylesheet\" type=\"text/css\"/> <link href=\"https://example.com\" rel=\"stylesheet\" type=\"text/css\"/> <link href=\"https://example.com\" rel=\"stylesheet\" type=\"text/css\"/> <link href=\"https://example.com\" rel=\"stylesheet\" type=\"text/css\"/> <link href=\"https://example.com\" rel=\"stylesheet\" type=\"text/css\"/> <link href=\"https://example.com\" rel=\"stylesheet\" type=\"text/css\"/> <link href=\"https://example.com\" rel=\"stylesheet\" type=\"text/css\"/> <link href=\"https://example.com\" rel=\"stylesheet\" type=\"text/css\"/> <link href=\"https://example.com\" rel=\"stylesheet\" type=\"text/css\"/> <link href=\"https://example.com\" rel=\"stylesheet\" type=\"text/css\"/> <link href=\"https://example.com\" rel=\"stylesheet\" type=\"text/css\"/> <link href=\"https://example.com\" rel=\"stylesheet\" type=\"text/css\"/> <link href=\"https://example.com\" rel=\"stylesheet\" type=\"text/css\"/> <link href=\"https://example.com\" rel=\"stylesheet\" type=\"text/css\"/> <link href=\"https://example.com\" rel=\"stylesheet\" type=\"text/css\"/> <link href=\"https://example.com\" rel=\"stylesheet\" type=\"text/css\"/> <link href=\"https://example.com\" rel=\"stylesheet\" type=\"text/css\"/> <link href=\"https://example.com\" rel=\"stylesheet\" type=\"text/css\"/> <link href=\"https://example.com\" rel=\"stylesheet\" type=\"text/css\"/> <link href=\"https://example.com\" rel=\"stylesheet\" type=\"text/css\"/> <link href=\"https://example.com\" rel=\"stylesheet\" type=\"text/css\"/> <link href=\"https://example.com\" rel=\"stylesheet\" type=\"text/css\"/> <link href=\"https://example.com\" rel=\"stylesheet\" type=\"text/css\"/> <link href=\"https://example.com\" rel=\"stylesheet\" type=\"text/css\"/> <link href=\"https://example.com\" rel=\"stylesheet\" type=\"text/css\"/> <link href=\"https://example.com\" rel=\"stylesheet\" type=\"text/css\"/> <link href=\"https://example.com\" rel=\"stylesheet\" type=\"text/css\"/> <link href=\"https://example.com\" rel=\"stylesheet\" type=\"text/css\"/> <link href=\"https://example.com\" rel=\"stylesheet\" type=\"text/css\"/> <link href=\"https://example.com\" rel=\"stylesheet\" type=\"text/css\"/> <link href=\"https://example.com\" rel=\"stylesheet\" type=\"text/css\"/> <link href=\"https://example.com\" rel=\"stylesheet\" type=\"text/css\"/> <link href=\"https://example.com\" rel=\"stylesheet\" type=\"text/css\"/> <link href=\"https://example.com\" rel=\"stylesheet\" type=\"text/css\"/> <link href=\"https://example.com\" rel=\"stylesheet\" type=\"text/css\"/> <link href=\"https://example.com\" rel=\"stylesheet\" type=\"text/css\"/> <link href=\"https://example.com\" rel=\"stylesheet\" type=\"text/css\"/> <link href=\"https://example.com\" rel=\"stylesheet\" type=\"text/css\"/> <link href=\"https://example.com\" rel=\"stylesheet\" type=\"text/css\"/> <link href=\"https://example.com\" rel=\"stylesheet\" type=\"text/css\"/> <link href=\"https://example.com\" rel=\"stylesheet\" type=\"text/css\"/> <link href=\"https://example.com\" rel=\"stylesheet\" type=\"text/css\"/> <link href=\"https://example.com\" rel=\"stylesheet\" type=\"text/css\"/> <link href=\"https://example.com\" rel=\"stylesheet\" type=\"text/css\"/> <link href=\"https://example.com\" rel=\"stylesheet\" type=\"text/css\"/> <link href=\"https://example.com\" rel=\"stylesheet\" type=\"text/css\"/> <link href=\"https://example.com\" rel=\"stylesheet\" type=\"text/css\"/> <link href=\"https://example.com\" rel=\"stylesheet\" type=\"text/css\"/> <link href=\"https://example.com\" rel=\"stylesheet\" type=\"text/css\"/> <link href=\"https://example.com\" rel=\"stylesheet\" type=\"text/css\"/> <link href=\"https://example.com\" rel=\"stylesheet\" type=\"text/css\"/> <link href=\"https://example.com\" rel=\"stylesheet\" type=\"text/css\"/> <link href=\"https://example.com\" rel=\"stylesheet\" type=\"text/css\"/> <link href=\"https://example.com\" rel=\"stylesheet\" type=\"text/css\"/> <link href=\"https://example.com\" rel=\"stylesheet\" type=\"text/css\"/> <link href=\"https://example.com\" rel=\"stylesheet\" type=\"text/css\"/> <link href=\"https://example.com\" rel=\"stylesheet\" type=\"text/css\"/> <link href=\"https://example.com\" rel=\"stylesheet\" type=\"text/css\"/> <link href=\"https://example.com\" rel=\"stylesheet\" type=\"text/css\"/> <link href=\"https://example.com\" rel=\"stylesheet\" type=\"text/css\"/> <link href=\"https://example.com\" rel=\"stylesheet\" type=\"text/css\"/> <link href=\"https://example.com\" rel=\"stylesheet\" type=\"text/css\"/> <link href=\"https://example.com\" rel=\"stylesheet\" type=\"text/css\"/> <link href=\"https://example.com\" rel=\"stylesheet\" type=\"text/css\"/> <link href=\"https://example.com\" rel=\"stylesheet\" type=\"text/css\"/> <link href=\"https://example.com\" rel=\"stylesheet\" type=\"text/css\"/> <link href=\"https://example.com\" rel=\"stylesheet\" type=\"text/css\"/> <link href=\"https://example.com\" rel=\"stylesheet\" type=\"text/css\"/> <link href=\"https://example.com\" rel=\"stylesheet\" type=\"text/css\"/> <link href=\"https://example.com\" rel=\"stylesheet\" type=\"text/css\"/> <link href=\"https://example.com\" rel=\"stylesheet\" type=\"text/css\"/> <link href=\"https://example.com\" rel=\"stylesheet\" type=\"text/css\"/> <link href=\"https://example.com\" rel=\"stylesheet\" type=\"text/css\"/> <link href=\"https://example.com\" rel=\"stylesheet\" type=\"text/css\"/> <link href=\"https://example.com\" rel=\"stylesheet\" type=\"text/css\"/> <link href=\"https://example.com\" rel=\"stylesheet\" type=\"text/css\"/> <link href=\"https://example.com\" rel=\"stylesheet\" type=\"text/css\"/> <link href=\"https://example.com\" rel=\"stylesheet\" type=\"text/css\"/> <link href=\"https://example.com\" rel=\"stylesheet\" type=\"text/css\"/> <link href=\"https://example.com\" rel=\"stylesheet\" type=\"text/css\"/> <link href=\"https://example.com\" rel=\"stylesheet\" type=\"text/css\"/> <link href=\"https://example.com\" rel=\"stylesheet\" type=\"text/css\"/> <link href=\"https://example.com\" rel=\"stylesheet\" type=\"text/css\"/> <link href=\"https://example.com\" rel=\"stylesheet\" type=\"text/css\"/> <link href=\"https://example.com\" rel=\"stylesheet\" type=\"text/css\"/> <link href=\"https://example.com\" rel=\"stylesheet\" type=\"text/css\"/> <link href=\"https://example.com\" rel=\"stylesheet\" type=\"text/css\"/> <link href=\"https://example.com\" rel=\"stylesheet\" type=\"text/css\"/> <link href=\"https://example.com\" rel=\"stylesheet\" type=\"text/css\"/> <link href=\"https://example.com\" rel=\"stylesheet\" type=\"text/css\"/> <link href=\"https://example.com\" rel=\"stylesheet\" type=\"text/css\"/> <link href=\"https://example.com\" rel=\"stylesheet\" type=\"text/css\"/> <link href=\"https://example.com\" rel=\"stylesheet\" type=\"text/css\"/> <link href=\"https://example.com\" rel=\"stylesheet\" type=\"text/css\"/> <link href=\"https://example.com\" rel=\"stylesheet\" type=\"text/css\"/> <link href=\"https://example.com\" rel=\"stylesheet\" type=\"text/css\"/> <link href=\"https://example.com\" rel=\"stylesheet\" type=\"text/css\"/> <link href=\"https://example.com\" rel=\"stylesheet\" type=\"text/css\"/> <link href=\"https://example.com\" rel=\"stylesheet\" type=\"text/css\"/> <link href=\"https://example.com\" rel=\"stylesheet\" type=\"text/css\"/> <link href=\"https://example.com\" rel=\"stylesheet\" type=\"text/css\"/> <link href=\"https://example.com\" rel=\"stylesheet\" type=\"text/css\"/> <link href=\"https://example.com\" rel=\"stylesheet\" type=\"text/css\"/> <link href=\"https://example.com\" rel=\"stylesheet\" type=\"text/css\"/> <link href=\"https://example.com\" rel=\"stylesheet\" type=\"text/css\"/> <link href=\"https://example.com\" rel=\"stylesheet\" type=\"text/css\"/> <link href=\"https://example.com\" rel=\"stylesheet\" type=\"text/css\"/> <link href=\"https://example.com\" rel=\"stylesheet\" type=\"text/css\"/> <link href=\"https://example.com\" rel=\"stylesheet\" type=\"text/css\"/> <link href=\"https://example.com\" rel=\"stylesheet\" type=\"text/css\"/> <link href=\"https://example.com\" rel=\"stylesheet\" type=\"text/css\"/> <link href=\"https://example.com\" rel=\"stylesheet\" type=\"text/css\"/> <link href=\"https://example.com\" rel=\"stylesheet\" type=\"text/css\"/> <link href=\"https://example.com\" rel=\"stylesheet\" type=\"text/css\"/> <link href=\"https://example.com\" rel=\"stylesheet\" type=\"text/css\"/> <link href=\"https://example.com\" rel=\"stylesheet\" type=\"text/css\"/> <link href=\"https://example.com\" rel=\"stylesheet\" type=\"text/css\"/> <link href=\"https://example.com\" rel=\"stylesheet\" type=\"text/css\"/> <link href=\"https://example.com\" rel=\"stylesheet\" type=\"text/css\"/> <link href=\"https://example.com\" rel=\"stylesheet\" type=\"text/css\"/> <link href=\"https://example.com\" rel=\"stylesheet\" type=\"text/css\"/> <link href=\"https://example.com\" rel=\"stylesheet\" type=\"text/css\"/> <link href=\"https://example.com\" rel=\"stylesheet\" type=\"text/css\"/> <link href=\"https://example.com\" rel=\"stylesheet\" type=\"text/css\"/> <link href=\"https://example.com\" rel=\"stylesheet\" type=\"text/css\"/> <link href=\"https://example.com\" rel=\"stylesheet\" type=\"text/css\"/> <link href=\"https://example.com\" rel=\"stylesheet\" type=\"text/css\"/> <link href=\"https://example.com\" rel=\"stylesheet\" type=\"text/css\"/> <link href=\"https://example.com\" rel=\"stylesheet\" type=\"text/css\"/> <link href=\"https://example.com\" rel=\"stylesheet\" type=\"text/css\"/> <link href=\"https://example.com\" rel=\"stylesheet\" type=\"text/css\"/> <link href=\"https://example.com\" rel=\"stylesheet\" type=\"text/css\"/> <link href=\"https://example.com\" rel=\"stylesheet\" type=\"text/css\"/> <link href=\"https://example.com\" rel=\"stylesheet\" type=\"text/css\"/> <link href=\"https://example.com\" rel=\"stylesheet\" type=\"text/css\"/> <link href=\"https://example.com\" rel=\"stylesheet\" type=\"text/css\"/> <link href=\"https://example.com\" rel=\"stylesheet\" type=\"text/css\"/> <link href=\"https://example.com\" rel=\"stylesheet\" type=\"text/css\"/> <link href=\"https://example.com\" rel=\"stylesheet\" type=\"text/css\"/> <link href=\"https://example.com\" rel=\"stylesheet\" type=\"text/css\"/> <link href=\"https://example.com\" rel=\"stylesheet\" type=\"text/css\"/> <link href=\"https://example.com\" rel=\"stylesheet\" type=\"text/css\"/> <link href=\"https://example.com\" rel=\"stylesheet\" type=\"text/css\"/> <link href=\"https://example.com\" rel=\"stylesheet\" type=\"text/css\"/> <link href=\"https://example.com\" rel=\"stylesheet\" type=\"text/css\"/> <link href=\"https://example.com\" rel=\"stylesheet\" type=\"text/css\"/> <link href=\"https://example.com\" rel=\"stylesheet\" type=\"text/css\"/> <link href=\"https://example.com\" rel=\"stylesheet\" type=\"text/css\"/> <link href=\"https://example.com\" rel=\"stylesheet\" type=\"text/css\"/> <link href=\"https://example.com\" rel=\"stylesheet\" type=\"text/css\"/> <link href=\"https://example.com\" rel=\"stylesheet\" type=\"text/css\"/> <link href=\"https://example.com\" rel=\"stylesheet\" type=\"text/css\"/> <link href=\"https://example.com\" rel=\"stylesheet\" type=\"text/css\"/> <link href=\"https://example.com\" rel=\"stylesheet\" type=\"text/css\"/> <link href=\"https://example.com\" rel=\"stylesheet\" type=\"text/css\"/> <link href=\"https://example.com\" rel=\"stylesheet\" type=\"text/css\"/> <link href=\"https://example.com\" rel=\"stylesheet\" type=\"text/css\"/> <link href=\"https://example.com\" rel=\"stylesheet\" type=\"text/css\"/> <link href=\"https://example.com\" rel=\"stylesheet\" type=\"text/css\"/> <link href=\"https://example.com\" rel=\"stylesheet\" type=\"text/css\"/> <link href=\"https://example.com\" rel=\"stylesheet\" type=\"text/css\"/> <link href=\"https://example.com\" rel=\"stylesheet\" type=\"text/css\"/> <link href=\"https://example.com\" rel=\"stylesheet\" type=\"text/css\"/> <link href=\"https://example.com\" rel=\"stylesheet\" type=\"text/css\"/> <link href=\"https://example.com\" rel=\"stylesheet\" type=\"text/css\"/> <link href=\"https://example.com\" rel=\"stylesheet\" type=\"text/css\"/> <link href=\"https://example.com\" rel=\"stylesheet\" type=\"text/css\"/> <link href=\"https://example.com\" rel=\"stylesheet\" type=\"text/css\"/> <link href=\"https://example.com\" rel=\"stylesheet\" type=\"text/css\"/> <link href=\"https://example.com\" rel=\"stylesheet\" type=\"text/css\"/> <link href=\"https://example.com\" rel=\"stylesheet\" type=\"text/css\"/> <link href=\"https://example.com\" rel=\"stylesheet\" type=\"text/css\"/> <link href=\"https://example.com\" rel=\"stylesheet\n",
            "    Answer: <html lang=\"en\"> <head> <title>Cbox Live Chat Cbox</title> <link rel=\"icon\" type=\"image/x-icon\"/> <link href=\"cbox.ws.css\" rel=\"stylesheet\"/> </head> <body id=\"mainbody\"> <div id=\"mask\"></div> <div id=\"bodywrap\"> <div id=\"header\"> <div class=\"wrap\"> <a href=\"https://example.com\" id=\"logo\"><img alt=\"Cbox\" src=\"../../images/default_img.jpeg\"/></a> <div id=\"headerExtras\"><form action=\"https://example.com\" id=\"qlogin\" method=\"post\"><input class=\"txtbox\" maxlength=\"50\" name=\"uname\" placeholder=\"Email / Cbox name\" spellcheck=\"false\" style=\"width:160px\" tabindex=\"1\" type=\"text\" value=\"\"/><input class=\"txtbox\" maxlength=\"50\" name=\"pword\" placeholder=\"Password\" style=\"width:160px\" tabindex=\"2\" type=\"password\"/><input tabindex=\"3\" type=\"submit\" value=\"Log in\"/></form></div> </div> </div> <div id=\"topbar\"> <div class=\"wrap\"><span class=\"Spacer\"></span><a class=\"button\" href=\"ref.placeholder\">Home</a><a class=\"button\" href=\"ref.placeholder\">Plans Pricing</a><a class=\"button\" href=\"https://example.com\">Sign up</a><a class=\"button\" href=\"https://example.com\">Upgrade</a><a class=\"button\" href=\"ref.placeholder\">Support</a></div> </div> <div id=\"wideimg\" style=\"position:relative;width:100%;left:0\"></div> <div class=\"wrap\" id=\"main\"> <div id=\"content\"> <h1>Cbox Live Chat</h1> <div class=\"col1_2\"> <p>Cbox is an embedded real-time chat web app. Its perfect for live-streaming, online communities and events. Cbox has been operating for more than a decade and we know how it works. You cannot go wrong.</p> <form action=\"/getone\" method=\"post\" name=\"\"> <fieldset> <legend>Get started</legend> <p>Enter your email address to create your Free Cbox</p> <label>Your email</label><input class=\"txtbox\" name=\"email\" placeholder=\"me@address.com\" type=\"text\"/><input type=\"submit\" value=\"Go!\"/> </fieldset> </form> <p>Cbox keeps users on your site and keeps them returning. Embed your Cbox directly into your site, or access it in a mobile-friendly standalone mode.</p> <h2>Style it up</h2> <p>Just as every conversation is unique, so is every Cbox. A wide range of theme and customization options allows you to get your Cbox looking just the way you want. Change colours, choose fonts, and upload your own emoticons to make your Cbox live chat experience your own.</p> </div> <div class=\"col2_2\"> <div id=\"cboxdiv\" style=\"width:100%;height:400px;box-sizing:border-box;-moz-box-sizing:border-box;background:#EDF3F7;line-height:0;overflow:hidden\"></div> <div id=\"demoPalette\" style=\"margin-top:1em\"> <div style=\"display:inline-block;box-sizing:border-box;border:4px solid rgb(255, 255, 255);height:40px;width:11%;background-color:rgb(68, 68, 68)\"></div> <div style=\"display:inline-block;box-sizing:border-box;border:4px solid rgb(255, 255, 255);height:40px;width:11%;background-color:rgb(222, 26, 16)\"></div> <div style=\"display:inline-block;box-sizing:border-box;border:4px solid rgb(255, 255, 255);height:40px;width:11%;background-color:rgb(255, 135, 15)\"></div> <div style=\"display:inline-block;box-sizing:border-box;border:4px solid rgb(255, 255, 255);height:40px;width:11%;background-color:rgb(255, 229, 0)\"></div> <div style=\"display:inline-block;box-sizing:border-box;border:4px solid rgb(255, 255, 255);height:40px;width:11%;background-color:rgb(132, 189, 0)\"></div> <div style=\"display:inline-block;box-sizing:border-box;border:4px solid rgb(255, 255, 255);height:40px;width:11%;background-color:rgb(0, 191, 182)\"></div> <div style=\"display:inline-block;box-sizing:border-box;border:4px solid rgb(255, 255, 255);height:40px;width:11%;background-color:rgb(0, 106, 176)\"></div> <div style=\"display:inline-block;box-sizing:border-box;border:4px solid rgb(255, 255, 255);height:40px;width:11%;background-color:rgb(125, 33, 217)\"></div> <div style=\"display:inline-block;box-sizing:border-box;border:4px solid rgb(255, 255, 255);height:40px;width:11%;background-color:rgb(186, 32, 140)\"></div> </div> <h2>Find out more</h2> <p>Check out our <a href=\"ref.placeholder\">Plans Pricing</a> to compare features and find out what Cbox can do for your site.</p> </div> <div class=\"colclear\"></div> </div> <div style=\"clear:both\"></div> </div> </div> <div id=\"siteErrorBar\"> <div class=\"wrap\" id=\"siteErrorBarCont\">Loading...</div> </div> <div id=\"footer\"> <a href=\"ref.placeholder\">About</a><a href=\"ref.placeholder\">Plans pricing</a><a href=\"ref.placeholder\">Terms conditions</a><a href=\"ref.placeholder\">Privacy policy</a><a href=\"ref.placeholder\">Notices</a><a href=\"ref.placeholder\">Contact us</a> <div class=\"verybottom\"> 20042023 Cbox, all rights reserved. 0 ms. 83ce</div> </div> </body> </html> /* START CSS */ body,html { margin: 0; font: 14px \"Open Sans\",Tahoma,Arial,sans-serif; font-weight: 400; color: #454545; text-align: center; position: absolute; top: 0; bottom: 0; right: 0; left: 0; cursor: default; -webkit-tap-highlight-color: rgba(0,0,0,0) } body { min-width: 780px } #mainbody { position: absolute; top: 0; bottom: 0; left: 0; right: 0; background: #fff } a { color: #059ad0; text-decoration: none } h1 { font: normal 200% Numans,Century Gothic,sans-serif; margin: 0 0.5em } h2,legend { font: 400 150% Numans,Century Gothic,sans-serif } p { margin: 0 0 1.5em } h2 { margin: 1em 0 0 } #content>h1,#content>h2,#content>p { margin-left: 60px } #main { text-align: left; position: relative; padding-bottom: 96px } #bodywrap { min-height: 100%; margin-bottom: -96px }.wrap { max-width: 780px; font-size: 100%; position: relative; margin: 0 auto } #bar3.wrap,#header.wrap,#subbar.wrap,#topbar.wrap { max-width: 1000px } #title { display: block; float: left } #header { position: relative; text-align: right; } #headerExtras a,#headerExtras span { padding: 5px 10px } #topbar { text-align: right; position: relative } #header #logo { position: absolute; z-index: 2; left: 0; top: 5px } #topbar.Spacer { display: inline-block; float: left; width: 100px; height: 60px } #subbar { position: relative; text-align: right; height: auto; z-index: 2 } #content { clear: both; position: relative; zoom: 1; padding: 20px 20px 40px } #footer { position: relative; text-align: center; margin-top: -96px; height: 96px; clear: both } #footer,#header { background: #323232; color: #ddd; font-size: 85%; font-weight: 300 } #footer.verybottom,#footer>a,#header #headerExtras a { padding: 4px 1em; color: #fcc946; white-space: nowrap; display: inline-block; height: 24px; overflow: hidden; text-overflow: ellipsis; vertical-align: bottom } #footer.verybottom { position: absolute; bottom: 0; left: 0; right: 0; text-align: center; color: #777 } #footer.verybottom a { color: #777 } #header input { font-size: 13px; vertical-align: top; border: 0; border-bottom: #059ad0 2px solid; padding:.1em.5em; background: 0 0; color: #fff; height: 30px } a.button { overflow: hidden; text-align: center; background: 0 0; height: 20px; font: 18px Numans,Century Gothic,sans-serif; color: #454545; padding: 5px 10px; display: inline-block; position: relative; cursor: pointer; text-decoration: none; outline: 0 }.txtbox { font-family: \"Open Sans\",Tahoma,Arial,sans-serif; font-size: 100%; border: 2px solid #059ad0; background-color: #fff; padding:.15em.5em; outline: 0; color: #000; height: 2em; box-sizing: border-box; -webkit-box-sizing: border-box; vertical-align: top } input[type=button],input[type=submit] { font-family: \"Open Sans\",Tahoma,Arial,sans-serif; font-size: 100%; border: 2px solid #059ad0; background: #059ad0; color: #fff; padding:.2em 1em; outline: 0; text-align: center; -webkit-appearance: none } input[type=checkbox],input[type=radio] { width: 1.5em; height: 1.5em; margin: 0; vertical-align: text-bottom } fieldset { padding: 1em; border: 0; background: url(ref.placeholder) #f2f2f2; position: relative; margin: 0 0 1em; clear: both } form { margin: 0; padding: 0 } #hovmenu { font: 400 90% Numans,Century Gothic,sans-serif; text-align: right } #qlerr { color: red; margin-right: 2em; position: absolute; right: 0; top: 2em } #mask,#smiliemask { position: fixed; top: 0; left: 0; right: 0; height: 100%; z-index: 90; display: none; background: #fff; opacity: 0; filter: alpha(opacity=0) } #wideimg { position: relative } #wideimg img { width: 100% } fieldset { width: 100% } fieldset,fieldset>* { box-sizing: border-box; -webkit-box-sizing: border-box } fieldset>* { float: left; padding:.15em.5em; border: 2px solid transparent } fieldset>legend { color: #454545; margin-bottom:.5em } fieldset>legend+* { clear: both } fieldset>label { display: inline-block; width: 30%; text-align: right; white-space: nowrap; overflow: hidden; text-overflow: ellipsis; vertical-align: bottom; clear: both; padding-left: 0; margin: 0 0 6px } fieldset>input { width: 100%; margin: 0 0 6px } fieldset>label+input { width: 70% } fieldset>input[type=button],fieldset>input[type=submit] { width: auto } fieldset>input[type=submit] { clear: both; float: right; margin: 0 } fieldset>*+input[type=submit] { margin-top: 1em }.col1_2,.col2_2 { box-sizing: border-box; -webkit-box-sizing: border-box; width: 50%; float: left; padding-right: 10px }.col2_2 { padding-right: 0 }.colclear { clear: both; display: block } @media (max-width:800px) { body { min-width: 300px } #content>h1,#content>h2,#content>p { margin-left: 0 } #qlogin input:not([type=submit]) { display: none } #topbar { z-index: 3 } #topbar.Spacer { display: none } #header #logo { top: 0 } #header img { height: 40px; width: auto } #header #userWelcome { display: none } fieldset>label,fieldset>label+input { width: 100%; text-align: left; white-space: normal } } @media (max-width:450px) {.col1_2,.col2_2 { float: left; width: 100%; padding: 0 } } #popovr_title { float: left; font: 400 150% Numans,Century Gothic,sans-serif; margin-bottom: 1em; text-align: left } #popovr_box { display: none; position: fixed; top: 0; left: 0; right: 0; bottom: 0; background: #000; background: rgba(0,0,0,.6); z-index: 1000 } @media (min-width:600px) { h2#featureGridTitle { display: block } } #palFloat { position: absolute; text-align: center; display: none; width: 128px; height: 320px; background: #FFF; border: 1px solid #DDD; padding: 10px } #palFloat #colpal { width: 128px; height: 256px; position: relative; margin: 0 auto; cursor: none } #palFloat #palColCircle { z-index: 2; position: absolute; width: 32px; height: 32px; border: 2px solid #000; top: 0; right: 0 } #palFloat #palMask { position: absolute; display: none; top: 0; left: 0; right: 0; bottom: 0; z-index: 1000 } #siteErrorBarCont { padding-left: 20px } #siteErrorBar { position: fixed; bottom: 0; left: 0; right: 0; padding: 0; text-align: left; z-index: 99999; background: #fff; color: #fff; height: 0; text-overflow: ellipsis; overflow: hidden }\n",
            "      Bleu: 0.08\n",
            "\n",
            "Prediction: <html xmlns=\"https://example.com\"> <head> <title>Buy Clonidine Online - Fast Delivery</title> <link href=\"https://example.com\" rel=\"stylesheet\" type=\"text/css\"/> <link href=\"clonidine.life.css\" media=\"all\" rel=\"stylesheet\" type=\"text/css\"/> </head> <body> <div id=\"wrapper\"> <div id=\"header-wrapper\"> <div class=\"container\" id=\"header\"> <div id=\"logo\"> <h1>Clonidine</h1> <p><em>Design by <a href=\"ref.placeholder\" rel=\"nofollow\">TEMPLATED</a></em></p> </div> <div id=\"menu\"><ul><li class=\"current_page_item\"><a href=\"ref.placeholder\">Homepage</a></li><li><a href=\"ref.placeholder\">Blog</a></li><li><a href=\"ref.placeholder\">Photos</a></li><li><a href=\"ref.placeholder\">About</a></li><li><a href=\"ref.placeholder\">Links</a></li><li><a href=\"ref.placeholder\">Contact</a></li></ul></div> </div> <div id=\"banner\"><img alt=\"You will certainly should be taking Clonidine as quickly as feasible, as this is not going to be a problem for you.\" src=\"../../images/default_img.jpeg\"/></div> </div> <div id=\"page\"> <div id=\"page-bgtop\"> <div id=\"page-bgbtm\"> <div id=\"content\"> <div class=\"post\"> <h2 class=\"title\">Welcome to our website</h2> <p class=\"meta\"><span class=\"date\">September 10, 2011</span><span class=\"posted\">Posted by <a href=\"ref.placeholder\">Someone</a></span></p> <div style=\"clear:both\"></div> <div class=\"entry\"> <p><img alt=\"You will certainly should be taking Clonidine as quickly as feasible, as this is not going to be a problem for you.\" src=\"../../images/default_img.jpeg\"/>It is not going to be a problem for you if you are taking any type of other medicines that could be prescribed, as this is not going to be a problem for you.\" src=\"../../images/default_img.jpeg\"/>It is not going to be a problem for you if you are taking any type of other medicines that could be prescribed, as this is not going to be a problem for you.\" src=\"../../images/default_img.jpeg\"/>It is not going to be a problem for you if you are taking any type of other medicines that could be prescribed, as this is not going to be a problem for you.\" src=\"../../images/default_img.jpeg\"/>It is not going to be a problem for you if you are taking any type of other medicines that could be prescribed, as this is not going to be a problem for you.\" src=\"../../images/default_img.jpeg\"/>It is not going to be a problem for you if you are taking any type of other medicines that could be prescribed, as this is not going to be a problem for you.\" src=\"../../images/default_img.jpeg\"/>It is not going to be a problem for you if you are taking any type of other medicines that could be prescribed, as this is not going to be a problem for you.\" src=\"../../images/default_img.jpeg\"/>It is not going to be a problem for you if you are taking any type of other medicines that could be prescribed, as this is not going to be a problem for you.\" src=\"../../images/default_img.jpeg\"/>It is not going to be a problem for you if you are taking any type of other medicines that could be prescribed, as this is not going to be a problem for you.\" src=\"../../images/default_img.jpeg\"/>It is not going to be a problem for you if you are taking any type of other medicines that could be prescribed, as this is not going to be a problem for you.\" src=\"../../images/default_img.jpeg\"/>It is not going to be a problem for you if you are taking any type of other medicines that could be prescribed, as this is not going to be a problem for you.\" src=\"../../images/default_img.jpeg\"/>It is not going to be a problem for you if you are taking any type of other medicines that could be prescribed, as this is not going to be a problem for you.\" src=\"../../images/default_img.jpeg\"/>It is not going to be a problem for you if you are taking any type of other medicines that could be prescribed, as this is not going to be a problem for you.\" src=\"../../images/default_img.jpeg\"/>It is not going to be a problem for you if you are taking any type of other medicines that could be prescribed, as this is not going to be a problem for you.\" src=\"../../images/default_img.jpeg\"/>It is not going to be a problem for you if you are taking any type of other medicines that could be prescribed, as this is not going to be a problem for you.\" src=\"../../images/default_img.jpeg\"/>It is not going to be a problem for you if you are taking any type of other medicines that could be prescribed, as this is not going to be a problem for you.\" src=\"../../images/default_img.jpeg\"/>It is not going to be a problem for you if you are taking any type of other medicines that could be prescribed, as this is not going to be a problem for you.\" src=\"../../images/default_img.jpeg\"/>It is not going to be a problem for you if you are taking any type of other medicines that could be prescribed, as this is not going to be a problem for you.\" src=\"../../images/default_img.jpeg\"/>It is not going to be a problem for you if you are taking any type of other medicines that could be prescribed, as this is not going to be a problem for you.\" src=\"../../images/default_img.jpeg\"/>It is not going to be a problem for you if you are taking any type of other medicines that could be prescribed, as this is not going to be a problem for you.\" src=\"../../images/default_img.jpeg\"/>It is not going to be a problem for you if you are taking any type of other medicines that could be prescribed, as this is not going to be a problem for you.\" src=\"../../images/default_img.jpeg\"/>It is not going to be a problem for you if you are taking any type of other medicines that could be prescribed, as this is not going to be a problem for you.\" src=\"../../images/default_img.jpeg\"/>It is not going to be a problem for you if you are taking any type of other medicines that could be prescribed, as this is not going to be a problem for you.\" src=\"../../images/default_img.jpeg\"/>It is not going to be a problem for you if you are taking any type of other medicines that could be prescribed, as this is not going to be a problem for you.\" src=\"../../images/default_img.jpeg\"/>It is not going to be a problem for you if you are taking any type of other medicines that could be prescribed, as this is not going to be a problem for you.\" src=\"../../images/default_img.jpeg\"/>It is not going to be a problem for you if you are taking any type of other medicines that could be prescribed, as this is not going to be a problem for you.\" src=\"../../images/default_img.jpeg\"/>It is not going to be a problem for you if you are taking any type of other medicines that could be prescribed, as this is not going to be a problem for you.\" src=\"../../images/default_img.jpeg\"/>It is not going to be a problem for you if you are taking any type of other medicines that could be prescribed, as this is not going to be a problem for you.\" src=\"../../images/default_img.jpeg\"/>It is not going to be a problem for you if you are taking any type of other medicines that could be prescribed, as this is not going to be a problem for you.\" src=\"../../images/default_img.jpeg\"/>It is not going to be a problem for you if you are taking any type of other medicines that could be prescribed, as this is not going to be a problem for you.\" src=\"../../images/default_img.jpeg\"/>It is not going to be a problem for you if you are taking any type of other medicines that could be prescribed, as this is not going to be a problem for you.\" src=\"../../images/default_img.jpeg\"/>It is not going to be a problem for you if you are taking any type of other medicines that could be prescribed, as this is not going to be a problem for you.\" src=\"../../images/default_img.jpeg\"/>It is not going to be a problem for you if you are taking any type of other medicines that could be prescribed, as this is not going to be a problem for you.\" src=\"../../images/default_img.jpeg\"/>It is not going to be a problem for you if you are taking any type of other medicines that could be prescribed, as this is not going to be a problem for you.\" src=\"../../images/default_img.jpeg\"/>It is not going to be a problem for you if you are taking any type of other medicines that could be prescribed, as this is not going to be a problem for you.\" src=\"../../images/default_img.jpeg\"/>It is not going to be a problem for you if you are taking any type of other medicines that could be prescribed, as this is not going to be a problem for you.\" src=\"../../images/default_img.jpeg\"/>It is not going to be a problem for you if you are taking any type of other medicines that could be prescribed, as this is not going to be a problem for you.\" src=\"../../images/default_img.jpeg\"/>It is not going to be a problem for you if you are taking any type of other medicines that could be prescribed, as this is not going to be a problem for you.\" src=\"../../images/default_img.jpeg\"/>It is not going to be a problem for you if you are taking any type of other medicines that could be prescribed, as this is not going to be a problem for you.\" src=\"../../images/default_img.jpeg\"/>It is not going to be a problem for you if you are taking any type of other medicines that could be prescribed, as this is not going to be a problem for you.\" src=\"../../images/default_img.jpeg\"/>It is not going to be a problem for you if you are taking any type of other medicines that could be prescribed, as this is not going to be a problem for you.\" src=\"../../images/default_img.jpeg\"/>It is not going to be a problem for you if you are taking any type of other medicines that could be prescribed, as this is not going to be a problem for you.\" src=\"../../images/default_img.jpeg\"/>It is not going to be a problem for you if you are taking any type of other medicines that could be prescribed, as this is not going to be a problem for you.\" src=\"../../images/default_img.jpeg\"/>It is not going to be a problem for you if you are taking any type of other medicines that could be prescribed, as this is not going to be a problem for you.\" src=\"../../images/default_img.jpeg\"/>It is not going to be a problem for you if you are taking any type of other medicines that could be prescribed, as this is not going to be a problem for you.\" src=\"../../images/default_img.jpeg\"/>It is not going to be a problem for you if you are taking any type of other medicines that could be prescribed, as this is not going to be a problem for you.\" src=\"../../images/default_img.jpeg\"/>It is not going to be a problem for you if you are taking any type of other medicines that could be prescribed, as this is not going to be a problem for you.\" src=\"../../images/default_img.jpeg\"/>It is not going to be a problem for you if you are taking any type of other medicines that could be prescribed, as this is not going to be a problem for you.\" src=\"../../images/default_img.jpeg\"/>It is not going to be a problem for you if you are taking any type of other medicines that could be prescribed, as this is not going to be a problem for you.\" src=\"../../images/default_img.jpeg\"/>It is not going to be a problem for you if you are taking any type of other medicines that could be prescribed, as this is not going to be a problem for you.\" src=\"../../images/default_img.jpeg\"/>It is not going to be a problem for you if you are taking any type of other medicines that could be prescribed, as this is not going to be a problem for you.\" src=\"../../images/default_img.jpeg\"/>It is not going to be a problem for you if you are taking any type of other medicines that could be prescribed, as this is not going to be a problem for you.\" src=\"../../images/default_img.jpeg\"/>It is not going to be a problem for you if you are taking any type of other medicines that could be prescribed, as this is not going to be a problem for you.\" src=\"../../images/default_img.jpeg\"/>It is not going to be a problem for you if you are taking any type of other medicines that could be prescribed, as this is not going to be a problem for you.\" src=\"../../images/default_img.jpeg\"/>It is not going to be a problem for you if you are taking any type of other medicines that could be prescribed, as this is not going to be a problem for you.\" src=\"../../images/default_img.jpeg\"/>It is not going to be a problem for you if you are taking any type of other medicines that could be prescribed, as this is not going to be a problem for you.\" src=\"../../images/default_img.jpeg\"/>It is not going to be a problem for you if you are taking any type of other medicines that could be prescribed, as this is not going to be a problem for you.\" src=\"../../images/default_img.jpeg\"/>It is not going to be a problem for you if you are taking any type of other medicines that could be prescribed, as this is not going to be a problem for you.\" src=\"../../images/default_img.jpeg\"/>It is not going to be a problem for you if you are taking any type of other medicines that could be prescribed, as this is not going to be a problem for you.\" src=\"../../images/default_img.jpeg\"/>It is not going to be a problem for you if you are taking any type of other medicines that could be prescribed, as this is not going to be a problem for you.\" src=\"../../images/default_img.jpeg\"/>It is not going to be a problem for you if you are taking any type of other medicines that could be prescribed, as this is not going to be a problem for you.\" src=\"../../images/default_img.jpeg\"/>It is not going to be a problem for you if you are taking any type of other medicines that could be prescribed, as this is not going to be a problem for you.\" src=\"../../images/default_img.jpeg\"/>It is not going to be a problem for you if you are taking any type of other medicines that could be prescribed, as this is not going to be a problem for you.\" src=\"../../images/default_img.jpeg\"/>It is not going to be a problem for you if you are taking any type of other medicines that could be prescribed, as this is not going to be a problem for you.\" src=\"../../images/default_img.jpeg\"/>It is not going to be a problem for you if you are taking any type of other medicines that could be prescribed, as this is not going to be a problem for you.\" src=\"../../images/default_img.jpeg\"/>It is not going to be a problem for you if you are taking any type of other medicines that could be prescribed, as this is not going to be a problem for you.\" src=\"../../images/default_img.jpeg\"/>It is not going to be a problem for you if you are taking any type of other medicines that could be prescribed, as this is not going to be a problem for you.\" src=\"../../images/default_img.jpeg\"/>It is not going to be a problem for you if you are taking any type of other medicines that could be prescribed, as this is not going to be a problem for you.\" src=\"../../images/default_img.jpeg\"/>It is not going to be a problem for you if you are taking any type of other medicines that could be prescribed, as this is not going to be a problem for you.\" src=\"../../images/default_img.jpeg\"/>It is not going to be a problem for you if you are taking any type of other medicines that could be prescribed, as this is not going to be a problem for you.\" src=\"../../images/default_img.jpeg\"/>It is not going to be a problem for you if you are taking any type of other medicines that could be prescribed, as this is not going to be a problem for you.\" src=\"../../images/default_img.jpeg\"/>It is not going to be a problem for you if you are taking any type of other medicines that could be prescribed, as this is not going to be a problem for you.\" src=\"../../images/default_img.jpeg\"/>It is not going to be a problem for you if you are taking any type of other medicines that could be prescribed, as this is not going to be a problem for you.\" src=\"../../images/default_img.jpeg\"/>It is not going to be a problem for you if you are taking any type of other medicines that could be prescribed, as this is not going to be a problem for you.\" src=\"../../images/default_img.jpeg\"/>It is not going to be a problem for you if you are taking any type of other medicines that could be prescribed, as this is not going to be a problem for you.\" src=\"../../images/default_img.jpeg\"/>It is not going to be a problem for you if you are taking any type of other medicines that could be prescribed, as this is not going to be a problem for you.\" src=\"../../images/default_img.jpeg\"/>It is not going to be a problem for you if you are taking any type of other medicines that could be prescribed, as this is not going to be a problem for you.\" src=\"../../images/default_img.jpeg\"/>It is not going to be a problem for you if you are taking any type of other medicines that could be prescribed, as this is not going to be a problem for you.\" src=\"../../images/default_img.jpeg\"/>It is not going to be a problem for you if you are taking any type of other medicines that could be prescribed, as this is not going to be a problem for you.\" src=\"../../images/default_img.jpeg\"/>It is not going to be a problem for you if you are taking any type of other medicines that could be prescribed, as this is not going to be a problem for you.\" src=\"../../images/default_img.jpeg\"/>It is not\n",
            "    Answer: <html xmlns=\"https://example.com\"> <head> <title>Buy Colchicine Online Express Worldwide Delivery</title> <link href=\"https://example.com\" rel=\"stylesheet\" type=\"text/css\"/> <link href=\"https://example.com\" rel=\"stylesheet\" type=\"text/css\"/> <link href=\"colchicine.directory.css\" media=\"all\" rel=\"stylesheet\" type=\"text/css\"/> </head> <body> <div id=\"header-wrapper\"> <div id=\"header\"> <div id=\"logo\"> <h1>Colchicine</h1> </div> <div id=\"menu\"><ul><li class=\"current_page_item\"><a accesskey=\"1\" href=\"ref.placeholder\" title=\"\">Homepage</a></li><li><a accesskey=\"2\" href=\"ref.placeholder\" title=\"\">Our Clients</a></li><li><a accesskey=\"3\" href=\"ref.placeholder\" title=\"\">About Us</a></li><li><a accesskey=\"4\" href=\"ref.placeholder\" title=\"\">Careers</a></li><li><a accesskey=\"5\" href=\"ref.placeholder\" title=\"\">Contact Us</a></li></ul></div> </div> </div> <div id=\"footer-wrapper\"> <div id=\"footer-content\"> <div id=\"fbox1\"> <h2><span>Aenean elementum</span> facilisis</h2> <p>Patients with renal or hepatic problems must not be given Colchicine capsules with drugs that prevent both P-glycoprotein and also CYP3A4 preventions See Drug Interactions 7 Combining these twin preventions with Colchicine in clients with hepatic or kidney impairment has actually led to lethal or deadly Colchicine poisoning.</p> <p></p> <ul class=\"style2\"><li class=\"first\"><a href=\"ref.placeholder\">Maecenas luctus lectus at sapien</a></li><li><a href=\"ref.placeholder\">Donec dictum metus in sapien</a></li><li><a href=\"ref.placeholder\">Integer gravida nibh quis urna</a></li><li><a href=\"ref.placeholder\">Etiam posuere augue sit amet nisl</a></li><li><a href=\"ref.placeholder\">Mauris vulputate dolor sit amet nibh</a></li><li><a href=\"ref.placeholder\">Praesent scelerisque scelerisque erat</a></li></ul> <p class=\"button-style\"><a href=\"ref.placeholder\">More Details</a></p> </div> <div id=\"fbox2\"> <h2><span>Fusce ultrices</span> fringilla</h2> <p><img alt=\"Carcinogenesis Carcinogenicity researches of Colchicine have actually not been performed.\" src=\"../../images/default_img.jpeg\"/></p> <p>Persistent renal failing and severe renal failure with a fatal end result following colchicine poisoning have actually been stated.</p> <p class=\"button-style\"><a href=\"ref.placeholder\">More Details</a></p> </div> </div> </div> <div id=\"page-wrapper\"> <div id=\"page\"> <div id=\"content\"> <div> <h2>Nulla luctus eleifend</h2> <p>Colchicine is soluble in water, easily soluble in liquor, and somewhat dissolvable in ether.</p> <p></p> <p>This is only a quick recap of general info concerning colchicine.</p> <p class=\"button-style\"><a href=\"ref.placeholder\">More Details</a></p> </div> </div> <div id=\"sidebar\"> <h2>Maecenas lectus</h2> <ul class=\"style3\"> <li class=\"first\"> <img alt=\"Colchicine capsules is not a pain medication and it ought to not be required to treat discomfort pertaining to other conditions unless specifically for those conditions.\" src=\"../../images/default_img.jpeg\"/> <p>While there are no released reports of damaging results in breast-feeding infants of mothers taking Colchicine, Colchicine can influence intestinal cell renewal and permeability.</p> <p class=\"posted\">August 11, 2002 10 Comments</p> </li> <li> <img alt=\"Colchicine has actually been reported to induce neuromuscular poisoning, which may present as muscle mass discomfort or weak point [view Precautions as well as cautions (5.\" src=\"../../images/default_img.jpeg\"/> <p>The person fathered 2 apparently normal kids while not receiving the medication.</p> <p class=\"posted\">August 11, 2002 10 Comments</p> </li> <li> <img alt=\"This is simply a quick recap of basic info about colchicine.\" src=\"../../images/default_img.jpeg\"/> <p>This info ought to not be made use of to decide whether to take colchicine or any various other medicine.</p> <p class=\"posted\">August 11, 2002 10 Comments</p> </li> </ul> </div> </div> </div> <div id=\"footer\"> <p>Keep colchicine from the reach of kids and also away from pets. Only your healthcare supplier has the expertise as well as training to choose which medicines are best for you.</p> </div> </body> </html> /* START CSS */ body { margin: 0; padding: 0; background: #1B2024; font-family: \"Abel\", sans-serif; font-size: 15px; color: #8F8F8F; } h1, h2 { margin: 0; padding: 0; font-family: \"Abel\", sans-serif; font-weight: 200; color: #222222; } p, ul { margin: 0px; padding: 0px; } a { color: #5C5539; } a img { border: none; } #header-wrapper { overflow: hidden; height: 157px; background: #DEE3E5; } #header { width: 1000px; height: 140px; margin: 0 auto; padding: 0px 0px; } #logo { float: left; width: 300px; height: 80px; margin: 0px; padding: 0px; } #logo h1 { padding: 30px 0px 0px 0px; background: url(ref.placeholder) no-repeat left 50%; font-size: 3.6em; } #logo h1 a { text-decoration: none; color: #1B2024; } #menu { float: right; width: 650px; height: 80px; } #menu ul { float: right; margin: 0; padding: 40px 0px 0px 0px; list-style: none; } #menu li { float: left; } #menu a { display: block; margin-left: 1px; padding: 5px 20px 5px 20px; text-decoration: none; text-align: center; font-family: \"Oswald\", sans-serif; font-size: 18px; font-weight: 300; color: #10202F; } #menu.current_page_item a { text-decoration: none; background: #1B2024; color: #FFFFFF; } #page-wrapper { overflow: hidden; background: #F1F2E9; } #page { overflow: hidden; width: 1000px; margin: 0px auto; padding: 50px 0px; color: #8F8F8F; } #content { float: right; width: 660px; padding: 0px 0px 0px 0px; } #content h2 { padding: 0px 0px 30px 0px; font-size: 36px; color: #222222; } #sidebar { float: left; width: 290px; padding: 0px 0px 20px 0px; } #sidebar h2 { padding: 0px 0px 30px 0px; font-size: 2em; } #footer { height: 100px; margin: 0 auto; padding: 50px 0px 15px 0px; font-family: \"Abel\", sans-serif; } #footer p { margin: 0; font-size: 14px; text-align: center; color: #4D565E; } #footer a { color: #4D565E; } #footer-wrapper { background: #FFFFFF; } #footer-content { overflow: hidden; width: 1000px; margin: 0px auto; padding: 50px 0px 50px 0px; color: #717171; } #footer-content h2 { margin: 0px; padding: 0px 0px 30px 0px; font-size: 30px; color: #B5A871; } #footer-content h2 span { color: #5C5539; } #footer-content #fbox1 { float: left; width: 320px; margin-right: 20px; } #footer-content #fbox2 { float: right; width: 640px; } #banner-wrapper { overflow: hidden; height: 345px; padding: 40px 0px; background: url(ref.placeholder) repeat; } #banner { overflow: hidden; width: 1000px; margin: 0px auto; }.button-style { display: inline-block; margin-top: 30px; padding: 7px 30px; background: #1B2024; }.button-style a { text-decoration: none; font-family: \"Oswald\", sans-serif; font-weight: 300; font-size: 16px; color: #FFFFFF; } ul.style2 { margin: 0px; padding: 0px; list-style: none; } ul.style2 li { padding: 9px 0px 9px 0px; border-top: 1px dashed #E6E7DC; } ul.style2.first { padding-top: 0px; border-top: none; } ul.style3 { margin: 0px; padding: 0px; list-style: none; } ul.style3 li { padding: 20px 0px 20px 0px; background: url(ref.placeholder) repeat-x left top; } ul.style3 p { margin: 0px; padding: 0px; } ul.style3 img { float: left; margin-top: 3px; margin-right: 20px; } ul.style3.posted { padding: 10px 0px 0px 0px; font-size: 8pt; color: #A2A2A2; } ul.style3.first { padding-top: 0px; background: none; }\n",
            "      Bleu: 0.15\n",
            "\n",
            "Prediction: <html xmlns=\"https://example.com\"> <head> <title>Buy Levitra Online - Bonus Pills For Every Order</title> <link href=\"levitra.life.css\" media=\"screen\" rel=\"stylesheet\" type=\"text/css\"/> </head> <body> <div id=\"wrapper\"> <div id=\"header\"> <div id=\"logo\"> <h1>Levitra</h1> <p><em>Design by <a href=\"ref.placeholder\" rel=\"nofollow\">TEMPLATED</a></em></p> </div> <div id=\"menu\"><ul><li class=\"current_page_item\"><a href=\"ref.placeholder\">Homepage</a></li><li><a href=\"ref.placeholder\">Blog</a></li><li><a href=\"ref.placeholder\">Photos</a></li><li><a href=\"ref.placeholder\">About</a></li><li><a href=\"ref.placeholder\">Links</a></li><li><a href=\"ref.placeholder\">Contact</a></li></ul></div> <div id=\"page\"> <div id=\"page-bgtop\"> <div id=\"page-bgbtm\"> <div id=\"content\"> <div class=\"post\"> <h2 class=\"title\">Welcome to Our Website!</h2> <p class=\"meta\"><span class=\"date\">September 10, 2011</span><span class=\"posted\">Posted by <a href=\"ref.placeholder\">Someone</a></span></p> <div style=\"clear:both\"></div> <div class=\"entry\"> <p><img alt=\"Levitra is a prescription medication that can be taken by people with a history of heart disease, heart disease, liver disease, liver disease, liver disease, or a history of a past of a past of a past of a past of a past of a past of a past of a past of a past of a past of a past of a past of a past of a past of a past of a past of a past of a past of a past of a past of a past of a past of a past of a past of a past of a past of a past of a past of a past of a past of a past of a past of a past of a past of a past of a past of a past of a past of a past of a past of a past of a past of a past of a past of a past of a past of a past of a past of a past of a past of a past of a past of a past of a past of a past of a past of a past of a past of a past of a past of a past of a past of a past of a past of a past of a past of a past of a past of a past of a past of a past of a past of a past of a past of a past of a past of a past of a past of a past of a past of a past of a past of a past of a past of a past of a past of a past of a past of a past of a past of a past of a past of a past of a past of a past of a past of a past of a past of a past of a past of a past of a past of a past of a past of a past of a past of a past of a past of a past of a past of a past of a past of a past of a past of a past of a past of a past of a past of a past of a past of a past of a past of a past of a past of a past of a past of a past of a past of a past of a past of a past of a past of a past of a past of a past of a past of a past of a past of a past of a past of a past of a past of a past of a past of a past of a past of a past of a past of a past of a past of a past of a past of a past of a past of a past of a past of a past of a past of a past of a past of a past of a past of a past of a past of a past of a past of a past of a past of a past of a past of a past of a past of a past of a past of a past of a past of a past of a past of a past of a past of a past of a past of a past of a past of a past of a past of a past of a past of a past of a past of a past of a past of a past of a past of a past of a past of a past of a past of a past of a past of a past of a past of a past of a past of a past of a past of a past of a past of a past of a past of a past of a past of a past of a past of a past of a past of a past of a past of a past of a past of a past of a past of a past of a past of a past of a past of a past of a past of a past of a past of a past of a past of a past of a past of a past of a past of a past of a past of a past of a past of a past of a past of a past of a past of a past of a past of a past of a past of a past of a past of a past of a past of a past of a past of a past of a past of a past of a past of a past of a past of a past of a past of a past of a past of a past of a past of a past of a past of a past of a past of a past of a past of a past of a past of a past of a past of a past of a past of a past of a past of a past of a past of a past of a past of a past of a past of a past of a past of a past of a past of a past of a past of a past of a past of a past of a past of a past of a past of a past of a past of a past of a past of a past of a past of a past of a past of a past of a past of a past of a past of a past of a past of a past of a past of a past of a past of a past of a past of a past of a past of a past of a past of a past of a past of a past of a past of a past of a past of a past of a past of a past of a past of a past of a past of a past of a past of a past of a past of a past of a past of a past of a past of a past of a past of a past of a past of a past of a past of a past of a past of a past of a past of a past of a past of a past of a past of a past of a past of a past of a past of a past of a past of a past of a past of a past of a past of a past of a past of a past of a past of a past of a past of a past of a past of a past of a past of a past of a past of a past of a past of a past of a past of a past of a past of a past of a past of a past of a past of a past of a past of a past of a past of a past of a past of a past of a past of a past of a past of a past of a past of a past of a past of a past of a past of a past of a past of a past of a past of a past of a past of a past of a past of a past of a past of a past of a past of a past of a past of a past of a past of a past of a past of a past of a past of a past of a past of a past of a past of a past of a past of a past of a past of a past of a past of a past of a past of a past of a past of a past of a past of a past of a past of a past of a past of a past of a past of a past of a past of a past of a past of a past of a past of a past of a past of a past of a past of a past of a past of a past of a past of a past of a past of a past of a past of a past of a past of a past of a past of a past of a past of a past of a past of a past of a past of a past of a past of a past of a past of a past of a past of a past of a past of a past of a past of a past of a past of a past of a past of a past of a past of a past of a past of a past of a past of a past of a past of a past of a past of a past of a past of a past of a past of a past of a past of a past of a past of a past of a past of a past of a past of a past of a past of a past of a past of a past of a past of a past of a past of a past of a past of a past of a past of a past of a past of a past of a past of a past of a past of a past of a past of a past of a past of a past of a past of a past of a past of a past of a past of a past of a past of a past of a past of a past of a past of a past of a past of a past of a past of a past of a past of a past of a past of a past of a past of a past of a past of a past of a past of a past of a past of a past of a past of a past of a past of a past of a past of a past of a past of a past of a past of a past of a past of a past of a past of a past of a past of a past of a past of a past of a past of a past of a past of a past of a past of a past of a past of a past of a past of a past of a past of a past of a past of a past of a past of a past of a past of a past of a past of a past of a past of a past of a past of a past of a past of a past of a past of a past of a past of a past of a past of a past of a past of a past of a past of a past of a past of a past of a past of a past of a past of a past of a past of a past of a past of a past of a past of a past of a past of a past of a past of a past of a past of a past of a past of a past of a past of a past of a past of a past of a past of a past of a past of a past of a past of a past of a past of a past of a past of a past of a past of a past of a past of a past of a past of a past of a past of a past of a past of a past of a past of a past of a past of a past of a past of a past of a past of a past of a past of a past of a past of a past of a past of a past of a past of a past of a past of a past of a past of a past of a past of a past of a past of a past of a past of a past of a past of a past of a past of a past of a past of a past of a past of a past of a past of a past of a past of a past of a past of a past of a past of a past of a past of a past of a past of a past of a past of a past of a past of a past of a past of a past of a past of a past of a past of a past of a past of a past of a past of a past of a past of a past of a past of a past of a past of a past of a past of a past of a past of a past of a past of a past of a past of a past of a past of a past of a past of a past of a past of a past of a past of a past of a past of a past of a past of a past of a past of a past of a past of a past of a past of a past of a past of a past of a past of a past of a past of a past of a past of a past of a past of a past of a past of a past of a past of a past of a past of a past of a past of a past of a past of a past of a past of a past of a past of a past of a past of a past of a past of a past of a past of a past of a past of a past of a past of a past of a past of a past of a past of a past of a past of a past of a past of a past of a past of a past of a past of a past of a past of a past of a past of a past of a past of a past of a past of a past of a past of a past of a past of a past of a past of a past of a past of a past of a past of a past of a past of a past of a past of a past of a past of a past of a past of a past of a past of a past of a past of a past of a past of a past of a past of a past of a past of a past of a past of a past of a past of a past of a past of a past of a past of a past of a past of a past of a past of a past of a past of a past of a past of a past of a past of a past of a past of a past of a past of a past of a past of a past of a past of a past of a past of a past of a past of a past of a past of a past of a past of a past of a past of a past of a past of a past of a past of a past of a past of a past of a past of a past of a past of a past of a past of a past of a past of a past of a past of a past of a past of a past of a past of a past of a past of a past of a past of a past of a past of a past of a past of a past of a past of a past of a past of a past of a past of a past of a past of a past of a past of a past of a past of a past of a past of a past of a past of a past of a past of a past of a past of a past of a past of a past of a past of a past of a past of a past of a past of a past of a past of a past of a past of a past of a past of a past of a past of a past of a past of a past of a past of a past of a past of a past of a past of a past of a past of a past of a past of a past of a past of a past of a past of a past of a past of a past of a past of a past of a past of a past of a past of a past of a past of a past of a past of a past of a past of a past of a past of a past of a past of a past of a past of a past of a past of a past of a past of a past of a past of a past of a past of a past of a past of a past of a past of a past of a past of a past of a past of a past of a past of a past of a past of a past of a past of a past of a past of a past of a past of a past of a past of a past of a past of a past of a past of a past of a past of a past of a past of a past of a past of a past of a past of a past of a past of a past of a past of a past of a past of a past of a past of a past of a past of a past of a past of a past of a past of a past of a past of a past of a past of a past of a past of a past of a past of a past of a past of a past of a past of a past of a past of a past of a past of a past of a past of a past of a past of a past of a past of a past of a past of a past of a past of a past of a past of a past of a past of a past of a past of a past of a past of a past of a past of a past of a past of a past of a past of a past of a past of a past of a past of a past of a past of a past of a past of a past of a past of a past of a past of a past of a past of a past of a past of a past of a past of a past of a past of a past of a past of a past of a past of a past of a past of a past of a past of a past of a past of a past of a past of a past of a past of a past of a past of a past of a past of a past of a past of a past of a past of a past of a past of a past of a past of a past of a past of a past of a past of a past of a past of a past of a past of a past of a past of a past of a past of a past of a past of a past of a past of a past of a past of a past of a past of a past of a past of a past of a past of a past of a past of a past of a past of a past of a past of a past of a past of a past of a past of a past of a past of a past of a past of a past of a past of a past of a past of a past of a past of a past of a past of a past of a past of a past of a past of a past of a past of a past of a past of a past of a past of a past of a past of a past of a past of a past of a past of a past of a past of a past of a past of a past of a past of a past of a past of a past of a past of a past of a past of a past of a past of a past of a past of a past of a past of a past of a past of a past of a past of a past of a past of a past of a past of a past of a past of a past of a past of a past of a past of a past of a past of a past of a past of a past of a past of a past of a past of a past of a past of a past of a past of a past of a past of a past of a past of a past of a past of a past of a past of a past of a past of a past of a past of a past of a past of a past of a past of a past of a past of a past of a past of a past of a past of a past of a past of a past\n",
            "    Answer: <html xmlns=\"https://example.com\"> <head> <title>Buy Nexium Online Express Delivery</title> <link href=\"nexiumtab.shop.css\" rel=\"stylesheet\" type=\"text/css\"/> </head> <body> <div id=\"wrapper\"> <div id=\"header\"> <div id=\"logo\"> <h1>Nexium</h1> <h2>Designed by TEMPLATED</h2> </div> <div id=\"menu\"><ul><li class=\"active\"><a href=\"ref.placeholder\">homepage</a></li><li><a href=\"ref.placeholder\">photo gallery</a></li><li><a href=\"ref.placeholder\">about us</a></li><li><a href=\"ref.placeholder\">links</a></li><li><a href=\"ref.placeholder\">contact us</a></li></ul></div> </div> </div> <div id=\"page\"> <div id=\"content\"> <div class=\"post\"> <h1 class=\"title\">Welcome to Branches</h1> <div class=\"entry\"> <p>If you are presently taking tacrolimus, rifampin, methotrexate, voriconazole, diazepam, HIVAIDS drugs, dexamethasone, digoxin, cilostazol or citalopram, your medical professional or pharmacologist ought to understand about it.</p> <p>Much more serious negative side effects are additionally possible, yet they are very unusual and typically represent your at first moderate negative side effects that changed in magnitude as a result of some factor.</p> </div> <div class=\"meta\"> <p class=\"links\">When clearly indicated and is not meant for heartburn pyrosis symptoms, this medication needs to be taken only.</p> </div> </div> <div class=\"post\"> <h2 class=\"title\">Lorem Ipsum Dolor Volutpat</h2> <div class=\"entry\"> <p>Make certain you inform your healthcare company of the reality of taking any sort of other medicines - specifically atazanavir, clopidogrel, iron supplements, digoxin, anticoagulants, or antifungals, as they could communicate with this medicine and make your treatment less reliable.</p> <p>The adhering to signs may show an overdose of Nexium and have to be mentioned queasiness, sweating, masked eyesight, confusion, drowsiness, completely dry mouth, hassle, lack of breath, reduction of sychronisation, and flushing.</p> </div> <div class=\"meta\"> <p class=\"links\">Nexium is a highly effective proton pump prevention that could lessen the quantity of acid your stomach generates.</p> </div> </div> </div> <div id=\"sidebar\"> <ul> <li id=\"search\"> <h2><b class=\"text1\">Search</b></h2> <form action=\"\" method=\"get\"><fieldset><input id=\"s\" name=\"s\" type=\"text\" value=\"\"/><input id=\"x\" type=\"submit\" value=\"Search\"/></fieldset></form> </li> <li> <h2><strong>Lorem</strong> Ipsum</h2> <ul><li><a href=\"ref.placeholder\">Fusce dui neque fringilla</a></li><li><a href=\"ref.placeholder\">Eget tempor eget nonummy</a></li><li><a href=\"ref.placeholder\">Magna lacus bibendum mauris</a></li><li><a href=\"ref.placeholder\">Nec metus sed donec</a></li><li><a href=\"ref.placeholder\">Magna lacus bibendum mauris</a></li><li><a href=\"ref.placeholder\">Velit semper nisi molestie</a></li><li><a href=\"ref.placeholder\">Eget tempor eget nonummy</a></li></ul> </li> <li> <h2><b>Volutpat</b> Dolore</h2> <ul><li><a href=\"ref.placeholder\">Nec metus sed donec</a></li><li><a href=\"ref.placeholder\">Magna lacus bibendum mauris</a></li><li><a href=\"ref.placeholder\">Velit semper nisi molestie</a></li><li><a href=\"ref.placeholder\">Eget tempor eget nonummy</a></li><li><a href=\"ref.placeholder\">Nec metus sed donec</a></li><li><a href=\"ref.placeholder\">Magna lacus bibendum mauris</a></li><li><a href=\"ref.placeholder\">Velit semper nisi molestie</a></li></ul> </li> <li> <h2><b>Volutpat</b> Dolore</h2> <ul><li><a href=\"ref.placeholder\">Nec metus sed donec</a></li><li><a href=\"ref.placeholder\">Magna lacus bibendum mauris</a></li><li><a href=\"ref.placeholder\">Velit semper nisi molestie</a></li><li><a href=\"ref.placeholder\">Eget tempor eget nonummy</a></li><li><a href=\"ref.placeholder\">Nec metus sed donec</a></li></ul> </li> </ul> </div> <div style=\"clear:both\"></div> </div> <div id=\"footer\"> <p id=\"legal\">Its not unusual for the symptoms to boost quickly after you have begun the treatment.</p> </div> </body> </html> /* START CSS */ body { margin: 0; padding: 0; background: #7A674C url(ref.placeholder); font-family: Arial, Helvetica, sans-serif; font-size: 13px; color: #FCFAE6; } h1, h2 { margin: 0; font-weight: normal; color: #FFFFC6; } h1 { font-size: 32px; } h2 { font-size: 23px; } p, ul { margin: 0 0 2em 0; text-align: justify; } a:link { color: #F6E48A; } a:active { text-decoration: none; color: #FFFFFF; } form { margin: 0; padding: 0; } fieldset { margin: 0; padding: 0; border: none; } input { font-family: \"Trebuchet MS\", Arial, Helvetica, sans-serif; font-size: 13px; color: #333333; } #wrapper { background: #490102; } #header { width: 900px; height: 70px; margin: 0 auto 20px auto; padding-top: 20px; } #logo { float: left; height: 120px; margin-left: 30px; } #logo h1 { font-size: 38px; color: #3399CC; } #logo h1 a { color: #FFFFFF; } #logo h2 { font-family: Arial, Helvetica, sans-serif; font-size: 10px; color: #F4E395; } #logo a { text-decoration: none; color: #3399CC; } #menu { float: right; } #menu ul { margin: 0; padding: 15px 0 0 0; list-style: none; } #menu li { display: inline; } #menu a { display: block; float: left; margin-left: 5px; padding: 7px 10px; text-decoration: none; font-size: 15px; color: #FFFFFF; } #page { width: 900px; margin: 0 auto; padding: 40px 40px; } #content { float: left; width: 570px; padding: 20px 30px 0px 30px; background: #6F5E45; border-top: 1px #5C4A32 solid; border-bottom: 1px #5C4A32 solid; }.post.title { margin-bottom: 20px; padding-bottom: 5px; background: url(ref.placeholder) no-repeat left bottom; border-bottom: 1px dotted #A09584; }.post.meta { margin: 0; padding: 15px 0 60px 0; }.post.meta p { margin: 0; }.post.meta.links { float: left; }.post.meta b { display: none; } #sidebar { float: right; width: 220px; } #sidebar ul { margin: 0; padding: 0; list-style: none; } #sidebar li { margin-bottom: 40px; } #sidebar li li { margin: 0; } #sidebar h2 { margin-bottom: 10px; padding-bottom: 5px; background: url(ref.placeholder) no-repeat left bottom; font-size: 18px; font-weight: normal; } #search h2 { margin-bottom: 20px; } #s { width: 150px; margin-right: 5px; padding: 3px; border: 1px solid #F0F0F0; } #x { padding: 3px; background: #ECECEC url(ref.placeholder) repeat-x left bottom; border: none; font-size: 11px; color: #4F4F4F; } #footer { height: 400px; min-height: 74px; padding: 10px 0 0 0; background: #6F5E45 url(ref.placeholder) repeat-x left top; font-family: Tahoma, Arial, Helvetica, sans-serif; } html>body #footer { height: auto; } #legal { clear: both; padding-top: 20px; text-align: center; font-size: 10px; color: #FCFAE6; } #legal a { font-weight: bold; color: #F6E595; }\n",
            "      Bleu: 0.10\n",
            "\n",
            "Prediction: <html xmlns=\"https://example.com\"> <head> <title>Buy Lexapro Online - Fast Delivery</title> <link href=\"lexapro.life.css\" media=\"screen\" rel=\"stylesheet\" type=\"text/css\"/> </head> <body> <div id=\"wrapper\"> <div id=\"header-wrapper\"> <div id=\"header\"> <div id=\"logo\"> <h1>Lexapro</h1> <p>Lexapro is a prescription medication that can be taken by people with a history of a history of a history of a history of a history of a history of a history of a history of a history of a history of a history of a history of a history of a history of a history of a history of a history of a history of a history of a history of a history of a history of a history of a history of a history of a history of a history of a history of a history of a history of a history of a history of a history of a history of a history of a history of a history of a history of a history of a history of a history of a history of a history of a history of a history of a history of a history of a history of a history of a history of a history of a history of a history of a history of a history of a history of a history of a history of a history of a history of a history of a history of a history of a history of a history of a history of a history of a history of a history of a history of a history of a history of a history of a history of a history of a history of a history of a history of a history of a history of a history of a history of a history of a history of a history of a history of a history of a history of a history of a history of a history of a history of a history of a history of a history of a history of a history of a history of a history of a history of a history of a history of a history of a history of a history of a history of a history of a history of a history of a history of a history of a history of a history of a history of a history of a history of a history of a history of a history of a history of a history of a history of a history of a history of a history of a history of a history of a history of a history of a history of a history of a history of a history of a history of a history of a history of a history of a history of a history of a history of a history of a history of a history of a history of a history of a history of a history of a history of a history of a history of a history of a history of a history of a history of a history of a history of a history of a history of a history of a history of a history of a history of a history of a history of a history of a history of a history of a history of a history of a history of a history of a history of a history of a history of a history of a history of a history of a history of a history of a history of a history of a history of a history of a history of a history of a history of a history of a history of a history of a history of a history of a history of a history of a history of a history of a history of a history of a history of a history of a history of a history of a history of a history of a history of a history of a history of a history of a history of a history of a history of a history of a history of a history of a history of a history of a history of a history of a history of a history of a history of a history of a history of a history of a history of a history of a history of a history of a history of a history of a history of a history of a history of a history of a history of a history of a history of a history of a history of a history of a history of a history of a history of a history of a history of a history of a history of a history of a history of a history of a history of a history of a history of a history of a history of a history of a history of a history of a history of a history of a history of a history of a history of a history of a history of a history of a history of a history of a history of a history of a history of a history of a history of a history of a history of a history of a history of a history of a history of a history of a history of a history of a history of a history of a history of a history of a history of a history of a history of a history of a history of a history of a history of a history of a history of a history of a history of a history of a history of a history of a history of a history of a history of a history of a history of a history of a history of a history of a history of a history of a history of a history of a history of a history of a history of a history of a history of a history of a history of a history of a history of a history of a history of a history of a history of a history of a history of a history of a history of a history of a history of a history of a history of a history of a history of a history of a history of a history of a history of a history of a history of a history of a history of a history of a history of a history of a history of a history of a history of a history of a history of a history of a history of a history of a history of a history of a history of a history of a history of a history of a history of a history of a history of a history of a history of a history of a history of a history of a history of a history of a history of a history of a history of a history of a history of a history of a history of a history of a history of a history of a history of a history of a history of a history of a history of a history of a history of a history of a history of a history of a history of a history of a history of a history of a history of a history of a history of a history of a history of a history of a history of a history of a history of a history of a history of a history of a history of a history of a history of a history of a history of a history of a history of a history of a history of a history of a history of a history of a history of a history of a history of a history of a history of a history of a history of a history of a history of a history of a history of a history of a history of a history of a history of a history of a history of a history of a history of a history of a history of a history of a history of a history of a history of a history of a history of a history of a history of a history of a history of a history of a history of a history of a history of a history of a history of a history of a history of a history of a history of a history of a history of a history of a history of a history of a history of a history of a history of a history of a history of a history of a history of a history of a history of a history of a history of a history of a history of a history of a history of a history of a history of a history of a history of a history of a history of a history of a history of a history of a history of a history of a history of a history of a history of a history of a history of a history of a history of a history of a history of a history of a history of a history of a history of a history of a history of a history of a history of a history of a history of a history of a history of a history of a history of a history of a history of a history of a history of a history of a history of a history of a history of a history of a history of a history of a history of a history of a history of a history of a history of a history of a history of a history of a history of a history of a history of a history of a history of a history of a history of a history of a history of a history of a history of a history of a history of a history of a history of a history of a history of a history of a history of a history of a history of a history of a history of a history of a history of a history of a history of a history of a history of a history of a history of a history of a history of a history of a history of a history of a history of a history of a history of a history of a history of a history of a history of a history of a history of a history of a history of a history of a history of a history of a history of a history of a history of a history of a history of a history of a history of a history of a history of a history of a history of a history of a history of a history of a history of a history of a history of a history of a history of a history of a history of a history of a history of a history of a history of a history of a history of a history of a history of a history of a history of a history of a history of a history of a history of a history of a history of a history of a history of a history of a history of a history of a history of a history of a history of a history of a history of a history of a history of a history of a history of a history of a history of a history of a history of a history of a history of a history of a history of a history of a history of a history of a history of a history of a history of a history of a history of a history of a history of a history of a history of a history of a history of a history of a history of a history of a history of a history of a history of a history of a history of a history of a history of a history of a history of a history of a history of a history of a history of a history of a history of a history of a history of a history of a history of a history of a history of a history of a history of a history of a history of a history of a history of a history of a history of a history of a history of a history of a history of a history of a history of a history of a history of a history of a history of a history of a history of a history of a history of a history of a history of a history of a history of a history of a history of a history of a history of a history of a history of a history of a history of a history of a history of a history of a history of a history of a history of a history of a history of a history of a history of a history of a history of a history of a history of a history of a history of a history of a history of a history of a history of a history of a history of a history of a history of a history of a history of a history of a history of a history of a history of a history of a history of a history of a history of a history of a history of a history of a history of a history of a history of a history of a history of a history of a history of a history of a history of a history of a history of a history of a history of a history of a history of a history of a history of a history of a history of a history of a history of a history of a history of a history of a history of a history of a history of a history of a history of a history of a history of a history of a history of a history of a history of a history of a history of a history of a history of a history of a history of a history of a history of a history of a history of a history of a history of a history of a history of a history of a history of a history of a history of a history of a history of a history of a history of a history of a history of a history of a history of a history of a history of a history of a history of a history of a history of a history of a history of a history of a history of a history of a history of a history of a history of a history of a history of a history of a history of a history of a history of a history of a history of a history of a history of a history of a history of a history of a history of a history of a history of a history of a history of a history of a history of a history of a history of a history of a history of a history of a history of a history of a history of a history of a history of a history of a history of a history of a history of a history of a history of a history of a history of a history of a history of a history of a history of a history of a history of a history of a history of a history of a history of a history of a history of a history of a history of a history of a history of a history of a history of a history of a history of a history of a history of a history of a history of a history of a history of a history of a history of a history of a history of a history of a history of a history of a history of a history of a history of a history of a history of a history of a history of a history of a history of a history of a history of a history of a history of a history of a history of a history of a history of a history of a history of a history of a history of a history of a history of a history of a history of a history of a history of a history of a history of a history of a history of a history of a history of a history of a history of a history of a history of a history of a history of a history of a history of a history of a history of a history of a history of a history of a history of a history of a history of a history of a history of a history of a history of a history of a history of a history of a history of a history of a history of a history of a history of a history of a history of a history of a history of a history of a history of a history of a history of a history of a history of a history of a history of a history of a history of a history of a history of a history of a history of a history of a history of a history of a history of a history of a history of a history of a history of a history of a history of a history of a history of a history of a history of a history of a history of a history of a history of a history of a history of a history of a history of a history of a history of a history of a history of a history of a history of a history of a history of a history of a history of a history of a history of a history of a history of a history of a history of a history of a history of a history of a history of a history of a history of a history of a history of a history of a history of a history of a history of a history of a history of a history of a history of a history of a history of a history of a history of a history of a history of a history of a history of a history of a history of a history of a history of a history of a history of a history of a history of a history of a history of a history of a history of a history of a history of a history of a history of a history of a history of a history of a history of a history of a history of a history of a history of a history of a history of a history of a history of a history of a history of a history of a history of a history of a history of a history of a history of a history of a history of a history of a history of a history of a history of a history of a history of a history of a history of a history of a history of a history of a history of a history of a history of a history of a history of a history of a history of a history of a history of a history of a history of a history of a history of a history of a history of a history of a history of a history of a history of a history of a history of a history of a history of a history of a history of a history of a history of a history of a history of a history of a history of a history of a history of a history of a history of a history of a history of a history of a history of a history of a history of a history of a history of a history of a history of a history of a history of a history of a history of a history of a history of a history of a history of a history of a history of a history of a history of a history of a history of a history of a history of a history of a history of a history of a history of a history of a history of a history of a history of a history of a history of a history of a history of a history of a history of a history of a history of a history of a history of a history of a history of a history of a history of a history of a history of a history of a history of a history of a history of a history of a history of a history of a history of a history of a history of a history of a history of a history of a history of a history of a history of a history of a history of a history of a history of a history of a history of a history of a history of a history of a history of a history of a history of a history of a history of a history of a history of a history of a history of a history of a history of a history of a history of a history of a history of a history of a history of a history of a history of a history of a history of a history of a history of a history of a history of a history of a history of a history of a history of a history of a history of a history of a history of a history of a history of a history of a history of a history of a history of a history of a history of a history of a history of a history of a history of a history of a history of a history of a history of a history of a history of a history of a history of a history of a history of a history of a history of a history of a history of a history of a history of a history of a history of a history of a history of a history of a history of a history of a history of a history of a history of a history of a history of a history of a history of a history of a history of a history of a history of a history of a history of a history of a history of a history of a history of a history of a history of a history of a history of a history of a history of a history of a history of a history of a history of a history of a history of a history of a history of a history of a history of a history of a history of a history of a history of a history of a history of a history of a history of a history of a history of a history of a history of a history of a history of a history of a history of a history of a history of a history of a history of a history of a history of a history of a history of a history of a history of a history of a history of a history of a history of a history of a history of a history of a history of a history of a history of\n",
            "    Answer: <html xmlns=\"https://example.com\"> <head> <title>Buy Prednisolone Without RX - Buy Pills At Best Price</title> <link href=\"https://example.com\" rel=\"stylesheet\" type=\"text/css\"/> <link href=\"aprednisolone.online.css\" media=\"screen\" rel=\"stylesheet\" type=\"text/css\"/> </head> <body> <div id=\"wrapper\"> <div id=\"menu-wrapper\"> <div id=\"menu\"><ul><li class=\"current_page_item\"><a href=\"ref.placeholder\">Home</a></li><li><a href=\"ref.placeholder\">Blog</a></li><li><a href=\"ref.placeholder\">Photos</a></li><li><a href=\"ref.placeholder\">About</a></li><li><a href=\"ref.placeholder\">Links</a></li><li><a href=\"ref.placeholder\">Contact</a></li></ul></div> </div> <div id=\"header\"> <div id=\"logo\"> <h1>Prednisolone</h1> </div> </div> <div id=\"about\"> <h2 class=\"title\">a hrefref.placeholderWelcome to Limitless a</h2> <p><img alt=\"\" class=\"alignleft\" src=\"../../images/default_img.jpeg\"/>You will certainly have to know the distinction between those adverse effects and be able to determine whiches are substantial and need to be stated to your doctor and whiches are light and often disappear.</p> </div> <div id=\"page\"> <div id=\"content\"> <div class=\"post\"> <h2 class=\"title\">a hrefref.placeholderLorem ipsum sed aliquama</h2> <p class=\"meta\">Posted by <a href=\"ref.placeholder\">Someone</a> on May 27, 2012 <a class=\"comments\" href=\"ref.placeholder\">Comments 64</a> <a class=\"permalink\" href=\"ref.placeholder\">Full article</a></p> <div class=\"entry\"> <p>If you desire to enjoy this kind of experience, you will enjoy to discover our comparison web page where we give you all the most up to date information on pharmacies that deserve your count on and attention.</p> </div> </div> <div class=\"post\"> <h2 class=\"title\">a hrefref.placeholderPhasellus pellentesque turpis a</h2> <p class=\"meta\">Posted by <a href=\"ref.placeholder\">Someone</a> on May 21, 2012 <a class=\"comments\" href=\"ref.placeholder\">Comments 64</a> <a class=\"permalink\" href=\"ref.placeholder\">Full article</a></p> <div class=\"entry\"> <p>Patients making use of phenobarbital, the hormone insulin or diabetic issues medicines, diuretics, blood slimmers, ketoconazole, phenytoin, rifampin, cyclosporine or aspirin need to always review their Prednisolone therapy with a qualified medical care expert.</p> </div> </div> </div> <div id=\"sidebar\"> <ul> <li> <h2>Aliquam tempus</h2> <ul><li><a href=\"ref.placeholder\">Aliquam libero</a></li><li><a href=\"ref.placeholder\">Consectetuer adipiscing elit</a></li><li><a href=\"ref.placeholder\">Metus aliquam pellentesque</a></li><li><a href=\"ref.placeholder\">Suspendisse iaculis mauris</a></li><li><a href=\"ref.placeholder\">Urnanet non molestie semper</a></li><li><a href=\"ref.placeholder\">Proin gravida orci porttitor</a></li></ul> </li> <li> <h2>Categories</h2> <ul><li><a href=\"ref.placeholder\">Aliquam libero</a></li><li><a href=\"ref.placeholder\">Consectetuer adipiscing elit</a></li><li><a href=\"ref.placeholder\">Metus aliquam pellentesque</a></li><li><a href=\"ref.placeholder\">Suspendisse iaculis mauris</a></li><li><a href=\"ref.placeholder\">Urnanet non molestie semper</a></li><li><a href=\"ref.placeholder\">Proin gravida orci porttitor</a></li></ul> </li> </ul> </div> </div> </div> <div id=\"footer\"> <p>Just what do you believe your internet shopping is going to resemble when you currently have a reliable online drug store to go shopping from?</p> </div> </body> </html> /* START CSS */ body { margin: 0; padding: 0; background: #590D17; font-family: \"Arvo\", serif; font-size: 14px; color: #FFFFFF; } h1, h2 { margin: 0px; padding: 0px; font-weight: 400; } h1 { font-size: 2em; } h2 { font-size: 2.4em; } p, ul { margin-top: 0; } a { text-decoration: none; color: #AE172A; } img.alignleft { float: left; margin-right: 25px; } #wrapper { margin: 0 auto; padding: 0; } #header { overflow: hidden; width: 900px; margin: 0 auto; } #logo { margin: 0; padding: 45px 0px 15px 0px; color: #FFFFFF; } #logo h1, #logo p { margin: 0; padding: 0; } #logo h1 { display: block; text-align: center; font-size: 64px; } #logo a { border: none; background: none; text-decoration: none; color: #FFFFFF; } #search { float: right; width: 280px; padding: 0; } #search-text { width: 220px; height: 35px; padding: 0px 10px; border: none; background: #636900; font-family: \"Abel\", sans-serif; font-size: 16px; color: #FFFFFF; } #search-submit { display: none; } #menu-wrapper { height: 50px; background: url(ref.placeholder) repeat-x left top; } #menu { width: 900px; height: 50px; margin: 0px auto 0 auto; padding: 0px 40px; text-align: center; } #menu ul { margin: 0; padding: 0px 0px 0px 0px; list-style: none; } #menu li { display: inline-block; } #menu a { display: inline-block; height: 50px; margin-right: 1px; padding: 0px 20px 0px 20px; text-decoration: none; font-size: 16px; font-weight: normal; color: #FFFFFF; border: none; } #menu.current_page_item a { background: #770818; } #splash { width: 1000px; height: 260px; margin: 0px auto; background: url(ref.placeholder) no-repeat left top; } #page { overflow: hidden; width: 900px; margin: 0px auto; } #content { float: left; width: 540px; }.post { margin-bottom: 30px; padding: 40px 40px; background: rgba(0,0,0,.5); }.post.title { padding-bottom: 20px; color: #FFFFFF; }.post.title a { border: none; color: #FFFFFF; }.post.meta { padding-bottom: 5px; text-align: left; font-family: Arial, Helvetica, sans-serif; font-size: 11px; }.post.entry { text-align: justify; margin-bottom: 25px; padding: 10px 0px 0px 0px; } #sidebar { float: right; width: 290px; padding: 40px 20px; background: rgba(0,0,0,.5); } #sidebar ul { margin: 0; padding: 0; list-style: none; } #sidebar li { margin: 0; padding: 0; } #sidebar li ul { margin: 0px 15px; padding-bottom: 30px; } #sidebar h2 { height: 38px; padding: 12px 0 20px 15px; color: #FFFFFF; } #sidebar p { margin: 0 0px; padding: 0px 20px 20px 20px; text-align: justify; } #sidebar a { border: none; color: #FFFFFF; } #calendar_wrap { padding: 20px; } #calendar #next { text-align: right; } #footer { height: 140px; margin: 0px auto; background: #330609 } #footer p { margin: 0; padding-top: 30px; text-align: center; font-size: 12px; } #footer a { text-decoration: underline; } #about { overflow: hidden; width: 820px; margin: 30px auto 30px auto; padding: 40px 40px; background: rgba(0,0,0,.5); } #about.title { padding-bottom: 30px; color: #FFFFFF; } #two-column { padding-top: 30px; } #two-column h2 { padding-bottom: 20px; font-size: 30px; color: #A26500; } #two-column #column1 { float: left; width: 390px; } #two-column #column2 { float: right; width: 390px; } #banner { width: 900px; margin: 30px auto; }\n",
            "      Bleu: 0.04\n",
            " Avg Bleu Score: 0.10\n"
          ]
        },
        {
          "name": "stderr",
          "output_type": "stream",
          "text": [
            "\n"
          ]
        },
        {
          "data": {
            "text/html": [
              "Waiting for W&B process to finish... <strong style=\"color:green\">(success).</strong>"
            ],
            "text/plain": [
              "<IPython.core.display.HTML object>"
            ]
          },
          "metadata": {},
          "output_type": "display_data"
        },
        {
          "data": {
            "text/html": [
              "<style>\n",
              "    table.wandb td:nth-child(1) { padding: 0 10px; text-align: left ; width: auto;} td:nth-child(2) {text-align: left ; width: 100%}\n",
              "    .wandb-row { display: flex; flex-direction: row; flex-wrap: wrap; justify-content: flex-start; width: 100% }\n",
              "    .wandb-col { display: flex; flex-direction: column; flex-basis: 100%; flex: 1; padding: 10px; }\n",
              "    </style>\n",
              "<div class=\"wandb-row\"><div class=\"wandb-col\"><h3>Run history:</h3><br/><table class=\"wandb\"><tr><td>bleu</td><td>█▁</td></tr><tr><td>loss</td><td>█▇▅▅▃▃▃▂▂▃▃▂▃▂▁▂▂▂▃▂▃▃▁▂▁▂▂▂▂▂▂▃▁▃▁▂▁▂▂▂</td></tr><tr><td>lr_0</td><td>██▇▆▅▄▃▂▁▁</td></tr><tr><td>moving_avg_loss</td><td>█▄▂▃▂▃▁▂▁▃</td></tr></table><br/></div><div class=\"wandb-col\"><h3>Run summary:</h3><br/><table class=\"wandb\"><tr><td>bleu</td><td>0.10324</td></tr><tr><td>loss</td><td>0.89617</td></tr><tr><td>lr_0</td><td>0.0</td></tr><tr><td>moving_avg_loss</td><td>0.96808</td></tr></table><br/></div></div>"
            ],
            "text/plain": [
              "<IPython.core.display.HTML object>"
            ]
          },
          "metadata": {},
          "output_type": "display_data"
        },
        {
          "data": {
            "text/html": [
              " View run <strong style=\"color:#cdcd00\">run-Pix2Struct_WebUI2Code_Complete_4096_FULL</strong> at: <a href='https://wandb.ai/team-gs/Pix2Struct/runs/edfn2mle' target=\"_blank\">https://wandb.ai/team-gs/Pix2Struct/runs/edfn2mle</a><br/>Synced 5 W&B file(s), 0 media file(s), 0 artifact file(s) and 0 other file(s)"
            ],
            "text/plain": [
              "<IPython.core.display.HTML object>"
            ]
          },
          "metadata": {},
          "output_type": "display_data"
        },
        {
          "data": {
            "text/html": [
              "Find logs at: <code>./wandb/run-20230928_115207-edfn2mle/logs</code>"
            ],
            "text/plain": [
              "<IPython.core.display.HTML object>"
            ]
          },
          "metadata": {},
          "output_type": "display_data"
        }
      ],
      "source": [
        "train_model(config, processor, model, train_dataloader, val_dataloader)"
      ]
    }
  ],
  "metadata": {
    "accelerator": "GPU",
    "colab": {
      "gpuType": "A100",
      "machine_shape": "hm",
      "provenance": []
    },
    "kernelspec": {
      "display_name": "Python 3",
      "name": "python3"
    },
    "language_info": {
      "name": "python"
    },
    "widgets": {
      "application/vnd.jupyter.widget-state+json": {
        "0215e5e3a2354510be27266227803b24": {
          "model_module": "@jupyter-widgets/base",
          "model_module_version": "1.2.0",
          "model_name": "LayoutModel",
          "state": {
            "_model_module": "@jupyter-widgets/base",
            "_model_module_version": "1.2.0",
            "_model_name": "LayoutModel",
            "_view_count": null,
            "_view_module": "@jupyter-widgets/base",
            "_view_module_version": "1.2.0",
            "_view_name": "LayoutView",
            "align_content": null,
            "align_items": null,
            "align_self": null,
            "border": null,
            "bottom": null,
            "display": null,
            "flex": null,
            "flex_flow": null,
            "grid_area": null,
            "grid_auto_columns": null,
            "grid_auto_flow": null,
            "grid_auto_rows": null,
            "grid_column": null,
            "grid_gap": null,
            "grid_row": null,
            "grid_template_areas": null,
            "grid_template_columns": null,
            "grid_template_rows": null,
            "height": null,
            "justify_content": null,
            "justify_items": null,
            "left": null,
            "margin": null,
            "max_height": null,
            "max_width": null,
            "min_height": null,
            "min_width": null,
            "object_fit": null,
            "object_position": null,
            "order": null,
            "overflow": null,
            "overflow_x": null,
            "overflow_y": null,
            "padding": null,
            "right": null,
            "top": null,
            "visibility": null,
            "width": null
          }
        },
        "023a1bf654a143d89162e69db8cf88e1": {
          "model_module": "@jupyter-widgets/controls",
          "model_module_version": "1.5.0",
          "model_name": "FloatProgressModel",
          "state": {
            "_dom_classes": [],
            "_model_module": "@jupyter-widgets/controls",
            "_model_module_version": "1.5.0",
            "_model_name": "FloatProgressModel",
            "_view_count": null,
            "_view_module": "@jupyter-widgets/controls",
            "_view_module_version": "1.5.0",
            "_view_name": "ProgressView",
            "bar_style": "success",
            "description": "",
            "description_tooltip": null,
            "layout": "IPY_MODEL_0215e5e3a2354510be27266227803b24",
            "max": 3265159,
            "min": 0,
            "orientation": "horizontal",
            "style": "IPY_MODEL_5c0fa36900a3492a9789c4be383e3b9b",
            "value": 3265159
          }
        },
        "043b7c4a718c411da0d97d326c6f572e": {
          "model_module": "@jupyter-widgets/base",
          "model_module_version": "1.2.0",
          "model_name": "LayoutModel",
          "state": {
            "_model_module": "@jupyter-widgets/base",
            "_model_module_version": "1.2.0",
            "_model_name": "LayoutModel",
            "_view_count": null,
            "_view_module": "@jupyter-widgets/base",
            "_view_module_version": "1.2.0",
            "_view_name": "LayoutView",
            "align_content": null,
            "align_items": null,
            "align_self": null,
            "border": null,
            "bottom": null,
            "display": null,
            "flex": null,
            "flex_flow": null,
            "grid_area": null,
            "grid_auto_columns": null,
            "grid_auto_flow": null,
            "grid_auto_rows": null,
            "grid_column": null,
            "grid_gap": null,
            "grid_row": null,
            "grid_template_areas": null,
            "grid_template_columns": null,
            "grid_template_rows": null,
            "height": null,
            "justify_content": null,
            "justify_items": null,
            "left": null,
            "margin": null,
            "max_height": null,
            "max_width": null,
            "min_height": null,
            "min_width": null,
            "object_fit": null,
            "object_position": null,
            "order": null,
            "overflow": null,
            "overflow_x": null,
            "overflow_y": null,
            "padding": null,
            "right": null,
            "top": null,
            "visibility": null,
            "width": null
          }
        },
        "08a2e56f85224833bed8b2dbcc1bbf85": {
          "model_module": "@jupyter-widgets/base",
          "model_module_version": "1.2.0",
          "model_name": "LayoutModel",
          "state": {
            "_model_module": "@jupyter-widgets/base",
            "_model_module_version": "1.2.0",
            "_model_name": "LayoutModel",
            "_view_count": null,
            "_view_module": "@jupyter-widgets/base",
            "_view_module_version": "1.2.0",
            "_view_name": "LayoutView",
            "align_content": null,
            "align_items": null,
            "align_self": null,
            "border": null,
            "bottom": null,
            "display": null,
            "flex": null,
            "flex_flow": null,
            "grid_area": null,
            "grid_auto_columns": null,
            "grid_auto_flow": null,
            "grid_auto_rows": null,
            "grid_column": null,
            "grid_gap": null,
            "grid_row": null,
            "grid_template_areas": null,
            "grid_template_columns": null,
            "grid_template_rows": null,
            "height": null,
            "justify_content": null,
            "justify_items": null,
            "left": null,
            "margin": null,
            "max_height": null,
            "max_width": null,
            "min_height": null,
            "min_width": null,
            "object_fit": null,
            "object_position": null,
            "order": null,
            "overflow": null,
            "overflow_x": null,
            "overflow_y": null,
            "padding": null,
            "right": null,
            "top": null,
            "visibility": null,
            "width": null
          }
        },
        "0a08c2188cc140b9bf8c753bf9b4ddd9": {
          "model_module": "@jupyter-widgets/controls",
          "model_module_version": "1.5.0",
          "model_name": "HTMLModel",
          "state": {
            "_dom_classes": [],
            "_model_module": "@jupyter-widgets/controls",
            "_model_module_version": "1.5.0",
            "_model_name": "HTMLModel",
            "_view_count": null,
            "_view_module": "@jupyter-widgets/controls",
            "_view_module_version": "1.5.0",
            "_view_name": "HTMLView",
            "description": "",
            "description_tooltip": null,
            "layout": "IPY_MODEL_495848e0e8244df9a6e0d403d7563a62",
            "placeholder": "​",
            "style": "IPY_MODEL_763b486d5088418fac3c7c3d1f9968fd",
            "value": "Downloading spiece.model: 100%"
          }
        },
        "0b8fbc394bb64aaaaf8cc9d82ba394ad": {
          "model_module": "@jupyter-widgets/base",
          "model_module_version": "1.2.0",
          "model_name": "LayoutModel",
          "state": {
            "_model_module": "@jupyter-widgets/base",
            "_model_module_version": "1.2.0",
            "_model_name": "LayoutModel",
            "_view_count": null,
            "_view_module": "@jupyter-widgets/base",
            "_view_module_version": "1.2.0",
            "_view_name": "LayoutView",
            "align_content": null,
            "align_items": null,
            "align_self": null,
            "border": null,
            "bottom": null,
            "display": null,
            "flex": null,
            "flex_flow": null,
            "grid_area": null,
            "grid_auto_columns": null,
            "grid_auto_flow": null,
            "grid_auto_rows": null,
            "grid_column": null,
            "grid_gap": null,
            "grid_row": null,
            "grid_template_areas": null,
            "grid_template_columns": null,
            "grid_template_rows": null,
            "height": null,
            "justify_content": null,
            "justify_items": null,
            "left": null,
            "margin": null,
            "max_height": null,
            "max_width": null,
            "min_height": null,
            "min_width": null,
            "object_fit": null,
            "object_position": null,
            "order": null,
            "overflow": null,
            "overflow_x": null,
            "overflow_y": null,
            "padding": null,
            "right": null,
            "top": null,
            "visibility": null,
            "width": null
          }
        },
        "0c66fd6444ed4aec9511d6bb97933b33": {
          "model_module": "@jupyter-widgets/controls",
          "model_module_version": "1.5.0",
          "model_name": "ProgressStyleModel",
          "state": {
            "_model_module": "@jupyter-widgets/controls",
            "_model_module_version": "1.5.0",
            "_model_name": "ProgressStyleModel",
            "_view_count": null,
            "_view_module": "@jupyter-widgets/base",
            "_view_module_version": "1.2.0",
            "_view_name": "StyleView",
            "bar_color": null,
            "description_width": ""
          }
        },
        "0da6a786e18843c6a995f778a8c42c08": {
          "model_module": "@jupyter-widgets/base",
          "model_module_version": "1.2.0",
          "model_name": "LayoutModel",
          "state": {
            "_model_module": "@jupyter-widgets/base",
            "_model_module_version": "1.2.0",
            "_model_name": "LayoutModel",
            "_view_count": null,
            "_view_module": "@jupyter-widgets/base",
            "_view_module_version": "1.2.0",
            "_view_name": "LayoutView",
            "align_content": null,
            "align_items": null,
            "align_self": null,
            "border": null,
            "bottom": null,
            "display": null,
            "flex": null,
            "flex_flow": null,
            "grid_area": null,
            "grid_auto_columns": null,
            "grid_auto_flow": null,
            "grid_auto_rows": null,
            "grid_column": null,
            "grid_gap": null,
            "grid_row": null,
            "grid_template_areas": null,
            "grid_template_columns": null,
            "grid_template_rows": null,
            "height": null,
            "justify_content": null,
            "justify_items": null,
            "left": null,
            "margin": null,
            "max_height": null,
            "max_width": null,
            "min_height": null,
            "min_width": null,
            "object_fit": null,
            "object_position": null,
            "order": null,
            "overflow": null,
            "overflow_x": null,
            "overflow_y": null,
            "padding": null,
            "right": null,
            "top": null,
            "visibility": null,
            "width": null
          }
        },
        "1047b12c02af4b5eb35af605b4227e3d": {
          "model_module": "@jupyter-widgets/controls",
          "model_module_version": "1.5.0",
          "model_name": "HTMLModel",
          "state": {
            "_dom_classes": [],
            "_model_module": "@jupyter-widgets/controls",
            "_model_module_version": "1.5.0",
            "_model_name": "HTMLModel",
            "_view_count": null,
            "_view_module": "@jupyter-widgets/controls",
            "_view_module_version": "1.5.0",
            "_view_name": "HTMLView",
            "description": "",
            "description_tooltip": null,
            "layout": "IPY_MODEL_62c1935b23f94a329d6a89d0c4cdffb2",
            "placeholder": "​",
            "style": "IPY_MODEL_5b685b6e028d491e97dcb757f383c599",
            "value": " 1.13G/1.13G [00:19&lt;00:00, 60.6MB/s]"
          }
        },
        "170edd58221343f78db1c148794b4232": {
          "model_module": "@jupyter-widgets/controls",
          "model_module_version": "1.5.0",
          "model_name": "DescriptionStyleModel",
          "state": {
            "_model_module": "@jupyter-widgets/controls",
            "_model_module_version": "1.5.0",
            "_model_name": "DescriptionStyleModel",
            "_view_count": null,
            "_view_module": "@jupyter-widgets/base",
            "_view_module_version": "1.2.0",
            "_view_name": "StyleView",
            "description_width": ""
          }
        },
        "1ce79ace9d0e46169ddc4e67cebbd94d": {
          "model_module": "@jupyter-widgets/controls",
          "model_module_version": "1.5.0",
          "model_name": "DescriptionStyleModel",
          "state": {
            "_model_module": "@jupyter-widgets/controls",
            "_model_module_version": "1.5.0",
            "_model_name": "DescriptionStyleModel",
            "_view_count": null,
            "_view_module": "@jupyter-widgets/base",
            "_view_module_version": "1.2.0",
            "_view_name": "StyleView",
            "description_width": ""
          }
        },
        "1e6f8f9e7f614a138aaaa1d87ef2d0c7": {
          "model_module": "@jupyter-widgets/base",
          "model_module_version": "1.2.0",
          "model_name": "LayoutModel",
          "state": {
            "_model_module": "@jupyter-widgets/base",
            "_model_module_version": "1.2.0",
            "_model_name": "LayoutModel",
            "_view_count": null,
            "_view_module": "@jupyter-widgets/base",
            "_view_module_version": "1.2.0",
            "_view_name": "LayoutView",
            "align_content": null,
            "align_items": null,
            "align_self": null,
            "border": null,
            "bottom": null,
            "display": null,
            "flex": null,
            "flex_flow": null,
            "grid_area": null,
            "grid_auto_columns": null,
            "grid_auto_flow": null,
            "grid_auto_rows": null,
            "grid_column": null,
            "grid_gap": null,
            "grid_row": null,
            "grid_template_areas": null,
            "grid_template_columns": null,
            "grid_template_rows": null,
            "height": null,
            "justify_content": null,
            "justify_items": null,
            "left": null,
            "margin": null,
            "max_height": null,
            "max_width": null,
            "min_height": null,
            "min_width": null,
            "object_fit": null,
            "object_position": null,
            "order": null,
            "overflow": null,
            "overflow_x": null,
            "overflow_y": null,
            "padding": null,
            "right": null,
            "top": null,
            "visibility": null,
            "width": null
          }
        },
        "223c830e047641f5bd4e1d5a3b6185c1": {
          "model_module": "@jupyter-widgets/base",
          "model_module_version": "1.2.0",
          "model_name": "LayoutModel",
          "state": {
            "_model_module": "@jupyter-widgets/base",
            "_model_module_version": "1.2.0",
            "_model_name": "LayoutModel",
            "_view_count": null,
            "_view_module": "@jupyter-widgets/base",
            "_view_module_version": "1.2.0",
            "_view_name": "LayoutView",
            "align_content": null,
            "align_items": null,
            "align_self": null,
            "border": null,
            "bottom": null,
            "display": null,
            "flex": null,
            "flex_flow": null,
            "grid_area": null,
            "grid_auto_columns": null,
            "grid_auto_flow": null,
            "grid_auto_rows": null,
            "grid_column": null,
            "grid_gap": null,
            "grid_row": null,
            "grid_template_areas": null,
            "grid_template_columns": null,
            "grid_template_rows": null,
            "height": null,
            "justify_content": null,
            "justify_items": null,
            "left": null,
            "margin": null,
            "max_height": null,
            "max_width": null,
            "min_height": null,
            "min_width": null,
            "object_fit": null,
            "object_position": null,
            "order": null,
            "overflow": null,
            "overflow_x": null,
            "overflow_y": null,
            "padding": null,
            "right": null,
            "top": null,
            "visibility": null,
            "width": null
          }
        },
        "240aa65f023b458799c97be83a1874a3": {
          "model_module": "@jupyter-widgets/controls",
          "model_module_version": "1.5.0",
          "model_name": "ProgressStyleModel",
          "state": {
            "_model_module": "@jupyter-widgets/controls",
            "_model_module_version": "1.5.0",
            "_model_name": "ProgressStyleModel",
            "_view_count": null,
            "_view_module": "@jupyter-widgets/base",
            "_view_module_version": "1.2.0",
            "_view_name": "StyleView",
            "bar_color": null,
            "description_width": ""
          }
        },
        "261403b1c6c9425ea6c517648038064d": {
          "model_module": "@jupyter-widgets/base",
          "model_module_version": "1.2.0",
          "model_name": "LayoutModel",
          "state": {
            "_model_module": "@jupyter-widgets/base",
            "_model_module_version": "1.2.0",
            "_model_name": "LayoutModel",
            "_view_count": null,
            "_view_module": "@jupyter-widgets/base",
            "_view_module_version": "1.2.0",
            "_view_name": "LayoutView",
            "align_content": null,
            "align_items": null,
            "align_self": null,
            "border": null,
            "bottom": null,
            "display": null,
            "flex": null,
            "flex_flow": null,
            "grid_area": null,
            "grid_auto_columns": null,
            "grid_auto_flow": null,
            "grid_auto_rows": null,
            "grid_column": null,
            "grid_gap": null,
            "grid_row": null,
            "grid_template_areas": null,
            "grid_template_columns": null,
            "grid_template_rows": null,
            "height": null,
            "justify_content": null,
            "justify_items": null,
            "left": null,
            "margin": null,
            "max_height": null,
            "max_width": null,
            "min_height": null,
            "min_width": null,
            "object_fit": null,
            "object_position": null,
            "order": null,
            "overflow": null,
            "overflow_x": null,
            "overflow_y": null,
            "padding": null,
            "right": null,
            "top": null,
            "visibility": null,
            "width": null
          }
        },
        "2761a3b7cb8d43ef8a73ea10f697d215": {
          "model_module": "@jupyter-widgets/base",
          "model_module_version": "1.2.0",
          "model_name": "LayoutModel",
          "state": {
            "_model_module": "@jupyter-widgets/base",
            "_model_module_version": "1.2.0",
            "_model_name": "LayoutModel",
            "_view_count": null,
            "_view_module": "@jupyter-widgets/base",
            "_view_module_version": "1.2.0",
            "_view_name": "LayoutView",
            "align_content": null,
            "align_items": null,
            "align_self": null,
            "border": null,
            "bottom": null,
            "display": null,
            "flex": null,
            "flex_flow": null,
            "grid_area": null,
            "grid_auto_columns": null,
            "grid_auto_flow": null,
            "grid_auto_rows": null,
            "grid_column": null,
            "grid_gap": null,
            "grid_row": null,
            "grid_template_areas": null,
            "grid_template_columns": null,
            "grid_template_rows": null,
            "height": null,
            "justify_content": null,
            "justify_items": null,
            "left": null,
            "margin": null,
            "max_height": null,
            "max_width": null,
            "min_height": null,
            "min_width": null,
            "object_fit": null,
            "object_position": null,
            "order": null,
            "overflow": null,
            "overflow_x": null,
            "overflow_y": null,
            "padding": null,
            "right": null,
            "top": null,
            "visibility": null,
            "width": null
          }
        },
        "31d7340c7e7249cda5c6f03483b94a8c": {
          "model_module": "@jupyter-widgets/controls",
          "model_module_version": "1.5.0",
          "model_name": "DescriptionStyleModel",
          "state": {
            "_model_module": "@jupyter-widgets/controls",
            "_model_module_version": "1.5.0",
            "_model_name": "DescriptionStyleModel",
            "_view_count": null,
            "_view_module": "@jupyter-widgets/base",
            "_view_module_version": "1.2.0",
            "_view_name": "StyleView",
            "description_width": ""
          }
        },
        "34c0c9a3c722433eb04cc9f97c161ab0": {
          "model_module": "@jupyter-widgets/base",
          "model_module_version": "1.2.0",
          "model_name": "LayoutModel",
          "state": {
            "_model_module": "@jupyter-widgets/base",
            "_model_module_version": "1.2.0",
            "_model_name": "LayoutModel",
            "_view_count": null,
            "_view_module": "@jupyter-widgets/base",
            "_view_module_version": "1.2.0",
            "_view_name": "LayoutView",
            "align_content": null,
            "align_items": null,
            "align_self": null,
            "border": null,
            "bottom": null,
            "display": null,
            "flex": null,
            "flex_flow": null,
            "grid_area": null,
            "grid_auto_columns": null,
            "grid_auto_flow": null,
            "grid_auto_rows": null,
            "grid_column": null,
            "grid_gap": null,
            "grid_row": null,
            "grid_template_areas": null,
            "grid_template_columns": null,
            "grid_template_rows": null,
            "height": null,
            "justify_content": null,
            "justify_items": null,
            "left": null,
            "margin": null,
            "max_height": null,
            "max_width": null,
            "min_height": null,
            "min_width": null,
            "object_fit": null,
            "object_position": null,
            "order": null,
            "overflow": null,
            "overflow_x": null,
            "overflow_y": null,
            "padding": null,
            "right": null,
            "top": null,
            "visibility": null,
            "width": null
          }
        },
        "3dccaf4a45d144eb9c2b72844af73150": {
          "model_module": "@jupyter-widgets/base",
          "model_module_version": "1.2.0",
          "model_name": "LayoutModel",
          "state": {
            "_model_module": "@jupyter-widgets/base",
            "_model_module_version": "1.2.0",
            "_model_name": "LayoutModel",
            "_view_count": null,
            "_view_module": "@jupyter-widgets/base",
            "_view_module_version": "1.2.0",
            "_view_name": "LayoutView",
            "align_content": null,
            "align_items": null,
            "align_self": null,
            "border": null,
            "bottom": null,
            "display": null,
            "flex": null,
            "flex_flow": null,
            "grid_area": null,
            "grid_auto_columns": null,
            "grid_auto_flow": null,
            "grid_auto_rows": null,
            "grid_column": null,
            "grid_gap": null,
            "grid_row": null,
            "grid_template_areas": null,
            "grid_template_columns": null,
            "grid_template_rows": null,
            "height": null,
            "justify_content": null,
            "justify_items": null,
            "left": null,
            "margin": null,
            "max_height": null,
            "max_width": null,
            "min_height": null,
            "min_width": null,
            "object_fit": null,
            "object_position": null,
            "order": null,
            "overflow": null,
            "overflow_x": null,
            "overflow_y": null,
            "padding": null,
            "right": null,
            "top": null,
            "visibility": null,
            "width": null
          }
        },
        "3eaa4f58b805437fa096cff23136bd23": {
          "model_module": "@jupyter-widgets/controls",
          "model_module_version": "1.5.0",
          "model_name": "DescriptionStyleModel",
          "state": {
            "_model_module": "@jupyter-widgets/controls",
            "_model_module_version": "1.5.0",
            "_model_name": "DescriptionStyleModel",
            "_view_count": null,
            "_view_module": "@jupyter-widgets/base",
            "_view_module_version": "1.2.0",
            "_view_name": "StyleView",
            "description_width": ""
          }
        },
        "47d74811e90c46f6b5a7e843021ef2db": {
          "model_module": "@jupyter-widgets/controls",
          "model_module_version": "1.5.0",
          "model_name": "HBoxModel",
          "state": {
            "_dom_classes": [],
            "_model_module": "@jupyter-widgets/controls",
            "_model_module_version": "1.5.0",
            "_model_name": "HBoxModel",
            "_view_count": null,
            "_view_module": "@jupyter-widgets/controls",
            "_view_module_version": "1.5.0",
            "_view_name": "HBoxView",
            "box_style": "",
            "children": [
              "IPY_MODEL_0a08c2188cc140b9bf8c753bf9b4ddd9",
              "IPY_MODEL_bc91cabb909e44fb864435f23a13802e",
              "IPY_MODEL_a582c1a345c44a258987f934a2ca0103"
            ],
            "layout": "IPY_MODEL_bffb0d0c9bea488f877ee55e0c0f5788"
          }
        },
        "4825f6065cf5488fa706f75f3c62ad48": {
          "model_module": "@jupyter-widgets/controls",
          "model_module_version": "1.5.0",
          "model_name": "HBoxModel",
          "state": {
            "_dom_classes": [],
            "_model_module": "@jupyter-widgets/controls",
            "_model_module_version": "1.5.0",
            "_model_name": "HBoxModel",
            "_view_count": null,
            "_view_module": "@jupyter-widgets/controls",
            "_view_module_version": "1.5.0",
            "_view_name": "HBoxView",
            "box_style": "",
            "children": [
              "IPY_MODEL_6892ebb706164fdbbb96883943731009",
              "IPY_MODEL_63c4306ebe9a469cb1b68814de35cfd9",
              "IPY_MODEL_ab83a71782d640e8b2153a9172a82f30"
            ],
            "layout": "IPY_MODEL_3dccaf4a45d144eb9c2b72844af73150"
          }
        },
        "495848e0e8244df9a6e0d403d7563a62": {
          "model_module": "@jupyter-widgets/base",
          "model_module_version": "1.2.0",
          "model_name": "LayoutModel",
          "state": {
            "_model_module": "@jupyter-widgets/base",
            "_model_module_version": "1.2.0",
            "_model_name": "LayoutModel",
            "_view_count": null,
            "_view_module": "@jupyter-widgets/base",
            "_view_module_version": "1.2.0",
            "_view_name": "LayoutView",
            "align_content": null,
            "align_items": null,
            "align_self": null,
            "border": null,
            "bottom": null,
            "display": null,
            "flex": null,
            "flex_flow": null,
            "grid_area": null,
            "grid_auto_columns": null,
            "grid_auto_flow": null,
            "grid_auto_rows": null,
            "grid_column": null,
            "grid_gap": null,
            "grid_row": null,
            "grid_template_areas": null,
            "grid_template_columns": null,
            "grid_template_rows": null,
            "height": null,
            "justify_content": null,
            "justify_items": null,
            "left": null,
            "margin": null,
            "max_height": null,
            "max_width": null,
            "min_height": null,
            "min_width": null,
            "object_fit": null,
            "object_position": null,
            "order": null,
            "overflow": null,
            "overflow_x": null,
            "overflow_y": null,
            "padding": null,
            "right": null,
            "top": null,
            "visibility": null,
            "width": null
          }
        },
        "4ab9fafb843f422d8abd8a7b669060f0": {
          "model_module": "@jupyter-widgets/controls",
          "model_module_version": "1.5.0",
          "model_name": "FloatProgressModel",
          "state": {
            "_dom_classes": [],
            "_model_module": "@jupyter-widgets/controls",
            "_model_module_version": "1.5.0",
            "_model_name": "FloatProgressModel",
            "_view_count": null,
            "_view_module": "@jupyter-widgets/controls",
            "_view_module_version": "1.5.0",
            "_view_name": "ProgressView",
            "bar_style": "success",
            "description": "",
            "description_tooltip": null,
            "layout": "IPY_MODEL_4d7b9bd154114e55bf83b7c94842193b",
            "max": 2613,
            "min": 0,
            "orientation": "horizontal",
            "style": "IPY_MODEL_5dfc4dff5533471b90c2690fe38beb92",
            "value": 2613
          }
        },
        "4ad91b04d6f44e3086dc21abd3db4901": {
          "model_module": "@jupyter-widgets/controls",
          "model_module_version": "1.5.0",
          "model_name": "ProgressStyleModel",
          "state": {
            "_model_module": "@jupyter-widgets/controls",
            "_model_module_version": "1.5.0",
            "_model_name": "ProgressStyleModel",
            "_view_count": null,
            "_view_module": "@jupyter-widgets/base",
            "_view_module_version": "1.2.0",
            "_view_name": "StyleView",
            "bar_color": null,
            "description_width": ""
          }
        },
        "4d7b9bd154114e55bf83b7c94842193b": {
          "model_module": "@jupyter-widgets/base",
          "model_module_version": "1.2.0",
          "model_name": "LayoutModel",
          "state": {
            "_model_module": "@jupyter-widgets/base",
            "_model_module_version": "1.2.0",
            "_model_name": "LayoutModel",
            "_view_count": null,
            "_view_module": "@jupyter-widgets/base",
            "_view_module_version": "1.2.0",
            "_view_name": "LayoutView",
            "align_content": null,
            "align_items": null,
            "align_self": null,
            "border": null,
            "bottom": null,
            "display": null,
            "flex": null,
            "flex_flow": null,
            "grid_area": null,
            "grid_auto_columns": null,
            "grid_auto_flow": null,
            "grid_auto_rows": null,
            "grid_column": null,
            "grid_gap": null,
            "grid_row": null,
            "grid_template_areas": null,
            "grid_template_columns": null,
            "grid_template_rows": null,
            "height": null,
            "justify_content": null,
            "justify_items": null,
            "left": null,
            "margin": null,
            "max_height": null,
            "max_width": null,
            "min_height": null,
            "min_width": null,
            "object_fit": null,
            "object_position": null,
            "order": null,
            "overflow": null,
            "overflow_x": null,
            "overflow_y": null,
            "padding": null,
            "right": null,
            "top": null,
            "visibility": null,
            "width": null
          }
        },
        "5169212f3b074e2ea92dcc3da1c5ce2f": {
          "model_module": "@jupyter-widgets/base",
          "model_module_version": "1.2.0",
          "model_name": "LayoutModel",
          "state": {
            "_model_module": "@jupyter-widgets/base",
            "_model_module_version": "1.2.0",
            "_model_name": "LayoutModel",
            "_view_count": null,
            "_view_module": "@jupyter-widgets/base",
            "_view_module_version": "1.2.0",
            "_view_name": "LayoutView",
            "align_content": null,
            "align_items": null,
            "align_self": null,
            "border": null,
            "bottom": null,
            "display": null,
            "flex": null,
            "flex_flow": null,
            "grid_area": null,
            "grid_auto_columns": null,
            "grid_auto_flow": null,
            "grid_auto_rows": null,
            "grid_column": null,
            "grid_gap": null,
            "grid_row": null,
            "grid_template_areas": null,
            "grid_template_columns": null,
            "grid_template_rows": null,
            "height": null,
            "justify_content": null,
            "justify_items": null,
            "left": null,
            "margin": null,
            "max_height": null,
            "max_width": null,
            "min_height": null,
            "min_width": null,
            "object_fit": null,
            "object_position": null,
            "order": null,
            "overflow": null,
            "overflow_x": null,
            "overflow_y": null,
            "padding": null,
            "right": null,
            "top": null,
            "visibility": null,
            "width": null
          }
        },
        "5580ef43a68748e6bdf7b00555be9ec1": {
          "model_module": "@jupyter-widgets/controls",
          "model_module_version": "1.5.0",
          "model_name": "HTMLModel",
          "state": {
            "_dom_classes": [],
            "_model_module": "@jupyter-widgets/controls",
            "_model_module_version": "1.5.0",
            "_model_name": "HTMLModel",
            "_view_count": null,
            "_view_module": "@jupyter-widgets/controls",
            "_view_module_version": "1.5.0",
            "_view_name": "HTMLView",
            "description": "",
            "description_tooltip": null,
            "layout": "IPY_MODEL_34c0c9a3c722433eb04cc9f97c161ab0",
            "placeholder": "​",
            "style": "IPY_MODEL_73cd6e6d093b40e6a88d9c47b6f3f32b",
            "value": "Downloading (…)/main/tokenizer.json: 100%"
          }
        },
        "5897daeab3f9459e95d1dd9656b3fec4": {
          "model_module": "@jupyter-widgets/controls",
          "model_module_version": "1.5.0",
          "model_name": "HBoxModel",
          "state": {
            "_dom_classes": [],
            "_model_module": "@jupyter-widgets/controls",
            "_model_module_version": "1.5.0",
            "_model_name": "HBoxModel",
            "_view_count": null,
            "_view_module": "@jupyter-widgets/controls",
            "_view_module_version": "1.5.0",
            "_view_name": "HBoxView",
            "box_style": "",
            "children": [
              "IPY_MODEL_dfabf7f02f394b67a87febcbacdbeab3",
              "IPY_MODEL_ce903cc02e3640aa9323e74387d8235b",
              "IPY_MODEL_8d940cacc8694462816ac116efc84d0c"
            ],
            "layout": "IPY_MODEL_261403b1c6c9425ea6c517648038064d"
          }
        },
        "5b685b6e028d491e97dcb757f383c599": {
          "model_module": "@jupyter-widgets/controls",
          "model_module_version": "1.5.0",
          "model_name": "DescriptionStyleModel",
          "state": {
            "_model_module": "@jupyter-widgets/controls",
            "_model_module_version": "1.5.0",
            "_model_name": "DescriptionStyleModel",
            "_view_count": null,
            "_view_module": "@jupyter-widgets/base",
            "_view_module_version": "1.2.0",
            "_view_name": "StyleView",
            "description_width": ""
          }
        },
        "5bca828406604bd4bba5a45bf6061491": {
          "model_module": "@jupyter-widgets/base",
          "model_module_version": "1.2.0",
          "model_name": "LayoutModel",
          "state": {
            "_model_module": "@jupyter-widgets/base",
            "_model_module_version": "1.2.0",
            "_model_name": "LayoutModel",
            "_view_count": null,
            "_view_module": "@jupyter-widgets/base",
            "_view_module_version": "1.2.0",
            "_view_name": "LayoutView",
            "align_content": null,
            "align_items": null,
            "align_self": null,
            "border": null,
            "bottom": null,
            "display": null,
            "flex": null,
            "flex_flow": null,
            "grid_area": null,
            "grid_auto_columns": null,
            "grid_auto_flow": null,
            "grid_auto_rows": null,
            "grid_column": null,
            "grid_gap": null,
            "grid_row": null,
            "grid_template_areas": null,
            "grid_template_columns": null,
            "grid_template_rows": null,
            "height": null,
            "justify_content": null,
            "justify_items": null,
            "left": null,
            "margin": null,
            "max_height": null,
            "max_width": null,
            "min_height": null,
            "min_width": null,
            "object_fit": null,
            "object_position": null,
            "order": null,
            "overflow": null,
            "overflow_x": null,
            "overflow_y": null,
            "padding": null,
            "right": null,
            "top": null,
            "visibility": null,
            "width": null
          }
        },
        "5c0fa36900a3492a9789c4be383e3b9b": {
          "model_module": "@jupyter-widgets/controls",
          "model_module_version": "1.5.0",
          "model_name": "ProgressStyleModel",
          "state": {
            "_model_module": "@jupyter-widgets/controls",
            "_model_module_version": "1.5.0",
            "_model_name": "ProgressStyleModel",
            "_view_count": null,
            "_view_module": "@jupyter-widgets/base",
            "_view_module_version": "1.2.0",
            "_view_name": "StyleView",
            "bar_color": null,
            "description_width": ""
          }
        },
        "5d067cbfb1524eee8f1edec7532d4be1": {
          "model_module": "@jupyter-widgets/controls",
          "model_module_version": "1.5.0",
          "model_name": "DescriptionStyleModel",
          "state": {
            "_model_module": "@jupyter-widgets/controls",
            "_model_module_version": "1.5.0",
            "_model_name": "DescriptionStyleModel",
            "_view_count": null,
            "_view_module": "@jupyter-widgets/base",
            "_view_module_version": "1.2.0",
            "_view_name": "StyleView",
            "description_width": ""
          }
        },
        "5dfc4dff5533471b90c2690fe38beb92": {
          "model_module": "@jupyter-widgets/controls",
          "model_module_version": "1.5.0",
          "model_name": "ProgressStyleModel",
          "state": {
            "_model_module": "@jupyter-widgets/controls",
            "_model_module_version": "1.5.0",
            "_model_name": "ProgressStyleModel",
            "_view_count": null,
            "_view_module": "@jupyter-widgets/base",
            "_view_module_version": "1.2.0",
            "_view_name": "StyleView",
            "bar_color": null,
            "description_width": ""
          }
        },
        "5e9f1dcfd8714beea2f503716d4faf98": {
          "model_module": "@jupyter-widgets/controls",
          "model_module_version": "1.5.0",
          "model_name": "DescriptionStyleModel",
          "state": {
            "_model_module": "@jupyter-widgets/controls",
            "_model_module_version": "1.5.0",
            "_model_name": "DescriptionStyleModel",
            "_view_count": null,
            "_view_module": "@jupyter-widgets/base",
            "_view_module_version": "1.2.0",
            "_view_name": "StyleView",
            "description_width": ""
          }
        },
        "61ab7053ef194b60bcf3a43e765c9c5c": {
          "model_module": "@jupyter-widgets/base",
          "model_module_version": "1.2.0",
          "model_name": "LayoutModel",
          "state": {
            "_model_module": "@jupyter-widgets/base",
            "_model_module_version": "1.2.0",
            "_model_name": "LayoutModel",
            "_view_count": null,
            "_view_module": "@jupyter-widgets/base",
            "_view_module_version": "1.2.0",
            "_view_name": "LayoutView",
            "align_content": null,
            "align_items": null,
            "align_self": null,
            "border": null,
            "bottom": null,
            "display": null,
            "flex": null,
            "flex_flow": null,
            "grid_area": null,
            "grid_auto_columns": null,
            "grid_auto_flow": null,
            "grid_auto_rows": null,
            "grid_column": null,
            "grid_gap": null,
            "grid_row": null,
            "grid_template_areas": null,
            "grid_template_columns": null,
            "grid_template_rows": null,
            "height": null,
            "justify_content": null,
            "justify_items": null,
            "left": null,
            "margin": null,
            "max_height": null,
            "max_width": null,
            "min_height": null,
            "min_width": null,
            "object_fit": null,
            "object_position": null,
            "order": null,
            "overflow": null,
            "overflow_x": null,
            "overflow_y": null,
            "padding": null,
            "right": null,
            "top": null,
            "visibility": null,
            "width": null
          }
        },
        "62c1935b23f94a329d6a89d0c4cdffb2": {
          "model_module": "@jupyter-widgets/base",
          "model_module_version": "1.2.0",
          "model_name": "LayoutModel",
          "state": {
            "_model_module": "@jupyter-widgets/base",
            "_model_module_version": "1.2.0",
            "_model_name": "LayoutModel",
            "_view_count": null,
            "_view_module": "@jupyter-widgets/base",
            "_view_module_version": "1.2.0",
            "_view_name": "LayoutView",
            "align_content": null,
            "align_items": null,
            "align_self": null,
            "border": null,
            "bottom": null,
            "display": null,
            "flex": null,
            "flex_flow": null,
            "grid_area": null,
            "grid_auto_columns": null,
            "grid_auto_flow": null,
            "grid_auto_rows": null,
            "grid_column": null,
            "grid_gap": null,
            "grid_row": null,
            "grid_template_areas": null,
            "grid_template_columns": null,
            "grid_template_rows": null,
            "height": null,
            "justify_content": null,
            "justify_items": null,
            "left": null,
            "margin": null,
            "max_height": null,
            "max_width": null,
            "min_height": null,
            "min_width": null,
            "object_fit": null,
            "object_position": null,
            "order": null,
            "overflow": null,
            "overflow_x": null,
            "overflow_y": null,
            "padding": null,
            "right": null,
            "top": null,
            "visibility": null,
            "width": null
          }
        },
        "63c4306ebe9a469cb1b68814de35cfd9": {
          "model_module": "@jupyter-widgets/controls",
          "model_module_version": "1.5.0",
          "model_name": "FloatProgressModel",
          "state": {
            "_dom_classes": [],
            "_model_module": "@jupyter-widgets/controls",
            "_model_module_version": "1.5.0",
            "_model_name": "FloatProgressModel",
            "_view_count": null,
            "_view_module": "@jupyter-widgets/controls",
            "_view_module_version": "1.5.0",
            "_view_name": "ProgressView",
            "bar_style": "success",
            "description": "",
            "description_tooltip": null,
            "layout": "IPY_MODEL_61ab7053ef194b60bcf3a43e765c9c5c",
            "max": 4918,
            "min": 0,
            "orientation": "horizontal",
            "style": "IPY_MODEL_f604b07273f149708d1cb10107b5f2e2",
            "value": 4918
          }
        },
        "6892ebb706164fdbbb96883943731009": {
          "model_module": "@jupyter-widgets/controls",
          "model_module_version": "1.5.0",
          "model_name": "HTMLModel",
          "state": {
            "_dom_classes": [],
            "_model_module": "@jupyter-widgets/controls",
            "_model_module_version": "1.5.0",
            "_model_name": "HTMLModel",
            "_view_count": null,
            "_view_module": "@jupyter-widgets/controls",
            "_view_module_version": "1.5.0",
            "_view_name": "HTMLView",
            "description": "",
            "description_tooltip": null,
            "layout": "IPY_MODEL_6e957ae9cfcd4713b2ecb4cea573a409",
            "placeholder": "​",
            "style": "IPY_MODEL_5d067cbfb1524eee8f1edec7532d4be1",
            "value": "Downloading (…)lve/main/config.json: 100%"
          }
        },
        "6e957ae9cfcd4713b2ecb4cea573a409": {
          "model_module": "@jupyter-widgets/base",
          "model_module_version": "1.2.0",
          "model_name": "LayoutModel",
          "state": {
            "_model_module": "@jupyter-widgets/base",
            "_model_module_version": "1.2.0",
            "_model_name": "LayoutModel",
            "_view_count": null,
            "_view_module": "@jupyter-widgets/base",
            "_view_module_version": "1.2.0",
            "_view_name": "LayoutView",
            "align_content": null,
            "align_items": null,
            "align_self": null,
            "border": null,
            "bottom": null,
            "display": null,
            "flex": null,
            "flex_flow": null,
            "grid_area": null,
            "grid_auto_columns": null,
            "grid_auto_flow": null,
            "grid_auto_rows": null,
            "grid_column": null,
            "grid_gap": null,
            "grid_row": null,
            "grid_template_areas": null,
            "grid_template_columns": null,
            "grid_template_rows": null,
            "height": null,
            "justify_content": null,
            "justify_items": null,
            "left": null,
            "margin": null,
            "max_height": null,
            "max_width": null,
            "min_height": null,
            "min_width": null,
            "object_fit": null,
            "object_position": null,
            "order": null,
            "overflow": null,
            "overflow_x": null,
            "overflow_y": null,
            "padding": null,
            "right": null,
            "top": null,
            "visibility": null,
            "width": null
          }
        },
        "70188b0de2994e69bef65e5be87c2c0d": {
          "model_module": "@jupyter-widgets/base",
          "model_module_version": "1.2.0",
          "model_name": "LayoutModel",
          "state": {
            "_model_module": "@jupyter-widgets/base",
            "_model_module_version": "1.2.0",
            "_model_name": "LayoutModel",
            "_view_count": null,
            "_view_module": "@jupyter-widgets/base",
            "_view_module_version": "1.2.0",
            "_view_name": "LayoutView",
            "align_content": null,
            "align_items": null,
            "align_self": null,
            "border": null,
            "bottom": null,
            "display": null,
            "flex": null,
            "flex_flow": null,
            "grid_area": null,
            "grid_auto_columns": null,
            "grid_auto_flow": null,
            "grid_auto_rows": null,
            "grid_column": null,
            "grid_gap": null,
            "grid_row": null,
            "grid_template_areas": null,
            "grid_template_columns": null,
            "grid_template_rows": null,
            "height": null,
            "justify_content": null,
            "justify_items": null,
            "left": null,
            "margin": null,
            "max_height": null,
            "max_width": null,
            "min_height": null,
            "min_width": null,
            "object_fit": null,
            "object_position": null,
            "order": null,
            "overflow": null,
            "overflow_x": null,
            "overflow_y": null,
            "padding": null,
            "right": null,
            "top": null,
            "visibility": null,
            "width": null
          }
        },
        "73c97afe7761479f8abdeb76115a6093": {
          "model_module": "@jupyter-widgets/base",
          "model_module_version": "1.2.0",
          "model_name": "LayoutModel",
          "state": {
            "_model_module": "@jupyter-widgets/base",
            "_model_module_version": "1.2.0",
            "_model_name": "LayoutModel",
            "_view_count": null,
            "_view_module": "@jupyter-widgets/base",
            "_view_module_version": "1.2.0",
            "_view_name": "LayoutView",
            "align_content": null,
            "align_items": null,
            "align_self": null,
            "border": null,
            "bottom": null,
            "display": null,
            "flex": null,
            "flex_flow": null,
            "grid_area": null,
            "grid_auto_columns": null,
            "grid_auto_flow": null,
            "grid_auto_rows": null,
            "grid_column": null,
            "grid_gap": null,
            "grid_row": null,
            "grid_template_areas": null,
            "grid_template_columns": null,
            "grid_template_rows": null,
            "height": null,
            "justify_content": null,
            "justify_items": null,
            "left": null,
            "margin": null,
            "max_height": null,
            "max_width": null,
            "min_height": null,
            "min_width": null,
            "object_fit": null,
            "object_position": null,
            "order": null,
            "overflow": null,
            "overflow_x": null,
            "overflow_y": null,
            "padding": null,
            "right": null,
            "top": null,
            "visibility": null,
            "width": null
          }
        },
        "73cd6e6d093b40e6a88d9c47b6f3f32b": {
          "model_module": "@jupyter-widgets/controls",
          "model_module_version": "1.5.0",
          "model_name": "DescriptionStyleModel",
          "state": {
            "_model_module": "@jupyter-widgets/controls",
            "_model_module_version": "1.5.0",
            "_model_name": "DescriptionStyleModel",
            "_view_count": null,
            "_view_module": "@jupyter-widgets/base",
            "_view_module_version": "1.2.0",
            "_view_name": "StyleView",
            "description_width": ""
          }
        },
        "763b486d5088418fac3c7c3d1f9968fd": {
          "model_module": "@jupyter-widgets/controls",
          "model_module_version": "1.5.0",
          "model_name": "DescriptionStyleModel",
          "state": {
            "_model_module": "@jupyter-widgets/controls",
            "_model_module_version": "1.5.0",
            "_model_name": "DescriptionStyleModel",
            "_view_count": null,
            "_view_module": "@jupyter-widgets/base",
            "_view_module_version": "1.2.0",
            "_view_name": "StyleView",
            "description_width": ""
          }
        },
        "7d3190ef02bf4a428b11c2ebfa8aa02c": {
          "model_module": "@jupyter-widgets/controls",
          "model_module_version": "1.5.0",
          "model_name": "DescriptionStyleModel",
          "state": {
            "_model_module": "@jupyter-widgets/controls",
            "_model_module_version": "1.5.0",
            "_model_name": "DescriptionStyleModel",
            "_view_count": null,
            "_view_module": "@jupyter-widgets/base",
            "_view_module_version": "1.2.0",
            "_view_name": "StyleView",
            "description_width": ""
          }
        },
        "7f78f1fcd12c43268c7f58a16d1a29c0": {
          "model_module": "@jupyter-widgets/controls",
          "model_module_version": "1.5.0",
          "model_name": "HBoxModel",
          "state": {
            "_dom_classes": [],
            "_model_module": "@jupyter-widgets/controls",
            "_model_module_version": "1.5.0",
            "_model_name": "HBoxModel",
            "_view_count": null,
            "_view_module": "@jupyter-widgets/controls",
            "_view_module_version": "1.5.0",
            "_view_name": "HBoxView",
            "box_style": "",
            "children": [
              "IPY_MODEL_b6f4dff2ade542378c1903411c659107",
              "IPY_MODEL_b9a4fd0bd07b469aaaf4938af8a8053a",
              "IPY_MODEL_ac85c3ef4ca3455fa8e939f8c90cac5e"
            ],
            "layout": "IPY_MODEL_a8577e5d66ec4dd4810ecb5a89ad25de"
          }
        },
        "7ff0cc3a547e4a3688a79095a6828c0c": {
          "model_module": "@jupyter-widgets/controls",
          "model_module_version": "1.5.0",
          "model_name": "HTMLModel",
          "state": {
            "_dom_classes": [],
            "_model_module": "@jupyter-widgets/controls",
            "_model_module_version": "1.5.0",
            "_model_name": "HTMLModel",
            "_view_count": null,
            "_view_module": "@jupyter-widgets/controls",
            "_view_module_version": "1.5.0",
            "_view_name": "HTMLView",
            "description": "",
            "description_tooltip": null,
            "layout": "IPY_MODEL_d004d65a827749ad925af650a2f0b200",
            "placeholder": "​",
            "style": "IPY_MODEL_d8a1b37a914d4baba10f999fb8e750ac",
            "value": "Downloading (…)okenizer_config.json: 100%"
          }
        },
        "86b736e0fe224c0e8e05ec7a53ab4d8f": {
          "model_module": "@jupyter-widgets/base",
          "model_module_version": "1.2.0",
          "model_name": "LayoutModel",
          "state": {
            "_model_module": "@jupyter-widgets/base",
            "_model_module_version": "1.2.0",
            "_model_name": "LayoutModel",
            "_view_count": null,
            "_view_module": "@jupyter-widgets/base",
            "_view_module_version": "1.2.0",
            "_view_name": "LayoutView",
            "align_content": null,
            "align_items": null,
            "align_self": null,
            "border": null,
            "bottom": null,
            "display": null,
            "flex": null,
            "flex_flow": null,
            "grid_area": null,
            "grid_auto_columns": null,
            "grid_auto_flow": null,
            "grid_auto_rows": null,
            "grid_column": null,
            "grid_gap": null,
            "grid_row": null,
            "grid_template_areas": null,
            "grid_template_columns": null,
            "grid_template_rows": null,
            "height": null,
            "justify_content": null,
            "justify_items": null,
            "left": null,
            "margin": null,
            "max_height": null,
            "max_width": null,
            "min_height": null,
            "min_width": null,
            "object_fit": null,
            "object_position": null,
            "order": null,
            "overflow": null,
            "overflow_x": null,
            "overflow_y": null,
            "padding": null,
            "right": null,
            "top": null,
            "visibility": null,
            "width": null
          }
        },
        "87d27225c7a24424a4e86edbe92140b9": {
          "model_module": "@jupyter-widgets/controls",
          "model_module_version": "1.5.0",
          "model_name": "DescriptionStyleModel",
          "state": {
            "_model_module": "@jupyter-widgets/controls",
            "_model_module_version": "1.5.0",
            "_model_name": "DescriptionStyleModel",
            "_view_count": null,
            "_view_module": "@jupyter-widgets/base",
            "_view_module_version": "1.2.0",
            "_view_name": "StyleView",
            "description_width": ""
          }
        },
        "8d940cacc8694462816ac116efc84d0c": {
          "model_module": "@jupyter-widgets/controls",
          "model_module_version": "1.5.0",
          "model_name": "HTMLModel",
          "state": {
            "_dom_classes": [],
            "_model_module": "@jupyter-widgets/controls",
            "_model_module_version": "1.5.0",
            "_model_name": "HTMLModel",
            "_view_count": null,
            "_view_module": "@jupyter-widgets/controls",
            "_view_module_version": "1.5.0",
            "_view_name": "HTMLView",
            "description": "",
            "description_tooltip": null,
            "layout": "IPY_MODEL_73c97afe7761479f8abdeb76115a6093",
            "placeholder": "​",
            "style": "IPY_MODEL_5e9f1dcfd8714beea2f503716d4faf98",
            "value": " 231/231 [00:00&lt;00:00, 21.0kB/s]"
          }
        },
        "9ffcd92a1dc547f2b0e25b8f383f8dff": {
          "model_module": "@jupyter-widgets/controls",
          "model_module_version": "1.5.0",
          "model_name": "DescriptionStyleModel",
          "state": {
            "_model_module": "@jupyter-widgets/controls",
            "_model_module_version": "1.5.0",
            "_model_name": "DescriptionStyleModel",
            "_view_count": null,
            "_view_module": "@jupyter-widgets/base",
            "_view_module_version": "1.2.0",
            "_view_name": "StyleView",
            "description_width": ""
          }
        },
        "a2ca7ba98b23411dbb3c7bcc1ceed443": {
          "model_module": "@jupyter-widgets/controls",
          "model_module_version": "1.5.0",
          "model_name": "HTMLModel",
          "state": {
            "_dom_classes": [],
            "_model_module": "@jupyter-widgets/controls",
            "_model_module_version": "1.5.0",
            "_model_name": "HTMLModel",
            "_view_count": null,
            "_view_module": "@jupyter-widgets/controls",
            "_view_module_version": "1.5.0",
            "_view_name": "HTMLView",
            "description": "",
            "description_tooltip": null,
            "layout": "IPY_MODEL_5bca828406604bd4bba5a45bf6061491",
            "placeholder": "​",
            "style": "IPY_MODEL_170edd58221343f78db1c148794b4232",
            "value": " 2.61k/2.61k [00:00&lt;00:00, 232kB/s]"
          }
        },
        "a582c1a345c44a258987f934a2ca0103": {
          "model_module": "@jupyter-widgets/controls",
          "model_module_version": "1.5.0",
          "model_name": "HTMLModel",
          "state": {
            "_dom_classes": [],
            "_model_module": "@jupyter-widgets/controls",
            "_model_module_version": "1.5.0",
            "_model_name": "HTMLModel",
            "_view_count": null,
            "_view_module": "@jupyter-widgets/controls",
            "_view_module_version": "1.5.0",
            "_view_name": "HTMLView",
            "description": "",
            "description_tooltip": null,
            "layout": "IPY_MODEL_1e6f8f9e7f614a138aaaa1d87ef2d0c7",
            "placeholder": "​",
            "style": "IPY_MODEL_7d3190ef02bf4a428b11c2ebfa8aa02c",
            "value": " 851k/851k [00:00&lt;00:00, 5.96MB/s]"
          }
        },
        "a58bd2af33c644de997d7a05af64fb87": {
          "model_module": "@jupyter-widgets/controls",
          "model_module_version": "1.5.0",
          "model_name": "HTMLModel",
          "state": {
            "_dom_classes": [],
            "_model_module": "@jupyter-widgets/controls",
            "_model_module_version": "1.5.0",
            "_model_name": "HTMLModel",
            "_view_count": null,
            "_view_module": "@jupyter-widgets/controls",
            "_view_module_version": "1.5.0",
            "_view_name": "HTMLView",
            "description": "",
            "description_tooltip": null,
            "layout": "IPY_MODEL_70188b0de2994e69bef65e5be87c2c0d",
            "placeholder": "​",
            "style": "IPY_MODEL_87d27225c7a24424a4e86edbe92140b9",
            "value": "Downloading pytorch_model.bin: 100%"
          }
        },
        "a8577e5d66ec4dd4810ecb5a89ad25de": {
          "model_module": "@jupyter-widgets/base",
          "model_module_version": "1.2.0",
          "model_name": "LayoutModel",
          "state": {
            "_model_module": "@jupyter-widgets/base",
            "_model_module_version": "1.2.0",
            "_model_name": "LayoutModel",
            "_view_count": null,
            "_view_module": "@jupyter-widgets/base",
            "_view_module_version": "1.2.0",
            "_view_name": "LayoutView",
            "align_content": null,
            "align_items": null,
            "align_self": null,
            "border": null,
            "bottom": null,
            "display": null,
            "flex": null,
            "flex_flow": null,
            "grid_area": null,
            "grid_auto_columns": null,
            "grid_auto_flow": null,
            "grid_auto_rows": null,
            "grid_column": null,
            "grid_gap": null,
            "grid_row": null,
            "grid_template_areas": null,
            "grid_template_columns": null,
            "grid_template_rows": null,
            "height": null,
            "justify_content": null,
            "justify_items": null,
            "left": null,
            "margin": null,
            "max_height": null,
            "max_width": null,
            "min_height": null,
            "min_width": null,
            "object_fit": null,
            "object_position": null,
            "order": null,
            "overflow": null,
            "overflow_x": null,
            "overflow_y": null,
            "padding": null,
            "right": null,
            "top": null,
            "visibility": null,
            "width": null
          }
        },
        "ab83a71782d640e8b2153a9172a82f30": {
          "model_module": "@jupyter-widgets/controls",
          "model_module_version": "1.5.0",
          "model_name": "HTMLModel",
          "state": {
            "_dom_classes": [],
            "_model_module": "@jupyter-widgets/controls",
            "_model_module_version": "1.5.0",
            "_model_name": "HTMLModel",
            "_view_count": null,
            "_view_module": "@jupyter-widgets/controls",
            "_view_module_version": "1.5.0",
            "_view_name": "HTMLView",
            "description": "",
            "description_tooltip": null,
            "layout": "IPY_MODEL_5169212f3b074e2ea92dcc3da1c5ce2f",
            "placeholder": "​",
            "style": "IPY_MODEL_3eaa4f58b805437fa096cff23136bd23",
            "value": " 4.92k/4.92k [00:00&lt;00:00, 448kB/s]"
          }
        },
        "ac85c3ef4ca3455fa8e939f8c90cac5e": {
          "model_module": "@jupyter-widgets/controls",
          "model_module_version": "1.5.0",
          "model_name": "HTMLModel",
          "state": {
            "_dom_classes": [],
            "_model_module": "@jupyter-widgets/controls",
            "_model_module_version": "1.5.0",
            "_model_name": "HTMLModel",
            "_view_count": null,
            "_view_module": "@jupyter-widgets/controls",
            "_view_module_version": "1.5.0",
            "_view_name": "HTMLView",
            "description": "",
            "description_tooltip": null,
            "layout": "IPY_MODEL_043b7c4a718c411da0d97d326c6f572e",
            "placeholder": "​",
            "style": "IPY_MODEL_9ffcd92a1dc547f2b0e25b8f383f8dff",
            "value": " 2.20k/2.20k [00:00&lt;00:00, 196kB/s]"
          }
        },
        "b69e906f96b441d29aa2e66c3645f6cb": {
          "model_module": "@jupyter-widgets/controls",
          "model_module_version": "1.5.0",
          "model_name": "HBoxModel",
          "state": {
            "_dom_classes": [],
            "_model_module": "@jupyter-widgets/controls",
            "_model_module_version": "1.5.0",
            "_model_name": "HBoxModel",
            "_view_count": null,
            "_view_module": "@jupyter-widgets/controls",
            "_view_module_version": "1.5.0",
            "_view_name": "HBoxView",
            "box_style": "",
            "children": [
              "IPY_MODEL_7ff0cc3a547e4a3688a79095a6828c0c",
              "IPY_MODEL_4ab9fafb843f422d8abd8a7b669060f0",
              "IPY_MODEL_a2ca7ba98b23411dbb3c7bcc1ceed443"
            ],
            "layout": "IPY_MODEL_86b736e0fe224c0e8e05ec7a53ab4d8f"
          }
        },
        "b6f4dff2ade542378c1903411c659107": {
          "model_module": "@jupyter-widgets/controls",
          "model_module_version": "1.5.0",
          "model_name": "HTMLModel",
          "state": {
            "_dom_classes": [],
            "_model_module": "@jupyter-widgets/controls",
            "_model_module_version": "1.5.0",
            "_model_name": "HTMLModel",
            "_view_count": null,
            "_view_module": "@jupyter-widgets/controls",
            "_view_module_version": "1.5.0",
            "_view_name": "HTMLView",
            "description": "",
            "description_tooltip": null,
            "layout": "IPY_MODEL_ed6e56c931584c65ade1bc9b05bbdef7",
            "placeholder": "​",
            "style": "IPY_MODEL_31d7340c7e7249cda5c6f03483b94a8c",
            "value": "Downloading (…)cial_tokens_map.json: 100%"
          }
        },
        "b9a4fd0bd07b469aaaf4938af8a8053a": {
          "model_module": "@jupyter-widgets/controls",
          "model_module_version": "1.5.0",
          "model_name": "FloatProgressModel",
          "state": {
            "_dom_classes": [],
            "_model_module": "@jupyter-widgets/controls",
            "_model_module_version": "1.5.0",
            "_model_name": "FloatProgressModel",
            "_view_count": null,
            "_view_module": "@jupyter-widgets/controls",
            "_view_module_version": "1.5.0",
            "_view_name": "ProgressView",
            "bar_style": "success",
            "description": "",
            "description_tooltip": null,
            "layout": "IPY_MODEL_0b8fbc394bb64aaaaf8cc9d82ba394ad",
            "max": 2201,
            "min": 0,
            "orientation": "horizontal",
            "style": "IPY_MODEL_4ad91b04d6f44e3086dc21abd3db4901",
            "value": 2201
          }
        },
        "bc91cabb909e44fb864435f23a13802e": {
          "model_module": "@jupyter-widgets/controls",
          "model_module_version": "1.5.0",
          "model_name": "FloatProgressModel",
          "state": {
            "_dom_classes": [],
            "_model_module": "@jupyter-widgets/controls",
            "_model_module_version": "1.5.0",
            "_model_name": "FloatProgressModel",
            "_view_count": null,
            "_view_module": "@jupyter-widgets/controls",
            "_view_module_version": "1.5.0",
            "_view_name": "ProgressView",
            "bar_style": "success",
            "description": "",
            "description_tooltip": null,
            "layout": "IPY_MODEL_c9d8e521fd5e433a84cb7624ec177800",
            "max": 851388,
            "min": 0,
            "orientation": "horizontal",
            "style": "IPY_MODEL_0c66fd6444ed4aec9511d6bb97933b33",
            "value": 851388
          }
        },
        "bffb0d0c9bea488f877ee55e0c0f5788": {
          "model_module": "@jupyter-widgets/base",
          "model_module_version": "1.2.0",
          "model_name": "LayoutModel",
          "state": {
            "_model_module": "@jupyter-widgets/base",
            "_model_module_version": "1.2.0",
            "_model_name": "LayoutModel",
            "_view_count": null,
            "_view_module": "@jupyter-widgets/base",
            "_view_module_version": "1.2.0",
            "_view_name": "LayoutView",
            "align_content": null,
            "align_items": null,
            "align_self": null,
            "border": null,
            "bottom": null,
            "display": null,
            "flex": null,
            "flex_flow": null,
            "grid_area": null,
            "grid_auto_columns": null,
            "grid_auto_flow": null,
            "grid_auto_rows": null,
            "grid_column": null,
            "grid_gap": null,
            "grid_row": null,
            "grid_template_areas": null,
            "grid_template_columns": null,
            "grid_template_rows": null,
            "height": null,
            "justify_content": null,
            "justify_items": null,
            "left": null,
            "margin": null,
            "max_height": null,
            "max_width": null,
            "min_height": null,
            "min_width": null,
            "object_fit": null,
            "object_position": null,
            "order": null,
            "overflow": null,
            "overflow_x": null,
            "overflow_y": null,
            "padding": null,
            "right": null,
            "top": null,
            "visibility": null,
            "width": null
          }
        },
        "c46bba8361384a59ba27fdcf3a5581cb": {
          "model_module": "@jupyter-widgets/controls",
          "model_module_version": "1.5.0",
          "model_name": "HBoxModel",
          "state": {
            "_dom_classes": [],
            "_model_module": "@jupyter-widgets/controls",
            "_model_module_version": "1.5.0",
            "_model_name": "HBoxModel",
            "_view_count": null,
            "_view_module": "@jupyter-widgets/controls",
            "_view_module_version": "1.5.0",
            "_view_name": "HBoxView",
            "box_style": "",
            "children": [
              "IPY_MODEL_5580ef43a68748e6bdf7b00555be9ec1",
              "IPY_MODEL_023a1bf654a143d89162e69db8cf88e1",
              "IPY_MODEL_d8efec3a95e242daa418d9a42ea4a861"
            ],
            "layout": "IPY_MODEL_e8ff054b0433462a9d061dc57854bc9f"
          }
        },
        "c9d8e521fd5e433a84cb7624ec177800": {
          "model_module": "@jupyter-widgets/base",
          "model_module_version": "1.2.0",
          "model_name": "LayoutModel",
          "state": {
            "_model_module": "@jupyter-widgets/base",
            "_model_module_version": "1.2.0",
            "_model_name": "LayoutModel",
            "_view_count": null,
            "_view_module": "@jupyter-widgets/base",
            "_view_module_version": "1.2.0",
            "_view_name": "LayoutView",
            "align_content": null,
            "align_items": null,
            "align_self": null,
            "border": null,
            "bottom": null,
            "display": null,
            "flex": null,
            "flex_flow": null,
            "grid_area": null,
            "grid_auto_columns": null,
            "grid_auto_flow": null,
            "grid_auto_rows": null,
            "grid_column": null,
            "grid_gap": null,
            "grid_row": null,
            "grid_template_areas": null,
            "grid_template_columns": null,
            "grid_template_rows": null,
            "height": null,
            "justify_content": null,
            "justify_items": null,
            "left": null,
            "margin": null,
            "max_height": null,
            "max_width": null,
            "min_height": null,
            "min_width": null,
            "object_fit": null,
            "object_position": null,
            "order": null,
            "overflow": null,
            "overflow_x": null,
            "overflow_y": null,
            "padding": null,
            "right": null,
            "top": null,
            "visibility": null,
            "width": null
          }
        },
        "ce903cc02e3640aa9323e74387d8235b": {
          "model_module": "@jupyter-widgets/controls",
          "model_module_version": "1.5.0",
          "model_name": "FloatProgressModel",
          "state": {
            "_dom_classes": [],
            "_model_module": "@jupyter-widgets/controls",
            "_model_module_version": "1.5.0",
            "_model_name": "FloatProgressModel",
            "_view_count": null,
            "_view_module": "@jupyter-widgets/controls",
            "_view_module_version": "1.5.0",
            "_view_name": "ProgressView",
            "bar_style": "success",
            "description": "",
            "description_tooltip": null,
            "layout": "IPY_MODEL_2761a3b7cb8d43ef8a73ea10f697d215",
            "max": 231,
            "min": 0,
            "orientation": "horizontal",
            "style": "IPY_MODEL_f4d04a564a7c413da55e074d87c86d59",
            "value": 231
          }
        },
        "cf940b4663984dfa8dfa3387354a27a8": {
          "model_module": "@jupyter-widgets/controls",
          "model_module_version": "1.5.0",
          "model_name": "DescriptionStyleModel",
          "state": {
            "_model_module": "@jupyter-widgets/controls",
            "_model_module_version": "1.5.0",
            "_model_name": "DescriptionStyleModel",
            "_view_count": null,
            "_view_module": "@jupyter-widgets/base",
            "_view_module_version": "1.2.0",
            "_view_name": "StyleView",
            "description_width": ""
          }
        },
        "d004d65a827749ad925af650a2f0b200": {
          "model_module": "@jupyter-widgets/base",
          "model_module_version": "1.2.0",
          "model_name": "LayoutModel",
          "state": {
            "_model_module": "@jupyter-widgets/base",
            "_model_module_version": "1.2.0",
            "_model_name": "LayoutModel",
            "_view_count": null,
            "_view_module": "@jupyter-widgets/base",
            "_view_module_version": "1.2.0",
            "_view_name": "LayoutView",
            "align_content": null,
            "align_items": null,
            "align_self": null,
            "border": null,
            "bottom": null,
            "display": null,
            "flex": null,
            "flex_flow": null,
            "grid_area": null,
            "grid_auto_columns": null,
            "grid_auto_flow": null,
            "grid_auto_rows": null,
            "grid_column": null,
            "grid_gap": null,
            "grid_row": null,
            "grid_template_areas": null,
            "grid_template_columns": null,
            "grid_template_rows": null,
            "height": null,
            "justify_content": null,
            "justify_items": null,
            "left": null,
            "margin": null,
            "max_height": null,
            "max_width": null,
            "min_height": null,
            "min_width": null,
            "object_fit": null,
            "object_position": null,
            "order": null,
            "overflow": null,
            "overflow_x": null,
            "overflow_y": null,
            "padding": null,
            "right": null,
            "top": null,
            "visibility": null,
            "width": null
          }
        },
        "d503ebc69d7041cab00aad00491640a7": {
          "model_module": "@jupyter-widgets/controls",
          "model_module_version": "1.5.0",
          "model_name": "FloatProgressModel",
          "state": {
            "_dom_classes": [],
            "_model_module": "@jupyter-widgets/controls",
            "_model_module_version": "1.5.0",
            "_model_name": "FloatProgressModel",
            "_view_count": null,
            "_view_module": "@jupyter-widgets/controls",
            "_view_module_version": "1.5.0",
            "_view_name": "ProgressView",
            "bar_style": "success",
            "description": "",
            "description_tooltip": null,
            "layout": "IPY_MODEL_efd8fb53fc934272ba5b0c609d6d817d",
            "max": 1129238081,
            "min": 0,
            "orientation": "horizontal",
            "style": "IPY_MODEL_240aa65f023b458799c97be83a1874a3",
            "value": 1129238081
          }
        },
        "d8a1b37a914d4baba10f999fb8e750ac": {
          "model_module": "@jupyter-widgets/controls",
          "model_module_version": "1.5.0",
          "model_name": "DescriptionStyleModel",
          "state": {
            "_model_module": "@jupyter-widgets/controls",
            "_model_module_version": "1.5.0",
            "_model_name": "DescriptionStyleModel",
            "_view_count": null,
            "_view_module": "@jupyter-widgets/base",
            "_view_module_version": "1.2.0",
            "_view_name": "StyleView",
            "description_width": ""
          }
        },
        "d8efec3a95e242daa418d9a42ea4a861": {
          "model_module": "@jupyter-widgets/controls",
          "model_module_version": "1.5.0",
          "model_name": "HTMLModel",
          "state": {
            "_dom_classes": [],
            "_model_module": "@jupyter-widgets/controls",
            "_model_module_version": "1.5.0",
            "_model_name": "HTMLModel",
            "_view_count": null,
            "_view_module": "@jupyter-widgets/controls",
            "_view_module_version": "1.5.0",
            "_view_name": "HTMLView",
            "description": "",
            "description_tooltip": null,
            "layout": "IPY_MODEL_223c830e047641f5bd4e1d5a3b6185c1",
            "placeholder": "​",
            "style": "IPY_MODEL_1ce79ace9d0e46169ddc4e67cebbd94d",
            "value": " 3.27M/3.27M [00:00&lt;00:00, 9.84MB/s]"
          }
        },
        "db3841936c7c4af08e2c9e31db890639": {
          "model_module": "@jupyter-widgets/controls",
          "model_module_version": "1.5.0",
          "model_name": "HBoxModel",
          "state": {
            "_dom_classes": [],
            "_model_module": "@jupyter-widgets/controls",
            "_model_module_version": "1.5.0",
            "_model_name": "HBoxModel",
            "_view_count": null,
            "_view_module": "@jupyter-widgets/controls",
            "_view_module_version": "1.5.0",
            "_view_name": "HBoxView",
            "box_style": "",
            "children": [
              "IPY_MODEL_a58bd2af33c644de997d7a05af64fb87",
              "IPY_MODEL_d503ebc69d7041cab00aad00491640a7",
              "IPY_MODEL_1047b12c02af4b5eb35af605b4227e3d"
            ],
            "layout": "IPY_MODEL_08a2e56f85224833bed8b2dbcc1bbf85"
          }
        },
        "dfabf7f02f394b67a87febcbacdbeab3": {
          "model_module": "@jupyter-widgets/controls",
          "model_module_version": "1.5.0",
          "model_name": "HTMLModel",
          "state": {
            "_dom_classes": [],
            "_model_module": "@jupyter-widgets/controls",
            "_model_module_version": "1.5.0",
            "_model_name": "HTMLModel",
            "_view_count": null,
            "_view_module": "@jupyter-widgets/controls",
            "_view_module_version": "1.5.0",
            "_view_name": "HTMLView",
            "description": "",
            "description_tooltip": null,
            "layout": "IPY_MODEL_0da6a786e18843c6a995f778a8c42c08",
            "placeholder": "​",
            "style": "IPY_MODEL_cf940b4663984dfa8dfa3387354a27a8",
            "value": "Downloading (…)rocessor_config.json: 100%"
          }
        },
        "e8ff054b0433462a9d061dc57854bc9f": {
          "model_module": "@jupyter-widgets/base",
          "model_module_version": "1.2.0",
          "model_name": "LayoutModel",
          "state": {
            "_model_module": "@jupyter-widgets/base",
            "_model_module_version": "1.2.0",
            "_model_name": "LayoutModel",
            "_view_count": null,
            "_view_module": "@jupyter-widgets/base",
            "_view_module_version": "1.2.0",
            "_view_name": "LayoutView",
            "align_content": null,
            "align_items": null,
            "align_self": null,
            "border": null,
            "bottom": null,
            "display": null,
            "flex": null,
            "flex_flow": null,
            "grid_area": null,
            "grid_auto_columns": null,
            "grid_auto_flow": null,
            "grid_auto_rows": null,
            "grid_column": null,
            "grid_gap": null,
            "grid_row": null,
            "grid_template_areas": null,
            "grid_template_columns": null,
            "grid_template_rows": null,
            "height": null,
            "justify_content": null,
            "justify_items": null,
            "left": null,
            "margin": null,
            "max_height": null,
            "max_width": null,
            "min_height": null,
            "min_width": null,
            "object_fit": null,
            "object_position": null,
            "order": null,
            "overflow": null,
            "overflow_x": null,
            "overflow_y": null,
            "padding": null,
            "right": null,
            "top": null,
            "visibility": null,
            "width": null
          }
        },
        "ed6e56c931584c65ade1bc9b05bbdef7": {
          "model_module": "@jupyter-widgets/base",
          "model_module_version": "1.2.0",
          "model_name": "LayoutModel",
          "state": {
            "_model_module": "@jupyter-widgets/base",
            "_model_module_version": "1.2.0",
            "_model_name": "LayoutModel",
            "_view_count": null,
            "_view_module": "@jupyter-widgets/base",
            "_view_module_version": "1.2.0",
            "_view_name": "LayoutView",
            "align_content": null,
            "align_items": null,
            "align_self": null,
            "border": null,
            "bottom": null,
            "display": null,
            "flex": null,
            "flex_flow": null,
            "grid_area": null,
            "grid_auto_columns": null,
            "grid_auto_flow": null,
            "grid_auto_rows": null,
            "grid_column": null,
            "grid_gap": null,
            "grid_row": null,
            "grid_template_areas": null,
            "grid_template_columns": null,
            "grid_template_rows": null,
            "height": null,
            "justify_content": null,
            "justify_items": null,
            "left": null,
            "margin": null,
            "max_height": null,
            "max_width": null,
            "min_height": null,
            "min_width": null,
            "object_fit": null,
            "object_position": null,
            "order": null,
            "overflow": null,
            "overflow_x": null,
            "overflow_y": null,
            "padding": null,
            "right": null,
            "top": null,
            "visibility": null,
            "width": null
          }
        },
        "efd8fb53fc934272ba5b0c609d6d817d": {
          "model_module": "@jupyter-widgets/base",
          "model_module_version": "1.2.0",
          "model_name": "LayoutModel",
          "state": {
            "_model_module": "@jupyter-widgets/base",
            "_model_module_version": "1.2.0",
            "_model_name": "LayoutModel",
            "_view_count": null,
            "_view_module": "@jupyter-widgets/base",
            "_view_module_version": "1.2.0",
            "_view_name": "LayoutView",
            "align_content": null,
            "align_items": null,
            "align_self": null,
            "border": null,
            "bottom": null,
            "display": null,
            "flex": null,
            "flex_flow": null,
            "grid_area": null,
            "grid_auto_columns": null,
            "grid_auto_flow": null,
            "grid_auto_rows": null,
            "grid_column": null,
            "grid_gap": null,
            "grid_row": null,
            "grid_template_areas": null,
            "grid_template_columns": null,
            "grid_template_rows": null,
            "height": null,
            "justify_content": null,
            "justify_items": null,
            "left": null,
            "margin": null,
            "max_height": null,
            "max_width": null,
            "min_height": null,
            "min_width": null,
            "object_fit": null,
            "object_position": null,
            "order": null,
            "overflow": null,
            "overflow_x": null,
            "overflow_y": null,
            "padding": null,
            "right": null,
            "top": null,
            "visibility": null,
            "width": null
          }
        },
        "f4d04a564a7c413da55e074d87c86d59": {
          "model_module": "@jupyter-widgets/controls",
          "model_module_version": "1.5.0",
          "model_name": "ProgressStyleModel",
          "state": {
            "_model_module": "@jupyter-widgets/controls",
            "_model_module_version": "1.5.0",
            "_model_name": "ProgressStyleModel",
            "_view_count": null,
            "_view_module": "@jupyter-widgets/base",
            "_view_module_version": "1.2.0",
            "_view_name": "StyleView",
            "bar_color": null,
            "description_width": ""
          }
        },
        "f604b07273f149708d1cb10107b5f2e2": {
          "model_module": "@jupyter-widgets/controls",
          "model_module_version": "1.5.0",
          "model_name": "ProgressStyleModel",
          "state": {
            "_model_module": "@jupyter-widgets/controls",
            "_model_module_version": "1.5.0",
            "_model_name": "ProgressStyleModel",
            "_view_count": null,
            "_view_module": "@jupyter-widgets/base",
            "_view_module_version": "1.2.0",
            "_view_name": "StyleView",
            "bar_color": null,
            "description_width": ""
          }
        }
      }
    }
  },
  "nbformat": 4,
  "nbformat_minor": 0
}
