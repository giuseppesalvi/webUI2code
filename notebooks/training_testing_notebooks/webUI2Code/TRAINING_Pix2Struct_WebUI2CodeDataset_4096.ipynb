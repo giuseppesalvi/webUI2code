{
  "cells": [
    {
      "cell_type": "markdown",
      "metadata": {
        "id": "xY4KuZUbq83Q"
      },
      "source": [
        "# Finetune Pix2Struct model on WebUI2Code dataset, version 4096"
      ]
    },
    {
      "cell_type": "markdown",
      "metadata": {
        "id": "jT6iC6BDrB9i"
      },
      "source": [
        "## Setup Envirnoment"
      ]
    },
    {
      "cell_type": "code",
      "execution_count": null,
      "metadata": {
        "colab": {
          "base_uri": "https://localhost:8080/"
        },
        "id": "jc7bhkoMEtq3",
        "outputId": "fb22168d-1825-4ab9-d1c6-18d2bfb24198"
      },
      "outputs": [
        {
          "name": "stdout",
          "output_type": "stream",
          "text": [
            "Collecting git+https://github.com/huggingface/transformers\n",
            "  Cloning https://github.com/huggingface/transformers to /tmp/pip-req-build-1u63pv0t\n",
            "  Running command git clone --filter=blob:none --quiet https://github.com/huggingface/transformers /tmp/pip-req-build-1u63pv0t\n",
            "  Resolved https://github.com/huggingface/transformers to commit 3e203f92bed937fa13c35adee1bdc45a92d18e61\n",
            "  Installing build dependencies ... \u001b[?25l\u001b[?25hdone\n",
            "  Getting requirements to build wheel ... \u001b[?25l\u001b[?25hdone\n",
            "  Preparing metadata (pyproject.toml) ... \u001b[?25l\u001b[?25hdone\n",
            "Requirement already satisfied: filelock in /usr/local/lib/python3.10/dist-packages (from transformers==4.34.0.dev0) (3.12.2)\n",
            "Collecting huggingface-hub<1.0,>=0.15.1 (from transformers==4.34.0.dev0)\n",
            "  Downloading huggingface_hub-0.16.4-py3-none-any.whl (268 kB)\n",
            "\u001b[2K     \u001b[90m━━━━━━━━━━━━━━━━━━━━━━━━━━━━━━━━━━━━━━━\u001b[0m \u001b[32m268.8/268.8 kB\u001b[0m \u001b[31m4.3 MB/s\u001b[0m eta \u001b[36m0:00:00\u001b[0m\n",
            "\u001b[?25hRequirement already satisfied: numpy>=1.17 in /usr/local/lib/python3.10/dist-packages (from transformers==4.34.0.dev0) (1.23.5)\n",
            "Requirement already satisfied: packaging>=20.0 in /usr/local/lib/python3.10/dist-packages (from transformers==4.34.0.dev0) (23.1)\n",
            "Requirement already satisfied: pyyaml>=5.1 in /usr/local/lib/python3.10/dist-packages (from transformers==4.34.0.dev0) (6.0.1)\n",
            "Requirement already satisfied: regex!=2019.12.17 in /usr/local/lib/python3.10/dist-packages (from transformers==4.34.0.dev0) (2023.6.3)\n",
            "Requirement already satisfied: requests in /usr/local/lib/python3.10/dist-packages (from transformers==4.34.0.dev0) (2.31.0)\n",
            "Collecting tokenizers!=0.11.3,<0.14,>=0.11.1 (from transformers==4.34.0.dev0)\n",
            "  Downloading tokenizers-0.13.3-cp310-cp310-manylinux_2_17_x86_64.manylinux2014_x86_64.whl (7.8 MB)\n",
            "\u001b[2K     \u001b[90m━━━━━━━━━━━━━━━━━━━━━━━━━━━━━━━━━━━━━━━━\u001b[0m \u001b[32m7.8/7.8 MB\u001b[0m \u001b[31m92.7 MB/s\u001b[0m eta \u001b[36m0:00:00\u001b[0m\n",
            "\u001b[?25hCollecting safetensors>=0.3.1 (from transformers==4.34.0.dev0)\n",
            "  Downloading safetensors-0.3.3-cp310-cp310-manylinux_2_17_x86_64.manylinux2014_x86_64.whl (1.3 MB)\n",
            "\u001b[2K     \u001b[90m━━━━━━━━━━━━━━━━━━━━━━━━━━━━━━━━━━━━━━━━\u001b[0m \u001b[32m1.3/1.3 MB\u001b[0m \u001b[31m77.4 MB/s\u001b[0m eta \u001b[36m0:00:00\u001b[0m\n",
            "\u001b[?25hRequirement already satisfied: tqdm>=4.27 in /usr/local/lib/python3.10/dist-packages (from transformers==4.34.0.dev0) (4.66.1)\n",
            "Requirement already satisfied: fsspec in /usr/local/lib/python3.10/dist-packages (from huggingface-hub<1.0,>=0.15.1->transformers==4.34.0.dev0) (2023.6.0)\n",
            "Requirement already satisfied: typing-extensions>=3.7.4.3 in /usr/local/lib/python3.10/dist-packages (from huggingface-hub<1.0,>=0.15.1->transformers==4.34.0.dev0) (4.7.1)\n",
            "Requirement already satisfied: charset-normalizer<4,>=2 in /usr/local/lib/python3.10/dist-packages (from requests->transformers==4.34.0.dev0) (3.2.0)\n",
            "Requirement already satisfied: idna<4,>=2.5 in /usr/local/lib/python3.10/dist-packages (from requests->transformers==4.34.0.dev0) (3.4)\n",
            "Requirement already satisfied: urllib3<3,>=1.21.1 in /usr/local/lib/python3.10/dist-packages (from requests->transformers==4.34.0.dev0) (2.0.4)\n",
            "Requirement already satisfied: certifi>=2017.4.17 in /usr/local/lib/python3.10/dist-packages (from requests->transformers==4.34.0.dev0) (2023.7.22)\n",
            "Building wheels for collected packages: transformers\n",
            "  Building wheel for transformers (pyproject.toml) ... \u001b[?25l\u001b[?25hdone\n",
            "  Created wheel for transformers: filename=transformers-4.34.0.dev0-py3-none-any.whl size=7638470 sha256=d16c7ef36e042e4e57575f490760f37173c189f8cbb4a9046385001aae8ad37d\n",
            "  Stored in directory: /tmp/pip-ephem-wheel-cache-pu4vi38t/wheels/c0/14/d6/6c9a5582d2ac191ec0a483be151a4495fe1eb2a6706ca49f1b\n",
            "Successfully built transformers\n",
            "Installing collected packages: tokenizers, safetensors, huggingface-hub, transformers\n",
            "Successfully installed huggingface-hub-0.16.4 safetensors-0.3.3 tokenizers-0.13.3 transformers-4.34.0.dev0\n"
          ]
        }
      ],
      "source": [
        "!pip install --upgrade git+https://github.com/huggingface/transformers"
      ]
    },
    {
      "cell_type": "code",
      "execution_count": null,
      "metadata": {
        "colab": {
          "base_uri": "https://localhost:8080/"
        },
        "id": "901j04acrHxe",
        "outputId": "354db7b0-6820-4eef-a853-efeb0fe817bc"
      },
      "outputs": [
        {
          "name": "stdout",
          "output_type": "stream",
          "text": [
            "\u001b[?25l     \u001b[90m━━━━━━━━━━━━━━━━━━━━━━━━━━━━━━━━━━━━━━━━\u001b[0m \u001b[32m0.0/2.1 MB\u001b[0m \u001b[31m?\u001b[0m eta \u001b[36m-:--:--\u001b[0m\r\u001b[2K     \u001b[91m━\u001b[0m\u001b[90m╺\u001b[0m\u001b[90m━━━━━━━━━━━━━━━━━━━━━━━━━━━━━━━━━━━━━━\u001b[0m \u001b[32m0.1/2.1 MB\u001b[0m \u001b[31m2.2 MB/s\u001b[0m eta \u001b[36m0:00:01\u001b[0m\r\u001b[2K     \u001b[91m━━━━━━━━━━━━━━━━━━━━━━━━━━━━━━━━━━━━━━━\u001b[0m\u001b[91m╸\u001b[0m \u001b[32m2.1/2.1 MB\u001b[0m \u001b[31m31.5 MB/s\u001b[0m eta \u001b[36m0:00:01\u001b[0m\r\u001b[2K     \u001b[90m━━━━━━━━━━━━━━━━━━━━━━━━━━━━━━━━━━━━━━━━\u001b[0m \u001b[32m2.1/2.1 MB\u001b[0m \u001b[31m26.1 MB/s\u001b[0m eta \u001b[36m0:00:00\u001b[0m\n",
            "\u001b[2K     \u001b[90m━━━━━━━━━━━━━━━━━━━━━━━━━━━━━━━━━━━━━━\u001b[0m \u001b[32m188.6/188.6 kB\u001b[0m \u001b[31m19.4 MB/s\u001b[0m eta \u001b[36m0:00:00\u001b[0m\n",
            "\u001b[2K     \u001b[90m━━━━━━━━━━━━━━━━━━━━━━━━━━━━━━━━━━━━━━\u001b[0m \u001b[32m218.8/218.8 kB\u001b[0m \u001b[31m27.2 MB/s\u001b[0m eta \u001b[36m0:00:00\u001b[0m\n",
            "\u001b[?25h  Preparing metadata (setup.py) ... \u001b[?25l\u001b[?25hdone\n",
            "\u001b[2K     \u001b[90m━━━━━━━━━━━━━━━━━━━━━━━━━━━━━━━━━━━━━━━━\u001b[0m \u001b[32m62.7/62.7 kB\u001b[0m \u001b[31m8.3 MB/s\u001b[0m eta \u001b[36m0:00:00\u001b[0m\n",
            "\u001b[?25h  Building wheel for pathtools (setup.py) ... \u001b[?25l\u001b[?25hdone\n"
          ]
        }
      ],
      "source": [
        "!pip install -q wandb"
      ]
    },
    {
      "cell_type": "markdown",
      "metadata": {
        "id": "pGk1Y2ea-3vS"
      },
      "source": [
        "## Import necessary libraries"
      ]
    },
    {
      "cell_type": "code",
      "execution_count": null,
      "metadata": {
        "id": "9qulzbyd-1GC"
      },
      "outputs": [],
      "source": [
        "from google.colab import drive\n",
        "import os\n",
        "import zipfile\n",
        "from torch.utils.data import Dataset, DataLoader\n",
        "from torchvision import transforms\n",
        "from PIL import Image\n",
        "import re\n",
        "from transformers import Pix2StructForConditionalGeneration, AutoProcessor\n",
        "import torch\n",
        "from torch.nn import functional as F\n",
        "from transformers.optimization import Adafactor, get_cosine_schedule_with_warmup\n",
        "from pathlib import Path\n",
        "from nltk import edit_distance\n",
        "import numpy as np\n",
        "import wandb\n",
        "from tqdm import tqdm\n",
        "from nltk.translate.bleu_score import corpus_bleu, sentence_bleu, SmoothingFunction\n",
        "from torch.utils.data import random_split\n",
        "import random\n",
        "import json"
      ]
    },
    {
      "cell_type": "markdown",
      "metadata": {
        "id": "rZ3TJ2yzBAs0"
      },
      "source": [
        "## Define variables and parameters"
      ]
    },
    {
      "cell_type": "code",
      "execution_count": null,
      "metadata": {
        "id": "Rrjr3uhaBDqp"
      },
      "outputs": [],
      "source": [
        "G_DRIVE_FOLDER = '/content/drive/MyDrive/Datasets/'\n",
        "G_DRIVE_FOLDER_CHECKPOINTS = '/content/drive/MyDrive/Checkpoints/'\n",
        "DATASET_NAME = 'webUI2Code'\n",
        "ZIP_NAME = DATASET_NAME + '.zip'\n",
        "\n",
        "DESTINATION_FOLDER= '/content/data/'\n",
        "DATASET_FOLDER = DESTINATION_FOLDER + \"results_good/\" # unzipped name is results_good\n",
        "\n",
        "ZIP_NAME_PREPROCESSED_FILES = \"webUI2Code_preprocessed_files.zip\"\n",
        "TEXT_FILES_FOLDER = DESTINATION_FOLDER + \"preprocessed_files/\"\n",
        "\n",
        "EXPERIMENT_NAME = \"Pix2Struct_WebUI2Code_Complete_4096\"\n",
        "\n",
        "MAX_SENTENCE_LEN = 4096\n",
        "\n",
        "CHUNK_LENGTH =  1024\n",
        "CONTEXT_OVERLAP_LENGTH = 256\n",
        "\n",
        "MAX_PATCHES = 1024\n",
        "\n",
        "DEBUG = False\n",
        "VERBOSE = True\n",
        "\n",
        "BATCH_SIZE = 4\n",
        "NUM_WARMUP_STEPS = 2000\n",
        "MAX_EPOCHS = 10 # 10 EPOCHS FINETUNING\n",
        "LR = 1e-4\n",
        "CHECK_VAL_EVERY_N_EPOCH = 5\n",
        "GRADIENT_CLIP_VAL = 1.0\n",
        "ACCUMULATE_GRAD_BATCHES = 8 / BATCH_SIZE\n",
        "\n",
        "TRAIN_SET_PERCENTAGE = 0.898\n",
        "VALID_SET_PERCENTAGE = 0.002 # Use around 10 samples for validation\n",
        "# TEST_SET_PERCENTAGE is 1 - TRAIN_SET_PERCENTAGE - VALID_SET_PERCENTAGE # Use 10% for test\n",
        "\n",
        "RANDOM_SEED = 100\n",
        "\n",
        "# Start from last checkpoint of experiment on SynthBootsrapDataset\n",
        "LOAD_FROM_CHECKPOINT = True\n",
        "LAST_CHECKPOINT_NAME = \"Pix2Struct_SynthBootstrap_10000_Complete_epoch[19].pth\""
      ]
    },
    {
      "cell_type": "code",
      "execution_count": null,
      "metadata": {
        "id": "UVN0Pk4IuVYN"
      },
      "outputs": [],
      "source": [
        "DEVICE = torch.device('cuda' if torch.cuda.is_available() else 'cpu')"
      ]
    },
    {
      "cell_type": "code",
      "execution_count": null,
      "metadata": {
        "colab": {
          "base_uri": "https://localhost:8080/"
        },
        "id": "sKC06Ai1Xhcl",
        "outputId": "57559897-fd20-40b1-a322-1ce1de0b778d"
      },
      "outputs": [
        {
          "name": "stdout",
          "output_type": "stream",
          "text": [
            "MAX_N_CHUNKS_PER_SENTENCE 5\n"
          ]
        }
      ],
      "source": [
        "MAX_N_CHUNKS_PER_SENTENCE = 1 + (MAX_SENTENCE_LEN - CHUNK_LENGTH) // (CHUNK_LENGTH - CONTEXT_OVERLAP_LENGTH)\n",
        "print(\"MAX_N_CHUNKS_PER_SENTENCE\", MAX_N_CHUNKS_PER_SENTENCE)"
      ]
    },
    {
      "cell_type": "markdown",
      "metadata": {
        "id": "kflo6stPSGhT"
      },
      "source": [
        "\n",
        "## Load WebUI2Code Dataset"
      ]
    },
    {
      "cell_type": "markdown",
      "metadata": {
        "id": "tq4WHje5RJ9u"
      },
      "source": [
        "### Mount Google Drive"
      ]
    },
    {
      "cell_type": "code",
      "execution_count": null,
      "metadata": {
        "colab": {
          "base_uri": "https://localhost:8080/"
        },
        "id": "uGqbLAK6RJ9x",
        "outputId": "30404e40-1c0a-45da-f53e-fdad1437f46a"
      },
      "outputs": [
        {
          "name": "stdout",
          "output_type": "stream",
          "text": [
            "Mounted at /content/drive\n"
          ]
        }
      ],
      "source": [
        "drive.mount('/content/drive')"
      ]
    },
    {
      "cell_type": "markdown",
      "metadata": {
        "id": "R-TqChHhSYgz"
      },
      "source": [
        "### Import zip file from Google Drive"
      ]
    },
    {
      "cell_type": "code",
      "execution_count": null,
      "metadata": {
        "id": "Ju1BprKCVbvg"
      },
      "outputs": [],
      "source": [
        "os.makedirs(DESTINATION_FOLDER, exist_ok=True)\n",
        "\n",
        "with zipfile.ZipFile(G_DRIVE_FOLDER + ZIP_NAME, \"r\") as zf:\n",
        "    zf.extractall(DESTINATION_FOLDER)"
      ]
    },
    {
      "cell_type": "code",
      "execution_count": null,
      "metadata": {
        "id": "7rcOjFa0zaC6"
      },
      "outputs": [],
      "source": [
        "with zipfile.ZipFile(G_DRIVE_FOLDER + ZIP_NAME_PREPROCESSED_FILES, \"r\") as zf:\n",
        "    zf.extractall(DESTINATION_FOLDER)"
      ]
    },
    {
      "cell_type": "markdown",
      "metadata": {
        "id": "XIyXwQultNqy"
      },
      "source": [
        "## Load Model and Processor"
      ]
    },
    {
      "cell_type": "code",
      "execution_count": null,
      "metadata": {
        "colab": {
          "base_uri": "https://localhost:8080/",
          "height": 241,
          "referenced_widgets": [
            "63531ce54b70490a9e63d671da9aa4c6",
            "df854506380c4618abffe132dee40006",
            "ca1a74ef8c9744989b01f76a82443556",
            "740248ce66ea4ee0bd59e4eaa7ee33ee",
            "c653d1be4fa34217ad48e73286c3c17f",
            "06de766d40614a0392eb434c4d8b9835",
            "f7b3ec6463c34aa88953e417b57d716a",
            "b2ae13128e614eb99585aef28e2f348c",
            "1db77322608948c5be447ec9b102db0a",
            "f6a8dda631364295928273f4db06a35b",
            "14cda6cc5ac240e7a4e4ad603fda61e8",
            "78b01b56223b45d8b573a12ca3de97e8",
            "83815b1fd44646009861dbca9d059956",
            "0917fe71318540f39f886c18cf374871",
            "f93abcb1fdf74199b3ec5a64289d7b80",
            "0aeafc347074456e82aac34ee9482dc4",
            "a08ca4d501a4479e87445793f9782595",
            "a8e5597ff4314a6f88d9bd5c8565b2a3",
            "1d083a60db49444b9f896df1b4ac7779",
            "c52885258fef4be4b344347af9e381ba",
            "fa99ce0225a644f389a831ef9ce20585",
            "8dd5429e38064cd9825417628c756328",
            "6b733a05626d4d56bb823a2f5f3f0015",
            "a130dfaf71fb43fbbbee867bb419f5d2",
            "782b009bf30c4546985cbf6a3fc238df",
            "300770a436444f63b4ec1fbf5e28699f",
            "db1e82631c5b4bc288d709a9649fc930",
            "99bae10c030b42ab9f46f45e1fe91986",
            "c99e1f7f6c3944dab999628f595c3abf",
            "6c47f36d8816454b9c549064e1062ba4",
            "e2d0295202cb482983897d78150e46ee",
            "76607198a99d41b383fa5bc992ca6d45",
            "0f427d9b2c6d420699dac164cef5f98b",
            "7aa7fea0930b44a6a9631a7900ac700d",
            "98a318f592f34495a11513dd31174240",
            "a27e69dcc4bf4db5aa5390c1bc4e6831",
            "08ace768119d4a5cad173a064b1c0d86",
            "7ce6c09f1d754e8885542f8f7fc7214f",
            "e4c1be93d8904d808102ea2cfd7796d8",
            "827557ae9f354e03835f1ee6ad04063b",
            "b80698cdc5a14d008fa79d1ce240690d",
            "063c522da93f4619ac344b8d9738d421",
            "128c36031e354098986abb6c8fa38765",
            "2e3784a4a7cf4471abe243f33317ad63",
            "a47e397965914b1cadb77888b9252205",
            "7f8beb49972e46e4acf6af87e7309f6f",
            "e22e11a10bce4b34bd6e667d48c29cfc",
            "06fadcd2e5244930813e1add1f3fb7e1",
            "ef22db4ce2ec4fb9b56313ebf06870a6",
            "e8c2a13726ca4dcfbb0ded23715e9943",
            "66796ff4b8d24a839b269471e16ce4ad",
            "8db9800694004066ba2e84cfe9eee767",
            "03433d7285ba4e4ebb204dadd8fbfcb2",
            "78e22d841b81427788d8d34fa0b3d245",
            "877ec5afd62f4e348508215318ac621d",
            "a63cace0e0ea43d2a0bbe3ae0b91abfd",
            "38657d6bea3c4b14b271b05c6541ad24",
            "e4799051eda24744b8fe31a3dbc6d7f4",
            "017a2c995e8946ba9282442b93e3ae8b",
            "d17a1065765a4365b3693f06899e6a53",
            "fd3bff60f0f5455f8abfd2f660b1160d",
            "d650a3ca565f4b35af8465e827b77fb7",
            "6dff3d5e39ee4b79b1a514c2c79be38f",
            "33362f2ab0a34e1f9028b65eaa9da9a6",
            "4905051c33fc45a19d3988808c16469e",
            "25bd5ab787574f4d9a1ae2c2f31e6d57",
            "ec17bb4f941c4362a8b7ae4f431f2fc5",
            "daeae200f0fa4cc59d7551e7fd1fc937",
            "5748ef6954c84ed1828fda6199e8be0f",
            "81c6d89bb9f34a1580d57773b934de88",
            "09b1cd8fdd4d44cda363d461d6a2ff3f",
            "8b316af8825a499cba20f7fa6dbfacca",
            "eaa262047a0448ab860e786113e2899c",
            "4f7b70da70da444ebacc20f9bbe204b1",
            "469a918656fe4636be08f6b15232ad14",
            "c2e70d52da14433e92d7005fb9968a45",
            "5110f813b6ed4b37868a2f6cf50b80ea"
          ]
        },
        "id": "15QM1CZQtRWr",
        "outputId": "7f6ef6cc-01d3-462f-db90-2b93ca0c33fb"
      },
      "outputs": [
        {
          "data": {
            "application/vnd.jupyter.widget-view+json": {
              "model_id": "63531ce54b70490a9e63d671da9aa4c6",
              "version_major": 2,
              "version_minor": 0
            },
            "text/plain": [
              "Downloading (…)rocessor_config.json:   0%|          | 0.00/231 [00:00<?, ?B/s]"
            ]
          },
          "metadata": {},
          "output_type": "display_data"
        },
        {
          "data": {
            "application/vnd.jupyter.widget-view+json": {
              "model_id": "78b01b56223b45d8b573a12ca3de97e8",
              "version_major": 2,
              "version_minor": 0
            },
            "text/plain": [
              "Downloading (…)okenizer_config.json:   0%|          | 0.00/2.61k [00:00<?, ?B/s]"
            ]
          },
          "metadata": {},
          "output_type": "display_data"
        },
        {
          "data": {
            "application/vnd.jupyter.widget-view+json": {
              "model_id": "6b733a05626d4d56bb823a2f5f3f0015",
              "version_major": 2,
              "version_minor": 0
            },
            "text/plain": [
              "Downloading spiece.model:   0%|          | 0.00/851k [00:00<?, ?B/s]"
            ]
          },
          "metadata": {},
          "output_type": "display_data"
        },
        {
          "data": {
            "application/vnd.jupyter.widget-view+json": {
              "model_id": "7aa7fea0930b44a6a9631a7900ac700d",
              "version_major": 2,
              "version_minor": 0
            },
            "text/plain": [
              "Downloading (…)/main/tokenizer.json:   0%|          | 0.00/3.27M [00:00<?, ?B/s]"
            ]
          },
          "metadata": {},
          "output_type": "display_data"
        },
        {
          "data": {
            "application/vnd.jupyter.widget-view+json": {
              "model_id": "a47e397965914b1cadb77888b9252205",
              "version_major": 2,
              "version_minor": 0
            },
            "text/plain": [
              "Downloading (…)cial_tokens_map.json:   0%|          | 0.00/2.20k [00:00<?, ?B/s]"
            ]
          },
          "metadata": {},
          "output_type": "display_data"
        },
        {
          "data": {
            "application/vnd.jupyter.widget-view+json": {
              "model_id": "a63cace0e0ea43d2a0bbe3ae0b91abfd",
              "version_major": 2,
              "version_minor": 0
            },
            "text/plain": [
              "Downloading (…)lve/main/config.json:   0%|          | 0.00/4.92k [00:00<?, ?B/s]"
            ]
          },
          "metadata": {},
          "output_type": "display_data"
        },
        {
          "data": {
            "application/vnd.jupyter.widget-view+json": {
              "model_id": "ec17bb4f941c4362a8b7ae4f431f2fc5",
              "version_major": 2,
              "version_minor": 0
            },
            "text/plain": [
              "Downloading pytorch_model.bin:   0%|          | 0.00/1.13G [00:00<?, ?B/s]"
            ]
          },
          "metadata": {},
          "output_type": "display_data"
        }
      ],
      "source": [
        "repo_id = \"google/pix2struct-base\"\n",
        "\n",
        "processor = AutoProcessor.from_pretrained(repo_id)\n",
        "model = Pix2StructForConditionalGeneration.from_pretrained(repo_id, is_encoder_decoder=True)"
      ]
    },
    {
      "cell_type": "code",
      "execution_count": null,
      "metadata": {
        "colab": {
          "base_uri": "https://localhost:8080/"
        },
        "id": "pbOXdTmPEbGi",
        "outputId": "f823300a-17a9-4b4f-8f54-d1a7f34c7b45"
      },
      "outputs": [
        {
          "name": "stdout",
          "output_type": "stream",
          "text": [
            "Loading model from checkpoint: Pix2Struct_SynthBootstrap_10000_Complete_epoch[19].pth\n"
          ]
        }
      ],
      "source": [
        "if LOAD_FROM_CHECKPOINT:\n",
        "    print(\"Loading model from checkpoint:\", LAST_CHECKPOINT_NAME)\n",
        "    checkpoint = torch.load(G_DRIVE_FOLDER_CHECKPOINTS + LAST_CHECKPOINT_NAME)\n",
        "\n",
        "    # Load only model weights from training on synth bootstrap dataset\n",
        "    model.load_state_dict(checkpoint[\"model_state_dict\"])\n"
      ]
    },
    {
      "cell_type": "markdown",
      "metadata": {
        "id": "8vyJVirgV8VN"
      },
      "source": [
        "## Create Dataset class"
      ]
    },
    {
      "cell_type": "markdown",
      "metadata": {
        "id": "pxls5fsNDAXL"
      },
      "source": [
        "### Find max sentence length and new unknown tokens"
      ]
    },
    {
      "cell_type": "code",
      "execution_count": null,
      "metadata": {
        "colab": {
          "base_uri": "https://localhost:8080/"
        },
        "id": "f1Q8943LSO-b",
        "outputId": "8ce9e707-6afa-4c7c-8f06-aed82b0c64e7"
      },
      "outputs": [
        {
          "name": "stdout",
          "output_type": "stream",
          "text": [
            "under 4096 : 2442\n"
          ]
        }
      ],
      "source": [
        "all_paths = []\n",
        "with open(G_DRIVE_FOLDER + 'webUI2Code_list_files_4096.txt', 'r') as file:\n",
        "    all_paths += [line.strip() for line in file]\n",
        "    print(\"under 4096 : \" + str(len(all_paths)))"
      ]
    },
    {
      "cell_type": "code",
      "execution_count": null,
      "metadata": {
        "colab": {
          "base_uri": "https://localhost:8080/"
        },
        "id": "ZqMid-_0CXay",
        "outputId": "627d9260-6593-440e-f4f4-141c4a6ab6c4"
      },
      "outputs": [
        {
          "data": {
            "text/plain": [
              "2442"
            ]
          },
          "execution_count": 13,
          "metadata": {},
          "output_type": "execute_result"
        }
      ],
      "source": [
        "len(all_paths)"
      ]
    },
    {
      "cell_type": "markdown",
      "metadata": {
        "id": "3J235iNOT5I9"
      },
      "source": [
        "### Filter samples with images which are too big, too small, or with strange aspect ratios"
      ]
    },
    {
      "cell_type": "code",
      "execution_count": null,
      "metadata": {
        "id": "8OapS0LNT4cG"
      },
      "outputs": [],
      "source": [
        "all_paths_filtered = []\n",
        "\n",
        "max_width = 2000\n",
        "max_height = 8000\n",
        "min_width = 250\n",
        "min_height = 250\n",
        "min_ratio = 0.10\n",
        "max_ratio = 2\n",
        "\n",
        "for path in all_paths:\n",
        "    json_path = path.replace(\".txt\", \".json\")\n",
        "    with open(DATASET_FOLDER + json_path, \"r\") as f:\n",
        "        data = json.load(f)\n",
        "        width, height = data[\"screenshot_dimensions\"]\n",
        "        ratio = width / height\n",
        "\n",
        "        if ratio >= min_ratio and ratio <= max_ratio and width <= max_width and width >= min_width and height <= max_height and height >= min_height:\n",
        "            all_paths_filtered.append(path)"
      ]
    },
    {
      "cell_type": "code",
      "execution_count": null,
      "metadata": {
        "colab": {
          "base_uri": "https://localhost:8080/"
        },
        "id": "7W4QoDWuVrkR",
        "outputId": "68998b94-ccef-4f82-882f-e5966729dbe4"
      },
      "outputs": [
        {
          "data": {
            "text/plain": [
              "2373"
            ]
          },
          "execution_count": 15,
          "metadata": {},
          "output_type": "execute_result"
        }
      ],
      "source": [
        "len(all_paths_filtered)"
      ]
    },
    {
      "cell_type": "code",
      "execution_count": null,
      "metadata": {
        "id": "dm1ZsI1OVu3t"
      },
      "outputs": [],
      "source": [
        "all_paths = all_paths_filtered"
      ]
    },
    {
      "cell_type": "code",
      "execution_count": null,
      "metadata": {
        "id": "kbF0_mn7HRAH"
      },
      "outputs": [],
      "source": [
        "#all_paths = all_paths[:10000]"
      ]
    },
    {
      "cell_type": "code",
      "execution_count": null,
      "metadata": {
        "colab": {
          "base_uri": "https://localhost:8080/"
        },
        "id": "YEhd7D32SZrf",
        "outputId": "deda488d-8bea-4403-b159-65116670d34b"
      },
      "outputs": [
        {
          "name": "stderr",
          "output_type": "stream",
          "text": [
            "You are resizing the embedding layer without providing a `pad_to_multiple_of` parameter. This means that the new embedding dimension will be 50456. This might induce some performance reduction as *Tensor Cores* will not be available. For more details about this, or help on choosing the correct value for resizing, refer to this guide: https://docs.nvidia.com/deeplearning/performance/dl-performance-matrix-multiplication/index.html#requirements-tc\n"
          ]
        },
        {
          "name": "stdout",
          "output_type": "stream",
          "text": [
            "Max sentence length = 4092\n",
            "Number of new tokens = 112\n"
          ]
        }
      ],
      "source": [
        "# Find max length\n",
        "max_length = 0\n",
        "\n",
        "# Read text files and add new tokens to dictionary\n",
        "tokens_to_add = set()\n",
        "for text_file_path in all_paths:\n",
        "    with open(TEXT_FILES_FOLDER + text_file_path, \"r\") as reader:\n",
        "        splitted_text = processor.tokenizer(reader.read()).tokens()\n",
        "        tokens_to_add = tokens_to_add.union(set(splitted_text))\n",
        "\n",
        "        # Check if the current sentence has the largest number of tokens\n",
        "        if len(splitted_text) > max_length:\n",
        "            max_length = len(splitted_text)\n",
        "\n",
        "print(f\"Max sentence length = {max_length}\")\n",
        "\n",
        "newly_added_num = processor.tokenizer.add_tokens(list(tokens_to_add))\n",
        "print(f\"Number of new tokens = {newly_added_num}\")\n",
        "\n",
        "# Resize the model's token embeddings if there are new tokens\n",
        "if newly_added_num > 0:\n",
        "    model.decoder.resize_token_embeddings(len(processor.tokenizer))"
      ]
    },
    {
      "cell_type": "markdown",
      "metadata": {
        "id": "SfKTQ5aMPtfN"
      },
      "source": [
        "### Split files into training - validation - test sets"
      ]
    },
    {
      "cell_type": "code",
      "execution_count": null,
      "metadata": {
        "colab": {
          "base_uri": "https://localhost:8080/"
        },
        "id": "FJJvSGk00jfL",
        "outputId": "0d27237c-27f8-4c46-edae-213b4e92b335"
      },
      "outputs": [
        {
          "name": "stdout",
          "output_type": "stream",
          "text": [
            "TRAIN_SET size = 2130\n",
            "VALID_SET size = 4\n",
            "TEST_SET size = 239\n"
          ]
        }
      ],
      "source": [
        "random.seed(RANDOM_SEED)\n",
        "\n",
        "# Use the same seed, so that parts remain the same\n",
        "random.shuffle(all_paths)\n",
        "\n",
        "train_len = int(TRAIN_SET_PERCENTAGE * len(all_paths))\n",
        "valid_len = int(VALID_SET_PERCENTAGE * len(all_paths))\n",
        "\n",
        "train_paths = all_paths[:train_len]\n",
        "valid_paths = all_paths[train_len:train_len+valid_len]\n",
        "test_paths = all_paths[train_len+valid_len:]\n",
        "\n",
        "print(f\"TRAIN_SET size = {len(train_paths)}\")\n",
        "print(f\"VALID_SET size = {len(valid_paths)}\")\n",
        "print(f\"TEST_SET size = {len(test_paths)}\")"
      ]
    },
    {
      "cell_type": "code",
      "execution_count": null,
      "metadata": {
        "id": "EiExjyGE1cla"
      },
      "outputs": [],
      "source": [
        "class WebUI2CodeTrainingDataset(Dataset):\n",
        "    # This is a modification of the dataset used for validation and testing\n",
        "    # In this one the sentences are already split into chunks, already having\n",
        "    # the context from the previous chunk, empty chunks are discarded\n",
        "    def __init__(self, root_dir, transform, text_files_paths, root_dir_text_files):\n",
        "\n",
        "        self.root_dir = root_dir\n",
        "        self.root_dir_text_files = root_dir_text_files\n",
        "        self.transform = transform\n",
        "        self.text_files_paths = text_files_paths\n",
        "\n",
        "        self.max_patches = MAX_PATCHES\n",
        "        self.max_length = MAX_SENTENCE_LEN\n",
        "        self.ignore_id = -100\n",
        "\n",
        "        self.data = []\n",
        "        self.images_encoding = []\n",
        "\n",
        "        for text_file in tqdm(text_files_paths):\n",
        "            image_file = text_file.replace('.txt', '.png')\n",
        "\n",
        "            # Directly process the text files, and save them in the ram\n",
        "            # Do the same also for images, if there is enough space in memory\n",
        "            text_file_path = os.path.join(root_dir_text_files , text_file)\n",
        "            image_file_path = os.path.join(root_dir , image_file)\n",
        "\n",
        "            # Each data entry has the following structure\n",
        "            # labels, image_encoding_idx, part\n",
        "\n",
        "            # image_encoding_idx points to an entry of images_encoding, which contains attention_mask and flattened_patches for the image\n",
        "            # Since a single image is used for multiple slices of the same text, this approach is used to save memory\n",
        "\n",
        "            # Load image\n",
        "            image = Image.open(image_file_path).convert('RGB')\n",
        "\n",
        "            if DEBUG:\n",
        "                image.show()\n",
        "\n",
        "            if self.transform:\n",
        "                image = self.transform(image)\n",
        "\n",
        "            encoding = processor(images=image, max_patches=self.max_patches, return_tensors=\"pt\")\n",
        "            encoding = {k:v.squeeze() for k,v in encoding.items()}\n",
        "\n",
        "            self.images_encoding.append(encoding)\n",
        "            image_encoding_idx = len(self.images_encoding) - 1\n",
        "\n",
        "            # Load text\n",
        "            with open(text_file_path, 'r') as f:\n",
        "                text = f.read()\n",
        "\n",
        "            if DEBUG:\n",
        "              print(\"text:\")\n",
        "              print(text)\n",
        "\n",
        "            input_ids = processor.tokenizer(\n",
        "                text,\n",
        "                max_length=self.max_length,\n",
        "                padding=\"max_length\",\n",
        "                truncation=True,\n",
        "                return_tensors=\"pt\",\n",
        "            ).input_ids\n",
        "\n",
        "            input_ids_slices = []\n",
        "\n",
        "            start_index = 0\n",
        "            end_index = CHUNK_LENGTH\n",
        "            while end_index <= MAX_SENTENCE_LEN:\n",
        "                input_ids_slices.append(input_ids[:, start_index:end_index])\n",
        "                start_index = end_index - CONTEXT_OVERLAP_LENGTH\n",
        "                end_index = start_index + CHUNK_LENGTH\n",
        "\n",
        "            for part, input_ids_slice in enumerate(input_ids_slices):\n",
        "                labels = input_ids_slice.squeeze().clone()\n",
        "\n",
        "                labels[labels == processor.tokenizer.pad_token_id] = self.ignore_id  # model doesn't need to predict pad token\n",
        "\n",
        "                # Skip slices with only padding tokens, ignore context from the previous chunk\n",
        "                if part != 0 and all(x == self.ignore_id for x in labels[CONTEXT_OVERLAP_LENGTH:]):\n",
        "                    continue\n",
        "\n",
        "                # labels, image_encoding_idx, part\n",
        "                # Save them as int32 to save ram memory\n",
        "                self.data.append((labels.to(torch.int32), image_encoding_idx, part))\n",
        "\n",
        "    def __len__(self):\n",
        "        return len(self.data)\n",
        "\n",
        "    def __getitem__(self, idx):\n",
        "        labels, image_encoding_idx, part = self.data[idx]\n",
        "        encoding = self.images_encoding[image_encoding_idx]\n",
        "        encoding[\"labels\"] = labels.to(torch.int64)\n",
        "\n",
        "        return encoding, part"
      ]
    },
    {
      "cell_type": "code",
      "execution_count": null,
      "metadata": {
        "id": "oMC2-OYYWB75"
      },
      "outputs": [],
      "source": [
        "class WebUI2CodeDataset(Dataset):\n",
        "    def __init__(self, root_dir, transform, text_files_paths, root_dir_text_files):\n",
        "\n",
        "        self.root_dir = root_dir\n",
        "        self.root_dir_text_files = root_dir_text_files\n",
        "        self.transform = transform\n",
        "        self.text_files_paths = text_files_paths\n",
        "\n",
        "        self.max_patches = MAX_PATCHES\n",
        "        self.max_length = MAX_SENTENCE_LEN\n",
        "        self.ignore_id = -100\n",
        "\n",
        "        self.encodings = []\n",
        "\n",
        "        for text_file in tqdm(text_files_paths):\n",
        "            image_file = text_file.replace('.txt', '.png')\n",
        "\n",
        "            # Directly process the text files, and save them in the ram\n",
        "            # Do the same also for images, if there is enough space in memory\n",
        "            text_file_path = os.path.join(root_dir_text_files + text_file)\n",
        "            image_file_path = os.path.join(root_dir + image_file)\n",
        "\n",
        "            # Load image\n",
        "            image = Image.open(image_file_path).convert('RGB')\n",
        "\n",
        "            if DEBUG:\n",
        "                image.show()\n",
        "\n",
        "            if self.transform:\n",
        "                image = self.transform(image)\n",
        "\n",
        "            encoding = processor(images=image, max_patches=self.max_patches, return_tensors=\"pt\")\n",
        "            encoding = {k:v.squeeze() for k,v in encoding.items()}\n",
        "\n",
        "            # Load text\n",
        "            with open(text_file_path, 'r') as f:\n",
        "                text = f.read()\n",
        "\n",
        "            if DEBUG:\n",
        "              print(\"text:\")\n",
        "              print(text)\n",
        "\n",
        "            input_ids = processor.tokenizer(\n",
        "                text,\n",
        "                max_length=self.max_length,\n",
        "                padding=\"max_length\",\n",
        "                truncation=True,\n",
        "                return_tensors=\"pt\",\n",
        "            ).input_ids\n",
        "\n",
        "            labels = input_ids.squeeze().clone()\n",
        "            labels[labels == processor.tokenizer.pad_token_id] = self.ignore_id  # model doesn't need to predict pad token\n",
        "\n",
        "            encoding[\"labels\"] = labels.to(torch.int32)\n",
        "\n",
        "            # For each sample save directly the encoding of both text and image\n",
        "            self.encodings.append(encoding)\n",
        "\n",
        "    def __len__(self):\n",
        "        return len(self.encodings)\n",
        "\n",
        "    def __getitem__(self, idx):\n",
        "        return self.encodings[idx]"
      ]
    },
    {
      "cell_type": "code",
      "execution_count": null,
      "metadata": {
        "colab": {
          "base_uri": "https://localhost:8080/"
        },
        "id": "WulOgKwb1aNh",
        "outputId": "e21515a0-6ea8-4b9a-af2b-b90f69fd22d9"
      },
      "outputs": [
        {
          "name": "stderr",
          "output_type": "stream",
          "text": [
            "100%|██████████| 2130/2130 [04:07<00:00,  8.62it/s]\n",
            "100%|██████████| 4/4 [00:00<00:00, 11.69it/s]\n"
          ]
        }
      ],
      "source": [
        "# Transformations for the image\n",
        "transform = transforms.Compose([\n",
        "    transforms.ToTensor(),  # convert PIL Image to PyTorch Tensor\n",
        "    transforms.Normalize(mean=[0.485, 0.456, 0.406], std=[0.229, 0.224, 0.225]),  # normalize for pretrained models\n",
        "])\n",
        "\n",
        "# Instantiate the CustomDataset\n",
        "train_dataset = WebUI2CodeTrainingDataset(DATASET_FOLDER, transform, train_paths, TEXT_FILES_FOLDER)\n",
        "val_dataset = WebUI2CodeDataset(DATASET_FOLDER, transform, valid_paths, TEXT_FILES_FOLDER)\n",
        "\n",
        "# Use DataLoader for batching and shuffling\n",
        "train_dataloader = DataLoader(train_dataset, batch_size=BATCH_SIZE, shuffle=True)\n",
        "val_dataloader = DataLoader(val_dataset, batch_size=10, shuffle=False) # Use 10 as batch for testing since they are lighter"
      ]
    },
    {
      "cell_type": "code",
      "execution_count": null,
      "metadata": {
        "colab": {
          "base_uri": "https://localhost:8080/"
        },
        "id": "RJbcAvt2eSvb",
        "outputId": "03da3030-511c-4dbb-85a6-0831fd707e43"
      },
      "outputs": [
        {
          "name": "stdout",
          "output_type": "stream",
          "text": [
            "train_dataloader size = 1933\n",
            "val_dataloader size = 1\n"
          ]
        }
      ],
      "source": [
        "print(f\"train_dataloader size = {len(train_dataloader)}\")\n",
        "print(f\"val_dataloader size = {len(val_dataloader)}\")"
      ]
    },
    {
      "cell_type": "code",
      "execution_count": null,
      "metadata": {
        "id": "PqriagijAJPV"
      },
      "outputs": [],
      "source": [
        "batch = next(iter(train_dataloader))"
      ]
    },
    {
      "cell_type": "code",
      "execution_count": null,
      "metadata": {
        "id": "weky0ZtQALky"
      },
      "outputs": [],
      "source": [
        "encoding, part = batch"
      ]
    },
    {
      "cell_type": "code",
      "execution_count": null,
      "metadata": {
        "colab": {
          "base_uri": "https://localhost:8080/"
        },
        "id": "2zjLcfjQDQYg",
        "outputId": "8fb80de8-85aa-49ef-fe8e-d46158adc15c"
      },
      "outputs": [
        {
          "data": {
            "text/plain": [
              "tensor([[ 3795,   435,  4028,  ...,  -100,  -100,  -100],\n",
              "        [  288,  8144,   327,  ...,   619, 12588,   476],\n",
              "        [ 5405,   274, 42706,  ...,   288, 30117,   288],\n",
              "        [21107,  1742,  4015,  ...,  -100,  -100,  -100]])"
            ]
          },
          "execution_count": 26,
          "metadata": {},
          "output_type": "execute_result"
        }
      ],
      "source": [
        "encoding[\"labels\"]"
      ]
    },
    {
      "cell_type": "markdown",
      "metadata": {
        "id": "g7DngCr1FJQJ"
      },
      "source": [
        "## Training"
      ]
    },
    {
      "cell_type": "code",
      "execution_count": null,
      "metadata": {
        "id": "zkCJQz_GEM4W"
      },
      "outputs": [],
      "source": [
        "START_TOKEN_ID = PAD_TOKEN_ID = processor.tokenizer.pad_token_id"
      ]
    },
    {
      "cell_type": "markdown",
      "metadata": {
        "id": "fWSsn0vr1mV2"
      },
      "source": [
        "### Utility functions"
      ]
    },
    {
      "cell_type": "code",
      "execution_count": null,
      "metadata": {
        "id": "mq6Y22hDqn3x"
      },
      "outputs": [],
      "source": [
        "def move_to_device(data):\n",
        "    if isinstance(data, (list,tuple)):\n",
        "        return [move_to_device(x) for x in data]\n",
        "    elif isinstance(data, dict):\n",
        "        return {k: move_to_device(v) for k, v in data.items()}\n",
        "    elif isinstance(data, torch.Tensor):\n",
        "        return data.to(DEVICE)\n",
        "    else:\n",
        "        return data"
      ]
    },
    {
      "cell_type": "code",
      "execution_count": null,
      "metadata": {
        "id": "JRX7UDLE4Nh8"
      },
      "outputs": [],
      "source": [
        "def create_extended_attention_mask_for_decoder_with_context(input_shape, attention_mask, part):\n",
        "    device = attention_mask.device\n",
        "    batch_size, seq_length = input_shape\n",
        "    seq_ids = torch.arange(seq_length, device=device)\n",
        "\n",
        "    causal_mask = seq_ids[None, None, :].repeat(batch_size, seq_length, 1) <= seq_ids[None, :, None]\n",
        "\n",
        "    # Expand part to have the same shape as the relevant slice of causal_mask\n",
        "    part_expanded = part.unsqueeze(-1).unsqueeze(-1).expand(-1, seq_length, CONTEXT_OVERLAP_LENGTH)\n",
        "\n",
        "    # Create a mask with ones where part is not zero\n",
        "    context_mask = (part_expanded != 0).float()\n",
        "\n",
        "    # Apply the context_mask to the corresponding part of causal_mask\n",
        "    causal_mask[:, :, :CONTEXT_OVERLAP_LENGTH] = causal_mask[:, :, :CONTEXT_OVERLAP_LENGTH] * (1 - context_mask) + context_mask\n",
        "\n",
        "    # in case past_key_values are used we need to add a prefix ones mask to the causal mask\n",
        "    causal_mask = causal_mask.to(attention_mask.dtype)\n",
        "\n",
        "    if causal_mask.shape[1] < attention_mask.shape[1]:\n",
        "        print(\"!!should not enter here in my case!!\")\n",
        "        prefix_seq_len = attention_mask.shape[1] - causal_mask.shape[1]\n",
        "        causal_mask = torch.cat(\n",
        "            [\n",
        "                torch.ones((batch_size, seq_length, prefix_seq_len), device=device, dtype=causal_mask.dtype),\n",
        "                causal_mask,\n",
        "            ],\n",
        "            axis=-1,\n",
        "        )\n",
        "\n",
        "    extended_attention_mask = causal_mask[:, :, :] * attention_mask[:, None, :]\n",
        "    return extended_attention_mask\n"
      ]
    },
    {
      "cell_type": "code",
      "execution_count": null,
      "metadata": {
        "id": "8RMB16MR53fK"
      },
      "outputs": [],
      "source": [
        "def get_attention_mask(decoder_input_ids, part):\n",
        "    decoder_attention_mask = (decoder_input_ids.ne(PAD_TOKEN_ID).float())\n",
        "\n",
        "    # always attend on first token\n",
        "    decoder_attention_mask[:, 0] = 1\n",
        "\n",
        "    # Expand part to have the same shape as the relevant slice of decoder_attention_mask\n",
        "    part_expanded = part.unsqueeze(-1).expand(-1, CONTEXT_OVERLAP_LENGTH)\n",
        "\n",
        "    # Create a mask with ones where part is not zero\n",
        "    context_mask = (part_expanded != 0).float()\n",
        "\n",
        "    # Apply the context_mask to the corresponding part of decoder_attention_mask\n",
        "    decoder_attention_mask[:, 0:CONTEXT_OVERLAP_LENGTH] = decoder_attention_mask[:, 0:CONTEXT_OVERLAP_LENGTH] * (1 - context_mask) + context_mask\n",
        "\n",
        "    return decoder_attention_mask"
      ]
    },
    {
      "cell_type": "code",
      "execution_count": null,
      "metadata": {
        "id": "I4EwQ8iP8a9I"
      },
      "outputs": [],
      "source": [
        "def shift_right_modified(input_ids, decoder_starting_token_idx):\n",
        "\n",
        "    # shift inputs to the right\n",
        "    shifted_input_ids = input_ids.new_zeros(input_ids.shape)\n",
        "    shifted_input_ids[..., 1:] = input_ids[..., :-1].clone()\n",
        "    shifted_input_ids[..., 0] = decoder_starting_token_idx\n",
        "\n",
        "    # replace possible -100 values in labels by `pad_token_id`\n",
        "    shifted_input_ids.masked_fill_(shifted_input_ids == -100, PAD_TOKEN_ID)\n",
        "\n",
        "    return shifted_input_ids"
      ]
    },
    {
      "cell_type": "code",
      "execution_count": null,
      "metadata": {
        "id": "Mvsy0HBseyzQ"
      },
      "outputs": [],
      "source": [
        "def get_decoder_input_ids(labels_chunk, start_id):\n",
        "    return shift_right_modified(labels_chunk, start_id)"
      ]
    },
    {
      "cell_type": "code",
      "execution_count": null,
      "metadata": {
        "id": "2LqZyYsWOywQ"
      },
      "outputs": [],
      "source": [
        "def get_decoder_input_ids_and_attention_mask(labels, part):\n",
        "    decoder_input_ids = get_decoder_input_ids(labels, START_TOKEN_ID)\n",
        "    decoder_attention_mask = get_attention_mask(decoder_input_ids, part)\n",
        "    extended_decoder_attention_mask = create_extended_attention_mask_for_decoder_with_context(decoder_input_ids.shape, decoder_attention_mask, part)\n",
        "\n",
        "    return decoder_input_ids, extended_decoder_attention_mask"
      ]
    },
    {
      "cell_type": "markdown",
      "metadata": {
        "id": "TEt-owxM1puj"
      },
      "source": [
        "### Main training function"
      ]
    },
    {
      "cell_type": "code",
      "execution_count": null,
      "metadata": {
        "id": "1j0_8Yk6Gk4-"
      },
      "outputs": [],
      "source": [
        "def train_model(config, processor, model, train_dataloader, val_dataloader):\n",
        "    # Extract configuration values\n",
        "    lr = config.get(\"lr\")\n",
        "    max_epochs = config.get(\"max_epochs\")\n",
        "    num_warmup_steps = config.get(\"num_warmup_steps\")\n",
        "\n",
        "    model.to(DEVICE)\n",
        "\n",
        "    optimizer = Adafactor(model.parameters(), scale_parameter=False, relative_step=False, lr=lr, weight_decay=1e-05)\n",
        "\n",
        "    # Use total steps (i.e., max_epochs * length_of_train_data)\n",
        "    total_steps = max_epochs * len(train_dataloader)\n",
        "    scheduler = get_cosine_schedule_with_warmup(optimizer,\n",
        "                                                num_warmup_steps=num_warmup_steps,\n",
        "                                                num_training_steps=total_steps)\n",
        "\n",
        "    global_step = 0  # to keep track of total steps\n",
        "    epoch_start = 0\n",
        "\n",
        "    wandb.init(project=\"Pix2Struct\", name=\"run-\" + EXPERIMENT_NAME, config=config)\n",
        "\n",
        "    #epoch_last = epoch_start + max_epochs - 1\n",
        "    epoch_last = max_epochs - 1\n",
        "    #for epoch in range(epoch_start, epoch_start + max_epochs):\n",
        "    for epoch in range(epoch_start, max_epochs):\n",
        "        global_step, moving_avg_loss = training_loop(epoch, train_dataloader, model, config, optimizer, scheduler, global_step, epoch_last)\n",
        "\n",
        "        if config.get(\"verbose\", False):\n",
        "            print(f\"Moving Avg Loss: {moving_avg_loss:.3f}\")\n",
        "\n",
        "        wandb.log({\"moving_avg_loss\": moving_avg_loss, **{f'lr_{i}': param_group['lr'] for i, param_group in enumerate(optimizer.param_groups)}})\n",
        "\n",
        "        # Save the model after each validation step\n",
        "        save_checkpoint(model, optimizer, scheduler, epoch, global_step, wandb.run.id, EXPERIMENT_NAME, G_DRIVE_FOLDER_CHECKPOINTS)\n",
        "\n",
        "        #if epoch == 0 + epoch_start or epoch == epoch_last or (epoch + 1) % config.get(\"check_val_every_n_epoch\") == 0:\n",
        "        if epoch == epoch_last or (epoch + 1) % config.get(\"check_val_every_n_epoch\") == 0:\n",
        "            avg_bleu_score = testing_loop(val_dataloader, model, processor, config, f\"Epoch {epoch}/{epoch_last} - valid loop\")\n",
        "\n",
        "            if config.get(\"verbose\", False):\n",
        "                print(f\" Avg Bleu Score: {avg_bleu_score:.2f}\")\n",
        "\n",
        "            wandb.log({\"bleu\": avg_bleu_score})\n",
        "\n",
        "    wandb.finish()"
      ]
    },
    {
      "cell_type": "code",
      "execution_count": null,
      "metadata": {
        "id": "wg6u7CI38kMU"
      },
      "outputs": [],
      "source": [
        "def training_loop(epoch, train_dataloader, model, config, optimizer, scheduler, global_step, epoch_last):\n",
        "    model.train()\n",
        "    train_loop = tqdm(enumerate(train_dataloader), total=len(train_dataloader), desc=f\"Epoch {epoch}/{epoch_last} - train loop\")\n",
        "\n",
        "    # Extract configuration values\n",
        "    accumulate_grad_batches = config.get('accumulate_grad_batches', 1)\n",
        "    gradient_clip_val = config.get(\"gradient_clip_val\")\n",
        "\n",
        "    moving_avg_loss = 0\n",
        "    alpha = 0.1 # Smoothing factor\n",
        "\n",
        "    for step, batch in train_loop:\n",
        "        encoding, part = map(move_to_device, batch)\n",
        "        labels, flattened_patches, attention_mask = encoding[\"labels\"], encoding[\"flattened_patches\"], encoding[\"attention_mask\"]\n",
        "\n",
        "        decoder_input_ids, decoder_attention_mask = get_decoder_input_ids_and_attention_mask(labels, part)\n",
        "        outputs = model(labels=labels, flattened_patches=flattened_patches, attention_mask=attention_mask, decoder_input_ids=decoder_input_ids, decoder_attention_mask=decoder_attention_mask)\n",
        "        loss = outputs.loss\n",
        "        loss.backward()\n",
        "\n",
        "        if global_step % accumulate_grad_batches == 0 or step == len(train_dataloader) - 1:\n",
        "            if gradient_clip_val:\n",
        "                torch.nn.utils.clip_grad_norm_(model.parameters(), gradient_clip_val)\n",
        "            optimizer.step()\n",
        "            optimizer.zero_grad()\n",
        "\n",
        "        # Update the progress bar\n",
        "        train_loop.set_postfix({'loss': loss.item()}, refresh=True)\n",
        "\n",
        "        scheduler.step()\n",
        "        global_step += 1\n",
        "\n",
        "        # Update the moving average loss\n",
        "        moving_avg_loss = loss.item() if moving_avg_loss == 0 else alpha * loss.item() + (1 - alpha) * moving_avg_loss\n",
        "\n",
        "        # Log Loss after each step\n",
        "        wandb.log({\"loss\": loss.item()})\n",
        "\n",
        "    return global_step, moving_avg_loss"
      ]
    },
    {
      "cell_type": "code",
      "execution_count": null,
      "metadata": {
        "id": "RXfc_whn-qJW"
      },
      "outputs": [],
      "source": [
        "def testing_loop(testing_dataloader, model, processor, config, description):\n",
        "    model.eval()\n",
        "    bleu_scores = []\n",
        "\n",
        "    with torch.no_grad():\n",
        "        test_loop = tqdm(enumerate(testing_dataloader), total=len(testing_dataloader), desc=description)\n",
        "        for i, batch in test_loop:\n",
        "            encoding = move_to_device(batch)\n",
        "            labels, flattened_patches, attention_mask = encoding[\"labels\"], encoding[\"flattened_patches\"], encoding[\"attention_mask\"]\n",
        "\n",
        "            # Initialize total_outputs with zeros\n",
        "            total_outputs = None\n",
        "            context_from_last = None\n",
        "\n",
        "            # Initialize a mask to track which sentences are finished\n",
        "            finished_sentences_mask = torch.zeros(flattened_patches.size(0), dtype=torch.bool, device=flattened_patches.device)\n",
        "\n",
        "            for iteration in range(MAX_N_CHUNKS_PER_SENTENCE):\n",
        "\n",
        "                generate_args = {\n",
        "                    \"flattened_patches\": flattened_patches[~finished_sentences_mask],\n",
        "                    \"attention_mask\": attention_mask[~finished_sentences_mask],\n",
        "                    \"max_new_tokens\": CHUNK_LENGTH - (CONTEXT_OVERLAP_LENGTH if iteration else 0),\n",
        "                }\n",
        "\n",
        "                if iteration and context_from_last is not None:\n",
        "                    generate_args[\"decoder_input_ids\"] = context_from_last[~finished_sentences_mask]\n",
        "\n",
        "                outputs = model.generate(**generate_args)\n",
        "\n",
        "                # Remove context overlap only from the second iteration onwards\n",
        "                new_chunks = outputs if iteration == 0 else outputs[:, CONTEXT_OVERLAP_LENGTH:]\n",
        "\n",
        "                if iteration == 0:\n",
        "                    total_outputs = new_chunks\n",
        "                else:\n",
        "                    # Update total_outputs by concatenating new chunks\n",
        "                    new_chunks_with_padding_chunks = torch.full((flattened_patches.shape[0], new_chunks.shape[1]), PAD_TOKEN_ID, dtype=new_chunks.dtype, device=new_chunks.device)\n",
        "                    new_chunks_with_padding_chunks[~finished_sentences_mask] = new_chunks\n",
        "                    total_outputs = torch.cat((total_outputs, new_chunks_with_padding_chunks), dim=1)\n",
        "\n",
        "                # Update the finished_sentences_mask\n",
        "                finished_sentences_mask[~finished_sentences_mask] |= (outputs == processor.tokenizer.eos_token_id).any(dim=1)\n",
        "\n",
        "                # If all sentences are finished, exit the loop\n",
        "                if finished_sentences_mask.all():\n",
        "                    break\n",
        "\n",
        "                if outputs.shape[1] < CHUNK_LENGTH:\n",
        "                    print(\"ERROR: !! should have already exited because all sentences reached the end!!\")\n",
        "\n",
        "                # -1 because it will put in front a START_TOKEN automatically\n",
        "                context_from_last = total_outputs[:, -(CONTEXT_OVERLAP_LENGTH-1):]\n",
        "\n",
        "            predictions = processor.tokenizer.batch_decode(total_outputs, skip_special_tokens=True)\n",
        "\n",
        "            labels[labels == -100] = 0\n",
        "            answers = processor.tokenizer.batch_decode(labels, skip_special_tokens=True)\n",
        "\n",
        "            bleu_scores += [corpus_bleu([[answer]], [pred], smoothing_function=SmoothingFunction().method4) for pred, answer in zip(predictions, answers)]\n",
        "\n",
        "            avg_bleu_score = np.mean(bleu_scores)\n",
        "            test_loop.set_postfix(bleu_score=avg_bleu_score)\n",
        "\n",
        "            if config.get(\"verbose\", False):\n",
        "                for pred, answer, bleu_score in zip(predictions, answers, bleu_scores):\n",
        "                    tqdm.write(f\"\\nPrediction: {pred}\\n    Answer: {answer}\\n      Bleu: {bleu_score:.2f}\")\n",
        "\n",
        "\n",
        "    return avg_bleu_score\n"
      ]
    },
    {
      "cell_type": "code",
      "execution_count": null,
      "metadata": {
        "id": "GhiWvFFFA8n4"
      },
      "outputs": [],
      "source": [
        "def save_checkpoint(model, optimizer, scheduler, epoch, global_step, wandb_run_id, experiment_name, folder_path):\n",
        "    checkpoint = {\n",
        "        \"model_state_dict\": model.state_dict(),\n",
        "        \"optimizer_state_dict\": optimizer.state_dict(),\n",
        "        \"scheduler_state_dict\": scheduler.state_dict(),\n",
        "        \"epoch\": epoch,\n",
        "        \"global_step\": global_step,\n",
        "        'wandb_run_id': wandb_run_id\n",
        "    }\n",
        "    model_name = f\"{experiment_name}_epoch[{epoch}].pth\"\n",
        "    torch.save(checkpoint, folder_path + model_name)\n"
      ]
    },
    {
      "cell_type": "code",
      "execution_count": null,
      "metadata": {
        "id": "F6Lme6odJJK8"
      },
      "outputs": [],
      "source": [
        "config = {\n",
        "          \"batch_size\": BATCH_SIZE,\n",
        "          \"num_warmup_steps\": NUM_WARMUP_STEPS,\n",
        "          \"max_epochs\": MAX_EPOCHS,\n",
        "          \"lr\": LR,\n",
        "          \"check_val_every_n_epoch\": CHECK_VAL_EVERY_N_EPOCH,\n",
        "          \"gradient_clip_val\": GRADIENT_CLIP_VAL,\n",
        "          \"accumulate_grad_batches\": ACCUMULATE_GRAD_BATCHES,\n",
        "          \"verbose\": VERBOSE,\n",
        "}"
      ]
    },
    {
      "cell_type": "code",
      "execution_count": null,
      "metadata": {
        "id": "QxemWk5nEfZL"
      },
      "outputs": [],
      "source": [
        "def validate_config(config):\n",
        "    # Check required keys\n",
        "    required_keys = [\n",
        "        \"batch_size\",\n",
        "        \"num_warmup_steps\",\n",
        "        \"max_epochs\",\n",
        "        \"lr\",\n",
        "        \"check_val_every_n_epoch\",\n",
        "        \"gradient_clip_val\",\n",
        "        \"accumulate_grad_batches\",\n",
        "        \"verbose\"\n",
        "    ]\n",
        "    for key in required_keys:\n",
        "        if key not in config:\n",
        "            raise ValueError(f\"Key '{key}' must be present in the configuration.\")\n",
        "\n",
        "    # Check that values are in expected ranges\n",
        "    if config[\"batch_size\"] <= 0:\n",
        "        raise ValueError(\"batch_size must be positive.\")\n",
        "    if config[\"num_warmup_steps\"] < 0:\n",
        "        raise ValueError(\"num_warmup_steps must be non-negative.\")\n",
        "    if config[\"max_epochs\"] <= 0:\n",
        "        raise ValueError(\"max_epochs must be positive.\")\n",
        "    if config[\"lr\"] <= 0:\n",
        "        raise ValueError(\"Learning rate must be positive.\")\n",
        "    if config[\"check_val_every_n_epoch\"] <= 0:\n",
        "        raise ValueError(\"check_val_every_n_epoch must be positive.\")\n",
        "    if config[\"gradient_clip_val\"] < 0:\n",
        "        raise ValueError(\"gradient_clip_val must be non-negative.\")\n",
        "    if config[\"accumulate_grad_batches\"] <= 0:\n",
        "        raise ValueError(\"accumulate_grad_batches must be positive.\")\n",
        "    if not isinstance(config[\"verbose\"], bool):\n",
        "        raise ValueError(\"verbose must be a boolean value.\")\n"
      ]
    },
    {
      "cell_type": "code",
      "execution_count": null,
      "metadata": {
        "colab": {
          "base_uri": "https://localhost:8080/"
        },
        "id": "knzzKEtwEruj",
        "outputId": "9ff57301-fa0b-4260-86df-07f86352c96d"
      },
      "outputs": [
        {
          "name": "stdout",
          "output_type": "stream",
          "text": [
            "{'batch_size': 4, 'num_warmup_steps': 2000, 'max_epochs': 10, 'lr': 0.0001, 'check_val_every_n_epoch': 5, 'gradient_clip_val': 1.0, 'accumulate_grad_batches': 2.0, 'verbose': True}\n"
          ]
        }
      ],
      "source": [
        "validate_config(config)\n",
        "print(config)"
      ]
    },
    {
      "cell_type": "code",
      "execution_count": null,
      "metadata": {
        "colab": {
          "base_uri": "https://localhost:8080/",
          "height": 1000,
          "referenced_widgets": [
            "df4842b277574b3e9d227d2926cb6627",
            "52a106b0fe4546fa88f236753e0127c3",
            "41d15510e1f3422fa92afc3397ecb136",
            "c2eefc1f04c24ffaa6548c696a2e247d",
            "9d114f7454814808ad80712cbec6802a",
            "228d1541ef1842c1aa1607f3fb053cb5",
            "711a6fa63c154b2088c0599430307573",
            "c26d960a6e0e49ad85b7a814b1775e06"
          ]
        },
        "id": "EPfNUdrEoci8",
        "outputId": "282b44cc-ec3c-4404-d48a-0b63bfeb5560"
      },
      "outputs": [
        {
          "data": {
            "application/javascript": "\n        window._wandbApiKey = new Promise((resolve, reject) => {\n            function loadScript(url) {\n            return new Promise(function(resolve, reject) {\n                let newScript = document.createElement(\"script\");\n                newScript.onerror = reject;\n                newScript.onload = resolve;\n                document.body.appendChild(newScript);\n                newScript.src = url;\n            });\n            }\n            loadScript(\"https://cdn.jsdelivr.net/npm/postmate/build/postmate.min.js\").then(() => {\n            const iframe = document.createElement('iframe')\n            iframe.style.cssText = \"width:0;height:0;border:none\"\n            document.body.appendChild(iframe)\n            const handshake = new Postmate({\n                container: iframe,\n                url: 'https://wandb.ai/authorize'\n            });\n            const timeout = setTimeout(() => reject(\"Couldn't auto authenticate\"), 5000)\n            handshake.then(function(child) {\n                child.on('authorize', data => {\n                    clearTimeout(timeout)\n                    resolve(data)\n                });\n            });\n            })\n        });\n    ",
            "text/plain": [
              "<IPython.core.display.Javascript object>"
            ]
          },
          "metadata": {},
          "output_type": "display_data"
        },
        {
          "name": "stderr",
          "output_type": "stream",
          "text": [
            "\u001b[34m\u001b[1mwandb\u001b[0m: Appending key for api.wandb.ai to your netrc file: /root/.netrc\n"
          ]
        },
        {
          "data": {
            "text/html": [
              "Tracking run with wandb version 0.15.9"
            ],
            "text/plain": [
              "<IPython.core.display.HTML object>"
            ]
          },
          "metadata": {},
          "output_type": "display_data"
        },
        {
          "data": {
            "text/html": [
              "Run data is saved locally in <code>/content/wandb/run-20230906_144850-3cjixt50</code>"
            ],
            "text/plain": [
              "<IPython.core.display.HTML object>"
            ]
          },
          "metadata": {},
          "output_type": "display_data"
        },
        {
          "data": {
            "text/html": [
              "Syncing run <strong><a href='https://wandb.ai/team-gs/Pix2Struct/runs/3cjixt50' target=\"_blank\">run-Pix2Struct_WebUI2Code_Complete_4096</a></strong> to <a href='https://wandb.ai/team-gs/Pix2Struct' target=\"_blank\">Weights & Biases</a> (<a href='https://wandb.me/run' target=\"_blank\">docs</a>)<br/>"
            ],
            "text/plain": [
              "<IPython.core.display.HTML object>"
            ]
          },
          "metadata": {},
          "output_type": "display_data"
        },
        {
          "data": {
            "text/html": [
              " View project at <a href='https://wandb.ai/team-gs/Pix2Struct' target=\"_blank\">https://wandb.ai/team-gs/Pix2Struct</a>"
            ],
            "text/plain": [
              "<IPython.core.display.HTML object>"
            ]
          },
          "metadata": {},
          "output_type": "display_data"
        },
        {
          "data": {
            "text/html": [
              " View run at <a href='https://wandb.ai/team-gs/Pix2Struct/runs/3cjixt50' target=\"_blank\">https://wandb.ai/team-gs/Pix2Struct/runs/3cjixt50</a>"
            ],
            "text/plain": [
              "<IPython.core.display.HTML object>"
            ]
          },
          "metadata": {},
          "output_type": "display_data"
        },
        {
          "name": "stderr",
          "output_type": "stream",
          "text": [
            "Epoch 0/9 - train loop: 100%|██████████| 1933/1933 [24:53<00:00,  1.29it/s, loss=1.99]\n"
          ]
        },
        {
          "name": "stdout",
          "output_type": "stream",
          "text": [
            "Moving Avg Loss: 1.413\n"
          ]
        },
        {
          "name": "stderr",
          "output_type": "stream",
          "text": [
            "Epoch 1/9 - train loop: 100%|██████████| 1933/1933 [24:49<00:00,  1.30it/s, loss=1.23]\n"
          ]
        },
        {
          "name": "stdout",
          "output_type": "stream",
          "text": [
            "Moving Avg Loss: 1.328\n"
          ]
        },
        {
          "name": "stderr",
          "output_type": "stream",
          "text": [
            "Epoch 2/9 - train loop: 100%|██████████| 1933/1933 [24:49<00:00,  1.30it/s, loss=1.07]\n"
          ]
        },
        {
          "name": "stdout",
          "output_type": "stream",
          "text": [
            "Moving Avg Loss: 0.914\n"
          ]
        },
        {
          "name": "stderr",
          "output_type": "stream",
          "text": [
            "Epoch 3/9 - train loop: 100%|██████████| 1933/1933 [24:49<00:00,  1.30it/s, loss=0.779]\n"
          ]
        },
        {
          "name": "stdout",
          "output_type": "stream",
          "text": [
            "Moving Avg Loss: 0.888\n"
          ]
        },
        {
          "name": "stderr",
          "output_type": "stream",
          "text": [
            "Epoch 4/9 - train loop: 100%|██████████| 1933/1933 [24:51<00:00,  1.30it/s, loss=1.17]\n"
          ]
        },
        {
          "name": "stdout",
          "output_type": "stream",
          "text": [
            "Moving Avg Loss: 0.826\n"
          ]
        },
        {
          "name": "stderr",
          "output_type": "stream",
          "text": [
            "Epoch 4/9 - valid loop: 100%|██████████| 1/1 [04:51<00:00, 291.67s/it, bleu_score=0.32]\n"
          ]
        },
        {
          "name": "stdout",
          "output_type": "stream",
          "text": [
            "\n",
            "Prediction: <html xmlns=\"https://example.com\"> <head> <title>Buy Lexapro Pills Online - Worldwide Delivery</title> <link href=\"lexapro.life.css\" media=\"screen\" rel=\"stylesheet\" type=\"text/css\"/> </head> <body> <div id=\"wrapper\"> <div id=\"header-wrapper\"> <div id=\"header\"> <div id=\"logo\"> <h1>Lexapro Worldwide Worldwide</h1> </div> <div id=\"menu\"><ul><li class=\"current_page_item\"><a href=\"ref.placeholder\">Homepage</a></li><li><a href=\"ref.placeholder\">Blog</a></li><li><a href=\"ref.placeholder\">Photos</a></li><li><a href=\"ref.placeholder\">About</a></li><li><a href=\"ref.placeholder\">Links</a></li><li><a href=\"ref.placeholder\">Contact</a></li></ul></div> </div> <div id=\"banner\"><img alt=\"Lexapro is a prescription medicine that can be used for the treatment of various other disorders.\" src=\"../../images/default_img.jpeg\"/></div> <div id=\"page\"> <div id=\"content\"> <div class=\"post\"> <h2 class=\"title\">a hrefref.placeholderWelcome to Surround Sarasa</h2> <p class=\"meta\"><span class=\"date\">September 10, 2011</span><span class=\"posted\">Posted by <a href=\"ref.placeholder\">Someone</a></span></p> <div style=\"clear:both\"></div> <div class=\"entry\"> <p>The following ones are expected to make a lot of possible effects, including light or severe discomfort, a rash of ailment.</p> <p>The following ones are expected to make a lot of possible effects, including light or severe discomfort, a rash of ailment.</p> </div> </div> <div class=\"post\"> <h2 class=\"title\">Praesent scelerisque</h2> <p class=\"meta\"><span class=\"date\">September 10, 2011</span><span class=\"posted\">Posted by <a href=\"ref.placeholder\">Someone</a></span></p> <div style=\"clear:both\"></div> <div class=\"entry\"> <p>Your medical professional is likewise suggested to ensure you have a reliable online pharmacy to purchase Lexapro from, so you should be certain you take it at the very least 3 times a day.</p> </div> </div> <div class=\"post\"> <h2 class=\"title\">Maecenas luctus</h2> <p class=\"meta\"><span class=\"date\">September 10, 2011</span><span class=\"posted\">Posted by <a href=\"ref.placeholder\">Someone</a></span></p> <div style=\"clear:both\"></div> <div class=\"entry\"> <p>Your medical professional is likewise suggested to ensure you have a reliable online pharmacy to purchase Lexapro from, so you should be certain you take it at the very least 3 times a day.</p> </div> </div> <div style=\"clear:both\"></div> </div> <div id=\"sidebar\"> <ul> <li> <h2>a hrefref.placeholderLorem ipsum sed aliquama</h2> <p>Lexapro is a prescription medicine that can be used for the treatment of various other disorders.</p> </li> <li> <h2>Aliquam tempus</h2> <ul><li><a href=\"ref.placeholder\">Aliquam libero</a></li><li><a href=\"ref.placeholder\">Consectetuer adipiscing elit</a></li><li><a href=\"ref.placeholder\">Metus aliquam pellentesque</a></li><li><a href=\"ref.placeholder\">Suspendisse iaculis mauris</a></li><li><a href=\"ref.placeholder\">Urnanet non molestie semper</a></li><li><a href=\"ref.placeholder\">Proin gravida orci porttitor</a></li></ul> </li> <li> <h2>Fusce fringilla</h2> <ul><li><a href=\"ref.placeholder\">Aliquam libero</a></li><li><a href=\"ref.placeholder\">Consectetuer adipiscing elit</a></li><li><a href=\"ref.placeholder\">Metus aliquam pellentesque</a></li><li><a href=\"ref.placeholder\">Suspendisse iaculis mauris</a></li><li><a href=\"ref.placeholder\">Urnanet non molestie semper</a></li><li><a href=\"ref.placeholder\">Proin gravida orci porttitor</a></li></ul> </li> </ul> </div> <div style=\"clear:both\"></div> </div> </div> </div> <div id=\"footer\"> <p>It could be suggested to stay away from taking Lexapro.</p> </div> </body> </html> /* START CSS */ body { margin: 0; padding: 0; background: #FFFFFF url(ref.placeholder) repeat-x left top; font-family: Arial, Helvetica, sans-serif; font-size: 14px; color: #333333; } h1, h2 { margin: 0; padding: 0; font-weight: normal; color: #333333; } h1 { font-size: 2em; } h2 { font-size: 2.4em; } p, ul { margin-top: 0; } a { text-decoration: none; color: #333333; } #wrapper { width: 960px; margin: 0 auto; padding: 0px 0px 0px 0px; } #header { width: 960px; height: 100px; margin: 0 auto; padding: 0px 0px 0px 0px; } #logo { float: left; width: 280px; height: 100px; margin: 0; padding: 0; color: #FFFFFF; } #logo h1 { padding: 60px 0px 0px 0px; font-size: 3.8em; } #logo h1 a { color: #FFFFFF; } #logo p { margin: 0; padding: 0px 0px 0px 0px; font-size: 3.8em; color: #FFFFFF; } #logo p a { color: #FFFFFF; } #logo a { border: none; background: none; text-decoration: none; color: #FFFFFF; } #search { float: right; width: 280px; height: 60px; padding: 0; } #search-text { width: 170px; padding: 6px 5px 2px 5px; border: none; background: #FFFFFF; font: normal 11px Arial, Helvetica, sans-serif; color: #FFFFFF; } #search-submit { width: 50px; height: 22px; border: none; background: #FFFFFF; font: normal 11px Arial, Helvetica, sans-serif; color: #FFFFFF; } #menu { float: right; width: 500px; height: 60px; margin: 0 auto; padding: 0; } #menu ul { margin: 0; padding: 0px 0px 0px 0px; list-style: none; } #menu li { float: left; } #menu a { display: block; height: 60px; margin-right: 1px; padding: 10px 20px 0px 20px; text-decoration: none; text-align: center; font-family: Arial, Helvetica, sans-serif; font-size: 14px; font-weight: normal; color: #FFFFFF; border: none; } #menu.current_page_item a { text-decoration: none; color: #FFFFFF; } #page { width: 960px; margin: 0 auto; padding: 0px 0px 0px 0px; } #content { float: left; width: 600px; padding: 0px 0px 0px 0px; }.post { margin-bottom: 30px; padding-bottom: 30px; border-bottom: 1px solid #E7EBED; }.post.title { padding: 0px 0px 30px 0px; border-bottom: 1px solid #E7EBED; }.post.title a { border: none; color: #FFFFFF; }.post.meta { padding-bottom: 30px; text-align: left; font-family: Arial, Helvetica, sans-serif; font-size: 11px; font-weight: normal; color: #FFFFFF; }.post.entry { padding: 0px 0px 30px 0px; padding-bottom: 20px; text-align: justify; }.links { padding-top: 20px; padding-bottom: 20px; text-align: justify; } #sidebar { float: right; width: 280px; padding: 0px 0px 0px 0px; } #sidebar ul { margin: 0; padding: 0; list-style: none; } #sidebar li { margin: 0; padding: 0; } #sidebar li ul { margin: 0px 0px; padding-bottom: 30px; } #sidebar li li { border-bottom: 1px solid #E7EBED; margin: 0px 0px; padding-bottom: 30px; } #sidebar li li span { display: block; margin-top: -20px; padding: 0; font-size: 11px; } #sidebar h2 { height: 38px; padding: 0px 0px 30px 0px; font-size: 2.8em; color: #FFFFFF; } #sidebar p { margin: 0 0px; padding: 0px 30px 20px 30px; text-align: justify; } #sidebar a { border: none; color: #FFFFFF; } #calendar_wrap { padding: 20px; } #calendar #next { text-align: right; } #footer { height: 100px; margin: 0 auto; padding: 0px 0 15px 0; background: #FFFFFF; font-family: Arial, Helvetica, sans-serif; } #footer p { margin: 0; padding-top: 20px; text-align: center; color: #FFFFFF; } #footer a { color: #FFFFFF; }\n",
            "    Answer: <html xmlns=\"https://example.com\"> <head> <title>Order Lexapro Tablets Online Buying Medications Online</title> <link href=\"https://example.com\" rel=\"stylesheet\" type=\"text/css\"/> <link href=\"buylexapro.life.css\" media=\"all\" rel=\"stylesheet\" type=\"text/css\"/> </head> <body> <div id=\"wrapper\"> <div id=\"header\"> <div id=\"logo\"> <h1>Lexapro - Worldwide Shipping</h1> <p>If he or she is more youthful compared to that, this medication is not meant for patients more youthful compared to 12 and you are not expected to provide to your child.</p> </div> </div> <div id=\"menu-wrapper\"> <div class=\"ribbon ribbon-content\"> <div id=\"menu\"><ul><li class=\"current_page_item\"><a href=\"ref.placeholder\">Home</a></li><li><a href=\"ref.placeholder\">Blog</a></li><li><a href=\"ref.placeholder\">Photos</a></li><li><a href=\"ref.placeholder\">About</a></li><li><a href=\"ref.placeholder\">Links</a></li><li class=\"last\"><a href=\"ref.placeholder\">Contact</a></li></ul></div> </div> </div> <div id=\"three-columns\"> <div class=\"content\"> <div id=\"column1\"> <h2>a hrefref.placeholderWelcome to Surround a</h2> <p><a href=\"../../images/default_img.jpeg\"><img alt=\"You have to not take Lexapro in addition to any kind of monoamine oxidase inhibitors, as a unexpected and extreme reaction could happen as a result of that.\" src=\"../../images/default_img.jpeg\"/></a></p> <p>The following ones are essential to state a past of suicidal ideas, epilepsy, liver or renal condition, a past of substance abuse, or bipolar illness.</p> <p><a class=\"link-style\" href=\"ref.placeholder\">Read More</a></p> </div> <div id=\"column2\"> <h2>a hrefref.placeholderLorem ipsum sed aliquama</h2> <ul class=\"list-style2\"><li class=\"first\"><a href=\"ref.placeholder\">Vestibulum luctus venenatis dui</a></li><li><a href=\"ref.placeholder\">Integer rutrum nisl in mi</a></li><li><a href=\"ref.placeholder\">Etiam malesuada rutrum enim</a></li><li><a href=\"ref.placeholder\">Aenean elementum facilisis ligula</a></li><li><a href=\"ref.placeholder\">Ut tincidunt elit vitae augue</a></li><li><a href=\"ref.placeholder\">Aenean elementum facilisis ligula</a></li><li><a href=\"ref.placeholder\">Aenean elementum facilisis ligula</a></li><li><a href=\"ref.placeholder\">Aenean elementum facilisis ligula</a></li><li><a href=\"ref.placeholder\">Sed quis odio sagittis leo vehicula</a></li></ul> <p><a class=\"link-style\" href=\"ref.placeholder\">Read More</a></p> </div> </div> </div> <div id=\"three-column\"> <div id=\"tbox1\"> <h2>Praesent scelerisque</h2> <ul class=\"style1\"><li class=\"first\"><a href=\"ref.placeholder\">Pellentesque consectetuer gravida blandit.</a></li><li><a href=\"ref.placeholder\">Lorem consectetuer adipiscing elit.</a></li><li><a href=\"ref.placeholder\">Maecenas vitae vitae feugiat eleifend.</a></li><li><a href=\"ref.placeholder\">Pellentesque consectetuer gravida blandit.</a></li></ul> </div> <div id=\"tbox2\"> <h2>Maecenas luctus</h2> <p>Your medical professional is likewise supposed to know if you have actually or made use of to have renal or liver disease, seizures, bipolar illness, suicidal ideas, a record of substance abuse, or other clinical disorders that may influence the excellence of your procedure and require a dosage modification.</p> <p><a class=\"link-style\" href=\"ref.placeholder\">Read More</a></p> </div> <div id=\"tbox3\"> <h2>Fusce fringilla</h2> <ul class=\"style1\"><li class=\"first\"><a href=\"ref.placeholder\">Twitter</a></li><li><a href=\"ref.placeholder\">Facebook</a></li><li><a href=\"ref.placeholder\">Flickr</a></li><li><a href=\"ref.placeholder\">Google </a></li></ul> </div> </div> <div id=\"footer\"> <p> Untitled. All rights reserved. Design by <a href=\"ref.placeholder\" rel=\"nofollow\">TEMPLATED</a>. Photos by <a href=\"ref.placeholder\">Fotogrph</a> <a href=\"https://example.com\">Iconify.it</a></p> </div> </div> </body> </html> /* START CSS */ html, body { height: 100%; } body { margin: 0; padding: 0; background: #0DC92C url(ref.placeholder) repeat; font-family: \"Open Sans\", sans-serif; font-size: 13px; font-weight: 200; color: #454545; } h1, h2 { margin: 0; padding: 0; font-weight: 300; color: #221D1D; } h2 { font-size: 2.5em; } p, ul { margin-top: 0px; } a { color: #2F2F2F; } a img { border: none; } #wrapper { width: 1200px; margin: 0px auto; padding: 0px 0px 0px 0px; background: #FFFFFF; } #logo { width: 420px; background: #ba89b6; height: 150px; margin: 0px auto 30px auto; color: #000000; } #logo h1, #logo p { margin: 0; padding: 0; } #logo h1 { text-align: center; font-size: 5em; color: #1F1F1F; } #logo p { text-align: center; font-size: 16px; color: #595959; } #logo p a { color: #595959; } #logo a { border: none; background: none; text-decoration: none; color: #FFFFFF; } #menu { overflow: hidden; margin: 0px 50px; font-size: 20px; color: #000000; } #menu ul { margin: 0px 0px 0px 0px; padding: 0px 0px; list-style: none; text-align: center; } #menu li { display: inline-block; } #menu a { display: block; padding: 0px 40px 0px 40px; text-decoration: none; text-align: center; font-size: 14px; font-weight: 200; color: #FFFFFF; border: none; } #menu.current_page_item a { text-decoration: none; } #menu.last { border-right: none; } #footer { overflow: hidden; width: 1100px; height: 100px; margin: 0 auto; border-top: 1px solid #CBCBCB; } #footer p { margin: 0; padding-top: 40px; text-align: center; color: #454545; } #footer a { color: #2F2F2F; } #footer-content { overflow: hidden; width: 1100px; padding: 50px; background: #ECECEC; color: #666666; } #footer-content h2 { padding: 0px 0px 30px 0px; font-size: 24px; } #footer-content #fbox1 { float: left; width: 600px; margin-right: 30px; } #footer-content #fbox2 { float: left; width: 220px; } #footer-content #fbox3 { float: right; width: 220px; } #welcome { width: 1100px; margin: 0px auto; padding: 30px 50px; } #welcome.content { padding: 0px 0px 40px 0px; border-bottom: 1px solid #D4D4D4; } #welcome h2 { padding: 0px 0px 20px 0px; } #welcome h2 a { text-decoration: none; color: #000000; } #three-columns { overflow: hidden; width: 1040px; margin: 0px auto; padding: 0px 80px 0px 80px; } #three-columns.content { overflow: hidden; padding: 0px 0px 50px 0px; } #three-columns h2 { padding: 0px 0px 20px 0px; color: #000000; } #three-columns #column1 { float: left; width: 680px; margin-right: 40px; } #three-columns #column2 { float: right; width: 300px; } #two-columns { overflow: hidden; width: 1100px; margin: 0px auto; padding: 40px 50px 50px 50px; } #two-columns h2 { padding: 0px 0px 20px 0px; color: #000000; } #two-columns #col1 { float: right; width: 740px; } #two-columns #col2 { float: left; width: 320px; } #three-column { overflow: hidden; margin: 0px 50px; padding: 50px 0px; border-top: 1px solid #CBCBCB; } #three-column h2 { padding-bottom: 1.50em; font-size: 1.75em; } #three-column #tbox1 { float: left; width: 300px; margin-right: 50px; } #three-column #tbox2 { float: left; width: 400px; } #three-column #tbox3 { float: right; width: 300px; }.list-style2 { margin: 0px; padding: 0px 0px 20px 0px; list-style: none; }.list-style2 li { padding: 10px 0px 10px 0px; border-top: 1px solid #D4D4D4; }.list-style2.first { padding-top: 0px; border-top: none; }.link-style { display: inline-block; margin-top: 10px; padding: 5px 15px; background: #BA89B6; text-decoration: none; color: #FFFFFF; } #banner { width: 1100px; margin: 10px auto 0px auto; } #menu-wrapper { position: relative; z-index: 1; }.ribbon { font-size: 16px!important; width: 85%; position: relative; background: #ba89b6; color: #fff; text-align: center; padding: 1em 2em; margin: 2em auto 3em; } ul.style1 { margin: 0px; padding: 0px; list-style: none; } ul.style1 li { padding: 10px 0px 15px 0px; border-top: 1px solid #DEDEDE; } ul.style1 a { text-decoration: none; color: #545454; } ul.style1.first { padding-top: 0px; border-top: none; }\n",
            "      Bleu: 0.68\n",
            "\n",
            "Prediction: <html xmlns=\"https://example.com\"> <head> <title>Buy Tetracycline Tablets Online - Bonus Pills For Every Order</title> <link href=\"tetracycline.shop.css\" media=\"screen\" rel=\"stylesheet\" type=\"text/css\"/> </head> <body> <div id=\"wrapper\"> <div id=\"header\"> <div id=\"logo\"> <h1>Tetracycline - Brand And Generic Tablets</h1> </div> <div id=\"menu\"><ul><li class=\"current_page_item\"><a href=\"ref.placeholder\">Homepage</a></li><li><a href=\"ref.placeholder\">Blog</a></li><li><a href=\"ref.placeholder\">Photos</a></li><li><a href=\"ref.placeholder\">About</a></li><li><a href=\"ref.placeholder\">Links</a></li><li><a href=\"ref.placeholder\">Contact</a></li></ul></div> </div> <div id=\"page\"> <div id=\"page-bgtop\"> <div id=\"page-bgbtm\"> <div id=\"content\"> <div class=\"post\"> <h2 class=\"title\">Welcome to Fresh Light!</h2> <p class=\"meta\"><span class=\"date\">September 10, 2011</span><span class=\"posted\">Posted by <a href=\"ref.placeholder\">Someone</a></span></p> <div style=\"clear:both\"></div> <div class=\"entry\"> <p><img alt=\"Tetracycline is a prescription medicine that functions by preventing the growth of the cells of the brain and also the brain.\" src=\"../../images/default_img.jpeg\"/>Tetracycline is a prescription medicine that functions by preventing the growth of the cells of the brain.\" src=\"../../images/default_img.jpeg\"/>Tetracycline is a prescription medicine that functions by preventing the growth of the cells of the brain.\" src=\"../../images/default_img.jpeg\"/>Tetracycline is a prescription medicine that functions by preventing the growth of the cells of the brain.\" src=\"../../images/default_img.jpeg\"/>Tetracycline is a prescription medicine that functions by preventing the growth of the cells of the brain.\" src=\"../../images/default_img.jpeg\"/>Tetracycline is a prescription medicine that functions by preventing the growth of the cells of the brain.\" src=\"../../images/default_img.jpeg\"/>Tetracycline is a prescription medicine that functions by preventing the growth of the cells of the brain.\" src=\"../../images/default_img.jpeg\"/>Tetracycline is a prescription medicine that functions by preventing the growth of the cells of the brain.\" src=\"../../images/default_img.jpeg\"/>Tetracycline is a prescription medicine that functions by preventing the growth of the cells of the brain.\" src=\"../../images/default_img.jpeg\"/>Tetracycline is a prescription medicine that functions by preventing the growth of the cells of the brain.\" src=\"../../images/default_img.jpeg\"/>Tetracycline is a prescription medicine that functions by preventing the growth of the cells of the brain.\" src=\"../../images/default_img.jpeg\"/>Tetracycline is a prescription medicine that functions by preventing the growth of the cells of the brain.\" src=\"../../images/default_img.jpeg\"/>Tetracycline is a prescription medicine that functions by preventing the growth of the cells of the brain.\" src=\"../../images/default_img.jpeg\"/>Tetracycline is a prescription medicine that functions by preventing the growth of the cells of the brain.\" src=\"../../images/default_img.jpeg\"/>Tetracycline is a prescription medicine that functions by preventing the growth of the cells of the brain.\" src=\"../../images/default_img.jpeg\"/>Tetracycline is a prescription medicine that functions by preventing the growth of the cells of the brain.\" src=\"../../images/default_img.jpeg\"/>Tetracycline is a prescription medicine that functions by preventing the growth of the cells of the brain.\" src=\"../../images/default_img.jpeg\"/>Tetracycline is a prescription medicine that functions by preventing the growth of the cells of the brain.\" src=\"../../images/default_img.jpeg\"/>Tetracycline is a prescription medicine that functions by preventing the growth of the cells of the brain.\" src=\"../../images/default_img.jpeg\"/>Tetracycline is a prescription medicine that functions by preventing the growth of the cells of the brain.\" src=\"../../images/default_img.jpeg\"/>Tetracycline is a prescription medicine that functions by preventing the growth of the cells of the brain.\" src=\"../../images/default_img.jpeg\"/></p> <p><img alt=\"Tetracycline is a prescription medicine that functions by preventing the growth of the cells of the brain.\" src=\"../../images/default_img.jpeg\"/></p> <p><img alt=\"Tetracycline is a prescription medicine that functions by preventing the growth of the cells of the brain.\" src=\"../../images/default_img.jpeg\"/></p> <p><img alt=\"Tetracycline is a prescription medicine that functions by preventing the growth of the cells of the brain.\" src=\"../../images/default_img.jpeg\"/></p> <p><img alt=\"Tetracycline is a prescription medicine that functions by preventing the growth of the cells of the brain.\" src=\"../../images/default_img.jpeg\"/></p> <p><img alt=\"Tetracycline is a prescription medicine that functions by preventing the growth of the cells of the brain.\" src=\"../../images/default_img.jpeg\"/></p> <p><img alt=\"Tetracycline is a prescription medicine that functions by preventing the growth of the cells of the brain.\" src=\"../../images/default_img.jpeg\"/></p> <p><img alt=\"Tetracycline is a prescription medicine that functions by preventing the growth of the cells of the brain.\" src=\"../../images/default_img.jpeg\"/></p> <p><img alt=\"Tetracycline is a prescription medicine that functions by preventing the growth of the cells of the brain.\" src=\"../../images/default_img.jpeg\"/></p> <p><img alt=\"Tetracycline is a prescription medicine that functions by preventing the growth of the cells of the brain.\" src=\"../../images/default_img.jpeg\"/></p> <p><img alt=\"Tetracycline is a prescription medicine that functions by preventing the growth of the cells of the brain.\" src=\"../../images/default_img.jpeg\"/></p> <p><img alt=\"Tetracycline is a prescription medicine that functions by preventing the growth of the cells of the brain.\" src=\"../../images/default_img.jpeg\"/></p> <p><img alt=\"Tetracycline is a prescription medicine that functions by preventing the growth of the cells of the brain.\" src=\"../../images/default_img.jpeg\"/></p> <p><img alt=\"Tetracycline is a prescription medicine that functions by preventing the growth of the cells of the brain.\" src=\"../../images/default_img.jpeg\"/></p> <p><img alt=\"Tetracycline is a prescription medicine that functions by preventing the growth of the cells of the brain.\" src=\"../../images/default_img.jpeg\"/></p> <p><img alt=\"Tetracycline is a prescription medicine that functions by preventing the growth of the cells of the brain.\" src=\"../../images/default_img.jpeg\"/></p> <p><img alt=\"Tetracycline is a prescription medicine that functions by preventing the growth of the cells of the brain.\" src=\"../../images/default_img.jpeg\"/></p> <p><img alt=\"Tetracycline is a prescription medicine that functions by preventing the growth of the cells of the brain.\" src=\"../../images/default_img.jpeg\"/></p> <p><img alt=\"Tetracycline is a prescription medicine that functions by preventing the growth of the cells of the brain.\" src=\"../../images/default_img.jpeg\"/></p> <p><img alt=\"Tetracycline is a prescription medicine that functions by preventing the growth of the cells of the brain.\" src=\"../../images/default_img.jpeg\"/></p> <p><img alt=\"Tetracycline is a prescription medicine that functions by preventing the growth of the cells of the brain.\" src=\"../../images/default_img.jpeg\"/></p> <p><img alt=\"Tetracycline is a prescription medicine that functions by preventing the growth of the cells of the brain.\" src=\"../../images/default_img.jpeg\"/></p> <p><img alt=\"Tetracycline is a prescription medicine that functions by preventing the growth of the cells of the brain.\" src=\"../../images/default_img.jpeg\"/></p> <p><img alt=\"Tetracycline is a prescription medicine that functions by preventing the growth of the cells of the brain.\" src=\"../../images/default_img.jpeg\"/></p> <p><img alt=\"Tetracycline is a prescription medicine that functions by preventing the growth of the cells of the brain.\" src=\"../../images/default_img.jpeg\"/></p> <p><img alt=\"Tetracycline is a prescription medicine that functions by preventing the growth of the cells of the brain.\" src=\"../../images/default_img.jpeg\"/></p> <p><img alt=\"Tetracycline is a prescription medicine that functions by preventing the growth of the cells of the brain.\" src=\"../../images/default_img.jpeg\"/></p> <p><img alt=\"Tetracycline is a prescription medicine that functions by preventing the growth of the cells of the brain.\" src=\"../../images/default_img.jpeg\"/></p> <p><img alt=\"Tetracycline is a prescription medicine that functions by preventing the growth of the cells of the brain.\" src=\"../../images/default_img.jpeg\"/></p> <p><img alt=\"Tetracycline is a prescription medicine that functions by preventing the growth of the cells of the brain.\" src=\"../../images/default_img.jpeg\"/></p> <p><img alt=\"Tetracycline is a prescription medicine that functions by preventing the growth of the cells of the brain.\" src=\"../../images/default_img.jpeg\"/></p> <p><img alt=\"Tetracycline is a prescription medicine that functions by preventing the growth of the cells of the brain.\" src=\"../../images/default_img.jpeg\"/></p> <p><img alt=\"Tetracycline is a prescription medicine that functions by preventing the growth of the cells of the brain.\" src=\"../../images/default_img.jpeg\"/></p> <p><img alt=\"Tetracycline is a prescription medicine that functions by preventing the growth of the cells of the brain.\" src=\"../../images/default_img.jpeg\"/></p> <p><img alt=\"Tetracycline is a prescription medicine that functions by preventing the growth of the cells of the brain.\" src=\"../../images/default_img.jpeg\"/></p> <p><img alt=\"Tetracycline is a prescription medicine that functions by preventing the growth of the cells of the brain.\" src=\"../../images/default_img.jpeg\"/></p> <p><img alt=\"Tetracycline is a prescription medicine that functions by preventing the growth of the cells of the brain.\" src=\"../../images/default_img.jpeg\"/></p> <p><img alt=\"Tetracycline is a prescription medicine that functions by preventing the growth of the cells of the brain.\" src=\"../../images/default_img.jpeg\"/></p> <p><img alt=\"Tetracycline is a prescription medicine that functions by preventing the growth of the cells of the brain.\" src=\"../../images/default_img.jpeg\"/></p> <p><img alt=\"Tetracycline is a prescription medicine that functions by preventing the growth of the cells of the brain.\" src=\"../../images/default_img.jpeg\"/></p> <p><img alt=\"Tetracycline is a prescription medicine that functions by preventing the growth of the cells of the brain.\" src=\"../../images/default_img.jpeg\"/></p> <p><img alt=\"Tetracycline is a prescription medicine that functions by preventing the growth of the cells of the brain.\" src=\"../../images/default_img.jpeg\"/></p> <p><img alt=\"Tetracycline is a prescription medicine that functions by preventing the growth of the cells of the brain.\" src=\"../../images/default_img.jpeg\"/></p> <p><img alt=\"Tetracycline is a prescription medicine that functions by preventing the growth of the cells of the brain.\" src=\"../../images/default_img.jpeg\"/></p> <p><img alt=\"Tetracycline is a prescription medicine that functions by preventing the growth of the cells of the brain.\" src=\"../../images/default_img.jpeg\"/></p> <p><img alt=\"Tetracycline is a prescription medicine that functions by preventing the growth of the cells of the brain.\" src=\"../../images/default_img.jpeg\"/></p> <p><img alt=\"Tetracycline is a prescription medicine that functions by preventing the growth of the cells of the brain.\" src=\"../../images/default_img.jpeg\"/></p> <p><img alt=\"Tetracycline is a prescription medicine that functions by preventing the growth of the cells of the brain.\" src=\"../../images/default_img.jpeg\"/></p> <p><img alt=\"Tetracycline is a prescription medicine that functions by preventing the growth of the cells of the brain.\" src=\"../../images/default_img.jpeg\"/></p> <p><img alt=\"Tetracycline is a prescription medicine that functions by preventing the growth of the cells of the brain.\" src=\"../../images/default_img.jpeg\"/></p> <p><img alt=\"Tetracycline is a prescription medicine that functions by preventing the growth of the cells of the brain.\" src=\"../../images/default_img.jpeg\"/></p> <p><img alt=\"Tetracycline is a prescription medicine that functions by preventing the growth of the cells of the brain.\" src=\"../../images/default_img.jpeg\"/></p> <p><img alt=\"Tetracycline is a prescription medicine that functions by preventing the growth of the cells of the brain.\" src=\"../../images/default_img.jpeg\"/></p> <p><img alt=\"Tetracycline is a prescription medicine that functions by preventing the growth of the cells of the brain.\" src=\"../../images/default_img.jpeg\"/></p> <p><img alt=\"Tetracycline is a prescription medicine that functions by preventing the growth of the cells of the brain.\" src=\"../../images/default_img.jpeg\"/></p> <p><img alt=\"Tetracycline is a prescription medicine that functions by preventing the growth of the cells of the brain.\" src=\"../../images/default_img.jpeg\"/></p> <p><img alt=\"Tetracycline is a prescription medicine that functions by preventing the growth of the cells of the brain.\" src=\"../../images/default_img.jpeg\"/></p> <p><img alt=\"Tetracycline is a prescription medicine that functions by preventing the growth of the cells of the brain.\" src=\"../../images/default_img.jpeg\"/></p> <p><img alt=\"Tetracycline is a prescription medicine that functions by preventing the growth of the cells of the brain.\" src=\"../../images/default_img.jpeg\"/></p> <p><img alt=\"Tetracycline is a prescription medicine that functions by preventing the growth of the cells of the brain.\" src=\"../../images/default_img.jpeg\"/></p> <p><img alt=\"Tetracycline is a prescription medicine that functions by preventing the growth of the cells of the brain.\" src=\"../../images/default_img.jpeg\"/></p> <p><img alt=\"Tetracycline is a prescription medicine that functions by preventing the growth of the cells of the brain.\" src=\"../../images/default_img.jpeg\"/></p> <p><img alt=\"Tetracycline is a prescription medicine that functions by preventing the growth of the cells of the brain.\" src=\"../../images/default_img.jpeg\"/></p> <p><img alt=\"Tetracycline is a prescription medicine that functions by preventing the growth of the cells of the brain.\" src=\"../../images/default_img.jpeg\"/></p> <p><img alt=\"Tetracycline is a prescription medicine that functions by preventing the growth of the cells of the brain.\" src=\"../../images/default_img.jpeg\"/></p> <p><img alt=\"Tetracycline is a prescription medicine that functions by preventing the growth of the cells of the brain.\" src=\"../../images/default_img.jpeg\"/></p> <p><img alt=\"Tetracycline is a prescription medicine that functions by preventing the growth of the cells of the brain.\" src=\"../../images/default_img.jpeg\"/></p> <p><img alt=\"Tetracycline is a prescription medicine that functions by preventing the growth of the cells of the brain.\" src=\"../../images/default_img.jpeg\"/></p> <p><img alt=\"Tetracycline is a prescription medicine that functions by preventing the growth of the cells of the brain.\" src=\"../../images/default_img.jpeg\"/></p> <p><img alt=\"Tetracycline is a prescription medicine that functions by preventing the growth of the cells of the brain.\" src=\"../../images/default_img.jpeg\"/></p> <p><img alt=\"Tetracycline is a prescription medicine that functions by preventing the growth of the cells of the brain.\" src=\"../../images/default_img.jpeg\"/></p> <p><img alt=\"Tetracycline is a prescription medicine that functions by preventing the growth of the cells of the brain.\" src=\"../../images/default_img.jpeg\"/></p> <p><img alt=\"Tetracycline is a prescription medicine that functions by preventing the growth of the cells of the brain.\" src=\"../../images/default_img.jpeg\"/></p> <p><img alt=\"Tetracycline is a prescription medicine that functions by preventing the growth of the cells of the brain.\" src=\"../../images/default_img.jpeg\"/></p> <p><img alt=\"Tetracycline is a prescription medicine that functions by preventing the growth of the cells of the brain.\" src=\"../../images/default_img.jpeg\"/></p> <p><img alt=\"Tetracycline is a prescription medicine that functions by preventing the growth of the cells of the brain.\" src=\"../../images/default_img.jpeg\"/></p> <p><img alt=\"Tetracycline is a prescription medicine that functions by preventing the growth of the cells of the brain.\" src=\"../../images/default_img.jpeg\"/></p> <p><img alt=\"Tetracycline is a prescription medicine that functions by preventing the growth of the cells of the brain.\" src=\"../../images/default_img.jpeg\"/></p> <p><img alt=\"Tetra\n",
            "    Answer: <html xmlns=\"https://example.com\"> <head> <title>Buy Tetracycline With No A Prescription - Express Delivery</title> <link href=\"tetracycline.directory.css\" rel=\"stylesheet\" type=\"text/css\"/> </head> <body> <div id=\"header\"> <div id=\"logo\"> <h1>Tetracycline - Brand And Generic Tablets</h1> <h2>Tetracycline 500mg Price In India</h2> </div> <div id=\"menu\"><ul><li class=\"active\"><a href=\"ref.placeholder\">home</a></li><li><a href=\"ref.placeholder\">photos</a></li><li><a href=\"ref.placeholder\">about</a></li><li><a href=\"ref.placeholder\">links</a></li><li><a href=\"ref.placeholder\">contact</a></li></ul></div> </div> <div id=\"page\"> <div id=\"content\"> <div class=\"post\"> <h1 class=\"title\">Welcome to FreshLight</h1> <div class=\"entry\"> <p><img alt=\"\" class=\"left\" src=\"../../images/default_img.jpeg\"/>This is FreshLight, a free, fully standards-compliant CSS template designed by TEMPLATED for <a href=\"ref.placeholder\" rel=\"nofollow\">TEMPLATED</a>. This free template is released under the <a href=\"ref.placeholder\">Creative Commons Attribution</a> license, so youre pretty much free to do whatever you want with it even use it commercially provided you give us credit for it. Have fun </p> </div> <div class=\"meta\"> <p class=\"byline\">Posted on April 21, 2008 by TEMPLATED</p> <p class=\"links\"><a class=\"more\" href=\"ref.placeholder\">Read full article</a><b></b><a class=\"comments\" href=\"ref.placeholder\">Comments 32</a></p> </div> </div> <div class=\"post\"> <h2 class=\"title\">Tetracycline Without Prescription</h2> <div class=\"entry\"> <p>The MIC worths gotten need to be translated baseding on the following requirements.</p> <p><img alt=\"\" class=\"right\" src=\"../../images/default_img.jpeg\"/>For top respiratory infections as a result of Group A beta-hemolytic streptococci, penicillin is the normal medicine of option, including prophylaxis of rheumatic high temperature.</p> </div> <div class=\"meta\"> <p class=\"byline\">Posted on April 18, 2008 by TEMPLATED</p> <p class=\"links\"><a class=\"more\" href=\"ref.placeholder\">Read full article</a><b></b><a class=\"comments\" href=\"ref.placeholder\">Comments 32</a></p> </div> </div> </div> <div id=\"sidebar\"> <ul> <li id=\"search\"> <h2><b class=\"text1\">Search</b></h2> <form action=\"\" method=\"get\"><fieldset><input id=\"s\" name=\"s\" type=\"text\" value=\"\"/><input id=\"x\" type=\"submit\" value=\"Search\"/></fieldset></form> </li> <li> <h2><strong>Lorem</strong> Ipsum</h2> <ul><li><a href=\"ref.placeholder\">Fusce dui neque fringilla</a></li><li><a href=\"ref.placeholder\">Eget tempor eget nonummy</a></li><li><a href=\"ref.placeholder\">Magna lacus bibendum mauris</a></li><li><a href=\"ref.placeholder\">Nec metus sed donec</a></li><li><a href=\"ref.placeholder\">Magna lacus bibendum mauris</a></li><li><a href=\"ref.placeholder\">Velit semper nisi molestie</a></li><li><a href=\"ref.placeholder\">Eget tempor eget nonummy</a></li></ul> </li> <li> <h2><b>Volutpat</b> Dolore</h2> <ul><li><a href=\"ref.placeholder\">Nec metus sed donec</a></li><li><a href=\"ref.placeholder\">Magna lacus bibendum mauris</a></li><li><a href=\"ref.placeholder\">Velit semper nisi molestie</a></li><li><a href=\"ref.placeholder\">Eget tempor eget nonummy</a></li><li><a href=\"ref.placeholder\">Nec metus sed donec</a></li><li><a href=\"ref.placeholder\">Magna lacus bibendum mauris</a></li><li><a href=\"ref.placeholder\">Velit semper nisi molestie</a></li></ul> </li> </ul> </div> <div style=\"clear:both\"></div> </div> <div id=\"footer\"> <p id=\"legal\">If Sumycin may interact with other medications that you take, ask your health care service provider.</p> </div> </body> </html> /* START CSS */ body { margin: 30px 0 0 0; padding: 0; background: #2971D3 url(ref.placeholder) repeat-x; font-family: \"Trebuchet MS\", Arial, Helvetica, sans-serif; font-size: 13px; color: #FFFFFF; } h1, h2 { margin: 0; font-family: Georgia, \"Times New Roman\", Times, serif; font-weight: normal; } h1 { font-size: 32px; } h2 { font-size: 23px; } p, ul { margin: 0 0 2em 0; text-align: justify; } a:link { color: #FFFFFF; } a:active { text-decoration: none; color: #FFFFFF; } img { border: none; } img.left { float: left; margin: 7px 15px 0 0; } img.right { float: right; margin: 7px 0 0 15px; } form { margin: 0; padding: 0; } fieldset { margin: 0; padding: 0; border: none; } input { font-family: \"Trebuchet MS\", Arial, Helvetica, sans-serif; font-size: 13px; color: #333333; } #header { width: 850px; height: 110px; margin: 0 auto 40px auto; } #logo { float: left; height: 120px; background: url(ref.placeholder) no-repeat left top; } #logo h1 { font-size: 38px; color: #FFFFFF; } #logo h1 a { color: #FFFFFF; } #logo h2 { font-family: Arial, Helvetica, sans-serif; font-size: 11px; color: #FD9B33; } #logo a { text-decoration: none; } #menu { float: right; } #menu ul { margin: 0; padding: 15px 0 0 0; list-style: none; } #menu li { display: inline; } #menu a { display: block; float: left; border-bottom: 4px #F68616 solid; margin-left: 5px; padding: 7px 20px; text-decoration: none; font-size: 13px; color: #FFFFFF; } #page { width: 850px; margin: 0 auto; } #content { float: left; width: 575px; }.post.title { margin-bottom: 20px; padding-bottom: 5px; background: url(ref.placeholder) no-repeat right 50%; border-bottom: 1px dashed #FFFFFF; }.post.meta { padding: 15px 0 60px 0; background: url(ref.placeholder) repeat-x left top; }.post.meta p { margin: 0; color: #FFFFFF; }.post.meta.byline { float: left; }.post.meta.links { float: right; }.post.meta.more { padding: 0 20px 0 18px; background: url(ref.placeholder) no-repeat left center; }.post.meta.comments { padding-left: 22px; background: url(ref.placeholder) no-repeat left center; }.post.meta b { display: none; } #sidebar { float: right; width: 195px; } #sidebar ul { margin: 0; padding: 0; list-style: none; } #sidebar li { margin-bottom: 40px; } #sidebar li li { margin: 0; padding-left: 12px; background: url(ref.placeholder) no-repeat left 50%; } #sidebar h2 { margin-bottom: 10px; background: url(ref.placeholder) no-repeat right 50%; border-bottom: 1px dotted #D1D1D1; font-size: 18px; font-weight: normal; } #search h2 { margin-bottom: 20px; } #s { width: 120px; margin-right: 5px; padding: 3px; border: 1px solid #F0F0F0; } #x { padding: 3px; background: #ECECEC url(ref.placeholder) repeat-x left bottom; border: none; font-size: 11px; color: #4F4F4F; } #footer { height: 400px; min-height: 74px; padding: 10px 0 0 0; background: #000000 url(ref.placeholder) repeat-x; } html>body #footer { height: auto; } #legal { clear: both; padding-top: 20px; text-align: center; color: #FFFFFF; } #legal a { color: #FFFFFF; }\n",
            "      Bleu: 0.13\n",
            "\n",
            "Prediction: <html lang=\"en\"> <head> <title>Serif</title> <link href=\"serif.com.css\" rel=\"stylesheet\"/> <link href=\"serif.com.css\" rel=\"stylesheet\"/> <link href=\"serif.com.css\" rel=\"stylesheet\"/> <link href=\"serif.com.css\" rel=\"stylesheet\"/> <link href=\"serif.com.css\" rel=\"stylesheet\"/> <link href=\"serif.com.css\" rel=\"stylesheet\"/> <link href=\"serif.com.css\" rel=\"stylesheet\"/> <link href=\"serif.com.css\" rel=\"stylesheet\"/> <link href=\"serif.com.css\" rel=\"stylesheet\"/> <link href=\"serif.com.css\" rel=\"stylesheet\"/> <link href=\"serif.com.css\" rel=\"stylesheet\"/> <link href=\"serif.com.css\" rel=\"stylesheet\"/> <link href=\"serif.com.css\" rel=\"stylesheet\"/> <link href=\"serif.com.css\" rel=\"stylesheet\"/> <link href=\"serif.com.css\" rel=\"stylesheet\"/> <link href=\"serif.com.css\" rel=\"stylesheet\"/> <link href=\"serif.com.css\" rel=\"stylesheet\"/> <link href=\"serif.com.css\" rel=\"stylesheet\"/> <link href=\"serif.com.css\" rel=\"stylesheet\"/> <link href=\"serif.com.css\" rel=\"stylesheet\"/> <link href=\"serif.com.css\" rel=\"stylesheet\"/> <link href=\"serif.com.css\" rel=\"stylesheet\"/> <link href=\"serif.com.css\" rel=\"stylesheet\"/> <link href=\"serif.com.css\" rel=\"stylesheet\"/> <link href=\"serif.com.css\" rel=\"stylesheet\"/> <link href=\"serif.com.css\" rel=\"stylesheet\"/> <link href=\"serif.com.css\" rel=\"stylesheet\"/> <link href=\"serif.com.css\" rel=\"stylesheet\"/> <link href=\"serif.com.css\" rel=\"stylesheet\"/> <link href=\"serif.com.css\" rel=\"stylesheet\"/> <link href=\"serif.com.css\" rel=\"stylesheet\"/> <link href=\"serif.com.css\" rel=\"stylesheet\"/> <link href=\"serif.com.css\" rel=\"stylesheet\"/> <link href=\"serif.com.css\" rel=\"stylesheet\"/> <link href=\"serif.com.css\" rel=\"stylesheet\"/> <link href=\"serif.com.css\" rel=\"stylesheet\"/> <link href=\"serif.com.css\" rel=\"stylesheet\"/> <link href=\"serif.com.css\" rel=\"stylesheet\"/> <link href=\"serif.com.css\" rel=\"stylesheet\"/> <link href=\"serif.com.css\" rel=\"stylesheet\"/> <link href=\"serif.com.css\" rel=\"stylesheet\"/> <link href=\"serif.com.css\" rel=\"stylesheet\"/> <link href=\"serif.com.css\" rel=\"stylesheet\"/> <link href=\"serif.com.css\" rel=\"stylesheet\"/> <link href=\"serif.com.css\" rel=\"stylesheet\"/> <link href=\"serif.com.css\" rel=\"stylesheet\"/> <link href=\"serif.com.css\" rel=\"stylesheet\"/> <link href=\"serif.com.css\" rel=\"stylesheet\"/> <link href=\"serif.com.css\" rel=\"stylesheet\"/> <link href=\"serif.com.css\" rel=\"stylesheet\"/> <link href=\"serif.com.css\" rel=\"stylesheet\"/> <link href=\"serif.com.css\" rel=\"stylesheet\"/> <link href=\"serif.com.css\" rel=\"stylesheet\"/> <link href=\"serif.com.css\" rel=\"stylesheet\"/> <link href=\"serif.com.css\" rel=\"stylesheet\"/> <link href=\"serif.com.css\" rel=\"stylesheet\"/> <link href=\"serif.com.css\" rel=\"stylesheet\"/> <link href=\"serif.com.css\" rel=\"stylesheet\"/> <link href=\"serif.com.css\" rel=\"stylesheet\"/> <link href=\"serif.com.css\" rel=\"stylesheet\"/> <link href=\"serif.com.css\" rel=\"stylesheet\"/> <link href=\"serif.com.css\" rel=\"stylesheet\"/> <link href=\"serif.com.css\" rel=\"stylesheet\"/> <link href=\"serif.com.css\" rel=\"stylesheet\"/> <link href=\"serif.com.css\" rel=\"stylesheet\"/> <link href=\"serif.com.css\" rel=\"stylesheet\"/> <link href=\"serif.com.css\" rel=\"stylesheet\"/> <link href=\"serif.com.css\" rel=\"stylesheet\"/> <link href=\"serif.com.css\" rel=\"stylesheet\"/> <link href=\"serif.com.css\" rel=\"stylesheet\"/> <link href=\"serif.com.css\" rel=\"stylesheet\"/> <link href=\"serif.com.css\" rel=\"stylesheet\"/> <link href=\"serif.com.css\" rel=\"stylesheet\"/> <link href=\"serif.com.css\" rel=\"stylesheet\"/> <link href=\"serif.com.css\" rel=\"stylesheet\"/> <link href=\"serif.com.css\" rel=\"stylesheet\"/> <link href=\"serif.com.css\" rel=\"stylesheet\"/> <link href=\"serif.com.css\" rel=\"stylesheet\"/> <link href=\"serif.com.css\" rel=\"stylesheet\"/> <link href=\"serif.com.css\" rel=\"stylesheet\"/> <link href=\"serif.com.css\" rel=\"stylesheet\"/> <link href=\"serif.com.css\" rel=\"stylesheet\"/> <link href=\"serif.com.css\" rel=\"stylesheet\"/> <link href=\"serif.com.css\" rel=\"stylesheet\"/> <link href=\"serif.com.css\" rel=\"stylesheet\"/> <link href=\"serif.com.css\" rel=\"stylesheet\"/> <link href=\"serif.com.css\" rel=\"stylesheet\"/> <link href=\"serif.com.css\" rel=\"stylesheet\"/> <link href=\"serif.com.css\" rel=\"stylesheet\"/> <link href=\"serif.com.css\" rel=\"stylesheet\"/> <link href=\"serif.com.css\" rel=\"stylesheet\"/> <link href=\"serif.com.css\" rel=\"stylesheet\"/> <link href=\"serif.com.css\" rel=\"stylesheet\"/> <link href=\"serif.com.css\" rel=\"stylesheet\"/> <link href=\"serif.com.css\" rel=\"stylesheet\"/> <link href=\"serif.com.css\" rel=\"stylesheet\"/> <link href=\"serif.com.css\" rel=\"stylesheet\"/> <link href=\"serif.com.css\" rel=\"stylesheet\"/> <link href=\"serif.com.css\" rel=\"stylesheet\"/> <link href=\"serif.com.css\" rel=\"stylesheet\"/> <link href=\"serif.com.css\" rel=\"stylesheet\"/> <link href=\"serif.com.css\" rel=\"stylesheet\"/> <link href=\"serif.com.css\" rel=\"stylesheet\"/> <link href=\"serif.com.css\" rel=\"stylesheet\"/> <link href=\"serif.com.css\" rel=\"stylesheet\"/> <link href=\"serif.com.css\" rel=\"stylesheet\"/> <link href=\"serif.com.css\" rel=\"stylesheet\"/> <link href=\"serif.com.css\" rel=\"stylesheet\"/> <link href=\"serif.com.css\" rel=\"stylesheet\"/> <link href=\"serif.com.css\" rel=\"stylesheet\"/> <link href=\"serif.com.css\" rel=\"stylesheet\"/> <link href=\"serif.com.css\" rel=\"stylesheet\"/> <link href=\"serif.com.css\" rel=\"stylesheet\"/> <link href=\"serif.com.css\" rel=\"stylesheet\"/> <link href=\"serif.com.css\" rel=\"stylesheet\"/> <link href=\"serif.com.css\" rel=\"stylesheet\"/> <link href=\"serif.com.css\" rel=\"stylesheet\"/> <link href=\"serif.com.css\" rel=\"stylesheet\"/> <link href=\"serif.com.css\" rel=\"stylesheet\"/> <link href=\"serif.com.css\" rel=\"stylesheet\"/> <link href=\"serif.com.css\" rel=\"stylesheet\"/> <link href=\"serif.com.css\" rel=\"stylesheet\"/> <link href=\"serif.com.css\" rel=\"stylesheet\"/> <link href=\"serif.com.css\" rel=\"stylesheet\"/> <link href=\"serif.com.css\" rel=\"stylesheet\"/> <link href=\"serif.com.css\" rel=\"stylesheet\"/> <link href=\"serif.com.css\" rel=\"stylesheet\"/> <link href=\"serif.com.css\" rel=\"stylesheet\"/> <link href=\"serif.com.css\" rel=\"stylesheet\"/> <link href=\"serif.com.css\" rel=\"stylesheet\"/> <link href=\"serif.com.css\" rel=\"stylesheet\"/> <link href=\"serif.com.css\" rel=\"stylesheet\"/> <link href=\"serif.com.css\" rel=\"stylesheet\"/> <link href=\"serif.com.css\" rel=\"stylesheet\"/> <link href=\"serif.com.css\" rel=\"stylesheet\"/> <link href=\"serif.com.css\" rel=\"stylesheet\"/> <link href=\"serif.com.css\" rel=\"stylesheet\"/> <link href=\"serif.com.css\" rel=\"stylesheet\"/> <link href=\"serif.com.css\" rel=\"stylesheet\"/> <link href=\"serif.com.css\" rel=\"stylesheet\"/> <link href=\"serif.com.css\" rel=\"stylesheet\"/> <link href=\"serif.com.css\" rel=\"stylesheet\"/> <link href=\"serif.com.css\" rel=\"stylesheet\"/> <link href=\"serif.com.css\" rel=\"stylesheet\"/> <link href=\"serif.com.css\" rel=\"stylesheet\"/> <link href=\"serif.com.css\" rel=\"stylesheet\"/> <link href=\"serif.com.css\" rel=\"stylesheet\"/> <link href=\"serif.com.css\" rel=\"stylesheet\"/> <link href=\"serif.com.css\" rel=\"stylesheet\"/> <link href=\"serif.com.css\" rel=\"stylesheet\"/> <link href=\"serif.com.css\" rel=\"stylesheet\"/> <link href=\"serif.com.css\" rel=\"stylesheet\"/> <link href=\"serif.com.css\" rel=\"stylesheet\"/> <link href=\"serif.com.css\" rel=\"stylesheet\"/> <link href=\"serif.com.css\" rel=\"stylesheet\"/> <link href=\"serif.com.css\" rel=\"stylesheet\"/> <link href=\"serif.com.css\" rel=\"stylesheet\"/> <link href=\"serif.com.css\" rel=\"stylesheet\"/> <link href=\"serif.com.css\" rel=\"stylesheet\"/> <link href=\"serif.com.css\" rel=\"stylesheet\"/> <link href=\"serif.com.css\" rel=\"stylesheet\"/> <link href=\"serif.com.css\" rel=\"stylesheet\"/> <link href=\"serif.com.css\" rel=\"stylesheet\"/> <link href=\"serif.com.css\" rel=\"stylesheet\"/> <link href=\"serif.com.css\" rel=\"stylesheet\"/> <link href=\"serif.com.css\" rel=\"stylesheet\"/> <link href=\"serif.com.css\" rel=\"stylesheet\"/> <link href=\"serif.com.css\" rel=\"stylesheet\"/> <link href=\"serif.com.css\" rel=\"stylesheet\"/> <link href=\"serif.com.css\" rel=\"stylesheet\"/> <link href=\"serif.com.css\" rel=\"stylesheet\"/> <link href=\"serif.com.css\" rel=\"stylesheet\"/> <link href=\"serif.com.css\" rel=\"stylesheet\"/> <link href=\"serif.com.css\" rel=\"stylesheet\"/> <link href=\"serif.com.css\" rel=\"stylesheet\"/> <link href=\"serif.com.css\" rel=\"stylesheet\"/> <link href=\"serif.com.css\" rel=\"stylesheet\"/> <link href=\"serif.com.css\" rel=\"stylesheet\"/> <link href=\"serif.com.css\" rel=\"stylesheet\"/> <link href=\"serif.com.css\" rel=\"stylesheet\"/> <link href=\"serif.com.css\" rel=\"stylesheet\"/> <link href=\"serif.com.css\" rel=\"stylesheet\"/> <link href=\"serif.com.css\" rel=\"stylesheet\"/> <link href=\"serif.com.css\" rel=\"stylesheet\"/> <link href=\"serif.com.css\" rel=\"stylesheet\"/> <link href=\"serif.com.css\" rel=\"stylesheet\"/> <link href=\"serif.com.css\" rel=\"stylesheet\"/> <link href=\"serif.com.css\" rel=\"stylesheet\"/> <link href=\"serif.com.css\" rel=\"stylesheet\"/> <link href=\"serif.com.css\" rel=\"stylesheet\"/> <link href=\"serif.com.css\" rel=\"stylesheet\"/> <link href=\"serif.com.css\" rel=\"stylesheet\"/> <link href=\"serif.com.css\" rel=\"stylesheet\"/> <link href=\"serif.com.css\" rel=\"stylesheet\"/> <link href=\"serif.com.css\" rel=\"stylesheet\"/> <link href=\"serif.com.css\" rel=\"stylesheet\"/> <link href=\"serif.com.css\" rel=\"stylesheet\"/> <link href=\"serif.com.css\" rel=\"stylesheet\"/> <link href=\"serif.com.css\" rel=\"stylesheet\"/> <link href=\"serif.com.css\" rel=\"stylesheet\"/> <link href=\"serif.com.css\" rel=\"stylesheet\"/> <link href=\"serif.com.css\" rel=\"stylesheet\"/> <link href=\"serif.com.css\" rel=\"stylesheet\"/> <link href=\"serif.com.css\" rel=\"stylesheet\"/> <link href=\"serif.com.css\" rel=\"stylesheet\"/> <link href=\"serif.com.css\" rel=\"stylesheet\"/> <link href=\"serif.com.css\" rel=\"stylesheet\"/> <link href=\"serif.com.css\" rel=\"stylesheet\"/> <link href=\"serif.com.css\" rel=\"stylesheet\"/> <link href=\"serif.com.css\" rel=\"stylesheet\"/> <link href=\"serif.com.css\" rel=\"stylesheet\"/> <link href=\"serif.com.css\" rel=\"stylesheet\"/> <link href=\"serif.com.css\" rel=\"stylesheet\"/> <link href=\"serif.com.css\" rel=\"stylesheet\"/> <link href=\"serif.com.css\" rel=\"stylesheet\"/> <link href=\"serif.com.css\" rel=\"stylesheet\"/> <link href=\"serif.com.css\" rel=\"stylesheet\"/> <link href=\"serif.com.css\" rel=\"stylesheet\"/> <link href=\"serif.com.css\" rel=\"stylesheet\"/> <link href=\"serif.com.css\" rel=\"stylesheet\"/> <link href=\"serif.com.css\" rel=\"stylesheet\"/> <link href=\"serif.com.css\" rel=\"stylesheet\"/> <link href=\"serif.com.css\" rel=\"stylesheet\"/> <link href=\"serif.com.css\" rel=\"stylesheet\"/> <link href=\"serif.com.css\" rel=\"stylesheet\"/> <link href=\"serif.com.css\" rel=\"stylesheet\"/> <link href=\"serif.com.css\" rel=\"stylesheet\"/> <link href=\"serif.com.css\" rel=\"stylesheet\"/> <link href=\"serif.com.css\" rel=\"stylesheet\"/> <link href=\"serif.com.css\" rel=\"stylesheet\"/> <link href=\"serif.com.css\" rel=\"stylesheet\"/> <link href=\"serif.com.css\" rel=\"stylesheet\"/> <link href=\"serif.com.css\" rel=\"stylesheet\"/> <link href=\"serif.com.css\" rel=\"stylesheet\"/> <link href=\"serif.com.css\" rel=\"stylesheet\"/> <link href=\"serif.com.css\" rel=\"stylesheet\"/> <link href=\"serif.com.css\" rel=\"stylesheet\"/> <link href=\"serif.com.css\" rel=\"stylesheet\"/> <link href=\"serif.com.css\" rel=\"stylesheet\"/> <link href=\"serif.com.css\" rel=\"stylesheet\"/> <link href=\"serif.com.css\" rel=\"stylesheet\"/> <link href=\"serif.com.css\" rel=\"stylesheet\"/> <link href=\"serif.com.css\" rel=\"stylesheet\"/> <link href=\"serif.com.css\" rel=\"stylesheet\"/> <link href=\"serif.com.css\" rel=\"stylesheet\"/> <link href=\"serif.com.css\" rel=\"stylesheet\"/> <link href=\"serif.com.css\" rel=\"stylesheet\"/> <link href=\"serif.com.css\" rel=\"stylesheet\"/> <link href=\"serif.com.css\" rel=\"stylesheet\"/> <link href=\"serif.com.css\" rel=\"stylesheet\"/> <link href=\"serif.com.css\" rel=\"stylesheet\"/> <link href=\"serif.com.css\" rel=\"stylesheet\"/> <link href=\"serif.com.css\" rel=\"stylesheet\"/> <link href=\"serif.com.css\" rel=\"stylesheet\"/> <link href=\"serif.com.css\" rel=\"stylesheet\"/> <link\n",
            "    Answer: <html> <head> <title> - </title> <link href=\"ref.placeholder\" rel=\"icon\"/> <link href=\"ref.placeholder\" rel=\"dns-prefetch\"/> <link href=\"https://example.com\" rel=\"dns-prefetch\"/> <link href=\"https://example.com\" rel=\"dns-prefetch\"/> <link href=\"https://example.com\" rel=\"dns-prefetch\"/> <link href=\"https://example.com\" rel=\"dns-prefetch\"/> <link href=\"meipai.com.css\" rel=\"stylesheet\" type=\"text/css\"/> <link href=\"meipai.com.css\" rel=\"stylesheet\" type=\"text/css\"/> <link href=\"meipai.com.css\" rel=\"stylesheet\" type=\"text/css\"/> <link href=\"https://example.com\" rel=\"canonical\"/> </head> <body> <link href=\"meipai.com.css\" rel=\"stylesheet\"/> <div class=\"header\"> <div class=\"header-content container\"> <a class=\"header-logo\" href=\"ref.placeholder\"></a> <div class=\"header-fun\"> <div class=\"header-fun-item fun-login\" id=\"headerLogin\"><i class=\"fun-icon\"></i><span class=\"fun-title\"></span></div> <a class=\"header-fun-item fun-upload\" hidefocus=\"\" id=\"js-header-upload-login\"><i class=\"fun-icon\"></i><span class=\"fun-title\"></span></a> </div> </div> </div> <div class=\"home-content max center clearfix pr\"> <div class=\"main-content container\"> <div class=\"main-cover\"></div> <div class=\"main-download\"> <div class=\"main-logo\"></div> <div class=\"main-download-inner\"> <div class=\"main-download-list\"><a class=\"main-download-item download-android\" href=\"https://example.com\"></a><a class=\"main-download-item download-ios\" href=\"https://example.com\"></a></div> <div class=\"main-download-qr\"></div> </div> </div> </div> </div> <div class=\"footer\"> <div class=\"footer-content container\"> <div class=\"footer-links\"> <div class=\"gov-channel\"> <a class=\"shaohuang\" href=\"https://example.com\"><img src=\"../../images/default_img.jpeg\"/></a><a class=\"fangpian\" href=\"ref.placeholder\"><img src=\"../../images/default_img.jpeg\"/></a><a class=\"jubao\" href=\"https://example.com\"><img src=\"../../images/default_img.jpeg\"/></a><img class=\"chaoyang-qr\" src=\"../../images/default_img.jpeg\"/> <div class=\"chaoyang-title\"></div> </div> <div class=\"footer-link-cols\"> <ul class=\"footer-link-list\"> <li class=\"footer-link-title\"></li><li class=\"footer-link-item\"><a href=\"https://example.com\"></a></li><li class=\"footer-link-item\"><a href=\"https://example.com\" rel=\"nofollow\"><i class=\"icon icon-footer-weibo\"></i></a></li> <li class=\"footer-link-item\"> <div class=\"footer-weixin-wrap\"> <div class=\"weixin-code-wrap\"><i class=\"top-arrow\"></i><span class=\"weixin-footer-code\"></span></div> </div> </li> </ul> <ul class=\"footer-link-list\"><li class=\"footer-link-title\"></li><li class=\"footer-link-item\"><a href=\"https://example.com\"></a></li><li class=\"footer-link-item\"><a href=\"https://example.com\"></a></li><li class=\"footer-link-item\"><a href=\"https://example.com\"></a></li><li class=\"footer-link-item\"><a href=\"https://example.com\"></a></li><li class=\"footer-link-item\"><a href=\"https://example.com\"></a></li><li class=\"footer-link-item\"><a href=\"https://example.com\"></a></li></ul><ul class=\"footer-link-list\"><li class=\"footer-link-title\"></li><li class=\"footer-link-item\"><a href=\"https://example.com\" rel=\"nofollow\"></a></li><li class=\"footer-link-item\"><a href=\"https://example.com\" rel=\"nofollow\"></a></li><li class=\"footer-link-item\"><a href=\"https://example.com\" rel=\"nofollow\"></a></li><li class=\"footer-link-item\"><a href=\"https://example.com\" rel=\"nofollow\"></a></li></ul><ul class=\"footer-link-list\"><li class=\"footer-link-title\"></li><li class=\"footer-link-item\"><span class=\"js-span-a hover-underline\" onclick=\"window.open('https://example.com', '_blank', 'height=502, width=644,toolbar=no,scrollbars=no,menubar=no,status=no');\" rel=\"nofollow\"></span></li><li class=\"footer-link-item\"><a href=\"https://example.com\"></a></li><li class=\"footer-link-item\"><a href=\"https://example.com\"></a></li><li class=\"footer-link-item\"><a href=\"https://example.com\"></a></li><li class=\"footer-link-item\"><a href=\"https://example.com\"></a></li><li class=\"footer-link-item\"><a href=\"https://example.com\"></a></li><li class=\"footer-link-item\"><a href=\"https://example.com\"></a></li></ul> </div> </div> <div class=\"footer-divide\"></div> <div class=\"footer-copy\" style=\"width:860px;padding-top:10px\"> <a href=\"https://example.com\" rel=\"nofollow\">35020302000426</a><a href=\"https://example.com\" rel=\"nofollow\" style=\"margin-left:10px\"> 2022 2075-079</a><span style=\"margin-left:10px\"><a href=\"https://example.com\" rel=\"nofollow\">ICP16016710</a></span> <div>MTkefumeitu.com jubao365meitu.com</div> <div>40000933603900-2100</div> <div> <a href=\"https://example.com\" style=\"display:inline-block\">www.12377.cn <img src=\"../../images/default_img.jpeg\" style=\"vertical-align:middle;margin-left:5px;width:40px;height:auto\"/></a> <a href=\"https://example.com\" style=\"display:inline-block\">www.piyao.org.cnyybgtindex.htm <img src=\"../../images/default_img.jpeg\" style=\"vertical-align:middle;margin-left:5px;width:70px;height:auto\"/></a></div> <div> CB1F-055 4000093360900-2100</div> <div id=\"copy-right-meitu\"> 2008-2023 </div> </div> </div> </div> <div class=\"go-qq pf\" onclick=\"window.open('https://example.com', '_blank', 'height=502, width=644,toolbar=no,scrollbars=no,menubar=no,status=no');\" style=\"z-index:5\" title=\"帮 助反馈 \"></div> <div class=\"js-show-down go-down pf sp download-right-bottom\" data-animate=\"105,65\" style=\"z-index:5\" title=\"下载美拍\"></div> <div class=\"go-top pf hide\" id=\"goTop\" style=\"z-index:5;display:none\" title=\"返回顶 部\"></div> <img class=\"pa\" src=\"/stat/spread\" style=\"left:-1px;top:-1px;opacity:0\"/><img class=\"pa\" src=\"/stat_log/visited?ctrl=home&amp;act=index&amp;e_t=0&amp;request_uri=%2F&amp;http_referer=\" style=\"left:-1px;top:-1px;opacity:0\"/> </body> </html> /* START CSS */ error error error error\n",
            "      Bleu: 0.11\n",
            "\n",
            "Prediction: <html lang=\"en\"> <head> <title>Buy Brand Black Rock City</title> <link href=\"buyblackrockcity.com.css\" rel=\"stylesheet\" type=\"text/css\"/> </head> <body> <div id=\"header\"> <div id=\"logo\"> <h1>Building Beyond Black Rock City</h1> <p>You will certainly have to be taking this medicine as soon as you are expecting, and will likewise have actually in the second United States.</p> </div> <div id=\"menu\"><ul><li class=\"current_page_item\"><a href=\"ref.placeholder\">Home</a></li><li><a href=\"ref.placeholder\">Blog</a></li><li><a href=\"ref.placeholder\">Photos</a></li><li><a href=\"ref.placeholder\">About</a></li><li><a href=\"ref.placeholder\">Links</a></li><li><a href=\"ref.placeholder\">Contact</a></li></ul></div> <div id=\"page\"> <div id=\"content\"> <div class=\"post\"> <h1 class=\"title\">Please let us know what you are creating, planning for burning man and beyond</h1> <p class=\"meta\">To stay in touch and learn whats work with Black Rock City, please log into our sign up for your <a href=\"ref.placeholder\">Sign up</a> website.</p> <p class=\"links\"><a class=\"more\" href=\"ref.placeholder\">Read more</a></p> <div class=\"entry\"> <p>We have an opportunity to magna our global affiliations and environmental content might now not be the world.</p> <p>Please help us map the landscape of our global cultural affiliations, this needed substance and personal impact on society at the very least 50% of the global locations of birth, and in our own lives, let us know if you are dreaming, experiencing or considering an adventure or a special life encounter. This may be additionally a significantly opportunity or community.</p> </div> </div> </div> <div class=\"post\"> <h2 class=\"title\">Welcome to our website</h2> <p class=\"meta\">You will certainly have to be taking this medicine as soon as you are expecting, and will certainly have actually in the second United States.</p> <p class=\"links\"><a class=\"more\" href=\"ref.placeholder\">Read more</a></p> <div class=\"entry\"> <p>As we prepare for the great outcomes of birth, and in our own lives, let us know if you are dreaming, experiencing or considering an adventure or a special life encounter. This may be additionally a significantly opportunity or community.</p> </div> </div> </div> <div id=\"sidebar\"> <ul> <li> <h2>Welcome to our website</h2> <ul><li><a href=\"ref.placeholder\">Home</a></li><li><a href=\"ref.placeholder\">Blog</a></li><li><a href=\"ref.placeholder\">Photos</a></li><li><a href=\"ref.placeholder\">About</a></li><li><a href=\"ref.placeholder\">Links</a></li><li><a href=\"ref.placeholder\">Contact</a></li></ul> </li> <li> <h2>Blogroll</h2> <ul><li><a href=\"ref.placeholder\">Blog</a></li><li><a href=\"ref.placeholder\">Photos</a></li><li><a href=\"ref.placeholder\">About</a></li><li><a href=\"ref.placeholder\">Links</a></li><li><a href=\"ref.placeholder\">Contact</a></li></ul> </li> </ul> </div> <div style=\"clear:both\"></div> </div> </div> </div> <div id=\"footer\"> <p><a href=\"ref.placeholder\">Privacy Policy</a> <a href=\"ref.placeholder\">Terms of Use</a></p> </div> </body> </html> /* START CSS */ body { margin: 0; padding: 0; background: #FFFFFF url(ref.placeholder) repeat-x left top; font-family: \"Open Sans\", sans-serif; font-size: 13px; color: #333333; } h1, h2 { margin: 0; padding: 0; font-weight: normal; color: #333333; } h1 { font-size: 2em; } h2 { font-size: 1.8em; } p, ul { margin-top: 0; } a { text-decoration: none; color: #333333; } #wrapper { margin: 0 auto; padding: 0; } #header { width: 960px; height: 100px; margin: 0 auto; } #logo { float: left; width: 300px; height: 100px; margin: 0; padding: 0; } #logo h1 { margin: 0; padding: 0; font-size: 3.8em; } #logo h1 a { color: #333333; } #logo p { margin: 0; padding: 0; font-size: 1.8em; color: #333333; } #logo a { border: none; background: none; text-decoration: none; color: #333333; } #menu { float: right; width: 600px; height: 60px; margin: 0 auto; } #menu ul { margin: 0; padding: 0; list-style: none; } #menu li { display: inline; } #menu a { display: block; float: left; height: 60px; margin: 0px 0px 0px 0px; padding: 0px 10px 0px 10px; text-decoration: none; text-align: center; font-family: \"Open Sans\", sans-serif; font-size: 1.8em; font-weight: bold; color: #FFFFFF; border: none; } #menu.current_page_item a { background: #FFFFFF; color: #FFFFFF; } #page { width: 960px; margin: 0 auto; padding: 0; } #content { float: left; width: 600px; padding: 0px 0px 0px 0px; }.post { margin-bottom: 20px; }.post.title { margin-bottom: 20px; padding: 0px 0px 0px 0px; }.post.title a { color: #FFFFFF; text-decoration: none; }.post.meta { margin-bottom: 20px; padding: 0px 0px 0px 0px; text-align: left; font-family: \"Open Sans\", sans-serif; font-size: 14px; font-weight: bold; color: #FFFFFF; }.post.entry { padding: 0px 0px 20px 0px; } #sidebar { float: right; width: 280px; padding: 0px 0px 0px 0px; } #sidebar ul { margin: 0; padding: 0; list-style: none; } #sidebar li { margin: 0; padding: 0; } #sidebar li ul { margin: 0px 0px; padding-bottom: 20px; } #sidebar li li { border-bottom: 1px dashed #E5E5E5; padding: 0px 0px 0px 0px; } #sidebar h2 { margin: 0 0px 20px 0px; padding-bottom: 20px; font-size: 1.8em; font-weight: bold; color: #FFFFFF; } #sidebar p { margin: 0 0px; padding: 0px 20px 20px 20px; text-align: justify; } #sidebar a { border: none; color: #FFFFFF; } #calendar_wrap { padding: 20px; } #calendar #next { text-align: right; } #footer { width: 960px; height: 50px; margin: 0 auto; padding: 0px 0 15px 0; background: #FFFFFF; } #footer p { margin: 0; padding-top: 10px; text-align: center; font-size: 10px; color: #FFFFFF; } #footer a { color: #FFFFFF; }\n",
            "    Answer: <html> <head lang=\"en\"> <title>TTITD.io</title> <link href=\"../../images/default_img.jpeg\" rel=\"apple-touch-icon\" sizes=\"180x180\"/> <link href=\"../../images/default_img.jpeg\" rel=\"icon\" sizes=\"32x32\" type=\"image/png\"/> <link href=\"../../images/default_img.jpeg\" rel=\"icon\" sizes=\"16x16\" type=\"image/png\"/> <link href=\"ref.placeholder\" rel=\"manifest\"/> <link href=\"ttitd.io.css\" rel=\"stylesheet\"/> <link href=\"ttitd.io.css\" rel=\"stylesheet\"/> <link href=\"ttitd.io.css\" rel=\"stylesheet\"/> <link href=\"ttitd.io.css\" rel=\"stylesheet\"/> <link href=\"ttitd.io.css\" rel=\"stylesheet\"/> <link href=\"ttitd.io.css\" rel=\"stylesheet\"/> <link href=\"ttitd.io.css\" rel=\"stylesheet\"/> <link href=\"ttitd.io.css\" rel=\"stylesheet\"/> <link href=\"ttitd.io.css\" rel=\"stylesheet\"/> <link href=\"ttitd.io.css\" rel=\"stylesheet\"/> <link href=\"ttitd.io.css\" rel=\"stylesheet\"/> <link href=\"ttitd.io.css\" rel=\"stylesheet\"/> <link href=\"ttitd.io.css\" rel=\"stylesheet\"/> </head> <body data-aos-delay=\"0\" data-aos-duration=\"700\" data-aos-easing=\"ease-out-quad\"> <section class=\"pt-12 pb-10 pt-md-12 pb-md-14\" data-jarallax=\"\" data-jarallax-original-styles=\"background-image: url(https://www.ttitd.io/img/ttitd.jpeg)\" data-speed=\".8\" style=\"background-image:none;position:relative;z-index:0\"> <div class=\"container\"> <div class=\"row align-items-center\"> <div class=\"col-12 col-md-8 col-lg-8\"> <h1 class=\"display-4 font-weight-bold text-white\" id=\"welcomeHeadingSource\">Building Beyond Black Rock City</h1> <p class=\"font-size-lg text-white-80 mb-6\">Burning Man is a project focused on community, art, self-expression, and self-reliance held annually in the western United States.</p> <div class=\"row\"> <div class=\"col-md-4\"> <a class=\"accessbox\" href=\"https://example.com\"> <img src=\"../../images/default_img.jpeg\" style=\"width:45px;margin:10.5px 10px\"/> Access the <br/> Wiki </a> </div> <div class=\"col-md-4\"><a class=\"accessbox\" href=\"https://example.com\"><img src=\"../../images/default_img.jpeg\" style=\"width:60px\"/> Access the Repo</a></div> </div> </div> </div> </div> <div id=\"jarallax-container-0\" style=\"position:absolute;top:0px;left:0px;width:100%;height:100%;overflow:hidden;pointer-events:none;z-index:-100\"> <div></div> </div> </section> <section class=\"pt-5 bg-light faq_section\"> <div class=\"container p-8 pt-md-11\"> <div class=\"row justify-content-center\"> <div class=\"col-12 col-md-12 col-lg-12 text-center\"></div> </div> <div class=\"row mb-6\"> <div class=\"col-md-12 text-center\"> <h2>Please let us know what you are creating planning for burning man and beyond</h2> <h3>To stay in touch and learn whats next with tickets and the organization - please Log into or sign up for your <a href=\"https://example.com\"><u>burner profile</u></a></h3> <br/> <br/> <h3>We have an opportunity to map our global offshoots and entrepreneurial culture right now out in the world.</h3> <br/> <br/> <h4> Please help us map the landscape of our global cultural offshoots, like minded initiatives and potential impact on society at large. <br/> As we prepare for the great unknown of BRC and in our real lives, let us know if you are designing, implementing or considering an innovative or impact led initiative? This may be individually organizationally or communally. </h4> </div> </div> </div> </section> <footer class=\"py-8 py-md-11 bg-dark-200\"> <div class=\"container\"> <div class=\"row\"> <div class=\"col-12 col-md-4 col-lg-3\"> <p class=\"text-gray-700 mb-2\">TTITD</p> </div> </div> </div> </footer> <link crossorigin=\"anonymous\" href=\"ttitd.io.css\" integrity=\"sha512-UiVP2uTd2EwFRqPM4IzVXuSFAzw+Vo84jxICHVbOA1VZFUyr4a6giD9O3uvGPFIuB2p3iTnfDVLnkdY7D/SJJQ==\" rel=\"stylesheet\"/> </body> </html> /* START CSS */ [data-aos] { pointer-events: none } * { box-sizing: border-box } html { font-family: sans-serif; -webkit-text-size-adjust: 100%; -webkit-tap-highlight-color: rgba(22,28,45,0) } footer,section { display: block } body { margin: 0; font-family: HKGroteskPro,serif; font-size: 1.0625rem; font-weight: 400; color: #161c2d; text-align: left; background-color: #000 } h1,h2,h3,h4 { margin-top: 0; margin-bottom:.5rem } p { margin-top: 0; margin-bottom: 1rem } a { color: #05265D; text-decoration: none; background-color: transparent } a:not([href]) { color: inherit; text-decoration: none } img { vertical-align: middle; } [role=button] { cursor: pointer } [type=button],[type=reset],[type=submit] { -webkit-appearance: button } [type=button]:not(:disabled),[type=reset]:not(:disabled),[type=submit]:not(:disabled) { cursor: pointer } [type=search] { outline-offset: -2px; -webkit-appearance: none } [hidden] { display: none!important }.h1,.h2,.h3,.h4,h1,h2,h3,h4 { margin-bottom:.5rem; font-weight: 400; }.h1,h1 { font-size: 2.3125rem }.h2,h2 { font-size: 1.9375rem }.h3,h3 { font-size: 1.3125rem }.h4,h4 { font-size: 1.1875rem }.display-4 { font-size: 2.6875rem; font-weight: 400; }.container { width: 100%; padding-right: 20px; padding-left: 20px; margin-right: auto; margin-left: auto } @media (min-width:576px) {.container { max-width: 540px } } @media (min-width:768px) {.container { max-width: 720px } } @media (min-width:992px) {.container { max-width: 960px } } @media (min-width:1200px) {.container { max-width: 1040px } } @media (min-width:576px) {.container { max-width: 540px } } @media (min-width:768px) {.container { max-width: 720px } } @media (min-width:992px) {.container { max-width: 960px } } @media (min-width:1200px) {.container { max-width: 1040px } }.row { display: -webkit-box; display: flex; flex-wrap: wrap; margin-right: -20px; margin-left: -20px }.col-12,.col-lg-12,.col-lg-3,.col-lg-8,.col-md-12,.col-md-4,.col-md-8 { position: relative; width: 100%; padding-right: 20px; padding-left: 20px }.col-12 { -webkit-box-flex: 0; flex: 0 0 100%; max-width: 100% } @media (min-width:768px) {.col-md-4 { -webkit-box-flex: 0; flex: 0 0 33%; max-width: 33% }.col-md-8 { -webkit-box-flex: 0; flex: 0 0 67%; max-width: 67% }.col-md-12 { -webkit-box-flex: 0; flex: 0 0 100%; max-width: 100% } } @media (min-width:992px) {.col-lg-3 { -webkit-box-flex: 0; flex: 0 0 25%; max-width: 25% }.col-lg-8 { -webkit-box-flex: 0; flex: 0 0 67%; max-width: 67% }.col-lg-12 { -webkit-box-flex: 0; flex: 0 0 100%; max-width: 100% } }.bg-light { background-color: #f9fbfd!important }.justify-content-center { -webkit-box-pack: center!important; justify-content: center!important }.align-items-center { -webkit-box-align: center!important; align-items: center!important }.mb-2 { margin-bottom:.5rem!important }.mb-6 { margin-bottom: 2rem!important }.pt-5 { padding-top: 1.5rem!important }.p-8 { padding: 3rem!important }.py-8 { padding-top: 3rem!important }.py-8 { padding-bottom: 3rem!important }.pb-10 { padding-bottom: 5rem!important }.pt-12 { padding-top: 8rem!important } @media (min-width:768px) {.pt-md-11,.py-md-11 { padding-top: 6rem!important }.py-md-11 { padding-bottom: 6rem!important }.pt-md-12 { padding-top: 8rem!important }.pb-md-14 { padding-bottom: 12rem!important } }.text-center { text-align: center!important }.font-weight-bold { font-weight: 600!important }.text-white { color: #fff!important }.text-white { color: #fff!important } [class^=container] { position: relative; z-index: 1 } body,html { overflow-x: hidden }.h1,.h2,h1,h2 { margin-bottom: 1rem } @media (max-width:991.98px) {.h1,h1 { font-size: 1.875rem } } @media (max-width:991.98px) {.h2,h2 { font-size: 1.5rem } } @media (max-width:991.98px) {.h3,h3 { font-size: 1.125rem } } @media (max-width:991.98px) {.h4,h4 { font-size: 1.0625rem } } @media (max-width:991.98px) {.display-4 { font-size: 2rem } }.font-size-lg { font-size: 1.5rem!important } @media (max-width:991.98px) {.font-size-lg { font-size: 1.0625rem!important } }.text-gray-700 { color: #506690!important }.text-white-80 { color: rgba(255,255,255,.8)!important } [data-aos=img-skewed-item-left],[data-aos=img-skewed-item-right] { opacity: 0; will-change: opacity,transform,-webkit-transform; -webkit-backface-visibility: hidden; backface-visibility: hidden } [data-aos=img-skewed-item-left] { -webkit-transform: rotateY(-20deg) rotateX(5deg) translate3d(0,100px,0); transform: rotateY(-20deg) rotateX(5deg) translate3d(0,100px,0) } [data-aos=img-skewed-item-right] { -webkit-transform: rotateY(20deg) rotateX(5deg) translate3d(0,100px,0); transform: rotateY(20deg) rotateX(5deg) translate3d(0,100px,0) } footer { background: #f7f7f7 }\n",
            "      Bleu: 0.36\n",
            " Avg Bleu Score: 0.32\n"
          ]
        },
        {
          "name": "stderr",
          "output_type": "stream",
          "text": [
            "Epoch 5/9 - train loop: 100%|██████████| 1933/1933 [24:53<00:00,  1.29it/s, loss=1.45]\n"
          ]
        },
        {
          "name": "stdout",
          "output_type": "stream",
          "text": [
            "Moving Avg Loss: 1.010\n"
          ]
        },
        {
          "name": "stderr",
          "output_type": "stream",
          "text": [
            "Epoch 6/9 - train loop: 100%|██████████| 1933/1933 [24:53<00:00,  1.29it/s, loss=0.953]\n"
          ]
        },
        {
          "name": "stdout",
          "output_type": "stream",
          "text": [
            "Moving Avg Loss: 0.735\n"
          ]
        },
        {
          "name": "stderr",
          "output_type": "stream",
          "text": [
            "Epoch 7/9 - train loop: 100%|██████████| 1933/1933 [24:53<00:00,  1.29it/s, loss=0.743]\n"
          ]
        },
        {
          "name": "stdout",
          "output_type": "stream",
          "text": [
            "Moving Avg Loss: 0.708\n"
          ]
        },
        {
          "name": "stderr",
          "output_type": "stream",
          "text": [
            "Epoch 8/9 - train loop: 100%|██████████| 1933/1933 [24:54<00:00,  1.29it/s, loss=1.53]\n"
          ]
        },
        {
          "name": "stdout",
          "output_type": "stream",
          "text": [
            "Moving Avg Loss: 0.904\n"
          ]
        },
        {
          "name": "stderr",
          "output_type": "stream",
          "text": [
            "Epoch 9/9 - train loop: 100%|██████████| 1933/1933 [24:54<00:00,  1.29it/s, loss=0.931]\n"
          ]
        },
        {
          "name": "stdout",
          "output_type": "stream",
          "text": [
            "Moving Avg Loss: 0.823\n"
          ]
        },
        {
          "name": "stderr",
          "output_type": "stream",
          "text": [
            "Epoch 9/9 - valid loop: 100%|██████████| 1/1 [05:36<00:00, 336.58s/it, bleu_score=0.354]"
          ]
        },
        {
          "name": "stdout",
          "output_type": "stream",
          "text": [
            "\n",
            "Prediction: <html xmlns=\"https://example.com\"> <head> <title>Buy Lexapro Tablets Online - Bonus Pills For Every Order</title> <link href=\"https://example.com\" rel=\"stylesheet\" type=\"text/css\"/> <link href=\"lexapro.life.css\" media=\"all\" rel=\"stylesheet\" type=\"text/css\"/> </head> <body> <div id=\"wrapper\"> <div id=\"header-wrapper\"> <div class=\"container\" id=\"header\"> <div id=\"logo\"> <h1>Lexapro - Worldwide Worldwide Shipping</h1> </div> <div id=\"menu\"><ul><li class=\"current_page_item\"><a accesskey=\"1\" href=\"ref.placeholder\" title=\"\">Homepage</a></li><li><a accesskey=\"2\" href=\"ref.placeholder\" title=\"\">Our Clients</a></li><li><a accesskey=\"3\" href=\"ref.placeholder\" title=\"\">About Us</a></li><li><a accesskey=\"4\" href=\"ref.placeholder\" title=\"\">Careers</a></li><li><a accesskey=\"5\" href=\"ref.placeholder\" title=\"\">Contact Us</a></li></ul></div> </div> </div> <div id=\"banner\"><img alt=\"Lexapro is a prescription medicine that can be used for the treatment of various other disorders.\" src=\"../../images/default_img.jpeg\"/></div> <div id=\"page\"> <div id=\"content\"> <div class=\"post\"> <h2 class=\"title\">a hrefref.placeholderWelcome to Surround a</h2> <p class=\"meta\"><span class=\"date\">September 28, 2012</span><span class=\"posted\">Posted by <a href=\"ref.placeholder\">Someone</a></span></p> <div style=\"clear:both\"></div> <div class=\"entry\"> <p>The following ones are expected to take a couple of months after, including light or weak conditions, a past of a diabetic issue, and a history of heart condition.</p> <p class=\"links\"><a class=\"more\" href=\"ref.placeholder\">Read More</a><a class=\"comments\" href=\"ref.placeholder\" title=\"b0x\">Comments</a></p> </div> </div> <div class=\"post\"> <h2 class=\"title\">Praesent scelerisque</h2> <p class=\"meta\"><span class=\"date\">September 20, 2012</span><span class=\"posted\">Posted by <a href=\"ref.placeholder\">Someone</a></span></p> <div style=\"clear:both\"></div> <div class=\"entry\"> <p>Your medical professional is likewise supposed to know if you have actually been diagnosed with a past of liver disease, kidney illness, cardiovascular disease, a record of aggravating abuse or other health problems, including hypertension, heart condition or renal condition and a history of a thyroid condition.</p> <p class=\"links\"><a class=\"more\" href=\"ref.placeholder\">Read More</a><a class=\"comments\" href=\"ref.placeholder\" title=\"b0x\">Comments</a></p> </div> </div> <div class=\"post\"> <h2 class=\"title\">Maecenas luctus</h2> <p class=\"meta\"><span class=\"date\">September 20, 2012</span><span class=\"posted\">Posted by <a href=\"ref.placeholder\">Someone</a></span></p> <div style=\"clear:both\"></div> <div class=\"entry\"> <p>Your medical professional is likewise supposed to know if you have actually been diagnosed with a past of liver disease, kidney illness, cardiovascular disease, a record of a significant abuse or other health problems, including hypertension, heart condition or renal condition and a history of a thyroid condition.</p> <p class=\"links\"><a class=\"more\" href=\"ref.placeholder\">Read More</a><a class=\"comments\" href=\"ref.placeholder\" title=\"b0x\">Comments</a></p> </div> </div> <div style=\"clear:both\"></div> </div> <div id=\"sidebar\"> <ul> <li> <h2>a hrefref.placeholderLorem ipsum sed aliquama</h2> <ul><li><a href=\"ref.placeholder\">Aliquam libero</a></li><li><a href=\"ref.placeholder\">Consectetuer adipiscing elit</a></li><li><a href=\"ref.placeholder\">Metus aliquam pellentesque</a></li><li><a href=\"ref.placeholder\">Suspendisse iaculis mauris</a></li><li><a href=\"ref.placeholder\">Urnanet non molestie semper</a></li><li><a href=\"ref.placeholder\">Proin gravida orci porttitor</a></li></ul> </li> <li> <h2>Fusce fringilla</h2> <ul><li><a href=\"ref.placeholder\">Aliquam libero</a></li><li><a href=\"ref.placeholder\">Consectetuer adipiscing elit</a></li><li><a href=\"ref.placeholder\">Metus aliquam pellentesque</a></li><li><a href=\"ref.placeholder\">Suspendisse iaculis mauris</a></li><li><a href=\"ref.placeholder\">Urnanet non molestie semper</a></li><li><a href=\"ref.placeholder\">Proin gravida orci porttitor</a></li></ul> </li> </ul> </div> <div style=\"clear:both\"></div> </div> </div> </div> <div id=\"footer\"> <p>It could be suggested to begin treatment through the <a href=\"ref.placeholder\">Suspendisse iaculis mauris</a>.</p> </div> </body> </html> /* START CSS */ body { margin: 0; padding: 0; background: #FFFFFF url(ref.placeholder) repeat; font-family: \"Open Sans\", sans-serif; font-size: 14px; color: #666666; } h1, h2 { margin: 0; padding: 0; font-weight: normal; color: #222222; } h1 { font-size: 2em; } h2 { font-size: 2.4em; } p, ul { margin-top: 0; } a { text-decoration: none; color: #5D781D; } #wrapper { background: #FFFFFF url(ref.placeholder) repeat; } #header-wrapper { overflow: hidden; height: 150px; } #header { width: 1000px; height: 150px; margin: 0 auto; padding: 0px 0px; } #logo { float: left; width: 300px; margin: 0; padding: 0; color: #FFFFFF; } #logo h1, #logo p { margin: 0; padding: 0; } #logo h1 { padding: 50px 0px 0px 0px; font-size: 3.8em; } #logo p { margin: 0; padding: 0px 0 0 0px; font: normal 18px Georgia, \"Times New Roman\", Times, serif; color: #FFFFFF; } #logo p a { color: #FFFFFF; } #logo a { border: none; background: none; text-decoration: none; color: #FFFFFF; } #search { float: right; width: 280px; height: 60px; padding: 20px 0px 0px 0px; } #search-text { width: 170px; padding: 6px 5px 2px 5px; border: 1px solid #E7EBED; background: #FFFFFF; font: normal 11px Arial, Helvetica, sans-serif; color: #5D781D; } #search-submit { width: 50px; height: 22px; border: none; background: #FFFFFF; font: normal 11px Arial, Helvetica, sans-serif; color: #5D781D; } #menu { float: right; width: 500px; height: 60px; margin: 0 auto; padding: 0; } #menu ul { float: right; margin: 0; padding: 0px 0px 0px 0px; list-style: none; } #menu li { float: left; } #menu a { display: block; margin-right: 1px; padding: 10px 20px 10px 20px; text-decoration: none; text-align: center; font-family: \"Oswald\", sans-serif; font-size: 16px; font-weight: 300; color: #FFFFFF; border: none; } #menu.current_page_item a { text-decoration: none; color: #FFFFFF; } #page { width: 1000px; margin: 0 auto; padding: 0px 0px 0px 0px; } #content { float: left; width: 600px; padding: 0px 0px 0px 0px; }.post { margin-bottom: 30px; padding: 0px 0px 20px 0px; }.post.title { margin: 0px; padding: 0px 0px 20px 0px; color: #3B3B3B; }.post.title a { border: none; color: #3B3B3B; }.post.meta { margin-bottom: 30px; padding: 0px 0px 0px 0px; text-align: left; font-family: \"Oswald\", sans-serif; font-size: 16px; font-weight: 300; }.post.entry { text-align: justify; margin-bottom: 25px; padding: 10px 0px 0px 0px; padding-bottom: 20px; text-align: justify; } #sidebar { float: right; width: 280px; padding: 0px 0px 0px 0px; } #sidebar ul { margin: 0; padding: 0; list-style: none; } #sidebar li { margin: 0; padding: 0; } #sidebar li ul { margin: 0px 0px; padding-bottom: 30px; } #sidebar li li { border-bottom: 1px solid #E7EBED; margin: 0px 0px; border-left: none; } #sidebar li li a { padding: 0px 0px 0px 0px; background: url(ref.placeholder) no-repeat left 50%; } #sidebar h2 { height: 38px; padding: 0px 0px 30px 0px; padding-bottom: 30px; text-align: justify; } #sidebar p { margin: 0 0px; padding: 0px 30px 20px 30px; text-align: justify; } #sidebar a { border: none; color: #8C8C8C; } #calendar_wrap { padding: 20px; } #calendar #next { text-align: right; } #footer { width: 960px; height: 50px; margin: 0 auto; padding: 0px 0 15px 0; background: #E7EBED url(ref.placeholder) repeat; } #footer p { margin: 0; padding-top: 20px; text-align: center; color: #8C8C8C; } #footer a { color: #8C8C8C; } #banner { overflow: hidden; width: 960px; margin: 0px auto; padding: 30px 0px; background: #E7EBED url(ref.placeholder) repeat; } #banner.image { display: inline-block; } #banner.image img { display: block; width: 100%; } #banner.image-full { display: block; width: 100%; margin: 0 0 2em 0; } #banner.image-full img { display: block; width: 100%; margin: 0 0 2em 0; } #banner.image-full img.alignleft { float: left; margin-right: 25px; } #banner.image-full img.alignright { float: right; margin-right: 25px; } #banner.image-full img.alignleft { float: left; margin-right: 25px; } #banner.image-full img.alignright { float: right; margin-right: 25px; } #banner.image-full img.alignleft { float: left; margin-right: 25px; } #banner.image-full img.alignleft { float: right; margin-right: 25px; } #banner.image-full img.alignleft { float: left; margin-right: 25px; } #banner.image-full img.alignleft { float: right; margin-right: 25px; } #banner.image-full img.alignleft { float: left; margin-right: 25px; } #banner.image-full img.alignleft { float: right; margin-right: 25px; } #banner.image-full img.alignleft { float: left; margin-right: 25px; } #banner.image-full img.alignleft { float: right; margin-right: 25px; } #banner.image-full img.alignleft { float: left; margin-right: 25px; } #banner.image-full img.alignleft { float: right; margin-right: 25px; } #banner.image-full img.alignleft { float: left; margin-right: 25px; } #banner.image-full img.alignleft { float: right; margin-right: 25px; } #banner.image-full img.alignleft { float: right; margin-right: 25px; } #banner.image-full img.alignleft { float: right; margin-right: 25px; } #banner.image-full img.alignleft { float: right; margin-right: 25px; } #banner.image-full img.alignleft { float: right; margin-right: 25px; } #banner.image-full img.alignleft { float: right; margin-right: 25px; } #banner.image-full img.alignleft { float: right; margin-right: 25px; } #banner.image-full img.alignleft { float: right; margin-right: 25px; } #banner.image-full img.alignleft { float: right; margin-right: 25px; } #banner.image-full img.alignleft { float: right; margin-right: 25px; } #banner.image-full img.alignleft { float: right; margin-right: 25px; } #banner.image-full img.alignleft { float: right; margin-right: 25px; } #banner.image-full img.alignleft { float: right; margin-right: 25px; } #banner.image-full img.alignleft { float: right; margin-right: 25px; } #banner.image-full img.alignleft { float: right; margin-right: 25px; } #banner.image-full img.alignleft { float: right; margin-right: 25px; } #banner.image-full img.alignleft { float: right; margin-right: 25px; } #banner.image-full img.alignleft { float: right; margin-right: 25px; } #banner.image-full img.alignleft { float: right; margin-right: 25px; } #banner.image-full img.alignleft { float: right; margin-right: 25px; } #banner.image-full img.alignleft { float: right; margin-right: 25px; } #banner.image-full img.alignleft { float: right; margin-right: 25px; } #banner.image-full img.alignleft { float: right; margin-right: 25px; } #banner.image-full img.alignleft { float: right; margin-right: 25px; } #banner.image-full img.alignleft { float: right; margin-right: 25px; } #banner.image-full img.alignleft { float: right; margin-right: 25px; } #banner.image-full img.alignleft { float: right; margin-right: 25px; } #banner.image-full img.alignleft { float: right; margin-right: 25px; } #banner.image-full img.alignleft { float: right; margin-right: 25px; } #banner.image-full img.alignleft { float: right; margin-right: 25px; } #banner.image-full img.alignleft { float: right; margin\n",
            "    Answer: <html xmlns=\"https://example.com\"> <head> <title>Order Lexapro Tablets Online Buying Medications Online</title> <link href=\"https://example.com\" rel=\"stylesheet\" type=\"text/css\"/> <link href=\"buylexapro.life.css\" media=\"all\" rel=\"stylesheet\" type=\"text/css\"/> </head> <body> <div id=\"wrapper\"> <div id=\"header\"> <div id=\"logo\"> <h1>Lexapro - Worldwide Shipping</h1> <p>If he or she is more youthful compared to that, this medication is not meant for patients more youthful compared to 12 and you are not expected to provide to your child.</p> </div> </div> <div id=\"menu-wrapper\"> <div class=\"ribbon ribbon-content\"> <div id=\"menu\"><ul><li class=\"current_page_item\"><a href=\"ref.placeholder\">Home</a></li><li><a href=\"ref.placeholder\">Blog</a></li><li><a href=\"ref.placeholder\">Photos</a></li><li><a href=\"ref.placeholder\">About</a></li><li><a href=\"ref.placeholder\">Links</a></li><li class=\"last\"><a href=\"ref.placeholder\">Contact</a></li></ul></div> </div> </div> <div id=\"three-columns\"> <div class=\"content\"> <div id=\"column1\"> <h2>a hrefref.placeholderWelcome to Surround a</h2> <p><a href=\"../../images/default_img.jpeg\"><img alt=\"You have to not take Lexapro in addition to any kind of monoamine oxidase inhibitors, as a unexpected and extreme reaction could happen as a result of that.\" src=\"../../images/default_img.jpeg\"/></a></p> <p>The following ones are essential to state a past of suicidal ideas, epilepsy, liver or renal condition, a past of substance abuse, or bipolar illness.</p> <p><a class=\"link-style\" href=\"ref.placeholder\">Read More</a></p> </div> <div id=\"column2\"> <h2>a hrefref.placeholderLorem ipsum sed aliquama</h2> <ul class=\"list-style2\"><li class=\"first\"><a href=\"ref.placeholder\">Vestibulum luctus venenatis dui</a></li><li><a href=\"ref.placeholder\">Integer rutrum nisl in mi</a></li><li><a href=\"ref.placeholder\">Etiam malesuada rutrum enim</a></li><li><a href=\"ref.placeholder\">Aenean elementum facilisis ligula</a></li><li><a href=\"ref.placeholder\">Ut tincidunt elit vitae augue</a></li><li><a href=\"ref.placeholder\">Aenean elementum facilisis ligula</a></li><li><a href=\"ref.placeholder\">Aenean elementum facilisis ligula</a></li><li><a href=\"ref.placeholder\">Aenean elementum facilisis ligula</a></li><li><a href=\"ref.placeholder\">Sed quis odio sagittis leo vehicula</a></li></ul> <p><a class=\"link-style\" href=\"ref.placeholder\">Read More</a></p> </div> </div> </div> <div id=\"three-column\"> <div id=\"tbox1\"> <h2>Praesent scelerisque</h2> <ul class=\"style1\"><li class=\"first\"><a href=\"ref.placeholder\">Pellentesque consectetuer gravida blandit.</a></li><li><a href=\"ref.placeholder\">Lorem consectetuer adipiscing elit.</a></li><li><a href=\"ref.placeholder\">Maecenas vitae vitae feugiat eleifend.</a></li><li><a href=\"ref.placeholder\">Pellentesque consectetuer gravida blandit.</a></li></ul> </div> <div id=\"tbox2\"> <h2>Maecenas luctus</h2> <p>Your medical professional is likewise supposed to know if you have actually or made use of to have renal or liver disease, seizures, bipolar illness, suicidal ideas, a record of substance abuse, or other clinical disorders that may influence the excellence of your procedure and require a dosage modification.</p> <p><a class=\"link-style\" href=\"ref.placeholder\">Read More</a></p> </div> <div id=\"tbox3\"> <h2>Fusce fringilla</h2> <ul class=\"style1\"><li class=\"first\"><a href=\"ref.placeholder\">Twitter</a></li><li><a href=\"ref.placeholder\">Facebook</a></li><li><a href=\"ref.placeholder\">Flickr</a></li><li><a href=\"ref.placeholder\">Google </a></li></ul> </div> </div> <div id=\"footer\"> <p> Untitled. All rights reserved. Design by <a href=\"ref.placeholder\" rel=\"nofollow\">TEMPLATED</a>. Photos by <a href=\"ref.placeholder\">Fotogrph</a> <a href=\"https://example.com\">Iconify.it</a></p> </div> </div> </body> </html> /* START CSS */ html, body { height: 100%; } body { margin: 0; padding: 0; background: #0DC92C url(ref.placeholder) repeat; font-family: \"Open Sans\", sans-serif; font-size: 13px; font-weight: 200; color: #454545; } h1, h2 { margin: 0; padding: 0; font-weight: 300; color: #221D1D; } h2 { font-size: 2.5em; } p, ul { margin-top: 0px; } a { color: #2F2F2F; } a img { border: none; } #wrapper { width: 1200px; margin: 0px auto; padding: 0px 0px 0px 0px; background: #FFFFFF; } #logo { width: 420px; background: #ba89b6; height: 150px; margin: 0px auto 30px auto; color: #000000; } #logo h1, #logo p { margin: 0; padding: 0; } #logo h1 { text-align: center; font-size: 5em; color: #1F1F1F; } #logo p { text-align: center; font-size: 16px; color: #595959; } #logo p a { color: #595959; } #logo a { border: none; background: none; text-decoration: none; color: #FFFFFF; } #menu { overflow: hidden; margin: 0px 50px; font-size: 20px; color: #000000; } #menu ul { margin: 0px 0px 0px 0px; padding: 0px 0px; list-style: none; text-align: center; } #menu li { display: inline-block; } #menu a { display: block; padding: 0px 40px 0px 40px; text-decoration: none; text-align: center; font-size: 14px; font-weight: 200; color: #FFFFFF; border: none; } #menu.current_page_item a { text-decoration: none; } #menu.last { border-right: none; } #footer { overflow: hidden; width: 1100px; height: 100px; margin: 0 auto; border-top: 1px solid #CBCBCB; } #footer p { margin: 0; padding-top: 40px; text-align: center; color: #454545; } #footer a { color: #2F2F2F; } #footer-content { overflow: hidden; width: 1100px; padding: 50px; background: #ECECEC; color: #666666; } #footer-content h2 { padding: 0px 0px 30px 0px; font-size: 24px; } #footer-content #fbox1 { float: left; width: 600px; margin-right: 30px; } #footer-content #fbox2 { float: left; width: 220px; } #footer-content #fbox3 { float: right; width: 220px; } #welcome { width: 1100px; margin: 0px auto; padding: 30px 50px; } #welcome.content { padding: 0px 0px 40px 0px; border-bottom: 1px solid #D4D4D4; } #welcome h2 { padding: 0px 0px 20px 0px; } #welcome h2 a { text-decoration: none; color: #000000; } #three-columns { overflow: hidden; width: 1040px; margin: 0px auto; padding: 0px 80px 0px 80px; } #three-columns.content { overflow: hidden; padding: 0px 0px 50px 0px; } #three-columns h2 { padding: 0px 0px 20px 0px; color: #000000; } #three-columns #column1 { float: left; width: 680px; margin-right: 40px; } #three-columns #column2 { float: right; width: 300px; } #two-columns { overflow: hidden; width: 1100px; margin: 0px auto; padding: 40px 50px 50px 50px; } #two-columns h2 { padding: 0px 0px 20px 0px; color: #000000; } #two-columns #col1 { float: right; width: 740px; } #two-columns #col2 { float: left; width: 320px; } #three-column { overflow: hidden; margin: 0px 50px; padding: 50px 0px; border-top: 1px solid #CBCBCB; } #three-column h2 { padding-bottom: 1.50em; font-size: 1.75em; } #three-column #tbox1 { float: left; width: 300px; margin-right: 50px; } #three-column #tbox2 { float: left; width: 400px; } #three-column #tbox3 { float: right; width: 300px; }.list-style2 { margin: 0px; padding: 0px 0px 20px 0px; list-style: none; }.list-style2 li { padding: 10px 0px 10px 0px; border-top: 1px solid #D4D4D4; }.list-style2.first { padding-top: 0px; border-top: none; }.link-style { display: inline-block; margin-top: 10px; padding: 5px 15px; background: #BA89B6; text-decoration: none; color: #FFFFFF; } #banner { width: 1100px; margin: 10px auto 0px auto; } #menu-wrapper { position: relative; z-index: 1; }.ribbon { font-size: 16px!important; width: 85%; position: relative; background: #ba89b6; color: #fff; text-align: center; padding: 1em 2em; margin: 2em auto 3em; } ul.style1 { margin: 0px; padding: 0px; list-style: none; } ul.style1 li { padding: 10px 0px 15px 0px; border-top: 1px solid #DEDEDE; } ul.style1 a { text-decoration: none; color: #545454; } ul.style1.first { padding-top: 0px; border-top: none; }\n",
            "      Bleu: 0.54\n",
            "\n",
            "Prediction: <html xmlns=\"https://example.com\"> <head> <title>Buy Tetracycline Online - Bonus Pills For Every Order</title> <link href=\"tetracycline.shop.css\" media=\"screen\" rel=\"stylesheet\" type=\"text/css\"/> </head> <body> <div id=\"wrapper\"> <div id=\"header\"> <div id=\"logo\"> <h1>Tetracycline - Brand And Generic Tablets</h1> <p><em>Design by <a href=\"ref.placeholder\" rel=\"nofollow\">TEMPLATED</a></em></p> </div> <hr/> <div id=\"menu\"><ul><li class=\"current_page_item\"><a href=\"ref.placeholder\">Home</a></li><li><a href=\"ref.placeholder\">Blog</a></li><li><a href=\"ref.placeholder\">Photos</a></li><li><a href=\"ref.placeholder\">About</a></li><li><a href=\"ref.placeholder\">Links</a></li><li><a href=\"ref.placeholder\">Contact</a></li></ul></div> </div> <div id=\"page\"> <div id=\"content\"> <div class=\"post\"> <h1 class=\"title\">Welcome to Fresh Light</h1> <div class=\"entry\"> <p><img alt=\"Tetracycline is a prescription medicine that functions by preventing the growth of bacteria in the brain and preventing the development of the brain.\" class=\"alignleft border\" src=\"../../images/default_img.jpeg\"/></p> <p><img alt=\"Tetracycline is a prescription medicine that functions by preventing the growth of bacteria in the brain and preventing the development of the brain.\" class=\"alignleft border\" src=\"../../images/default_img.jpeg\"/></p> <p><img alt=\"Tetracycline is a prescription medicine that functions by preventing the growth of bacteria in the brain and preventing the development of the brain.\" class=\"alignleft border\" src=\"../../images/default_img.jpeg\"/></p> <p><img alt=\"Tetracycline is a prescription medicine that functions by preventing the growth of bacteria in the brain and preventing the development of the brain.\" class=\"alignleft border\" src=\"../../images/default_img.jpeg\"/></p> <p><img alt=\"Tetracycline is a prescription medicine that functions by preventing the growth of bacteria in the brain and preventing the development of the brain.\" class=\"alignleft border\" src=\"../../images/default_img.jpeg\"/></p> <p><img alt=\"Tetracycline is a prescription medicine that functions by preventing the growth of bacteria in the brain and preventing the development of the brain.\" class=\"alignleft border\" src=\"../../images/default_img.jpeg\"/></p> <p><img alt=\"Tetracycline is a prescription medicine that functions by preventing the growth of bacteria in the brain and preventing the development of the brain.\" class=\"alignleft border\" src=\"../../images/default_img.jpeg\"/></p> </div> </div> <div class=\"post\"> <h2 class=\"title\">Tetracycline Without Prescription</h2> <div class=\"entry\"> <p>The following patients need to be examined according to the following requirements.</p> </div> </div> <div class=\"post\"> <h2 class=\"title\">Recent Updates</h2> <div class=\"entry\"> <p><img alt=\"Tetracycline is a prescription medicine that functions by preventing the growth of bacteria in the brain and preventing the development of the brain.\" class=\"alignleft border\" src=\"../../images/default_img.jpeg\"/></p> </div> </div> <div style=\"clear:both\"></div> </div> <div id=\"sidebar\"> <ul> <li> <h2>Search</h2> <ul><li><a href=\"ref.placeholder\">Aliquam libero</a></li><li><a href=\"ref.placeholder\">Consectetuer adipiscing elit</a></li><li><a href=\"ref.placeholder\">Metus aliquam pellentesque</a></li><li><a href=\"ref.placeholder\">Suspendisse iaculis mauris</a></li><li><a href=\"ref.placeholder\">Urnanet non molestie semper</a></li><li><a href=\"ref.placeholder\">Proin gravida orci porttitor</a></li></ul> </li> <li> <h2>Volutpat Dolore</h2> <ul><li><a href=\"ref.placeholder\">Aliquam libero</a></li><li><a href=\"ref.placeholder\">Consectetuer adipiscing elit</a></li><li><a href=\"ref.placeholder\">Metus aliquam pellentesque</a></li><li><a href=\"ref.placeholder\">Suspendisse iaculis mauris</a></li><li><a href=\"ref.placeholder\">Urnanet non molestie semper</a></li><li><a href=\"ref.placeholder\">Proin gravida orci porttitor</a></li></ul> </li> <li> <h2>Archives</h2> <ul><li><a href=\"ref.placeholder\">Aliquam libero</a></li><li><a href=\"ref.placeholder\">Consectetuer adipiscing elit</a></li><li><a href=\"ref.placeholder\">Metus aliquam pellentesque</a></li><li><a href=\"ref.placeholder\">Suspendisse iaculis mauris</a></li><li><a href=\"ref.placeholder\">Urnanet non molestie semper</a></li><li><a href=\"ref.placeholder\">Proin gravida orci porttitor</a></li></ul> </li> </ul> </div> <div style=\"clear:both\"></div> </div> <div id=\"footer\"> <p>Tetracycline is a prescription medicine that works by preventing the growth of the bacteria in the mind.</p> </div> </body> </html> /* START CSS */ body { margin: 0; padding: 0; background: #FFFFFF url(ref.placeholder) repeat-x left top; font-family: Arial, Helvetica, sans-serif; font-size: 13px; color: #333333; } h1, h2 { margin: 0; padding: 0; font-weight: normal; color: #333333; } h1 { font-size: 2em; } h2 { font-size: 2.4em; } p, ul { margin-top: 0; } a { text-decoration: none; color: #333333; } #wrapper { width: 960px; margin: 0 auto; padding: 0; } #header { width: 960px; height: 100px; margin: 0 auto; } #logo { float: left; width: 300px; height: 100px; margin: 0; padding: 0; color: #FFFFFF; } #logo h1, #logo p { margin: 0; padding: 0; } #logo h1 { float: left; padding: 50px 0 0 0; font-size: 3.8em; } #logo p { float: left; padding: 0 0 0 0; font: normal 18px Georgia, \"Times New Roman\", Times, serif; color: #FFFFFF; } #logo a { border: none; background: none; text-decoration: none; color: #FFFFFF; } #search { float: right; width: 280px; height: 60px; padding: 20px 0 0 0; } #search form { height: 41px; margin: 0; padding: 10px 0 0 20px; } #search fieldset { margin: 0; padding: 0; border: none; } #search-text { width: 170px; padding: 6px 5px 2px 5px; border: none; background: #FFFFFF; font: normal 11px Arial, Helvetica, sans-serif; color: #5D781D; } #search-submit { width: 50px; height: 22px; border: none; background: #FFFFFF; font: normal 11px Arial, Helvetica, sans-serif; color: #5D781D; } #menu { width: 940px; height: 60px; margin: 0 auto; padding: 0; } #menu ul { margin: 0; padding: 0; list-style: none; } #menu li { float: left; } #menu a { display: block; float: left; height: 41px; padding: 10px 20px 0 20px; text-decoration: none; text-align: center; font-family: Arial, Helvetica, sans-serif; font-size: 14px; font-weight: bold; color: #FFFFFF; border: none; } #menu.current_page_item a { background: #FFFFFF; color: #FFFFFF; } #page { width: 940px; margin: 0 auto; padding: 0; } #content { float: left; width: 600px; padding: 0px 0px 0px 0px; }.post { margin-bottom: 20px; padding-bottom: 20px; }.post.title { height: 38px; padding: 10px 0 0 0px; font-size: 3em; color: #FFFFFF; }.post.meta { margin-bottom: 20px; padding: 10px 0 0 0px; font-size: 12px; color: #FFFFFF; }.post.entry { padding: 0px 0px 20px 0px; padding-bottom: 20px; text-align: justify; }.links { padding-top: 20px; font-size: 12px; color: #FFFFFF; } #sidebar { float: right; width: 280px; padding: 0px 0px 0px 0px; } #sidebar ul { margin: 0; padding: 0; list-style: none; } #sidebar li { margin: 0; padding: 0; } #sidebar li ul { margin: 0px 0px; padding-bottom: 30px; } #sidebar li li { border-bottom: 1px dashed #D4D4D4; margin: 0px 0px; border-left: none; } #sidebar h2 { height: 38px; padding: 10px 0 0 20px; font-size: 1.8em; color: #FFFFFF; } #sidebar p { margin: 0 0px; padding: 0px 20px 20px 20px; text-align: justify; } #sidebar a { border: none; color: #FFFFFF; } #calendar_wrap { padding: 20px; } #calendar #next { text-align: right; } #footer { width: 940px; height: 50px; margin: 0 auto; padding: 0px 0 15px 0; background: url(ref.placeholder) no-repeat left top; } #footer p { margin: 0; padding-top: 20px; text-align: center; font-size: 10px; color: #FFFFFF; } #footer a { color: #FFFFFF; }\n",
            "    Answer: <html xmlns=\"https://example.com\"> <head> <title>Buy Tetracycline With No A Prescription - Express Delivery</title> <link href=\"tetracycline.directory.css\" rel=\"stylesheet\" type=\"text/css\"/> </head> <body> <div id=\"header\"> <div id=\"logo\"> <h1>Tetracycline - Brand And Generic Tablets</h1> <h2>Tetracycline 500mg Price In India</h2> </div> <div id=\"menu\"><ul><li class=\"active\"><a href=\"ref.placeholder\">home</a></li><li><a href=\"ref.placeholder\">photos</a></li><li><a href=\"ref.placeholder\">about</a></li><li><a href=\"ref.placeholder\">links</a></li><li><a href=\"ref.placeholder\">contact</a></li></ul></div> </div> <div id=\"page\"> <div id=\"content\"> <div class=\"post\"> <h1 class=\"title\">Welcome to FreshLight</h1> <div class=\"entry\"> <p><img alt=\"\" class=\"left\" src=\"../../images/default_img.jpeg\"/>This is FreshLight, a free, fully standards-compliant CSS template designed by TEMPLATED for <a href=\"ref.placeholder\" rel=\"nofollow\">TEMPLATED</a>. This free template is released under the <a href=\"ref.placeholder\">Creative Commons Attribution</a> license, so youre pretty much free to do whatever you want with it even use it commercially provided you give us credit for it. Have fun </p> </div> <div class=\"meta\"> <p class=\"byline\">Posted on April 21, 2008 by TEMPLATED</p> <p class=\"links\"><a class=\"more\" href=\"ref.placeholder\">Read full article</a><b></b><a class=\"comments\" href=\"ref.placeholder\">Comments 32</a></p> </div> </div> <div class=\"post\"> <h2 class=\"title\">Tetracycline Without Prescription</h2> <div class=\"entry\"> <p>The MIC worths gotten need to be translated baseding on the following requirements.</p> <p><img alt=\"\" class=\"right\" src=\"../../images/default_img.jpeg\"/>For top respiratory infections as a result of Group A beta-hemolytic streptococci, penicillin is the normal medicine of option, including prophylaxis of rheumatic high temperature.</p> </div> <div class=\"meta\"> <p class=\"byline\">Posted on April 18, 2008 by TEMPLATED</p> <p class=\"links\"><a class=\"more\" href=\"ref.placeholder\">Read full article</a><b></b><a class=\"comments\" href=\"ref.placeholder\">Comments 32</a></p> </div> </div> </div> <div id=\"sidebar\"> <ul> <li id=\"search\"> <h2><b class=\"text1\">Search</b></h2> <form action=\"\" method=\"get\"><fieldset><input id=\"s\" name=\"s\" type=\"text\" value=\"\"/><input id=\"x\" type=\"submit\" value=\"Search\"/></fieldset></form> </li> <li> <h2><strong>Lorem</strong> Ipsum</h2> <ul><li><a href=\"ref.placeholder\">Fusce dui neque fringilla</a></li><li><a href=\"ref.placeholder\">Eget tempor eget nonummy</a></li><li><a href=\"ref.placeholder\">Magna lacus bibendum mauris</a></li><li><a href=\"ref.placeholder\">Nec metus sed donec</a></li><li><a href=\"ref.placeholder\">Magna lacus bibendum mauris</a></li><li><a href=\"ref.placeholder\">Velit semper nisi molestie</a></li><li><a href=\"ref.placeholder\">Eget tempor eget nonummy</a></li></ul> </li> <li> <h2><b>Volutpat</b> Dolore</h2> <ul><li><a href=\"ref.placeholder\">Nec metus sed donec</a></li><li><a href=\"ref.placeholder\">Magna lacus bibendum mauris</a></li><li><a href=\"ref.placeholder\">Velit semper nisi molestie</a></li><li><a href=\"ref.placeholder\">Eget tempor eget nonummy</a></li><li><a href=\"ref.placeholder\">Nec metus sed donec</a></li><li><a href=\"ref.placeholder\">Magna lacus bibendum mauris</a></li><li><a href=\"ref.placeholder\">Velit semper nisi molestie</a></li></ul> </li> </ul> </div> <div style=\"clear:both\"></div> </div> <div id=\"footer\"> <p id=\"legal\">If Sumycin may interact with other medications that you take, ask your health care service provider.</p> </div> </body> </html> /* START CSS */ body { margin: 30px 0 0 0; padding: 0; background: #2971D3 url(ref.placeholder) repeat-x; font-family: \"Trebuchet MS\", Arial, Helvetica, sans-serif; font-size: 13px; color: #FFFFFF; } h1, h2 { margin: 0; font-family: Georgia, \"Times New Roman\", Times, serif; font-weight: normal; } h1 { font-size: 32px; } h2 { font-size: 23px; } p, ul { margin: 0 0 2em 0; text-align: justify; } a:link { color: #FFFFFF; } a:active { text-decoration: none; color: #FFFFFF; } img { border: none; } img.left { float: left; margin: 7px 15px 0 0; } img.right { float: right; margin: 7px 0 0 15px; } form { margin: 0; padding: 0; } fieldset { margin: 0; padding: 0; border: none; } input { font-family: \"Trebuchet MS\", Arial, Helvetica, sans-serif; font-size: 13px; color: #333333; } #header { width: 850px; height: 110px; margin: 0 auto 40px auto; } #logo { float: left; height: 120px; background: url(ref.placeholder) no-repeat left top; } #logo h1 { font-size: 38px; color: #FFFFFF; } #logo h1 a { color: #FFFFFF; } #logo h2 { font-family: Arial, Helvetica, sans-serif; font-size: 11px; color: #FD9B33; } #logo a { text-decoration: none; } #menu { float: right; } #menu ul { margin: 0; padding: 15px 0 0 0; list-style: none; } #menu li { display: inline; } #menu a { display: block; float: left; border-bottom: 4px #F68616 solid; margin-left: 5px; padding: 7px 20px; text-decoration: none; font-size: 13px; color: #FFFFFF; } #page { width: 850px; margin: 0 auto; } #content { float: left; width: 575px; }.post.title { margin-bottom: 20px; padding-bottom: 5px; background: url(ref.placeholder) no-repeat right 50%; border-bottom: 1px dashed #FFFFFF; }.post.meta { padding: 15px 0 60px 0; background: url(ref.placeholder) repeat-x left top; }.post.meta p { margin: 0; color: #FFFFFF; }.post.meta.byline { float: left; }.post.meta.links { float: right; }.post.meta.more { padding: 0 20px 0 18px; background: url(ref.placeholder) no-repeat left center; }.post.meta.comments { padding-left: 22px; background: url(ref.placeholder) no-repeat left center; }.post.meta b { display: none; } #sidebar { float: right; width: 195px; } #sidebar ul { margin: 0; padding: 0; list-style: none; } #sidebar li { margin-bottom: 40px; } #sidebar li li { margin: 0; padding-left: 12px; background: url(ref.placeholder) no-repeat left 50%; } #sidebar h2 { margin-bottom: 10px; background: url(ref.placeholder) no-repeat right 50%; border-bottom: 1px dotted #D1D1D1; font-size: 18px; font-weight: normal; } #search h2 { margin-bottom: 20px; } #s { width: 120px; margin-right: 5px; padding: 3px; border: 1px solid #F0F0F0; } #x { padding: 3px; background: #ECECEC url(ref.placeholder) repeat-x left bottom; border: none; font-size: 11px; color: #4F4F4F; } #footer { height: 400px; min-height: 74px; padding: 10px 0 0 0; background: #000000 url(ref.placeholder) repeat-x; } html>body #footer { height: auto; } #legal { clear: both; padding-top: 20px; text-align: center; color: #FFFFFF; } #legal a { color: #FFFFFF; }\n",
            "      Bleu: 0.66\n",
            "\n",
            "Prediction: <html lang=\"en\"> <head> <title>Serif</title> <link href=\"serif.com.css\" rel=\"stylesheet\" type=\"text/css\"/> <link href=\"serif.com.css\" rel=\"stylesheet\" type=\"text/css\"/> <link href=\"serif.com.css\" rel=\"stylesheet\" type=\"text/css\"/> <link href=\"serif.com.css\" rel=\"stylesheet\" type=\"text/css\"/> <link href=\"serif.com.css\" rel=\"stylesheet\" type=\"text/css\"/> <link href=\"serif.com.css\" rel=\"stylesheet\" type=\"text/css\"/> <link href=\"serif.com.css\" rel=\"stylesheet\" type=\"text/css\"/> <link href=\"serif.com.css\" rel=\"stylesheet\" type=\"text/css\"/> <link href=\"serif.com.css\" rel=\"stylesheet\" type=\"text/css\"/> <link href=\"serif.com.css\" rel=\"stylesheet\" type=\"text/css\"/> <link href=\"serif.com.css\" rel=\"stylesheet\" type=\"text/css\"/> <link href=\"serif.com.css\" rel=\"stylesheet\" type=\"text/css\"/> <link href=\"serif.com.css\" rel=\"stylesheet\" type=\"text/css\"/> <link href=\"serif.com.css\" rel=\"stylesheet\" type=\"text/css\"/> <link href=\"serif.com.css\" rel=\"stylesheet\" type=\"text/css\"/> <link href=\"serif.com.css\" rel=\"stylesheet\" type=\"text/css\"/> <link href=\"serif.com.css\" rel=\"stylesheet\" type=\"text/css\"/> <link href=\"serif.com.css\" rel=\"stylesheet\" type=\"text/css\"/> <link href=\"serif.com.css\" rel=\"stylesheet\" type=\"text/css\"/> <link href=\"serif.com.css\" rel=\"stylesheet\" type=\"text/css\"/> <link href=\"serif.com.css\" rel=\"stylesheet\" type=\"text/css\"/> <link href=\"serif.com.css\" rel=\"stylesheet\" type=\"text/css\"/> <link href=\"serif.com.css\" rel=\"stylesheet\" type=\"text/css\"/> <link href=\"serif.com.css\" rel=\"stylesheet\" type=\"text/css\"/> <link href=\"serif.com.css\" rel=\"stylesheet\" type=\"text/css\"/> <link href=\"serif.com.css\" rel=\"stylesheet\" type=\"text/css\"/> <link href=\"serif.com.css\" rel=\"stylesheet\" type=\"text/css\"/> <link href=\"serif.com.css\" rel=\"stylesheet\" type=\"text/css\"/> <link href=\"serif.com.css\" rel=\"stylesheet\" type=\"text/css\"/> <link href=\"serif.com.css\" rel=\"stylesheet\" type=\"text/css\"/> <link href=\"serif.com.css\" rel=\"stylesheet\" type=\"text/css\"/> <link href=\"serif.com.css\" rel=\"stylesheet\" type=\"text/css\"/> <link href=\"serif.com.css\" rel=\"stylesheet\" type=\"text/css\"/> <link href=\"serif.com.css\" rel=\"stylesheet\" type=\"text/css\"/> <link href=\"serif.com.css\" rel=\"stylesheet\" type=\"text/css\"/> <link href=\"serif.com.css\" rel=\"stylesheet\" type=\"text/css\"/> <link href=\"serif.com.css\" rel=\"stylesheet\" type=\"text/css\"/> <link href=\"serif.com.css\" rel=\"stylesheet\" type=\"text/css\"/> <link href=\"serif.com.css\" rel=\"stylesheet\" type=\"text/css\"/> <link href=\"serif.com.css\" rel=\"stylesheet\" type=\"text/css\"/> <link href=\"serif.com.css\" rel=\"stylesheet\" type=\"text/css\"/> <link href=\"serif.com.css\" rel=\"stylesheet\" type=\"text/css\"/> <link href=\"serif.com.css\" rel=\"stylesheet\" type=\"text/css\"/> <link href=\"serif.com.css\" rel=\"stylesheet\" type=\"text/css\"/> <link href=\"serif.com.css\" rel=\"stylesheet\" type=\"text/css\"/> <link href=\"serif.com.css\" rel=\"stylesheet\" type=\"text/css\"/> <link href=\"serif.com.css\" rel=\"stylesheet\" type=\"text/css\"/> <link href=\"serif.com.css\" rel=\"stylesheet\" type=\"text/css\"/> <link href=\"serif.com.css\" rel=\"stylesheet\" type=\"text/css\"/> <link href=\"serif.com.css\" rel=\"stylesheet\" type=\"text/css\"/> <link href=\"serif.com.css\" rel=\"stylesheet\" type=\"text/css\"/> <link href=\"serif.com.css\" rel=\"stylesheet\" type=\"text/css\"/> <link href=\"serif.com.css\" rel=\"stylesheet\" type=\"text/css\"/> <link href=\"serif.com.css\" rel=\"stylesheet\" type=\"text/css\"/> <link href=\"serif.com.css\" rel=\"stylesheet\" type=\"text/css\"/> <link href=\"serif.com.css\" rel=\"stylesheet\" type=\"text/css\"/> <link href=\"serif.com.css\" rel=\"stylesheet\" type=\"text/css\"/> <link href=\"serif.com.css\" rel=\"stylesheet\" type=\"text/css\"/> <link href=\"serif.com.css\" rel=\"stylesheet\" type=\"text/css\"/> <link href=\"serif.com.css\" rel=\"stylesheet\" type=\"text/css\"/> <link href=\"serif.com.css\" rel=\"stylesheet\" type=\"text/css\"/> <link href=\"serif.com.css\" rel=\"stylesheet\" type=\"text/css\"/> <link href=\"serif.com.css\" rel=\"stylesheet\" type=\"text/css\"/> <link href=\"serif.com.css\" rel=\"stylesheet\" type=\"text/css\"/> <link href=\"serif.com.css\" rel=\"stylesheet\" type=\"text/css\"/> <link href=\"serif.com.css\" rel=\"stylesheet\" type=\"text/css\"/> <link href=\"serif.com.css\" rel=\"stylesheet\" type=\"text/css\"/> <link href=\"serif.com.css\" rel=\"stylesheet\" type=\"text/css\"/> <link href=\"serif.com.css\" rel=\"stylesheet\" type=\"text/css\"/> <link href=\"serif.com.css\" rel=\"stylesheet\" type=\"text/css\"/> <link href=\"serif.com.css\" rel=\"stylesheet\" type=\"text/css\"/> <link href=\"serif.com.css\" rel=\"stylesheet\" type=\"text/css\"/> <link href=\"serif.com.css\" rel=\"stylesheet\" type=\"text/css\"/> <link href=\"serif.com.css\" rel=\"stylesheet\" type=\"text/css\"/> <link href=\"serif.com.css\" rel=\"stylesheet\" type=\"text/css\"/> <link href=\"serif.com.css\" rel=\"stylesheet\" type=\"text/css\"/> <link href=\"serif.com.css\" rel=\"stylesheet\" type=\"text/css\"/> <link href=\"serif.com.css\" rel=\"stylesheet\" type=\"text/css\"/> <link href=\"serif.com.css\" rel=\"stylesheet\" type=\"text/css\"/> <link href=\"serif.com.css\" rel=\"stylesheet\" type=\"text/css\"/> <link href=\"serif.com.css\" rel=\"stylesheet\" type=\"text/css\"/> <link href=\"serif.com.css\" rel=\"stylesheet\" type=\"text/css\"/> <link href=\"serif.com.css\" rel=\"stylesheet\" type=\"text/css\"/> <link href=\"serif.com.css\" rel=\"stylesheet\" type=\"text/css\"/> <link href=\"serif.com.css\" rel=\"stylesheet\" type=\"text/css\"/> <link href=\"serif.com.css\" rel=\"stylesheet\" type=\"text/css\"/> <link href=\"serif.com.css\" rel=\"stylesheet\" type=\"text/css\"/> <link href=\"serif.com.css\" rel=\"stylesheet\" type=\"text/css\"/> <link href=\"serif.com.css\" rel=\"stylesheet\" type=\"text/css\"/> <link href=\"serif.com.css\" rel=\"stylesheet\" type=\"text/css\"/> <link href=\"serif.com.css\" rel=\"stylesheet\" type=\"text/css\"/> <link href=\"serif.com.css\" rel=\"stylesheet\" type=\"text/css\"/> <link href=\"serif.com.css\" rel=\"stylesheet\" type=\"text/css\"/> <link href=\"serif.com.css\" rel=\"stylesheet\" type=\"text/css\"/> <link href=\"serif.com.css\" rel=\"stylesheet\" type=\"text/css\"/> <link href=\"serif.com.css\" rel=\"stylesheet\" type=\"text/css\"/> <link href=\"serif.com.css\" rel=\"stylesheet\" type=\"text/css\"/> <link href=\"serif.com.css\" rel=\"stylesheet\" type=\"text/css\"/> <link href=\"serif.com.css\" rel=\"stylesheet\" type=\"text/css\"/> <link href=\"serif.com.css\" rel=\"stylesheet\" type=\"text/css\"/> <link href=\"serif.com.css\" rel=\"stylesheet\" type=\"text/css\"/> <link href=\"serif.com.css\" rel=\"stylesheet\" type=\"text/css\"/> <link href=\"serif.com.css\" rel=\"stylesheet\" type=\"text/css\"/> <link href=\"serif.com.css\" rel=\"stylesheet\" type=\"text/css\"/> <link href=\"serif.com.css\" rel=\"stylesheet\" type=\"text/css\"/> <link href=\"serif.com.css\" rel=\"stylesheet\" type=\"text/css\"/> <link href=\"serif.com.css\" rel=\"stylesheet\" type=\"text/css\"/> <link href=\"serif.com.css\" rel=\"stylesheet\" type=\"text/css\"/> <link href=\"serif.com.css\" rel=\"stylesheet\" type=\"text/css\"/> <link href=\"serif.com.css\" rel=\"stylesheet\" type=\"text/css\"/> <link href=\"serif.com.css\" rel=\"stylesheet\" type=\"text/css\"/> <link href=\"serif.com.css\" rel=\"stylesheet\" type=\"text/css\"/> <link href=\"serif.com.css\" rel=\"stylesheet\" type=\"text/css\"/> <link href=\"serif.com.css\" rel=\"stylesheet\" type=\"text/css\"/> <link href=\"serif.com.css\" rel=\"stylesheet\" type=\"text/css\"/> <link href=\"serif.com.css\" rel=\"stylesheet\" type=\"text/css\"/> <link href=\"serif.com.css\" rel=\"stylesheet\" type=\"text/css\"/> <link href=\"serif.com.css\" rel=\"stylesheet\" type=\"text/css\"/> <link href=\"serif.com.css\" rel=\"stylesheet\" type=\"text/css\"/> <link href=\"serif.com.css\" rel=\"stylesheet\" type=\"text/css\"/> <link href=\"serif.com.css\" rel=\"stylesheet\" type=\"text/css\"/> <link href=\"serif.com.css\" rel=\"stylesheet\" type=\"text/css\"/> <link href=\"serif.com.css\" rel=\"stylesheet\" type=\"text/css\"/> <link href=\"serif.com.css\" rel=\"stylesheet\" type=\"text/css\"/> <link href=\"serif.com.css\" rel=\"stylesheet\" type=\"text/css\"/> <link href=\"serif.com.css\" rel=\"stylesheet\" type=\"text/css\"/> <link href=\"serif.com.css\" rel=\"stylesheet\" type=\"text/css\"/> <link href=\"serif.com.css\" rel=\"stylesheet\" type=\"text/css\"/> <link href=\"serif.com.css\" rel=\"stylesheet\" type=\"text/css\"/> <link href=\"serif.com.css\" rel=\"stylesheet\" type=\"text/css\"/> <link href=\"serif.com.css\" rel=\"stylesheet\" type=\"text/css\"/> <link href=\"serif.com.css\" rel=\"stylesheet\" type=\"text/css\"/> <link href=\"serif.com.css\" rel=\"stylesheet\" type=\"text/css\"/> <link href=\"serif.com.css\" rel=\"stylesheet\" type=\"text/css\"/> <link href=\"serif.com.css\" rel=\"stylesheet\" type=\"text/css\"/> <link href=\"serif.com.css\" rel=\"stylesheet\" type=\"text/css\"/> <link href=\"serif.com.css\" rel=\"stylesheet\" type=\"text/css\"/> <link href=\"serif.com.css\" rel=\"stylesheet\" type=\"text/css\"/> <link href=\"serif.com.css\" rel=\"stylesheet\" type=\"text/css\"/> <link href=\"serif.com.css\" rel=\"stylesheet\" type=\"text/css\"/> <link href=\"serif.com.css\" rel=\"stylesheet\" type=\"text/css\"/> <link href=\"serif.com.css\" rel=\"stylesheet\" type=\"text/css\"/> <link href=\"serif.com.css\" rel=\"stylesheet\" type=\"text/css\"/> <link href=\"serif.com.css\" rel=\"stylesheet\" type=\"text/css\"/> <link href=\"serif.com.css\" rel=\"stylesheet\" type=\"text/css\"/> <link href=\"serif.com.css\" rel=\"stylesheet\" type=\"text/css\"/> <link href=\"serif.com.css\" rel=\"stylesheet\" type=\"text/css\"/> <link href=\"serif.com.css\" rel=\"stylesheet\" type=\"text/css\"/> <link href=\"serif.com.css\" rel=\"stylesheet\" type=\"text/css\"/> <link href=\"serif.com.css\" rel=\"stylesheet\" type=\"text/css\"/> <link href=\"serif.com.css\" rel=\"stylesheet\" type=\"text/css\"/> <link href=\"serif.com.css\" rel=\"stylesheet\" type=\"text/css\"/> <link href=\"serif.com.css\" rel=\"stylesheet\" type=\"text/css\"/> <link href=\"serif.com.css\" rel=\"stylesheet\" type=\"text/css\"/> <link href=\"serif.com.css\" rel=\"stylesheet\" type=\"text/css\"/> <link href=\"serif.com.css\" rel=\"stylesheet\" type=\"text/css\"/> <link href=\"serif.com.css\" rel=\"stylesheet\" type=\"text/css\"/> <link href=\"serif.com.css\" rel=\"stylesheet\" type=\"text/css\"/> <link href=\"serif.com.css\" rel=\"stylesheet\" type=\"text/css\"/> <link href=\"serif.com.css\" rel=\"stylesheet\" type=\"text/css\"/> <link href=\"serif.com.css\" rel=\"stylesheet\" type=\"text/css\"/> <link href=\"serif.com.css\" rel=\"stylesheet\" type=\"text/css\"/> <link href=\"serif.com.css\" rel=\"stylesheet\" type=\"text/css\"/> <link href=\"serif.com.css\" rel=\"stylesheet\" type=\"text/css\"/> <link href=\"serif.com.css\" rel=\"stylesheet\" type=\"text/css\"/> <link href=\"serif.com.css\" rel=\"stylesheet\" type=\"text/css\"/> <link href=\"serif.com.css\" rel=\"stylesheet\" type=\"text/css\"/> <link href=\"serif.com.css\" rel=\"stylesheet\" type=\"text/css\"/> <link href=\"serif.com.css\" rel=\"stylesheet\" type=\"text/css\"/> <link href=\"serif.com.css\" rel=\"stylesheet\" type=\"text/css\"/> <link href=\"serif.com.css\" rel=\"stylesheet\" type=\"text/css\"/> <link href=\"serif.com.css\" rel=\"stylesheet\" type=\"text/css\"/> <link href=\"serif.com.css\" rel=\"stylesheet\" type=\"text/css\"/> <link href=\"serif.com.css\" rel=\"stylesheet\" type=\"text/css\"/> <link href=\"serif.com.css\" rel=\"stylesheet\" type=\"text/css\"/> <link href=\"serif.com.css\" rel=\"stylesheet\" type=\"text/css\"/> <link href=\"serif.com.css\" rel=\"stylesheet\" type=\"text/css\"/> <link href=\"serif.com.css\" rel=\"stylesheet\" type=\"text/css\"/> <link href=\"serif.com.css\" rel=\"stylesheet\" type=\"text/css\"/> <link href=\"serif.com.css\" rel=\"stylesheet\" type=\"text/css\"/> <link href=\"serif.com.css\" rel=\"stylesheet\" type=\"text/css\"/> <link href=\"serif.com.css\" rel=\"stylesheet\" type=\"text/css\"/> <link href=\"serif.com.css\" rel=\"stylesheet\" type=\"text/css\"/> <link href=\"serif.com.css\" rel=\"stylesheet\" type=\"text/css\"/> <link href=\"serif.com.css\" rel=\"stylesheet\" type=\"text/css\"/> <link href=\"serif.com.css\"\n",
            "    Answer: <html> <head> <title> - </title> <link href=\"ref.placeholder\" rel=\"icon\"/> <link href=\"ref.placeholder\" rel=\"dns-prefetch\"/> <link href=\"https://example.com\" rel=\"dns-prefetch\"/> <link href=\"https://example.com\" rel=\"dns-prefetch\"/> <link href=\"https://example.com\" rel=\"dns-prefetch\"/> <link href=\"https://example.com\" rel=\"dns-prefetch\"/> <link href=\"meipai.com.css\" rel=\"stylesheet\" type=\"text/css\"/> <link href=\"meipai.com.css\" rel=\"stylesheet\" type=\"text/css\"/> <link href=\"meipai.com.css\" rel=\"stylesheet\" type=\"text/css\"/> <link href=\"https://example.com\" rel=\"canonical\"/> </head> <body> <link href=\"meipai.com.css\" rel=\"stylesheet\"/> <div class=\"header\"> <div class=\"header-content container\"> <a class=\"header-logo\" href=\"ref.placeholder\"></a> <div class=\"header-fun\"> <div class=\"header-fun-item fun-login\" id=\"headerLogin\"><i class=\"fun-icon\"></i><span class=\"fun-title\"></span></div> <a class=\"header-fun-item fun-upload\" hidefocus=\"\" id=\"js-header-upload-login\"><i class=\"fun-icon\"></i><span class=\"fun-title\"></span></a> </div> </div> </div> <div class=\"home-content max center clearfix pr\"> <div class=\"main-content container\"> <div class=\"main-cover\"></div> <div class=\"main-download\"> <div class=\"main-logo\"></div> <div class=\"main-download-inner\"> <div class=\"main-download-list\"><a class=\"main-download-item download-android\" href=\"https://example.com\"></a><a class=\"main-download-item download-ios\" href=\"https://example.com\"></a></div> <div class=\"main-download-qr\"></div> </div> </div> </div> </div> <div class=\"footer\"> <div class=\"footer-content container\"> <div class=\"footer-links\"> <div class=\"gov-channel\"> <a class=\"shaohuang\" href=\"https://example.com\"><img src=\"../../images/default_img.jpeg\"/></a><a class=\"fangpian\" href=\"ref.placeholder\"><img src=\"../../images/default_img.jpeg\"/></a><a class=\"jubao\" href=\"https://example.com\"><img src=\"../../images/default_img.jpeg\"/></a><img class=\"chaoyang-qr\" src=\"../../images/default_img.jpeg\"/> <div class=\"chaoyang-title\"></div> </div> <div class=\"footer-link-cols\"> <ul class=\"footer-link-list\"> <li class=\"footer-link-title\"></li><li class=\"footer-link-item\"><a href=\"https://example.com\"></a></li><li class=\"footer-link-item\"><a href=\"https://example.com\" rel=\"nofollow\"><i class=\"icon icon-footer-weibo\"></i></a></li> <li class=\"footer-link-item\"> <div class=\"footer-weixin-wrap\"> <div class=\"weixin-code-wrap\"><i class=\"top-arrow\"></i><span class=\"weixin-footer-code\"></span></div> </div> </li> </ul> <ul class=\"footer-link-list\"><li class=\"footer-link-title\"></li><li class=\"footer-link-item\"><a href=\"https://example.com\"></a></li><li class=\"footer-link-item\"><a href=\"https://example.com\"></a></li><li class=\"footer-link-item\"><a href=\"https://example.com\"></a></li><li class=\"footer-link-item\"><a href=\"https://example.com\"></a></li><li class=\"footer-link-item\"><a href=\"https://example.com\"></a></li><li class=\"footer-link-item\"><a href=\"https://example.com\"></a></li></ul><ul class=\"footer-link-list\"><li class=\"footer-link-title\"></li><li class=\"footer-link-item\"><a href=\"https://example.com\" rel=\"nofollow\"></a></li><li class=\"footer-link-item\"><a href=\"https://example.com\" rel=\"nofollow\"></a></li><li class=\"footer-link-item\"><a href=\"https://example.com\" rel=\"nofollow\"></a></li><li class=\"footer-link-item\"><a href=\"https://example.com\" rel=\"nofollow\"></a></li></ul><ul class=\"footer-link-list\"><li class=\"footer-link-title\"></li><li class=\"footer-link-item\"><span class=\"js-span-a hover-underline\" onclick=\"window.open('https://example.com', '_blank', 'height=502, width=644,toolbar=no,scrollbars=no,menubar=no,status=no');\" rel=\"nofollow\"></span></li><li class=\"footer-link-item\"><a href=\"https://example.com\"></a></li><li class=\"footer-link-item\"><a href=\"https://example.com\"></a></li><li class=\"footer-link-item\"><a href=\"https://example.com\"></a></li><li class=\"footer-link-item\"><a href=\"https://example.com\"></a></li><li class=\"footer-link-item\"><a href=\"https://example.com\"></a></li><li class=\"footer-link-item\"><a href=\"https://example.com\"></a></li></ul> </div> </div> <div class=\"footer-divide\"></div> <div class=\"footer-copy\" style=\"width:860px;padding-top:10px\"> <a href=\"https://example.com\" rel=\"nofollow\">35020302000426</a><a href=\"https://example.com\" rel=\"nofollow\" style=\"margin-left:10px\"> 2022 2075-079</a><span style=\"margin-left:10px\"><a href=\"https://example.com\" rel=\"nofollow\">ICP16016710</a></span> <div>MTkefumeitu.com jubao365meitu.com</div> <div>40000933603900-2100</div> <div> <a href=\"https://example.com\" style=\"display:inline-block\">www.12377.cn <img src=\"../../images/default_img.jpeg\" style=\"vertical-align:middle;margin-left:5px;width:40px;height:auto\"/></a> <a href=\"https://example.com\" style=\"display:inline-block\">www.piyao.org.cnyybgtindex.htm <img src=\"../../images/default_img.jpeg\" style=\"vertical-align:middle;margin-left:5px;width:70px;height:auto\"/></a></div> <div> CB1F-055 4000093360900-2100</div> <div id=\"copy-right-meitu\"> 2008-2023 </div> </div> </div> </div> <div class=\"go-qq pf\" onclick=\"window.open('https://example.com', '_blank', 'height=502, width=644,toolbar=no,scrollbars=no,menubar=no,status=no');\" style=\"z-index:5\" title=\"帮 助反馈 \"></div> <div class=\"js-show-down go-down pf sp download-right-bottom\" data-animate=\"105,65\" style=\"z-index:5\" title=\"下载美拍\"></div> <div class=\"go-top pf hide\" id=\"goTop\" style=\"z-index:5;display:none\" title=\"返回顶 部\"></div> <img class=\"pa\" src=\"/stat/spread\" style=\"left:-1px;top:-1px;opacity:0\"/><img class=\"pa\" src=\"/stat_log/visited?ctrl=home&amp;act=index&amp;e_t=0&amp;request_uri=%2F&amp;http_referer=\" style=\"left:-1px;top:-1px;opacity:0\"/> </body> </html> /* START CSS */ error error error error\n",
            "      Bleu: 0.12\n",
            "\n",
            "Prediction: <html lang=\"en\"> <head> <title>Building Beyond Black Rock City</title> <link href=\"https://example.com\" rel=\"stylesheet\"/> <link href=\"https://example.com\" rel=\"stylesheet\"/> <link href=\"https://example.com\" rel=\"stylesheet\"/> <link href=\"https://example.com\" rel=\"stylesheet\"/> <link href=\"https://example.com\" rel=\"stylesheet\"/> <link href=\"https://example.com\" rel=\"stylesheet\"/> <link href=\"https://example.com\" rel=\"stylesheet\"/> <link href=\"https://example.com\" rel=\"stylesheet\"/> <link href=\"https://example.com\" rel=\"stylesheet\"/> <link href=\"https://example.com\" rel=\"stylesheet\"/> <link href=\"https://example.com\" rel=\"stylesheet\"/> <link href=\"https://example.com\" rel=\"stylesheet\"/> <link href=\"https://example.com\" rel=\"stylesheet\"/> <link href=\"https://example.com\" rel=\"stylesheet\"/> <link href=\"https://example.com\" rel=\"stylesheet\"/> <link href=\"https://example.com\" rel=\"stylesheet\"/> <link href=\"https://example.com\" rel=\"stylesheet\"/> <link href=\"https://example.com\" rel=\"stylesheet\"/> <link href=\"https://example.com\" rel=\"stylesheet\"/> <link href=\"https://example.com\" rel=\"stylesheet\"/> <link href=\"https://example.com\" rel=\"stylesheet\"/> <link href=\"https://example.com\" rel=\"stylesheet\"/> <link href=\"https://example.com\" rel=\"stylesheet\"/> <link href=\"https://example.com\" rel=\"stylesheet\"/> <link href=\"https://example.com\" rel=\"stylesheet\"/> <link href=\"https://example.com\" rel=\"stylesheet\"/> <link href=\"https://example.com\" rel=\"stylesheet\"/> <link href=\"https://example.com\" rel=\"stylesheet\"/> <link href=\"https://example.com\" rel=\"stylesheet\"/> <link href=\"https://example.com\" rel=\"stylesheet\"/> <link href=\"https://example.com\" rel=\"stylesheet\"/> <link href=\"https://example.com\" rel=\"stylesheet\"/> <link href=\"https://example.com\" rel=\"stylesheet\"/> <link href=\"https://example.com\" rel=\"stylesheet\"/> <link href=\"https://example.com\" rel=\"stylesheet\"/> <link href=\"https://example.com\" rel=\"stylesheet\"/> <link href=\"https://example.com\" rel=\"stylesheet\"/> <link href=\"https://example.com\" rel=\"stylesheet\"/> <link href=\"https://example.com\" rel=\"stylesheet\"/> <link href=\"https://example.com\" rel=\"stylesheet\"/> <link href=\"https://example.com\" rel=\"stylesheet\"/> <link href=\"https://example.com\" rel=\"stylesheet\"/> <link href=\"https://example.com\" rel=\"stylesheet\"/> <link href=\"https://example.com\" rel=\"stylesheet\"/> <link href=\"https://example.com\" rel=\"stylesheet\"/> <link href=\"https://example.com\" rel=\"stylesheet\"/> <link href=\"https://example.com\" rel=\"stylesheet\"/> <link href=\"https://example.com\" rel=\"stylesheet\"/> <link href=\"https://example.com\" rel=\"stylesheet\"/> <link href=\"https://example.com\" rel=\"stylesheet\"/> <link href=\"https://example.com\" rel=\"stylesheet\"/> <link href=\"https://example.com\" rel=\"stylesheet\"/> <link href=\"https://example.com\" rel=\"stylesheet\"/> <link href=\"https://example.com\" rel=\"stylesheet\"/> <link href=\"https://example.com\" rel=\"stylesheet\"/> <link href=\"https://example.com\" rel=\"stylesheet\"/> <link href=\"https://example.com\" rel=\"stylesheet\"/> <link href=\"https://example.com\" rel=\"stylesheet\"/> <link href=\"https://example.com\" rel=\"stylesheet\"/> <link href=\"https://example.com\" rel=\"stylesheet\"/> <link href=\"https://example.com\" rel=\"stylesheet\"/> <link href=\"https://example.com\" rel=\"stylesheet\"/> <link href=\"https://example.com\" rel=\"stylesheet\"/> <link href=\"https://example.com\" rel=\"stylesheet\"/> <link href=\"https://example.com\" rel=\"stylesheet\"/> <link href=\"https://example.com\" rel=\"stylesheet\"/> <link href=\"https://example.com\" rel=\"stylesheet\"/> <link href=\"https://example.com\" rel=\"stylesheet\"/> <link href=\"https://example.com\" rel=\"stylesheet\"/> <link href=\"https://example.com\" rel=\"stylesheet\"/> <link href=\"https://example.com\" rel=\"stylesheet\"/> <link href=\"https://example.com\" rel=\"stylesheet\"/> <link href=\"https://example.com\" rel=\"stylesheet\"/> <link href=\"https://example.com\" rel=\"stylesheet\"/> <link href=\"https://example.com\" rel=\"stylesheet\"/> <link href=\"https://example.com\" rel=\"stylesheet\"/> <link href=\"https://example.com\" rel=\"stylesheet\"/> <link href=\"https://example.com\" rel=\"stylesheet\"/> <link href=\"https://example.com\" rel=\"stylesheet\"/> <link href=\"https://example.com\" rel=\"stylesheet\"/> <link href=\"https://example.com\" rel=\"stylesheet\"/> <link href=\"https://example.com\" rel=\"stylesheet\"/> <link href=\"https://example.com\" rel=\"stylesheet\"/> <link href=\"https://example.com\" rel=\"stylesheet\"/> <link href=\"https://example.com\" rel=\"stylesheet\"/> <link href=\"https://example.com\" rel=\"stylesheet\"/> <link href=\"https://example.com\" rel=\"stylesheet\"/> <link href=\"https://example.com\" rel=\"stylesheet\"/> <link href=\"https://example.com\" rel=\"stylesheet\"/> <link href=\"https://example.com\" rel=\"stylesheet\"/> <link href=\"https://example.com\" rel=\"stylesheet\"/> <link href=\"https://example.com\" rel=\"stylesheet\"/> <link href=\"https://example.com\" rel=\"stylesheet\"/> <link href=\"https://example.com\" rel=\"stylesheet\"/> <link href=\"https://example.com\" rel=\"stylesheet\"/> <link href=\"https://example.com\" rel=\"stylesheet\"/> <link href=\"https://example.com\" rel=\"stylesheet\"/> <link href=\"https://example.com\" rel=\"stylesheet\"/> <link href=\"https://example.com\" rel=\"stylesheet\"/> <link href=\"https://example.com\" rel=\"stylesheet\"/> <link href=\"https://example.com\" rel=\"stylesheet\"/> <link href=\"https://example.com\" rel=\"stylesheet\"/> <link href=\"https://example.com\" rel=\"stylesheet\"/> <link href=\"https://example.com\" rel=\"stylesheet\"/> <link href=\"https://example.com\" rel=\"stylesheet\"/> <link href=\"https://example.com\" rel=\"stylesheet\"/> <link href=\"https://example.com\" rel=\"stylesheet\"/> <link href=\"https://example.com\" rel=\"stylesheet\"/> <link href=\"https://example.com\" rel=\"stylesheet\"/> <link href=\"https://example.com\" rel=\"stylesheet\"/> <link href=\"https://example.com\" rel=\"stylesheet\"/> <link href=\"https://example.com\" rel=\"stylesheet\"/> <link href=\"https://example.com\" rel=\"stylesheet\"/> <link href=\"https://example.com\" rel=\"stylesheet\"/> <link href=\"https://example.com\" rel=\"stylesheet\"/> <link href=\"https://example.com\" rel=\"stylesheet\"/> <link href=\"https://example.com\" rel=\"stylesheet\"/> <link href=\"https://example.com\" rel=\"stylesheet\"/> <link href=\"https://example.com\" rel=\"stylesheet\"/> <link href=\"https://example.com\" rel=\"stylesheet\"/> <link href=\"https://example.com\" rel=\"stylesheet\"/> <link href=\"https://example.com\" rel=\"stylesheet\"/> <link href=\"https://example.com\" rel=\"stylesheet\"/> <link href=\"https://example.com\" rel=\"stylesheet\"/> <link href=\"https://example.com\" rel=\"stylesheet\"/> <link href=\"https://example.com\" rel=\"stylesheet\"/> <link href=\"https://example.com\" rel=\"stylesheet\"/> <link href=\"https://example.com\" rel=\"stylesheet\"/> <link href=\"https://example.com\" rel=\"stylesheet\"/> <link href=\"https://example.com\" rel=\"stylesheet\"/> <link href=\"https://example.com\" rel=\"stylesheet\"/> <link href=\"https://example.com\" rel=\"stylesheet\"/> <link href=\"https://example.com\" rel=\"stylesheet\"/> <link href=\"https://example.com\" rel=\"stylesheet\"/> <link href=\"https://example.com\" rel=\"stylesheet\"/> <link href=\"https://example.com\" rel=\"stylesheet\"/> <link href=\"https://example.com\" rel=\"stylesheet\"/> <link href=\"https://example.com\" rel=\"stylesheet\"/> <link href=\"https://example.com\" rel=\"stylesheet\"/> <link href=\"https://example.com\" rel=\"stylesheet\"/> <link href=\"https://example.com\" rel=\"stylesheet\"/> <link href=\"https://example.com\" rel=\"stylesheet\"/> <link href=\"https://example.com\" rel=\"stylesheet\"/> <link href=\"https://example.com\" rel=\"stylesheet\"/> <link href=\"https://example.com\" rel=\"stylesheet\"/> <link href=\"https://example.com\" rel=\"stylesheet\"/> <link href=\"https://example.com\" rel=\"stylesheet\"/> <link href=\"https://example.com\" rel=\"stylesheet\"/> <link href=\"https://example.com\" rel=\"stylesheet\"/> <link href=\"https://example.com\" rel=\"stylesheet\"/> <link href=\"https://example.com\" rel=\"stylesheet\"/> <link href=\"https://example.com\" rel=\"stylesheet\"/> <link href=\"https://example.com\" rel=\"stylesheet\"/> <link href=\"https://example.com\" rel=\"stylesheet\"/> <link href=\"https://example.com\" rel=\"stylesheet\"/> <link href=\"https://example.com\" rel=\"stylesheet\"/> <link href=\"https://example.com\" rel=\"stylesheet\"/> <link href=\"https://example.com\" rel=\"stylesheet\"/> <link href=\"https://example.com\" rel=\"stylesheet\"/> <link href=\"https://example.com\" rel=\"stylesheet\"/> <link href=\"https://example.com\" rel=\"stylesheet\"/> <link href=\"https://example.com\" rel=\"stylesheet\"/> <link href=\"https://example.com\" rel=\"stylesheet\"/> <link href=\"https://example.com\" rel=\"stylesheet\"/> <link href=\"https://example.com\" rel=\"stylesheet\"/> <link href=\"https://example.com\" rel=\"stylesheet\"/> <link href=\"https://example.com\" rel=\"stylesheet\"/> <link href=\"https://example.com\" rel=\"stylesheet\"/> <link href=\"https://example.com\" rel=\"stylesheet\"/> <link href=\"https://example.com\" rel=\"stylesheet\"/> <link href=\"https://example.com\" rel=\"stylesheet\"/> <link href=\"https://example.com\" rel=\"stylesheet\"/> <link href=\"https://example.com\" rel=\"stylesheet\"/> <link href=\"https://example.com\" rel=\"stylesheet\"/> <link href=\"https://example.com\" rel=\"stylesheet\"/> <link href=\"https://example.com\" rel=\"stylesheet\"/> <link href=\"https://example.com\" rel=\"stylesheet\"/> <link href=\"https://example.com\" rel=\"stylesheet\"/> <link href=\"https://example.com\" rel=\"stylesheet\"/> <link href=\"https://example.com\" rel=\"stylesheet\"/> <link href=\"https://example.com\" rel=\"stylesheet\"/> <link href=\"https://example.com\" rel=\"stylesheet\"/> <link href=\"https://example.com\" rel=\"stylesheet\"/> <link href=\"https://example.com\" rel=\"stylesheet\"/> <link href=\"https://example.com\" rel=\"stylesheet\"/> <link href=\"https://example.com\" rel=\"stylesheet\"/> <link href=\"https://example.com\" rel=\"stylesheet\"/> <link href=\"https://example.com\" rel=\"stylesheet\"/> <link href=\"https://example.com\" rel=\"stylesheet\"/> <link href=\"https://example.com\" rel=\"stylesheet\"/> <link href=\"https://example.com\" rel=\"stylesheet\"/> <link href=\"https://example.com\" rel=\"stylesheet\"/> <link href=\"https://example.com\" rel=\"stylesheet\"/> <link href=\"https://example.com\" rel=\"stylesheet\"/> <link href=\"https://example.com\" rel=\"stylesheet\"/> <link href=\"https://example.com\" rel=\"stylesheet\"/> <link href=\"https://example.com\" rel=\"stylesheet\"/> <link href=\"https://example.com\" rel=\"stylesheet\"/> <link href=\"https://example.com\" rel=\"stylesheet\"/> <link href=\"https://example.com\" rel=\"stylesheet\"/> <link href=\"https://example.com\" rel=\"stylesheet\"/> <link href=\"https://example.com\" rel=\"stylesheet\"/> <link href=\"https://example.com\" rel=\"stylesheet\"/> <link href=\"https://example.com\" rel=\"stylesheet\"/> <link href=\"https://example.com\" rel=\"stylesheet\"/> <link href=\"https://example.com\" rel=\"stylesheet\"/> <link href=\"https://example.com\" rel=\"stylesheet\"/> <link href=\"https://example.com\" rel=\"stylesheet\"/> <link href=\"https://example.com\" rel=\"stylesheet\"/> <link href=\"https://example.com\" rel=\"stylesheet\"/> <link href=\"https://example.com\" rel=\"stylesheet\"/> <link href=\"https://example.com\" rel=\"stylesheet\"/> <link href=\"https://example.com\" rel=\"stylesheet\"/> <link href=\"https://example.com\" rel=\"stylesheet\"/> <link href=\"https://example.com\" rel=\"stylesheet\"/> <link href=\"https://example.com\" rel=\"stylesheet\"/> <link href=\"https://example.com\" rel=\"stylesheet\"/> <link href=\"https://example.com\" rel=\"stylesheet\"/> <link href=\"https://example.com\" rel=\"stylesheet\"/> <link href=\"https://example.com\" rel=\"stylesheet\"/> <link href=\"https://example.com\" rel=\"stylesheet\"/> <link href=\"https://example.com\" rel=\"stylesheet\"/> <link href=\"https://example.com\" rel=\"stylesheet\"/> <link href=\"https://example.com\" rel=\"stylesheet\"/> <link href=\"https://example.com\" rel=\"stylesheet\"/> <link href=\"https://example.com\" rel=\"stylesheet\"/> <link href=\"https://example.com\" rel=\"stylesheet\"/> <link href=\"https://example.com\" rel=\"stylesheet\"/> <link href=\"https://example.com\" rel=\"stylesheet\"/> <link href=\"https://example.com\" rel=\"stylesheet\"/> <link href=\"https://example.com\" rel=\"stylesheet\"/> <link href=\"https://example.com\" rel=\"stylesheet\"/> <link href=\"https://example.com\" rel=\"stylesheet\"/> <link href=\"https://example.com\" rel=\"stylesheet\"/> <link href=\"https://example.com\" rel=\"stylesheet\"/> <link href=\"https://example.com\" rel=\"stylesheet\"/> <link href=\"https://example.com\" rel=\"stylesheet\"/> <link href=\"https://example.com\" rel=\"stylesheet\"/> <link href=\"https://example.com\" rel=\"stylesheet\"/> <link href=\"https://example.com\" rel=\"stylesheet\"/> <link href=\"https://example.com\" rel=\"stylesheet\"/> <link href=\"https://example.com\" rel=\"stylesheet\"/> <link href=\"https://example.com\" rel=\"stylesheet\"/> <link href=\"https://example.com\" rel=\"stylesheet\"/> <link href=\"https://example.com\" rel=\"stylesheet\"/> <link href=\"https://example.com\" rel=\"stylesheet\"/> <link href=\"https://example.com\" rel=\"stylesheet\"/> <link href=\"https://example.com\" rel=\"stylesheet\"/> <link href=\"https://example.com\" rel=\"stylesheet\"/> <link href=\"https://example.com\" rel=\"stylesheet\"/> <link href=\"https://example.com\" rel=\"stylesheet\"/> <link href=\"https://example.com\" rel=\"stylesheet\"/> <link href=\"https://example.com\" rel=\"stylesheet\"/> <link href=\"https://example.com\" rel=\"stylesheet\"/> <link href=\"https://example.com\" rel=\"stylesheet\"/> <link href=\"https://example.com\" rel=\"stylesheet\"/> <link href=\"https://example.com\" rel=\"stylesheet\"/> <link href=\"https://example.com\" rel=\"stylesheet\"/> <link href=\"https://example.com\" rel=\"stylesheet\"/> <link href=\"https://example.com\" rel=\"stylesheet\"/> <link href=\"https://example.com\" rel=\"stylesheet\"/> <link href=\"https://example.com\" rel=\"stylesheet\"/> <link href=\"https://example.com\" rel=\"stylesheet\"/> <link href=\"https://example.com\" rel=\"stylesheet\"/> <link href=\"https://example.com\" rel=\"stylesheet\"/> <link href=\"https://example.com\" rel=\"stylesheet\"/> <link href=\"https://example.com\" rel=\"stylesheet\"/> <link href=\"https://example.com\" rel=\"stylesheet\"/> <link href=\"https://example.com\" rel=\"stylesheet\"/> <link href=\"https://example.com\" rel=\"stylesheet\"/> <link href=\"https://example.com\" rel=\"stylesheet\"/> <link href=\"https://example.com\" rel=\"stylesheet\"/> <link href=\"https://example.com\" rel=\"stylesheet\"/> <link href=\"https://example.com\" rel=\"stylesheet\"/> <link href=\"https://example.com\" rel=\"stylesheet\"/> <link href=\"https://example.com\" rel=\"stylesheet\"/> <link href=\"https://example.com\" rel=\"stylesheet\"/> <link href=\"https://example.com\" rel=\"stylesheet\"/> <link href=\"https://example.com\" rel=\"stylesheet\"/> <link href=\"https://example.com\" rel=\"stylesheet\"/> <link href=\"https://example.com\" rel=\"stylesheet\"/> <link href=\"https://example.com\" rel=\"stylesheet\"/> <link href=\"https://example.com\" rel=\"stylesheet\"/> <link href=\"https://example.com\" rel=\"stylesheet\"/> <link href=\"https://example.com\" rel=\"stylesheet\"/> <link href=\"https://example.com\" rel=\"stylesheet\"/> <link href=\"https://example.com\" rel=\"stylesheet\"/> <link href=\"https://example.com\" rel=\"stylesheet\"/> <link href=\"https://example.com\" rel=\"stylesheet\"/> <link href=\"https://example.com\" rel=\"stylesheet\"/> <link href=\"https://example.com\" rel=\"stylesheet\"/> <link href=\"https://\n",
            "    Answer: <html> <head lang=\"en\"> <title>TTITD.io</title> <link href=\"../../images/default_img.jpeg\" rel=\"apple-touch-icon\" sizes=\"180x180\"/> <link href=\"../../images/default_img.jpeg\" rel=\"icon\" sizes=\"32x32\" type=\"image/png\"/> <link href=\"../../images/default_img.jpeg\" rel=\"icon\" sizes=\"16x16\" type=\"image/png\"/> <link href=\"ref.placeholder\" rel=\"manifest\"/> <link href=\"ttitd.io.css\" rel=\"stylesheet\"/> <link href=\"ttitd.io.css\" rel=\"stylesheet\"/> <link href=\"ttitd.io.css\" rel=\"stylesheet\"/> <link href=\"ttitd.io.css\" rel=\"stylesheet\"/> <link href=\"ttitd.io.css\" rel=\"stylesheet\"/> <link href=\"ttitd.io.css\" rel=\"stylesheet\"/> <link href=\"ttitd.io.css\" rel=\"stylesheet\"/> <link href=\"ttitd.io.css\" rel=\"stylesheet\"/> <link href=\"ttitd.io.css\" rel=\"stylesheet\"/> <link href=\"ttitd.io.css\" rel=\"stylesheet\"/> <link href=\"ttitd.io.css\" rel=\"stylesheet\"/> <link href=\"ttitd.io.css\" rel=\"stylesheet\"/> <link href=\"ttitd.io.css\" rel=\"stylesheet\"/> </head> <body data-aos-delay=\"0\" data-aos-duration=\"700\" data-aos-easing=\"ease-out-quad\"> <section class=\"pt-12 pb-10 pt-md-12 pb-md-14\" data-jarallax=\"\" data-jarallax-original-styles=\"background-image: url(https://www.ttitd.io/img/ttitd.jpeg)\" data-speed=\".8\" style=\"background-image:none;position:relative;z-index:0\"> <div class=\"container\"> <div class=\"row align-items-center\"> <div class=\"col-12 col-md-8 col-lg-8\"> <h1 class=\"display-4 font-weight-bold text-white\" id=\"welcomeHeadingSource\">Building Beyond Black Rock City</h1> <p class=\"font-size-lg text-white-80 mb-6\">Burning Man is a project focused on community, art, self-expression, and self-reliance held annually in the western United States.</p> <div class=\"row\"> <div class=\"col-md-4\"> <a class=\"accessbox\" href=\"https://example.com\"> <img src=\"../../images/default_img.jpeg\" style=\"width:45px;margin:10.5px 10px\"/> Access the <br/> Wiki </a> </div> <div class=\"col-md-4\"><a class=\"accessbox\" href=\"https://example.com\"><img src=\"../../images/default_img.jpeg\" style=\"width:60px\"/> Access the Repo</a></div> </div> </div> </div> </div> <div id=\"jarallax-container-0\" style=\"position:absolute;top:0px;left:0px;width:100%;height:100%;overflow:hidden;pointer-events:none;z-index:-100\"> <div></div> </div> </section> <section class=\"pt-5 bg-light faq_section\"> <div class=\"container p-8 pt-md-11\"> <div class=\"row justify-content-center\"> <div class=\"col-12 col-md-12 col-lg-12 text-center\"></div> </div> <div class=\"row mb-6\"> <div class=\"col-md-12 text-center\"> <h2>Please let us know what you are creating planning for burning man and beyond</h2> <h3>To stay in touch and learn whats next with tickets and the organization - please Log into or sign up for your <a href=\"https://example.com\"><u>burner profile</u></a></h3> <br/> <br/> <h3>We have an opportunity to map our global offshoots and entrepreneurial culture right now out in the world.</h3> <br/> <br/> <h4> Please help us map the landscape of our global cultural offshoots, like minded initiatives and potential impact on society at large. <br/> As we prepare for the great unknown of BRC and in our real lives, let us know if you are designing, implementing or considering an innovative or impact led initiative? This may be individually organizationally or communally. </h4> </div> </div> </div> </section> <footer class=\"py-8 py-md-11 bg-dark-200\"> <div class=\"container\"> <div class=\"row\"> <div class=\"col-12 col-md-4 col-lg-3\"> <p class=\"text-gray-700 mb-2\">TTITD</p> </div> </div> </div> </footer> <link crossorigin=\"anonymous\" href=\"ttitd.io.css\" integrity=\"sha512-UiVP2uTd2EwFRqPM4IzVXuSFAzw+Vo84jxICHVbOA1VZFUyr4a6giD9O3uvGPFIuB2p3iTnfDVLnkdY7D/SJJQ==\" rel=\"stylesheet\"/> </body> </html> /* START CSS */ [data-aos] { pointer-events: none } * { box-sizing: border-box } html { font-family: sans-serif; -webkit-text-size-adjust: 100%; -webkit-tap-highlight-color: rgba(22,28,45,0) } footer,section { display: block } body { margin: 0; font-family: HKGroteskPro,serif; font-size: 1.0625rem; font-weight: 400; color: #161c2d; text-align: left; background-color: #000 } h1,h2,h3,h4 { margin-top: 0; margin-bottom:.5rem } p { margin-top: 0; margin-bottom: 1rem } a { color: #05265D; text-decoration: none; background-color: transparent } a:not([href]) { color: inherit; text-decoration: none } img { vertical-align: middle; } [role=button] { cursor: pointer } [type=button],[type=reset],[type=submit] { -webkit-appearance: button } [type=button]:not(:disabled),[type=reset]:not(:disabled),[type=submit]:not(:disabled) { cursor: pointer } [type=search] { outline-offset: -2px; -webkit-appearance: none } [hidden] { display: none!important }.h1,.h2,.h3,.h4,h1,h2,h3,h4 { margin-bottom:.5rem; font-weight: 400; }.h1,h1 { font-size: 2.3125rem }.h2,h2 { font-size: 1.9375rem }.h3,h3 { font-size: 1.3125rem }.h4,h4 { font-size: 1.1875rem }.display-4 { font-size: 2.6875rem; font-weight: 400; }.container { width: 100%; padding-right: 20px; padding-left: 20px; margin-right: auto; margin-left: auto } @media (min-width:576px) {.container { max-width: 540px } } @media (min-width:768px) {.container { max-width: 720px } } @media (min-width:992px) {.container { max-width: 960px } } @media (min-width:1200px) {.container { max-width: 1040px } } @media (min-width:576px) {.container { max-width: 540px } } @media (min-width:768px) {.container { max-width: 720px } } @media (min-width:992px) {.container { max-width: 960px } } @media (min-width:1200px) {.container { max-width: 1040px } }.row { display: -webkit-box; display: flex; flex-wrap: wrap; margin-right: -20px; margin-left: -20px }.col-12,.col-lg-12,.col-lg-3,.col-lg-8,.col-md-12,.col-md-4,.col-md-8 { position: relative; width: 100%; padding-right: 20px; padding-left: 20px }.col-12 { -webkit-box-flex: 0; flex: 0 0 100%; max-width: 100% } @media (min-width:768px) {.col-md-4 { -webkit-box-flex: 0; flex: 0 0 33%; max-width: 33% }.col-md-8 { -webkit-box-flex: 0; flex: 0 0 67%; max-width: 67% }.col-md-12 { -webkit-box-flex: 0; flex: 0 0 100%; max-width: 100% } } @media (min-width:992px) {.col-lg-3 { -webkit-box-flex: 0; flex: 0 0 25%; max-width: 25% }.col-lg-8 { -webkit-box-flex: 0; flex: 0 0 67%; max-width: 67% }.col-lg-12 { -webkit-box-flex: 0; flex: 0 0 100%; max-width: 100% } }.bg-light { background-color: #f9fbfd!important }.justify-content-center { -webkit-box-pack: center!important; justify-content: center!important }.align-items-center { -webkit-box-align: center!important; align-items: center!important }.mb-2 { margin-bottom:.5rem!important }.mb-6 { margin-bottom: 2rem!important }.pt-5 { padding-top: 1.5rem!important }.p-8 { padding: 3rem!important }.py-8 { padding-top: 3rem!important }.py-8 { padding-bottom: 3rem!important }.pb-10 { padding-bottom: 5rem!important }.pt-12 { padding-top: 8rem!important } @media (min-width:768px) {.pt-md-11,.py-md-11 { padding-top: 6rem!important }.py-md-11 { padding-bottom: 6rem!important }.pt-md-12 { padding-top: 8rem!important }.pb-md-14 { padding-bottom: 12rem!important } }.text-center { text-align: center!important }.font-weight-bold { font-weight: 600!important }.text-white { color: #fff!important }.text-white { color: #fff!important } [class^=container] { position: relative; z-index: 1 } body,html { overflow-x: hidden }.h1,.h2,h1,h2 { margin-bottom: 1rem } @media (max-width:991.98px) {.h1,h1 { font-size: 1.875rem } } @media (max-width:991.98px) {.h2,h2 { font-size: 1.5rem } } @media (max-width:991.98px) {.h3,h3 { font-size: 1.125rem } } @media (max-width:991.98px) {.h4,h4 { font-size: 1.0625rem } } @media (max-width:991.98px) {.display-4 { font-size: 2rem } }.font-size-lg { font-size: 1.5rem!important } @media (max-width:991.98px) {.font-size-lg { font-size: 1.0625rem!important } }.text-gray-700 { color: #506690!important }.text-white-80 { color: rgba(255,255,255,.8)!important } [data-aos=img-skewed-item-left],[data-aos=img-skewed-item-right] { opacity: 0; will-change: opacity,transform,-webkit-transform; -webkit-backface-visibility: hidden; backface-visibility: hidden } [data-aos=img-skewed-item-left] { -webkit-transform: rotateY(-20deg) rotateX(5deg) translate3d(0,100px,0); transform: rotateY(-20deg) rotateX(5deg) translate3d(0,100px,0) } [data-aos=img-skewed-item-right] { -webkit-transform: rotateY(20deg) rotateX(5deg) translate3d(0,100px,0); transform: rotateY(20deg) rotateX(5deg) translate3d(0,100px,0) } footer { background: #f7f7f7 }\n",
            "      Bleu: 0.09\n",
            " Avg Bleu Score: 0.35\n"
          ]
        },
        {
          "name": "stderr",
          "output_type": "stream",
          "text": [
            "\n"
          ]
        },
        {
          "data": {
            "text/html": [
              "Waiting for W&B process to finish... <strong style=\"color:green\">(success).</strong>"
            ],
            "text/plain": [
              "<IPython.core.display.HTML object>"
            ]
          },
          "metadata": {},
          "output_type": "display_data"
        },
        {
          "data": {
            "application/vnd.jupyter.widget-view+json": {
              "model_id": "df4842b277574b3e9d227d2926cb6627",
              "version_major": 2,
              "version_minor": 0
            },
            "text/plain": [
              "VBox(children=(Label(value='0.002 MB of 0.002 MB uploaded (0.000 MB deduped)\\r'), FloatProgress(value=1.0, max…"
            ]
          },
          "metadata": {},
          "output_type": "display_data"
        },
        {
          "data": {
            "text/html": [
              "<style>\n",
              "    table.wandb td:nth-child(1) { padding: 0 10px; text-align: left ; width: auto;} td:nth-child(2) {text-align: left ; width: 100%}\n",
              "    .wandb-row { display: flex; flex-direction: row; flex-wrap: wrap; justify-content: flex-start; width: 100% }\n",
              "    .wandb-col { display: flex; flex-direction: column; flex-basis: 100%; flex: 1; padding: 10px; }\n",
              "    </style>\n",
              "<div class=\"wandb-row\"><div class=\"wandb-col\"><h3>Run history:</h3><br/><table class=\"wandb\"><tr><td>bleu</td><td>▁█</td></tr><tr><td>loss</td><td>█▄▄▂▆▃▂▁▂▂▂▂▅▂▃▂▂▂▂▁▂▁▁▁▂▃▁▂▂▂▂▂▂▂▃▄▁▃▁▁</td></tr><tr><td>lr_0</td><td>██▇▆▅▄▃▂▁▁</td></tr><tr><td>moving_avg_loss</td><td>█▇▃▃▂▄▁▁▃▂</td></tr></table><br/></div><div class=\"wandb-col\"><h3>Run summary:</h3><br/><table class=\"wandb\"><tr><td>bleu</td><td>0.35401</td></tr><tr><td>loss</td><td>0.9305</td></tr><tr><td>lr_0</td><td>0.0</td></tr><tr><td>moving_avg_loss</td><td>0.82286</td></tr></table><br/></div></div>"
            ],
            "text/plain": [
              "<IPython.core.display.HTML object>"
            ]
          },
          "metadata": {},
          "output_type": "display_data"
        },
        {
          "data": {
            "text/html": [
              " View run <strong style=\"color:#cdcd00\">run-Pix2Struct_WebUI2Code_Complete_4096</strong> at: <a href='https://wandb.ai/team-gs/Pix2Struct/runs/3cjixt50' target=\"_blank\">https://wandb.ai/team-gs/Pix2Struct/runs/3cjixt50</a><br/>Synced 5 W&B file(s), 0 media file(s), 0 artifact file(s) and 0 other file(s)"
            ],
            "text/plain": [
              "<IPython.core.display.HTML object>"
            ]
          },
          "metadata": {},
          "output_type": "display_data"
        },
        {
          "data": {
            "text/html": [
              "Find logs at: <code>./wandb/run-20230906_144850-3cjixt50/logs</code>"
            ],
            "text/plain": [
              "<IPython.core.display.HTML object>"
            ]
          },
          "metadata": {},
          "output_type": "display_data"
        }
      ],
      "source": [
        "train_model(config, processor, model, train_dataloader, val_dataloader)"
      ]
    }
  ],
  "metadata": {
    "accelerator": "GPU",
    "colab": {
      "gpuType": "A100",
      "machine_shape": "hm",
      "provenance": []
    },
    "kernelspec": {
      "display_name": "Python 3",
      "name": "python3"
    },
    "language_info": {
      "name": "python"
    },
    "widgets": {
      "application/vnd.jupyter.widget-state+json": {
        "017a2c995e8946ba9282442b93e3ae8b": {
          "model_module": "@jupyter-widgets/controls",
          "model_module_version": "1.5.0",
          "model_name": "HTMLModel",
          "state": {
            "_dom_classes": [],
            "_model_module": "@jupyter-widgets/controls",
            "_model_module_version": "1.5.0",
            "_model_name": "HTMLModel",
            "_view_count": null,
            "_view_module": "@jupyter-widgets/controls",
            "_view_module_version": "1.5.0",
            "_view_name": "HTMLView",
            "description": "",
            "description_tooltip": null,
            "layout": "IPY_MODEL_4905051c33fc45a19d3988808c16469e",
            "placeholder": "​",
            "style": "IPY_MODEL_25bd5ab787574f4d9a1ae2c2f31e6d57",
            "value": " 4.92k/4.92k [00:00&lt;00:00, 387kB/s]"
          }
        },
        "03433d7285ba4e4ebb204dadd8fbfcb2": {
          "model_module": "@jupyter-widgets/controls",
          "model_module_version": "1.5.0",
          "model_name": "ProgressStyleModel",
          "state": {
            "_model_module": "@jupyter-widgets/controls",
            "_model_module_version": "1.5.0",
            "_model_name": "ProgressStyleModel",
            "_view_count": null,
            "_view_module": "@jupyter-widgets/base",
            "_view_module_version": "1.2.0",
            "_view_name": "StyleView",
            "bar_color": null,
            "description_width": ""
          }
        },
        "063c522da93f4619ac344b8d9738d421": {
          "model_module": "@jupyter-widgets/controls",
          "model_module_version": "1.5.0",
          "model_name": "ProgressStyleModel",
          "state": {
            "_model_module": "@jupyter-widgets/controls",
            "_model_module_version": "1.5.0",
            "_model_name": "ProgressStyleModel",
            "_view_count": null,
            "_view_module": "@jupyter-widgets/base",
            "_view_module_version": "1.2.0",
            "_view_name": "StyleView",
            "bar_color": null,
            "description_width": ""
          }
        },
        "06de766d40614a0392eb434c4d8b9835": {
          "model_module": "@jupyter-widgets/base",
          "model_module_version": "1.2.0",
          "model_name": "LayoutModel",
          "state": {
            "_model_module": "@jupyter-widgets/base",
            "_model_module_version": "1.2.0",
            "_model_name": "LayoutModel",
            "_view_count": null,
            "_view_module": "@jupyter-widgets/base",
            "_view_module_version": "1.2.0",
            "_view_name": "LayoutView",
            "align_content": null,
            "align_items": null,
            "align_self": null,
            "border": null,
            "bottom": null,
            "display": null,
            "flex": null,
            "flex_flow": null,
            "grid_area": null,
            "grid_auto_columns": null,
            "grid_auto_flow": null,
            "grid_auto_rows": null,
            "grid_column": null,
            "grid_gap": null,
            "grid_row": null,
            "grid_template_areas": null,
            "grid_template_columns": null,
            "grid_template_rows": null,
            "height": null,
            "justify_content": null,
            "justify_items": null,
            "left": null,
            "margin": null,
            "max_height": null,
            "max_width": null,
            "min_height": null,
            "min_width": null,
            "object_fit": null,
            "object_position": null,
            "order": null,
            "overflow": null,
            "overflow_x": null,
            "overflow_y": null,
            "padding": null,
            "right": null,
            "top": null,
            "visibility": null,
            "width": null
          }
        },
        "06fadcd2e5244930813e1add1f3fb7e1": {
          "model_module": "@jupyter-widgets/controls",
          "model_module_version": "1.5.0",
          "model_name": "HTMLModel",
          "state": {
            "_dom_classes": [],
            "_model_module": "@jupyter-widgets/controls",
            "_model_module_version": "1.5.0",
            "_model_name": "HTMLModel",
            "_view_count": null,
            "_view_module": "@jupyter-widgets/controls",
            "_view_module_version": "1.5.0",
            "_view_name": "HTMLView",
            "description": "",
            "description_tooltip": null,
            "layout": "IPY_MODEL_78e22d841b81427788d8d34fa0b3d245",
            "placeholder": "​",
            "style": "IPY_MODEL_877ec5afd62f4e348508215318ac621d",
            "value": " 2.20k/2.20k [00:00&lt;00:00, 183kB/s]"
          }
        },
        "08ace768119d4a5cad173a064b1c0d86": {
          "model_module": "@jupyter-widgets/controls",
          "model_module_version": "1.5.0",
          "model_name": "HTMLModel",
          "state": {
            "_dom_classes": [],
            "_model_module": "@jupyter-widgets/controls",
            "_model_module_version": "1.5.0",
            "_model_name": "HTMLModel",
            "_view_count": null,
            "_view_module": "@jupyter-widgets/controls",
            "_view_module_version": "1.5.0",
            "_view_name": "HTMLView",
            "description": "",
            "description_tooltip": null,
            "layout": "IPY_MODEL_128c36031e354098986abb6c8fa38765",
            "placeholder": "​",
            "style": "IPY_MODEL_2e3784a4a7cf4471abe243f33317ad63",
            "value": " 3.27M/3.27M [00:01&lt;00:00, 2.80MB/s]"
          }
        },
        "0917fe71318540f39f886c18cf374871": {
          "model_module": "@jupyter-widgets/controls",
          "model_module_version": "1.5.0",
          "model_name": "FloatProgressModel",
          "state": {
            "_dom_classes": [],
            "_model_module": "@jupyter-widgets/controls",
            "_model_module_version": "1.5.0",
            "_model_name": "FloatProgressModel",
            "_view_count": null,
            "_view_module": "@jupyter-widgets/controls",
            "_view_module_version": "1.5.0",
            "_view_name": "ProgressView",
            "bar_style": "success",
            "description": "",
            "description_tooltip": null,
            "layout": "IPY_MODEL_1d083a60db49444b9f896df1b4ac7779",
            "max": 2613,
            "min": 0,
            "orientation": "horizontal",
            "style": "IPY_MODEL_c52885258fef4be4b344347af9e381ba",
            "value": 2613
          }
        },
        "09b1cd8fdd4d44cda363d461d6a2ff3f": {
          "model_module": "@jupyter-widgets/base",
          "model_module_version": "1.2.0",
          "model_name": "LayoutModel",
          "state": {
            "_model_module": "@jupyter-widgets/base",
            "_model_module_version": "1.2.0",
            "_model_name": "LayoutModel",
            "_view_count": null,
            "_view_module": "@jupyter-widgets/base",
            "_view_module_version": "1.2.0",
            "_view_name": "LayoutView",
            "align_content": null,
            "align_items": null,
            "align_self": null,
            "border": null,
            "bottom": null,
            "display": null,
            "flex": null,
            "flex_flow": null,
            "grid_area": null,
            "grid_auto_columns": null,
            "grid_auto_flow": null,
            "grid_auto_rows": null,
            "grid_column": null,
            "grid_gap": null,
            "grid_row": null,
            "grid_template_areas": null,
            "grid_template_columns": null,
            "grid_template_rows": null,
            "height": null,
            "justify_content": null,
            "justify_items": null,
            "left": null,
            "margin": null,
            "max_height": null,
            "max_width": null,
            "min_height": null,
            "min_width": null,
            "object_fit": null,
            "object_position": null,
            "order": null,
            "overflow": null,
            "overflow_x": null,
            "overflow_y": null,
            "padding": null,
            "right": null,
            "top": null,
            "visibility": null,
            "width": null
          }
        },
        "0aeafc347074456e82aac34ee9482dc4": {
          "model_module": "@jupyter-widgets/base",
          "model_module_version": "1.2.0",
          "model_name": "LayoutModel",
          "state": {
            "_model_module": "@jupyter-widgets/base",
            "_model_module_version": "1.2.0",
            "_model_name": "LayoutModel",
            "_view_count": null,
            "_view_module": "@jupyter-widgets/base",
            "_view_module_version": "1.2.0",
            "_view_name": "LayoutView",
            "align_content": null,
            "align_items": null,
            "align_self": null,
            "border": null,
            "bottom": null,
            "display": null,
            "flex": null,
            "flex_flow": null,
            "grid_area": null,
            "grid_auto_columns": null,
            "grid_auto_flow": null,
            "grid_auto_rows": null,
            "grid_column": null,
            "grid_gap": null,
            "grid_row": null,
            "grid_template_areas": null,
            "grid_template_columns": null,
            "grid_template_rows": null,
            "height": null,
            "justify_content": null,
            "justify_items": null,
            "left": null,
            "margin": null,
            "max_height": null,
            "max_width": null,
            "min_height": null,
            "min_width": null,
            "object_fit": null,
            "object_position": null,
            "order": null,
            "overflow": null,
            "overflow_x": null,
            "overflow_y": null,
            "padding": null,
            "right": null,
            "top": null,
            "visibility": null,
            "width": null
          }
        },
        "0f427d9b2c6d420699dac164cef5f98b": {
          "model_module": "@jupyter-widgets/controls",
          "model_module_version": "1.5.0",
          "model_name": "DescriptionStyleModel",
          "state": {
            "_model_module": "@jupyter-widgets/controls",
            "_model_module_version": "1.5.0",
            "_model_name": "DescriptionStyleModel",
            "_view_count": null,
            "_view_module": "@jupyter-widgets/base",
            "_view_module_version": "1.2.0",
            "_view_name": "StyleView",
            "description_width": ""
          }
        },
        "128c36031e354098986abb6c8fa38765": {
          "model_module": "@jupyter-widgets/base",
          "model_module_version": "1.2.0",
          "model_name": "LayoutModel",
          "state": {
            "_model_module": "@jupyter-widgets/base",
            "_model_module_version": "1.2.0",
            "_model_name": "LayoutModel",
            "_view_count": null,
            "_view_module": "@jupyter-widgets/base",
            "_view_module_version": "1.2.0",
            "_view_name": "LayoutView",
            "align_content": null,
            "align_items": null,
            "align_self": null,
            "border": null,
            "bottom": null,
            "display": null,
            "flex": null,
            "flex_flow": null,
            "grid_area": null,
            "grid_auto_columns": null,
            "grid_auto_flow": null,
            "grid_auto_rows": null,
            "grid_column": null,
            "grid_gap": null,
            "grid_row": null,
            "grid_template_areas": null,
            "grid_template_columns": null,
            "grid_template_rows": null,
            "height": null,
            "justify_content": null,
            "justify_items": null,
            "left": null,
            "margin": null,
            "max_height": null,
            "max_width": null,
            "min_height": null,
            "min_width": null,
            "object_fit": null,
            "object_position": null,
            "order": null,
            "overflow": null,
            "overflow_x": null,
            "overflow_y": null,
            "padding": null,
            "right": null,
            "top": null,
            "visibility": null,
            "width": null
          }
        },
        "14cda6cc5ac240e7a4e4ad603fda61e8": {
          "model_module": "@jupyter-widgets/controls",
          "model_module_version": "1.5.0",
          "model_name": "DescriptionStyleModel",
          "state": {
            "_model_module": "@jupyter-widgets/controls",
            "_model_module_version": "1.5.0",
            "_model_name": "DescriptionStyleModel",
            "_view_count": null,
            "_view_module": "@jupyter-widgets/base",
            "_view_module_version": "1.2.0",
            "_view_name": "StyleView",
            "description_width": ""
          }
        },
        "1d083a60db49444b9f896df1b4ac7779": {
          "model_module": "@jupyter-widgets/base",
          "model_module_version": "1.2.0",
          "model_name": "LayoutModel",
          "state": {
            "_model_module": "@jupyter-widgets/base",
            "_model_module_version": "1.2.0",
            "_model_name": "LayoutModel",
            "_view_count": null,
            "_view_module": "@jupyter-widgets/base",
            "_view_module_version": "1.2.0",
            "_view_name": "LayoutView",
            "align_content": null,
            "align_items": null,
            "align_self": null,
            "border": null,
            "bottom": null,
            "display": null,
            "flex": null,
            "flex_flow": null,
            "grid_area": null,
            "grid_auto_columns": null,
            "grid_auto_flow": null,
            "grid_auto_rows": null,
            "grid_column": null,
            "grid_gap": null,
            "grid_row": null,
            "grid_template_areas": null,
            "grid_template_columns": null,
            "grid_template_rows": null,
            "height": null,
            "justify_content": null,
            "justify_items": null,
            "left": null,
            "margin": null,
            "max_height": null,
            "max_width": null,
            "min_height": null,
            "min_width": null,
            "object_fit": null,
            "object_position": null,
            "order": null,
            "overflow": null,
            "overflow_x": null,
            "overflow_y": null,
            "padding": null,
            "right": null,
            "top": null,
            "visibility": null,
            "width": null
          }
        },
        "1db77322608948c5be447ec9b102db0a": {
          "model_module": "@jupyter-widgets/controls",
          "model_module_version": "1.5.0",
          "model_name": "ProgressStyleModel",
          "state": {
            "_model_module": "@jupyter-widgets/controls",
            "_model_module_version": "1.5.0",
            "_model_name": "ProgressStyleModel",
            "_view_count": null,
            "_view_module": "@jupyter-widgets/base",
            "_view_module_version": "1.2.0",
            "_view_name": "StyleView",
            "bar_color": null,
            "description_width": ""
          }
        },
        "228d1541ef1842c1aa1607f3fb053cb5": {
          "model_module": "@jupyter-widgets/controls",
          "model_module_version": "1.5.0",
          "model_name": "DescriptionStyleModel",
          "state": {
            "_model_module": "@jupyter-widgets/controls",
            "_model_module_version": "1.5.0",
            "_model_name": "DescriptionStyleModel",
            "_view_count": null,
            "_view_module": "@jupyter-widgets/base",
            "_view_module_version": "1.2.0",
            "_view_name": "StyleView",
            "description_width": ""
          }
        },
        "25bd5ab787574f4d9a1ae2c2f31e6d57": {
          "model_module": "@jupyter-widgets/controls",
          "model_module_version": "1.5.0",
          "model_name": "DescriptionStyleModel",
          "state": {
            "_model_module": "@jupyter-widgets/controls",
            "_model_module_version": "1.5.0",
            "_model_name": "DescriptionStyleModel",
            "_view_count": null,
            "_view_module": "@jupyter-widgets/base",
            "_view_module_version": "1.2.0",
            "_view_name": "StyleView",
            "description_width": ""
          }
        },
        "2e3784a4a7cf4471abe243f33317ad63": {
          "model_module": "@jupyter-widgets/controls",
          "model_module_version": "1.5.0",
          "model_name": "DescriptionStyleModel",
          "state": {
            "_model_module": "@jupyter-widgets/controls",
            "_model_module_version": "1.5.0",
            "_model_name": "DescriptionStyleModel",
            "_view_count": null,
            "_view_module": "@jupyter-widgets/base",
            "_view_module_version": "1.2.0",
            "_view_name": "StyleView",
            "description_width": ""
          }
        },
        "300770a436444f63b4ec1fbf5e28699f": {
          "model_module": "@jupyter-widgets/controls",
          "model_module_version": "1.5.0",
          "model_name": "HTMLModel",
          "state": {
            "_dom_classes": [],
            "_model_module": "@jupyter-widgets/controls",
            "_model_module_version": "1.5.0",
            "_model_name": "HTMLModel",
            "_view_count": null,
            "_view_module": "@jupyter-widgets/controls",
            "_view_module_version": "1.5.0",
            "_view_name": "HTMLView",
            "description": "",
            "description_tooltip": null,
            "layout": "IPY_MODEL_76607198a99d41b383fa5bc992ca6d45",
            "placeholder": "​",
            "style": "IPY_MODEL_0f427d9b2c6d420699dac164cef5f98b",
            "value": " 851k/851k [00:00&lt;00:00, 39.1MB/s]"
          }
        },
        "33362f2ab0a34e1f9028b65eaa9da9a6": {
          "model_module": "@jupyter-widgets/controls",
          "model_module_version": "1.5.0",
          "model_name": "ProgressStyleModel",
          "state": {
            "_model_module": "@jupyter-widgets/controls",
            "_model_module_version": "1.5.0",
            "_model_name": "ProgressStyleModel",
            "_view_count": null,
            "_view_module": "@jupyter-widgets/base",
            "_view_module_version": "1.2.0",
            "_view_name": "StyleView",
            "bar_color": null,
            "description_width": ""
          }
        },
        "38657d6bea3c4b14b271b05c6541ad24": {
          "model_module": "@jupyter-widgets/controls",
          "model_module_version": "1.5.0",
          "model_name": "HTMLModel",
          "state": {
            "_dom_classes": [],
            "_model_module": "@jupyter-widgets/controls",
            "_model_module_version": "1.5.0",
            "_model_name": "HTMLModel",
            "_view_count": null,
            "_view_module": "@jupyter-widgets/controls",
            "_view_module_version": "1.5.0",
            "_view_name": "HTMLView",
            "description": "",
            "description_tooltip": null,
            "layout": "IPY_MODEL_fd3bff60f0f5455f8abfd2f660b1160d",
            "placeholder": "​",
            "style": "IPY_MODEL_d650a3ca565f4b35af8465e827b77fb7",
            "value": "Downloading (…)lve/main/config.json: 100%"
          }
        },
        "41d15510e1f3422fa92afc3397ecb136": {
          "model_module": "@jupyter-widgets/controls",
          "model_module_version": "1.5.0",
          "model_name": "FloatProgressModel",
          "state": {
            "_dom_classes": [],
            "_model_module": "@jupyter-widgets/controls",
            "_model_module_version": "1.5.0",
            "_model_name": "FloatProgressModel",
            "_view_count": null,
            "_view_module": "@jupyter-widgets/controls",
            "_view_module_version": "1.5.0",
            "_view_name": "ProgressView",
            "bar_style": "",
            "description": "",
            "description_tooltip": null,
            "layout": "IPY_MODEL_711a6fa63c154b2088c0599430307573",
            "max": 1,
            "min": 0,
            "orientation": "horizontal",
            "style": "IPY_MODEL_c26d960a6e0e49ad85b7a814b1775e06",
            "value": 0.9494373511571115
          }
        },
        "469a918656fe4636be08f6b15232ad14": {
          "model_module": "@jupyter-widgets/controls",
          "model_module_version": "1.5.0",
          "model_name": "ProgressStyleModel",
          "state": {
            "_model_module": "@jupyter-widgets/controls",
            "_model_module_version": "1.5.0",
            "_model_name": "ProgressStyleModel",
            "_view_count": null,
            "_view_module": "@jupyter-widgets/base",
            "_view_module_version": "1.2.0",
            "_view_name": "StyleView",
            "bar_color": null,
            "description_width": ""
          }
        },
        "4905051c33fc45a19d3988808c16469e": {
          "model_module": "@jupyter-widgets/base",
          "model_module_version": "1.2.0",
          "model_name": "LayoutModel",
          "state": {
            "_model_module": "@jupyter-widgets/base",
            "_model_module_version": "1.2.0",
            "_model_name": "LayoutModel",
            "_view_count": null,
            "_view_module": "@jupyter-widgets/base",
            "_view_module_version": "1.2.0",
            "_view_name": "LayoutView",
            "align_content": null,
            "align_items": null,
            "align_self": null,
            "border": null,
            "bottom": null,
            "display": null,
            "flex": null,
            "flex_flow": null,
            "grid_area": null,
            "grid_auto_columns": null,
            "grid_auto_flow": null,
            "grid_auto_rows": null,
            "grid_column": null,
            "grid_gap": null,
            "grid_row": null,
            "grid_template_areas": null,
            "grid_template_columns": null,
            "grid_template_rows": null,
            "height": null,
            "justify_content": null,
            "justify_items": null,
            "left": null,
            "margin": null,
            "max_height": null,
            "max_width": null,
            "min_height": null,
            "min_width": null,
            "object_fit": null,
            "object_position": null,
            "order": null,
            "overflow": null,
            "overflow_x": null,
            "overflow_y": null,
            "padding": null,
            "right": null,
            "top": null,
            "visibility": null,
            "width": null
          }
        },
        "4f7b70da70da444ebacc20f9bbe204b1": {
          "model_module": "@jupyter-widgets/base",
          "model_module_version": "1.2.0",
          "model_name": "LayoutModel",
          "state": {
            "_model_module": "@jupyter-widgets/base",
            "_model_module_version": "1.2.0",
            "_model_name": "LayoutModel",
            "_view_count": null,
            "_view_module": "@jupyter-widgets/base",
            "_view_module_version": "1.2.0",
            "_view_name": "LayoutView",
            "align_content": null,
            "align_items": null,
            "align_self": null,
            "border": null,
            "bottom": null,
            "display": null,
            "flex": null,
            "flex_flow": null,
            "grid_area": null,
            "grid_auto_columns": null,
            "grid_auto_flow": null,
            "grid_auto_rows": null,
            "grid_column": null,
            "grid_gap": null,
            "grid_row": null,
            "grid_template_areas": null,
            "grid_template_columns": null,
            "grid_template_rows": null,
            "height": null,
            "justify_content": null,
            "justify_items": null,
            "left": null,
            "margin": null,
            "max_height": null,
            "max_width": null,
            "min_height": null,
            "min_width": null,
            "object_fit": null,
            "object_position": null,
            "order": null,
            "overflow": null,
            "overflow_x": null,
            "overflow_y": null,
            "padding": null,
            "right": null,
            "top": null,
            "visibility": null,
            "width": null
          }
        },
        "5110f813b6ed4b37868a2f6cf50b80ea": {
          "model_module": "@jupyter-widgets/controls",
          "model_module_version": "1.5.0",
          "model_name": "DescriptionStyleModel",
          "state": {
            "_model_module": "@jupyter-widgets/controls",
            "_model_module_version": "1.5.0",
            "_model_name": "DescriptionStyleModel",
            "_view_count": null,
            "_view_module": "@jupyter-widgets/base",
            "_view_module_version": "1.2.0",
            "_view_name": "StyleView",
            "description_width": ""
          }
        },
        "52a106b0fe4546fa88f236753e0127c3": {
          "model_module": "@jupyter-widgets/controls",
          "model_module_version": "1.5.0",
          "model_name": "LabelModel",
          "state": {
            "_dom_classes": [],
            "_model_module": "@jupyter-widgets/controls",
            "_model_module_version": "1.5.0",
            "_model_name": "LabelModel",
            "_view_count": null,
            "_view_module": "@jupyter-widgets/controls",
            "_view_module_version": "1.5.0",
            "_view_name": "LabelView",
            "description": "",
            "description_tooltip": null,
            "layout": "IPY_MODEL_9d114f7454814808ad80712cbec6802a",
            "placeholder": "​",
            "style": "IPY_MODEL_228d1541ef1842c1aa1607f3fb053cb5",
            "value": "0.149 MB of 0.157 MB uploaded (0.000 MB deduped)\r"
          }
        },
        "5748ef6954c84ed1828fda6199e8be0f": {
          "model_module": "@jupyter-widgets/controls",
          "model_module_version": "1.5.0",
          "model_name": "FloatProgressModel",
          "state": {
            "_dom_classes": [],
            "_model_module": "@jupyter-widgets/controls",
            "_model_module_version": "1.5.0",
            "_model_name": "FloatProgressModel",
            "_view_count": null,
            "_view_module": "@jupyter-widgets/controls",
            "_view_module_version": "1.5.0",
            "_view_name": "ProgressView",
            "bar_style": "success",
            "description": "",
            "description_tooltip": null,
            "layout": "IPY_MODEL_4f7b70da70da444ebacc20f9bbe204b1",
            "max": 1129238081,
            "min": 0,
            "orientation": "horizontal",
            "style": "IPY_MODEL_469a918656fe4636be08f6b15232ad14",
            "value": 1129238081
          }
        },
        "63531ce54b70490a9e63d671da9aa4c6": {
          "model_module": "@jupyter-widgets/controls",
          "model_module_version": "1.5.0",
          "model_name": "HBoxModel",
          "state": {
            "_dom_classes": [],
            "_model_module": "@jupyter-widgets/controls",
            "_model_module_version": "1.5.0",
            "_model_name": "HBoxModel",
            "_view_count": null,
            "_view_module": "@jupyter-widgets/controls",
            "_view_module_version": "1.5.0",
            "_view_name": "HBoxView",
            "box_style": "",
            "children": [
              "IPY_MODEL_df854506380c4618abffe132dee40006",
              "IPY_MODEL_ca1a74ef8c9744989b01f76a82443556",
              "IPY_MODEL_740248ce66ea4ee0bd59e4eaa7ee33ee"
            ],
            "layout": "IPY_MODEL_c653d1be4fa34217ad48e73286c3c17f"
          }
        },
        "66796ff4b8d24a839b269471e16ce4ad": {
          "model_module": "@jupyter-widgets/controls",
          "model_module_version": "1.5.0",
          "model_name": "DescriptionStyleModel",
          "state": {
            "_model_module": "@jupyter-widgets/controls",
            "_model_module_version": "1.5.0",
            "_model_name": "DescriptionStyleModel",
            "_view_count": null,
            "_view_module": "@jupyter-widgets/base",
            "_view_module_version": "1.2.0",
            "_view_name": "StyleView",
            "description_width": ""
          }
        },
        "6b733a05626d4d56bb823a2f5f3f0015": {
          "model_module": "@jupyter-widgets/controls",
          "model_module_version": "1.5.0",
          "model_name": "HBoxModel",
          "state": {
            "_dom_classes": [],
            "_model_module": "@jupyter-widgets/controls",
            "_model_module_version": "1.5.0",
            "_model_name": "HBoxModel",
            "_view_count": null,
            "_view_module": "@jupyter-widgets/controls",
            "_view_module_version": "1.5.0",
            "_view_name": "HBoxView",
            "box_style": "",
            "children": [
              "IPY_MODEL_a130dfaf71fb43fbbbee867bb419f5d2",
              "IPY_MODEL_782b009bf30c4546985cbf6a3fc238df",
              "IPY_MODEL_300770a436444f63b4ec1fbf5e28699f"
            ],
            "layout": "IPY_MODEL_db1e82631c5b4bc288d709a9649fc930"
          }
        },
        "6c47f36d8816454b9c549064e1062ba4": {
          "model_module": "@jupyter-widgets/base",
          "model_module_version": "1.2.0",
          "model_name": "LayoutModel",
          "state": {
            "_model_module": "@jupyter-widgets/base",
            "_model_module_version": "1.2.0",
            "_model_name": "LayoutModel",
            "_view_count": null,
            "_view_module": "@jupyter-widgets/base",
            "_view_module_version": "1.2.0",
            "_view_name": "LayoutView",
            "align_content": null,
            "align_items": null,
            "align_self": null,
            "border": null,
            "bottom": null,
            "display": null,
            "flex": null,
            "flex_flow": null,
            "grid_area": null,
            "grid_auto_columns": null,
            "grid_auto_flow": null,
            "grid_auto_rows": null,
            "grid_column": null,
            "grid_gap": null,
            "grid_row": null,
            "grid_template_areas": null,
            "grid_template_columns": null,
            "grid_template_rows": null,
            "height": null,
            "justify_content": null,
            "justify_items": null,
            "left": null,
            "margin": null,
            "max_height": null,
            "max_width": null,
            "min_height": null,
            "min_width": null,
            "object_fit": null,
            "object_position": null,
            "order": null,
            "overflow": null,
            "overflow_x": null,
            "overflow_y": null,
            "padding": null,
            "right": null,
            "top": null,
            "visibility": null,
            "width": null
          }
        },
        "6dff3d5e39ee4b79b1a514c2c79be38f": {
          "model_module": "@jupyter-widgets/base",
          "model_module_version": "1.2.0",
          "model_name": "LayoutModel",
          "state": {
            "_model_module": "@jupyter-widgets/base",
            "_model_module_version": "1.2.0",
            "_model_name": "LayoutModel",
            "_view_count": null,
            "_view_module": "@jupyter-widgets/base",
            "_view_module_version": "1.2.0",
            "_view_name": "LayoutView",
            "align_content": null,
            "align_items": null,
            "align_self": null,
            "border": null,
            "bottom": null,
            "display": null,
            "flex": null,
            "flex_flow": null,
            "grid_area": null,
            "grid_auto_columns": null,
            "grid_auto_flow": null,
            "grid_auto_rows": null,
            "grid_column": null,
            "grid_gap": null,
            "grid_row": null,
            "grid_template_areas": null,
            "grid_template_columns": null,
            "grid_template_rows": null,
            "height": null,
            "justify_content": null,
            "justify_items": null,
            "left": null,
            "margin": null,
            "max_height": null,
            "max_width": null,
            "min_height": null,
            "min_width": null,
            "object_fit": null,
            "object_position": null,
            "order": null,
            "overflow": null,
            "overflow_x": null,
            "overflow_y": null,
            "padding": null,
            "right": null,
            "top": null,
            "visibility": null,
            "width": null
          }
        },
        "711a6fa63c154b2088c0599430307573": {
          "model_module": "@jupyter-widgets/base",
          "model_module_version": "1.2.0",
          "model_name": "LayoutModel",
          "state": {
            "_model_module": "@jupyter-widgets/base",
            "_model_module_version": "1.2.0",
            "_model_name": "LayoutModel",
            "_view_count": null,
            "_view_module": "@jupyter-widgets/base",
            "_view_module_version": "1.2.0",
            "_view_name": "LayoutView",
            "align_content": null,
            "align_items": null,
            "align_self": null,
            "border": null,
            "bottom": null,
            "display": null,
            "flex": null,
            "flex_flow": null,
            "grid_area": null,
            "grid_auto_columns": null,
            "grid_auto_flow": null,
            "grid_auto_rows": null,
            "grid_column": null,
            "grid_gap": null,
            "grid_row": null,
            "grid_template_areas": null,
            "grid_template_columns": null,
            "grid_template_rows": null,
            "height": null,
            "justify_content": null,
            "justify_items": null,
            "left": null,
            "margin": null,
            "max_height": null,
            "max_width": null,
            "min_height": null,
            "min_width": null,
            "object_fit": null,
            "object_position": null,
            "order": null,
            "overflow": null,
            "overflow_x": null,
            "overflow_y": null,
            "padding": null,
            "right": null,
            "top": null,
            "visibility": null,
            "width": null
          }
        },
        "740248ce66ea4ee0bd59e4eaa7ee33ee": {
          "model_module": "@jupyter-widgets/controls",
          "model_module_version": "1.5.0",
          "model_name": "HTMLModel",
          "state": {
            "_dom_classes": [],
            "_model_module": "@jupyter-widgets/controls",
            "_model_module_version": "1.5.0",
            "_model_name": "HTMLModel",
            "_view_count": null,
            "_view_module": "@jupyter-widgets/controls",
            "_view_module_version": "1.5.0",
            "_view_name": "HTMLView",
            "description": "",
            "description_tooltip": null,
            "layout": "IPY_MODEL_f6a8dda631364295928273f4db06a35b",
            "placeholder": "​",
            "style": "IPY_MODEL_14cda6cc5ac240e7a4e4ad603fda61e8",
            "value": " 231/231 [00:00&lt;00:00, 20.2kB/s]"
          }
        },
        "76607198a99d41b383fa5bc992ca6d45": {
          "model_module": "@jupyter-widgets/base",
          "model_module_version": "1.2.0",
          "model_name": "LayoutModel",
          "state": {
            "_model_module": "@jupyter-widgets/base",
            "_model_module_version": "1.2.0",
            "_model_name": "LayoutModel",
            "_view_count": null,
            "_view_module": "@jupyter-widgets/base",
            "_view_module_version": "1.2.0",
            "_view_name": "LayoutView",
            "align_content": null,
            "align_items": null,
            "align_self": null,
            "border": null,
            "bottom": null,
            "display": null,
            "flex": null,
            "flex_flow": null,
            "grid_area": null,
            "grid_auto_columns": null,
            "grid_auto_flow": null,
            "grid_auto_rows": null,
            "grid_column": null,
            "grid_gap": null,
            "grid_row": null,
            "grid_template_areas": null,
            "grid_template_columns": null,
            "grid_template_rows": null,
            "height": null,
            "justify_content": null,
            "justify_items": null,
            "left": null,
            "margin": null,
            "max_height": null,
            "max_width": null,
            "min_height": null,
            "min_width": null,
            "object_fit": null,
            "object_position": null,
            "order": null,
            "overflow": null,
            "overflow_x": null,
            "overflow_y": null,
            "padding": null,
            "right": null,
            "top": null,
            "visibility": null,
            "width": null
          }
        },
        "782b009bf30c4546985cbf6a3fc238df": {
          "model_module": "@jupyter-widgets/controls",
          "model_module_version": "1.5.0",
          "model_name": "FloatProgressModel",
          "state": {
            "_dom_classes": [],
            "_model_module": "@jupyter-widgets/controls",
            "_model_module_version": "1.5.0",
            "_model_name": "FloatProgressModel",
            "_view_count": null,
            "_view_module": "@jupyter-widgets/controls",
            "_view_module_version": "1.5.0",
            "_view_name": "ProgressView",
            "bar_style": "success",
            "description": "",
            "description_tooltip": null,
            "layout": "IPY_MODEL_6c47f36d8816454b9c549064e1062ba4",
            "max": 851388,
            "min": 0,
            "orientation": "horizontal",
            "style": "IPY_MODEL_e2d0295202cb482983897d78150e46ee",
            "value": 851388
          }
        },
        "78b01b56223b45d8b573a12ca3de97e8": {
          "model_module": "@jupyter-widgets/controls",
          "model_module_version": "1.5.0",
          "model_name": "HBoxModel",
          "state": {
            "_dom_classes": [],
            "_model_module": "@jupyter-widgets/controls",
            "_model_module_version": "1.5.0",
            "_model_name": "HBoxModel",
            "_view_count": null,
            "_view_module": "@jupyter-widgets/controls",
            "_view_module_version": "1.5.0",
            "_view_name": "HBoxView",
            "box_style": "",
            "children": [
              "IPY_MODEL_83815b1fd44646009861dbca9d059956",
              "IPY_MODEL_0917fe71318540f39f886c18cf374871",
              "IPY_MODEL_f93abcb1fdf74199b3ec5a64289d7b80"
            ],
            "layout": "IPY_MODEL_0aeafc347074456e82aac34ee9482dc4"
          }
        },
        "78e22d841b81427788d8d34fa0b3d245": {
          "model_module": "@jupyter-widgets/base",
          "model_module_version": "1.2.0",
          "model_name": "LayoutModel",
          "state": {
            "_model_module": "@jupyter-widgets/base",
            "_model_module_version": "1.2.0",
            "_model_name": "LayoutModel",
            "_view_count": null,
            "_view_module": "@jupyter-widgets/base",
            "_view_module_version": "1.2.0",
            "_view_name": "LayoutView",
            "align_content": null,
            "align_items": null,
            "align_self": null,
            "border": null,
            "bottom": null,
            "display": null,
            "flex": null,
            "flex_flow": null,
            "grid_area": null,
            "grid_auto_columns": null,
            "grid_auto_flow": null,
            "grid_auto_rows": null,
            "grid_column": null,
            "grid_gap": null,
            "grid_row": null,
            "grid_template_areas": null,
            "grid_template_columns": null,
            "grid_template_rows": null,
            "height": null,
            "justify_content": null,
            "justify_items": null,
            "left": null,
            "margin": null,
            "max_height": null,
            "max_width": null,
            "min_height": null,
            "min_width": null,
            "object_fit": null,
            "object_position": null,
            "order": null,
            "overflow": null,
            "overflow_x": null,
            "overflow_y": null,
            "padding": null,
            "right": null,
            "top": null,
            "visibility": null,
            "width": null
          }
        },
        "7aa7fea0930b44a6a9631a7900ac700d": {
          "model_module": "@jupyter-widgets/controls",
          "model_module_version": "1.5.0",
          "model_name": "HBoxModel",
          "state": {
            "_dom_classes": [],
            "_model_module": "@jupyter-widgets/controls",
            "_model_module_version": "1.5.0",
            "_model_name": "HBoxModel",
            "_view_count": null,
            "_view_module": "@jupyter-widgets/controls",
            "_view_module_version": "1.5.0",
            "_view_name": "HBoxView",
            "box_style": "",
            "children": [
              "IPY_MODEL_98a318f592f34495a11513dd31174240",
              "IPY_MODEL_a27e69dcc4bf4db5aa5390c1bc4e6831",
              "IPY_MODEL_08ace768119d4a5cad173a064b1c0d86"
            ],
            "layout": "IPY_MODEL_7ce6c09f1d754e8885542f8f7fc7214f"
          }
        },
        "7ce6c09f1d754e8885542f8f7fc7214f": {
          "model_module": "@jupyter-widgets/base",
          "model_module_version": "1.2.0",
          "model_name": "LayoutModel",
          "state": {
            "_model_module": "@jupyter-widgets/base",
            "_model_module_version": "1.2.0",
            "_model_name": "LayoutModel",
            "_view_count": null,
            "_view_module": "@jupyter-widgets/base",
            "_view_module_version": "1.2.0",
            "_view_name": "LayoutView",
            "align_content": null,
            "align_items": null,
            "align_self": null,
            "border": null,
            "bottom": null,
            "display": null,
            "flex": null,
            "flex_flow": null,
            "grid_area": null,
            "grid_auto_columns": null,
            "grid_auto_flow": null,
            "grid_auto_rows": null,
            "grid_column": null,
            "grid_gap": null,
            "grid_row": null,
            "grid_template_areas": null,
            "grid_template_columns": null,
            "grid_template_rows": null,
            "height": null,
            "justify_content": null,
            "justify_items": null,
            "left": null,
            "margin": null,
            "max_height": null,
            "max_width": null,
            "min_height": null,
            "min_width": null,
            "object_fit": null,
            "object_position": null,
            "order": null,
            "overflow": null,
            "overflow_x": null,
            "overflow_y": null,
            "padding": null,
            "right": null,
            "top": null,
            "visibility": null,
            "width": null
          }
        },
        "7f8beb49972e46e4acf6af87e7309f6f": {
          "model_module": "@jupyter-widgets/controls",
          "model_module_version": "1.5.0",
          "model_name": "HTMLModel",
          "state": {
            "_dom_classes": [],
            "_model_module": "@jupyter-widgets/controls",
            "_model_module_version": "1.5.0",
            "_model_name": "HTMLModel",
            "_view_count": null,
            "_view_module": "@jupyter-widgets/controls",
            "_view_module_version": "1.5.0",
            "_view_name": "HTMLView",
            "description": "",
            "description_tooltip": null,
            "layout": "IPY_MODEL_e8c2a13726ca4dcfbb0ded23715e9943",
            "placeholder": "​",
            "style": "IPY_MODEL_66796ff4b8d24a839b269471e16ce4ad",
            "value": "Downloading (…)cial_tokens_map.json: 100%"
          }
        },
        "81c6d89bb9f34a1580d57773b934de88": {
          "model_module": "@jupyter-widgets/controls",
          "model_module_version": "1.5.0",
          "model_name": "HTMLModel",
          "state": {
            "_dom_classes": [],
            "_model_module": "@jupyter-widgets/controls",
            "_model_module_version": "1.5.0",
            "_model_name": "HTMLModel",
            "_view_count": null,
            "_view_module": "@jupyter-widgets/controls",
            "_view_module_version": "1.5.0",
            "_view_name": "HTMLView",
            "description": "",
            "description_tooltip": null,
            "layout": "IPY_MODEL_c2e70d52da14433e92d7005fb9968a45",
            "placeholder": "​",
            "style": "IPY_MODEL_5110f813b6ed4b37868a2f6cf50b80ea",
            "value": " 1.13G/1.13G [00:03&lt;00:00, 310MB/s]"
          }
        },
        "827557ae9f354e03835f1ee6ad04063b": {
          "model_module": "@jupyter-widgets/controls",
          "model_module_version": "1.5.0",
          "model_name": "DescriptionStyleModel",
          "state": {
            "_model_module": "@jupyter-widgets/controls",
            "_model_module_version": "1.5.0",
            "_model_name": "DescriptionStyleModel",
            "_view_count": null,
            "_view_module": "@jupyter-widgets/base",
            "_view_module_version": "1.2.0",
            "_view_name": "StyleView",
            "description_width": ""
          }
        },
        "83815b1fd44646009861dbca9d059956": {
          "model_module": "@jupyter-widgets/controls",
          "model_module_version": "1.5.0",
          "model_name": "HTMLModel",
          "state": {
            "_dom_classes": [],
            "_model_module": "@jupyter-widgets/controls",
            "_model_module_version": "1.5.0",
            "_model_name": "HTMLModel",
            "_view_count": null,
            "_view_module": "@jupyter-widgets/controls",
            "_view_module_version": "1.5.0",
            "_view_name": "HTMLView",
            "description": "",
            "description_tooltip": null,
            "layout": "IPY_MODEL_a08ca4d501a4479e87445793f9782595",
            "placeholder": "​",
            "style": "IPY_MODEL_a8e5597ff4314a6f88d9bd5c8565b2a3",
            "value": "Downloading (…)okenizer_config.json: 100%"
          }
        },
        "877ec5afd62f4e348508215318ac621d": {
          "model_module": "@jupyter-widgets/controls",
          "model_module_version": "1.5.0",
          "model_name": "DescriptionStyleModel",
          "state": {
            "_model_module": "@jupyter-widgets/controls",
            "_model_module_version": "1.5.0",
            "_model_name": "DescriptionStyleModel",
            "_view_count": null,
            "_view_module": "@jupyter-widgets/base",
            "_view_module_version": "1.2.0",
            "_view_name": "StyleView",
            "description_width": ""
          }
        },
        "8b316af8825a499cba20f7fa6dbfacca": {
          "model_module": "@jupyter-widgets/base",
          "model_module_version": "1.2.0",
          "model_name": "LayoutModel",
          "state": {
            "_model_module": "@jupyter-widgets/base",
            "_model_module_version": "1.2.0",
            "_model_name": "LayoutModel",
            "_view_count": null,
            "_view_module": "@jupyter-widgets/base",
            "_view_module_version": "1.2.0",
            "_view_name": "LayoutView",
            "align_content": null,
            "align_items": null,
            "align_self": null,
            "border": null,
            "bottom": null,
            "display": null,
            "flex": null,
            "flex_flow": null,
            "grid_area": null,
            "grid_auto_columns": null,
            "grid_auto_flow": null,
            "grid_auto_rows": null,
            "grid_column": null,
            "grid_gap": null,
            "grid_row": null,
            "grid_template_areas": null,
            "grid_template_columns": null,
            "grid_template_rows": null,
            "height": null,
            "justify_content": null,
            "justify_items": null,
            "left": null,
            "margin": null,
            "max_height": null,
            "max_width": null,
            "min_height": null,
            "min_width": null,
            "object_fit": null,
            "object_position": null,
            "order": null,
            "overflow": null,
            "overflow_x": null,
            "overflow_y": null,
            "padding": null,
            "right": null,
            "top": null,
            "visibility": null,
            "width": null
          }
        },
        "8db9800694004066ba2e84cfe9eee767": {
          "model_module": "@jupyter-widgets/base",
          "model_module_version": "1.2.0",
          "model_name": "LayoutModel",
          "state": {
            "_model_module": "@jupyter-widgets/base",
            "_model_module_version": "1.2.0",
            "_model_name": "LayoutModel",
            "_view_count": null,
            "_view_module": "@jupyter-widgets/base",
            "_view_module_version": "1.2.0",
            "_view_name": "LayoutView",
            "align_content": null,
            "align_items": null,
            "align_self": null,
            "border": null,
            "bottom": null,
            "display": null,
            "flex": null,
            "flex_flow": null,
            "grid_area": null,
            "grid_auto_columns": null,
            "grid_auto_flow": null,
            "grid_auto_rows": null,
            "grid_column": null,
            "grid_gap": null,
            "grid_row": null,
            "grid_template_areas": null,
            "grid_template_columns": null,
            "grid_template_rows": null,
            "height": null,
            "justify_content": null,
            "justify_items": null,
            "left": null,
            "margin": null,
            "max_height": null,
            "max_width": null,
            "min_height": null,
            "min_width": null,
            "object_fit": null,
            "object_position": null,
            "order": null,
            "overflow": null,
            "overflow_x": null,
            "overflow_y": null,
            "padding": null,
            "right": null,
            "top": null,
            "visibility": null,
            "width": null
          }
        },
        "8dd5429e38064cd9825417628c756328": {
          "model_module": "@jupyter-widgets/controls",
          "model_module_version": "1.5.0",
          "model_name": "DescriptionStyleModel",
          "state": {
            "_model_module": "@jupyter-widgets/controls",
            "_model_module_version": "1.5.0",
            "_model_name": "DescriptionStyleModel",
            "_view_count": null,
            "_view_module": "@jupyter-widgets/base",
            "_view_module_version": "1.2.0",
            "_view_name": "StyleView",
            "description_width": ""
          }
        },
        "98a318f592f34495a11513dd31174240": {
          "model_module": "@jupyter-widgets/controls",
          "model_module_version": "1.5.0",
          "model_name": "HTMLModel",
          "state": {
            "_dom_classes": [],
            "_model_module": "@jupyter-widgets/controls",
            "_model_module_version": "1.5.0",
            "_model_name": "HTMLModel",
            "_view_count": null,
            "_view_module": "@jupyter-widgets/controls",
            "_view_module_version": "1.5.0",
            "_view_name": "HTMLView",
            "description": "",
            "description_tooltip": null,
            "layout": "IPY_MODEL_e4c1be93d8904d808102ea2cfd7796d8",
            "placeholder": "​",
            "style": "IPY_MODEL_827557ae9f354e03835f1ee6ad04063b",
            "value": "Downloading (…)/main/tokenizer.json: 100%"
          }
        },
        "99bae10c030b42ab9f46f45e1fe91986": {
          "model_module": "@jupyter-widgets/base",
          "model_module_version": "1.2.0",
          "model_name": "LayoutModel",
          "state": {
            "_model_module": "@jupyter-widgets/base",
            "_model_module_version": "1.2.0",
            "_model_name": "LayoutModel",
            "_view_count": null,
            "_view_module": "@jupyter-widgets/base",
            "_view_module_version": "1.2.0",
            "_view_name": "LayoutView",
            "align_content": null,
            "align_items": null,
            "align_self": null,
            "border": null,
            "bottom": null,
            "display": null,
            "flex": null,
            "flex_flow": null,
            "grid_area": null,
            "grid_auto_columns": null,
            "grid_auto_flow": null,
            "grid_auto_rows": null,
            "grid_column": null,
            "grid_gap": null,
            "grid_row": null,
            "grid_template_areas": null,
            "grid_template_columns": null,
            "grid_template_rows": null,
            "height": null,
            "justify_content": null,
            "justify_items": null,
            "left": null,
            "margin": null,
            "max_height": null,
            "max_width": null,
            "min_height": null,
            "min_width": null,
            "object_fit": null,
            "object_position": null,
            "order": null,
            "overflow": null,
            "overflow_x": null,
            "overflow_y": null,
            "padding": null,
            "right": null,
            "top": null,
            "visibility": null,
            "width": null
          }
        },
        "9d114f7454814808ad80712cbec6802a": {
          "model_module": "@jupyter-widgets/base",
          "model_module_version": "1.2.0",
          "model_name": "LayoutModel",
          "state": {
            "_model_module": "@jupyter-widgets/base",
            "_model_module_version": "1.2.0",
            "_model_name": "LayoutModel",
            "_view_count": null,
            "_view_module": "@jupyter-widgets/base",
            "_view_module_version": "1.2.0",
            "_view_name": "LayoutView",
            "align_content": null,
            "align_items": null,
            "align_self": null,
            "border": null,
            "bottom": null,
            "display": null,
            "flex": null,
            "flex_flow": null,
            "grid_area": null,
            "grid_auto_columns": null,
            "grid_auto_flow": null,
            "grid_auto_rows": null,
            "grid_column": null,
            "grid_gap": null,
            "grid_row": null,
            "grid_template_areas": null,
            "grid_template_columns": null,
            "grid_template_rows": null,
            "height": null,
            "justify_content": null,
            "justify_items": null,
            "left": null,
            "margin": null,
            "max_height": null,
            "max_width": null,
            "min_height": null,
            "min_width": null,
            "object_fit": null,
            "object_position": null,
            "order": null,
            "overflow": null,
            "overflow_x": null,
            "overflow_y": null,
            "padding": null,
            "right": null,
            "top": null,
            "visibility": null,
            "width": null
          }
        },
        "a08ca4d501a4479e87445793f9782595": {
          "model_module": "@jupyter-widgets/base",
          "model_module_version": "1.2.0",
          "model_name": "LayoutModel",
          "state": {
            "_model_module": "@jupyter-widgets/base",
            "_model_module_version": "1.2.0",
            "_model_name": "LayoutModel",
            "_view_count": null,
            "_view_module": "@jupyter-widgets/base",
            "_view_module_version": "1.2.0",
            "_view_name": "LayoutView",
            "align_content": null,
            "align_items": null,
            "align_self": null,
            "border": null,
            "bottom": null,
            "display": null,
            "flex": null,
            "flex_flow": null,
            "grid_area": null,
            "grid_auto_columns": null,
            "grid_auto_flow": null,
            "grid_auto_rows": null,
            "grid_column": null,
            "grid_gap": null,
            "grid_row": null,
            "grid_template_areas": null,
            "grid_template_columns": null,
            "grid_template_rows": null,
            "height": null,
            "justify_content": null,
            "justify_items": null,
            "left": null,
            "margin": null,
            "max_height": null,
            "max_width": null,
            "min_height": null,
            "min_width": null,
            "object_fit": null,
            "object_position": null,
            "order": null,
            "overflow": null,
            "overflow_x": null,
            "overflow_y": null,
            "padding": null,
            "right": null,
            "top": null,
            "visibility": null,
            "width": null
          }
        },
        "a130dfaf71fb43fbbbee867bb419f5d2": {
          "model_module": "@jupyter-widgets/controls",
          "model_module_version": "1.5.0",
          "model_name": "HTMLModel",
          "state": {
            "_dom_classes": [],
            "_model_module": "@jupyter-widgets/controls",
            "_model_module_version": "1.5.0",
            "_model_name": "HTMLModel",
            "_view_count": null,
            "_view_module": "@jupyter-widgets/controls",
            "_view_module_version": "1.5.0",
            "_view_name": "HTMLView",
            "description": "",
            "description_tooltip": null,
            "layout": "IPY_MODEL_99bae10c030b42ab9f46f45e1fe91986",
            "placeholder": "​",
            "style": "IPY_MODEL_c99e1f7f6c3944dab999628f595c3abf",
            "value": "Downloading spiece.model: 100%"
          }
        },
        "a27e69dcc4bf4db5aa5390c1bc4e6831": {
          "model_module": "@jupyter-widgets/controls",
          "model_module_version": "1.5.0",
          "model_name": "FloatProgressModel",
          "state": {
            "_dom_classes": [],
            "_model_module": "@jupyter-widgets/controls",
            "_model_module_version": "1.5.0",
            "_model_name": "FloatProgressModel",
            "_view_count": null,
            "_view_module": "@jupyter-widgets/controls",
            "_view_module_version": "1.5.0",
            "_view_name": "ProgressView",
            "bar_style": "success",
            "description": "",
            "description_tooltip": null,
            "layout": "IPY_MODEL_b80698cdc5a14d008fa79d1ce240690d",
            "max": 3265159,
            "min": 0,
            "orientation": "horizontal",
            "style": "IPY_MODEL_063c522da93f4619ac344b8d9738d421",
            "value": 3265159
          }
        },
        "a47e397965914b1cadb77888b9252205": {
          "model_module": "@jupyter-widgets/controls",
          "model_module_version": "1.5.0",
          "model_name": "HBoxModel",
          "state": {
            "_dom_classes": [],
            "_model_module": "@jupyter-widgets/controls",
            "_model_module_version": "1.5.0",
            "_model_name": "HBoxModel",
            "_view_count": null,
            "_view_module": "@jupyter-widgets/controls",
            "_view_module_version": "1.5.0",
            "_view_name": "HBoxView",
            "box_style": "",
            "children": [
              "IPY_MODEL_7f8beb49972e46e4acf6af87e7309f6f",
              "IPY_MODEL_e22e11a10bce4b34bd6e667d48c29cfc",
              "IPY_MODEL_06fadcd2e5244930813e1add1f3fb7e1"
            ],
            "layout": "IPY_MODEL_ef22db4ce2ec4fb9b56313ebf06870a6"
          }
        },
        "a63cace0e0ea43d2a0bbe3ae0b91abfd": {
          "model_module": "@jupyter-widgets/controls",
          "model_module_version": "1.5.0",
          "model_name": "HBoxModel",
          "state": {
            "_dom_classes": [],
            "_model_module": "@jupyter-widgets/controls",
            "_model_module_version": "1.5.0",
            "_model_name": "HBoxModel",
            "_view_count": null,
            "_view_module": "@jupyter-widgets/controls",
            "_view_module_version": "1.5.0",
            "_view_name": "HBoxView",
            "box_style": "",
            "children": [
              "IPY_MODEL_38657d6bea3c4b14b271b05c6541ad24",
              "IPY_MODEL_e4799051eda24744b8fe31a3dbc6d7f4",
              "IPY_MODEL_017a2c995e8946ba9282442b93e3ae8b"
            ],
            "layout": "IPY_MODEL_d17a1065765a4365b3693f06899e6a53"
          }
        },
        "a8e5597ff4314a6f88d9bd5c8565b2a3": {
          "model_module": "@jupyter-widgets/controls",
          "model_module_version": "1.5.0",
          "model_name": "DescriptionStyleModel",
          "state": {
            "_model_module": "@jupyter-widgets/controls",
            "_model_module_version": "1.5.0",
            "_model_name": "DescriptionStyleModel",
            "_view_count": null,
            "_view_module": "@jupyter-widgets/base",
            "_view_module_version": "1.2.0",
            "_view_name": "StyleView",
            "description_width": ""
          }
        },
        "b2ae13128e614eb99585aef28e2f348c": {
          "model_module": "@jupyter-widgets/base",
          "model_module_version": "1.2.0",
          "model_name": "LayoutModel",
          "state": {
            "_model_module": "@jupyter-widgets/base",
            "_model_module_version": "1.2.0",
            "_model_name": "LayoutModel",
            "_view_count": null,
            "_view_module": "@jupyter-widgets/base",
            "_view_module_version": "1.2.0",
            "_view_name": "LayoutView",
            "align_content": null,
            "align_items": null,
            "align_self": null,
            "border": null,
            "bottom": null,
            "display": null,
            "flex": null,
            "flex_flow": null,
            "grid_area": null,
            "grid_auto_columns": null,
            "grid_auto_flow": null,
            "grid_auto_rows": null,
            "grid_column": null,
            "grid_gap": null,
            "grid_row": null,
            "grid_template_areas": null,
            "grid_template_columns": null,
            "grid_template_rows": null,
            "height": null,
            "justify_content": null,
            "justify_items": null,
            "left": null,
            "margin": null,
            "max_height": null,
            "max_width": null,
            "min_height": null,
            "min_width": null,
            "object_fit": null,
            "object_position": null,
            "order": null,
            "overflow": null,
            "overflow_x": null,
            "overflow_y": null,
            "padding": null,
            "right": null,
            "top": null,
            "visibility": null,
            "width": null
          }
        },
        "b80698cdc5a14d008fa79d1ce240690d": {
          "model_module": "@jupyter-widgets/base",
          "model_module_version": "1.2.0",
          "model_name": "LayoutModel",
          "state": {
            "_model_module": "@jupyter-widgets/base",
            "_model_module_version": "1.2.0",
            "_model_name": "LayoutModel",
            "_view_count": null,
            "_view_module": "@jupyter-widgets/base",
            "_view_module_version": "1.2.0",
            "_view_name": "LayoutView",
            "align_content": null,
            "align_items": null,
            "align_self": null,
            "border": null,
            "bottom": null,
            "display": null,
            "flex": null,
            "flex_flow": null,
            "grid_area": null,
            "grid_auto_columns": null,
            "grid_auto_flow": null,
            "grid_auto_rows": null,
            "grid_column": null,
            "grid_gap": null,
            "grid_row": null,
            "grid_template_areas": null,
            "grid_template_columns": null,
            "grid_template_rows": null,
            "height": null,
            "justify_content": null,
            "justify_items": null,
            "left": null,
            "margin": null,
            "max_height": null,
            "max_width": null,
            "min_height": null,
            "min_width": null,
            "object_fit": null,
            "object_position": null,
            "order": null,
            "overflow": null,
            "overflow_x": null,
            "overflow_y": null,
            "padding": null,
            "right": null,
            "top": null,
            "visibility": null,
            "width": null
          }
        },
        "c26d960a6e0e49ad85b7a814b1775e06": {
          "model_module": "@jupyter-widgets/controls",
          "model_module_version": "1.5.0",
          "model_name": "ProgressStyleModel",
          "state": {
            "_model_module": "@jupyter-widgets/controls",
            "_model_module_version": "1.5.0",
            "_model_name": "ProgressStyleModel",
            "_view_count": null,
            "_view_module": "@jupyter-widgets/base",
            "_view_module_version": "1.2.0",
            "_view_name": "StyleView",
            "bar_color": null,
            "description_width": ""
          }
        },
        "c2e70d52da14433e92d7005fb9968a45": {
          "model_module": "@jupyter-widgets/base",
          "model_module_version": "1.2.0",
          "model_name": "LayoutModel",
          "state": {
            "_model_module": "@jupyter-widgets/base",
            "_model_module_version": "1.2.0",
            "_model_name": "LayoutModel",
            "_view_count": null,
            "_view_module": "@jupyter-widgets/base",
            "_view_module_version": "1.2.0",
            "_view_name": "LayoutView",
            "align_content": null,
            "align_items": null,
            "align_self": null,
            "border": null,
            "bottom": null,
            "display": null,
            "flex": null,
            "flex_flow": null,
            "grid_area": null,
            "grid_auto_columns": null,
            "grid_auto_flow": null,
            "grid_auto_rows": null,
            "grid_column": null,
            "grid_gap": null,
            "grid_row": null,
            "grid_template_areas": null,
            "grid_template_columns": null,
            "grid_template_rows": null,
            "height": null,
            "justify_content": null,
            "justify_items": null,
            "left": null,
            "margin": null,
            "max_height": null,
            "max_width": null,
            "min_height": null,
            "min_width": null,
            "object_fit": null,
            "object_position": null,
            "order": null,
            "overflow": null,
            "overflow_x": null,
            "overflow_y": null,
            "padding": null,
            "right": null,
            "top": null,
            "visibility": null,
            "width": null
          }
        },
        "c2eefc1f04c24ffaa6548c696a2e247d": {
          "model_module": "@jupyter-widgets/base",
          "model_module_version": "1.2.0",
          "model_name": "LayoutModel",
          "state": {
            "_model_module": "@jupyter-widgets/base",
            "_model_module_version": "1.2.0",
            "_model_name": "LayoutModel",
            "_view_count": null,
            "_view_module": "@jupyter-widgets/base",
            "_view_module_version": "1.2.0",
            "_view_name": "LayoutView",
            "align_content": null,
            "align_items": null,
            "align_self": null,
            "border": null,
            "bottom": null,
            "display": null,
            "flex": null,
            "flex_flow": null,
            "grid_area": null,
            "grid_auto_columns": null,
            "grid_auto_flow": null,
            "grid_auto_rows": null,
            "grid_column": null,
            "grid_gap": null,
            "grid_row": null,
            "grid_template_areas": null,
            "grid_template_columns": null,
            "grid_template_rows": null,
            "height": null,
            "justify_content": null,
            "justify_items": null,
            "left": null,
            "margin": null,
            "max_height": null,
            "max_width": null,
            "min_height": null,
            "min_width": null,
            "object_fit": null,
            "object_position": null,
            "order": null,
            "overflow": null,
            "overflow_x": null,
            "overflow_y": null,
            "padding": null,
            "right": null,
            "top": null,
            "visibility": null,
            "width": null
          }
        },
        "c52885258fef4be4b344347af9e381ba": {
          "model_module": "@jupyter-widgets/controls",
          "model_module_version": "1.5.0",
          "model_name": "ProgressStyleModel",
          "state": {
            "_model_module": "@jupyter-widgets/controls",
            "_model_module_version": "1.5.0",
            "_model_name": "ProgressStyleModel",
            "_view_count": null,
            "_view_module": "@jupyter-widgets/base",
            "_view_module_version": "1.2.0",
            "_view_name": "StyleView",
            "bar_color": null,
            "description_width": ""
          }
        },
        "c653d1be4fa34217ad48e73286c3c17f": {
          "model_module": "@jupyter-widgets/base",
          "model_module_version": "1.2.0",
          "model_name": "LayoutModel",
          "state": {
            "_model_module": "@jupyter-widgets/base",
            "_model_module_version": "1.2.0",
            "_model_name": "LayoutModel",
            "_view_count": null,
            "_view_module": "@jupyter-widgets/base",
            "_view_module_version": "1.2.0",
            "_view_name": "LayoutView",
            "align_content": null,
            "align_items": null,
            "align_self": null,
            "border": null,
            "bottom": null,
            "display": null,
            "flex": null,
            "flex_flow": null,
            "grid_area": null,
            "grid_auto_columns": null,
            "grid_auto_flow": null,
            "grid_auto_rows": null,
            "grid_column": null,
            "grid_gap": null,
            "grid_row": null,
            "grid_template_areas": null,
            "grid_template_columns": null,
            "grid_template_rows": null,
            "height": null,
            "justify_content": null,
            "justify_items": null,
            "left": null,
            "margin": null,
            "max_height": null,
            "max_width": null,
            "min_height": null,
            "min_width": null,
            "object_fit": null,
            "object_position": null,
            "order": null,
            "overflow": null,
            "overflow_x": null,
            "overflow_y": null,
            "padding": null,
            "right": null,
            "top": null,
            "visibility": null,
            "width": null
          }
        },
        "c99e1f7f6c3944dab999628f595c3abf": {
          "model_module": "@jupyter-widgets/controls",
          "model_module_version": "1.5.0",
          "model_name": "DescriptionStyleModel",
          "state": {
            "_model_module": "@jupyter-widgets/controls",
            "_model_module_version": "1.5.0",
            "_model_name": "DescriptionStyleModel",
            "_view_count": null,
            "_view_module": "@jupyter-widgets/base",
            "_view_module_version": "1.2.0",
            "_view_name": "StyleView",
            "description_width": ""
          }
        },
        "ca1a74ef8c9744989b01f76a82443556": {
          "model_module": "@jupyter-widgets/controls",
          "model_module_version": "1.5.0",
          "model_name": "FloatProgressModel",
          "state": {
            "_dom_classes": [],
            "_model_module": "@jupyter-widgets/controls",
            "_model_module_version": "1.5.0",
            "_model_name": "FloatProgressModel",
            "_view_count": null,
            "_view_module": "@jupyter-widgets/controls",
            "_view_module_version": "1.5.0",
            "_view_name": "ProgressView",
            "bar_style": "success",
            "description": "",
            "description_tooltip": null,
            "layout": "IPY_MODEL_b2ae13128e614eb99585aef28e2f348c",
            "max": 231,
            "min": 0,
            "orientation": "horizontal",
            "style": "IPY_MODEL_1db77322608948c5be447ec9b102db0a",
            "value": 231
          }
        },
        "d17a1065765a4365b3693f06899e6a53": {
          "model_module": "@jupyter-widgets/base",
          "model_module_version": "1.2.0",
          "model_name": "LayoutModel",
          "state": {
            "_model_module": "@jupyter-widgets/base",
            "_model_module_version": "1.2.0",
            "_model_name": "LayoutModel",
            "_view_count": null,
            "_view_module": "@jupyter-widgets/base",
            "_view_module_version": "1.2.0",
            "_view_name": "LayoutView",
            "align_content": null,
            "align_items": null,
            "align_self": null,
            "border": null,
            "bottom": null,
            "display": null,
            "flex": null,
            "flex_flow": null,
            "grid_area": null,
            "grid_auto_columns": null,
            "grid_auto_flow": null,
            "grid_auto_rows": null,
            "grid_column": null,
            "grid_gap": null,
            "grid_row": null,
            "grid_template_areas": null,
            "grid_template_columns": null,
            "grid_template_rows": null,
            "height": null,
            "justify_content": null,
            "justify_items": null,
            "left": null,
            "margin": null,
            "max_height": null,
            "max_width": null,
            "min_height": null,
            "min_width": null,
            "object_fit": null,
            "object_position": null,
            "order": null,
            "overflow": null,
            "overflow_x": null,
            "overflow_y": null,
            "padding": null,
            "right": null,
            "top": null,
            "visibility": null,
            "width": null
          }
        },
        "d650a3ca565f4b35af8465e827b77fb7": {
          "model_module": "@jupyter-widgets/controls",
          "model_module_version": "1.5.0",
          "model_name": "DescriptionStyleModel",
          "state": {
            "_model_module": "@jupyter-widgets/controls",
            "_model_module_version": "1.5.0",
            "_model_name": "DescriptionStyleModel",
            "_view_count": null,
            "_view_module": "@jupyter-widgets/base",
            "_view_module_version": "1.2.0",
            "_view_name": "StyleView",
            "description_width": ""
          }
        },
        "daeae200f0fa4cc59d7551e7fd1fc937": {
          "model_module": "@jupyter-widgets/controls",
          "model_module_version": "1.5.0",
          "model_name": "HTMLModel",
          "state": {
            "_dom_classes": [],
            "_model_module": "@jupyter-widgets/controls",
            "_model_module_version": "1.5.0",
            "_model_name": "HTMLModel",
            "_view_count": null,
            "_view_module": "@jupyter-widgets/controls",
            "_view_module_version": "1.5.0",
            "_view_name": "HTMLView",
            "description": "",
            "description_tooltip": null,
            "layout": "IPY_MODEL_8b316af8825a499cba20f7fa6dbfacca",
            "placeholder": "​",
            "style": "IPY_MODEL_eaa262047a0448ab860e786113e2899c",
            "value": "Downloading pytorch_model.bin: 100%"
          }
        },
        "db1e82631c5b4bc288d709a9649fc930": {
          "model_module": "@jupyter-widgets/base",
          "model_module_version": "1.2.0",
          "model_name": "LayoutModel",
          "state": {
            "_model_module": "@jupyter-widgets/base",
            "_model_module_version": "1.2.0",
            "_model_name": "LayoutModel",
            "_view_count": null,
            "_view_module": "@jupyter-widgets/base",
            "_view_module_version": "1.2.0",
            "_view_name": "LayoutView",
            "align_content": null,
            "align_items": null,
            "align_self": null,
            "border": null,
            "bottom": null,
            "display": null,
            "flex": null,
            "flex_flow": null,
            "grid_area": null,
            "grid_auto_columns": null,
            "grid_auto_flow": null,
            "grid_auto_rows": null,
            "grid_column": null,
            "grid_gap": null,
            "grid_row": null,
            "grid_template_areas": null,
            "grid_template_columns": null,
            "grid_template_rows": null,
            "height": null,
            "justify_content": null,
            "justify_items": null,
            "left": null,
            "margin": null,
            "max_height": null,
            "max_width": null,
            "min_height": null,
            "min_width": null,
            "object_fit": null,
            "object_position": null,
            "order": null,
            "overflow": null,
            "overflow_x": null,
            "overflow_y": null,
            "padding": null,
            "right": null,
            "top": null,
            "visibility": null,
            "width": null
          }
        },
        "df4842b277574b3e9d227d2926cb6627": {
          "model_module": "@jupyter-widgets/controls",
          "model_module_version": "1.5.0",
          "model_name": "VBoxModel",
          "state": {
            "_dom_classes": [],
            "_model_module": "@jupyter-widgets/controls",
            "_model_module_version": "1.5.0",
            "_model_name": "VBoxModel",
            "_view_count": null,
            "_view_module": "@jupyter-widgets/controls",
            "_view_module_version": "1.5.0",
            "_view_name": "VBoxView",
            "box_style": "",
            "children": [
              "IPY_MODEL_52a106b0fe4546fa88f236753e0127c3",
              "IPY_MODEL_41d15510e1f3422fa92afc3397ecb136"
            ],
            "layout": "IPY_MODEL_c2eefc1f04c24ffaa6548c696a2e247d"
          }
        },
        "df854506380c4618abffe132dee40006": {
          "model_module": "@jupyter-widgets/controls",
          "model_module_version": "1.5.0",
          "model_name": "HTMLModel",
          "state": {
            "_dom_classes": [],
            "_model_module": "@jupyter-widgets/controls",
            "_model_module_version": "1.5.0",
            "_model_name": "HTMLModel",
            "_view_count": null,
            "_view_module": "@jupyter-widgets/controls",
            "_view_module_version": "1.5.0",
            "_view_name": "HTMLView",
            "description": "",
            "description_tooltip": null,
            "layout": "IPY_MODEL_06de766d40614a0392eb434c4d8b9835",
            "placeholder": "​",
            "style": "IPY_MODEL_f7b3ec6463c34aa88953e417b57d716a",
            "value": "Downloading (…)rocessor_config.json: 100%"
          }
        },
        "e22e11a10bce4b34bd6e667d48c29cfc": {
          "model_module": "@jupyter-widgets/controls",
          "model_module_version": "1.5.0",
          "model_name": "FloatProgressModel",
          "state": {
            "_dom_classes": [],
            "_model_module": "@jupyter-widgets/controls",
            "_model_module_version": "1.5.0",
            "_model_name": "FloatProgressModel",
            "_view_count": null,
            "_view_module": "@jupyter-widgets/controls",
            "_view_module_version": "1.5.0",
            "_view_name": "ProgressView",
            "bar_style": "success",
            "description": "",
            "description_tooltip": null,
            "layout": "IPY_MODEL_8db9800694004066ba2e84cfe9eee767",
            "max": 2201,
            "min": 0,
            "orientation": "horizontal",
            "style": "IPY_MODEL_03433d7285ba4e4ebb204dadd8fbfcb2",
            "value": 2201
          }
        },
        "e2d0295202cb482983897d78150e46ee": {
          "model_module": "@jupyter-widgets/controls",
          "model_module_version": "1.5.0",
          "model_name": "ProgressStyleModel",
          "state": {
            "_model_module": "@jupyter-widgets/controls",
            "_model_module_version": "1.5.0",
            "_model_name": "ProgressStyleModel",
            "_view_count": null,
            "_view_module": "@jupyter-widgets/base",
            "_view_module_version": "1.2.0",
            "_view_name": "StyleView",
            "bar_color": null,
            "description_width": ""
          }
        },
        "e4799051eda24744b8fe31a3dbc6d7f4": {
          "model_module": "@jupyter-widgets/controls",
          "model_module_version": "1.5.0",
          "model_name": "FloatProgressModel",
          "state": {
            "_dom_classes": [],
            "_model_module": "@jupyter-widgets/controls",
            "_model_module_version": "1.5.0",
            "_model_name": "FloatProgressModel",
            "_view_count": null,
            "_view_module": "@jupyter-widgets/controls",
            "_view_module_version": "1.5.0",
            "_view_name": "ProgressView",
            "bar_style": "success",
            "description": "",
            "description_tooltip": null,
            "layout": "IPY_MODEL_6dff3d5e39ee4b79b1a514c2c79be38f",
            "max": 4918,
            "min": 0,
            "orientation": "horizontal",
            "style": "IPY_MODEL_33362f2ab0a34e1f9028b65eaa9da9a6",
            "value": 4918
          }
        },
        "e4c1be93d8904d808102ea2cfd7796d8": {
          "model_module": "@jupyter-widgets/base",
          "model_module_version": "1.2.0",
          "model_name": "LayoutModel",
          "state": {
            "_model_module": "@jupyter-widgets/base",
            "_model_module_version": "1.2.0",
            "_model_name": "LayoutModel",
            "_view_count": null,
            "_view_module": "@jupyter-widgets/base",
            "_view_module_version": "1.2.0",
            "_view_name": "LayoutView",
            "align_content": null,
            "align_items": null,
            "align_self": null,
            "border": null,
            "bottom": null,
            "display": null,
            "flex": null,
            "flex_flow": null,
            "grid_area": null,
            "grid_auto_columns": null,
            "grid_auto_flow": null,
            "grid_auto_rows": null,
            "grid_column": null,
            "grid_gap": null,
            "grid_row": null,
            "grid_template_areas": null,
            "grid_template_columns": null,
            "grid_template_rows": null,
            "height": null,
            "justify_content": null,
            "justify_items": null,
            "left": null,
            "margin": null,
            "max_height": null,
            "max_width": null,
            "min_height": null,
            "min_width": null,
            "object_fit": null,
            "object_position": null,
            "order": null,
            "overflow": null,
            "overflow_x": null,
            "overflow_y": null,
            "padding": null,
            "right": null,
            "top": null,
            "visibility": null,
            "width": null
          }
        },
        "e8c2a13726ca4dcfbb0ded23715e9943": {
          "model_module": "@jupyter-widgets/base",
          "model_module_version": "1.2.0",
          "model_name": "LayoutModel",
          "state": {
            "_model_module": "@jupyter-widgets/base",
            "_model_module_version": "1.2.0",
            "_model_name": "LayoutModel",
            "_view_count": null,
            "_view_module": "@jupyter-widgets/base",
            "_view_module_version": "1.2.0",
            "_view_name": "LayoutView",
            "align_content": null,
            "align_items": null,
            "align_self": null,
            "border": null,
            "bottom": null,
            "display": null,
            "flex": null,
            "flex_flow": null,
            "grid_area": null,
            "grid_auto_columns": null,
            "grid_auto_flow": null,
            "grid_auto_rows": null,
            "grid_column": null,
            "grid_gap": null,
            "grid_row": null,
            "grid_template_areas": null,
            "grid_template_columns": null,
            "grid_template_rows": null,
            "height": null,
            "justify_content": null,
            "justify_items": null,
            "left": null,
            "margin": null,
            "max_height": null,
            "max_width": null,
            "min_height": null,
            "min_width": null,
            "object_fit": null,
            "object_position": null,
            "order": null,
            "overflow": null,
            "overflow_x": null,
            "overflow_y": null,
            "padding": null,
            "right": null,
            "top": null,
            "visibility": null,
            "width": null
          }
        },
        "eaa262047a0448ab860e786113e2899c": {
          "model_module": "@jupyter-widgets/controls",
          "model_module_version": "1.5.0",
          "model_name": "DescriptionStyleModel",
          "state": {
            "_model_module": "@jupyter-widgets/controls",
            "_model_module_version": "1.5.0",
            "_model_name": "DescriptionStyleModel",
            "_view_count": null,
            "_view_module": "@jupyter-widgets/base",
            "_view_module_version": "1.2.0",
            "_view_name": "StyleView",
            "description_width": ""
          }
        },
        "ec17bb4f941c4362a8b7ae4f431f2fc5": {
          "model_module": "@jupyter-widgets/controls",
          "model_module_version": "1.5.0",
          "model_name": "HBoxModel",
          "state": {
            "_dom_classes": [],
            "_model_module": "@jupyter-widgets/controls",
            "_model_module_version": "1.5.0",
            "_model_name": "HBoxModel",
            "_view_count": null,
            "_view_module": "@jupyter-widgets/controls",
            "_view_module_version": "1.5.0",
            "_view_name": "HBoxView",
            "box_style": "",
            "children": [
              "IPY_MODEL_daeae200f0fa4cc59d7551e7fd1fc937",
              "IPY_MODEL_5748ef6954c84ed1828fda6199e8be0f",
              "IPY_MODEL_81c6d89bb9f34a1580d57773b934de88"
            ],
            "layout": "IPY_MODEL_09b1cd8fdd4d44cda363d461d6a2ff3f"
          }
        },
        "ef22db4ce2ec4fb9b56313ebf06870a6": {
          "model_module": "@jupyter-widgets/base",
          "model_module_version": "1.2.0",
          "model_name": "LayoutModel",
          "state": {
            "_model_module": "@jupyter-widgets/base",
            "_model_module_version": "1.2.0",
            "_model_name": "LayoutModel",
            "_view_count": null,
            "_view_module": "@jupyter-widgets/base",
            "_view_module_version": "1.2.0",
            "_view_name": "LayoutView",
            "align_content": null,
            "align_items": null,
            "align_self": null,
            "border": null,
            "bottom": null,
            "display": null,
            "flex": null,
            "flex_flow": null,
            "grid_area": null,
            "grid_auto_columns": null,
            "grid_auto_flow": null,
            "grid_auto_rows": null,
            "grid_column": null,
            "grid_gap": null,
            "grid_row": null,
            "grid_template_areas": null,
            "grid_template_columns": null,
            "grid_template_rows": null,
            "height": null,
            "justify_content": null,
            "justify_items": null,
            "left": null,
            "margin": null,
            "max_height": null,
            "max_width": null,
            "min_height": null,
            "min_width": null,
            "object_fit": null,
            "object_position": null,
            "order": null,
            "overflow": null,
            "overflow_x": null,
            "overflow_y": null,
            "padding": null,
            "right": null,
            "top": null,
            "visibility": null,
            "width": null
          }
        },
        "f6a8dda631364295928273f4db06a35b": {
          "model_module": "@jupyter-widgets/base",
          "model_module_version": "1.2.0",
          "model_name": "LayoutModel",
          "state": {
            "_model_module": "@jupyter-widgets/base",
            "_model_module_version": "1.2.0",
            "_model_name": "LayoutModel",
            "_view_count": null,
            "_view_module": "@jupyter-widgets/base",
            "_view_module_version": "1.2.0",
            "_view_name": "LayoutView",
            "align_content": null,
            "align_items": null,
            "align_self": null,
            "border": null,
            "bottom": null,
            "display": null,
            "flex": null,
            "flex_flow": null,
            "grid_area": null,
            "grid_auto_columns": null,
            "grid_auto_flow": null,
            "grid_auto_rows": null,
            "grid_column": null,
            "grid_gap": null,
            "grid_row": null,
            "grid_template_areas": null,
            "grid_template_columns": null,
            "grid_template_rows": null,
            "height": null,
            "justify_content": null,
            "justify_items": null,
            "left": null,
            "margin": null,
            "max_height": null,
            "max_width": null,
            "min_height": null,
            "min_width": null,
            "object_fit": null,
            "object_position": null,
            "order": null,
            "overflow": null,
            "overflow_x": null,
            "overflow_y": null,
            "padding": null,
            "right": null,
            "top": null,
            "visibility": null,
            "width": null
          }
        },
        "f7b3ec6463c34aa88953e417b57d716a": {
          "model_module": "@jupyter-widgets/controls",
          "model_module_version": "1.5.0",
          "model_name": "DescriptionStyleModel",
          "state": {
            "_model_module": "@jupyter-widgets/controls",
            "_model_module_version": "1.5.0",
            "_model_name": "DescriptionStyleModel",
            "_view_count": null,
            "_view_module": "@jupyter-widgets/base",
            "_view_module_version": "1.2.0",
            "_view_name": "StyleView",
            "description_width": ""
          }
        },
        "f93abcb1fdf74199b3ec5a64289d7b80": {
          "model_module": "@jupyter-widgets/controls",
          "model_module_version": "1.5.0",
          "model_name": "HTMLModel",
          "state": {
            "_dom_classes": [],
            "_model_module": "@jupyter-widgets/controls",
            "_model_module_version": "1.5.0",
            "_model_name": "HTMLModel",
            "_view_count": null,
            "_view_module": "@jupyter-widgets/controls",
            "_view_module_version": "1.5.0",
            "_view_name": "HTMLView",
            "description": "",
            "description_tooltip": null,
            "layout": "IPY_MODEL_fa99ce0225a644f389a831ef9ce20585",
            "placeholder": "​",
            "style": "IPY_MODEL_8dd5429e38064cd9825417628c756328",
            "value": " 2.61k/2.61k [00:00&lt;00:00, 232kB/s]"
          }
        },
        "fa99ce0225a644f389a831ef9ce20585": {
          "model_module": "@jupyter-widgets/base",
          "model_module_version": "1.2.0",
          "model_name": "LayoutModel",
          "state": {
            "_model_module": "@jupyter-widgets/base",
            "_model_module_version": "1.2.0",
            "_model_name": "LayoutModel",
            "_view_count": null,
            "_view_module": "@jupyter-widgets/base",
            "_view_module_version": "1.2.0",
            "_view_name": "LayoutView",
            "align_content": null,
            "align_items": null,
            "align_self": null,
            "border": null,
            "bottom": null,
            "display": null,
            "flex": null,
            "flex_flow": null,
            "grid_area": null,
            "grid_auto_columns": null,
            "grid_auto_flow": null,
            "grid_auto_rows": null,
            "grid_column": null,
            "grid_gap": null,
            "grid_row": null,
            "grid_template_areas": null,
            "grid_template_columns": null,
            "grid_template_rows": null,
            "height": null,
            "justify_content": null,
            "justify_items": null,
            "left": null,
            "margin": null,
            "max_height": null,
            "max_width": null,
            "min_height": null,
            "min_width": null,
            "object_fit": null,
            "object_position": null,
            "order": null,
            "overflow": null,
            "overflow_x": null,
            "overflow_y": null,
            "padding": null,
            "right": null,
            "top": null,
            "visibility": null,
            "width": null
          }
        },
        "fd3bff60f0f5455f8abfd2f660b1160d": {
          "model_module": "@jupyter-widgets/base",
          "model_module_version": "1.2.0",
          "model_name": "LayoutModel",
          "state": {
            "_model_module": "@jupyter-widgets/base",
            "_model_module_version": "1.2.0",
            "_model_name": "LayoutModel",
            "_view_count": null,
            "_view_module": "@jupyter-widgets/base",
            "_view_module_version": "1.2.0",
            "_view_name": "LayoutView",
            "align_content": null,
            "align_items": null,
            "align_self": null,
            "border": null,
            "bottom": null,
            "display": null,
            "flex": null,
            "flex_flow": null,
            "grid_area": null,
            "grid_auto_columns": null,
            "grid_auto_flow": null,
            "grid_auto_rows": null,
            "grid_column": null,
            "grid_gap": null,
            "grid_row": null,
            "grid_template_areas": null,
            "grid_template_columns": null,
            "grid_template_rows": null,
            "height": null,
            "justify_content": null,
            "justify_items": null,
            "left": null,
            "margin": null,
            "max_height": null,
            "max_width": null,
            "min_height": null,
            "min_width": null,
            "object_fit": null,
            "object_position": null,
            "order": null,
            "overflow": null,
            "overflow_x": null,
            "overflow_y": null,
            "padding": null,
            "right": null,
            "top": null,
            "visibility": null,
            "width": null
          }
        }
      }
    }
  },
  "nbformat": 4,
  "nbformat_minor": 0
}
