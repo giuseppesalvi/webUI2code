{
  "cells": [
    {
      "cell_type": "markdown",
      "metadata": {
        "id": "xY4KuZUbq83Q"
      },
      "source": [
        "# Finetune Pix2Struct model on WebUI2Code dataset"
      ]
    },
    {
      "cell_type": "markdown",
      "metadata": {
        "id": "jT6iC6BDrB9i"
      },
      "source": [
        "## Setup Envirnoment"
      ]
    },
    {
      "cell_type": "code",
      "execution_count": null,
      "metadata": {
        "colab": {
          "base_uri": "https://localhost:8080/"
        },
        "id": "jc7bhkoMEtq3",
        "outputId": "fdcff62b-4385-47c6-b724-41f526328291"
      },
      "outputs": [
        {
          "name": "stdout",
          "output_type": "stream",
          "text": [
            "Collecting git+https://github.com/huggingface/transformers\n",
            "  Cloning https://github.com/huggingface/transformers to /tmp/pip-req-build-gbjvn4vj\n",
            "  Running command git clone --filter=blob:none --quiet https://github.com/huggingface/transformers /tmp/pip-req-build-gbjvn4vj\n",
            "  Resolved https://github.com/huggingface/transformers to commit 1110b565d62e56105c8e5e4e2848bfbf469f8200\n",
            "  Installing build dependencies ... \u001b[?25l\u001b[?25hdone\n",
            "  Getting requirements to build wheel ... \u001b[?25l\u001b[?25hdone\n",
            "  Preparing metadata (pyproject.toml) ... \u001b[?25l\u001b[?25hdone\n",
            "Requirement already satisfied: filelock in /usr/local/lib/python3.10/dist-packages (from transformers==4.34.0.dev0) (3.12.2)\n",
            "Collecting huggingface-hub<1.0,>=0.15.1 (from transformers==4.34.0.dev0)\n",
            "  Downloading huggingface_hub-0.16.4-py3-none-any.whl (268 kB)\n",
            "\u001b[2K     \u001b[90m━━━━━━━━━━━━━━━━━━━━━━━━━━━━━━━━━━━━━━━\u001b[0m \u001b[32m268.8/268.8 kB\u001b[0m \u001b[31m4.2 MB/s\u001b[0m eta \u001b[36m0:00:00\u001b[0m\n",
            "\u001b[?25hRequirement already satisfied: numpy>=1.17 in /usr/local/lib/python3.10/dist-packages (from transformers==4.34.0.dev0) (1.23.5)\n",
            "Requirement already satisfied: packaging>=20.0 in /usr/local/lib/python3.10/dist-packages (from transformers==4.34.0.dev0) (23.1)\n",
            "Requirement already satisfied: pyyaml>=5.1 in /usr/local/lib/python3.10/dist-packages (from transformers==4.34.0.dev0) (6.0.1)\n",
            "Requirement already satisfied: regex!=2019.12.17 in /usr/local/lib/python3.10/dist-packages (from transformers==4.34.0.dev0) (2023.6.3)\n",
            "Requirement already satisfied: requests in /usr/local/lib/python3.10/dist-packages (from transformers==4.34.0.dev0) (2.31.0)\n",
            "Collecting tokenizers!=0.11.3,<0.14,>=0.11.1 (from transformers==4.34.0.dev0)\n",
            "  Downloading tokenizers-0.13.3-cp310-cp310-manylinux_2_17_x86_64.manylinux2014_x86_64.whl (7.8 MB)\n",
            "\u001b[2K     \u001b[90m━━━━━━━━━━━━━━━━━━━━━━━━━━━━━━━━━━━━━━━━\u001b[0m \u001b[32m7.8/7.8 MB\u001b[0m \u001b[31m100.6 MB/s\u001b[0m eta \u001b[36m0:00:00\u001b[0m\n",
            "\u001b[?25hCollecting safetensors>=0.3.1 (from transformers==4.34.0.dev0)\n",
            "  Downloading safetensors-0.3.3-cp310-cp310-manylinux_2_17_x86_64.manylinux2014_x86_64.whl (1.3 MB)\n",
            "\u001b[2K     \u001b[90m━━━━━━━━━━━━━━━━━━━━━━━━━━━━━━━━━━━━━━━━\u001b[0m \u001b[32m1.3/1.3 MB\u001b[0m \u001b[31m71.6 MB/s\u001b[0m eta \u001b[36m0:00:00\u001b[0m\n",
            "\u001b[?25hRequirement already satisfied: tqdm>=4.27 in /usr/local/lib/python3.10/dist-packages (from transformers==4.34.0.dev0) (4.66.1)\n",
            "Requirement already satisfied: fsspec in /usr/local/lib/python3.10/dist-packages (from huggingface-hub<1.0,>=0.15.1->transformers==4.34.0.dev0) (2023.6.0)\n",
            "Requirement already satisfied: typing-extensions>=3.7.4.3 in /usr/local/lib/python3.10/dist-packages (from huggingface-hub<1.0,>=0.15.1->transformers==4.34.0.dev0) (4.7.1)\n",
            "Requirement already satisfied: charset-normalizer<4,>=2 in /usr/local/lib/python3.10/dist-packages (from requests->transformers==4.34.0.dev0) (3.2.0)\n",
            "Requirement already satisfied: idna<4,>=2.5 in /usr/local/lib/python3.10/dist-packages (from requests->transformers==4.34.0.dev0) (3.4)\n",
            "Requirement already satisfied: urllib3<3,>=1.21.1 in /usr/local/lib/python3.10/dist-packages (from requests->transformers==4.34.0.dev0) (2.0.4)\n",
            "Requirement already satisfied: certifi>=2017.4.17 in /usr/local/lib/python3.10/dist-packages (from requests->transformers==4.34.0.dev0) (2023.7.22)\n",
            "Building wheels for collected packages: transformers\n",
            "  Building wheel for transformers (pyproject.toml) ... \u001b[?25l\u001b[?25hdone\n",
            "  Created wheel for transformers: filename=transformers-4.34.0.dev0-py3-none-any.whl size=7638086 sha256=76e1ec44fa459222aeacfff5eb14c2cd1dff781709b264d53442e6cee487a69c\n",
            "  Stored in directory: /tmp/pip-ephem-wheel-cache-_ev4882e/wheels/c0/14/d6/6c9a5582d2ac191ec0a483be151a4495fe1eb2a6706ca49f1b\n",
            "Successfully built transformers\n",
            "Installing collected packages: tokenizers, safetensors, huggingface-hub, transformers\n",
            "Successfully installed huggingface-hub-0.16.4 safetensors-0.3.3 tokenizers-0.13.3 transformers-4.34.0.dev0\n"
          ]
        }
      ],
      "source": [
        "!pip install --upgrade git+https://github.com/huggingface/transformers"
      ]
    },
    {
      "cell_type": "code",
      "execution_count": null,
      "metadata": {
        "colab": {
          "base_uri": "https://localhost:8080/"
        },
        "id": "901j04acrHxe",
        "outputId": "c8305c52-0ce6-47f9-be8c-9cdc28c6d5b4"
      },
      "outputs": [
        {
          "name": "stdout",
          "output_type": "stream",
          "text": [
            "\u001b[2K     \u001b[90m━━━━━━━━━━━━━━━━━━━━━━━━━━━━━━━━━━━━━━━━\u001b[0m \u001b[32m2.1/2.1 MB\u001b[0m \u001b[31m24.6 MB/s\u001b[0m eta \u001b[36m0:00:00\u001b[0m\n",
            "\u001b[2K     \u001b[90m━━━━━━━━━━━━━━━━━━━━━━━━━━━━━━━━━━━━━━\u001b[0m \u001b[32m188.6/188.6 kB\u001b[0m \u001b[31m23.4 MB/s\u001b[0m eta \u001b[36m0:00:00\u001b[0m\n",
            "\u001b[2K     \u001b[90m━━━━━━━━━━━━━━━━━━━━━━━━━━━━━━━━━━━━━━\u001b[0m \u001b[32m218.8/218.8 kB\u001b[0m \u001b[31m25.2 MB/s\u001b[0m eta \u001b[36m0:00:00\u001b[0m\n",
            "\u001b[?25h  Preparing metadata (setup.py) ... \u001b[?25l\u001b[?25hdone\n",
            "\u001b[2K     \u001b[90m━━━━━━━━━━━━━━━━━━━━━━━━━━━━━━━━━━━━━━━━\u001b[0m \u001b[32m62.7/62.7 kB\u001b[0m \u001b[31m8.3 MB/s\u001b[0m eta \u001b[36m0:00:00\u001b[0m\n",
            "\u001b[?25h  Building wheel for pathtools (setup.py) ... \u001b[?25l\u001b[?25hdone\n"
          ]
        }
      ],
      "source": [
        "!pip install -q wandb"
      ]
    },
    {
      "cell_type": "markdown",
      "metadata": {
        "id": "pGk1Y2ea-3vS"
      },
      "source": [
        "## Import necessary libraries"
      ]
    },
    {
      "cell_type": "code",
      "execution_count": null,
      "metadata": {
        "id": "9qulzbyd-1GC"
      },
      "outputs": [],
      "source": [
        "from google.colab import drive\n",
        "import os\n",
        "import zipfile\n",
        "from torch.utils.data import Dataset, DataLoader\n",
        "from torchvision import transforms\n",
        "from PIL import Image\n",
        "import re\n",
        "from transformers import Pix2StructForConditionalGeneration, AutoProcessor\n",
        "import torch\n",
        "from torch.nn import functional as F\n",
        "from transformers.optimization import Adafactor, get_cosine_schedule_with_warmup\n",
        "from pathlib import Path\n",
        "from nltk import edit_distance\n",
        "import numpy as np\n",
        "import wandb\n",
        "from tqdm import tqdm\n",
        "from nltk.translate.bleu_score import corpus_bleu, sentence_bleu, SmoothingFunction\n",
        "from torch.utils.data import random_split\n",
        "import random\n",
        "import json"
      ]
    },
    {
      "cell_type": "markdown",
      "metadata": {
        "id": "rZ3TJ2yzBAs0"
      },
      "source": [
        "## Define variables and parameters"
      ]
    },
    {
      "cell_type": "code",
      "execution_count": null,
      "metadata": {
        "id": "Rrjr3uhaBDqp"
      },
      "outputs": [],
      "source": [
        "G_DRIVE_FOLDER = '/content/drive/MyDrive/Datasets/'\n",
        "G_DRIVE_FOLDER_CHECKPOINTS = '/content/drive/MyDrive/Checkpoints/'\n",
        "DATASET_NAME = 'webUI2Code'\n",
        "ZIP_NAME = DATASET_NAME + '.zip'\n",
        "\n",
        "DESTINATION_FOLDER= '/content/data/'\n",
        "DATASET_FOLDER = DESTINATION_FOLDER + \"results_good/\" # unzipped name is results_good\n",
        "\n",
        "ZIP_NAME_PREPROCESSED_FILES = \"webUI2Code_preprocessed_files.zip\"\n",
        "TEXT_FILES_FOLDER = DESTINATION_FOLDER + \"preprocessed_files/\"\n",
        "\n",
        "EXPERIMENT_NAME = \"Pix2Struct_WebUI2Code_Complete\"\n",
        "\n",
        "MAX_SENTENCE_LEN = 16384 #4096\n",
        "\n",
        "CHUNK_LENGTH =  1024\n",
        "CONTEXT_OVERLAP_LENGTH = 256\n",
        "\n",
        "MAX_PATCHES = 1024\n",
        "\n",
        "DEBUG = False\n",
        "VERBOSE = True\n",
        "\n",
        "BATCH_SIZE = 4\n",
        "NUM_WARMUP_STEPS = 20000\n",
        "MAX_EPOCHS = 10 # 10 EPOCHS FINETUNING\n",
        "LR = 1e-4\n",
        "CHECK_VAL_EVERY_N_EPOCH = 5\n",
        "GRADIENT_CLIP_VAL = 1.0\n",
        "ACCUMULATE_GRAD_BATCHES = 8 / BATCH_SIZE\n",
        "\n",
        "TRAIN_SET_PERCENTAGE = 0.899\n",
        "VALID_SET_PERCENTAGE = 0.001 # Use around 10 samples for validation\n",
        "# TEST_SET_PERCENTAGE is 1 - TRAIN_SET_PERCENTAGE - VALID_SET_PERCENTAGE # Use 1000 for test\n",
        "\n",
        "RANDOM_SEED = 100\n",
        "\n",
        "# Start from last checkpoint of experiment on SynthBootsrapDataset\n",
        "LOAD_FROM_CHECKPOINT = True\n",
        "LAST_CHECKPOINT_NAME = \"Pix2Struct_SynthBootstrap_10000_Complete_epoch[19].pth\""
      ]
    },
    {
      "cell_type": "code",
      "execution_count": null,
      "metadata": {
        "id": "UVN0Pk4IuVYN"
      },
      "outputs": [],
      "source": [
        "DEVICE = torch.device('cuda' if torch.cuda.is_available() else 'cpu')"
      ]
    },
    {
      "cell_type": "code",
      "execution_count": null,
      "metadata": {
        "colab": {
          "base_uri": "https://localhost:8080/"
        },
        "id": "sKC06Ai1Xhcl",
        "outputId": "413d9e94-78f6-4595-c412-ec622ea382db"
      },
      "outputs": [
        {
          "name": "stdout",
          "output_type": "stream",
          "text": [
            "MAX_N_CHUNKS_PER_SENTENCE 21\n"
          ]
        }
      ],
      "source": [
        "MAX_N_CHUNKS_PER_SENTENCE = 1 + (MAX_SENTENCE_LEN - CHUNK_LENGTH) // (CHUNK_LENGTH - CONTEXT_OVERLAP_LENGTH)\n",
        "print(\"MAX_N_CHUNKS_PER_SENTENCE\", MAX_N_CHUNKS_PER_SENTENCE)"
      ]
    },
    {
      "cell_type": "markdown",
      "metadata": {
        "id": "kflo6stPSGhT"
      },
      "source": [
        "\n",
        "## Load WebUI2Code Dataset "
      ]
    },
    {
      "cell_type": "markdown",
      "metadata": {
        "id": "tq4WHje5RJ9u"
      },
      "source": [
        "### Mount Google Drive"
      ]
    },
    {
      "cell_type": "code",
      "execution_count": null,
      "metadata": {
        "colab": {
          "base_uri": "https://localhost:8080/"
        },
        "id": "uGqbLAK6RJ9x",
        "outputId": "1ec57656-cf38-4983-cd49-d7f8337031d0"
      },
      "outputs": [
        {
          "name": "stdout",
          "output_type": "stream",
          "text": [
            "Mounted at /content/drive\n"
          ]
        }
      ],
      "source": [
        "drive.mount('/content/drive')"
      ]
    },
    {
      "cell_type": "markdown",
      "metadata": {
        "id": "R-TqChHhSYgz"
      },
      "source": [
        "### Import zip file from Google Drive"
      ]
    },
    {
      "cell_type": "code",
      "execution_count": null,
      "metadata": {
        "id": "Ju1BprKCVbvg"
      },
      "outputs": [],
      "source": [
        "os.makedirs(DESTINATION_FOLDER, exist_ok=True)\n",
        "\n",
        "with zipfile.ZipFile(G_DRIVE_FOLDER + ZIP_NAME, \"r\") as zf:\n",
        "    zf.extractall(DESTINATION_FOLDER)"
      ]
    },
    {
      "cell_type": "code",
      "execution_count": null,
      "metadata": {
        "id": "7rcOjFa0zaC6"
      },
      "outputs": [],
      "source": [
        "with zipfile.ZipFile(G_DRIVE_FOLDER + ZIP_NAME_PREPROCESSED_FILES, \"r\") as zf:\n",
        "    zf.extractall(DESTINATION_FOLDER)"
      ]
    },
    {
      "cell_type": "markdown",
      "metadata": {
        "id": "XIyXwQultNqy"
      },
      "source": [
        "## Load Model and Processor"
      ]
    },
    {
      "cell_type": "code",
      "execution_count": null,
      "metadata": {
        "colab": {
          "base_uri": "https://localhost:8080/",
          "height": 241,
          "referenced_widgets": [
            "78ba8bc14b584676accfc32bc2fed5c2",
            "6c7006ac348847539acd07605a7debb7",
            "f1e33778460c46bebac46c9f120ca7f3",
            "d32453fafe2547f687f8b1ee78796432",
            "30052306b7ea4307ac5f098b3e1ca1e4",
            "bc9c92dae4294a25bc73416b9ab22b31",
            "640f6845a73b4d6e8af84db37d61fc2c",
            "1ae5c449f47849988b62c97950151079",
            "4b9b5c3eea7b4d809d00b8221fc2ee28",
            "daca34171bd343e185075221b8d88675",
            "9d99ce29825b47fbbd989c3d28ec302a",
            "a2175f3cd8644f91b3337b9bd99f2f82",
            "c977c3a1798d43a0ab9b4b59fb1c9533",
            "78c1963156bc4676ab23bd03ac55d8ac",
            "bb2a2d38843a4fea92e19bcbe1eaed51",
            "3c0dac43d7fb4f0abc471850729334d2",
            "478c85ba33024b6ca09e36b3abca30be",
            "e57e7ef715424606a779d2a029f65240",
            "d0197a8408bc4095bb22287069c864ad",
            "793e101ee03446149520debae475f204",
            "88bb90c6a06641109e682f678209bc4d",
            "b2576f4043bb4d68abdef096120b2a13",
            "b8f423a43f76445ab9cd93dbf4f9404c",
            "8f0c51d2dee3418f97cb0c00a39aecdb",
            "0b0fab00ea11462a86168ec7442f91e2",
            "d51f4855dbe54a6fa59914632dd0984f",
            "3984fa8d36554572928a8b17368ac07e",
            "636ac61da2e04fcdaf6bcb6dfd765517",
            "f01ec528e0ec4f1a8e52ae13834a3e65",
            "71e7265a6c8e4b76bb6db3f3ad268bcf",
            "8af8647e45804ef4a6e8c26e173ef040",
            "d98991e4d9054c3189f7102f0b6a3389",
            "f9d05ff275a24de08021b687308dcbf0",
            "9263485e2bed4bcdb6ff18d1d4b6b5aa",
            "1405b136fdc54a9890994b0010fe7c4d",
            "a86376ea52254b1eb0f3fc89d9d2726c",
            "dc922600716d48f8a17eb6e2c4d7f2e7",
            "786287bf342c492f96eb5a09cce4f81b",
            "92b21a0877f8474cb97d79cc77ebfc96",
            "17a200c47f0d460bb744574b37760e28",
            "85f8c21add4e4024a9776b7e6cfc84ef",
            "0b6ae2760fab464196955ad1891b4c56",
            "54f9be2f54214196a255948d4e4c0af3",
            "9df2ceb989b54de0bedbf1f1a079d934",
            "8dbd0e351bc84d0ca89e4c34fccda096",
            "c481168124034240a88baced84b2c2bb",
            "d325931be58a42b1b14324b94085d59e",
            "13aeb188fc8740aeb1c46052d8edd28e",
            "7643b8a01c2d4fac961a36a411938880",
            "83b006b02d984321b535f7ef54805d0a",
            "e1703df8d2cc4c5e977c41cdd222cf1b",
            "0060f8ad1c284c1680ca71a2a2559d81",
            "5e39dc25128044a7ab8dd34862d162f8",
            "54a8f0ecd3e042d9bbb8861ba2a46069",
            "c652fea5d09f4e7683c8e93f6938f8ce",
            "dacf62a7f06b4ea783c021646c378d8b",
            "d8ca65cc2bfb46ef95a54dbc6b50dc66",
            "fd9f4dee518d466c908f2228ba975417",
            "0babbdabfd864339afc4a1bc945a9139",
            "18ce18ffa8c040c7aacde41d7ad4b004",
            "9a182ef7acfd4c0ab5ce81a76658bf86",
            "141f0fcc28644d75959a1f6b09b35229",
            "0e226c6638f94a87a58712ec84db8596",
            "c7212059f0ff40beb98a06b442b96958",
            "31c868e05649479b8481b09e217bc4bf",
            "56a54d25b85947ae967d3f858524ff8f",
            "572ade3ff3464f70960d8d4f9771572f",
            "88bd7cc960834b078cde0c34e6e37156",
            "29361b5947884210bc07ad124460b238",
            "82502f65015d44388b0f16062b14137e",
            "21bd7486941d49afbf6da28971f8d722",
            "976851271dfe4ddabe172ff33aa4c5a1",
            "7f8f4bb01af548f9944d213175c137ee",
            "dd8358a3065e453a90819c1c91b931b4",
            "bb6a5988aa6d4e6ebe802f1021d9caf2",
            "64b3391c2f354b8dacbec31c3e3e79db",
            "518e12c4ef484f758725311d4d270dfe"
          ]
        },
        "id": "15QM1CZQtRWr",
        "outputId": "1b423f78-2bcb-4165-ae96-ed25cc43d74e"
      },
      "outputs": [
        {
          "data": {
            "application/vnd.jupyter.widget-view+json": {
              "model_id": "78ba8bc14b584676accfc32bc2fed5c2",
              "version_major": 2,
              "version_minor": 0
            },
            "text/plain": [
              "Downloading (…)rocessor_config.json:   0%|          | 0.00/231 [00:00<?, ?B/s]"
            ]
          },
          "metadata": {},
          "output_type": "display_data"
        },
        {
          "data": {
            "application/vnd.jupyter.widget-view+json": {
              "model_id": "a2175f3cd8644f91b3337b9bd99f2f82",
              "version_major": 2,
              "version_minor": 0
            },
            "text/plain": [
              "Downloading (…)okenizer_config.json:   0%|          | 0.00/2.61k [00:00<?, ?B/s]"
            ]
          },
          "metadata": {},
          "output_type": "display_data"
        },
        {
          "data": {
            "application/vnd.jupyter.widget-view+json": {
              "model_id": "b8f423a43f76445ab9cd93dbf4f9404c",
              "version_major": 2,
              "version_minor": 0
            },
            "text/plain": [
              "Downloading spiece.model:   0%|          | 0.00/851k [00:00<?, ?B/s]"
            ]
          },
          "metadata": {},
          "output_type": "display_data"
        },
        {
          "data": {
            "application/vnd.jupyter.widget-view+json": {
              "model_id": "9263485e2bed4bcdb6ff18d1d4b6b5aa",
              "version_major": 2,
              "version_minor": 0
            },
            "text/plain": [
              "Downloading (…)/main/tokenizer.json:   0%|          | 0.00/3.27M [00:00<?, ?B/s]"
            ]
          },
          "metadata": {},
          "output_type": "display_data"
        },
        {
          "data": {
            "application/vnd.jupyter.widget-view+json": {
              "model_id": "8dbd0e351bc84d0ca89e4c34fccda096",
              "version_major": 2,
              "version_minor": 0
            },
            "text/plain": [
              "Downloading (…)cial_tokens_map.json:   0%|          | 0.00/2.20k [00:00<?, ?B/s]"
            ]
          },
          "metadata": {},
          "output_type": "display_data"
        },
        {
          "data": {
            "application/vnd.jupyter.widget-view+json": {
              "model_id": "dacf62a7f06b4ea783c021646c378d8b",
              "version_major": 2,
              "version_minor": 0
            },
            "text/plain": [
              "Downloading (…)lve/main/config.json:   0%|          | 0.00/4.92k [00:00<?, ?B/s]"
            ]
          },
          "metadata": {},
          "output_type": "display_data"
        },
        {
          "data": {
            "application/vnd.jupyter.widget-view+json": {
              "model_id": "572ade3ff3464f70960d8d4f9771572f",
              "version_major": 2,
              "version_minor": 0
            },
            "text/plain": [
              "Downloading pytorch_model.bin:   0%|          | 0.00/1.13G [00:00<?, ?B/s]"
            ]
          },
          "metadata": {},
          "output_type": "display_data"
        }
      ],
      "source": [
        "repo_id = \"google/pix2struct-base\"\n",
        "\n",
        "processor = AutoProcessor.from_pretrained(repo_id)\n",
        "model = Pix2StructForConditionalGeneration.from_pretrained(repo_id, is_encoder_decoder=True)"
      ]
    },
    {
      "cell_type": "code",
      "execution_count": null,
      "metadata": {
        "colab": {
          "base_uri": "https://localhost:8080/"
        },
        "id": "pbOXdTmPEbGi",
        "outputId": "ea84e485-e654-458d-a31c-163f79ae9ddd"
      },
      "outputs": [
        {
          "name": "stdout",
          "output_type": "stream",
          "text": [
            "Loading model from checkpoint: Pix2Struct_SynthBootstrap_10000_Complete_epoch[19].pth\n"
          ]
        }
      ],
      "source": [
        "if LOAD_FROM_CHECKPOINT:\n",
        "    print(\"Loading model from checkpoint:\", LAST_CHECKPOINT_NAME)\n",
        "    checkpoint = torch.load(G_DRIVE_FOLDER_CHECKPOINTS + LAST_CHECKPOINT_NAME)\n",
        "\n",
        "    # Load only model weights from training on synth bootstrap dataset\n",
        "    model.load_state_dict(checkpoint[\"model_state_dict\"])\n"
      ]
    },
    {
      "cell_type": "markdown",
      "metadata": {
        "id": "8vyJVirgV8VN"
      },
      "source": [
        "## Create Dataset class"
      ]
    },
    {
      "cell_type": "markdown",
      "metadata": {
        "id": "pxls5fsNDAXL"
      },
      "source": [
        "### Find max sentence length and new unknown tokens"
      ]
    },
    {
      "cell_type": "code",
      "execution_count": null,
      "metadata": {
        "colab": {
          "base_uri": "https://localhost:8080/"
        },
        "id": "f1Q8943LSO-b",
        "outputId": "6873bbc4-b97c-4c82-91f5-497cf3d0fd31"
      },
      "outputs": [
        {
          "name": "stdout",
          "output_type": "stream",
          "text": [
            "under 4096 : 2442\n",
            "under 8192 : 4348\n",
            "under 12288 : 6518\n",
            "under 16384 : 8873\n"
          ]
        }
      ],
      "source": [
        "all_paths = []\n",
        "with open(G_DRIVE_FOLDER + 'webUI2Code_list_files_4096.txt', 'r') as file:\n",
        "    all_paths += [line.strip() for line in file]\n",
        "    print(\"under 4096 : \" + str(len(all_paths)))\n",
        "\n",
        "with open(G_DRIVE_FOLDER + 'webUI2Code_list_files_8192.txt', 'r') as file:\n",
        "    all_paths += [line.strip() for line in file]\n",
        "    print(\"under 8192 : \" + str(len(all_paths)))\n",
        "\n",
        "with open(G_DRIVE_FOLDER + 'webUI2Code_list_files_12288.txt', 'r') as file:\n",
        "    all_paths += [line.strip() for line in file]\n",
        "    print(\"under 12288 : \" + str(len(all_paths)))\n",
        "\n",
        "with open(G_DRIVE_FOLDER + 'webUI2Code_list_files_16384.txt', 'r') as file:\n",
        "    all_paths += [line.strip() for line in file]\n",
        "    print(\"under 16384 : \" + str(len(all_paths)))"
      ]
    },
    {
      "cell_type": "code",
      "execution_count": null,
      "metadata": {
        "colab": {
          "base_uri": "https://localhost:8080/"
        },
        "id": "ZqMid-_0CXay",
        "outputId": "66db13ba-626c-47ed-9ad5-0829f1fabe7a"
      },
      "outputs": [
        {
          "data": {
            "text/plain": [
              "8873"
            ]
          },
          "execution_count": 13,
          "metadata": {},
          "output_type": "execute_result"
        }
      ],
      "source": [
        "len(all_paths)"
      ]
    },
    {
      "cell_type": "markdown",
      "metadata": {
        "id": "3J235iNOT5I9"
      },
      "source": [
        "### Filter samples with images which are too big, too small, or with strange aspect ratios"
      ]
    },
    {
      "cell_type": "code",
      "execution_count": null,
      "metadata": {
        "id": "8OapS0LNT4cG"
      },
      "outputs": [],
      "source": [
        "all_paths_filtered = []\n",
        "\n",
        "max_width = 2000\n",
        "max_height = 8000\n",
        "min_width = 250\n",
        "min_height = 250\n",
        "min_ratio = 0.10\n",
        "max_ratio = 2\n",
        "\n",
        "for path in all_paths:\n",
        "    json_path = path.replace(\".txt\", \".json\")\n",
        "    with open(DATASET_FOLDER + json_path, \"r\") as f:\n",
        "        data = json.load(f)\n",
        "        width, height = data[\"screenshot_dimensions\"]\n",
        "        ratio = width / height\n",
        "\n",
        "        if ratio >= min_ratio and ratio <= max_ratio and width <= max_width and width >= min_width and height <= max_height and height >= min_height:\n",
        "            all_paths_filtered.append(path)"
      ]
    },
    {
      "cell_type": "code",
      "execution_count": null,
      "metadata": {
        "colab": {
          "base_uri": "https://localhost:8080/"
        },
        "id": "7W4QoDWuVrkR",
        "outputId": "a4bdd35d-ffea-479d-cee4-68cafb941230"
      },
      "outputs": [
        {
          "data": {
            "text/plain": [
              "7550"
            ]
          },
          "execution_count": 15,
          "metadata": {},
          "output_type": "execute_result"
        }
      ],
      "source": [
        "len(all_paths_filtered)"
      ]
    },
    {
      "cell_type": "code",
      "execution_count": null,
      "metadata": {
        "id": "dm1ZsI1OVu3t"
      },
      "outputs": [],
      "source": [
        "all_paths = all_paths_filtered"
      ]
    },
    {
      "cell_type": "code",
      "execution_count": null,
      "metadata": {
        "id": "kbF0_mn7HRAH"
      },
      "outputs": [],
      "source": [
        "#all_paths = all_paths[:10000]"
      ]
    },
    {
      "cell_type": "code",
      "execution_count": null,
      "metadata": {
        "colab": {
          "base_uri": "https://localhost:8080/"
        },
        "id": "YEhd7D32SZrf",
        "outputId": "cc10e233-87f4-43cc-cbba-b9b190c7d838"
      },
      "outputs": [
        {
          "name": "stderr",
          "output_type": "stream",
          "text": [
            "You are resizing the embedding layer without providing a `pad_to_multiple_of` parameter. This means that the new embedding dimension will be 52689. This might induce some performance reduction as *Tensor Cores* will not be available. For more details about this, or help on choosing the correct value for resizing, refer to this guide: https://docs.nvidia.com/deeplearning/performance/dl-performance-matrix-multiplication/index.html#requirements-tc\n"
          ]
        },
        {
          "name": "stdout",
          "output_type": "stream",
          "text": [
            "Max sentence length = 16381\n",
            "Number of new tokens = 2345\n"
          ]
        }
      ],
      "source": [
        "# Find max length\n",
        "max_length = 0\n",
        "\n",
        "# Read text files and add new tokens to dictionary\n",
        "tokens_to_add = set()\n",
        "for text_file_path in all_paths:\n",
        "    with open(TEXT_FILES_FOLDER + text_file_path, \"r\") as reader:\n",
        "        splitted_text = processor.tokenizer(reader.read()).tokens()\n",
        "        tokens_to_add = tokens_to_add.union(set(splitted_text))\n",
        "\n",
        "        # Check if the current sentence has the largest number of tokens\n",
        "        if len(splitted_text) > max_length:\n",
        "            max_length = len(splitted_text)\n",
        "\n",
        "print(f\"Max sentence length = {max_length}\")\n",
        "\n",
        "newly_added_num = processor.tokenizer.add_tokens(list(tokens_to_add))\n",
        "print(f\"Number of new tokens = {newly_added_num}\")\n",
        "\n",
        "# Resize the model's token embeddings if there are new tokens\n",
        "if newly_added_num > 0:\n",
        "    model.decoder.resize_token_embeddings(len(processor.tokenizer))"
      ]
    },
    {
      "cell_type": "markdown",
      "metadata": {
        "id": "SfKTQ5aMPtfN"
      },
      "source": [
        "### Split files into training - validation - test sets"
      ]
    },
    {
      "cell_type": "code",
      "execution_count": null,
      "metadata": {
        "colab": {
          "base_uri": "https://localhost:8080/"
        },
        "id": "FJJvSGk00jfL",
        "outputId": "8c2a936e-4c20-4831-aba0-565e75629a36"
      },
      "outputs": [
        {
          "name": "stdout",
          "output_type": "stream",
          "text": [
            "TRAIN_SET size = 6787\n",
            "VALID_SET size = 7\n",
            "TEST_SET size = 756\n"
          ]
        }
      ],
      "source": [
        "random.seed(RANDOM_SEED)\n",
        "\n",
        "# Use the same seed, so that parts remain the same\n",
        "random.shuffle(all_paths)\n",
        "\n",
        "train_len = int(TRAIN_SET_PERCENTAGE * len(all_paths))\n",
        "valid_len = int(VALID_SET_PERCENTAGE * len(all_paths))\n",
        "\n",
        "train_paths = all_paths[:train_len]\n",
        "valid_paths = all_paths[train_len:train_len+valid_len]\n",
        "test_paths = all_paths[train_len+valid_len:]\n",
        "\n",
        "print(f\"TRAIN_SET size = {len(train_paths)}\")\n",
        "print(f\"VALID_SET size = {len(valid_paths)}\")\n",
        "print(f\"TEST_SET size = {len(test_paths)}\")"
      ]
    },
    {
      "cell_type": "code",
      "execution_count": null,
      "metadata": {
        "id": "EiExjyGE1cla"
      },
      "outputs": [],
      "source": [
        "class WebUI2CodeTrainingDataset(Dataset):\n",
        "    # This is a modification of the dataset used for validation and testing\n",
        "    # In this one the sentences are already split into chunks, already having\n",
        "    # the context from the previous chunk, empty chunks are discarded\n",
        "    def __init__(self, root_dir, transform, text_files_paths, root_dir_text_files):\n",
        "\n",
        "        self.root_dir = root_dir\n",
        "        self.root_dir_text_files = root_dir_text_files\n",
        "        self.transform = transform\n",
        "        self.text_files_paths = text_files_paths\n",
        "\n",
        "        self.max_patches = MAX_PATCHES\n",
        "        self.max_length = MAX_SENTENCE_LEN\n",
        "        self.ignore_id = -100\n",
        "\n",
        "        self.data = []\n",
        "        self.images_encoding = []\n",
        "\n",
        "        for text_file in tqdm(text_files_paths):\n",
        "            image_file = text_file.replace('.txt', '.png')\n",
        "\n",
        "            # Directly process the text files, and save them in the ram\n",
        "            # Do the same also for images, if there is enough space in memory\n",
        "            text_file_path = os.path.join(root_dir_text_files , text_file)\n",
        "            image_file_path = os.path.join(root_dir , image_file)\n",
        "\n",
        "            # Each data entry has the following structure\n",
        "            # labels, image_encoding_idx, part\n",
        "\n",
        "            # image_encoding_idx points to an entry of images_encoding, which contains attention_mask and flattened_patches for the image\n",
        "            # Since a single image is used for multiple slices of the same text, this approach is used to save memory\n",
        "\n",
        "            # Load image\n",
        "            image = Image.open(image_file_path).convert('RGB')\n",
        "\n",
        "            if DEBUG:\n",
        "                image.show()\n",
        "\n",
        "            if self.transform:\n",
        "                image = self.transform(image)\n",
        "\n",
        "            encoding = processor(images=image, max_patches=self.max_patches, return_tensors=\"pt\")\n",
        "            encoding = {k:v.squeeze() for k,v in encoding.items()}\n",
        "\n",
        "            self.images_encoding.append(encoding)\n",
        "            image_encoding_idx = len(self.images_encoding) - 1\n",
        "\n",
        "            # Load text\n",
        "            with open(text_file_path, 'r') as f:\n",
        "                text = f.read()\n",
        "\n",
        "            if DEBUG:\n",
        "              print(\"text:\")\n",
        "              print(text)\n",
        "\n",
        "            input_ids = processor.tokenizer(\n",
        "                text,\n",
        "                max_length=self.max_length,\n",
        "                padding=\"max_length\",\n",
        "                truncation=True,\n",
        "                return_tensors=\"pt\",\n",
        "            ).input_ids\n",
        "\n",
        "            input_ids_slices = []\n",
        "\n",
        "            start_index = 0\n",
        "            end_index = CHUNK_LENGTH\n",
        "            while end_index <= MAX_SENTENCE_LEN:\n",
        "                input_ids_slices.append(input_ids[:, start_index:end_index])\n",
        "                start_index = end_index - CONTEXT_OVERLAP_LENGTH\n",
        "                end_index = start_index + CHUNK_LENGTH\n",
        "\n",
        "            for part, input_ids_slice in enumerate(input_ids_slices):\n",
        "                labels = input_ids_slice.squeeze().clone()\n",
        "\n",
        "                labels[labels == processor.tokenizer.pad_token_id] = self.ignore_id  # model doesn't need to predict pad token\n",
        "\n",
        "                # Skip slices with only padding tokens, ignore context from the previous chunk\n",
        "                if part != 0 and all(x == self.ignore_id for x in labels[CONTEXT_OVERLAP_LENGTH:]):\n",
        "                    continue\n",
        "\n",
        "                # labels, image_encoding_idx, part\n",
        "                # Save them as int32 to save ram memory\n",
        "                self.data.append((labels.to(torch.int32), image_encoding_idx, part))\n",
        "\n",
        "    def __len__(self):\n",
        "        return len(self.data)\n",
        "\n",
        "    def __getitem__(self, idx):\n",
        "        labels, image_encoding_idx, part = self.data[idx]\n",
        "        encoding = self.images_encoding[image_encoding_idx]\n",
        "        encoding[\"labels\"] = labels.to(torch.int64)\n",
        "\n",
        "        return encoding, part"
      ]
    },
    {
      "cell_type": "code",
      "execution_count": null,
      "metadata": {
        "id": "oMC2-OYYWB75"
      },
      "outputs": [],
      "source": [
        "class WebUI2CodeDataset(Dataset):\n",
        "    def __init__(self, root_dir, transform, text_files_paths, root_dir_text_files):\n",
        "\n",
        "        self.root_dir = root_dir\n",
        "        self.root_dir_text_files = root_dir_text_files\n",
        "        self.transform = transform\n",
        "        self.text_files_paths = text_files_paths\n",
        "\n",
        "        self.max_patches = MAX_PATCHES\n",
        "        self.max_length = MAX_SENTENCE_LEN\n",
        "        self.ignore_id = -100\n",
        "\n",
        "        self.encodings = []\n",
        "\n",
        "        for text_file in tqdm(text_files_paths):\n",
        "            image_file = text_file.replace('.txt', '.png')\n",
        "\n",
        "            # Directly process the text files, and save them in the ram\n",
        "            # Do the same also for images, if there is enough space in memory\n",
        "            text_file_path = os.path.join(root_dir_text_files + text_file)\n",
        "            image_file_path = os.path.join(root_dir + image_file)\n",
        "\n",
        "            # Load image\n",
        "            image = Image.open(image_file_path).convert('RGB')\n",
        "\n",
        "            if DEBUG:\n",
        "                image.show()\n",
        "\n",
        "            if self.transform:\n",
        "                image = self.transform(image)\n",
        "\n",
        "            encoding = processor(images=image, max_patches=self.max_patches, return_tensors=\"pt\")\n",
        "            encoding = {k:v.squeeze() for k,v in encoding.items()}\n",
        "\n",
        "            # Load text\n",
        "            with open(text_file_path, 'r') as f:\n",
        "                text = f.read()\n",
        "\n",
        "            if DEBUG:\n",
        "              print(\"text:\")\n",
        "              print(text)\n",
        "\n",
        "            input_ids = processor.tokenizer(\n",
        "                text,\n",
        "                max_length=self.max_length,\n",
        "                padding=\"max_length\",\n",
        "                truncation=True,\n",
        "                return_tensors=\"pt\",\n",
        "            ).input_ids\n",
        "\n",
        "            labels = input_ids.squeeze().clone()\n",
        "            labels[labels == processor.tokenizer.pad_token_id] = self.ignore_id  # model doesn't need to predict pad token\n",
        "\n",
        "            encoding[\"labels\"] = labels.to(torch.int32)\n",
        "\n",
        "            # For each sample save directly the encoding of both text and image\n",
        "            self.encodings.append(encoding)\n",
        "\n",
        "    def __len__(self):\n",
        "        return len(self.encodings)\n",
        "\n",
        "    def __getitem__(self, idx):\n",
        "        return self.encodings[idx]"
      ]
    },
    {
      "cell_type": "code",
      "execution_count": null,
      "metadata": {
        "colab": {
          "background_save": true,
          "base_uri": "https://localhost:8080/"
        },
        "id": "WulOgKwb1aNh",
        "outputId": "4cc145f2-aaec-4d39-e88d-ba65ac6bc741"
      },
      "outputs": [
        {
          "name": "stderr",
          "output_type": "stream",
          "text": [
            "100%|██████████| 6787/6787 [29:43<00:00,  3.81it/s]\n",
            "100%|██████████| 7/7 [00:01<00:00,  4.18it/s]\n"
          ]
        }
      ],
      "source": [
        "# Transformations for the image\n",
        "transform = transforms.Compose([\n",
        "    transforms.ToTensor(),  # convert PIL Image to PyTorch Tensor\n",
        "    transforms.Normalize(mean=[0.485, 0.456, 0.406], std=[0.229, 0.224, 0.225]),  # normalize for pretrained models\n",
        "])\n",
        "\n",
        "# Instantiate the CustomDataset\n",
        "train_dataset = WebUI2CodeTrainingDataset(DATASET_FOLDER, transform, train_paths, TEXT_FILES_FOLDER)\n",
        "val_dataset = WebUI2CodeDataset(DATASET_FOLDER, transform, valid_paths, TEXT_FILES_FOLDER)\n",
        "\n",
        "# Use DataLoader for batching and shuffling\n",
        "train_dataloader = DataLoader(train_dataset, batch_size=BATCH_SIZE, shuffle=True)\n",
        "val_dataloader = DataLoader(val_dataset, batch_size=10, shuffle=False) # Use 10 as batch for testing since they are lighter"
      ]
    },
    {
      "cell_type": "code",
      "execution_count": null,
      "metadata": {
        "colab": {
          "background_save": true
        },
        "id": "RJbcAvt2eSvb",
        "outputId": "daad6e88-7b82-4fe5-9934-459965116943"
      },
      "outputs": [
        {
          "name": "stdout",
          "output_type": "stream",
          "text": [
            "train_dataloader size = 17771\n",
            "val_dataloader size = 1\n"
          ]
        }
      ],
      "source": [
        "print(f\"train_dataloader size = {len(train_dataloader)}\")\n",
        "print(f\"val_dataloader size = {len(val_dataloader)}\")"
      ]
    },
    {
      "cell_type": "code",
      "execution_count": null,
      "metadata": {
        "colab": {
          "background_save": true
        },
        "id": "PqriagijAJPV"
      },
      "outputs": [],
      "source": [
        "batch = next(iter(train_dataloader))"
      ]
    },
    {
      "cell_type": "code",
      "execution_count": null,
      "metadata": {
        "colab": {
          "background_save": true
        },
        "id": "weky0ZtQALky"
      },
      "outputs": [],
      "source": [
        "encoding, part = batch"
      ]
    },
    {
      "cell_type": "code",
      "execution_count": null,
      "metadata": {
        "colab": {
          "background_save": true
        },
        "id": "2zjLcfjQDQYg",
        "outputId": "894e4f30-b280-4bc4-d706-b92bebaa92c0"
      },
      "outputs": [
        {
          "data": {
            "text/plain": [
              "tensor([[ 2012, 26411,   288,  ...,   512,   512,   780],\n",
              "        [  295,   278,  2738,  ...,   278,  2738,   324],\n",
              "        [19380,   324,  4028,  ...,   277,   290,   285],\n",
              "        [  273,   324,   273,  ...,   274, 13122,   288]])"
            ]
          },
          "execution_count": 26,
          "metadata": {},
          "output_type": "execute_result"
        }
      ],
      "source": [
        "encoding[\"labels\"]"
      ]
    },
    {
      "cell_type": "markdown",
      "metadata": {
        "id": "g7DngCr1FJQJ"
      },
      "source": [
        "## Training"
      ]
    },
    {
      "cell_type": "code",
      "execution_count": null,
      "metadata": {
        "colab": {
          "background_save": true
        },
        "id": "zkCJQz_GEM4W"
      },
      "outputs": [],
      "source": [
        "START_TOKEN_ID = PAD_TOKEN_ID = processor.tokenizer.pad_token_id"
      ]
    },
    {
      "cell_type": "markdown",
      "metadata": {
        "id": "fWSsn0vr1mV2"
      },
      "source": [
        "### Utility functions"
      ]
    },
    {
      "cell_type": "code",
      "execution_count": null,
      "metadata": {
        "colab": {
          "background_save": true
        },
        "id": "mq6Y22hDqn3x"
      },
      "outputs": [],
      "source": [
        "def move_to_device(data):\n",
        "    if isinstance(data, (list,tuple)):\n",
        "        return [move_to_device(x) for x in data]\n",
        "    elif isinstance(data, dict):\n",
        "        return {k: move_to_device(v) for k, v in data.items()}\n",
        "    elif isinstance(data, torch.Tensor):\n",
        "        return data.to(DEVICE)\n",
        "    else:\n",
        "        return data"
      ]
    },
    {
      "cell_type": "code",
      "execution_count": null,
      "metadata": {
        "colab": {
          "background_save": true
        },
        "id": "JRX7UDLE4Nh8"
      },
      "outputs": [],
      "source": [
        "def create_extended_attention_mask_for_decoder_with_context(input_shape, attention_mask, part):\n",
        "    device = attention_mask.device\n",
        "    batch_size, seq_length = input_shape\n",
        "    seq_ids = torch.arange(seq_length, device=device)\n",
        "\n",
        "    causal_mask = seq_ids[None, None, :].repeat(batch_size, seq_length, 1) <= seq_ids[None, :, None]\n",
        "\n",
        "    # Expand part to have the same shape as the relevant slice of causal_mask\n",
        "    part_expanded = part.unsqueeze(-1).unsqueeze(-1).expand(-1, seq_length, CONTEXT_OVERLAP_LENGTH)\n",
        "\n",
        "    # Create a mask with ones where part is not zero\n",
        "    context_mask = (part_expanded != 0).float()\n",
        "\n",
        "    # Apply the context_mask to the corresponding part of causal_mask\n",
        "    causal_mask[:, :, :CONTEXT_OVERLAP_LENGTH] = causal_mask[:, :, :CONTEXT_OVERLAP_LENGTH] * (1 - context_mask) + context_mask\n",
        "\n",
        "    # in case past_key_values are used we need to add a prefix ones mask to the causal mask\n",
        "    causal_mask = causal_mask.to(attention_mask.dtype)\n",
        "\n",
        "    if causal_mask.shape[1] < attention_mask.shape[1]:\n",
        "        print(\"!!should not enter here in my case!!\")\n",
        "        prefix_seq_len = attention_mask.shape[1] - causal_mask.shape[1]\n",
        "        causal_mask = torch.cat(\n",
        "            [\n",
        "                torch.ones((batch_size, seq_length, prefix_seq_len), device=device, dtype=causal_mask.dtype),\n",
        "                causal_mask,\n",
        "            ],\n",
        "            axis=-1,\n",
        "        )\n",
        "\n",
        "    extended_attention_mask = causal_mask[:, :, :] * attention_mask[:, None, :]\n",
        "    return extended_attention_mask\n"
      ]
    },
    {
      "cell_type": "code",
      "execution_count": null,
      "metadata": {
        "colab": {
          "background_save": true
        },
        "id": "8RMB16MR53fK"
      },
      "outputs": [],
      "source": [
        "def get_attention_mask(decoder_input_ids, part):\n",
        "    decoder_attention_mask = (decoder_input_ids.ne(PAD_TOKEN_ID).float())\n",
        "\n",
        "    # always attend on first token\n",
        "    decoder_attention_mask[:, 0] = 1\n",
        "\n",
        "    # Expand part to have the same shape as the relevant slice of decoder_attention_mask\n",
        "    part_expanded = part.unsqueeze(-1).expand(-1, CONTEXT_OVERLAP_LENGTH)\n",
        "\n",
        "    # Create a mask with ones where part is not zero\n",
        "    context_mask = (part_expanded != 0).float()\n",
        "\n",
        "    # Apply the context_mask to the corresponding part of decoder_attention_mask\n",
        "    decoder_attention_mask[:, 0:CONTEXT_OVERLAP_LENGTH] = decoder_attention_mask[:, 0:CONTEXT_OVERLAP_LENGTH] * (1 - context_mask) + context_mask\n",
        "\n",
        "    return decoder_attention_mask"
      ]
    },
    {
      "cell_type": "code",
      "execution_count": null,
      "metadata": {
        "colab": {
          "background_save": true
        },
        "id": "I4EwQ8iP8a9I"
      },
      "outputs": [],
      "source": [
        "def shift_right_modified(input_ids, decoder_starting_token_idx):\n",
        "\n",
        "    # shift inputs to the right\n",
        "    shifted_input_ids = input_ids.new_zeros(input_ids.shape)\n",
        "    shifted_input_ids[..., 1:] = input_ids[..., :-1].clone()\n",
        "    shifted_input_ids[..., 0] = decoder_starting_token_idx\n",
        "\n",
        "    # replace possible -100 values in labels by `pad_token_id`\n",
        "    shifted_input_ids.masked_fill_(shifted_input_ids == -100, PAD_TOKEN_ID)\n",
        "\n",
        "    return shifted_input_ids"
      ]
    },
    {
      "cell_type": "code",
      "execution_count": null,
      "metadata": {
        "colab": {
          "background_save": true
        },
        "id": "Mvsy0HBseyzQ"
      },
      "outputs": [],
      "source": [
        "def get_decoder_input_ids(labels_chunk, start_id):\n",
        "    return shift_right_modified(labels_chunk, start_id)"
      ]
    },
    {
      "cell_type": "code",
      "execution_count": null,
      "metadata": {
        "colab": {
          "background_save": true
        },
        "id": "2LqZyYsWOywQ"
      },
      "outputs": [],
      "source": [
        "def get_decoder_input_ids_and_attention_mask(labels, part):\n",
        "    decoder_input_ids = get_decoder_input_ids(labels, START_TOKEN_ID)\n",
        "    decoder_attention_mask = get_attention_mask(decoder_input_ids, part)\n",
        "    extended_decoder_attention_mask = create_extended_attention_mask_for_decoder_with_context(decoder_input_ids.shape, decoder_attention_mask, part)\n",
        "\n",
        "    return decoder_input_ids, extended_decoder_attention_mask"
      ]
    },
    {
      "cell_type": "markdown",
      "metadata": {
        "id": "TEt-owxM1puj"
      },
      "source": [
        "### Main training function"
      ]
    },
    {
      "cell_type": "code",
      "execution_count": null,
      "metadata": {
        "colab": {
          "background_save": true
        },
        "id": "1j0_8Yk6Gk4-"
      },
      "outputs": [],
      "source": [
        "def train_model(config, processor, model, train_dataloader, val_dataloader):\n",
        "    # Extract configuration values\n",
        "    lr = config.get(\"lr\")\n",
        "    max_epochs = config.get(\"max_epochs\")\n",
        "    num_warmup_steps = config.get(\"num_warmup_steps\")\n",
        "\n",
        "    model.to(DEVICE)\n",
        "\n",
        "    optimizer = Adafactor(model.parameters(), scale_parameter=False, relative_step=False, lr=lr, weight_decay=1e-05)\n",
        "\n",
        "    # Use total steps (i.e., max_epochs * length_of_train_data)\n",
        "    total_steps = max_epochs * len(train_dataloader)\n",
        "    scheduler = get_cosine_schedule_with_warmup(optimizer,\n",
        "                                                num_warmup_steps=num_warmup_steps,\n",
        "                                                num_training_steps=total_steps)\n",
        "\n",
        "    global_step = 0  # to keep track of total steps\n",
        "    epoch_start = 0\n",
        "\n",
        "    wandb.init(project=\"Pix2Struct\", name=\"run-\" + EXPERIMENT_NAME, config=config)\n",
        "\n",
        "    #epoch_last = epoch_start + max_epochs - 1\n",
        "    epoch_last = max_epochs - 1\n",
        "    #for epoch in range(epoch_start, epoch_start + max_epochs):\n",
        "    for epoch in range(epoch_start, max_epochs):\n",
        "        global_step, moving_avg_loss = training_loop(epoch, train_dataloader, model, config, optimizer, scheduler, global_step, epoch_last)\n",
        "\n",
        "        if config.get(\"verbose\", False):\n",
        "            print(f\"Moving Avg Loss: {moving_avg_loss:.3f}\")\n",
        "\n",
        "        wandb.log({\"moving_avg_loss\": moving_avg_loss, **{f'lr_{i}': param_group['lr'] for i, param_group in enumerate(optimizer.param_groups)}})\n",
        "\n",
        "        # Save the model after each validation step\n",
        "        save_checkpoint(model, optimizer, scheduler, epoch, global_step, wandb.run.id, EXPERIMENT_NAME, G_DRIVE_FOLDER_CHECKPOINTS)\n",
        "\n",
        "        #if epoch == 0 + epoch_start or epoch == epoch_last or (epoch + 1) % config.get(\"check_val_every_n_epoch\") == 0:\n",
        "        if epoch == epoch_last or (epoch + 1) % config.get(\"check_val_every_n_epoch\") == 0:\n",
        "            avg_bleu_score = testing_loop(val_dataloader, model, processor, config, f\"Epoch {epoch}/{epoch_last} - valid loop\")\n",
        "\n",
        "            if config.get(\"verbose\", False):\n",
        "                print(f\" Avg Bleu Score: {avg_bleu_score:.2f}\")\n",
        "\n",
        "            wandb.log({\"bleu\": avg_bleu_score})\n",
        "\n",
        "    wandb.finish()"
      ]
    },
    {
      "cell_type": "code",
      "execution_count": null,
      "metadata": {
        "colab": {
          "background_save": true
        },
        "id": "wg6u7CI38kMU"
      },
      "outputs": [],
      "source": [
        "def training_loop(epoch, train_dataloader, model, config, optimizer, scheduler, global_step, epoch_last):\n",
        "    model.train()\n",
        "    train_loop = tqdm(enumerate(train_dataloader), total=len(train_dataloader), desc=f\"Epoch {epoch}/{epoch_last} - train loop\")\n",
        "\n",
        "    # Extract configuration values\n",
        "    accumulate_grad_batches = config.get('accumulate_grad_batches', 1)\n",
        "    gradient_clip_val = config.get(\"gradient_clip_val\")\n",
        "\n",
        "    moving_avg_loss = 0\n",
        "    alpha = 0.1 # Smoothing factor\n",
        "\n",
        "    for step, batch in train_loop:\n",
        "        encoding, part = map(move_to_device, batch)\n",
        "        labels, flattened_patches, attention_mask = encoding[\"labels\"], encoding[\"flattened_patches\"], encoding[\"attention_mask\"]\n",
        "\n",
        "        decoder_input_ids, decoder_attention_mask = get_decoder_input_ids_and_attention_mask(labels, part)\n",
        "        outputs = model(labels=labels, flattened_patches=flattened_patches, attention_mask=attention_mask, decoder_input_ids=decoder_input_ids, decoder_attention_mask=decoder_attention_mask)\n",
        "        loss = outputs.loss\n",
        "        loss.backward()\n",
        "\n",
        "        if global_step % accumulate_grad_batches == 0 or step == len(train_dataloader) - 1:\n",
        "            if gradient_clip_val:\n",
        "                torch.nn.utils.clip_grad_norm_(model.parameters(), gradient_clip_val)\n",
        "            optimizer.step()\n",
        "            optimizer.zero_grad()\n",
        "\n",
        "        # Update the progress bar\n",
        "        train_loop.set_postfix({'loss': loss.item()}, refresh=True)\n",
        "\n",
        "        scheduler.step()\n",
        "        global_step += 1\n",
        "\n",
        "        # Update the moving average loss\n",
        "        moving_avg_loss = loss.item() if moving_avg_loss == 0 else alpha * loss.item() + (1 - alpha) * moving_avg_loss\n",
        "\n",
        "        # Log Loss after each step\n",
        "        wandb.log({\"loss\": loss.item()})\n",
        "\n",
        "    return global_step, moving_avg_loss"
      ]
    },
    {
      "cell_type": "code",
      "execution_count": null,
      "metadata": {
        "colab": {
          "background_save": true
        },
        "id": "RXfc_whn-qJW"
      },
      "outputs": [],
      "source": [
        "def testing_loop(testing_dataloader, model, processor, config, description):\n",
        "    model.eval()\n",
        "    bleu_scores = []\n",
        "\n",
        "    with torch.no_grad():\n",
        "        test_loop = tqdm(enumerate(testing_dataloader), total=len(testing_dataloader), desc=description)\n",
        "        for i, batch in test_loop:\n",
        "            encoding = move_to_device(batch)\n",
        "            labels, flattened_patches, attention_mask = encoding[\"labels\"], encoding[\"flattened_patches\"], encoding[\"attention_mask\"]\n",
        "\n",
        "            # Initialize total_outputs with zeros\n",
        "            total_outputs = None\n",
        "            context_from_last = None\n",
        "\n",
        "            # Initialize a mask to track which sentences are finished\n",
        "            finished_sentences_mask = torch.zeros(flattened_patches.size(0), dtype=torch.bool, device=flattened_patches.device)\n",
        "\n",
        "            for iteration in range(MAX_N_CHUNKS_PER_SENTENCE):\n",
        "\n",
        "                generate_args = {\n",
        "                    \"flattened_patches\": flattened_patches[~finished_sentences_mask],\n",
        "                    \"attention_mask\": attention_mask[~finished_sentences_mask],\n",
        "                    \"max_new_tokens\": CHUNK_LENGTH - (CONTEXT_OVERLAP_LENGTH if iteration else 0),\n",
        "                }\n",
        "\n",
        "                if iteration and context_from_last is not None:\n",
        "                    generate_args[\"decoder_input_ids\"] = context_from_last[~finished_sentences_mask]\n",
        "\n",
        "                outputs = model.generate(**generate_args)\n",
        "\n",
        "                # Remove context overlap only from the second iteration onwards\n",
        "                new_chunks = outputs if iteration == 0 else outputs[:, CONTEXT_OVERLAP_LENGTH:]\n",
        "\n",
        "                if iteration == 0:\n",
        "                    total_outputs = new_chunks\n",
        "                else:\n",
        "                    # Update total_outputs by concatenating new chunks\n",
        "                    new_chunks_with_padding_chunks = torch.full((flattened_patches.shape[0], new_chunks.shape[1]), PAD_TOKEN_ID, dtype=new_chunks.dtype, device=new_chunks.device)\n",
        "                    new_chunks_with_padding_chunks[~finished_sentences_mask] = new_chunks\n",
        "                    total_outputs = torch.cat((total_outputs, new_chunks_with_padding_chunks), dim=1)\n",
        "\n",
        "                # Update the finished_sentences_mask\n",
        "                finished_sentences_mask[~finished_sentences_mask] |= (outputs == processor.tokenizer.eos_token_id).any(dim=1)\n",
        "\n",
        "                # If all sentences are finished, exit the loop\n",
        "                if finished_sentences_mask.all():\n",
        "                    break\n",
        "\n",
        "                if outputs.shape[1] < CHUNK_LENGTH:\n",
        "                    print(\"ERROR: !! should have already exited because all sentences reached the end!!\")\n",
        "\n",
        "                # -1 because it will put in front a START_TOKEN automatically\n",
        "                context_from_last = total_outputs[:, -(CONTEXT_OVERLAP_LENGTH-1):]\n",
        "\n",
        "            predictions = processor.tokenizer.batch_decode(total_outputs, skip_special_tokens=True)\n",
        "\n",
        "            labels[labels == -100] = 0\n",
        "            answers = processor.tokenizer.batch_decode(labels, skip_special_tokens=True)\n",
        "\n",
        "            bleu_scores += [corpus_bleu([[answer]], [pred], smoothing_function=SmoothingFunction().method4) for pred, answer in zip(predictions, answers)]\n",
        "\n",
        "            avg_bleu_score = np.mean(bleu_scores)\n",
        "            test_loop.set_postfix(bleu_score=avg_bleu_score)\n",
        "\n",
        "            if config.get(\"verbose\", False):\n",
        "                for pred, answer, bleu_score in zip(predictions, answers, bleu_scores):\n",
        "                    tqdm.write(f\"\\nPrediction: {pred}\\n    Answer: {answer}\\n      Bleu: {bleu_score:.2f}\")\n",
        "\n",
        "\n",
        "    return avg_bleu_score\n"
      ]
    },
    {
      "cell_type": "code",
      "execution_count": null,
      "metadata": {
        "colab": {
          "background_save": true
        },
        "id": "GhiWvFFFA8n4"
      },
      "outputs": [],
      "source": [
        "def save_checkpoint(model, optimizer, scheduler, epoch, global_step, wandb_run_id, experiment_name, folder_path):\n",
        "    checkpoint = {\n",
        "        \"model_state_dict\": model.state_dict(),\n",
        "        \"optimizer_state_dict\": optimizer.state_dict(),\n",
        "        \"scheduler_state_dict\": scheduler.state_dict(),\n",
        "        \"epoch\": epoch,\n",
        "        \"global_step\": global_step,\n",
        "        'wandb_run_id': wandb_run_id\n",
        "    }\n",
        "    model_name = f\"{experiment_name}_epoch[{epoch}].pth\"\n",
        "    torch.save(checkpoint, folder_path + model_name)\n"
      ]
    },
    {
      "cell_type": "code",
      "execution_count": null,
      "metadata": {
        "colab": {
          "background_save": true
        },
        "id": "F6Lme6odJJK8"
      },
      "outputs": [],
      "source": [
        "config = {\n",
        "          \"batch_size\": BATCH_SIZE,\n",
        "          \"num_warmup_steps\": NUM_WARMUP_STEPS,\n",
        "          \"max_epochs\": MAX_EPOCHS,\n",
        "          \"lr\": LR,\n",
        "          \"check_val_every_n_epoch\": CHECK_VAL_EVERY_N_EPOCH,\n",
        "          \"gradient_clip_val\": GRADIENT_CLIP_VAL,\n",
        "          \"accumulate_grad_batches\": ACCUMULATE_GRAD_BATCHES,\n",
        "          \"verbose\": VERBOSE,\n",
        "}"
      ]
    },
    {
      "cell_type": "code",
      "execution_count": null,
      "metadata": {
        "colab": {
          "background_save": true
        },
        "id": "QxemWk5nEfZL"
      },
      "outputs": [],
      "source": [
        "def validate_config(config):\n",
        "    # Check required keys\n",
        "    required_keys = [\n",
        "        \"batch_size\",\n",
        "        \"num_warmup_steps\",\n",
        "        \"max_epochs\",\n",
        "        \"lr\",\n",
        "        \"check_val_every_n_epoch\",\n",
        "        \"gradient_clip_val\",\n",
        "        \"accumulate_grad_batches\",\n",
        "        \"verbose\"\n",
        "    ]\n",
        "    for key in required_keys:\n",
        "        if key not in config:\n",
        "            raise ValueError(f\"Key '{key}' must be present in the configuration.\")\n",
        "\n",
        "    # Check that values are in expected ranges\n",
        "    if config[\"batch_size\"] <= 0:\n",
        "        raise ValueError(\"batch_size must be positive.\")\n",
        "    if config[\"num_warmup_steps\"] < 0:\n",
        "        raise ValueError(\"num_warmup_steps must be non-negative.\")\n",
        "    if config[\"max_epochs\"] <= 0:\n",
        "        raise ValueError(\"max_epochs must be positive.\")\n",
        "    if config[\"lr\"] <= 0:\n",
        "        raise ValueError(\"Learning rate must be positive.\")\n",
        "    if config[\"check_val_every_n_epoch\"] <= 0:\n",
        "        raise ValueError(\"check_val_every_n_epoch must be positive.\")\n",
        "    if config[\"gradient_clip_val\"] < 0:\n",
        "        raise ValueError(\"gradient_clip_val must be non-negative.\")\n",
        "    if config[\"accumulate_grad_batches\"] <= 0:\n",
        "        raise ValueError(\"accumulate_grad_batches must be positive.\")\n",
        "    if not isinstance(config[\"verbose\"], bool):\n",
        "        raise ValueError(\"verbose must be a boolean value.\")\n"
      ]
    },
    {
      "cell_type": "code",
      "execution_count": null,
      "metadata": {
        "colab": {
          "background_save": true
        },
        "id": "knzzKEtwEruj",
        "outputId": "f8508562-d83d-46bc-9632-8e6f943787a1"
      },
      "outputs": [
        {
          "name": "stdout",
          "output_type": "stream",
          "text": [
            "{'batch_size': 4, 'num_warmup_steps': 20000, 'max_epochs': 10, 'lr': 0.0001, 'check_val_every_n_epoch': 5, 'gradient_clip_val': 1.0, 'accumulate_grad_batches': 2.0, 'verbose': True}\n"
          ]
        }
      ],
      "source": [
        "validate_config(config)\n",
        "print(config)"
      ]
    },
    {
      "cell_type": "code",
      "execution_count": null,
      "metadata": {
        "colab": {
          "base_uri": "https://localhost:8080/",
          "height": 1000
        },
        "id": "EPfNUdrEoci8",
        "outputId": "9d96bef3-dfc3-4ab1-9f24-2e9cb31ea929"
      },
      "outputs": [
        {
          "data": {
            "application/javascript": "\n        window._wandbApiKey = new Promise((resolve, reject) => {\n            function loadScript(url) {\n            return new Promise(function(resolve, reject) {\n                let newScript = document.createElement(\"script\");\n                newScript.onerror = reject;\n                newScript.onload = resolve;\n                document.body.appendChild(newScript);\n                newScript.src = url;\n            });\n            }\n            loadScript(\"https://cdn.jsdelivr.net/npm/postmate/build/postmate.min.js\").then(() => {\n            const iframe = document.createElement('iframe')\n            iframe.style.cssText = \"width:0;height:0;border:none\"\n            document.body.appendChild(iframe)\n            const handshake = new Postmate({\n                container: iframe,\n                url: 'https://wandb.ai/authorize'\n            });\n            const timeout = setTimeout(() => reject(\"Couldn't auto authenticate\"), 5000)\n            handshake.then(function(child) {\n                child.on('authorize', data => {\n                    clearTimeout(timeout)\n                    resolve(data)\n                });\n            });\n            })\n        });\n    ",
            "text/plain": [
              "<IPython.core.display.Javascript object>"
            ]
          },
          "metadata": {},
          "output_type": "display_data"
        },
        {
          "name": "stderr",
          "output_type": "stream",
          "text": [
            "\u001b[34m\u001b[1mwandb\u001b[0m: Logging into wandb.ai. (Learn how to deploy a W&B server locally: https://wandb.me/wandb-server)\n",
            "\u001b[34m\u001b[1mwandb\u001b[0m: You can find your API key in your browser here: https://wandb.ai/authorize\n",
            "wandb: Paste an API key from your profile and hit enter, or press ctrl+c to quit:\u001b[34m\u001b[1mwandb\u001b[0m: Appending key for api.wandb.ai to your netrc file: /root/.netrc\n"
          ]
        },
        {
          "data": {
            "text/html": [
              "Tracking run with wandb version 0.15.9"
            ],
            "text/plain": [
              "<IPython.core.display.HTML object>"
            ]
          },
          "metadata": {},
          "output_type": "display_data"
        },
        {
          "data": {
            "text/html": [
              "Run data is saved locally in <code>/content/wandb/run-20230905_170648-8n4uta0v</code>"
            ],
            "text/plain": [
              "<IPython.core.display.HTML object>"
            ]
          },
          "metadata": {},
          "output_type": "display_data"
        },
        {
          "data": {
            "text/html": [
              "Syncing run <strong><a href='https://wandb.ai/team-gs/Pix2Struct/runs/8n4uta0v' target=\"_blank\">run-Pix2Struct_WebUI2Code_Complete</a></strong> to <a href='https://wandb.ai/team-gs/Pix2Struct' target=\"_blank\">Weights & Biases</a> (<a href='https://wandb.me/run' target=\"_blank\">docs</a>)<br/>"
            ],
            "text/plain": [
              "<IPython.core.display.HTML object>"
            ]
          },
          "metadata": {},
          "output_type": "display_data"
        },
        {
          "data": {
            "text/html": [
              " View project at <a href='https://wandb.ai/team-gs/Pix2Struct' target=\"_blank\">https://wandb.ai/team-gs/Pix2Struct</a>"
            ],
            "text/plain": [
              "<IPython.core.display.HTML object>"
            ]
          },
          "metadata": {},
          "output_type": "display_data"
        },
        {
          "data": {
            "text/html": [
              " View run at <a href='https://wandb.ai/team-gs/Pix2Struct/runs/8n4uta0v' target=\"_blank\">https://wandb.ai/team-gs/Pix2Struct/runs/8n4uta0v</a>"
            ],
            "text/plain": [
              "<IPython.core.display.HTML object>"
            ]
          },
          "metadata": {},
          "output_type": "display_data"
        },
        {
          "name": "stderr",
          "output_type": "stream",
          "text": [
            "Epoch 0/9 - train loop: 100%|██████████| 17771/17771 [3:49:45<00:00,  1.29it/s, loss=0.746]\n"
          ]
        },
        {
          "name": "stdout",
          "output_type": "stream",
          "text": [
            "Moving Avg Loss: 1.017\n"
          ]
        },
        {
          "name": "stderr",
          "output_type": "stream",
          "text": [
            "Epoch 1/9 - train loop: 100%|██████████| 17771/17771 [3:49:35<00:00,  1.29it/s, loss=1.02]\n"
          ]
        },
        {
          "name": "stdout",
          "output_type": "stream",
          "text": [
            "Moving Avg Loss: 0.835\n"
          ]
        },
        {
          "name": "stderr",
          "output_type": "stream",
          "text": [
            "Epoch 2/9 - train loop: 100%|██████████| 17771/17771 [3:49:37<00:00,  1.29it/s, loss=1.85]\n"
          ]
        },
        {
          "name": "stdout",
          "output_type": "stream",
          "text": [
            "Moving Avg Loss: 0.867\n"
          ]
        },
        {
          "name": "stderr",
          "output_type": "stream",
          "text": [
            "Epoch 3/9 - train loop: 100%|██████████| 17771/17771 [3:49:44<00:00,  1.29it/s, loss=0.616]\n"
          ]
        },
        {
          "name": "stdout",
          "output_type": "stream",
          "text": [
            "Moving Avg Loss: 0.733\n"
          ]
        },
        {
          "name": "stderr",
          "output_type": "stream",
          "text": [
            "Epoch 4/9 - train loop: 100%|██████████| 17771/17771 [3:50:01<00:00,  1.29it/s, loss=1.07]\n"
          ]
        },
        {
          "name": "stdout",
          "output_type": "stream",
          "text": [
            "Moving Avg Loss: 0.843\n"
          ]
        },
        {
          "name": "stderr",
          "output_type": "stream",
          "text": [
            "Epoch 4/9 - valid loop: 100%|██████████| 1/1 [35:58<00:00, 2158.15s/it, bleu_score=0.0593]\n"
          ]
        },
        {
          "name": "stdout",
          "output_type": "stream",
          "text": [
            "\n",
            "Prediction: <html lang=\"en\"> <head> <title>The World of Science</title> <link href=\"https://example.com\" rel=\"canonical\"/> <link href=\"ref.placeholder\" rel=\"dns-prefetch\"/> <link href=\"ref.placeholder\" rel=\"dns-prefetch\"/> <link href=\"ref.placeholder\" rel=\"dns-prefetch\"/> <link href=\"ref.placeholder\" rel=\"dns-prefetch\"/> <link href=\"ref.placeholder\" rel=\"dns-prefetch\"/> <link href=\"ref.placeholder\" rel=\"dns-prefetch\"/> <link href=\"ref.placeholder\" rel=\"dns-prefetch\"/> <link href=\"ref.placeholder\" rel=\"dns-prefetch\"/> <link href=\"ref.placeholder\" rel=\"dns-prefetch\"/> <link href=\"ref.placeholder\" rel=\"dns-prefetch\"/> <link href=\"ref.placeholder\" rel=\"dns-prefetch\"/> <link href=\"ref.placeholder\" rel=\"dns-prefetch\"/> <link href=\"ref.placeholder\" rel=\"dns-prefetch\"/> <link href=\"ref.placeholder\" rel=\"dns-prefetch\"/> <link href=\"ref.placeholder\" rel=\"dns-prefetch\"/> <link href=\"ref.placeholder\" rel=\"dns-prefetch\"/> <link href=\"ref.placeholder\" rel=\"dns-prefetch\"/> <link href=\"ref.placeholder\" rel=\"dns-prefetch\"/> <link href=\"ref.placeholder\" rel=\"dns-prefetch\"/> <link href=\"ref.placeholder\" rel=\"dns-prefetch\"/> <link href=\"ref.placeholder\" rel=\"dns-prefetch\"/> <link href=\"ref.placeholder\" rel=\"dns-prefetch\"/> <link href=\"ref.placeholder\" rel=\"dns-prefetch\"/> <link href=\"ref.placeholder\" rel=\"dns-prefetch\"/> <link href=\"ref.placeholder\" rel=\"dns-prefetch\"/> <link href=\"ref.placeholder\" rel=\"dns-prefetch\"/> <link href=\"ref.placeholder\" rel=\"dns-prefetch\"/> <link href=\"ref.placeholder\" rel=\"dns-prefetch\"/> <link href=\"ref.placeholder\" rel=\"dns-prefetch\"/> <link href=\"ref.placeholder\" rel=\"dns-prefetch\"/> <link href=\"ref.placeholder\" rel=\"dns-prefetch\"/> <link href=\"ref.placeholder\" rel=\"dns-prefetch\"/> <link href=\"ref.placeholder\" rel=\"dns-prefetch\"/> <link href=\"ref.placeholder\" rel=\"dns-prefetch\"/> <link href=\"ref.placeholder\" rel=\"dns-prefetch\"/> <link href=\"ref.placeholder\" rel=\"dns-prefetch\"/> <link href=\"ref.placeholder\" rel=\"dns-prefetch\"/> <link href=\"ref.placeholder\" rel=\"dns-prefetch\"/> <link href=\"ref.placeholder\" rel=\"dns-prefetch\"/> <link href=\"ref.placeholder\" rel=\"dns-prefetch\"/> <link href=\"ref.placeholder\" rel=\"dns-prefetch\"/> <link href=\"ref.placeholder\" rel=\"dns-prefetch\"/> <link href=\"ref.placeholder\" rel=\"dns-prefetch\"/> <link href=\"ref.placeholder\" rel=\"dns-prefetch\"/> <link href=\"ref.placeholder\" rel=\"dns-prefetch\"/> <link href=\"ref.placeholder\" rel=\"dns-prefetch\"/> <link href=\"ref.placeholder\" rel=\"dns-prefetch\"/> <link href=\"ref.placeholder\" rel=\"dns-prefetch\"/> <link href=\"ref.placeholder\" rel=\"dns-prefetch\"/> <link href=\"ref.placeholder\" rel=\"dns-prefetch\"/> <link href=\"ref.placeholder\" rel=\"dns-prefetch\"/> <link href=\"ref.placeholder\" rel=\"dns-prefetch\"/> <link href=\"ref.placeholder\" rel=\"dns-prefetch\"/> <link href=\"ref.placeholder\" rel=\"dns-prefetch\"/> <link href=\"ref.placeholder\" rel=\"dns-prefetch\"/> <link href=\"ref.placeholder\" rel=\"dns-prefetch\"/> <link href=\"ref.placeholder\" rel=\"dns-prefetch\"/> <link href=\"ref.placeholder\" rel=\"dns-prefetch\"/> <link href=\"ref.placeholder\" rel=\"dns-prefetch\"/> <link href=\"ref.placeholder\" rel=\"dns-prefetch\"/> <link href=\"ref.placeholder\" rel=\"dns-prefetch\"/> <link href=\"ref.placeholder\" rel=\"dns-prefetch\"/> <link href=\"ref.placeholder\" rel=\"dns-prefetch\"/> <link href=\"ref.placeholder\" rel=\"dns-prefetch\"/> <link href=\"ref.placeholder\" rel=\"dns-prefetch\"/> <link href=\"ref.placeholder\" rel=\"dns-prefetch\"/> <link href=\"ref.placeholder\" rel=\"dns-prefetch\"/> <link href=\"ref.placeholder\" rel=\"dns-prefetch\"/> <link href=\"ref.placeholder\" rel=\"dns-prefetch\"/> <link href=\"ref.placeholder\" rel=\"dns-prefetch\"/> <link href=\"ref.placeholder\" rel=\"dns-prefetch\"/> <link href=\"ref.placeholder\" rel=\"dns-prefetch\"/> <link href=\"ref.placeholder\" rel=\"dns-prefetch\"/> <link href=\"ref.placeholder\" rel=\"dns-prefetch\"/> <link href=\"ref.placeholder\" rel=\"dns-prefetch\"/> <link href=\"ref.placeholder\" rel=\"dns-prefetch\"/> <link href=\"ref.placeholder\" rel=\"dns-prefetch\"/> <link href=\"ref.placeholder\" rel=\"dns-prefetch\"/> <link href=\"ref.placeholder\" rel=\"dns-prefetch\"/> <link href=\"ref.placeholder\" rel=\"dns-prefetch\"/> <link href=\"ref.placeholder\" rel=\"dns-prefetch\"/> <link href=\"ref.placeholder\" rel=\"dns-prefetch\"/> <link href=\"ref.placeholder\" rel=\"dns-prefetch\"/> <link href=\"ref.placeholder\" rel=\"dns-prefetch\"/> <link href=\"ref.placeholder\" rel=\"dns-prefetch\"/> <link href=\"ref.placeholder\" rel=\"dns-prefetch\"/> <link href=\"ref.placeholder\" rel=\"dns-prefetch\"/> <link href=\"ref.placeholder\" rel=\"dns-prefetch\"/> <link href=\"ref.placeholder\" rel=\"dns-prefetch\"/> <link href=\"ref.placeholder\" rel=\"dns-prefetch\"/> <link href=\"ref.placeholder\" rel=\"dns-prefetch\"/> <link href=\"ref.placeholder\" rel=\"dns-prefetch\"/> <link href=\"ref.placeholder\" rel=\"dns-prefetch\"/> <link href=\"ref.placeholder\" rel=\"dns-prefetch\"/> <link href=\"ref.placeholder\" rel=\"dns-prefetch\"/> <link href=\"ref.placeholder\" rel=\"dns-prefetch\"/> <link href=\"ref.placeholder\" rel=\"dns-prefetch\"/> <link href=\"ref.placeholder\" rel=\"dns-prefetch\"/> <link href=\"ref.placeholder\" rel=\"dns-prefetch\"/> <link href=\"ref.placeholder\" rel=\"dns-prefetch\"/> <link href=\"ref.placeholder\" rel=\"dns-prefetch\"/> <link href=\"ref.placeholder\" rel=\"dns-prefetch\"/> <link href=\"ref.placeholder\" rel=\"dns-prefetch\"/> <link href=\"ref.placeholder\" rel=\"dns-prefetch\"/> <link href=\"ref.placeholder\" rel=\"dns-prefetch\"/> <link href=\"ref.placeholder\" rel=\"dns-prefetch\"/> <link href=\"ref.placeholder\" rel=\"dns-prefetch\"/> <link href=\"ref.placeholder\" rel=\"dns-prefetch\"/> <link href=\"ref.placeholder\" rel=\"dns-prefetch\"/> <link href=\"ref.placeholder\" rel=\"dns-prefetch\"/> <link href=\"ref.placeholder\" rel=\"dns-prefetch\"/> <link href=\"ref.placeholder\" rel=\"dns-prefetch\"/> <link href=\"ref.placeholder\" rel=\"dns-prefetch\"/> <link href=\"ref.placeholder\" rel=\"dns-prefetch\"/> <link href=\"ref.placeholder\" rel=\"dns-prefetch\"/> <link href=\"ref.placeholder\" rel=\"dns-prefetch\"/> <link href=\"ref.placeholder\" rel=\"dns-prefetch\"/> <link href=\"ref.placeholder\" rel=\"dns-prefetch\"/> <link href=\"ref.placeholder\" rel=\"dns-prefetch\"/> <link href=\"ref.placeholder\" rel=\"dns-prefetch\"/> <link href=\"ref.placeholder\" rel=\"dns-prefetch\"/> <link href=\"ref.placeholder\" rel=\"dns-prefetch\"/> <link href=\"ref.placeholder\" rel=\"dns-prefetch\"/> <link href=\"ref.placeholder\" rel=\"dns-prefetch\"/> <link href=\"ref.placeholder\" rel=\"dns-prefetch\"/> <link href=\"ref.placeholder\" rel=\"dns-prefetch\"/> <link href=\"ref.placeholder\" rel=\"dns-prefetch\"/> <link href=\"ref.placeholder\" rel=\"dns-prefetch\"/> <link href=\"ref.placeholder\" rel=\"dns-prefetch\"/> <link href=\"ref.placeholder\" rel=\"dns-prefetch\"/> <link href=\"ref.placeholder\" rel=\"dns-prefetch\"/> <link href=\"ref.placeholder\" rel=\"dns-prefetch\"/> <link href=\"ref.placeholder\" rel=\"dns-prefetch\"/> <link href=\"ref.placeholder\" rel=\"dns-prefetch\"/> <link href=\"ref.placeholder\" rel=\"dns-prefetch\"/> <link href=\"ref.placeholder\" rel=\"dns-prefetch\"/> <link href=\"ref.placeholder\" rel=\"dns-prefetch\"/> <link href=\"ref.placeholder\" rel=\"dns-prefetch\"/> <link href=\"ref.placeholder\" rel=\"dns-prefetch\"/> <link href=\"ref.placeholder\" rel=\"dns-prefetch\"/> <link href=\"ref.placeholder\" rel=\"dns-prefetch\"/> <link href=\"ref.placeholder\" rel=\"dns-prefetch\"/> <link href=\"ref.placeholder\" rel=\"dns-prefetch\"/> <link href=\"ref.placeholder\" rel=\"dns-prefetch\"/> <link href=\"ref.placeholder\" rel=\"dns-prefetch\"/> <link href=\"ref.placeholder\" rel=\"dns-prefetch\"/> <link href=\"ref.placeholder\" rel=\"dns-prefetch\"/> <link href=\"ref.placeholder\" rel=\"dns-prefetch\"/> <link href=\"ref.placeholder\" rel=\"dns-prefetch\"/> <link href=\"ref.placeholder\" rel=\"dns-prefetch\"/> <link href=\"ref.placeholder\" rel=\"dns-prefetch\"/> <link href=\"ref.placeholder\" rel=\"dns-prefetch\"/> <link href=\"ref.placeholder\" rel=\"dns-prefetch\"/> <link href=\"ref.placeholder\" rel=\"dns-prefetch\"/> <link href=\"ref.placeholder\" rel=\"dns-prefetch\"/> <link href=\"ref.placeholder\" rel=\"dns-prefetch\"/> <link href=\"ref.placeholder\" rel=\"dns-prefetch\"/> <link href=\"ref.placeholder\" rel=\"dns-prefetch\"/> <link href=\"ref.placeholder\" rel=\"dns-prefetch\"/> <link href=\"ref.placeholder\" rel=\"dns-prefetch\"/> <link href=\"ref.placeholder\" rel=\"dns-prefetch\"/> <link href=\"ref.placeholder\" rel=\"dns-prefetch\"/> <link href=\"ref.placeholder\" rel=\"dns-prefetch\"/> <link href=\"ref.placeholder\" rel=\"dns-prefetch\"/> <link href=\"ref.placeholder\" rel=\"dns-prefetch\"/> <link href=\"ref.placeholder\" rel=\"dns-prefetch\"/> <link href=\"ref.placeholder\" rel=\"dns-prefetch\"/> <link href=\"ref.placeholder\" rel=\"dns-prefetch\"/> <link href=\"ref.placeholder\" rel=\"dns-prefetch\"/> <link href=\"ref.placeholder\" rel=\"dns-prefetch\"/> <link href=\"ref.placeholder\" rel=\"dns-prefetch\"/> <link href=\"ref.placeholder\" rel=\"dns-prefetch\"/> <link href=\"ref.placeholder\" rel=\"dns-prefetch\"/> <link href=\"ref.placeholder\" rel=\"dns-prefetch\"/> <link href=\"ref.placeholder\" rel=\"dns-prefetch\"/> <link href=\"ref.placeholder\" rel=\"dns-prefetch\"/> <link href=\"ref.placeholder\" rel=\"dns-prefetch\"/> <link href=\"ref.placeholder\" rel=\"dns-prefetch\"/> <link href=\"ref.placeholder\" rel=\"dns-prefetch\"/> <link href=\"ref.placeholder\" rel=\"dns-prefetch\"/> <link href=\"ref.placeholder\" rel=\"dns-prefetch\"/> <link href=\"ref.placeholder\" rel=\"dns-prefetch\"/> <link href=\"ref.placeholder\" rel=\"dns-prefetch\"/> <link href=\"ref.placeholder\" rel=\"dns-prefetch\"/> <link href=\"ref.placeholder\" rel=\"dns-prefetch\"/> <link href=\"ref.placeholder\" rel=\"dns-prefetch\"/> <link href=\"ref.placeholder\" rel=\"dns-prefetch\"/> <link href=\"ref.placeholder\" rel=\"dns-prefetch\"/> <link href=\"ref.placeholder\" rel=\"dns-prefetch\"/> <link href=\"ref.placeholder\" rel=\"dns-prefetch\"/> <link href=\"ref.placeholder\" rel=\"dns-prefetch\"/> <link href=\"ref.placeholder\" rel=\"dns-prefetch\"/> <link href=\"ref.placeholder\" rel=\"dns-prefetch\"/> <link href=\"ref.placeholder\" rel=\"dns-prefetch\"/> <link href=\"ref.placeholder\" rel=\"dns-prefetch\"/> <link href=\"ref.placeholder\" rel=\"dns-prefetch\"/> <link href=\"ref.placeholder\" rel=\"dns-prefetch\"/> <link href=\"ref.placeholder\" rel=\"dns-prefetch\"/> <link href=\"ref.placeholder\" rel=\"dns-prefetch\"/> <link href=\"ref.placeholder\" rel=\"dns-prefetch\"/> <link href=\"ref.placeholder\" rel=\"dns-prefetch\"/> <link href=\"ref.placeholder\" rel=\"dns-prefetch\"/> <link href=\"ref.placeholder\" rel=\"dns-prefetch\"/> <link href=\"ref.placeholder\" rel=\"dns-prefetch\"/> <link href=\"ref.placeholder\" rel=\"dns-prefetch\"/> <link href=\"ref.placeholder\" rel=\"dns-prefetch\"/> <link href=\"ref.placeholder\" rel=\"dns-prefetch\"/> <link href=\"ref.placeholder\" rel=\"dns-prefetch\"/> <link href=\"ref.placeholder\" rel=\"dns-prefetch\"/> <link href=\"ref.placeholder\" rel=\"dns-prefetch\"/> <link href=\"ref.placeholder\" rel=\"dns-prefetch\"/> <link href=\"ref.placeholder\" rel=\"dns-prefetch\"/> <link href=\"ref.placeholder\" rel=\"dns-prefetch\"/> <link href=\"ref.placeholder\" rel=\"dns-prefetch\"/> <link href=\"ref.placeholder\" rel=\"dns-prefetch\"/> <link href=\"ref.placeholder\" rel=\"dns-prefetch\"/> <link href=\"ref.placeholder\" rel=\"dns-prefetch\"/> <link href=\"ref.placeholder\" rel=\"dns-prefetch\"/> <link href=\"ref.placeholder\" rel=\"dns-prefetch\"/> <link href=\"ref.placeholder\" rel=\"dns-prefetch\"/> <link href=\"ref.placeholder\" rel=\"dns-prefetch\"/> <link href=\"ref.placeholder\" rel=\"dns-prefetch\"/> <link href=\"ref.placeholder\" rel=\"dns-prefetch\"/> <link href=\"ref.placeholder\" rel=\"dns-prefetch\"/> <link href=\"ref.placeholder\" rel=\"dns-prefetch\"/> <link href=\"ref.placeholder\" rel=\"dns-prefetch\"/> <link href=\"ref.placeholder\" rel=\"dns-prefetch\"/> <link href=\"ref.placeholder\" rel=\"dns-prefetch\"/> <link href=\"ref.placeholder\" rel=\"dns-prefetch\"/> <link href=\"ref.placeholder\" rel=\"dns-prefetch\"/> <link href=\"ref.placeholder\" rel=\"dns-prefetch\"/> <link href=\"ref.placeholder\" rel=\"dns-prefetch\"/> <link href=\"ref.placeholder\" rel=\"dns-prefetch\"/> <link href=\"ref.placeholder\" rel=\"dns-prefetch\"/> <link href=\"ref.placeholder\" rel=\"dns-prefetch\"/> <link href=\"ref.placeholder\" rel=\"dns-prefetch\"/> <link href=\"ref.placeholder\" rel=\"dns-prefetch\"/> <link href=\"ref.placeholder\" rel=\"dns-prefetch\"/> <link href=\"ref.placeholder\" rel=\"dns-prefetch\"/> <link href=\"ref.placeholder\" rel=\"dns-prefetch\"/> <link href=\"ref.placeholder\" rel=\"dns-prefetch\"/> <link href=\"ref.placeholder\" rel=\"dns-prefetch\"/> <link href=\"ref.placeholder\" rel=\"dns-prefetch\"/> <link href=\"ref.placeholder\" rel=\"dns-prefetch\"/> <link href=\"ref.placeholder\" rel=\"dns-prefetch\"/> <link href=\"ref.placeholder\" rel=\"dns-prefetch\"/> <link href=\"ref.placeholder\" rel=\"dns-prefetch\"/> <link href=\"ref.placeholder\" rel=\"dns-prefetch\"/> <link href=\"ref.placeholder\" rel=\"dns-prefetch\"/> <link href=\"ref.placeholder\" rel=\"dns-prefetch\"/> <link href=\"ref.placeholder\" rel=\"dns-prefetch\"/> <link href=\"ref.placeholder\" rel=\"dns-prefetch\"/> <link href=\"ref.placeholder\" rel=\"dns-prefetch\"/> <link href=\"ref.placeholder\" rel=\"dns-prefetch\"/> <link href=\"ref.placeholder\" rel=\"dns-prefetch\"/> <link href=\"ref.placeholder\" rel=\"dns-prefetch\"/> <link href=\"ref.placeholder\" rel=\"dns-prefetch\"/> <link href=\"ref.placeholder\" rel=\"dns-prefetch\"/> <link href=\"ref.placeholder\" rel=\"dns-prefetch\"/> <link href=\"ref.placeholder\" rel=\"dns-prefetch\"/> <link href=\"ref.placeholder\" rel=\"dns-prefetch\"/> <link href=\"ref.placeholder\" rel=\"dns-prefetch\"/> <link href=\"ref.placeholder\" rel=\"dns-prefetch\"/> <link href=\"ref.placeholder\" rel=\"dns-prefetch\"/> <link href=\"ref.placeholder\" rel=\"dns-prefetch\"/> <link href=\"ref.placeholder\" rel=\"dns-prefetch\"/> <link href=\"ref.placeholder\" rel=\"dns-prefetch\"/> <link href=\"ref.placeholder\" rel=\"dns-prefetch\"/> <link href=\"ref.placeholder\" rel=\"dns-prefetch\"/> <link href=\"ref.placeholder\" rel=\"dns-prefetch\"/> <link href=\"ref.placeholder\" rel=\"dns-prefetch\"/> <link href=\"ref.placeholder\" rel=\"dns-prefetch\"/> <link href=\"ref.placeholder\" rel=\"dns-prefetch\"/> <link href=\"ref.placeholder\" rel=\"dns-prefetch\"/> <link href=\"ref.placeholder\" rel=\"dns-prefetch\"/> <link href=\"ref.placeholder\" rel=\"dns-prefetch\"/> <link href=\"ref.placeholder\" rel=\"dns-prefetch\"/> <link href=\"ref.placeholder\" rel=\"dns-prefetch\"/> <link href=\"ref.placeholder\" rel=\"dns-prefetch\"/> <link href=\"ref.placeholder\" rel=\"dns-prefetch\"/> <link href=\"ref.placeholder\" rel=\"dns-prefetch\"/> <link href=\"ref.placeholder\" rel=\"dns-prefetch\"/> <link href=\"ref.placeholder\" rel=\"dns-prefetch\"/> <link href=\"ref.placeholder\" rel=\"dns-prefetch\"/> <link href=\"ref.placeholder\" rel=\"dns-prefetch\"/> <link href=\"ref.placeholder\" rel=\"dns-prefetch\"/> <link href=\"ref.placeholder\" rel=\"dns-prefetch\"/> <link href=\"ref.placeholder\" rel=\"dns-prefetch\"/> <link href=\"ref.placeholder\" rel=\"dns-prefetch\"/> <link href=\"ref.placeholder\" rel=\"dns-prefetch\"/> <link href=\"ref.placeholder\" rel=\"dns-prefetch\"/> <link href=\"ref.placeholder\" rel=\"dns-prefetch\"/> <link href=\"ref.placeholder\" rel=\"dns-prefetch\"/> <link href=\"ref.placeholder\" rel=\"dns-prefetch\"/> <link href=\"ref.placeholder\" rel=\"dns-prefetch\"/> <link href=\"ref.placeholder\" rel=\"dns-prefetch\"/> <link href=\"ref.placeholder\" rel=\"dns-prefetch\"/> <link href=\"ref.placeholder\" rel=\"dns-prefetch\"/> <link href=\"ref.placeholder\" rel=\"dns-prefetch\"/> <link href=\"ref.placeholder\" rel=\"dns-prefetch\"/> <link href=\"ref.placeholder\" rel=\"dns-prefetch\"/> <link href=\"ref.placeholder\" rel=\"dns-prefetch\"/> <link href=\"ref.placeholder\" rel=\"dns-prefetch\"/> <link href=\"ref.placeholder\" rel=\"dns-prefetch\"/> <link href=\"ref.placeholder\" rel=\"dns-prefetch\"/> <link href=\"ref.placeholder\" rel=\"dns-prefetch\"/> <link href=\"ref.placeholder\" rel=\"dns-prefetch\"/> <link href=\"ref.placeholder\" rel=\"dns-prefetch\"/> <link href=\"ref.placeholder\" rel=\"dns-prefetch\"/> <link href=\"ref.placeholder\" rel=\"dns-prefetch\"/> <link href=\"ref.placeholder\" rel=\"dns-prefetch\"/> <link href=\"ref.placeholder\" rel=\"dns-prefetch\"/> <link href=\"ref.placeholder\" rel=\"dns-prefetch\"/> <link href=\"ref.placeholder\" rel=\"dns-prefetch\"/> <link href=\"ref.placeholder\" rel=\"dns-prefetch\"/> <link href=\"ref.placeholder\" rel=\"dns-prefetch\"/> <link href=\"ref.placeholder\" rel=\"dns-prefetch\"/> <link href=\"ref.placeholder\" rel=\"dns-prefetch\"/> <link href=\"ref.placeholder\" rel=\"dns-prefetch\"/> <link href=\"ref.placeholder\" rel=\"dns-prefetch\"/> <link href=\"ref.placeholder\" rel=\"dns-prefetch\"/> <link href=\"ref.placeholder\" rel=\"dns-prefetch\"/> <link href=\"ref.placeholder\" rel=\"dns-prefetch\"/> <link href=\"ref.placeholder\" rel=\"dns-prefetch\"/> <link href=\"ref.placeholder\" rel=\"dns-prefetch\"/> <link href=\"ref.placeholder\" rel=\"dns-prefetch\"/> <link href=\"ref.placeholder\" rel=\"dns-prefetch\"/> <link href=\"ref.placeholder\" rel=\"dns-prefetch\"/> <link href=\"ref.placeholder\" rel=\"dns-prefetch\"/> <link href=\"ref.placeholder\" rel=\"dns-prefetch\"/> <link href=\"ref.placeholder\" rel=\"dns-prefetch\"/> <link href=\"ref.placeholder\" rel=\"dns-prefetch\"/> <link href=\"ref.placeholder\" rel=\"dns-prefetch\"/> <link href=\"ref.placeholder\" rel=\"dns-prefetch\"/> <link href=\"ref.placeholder\" rel=\"dns-prefetch\"/> <link href=\"ref.placeholder\" rel=\"dns-prefetch\"/> <link href=\"ref.placeholder\" rel=\"dns-prefetch\"/> <link href=\"ref.placeholder\" rel=\"dns-prefetch\"/> <link href=\"ref.placeholder\" rel=\"dns-prefetch\"/> <link href=\"ref.placeholder\" rel=\"dns-prefetch\"/> <link href=\"ref.placeholder\" rel=\"dns-prefetch\"/> <link href=\"ref.placeholder\" rel=\"dns-prefetch\"/> <link href=\"ref.placeholder\" rel=\"dns-prefetch\"/> <link href=\"ref.placeholder\" rel=\"dns-prefetch\"/> <link href=\"ref.placeholder\" rel=\"dns-prefetch\"/> <link href=\"ref.placeholder\" rel=\"dns-prefetch\"/> <link href=\"ref.placeholder\" rel=\"dns-prefetch\"/> <link href=\"ref.placeholder\" rel=\"dns-prefetch\"/> <link href=\"ref.placeholder\" rel=\"dns-prefetch\"/> <link href=\"ref.placeholder\" rel=\"dns-prefetch\"/> <link href=\"ref.placeholder\" rel=\"dns-prefetch\"/> <link href=\"ref.placeholder\" rel=\"dns-prefetch\"/> <link href=\"ref.placeholder\" rel=\"dns-prefetch\"/> <link href=\"ref.placeholder\" rel=\"dns-prefetch\"/> <link href=\"ref.placeholder\" rel=\"dns-prefetch\"/> <link href=\"ref.placeholder\" rel=\"dns-prefetch\"/> <link href=\"ref.placeholder\" rel=\"dns-prefetch\"/> <link href=\"ref.placeholder\" rel=\"dns-prefetch\"/> <link href=\"ref.placeholder\" rel=\"dns-prefetch\"/> <link href=\"ref.placeholder\" rel=\"dns-prefetch\"/> <link href=\"ref.placeholder\" rel=\"dns-prefetch\"/> <link href=\"ref.placeholder\" rel=\"dns-prefetch\"/> <link href=\"ref.placeholder\" rel=\"dns-prefetch\"/> <link href=\"ref.placeholder\" rel=\"dns-prefetch\"/> <link href=\"ref.placeholder\" rel=\"dns-prefetch\"/> <link href=\"ref.placeholder\" rel=\"dns-prefetch\"/> <link href=\"ref.placeholder\" rel=\"dns-prefetch\"/> <link href=\"ref.placeholder\" rel=\"dns-prefetch\"/> <link href=\"ref.placeholder\" rel=\"dns-prefetch\"/> <link href=\"ref.placeholder\" rel=\"dns-prefetch\"/> <link href=\"ref.placeholder\" rel=\"dns-prefetch\"/> <link href=\"ref.placeholder\" rel=\"dns-prefetch\"/> <link href=\"ref.placeholder\" rel=\"dns-prefetch\"/> <link href=\"ref.placeholder\" rel=\"dns-prefetch\"/> <link href=\"ref.placeholder\" rel=\"dns-prefetch\"/> <link href=\"ref.placeholder\" rel=\"dns-prefetch\"/> <link href=\"ref.placeholder\" rel=\"dns-prefetch\"/> <link href=\"ref.placeholder\" rel=\"dns-prefetch\"/> <link href=\"ref.placeholder\" rel=\"dns-prefetch\"/> <link href=\"ref.placeholder\" rel=\"dns-prefetch\"/> <link href=\"ref.placeholder\" rel=\"dns-prefetch\"/> <link href=\"ref.placeholder\" rel=\"dns-prefetch\"/> <link href=\"ref.placeholder\" rel=\"dns-prefetch\"/> <link href=\"ref.placeholder\" rel=\"dns-prefetch\"/> <link href=\"ref.placeholder\" rel=\"dns-prefetch\"/> <link href=\"ref.placeholder\" rel=\"dns-prefetch\"/> <link href=\"ref.placeholder\" rel=\"dns-prefetch\"/> <link href=\"ref.placeholder\" rel=\"dns-prefetch\"/> <link href=\"ref.placeholder\" rel=\"dns-prefetch\"/> <link href=\"ref.placeholder\" rel=\"dns-prefetch\"/> <link href=\"ref.placeholder\" rel=\"dns-prefetch\"/> <link href=\"ref.placeholder\" rel=\"dns-prefetch\"/> <link href=\"ref.placeholder\" rel=\"dns-prefetch\"/> <link href=\"ref.placeholder\" rel=\"dns-prefetch\"/> <link href=\"ref.placeholder\" rel=\"dns-prefetch\"/> <link href=\"ref.placeholder\" rel=\"dns-prefetch\"/> <link href=\"ref.placeholder\" rel=\"dns-prefetch\"/> <link href=\"ref.placeholder\" rel=\"dns-prefetch\"/> <link href=\"ref.placeholder\" rel=\"dns-prefetch\"/> <link href=\"ref.placeholder\" rel=\"dns-prefetch\"/> <link href=\"ref.placeholder\" rel=\"dns-prefetch\"/> <link href=\"ref.placeholder\" rel=\"dns-prefetch\"/> <link href=\"ref.placeholder\" rel=\"dns-prefetch\"/> <link href=\"ref.placeholder\" rel=\"dns-prefetch\"/> <link href=\"ref.placeholder\" rel=\"dns-prefetch\"/> <link href=\"ref.placeholder\" rel=\"dns-prefetch\"/> <link href=\"ref.placeholder\" rel=\"dns-prefetch\"/> <link href=\"ref.placeholder\" rel=\"dns-prefetch\"/> <link href=\"ref.placeholder\" rel=\"dns-prefetch\"/> <link href=\"ref.placeholder\" rel=\"dns-prefetch\"/> <link href=\"ref.placeholder\" rel=\"dns-prefetch\"/> <link href=\"ref.placeholder\" rel=\"dns-prefetch\"/> <link href=\"ref.placeholder\" rel=\"dns-prefetch\"/> <link href=\"ref.placeholder\" rel=\"dns-prefetch\"/> <link href=\"ref.placeholder\" rel=\"dns-prefetch\"/> <link href=\"ref.placeholder\" rel=\"dns-prefetch\"/> <link href=\"ref.placeholder\" rel=\"dns-prefetch\"/> <link href=\"ref.placeholder\" rel=\"dns-prefetch\"/> <link href=\"ref.placeholder\" rel=\"dns-prefetch\"/> <link href=\"ref.placeholder\" rel=\"dns-prefetch\"/> <link href=\"ref.placeholder\" rel=\"dns-prefetch\"/> <link href=\"ref.placeholder\" rel=\"dns-prefetch\"/> <link href=\"ref.placeholder\" rel=\"dns-prefetch\"/> <link href=\"ref.placeholder\" rel=\"dns-prefetch\"/> <link href=\"ref.placeholder\" rel=\"dns-prefetch\"/> <link href=\"ref.placeholder\" rel=\"dns-prefetch\"/> <link href=\"ref.placeholder\" rel=\"dns-prefetch\"/> <link href=\"ref.placeholder\" rel=\"dns-prefetch\"/> <link href=\"ref.placeholder\" rel=\"dns-prefetch\"/> <link href=\"ref.placeholder\" rel=\"dns-prefetch\"/> <link href=\"ref.placeholder\" rel=\"dns-prefetch\"/> <link href=\"ref.placeholder\" rel=\"dns-prefetch\"/> <link href=\"ref.placeholder\" rel=\"dns-prefetch\"/> <link href=\"ref.placeholder\" rel=\"dns-prefetch\"/> <link href=\"ref.placeholder\" rel=\"dns-prefetch\"/> <link href=\"ref.placeholder\" rel=\"dns-prefetch\"/> <link href=\"ref.placeholder\" rel=\"dns-prefetch\"/> <link href=\"ref.placeholder\" rel=\"dns-prefetch\"/> <link href=\"ref.placeholder\" rel=\"dns-prefetch\"/> <link href=\"ref.placeholder\" rel=\"dns-prefetch\"/> <link href=\"ref.placeholder\" rel=\"dns-prefetch\"/> <link href=\"ref.placeholder\" rel=\"dns-prefetch\"/> <link href=\"ref.placeholder\" rel=\"dns-prefetch\"/> <link href=\"ref.placeholder\" rel=\"dns-prefetch\"/> <link href=\"ref.placeholder\" rel=\"dns-prefetch\"/> <link href=\"ref.placeholder\" rel=\"dns-prefetch\"/> <link href=\"ref.placeholder\" rel=\"dns-prefetch\"/> <link href=\"ref.placeholder\" rel=\"dns-prefetch\"/> <link href=\"ref.placeholder\" rel=\"dns-prefetch\"/> <link href=\"ref.placeholder\" rel=\"dns-prefetch\"/> <link href=\"ref.placeholder\" rel=\"dns-prefetch\"/> <link href=\"ref.placeholder\" rel=\"dns-prefetch\"/> <link href=\"ref.placeholder\" rel=\"dns-prefetch\"/> <link href=\"ref.placeholder\" rel=\"dns-prefetch\"/> <link href=\"ref.placeholder\" rel=\"dns-prefetch\"/> <link href=\"ref.placeholder\" rel=\"dns-prefetch\"/> <link href=\"ref.placeholder\" rel=\"dns-prefetch\"/> <link href=\"ref.placeholder\" rel=\"dns-prefetch\"/> <link href=\"ref.placeholder\" rel=\"dns-prefetch\"/> <link href=\"ref.placeholder\" rel=\"dns-prefetch\"/> <link href=\"ref.placeholder\" rel=\"dns-prefetch\"/> <link href=\"ref.placeholder\" rel=\"dns-prefetch\"/> <link href=\"ref.placeholder\" rel=\"dns-prefetch\"/> <link href=\"ref.placeholder\" rel=\"dns-prefetch\"/> <link href=\"ref.placeholder\" rel=\"dns-prefetch\"/> <link href=\"ref.placeholder\" rel=\"dns-prefetch\"/> <link href=\"ref.placeholder\" rel=\"dns-prefetch\"/> <link href=\"ref.placeholder\" rel=\"dns-prefetch\"/> <link href=\"ref.placeholder\" rel=\"dns-prefetch\"/> <link href=\"ref.placeholder\" rel=\"dns-prefetch\"/> <link href=\"ref.placeholder\" rel=\"dns-prefetch\"/> <link href=\"ref.placeholder\" rel=\"dns-prefetch\"/> <link href=\"ref.placeholder\" rel=\"dns-prefetch\"/> <link href=\"ref.placeholder\" rel=\"dns-prefetch\"/> <link href=\"ref.placeholder\" rel=\"dns-prefetch\"/> <link href=\"ref.placeholder\" rel=\"dns-prefetch\"/> <link href=\"ref.placeholder\" rel=\"dns-prefetch\"/> <link href=\"ref.placeholder\" rel=\"dns-prefetch\"/> <link href=\"ref.placeholder\" rel=\"dns-prefetch\"/> <link href=\"ref.placeholder\" rel=\"dns-prefetch\"/> <link href=\"ref.placeholder\" rel=\"dns-prefetch\"/> <link href=\"ref.placeholder\" rel=\"dns-prefetch\"/> <link href=\"ref.placeholder\" rel=\"dns-prefetch\"/> <link href=\"ref.placeholder\" rel=\"dns-prefetch\"/> <link href=\"ref.placeholder\" rel=\"dns-prefetch\"/> <link href=\"ref.placeholder\" rel=\"dns-prefetch\"/> <link href=\"ref.placeholder\" rel=\"dns-prefetch\"/> <link href=\"ref.placeholder\" rel=\"dns-prefetch\"/> <link href=\"ref.placeholder\" rel=\"dns-prefetch\"/> <link href=\"ref.placeholder\" rel=\"dns-prefetch\"/> <link href=\"ref.placeholder\" rel=\"dns-prefetch\"/> <link href=\"ref.placeholder\" rel=\"dns-prefetch\"/> <link href=\"ref.placeholder\" rel=\"dns-prefetch\"/> <link href=\"ref.placeholder\" rel=\"dns-prefetch\"/> <link href=\"ref.placeholder\" rel=\"dns-prefetch\"/> <link href=\"ref.placeholder\" rel=\"dns-prefetch\"/> <link href=\"ref.placeholder\" rel=\"dns-prefetch\"/> <link href=\"ref.placeholder\" rel=\"dns-prefetch\"/> <link href=\"ref.placeholder\" rel=\"dns-prefetch\"/> <link href=\"ref.placeholder\" rel=\"dns-prefetch\"/> <link href=\"ref.placeholder\" rel=\"dns-prefetch\"/> <link href=\"ref.placeholder\" rel=\"dns-prefetch\"/> <link href=\"ref.placeholder\" rel=\"dns-prefetch\"/> <link href=\"ref.placeholder\" rel=\"dns-prefetch\"/> <link href=\"ref.placeholder\" rel=\"dns-prefetch\"/> <link href=\"ref.placeholder\" rel=\"dns-prefetch\"/> <link href=\"ref.placeholder\" rel=\"dns-prefetch\"/> <link href=\"ref.placeholder\" rel=\"dns-prefetch\"/> <link href=\"ref.placeholder\" rel=\"dns-prefetch\"/> <link href=\"ref.placeholder\" rel=\"dns-prefetch\"/> <link href=\"ref.placeholder\" rel=\"dns-prefetch\"/> <link href=\"ref.placeholder\" rel=\"dns-prefetch\"/> <link href=\"ref.placeholder\" rel=\"dns-prefetch\"/> <link href=\"ref.placeholder\" rel=\"dns-prefetch\"/> <link href=\"ref.placeholder\" rel=\"dns-prefetch\"/> <link href=\"ref.placeholder\" rel=\"dns-prefetch\"/> <link href=\"ref.placeholder\" rel=\"dns-prefetch\"/> <link href=\"ref.placeholder\" rel=\"dns-prefetch\"/> <link href=\"ref.placeholder\" rel=\"dns-prefetch\"/> <link href=\"ref.placeholder\" rel=\"dns-prefetch\"/> <link href=\"ref.placeholder\" rel=\"dns-prefetch\"/> <link href=\"ref.placeholder\" rel=\"dns-prefetch\"/> <link href=\"ref.placeholder\" rel=\"dns-prefetch\"/> <link href=\"ref.placeholder\" rel=\"dns-prefetch\"/> <link href=\"ref.placeholder\" rel=\"dns-prefetch\"/> <link href=\"ref.placeholder\" rel=\"dns-prefetch\"/> <link href=\"ref.placeholder\" rel=\"dns-prefetch\"/> <link href=\"ref.placeholder\" rel=\"dns-prefetch\"/> <link href=\"ref.placeholder\" rel=\"dns-prefetch\"/> <link href=\"ref.placeholder\" rel=\"dns-prefetch\"/> <link href=\"ref.placeholder\" rel=\"dns-prefetch\"/> <link href=\"ref.placeholder\" rel=\"dns-prefetch\"/> <link href=\"ref.placeholder\" rel=\"dns-prefetch\"/> <link href=\"ref.placeholder\" rel=\"dns-prefetch\"/> <link href=\"ref.placeholder\" rel=\"dns-prefetch\"/> <link href=\"ref.placeholder\" rel=\"dns-prefetch\"/> <link href=\"ref.placeholder\" rel=\"dns-prefetch\"/> <link href=\"ref.placeholder\" rel=\"dns-prefetch\"/> <link href=\"ref.placeholder\" rel=\"dns-prefetch\"/> <link href=\"ref.placeholder\" rel=\"dns-prefetch\"/> <link href=\"ref.placeholder\" rel=\"dns-prefetch\"/> <link href=\"ref.placeholder\" rel=\"dns-prefetch\"/> <link href=\"ref.placeholder\" rel=\"dns-prefetch\"/> <link href=\"ref.placeholder\" rel=\"dns-prefetch\"/> <link href=\"ref.placeholder\" rel=\"dns-prefetch\"/> <link href=\"ref.placeholder\" rel=\"dns-prefetch\"/> <link href=\"ref.placeholder\" rel=\"dns-prefetch\"/> <link href=\"ref.placeholder\" rel=\"dns-prefetch\"/> <link href=\"ref.placeholder\" rel=\"dns-prefetch\"/> <link href=\"ref.placeholder\" rel=\"dns-prefetch\"/> <link href=\"ref.placeholder\" rel=\"dns-prefetch\"/> <link href=\"ref.placeholder\" rel=\"dns-prefetch\"/> <link href=\"ref.placeholder\" rel=\"dns-prefetch\"/> <link href=\"ref.placeholder\" rel=\"dns-prefetch\"/> <link href=\"ref.placeholder\" rel=\"dns-prefetch\"/> <link href=\"ref.placeholder\" rel=\"dns-prefetch\"/> <link href=\"ref.placeholder\" rel=\"dns-prefetch\"/> <link href=\"ref.placeholder\" rel=\"dns-prefetch\"/> <link href=\"ref.placeholder\" rel=\"dns-prefetch\"/> <link href=\"ref.placeholder\" rel=\"dns-prefetch\"/> <link href=\"ref.placeholder\" rel=\"dns-prefetch\"/> <link href=\"ref.placeholder\" rel=\"dns-prefetch\"/> <link href=\"ref.placeholder\" rel=\"dns-prefetch\"/> <link href=\"ref.placeholder\" rel=\"dns-prefetch\"/> <link href=\"ref.placeholder\" rel=\"dns-prefetch\"/> <link href=\"ref.placeholder\" rel=\"dns-prefetch\"/> <link href=\"ref.placeholder\" rel=\"dns-prefetch\"/> <link href=\"ref.placeholder\" rel=\"dns-prefetch\"/> <link href=\"ref.placeholder\" rel=\"dns-prefetch\"/> <link href=\"ref.placeholder\" rel=\"dns-prefetch\"/> <link href=\"ref.placeholder\" rel=\"dns-prefetch\"/> <link href=\"ref.placeholder\" rel=\"dns-prefetch\"/> <link href=\"ref.placeholder\" rel=\"dns-prefetch\"/> <link href=\"ref.placeholder\" rel=\"dns-prefetch\"/> <link href=\"ref.placeholder\" rel=\"dns-prefetch\"/> <link href=\"ref.placeholder\" rel=\"dns-prefetch\"/> <link href=\"ref.placeholder\" rel=\"dns-prefetch\"/> <link href=\"ref.placeholder\" rel=\"dns-prefetch\"/> <link href=\"ref.placeholder\" rel=\"dns-prefetch\"/> <link href=\"ref.placeholder\" rel=\"dns-prefetch\"/> <link href=\"ref.placeholder\" rel=\"dns-prefetch\"/> <link href=\"ref.placeholder\" rel=\"dns-prefetch\"/> <link href=\"ref.placeholder\" rel=\"dns-prefetch\"/> <link href=\"ref.placeholder\" rel=\"dns-prefetch\"/> <link href=\"ref.placeholder\" rel=\"dns-prefetch\"/> <link href=\"ref.placeholder\" rel=\"dns-prefetch\"/> <link href=\"ref.placeholder\" rel=\"dns-prefetch\"/> <link href=\"ref.placeholder\" rel=\"dns-prefetch\"/> <link href=\"ref.placeholder\" rel=\"dns-prefetch\"/> <link href=\"ref.placeholder\" rel=\"dns-prefetch\"/> <link href=\"ref.placeholder\" rel=\"dns-prefetch\"/> <link href=\"ref.placeholder\" rel=\"dns-prefetch\"/> <link href=\"ref.placeholder\" rel=\"dns-prefetch\"/> <link href=\"ref.placeholder\" rel=\"dns-prefetch\"/> <link href=\"ref.placeholder\" rel=\"dns-prefetch\"/> <link href=\"ref.placeholder\" rel=\"dns-prefetch\"/> <link href=\"ref.placeholder\" rel=\"dns-prefetch\"/> <link href=\"ref.placeholder\" rel=\"dns-prefetch\"/> <link href=\"ref.placeholder\" rel=\"dns-prefetch\"/> <link href=\"ref.placeholder\" rel=\"dns-prefetch\"/> <link href=\"ref.placeholder\" rel=\"dns-prefetch\"/> <link href=\"ref.placeholder\" rel=\"dns-prefetch\"/> <link href=\"ref.placeholder\" rel=\"dns-prefetch\"/> <link href=\"ref.placeholder\" rel=\"dns-prefetch\"/> <link href=\"ref.placeholder\" rel=\"dns-prefetch\"/> <link href=\"ref.placeholder\" rel=\"dns-prefetch\"/> <link href=\"ref.placeholder\" rel=\"dns-prefetch\"/> <link href=\"ref.placeholder\" rel=\"dns-prefetch\"/> <link href=\"ref.placeholder\" rel=\"dns-prefetch\"/> <link href=\"ref.placeholder\" rel=\"dns-prefetch\"/> <link href=\"ref.placeholder\" rel=\"dns-prefetch\"/> <link href=\"ref.placeholder\" rel=\"dns-prefetch\"/> <link href=\"ref.placeholder\" rel=\"dns-prefetch\"/> <link href=\"ref.placeholder\" rel=\"dns-prefetch\"/> <link href=\"ref.placeholder\" rel=\"dns-prefetch\"/> <link href=\"ref.placeholder\" rel=\"dns-prefetch\"/> <link href=\"ref.placeholder\" rel=\"dns-prefetch\"/> <link href=\"ref.placeholder\" rel=\"dns-prefetch\"/> <link href=\"ref.placeholder\" rel=\"dns-prefetch\"/> <link href=\"ref.placeholder\" rel=\"dns-prefetch\"/> <link href=\"ref.placeholder\" rel=\"dns-prefetch\"/> <link href=\"ref.placeholder\" rel=\"dns-prefetch\"/> <link href=\"ref.placeholder\" rel=\"dns-prefetch\"/> <link href=\"ref.placeholder\" rel=\"dns-prefetch\"/> <link href=\"ref.placeholder\" rel=\"dns-prefetch\"/> <link href=\"ref.placeholder\" rel=\"dns-prefetch\"/> <link href=\"ref.placeholder\" rel=\"dns-prefetch\"/> <link href=\"ref.placeholder\" rel=\"dns-prefetch\"/> <link href=\"ref.placeholder\" rel=\"dns-prefetch\"/> <link href=\"ref.placeholder\" rel=\"dns-prefetch\"/> <link href=\"ref.placeholder\" rel=\"dns-prefetch\"/> <link href=\"ref.placeholder\" rel=\"dns-prefetch\"/> <link href=\"ref.placeholder\" rel=\"dns-prefetch\"/> <link href=\"ref.placeholder\" rel=\"dns-prefetch\"/> <link href=\"ref.placeholder\" rel=\"dns-prefetch\"/> <link href=\"ref.placeholder\" rel=\"dns-prefetch\"/> <link href=\"ref.placeholder\" rel=\"dns-prefetch\"/> <link href=\"ref.placeholder\" rel=\"dns-prefetch\"/> <link href=\"ref.placeholder\" rel=\"dns-prefetch\"/> <link href=\"ref.placeholder\" rel=\"dns-prefetch\"/> <link href=\"ref.placeholder\" rel=\"dns-prefetch\"/> <link href=\"ref.placeholder\" rel=\"dns-prefetch\"/> <link href=\"ref.placeholder\" rel=\"dns-prefetch\"/> <link href=\"ref.placeholder\" rel=\"dns-prefetch\"/> <link href=\"ref.placeholder\" rel=\"dns-prefetch\"/> <link href=\"ref.placeholder\" rel=\"dns-prefetch\"/> <link href=\"ref.placeholder\" rel=\"dns-prefetch\"/> <link href=\"ref.placeholder\" rel=\"dns-prefetch\"/> <link href=\"ref.placeholder\" rel=\"dns-prefetch\"/> <link href=\"ref.placeholder\" rel=\"dns-prefetch\"/> <link href=\"ref.placeholder\" rel=\"dns-prefetch\"/> <link href=\"ref.placeholder\" rel=\"dns-prefetch\"/> <link href=\"ref.placeholder\" rel=\"dns-prefetch\"/> <link href=\"ref.placeholder\" rel=\"dns-prefetch\"/> <link href=\"ref.placeholder\" rel=\"dns-prefetch\"/> <link href=\"ref.placeholder\" rel=\"dns-prefetch\"/> <link href=\"ref.placeholder\" rel=\"dns-prefetch\"/> <link href=\"ref.placeholder\" rel=\"dns-prefetch\"/> <link href=\"ref.placeholder\" rel=\"dns-prefetch\"/> <link href=\"ref.placeholder\" rel=\"dns-prefetch\"/> <link href=\"ref.placeholder\" rel=\"dns-prefetch\"/> <link href=\"ref.placeholder\" rel=\"dns-prefetch\"/> <link href=\"ref.placeholder\" rel=\"dns-prefetch\"/> <link href=\"ref.placeholder\" rel=\"dns-prefetch\"/> <link href=\"ref.placeholder\" rel=\"dns-prefetch\"/> <link href=\"ref.placeholder\" rel=\"dns-prefetch\"/> <link href=\"ref.placeholder\" rel=\"dns-prefetch\"/> <link href=\"ref.placeholder\" rel=\"dns-prefetch\"/> <link href=\"ref.placeholder\" rel=\"dns-prefetch\"/> <link href=\"ref.placeholder\" rel=\"dns-prefetch\"/> <link href=\"ref.placeholder\" rel=\"dns-prefetch\"/> <link href=\"ref.placeholder\" rel=\"dns-prefetch\"/> <link href=\"ref.placeholder\" rel=\"dns-prefetch\"/> <link href=\"ref.placeholder\" rel=\"dns-prefetch\"/> <link href=\"ref.placeholder\" rel=\"dns-prefetch\"/> <link href=\"ref.placeholder\" rel=\"dns-prefetch\"/> <link href=\"ref.placeholder\" rel=\"dns-prefetch\"/> <link href=\"ref.placeholder\" rel=\"dns-prefetch\"/> <link href=\"ref.placeholder\" rel=\"dns-prefetch\"/> <link href=\"ref.placeholder\" rel=\"dns-prefetch\"/> <link href=\"ref.placeholder\" rel=\"dns-prefetch\"/> <link href=\"ref.placeholder\" rel=\"dns-prefetch\"/> <link href=\"ref.placeholder\" rel=\"dns-prefetch\"/> <link href=\"ref.placeholder\" rel=\"dns-prefetch\"/> <link href=\"ref.placeholder\" rel=\"dns-prefetch\"/> <link href=\"ref.placeholder\" rel=\"dns-prefetch\"/> <link href=\"ref.placeholder\" rel=\"dns-prefetch\"/> <link href=\"ref.placeholder\" rel=\"dns-prefetch\"/> <link href=\"ref.placeholder\" rel=\"dns-prefetch\"/> <link href=\"ref.placeholder\" rel=\"dns-prefetch\"/> <link href=\"ref.placeholder\" rel=\"dns-prefetch\"/> <link href=\"ref.placeholder\" rel=\"dns-prefetch\"/> <link href=\"ref.placeholder\" rel=\"dns-prefetch\"/> <link href=\"ref.placeholder\" rel=\"dns-prefetch\"/> <link href=\"ref.placeholder\" rel=\"dns-prefetch\"/> <link href=\"ref.placeholder\" rel=\"dns-prefetch\"/> <link href=\"ref.placeholder\" rel=\"dns-prefetch\"/> <link href=\"ref.placeholder\" rel=\"dns-prefetch\"/> <link href=\"ref.placeholder\" rel=\"dns-prefetch\"/> <link href=\"ref.placeholder\" rel=\"dns-prefetch\"/> <link href=\"ref.placeholder\" rel=\"dns-prefetch\"/> <link href=\"ref.placeholder\" rel=\"dns-prefetch\"/> <link href=\"ref.placeholder\" rel=\"dns-prefetch\"/> <link href=\"ref.placeholder\" rel=\"dns-prefetch\"/> <link href=\"ref.placeholder\" rel=\"dns-prefetch\"/> <link href=\"ref.placeholder\" rel=\"dns-prefetch\"/> <link href=\"ref.placeholder\" rel=\"dns-prefetch\"/> <link href=\"ref.placeholder\" rel=\"dns-prefetch\"/> <link href=\"ref.placeholder\" rel=\"dns-prefetch\"/> <link href=\"ref.placeholder\" rel=\"dns-prefetch\"/> <link href=\"ref.placeholder\" rel=\"dns-prefetch\"/> <link href=\"ref.placeholder\" rel=\"dns-prefetch\"/> <link href=\"ref.placeholder\" rel=\"dns-prefetch\"/> <link href=\"ref.placeholder\" rel=\"dns-prefetch\"/> <link href=\"ref.placeholder\" rel=\"dns-prefetch\"/> <link href=\"ref.placeholder\" rel=\"dns-prefetch\"/> <link href=\"ref.placeholder\" rel=\"dns-prefetch\"/> <link href=\"ref.placeholder\" rel=\"dns-prefetch\"/> <link href=\"ref.placeholder\" rel=\"dns-prefetch\"/> <link href=\"ref.placeholder\" rel=\"dns-prefetch\"/> <link href=\"ref.placeholder\" rel=\"dns-prefetch\"/> <link href=\"ref.placeholder\" rel=\"dns-prefetch\"/> <link href=\"ref.placeholder\" rel=\"dns-prefetch\"/> <link href=\"ref.placeholder\" rel=\"dns-prefetch\"/> <link href=\"ref.placeholder\" rel=\"dns-prefetch\"/> <link href=\"ref.placeholder\" rel=\"dns-prefetch\"/> <link href=\"ref.placeholder\" rel=\"dns-prefetch\"/> <link href=\"ref.placeholder\" rel=\"dns-prefetch\"/> <link href=\"ref.placeholder\" rel=\"dns-prefetch\"/> <link href=\"ref.placeholder\" rel=\"dns-prefetch\"/> <link href=\"ref.placeholder\" rel=\"dns-prefetch\"/> <link href=\"ref.placeholder\" rel=\"dns-prefetch\"/> <link href=\"ref.placeholder\" rel=\"dns-prefetch\"/> <link href=\"ref.placeholder\" rel=\"dns-prefetch\"/> <link href=\"ref.placeholder\" rel=\"dns-prefetch\"/> <link href=\"ref.placeholder\" rel=\"dns-prefetch\"/> <link href=\"ref.placeholder\" rel=\"dns-prefetch\"/> <link href=\"ref.placeholder\" rel=\"dns-prefetch\"/> <link href=\"ref.placeholder\" rel=\"dns-prefetch\"/> <link href=\"ref.placeholder\" rel=\"dns-prefetch\"/> <link href=\"ref.placeholder\" rel=\"dns-prefetch\"/> <link href=\"ref.placeholder\" rel=\"dns-prefetch\"/> <link href=\"ref.placeholder\" rel=\"dns-prefetch\"/> <link href=\"ref.placeholder\" rel=\"dns-prefetch\"/> <link href=\"ref.placeholder\" rel=\"dns-prefetch\"/> <link href=\"ref.placeholder\" rel=\"dns-prefetch\"/> <link href=\"ref.placeholder\" rel=\"dns-prefetch\"/> <link href=\"ref.placeholder\" rel=\"dns-prefetch\"/> <link href=\"ref.placeholder\" rel=\"dns-prefetch\"/> <link href=\"ref.placeholder\" rel=\"dns-prefetch\"/> <link href=\"ref.placeholder\" rel=\"dns-prefetch\"/> <link href=\"ref.placeholder\" rel=\"dns-prefetch\"/> <link href=\"ref.placeholder\" rel=\"dns-prefetch\"/> <link href=\"ref.placeholder\" rel=\"dns-prefetch\"/> <link href=\"ref.placeholder\" rel=\"dns-prefetch\"/> <link href=\"ref.placeholder\" rel=\"dns-prefetch\"/> <link href=\"ref.placeholder\" rel=\"dns-prefetch\"/> <link href=\"ref.placeholder\" rel=\"dns-prefetch\"/> <link href=\"ref.placeholder\" rel=\"dns-prefetch\"/> <link href=\"ref.placeholder\" rel=\"dns-prefetch\"/> <link href=\"ref.placeholder\" rel=\"dns-prefetch\"/> <link href=\"ref.placeholder\" rel=\"dns-prefetch\"/> <link href=\"ref.placeholder\" rel=\"dns-prefetch\"/> <link href=\"ref.placeholder\" rel=\"dns-prefetch\"/> <link href=\"ref.placeholder\" rel=\"dns-prefetch\"/> <link href=\"ref.placeholder\" rel=\"dns-prefetch\"/> <link href=\"ref.placeholder\" rel=\"dns-prefetch\"/> <link href=\"ref.placeholder\" rel=\"dns-prefetch\"/> <link href=\"ref.placeholder\" rel=\"dns-prefetch\"/> <link href=\"ref.placeholder\" rel=\"dns-prefetch\"/> <link href=\"ref.placeholder\" rel=\"dns-prefetch\"/> <link href=\"ref.placeholder\" rel=\"dns-prefetch\"/> <link href=\"ref.placeholder\" rel=\"dns-prefetch\"/> <link href=\"ref.placeholder\" rel=\"dns-prefetch\"/> <link href=\"ref.placeholder\" rel=\"dns-prefetch\"/> <link href=\"ref.placeholder\" rel=\"dns-prefetch\"/> <link href=\"ref.placeholder\" rel=\"dns-prefetch\"/> <link href=\"ref.placeholder\" rel=\"dns-prefetch\"/> <link href=\"ref.placeholder\" rel=\"dns-prefetch\"/> <link href=\"ref.placeholder\" rel=\"dns-prefetch\"/> <link href=\"ref.placeholder\" rel=\"dns-prefetch\"/> <link href=\"ref.placeholder\" rel=\"dns-prefetch\"/> <link href=\"ref.placeholder\" rel=\"dns-prefetch\"/> <link href=\"ref.placeholder\" rel=\"dns-prefetch\"/> <link href=\"ref.placeholder\" rel=\"dns-prefetch\"/> <link href=\"ref.placeholder\" rel=\"dns-prefetch\"/> <link href=\"ref.placeholder\" rel=\"dns-prefetch\"/> <link href=\"ref.placeholder\" rel=\"dns-prefetch\"/> <link href=\"ref.placeholder\" rel=\"dns-prefetch\"/> <link href=\"ref.placeholder\" rel=\"dns-prefetch\"/> <link href=\"ref.placeholder\" rel=\"dns-prefetch\"/> <link href=\"ref.placeholder\" rel=\"dns-prefetch\"/> <link href=\"ref.placeholder\" rel=\"dns-prefetch\"/> <link href=\"ref.placeholder\" rel=\"dns-prefetch\"/> <link href=\"ref.placeholder\" rel=\"dns-prefetch\"/> <link href=\"ref.placeholder\" rel=\"dns-prefetch\"/> <link href=\"ref.placeholder\" rel=\"dns-prefetch\"/> <link href=\"ref.placeholder\" rel=\"dns-prefetch\"/> <link href=\"ref.placeholder\" rel=\"dns-prefetch\"/> <link href=\"ref.placeholder\" rel=\"dns-prefetch\"/> <link href=\"ref.placeholder\" rel=\"dns-prefetch\"/> <link href=\"ref.placeholder\" rel=\"dns-prefetch\"/> <link href=\"ref.placeholder\" rel=\"dns-prefetch\"/> <link href=\"ref.placeholder\" rel=\"dns-prefetch\"/> <link href=\"ref.placeholder\" rel=\"dns-prefetch\"/> <link href=\"ref.placeholder\" rel=\"dns-prefetch\"/> <link href=\"ref.placeholder\" rel=\"dns-prefetch\"/> <link href=\"ref.placeholder\" rel=\"dns-prefetch\"/> <link href=\"ref.placeholder\" rel=\"dns-prefetch\"/> <link href=\"ref.placeholder\" rel=\"dns-prefetch\"/> <link href=\"ref.placeholder\" rel=\"dns-prefetch\"/> <link href=\"ref.placeholder\" rel=\"dns-prefetch\"/> <link href=\"ref.placeholder\" rel=\"dns-prefetch\"/> <link href=\"ref.placeholder\" rel=\"dns-prefetch\"/> <link href=\"ref.placeholder\" rel=\"dns-prefetch\"/> <link href=\"ref.placeholder\" rel=\"dns-prefetch\"/> <link href=\"ref.placeholder\" rel=\"dns-prefetch\"/> <link href=\"ref.placeholder\" rel=\"dns-prefetch\"/> <link href=\"ref.placeholder\" rel=\"dns-prefetch\"/> <link href=\"ref.placeholder\" rel=\"dns-prefetch\"/> <link href=\"ref.placeholder\" rel=\"dns-prefetch\"/> <link href=\"ref.placeholder\" rel=\"dns-prefetch\"/> <link href=\"ref.placeholder\" rel=\"dns-prefetch\"/> <link href=\"ref.placeholder\" rel=\"dns-prefetch\"/> <link href=\"ref.placeholder\" rel=\"dns-prefetch\"/> <link href=\"ref.placeholder\" rel=\"dns-prefetch\"/> <link href=\"ref.placeholder\" rel=\"dns-prefetch\"/> <link href=\"ref.placeholder\" rel=\"dns-prefetch\"/> <link href=\"ref.placeholder\" rel=\"dns-prefetch\"/> <link href=\"ref.placeholder\" rel=\"dns-prefetch\"/> <link href=\"ref.placeholder\" rel=\"dns-prefetch\"/> <link href=\"ref.placeholder\" rel=\"dns-prefetch\"/> <link href=\"ref.placeholder\" rel=\"dns-prefetch\"/> <link href=\"ref.placeholder\" rel=\"dns-prefetch\"/> <link href=\"ref.placeholder\" rel=\"dns-prefetch\"/> <link href=\"ref.placeholder\" rel=\"dns-prefetch\"/> <link href=\"ref.placeholder\" rel=\"dns-prefetch\"/> <link href=\"ref.placeholder\" rel=\"dns-prefetch\"/> <link href=\"ref.placeholder\" rel=\"dns-prefetch\"/> <link href=\"ref.placeholder\" rel=\"dns-prefetch\"/> <link href=\"ref.placeholder\" rel=\"dns-prefetch\"/> <link href=\"ref.placeholder\" rel=\"dns-prefetch\"/> <link href=\"ref.placeholder\" rel=\"dns-prefetch\"/> <link href=\"ref.placeholder\" rel=\"dns-prefetch\"/> <link href=\"ref.placeholder\" rel=\"dns-prefetch\"/> <link href=\"ref.placeholder\" rel=\"dns-prefetch\"/> <link href=\"ref.placeholder\" rel=\"dns-prefetch\"/> <link href=\"ref.placeholder\" rel=\"dns-prefetch\"/> <link href=\"ref.placeholder\" rel=\"dns-prefetch\"/> <link href=\"ref.placeholder\" rel=\"dns-prefetch\"/> <link href=\"ref.placeholder\" rel=\"dns-prefetch\"/> <link href=\"ref.placeholder\" rel=\"dns-prefetch\"/> <link href=\"ref.placeholder\" rel=\"dns-prefetch\"/> <link href=\"ref.placeholder\" rel=\"dns-prefetch\"/> <link href=\"ref.placeholder\" rel=\"dns-prefetch\"/> <link href=\"ref.placeholder\" rel=\"dns-prefetch\"/> <link href=\"ref.placeholder\" rel=\"dns-prefetch\"/> <link href=\"ref.placeholder\" rel=\"dns-prefetch\"/> <link href=\"ref.placeholder\" rel=\"dns-prefetch\"/> <link href=\"ref.placeholder\" rel=\"dns-prefetch\"/> <link href=\"ref.placeholder\" rel=\"dns-prefetch\"/> <link href=\"ref.placeholder\" rel=\"dns-prefetch\"/> <link href=\"ref.placeholder\" rel=\"dns-prefetch\"/> <link href=\"ref.placeholder\" rel=\"dns-prefetch\"/> <link href=\"ref.placeholder\" rel=\"dns-prefetch\"/> <link href=\"ref.placeholder\" rel=\"dns-prefetch\"/> <link href=\"ref.placeholder\" rel=\"dns-prefetch\"/> <link href=\"ref.placeholder\" rel=\"dns-prefetch\"/> <link href=\"ref.placeholder\" rel=\"dns-prefetch\"/> <link href=\"ref.placeholder\" rel=\"dns-prefetch\"/> <link href=\"ref.placeholder\" rel=\"dns-prefetch\"/> <link href=\"ref.placeholder\" rel=\"dns-prefetch\"/> <link href=\"ref.placeholder\" rel=\"dns-prefetch\"/> <link href=\"ref.placeholder\" rel=\"dns-prefetch\"/> <link href=\"ref.placeholder\" rel=\"dns-prefetch\"/> <link href=\"ref.placeholder\" rel=\"dns-prefetch\"/> <link href=\"ref.placeholder\" rel=\"dns-prefetch\"/> <link href=\"ref.placeholder\" rel=\"dns-prefetch\"/> <link href=\"ref.placeholder\" rel=\"dns-prefetch\"/> <link href=\"ref.placeholder\" rel=\"dns-prefetch\"/> <link href=\"ref.placeholder\" rel=\"dns-prefetch\"/> <link href=\"ref.placeholder\" rel=\"dns-prefetch\"/> <link href=\"ref.placeholder\" rel=\"dns-prefetch\"/> <link href=\"ref.placeholder\" rel=\"dns-prefetch\"/> <link href=\"ref.placeholder\" rel=\"dns-prefetch\"/> <link href=\"ref.placeholder\" rel=\"dns-prefetch\"/> <link href=\"ref.placeholder\" rel=\"dns-prefetch\"/> <link href=\"ref.placeholder\" rel=\"dns-prefetch\"/> <link href=\"ref.placeholder\" rel=\"dns-prefetch\"/> <link href=\"ref.placeholder\" rel=\"dns-prefetch\"/> <link href=\"ref.placeholder\" rel=\"dns-prefetch\"/> <link href=\"ref.placeholder\" rel=\"dns-prefetch\"/> <link href=\"ref.placeholder\" rel=\"dns-prefetch\"/> <link href=\"ref.placeholder\" rel=\"dns-prefetch\"/> <link href=\"ref.placeholder\" rel=\"dns-prefetch\"/> <link href=\"ref.placeholder\" rel=\"dns-prefetch\"/> <link href=\"ref.placeholder\" rel=\"dns-prefetch\"/> <link href=\"ref.placeholder\" rel=\"dns-prefetch\"/> <link href=\"ref.placeholder\" rel=\"dns-prefetch\"/> <link href=\"ref.placeholder\" rel=\"dns-prefetch\"/> <link href=\"ref.placeholder\" rel=\"dns-prefetch\"/> <link href=\"ref.placeholder\" rel=\"dns-prefetch\"/> <link href=\"ref.placeholder\" rel=\"dns-prefetch\"/> <link href=\"ref.placeholder\" rel=\"dns-prefetch\"/> <link href=\"ref.placeholder\" rel=\"dns-prefetch\"/> <link href=\"ref.placeholder\" rel=\"dns-prefetch\"/> <link href=\"ref.placeholder\" rel=\"dns-prefetch\"/> <link href=\"ref.placeholder\" rel=\"dns-prefetch\"/> <link href=\"ref.placeholder\" rel=\"dns-prefetch\"/> <link href=\"ref.placeholder\" rel=\"dns-prefetch\"/> <link href=\"ref.placeholder\" rel=\"dns-prefetch\"/> <link href=\"ref.placeholder\" rel=\"dns-prefetch\"/> <link href=\"ref.placeholder\" rel=\"dns-prefetch\"/> <link href=\"ref.placeholder\" rel=\"dns-prefetch\"/> <link href=\"ref.placeholder\" rel=\"dns-prefetch\"/> <link href=\"ref.placeholder\" rel=\"dns-prefetch\"/> <link href=\"ref.placeholder\" rel=\"dns-prefetch\"/> <link href=\"ref.placeholder\" rel=\"dns-prefetch\"/> <link href=\"ref.placeholder\" rel=\"dns-prefetch\"/> <link href=\"ref.placeholder\" rel=\"dns-prefetch\"/> <link href=\"ref.placeholder\" rel=\"dns-prefetch\"/> <link href=\"ref.placeholder\" rel=\"dns-prefetch\"/> <link href=\"ref.placeholder\" rel=\"dns-prefetch\"/> <link href=\"ref.placeholder\" rel=\"dns-prefetch\"/> <link href=\"ref.placeholder\" rel=\"dns-prefetch\"/> <link href=\"ref.placeholder\" rel=\"dns-prefetch\"/> <link href=\"ref.placeholder\" rel=\"dns-prefetch\"/> <link href=\"ref.placeholder\" rel=\"dns-prefetch\"/> <link href=\"ref.placeholder\" rel=\"dns-prefetch\"/> <link href=\"ref.placeholder\" rel=\"dns-prefetch\"/> <link href=\"ref.placeholder\" rel=\"dns-prefetch\"/> <link href=\"ref.placeholder\" rel=\"dns-prefetch\"/> <link href=\"ref.placeholder\" rel=\"dns-prefetch\"/> <link href=\"ref.placeholder\" rel=\"dns-prefetch\"/> <link href=\"ref.placeholder\" rel=\"dns-prefetch\"/> <link href=\"ref.placeholder\" rel=\"dns-prefetch\"/> <link href=\"ref.placeholder\" rel=\"dns-prefetch\"/> <link href=\"ref.placeholder\" rel=\"dns-prefetch\"/> <link href=\"ref.placeholder\" rel=\"dns-prefetch\"/> <link href=\"ref.placeholder\" rel=\"dns-prefetch\"/> <link href=\"ref.placeholder\" rel=\"dns-prefetch\"/> <link href=\"ref.placeholder\" rel=\"dns-prefetch\"/> <link href=\"ref.placeholder\" rel=\"dns-prefetch\"/> <link href=\"ref.placeholder\" rel=\"dns-prefetch\"/> <link href=\"ref.placeholder\" rel=\"dns-prefetch\"/> <link href=\"ref.placeholder\" rel=\"dns-prefetch\"/> <link href=\"ref.placeholder\" rel=\"dns-prefetch\"/> <link href=\"ref.placeholder\" rel=\"dns-prefetch\"/> <link href=\"ref.placeholder\" rel=\"dns-prefetch\"/> <link href=\"ref.placeholder\" rel=\"dns-prefetch\"/> <link href=\"ref.placeholder\" rel=\"dns-prefetch\"/> <link href=\"ref.placeholder\" rel=\"dns-prefetch\"/> <link href=\"ref.placeholder\" rel=\"dns-prefetch\"/> <link href=\"ref.placeholder\" rel=\"dns-prefetch\"/> <link href=\"ref.placeholder\" rel=\"dns-prefetch\"/> <link href=\"ref.placeholder\" rel=\"dns-prefetch\"/> <link href=\"ref.placeholder\" rel=\"dns-prefetch\"/> <link href=\"ref.placeholder\" rel=\"dns-prefetch\"/> <link href=\"ref.placeholder\" rel=\"dns-prefetch\"/> <link href=\"ref.placeholder\" rel=\"dns-prefetch\"/> <link href=\"ref.placeholder\" rel=\"dns-prefetch\"/> <link href=\"ref.placeholder\" rel=\"dns-prefetch\"/> <link href=\"ref.placeholder\" rel=\"dns-prefetch\"/> <link href=\"ref.placeholder\" rel=\"dns-prefetch\"/> <link href=\"ref.placeholder\" rel=\"dns-prefetch\"/> <link href=\"ref.placeholder\" rel=\"dns-prefetch\"/> <link href=\"ref.placeholder\" rel=\"dns-prefetch\"/> <link href=\"ref.placeholder\" rel=\"dns-prefetch\"/> <link href=\"ref.placeholder\" rel=\"dns-prefetch\"/> <link href=\"ref.placeholder\" rel=\"dns-prefetch\"/> <link href=\"ref.placeholder\" rel=\"dns-prefetch\"/> <link href=\"ref.placeholder\" rel=\"dns-prefetch\"/> <link href=\"ref.placeholder\" rel=\"dns-prefetch\"/> <link href=\"ref.placeholder\" rel=\"dns-prefetch\"/> <link href=\"ref.placeholder\" rel=\"dns-prefetch\"/> <link href=\"ref.placeholder\" rel=\"dns-prefetch\"/> <link href=\"ref.placeholder\" rel=\"dns-prefetch\"/> <link href=\"ref.placeholder\" rel=\"dns-prefetch\"/> <link href=\"ref.placeholder\" rel=\"dns-prefetch\"/> <link href=\"ref.placeholder\" rel=\"dns-prefetch\"/> <link href=\"ref.placeholder\" rel=\"dns-prefetch\"/> <link href=\"ref.placeholder\" rel=\"dns-prefetch\"/> <link href=\"ref.placeholder\" rel=\"dns-prefetch\"/> <link href=\"ref.placeholder\" rel=\"dns-prefetch\"/> <link href=\"ref.placeholder\" rel=\"dns-prefetch\"/> <link href=\"ref.placeholder\" rel=\"dns-prefetch\"/> <link href=\"ref.placeholder\" rel=\"dns-prefetch\"/> <link href=\"ref.placeholder\" rel=\"dns-prefetch\"/> <link href=\"ref.placeholder\" rel=\"dns-prefetch\"/> <link href=\"ref.placeholder\" rel=\"dns-prefetch\"/> <link href=\"ref.placeholder\" rel=\"dns-prefetch\"/> <link href=\"ref.placeholder\" rel=\"dns-prefetch\"/> <link href=\"ref.placeholder\" rel=\"dns-prefetch\"/> <link href=\"ref.placeholder\" rel=\"dns-prefetch\"/> <link href=\"ref.placeholder\" rel=\"dns-prefetch\"/> <link href=\"ref.placeholder\" rel=\"dns-prefetch\"/> <link href=\"ref.placeholder\" rel=\"dns-prefetch\"/> <link href=\"ref.placeholder\" rel=\"dns-prefetch\"/> <link href=\"ref.placeholder\" rel=\"dns-prefetch\"/> <link href=\"ref.placeholder\" rel=\"dns-prefetch\"/> <link href=\"ref.placeholder\" rel=\"dns-prefetch\"/> <link href=\"ref.placeholder\" rel=\"dns-prefetch\"/> <link href=\"ref.placeholder\" rel=\"dns-prefetch\"/> <link href=\"ref.placeholder\" rel=\"dns-prefetch\"/> <link href=\"ref.placeholder\" rel=\"dns-prefetch\"/> <link href=\"ref.placeholder\" rel=\"dns-prefetch\"/> <link href=\"ref.placeholder\" rel=\"dns-prefetch\"/> <link href=\"ref.placeholder\" rel=\"dns-prefetch\"/> <link href=\"ref.placeholder\" rel=\"dns-prefetch\"/> <link href=\"ref.placeholder\" rel=\"dns-prefetch\"/> <link href=\"ref.placeholder\" rel=\"dns-prefetch\"/> <link href=\"ref.placeholder\" rel=\"dns-prefetch\"/> <link href=\"ref.placeholder\" rel=\"dns-prefetch\"/> <link href=\"ref.placeholder\" rel=\"dns-prefetch\"/> <link href=\"ref.placeholder\" rel=\"dns-prefetch\"/> <link href=\"ref.placeholder\" rel=\"dns-prefetch\"/> <link href=\"ref.placeholder\" rel=\"dns-prefetch\"/> <link href=\"ref.placeholder\" rel=\"dns-prefetch\"/> <link href=\"ref.placeholder\" rel=\"dns-prefetch\"/> <link href=\"ref.placeholder\" rel=\"dns-prefetch\"/> <link href=\"ref.placeholder\" rel=\"dns-prefetch\"/> <link href=\"ref.placeholder\" rel=\"dns-prefetch\"/> <link href=\"ref.placeholder\" rel=\"dns-prefetch\"/> <link href=\"ref.placeholder\" rel=\"dns-prefetch\"/> <link href=\"ref.placeholder\" rel=\"dns-prefetch\"/> <link href=\"ref.placeholder\" rel=\"dns-prefetch\"/> <link href=\"ref.placeholder\" rel=\"dns-prefetch\"/> <link href=\"ref.placeholder\" rel=\"dns-prefetch\"/> <link href=\"ref.placeholder\" rel=\"dns-prefetch\"/> <link href=\"ref.placeholder\" rel=\"dns-prefetch\"/> <link href=\"ref.placeholder\" rel=\"dns-prefetch\"/> <link href=\"ref.placeholder\" rel=\"dns-prefetch\"/> <link href=\"ref.placeholder\" rel=\"dns-prefetch\"/> <link href=\"ref.placeholder\" rel=\"dns-prefetch\"/> <link href=\"ref.placeholder\" rel=\"dns-prefetch\"/> <link href=\"ref.placeholder\" rel=\"dns-prefetch\"/> <link href=\"ref.placeholder\" rel=\"dns-prefetch\"/> <link href=\"ref.placeholder\" rel=\"dns-prefetch\"/> <link href=\"ref.placeholder\" rel=\"dns-prefetch\"/> <link href=\"ref.placeholder\" rel=\"dns-prefetch\"/> <link href=\"ref.placeholder\" rel=\"dns-prefetch\"/> <link href=\"ref.placeholder\" rel=\"dns-prefetch\"/> <link href=\"ref.placeholder\" rel=\"dns-prefetch\"/> <link href=\"ref.placeholder\" rel=\"dns-prefetch\"/> <link href=\"ref.placeholder\" rel=\"dns-prefetch\"/> <link href=\"ref.placeholder\" rel=\"dns-prefetch\"/> <link href=\"ref.placeholder\" rel=\"dns-prefetch\"/> <link href=\"ref.placeholder\" rel=\"dns-prefetch\"/> <link href=\"ref.placeholder\" rel=\"dns-prefetch\"/> <link href=\"ref.placeholder\" rel=\"dns-prefetch\"/> <link href=\"ref.placeholder\" rel=\"dns-prefetch\"/> <link href=\"ref.placeholder\" rel=\"dns-prefetch\"/> <link href=\"ref.placeholder\" rel=\"dns-prefetch\"/> <link href=\"ref.placeholder\" rel=\"dns-prefetch\"/> <link href=\"ref.placeholder\" rel=\"dns-prefetch\"/> <link href=\"ref.placeholder\" rel=\"dns-prefetch\"/> <link href=\"ref.placeholder\" rel=\"dns-prefetch\"/> <link href=\"ref.placeholder\" rel=\"dns-prefetch\"/> <link href=\"ref.placeholder\" rel=\"dns-prefetch\"/> <link href=\"ref.placeholder\" rel=\"dns-prefetch\"/> <link href=\"ref.placeholder\" rel=\"dns-prefetch\"/> <link href=\"ref.placeholder\" rel=\"dns-prefetch\"/> <link href=\"ref.placeholder\" rel=\"dns-prefetch\"/> <link href=\"ref.placeholder\" rel=\"dns-prefetch\"/> <link href=\"ref.placeholder\" rel=\"dns-prefetch\"/> <link href=\"ref.placeholder\" rel=\"dns-prefetch\"/> <link href=\"ref.placeholder\" rel=\"dns-prefetch\"/> <link href=\"ref.placeholder\" rel=\"dns-prefetch\"/> <link href=\"ref.placeholder\" rel=\"dns-prefetch\"/> <link href=\"ref.placeholder\" rel=\"dns-prefetch\"/> <link href=\"ref.placeholder\" rel=\"dns-prefetch\"/> <link href=\"ref.placeholder\" rel=\"dns-prefetch\"/> <link href=\"ref.placeholder\" rel=\"dns-prefetch\"/> <link href=\"ref.placeholder\" rel=\"dns-prefetch\"/> <link href=\"ref.placeholder\" rel=\"dns-prefetch\"/> <link href=\"ref.placeholder\" rel=\"dns-prefetch\"/> <link href=\"ref.placeholder\" rel=\"dns-prefetch\"/> <link href=\"ref.placeholder\" rel=\"dns-prefetch\"/> <link href=\"ref.placeholder\" rel=\"dns-prefetch\"/> <link href=\"ref.placeholder\" rel=\"dns-prefetch\"/> <link href=\"ref.placeholder\" rel=\"dns-prefetch\"/> <link href=\"ref.placeholder\" rel=\"dns-prefetch\"/> <link href=\"ref.placeholder\" rel=\"dns-prefetch\"/> <link href=\"ref.placeholder\" rel=\"dns-prefetch\"/> <link href=\"ref.placeholder\" rel=\"dns-prefetch\"/> <link href=\"ref.placeholder\" rel=\"dns-prefetch\"/> <link href=\"ref.placeholder\" rel=\"dns-prefetch\"/> <link href=\"ref.placeholder\" rel=\"dns-prefetch\"/> <link href=\"ref.placeholder\" rel=\"dns-prefetch\"/> <link href=\"ref.placeholder\" rel=\"dns-prefetch\"/> <link href\n",
            "    Answer: <html lang=\"en\"> <head> <title>University of Arkansas - Pulaski Technical College</title> <link href=\"https://example.com\" rel=\"stylesheet\" type=\"text/css\"/> <link href=\"uaptc.edu.css\" rel=\"stylesheet\" type=\"text/css\"/> <link href=\"uaptc.edu.css\" rel=\"stylesheet\" type=\"text/css\"/> <link href=\"https://example.com\" rel=\"canonical\"/> <link class=\"ally-styles\" href=\"uaptc.edu.css\" id=\"ally-styles\" rel=\"stylesheet\"/> </head> <body class=\"white-bkg ally-tooltips-enabled\"> <a href=\"ref.placeholder\">Skip To Main Content</a><img src=\"https://example.com\" style=\"display:none\"/> <header class=\"header\" id=\"header\"> <div class=\"topbar\"> <div class=\"container\"> <div class=\"row\"> <div class=\"contact-nav col-md-3 col-sm-4 col-xs-2\"><ul><li><a href=\"https://example.com\"><i class=\"glyphicon glyphicon-envelope\"></i><span class=\"hidden-xs\" style=\"padding-left:7px\">Campus Mail</span></a></li><li><a href=\"https://example.com\"><i class=\"glyphicon glyphicon-user\"></i><span class=\"hidden-xs\" style=\"padding-left:7px\">Directory</span></a></li></ul></div> <div class=\"myptc-nav col-md-9 col-sm-8 col-xs-10 text-right\"><ul><li><a href=\"https://example.com\">Campus Portal</a></li><li><a href=\"ref.placeholder\">FinAid Portal</a></li><li><a href=\"ref.placeholder\">Give</a></li></ul><ul><li><a class=\"btn btn-uaptc-red\" href=\"ref.placeholder\">APPLY</a> </li><li><a class=\"btn btn-uaptc-red\" href=\"ref.placeholder\">News</a> </li><li><a class=\"btn btn-uaptc-red\" href=\"https://example.com\">IT Support</a></li></ul></div> </div> </div> </div> <div class=\"main-navigation\"> <div class=\"container\"> <div class=\"row\" data-sf-element=\"Row\"> <div class=\"sf_colsIn col-md-3 branding\" data-placeholder-label=\"LogoImage\" data-sf-element=\"LogoImage\" id=\"Header_T092F6684007_Col00\"><a href=\"ref.placeholder\"><img alt=\"University of Arkansas Pulaski Technical College Logo\" src=\"../../images/default_img.jpeg?sfvrsn=5f761d56_0\" title=\"University of Arkansas – Pulaski Technical College\"/></a></div> <div class=\"sf_colsIn col-md-8 col-sm-11 main-nav-wrapper\" data-placeholder-label=\"Navigation\" data-sf-element=\"Navigation\" id=\"Header_T092F6684007_Col01\"><nav class=\"megamenu\" role=\"navigation\"><ul class=\"nav-menu\"><li class=\"nav-item\"><a href=\"ref.placeholder\" id=\"accessible-megamenu-1681185707306-1\">Admissions</a></li><li class=\"nav-item\"><a href=\"ref.placeholder\" id=\"accessible-megamenu-1681185707306-2\">Academics</a></li><li class=\"nav-item\"><a href=\"ref.placeholder\" id=\"accessible-megamenu-1681185707307-3\">Students</a></li><li class=\"nav-item\"><a href=\"ref.placeholder\" id=\"accessible-megamenu-1681185707307-4\">Business and Community</a></li><li class=\"nav-item\"><a href=\"ref.placeholder\" id=\"accessible-megamenu-1681185707307-5\">About</a></li></ul></nav></div> <div class=\"sf_colsIn col-sm-1 search-container\" data-placeholder-label=\"Search\" data-sf-element=\"Search\" id=\"Header_T092F6684007_Col02\"> <div class=\"search-holder\"> <a aria-controls=\"searchBox\" aria-expanded=\"false\" class=\"search-trigger\" data-toggle=\"collapse\" href=\"ref.placeholder\" role=\"button\"><i class=\"glyphicon glyphicon-search\"></i><span class=\"visually-hidden\">Search Dropdown</span></a> <div class=\"search-box collapse\" id=\"searchBox\"> <div class=\"form-inline\"> <div class=\"form-group\"><label>Search UA-PTC</label><input class=\"form-control search-field\" id=\"0c7dac1f-3d84-41b3-8458-e31645d011f0\" placeholder=\"Search\" title=\"Search input\" type=\"search\" value=\"\"/><button class=\"btn btn-uaptc-red search-button\" id=\"296bf1d7-eb4f-40e6-bd6e-750901dc90c2\" type=\"button\">Search</button></div> <input data-sf-role=\"resultsUrl\" type=\"hidden\" value=\"/search-results\"/><input data-sf-role=\"indexCatalogue\" type=\"hidden\" value=\"uaptc-website\"/><input data-sf-role=\"wordsMode\" type=\"hidden\" value=\"AllWords\"/><input data-sf-role=\"disableSuggestions\" type=\"hidden\" value=\"true\"/><input data-sf-role=\"minSuggestionLength\" type=\"hidden\" value=\"3\"/><input data-sf-role=\"suggestionFields\" type=\"hidden\" value=\"Title,Content,FullName\"/><input data-sf-role=\"language\" type=\"hidden\" value=\"en\"/><input data-sf-role=\"suggestionsRoute\" type=\"hidden\" value=\"/restapi/search/suggestions\"/><input data-sf-role=\"searchTextBoxId\" type=\"hidden\" value=\"#0c7dac1f-3d84-41b3-8458-e31645d011f0\"/><input data-sf-role=\"searchButtonId\" type=\"hidden\" value=\"#296bf1d7-eb4f-40e6-bd6e-750901dc90c2\"/> </div> </div> </div> </div> </div> </div> </div> </header> <main class=\"main\" data-ally-content-id=\"0\" data-ally-webpage=\"\" id=\"main\"> <section class=\"cd-hero uaptc-hero\"> <ul class=\"cd-hero-slider autoplay\"> <li class=\"is-moving selected from-left\"> <span class=\"cd-full-width\" style=\"background-image:url(https://uaptc.edu/images/default-source/homepage-slider-images/web-slider--alum.jpg?sfvrsn=4fcedef9_4)\"> <h2> START HERE. <br/> GO FURTHER. </h2> <p>SummerFall registration is open! New student registration opens April 18.</p> <a class=\"btn btn-uaptc-red\" href=\"https://example.com\" title=\"https://example.com\">APPLY NOW - FREE AND QUICK</a><a class=\"btn btn-uaptc-blue\" href=\"https://example.com\" title=\"https://example.com\">SCHEDULE A REGISTRATION APPOINTMENT</a> </span> </li> </ul> <div class=\"cd-slider-nav\"><nav><span class=\"cd-marker item-1\"></span><ul><li class=\"selected\"><a href=\"ref.placeholder\">slide</a></li></ul></nav></div> </section> <div class=\"row no-side-margin\" data-sf-element=\"Row\"> <div class=\"sf_colsIn col-md-12\" data-placeholder-label=\"Column 1\" data-sf-element=\"Column 1\" id=\"MainContent_C106_Col00\"> <div class=\"row\" data-sf-element=\"Row\"> <div class=\"sf_colsIn col-md-3\" data-placeholder-label=\"Column 1\" data-sf-element=\"Column 1\" id=\"MainContent_C255_Col00\"> <div class=\"small-card sf-mb-s sf-mt-s\"> <a href=\"https://example.com\"><img alt=\"REQUEST INFO\" src=\"../../images/default_img.jpeg?sfvrsn=2a0bd8bc_2\" title=\"REQUEST INFO\"/></a> <div class=\"content\"><a class=\"title\" href=\"https://example.com\">REQUEST INFO</a></div> </div> </div> <div class=\"sf_colsIn col-md-3\" data-placeholder-label=\"Column 2\" data-sf-element=\"Column 2\" id=\"MainContent_C255_Col01\"> <div class=\"small-card sf-mb-s sf-mt-s\"> <a href=\"ref.placeholder\"><img alt=\"PROGRAMS OF STUDY\" src=\"../../images/default_img.jpeg?sfvrsn=6768c2a5_6\" title=\"PROGRAMS OF STUDY\"/></a> <div class=\"content\"><a class=\"title\" href=\"ref.placeholder\">PROGRAMS OFFERED</a></div> </div> </div> <div class=\"sf_colsIn col-md-3\" data-placeholder-label=\"Column 3\" data-sf-element=\"Column 3\" id=\"MainContent_C255_Col02\"> <div class=\"small-card sf-mb-s sf-mt-s\"> <a href=\"ref.placeholder\"><img alt=\"FINANCIAL AID\" src=\"../../images/default_img.jpeg?sfvrsn=14ac2d41_2\" title=\"FINANCIAL AID\"/></a> <div class=\"content\"><a class=\"title\" href=\"ref.placeholder\">FINANCIAL AID</a></div> </div> </div> <div class=\"sf_colsIn col-md-3\" data-placeholder-label=\"Column 4\" data-sf-element=\"Column 4\" id=\"MainContent_C255_Col03\"> <div class=\"small-card sf-mb-s sf-mt-s\"> <a href=\"ref.placeholder\"><img alt=\"Campus News\" src=\"../../images/default_img.jpeg?sfvrsn=f6bc5435_2\" title=\"Campus News\"/></a> <div class=\"content\"><a class=\"title\" href=\"ref.placeholder\">CAMPUS NEWS</a></div> </div> </div> </div> <div class=\"sf_colsIn container\" data-placeholder-label=\"Container\" data-sf-element=\"Container\" id=\"MainContent_C143_Col00\"> <div> <div> <h2><strong>University of Arkansas - Pulaski Technical College is YOUR communitys technical college.</strong></h2> <p>Whether you are beginning college, <a href=\"ref.placeholder\" title=\"transferring to a four-year university\">transferring to a four-year university</a> or going straight into the workforce, UA-PTC equips students with diverse learning opportunities and hands-on, real-world experiences. At UA-PTC, students can expect small class sizes and a high-quality education with caring faculty and staff that are dedicated to student success. UA-PTC offers over <a href=\"ref.placeholder\" title=\"80 accredited programs\">80 accredited programs</a> with classes offered in the daytime, evening and online making it convenient to earn a degree with a flexible learning schedule that fits your life and meets your educational goals. Start Here. Go Further.</p> </div> </div> <div class=\"row\" data-sf-element=\"Row\"> <div class=\"sf_colsIn col-md-4\" data-placeholder-label=\"Column 1\" data-sf-element=\"Column 1\" id=\"MainContent_C250_Col00\"> <div class=\"small-card sf-mb-s sf-mt-s\"> <a href=\"ref.placeholder\"><img alt=\"Campus Calendar\" src=\"../../images/default_img.jpeg?sfvrsn=c02fcd61_8\" title=\"Campus Calendar\"/></a> <div class=\"content\"><a class=\"title\" href=\"ref.placeholder\">Campus Calendar</a></div> </div> </div> <div class=\"sf_colsIn col-md-4\" data-placeholder-label=\"Column 2\" data-sf-element=\"Column 2\" id=\"MainContent_C250_Col01\"> <div class=\"small-card sf-mb-s sf-mt-s\"> <a href=\"ref.placeholder\"><img alt=\"Course Schedule\" src=\"../../images/default_img.jpeg?sfvrsn=e13601b4_8\" title=\"Course Schedule\"/></a> <div class=\"content\"><a class=\"title\" href=\"ref.placeholder\">Course Schedule</a></div> </div> </div> <div class=\"sf_colsIn col-md-4\" data-placeholder-label=\"Column 3\" data-sf-element=\"Column 3\" id=\"MainContent_C250_Col02\"> <div class=\"small-card sf-mb-s sf-mt-s\"> <a href=\"ref.placeholder\"><img alt=\"Online Learning\" src=\"../../images/default_img.jpeg?sfvrsn=f9cab526_6\" title=\"Online Learning\"/></a> <div class=\"content\"><a class=\"title\" href=\"ref.placeholder\">Online Learning</a></div> </div> </div> </div> <div class=\"row\" data-sf-element=\"Row\"> <div class=\"sf_colsIn col-md-4\" data-placeholder-label=\"Column 1\" data-sf-element=\"Column 1\" id=\"MainContent_C251_Col00\"> <div class=\"small-card sf-mb-s sf-mt-s\"> <a href=\"ref.placeholder\"><img alt=\"Career Services\" src=\"../../images/default_img.jpeg?sfvrsn=76d7d464_10\" title=\"Career Services\"/></a> <div class=\"content\"><a class=\"title\" href=\"ref.placeholder\">Career Services</a></div> </div> </div> <div class=\"sf_colsIn col-md-4\" data-placeholder-label=\"Column 2\" data-sf-element=\"Column 2\" id=\"MainContent_C251_Col01\"> <div class=\"small-card sf-mb-s sf-mt-s\"> <a href=\"ref.placeholder\"><img alt=\"Scholarship Opportunities\" src=\"../../images/default_img.jpeg?sfvrsn=6a4c9ded_4\" title=\"Scholarship Opportunities\"/></a> <div class=\"content\"><a class=\"title\" href=\"ref.placeholder\">Scholarship Opportunities</a></div> </div> </div> <div class=\"sf_colsIn col-md-4\" data-placeholder-label=\"Column 3\" data-sf-element=\"Column 3\" id=\"MainContent_C251_Col02\"> <div class=\"small-card sf-mb-s sf-mt-s\"> <a href=\"ref.placeholder\"><img alt=\"University Transfer Agreements\" src=\"../../images/default_img.jpeg?sfvrsn=d3306f2f_2\" title=\"University Transfer Agreements\"/></a> <div class=\"content\"><a class=\"title\" href=\"ref.placeholder\">University Transfer Agreements</a></div> </div> </div> </div> <div> <div> <hr/> </div> </div> <div class=\"row\" data-sf-element=\"Row\"> <div class=\"sf_colsIn col-md-6\" data-placeholder-label=\"Column 1\" data-sf-element=\"Column 1\" id=\"MainContent_C219_Col00\"> <div> <div><img alt=\"Military Friendly\" src=\"../../images/default_img.jpeg?sfvrsn=cc4c2bd9_2\" title=\"Military Friendly\"/></div> </div> </div> <div class=\"sf_colsIn col-md-6\" data-placeholder-label=\"Column 2\" data-sf-element=\"Column 2\" id=\"MainContent_C219_Col01\"> <div> <div> <h2><strong>MILITARY FRIENDLY</strong></h2> <p>UA - Pulaski Tech is dedicated to serving active duty, veteran, and their dependents from all branches of the military who are transferring to a four-year college, going straight into the workforce, or simply taking courses to further their education.</p> <p> <a href=\"ref.placeholder\" title=\"Learn More - Military Friendly\">Learn More</a></p> </div> </div> </div> </div> <div> <div> <hr/> </div> </div> <div class=\"row\" data-sf-element=\"Row\"> <div class=\"sf_colsIn col-md-6\" data-placeholder-label=\"Column 1\" data-sf-element=\"Column 1\" id=\"MainContent_C231_Col00\"> <div> <div> <p><img alt=\"Amazon Career Choice\" src=\"../../images/default_img.jpeg?sfvrsn=b459f32a_2\" title=\"Amazon Career Choice\"/></p> <p>University of Arkansas - Pulaski Technical College is proud to partner with Amazon Career Choice to offer students a pathway to a career. Full-time and part-time Amazon employees are eligible to take part in this program to receive tuition assistance while they expand their skill set.</p> <p><b>What is Amazon Career Choice?</b></p> <p>Amazon Career Choice provides full-time and part-time associates with annual support for tuition, fees and books for programs offered at UA - Pulaski Technical College. Financial aid is available if your cost of attendance is more than the amount provided by the program for eligible applicants, providing a no-cost college education!</p> <p><a href=\"ref.placeholder\" title=\"Get Started Today - Amazon Career Choice\">Get Started Today</a></p> </div> </div> </div> <div class=\"sf_colsIn col-md-6\" data-placeholder-label=\"Column 2\" data-sf-element=\"Column 2\" id=\"MainContent_C231_Col01\"> <div> <div><span class=\"sf-Image-wrapper\" data-sfref=\"[images|OpenAccessDataProvider]9b3080d2-afde-46d1-a1a1-f3f680f66f4d\"><img alt=\"UA-PTC Student\" data-displaymode=\"Original\" src=\"../../images/default_img.jpeg?sfvrsn=59898208_4\" title=\"UA-PTC Student\"/></span></div> </div> </div> </div> <div> <div> <hr/> </div> </div> <div class=\"row\" data-sf-element=\"Row\"> <div class=\"sf_colsIn col-md-6\" data-placeholder-label=\"Column 1\" data-sf-element=\"Column 1\" id=\"MainContent_C172_Col00\"> <div> <div><img alt=\"UA Fayetteville Transfer Opportunity\" src=\"../../images/default_img.jpeg?sfvrsn=b8002bb4_2\"/></div> </div> </div> <div class=\"sf_colsIn col-md-6\" data-placeholder-label=\"Column 2\" data-sf-element=\"Column 2\" id=\"MainContent_C172_Col01\"> <div> <div> <h2><strong>UNIVERSITY OF ARKANSAS TRANSFER OPPORTUNITY</strong></h2> <p>Did you know after graduating with an associates degree from UA-PTC that you can transfer to UA Fayetteville paying the same basic credit hour tuition paid at UA-PTC?</p> <p> <a href=\"ref.placeholder\" title=\"Learn More - Arkansas Transfer Achievement Scholarship\">Learn More</a></p> </div> </div> </div> </div> <div> <div> <hr/> <br/> <h2><strong>WHAT OUR STUDENTS HAVE TO SAY!</strong></h2> <br/> <img alt=\"Student Testimonies\" src=\"https://example.com\" title=\"Student Testimonies\"/> <p><a href=\"ref.placeholder\" title=\"Read More Student Testimonies\">Read More Student Testimonies</a></p> <p></p> </div> </div> </div> </div> </div> </main> <footer class=\"footer\" id=\"footer\"> <div class=\"sf_colsIn container\" data-placeholder-label=\"Container\" data-sf-element=\"Container\" id=\"Footer_T092F6684010_Col00\"> <div class=\"row\" data-sf-element=\"Row\"> <div class=\"sf_colsIn col-md-3\" data-placeholder-label=\"About Us\" data-sf-element=\"About Us\" id=\"Footer_T092F6684013_Col00\"> <div> <div> <p><strong class=\"short-underline brand-red\">ABOUT UA-PTC</strong></p> </div> </div> <img alt=\"Logo for the UA-PTC\" src=\"../../images/default_img.jpeg?sfvrsn=a5f463dc_1\" title=\"University of Arkansas – Pulaski Technical College\"/> <div class=\"top-margin-sm\"> <div> <p><strong>Mission Statement</strong></p> <p>University of Arkansas Pulaski Technical College provides access to high-quality education that promotes student learning and enables individuals to develop to their fullest potential.</p> <p> <strong>UA Pulaski Technical College</strong> <br/> 3000 West Scenic Drive <br/> North Little Rock, AR 72118 <br/> Phone 501 812-2200 </p> </div> </div> <p> <b>Higher Learning Commission</b> <br/> 230 South LaSalle Street, Suite 7-500 <br/> Chicago, IL 60604 <br/> Phone 800 621-7440 </p> </div> <div class=\"sf_colsIn col-md-2\" data-placeholder-label=\"Useful Links\" data-sf-element=\"Useful Links\" id=\"Footer_T092F6684013_Col01\"> <div> <div> <p><strong class=\"short-underline brand-red\">QUICK LINKS</strong></p> </div> </div> <div> <div><ul class=\"diamond-list\"><li><a href=\"ref.placeholder\" title=\"Apply\">Apply</a></li><li><a href=\"ref.placeholder\" title=\"Earn a Degree\">Earn a Degree</a></li><li><a href=\"ref.placeholder\" title=\"Schedule a Visit\">Schedule a Visit</a></li><li><a href=\"ref.placeholder\" title=\"Pay Online\">Pay Online</a></li><li><a href=\"ref.placeholder\" title=\"Course Schedule\">Course Schedule</a></li><li><a href=\"ref.placeholder\" title=\"Blackboard\">Blackboard</a></li><li><a href=\"ref.placeholder\" title=\"Human Resources\">Human Resources</a></li><li><a href=\"ref.placeholder\" title=\"Transcript Request\">Transcript Request</a></li><li><a href=\"ref.placeholder\" title=\"Financial Aid\">Financial Aid</a></li><li><a href=\"ref.placeholder\" title=\"Disability Services\">Disability Services</a></li><li><a href=\"ref.placeholder\" title=\"Library\">Library</a></li><li><a href=\"ref.placeholder\" title=\"Tech Support\">Tech Support</a></li><li><a href=\"ref.placeholder\" title=\"Consumer Info\">Consumer Info</a></li><li><a href=\"ref.placeholder\" title=\"Student Right to Know Act\">Student Right to Know Act</a></li><li><a href=\"ref.placeholder\" title=\"Security Report\">Security Report</a></li><li><a href=\"ref.placeholder\" title=\"CARES Report\">CARES Report</a></li><li><a href=\"ref.placeholder\" title=\"Campus Policies\">Campus Policies</a></li><li><a href=\"ref.placeholder\" title=\"Privacy Policy\">Privacy Policy</a></li></ul></div> </div> </div> <div class=\"sf_colsIn col-md-3\" data-placeholder-label=\"Latest Tweets\" data-sf-element=\"Latest Tweets\" id=\"Footer_T092F6684013_Col02\"> <div> <div> <p><strong class=\"short-underline brand-red\">TWITTER</strong></p> </div> </div> <div class=\"twitter-timeline twitter-timeline-rendered\" style=\"display:flex;max-width:100%;margin-top:0px;margin-bottom:0px\"></div> </div> <div class=\"sf_colsIn col-md-4\" data-placeholder-label=\"Quick Contact\" data-sf-element=\"Quick Contact\" id=\"Footer_T092F6684013_Col03\"> <div> <div> <p><strong class=\"short-underline brand-red\">QUICK CONTACT</strong></p> </div> </div> <div> <div> <table> <tbody> <tr><th colspan=\"3\" scope=\"col\"><span class=\"offscreen\">Quick Contact</span></th></tr> <tr> <td><a href=\"ref.placeholder\" title=\"(501) 812-2200\"><img alt=\"(501) 812-2200\" src=\"../../images/default_img.jpeg?sfvrsn=767caf1d_2\"/></a></td> <td></td> <td>501 812-2200</td> </tr> <tr> <td></td> <td></td> <td></td> </tr> <tr> <td><a href=\"https://example.com\" title=\"Driving directions, locations, and campus maps\"><img alt=\"Driving directions, locations, and campus maps\" src=\"../../images/default_img.jpeg?sfvrsn=146c393d_2\"/></a></td> <td></td> <td><a href=\"https://example.com\" title=\"Driving directions, locations, and campus maps\">Driving directions, locations, and campus maps</a></td> </tr> </tbody> </table> <p><a class=\"btn btn-uaptc-red\" href=\"ref.placeholder\" title=\"Contact UA-PTC\">CONTACT UA-PTC</a></p> </div> </div> </div> </div> </div> <div class=\"sf_colsIn container no-border\" data-placeholder-label=\"Container\" data-sf-element=\"Container\" id=\"Footer_T092F6684011_Col00\"> <div class=\"row\" data-sf-element=\"Row\"> <div class=\"sf_colsIn col-md-9\" data-placeholder-label=\"Column 1\" data-sf-element=\"Column 1\" id=\"Footer_T092F6684030_Col00\"> <div> <div>Copyright 2023 University of Arkansas - Pulaski Technical College Questions or Comments Contact <a href=\"mailto:lparker@uaptc.edu\" title=\"Webmaster\">Webmaster</a>. <a href=\"ref.placeholder\" title=\"SiteMap\">SiteMap</a></div> </div> </div> <div class=\"sf_colsIn col-md-3\" data-placeholder-label=\"Column 2\" data-sf-element=\"Column 2\" id=\"Footer_T092F6684030_Col01\"> <div><ul class=\"list-inline sf-social-share\"><li><a href=\"https://example.com\" title=\"Facebook\"><span class=\"fa fa-facebook\"></span></a></li><li><a href=\"https://example.com\" title=\"Twitter\"><span class=\"fa fa-twitter\"></span></a></li><li><a href=\"https://example.com\" title=\"YouTube\"><span class=\"fa fa-youtube\"></span></a></li><li><a href=\"https://example.com\" title=\"Instagram\"><span class=\"fa fa-instagram\"></span></a></li></ul></div> </div> </div> </div> </footer> <div class=\"ally-af-launch-container ally-af-style-flag_small\" id=\"ally-af-launcher\"><button data-ally-content-ref=\"0\" data-ally-invoke=\"alternativeformats\"><img alt=\"\" aria-hidden=\"true\" class=\"ally-af-launch-icon-white\" src=\"../../images/default_img.svg\"/><img alt=\"\" aria-hidden=\"true\" class=\"ally-af-launch-icon-black\" src=\"../../images/default_img.svg\"/><span>Download alternative formats...</span></button></div> <div aria-live=\"assertive\" aria-relevant=\"additions\" class=\"ally-helper-hidden-accessible\" role=\"log\"></div> </body> </html> /* START CSS */.fa { display: inline-block; font: normal normal normal 14px/1 FontAwesome; font-size: inherit; text-rendering: auto; } @charset \"UTF-8\" ; html { -webkit-tap-highlight-color: transparent } a,table { background-color: transparent }.label { vertical-align: baseline } hr,img { border: 0 } html { -webkit-text-size-adjust: 100% } footer,header,main,nav,section { display: block } [hidden] { display: none } b,strong { font-weight: 700 } img { vertical-align: middle } hr { box-sizing: content-box; height: 0 } button,input { color: inherit; font: inherit; margin: 0 } button { overflow: visible } button,html input[type=button],input[type=reset],input[type=submit] { -webkit-appearance: button; cursor: pointer } button[disabled],html input[disabled] { cursor: default } input[type=checkbox],input[type=radio] { box-sizing: border-box; padding: 0 } table { border-collapse: collapse; border-spacing: 0 } td,th { padding: 0 }.glyphicon,.list-inline>li,label { display: inline-block } body { background-color: #fff }.glyphicon { position: relative; top: 1px; font-family: \"Glyphicons Halflings\"; font-weight: 400; } * { -webkit-box-sizing: border-box; box-sizing: border-box } body { margin: 0; color: #333 } button,input { font-family: inherit; font-size: inherit; } hr { margin-top: 20px; margin-bottom: 20px; border-top: 1px solid #eee } [role=button] { cursor: pointer }.h2,h2 { font-family: inherit; font-weight: 500; color: inherit }.h2,h2 { margin-top: 20px; margin-bottom: 10px }.label { font-size: 75% }.h2,h2 { font-size: 30px } p { margin: 0 0 10px }.label,label { font-weight: 700 }.text-right { text-align: right } ul { margin-top: 0 } ul ul { margin-bottom: 0 } ul { margin-bottom: 10px }.list-inline { padding-left: 0; list-style: none; margin-left: -5px }.list-inline>li { padding-left: 5px; padding-right: 5px } @media (min-width:768px) {.container { width: 750px } } th { text-align: left }.form-control { -webkit-box-shadow: inset 0 1px 1px rgba(0,0,0,.075) }.container { margin-right: auto; margin-left: auto }.container { padding-left: 15px; padding-right: 15px } @media (min-width:992px) {.container { width: 970px } } @media (min-width:1200px) {.container { width: 1170px } }.row { margin-left: -15px; margin-right: -15px }.col-md-12,.col-md-2,.col-md-3,.col-md-4,.col-md-6,.col-md-8,.col-md-9,.col-sm-1,.col-sm-11,.col-sm-4,.col-sm-8,.col-xs-10,.col-xs-2 { position: relative; min-height: 1px; padding-left: 15px; padding-right: 15px }.col-xs-10,.col-xs-2 { float: left }.col-xs-2 { width: 17% }.col-xs-10 { width: 83% } @media (min-width:768px) {.col-sm-1,.col-sm-11,.col-sm-4,.col-sm-8 { float: left }.col-sm-1 { width: 8% }.col-sm-4 { width: 33% }.col-sm-8 { width: 67% }.col-sm-11 { width: 92% } } @media (min-width:992px) {.col-md-12,.col-md-2,.col-md-3,.col-md-4,.col-md-6,.col-md-8,.col-md-9 { float: left }.col-md-2 { width: 17% }.col-md-3 { width: 25% }.col-md-4 { width: 33% }.col-md-6 { width: 50% }.col-md-8 { width: 67% }.col-md-9 { width: 75% }.col-md-12 { width: 100% } }.table { width: 100%; max-width: 100%; margin-bottom: 20px }.table>tbody>tr>td,.table>tbody>tr>th { padding: 8px; vertical-align: top; border-top: 1px solid #ddd }.table>tbody+tbody { border-top: 2px solid #ddd }.table.table { background-color: #fff } table td[class*=col-],table th[class*=col-] { position: static; float: none; display: table-cell } label { max-width: 100%; margin-bottom: 5px } input[type=search] { -webkit-box-sizing: border-box; box-sizing: border-box; -webkit-appearance: none } input[type=checkbox],input[type=radio] { margin: 4px 0 0; margin-top: 1px\\ ; }.form-control { font-size: 14px; color: #555; display: block } input[type=file] { display: block } input[type=range] { display: block; width: 100% }.form-control { width: 100%; height: 34px; padding: 6px 12px; background-color: #fff; border: 1px solid #ccc; -webkit-transition: -o-transition: }.form-control[disabled],.form-control[readonly] { background-color: #eee; opacity: 1 }.form-control[disabled] { cursor: not-allowed }.form-group { margin-bottom: 15px } input[type=checkbox][disabled],input[type=radio][disabled] { cursor: not-allowed } @media (min-width:768px) {.form-inline.form-control,.form-inline.form-group { display: inline-block }.form-inline.form-group { margin-bottom: 0; vertical-align: middle }.form-inline.form-control { width: auto; vertical-align: middle } }.btn { display: inline-block; margin-bottom: 0; font-weight: 400; text-align: center; vertical-align: middle; touch-action: manipulation; cursor: pointer; border: 1px solid transparent; white-space: nowrap; padding: 6px 12px; font-size: 14px; -webkit-user-select: none; user-select: none }.btn[disabled] { cursor: not-allowed; opacity:.65; filter: alpha(opacity=65); -webkit-box-shadow: none; }.collapse { display: none } [data-toggle=buttons]>.btn input[type=checkbox],[data-toggle=buttons]>.btn input[type=radio] { position: absolute; clip: rect(0,0,0,0); pointer-events: none }.nav { margin-bottom: 0; padding-left: 0; list-style: none }.nav>li,.nav>li>a { display: block; position: relative }.nav>li>a { padding: 10px 15px }.nav>li>a>img { max-width: none }.label { display: inline; padding:.2em.6em.3em; color: #fff; text-align: center; white-space: nowrap; }.btn.label { position: relative; top: -1px } @media (max-width:767px) {.hidden-xs { display: none!important } } [class=\"icon- -single\"] { font-family: sf-icon-font; vertical-align: middle; font-weight: 400; speak: none; text-decoration: inherit; text-rendering: geometricPrecision; }.sf-mt-s { margin-top: 10px } div.sf-mb-s { margin-bottom: 10px } body[contenteditable=true] { padding: 20px }.uaptc-hero img,img { max-width: 100% } [data-sf-role=error-message],[data-sf-role=list-loading-indicator],[data-sf-role=comments-new-message-error],[data-sf-role=comments-new-logged-out-view],[data-sf-role=comments-new-name-error],[data-sf-role=captcha-container],[data-sf-role=single-comment-template],[data-sf-role=comments-new-pending-approval-message],[data-sf-role=comments-load-more-button],[data-sf-role=comments-new-form-button],[data-sf-role=comments-sort-new-button],[data-sf-role=comments-sort-old-button],[data-sf-role=comments-new-requires-authentication],[data-sf-role=list-rating-wrapper],[data-sf-role=review-new-form-replacement] { display: none }.sf-social-share li,.sf-social-share span { display: inline-block }.sf-social-share li { vertical-align: top }.visually-hidden { position: absolute; width: 1px; height: 1px; overflow: hidden; clip: rect(1px,1px,1px,1px); white-space: nowrap }.brand-red { color: #a41e34 }.white-bkg #main { background: #fff; padding: 0 } a.btn.btn-uaptc-red,button.btn.btn-uaptc-red { border: none; padding: 10px; color: #fff; text-decoration: none; background: #a41e34; border-bottom: 4px solid #791626 } a.btn.btn-uaptc-red { background: #a41e34!important; border-bottom: 4px solid #791626!important } a.btn.btn-uaptc-blue,button.btn.btn-uaptc-blue { border: none; padding: 10px 20px; color: #fff; text-decoration: none; background: #273380; border-bottom: 4px solid #1b2359 } a { text-decoration: underline } a[href=\"#main\"] { position: absolute; top: 0; right: 100% } ul[class$=\"-list\"] { padding: 0 } ul.diamond-list li { padding: 0 0 0 1.5em; display: block } liul.diamond-list li { position: relative; margin: 0; list-style-type: none } a { color: #a41e34 } [v-cloak] { display: none } #alphabet a,.main-navigation.nav-item>a,a.uaptc-hero a { text-decoration: none } body,html { font-family: Lato,sans-serif; font-size: 100% } h2 { font-family: Montserrat,sans-serif } h2 { margin-bottom: 20px } h2 { font-size: 1.75rem } p { font-size: 1rem } #main { background: #e6e6e6; padding: 40px 0 } #main.row [class^=sf_]>div { background: #fff; padding: 20px; }.no-side-margin { margin-left: 0; margin-right: 0 }.search-holder.search-trigger { display: none }.search-holder.search-box { position: static }.search-holder.search-box.collapse { display: block }.topbar a,.topbar li { display: inline-block }.topbar { background-color: #333; padding: 5px 0; color: #fff }.topbar a { color: #fff; padding: 5px; font-size:.8em }.topbar ul { padding: 0; margin: 0; list-style: none }.topbar button { background: #a41e34; border: none; color: #fff; padding: 5px 10px; margin: 0 5px } @media (min-width:765px) {.topbar ul { display: inline-block }.topbar a { padding: 10px } }.main-navigation { position: relative }.main-navigation.branding img { min-width: 100% }.main-navigation.container { position: relative }.main-navigation.main-nav-wrapper { background: #ccc; padding: 0; margin-top: 20px }.main-navigation.nav-menu { padding: 0; list-style: none }.main-navigation.nav-item { display: block; width: 100%; background: #ccc; border-bottom: 3px solid #fff; position: relative }.main-navigation.nav-item>a { color: #273380; font-size: 1.75rem; padding: 10px 20px; width: 100%; display: block }.main-navigation.nav-item>a span { display: none }.footer { background: url(ref.placeholder) #e6e5e5; border-top: 5px solid #a41e34; padding: 40px 0 0 }.footer p { font-size:.85rem; margin: 20px 0 }.footer.container { border-bottom: 1px solid #000; padding-bottom: 40px }.footer ul { padding: 0; margin: 0; list-style: none }.footer.container.no-border { padding: 10px 0; border-bottom: none }.uaptc-hero { font-size: 1rem; position: relative }.uaptc-hero * { -webkit-box-sizing: border-box; box-sizing: border-box }.uaptc-hero ul { list-style: none; padding: 0; margin: 0 }.uaptc-hero a { color: #a41e34 }.uaptc-hero #cd-logo { float: left; margin: 13px 0 0 5% }.uaptc-hero #cd-logo img { display: block }.uaptc-hero.cd-hero-slider.cd-full-width,.uaptc-hero.cd-hero-slider li { background-size: cover }.uaptc-hero.cd-hero-slider { position: relative; height: 360px; overflow: hidden }.uaptc-hero.cd-hero-slider li { position: absolute; top: 0; left: 0; width: 100%; height: 100%; -webkit-transform: translateX(100%); -o-transform: translateX(100%); transform: translateX(100%); background-color: #333 }.uaptc-hero.cd-hero-slider li.selected { position: relative; -webkit-transform: translateX(0); -o-transform: translateX(0); transform: translateX(0) }.uaptc-hero.cd-hero-slider li.is-moving,.uaptc-hero.cd-hero-slider li.selected { -webkit-transition: -webkit-transform.5s; -moz-transition: }.uaptc-hero.cd-hero-slider.cd-full-width { position: absolute; width: 100%; height: 100%; z-index: 1; left: 0; top: 0; padding-top: 25px; text-align: center; -webkit-backface-visibility: hidden; backface-visibility: hidden; -webkit-transform: translateZ(0); -o-transform: translateZ(0); transform: translateZ(0) }.uaptc-hero.cd-hero-slider h2,.uaptc-hero.cd-hero-slider p { margin: 0 auto 14px; color: #fff; width: 90%; max-width: 400px }.uaptc-hero.cd-hero-slider h2 { font-size: 2.4rem }.uaptc-hero.cd-hero-slider p { font-size: 1.4rem; }.uaptc-hero.cd-slider-nav { position: absolute; bottom: 0; width: 100%; text-align: center }.uaptc-hero.cd-slider-nav li { display: inline-block }.uaptc-hero.cd-slider-nav a { display: inline-block; background: #fff; overflow: hidden; margin: 10px; width: 10px; height: 10px; color: #fff; }.uaptc-hero.cd-slider-nav li.selected a { background: #a41e34; color: #a41e34; -webkit-transform: rotate(45deg); transform: rotate(45deg) } #alphabet { overflow: hidden } #alphabet a { color: #273380; width: 3%; float: left; cursor: pointer; display: block; font-size: 16px; text-align: center; }.ally-helper-hidden-accessible { border: 0; clip: rect(0, 0, 0, 0); height: 1px; margin: -1px; overflow: hidden; padding: 0; position: absolute; width: 1px; }.ally-af-launch-container { background-color: rgba(0, 0, 0, 0.9); display: inline-block; z-index: 2147483638; }.ally-af-launch-container.ally-af-style-flag_small { position: fixed; right: 0; }.ally-af-launch-container.ally-af-style-flag_small { bottom: 10%; }.ally-af-launch-container > button { color: #FFF; cursor: pointer; display: block; font-family: \"Roboto\", \"Fira Sans\", \"Segoe UI\", \"HelveticaNeue-Light\", \"Helvetica Neue Light\", \"Helvetica Neue\", Helvetica, Arial, sans-serif; font-size: 16px; font-weight: 400; margin: 0; padding: 0; position: static; }.ally-af-launch-container.ally-af-style-flag_small > button { background: none; border: solid 1px #FFF; border-right: none; }.ally-af-launch-container.ally-af-style-flag_small > button { padding: 15px; }.ally-af-launch-container.ally-af-style-flag_small > button > img { vertical-align: middle; width: 25px; }.ally-af-launch-container.ally-af-style-flag_small > button > img.ally-af-launch-icon-black { display: none; }.ally-af-launch-container.ally-af-style-flag_small > button > img.ally-af-launch-icon-white { display: inline-block; }.ally-af-launch-container.ally-af-style-flag_small > button > span { border: 0; clip: rect(0, 0, 0, 0); height: 1px; margin: -1px; overflow: hidden; padding: 0; position: absolute; width: 1px; }\n",
            "      Bleu: 0.09\n",
            "\n",
            "Prediction: <html lang=\"en\"> <head> <title>The World of Science</title> <link href=\"https://example.com\" rel=\"canonical\"/> <link href=\"ref.placeholder\" rel=\"dns-prefetch\"/> <link href=\"ref.placeholder\" rel=\"dns-prefetch\"/> <link href=\"ref.placeholder\" rel=\"dns-prefetch\"/> <link href=\"ref.placeholder\" rel=\"dns-prefetch\"/> <link href=\"ref.placeholder\" rel=\"dns-prefetch\"/> <link href=\"ref.placeholder\" rel=\"dns-prefetch\"/> <link href=\"ref.placeholder\" rel=\"dns-prefetch\"/> <link href=\"ref.placeholder\" rel=\"dns-prefetch\"/> <link href=\"ref.placeholder\" rel=\"dns-prefetch\"/> <link href=\"ref.placeholder\" rel=\"dns-prefetch\"/> <link href=\"ref.placeholder\" rel=\"dns-prefetch\"/> <link href=\"ref.placeholder\" rel=\"dns-prefetch\"/> <link href=\"ref.placeholder\" rel=\"dns-prefetch\"/> <link href=\"ref.placeholder\" rel=\"dns-prefetch\"/> <link href=\"ref.placeholder\" rel=\"dns-prefetch\"/> <link href=\"ref.placeholder\" rel=\"dns-prefetch\"/> <link href=\"ref.placeholder\" rel=\"dns-prefetch\"/> <link href=\"ref.placeholder\" rel=\"dns-prefetch\"/> <link href=\"ref.placeholder\" rel=\"dns-prefetch\"/> <link href=\"ref.placeholder\" rel=\"dns-prefetch\"/> <link href=\"ref.placeholder\" rel=\"dns-prefetch\"/> <link href=\"ref.placeholder\" rel=\"dns-prefetch\"/> <link href=\"ref.placeholder\" rel=\"dns-prefetch\"/> <link href=\"ref.placeholder\" rel=\"dns-prefetch\"/> <link href=\"ref.placeholder\" rel=\"dns-prefetch\"/> <link href=\"ref.placeholder\" rel=\"dns-prefetch\"/> <link href=\"ref.placeholder\" rel=\"dns-prefetch\"/> <link href=\"ref.placeholder\" rel=\"dns-prefetch\"/> <link href=\"ref.placeholder\" rel=\"dns-prefetch\"/> <link href=\"ref.placeholder\" rel=\"dns-prefetch\"/> <link href=\"ref.placeholder\" rel=\"dns-prefetch\"/> <link href=\"ref.placeholder\" rel=\"dns-prefetch\"/> <link href=\"ref.placeholder\" rel=\"dns-prefetch\"/> <link href=\"ref.placeholder\" rel=\"dns-prefetch\"/> <link href=\"ref.placeholder\" rel=\"dns-prefetch\"/> <link href=\"ref.placeholder\" rel=\"dns-prefetch\"/> <link href=\"ref.placeholder\" rel=\"dns-prefetch\"/> <link href=\"ref.placeholder\" rel=\"dns-prefetch\"/> <link href=\"ref.placeholder\" rel=\"dns-prefetch\"/> <link href=\"ref.placeholder\" rel=\"dns-prefetch\"/> <link href=\"ref.placeholder\" rel=\"dns-prefetch\"/> <link href=\"ref.placeholder\" rel=\"dns-prefetch\"/> <link href=\"ref.placeholder\" rel=\"dns-prefetch\"/> <link href=\"ref.placeholder\" rel=\"dns-prefetch\"/> <link href=\"ref.placeholder\" rel=\"dns-prefetch\"/> <link href=\"ref.placeholder\" rel=\"dns-prefetch\"/> <link href=\"ref.placeholder\" rel=\"dns-prefetch\"/> <link href=\"ref.placeholder\" rel=\"dns-prefetch\"/> <link href=\"ref.placeholder\" rel=\"dns-prefetch\"/> <link href=\"ref.placeholder\" rel=\"dns-prefetch\"/> <link href=\"ref.placeholder\" rel=\"dns-prefetch\"/> <link href=\"ref.placeholder\" rel=\"dns-prefetch\"/> <link href=\"ref.placeholder\" rel=\"dns-prefetch\"/> <link href=\"ref.placeholder\" rel=\"dns-prefetch\"/> <link href=\"ref.placeholder\" rel=\"dns-prefetch\"/> <link href=\"ref.placeholder\" rel=\"dns-prefetch\"/> <link href=\"ref.placeholder\" rel=\"dns-prefetch\"/> <link href=\"ref.placeholder\" rel=\"dns-prefetch\"/> <link href=\"ref.placeholder\" rel=\"dns-prefetch\"/> <link href=\"ref.placeholder\" rel=\"dns-prefetch\"/> <link href=\"ref.placeholder\" rel=\"dns-prefetch\"/> <link href=\"ref.placeholder\" rel=\"dns-prefetch\"/> <link href=\"ref.placeholder\" rel=\"dns-prefetch\"/> <link href=\"ref.placeholder\" rel=\"dns-prefetch\"/> <link href=\"ref.placeholder\" rel=\"dns-prefetch\"/> <link href=\"ref.placeholder\" rel=\"dns-prefetch\"/> <link href=\"ref.placeholder\" rel=\"dns-prefetch\"/> <link href=\"ref.placeholder\" rel=\"dns-prefetch\"/> <link href=\"ref.placeholder\" rel=\"dns-prefetch\"/> <link href=\"ref.placeholder\" rel=\"dns-prefetch\"/> <link href=\"ref.placeholder\" rel=\"dns-prefetch\"/> <link href=\"ref.placeholder\" rel=\"dns-prefetch\"/> <link href=\"ref.placeholder\" rel=\"dns-prefetch\"/> <link href=\"ref.placeholder\" rel=\"dns-prefetch\"/> <link href=\"ref.placeholder\" rel=\"dns-prefetch\"/> <link href=\"ref.placeholder\" rel=\"dns-prefetch\"/> <link href=\"ref.placeholder\" rel=\"dns-prefetch\"/> <link href=\"ref.placeholder\" rel=\"dns-prefetch\"/> <link href=\"ref.placeholder\" rel=\"dns-prefetch\"/> <link href=\"ref.placeholder\" rel=\"dns-prefetch\"/> <link href=\"ref.placeholder\" rel=\"dns-prefetch\"/> <link href=\"ref.placeholder\" rel=\"dns-prefetch\"/> <link href=\"ref.placeholder\" rel=\"dns-prefetch\"/> <link href=\"ref.placeholder\" rel=\"dns-prefetch\"/> <link href=\"ref.placeholder\" rel=\"dns-prefetch\"/> <link href=\"ref.placeholder\" rel=\"dns-prefetch\"/> <link href=\"ref.placeholder\" rel=\"dns-prefetch\"/> <link href=\"ref.placeholder\" rel=\"dns-prefetch\"/> <link href=\"ref.placeholder\" rel=\"dns-prefetch\"/> <link href=\"ref.placeholder\" rel=\"dns-prefetch\"/> <link href=\"ref.placeholder\" rel=\"dns-prefetch\"/> <link href=\"ref.placeholder\" rel=\"dns-prefetch\"/> <link href=\"ref.placeholder\" rel=\"dns-prefetch\"/> <link href=\"ref.placeholder\" rel=\"dns-prefetch\"/> <link href=\"ref.placeholder\" rel=\"dns-prefetch\"/> <link href=\"ref.placeholder\" rel=\"dns-prefetch\"/> <link href=\"ref.placeholder\" rel=\"dns-prefetch\"/> <link href=\"ref.placeholder\" rel=\"dns-prefetch\"/> <link href=\"ref.placeholder\" rel=\"dns-prefetch\"/> <link href=\"ref.placeholder\" rel=\"dns-prefetch\"/> <link href=\"ref.placeholder\" rel=\"dns-prefetch\"/> <link href=\"ref.placeholder\" rel=\"dns-prefetch\"/> <link href=\"ref.placeholder\" rel=\"dns-prefetch\"/> <link href=\"ref.placeholder\" rel=\"dns-prefetch\"/> <link href=\"ref.placeholder\" rel=\"dns-prefetch\"/> <link href=\"ref.placeholder\" rel=\"dns-prefetch\"/> <link href=\"ref.placeholder\" rel=\"dns-prefetch\"/> <link href=\"ref.placeholder\" rel=\"dns-prefetch\"/> <link href=\"ref.placeholder\" rel=\"dns-prefetch\"/> <link href=\"ref.placeholder\" rel=\"dns-prefetch\"/> <link href=\"ref.placeholder\" rel=\"dns-prefetch\"/> <link href=\"ref.placeholder\" rel=\"dns-prefetch\"/> <link href=\"ref.placeholder\" rel=\"dns-prefetch\"/> <link href=\"ref.placeholder\" rel=\"dns-prefetch\"/> <link href=\"ref.placeholder\" rel=\"dns-prefetch\"/> <link href=\"ref.placeholder\" rel=\"dns-prefetch\"/> <link href=\"ref.placeholder\" rel=\"dns-prefetch\"/> <link href=\"ref.placeholder\" rel=\"dns-prefetch\"/> <link href=\"ref.placeholder\" rel=\"dns-prefetch\"/> <link href=\"ref.placeholder\" rel=\"dns-prefetch\"/> <link href=\"ref.placeholder\" rel=\"dns-prefetch\"/> <link href=\"ref.placeholder\" rel=\"dns-prefetch\"/> <link href=\"ref.placeholder\" rel=\"dns-prefetch\"/> <link href=\"ref.placeholder\" rel=\"dns-prefetch\"/> <link href=\"ref.placeholder\" rel=\"dns-prefetch\"/> <link href=\"ref.placeholder\" rel=\"dns-prefetch\"/> <link href=\"ref.placeholder\" rel=\"dns-prefetch\"/> <link href=\"ref.placeholder\" rel=\"dns-prefetch\"/> <link href=\"ref.placeholder\" rel=\"dns-prefetch\"/> <link href=\"ref.placeholder\" rel=\"dns-prefetch\"/> <link href=\"ref.placeholder\" rel=\"dns-prefetch\"/> <link href=\"ref.placeholder\" rel=\"dns-prefetch\"/> <link href=\"ref.placeholder\" rel=\"dns-prefetch\"/> <link href=\"ref.placeholder\" rel=\"dns-prefetch\"/> <link href=\"ref.placeholder\" rel=\"dns-prefetch\"/> <link href=\"ref.placeholder\" rel=\"dns-prefetch\"/> <link href=\"ref.placeholder\" rel=\"dns-prefetch\"/> <link href=\"ref.placeholder\" rel=\"dns-prefetch\"/> <link href=\"ref.placeholder\" rel=\"dns-prefetch\"/> <link href=\"ref.placeholder\" rel=\"dns-prefetch\"/> <link href=\"ref.placeholder\" rel=\"dns-prefetch\"/> <link href=\"ref.placeholder\" rel=\"dns-prefetch\"/> <link href=\"ref.placeholder\" rel=\"dns-prefetch\"/> <link href=\"ref.placeholder\" rel=\"dns-prefetch\"/> <link href=\"ref.placeholder\" rel=\"dns-prefetch\"/> <link href=\"ref.placeholder\" rel=\"dns-prefetch\"/> <link href=\"ref.placeholder\" rel=\"dns-prefetch\"/> <link href=\"ref.placeholder\" rel=\"dns-prefetch\"/> <link href=\"ref.placeholder\" rel=\"dns-prefetch\"/> <link href=\"ref.placeholder\" rel=\"dns-prefetch\"/> <link href=\"ref.placeholder\" rel=\"dns-prefetch\"/> <link href=\"ref.placeholder\" rel=\"dns-prefetch\"/> <link href=\"ref.placeholder\" rel=\"dns-prefetch\"/> <link href=\"ref.placeholder\" rel=\"dns-prefetch\"/> <link href=\"ref.placeholder\" rel=\"dns-prefetch\"/> <link href=\"ref.placeholder\" rel=\"dns-prefetch\"/> <link href=\"ref.placeholder\" rel=\"dns-prefetch\"/> <link href=\"ref.placeholder\" rel=\"dns-prefetch\"/> <link href=\"ref.placeholder\" rel=\"dns-prefetch\"/> <link href=\"ref.placeholder\" rel=\"dns-prefetch\"/> <link href=\"ref.placeholder\" rel=\"dns-prefetch\"/> <link href=\"ref.placeholder\" rel=\"dns-prefetch\"/> <link href=\"ref.placeholder\" rel=\"dns-prefetch\"/> <link href=\"ref.placeholder\" rel=\"dns-prefetch\"/> <link href=\"ref.placeholder\" rel=\"dns-prefetch\"/> <link href=\"ref.placeholder\" rel=\"dns-prefetch\"/> <link href=\"ref.placeholder\" rel=\"dns-prefetch\"/> <link href=\"ref.placeholder\" rel=\"dns-prefetch\"/> <link href=\"ref.placeholder\" rel=\"dns-prefetch\"/> <link href=\"ref.placeholder\" rel=\"dns-prefetch\"/> <link href=\"ref.placeholder\" rel=\"dns-prefetch\"/> <link href=\"ref.placeholder\" rel=\"dns-prefetch\"/> <link href=\"ref.placeholder\" rel=\"dns-prefetch\"/> <link href=\"ref.placeholder\" rel=\"dns-prefetch\"/> <link href=\"ref.placeholder\" rel=\"dns-prefetch\"/> <link href=\"ref.placeholder\" rel=\"dns-prefetch\"/> <link href=\"ref.placeholder\" rel=\"dns-prefetch\"/> <link href=\"ref.placeholder\" rel=\"dns-prefetch\"/> <link href=\"ref.placeholder\" rel=\"dns-prefetch\"/> <link href=\"ref.placeholder\" rel=\"dns-prefetch\"/> <link href=\"ref.placeholder\" rel=\"dns-prefetch\"/> <link href=\"ref.placeholder\" rel=\"dns-prefetch\"/> <link href=\"ref.placeholder\" rel=\"dns-prefetch\"/> <link href=\"ref.placeholder\" rel=\"dns-prefetch\"/> <link href=\"ref.placeholder\" rel=\"dns-prefetch\"/> <link href=\"ref.placeholder\" rel=\"dns-prefetch\"/> <link href=\"ref.placeholder\" rel=\"dns-prefetch\"/> <link href=\"ref.placeholder\" rel=\"dns-prefetch\"/> <link href=\"ref.placeholder\" rel=\"dns-prefetch\"/> <link href=\"ref.placeholder\" rel=\"dns-prefetch\"/> <link href=\"ref.placeholder\" rel=\"dns-prefetch\"/> <link href=\"ref.placeholder\" rel=\"dns-prefetch\"/> <link href=\"ref.placeholder\" rel=\"dns-prefetch\"/> <link href=\"ref.placeholder\" rel=\"dns-prefetch\"/> <link href=\"ref.placeholder\" rel=\"dns-prefetch\"/> <link href=\"ref.placeholder\" rel=\"dns-prefetch\"/> <link href=\"ref.placeholder\" rel=\"dns-prefetch\"/> <link href=\"ref.placeholder\" rel=\"dns-prefetch\"/> <link href=\"ref.placeholder\" rel=\"dns-prefetch\"/> <link href=\"ref.placeholder\" rel=\"dns-prefetch\"/> <link href=\"ref.placeholder\" rel=\"dns-prefetch\"/> <link href=\"ref.placeholder\" rel=\"dns-prefetch\"/> <link href=\"ref.placeholder\" rel=\"dns-prefetch\"/> <link href=\"ref.placeholder\" rel=\"dns-prefetch\"/> <link href=\"ref.placeholder\" rel=\"dns-prefetch\"/> <link href=\"ref.placeholder\" rel=\"dns-prefetch\"/> <link href=\"ref.placeholder\" rel=\"dns-prefetch\"/> <link href=\"ref.placeholder\" rel=\"dns-prefetch\"/> <link href=\"ref.placeholder\" rel=\"dns-prefetch\"/> <link href=\"ref.placeholder\" rel=\"dns-prefetch\"/> <link href=\"ref.placeholder\" rel=\"dns-prefetch\"/> <link href=\"ref.placeholder\" rel=\"dns-prefetch\"/> <link href=\"ref.placeholder\" rel=\"dns-prefetch\"/> <link href=\"ref.placeholder\" rel=\"dns-prefetch\"/> <link href=\"ref.placeholder\" rel=\"dns-prefetch\"/> <link href=\"ref.placeholder\" rel=\"dns-prefetch\"/> <link href=\"ref.placeholder\" rel=\"dns-prefetch\"/> <link href=\"ref.placeholder\" rel=\"dns-prefetch\"/> <link href=\"ref.placeholder\" rel=\"dns-prefetch\"/> <link href=\"ref.placeholder\" rel=\"dns-prefetch\"/> <link href=\"ref.placeholder\" rel=\"dns-prefetch\"/> <link href=\"ref.placeholder\" rel=\"dns-prefetch\"/> <link href=\"ref.placeholder\" rel=\"dns-prefetch\"/> <link href=\"ref.placeholder\" rel=\"dns-prefetch\"/> <link href=\"ref.placeholder\" rel=\"dns-prefetch\"/> <link href=\"ref.placeholder\" rel=\"dns-prefetch\"/> <link href=\"ref.placeholder\" rel=\"dns-prefetch\"/> <link href=\"ref.placeholder\" rel=\"dns-prefetch\"/> <link href=\"ref.placeholder\" rel=\"dns-prefetch\"/> <link href=\"ref.placeholder\" rel=\"dns-prefetch\"/> <link href=\"ref.placeholder\" rel=\"dns-prefetch\"/> <link href=\"ref.placeholder\" rel=\"dns-prefetch\"/> <link href=\"ref.placeholder\" rel=\"dns-prefetch\"/> <link href=\"ref.placeholder\" rel=\"dns-prefetch\"/> <link href=\"ref.placeholder\" rel=\"dns-prefetch\"/> <link href=\"ref.placeholder\" rel=\"dns-prefetch\"/> <link href=\"ref.placeholder\" rel=\"dns-prefetch\"/> <link href=\"ref.placeholder\" rel=\"dns-prefetch\"/> <link href=\"ref.placeholder\" rel=\"dns-prefetch\"/> <link href=\"ref.placeholder\" rel=\"dns-prefetch\"/> <link href=\"ref.placeholder\" rel=\"dns-prefetch\"/> <link href=\"ref.placeholder\" rel=\"dns-prefetch\"/> <link href=\"ref.placeholder\" rel=\"dns-prefetch\"/> <link href=\"ref.placeholder\" rel=\"dns-prefetch\"/> <link href=\"ref.placeholder\" rel=\"dns-prefetch\"/> <link href=\"ref.placeholder\" rel=\"dns-prefetch\"/> <link href=\"ref.placeholder\" rel=\"dns-prefetch\"/> <link href=\"ref.placeholder\" rel=\"dns-prefetch\"/> <link href=\"ref.placeholder\" rel=\"dns-prefetch\"/> <link href=\"ref.placeholder\" rel=\"dns-prefetch\"/> <link href=\"ref.placeholder\" rel=\"dns-prefetch\"/> <link href=\"ref.placeholder\" rel=\"dns-prefetch\"/> <link href=\"ref.placeholder\" rel=\"dns-prefetch\"/> <link href=\"ref.placeholder\" rel=\"dns-prefetch\"/> <link href=\"ref.placeholder\" rel=\"dns-prefetch\"/> <link href=\"ref.placeholder\" rel=\"dns-prefetch\"/> <link href=\"ref.placeholder\" rel=\"dns-prefetch\"/> <link href=\"ref.placeholder\" rel=\"dns-prefetch\"/> <link href=\"ref.placeholder\" rel=\"dns-prefetch\"/> <link href=\"ref.placeholder\" rel=\"dns-prefetch\"/> <link href=\"ref.placeholder\" rel=\"dns-prefetch\"/> <link href=\"ref.placeholder\" rel=\"dns-prefetch\"/> <link href=\"ref.placeholder\" rel=\"dns-prefetch\"/> <link href=\"ref.placeholder\" rel=\"dns-prefetch\"/> <link href=\"ref.placeholder\" rel=\"dns-prefetch\"/> <link href=\"ref.placeholder\" rel=\"dns-prefetch\"/> <link href=\"ref.placeholder\" rel=\"dns-prefetch\"/> <link href=\"ref.placeholder\" rel=\"dns-prefetch\"/> <link href=\"ref.placeholder\" rel=\"dns-prefetch\"/> <link href=\"ref.placeholder\" rel=\"dns-prefetch\"/> <link href=\"ref.placeholder\" rel=\"dns-prefetch\"/> <link href=\"ref.placeholder\" rel=\"dns-prefetch\"/> <link href=\"ref.placeholder\" rel=\"dns-prefetch\"/> <link href=\"ref.placeholder\" rel=\"dns-prefetch\"/> <link href=\"ref.placeholder\" rel=\"dns-prefetch\"/> <link href=\"ref.placeholder\" rel=\"dns-prefetch\"/> <link href=\"ref.placeholder\" rel=\"dns-prefetch\"/> <link href=\"ref.placeholder\" rel=\"dns-prefetch\"/> <link href=\"ref.placeholder\" rel=\"dns-prefetch\"/> <link href=\"ref.placeholder\" rel=\"dns-prefetch\"/> <link href=\"ref.placeholder\" rel=\"dns-prefetch\"/> <link href=\"ref.placeholder\" rel=\"dns-prefetch\"/> <link href=\"ref.placeholder\" rel=\"dns-prefetch\"/> <link href=\"ref.placeholder\" rel=\"dns-prefetch\"/> <link href=\"ref.placeholder\" rel=\"dns-prefetch\"/> <link href=\"ref.placeholder\" rel=\"dns-prefetch\"/> <link href=\"ref.placeholder\" rel=\"dns-prefetch\"/> <link href=\"ref.placeholder\" rel=\"dns-prefetch\"/> <link href=\"ref.placeholder\" rel=\"dns-prefetch\"/> <link href=\"ref.placeholder\" rel=\"dns-prefetch\"/> <link href=\"ref.placeholder\" rel=\"dns-prefetch\"/> <link href=\"ref.placeholder\" rel=\"dns-prefetch\"/> <link href=\"ref.placeholder\" rel=\"dns-prefetch\"/> <link href=\"ref.placeholder\" rel=\"dns-prefetch\"/> <link href=\"ref.placeholder\" rel=\"dns-prefetch\"/> <link href=\"ref.placeholder\" rel=\"dns-prefetch\"/> <link href=\"ref.placeholder\" rel=\"dns-prefetch\"/> <link href=\"ref.placeholder\" rel=\"dns-prefetch\"/> <link href=\"ref.placeholder\" rel=\"dns-prefetch\"/> <link href=\"ref.placeholder\" rel=\"dns-prefetch\"/> <link href=\"ref.placeholder\" rel=\"dns-prefetch\"/> <link href=\"ref.placeholder\" rel=\"dns-prefetch\"/> <link href=\"ref.placeholder\" rel=\"dns-prefetch\"/> <link href=\"ref.placeholder\" rel=\"dns-prefetch\"/> <link href=\"ref.placeholder\" rel=\"dns-prefetch\"/> <link href=\"ref.placeholder\" rel=\"dns-prefetch\"/> <link href=\"ref.placeholder\" rel=\"dns-prefetch\"/> <link href=\"ref.placeholder\" rel=\"dns-prefetch\"/> <link href=\"ref.placeholder\" rel=\"dns-prefetch\"/> <link href=\"ref.placeholder\" rel=\"dns-prefetch\"/> <link href=\"ref.placeholder\" rel=\"dns-prefetch\"/> <link href=\"ref.placeholder\" rel=\"dns-prefetch\"/> <link href=\"ref.placeholder\" rel=\"dns-prefetch\"/> <link href=\"ref.placeholder\" rel=\"dns-prefetch\"/> <link href=\"ref.placeholder\" rel=\"dns-prefetch\"/> <link href=\"ref.placeholder\" rel=\"dns-prefetch\"/> <link href=\"ref.placeholder\" rel=\"dns-prefetch\"/> <link href=\"ref.placeholder\" rel=\"dns-prefetch\"/> <link href=\"ref.placeholder\" rel=\"dns-prefetch\"/> <link href=\"ref.placeholder\" rel=\"dns-prefetch\"/> <link href=\"ref.placeholder\" rel=\"dns-prefetch\"/> <link href=\"ref.placeholder\" rel=\"dns-prefetch\"/> <link href=\"ref.placeholder\" rel=\"dns-prefetch\"/> <link href=\"ref.placeholder\" rel=\"dns-prefetch\"/> <link href=\"ref.placeholder\" rel=\"dns-prefetch\"/> <link href=\"ref.placeholder\" rel=\"dns-prefetch\"/> <link href=\"ref.placeholder\" rel=\"dns-prefetch\"/> <link href=\"ref.placeholder\" rel=\"dns-prefetch\"/> <link href=\"ref.placeholder\" rel=\"dns-prefetch\"/> <link href=\"ref.placeholder\" rel=\"dns-prefetch\"/> <link href=\"ref.placeholder\" rel=\"dns-prefetch\"/> <link href=\"ref.placeholder\" rel=\"dns-prefetch\"/> <link href=\"ref.placeholder\" rel=\"dns-prefetch\"/> <link href=\"ref.placeholder\" rel=\"dns-prefetch\"/> <link href=\"ref.placeholder\" rel=\"dns-prefetch\"/> <link href=\"ref.placeholder\" rel=\"dns-prefetch\"/> <link href=\"ref.placeholder\" rel=\"dns-prefetch\"/> <link href=\"ref.placeholder\" rel=\"dns-prefetch\"/> <link href=\"ref.placeholder\" rel=\"dns-prefetch\"/> <link href=\"ref.placeholder\" rel=\"dns-prefetch\"/> <link href=\"ref.placeholder\" rel=\"dns-prefetch\"/> <link href=\"ref.placeholder\" rel=\"dns-prefetch\"/> <link href=\"ref.placeholder\" rel=\"dns-prefetch\"/> <link href=\"ref.placeholder\" rel=\"dns-prefetch\"/> <link href=\"ref.placeholder\" rel=\"dns-prefetch\"/> <link href=\"ref.placeholder\" rel=\"dns-prefetch\"/> <link href=\"ref.placeholder\" rel=\"dns-prefetch\"/> <link href=\"ref.placeholder\" rel=\"dns-prefetch\"/> <link href=\"ref.placeholder\" rel=\"dns-prefetch\"/> <link href=\"ref.placeholder\" rel=\"dns-prefetch\"/> <link href=\"ref.placeholder\" rel=\"dns-prefetch\"/> <link href=\"ref.placeholder\" rel=\"dns-prefetch\"/> <link href=\"ref.placeholder\" rel=\"dns-prefetch\"/> <link href=\"ref.placeholder\" rel=\"dns-prefetch\"/> <link href=\"ref.placeholder\" rel=\"dns-prefetch\"/> <link href=\"ref.placeholder\" rel=\"dns-prefetch\"/> <link href=\"ref.placeholder\" rel=\"dns-prefetch\"/> <link href=\"ref.placeholder\" rel=\"dns-prefetch\"/> <link href=\"ref.placeholder\" rel=\"dns-prefetch\"/> <link href=\"ref.placeholder\" rel=\"dns-prefetch\"/> <link href=\"ref.placeholder\" rel=\"dns-prefetch\"/> <link href=\"ref.placeholder\" rel=\"dns-prefetch\"/> <link href=\"ref.placeholder\" rel=\"dns-prefetch\"/> <link href=\"ref.placeholder\" rel=\"dns-prefetch\"/> <link href=\"ref.placeholder\" rel=\"dns-prefetch\"/> <link href=\"ref.placeholder\" rel=\"dns-prefetch\"/> <link href=\"ref.placeholder\" rel=\"dns-prefetch\"/> <link href=\"ref.placeholder\" rel=\"dns-prefetch\"/> <link href=\"ref.placeholder\" rel=\"dns-prefetch\"/> <link href=\"ref.placeholder\" rel=\"dns-prefetch\"/> <link href=\"ref.placeholder\" rel=\"dns-prefetch\"/> <link href=\"ref.placeholder\" rel=\"dns-prefetch\"/> <link href=\"ref.placeholder\" rel=\"dns-prefetch\"/> <link href=\"ref.placeholder\" rel=\"dns-prefetch\"/> <link href=\"ref.placeholder\" rel=\"dns-prefetch\"/> <link href=\"ref.placeholder\" rel=\"dns-prefetch\"/> <link href=\"ref.placeholder\" rel=\"dns-prefetch\"/> <link href=\"ref.placeholder\" rel=\"dns-prefetch\"/> <link href=\"ref.placeholder\" rel=\"dns-prefetch\"/> <link href=\"ref.placeholder\" rel=\"dns-prefetch\"/> <link href=\"ref.placeholder\" rel=\"dns-prefetch\"/> <link href=\"ref.placeholder\" rel=\"dns-prefetch\"/> <link href=\"ref.placeholder\" rel=\"dns-prefetch\"/> <link href=\"ref.placeholder\" rel=\"dns-prefetch\"/> <link href=\"ref.placeholder\" rel=\"dns-prefetch\"/> <link href=\"ref.placeholder\" rel=\"dns-prefetch\"/> <link href=\"ref.placeholder\" rel=\"dns-prefetch\"/> <link href=\"ref.placeholder\" rel=\"dns-prefetch\"/> <link href=\"ref.placeholder\" rel=\"dns-prefetch\"/> <link href=\"ref.placeholder\" rel=\"dns-prefetch\"/> <link href=\"ref.placeholder\" rel=\"dns-prefetch\"/> <link href=\"ref.placeholder\" rel=\"dns-prefetch\"/> <link href=\"ref.placeholder\" rel=\"dns-prefetch\"/> <link href=\"ref.placeholder\" rel=\"dns-prefetch\"/> <link href=\"ref.placeholder\" rel=\"dns-prefetch\"/> <link href=\"ref.placeholder\" rel=\"dns-prefetch\"/> <link href=\"ref.placeholder\" rel=\"dns-prefetch\"/> <link href=\"ref.placeholder\" rel=\"dns-prefetch\"/> <link href=\"ref.placeholder\" rel=\"dns-prefetch\"/> <link href=\"ref.placeholder\" rel=\"dns-prefetch\"/> <link href=\"ref.placeholder\" rel=\"dns-prefetch\"/> <link href=\"ref.placeholder\" rel=\"dns-prefetch\"/> <link href=\"ref.placeholder\" rel=\"dns-prefetch\"/> <link href=\"ref.placeholder\" rel=\"dns-prefetch\"/> <link href=\"ref.placeholder\" rel=\"dns-prefetch\"/> <link href=\"ref.placeholder\" rel=\"dns-prefetch\"/> <link href=\"ref.placeholder\" rel=\"dns-prefetch\"/> <link href=\"ref.placeholder\" rel=\"dns-prefetch\"/> <link href=\"ref.placeholder\" rel=\"dns-prefetch\"/> <link href=\"ref.placeholder\" rel=\"dns-prefetch\"/> <link href=\"ref.placeholder\" rel=\"dns-prefetch\"/> <link href=\"ref.placeholder\" rel=\"dns-prefetch\"/> <link href=\"ref.placeholder\" rel=\"dns-prefetch\"/> <link href=\"ref.placeholder\" rel=\"dns-prefetch\"/> <link href=\"ref.placeholder\" rel=\"dns-prefetch\"/> <link href=\"ref.placeholder\" rel=\"dns-prefetch\"/> <link href=\"ref.placeholder\" rel=\"dns-prefetch\"/> <link href=\"ref.placeholder\" rel=\"dns-prefetch\"/> <link href=\"ref.placeholder\" rel=\"dns-prefetch\"/> <link href=\"ref.placeholder\" rel=\"dns-prefetch\"/> <link href=\"ref.placeholder\" rel=\"dns-prefetch\"/> <link href=\"ref.placeholder\" rel=\"dns-prefetch\"/> <link href=\"ref.placeholder\" rel=\"dns-prefetch\"/> <link href=\"ref.placeholder\" rel=\"dns-prefetch\"/> <link href=\"ref.placeholder\" rel=\"dns-prefetch\"/> <link href=\"ref.placeholder\" rel=\"dns-prefetch\"/> <link href=\"ref.placeholder\" rel=\"dns-prefetch\"/> <link href=\"ref.placeholder\" rel=\"dns-prefetch\"/> <link href=\"ref.placeholder\" rel=\"dns-prefetch\"/> <link href=\"ref.placeholder\" rel=\"dns-prefetch\"/> <link href=\"ref.placeholder\" rel=\"dns-prefetch\"/> <link href=\"ref.placeholder\" rel=\"dns-prefetch\"/> <link href=\"ref.placeholder\" rel=\"dns-prefetch\"/> <link href=\"ref.placeholder\" rel=\"dns-prefetch\"/> <link href=\"ref.placeholder\" rel=\"dns-prefetch\"/> <link href=\"ref.placeholder\" rel=\"dns-prefetch\"/> <link href=\"ref.placeholder\" rel=\"dns-prefetch\"/> <link href=\"ref.placeholder\" rel=\"dns-prefetch\"/> <link href=\"ref.placeholder\" rel=\"dns-prefetch\"/> <link href=\"ref.placeholder\" rel=\"dns-prefetch\"/> <link href=\"ref.placeholder\" rel=\"dns-prefetch\"/> <link href=\"ref.placeholder\" rel=\"dns-prefetch\"/> <link href=\"ref.placeholder\" rel=\"dns-prefetch\"/> <link href=\"ref.placeholder\" rel=\"dns-prefetch\"/> <link href=\"ref.placeholder\" rel=\"dns-prefetch\"/> <link href=\"ref.placeholder\" rel=\"dns-prefetch\"/> <link href=\"ref.placeholder\" rel=\"dns-prefetch\"/> <link href=\"ref.placeholder\" rel=\"dns-prefetch\"/> <link href=\"ref.placeholder\" rel=\"dns-prefetch\"/> <link href=\"ref.placeholder\" rel=\"dns-prefetch\"/> <link href=\"ref.placeholder\" rel=\"dns-prefetch\"/> <link href=\"ref.placeholder\" rel=\"dns-prefetch\"/> <link href=\"ref.placeholder\" rel=\"dns-prefetch\"/> <link href=\"ref.placeholder\" rel=\"dns-prefetch\"/> <link href=\"ref.placeholder\" rel=\"dns-prefetch\"/> <link href=\"ref.placeholder\" rel=\"dns-prefetch\"/> <link href=\"ref.placeholder\" rel=\"dns-prefetch\"/> <link href=\"ref.placeholder\" rel=\"dns-prefetch\"/> <link href=\"ref.placeholder\" rel=\"dns-prefetch\"/> <link href=\"ref.placeholder\" rel=\"dns-prefetch\"/> <link href=\"ref.placeholder\" rel=\"dns-prefetch\"/> <link href=\"ref.placeholder\" rel=\"dns-prefetch\"/> <link href=\"ref.placeholder\" rel=\"dns-prefetch\"/> <link href=\"ref.placeholder\" rel=\"dns-prefetch\"/> <link href=\"ref.placeholder\" rel=\"dns-prefetch\"/> <link href=\"ref.placeholder\" rel=\"dns-prefetch\"/> <link href=\"ref.placeholder\" rel=\"dns-prefetch\"/> <link href=\"ref.placeholder\" rel=\"dns-prefetch\"/> <link href=\"ref.placeholder\" rel=\"dns-prefetch\"/> <link href=\"ref.placeholder\" rel=\"dns-prefetch\"/> <link href=\"ref.placeholder\" rel=\"dns-prefetch\"/> <link href=\"ref.placeholder\" rel=\"dns-prefetch\"/> <link href=\"ref.placeholder\" rel=\"dns-prefetch\"/> <link href=\"ref.placeholder\" rel=\"dns-prefetch\"/> <link href=\"ref.placeholder\" rel=\"dns-prefetch\"/> <link href=\"ref.placeholder\" rel=\"dns-prefetch\"/> <link href=\"ref.placeholder\" rel=\"dns-prefetch\"/> <link href=\"ref.placeholder\" rel=\"dns-prefetch\"/> <link href=\"ref.placeholder\" rel=\"dns-prefetch\"/> <link href=\"ref.placeholder\" rel=\"dns-prefetch\"/> <link href=\"ref.placeholder\" rel=\"dns-prefetch\"/> <link href=\"ref.placeholder\" rel=\"dns-prefetch\"/> <link href=\"ref.placeholder\" rel=\"dns-prefetch\"/> <link href=\"ref.placeholder\" rel=\"dns-prefetch\"/> <link href=\"ref.placeholder\" rel=\"dns-prefetch\"/> <link href=\"ref.placeholder\" rel=\"dns-prefetch\"/> <link href=\"ref.placeholder\" rel=\"dns-prefetch\"/> <link href=\"ref.placeholder\" rel=\"dns-prefetch\"/> <link href=\"ref.placeholder\" rel=\"dns-prefetch\"/> <link href=\"ref.placeholder\" rel=\"dns-prefetch\"/> <link href=\"ref.placeholder\" rel=\"dns-prefetch\"/> <link href=\"ref.placeholder\" rel=\"dns-prefetch\"/> <link href=\"ref.placeholder\" rel=\"dns-prefetch\"/> <link href=\"ref.placeholder\" rel=\"dns-prefetch\"/> <link href=\"ref.placeholder\" rel=\"dns-prefetch\"/> <link href=\"ref.placeholder\" rel=\"dns-prefetch\"/> <link href=\"ref.placeholder\" rel=\"dns-prefetch\"/> <link href=\"ref.placeholder\" rel=\"dns-prefetch\"/> <link href=\"ref.placeholder\" rel=\"dns-prefetch\"/> <link href=\"ref.placeholder\" rel=\"dns-prefetch\"/> <link href=\"ref.placeholder\" rel=\"dns-prefetch\"/> <link href=\"ref.placeholder\" rel=\"dns-prefetch\"/> <link href=\"ref.placeholder\" rel=\"dns-prefetch\"/> <link href=\"ref.placeholder\" rel=\"dns-prefetch\"/> <link href=\"ref.placeholder\" rel=\"dns-prefetch\"/> <link href=\"ref.placeholder\" rel=\"dns-prefetch\"/> <link href=\"ref.placeholder\" rel=\"dns-prefetch\"/> <link href=\"ref.placeholder\" rel=\"dns-prefetch\"/> <link href=\"ref.placeholder\" rel=\"dns-prefetch\"/> <link href=\"ref.placeholder\" rel=\"dns-prefetch\"/> <link href=\"ref.placeholder\" rel=\"dns-prefetch\"/> <link href=\"ref.placeholder\" rel=\"dns-prefetch\"/> <link href=\"ref.placeholder\" rel=\"dns-prefetch\"/> <link href=\"ref.placeholder\" rel=\"dns-prefetch\"/> <link href=\"ref.placeholder\" rel=\"dns-prefetch\"/> <link href=\"ref.placeholder\" rel=\"dns-prefetch\"/> <link href=\"ref.placeholder\" rel=\"dns-prefetch\"/> <link href=\"ref.placeholder\" rel=\"dns-prefetch\"/> <link href=\"ref.placeholder\" rel=\"dns-prefetch\"/> <link href=\"ref.placeholder\" rel=\"dns-prefetch\"/> <link href=\"ref.placeholder\" rel=\"dns-prefetch\"/> <link href=\"ref.placeholder\" rel=\"dns-prefetch\"/> <link href=\"ref.placeholder\" rel=\"dns-prefetch\"/> <link href=\"ref.placeholder\" rel=\"dns-prefetch\"/> <link href=\"ref.placeholder\" rel=\"dns-prefetch\"/> <link href=\"ref.placeholder\" rel=\"dns-prefetch\"/> <link href=\"ref.placeholder\" rel=\"dns-prefetch\"/> <link href=\"ref.placeholder\" rel=\"dns-prefetch\"/> <link href=\"ref.placeholder\" rel=\"dns-prefetch\"/> <link href=\"ref.placeholder\" rel=\"dns-prefetch\"/> <link href=\"ref.placeholder\" rel=\"dns-prefetch\"/> <link href=\"ref.placeholder\" rel=\"dns-prefetch\"/> <link href=\"ref.placeholder\" rel=\"dns-prefetch\"/> <link href=\"ref.placeholder\" rel=\"dns-prefetch\"/> <link href=\"ref.placeholder\" rel=\"dns-prefetch\"/> <link href=\"ref.placeholder\" rel=\"dns-prefetch\"/> <link href=\"ref.placeholder\" rel=\"dns-prefetch\"/> <link href=\"ref.placeholder\" rel=\"dns-prefetch\"/> <link href=\"ref.placeholder\" rel=\"dns-prefetch\"/> <link href=\"ref.placeholder\" rel=\"dns-prefetch\"/> <link href=\"ref.placeholder\" rel=\"dns-prefetch\"/> <link href=\"ref.placeholder\" rel=\"dns-prefetch\"/> <link href=\"ref.placeholder\" rel=\"dns-prefetch\"/> <link href=\"ref.placeholder\" rel=\"dns-prefetch\"/> <link href=\"ref.placeholder\" rel=\"dns-prefetch\"/> <link href=\"ref.placeholder\" rel=\"dns-prefetch\"/> <link href=\"ref.placeholder\" rel=\"dns-prefetch\"/> <link href=\"ref.placeholder\" rel=\"dns-prefetch\"/> <link href=\"ref.placeholder\" rel=\"dns-prefetch\"/> <link href=\"ref.placeholder\" rel=\"dns-prefetch\"/> <link href=\"ref.placeholder\" rel=\"dns-prefetch\"/> <link href=\"ref.placeholder\" rel=\"dns-prefetch\"/> <link href=\"ref.placeholder\" rel=\"dns-prefetch\"/> <link href=\"ref.placeholder\" rel=\"dns-prefetch\"/> <link href=\"ref.placeholder\" rel=\"dns-prefetch\"/> <link href=\"ref.placeholder\" rel=\"dns-prefetch\"/> <link href=\"ref.placeholder\" rel=\"dns-prefetch\"/> <link href=\"ref.placeholder\" rel=\"dns-prefetch\"/> <link href=\"ref.placeholder\" rel=\"dns-prefetch\"/> <link href=\"ref.placeholder\" rel=\"dns-prefetch\"/> <link href=\"ref.placeholder\" rel=\"dns-prefetch\"/> <link href=\"ref.placeholder\" rel=\"dns-prefetch\"/> <link href=\"ref.placeholder\" rel=\"dns-prefetch\"/> <link href=\"ref.placeholder\" rel=\"dns-prefetch\"/> <link href=\"ref.placeholder\" rel=\"dns-prefetch\"/> <link href=\"ref.placeholder\" rel=\"dns-prefetch\"/> <link href=\"ref.placeholder\" rel=\"dns-prefetch\"/> <link href=\"ref.placeholder\" rel=\"dns-prefetch\"/> <link href=\"ref.placeholder\" rel=\"dns-prefetch\"/> <link href=\"ref.placeholder\" rel=\"dns-prefetch\"/> <link href=\"ref.placeholder\" rel=\"dns-prefetch\"/> <link href=\"ref.placeholder\" rel=\"dns-prefetch\"/> <link href=\"ref.placeholder\" rel=\"dns-prefetch\"/> <link href=\"ref.placeholder\" rel=\"dns-prefetch\"/> <link href=\"ref.placeholder\" rel=\"dns-prefetch\"/> <link href=\"ref.placeholder\" rel=\"dns-prefetch\"/> <link href=\"ref.placeholder\" rel=\"dns-prefetch\"/> <link href=\"ref.placeholder\" rel=\"dns-prefetch\"/> <link href=\"ref.placeholder\" rel=\"dns-prefetch\"/> <link href=\"ref.placeholder\" rel=\"dns-prefetch\"/> <link href=\"ref.placeholder\" rel=\"dns-prefetch\"/> <link href=\"ref.placeholder\" rel=\"dns-prefetch\"/> <link href=\"ref.placeholder\" rel=\"dns-prefetch\"/> <link href=\"ref.placeholder\" rel=\"dns-prefetch\"/> <link href=\"ref.placeholder\" rel=\"dns-prefetch\"/> <link href=\"ref.placeholder\" rel=\"dns-prefetch\"/> <link href=\"ref.placeholder\" rel=\"dns-prefetch\"/> <link href=\"ref.placeholder\" rel=\"dns-prefetch\"/> <link href=\"ref.placeholder\" rel=\"dns-prefetch\"/> <link href=\"ref.placeholder\" rel=\"dns-prefetch\"/> <link href=\"ref.placeholder\" rel=\"dns-prefetch\"/> <link href=\"ref.placeholder\" rel=\"dns-prefetch\"/> <link href=\"ref.placeholder\" rel=\"dns-prefetch\"/> <link href=\"ref.placeholder\" rel=\"dns-prefetch\"/> <link href=\"ref.placeholder\" rel=\"dns-prefetch\"/> <link href=\"ref.placeholder\" rel=\"dns-prefetch\"/> <link href=\"ref.placeholder\" rel=\"dns-prefetch\"/> <link href=\"ref.placeholder\" rel=\"dns-prefetch\"/> <link href=\"ref.placeholder\" rel=\"dns-prefetch\"/> <link href=\"ref.placeholder\" rel=\"dns-prefetch\"/> <link href=\"ref.placeholder\" rel=\"dns-prefetch\"/> <link href=\"ref.placeholder\" rel=\"dns-prefetch\"/> <link href=\"ref.placeholder\" rel=\"dns-prefetch\"/> <link href=\"ref.placeholder\" rel=\"dns-prefetch\"/> <link href=\"ref.placeholder\" rel=\"dns-prefetch\"/> <link href=\"ref.placeholder\" rel=\"dns-prefetch\"/> <link href=\"ref.placeholder\" rel=\"dns-prefetch\"/> <link href=\"ref.placeholder\" rel=\"dns-prefetch\"/> <link href=\"ref.placeholder\" rel=\"dns-prefetch\"/> <link href=\"ref.placeholder\" rel=\"dns-prefetch\"/> <link href=\"ref.placeholder\" rel=\"dns-prefetch\"/> <link href=\"ref.placeholder\" rel=\"dns-prefetch\"/> <link href=\"ref.placeholder\" rel=\"dns-prefetch\"/> <link href=\"ref.placeholder\" rel=\"dns-prefetch\"/> <link href=\"ref.placeholder\" rel=\"dns-prefetch\"/> <link href=\"ref.placeholder\" rel=\"dns-prefetch\"/> <link href=\"ref.placeholder\" rel=\"dns-prefetch\"/> <link href=\"ref.placeholder\" rel=\"dns-prefetch\"/> <link href=\"ref.placeholder\" rel=\"dns-prefetch\"/> <link href=\"ref.placeholder\" rel=\"dns-prefetch\"/> <link href=\"ref.placeholder\" rel=\"dns-prefetch\"/> <link href=\"ref.placeholder\" rel=\"dns-prefetch\"/> <link href=\"ref.placeholder\" rel=\"dns-prefetch\"/> <link href=\"ref.placeholder\" rel=\"dns-prefetch\"/> <link href=\"ref.placeholder\" rel=\"dns-prefetch\"/> <link href=\"ref.placeholder\" rel=\"dns-prefetch\"/> <link href=\"ref.placeholder\" rel=\"dns-prefetch\"/> <link href=\"ref.placeholder\" rel=\"dns-prefetch\"/> <link href=\"ref.placeholder\" rel=\"dns-prefetch\"/> <link href=\"ref.placeholder\" rel=\"dns-prefetch\"/> <link href=\"ref.placeholder\" rel=\"dns-prefetch\"/> <link href=\"ref.placeholder\" rel=\"dns-prefetch\"/> <link href=\"ref.placeholder\" rel=\"dns-prefetch\"/> <link href=\"ref.placeholder\" rel=\"dns-prefetch\"/> <link href=\"ref.placeholder\" rel=\"dns-prefetch\"/> <link href=\"ref.placeholder\" rel=\"dns-prefetch\"/> <link href=\"ref.placeholder\" rel=\"dns-prefetch\"/> <link href=\"ref.placeholder\" rel=\"dns-prefetch\"/> <link href=\"ref.placeholder\" rel=\"dns-prefetch\"/> <link href=\"ref.placeholder\" rel=\"dns-prefetch\"/> <link href=\"ref.placeholder\" rel=\"dns-prefetch\"/> <link href=\"ref.placeholder\" rel=\"dns-prefetch\"/> <link href=\"ref.placeholder\" rel=\"dns-prefetch\"/> <link href=\"ref.placeholder\" rel=\"dns-prefetch\"/> <link href=\"ref.placeholder\" rel=\"dns-prefetch\"/> <link href=\"ref.placeholder\" rel=\"dns-prefetch\"/> <link href=\"ref.placeholder\" rel=\"dns-prefetch\"/> <link href=\"ref.placeholder\" rel=\"dns-prefetch\"/> <link href=\"ref.placeholder\" rel=\"dns-prefetch\"/> <link href=\"ref.placeholder\" rel=\"dns-prefetch\"/> <link href=\"ref.placeholder\" rel=\"dns-prefetch\"/> <link href=\"ref.placeholder\" rel=\"dns-prefetch\"/> <link href=\"ref.placeholder\" rel=\"dns-prefetch\"/> <link href=\"ref.placeholder\" rel=\"dns-prefetch\"/> <link href=\"ref.placeholder\" rel=\"dns-prefetch\"/> <link href=\"ref.placeholder\" rel=\"dns-prefetch\"/> <link href=\"ref.placeholder\" rel=\"dns-prefetch\"/> <link href=\"ref.placeholder\" rel=\"dns-prefetch\"/> <link href=\"ref.placeholder\" rel=\"dns-prefetch\"/> <link href=\"ref.placeholder\" rel=\"dns-prefetch\"/> <link href=\"ref.placeholder\" rel=\"dns-prefetch\"/> <link href=\"ref.placeholder\" rel=\"dns-prefetch\"/> <link href=\"ref.placeholder\" rel=\"dns-prefetch\"/> <link href=\"ref.placeholder\" rel=\"dns-prefetch\"/> <link href=\"ref.placeholder\" rel=\"dns-prefetch\"/> <link href=\"ref.placeholder\" rel=\"dns-prefetch\"/> <link href=\"ref.placeholder\" rel=\"dns-prefetch\"/> <link href=\"ref.placeholder\" rel=\"dns-prefetch\"/> <link href=\"ref.placeholder\" rel=\"dns-prefetch\"/> <link href=\"ref.placeholder\" rel=\"dns-prefetch\"/> <link href=\"ref.placeholder\" rel=\"dns-prefetch\"/> <link href=\"ref.placeholder\" rel=\"dns-prefetch\"/> <link href=\"ref.placeholder\" rel=\"dns-prefetch\"/> <link href=\"ref.placeholder\" rel=\"dns-prefetch\"/> <link href=\"ref.placeholder\" rel=\"dns-prefetch\"/> <link href=\"ref.placeholder\" rel=\"dns-prefetch\"/> <link href=\"ref.placeholder\" rel=\"dns-prefetch\"/> <link href=\"ref.placeholder\" rel=\"dns-prefetch\"/> <link href=\"ref.placeholder\" rel=\"dns-prefetch\"/> <link href=\"ref.placeholder\" rel=\"dns-prefetch\"/> <link href=\"ref.placeholder\" rel=\"dns-prefetch\"/> <link href=\"ref.placeholder\" rel=\"dns-prefetch\"/> <link href=\"ref.placeholder\" rel=\"dns-prefetch\"/> <link href=\"ref.placeholder\" rel=\"dns-prefetch\"/> <link href=\"ref.placeholder\" rel=\"dns-prefetch\"/> <link href=\"ref.placeholder\" rel=\"dns-prefetch\"/> <link href=\"ref.placeholder\" rel=\"dns-prefetch\"/> <link href=\"ref.placeholder\" rel=\"dns-prefetch\"/> <link href=\"ref.placeholder\" rel=\"dns-prefetch\"/> <link href=\"ref.placeholder\" rel=\"dns-prefetch\"/> <link href=\"ref.placeholder\" rel=\"dns-prefetch\"/> <link href=\"ref.placeholder\" rel=\"dns-prefetch\"/> <link href=\"ref.placeholder\" rel=\"dns-prefetch\"/> <link href=\"ref.placeholder\" rel=\"dns-prefetch\"/> <link href=\"ref.placeholder\" rel=\"dns-prefetch\"/> <link href=\"ref.placeholder\" rel=\"dns-prefetch\"/> <link href=\"ref.placeholder\" rel=\"dns-prefetch\"/> <link href=\"ref.placeholder\" rel=\"dns-prefetch\"/> <link href=\"ref.placeholder\" rel=\"dns-prefetch\"/> <link href=\"ref.placeholder\" rel=\"dns-prefetch\"/> <link href=\"ref.placeholder\" rel=\"dns-prefetch\"/> <link href=\"ref.placeholder\" rel=\"dns-prefetch\"/> <link href=\"ref.placeholder\" rel=\"dns-prefetch\"/> <link href=\"ref.placeholder\" rel=\"dns-prefetch\"/> <link href=\"ref.placeholder\" rel=\"dns-prefetch\"/> <link href=\"ref.placeholder\" rel=\"dns-prefetch\"/> <link href=\"ref.placeholder\" rel=\"dns-prefetch\"/> <link href=\"ref.placeholder\" rel=\"dns-prefetch\"/> <link href=\"ref.placeholder\" rel=\"dns-prefetch\"/> <link href=\"ref.placeholder\" rel=\"dns-prefetch\"/> <link href=\"ref.placeholder\" rel=\"dns-prefetch\"/> <link href=\"ref.placeholder\" rel=\"dns-prefetch\"/> <link href=\"ref.placeholder\" rel=\"dns-prefetch\"/> <link href=\"ref.placeholder\" rel=\"dns-prefetch\"/> <link href=\"ref.placeholder\" rel=\"dns-prefetch\"/> <link href=\"ref.placeholder\" rel=\"dns-prefetch\"/> <link href=\"ref.placeholder\" rel=\"dns-prefetch\"/> <link href=\"ref.placeholder\" rel=\"dns-prefetch\"/> <link href=\"ref.placeholder\" rel=\"dns-prefetch\"/> <link href=\"ref.placeholder\" rel=\"dns-prefetch\"/> <link href=\"ref.placeholder\" rel=\"dns-prefetch\"/> <link href=\"ref.placeholder\" rel=\"dns-prefetch\"/> <link href=\"ref.placeholder\" rel=\"dns-prefetch\"/> <link href=\"ref.placeholder\" rel=\"dns-prefetch\"/> <link href=\"ref.placeholder\" rel=\"dns-prefetch\"/> <link href=\"ref.placeholder\" rel=\"dns-prefetch\"/> <link href=\"ref.placeholder\" rel=\"dns-prefetch\"/> <link href=\"ref.placeholder\" rel=\"dns-prefetch\"/> <link href=\"ref.placeholder\" rel=\"dns-prefetch\"/> <link href=\"ref.placeholder\" rel=\"dns-prefetch\"/> <link href=\"ref.placeholder\" rel=\"dns-prefetch\"/> <link href=\"ref.placeholder\" rel=\"dns-prefetch\"/> <link href=\"ref.placeholder\" rel=\"dns-prefetch\"/> <link href=\"ref.placeholder\" rel=\"dns-prefetch\"/> <link href=\"ref.placeholder\" rel=\"dns-prefetch\"/> <link href=\"ref.placeholder\" rel=\"dns-prefetch\"/> <link href=\"ref.placeholder\" rel=\"dns-prefetch\"/> <link href=\"ref.placeholder\" rel=\"dns-prefetch\"/> <link href=\"ref.placeholder\" rel=\"dns-prefetch\"/> <link href=\"ref.placeholder\" rel=\"dns-prefetch\"/> <link href=\"ref.placeholder\" rel=\"dns-prefetch\"/> <link href=\"ref.placeholder\" rel=\"dns-prefetch\"/> <link href=\"ref.placeholder\" rel=\"dns-prefetch\"/> <link href=\"ref.placeholder\" rel=\"dns-prefetch\"/> <link href=\"ref.placeholder\" rel=\"dns-prefetch\"/> <link href=\"ref.placeholder\" rel=\"dns-prefetch\"/> <link href=\"ref.placeholder\" rel=\"dns-prefetch\"/> <link href=\"ref.placeholder\" rel=\"dns-prefetch\"/> <link href=\"ref.placeholder\" rel=\"dns-prefetch\"/> <link href=\"ref.placeholder\" rel=\"dns-prefetch\"/> <link href=\"ref.placeholder\" rel=\"dns-prefetch\"/> <link href=\"ref.placeholder\" rel=\"dns-prefetch\"/> <link href=\"ref.placeholder\" rel=\"dns-prefetch\"/> <link href=\"ref.placeholder\" rel=\"dns-prefetch\"/> <link href=\"ref.placeholder\" rel=\"dns-prefetch\"/> <link href=\"ref.placeholder\" rel=\"dns-prefetch\"/> <link href=\"ref.placeholder\" rel=\"dns-prefetch\"/> <link href=\"ref.placeholder\" rel=\"dns-prefetch\"/> <link href=\"ref.placeholder\" rel=\"dns-prefetch\"/> <link href=\"ref.placeholder\" rel=\"dns-prefetch\"/> <link href=\"ref.placeholder\" rel=\"dns-prefetch\"/> <link href=\"ref.placeholder\" rel=\"dns-prefetch\"/> <link href=\"ref.placeholder\" rel=\"dns-prefetch\"/> <link href=\"ref.placeholder\" rel=\"dns-prefetch\"/> <link href=\"ref.placeholder\" rel=\"dns-prefetch\"/> <link href=\"ref.placeholder\" rel=\"dns-prefetch\"/> <link href=\"ref.placeholder\" rel=\"dns-prefetch\"/> <link href=\"ref.placeholder\" rel=\"dns-prefetch\"/> <link href=\"ref.placeholder\" rel=\"dns-prefetch\"/> <link href=\"ref.placeholder\" rel=\"dns-prefetch\"/> <link href=\"ref.placeholder\" rel=\"dns-prefetch\"/> <link href=\"ref.placeholder\" rel=\"dns-prefetch\"/> <link href=\"ref.placeholder\" rel=\"dns-prefetch\"/> <link href=\"ref.placeholder\" rel=\"dns-prefetch\"/> <link href=\"ref.placeholder\" rel=\"dns-prefetch\"/> <link href=\"ref.placeholder\" rel=\"dns-prefetch\"/> <link href=\"ref.placeholder\" rel=\"dns-prefetch\"/> <link href=\"ref.placeholder\" rel=\"dns-prefetch\"/> <link href=\"ref.placeholder\" rel=\"dns-prefetch\"/> <link href=\"ref.placeholder\" rel=\"dns-prefetch\"/> <link href=\"ref.placeholder\" rel=\"dns-prefetch\"/> <link href=\"ref.placeholder\" rel=\"dns-prefetch\"/> <link href=\"ref.placeholder\" rel=\"dns-prefetch\"/> <link href=\"ref.placeholder\" rel=\"dns-prefetch\"/> <link href=\"ref.placeholder\" rel=\"dns-prefetch\"/> <link href=\"ref.placeholder\" rel=\"dns-prefetch\"/> <link href=\"ref.placeholder\" rel=\"dns-prefetch\"/> <link href=\"ref.placeholder\" rel=\"dns-prefetch\"/> <link href=\"ref.placeholder\" rel=\"dns-prefetch\"/> <link href=\"ref.placeholder\" rel=\"dns-prefetch\"/> <link href=\"ref.placeholder\" rel=\"dns-prefetch\"/> <link href=\"ref.placeholder\" rel=\"dns-prefetch\"/> <link href=\"ref.placeholder\" rel=\"dns-prefetch\"/> <link href=\"ref.placeholder\" rel=\"dns-prefetch\"/> <link href=\"ref.placeholder\" rel=\"dns-prefetch\"/> <link href=\"ref.placeholder\" rel=\"dns-prefetch\"/> <link href=\"ref.placeholder\" rel=\"dns-prefetch\"/> <link href=\"ref.placeholder\" rel=\"dns-prefetch\"/> <link href=\"ref.placeholder\" rel=\"dns-prefetch\"/> <link href=\"ref.placeholder\" rel=\"dns-prefetch\"/> <link href=\"ref.placeholder\" rel=\"dns-prefetch\"/> <link href=\"ref.placeholder\" rel=\"dns-prefetch\"/> <link href=\"ref.placeholder\" rel=\"dns-prefetch\"/> <link href=\"ref.placeholder\" rel=\"dns-prefetch\"/> <link href=\"ref.placeholder\" rel=\"dns-prefetch\"/> <link href=\"ref.placeholder\" rel=\"dns-prefetch\"/> <link href=\"ref.placeholder\" rel=\"dns-prefetch\"/> <link href=\"ref.placeholder\" rel=\"dns-prefetch\"/> <link href=\"ref.placeholder\" rel=\"dns-prefetch\"/> <link href=\"ref.placeholder\" rel=\"dns-prefetch\"/> <link href=\"ref.placeholder\" rel=\"dns-prefetch\"/> <link href=\"ref.placeholder\" rel=\"dns-prefetch\"/> <link href=\"ref.placeholder\" rel=\"dns-prefetch\"/> <link href=\"ref.placeholder\" rel=\"dns-prefetch\"/> <link href=\"ref.placeholder\" rel=\"dns-prefetch\"/> <link href=\"ref.placeholder\" rel=\"dns-prefetch\"/> <link href=\"ref.placeholder\" rel=\"dns-prefetch\"/> <link href=\"ref.placeholder\" rel=\"dns-prefetch\"/> <link href=\"ref.placeholder\" rel=\"dns-prefetch\"/> <link href=\"ref.placeholder\" rel=\"dns-prefetch\"/> <link href=\"ref.placeholder\" rel=\"dns-prefetch\"/> <link href=\"ref.placeholder\" rel=\"dns-prefetch\"/> <link href=\"ref.placeholder\" rel=\"dns-prefetch\"/> <link href=\"ref.placeholder\" rel=\"dns-prefetch\"/> <link href=\"ref.placeholder\" rel=\"dns-prefetch\"/> <link href=\"ref.placeholder\" rel=\"dns-prefetch\"/> <link href=\"ref.placeholder\" rel=\"dns-prefetch\"/> <link href=\"ref.placeholder\" rel=\"dns-prefetch\"/> <link href=\"ref.placeholder\" rel=\"dns-prefetch\"/> <link href=\"ref.placeholder\" rel=\"dns-prefetch\"/> <link href=\"ref.placeholder\" rel=\"dns-prefetch\"/> <link href=\"ref.placeholder\" rel=\"dns-prefetch\"/> <link href=\"ref.placeholder\" rel=\"dns-prefetch\"/> <link href=\"ref.placeholder\" rel=\"dns-prefetch\"/> <link href=\"ref.placeholder\" rel=\"dns-prefetch\"/> <link href=\"ref.placeholder\" rel=\"dns-prefetch\"/> <link href=\"ref.placeholder\" rel=\"dns-prefetch\"/> <link href=\"ref.placeholder\" rel=\"dns-prefetch\"/> <link href=\"ref.placeholder\" rel=\"dns-prefetch\"/> <link href=\"ref.placeholder\" rel=\"dns-prefetch\"/> <link href=\"ref.placeholder\" rel=\"dns-prefetch\"/> <link href=\"ref.placeholder\" rel=\"dns-prefetch\"/> <link href=\"ref.placeholder\" rel=\"dns-prefetch\"/> <link href=\"ref.placeholder\" rel=\"dns-prefetch\"/> <link href=\"ref.placeholder\" rel=\"dns-prefetch\"/> <link href=\"ref.placeholder\" rel=\"dns-prefetch\"/> <link href=\"ref.placeholder\" rel=\"dns-prefetch\"/> <link href=\"ref.placeholder\" rel=\"dns-prefetch\"/> <link href=\"ref.placeholder\" rel=\"dns-prefetch\"/> <link href=\"ref.placeholder\" rel=\"dns-prefetch\"/> <link href=\"ref.placeholder\" rel=\"dns-prefetch\"/> <link href=\"ref.placeholder\" rel=\"dns-prefetch\"/> <link href=\"ref.placeholder\" rel=\"dns-prefetch\"/> <link href=\"ref.placeholder\" rel=\"dns-prefetch\"/> <link href=\"ref.placeholder\" rel=\"dns-prefetch\"/> <link href=\"ref.placeholder\" rel=\"dns-prefetch\"/> <link href=\"ref.placeholder\" rel=\"dns-prefetch\"/> <link href=\"ref.placeholder\" rel=\"dns-prefetch\"/> <link href=\"ref.placeholder\" rel=\"dns-prefetch\"/> <link href=\"ref.placeholder\" rel=\"dns-prefetch\"/> <link href=\"ref.placeholder\" rel=\"dns-prefetch\"/> <link href=\"ref.placeholder\" rel=\"dns-prefetch\"/> <link href=\"ref.placeholder\" rel=\"dns-prefetch\"/> <link href=\"ref.placeholder\" rel=\"dns-prefetch\"/> <link href=\"ref.placeholder\" rel=\"dns-prefetch\"/> <link href=\"ref.placeholder\" rel=\"dns-prefetch\"/> <link href=\"ref.placeholder\" rel=\"dns-prefetch\"/> <link href=\"ref.placeholder\" rel=\"dns-prefetch\"/> <link href=\"ref.placeholder\" rel=\"dns-prefetch\"/> <link href=\"ref.placeholder\" rel=\"dns-prefetch\"/> <link href=\"ref.placeholder\" rel=\"dns-prefetch\"/> <link href=\"ref.placeholder\" rel=\"dns-prefetch\"/> <link href=\"ref.placeholder\" rel=\"dns-prefetch\"/> <link href=\"ref.placeholder\" rel=\"dns-prefetch\"/> <link href=\"ref.placeholder\" rel=\"dns-prefetch\"/> <link href=\"ref.placeholder\" rel=\"dns-prefetch\"/> <link href=\"ref.placeholder\" rel=\"dns-prefetch\"/> <link href=\"ref.placeholder\" rel=\"dns-prefetch\"/> <link href=\"ref.placeholder\" rel=\"dns-prefetch\"/> <link href=\"ref.placeholder\" rel=\"dns-prefetch\"/> <link href=\"ref.placeholder\" rel=\"dns-prefetch\"/> <link href=\"ref.placeholder\" rel=\"dns-prefetch\"/> <link href=\"ref.placeholder\" rel=\"dns-prefetch\"/> <link href=\"ref.placeholder\" rel=\"dns-prefetch\"/> <link href=\"ref.placeholder\" rel=\"dns-prefetch\"/> <link href=\"ref.placeholder\" rel=\"dns-prefetch\"/> <link href=\"ref.placeholder\" rel=\"dns-prefetch\"/> <link href=\"ref.placeholder\" rel=\"dns-prefetch\"/> <link href=\"ref.placeholder\" rel=\"dns-prefetch\"/> <link href=\"ref.placeholder\" rel=\"dns-prefetch\"/> <link href=\"ref.placeholder\" rel=\"dns-prefetch\"/> <link href=\"ref.placeholder\" rel=\"dns-prefetch\"/> <link href=\"ref.placeholder\" rel=\"dns-prefetch\"/> <link href=\"ref.placeholder\" rel=\"dns-prefetch\"/> <link href=\"ref.placeholder\" rel=\"dns-prefetch\"/> <link href=\"ref.placeholder\" rel=\"dns-prefetch\"/> <link href=\"ref.placeholder\" rel=\"dns-prefetch\"/> <link href=\"ref.placeholder\" rel=\"dns-prefetch\"/> <link href=\"ref.placeholder\" rel=\"dns-prefetch\"/> <link href=\"ref.placeholder\" rel=\"dns-prefetch\"/> <link href=\"ref.placeholder\" rel=\"dns-prefetch\"/> <link href=\"ref.placeholder\" rel=\"dns-prefetch\"/> <link href=\"ref.placeholder\" rel=\"dns-prefetch\"/> <link href=\"ref.placeholder\" rel=\"dns-prefetch\"/> <link href=\"ref.placeholder\" rel=\"dns-prefetch\"/> <link href=\"ref.placeholder\" rel=\"dns-prefetch\"/> <link href=\"ref.placeholder\" rel=\"dns-prefetch\"/> <link href=\"ref.placeholder\" rel=\"dns-prefetch\"/> <link href=\"ref.placeholder\" rel=\"dns-prefetch\"/> <link href=\"ref.placeholder\" rel=\"dns-prefetch\"/> <link href=\"ref.placeholder\" rel=\"dns-prefetch\"/> <link href=\"ref.placeholder\" rel=\"dns-prefetch\"/> <link href=\"ref.placeholder\" rel=\"dns-prefetch\"/> <link href=\"ref.placeholder\" rel=\"dns-prefetch\"/> <link href=\"ref.placeholder\" rel=\"dns-prefetch\"/> <link href=\"ref.placeholder\" rel=\"dns-prefetch\"/> <link href=\"ref.placeholder\" rel=\"dns-prefetch\"/> <link href=\"ref.placeholder\" rel=\"dns-prefetch\"/> <link href=\"ref.placeholder\" rel=\"dns-prefetch\"/> <link href=\"ref.placeholder\" rel=\"dns-prefetch\"/> <link href=\"ref.placeholder\" rel=\"dns-prefetch\"/> <link href=\"ref.placeholder\" rel=\"dns-prefetch\"/> <link href=\"ref.placeholder\" rel=\"dns-prefetch\"/> <link href=\"ref.placeholder\" rel=\"dns-prefetch\"/> <link href=\"ref.placeholder\" rel=\"dns-prefetch\"/> <link href=\"ref.placeholder\" rel=\"dns-prefetch\"/> <link href=\"ref.placeholder\" rel=\"dns-prefetch\"/> <link href=\"ref.placeholder\" rel=\"dns-prefetch\"/> <link href=\"ref.placeholder\" rel=\"dns-prefetch\"/> <link href=\"ref.placeholder\" rel=\"dns-prefetch\"/> <link href=\"ref.placeholder\" rel=\"dns-prefetch\"/> <link href=\"ref.placeholder\" rel=\"dns-prefetch\"/> <link href=\"ref.placeholder\" rel=\"dns-prefetch\"/> <link href=\"ref.placeholder\" rel=\"dns-prefetch\"/> <link href=\"ref.placeholder\" rel=\"dns-prefetch\"/> <link href=\"ref.placeholder\" rel=\"dns-prefetch\"/> <link href=\"ref.placeholder\" rel=\"dns-prefetch\"/> <link href=\"ref.placeholder\" rel=\"dns-prefetch\"/> <link href=\"ref.placeholder\" rel=\"dns-prefetch\"/> <link href=\"ref.placeholder\" rel=\"dns-prefetch\"/> <link href=\"ref.placeholder\" rel=\"dns-prefetch\"/> <link href=\"ref.placeholder\" rel=\"dns-prefetch\"/> <link href=\"ref.placeholder\" rel=\"dns-prefetch\"/> <link href=\"ref.placeholder\" rel=\"dns-prefetch\"/> <link href=\"ref.placeholder\" rel=\"dns-prefetch\"/> <link href=\"ref.placeholder\" rel=\"dns-prefetch\"/> <link href=\"ref.placeholder\" rel=\"dns-prefetch\"/> <link href=\"ref.placeholder\" rel=\"dns-prefetch\"/> <link href=\"ref.placeholder\" rel=\"dns-prefetch\"/> <link href=\"ref.placeholder\" rel=\"dns-prefetch\"/> <link href=\"ref.placeholder\" rel=\"dns-prefetch\"/> <link href=\"ref.placeholder\" rel=\"dns-prefetch\"/> <link href=\"ref.placeholder\" rel=\"dns-prefetch\"/> <link href=\"ref.placeholder\" rel=\"dns-prefetch\"/> <link href=\"ref.placeholder\" rel=\"dns-prefetch\"/> <link href=\"ref.placeholder\" rel=\"dns-prefetch\"/> <link href=\"ref.placeholder\" rel=\"dns-prefetch\"/> <link href=\"ref.placeholder\" rel=\"dns-prefetch\"/> <link href=\"ref.placeholder\" rel=\"dns-prefetch\"/> <link href=\"ref.placeholder\" rel=\"dns-prefetch\"/> <link href=\"ref.placeholder\" rel=\"dns-prefetch\"/> <link href=\"ref.placeholder\" rel=\"dns-prefetch\"/> <link href=\"ref.placeholder\" rel=\"dns-prefetch\"/> <link href=\"ref.placeholder\" rel=\"dns-prefetch\"/> <link href=\"ref.placeholder\" rel=\"dns-prefetch\"/> <link href=\"ref.placeholder\" rel=\"dns-prefetch\"/> <link href=\"ref.placeholder\" rel=\"dns-prefetch\"/> <link href=\"ref.placeholder\" rel=\"dns-prefetch\"/> <link href=\"ref.placeholder\" rel=\"dns-prefetch\"/> <link href=\"ref.placeholder\" rel=\"dns-prefetch\"/> <link href=\"ref.placeholder\" rel=\"dns-prefetch\"/> <link href=\"ref.placeholder\" rel=\"dns-prefetch\"/> <link href=\"ref.placeholder\" rel=\"dns-prefetch\"/> <link href=\"ref.placeholder\" rel=\"dns-prefetch\"/> <link href=\"ref.placeholder\" rel=\"dns-prefetch\"/> <link href=\"ref.placeholder\" rel=\"dns-prefetch\"/> <link href=\"ref.placeholder\" rel=\"dns-prefetch\"/> <link href=\"ref.placeholder\" rel=\"dns-prefetch\"/> <link href=\"ref.placeholder\" rel=\"dns-prefetch\"/> <link href=\"ref.placeholder\" rel=\"dns-prefetch\"/> <link href=\"ref.placeholder\" rel=\"dns-prefetch\"/> <link href=\"ref.placeholder\" rel=\"dns-prefetch\"/> <link href=\"ref.placeholder\" rel=\"dns-prefetch\"/> <link href=\"ref.placeholder\" rel=\"dns-prefetch\"/> <link href=\"ref.placeholder\" rel=\"dns-prefetch\"/> <link href=\"ref.placeholder\" rel=\"dns-prefetch\"/> <link href=\"ref.placeholder\" rel=\"dns-prefetch\"/> <link href=\"ref.placeholder\" rel=\"dns-prefetch\"/> <link href=\"ref.placeholder\" rel=\"dns-prefetch\"/> <link href=\"ref.placeholder\" rel=\"dns-prefetch\"/> <link href=\"ref.placeholder\" rel=\"dns-prefetch\"/> <link href=\"ref.placeholder\" rel=\"dns-prefetch\"/> <link href=\"ref.placeholder\" rel=\"dns-prefetch\"/> <link href=\"ref.placeholder\" rel=\"dns-prefetch\"/> <link href=\"ref.placeholder\" rel=\"dns-prefetch\"/> <link href=\"ref.placeholder\" rel=\"dns-prefetch\"/> <link href=\"ref.placeholder\" rel=\"dns-prefetch\"/> <link href=\"ref.placeholder\" rel=\"dns-prefetch\"/> <link href=\"ref.placeholder\" rel=\"dns-prefetch\"/> <link href=\"ref.placeholder\" rel=\"dns-prefetch\"/> <link href=\"ref.placeholder\" rel=\"dns-prefetch\"/> <link href=\"ref.placeholder\" rel=\"dns-prefetch\"/> <link href=\"ref.placeholder\" rel=\"dns-prefetch\"/> <link href=\"ref.placeholder\" rel=\"dns-prefetch\"/> <link href=\"ref.placeholder\" rel=\"dns-prefetch\"/> <link href=\"ref.placeholder\" rel=\"dns-prefetch\"/> <link href=\"ref.placeholder\" rel=\"dns-prefetch\"/> <link href=\"ref.placeholder\" rel=\"dns-prefetch\"/> <link href=\"ref.placeholder\" rel=\"dns-prefetch\"/> <link href=\"ref.placeholder\" rel=\"dns-prefetch\"/> <link href=\"ref.placeholder\" rel=\"dns-prefetch\"/> <link href=\"ref.placeholder\" rel=\"dns-prefetch\"/> <link href=\"ref.placeholder\" rel=\"dns-prefetch\"/> <link href=\"ref.placeholder\" rel=\"dns-prefetch\"/> <link href=\"ref.placeholder\" rel=\"dns-prefetch\"/> <link href=\"ref.placeholder\" rel=\"dns-prefetch\"/> <link href=\"ref.placeholder\" rel=\"dns-prefetch\"/> <link href=\"ref.placeholder\" rel=\"dns-prefetch\"/> <link href=\"ref.placeholder\" rel=\"dns-prefetch\"/> <link href=\"ref.placeholder\" rel=\"dns-prefetch\"/> <link href=\"ref.placeholder\" rel=\"dns-prefetch\"/> <link href=\"ref.placeholder\" rel=\"dns-prefetch\"/> <link href=\"ref.placeholder\" rel=\"dns-prefetch\"/> <link href=\"ref.placeholder\" rel=\"dns-prefetch\"/> <link href=\"ref.placeholder\" rel=\"dns-prefetch\"/> <link href=\"ref.placeholder\" rel=\"dns-prefetch\"/> <link href=\"ref.placeholder\" rel=\"dns-prefetch\"/> <link href=\"ref.placeholder\" rel=\"dns-prefetch\"/> <link href=\"ref.placeholder\" rel=\"dns-prefetch\"/> <link href=\"ref.placeholder\" rel=\"dns-prefetch\"/> <link href=\"ref.placeholder\" rel=\"dns-prefetch\"/> <link href=\"ref.placeholder\" rel=\"dns-prefetch\"/> <link href=\"ref.placeholder\" rel=\"dns-prefetch\"/> <link href=\"ref.placeholder\" rel=\"dns-prefetch\"/> <link href=\"ref.placeholder\" rel=\"dns-prefetch\"/> <link href=\"ref.placeholder\" rel=\"dns-prefetch\"/> <link href=\"ref.placeholder\" rel=\"dns-prefetch\"/> <link href=\"ref.placeholder\" rel=\"dns-prefetch\"/> <link href=\"ref.placeholder\" rel=\"dns-prefetch\"/> <link href=\"ref.placeholder\" rel=\"dns-prefetch\"/> <link href=\"ref.placeholder\" rel=\"dns-prefetch\"/> <link href=\"ref.placeholder\" rel=\"dns-prefetch\"/> <link href=\"ref.placeholder\" rel=\"dns-prefetch\"/> <link href=\"ref.placeholder\" rel=\"dns-prefetch\"/> <link href=\"ref.placeholder\" rel=\"dns-prefetch\"/> <link href=\"ref.placeholder\" rel=\"dns-prefetch\"/> <link href=\"ref.placeholder\" rel=\"dns-prefetch\"/> <link href=\"ref.placeholder\" rel=\"dns-prefetch\"/> <link href=\"ref.placeholder\" rel=\"dns-prefetch\"/> <link href=\"ref.placeholder\" rel=\"dns-prefetch\"/> <link href=\"ref.placeholder\" rel=\"dns-prefetch\"/> <link href=\"ref.placeholder\" rel=\"dns-prefetch\"/> <link href=\"ref.placeholder\" rel=\"dns-prefetch\"/> <link href=\"ref.placeholder\" rel=\"dns-prefetch\"/> <link href=\"ref.placeholder\" rel=\"dns-prefetch\"/> <link href=\"ref.placeholder\" rel=\"dns-prefetch\"/> <link href=\"ref.placeholder\" rel=\"dns-prefetch\"/> <link href=\"ref.placeholder\" rel=\"dns-prefetch\"/> <link href=\"ref.placeholder\" rel=\"dns-prefetch\"/> <link href=\"ref.placeholder\" rel=\"dns-prefetch\"/> <link href=\"ref.placeholder\" rel=\"dns-prefetch\"/> <link href=\"ref.placeholder\" rel=\"dns-prefetch\"/> <link href=\"ref.placeholder\" rel=\"dns-prefetch\"/> <link href=\"ref.placeholder\" rel=\"dns-prefetch\"/> <link href=\"ref.placeholder\" rel=\"dns-prefetch\"/> <link href=\"ref.placeholder\" rel=\"dns-prefetch\"/> <link href=\"ref.placeholder\" rel=\"dns-prefetch\"/> <link href=\"ref.placeholder\" rel=\"dns-prefetch\"/> <link href=\"ref.placeholder\" rel=\"dns-prefetch\"/> <link href=\"ref.placeholder\" rel=\"dns-prefetch\"/> <link href=\"ref.placeholder\" rel=\"dns-prefetch\"/> <link href=\"ref.placeholder\" rel=\"dns-prefetch\"/> <link href=\"ref.placeholder\" rel=\"dns-prefetch\"/> <link href=\"ref.placeholder\" rel=\"dns-prefetch\"/> <link href=\"ref.placeholder\" rel=\"dns-prefetch\"/> <link href=\"ref.placeholder\" rel=\"dns-prefetch\"/> <link href=\"ref.placeholder\" rel=\"dns-prefetch\"/> <link href=\"ref.placeholder\" rel=\"dns-prefetch\"/> <link href=\"ref.placeholder\" rel=\"dns-prefetch\"/> <link href=\"ref.placeholder\" rel=\"dns-prefetch\"/> <link href=\"ref.placeholder\" rel=\"dns-prefetch\"/> <link href=\"ref.placeholder\" rel=\"dns-prefetch\"/> <link href=\"ref.placeholder\" rel=\"dns-prefetch\"/> <link href=\"ref.placeholder\" rel=\"dns-prefetch\"/> <link href=\"ref.placeholder\" rel=\"dns-prefetch\"/> <link href=\"ref.placeholder\" rel=\"dns-prefetch\"/> <link href=\"ref.placeholder\" rel=\"dns-prefetch\"/> <link href=\"ref.placeholder\" rel=\"dns-prefetch\"/> <link href=\"ref.placeholder\" rel=\"dns-prefetch\"/> <link href=\"ref.placeholder\" rel=\"dns-prefetch\"/> <link href\n",
            "    Answer: <html lang=\"en\"> <head> <title>CAA</title> <link href=\"https://example.com\" rel=\"shortcut icon\" type=\"image/x-icon\"/> <link href=\"collegeart.org.css\" rel=\"stylesheet\"/> <link href=\"collegeart.org.css\" media=\"screen\" rel=\"stylesheet\" type=\"text/css\"/> <link href=\"collegeart.org.css\" media=\"screen\" rel=\"stylesheet\" type=\"text/css\"/> <link href=\"collegeart.org.css\" media=\"print\" rel=\"stylesheet\" type=\"text/css\"/> <link href=\"collegeart.org.css\" rel=\"stylesheet\"/> <link href=\"collegeart.org.css\" media=\"screen\" rel=\"stylesheet\" type=\"text/css\"/> <link href=\"collegeart.org.css\" rel=\"stylesheet\"/> </head> <body> <div id=\"dc1Klue3nNlArf1EO7fdjW0Wuv2VspKSy92Nf29iq4c4\"></div> <div class=\"d365-mkt-config\" data-hostname=\"2a5883f4d7e947febf46174ecc5a4f84.svc.dynamics.com\" data-website-id=\"c1Klue3nNlArf1EO7fdjW0Wuv2VspKSy92Nf29iq4c4\" style=\"display:none\"></div> <p class=\"skip\"><a href=\"ref.placeholder\">Skip Navigation</a></p> <nav class=\"mobile-navigation\"> <ul class=\"nav standard-page-width top-nav\"> <div class=\"logo\"><a href=\"https://example.com\"><img src=\"../../images/default_img.jpeg\"/></a></div> <li class=\"has-children\"><span class=\"expand-icon\"><span></span></span><a href=\"https://example.com\">Membership</a><ul><li><a href=\"https://example.com\">Individual Membership</a></li><li><a href=\"https://example.com\">Institutional Membership</a></li><li><a href=\"https://example.com\">Affiliated Societies</a></li></ul></li><li class=\"has-children\"><span class=\"expand-icon\"><span></span></span><a href=\"https://example.com\">Programs</a><ul><li class=\"has-children\"><span class=\"expand-icon\"><span></span></span><a href=\"https://example.com\">Annual Conference</a><ul><li><a href=\"https://example.com\">CAA 2024 Annual Conference Proposals</a></li><li><a href=\"https://example.com\">CAA 2023 Annual Conference</a></li><li><a href=\"https://example.com\">CAA 2023 FAQ</a></li><li><a href=\"https://example.com\">CAA 2023 Book and Trade Fair</a></li><li><a href=\"https://example.com\">Future Conference Dates</a></li><li><a href=\"https://example.com\">CAA Conference History</a></li><li><a href=\"https://example.com\">Distinguished Scholar Session</a></li><li><a href=\"https://example.com\">Annual Artists Interviews</a></li></ul></li><li><a href=\"https://example.com\">International</a></li><li><a href=\"https://example.com\">Advocacy</a></li><li class=\"has-children\"><span class=\"expand-icon\"><span></span></span><a href=\"https://example.com\">Fair Use</a><ul><li><a href=\"https://example.com\">Code of Best Practices in Fair Use In the Visual Arts</a></li><li><a href=\"https://example.com\">FAQ</a></li><li><a href=\"https://example.com\">You be the Judge</a></li><li><a href=\"https://example.com\">Teaching Tools</a></li><li><a href=\"https://example.com\">Webinar Series</a></li></ul></li><li><a href=\"https://example.com\">RAAMP</a></li><li class=\"has-children\"><span class=\"expand-icon\"><span></span></span><a href=\"https://example.com\">Awards for Distinction</a><ul><li><a href=\"https://example.com\">Nominations</a></li></ul></li><li class=\"has-children\"><span class=\"expand-icon\"><span></span></span><a href=\"https://example.com\">Publishing Grants</a><ul><li><a href=\"https://example.com\">Millard Meiss Publication Fund</a></li><li><a href=\"https://example.com\">Wyeth Foundation for American Art Publication Grant</a></li></ul></li><li><a href=\"https://example.com\">Support and Travel Grants</a></li><li><a href=\"https://example.com\">Fellowships and Scholarships</a></li><li><a href=\"https://example.com\">CAA Podcasts</a></li></ul></li><li class=\"has-children\"><span class=\"expand-icon\"><span></span></span><a href=\"https://example.com\">News</a><ul><li><a href=\"https://example.com\">CAA News Today</a></li><li><a href=\"https://example.com\">CAA Weekly Newsletter</a></li></ul></li><li class=\"has-children\"><span class=\"expand-icon\"><span></span></span><a href=\"https://example.com\">Advocacy</a></li><li class=\"has-children\"><span class=\"expand-icon\"><span></span></span><a href=\"https://example.com\">Jobs Opportunities</a></li><li class=\"has-children\"><span class=\"expand-icon\"><span></span></span><a href=\"https://example.com\">Publications</a><ul><li class=\"has-children\"><span class=\"expand-icon\"><span></span></span><a href=\"https://example.com\"><em>The Art Bulletin</em></a><ul><li><a href=\"https://example.com\">Submit a Proposal to <em>The Art Bulletin</em></a></li><li><a href=\"https://example.com\">Prepare an Accepted Manuscript</a></li></ul></li><li class=\"has-children\"><a href=\"https://example.com\"><em>Art Journal</em></a><ul><li><a href=\"https://example.com\">Submit a Proposal to <em>Art Journal</em></a></li><li><a href=\"https://example.com\">Prepare an Accepted Manuscript</a></li></ul></li><li><a href=\"https://example.com\"><em>Art Journal Open</em><img src=\"../../images/default_img.jpeg\"/></a></li><li><a href=\"https://example.com\"><em>caa.reviews</em><img src=\"../../images/default_img.jpeg\"/></a></li><li><a href=\"https://example.com\">Other Publications</a></li></ul></li><li class=\"has-children\"><span class=\"expand-icon\"><span></span></span><a href=\"https://example.com\">Standards Guidelines</a><ul><li><a href=\"https://example.com\">CAA Guidelines</a></li><li><a href=\"https://example.com\">Intellectual Property</a></li></ul></li><li class=\"has-children\"><span class=\"expand-icon\"><span></span></span><a href=\"https://example.com\">Support</a><ul><li class=\"has-children\"><span class=\"expand-icon\"><span></span></span><a href=\"https://example.com\">Giving</a><ul><li><a href=\"https://example.com\">Contribute</a></li><li><a href=\"https://example.com\">Planned Giving</a></li><li><a href=\"https://example.com\">Gift Acceptance Policy</a></li></ul></li><li><a href=\"https://example.com\">Sponsorship</a></li><li class=\"has-children\"><span class=\"expand-icon\"><span></span></span><a href=\"https://example.com\">Advertising</a><ul><li><a href=\"https://example.com\">Online Career Center</a></li><li><a href=\"https://example.com\"><em>The Art Bulletin</em> <em>Art Journal</em></a></li><li><a href=\"https://example.com\"><em>caa.reviews</em></a></li><li><a href=\"https://example.com\">CAA News</a></li><li><a href=\"https://example.com\">Conference</a></li><li><a href=\"https://example.com\">Book and Trade Fair</a></li></ul></li></ul></li> </ul> </nav> <div class=\"mobile-body-wrapper\"> <div class=\"mobile-dimmer\"></div> <div class=\"menu-icon\"><a class=\"menu-expand\" href=\"ref.placeholder\">Menu</a><a href=\"ref.placeholder\" style=\"float:right\">Join Now</a><a href=\"ref.placeholder\" style=\"float:right\">Log In</a></div> <div class=\"header\"> <div class=\"header\"> <div class=\"standard-page-width\" id=\"top-bar\"> <div class=\"left\"><a href=\"ref.placeholder\" style=\"color:#ec008c\">2023 Annual Conference</a></div> <div class=\"right\"> <form action=\"https://example.com\" id=\"cse-search-box\"><input name=\"cx\" type=\"hidden\" value=\"000430164529334213339:2xwh3q2zv2o \"/><input name=\"cof\" type=\"hidden\" value=\"FORID:10\"/><input name=\"ie\" type=\"hidden\" value=\"UTF-8\"/><input id=\"site-search\" name=\"q\" placeholder=\"Search CAA\" size=\"21\" type=\"text\"/><button id=\"site-search-submit\" name=\"submit\"></button></form> <div class=\"member-portal\"><a href=\"https://example.com\" style=\"color:#ec008c\">Join Now</a><a href=\"https://example.com\" style=\"color:#ec008c\">Sign In</a></div> </div> </div> <div class=\"standard-page-width\" id=\"mn\"><a class=\"logotype\" href=\"ref.placeholder\"><img src=\"/images/v3.5/taglines2.gif\"/></a></div> </div> </div> <nav class=\"z-fix clear-fix\" id=\"main-navigation\"> <ul class=\"nav standard-page-width top-nav\"> <div class=\"logo\"><a href=\"https://example.com\"><img src=\"../../images/default_img.jpeg\"/></a></div> <li class=\"has-children\"><span class=\"expand-icon\"><span></span></span><a href=\"https://example.com\">Membership</a><ul><li><a href=\"https://example.com\">Individual Membership</a></li><li><a href=\"https://example.com\">Institutional Membership</a></li><li><a href=\"https://example.com\">Affiliated Societies</a></li></ul></li><li class=\"has-children\"><span class=\"expand-icon\"><span></span></span><a href=\"https://example.com\">Programs</a><ul><li class=\"has-children\"><span class=\"expand-icon\"><span></span></span><a href=\"https://example.com\">Annual Conference</a><ul><li><a href=\"https://example.com\">CAA 2024 Annual Conference Proposals</a></li><li><a href=\"https://example.com\">CAA 2023 Annual Conference</a></li><li><a href=\"https://example.com\">CAA 2023 FAQ</a></li><li><a href=\"https://example.com\">CAA 2023 Book and Trade Fair</a></li><li><a href=\"https://example.com\">Future Conference Dates</a></li><li><a href=\"https://example.com\">CAA Conference History</a></li><li><a href=\"https://example.com\">Distinguished Scholar Session</a></li><li><a href=\"https://example.com\">Annual Artists Interviews</a></li></ul></li><li><a href=\"https://example.com\">International</a></li><li><a href=\"https://example.com\">Advocacy</a></li><li class=\"has-children\"><span class=\"expand-icon\"><span></span></span><a href=\"https://example.com\">Fair Use</a><ul><li><a href=\"https://example.com\">Code of Best Practices in Fair Use In the Visual Arts</a></li><li><a href=\"https://example.com\">FAQ</a></li><li><a href=\"https://example.com\">You be the Judge</a></li><li><a href=\"https://example.com\">Teaching Tools</a></li><li><a href=\"https://example.com\">Webinar Series</a></li></ul></li><li><a href=\"https://example.com\">RAAMP</a></li><li class=\"has-children\"><span class=\"expand-icon\"><span></span></span><a href=\"https://example.com\">Awards for Distinction</a><ul><li><a href=\"https://example.com\">Nominations</a></li></ul></li><li class=\"has-children\"><span class=\"expand-icon\"><span></span></span><a href=\"https://example.com\">Publishing Grants</a><ul><li><a href=\"https://example.com\">Millard Meiss Publication Fund</a></li><li><a href=\"https://example.com\">Wyeth Foundation for American Art Publication Grant</a></li></ul></li><li><a href=\"https://example.com\">Support and Travel Grants</a></li><li><a href=\"https://example.com\">Fellowships and Scholarships</a></li><li><a href=\"https://example.com\">CAA Podcasts</a></li></ul></li><li class=\"has-children\"><span class=\"expand-icon\"><span></span></span><a href=\"https://example.com\">News</a><ul><li><a href=\"https://example.com\">CAA News Today</a></li><li><a href=\"https://example.com\">CAA Weekly Newsletter</a></li></ul></li><li class=\"has-children\"><span class=\"expand-icon\"><span></span></span><a href=\"https://example.com\">Advocacy</a></li><li class=\"has-children\"><span class=\"expand-icon\"><span></span></span><a href=\"https://example.com\">Jobs Opportunities</a></li><li class=\"has-children\"><span class=\"expand-icon\"><span></span></span><a href=\"https://example.com\">Publications</a><ul><li class=\"has-children\"><span class=\"expand-icon\"><span></span></span><a href=\"https://example.com\"><em>The Art Bulletin</em></a><ul><li><a href=\"https://example.com\">Submit a Proposal to <em>The Art Bulletin</em></a></li><li><a href=\"https://example.com\">Prepare an Accepted Manuscript</a></li></ul></li><li class=\"has-children\"><a href=\"https://example.com\"><em>Art Journal</em></a><ul><li><a href=\"https://example.com\">Submit a Proposal to <em>Art Journal</em></a></li><li><a href=\"https://example.com\">Prepare an Accepted Manuscript</a></li></ul></li><li><a href=\"https://example.com\"><em>Art Journal Open</em><img src=\"../../images/default_img.jpeg\"/></a></li><li><a href=\"https://example.com\"><em>caa.reviews</em><img src=\"../../images/default_img.jpeg\"/></a></li><li><a href=\"https://example.com\">Other Publications</a></li></ul></li><li class=\"has-children\"><span class=\"expand-icon\"><span></span></span><a href=\"https://example.com\">Standards Guidelines</a><ul><li><a href=\"https://example.com\">CAA Guidelines</a></li><li><a href=\"https://example.com\">Intellectual Property</a></li></ul></li><li class=\"has-children\"><span class=\"expand-icon\"><span></span></span><a href=\"https://example.com\">Support</a><ul><li class=\"has-children\"><span class=\"expand-icon\"><span></span></span><a href=\"https://example.com\">Giving</a><ul><li><a href=\"https://example.com\">Contribute</a></li><li><a href=\"https://example.com\">Planned Giving</a></li><li><a href=\"https://example.com\">Gift Acceptance Policy</a></li></ul></li><li><a href=\"https://example.com\">Sponsorship</a></li><li class=\"has-children\"><span class=\"expand-icon\"><span></span></span><a href=\"https://example.com\">Advertising</a><ul><li><a href=\"https://example.com\">Online Career Center</a></li><li><a href=\"https://example.com\"><em>The Art Bulletin</em> <em>Art Journal</em></a></li><li><a href=\"https://example.com\"><em>caa.reviews</em></a></li><li><a href=\"https://example.com\">CAA News</a></li><li><a href=\"https://example.com\">Conference</a></li><li><a href=\"https://example.com\">Book and Trade Fair</a></li></ul></li></ul></li> </ul> </nav> <div class=\"clear-fix\" id=\"white-bg\"> <div class=\"standard-page-width clear-fix\" id=\"wrap\"> <div class=\"modal\" id=\"myModal\"> <div class=\"modal-content\"> <div class=\"modal-header\"></div> <div class=\"modal-body\"> <p>CAA uses cookies on its website to improve user experience. By visiting this site you consent to our <a href=\"https://example.com\">Privacy Policy</a>.</p> </div> <div class=\"modal-footer\"><span class=\"agree\"><a class=\"button\">I agree to these terms and conditions.</a></span></div> </div> </div> <div class=\"slideshow\" id=\"slideshow\"> <div class=\"slides\"> <div class=\"slide\" name=\"slide1\" style=\"z-index:3;display:block\"> <a href=\"https://example.com\"><img src=\"../../images/default_img.jpeg\"/></a> <article> <h1><strong>Submit a Proposal for the 112th CAA Annual Conference in Chicago</strong></h1> <p>The submissions portal for the 112th CAA Annual Conference AC2024 is open until April 25, 2023.</p> <p><a class=\"button go\" href=\"https://example.com\">Read More</a></p> </article> </div> <div class=\"slide\" name=\"slide2\" style=\"z-index:1;display:block\"> <a href=\"https://example.com\"><img src=\"../../images/default_img.jpeg\"/></a> <article> <h1><strong>New on <em>Art Journal Open</em></strong></h1> <p>The New Polar Aesthetics of Art and Climate Change A Conversation with Lisa E. Bloom, Elena Glasberg, and Thyrza Nichols Goodeve</p> <p><a class=\"button go\" href=\"https://example.com\">Read More</a></p> </article> </div> <div class=\"slide\" name=\"slide3\" style=\"z-index:1;display:block\"> <a href=\"https://example.com\"><img src=\"../../images/default_img.jpeg\" style=\"border-bottom:solid #AEAEAE\"/></a> <article> <h1><strong>Explore the Latest Issue of <em>Art Journal</em></strong></h1> <p>Look through a preview of its content or explore the digital version.</p> <p><a class=\"button go\" href=\"https://example.com\">Read More</a></p> </article> </div> <div class=\"slide\" name=\"slide4\" style=\"z-index:1;display:block\"> <a href=\"https://example.com\"><img src=\"../../images/default_img.jpeg\"/></a> <article> <h1><strong>Explore the Latest Issue of <em>The Art Bulletin</em></strong></h1> <p>Look through a preview of its content or explore the digital version.</p> <p><a class=\"button go\" href=\"https://example.com\">Read More</a></p> </article> </div> <div class=\"slide\" name=\"slide5\" style=\"z-index:1;display:block\"> <a href=\"ref.placeholder\"><img src=\"../../images/default_img.jpeg\"/></a> <article> <h1><strong>20222023 Podcasts!</strong></h1> <p>An all-new season of podcasts related to the visual arts and education.</p> <p><a class=\"button go\" href=\"ref.placeholder\">Listen now</a></p> </article> </div> <div class=\"slide\" name=\"slide6\" style=\"z-index:1;display:block\"> <a href=\"https://example.com\"><img src=\"../../images/default_img.jpeg\"/></a> <article> <h1><em>Art Since 1940 Strategies of Being</em></h1> <p>To thank those who made this the dominant book in the field, author Jonathan Fineberg wished to make it available for free to download by all who support CAA.</p> <p><a class=\"button go\" href=\"https://example.com\">Read More</a></p> </article> </div> <div class=\"slide\" name=\"slide7\" style=\"z-index:1;display:block\"> <a href=\"https://example.com\"><img src=\"../../images/default_img.jpeg\"/></a> <article> <h1>Support CAA using Amazon Smile</h1> <p>Our charity link will automatically direct you to Amazon, where you can directly support CAA.</p> <p><a class=\"button go\" href=\"https://example.com\">Read More</a></p> </article> </div> </div> <span class=\"navigation\"><span class=\"nav-dot nav-dot-1 current\" slidenum=\"1\"></span><span class=\"nav-dot nav-dot-2\" slidenum=\"2\"></span><span class=\"nav-dot nav-dot-3\" slidenum=\"3\"></span><span class=\"nav-dot nav-dot-4\" slidenum=\"4\"></span><span class=\"nav-dot nav-dot-5\" slidenum=\"5\"></span><span class=\"nav-dot nav-dot-6\" slidenum=\"6\"></span><span class=\"nav-dot nav-dot-7\" slidenum=\"7\"></span></span> </div> <div class=\"highlight-row\"> <div class=\"highlight-column\"> <h3>Recent News</h3> <div> <p> <a href=\"https://example.com\"><img alt=\"\" class=\"attachment-thumbnail size-thumbnail wp-post-image\" sizes=\"(max-width: 360px) 100vw, 360px\" src=\"../../images/default_img.jpeg\" srcset=\"../../images/default_img.jpeg 360w,../../images/default_img.jpeg 300w\"/></a><a href=\"https://example.com\"><em>The Art Bulletin</em> Seeks Editorial Board Members</a> <br/> CAA invites nominations and self-nominations individuals to serve on <em>The Art Bulletin</em> Editorial Board for a four-year term, July 1, 2023June 30, 2027. </p> <p class=\"home_posted\"></p> </div> <div> <p> <a href=\"https://example.com\"><img alt=\"\" class=\"attachment-thumbnail size-thumbnail wp-post-image\" sizes=\"(max-width: 360px) 100vw, 360px\" src=\"../../images/default_img.jpeg\" srcset=\"../../images/default_img.jpeg 360w,../../images/default_img.jpeg 300w\"/></a><a href=\"https://example.com\"><em>Art Journal</em> Seeks Editor-in-Chief</a> <br/> The <em>Art JournalAJO</em> Editorial Board invites nominations and self-nominations for the position of editor-in-chief for the term July 1, 2023June 30, 2027. </p> <p class=\"home_posted\"></p> </div> <div> <p> <a href=\"https://example.com\"><img alt=\"\" class=\"attachment-thumbnail size-thumbnail wp-post-image\" sizes=\"(max-width: 360px) 100vw, 360px\" src=\"../../images/default_img.jpeg\" srcset=\"../../images/default_img.jpeg 360w,../../images/default_img.jpeg 300w\"/></a><a href=\"https://example.com\"><em>The Art Bulletin</em> Seeks Reviews Editor</a> <br/> The Editorial Board of <em>The Art Bulletin</em> seeks nominations and self-nominations for the position of reviews editor for a three-year term July 1, 2023June 30, 2025. </p> <p class=\"home_posted\"></p> </div> <a class=\"button fit-to-width\" href=\"ref.placeholder\">More Recent News</a> </div> <div class=\"highlight-column\"> <h3>Featured News</h3> <div> <p> <a href=\"https://example.com\"></a><a href=\"https://example.com\">MEET THE 2022 PROFESSIONAL DEVELOPMENT FELLOWS</a> <br/> CAA is announcing the 2022 Professional Development Fellows. </p> <p class=\"home_posted\"></p> </div> <div> <p> <a href=\"https://example.com\"><img alt=\"\" class=\"attachment-thumbnail size-thumbnail wp-post-image\" sizes=\"(max-width: 360px) 100vw, 360px\" src=\"../../images/default_img.jpeg\" srcset=\"../../images/default_img.jpeg 360w,../../images/default_img.jpeg 300w\"/></a><a href=\"https://example.com\">Notice of CAA 111th Annual Business Meeting</a> <br/> </p> <p class=\"home_posted\"></p> </div> <div> <p> <a href=\"https://example.com\"><img alt=\"\" class=\"attachment-thumbnail size-thumbnail wp-post-image\" sizes=\"(max-width: 360px) 100vw, 360px\" src=\"../../images/default_img.jpeg\" srcset=\"../../images/default_img.jpeg 360w,../../images/default_img.jpeg 300w\"/></a><a href=\"https://example.com\">Meet the 2022 Wyeth Award Winners</a> <br/> Since 2005, the Wyeth Foundation for American Art has supported the publication of books on American art through the Wyeth Foundation for American Art Publication Grant, administered by CAA. </p> <p class=\"home_posted\"></p> </div> </div> <div class=\"highlight-column\"> <h3>Participate</h3> <h4><a href=\"https://example.com\">Join</a> CAA</h4> <h4><a class=\"golden-rod\" href=\"https://example.com\">Get Updates</a> Through CAAs Weekly Newsletter</h4> <h4><a class=\"berry\" href=\"https://example.com\">Contribute</a> to support the visual arts</h4> <h4><a class=\"green\" href=\"https://example.com\">Join the Conversation</a> on CAA Social</h4> <hr/> <h3>Deadlines</h3> <a class=\"button fit-to-width\" href=\"ref.placeholder\">All Deadlines</a> </div> </div> </div> <div style=\"width:100%;background-color:#efe9ed\"> <div class=\"highlight-row standard-page-width\"> <div class=\"highlight-column white-border\"> <h3>Publications Updates</h3> <ul> <li> <em>caa.reviews</em> <br/> <a href=\"https://example.com\"><em>Sculptors Against the State Anarchism and the Anglo-European Avant-Garde</em></a> <br/> </li> <li> <em>Art Journal Open</em> <br/> <a href=\"https://example.com\"><em>Environment at War Capturing Global Conflict in Arab Geographies</em></a> and <a href=\"https://example.com\"><em>Art and Feminism Unifying Yugoslavia</em></a> </li> <li> <em>The Art Bulletin</em> <br/> <a href=\"https://example.com\">Volume 104, Issue 4</a> </li> <li> <em>Art Journal</em> <br/> <a href=\"https://example.com\">Winter 2022</a> <br/> </li> </ul> </div> <div class=\"highlight-column white-border\"> <h3>Recent Opportunities</h3> <ul> <li> <a href=\"ref.placeholder\" onclick=\"ga('send', 'event', 'index accordians', 'use', 'link/accordian/opportunities');\"><b>Rutgers University</b> Rutgers Art History Graduate Symposium hybrid event</a> <br/> Conferences Symposia </li> <li> <a href=\"ref.placeholder\" onclick=\"ga('send', 'event', 'index accordians', 'use', 'link/accordian/opportunities');\"><b>The Hopper Prize</b> 3,500 Grants - All Media Eligible</a> <br/> Conferences Symposia </li> <li> <a href=\"ref.placeholder\" onclick=\"ga('send', 'event', 'index accordians', 'use', 'link/accordian/opportunities');\"><b>Louise Cutler Studio</b> The Beauty Of Blackness Fine Art Show</a> <br/> Conferences Symposia </li> </ul> <a class=\"button fit-to-width\" href=\"ref.placeholder\">All Opportunities</a> </div> <div class=\"highlight-column\"> <h3>Recent Job Postings</h3> <ul><li><a href=\"https://example.com\" onclick=\"ga('send', 'event', 'index accordians', 'use', 'link/accordian/jobs');\">Visiting Assistant Professor of Early Modern Art History Kenyon College</a></li><li><a href=\"https://example.com\" onclick=\"ga('send', 'event', 'index accordians', 'use', 'link/accordian/jobs');\">Resident Collections Fellow? Cranbrook Center for Collections and Research Cranbrook Educational Community</a></li><li><a href=\"https://example.com\" onclick=\"ga('send', 'event', 'index accordians', 'use', 'link/accordian/jobs');\">Vassar Innovation Lab Manager Vassar College</a></li></ul><a class=\"button fit-to-width\" href=\"https://example.com\">All Jobs</a> </div> </div> </div> <div></div> </div> <div id=\"footer\"> <div class=\"standard-page-width\" style=\"display:table\"> <nav class=\"footer-nav\"> <h3><a href=\"https://example.com\">About</a></h3> <ul style=\"list-style:none\"><li><a href=\"https://example.com\">Board of Directors</a></li><li><a href=\"https://example.com\">Mission Statement</a></li><li><a href=\"https://example.com\">CAA Strategic Repositioning 20202026</a></li><li><a href=\"https://example.com\">CAA 20202021 Annual Report</a></li><li><a href=\"https://example.com\">CAA 2021 Financial Statements</a></li><li><a href=\"https://example.com\">Staff</a></li><li><a href=\"https://example.com\">Deadlines</a></li><li><a href=\"https://example.com\">Archive</a></li><li><a href=\"https://example.com\">Careers at CAA</a></li></ul> </nav> <nav class=\"footer-nav\"> <h3><a href=\"https://example.com\">Committees</a></h3> <ul style=\"list-style:none\"><li><a href=\"https://example.com\">Governance Committees</a></li><li><a href=\"https://example.com\">Annual Conference Committee</a></li><li><a href=\"https://example.com\">Professional Committees</a></li><li><a href=\"https://example.com\">Publications Committees</a></li></ul> </nav> </div> <div id=\"fine-print\"> <p><a href=\"https://example.com\"><img src=\"../../images/default_img.jpeg\"/></a><a href=\"https://example.com\"><img src=\"../../images/default_img.jpeg\"/></a><a href=\"https://example.com\"><img src=\"../../images/default_img.jpeg\"/></a><a href=\"https://example.com\"><img src=\"../../images/default_img.jpeg\"/></a><a href=\"https://example.com\"><img src=\"../../images/default_img.jpeg\"/></a><a href=\"https://example.com\"><img src=\"../../images/default_img.jpeg\"/></a></p> <p class=\"legal\"><a href=\"https://example.com\">Privacy Policy</a> <a href=\"https://example.com\">Refund Policy</a></p> <blockquote> <p>Copyright 2023 College Art Association of America, Inc.</p> <p class=\"contact\">50 Broadway, 21st Floor, New York, NY 10004 T 212-691-1051 F 212-627-2381 <a href=\"mailto:info@collegeart.org\">infocollegeart.org</a></p> </blockquote> </div> </div> </div> </body> </html> /* START CSS */ @import url(ref.placeholder) ; html { height: 100%; margin: 0; padding: 0; } body { color: #000; margin: 0; padding: 0; font-family: \"LL Circular Book Web\",sans-serif; font-size: 17px; ; height: 100%; background-color: #4A4A4A; } ul,h1 { padding: 0; margin: 0 0 20px } p { padding: 0; margin: 15px 0 } img { border: 0 } form { margin: 0; padding: 0 } a { color: #ec008c; text-decoration: none; font-weight: bold; } hr { border: none; border-top: 1px solid #a2a3a8; }.skip { display: none } img.left { float: left; margin: 0 15px 15px 0 } img.right { float: right; margin: 0 0 15px 15px }.clear-fix { *zoom1; }.standard-page-width { width: 1200px; margin: auto; }.berry { color: #9f428f; }.green { color: #00b156; }.golden-rod { color: #f99d2a; }.header { margin: 0 auto; padding: 0; width: 100%; z-index: 20; background: #fff; } #top-bar { height: 28px; color: #4A4A4A; padding: 5px; font-size: 20px; } #top-bar.left { float: left; } #top-bar.right { float: right; display: table } #top-bar a { color: #ec008c; font-weight: bold; } #site-search { background: #a2a2a2!important; border: none; border-top-left-radius: 3px; border-bottom-left-radius: 3px; color: #fff; padding: 5px; width: 164px; } #site-search-submit { background: #a2a2a2; border: none; border-top-right-radius: 3px; border-bottom-right-radius: 3px; color: #fff; margin: 2px; width: 23px; padding: 5px; } #top-bar.member-portal { display: table-cell; vertical-align: middle; } #mn { background: #ffffff; height: 160px; }.logotype { margin: 0px 5px 0px 0; width: 350px; display: block; }.logotype img { width: 400px; } #main-navigation { width: 100%; position: relative; background: #00b5d1; } #main-navigation.z-fix { z-index: 2000; } #main-navigation.nav.logo { width: 30px; ; position: absolute; left: -60px; top: 8px; width: 0px; font-weight: bold; -webkit-transition: width.5s; } #main-navigation.nav.logo a { color: #fff; } #main-navigation.nav,#main-navigation.nav ul { padding: 0; list-style: none; position: relative; } #main-navigation.nav li a { display: block; text-decoration: none; color: #FFFFFF; font-size: 13px; text-align: center; font-weight: 400; } #main-navigation.nav li ul { position: absolute; left: -999em; } #main-navigation.nav > li { float: left; padding-right: 10px; } #main-navigation.nav > li > a { padding: 12px 10px 10px; } #main-navigation.nav > li > ul { width: 260px; -webkit-box-shadow: 1px 1px 6px 6px rgba(0,0,0,0.5); } #main-navigation.nav > li > ul > li > a { color: #fff; background-color: #ec008c; padding: 12px; text-align: left; } #main-navigation.nav > li > ul > li > ul > li > a { padding: 10px; margin: 0 10px; background-color: transparent; text-align: left; }.menu-icon { display: none; }.mobile-navigation { display: none; } #white-bg { width: 100%; background-color: #fff; min-height: -moz-calc(100% - 650px); min-height: -webkit-calc(100% - 650px); min-height: -o-calc(100% - 650px); min-height: calc(100% - 650px); } #wrap { background-color: #fff; z-index: 1; min-height: 100% } #content { width: 755px; width: -moz-calc(100% - 315px); width: -webkit-calc(100% - 315px); width: -o-calc(100% - 315px); width: calc(100% - 315px); padding: 50px 0; margin: 0; float: left; background-color: #fff; } #content h3,#content h4 { padding: 0; margin: 30px 0 10px } #content h1 { color: #1F2325; font-size: 30px; } #content h1 a { color: #ec008c; } #content h3 { color: #9f428f; font-size: 19px; } #content blockquote { margin: 0 10px 10px 40px; quotes: \"“\"\"”\"\"‘\"\"’\"; color: #000 } #content ul { padding: 0 25px 0 25px; list-style: disc } #content ul li { margin: 0 0 0px 0; padding: 0 0 0 0px; no-repeat 0 5px } #content ul.contact { padding: 5px 0 5px 0; margin: 0; list-style: none } #content li.contact { margin: 0 0 5px 0; padding: 0 0 0 15px; background: url(ref.placeholder) no-repeat 0 5px }.button { color: #fff; display: inline-block; min-width: 50px; margin: 5px 10px 10px 0; padding: 8px 34px 5px 15px; background-color: #f99d2a; font-size: 18px; font-weight: bold; -webkit-box-shadow: 1px 1px 3px 1px rgba(0,0,0,.2); text-align: center }.button a { color: #fff }.go { color: #fff; }.fit-to-width { width: 100%; padding-left: 0; padding-right: 0; } #right { float: right; width: 25%; -webkit-box-sizing: border-box; box-sizing: border-box; margin: 0; padding-top: 30px; background-color: #fff; } #right a { font-weight: normal; color: #333; display: block; padding: 7px 5px 5px 5px; border-bottom: 1px dotted #ccc } #right h3 { color: #FFF; padding: 0px; margin: 3px 0 3px 0; background-color: #ec008c; } #right h3 a { color: #FFF; } #right ul { margin: 3px 0 3px 0; padding: 0; list-style: none; background: #fff } #right li { padding: 0; margin: 0; } #right ul li ul { margin: 3px 0 3px 5px; border-left: 5px solid #00b156; padding-left: 5px; } #footer { float: left; font-size: 90%; background-color: #00b5d1; width: 100%; }.footer-nav a { color: #FFFFFF }.footer-nav { display: table-cell; box-sizing: border-box; width: 50%; padding: 20px 10px 20px 0; height: 100%; }.footer-nav h3 { font-size: 1.5em; border-bottom: 1px solid #fff; padding-bottom: 5px; margin-top: 0px; }.footer-nav ul { list-style: none; -webkit-column-count: 2; column-count: 2; } #fine-print { padding: 20px; margin: 0; background-color: #4A4A4A; color: #FFFFFF; } #fine-print p { text-align: center; } #fine-print a { font-weight: bold; color: #ec008c; } #rolloverNews { float: left; clear: both; padding-top: 10px; width: 100% } #rolloverNews p { min-height: 65px; display: block; max-width: 540px; float: left; padding: 0 0 10px 0; margin: 0px } #rolloverNews h3 { clear: left; Padding-bottom: 10px; margin-bottom: 10px } #div-gpt-ad-1632778459099-0 { padding-top: 20px; padding-bottom: 20px; margin-bottom: 20px; margin-top: 20px; float: left; width: 100%; } #div-gpt-ad-1632778459099-1 { float: left; width: 100%; padding-left: 20px; } #div-gpt-ad-1632778459099-2 { float: left; width: 100%; margin-top: 20px; margin-bottom: 20px; padding-left: 20px; } #conf-nav { color: #fff; width: 100%; position: relative; background-color: #ec008c; } #conf-nav.z-fix { z-index: 2000; } #conf-nav.nav,#conf-nav.nav ul { padding: 0; list-style: none; position: relative; align-content: center } #conf-nav li { display: inline; padding: 0% 2% 0% 4%; } #conf-nav li a { text-decoration: none; color: #FFFFFF; font-size: 14px; text-align: center; font-weight: 400; } #conf-img img { width: 800px; float: left; } #getty-body-text { font-size: 1em; } #toc { background-color: #12bdf9; color: #ffffff; } #toc a { color: midnightblue; } #wide-table { display: block; width: 100% } #narrow-table { display: none; } #modal img { width: 70%; }.modal { display: none; position: fixed; z-index: 99999; left: 0; top: 0; width: 100%; height: 100%; overflow: auto; background-color: rgb(0,0,0); background-color: rgba(0,0,0,0.4); }.modal-content { background-color: #fefefe; margin: 5% auto; padding: 20px; border: 1px solid #888; width: 45%; } #countdown { font-size: 2em; height: 60px; } body { font-family: arial,helvetica; font-size: 90% } hr { display: none }.nav { display: none }.mobile-navigation { display: none; }.menu-icon { display: none; }.skip { display: none } #top-bar { display: none } #mn { display: none } #right { display: none } img { border: 0 } #meta ul { display: none }.footer-nav { display: none; }.legal { display: none; } a { color: #8cb8c6; text-decoration: none; font-weight: bold; } } #row1 { display: none } a.button { display: none; } #domain-nav { width: 100%; height: 80px; overflow: hidden; } #domain-nav a { float: left; width: 49.4%; height: 80px; box-sizing: border-box; background-clip: content-box; overflow: hidden; text-align: center; } #wrap { position: static; } #highlights { -webkit-column-count: 2; column-count: 2; }.highlight-row { display: table; padding: 0px 0; }.highlight-column { width: 33%; -webkit-box-sizing: border-box; -mox-box-sizing: border-box; box-sizing: border-box; padding: 0 20px; border-right: 1px solid #bbbbbb; display: table-cell; }.highlight-column:nth-child(3) { border: none; }.highlight-column h3 { Font-size: 28px; font-weight: 400; }.highlight-column h4 { Font-size: 20px; font-weight: 400; margin: 0 0 10px 0; color: #777; }.highlight-column ul { list-style: none; }.highlight-column ul li { margin-bottom: 15px; }.highlight-column ul li a { font-size: 18px; }.highlight-column img { max-width: 100%; height: auto; }.slideshow { padding-bottom: 400px; margin-bottom: 20px; }.slideshow.slides { width: 100%; height: 400px; position: absolute; background-color: #939598; left: 0; border-bottom: 0px solid #4A4A4A; border-top: 0px solid #4A4A4A; overflow: hidden; }.slideshow.slide { display: none; background: #939598; width: 1200px; position: absolute; margin: 0px; left: calc(50% - 600px); }.slideshow.slide img { width: 900px; float: left; }.slideshow article { width: 270px; float: right; color: #fff; margin: 30px 0 30px 30px; font-size: 18px; overflow: hidden; }.slideshow article h1 { margin-top: 0; text-align: left; }.slideshow.navigation { display: block; z-index: 3; position: relative; top: 375px; float: right; }.slideshow.navigation.nav-dot { display: block; width: 10px; height: 10px; padding: 2px; float: left; border: 1px solid #fff; margin-right: 5px; cursor: pointer; }.slideshow.navigation.current { background-color: #fff; background-clip: content-box; }\n",
            "      Bleu: 0.08\n",
            "\n",
            "Prediction: <html xmlns=\"https://example.com\"> <head> <title>Buy Albenza Online - Fast Delivery</title> <link href=\"https://example.com\" rel=\"stylesheet\" type=\"text/css\"/> <link href=\"albenza.life.css\" media=\"screen\" rel=\"stylesheet\" type=\"text/css\"/> </head> <body> <div id=\"wrapper\"> <div id=\"header\"> <div id=\"logo\"> <h1>Albenza</h1> <h2>Albenza 50 Mg</h2> </div> <div id=\"menu\"><ul><li class=\"current_page_item\"><a href=\"ref.placeholder\">Homepage</a></li><li><a href=\"ref.placeholder\">Blog</a></li><li><a href=\"ref.placeholder\">Photos</a></li><li><a href=\"ref.placeholder\">About</a></li><li><a href=\"ref.placeholder\">Links</a></li><li><a href=\"ref.placeholder\">Contact</a></li></ul></div> <div id=\"page\"> <div id=\"page-bgtop\"> <div id=\"page-bgbtm\"> <div id=\"content\"> <div class=\"post\"> <h2 class=\"title\">Albenza 50 Mg</h2> <p class=\"meta\">Posted by <a href=\"ref.placeholder\">Someone</a> on March 10, 2008 <a class=\"comments\" href=\"ref.placeholder\">Comments 64</a> <a class=\"permalink\" href=\"ref.placeholder\">Full article</a></p> <div class=\"entry\"> <p><img alt=\"Albenza is a prescription medicine that is used for the treatment of ailment.\" class=\"alignleft border\" src=\"../../images/default_img.jpeg\"/>It is not expected to be taken for a long time, however, it is not recommended to take it for longer than 24 hours.</p> </div> </div> <div class=\"post\"> <h2 class=\"title\">a hrefref.placeholderLorem ipsum sed aliquama</h2> <p class=\"meta\">Posted by <a href=\"ref.placeholder\">Someone</a> on March 8, 2008 <a class=\"comments\" href=\"ref.placeholder\">Comments 64</a> <a class=\"permalink\" href=\"ref.placeholder\">Full article</a></p> <div class=\"entry\"> <p><img alt=\"Albenza is a prescription medicine that is used for the treatment of ailment.\" class=\"alignleft border\" src=\"../../images/default_img.jpeg\"/>It is not expected to be taken for a long time, however, it is not recommended to take it for longer than 24 hours.</p> </div> </div> <div style=\"clear:both\"></div> <div id=\"sidebar\"> <ul> <li> <h2>Aliquam tempus</h2> <p><img alt=\"Albenza is a prescription medicine that is used for the treatment of ailment.\" class=\"alignleft border\" src=\"../../images/default_img.jpeg\"/>It is not expected to be taken for a long time, however, it is not recommended to take it for longer than 24 hours.</p> </li> <li> <h2>Categories</h2> <ul><li><a href=\"ref.placeholder\">Aliquam libero</a></li><li><a href=\"ref.placeholder\">Consectetuer adipiscing elit</a></li><li><a href=\"ref.placeholder\">Metus aliquam pellentesque</a></li><li><a href=\"ref.placeholder\">Suspendisse iaculis mauris</a></li><li><a href=\"ref.placeholder\">Urnanet non molestie semper</a></li><li><a href=\"ref.placeholder\">Proin gravida orci porttitor</a></li></ul> </li> <li> <h2>Archives</h2> <ul><li><a href=\"ref.placeholder\">Aliquam libero</a></li><li><a href=\"ref.placeholder\">Consectetuer adipiscing elit</a></li><li><a href=\"ref.placeholder\">Metus aliquam pellentesque</a></li><li><a href=\"ref.placeholder\">Suspendisse iaculis mauris</a></li><li><a href=\"ref.placeholder\">Urnanet non molestie semper</a></li><li><a href=\"ref.placeholder\">Proin gravida orci porttitor</a></li></ul> </li> </ul> </div> <div style=\"clear:both\"></div> </div> </div> <div id=\"footer-bg\"> <div id=\"footer-bg-bg-bg\"> <div id=\"footer-bg-bg-bg-bg-bg-bg-bg-bg-bg-bg-bg-bg-bg-bg-bg-bg-bg-bg-bg-bg-bg-bg-bg-bg-bg-bg-bg-bg-bg-bg-bg-bg-bg-bg-bg-bg-bg-bg-bg-bg-bg-bg-bg-bg-bg-bg-bg-bg-bg-bg-bg-bg-bg-bg-bg-bg-bg-bg-bg-bg-bg-bg-bg-bg-bg-bg-bg-bg-bg-bg-bg-bg-bg-bg-bg-bg-bg-bg-bg-bg-bg-bg-bg-bg-bg-bg-bg-bg-bg-bg-bg-bg-bg-bg-bg-bg-bg-bg-bg-bg-bg-bg-bg-bg-bg-bg-bg-bg-bg-bg-bg-bg-bg-bg-bg-bg-bg-bg-bg-bg-bg-bg-bg-bg-bg-bg-bg-bg-bg-bg-bg-bg-bg-bg-bg-bg-bg-bg-bg-bg-bg-bg-bg-bg-bg-bg-bg-bg-bg-bg-bg-bg-bg-bg-bg-bg-bg-bg-bg-bg-bg-bg-bg-bg-bg-bg-bg-bg-bg-bg-bg-bg-bg-bg-bg-bg-bg-bg-bg-bg-bg-bg-bg-bg-bg-bg-bg-bg-bg-bg-bg-bg-bg-bg-bg-bg-bg-bg-bg-bg-bg-bg-bg-bg-bg-bg-bg-bg-bg-bg-bg-bg-bg-bg-bg-bg-bg-bg-bg-bg-bg-bg-bg-bg-bg-bg-bg-bg-bg-bg-bg-bg-bg-bg-bg-bg-bg-bg-bg-bg-bg-bg-bg-bg-bg-bg-bg-bg-bg-bg-bg-bg-bg-bg-bg-bg-bg-bg-bg-bg-bg-bg-bg-bg-bg-bg-bg-bg-bg-bg-bg-bg-bg-bg-bg-bg-bg-bg-bg-bg-bg-bg-bg-bg-bg-bg-bg-bg-bg-bg-bg-bg-bg-bg-bg-bg-bg-bg-bg-bg-bg-bg-bg-bg-bg-bg-bg-bg-bg-bg-bg-bg-bg-bg-bg-bg-bg-bg-bg-bg-bg-bg-bg-bg-bg-bg-bg-bg-bg-bg-bg-bg-bg-bg-bg-bg-bg-bg-bg-bg-bg-bg-bg-bg-bg-bg-bg-bg-bg-bg-bg-bg-bg-bg-bg-bg-bg-bg-bg-bg-bg-bg-bg-bg-bg-bg-bg-bg-bg-bg-bg-bg-bg-bg-bg-bg-bg-bg-bg-bg-bg-bg-bg-bg-bg-bg-bg-bg-bg-bg-bg-bg-bg-bg-bg-bg-bg-bg-bg-bg-bg-bg-bg-bg-bg-bg-bg-bg-bg-bg-bg-bg-bg-bg-bg-bg-bg-bg-bg-bg-bg-bg-bg-bg-bg-bg-bg-bg-bg-bg-bg-bg-bg-bg-bg-bg-bg-bg-bg-bg-bg-bg-bg-bg-bg-bg-bg-bg-bg-bg-bg-bg-bg-bg-bg-bg-bg-bg-bg-bg-bg-bg-bg-bg-bg-bg-bg-bg-bg-bg-bg-bg-bg-bg-bg-bg-bg-bg-bg-bg-bg-bg-bg-bg-bg-bg-bg-bg-bg-bg-bg-bg-bg-bg-bg-bg-bg-bg-bg-bg-bg-bg-bg-bg-bg-bg-bg-bg-bg-bg-bg-bg-bg-bg-bg-bg-bg-bg-bg-bg-bg-bg-bg-bg-bg-bg-bg-bg-bg-bg-bg-bg-bg-bg-bg-bg-bg-bg-bg-bg-bg-bg-bg-bg-bg-bg-bg-bg-bg-bg-bg-bg-bg-bg-bg-bg-bg-bg-bg-bg-bg-bg-bg-bg-bg-bg-bg-bg-bg-bg-bg-bg-bg-bg-bg-bg-bg-bg-bg-bg-bg-bg-bg-bg-bg-bg-bg-bg-bg-bg-bg-bg-bg-bg-bg-bg-bg-bg-bg-bg-bg-bg-bg-bg-bg-bg-bg-bg-bg-bg-bg-bg-bg-bg-bg-bg-bg-bg-bg-bg-bg-bg-bg-bg-bg-bg-bg-bg-bg-bg-bg-bg-bg-bg-bg-bg-bg-bg-bg-bg-bg-bg-bg-bg-bg-bg-bg-bg-bg-bg-bg-bg-bg-bg-bg-bg-bg-bg-bg-bg-bg-bg-bg-bg-bg-bg-bg-bg-bg-bg-bg-bg-bg-bg-bg-bg-bg-bg-bg-bg-bg-bg-bg-bg-bg-bg-bg-bg-bg-bg-bg-bg-bg-bg-bg-bg-bg-bg-bg-bg-bg-bg-bg-bg-bg-bg-bg-bg-bg-bg-bg-bg-bg-bg-bg-bg-bg-bg-bg-bg-bg-bg-bg-bg-bg-bg-bg-bg-bg-bg-bg-bg-bg-bg-bg-bg-bg-bg-bg-bg-bg-bg-bg-bg-bg-bg-bg-bg-bg-bg-bg-bg-bg-bg-bg-bg-bg-bg-bg-bg-bg-bg-bg-bg-bg-bg-bg-bg-bg-bg-bg-bg-bg-bg-bg-bg-bg-bg-bg-bg-bg-bg-bg-bg-bg-bg-bg-bg-bg-bg-bg-bg-bg-bg-bg-bg-bg-bg-bg-bg-bg-bg-bg-bg-bg-bg-bg-bg-bg-bg-bg-bg-bg-bg-bg-bg-bg-bg-bg-bg-bg-bg-bg-bg-bg-bg-bg-bg-bg-bg-bg-bg-bg-bg-bg-bg-bg-bg-bg-bg-bg-bg-bg-bg-bg-bg-bg-bg-bg-bg-bg-bg-bg-bg-bg-bg-bg-bg-bg-bg-bg-bg-bg-bg-bg-bg-bg-bg-bg-bg-bg-bg-bg-bg-bg-bg-bg-bg-bg-bg-bg-bg-bg-bg-bg-bg-bg-bg-bg-bg-bg-bg-bg-bg-bg-bg-bg-bg-bg-bg-bg-bg-bg-bg-bg-bg-bg-bg-bg-bg-bg-bg-bg-bg-bg-bg-bg-bg-bg-bg-bg-bg-bg-bg-bg-bg-bg-bg-bg-bg-bg-bg-bg-bg-bg-bg-bg-bg-bg-bg-bg-bg-bg-bg-bg-bg-bg-bg-bg-bg-bg-bg-bg-bg-bg-bg-bg-bg-bg-bg-bg-bg-bg-bg-bg-bg-bg-bg-bg-bg-bg-bg-bg-bg-bg-bg-bg-bg-bg-bg-bg-bg-bg-bg-bg-bg-bg-bg-bg-bg-bg-bg-bg-bg-bg-bg-bg-bg-bg-bg-bg-bg-bg-bg-bg-bg-bg-bg-bg-bg-bg-bg-bg-bg-bg-bg-bg-bg-bg-bg-bg-bg-bg-bg-bg-bg-bg-bg-bg-bg-bg-bg-bg-bg-bg-bg-bg-bg-bg-bg-bg-bg-bg-bg-bg-bg-bg-bg-bg-bg-bg-bg-bg-bg-bg-bg-bg-bg-bg-bg-bg-bg-bg-bg-bg-bg-bg-bg-bg-bg-bg-bg-bg-bg-bg-bg-bg-bg-bg-bg-bg-bg-bg-bg-bg-bg-bg-bg-bg-bg-bg-bg-bg-bg-bg-bg-bg-bg-bg-bg-bg-bg-bg-bg-bg-bg-bg-bg-bg-bg-bg-bg-bg-bg-bg-bg-bg-bg-bg-bg-bg-bg-bg-bg-bg-bg-bg-bg-bg-bg-bg-bg-bg-bg-bg-bg-bg-bg-bg-bg-bg-bg-bg-bg-bg-bg-bg-bg-bg-bg-bg-bg-bg-bg-bg-bg-bg-bg-bg-bg-bg-bg-bg-bg-bg-bg-bg-bg-bg-bg-bg-bg-bg-bg-bg-bg-bg-bg-bg-bg-bg-bg-bg-bg-bg-bg-bg-bg-bg-bg-bg-bg-bg-bg-bg-bg-bg-bg-bg-bg-bg-bg-bg-bg-bg-bg-bg-bg-bg-bg-bg-bg-bg-bg-bg-bg-bg-bg-bg-bg-bg-bg-bg-bg-bg-bg-bg-bg-bg-bg-bg-bg-bg-bg-bg-bg-bg-bg-bg-bg-bg-bg-bg-bg-bg-bg-bg-bg-bg-bg-bg-bg-bg-bg-bg-bg-bg-bg-bg-bg-bg-bg-bg-bg-bg-bg-bg-bg-bg-bg-bg-bg-bg-bg-bg-bg-bg-bg-bg-bg-bg-bg-bg-bg-bg-bg-bg-bg-bg-bg-bg-bg-bg-bg-bg-bg-bg-bg-bg-bg-bg-bg-bg-bg-bg-bg-bg-bg-bg-bg-bg-bg-bg-bg-bg-bg-bg-bg-bg-bg-bg-bg-bg-bg-bg-bg-bg-bg-bg-bg-bg-bg-bg-bg-bg-bg-bg-bg-bg-bg-bg-bg-bg-bg-bg-bg-bg-bg-bg-bg-bg-bg-bg-bg-bg-bg-bg-bg-bg-bg-bg-bg-bg-bg-bg-bg-bg-bg-bg-bg-bg-bg-bg-bg-bg-bg-bg-bg-bg-bg-bg-bg-bg-bg-bg-bg-bg-bg-bg-bg-bg-bg-bg-bg-bg-bg-bg-bg-bg-bg-bg-bg-bg-bg-bg-bg-bg-bg-bg-bg-bg-bg-bg-bg-bg-bg-bg-bg-bg-bg-bg-bg-bg-bg-bg-bg-bg-bg-bg-bg-bg-bg-bg-bg-bg-bg-bg-bg-bg-bg-bg-bg-bg-bg-bg-bg-bg-bg-bg-bg-bg-bg-bg-bg-bg-bg-bg-bg-bg-bg-bg-bg-bg-bg-bg-bg-bg-bg-bg-bg-bg-bg-bg-bg-bg-bg-bg-bg-bg-bg-bg-bg-bg-bg-bg-bg-bg-bg-bg-bg-bg-bg-bg-bg-bg-bg-bg-bg-bg-bg-bg-bg-bg-bg-bg-bg-bg-bg-bg-bg-bg-bg-bg-bg-bg-bg-bg-bg-bg-bg-bg-bg-bg-bg-bg-bg-bg-bg-bg-bg-bg-bg-bg-bg-bg-bg-bg-bg-bg-bg-bg-bg-bg-bg-bg-bg-bg-bg-bg-bg-bg-bg-bg-bg-bg-bg-bg-bg-bg-bg-bg-bg-bg-bg-bg-bg-bg-bg-bg-bg-bg-bg-bg-bg-bg-bg-bg-bg-bg-bg-bg-bg-bg-bg-bg-bg-bg-bg-bg-bg-bg-bg-bg-bg-bg-bg-bg-bg-bg-bg-bg-bg-bg-bg-bg-bg-bg-bg-bg-bg-bg-bg-bg-bg-bg-bg-bg-bg-bg-bg-bg-bg-bg-bg-bg-bg-bg-bg-bg-bg-bg-bg-bg-bg-bg-bg-bg-bg-bg-bg-bg-bg-bg-bg-bg-bg-bg-bg-bg-bg-bg-bg-bg-bg-bg-bg-bg-bg-bg-bg-bg-bg-bg-bg-bg-bg-bg-bg-bg-bg-bg-bg-bg-bg-bg-bg-bg-bg-bg-bg-bg-bg-bg-bg-bg-bg-bg-bg-bg-bg-bg-bg-bg-bg-bg-bg-bg-bg-bg-bg-bg-bg-bg-bg-bg-bg-bg-bg-bg-bg-bg-bg-bg-bg-bg-bg-bg-bg-bg-bg-bg-bg-bg-bg-bg-bg-bg-bg-bg-bg-bg-bg-bg-bg-bg-bg-bg-bg-bg-bg-bg-bg-bg-bg-bg-bg-bg-bg-bg-bg-bg-bg-bg-bg-bg-bg-bg-bg-bg-bg-bg-bg-bg-bg-bg-bg-bg-bg-bg-bg-bg-bg-bg-bg-bg-bg-bg-bg-bg-bg-bg-bg-bg-bg-bg-bg-bg-bg-bg-bg-bg-bg-bg-bg-bg-bg-bg-bg-bg-bg-bg-bg-bg-bg-bg-bg-bg-bg-bg-bg-bg-bg-bg-bg-bg-bg-bg-bg-bg-bg-bg-bg-bg-bg-bg-bg-bg-bg-bg-bg-bg-bg-bg-bg-bg-bg-bg-bg-bg-bg-bg-bg-bg-bg-bg-bg-bg-bg-bg-bg-bg-bg-bg-bg-bg-bg-bg-bg-bg-bg-bg-bg-bg-bg-bg-bg-bg-bg-bg-bg-bg-bg-bg-bg-bg-bg-bg-bg-bg-bg-bg-bg-bg-bg-bg-bg-bg-bg-bg-bg-bg-bg-bg-bg-bg-bg-bg-bg-bg-bg-bg-bg-bg-bg-bg-bg-bg-bg-bg-bg-bg-bg-bg-bg-bg-bg-bg-bg-bg-bg-bg-bg-bg-bg-bg-bg-bg-bg-bg-bg-bg-bg-bg-bg-bg-bg-bg-bg-bg-bg-bg-bg-bg-bg-bg-bg-bg-bg-bg-bg-bg-bg-bg-bg-bg-bg-bg-bg-bg-bg-bg-bg-bg-bg-bg-bg-bg-bg-bg-bg-bg-bg-bg-bg-bg-bg-bg-bg-bg-bg-bg-bg-bg-bg-bg-bg-bg-bg-bg-bg-bg-bg-bg-bg-bg-bg-bg-bg-bg-bg-bg-bg-bg-bg-bg-bg-bg-bg-bg-bg-bg-bg-bg-bg-bg-bg-bg-bg-bg-bg-bg-bg-bg-bg-bg-bg-bg-bg-bg-bg-bg-bg-bg-bg-bg-bg-bg-bg-bg-bg-bg-bg-bg-bg-bg-bg-bg-bg-bg-bg-bg-bg-bg-bg-bg-bg-bg-bg-bg-bg-bg-bg-bg-bg-bg-bg-bg-bg-bg-bg-bg-bg-bg-bg-bg-bg-bg-bg-bg-bg-bg-bg-bg-bg-bg-bg-bg-bg-bg-bg-bg-bg-bg-bg-bg-bg-bg-bg-bg-bg-bg-bg-bg-bg-bg-bg-bg-bg-bg-bg-bg-bg-bg-bg-bg-bg-bg-bg-bg-bg-bg-bg-bg-bg-bg-bg-bg-bg-bg-bg-bg-bg-bg-bg-bg-bg-bg-bg-bg-bg-bg-bg-bg-bg-bg-bg-bg-bg-bg-bg-bg-bg-bg-bg-bg-bg-bg-bg-bg-bg-bg-bg-bg-bg-bg-bg-bg-bg-bg-bg-bg-bg-bg-bg-bg-bg-bg-bg-bg-bg-bg-bg-bg-bg-bg-bg-bg-bg-bg-bg-bg-bg-bg-bg-bg-bg-bg-bg-bg-bg-bg-bg-bg-bg-bg-bg-bg-bg-bg-bg-bg-bg-bg-bg-bg-bg-bg-bg-bg-bg-bg-bg-bg-bg-bg-bg-bg-bg-bg-bg-bg-bg-bg-bg-bg-bg-bg-bg-bg-bg-bg-bg-bg-bg-bg-bg-bg-bg-bg-bg-bg-bg-bg-bg-bg-bg-bg-bg-bg-bg-bg-bg-bg-bg-bg-bg-bg-bg-bg-bg-bg-bg-bg-bg-bg-bg-bg-bg-bg-bg-bg-bg-bg-bg-bg-bg-bg-bg-bg-bg-bg-bg-bg-bg-bg-bg-bg-bg-bg-bg-bg-bg-bg-bg-bg-bg-bg-bg-bg-bg-bg-bg-bg-bg-bg-bg-bg-bg-bg-bg-bg-bg-bg-bg-bg-bg-bg-bg-bg-bg-bg-bg-bg-bg-bg-bg-bg-bg-bg-bg-bg-bg-bg-bg-bg-bg-bg-bg-bg-bg-bg-bg-bg-bg-bg-bg-bg-bg-bg-bg-bg-bg-bg-bg-bg-bg-bg-bg-bg-bg-bg-bg-bg-bg-bg-bg-bg-bg-bg-bg-bg-bg-bg-bg-bg-bg-bg-bg-bg-bg-bg-bg-bg-bg-bg-bg-bg-bg-bg-bg-bg-bg-bg-bg-bg-bg-bg-bg-bg-bg-bg-bg-bg-bg-bg-bg-bg-bg-bg-bg-bg-bg-bg-bg-bg-bg-bg-bg-bg-bg-bg-bg-bg-bg-bg-bg-bg-bg-bg-bg-bg-bg-bg-bg-bg-bg-bg-bg-bg-bg-bg-bg-bg-bg-bg-bg-bg-bg-bg-bg-bg-bg-bg-bg-bg-bg-bg-bg-bg-bg-bg-bg-bg-bg-bg-bg-bg-bg-bg-bg-bg-bg-bg-bg-bg-bg-bg-bg-bg-bg-bg-bg-bg-bg-bg-bg-bg-bg-bg-bg-bg-bg-bg-bg-bg-bg-bg-bg-bg-bg-bg-bg-bg-bg-bg-bg-bg-bg-bg-bg-bg-bg-bg-bg-bg-bg-bg-bg-bg-bg-bg-bg-bg-bg-bg-bg-bg-bg-bg-bg-bg-bg-bg-bg-bg-bg-bg-bg-bg-bg-bg-bg-bg-bg-bg-bg-bg-bg-bg-bg-bg-bg-bg-bg-bg-bg-bg-bg-bg-bg-bg-bg-bg-bg-bg-bg-bg-bg-bg-bg-bg-bg-bg-bg-bg-bg-bg-bg-bg-bg-bg-bg-bg-bg-bg-bg-bg-bg-bg-bg-bg-bg-bg-bg-bg-bg-bg-bg-bg-bg-bg-bg-bg-bg-bg-bg-bg-bg-bg-bg-bg-bg-bg-bg-bg-bg-bg-bg-bg-bg-bg-bg-bg-bg-bg-bg-bg-bg-bg-bg-bg-bg-bg-bg-bg-bg-bg-bg-bg-bg-bg-bg-bg-bg-bg-bg-bg-bg-bg-bg-bg-bg-bg-bg-bg-bg-bg-bg-bg-bg-bg-bg-bg-bg-bg-bg-bg-bg-bg-bg-bg-bg-bg-bg-bg-bg-bg-bg-bg-bg-bg-bg-bg-bg-bg-bg-bg-bg-bg-bg-bg-bg-bg-bg-bg-bg-bg-bg-bg-bg-bg-bg-bg-bg-bg-bg-bg-bg-bg-bg-bg-bg-bg-bg-bg-bg-bg-bg-bg-bg-bg-bg-bg-bg-bg-bg-bg-bg-bg-bg-bg-bg-bg-bg-bg-bg-bg-bg-bg-bg-bg-bg-bg-bg-bg-bg-bg-bg-bg-bg-bg-bg-bg-bg-bg-bg-bg-bg-bg-bg-bg-bg-bg-bg-bg-bg-bg-bg-bg-bg-bg-bg-bg-bg-bg-bg-bg-bg-bg-bg-bg-bg-bg-bg-bg-bg-bg-bg-bg-bg-bg-bg-bg-bg-bg-bg-bg-bg-bg-bg-bg-bg-bg-bg-bg-bg-bg-bg-bg-bg-bg-bg-bg-bg-bg-bg-bg-bg-bg-bg-bg-bg-bg-bg-bg-bg-bg-bg-bg-bg-bg-bg-bg-bg-bg-bg-bg-bg-bg-bg-bg-bg-bg-bg-bg-bg-bg-bg-bg-bg-bg-bg-bg-bg-bg-bg-bg-bg-bg-bg-bg-bg-bg-bg-bg-bg-bg-bg-bg-bg-bg-bg-bg-bg-bg-bg-bg-bg-bg-bg-bg-bg-bg-bg-bg-bg-bg-bg-bg-bg-bg-bg-bg-bg-bg-bg-bg-bg-bg-bg-bg-bg-bg-bg-bg-bg-bg-bg-bg-bg-bg-bg-bg-bg-bg-bg-bg-bg-bg-bg-bg-bg-bg-bg-bg-bg-bg-bg-bg-bg-bg-bg-bg-bg-bg-bg-bg-bg-bg-bg-bg-bg-bg-bg-bg-bg-bg-bg-bg-bg-bg-bg-bg-bg-bg-bg-bg-bg-bg-bg-bg-bg-bg-bg-bg-bg-bg-bg-bg-bg-bg-bg-bg-bg-bg-bg-bg-bg-bg-bg-bg-bg-bg-bg-bg-bg-bg-bg-bg-bg-bg-bg-bg-bg-bg-bg-bg-bg-bg-bg-bg-bg-bg-bg-bg-bg-bg-bg-bg-bg-bg-bg-bg-bg-bg-bg-bg-bg-bg-bg-bg-bg-bg-bg-bg-bg-bg-bg-bg-bg-bg-bg-bg-bg-bg-bg-bg-bg-bg-bg-bg-bg-bg-bg-bg-bg-bg-bg-bg-bg-bg-bg-bg-bg-bg-bg-bg-bg-bg-bg-bg-bg-bg-bg-bg-bg-bg-bg-bg-bg-bg-bg-bg-bg-bg-bg-bg-bg-bg-bg-bg-bg-bg-bg-bg-bg-bg-bg-bg-bg-bg-bg-bg-bg-bg-bg-bg-bg-bg-bg-bg-bg-bg-bg-bg-bg-bg-bg-bg-bg-bg-bg-bg-bg-bg-bg-bg-bg-bg-bg-bg-bg-bg-bg-bg-bg-bg-bg-bg-bg-bg-bg-bg-bg-bg-bg-bg-bg-bg-bg-bg-bg-bg-bg-bg-bg-bg-bg-bg-bg-bg-bg-bg-bg-bg-bg-bg-bg-bg-bg-bg-bg-bg-bg-bg-bg-bg-bg-bg-bg-bg-bg-bg-bg-bg-bg-bg-bg-bg-bg-bg-bg-bg-bg-bg-bg-bg-bg-bg-bg-bg-bg-bg-bg-bg-bg-bg-bg-bg-bg-bg-bg-bg-bg-bg-bg-bg-bg-bg-bg-bg-bg-bg-bg-bg-bg-bg-bg-bg-bg-bg-bg-bg-bg-bg-bg-bg-bg-bg-bg-bg-bg-bg-bg-bg-bg-bg-bg-bg-bg-bg-bg-bg-bg-bg-bg-bg-bg-bg-bg-bg-bg-bg-bg-bg-bg-bg-bg-bg-bg-bg-bg-bg-bg-bg-bg-bg-bg-bg-bg-bg-bg-bg-bg-bg-bg-bg-bg-bg-bg-bg-bg-bg-bg-bg-bg-bg-bg-bg-bg-bg-bg-bg-bg-bg-bg-bg-bg-bg-bg-bg-bg-bg-bg-bg-bg-bg-bg-bg-bg-bg-bg-bg-bg-bg-bg-bg-bg-bg-bg-bg-bg-bg-bg-bg-bg-bg-bg-bg-bg-bg-bg-bg-bg-bg-bg-bg-bg-bg-bg-bg-bg-bg-bg-bg-bg-bg-bg-bg-bg-bg-bg-bg-bg-bg-bg-bg-bg-bg-bg-bg-bg-bg-bg-bg-bg-bg-bg-bg-bg-bg-bg-bg-bg-bg-bg-bg-bg-bg-bg-bg-bg-bg-bg-bg-bg-bg-bg-bg-bg-bg-bg-bg-bg-bg-bg-bg-bg-bg-bg-bg-bg-bg-bg-bg-bg-bg-bg-bg-bg-bg-bg-bg-bg-bg-bg-bg-bg-bg-bg-bg-bg-bg-bg-bg-bg-bg-bg-bg-bg-bg-bg-bg-bg-bg-bg-bg-bg-bg-bg-bg-bg-bg-bg-bg-bg-bg-bg-bg-bg-bg-bg-bg-bg-bg-bg-bg-bg-bg-bg-bg-bg-bg-bg-bg-bg-bg-bg-bg-bg-bg-bg-bg-bg-bg-bg-bg-bg-bg-bg-bg-bg-bg-bg-bg-bg-bg-bg-bg-bg-bg-bg-bg-bg-bg-bg-bg-bg-bg-bg-bg-bg-bg-bg-bg-bg-bg-bg-bg-bg-bg-bg-bg-bg-bg-bg-bg-bg-bg-bg-bg-bg-bg-bg-bg-bg-bg-bg-bg-bg-bg-bg-bg-bg-bg-bg-bg-bg-bg-bg-bg-bg-bg-bg-bg-bg-bg-bg-bg-bg-bg-bg-bg-bg-bg-bg-bg-bg-bg-bg-bg-bg-bg-bg-bg-bg-bg-bg-bg-bg-bg-bg-bg-bg-bg-bg-bg-bg-bg-bg-bg-bg-bg-bg-bg-bg-bg-bg-bg-bg-bg-bg-bg-bg-bg-bg-bg-bg-bg-bg-bg-bg-bg-bg-bg-bg-bg-bg-bg-bg-bg-bg-bg-bg-bg-bg-bg-bg-bg-bg-bg-bg-bg-bg-bg-bg-bg-bg-bg-bg-bg-bg-bg-bg-bg-bg-bg-bg-bg-bg-bg-bg-bg-bg-bg-bg-bg-bg-bg-bg-bg-bg-bg-bg-bg-bg-bg-bg-bg-bg-bg-bg-bg-bg-bg-bg-bg-bg-bg-bg-bg-bg-bg-bg-bg-bg-bg-bg-bg-bg-bg-bg-bg-bg-bg-bg-bg-bg-bg-bg-bg-bg-bg-bg-bg-bg-bg-bg-bg-bg-bg-bg-bg-bg-bg-bg-bg-bg-bg-bg-bg-bg-bg-bg-bg-bg-bg-bg-bg-bg-bg-bg-bg-bg-bg-bg-bg-bg-bg-bg-bg-bg-bg-bg-bg-bg-bg-bg-bg-bg-bg-bg-bg-bg-bg-bg-bg-bg-bg-bg-bg-bg-bg-bg-bg-bg-bg-bg-bg-bg-bg-bg-bg-bg-bg-bg-bg-bg-bg-bg-bg-bg-bg-bg-bg-bg-bg-bg-bg-bg-bg-bg-bg-bg-bg-bg-bg-bg-bg-bg-bg-bg-bg-bg-bg-bg-bg-bg-bg-bg-bg-bg-bg-bg-bg-bg-bg-bg-bg-bg-bg-bg-bg-bg-bg-bg-bg-bg-bg-bg-bg-bg-bg-bg-bg-bg-bg-bg-bg-bg-bg-bg-bg-bg-bg-bg-bg-bg-bg-bg-bg-bg-bg-bg-bg-bg-bg-bg-bg-bg-bg-bg-bg-bg-bg-bg-bg-bg-bg-bg-bg-bg-bg-bg-bg-bg-bg-bg-bg-bg-bg-bg-bg-bg-bg-bg-bg-bg-bg-bg-bg-bg-bg-bg-bg-bg-bg-bg-bg-bg-bg-bg-bg-bg-bg-bg-bg-bg-bg-bg-bg-bg-bg-bg-bg-bg-bg-bg-bg-bg-bg-bg-bg-bg-bg-bg-bg-bg-bg-bg-bg-bg-bg-bg-bg-bg-bg-bg-bg-bg-bg-bg-bg-bg-bg-bg-bg-bg-bg-bg-bg-bg-bg-bg-bg-bg-bg-bg-bg-bg-bg-bg-bg-bg-bg-bg-bg-bg-bg-bg-bg-bg-bg-bg-bg-bg-bg-bg-bg-bg-bg-bg-bg-bg-bg-bg-bg-bg-bg-bg-bg-bg-bg-bg-bg-bg-bg-bg-bg-bg-bg-bg-bg-bg-bg-bg-bg-bg-bg-bg-bg-bg-bg-bg-bg-bg-bg-bg-bg-bg-bg-bg-bg-bg-bg-bg-bg-bg-bg-bg-bg-bg-bg-bg-bg-bg-bg-bg-bg-bg-bg-bg-bg-bg-bg-bg-bg-bg-bg-bg-bg-bg-bg-bg-bg-bg-bg-bg-bg-bg-bg-bg-bg-bg-bg-bg-bg-bg-bg-bg-bg-bg-bg-bg-bg-bg-bg-bg-bg-bg-bg-bg-bg-bg-bg-bg-bg-bg-bg-bg-bg-bg-bg-bg-bg-bg-bg-bg-bg-bg-bg-bg-bg-bg-bg-bg-bg-bg-bg-bg-bg-bg-bg-bg-bg-bg-bg-bg-bg-bg-bg-bg-bg-bg-bg-bg-bg-bg-bg-bg-bg-bg-bg-bg-bg-bg-bg-bg-bg-bg-bg-bg-bg-bg-bg-bg-bg-bg-bg-bg-bg-bg-bg-bg-bg-bg-bg-bg-bg-bg-bg-bg-bg-bg-bg-bg-bg-bg-bg-bg-bg-bg-bg-bg-bg-bg-bg-bg-bg-bg-bg-bg-bg-bg-bg-bg-bg-bg-bg-bg-bg-bg-bg-bg-bg-bg-bg-bg-bg-bg-bg-bg-bg-bg-bg-bg-bg-bg-bg-bg-bg-bg-bg-bg-bg-bg-bg-bg-bg-bg-bg-bg-bg-bg-bg-bg-bg-bg-bg-bg-bg-bg-bg-bg-bg-bg-bg-bg-bg-bg-bg-bg-bg-bg-bg-bg-bg-bg-bg-bg-bg-bg-bg-bg-bg-bg-bg-bg-bg-bg-bg-bg-bg-bg-bg-bg-bg-bg-bg-bg-bg-bg-bg-bg-bg-bg-bg-bg-bg-bg-bg-bg-bg-bg-bg-bg-bg-bg-bg-bg-bg-bg-bg-bg-bg-bg-bg-bg-bg-bg-bg-bg-bg-bg-bg-bg-bg-bg-bg-bg-bg-bg-bg-bg-bg-bg-bg-bg-bg-bg-bg-bg-bg-bg-bg-bg-bg-bg-bg-bg-bg-bg-bg-bg-bg-bg-bg-bg-bg-bg-bg-bg-bg-bg-bg-bg-bg-bg-bg-bg-bg-bg-bg-bg-bg-bg-bg-bg-bg-bg-bg-bg-bg-bg-bg-bg-bg-bg-bg-bg-bg-bg-bg-bg-bg-bg-bg-bg-bg-bg-bg-bg-bg-bg-bg-bg-bg-bg-bg-bg-bg-bg-bg-bg-bg-bg-bg-bg-bg-bg-bg-bg-bg-bg-bg-bg-bg-bg-bg-bg-bg-bg-bg-bg-bg-bg-bg-bg-bg-bg-bg-bg-bg-bg-bg-bg-bg-bg-bg-bg-bg-bg-bg-bg-bg-bg-bg-bg-bg-bg-bg-bg-bg-bg-bg-bg-bg-bg-bg-bg-bg-bg-bg-bg-bg-bg-bg-bg-bg-bg-bg-bg-bg-bg-bg-bg-bg-bg-bg-bg-bg-bg-bg-bg-bg-bg-bg-bg-bg-bg-bg-bg-bg-bg-bg-bg-bg-bg-bg-bg-bg-bg-bg-bg-bg-bg-bg-bg-bg-bg-bg-bg-bg-bg-bg-bg-bg-bg-bg-bg-bg-bg-bg-bg-bg-bg-bg-bg-bg-bg-bg-bg-bg-bg-bg-bg-bg-bg-bg-bg-bg-bg-bg-bg-bg-bg-bg-bg-bg-bg-bg-bg-bg-bg-bg-bg-bg-bg-bg-bg-bg-bg-bg-bg-bg-bg-bg-bg-bg-bg-bg-bg-bg-bg-bg-bg-bg-bg-bg-bg-bg-bg-bg-bg-bg-bg-bg-bg-bg-bg-bg-bg-bg-bg-bg-bg-bg-bg-bg-bg-bg-bg-bg-bg-bg-bg-bg-bg-bg-bg-bg-bg-bg-bg-bg-bg-bg-bg-bg-bg-bg-bg-bg-bg-bg-bg-bg-bg-bg-bg-bg-bg-bg-bg-bg-bg-bg-bg-bg-bg-bg-bg-bg-bg-bg-bg-bg-bg-bg-bg-bg-bg-bg-bg-bg-bg-bg-bg-bg-bg-bg-bg-bg-bg-bg-bg-bg-bg-bg-bg-bg-bg-bg-bg-bg-bg-bg-bg-bg-bg-bg-bg-bg-bg-bg-bg-bg-bg-bg-bg-bg-bg-bg-bg-bg-bg-bg-bg-bg-bg-bg-bg-bg-bg-bg-bg-bg-bg-bg-bg-bg-bg-bg-bg-bg-bg-bg-bg-bg-bg-bg-bg-bg-bg-bg-bg-bg-bg-bg-bg-bg-bg-bg-bg-bg-bg-bg-bg-bg-bg-bg-bg-bg-bg-bg-bg-bg-bg-bg-bg-bg-bg-bg-bg-bg-bg-bg-bg-bg-bg-bg-bg-bg-bg-bg-bg-bg-bg-bg-bg-bg-bg-bg-bg-bg-bg-bg-bg-bg-bg-bg-bg-bg-bg-bg-bg-bg-bg-bg-bg-bg-bg-bg-bg-bg-bg-bg-bg-bg-bg-bg-bg-bg-bg-bg-bg-bg-bg-bg-bg-bg-bg-bg-bg-bg-bg-bg-bg-bg-bg-bg-bg-bg-bg-bg-bg-bg-bg-bg-bg-bg-bg-bg-bg-bg-bg-bg-bg-bg-bg-bg-bg-bg-bg-bg-bg-bg-bg-bg-bg-bg-bg-bg-bg-bg-bg-bg-bg-bg-bg-bg-bg-bg-bg-bg-bg-bg-bg-bg-bg-bg-bg-bg-bg-bg-bg-bg-bg-bg-bg-bg-bg-bg-bg-bg-bg-bg-bg-bg-bg-bg-bg-bg-bg-bg-bg-bg-bg-bg-bg-bg-bg-bg-bg-bg-bg-bg-bg-bg-bg-bg-bg-bg-bg-bg-bg-bg-bg-bg-bg-bg-bg-bg-bg-bg-bg-bg-bg-bg-bg-bg-bg-bg-bg-bg-bg-bg-bg-bg-bg-bg-bg-bg-bg-bg-bg-bg-bg-bg-bg-bg-bg-bg-bg-bg-bg-bg-bg-bg-bg-bg-bg-bg-bg-bg-bg-bg-bg-bg-bg-bg-bg-bg-bg-bg-bg-bg-bg-bg-bg-bg-bg-bg-bg-bg-bg-bg-bg-bg-bg-bg-bg-bg-bg-bg-bg-bg-bg-bg-bg-bg-bg-bg-bg-bg-bg-bg-bg-bg-bg-bg-bg-bg-bg-bg-bg-bg-bg-bg-bg-bg-bg-bg-bg-bg-bg-bg-bg-bg-bg-bg-bg-bg-bg-bg-bg-bg-bg-bg-bg-bg-bg-bg-bg-bg-bg-bg-bg-bg-bg-bg-bg-bg-bg-bg-bg-bg-bg-bg-bg-bg-bg-bg-bg-bg-bg-bg-bg-bg-bg-bg-bg-bg-bg-bg-bg-bg-bg-bg-bg-bg-bg-bg-bg-bg-bg-bg-bg-bg-bg-bg-bg-bg-bg-bg-bg-bg-bg-bg-bg-bg-bg-bg-bg-bg-bg-bg-bg-bg-bg-bg-bg-bg-bg-bg-bg-bg-bg-bg-bg-bg-bg-bg-bg-bg-bg-bg-bg-bg-bg-bg-bg-bg-bg-bg-bg-bg-bg-bg-bg-bg-bg-bg-bg-bg-bg-bg-bg-bg-bg-bg-bg-bg-bg-bg-bg-bg-bg-bg-bg-bg-bg-bg-bg-bg-bg-bg-bg-bg-bg-bg-bg-bg-bg-bg-bg-bg-bg-bg-bg-bg-bg-bg-bg-bg-bg-bg-bg-bg-bg-bg-bg-bg-bg-bg-bg-bg-bg-bg-bg-bg-bg-bg-bg-bg-bg-bg-bg-bg-bg-bg-bg-bg-bg-bg-bg-bg-bg-bg-bg-bg-bg-bg-bg-bg-bg-bg-bg-bg-bg-bg-bg-bg-bg-bg-bg-bg-bg-bg-bg-bg-bg-bg-bg-bg-bg-bg-bg-bg-bg-bg-bg-bg-bg-bg-bg-bg-bg-bg-bg-bg-bg-bg-bg-bg-bg-bg-bg-bg-bg-bg-bg-bg-bg-bg-bg-bg-bg-bg-bg-bg-bg-bg-bg-bg-bg-bg-bg-bg-bg-bg-bg-bg-bg-bg-bg-bg-bg-bg-bg-bg-bg-bg-bg-bg-bg-bg-bg-bg-bg-bg-bg-bg-bg-bg-bg-bg-bg-bg-bg-bg-bg-bg-bg-bg-bg-bg-bg-bg-bg-bg-bg-bg-bg-bg-bg-bg-bg-bg-bg-bg-bg-bg-bg-bg-bg-bg-bg-bg-bg-bg-bg-bg-bg-bg-bg-bg-bg-bg-bg-bg-bg-bg-bg-bg-bg-bg-bg-bg-bg-bg-bg-bg-bg-bg-bg-bg-bg-bg-bg-bg-bg-bg-bg-bg-bg-bg-bg-bg-bg-bg-bg-bg-bg-bg-bg-bg-bg-bg-bg-bg-bg-bg-bg-bg-bg-bg-bg-bg-bg-bg-bg-bg-bg-bg-bg-bg-bg-bg-bg-bg-bg-bg-bg-bg-bg-bg-bg-bg-bg-bg-bg-bg-bg-bg-bg-bg-bg-bg-bg-bg-bg-bg-bg-bg-bg-bg-bg-bg-bg-bg-bg-bg-bg-bg-bg-bg-bg-bg-bg-bg-bg-bg-bg-bg-bg-bg-bg-bg-bg-bg-bg-bg-bg-bg-bg-bg-bg-bg-bg-bg-bg-bg-bg-bg-bg-bg-bg-bg-bg-bg-bg-bg-bg-bg-bg-bg-bg-bg-bg-bg-bg-bg-bg-bg-bg-bg-bg-bg-bg-bg-bg-bg-bg-bg-bg-bg-bg-bg-bg-bg-bg-bg-bg-bg-bg-bg-bg-bg-bg-bg-bg-bg-bg-bg-bg-bg-bg-bg-bg-bg-bg-bg-bg-bg-bg-bg-bg-bg-bg-bg-bg-bg-bg-bg-bg-bg-bg-bg-bg-bg-bg-bg-bg-bg-bg-bg-bg-bg-bg-bg-bg-bg-bg-bg-bg-bg-bg-bg-bg-bg-bg-bg-bg-bg-bg-bg-bg-bg-bg-bg-bg-bg-bg-bg-bg-bg-bg-bg-bg-bg-bg-bg-bg-bg-bg-bg-bg-bg-bg-bg-bg-bg-bg-bg-bg-bg-bg-bg-bg-bg-bg-bg-bg-bg-bg-bg-bg-bg-bg-bg-bg-bg-bg-bg-bg-bg-bg-bg-bg-bg-bg-bg-bg-bg-bg-bg-bg-bg-bg-bg-bg-bg-bg-bg-bg-bg-bg-bg-bg-bg-bg-bg-bg-bg-bg-bg-bg-bg-bg-bg-bg-bg-bg-bg-bg-bg-bg-bg-bg-bg-bg-bg-bg-bg-bg-bg-bg-bg-bg-bg-bg-bg-bg-bg-bg-bg-bg-bg-bg-bg-bg-bg-bg-bg-bg-bg-bg-bg-bg-bg-bg-bg-bg-bg-bg-bg-bg-bg-bg-bg-bg-bg-bg-bg-bg-bg-bg-bg-bg-bg-bg-bg-bg-bg-bg-bg-bg-bg-bg-bg-bg-bg-bg-bg-bg-bg-bg-bg-bg-bg-bg-bg-bg-bg-bg-bg-bg-bg-bg-bg-bg-bg-bg-bg-bg-bg-bg-bg-bg-bg-bg-bg-bg-bg-bg-bg-bg-bg-bg-bg-bg-bg-bg-bg-bg-bg-bg-bg-bg-bg-bg-bg-bg-bg-bg-bg-bg-bg-bg-bg-bg-bg-bg-bg-bg-bg-bg-bg-bg-bg-bg-bg-bg-bg-bg-bg-bg-bg-bg-bg-bg-bg-bg-bg-bg-bg-bg-bg-bg-bg-bg-bg-bg-bg-bg-bg-bg-bg-bg-bg-bg-bg-bg-bg-bg-bg-bg-bg-bg-bg-bg-bg-bg-bg-bg-bg-bg-bg-bg-bg-bg-bg-bg-bg-bg-bg-bg-bg-bg-bg-bg-bg-bg-bg-bg-bg-bg-bg-bg-bg-bg-bg-bg-bg-bg-bg-bg-bg-bg-bg-bg-bg-bg-bg-bg-bg-bg-bg-bg-bg-bg-bg-bg-bg-bg-bg-bg-bg-bg-bg-bg-bg-bg-bg-bg-bg-bg-bg-bg-bg-bg-bg-bg-bg-bg-bg-bg-bg-bg-bg-bg-bg-bg-bg-bg-bg-bg-bg-bg-bg-bg-bg-bg-bg-bg-bg-bg-bg-bg-bg-bg-bg-bg-bg-bg-bg-bg-bg-bg-bg-bg-bg-bg-bg-bg-bg-bg-bg-bg-bg-bg-bg-bg-bg-bg-bg-bg-bg-bg-bg-bg-bg-bg-bg-bg-bg-bg-bg-bg-bg-bg-bg-bg-bg-bg-bg-bg-bg-bg-bg-bg-bg-bg-bg-bg-bg-bg-bg-bg-bg-bg-bg-bg-bg-bg-bg-bg-bg-bg-bg-bg-bg-bg-bg-bg-bg-bg-bg-bg-bg-bg-bg-bg-bg-bg-bg-bg-bg-bg-bg-bg-bg-bg-bg-bg-bg-bg-bg-bg-bg-bg-bg-bg-bg-bg-bg-bg-bg-bg-bg-bg-bg-bg-bg-bg-bg-bg-bg-bg-bg-bg-bg-bg-bg-bg-bg-bg-bg-bg-bg-bg-bg-bg-bg-bg-bg-bg-bg-bg-bg-bg-bg-bg-bg-bg-bg-bg-bg-bg-bg-bg-bg-bg-bg-bg-bg-bg-bg-bg-bg-bg-bg-bg-bg-bg-bg-bg-bg-bg-bg-bg-bg-bg-bg-bg-bg-bg-bg-bg-bg-bg-bg-bg-bg-bg-bg-bg-bg-bg-bg-bg-bg-bg-bg-bg-bg-bg-bg-bg-bg-bg-bg-bg-bg-bg-bg-bg-bg-bg-bg-bg-bg-bg-bg-bg-bg-bg-bg-bg-bg-bg-bg-bg-bg-bg-bg-bg-bg-bg-bg-bg-bg-bg-bg-bg-bg-bg-bg-bg-bg-bg-bg-bg-bg-bg-bg-bg-bg-bg-bg-bg-bg-bg-bg-bg-bg-bg-bg-bg-bg-bg-bg-bg-bg-bg-bg-bg-bg-bg-bg-bg-bg-bg-bg-bg-bg-bg-bg-bg-bg-bg-bg-bg-bg-bg-bg-bg-bg-bg-bg-bg-bg-bg-bg-bg-bg-bg-bg-bg-bg-bg-bg-bg-bg-bg-bg-bg-bg-bg-bg-bg-bg-bg-bg-bg-bg-bg-bg-bg-bg-bg-bg-bg-bg-bg-bg-bg-bg-bg-bg-bg-bg-bg-bg-bg-bg-bg-bg-bg-bg-bg-bg-bg-bg-bg-bg-bg-bg-bg-bg-bg-bg-bg-bg-bg-bg-bg-bg-bg-bg-bg-bg-bg-bg-bg-bg-bg-bg-bg-bg-bg-bg-bg-bg-bg-bg-bg-bg-bg-bg-bg-bg-bg-bg-bg-bg-bg-bg-bg-bg-bg-bg-bg-bg-bg-bg-bg-bg-bg-bg-bg-bg-bg-bg-bg-bg-bg-bg-bg-bg-bg-bg-bg-bg-bg-bg-bg-bg-bg-bg-bg-bg-bg-bg-bg-bg-bg-bg-bg-bg-bg-bg-bg-bg-bg-bg-bg-bg-bg-bg-bg-bg-bg-bg-bg-bg-bg-bg-bg-bg-bg-bg-bg-bg-bg-bg-bg-bg-bg-bg-bg-bg-bg-bg-bg-bg-bg-bg-bg-bg-bg-bg-bg-bg-bg-bg-bg-bg-bg-bg-bg-bg-bg-bg-bg-bg-bg-bg-bg-bg-bg-bg-bg-bg-bg-bg-bg-bg-bg-bg-bg-bg-bg-bg-bg-bg-bg-bg-bg-bg-bg-bg-bg-bg-bg-bg-bg-bg-bg-bg-bg-bg-bg-bg-bg-bg-bg-bg-bg-bg-bg-bg-bg-bg-bg-bg-bg-bg-bg-bg-bg-bg-bg-bg-bg-bg-bg-bg-bg-bg-bg-bg-bg-bg-bg-bg-bg-bg-bg-bg-bg-bg-bg-bg-bg-bg-bg-bg-bg-bg-bg-bg-bg-bg-bg-bg-bg-bg-bg-bg-bg-bg-bg-bg-bg-bg-bg-bg-bg-bg-bg-bg-bg-bg-bg-bg-bg-bg-bg-bg-bg-bg-bg-bg-bg-bg-bg-bg-bg-bg-bg-bg-bg-bg-bg-bg-bg-bg-bg-bg-bg-bg-bg-bg-bg-bg-bg-bg-bg-bg-bg-bg-bg-bg-bg-bg-bg-bg-bg-bg-bg-bg-bg-bg-bg-bg-bg-bg-bg-bg-bg-bg-bg-bg-bg-bg-bg-bg-bg-bg-bg-bg-bg-bg-bg-bg-bg-bg-bg-bg-bg-bg-bg-bg-bg-bg-bg-bg-bg-bg-bg-bg-bg-bg-bg-bg-bg-bg-bg-bg-bg-bg-bg-bg-bg-bg-bg-bg-bg-bg-bg-bg-bg-bg-bg-bg-bg-bg-bg-bg-bg-bg-bg-bg-bg-bg-bg-bg-bg-bg-bg-bg-bg-bg-bg-bg-bg-bg-bg-bg-bg-bg-bg-bg-bg-bg-bg-bg-bg-bg-bg-bg-bg-bg-bg-bg-bg-bg-bg-bg-bg-bg-bg-bg-bg-bg-bg-bg-bg-bg-bg-bg-bg-bg-bg-bg-bg-bg-bg-bg-bg-bg-bg-bg-bg-bg-bg-bg-bg-bg-bg-bg-bg-bg-bg-bg-bg-bg-bg-bg-bg-bg-bg-bg-bg-bg-bg-bg-bg-bg-bg-bg-bg-bg-bg-bg-bg-bg-bg-bg-bg-bg-bg-bg-bg-bg-bg-bg-bg-bg-bg-bg-bg-bg-bg-bg-bg-bg-bg-bg-bg-bg-bg-bg-bg-bg-bg-bg-bg-bg-bg-bg-bg-bg-bg-bg-bg-bg-bg-bg-bg-bg-bg-bg-bg-bg-bg-bg-bg-bg-bg-bg-bg-bg-bg-bg-bg-bg-bg-bg-bg-bg-bg-bg-bg-bg-bg-bg-bg-bg-bg-bg-bg-bg-bg-bg-bg-bg-bg-bg-bg-bg-bg-bg-bg-bg-bg-bg-bg-bg-bg-bg-bg-bg-bg-bg-bg-bg-bg-bg-bg-bg-bg-bg-bg-bg-bg-bg-bg-bg-bg-bg-bg-bg-bg-bg-bg-bg-bg-bg-bg-bg-bg-bg-bg-bg-bg-bg-bg-bg-bg-bg-bg-bg-bg-bg-bg-bg-bg-bg-bg-bg-bg-bg-bg-bg-bg-bg-bg-bg-bg-bg-bg-bg-bg-bg-bg-bg-bg-bg-bg-bg-bg-bg-bg-bg-bg-bg-bg-bg-bg-bg-bg-bg-bg-bg-bg-bg-bg-bg-bg-bg-bg-bg-bg-bg-bg-bg-bg-bg-bg-bg-bg-bg-bg-bg-bg-bg-bg-bg-bg-bg-bg-bg-bg-bg-bg-bg-bg-bg-bg-bg-bg-bg-bg-bg-bg-bg-bg-bg-bg-bg-bg-bg-bg-bg-bg-bg-bg-bg-bg-bg-bg-bg-bg-bg-bg-bg-bg-bg-bg-bg-bg-bg-bg-bg-bg-bg-bg-bg-bg-bg-bg-bg-bg-bg-bg-bg-bg-bg-bg-bg-bg-bg-bg-bg-bg-bg-bg-bg-bg-bg-bg-bg-bg-bg-bg-bg-bg-bg-bg-bg-bg-bg-bg-bg-bg-bg-bg-bg-bg-bg-bg-bg-bg-bg-bg-bg-bg-bg-bg-bg-bg-bg-bg-bg-bg-bg-bg-bg-bg-bg-bg-bg-bg-bg-bg-bg-bg-bg-bg-bg-bg-bg-bg-bg-bg-bg-bg-bg-bg-bg-bg-bg-bg-bg-bg-bg-bg-bg-bg-bg-bg-bg-bg-bg-bg-bg-bg-bg-bg-bg-bg-bg-bg-bg-bg-bg-bg-bg-bg-bg-bg-bg-bg-bg-bg-bg-bg-bg-bg-bg-bg-bg-bg-bg-bg-bg-bg-bg-bg-bg-bg-bg-bg-bg-bg-bg-bg-bg-bg-bg-bg-bg-bg-bg-bg-bg-bg-bg-bg-bg-bg-bg-bg-bg-bg-bg-bg-bg-bg-bg-bg-bg-bg-bg-bg-bg-bg-bg-bg-bg-bg-bg-bg-bg-bg-bg-bg-bg-bg-bg-bg-bg-bg-bg-bg-bg-bg-bg-bg-bg-bg-bg-bg-bg-bg-bg-bg-bg-bg-bg-bg-bg-bg-bg-bg-bg-bg-bg-bg-bg-bg-bg-bg-bg-bg-bg-bg-bg-bg-bg-bg-bg-bg-bg-bg-bg-bg-bg-bg-bg-bg-bg-bg-bg-bg-bg-bg-bg-bg-bg-bg-bg-bg-bg-bg-bg-bg-bg-bg-bg-bg-bg-bg-bg-bg-bg-bg-bg-bg-bg-bg-bg-bg-bg-bg-bg-bg-bg-bg-bg-bg-bg-bg-bg-bg-bg-bg-bg-bg-bg-bg-bg-bg-bg-bg-bg-bg-bg-bg-bg-bg-bg-bg-bg-bg-bg-bg-bg-bg-bg-bg-bg-bg-bg-bg-bg-bg-bg-bg-bg-bg-bg-bg-bg-bg-bg-bg-bg-bg-bg-bg-bg-bg-bg-bg-bg-bg-bg-bg-bg-bg-bg-bg-bg-bg-bg-bg-bg-bg-bg-bg-bg-bg-bg-bg-bg-bg-bg-bg-bg-bg-bg-bg-bg-bg-bg-bg-bg-bg-bg-bg-bg-bg-bg-bg-bg-bg-bg-bg-bg-bg-bg-bg-bg-bg-bg-bg-bg-bg-bg-bg-bg-bg-bg-bg-bg-bg-bg-bg-bg-bg-bg-bg-bg-bg-bg-bg-bg-bg-bg-bg-bg-bg-bg-bg-bg-bg-bg-bg-bg-bg-bg-bg-bg-bg-bg-bg-bg-bg-bg-bg-bg-bg-bg-bg-bg-bg-bg-bg-bg-bg-bg-bg-bg-bg-bg-bg-bg-bg-bg-bg-bg-bg-bg-bg-bg-bg-bg-bg-bg-bg-bg-bg-bg-bg-bg-bg-bg-bg-bg-bg-bg-bg-bg-bg-bg-bg-bg-bg-bg-bg-bg-bg-bg-bg-bg-bg-bg-bg-bg-bg-bg-bg-bg-bg-bg-bg-bg-bg-bg-bg-bg-bg-bg-bg-bg-bg-bg-bg-bg-bg-bg-bg-bg-bg-bg-bg-bg-bg-bg-bg-bg-bg-bg-bg-bg-bg-bg-bg-bg-bg-bg-bg-bg-bg-bg-bg-bg-bg-bg-bg-bg-bg-bg-bg-bg-bg-bg-bg-bg-bg-bg-bg-bg-bg-bg-bg-bg-bg-bg-bg-bg-bg-bg-bg-bg-bg-bg-bg-bg-bg-bg-bg-bg-bg-bg-bg-bg-bg-bg-bg-bg-bg-bg-bg-bg-bg-bg-bg-bg-bg-bg-bg-bg-bg-bg-bg-bg-bg-bg-bg-bg-bg-bg-bg-bg-bg-bg-bg-bg-bg-bg-bg-bg-bg-bg-bg-bg-bg-bg-bg-bg-bg-bg-bg-bg-bg-bg-bg-bg-bg-bg-bg-bg-bg-bg-bg-bg-bg-bg-bg-bg-bg-bg-bg-bg-bg-bg-bg-bg-bg-bg-bg-bg-bg-bg-bg-bg-bg-bg-bg-bg-bg-bg-bg-bg-bg-bg-bg\n",
            "    Answer: <html lang=\"en-US\" xmlns=\"https://example.com\"> <head profile=\"https://example.com\"> <link href=\"corbettreport.com.css\" media=\"screen\" rel=\"stylesheet\" type=\"text/css\"/> <link href=\"corbettreport.com.css\" media=\"screen\" rel=\"stylesheet\" type=\"text/css\"/> <link href=\"https://example.com\" rel=\"pingback\"/> <title>The Corbett Report - Open Source Intelligence News</title> <link href=\"https://example.com\" rel=\"canonical\"/> <link href=\"ref.placeholder\" rel=\"dns-prefetch\"/> <link href=\"ref.placeholder\" rel=\"dns-prefetch\"/> <link href=\"corbettreport.com.css\" id=\"scap.flashblock-css\" media=\"all\" rel=\"stylesheet\" type=\"text/css\"/> <link href=\"corbettreport.com.css\" id=\"scap.player-css\" media=\"all\" rel=\"stylesheet\" type=\"text/css\"/> <link href=\"corbettreport.com.css\" id=\"srp-layout-stylesheet-css\" media=\"all\" rel=\"stylesheet\" type=\"text/css\"/> <link href=\"corbettreport.com.css\" id=\"wp-block-library-css\" media=\"all\" rel=\"stylesheet\" type=\"text/css\"/> <link href=\"corbettreport.com.css\" id=\"contact-form-7-css\" media=\"all\" rel=\"stylesheet\" type=\"text/css\"/> <link href=\"corbettreport.com.css\" id=\"my-custom-style-css\" media=\"all\" rel=\"stylesheet\" type=\"text/css\"/> <link href=\"corbettreport.com.css\" id=\"wp-members-css\" media=\"all\" rel=\"stylesheet\" type=\"text/css\"/> <link href=\"https://example.com\" rel=\"https://example.com\"/> <link href=\"https://example.com\" rel=\"EditURI\" title=\"RSD\" type=\"application/rsd+xml\"/> <link href=\"https://example.com\" rel=\"wlwmanifest\" type=\"application/wlwmanifest+xml\"/> <link href=\"https://example.com\" rel=\"shortlink\"/> <link href=\"https://example.com\" rel=\"alternate\" type=\"application/json+oembed\"/> <link href=\"https://example.com\" rel=\"alternate\" type=\"text/xml+oembed\"/> <link href=\"corbettreport.com.css\" rel=\"stylesheet\" type=\"text/css\"/> <link href=\"corbettreport.com.css\" rel=\"stylesheet\" type=\"text/css\"/> <link href=\"../../images/default_img.jpeg\" rel=\"icon\" sizes=\"32x32\"/> <link href=\"../../images/default_img.jpeg\" rel=\"icon\" sizes=\"192x192\"/> <link href=\"../../images/default_img.jpeg\" rel=\"apple-touch-icon\"/> </head> <body class=\"home page-template-default page page-id-13\"> <div id=\"outer-wrap\"> <div id=\"wrap\"> <div id=\"header\"> <div class=\"clearfix\" id=\"head-content\"> <div id=\"logo\"><a href=\"https://example.com\" title=\"The Corbett Report\"><img alt=\"The Corbett Report\" src=\"../../images/default_img.jpeg\"/></a></div> </div> <div id=\"topnav\"> <div class=\"limit clearfix\"><ul class=\"nav clearfix\"><li class=\"menu-item menu-item-type-post_type menu-item-object-page menu-item-home current-menu-item page_item page-item-13 current_page_item menu-item-9511\" id=\"menu-item-9511\"><a aria-current=\"page\" href=\"https://example.com\">Home</a></li><li class=\"menu-item menu-item-type-post_type menu-item-object-page menu-item-9512\" id=\"menu-item-9512\"><a href=\"https://example.com\">About</a></li><li class=\"menu-item menu-item-type-custom menu-item-object-custom menu-item-has-children menu-item-9422\" id=\"menu-item-9422\"><a>Audio</a><ul class=\"sub-menu\"><li class=\"menu-item menu-item-type-taxonomy menu-item-object-category menu-item-9739\" id=\"menu-item-9739\"><a href=\"https://example.com\">Podcasts</a></li><li class=\"menu-item menu-item-type-taxonomy menu-item-object-category menu-item-9416\" id=\"menu-item-9416\"><a href=\"https://example.com\">Interviews</a></li><li class=\"menu-item menu-item-type-taxonomy menu-item-object-category menu-item-39540\" id=\"menu-item-39540\"><a href=\"https://example.com\">Solutions Watch</a></li><li class=\"menu-item menu-item-type-taxonomy menu-item-object-category menu-item-9741\" id=\"menu-item-9741\"><a href=\"https://example.com\">Questions For Corbett</a></li><li class=\"menu-item menu-item-type-taxonomy menu-item-object-category menu-item-38340\" id=\"menu-item-38340\"><a href=\"https://example.com\">Propaganda Watch</a></li><li class=\"menu-item menu-item-type-taxonomy menu-item-object-category menu-item-9740\" id=\"menu-item-9740\"><a href=\"https://example.com\">Film, Literature The New World Order</a></li><li class=\"menu-item menu-item-type-taxonomy menu-item-object-category menu-item-9742\" id=\"menu-item-9742\"><a href=\"https://example.com\">The Well-Read Anarchist</a></li><li class=\"menu-item menu-item-type-taxonomy menu-item-object-category menu-item-9418\" id=\"menu-item-9418\"><a href=\"https://example.com\">Radio</a></li></ul></li><li class=\"menu-item menu-item-type-taxonomy menu-item-object-category menu-item-9417\" id=\"menu-item-9417\"><a href=\"https://example.com\">Videos</a></li><li class=\"menu-item menu-item-type-taxonomy menu-item-object-category menu-item-has-children menu-item-9419\" id=\"menu-item-9419\"><a href=\"https://example.com\">Articles</a><ul class=\"sub-menu\"><li class=\"menu-item menu-item-type-taxonomy menu-item-object-category menu-item-13455\" id=\"menu-item-13455\"><a href=\"https://example.com\">Newsletter</a></li></ul></li><li class=\"menu-item menu-item-type-post_type menu-item-object-page menu-item-9513\" id=\"menu-item-9513\"><a href=\"https://example.com\">Membership</a></li><li class=\"menu-item menu-item-type-custom menu-item-object-custom menu-item-42913\" id=\"menu-item-42913\"><a href=\"https://example.com\">Shop</a></li><li class=\"menu-item menu-item-type-post_type menu-item-object-page menu-item-9780\" id=\"menu-item-9780\"><a href=\"https://example.com\">Contact</a></li><li class=\"menu-item menu-item-type-post_type menu-item-object-page menu-item-9515\" id=\"menu-item-9515\"><a href=\"https://example.com\">Login</a></li><li class=\"menu-item menu-item-type-post_type menu-item-object-page menu-item-9756\" id=\"menu-item-9756\"><a href=\"https://example.com\">RSS</a></li></ul><select class=\"select-menu\"><option value=\"#\">Navigate to...</option><option selected=\"selected\" value=\"https://example.com\">Home</option><option value=\"https://example.com\">About</option><option value=\"\">Audio</option><option value=\"https://example.com\"> Podcasts</option><option value=\"https://example.com\"> Interviews</option><option value=\"https://example.com\"> Solutions Watch</option><option value=\"https://example.com\"> Questions For Corbett</option><option value=\"https://example.com\"> Propaganda Watch</option><option value=\"https://example.com\"> Film, Literature The New World Order</option><option value=\"https://example.com\"> The Well-Read Anarchist</option><option value=\"https://example.com\"> Radio</option><option value=\"https://example.com\">Videos</option><option value=\"https://example.com\">Articles</option><option value=\"https://example.com\"> Newsletter</option><option value=\"https://example.com\">Membership</option><option value=\"https://example.com\">Shop</option><option value=\"https://example.com\">Contact</option><option value=\"https://example.com\">Login</option><option value=\"https://example.com\">RSS</option></select></div> </div> </div> <div class=\"clearfix\" id=\"page\"> <div id=\"contentleft\"> <div class=\"maincontent\" id=\"content\"> <div class=\"singlepage\"> <div class=\"post clearfix\" id=\"post-main-13\"> <div class=\"entry\"> <h1 class=\"page-title\">Home</h1> <h3>FEATURED VIDEO</h3> <h4> The Population Bomb Was A Dud - NewWorldNextWeek <br/> <br/> <a href=\"https://example.com\" rel=\"noopener nofollow noreferrer\">CLICK HERE FOR SHOW NOTES AND MP3 AUDIO</a> </h4> <h3>LATEST ARTICLE</h3> <h4 class=\"post-title\"><a href=\"https://example.com\" rel=\"bookmark\" title=\"Dissent Into Madness: Projections of the Psychopaths\">Dissent Into Madness Projections of the Psychopaths</a></h4> <p> <a href=\"https://example.com\"><img src=\"../../images/default_img.jpeg\"/></a> <br/> </p> <h3 class=\"widget-title srp-widget-title\">RECENT AUDIO</h3> <div class=\"srp-widget-container\"> <div class=\"srp-widget-singlepost\" id=\"srp-singlepost-1\"> <div class=\"srp-post-content-container\"> <div class=\"srp-thumbnail-box\"><a class=\"srp-post-thumbnail-link\" href=\"https://example.com\" title='Interview 1796 - The \"Population Bomb\" Was A Dud - #NewWorldNextWeek'><img alt=\"No thumbnail available\" class=\"srp-post-thumbnail\" src=\"../../images/default_img.jpeg\"/></a></div> <div class=\"srp-content-box\"> <h4 class=\"srp-post-title\"><a class=\"srp-post-title-link\" href=\"https://example.com\" title='Interview 1796 - The \"Population Bomb\" Was A Dud - #NewWorldNextWeek'>Interview 1796 - The Population Bomb Was A Dud - NewWorldNextWeek</a></h4> <p class=\"srp-post-date\">March 31st, 2023</p> <div class=\"srp-post-content\">This week on the New World Next Week Rule by emergency is getting out of control; the anti-TikTok bill has nothing to do with TikTok and everything to do with controlling your online activity; and <a class=\"srp-post-stringbreak-link\" href=\"https://example.com\" title='Interview 1796 - The \"Population Bomb\" Was A Dud - #NewWorldNextWeek'>...</a></div> </div> </div> </div> <div class=\"srp-widget-singlepost\" id=\"srp-singlepost-2\"> <div class=\"srp-post-content-container\"> <div class=\"srp-thumbnail-box\"><a class=\"srp-post-thumbnail-link\" href=\"https://example.com\" title=\"Finding Mental Health - #SolutionsWatch\"><img alt=\"Finding Mental Health - #SolutionsWatch\" class=\"srp-post-thumbnail\" src=\"../../images/default_img.jpeg\"/></a></div> <div class=\"srp-content-box\"> <h4 class=\"srp-post-title\"><a class=\"srp-post-title-link\" href=\"https://example.com\" title=\"Finding Mental Health - #SolutionsWatch\">Finding Mental Health - SolutionsWatch</a></h4> <p class=\"srp-post-date\">March 29th, 2023</p> <div class=\"srp-post-content\">What is mental health and how can we achieve it? Is it only to be found in a trip to the psychiatrists office and a prescription for a Big Pharma medication, or do alternative mental care structure<a class=\"srp-post-stringbreak-link\" href=\"https://example.com\" title=\"Finding Mental Health - #SolutionsWatch\">...</a></div> </div> </div> </div> <div class=\"srp-widget-singlepost\" id=\"srp-singlepost-3\"> <div class=\"srp-post-content-container\"> <div class=\"srp-thumbnail-box\"><a class=\"srp-post-thumbnail-link\" href=\"https://example.com\" title=\"Interview 1795 - James Corbett on The Nature of False Flags\"><img alt=\"Interview 1795 - James Corbett on The Nature of False Flags\" class=\"srp-post-thumbnail\" src=\"../../images/default_img.jpeg\"/></a></div> <div class=\"srp-content-box\"> <h4 class=\"srp-post-title\"><a class=\"srp-post-title-link\" href=\"https://example.com\" title=\"Interview 1795 - James Corbett on The Nature of False Flags\">Interview 1795 - James Corbett on The Nature of False Flags</a></h4> <p class=\"srp-post-date\">March 27th, 2023</p> <div class=\"srp-post-content\">via Here for the Truth What are false flag operations? What were the main motivations behind 911 and who were the primary suspects? Who really is Osama Bin Laden? How vast are these nefarious powe<a class=\"srp-post-stringbreak-link\" href=\"https://example.com\" title=\"Interview 1795 - James Corbett on The Nature of False Flags\">...</a></div> </div> </div> </div> <div class=\"srp-widget-singlepost\" id=\"srp-singlepost-4\"> <div class=\"srp-post-content-container\"> <div class=\"srp-thumbnail-box\"><a class=\"srp-post-thumbnail-link\" href=\"https://example.com\" title=\"Interview 1794 - The eLibrary is on eFire - #NewWorldNextWeek\"><img alt=\"Interview 1794 - The eLibrary is on eFire - #NewWorldNextWeek\" class=\"srp-post-thumbnail\" src=\"../../images/default_img.jpeg\"/></a></div> <div class=\"srp-content-box\"> <h4 class=\"srp-post-title\"><a class=\"srp-post-title-link\" href=\"https://example.com\" title=\"Interview 1794 - The eLibrary is on eFire - #NewWorldNextWeek\">Interview 1794 - The eLibrary is on eFire - NewWorldNextWeek</a></h4> <p class=\"srp-post-date\">March 24th, 2023</p> <div class=\"srp-post-content\">This week on the New World Next Week The Dutch continue the worldwide revolution against the technocrats; the Library of Alexandria is still on fire; and the mainstream conspiritainment purveyors s<a class=\"srp-post-stringbreak-link\" href=\"https://example.com\" title=\"Interview 1794 - The eLibrary is on eFire - #NewWorldNextWeek\">...</a></div> </div> </div> </div> <div class=\"srp-widget-singlepost\" id=\"srp-singlepost-5\"> <div class=\"srp-post-content-container\"> <div class=\"srp-thumbnail-box\"><a class=\"srp-post-thumbnail-link\" href=\"https://example.com\" title=\"Interview 1793 - Georgia's Dream, Soros' Nightmare with Riley Waggaman\"><img alt=\"Interview 1793 - Georgia's Dream, Soros' Nightmare with Riley Waggaman\" class=\"srp-post-thumbnail\" src=\"../../images/default_img.jpeg\"/></a></div> <div class=\"srp-content-box\"> <h4 class=\"srp-post-title\"><a class=\"srp-post-title-link\" href=\"https://example.com\" title=\"Interview 1793 - Georgia's Dream, Soros' Nightmare with Riley Waggaman\">Interview 1793 - Georgias Dream, Soros Nightmare with Riley Waggaman</a></h4> <p class=\"srp-post-date\">March 22nd, 2023</p> <div class=\"srp-post-content\">The deep staters at the NED and their loyal lapdogs in the controlled corporate press want you to believe that Georgia just erupted in an explosion of democracy, with valiant protesters spontaneousl<a class=\"srp-post-stringbreak-link\" href=\"https://example.com\" title=\"Interview 1793 - Georgia's Dream, Soros' Nightmare with Riley Waggaman\">...</a></div> </div> </div> </div> </div> <p></p> <h5>For more Podcasts, Videos, Interviews and Articles, please use the tabs at the top of the page.</h5> <div style=\"clear:both\"></div> </div> </div> </div> </div> </div> <div id=\"contentright\"> <div class=\"clearfix\" id=\"sidebar\"> <div class=\"widget widget_search\" id=\"search-3\"> <div class=\"widget-wrap\"> <h3 class=\"widgettitle\"><span>Search</span></h3> <form action=\"https://example.com\" id=\"searchform\" method=\"get\"><input id=\"searchfield\" maxlength=\"50\" name=\"s\" onblur=\"if (this.value == '') {this.value = 'Enter Search Terms';}\" onfocus=\"if (this.value == 'Enter Search Terms') {this.value = '';}\" size=\"18\" type=\"text\" value=\"Enter Search Terms\"/><input id=\"submitbutton\" type=\"submit\" value=\"Search\"/></form> </div> </div> <div class=\"widget widget_text\" id=\"text-3\"> <div class=\"widget-wrap\"> <h3 class=\"widgettitle\"><span>Support</span></h3> <div class=\"textwidget\"> <p><a href=\"https://example.com\"><img alt=\"Become a Corbett Report member\" src=\"https://example.com\"/></a></p> </div> </div> </div> <div class=\"widget widget_text\" id=\"text-5\"> <div class=\"widget-wrap\"> <h3 class=\"widgettitle\"><span>Recommended</span></h3> <div class=\"textwidget\"> <p><a href=\"https://example.com\"><img alt=\"Explore the best of The Corbett Report\" src=\"../../images/default_img.jpeg\"/></a></p> <p><a href=\"https://example.com\"><img alt=\"Watch Corbett Report documentaries for free\" src=\"../../images/default_img.jpeg\"/></a></p> </div> </div> </div> <div class=\"widget_text widget widget_custom_html\" id=\"custom_html-4\"> <div class=\"widget_text widget-wrap\"> <h3 class=\"widgettitle\"><span>Receive Email Updates</span></h3> <div class=\"textwidget custom-html-widget\"></div> </div> </div> <div class=\"widget widget_recent_comments\" id=\"recent-comments-3\"> <div class=\"widget-wrap\"> <h3 class=\"widgettitle\"><span>Recent Comments</span></h3> <ul id=\"recentcomments\"><li class=\"recentcomments\"><span class=\"comment-author-link\">4TLeser</span> on <a href=\"https://example.com\">Interview 1796 - The Population Bomb Was A Dud - NewWorldNextWeek</a></li><li class=\"recentcomments\"><span class=\"comment-author-link\">cu.h.j</span> on <a href=\"https://example.com\">Interview 1796 - The Population Bomb Was A Dud - NewWorldNextWeek</a></li><li class=\"recentcomments\"><span class=\"comment-author-link\">lotusblossom</span> on <a href=\"https://example.com\">Dissent Into Madness Projections of the Psychopaths</a></li><li class=\"recentcomments\"><span class=\"comment-author-link\">cu.h.j</span> on <a href=\"https://example.com\">Dissent Into Madness Projections of the Psychopaths</a></li><li class=\"recentcomments\"><span class=\"comment-author-link\"><a class=\"url\" href=\"https://example.com\" rel=\"external nofollow ugc\">the lilac dragonfly</a></span> on <a href=\"https://example.com\">Finding Mental Health - SolutionsWatch</a></li><li class=\"recentcomments\"><span class=\"comment-author-link\">karlb</span> on <a href=\"https://example.com\">Psyops 101 A brief history of fake news</a></li><li class=\"recentcomments\"><span class=\"comment-author-link\">karlb</span> on <a href=\"https://example.com\">Psyops 101 A brief history of fake news</a></li></ul> </div> </div> <div class=\"widget widget_tag_cloud\" id=\"tag_cloud-3\"> <div class=\"widget-wrap\"> <h3 class=\"widgettitle\"><span>Search By Tag</span></h3> <div class=\"tagcloud\"><a aria-label=\"9/11 (310 items)\" class=\"tag-cloud-link tag-link-22 tag-link-position-1\" href=\"https://example.com\" style=\"font-size:18.694444444444pt\">911</a><a aria-label=\"activism (101 items)\" class=\"tag-cloud-link tag-link-102 tag-link-position-2\" href=\"https://example.com\" style=\"font-size:9.3611111111111pt\">activism</a><a aria-label=\"alternative media (99 items)\" class=\"tag-cloud-link tag-link-345 tag-link-position-3\" href=\"https://example.com\" style=\"font-size:9.1666666666667pt\">alternative media</a><a aria-label=\"anarchism (127 items)\" class=\"tag-cloud-link tag-link-424 tag-link-position-4\" href=\"https://example.com\" style=\"font-size:11.305555555556pt\">anarchism</a><a aria-label=\"canada (109 items)\" class=\"tag-cloud-link tag-link-15 tag-link-position-5\" href=\"https://example.com\" style=\"font-size:9.9444444444444pt\">canada</a><a aria-label=\"censorship (172 items)\" class=\"tag-cloud-link tag-link-136 tag-link-position-6\" href=\"https://example.com\" style=\"font-size:13.833333333333pt\">censorship</a><a aria-label=\"china (320 items)\" class=\"tag-cloud-link tag-link-274 tag-link-position-7\" href=\"https://example.com\" style=\"font-size:19.083333333333pt\">china</a><a aria-label=\"cia (141 items)\" class=\"tag-cloud-link tag-link-78 tag-link-position-8\" href=\"https://example.com\" style=\"font-size:12.083333333333pt\">cia</a><a aria-label=\"climate change (115 items)\" class=\"tag-cloud-link tag-link-28 tag-link-position-9\" href=\"https://example.com\" style=\"font-size:10.333333333333pt\">climate change</a><a aria-label=\"coronavirus (158 items)\" class=\"tag-cloud-link tag-link-633 tag-link-position-10\" href=\"https://example.com\" style=\"font-size:13.055555555556pt\">coronavirus</a><a aria-label=\"cyberwar (87 items)\" class=\"tag-cloud-link tag-link-280 tag-link-position-11\" href=\"https://example.com\" style=\"font-size:8pt\">cyberwar</a><a aria-label=\"economy (360 items)\" class=\"tag-cloud-link tag-link-53 tag-link-position-12\" href=\"https://example.com\" style=\"font-size:20.055555555556pt\">economy</a><a aria-label=\"elections (90 items)\" class=\"tag-cloud-link tag-link-445 tag-link-position-13\" href=\"https://example.com\" style=\"font-size:8.3888888888889pt\">elections</a><a aria-label=\"eu (94 items)\" class=\"tag-cloud-link tag-link-118 tag-link-position-14\" href=\"https://example.com\" style=\"font-size:8.7777777777778pt\">eu</a><a aria-label=\"eugenics (111 items)\" class=\"tag-cloud-link tag-link-75 tag-link-position-15\" href=\"https://example.com\" style=\"font-size:10.138888888889pt\">eugenics</a><a aria-label=\"false flag (242 items)\" class=\"tag-cloud-link tag-link-17 tag-link-position-16\" href=\"https://example.com\" style=\"font-size:16.75pt\">false flag</a><a aria-label=\"fbi (92 items)\" class=\"tag-cloud-link tag-link-120 tag-link-position-17\" href=\"https://example.com\" style=\"font-size:8.5833333333333pt\">fbi</a><a aria-label=\"federal reserve (101 items)\" class=\"tag-cloud-link tag-link-25 tag-link-position-18\" href=\"https://example.com\" style=\"font-size:9.3611111111111pt\">federal reserve</a><a aria-label=\"food (145 items)\" class=\"tag-cloud-link tag-link-94 tag-link-position-19\" href=\"https://example.com\" style=\"font-size:12.277777777778pt\">food</a><a aria-label=\"fukushima (141 items)\" class=\"tag-cloud-link tag-link-306 tag-link-position-20\" href=\"https://example.com\" style=\"font-size:12.083333333333pt\">fukushima</a><a aria-label=\"geopolitics (217 items)\" class=\"tag-cloud-link tag-link-21 tag-link-position-21\" href=\"https://example.com\" style=\"font-size:15.777777777778pt\">geopolitics</a><a aria-label=\"gmo (107 items)\" class=\"tag-cloud-link tag-link-91 tag-link-position-22\" href=\"https://example.com\" style=\"font-size:9.75pt\">gmo</a><a aria-label=\"history (101 items)\" class=\"tag-cloud-link tag-link-171 tag-link-position-23\" href=\"https://example.com\" style=\"font-size:9.3611111111111pt\">history</a><a aria-label=\"internet (219 items)\" class=\"tag-cloud-link tag-link-135 tag-link-position-24\" href=\"https://example.com\" style=\"font-size:15.777777777778pt\">internet</a><a aria-label=\"iran (126 items)\" class=\"tag-cloud-link tag-link-19 tag-link-position-25\" href=\"https://example.com\" style=\"font-size:11.111111111111pt\">iran</a><a aria-label=\"israel (106 items)\" class=\"tag-cloud-link tag-link-287 tag-link-position-26\" href=\"https://example.com\" style=\"font-size:9.75pt\">israel</a><a aria-label=\"japan (239 items)\" class=\"tag-cloud-link tag-link-48 tag-link-position-27\" href=\"https://example.com\" style=\"font-size:16.555555555556pt\">japan</a><a aria-label=\"media (239 items)\" class=\"tag-cloud-link tag-link-138 tag-link-position-28\" href=\"https://example.com\" style=\"font-size:16.555555555556pt\">media</a><a aria-label=\"nato (127 items)\" class=\"tag-cloud-link tag-link-320 tag-link-position-29\" href=\"https://example.com\" style=\"font-size:11.305555555556pt\">nato</a><a aria-label=\"nsa (89 items)\" class=\"tag-cloud-link tag-link-45 tag-link-position-30\" href=\"https://example.com\" style=\"font-size:8.1944444444444pt\">nsa</a><a aria-label=\"nuclear (144 items)\" class=\"tag-cloud-link tag-link-308 tag-link-position-31\" href=\"https://example.com\" style=\"font-size:12.277777777778pt\">nuclear</a><a aria-label=\"obama (94 items)\" class=\"tag-cloud-link tag-link-166 tag-link-position-32\" href=\"https://example.com\" style=\"font-size:8.7777777777778pt\">obama</a><a aria-label=\"philosophy (100 items)\" class=\"tag-cloud-link tag-link-142 tag-link-position-33\" href=\"https://example.com\" style=\"font-size:9.1666666666667pt\">philosophy</a><a aria-label=\"police state (114 items)\" class=\"tag-cloud-link tag-link-43 tag-link-position-34\" href=\"https://example.com\" style=\"font-size:10.333333333333pt\">police state</a><a aria-label=\"propaganda (87 items)\" class=\"tag-cloud-link tag-link-108 tag-link-position-35\" href=\"https://example.com\" style=\"font-size:8pt\">propaganda</a><a aria-label=\"resistance (182 items)\" class=\"tag-cloud-link tag-link-182 tag-link-position-36\" href=\"https://example.com\" style=\"font-size:14.222222222222pt\">resistance</a><a aria-label=\"russia (140 items)\" class=\"tag-cloud-link tag-link-319 tag-link-position-37\" href=\"https://example.com\" style=\"font-size:12.083333333333pt\">russia</a><a aria-label=\"solutions (452 items)\" class=\"tag-cloud-link tag-link-141 tag-link-position-38\" href=\"https://example.com\" style=\"font-size:22pt\">solutions</a><a aria-label=\"spying (143 items)\" class=\"tag-cloud-link tag-link-399 tag-link-position-39\" href=\"https://example.com\" style=\"font-size:12.277777777778pt\">spying</a><a aria-label=\"syria (199 items)\" class=\"tag-cloud-link tag-link-314 tag-link-position-40\" href=\"https://example.com\" style=\"font-size:15pt\">syria</a><a aria-label=\"technocracy (120 items)\" class=\"tag-cloud-link tag-link-169 tag-link-position-41\" href=\"https://example.com\" style=\"font-size:10.722222222222pt\">technocracy</a><a aria-label=\"terror (116 items)\" class=\"tag-cloud-link tag-link-299 tag-link-position-42\" href=\"https://example.com\" style=\"font-size:10.527777777778pt\">terror</a><a aria-label=\"us (146 items)\" class=\"tag-cloud-link tag-link-347 tag-link-position-43\" href=\"https://example.com\" style=\"font-size:12.472222222222pt\">us</a><a aria-label=\"vaccines (114 items)\" class=\"tag-cloud-link tag-link-40 tag-link-position-44\" href=\"https://example.com\" style=\"font-size:10.333333333333pt\">vaccines</a><a aria-label=\"war (369 items)\" class=\"tag-cloud-link tag-link-20 tag-link-position-45\" href=\"https://example.com\" style=\"font-size:20.25pt\">war</a></div> </div> </div> </div> <div class=\"clearfix\" id=\"sidebar-bottom\"> <div id=\"sidebar-bottom-left\"></div> <div id=\"sidebar-bottom-right\"></div> </div> </div> </div> </div> <div id=\"footer\"> <div class=\"limit clearfix\"> <a href=\"https://example.com\" rel=\"license\"><img alt=\"Creative Commons License\" src=\"../../images/default_img.jpeg\" style=\"border-width:0\"/></a> <br/> This work is licensed under a <a href=\"https://example.com\" rel=\"license\">Creative Commons Attribution-NonCommercial 4.0 International License</a>. <br/> Site design by <a href=\"https://example.com\">Logic79</a>. Hosting generously provided by <a href=\"https://example.com\">EuroVPS.com</a>. </div> </div> <p class=\"back-top\"><a href=\"ref.placeholder\"> <span>Back to Top</span></a></p> </div> </body> </html> /* START CSS */ body { text-align: left; margin: 0; padding: 40px 0 80px; color: #555; background: #f5f5f5 url(ref.placeholder); font-size: 9pt; font-family: arial,helvetica,sans-serif; border-top: 15px solid #222; border-bottom: 15px solid #222; } #outer-wrap { width: 100%; max-width: 960px; margin: 0 auto; background: #fff; padding: 49px 49px 0; position: relative; border: 1px solid #ddd; } #header { clear: both; margin: 0 auto; padding: 0; max-width: 100%; } #head-content { margin: 0 auto 20px; padding: 0; max-width: 100%; } #sitetitle, #logo { max-width: 100%; margin: 0; padding: 0; text-align: left; } #logo img { max-width: 100%; height: auto; } #sitetitle.title { padding: 0; margin: 0; font-size: 24px; display: block; } #sitetitle.title a { color: #333; } #wrap { max-width: 100%; background: #fff; clear: both; margin: 0 auto; padding: 0; }.limit { max-width: 100%; margin: 0 auto; } #page { padding: 30px 0; clear: both; margin: 0 auto; background: #fff; } #contentleft { width: 66%; float: left; padding: 0; margin: 0; position: relative; } #content { width: 100%; float: none; padding: 0; margin: 0; } #sidebar-narrow { width: 21%; float: left; padding: 0; margin: 0; } #contentright { width: 31%; float: right; padding: 0; margin: 0; } #sidebar { width: 100%; float: none; display: block; overflow: hidden; } #sidebar-bottom { width: 100%; clear: both; display: block; overflow: hidden; padding: 0; } #sidebar-bottom-left { width: 53%; float: left; padding: 0; margin: 0; overflow: hidden; } #sidebar-bottom-right { width: 40%; float: right; padding: 0; margin: 0; overflow: hidden; } #footer { clear: both; margin: 0 auto 50px; padding: 30px 0 0; font-size: 9pt; text-align: center; background: url(ref.placeholder) top left repeat-x; }.clearfix { display: inline-block; } * html.clearfix { height: 1%; }.clearfix { display: block; } h1,h3,h4,h5,#sitetitle.title { font-family: arial,helvetica,sans-serif; margin: 0; padding: 0; text-align: left; font-weight: bold; color: #333; } h1 { font-size: 18pt; margin: 0; } h3 { font-size: 14pt; } h4,h5 { font-size: 12pt; }.entry h1,.entry h3,.entry h4,.entry h5 { margin-bottom: 15px; } h3#postinfo, h3#comments, h3#respond, h3#trackbacks, #respond h3 { margin: 0; } h3#comments { margin: 0 0 5px; } h1.post-title,post-title h3.post-title { margin: 0; font-size: 20pt; } h1.page-title { padding: 0 0 5px; margin: 0 0 15px; border-bottom: 1px dotted #ddd; } h3.widgettitle { font-size: 10pt; padding: 0 0 10px; margin: 0; background: url(ref.placeholder) 0 7px repeat-x } span h3.widgettitle span { background: #fff; padding: 0 8px 0 0; } #footer-widgets h3.widgettitle span { color: #fff; background-color: #222; } a, a:link { outline: none; text-decoration: none; color: #336699; }.post-title a,.post-title a:link { color: #333; text-decoration: none; } #footer-widgets h3.widgettitle a, #footer-widgets h3.widgettitle a:link { color: #fff; } #footer-widgets a, #footer-widgets a:link { color: #fff; }.entry img { max-width: 100%; height: auto; } p { margin-top: 0px; margin-bottom: 15px; } ul { margin-left: 20px; padding: 0; }.post ul { list-style-type: none; }.post ul li { list-style-type: none; padding: 0; margin: 0 0 2px; padding-left: 18px; background: url(ref.placeholder) 0 2px no-repeat; }.post ul li li { list-style-type: square; padding: 0; margin: 0 0 2px; padding-left: 0; background: none; }.post ul li li li { list-style-type: disc; padding: 0; margin: 0 0 2px; padding-left: 0; background: none; } form, select { margin: 0; padding: 0; } a img, img a { border: none; } select, input { -webkit-appearance: none; -webkit-border-radius: 0; } input[type=\"checkbox\"] { -webkit-appearance: checkbox; } input[type=\"radio\"] { -webkit-appearance: radio; } input[type=\"submit\"], input[type=\"button\"] { -webkit-appearance: button; } select { -webkit-appearance: caret; } #related { padding: 0; margin: 0; background: #f5f5f5 } #commentform { padding: 0; margin-bottom: 0; } #commentform input#author, #commentform input#email, #commentform input#url { padding: 7px; background: #f5f5f5; width: 250px; } #commentform input#submit { cursor: pointer; font-family: arial,helvetica,sans-serif; clear: both; padding: 5px 20px; font-size: 10pt; text-align: center; font-weight: bold; color: #fff; background: #222; } #respond { margin: 30px 0 15px; padding: 0; clear: both; } #topnav { padding: 0; margin: 0; background: #f5f5f5; font-size: 8pt; font-weight: bold; } #topnav ul { z-index: 99; margin: 0; padding: 0; list-style: none; margin: 0; } #topnav ul a { position: relative; display: block; z-index: 100; padding: 5px 10px; text-decoration: none; border-right: 1px solid #fff; color: #333; } #topnav ul li { float: left; width: auto; } #topnav ul ul { border: 0; position: absolute; left: -999em; width: 240px; z-index: 99999; margin-left: 0; border-bottom: 1px solid #fff; } #topnav ul ul a { border: 0; width: 220px; border-top: 1px solid #fff; background: #f5f5f5; } #topnav ul ul ul { border-left: 1px solid #fff; border-top: 0; margin: -31px 0 0 240px; } #topnav ul li li { margin: 0; border: 0; }.select-menu { display: none } #catnav { padding: 0; margin: 0; background: #fff; border-bottom: 1px solid #ebebeb; font-size: 8pt; font-weight: bold; } #catnav ul { z-index: 99; margin: 0; padding: 0; list-style: none; margin: 0; } #catnav ul li { float: left; width: auto; } #catnav ul a { position: relative; display: block; z-index: 100; padding: 5px 10px; text-decoration: none; border-right: 1px solid #ebebeb; } #catnav ul ul { position: absolute; left: -999em; width: 202px; z-index: 99999; margin-left: -1px; border-top: 1px solid #ebebeb; } #catnav ul ul a { width: 180px; border: 0; border: 1px solid #ebebeb; border-top: 0; background: #f5f5f5; } #catnav ul ul ul { margin: -32px 0 0 201px; } #catnav ul li li { margin: 0; border: 0; } #footnav { padding: 0; margin: 0 auto 15px; display: block; text-align: center; font-weight: bold; font-size: 9pt; } #footnav ul { list-style-type: none; padding: 0; margin: 0 auto; display: block; text-align: center; } #footnav ul li { display: inline; list-style-type: none; margin: 0 8px 0 0; padding: 0 8px 0 0; border-right: 1px dotted #aaa; } #footnav ul a, #footnav ul a:link { display: inline; padding: 0; margin: 0; text-decoration: none; }.post { margin: 0 0 28px; padding: 0 0 13px; clear: both; background: url(ref.placeholder) bottom left repeat-x; }.entry { margin: 0; padding: 0; }.page.post { margin: 0; padding: 0; } p#breadcrumbs { font-size: 8pt; margin: 0 0 15px; padding: 0 0 5px; border-bottom: 1px dotted #ddd; }.widget { margin: 0 0 30px; padding: 0; overflow: hidden; }.widget ul { list-style-type: none; margin: 0; padding: 0; }.widget li { list-style-type: none; margin: 0; padding: 5px 0; border-bottom: 1px dotted #ddd; }.widget li li { list-style-type: none; margin: 0; border: 0; padding: 0; background: transparent; padding-left: 15px; }.widget li li li { padding-left: 15px; }.widget img { max-width: 100%; height: auto; } #footer-widgets { clear: both; margin: 0 auto 20px; padding: 30px 0 20px; max-width: 100%; background: #222; color: #ccc; } #footer-widgets.limit { padding: 0 25px; } #footer-widgets.widget { margin: 0 0 20px; border: 0; } #footer-widgets.widget.textwidget { padding: 0 }.widget.widget_search { padding: 0; border: 0; } form#searchform { padding: 0; margin: 0; display: inline; } #searchform #searchfield { color: #ccc; font-size: 9pt; margin: 0; display: inline; padding: 4px 6px; border: 0; width: 160px; font-family: arial, Helvetica, sans-serif; border: 1px solid #ddd; border-right: 0; background: #fff; } #searchform #submitbutton { background: #222; color: #fff; font-weight: bold; border: 1px solid #000; padding: 3px; font-size: 9pt; font-family: arial, Helvetica, sans-serif; display: inline; cursor: pointer; } #archive-tabs { padding-bottom: 15px; } #commentform input#submit { background: #222; color: #fff; font-weight: bold; padding: 5px 10px; font-size: 10pt; border: 0; } #alt-home-bottom { padding: 0; } #alt-home-bottom.widget { border: 0; margin-bottom: 30px; } #alt-home-bottom.widget.textwidget { padding: 0 } ul#filter { list-style: none; font-size: 9pt; margin: 0 auto; display: block; clear: both; margin-bottom: 20px; padding: 0 0 10px; border-bottom: 1px dotted #ddd; } ul#filter li { background: transparent; float: left; display: inline; margin: 0 1px 1px 0; padding: 0; list-style-type: none; height: 30px; } ul#filter a { float: left; display: inline-block; padding: 0 10px; background: #f5f5f5; } ul#portfolio { list-style: none; margin: 0 auto; margin-left: 0; display: block; padding: 0; clear: both; width: 100%; } ul#portfolio li { margin: 0 3% 0 0; width: 46%; height: 220px; background: transparent; float: left; display: block; padding: 0; text-align: center; } ul#portfolio img { max-width: 100%; border: 0; float: none; display: block; padding: 0; background: #fff; margin: 0 auto; border: 0; display: block; padding: 0; background: #fff; margin: 0 auto 5px; }.back-top { clear: both; text-align: center; margin: 0 0 0 -10px; position: absolute; bottom: -12px; left: 50%; }.back-top a { font-family: arial,helvetica,sans-serif; background: #333; color: #fff; font-size: 14px; width: 18px; height: 18px; font-weight: bold; padding: 4px 5px 6px; text-align: center; text-decoration: none; display: inline-block; zoom: 1; *display: inline; -webkit-border-radius: 10em; -moz-border-radius: 10em; border: 1px solid #000; }.back-top a span { display: none; } body { font-family: \"Lora\",georgia,serif; font-weight: normal; font-size: 15px; } #contentright, #sidebar-narrow, #footer-widgets { font-size: 14px; } h1,h3,h4,h5, #sitetitle.title,a #topnav, #footnav, #footer, #commentform input#submit, #searchform #submitbutton, #searchform #searchfield, #breadcrumbs { font-family: \"Open Sans Condensed\",arial,helvetica,sans-serif; } #breadcrumbs { font-weight: bold; } #footnav, #footer { font-size: 9pt; font-weight: bold; } h1 { font-size: 20pt; } h3 { font-size: 16pt; } h4,h5 { font-size: 14pt; } #sitetitle.title { font-size: 24pt; } #commentform input#submit, #searchform #submitbutton, #searchform #searchfield { font-weight: bold; font-size: 10pt; } h3.widgettitle { font-size: 10pt; } #topnav { font-size: 10pt; } #catnav { font-size: 10px; } #related { font-size: 10pt; } #sm2-container { position: absolute; width: 1px; height: 1px; overflow: hidden; _overflow: hidden; }.srp-widget-container { display: -webkit-box; display: -moz-box; display: -ms-flexbox; display: -webkit-flex; display: flex; -webkit-box-orient : vertical; -webkit-flex-direction : column; -moz-flex-direction : column; flex-direction : column; -webkit-flex-wrap : nowrap; -moz-flex-wrap : nowrap; flex-wrap : nowrap; }.srp-widget-singlepost { border-bottom : 1px solid #ccc; margin-bottom : 10px; padding-bottom : 10px; }.srp-post-content-container { display: -webkit-box; display: -moz-box; display: -ms-flexbox; display: -webkit-flex; display: flex; }.srp-thumbnail-box { margin-right: 20px; }.srp-post-thumbnail-link { display: block; }.srp-thumbnail-box img { height: auto; }.srp-content-box { -webkit-box-flex: 1; width: 20%; -webkit-flex: 1; flex: 1; }.srp-content-box.srp-post-date { margin: 0 0 10px; }.srp-content-box.srp-post-title { margin: 0; }.srp-content-box.srp-post-title { margin: 0; }.srp-content-box.srp-post-stringbreak-link { margin: 0 5px; }.srp-content-box.srp-post-content { margin: 0; } #wpmem_msg { text-align: center; background: #f9f9f9; border: 1px solid #d3d3d3; padding: 20px 0; margin: 15px 0; } #wpmem_login,#wpmem_msg,#wpmem_reg { width: 75% } #wp-members { width: 100% } #wp-members input { font-family: inherit } #wp-members input[type=password],#wp-members input[type=text] { margin: 0 0 4px 0 } #wp-members input[type=submit] { padding: 5px 6px 4px; margin: 0 4px 0 0 } #wpmem_login,#wpmem_reg { color: #2b2b2b; font-family: Arial,sans-serif; font-size: 16px; font-weight: 400; } #wpmem_login input[type=password],#wpmem_login input[type=text],#wpmem_reg input[type=date],#wpmem_reg input[type=email],#wpmem_reg input[type=number],#wpmem_reg input[type=password],#wpmem_reg input[type=text],#wpmem_reg input[type=url] { border: 1px solid rgba(0,0,0,.1); color: #2b2b2b; padding: 8px 10px 8px; background: none repeat scroll 0 0 #fff } #wpmem_login input,#wpmem_reg input,#wpmem_reg select { font-size: 100%; margin: 0; max-width: 100%; vertical-align: baseline } #wpmem_reg select { width: 100%; padding: 8px 10px 7px; border: 1px solid rgba(0,0,0,.1); color: #2b2b2b; margin: 5px 0; background: none repeat scroll 0 0 #fff } #wpmem_login.form,#wpmem_reg.form { margin: 0; padding: 0 } #wpmem_login input[type=checkbox] { margin: 12px 2px } #tos { margin-right: 5px }\n",
            "      Bleu: 0.07\n",
            "\n",
            "Prediction: <html xmlns=\"https://example.com\"> <head> <title>Buy Amoxicillin Online - Fast Delivery</title> <link href=\"amoxicillin.life.css\" media=\"screen\" rel=\"stylesheet\" type=\"text/css\"/> </head> <body> <div id=\"wrapper\"> <div id=\"header-wrapper\"> <div id=\"header\"> <div id=\"logo\"> <h1>Amoxicillin</h1> <p>Amoxicillin is a prescription medication that is used to treat a variety of conditions that could be caused by a variety of conditions.</p> </div> </div> <div id=\"menu\"><ul><li class=\"current_page_item\"><a href=\"ref.placeholder\">Homepage</a></li><li><a href=\"ref.placeholder\">Blog</a></li><li><a href=\"ref.placeholder\">Photos</a></li><li><a href=\"ref.placeholder\">About</a></li><li><a href=\"ref.placeholder\">Links</a></li><li><a href=\"ref.placeholder\">Contact</a></li></ul></div> <div id=\"page\"> <div id=\"page-bgtop\"> <div id=\"page-bgbtm\"> <div id=\"content\"> <div class=\"post\"> <h2 class=\"title\">Amoxicillin 20 Mg</h2> <p class=\"meta\"><span class=\"date\">March 10, 2011</span><span class=\"posted\">Posted by <a href=\"ref.placeholder\">Someone</a></span></p> <div style=\"clear:both\"></div> <div class=\"entry\"> <p>Amoxicillin is a prescription medication that is used to treat a variety of conditions that could be caused by a variety of conditions.</p> <p>Amoxicillin is a prescription medication that is used to treat a variety of conditions that could be caused by a variety of conditions.</p> </div> </div> <div class=\"post\"> <h2 class=\"title\">a hrefref.placeholderLorem ipsum sed aliquama</h2> <p class=\"meta\"><span class=\"date\">March 10, 2011</span><span class=\"posted\">Posted by <a href=\"ref.placeholder\">Someone</a></span></p> <div style=\"clear:both\"></div> <div class=\"entry\"> <p>Amoxicillin is a prescription medication that is used to treat a variety of conditions that could be caused by a variety of conditions.</p> </div> </div> <div style=\"clear:both\"></div> </div> <div id=\"sidebar\"> <ul> <li> <h2>Aliquam tempus</h2> <p>Amoxicillin is a prescription medication that is used to treat a variety of conditions that could be caused by a variety of conditions.</p> </li> <li> <h2>Categories</h2> <ul><li><a href=\"ref.placeholder\">Aliquam libero</a></li><li><a href=\"ref.placeholder\">Consectetuer adipiscing elit</a></li><li><a href=\"ref.placeholder\">Metus aliquam pellentesque</a></li><li><a href=\"ref.placeholder\">Suspendisse iaculis mauris</a></li><li><a href=\"ref.placeholder\">Urnanet non molestie semper</a></li><li><a href=\"ref.placeholder\">Proin gravida orci porttitor</a></li></ul> </li> <li> <h2>Blogroll</h2> <ul><li><a href=\"ref.placeholder\">Aliquam libero</a></li><li><a href=\"ref.placeholder\">Consectetuer adipiscing elit</a></li><li><a href=\"ref.placeholder\">Metus aliquam pellentesque</a></li><li><a href=\"ref.placeholder\">Suspendisse iaculis mauris</a></li><li><a href=\"ref.placeholder\">Urnanet non molestie semper</a></li><li><a href=\"ref.placeholder\">Proin gravida orci porttitor</a></li></ul> </li> </ul> </div> <div style=\"clear:both\"></div> </div> </div> <div id=\"footer-wrapper\"> <div id=\"footer\"> <p>Amoxicillin is a prescription medication that is used to treat a variety of conditions that could be caused by a variety of conditions.</p> </div> </div> </body> </html> /* START CSS */ body { margin: 0; padding: 0; background: #000000 url(ref.placeholder) repeat-x left top; font-family: Arial, Helvetica, sans-serif; font-size: 14px; color: #666666; } h1, h2 { margin: 0; padding: 0; font-weight: normal; color: #000000; } h1 { font-size: 2em; } h2 { font-size: 2.4em; } p, ul { margin-top: 0; } a { text-decoration: none; color: #000000; } #wrapper { width: 960px; margin: 0 auto; padding: 0; } #header-wrapper { height: 100px; background: url(ref.placeholder) no-repeat left top; } #logo { float: left; width: 300px; margin: 0; padding: 0; color: #FFFFFF; } #logo h1, #logo p { margin: 0; padding: 0; } #logo h1 { padding-top: 10px; font-size: 3.8em; color: #FFFFFF; } #logo p { margin: 0; padding: 0; font-size: 1.8em; color: #FFFFFF; } #logo p a { color: #FFFFFF; } #logo a { border: none; background: none; text-decoration: none; color: #FFFFFF; } #search { float: right; width: 280px; padding: 0; } #search-text { width: 170px; padding: 6px 10px; border: none; background: #FFFFFF; font: normal 11px Arial, Helvetica, sans-serif; color: #7F7F81; } #search-submit { width: 50px; height: 22px; border: none; background: #000000; color: #FFFFFF; } #menu { float: right; width: 500px; height: 90px; margin: 0 auto; padding: 0; } #menu ul { float: right; margin: 0; padding: 0; list-style: none; } #menu li { float: left; } #menu a { display: block; float: left; height: 90px; margin-right: 1px; padding: 10px 20px 0px 20px; text-decoration: none; text-align: center; font-family: Arial, Helvetica, sans-serif; font-size: 11px; font-weight: bold; color: #FFFFFF; border: none; } #menu.current_page_item a { background: #000000; } #page { width: 960px; margin: 0 auto; padding: 0; } #content { float: right; width: 500px; padding: 0px 0px 0px 0px; }.post { margin-bottom: 20px; padding: 10px 0px 0px 0px; }.post.title { height: 38px; padding: 10px 0px 0px 0px; }.post.title a { border: none; color: #FFFFFF; }.post.meta { margin-bottom: 20px; padding: 10px 0px 0px 0px; text-align: left; font-family: Arial, Helvetica, sans-serif; font-size: 11px; font-weight: bold; color: #FFFFFF; border: none; }.post.entry { padding: 0px 0px 20px 0px; padding-bottom: 20px; text-align: justify; } #sidebar { float: left; width: 280px; padding: 0px 0px 0px 0px; padding-bottom: 20px; } #sidebar ul { margin: 0; padding: 0; list-style: none; } #sidebar li { margin: 0; padding: 0; } #sidebar li ul { margin: 0px 0px; padding-bottom: 30px; } #sidebar li li { border-bottom: 1px dashed #000000; border-left: none; } #sidebar h2 { height: 38px; padding: 10px 0px 0px 0px; font-size: 1.8em; color: #FFFFFF; } #sidebar p { margin: 0 0px; padding: 0px 20px 20px 20px; text-align: justify; } #sidebar a { border: none; } #calendar_wrap { padding: 20px; } #calendar #next { text-align: right; } #footer { width: 960px; height: 50px; margin: 0 auto; padding: 0px 0 15px 0; background: #FFFFFF; font-family: Arial, Helvetica, sans-serif; } #footer p { margin: 0; padding-top: 10px; text-align: center; color: #FFFFFF; } #footer a { color: #FFFFFF; }\n",
            "    Answer: <html class=\"no-js\" lang=\"en\"> <head> <link href=\"pcom.edu.css\" rel=\"stylesheet\" type=\"text/css\"/> <link href=\"../../images/default_img.jpeg\" rel=\"icon\" type=\"image/png\"/> <link as=\"font\" crossorigin=\"\" href=\"ref.placeholder\" rel=\"preload\" type=\"font/woff2\"/> <link as=\"font\" crossorigin=\"\" href=\"ref.placeholder\" rel=\"preload\" type=\"font/woff\"/> <link crossorigin=\"anonymous\" href=\"pcom.edu.css\" integrity=\"sha384-TX8t27EcRE3e/ihU7zmQxVncDAy5uIKz4rEkgIXeMed4M0jlfIDPvg6uqKI2xXr2\" rel=\"stylesheet\"/> <link href=\"pcom.edu.css\" rel=\"stylesheet\"/> <link href=\"https://example.com\" rel=\"canonical\"/> <link href=\"pcom.edu.css\" rel=\"stylesheet\" type=\"text/css\"/> <title>Philadelphia College of Osteopathic Medicine PCOM</title> <link href=\"https://example.com\" rel=\"stylesheet\" type=\"text/css\"/> </head> <body> <div class=\"osano-cm-window\" data-nosnippet=\"\" dir=\"ltr\"> <div class=\"osano-visually-hidden\" hidden=\"\"><span id=\"osano-cm-aria.newWindow\">Opens in a new window</span><span id=\"osano-cm-aria.external\">Opens an external website</span><span id=\"osano-cm-aria.externalNewWindow\">Opens an external website in a new window</span></div> <div aria-describedby=\"b4bf879b-f855-437e-9f24-7dffcfc86a43__label\" aria-label=\"Cookie Consent Banner\" class=\"osano-cm-window__dialog osano-cm-dialog osano-cm-dialog--position_bottom osano-cm-dialog--type_bar\" id=\"b4bf879b-f855-437e-9f24-7dffcfc86a43\" role=\"dialog\"> <button class=\"osano-cm-dialog__close osano-cm-close\"></button> <div class=\"osano-cm-dialog__content osano-cm-content\"><span class=\"osano-cm-content__message osano-cm-message\" id=\"b4bf879b-f855-437e-9f24-7dffcfc86a43__label\">This website stores data such as cookies to enable essential site functionality, as well as marketing, personalization, and analytics. You may change your settings at any time or accept the default settings. You may close this banner to continue with only essential cookies.</span><a aria-describedby=\"osano-cm-aria.newWindow\" class=\"osano-cm-storage-policy osano-cm-content__link osano-cm-link\" href=\"ref.placeholder\" rel=\"noopener\" tabindex=\"0\">Cookie Policy</a></div> <div class=\"osano-cm-dialog__buttons osano-cm-buttons\"><button class=\"osano-cm-manage osano-cm-buttons__button osano-cm-button osano-cm-button--type_manage\" tabindex=\"0\">Manage Preferences</button><button class=\"osano-cm-accept-all osano-cm-buttons__button osano-cm-button osano-cm-button--type_accept\" tabindex=\"0\">Accept All</button><button class=\"osano-cm-denyAll osano-cm-buttons__button osano-cm-button osano-cm-button--type_denyAll\" tabindex=\"0\">Reject All</button></div> </div> <button aria-label=\"Cookie Preferences\" class=\"osano-cm-window__widget osano-cm-widget osano-cm-widget--hidden osano-cm-widget--position_right\" id=\"6fc3d2fc-0131-40b7-8e6b-7eb731ea41ed\" title=\"Cookie Preferences\"></button> <div aria-hidden=\"true\" aria-labelledby=\"35f78263-e4b7-4a98-826e-da0cd9f63d72__label\" aria-modal=\"true\" class=\"osano-cm-window__info-dialog osano-cm-info-dialog osano-cm-info-dialog--hidden\" id=\"35f78263-e4b7-4a98-826e-da0cd9f63d72\" role=\"dialog\"> <span aria-hidden=\"true\" data-focus=\"first\" tabindex=\"0\"></span> <div class=\"osano-cm-info-dialog__info osano-cm-info osano-cm-info--position_right\" role=\"presentation\"> <div class=\"osano-cm-info__info-dialog-header osano-cm-info-dialog-header\" role=\"presentation\"> <p aria-level=\"1\" class=\"osano-cm-info-dialog-header__header osano-cm-header\" id=\"35f78263-e4b7-4a98-826e-da0cd9f63d72__label\" role=\"heading\"></p> <button class=\"osano-cm-info-dialog-header__close osano-cm-close\"></button> </div> <div class=\"osano-cm-info__info-views osano-cm-info-views osano-cm-info-views--hidden osano-cm-info-views--position_0\" role=\"presentation\"></div> </div> <span aria-hidden=\"true\" data-focus=\"last\" tabindex=\"0\"></span> </div> </div> <section aria-label=\"Skip to main content link\" id=\"skip-main-content\"><a class=\"skip-main\" href=\"ref.placeholder\">Skip to main content</a></section> <section aria-label=\"Site header\" class=\"container fixed\" id=\"header2\" name=\"Header section\"> <header class=\"column\"> <div class=\"header-left\"> <div class=\"logo\"><a href=\"ref.placeholder\"><img alt=\"PCOM Logo\" src=\"../../images/default_img.jpeg\"/></a></div> </div> <div class=\"header-right\"> <div class=\"menu-cta-container\"><ul><li><a href=\"ref.placeholder\">Apply</a></li><li><a href=\"https://example.com\">Give</a></li></ul></div> <div class=\"menu-ql-container\"><a href=\"ref.placeholder\" id=\"ql-btn\">Quick Links<span class=\"icon-arrow_drop_down\"></span></a><ul class=\"ql-dropdown\" id=\"ql-dropdown\"><li><a href=\"https://example.com\">MyPCOM</a></li><li><a href=\"https://example.com\">Blackboard</a></li><li><a href=\"https://example.com\">Library</a></li><li><a href=\"https://example.com\">ExamSoft</a></li><li><a href=\"ref.placeholder\">Academic Calendar</a></li><li><a href=\"ref.placeholder\">Career Opportunities</a></li><li><a href=\"https://example.com\">Room Scheduling</a></li><li><a href=\"https://example.com\">Bookstore</a></li><li><a href=\"https://example.com\">PCOM Spirit Store</a></li><li><a href=\"ref.placeholder\">Connect With Us</a></li><li><a href=\"ref.placeholder\">Covid-19 Updates</a></li></ul></div> <div class=\"menu-search-container\"> <form action=\"/search.html\" id=\"headerSearchForm\"> <div class=\"hsf-input\"><input aria-label=\"Search\" name=\"q\" placeholder=\"Search...\" type=\"search\"/><input id=\"headerSearchID\" name=\"l\" type=\"hidden\" value=\"header\"/></div> <div class=\"hsf-submit\"><button aria-label=\"Submit Site Search\" class=\"postfix icon-search search-form-search\" type=\"submit\"></button></div> </form> </div> <a class=\"cta-btn red-cta\" href=\"ref.placeholder\">Request Info</a> <div class=\"menu-container\"> <a href=\"ref.placeholder\" id=\"mm-btn\">Menu<span class=\"menu-icon\"></span></a> <div id=\"main-menu-container\"> <div class=\"container\"> <div class=\"mobile-search-container\"> <form action=\"/search.html\" id=\"mobileSearchForm\"> <div class=\"msf-input\"><input aria-label=\"Search\" class=\"form-control\" name=\"q\" placeholder=\"Search...\" type=\"search\"/><input id=\"mobileSearchID\" name=\"l\" type=\"hidden\" value=\"mobile\"/></div> <div class=\"msf-submit\"><button aria-label=\"Submit Site Search\" class=\"postfix icon-search search-form-search form-control\" type=\"submit\"></button></div> </form> </div> <ul><li class=\"mm-heading\"><a href=\"ref.placeholder\">Academics</a></li><li><a href=\"ref.placeholder\">Programs and Degrees</a></li><li><a href=\"ref.placeholder\">Academic Calendar</a></li><li><a href=\"ref.placeholder\">Course Catalog</a></li><li><a href=\"ref.placeholder\">Faculty</a></li><li><a href=\"ref.placeholder\">Clinical Education</a></li><li><a href=\"ref.placeholder\">Graduate Medical Education</a></li><li><a href=\"ref.placeholder\">Continuing Education</a></li></ul><ul><li class=\"mm-heading\"><a href=\"ref.placeholder\">Admissions</a></li><li><a href=\"ref.placeholder\">How to Apply</a></li><li><a href=\"ref.placeholder\">Admissions Events</a></li><li><a href=\"ref.placeholder\">Student Stories</a></li><li><a href=\"ref.placeholder\">FAQs</a></li><li><a href=\"ref.placeholder\">Costs and Aid</a></li><li><a href=\"ref.placeholder\">Community and Minority Outreach</a></li></ul><ul><li class=\"mm-heading\"><a href=\"ref.placeholder\">About</a></li><li><a href=\"ref.placeholder\">Locations</a></li><li><a href=\"ref.placeholder\">Student Life</a></li><li><a href=\"ref.placeholder\">Mission Statement</a></li><li><a href=\"ref.placeholder\">What is Osteopathic Medicine?</a></li><li><a href=\"ref.placeholder\">History</a></li><li><a href=\"ref.placeholder\">Administration</a></li></ul><ul><li class=\"mm-heading\"><a href=\"ref.placeholder\">Diversity</a></li><li><a href=\"ref.placeholder\">Overview</a></li><li><a href=\"ref.placeholder\">Leadership Message</a></li><li><a href=\"ref.placeholder\">Programs and Initiatives</a></li><li><a href=\"ref.placeholder\">Diversity News</a></li><li><a href=\"ref.placeholder\">Resources</a></li><li><a href=\"ref.placeholder\">PCOM Safe Space</a></li></ul><ul><li class=\"mm-heading\"><a href=\"ref.placeholder\">Research</a></li><li><a href=\"ref.placeholder\">Research Focus Areas</a></li><li><a href=\"ref.placeholder\">Student Research</a></li><li><a href=\"ref.placeholder\">Faculty Researchers</a></li><li><a href=\"ref.placeholder\">Research News</a></li><li><a href=\"ref.placeholder\">CCDA Research</a></li><li><a href=\"ref.placeholder\">Division of Research</a></li></ul><ul><li class=\"mm-heading\"><a href=\"https://example.com\">Alumni</a></li><li><a href=\"https://example.com\">Alumni Association</a></li><li><a href=\"https://example.com\">Class Notes</a></li><li><a href=\"https://example.com\">Get Involved</a></li><li><a href=\"https://example.com\">Alumni Events</a></li><li><a href=\"https://example.com\">Give</a></li><li><a href=\"ref.placeholder\">Digest Magazine</a></li></ul><ul id=\"mobile-ql-container\"><li class=\"mm-heading\"><a href=\"ref.placeholder\">Quick Links</a></li><li><a href=\"https://example.com\">MyPCOM</a></li><li><a href=\"https://example.com\">Blackboard</a></li><li><a href=\"https://example.com\">Library</a></li><li><a href=\"https://example.com\">ExamSoft</a></li><li><a href=\"ref.placeholder\">Academic Calendar</a></li><li><a href=\"ref.placeholder\">Career Opportunities</a></li><li><a href=\"https://example.com\">Room Scheduling</a></li><li><a href=\"https://example.com\">Bookstore</a></li><li><a href=\"https://example.com\">PCOM Spirit Store</a></li><li><a href=\"ref.placeholder\">Connect With Us</a></li><li><a href=\"ref.placeholder\">Covid-19 Updates</a></li></ul> <div class=\"mobile-cta-container\"><ul><li><a class=\"pcom-blue-btn btn button\" href=\"ref.placeholder\">Apply</a></li><li><a class=\"pcom-blue-btn btn button\" href=\"https://example.com\">Give</a></li><li><a class=\"pcom-red-btn btn button\" href=\"ref.placeholder\">Request Info</a></li></ul></div> </div> </div> </div> </div> </header> </section> <div class=\"scrollfix\"> <span id=\"main_content\" tabindex=\"-1\"></span> <section aria-label=\"Home page main content area\" id=\"home-content\" role=\"main\"> <div class=\"url\"></div> <div class=\"jumbotron jumbotron-fluid\"> <img alt=\"PCOM graduate and medical students smile in a group shot wearing lab coats in a research lab\" src=\"../../images/default_img.jpeg\"/> <div class=\"jumbotron-overlay\"></div> <div class=\"container my-3 py-5\"> <div class=\"jumbotron-text-wrapper p-5 pcom-dark-blue-transparent-bg dark-red-border\"> <h1 class=\"display-4 text-white\">Shaping the Future of Health</h1> <p class=\"lead text-white\">Discover an education in whole person health care at PCOM</p> <p><a class=\"btn btn-lg button btn-dark-red text-white\" href=\"ref.placeholder\">View Programs and Degrees</a></p> </div> </div> </div> <div class=\"container-fluid py-5\"> <div class=\"container\"> <div class=\"row\"> <div class=\"col-sm-12 col-md-8 pr-md-5\"> <h2>Position Yourself for Career Success with a Degree from PCOM</h2> <p class=\"lead\">As a PCOM student, youll enhance your skills and competencies through advanced, specialized training that will enable you to do more for yourself, for others and for the world we live in. We invite you to <a href=\"ref.placeholder\">explore our programs</a> and begin your journey toward an exciting and rewarding career.</p> </div> <div class=\"col-sm-12 col-md-4\"><a class=\"btn btn-lg btn-block btn-outline-blue button\" href=\"ref.placeholder\">Request Information</a><a class=\"btn btn-lg btn-block btn-outline-blue button\" href=\"ref.placeholder\">Take a Virtual Tour</a><a class=\"btn btn-lg btn-block btn-outline-blue button\" href=\"ref.placeholder\">View Upcoming Admissions Events</a></div> </div> </div> </div> <div class=\"container-fluid dark-blue-bg py-5\"> <div class=\"container py-5\"> <div class=\"row\"> <div class=\"col-sm-12\"> <p class=\"lead\">At PCOM, we continue to strengthen the worlds of health and science by providing our students with unique opportunities to work in teams across disciplines in a dynamic medical school environment at our Philadelphia, PA; Suwanee, GA and Moultrie, GA locations.</p> </div> <div class=\"col-sm-12 text-center\"><a class=\"btn btn-lg btn-light button\" href=\"ref.placeholder\">Explore Our Locations</a></div> </div> </div> </div> <div class=\"container py-5\" id=\"news\"> <h2><span class=\"pcom-red-text\">PCOM NEWS.</span><span class=\"pcom-blue-text\">STAY UPDATED</span></h2> <div class=\"row\"> <div class=\"d-flex col-sm-12 col-md-4 my-3\"> <div class=\"card shadow-lg\"> <a href=\"https://example.com\"> <img alt=\"The Basics of Blood Pressure Medications\" class=\"lozad card-img-top\" src=\"../../images/default_img.jpeg\"/> <div class=\"card-body\"> <h3 class=\"card-title\">PCOM</h3> <p class=\"card-text\">The Basics of Blood Pressure Medications</p> </div> </a> </div> </div> <div class=\"d-flex col-sm-12 col-md-4 my-3\"> <div class=\"card shadow-lg\"> <a href=\"https://example.com\"> <img alt=\"Getting to Know Rolf Dzirson: Keeping the Georgia Campuses Safe\" class=\"lozad card-img-top\" src=\"../../images/default_img.jpeg\"/> <div class=\"card-body\"> <h3 class=\"card-title\">PCOM Georgia</h3> <p class=\"card-text\">Getting to Know Rolf Dzirson Keeping the Georgia Campuses Safe</p> </div> </a> </div> </div> <div class=\"d-flex col-sm-12 col-md-4 my-3\"> <div class=\"card shadow-lg\"> <a href=\"https://example.com\"> <img alt=\"Inaugural DO Class Achieves 100 Percent Residency Match Rate\" class=\"lozad card-img-top\" src=\"../../images/default_img.jpeg\"/> <div class=\"card-body\"> <h3 class=\"card-title\">PCOM South Georgia</h3> <p class=\"card-text\">Inaugural DO Class Achieves 100 Percent Residency Match Rate</p> </div> </a> </div> </div> </div> <a class=\"btn btn-lg btn-blue button\" href=\"ref.placeholder\">View Recent News</a> </div> <div class=\"parallax-one lozad\" data-background-image=\"../../images/default_img.jpeg\"> <div class=\"container-fluid py-5 text-white\" id=\"block-one\"> <div class=\"container py-5\"> <div class=\"row\"> <div class=\"col-sm-12\"> <p class=\"lead\">Since 1899, Philadelphia College of Osteopathic Medicine PCOM has trained healthcare professionals to see the whole personnot just the symptoms. We focus on preventative healthdeveloping attitudes and lifestyles that help prevent diseaseas part of our comprehensive approach to providing high quality, holistic care.</p> </div> <div class=\"col-sm-12 text-center\"><a class=\"btn btn-lg btn-light button\" href=\"ref.placeholder\">About PCOM</a></div> </div> </div> </div> <div class=\"container-fluid py-5 pcom-dark-red-bg\" id=\"social-feed\"> <div class=\"container py-5\"> <div class=\"row\"> <div class=\"col-sm-12 col-md-6 my-3\"> <div class=\"embed-responsive embed-responsive-16by9\"></div> </div> <div class=\"col-sm-12 col-md-6 my-3\"> <h2>Connect With Us</h2> <p class=\"lead\">Be part of the Philadelphia College of Osteopathic Medicine community by liking and following our social media channels. Share your PCOM photos, videos and experiences with PCOMLIFE.</p> <p><a class=\"btn btn-lg btn-blue button\" href=\"ref.placeholder\">View Social Wall</a></p> </div> </div> </div> </div> </div> <div class=\"container events-section py-5\"> <div class=\"row justify-content-center\"> <h2>Upcoming Events</h2> </div> <div class=\"card-deck my-5 admissions-events-front\" id=\"home-event-cards\"> <div class=\"card shadow-lg\"> <div class=\"card-body\"> <a class=\"stretched-link\" href=\"https://example.com\"> <p class=\"card-title\">2nd Annual Emergency Medicine in the Office-Based Setting</p> </a> <p class=\"card-text\"> Saturday, April 15, 2023 <br/> 800am - 100pm </p> </div> <div class=\"card-footer pcom-dark-red-bg\"> <p>Online</p> </div> </div> <div class=\"card shadow-lg\"> <div class=\"card-body\"> <a class=\"stretched-link\" href=\"https://example.com\"> <p class=\"card-title\">Psychology Grad School Virtual Fair</p> </a> <p class=\"card-text\"> Tuesday, April 18, 2023 <br/> 1100am - 300pm </p> </div> <div class=\"card-footer pcom-dark-red-bg\"> <p>Online</p> </div> </div> <div class=\"card shadow-lg\"> <div class=\"card-body\"> <a class=\"stretched-link\" href=\"https://example.com\"> <p class=\"card-title\">Education Grad School Virtual Fair</p> </a> <p class=\"card-text\"> Wednesday, April 19, 2023 <br/> 1100am - 300pm </p> </div> <div class=\"card-footer pcom-dark-red-bg\"> <p>Online</p> </div> </div> </div> <a class=\"btn btn-lg btn-blue mx-auto button\" href=\"ref.placeholder\">View All Events</a> </div> </section> <section aria-label=\"Image Preview\" class=\"img-show-outer\"> <span class=\"img-show-close-btn\">X</span> <div class=\"img-overlay\"></div> <div class=\"img-show-inner text-center\" id=\"image-preview-wrapper\"></div> </section> <section aria-label=\"Sub Footer\" class=\"sub-footer\" id=\"sub-footer\"> <div class=\"shadow\"></div> <div class=\"row\"> <div class=\"large-2-12 medium-4-12 small-8 columns\"><ul><li>PROSPECTIVE STUDENTS</li><li><a href=\"ref.placeholder\">Admissions</a></li><li><a href=\"ref.placeholder\">Programs and Degrees</a></li><li><a href=\"ref.placeholder\">What is Osteopathic Medicine?</a></li><li><a href=\"ref.placeholder\">Request Information</a></li><li><a href=\"ref.placeholder\">Costs and Financial Aid</a></li><li><a href=\"ref.placeholder\">Mission Statement</a></li><li><a href=\"ref.placeholder\">Student Life</a></li><li><a href=\"ref.placeholder\">Diversity and Inclusion</a></li><li><a href=\"ref.placeholder\">Housing Options</a></li><li><a href=\"ref.placeholder\">History</a></li><li><a href=\"ref.placeholder\">Clery Act</a></li></ul></div> <div class=\"large-2-12 medium-4-12 small-8 columns\"><ul><li>CURRENT STUDENTS</li><li><a href=\"https://example.com\" rel=\"noopener\" title=\"myPCOM\">myPCOM</a></li><li><a href=\"ref.placeholder\">Academic Calendar</a></li><li><a href=\"ref.placeholder\">Course Catalog</a></li><li><a href=\"ref.placeholder\">Financial Aid</a></li><li><a href=\"ref.placeholder\">Bursar</a></li><li><a href=\"ref.placeholder\">Registrar</a></li><li><a href=\"ref.placeholder\">Faculty</a></li><li><a href=\"ref.placeholder\">Commencement</a></li><li><a href=\"https://example.com\" rel=\"noopener\">Library</a></li><li><a href=\"https://example.com\" rel=\"noopener\">Bookstore</a></li><li><a href=\"ref.placeholder\">Security</a></li></ul></div> <div class=\"show-for-small-only\" style=\"width:100%;height:20px;float:left;display:block\"></div> <div class=\"large-2-12 medium-4-12 small-8 columns\"><ul><li>FACULTY AND STAFF</li><li><a href=\"ref.placeholder\">Off-Campus Access</a></li><li><a href=\"ref.placeholder\">Administration</a></li><li><a href=\"ref.placeholder\">Administrative Departments</a></li><li><a href=\"ref.placeholder\">Academic Departments</a></li><li><a href=\"ref.placeholder\">Technical Support</a></li><li><a href=\"ref.placeholder\">Website Support</a></li><li><a href=\"ref.placeholder\">Faculty Directory</a></li></ul></div> <div class=\"show-for-medium-only\" style=\"width:100%;height:20px;float:left;display:block\"></div> <div class=\"large-2-12 medium-4-12 small-8 columns\"><ul><li>ALUMNI</li><li><a href=\"https://example.com\" rel=\"noopener\">Alumni Portal</a></li><li><a href=\"https://example.com\" rel=\"noopener\">Alumni Association</a></li><li><a href=\"https://example.com\" rel=\"noopener\">Class Notes</a></li><li><a href=\"https://example.com\" rel=\"noopener\">Get Involved</a></li><li><a href=\"https://example.com\" rel=\"noopener\">Alumni Events</a></li><li><a href=\"https://example.com\" rel=\"noopener\">Alumni Resources</a></li><li><a href=\"https://example.com\" rel=\"noopener\">Give</a></li><li><a href=\"ref.placeholder\">Digest Magazine</a></li></ul></div> <div class=\"show-for-small-only\" style=\"width:100%;height:20px;float:left;display:block\"></div> <div class=\"large-2-12 medium-4-12 small-8 columns\"><ul><li>COMMUNITY</li><li><a href=\"ref.placeholder\">Presidents Podcast</a></li><li><a href=\"ref.placeholder\">Community Wellness Initiative</a></li><li><a href=\"ref.placeholder\">Primary Care Innovation Fund</a></li><li><a href=\"ref.placeholder\">Events Calendar</a></li><li><a href=\"ref.placeholder\">Career Opportunities</a></li><li><a href=\"ref.placeholder\">Patient Services</a></li><li><a href=\"ref.placeholder\">For the Media</a></li><li><a href=\"ref.placeholder\">Connect With Us</a></li><li><a href=\"ref.placeholder\">Commitment to Diversity</a></li></ul></div> <div class=\"large-2-12 medium-4-12 small-8 columns\"><ul><li>MORE INFORMATION</li><li><a href=\"ref.placeholder\">Contact Us</a></li><li><a href=\"ref.placeholder\">Maps and Directions</a></li><li><a href=\"ref.placeholder\">Virtual Tour</a></li><li><a href=\"ref.placeholder\">Accreditation</a></li><li><a href=\"ref.placeholder\">HEOA Disclosures and Policies</a></li><li><a href=\"ref.placeholder\">Program Statistics</a></li><li><a href=\"ref.placeholder\">Title IX</a></li><li><a href=\"ref.placeholder\">Non-Discrimination</a></li><li><a href=\"ref.placeholder\">State Licensure Information</a></li></ul></div> </div> </section> <section aria-label=\"Sticky Footer\" class=\"sticky-footer\"> <div class=\"row\"><span class=\"sticky-footer-btn-container\"><a class=\"sticky-footer-btn\" href=\"ref.placeholder\"><span alt=\"Dollar Icon\" class=\"first-sticky-footer-icon sticky-footer-icons\"></span><span class=\"sticky-footer-link\">Financial Aid</span></a></span><span class=\"sticky-footer-btn-container\"><a class=\"sticky-footer-btn\" href=\"ref.placeholder\"><span alt=\"Tour Icon\" class=\"tour-icon sticky-footer-icons\"></span><span class=\"sticky-footer-link\">Virtual Tour</span></a></span><span class=\"sticky-footer-btn-container\"><a class=\"sticky-footer-btn\" href=\"ref.placeholder\"><span alt=\"Calendar Icon\" class=\"calendar-icon sticky-footer-icons\"></span><span class=\"sticky-footer-link\">Admissions Events</span></a></span></div> </section> <section aria-label=\"Footer\" class=\"footer py-5 lozad\" data-background-image=\"/_resources/images/footer/pcom.jpeg\" id=\"footer\"> <div class=\"footer-overlay\"></div> <div class=\"container\"> <div class=\"row text-center\"> <div class=\"col-sm-12\"> <p><a href=\"ref.placeholder\"><img alt=\"PCOM Logo - Home\" class=\"wordmark lozad\" src=\"../../images/default_img.jpeg\"/></a></p> <ul class=\"mb-5\" id=\"footer-locations-ul\"><li><a href=\"ref.placeholder\">Philadelphia, PA</a></li><li><a href=\"ref.placeholder\">Suwanee, GA</a></li><li><a href=\"ref.placeholder\">Moultrie, GA</a></li></ul><ul class=\"mb-5\" id=\"footer-links-ul\"><li><a href=\"ref.placeholder\">Contact Us</a></li><li><a href=\"ref.placeholder\">Terms of Use</a></li><li><a href=\"ref.placeholder\">Privacy Policy</a></li><li><a href=\"ref.placeholder\">Accessibility</a></li><li><a href=\"ref.placeholder\" id=\"osano-manage-cookies\">Manage Cookies</a></li></ul> <form action=\"/search.html\" class=\"mb-5\" id=\"footerSearchForm\"> <div class=\"input-group mb-3\"><input aria-describedby=\"footer-search-btn\" aria-label=\"Search\" class=\"form-control\" name=\"q\" placeholder=\"Search...\" type=\"text\"/><input id=\"footerSearchLocation\" name=\"l\" type=\"hidden\" value=\"footer\"/><button aria-label=\"Submit Site Search\" class=\"btn btn-outline-light\" id=\"footer-search-btn\" type=\"submit\"></button></div> </form> <p id=\"copyright-notice\"><a href=\"https://example.com\" id=\"de\"></a> 2023 Philadelphia College of Osteopathic Medicine</p> </div> </div> </div> </section> <div id=\"hidden\" style=\"display:none\"> <div id=\"de-container\"></div> </div> </div> </body> </html> /* START CSS */ a#de { color: #ebecec; } #facebook { max-height: 422px; overflow-y: scroll; } #home-70637 > div > div * { margin: 0 auto; font-family: \"telefontrialmedium\",sans-serif; font-size: 30px; height: 100%; background-color: #45265C; color: white; padding: 30px; text-align: center; } #home-70637 > div > div a { padding: 0px; color: white; text-decoration: underline; } * { box-sizing: border-box } html { font-family: sans-serif; -webkit-text-size-adjust: 100%; -webkit-tap-highlight-color: transparent } footer,header,section { display: block } body { margin: 0; font-family: -apple-system,BlinkMacSystemFont,\"Segoe UI\",Roboto,\"Helvetica Neue\",Arial,\"Noto Sans\",sans-serif,\"Apple Color Emoji\",\"Segoe UI Emoji\",\"Segoe UI Symbol\",\"Noto Color Emoji\"; font-size: 1rem; font-weight: 400; color: #212529; text-align: left; background-color: #fff } h1,h2,h3 { margin-top: 0; margin-bottom:.5rem } p { margin-top: 0; margin-bottom: 1rem } ul { margin-top: 0; margin-bottom: 1rem } ul ul { margin-bottom: 0 } a { color: #007bff; text-decoration: none; background-color: transparent } a:not([href]):not([class]) { color: inherit; text-decoration: none } img { vertical-align: middle; } button,input { margin: 0; font-family: inherit; font-size: inherit; } button,input { overflow: visible } [role=button] { cursor: pointer } [type=button],[type=reset],[type=submit],button { -webkit-appearance: button } [type=button]:not(:disabled),[type=reset]:not(:disabled),[type=submit]:not(:disabled),button:not(:disabled) { cursor: pointer } input[type=checkbox],input[type=radio] { box-sizing: border-box; padding: 0 } [type=search] { outline-offset: -2px; -webkit-appearance: none } [hidden] { display: none!important }.h1,.h2,.h3,h1,h2,h3 { margin-bottom:.5rem; font-weight: 500; }.h1,h1 { font-size: 2.5rem }.h2,h2 { font-size: 2rem }.h3,h3 { font-size: 1.75rem }.lead { font-size: 1.25rem; font-weight: 300 }.display-4 { font-size: 3.5rem; font-weight: 300; }.container,.container-fluid { width: 100%; padding-right: 15px; padding-left: 15px; margin-right: auto; margin-left: auto } @media (min-width:576px) {.container { max-width: 540px } } @media (min-width:768px) {.container { max-width: 720px } } @media (min-width:992px) {.container { max-width: 960px } } @media (min-width:1200px) {.container { max-width: 1140px } }.row { display: -ms-flexbox; display: flex; flex-wrap: wrap; margin-right: -15px; margin-left: -15px }.col-md-4,.col-md-6,.col-md-8,.col-sm-12 { position: relative; width: 100%; padding-right: 15px; padding-left: 15px } @media (min-width:576px) {.col-sm-12 { flex: 0 0 100%; max-width: 100% } } @media (min-width:768px) {.col-md-4 { flex: 0 0 33%; max-width: 33% }.col-md-6 { flex: 0 0 50%; max-width: 50% }.col-md-8 { flex: 0 0 67%; max-width: 67% } }.form-control { display: block; width: 100%; height: calc(1.5em +.75rem + 2px); padding:.375rem.75rem; font-size: 1rem; font-weight: 400; color: #495057; background-color: #fff; background-clip: padding-box; border: 1px solid #ced4da; }.form-control[readonly] { background-color: #e9ecef; opacity: 1 } input[type=date].form-control,input[type=datetime-local].form-control,input[type=month].form-control,input[type=time].form-control { -webkit-appearance: none; appearance: none }.btn { display: inline-block; font-weight: 400; color: #212529; text-align: center; vertical-align: middle; -webkit-user-select: none; user-select: none; background-color: transparent; border: 1px solid transparent; padding:.375rem.75rem; font-size: 1rem; }.btn:not(:disabled):not(.disabled) { cursor: pointer }.btn-light { color: #212529; background-color: #f8f9fa; }.btn-outline-light { color: #f8f9fa; } btn.btn-lg { padding:.5rem 1rem; font-size: 1.25rem; }.btn-block { display: block; width: 100% }.btn-block+.btn-block { margin-top:.5rem } input[type=button].btn-block,input[type=reset].btn-block,input[type=submit].btn-block { width: 100% }.input-group { position: relative; display: -ms-flexbox; display: flex; flex-wrap: wrap; align-items: stretch; width: 100% }.input-group>.form-control { position: relative; flex: 1 1 auto; width: 1%; min-width: 0; margin-bottom: 0 }.input-group>.form-control+.form-control { margin-left: -1px }.input-group>.form-control:not(:last-child) { border-top-right-radius: 0; border-bottom-right-radius: 0 }.input-group>.form-control:not(:first-child) { border-top-left-radius: 0; border-bottom-left-radius: 0 }.card { position: relative; display: -ms-flexbox; display: flex; flex-direction: column; min-width: 0; word-wrap: break-word; background-color: #fff; background-clip: border-box; border: 1px solid rgba(0,0,0,.125); }.card-body { flex: 1 1 auto; min-height: 1px; padding: 1.25rem }.card-title { margin-bottom:.75rem }.card-footer { padding:.75rem 1.25rem; background-color: rgba(0,0,0,.03); border-top: 1px solid rgba(0,0,0,.125) }.card-img-top { -ms-flex-negative: 0; flex-shrink: 0; width: 100% }.card-img-top { border-top-left-radius: calc(.25rem - 1px); border-top-right-radius: calc(.25rem - 1px) }.card-deck.card { margin-bottom: 15px } @media (min-width:576px) {.card-deck { display: -ms-flexbox; display: flex; -ms-flex-flow: row wrap; flex-flow: row wrap; margin-right: -15px; margin-left: -15px }.card-deck.card { flex: 1 0 0%; margin-right: 15px; margin-bottom: 0; margin-left: 15px } }.jumbotron { padding: 2rem 1rem; margin-bottom: 2rem; background-color: #e9ecef; } @media (min-width:576px) {.jumbotron { padding: 4rem 2rem } }.jumbotron-fluid { padding-right: 0; padding-left: 0; }.d-flex { display: -ms-flexbox!important; display: flex!important }.embed-responsive { position: relative; display: block; width: 100%; padding: 0; overflow: hidden }.justify-content-center { justify-content: center!important }.my-3 { margin-top: 1rem!important }.mb-3,.my-3 { margin-bottom: 1rem!important }.my-5 { margin-top: 3rem!important }.mb-5,.my-5 { margin-bottom: 3rem!important }.p-5 { padding: 3rem!important }.py-5 { padding-top: 3rem!important }.py-5 { padding-bottom: 3rem!important }.mx-auto { margin-right: auto!important }.mx-auto { margin-left: auto!important } @media (min-width:768px) {.pr-md-5 { padding-right: 3rem!important } }.text-center { text-align: center!important }.text-white { color: #fff!important } @charset \"UTF-8\" ; * { font-family: \"Avenir LT W01_45 Book1475508\", sans-serif; } body, html { -webkit-overflow-scrolling: touch; } body { padding-top: 50px; } a { text-decoration: none; color: #00448D; font-weight: 700; }.fixed { width: 100%; left: 0; position: fixed; top: 0; z-index: 99; }.scrollfix { overflow-x: hidden; } [class^=\"icon-\"], [class*=\" icon-\"] { font-family: \"icomoon\"!important; speak: none; font-weight: normal; font-variant: normal; }.btn.pcom-blue-btn { color: #ffffff; background-color: #0e498a; margin: 15px 20px 10px 0; }.btn-blue { color: #fff; background-color: #00448D; }.btn-outline-blue { color: #00448D; background-color: #fff; }.btn-dark-red { background-color: #A20A3A; color: #fff; }.dark-blue-bg { background-color: #1A203A!important; color: #fff!important; }.pcom-dark-blue-transparent-bg { background-color: rgba(26, 32, 58,.85); color: #fff!important; }.pcom-dark-red-bg { background-color: #A20A3A!important; color: #fff!important; }.pcom-blue-text { color: #00448d!important; }.pcom-red-text { color: #A20A3A!important; } #tile-container { margin: 0 0 25px 0; padding: 0; border: 0; font-size: 100%; font: inherit; vertical-align: baseline; } #tile-container p { font-family: \"GT-Walsheim-Regular\", sans-serif; font-size: 100%; }.img-show-outer { z-index: 999; display: none; }.img-overlay { background: #333333; height: 100%; position: fixed; top: 0; width: 100%; left: 0; z-index: 999998; }.img-show-inner { width: 100%; height: auto; position: fixed; top: 50%; left: 50%; transform: translate(-50%,-50%); overflow: hidden; z-index: 999999; }.img-show-inner img { max-width: 100%; max-height: 100vh; top: 0; left: 0; cursor: zoom-out; }.img-show-close-btn { padding-left: 0; padding-top: 0; position: fixed; top: 10px; right: 20px; color: #ffffff; font-size: 30px; cursor: pointer; z-index: 9999999; } #header2 { background-color: #1a203a; display: -webkit-flex; display: -ms-flexbox; display: flex; -webkit-flex-flow: row nowrap; -ms-flex-flow: row nowrap; flex-flow: row nowrap; -webkit-box-shadow: 0 3px 5px rgb(0 0 0 / 20%); z-index: 999999; max-width: none; padding: 0; } #header2 ul { list-style: none; list-style-type: none; margin: 0; padding-inline-start: 0; } #header2 a { font-weight: 500!important; color: #fff; font-size: 14px; } #header2 button { padding: 0; } #header2.logo img { max-height: 30px; } #header2 header { align-items: flex-start; margin: 0 auto; max-width: 1280px; width: 100%; display: -webkit-flex; display: -ms-flexbox; display: flex; -webkit-flex-flow: row nowrap; -ms-flex-flow: row nowrap; flex-flow: row nowrap; align-items: center; justify-content: flex-start; height: 50px; } header.column { padding: 0; }.header-left { display: flex; align-items: center; }.header-right { display: flex; justify-content: flex-end; flex: 1; align-items: center; }.menu-cta-container { -webkit-box-flex: 1; -webkit-flex: 1 1 0px; flex: 1 1 0px; width: auto; }.menu-cta-container ul { float: right; }.menu-cta-container li { display: inline-block; }.menu-ql-container { padding: 0.5rem; } #ql-dropdown { position: absolute; background: #1A203A; padding: 10px; background: #ffffff; display: none; z-index: 9998; min-width: 200px; -webkit-box-shadow: 0 3px 5px rgb(0 0 0 / 20%); } #ql-dropdown li { padding: 8px; } #ql-dropdown a { color: #1a203a; font-size: 16px!important; }.menu-search-container button { border: 0; min-width: 30px; }.menu-search-container button,.menu-search-container input { margin: 0; } #headerSearchForm { display: flex; }.menu-container { background-color: #00448d; }.menu-container a { text-decoration: none; }.menu-container>a,.menu-cta-container ul a,.menu-ql-container>a, a.cta-btn { width: auto; height: 50px; text-align: center; font-size: 16px; font-weight: 600; white-space: nowrap; padding: 0.5rem; font-weight: 800!important; align-items: center; display: flex; color: #fff; }.hsf-input input,.hsf-submit button { padding: 0 10px; height: 35px; color: #1a203a; border: none; background-color: hsla(0, 0%, 100%,.15); }.hsf-submit button { color: #ffffff; } #header2 a.cta-btn { height: 35px; background: #A20A3A; margin: 0 10px; } #mm-btn { width: 75px; }.menu-icon { padding-left: 5px; } #main-menu-container { padding: 0; right: 0; display: none; position: absolute; display: none; z-index: 99999998; width: 100%; justify-content: space-between; } #main-menu-container.container { display: flex; background: #fff; padding: 0; max-width: 1280px; padding: 15px 25px; justify-content: space-between; -webkit-box-shadow: 0 3px 5px rgb(0 0 0 / 20%); } #main-menu-container a { color: #1a203a; font-size: 16px!important; height: auto; }.mobile-search-container, #mobile-ql-container,.mobile-cta-container { display: none; } @media (max-width: 1280px) { #header2.logo { padding: 0 10px; } } @media (max-width: 800px) { #header2 { width: calc(100% + 1px); }.mobile-search-container { display: block; } #mobileSearchForm { padding-top: 20px; margin-bottom: 10px; display: flex; justify-content: space-between; } #mobileSearchForm button.search-form-search { background: #0e498a; }.header-left { justify-content: space-between; width: 100%; }.msf-input { flex-grow: 2; }.msf-submit { min-width: 50px; }.menu-search-container,.menu-cta-container,.menu-ql-container,.cta-btn.red-cta { display: none; } #main-menu-container { right: 0 } #main-menu-container li { display: none; } #mobile-ql-container,.mobile-cta-container, #main-menu-container.mobile-cta-container li { display: block; } #main-menu-container li.mm-heading { display: block; } #main-menu-container.mobile-cta-container ul li a { font-weight: 800!important; font-size: 14px!important; color: white; text-align: center; width: 100%; } #main-menu-container.mobile-cta-container { padding-bottom: 25px; } li.mm-heading { margin-bottom: 15px; border-bottom: 1px solid #1a203a; } } @media (min-width: 800px) { #main-menu-container ul { min-width: 33%; margin-top: 15px; padding: 20px 0; } #main-menu-container.container { flex-wrap: wrap; } } a.pcom-red-btn.button { color: #fff; font-family: \"Avenir LT W01_45 Book1475508\",sans-serif; font-size: 14px; font-weight: 600; background: #A20A3A; padding: 10px 35px; margin: 15px 20px 10px 0; } #sub-footer { background-color: #232B43; padding: 3em 0; }.sub-footer ul li a { font-family: \"Avenir LT W01_45 Book1475508\", sans-serif; color: #fff; font-size: 14px; display: block; padding: 5px 0; }.sub-footer ul { list-style: none; padding: 0; }.sub-footer.row { flex-wrap: nowrap; max-width: 75em; width: 100%; margin: auto; justify-content: center; }.sub-footer.columns { padding-left: 0.9375em; padding-right: 0.9375em; }.show-for-small-only,.show-for-medium-only { display: none!important; } #footer a, #footer { color: #fff; }. #footerSearchForm.search-form-search { border: 1px solid rgba(95, 106, 139, 0.6); border-left: none; } #footerSearchForm button.search-form-search { color: #fff; background-color: transparent!important; } #footer-locations-ul li, #footer-links-ul li { list-style: none; display: inline-block; } #footer-locations-ul li a { font-size: 1.25rem; } #footerSearchForm { max-width: 400px; margin: auto; } #footerSearchForm input[name=\"q\"],#footerSearchForm button.btn { background: #232B43; color: #fff; } #footer { position: relative; background-size: cover; -moz-background-size: cover; -webkit-background-size: cover; background-color: rgba(26,32,58,.75); } #footer >.footer-overlay { position: absolute; top: 0; right: 0; bottom: 0; left: 0; background-color: rgba(26,32,58,.75); z-index: 1; } #footer >.container { z-index: 2; position: relative; } @media (max-width: 769px) { #footer-locations-ul li, #footer-links-ul li { display: block; padding-bottom: 10px; } #footer ul { padding-left: 0; } } #hero.jumbotron { background-size: cover!important; margin-bottom: 0; color: #fff; }.sticky-footer { background-color: #a10939; width: 100%; z-index: 9999; position: fixed; clear: both; bottom: 0; text-align: center; margin: 0; }.sticky-footer.row { display: flex; justify-content: flex-end; max-width: 75em; width: 100%; margin: auto; } a.sticky-footer-btn { margin: 0 10px; -moz-border-radius: 0; -ms-border-radius: 0; font-family: \"Avenir LT W01_45 Book1475508\", sans-serif; font-size: 16px; font-weight: 600; background-color: #a10939; color: white; } @media (min-width: 769px) { #footer { margin-bottom: 0; }.sticky-footer,.sticky-footer.row { height: 25px; } a.sticky-footer-btn { height: 20px; margin-right: 10px; }.sticky-footer.sticky-footer-btn-container { padding: 0 0 0 15px; } } @media (max-width: 768px) { #footer { margin-bottom: 25px; }.sticky-footer,.sticky-footer.row { height: 50px; } a.sticky-footer-btn { font-size: 16px; margin: 0; }.sticky-footer.row { text-align: center; display: flex; justify-content: space-between; }.sticky-footer-btn-container { flex: 1; }.sticky-footer-btn span { display: block; }.sticky-footer-icons { max-height: 27px; } } @media (max-width: 500px) { #footer { margin-bottom: 20px; }.sticky-footer,.sticky-footer.row { height: 45px; } a.sticky-footer-btn { font-size: 12px; margin: 0; } } a.skip-main { left: -999px; position: absolute; top: auto; width: 1px; height: 1px; overflow: hidden; z-index: -999; }.jumbotron h1 { font-family: \"GT-Walsheim-Medium\", sans-serif; color: inherit; }.jumbotron { position: relative; background-color: rgba(26, 32, 58,.75); background-attachment: fixed; background-size: cover; -moz-background-size: cover; -webkit-background-size: cover; color: #fff; font-family: \"GT-Walsheim-Medium\", sans-serif; }.jumbotron>.jumbotron-overlay { position: absolute; top: 0; right: 0; bottom: 0; left: 0; background-color: transparent; z-index: 1; }.jumbotron-text-wrapper { max-width: 50%; }.jumbotron>.container { position: relative; z-index: 2; }.parallax-one { padding: 0; overflow: hidden; position: relative; width: 100%; background-attachment: fixed; background-size: cover; -moz-background-size: cover; -webkit-background-size: cover; } #news.card-title { color: #a1093a; border-bottom: 2px solid #a1093a; font-size: 1.25rem; }.admissions-events-front.card-footer { background-color: #a20a3a; color: #fff; } @media (min-width: 768px) {.jumbotron img { display: none; }.jumbotron>.container { justify-content: center; flex-direction: column; display: -ms-flexbox; display: -webkit-flex; display: flex; min-height: 600px; position: relative; z-index: 2; } #social-feed { background-color: rgba(162, 10, 58,.75)!important; } #block-one { background-color: rgba(26, 32, 58,.75); margin-bottom: 400px; } }\n",
            "      Bleu: 0.00\n",
            "\n",
            "Prediction: <html lang=\"en\"> <head> <link href=\"https://example.com\" rel=\"profile\"/> <link href=\"https://example.com\" rel=\"pingback\"/> <title>The Best Free Web Hosting Providers</title> <link href=\"https://example.com\" rel=\"canonical\"/> <link href=\"ref.placeholder\" rel=\"dns-prefetch\"/> <link href=\"ref.placeholder\" rel=\"dns-prefetch\"/> <link href=\"ref.placeholder\" rel=\"dns-prefetch\"/> <link href=\"ref.placeholder\" rel=\"dns-prefetch\"/> <link href=\"ref.placeholder\" rel=\"dns-prefetch\"/> <link href=\"ref.placeholder\" rel=\"dns-prefetch\"/> <link href=\"ref.placeholder\" rel=\"dns-prefetch\"/> <link href=\"ref.placeholder\" rel=\"dns-prefetch\"/> <link href=\"ref.placeholder\" rel=\"dns-prefetch\"/> <link href=\"ref.placeholder\" rel=\"dns-prefetch\"/> <link href=\"ref.placeholder\" rel=\"dns-prefetch\"/> <link href=\"ref.placeholder\" rel=\"dns-prefetch\"/> <link href=\"ref.placeholder\" rel=\"dns-prefetch\"/> <link href=\"ref.placeholder\" rel=\"dns-prefetch\"/> <link href=\"ref.placeholder\" rel=\"dns-prefetch\"/> <link href=\"ref.placeholder\" rel=\"dns-prefetch\"/> <link href=\"ref.placeholder\" rel=\"dns-prefetch\"/> <link href=\"ref.placeholder\" rel=\"dns-prefetch\"/> <link href=\"ref.placeholder\" rel=\"dns-prefetch\"/> <link href=\"ref.placeholder\" rel=\"dns-prefetch\"/> <link href=\"ref.placeholder\" rel=\"dns-prefetch\"/> <link href=\"ref.placeholder\" rel=\"dns-prefetch\"/> <link href=\"ref.placeholder\" rel=\"dns-prefetch\"/> <link href=\"ref.placeholder\" rel=\"dns-prefetch\"/> <link href=\"ref.placeholder\" rel=\"dns-prefetch\"/> <link href=\"ref.placeholder\" rel=\"dns-prefetch\"/> <link href=\"ref.placeholder\" rel=\"dns-prefetch\"/> <link href=\"ref.placeholder\" rel=\"dns-prefetch\"/> <link href=\"ref.placeholder\" rel=\"dns-prefetch\"/> <link href=\"ref.placeholder\" rel=\"dns-prefetch\"/> <link href=\"ref.placeholder\" rel=\"dns-prefetch\"/> <link href=\"ref.placeholder\" rel=\"dns-prefetch\"/> <link href=\"ref.placeholder\" rel=\"dns-prefetch\"/> <link href=\"ref.placeholder\" rel=\"dns-prefetch\"/> <link href=\"ref.placeholder\" rel=\"dns-prefetch\"/> <link href=\"ref.placeholder\" rel=\"dns-prefetch\"/> <link href=\"ref.placeholder\" rel=\"dns-prefetch\"/> <link href=\"ref.placeholder\" rel=\"dns-prefetch\"/> <link href=\"ref.placeholder\" rel=\"dns-prefetch\"/> <link href=\"ref.placeholder\" rel=\"dns-prefetch\"/> <link href=\"ref.placeholder\" rel=\"dns-prefetch\"/> <link href=\"ref.placeholder\" rel=\"dns-prefetch\"/> <link href=\"ref.placeholder\" rel=\"dns-prefetch\"/> <link href=\"ref.placeholder\" rel=\"dns-prefetch\"/> <link href=\"ref.placeholder\" rel=\"dns-prefetch\"/> <link href=\"ref.placeholder\" rel=\"dns-prefetch\"/> <link href=\"ref.placeholder\" rel=\"dns-prefetch\"/> <link href=\"ref.placeholder\" rel=\"dns-prefetch\"/> <link href=\"ref.placeholder\" rel=\"dns-prefetch\"/> <link href=\"ref.placeholder\" rel=\"dns-prefetch\"/> <link href=\"ref.placeholder\" rel=\"dns-prefetch\"/> <link href=\"ref.placeholder\" rel=\"dns-prefetch\"/> <link href=\"ref.placeholder\" rel=\"dns-prefetch\"/> <link href=\"ref.placeholder\" rel=\"dns-prefetch\"/> <link href=\"ref.placeholder\" rel=\"dns-prefetch\"/> <link href=\"ref.placeholder\" rel=\"dns-prefetch\"/> <link href=\"ref.placeholder\" rel=\"dns-prefetch\"/> <link href=\"ref.placeholder\" rel=\"dns-prefetch\"/> <link href=\"ref.placeholder\" rel=\"dns-prefetch\"/> <link href=\"ref.placeholder\" rel=\"dns-prefetch\"/> <link href=\"ref.placeholder\" rel=\"dns-prefetch\"/> <link href=\"ref.placeholder\" rel=\"dns-prefetch\"/> <link href=\"ref.placeholder\" rel=\"dns-prefetch\"/> <link href=\"ref.placeholder\" rel=\"dns-prefetch\"/> <link href=\"ref.placeholder\" rel=\"dns-prefetch\"/> <link href=\"ref.placeholder\" rel=\"dns-prefetch\"/> <link href=\"ref.placeholder\" rel=\"dns-prefetch\"/> <link href=\"ref.placeholder\" rel=\"dns-prefetch\"/> <link href=\"ref.placeholder\" rel=\"dns-prefetch\"/> <link href=\"ref.placeholder\" rel=\"dns-prefetch\"/> <link href=\"ref.placeholder\" rel=\"dns-prefetch\"/> <link href=\"ref.placeholder\" rel=\"dns-prefetch\"/> <link href=\"ref.placeholder\" rel=\"dns-prefetch\"/> <link href=\"ref.placeholder\" rel=\"dns-prefetch\"/> <link href=\"ref.placeholder\" rel=\"dns-prefetch\"/> <link href=\"ref.placeholder\" rel=\"dns-prefetch\"/> <link href=\"ref.placeholder\" rel=\"dns-prefetch\"/> <link href=\"ref.placeholder\" rel=\"dns-prefetch\"/> <link href=\"ref.placeholder\" rel=\"dns-prefetch\"/> <link href=\"ref.placeholder\" rel=\"dns-prefetch\"/> <link href=\"ref.placeholder\" rel=\"dns-prefetch\"/> <link href=\"ref.placeholder\" rel=\"dns-prefetch\"/> <link href=\"ref.placeholder\" rel=\"dns-prefetch\"/> <link href=\"ref.placeholder\" rel=\"dns-prefetch\"/> <link href=\"ref.placeholder\" rel=\"dns-prefetch\"/> <link href=\"ref.placeholder\" rel=\"dns-prefetch\"/> <link href=\"ref.placeholder\" rel=\"dns-prefetch\"/> <link href=\"ref.placeholder\" rel=\"dns-prefetch\"/> <link href=\"ref.placeholder\" rel=\"dns-prefetch\"/> <link href=\"ref.placeholder\" rel=\"dns-prefetch\"/> <link href=\"ref.placeholder\" rel=\"dns-prefetch\"/> <link href=\"ref.placeholder\" rel=\"dns-prefetch\"/> <link href=\"ref.placeholder\" rel=\"dns-prefetch\"/> <link href=\"ref.placeholder\" rel=\"dns-prefetch\"/> <link href=\"ref.placeholder\" rel=\"dns-prefetch\"/> <link href=\"ref.placeholder\" rel=\"dns-prefetch\"/> <link href=\"ref.placeholder\" rel=\"dns-prefetch\"/> <link href=\"ref.placeholder\" rel=\"dns-prefetch\"/> <link href=\"ref.placeholder\" rel=\"dns-prefetch\"/> <link href=\"ref.placeholder\" rel=\"dns-prefetch\"/> <link href=\"ref.placeholder\" rel=\"dns-prefetch\"/> <link href=\"ref.placeholder\" rel=\"dns-prefetch\"/> <link href=\"ref.placeholder\" rel=\"dns-prefetch\"/> <link href=\"ref.placeholder\" rel=\"dns-prefetch\"/> <link href=\"ref.placeholder\" rel=\"dns-prefetch\"/> <link href=\"ref.placeholder\" rel=\"dns-prefetch\"/> <link href=\"ref.placeholder\" rel=\"dns-prefetch\"/> <link href=\"ref.placeholder\" rel=\"dns-prefetch\"/> <link href=\"ref.placeholder\" rel=\"dns-prefetch\"/> <link href=\"ref.placeholder\" rel=\"dns-prefetch\"/> <link href=\"ref.placeholder\" rel=\"dns-prefetch\"/> <link href=\"ref.placeholder\" rel=\"dns-prefetch\"/> <link href=\"ref.placeholder\" rel=\"dns-prefetch\"/> <link href=\"ref.placeholder\" rel=\"dns-prefetch\"/> <link href=\"ref.placeholder\" rel=\"dns-prefetch\"/> <link href=\"ref.placeholder\" rel=\"dns-prefetch\"/> <link href=\"ref.placeholder\" rel=\"dns-prefetch\"/> <link href=\"ref.placeholder\" rel=\"dns-prefetch\"/> <link href=\"ref.placeholder\" rel=\"dns-prefetch\"/> <link href=\"ref.placeholder\" rel=\"dns-prefetch\"/> <link href=\"ref.placeholder\" rel=\"dns-prefetch\"/> <link href=\"ref.placeholder\" rel=\"dns-prefetch\"/> <link href=\"ref.placeholder\" rel=\"dns-prefetch\"/> <link href=\"ref.placeholder\" rel=\"dns-prefetch\"/> <link href=\"ref.placeholder\" rel=\"dns-prefetch\"/> <link href=\"ref.placeholder\" rel=\"dns-prefetch\"/> <link href=\"ref.placeholder\" rel=\"dns-prefetch\"/> <link href=\"ref.placeholder\" rel=\"dns-prefetch\"/> <link href=\"ref.placeholder\" rel=\"dns-prefetch\"/> <link href=\"ref.placeholder\" rel=\"dns-prefetch\"/> <link href=\"ref.placeholder\" rel=\"dns-prefetch\"/> <link href=\"ref.placeholder\" rel=\"dns-prefetch\"/> <link href=\"ref.placeholder\" rel=\"dns-prefetch\"/> <link href=\"ref.placeholder\" rel=\"dns-prefetch\"/> <link href=\"ref.placeholder\" rel=\"dns-prefetch\"/> <link href=\"ref.placeholder\" rel=\"dns-prefetch\"/> <link href=\"ref.placeholder\" rel=\"dns-prefetch\"/> <link href=\"ref.placeholder\" rel=\"dns-prefetch\"/> <link href=\"ref.placeholder\" rel=\"dns-prefetch\"/> <link href=\"ref.placeholder\" rel=\"dns-prefetch\"/> <link href=\"ref.placeholder\" rel=\"dns-prefetch\"/> <link href=\"ref.placeholder\" rel=\"dns-prefetch\"/> <link href=\"ref.placeholder\" rel=\"dns-prefetch\"/> <link href=\"ref.placeholder\" rel=\"dns-prefetch\"/> <link href=\"ref.placeholder\" rel=\"dns-prefetch\"/> <link href=\"ref.placeholder\" rel=\"dns-prefetch\"/> <link href=\"ref.placeholder\" rel=\"dns-prefetch\"/> <link href=\"ref.placeholder\" rel=\"dns-prefetch\"/> <link href=\"ref.placeholder\" rel=\"dns-prefetch\"/> <link href=\"ref.placeholder\" rel=\"dns-prefetch\"/> <link href=\"ref.placeholder\" rel=\"dns-prefetch\"/> <link href=\"ref.placeholder\" rel=\"dns-prefetch\"/> <link href=\"ref.placeholder\" rel=\"dns-prefetch\"/> <link href=\"ref.placeholder\" rel=\"dns-prefetch\"/> <link href=\"ref.placeholder\" rel=\"dns-prefetch\"/> <link href=\"ref.placeholder\" rel=\"dns-prefetch\"/> <link href=\"ref.placeholder\" rel=\"dns-prefetch\"/> <link href=\"ref.placeholder\" rel=\"dns-prefetch\"/> <link href=\"ref.placeholder\" rel=\"dns-prefetch\"/> <link href=\"ref.placeholder\" rel=\"dns-prefetch\"/> <link href=\"ref.placeholder\" rel=\"dns-prefetch\"/> <link href=\"ref.placeholder\" rel=\"dns-prefetch\"/> <link href=\"ref.placeholder\" rel=\"dns-prefetch\"/> <link href=\"ref.placeholder\" rel=\"dns-prefetch\"/> <link href=\"ref.placeholder\" rel=\"dns-prefetch\"/> <link href=\"ref.placeholder\" rel=\"dns-prefetch\"/> <link href=\"ref.placeholder\" rel=\"dns-prefetch\"/> <link href=\"ref.placeholder\" rel=\"dns-prefetch\"/> <link href=\"ref.placeholder\" rel=\"dns-prefetch\"/> <link href=\"ref.placeholder\" rel=\"dns-prefetch\"/> <link href=\"ref.placeholder\" rel=\"dns-prefetch\"/> <link href=\"ref.placeholder\" rel=\"dns-prefetch\"/> <link href=\"ref.placeholder\" rel=\"dns-prefetch\"/> <link href=\"ref.placeholder\" rel=\"dns-prefetch\"/> <link href=\"ref.placeholder\" rel=\"dns-prefetch\"/> <link href=\"ref.placeholder\" rel=\"dns-prefetch\"/> <link href=\"ref.placeholder\" rel=\"dns-prefetch\"/> <link href=\"ref.placeholder\" rel=\"dns-prefetch\"/> <link href=\"ref.placeholder\" rel=\"dns-prefetch\"/> <link href=\"ref.placeholder\" rel=\"dns-prefetch\"/> <link href=\"ref.placeholder\" rel=\"dns-prefetch\"/> <link href=\"ref.placeholder\" rel=\"dns-prefetch\"/> <link href=\"ref.placeholder\" rel=\"dns-prefetch\"/> <link href=\"ref.placeholder\" rel=\"dns-prefetch\"/> <link href=\"ref.placeholder\" rel=\"dns-prefetch\"/> <link href=\"ref.placeholder\" rel=\"dns-prefetch\"/> <link href=\"ref.placeholder\" rel=\"dns-prefetch\"/> <link href=\"ref.placeholder\" rel=\"dns-prefetch\"/> <link href=\"ref.placeholder\" rel=\"dns-prefetch\"/> <link href=\"ref.placeholder\" rel=\"dns-prefetch\"/> <link href=\"ref.placeholder\" rel=\"dns-prefetch\"/> <link href=\"ref.placeholder\" rel=\"dns-prefetch\"/> <link href=\"ref.placeholder\" rel=\"dns-prefetch\"/> <link href=\"ref.placeholder\" rel=\"dns-prefetch\"/> <link href=\"ref.placeholder\" rel=\"dns-prefetch\"/> <link href=\"ref.placeholder\" rel=\"dns-prefetch\"/> <link href=\"ref.placeholder\" rel=\"dns-prefetch\"/> <link href=\"ref.placeholder\" rel=\"dns-prefetch\"/> <link href=\"ref.placeholder\" rel=\"dns-prefetch\"/> <link href=\"ref.placeholder\" rel=\"dns-prefetch\"/> <link href=\"ref.placeholder\" rel=\"dns-prefetch\"/> <link href=\"ref.placeholder\" rel=\"dns-prefetch\"/> <link href=\"ref.placeholder\" rel=\"dns-prefetch\"/> <link href=\"ref.placeholder\" rel=\"dns-prefetch\"/> <link href=\"ref.placeholder\" rel=\"dns-prefetch\"/> <link href=\"ref.placeholder\" rel=\"dns-prefetch\"/> <link href=\"ref.placeholder\" rel=\"dns-prefetch\"/> <link href=\"ref.placeholder\" rel=\"dns-prefetch\"/> <link href=\"ref.placeholder\" rel=\"dns-prefetch\"/> <link href=\"ref.placeholder\" rel=\"dns-prefetch\"/> <link href=\"ref.placeholder\" rel=\"dns-prefetch\"/> <link href=\"ref.placeholder\" rel=\"dns-prefetch\"/> <link href=\"ref.placeholder\" rel=\"dns-prefetch\"/> <link href=\"ref.placeholder\" rel=\"dns-prefetch\"/> <link href=\"ref.placeholder\" rel=\"dns-prefetch\"/> <link href=\"ref.placeholder\" rel=\"dns-prefetch\"/> <link href=\"ref.placeholder\" rel=\"dns-prefetch\"/> <link href=\"ref.placeholder\" rel=\"dns-prefetch\"/> <link href=\"ref.placeholder\" rel=\"dns-prefetch\"/> <link href=\"ref.placeholder\" rel=\"dns-prefetch\"/> <link href=\"ref.placeholder\" rel=\"dns-prefetch\"/> <link href=\"ref.placeholder\" rel=\"dns-prefetch\"/> <link href=\"ref.placeholder\" rel=\"dns-prefetch\"/> <link href=\"ref.placeholder\" rel=\"dns-prefetch\"/> <link href=\"ref.placeholder\" rel=\"dns-prefetch\"/> <link href=\"ref.placeholder\" rel=\"dns-prefetch\"/> <link href=\"ref.placeholder\" rel=\"dns-prefetch\"/> <link href=\"ref.placeholder\" rel=\"dns-prefetch\"/> <link href=\"ref.placeholder\" rel=\"dns-prefetch\"/> <link href=\"ref.placeholder\" rel=\"dns-prefetch\"/> <link href=\"ref.placeholder\" rel=\"dns-prefetch\"/> <link href=\"ref.placeholder\" rel=\"dns-prefetch\"/> <link href=\"ref.placeholder\" rel=\"dns-prefetch\"/> <link href=\"ref.placeholder\" rel=\"dns-prefetch\"/> <link href=\"ref.placeholder\" rel=\"dns-prefetch\"/> <link href=\"ref.placeholder\" rel=\"dns-prefetch\"/> <link href=\"ref.placeholder\" rel=\"dns-prefetch\"/> <link href=\"ref.placeholder\" rel=\"dns-prefetch\"/> <link href=\"ref.placeholder\" rel=\"dns-prefetch\"/> <link href=\"ref.placeholder\" rel=\"dns-prefetch\"/> <link href=\"ref.placeholder\" rel=\"dns-prefetch\"/> <link href=\"ref.placeholder\" rel=\"dns-prefetch\"/> <link href=\"ref.placeholder\" rel=\"dns-prefetch\"/> <link href=\"ref.placeholder\" rel=\"dns-prefetch\"/> <link href=\"ref.placeholder\" rel=\"dns-prefetch\"/> <link href=\"ref.placeholder\" rel=\"dns-prefetch\"/> <link href=\"ref.placeholder\" rel=\"dns-prefetch\"/> <link href=\"ref.placeholder\" rel=\"dns-prefetch\"/> <link href=\"ref.placeholder\" rel=\"dns-prefetch\"/> <link href=\"ref.placeholder\" rel=\"dns-prefetch\"/> <link href=\"ref.placeholder\" rel=\"dns-prefetch\"/> <link href=\"ref.placeholder\" rel=\"dns-prefetch\"/> <link href=\"ref.placeholder\" rel=\"dns-prefetch\"/> <link href=\"ref.placeholder\" rel=\"dns-prefetch\"/> <link href=\"ref.placeholder\" rel=\"dns-prefetch\"/> <link href=\"ref.placeholder\" rel=\"dns-prefetch\"/> <link href=\"ref.placeholder\" rel=\"dns-prefetch\"/> <link href=\"ref.placeholder\" rel=\"dns-prefetch\"/> <link href=\"ref.placeholder\" rel=\"dns-prefetch\"/> <link href=\"ref.placeholder\" rel=\"dns-prefetch\"/> <link href=\"ref.placeholder\" rel=\"dns-prefetch\"/> <link href=\"ref.placeholder\" rel=\"dns-prefetch\"/> <link href=\"ref.placeholder\" rel=\"dns-prefetch\"/> <link href=\"ref.placeholder\" rel=\"dns-prefetch\"/> <link href=\"ref.placeholder\" rel=\"dns-prefetch\"/> <link href=\"ref.placeholder\" rel=\"dns-prefetch\"/> <link href=\"ref.placeholder\" rel=\"dns-prefetch\"/> <link href=\"ref.placeholder\" rel=\"dns-prefetch\"/> <link href=\"ref.placeholder\" rel=\"dns-prefetch\"/> <link href=\"ref.placeholder\" rel=\"dns-prefetch\"/> <link href=\"ref.placeholder\" rel=\"dns-prefetch\"/> <link href=\"ref.placeholder\" rel=\"dns-prefetch\"/> <link href=\"ref.placeholder\" rel=\"dns-prefetch\"/> <link href=\"ref.placeholder\" rel=\"dns-prefetch\"/> <link href=\"ref.placeholder\" rel=\"dns-prefetch\"/> <link href=\"ref.placeholder\" rel=\"dns-prefetch\"/> <link href=\"ref.placeholder\" rel=\"dns-prefetch\"/> <link href=\"ref.placeholder\" rel=\"dns-prefetch\"/> <link href=\"ref.placeholder\" rel=\"dns-prefetch\"/> <link href=\"ref.placeholder\" rel=\"dns-prefetch\"/> <link href=\"ref.placeholder\" rel=\"dns-prefetch\"/> <link href=\"ref.placeholder\" rel=\"dns-prefetch\"/> <link href=\"ref.placeholder\" rel=\"dns-prefetch\"/> <link href=\"ref.placeholder\" rel=\"dns-prefetch\"/> <link href=\"ref.placeholder\" rel=\"dns-prefetch\"/> <link href=\"ref.placeholder\" rel=\"dns-prefetch\"/> <link href=\"ref.placeholder\" rel=\"dns-prefetch\"/> <link href=\"ref.placeholder\" rel=\"dns-prefetch\"/> <link href=\"ref.placeholder\" rel=\"dns-prefetch\"/> <link href=\"ref.placeholder\" rel=\"dns-prefetch\"/> <link href=\"ref.placeholder\" rel=\"dns-prefetch\"/> <link href=\"ref.placeholder\" rel=\"dns-prefetch\"/> <link href=\"ref.placeholder\" rel=\"dns-prefetch\"/> <link href=\"ref.placeholder\" rel=\"dns-prefetch\"/> <link href=\"ref.placeholder\" rel=\"dns-prefetch\"/> <link href=\"ref.placeholder\" rel=\"dns-prefetch\"/> <link href=\"ref.placeholder\" rel=\"dns-prefetch\"/> <link href=\"ref.placeholder\" rel=\"dns-prefetch\"/> <link href=\"ref.placeholder\" rel=\"dns-prefetch\"/> <link href=\"ref.placeholder\" rel=\"dns-prefetch\"/> <link href=\"ref.placeholder\" rel=\"dns-prefetch\"/> <link href=\"ref.placeholder\" rel=\"dns-prefetch\"/> <link href=\"ref.placeholder\" rel=\"dns-prefetch\"/> <link href=\"ref.placeholder\" rel=\"dns-prefetch\"/> <link href=\"ref.placeholder\" rel=\"dns-prefetch\"/> <link href=\"ref.placeholder\" rel=\"dns-prefetch\"/> <link href=\"ref.placeholder\" rel=\"dns-prefetch\"/> <link href=\"ref.placeholder\" rel=\"dns-prefetch\"/> <link href=\"ref.placeholder\" rel=\"dns-prefetch\"/> <link href=\"ref.placeholder\" rel=\"dns-prefetch\"/> <link href=\"ref.placeholder\" rel=\"dns-prefetch\"/> <link href=\"ref.placeholder\" rel=\"dns-prefetch\"/> <link href=\"ref.placeholder\" rel=\"dns-prefetch\"/> <link href=\"ref.placeholder\" rel=\"dns-prefetch\"/> <link href=\"ref.placeholder\" rel=\"dns-prefetch\"/> <link href=\"ref.placeholder\" rel=\"dns-prefetch\"/> <link href=\"ref.placeholder\" rel=\"dns-prefetch\"/> <link href=\"ref.placeholder\" rel=\"dns-prefetch\"/> <link href=\"ref.placeholder\" rel=\"dns-prefetch\"/> <link href=\"ref.placeholder\" rel=\"dns-prefetch\"/> <link href=\"ref.placeholder\" rel=\"dns-prefetch\"/> <link href=\"ref.placeholder\" rel=\"dns-prefetch\"/> <link href=\"ref.placeholder\" rel=\"dns-prefetch\"/> <link href=\"ref.placeholder\" rel=\"dns-prefetch\"/> <link href=\"ref.placeholder\" rel=\"dns-prefetch\"/> <link href=\"ref.placeholder\" rel=\"dns-prefetch\"/> <link href=\"ref.placeholder\" rel=\"dns-prefetch\"/> <link href=\"ref.placeholder\" rel=\"dns-prefetch\"/> <link href=\"ref.placeholder\" rel=\"dns-prefetch\"/> <link href=\"ref.placeholder\" rel=\"dns-prefetch\"/> <link href=\"ref.placeholder\" rel=\"dns-prefetch\"/> <link href=\"ref.placeholder\" rel=\"dns-prefetch\"/> <link href=\"ref.placeholder\" rel=\"dns-prefetch\"/> <link href=\"ref.placeholder\" rel=\"dns-prefetch\"/> <link href=\"ref.placeholder\" rel=\"dns-prefetch\"/> <link href=\"ref.placeholder\" rel=\"dns-prefetch\"/> <link href=\"ref.placeholder\" rel=\"dns-prefetch\"/> <link href=\"ref.placeholder\" rel=\"dns-prefetch\"/> <link href=\"ref.placeholder\" rel=\"dns-prefetch\"/> <link href=\"ref.placeholder\" rel=\"dns-prefetch\"/> <link href=\"ref.placeholder\" rel=\"dns-prefetch\"/> <link href=\"ref.placeholder\" rel=\"dns-prefetch\"/> <link href=\"ref.placeholder\" rel=\"dns-prefetch\"/> <link href=\"ref.placeholder\" rel=\"dns-prefetch\"/> <link href=\"ref.placeholder\" rel=\"dns-prefetch\"/> <link href=\"ref.placeholder\" rel=\"dns-prefetch\"/> <link href=\"ref.placeholder\" rel=\"dns-prefetch\"/> <link href=\"ref.placeholder\" rel=\"dns-prefetch\"/> <link href=\"ref.placeholder\" rel=\"dns-prefetch\"/> <link href=\"ref.placeholder\" rel=\"dns-prefetch\"/> <link href=\"ref.placeholder\" rel=\"dns-prefetch\"/> <link href=\"ref.placeholder\" rel=\"dns-prefetch\"/> <link href=\"ref.placeholder\" rel=\"dns-prefetch\"/> <link href=\"ref.placeholder\" rel=\"dns-prefetch\"/> <link href=\"ref.placeholder\" rel=\"dns-prefetch\"/> <link href=\"ref.placeholder\" rel=\"dns-prefetch\"/> <link href=\"ref.placeholder\" rel=\"dns-prefetch\"/> <link href=\"ref.placeholder\" rel=\"dns-prefetch\"/> <link href=\"ref.placeholder\" rel=\"dns-prefetch\"/> <link href=\"ref.placeholder\" rel=\"dns-prefetch\"/> <link href=\"ref.placeholder\" rel=\"dns-prefetch\"/> <link href=\"ref.placeholder\" rel=\"dns-prefetch\"/> <link href=\"ref.placeholder\" rel=\"dns-prefetch\"/> <link href=\"ref.placeholder\" rel=\"dns-prefetch\"/> <link href=\"ref.placeholder\" rel=\"dns-prefetch\"/> <link href=\"ref.placeholder\" rel=\"dns-prefetch\"/> <link href=\"ref.placeholder\" rel=\"dns-prefetch\"/> <link href=\"ref.placeholder\" rel=\"dns-prefetch\"/> <link href=\"ref.placeholder\" rel=\"dns-prefetch\"/> <link href=\"ref.placeholder\" rel=\"dns-prefetch\"/> <link href=\"ref.placeholder\" rel=\"dns-prefetch\"/> <link href=\"ref.placeholder\" rel=\"dns-prefetch\"/> <link href=\"ref.placeholder\" rel=\"dns-prefetch\"/> <link href=\"ref.placeholder\" rel=\"dns-prefetch\"/> <link href=\"ref.placeholder\" rel=\"dns-prefetch\"/> <link href=\"ref.placeholder\" rel=\"dns-prefetch\"/> <link href=\"ref.placeholder\" rel=\"dns-prefetch\"/> <link href=\"ref.placeholder\" rel=\"dns-prefetch\"/> <link href=\"ref.placeholder\" rel=\"dns-prefetch\"/> <link href=\"ref.placeholder\" rel=\"dns-prefetch\"/> <link href=\"ref.placeholder\" rel=\"dns-prefetch\"/> <link href=\"ref.placeholder\" rel=\"dns-prefetch\"/> <link href=\"ref.placeholder\" rel=\"dns-prefetch\"/> <link href=\"ref.placeholder\" rel=\"dns-prefetch\"/> <link href=\"ref.placeholder\" rel=\"dns-prefetch\"/> <link href=\"ref.placeholder\" rel=\"dns-prefetch\"/> <link href=\"ref.placeholder\" rel=\"dns-prefetch\"/> <link href=\"ref.placeholder\" rel=\"dns-prefetch\"/> <link href=\"ref.placeholder\" rel=\"dns-prefetch\"/> <link href=\"ref.placeholder\" rel=\"dns-prefetch\"/> <link href=\"ref.placeholder\" rel=\"dns-prefetch\"/> <link href=\"ref.placeholder\" rel=\"dns-prefetch\"/> <link href=\"ref.placeholder\" rel=\"dns-prefetch\"/> <link href=\"ref.placeholder\" rel=\"dns-prefetch\"/> <link href=\"ref.placeholder\" rel=\"dns-prefetch\"/> <link href=\"ref.placeholder\" rel=\"dns-prefetch\"/> <link href=\"ref.placeholder\" rel=\"dns-prefetch\"/> <link href=\"ref.placeholder\" rel=\"dns-prefetch\"/> <link href=\"ref.placeholder\" rel=\"dns-prefetch\"/> <link href=\"ref.placeholder\" rel=\"dns-prefetch\"/> <link href=\"ref.placeholder\" rel=\"dns-prefetch\"/> <link href=\"ref.placeholder\" rel=\"dns-prefetch\"/> <link href=\"ref.placeholder\" rel=\"dns-prefetch\"/> <link href=\"ref.placeholder\" rel=\"dns-prefetch\"/> <link href=\"ref.placeholder\" rel=\"dns-prefetch\"/> <link href=\"ref.placeholder\" rel=\"dns-prefetch\"/> <link href=\"ref.placeholder\" rel=\"dns-prefetch\"/> <link href=\"ref.placeholder\" rel=\"dns-prefetch\"/> <link href=\"ref.placeholder\" rel=\"dns-prefetch\"/> <link href=\"ref.placeholder\" rel=\"dns-prefetch\"/> <link href=\"ref.placeholder\" rel=\"dns-prefetch\"/> <link href=\"ref.placeholder\" rel=\"dns-prefetch\"/> <link href=\"ref.placeholder\" rel=\"dns-prefetch\"/> <link href=\"ref.placeholder\" rel=\"dns-prefetch\"/> <link href=\"ref.placeholder\" rel=\"dns-prefetch\"/> <link href=\"ref.placeholder\" rel=\"dns-prefetch\"/> <link href=\"ref.placeholder\" rel=\"dns-prefetch\"/> <link href=\"ref.placeholder\" rel=\"dns-prefetch\"/> <link href=\"ref.placeholder\" rel=\"dns-prefetch\"/> <link href=\"ref.placeholder\" rel=\"dns-prefetch\"/> <link href=\"ref.placeholder\" rel=\"dns-prefetch\"/> <link href=\"ref.placeholder\" rel=\"dns-prefetch\"/> <link href=\"ref.placeholder\" rel=\"dns-prefetch\"/> <link href=\"ref.placeholder\" rel=\"dns-prefetch\"/> <link href=\"ref.placeholder\" rel=\"dns-prefetch\"/> <link href=\"ref.placeholder\" rel=\"dns-prefetch\"/> <link href=\"ref.placeholder\" rel=\"dns-prefetch\"/> <link href=\"ref.placeholder\" rel=\"dns-prefetch\"/> <link href=\"ref.placeholder\" rel=\"dns-prefetch\"/> <link href=\"ref.placeholder\" rel=\"dns-prefetch\"/> <link href=\"ref.placeholder\" rel=\"dns-prefetch\"/> <link href=\"ref.placeholder\" rel=\"dns-prefetch\"/> <link href=\"ref.placeholder\" rel=\"dns-prefetch\"/> <link href=\"ref.placeholder\" rel=\"dns-prefetch\"/> <link href=\"ref.placeholder\" rel=\"dns-prefetch\"/> <link href=\"ref.placeholder\" rel=\"dns-prefetch\"/> <link href=\"ref.placeholder\" rel=\"dns-prefetch\"/> <link href=\"ref.placeholder\" rel=\"dns-prefetch\"/> <link href=\"ref.placeholder\" rel=\"dns-prefetch\"/> <link href=\"ref.placeholder\" rel=\"dns-prefetch\"/> <link href=\"ref.placeholder\" rel=\"dns-prefetch\"/> <link href=\"ref.placeholder\" rel=\"dns-prefetch\"/> <link href=\"ref.placeholder\" rel=\"dns-prefetch\"/> <link href=\"ref.placeholder\" rel=\"dns-prefetch\"/> <link href=\"ref.placeholder\" rel=\"dns-prefetch\"/> <link href=\"ref.placeholder\" rel=\"dns-prefetch\"/> <link href=\"ref.placeholder\" rel=\"dns-prefetch\"/> <link href=\"ref.placeholder\" rel=\"dns-prefetch\"/> <link href=\"ref.placeholder\" rel=\"dns-prefetch\"/> <link href=\"ref.placeholder\" rel=\"dns-prefetch\"/> <link href=\"ref.placeholder\" rel=\"dns-prefetch\"/> <link href=\"ref.placeholder\" rel=\"dns-prefetch\"/> <link href=\"ref.placeholder\" rel=\"dns-prefetch\"/> <link href=\"ref.placeholder\" rel=\"dns-prefetch\"/> <link href=\"ref.placeholder\" rel=\"dns-prefetch\"/> <link href=\"ref.placeholder\" rel=\"dns-prefetch\"/> <link href=\"ref.placeholder\" rel=\"dns-prefetch\"/> <link href=\"ref.placeholder\" rel=\"dns-prefetch\"/> <link href=\"ref.placeholder\" rel=\"dns-prefetch\"/> <link href=\"ref.placeholder\" rel=\"dns-prefetch\"/> <link href=\"ref.placeholder\" rel=\"dns-prefetch\"/> <link href=\"ref.placeholder\" rel=\"dns-prefetch\"/> <link href=\"ref.placeholder\" rel=\"dns-prefetch\"/> <link href=\"ref.placeholder\" rel=\"dns-prefetch\"/> <link href=\"ref.placeholder\" rel=\"dns-prefetch\"/> <link href=\"ref.placeholder\" rel=\"dns-prefetch\"/> <link href=\"ref.placeholder\" rel=\"dns-prefetch\"/> <link href=\"ref.placeholder\" rel=\"dns-prefetch\"/> <link href=\"ref.placeholder\" rel=\"dns-prefetch\"/> <link href=\"ref.placeholder\" rel=\"dns-prefetch\"/> <link href=\"ref.placeholder\" rel=\"dns-prefetch\"/> <link href=\"ref.placeholder\" rel=\"dns-prefetch\"/> <link href=\"ref.placeholder\" rel=\"dns-prefetch\"/> <link href=\"ref.placeholder\" rel=\"dns-prefetch\"/> <link href=\"ref.placeholder\" rel=\"dns-prefetch\"/> <link href=\"ref.placeholder\" rel=\"dns-prefetch\"/> <link href=\"ref.placeholder\" rel=\"dns-prefetch\"/> <link href=\"ref.placeholder\" rel=\"dns-prefetch\"/> <link href=\"ref.placeholder\" rel=\"dns-prefetch\"/> <link href=\"ref.placeholder\" rel=\"dns-prefetch\"/> <link href=\"ref.placeholder\" rel=\"dns-prefetch\"/> <link href=\"ref.placeholder\" rel=\"dns-prefetch\"/> <link href=\"ref.placeholder\" rel=\"dns-prefetch\"/> <link href=\"ref.placeholder\" rel=\"dns-prefetch\"/> <link href=\"ref.placeholder\" rel=\"dns-prefetch\"/> <link href=\"ref.placeholder\" rel=\"dns-prefetch\"/> <link href=\"ref.placeholder\" rel=\"dns-prefetch\"/> <link href=\"ref.placeholder\" rel=\"dns-prefetch\"/> <link href=\"ref.placeholder\" rel=\"dns-prefetch\"/> <link href=\"ref.placeholder\" rel=\"dns-prefetch\"/> <link href=\"ref.placeholder\" rel=\"dns-prefetch\"/> <link href=\"ref.placeholder\" rel=\"dns-prefetch\"/> <link href=\"ref.placeholder\" rel=\"dns-prefetch\"/> <link href=\"ref.placeholder\" rel=\"dns-prefetch\"/> <link href=\"ref.placeholder\" rel=\"dns-prefetch\"/> <link href=\"ref.placeholder\" rel=\"dns-prefetch\"/> <link href=\"ref.placeholder\" rel=\"dns-prefetch\"/> <link href=\"ref.placeholder\" rel=\"dns-prefetch\"/> <link href=\"ref.placeholder\" rel=\"dns-prefetch\"/> <link href=\"ref.placeholder\" rel=\"dns-prefetch\"/> <link href=\"ref.placeholder\" rel=\"dns-prefetch\"/> <link href=\"ref.placeholder\" rel=\"dns-prefetch\"/> <link href=\"ref.placeholder\" rel=\"dns-prefetch\"/> <link href=\"ref.placeholder\" rel=\"dns-prefetch\"/> <link href=\"ref.placeholder\" rel=\"dns-prefetch\"/> <link href=\"ref.placeholder\" rel=\"dns-prefetch\"/> <link href=\"ref.placeholder\" rel=\"dns-prefetch\"/> <link href=\"ref.placeholder\" rel=\"dns-prefetch\"/> <link href=\"ref.placeholder\" rel=\"dns-prefetch\"/> <link href=\"ref.placeholder\" rel=\"dns-prefetch\"/> <link href=\"ref.placeholder\" rel=\"dns-prefetch\"/> <link href=\"ref.placeholder\" rel=\"dns-prefetch\"/> <link href=\"ref.placeholder\" rel=\"dns-prefetch\"/> <link href=\"ref.placeholder\" rel=\"dns-prefetch\"/> <link href=\"ref.placeholder\" rel=\"dns-prefetch\"/> <link href=\"ref.placeholder\" rel=\"dns-prefetch\"/> <link href=\"ref.placeholder\" rel=\"dns-prefetch\"/> <link href=\"ref.placeholder\" rel=\"dns-prefetch\"/> <link href=\"ref.placeholder\" rel=\"dns-prefetch\"/> <link href=\"ref.placeholder\" rel=\"dns-prefetch\"/> <link href=\"ref.placeholder\" rel=\"dns-prefetch\"/> <link href=\"ref.placeholder\" rel=\"dns-prefetch\"/> <link href=\"ref.placeholder\" rel=\"dns-prefetch\"/> <link href=\"ref.placeholder\" rel=\"dns-prefetch\"/> <link href=\"ref.placeholder\" rel=\"dns-prefetch\"/> <link href=\"ref.placeholder\" rel=\"dns-prefetch\"/> <link href=\"ref.placeholder\" rel=\"dns-prefetch\"/> <link href=\"ref.placeholder\" rel=\"dns-prefetch\"/> <link href=\"ref.placeholder\" rel=\"dns-prefetch\"/> <link href=\"ref.placeholder\" rel=\"dns-prefetch\"/> <link href=\"ref.placeholder\" rel=\"dns-prefetch\"/> <link href=\"ref.placeholder\" rel=\"dns-prefetch\"/> <link href=\"ref.placeholder\" rel=\"dns-prefetch\"/> <link href=\"ref.placeholder\" rel=\"dns-prefetch\"/> <link href=\"ref.placeholder\" rel=\"dns-prefetch\"/> <link href=\"ref.placeholder\" rel=\"dns-prefetch\"/> <link href=\"ref.placeholder\" rel=\"dns-prefetch\"/> <link href=\"ref.placeholder\" rel=\"dns-prefetch\"/> <link href=\"ref.placeholder\" rel=\"dns-prefetch\"/> <link href=\"ref.placeholder\" rel=\"dns-prefetch\"/> <link href=\"ref.placeholder\" rel=\"dns-prefetch\"/> <link href=\"ref.placeholder\" rel=\"dns-prefetch\"/> <link href=\"ref.placeholder\" rel=\"dns-prefetch\"/> <link href=\"ref.placeholder\" rel=\"dns-prefetch\"/> <link href=\"ref.placeholder\" rel=\"dns-prefetch\"/> <link href=\"ref.placeholder\" rel=\"dns-prefetch\"/> <link href=\"ref.placeholder\" rel=\"dns-prefetch\"/> <link href=\"ref.placeholder\" rel=\"dns-prefetch\"/> <link href=\"ref.placeholder\" rel=\"dns-prefetch\"/> <link href=\"ref.placeholder\" rel=\"dns-prefetch\"/> <link href=\"ref.placeholder\" rel=\"dns-prefetch\"/> <link href=\"ref.placeholder\" rel=\"dns-prefetch\"/> <link href=\"ref.placeholder\" rel=\"dns-prefetch\"/> <link href=\"ref.placeholder\" rel=\"dns-prefetch\"/> <link href=\"ref.placeholder\" rel=\"dns-prefetch\"/> <link href=\"ref.placeholder\" rel=\"dns-prefetch\"/> <link href=\"ref.placeholder\" rel=\"dns-prefetch\"/> <link href=\"ref.placeholder\" rel=\"dns-prefetch\"/> <link href=\"ref.placeholder\" rel=\"dns-prefetch\"/> <link href=\"ref.placeholder\" rel=\"dns-prefetch\"/> <link href=\"ref.placeholder\" rel=\"dns-prefetch\"/> <link href=\"ref.placeholder\" rel=\"dns-prefetch\"/> <link href=\"ref.placeholder\" rel=\"dns-prefetch\"/> <link href=\"ref.placeholder\" rel=\"dns-prefetch\"/> <link href=\"ref.placeholder\" rel=\"dns-prefetch\"/> <link href=\"ref.placeholder\" rel=\"dns-prefetch\"/> <link href=\"ref.placeholder\" rel=\"dns-prefetch\"/> <link href=\"ref.placeholder\" rel=\"dns-prefetch\"/> <link href=\"ref.placeholder\" rel=\"dns-prefetch\"/> <link href=\"ref.placeholder\" rel=\"dns-prefetch\"/> <link href=\"ref.placeholder\" rel=\"dns-prefetch\"/> <link href=\"ref.placeholder\" rel=\"dns-prefetch\"/> <link href=\"ref.placeholder\" rel=\"dns-prefetch\"/> <link href=\"ref.placeholder\" rel=\"dns-prefetch\"/> <link href=\"ref.placeholder\" rel=\"dns-prefetch\"/> <link href=\"ref.placeholder\" rel=\"dns-prefetch\"/> <link href=\"ref.placeholder\" rel=\"dns-prefetch\"/> <link href=\"ref.placeholder\" rel=\"dns-prefetch\"/> <link href=\"ref.placeholder\" rel=\"dns-prefetch\"/> <link href=\"ref.placeholder\" rel=\"dns-prefetch\"/> <link href=\"ref.placeholder\" rel=\"dns-prefetch\"/> <link href=\"ref.placeholder\" rel=\"dns-prefetch\"/> <link href=\"ref.placeholder\" rel=\"dns-prefetch\"/> <link href=\"ref.placeholder\" rel=\"dns-prefetch\"/> <link href=\"ref.placeholder\" rel=\"dns-prefetch\"/> <link href=\"ref.placeholder\" rel=\"dns-prefetch\"/> <link href=\"ref.placeholder\" rel=\"dns-prefetch\"/> <link href=\"ref.placeholder\" rel=\"dns-prefetch\"/> <link href=\"ref.placeholder\" rel=\"dns-prefetch\"/> <link href=\"ref.placeholder\" rel=\"dns-prefetch\"/> <link href=\"ref.placeholder\" rel=\"dns-prefetch\"/> <link href=\"ref.placeholder\" rel=\"dns-prefetch\"/> <link href=\"ref.placeholder\" rel=\"dns-prefetch\"/> <link href=\"ref.placeholder\" rel=\"dns-prefetch\"/> <link href=\"ref.placeholder\" rel=\"dns-prefetch\"/> <link href=\"ref.placeholder\" rel=\"dns-prefetch\"/> <link href=\"ref.placeholder\" rel=\"dns-prefetch\"/> <link href=\"ref.placeholder\" rel=\"dns-prefetch\"/> <link href=\"ref.placeholder\" rel=\"dns-prefetch\"/> <link href=\"ref.placeholder\" rel=\"dns-prefetch\"/> <link href=\"ref.placeholder\" rel=\"dns-prefetch\"/> <link href=\"ref.placeholder\" rel=\"dns-prefetch\"/> <link href=\"ref.placeholder\" rel=\"dns-prefetch\"/> <link href=\"ref.placeholder\" rel=\"dns-prefetch\"/> <link href=\"ref.placeholder\" rel=\"dns-prefetch\"/> <link href=\"ref.placeholder\" rel=\"dns-prefetch\"/> <link href=\"ref.placeholder\" rel=\"dns-prefetch\"/> <link href=\"ref.placeholder\" rel=\"dns-prefetch\"/> <link href=\"ref.placeholder\" rel=\"dns-prefetch\"/> <link href=\"ref.placeholder\" rel=\"dns-prefetch\"/> <link href=\"ref.placeholder\" rel=\"dns-prefetch\"/> <link href=\"ref.placeholder\" rel=\"dns-prefetch\"/> <link href=\"ref.placeholder\" rel=\"dns-prefetch\"/> <link href=\"ref.placeholder\" rel=\"dns-prefetch\"/> <link href=\"ref.placeholder\" rel=\"dns-prefetch\"/> <link href=\"ref.placeholder\" rel=\"dns-prefetch\"/> <link href=\"ref.placeholder\" rel=\"dns-prefetch\"/> <link href=\"ref.placeholder\" rel=\"dns-prefetch\"/> <link href=\"ref.placeholder\" rel=\"dns-prefetch\"/> <link href=\"ref.placeholder\" rel=\"dns-prefetch\"/> <link href=\"ref.placeholder\" rel=\"dns-prefetch\"/> <link href=\"ref.placeholder\" rel=\"dns-prefetch\"/> <link href=\"ref.placeholder\" rel=\"dns-prefetch\"/> <link href=\"ref.placeholder\" rel=\"dns-prefetch\"/> <link href=\"ref.placeholder\" rel=\"dns-prefetch\"/> <link href=\"ref.placeholder\" rel=\"dns-prefetch\"/> <link href=\"ref.placeholder\" rel=\"dns-prefetch\"/> <link href=\"ref.placeholder\" rel=\"dns-prefetch\"/> <link href=\"ref.placeholder\" rel=\"dns-prefetch\"/> <link href=\"ref.placeholder\" rel=\"dns-prefetch\"/> <link href=\"ref.placeholder\" rel=\"dns-prefetch\"/> <link href=\"ref.placeholder\" rel=\"dns-prefetch\"/> <link href=\"ref.placeholder\" rel=\"dns-prefetch\"/> <link href=\"ref.placeholder\" rel=\"dns-prefetch\"/> <link href=\"ref.placeholder\" rel=\"dns-prefetch\"/> <link href=\"ref.placeholder\" rel=\"dns-prefetch\"/> <link href=\"ref.placeholder\" rel=\"dns-prefetch\"/> <link href=\"ref.placeholder\" rel=\"dns-prefetch\"/> <link href=\"ref.placeholder\" rel=\"dns-prefetch\"/> <link href=\"ref.placeholder\" rel=\"dns-prefetch\"/> <link href=\"ref.placeholder\" rel=\"dns-prefetch\"/> <link href=\"ref.placeholder\" rel=\"dns-prefetch\"/> <link href=\"ref.placeholder\" rel=\"dns-prefetch\"/> <link href=\"ref.placeholder\" rel=\"dns-prefetch\"/> <link href=\"ref.placeholder\" rel=\"dns-prefetch\"/> <link href=\"ref.placeholder\" rel=\"dns-prefetch\"/> <link href=\"ref.placeholder\" rel=\"dns-prefetch\"/> <link href=\"ref.placeholder\" rel=\"dns-prefetch\"/> <link href=\"ref.placeholder\" rel=\"dns-prefetch\"/> <link href=\"ref.placeholder\" rel=\"dns-prefetch\"/> <link href=\"ref.placeholder\" rel=\"dns-prefetch\"/> <link href=\"ref.placeholder\" rel=\"dns-prefetch\"/> <link href=\"ref.placeholder\" rel=\"dns-prefetch\"/> <link href=\"ref.placeholder\" rel=\"dns-prefetch\"/> <link href=\"ref.placeholder\" rel=\"dns-prefetch\"/> <link href=\"ref.placeholder\" rel=\"dns-prefetch\"/> <link href=\"ref.placeholder\" rel=\"dns-prefetch\"/> <link href=\"ref.placeholder\" rel=\"dns-prefetch\"/> <link href=\"ref.placeholder\" rel=\"dns-prefetch\"/> <link href=\"ref.placeholder\" rel=\"dns-prefetch\"/> <link href=\"ref.placeholder\" rel=\"dns-prefetch\"/> <link href=\"ref.placeholder\" rel=\"dns-prefetch\"/> <link href=\"ref.placeholder\" rel=\"dns-prefetch\"/> <link href=\"ref.placeholder\" rel=\"dns-prefetch\"/> <link href=\"ref.placeholder\" rel=\"dns-prefetch\"/> <link href=\"ref.placeholder\" rel=\"dns-prefetch\"/> <link href=\"ref.placeholder\" rel=\"dns-prefetch\"/> <link href=\"ref.placeholder\" rel=\"dns-prefetch\"/> <link href=\"ref.placeholder\" rel=\"dns-prefetch\"/> <link href=\"ref.placeholder\" rel=\"dns-prefetch\"/> <link href=\"ref.placeholder\" rel=\"dns-prefetch\"/> <link href=\"ref.placeholder\" rel=\"dns-prefetch\"/> <link href=\"ref.placeholder\" rel=\"dns-prefetch\"/> <link href=\"ref.placeholder\" rel=\"dns-prefetch\"/> <link href=\"ref.placeholder\" rel=\"dns-prefetch\"/> <link href=\"ref.placeholder\" rel=\"dns-prefetch\"/> <link href=\"ref.placeholder\" rel=\"dns-prefetch\"/> <link href=\"ref.placeholder\" rel=\"dns-prefetch\"/> <link href=\"ref.placeholder\" rel=\"dns-prefetch\"/> <link href=\"ref.placeholder\" rel=\"dns-prefetch\"/> <link href=\"ref.placeholder\" rel=\"dns-prefetch\"/> <link href=\"ref.placeholder\" rel=\"dns-prefetch\"/> <link href=\"ref.placeholder\" rel=\"dns-prefetch\"/> <link href=\"ref.placeholder\" rel=\"dns-prefetch\"/> <link href=\"ref.placeholder\" rel=\"dns-prefetch\"/> <link href=\"ref.placeholder\" rel=\"dns-prefetch\"/> <link href=\"ref.placeholder\" rel=\"dns-prefetch\"/> <link href=\"ref.placeholder\" rel=\"dns-prefetch\"/> <link href=\"ref.placeholder\" rel=\"dns-prefetch\"/> <link href=\"ref.placeholder\" rel=\"dns-prefetch\"/> <link href=\"ref.placeholder\" rel=\"dns-prefetch\"/> <link href=\"ref.placeholder\" rel=\"dns-prefetch\"/> <link href=\"ref.placeholder\" rel=\"dns-prefetch\"/> <link href=\"ref.placeholder\" rel=\"dns-prefetch\"/> <link href=\"ref.placeholder\" rel=\"dns-prefetch\"/> <link href=\"ref.placeholder\" rel=\"dns-prefetch\"/> <link href=\"ref.placeholder\" rel=\"dns-prefetch\"/> <link href=\"ref.placeholder\" rel=\"dns-prefetch\"/> <link href=\"ref.placeholder\" rel=\"dns-prefetch\"/> <link href=\"ref.placeholder\" rel=\"dns-prefetch\"/> <link href=\"ref.placeholder\" rel=\"dns-prefetch\"/> <link href=\"ref.placeholder\" rel=\"dns-prefetch\"/> <link href=\"ref.placeholder\" rel=\"dns-prefetch\"/> <link href=\"ref.placeholder\" rel=\"dns-prefetch\"/> <link href=\"ref.placeholder\" rel=\"dns-prefetch\"/> <link href=\"ref.placeholder\" rel=\"dns-prefetch\"/> <link href=\"ref.placeholder\" rel=\"dns-prefetch\"/> <link href=\"ref.placeholder\" rel=\"dns-prefetch\"/> <link href=\"ref.placeholder\" rel=\"dns-prefetch\"/> <link href=\"ref.placeholder\" rel=\"dns-prefetch\"/> <link href=\"ref.placeholder\" rel=\"dns-prefetch\"/> <link href=\"ref.placeholder\" rel=\"dns-prefetch\"/> <link href=\"ref.placeholder\" rel=\"dns-prefetch\"/> <link href=\"ref.placeholder\" rel=\"dns-prefetch\"/> <link href=\"ref.placeholder\" rel=\"dns-prefetch\"/> <link href=\"ref.placeholder\" rel=\"dns-prefetch\"/> <link href=\"ref.placeholder\" rel=\"dns-prefetch\"/> <link href=\"ref.placeholder\" rel=\"dns-prefetch\"/> <link href=\"ref.placeholder\" rel=\"dns-prefetch\"/> <link href=\"ref.placeholder\" rel=\"dns-prefetch\"/> <link href=\"ref.placeholder\" rel=\"dns-prefetch\"/> <link href=\"ref.placeholder\" rel=\"dns-prefetch\"/> <link href=\"ref.placeholder\" rel=\"dns-prefetch\"/> <link href=\"ref.placeholder\" rel=\"dns-prefetch\"/> <link href=\"ref.placeholder\" rel=\"dns-prefetch\"/> <link href=\"ref.placeholder\" rel=\"dns-prefetch\"/> <link href=\"ref.placeholder\" rel=\"dns-prefetch\"/> <link href=\"ref.placeholder\" rel=\"dns-prefetch\"/> <link href=\"ref.placeholder\" rel=\"dns-prefetch\"/> <link href=\"ref.placeholder\" rel=\"dns-prefetch\"/> <link href=\"ref.placeholder\" rel=\"dns-prefetch\"/> <link href=\"ref.placeholder\" rel=\"dns-prefetch\"/> <link href=\"ref.placeholder\" rel=\"dns-prefetch\"/> <link href=\"ref.placeholder\" rel=\"dns-prefetch\"/> <link href=\"ref.placeholder\" rel=\"dns-prefetch\"/> <link href=\"ref.placeholder\" rel=\"dns-prefetch\"/> <link href=\"ref.placeholder\" rel=\"dns-prefetch\"/> <link href=\"ref.placeholder\" rel=\"dns-prefetch\"/> <link href=\"ref.placeholder\" rel=\"dns-prefetch\"/> <link href=\"ref.placeholder\" rel=\"dns-prefetch\"/> <link href=\"ref.placeholder\" rel=\"dns-prefetch\"/> <link href=\"ref.placeholder\" rel=\"dns-prefetch\"/> <link href=\"ref.placeholder\" rel=\"dns-prefetch\"/> <link href=\"ref.placeholder\" rel=\"dns-prefetch\"/> <link href=\"ref.placeholder\" rel=\"dns-prefetch\"/> <link href=\"ref.placeholder\" rel=\"dns-prefetch\"/> <link href=\"ref.placeholder\" rel=\"dns-prefetch\"/> <link href=\"ref.placeholder\" rel=\"dns-prefetch\"/> <link href=\"ref.placeholder\" rel=\"dns-prefetch\"/> <link href=\"ref.placeholder\" rel=\"dns-prefetch\"/> <link href=\"ref.placeholder\" rel=\"dns-prefetch\"/> <link href=\"ref.placeholder\" rel=\"dns-prefetch\"/> <link href=\"ref.placeholder\" rel=\"dns-prefetch\"/> <link href=\"ref.placeholder\" rel=\"dns-prefetch\"/> <link href=\"ref.placeholder\" rel=\"dns-prefetch\"/> <link href=\"ref.placeholder\" rel=\"dns-prefetch\"/> <link href=\"ref.placeholder\" rel=\"dns-prefetch\"/> <link href=\"ref.placeholder\" rel=\"dns-prefetch\"/> <link href=\"ref.placeholder\" rel=\"dns-prefetch\"/> <link href=\"ref.placeholder\" rel=\"dns-prefetch\"/> <link href=\"ref.placeholder\" rel=\"dns-prefetch\"/> <link href=\"ref.placeholder\" rel=\"dns-prefetch\"/> <link href=\"ref.placeholder\" rel=\"dns-prefetch\"/> <link href=\"ref.placeholder\" rel=\"dns-prefetch\"/> <link href=\"ref.placeholder\" rel=\"dns-prefetch\"/> <link href=\"ref.placeholder\" rel=\"dns-prefetch\"/> <link href=\"ref.placeholder\" rel=\"dns-prefetch\"/> <link href=\"ref.placeholder\" rel=\"dns-prefetch\"/> <link href=\"ref.placeholder\" rel=\"dns-prefetch\"/> <link href=\"ref.placeholder\" rel=\"dns-prefetch\"/> <link href=\"ref.placeholder\" rel=\"dns-prefetch\"/> <link href=\"ref.placeholder\" rel=\"dns-prefetch\"/> <link href=\"ref.placeholder\" rel=\"dns-prefetch\"/> <link href=\"ref.placeholder\" rel=\"dns-prefetch\"/> <link href=\"ref.placeholder\" rel=\"dns-prefetch\"/> <link href=\"ref.placeholder\" rel=\"dns-prefetch\"/> <link href=\"ref.placeholder\" rel=\"dns-prefetch\"/> <link href=\"ref.placeholder\" rel=\"dns-prefetch\"/> <link href=\"ref.placeholder\" rel=\"dns-prefetch\"/> <link href=\"ref.placeholder\" rel=\"dns-prefetch\"/> <link href=\"ref.placeholder\" rel=\"dns-prefetch\"/> <link href=\"ref.placeholder\" rel=\"dns-prefetch\"/> <link href=\"ref.placeholder\" rel=\"dns-prefetch\"/> <link href=\"ref.placeholder\" rel=\"dns-prefetch\"/> <link href=\"ref.placeholder\" rel=\"dns-prefetch\"/> <link href=\"ref.placeholder\" rel=\"dns-prefetch\"/> <link href=\"ref.placeholder\" rel=\"dns-prefetch\"/> <link href=\"ref.placeholder\" rel=\"dns-prefetch\"/> <link href=\"ref.placeholder\" rel=\"dns-prefetch\"/> <link href=\"ref.placeholder\" rel=\"dns-prefetch\"/> <link href=\"ref.placeholder\" rel=\"dns-prefetch\"/> <link href=\"ref.placeholder\" rel=\"dns-prefetch\"/> <link href=\"ref.placeholder\" rel=\"dns-prefetch\"/> <link href=\"ref.placeholder\" rel=\"dns-prefetch\"/> <link href=\"ref.placeholder\" rel=\"dns-prefetch\"/> <link href=\"ref.placeholder\" rel=\"dns-prefetch\"/> <link href=\"ref.placeholder\" rel=\"dns-prefetch\"/> <link href=\"ref.placeholder\" rel=\"dns-prefetch\"/> <link href=\"ref.placeholder\" rel=\"dns-prefetch\"/> <link href=\"ref.placeholder\" rel=\"dns-prefetch\"/> <link href=\"ref.placeholder\" rel=\"dns-prefetch\"/> <link href=\"ref.placeholder\" rel=\"dns-prefetch\"/> <link href=\"ref.placeholder\" rel=\"dns-prefetch\"/> <link href=\"ref.placeholder\" rel=\"dns-prefetch\"/> <link href=\"ref.placeholder\" rel=\"dns-prefetch\"/> <link href=\"ref.placeholder\" rel=\"dns-prefetch\"/> <link href=\"ref.placeholder\" rel=\"dns-prefetch\"/> <link href=\"ref.placeholder\" rel=\"dns-prefetch\"/> <link href=\"ref.placeholder\" rel=\"dns-prefetch\"/> <link href=\"ref.placeholder\" rel=\"dns-prefetch\"/> <link href=\"ref.placeholder\" rel=\"dns-prefetch\"/> <link href=\"ref.placeholder\" rel=\"dns-prefetch\"/> <link href=\"ref.placeholder\" rel=\"dns-prefetch\"/> <link href=\"ref.placeholder\" rel=\"dns-prefetch\"/> <link href=\"ref.placeholder\" rel=\"dns-prefetch\"/> <link href=\"ref.placeholder\" rel=\"dns-prefetch\"/> <link href=\"ref.placeholder\" rel=\"dns-prefetch\"/> <link href=\"ref.placeholder\" rel=\"dns-prefetch\"/> <link href=\"ref.placeholder\" rel=\"dns-prefetch\"/> <link href=\"ref.placeholder\" rel=\"dns-prefetch\"/> <link href=\"ref.placeholder\" rel=\"dns-prefetch\"/> <link href=\"ref.placeholder\" rel=\"dns-prefetch\"/> <link href=\"ref.placeholder\" rel=\"dns-prefetch\"/> <link href=\"ref.placeholder\" rel=\"dns-prefetch\"/> <link href=\"ref.placeholder\" rel=\"dns-prefetch\"/> <link href=\"ref.placeholder\" rel=\"dns-prefetch\"/> <link href=\"ref.placeholder\" rel=\"dns-prefetch\"/> <link href=\"ref.placeholder\" rel=\"dns-prefetch\"/> <link href=\"ref.placeholder\" rel=\"dns-prefetch\"/> <link href=\"ref.placeholder\" rel=\"dns-prefetch\"/> <link href=\"ref.placeholder\" rel=\"dns-prefetch\"/> <link href=\"ref.placeholder\" rel=\"dns-prefetch\"/> <link href=\"ref.placeholder\" rel=\"dns-prefetch\"/> <link href=\"ref.placeholder\" rel=\"dns-prefetch\"/> <link href=\"ref.placeholder\" rel=\"dns-prefetch\"/> <link href=\"ref.placeholder\" rel=\"dns-prefetch\"/> <link href=\"ref.placeholder\" rel=\"dns-prefetch\"/> <link href=\"ref.placeholder\" rel=\"dns-prefetch\"/> <link href=\"ref.placeholder\" rel=\"dns-prefetch\"/> <link href=\"ref.placeholder\" rel=\"dns-prefetch\"/> <link href=\"ref.placeholder\" rel=\"dns-prefetch\"/> <link href=\"ref.placeholder\" rel=\"dns-prefetch\"/> <link href=\"ref.placeholder\" rel=\"dns-prefetch\"/> <link href=\"ref.placeholder\" rel=\"dns-prefetch\"/> <link href=\"ref.placeholder\" rel=\"dns-prefetch\"/> <link href=\"ref.placeholder\" rel=\"dns-prefetch\"/> <link href=\"ref.placeholder\" rel=\"dns-prefetch\"/> <link href=\"ref.placeholder\" rel=\"dns-prefetch\"/> <link href=\"ref.placeholder\" rel=\"dns-prefetch\"/> <link href=\"ref.placeholder\" rel=\"dns-prefetch\"/> <link href=\"ref.placeholder\" rel=\"dns-prefetch\"/> <link href=\"ref.placeholder\" rel=\"dns-prefetch\"/> <link href=\"ref.placeholder\" rel=\"dns-prefetch\"/> <link href=\"ref.placeholder\" rel=\"dns-prefetch\"/> <link href=\"ref.placeholder\" rel=\"dns-prefetch\"/> <link href=\"ref.placeholder\" rel=\"dns-prefetch\"/> <link href=\"ref.placeholder\" rel=\"dns-prefetch\"/> <link href=\"ref.placeholder\" rel=\"dns-prefetch\"/> <link href=\"ref.placeholder\" rel=\"dns-prefetch\"/> <link href=\"ref.placeholder\" rel=\"dns-prefetch\"/> <link href=\"ref.placeholder\" rel=\"dns-prefetch\"/> <link href=\"ref.placeholder\" rel=\"dns-prefetch\"/> <link href=\"ref.placeholder\" rel=\"dns-prefetch\"/> <link href=\"ref.placeholder\" rel=\"dns-prefetch\"/> <link href=\"ref.placeholder\" rel=\"dns-prefetch\"/> <link href=\"ref.placeholder\" rel=\"dns-prefetch\"/> <link href=\"ref.placeholder\" rel=\"dns-prefetch\"/> <link href=\"ref.placeholder\" rel=\"dns-prefetch\"/> <link href=\"ref.placeholder\" rel=\"dns-prefetch\"/> <link href=\"ref.placeholder\" rel=\"dns-prefetch\"/> <link href=\"ref.placeholder\" rel=\"dns-prefetch\"/> <link href=\"ref.placeholder\" rel=\"dns-prefetch\"/> <link href=\"ref.placeholder\" rel=\"dns-prefetch\"/> <link href=\"ref.placeholder\" rel=\"dns-prefetch\"/> <link href=\"ref.placeholder\" rel=\"dns-prefetch\"/> <link href=\"ref.placeholder\" rel=\"dns-prefetch\"/> <link href=\"ref.placeholder\" rel=\"dns-prefetch\"/> <link href=\"ref.placeholder\" rel=\"dns-prefetch\"/> <link href=\"ref.placeholder\" rel=\"dns-prefetch\"/> <link href=\"ref.placeholder\" rel=\"dns-prefetch\"/> <link href=\"ref.placeholder\" rel=\"dns-prefetch\"/> <link href=\"ref.placeholder\" rel=\"dns-prefetch\"/> <link href=\"ref.placeholder\" rel=\"dns-prefetch\"/> <link href=\"ref.placeholder\" rel=\"dns-prefetch\"/> <link href=\"ref.placeholder\" rel=\"dns-prefetch\"/> <link href=\"ref.placeholder\" rel=\"dns-prefetch\"/> <link href=\"ref.placeholder\" rel=\"dns-prefetch\"/> <link href=\"ref.placeholder\" rel=\"dns-prefetch\"/> <link href=\"ref.placeholder\" rel=\"dns-prefetch\"/> <link href=\"ref.placeholder\" rel=\"dns-prefetch\"/> <link href=\"ref.placeholder\" rel=\"dns-prefetch\"/> <link href=\"ref.placeholder\" rel=\"dns-prefetch\"/> <link href=\"ref.placeholder\" rel=\"dns-prefetch\"/> <link href=\"ref.placeholder\" rel=\"dns-prefetch\"/> <link href=\"ref.placeholder\" rel=\"dns-prefetch\"/> <link href=\"ref.placeholder\" rel=\"dns-prefetch\"/> <link href=\"ref.placeholder\" rel=\"dns-prefetch\"/> <link href=\"ref.placeholder\" rel=\"dns-prefetch\"/> <link href=\"ref.placeholder\" rel=\"dns-prefetch\"/> <link href=\"ref.placeholder\" rel=\"dns-prefetch\"/> <link href=\"ref.placeholder\" rel=\"dns-prefetch\"/> <link href=\"ref.placeholder\" rel=\"dns-prefetch\"/> <link href=\"ref.placeholder\" rel=\"dns-prefetch\"/> <link href=\"ref.placeholder\" rel=\"dns-prefetch\"/> <link href=\"ref.placeholder\" rel=\"dns-prefetch\"/> <link href=\"ref.placeholder\" rel=\"dns-prefetch\"/> <link href=\"ref.placeholder\" rel=\"dns-prefetch\"/> <link href=\"ref.placeholder\" rel=\"dns-prefetch\"/> <link href=\"ref.placeholder\" rel=\"dns-prefetch\"/> <link href=\"ref.placeholder\" rel=\"dns-prefetch\"/> <link href=\"ref.placeholder\" rel=\"dns-prefetch\"/> <link href=\"ref.placeholder\" rel=\"dns-prefetch\"/> <link href=\"ref.placeholder\" rel=\"dns-prefetch\"/> <link href=\"ref.placeholder\" rel=\"dns-prefetch\"/> <link href=\"ref.placeholder\" rel=\"dns-prefetch\"/> <link href=\"ref.placeholder\" rel=\"dns-prefetch\"/> <link href=\"ref.placeholder\" rel=\"dns-prefetch\"/> <link href=\"ref.placeholder\" rel=\"dns-prefetch\"/> <link href=\"ref.placeholder\" rel=\"dns-prefetch\"/> <link href=\"ref.placeholder\" rel=\"dns-prefetch\"/> <link href=\"ref.placeholder\" rel=\"dns-prefetch\"/> <link href=\"ref.placeholder\" rel=\"dns-prefetch\"/> <link href=\"ref.placeholder\" rel=\"dns-prefetch\"/> <link href=\"ref.placeholder\" rel=\"dns-prefetch\"/> <link href=\"ref.placeholder\" rel=\"dns-prefetch\"/> <link href=\"ref.placeholder\" rel=\"dns-prefetch\"/> <link href=\"ref.placeholder\" rel=\"dns-prefetch\"/> <link href=\"ref.placeholder\" rel=\"dns-prefetch\"/> <link href=\"ref.placeholder\" rel=\"dns-prefetch\"/> <link href=\"ref.placeholder\" rel=\"dns-prefetch\"/> <link href=\"ref.placeholder\" rel=\"dns-prefetch\"/> <link href=\"ref.placeholder\" rel=\"dns-prefetch\"/> <link href=\"ref.placeholder\" rel=\"dns-prefetch\"/> <link href=\"ref.placeholder\" rel=\"dns-prefetch\"/> <link href=\"ref.placeholder\" rel=\"dns-prefetch\"/> <link href=\"ref.placeholder\" rel=\"dns-prefetch\"/> <link href=\"ref.placeholder\" rel=\"dns-prefetch\"/> <link href=\"ref.placeholder\" rel=\"dns-prefetch\"/> <link href=\"ref.placeholder\" rel=\"dns-prefetch\"/> <link href=\"ref.placeholder\" rel=\"dns-prefetch\"/> <link href=\"ref.placeholder\" rel=\"dns-prefetch\"/> <link href=\"ref.placeholder\" rel=\"dns-prefetch\"/> <link href=\"ref.placeholder\" rel=\"dns-prefetch\"/> <link href=\"ref.placeholder\" rel=\"dns-prefetch\"/> <link href=\"ref.placeholder\" rel=\"dns-prefetch\"/> <link href=\"ref.placeholder\" rel=\"dns-prefetch\"/> <link href=\"ref.placeholder\" rel=\"dns-prefetch\"/> <link href=\"ref.placeholder\" rel=\"dns-prefetch\"/> <link href=\"ref.placeholder\" rel=\"dns-prefetch\"/> <link href=\"ref.placeholder\" rel=\"dns-prefetch\"/> <link href=\"ref.placeholder\" rel=\"dns-prefetch\"/> <link href=\"ref.placeholder\" rel=\"dns-prefetch\"/> <link href=\"ref.placeholder\" rel=\"dns-prefetch\"/> <link href=\"ref.placeholder\" rel=\"dns-prefetch\"/> <link href=\"ref.placeholder\" rel=\"dns-prefetch\"/> <link href=\"ref.placeholder\" rel=\"dns-prefetch\"/> <link href=\"ref.placeholder\" rel=\"dns-prefetch\"/> <link href=\"ref.placeholder\" rel=\"dns-prefetch\"/> <link href=\"ref.placeholder\" rel=\"dns-prefetch\"/> <link href=\"ref.placeholder\" rel=\"dns-prefetch\"/> <link href=\"ref.placeholder\" rel=\"dns-prefetch\"/> <link href=\"ref.placeholder\" rel=\"dns-prefetch\"/> <link href=\"ref.placeholder\" rel=\"dns-prefetch\"/> <link href=\"ref.placeholder\" rel=\"dns-prefetch\"/> <link href=\"ref.placeholder\" rel=\"dns-prefetch\"/> <link href=\"ref.placeholder\" rel=\"dns-prefetch\"/> <link href=\"ref.placeholder\" rel=\"dns-prefetch\"/> <link href=\"ref.placeholder\" rel=\"dns-prefetch\"/> <link href=\"ref.placeholder\" rel=\"dns-prefetch\"/> <link href=\"ref.placeholder\" rel=\"dns-prefetch\"/> <link href=\"ref.placeholder\" rel=\"dns-prefetch\"/> <link href=\"ref.placeholder\" rel=\"dns-prefetch\"/> <link href=\"ref.placeholder\" rel=\"dns-prefetch\"/> <link href=\"ref.placeholder\" rel=\"dns-prefetch\"/> <link href=\"ref.placeholder\" rel=\"dns-prefetch\"/> <link href=\"ref.placeholder\" rel=\"dns-prefetch\"/> <link href=\"ref.placeholder\" rel=\"dns-prefetch\"/> <link href=\"ref.placeholder\" rel=\"dns-prefetch\"/> <link href=\"ref.placeholder\" rel=\"dns-prefetch\"/> <link href=\"ref.placeholder\" rel=\"dns-prefetch\"/> <link href=\"ref.placeholder\" rel=\"dns-prefetch\"/> <link href=\"ref.placeholder\" rel=\"dns-prefetch\"/> <link href=\"ref.placeholder\" rel=\"dns-prefetch\"/> <link href=\"ref.placeholder\" rel=\"dns-prefetch\"/> <link href=\"ref.placeholder\" rel=\"dns-prefetch\"/> <link href=\"ref.placeholder\" rel=\"dns-prefetch\"/> <link href=\"ref.placeholder\" rel=\"dns-prefetch\"/> <link href=\"ref.placeholder\" rel=\"dns-prefetch\"/> <link href=\"ref.placeholder\" rel=\"dns-prefetch\"/> <link href=\"ref.placeholder\" rel=\"dns-prefetch\"/> <link href=\"ref.placeholder\" rel=\"dns-prefetch\"/> <link href=\"ref.placeholder\" rel=\"dns-prefetch\"/> <link href=\"ref.placeholder\" rel=\"dns-prefetch\"/> <link href=\"ref.placeholder\" rel=\"dns-prefetch\"/> <link href=\"ref.placeholder\" rel=\"dns-prefetch\"/> <link href=\"ref.placeholder\" rel=\"dns-prefetch\"/> <link href=\"ref.placeholder\" rel=\"dns-prefetch\"/> <link href=\"ref.placeholder\" rel=\"dns-prefetch\"/> <link href=\"ref.placeholder\" rel=\"dns-prefetch\"/> <link href=\"ref.placeholder\" rel=\"dns-prefetch\"/> <link href=\"ref.placeholder\" rel=\"dns-prefetch\"/> <link href=\"ref.placeholder\" rel=\"dns-prefetch\"/> <link href=\"ref.placeholder\" rel=\"dns-prefetch\"/> <link href=\"ref.placeholder\" rel=\"dns-prefetch\"/> <link href=\"ref.placeholder\" rel=\"dns-prefetch\"/> <link href=\"ref.placeholder\" rel=\"dns-prefetch\"/> <link href=\"ref.placeholder\" rel=\"dns-prefetch\"/> <link href=\"ref.placeholder\" rel=\"dns-prefetch\"/> <link href=\"ref.placeholder\" rel=\"dns-prefetch\"/> <link href=\"ref.placeholder\" rel=\"dns-prefetch\"/> <link href=\"ref.placeholder\" rel=\"dns-prefetch\"/> <link href=\"ref.placeholder\" rel=\"dns-prefetch\"/> <link href=\"ref.placeholder\" rel=\"dns-prefetch\"/> <link href=\"ref.placeholder\" rel=\"dns-prefetch\"/> <link href=\"ref.placeholder\" rel=\"dns-prefetch\"/> <link href=\"ref.placeholder\" rel=\"dns-prefetch\"/> <link href=\"ref.placeholder\" rel=\"dns-prefetch\"/> <link href=\"ref.placeholder\" rel=\"dns-prefetch\"/> <link href=\"ref.placeholder\" rel=\"dns-prefetch\"/> <link href=\"ref.placeholder\" rel=\"dns-prefetch\"/> <link href=\"ref.placeholder\" rel=\"dns-prefetch\"/> <link href=\"ref.placeholder\" rel=\"dns-prefetch\"/> <link href=\"ref.placeholder\" rel=\"dns-prefetch\"/> <link href=\"ref.placeholder\" rel=\"dns-prefetch\"/> <link href=\"ref.placeholder\" rel=\"dns-prefetch\"/> <link href=\"ref.placeholder\" rel=\"dns-prefetch\"/> <link href=\"ref.placeholder\" rel=\"dns-prefetch\"/> <link href=\"ref.placeholder\" rel=\"dns-prefetch\"/> <link href=\"ref.placeholder\" rel=\"dns-prefetch\"/> <link href=\"ref.placeholder\" rel=\"dns-prefetch\"/> <link href=\"ref.placeholder\" rel=\"dns-prefetch\"/> <link href=\"ref.placeholder\" rel=\"dns-prefetch\"/> <link href=\"ref.placeholder\" rel=\"dns-prefetch\"/> <link href=\"ref.placeholder\" rel=\"dns-prefetch\"/> <link href=\"ref.placeholder\" rel=\"dns-prefetch\"/> <link href=\"ref.placeholder\" rel=\"dns-prefetch\"/> <link href=\"ref.placeholder\" rel=\"dns-prefetch\"/> <link href=\"ref.placeholder\" rel=\"dns-prefetch\"/> <link href=\"ref.placeholder\" rel=\"dns-prefetch\"/> <link href=\"ref.placeholder\" rel=\"dns-prefetch\"/> <link href=\"ref.placeholder\" rel=\"dns-prefetch\"/> <link href=\"ref.placeholder\" rel=\"dns-prefetch\"/> <link href=\"ref.placeholder\" rel=\"dns-prefetch\"/> <link href=\"ref.placeholder\" rel=\"dns-prefetch\"/> <link href=\"ref.placeholder\" rel=\"dns-prefetch\"/> <link href=\"ref.placeholder\" rel=\"dns-prefetch\"/> <link href=\"ref.placeholder\" rel=\"dns-prefetch\"/> <link href=\"ref.placeholder\" rel=\"dns-prefetch\"/> <link href=\"ref.placeholder\" rel=\"dns-prefetch\"/> <link href=\"ref.placeholder\" rel=\"dns-prefetch\"/> <link href=\"ref.placeholder\" rel=\"dns-prefetch\"/> <link href=\"ref.placeholder\" rel=\"dns-prefetch\"/> <link href=\"ref.placeholder\" rel=\"dns-prefetch\"/> <link href=\"ref.placeholder\" rel=\"dns-prefetch\"/> <link href=\"ref.placeholder\" rel=\"dns-prefetch\"/> <link href=\"ref.placeholder\" rel=\"dns-prefetch\"/> <link href=\"ref.placeholder\" rel=\"dns-prefetch\"/> <link href=\"ref.placeholder\" rel=\"dns-prefetch\"/> <link href=\"ref.placeholder\" rel=\"dns-prefetch\"/> <link href=\"ref.placeholder\" rel=\"dns-prefetch\"/> <link href=\"ref.placeholder\" rel=\"dns-prefetch\"/> <link href=\"ref.placeholder\" rel=\"dns-prefetch\"/> <link href=\"ref.placeholder\" rel=\"dns-prefetch\"/> <link href=\"ref.placeholder\" rel=\"dns-prefetch\"/> <link href=\"ref.placeholder\" rel=\"dns-prefetch\"/> <link href=\"ref.placeholder\" rel=\"dns-prefetch\"/> <link href=\"ref.placeholder\" rel=\"dns-prefetch\"/> <link href=\"ref.placeholder\" rel=\"dns-prefetch\"/> <link href=\"ref.placeholder\" rel=\"dns-prefetch\"/> <link href=\"ref.placeholder\" rel=\"dns-prefetch\"/> <link href=\"ref.placeholder\" rel=\"dns-prefetch\"/> <link href=\"ref.placeholder\" rel=\"dns-prefetch\"/> <link href=\"ref.placeholder\" rel=\"dns-prefetch\"/> <link href=\"ref.placeholder\" rel=\"dns-prefetch\"/> <link href=\"ref.placeholder\" rel=\"dns-prefetch\"/> <link href=\"ref.placeholder\" rel=\"dns-prefetch\"/> <link href=\"ref.placeholder\" rel=\"dns-prefetch\"/> <link href=\"ref.placeholder\" rel=\"dns-prefetch\"/> <link href=\"ref.placeholder\" rel=\"dns-prefetch\"/> <link href=\"ref.placeholder\" rel=\"dns-prefetch\"/> <link href=\"ref.placeholder\" rel=\"dns-prefetch\"/> <link href=\"ref.placeholder\" rel=\"dns-prefetch\"/> <link href=\"ref.placeholder\" rel=\"dns-prefetch\"/> <link href=\"ref.placeholder\" rel=\"dns-prefetch\"/> <link href=\"ref.placeholder\" rel=\"dns-prefetch\"/> <link href=\"ref.placeholder\" rel=\"dns-prefetch\"/> <link href=\"ref.placeholder\" rel=\"dns-prefetch\"/> <link href=\"ref.placeholder\" rel=\"dns-prefetch\n",
            "    Answer: <html class=\"cufon-active cufon-ready\" lang=\"pl\" xml:lang=\"pl\" xmlns=\"https://example.com\" xmlns:fb=\"https://example.com\"> <head> <title>Late Service -in english</title> <link href=\"late.com.pl.css\" rel=\"stylesheet\" type=\"text/css\"/> <link href=\"late.com.pl.css\" rel=\"stylesheet\" type=\"text/css\"/> <link href=\"ref.placeholder\" rel=\"shortcut icon\" type=\"image/x-icon\"/> <link href=\"ref.placeholder\" rel=\"icon\" type=\"image/x-icon\"/> <style type=\"text/css\">cufontext-indent0!important;media screen,projectioncufondisplayinline!important;displayinline-block!important;positionrelative!important;vertical-alignmiddle!important;font-size1px!important;line-height1px!important;cufon cufontextdisplay-moz-inline-box!important;displayinline-block!important;width0!important;height0!important;overflowhidden!important;text-indent-10000in!important;cufon canvaspositionrelative!important;media printcufonpadding0!important;cufon canvasdisplaynone!important;</style> </head> <body> <div class=\"wrapper\"> <div id=\"top_en\"> <a href=\"ref.placeholder\" id=\"logo\" title=\"Late Service\"></a> <div id=\"jezyki\"> <span> <a href=\"ref.placeholder\"> <img alt=\"logo\" src=\"../../images/default_img.jpeg\"/> <br/> <div alt=\"PL\" class=\"cufon cufon-canvas\" style=\"width:11px;height:10px\"><canvas style=\"width:20px;height:12px;top:-2px;left:-1px\"></canvas><span>PL</span></div> </a> </span> <span> <a href=\"ref.placeholder\"> <img alt=\"logo\" src=\"../../images/default_img.jpeg\"/> <br/> <div alt=\"EN\" class=\"cufon cufon-canvas\" style=\"width:13px;height:10px\"><canvas style=\"width:19px;height:12px;top:-2px;left:-1px\"></canvas><span>EN</span></div> </a> </span> </div> <a href=\"ref.placeholder\" style=\"width:420px;height:30px;display:block;margin-left:550px;margin-top:10px\"></a> </div> <div id=\"menu\"><a class=\"menu\" href=\"ref.placeholder\"><div alt=\"Company\" class=\"cufon cufon-canvas\" style=\"width:83px;height:16px\"><canvas style=\"width:95px;height:20px;top:-3px;left:-1px\"></canvas><span>Company</span></div></a><a class=\"menu\" href=\"ref.placeholder\"><div alt=\"Projects\" class=\"cufon cufon-canvas\" style=\"width:64px;height:16px\"><canvas style=\"width:78px;height:20px;top:-3px;left:-1px\"></canvas><span>Projects</span></div></a><a class=\"menu\" href=\"ref.placeholder\"><div alt=\"Offer\" class=\"cufon cufon-canvas\" style=\"width:41px;height:16px\"><canvas style=\"width:58px;height:20px;top:-3px;left:-1px\"></canvas><span>Offer</span></div></a><a class=\"menu\" href=\"ref.placeholder\"><div alt=\"References\" class=\"cufon cufon-canvas\" style=\"width:92px;height:16px\"><canvas style=\"width:107px;height:20px;top:-3px;left:-1px\"></canvas><span>References</span></div></a><a class=\"menu\" href=\"ref.placeholder\"><div alt=\"Gallery\" class=\"cufon cufon-canvas\" style=\"width:58px;height:16px\"><canvas style=\"width:70px;height:20px;top:-3px;left:-1px\"></canvas><span>Gallery</span></div></a><a class=\"menu\" href=\"ref.placeholder\"><div alt=\"Careers\" class=\"cufon cufon-canvas\" style=\"width:64px;height:16px\"><canvas style=\"width:79px;height:20px;top:-3px;left:-1px\"></canvas><span>Careers</span></div></a><a class=\"menu\" href=\"ref.placeholder\"><div alt=\"Contact\" class=\"cufon cufon-canvas\" style=\"width:69px;height:16px\"><canvas style=\"width:84px;height:20px;top:-3px;left:-1px\"></canvas><span>Contact</span></div></a></div> <div id=\"wysuwane\" style=\"left:-210px\"> <div id=\"wewnatrz\" style=\"float:left;width:190px;display:block;margin-left:0px\"></div> </div> <div id=\"content_sg\"> <div class=\"hr\"></div> <div id=\"screen\"> <p class=\"bgBlack\"></p> <div><a class=\"info\" href=\"ref.placeholder\" title=\"więcej informacji\"></a></div> <div><a class=\"info\" href=\"ref.placeholder\" title=\"więcej informacji\"><div alt=\"Beach \" class=\"cufon cufon-canvas\" style=\"width:64px;height:18px\"><canvas style=\"width:82px;height:22px;top:-3px;left:-1px\"></canvas><span>Beach</span></div><div alt=\"Party \" class=\"cufon cufon-canvas\" style=\"width:51px;height:18px\"><canvas style=\"width:69px;height:22px;top:-3px;left:-1px\"></canvas><span>Party</span></div><div alt=\"- \" class=\"cufon cufon-canvas\" style=\"width:12px;height:18px\"><canvas style=\"width:30px;height:22px;top:-3px;left:-1px\"></canvas><span>-</span></div><div alt=\"Trzcianka \" class=\"cufon cufon-canvas\" style=\"width:88px;height:18px\"><canvas style=\"width:107px;height:22px;top:-3px;left:-1px\"></canvas><span>Trzcianka</span></div><div alt=\"2017\" class=\"cufon cufon-canvas\" style=\"width:41px;height:18px\"><canvas style=\"width:55px;height:22px;top:-3px;left:-1px\"></canvas><span>2017</span></div></a></div> <div><a class=\"info\" href=\"ref.placeholder\" title=\"więcej informacji\"><div alt=\"Beach \" class=\"cufon cufon-canvas\" style=\"width:64px;height:18px\"><canvas style=\"width:82px;height:22px;top:-3px;left:-1px\"></canvas><span>Beach</span></div><div alt=\"Party \" class=\"cufon cufon-canvas\" style=\"width:51px;height:18px\"><canvas style=\"width:69px;height:22px;top:-3px;left:-1px\"></canvas><span>Party</span></div><div alt=\"- \" class=\"cufon cufon-canvas\" style=\"width:12px;height:18px\"><canvas style=\"width:30px;height:22px;top:-3px;left:-1px\"></canvas><span>-</span></div><div alt=\"Trzcianka \" class=\"cufon cufon-canvas\" style=\"width:88px;height:18px\"><canvas style=\"width:107px;height:22px;top:-3px;left:-1px\"></canvas><span>Trzcianka</span></div><div alt=\"2017\" class=\"cufon cufon-canvas\" style=\"width:41px;height:18px\"><canvas style=\"width:55px;height:22px;top:-3px;left:-1px\"></canvas><span>2017</span></div></a></div> <div><a class=\"info\" href=\"ref.placeholder\" title=\"więcej informacji\"><div alt=\"Event \" class=\"cufon cufon-canvas\" style=\"width:55px;height:18px\"><canvas style=\"width:74px;height:22px;top:-3px;left:-1px\"></canvas><span>Event</span></div><div alt=\"firmowy\" class=\"cufon cufon-canvas\" style=\"width:70px;height:18px\"><canvas style=\"width:84px;height:22px;top:-3px;left:-1px\"></canvas><span>firmowy</span></div></a></div> <div><a class=\"info\" href=\"ref.placeholder\" title=\"więcej informacji\"></a></div> <div><a class=\"info\" href=\"ref.placeholder\" title=\"więcej informacji\"><div alt=\"Gala \" class=\"cufon cufon-canvas\" style=\"width:50px;height:18px\"><canvas style=\"width:69px;height:22px;top:-3px;left:-1px\"></canvas><span>Gala</span></div><div alt=\"Boksu \" class=\"cufon cufon-canvas\" style=\"width:56px;height:18px\"><canvas style=\"width:74px;height:22px;top:-3px;left:-1px\"></canvas><span>Boksu</span></div><div alt=\"RCP1\" class=\"cufon cufon-canvas\" style=\"width:48px;height:18px\"><canvas style=\"width:61px;height:22px;top:-3px;left:-1px\"></canvas><span>RCP1</span></div></a></div> <p class=\"scrNav\" style=\"margin-bottom:0px\"><a class=\"sel\" href=\"ref.placeholder\"><div alt=\" \" class=\"cufon cufon-canvas\" style=\"width:4px;height:13px\"><canvas style=\"width:18px;height:16px;top:-2px;left:-1px\"></canvas><div></div></div></a></p> </div> <div class=\"dzialy\"> <a href=\"ref.placeholder\"><img alt=\"\" src=\"../../images/default_img.jpeg\"/></a> <br/> <a href=\"ref.placeholder\"><img alt=\"\" src=\"../../images/default_img.jpeg\"/></a> <br/> <div id=\"logos_ref\"> <div class=\"scroll\" style=\"width:1134px;margin-left:-50.463px\"> <div class=\"roll\" style=\"width:567px\"> <a href=\"ref.placeholder\"> <img alt=\"\" src=\"../../images/default_img.jpeg&amp;x=0&amp;y=180\"/> <br/> </a> <a href=\"ref.placeholder\"> <img alt=\"\" src=\"../../images/default_img.jpeg&amp;x=0&amp;y=180\"/> <br/> </a> <a href=\"ref.placeholder\"> <img alt=\"\" src=\"../../images/default_img.jpeg&amp;x=0&amp;y=180\"/> <br/> </a> <a href=\"ref.placeholder\"> <img alt=\"\" src=\"../../images/default_img.jpeg&amp;x=0&amp;y=180\"/> <br/> </a> <a href=\"ref.placeholder\"> <img alt=\"\" src=\"../../images/default_img.jpeg&amp;x=0&amp;y=180\"/> <br/> </a> </div> <div class=\"roll\" style=\"width:567px\"> <a href=\"ref.placeholder\"> <img alt=\"\" src=\"../../images/default_img.jpeg&amp;x=0&amp;y=180\"/> <br/> </a> <a href=\"ref.placeholder\"> <img alt=\"\" src=\"../../images/default_img.jpeg&amp;x=0&amp;y=180\"/> <br/> </a> <a href=\"ref.placeholder\"> <img alt=\"\" src=\"../../images/default_img.jpeg&amp;x=0&amp;y=180\"/> <br/> </a> <a href=\"ref.placeholder\"> <img alt=\"\" src=\"../../images/default_img.jpeg&amp;x=0&amp;y=180\"/> <br/> </a> <a href=\"ref.placeholder\"> <img alt=\"\" src=\"../../images/default_img.jpeg&amp;x=0&amp;y=180\"/> <br/> </a> </div> </div> <br/> </div> </div> <div class=\"clear\"></div> <div id=\"marki\"><a href=\"ref.placeholder\"><img alt=\"\" src=\"../../images/default_img.jpeg\"/></a><a href=\"ref.placeholder\"><img alt=\"\" src=\"../../images/default_img.jpeg\"/></a><a href=\"ref.placeholder\"><img alt=\"\" src=\"../../images/default_img.jpeg\"/></a></div> </div> <div class=\"bottom\"> <p style=\"color:#f00\"><div alt=\"Contact\" class=\"cufon cufon-canvas\" style=\"width:52px;height:12px\"><canvas style=\"width:63px;height:15px;top:-2px;left:-1px\"></canvas><span>Contact</span></div></p> <p><div alt=\"tel.:\" class=\"cufon cufon-canvas\" style=\"width:22px;height:12px\"><canvas style=\"width:35px;height:15px;top:-2px;left:-1px\"></canvas><span>tel.</span></div><div alt=\" +48\" class=\"cufon cufon-canvas\" style=\"width:25px;height:12px\"><canvas style=\"width:35px;height:15px;top:-2px;left:-1px\"></canvas><span>48</span></div><div alt=\" 500\" class=\"cufon cufon-canvas\" style=\"width:25px;height:12px\"><canvas style=\"width:34px;height:15px;top:-2px;left:-1px\"></canvas><span>500</span></div><div alt=\" 580\" class=\"cufon cufon-canvas\" style=\"width:25px;height:12px\"><canvas style=\"width:34px;height:15px;top:-2px;left:-1px\"></canvas><span>580</span></div><div alt=\" 890\" class=\"cufon cufon-canvas\" style=\"width:25px;height:12px\"><canvas style=\"width:34px;height:15px;top:-2px;left:-1px\"></canvas><span>890</span></div></p> <p><div alt=\"info@late.com.pl\" class=\"cufon cufon-canvas\" style=\"width:103px;height:12px\"><canvas style=\"width:117px;height:15px;top:-2px;left:-1px\"></canvas><span>infolate.com.pl</span></div></p> </div> <div id=\"footer\"><span class=\"copyright\"><div alt=\"Copyright \" class=\"cufon cufon-canvas\" style=\"width:64px;height:12px\"><canvas style=\"width:77px;height:15px;top:-2px;left:-1px\"></canvas><span>Copyright</span></div><div alt=\"© \" class=\"cufon cufon-canvas\" style=\"width:13px;height:12px\"><canvas style=\"width:26px;height:15px;top:-2px;left:-1px\"></canvas><span></span></div><div alt=\"2023 \" class=\"cufon cufon-canvas\" style=\"width:32px;height:12px\"><canvas style=\"width:44px;height:15px;top:-2px;left:-1px\"></canvas><span>2023</span></div><b><div alt=\"Late \" class=\"cufon cufon-canvas\" style=\"width:29px;height:12px\"><canvas style=\"width:40px;height:15px;top:-2px;left:-1px\"></canvas><span>Late</span></div><div alt=\"Service\" class=\"cufon cufon-canvas\" style=\"width:45px;height:12px\"><canvas style=\"width:51px;height:15px;top:-2px;left:-1px\"></canvas><span>Service</span></div></b><div alt=\" \" class=\"cufon cufon-canvas\" style=\"width:4px;height:12px\"><canvas style=\"width:16px;height:15px;top:-2px;left:-1px\"></canvas><div></div></div><div alt=\"- \" class=\"cufon cufon-canvas\" style=\"width:8px;height:12px\"><canvas style=\"width:21px;height:15px;top:-2px;left:-1px\"></canvas><span>-</span></div><div alt=\"Wszelkie \" class=\"cufon cufon-canvas\" style=\"width:54px;height:12px\"><canvas style=\"width:66px;height:15px;top:-2px;left:-1px\"></canvas><span>Wszelkie</span></div><div alt=\"prawa \" class=\"cufon cufon-canvas\" style=\"width:44px;height:12px\"><canvas style=\"width:56px;height:15px;top:-2px;left:-1px\"></canvas><span>prawa</span></div><div alt=\"zastrzeżone.\" class=\"cufon cufon-canvas\" style=\"width:74px;height:12px\"><canvas style=\"width:86px;height:15px;top:-2px;left:-1px\"></canvas><span>zastrzeone.</span></div></span><span class=\"author\"><div alt=\"Tworzenie\" class=\"cufon cufon-canvas\" style=\"width:60px;height:12px\"><canvas style=\"width:68px;height:15px;top:-2px;left:-1px\"></canvas><span>Tworzenie</span></div><div alt=\" stron\" class=\"cufon cufon-canvas\" style=\"width:33px;height:12px\"><canvas style=\"width:41px;height:15px;top:-2px;left:-1px\"></canvas><span>stron</span></div><div alt=\" internetowych\" class=\"cufon cufon-canvas\" style=\"width:92px;height:12px\"><canvas style=\"width:100px;height:15px;top:-2px;left:-1px\"></canvas><span>internetowych</span></div><div alt=\" \" class=\"cufon cufon-canvas\" style=\"width:4px;height:12px\"><canvas style=\"width:16px;height:15px;top:-2px;left:-1px\"></canvas><div></div></div><a href=\"https://example.com\" title=\"Projektowanie stron internetowych\"><div alt=\"Design4u.pl\" class=\"cufon cufon-canvas\" style=\"width:71px;height:12px\"><canvas style=\"width:84px;height:15px;top:-2px;left:-1px\"></canvas><span>Design4u.pl</span></div></a></span></div> </div> <div style=\"visibility:hidden;width:0px;height:0px\"><div header=\"false\" href=\"https://example.com\" show_faces=\"true\" stream=\"false\"></div></div> </body> </html> /* START CSS */ body { font-family: Century Gothic; font-weight: normal; font-variant: normal; text-align: left; text-decoration: none; color: #fff; font-size: 12px; background-color: #000; margin: 0; } div { display: block; margin: 0; padding: 0; overflow: hidden } p { margin: 0 }.clear { width: 100%; height: 0; font-size: 0; clear: both; float: none } a { color: #fff; text-decoration: none } a img { border: 0 } p { text-align: justify; padding: 4px 15px; color: #262626; font-size: 12px; } #contact_form { display: block; margin: 0 0 0px 0; border: 0px } #contact { border: 0px; } #logo { display: block; float: left; width: 150px; height: 41px; background: url(ref.placeholder) no-repeat; margin: 25px 0 0 40px; } #page { margin: 0 auto; background-color: #000; height: 100% }.wrapper { width: 960px; margin: 0 auto } #top_pl { background: url(ref.placeholder) left top no-repeat; width: 960px; height: 125px; } #top_en { background: url(ref.placeholder) left top no-repeat; width: 960px; height: 125px; } #jezyki { display: block; margin: 30px 0 0 860px; width: 100px } #jezyki span { color: #fff; float: left; font-size: 10px; text-align: center; padding-left: 16px; display: block; } #menu { width: 960px; display: block; margin: 12px 0 10px 0px; } #menu a { color: #fff; font-size: 16px; width: 106px; height: 34px; display: block; float: left; text-align: center; } #content_sg { margin: auto 0 } #content_sg.hr { background: url(ref.placeholder) left top repeat-x; width: 960px; height: 4px; } #screen { display: block; width: 600px; height: 335px; float: left; } #screen div { width: 600px; height: 335px; position: absolute; display: none; } #screen a.info { position: absolute; width: 600px; height: 50px; margin-top: 285px; z-index: 11; background: #000; opacity: 0.7; filter: alpha(opacity=70); font-size: 18px; padding: 0 10px; } #content_sg.dzialy { text-align: right; padding: 7px; } #marki { margin: 0px; } #content_sg #marki a { display: block; float: left; width: 200px; height: 95px; text-align: center; } #content_sg.body { width: 650px; height: 440px; overflow: auto } #content_sg p { font-size: 13px; text-align: justify; color: #fff } #content_sg a { color: #ff0000; } #content { width: 960px; height: 450px; background: url(ref.placeholder) left top no-repeat; padding-top: 40px } #content.body { width: 650px; height: 440px; overflow: auto } #content p { font-size: 12px; text-align: justify; } #content a { color: #c00000; } #content2 { width: 960px; height: 485px; background: url(ref.placeholder) left top no-repeat; overflow: auto } #footer { width: 960px; margin: 0 auto; padding: 3px; } #footer.copyright { width: 500px; float: left; display: block; } #footer.author { width: 450px; display: block; float: left; text-align: right; }.bottom { width: 960px; background: url(ref.placeholder) left top no-repeat; padding: 7px 0px 0 0; height: 70px }.bottom p { color: #000; text-align: right; margin-right: 10px; } #galeria_tej { margin-left: 15px; } #referencje_lista a { display: block; float: left; color: #fff; text-decoration: none; text-align: center; width: 150px; height: 190px; opacity: 1; filter: alpha(opacity=85) } #logos { width: 232px; height: 200px; padding: 0; margin: 0px auto; overflow: hidden } #logos.roll { height: 200px; float: left } #logos.roll a { display: block; padding: 0px; margin: 0px; text-decoration: none; float: left; height: 200px; opacity: 1; filter: alpha(opacity=100); } #logos.roll a img { border: 0 } #logos_ref { width: 250px; height: 230px; padding: 0; margin: 0 0 0 80px; overflow: hidden; } #logos_ref.roll { height: 230px; float: left; } #logos_ref.roll a { display: block; padding: 0px; margin: 30px 5px 0px 5px; text-decoration: none; float: left; height: 200px; opacity: 1; filter: alpha(opacity=100); } #logos_ref.roll a img { border: 0 } #wysuwane { background: url(ref.placeholder) no-repeat scroll 0 0 transparent; padding: 10px; width: 235px; height: 402px; position: fixed; margin-top: -200px; left: 0px; top: 50%; z-index: 999999999; } #jquery-overlay { position: absolute; top: 0; left: 0; z-index: 90; width: 100%; height: 500px; } #jquery-lightbox { position: absolute; top: 0; left: 0; width: 100%; z-index: 100; text-align: center; } #jquery-lightbox a img { border: none; } #lightbox-container-image-box { position: relative; background-color: #fff; width: 250px; height: 250px; margin: 0 auto; } #lightbox-container-image { padding: 10px; } #lightbox-loading { position: absolute; top: 40%; left: 0%; height: 25%; width: 100%; text-align: center; } #lightbox-nav { position: absolute; top: 0; left: 0; height: 100%; width: 100%; z-index: 10; } #lightbox-container-image-box > #lightbox-nav { left: 0; } #lightbox-nav a { outline: none; } #lightbox-nav-btnPrev, #lightbox-nav-btnNext { width: 49%; height: 100%; zoom: 1; display: block; } #lightbox-nav-btnPrev { left: 0; float: left; } #lightbox-nav-btnNext { right: 0; float: right; } #lightbox-container-image-data-box { font: 10px Verdana, Helvetica, sans-serif; background-color: #fff; margin: 0 auto; overflow: auto; width: 100%; padding: 0 10px 0; } #lightbox-container-image-data { padding: 0 10px; color: #666; } #lightbox-container-image-data #lightbox-image-details { width: 70%; float: left; text-align: left; } #lightbox-image-details-caption { font-weight: bold; } #lightbox-image-details-currentNumber { display: block; clear: left; padding-bottom: 1.0em; } #lightbox-secNav-btnClose { width: 66px; float: right; padding-bottom: 0.7em; }\n",
            "      Bleu: 0.05\n",
            "\n",
            "Prediction: <html lang=\"en\"> <head> <title>The World of Science</title> <link href=\"https://example.com\" rel=\"canonical\"/> <link href=\"ref.placeholder\" rel=\"dns-prefetch\"/> <link href=\"ref.placeholder\" rel=\"dns-prefetch\"/> <link href=\"ref.placeholder\" rel=\"dns-prefetch\"/> <link href=\"ref.placeholder\" rel=\"dns-prefetch\"/> <link href=\"ref.placeholder\" rel=\"dns-prefetch\"/> <link href=\"ref.placeholder\" rel=\"dns-prefetch\"/> <link href=\"ref.placeholder\" rel=\"dns-prefetch\"/> <link href=\"ref.placeholder\" rel=\"dns-prefetch\"/> <link href=\"ref.placeholder\" rel=\"dns-prefetch\"/> <link href=\"ref.placeholder\" rel=\"dns-prefetch\"/> <link href=\"ref.placeholder\" rel=\"dns-prefetch\"/> <link href=\"ref.placeholder\" rel=\"dns-prefetch\"/> <link href=\"ref.placeholder\" rel=\"dns-prefetch\"/> <link href=\"ref.placeholder\" rel=\"dns-prefetch\"/> <link href=\"ref.placeholder\" rel=\"dns-prefetch\"/> <link href=\"ref.placeholder\" rel=\"dns-prefetch\"/> <link href=\"ref.placeholder\" rel=\"dns-prefetch\"/> <link href=\"ref.placeholder\" rel=\"dns-prefetch\"/> <link href=\"ref.placeholder\" rel=\"dns-prefetch\"/> <link href=\"ref.placeholder\" rel=\"dns-prefetch\"/> <link href=\"ref.placeholder\" rel=\"dns-prefetch\"/> <link href=\"ref.placeholder\" rel=\"dns-prefetch\"/> <link href=\"ref.placeholder\" rel=\"dns-prefetch\"/> <link href=\"ref.placeholder\" rel=\"dns-prefetch\"/> <link href=\"ref.placeholder\" rel=\"dns-prefetch\"/> <link href=\"ref.placeholder\" rel=\"dns-prefetch\"/> <link href=\"ref.placeholder\" rel=\"dns-prefetch\"/> <link href=\"ref.placeholder\" rel=\"dns-prefetch\"/> <link href=\"ref.placeholder\" rel=\"dns-prefetch\"/> <link href=\"ref.placeholder\" rel=\"dns-prefetch\"/> <link href=\"ref.placeholder\" rel=\"dns-prefetch\"/> <link href=\"ref.placeholder\" rel=\"dns-prefetch\"/> <link href=\"ref.placeholder\" rel=\"dns-prefetch\"/> <link href=\"ref.placeholder\" rel=\"dns-prefetch\"/> <link href=\"ref.placeholder\" rel=\"dns-prefetch\"/> <link href=\"ref.placeholder\" rel=\"dns-prefetch\"/> <link href=\"ref.placeholder\" rel=\"dns-prefetch\"/> <link href=\"ref.placeholder\" rel=\"dns-prefetch\"/> <link href=\"ref.placeholder\" rel=\"dns-prefetch\"/> <link href=\"ref.placeholder\" rel=\"dns-prefetch\"/> <link href=\"ref.placeholder\" rel=\"dns-prefetch\"/> <link href=\"ref.placeholder\" rel=\"dns-prefetch\"/> <link href=\"ref.placeholder\" rel=\"dns-prefetch\"/> <link href=\"ref.placeholder\" rel=\"dns-prefetch\"/> <link href=\"ref.placeholder\" rel=\"dns-prefetch\"/> <link href=\"ref.placeholder\" rel=\"dns-prefetch\"/> <link href=\"ref.placeholder\" rel=\"dns-prefetch\"/> <link href=\"ref.placeholder\" rel=\"dns-prefetch\"/> <link href=\"ref.placeholder\" rel=\"dns-prefetch\"/> <link href=\"ref.placeholder\" rel=\"dns-prefetch\"/> <link href=\"ref.placeholder\" rel=\"dns-prefetch\"/> <link href=\"ref.placeholder\" rel=\"dns-prefetch\"/> <link href=\"ref.placeholder\" rel=\"dns-prefetch\"/> <link href=\"ref.placeholder\" rel=\"dns-prefetch\"/> <link href=\"ref.placeholder\" rel=\"dns-prefetch\"/> <link href=\"ref.placeholder\" rel=\"dns-prefetch\"/> <link href=\"ref.placeholder\" rel=\"dns-prefetch\"/> <link href=\"ref.placeholder\" rel=\"dns-prefetch\"/> <link href=\"ref.placeholder\" rel=\"dns-prefetch\"/> <link href=\"ref.placeholder\" rel=\"dns-prefetch\"/> <link href=\"ref.placeholder\" rel=\"dns-prefetch\"/> <link href=\"ref.placeholder\" rel=\"dns-prefetch\"/> <link href=\"ref.placeholder\" rel=\"dns-prefetch\"/> <link href=\"ref.placeholder\" rel=\"dns-prefetch\"/> <link href=\"ref.placeholder\" rel=\"dns-prefetch\"/> <link href=\"ref.placeholder\" rel=\"dns-prefetch\"/> <link href=\"ref.placeholder\" rel=\"dns-prefetch\"/> <link href=\"ref.placeholder\" rel=\"dns-prefetch\"/> <link href=\"ref.placeholder\" rel=\"dns-prefetch\"/> <link href=\"ref.placeholder\" rel=\"dns-prefetch\"/> <link href=\"ref.placeholder\" rel=\"dns-prefetch\"/> <link href=\"ref.placeholder\" rel=\"dns-prefetch\"/> <link href=\"ref.placeholder\" rel=\"dns-prefetch\"/> <link href=\"ref.placeholder\" rel=\"dns-prefetch\"/> <link href=\"ref.placeholder\" rel=\"dns-prefetch\"/> <link href=\"ref.placeholder\" rel=\"dns-prefetch\"/> <link href=\"ref.placeholder\" rel=\"dns-prefetch\"/> <link href=\"ref.placeholder\" rel=\"dns-prefetch\"/> <link href=\"ref.placeholder\" rel=\"dns-prefetch\"/> <link href=\"ref.placeholder\" rel=\"dns-prefetch\"/> <link href=\"ref.placeholder\" rel=\"dns-prefetch\"/> <link href=\"ref.placeholder\" rel=\"dns-prefetch\"/> <link href=\"ref.placeholder\" rel=\"dns-prefetch\"/> <link href=\"ref.placeholder\" rel=\"dns-prefetch\"/> <link href=\"ref.placeholder\" rel=\"dns-prefetch\"/> <link href=\"ref.placeholder\" rel=\"dns-prefetch\"/> <link href=\"ref.placeholder\" rel=\"dns-prefetch\"/> <link href=\"ref.placeholder\" rel=\"dns-prefetch\"/> <link href=\"ref.placeholder\" rel=\"dns-prefetch\"/> <link href=\"ref.placeholder\" rel=\"dns-prefetch\"/> <link href=\"ref.placeholder\" rel=\"dns-prefetch\"/> <link href=\"ref.placeholder\" rel=\"dns-prefetch\"/> <link href=\"ref.placeholder\" rel=\"dns-prefetch\"/> <link href=\"ref.placeholder\" rel=\"dns-prefetch\"/> <link href=\"ref.placeholder\" rel=\"dns-prefetch\"/> <link href=\"ref.placeholder\" rel=\"dns-prefetch\"/> <link href=\"ref.placeholder\" rel=\"dns-prefetch\"/> <link href=\"ref.placeholder\" rel=\"dns-prefetch\"/> <link href=\"ref.placeholder\" rel=\"dns-prefetch\"/> <link href=\"ref.placeholder\" rel=\"dns-prefetch\"/> <link href=\"ref.placeholder\" rel=\"dns-prefetch\"/> <link href=\"ref.placeholder\" rel=\"dns-prefetch\"/> <link href=\"ref.placeholder\" rel=\"dns-prefetch\"/> <link href=\"ref.placeholder\" rel=\"dns-prefetch\"/> <link href=\"ref.placeholder\" rel=\"dns-prefetch\"/> <link href=\"ref.placeholder\" rel=\"dns-prefetch\"/> <link href=\"ref.placeholder\" rel=\"dns-prefetch\"/> <link href=\"ref.placeholder\" rel=\"dns-prefetch\"/> <link href=\"ref.placeholder\" rel=\"dns-prefetch\"/> <link href=\"ref.placeholder\" rel=\"dns-prefetch\"/> <link href=\"ref.placeholder\" rel=\"dns-prefetch\"/> <link href=\"ref.placeholder\" rel=\"dns-prefetch\"/> <link href=\"ref.placeholder\" rel=\"dns-prefetch\"/> <link href=\"ref.placeholder\" rel=\"dns-prefetch\"/> <link href=\"ref.placeholder\" rel=\"dns-prefetch\"/> <link href=\"ref.placeholder\" rel=\"dns-prefetch\"/> <link href=\"ref.placeholder\" rel=\"dns-prefetch\"/> <link href=\"ref.placeholder\" rel=\"dns-prefetch\"/> <link href=\"ref.placeholder\" rel=\"dns-prefetch\"/> <link href=\"ref.placeholder\" rel=\"dns-prefetch\"/> <link href=\"ref.placeholder\" rel=\"dns-prefetch\"/> <link href=\"ref.placeholder\" rel=\"dns-prefetch\"/> <link href=\"ref.placeholder\" rel=\"dns-prefetch\"/> <link href=\"ref.placeholder\" rel=\"dns-prefetch\"/> <link href=\"ref.placeholder\" rel=\"dns-prefetch\"/> <link href=\"ref.placeholder\" rel=\"dns-prefetch\"/> <link href=\"ref.placeholder\" rel=\"dns-prefetch\"/> <link href=\"ref.placeholder\" rel=\"dns-prefetch\"/> <link href=\"ref.placeholder\" rel=\"dns-prefetch\"/> <link href=\"ref.placeholder\" rel=\"dns-prefetch\"/> <link href=\"ref.placeholder\" rel=\"dns-prefetch\"/> <link href=\"ref.placeholder\" rel=\"dns-prefetch\"/> <link href=\"ref.placeholder\" rel=\"dns-prefetch\"/> <link href=\"ref.placeholder\" rel=\"dns-prefetch\"/> <link href=\"ref.placeholder\" rel=\"dns-prefetch\"/> <link href=\"ref.placeholder\" rel=\"dns-prefetch\"/> <link href=\"ref.placeholder\" rel=\"dns-prefetch\"/> <link href=\"ref.placeholder\" rel=\"dns-prefetch\"/> <link href=\"ref.placeholder\" rel=\"dns-prefetch\"/> <link href=\"ref.placeholder\" rel=\"dns-prefetch\"/> <link href=\"ref.placeholder\" rel=\"dns-prefetch\"/> <link href=\"ref.placeholder\" rel=\"dns-prefetch\"/> <link href=\"ref.placeholder\" rel=\"dns-prefetch\"/> <link href=\"ref.placeholder\" rel=\"dns-prefetch\"/> <link href=\"ref.placeholder\" rel=\"dns-prefetch\"/> <link href=\"ref.placeholder\" rel=\"dns-prefetch\"/> <link href=\"ref.placeholder\" rel=\"dns-prefetch\"/> <link href=\"ref.placeholder\" rel=\"dns-prefetch\"/> <link href=\"ref.placeholder\" rel=\"dns-prefetch\"/> <link href=\"ref.placeholder\" rel=\"dns-prefetch\"/> <link href=\"ref.placeholder\" rel=\"dns-prefetch\"/> <link href=\"ref.placeholder\" rel=\"dns-prefetch\"/> <link href=\"ref.placeholder\" rel=\"dns-prefetch\"/> <link href=\"ref.placeholder\" rel=\"dns-prefetch\"/> <link href=\"ref.placeholder\" rel=\"dns-prefetch\"/> <link href=\"ref.placeholder\" rel=\"dns-prefetch\"/> <link href=\"ref.placeholder\" rel=\"dns-prefetch\"/> <link href=\"ref.placeholder\" rel=\"dns-prefetch\"/> <link href=\"ref.placeholder\" rel=\"dns-prefetch\"/> <link href=\"ref.placeholder\" rel=\"dns-prefetch\"/> <link href=\"ref.placeholder\" rel=\"dns-prefetch\"/> <link href=\"ref.placeholder\" rel=\"dns-prefetch\"/> <link href=\"ref.placeholder\" rel=\"dns-prefetch\"/> <link href=\"ref.placeholder\" rel=\"dns-prefetch\"/> <link href=\"ref.placeholder\" rel=\"dns-prefetch\"/> <link href=\"ref.placeholder\" rel=\"dns-prefetch\"/> <link href=\"ref.placeholder\" rel=\"dns-prefetch\"/> <link href=\"ref.placeholder\" rel=\"dns-prefetch\"/> <link href=\"ref.placeholder\" rel=\"dns-prefetch\"/> <link href=\"ref.placeholder\" rel=\"dns-prefetch\"/> <link href=\"ref.placeholder\" rel=\"dns-prefetch\"/> <link href=\"ref.placeholder\" rel=\"dns-prefetch\"/> <link href=\"ref.placeholder\" rel=\"dns-prefetch\"/> <link href=\"ref.placeholder\" rel=\"dns-prefetch\"/> <link href=\"ref.placeholder\" rel=\"dns-prefetch\"/> <link href=\"ref.placeholder\" rel=\"dns-prefetch\"/> <link href=\"ref.placeholder\" rel=\"dns-prefetch\"/> <link href=\"ref.placeholder\" rel=\"dns-prefetch\"/> <link href=\"ref.placeholder\" rel=\"dns-prefetch\"/> <link href=\"ref.placeholder\" rel=\"dns-prefetch\"/> <link href=\"ref.placeholder\" rel=\"dns-prefetch\"/> <link href=\"ref.placeholder\" rel=\"dns-prefetch\"/> <link href=\"ref.placeholder\" rel=\"dns-prefetch\"/> <link href=\"ref.placeholder\" rel=\"dns-prefetch\"/> <link href=\"ref.placeholder\" rel=\"dns-prefetch\"/> <link href=\"ref.placeholder\" rel=\"dns-prefetch\"/> <link href=\"ref.placeholder\" rel=\"dns-prefetch\"/> <link href=\"ref.placeholder\" rel=\"dns-prefetch\"/> <link href=\"ref.placeholder\" rel=\"dns-prefetch\"/> <link href=\"ref.placeholder\" rel=\"dns-prefetch\"/> <link href=\"ref.placeholder\" rel=\"dns-prefetch\"/> <link href=\"ref.placeholder\" rel=\"dns-prefetch\"/> <link href=\"ref.placeholder\" rel=\"dns-prefetch\"/> <link href=\"ref.placeholder\" rel=\"dns-prefetch\"/> <link href=\"ref.placeholder\" rel=\"dns-prefetch\"/> <link href=\"ref.placeholder\" rel=\"dns-prefetch\"/> <link href=\"ref.placeholder\" rel=\"dns-prefetch\"/> <link href=\"ref.placeholder\" rel=\"dns-prefetch\"/> <link href=\"ref.placeholder\" rel=\"dns-prefetch\"/> <link href=\"ref.placeholder\" rel=\"dns-prefetch\"/> <link href=\"ref.placeholder\" rel=\"dns-prefetch\"/> <link href=\"ref.placeholder\" rel=\"dns-prefetch\"/> <link href=\"ref.placeholder\" rel=\"dns-prefetch\"/> <link href=\"ref.placeholder\" rel=\"dns-prefetch\"/> <link href=\"ref.placeholder\" rel=\"dns-prefetch\"/> <link href=\"ref.placeholder\" rel=\"dns-prefetch\"/> <link href=\"ref.placeholder\" rel=\"dns-prefetch\"/> <link href=\"ref.placeholder\" rel=\"dns-prefetch\"/> <link href=\"ref.placeholder\" rel=\"dns-prefetch\"/> <link href=\"ref.placeholder\" rel=\"dns-prefetch\"/> <link href=\"ref.placeholder\" rel=\"dns-prefetch\"/> <link href=\"ref.placeholder\" rel=\"dns-prefetch\"/> <link href=\"ref.placeholder\" rel=\"dns-prefetch\"/> <link href=\"ref.placeholder\" rel=\"dns-prefetch\"/> <link href=\"ref.placeholder\" rel=\"dns-prefetch\"/> <link href=\"ref.placeholder\" rel=\"dns-prefetch\"/> <link href=\"ref.placeholder\" rel=\"dns-prefetch\"/> <link href=\"ref.placeholder\" rel=\"dns-prefetch\"/> <link href=\"ref.placeholder\" rel=\"dns-prefetch\"/> <link href=\"ref.placeholder\" rel=\"dns-prefetch\"/> <link href=\"ref.placeholder\" rel=\"dns-prefetch\"/> <link href=\"ref.placeholder\" rel=\"dns-prefetch\"/> <link href=\"ref.placeholder\" rel=\"dns-prefetch\"/> <link href=\"ref.placeholder\" rel=\"dns-prefetch\"/> <link href=\"ref.placeholder\" rel=\"dns-prefetch\"/> <link href=\"ref.placeholder\" rel=\"dns-prefetch\"/> <link href=\"ref.placeholder\" rel=\"dns-prefetch\"/> <link href=\"ref.placeholder\" rel=\"dns-prefetch\"/> <link href=\"ref.placeholder\" rel=\"dns-prefetch\"/> <link href=\"ref.placeholder\" rel=\"dns-prefetch\"/> <link href=\"ref.placeholder\" rel=\"dns-prefetch\"/> <link href=\"ref.placeholder\" rel=\"dns-prefetch\"/> <link href=\"ref.placeholder\" rel=\"dns-prefetch\"/> <link href=\"ref.placeholder\" rel=\"dns-prefetch\"/> <link href=\"ref.placeholder\" rel=\"dns-prefetch\"/> <link href=\"ref.placeholder\" rel=\"dns-prefetch\"/> <link href=\"ref.placeholder\" rel=\"dns-prefetch\"/> <link href=\"ref.placeholder\" rel=\"dns-prefetch\"/> <link href=\"ref.placeholder\" rel=\"dns-prefetch\"/> <link href=\"ref.placeholder\" rel=\"dns-prefetch\"/> <link href=\"ref.placeholder\" rel=\"dns-prefetch\"/> <link href=\"ref.placeholder\" rel=\"dns-prefetch\"/> <link href=\"ref.placeholder\" rel=\"dns-prefetch\"/> <link href=\"ref.placeholder\" rel=\"dns-prefetch\"/> <link href=\"ref.placeholder\" rel=\"dns-prefetch\"/> <link href=\"ref.placeholder\" rel=\"dns-prefetch\"/> <link href=\"ref.placeholder\" rel=\"dns-prefetch\"/> <link href=\"ref.placeholder\" rel=\"dns-prefetch\"/> <link href=\"ref.placeholder\" rel=\"dns-prefetch\"/> <link href=\"ref.placeholder\" rel=\"dns-prefetch\"/> <link href=\"ref.placeholder\" rel=\"dns-prefetch\"/> <link href=\"ref.placeholder\" rel=\"dns-prefetch\"/> <link href=\"ref.placeholder\" rel=\"dns-prefetch\"/> <link href=\"ref.placeholder\" rel=\"dns-prefetch\"/> <link href=\"ref.placeholder\" rel=\"dns-prefetch\"/> <link href=\"ref.placeholder\" rel=\"dns-prefetch\"/> <link href=\"ref.placeholder\" rel=\"dns-prefetch\"/> <link href=\"ref.placeholder\" rel=\"dns-prefetch\"/> <link href=\"ref.placeholder\" rel=\"dns-prefetch\"/> <link href=\"ref.placeholder\" rel=\"dns-prefetch\"/> <link href=\"ref.placeholder\" rel=\"dns-prefetch\"/> <link href=\"ref.placeholder\" rel=\"dns-prefetch\"/> <link href=\"ref.placeholder\" rel=\"dns-prefetch\"/> <link href=\"ref.placeholder\" rel=\"dns-prefetch\"/> <link href=\"ref.placeholder\" rel=\"dns-prefetch\"/> <link href=\"ref.placeholder\" rel=\"dns-prefetch\"/> <link href=\"ref.placeholder\" rel=\"dns-prefetch\"/> <link href=\"ref.placeholder\" rel=\"dns-prefetch\"/> <link href=\"ref.placeholder\" rel=\"dns-prefetch\"/> <link href=\"ref.placeholder\" rel=\"dns-prefetch\"/> <link href=\"ref.placeholder\" rel=\"dns-prefetch\"/> <link href=\"ref.placeholder\" rel=\"dns-prefetch\"/> <link href=\"ref.placeholder\" rel=\"dns-prefetch\"/> <link href=\"ref.placeholder\" rel=\"dns-prefetch\"/> <link href=\"ref.placeholder\" rel=\"dns-prefetch\"/> <link href=\"ref.placeholder\" rel=\"dns-prefetch\"/> <link href=\"ref.placeholder\" rel=\"dns-prefetch\"/> <link href=\"ref.placeholder\" rel=\"dns-prefetch\"/> <link href=\"ref.placeholder\" rel=\"dns-prefetch\"/> <link href=\"ref.placeholder\" rel=\"dns-prefetch\"/> <link href=\"ref.placeholder\" rel=\"dns-prefetch\"/> <link href=\"ref.placeholder\" rel=\"dns-prefetch\"/> <link href=\"ref.placeholder\" rel=\"dns-prefetch\"/> <link href=\"ref.placeholder\" rel=\"dns-prefetch\"/> <link href=\"ref.placeholder\" rel=\"dns-prefetch\"/> <link href=\"ref.placeholder\" rel=\"dns-prefetch\"/> <link href=\"ref.placeholder\" rel=\"dns-prefetch\"/> <link href=\"ref.placeholder\" rel=\"dns-prefetch\"/> <link href=\"ref.placeholder\" rel=\"dns-prefetch\"/> <link href=\"ref.placeholder\" rel=\"dns-prefetch\"/> <link href=\"ref.placeholder\" rel=\"dns-prefetch\"/> <link href=\"ref.placeholder\" rel=\"dns-prefetch\"/> <link href=\"ref.placeholder\" rel=\"dns-prefetch\"/> <link href=\"ref.placeholder\" rel=\"dns-prefetch\"/> <link href=\"ref.placeholder\" rel=\"dns-prefetch\"/> <link href=\"ref.placeholder\" rel=\"dns-prefetch\"/> <link href=\"ref.placeholder\" rel=\"dns-prefetch\"/> <link href=\"ref.placeholder\" rel=\"dns-prefetch\"/> <link href=\"ref.placeholder\" rel=\"dns-prefetch\"/> <link href=\"ref.placeholder\" rel=\"dns-prefetch\"/> <link href=\"ref.placeholder\" rel=\"dns-prefetch\"/> <link href=\"ref.placeholder\" rel=\"dns-prefetch\"/> <link href=\"ref.placeholder\" rel=\"dns-prefetch\"/> <link href=\"ref.placeholder\" rel=\"dns-prefetch\"/> <link href=\"ref.placeholder\" rel=\"dns-prefetch\"/> <link href=\"ref.placeholder\" rel=\"dns-prefetch\"/> <link href=\"ref.placeholder\" rel=\"dns-prefetch\"/> <link href=\"ref.placeholder\" rel=\"dns-prefetch\"/> <link href=\"ref.placeholder\" rel=\"dns-prefetch\"/> <link href=\"ref.placeholder\" rel=\"dns-prefetch\"/> <link href=\"ref.placeholder\" rel=\"dns-prefetch\"/> <link href=\"ref.placeholder\" rel=\"dns-prefetch\"/> <link href=\"ref.placeholder\" rel=\"dns-prefetch\"/> <link href=\"ref.placeholder\" rel=\"dns-prefetch\"/> <link href=\"ref.placeholder\" rel=\"dns-prefetch\"/> <link href=\"ref.placeholder\" rel=\"dns-prefetch\"/> <link href=\"ref.placeholder\" rel=\"dns-prefetch\"/> <link href=\"ref.placeholder\" rel=\"dns-prefetch\"/> <link href=\"ref.placeholder\" rel=\"dns-prefetch\"/> <link href=\"ref.placeholder\" rel=\"dns-prefetch\"/> <link href=\"ref.placeholder\" rel=\"dns-prefetch\"/> <link href=\"ref.placeholder\" rel=\"dns-prefetch\"/> <link href=\"ref.placeholder\" rel=\"dns-prefetch\"/> <link href=\"ref.placeholder\" rel=\"dns-prefetch\"/> <link href=\"ref.placeholder\" rel=\"dns-prefetch\"/> <link href=\"ref.placeholder\" rel=\"dns-prefetch\"/> <link href=\"ref.placeholder\" rel=\"dns-prefetch\"/> <link href=\"ref.placeholder\" rel=\"dns-prefetch\"/> <link href=\"ref.placeholder\" rel=\"dns-prefetch\"/> <link href=\"ref.placeholder\" rel=\"dns-prefetch\"/> <link href=\"ref.placeholder\" rel=\"dns-prefetch\"/> <link href=\"ref.placeholder\" rel=\"dns-prefetch\"/> <link href=\"ref.placeholder\" rel=\"dns-prefetch\"/> <link href=\"ref.placeholder\" rel=\"dns-prefetch\"/> <link href=\"ref.placeholder\" rel=\"dns-prefetch\"/> <link href=\"ref.placeholder\" rel=\"dns-prefetch\"/> <link href=\"ref.placeholder\" rel=\"dns-prefetch\"/> <link href=\"ref.placeholder\" rel=\"dns-prefetch\"/> <link href=\"ref.placeholder\" rel=\"dns-prefetch\"/> <link href=\"ref.placeholder\" rel=\"dns-prefetch\"/> <link href=\"ref.placeholder\" rel=\"dns-prefetch\"/> <link href=\"ref.placeholder\" rel=\"dns-prefetch\"/> <link href=\"ref.placeholder\" rel=\"dns-prefetch\"/> <link href=\"ref.placeholder\" rel=\"dns-prefetch\"/> <link href=\"ref.placeholder\" rel=\"dns-prefetch\"/> <link href=\"ref.placeholder\" rel=\"dns-prefetch\"/> <link href=\"ref.placeholder\" rel=\"dns-prefetch\"/> <link href=\"ref.placeholder\" rel=\"dns-prefetch\"/> <link href=\"ref.placeholder\" rel=\"dns-prefetch\"/> <link href=\"ref.placeholder\" rel=\"dns-prefetch\"/> <link href=\"ref.placeholder\" rel=\"dns-prefetch\"/> <link href=\"ref.placeholder\" rel=\"dns-prefetch\"/> <link href=\"ref.placeholder\" rel=\"dns-prefetch\"/> <link href=\"ref.placeholder\" rel=\"dns-prefetch\"/> <link href=\"ref.placeholder\" rel=\"dns-prefetch\"/> <link href=\"ref.placeholder\" rel=\"dns-prefetch\"/> <link href=\"ref.placeholder\" rel=\"dns-prefetch\"/> <link href=\"ref.placeholder\" rel=\"dns-prefetch\"/> <link href=\"ref.placeholder\" rel=\"dns-prefetch\"/> <link href=\"ref.placeholder\" rel=\"dns-prefetch\"/> <link href=\"ref.placeholder\" rel=\"dns-prefetch\"/> <link href=\"ref.placeholder\" rel=\"dns-prefetch\"/> <link href=\"ref.placeholder\" rel=\"dns-prefetch\"/> <link href=\"ref.placeholder\" rel=\"dns-prefetch\"/> <link href=\"ref.placeholder\" rel=\"dns-prefetch\"/> <link href=\"ref.placeholder\" rel=\"dns-prefetch\"/> <link href=\"ref.placeholder\" rel=\"dns-prefetch\"/> <link href=\"ref.placeholder\" rel=\"dns-prefetch\"/> <link href=\"ref.placeholder\" rel=\"dns-prefetch\"/> <link href=\"ref.placeholder\" rel=\"dns-prefetch\"/> <link href=\"ref.placeholder\" rel=\"dns-prefetch\"/> <link href=\"ref.placeholder\" rel=\"dns-prefetch\"/> <link href=\"ref.placeholder\" rel=\"dns-prefetch\"/> <link href=\"ref.placeholder\" rel=\"dns-prefetch\"/> <link href=\"ref.placeholder\" rel=\"dns-prefetch\"/> <link href=\"ref.placeholder\" rel=\"dns-prefetch\"/> <link href=\"ref.placeholder\" rel=\"dns-prefetch\"/> <link href=\"ref.placeholder\" rel=\"dns-prefetch\"/> <link href=\"ref.placeholder\" rel=\"dns-prefetch\"/> <link href=\"ref.placeholder\" rel=\"dns-prefetch\"/> <link href=\"ref.placeholder\" rel=\"dns-prefetch\"/> <link href=\"ref.placeholder\" rel=\"dns-prefetch\"/> <link href=\"ref.placeholder\" rel=\"dns-prefetch\"/> <link href=\"ref.placeholder\" rel=\"dns-prefetch\"/> <link href=\"ref.placeholder\" rel=\"dns-prefetch\"/> <link href=\"ref.placeholder\" rel=\"dns-prefetch\"/> <link href=\"ref.placeholder\" rel=\"dns-prefetch\"/> <link href=\"ref.placeholder\" rel=\"dns-prefetch\"/> <link href=\"ref.placeholder\" rel=\"dns-prefetch\"/> <link href=\"ref.placeholder\" rel=\"dns-prefetch\"/> <link href=\"ref.placeholder\" rel=\"dns-prefetch\"/> <link href=\"ref.placeholder\" rel=\"dns-prefetch\"/> <link href=\"ref.placeholder\" rel=\"dns-prefetch\"/> <link href=\"ref.placeholder\" rel=\"dns-prefetch\"/> <link href=\"ref.placeholder\" rel=\"dns-prefetch\"/> <link href=\"ref.placeholder\" rel=\"dns-prefetch\"/> <link href=\"ref.placeholder\" rel=\"dns-prefetch\"/> <link href=\"ref.placeholder\" rel=\"dns-prefetch\"/> <link href=\"ref.placeholder\" rel=\"dns-prefetch\"/> <link href=\"ref.placeholder\" rel=\"dns-prefetch\"/> <link href=\"ref.placeholder\" rel=\"dns-prefetch\"/> <link href=\"ref.placeholder\" rel=\"dns-prefetch\"/> <link href=\"ref.placeholder\" rel=\"dns-prefetch\"/> <link href=\"ref.placeholder\" rel=\"dns-prefetch\"/> <link href=\"ref.placeholder\" rel=\"dns-prefetch\"/> <link href=\"ref.placeholder\" rel=\"dns-prefetch\"/> <link href=\"ref.placeholder\" rel=\"dns-prefetch\"/> <link href=\"ref.placeholder\" rel=\"dns-prefetch\"/> <link href=\"ref.placeholder\" rel=\"dns-prefetch\"/> <link href=\"ref.placeholder\" rel=\"dns-prefetch\"/> <link href=\"ref.placeholder\" rel=\"dns-prefetch\"/> <link href=\"ref.placeholder\" rel=\"dns-prefetch\"/> <link href=\"ref.placeholder\" rel=\"dns-prefetch\"/> <link href=\"ref.placeholder\" rel=\"dns-prefetch\"/> <link href=\"ref.placeholder\" rel=\"dns-prefetch\"/> <link href=\"ref.placeholder\" rel=\"dns-prefetch\"/> <link href=\"ref.placeholder\" rel=\"dns-prefetch\"/> <link href=\"ref.placeholder\" rel=\"dns-prefetch\"/> <link href=\"ref.placeholder\" rel=\"dns-prefetch\"/> <link href=\"ref.placeholder\" rel=\"dns-prefetch\"/> <link href=\"ref.placeholder\" rel=\"dns-prefetch\"/> <link href=\"ref.placeholder\" rel=\"dns-prefetch\"/> <link href=\"ref.placeholder\" rel=\"dns-prefetch\"/> <link href=\"ref.placeholder\" rel=\"dns-prefetch\"/> <link href=\"ref.placeholder\" rel=\"dns-prefetch\"/> <link href=\"ref.placeholder\" rel=\"dns-prefetch\"/> <link href=\"ref.placeholder\" rel=\"dns-prefetch\"/> <link href=\"ref.placeholder\" rel=\"dns-prefetch\"/> <link href=\"ref.placeholder\" rel=\"dns-prefetch\"/> <link href=\"ref.placeholder\" rel=\"dns-prefetch\"/> <link href=\"ref.placeholder\" rel=\"dns-prefetch\"/> <link href=\"ref.placeholder\" rel=\"dns-prefetch\"/> <link href=\"ref.placeholder\" rel=\"dns-prefetch\"/> <link href=\"ref.placeholder\" rel=\"dns-prefetch\"/> <link href=\"ref.placeholder\" rel=\"dns-prefetch\"/> <link href=\"ref.placeholder\" rel=\"dns-prefetch\"/> <link href=\"ref.placeholder\" rel=\"dns-prefetch\"/> <link href=\"ref.placeholder\" rel=\"dns-prefetch\"/> <link href=\"ref.placeholder\" rel=\"dns-prefetch\"/> <link href=\"ref.placeholder\" rel=\"dns-prefetch\"/> <link href=\"ref.placeholder\" rel=\"dns-prefetch\"/> <link href=\"ref.placeholder\" rel=\"dns-prefetch\"/> <link href=\"ref.placeholder\" rel=\"dns-prefetch\"/> <link href=\"ref.placeholder\" rel=\"dns-prefetch\"/> <link href=\"ref.placeholder\" rel=\"dns-prefetch\"/> <link href=\"ref.placeholder\" rel=\"dns-prefetch\"/> <link href=\"ref.placeholder\" rel=\"dns-prefetch\"/> <link href=\"ref.placeholder\" rel=\"dns-prefetch\"/> <link href=\"ref.placeholder\" rel=\"dns-prefetch\"/> <link href=\"ref.placeholder\" rel=\"dns-prefetch\"/> <link href=\"ref.placeholder\" rel=\"dns-prefetch\"/> <link href=\"ref.placeholder\" rel=\"dns-prefetch\"/> <link href=\"ref.placeholder\" rel=\"dns-prefetch\"/> <link href=\"ref.placeholder\" rel=\"dns-prefetch\"/> <link href=\"ref.placeholder\" rel=\"dns-prefetch\"/> <link href=\"ref.placeholder\" rel=\"dns-prefetch\"/> <link href=\"ref.placeholder\" rel=\"dns-prefetch\"/> <link href=\"ref.placeholder\" rel=\"dns-prefetch\"/> <link href=\"ref.placeholder\" rel=\"dns-prefetch\"/> <link href=\"ref.placeholder\" rel=\"dns-prefetch\"/> <link href=\"ref.placeholder\" rel=\"dns-prefetch\"/> <link href=\"ref.placeholder\" rel=\"dns-prefetch\"/> <link href=\"ref.placeholder\" rel=\"dns-prefetch\"/> <link href=\"ref.placeholder\" rel=\"dns-prefetch\"/> <link href=\"ref.placeholder\" rel=\"dns-prefetch\"/> <link href=\"ref.placeholder\" rel=\"dns-prefetch\"/> <link href=\"ref.placeholder\" rel=\"dns-prefetch\"/> <link href=\"ref.placeholder\" rel=\"dns-prefetch\"/> <link href=\"ref.placeholder\" rel=\"dns-prefetch\"/> <link href=\"ref.placeholder\" rel=\"dns-prefetch\"/> <link href=\"ref.placeholder\" rel=\"dns-prefetch\"/> <link href=\"ref.placeholder\" rel=\"dns-prefetch\"/> <link href=\"ref.placeholder\" rel=\"dns-prefetch\"/> <link href=\"ref.placeholder\" rel=\"dns-prefetch\"/> <link href=\"ref.placeholder\" rel=\"dns-prefetch\"/> <link href=\"ref.placeholder\" rel=\"dns-prefetch\"/> <link href=\"ref.placeholder\" rel=\"dns-prefetch\"/> <link href=\"ref.placeholder\" rel=\"dns-prefetch\"/> <link href=\"ref.placeholder\" rel=\"dns-prefetch\"/> <link href=\"ref.placeholder\" rel=\"dns-prefetch\"/> <link href=\"ref.placeholder\" rel=\"dns-prefetch\"/> <link href=\"ref.placeholder\" rel=\"dns-prefetch\"/> <link href=\"ref.placeholder\" rel=\"dns-prefetch\"/> <link href=\"ref.placeholder\" rel=\"dns-prefetch\"/> <link href=\"ref.placeholder\" rel=\"dns-prefetch\"/> <link href=\"ref.placeholder\" rel=\"dns-prefetch\"/> <link href=\"ref.placeholder\" rel=\"dns-prefetch\"/> <link href=\"ref.placeholder\" rel=\"dns-prefetch\"/> <link href=\"ref.placeholder\" rel=\"dns-prefetch\"/> <link href=\"ref.placeholder\" rel=\"dns-prefetch\"/> <link href=\"ref.placeholder\" rel=\"dns-prefetch\"/> <link href=\"ref.placeholder\" rel=\"dns-prefetch\"/> <link href=\"ref.placeholder\" rel=\"dns-prefetch\"/> <link href=\"ref.placeholder\" rel=\"dns-prefetch\"/> <link href=\"ref.placeholder\" rel=\"dns-prefetch\"/> <link href=\"ref.placeholder\" rel=\"dns-prefetch\"/> <link href=\"ref.placeholder\" rel=\"dns-prefetch\"/> <link href=\"ref.placeholder\" rel=\"dns-prefetch\"/> <link href=\"ref.placeholder\" rel=\"dns-prefetch\"/> <link href=\"ref.placeholder\" rel=\"dns-prefetch\"/> <link href=\"ref.placeholder\" rel=\"dns-prefetch\"/> <link href=\"ref.placeholder\" rel=\"dns-prefetch\"/> <link href=\"ref.placeholder\" rel=\"dns-prefetch\"/> <link href=\"ref.placeholder\" rel=\"dns-prefetch\"/> <link href=\"ref.placeholder\" rel=\"dns-prefetch\"/> <link href=\"ref.placeholder\" rel=\"dns-prefetch\"/> <link href=\"ref.placeholder\" rel=\"dns-prefetch\"/> <link href=\"ref.placeholder\" rel=\"dns-prefetch\"/> <link href=\"ref.placeholder\" rel=\"dns-prefetch\"/> <link href=\"ref.placeholder\" rel=\"dns-prefetch\"/> <link href=\"ref.placeholder\" rel=\"dns-prefetch\"/> <link href=\"ref.placeholder\" rel=\"dns-prefetch\"/> <link href=\"ref.placeholder\" rel=\"dns-prefetch\"/> <link href=\"ref.placeholder\" rel=\"dns-prefetch\"/> <link href=\"ref.placeholder\" rel=\"dns-prefetch\"/> <link href=\"ref.placeholder\" rel=\"dns-prefetch\"/> <link href=\"ref.placeholder\" rel=\"dns-prefetch\"/> <link href=\"ref.placeholder\" rel=\"dns-prefetch\"/> <link href=\"ref.placeholder\" rel=\"dns-prefetch\"/> <link href=\"ref.placeholder\" rel=\"dns-prefetch\"/> <link href=\"ref.placeholder\" rel=\"dns-prefetch\"/> <link href=\"ref.placeholder\" rel=\"dns-prefetch\"/> <link href=\"ref.placeholder\" rel=\"dns-prefetch\"/> <link href=\"ref.placeholder\" rel=\"dns-prefetch\"/> <link href=\"ref.placeholder\" rel=\"dns-prefetch\"/> <link href=\"ref.placeholder\" rel=\"dns-prefetch\"/> <link href=\"ref.placeholder\" rel=\"dns-prefetch\"/> <link href=\"ref.placeholder\" rel=\"dns-prefetch\"/> <link href=\"ref.placeholder\" rel=\"dns-prefetch\"/> <link href=\"ref.placeholder\" rel=\"dns-prefetch\"/> <link href=\"ref.placeholder\" rel=\"dns-prefetch\"/> <link href=\"ref.placeholder\" rel=\"dns-prefetch\"/> <link href=\"ref.placeholder\" rel=\"dns-prefetch\"/> <link href=\"ref.placeholder\" rel=\"dns-prefetch\"/> <link href=\"ref.placeholder\" rel=\"dns-prefetch\"/> <link href=\"ref.placeholder\" rel=\"dns-prefetch\"/> <link href=\"ref.placeholder\" rel=\"dns-prefetch\"/> <link href=\"ref.placeholder\" rel=\"dns-prefetch\"/> <link href=\"ref.placeholder\" rel=\"dns-prefetch\"/> <link href=\"ref.placeholder\" rel=\"dns-prefetch\"/> <link href=\"ref.placeholder\" rel=\"dns-prefetch\"/> <link href=\"ref.placeholder\" rel=\"dns-prefetch\"/> <link href=\"ref.placeholder\" rel=\"dns-prefetch\"/> <link href=\"ref.placeholder\" rel=\"dns-prefetch\"/> <link href=\"ref.placeholder\" rel=\"dns-prefetch\"/> <link href=\"ref.placeholder\" rel=\"dns-prefetch\"/> <link href=\"ref.placeholder\" rel=\"dns-prefetch\"/> <link href=\"ref.placeholder\" rel=\"dns-prefetch\"/> <link href=\"ref.placeholder\" rel=\"dns-prefetch\"/> <link href=\"ref.placeholder\" rel=\"dns-prefetch\"/> <link href=\"ref.placeholder\" rel=\"dns-prefetch\"/> <link href=\"ref.placeholder\" rel=\"dns-prefetch\"/> <link href=\"ref.placeholder\" rel=\"dns-prefetch\"/> <link href=\"ref.placeholder\" rel=\"dns-prefetch\"/> <link href=\"ref.placeholder\" rel=\"dns-prefetch\"/> <link href=\"ref.placeholder\" rel=\"dns-prefetch\"/> <link href=\"ref.placeholder\" rel=\"dns-prefetch\"/> <link href=\"ref.placeholder\" rel=\"dns-prefetch\"/> <link href=\"ref.placeholder\" rel=\"dns-prefetch\"/> <link href=\"ref.placeholder\" rel=\"dns-prefetch\"/> <link href=\"ref.placeholder\" rel=\"dns-prefetch\"/> <link href=\"ref.placeholder\" rel=\"dns-prefetch\"/> <link href=\"ref.placeholder\" rel=\"dns-prefetch\"/> <link href=\"ref.placeholder\" rel=\"dns-prefetch\"/> <link href=\"ref.placeholder\" rel=\"dns-prefetch\"/> <link href=\"ref.placeholder\" rel=\"dns-prefetch\"/> <link href=\"ref.placeholder\" rel=\"dns-prefetch\"/> <link href=\"ref.placeholder\" rel=\"dns-prefetch\"/> <link href=\"ref.placeholder\" rel=\"dns-prefetch\"/> <link href=\"ref.placeholder\" rel=\"dns-prefetch\"/> <link href=\"ref.placeholder\" rel=\"dns-prefetch\"/> <link href=\"ref.placeholder\" rel=\"dns-prefetch\"/> <link href=\"ref.placeholder\" rel=\"dns-prefetch\"/> <link href=\"ref.placeholder\" rel=\"dns-prefetch\"/> <link href=\"ref.placeholder\" rel=\"dns-prefetch\"/> <link href=\"ref.placeholder\" rel=\"dns-prefetch\"/> <link href=\"ref.placeholder\" rel=\"dns-prefetch\"/> <link href=\"ref.placeholder\" rel=\"dns-prefetch\"/> <link href=\"ref.placeholder\" rel=\"dns-prefetch\"/> <link href=\"ref.placeholder\" rel=\"dns-prefetch\"/> <link href=\"ref.placeholder\" rel=\"dns-prefetch\"/> <link href=\"ref.placeholder\" rel=\"dns-prefetch\"/> <link href=\"ref.placeholder\" rel=\"dns-prefetch\"/> <link href=\"ref.placeholder\" rel=\"dns-prefetch\"/> <link href=\"ref.placeholder\" rel=\"dns-prefetch\"/> <link href=\"ref.placeholder\" rel=\"dns-prefetch\"/> <link href=\"ref.placeholder\" rel=\"dns-prefetch\"/> <link href=\"ref.placeholder\" rel=\"dns-prefetch\"/> <link href=\"ref.placeholder\" rel=\"dns-prefetch\"/> <link href=\"ref.placeholder\" rel=\"dns-prefetch\"/> <link href=\"ref.placeholder\" rel=\"dns-prefetch\"/> <link href=\"ref.placeholder\" rel=\"dns-prefetch\"/> <link href=\"ref.placeholder\" rel=\"dns-prefetch\"/> <link href=\"ref.placeholder\" rel=\"dns-prefetch\"/> <link href=\"ref.placeholder\" rel=\"dns-prefetch\"/> <link href=\"ref.placeholder\" rel=\"dns-prefetch\"/> <link href=\"ref.placeholder\" rel=\"dns-prefetch\"/> <link href=\"ref.placeholder\" rel=\"dns-prefetch\"/> <link href=\"ref.placeholder\" rel=\"dns-prefetch\"/> <link href=\"ref.placeholder\" rel=\"dns-prefetch\"/> <link href=\"ref.placeholder\" rel=\"dns-prefetch\"/> <link href=\"ref.placeholder\" rel=\"dns-prefetch\"/> <link href=\"ref.placeholder\" rel=\"dns-prefetch\"/> <link href=\"ref.placeholder\" rel=\"dns-prefetch\"/> <link href=\"ref.placeholder\" rel=\"dns-prefetch\"/> <link href=\"ref.placeholder\" rel=\"dns-prefetch\"/> <link href=\"ref.placeholder\" rel=\"dns-prefetch\"/> <link href=\"ref.placeholder\" rel=\"dns-prefetch\"/> <link href=\"ref.placeholder\" rel=\"dns-prefetch\"/> <link href=\"ref.placeholder\" rel=\"dns-prefetch\"/> <link href=\"ref.placeholder\" rel=\"dns-prefetch\"/> <link href=\"ref.placeholder\" rel=\"dns-prefetch\"/> <link href=\"ref.placeholder\" rel=\"dns-prefetch\"/> <link href=\"ref.placeholder\" rel=\"dns-prefetch\"/> <link href=\"ref.placeholder\" rel=\"dns-prefetch\"/> <link href=\"ref.placeholder\" rel=\"dns-prefetch\"/> <link href=\"ref.placeholder\" rel=\"dns-prefetch\"/> <link href=\"ref.placeholder\" rel=\"dns-prefetch\"/> <link href=\"ref.placeholder\" rel=\"dns-prefetch\"/> <link href=\"ref.placeholder\" rel=\"dns-prefetch\"/> <link href=\"ref.placeholder\" rel=\"dns-prefetch\"/> <link href=\"ref.placeholder\" rel=\"dns-prefetch\"/> <link href=\"ref.placeholder\" rel=\"dns-prefetch\"/> <link href=\"ref.placeholder\" rel=\"dns-prefetch\"/> <link href=\"ref.placeholder\" rel=\"dns-prefetch\"/> <link href=\"ref.placeholder\" rel=\"dns-prefetch\"/> <link href=\"ref.placeholder\" rel=\"dns-prefetch\"/> <link href=\"ref.placeholder\" rel=\"dns-prefetch\"/> <link href=\"ref.placeholder\" rel=\"dns-prefetch\"/> <link href=\"ref.placeholder\" rel=\"dns-prefetch\"/> <link href=\"ref.placeholder\" rel=\"dns-prefetch\"/> <link href=\"ref.placeholder\" rel=\"dns-prefetch\"/> <link href=\"ref.placeholder\" rel=\"dns-prefetch\"/> <link href=\"ref.placeholder\" rel=\"dns-prefetch\"/> <link href=\"ref.placeholder\" rel=\"dns-prefetch\"/> <link href=\"ref.placeholder\" rel=\"dns-prefetch\"/> <link href=\"ref.placeholder\" rel=\"dns-prefetch\"/> <link href=\"ref.placeholder\" rel=\"dns-prefetch\"/> <link href=\"ref.placeholder\" rel=\"dns-prefetch\"/> <link href=\"ref.placeholder\" rel=\"dns-prefetch\"/> <link href=\"ref.placeholder\" rel=\"dns-prefetch\"/> <link href=\"ref.placeholder\" rel=\"dns-prefetch\"/> <link href=\"ref.placeholder\" rel=\"dns-prefetch\"/> <link href=\"ref.placeholder\" rel=\"dns-prefetch\"/> <link href=\"ref.placeholder\" rel=\"dns-prefetch\"/> <link href=\"ref.placeholder\" rel=\"dns-prefetch\"/> <link href=\"ref.placeholder\" rel=\"dns-prefetch\"/> <link href=\"ref.placeholder\" rel=\"dns-prefetch\"/> <link href=\"ref.placeholder\" rel=\"dns-prefetch\"/> <link href=\"ref.placeholder\" rel=\"dns-prefetch\"/> <link href=\"ref.placeholder\" rel=\"dns-prefetch\"/> <link href=\"ref.placeholder\" rel=\"dns-prefetch\"/> <link href=\"ref.placeholder\" rel=\"dns-prefetch\"/> <link href=\"ref.placeholder\" rel=\"dns-prefetch\"/> <link href=\"ref.placeholder\" rel=\"dns-prefetch\"/> <link href=\"ref.placeholder\" rel=\"dns-prefetch\"/> <link href=\"ref.placeholder\" rel=\"dns-prefetch\"/> <link href=\"ref.placeholder\" rel=\"dns-prefetch\"/> <link href=\"ref.placeholder\" rel=\"dns-prefetch\"/> <link href=\"ref.placeholder\" rel=\"dns-prefetch\"/> <link href=\"ref.placeholder\" rel=\"dns-prefetch\"/> <link href=\"ref.placeholder\" rel=\"dns-prefetch\"/> <link href=\"ref.placeholder\" rel=\"dns-prefetch\"/> <link href=\"ref.placeholder\" rel=\"dns-prefetch\"/> <link href=\"ref.placeholder\" rel=\"dns-prefetch\"/> <link href=\"ref.placeholder\" rel=\"dns-prefetch\"/> <link href=\"ref.placeholder\" rel=\"dns-prefetch\"/> <link href=\"ref.placeholder\" rel=\"dns-prefetch\"/> <link href=\"ref.placeholder\" rel=\"dns-prefetch\"/> <link href=\"ref.placeholder\" rel=\"dns-prefetch\"/> <link href=\"ref.placeholder\" rel=\"dns-prefetch\"/> <link href=\"ref.placeholder\" rel=\"dns-prefetch\"/> <link href=\"ref.placeholder\" rel=\"dns-prefetch\"/> <link href=\"ref.placeholder\" rel=\"dns-prefetch\"/> <link href=\"ref.placeholder\" rel=\"dns-prefetch\"/> <link href=\"ref.placeholder\" rel=\"dns-prefetch\"/> <link href=\"ref.placeholder\" rel=\"dns-prefetch\"/> <link href=\"ref.placeholder\" rel=\"dns-prefetch\"/> <link href=\"ref.placeholder\" rel=\"dns-prefetch\"/> <link href=\"ref.placeholder\" rel=\"dns-prefetch\"/> <link href=\"ref.placeholder\" rel=\"dns-prefetch\"/> <link href=\"ref.placeholder\" rel=\"dns-prefetch\"/> <link href=\"ref.placeholder\" rel=\"dns-prefetch\"/> <link href=\"ref.placeholder\" rel=\"dns-prefetch\"/> <link href=\"ref.placeholder\" rel=\"dns-prefetch\"/> <link href=\"ref.placeholder\" rel=\"dns-prefetch\"/> <link href=\"ref.placeholder\" rel=\"dns-prefetch\"/> <link href=\"ref.placeholder\" rel=\"dns-prefetch\"/> <link href=\"ref.placeholder\" rel=\"dns-prefetch\"/> <link href=\"ref.placeholder\" rel=\"dns-prefetch\"/> <link href=\"ref.placeholder\" rel=\"dns-prefetch\"/> <link href=\"ref.placeholder\" rel=\"dns-prefetch\"/> <link href=\"ref.placeholder\" rel=\"dns-prefetch\"/> <link href=\"ref.placeholder\" rel=\"dns-prefetch\"/> <link href=\"ref.placeholder\" rel=\"dns-prefetch\"/> <link href=\"ref.placeholder\" rel=\"dns-prefetch\"/> <link href=\"ref.placeholder\" rel=\"dns-prefetch\"/> <link href=\"ref.placeholder\" rel=\"dns-prefetch\"/> <link href=\"ref.placeholder\" rel=\"dns-prefetch\"/> <link href=\"ref.placeholder\" rel=\"dns-prefetch\"/> <link href=\"ref.placeholder\" rel=\"dns-prefetch\"/> <link href=\"ref.placeholder\" rel=\"dns-prefetch\"/> <link href=\"ref.placeholder\" rel=\"dns-prefetch\"/> <link href=\"ref.placeholder\" rel=\"dns-prefetch\"/> <link href=\"ref.placeholder\" rel=\"dns-prefetch\"/> <link href=\"ref.placeholder\" rel=\"dns-prefetch\"/> <link href=\"ref.placeholder\" rel=\"dns-prefetch\"/> <link href=\"ref.placeholder\" rel=\"dns-prefetch\"/> <link href=\"ref.placeholder\" rel=\"dns-prefetch\"/> <link href=\"ref.placeholder\" rel=\"dns-prefetch\"/> <link href=\"ref.placeholder\" rel=\"dns-prefetch\"/> <link href=\"ref.placeholder\" rel=\"dns-prefetch\"/> <link href=\"ref.placeholder\" rel=\"dns-prefetch\"/> <link href=\"ref.placeholder\" rel=\"dns-prefetch\"/> <link href=\"ref.placeholder\" rel=\"dns-prefetch\"/> <link href=\"ref.placeholder\" rel=\"dns-prefetch\"/> <link href=\"ref.placeholder\" rel=\"dns-prefetch\"/> <link href=\"ref.placeholder\" rel=\"dns-prefetch\"/> <link href=\"ref.placeholder\" rel=\"dns-prefetch\"/> <link href=\"ref.placeholder\" rel=\"dns-prefetch\"/> <link href=\"ref.placeholder\" rel=\"dns-prefetch\"/> <link href=\"ref.placeholder\" rel=\"dns-prefetch\"/> <link href=\"ref.placeholder\" rel=\"dns-prefetch\"/> <link href=\"ref.placeholder\" rel=\"dns-prefetch\"/> <link href=\"ref.placeholder\" rel=\"dns-prefetch\"/> <link href=\"ref.placeholder\" rel=\"dns-prefetch\"/> <link href=\"ref.placeholder\" rel=\"dns-prefetch\"/> <link href=\"ref.placeholder\" rel=\"dns-prefetch\"/> <link href=\"ref.placeholder\" rel=\"dns-prefetch\"/> <link href=\"ref.placeholder\" rel=\"dns-prefetch\"/> <link href=\"ref.placeholder\" rel=\"dns-prefetch\"/> <link href=\"ref.placeholder\" rel=\"dns-prefetch\"/> <link href=\"ref.placeholder\" rel=\"dns-prefetch\"/> <link href=\"ref.placeholder\" rel=\"dns-prefetch\"/> <link href=\"ref.placeholder\" rel=\"dns-prefetch\"/> <link href=\"ref.placeholder\" rel=\"dns-prefetch\"/> <link href=\"ref.placeholder\" rel=\"dns-prefetch\"/> <link href=\"ref.placeholder\" rel=\"dns-prefetch\"/> <link href=\"ref.placeholder\" rel=\"dns-prefetch\"/> <link href=\"ref.placeholder\" rel=\"dns-prefetch\"/> <link href=\"ref.placeholder\" rel=\"dns-prefetch\"/> <link href=\"ref.placeholder\" rel=\"dns-prefetch\"/> <link href=\"ref.placeholder\" rel=\"dns-prefetch\"/> <link href=\"ref.placeholder\" rel=\"dns-prefetch\"/> <link href=\"ref.placeholder\" rel=\"dns-prefetch\"/> <link href=\"ref.placeholder\" rel=\"dns-prefetch\"/> <link href=\"ref.placeholder\" rel=\"dns-prefetch\"/> <link href=\"ref.placeholder\" rel=\"dns-prefetch\"/> <link href=\"ref.placeholder\" rel=\"dns-prefetch\"/> <link href=\"ref.placeholder\" rel=\"dns-prefetch\"/> <link href=\"ref.placeholder\" rel=\"dns-prefetch\"/> <link href=\"ref.placeholder\" rel=\"dns-prefetch\"/> <link href=\"ref.placeholder\" rel=\"dns-prefetch\"/> <link href=\"ref.placeholder\" rel=\"dns-prefetch\"/> <link href=\"ref.placeholder\" rel=\"dns-prefetch\"/> <link href=\"ref.placeholder\" rel=\"dns-prefetch\"/> <link href=\"ref.placeholder\" rel=\"dns-prefetch\"/> <link href=\"ref.placeholder\" rel=\"dns-prefetch\"/> <link href=\"ref.placeholder\" rel=\"dns-prefetch\"/> <link href=\"ref.placeholder\" rel=\"dns-prefetch\"/> <link href=\"ref.placeholder\" rel=\"dns-prefetch\"/> <link href=\"ref.placeholder\" rel=\"dns-prefetch\"/> <link href=\"ref.placeholder\" rel=\"dns-prefetch\"/> <link href=\"ref.placeholder\" rel=\"dns-prefetch\"/> <link href=\"ref.placeholder\" rel=\"dns-prefetch\"/> <link href=\"ref.placeholder\" rel=\"dns-prefetch\"/> <link href=\"ref.placeholder\" rel=\"dns-prefetch\"/> <link href=\"ref.placeholder\" rel=\"dns-prefetch\"/> <link href=\"ref.placeholder\" rel=\"dns-prefetch\"/> <link href=\"ref.placeholder\" rel=\"dns-prefetch\"/> <link href=\"ref.placeholder\" rel=\"dns-prefetch\"/> <link href=\"ref.placeholder\" rel=\"dns-prefetch\"/> <link href=\"ref.placeholder\" rel=\"dns-prefetch\"/> <link href=\"ref.placeholder\" rel=\"dns-prefetch\"/> <link href=\"ref.placeholder\" rel=\"dns-prefetch\"/> <link href=\"ref.placeholder\" rel=\"dns-prefetch\"/> <link href=\"ref.placeholder\" rel=\"dns-prefetch\"/> <link href=\"ref.placeholder\" rel=\"dns-prefetch\"/> <link href=\"ref.placeholder\" rel=\"dns-prefetch\"/> <link href=\"ref.placeholder\" rel=\"dns-prefetch\"/> <link href=\"ref.placeholder\" rel=\"dns-prefetch\"/> <link href=\"ref.placeholder\" rel=\"dns-prefetch\"/> <link href=\"ref.placeholder\" rel=\"dns-prefetch\"/> <link href=\"ref.placeholder\" rel=\"dns-prefetch\"/> <link href=\"ref.placeholder\" rel=\"dns-prefetch\"/> <link href=\"ref.placeholder\" rel=\"dns-prefetch\"/> <link href=\"ref.placeholder\" rel=\"dns-prefetch\"/> <link href=\"ref.placeholder\" rel=\"dns-prefetch\"/> <link href=\"ref.placeholder\" rel=\"dns-prefetch\"/> <link href=\"ref.placeholder\" rel=\"dns-prefetch\"/> <link href=\"ref.placeholder\" rel=\"dns-prefetch\"/> <link href=\"ref.placeholder\" rel=\"dns-prefetch\"/> <link href=\"ref.placeholder\" rel=\"dns-prefetch\"/> <link href=\"ref.placeholder\" rel=\"dns-prefetch\"/> <link href=\"ref.placeholder\" rel=\"dns-prefetch\"/> <link href=\"ref.placeholder\" rel=\"dns-prefetch\"/> <link href=\"ref.placeholder\" rel=\"dns-prefetch\"/> <link href=\"ref.placeholder\" rel=\"dns-prefetch\"/> <link href=\"ref.placeholder\" rel=\"dns-prefetch\"/> <link href=\"ref.placeholder\" rel=\"dns-prefetch\"/> <link href=\"ref.placeholder\" rel=\"dns-prefetch\"/> <link href=\"ref.placeholder\" rel=\"dns-prefetch\"/> <link href=\"ref.placeholder\" rel=\"dns-prefetch\"/> <link href=\"ref.placeholder\" rel=\"dns-prefetch\"/> <link href=\"ref.placeholder\" rel=\"dns-prefetch\"/> <link href=\"ref.placeholder\" rel=\"dns-prefetch\"/> <link href=\"ref.placeholder\" rel=\"dns-prefetch\"/> <link href=\"ref.placeholder\" rel=\"dns-prefetch\"/> <link href=\"ref.placeholder\" rel=\"dns-prefetch\"/> <link href=\"ref.placeholder\" rel=\"dns-prefetch\"/> <link href=\"ref.placeholder\" rel=\"dns-prefetch\"/> <link href=\"ref.placeholder\" rel=\"dns-prefetch\"/> <link href=\"ref.placeholder\" rel=\"dns-prefetch\"/> <link href=\"ref.placeholder\" rel=\"dns-prefetch\"/> <link href=\"ref.placeholder\" rel=\"dns-prefetch\"/> <link href=\"ref.placeholder\" rel=\"dns-prefetch\"/> <link href=\"ref.placeholder\" rel=\"dns-prefetch\"/> <link href=\"ref.placeholder\" rel=\"dns-prefetch\"/> <link href=\"ref.placeholder\" rel=\"dns-prefetch\"/> <link href=\"ref.placeholder\" rel=\"dns-prefetch\"/> <link href=\"ref.placeholder\" rel=\"dns-prefetch\"/> <link href=\"ref.placeholder\" rel=\"dns-prefetch\"/> <link href=\"ref.placeholder\" rel=\"dns-prefetch\"/> <link href=\"ref.placeholder\" rel=\"dns-prefetch\"/> <link href=\"ref.placeholder\" rel=\"dns-prefetch\"/> <link href=\"ref.placeholder\" rel=\"dns-prefetch\"/> <link href=\"ref.placeholder\" rel=\"dns-prefetch\"/> <link href=\"ref.placeholder\" rel=\"dns-prefetch\"/> <link href=\"ref.placeholder\" rel=\"dns-prefetch\"/> <link href=\"ref.placeholder\" rel=\"dns-prefetch\"/> <link href=\"ref.placeholder\" rel=\"dns-prefetch\"/> <link href=\"ref.placeholder\" rel=\"dns-prefetch\"/> <link href=\"ref.placeholder\" rel=\"dns-prefetch\"/> <link href=\"ref.placeholder\" rel=\"dns-prefetch\"/> <link href=\"ref.placeholder\" rel=\"dns-prefetch\"/> <link href=\"ref.placeholder\" rel=\"dns-prefetch\"/> <link href=\"ref.placeholder\" rel=\"dns-prefetch\"/> <link href=\"ref.placeholder\" rel=\"dns-prefetch\"/> <link href=\"ref.placeholder\" rel=\"dns-prefetch\"/> <link href=\"ref.placeholder\" rel=\"dns-prefetch\"/> <link href=\"ref.placeholder\" rel=\"dns-prefetch\"/> <link href=\"ref.placeholder\" rel=\"dns-prefetch\"/> <link href=\"ref.placeholder\" rel=\"dns-prefetch\"/> <link href=\"ref.placeholder\" rel=\"dns-prefetch\"/> <link href=\"ref.placeholder\" rel=\"dns-prefetch\"/> <link href=\"ref.placeholder\" rel=\"dns-prefetch\"/> <link href=\"ref.placeholder\" rel=\"dns-prefetch\"/> <link href=\"ref.placeholder\" rel=\"dns-prefetch\"/> <link href=\"ref.placeholder\" rel=\"dns-prefetch\"/> <link href=\"ref.placeholder\" rel=\"dns-prefetch\"/> <link href=\"ref.placeholder\" rel=\"dns-prefetch\"/> <link href=\"ref.placeholder\" rel=\"dns-prefetch\"/> <link href=\"ref.placeholder\" rel=\"dns-prefetch\"/> <link href=\"ref.placeholder\" rel=\"dns-prefetch\"/> <link href=\"ref.placeholder\" rel=\"dns-prefetch\"/> <link href=\"ref.placeholder\" rel=\"dns-prefetch\"/> <link href=\"ref.placeholder\" rel=\"dns-prefetch\"/> <link href=\"ref.placeholder\" rel=\"dns-prefetch\"/> <link href=\"ref.placeholder\" rel=\"dns-prefetch\"/> <link href=\"ref.placeholder\" rel=\"dns-prefetch\"/> <link href=\"ref.placeholder\" rel=\"dns-prefetch\"/> <link href=\"ref.placeholder\" rel=\"dns-prefetch\"/> <link href=\"ref.placeholder\" rel=\"dns-prefetch\"/> <link href=\"ref.placeholder\" rel=\"dns-prefetch\"/> <link href=\"ref.placeholder\" rel=\"dns-prefetch\"/> <link href=\"ref.placeholder\" rel=\"dns-prefetch\"/> <link href=\"ref.placeholder\" rel=\"dns-prefetch\"/> <link href=\"ref.placeholder\" rel=\"dns-prefetch\"/> <link href=\"ref.placeholder\" rel=\"dns-prefetch\"/> <link href=\"ref.placeholder\" rel=\"dns-prefetch\"/> <link href=\"ref.placeholder\" rel=\"dns-prefetch\"/> <link href=\"ref.placeholder\" rel=\"dns-prefetch\"/> <link href=\"ref.placeholder\" rel=\"dns-prefetch\"/> <link href=\"ref.placeholder\" rel=\"dns-prefetch\"/> <link href=\"ref.placeholder\" rel=\"dns-prefetch\"/> <link href=\"ref.placeholder\" rel=\"dns-prefetch\"/> <link href=\"ref.placeholder\" rel=\"dns-prefetch\"/> <link href=\"ref.placeholder\" rel=\"dns-prefetch\"/> <link href=\"ref.placeholder\" rel=\"dns-prefetch\"/> <link href=\"ref.placeholder\" rel=\"dns-prefetch\"/> <link href=\"ref.placeholder\" rel=\"dns-prefetch\"/> <link href=\"ref.placeholder\" rel=\"dns-prefetch\"/> <link href=\"ref.placeholder\" rel=\"dns-prefetch\"/> <link href=\"ref.placeholder\" rel=\"dns-prefetch\"/> <link href=\"ref.placeholder\" rel=\"dns-prefetch\"/> <link href=\"ref.placeholder\" rel=\"dns-prefetch\"/> <link href=\"ref.placeholder\" rel=\"dns-prefetch\"/> <link href=\"ref.placeholder\" rel=\"dns-prefetch\"/> <link href=\"ref.placeholder\" rel=\"dns-prefetch\"/> <link href=\"ref.placeholder\" rel=\"dns-prefetch\"/> <link href=\"ref.placeholder\" rel=\"dns-prefetch\"/> <link href=\"ref.placeholder\" rel=\"dns-prefetch\"/> <link href=\"ref.placeholder\" rel=\"dns-prefetch\"/> <link href=\"ref.placeholder\" rel=\"dns-prefetch\"/> <link href=\"ref.placeholder\" rel=\"dns-prefetch\"/> <link href=\"ref.placeholder\" rel=\"dns-prefetch\"/> <link href=\"ref.placeholder\" rel=\"dns-prefetch\"/> <link href=\"ref.placeholder\" rel=\"dns-prefetch\"/> <link href=\"ref.placeholder\" rel=\"dns-prefetch\"/> <link href=\"ref.placeholder\" rel=\"dns-prefetch\"/> <link href=\"ref.placeholder\" rel=\"dns-prefetch\"/> <link href=\"ref.placeholder\" rel=\"dns-prefetch\"/> <link href=\"ref.placeholder\" rel=\"dns-prefetch\"/> <link href=\"ref.placeholder\" rel=\"dns-prefetch\"/> <link href=\"ref.placeholder\" rel=\"dns-prefetch\"/> <link href=\"ref.placeholder\" rel=\"dns-prefetch\"/> <link href=\"ref.placeholder\" rel=\"dns-prefetch\"/> <link href=\"ref.placeholder\" rel=\"dns-prefetch\"/> <link href=\"ref.placeholder\" rel=\"dns-prefetch\"/> <link href=\"ref.placeholder\" rel=\"dns-prefetch\"/> <link href=\"ref.placeholder\" rel=\"dns-prefetch\"/> <link href=\"ref.placeholder\" rel=\"dns-prefetch\"/> <link href=\"ref.placeholder\" rel=\"dns-prefetch\"/> <link href=\"ref.placeholder\" rel=\"dns-prefetch\"/> <link href=\"ref.placeholder\" rel=\"dns-prefetch\"/> <link href=\"ref.placeholder\" rel=\"dns-prefetch\"/> <link href=\"ref.placeholder\" rel=\"dns-prefetch\"/> <link href=\"ref.placeholder\" rel=\"dns-prefetch\"/> <link href=\"ref.placeholder\" rel=\"dns-prefetch\"/> <link href=\"ref.placeholder\" rel=\"dns-prefetch\"/> <link href=\"ref.placeholder\" rel=\"dns-prefetch\"/> <link href=\"ref.placeholder\" rel=\"dns-prefetch\"/> <link href=\"ref.placeholder\" rel=\"dns-prefetch\"/> <link href=\"ref.placeholder\" rel=\"dns-prefetch\"/> <link href=\"ref.placeholder\" rel=\"dns-prefetch\"/> <link href=\"ref.placeholder\" rel=\"dns-prefetch\"/> <link href=\"ref.placeholder\" rel=\"dns-prefetch\"/> <link href=\"ref.placeholder\" rel=\"dns-prefetch\"/> <link href=\"ref.placeholder\" rel=\"dns-prefetch\"/> <link href=\"ref.placeholder\" rel=\"dns-prefetch\"/> <link href=\"ref.placeholder\" rel=\"dns-prefetch\"/> <link href=\"ref.placeholder\" rel=\"dns-prefetch\"/> <link href=\"ref.placeholder\" rel=\"dns-prefetch\"/> <link href=\"ref.placeholder\" rel=\"dns-prefetch\"/> <link href=\"ref.placeholder\" rel=\"dns-prefetch\"/> <link href=\"ref.placeholder\" rel=\"dns-prefetch\"/> <link href=\"ref.placeholder\" rel=\"dns-prefetch\"/> <link href=\"ref.placeholder\" rel=\"dns-prefetch\"/> <link href=\"ref.placeholder\" rel=\"dns-prefetch\"/> <link href=\"ref.placeholder\" rel=\"dns-prefetch\"/> <link href=\"ref.placeholder\" rel=\"dns-prefetch\"/> <link href=\"ref.placeholder\" rel=\"dns-prefetch\"/> <link href=\"ref.placeholder\" rel=\"dns-prefetch\"/> <link href=\"ref.placeholder\" rel=\"dns-prefetch\"/> <link href=\"ref.placeholder\" rel=\"dns-prefetch\"/> <link href=\"ref.placeholder\" rel=\"dns-prefetch\"/> <link href=\"ref.placeholder\" rel=\"dns-prefetch\"/> <link href=\"ref.placeholder\" rel=\"dns-prefetch\"/> <link href=\"ref.placeholder\" rel=\"dns-prefetch\"/> <link href=\"ref.placeholder\" rel=\"dns-prefetch\"/> <link href=\"ref.placeholder\" rel=\"dns-prefetch\"/> <link href=\"ref.placeholder\" rel=\"dns-prefetch\"/> <link href=\"ref.placeholder\" rel=\"dns-prefetch\"/> <link href=\"ref.placeholder\" rel=\"dns-prefetch\"/> <link href=\"ref.placeholder\" rel=\"dns-prefetch\"/> <link href=\"ref.placeholder\" rel=\"dns-prefetch\"/> <link href=\"ref.placeholder\" rel=\"dns-prefetch\"/> <link href=\"ref.placeholder\" rel=\"dns-prefetch\"/> <link href=\"ref.placeholder\" rel=\"dns-prefetch\"/> <link href=\"ref.placeholder\" rel=\"dns-prefetch\"/> <link href=\"ref.placeholder\" rel=\"dns-prefetch\"/> <link href=\"ref.placeholder\" rel=\"dns-prefetch\"/> <link href=\"ref.placeholder\" rel=\"dns-prefetch\"/> <link href=\"ref.placeholder\" rel=\"dns-prefetch\"/> <link href=\"ref.placeholder\" rel=\"dns-prefetch\"/> <link href=\"ref.placeholder\" rel=\"dns-prefetch\"/> <link href=\"ref.placeholder\" rel=\"dns-prefetch\"/> <link href=\"ref.placeholder\" rel=\"dns-prefetch\"/> <link href=\"ref.placeholder\" rel=\"dns-prefetch\"/> <link href=\"ref.placeholder\" rel=\"dns-prefetch\"/> <link href=\"ref.placeholder\" rel=\"dns-prefetch\"/> <link href=\"ref.placeholder\" rel=\"dns-prefetch\"/> <link href=\"ref.placeholder\" rel=\"dns-prefetch\"/> <link href=\"ref.placeholder\" rel=\"dns-prefetch\"/> <link href=\"ref.placeholder\" rel=\"dns-prefetch\"/> <link href=\"ref.placeholder\" rel=\"dns-prefetch\"/> <link href=\"ref.placeholder\" rel=\"dns-prefetch\"/> <link href=\"ref.placeholder\" rel=\"dns-prefetch\"/> <link href=\"ref.placeholder\" rel=\"dns-prefetch\"/> <link href=\"ref.placeholder\" rel=\"dns-prefetch\"/> <link href=\"ref.placeholder\" rel=\"dns-prefetch\"/> <link href=\"ref.placeholder\" rel=\"dns-prefetch\"/> <link href=\"ref.placeholder\" rel=\"dns-prefetch\"/> <link href=\"ref.placeholder\" rel=\"dns-prefetch\"/> <link href=\"ref.placeholder\" rel=\"dns-prefetch\"/> <link href=\"ref.placeholder\" rel=\"dns-prefetch\"/> <link href=\"ref.placeholder\" rel=\"dns-prefetch\"/> <link href=\"ref.placeholder\" rel=\"dns-prefetch\"/> <link href=\"ref.placeholder\" rel=\"dns-prefetch\"/> <link href=\"ref.placeholder\" rel=\"dns-prefetch\"/> <link href=\"ref.placeholder\" rel=\"dns-prefetch\"/> <link href=\"ref.placeholder\" rel=\"dns-prefetch\"/> <link href=\"ref.placeholder\" rel=\"dns-prefetch\"/> <link href=\"ref.placeholder\" rel=\"dns-prefetch\"/> <link href=\"ref.placeholder\" rel=\"dns-prefetch\"/> <link href=\"ref.placeholder\" rel=\"dns-prefetch\"/> <link href=\"ref.placeholder\" rel=\"dns-prefetch\"/> <link href=\"ref.placeholder\" rel=\"dns-prefetch\"/> <link href=\"ref.placeholder\" rel=\"dns-prefetch\"/> <link href=\"ref.placeholder\" rel=\"dns-prefetch\"/> <link href=\"ref.placeholder\" rel=\"dns-prefetch\"/> <link href=\"ref.placeholder\" rel=\"dns-prefetch\"/> <link href=\"ref.placeholder\" rel=\"dns-prefetch\"/> <link href=\"ref.placeholder\" rel=\"dns-prefetch\"/> <link href=\"ref.placeholder\" rel=\"dns-prefetch\"/> <link href=\"ref.placeholder\" rel=\"dns-prefetch\"/> <link href=\"ref.placeholder\" rel=\"dns-prefetch\"/> <link href=\"ref.placeholder\" rel=\"dns-prefetch\"/> <link href=\"ref.placeholder\" rel=\"dns-prefetch\"/> <link href=\"ref.placeholder\" rel=\"dns-prefetch\"/> <link href=\"ref.placeholder\" rel=\"dns-prefetch\"/> <link href=\"ref.placeholder\" rel=\"dns-prefetch\"/> <link href=\"ref.placeholder\" rel=\"dns-prefetch\"/> <link href=\"ref.placeholder\" rel=\"dns-prefetch\"/> <link href=\"ref.placeholder\" rel=\"dns-prefetch\"/> <link href=\"ref.placeholder\" rel=\"dns-prefetch\"/> <link href=\"ref.placeholder\" rel=\"dns-prefetch\"/> <link href=\"ref.placeholder\" rel=\"dns-prefetch\"/> <link href=\"ref.placeholder\" rel=\"dns-prefetch\"/> <link href=\"ref.placeholder\" rel=\"dns-prefetch\"/> <link href=\"ref.placeholder\" rel=\"dns-prefetch\"/> <link href=\"ref.placeholder\" rel=\"dns-prefetch\"/> <link href=\"ref.placeholder\" rel=\"dns-prefetch\"/> <link href=\"ref.placeholder\" rel=\"dns-prefetch\"/> <link href=\"ref.placeholder\" rel=\"dns-prefetch\"/> <link href=\"ref.placeholder\" rel=\"dns-prefetch\"/> <link href=\"ref.placeholder\" rel=\"dns-prefetch\"/> <link href=\"ref.placeholder\" rel=\"dns-prefetch\"/> <link href=\"ref.placeholder\" rel=\"dns-prefetch\"/> <link href=\"ref.placeholder\" rel=\"dns-prefetch\"/> <link href=\"ref.placeholder\" rel=\"dns-prefetch\"/> <link href=\"ref.placeholder\" rel=\"dns-prefetch\"/> <link href=\"ref.placeholder\" rel=\"dns-prefetch\"/> <link href=\"ref.placeholder\" rel=\"dns-prefetch\"/> <link href=\"ref.placeholder\" rel=\"dns-prefetch\"/> <link href=\"ref.placeholder\" rel=\"dns-prefetch\"/> <link href=\"ref.placeholder\" rel=\"dns-prefetch\"/> <link href=\"ref.placeholder\" rel=\"dns-prefetch\"/> <link href=\"ref.placeholder\" rel=\"dns-prefetch\"/> <link href=\"ref.placeholder\" rel=\"dns-prefetch\"/> <link href=\"ref.placeholder\" rel=\"dns-prefetch\"/> <link href=\"ref.placeholder\" rel=\"dns-prefetch\"/> <link href=\"ref.placeholder\" rel=\"dns-prefetch\"/> <link href=\"ref.placeholder\" rel=\"dns-prefetch\"/> <link href=\"ref.placeholder\" rel=\"dns-prefetch\"/> <link href=\"ref.placeholder\" rel=\"dns-prefetch\"/> <link href=\"ref.placeholder\" rel=\"dns-prefetch\"/> <link href=\"ref.placeholder\" rel=\"dns-prefetch\"/> <link href=\"ref.placeholder\" rel=\"dns-prefetch\"/> <link href=\"ref.placeholder\" rel=\"dns-prefetch\"/> <link href=\"ref.placeholder\" rel=\"dns-prefetch\"/> <link href=\"ref.placeholder\" rel=\"dns-prefetch\"/> <link href=\"ref.placeholder\" rel=\"dns-prefetch\"/> <link href=\"ref.placeholder\" rel=\"dns-prefetch\"/> <link href=\"ref.placeholder\" rel=\"dns-prefetch\"/> <link href=\"ref.placeholder\" rel=\"dns-prefetch\"/> <link href=\"ref.placeholder\" rel=\"dns-prefetch\"/> <link href=\"ref.placeholder\" rel=\"dns-prefetch\"/> <link href=\"ref.placeholder\" rel=\"dns-prefetch\"/> <link href=\"ref.placeholder\" rel=\"dns-prefetch\"/> <link href=\"ref.placeholder\" rel=\"dns-prefetch\"/> <link href=\"ref.placeholder\" rel=\"dns-prefetch\"/> <link href=\"ref.placeholder\" rel=\"dns-prefetch\"/> <link href=\"ref.placeholder\" rel=\"dns-prefetch\"/> <link href=\"ref.placeholder\" rel=\"dns-prefetch\"/> <link href=\"ref.placeholder\" rel=\"dns-prefetch\"/> <link href=\"ref.placeholder\" rel=\"dns-prefetch\"/> <link href=\"ref.placeholder\" rel=\"dns-prefetch\"/> <link href=\"ref.placeholder\" rel=\"dns-prefetch\"/> <link href=\"ref.placeholder\" rel=\"dns-prefetch\"/> <link href=\"ref.placeholder\" rel=\"dns-prefetch\"/> <link href=\"ref.placeholder\" rel=\"dns-prefetch\"/> <link href=\"ref.placeholder\" rel=\"dns-prefetch\"/> <link href=\"ref.placeholder\" rel=\"dns-prefetch\"/> <link href=\"ref.placeholder\" rel=\"dns-prefetch\"/> <link href=\"ref.placeholder\" rel=\"dns-prefetch\"/> <link href=\"ref.placeholder\" rel=\"dns-prefetch\"/> <link href=\"ref.placeholder\" rel=\"dns-prefetch\"/> <link href=\"ref.placeholder\" rel=\"dns-prefetch\"/> <link href=\"ref.placeholder\" rel=\"dns-prefetch\"/> <link href=\"ref.placeholder\" rel=\"dns-prefetch\"/> <link href=\"ref.placeholder\" rel=\"dns-prefetch\"/> <link href=\"ref.placeholder\" rel=\"dns-prefetch\"/> <link href=\"ref.placeholder\" rel=\"dns-prefetch\"/> <link href=\"ref.placeholder\" rel=\"dns-prefetch\"/> <link href=\"ref.placeholder\" rel=\"dns-prefetch\"/> <link href=\"ref.placeholder\" rel=\"dns-prefetch\"/> <link href=\"ref.placeholder\" rel=\"dns-prefetch\"/> <link href=\"ref.placeholder\" rel=\"dns-prefetch\"/> <link href=\"ref.placeholder\" rel=\"dns-prefetch\"/> <link href\n",
            "    Answer: <html class=\"js\" dir=\"ltr\" lang=\"en\"> <head> <style type=\"text/css\">svgnotroot.svg-inline--faoverflowvisible.svg-inline--fadisplayinline-block;font-sizeinherit;height1em;overflowvisible;vertical-align-.125em.svg-inline--fa.fa-lgvertical-align-.225em.svg-inline--fa.fa-w-1width.0625em.svg-inline--fa.fa-w-2width.125em.svg-inline--fa.fa-w-3width.1875em.svg-inline--fa.fa-w-4width.25em.svg-inline--fa.fa-w-5width.3125em.svg-inline--fa.fa-w-6width.375em.svg-inline--fa.fa-w-7width.4375em.svg-inline--fa.fa-w-8width.5em.svg-inline--fa.fa-w-9width.5625em.svg-inline--fa.fa-w-10width.625em.svg-inline--fa.fa-w-11width.6875em.svg-inline--fa.fa-w-12width.75em.svg-inline--fa.fa-w-13width.8125em.svg-inline--fa.fa-w-14width.875em.svg-inline--fa.fa-w-15width.9375em.svg-inline--fa.fa-w-16width1em.svg-inline--fa.fa-w-17width1.0625em.svg-inline--fa.fa-w-18width1.125em.svg-inline--fa.fa-w-19width1.1875em.svg-inline--fa.fa-w-20width1.25em.svg-inline--fa.fa-pull-leftmargin-right.3em;widthauto.svg-inline--fa.fa-pull-rightmargin-left.3em;widthauto.svg-inline--fa.fa-borderheight1.5em.svg-inline--fa.fa-liwidth2em.svg-inline--fa.fa-fwwidth1.25em.fa-layers svg.svg-inline--fabottom0;left0;marginauto;positionabsolute;right0;top0.fa-layersdisplayinline-block;height1em;positionrelative;text-aligncenter;vertical-align-.125em;width1em.fa-layers svg.svg-inline--fa-webkit-transform-origincenter center;transform-origincenter center.fa-layers-counter,.fa-layers-textdisplayinline-block;positionabsolute;text-aligncenter.fa-layers-textleft50;top50;-webkit-transformtranslate-50,-50;transformtranslate-50,-50;-webkit-transform-origincenter center;transform-origincenter center.fa-layers-counterbackground-colorff253a;border-radius1em;-webkit-box-sizingborder-box;box-sizingborder-box;colorfff;height1.5em;line-height1;max-width5em;min-width1.5em;overflowhidden;padding.25em;right0;text-overflowellipsis;top0;-webkit-transformscale.25;transformscale.25;-webkit-transform-origintop right;transform-origintop right.fa-layers-bottom-rightbottom0;right0;topauto;-webkit-transformscale.25;transformscale.25;-webkit-transform-originbottom right;transform-originbottom right.fa-layers-bottom-leftbottom0;left0;rightauto;topauto;-webkit-transformscale.25;transformscale.25;-webkit-transform-originbottom left;transform-originbottom left.fa-layers-top-rightright0;top0;-webkit-transformscale.25;transformscale.25;-webkit-transform-origintop right;transform-origintop right.fa-layers-top-leftleft0;rightauto;top0;-webkit-transformscale.25;transformscale.25;-webkit-transform-origintop left;transform-origintop left.fa-lgfont-size1.3333333333em;line-height.75em;vertical-align-.0667em.fa-xsfont-size.75em.fa-smfont-size.875em.fa-1xfont-size1em.fa-2xfont-size2em.fa-3xfont-size3em.fa-4xfont-size4em.fa-5xfont-size5em.fa-6xfont-size6em.fa-7xfont-size7em.fa-8xfont-size8em.fa-9xfont-size9em.fa-10xfont-size10em.fa-fwtext-aligncenter;width1.25em.fa-ullist-style-typenone;margin-left2.5em;padding-left0.fa-ullipositionrelative.fa-lileft-2em;positionabsolute;text-aligncenter;width2em;line-heightinherit.fa-borderbordersolid.08em eee;border-radius.1em;padding.2em.25em.15em.fa-pull-leftfloatleft.fa-pull-rightfloatright.fa.fa-pull-left,.fab.fa-pull-left,.fal.fa-pull-left,.far.fa-pull-left,.fas.fa-pull-leftmargin-right.3em.fa.fa-pull-right,.fab.fa-pull-right,.fal.fa-pull-right,.far.fa-pull-right,.fas.fa-pull-rightmargin-left.3em.fa-spin-webkit-animationfa-spin 2s infinite linear;animationfa-spin 2s infinite linear.fa-pulse-webkit-animationfa-spin 1s infinite steps8;animationfa-spin 1s infinite steps8-webkit-keyframes fa-spin0-webkit-transformrotate0;transformrotate0100-webkit-transformrotate360deg;transformrotate360degkeyframes fa-spin0-webkit-transformrotate0;transformrotate0100-webkit-transformrotate360deg;transformrotate360deg.fa-rotate-90-webkit-transformrotate90deg;transformrotate90deg.fa-rotate-180-webkit-transformrotate180deg;transformrotate180deg.fa-rotate-270-webkit-transformrotate270deg;transformrotate270deg.fa-flip-horizontal-webkit-transformscale-1,1;transformscale-1,1.fa-flip-vertical-webkit-transformscale1,-1;transformscale1,-1.fa-flip-both,.fa-flip-horizontal.fa-flip-vertical-webkit-transformscale-1,-1;transformscale-1,-1root.fa-flip-both,root.fa-flip-horizontal,root.fa-flip-vertical,root.fa-rotate-180,root.fa-rotate-270,root.fa-rotate-90-webkit-filternone;filternone.fa-stackdisplayinline-block;height2em;positionrelative;width2.5em.fa-stack-1x,.fa-stack-2xbottom0;left0;marginauto;positionabsolute;right0;top0.svg-inline--fa.fa-stack-1xheight1em;width1.25em.svg-inline--fa.fa-stack-2xheight2em;width2.5em.fa-inversecolorfff.sr-onlyborder0;cliprect0,0,0,0;height1px;margin-1px;overflowhidden;padding0;positionabsolute;width1px.sr-only-focusableactive,.sr-only-focusablefocusclipauto;heightauto;margin0;overflowvisible;positionstatic;widthauto.svg-inline--fa.fa-primaryfillvar--fa-primary-color,currentColor;opacity1;opacityvar--fa-primary-opacity,1.svg-inline--fa.fa-secondaryfillvar--fa-secondary-color,currentColor;opacity.4;opacityvar--fa-secondary-opacity,.4.svg-inline--fa.fa-swap-opacity.fa-primaryopacity.4;opacityvar--fa-secondary-opacity,.4.svg-inline--fa.fa-swap-opacity.fa-secondaryopacity1;opacityvar--fa-primary-opacity,1.svg-inline--fa mask.fa-primary,.svg-inline--fa mask.fa-secondaryfill000.fad.fa-inversecolorfff</style> <link href=\"ref.placeholder\" rel=\"icon\" type=\"image/vnd.microsoft.icon\"/> <link href=\"https://example.com\" rel=\"canonical\"/> <link href=\"https://example.com\" rel=\"shortlink\"/> <title>Welcome to the Washington Research Library Consortium Washington Research Library Consortium</title> <link href=\"wrlc.org.css\" media=\"all\" rel=\"stylesheet\"/> <link href=\"wrlc.org.css\" media=\"all\" rel=\"stylesheet\"/> <link href=\"wrlc.org.css\" media=\"all\" rel=\"stylesheet\"/> <link href=\"wrlc.org.css\" media=\"all\" rel=\"stylesheet\"/> <link href=\"wrlc.org.css\" media=\"all\" rel=\"stylesheet\"/> <link href=\"wrlc.org.css\" media=\"all\" rel=\"stylesheet\"/> <link href=\"wrlc.org.css\" media=\"all\" rel=\"stylesheet\"/> <link href=\"wrlc.org.css\" media=\"all\" rel=\"stylesheet\"/> <link href=\"wrlc.org.css\" media=\"all\" rel=\"stylesheet\"/> <link href=\"wrlc.org.css\" media=\"all\" rel=\"stylesheet\"/> <link href=\"wrlc.org.css\" media=\"all\" rel=\"stylesheet\"/> <link href=\"wrlc.org.css\" media=\"all\" rel=\"stylesheet\"/> <link href=\"wrlc.org.css\" media=\"all\" rel=\"stylesheet\"/> <link href=\"wrlc.org.css\" media=\"all\" rel=\"stylesheet\"/> <link href=\"wrlc.org.css\" media=\"all\" rel=\"stylesheet\"/> <link href=\"wrlc.org.css\" media=\"all\" rel=\"stylesheet\"/> <link href=\"wrlc.org.css\" media=\"all\" rel=\"stylesheet\"/> <link href=\"wrlc.org.css\" media=\"all\" rel=\"stylesheet\"/> <link href=\"wrlc.org.css\" media=\"all\" rel=\"stylesheet\"/> <link href=\"wrlc.org.css\" media=\"all\" rel=\"stylesheet\"/> <link href=\"wrlc.org.css\" media=\"all\" rel=\"stylesheet\"/> <link href=\"wrlc.org.css\" media=\"all\" rel=\"stylesheet\"/> <link href=\"wrlc.org.css\" media=\"all\" rel=\"stylesheet\"/> <link href=\"wrlc.org.css\" media=\"all\" rel=\"stylesheet\"/> <link href=\"wrlc.org.css\" media=\"all\" rel=\"stylesheet\"/> <link href=\"wrlc.org.css\" media=\"all\" rel=\"stylesheet\"/> <link href=\"wrlc.org.css\" media=\"all\" rel=\"stylesheet\"/> <link href=\"wrlc.org.css\" media=\"all\" rel=\"stylesheet\"/> <link crossorigin=\"anonymous\" href=\"wrlc.org.css\" integrity=\"sha256-0XAFLBbK7DgQ8t7mRWU5BF2OMm9tjtfH945Z7TTeNIo=\" media=\"all\" rel=\"stylesheet\"/> <link crossorigin=\"anonymous\" href=\"wrlc.org.css\" integrity=\"sha512-j4mdyNbQqqp+6Q/HtootpbGoc2ZX0C/ktbXnauPFEz7A457PB6le79qasOBVcrSrOBtGAm0aVU2SOKFzBl6RhA==\" media=\"all\" rel=\"stylesheet\"/> <link href=\"wrlc.org.css\" media=\"all\" rel=\"stylesheet\"/> <link href=\"wrlc.org.css\" media=\"all\" rel=\"stylesheet\"/> <link href=\"wrlc.org.css\" media=\"all\" rel=\"stylesheet\"/> <link href=\"wrlc.org.css\" media=\"all\" rel=\"stylesheet\"/> </head> <body class=\"path-frontpage page-node-type-page navbar-is-fixed-top has-glyphicons\"> <a class=\"visually-hidden focusable skip-link\" href=\"ref.placeholder\">Skip to main content</a> <div class=\"dialog-off-canvas-main-canvas\" data-off-canvas-main-canvas=\"\"> <header class=\"navbar navbar-default navbar-fixed-top\" id=\"navbar\" role=\"banner\"> <div class=\"container\"> <div class=\"navbar-header\"> <div class=\"region region-navigation\"> <a class=\"logo navbar-btn pull-left\" href=\"ref.placeholder\" rel=\"home\" title=\"Home\"><img alt=\"Home\" src=\"../../images/default_img.jpeg\"/></a> <nav aria-labelledby=\"block-bootstrap-subtheme-main-navigation-menu\" id=\"block-bootstrap-subtheme-main-navigation\" role=\"navigation\"> <h2 class=\"sr-only\" id=\"block-bootstrap-subtheme-main-navigation-menu\">Main navigation</h2> <div class=\"navbar\"> <div class=\"navbar-header pull-right\"> <button class=\"navbar-toggle\" data-target=\".navbar-collapse\" data-toggle=\"collapse\" type=\"button\"><span class=\"icon-bar\"></span><span class=\"icon-bar\"></span><span class=\"icon-bar\"></span></button> <div class=\"collapse navbar-collapse\"><ul aria-labelledby=\"dropdownMenu\" class=\"nav navbar-nav\" role=\"menu\"><li><a class=\"is-active\" data-drupal-link-system-path=\"&lt;front&gt;\" href=\"ref.placeholder\">Home</a></li><li class=\"dropdown\"><a class=\"dropdown-toggle\" data-toggle=\"dropdown\" href=\"\">About WRLC <span class=\"caret\"></span></a><ul aria-labelledby=\"dLabel\" class=\"dropdown-menu\" role=\"menu\"><li><a data-drupal-link-system-path=\"node/1\" href=\"ref.placeholder\">Vision, Mission, Priorities, Initiatives</a></li><li><a data-drupal-link-system-path=\"node/31\" href=\"ref.placeholder\">Governance</a></li><li><a data-drupal-link-system-path=\"node/61\" href=\"ref.placeholder\">Privacy Statement</a></li><li class=\"dropdown-submenu\"><a href=\"ref.placeholder\">Consortium Partners</a><ul aria-labelledby=\"dLabel\" class=\"dropdown-menu\" role=\"menu\"><li><a data-drupal-link-system-path=\"node/69\" href=\"ref.placeholder\">American University</a></li><li><a data-drupal-link-system-path=\"node/70\" href=\"ref.placeholder\">The Catholic University of America</a></li><li><a data-drupal-link-system-path=\"node/71\" href=\"ref.placeholder\">Gallaudet University</a></li><li><a data-drupal-link-system-path=\"node/72\" href=\"ref.placeholder\">George Mason University</a></li><li><a data-drupal-link-system-path=\"node/74\" href=\"ref.placeholder\">The George Washington University</a></li><li><a data-drupal-link-system-path=\"node/73\" href=\"ref.placeholder\">Georgetown University</a></li><li><a data-drupal-link-system-path=\"node/68\" href=\"ref.placeholder\">Howard University</a></li><li><a data-drupal-link-system-path=\"node/75\" href=\"ref.placeholder\">Marymount University</a></li><li><a data-drupal-link-system-path=\"node/76\" href=\"ref.placeholder\">The University of the District of Columbia</a></li></ul></li><li class=\"dropdown-submenu\"><a href=\"ref.placeholder\">Employment Opportunities</a><ul aria-labelledby=\"dLabel\" class=\"dropdown-menu\" role=\"menu\"><li><a data-drupal-link-system-path=\"node/29\" href=\"ref.placeholder\">WRLC Employment</a></li><li><a data-drupal-link-system-path=\"node/45\" href=\"ref.placeholder\">Benefits Summary</a></li><li><a data-drupal-link-system-path=\"node/13\" href=\"ref.placeholder\">Staff Handbook</a></li><li><a data-drupal-link-system-path=\"jobs\" href=\"ref.placeholder\">Consortial Job Listings</a></li></ul></li><li><a data-drupal-link-system-path=\"node/2\" href=\"ref.placeholder\">WRLC Staff Directory</a></li><li><a data-drupal-link-system-path=\"node/44\" href=\"ref.placeholder\">WRLC Logos</a></li><li><a data-drupal-link-system-path=\"node/79\" href=\"ref.placeholder\">Directions</a></li><li><a data-drupal-link-system-path=\"node/86\" href=\"ref.placeholder\">Library Status During COVID-19</a></li></ul></li><li class=\"dropdown\"><a class=\"dropdown-toggle\" data-toggle=\"dropdown\" href=\"\">What We Do <span class=\"caret\"></span></a><ul aria-labelledby=\"dLabel\" class=\"dropdown-menu\" role=\"menu\"><li><a data-drupal-link-system-path=\"node/139\" href=\"ref.placeholder\">Coordinated Collections</a></li><li><a data-drupal-link-system-path=\"node/9\" href=\"ref.placeholder\">Discovery and Access</a></li><li><a data-drupal-link-system-path=\"node/140\" href=\"ref.placeholder\">Preservation and Digitization</a></li><li><a data-drupal-link-system-path=\"node/30\" href=\"ref.placeholder\">Sharing Expertise</a></li></ul></li><li><a data-drupal-link-system-path=\"node/40\" href=\"ref.placeholder\">Online Services</a></li><li><a data-drupal-link-system-path=\"node/53\" href=\"ref.placeholder\">Contact</a></li><li><a data-drupal-link-system-path=\"search\" href=\"ref.placeholder\">Search</a></li></ul></div> </div> </div> </nav> <section class=\"block block-block-content block-block-contenta745dc08-9df1-444e-be7f-b97932cc3b0d clearfix\" id=\"block-scrolltotop\"> <div class=\"field field--name-body field--type-text-with-summary field--label-hidden field--item\"><span id=\"#top\"></span></div> </section> </div> </div> </div> </header> <div class=\"main-container container js-quickedit-main-content\" role=\"main\"> <div class=\"row\"> <section class=\"col-sm-12\"> <div class=\"highlighted\"> <div class=\"region region-highlighted\"> <div class=\"hidden\" data-drupal-messages-fallback=\"\"></div> </div> </div> <a id=\"main-content\"></a> <div class=\"region region-content\"> <article class=\"page full clearfix\" data-history-node-id=\"85\" role=\"article\"> <div class=\"content\"> <div class=\"field field--name-body field--type-text-with-summary field--label-hidden field--item\"> <h2 style=\"color:#076293;margin:80px 20px 20px\">Welcome to the Washington Research Library Consortium</h2> <p><img alt=\"WRLC Collage\" data-entity-type=\"file\" data-entity-uuid=\"0d8409a2-82f3-48d5-8fe7-d2cb9c3d5f6b\" src=\"../../images/default_img.jpeg\"/></p> <p>The Washington Research Library Consortium WRLC was established as a non-profit corporation in 1987 to support and enhance the library and information services of universities in the Washington, DC metropolitan area. The WRLC enables the success of learning and scholarship by creating coordinated collections, creating a robust infrastructure for discovery and access, ensuring the long-term preservation of physical and digital information resources and sharing expertise.</p> <p class=\"text-align-center\"><a href=\"https://example.com\"><strong>-- Important news about our Executive Director --</strong></a><strong></strong></p> <h2>Currently, our partner universities are</h2> </div> </div> </article> <section class=\"views-element-container block block-views block-views-blockmember-directory-block-1 clearfix\" id=\"block-views-block-member-directory-block-1\"> <div class=\"form-group\"> <div class=\"view view-member-directory view-id-member_directory view-display-id-block_1 js-view-dom-id-4b5667ea98054628b9186c20f670daa4f4da3bb830846ed55fcd0c697d62229d\"> <div class=\"view-content\"> <div class=\"views-view-grid horizontal cols-5 clearfix\"> <div class=\"views-row clearfix row-1\"> <div class=\"views-col col-1\" style=\"width:20%\"> <div class=\"views-field views-field-value\"><span class=\"field-content\"><a href=\"ref.placeholder\">American University</a></span></div> <div class=\"views-field views-field-value-2\"><span class=\"field-content\"><a href=\"ref.placeholder\"><img src=\"/sites/all/files/au_0.gif\"/></a></span></div> </div> <div class=\"views-col col-2\" style=\"width:20%\"> <div class=\"views-field views-field-value\"><span class=\"field-content\"><a href=\"ref.placeholder\">The Catholic University of America</a></span></div> <div class=\"views-field views-field-value-2\"><span class=\"field-content\"><a href=\"ref.placeholder\"><img src=\"../../images/default_img.jpeg\"/></a></span></div> </div> <div class=\"views-col col-3\" style=\"width:20%\"> <div class=\"views-field views-field-value\"><span class=\"field-content\"><a href=\"ref.placeholder\">Gallaudet University</a></span></div> <div class=\"views-field views-field-value-2\"><span class=\"field-content\"><a href=\"ref.placeholder\"><img src=\"/sites/all/files/ga.gif\"/></a></span></div> </div> <div class=\"views-col col-4\" style=\"width:20%\"> <div class=\"views-field views-field-value\"><span class=\"field-content\"><a href=\"ref.placeholder\">George Mason University</a></span></div> <div class=\"views-field views-field-value-2\"><span class=\"field-content\"><a href=\"ref.placeholder\"><img src=\"/sites/all/files/gm.gif\"/></a></span></div> </div> <div class=\"views-col col-5\" style=\"width:20%\"> <div class=\"views-field views-field-value\"><span class=\"field-content\"><a href=\"ref.placeholder\">The George Washington University</a></span></div> <div class=\"views-field views-field-value-2\"><span class=\"field-content\"><a href=\"ref.placeholder\"><img src=\"/sites/all/files/gw-logo.gif\"/></a></span></div> </div> </div> <div class=\"views-row clearfix row-2\"> <div class=\"views-col col-1\" style=\"width:20%\"> <div class=\"views-field views-field-value\"><span class=\"field-content\"><a href=\"ref.placeholder\">Georgetown University</a></span></div> <div class=\"views-field views-field-value-2\"><span class=\"field-content\"><a href=\"ref.placeholder\"><img src=\"/sites/all/files/gt.gif\"/></a></span></div> </div> <div class=\"views-col col-2\" style=\"width:20%\"> <div class=\"views-field views-field-value\"><span class=\"field-content\"><a href=\"ref.placeholder\">Howard University</a></span></div> <div class=\"views-field views-field-value-2\"><span class=\"field-content\"><a href=\"ref.placeholder\"><img src=\"/sites/all/files/hu.gif\"/></a></span></div> </div> <div class=\"views-col col-3\" style=\"width:20%\"> <div class=\"views-field views-field-value\"><span class=\"field-content\"><a href=\"ref.placeholder\">Marymount University</a></span></div> <div class=\"views-field views-field-value-2\"><span class=\"field-content\"><a href=\"ref.placeholder\"><img src=\"../../images/default_img.jpeg\"/></a></span></div> </div> <div class=\"views-col col-4\" style=\"width:20%\"> <div class=\"views-field views-field-value\"><span class=\"field-content\"><a href=\"ref.placeholder\">The University of the District of Columbia</a></span></div> <div class=\"views-field views-field-value-2\"><span class=\"field-content\"><a href=\"ref.placeholder\"><img src=\"../../images/default_img.jpeg\"/></a></span></div> </div> <div class=\"views-col col-5\" style=\"width:20%\"> <div class=\"views-field views-field-value\"><span class=\"field-content\"><a href=\"https://example.com\">WRLC Membership Map</a></span></div> <div class=\"views-field views-field-value-2\"><span class=\"field-content\"><a href=\"https://example.com\"><img src=\"../../images/default_img.jpeg\"/></a></span></div> </div> </div> </div> </div> </div> </div> </section> <section class=\"block block-block-content block-block-content0b58f2e1-dad8-4195-9ca2-93d58533315e clearfix\" id=\"block-footeraddressnew\"> <div class=\"field field--name-body field--type-text-with-summary field--label-hidden field--item\"> <br/> <hr/> <div style=\"font-size:11px;margin:20px 0;padding:20px;border-top:0px solid #eee\">Copyright 2023, WRLC 901 Commerce Drive, Upper Marlboro, MD 20774 301 390-2000 <a href=\"https://example.com\">httpswrlc.org</a></div> </div> </section> </div> </section> </div> </div> </div> <div class=\"ui-front\" id=\"drupal-modal\" style=\"display:none\"></div> </body> </html> /* START CSS */.ui-front { z-index: 100; }.text-align-center { text-align: center; }.hidden { display: none; }.visually-hidden { position: absolute!important; overflow: hidden; clip: rect(1px, 1px, 1px, 1px); width: 1px; height: 1px; word-wrap: normal; }.views-view-grid.views-col { float: left; }.views-view-grid.views-row { float: left; clear: both; width: 100%; } html { font-family: sans-serif; -webkit-text-size-adjust: 100%; } body { margin: 0; } article, header, nav, section { display: block; } [hidden] { display: none; } a { background-color: transparent; } strong { font-weight: bold; } img { border: 0; } hr { -webkit-box-sizing: content-box; box-sizing: content-box; height: 0; } button { color: inherit; font: inherit; margin: 0; } button { overflow: visible; } button { -webkit-appearance: button; cursor: pointer; } button[disabled] { cursor: default; } * { -webkit-box-sizing: border-box; box-sizing: border-box; } html { font-size: 10px; -webkit-tap-highlight-color: rgba(0, 0, 0, 0); } body { font-family: \"Helvetica Neue\", Helvetica, Arial, sans-serif; font-size: 14px; color: #333333; background-color: #fff; } button { font-family: inherit; font-size: inherit; } a { color: #337ab7; text-decoration: none; } img { vertical-align: middle; } hr { margin-top: 20px; margin-bottom: 20px; border: 0; border-top: 1px solid #eeeeee; }.sr-only { position: absolute; width: 1px; height: 1px; padding: 0; margin: -1px; overflow: hidden; clip: rect(0, 0, 0, 0); border: 0; } [role=\"button\"] { cursor: pointer; } h2,.h2 { font-family: inherit; font-weight: 500; color: inherit; } h2,.h2 { margin-top: 20px; margin-bottom: 10px; } h2,.h2 { font-size: 30px; } p { margin: 0 0 10px; } ul { margin-top: 0; margin-bottom: 10px; } ul ul { margin-bottom: 0; }.container { padding-right: 15px; padding-left: 15px; margin-right: auto; margin-left: auto; } @media (min-width: 768px) {.container { width: 750px; } } @media (min-width: 992px) {.container { width: 970px; } } @media (min-width: 1200px) {.container { width: 1170px; } }.row { margin-right: -15px; margin-left: -15px; }.col-sm-12 { position: relative; min-height: 1px; padding-right: 15px; padding-left: 15px; } @media (min-width: 768px) {.col-sm-12 { float: left; }.col-sm-12 { width: 100%; } }.form-group { margin-bottom: 15px; }.collapse { display: none; }.caret { display: inline-block; width: 0; height: 0; margin-left: 2px; vertical-align: middle; border-top: 4px dashed; border-top: 4px solid \\ ; border-right: 4px solid transparent; border-left: 4px solid transparent; }.dropdown { position: relative; }.dropdown-menu { position: absolute; top: 100%; left: 0; z-index: 1000; display: none; float: left; min-width: 160px; padding: 5px 0; margin: 2px 0 0; font-size: 14px; text-align: left; list-style: none; background-color: #fff; background-clip: padding-box; border: 1px solid #ccc; border: 1px solid rgba(0, 0, 0, 0); -webkit-box-shadow: 0 6px 12px rgba(0, 0, 0, 0); }.dropdown-menu.pull-right { right: 0; left: auto; }.dropdown-menu > li > a { display: block; padding: 3px 20px; clear: both; font-weight: 400; color: #333333; white-space: nowrap; }.pull-right >.dropdown-menu { right: 0; left: auto; }.nav { padding-left: 0; margin-bottom: 0; list-style: none; }.nav > li { position: relative; display: block; }.nav > li > a { position: relative; display: block; padding: 10px 15px; }.nav > li > a > img { max-width: none; }.navbar { position: relative; min-height: 50px; margin-bottom: 20px; border: 1px solid transparent; } @media (min-width: 768px) {.navbar-header { float: left; } }.navbar-collapse { padding-right: 15px; padding-left: 15px; overflow-x: visible; border-top: 1px solid transparent; -webkit-box-shadow: inset 0 1px 0 rgba(255, 255, 255, 0.1); -webkit-overflow-scrolling: touch; } @media (min-width: 768px) {.navbar-collapse { width: auto; border-top: 0; -webkit-box-shadow: none; }.navbar-collapse.collapse { display: block!important; height: auto!important; padding-bottom: 0; overflow: visible!important; }.navbar-fixed-top.navbar-collapse { padding-right: 0; padding-left: 0; } }.navbar-fixed-top { position: fixed; right: 0; left: 0; z-index: 1030; }.navbar-fixed-top.navbar-collapse { max-height: 340px; }.navbar-fixed-top { top: 0; }.container >.navbar-header,navbar-header.container >.navbar-collapse { margin-right: -15px; margin-left: -15px; } @media (min-width: 768px) {.container >.navbar-header,navbar-header.container >.navbar-collapse { margin-right: 0; margin-left: 0; } }.navbar-toggle { position: relative; float: right; padding: 9px 10px; margin-right: 15px; margin-top: 8px; margin-bottom: 8px; background-color: transparent; border: 1px solid transparent; }.navbar-toggle.icon-bar { display: block; width: 22px; height: 2px; }.navbar-toggle.icon-bar +.icon-bar { margin-top: 4px; } @media (min-width: 768px) {.navbar-toggle { display: none; } }.navbar-nav { margin: 7.5px -15px; }.navbar-nav > li > a { padding-top: 10px; padding-bottom: 10px; } @media (min-width: 768px) {.navbar-nav { float: left; margin: 0; }.navbar-nav > li { float: left; }.navbar-nav > li > a { padding-top: 15px; padding-bottom: 15px; } }.navbar-nav > li >.dropdown-menu { margin-top: 0; border-top-left-radius: 0; border-top-right-radius: 0; }.navbar-btn { margin-top: 8px; margin-bottom: 8px; }.navbar-default { background-color: #f8f8f8; }.navbar-default.navbar-nav > li > a { color: #777; }.navbar-default.navbar-toggle.icon-bar { background-color: #888; }.pull-right { float: right!important; }.pull-left { float: left!important; }.hidden { display: none!important; } body { position: relative; } body.navbar-is-fixed-top { margin-top: 65px; }.navbar.logo { margin-right: -15px; padding-left: 15px; padding-right: 15px; } ul { padding-left: 1.5em; } body { background-color: #ffffff; font-family: \"Helvetica Neue\",Helvetica,Arial,sans-serif; -webkit-text-size-adjust: 100%; font: 14px/1.6 \"Oxygen\",sans-serif; color: #606060; font-size: 16px; }.content { margin: 0 20px; }.navbar-default { background-color: #ffffff; }.nav.logo { z-index: 1000!important; } @media (min-width: 768px) {.nav { position: relative; display: block; padding: 5px 7px; margin-top: 30px; } } @media (max-width: 769px) {.nav { position: relative; display: block; padding: 5px 7px; margin-top: 30px; } } img { vertical-align: middle; max-width: 100%; }.region-navigation a img { width: 180px; margin: 30px 0 0 0; }.content ul { list-style: disc; padding-left: 20px; margin-left: 20px; } @media (max-width: 768px) {.navbar { position: relative; min-height: 50px; margin-bottom: 0; margin-top: 0; } } @media (min-width: 769px) {.navbar { position: relative; min-height: 50px; margin-bottom: 0; margin-top: 0; } }.navbar-toggle { position: relative; float: right; padding: 9px 10px; margin-right: 80px; margin-top: 45px; margin-bottom: 8px; background-color: transparent; border: 1px solid transparent; } @media (min-width: 768px) {.navbar-header { float: inherit; } }.container { padding-right: 0; padding-left: 0; padding-bottom: 0; margin-right: auto; margin-left: auto; background-color: none; }.navbar-btn { margin-top: -22px; margin-bottom: 6px; } #page { max-width: 960px; margin: 0 auto 20px; background-color: #ffffff; padding: 0 20px 20px; } #bottom { padding: 10px; background: #f5f5f5; border-top: 5px solid #555; margin-bottom: 20px; } a { color: #076293; } #slidebox { max-height: 550px; position: relative; background: #ffffff; color: #ffffff; } #footer-block { padding: 20px; background-color: #f5f5f5; }.col-sm-12 { position: relative; min-height: 1px; padding-right: 15px; padding-left: 15px; } #search-block-form, #search-form { vertical-align: middle; white-space: nowrap; position: relative; background: #fff; width: 350px; color: #000; } #main-menu li ul { font-size: 12px; z-index: 9999; position: absolute; left: -999em; height: auto; width: 160px; margin: 0px 0px 0px 0px; padding: 5px 5px; background: #efefef; } #main-menu li a { color: #777; display: block; margin: 0; padding: 10px 5px 10px 5px; text-decoration: none; position: relative; } #content-wrap a:link { text-decoration: underline; } #block-membersfooterlistjson { margin-left: 45px; } ul { list-style: disc; padding-left: 20px; } ul ul { list-style-type: circle; }.nav > li > a { position: relative; display: block; }.navbar-default { background-color: #ffffff; }.navbar-nav > li >.dropdown-menu { margin-top: 0; border-top-left-radius: 0; border-top-right-radius: 0; z-index: 1800; }.dropdown-submenu { position: relative; }.dropdown-submenu >.dropdown-menu { top: 0; left: 100%; padding: 0px; }.dropdown-submenu.pull-left { float: none; }.dropdown-submenu.pull-left >.dropdown-menu { left: -100%; margin-left: 10px; -webkit-border-radius: 6px 0 6px 6px; -moz-border-radius: 6px 0 6px 6px; }.navbar-fixed-top { top: 0; position: fixed!important; } #block-views-block-member-directory-block-1 { text-align: center; } #block-views-block-member-directory-block-1 >.form-group { background-color: #f5f5f5; width: 80%; padding: 20px 20px; margin: auto; } #block-views-block-member-directory-block-1 >.form-group.views-col { font-size: 12px; font-weight: bold; width: 140px!important; height: 197px; margin: 10px; padding: 10px 10px 20px; background-color: #ffffff; } #block-views-block-member-directory-block-1 >.form-group.views-col.views-field-value { margin-bottom: 10px; }\n",
            "      Bleu: 0.08\n",
            "\n",
            "Prediction: <html lang=\"en-US\"> <head> <title>The Ultimate Guide to the World of Technology</title> <link href=\"https://example.com\" rel=\"canonical\"/> <link href=\"ref.placeholder\" rel=\"dns-prefetch\"/> <link href=\"ref.placeholder\" rel=\"dns-prefetch\"/> <link href=\"ref.placeholder\" rel=\"dns-prefetch\"/> <link href=\"ref.placeholder\" rel=\"dns-prefetch\"/> <link href=\"ref.placeholder\" rel=\"dns-prefetch\"/> <link href=\"ref.placeholder\" rel=\"dns-prefetch\"/> <link href=\"ref.placeholder\" rel=\"dns-prefetch\"/> <link href=\"ref.placeholder\" rel=\"dns-prefetch\"/> <link href=\"ref.placeholder\" rel=\"dns-prefetch\"/> <link href=\"ref.placeholder\" rel=\"dns-prefetch\"/> <link href=\"ref.placeholder\" rel=\"dns-prefetch\"/> <link href=\"ref.placeholder\" rel=\"dns-prefetch\"/> <link href=\"ref.placeholder\" rel=\"dns-prefetch\"/> <link href=\"ref.placeholder\" rel=\"dns-prefetch\"/> <link href=\"ref.placeholder\" rel=\"dns-prefetch\"/> <link href=\"ref.placeholder\" rel=\"dns-prefetch\"/> <link href=\"ref.placeholder\" rel=\"dns-prefetch\"/> <link href=\"ref.placeholder\" rel=\"dns-prefetch\"/> <link href=\"ref.placeholder\" rel=\"dns-prefetch\"/> <link href=\"ref.placeholder\" rel=\"dns-prefetch\"/> <link href=\"ref.placeholder\" rel=\"dns-prefetch\"/> <link href=\"ref.placeholder\" rel=\"dns-prefetch\"/> <link href=\"ref.placeholder\" rel=\"dns-prefetch\"/> <link href=\"ref.placeholder\" rel=\"dns-prefetch\"/> <link href=\"ref.placeholder\" rel=\"dns-prefetch\"/> <link href=\"ref.placeholder\" rel=\"dns-prefetch\"/> <link href=\"ref.placeholder\" rel=\"dns-prefetch\"/> <link href=\"ref.placeholder\" rel=\"dns-prefetch\"/> <link href=\"ref.placeholder\" rel=\"dns-prefetch\"/> <link href=\"ref.placeholder\" rel=\"dns-prefetch\"/> <link href=\"ref.placeholder\" rel=\"dns-prefetch\"/> <link href=\"ref.placeholder\" rel=\"dns-prefetch\"/> <link href=\"ref.placeholder\" rel=\"dns-prefetch\"/> <link href=\"ref.placeholder\" rel=\"dns-prefetch\"/> <link href=\"ref.placeholder\" rel=\"dns-prefetch\"/> <link href=\"ref.placeholder\" rel=\"dns-prefetch\"/> <link href=\"ref.placeholder\" rel=\"dns-prefetch\"/> <link href=\"ref.placeholder\" rel=\"dns-prefetch\"/> <link href=\"ref.placeholder\" rel=\"dns-prefetch\"/> <link href=\"ref.placeholder\" rel=\"dns-prefetch\"/> <link href=\"ref.placeholder\" rel=\"dns-prefetch\"/> <link href=\"ref.placeholder\" rel=\"dns-prefetch\"/> <link href=\"ref.placeholder\" rel=\"dns-prefetch\"/> <link href=\"ref.placeholder\" rel=\"dns-prefetch\"/> <link href=\"ref.placeholder\" rel=\"dns-prefetch\"/> <link href=\"ref.placeholder\" rel=\"dns-prefetch\"/> <link href=\"ref.placeholder\" rel=\"dns-prefetch\"/> <link href=\"ref.placeholder\" rel=\"dns-prefetch\"/> <link href=\"ref.placeholder\" rel=\"dns-prefetch\"/> <link href=\"ref.placeholder\" rel=\"dns-prefetch\"/> <link href=\"ref.placeholder\" rel=\"dns-prefetch\"/> <link href=\"ref.placeholder\" rel=\"dns-prefetch\"/> <link href=\"ref.placeholder\" rel=\"dns-prefetch\"/> <link href=\"ref.placeholder\" rel=\"dns-prefetch\"/> <link href=\"ref.placeholder\" rel=\"dns-prefetch\"/> <link href=\"ref.placeholder\" rel=\"dns-prefetch\"/> <link href=\"ref.placeholder\" rel=\"dns-prefetch\"/> <link href=\"ref.placeholder\" rel=\"dns-prefetch\"/> <link href=\"ref.placeholder\" rel=\"dns-prefetch\"/> <link href=\"ref.placeholder\" rel=\"dns-prefetch\"/> <link href=\"ref.placeholder\" rel=\"dns-prefetch\"/> <link href=\"ref.placeholder\" rel=\"dns-prefetch\"/> <link href=\"ref.placeholder\" rel=\"dns-prefetch\"/> <link href=\"ref.placeholder\" rel=\"dns-prefetch\"/> <link href=\"ref.placeholder\" rel=\"dns-prefetch\"/> <link href=\"ref.placeholder\" rel=\"dns-prefetch\"/> <link href=\"ref.placeholder\" rel=\"dns-prefetch\"/> <link href=\"ref.placeholder\" rel=\"dns-prefetch\"/> <link href=\"ref.placeholder\" rel=\"dns-prefetch\"/> <link href=\"ref.placeholder\" rel=\"dns-prefetch\"/> <link href=\"ref.placeholder\" rel=\"dns-prefetch\"/> <link href=\"ref.placeholder\" rel=\"dns-prefetch\"/> <link href=\"ref.placeholder\" rel=\"dns-prefetch\"/> <link href=\"ref.placeholder\" rel=\"dns-prefetch\"/> <link href=\"ref.placeholder\" rel=\"dns-prefetch\"/> <link href=\"ref.placeholder\" rel=\"dns-prefetch\"/> <link href=\"ref.placeholder\" rel=\"dns-prefetch\"/> <link href=\"ref.placeholder\" rel=\"dns-prefetch\"/> <link href=\"ref.placeholder\" rel=\"dns-prefetch\"/> <link href=\"ref.placeholder\" rel=\"dns-prefetch\"/> <link href=\"ref.placeholder\" rel=\"dns-prefetch\"/> <link href=\"ref.placeholder\" rel=\"dns-prefetch\"/> <link href=\"ref.placeholder\" rel=\"dns-prefetch\"/> <link href=\"ref.placeholder\" rel=\"dns-prefetch\"/> <link href=\"ref.placeholder\" rel=\"dns-prefetch\"/> <link href=\"ref.placeholder\" rel=\"dns-prefetch\"/> <link href=\"ref.placeholder\" rel=\"dns-prefetch\"/> <link href=\"ref.placeholder\" rel=\"dns-prefetch\"/> <link href=\"ref.placeholder\" rel=\"dns-prefetch\"/> <link href=\"ref.placeholder\" rel=\"dns-prefetch\"/> <link href=\"ref.placeholder\" rel=\"dns-prefetch\"/> <link href=\"ref.placeholder\" rel=\"dns-prefetch\"/> <link href=\"ref.placeholder\" rel=\"dns-prefetch\"/> <link href=\"ref.placeholder\" rel=\"dns-prefetch\"/> <link href=\"ref.placeholder\" rel=\"dns-prefetch\"/> <link href=\"ref.placeholder\" rel=\"dns-prefetch\"/> <link href=\"ref.placeholder\" rel=\"dns-prefetch\"/> <link href=\"ref.placeholder\" rel=\"dns-prefetch\"/> <link href=\"ref.placeholder\" rel=\"dns-prefetch\"/> <link href=\"ref.placeholder\" rel=\"dns-prefetch\"/> <link href=\"ref.placeholder\" rel=\"dns-prefetch\"/> <link href=\"ref.placeholder\" rel=\"dns-prefetch\"/> <link href=\"ref.placeholder\" rel=\"dns-prefetch\"/> <link href=\"ref.placeholder\" rel=\"dns-prefetch\"/> <link href=\"ref.placeholder\" rel=\"dns-prefetch\"/> <link href=\"ref.placeholder\" rel=\"dns-prefetch\"/> <link href=\"ref.placeholder\" rel=\"dns-prefetch\"/> <link href=\"ref.placeholder\" rel=\"dns-prefetch\"/> <link href=\"ref.placeholder\" rel=\"dns-prefetch\"/> <link href=\"ref.placeholder\" rel=\"dns-prefetch\"/> <link href=\"ref.placeholder\" rel=\"dns-prefetch\"/> <link href=\"ref.placeholder\" rel=\"dns-prefetch\"/> <link href=\"ref.placeholder\" rel=\"dns-prefetch\"/> <link href=\"ref.placeholder\" rel=\"dns-prefetch\"/> <link href=\"ref.placeholder\" rel=\"dns-prefetch\"/> <link href=\"ref.placeholder\" rel=\"dns-prefetch\"/> <link href=\"ref.placeholder\" rel=\"dns-prefetch\"/> <link href=\"ref.placeholder\" rel=\"dns-prefetch\"/> <link href=\"ref.placeholder\" rel=\"dns-prefetch\"/> <link href=\"ref.placeholder\" rel=\"dns-prefetch\"/> <link href=\"ref.placeholder\" rel=\"dns-prefetch\"/> <link href=\"ref.placeholder\" rel=\"dns-prefetch\"/> <link href=\"ref.placeholder\" rel=\"dns-prefetch\"/> <link href=\"ref.placeholder\" rel=\"dns-prefetch\"/> <link href=\"ref.placeholder\" rel=\"dns-prefetch\"/> <link href=\"ref.placeholder\" rel=\"dns-prefetch\"/> <link href=\"ref.placeholder\" rel=\"dns-prefetch\"/> <link href=\"ref.placeholder\" rel=\"dns-prefetch\"/> <link href=\"ref.placeholder\" rel=\"dns-prefetch\"/> <link href=\"ref.placeholder\" rel=\"dns-prefetch\"/> <link href=\"ref.placeholder\" rel=\"dns-prefetch\"/> <link href=\"ref.placeholder\" rel=\"dns-prefetch\"/> <link href=\"ref.placeholder\" rel=\"dns-prefetch\"/> <link href=\"ref.placeholder\" rel=\"dns-prefetch\"/> <link href=\"ref.placeholder\" rel=\"dns-prefetch\"/> <link href=\"ref.placeholder\" rel=\"dns-prefetch\"/> <link href=\"ref.placeholder\" rel=\"dns-prefetch\"/> <link href=\"ref.placeholder\" rel=\"dns-prefetch\"/> <link href=\"ref.placeholder\" rel=\"dns-prefetch\"/> <link href=\"ref.placeholder\" rel=\"dns-prefetch\"/> <link href=\"ref.placeholder\" rel=\"dns-prefetch\"/> <link href=\"ref.placeholder\" rel=\"dns-prefetch\"/> <link href=\"ref.placeholder\" rel=\"dns-prefetch\"/> <link href=\"ref.placeholder\" rel=\"dns-prefetch\"/> <link href=\"ref.placeholder\" rel=\"dns-prefetch\"/> <link href=\"ref.placeholder\" rel=\"dns-prefetch\"/> <link href=\"ref.placeholder\" rel=\"dns-prefetch\"/> <link href=\"ref.placeholder\" rel=\"dns-prefetch\"/> <link href=\"ref.placeholder\" rel=\"dns-prefetch\"/> <link href=\"ref.placeholder\" rel=\"dns-prefetch\"/> <link href=\"ref.placeholder\" rel=\"dns-prefetch\"/> <link href=\"ref.placeholder\" rel=\"dns-prefetch\"/> <link href=\"ref.placeholder\" rel=\"dns-prefetch\"/> <link href=\"ref.placeholder\" rel=\"dns-prefetch\"/> <link href=\"ref.placeholder\" rel=\"dns-prefetch\"/> <link href=\"ref.placeholder\" rel=\"dns-prefetch\"/> <link href=\"ref.placeholder\" rel=\"dns-prefetch\"/> <link href=\"ref.placeholder\" rel=\"dns-prefetch\"/> <link href=\"ref.placeholder\" rel=\"dns-prefetch\"/> <link href=\"ref.placeholder\" rel=\"dns-prefetch\"/> <link href=\"ref.placeholder\" rel=\"dns-prefetch\"/> <link href=\"ref.placeholder\" rel=\"dns-prefetch\"/> <link href=\"ref.placeholder\" rel=\"dns-prefetch\"/> <link href=\"ref.placeholder\" rel=\"dns-prefetch\"/> <link href=\"ref.placeholder\" rel=\"dns-prefetch\"/> <link href=\"ref.placeholder\" rel=\"dns-prefetch\"/> <link href=\"ref.placeholder\" rel=\"dns-prefetch\"/> <link href=\"ref.placeholder\" rel=\"dns-prefetch\"/> <link href=\"ref.placeholder\" rel=\"dns-prefetch\"/> <link href=\"ref.placeholder\" rel=\"dns-prefetch\"/> <link href=\"ref.placeholder\" rel=\"dns-prefetch\"/> <link href=\"ref.placeholder\" rel=\"dns-prefetch\"/> <link href=\"ref.placeholder\" rel=\"dns-prefetch\"/> <link href=\"ref.placeholder\" rel=\"dns-prefetch\"/> <link href=\"ref.placeholder\" rel=\"dns-prefetch\"/> <link href=\"ref.placeholder\" rel=\"dns-prefetch\"/> <link href=\"ref.placeholder\" rel=\"dns-prefetch\"/> <link href=\"ref.placeholder\" rel=\"dns-prefetch\"/> <link href=\"ref.placeholder\" rel=\"dns-prefetch\"/> <link href=\"ref.placeholder\" rel=\"dns-prefetch\"/> <link href=\"ref.placeholder\" rel=\"dns-prefetch\"/> <link href=\"ref.placeholder\" rel=\"dns-prefetch\"/> <link href=\"ref.placeholder\" rel=\"dns-prefetch\"/> <link href=\"ref.placeholder\" rel=\"dns-prefetch\"/> <link href=\"ref.placeholder\" rel=\"dns-prefetch\"/> <link href=\"ref.placeholder\" rel=\"dns-prefetch\"/> <link href=\"ref.placeholder\" rel=\"dns-prefetch\"/> <link href=\"ref.placeholder\" rel=\"dns-prefetch\"/> <link href=\"ref.placeholder\" rel=\"dns-prefetch\"/> <link href=\"ref.placeholder\" rel=\"dns-prefetch\"/> <link href=\"ref.placeholder\" rel=\"dns-prefetch\"/> <link href=\"ref.placeholder\" rel=\"dns-prefetch\"/> <link href=\"ref.placeholder\" rel=\"dns-prefetch\"/> <link href=\"ref.placeholder\" rel=\"dns-prefetch\"/> <link href=\"ref.placeholder\" rel=\"dns-prefetch\"/> <link href=\"ref.placeholder\" rel=\"dns-prefetch\"/> <link href=\"ref.placeholder\" rel=\"dns-prefetch\"/> <link href=\"ref.placeholder\" rel=\"dns-prefetch\"/> <link href=\"ref.placeholder\" rel=\"dns-prefetch\"/> <link href=\"ref.placeholder\" rel=\"dns-prefetch\"/> <link href=\"ref.placeholder\" rel=\"dns-prefetch\"/> <link href=\"ref.placeholder\" rel=\"dns-prefetch\"/> <link href=\"ref.placeholder\" rel=\"dns-prefetch\"/> <link href=\"ref.placeholder\" rel=\"dns-prefetch\"/> <link href=\"ref.placeholder\" rel=\"dns-prefetch\"/> <link href=\"ref.placeholder\" rel=\"dns-prefetch\"/> <link href=\"ref.placeholder\" rel=\"dns-prefetch\"/> <link href=\"ref.placeholder\" rel=\"dns-prefetch\"/> <link href=\"ref.placeholder\" rel=\"dns-prefetch\"/> <link href=\"ref.placeholder\" rel=\"dns-prefetch\"/> <link href=\"ref.placeholder\" rel=\"dns-prefetch\"/> <link href=\"ref.placeholder\" rel=\"dns-prefetch\"/> <link href=\"ref.placeholder\" rel=\"dns-prefetch\"/> <link href=\"ref.placeholder\" rel=\"dns-prefetch\"/> <link href=\"ref.placeholder\" rel=\"dns-prefetch\"/> <link href=\"ref.placeholder\" rel=\"dns-prefetch\"/> <link href=\"ref.placeholder\" rel=\"dns-prefetch\"/> <link href=\"ref.placeholder\" rel=\"dns-prefetch\"/> <link href=\"ref.placeholder\" rel=\"dns-prefetch\"/> <link href=\"ref.placeholder\" rel=\"dns-prefetch\"/> <link href=\"ref.placeholder\" rel=\"dns-prefetch\"/> <link href=\"ref.placeholder\" rel=\"dns-prefetch\"/> <link href=\"ref.placeholder\" rel=\"dns-prefetch\"/> <link href=\"ref.placeholder\" rel=\"dns-prefetch\"/> <link href=\"ref.placeholder\" rel=\"dns-prefetch\"/> <link href=\"ref.placeholder\" rel=\"dns-prefetch\"/> <link href=\"ref.placeholder\" rel=\"dns-prefetch\"/> <link href=\"ref.placeholder\" rel=\"dns-prefetch\"/> <link href=\"ref.placeholder\" rel=\"dns-prefetch\"/> <link href=\"ref.placeholder\" rel=\"dns-prefetch\"/> <link href=\"ref.placeholder\" rel=\"dns-prefetch\"/> <link href=\"ref.placeholder\" rel=\"dns-prefetch\"/> <link href=\"ref.placeholder\" rel=\"dns-prefetch\"/> <link href=\"ref.placeholder\" rel=\"dns-prefetch\"/> <link href=\"ref.placeholder\" rel=\"dns-prefetch\"/> <link href=\"ref.placeholder\" rel=\"dns-prefetch\"/> <link href=\"ref.placeholder\" rel=\"dns-prefetch\"/> <link href=\"ref.placeholder\" rel=\"dns-prefetch\"/> <link href=\"ref.placeholder\" rel=\"dns-prefetch\"/> <link href=\"ref.placeholder\" rel=\"dns-prefetch\"/> <link href=\"ref.placeholder\" rel=\"dns-prefetch\"/> <link href=\"ref.placeholder\" rel=\"dns-prefetch\"/> <link href=\"ref.placeholder\" rel=\"dns-prefetch\"/> <link href=\"ref.placeholder\" rel=\"dns-prefetch\"/> <link href=\"ref.placeholder\" rel=\"dns-prefetch\"/> <link href=\"ref.placeholder\" rel=\"dns-prefetch\"/> <link href=\"ref.placeholder\" rel=\"dns-prefetch\"/> <link href=\"ref.placeholder\" rel=\"dns-prefetch\"/> <link href=\"ref.placeholder\" rel=\"dns-prefetch\"/> <link href=\"ref.placeholder\" rel=\"dns-prefetch\"/> <link href=\"ref.placeholder\" rel=\"dns-prefetch\"/> <link href=\"ref.placeholder\" rel=\"dns-prefetch\"/> <link href=\"ref.placeholder\" rel=\"dns-prefetch\"/> <link href=\"ref.placeholder\" rel=\"dns-prefetch\"/> <link href=\"ref.placeholder\" rel=\"dns-prefetch\"/> <link href=\"ref.placeholder\" rel=\"dns-prefetch\"/> <link href=\"ref.placeholder\" rel=\"dns-prefetch\"/> <link href=\"ref.placeholder\" rel=\"dns-prefetch\"/> <link href=\"ref.placeholder\" rel=\"dns-prefetch\"/> <link href=\"ref.placeholder\" rel=\"dns-prefetch\"/> <link href=\"ref.placeholder\" rel=\"dns-prefetch\"/> <link href=\"ref.placeholder\" rel=\"dns-prefetch\"/> <link href=\"ref.placeholder\" rel=\"dns-prefetch\"/> <link href=\"ref.placeholder\" rel=\"dns-prefetch\"/> <link href=\"ref.placeholder\" rel=\"dns-prefetch\"/> <link href=\"ref.placeholder\" rel=\"dns-prefetch\"/> <link href=\"ref.placeholder\" rel=\"dns-prefetch\"/> <link href=\"ref.placeholder\" rel=\"dns-prefetch\"/> <link href=\"ref.placeholder\" rel=\"dns-prefetch\"/> <link href=\"ref.placeholder\" rel=\"dns-prefetch\"/> <link href=\"ref.placeholder\" rel=\"dns-prefetch\"/> <link href=\"ref.placeholder\" rel=\"dns-prefetch\"/> <link href=\"ref.placeholder\" rel=\"dns-prefetch\"/> <link href=\"ref.placeholder\" rel=\"dns-prefetch\"/> <link href=\"ref.placeholder\" rel=\"dns-prefetch\"/> <link href=\"ref.placeholder\" rel=\"dns-prefetch\"/> <link href=\"ref.placeholder\" rel=\"dns-prefetch\"/> <link href=\"ref.placeholder\" rel=\"dns-prefetch\"/> <link href=\"ref.placeholder\" rel=\"dns-prefetch\"/> <link href=\"ref.placeholder\" rel=\"dns-prefetch\"/> <link href=\"ref.placeholder\" rel=\"dns-prefetch\"/> <link href=\"ref.placeholder\" rel=\"dns-prefetch\"/> <link href=\"ref.placeholder\" rel=\"dns-prefetch\"/> <link href=\"ref.placeholder\" rel=\"dns-prefetch\"/> <link href=\"ref.placeholder\" rel=\"dns-prefetch\"/> <link href=\"ref.placeholder\" rel=\"dns-prefetch\"/> <link href=\"ref.placeholder\" rel=\"dns-prefetch\"/> <link href=\"ref.placeholder\" rel=\"dns-prefetch\"/> <link href=\"ref.placeholder\" rel=\"dns-prefetch\"/> <link href=\"ref.placeholder\" rel=\"dns-prefetch\"/> <link href=\"ref.placeholder\" rel=\"dns-prefetch\"/> <link href=\"ref.placeholder\" rel=\"dns-prefetch\"/> <link href=\"ref.placeholder\" rel=\"dns-prefetch\"/> <link href=\"ref.placeholder\" rel=\"dns-prefetch\"/> <link href=\"ref.placeholder\" rel=\"dns-prefetch\"/> <link href=\"ref.placeholder\" rel=\"dns-prefetch\"/> <link href=\"ref.placeholder\" rel=\"dns-prefetch\"/> <link href=\"ref.placeholder\" rel=\"dns-prefetch\"/> <link href=\"ref.placeholder\" rel=\"dns-prefetch\"/> <link href=\"ref.placeholder\" rel=\"dns-prefetch\"/> <link href=\"ref.placeholder\" rel=\"dns-prefetch\"/> <link href=\"ref.placeholder\" rel=\"dns-prefetch\"/> <link href=\"ref.placeholder\" rel=\"dns-prefetch\"/> <link href=\"ref.placeholder\" rel=\"dns-prefetch\"/> <link href=\"ref.placeholder\" rel=\"dns-prefetch\"/> <link href=\"ref.placeholder\" rel=\"dns-prefetch\"/> <link href=\"ref.placeholder\" rel=\"dns-prefetch\"/> <link href=\"ref.placeholder\" rel=\"dns-prefetch\"/> <link href=\"ref.placeholder\" rel=\"dns-prefetch\"/> <link href=\"ref.placeholder\" rel=\"dns-prefetch\"/> <link href=\"ref.placeholder\" rel=\"dns-prefetch\"/> <link href=\"ref.placeholder\" rel=\"dns-prefetch\"/> <link href=\"ref.placeholder\" rel=\"dns-prefetch\"/> <link href=\"ref.placeholder\" rel=\"dns-prefetch\"/> <link href=\"ref.placeholder\" rel=\"dns-prefetch\"/> <link href=\"ref.placeholder\" rel=\"dns-prefetch\"/> <link href=\"ref.placeholder\" rel=\"dns-prefetch\"/> <link href=\"ref.placeholder\" rel=\"dns-prefetch\"/> <link href=\"ref.placeholder\" rel=\"dns-prefetch\"/> <link href=\"ref.placeholder\" rel=\"dns-prefetch\"/> <link href=\"ref.placeholder\" rel=\"dns-prefetch\"/> <link href=\"ref.placeholder\" rel=\"dns-prefetch\"/> <link href=\"ref.placeholder\" rel=\"dns-prefetch\"/> <link href=\"ref.placeholder\" rel=\"dns-prefetch\"/> <link href=\"ref.placeholder\" rel=\"dns-prefetch\"/> <link href=\"ref.placeholder\" rel=\"dns-prefetch\"/> <link href=\"ref.placeholder\" rel=\"dns-prefetch\"/> <link href=\"ref.placeholder\" rel=\"dns-prefetch\"/> <link href=\"ref.placeholder\" rel=\"dns-prefetch\"/> <link href=\"ref.placeholder\" rel=\"dns-prefetch\"/> <link href=\"ref.placeholder\" rel=\"dns-prefetch\"/> <link href=\"ref.placeholder\" rel=\"dns-prefetch\"/> <link href=\"ref.placeholder\" rel=\"dns-prefetch\"/> <link href=\"ref.placeholder\" rel=\"dns-prefetch\"/> <link href=\"ref.placeholder\" rel=\"dns-prefetch\"/> <link href=\"ref.placeholder\" rel=\"dns-prefetch\"/> <link href=\"ref.placeholder\" rel=\"dns-prefetch\"/> <link href=\"ref.placeholder\" rel=\"dns-prefetch\"/> <link href=\"ref.placeholder\" rel=\"dns-prefetch\"/> <link href=\"ref.placeholder\" rel=\"dns-prefetch\"/> <link href=\"ref.placeholder\" rel=\"dns-prefetch\"/> <link href=\"ref.placeholder\" rel=\"dns-prefetch\"/> <link href=\"ref.placeholder\" rel=\"dns-prefetch\"/> <link href=\"ref.placeholder\" rel=\"dns-prefetch\"/> <link href=\"ref.placeholder\" rel=\"dns-prefetch\"/> <link href=\"ref.placeholder\" rel=\"dns-prefetch\"/> <link href=\"ref.placeholder\" rel=\"dns-prefetch\"/> <link href=\"ref.placeholder\" rel=\"dns-prefetch\"/> <link href=\"ref.placeholder\" rel=\"dns-prefetch\"/> <link href=\"ref.placeholder\" rel=\"dns-prefetch\"/> <link href=\"ref.placeholder\" rel=\"dns-prefetch\"/> <link href=\"ref.placeholder\" rel=\"dns-prefetch\"/> <link href=\"ref.placeholder\" rel=\"dns-prefetch\"/> <link href=\"ref.placeholder\" rel=\"dns-prefetch\"/> <link href=\"ref.placeholder\" rel=\"dns-prefetch\"/> <link href=\"ref.placeholder\" rel=\"dns-prefetch\"/> <link href=\"ref.placeholder\" rel=\"dns-prefetch\"/> <link href=\"ref.placeholder\" rel=\"dns-prefetch\"/> <link href=\"ref.placeholder\" rel=\"dns-prefetch\"/> <link href=\"ref.placeholder\" rel=\"dns-prefetch\"/> <link href=\"ref.placeholder\" rel=\"dns-prefetch\"/> <link href=\"ref.placeholder\" rel=\"dns-prefetch\"/> <link href=\"ref.placeholder\" rel=\"dns-prefetch\"/> <link href=\"ref.placeholder\" rel=\"dns-prefetch\"/> <link href=\"ref.placeholder\" rel=\"dns-prefetch\"/> <link href=\"ref.placeholder\" rel=\"dns-prefetch\"/> <link href=\"ref.placeholder\" rel=\"dns-prefetch\"/> <link href=\"ref.placeholder\" rel=\"dns-prefetch\"/> <link href=\"ref.placeholder\" rel=\"dns-prefetch\"/> <link href=\"ref.placeholder\" rel=\"dns-prefetch\"/> <link href=\"ref.placeholder\" rel=\"dns-prefetch\"/> <link href=\"ref.placeholder\" rel=\"dns-prefetch\"/> <link href=\"ref.placeholder\" rel=\"dns-prefetch\"/> <link href=\"ref.placeholder\" rel=\"dns-prefetch\"/> <link href=\"ref.placeholder\" rel=\"dns-prefetch\"/> <link href=\"ref.placeholder\" rel=\"dns-prefetch\"/> <link href=\"ref.placeholder\" rel=\"dns-prefetch\"/> <link href=\"ref.placeholder\" rel=\"dns-prefetch\"/> <link href=\"ref.placeholder\" rel=\"dns-prefetch\"/> <link href=\"ref.placeholder\" rel=\"dns-prefetch\"/> <link href=\"ref.placeholder\" rel=\"dns-prefetch\"/> <link href=\"ref.placeholder\" rel=\"dns-prefetch\"/> <link href=\"ref.placeholder\" rel=\"dns-prefetch\"/> <link href=\"ref.placeholder\" rel=\"dns-prefetch\"/> <link href=\"ref.placeholder\" rel=\"dns-prefetch\"/> <link href=\"ref.placeholder\" rel=\"dns-prefetch\"/> <link href=\"ref.placeholder\" rel=\"dns-prefetch\"/> <link href=\"ref.placeholder\" rel=\"dns-prefetch\"/> <link href=\"ref.placeholder\" rel=\"dns-prefetch\"/> <link href=\"ref.placeholder\" rel=\"dns-prefetch\"/> <link href=\"ref.placeholder\" rel=\"dns-prefetch\"/> <link href=\"ref.placeholder\" rel=\"dns-prefetch\"/> <link href=\"ref.placeholder\" rel=\"dns-prefetch\"/> <link href=\"ref.placeholder\" rel=\"dns-prefetch\"/> <link href=\"ref.placeholder\" rel=\"dns-prefetch\"/> <link href=\"ref.placeholder\" rel=\"dns-prefetch\"/> <link href=\"ref.placeholder\" rel=\"dns-prefetch\"/> <link href=\"ref.placeholder\" rel=\"dns-prefetch\"/> <link href=\"ref.placeholder\" rel=\"dns-prefetch\"/> <link href=\"ref.placeholder\" rel=\"dns-prefetch\"/> <link href=\"ref.placeholder\" rel=\"dns-prefetch\"/> <link href=\"ref.placeholder\" rel=\"dns-prefetch\"/> <link href=\"ref.placeholder\" rel=\"dns-prefetch\"/> <link href=\"ref.placeholder\" rel=\"dns-prefetch\"/> <link href=\"ref.placeholder\" rel=\"dns-prefetch\"/> <link href=\"ref.placeholder\" rel=\"dns-prefetch\"/> <link href=\"ref.placeholder\" rel=\"dns-prefetch\"/> <link href=\"ref.placeholder\" rel=\"dns-prefetch\"/> <link href=\"ref.placeholder\" rel=\"dns-prefetch\"/> <link href=\"ref.placeholder\" rel=\"dns-prefetch\"/> <link href=\"ref.placeholder\" rel=\"dns-prefetch\"/> <link href=\"ref.placeholder\" rel=\"dns-prefetch\"/> <link href=\"ref.placeholder\" rel=\"dns-prefetch\"/> <link href=\"ref.placeholder\" rel=\"dns-prefetch\"/> <link href=\"ref.placeholder\" rel=\"dns-prefetch\"/> <link href=\"ref.placeholder\" rel=\"dns-prefetch\"/> <link href=\"ref.placeholder\" rel=\"dns-prefetch\"/> <link href=\"ref.placeholder\" rel=\"dns-prefetch\"/> <link href=\"ref.placeholder\" rel=\"dns-prefetch\"/> <link href=\"ref.placeholder\" rel=\"dns-prefetch\"/> <link href=\"ref.placeholder\" rel=\"dns-prefetch\"/> <link href=\"ref.placeholder\" rel=\"dns-prefetch\"/> <link href=\"ref.placeholder\" rel=\"dns-prefetch\"/> <link href=\"ref.placeholder\" rel=\"dns-prefetch\"/> <link href=\"ref.placeholder\" rel=\"dns-prefetch\"/> <link href=\"ref.placeholder\" rel=\"dns-prefetch\"/> <link href=\"ref.placeholder\" rel=\"dns-prefetch\"/> <link href=\"ref.placeholder\" rel=\"dns-prefetch\"/> <link href=\"ref.placeholder\" rel=\"dns-prefetch\"/> <link href=\"ref.placeholder\" rel=\"dns-prefetch\"/> <link href=\"ref.placeholder\" rel=\"dns-prefetch\"/> <link href=\"ref.placeholder\" rel=\"dns-prefetch\"/> <link href=\"ref.placeholder\" rel=\"dns-prefetch\"/> <link href=\"ref.placeholder\" rel=\"dns-prefetch\"/> <link href=\"ref.placeholder\" rel=\"dns-prefetch\"/> <link href=\"ref.placeholder\" rel=\"dns-prefetch\"/> <link href=\"ref.placeholder\" rel=\"dns-prefetch\"/> <link href=\"ref.placeholder\" rel=\"dns-prefetch\"/> <link href=\"ref.placeholder\" rel=\"dns-prefetch\"/> <link href=\"ref.placeholder\" rel=\"dns-prefetch\"/> <link href=\"ref.placeholder\" rel=\"dns-prefetch\"/> <link href=\"ref.placeholder\" rel=\"dns-prefetch\"/> <link href=\"ref.placeholder\" rel=\"dns-prefetch\"/> <link href=\"ref.placeholder\" rel=\"dns-prefetch\"/> <link href=\"ref.placeholder\" rel=\"dns-prefetch\"/> <link href=\"ref.placeholder\" rel=\"dns-prefetch\"/> <link href=\"ref.placeholder\" rel=\"dns-prefetch\"/> <link href=\"ref.placeholder\" rel=\"dns-prefetch\"/> <link href=\"ref.placeholder\" rel=\"dns-prefetch\"/> <link href=\"ref.placeholder\" rel=\"dns-prefetch\"/> <link href=\"ref.placeholder\" rel=\"dns-prefetch\"/> <link href=\"ref.placeholder\" rel=\"dns-prefetch\"/> <link href=\"ref.placeholder\" rel=\"dns-prefetch\"/> <link href=\"ref.placeholder\" rel=\"dns-prefetch\"/> <link href=\"ref.placeholder\" rel=\"dns-prefetch\"/> <link href=\"ref.placeholder\" rel=\"dns-prefetch\"/> <link href=\"ref.placeholder\" rel=\"dns-prefetch\"/> <link href=\"ref.placeholder\" rel=\"dns-prefetch\"/> <link href=\"ref.placeholder\" rel=\"dns-prefetch\"/> <link href=\"ref.placeholder\" rel=\"dns-prefetch\"/> <link href=\"ref.placeholder\" rel=\"dns-prefetch\"/> <link href=\"ref.placeholder\" rel=\"dns-prefetch\"/> <link href=\"ref.placeholder\" rel=\"dns-prefetch\"/> <link href=\"ref.placeholder\" rel=\"dns-prefetch\"/> <link href=\"ref.placeholder\" rel=\"dns-prefetch\"/> <link href=\"ref.placeholder\" rel=\"dns-prefetch\"/> <link href=\"ref.placeholder\" rel=\"dns-prefetch\"/> <link href=\"ref.placeholder\" rel=\"dns-prefetch\"/> <link href=\"ref.placeholder\" rel=\"dns-prefetch\"/> <link href=\"ref.placeholder\" rel=\"dns-prefetch\"/> <link href=\"ref.placeholder\" rel=\"dns-prefetch\"/> <link href=\"ref.placeholder\" rel=\"dns-prefetch\"/> <link href=\"ref.placeholder\" rel=\"dns-prefetch\"/> <link href=\"ref.placeholder\" rel=\"dns-prefetch\"/> <link href=\"ref.placeholder\" rel=\"dns-prefetch\"/> <link href=\"ref.placeholder\" rel=\"dns-prefetch\"/> <link href=\"ref.placeholder\" rel=\"dns-prefetch\"/> <link href=\"ref.placeholder\" rel=\"dns-prefetch\"/> <link href=\"ref.placeholder\" rel=\"dns-prefetch\"/> <link href=\"ref.placeholder\" rel=\"dns-prefetch\"/> <link href=\"ref.placeholder\" rel=\"dns-prefetch\"/> <link href=\"ref.placeholder\" rel=\"dns-prefetch\"/> <link href=\"ref.placeholder\" rel=\"dns-prefetch\"/> <link href=\"ref.placeholder\" rel=\"dns-prefetch\"/> <link href=\"ref.placeholder\" rel=\"dns-prefetch\"/> <link href=\"ref.placeholder\" rel=\"dns-prefetch\"/> <link href=\"ref.placeholder\" rel=\"dns-prefetch\"/> <link href=\"ref.placeholder\" rel=\"dns-prefetch\"/> <link href=\"ref.placeholder\" rel=\"dns-prefetch\"/> <link href=\"ref.placeholder\" rel=\"dns-prefetch\"/> <link href=\"ref.placeholder\" rel=\"dns-prefetch\"/> <link href=\"ref.placeholder\" rel=\"dns-prefetch\"/> <link href=\"ref.placeholder\" rel=\"dns-prefetch\"/> <link href=\"ref.placeholder\" rel=\"dns-prefetch\"/> <link href=\"ref.placeholder\" rel=\"dns-prefetch\"/> <link href=\"ref.placeholder\" rel=\"dns-prefetch\"/> <link href=\"ref.placeholder\" rel=\"dns-prefetch\"/> <link href=\"ref.placeholder\" rel=\"dns-prefetch\"/> <link href=\"ref.placeholder\" rel=\"dns-prefetch\"/> <link href=\"ref.placeholder\" rel=\"dns-prefetch\"/> <link href=\"ref.placeholder\" rel=\"dns-prefetch\"/> <link href=\"ref.placeholder\" rel=\"dns-prefetch\"/> <link href=\"ref.placeholder\" rel=\"dns-prefetch\"/> <link href=\"ref.placeholder\" rel=\"dns-prefetch\"/> <link href=\"ref.placeholder\" rel=\"dns-prefetch\"/> <link href=\"ref.placeholder\" rel=\"dns-prefetch\"/> <link href=\"ref.placeholder\" rel=\"dns-prefetch\"/> <link href=\"ref.placeholder\" rel=\"dns-prefetch\"/> <link href=\"ref.placeholder\" rel=\"dns-prefetch\"/> <link href=\"ref.placeholder\" rel=\"dns-prefetch\"/> <link href=\"ref.placeholder\" rel=\"dns-prefetch\"/> <link href=\"ref.placeholder\" rel=\"dns-prefetch\"/> <link href=\"ref.placeholder\" rel=\"dns-prefetch\"/> <link href=\"ref.placeholder\" rel=\"dns-prefetch\"/> <link href=\"ref.placeholder\" rel=\"dns-prefetch\"/> <link href=\"ref.placeholder\" rel=\"dns-prefetch\"/> <link href=\"ref.placeholder\" rel=\"dns-prefetch\"/> <link href=\"ref.placeholder\" rel=\"dns-prefetch\"/> <link href=\"ref.placeholder\" rel=\"dns-prefetch\"/> <link href=\"ref.placeholder\" rel=\"dns-prefetch\"/> <link href=\"ref.placeholder\" rel=\"dns-prefetch\"/> <link href=\"ref.placeholder\" rel=\"dns-prefetch\"/> <link href=\"ref.placeholder\" rel=\"dns-prefetch\"/> <link href=\"ref.placeholder\" rel=\"dns-prefetch\"/> <link href=\"ref.placeholder\" rel=\"dns-prefetch\"/> <link href=\"ref.placeholder\" rel=\"dns-prefetch\"/> <link href=\"ref.placeholder\" rel=\"dns-prefetch\"/> <link href=\"ref.placeholder\" rel=\"dns-prefetch\"/> <link href=\"ref.placeholder\" rel=\"dns-prefetch\"/> <link href=\"ref.placeholder\" rel=\"dns-prefetch\"/> <link href=\"ref.placeholder\" rel=\"dns-prefetch\"/> <link href=\"ref.placeholder\" rel=\"dns-prefetch\"/> <link href=\"ref.placeholder\" rel=\"dns-prefetch\"/> <link href=\"ref.placeholder\" rel=\"dns-prefetch\"/> <link href=\"ref.placeholder\" rel=\"dns-prefetch\"/> <link href=\"ref.placeholder\" rel=\"dns-prefetch\"/> <link href=\"ref.placeholder\" rel=\"dns-prefetch\"/> <link href=\"ref.placeholder\" rel=\"dns-prefetch\"/> <link href=\"ref.placeholder\" rel=\"dns-prefetch\"/> <link href=\"ref.placeholder\" rel=\"dns-prefetch\"/> <link href=\"ref.placeholder\" rel=\"dns-prefetch\"/> <link href=\"ref.placeholder\" rel=\"dns-prefetch\"/> <link href=\"ref.placeholder\" rel=\"dns-prefetch\"/> <link href=\"ref.placeholder\" rel=\"dns-prefetch\"/> <link href=\"ref.placeholder\" rel=\"dns-prefetch\"/> <link href=\"ref.placeholder\" rel=\"dns-prefetch\"/> <link href=\"ref.placeholder\" rel=\"dns-prefetch\"/> <link href=\"ref.placeholder\" rel=\"dns-prefetch\"/> <link href=\"ref.placeholder\" rel=\"dns-prefetch\"/> <link href=\"ref.placeholder\" rel=\"dns-prefetch\"/> <link href=\"ref.placeholder\" rel=\"dns-prefetch\"/> <link href=\"ref.placeholder\" rel=\"dns-prefetch\"/> <link href=\"ref.placeholder\" rel=\"dns-prefetch\"/> <link href=\"ref.placeholder\" rel=\"dns-prefetch\"/> <link href=\"ref.placeholder\" rel=\"dns-prefetch\"/> <link href=\"ref.placeholder\" rel=\"dns-prefetch\"/> <link href=\"ref.placeholder\" rel=\"dns-prefetch\"/> <link href=\"ref.placeholder\" rel=\"dns-prefetch\"/> <link href=\"ref.placeholder\" rel=\"dns-prefetch\"/> <link href=\"ref.placeholder\" rel=\"dns-prefetch\"/> <link href=\"ref.placeholder\" rel=\"dns-prefetch\"/> <link href=\"ref.placeholder\" rel=\"dns-prefetch\"/> <link href=\"ref.placeholder\" rel=\"dns-prefetch\"/> <link href=\"ref.placeholder\" rel=\"dns-prefetch\"/> <link href=\"ref.placeholder\" rel=\"dns-prefetch\"/> <link href=\"ref.placeholder\" rel=\"dns-prefetch\"/> <link href=\"ref.placeholder\" rel=\"dns-prefetch\"/> <link href=\"ref.placeholder\" rel=\"dns-prefetch\"/> <link href=\"ref.placeholder\" rel=\"dns-prefetch\"/> <link href=\"ref.placeholder\" rel=\"dns-prefetch\"/> <link href=\"ref.placeholder\" rel=\"dns-prefetch\"/> <link href=\"ref.placeholder\" rel=\"dns-prefetch\"/> <link href=\"ref.placeholder\" rel=\"dns-prefetch\"/> <link href=\"ref.placeholder\" rel=\"dns-prefetch\"/> <link href=\"ref.placeholder\" rel=\"dns-prefetch\"/> <link href=\"ref.placeholder\" rel=\"dns-prefetch\"/> <link href=\"ref.placeholder\" rel=\"dns-prefetch\"/> <link href=\"ref.placeholder\" rel=\"dns-prefetch\"/> <link href=\"ref.placeholder\" rel=\"dns-prefetch\"/> <link href=\"ref.placeholder\" rel=\"dns-prefetch\"/> <link href=\"ref.placeholder\" rel=\"dns-prefetch\"/> <link href=\"ref.placeholder\" rel=\"dns-prefetch\"/> <link href=\"ref.placeholder\" rel=\"dns-prefetch\"/> <link href=\"ref.placeholder\" rel=\"dns-prefetch\"/> <link href=\"ref.placeholder\" rel=\"dns-prefetch\"/> <link href=\"ref.placeholder\" rel=\"dns-prefetch\"/> <link href=\"ref.placeholder\" rel=\"dns-prefetch\"/> <link href=\"ref.placeholder\" rel=\"dns-prefetch\"/> <link href=\"ref.placeholder\" rel=\"dns-prefetch\"/> <link href=\"ref.placeholder\" rel=\"dns-prefetch\"/> <link href=\"ref.placeholder\" rel=\"dns-prefetch\"/> <link href=\"ref.placeholder\" rel=\"dns-prefetch\"/> <link href=\"ref.placeholder\" rel=\"dns-prefetch\"/> <link href=\"ref.placeholder\" rel=\"dns-prefetch\"/> <link href=\"ref.placeholder\" rel=\"dns-prefetch\"/> <link href=\"ref.placeholder\" rel=\"dns-prefetch\"/> <link href=\"ref.placeholder\" rel=\"dns-prefetch\"/> <link href=\"ref.placeholder\" rel=\"dns-prefetch\"/> <link href=\"ref.placeholder\" rel=\"dns-prefetch\"/> <link href=\"ref.placeholder\" rel=\"dns-prefetch\"/> <link href=\"ref.placeholder\" rel=\"dns-prefetch\"/> <link href=\"ref.placeholder\" rel=\"dns-prefetch\"/> <link href=\"ref.placeholder\" rel=\"dns-prefetch\"/> <link href=\"ref.placeholder\" rel=\"dns-prefetch\"/> <link href=\"ref.placeholder\" rel=\"dns-prefetch\"/> <link href=\"ref.placeholder\" rel=\"dns-prefetch\"/> <link href=\"ref.placeholder\" rel=\"dns-prefetch\"/> <link href=\"ref.placeholder\" rel=\"dns-prefetch\"/> <link href=\"ref.placeholder\" rel=\"dns-prefetch\"/> <link href=\"ref.placeholder\" rel=\"dns-prefetch\"/> <link href=\"ref.placeholder\" rel=\"dns-prefetch\"/> <link href=\"ref.placeholder\" rel=\"dns-prefetch\"/> <link href=\"ref.placeholder\" rel=\"dns-prefetch\"/> <link href=\"ref.placeholder\" rel=\"dns-prefetch\"/> <link href=\"ref.placeholder\" rel=\"dns-prefetch\"/> <link href=\"ref.placeholder\" rel=\"dns-prefetch\"/> <link href=\"ref.placeholder\" rel=\"dns-prefetch\"/> <link href=\"ref.placeholder\" rel=\"dns-prefetch\"/> <link href=\"ref.placeholder\" rel=\"dns-prefetch\"/> <link href=\"ref.placeholder\" rel=\"dns-prefetch\"/> <link href=\"ref.placeholder\" rel=\"dns-prefetch\"/> <link href=\"ref.placeholder\" rel=\"dns-prefetch\"/> <link href=\"ref.placeholder\" rel=\"dns-prefetch\"/> <link href=\"ref.placeholder\" rel=\"dns-prefetch\"/> <link href=\"ref.placeholder\" rel=\"dns-prefetch\"/> <link href=\"ref.placeholder\" rel=\"dns-prefetch\"/> <link href=\"ref.placeholder\" rel=\"dns-prefetch\"/> <link href=\"ref.placeholder\" rel=\"dns-prefetch\"/> <link href=\"ref.placeholder\" rel=\"dns-prefetch\"/> <link href=\"ref.placeholder\" rel=\"dns-prefetch\"/> <link href=\"ref.placeholder\" rel=\"dns-prefetch\"/> <link href=\"ref.placeholder\" rel=\"dns-prefetch\"/> <link href=\"ref.placeholder\" rel=\"dns-prefetch\"/> <link href=\"ref.placeholder\" rel=\"dns-prefetch\"/> <link href=\"ref.placeholder\" rel=\"dns-prefetch\"/> <link href=\"ref.placeholder\" rel=\"dns-prefetch\"/> <link href=\"ref.placeholder\" rel=\"dns-prefetch\"/> <link href=\"ref.placeholder\" rel=\"dns-prefetch\"/> <link href=\"ref.placeholder\" rel=\"dns-prefetch\"/> <link href=\"ref.placeholder\" rel=\"dns-prefetch\"/> <link href=\"ref.placeholder\" rel=\"dns-prefetch\"/> <link href=\"ref.placeholder\" rel=\"dns-prefetch\"/> <link href=\"ref.placeholder\" rel=\"dns-prefetch\"/> <link href=\"ref.placeholder\" rel=\"dns-prefetch\"/> <link href=\"ref.placeholder\" rel=\"dns-prefetch\"/> <link href=\"ref.placeholder\" rel=\"dns-prefetch\"/> <link href=\"ref.placeholder\" rel=\"dns-prefetch\"/> <link href=\"ref.placeholder\" rel=\"dns-prefetch\"/> <link href=\"ref.placeholder\" rel=\"dns-prefetch\"/> <link href=\"ref.placeholder\" rel=\"dns-prefetch\"/> <link href=\"ref.placeholder\" rel=\"dns-prefetch\"/> <link href=\"ref.placeholder\" rel=\"dns-prefetch\"/> <link href=\"ref.placeholder\" rel=\"dns-prefetch\"/> <link href=\"ref.placeholder\" rel=\"dns-prefetch\"/> <link href=\"ref.placeholder\" rel=\"dns-prefetch\"/> <link href=\"ref.placeholder\" rel=\"dns-prefetch\"/> <link href=\"ref.placeholder\" rel=\"dns-prefetch\"/> <link href=\"ref.placeholder\" rel=\"dns-prefetch\"/> <link href=\"ref.placeholder\" rel=\"dns-prefetch\"/> <link href=\"ref.placeholder\" rel=\"dns-prefetch\"/> <link href=\"ref.placeholder\" rel=\"dns-prefetch\"/> <link href=\"ref.placeholder\" rel=\"dns-prefetch\"/> <link href=\"ref.placeholder\" rel=\"dns-prefetch\"/> <link href=\"ref.placeholder\" rel=\"dns-prefetch\"/> <link href=\"ref.placeholder\" rel=\"dns-prefetch\"/> <link href=\"ref.placeholder\" rel=\"dns-prefetch\"/> <link href=\"ref.placeholder\" rel=\"dns-prefetch\"/> <link href=\"ref.placeholder\" rel=\"dns-prefetch\"/> <link href=\"ref.placeholder\" rel=\"dns-prefetch\"/> <link href=\"ref.placeholder\" rel=\"dns-prefetch\"/> <link href=\"ref.placeholder\" rel=\"dns-prefetch\"/> <link href=\"ref.placeholder\" rel=\"dns-prefetch\"/> <link href=\"ref.placeholder\" rel=\"dns-prefetch\"/> <link href=\"ref.placeholder\" rel=\"dns-prefetch\"/> <link href=\"ref.placeholder\" rel=\"dns-prefetch\"/> <link href=\"ref.placeholder\" rel=\"dns-prefetch\"/> <link href=\"ref.placeholder\" rel=\"dns-prefetch\"/> <link href=\"ref.placeholder\" rel=\"dns-prefetch\"/> <link href=\"ref.placeholder\" rel=\"dns-prefetch\"/> <link href=\"ref.placeholder\" rel=\"dns-prefetch\"/> <link href=\"ref.placeholder\" rel=\"dns-prefetch\"/> <link href=\"ref.placeholder\" rel=\"dns-prefetch\"/> <link href=\"ref.placeholder\" rel=\"dns-prefetch\"/> <link href=\"ref.placeholder\" rel=\"dns-prefetch\"/> <link href=\"ref.placeholder\" rel=\"dns-prefetch\"/> <link href=\"ref.placeholder\" rel=\"dns-prefetch\"/> <link href=\"ref.placeholder\" rel=\"dns-prefetch\"/> <link href=\"ref.placeholder\" rel=\"dns-prefetch\"/> <link href=\"ref.placeholder\" rel=\"dns-prefetch\"/> <link href=\"ref.placeholder\" rel=\"dns-prefetch\"/> <link href=\"ref.placeholder\" rel=\"dns-prefetch\"/> <link href=\"ref.placeholder\" rel=\"dns-prefetch\"/> <link href=\"ref.placeholder\" rel=\"dns-prefetch\"/> <link href=\"ref.placeholder\" rel=\"dns-prefetch\"/> <link href=\"ref.placeholder\" rel=\"dns-prefetch\"/> <link href=\"ref.placeholder\" rel=\"dns-prefetch\"/> <link href=\"ref.placeholder\" rel=\"dns-prefetch\"/> <link href=\"ref.placeholder\" rel=\"dns-prefetch\"/> <link href=\"ref.placeholder\" rel=\"dns-prefetch\"/> <link href=\"ref.placeholder\" rel=\"dns-prefetch\"/> <link href=\"ref.placeholder\" rel=\"dns-prefetch\"/> <link href=\"ref.placeholder\" rel=\"dns-prefetch\"/> <link href=\"ref.placeholder\" rel=\"dns-prefetch\"/> <link href=\"ref.placeholder\" rel=\"dns-prefetch\"/> <link href=\"ref.placeholder\" rel=\"dns-prefetch\"/> <link href=\"ref.placeholder\" rel=\"dns-prefetch\"/> <link href=\"ref.placeholder\" rel=\"dns-prefetch\"/> <link href=\"ref.placeholder\" rel=\"dns-prefetch\"/> <link href=\"ref.placeholder\" rel=\"dns-prefetch\"/> <link href=\"ref.placeholder\" rel=\"dns-prefetch\"/> <link href=\"ref.placeholder\" rel=\"dns-prefetch\"/> <link href=\"ref.placeholder\" rel=\"dns-prefetch\"/> <link href=\"ref.placeholder\" rel=\"dns-prefetch\"/> <link href=\"ref.placeholder\" rel=\"dns-prefetch\"/> <link href=\"ref.placeholder\" rel=\"dns-prefetch\"/> <link href=\"ref.placeholder\" rel=\"dns-prefetch\"/> <link href=\"ref.placeholder\" rel=\"dns-prefetch\"/> <link href=\"ref.placeholder\" rel=\"dns-prefetch\"/> <link href=\"ref.placeholder\" rel=\"dns-prefetch\"/> <link href=\"ref.placeholder\" rel=\"dns-prefetch\"/> <link href=\"ref.placeholder\" rel=\"dns-prefetch\"/> <link href=\"ref.placeholder\" rel=\"dns-prefetch\"/> <link href=\"ref.placeholder\" rel=\"dns-prefetch\"/> <link href=\"ref.placeholder\" rel=\"dns-prefetch\"/> <link href=\"ref.placeholder\" rel=\"dns-prefetch\"/> <link href=\"ref.placeholder\" rel=\"dns-prefetch\"/> <link href=\"ref.placeholder\" rel=\"dns-prefetch\"/> <link href=\"ref.placeholder\" rel=\"dns-prefetch\"/> <link href=\"ref.placeholder\" rel=\"dns-prefetch\"/> <link href=\"ref.placeholder\" rel=\"dns-prefetch\"/> <link href=\"ref.placeholder\" rel=\"dns-prefetch\"/> <link href=\"ref.placeholder\" rel=\"dns-prefetch\"/> <link href=\"ref.placeholder\" rel=\"dns-prefetch\"/> <link href=\"ref.placeholder\" rel=\"dns-prefetch\"/> <link href=\"ref.placeholder\" rel=\"dns-prefetch\"/> <link href=\"ref.placeholder\" rel=\"dns-prefetch\"/> <link href=\"ref.placeholder\" rel=\"dns-prefetch\"/> <link href=\"ref.placeholder\" rel=\"dns-prefetch\"/> <link href=\"ref.placeholder\" rel=\"dns-prefetch\"/> <link href=\"ref.placeholder\" rel=\"dns-prefetch\"/> <link href=\"ref.placeholder\" rel=\"dns-prefetch\"/> <link href=\"ref.placeholder\" rel=\"dns-prefetch\"/> <link href=\"ref.placeholder\" rel=\"dns-prefetch\"/> <link href=\"ref.placeholder\" rel=\"dns-prefetch\"/> <link href=\"ref.placeholder\" rel=\"dns-prefetch\"/> <link href=\"ref.placeholder\" rel=\"dns-prefetch\"/> <link href=\"ref.placeholder\" rel=\"dns-prefetch\"/> <link href=\"ref.placeholder\" rel=\"dns-prefetch\"/> <link href=\"ref.placeholder\" rel=\"dns-prefetch\"/> <link href=\"ref.placeholder\" rel=\"dns-prefetch\"/> <link href=\"ref.placeholder\" rel=\"dns-prefetch\"/> <link href=\"ref.placeholder\" rel=\"dns-prefetch\"/> <link href=\"ref.placeholder\" rel=\"dns-prefetch\"/> <link href=\"ref.placeholder\" rel=\"dns-prefetch\"/> <link href=\"ref.placeholder\" rel=\"dns-prefetch\"/> <link href=\"ref.placeholder\" rel=\"dns-prefetch\"/> <link href=\"ref.placeholder\" rel=\"dns-prefetch\"/> <link href=\"ref.placeholder\" rel=\"dns-prefetch\"/> <link href=\"ref.placeholder\" rel=\"dns-prefetch\"/> <link href=\"ref.placeholder\" rel=\"dns-prefetch\"/> <link href=\"ref.placeholder\" rel=\"dns-prefetch\"/> <link href=\"ref.placeholder\" rel=\"dns-prefetch\"/> <link href=\"ref.placeholder\" rel=\"dns-prefetch\"/> <link href=\"ref.placeholder\" rel=\"dns-prefetch\"/> <link href=\"ref.placeholder\" rel=\"dns-prefetch\"/> <link href=\"ref.placeholder\" rel=\"dns-prefetch\"/> <link href=\"ref.placeholder\" rel=\"dns-prefetch\"/> <link href=\"ref.placeholder\" rel=\"dns-prefetch\"/> <link href=\"ref.placeholder\" rel=\"dns-prefetch\"/> <link href=\"ref.placeholder\" rel=\"dns-prefetch\"/> <link href=\"ref.placeholder\" rel=\"dns-prefetch\"/> <link href=\"ref.placeholder\" rel=\"dns-prefetch\"/> <link href=\"ref.placeholder\" rel=\"dns-prefetch\"/> <link href=\"ref.placeholder\" rel=\"dns-prefetch\"/> <link href=\"ref.placeholder\" rel=\"dns-prefetch\"/> <link href=\"ref.placeholder\" rel=\"dns-prefetch\"/> <link href=\"ref.placeholder\" rel=\"dns-prefetch\"/> <link href=\"ref.placeholder\" rel=\"dns-prefetch\"/> <link href=\"ref.placeholder\" rel=\"dns-prefetch\"/> <link href=\"ref.placeholder\" rel=\"dns-prefetch\"/> <link href=\"ref.placeholder\" rel=\"dns-prefetch\"/> <link href=\"ref.placeholder\" rel=\"dns-prefetch\"/> <link href=\"ref.placeholder\" rel=\"dns-prefetch\"/> <link href=\"ref.placeholder\" rel=\"dns-prefetch\"/> <link href=\"ref.placeholder\" rel=\"dns-prefetch\"/> <link href=\"ref.placeholder\" rel=\"dns-prefetch\"/> <link href=\"ref.placeholder\" rel=\"dns-prefetch\"/> <link href=\"ref.placeholder\" rel=\"dns-prefetch\"/> <link href=\"ref.placeholder\" rel=\"dns-prefetch\"/> <link href=\"ref.placeholder\" rel=\"dns-prefetch\"/> <link href=\"ref.placeholder\" rel=\"dns-prefetch\"/> <link href=\"ref.placeholder\" rel=\"dns-prefetch\"/> <link href=\"ref.placeholder\" rel=\"dns-prefetch\"/> <link href=\"ref.placeholder\" rel=\"dns-prefetch\"/> <link href=\"ref.placeholder\" rel=\"dns-prefetch\"/> <link href=\"ref.placeholder\" rel=\"dns-prefetch\"/> <link href=\"ref.placeholder\" rel=\"dns-prefetch\"/> <link href=\"ref.placeholder\" rel=\"dns-prefetch\"/> <link href=\"ref.placeholder\" rel=\"dns-prefetch\"/> <link href=\"ref.placeholder\" rel=\"dns-prefetch\"/> <link href=\"ref.placeholder\" rel=\"dns-prefetch\"/> <link href=\"ref.placeholder\" rel=\"dns-prefetch\"/> <link href=\"ref.placeholder\" rel=\"dns-prefetch\"/> <link href=\"ref.placeholder\" rel=\"dns-prefetch\"/> <link href=\"ref.placeholder\" rel=\"dns-prefetch\"/> <link href=\"ref.placeholder\" rel=\"dns-prefetch\"/> <link href=\"ref.placeholder\" rel=\"dns-prefetch\"/> <link href=\"ref.placeholder\" rel=\"dns-prefetch\"/> <link href=\"ref.placeholder\" rel=\"dns-prefetch\"/> <link href=\"ref.placeholder\" rel=\"dns-prefetch\"/> <link href=\"ref.placeholder\" rel=\"dns-prefetch\"/> <link href=\"ref.placeholder\" rel=\"dns-prefetch\"/> <link href=\"ref.placeholder\" rel=\"dns-prefetch\"/> <link href=\"ref.placeholder\" rel=\"dns-prefetch\"/> <link href=\"ref.placeholder\" rel=\"dns-prefetch\"/> <link href=\"ref.placeholder\" rel=\"dns-prefetch\"/> <link href=\"ref.placeholder\" rel=\"dns-prefetch\"/> <link href=\"ref.placeholder\" rel=\"dns-prefetch\"/> <link href=\"ref.placeholder\" rel=\"dns-prefetch\"/> <link href=\"ref.placeholder\" rel=\"dns-prefetch\"/> <link href=\"ref.placeholder\" rel=\"dns-prefetch\"/> <link href=\"ref.placeholder\" rel=\"dns-prefetch\"/> <link href=\"ref.placeholder\" rel=\"dns-prefetch\"/> <link href=\"ref.placeholder\" rel=\"dns-prefetch\"/> <link href=\"ref.placeholder\" rel=\"dns-prefetch\"/> <link href=\"ref.placeholder\" rel=\"dns-prefetch\"/> <link href=\"ref.placeholder\" rel=\"dns-prefetch\"/> <link href=\"ref.placeholder\" rel=\"dns-prefetch\"/> <link href=\"ref.placeholder\" rel=\"dns-prefetch\"/> <link href=\"ref.placeholder\" rel=\"dns-prefetch\"/> <link href=\"ref.placeholder\" rel=\"dns-prefetch\"/> <link href=\"ref.placeholder\" rel=\"dns-prefetch\"/> <link href=\"ref.placeholder\" rel=\"dns-prefetch\"/> <link href=\"ref.placeholder\" rel=\"dns-prefetch\"/> <link href=\"ref.placeholder\" rel=\"dns-prefetch\"/> <link href=\"ref.placeholder\" rel=\"dns-prefetch\"/> <link href=\"ref.placeholder\" rel=\"dns-prefetch\"/> <link href=\"ref.placeholder\" rel=\"dns-prefetch\"/> <link href=\"ref.placeholder\" rel=\"dns-prefetch\"/> <link href=\"ref.placeholder\" rel=\"dns-prefetch\"/> <link href=\"ref.placeholder\" rel=\"dns-prefetch\"/> <link href=\"ref.placeholder\" rel=\"dns-prefetch\"/> <link href=\"ref.placeholder\" rel=\"dns-prefetch\"/> <link href=\"ref.placeholder\" rel=\"dns-prefetch\"/> <link href=\"ref.placeholder\" rel=\"dns-prefetch\"/> <link href=\"ref.placeholder\" rel=\"dns-prefetch\"/> <link href=\"ref.placeholder\" rel=\"dns-prefetch\"/> <link href=\"ref.placeholder\" rel=\"dns-prefetch\"/> <link href=\"ref.placeholder\" rel=\"dns-prefetch\"/> <link href=\"ref.placeholder\" rel=\"dns-prefetch\"/> <link href=\"ref.placeholder\" rel=\"dns-prefetch\"/> <link href=\"ref.placeholder\" rel=\"dns-prefetch\"/> <link href=\"ref.placeholder\" rel=\"dns-prefetch\"/> <link href=\"ref.placeholder\" rel=\"dns-prefetch\"/> <link href=\"ref.placeholder\" rel=\"dns-prefetch\"/> <link href=\"ref.placeholder\" rel=\"dns-prefetch\"/> <link href=\"ref.placeholder\" rel=\"dns-prefetch\"/> <link href=\"ref.placeholder\" rel=\"dns-prefetch\"/> <link href=\"ref.placeholder\" rel=\"dns-prefetch\"/> <link href=\"ref.placeholder\" rel=\"dns-prefetch\"/> <link href=\"ref.placeholder\" rel=\"dns-prefetch\"/> <link href=\"ref.placeholder\" rel=\"dns-prefetch\"/> <link href=\"ref.placeholder\" rel=\"dns-prefetch\"/> <link href=\"ref.placeholder\" rel=\"dns-prefetch\"/> <link href=\"ref.placeholder\" rel=\"dns-prefetch\"/> <link href=\"ref.placeholder\" rel=\"dns-prefetch\"/> <link href=\"ref.placeholder\" rel=\"dns-prefetch\"/> <link href=\"ref.placeholder\" rel=\"dns-prefetch\"/> <link href=\"ref.placeholder\" rel=\"dns-prefetch\"/> <link href=\"ref.placeholder\" rel=\"dns-prefetch\"/> <link href=\"ref.placeholder\" rel=\"dns-prefetch\"/> <link href=\"ref.placeholder\" rel=\"dns-prefetch\"/> <link href=\"ref.placeholder\" rel=\"dns-prefetch\"/> <link href=\"ref.placeholder\" rel=\"dns-prefetch\"/> <link href=\"ref.placeholder\" rel=\"dns-prefetch\"/> <link href=\"ref.placeholder\" rel=\"dns-prefetch\"/> <link href=\"ref.placeholder\" rel=\"dns-prefetch\"/> <link href=\"ref.placeholder\" rel=\"dns-prefetch\"/> <link href=\"ref.placeholder\" rel=\"dns-prefetch\"/> <link href=\"ref.placeholder\" rel=\"dns-prefetch\"/> <link href=\"ref.placeholder\" rel=\"dns-prefetch\"/> <link href=\"ref.placeholder\" rel=\"dns-prefetch\"/> <link href=\"ref.placeholder\" rel=\"dns-prefetch\"/> <link href=\"ref.placeholder\" rel=\"dns-prefetch\"/> <link href=\"ref.placeholder\" rel=\"dns-prefetch\"/> <link href=\"ref.placeholder\" rel=\"dns-prefetch\"/> <link href=\"ref.placeholder\" rel=\"dns-prefetch\"/> <link href=\"ref.placeholder\" rel=\"dns-prefetch\"/> <link href=\"ref.placeholder\" rel=\"dns-prefetch\"/> <link href=\"ref.placeholder\" rel=\"dns-prefetch\"/> <link href=\"ref.placeholder\" rel=\"dns-prefetch\"/> <link href=\"ref.placeholder\" rel=\"dns-prefetch\"/> <link href=\"ref.placeholder\" rel=\"dns-prefetch\"/> <link href=\"ref.placeholder\" rel=\"dns-prefetch\"/> <link href=\"ref.placeholder\" rel=\"dns-prefetch\"/> <link href=\"ref.placeholder\" rel=\"dns-prefetch\"/> <link href=\"ref.placeholder\" rel=\"dns-prefetch\"/> <link href=\"ref.placeholder\" rel=\"dns-prefetch\"/> <link href=\"ref.placeholder\" rel=\"dns-prefetch\"/> <link href=\"ref.placeholder\" rel=\"dns-prefetch\"/> <link href=\"ref.placeholder\" rel=\"dns-prefetch\"/> <link href=\"ref.placeholder\" rel=\"dns-prefetch\"/> <link href=\"ref.placeholder\" rel=\"dns-prefetch\"/> <link href=\"ref.placeholder\" rel=\"dns-prefetch\"/> <link href=\"ref.placeholder\" rel=\"dns-prefetch\"/> <link href=\"ref.placeholder\" rel=\"dns-prefetch\"/> <link href=\"ref.placeholder\" rel=\"dns-prefetch\"/> <link href=\"ref.placeholder\" rel=\"dns-prefetch\"/> <link href=\"ref.placeholder\" rel=\"dns-prefetch\"/> <link href=\"ref.placeholder\" rel=\"dns-prefetch\"/> <link href=\"ref.placeholder\" rel=\"dns-prefetch\"/> <link href=\"ref.placeholder\" rel=\"dns-prefetch\"/> <link href=\"ref.placeholder\" rel=\"dns-prefetch\"/> <link href=\"ref.placeholder\" rel=\"dns-prefetch\"/> <link href=\"ref.placeholder\" rel=\"dns-prefetch\"/> <link href=\"ref.placeholder\" rel=\"dns-prefetch\"/> <link href=\"ref.placeholder\" rel=\"dns-prefetch\"/> <link href=\"ref.placeholder\" rel=\"dns-prefetch\"/> <link href=\"ref.placeholder\" rel=\"dns-prefetch\"/> <link href=\"ref.placeholder\" rel=\"dns-prefetch\"/> <link href=\"ref.placeholder\" rel=\"dns-prefetch\"/> <link href=\"ref.placeholder\" rel=\"dns-prefetch\"/> <link href=\"ref.placeholder\" rel=\"dns-prefetch\"/> <link href=\"ref.placeholder\" rel=\"dns-prefetch\"/> <link href=\"ref.placeholder\" rel=\"dns-prefetch\"/> <link href=\"ref.placeholder\" rel=\"dns-prefetch\"/> <link href=\"ref.placeholder\" rel=\"dns-prefetch\"/> <link href=\"ref.placeholder\" rel=\"dns-prefetch\"/> <link href=\"ref.placeholder\" rel=\"dns-prefetch\"/> <link href=\"ref.placeholder\" rel=\"dns-prefetch\"/> <link href=\"ref.placeholder\" rel=\"dns-prefetch\"/> <link href=\"ref.placeholder\" rel=\"dns-prefetch\"/> <link href=\"ref.placeholder\" rel=\"dns-prefetch\"/> <link href=\"ref.placeholder\" rel=\"dns-prefetch\"/> <link href=\"ref.placeholder\" rel=\"dns-prefetch\"/> <link href=\"ref.placeholder\" rel=\"dns-prefetch\"/> <link href=\"ref.placeholder\" rel=\"dns-prefetch\"/> <link href=\"ref.placeholder\" rel=\"dns-prefetch\"/> <link href=\"ref.placeholder\" rel=\"dns-prefetch\"/> <link href=\"ref.placeholder\" rel=\"dns-prefetch\"/> <link href=\"ref.placeholder\" rel=\"dns-prefetch\"/> <link href=\"ref.placeholder\" rel=\"dns-prefetch\"/> <link href=\"ref.placeholder\" rel=\"dns-prefetch\"/> <link href=\"ref.placeholder\" rel=\"dns-prefetch\"/> <link href=\"ref.placeholder\" rel=\"dns-prefetch\"/> <link href=\"ref.placeholder\" rel=\"dns-prefetch\"/> <link href=\"ref.placeholder\" rel=\"dns-prefetch\"/> <link href=\"ref.placeholder\" rel=\"dns-prefetch\"/> <link href=\"ref.placeholder\" rel=\"dns-prefetch\"/> <link href=\"ref.placeholder\" rel=\"dns-prefetch\"/> <link href=\"ref.placeholder\" rel=\"dns-prefetch\"/> <link href=\"ref.placeholder\" rel=\"dns-prefetch\"/> <link href=\"ref.placeholder\" rel=\"dns-prefetch\"/> <link href=\"ref.placeholder\" rel=\"dns-prefetch\"/> <link href=\"ref.placeholder\" rel=\"dns-prefetch\"/> <link href=\"ref.placeholder\" rel=\"dns-prefetch\"/> <link href=\"ref.placeholder\" rel=\"dns-prefetch\"/> <link href=\"ref.placeholder\" rel=\"dns-prefetch\"/> <link href=\"ref.placeholder\" rel=\"dns-prefetch\"/> <link href=\"ref.placeholder\" rel=\"dns-prefetch\"/> <link href=\"ref.placeholder\" rel=\"dns-prefetch\"/> <link href=\"ref.placeholder\" rel=\"dns-prefetch\"/> <link href=\"ref.placeholder\" rel=\"dns-prefetch\"/> <link href=\"ref.placeholder\" rel=\"dns-prefetch\"/> <link href=\"ref.placeholder\" rel=\"dns-prefetch\"/> <link href=\"ref.placeholder\" rel=\"dns-prefetch\"/> <link href=\"ref.placeholder\" rel=\"dns-prefetch\"/> <link href=\"ref.placeholder\" rel=\"dns-prefetch\"/> <link href=\"ref.placeholder\" rel=\"dns-prefetch\"/> <link href=\"ref.placeholder\" rel=\"dns-prefetch\"/> <link href=\"ref.placeholder\" rel=\"dns-prefetch\"/> <link href=\"ref.placeholder\" rel=\"dns-prefetch\"/> <link href=\"ref.placeholder\" rel=\"dns-prefetch\"/> <link href=\"ref.placeholder\" rel=\"dns-prefetch\"/> <link href=\"ref.placeholder\" rel=\"dns-prefetch\"/> <link href=\"ref.placeholder\" rel=\"dns-prefetch\"/> <link href=\"ref.placeholder\" rel=\"dns-prefetch\"/> <link href=\"ref.placeholder\" rel=\"dns-prefetch\"/> <link href=\"ref.placeholder\" rel=\"dns-prefetch\"/> <link href=\"ref.placeholder\" rel=\"dns-prefetch\"/> <link href=\"ref.placeholder\" rel=\"dns-prefetch\"/> <link href=\"ref.placeholder\" rel=\"dns-prefetch\"/> <link href=\"ref.placeholder\" rel=\"dns-prefetch\"/> <link href=\"ref.placeholder\" rel=\"dns-prefetch\"/> <link href=\"ref.placeholder\" rel=\"dns-prefetch\"/> <link href=\"ref.placeholder\" rel=\"dns-prefetch\"/> <link href=\"ref.placeholder\" rel=\"dns-prefetch\"/> <link href=\"ref.placeholder\" rel=\"dns-prefetch\"/> <link href=\"ref.placeholder\" rel=\"dns-prefetch\"/> <link href=\"ref.placeholder\" rel=\"dns-prefetch\"/> <link href=\"ref.placeholder\" rel=\"dns-prefetch\"/> <link href=\"ref.placeholder\" rel=\"dns-prefetch\"/> <link href=\"ref.placeholder\" rel=\"dns-prefetch\"/> <link href=\"ref.placeholder\" rel=\"dns-prefetch\"/> <link href=\"ref.placeholder\" rel=\"dns-prefetch\"/> <link href=\"ref.placeholder\" rel=\"dns-prefetch\"/> <link href=\"ref.placeholder\" rel=\"dns-prefetch\"/> <link href=\"ref.placeholder\" rel=\"dns-prefetch\"/> <link href=\"ref.placeholder\" rel=\"dns-prefetch\"/> <link href=\"ref.placeholder\" rel=\"dns-prefetch\"/> <link href=\"ref.placeholder\" rel=\"dns-prefetch\"/> <link href=\"ref.placeholder\" rel=\"dns-prefetch\"/> <link href=\"ref.placeholder\" rel=\"dns-prefetch\"/> <link href=\"ref.placeholder\" rel=\"dns-prefetch\"/> <link href=\"ref.placeholder\" rel=\"dns-prefetch\"/> <link href=\"ref.placeholder\" rel=\"dns-prefetch\"/> <link href=\"ref.placeholder\" rel=\"dns-prefetch\"/> <link href=\"ref.placeholder\" rel=\"dns-prefetch\"/> <link href=\"ref.placeholder\" rel=\"dns-prefetch\"/> <link href=\"ref.placeholder\" rel=\"dns-prefetch\"/> <link href=\"ref.placeholder\" rel=\"dns-prefetch\"/> <link href=\"ref.placeholder\" rel=\"dns-prefetch\"/> <link href=\"ref.placeholder\" rel=\"dns-prefetch\"/> <link href=\"ref.placeholder\" rel=\"dns-prefetch\"/> <link href=\"ref.placeholder\" rel=\"dns-prefetch\"/> <link href=\"ref.placeholder\" rel=\"dns-prefetch\"/> <link href=\"ref.placeholder\" rel=\"dns-prefetch\"/> <link href=\"ref.placeholder\" rel=\"dns-prefetch\"/> <link href=\"ref.placeholder\" rel=\"dns-prefetch\"/> <link href=\"ref.placeholder\" rel=\"dns-prefetch\"/> <link href=\"ref.placeholder\" rel=\"dns-prefetch\"/> <link href=\"ref.placeholder\" rel=\"dns-prefetch\"/> <link href=\"ref.placeholder\" rel=\"dns-prefetch\"/> <link href=\"ref.placeholder\" rel=\"dns-prefetch\"/> <link href=\"ref.placeholder\" rel=\"dns-prefetch\"/> <link href=\"ref.placeholder\" rel=\"dns-prefetch\"/> <link href=\"ref.placeholder\" rel=\"dns-prefetch\"/> <link href=\"ref.placeholder\" rel=\"dns-prefetch\"/> <link href=\"ref.placeholder\" rel=\"dns-prefetch\"/> <link href=\"ref.placeholder\" rel=\"dns-prefetch\"/> <link href=\"ref.placeholder\" rel=\"dns-prefetch\"/> <link href=\"ref.placeholder\" rel=\"dns-prefetch\"/> <link href=\"ref.placeholder\" rel=\"dns-prefetch\"/> <link href=\"ref.placeholder\" rel=\"dns-prefetch\"/> <link href=\"ref.placeholder\" rel=\"dns-prefetch\"/> <link href=\"ref.placeholder\" rel=\"dns-prefetch\"/> <link href=\"ref.placeholder\" rel=\"dns-prefetch\"/> <link href=\"ref.placeholder\" rel=\"dns-prefetch\"/> <link href=\"ref.placeholder\" rel=\"dns-prefetch\"/> <link href=\"ref.placeholder\" rel=\"dns-prefetch\"/> <link href=\"ref.placeholder\" rel=\"dns-prefetch\"/> <link href=\"ref.placeholder\" rel=\"dns-prefetch\"/> <link href=\"ref.placeholder\" rel=\"dns-prefetch\"/> <link href=\"ref.placeholder\" rel=\"dns-prefetch\"/> <link href=\"ref.placeholder\" rel=\"dns-prefetch\"/> <link href=\"ref.placeholder\" rel=\"dns-prefetch\"/> <link href=\"ref.placeholder\" rel=\"dns-prefetch\"/> <link href=\"ref.placeholder\" rel=\"dns-prefetch\"/> <link href=\"ref.placeholder\" rel=\"dns-prefetch\"/> <link href=\"ref.placeholder\" rel=\"dns-prefetch\"/> <link href=\"ref.placeholder\" rel=\"dns-prefetch\"/> <link href=\"ref.placeholder\" rel=\"dns-prefetch\"/> <link href=\"ref.placeholder\" rel=\"dns-prefetch\"/> <link href=\"ref.placeholder\" rel=\"dns-prefetch\"/> <link href=\"ref.placeholder\" rel=\"dns-prefetch\"/> <link href=\"ref.placeholder\" rel=\"dns-prefetch\"/> <link href=\"ref.placeholder\" rel=\"dns-prefetch\"/> <link href=\"ref.placeholder\" rel=\"dns-prefetch\"/> <link href=\"ref.placeholder\" rel=\"dns-prefetch\"/> <link href=\"ref.placeholder\" rel=\"dns-prefetch\"/> <link href=\"ref.placeholder\" rel=\"dns-prefetch\"/> <link href=\"ref.placeholder\" rel=\"dns-prefetch\"/> <link href=\"ref.placeholder\" rel=\"dns-prefetch\"/> <link href=\"ref.placeholder\" rel=\"dns-prefetch\"/> <link href=\"ref.placeholder\" rel=\"dns-prefetch\"/> <link href=\"ref.placeholder\" rel=\"dns-prefetch\"/> <link href=\"ref.placeholder\" rel=\"dns-prefetch\"/> <link href=\"ref.placeholder\" rel=\"dns-prefetch\"/> <link href=\"ref.placeholder\" rel=\"dns-prefetch\"/> <link href=\"ref.placeholder\" rel=\"dns-prefetch\"/> <link href=\"ref.placeholder\" rel=\"dns-prefetch\"/> <link href=\"ref.placeholder\" rel=\"dns-prefetch\"/> <link href=\"ref.placeholder\" rel=\"dns-prefetch\"/> <link href=\"ref.placeholder\" rel=\"dns-prefetch\"/> <link href=\"ref.placeholder\" rel=\"dns-prefetch\"/> <link href=\"ref.placeholder\" rel=\"dns-prefetch\"/> <link href=\"ref.placeholder\" rel=\"dns-prefetch\"/> <link href=\"ref.placeholder\" rel=\"dns-prefetch\"/> <link href=\"ref.placeholder\" rel=\"dns-prefetch\"/> <link href=\"ref.placeholder\" rel=\"dns-prefetch\"/> <link href=\"ref.placeholder\" rel=\"dns-prefetch\"/> <link href=\"ref.placeholder\" rel=\"dns-prefetch\"/> <link href=\"ref.placeholder\" rel=\"dns-prefetch\"/> <link href=\"ref.placeholder\" rel=\"dns-prefetch\"/> <link href=\"ref.placeholder\" rel=\"dns-prefetch\"/> <link href=\"ref.placeholder\" rel=\"dns-prefetch\"/> <link href=\"ref.placeholder\" rel=\"dns-prefetch\"/> <link href=\"ref.placeholder\" rel=\"dns-prefetch\"/> <link href=\"ref.placeholder\" rel=\"dns-prefetch\"/> <link href=\"ref.placeholder\" rel=\"dns-\n",
            "    Answer: <html xmlns=\"https://example.com\"> <head> <title>Buy Effexor Venlafaxine Online The Lowest Prices</title> <link href=\"https://example.com\" rel=\"stylesheet\"/> <link href=\"effexortabs.quest.css\" media=\"all\" rel=\"stylesheet\" type=\"text/css\"/> <link href=\"effexortabs.quest.css\" media=\"all\" rel=\"stylesheet\" type=\"text/css\"/> </head> <body> <div id=\"header-wrapper\"> <div class=\"container\" id=\"header\"> <div id=\"logo\"> <h1>Effexor</h1> </div> <div id=\"menu\"><ul><li><a accesskey=\"1\" href=\"ref.placeholder\" title=\"\">Services</a></li><li><a accesskey=\"2\" href=\"ref.placeholder\" title=\"\">Our Clients</a></li><li><a accesskey=\"3\" href=\"ref.placeholder\" title=\"\">About Us</a></li><li><a accesskey=\"4\" href=\"ref.placeholder\" title=\"\">Careers</a></li><li><a accesskey=\"5\" href=\"ref.placeholder\" title=\"\">Contact Us</a></li></ul></div> </div> </div> <div id=\"featured-wrapper\"> <div class=\"container\" id=\"featured\"> <div class=\"box box1\"><a class=\"image image-full\" href=\"ref.placeholder\"><img alt=\"\" src=\"../../images/default_img.jpeg\"/></a></div> <div class=\"box box2\"><a class=\"image image-full\" href=\"ref.placeholder\"><img alt=\"\" src=\"../../images/default_img.jpeg\"/></a></div> <div class=\"box box3\"><a class=\"image image-full\" href=\"ref.placeholder\"><img alt=\"Patients with glaucoma, kidney condition or seizures must discuss those health facets with their medical professional in development to obtain a quite particular dose of Effexor suggested.\" src=\"../../images/default_img.jpeg\"/></a></div> <div class=\"box box4\"><a class=\"image image-full\" href=\"ref.placeholder\"><img alt=\"Effexor is available at any on the internet drug stores and can be ordered without any prescription really needed there.\" src=\"../../images/default_img.jpeg\"/></a></div> <div class=\"box box5\"><a class=\"image image-full\" href=\"ref.placeholder\"><img alt=\"if you decided to buy Effexor XR online - review the tag of this medicine really carefully and inspect it for medicine communications and other beneficial elements of your procedure to understand around.\" src=\"../../images/default_img.jpeg\"/></a></div> <div class=\"box box6\"><a class=\"image image-full\" href=\"ref.placeholder\"><img alt=\"The following negative side effects are feasible when taking Effexor XR: dizziness, weight-loss, nervousness, beclouded vision, drowsiness, sleeping disorder, sweating, nausea, vomiting, constipation, weak point, anxiety, and dry mouth.\" src=\"../../images/default_img.jpeg\"/></a></div> </div> </div> <div class=\"container\" id=\"page\"> <div id=\"content\"> <div class=\"title\"> <h2>Integer sit amet aliquet</h2> <span class=\"byline\">Phasellus nec erat sit amet nibh pellentesque congue</span> </div> <a class=\"image image-full\"><img alt=\"Clients with glaucoma, renal condition or seizures need to discuss those health elements with their physician beforehand to obtain a quite specific dosage of Effexor prescribed.\" src=\"../../images/default_img.jpeg\"/></a> <p>To gain from the treatment fully its crucial to take Effexor XR the ideal method and stay away from combining it with tranquilizers, narcotic painkillers, antipsychotic medications, other antidepressants, or any kind of weight-loss products to stop interactions or intensified negative side effects.</p> <p>Some adverse effects are likely to take place when you start taking this medicine.</p> </div> <div id=\"sidebar\"> <div class=\"box1\"> <div class=\"title\"> <h2>Mauris vulputate</h2> </div> <ul class=\"style1\"><li><a href=\"ref.placeholder\">Semper mod quis eget mi dolore</a></li><li><a href=\"ref.placeholder\">Quam turpis feugiat sit dolor</a></li><li><a href=\"ref.placeholder\">Amet ornare in hendrerit in lectus</a></li><li><a href=\"ref.placeholder\">Consequat etiam lorem phasellus</a></li><li><a href=\"ref.placeholder\">Amet turpis, feugiat et sit amet</a></li></ul> </div> <div class=\"box2\"> <div class=\"title\"> <h2>Integer gravida</h2> </div> <ul class=\"style1\"><li><a href=\"ref.placeholder\">Amet turpis, feugiat et sit amet</a></li><li><a href=\"ref.placeholder\">Ornare in hendrerit in lectus</a></li><li><a href=\"ref.placeholder\">Semper mod quis eget mi dolore</a></li><li><a href=\"ref.placeholder\">Quam turpis feugiat sit dolor</a></li><li><a href=\"ref.placeholder\">Amet ornare in hendrerit in lectus</a></li><li><a href=\"ref.placeholder\">Consequat etiam lorem phasellus</a></li></ul> </div> </div> </div> <div id=\"footer-wrapper\"> <div class=\"container\" id=\"footer\"> <div id=\"box1\"> <div class=\"title\"> <h2>Latest Post</h2> </div> <ul class=\"style1\"><li><a href=\"ref.placeholder\">Semper mod quis eget mi dolore</a></li><li><a href=\"ref.placeholder\">Quam turpis feugiat sit dolor</a></li><li><a href=\"ref.placeholder\">Amet ornare in hendrerit in lectus</a></li><li><a href=\"ref.placeholder\">Consequat etiam lorem phasellus</a></li><li><a href=\"ref.placeholder\">Amet turpis, feugiat et sit amet</a></li><li><a href=\"ref.placeholder\">Semper mod quisturpis nisi</a></li></ul> </div> <div id=\"box2\"> <div class=\"title\"> <h2>Popular Links</h2> </div> <ul class=\"style1\"><li><a href=\"ref.placeholder\">Semper mod quis eget mi dolore</a></li><li><a href=\"ref.placeholder\">Quam turpis feugiat sit dolor</a></li><li><a href=\"ref.placeholder\">Amet ornare in hendrerit in lectus</a></li><li><a href=\"ref.placeholder\">Consequat etiam lorem phasellus</a></li><li><a href=\"ref.placeholder\">Amet turpis, feugiat et sit amet</a></li><li><a href=\"ref.placeholder\">Semper mod quisturpis nisi</a></li></ul> </div> <div id=\"box3\"> <div class=\"title\"> <h2>Follow Us</h2> </div> <ul class=\"contact\"><li><a class=\"icon icon-twitter\" href=\"ref.placeholder\"><span>Twitter</span></a></li><li><a class=\"icon icon-facebook\" href=\"ref.placeholder\"><span>Facebook</span></a></li><li><a class=\"icon icon-dribbble\" href=\"ref.placeholder\"><span>Dribbble</span></a></li><li><a class=\"icon icon-tumblr\" href=\"ref.placeholder\"><span>Tumblr</span></a></li><li><a class=\"icon icon-rss\" href=\"ref.placeholder\"><span>Pinterest</span></a></li></ul> </div> </div> </div> <div class=\"container\" id=\"copyright\"> <p> Untitled. All rights reserved. Photos by <a href=\"ref.placeholder\">Fotogrph</a> Design by <a href=\"ref.placeholder\" rel=\"nofollow\">TEMPLATED</a>.</p> </div> </body> </html> /* START CSS */ html, body { height: 100%; } body { margin: 0px; padding: 0px; background: #FFF; font-family: \"Source Sans Pro\", sans-serif; font-size: 12pt; font-weight: 400; color: #4C4C4C; } h1, h2 { margin: 0; padding: 0; } p, ul { margin-top: 0; } ul { padding: 0; list-style: none; } a { color: #A41F1F; }.container { width: 1200px; margin: 0 auto; }.image { display: inline-block; }.image img { display: block; width: 100%; }.image-full { display: block; width: 100%; margin: 0 0 0 0; } ul.style1 { margin: 0; padding: 0; list-style: none; } ul.style1 li { border-top: solid 1px #E5E5E5; padding: 0.80em 0; } ul.contact { margin: 0; padding: 0em 0em 0em 0em; list-style: none; } ul.contact li { padding: 0em 0.30em 0.8em 0em; font-size: 1em; } ul.contact li span { margin: 0; padding: 0; } ul.contact li a { font-size: 0.90em; color: #FFF; }.title { position: relative; margin-bottom: 3em; padding-bottom: 2em; border-bottom: 2px solid #CCC; }.title h2 { font-weight: 700; font-size: 2em; color: #171717; }.title.byline { display: block; font-weight: 400; font-size: 0.90em; color: #6F6F6F; } #header-wrapper { background: #e10126; } #header { position: relative; height: 150px; } #logo { position: absolute; top: 3em; left: 0; width: 100%; } #logo h1 { display: inline-block; font-size: 2.5em; font-weight: 700; color: #FFF; } #logo a { text-decoration: none; color: #FFF; } #menu { position: absolute; right: 0; top: 3em; } #menu ul { display: inline-block; } #menu li { display: block; float: left; text-align: center; } #menu li a, #menu li span { display: block; padding: 0.80em 1.5em; text-decoration: none; font-size: 0.90em; font-weight: 600; outline: 0; color: #FFF; } #page { position: relative; overflow: hidden; padding: 6em 0em 5em 0em; } #content { float: right; width: 790px; } #content.image-full { margin-bottom: 3em; } #sidebar { float: left; width: 345px; } #sidebar.title h2 { font-size: 1.6em; } #sidebar.box1 { margin-bottom: 3em; } #footer-wrapper { overflow: hidden; padding: 5em 0em; background: #1E1B1A; } #footer.title h2 { font-weight: 400; font-size: 1.2em; color: #FFF; } #footer.style1 a { text-decoration: none; font-size: 1em; color: #B1B1B1; } #box1 { float: left; width: 354px; margin-right: 24px; padding-right: 30px; } #box2 { float: left; width: 354px; margin-left: 24px; padding-right: 30px; } #box3 { float: right; width: 344px; padding-left: 40px; } #copyright { overflow: hidden; padding: 5em 0em; } #copyright p { text-align: center; font-size: 0.80em; color: #6F6F6F; } #copyright a { text-decoration: none; color: #8C8C8C; } #featured-wrapper { overflow: hidden; padding: 3em 0em; background: #1E1B1A; } #featured { overflow: hidden; } #featured.box { overflow: hidden; width: 160px; padding: 10px; background: #FFF; } #feaured.box.image-full { margin-bottom: 0!important; } #featured.box1, #featured.box2, #featured.box3, #featured.box4 { float: left; margin-right: 24px; } #featured.box5 { float: left; } #featured.box6 { float: right; } @charset \"UTF-8\" ;.icon { text-decoration: none; }\n",
            "      Bleu: 0.04\n",
            " Avg Bleu Score: 0.06\n"
          ]
        },
        {
          "name": "stderr",
          "output_type": "stream",
          "text": [
            "Epoch 5/9 - train loop:  34%|███▍      | 6047/17771 [1:18:16<2:31:45,  1.29it/s, loss=1.18]\n"
          ]
        },
        {
          "ename": "KeyboardInterrupt",
          "evalue": "ignored",
          "output_type": "error",
          "traceback": [
            "\u001b[0;31m---------------------------------------------------------------------------\u001b[0m",
            "\u001b[0;31mKeyboardInterrupt\u001b[0m                         Traceback (most recent call last)",
            "\u001b[0;32m<ipython-input-41-3466ad1a7382>\u001b[0m in \u001b[0;36m<cell line: 1>\u001b[0;34m()\u001b[0m\n\u001b[0;32m----> 1\u001b[0;31m \u001b[0mtrain_model\u001b[0m\u001b[0;34m(\u001b[0m\u001b[0mconfig\u001b[0m\u001b[0;34m,\u001b[0m \u001b[0mprocessor\u001b[0m\u001b[0;34m,\u001b[0m \u001b[0mmodel\u001b[0m\u001b[0;34m,\u001b[0m \u001b[0mtrain_dataloader\u001b[0m\u001b[0;34m,\u001b[0m \u001b[0mval_dataloader\u001b[0m\u001b[0;34m)\u001b[0m\u001b[0;34m\u001b[0m\u001b[0;34m\u001b[0m\u001b[0m\n\u001b[0m",
            "\u001b[0;32m<ipython-input-34-4807abb01d62>\u001b[0m in \u001b[0;36mtrain_model\u001b[0;34m(config, processor, model, train_dataloader, val_dataloader)\u001b[0m\n\u001b[1;32m     24\u001b[0m     \u001b[0;31m#for epoch in range(epoch_start, epoch_start + max_epochs):\u001b[0m\u001b[0;34m\u001b[0m\u001b[0;34m\u001b[0m\u001b[0m\n\u001b[1;32m     25\u001b[0m     \u001b[0;32mfor\u001b[0m \u001b[0mepoch\u001b[0m \u001b[0;32min\u001b[0m \u001b[0mrange\u001b[0m\u001b[0;34m(\u001b[0m\u001b[0mepoch_start\u001b[0m\u001b[0;34m,\u001b[0m \u001b[0mmax_epochs\u001b[0m\u001b[0;34m)\u001b[0m\u001b[0;34m:\u001b[0m\u001b[0;34m\u001b[0m\u001b[0;34m\u001b[0m\u001b[0m\n\u001b[0;32m---> 26\u001b[0;31m         \u001b[0mglobal_step\u001b[0m\u001b[0;34m,\u001b[0m \u001b[0mmoving_avg_loss\u001b[0m \u001b[0;34m=\u001b[0m \u001b[0mtraining_loop\u001b[0m\u001b[0;34m(\u001b[0m\u001b[0mepoch\u001b[0m\u001b[0;34m,\u001b[0m \u001b[0mtrain_dataloader\u001b[0m\u001b[0;34m,\u001b[0m \u001b[0mmodel\u001b[0m\u001b[0;34m,\u001b[0m \u001b[0mconfig\u001b[0m\u001b[0;34m,\u001b[0m \u001b[0moptimizer\u001b[0m\u001b[0;34m,\u001b[0m \u001b[0mscheduler\u001b[0m\u001b[0;34m,\u001b[0m \u001b[0mglobal_step\u001b[0m\u001b[0;34m,\u001b[0m \u001b[0mepoch_last\u001b[0m\u001b[0;34m)\u001b[0m\u001b[0;34m\u001b[0m\u001b[0;34m\u001b[0m\u001b[0m\n\u001b[0m\u001b[1;32m     27\u001b[0m \u001b[0;34m\u001b[0m\u001b[0m\n\u001b[1;32m     28\u001b[0m         \u001b[0;32mif\u001b[0m \u001b[0mconfig\u001b[0m\u001b[0;34m.\u001b[0m\u001b[0mget\u001b[0m\u001b[0;34m(\u001b[0m\u001b[0;34m\"verbose\"\u001b[0m\u001b[0;34m,\u001b[0m \u001b[0;32mFalse\u001b[0m\u001b[0;34m)\u001b[0m\u001b[0;34m:\u001b[0m\u001b[0;34m\u001b[0m\u001b[0;34m\u001b[0m\u001b[0m\n",
            "\u001b[0;32m<ipython-input-35-5657123f4b22>\u001b[0m in \u001b[0;36mtraining_loop\u001b[0;34m(epoch, train_dataloader, model, config, optimizer, scheduler, global_step, epoch_last)\u001b[0m\n\u001b[1;32m     17\u001b[0m         \u001b[0moutputs\u001b[0m \u001b[0;34m=\u001b[0m \u001b[0mmodel\u001b[0m\u001b[0;34m(\u001b[0m\u001b[0mlabels\u001b[0m\u001b[0;34m=\u001b[0m\u001b[0mlabels\u001b[0m\u001b[0;34m,\u001b[0m \u001b[0mflattened_patches\u001b[0m\u001b[0;34m=\u001b[0m\u001b[0mflattened_patches\u001b[0m\u001b[0;34m,\u001b[0m \u001b[0mattention_mask\u001b[0m\u001b[0;34m=\u001b[0m\u001b[0mattention_mask\u001b[0m\u001b[0;34m,\u001b[0m \u001b[0mdecoder_input_ids\u001b[0m\u001b[0;34m=\u001b[0m\u001b[0mdecoder_input_ids\u001b[0m\u001b[0;34m,\u001b[0m \u001b[0mdecoder_attention_mask\u001b[0m\u001b[0;34m=\u001b[0m\u001b[0mdecoder_attention_mask\u001b[0m\u001b[0;34m)\u001b[0m\u001b[0;34m\u001b[0m\u001b[0;34m\u001b[0m\u001b[0m\n\u001b[1;32m     18\u001b[0m         \u001b[0mloss\u001b[0m \u001b[0;34m=\u001b[0m \u001b[0moutputs\u001b[0m\u001b[0;34m.\u001b[0m\u001b[0mloss\u001b[0m\u001b[0;34m\u001b[0m\u001b[0;34m\u001b[0m\u001b[0m\n\u001b[0;32m---> 19\u001b[0;31m         \u001b[0mloss\u001b[0m\u001b[0;34m.\u001b[0m\u001b[0mbackward\u001b[0m\u001b[0;34m(\u001b[0m\u001b[0;34m)\u001b[0m\u001b[0;34m\u001b[0m\u001b[0;34m\u001b[0m\u001b[0m\n\u001b[0m\u001b[1;32m     20\u001b[0m \u001b[0;34m\u001b[0m\u001b[0m\n\u001b[1;32m     21\u001b[0m         \u001b[0;32mif\u001b[0m \u001b[0mglobal_step\u001b[0m \u001b[0;34m%\u001b[0m \u001b[0maccumulate_grad_batches\u001b[0m \u001b[0;34m==\u001b[0m \u001b[0;36m0\u001b[0m \u001b[0;32mor\u001b[0m \u001b[0mstep\u001b[0m \u001b[0;34m==\u001b[0m \u001b[0mlen\u001b[0m\u001b[0;34m(\u001b[0m\u001b[0mtrain_dataloader\u001b[0m\u001b[0;34m)\u001b[0m \u001b[0;34m-\u001b[0m \u001b[0;36m1\u001b[0m\u001b[0;34m:\u001b[0m\u001b[0;34m\u001b[0m\u001b[0;34m\u001b[0m\u001b[0m\n",
            "\u001b[0;32m/usr/local/lib/python3.10/dist-packages/torch/_tensor.py\u001b[0m in \u001b[0;36mbackward\u001b[0;34m(self, gradient, retain_graph, create_graph, inputs)\u001b[0m\n\u001b[1;32m    485\u001b[0m                 \u001b[0minputs\u001b[0m\u001b[0;34m=\u001b[0m\u001b[0minputs\u001b[0m\u001b[0;34m,\u001b[0m\u001b[0;34m\u001b[0m\u001b[0;34m\u001b[0m\u001b[0m\n\u001b[1;32m    486\u001b[0m             )\n\u001b[0;32m--> 487\u001b[0;31m         torch.autograd.backward(\n\u001b[0m\u001b[1;32m    488\u001b[0m             \u001b[0mself\u001b[0m\u001b[0;34m,\u001b[0m \u001b[0mgradient\u001b[0m\u001b[0;34m,\u001b[0m \u001b[0mretain_graph\u001b[0m\u001b[0;34m,\u001b[0m \u001b[0mcreate_graph\u001b[0m\u001b[0;34m,\u001b[0m \u001b[0minputs\u001b[0m\u001b[0;34m=\u001b[0m\u001b[0minputs\u001b[0m\u001b[0;34m\u001b[0m\u001b[0;34m\u001b[0m\u001b[0m\n\u001b[1;32m    489\u001b[0m         )\n",
            "\u001b[0;32m/usr/local/lib/python3.10/dist-packages/torch/autograd/__init__.py\u001b[0m in \u001b[0;36mbackward\u001b[0;34m(tensors, grad_tensors, retain_graph, create_graph, grad_variables, inputs)\u001b[0m\n\u001b[1;32m    198\u001b[0m     \u001b[0;31m# some Python versions print out the first line of a multi-line function\u001b[0m\u001b[0;34m\u001b[0m\u001b[0;34m\u001b[0m\u001b[0m\n\u001b[1;32m    199\u001b[0m     \u001b[0;31m# calls in the traceback and some print out the last line\u001b[0m\u001b[0;34m\u001b[0m\u001b[0;34m\u001b[0m\u001b[0m\n\u001b[0;32m--> 200\u001b[0;31m     Variable._execution_engine.run_backward(  # Calls into the C++ engine to run the backward pass\n\u001b[0m\u001b[1;32m    201\u001b[0m         \u001b[0mtensors\u001b[0m\u001b[0;34m,\u001b[0m \u001b[0mgrad_tensors_\u001b[0m\u001b[0;34m,\u001b[0m \u001b[0mretain_graph\u001b[0m\u001b[0;34m,\u001b[0m \u001b[0mcreate_graph\u001b[0m\u001b[0;34m,\u001b[0m \u001b[0minputs\u001b[0m\u001b[0;34m,\u001b[0m\u001b[0;34m\u001b[0m\u001b[0;34m\u001b[0m\u001b[0m\n\u001b[1;32m    202\u001b[0m         allow_unreachable=True, accumulate_grad=True)  # Calls into the C++ engine to run the backward pass\n",
            "\u001b[0;31mKeyboardInterrupt\u001b[0m: "
          ]
        }
      ],
      "source": [
        "train_model(config, processor, model, train_dataloader, val_dataloader)"
      ]
    }
  ],
  "metadata": {
    "accelerator": "GPU",
    "colab": {
      "machine_shape": "hm",
      "provenance": []
    },
    "kernelspec": {
      "display_name": "Python 3",
      "name": "python3"
    },
    "language_info": {
      "name": "python"
    },
    "widgets": {
      "application/vnd.jupyter.widget-state+json": {
        "0060f8ad1c284c1680ca71a2a2559d81": {
          "model_module": "@jupyter-widgets/base",
          "model_module_version": "1.2.0",
          "model_name": "LayoutModel",
          "state": {
            "_model_module": "@jupyter-widgets/base",
            "_model_module_version": "1.2.0",
            "_model_name": "LayoutModel",
            "_view_count": null,
            "_view_module": "@jupyter-widgets/base",
            "_view_module_version": "1.2.0",
            "_view_name": "LayoutView",
            "align_content": null,
            "align_items": null,
            "align_self": null,
            "border": null,
            "bottom": null,
            "display": null,
            "flex": null,
            "flex_flow": null,
            "grid_area": null,
            "grid_auto_columns": null,
            "grid_auto_flow": null,
            "grid_auto_rows": null,
            "grid_column": null,
            "grid_gap": null,
            "grid_row": null,
            "grid_template_areas": null,
            "grid_template_columns": null,
            "grid_template_rows": null,
            "height": null,
            "justify_content": null,
            "justify_items": null,
            "left": null,
            "margin": null,
            "max_height": null,
            "max_width": null,
            "min_height": null,
            "min_width": null,
            "object_fit": null,
            "object_position": null,
            "order": null,
            "overflow": null,
            "overflow_x": null,
            "overflow_y": null,
            "padding": null,
            "right": null,
            "top": null,
            "visibility": null,
            "width": null
          }
        },
        "0b0fab00ea11462a86168ec7442f91e2": {
          "model_module": "@jupyter-widgets/controls",
          "model_module_version": "1.5.0",
          "model_name": "FloatProgressModel",
          "state": {
            "_dom_classes": [],
            "_model_module": "@jupyter-widgets/controls",
            "_model_module_version": "1.5.0",
            "_model_name": "FloatProgressModel",
            "_view_count": null,
            "_view_module": "@jupyter-widgets/controls",
            "_view_module_version": "1.5.0",
            "_view_name": "ProgressView",
            "bar_style": "success",
            "description": "",
            "description_tooltip": null,
            "layout": "IPY_MODEL_71e7265a6c8e4b76bb6db3f3ad268bcf",
            "max": 851388,
            "min": 0,
            "orientation": "horizontal",
            "style": "IPY_MODEL_8af8647e45804ef4a6e8c26e173ef040",
            "value": 851388
          }
        },
        "0b6ae2760fab464196955ad1891b4c56": {
          "model_module": "@jupyter-widgets/controls",
          "model_module_version": "1.5.0",
          "model_name": "ProgressStyleModel",
          "state": {
            "_model_module": "@jupyter-widgets/controls",
            "_model_module_version": "1.5.0",
            "_model_name": "ProgressStyleModel",
            "_view_count": null,
            "_view_module": "@jupyter-widgets/base",
            "_view_module_version": "1.2.0",
            "_view_name": "StyleView",
            "bar_color": null,
            "description_width": ""
          }
        },
        "0babbdabfd864339afc4a1bc945a9139": {
          "model_module": "@jupyter-widgets/controls",
          "model_module_version": "1.5.0",
          "model_name": "HTMLModel",
          "state": {
            "_dom_classes": [],
            "_model_module": "@jupyter-widgets/controls",
            "_model_module_version": "1.5.0",
            "_model_name": "HTMLModel",
            "_view_count": null,
            "_view_module": "@jupyter-widgets/controls",
            "_view_module_version": "1.5.0",
            "_view_name": "HTMLView",
            "description": "",
            "description_tooltip": null,
            "layout": "IPY_MODEL_31c868e05649479b8481b09e217bc4bf",
            "placeholder": "​",
            "style": "IPY_MODEL_56a54d25b85947ae967d3f858524ff8f",
            "value": " 4.92k/4.92k [00:00&lt;00:00, 392kB/s]"
          }
        },
        "0e226c6638f94a87a58712ec84db8596": {
          "model_module": "@jupyter-widgets/base",
          "model_module_version": "1.2.0",
          "model_name": "LayoutModel",
          "state": {
            "_model_module": "@jupyter-widgets/base",
            "_model_module_version": "1.2.0",
            "_model_name": "LayoutModel",
            "_view_count": null,
            "_view_module": "@jupyter-widgets/base",
            "_view_module_version": "1.2.0",
            "_view_name": "LayoutView",
            "align_content": null,
            "align_items": null,
            "align_self": null,
            "border": null,
            "bottom": null,
            "display": null,
            "flex": null,
            "flex_flow": null,
            "grid_area": null,
            "grid_auto_columns": null,
            "grid_auto_flow": null,
            "grid_auto_rows": null,
            "grid_column": null,
            "grid_gap": null,
            "grid_row": null,
            "grid_template_areas": null,
            "grid_template_columns": null,
            "grid_template_rows": null,
            "height": null,
            "justify_content": null,
            "justify_items": null,
            "left": null,
            "margin": null,
            "max_height": null,
            "max_width": null,
            "min_height": null,
            "min_width": null,
            "object_fit": null,
            "object_position": null,
            "order": null,
            "overflow": null,
            "overflow_x": null,
            "overflow_y": null,
            "padding": null,
            "right": null,
            "top": null,
            "visibility": null,
            "width": null
          }
        },
        "13aeb188fc8740aeb1c46052d8edd28e": {
          "model_module": "@jupyter-widgets/controls",
          "model_module_version": "1.5.0",
          "model_name": "HTMLModel",
          "state": {
            "_dom_classes": [],
            "_model_module": "@jupyter-widgets/controls",
            "_model_module_version": "1.5.0",
            "_model_name": "HTMLModel",
            "_view_count": null,
            "_view_module": "@jupyter-widgets/controls",
            "_view_module_version": "1.5.0",
            "_view_name": "HTMLView",
            "description": "",
            "description_tooltip": null,
            "layout": "IPY_MODEL_54a8f0ecd3e042d9bbb8861ba2a46069",
            "placeholder": "​",
            "style": "IPY_MODEL_c652fea5d09f4e7683c8e93f6938f8ce",
            "value": " 2.20k/2.20k [00:00&lt;00:00, 187kB/s]"
          }
        },
        "1405b136fdc54a9890994b0010fe7c4d": {
          "model_module": "@jupyter-widgets/controls",
          "model_module_version": "1.5.0",
          "model_name": "HTMLModel",
          "state": {
            "_dom_classes": [],
            "_model_module": "@jupyter-widgets/controls",
            "_model_module_version": "1.5.0",
            "_model_name": "HTMLModel",
            "_view_count": null,
            "_view_module": "@jupyter-widgets/controls",
            "_view_module_version": "1.5.0",
            "_view_name": "HTMLView",
            "description": "",
            "description_tooltip": null,
            "layout": "IPY_MODEL_92b21a0877f8474cb97d79cc77ebfc96",
            "placeholder": "​",
            "style": "IPY_MODEL_17a200c47f0d460bb744574b37760e28",
            "value": "Downloading (…)/main/tokenizer.json: 100%"
          }
        },
        "141f0fcc28644d75959a1f6b09b35229": {
          "model_module": "@jupyter-widgets/controls",
          "model_module_version": "1.5.0",
          "model_name": "DescriptionStyleModel",
          "state": {
            "_model_module": "@jupyter-widgets/controls",
            "_model_module_version": "1.5.0",
            "_model_name": "DescriptionStyleModel",
            "_view_count": null,
            "_view_module": "@jupyter-widgets/base",
            "_view_module_version": "1.2.0",
            "_view_name": "StyleView",
            "description_width": ""
          }
        },
        "17a200c47f0d460bb744574b37760e28": {
          "model_module": "@jupyter-widgets/controls",
          "model_module_version": "1.5.0",
          "model_name": "DescriptionStyleModel",
          "state": {
            "_model_module": "@jupyter-widgets/controls",
            "_model_module_version": "1.5.0",
            "_model_name": "DescriptionStyleModel",
            "_view_count": null,
            "_view_module": "@jupyter-widgets/base",
            "_view_module_version": "1.2.0",
            "_view_name": "StyleView",
            "description_width": ""
          }
        },
        "18ce18ffa8c040c7aacde41d7ad4b004": {
          "model_module": "@jupyter-widgets/base",
          "model_module_version": "1.2.0",
          "model_name": "LayoutModel",
          "state": {
            "_model_module": "@jupyter-widgets/base",
            "_model_module_version": "1.2.0",
            "_model_name": "LayoutModel",
            "_view_count": null,
            "_view_module": "@jupyter-widgets/base",
            "_view_module_version": "1.2.0",
            "_view_name": "LayoutView",
            "align_content": null,
            "align_items": null,
            "align_self": null,
            "border": null,
            "bottom": null,
            "display": null,
            "flex": null,
            "flex_flow": null,
            "grid_area": null,
            "grid_auto_columns": null,
            "grid_auto_flow": null,
            "grid_auto_rows": null,
            "grid_column": null,
            "grid_gap": null,
            "grid_row": null,
            "grid_template_areas": null,
            "grid_template_columns": null,
            "grid_template_rows": null,
            "height": null,
            "justify_content": null,
            "justify_items": null,
            "left": null,
            "margin": null,
            "max_height": null,
            "max_width": null,
            "min_height": null,
            "min_width": null,
            "object_fit": null,
            "object_position": null,
            "order": null,
            "overflow": null,
            "overflow_x": null,
            "overflow_y": null,
            "padding": null,
            "right": null,
            "top": null,
            "visibility": null,
            "width": null
          }
        },
        "1ae5c449f47849988b62c97950151079": {
          "model_module": "@jupyter-widgets/base",
          "model_module_version": "1.2.0",
          "model_name": "LayoutModel",
          "state": {
            "_model_module": "@jupyter-widgets/base",
            "_model_module_version": "1.2.0",
            "_model_name": "LayoutModel",
            "_view_count": null,
            "_view_module": "@jupyter-widgets/base",
            "_view_module_version": "1.2.0",
            "_view_name": "LayoutView",
            "align_content": null,
            "align_items": null,
            "align_self": null,
            "border": null,
            "bottom": null,
            "display": null,
            "flex": null,
            "flex_flow": null,
            "grid_area": null,
            "grid_auto_columns": null,
            "grid_auto_flow": null,
            "grid_auto_rows": null,
            "grid_column": null,
            "grid_gap": null,
            "grid_row": null,
            "grid_template_areas": null,
            "grid_template_columns": null,
            "grid_template_rows": null,
            "height": null,
            "justify_content": null,
            "justify_items": null,
            "left": null,
            "margin": null,
            "max_height": null,
            "max_width": null,
            "min_height": null,
            "min_width": null,
            "object_fit": null,
            "object_position": null,
            "order": null,
            "overflow": null,
            "overflow_x": null,
            "overflow_y": null,
            "padding": null,
            "right": null,
            "top": null,
            "visibility": null,
            "width": null
          }
        },
        "21bd7486941d49afbf6da28971f8d722": {
          "model_module": "@jupyter-widgets/base",
          "model_module_version": "1.2.0",
          "model_name": "LayoutModel",
          "state": {
            "_model_module": "@jupyter-widgets/base",
            "_model_module_version": "1.2.0",
            "_model_name": "LayoutModel",
            "_view_count": null,
            "_view_module": "@jupyter-widgets/base",
            "_view_module_version": "1.2.0",
            "_view_name": "LayoutView",
            "align_content": null,
            "align_items": null,
            "align_self": null,
            "border": null,
            "bottom": null,
            "display": null,
            "flex": null,
            "flex_flow": null,
            "grid_area": null,
            "grid_auto_columns": null,
            "grid_auto_flow": null,
            "grid_auto_rows": null,
            "grid_column": null,
            "grid_gap": null,
            "grid_row": null,
            "grid_template_areas": null,
            "grid_template_columns": null,
            "grid_template_rows": null,
            "height": null,
            "justify_content": null,
            "justify_items": null,
            "left": null,
            "margin": null,
            "max_height": null,
            "max_width": null,
            "min_height": null,
            "min_width": null,
            "object_fit": null,
            "object_position": null,
            "order": null,
            "overflow": null,
            "overflow_x": null,
            "overflow_y": null,
            "padding": null,
            "right": null,
            "top": null,
            "visibility": null,
            "width": null
          }
        },
        "29361b5947884210bc07ad124460b238": {
          "model_module": "@jupyter-widgets/controls",
          "model_module_version": "1.5.0",
          "model_name": "FloatProgressModel",
          "state": {
            "_dom_classes": [],
            "_model_module": "@jupyter-widgets/controls",
            "_model_module_version": "1.5.0",
            "_model_name": "FloatProgressModel",
            "_view_count": null,
            "_view_module": "@jupyter-widgets/controls",
            "_view_module_version": "1.5.0",
            "_view_name": "ProgressView",
            "bar_style": "success",
            "description": "",
            "description_tooltip": null,
            "layout": "IPY_MODEL_dd8358a3065e453a90819c1c91b931b4",
            "max": 1129238081,
            "min": 0,
            "orientation": "horizontal",
            "style": "IPY_MODEL_bb6a5988aa6d4e6ebe802f1021d9caf2",
            "value": 1129238081
          }
        },
        "30052306b7ea4307ac5f098b3e1ca1e4": {
          "model_module": "@jupyter-widgets/base",
          "model_module_version": "1.2.0",
          "model_name": "LayoutModel",
          "state": {
            "_model_module": "@jupyter-widgets/base",
            "_model_module_version": "1.2.0",
            "_model_name": "LayoutModel",
            "_view_count": null,
            "_view_module": "@jupyter-widgets/base",
            "_view_module_version": "1.2.0",
            "_view_name": "LayoutView",
            "align_content": null,
            "align_items": null,
            "align_self": null,
            "border": null,
            "bottom": null,
            "display": null,
            "flex": null,
            "flex_flow": null,
            "grid_area": null,
            "grid_auto_columns": null,
            "grid_auto_flow": null,
            "grid_auto_rows": null,
            "grid_column": null,
            "grid_gap": null,
            "grid_row": null,
            "grid_template_areas": null,
            "grid_template_columns": null,
            "grid_template_rows": null,
            "height": null,
            "justify_content": null,
            "justify_items": null,
            "left": null,
            "margin": null,
            "max_height": null,
            "max_width": null,
            "min_height": null,
            "min_width": null,
            "object_fit": null,
            "object_position": null,
            "order": null,
            "overflow": null,
            "overflow_x": null,
            "overflow_y": null,
            "padding": null,
            "right": null,
            "top": null,
            "visibility": null,
            "width": null
          }
        },
        "31c868e05649479b8481b09e217bc4bf": {
          "model_module": "@jupyter-widgets/base",
          "model_module_version": "1.2.0",
          "model_name": "LayoutModel",
          "state": {
            "_model_module": "@jupyter-widgets/base",
            "_model_module_version": "1.2.0",
            "_model_name": "LayoutModel",
            "_view_count": null,
            "_view_module": "@jupyter-widgets/base",
            "_view_module_version": "1.2.0",
            "_view_name": "LayoutView",
            "align_content": null,
            "align_items": null,
            "align_self": null,
            "border": null,
            "bottom": null,
            "display": null,
            "flex": null,
            "flex_flow": null,
            "grid_area": null,
            "grid_auto_columns": null,
            "grid_auto_flow": null,
            "grid_auto_rows": null,
            "grid_column": null,
            "grid_gap": null,
            "grid_row": null,
            "grid_template_areas": null,
            "grid_template_columns": null,
            "grid_template_rows": null,
            "height": null,
            "justify_content": null,
            "justify_items": null,
            "left": null,
            "margin": null,
            "max_height": null,
            "max_width": null,
            "min_height": null,
            "min_width": null,
            "object_fit": null,
            "object_position": null,
            "order": null,
            "overflow": null,
            "overflow_x": null,
            "overflow_y": null,
            "padding": null,
            "right": null,
            "top": null,
            "visibility": null,
            "width": null
          }
        },
        "3984fa8d36554572928a8b17368ac07e": {
          "model_module": "@jupyter-widgets/base",
          "model_module_version": "1.2.0",
          "model_name": "LayoutModel",
          "state": {
            "_model_module": "@jupyter-widgets/base",
            "_model_module_version": "1.2.0",
            "_model_name": "LayoutModel",
            "_view_count": null,
            "_view_module": "@jupyter-widgets/base",
            "_view_module_version": "1.2.0",
            "_view_name": "LayoutView",
            "align_content": null,
            "align_items": null,
            "align_self": null,
            "border": null,
            "bottom": null,
            "display": null,
            "flex": null,
            "flex_flow": null,
            "grid_area": null,
            "grid_auto_columns": null,
            "grid_auto_flow": null,
            "grid_auto_rows": null,
            "grid_column": null,
            "grid_gap": null,
            "grid_row": null,
            "grid_template_areas": null,
            "grid_template_columns": null,
            "grid_template_rows": null,
            "height": null,
            "justify_content": null,
            "justify_items": null,
            "left": null,
            "margin": null,
            "max_height": null,
            "max_width": null,
            "min_height": null,
            "min_width": null,
            "object_fit": null,
            "object_position": null,
            "order": null,
            "overflow": null,
            "overflow_x": null,
            "overflow_y": null,
            "padding": null,
            "right": null,
            "top": null,
            "visibility": null,
            "width": null
          }
        },
        "3c0dac43d7fb4f0abc471850729334d2": {
          "model_module": "@jupyter-widgets/base",
          "model_module_version": "1.2.0",
          "model_name": "LayoutModel",
          "state": {
            "_model_module": "@jupyter-widgets/base",
            "_model_module_version": "1.2.0",
            "_model_name": "LayoutModel",
            "_view_count": null,
            "_view_module": "@jupyter-widgets/base",
            "_view_module_version": "1.2.0",
            "_view_name": "LayoutView",
            "align_content": null,
            "align_items": null,
            "align_self": null,
            "border": null,
            "bottom": null,
            "display": null,
            "flex": null,
            "flex_flow": null,
            "grid_area": null,
            "grid_auto_columns": null,
            "grid_auto_flow": null,
            "grid_auto_rows": null,
            "grid_column": null,
            "grid_gap": null,
            "grid_row": null,
            "grid_template_areas": null,
            "grid_template_columns": null,
            "grid_template_rows": null,
            "height": null,
            "justify_content": null,
            "justify_items": null,
            "left": null,
            "margin": null,
            "max_height": null,
            "max_width": null,
            "min_height": null,
            "min_width": null,
            "object_fit": null,
            "object_position": null,
            "order": null,
            "overflow": null,
            "overflow_x": null,
            "overflow_y": null,
            "padding": null,
            "right": null,
            "top": null,
            "visibility": null,
            "width": null
          }
        },
        "478c85ba33024b6ca09e36b3abca30be": {
          "model_module": "@jupyter-widgets/base",
          "model_module_version": "1.2.0",
          "model_name": "LayoutModel",
          "state": {
            "_model_module": "@jupyter-widgets/base",
            "_model_module_version": "1.2.0",
            "_model_name": "LayoutModel",
            "_view_count": null,
            "_view_module": "@jupyter-widgets/base",
            "_view_module_version": "1.2.0",
            "_view_name": "LayoutView",
            "align_content": null,
            "align_items": null,
            "align_self": null,
            "border": null,
            "bottom": null,
            "display": null,
            "flex": null,
            "flex_flow": null,
            "grid_area": null,
            "grid_auto_columns": null,
            "grid_auto_flow": null,
            "grid_auto_rows": null,
            "grid_column": null,
            "grid_gap": null,
            "grid_row": null,
            "grid_template_areas": null,
            "grid_template_columns": null,
            "grid_template_rows": null,
            "height": null,
            "justify_content": null,
            "justify_items": null,
            "left": null,
            "margin": null,
            "max_height": null,
            "max_width": null,
            "min_height": null,
            "min_width": null,
            "object_fit": null,
            "object_position": null,
            "order": null,
            "overflow": null,
            "overflow_x": null,
            "overflow_y": null,
            "padding": null,
            "right": null,
            "top": null,
            "visibility": null,
            "width": null
          }
        },
        "4b9b5c3eea7b4d809d00b8221fc2ee28": {
          "model_module": "@jupyter-widgets/controls",
          "model_module_version": "1.5.0",
          "model_name": "ProgressStyleModel",
          "state": {
            "_model_module": "@jupyter-widgets/controls",
            "_model_module_version": "1.5.0",
            "_model_name": "ProgressStyleModel",
            "_view_count": null,
            "_view_module": "@jupyter-widgets/base",
            "_view_module_version": "1.2.0",
            "_view_name": "StyleView",
            "bar_color": null,
            "description_width": ""
          }
        },
        "518e12c4ef484f758725311d4d270dfe": {
          "model_module": "@jupyter-widgets/controls",
          "model_module_version": "1.5.0",
          "model_name": "DescriptionStyleModel",
          "state": {
            "_model_module": "@jupyter-widgets/controls",
            "_model_module_version": "1.5.0",
            "_model_name": "DescriptionStyleModel",
            "_view_count": null,
            "_view_module": "@jupyter-widgets/base",
            "_view_module_version": "1.2.0",
            "_view_name": "StyleView",
            "description_width": ""
          }
        },
        "54a8f0ecd3e042d9bbb8861ba2a46069": {
          "model_module": "@jupyter-widgets/base",
          "model_module_version": "1.2.0",
          "model_name": "LayoutModel",
          "state": {
            "_model_module": "@jupyter-widgets/base",
            "_model_module_version": "1.2.0",
            "_model_name": "LayoutModel",
            "_view_count": null,
            "_view_module": "@jupyter-widgets/base",
            "_view_module_version": "1.2.0",
            "_view_name": "LayoutView",
            "align_content": null,
            "align_items": null,
            "align_self": null,
            "border": null,
            "bottom": null,
            "display": null,
            "flex": null,
            "flex_flow": null,
            "grid_area": null,
            "grid_auto_columns": null,
            "grid_auto_flow": null,
            "grid_auto_rows": null,
            "grid_column": null,
            "grid_gap": null,
            "grid_row": null,
            "grid_template_areas": null,
            "grid_template_columns": null,
            "grid_template_rows": null,
            "height": null,
            "justify_content": null,
            "justify_items": null,
            "left": null,
            "margin": null,
            "max_height": null,
            "max_width": null,
            "min_height": null,
            "min_width": null,
            "object_fit": null,
            "object_position": null,
            "order": null,
            "overflow": null,
            "overflow_x": null,
            "overflow_y": null,
            "padding": null,
            "right": null,
            "top": null,
            "visibility": null,
            "width": null
          }
        },
        "54f9be2f54214196a255948d4e4c0af3": {
          "model_module": "@jupyter-widgets/base",
          "model_module_version": "1.2.0",
          "model_name": "LayoutModel",
          "state": {
            "_model_module": "@jupyter-widgets/base",
            "_model_module_version": "1.2.0",
            "_model_name": "LayoutModel",
            "_view_count": null,
            "_view_module": "@jupyter-widgets/base",
            "_view_module_version": "1.2.0",
            "_view_name": "LayoutView",
            "align_content": null,
            "align_items": null,
            "align_self": null,
            "border": null,
            "bottom": null,
            "display": null,
            "flex": null,
            "flex_flow": null,
            "grid_area": null,
            "grid_auto_columns": null,
            "grid_auto_flow": null,
            "grid_auto_rows": null,
            "grid_column": null,
            "grid_gap": null,
            "grid_row": null,
            "grid_template_areas": null,
            "grid_template_columns": null,
            "grid_template_rows": null,
            "height": null,
            "justify_content": null,
            "justify_items": null,
            "left": null,
            "margin": null,
            "max_height": null,
            "max_width": null,
            "min_height": null,
            "min_width": null,
            "object_fit": null,
            "object_position": null,
            "order": null,
            "overflow": null,
            "overflow_x": null,
            "overflow_y": null,
            "padding": null,
            "right": null,
            "top": null,
            "visibility": null,
            "width": null
          }
        },
        "56a54d25b85947ae967d3f858524ff8f": {
          "model_module": "@jupyter-widgets/controls",
          "model_module_version": "1.5.0",
          "model_name": "DescriptionStyleModel",
          "state": {
            "_model_module": "@jupyter-widgets/controls",
            "_model_module_version": "1.5.0",
            "_model_name": "DescriptionStyleModel",
            "_view_count": null,
            "_view_module": "@jupyter-widgets/base",
            "_view_module_version": "1.2.0",
            "_view_name": "StyleView",
            "description_width": ""
          }
        },
        "572ade3ff3464f70960d8d4f9771572f": {
          "model_module": "@jupyter-widgets/controls",
          "model_module_version": "1.5.0",
          "model_name": "HBoxModel",
          "state": {
            "_dom_classes": [],
            "_model_module": "@jupyter-widgets/controls",
            "_model_module_version": "1.5.0",
            "_model_name": "HBoxModel",
            "_view_count": null,
            "_view_module": "@jupyter-widgets/controls",
            "_view_module_version": "1.5.0",
            "_view_name": "HBoxView",
            "box_style": "",
            "children": [
              "IPY_MODEL_88bd7cc960834b078cde0c34e6e37156",
              "IPY_MODEL_29361b5947884210bc07ad124460b238",
              "IPY_MODEL_82502f65015d44388b0f16062b14137e"
            ],
            "layout": "IPY_MODEL_21bd7486941d49afbf6da28971f8d722"
          }
        },
        "5e39dc25128044a7ab8dd34862d162f8": {
          "model_module": "@jupyter-widgets/controls",
          "model_module_version": "1.5.0",
          "model_name": "ProgressStyleModel",
          "state": {
            "_model_module": "@jupyter-widgets/controls",
            "_model_module_version": "1.5.0",
            "_model_name": "ProgressStyleModel",
            "_view_count": null,
            "_view_module": "@jupyter-widgets/base",
            "_view_module_version": "1.2.0",
            "_view_name": "StyleView",
            "bar_color": null,
            "description_width": ""
          }
        },
        "636ac61da2e04fcdaf6bcb6dfd765517": {
          "model_module": "@jupyter-widgets/base",
          "model_module_version": "1.2.0",
          "model_name": "LayoutModel",
          "state": {
            "_model_module": "@jupyter-widgets/base",
            "_model_module_version": "1.2.0",
            "_model_name": "LayoutModel",
            "_view_count": null,
            "_view_module": "@jupyter-widgets/base",
            "_view_module_version": "1.2.0",
            "_view_name": "LayoutView",
            "align_content": null,
            "align_items": null,
            "align_self": null,
            "border": null,
            "bottom": null,
            "display": null,
            "flex": null,
            "flex_flow": null,
            "grid_area": null,
            "grid_auto_columns": null,
            "grid_auto_flow": null,
            "grid_auto_rows": null,
            "grid_column": null,
            "grid_gap": null,
            "grid_row": null,
            "grid_template_areas": null,
            "grid_template_columns": null,
            "grid_template_rows": null,
            "height": null,
            "justify_content": null,
            "justify_items": null,
            "left": null,
            "margin": null,
            "max_height": null,
            "max_width": null,
            "min_height": null,
            "min_width": null,
            "object_fit": null,
            "object_position": null,
            "order": null,
            "overflow": null,
            "overflow_x": null,
            "overflow_y": null,
            "padding": null,
            "right": null,
            "top": null,
            "visibility": null,
            "width": null
          }
        },
        "640f6845a73b4d6e8af84db37d61fc2c": {
          "model_module": "@jupyter-widgets/controls",
          "model_module_version": "1.5.0",
          "model_name": "DescriptionStyleModel",
          "state": {
            "_model_module": "@jupyter-widgets/controls",
            "_model_module_version": "1.5.0",
            "_model_name": "DescriptionStyleModel",
            "_view_count": null,
            "_view_module": "@jupyter-widgets/base",
            "_view_module_version": "1.2.0",
            "_view_name": "StyleView",
            "description_width": ""
          }
        },
        "64b3391c2f354b8dacbec31c3e3e79db": {
          "model_module": "@jupyter-widgets/base",
          "model_module_version": "1.2.0",
          "model_name": "LayoutModel",
          "state": {
            "_model_module": "@jupyter-widgets/base",
            "_model_module_version": "1.2.0",
            "_model_name": "LayoutModel",
            "_view_count": null,
            "_view_module": "@jupyter-widgets/base",
            "_view_module_version": "1.2.0",
            "_view_name": "LayoutView",
            "align_content": null,
            "align_items": null,
            "align_self": null,
            "border": null,
            "bottom": null,
            "display": null,
            "flex": null,
            "flex_flow": null,
            "grid_area": null,
            "grid_auto_columns": null,
            "grid_auto_flow": null,
            "grid_auto_rows": null,
            "grid_column": null,
            "grid_gap": null,
            "grid_row": null,
            "grid_template_areas": null,
            "grid_template_columns": null,
            "grid_template_rows": null,
            "height": null,
            "justify_content": null,
            "justify_items": null,
            "left": null,
            "margin": null,
            "max_height": null,
            "max_width": null,
            "min_height": null,
            "min_width": null,
            "object_fit": null,
            "object_position": null,
            "order": null,
            "overflow": null,
            "overflow_x": null,
            "overflow_y": null,
            "padding": null,
            "right": null,
            "top": null,
            "visibility": null,
            "width": null
          }
        },
        "6c7006ac348847539acd07605a7debb7": {
          "model_module": "@jupyter-widgets/controls",
          "model_module_version": "1.5.0",
          "model_name": "HTMLModel",
          "state": {
            "_dom_classes": [],
            "_model_module": "@jupyter-widgets/controls",
            "_model_module_version": "1.5.0",
            "_model_name": "HTMLModel",
            "_view_count": null,
            "_view_module": "@jupyter-widgets/controls",
            "_view_module_version": "1.5.0",
            "_view_name": "HTMLView",
            "description": "",
            "description_tooltip": null,
            "layout": "IPY_MODEL_bc9c92dae4294a25bc73416b9ab22b31",
            "placeholder": "​",
            "style": "IPY_MODEL_640f6845a73b4d6e8af84db37d61fc2c",
            "value": "Downloading (…)rocessor_config.json: 100%"
          }
        },
        "71e7265a6c8e4b76bb6db3f3ad268bcf": {
          "model_module": "@jupyter-widgets/base",
          "model_module_version": "1.2.0",
          "model_name": "LayoutModel",
          "state": {
            "_model_module": "@jupyter-widgets/base",
            "_model_module_version": "1.2.0",
            "_model_name": "LayoutModel",
            "_view_count": null,
            "_view_module": "@jupyter-widgets/base",
            "_view_module_version": "1.2.0",
            "_view_name": "LayoutView",
            "align_content": null,
            "align_items": null,
            "align_self": null,
            "border": null,
            "bottom": null,
            "display": null,
            "flex": null,
            "flex_flow": null,
            "grid_area": null,
            "grid_auto_columns": null,
            "grid_auto_flow": null,
            "grid_auto_rows": null,
            "grid_column": null,
            "grid_gap": null,
            "grid_row": null,
            "grid_template_areas": null,
            "grid_template_columns": null,
            "grid_template_rows": null,
            "height": null,
            "justify_content": null,
            "justify_items": null,
            "left": null,
            "margin": null,
            "max_height": null,
            "max_width": null,
            "min_height": null,
            "min_width": null,
            "object_fit": null,
            "object_position": null,
            "order": null,
            "overflow": null,
            "overflow_x": null,
            "overflow_y": null,
            "padding": null,
            "right": null,
            "top": null,
            "visibility": null,
            "width": null
          }
        },
        "7643b8a01c2d4fac961a36a411938880": {
          "model_module": "@jupyter-widgets/base",
          "model_module_version": "1.2.0",
          "model_name": "LayoutModel",
          "state": {
            "_model_module": "@jupyter-widgets/base",
            "_model_module_version": "1.2.0",
            "_model_name": "LayoutModel",
            "_view_count": null,
            "_view_module": "@jupyter-widgets/base",
            "_view_module_version": "1.2.0",
            "_view_name": "LayoutView",
            "align_content": null,
            "align_items": null,
            "align_self": null,
            "border": null,
            "bottom": null,
            "display": null,
            "flex": null,
            "flex_flow": null,
            "grid_area": null,
            "grid_auto_columns": null,
            "grid_auto_flow": null,
            "grid_auto_rows": null,
            "grid_column": null,
            "grid_gap": null,
            "grid_row": null,
            "grid_template_areas": null,
            "grid_template_columns": null,
            "grid_template_rows": null,
            "height": null,
            "justify_content": null,
            "justify_items": null,
            "left": null,
            "margin": null,
            "max_height": null,
            "max_width": null,
            "min_height": null,
            "min_width": null,
            "object_fit": null,
            "object_position": null,
            "order": null,
            "overflow": null,
            "overflow_x": null,
            "overflow_y": null,
            "padding": null,
            "right": null,
            "top": null,
            "visibility": null,
            "width": null
          }
        },
        "786287bf342c492f96eb5a09cce4f81b": {
          "model_module": "@jupyter-widgets/base",
          "model_module_version": "1.2.0",
          "model_name": "LayoutModel",
          "state": {
            "_model_module": "@jupyter-widgets/base",
            "_model_module_version": "1.2.0",
            "_model_name": "LayoutModel",
            "_view_count": null,
            "_view_module": "@jupyter-widgets/base",
            "_view_module_version": "1.2.0",
            "_view_name": "LayoutView",
            "align_content": null,
            "align_items": null,
            "align_self": null,
            "border": null,
            "bottom": null,
            "display": null,
            "flex": null,
            "flex_flow": null,
            "grid_area": null,
            "grid_auto_columns": null,
            "grid_auto_flow": null,
            "grid_auto_rows": null,
            "grid_column": null,
            "grid_gap": null,
            "grid_row": null,
            "grid_template_areas": null,
            "grid_template_columns": null,
            "grid_template_rows": null,
            "height": null,
            "justify_content": null,
            "justify_items": null,
            "left": null,
            "margin": null,
            "max_height": null,
            "max_width": null,
            "min_height": null,
            "min_width": null,
            "object_fit": null,
            "object_position": null,
            "order": null,
            "overflow": null,
            "overflow_x": null,
            "overflow_y": null,
            "padding": null,
            "right": null,
            "top": null,
            "visibility": null,
            "width": null
          }
        },
        "78ba8bc14b584676accfc32bc2fed5c2": {
          "model_module": "@jupyter-widgets/controls",
          "model_module_version": "1.5.0",
          "model_name": "HBoxModel",
          "state": {
            "_dom_classes": [],
            "_model_module": "@jupyter-widgets/controls",
            "_model_module_version": "1.5.0",
            "_model_name": "HBoxModel",
            "_view_count": null,
            "_view_module": "@jupyter-widgets/controls",
            "_view_module_version": "1.5.0",
            "_view_name": "HBoxView",
            "box_style": "",
            "children": [
              "IPY_MODEL_6c7006ac348847539acd07605a7debb7",
              "IPY_MODEL_f1e33778460c46bebac46c9f120ca7f3",
              "IPY_MODEL_d32453fafe2547f687f8b1ee78796432"
            ],
            "layout": "IPY_MODEL_30052306b7ea4307ac5f098b3e1ca1e4"
          }
        },
        "78c1963156bc4676ab23bd03ac55d8ac": {
          "model_module": "@jupyter-widgets/controls",
          "model_module_version": "1.5.0",
          "model_name": "FloatProgressModel",
          "state": {
            "_dom_classes": [],
            "_model_module": "@jupyter-widgets/controls",
            "_model_module_version": "1.5.0",
            "_model_name": "FloatProgressModel",
            "_view_count": null,
            "_view_module": "@jupyter-widgets/controls",
            "_view_module_version": "1.5.0",
            "_view_name": "ProgressView",
            "bar_style": "success",
            "description": "",
            "description_tooltip": null,
            "layout": "IPY_MODEL_d0197a8408bc4095bb22287069c864ad",
            "max": 2613,
            "min": 0,
            "orientation": "horizontal",
            "style": "IPY_MODEL_793e101ee03446149520debae475f204",
            "value": 2613
          }
        },
        "793e101ee03446149520debae475f204": {
          "model_module": "@jupyter-widgets/controls",
          "model_module_version": "1.5.0",
          "model_name": "ProgressStyleModel",
          "state": {
            "_model_module": "@jupyter-widgets/controls",
            "_model_module_version": "1.5.0",
            "_model_name": "ProgressStyleModel",
            "_view_count": null,
            "_view_module": "@jupyter-widgets/base",
            "_view_module_version": "1.2.0",
            "_view_name": "StyleView",
            "bar_color": null,
            "description_width": ""
          }
        },
        "7f8f4bb01af548f9944d213175c137ee": {
          "model_module": "@jupyter-widgets/controls",
          "model_module_version": "1.5.0",
          "model_name": "DescriptionStyleModel",
          "state": {
            "_model_module": "@jupyter-widgets/controls",
            "_model_module_version": "1.5.0",
            "_model_name": "DescriptionStyleModel",
            "_view_count": null,
            "_view_module": "@jupyter-widgets/base",
            "_view_module_version": "1.2.0",
            "_view_name": "StyleView",
            "description_width": ""
          }
        },
        "82502f65015d44388b0f16062b14137e": {
          "model_module": "@jupyter-widgets/controls",
          "model_module_version": "1.5.0",
          "model_name": "HTMLModel",
          "state": {
            "_dom_classes": [],
            "_model_module": "@jupyter-widgets/controls",
            "_model_module_version": "1.5.0",
            "_model_name": "HTMLModel",
            "_view_count": null,
            "_view_module": "@jupyter-widgets/controls",
            "_view_module_version": "1.5.0",
            "_view_name": "HTMLView",
            "description": "",
            "description_tooltip": null,
            "layout": "IPY_MODEL_64b3391c2f354b8dacbec31c3e3e79db",
            "placeholder": "​",
            "style": "IPY_MODEL_518e12c4ef484f758725311d4d270dfe",
            "value": " 1.13G/1.13G [00:03&lt;00:00, 351MB/s]"
          }
        },
        "83b006b02d984321b535f7ef54805d0a": {
          "model_module": "@jupyter-widgets/base",
          "model_module_version": "1.2.0",
          "model_name": "LayoutModel",
          "state": {
            "_model_module": "@jupyter-widgets/base",
            "_model_module_version": "1.2.0",
            "_model_name": "LayoutModel",
            "_view_count": null,
            "_view_module": "@jupyter-widgets/base",
            "_view_module_version": "1.2.0",
            "_view_name": "LayoutView",
            "align_content": null,
            "align_items": null,
            "align_self": null,
            "border": null,
            "bottom": null,
            "display": null,
            "flex": null,
            "flex_flow": null,
            "grid_area": null,
            "grid_auto_columns": null,
            "grid_auto_flow": null,
            "grid_auto_rows": null,
            "grid_column": null,
            "grid_gap": null,
            "grid_row": null,
            "grid_template_areas": null,
            "grid_template_columns": null,
            "grid_template_rows": null,
            "height": null,
            "justify_content": null,
            "justify_items": null,
            "left": null,
            "margin": null,
            "max_height": null,
            "max_width": null,
            "min_height": null,
            "min_width": null,
            "object_fit": null,
            "object_position": null,
            "order": null,
            "overflow": null,
            "overflow_x": null,
            "overflow_y": null,
            "padding": null,
            "right": null,
            "top": null,
            "visibility": null,
            "width": null
          }
        },
        "85f8c21add4e4024a9776b7e6cfc84ef": {
          "model_module": "@jupyter-widgets/base",
          "model_module_version": "1.2.0",
          "model_name": "LayoutModel",
          "state": {
            "_model_module": "@jupyter-widgets/base",
            "_model_module_version": "1.2.0",
            "_model_name": "LayoutModel",
            "_view_count": null,
            "_view_module": "@jupyter-widgets/base",
            "_view_module_version": "1.2.0",
            "_view_name": "LayoutView",
            "align_content": null,
            "align_items": null,
            "align_self": null,
            "border": null,
            "bottom": null,
            "display": null,
            "flex": null,
            "flex_flow": null,
            "grid_area": null,
            "grid_auto_columns": null,
            "grid_auto_flow": null,
            "grid_auto_rows": null,
            "grid_column": null,
            "grid_gap": null,
            "grid_row": null,
            "grid_template_areas": null,
            "grid_template_columns": null,
            "grid_template_rows": null,
            "height": null,
            "justify_content": null,
            "justify_items": null,
            "left": null,
            "margin": null,
            "max_height": null,
            "max_width": null,
            "min_height": null,
            "min_width": null,
            "object_fit": null,
            "object_position": null,
            "order": null,
            "overflow": null,
            "overflow_x": null,
            "overflow_y": null,
            "padding": null,
            "right": null,
            "top": null,
            "visibility": null,
            "width": null
          }
        },
        "88bb90c6a06641109e682f678209bc4d": {
          "model_module": "@jupyter-widgets/base",
          "model_module_version": "1.2.0",
          "model_name": "LayoutModel",
          "state": {
            "_model_module": "@jupyter-widgets/base",
            "_model_module_version": "1.2.0",
            "_model_name": "LayoutModel",
            "_view_count": null,
            "_view_module": "@jupyter-widgets/base",
            "_view_module_version": "1.2.0",
            "_view_name": "LayoutView",
            "align_content": null,
            "align_items": null,
            "align_self": null,
            "border": null,
            "bottom": null,
            "display": null,
            "flex": null,
            "flex_flow": null,
            "grid_area": null,
            "grid_auto_columns": null,
            "grid_auto_flow": null,
            "grid_auto_rows": null,
            "grid_column": null,
            "grid_gap": null,
            "grid_row": null,
            "grid_template_areas": null,
            "grid_template_columns": null,
            "grid_template_rows": null,
            "height": null,
            "justify_content": null,
            "justify_items": null,
            "left": null,
            "margin": null,
            "max_height": null,
            "max_width": null,
            "min_height": null,
            "min_width": null,
            "object_fit": null,
            "object_position": null,
            "order": null,
            "overflow": null,
            "overflow_x": null,
            "overflow_y": null,
            "padding": null,
            "right": null,
            "top": null,
            "visibility": null,
            "width": null
          }
        },
        "88bd7cc960834b078cde0c34e6e37156": {
          "model_module": "@jupyter-widgets/controls",
          "model_module_version": "1.5.0",
          "model_name": "HTMLModel",
          "state": {
            "_dom_classes": [],
            "_model_module": "@jupyter-widgets/controls",
            "_model_module_version": "1.5.0",
            "_model_name": "HTMLModel",
            "_view_count": null,
            "_view_module": "@jupyter-widgets/controls",
            "_view_module_version": "1.5.0",
            "_view_name": "HTMLView",
            "description": "",
            "description_tooltip": null,
            "layout": "IPY_MODEL_976851271dfe4ddabe172ff33aa4c5a1",
            "placeholder": "​",
            "style": "IPY_MODEL_7f8f4bb01af548f9944d213175c137ee",
            "value": "Downloading pytorch_model.bin: 100%"
          }
        },
        "8af8647e45804ef4a6e8c26e173ef040": {
          "model_module": "@jupyter-widgets/controls",
          "model_module_version": "1.5.0",
          "model_name": "ProgressStyleModel",
          "state": {
            "_model_module": "@jupyter-widgets/controls",
            "_model_module_version": "1.5.0",
            "_model_name": "ProgressStyleModel",
            "_view_count": null,
            "_view_module": "@jupyter-widgets/base",
            "_view_module_version": "1.2.0",
            "_view_name": "StyleView",
            "bar_color": null,
            "description_width": ""
          }
        },
        "8dbd0e351bc84d0ca89e4c34fccda096": {
          "model_module": "@jupyter-widgets/controls",
          "model_module_version": "1.5.0",
          "model_name": "HBoxModel",
          "state": {
            "_dom_classes": [],
            "_model_module": "@jupyter-widgets/controls",
            "_model_module_version": "1.5.0",
            "_model_name": "HBoxModel",
            "_view_count": null,
            "_view_module": "@jupyter-widgets/controls",
            "_view_module_version": "1.5.0",
            "_view_name": "HBoxView",
            "box_style": "",
            "children": [
              "IPY_MODEL_c481168124034240a88baced84b2c2bb",
              "IPY_MODEL_d325931be58a42b1b14324b94085d59e",
              "IPY_MODEL_13aeb188fc8740aeb1c46052d8edd28e"
            ],
            "layout": "IPY_MODEL_7643b8a01c2d4fac961a36a411938880"
          }
        },
        "8f0c51d2dee3418f97cb0c00a39aecdb": {
          "model_module": "@jupyter-widgets/controls",
          "model_module_version": "1.5.0",
          "model_name": "HTMLModel",
          "state": {
            "_dom_classes": [],
            "_model_module": "@jupyter-widgets/controls",
            "_model_module_version": "1.5.0",
            "_model_name": "HTMLModel",
            "_view_count": null,
            "_view_module": "@jupyter-widgets/controls",
            "_view_module_version": "1.5.0",
            "_view_name": "HTMLView",
            "description": "",
            "description_tooltip": null,
            "layout": "IPY_MODEL_636ac61da2e04fcdaf6bcb6dfd765517",
            "placeholder": "​",
            "style": "IPY_MODEL_f01ec528e0ec4f1a8e52ae13834a3e65",
            "value": "Downloading spiece.model: 100%"
          }
        },
        "9263485e2bed4bcdb6ff18d1d4b6b5aa": {
          "model_module": "@jupyter-widgets/controls",
          "model_module_version": "1.5.0",
          "model_name": "HBoxModel",
          "state": {
            "_dom_classes": [],
            "_model_module": "@jupyter-widgets/controls",
            "_model_module_version": "1.5.0",
            "_model_name": "HBoxModel",
            "_view_count": null,
            "_view_module": "@jupyter-widgets/controls",
            "_view_module_version": "1.5.0",
            "_view_name": "HBoxView",
            "box_style": "",
            "children": [
              "IPY_MODEL_1405b136fdc54a9890994b0010fe7c4d",
              "IPY_MODEL_a86376ea52254b1eb0f3fc89d9d2726c",
              "IPY_MODEL_dc922600716d48f8a17eb6e2c4d7f2e7"
            ],
            "layout": "IPY_MODEL_786287bf342c492f96eb5a09cce4f81b"
          }
        },
        "92b21a0877f8474cb97d79cc77ebfc96": {
          "model_module": "@jupyter-widgets/base",
          "model_module_version": "1.2.0",
          "model_name": "LayoutModel",
          "state": {
            "_model_module": "@jupyter-widgets/base",
            "_model_module_version": "1.2.0",
            "_model_name": "LayoutModel",
            "_view_count": null,
            "_view_module": "@jupyter-widgets/base",
            "_view_module_version": "1.2.0",
            "_view_name": "LayoutView",
            "align_content": null,
            "align_items": null,
            "align_self": null,
            "border": null,
            "bottom": null,
            "display": null,
            "flex": null,
            "flex_flow": null,
            "grid_area": null,
            "grid_auto_columns": null,
            "grid_auto_flow": null,
            "grid_auto_rows": null,
            "grid_column": null,
            "grid_gap": null,
            "grid_row": null,
            "grid_template_areas": null,
            "grid_template_columns": null,
            "grid_template_rows": null,
            "height": null,
            "justify_content": null,
            "justify_items": null,
            "left": null,
            "margin": null,
            "max_height": null,
            "max_width": null,
            "min_height": null,
            "min_width": null,
            "object_fit": null,
            "object_position": null,
            "order": null,
            "overflow": null,
            "overflow_x": null,
            "overflow_y": null,
            "padding": null,
            "right": null,
            "top": null,
            "visibility": null,
            "width": null
          }
        },
        "976851271dfe4ddabe172ff33aa4c5a1": {
          "model_module": "@jupyter-widgets/base",
          "model_module_version": "1.2.0",
          "model_name": "LayoutModel",
          "state": {
            "_model_module": "@jupyter-widgets/base",
            "_model_module_version": "1.2.0",
            "_model_name": "LayoutModel",
            "_view_count": null,
            "_view_module": "@jupyter-widgets/base",
            "_view_module_version": "1.2.0",
            "_view_name": "LayoutView",
            "align_content": null,
            "align_items": null,
            "align_self": null,
            "border": null,
            "bottom": null,
            "display": null,
            "flex": null,
            "flex_flow": null,
            "grid_area": null,
            "grid_auto_columns": null,
            "grid_auto_flow": null,
            "grid_auto_rows": null,
            "grid_column": null,
            "grid_gap": null,
            "grid_row": null,
            "grid_template_areas": null,
            "grid_template_columns": null,
            "grid_template_rows": null,
            "height": null,
            "justify_content": null,
            "justify_items": null,
            "left": null,
            "margin": null,
            "max_height": null,
            "max_width": null,
            "min_height": null,
            "min_width": null,
            "object_fit": null,
            "object_position": null,
            "order": null,
            "overflow": null,
            "overflow_x": null,
            "overflow_y": null,
            "padding": null,
            "right": null,
            "top": null,
            "visibility": null,
            "width": null
          }
        },
        "9a182ef7acfd4c0ab5ce81a76658bf86": {
          "model_module": "@jupyter-widgets/base",
          "model_module_version": "1.2.0",
          "model_name": "LayoutModel",
          "state": {
            "_model_module": "@jupyter-widgets/base",
            "_model_module_version": "1.2.0",
            "_model_name": "LayoutModel",
            "_view_count": null,
            "_view_module": "@jupyter-widgets/base",
            "_view_module_version": "1.2.0",
            "_view_name": "LayoutView",
            "align_content": null,
            "align_items": null,
            "align_self": null,
            "border": null,
            "bottom": null,
            "display": null,
            "flex": null,
            "flex_flow": null,
            "grid_area": null,
            "grid_auto_columns": null,
            "grid_auto_flow": null,
            "grid_auto_rows": null,
            "grid_column": null,
            "grid_gap": null,
            "grid_row": null,
            "grid_template_areas": null,
            "grid_template_columns": null,
            "grid_template_rows": null,
            "height": null,
            "justify_content": null,
            "justify_items": null,
            "left": null,
            "margin": null,
            "max_height": null,
            "max_width": null,
            "min_height": null,
            "min_width": null,
            "object_fit": null,
            "object_position": null,
            "order": null,
            "overflow": null,
            "overflow_x": null,
            "overflow_y": null,
            "padding": null,
            "right": null,
            "top": null,
            "visibility": null,
            "width": null
          }
        },
        "9d99ce29825b47fbbd989c3d28ec302a": {
          "model_module": "@jupyter-widgets/controls",
          "model_module_version": "1.5.0",
          "model_name": "DescriptionStyleModel",
          "state": {
            "_model_module": "@jupyter-widgets/controls",
            "_model_module_version": "1.5.0",
            "_model_name": "DescriptionStyleModel",
            "_view_count": null,
            "_view_module": "@jupyter-widgets/base",
            "_view_module_version": "1.2.0",
            "_view_name": "StyleView",
            "description_width": ""
          }
        },
        "9df2ceb989b54de0bedbf1f1a079d934": {
          "model_module": "@jupyter-widgets/controls",
          "model_module_version": "1.5.0",
          "model_name": "DescriptionStyleModel",
          "state": {
            "_model_module": "@jupyter-widgets/controls",
            "_model_module_version": "1.5.0",
            "_model_name": "DescriptionStyleModel",
            "_view_count": null,
            "_view_module": "@jupyter-widgets/base",
            "_view_module_version": "1.2.0",
            "_view_name": "StyleView",
            "description_width": ""
          }
        },
        "a2175f3cd8644f91b3337b9bd99f2f82": {
          "model_module": "@jupyter-widgets/controls",
          "model_module_version": "1.5.0",
          "model_name": "HBoxModel",
          "state": {
            "_dom_classes": [],
            "_model_module": "@jupyter-widgets/controls",
            "_model_module_version": "1.5.0",
            "_model_name": "HBoxModel",
            "_view_count": null,
            "_view_module": "@jupyter-widgets/controls",
            "_view_module_version": "1.5.0",
            "_view_name": "HBoxView",
            "box_style": "",
            "children": [
              "IPY_MODEL_c977c3a1798d43a0ab9b4b59fb1c9533",
              "IPY_MODEL_78c1963156bc4676ab23bd03ac55d8ac",
              "IPY_MODEL_bb2a2d38843a4fea92e19bcbe1eaed51"
            ],
            "layout": "IPY_MODEL_3c0dac43d7fb4f0abc471850729334d2"
          }
        },
        "a86376ea52254b1eb0f3fc89d9d2726c": {
          "model_module": "@jupyter-widgets/controls",
          "model_module_version": "1.5.0",
          "model_name": "FloatProgressModel",
          "state": {
            "_dom_classes": [],
            "_model_module": "@jupyter-widgets/controls",
            "_model_module_version": "1.5.0",
            "_model_name": "FloatProgressModel",
            "_view_count": null,
            "_view_module": "@jupyter-widgets/controls",
            "_view_module_version": "1.5.0",
            "_view_name": "ProgressView",
            "bar_style": "success",
            "description": "",
            "description_tooltip": null,
            "layout": "IPY_MODEL_85f8c21add4e4024a9776b7e6cfc84ef",
            "max": 3265159,
            "min": 0,
            "orientation": "horizontal",
            "style": "IPY_MODEL_0b6ae2760fab464196955ad1891b4c56",
            "value": 3265159
          }
        },
        "b2576f4043bb4d68abdef096120b2a13": {
          "model_module": "@jupyter-widgets/controls",
          "model_module_version": "1.5.0",
          "model_name": "DescriptionStyleModel",
          "state": {
            "_model_module": "@jupyter-widgets/controls",
            "_model_module_version": "1.5.0",
            "_model_name": "DescriptionStyleModel",
            "_view_count": null,
            "_view_module": "@jupyter-widgets/base",
            "_view_module_version": "1.2.0",
            "_view_name": "StyleView",
            "description_width": ""
          }
        },
        "b8f423a43f76445ab9cd93dbf4f9404c": {
          "model_module": "@jupyter-widgets/controls",
          "model_module_version": "1.5.0",
          "model_name": "HBoxModel",
          "state": {
            "_dom_classes": [],
            "_model_module": "@jupyter-widgets/controls",
            "_model_module_version": "1.5.0",
            "_model_name": "HBoxModel",
            "_view_count": null,
            "_view_module": "@jupyter-widgets/controls",
            "_view_module_version": "1.5.0",
            "_view_name": "HBoxView",
            "box_style": "",
            "children": [
              "IPY_MODEL_8f0c51d2dee3418f97cb0c00a39aecdb",
              "IPY_MODEL_0b0fab00ea11462a86168ec7442f91e2",
              "IPY_MODEL_d51f4855dbe54a6fa59914632dd0984f"
            ],
            "layout": "IPY_MODEL_3984fa8d36554572928a8b17368ac07e"
          }
        },
        "bb2a2d38843a4fea92e19bcbe1eaed51": {
          "model_module": "@jupyter-widgets/controls",
          "model_module_version": "1.5.0",
          "model_name": "HTMLModel",
          "state": {
            "_dom_classes": [],
            "_model_module": "@jupyter-widgets/controls",
            "_model_module_version": "1.5.0",
            "_model_name": "HTMLModel",
            "_view_count": null,
            "_view_module": "@jupyter-widgets/controls",
            "_view_module_version": "1.5.0",
            "_view_name": "HTMLView",
            "description": "",
            "description_tooltip": null,
            "layout": "IPY_MODEL_88bb90c6a06641109e682f678209bc4d",
            "placeholder": "​",
            "style": "IPY_MODEL_b2576f4043bb4d68abdef096120b2a13",
            "value": " 2.61k/2.61k [00:00&lt;00:00, 212kB/s]"
          }
        },
        "bb6a5988aa6d4e6ebe802f1021d9caf2": {
          "model_module": "@jupyter-widgets/controls",
          "model_module_version": "1.5.0",
          "model_name": "ProgressStyleModel",
          "state": {
            "_model_module": "@jupyter-widgets/controls",
            "_model_module_version": "1.5.0",
            "_model_name": "ProgressStyleModel",
            "_view_count": null,
            "_view_module": "@jupyter-widgets/base",
            "_view_module_version": "1.2.0",
            "_view_name": "StyleView",
            "bar_color": null,
            "description_width": ""
          }
        },
        "bc9c92dae4294a25bc73416b9ab22b31": {
          "model_module": "@jupyter-widgets/base",
          "model_module_version": "1.2.0",
          "model_name": "LayoutModel",
          "state": {
            "_model_module": "@jupyter-widgets/base",
            "_model_module_version": "1.2.0",
            "_model_name": "LayoutModel",
            "_view_count": null,
            "_view_module": "@jupyter-widgets/base",
            "_view_module_version": "1.2.0",
            "_view_name": "LayoutView",
            "align_content": null,
            "align_items": null,
            "align_self": null,
            "border": null,
            "bottom": null,
            "display": null,
            "flex": null,
            "flex_flow": null,
            "grid_area": null,
            "grid_auto_columns": null,
            "grid_auto_flow": null,
            "grid_auto_rows": null,
            "grid_column": null,
            "grid_gap": null,
            "grid_row": null,
            "grid_template_areas": null,
            "grid_template_columns": null,
            "grid_template_rows": null,
            "height": null,
            "justify_content": null,
            "justify_items": null,
            "left": null,
            "margin": null,
            "max_height": null,
            "max_width": null,
            "min_height": null,
            "min_width": null,
            "object_fit": null,
            "object_position": null,
            "order": null,
            "overflow": null,
            "overflow_x": null,
            "overflow_y": null,
            "padding": null,
            "right": null,
            "top": null,
            "visibility": null,
            "width": null
          }
        },
        "c481168124034240a88baced84b2c2bb": {
          "model_module": "@jupyter-widgets/controls",
          "model_module_version": "1.5.0",
          "model_name": "HTMLModel",
          "state": {
            "_dom_classes": [],
            "_model_module": "@jupyter-widgets/controls",
            "_model_module_version": "1.5.0",
            "_model_name": "HTMLModel",
            "_view_count": null,
            "_view_module": "@jupyter-widgets/controls",
            "_view_module_version": "1.5.0",
            "_view_name": "HTMLView",
            "description": "",
            "description_tooltip": null,
            "layout": "IPY_MODEL_83b006b02d984321b535f7ef54805d0a",
            "placeholder": "​",
            "style": "IPY_MODEL_e1703df8d2cc4c5e977c41cdd222cf1b",
            "value": "Downloading (…)cial_tokens_map.json: 100%"
          }
        },
        "c652fea5d09f4e7683c8e93f6938f8ce": {
          "model_module": "@jupyter-widgets/controls",
          "model_module_version": "1.5.0",
          "model_name": "DescriptionStyleModel",
          "state": {
            "_model_module": "@jupyter-widgets/controls",
            "_model_module_version": "1.5.0",
            "_model_name": "DescriptionStyleModel",
            "_view_count": null,
            "_view_module": "@jupyter-widgets/base",
            "_view_module_version": "1.2.0",
            "_view_name": "StyleView",
            "description_width": ""
          }
        },
        "c7212059f0ff40beb98a06b442b96958": {
          "model_module": "@jupyter-widgets/controls",
          "model_module_version": "1.5.0",
          "model_name": "ProgressStyleModel",
          "state": {
            "_model_module": "@jupyter-widgets/controls",
            "_model_module_version": "1.5.0",
            "_model_name": "ProgressStyleModel",
            "_view_count": null,
            "_view_module": "@jupyter-widgets/base",
            "_view_module_version": "1.2.0",
            "_view_name": "StyleView",
            "bar_color": null,
            "description_width": ""
          }
        },
        "c977c3a1798d43a0ab9b4b59fb1c9533": {
          "model_module": "@jupyter-widgets/controls",
          "model_module_version": "1.5.0",
          "model_name": "HTMLModel",
          "state": {
            "_dom_classes": [],
            "_model_module": "@jupyter-widgets/controls",
            "_model_module_version": "1.5.0",
            "_model_name": "HTMLModel",
            "_view_count": null,
            "_view_module": "@jupyter-widgets/controls",
            "_view_module_version": "1.5.0",
            "_view_name": "HTMLView",
            "description": "",
            "description_tooltip": null,
            "layout": "IPY_MODEL_478c85ba33024b6ca09e36b3abca30be",
            "placeholder": "​",
            "style": "IPY_MODEL_e57e7ef715424606a779d2a029f65240",
            "value": "Downloading (…)okenizer_config.json: 100%"
          }
        },
        "d0197a8408bc4095bb22287069c864ad": {
          "model_module": "@jupyter-widgets/base",
          "model_module_version": "1.2.0",
          "model_name": "LayoutModel",
          "state": {
            "_model_module": "@jupyter-widgets/base",
            "_model_module_version": "1.2.0",
            "_model_name": "LayoutModel",
            "_view_count": null,
            "_view_module": "@jupyter-widgets/base",
            "_view_module_version": "1.2.0",
            "_view_name": "LayoutView",
            "align_content": null,
            "align_items": null,
            "align_self": null,
            "border": null,
            "bottom": null,
            "display": null,
            "flex": null,
            "flex_flow": null,
            "grid_area": null,
            "grid_auto_columns": null,
            "grid_auto_flow": null,
            "grid_auto_rows": null,
            "grid_column": null,
            "grid_gap": null,
            "grid_row": null,
            "grid_template_areas": null,
            "grid_template_columns": null,
            "grid_template_rows": null,
            "height": null,
            "justify_content": null,
            "justify_items": null,
            "left": null,
            "margin": null,
            "max_height": null,
            "max_width": null,
            "min_height": null,
            "min_width": null,
            "object_fit": null,
            "object_position": null,
            "order": null,
            "overflow": null,
            "overflow_x": null,
            "overflow_y": null,
            "padding": null,
            "right": null,
            "top": null,
            "visibility": null,
            "width": null
          }
        },
        "d32453fafe2547f687f8b1ee78796432": {
          "model_module": "@jupyter-widgets/controls",
          "model_module_version": "1.5.0",
          "model_name": "HTMLModel",
          "state": {
            "_dom_classes": [],
            "_model_module": "@jupyter-widgets/controls",
            "_model_module_version": "1.5.0",
            "_model_name": "HTMLModel",
            "_view_count": null,
            "_view_module": "@jupyter-widgets/controls",
            "_view_module_version": "1.5.0",
            "_view_name": "HTMLView",
            "description": "",
            "description_tooltip": null,
            "layout": "IPY_MODEL_daca34171bd343e185075221b8d88675",
            "placeholder": "​",
            "style": "IPY_MODEL_9d99ce29825b47fbbd989c3d28ec302a",
            "value": " 231/231 [00:00&lt;00:00, 20.2kB/s]"
          }
        },
        "d325931be58a42b1b14324b94085d59e": {
          "model_module": "@jupyter-widgets/controls",
          "model_module_version": "1.5.0",
          "model_name": "FloatProgressModel",
          "state": {
            "_dom_classes": [],
            "_model_module": "@jupyter-widgets/controls",
            "_model_module_version": "1.5.0",
            "_model_name": "FloatProgressModel",
            "_view_count": null,
            "_view_module": "@jupyter-widgets/controls",
            "_view_module_version": "1.5.0",
            "_view_name": "ProgressView",
            "bar_style": "success",
            "description": "",
            "description_tooltip": null,
            "layout": "IPY_MODEL_0060f8ad1c284c1680ca71a2a2559d81",
            "max": 2201,
            "min": 0,
            "orientation": "horizontal",
            "style": "IPY_MODEL_5e39dc25128044a7ab8dd34862d162f8",
            "value": 2201
          }
        },
        "d51f4855dbe54a6fa59914632dd0984f": {
          "model_module": "@jupyter-widgets/controls",
          "model_module_version": "1.5.0",
          "model_name": "HTMLModel",
          "state": {
            "_dom_classes": [],
            "_model_module": "@jupyter-widgets/controls",
            "_model_module_version": "1.5.0",
            "_model_name": "HTMLModel",
            "_view_count": null,
            "_view_module": "@jupyter-widgets/controls",
            "_view_module_version": "1.5.0",
            "_view_name": "HTMLView",
            "description": "",
            "description_tooltip": null,
            "layout": "IPY_MODEL_d98991e4d9054c3189f7102f0b6a3389",
            "placeholder": "​",
            "style": "IPY_MODEL_f9d05ff275a24de08021b687308dcbf0",
            "value": " 851k/851k [00:00&lt;00:00, 38.1MB/s]"
          }
        },
        "d8ca65cc2bfb46ef95a54dbc6b50dc66": {
          "model_module": "@jupyter-widgets/controls",
          "model_module_version": "1.5.0",
          "model_name": "HTMLModel",
          "state": {
            "_dom_classes": [],
            "_model_module": "@jupyter-widgets/controls",
            "_model_module_version": "1.5.0",
            "_model_name": "HTMLModel",
            "_view_count": null,
            "_view_module": "@jupyter-widgets/controls",
            "_view_module_version": "1.5.0",
            "_view_name": "HTMLView",
            "description": "",
            "description_tooltip": null,
            "layout": "IPY_MODEL_9a182ef7acfd4c0ab5ce81a76658bf86",
            "placeholder": "​",
            "style": "IPY_MODEL_141f0fcc28644d75959a1f6b09b35229",
            "value": "Downloading (…)lve/main/config.json: 100%"
          }
        },
        "d98991e4d9054c3189f7102f0b6a3389": {
          "model_module": "@jupyter-widgets/base",
          "model_module_version": "1.2.0",
          "model_name": "LayoutModel",
          "state": {
            "_model_module": "@jupyter-widgets/base",
            "_model_module_version": "1.2.0",
            "_model_name": "LayoutModel",
            "_view_count": null,
            "_view_module": "@jupyter-widgets/base",
            "_view_module_version": "1.2.0",
            "_view_name": "LayoutView",
            "align_content": null,
            "align_items": null,
            "align_self": null,
            "border": null,
            "bottom": null,
            "display": null,
            "flex": null,
            "flex_flow": null,
            "grid_area": null,
            "grid_auto_columns": null,
            "grid_auto_flow": null,
            "grid_auto_rows": null,
            "grid_column": null,
            "grid_gap": null,
            "grid_row": null,
            "grid_template_areas": null,
            "grid_template_columns": null,
            "grid_template_rows": null,
            "height": null,
            "justify_content": null,
            "justify_items": null,
            "left": null,
            "margin": null,
            "max_height": null,
            "max_width": null,
            "min_height": null,
            "min_width": null,
            "object_fit": null,
            "object_position": null,
            "order": null,
            "overflow": null,
            "overflow_x": null,
            "overflow_y": null,
            "padding": null,
            "right": null,
            "top": null,
            "visibility": null,
            "width": null
          }
        },
        "daca34171bd343e185075221b8d88675": {
          "model_module": "@jupyter-widgets/base",
          "model_module_version": "1.2.0",
          "model_name": "LayoutModel",
          "state": {
            "_model_module": "@jupyter-widgets/base",
            "_model_module_version": "1.2.0",
            "_model_name": "LayoutModel",
            "_view_count": null,
            "_view_module": "@jupyter-widgets/base",
            "_view_module_version": "1.2.0",
            "_view_name": "LayoutView",
            "align_content": null,
            "align_items": null,
            "align_self": null,
            "border": null,
            "bottom": null,
            "display": null,
            "flex": null,
            "flex_flow": null,
            "grid_area": null,
            "grid_auto_columns": null,
            "grid_auto_flow": null,
            "grid_auto_rows": null,
            "grid_column": null,
            "grid_gap": null,
            "grid_row": null,
            "grid_template_areas": null,
            "grid_template_columns": null,
            "grid_template_rows": null,
            "height": null,
            "justify_content": null,
            "justify_items": null,
            "left": null,
            "margin": null,
            "max_height": null,
            "max_width": null,
            "min_height": null,
            "min_width": null,
            "object_fit": null,
            "object_position": null,
            "order": null,
            "overflow": null,
            "overflow_x": null,
            "overflow_y": null,
            "padding": null,
            "right": null,
            "top": null,
            "visibility": null,
            "width": null
          }
        },
        "dacf62a7f06b4ea783c021646c378d8b": {
          "model_module": "@jupyter-widgets/controls",
          "model_module_version": "1.5.0",
          "model_name": "HBoxModel",
          "state": {
            "_dom_classes": [],
            "_model_module": "@jupyter-widgets/controls",
            "_model_module_version": "1.5.0",
            "_model_name": "HBoxModel",
            "_view_count": null,
            "_view_module": "@jupyter-widgets/controls",
            "_view_module_version": "1.5.0",
            "_view_name": "HBoxView",
            "box_style": "",
            "children": [
              "IPY_MODEL_d8ca65cc2bfb46ef95a54dbc6b50dc66",
              "IPY_MODEL_fd9f4dee518d466c908f2228ba975417",
              "IPY_MODEL_0babbdabfd864339afc4a1bc945a9139"
            ],
            "layout": "IPY_MODEL_18ce18ffa8c040c7aacde41d7ad4b004"
          }
        },
        "dc922600716d48f8a17eb6e2c4d7f2e7": {
          "model_module": "@jupyter-widgets/controls",
          "model_module_version": "1.5.0",
          "model_name": "HTMLModel",
          "state": {
            "_dom_classes": [],
            "_model_module": "@jupyter-widgets/controls",
            "_model_module_version": "1.5.0",
            "_model_name": "HTMLModel",
            "_view_count": null,
            "_view_module": "@jupyter-widgets/controls",
            "_view_module_version": "1.5.0",
            "_view_name": "HTMLView",
            "description": "",
            "description_tooltip": null,
            "layout": "IPY_MODEL_54f9be2f54214196a255948d4e4c0af3",
            "placeholder": "​",
            "style": "IPY_MODEL_9df2ceb989b54de0bedbf1f1a079d934",
            "value": " 3.27M/3.27M [00:01&lt;00:00, 2.31MB/s]"
          }
        },
        "dd8358a3065e453a90819c1c91b931b4": {
          "model_module": "@jupyter-widgets/base",
          "model_module_version": "1.2.0",
          "model_name": "LayoutModel",
          "state": {
            "_model_module": "@jupyter-widgets/base",
            "_model_module_version": "1.2.0",
            "_model_name": "LayoutModel",
            "_view_count": null,
            "_view_module": "@jupyter-widgets/base",
            "_view_module_version": "1.2.0",
            "_view_name": "LayoutView",
            "align_content": null,
            "align_items": null,
            "align_self": null,
            "border": null,
            "bottom": null,
            "display": null,
            "flex": null,
            "flex_flow": null,
            "grid_area": null,
            "grid_auto_columns": null,
            "grid_auto_flow": null,
            "grid_auto_rows": null,
            "grid_column": null,
            "grid_gap": null,
            "grid_row": null,
            "grid_template_areas": null,
            "grid_template_columns": null,
            "grid_template_rows": null,
            "height": null,
            "justify_content": null,
            "justify_items": null,
            "left": null,
            "margin": null,
            "max_height": null,
            "max_width": null,
            "min_height": null,
            "min_width": null,
            "object_fit": null,
            "object_position": null,
            "order": null,
            "overflow": null,
            "overflow_x": null,
            "overflow_y": null,
            "padding": null,
            "right": null,
            "top": null,
            "visibility": null,
            "width": null
          }
        },
        "e1703df8d2cc4c5e977c41cdd222cf1b": {
          "model_module": "@jupyter-widgets/controls",
          "model_module_version": "1.5.0",
          "model_name": "DescriptionStyleModel",
          "state": {
            "_model_module": "@jupyter-widgets/controls",
            "_model_module_version": "1.5.0",
            "_model_name": "DescriptionStyleModel",
            "_view_count": null,
            "_view_module": "@jupyter-widgets/base",
            "_view_module_version": "1.2.0",
            "_view_name": "StyleView",
            "description_width": ""
          }
        },
        "e57e7ef715424606a779d2a029f65240": {
          "model_module": "@jupyter-widgets/controls",
          "model_module_version": "1.5.0",
          "model_name": "DescriptionStyleModel",
          "state": {
            "_model_module": "@jupyter-widgets/controls",
            "_model_module_version": "1.5.0",
            "_model_name": "DescriptionStyleModel",
            "_view_count": null,
            "_view_module": "@jupyter-widgets/base",
            "_view_module_version": "1.2.0",
            "_view_name": "StyleView",
            "description_width": ""
          }
        },
        "f01ec528e0ec4f1a8e52ae13834a3e65": {
          "model_module": "@jupyter-widgets/controls",
          "model_module_version": "1.5.0",
          "model_name": "DescriptionStyleModel",
          "state": {
            "_model_module": "@jupyter-widgets/controls",
            "_model_module_version": "1.5.0",
            "_model_name": "DescriptionStyleModel",
            "_view_count": null,
            "_view_module": "@jupyter-widgets/base",
            "_view_module_version": "1.2.0",
            "_view_name": "StyleView",
            "description_width": ""
          }
        },
        "f1e33778460c46bebac46c9f120ca7f3": {
          "model_module": "@jupyter-widgets/controls",
          "model_module_version": "1.5.0",
          "model_name": "FloatProgressModel",
          "state": {
            "_dom_classes": [],
            "_model_module": "@jupyter-widgets/controls",
            "_model_module_version": "1.5.0",
            "_model_name": "FloatProgressModel",
            "_view_count": null,
            "_view_module": "@jupyter-widgets/controls",
            "_view_module_version": "1.5.0",
            "_view_name": "ProgressView",
            "bar_style": "success",
            "description": "",
            "description_tooltip": null,
            "layout": "IPY_MODEL_1ae5c449f47849988b62c97950151079",
            "max": 231,
            "min": 0,
            "orientation": "horizontal",
            "style": "IPY_MODEL_4b9b5c3eea7b4d809d00b8221fc2ee28",
            "value": 231
          }
        },
        "f9d05ff275a24de08021b687308dcbf0": {
          "model_module": "@jupyter-widgets/controls",
          "model_module_version": "1.5.0",
          "model_name": "DescriptionStyleModel",
          "state": {
            "_model_module": "@jupyter-widgets/controls",
            "_model_module_version": "1.5.0",
            "_model_name": "DescriptionStyleModel",
            "_view_count": null,
            "_view_module": "@jupyter-widgets/base",
            "_view_module_version": "1.2.0",
            "_view_name": "StyleView",
            "description_width": ""
          }
        },
        "fd9f4dee518d466c908f2228ba975417": {
          "model_module": "@jupyter-widgets/controls",
          "model_module_version": "1.5.0",
          "model_name": "FloatProgressModel",
          "state": {
            "_dom_classes": [],
            "_model_module": "@jupyter-widgets/controls",
            "_model_module_version": "1.5.0",
            "_model_name": "FloatProgressModel",
            "_view_count": null,
            "_view_module": "@jupyter-widgets/controls",
            "_view_module_version": "1.5.0",
            "_view_name": "ProgressView",
            "bar_style": "success",
            "description": "",
            "description_tooltip": null,
            "layout": "IPY_MODEL_0e226c6638f94a87a58712ec84db8596",
            "max": 4918,
            "min": 0,
            "orientation": "horizontal",
            "style": "IPY_MODEL_c7212059f0ff40beb98a06b442b96958",
            "value": 4918
          }
        }
      }
    }
  },
  "nbformat": 4,
  "nbformat_minor": 0
}
