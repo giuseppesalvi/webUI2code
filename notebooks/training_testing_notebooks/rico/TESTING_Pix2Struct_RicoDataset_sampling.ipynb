{
  "nbformat": 4,
  "nbformat_minor": 0,
  "metadata": {
    "colab": {
      "provenance": [],
      "machine_shape": "hm",
      "gpuType": "V100"
    },
    "kernelspec": {
      "name": "python3",
      "display_name": "Python 3"
    },
    "language_info": {
      "name": "python"
    },
    "accelerator": "GPU",
    "widgets": {
      "application/vnd.jupyter.widget-state+json": {
        "fd4fad4d9dae46dca81e2620194bcfaa": {
          "model_module": "@jupyter-widgets/controls",
          "model_name": "HBoxModel",
          "model_module_version": "1.5.0",
          "state": {
            "_dom_classes": [],
            "_model_module": "@jupyter-widgets/controls",
            "_model_module_version": "1.5.0",
            "_model_name": "HBoxModel",
            "_view_count": null,
            "_view_module": "@jupyter-widgets/controls",
            "_view_module_version": "1.5.0",
            "_view_name": "HBoxView",
            "box_style": "",
            "children": [
              "IPY_MODEL_e0a38a72b5644242bb940998ebc7271d",
              "IPY_MODEL_fbaa550f3b0745dd8f7968b179294cb4",
              "IPY_MODEL_f5e0464306cf4845b35cc92317c36a93"
            ],
            "layout": "IPY_MODEL_347dba07d162475baedad741d84b621f"
          }
        },
        "e0a38a72b5644242bb940998ebc7271d": {
          "model_module": "@jupyter-widgets/controls",
          "model_name": "HTMLModel",
          "model_module_version": "1.5.0",
          "state": {
            "_dom_classes": [],
            "_model_module": "@jupyter-widgets/controls",
            "_model_module_version": "1.5.0",
            "_model_name": "HTMLModel",
            "_view_count": null,
            "_view_module": "@jupyter-widgets/controls",
            "_view_module_version": "1.5.0",
            "_view_name": "HTMLView",
            "description": "",
            "description_tooltip": null,
            "layout": "IPY_MODEL_81a0ee8cdb6b4a3c90dedfac68aea87d",
            "placeholder": "​",
            "style": "IPY_MODEL_3ee2752e484f46df8654a1fe61a303b5",
            "value": "(…)se/resolve/main/preprocessor_config.json: 100%"
          }
        },
        "fbaa550f3b0745dd8f7968b179294cb4": {
          "model_module": "@jupyter-widgets/controls",
          "model_name": "FloatProgressModel",
          "model_module_version": "1.5.0",
          "state": {
            "_dom_classes": [],
            "_model_module": "@jupyter-widgets/controls",
            "_model_module_version": "1.5.0",
            "_model_name": "FloatProgressModel",
            "_view_count": null,
            "_view_module": "@jupyter-widgets/controls",
            "_view_module_version": "1.5.0",
            "_view_name": "ProgressView",
            "bar_style": "success",
            "description": "",
            "description_tooltip": null,
            "layout": "IPY_MODEL_d325297222cd494da7ff5c9224c04c5c",
            "max": 231,
            "min": 0,
            "orientation": "horizontal",
            "style": "IPY_MODEL_5941875bed654bc5b09d82b083fb2b2b",
            "value": 231
          }
        },
        "f5e0464306cf4845b35cc92317c36a93": {
          "model_module": "@jupyter-widgets/controls",
          "model_name": "HTMLModel",
          "model_module_version": "1.5.0",
          "state": {
            "_dom_classes": [],
            "_model_module": "@jupyter-widgets/controls",
            "_model_module_version": "1.5.0",
            "_model_name": "HTMLModel",
            "_view_count": null,
            "_view_module": "@jupyter-widgets/controls",
            "_view_module_version": "1.5.0",
            "_view_name": "HTMLView",
            "description": "",
            "description_tooltip": null,
            "layout": "IPY_MODEL_a340572ace3b45bcac55f20bded3277b",
            "placeholder": "​",
            "style": "IPY_MODEL_dbd2cf88019744d1923afc30e4a12136",
            "value": " 231/231 [00:00&lt;00:00, 18.1kB/s]"
          }
        },
        "347dba07d162475baedad741d84b621f": {
          "model_module": "@jupyter-widgets/base",
          "model_name": "LayoutModel",
          "model_module_version": "1.2.0",
          "state": {
            "_model_module": "@jupyter-widgets/base",
            "_model_module_version": "1.2.0",
            "_model_name": "LayoutModel",
            "_view_count": null,
            "_view_module": "@jupyter-widgets/base",
            "_view_module_version": "1.2.0",
            "_view_name": "LayoutView",
            "align_content": null,
            "align_items": null,
            "align_self": null,
            "border": null,
            "bottom": null,
            "display": null,
            "flex": null,
            "flex_flow": null,
            "grid_area": null,
            "grid_auto_columns": null,
            "grid_auto_flow": null,
            "grid_auto_rows": null,
            "grid_column": null,
            "grid_gap": null,
            "grid_row": null,
            "grid_template_areas": null,
            "grid_template_columns": null,
            "grid_template_rows": null,
            "height": null,
            "justify_content": null,
            "justify_items": null,
            "left": null,
            "margin": null,
            "max_height": null,
            "max_width": null,
            "min_height": null,
            "min_width": null,
            "object_fit": null,
            "object_position": null,
            "order": null,
            "overflow": null,
            "overflow_x": null,
            "overflow_y": null,
            "padding": null,
            "right": null,
            "top": null,
            "visibility": null,
            "width": null
          }
        },
        "81a0ee8cdb6b4a3c90dedfac68aea87d": {
          "model_module": "@jupyter-widgets/base",
          "model_name": "LayoutModel",
          "model_module_version": "1.2.0",
          "state": {
            "_model_module": "@jupyter-widgets/base",
            "_model_module_version": "1.2.0",
            "_model_name": "LayoutModel",
            "_view_count": null,
            "_view_module": "@jupyter-widgets/base",
            "_view_module_version": "1.2.0",
            "_view_name": "LayoutView",
            "align_content": null,
            "align_items": null,
            "align_self": null,
            "border": null,
            "bottom": null,
            "display": null,
            "flex": null,
            "flex_flow": null,
            "grid_area": null,
            "grid_auto_columns": null,
            "grid_auto_flow": null,
            "grid_auto_rows": null,
            "grid_column": null,
            "grid_gap": null,
            "grid_row": null,
            "grid_template_areas": null,
            "grid_template_columns": null,
            "grid_template_rows": null,
            "height": null,
            "justify_content": null,
            "justify_items": null,
            "left": null,
            "margin": null,
            "max_height": null,
            "max_width": null,
            "min_height": null,
            "min_width": null,
            "object_fit": null,
            "object_position": null,
            "order": null,
            "overflow": null,
            "overflow_x": null,
            "overflow_y": null,
            "padding": null,
            "right": null,
            "top": null,
            "visibility": null,
            "width": null
          }
        },
        "3ee2752e484f46df8654a1fe61a303b5": {
          "model_module": "@jupyter-widgets/controls",
          "model_name": "DescriptionStyleModel",
          "model_module_version": "1.5.0",
          "state": {
            "_model_module": "@jupyter-widgets/controls",
            "_model_module_version": "1.5.0",
            "_model_name": "DescriptionStyleModel",
            "_view_count": null,
            "_view_module": "@jupyter-widgets/base",
            "_view_module_version": "1.2.0",
            "_view_name": "StyleView",
            "description_width": ""
          }
        },
        "d325297222cd494da7ff5c9224c04c5c": {
          "model_module": "@jupyter-widgets/base",
          "model_name": "LayoutModel",
          "model_module_version": "1.2.0",
          "state": {
            "_model_module": "@jupyter-widgets/base",
            "_model_module_version": "1.2.0",
            "_model_name": "LayoutModel",
            "_view_count": null,
            "_view_module": "@jupyter-widgets/base",
            "_view_module_version": "1.2.0",
            "_view_name": "LayoutView",
            "align_content": null,
            "align_items": null,
            "align_self": null,
            "border": null,
            "bottom": null,
            "display": null,
            "flex": null,
            "flex_flow": null,
            "grid_area": null,
            "grid_auto_columns": null,
            "grid_auto_flow": null,
            "grid_auto_rows": null,
            "grid_column": null,
            "grid_gap": null,
            "grid_row": null,
            "grid_template_areas": null,
            "grid_template_columns": null,
            "grid_template_rows": null,
            "height": null,
            "justify_content": null,
            "justify_items": null,
            "left": null,
            "margin": null,
            "max_height": null,
            "max_width": null,
            "min_height": null,
            "min_width": null,
            "object_fit": null,
            "object_position": null,
            "order": null,
            "overflow": null,
            "overflow_x": null,
            "overflow_y": null,
            "padding": null,
            "right": null,
            "top": null,
            "visibility": null,
            "width": null
          }
        },
        "5941875bed654bc5b09d82b083fb2b2b": {
          "model_module": "@jupyter-widgets/controls",
          "model_name": "ProgressStyleModel",
          "model_module_version": "1.5.0",
          "state": {
            "_model_module": "@jupyter-widgets/controls",
            "_model_module_version": "1.5.0",
            "_model_name": "ProgressStyleModel",
            "_view_count": null,
            "_view_module": "@jupyter-widgets/base",
            "_view_module_version": "1.2.0",
            "_view_name": "StyleView",
            "bar_color": null,
            "description_width": ""
          }
        },
        "a340572ace3b45bcac55f20bded3277b": {
          "model_module": "@jupyter-widgets/base",
          "model_name": "LayoutModel",
          "model_module_version": "1.2.0",
          "state": {
            "_model_module": "@jupyter-widgets/base",
            "_model_module_version": "1.2.0",
            "_model_name": "LayoutModel",
            "_view_count": null,
            "_view_module": "@jupyter-widgets/base",
            "_view_module_version": "1.2.0",
            "_view_name": "LayoutView",
            "align_content": null,
            "align_items": null,
            "align_self": null,
            "border": null,
            "bottom": null,
            "display": null,
            "flex": null,
            "flex_flow": null,
            "grid_area": null,
            "grid_auto_columns": null,
            "grid_auto_flow": null,
            "grid_auto_rows": null,
            "grid_column": null,
            "grid_gap": null,
            "grid_row": null,
            "grid_template_areas": null,
            "grid_template_columns": null,
            "grid_template_rows": null,
            "height": null,
            "justify_content": null,
            "justify_items": null,
            "left": null,
            "margin": null,
            "max_height": null,
            "max_width": null,
            "min_height": null,
            "min_width": null,
            "object_fit": null,
            "object_position": null,
            "order": null,
            "overflow": null,
            "overflow_x": null,
            "overflow_y": null,
            "padding": null,
            "right": null,
            "top": null,
            "visibility": null,
            "width": null
          }
        },
        "dbd2cf88019744d1923afc30e4a12136": {
          "model_module": "@jupyter-widgets/controls",
          "model_name": "DescriptionStyleModel",
          "model_module_version": "1.5.0",
          "state": {
            "_model_module": "@jupyter-widgets/controls",
            "_model_module_version": "1.5.0",
            "_model_name": "DescriptionStyleModel",
            "_view_count": null,
            "_view_module": "@jupyter-widgets/base",
            "_view_module_version": "1.2.0",
            "_view_name": "StyleView",
            "description_width": ""
          }
        },
        "e119de825db3411ca0b706888d929399": {
          "model_module": "@jupyter-widgets/controls",
          "model_name": "HBoxModel",
          "model_module_version": "1.5.0",
          "state": {
            "_dom_classes": [],
            "_model_module": "@jupyter-widgets/controls",
            "_model_module_version": "1.5.0",
            "_model_name": "HBoxModel",
            "_view_count": null,
            "_view_module": "@jupyter-widgets/controls",
            "_view_module_version": "1.5.0",
            "_view_name": "HBoxView",
            "box_style": "",
            "children": [
              "IPY_MODEL_7370281185a14557a893f28b6271668b",
              "IPY_MODEL_e406109892aa4ac0a080f18136974946",
              "IPY_MODEL_82821ee046d4464ca39f4c3247203c8e"
            ],
            "layout": "IPY_MODEL_193556c70632460490dc39013f679af0"
          }
        },
        "7370281185a14557a893f28b6271668b": {
          "model_module": "@jupyter-widgets/controls",
          "model_name": "HTMLModel",
          "model_module_version": "1.5.0",
          "state": {
            "_dom_classes": [],
            "_model_module": "@jupyter-widgets/controls",
            "_model_module_version": "1.5.0",
            "_model_name": "HTMLModel",
            "_view_count": null,
            "_view_module": "@jupyter-widgets/controls",
            "_view_module_version": "1.5.0",
            "_view_name": "HTMLView",
            "description": "",
            "description_tooltip": null,
            "layout": "IPY_MODEL_7c0ade9e32e7444bb2da24cd49f016db",
            "placeholder": "​",
            "style": "IPY_MODEL_c0cc15880db644599e4a9625520a1f8f",
            "value": "(…)-base/resolve/main/tokenizer_config.json: 100%"
          }
        },
        "e406109892aa4ac0a080f18136974946": {
          "model_module": "@jupyter-widgets/controls",
          "model_name": "FloatProgressModel",
          "model_module_version": "1.5.0",
          "state": {
            "_dom_classes": [],
            "_model_module": "@jupyter-widgets/controls",
            "_model_module_version": "1.5.0",
            "_model_name": "FloatProgressModel",
            "_view_count": null,
            "_view_module": "@jupyter-widgets/controls",
            "_view_module_version": "1.5.0",
            "_view_name": "ProgressView",
            "bar_style": "success",
            "description": "",
            "description_tooltip": null,
            "layout": "IPY_MODEL_e0ffb17ba3f349adaf22eab21cdf25bb",
            "max": 2613,
            "min": 0,
            "orientation": "horizontal",
            "style": "IPY_MODEL_88bb3367e77c45cd8cb3346ca44c20d0",
            "value": 2613
          }
        },
        "82821ee046d4464ca39f4c3247203c8e": {
          "model_module": "@jupyter-widgets/controls",
          "model_name": "HTMLModel",
          "model_module_version": "1.5.0",
          "state": {
            "_dom_classes": [],
            "_model_module": "@jupyter-widgets/controls",
            "_model_module_version": "1.5.0",
            "_model_name": "HTMLModel",
            "_view_count": null,
            "_view_module": "@jupyter-widgets/controls",
            "_view_module_version": "1.5.0",
            "_view_name": "HTMLView",
            "description": "",
            "description_tooltip": null,
            "layout": "IPY_MODEL_fea48e7ca46348acb37f1db9baa00bbe",
            "placeholder": "​",
            "style": "IPY_MODEL_ed80a0dcdc5b42989988e7d7caeac15d",
            "value": " 2.61k/2.61k [00:00&lt;00:00, 200kB/s]"
          }
        },
        "193556c70632460490dc39013f679af0": {
          "model_module": "@jupyter-widgets/base",
          "model_name": "LayoutModel",
          "model_module_version": "1.2.0",
          "state": {
            "_model_module": "@jupyter-widgets/base",
            "_model_module_version": "1.2.0",
            "_model_name": "LayoutModel",
            "_view_count": null,
            "_view_module": "@jupyter-widgets/base",
            "_view_module_version": "1.2.0",
            "_view_name": "LayoutView",
            "align_content": null,
            "align_items": null,
            "align_self": null,
            "border": null,
            "bottom": null,
            "display": null,
            "flex": null,
            "flex_flow": null,
            "grid_area": null,
            "grid_auto_columns": null,
            "grid_auto_flow": null,
            "grid_auto_rows": null,
            "grid_column": null,
            "grid_gap": null,
            "grid_row": null,
            "grid_template_areas": null,
            "grid_template_columns": null,
            "grid_template_rows": null,
            "height": null,
            "justify_content": null,
            "justify_items": null,
            "left": null,
            "margin": null,
            "max_height": null,
            "max_width": null,
            "min_height": null,
            "min_width": null,
            "object_fit": null,
            "object_position": null,
            "order": null,
            "overflow": null,
            "overflow_x": null,
            "overflow_y": null,
            "padding": null,
            "right": null,
            "top": null,
            "visibility": null,
            "width": null
          }
        },
        "7c0ade9e32e7444bb2da24cd49f016db": {
          "model_module": "@jupyter-widgets/base",
          "model_name": "LayoutModel",
          "model_module_version": "1.2.0",
          "state": {
            "_model_module": "@jupyter-widgets/base",
            "_model_module_version": "1.2.0",
            "_model_name": "LayoutModel",
            "_view_count": null,
            "_view_module": "@jupyter-widgets/base",
            "_view_module_version": "1.2.0",
            "_view_name": "LayoutView",
            "align_content": null,
            "align_items": null,
            "align_self": null,
            "border": null,
            "bottom": null,
            "display": null,
            "flex": null,
            "flex_flow": null,
            "grid_area": null,
            "grid_auto_columns": null,
            "grid_auto_flow": null,
            "grid_auto_rows": null,
            "grid_column": null,
            "grid_gap": null,
            "grid_row": null,
            "grid_template_areas": null,
            "grid_template_columns": null,
            "grid_template_rows": null,
            "height": null,
            "justify_content": null,
            "justify_items": null,
            "left": null,
            "margin": null,
            "max_height": null,
            "max_width": null,
            "min_height": null,
            "min_width": null,
            "object_fit": null,
            "object_position": null,
            "order": null,
            "overflow": null,
            "overflow_x": null,
            "overflow_y": null,
            "padding": null,
            "right": null,
            "top": null,
            "visibility": null,
            "width": null
          }
        },
        "c0cc15880db644599e4a9625520a1f8f": {
          "model_module": "@jupyter-widgets/controls",
          "model_name": "DescriptionStyleModel",
          "model_module_version": "1.5.0",
          "state": {
            "_model_module": "@jupyter-widgets/controls",
            "_model_module_version": "1.5.0",
            "_model_name": "DescriptionStyleModel",
            "_view_count": null,
            "_view_module": "@jupyter-widgets/base",
            "_view_module_version": "1.2.0",
            "_view_name": "StyleView",
            "description_width": ""
          }
        },
        "e0ffb17ba3f349adaf22eab21cdf25bb": {
          "model_module": "@jupyter-widgets/base",
          "model_name": "LayoutModel",
          "model_module_version": "1.2.0",
          "state": {
            "_model_module": "@jupyter-widgets/base",
            "_model_module_version": "1.2.0",
            "_model_name": "LayoutModel",
            "_view_count": null,
            "_view_module": "@jupyter-widgets/base",
            "_view_module_version": "1.2.0",
            "_view_name": "LayoutView",
            "align_content": null,
            "align_items": null,
            "align_self": null,
            "border": null,
            "bottom": null,
            "display": null,
            "flex": null,
            "flex_flow": null,
            "grid_area": null,
            "grid_auto_columns": null,
            "grid_auto_flow": null,
            "grid_auto_rows": null,
            "grid_column": null,
            "grid_gap": null,
            "grid_row": null,
            "grid_template_areas": null,
            "grid_template_columns": null,
            "grid_template_rows": null,
            "height": null,
            "justify_content": null,
            "justify_items": null,
            "left": null,
            "margin": null,
            "max_height": null,
            "max_width": null,
            "min_height": null,
            "min_width": null,
            "object_fit": null,
            "object_position": null,
            "order": null,
            "overflow": null,
            "overflow_x": null,
            "overflow_y": null,
            "padding": null,
            "right": null,
            "top": null,
            "visibility": null,
            "width": null
          }
        },
        "88bb3367e77c45cd8cb3346ca44c20d0": {
          "model_module": "@jupyter-widgets/controls",
          "model_name": "ProgressStyleModel",
          "model_module_version": "1.5.0",
          "state": {
            "_model_module": "@jupyter-widgets/controls",
            "_model_module_version": "1.5.0",
            "_model_name": "ProgressStyleModel",
            "_view_count": null,
            "_view_module": "@jupyter-widgets/base",
            "_view_module_version": "1.2.0",
            "_view_name": "StyleView",
            "bar_color": null,
            "description_width": ""
          }
        },
        "fea48e7ca46348acb37f1db9baa00bbe": {
          "model_module": "@jupyter-widgets/base",
          "model_name": "LayoutModel",
          "model_module_version": "1.2.0",
          "state": {
            "_model_module": "@jupyter-widgets/base",
            "_model_module_version": "1.2.0",
            "_model_name": "LayoutModel",
            "_view_count": null,
            "_view_module": "@jupyter-widgets/base",
            "_view_module_version": "1.2.0",
            "_view_name": "LayoutView",
            "align_content": null,
            "align_items": null,
            "align_self": null,
            "border": null,
            "bottom": null,
            "display": null,
            "flex": null,
            "flex_flow": null,
            "grid_area": null,
            "grid_auto_columns": null,
            "grid_auto_flow": null,
            "grid_auto_rows": null,
            "grid_column": null,
            "grid_gap": null,
            "grid_row": null,
            "grid_template_areas": null,
            "grid_template_columns": null,
            "grid_template_rows": null,
            "height": null,
            "justify_content": null,
            "justify_items": null,
            "left": null,
            "margin": null,
            "max_height": null,
            "max_width": null,
            "min_height": null,
            "min_width": null,
            "object_fit": null,
            "object_position": null,
            "order": null,
            "overflow": null,
            "overflow_x": null,
            "overflow_y": null,
            "padding": null,
            "right": null,
            "top": null,
            "visibility": null,
            "width": null
          }
        },
        "ed80a0dcdc5b42989988e7d7caeac15d": {
          "model_module": "@jupyter-widgets/controls",
          "model_name": "DescriptionStyleModel",
          "model_module_version": "1.5.0",
          "state": {
            "_model_module": "@jupyter-widgets/controls",
            "_model_module_version": "1.5.0",
            "_model_name": "DescriptionStyleModel",
            "_view_count": null,
            "_view_module": "@jupyter-widgets/base",
            "_view_module_version": "1.2.0",
            "_view_name": "StyleView",
            "description_width": ""
          }
        },
        "e23b6e9718cc41fbb209149219fe2d9d": {
          "model_module": "@jupyter-widgets/controls",
          "model_name": "HBoxModel",
          "model_module_version": "1.5.0",
          "state": {
            "_dom_classes": [],
            "_model_module": "@jupyter-widgets/controls",
            "_model_module_version": "1.5.0",
            "_model_name": "HBoxModel",
            "_view_count": null,
            "_view_module": "@jupyter-widgets/controls",
            "_view_module_version": "1.5.0",
            "_view_name": "HBoxView",
            "box_style": "",
            "children": [
              "IPY_MODEL_910cac9879494aa6bd4eca2a6e08fb00",
              "IPY_MODEL_6cde73a676db49298faa995d442da65a",
              "IPY_MODEL_6952152cb651458b9b7d879c77b66b78"
            ],
            "layout": "IPY_MODEL_b85ed6bc96da464e858e45f7c99ddd36"
          }
        },
        "910cac9879494aa6bd4eca2a6e08fb00": {
          "model_module": "@jupyter-widgets/controls",
          "model_name": "HTMLModel",
          "model_module_version": "1.5.0",
          "state": {
            "_dom_classes": [],
            "_model_module": "@jupyter-widgets/controls",
            "_model_module_version": "1.5.0",
            "_model_name": "HTMLModel",
            "_view_count": null,
            "_view_module": "@jupyter-widgets/controls",
            "_view_module_version": "1.5.0",
            "_view_name": "HTMLView",
            "description": "",
            "description_tooltip": null,
            "layout": "IPY_MODEL_ceeb47f8d7f64726b8268739e986f687",
            "placeholder": "​",
            "style": "IPY_MODEL_3917b8c548af476c96c34fd7891a6c7f",
            "value": "spiece.model: 100%"
          }
        },
        "6cde73a676db49298faa995d442da65a": {
          "model_module": "@jupyter-widgets/controls",
          "model_name": "FloatProgressModel",
          "model_module_version": "1.5.0",
          "state": {
            "_dom_classes": [],
            "_model_module": "@jupyter-widgets/controls",
            "_model_module_version": "1.5.0",
            "_model_name": "FloatProgressModel",
            "_view_count": null,
            "_view_module": "@jupyter-widgets/controls",
            "_view_module_version": "1.5.0",
            "_view_name": "ProgressView",
            "bar_style": "success",
            "description": "",
            "description_tooltip": null,
            "layout": "IPY_MODEL_70c4bd2d713d496994c5b754f772532c",
            "max": 851388,
            "min": 0,
            "orientation": "horizontal",
            "style": "IPY_MODEL_a16e7677617b40a7857873f98c5e9138",
            "value": 851388
          }
        },
        "6952152cb651458b9b7d879c77b66b78": {
          "model_module": "@jupyter-widgets/controls",
          "model_name": "HTMLModel",
          "model_module_version": "1.5.0",
          "state": {
            "_dom_classes": [],
            "_model_module": "@jupyter-widgets/controls",
            "_model_module_version": "1.5.0",
            "_model_name": "HTMLModel",
            "_view_count": null,
            "_view_module": "@jupyter-widgets/controls",
            "_view_module_version": "1.5.0",
            "_view_name": "HTMLView",
            "description": "",
            "description_tooltip": null,
            "layout": "IPY_MODEL_3adb597d44f14044a81efc8cc75419a5",
            "placeholder": "​",
            "style": "IPY_MODEL_d4b8dbad640f41528830a9a7464f09a1",
            "value": " 851k/851k [00:00&lt;00:00, 14.2MB/s]"
          }
        },
        "b85ed6bc96da464e858e45f7c99ddd36": {
          "model_module": "@jupyter-widgets/base",
          "model_name": "LayoutModel",
          "model_module_version": "1.2.0",
          "state": {
            "_model_module": "@jupyter-widgets/base",
            "_model_module_version": "1.2.0",
            "_model_name": "LayoutModel",
            "_view_count": null,
            "_view_module": "@jupyter-widgets/base",
            "_view_module_version": "1.2.0",
            "_view_name": "LayoutView",
            "align_content": null,
            "align_items": null,
            "align_self": null,
            "border": null,
            "bottom": null,
            "display": null,
            "flex": null,
            "flex_flow": null,
            "grid_area": null,
            "grid_auto_columns": null,
            "grid_auto_flow": null,
            "grid_auto_rows": null,
            "grid_column": null,
            "grid_gap": null,
            "grid_row": null,
            "grid_template_areas": null,
            "grid_template_columns": null,
            "grid_template_rows": null,
            "height": null,
            "justify_content": null,
            "justify_items": null,
            "left": null,
            "margin": null,
            "max_height": null,
            "max_width": null,
            "min_height": null,
            "min_width": null,
            "object_fit": null,
            "object_position": null,
            "order": null,
            "overflow": null,
            "overflow_x": null,
            "overflow_y": null,
            "padding": null,
            "right": null,
            "top": null,
            "visibility": null,
            "width": null
          }
        },
        "ceeb47f8d7f64726b8268739e986f687": {
          "model_module": "@jupyter-widgets/base",
          "model_name": "LayoutModel",
          "model_module_version": "1.2.0",
          "state": {
            "_model_module": "@jupyter-widgets/base",
            "_model_module_version": "1.2.0",
            "_model_name": "LayoutModel",
            "_view_count": null,
            "_view_module": "@jupyter-widgets/base",
            "_view_module_version": "1.2.0",
            "_view_name": "LayoutView",
            "align_content": null,
            "align_items": null,
            "align_self": null,
            "border": null,
            "bottom": null,
            "display": null,
            "flex": null,
            "flex_flow": null,
            "grid_area": null,
            "grid_auto_columns": null,
            "grid_auto_flow": null,
            "grid_auto_rows": null,
            "grid_column": null,
            "grid_gap": null,
            "grid_row": null,
            "grid_template_areas": null,
            "grid_template_columns": null,
            "grid_template_rows": null,
            "height": null,
            "justify_content": null,
            "justify_items": null,
            "left": null,
            "margin": null,
            "max_height": null,
            "max_width": null,
            "min_height": null,
            "min_width": null,
            "object_fit": null,
            "object_position": null,
            "order": null,
            "overflow": null,
            "overflow_x": null,
            "overflow_y": null,
            "padding": null,
            "right": null,
            "top": null,
            "visibility": null,
            "width": null
          }
        },
        "3917b8c548af476c96c34fd7891a6c7f": {
          "model_module": "@jupyter-widgets/controls",
          "model_name": "DescriptionStyleModel",
          "model_module_version": "1.5.0",
          "state": {
            "_model_module": "@jupyter-widgets/controls",
            "_model_module_version": "1.5.0",
            "_model_name": "DescriptionStyleModel",
            "_view_count": null,
            "_view_module": "@jupyter-widgets/base",
            "_view_module_version": "1.2.0",
            "_view_name": "StyleView",
            "description_width": ""
          }
        },
        "70c4bd2d713d496994c5b754f772532c": {
          "model_module": "@jupyter-widgets/base",
          "model_name": "LayoutModel",
          "model_module_version": "1.2.0",
          "state": {
            "_model_module": "@jupyter-widgets/base",
            "_model_module_version": "1.2.0",
            "_model_name": "LayoutModel",
            "_view_count": null,
            "_view_module": "@jupyter-widgets/base",
            "_view_module_version": "1.2.0",
            "_view_name": "LayoutView",
            "align_content": null,
            "align_items": null,
            "align_self": null,
            "border": null,
            "bottom": null,
            "display": null,
            "flex": null,
            "flex_flow": null,
            "grid_area": null,
            "grid_auto_columns": null,
            "grid_auto_flow": null,
            "grid_auto_rows": null,
            "grid_column": null,
            "grid_gap": null,
            "grid_row": null,
            "grid_template_areas": null,
            "grid_template_columns": null,
            "grid_template_rows": null,
            "height": null,
            "justify_content": null,
            "justify_items": null,
            "left": null,
            "margin": null,
            "max_height": null,
            "max_width": null,
            "min_height": null,
            "min_width": null,
            "object_fit": null,
            "object_position": null,
            "order": null,
            "overflow": null,
            "overflow_x": null,
            "overflow_y": null,
            "padding": null,
            "right": null,
            "top": null,
            "visibility": null,
            "width": null
          }
        },
        "a16e7677617b40a7857873f98c5e9138": {
          "model_module": "@jupyter-widgets/controls",
          "model_name": "ProgressStyleModel",
          "model_module_version": "1.5.0",
          "state": {
            "_model_module": "@jupyter-widgets/controls",
            "_model_module_version": "1.5.0",
            "_model_name": "ProgressStyleModel",
            "_view_count": null,
            "_view_module": "@jupyter-widgets/base",
            "_view_module_version": "1.2.0",
            "_view_name": "StyleView",
            "bar_color": null,
            "description_width": ""
          }
        },
        "3adb597d44f14044a81efc8cc75419a5": {
          "model_module": "@jupyter-widgets/base",
          "model_name": "LayoutModel",
          "model_module_version": "1.2.0",
          "state": {
            "_model_module": "@jupyter-widgets/base",
            "_model_module_version": "1.2.0",
            "_model_name": "LayoutModel",
            "_view_count": null,
            "_view_module": "@jupyter-widgets/base",
            "_view_module_version": "1.2.0",
            "_view_name": "LayoutView",
            "align_content": null,
            "align_items": null,
            "align_self": null,
            "border": null,
            "bottom": null,
            "display": null,
            "flex": null,
            "flex_flow": null,
            "grid_area": null,
            "grid_auto_columns": null,
            "grid_auto_flow": null,
            "grid_auto_rows": null,
            "grid_column": null,
            "grid_gap": null,
            "grid_row": null,
            "grid_template_areas": null,
            "grid_template_columns": null,
            "grid_template_rows": null,
            "height": null,
            "justify_content": null,
            "justify_items": null,
            "left": null,
            "margin": null,
            "max_height": null,
            "max_width": null,
            "min_height": null,
            "min_width": null,
            "object_fit": null,
            "object_position": null,
            "order": null,
            "overflow": null,
            "overflow_x": null,
            "overflow_y": null,
            "padding": null,
            "right": null,
            "top": null,
            "visibility": null,
            "width": null
          }
        },
        "d4b8dbad640f41528830a9a7464f09a1": {
          "model_module": "@jupyter-widgets/controls",
          "model_name": "DescriptionStyleModel",
          "model_module_version": "1.5.0",
          "state": {
            "_model_module": "@jupyter-widgets/controls",
            "_model_module_version": "1.5.0",
            "_model_name": "DescriptionStyleModel",
            "_view_count": null,
            "_view_module": "@jupyter-widgets/base",
            "_view_module_version": "1.2.0",
            "_view_name": "StyleView",
            "description_width": ""
          }
        },
        "1daafbb167bd447bbced95a5bb54f842": {
          "model_module": "@jupyter-widgets/controls",
          "model_name": "HBoxModel",
          "model_module_version": "1.5.0",
          "state": {
            "_dom_classes": [],
            "_model_module": "@jupyter-widgets/controls",
            "_model_module_version": "1.5.0",
            "_model_name": "HBoxModel",
            "_view_count": null,
            "_view_module": "@jupyter-widgets/controls",
            "_view_module_version": "1.5.0",
            "_view_name": "HBoxView",
            "box_style": "",
            "children": [
              "IPY_MODEL_6c38fb9cbf704c1bafd6d85e2226ca35",
              "IPY_MODEL_69c2e6e463a24f06a083f5f3c649fc64",
              "IPY_MODEL_1352d2732f154b4e8498e86aa9f32afe"
            ],
            "layout": "IPY_MODEL_ed4d7595cdf04f678be2e7aaf623360f"
          }
        },
        "6c38fb9cbf704c1bafd6d85e2226ca35": {
          "model_module": "@jupyter-widgets/controls",
          "model_name": "HTMLModel",
          "model_module_version": "1.5.0",
          "state": {
            "_dom_classes": [],
            "_model_module": "@jupyter-widgets/controls",
            "_model_module_version": "1.5.0",
            "_model_name": "HTMLModel",
            "_view_count": null,
            "_view_module": "@jupyter-widgets/controls",
            "_view_module_version": "1.5.0",
            "_view_name": "HTMLView",
            "description": "",
            "description_tooltip": null,
            "layout": "IPY_MODEL_16f651e8f0c64ec497334c3f322602ea",
            "placeholder": "​",
            "style": "IPY_MODEL_75030e607859467bb8465dfb945fd00b",
            "value": "(…)2struct-base/resolve/main/tokenizer.json: 100%"
          }
        },
        "69c2e6e463a24f06a083f5f3c649fc64": {
          "model_module": "@jupyter-widgets/controls",
          "model_name": "FloatProgressModel",
          "model_module_version": "1.5.0",
          "state": {
            "_dom_classes": [],
            "_model_module": "@jupyter-widgets/controls",
            "_model_module_version": "1.5.0",
            "_model_name": "FloatProgressModel",
            "_view_count": null,
            "_view_module": "@jupyter-widgets/controls",
            "_view_module_version": "1.5.0",
            "_view_name": "ProgressView",
            "bar_style": "success",
            "description": "",
            "description_tooltip": null,
            "layout": "IPY_MODEL_8f3422104613487bb8ce0d68cdc8edf5",
            "max": 3265159,
            "min": 0,
            "orientation": "horizontal",
            "style": "IPY_MODEL_9aad157eb2a646469f1e2d24284c11a7",
            "value": 3265159
          }
        },
        "1352d2732f154b4e8498e86aa9f32afe": {
          "model_module": "@jupyter-widgets/controls",
          "model_name": "HTMLModel",
          "model_module_version": "1.5.0",
          "state": {
            "_dom_classes": [],
            "_model_module": "@jupyter-widgets/controls",
            "_model_module_version": "1.5.0",
            "_model_name": "HTMLModel",
            "_view_count": null,
            "_view_module": "@jupyter-widgets/controls",
            "_view_module_version": "1.5.0",
            "_view_name": "HTMLView",
            "description": "",
            "description_tooltip": null,
            "layout": "IPY_MODEL_360684cdb2e84ac2824256bce9c398e7",
            "placeholder": "​",
            "style": "IPY_MODEL_55224586d1c04925bc4cc14159a20d3a",
            "value": " 3.27M/3.27M [00:00&lt;00:00, 8.00MB/s]"
          }
        },
        "ed4d7595cdf04f678be2e7aaf623360f": {
          "model_module": "@jupyter-widgets/base",
          "model_name": "LayoutModel",
          "model_module_version": "1.2.0",
          "state": {
            "_model_module": "@jupyter-widgets/base",
            "_model_module_version": "1.2.0",
            "_model_name": "LayoutModel",
            "_view_count": null,
            "_view_module": "@jupyter-widgets/base",
            "_view_module_version": "1.2.0",
            "_view_name": "LayoutView",
            "align_content": null,
            "align_items": null,
            "align_self": null,
            "border": null,
            "bottom": null,
            "display": null,
            "flex": null,
            "flex_flow": null,
            "grid_area": null,
            "grid_auto_columns": null,
            "grid_auto_flow": null,
            "grid_auto_rows": null,
            "grid_column": null,
            "grid_gap": null,
            "grid_row": null,
            "grid_template_areas": null,
            "grid_template_columns": null,
            "grid_template_rows": null,
            "height": null,
            "justify_content": null,
            "justify_items": null,
            "left": null,
            "margin": null,
            "max_height": null,
            "max_width": null,
            "min_height": null,
            "min_width": null,
            "object_fit": null,
            "object_position": null,
            "order": null,
            "overflow": null,
            "overflow_x": null,
            "overflow_y": null,
            "padding": null,
            "right": null,
            "top": null,
            "visibility": null,
            "width": null
          }
        },
        "16f651e8f0c64ec497334c3f322602ea": {
          "model_module": "@jupyter-widgets/base",
          "model_name": "LayoutModel",
          "model_module_version": "1.2.0",
          "state": {
            "_model_module": "@jupyter-widgets/base",
            "_model_module_version": "1.2.0",
            "_model_name": "LayoutModel",
            "_view_count": null,
            "_view_module": "@jupyter-widgets/base",
            "_view_module_version": "1.2.0",
            "_view_name": "LayoutView",
            "align_content": null,
            "align_items": null,
            "align_self": null,
            "border": null,
            "bottom": null,
            "display": null,
            "flex": null,
            "flex_flow": null,
            "grid_area": null,
            "grid_auto_columns": null,
            "grid_auto_flow": null,
            "grid_auto_rows": null,
            "grid_column": null,
            "grid_gap": null,
            "grid_row": null,
            "grid_template_areas": null,
            "grid_template_columns": null,
            "grid_template_rows": null,
            "height": null,
            "justify_content": null,
            "justify_items": null,
            "left": null,
            "margin": null,
            "max_height": null,
            "max_width": null,
            "min_height": null,
            "min_width": null,
            "object_fit": null,
            "object_position": null,
            "order": null,
            "overflow": null,
            "overflow_x": null,
            "overflow_y": null,
            "padding": null,
            "right": null,
            "top": null,
            "visibility": null,
            "width": null
          }
        },
        "75030e607859467bb8465dfb945fd00b": {
          "model_module": "@jupyter-widgets/controls",
          "model_name": "DescriptionStyleModel",
          "model_module_version": "1.5.0",
          "state": {
            "_model_module": "@jupyter-widgets/controls",
            "_model_module_version": "1.5.0",
            "_model_name": "DescriptionStyleModel",
            "_view_count": null,
            "_view_module": "@jupyter-widgets/base",
            "_view_module_version": "1.2.0",
            "_view_name": "StyleView",
            "description_width": ""
          }
        },
        "8f3422104613487bb8ce0d68cdc8edf5": {
          "model_module": "@jupyter-widgets/base",
          "model_name": "LayoutModel",
          "model_module_version": "1.2.0",
          "state": {
            "_model_module": "@jupyter-widgets/base",
            "_model_module_version": "1.2.0",
            "_model_name": "LayoutModel",
            "_view_count": null,
            "_view_module": "@jupyter-widgets/base",
            "_view_module_version": "1.2.0",
            "_view_name": "LayoutView",
            "align_content": null,
            "align_items": null,
            "align_self": null,
            "border": null,
            "bottom": null,
            "display": null,
            "flex": null,
            "flex_flow": null,
            "grid_area": null,
            "grid_auto_columns": null,
            "grid_auto_flow": null,
            "grid_auto_rows": null,
            "grid_column": null,
            "grid_gap": null,
            "grid_row": null,
            "grid_template_areas": null,
            "grid_template_columns": null,
            "grid_template_rows": null,
            "height": null,
            "justify_content": null,
            "justify_items": null,
            "left": null,
            "margin": null,
            "max_height": null,
            "max_width": null,
            "min_height": null,
            "min_width": null,
            "object_fit": null,
            "object_position": null,
            "order": null,
            "overflow": null,
            "overflow_x": null,
            "overflow_y": null,
            "padding": null,
            "right": null,
            "top": null,
            "visibility": null,
            "width": null
          }
        },
        "9aad157eb2a646469f1e2d24284c11a7": {
          "model_module": "@jupyter-widgets/controls",
          "model_name": "ProgressStyleModel",
          "model_module_version": "1.5.0",
          "state": {
            "_model_module": "@jupyter-widgets/controls",
            "_model_module_version": "1.5.0",
            "_model_name": "ProgressStyleModel",
            "_view_count": null,
            "_view_module": "@jupyter-widgets/base",
            "_view_module_version": "1.2.0",
            "_view_name": "StyleView",
            "bar_color": null,
            "description_width": ""
          }
        },
        "360684cdb2e84ac2824256bce9c398e7": {
          "model_module": "@jupyter-widgets/base",
          "model_name": "LayoutModel",
          "model_module_version": "1.2.0",
          "state": {
            "_model_module": "@jupyter-widgets/base",
            "_model_module_version": "1.2.0",
            "_model_name": "LayoutModel",
            "_view_count": null,
            "_view_module": "@jupyter-widgets/base",
            "_view_module_version": "1.2.0",
            "_view_name": "LayoutView",
            "align_content": null,
            "align_items": null,
            "align_self": null,
            "border": null,
            "bottom": null,
            "display": null,
            "flex": null,
            "flex_flow": null,
            "grid_area": null,
            "grid_auto_columns": null,
            "grid_auto_flow": null,
            "grid_auto_rows": null,
            "grid_column": null,
            "grid_gap": null,
            "grid_row": null,
            "grid_template_areas": null,
            "grid_template_columns": null,
            "grid_template_rows": null,
            "height": null,
            "justify_content": null,
            "justify_items": null,
            "left": null,
            "margin": null,
            "max_height": null,
            "max_width": null,
            "min_height": null,
            "min_width": null,
            "object_fit": null,
            "object_position": null,
            "order": null,
            "overflow": null,
            "overflow_x": null,
            "overflow_y": null,
            "padding": null,
            "right": null,
            "top": null,
            "visibility": null,
            "width": null
          }
        },
        "55224586d1c04925bc4cc14159a20d3a": {
          "model_module": "@jupyter-widgets/controls",
          "model_name": "DescriptionStyleModel",
          "model_module_version": "1.5.0",
          "state": {
            "_model_module": "@jupyter-widgets/controls",
            "_model_module_version": "1.5.0",
            "_model_name": "DescriptionStyleModel",
            "_view_count": null,
            "_view_module": "@jupyter-widgets/base",
            "_view_module_version": "1.2.0",
            "_view_name": "StyleView",
            "description_width": ""
          }
        },
        "c69a05a75d5a4627b32b74bbc6ad33b9": {
          "model_module": "@jupyter-widgets/controls",
          "model_name": "HBoxModel",
          "model_module_version": "1.5.0",
          "state": {
            "_dom_classes": [],
            "_model_module": "@jupyter-widgets/controls",
            "_model_module_version": "1.5.0",
            "_model_name": "HBoxModel",
            "_view_count": null,
            "_view_module": "@jupyter-widgets/controls",
            "_view_module_version": "1.5.0",
            "_view_name": "HBoxView",
            "box_style": "",
            "children": [
              "IPY_MODEL_e418bb5d92b445e58975c47a7237f723",
              "IPY_MODEL_b924a773193b47fd9423a15f467eeabb",
              "IPY_MODEL_d4c08012e81a4dc2859edf1a56504ac9"
            ],
            "layout": "IPY_MODEL_ce5c1619ccca450e88663a29bdd471de"
          }
        },
        "e418bb5d92b445e58975c47a7237f723": {
          "model_module": "@jupyter-widgets/controls",
          "model_name": "HTMLModel",
          "model_module_version": "1.5.0",
          "state": {
            "_dom_classes": [],
            "_model_module": "@jupyter-widgets/controls",
            "_model_module_version": "1.5.0",
            "_model_name": "HTMLModel",
            "_view_count": null,
            "_view_module": "@jupyter-widgets/controls",
            "_view_module_version": "1.5.0",
            "_view_name": "HTMLView",
            "description": "",
            "description_tooltip": null,
            "layout": "IPY_MODEL_aa1301a5fd1243979b9ed2c541fe33e6",
            "placeholder": "​",
            "style": "IPY_MODEL_8686ac014cdf4acd90f9fa7128a392c6",
            "value": "(…)ase/resolve/main/special_tokens_map.json: 100%"
          }
        },
        "b924a773193b47fd9423a15f467eeabb": {
          "model_module": "@jupyter-widgets/controls",
          "model_name": "FloatProgressModel",
          "model_module_version": "1.5.0",
          "state": {
            "_dom_classes": [],
            "_model_module": "@jupyter-widgets/controls",
            "_model_module_version": "1.5.0",
            "_model_name": "FloatProgressModel",
            "_view_count": null,
            "_view_module": "@jupyter-widgets/controls",
            "_view_module_version": "1.5.0",
            "_view_name": "ProgressView",
            "bar_style": "success",
            "description": "",
            "description_tooltip": null,
            "layout": "IPY_MODEL_1681a8ee04f84030a6b62c5ecd52b6c8",
            "max": 2201,
            "min": 0,
            "orientation": "horizontal",
            "style": "IPY_MODEL_c26ceb014e6f4186afd2fe1bf38451af",
            "value": 2201
          }
        },
        "d4c08012e81a4dc2859edf1a56504ac9": {
          "model_module": "@jupyter-widgets/controls",
          "model_name": "HTMLModel",
          "model_module_version": "1.5.0",
          "state": {
            "_dom_classes": [],
            "_model_module": "@jupyter-widgets/controls",
            "_model_module_version": "1.5.0",
            "_model_name": "HTMLModel",
            "_view_count": null,
            "_view_module": "@jupyter-widgets/controls",
            "_view_module_version": "1.5.0",
            "_view_name": "HTMLView",
            "description": "",
            "description_tooltip": null,
            "layout": "IPY_MODEL_af90e559c0054a10a67c9864e5c629ec",
            "placeholder": "​",
            "style": "IPY_MODEL_dcc19af9336b4cfe9b5cc26587bba18c",
            "value": " 2.20k/2.20k [00:00&lt;00:00, 186kB/s]"
          }
        },
        "ce5c1619ccca450e88663a29bdd471de": {
          "model_module": "@jupyter-widgets/base",
          "model_name": "LayoutModel",
          "model_module_version": "1.2.0",
          "state": {
            "_model_module": "@jupyter-widgets/base",
            "_model_module_version": "1.2.0",
            "_model_name": "LayoutModel",
            "_view_count": null,
            "_view_module": "@jupyter-widgets/base",
            "_view_module_version": "1.2.0",
            "_view_name": "LayoutView",
            "align_content": null,
            "align_items": null,
            "align_self": null,
            "border": null,
            "bottom": null,
            "display": null,
            "flex": null,
            "flex_flow": null,
            "grid_area": null,
            "grid_auto_columns": null,
            "grid_auto_flow": null,
            "grid_auto_rows": null,
            "grid_column": null,
            "grid_gap": null,
            "grid_row": null,
            "grid_template_areas": null,
            "grid_template_columns": null,
            "grid_template_rows": null,
            "height": null,
            "justify_content": null,
            "justify_items": null,
            "left": null,
            "margin": null,
            "max_height": null,
            "max_width": null,
            "min_height": null,
            "min_width": null,
            "object_fit": null,
            "object_position": null,
            "order": null,
            "overflow": null,
            "overflow_x": null,
            "overflow_y": null,
            "padding": null,
            "right": null,
            "top": null,
            "visibility": null,
            "width": null
          }
        },
        "aa1301a5fd1243979b9ed2c541fe33e6": {
          "model_module": "@jupyter-widgets/base",
          "model_name": "LayoutModel",
          "model_module_version": "1.2.0",
          "state": {
            "_model_module": "@jupyter-widgets/base",
            "_model_module_version": "1.2.0",
            "_model_name": "LayoutModel",
            "_view_count": null,
            "_view_module": "@jupyter-widgets/base",
            "_view_module_version": "1.2.0",
            "_view_name": "LayoutView",
            "align_content": null,
            "align_items": null,
            "align_self": null,
            "border": null,
            "bottom": null,
            "display": null,
            "flex": null,
            "flex_flow": null,
            "grid_area": null,
            "grid_auto_columns": null,
            "grid_auto_flow": null,
            "grid_auto_rows": null,
            "grid_column": null,
            "grid_gap": null,
            "grid_row": null,
            "grid_template_areas": null,
            "grid_template_columns": null,
            "grid_template_rows": null,
            "height": null,
            "justify_content": null,
            "justify_items": null,
            "left": null,
            "margin": null,
            "max_height": null,
            "max_width": null,
            "min_height": null,
            "min_width": null,
            "object_fit": null,
            "object_position": null,
            "order": null,
            "overflow": null,
            "overflow_x": null,
            "overflow_y": null,
            "padding": null,
            "right": null,
            "top": null,
            "visibility": null,
            "width": null
          }
        },
        "8686ac014cdf4acd90f9fa7128a392c6": {
          "model_module": "@jupyter-widgets/controls",
          "model_name": "DescriptionStyleModel",
          "model_module_version": "1.5.0",
          "state": {
            "_model_module": "@jupyter-widgets/controls",
            "_model_module_version": "1.5.0",
            "_model_name": "DescriptionStyleModel",
            "_view_count": null,
            "_view_module": "@jupyter-widgets/base",
            "_view_module_version": "1.2.0",
            "_view_name": "StyleView",
            "description_width": ""
          }
        },
        "1681a8ee04f84030a6b62c5ecd52b6c8": {
          "model_module": "@jupyter-widgets/base",
          "model_name": "LayoutModel",
          "model_module_version": "1.2.0",
          "state": {
            "_model_module": "@jupyter-widgets/base",
            "_model_module_version": "1.2.0",
            "_model_name": "LayoutModel",
            "_view_count": null,
            "_view_module": "@jupyter-widgets/base",
            "_view_module_version": "1.2.0",
            "_view_name": "LayoutView",
            "align_content": null,
            "align_items": null,
            "align_self": null,
            "border": null,
            "bottom": null,
            "display": null,
            "flex": null,
            "flex_flow": null,
            "grid_area": null,
            "grid_auto_columns": null,
            "grid_auto_flow": null,
            "grid_auto_rows": null,
            "grid_column": null,
            "grid_gap": null,
            "grid_row": null,
            "grid_template_areas": null,
            "grid_template_columns": null,
            "grid_template_rows": null,
            "height": null,
            "justify_content": null,
            "justify_items": null,
            "left": null,
            "margin": null,
            "max_height": null,
            "max_width": null,
            "min_height": null,
            "min_width": null,
            "object_fit": null,
            "object_position": null,
            "order": null,
            "overflow": null,
            "overflow_x": null,
            "overflow_y": null,
            "padding": null,
            "right": null,
            "top": null,
            "visibility": null,
            "width": null
          }
        },
        "c26ceb014e6f4186afd2fe1bf38451af": {
          "model_module": "@jupyter-widgets/controls",
          "model_name": "ProgressStyleModel",
          "model_module_version": "1.5.0",
          "state": {
            "_model_module": "@jupyter-widgets/controls",
            "_model_module_version": "1.5.0",
            "_model_name": "ProgressStyleModel",
            "_view_count": null,
            "_view_module": "@jupyter-widgets/base",
            "_view_module_version": "1.2.0",
            "_view_name": "StyleView",
            "bar_color": null,
            "description_width": ""
          }
        },
        "af90e559c0054a10a67c9864e5c629ec": {
          "model_module": "@jupyter-widgets/base",
          "model_name": "LayoutModel",
          "model_module_version": "1.2.0",
          "state": {
            "_model_module": "@jupyter-widgets/base",
            "_model_module_version": "1.2.0",
            "_model_name": "LayoutModel",
            "_view_count": null,
            "_view_module": "@jupyter-widgets/base",
            "_view_module_version": "1.2.0",
            "_view_name": "LayoutView",
            "align_content": null,
            "align_items": null,
            "align_self": null,
            "border": null,
            "bottom": null,
            "display": null,
            "flex": null,
            "flex_flow": null,
            "grid_area": null,
            "grid_auto_columns": null,
            "grid_auto_flow": null,
            "grid_auto_rows": null,
            "grid_column": null,
            "grid_gap": null,
            "grid_row": null,
            "grid_template_areas": null,
            "grid_template_columns": null,
            "grid_template_rows": null,
            "height": null,
            "justify_content": null,
            "justify_items": null,
            "left": null,
            "margin": null,
            "max_height": null,
            "max_width": null,
            "min_height": null,
            "min_width": null,
            "object_fit": null,
            "object_position": null,
            "order": null,
            "overflow": null,
            "overflow_x": null,
            "overflow_y": null,
            "padding": null,
            "right": null,
            "top": null,
            "visibility": null,
            "width": null
          }
        },
        "dcc19af9336b4cfe9b5cc26587bba18c": {
          "model_module": "@jupyter-widgets/controls",
          "model_name": "DescriptionStyleModel",
          "model_module_version": "1.5.0",
          "state": {
            "_model_module": "@jupyter-widgets/controls",
            "_model_module_version": "1.5.0",
            "_model_name": "DescriptionStyleModel",
            "_view_count": null,
            "_view_module": "@jupyter-widgets/base",
            "_view_module_version": "1.2.0",
            "_view_name": "StyleView",
            "description_width": ""
          }
        },
        "5131d0bc4cf143e9860b804258d21bf1": {
          "model_module": "@jupyter-widgets/controls",
          "model_name": "HBoxModel",
          "model_module_version": "1.5.0",
          "state": {
            "_dom_classes": [],
            "_model_module": "@jupyter-widgets/controls",
            "_model_module_version": "1.5.0",
            "_model_name": "HBoxModel",
            "_view_count": null,
            "_view_module": "@jupyter-widgets/controls",
            "_view_module_version": "1.5.0",
            "_view_name": "HBoxView",
            "box_style": "",
            "children": [
              "IPY_MODEL_afa0a8cea272417ebb76d8ea56d47514",
              "IPY_MODEL_5033049bf1d0405496784e37fb6e0394",
              "IPY_MODEL_124710069b3f4dab9be0209073027146"
            ],
            "layout": "IPY_MODEL_2c5abd9c8e0f4242b512fea87326588a"
          }
        },
        "afa0a8cea272417ebb76d8ea56d47514": {
          "model_module": "@jupyter-widgets/controls",
          "model_name": "HTMLModel",
          "model_module_version": "1.5.0",
          "state": {
            "_dom_classes": [],
            "_model_module": "@jupyter-widgets/controls",
            "_model_module_version": "1.5.0",
            "_model_name": "HTMLModel",
            "_view_count": null,
            "_view_module": "@jupyter-widgets/controls",
            "_view_module_version": "1.5.0",
            "_view_name": "HTMLView",
            "description": "",
            "description_tooltip": null,
            "layout": "IPY_MODEL_48a15d9c2f3e46c79d97f7d3af97bd4b",
            "placeholder": "​",
            "style": "IPY_MODEL_8fe0bab5cc2e48688ed1b745ee3e30ad",
            "value": "(…)pix2struct-base/resolve/main/config.json: 100%"
          }
        },
        "5033049bf1d0405496784e37fb6e0394": {
          "model_module": "@jupyter-widgets/controls",
          "model_name": "FloatProgressModel",
          "model_module_version": "1.5.0",
          "state": {
            "_dom_classes": [],
            "_model_module": "@jupyter-widgets/controls",
            "_model_module_version": "1.5.0",
            "_model_name": "FloatProgressModel",
            "_view_count": null,
            "_view_module": "@jupyter-widgets/controls",
            "_view_module_version": "1.5.0",
            "_view_name": "ProgressView",
            "bar_style": "success",
            "description": "",
            "description_tooltip": null,
            "layout": "IPY_MODEL_05fb4f864931401cbb26b25c65a0ffed",
            "max": 4918,
            "min": 0,
            "orientation": "horizontal",
            "style": "IPY_MODEL_2df1c53d67b147f98b9c966e1bc01d76",
            "value": 4918
          }
        },
        "124710069b3f4dab9be0209073027146": {
          "model_module": "@jupyter-widgets/controls",
          "model_name": "HTMLModel",
          "model_module_version": "1.5.0",
          "state": {
            "_dom_classes": [],
            "_model_module": "@jupyter-widgets/controls",
            "_model_module_version": "1.5.0",
            "_model_name": "HTMLModel",
            "_view_count": null,
            "_view_module": "@jupyter-widgets/controls",
            "_view_module_version": "1.5.0",
            "_view_name": "HTMLView",
            "description": "",
            "description_tooltip": null,
            "layout": "IPY_MODEL_662ed1e405024d7f97c44a0777581445",
            "placeholder": "​",
            "style": "IPY_MODEL_00fc2ed8ed1b4c918cb3d351a1c6129e",
            "value": " 4.92k/4.92k [00:00&lt;00:00, 476kB/s]"
          }
        },
        "2c5abd9c8e0f4242b512fea87326588a": {
          "model_module": "@jupyter-widgets/base",
          "model_name": "LayoutModel",
          "model_module_version": "1.2.0",
          "state": {
            "_model_module": "@jupyter-widgets/base",
            "_model_module_version": "1.2.0",
            "_model_name": "LayoutModel",
            "_view_count": null,
            "_view_module": "@jupyter-widgets/base",
            "_view_module_version": "1.2.0",
            "_view_name": "LayoutView",
            "align_content": null,
            "align_items": null,
            "align_self": null,
            "border": null,
            "bottom": null,
            "display": null,
            "flex": null,
            "flex_flow": null,
            "grid_area": null,
            "grid_auto_columns": null,
            "grid_auto_flow": null,
            "grid_auto_rows": null,
            "grid_column": null,
            "grid_gap": null,
            "grid_row": null,
            "grid_template_areas": null,
            "grid_template_columns": null,
            "grid_template_rows": null,
            "height": null,
            "justify_content": null,
            "justify_items": null,
            "left": null,
            "margin": null,
            "max_height": null,
            "max_width": null,
            "min_height": null,
            "min_width": null,
            "object_fit": null,
            "object_position": null,
            "order": null,
            "overflow": null,
            "overflow_x": null,
            "overflow_y": null,
            "padding": null,
            "right": null,
            "top": null,
            "visibility": null,
            "width": null
          }
        },
        "48a15d9c2f3e46c79d97f7d3af97bd4b": {
          "model_module": "@jupyter-widgets/base",
          "model_name": "LayoutModel",
          "model_module_version": "1.2.0",
          "state": {
            "_model_module": "@jupyter-widgets/base",
            "_model_module_version": "1.2.0",
            "_model_name": "LayoutModel",
            "_view_count": null,
            "_view_module": "@jupyter-widgets/base",
            "_view_module_version": "1.2.0",
            "_view_name": "LayoutView",
            "align_content": null,
            "align_items": null,
            "align_self": null,
            "border": null,
            "bottom": null,
            "display": null,
            "flex": null,
            "flex_flow": null,
            "grid_area": null,
            "grid_auto_columns": null,
            "grid_auto_flow": null,
            "grid_auto_rows": null,
            "grid_column": null,
            "grid_gap": null,
            "grid_row": null,
            "grid_template_areas": null,
            "grid_template_columns": null,
            "grid_template_rows": null,
            "height": null,
            "justify_content": null,
            "justify_items": null,
            "left": null,
            "margin": null,
            "max_height": null,
            "max_width": null,
            "min_height": null,
            "min_width": null,
            "object_fit": null,
            "object_position": null,
            "order": null,
            "overflow": null,
            "overflow_x": null,
            "overflow_y": null,
            "padding": null,
            "right": null,
            "top": null,
            "visibility": null,
            "width": null
          }
        },
        "8fe0bab5cc2e48688ed1b745ee3e30ad": {
          "model_module": "@jupyter-widgets/controls",
          "model_name": "DescriptionStyleModel",
          "model_module_version": "1.5.0",
          "state": {
            "_model_module": "@jupyter-widgets/controls",
            "_model_module_version": "1.5.0",
            "_model_name": "DescriptionStyleModel",
            "_view_count": null,
            "_view_module": "@jupyter-widgets/base",
            "_view_module_version": "1.2.0",
            "_view_name": "StyleView",
            "description_width": ""
          }
        },
        "05fb4f864931401cbb26b25c65a0ffed": {
          "model_module": "@jupyter-widgets/base",
          "model_name": "LayoutModel",
          "model_module_version": "1.2.0",
          "state": {
            "_model_module": "@jupyter-widgets/base",
            "_model_module_version": "1.2.0",
            "_model_name": "LayoutModel",
            "_view_count": null,
            "_view_module": "@jupyter-widgets/base",
            "_view_module_version": "1.2.0",
            "_view_name": "LayoutView",
            "align_content": null,
            "align_items": null,
            "align_self": null,
            "border": null,
            "bottom": null,
            "display": null,
            "flex": null,
            "flex_flow": null,
            "grid_area": null,
            "grid_auto_columns": null,
            "grid_auto_flow": null,
            "grid_auto_rows": null,
            "grid_column": null,
            "grid_gap": null,
            "grid_row": null,
            "grid_template_areas": null,
            "grid_template_columns": null,
            "grid_template_rows": null,
            "height": null,
            "justify_content": null,
            "justify_items": null,
            "left": null,
            "margin": null,
            "max_height": null,
            "max_width": null,
            "min_height": null,
            "min_width": null,
            "object_fit": null,
            "object_position": null,
            "order": null,
            "overflow": null,
            "overflow_x": null,
            "overflow_y": null,
            "padding": null,
            "right": null,
            "top": null,
            "visibility": null,
            "width": null
          }
        },
        "2df1c53d67b147f98b9c966e1bc01d76": {
          "model_module": "@jupyter-widgets/controls",
          "model_name": "ProgressStyleModel",
          "model_module_version": "1.5.0",
          "state": {
            "_model_module": "@jupyter-widgets/controls",
            "_model_module_version": "1.5.0",
            "_model_name": "ProgressStyleModel",
            "_view_count": null,
            "_view_module": "@jupyter-widgets/base",
            "_view_module_version": "1.2.0",
            "_view_name": "StyleView",
            "bar_color": null,
            "description_width": ""
          }
        },
        "662ed1e405024d7f97c44a0777581445": {
          "model_module": "@jupyter-widgets/base",
          "model_name": "LayoutModel",
          "model_module_version": "1.2.0",
          "state": {
            "_model_module": "@jupyter-widgets/base",
            "_model_module_version": "1.2.0",
            "_model_name": "LayoutModel",
            "_view_count": null,
            "_view_module": "@jupyter-widgets/base",
            "_view_module_version": "1.2.0",
            "_view_name": "LayoutView",
            "align_content": null,
            "align_items": null,
            "align_self": null,
            "border": null,
            "bottom": null,
            "display": null,
            "flex": null,
            "flex_flow": null,
            "grid_area": null,
            "grid_auto_columns": null,
            "grid_auto_flow": null,
            "grid_auto_rows": null,
            "grid_column": null,
            "grid_gap": null,
            "grid_row": null,
            "grid_template_areas": null,
            "grid_template_columns": null,
            "grid_template_rows": null,
            "height": null,
            "justify_content": null,
            "justify_items": null,
            "left": null,
            "margin": null,
            "max_height": null,
            "max_width": null,
            "min_height": null,
            "min_width": null,
            "object_fit": null,
            "object_position": null,
            "order": null,
            "overflow": null,
            "overflow_x": null,
            "overflow_y": null,
            "padding": null,
            "right": null,
            "top": null,
            "visibility": null,
            "width": null
          }
        },
        "00fc2ed8ed1b4c918cb3d351a1c6129e": {
          "model_module": "@jupyter-widgets/controls",
          "model_name": "DescriptionStyleModel",
          "model_module_version": "1.5.0",
          "state": {
            "_model_module": "@jupyter-widgets/controls",
            "_model_module_version": "1.5.0",
            "_model_name": "DescriptionStyleModel",
            "_view_count": null,
            "_view_module": "@jupyter-widgets/base",
            "_view_module_version": "1.2.0",
            "_view_name": "StyleView",
            "description_width": ""
          }
        },
        "20ffec1ed00241aead647428aba4fc97": {
          "model_module": "@jupyter-widgets/controls",
          "model_name": "HBoxModel",
          "model_module_version": "1.5.0",
          "state": {
            "_dom_classes": [],
            "_model_module": "@jupyter-widgets/controls",
            "_model_module_version": "1.5.0",
            "_model_name": "HBoxModel",
            "_view_count": null,
            "_view_module": "@jupyter-widgets/controls",
            "_view_module_version": "1.5.0",
            "_view_name": "HBoxView",
            "box_style": "",
            "children": [
              "IPY_MODEL_baaf614c42784205ab7ed2bb6a16bac6",
              "IPY_MODEL_53294cd6b3974e3fab2918e28ae5144b",
              "IPY_MODEL_b0d5c731bdbb43e4b79e524adc65a78c"
            ],
            "layout": "IPY_MODEL_6fa89ac7eb144589b5d121fcf23dbef6"
          }
        },
        "baaf614c42784205ab7ed2bb6a16bac6": {
          "model_module": "@jupyter-widgets/controls",
          "model_name": "HTMLModel",
          "model_module_version": "1.5.0",
          "state": {
            "_dom_classes": [],
            "_model_module": "@jupyter-widgets/controls",
            "_model_module_version": "1.5.0",
            "_model_name": "HTMLModel",
            "_view_count": null,
            "_view_module": "@jupyter-widgets/controls",
            "_view_module_version": "1.5.0",
            "_view_name": "HTMLView",
            "description": "",
            "description_tooltip": null,
            "layout": "IPY_MODEL_1b4af0deb904436eb6b3298a82988734",
            "placeholder": "​",
            "style": "IPY_MODEL_9e849fb7b9154451a1cf9536a10a2398",
            "value": "pytorch_model.bin: 100%"
          }
        },
        "53294cd6b3974e3fab2918e28ae5144b": {
          "model_module": "@jupyter-widgets/controls",
          "model_name": "FloatProgressModel",
          "model_module_version": "1.5.0",
          "state": {
            "_dom_classes": [],
            "_model_module": "@jupyter-widgets/controls",
            "_model_module_version": "1.5.0",
            "_model_name": "FloatProgressModel",
            "_view_count": null,
            "_view_module": "@jupyter-widgets/controls",
            "_view_module_version": "1.5.0",
            "_view_name": "ProgressView",
            "bar_style": "success",
            "description": "",
            "description_tooltip": null,
            "layout": "IPY_MODEL_9ba5f3b8c53d47ac9021a368ab8e55a6",
            "max": 1129238081,
            "min": 0,
            "orientation": "horizontal",
            "style": "IPY_MODEL_3bad42455d46405dbfc314fe58a912a6",
            "value": 1129238081
          }
        },
        "b0d5c731bdbb43e4b79e524adc65a78c": {
          "model_module": "@jupyter-widgets/controls",
          "model_name": "HTMLModel",
          "model_module_version": "1.5.0",
          "state": {
            "_dom_classes": [],
            "_model_module": "@jupyter-widgets/controls",
            "_model_module_version": "1.5.0",
            "_model_name": "HTMLModel",
            "_view_count": null,
            "_view_module": "@jupyter-widgets/controls",
            "_view_module_version": "1.5.0",
            "_view_name": "HTMLView",
            "description": "",
            "description_tooltip": null,
            "layout": "IPY_MODEL_8b1cef7d79c1420c921bc5e75b8c9b15",
            "placeholder": "​",
            "style": "IPY_MODEL_5abcf2c564e842aab1675c382f6d850c",
            "value": " 1.13G/1.13G [00:02&lt;00:00, 357MB/s]"
          }
        },
        "6fa89ac7eb144589b5d121fcf23dbef6": {
          "model_module": "@jupyter-widgets/base",
          "model_name": "LayoutModel",
          "model_module_version": "1.2.0",
          "state": {
            "_model_module": "@jupyter-widgets/base",
            "_model_module_version": "1.2.0",
            "_model_name": "LayoutModel",
            "_view_count": null,
            "_view_module": "@jupyter-widgets/base",
            "_view_module_version": "1.2.0",
            "_view_name": "LayoutView",
            "align_content": null,
            "align_items": null,
            "align_self": null,
            "border": null,
            "bottom": null,
            "display": null,
            "flex": null,
            "flex_flow": null,
            "grid_area": null,
            "grid_auto_columns": null,
            "grid_auto_flow": null,
            "grid_auto_rows": null,
            "grid_column": null,
            "grid_gap": null,
            "grid_row": null,
            "grid_template_areas": null,
            "grid_template_columns": null,
            "grid_template_rows": null,
            "height": null,
            "justify_content": null,
            "justify_items": null,
            "left": null,
            "margin": null,
            "max_height": null,
            "max_width": null,
            "min_height": null,
            "min_width": null,
            "object_fit": null,
            "object_position": null,
            "order": null,
            "overflow": null,
            "overflow_x": null,
            "overflow_y": null,
            "padding": null,
            "right": null,
            "top": null,
            "visibility": null,
            "width": null
          }
        },
        "1b4af0deb904436eb6b3298a82988734": {
          "model_module": "@jupyter-widgets/base",
          "model_name": "LayoutModel",
          "model_module_version": "1.2.0",
          "state": {
            "_model_module": "@jupyter-widgets/base",
            "_model_module_version": "1.2.0",
            "_model_name": "LayoutModel",
            "_view_count": null,
            "_view_module": "@jupyter-widgets/base",
            "_view_module_version": "1.2.0",
            "_view_name": "LayoutView",
            "align_content": null,
            "align_items": null,
            "align_self": null,
            "border": null,
            "bottom": null,
            "display": null,
            "flex": null,
            "flex_flow": null,
            "grid_area": null,
            "grid_auto_columns": null,
            "grid_auto_flow": null,
            "grid_auto_rows": null,
            "grid_column": null,
            "grid_gap": null,
            "grid_row": null,
            "grid_template_areas": null,
            "grid_template_columns": null,
            "grid_template_rows": null,
            "height": null,
            "justify_content": null,
            "justify_items": null,
            "left": null,
            "margin": null,
            "max_height": null,
            "max_width": null,
            "min_height": null,
            "min_width": null,
            "object_fit": null,
            "object_position": null,
            "order": null,
            "overflow": null,
            "overflow_x": null,
            "overflow_y": null,
            "padding": null,
            "right": null,
            "top": null,
            "visibility": null,
            "width": null
          }
        },
        "9e849fb7b9154451a1cf9536a10a2398": {
          "model_module": "@jupyter-widgets/controls",
          "model_name": "DescriptionStyleModel",
          "model_module_version": "1.5.0",
          "state": {
            "_model_module": "@jupyter-widgets/controls",
            "_model_module_version": "1.5.0",
            "_model_name": "DescriptionStyleModel",
            "_view_count": null,
            "_view_module": "@jupyter-widgets/base",
            "_view_module_version": "1.2.0",
            "_view_name": "StyleView",
            "description_width": ""
          }
        },
        "9ba5f3b8c53d47ac9021a368ab8e55a6": {
          "model_module": "@jupyter-widgets/base",
          "model_name": "LayoutModel",
          "model_module_version": "1.2.0",
          "state": {
            "_model_module": "@jupyter-widgets/base",
            "_model_module_version": "1.2.0",
            "_model_name": "LayoutModel",
            "_view_count": null,
            "_view_module": "@jupyter-widgets/base",
            "_view_module_version": "1.2.0",
            "_view_name": "LayoutView",
            "align_content": null,
            "align_items": null,
            "align_self": null,
            "border": null,
            "bottom": null,
            "display": null,
            "flex": null,
            "flex_flow": null,
            "grid_area": null,
            "grid_auto_columns": null,
            "grid_auto_flow": null,
            "grid_auto_rows": null,
            "grid_column": null,
            "grid_gap": null,
            "grid_row": null,
            "grid_template_areas": null,
            "grid_template_columns": null,
            "grid_template_rows": null,
            "height": null,
            "justify_content": null,
            "justify_items": null,
            "left": null,
            "margin": null,
            "max_height": null,
            "max_width": null,
            "min_height": null,
            "min_width": null,
            "object_fit": null,
            "object_position": null,
            "order": null,
            "overflow": null,
            "overflow_x": null,
            "overflow_y": null,
            "padding": null,
            "right": null,
            "top": null,
            "visibility": null,
            "width": null
          }
        },
        "3bad42455d46405dbfc314fe58a912a6": {
          "model_module": "@jupyter-widgets/controls",
          "model_name": "ProgressStyleModel",
          "model_module_version": "1.5.0",
          "state": {
            "_model_module": "@jupyter-widgets/controls",
            "_model_module_version": "1.5.0",
            "_model_name": "ProgressStyleModel",
            "_view_count": null,
            "_view_module": "@jupyter-widgets/base",
            "_view_module_version": "1.2.0",
            "_view_name": "StyleView",
            "bar_color": null,
            "description_width": ""
          }
        },
        "8b1cef7d79c1420c921bc5e75b8c9b15": {
          "model_module": "@jupyter-widgets/base",
          "model_name": "LayoutModel",
          "model_module_version": "1.2.0",
          "state": {
            "_model_module": "@jupyter-widgets/base",
            "_model_module_version": "1.2.0",
            "_model_name": "LayoutModel",
            "_view_count": null,
            "_view_module": "@jupyter-widgets/base",
            "_view_module_version": "1.2.0",
            "_view_name": "LayoutView",
            "align_content": null,
            "align_items": null,
            "align_self": null,
            "border": null,
            "bottom": null,
            "display": null,
            "flex": null,
            "flex_flow": null,
            "grid_area": null,
            "grid_auto_columns": null,
            "grid_auto_flow": null,
            "grid_auto_rows": null,
            "grid_column": null,
            "grid_gap": null,
            "grid_row": null,
            "grid_template_areas": null,
            "grid_template_columns": null,
            "grid_template_rows": null,
            "height": null,
            "justify_content": null,
            "justify_items": null,
            "left": null,
            "margin": null,
            "max_height": null,
            "max_width": null,
            "min_height": null,
            "min_width": null,
            "object_fit": null,
            "object_position": null,
            "order": null,
            "overflow": null,
            "overflow_x": null,
            "overflow_y": null,
            "padding": null,
            "right": null,
            "top": null,
            "visibility": null,
            "width": null
          }
        },
        "5abcf2c564e842aab1675c382f6d850c": {
          "model_module": "@jupyter-widgets/controls",
          "model_name": "DescriptionStyleModel",
          "model_module_version": "1.5.0",
          "state": {
            "_model_module": "@jupyter-widgets/controls",
            "_model_module_version": "1.5.0",
            "_model_name": "DescriptionStyleModel",
            "_view_count": null,
            "_view_module": "@jupyter-widgets/base",
            "_view_module_version": "1.2.0",
            "_view_name": "StyleView",
            "description_width": ""
          }
        }
      }
    }
  },
  "cells": [
    {
      "cell_type": "markdown",
      "metadata": {
        "id": "xY4KuZUbq83Q"
      },
      "source": [
        "# Finetune Pix2Struct model on Rico dataset"
      ]
    },
    {
      "cell_type": "markdown",
      "metadata": {
        "id": "jT6iC6BDrB9i"
      },
      "source": [
        "## Setup Envirnoment"
      ]
    },
    {
      "cell_type": "code",
      "execution_count": null,
      "metadata": {
        "id": "jc7bhkoMEtq3",
        "colab": {
          "base_uri": "https://localhost:8080/"
        },
        "outputId": "a0c31d2c-1d01-4ee2-9257-9a5f9aceb911"
      },
      "outputs": [
        {
          "output_type": "stream",
          "name": "stdout",
          "text": [
            "Collecting transformers==4.33.1\n",
            "  Downloading transformers-4.33.1-py3-none-any.whl (7.6 MB)\n",
            "\u001b[2K     \u001b[90m━━━━━━━━━━━━━━━━━━━━━━━━━━━━━━━━━━━━━━━━\u001b[0m \u001b[32m7.6/7.6 MB\u001b[0m \u001b[31m29.5 MB/s\u001b[0m eta \u001b[36m0:00:00\u001b[0m\n",
            "\u001b[?25hRequirement already satisfied: filelock in /usr/local/lib/python3.10/dist-packages (from transformers==4.33.1) (3.12.4)\n",
            "Collecting huggingface-hub<1.0,>=0.15.1 (from transformers==4.33.1)\n",
            "  Downloading huggingface_hub-0.18.0-py3-none-any.whl (301 kB)\n",
            "\u001b[2K     \u001b[90m━━━━━━━━━━━━━━━━━━━━━━━━━━━━━━━━━━━━━━\u001b[0m \u001b[32m302.0/302.0 kB\u001b[0m \u001b[31m30.0 MB/s\u001b[0m eta \u001b[36m0:00:00\u001b[0m\n",
            "\u001b[?25hRequirement already satisfied: numpy>=1.17 in /usr/local/lib/python3.10/dist-packages (from transformers==4.33.1) (1.23.5)\n",
            "Requirement already satisfied: packaging>=20.0 in /usr/local/lib/python3.10/dist-packages (from transformers==4.33.1) (23.2)\n",
            "Requirement already satisfied: pyyaml>=5.1 in /usr/local/lib/python3.10/dist-packages (from transformers==4.33.1) (6.0.1)\n",
            "Requirement already satisfied: regex!=2019.12.17 in /usr/local/lib/python3.10/dist-packages (from transformers==4.33.1) (2023.6.3)\n",
            "Requirement already satisfied: requests in /usr/local/lib/python3.10/dist-packages (from transformers==4.33.1) (2.31.0)\n",
            "Collecting tokenizers!=0.11.3,<0.14,>=0.11.1 (from transformers==4.33.1)\n",
            "  Downloading tokenizers-0.13.3-cp310-cp310-manylinux_2_17_x86_64.manylinux2014_x86_64.whl (7.8 MB)\n",
            "\u001b[2K     \u001b[90m━━━━━━━━━━━━━━━━━━━━━━━━━━━━━━━━━━━━━━━━\u001b[0m \u001b[32m7.8/7.8 MB\u001b[0m \u001b[31m67.8 MB/s\u001b[0m eta \u001b[36m0:00:00\u001b[0m\n",
            "\u001b[?25hCollecting safetensors>=0.3.1 (from transformers==4.33.1)\n",
            "  Downloading safetensors-0.4.0-cp310-cp310-manylinux_2_17_x86_64.manylinux2014_x86_64.whl (1.3 MB)\n",
            "\u001b[2K     \u001b[90m━━━━━━━━━━━━━━━━━━━━━━━━━━━━━━━━━━━━━━━━\u001b[0m \u001b[32m1.3/1.3 MB\u001b[0m \u001b[31m68.0 MB/s\u001b[0m eta \u001b[36m0:00:00\u001b[0m\n",
            "\u001b[?25hRequirement already satisfied: tqdm>=4.27 in /usr/local/lib/python3.10/dist-packages (from transformers==4.33.1) (4.66.1)\n",
            "Requirement already satisfied: fsspec>=2023.5.0 in /usr/local/lib/python3.10/dist-packages (from huggingface-hub<1.0,>=0.15.1->transformers==4.33.1) (2023.6.0)\n",
            "Requirement already satisfied: typing-extensions>=3.7.4.3 in /usr/local/lib/python3.10/dist-packages (from huggingface-hub<1.0,>=0.15.1->transformers==4.33.1) (4.5.0)\n",
            "Requirement already satisfied: charset-normalizer<4,>=2 in /usr/local/lib/python3.10/dist-packages (from requests->transformers==4.33.1) (3.3.0)\n",
            "Requirement already satisfied: idna<4,>=2.5 in /usr/local/lib/python3.10/dist-packages (from requests->transformers==4.33.1) (3.4)\n",
            "Requirement already satisfied: urllib3<3,>=1.21.1 in /usr/local/lib/python3.10/dist-packages (from requests->transformers==4.33.1) (2.0.6)\n",
            "Requirement already satisfied: certifi>=2017.4.17 in /usr/local/lib/python3.10/dist-packages (from requests->transformers==4.33.1) (2023.7.22)\n",
            "Installing collected packages: tokenizers, safetensors, huggingface-hub, transformers\n",
            "Successfully installed huggingface-hub-0.18.0 safetensors-0.4.0 tokenizers-0.13.3 transformers-4.33.1\n"
          ]
        }
      ],
      "source": [
        "!pip install transformers==4.33.1"
      ]
    },
    {
      "cell_type": "markdown",
      "metadata": {
        "id": "pGk1Y2ea-3vS"
      },
      "source": [
        "## Import necessary libraries"
      ]
    },
    {
      "cell_type": "code",
      "execution_count": null,
      "metadata": {
        "id": "9qulzbyd-1GC"
      },
      "outputs": [],
      "source": [
        "from google.colab import drive\n",
        "import os\n",
        "import zipfile\n",
        "from torch.utils.data import Dataset, DataLoader\n",
        "from torchvision import transforms\n",
        "from PIL import Image\n",
        "import re\n",
        "from transformers import Pix2StructForConditionalGeneration, AutoProcessor\n",
        "import torch\n",
        "from torch.nn import functional as F\n",
        "from pathlib import Path\n",
        "from nltk import edit_distance\n",
        "import numpy as np\n",
        "from tqdm import tqdm\n",
        "from nltk.translate.bleu_score import corpus_bleu, sentence_bleu, SmoothingFunction\n",
        "from torch.utils.data import random_split\n",
        "import random\n",
        "import json\n",
        "from transformers import GenerationConfig"
      ]
    },
    {
      "cell_type": "markdown",
      "metadata": {
        "id": "rZ3TJ2yzBAs0"
      },
      "source": [
        "## Define variables and parameters"
      ]
    },
    {
      "cell_type": "code",
      "execution_count": null,
      "metadata": {
        "id": "Rrjr3uhaBDqp"
      },
      "outputs": [],
      "source": [
        "\n",
        "G_DRIVE_FOLDER = '/content/drive/MyDrive/Datasets/'\n",
        "G_DRIVE_FOLDER_CHECKPOINTS = '/content/drive/MyDrive/Checkpoints/'\n",
        "DATASET_NAME = 'unique_uis'\n",
        "DATASET_NAME_UNZIPPED = 'combined'\n",
        "TAR_NAME = DATASET_NAME + '.tar.gz'\n",
        "\n",
        "\n",
        "DESTINATION_FOLDER= '/content/'\n",
        "DATASET_FOLDER = DESTINATION_FOLDER + DATASET_NAME_UNZIPPED + \"/\"\n",
        "\n",
        "\n",
        "EXPERIMENT_NAME = \"Pix2Struct_Rico_Complete_sampling_TEST\"\n",
        "\n",
        "OUTPUT_FOLDER = '/content/drive/MyDrive/Testing_output/rico_sampling'\n",
        "\n",
        "EXPERIMENT_NAME = \"\"\n",
        "\n",
        "MAX_SENTENCE_LEN = 4096\n",
        "\n",
        "CHUNK_LENGTH = 1024\n",
        "CONTEXT_OVERLAP_LENGTH = 256\n",
        "\n",
        "MAX_PATCHES = 1024\n",
        "\n",
        "DEBUG = False\n",
        "VERBOSE = True\n",
        "\n",
        "BATCH_SIZE = 10\n",
        "\n",
        "TRAIN_SET_PERCENTAGE = 0.898\n",
        "VALID_SET_PERCENTAGE = 0.002 # Use 20 samples for validation\n",
        "# TEST_SET_PERCENTAGE is 1 - TRAIN_SET_PERCENTAGE - VALID_SET_PERCENTAGE # Use 1000 for tes\n",
        "\n",
        "RANDOM_SEED = 100\n",
        "\n",
        "LOAD_FROM_CHECKPOINT = True\n",
        "LAST_CHECKPOINT_NAME = \"Pix2Struct_Rico_Complete_epoch[14].pth\""
      ]
    },
    {
      "cell_type": "code",
      "execution_count": null,
      "metadata": {
        "id": "UVN0Pk4IuVYN"
      },
      "outputs": [],
      "source": [
        "DEVICE = torch.device('cuda' if torch.cuda.is_available() else 'cpu')"
      ]
    },
    {
      "cell_type": "code",
      "execution_count": null,
      "metadata": {
        "id": "sKC06Ai1Xhcl",
        "colab": {
          "base_uri": "https://localhost:8080/"
        },
        "outputId": "07cab630-0741-445c-da88-e3fc1923ae02"
      },
      "outputs": [
        {
          "output_type": "stream",
          "name": "stdout",
          "text": [
            "MAX_N_CHUNKS_PER_SENTENCE 5\n"
          ]
        }
      ],
      "source": [
        "MAX_N_CHUNKS_PER_SENTENCE = 1 + (MAX_SENTENCE_LEN - CHUNK_LENGTH) // (CHUNK_LENGTH - CONTEXT_OVERLAP_LENGTH)\n",
        "print(\"MAX_N_CHUNKS_PER_SENTENCE\", MAX_N_CHUNKS_PER_SENTENCE)"
      ]
    },
    {
      "cell_type": "markdown",
      "metadata": {
        "id": "kflo6stPSGhT"
      },
      "source": [
        "\n",
        "## Load Rico Dataset"
      ]
    },
    {
      "cell_type": "markdown",
      "metadata": {
        "id": "tq4WHje5RJ9u"
      },
      "source": [
        "### Mount Google Drive"
      ]
    },
    {
      "cell_type": "code",
      "execution_count": null,
      "metadata": {
        "id": "uGqbLAK6RJ9x",
        "colab": {
          "base_uri": "https://localhost:8080/"
        },
        "outputId": "c2b6c533-8991-4697-de8f-f96bcc0b1e93"
      },
      "outputs": [
        {
          "output_type": "stream",
          "name": "stdout",
          "text": [
            "Mounted at /content/drive\n"
          ]
        }
      ],
      "source": [
        "drive.mount('/content/drive')"
      ]
    },
    {
      "cell_type": "markdown",
      "source": [
        "### Download and unzip Rico Dataset"
      ],
      "metadata": {
        "id": "G60fuKyTlg_b"
      }
    },
    {
      "cell_type": "code",
      "source": [
        "!wget https://storage.googleapis.com/crowdstf-rico-uiuc-4540/rico_dataset_v0.1/unique_uis.tar.gz\n"
      ],
      "metadata": {
        "id": "DHUScLUllf0K",
        "colab": {
          "base_uri": "https://localhost:8080/"
        },
        "outputId": "0e7e37bd-0b97-4a89-b4a0-e07bcf403f0c"
      },
      "execution_count": null,
      "outputs": [
        {
          "output_type": "stream",
          "name": "stdout",
          "text": [
            "--2023-10-11 18:50:43--  https://storage.googleapis.com/crowdstf-rico-uiuc-4540/rico_dataset_v0.1/unique_uis.tar.gz\n",
            "Resolving storage.googleapis.com (storage.googleapis.com)... 74.125.128.207, 74.125.143.207, 173.194.69.207, ...\n",
            "Connecting to storage.googleapis.com (storage.googleapis.com)|74.125.128.207|:443... connected.\n",
            "HTTP request sent, awaiting response... 200 OK\n",
            "Length: 6471262799 (6.0G) [application/x-tar]\n",
            "Saving to: ‘unique_uis.tar.gz’\n",
            "\n",
            "unique_uis.tar.gz   100%[===================>]   6.03G  28.4MB/s    in 3m 27s  \n",
            "\n",
            "2023-10-11 18:54:10 (29.9 MB/s) - ‘unique_uis.tar.gz’ saved [6471262799/6471262799]\n",
            "\n"
          ]
        }
      ]
    },
    {
      "cell_type": "code",
      "source": [
        "!tar -xf unique_uis.tar.gz"
      ],
      "metadata": {
        "id": "TKrJY53sloJA"
      },
      "execution_count": null,
      "outputs": []
    },
    {
      "cell_type": "markdown",
      "metadata": {
        "id": "XIyXwQultNqy"
      },
      "source": [
        "## Load Model and Processor"
      ]
    },
    {
      "cell_type": "code",
      "execution_count": null,
      "metadata": {
        "id": "15QM1CZQtRWr",
        "colab": {
          "base_uri": "https://localhost:8080/",
          "height": 381,
          "referenced_widgets": [
            "fd4fad4d9dae46dca81e2620194bcfaa",
            "e0a38a72b5644242bb940998ebc7271d",
            "fbaa550f3b0745dd8f7968b179294cb4",
            "f5e0464306cf4845b35cc92317c36a93",
            "347dba07d162475baedad741d84b621f",
            "81a0ee8cdb6b4a3c90dedfac68aea87d",
            "3ee2752e484f46df8654a1fe61a303b5",
            "d325297222cd494da7ff5c9224c04c5c",
            "5941875bed654bc5b09d82b083fb2b2b",
            "a340572ace3b45bcac55f20bded3277b",
            "dbd2cf88019744d1923afc30e4a12136",
            "e119de825db3411ca0b706888d929399",
            "7370281185a14557a893f28b6271668b",
            "e406109892aa4ac0a080f18136974946",
            "82821ee046d4464ca39f4c3247203c8e",
            "193556c70632460490dc39013f679af0",
            "7c0ade9e32e7444bb2da24cd49f016db",
            "c0cc15880db644599e4a9625520a1f8f",
            "e0ffb17ba3f349adaf22eab21cdf25bb",
            "88bb3367e77c45cd8cb3346ca44c20d0",
            "fea48e7ca46348acb37f1db9baa00bbe",
            "ed80a0dcdc5b42989988e7d7caeac15d",
            "e23b6e9718cc41fbb209149219fe2d9d",
            "910cac9879494aa6bd4eca2a6e08fb00",
            "6cde73a676db49298faa995d442da65a",
            "6952152cb651458b9b7d879c77b66b78",
            "b85ed6bc96da464e858e45f7c99ddd36",
            "ceeb47f8d7f64726b8268739e986f687",
            "3917b8c548af476c96c34fd7891a6c7f",
            "70c4bd2d713d496994c5b754f772532c",
            "a16e7677617b40a7857873f98c5e9138",
            "3adb597d44f14044a81efc8cc75419a5",
            "d4b8dbad640f41528830a9a7464f09a1",
            "1daafbb167bd447bbced95a5bb54f842",
            "6c38fb9cbf704c1bafd6d85e2226ca35",
            "69c2e6e463a24f06a083f5f3c649fc64",
            "1352d2732f154b4e8498e86aa9f32afe",
            "ed4d7595cdf04f678be2e7aaf623360f",
            "16f651e8f0c64ec497334c3f322602ea",
            "75030e607859467bb8465dfb945fd00b",
            "8f3422104613487bb8ce0d68cdc8edf5",
            "9aad157eb2a646469f1e2d24284c11a7",
            "360684cdb2e84ac2824256bce9c398e7",
            "55224586d1c04925bc4cc14159a20d3a",
            "c69a05a75d5a4627b32b74bbc6ad33b9",
            "e418bb5d92b445e58975c47a7237f723",
            "b924a773193b47fd9423a15f467eeabb",
            "d4c08012e81a4dc2859edf1a56504ac9",
            "ce5c1619ccca450e88663a29bdd471de",
            "aa1301a5fd1243979b9ed2c541fe33e6",
            "8686ac014cdf4acd90f9fa7128a392c6",
            "1681a8ee04f84030a6b62c5ecd52b6c8",
            "c26ceb014e6f4186afd2fe1bf38451af",
            "af90e559c0054a10a67c9864e5c629ec",
            "dcc19af9336b4cfe9b5cc26587bba18c",
            "5131d0bc4cf143e9860b804258d21bf1",
            "afa0a8cea272417ebb76d8ea56d47514",
            "5033049bf1d0405496784e37fb6e0394",
            "124710069b3f4dab9be0209073027146",
            "2c5abd9c8e0f4242b512fea87326588a",
            "48a15d9c2f3e46c79d97f7d3af97bd4b",
            "8fe0bab5cc2e48688ed1b745ee3e30ad",
            "05fb4f864931401cbb26b25c65a0ffed",
            "2df1c53d67b147f98b9c966e1bc01d76",
            "662ed1e405024d7f97c44a0777581445",
            "00fc2ed8ed1b4c918cb3d351a1c6129e",
            "20ffec1ed00241aead647428aba4fc97",
            "baaf614c42784205ab7ed2bb6a16bac6",
            "53294cd6b3974e3fab2918e28ae5144b",
            "b0d5c731bdbb43e4b79e524adc65a78c",
            "6fa89ac7eb144589b5d121fcf23dbef6",
            "1b4af0deb904436eb6b3298a82988734",
            "9e849fb7b9154451a1cf9536a10a2398",
            "9ba5f3b8c53d47ac9021a368ab8e55a6",
            "3bad42455d46405dbfc314fe58a912a6",
            "8b1cef7d79c1420c921bc5e75b8c9b15",
            "5abcf2c564e842aab1675c382f6d850c"
          ]
        },
        "outputId": "3404db7f-6382-4077-fae8-a477bb0bf934"
      },
      "outputs": [
        {
          "output_type": "display_data",
          "data": {
            "text/plain": [
              "(…)se/resolve/main/preprocessor_config.json:   0%|          | 0.00/231 [00:00<?, ?B/s]"
            ],
            "application/vnd.jupyter.widget-view+json": {
              "version_major": 2,
              "version_minor": 0,
              "model_id": "fd4fad4d9dae46dca81e2620194bcfaa"
            }
          },
          "metadata": {}
        },
        {
          "output_type": "display_data",
          "data": {
            "text/plain": [
              "(…)-base/resolve/main/tokenizer_config.json:   0%|          | 0.00/2.61k [00:00<?, ?B/s]"
            ],
            "application/vnd.jupyter.widget-view+json": {
              "version_major": 2,
              "version_minor": 0,
              "model_id": "e119de825db3411ca0b706888d929399"
            }
          },
          "metadata": {}
        },
        {
          "output_type": "display_data",
          "data": {
            "text/plain": [
              "spiece.model:   0%|          | 0.00/851k [00:00<?, ?B/s]"
            ],
            "application/vnd.jupyter.widget-view+json": {
              "version_major": 2,
              "version_minor": 0,
              "model_id": "e23b6e9718cc41fbb209149219fe2d9d"
            }
          },
          "metadata": {}
        },
        {
          "output_type": "display_data",
          "data": {
            "text/plain": [
              "(…)2struct-base/resolve/main/tokenizer.json:   0%|          | 0.00/3.27M [00:00<?, ?B/s]"
            ],
            "application/vnd.jupyter.widget-view+json": {
              "version_major": 2,
              "version_minor": 0,
              "model_id": "1daafbb167bd447bbced95a5bb54f842"
            }
          },
          "metadata": {}
        },
        {
          "output_type": "display_data",
          "data": {
            "text/plain": [
              "(…)ase/resolve/main/special_tokens_map.json:   0%|          | 0.00/2.20k [00:00<?, ?B/s]"
            ],
            "application/vnd.jupyter.widget-view+json": {
              "version_major": 2,
              "version_minor": 0,
              "model_id": "c69a05a75d5a4627b32b74bbc6ad33b9"
            }
          },
          "metadata": {}
        },
        {
          "output_type": "display_data",
          "data": {
            "text/plain": [
              "(…)pix2struct-base/resolve/main/config.json:   0%|          | 0.00/4.92k [00:00<?, ?B/s]"
            ],
            "application/vnd.jupyter.widget-view+json": {
              "version_major": 2,
              "version_minor": 0,
              "model_id": "5131d0bc4cf143e9860b804258d21bf1"
            }
          },
          "metadata": {}
        },
        {
          "output_type": "display_data",
          "data": {
            "text/plain": [
              "pytorch_model.bin:   0%|          | 0.00/1.13G [00:00<?, ?B/s]"
            ],
            "application/vnd.jupyter.widget-view+json": {
              "version_major": 2,
              "version_minor": 0,
              "model_id": "20ffec1ed00241aead647428aba4fc97"
            }
          },
          "metadata": {}
        }
      ],
      "source": [
        "repo_id = \"google/pix2struct-base\"\n",
        "\n",
        "processor = AutoProcessor.from_pretrained(repo_id)\n",
        "model = Pix2StructForConditionalGeneration.from_pretrained(repo_id, is_encoder_decoder=True)"
      ]
    },
    {
      "cell_type": "markdown",
      "metadata": {
        "id": "8vyJVirgV8VN"
      },
      "source": [
        "## Create Dataset class"
      ]
    },
    {
      "cell_type": "markdown",
      "source": [
        "### Download and unzip Rico Dataset"
      ],
      "metadata": {
        "id": "WpRblteTSBJn"
      }
    },
    {
      "cell_type": "code",
      "source": [
        "!wget https://storage.googleapis.com/crowdstf-rico-uiuc-4540/rico_dataset_v0.1/unique_uis.tar.gz\n"
      ],
      "metadata": {
        "id": "zlZw2EwzSBJ1",
        "colab": {
          "base_uri": "https://localhost:8080/"
        },
        "outputId": "a35a09d1-06ca-414b-daa0-44789172c0c4"
      },
      "execution_count": null,
      "outputs": [
        {
          "output_type": "stream",
          "name": "stdout",
          "text": [
            "--2023-10-11 18:56:26--  https://storage.googleapis.com/crowdstf-rico-uiuc-4540/rico_dataset_v0.1/unique_uis.tar.gz\n",
            "Resolving storage.googleapis.com (storage.googleapis.com)... 142.250.145.207, 74.125.128.207, 74.125.143.207, ...\n",
            "Connecting to storage.googleapis.com (storage.googleapis.com)|142.250.145.207|:443... connected.\n",
            "HTTP request sent, awaiting response... 200 OK\n",
            "Length: 6471262799 (6.0G) [application/x-tar]\n",
            "Saving to: ‘unique_uis.tar.gz.1’\n",
            "\n",
            "unique_uis.tar.gz.1 100%[===================>]   6.03G  37.6MB/s    in 2m 49s  \n",
            "\n",
            "2023-10-11 18:59:15 (36.6 MB/s) - ‘unique_uis.tar.gz.1’ saved [6471262799/6471262799]\n",
            "\n"
          ]
        }
      ]
    },
    {
      "cell_type": "code",
      "source": [
        "!tar -xf unique_uis.tar.gz"
      ],
      "metadata": {
        "id": "0E1qHfEOSBJ1"
      },
      "execution_count": null,
      "outputs": []
    },
    {
      "cell_type": "markdown",
      "source": [
        "### Preprocessing function"
      ],
      "metadata": {
        "id": "h7h56n6hSBJ1"
      }
    },
    {
      "cell_type": "code",
      "execution_count": null,
      "metadata": {
        "id": "-lRmldclSBJ1"
      },
      "outputs": [],
      "source": [
        "def extract_structured_class_names(component):\n",
        "    # Extract the class name from the 'class' key\n",
        "    class_name = component.get('class', None)\n",
        "\n",
        "    class_name = \".\".join(class_name.split(\".\")[-2:])\n",
        "\n",
        "    # If the component has children, recursively process them\n",
        "    if 'children' in component and component['children']:\n",
        "        children_str = ' '.join(extract_structured_class_names(child) for child in component['children'] if child)\n",
        "        if class_name:\n",
        "            return f\"{class_name} {{ {children_str} }}\"\n",
        "        else:\n",
        "            return children_str\n",
        "    else:\n",
        "        return class_name if class_name else ''\n",
        "\n",
        "def process_rico_json_file(filename):\n",
        "    with open(filename, 'r') as file:\n",
        "        data = json.load(file)\n",
        "    return extract_structured_class_names(data['activity']['root'])"
      ]
    },
    {
      "cell_type": "markdown",
      "source": [
        "## Load list of files and display some of them"
      ],
      "metadata": {
        "id": "OoMrfVyhqfBv"
      }
    },
    {
      "cell_type": "code",
      "source": [
        "with open(G_DRIVE_FOLDER + 'rico_threshold_2000_classes.txt', 'r') as file:\n",
        "    all_json_paths = [line.strip() for line in file]"
      ],
      "metadata": {
        "id": "9ktPekI5SBJ2"
      },
      "execution_count": null,
      "outputs": []
    },
    {
      "cell_type": "code",
      "source": [
        "len(all_json_paths)"
      ],
      "metadata": {
        "id": "mFg9k3pjSBJ2",
        "colab": {
          "base_uri": "https://localhost:8080/"
        },
        "outputId": "82e7a796-64e1-4376-a4cc-3c605cdae4ec"
      },
      "execution_count": null,
      "outputs": [
        {
          "output_type": "execute_result",
          "data": {
            "text/plain": [
              "12480"
            ]
          },
          "metadata": {},
          "execution_count": 14
        }
      ]
    },
    {
      "cell_type": "code",
      "source": [
        "import matplotlib.pyplot as plt\n",
        "from PIL import Image\n",
        "\n",
        "# Create a new figure\n",
        "fig, axs = plt.subplots(3, 3, figsize=(10, 10))\n",
        "\n",
        "# Iterate through the image paths and plot them\n",
        "for i, json_path in enumerate(all_json_paths[:9]):\n",
        "    img = Image.open(DATASET_FOLDER + json_path.replace(\".json\", \".jpg\"))\n",
        "    axs[i // 3, i % 3].imshow(img)\n",
        "    axs[i // 3, i % 3].axis(\"off\")\n",
        "\n",
        "plt.tight_layout()\n",
        "plt.show()\n"
      ],
      "metadata": {
        "id": "RtW8-mE-qWVM",
        "colab": {
          "base_uri": "https://localhost:8080/",
          "height": 1000
        },
        "outputId": "b8a3360b-17ab-447e-9cd3-80ddc2f2dc58"
      },
      "execution_count": null,
      "outputs": [
        {
          "output_type": "display_data",
          "data": {
            "text/plain": [
              "<Figure size 1000x1000 with 9 Axes>"
            ],
            "image/png": "[encoded data removed]"
          },
          "metadata": {}
        }
      ]
    },
    {
      "cell_type": "code",
      "source": [
        "with open (DATASET_FOLDER + all_json_paths[0], \"r\") as f:\n",
        "  content = f.read()\n",
        "  print(content)"
      ],
      "metadata": {
        "id": "t_5NJT5-qoe7",
        "colab": {
          "base_uri": "https://localhost:8080/"
        },
        "outputId": "e58543d6-7029-4774-ed07-f37eca4382b3"
      },
      "execution_count": null,
      "outputs": [
        {
          "output_type": "stream",
          "name": "stdout",
          "text": [
            "{\n",
            "  \"activity_name\": \"com.fhxserver.forcocpro/com.fhxserver.forcocpro.FHxServerCOC4\", \n",
            "  \"activity\": {\n",
            "    \"root\": {\n",
            "      \"scrollable-horizontal\": false, \n",
            "      \"draw\": true, \n",
            "      \"ancestors\": [\n",
            "        \"android.widget.FrameLayout\", \n",
            "        \"android.view.ViewGroup\", \n",
            "        \"android.view.View\", \n",
            "        \"java.lang.Object\"\n",
            "      ], \n",
            "      \"clickable\": false, \n",
            "      \"pressed\": \"not_pressed\", \n",
            "      \"focusable\": false, \n",
            "      \"long-clickable\": false, \n",
            "      \"enabled\": true, \n",
            "      \"bounds\": [\n",
            "        0, \n",
            "        0, \n",
            "        1440, \n",
            "        2392\n",
            "      ], \n",
            "      \"visibility\": \"visible\", \n",
            "      \"content-desc\": [\n",
            "        null\n",
            "      ], \n",
            "      \"rel-bounds\": [\n",
            "        0, \n",
            "        0, \n",
            "        1440, \n",
            "        2392\n",
            "      ], \n",
            "      \"focused\": false, \n",
            "      \"selected\": false, \n",
            "      \"scrollable-vertical\": false, \n",
            "      \"children\": [\n",
            "        {\n",
            "          \"scrollable-horizontal\": false, \n",
            "          \"draw\": true, \n",
            "          \"ancestors\": [\n",
            "            \"android.view.ViewGroup\", \n",
            "            \"android.view.View\", \n",
            "            \"java.lang.Object\"\n",
            "          ], \n",
            "          \"clickable\": false, \n",
            "          \"pressed\": \"not_pressed\", \n",
            "          \"focusable\": false, \n",
            "          \"long-clickable\": false, \n",
            "          \"enabled\": true, \n",
            "          \"bounds\": [\n",
            "            0, \n",
            "            0, \n",
            "            1440, \n",
            "            2392\n",
            "          ], \n",
            "          \"visibility\": \"visible\", \n",
            "          \"content-desc\": [\n",
            "            null\n",
            "          ], \n",
            "          \"rel-bounds\": [\n",
            "            0, \n",
            "            0, \n",
            "            1440, \n",
            "            2392\n",
            "          ], \n",
            "          \"focused\": false, \n",
            "          \"selected\": false, \n",
            "          \"scrollable-vertical\": false, \n",
            "          \"children\": [\n",
            "            {\n",
            "              \"resource-id\": \"android:id/action_mode_bar_stub\", \n",
            "              \"adapter-view\": false, \n",
            "              \"pointer\": \"27c2ac5\", \n",
            "              \"scrollable-horizontal\": false, \n",
            "              \"ancestors\": [\n",
            "                \"android.view.View\", \n",
            "                \"java.lang.Object\"\n",
            "              ], \n",
            "              \"selected\": false, \n",
            "              \"content-desc\": [\n",
            "                null\n",
            "              ], \n",
            "              \"rel-bounds\": [\n",
            "                0, \n",
            "                0, \n",
            "                0, \n",
            "                0\n",
            "              ], \n",
            "              \"draw\": true, \n",
            "              \"focusable\": false, \n",
            "              \"long-clickable\": false, \n",
            "              \"visibility\": \"gone\", \n",
            "              \"focused\": false, \n",
            "              \"clickable\": false, \n",
            "              \"abs-pos\": true, \n",
            "              \"class\": \"android.view.ViewStub\", \n",
            "              \"visible-to-user\": false, \n",
            "              \"package\": \"android\", \n",
            "              \"enabled\": true, \n",
            "              \"bounds\": [\n",
            "                0, \n",
            "                0, \n",
            "                0, \n",
            "                0\n",
            "              ], \n",
            "              \"pressed\": \"not_pressed\", \n",
            "              \"scrollable-vertical\": false\n",
            "            }, \n",
            "            {\n",
            "              \"resource-id\": \"android:id/content\", \n",
            "              \"adapter-view\": false, \n",
            "              \"pointer\": \"d446c1a\", \n",
            "              \"children\": [\n",
            "                {\n",
            "                  \"scrollable-horizontal\": false, \n",
            "                  \"draw\": true, \n",
            "                  \"ancestors\": [\n",
            "                    \"android.view.ViewGroup\", \n",
            "                    \"android.view.View\", \n",
            "                    \"java.lang.Object\"\n",
            "                  ], \n",
            "                  \"clickable\": false, \n",
            "                  \"pressed\": \"not_pressed\", \n",
            "                  \"focusable\": false, \n",
            "                  \"long-clickable\": false, \n",
            "                  \"enabled\": true, \n",
            "                  \"bounds\": [\n",
            "                    0, \n",
            "                    84, \n",
            "                    1440, \n",
            "                    2392\n",
            "                  ], \n",
            "                  \"visibility\": \"visible\", \n",
            "                  \"content-desc\": [\n",
            "                    null\n",
            "                  ], \n",
            "                  \"rel-bounds\": [\n",
            "                    0, \n",
            "                    0, \n",
            "                    1440, \n",
            "                    2308\n",
            "                  ], \n",
            "                  \"focused\": false, \n",
            "                  \"selected\": false, \n",
            "                  \"scrollable-vertical\": false, \n",
            "                  \"children\": [\n",
            "                    {\n",
            "                      \"scrollable-horizontal\": false, \n",
            "                      \"draw\": true, \n",
            "                      \"ancestors\": [\n",
            "                        \"android.view.ViewGroup\", \n",
            "                        \"android.view.View\", \n",
            "                        \"java.lang.Object\"\n",
            "                      ], \n",
            "                      \"clickable\": false, \n",
            "                      \"pressed\": \"not_pressed\", \n",
            "                      \"focusable\": false, \n",
            "                      \"long-clickable\": false, \n",
            "                      \"enabled\": true, \n",
            "                      \"bounds\": [\n",
            "                        0, \n",
            "                        84, \n",
            "                        1440, \n",
            "                        693\n",
            "                      ], \n",
            "                      \"visibility\": \"visible\", \n",
            "                      \"content-desc\": [\n",
            "                        null\n",
            "                      ], \n",
            "                      \"rel-bounds\": [\n",
            "                        0, \n",
            "                        0, \n",
            "                        1440, \n",
            "                        609\n",
            "                      ], \n",
            "                      \"focused\": false, \n",
            "                      \"selected\": false, \n",
            "                      \"scrollable-vertical\": false, \n",
            "                      \"children\": [\n",
            "                        {\n",
            "                          \"resource-id\": \"com.fhxserver.forcocpro:id/imageView1\", \n",
            "                          \"adapter-view\": false, \n",
            "                          \"pointer\": \"79ae41\", \n",
            "                          \"scrollable-horizontal\": false, \n",
            "                          \"ancestors\": [\n",
            "                            \"android.view.View\", \n",
            "                            \"java.lang.Object\"\n",
            "                          ], \n",
            "                          \"selected\": false, \n",
            "                          \"content-desc\": [\n",
            "                            null\n",
            "                          ], \n",
            "                          \"rel-bounds\": [\n",
            "                            545, \n",
            "                            147, \n",
            "                            895, \n",
            "                            497\n",
            "                          ], \n",
            "                          \"draw\": false, \n",
            "                          \"focusable\": false, \n",
            "                          \"long-clickable\": false, \n",
            "                          \"visibility\": \"visible\", \n",
            "                          \"focused\": false, \n",
            "                          \"clickable\": false, \n",
            "                          \"abs-pos\": true, \n",
            "                          \"class\": \"android.widget.ImageView\", \n",
            "                          \"visible-to-user\": true, \n",
            "                          \"package\": \"com.fhxserver.forcocpro\", \n",
            "                          \"enabled\": true, \n",
            "                          \"bounds\": [\n",
            "                            545, \n",
            "                            231, \n",
            "                            895, \n",
            "                            581\n",
            "                          ], \n",
            "                          \"pressed\": \"not_pressed\", \n",
            "                          \"scrollable-vertical\": false\n",
            "                        }\n",
            "                      ], \n",
            "                      \"adapter-view\": false, \n",
            "                      \"abs-pos\": true, \n",
            "                      \"pointer\": \"a681128\", \n",
            "                      \"class\": \"android.widget.LinearLayout\", \n",
            "                      \"visible-to-user\": true\n",
            "                    }, \n",
            "                    {\n",
            "                      \"scrollable-horizontal\": false, \n",
            "                      \"draw\": true, \n",
            "                      \"ancestors\": [\n",
            "                        \"android.view.ViewGroup\", \n",
            "                        \"android.view.View\", \n",
            "                        \"java.lang.Object\"\n",
            "                      ], \n",
            "                      \"clickable\": false, \n",
            "                      \"pressed\": \"not_pressed\", \n",
            "                      \"focusable\": false, \n",
            "                      \"long-clickable\": false, \n",
            "                      \"enabled\": true, \n",
            "                      \"bounds\": [\n",
            "                        0, \n",
            "                        693, \n",
            "                        1440, \n",
            "                        2217\n",
            "                      ], \n",
            "                      \"visibility\": \"visible\", \n",
            "                      \"content-desc\": [\n",
            "                        null\n",
            "                      ], \n",
            "                      \"rel-bounds\": [\n",
            "                        0, \n",
            "                        609, \n",
            "                        1440, \n",
            "                        2133\n",
            "                      ], \n",
            "                      \"focused\": false, \n",
            "                      \"selected\": false, \n",
            "                      \"scrollable-vertical\": false, \n",
            "                      \"children\": [\n",
            "                        {\n",
            "                          \"text\": \"Get FHX Server:\\nDon\\u2019t waste any time and get started with the FHX server. If you have never thought of using a simulation server, now is the time to try it out. We love helping you will any problems regarding the server.\\nFeel free to ask any question from the comment section below. We will be more than eager to help you answer all your queries.\\n\\nDownload Clash of Clans Fhx Server Simulation is a server that is similar to the original CoC. With FHX server, you can Unlock everything and get Unlimited Free G.E.M.S.\", \n",
            "                          \"resource-id\": \"com.fhxserver.forcocpro:id/textdes4\", \n",
            "                          \"adapter-view\": false, \n",
            "                          \"pointer\": \"fb9a927\", \n",
            "                          \"scrollable-horizontal\": false, \n",
            "                          \"ancestors\": [\n",
            "                            \"android.view.View\", \n",
            "                            \"java.lang.Object\"\n",
            "                          ], \n",
            "                          \"selected\": false, \n",
            "                          \"content-desc\": [\n",
            "                            null\n",
            "                          ], \n",
            "                          \"rel-bounds\": [\n",
            "                            53, \n",
            "                            100, \n",
            "                            1387, \n",
            "                            1423\n",
            "                          ], \n",
            "                          \"draw\": false, \n",
            "                          \"focusable\": true, \n",
            "                          \"long-clickable\": true, \n",
            "                          \"visibility\": \"visible\", \n",
            "                          \"focused\": false, \n",
            "                          \"clickable\": true, \n",
            "                          \"abs-pos\": true, \n",
            "                          \"class\": \"android.widget.TextView\", \n",
            "                          \"visible-to-user\": true, \n",
            "                          \"package\": \"com.fhxserver.forcocpro\", \n",
            "                          \"enabled\": true, \n",
            "                          \"bounds\": [\n",
            "                            53, \n",
            "                            793, \n",
            "                            1387, \n",
            "                            2116\n",
            "                          ], \n",
            "                          \"pressed\": \"not_pressed\", \n",
            "                          \"scrollable-vertical\": true\n",
            "                        }\n",
            "                      ], \n",
            "                      \"adapter-view\": false, \n",
            "                      \"abs-pos\": true, \n",
            "                      \"pointer\": \"e2d2fe6\", \n",
            "                      \"class\": \"android.widget.LinearLayout\", \n",
            "                      \"visible-to-user\": true\n",
            "                    }, \n",
            "                    {\n",
            "                      \"resource-id\": \"com.fhxserver.forcocpro:id/bannerad\", \n",
            "                      \"adapter-view\": false, \n",
            "                      \"pointer\": \"ec117d4\", \n",
            "                      \"children\": [\n",
            "                        {\n",
            "                          \"scrollable-horizontal\": false, \n",
            "                          \"draw\": true, \n",
            "                          \"ancestors\": [\n",
            "                            \"android.view.ViewGroup\", \n",
            "                            \"android.view.View\", \n",
            "                            \"java.lang.Object\"\n",
            "                          ], \n",
            "                          \"clickable\": false, \n",
            "                          \"pressed\": \"not_pressed\", \n",
            "                          \"focusable\": false, \n",
            "                          \"long-clickable\": false, \n",
            "                          \"enabled\": true, \n",
            "                          \"bounds\": [\n",
            "                            0, \n",
            "                            2217, \n",
            "                            1440, \n",
            "                            2392\n",
            "                          ], \n",
            "                          \"visibility\": \"visible\", \n",
            "                          \"content-desc\": [\n",
            "                            null\n",
            "                          ], \n",
            "                          \"rel-bounds\": [\n",
            "                            0, \n",
            "                            0, \n",
            "                            1440, \n",
            "                            175\n",
            "                          ], \n",
            "                          \"focused\": false, \n",
            "                          \"selected\": false, \n",
            "                          \"scrollable-vertical\": false, \n",
            "                          \"children\": [\n",
            "                            {\n",
            "                              \"scrollable-horizontal\": false, \n",
            "                              \"draw\": true, \n",
            "                              \"ancestors\": [\n",
            "                                \"android.widget.ViewSwitcher\", \n",
            "                                \"android.widget.ViewAnimator\", \n",
            "                                \"android.widget.FrameLayout\", \n",
            "                                \"android.view.ViewGroup\", \n",
            "                                \"android.view.View\", \n",
            "                                \"java.lang.Object\"\n",
            "                              ], \n",
            "                              \"clickable\": false, \n",
            "                              \"pressed\": \"not_pressed\", \n",
            "                              \"focusable\": false, \n",
            "                              \"long-clickable\": false, \n",
            "                              \"enabled\": true, \n",
            "                              \"bounds\": [\n",
            "                                0, \n",
            "                                2217, \n",
            "                                1440, \n",
            "                                2392\n",
            "                              ], \n",
            "                              \"visibility\": \"visible\", \n",
            "                              \"content-desc\": [\n",
            "                                null\n",
            "                              ], \n",
            "                              \"rel-bounds\": [\n",
            "                                0, \n",
            "                                0, \n",
            "                                1440, \n",
            "                                175\n",
            "                              ], \n",
            "                              \"focused\": false, \n",
            "                              \"selected\": false, \n",
            "                              \"scrollable-vertical\": false, \n",
            "                              \"children\": [\n",
            "                                {\n",
            "                                  \"scrollable-horizontal\": false, \n",
            "                                  \"draw\": true, \n",
            "                                  \"ancestors\": [\n",
            "                                    \"android.widget.FrameLayout\", \n",
            "                                    \"android.view.ViewGroup\", \n",
            "                                    \"android.view.View\", \n",
            "                                    \"java.lang.Object\"\n",
            "                                  ], \n",
            "                                  \"clickable\": false, \n",
            "                                  \"pressed\": \"not_pressed\", \n",
            "                                  \"focusable\": false, \n",
            "                                  \"long-clickable\": false, \n",
            "                                  \"enabled\": true, \n",
            "                                  \"bounds\": [\n",
            "                                    0, \n",
            "                                    2217, \n",
            "                                    1440, \n",
            "                                    2392\n",
            "                                  ], \n",
            "                                  \"visibility\": \"visible\", \n",
            "                                  \"content-desc\": [\n",
            "                                    null\n",
            "                                  ], \n",
            "                                  \"rel-bounds\": [\n",
            "                                    0, \n",
            "                                    0, \n",
            "                                    1440, \n",
            "                                    175\n",
            "                                  ], \n",
            "                                  \"focused\": false, \n",
            "                                  \"selected\": false, \n",
            "                                  \"scrollable-vertical\": false, \n",
            "                                  \"children\": [\n",
            "                                    {\n",
            "                                      \"scrollable-horizontal\": true, \n",
            "                                      \"draw\": false, \n",
            "                                      \"ancestors\": [\n",
            "                                        \"android.webkit.WebView\", \n",
            "                                        \"android.widget.AbsoluteLayout\", \n",
            "                                        \"android.view.ViewGroup\", \n",
            "                                        \"android.view.View\", \n",
            "                                        \"java.lang.Object\"\n",
            "                                      ], \n",
            "                                      \"clickable\": true, \n",
            "                                      \"pressed\": \"not_pressed\", \n",
            "                                      \"focusable\": true, \n",
            "                                      \"long-clickable\": false, \n",
            "                                      \"enabled\": true, \n",
            "                                      \"bounds\": [\n",
            "                                        0, \n",
            "                                        2217, \n",
            "                                        1440, \n",
            "                                        2392\n",
            "                                      ], \n",
            "                                      \"visibility\": \"visible\", \n",
            "                                      \"content-desc\": [\n",
            "                                        null\n",
            "                                      ], \n",
            "                                      \"rel-bounds\": [\n",
            "                                        0, \n",
            "                                        0, \n",
            "                                        1440, \n",
            "                                        175\n",
            "                                      ], \n",
            "                                      \"focused\": true, \n",
            "                                      \"selected\": false, \n",
            "                                      \"scrollable-vertical\": true, \n",
            "                                      \"adapter-view\": false, \n",
            "                                      \"abs-pos\": true, \n",
            "                                      \"pointer\": \"301dd40\", \n",
            "                                      \"class\": \"com.google.android.gms.ads.internal.webview.o\", \n",
            "                                      \"visible-to-user\": true\n",
            "                                    }\n",
            "                                  ], \n",
            "                                  \"adapter-view\": false, \n",
            "                                  \"abs-pos\": true, \n",
            "                                  \"pointer\": \"58db0c3\", \n",
            "                                  \"class\": \"com.google.android.gms.ads.internal.webview.n\", \n",
            "                                  \"visible-to-user\": true\n",
            "                                }\n",
            "                              ], \n",
            "                              \"adapter-view\": false, \n",
            "                              \"abs-pos\": true, \n",
            "                              \"pointer\": \"58c6472\", \n",
            "                              \"class\": \"com.google.android.gms.ads.internal.bp\", \n",
            "                              \"visible-to-user\": true\n",
            "                            }\n",
            "                          ], \n",
            "                          \"adapter-view\": false, \n",
            "                          \"abs-pos\": true, \n",
            "                          \"pointer\": \"f71ed7d\", \n",
            "                          \"class\": \"com.google.android.gms.ads.AdView\", \n",
            "                          \"visible-to-user\": true\n",
            "                        }\n",
            "                      ], \n",
            "                      \"scrollable-horizontal\": false, \n",
            "                      \"ancestors\": [\n",
            "                        \"android.view.ViewGroup\", \n",
            "                        \"android.view.View\", \n",
            "                        \"java.lang.Object\"\n",
            "                      ], \n",
            "                      \"selected\": false, \n",
            "                      \"content-desc\": [\n",
            "                        null\n",
            "                      ], \n",
            "                      \"rel-bounds\": [\n",
            "                        0, \n",
            "                        2133, \n",
            "                        1440, \n",
            "                        2308\n",
            "                      ], \n",
            "                      \"draw\": true, \n",
            "                      \"focusable\": false, \n",
            "                      \"long-clickable\": false, \n",
            "                      \"visibility\": \"visible\", \n",
            "                      \"focused\": false, \n",
            "                      \"clickable\": false, \n",
            "                      \"abs-pos\": true, \n",
            "                      \"class\": \"android.widget.LinearLayout\", \n",
            "                      \"visible-to-user\": true, \n",
            "                      \"package\": \"com.fhxserver.forcocpro\", \n",
            "                      \"enabled\": true, \n",
            "                      \"bounds\": [\n",
            "                        0, \n",
            "                        2217, \n",
            "                        1440, \n",
            "                        2392\n",
            "                      ], \n",
            "                      \"pressed\": \"not_pressed\", \n",
            "                      \"scrollable-vertical\": false\n",
            "                    }\n",
            "                  ], \n",
            "                  \"adapter-view\": false, \n",
            "                  \"abs-pos\": true, \n",
            "                  \"pointer\": \"52e234b\", \n",
            "                  \"class\": \"android.widget.LinearLayout\", \n",
            "                  \"visible-to-user\": true\n",
            "                }\n",
            "              ], \n",
            "              \"scrollable-horizontal\": false, \n",
            "              \"ancestors\": [\n",
            "                \"android.view.ViewGroup\", \n",
            "                \"android.view.View\", \n",
            "                \"java.lang.Object\"\n",
            "              ], \n",
            "              \"selected\": false, \n",
            "              \"content-desc\": [\n",
            "                null\n",
            "              ], \n",
            "              \"rel-bounds\": [\n",
            "                0, \n",
            "                84, \n",
            "                1440, \n",
            "                2392\n",
            "              ], \n",
            "              \"draw\": true, \n",
            "              \"focusable\": false, \n",
            "              \"long-clickable\": false, \n",
            "              \"visibility\": \"visible\", \n",
            "              \"focused\": false, \n",
            "              \"clickable\": false, \n",
            "              \"abs-pos\": true, \n",
            "              \"class\": \"android.widget.FrameLayout\", \n",
            "              \"visible-to-user\": true, \n",
            "              \"package\": \"android\", \n",
            "              \"enabled\": true, \n",
            "              \"bounds\": [\n",
            "                0, \n",
            "                84, \n",
            "                1440, \n",
            "                2392\n",
            "              ], \n",
            "              \"pressed\": \"not_pressed\", \n",
            "              \"scrollable-vertical\": false\n",
            "            }\n",
            "          ], \n",
            "          \"adapter-view\": false, \n",
            "          \"abs-pos\": true, \n",
            "          \"pointer\": \"1145d3c\", \n",
            "          \"class\": \"android.widget.LinearLayout\", \n",
            "          \"visible-to-user\": true\n",
            "        }\n",
            "      ], \n",
            "      \"adapter-view\": false, \n",
            "      \"abs-pos\": true, \n",
            "      \"pointer\": \"372832f\", \n",
            "      \"class\": \"com.android.internal.policy.PhoneWindow$DecorView\", \n",
            "      \"visible-to-user\": true\n",
            "    }, \n",
            "    \"added_fragments\": [], \n",
            "    \"active_fragments\": []\n",
            "  }, \n",
            "  \"is_keyboard_deployed\": false, \n",
            "  \"request_id\": \"412\"\n",
            "}\n"
          ]
        }
      ]
    },
    {
      "cell_type": "code",
      "source": [
        "print(process_rico_json_file(DATASET_FOLDER + all_json_paths[0]))"
      ],
      "metadata": {
        "id": "O-tpMg75SR4E",
        "colab": {
          "base_uri": "https://localhost:8080/"
        },
        "outputId": "a00c4140-f64f-405b-fdd6-e9135c92ca5c"
      },
      "execution_count": null,
      "outputs": [
        {
          "output_type": "stream",
          "name": "stdout",
          "text": [
            "policy.PhoneWindow$DecorView { widget.LinearLayout { view.ViewStub widget.FrameLayout { widget.LinearLayout { widget.LinearLayout { widget.ImageView } widget.LinearLayout { widget.TextView } widget.LinearLayout { ads.AdView { internal.bp { webview.n { webview.o } } } } } } } }\n"
          ]
        }
      ]
    },
    {
      "cell_type": "markdown",
      "metadata": {
        "id": "Iwk7yeOJSU9g"
      },
      "source": [
        "### Find max sentence length and new unknown tokens, filter files bigger than max sentence len"
      ]
    },
    {
      "cell_type": "code",
      "execution_count": null,
      "metadata": {
        "id": "TG60bsrjSU9w",
        "colab": {
          "base_uri": "https://localhost:8080/"
        },
        "outputId": "7d29a425-7ca7-49a1-d84a-d6f48bd86a09"
      },
      "outputs": [
        {
          "output_type": "stream",
          "name": "stdout",
          "text": [
            "Max sentence length = 2698\n",
            "Number of new tokens = 0\n"
          ]
        }
      ],
      "source": [
        "# Find max length\n",
        "max_length = 0\n",
        "filtered_paths = []\n",
        "\n",
        "# Read text files and add new tokens to dictionary\n",
        "tokens_to_add = set()\n",
        "for json_file_path in all_json_paths:\n",
        "    processed_content = process_rico_json_file(DATASET_FOLDER + json_file_path)\n",
        "    splitted_text = processor.tokenizer(processed_content).tokens()\n",
        "    # Check if the current sentence has the largest number of tokens\n",
        "    if len(splitted_text) > max_length:\n",
        "        max_length = len(splitted_text)\n",
        "\n",
        "    if len(splitted_text) <= MAX_SENTENCE_LEN:\n",
        "        filtered_paths.append(json_file_path.replace(\".json\",\"\"))\n",
        "        tokens_to_add = tokens_to_add.union(set(splitted_text))\n",
        "\n",
        "print(f\"Max sentence length = {max_length}\")\n",
        "\n",
        "newly_added_num = processor.tokenizer.add_tokens(list(tokens_to_add))\n",
        "print(f\"Number of new tokens = {newly_added_num}\")\n",
        "\n",
        "# Resize the model's token embeddings if there are new tokens\n",
        "if newly_added_num > 0:\n",
        "    model.decoder.resize_token_embeddings(len(processor.tokenizer), pad_to_multiple_of=8)"
      ]
    },
    {
      "cell_type": "code",
      "source": [
        "# Keep only the samples with number of tokens lower than Max Sentence Length\n",
        "all_paths = filtered_paths"
      ],
      "metadata": {
        "id": "mxZ58S39noJm"
      },
      "execution_count": null,
      "outputs": []
    },
    {
      "cell_type": "code",
      "source": [
        "print(len(all_paths))"
      ],
      "metadata": {
        "id": "7g2urS11ntt2",
        "colab": {
          "base_uri": "https://localhost:8080/"
        },
        "outputId": "64fbbbab-2684-4309-ab7c-39f8a02c8455"
      },
      "execution_count": null,
      "outputs": [
        {
          "output_type": "stream",
          "name": "stdout",
          "text": [
            "12480\n"
          ]
        }
      ]
    },
    {
      "cell_type": "code",
      "source": [
        "print(all_paths[:5])"
      ],
      "metadata": {
        "id": "j417O0_eo_f9",
        "colab": {
          "base_uri": "https://localhost:8080/"
        },
        "outputId": "ad6d13db-f11c-41fa-c1c9-071282156b02"
      },
      "execution_count": null,
      "outputs": [
        {
          "output_type": "stream",
          "name": "stdout",
          "text": [
            "['57692', '68508', '36027', '34083', '24439']\n"
          ]
        }
      ]
    },
    {
      "cell_type": "markdown",
      "metadata": {
        "id": "SfKTQ5aMPtfN"
      },
      "source": [
        "### Split files into training - validation - test sets"
      ]
    },
    {
      "cell_type": "code",
      "execution_count": null,
      "metadata": {
        "id": "bK9CQSLZFAuA",
        "colab": {
          "base_uri": "https://localhost:8080/"
        },
        "outputId": "44db0495-4389-4533-fd15-c1949d215723"
      },
      "outputs": [
        {
          "output_type": "stream",
          "name": "stdout",
          "text": [
            "TRAIN_SET size = 11207\n",
            "VALID_SET size = 24\n",
            "TEST_SET size = 1249\n"
          ]
        }
      ],
      "source": [
        "random.seed(RANDOM_SEED)\n",
        "\n",
        "# Use the same seed, so that parts remain the same\n",
        "random.shuffle(all_paths)\n",
        "\n",
        "train_len = int(TRAIN_SET_PERCENTAGE * len(all_paths))\n",
        "valid_len = int(VALID_SET_PERCENTAGE * len(all_paths))\n",
        "\n",
        "train_paths = all_paths[:train_len]\n",
        "valid_paths = all_paths[train_len:train_len+valid_len]\n",
        "test_paths = all_paths[train_len+valid_len:]\n",
        "\n",
        "print(f\"TRAIN_SET size = {len(train_paths)}\")\n",
        "print(f\"VALID_SET size = {len(valid_paths)}\")\n",
        "print(f\"TEST_SET size = {len(test_paths)}\")"
      ]
    },
    {
      "cell_type": "code",
      "source": [
        "test_paths = test_paths[:125]\n",
        "print(f\"TEST_SET size = {len(test_paths)}\")"
      ],
      "metadata": {
        "colab": {
          "base_uri": "https://localhost:8080/"
        },
        "id": "zTRj-qE5EDb3",
        "outputId": "c666ad7c-605d-4352-a5c1-2c6825c622bc"
      },
      "execution_count": null,
      "outputs": [
        {
          "output_type": "stream",
          "name": "stdout",
          "text": [
            "TEST_SET size = 125\n"
          ]
        }
      ]
    },
    {
      "cell_type": "code",
      "execution_count": null,
      "metadata": {
        "id": "oMC2-OYYWB75"
      },
      "outputs": [],
      "source": [
        "class RicoDataset(Dataset):\n",
        "    def __init__(self, root_dir, transform, paths):\n",
        "\n",
        "        self.root_dir = root_dir\n",
        "        self.transform = transform\n",
        "        self.paths = paths\n",
        "\n",
        "        self.max_patches = MAX_PATCHES\n",
        "        self.max_length = MAX_SENTENCE_LEN\n",
        "        self.ignore_id = -100\n",
        "\n",
        "        self.encodings = []\n",
        "\n",
        "        for path in tqdm(paths):\n",
        "            # Directly process the text files, and save them in the ram\n",
        "            # Do the same also for images, if there is enough space in memory\n",
        "            text_file_path = os.path.join(root_dir + path + \".json\")\n",
        "            image_file_path = os.path.join(root_dir + path + \".jpg\")\n",
        "\n",
        "            # Load image\n",
        "            image = Image.open(image_file_path).convert('RGB')\n",
        "\n",
        "            if DEBUG:\n",
        "                image.show()\n",
        "\n",
        "            if self.transform:\n",
        "                image = self.transform(image)\n",
        "\n",
        "            encoding = processor(images=image, max_patches=self.max_patches, return_tensors=\"pt\")\n",
        "            encoding = {k:v.squeeze() for k,v in encoding.items()}\n",
        "\n",
        "            # Load text\n",
        "            processed_text_content = process_rico_json_file(text_file_path)\n",
        "\n",
        "            input_ids = processor.tokenizer(\n",
        "                processed_text_content,\n",
        "                max_length=self.max_length,\n",
        "                padding=\"max_length\",\n",
        "                truncation=True,\n",
        "                return_tensors=\"pt\",\n",
        "            ).input_ids\n",
        "\n",
        "            labels = input_ids.squeeze().clone()\n",
        "            labels[labels == processor.tokenizer.pad_token_id] = self.ignore_id  # model doesn't need to predict pad token\n",
        "\n",
        "            encoding[\"labels\"] = labels.to(torch.int32)\n",
        "\n",
        "            # For each sample save directly the encoding of both text and image\n",
        "            self.encodings.append(encoding)\n",
        "\n",
        "    def __len__(self):\n",
        "        return len(self.encodings)\n",
        "\n",
        "    def __getitem__(self, idx):\n",
        "        return self.encodings[idx], self.paths[idx]\n"
      ]
    },
    {
      "cell_type": "code",
      "execution_count": null,
      "metadata": {
        "id": "WulOgKwb1aNh",
        "colab": {
          "base_uri": "https://localhost:8080/"
        },
        "outputId": "1aef1139-81a6-46b9-a134-bfc723e2677d"
      },
      "outputs": [
        {
          "output_type": "stream",
          "name": "stderr",
          "text": [
            "100%|██████████| 125/125 [00:07<00:00, 15.75it/s]\n"
          ]
        }
      ],
      "source": [
        "# Transformations for the image\n",
        "transform = transforms.Compose([\n",
        "    transforms.ToTensor(),  # convert PIL Image to PyTorch Tensor\n",
        "    transforms.Normalize(mean=[0.485, 0.456, 0.406], std=[0.229, 0.224, 0.225]),  # normalize for pretrained models\n",
        "])\n",
        "\n",
        "# Instantiate the CustomDataset\n",
        "test_dataset = RicoDataset(DATASET_FOLDER, transform, test_paths)\n",
        "\n",
        "# Use DataLoader for batching and shuffling\n",
        "test_dataloader = DataLoader(test_dataset, batch_size=BATCH_SIZE, shuffle=False)"
      ]
    },
    {
      "cell_type": "code",
      "execution_count": null,
      "metadata": {
        "id": "RJbcAvt2eSvb",
        "colab": {
          "base_uri": "https://localhost:8080/"
        },
        "outputId": "19ecca61-e6b2-4d82-d4b7-ad2ab65512bf"
      },
      "outputs": [
        {
          "output_type": "stream",
          "name": "stdout",
          "text": [
            "test_dataloader size = 13\n"
          ]
        }
      ],
      "source": [
        "print(f\"test_dataloader size = {len(test_dataloader)}\")"
      ]
    },
    {
      "cell_type": "code",
      "execution_count": null,
      "metadata": {
        "id": "AY0iklFpwju3"
      },
      "outputs": [],
      "source": [
        "batch = next(iter(test_dataloader))"
      ]
    },
    {
      "cell_type": "code",
      "execution_count": null,
      "metadata": {
        "id": "Np5m_Wn9wqXX"
      },
      "outputs": [],
      "source": [
        "encoding, text_file_paths = batch"
      ]
    },
    {
      "cell_type": "code",
      "execution_count": null,
      "metadata": {
        "id": "rBcIM_U1wtXy",
        "colab": {
          "base_uri": "https://localhost:8080/"
        },
        "outputId": "57c493f8-c90c-4488-edd1-857c4c350d52"
      },
      "outputs": [
        {
          "output_type": "stream",
          "name": "stdout",
          "text": [
            "3\n"
          ]
        }
      ],
      "source": [
        "print(len(encoding))"
      ]
    },
    {
      "cell_type": "code",
      "execution_count": null,
      "metadata": {
        "id": "Hw__V87EwvWn",
        "colab": {
          "base_uri": "https://localhost:8080/"
        },
        "outputId": "8464eafe-fc31-4831-dc76-63bf77505745"
      },
      "outputs": [
        {
          "output_type": "stream",
          "name": "stdout",
          "text": [
            "('18495', '7488', '35377', '34837', '42767', '50325', '30800', '54635', '56013', '10096')\n"
          ]
        }
      ],
      "source": [
        "print(text_file_paths)"
      ]
    },
    {
      "cell_type": "markdown",
      "metadata": {
        "id": "TEt-owxM1puj"
      },
      "source": [
        "### Main Testing function"
      ]
    },
    {
      "cell_type": "code",
      "execution_count": null,
      "metadata": {
        "id": "P0SOkRu1n2_S"
      },
      "outputs": [],
      "source": [
        "START_TOKEN_ID = PAD_TOKEN_ID = processor.tokenizer.pad_token_id"
      ]
    },
    {
      "cell_type": "code",
      "execution_count": null,
      "metadata": {
        "id": "Yp4NELlRFaXM"
      },
      "outputs": [],
      "source": [
        "def testing_loop(testing_dataloader, model, processor, config, description, generation_config, do_sample):\n",
        "    if (generation_config):\n",
        "        print(\"using custom generation config in testing loop: \\n\")\n",
        "        print(generation_config)\n",
        "    if (do_sample):\n",
        "        print(\"\\nusing sampling\\n\")\n",
        "\n",
        "    model.eval()\n",
        "    bleu_scores = []\n",
        "    ed_scores = []\n",
        "\n",
        "    with torch.no_grad():\n",
        "        test_loop = tqdm(enumerate(testing_dataloader), total=len(testing_dataloader), desc=description)\n",
        "        for i, batch in test_loop:\n",
        "            encoding, text_file_paths = batch\n",
        "            encoding = move_to_device(encoding)\n",
        "            labels, flattened_patches, attention_mask = encoding[\"labels\"], encoding[\"flattened_patches\"], encoding[\"attention_mask\"]\n",
        "\n",
        "            # Initialize total_outputs with zeros\n",
        "            total_outputs = None\n",
        "            context_from_last = None\n",
        "\n",
        "            # Initialize a mask to track which sentences are finished\n",
        "            finished_sentences_mask = torch.zeros(flattened_patches.size(0), dtype=torch.bool, device=flattened_patches.device)\n",
        "\n",
        "            for iteration in range(MAX_N_CHUNKS_PER_SENTENCE):\n",
        "\n",
        "                generate_args = {\n",
        "                    \"flattened_patches\": flattened_patches[~finished_sentences_mask],\n",
        "                    \"attention_mask\": attention_mask[~finished_sentences_mask],\n",
        "                    \"max_new_tokens\": CHUNK_LENGTH - (CONTEXT_OVERLAP_LENGTH if iteration else 0),\n",
        "                    \"do_sample\": do_sample\n",
        "                }\n",
        "\n",
        "                if iteration and context_from_last is not None:\n",
        "                    generate_args[\"decoder_input_ids\"] = context_from_last[~finished_sentences_mask]\n",
        "\n",
        "                outputs = model.generate(**generate_args)\n",
        "\n",
        "                # Remove context overlap only from the second iteration onwards\n",
        "                new_chunks = outputs if iteration == 0 else outputs[:, CONTEXT_OVERLAP_LENGTH:]\n",
        "\n",
        "                if iteration == 0:\n",
        "                    total_outputs = new_chunks\n",
        "                else:\n",
        "                    # Update total_outputs by concatenating new chunks\n",
        "                    new_chunks_with_padding_chunks = torch.full((flattened_patches.shape[0], new_chunks.shape[1]), PAD_TOKEN_ID, dtype=new_chunks.dtype, device=new_chunks.device)\n",
        "                    new_chunks_with_padding_chunks[~finished_sentences_mask] = new_chunks\n",
        "                    total_outputs = torch.cat((total_outputs, new_chunks_with_padding_chunks), dim=1)\n",
        "\n",
        "                # Update the finished_sentences_mask\n",
        "                finished_sentences_mask[~finished_sentences_mask] |= (outputs == processor.tokenizer.eos_token_id).any(dim=1)\n",
        "\n",
        "                # If all sentences are finished, exit the loop\n",
        "                if finished_sentences_mask.all():\n",
        "                    break\n",
        "\n",
        "                if outputs.shape[1] < CHUNK_LENGTH:\n",
        "                    print(\"ERROR: !! should have already exited because all sentences reached the end!!\")\n",
        "\n",
        "                # -1 because it will put in front a START_TOKEN automatically\n",
        "                context_from_last = total_outputs[:, -(CONTEXT_OVERLAP_LENGTH-1):]\n",
        "\n",
        "            predictions = processor.tokenizer.batch_decode(total_outputs, skip_special_tokens=True)\n",
        "\n",
        "            labels[labels == -100] = 0\n",
        "            answers = processor.tokenizer.batch_decode(labels, skip_special_tokens=True)\n",
        "\n",
        "            for pred, answer, text_file_path in zip(predictions, answers, text_file_paths):\n",
        "                with open(f\"{OUTPUT_FOLDER}/{text_file_path}_pred.txt\", \"w\") as f:\n",
        "                    print(pred, file=f)\n",
        "\n",
        "                with open(f\"{OUTPUT_FOLDER}/{text_file_path}_answer.txt\", \"w\") as f:\n",
        "                    print(answer, file=f)\n",
        "    return"
      ]
    },
    {
      "cell_type": "code",
      "execution_count": null,
      "metadata": {
        "id": "F6Lme6odJJK8"
      },
      "outputs": [],
      "source": [
        "config = {\n",
        "          \"verbose\": VERBOSE,\n",
        "}"
      ]
    },
    {
      "cell_type": "code",
      "execution_count": null,
      "metadata": {
        "id": "TJWtCoNBEkzT"
      },
      "outputs": [],
      "source": [
        "def validate_config(config):\n",
        "    # Check required keys\n",
        "    required_keys = [\n",
        "        \"verbose\"\n",
        "    ]\n",
        "    for key in required_keys:\n",
        "        if key not in config:\n",
        "            raise ValueError(f\"Key '{key}' must be present in the configuration.\")\n",
        "\n",
        "    # Check that values are in expected ranges\n",
        "    if not isinstance(config[\"verbose\"], bool):\n",
        "        raise ValueError(\"verbose must be a boolean value.\")"
      ]
    },
    {
      "cell_type": "code",
      "execution_count": null,
      "metadata": {
        "id": "XtHfn35GEne6",
        "colab": {
          "base_uri": "https://localhost:8080/"
        },
        "outputId": "afc37167-4231-45aa-e533-dc600f56db40"
      },
      "outputs": [
        {
          "output_type": "stream",
          "name": "stdout",
          "text": [
            "{'verbose': True}\n"
          ]
        }
      ],
      "source": [
        "validate_config(config)\n",
        "print(config)"
      ]
    },
    {
      "cell_type": "markdown",
      "metadata": {
        "id": "fWSsn0vr1mV2"
      },
      "source": [
        "### Utility functions"
      ]
    },
    {
      "cell_type": "code",
      "execution_count": null,
      "metadata": {
        "id": "mq6Y22hDqn3x"
      },
      "outputs": [],
      "source": [
        "def move_to_device(data):\n",
        "    if isinstance(data, (list,tuple)):\n",
        "        return [move_to_device(x) for x in data]\n",
        "    elif isinstance(data, dict):\n",
        "        return {k: move_to_device(v) for k, v in data.items()}\n",
        "    elif isinstance(data, torch.Tensor):\n",
        "        return data.to(DEVICE)\n",
        "    else:\n",
        "        return data"
      ]
    },
    {
      "cell_type": "markdown",
      "metadata": {
        "id": "OKtpIOwKuszL"
      },
      "source": [
        "## Test the model"
      ]
    },
    {
      "cell_type": "code",
      "execution_count": null,
      "metadata": {
        "id": "onNwC7jpHuCR"
      },
      "outputs": [],
      "source": [
        "def test_model(config, processor, model):\n",
        "    print(\"Loading model from checkpoint: \", LAST_CHECKPOINT_NAME)\n",
        "    checkpoint = torch.load(G_DRIVE_FOLDER_CHECKPOINTS + LAST_CHECKPOINT_NAME)\n",
        "\n",
        "    model.load_state_dict(checkpoint['model_state_dict'])\n",
        "    model.to(DEVICE)\n",
        "\n",
        "    generation_config = GenerationConfig.from_model_config(model.config)\n",
        "    generation_config.repetition_penalty = 1.3\n",
        "    generation_config.top_k = 10\n",
        "    generation_config.temperature = 0.9\n",
        "\n",
        "    testing_loop(test_dataloader, model, processor, config, f\"Test loop\", generation_config=generation_config, do_sample=True)"
      ]
    },
    {
      "cell_type": "code",
      "execution_count": null,
      "metadata": {
        "id": "ptSlxvoAKA5c",
        "colab": {
          "base_uri": "https://localhost:8080/"
        },
        "outputId": "fd4fc838-3118-4991-f284-b980ca9167c9"
      },
      "outputs": [
        {
          "output_type": "stream",
          "name": "stdout",
          "text": [
            "Loading model from checkpoint:  Pix2Struct_Rico_Complete_epoch[14].pth\n",
            "using custom generation config in testing loop: \n",
            "\n",
            "GenerationConfig {\n",
            "  \"_from_model_config\": true,\n",
            "  \"decoder_start_token_id\": 0,\n",
            "  \"eos_token_id\": 1,\n",
            "  \"pad_token_id\": 0,\n",
            "  \"repetition_penalty\": 1.3,\n",
            "  \"temperature\": 0.9,\n",
            "  \"top_k\": 10,\n",
            "  \"transformers_version\": \"4.33.1\",\n",
            "  \"use_cache\": false\n",
            "}\n",
            "\n",
            "\n",
            "using sampling\n",
            "\n"
          ]
        },
        {
          "output_type": "stream",
          "name": "stderr",
          "text": [
            "Test loop: 100%|██████████| 13/13 [19:10<00:00, 88.51s/it]\n"
          ]
        }
      ],
      "source": [
        "test_model(config, processor, model)"
      ]
    }
  ]
}