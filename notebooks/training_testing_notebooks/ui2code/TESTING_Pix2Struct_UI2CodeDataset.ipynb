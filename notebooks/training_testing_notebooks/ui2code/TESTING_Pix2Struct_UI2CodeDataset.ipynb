{
  "cells": [
    {
      "cell_type": "markdown",
      "metadata": {
        "id": "xY4KuZUbq83Q"
      },
      "source": [
        "# Test Pix2Struct model on UI2Code dataset"
      ]
    },
    {
      "cell_type": "markdown",
      "metadata": {
        "id": "jT6iC6BDrB9i"
      },
      "source": [
        "## Setup Envirnoment"
      ]
    },
    {
      "cell_type": "code",
      "execution_count": null,
      "metadata": {
        "colab": {
          "base_uri": "https://localhost:8080/"
        },
        "id": "2_-hLR51Tbeh",
        "outputId": "f2a90285-ef26-4154-c7e1-1f45ec94f497"
      },
      "outputs": [
        {
          "name": "stdout",
          "output_type": "stream",
          "text": [
            "Collecting transformers==4.33.1\n",
            "  Downloading transformers-4.33.1-py3-none-any.whl (7.6 MB)\n",
            "\u001b[2K     \u001b[90m━━━━━━━━━━━━━━━━━━━━━━━━━━━━━━━━━━━━━━━━\u001b[0m \u001b[32m7.6/7.6 MB\u001b[0m \u001b[31m31.9 MB/s\u001b[0m eta \u001b[36m0:00:00\u001b[0m\n",
            "\u001b[?25hRequirement already satisfied: filelock in /usr/local/lib/python3.10/dist-packages (from transformers==4.33.1) (3.12.4)\n",
            "Collecting huggingface-hub<1.0,>=0.15.1 (from transformers==4.33.1)\n",
            "  Downloading huggingface_hub-0.18.0-py3-none-any.whl (301 kB)\n",
            "\u001b[2K     \u001b[90m━━━━━━━━━━━━━━━━━━━━━━━━━━━━━━━━━━━━━━\u001b[0m \u001b[32m302.0/302.0 kB\u001b[0m \u001b[31m35.3 MB/s\u001b[0m eta \u001b[36m0:00:00\u001b[0m\n",
            "\u001b[?25hRequirement already satisfied: numpy>=1.17 in /usr/local/lib/python3.10/dist-packages (from transformers==4.33.1) (1.23.5)\n",
            "Requirement already satisfied: packaging>=20.0 in /usr/local/lib/python3.10/dist-packages (from transformers==4.33.1) (23.2)\n",
            "Requirement already satisfied: pyyaml>=5.1 in /usr/local/lib/python3.10/dist-packages (from transformers==4.33.1) (6.0.1)\n",
            "Requirement already satisfied: regex!=2019.12.17 in /usr/local/lib/python3.10/dist-packages (from transformers==4.33.1) (2023.6.3)\n",
            "Requirement already satisfied: requests in /usr/local/lib/python3.10/dist-packages (from transformers==4.33.1) (2.31.0)\n",
            "Collecting tokenizers!=0.11.3,<0.14,>=0.11.1 (from transformers==4.33.1)\n",
            "  Downloading tokenizers-0.13.3-cp310-cp310-manylinux_2_17_x86_64.manylinux2014_x86_64.whl (7.8 MB)\n",
            "\u001b[2K     \u001b[90m━━━━━━━━━━━━━━━━━━━━━━━━━━━━━━━━━━━━━━━━\u001b[0m \u001b[32m7.8/7.8 MB\u001b[0m \u001b[31m91.7 MB/s\u001b[0m eta \u001b[36m0:00:00\u001b[0m\n",
            "\u001b[?25hCollecting safetensors>=0.3.1 (from transformers==4.33.1)\n",
            "  Downloading safetensors-0.4.0-cp310-cp310-manylinux_2_17_x86_64.manylinux2014_x86_64.whl (1.3 MB)\n",
            "\u001b[2K     \u001b[90m━━━━━━━━━━━━━━━━━━━━━━━━━━━━━━━━━━━━━━━━\u001b[0m \u001b[32m1.3/1.3 MB\u001b[0m \u001b[31m83.4 MB/s\u001b[0m eta \u001b[36m0:00:00\u001b[0m\n",
            "\u001b[?25hRequirement already satisfied: tqdm>=4.27 in /usr/local/lib/python3.10/dist-packages (from transformers==4.33.1) (4.66.1)\n",
            "Requirement already satisfied: fsspec>=2023.5.0 in /usr/local/lib/python3.10/dist-packages (from huggingface-hub<1.0,>=0.15.1->transformers==4.33.1) (2023.6.0)\n",
            "Requirement already satisfied: typing-extensions>=3.7.4.3 in /usr/local/lib/python3.10/dist-packages (from huggingface-hub<1.0,>=0.15.1->transformers==4.33.1) (4.5.0)\n",
            "Requirement already satisfied: charset-normalizer<4,>=2 in /usr/local/lib/python3.10/dist-packages (from requests->transformers==4.33.1) (3.3.0)\n",
            "Requirement already satisfied: idna<4,>=2.5 in /usr/local/lib/python3.10/dist-packages (from requests->transformers==4.33.1) (3.4)\n",
            "Requirement already satisfied: urllib3<3,>=1.21.1 in /usr/local/lib/python3.10/dist-packages (from requests->transformers==4.33.1) (2.0.6)\n",
            "Requirement already satisfied: certifi>=2017.4.17 in /usr/local/lib/python3.10/dist-packages (from requests->transformers==4.33.1) (2023.7.22)\n",
            "Installing collected packages: tokenizers, safetensors, huggingface-hub, transformers\n",
            "Successfully installed huggingface-hub-0.18.0 safetensors-0.4.0 tokenizers-0.13.3 transformers-4.33.1\n"
          ]
        }
      ],
      "source": [
        "!pip install transformers==4.33.1"
      ]
    },
    {
      "cell_type": "markdown",
      "metadata": {
        "id": "pGk1Y2ea-3vS"
      },
      "source": [
        "## Import necessary libraries"
      ]
    },
    {
      "cell_type": "code",
      "execution_count": null,
      "metadata": {
        "id": "9qulzbyd-1GC"
      },
      "outputs": [],
      "source": [
        "from google.colab import drive\n",
        "import os\n",
        "import zipfile\n",
        "from torch.utils.data import Dataset, DataLoader\n",
        "from torchvision import transforms\n",
        "from PIL import Image\n",
        "import re\n",
        "from transformers import Pix2StructForConditionalGeneration, AutoProcessor\n",
        "import torch\n",
        "from torch.nn import functional as F\n",
        "from pathlib import Path\n",
        "from nltk import edit_distance\n",
        "import numpy as np\n",
        "from tqdm import tqdm\n",
        "from nltk.translate.bleu_score import corpus_bleu, sentence_bleu, SmoothingFunction\n",
        "from torch.utils.data import random_split\n",
        "import random\n",
        "from transformers import GenerationConfig"
      ]
    },
    {
      "cell_type": "markdown",
      "metadata": {
        "id": "rZ3TJ2yzBAs0"
      },
      "source": [
        "## Define variables and parameters"
      ]
    },
    {
      "cell_type": "code",
      "execution_count": null,
      "metadata": {
        "id": "Rrjr3uhaBDqp"
      },
      "outputs": [],
      "source": [
        "G_DRIVE_FOLDER = '/content/drive/MyDrive/Datasets/'\n",
        "G_DRIVE_FOLDER_CHECKPOINTS = '/content/drive/MyDrive/Checkpoints/'\n",
        "DATASET_NAME = 'ui2code_10000'\n",
        "ZIP_NAME = DATASET_NAME + '.zip'\n",
        "DESTINATION_FOLDER= '/content/data/'\n",
        "DATASET_FOLDER = DESTINATION_FOLDER + DATASET_NAME # unzipped name is output\n",
        "OUTPUT_FOLDER = '/content/drive/MyDrive/Testing_output/ui2code_10000'\n",
        "\n",
        "EXPERIMENT_NAME = \"Pix2Struct_UI2Code_Complete_3_TEST\"\n",
        "\n",
        "MAX_SENTENCE_LEN = 512\n",
        "\n",
        "MAX_PATCHES = 1024\n",
        "\n",
        "DEBUG = False\n",
        "VERBOSE = True\n",
        "\n",
        "BATCH_SIZE = 10\n",
        "TRAIN_SET_PERCENTAGE = 0.898\n",
        "VALID_SET_PERCENTAGE = 0.002 # Use 20 samples for validation\n",
        "# TEST_SET_PERCENTAGE is 1 - TRAIN_SET_PERCENTAGE - VALID_SET_PERCENTAGE # Use 1000 for test\n",
        "\n",
        "RANDOM_SEED = 100\n",
        "\n",
        "LOAD_FROM_CHECKPOINT = True\n",
        "LAST_CHECKPOINT_NAME = \"Pix2Struct_UI2Code_Complete_3_epoch[9].pth\""
      ]
    },
    {
      "cell_type": "code",
      "execution_count": null,
      "metadata": {
        "id": "UVN0Pk4IuVYN"
      },
      "outputs": [],
      "source": [
        "DEVICE = torch.device('cuda' if torch.cuda.is_available() else 'cpu')"
      ]
    },
    {
      "cell_type": "markdown",
      "metadata": {
        "id": "kflo6stPSGhT"
      },
      "source": [
        "\n",
        "## Load UI2Code Dataset"
      ]
    },
    {
      "cell_type": "markdown",
      "metadata": {
        "id": "tq4WHje5RJ9u"
      },
      "source": [
        "### Mount Google Drive"
      ]
    },
    {
      "cell_type": "code",
      "execution_count": null,
      "metadata": {
        "colab": {
          "base_uri": "https://localhost:8080/"
        },
        "id": "uGqbLAK6RJ9x",
        "outputId": "d63ae762-b729-4654-f216-87e73f7c2b02"
      },
      "outputs": [
        {
          "name": "stdout",
          "output_type": "stream",
          "text": [
            "Mounted at /content/drive\n"
          ]
        }
      ],
      "source": [
        "drive.mount('/content/drive')"
      ]
    },
    {
      "cell_type": "markdown",
      "metadata": {
        "id": "R-TqChHhSYgz"
      },
      "source": [
        "### Import zip file from Google Drive"
      ]
    },
    {
      "cell_type": "code",
      "execution_count": null,
      "metadata": {
        "id": "Ju1BprKCVbvg"
      },
      "outputs": [],
      "source": [
        "os.makedirs(DESTINATION_FOLDER, exist_ok=True)\n",
        "\n",
        "with zipfile.ZipFile(G_DRIVE_FOLDER + ZIP_NAME, \"r\") as zf:\n",
        "    zf.extractall(DESTINATION_FOLDER)"
      ]
    },
    {
      "cell_type": "markdown",
      "metadata": {
        "id": "XIyXwQultNqy"
      },
      "source": [
        "## Load Model and Processor"
      ]
    },
    {
      "cell_type": "code",
      "execution_count": null,
      "metadata": {
        "colab": {
          "base_uri": "https://localhost:8080/",
          "height": 381,
          "referenced_widgets": [
            "3d7afa124005418d90d85efb428e8fca",
            "fa2342426fa94d54b83437dd7037dd30",
            "ae2810ab03534b3e9cde931b9ea7f55c",
            "84f30438f6d7473e9f41a2e433cddbbe",
            "42f6d6d1f34f4b42a6898d06752bdc18",
            "dcde4bfe77eb45f5a55019fd59ca3a8b",
            "17821d44bdb447d198a324286385a52f",
            "a17e2f77e8e647a19c046aa07c8dd51e",
            "66eb14eb0cf74affa60bfacabc1098b1",
            "7ad88f175574479187f2e0c6f1996f39",
            "df00d01f81394a35b4c1ee87d4a6d852",
            "fa01f9a8572f48b88dfac02821c9db49",
            "5c8428750ce9446bacae7a2e2f0eaad3",
            "b16649f034ed46f9af3eb4222cb87636",
            "5e6c1f7ca72d491894feadb788b7f071",
            "bad40ba94fe44a17bcd68143dc5c6d91",
            "01d3c6f3fc8b4ffb9c20411d943626a2",
            "d2e49f3ae44b4d4ab6d66a346bbb4450",
            "90eae9bc5577440d8ac9aafa10a42efb",
            "747c4bf7d42b4b229c35f98998f7b800",
            "e70d11b7b5cb4475b214c0f3d20a8a6f",
            "620cd1a1538c4d28aac22600537dad40",
            "034ce93c6d114080bc0ef07d8919c61c",
            "d9dfdd38fe3a4dde9303175badb43dc5",
            "c90ddfd896324edf8044c9c101729880",
            "1d60a51d9b534472a28e11154aae1dcf",
            "1d83631d9428498f88fa0eb7970ae381",
            "2f0a582991894d2f8b073a771025b6e0",
            "b51e5bfb88e34b68a959188bfd56f607",
            "a0ecfd1e79ce43898b0e089ca079a446",
            "da6ac72a85964564b075bd45e2d4e4e9",
            "5542bc273d494634b92ea0d74b3b69b7",
            "06fcb6854ea6453fac00a5be53fe8770",
            "84e15b76985d4226aabb18c275b20c6f",
            "be1935379287455a942cfeb0bf4ad555",
            "ec14d6cdcc3b40ae8ac5ba408bf7343d",
            "d3689ed973ae48fd924b5119108764b1",
            "a557877ac77149b3974fbade32c78f1b",
            "41eceb513d9546ac9bf4ad6c55cda710",
            "1b7b8b92d02c4ab88e9fe69050f3fc85",
            "17e2408f9cfc4b72840868b89f6d5b5e",
            "86f03c4bcf1d4a2ca9ab9b41daad1f8a",
            "8d8d63a3deac4e86bf90cf9aa31d70b9",
            "8ebde0b8b70a47128fcbdff93434b73b",
            "4ec2710913404d4d96ea51c0973da991",
            "18256a922f06428bbdb45ebe109995dd",
            "3c4c85b0f89a43f19401fe469929a6e7",
            "d2a35d1992bf4c879203aa2ec9e1e78c",
            "ff70fd12c615420f83c86e9da0ed2d32",
            "02d6bd0cf92245ee88fb26463ea462c9",
            "cafc2b682e324af19552df9aa1f363ae",
            "933674cd5cfa43f3a0002c17026b37fb",
            "bb6526ef35bd438e8189a251fdb45471",
            "0f98b1bc6ac74222b9f15fa558cc48cc",
            "bc214ab05bc547c2a1c6c1ac233373b8",
            "e2e37d2cffe84464a20960584f2da1df",
            "8fdda5adf7014c31ade13e33f747f92b",
            "1e5b3045ff7845a2878b58e2c4c5d6b3",
            "c5e9deea49b641f1afc494f8efd8d2e2",
            "0639cd02b9d34a88a27323c1d2968713",
            "ab5d9d5bec30468981986ea5fcddf4fb",
            "3d0a1758f3c4481eab2591b236f230d4",
            "f7a5cfebfb594511b7a35a24d6d161a4",
            "00ab241cf24d4d06b46b2f30b0c682b3",
            "703fd3356bf34e79a67687ddf03a70aa",
            "a69c83ff534148b68e09bd23870a392e",
            "2605808b87214d6cb66f1d50f6612742",
            "2e737a0469e04100ab56eef8ebde3ae9",
            "e332abf61d27415f8f1e77d5682deab2",
            "732eff9c914e4413bb245a00ff790bda",
            "1be2ca5039c8421e9e47113eff173ae8",
            "68ecaaa0fa774345b1f6797de243b514",
            "912e04b26df84f9ba64f2c8e3d1a746c",
            "7705dc47be2146c6b37ed43ee45409be",
            "854472a694de4db79450b762c8d8745a",
            "aad10f488e034c5a994b5d5bd0df7b42",
            "ed3da3f6457a4177aa4018403baf18f2"
          ]
        },
        "id": "15QM1CZQtRWr",
        "outputId": "428101ec-3257-463e-9c87-ef64e82c8b43"
      },
      "outputs": [
        {
          "data": {
            "application/vnd.jupyter.widget-view+json": {
              "model_id": "3d7afa124005418d90d85efb428e8fca",
              "version_major": 2,
              "version_minor": 0
            },
            "text/plain": [
              "(…)se/resolve/main/preprocessor_config.json:   0%|          | 0.00/231 [00:00<?, ?B/s]"
            ]
          },
          "metadata": {},
          "output_type": "display_data"
        },
        {
          "data": {
            "application/vnd.jupyter.widget-view+json": {
              "model_id": "fa01f9a8572f48b88dfac02821c9db49",
              "version_major": 2,
              "version_minor": 0
            },
            "text/plain": [
              "(…)-base/resolve/main/tokenizer_config.json:   0%|          | 0.00/2.61k [00:00<?, ?B/s]"
            ]
          },
          "metadata": {},
          "output_type": "display_data"
        },
        {
          "data": {
            "application/vnd.jupyter.widget-view+json": {
              "model_id": "034ce93c6d114080bc0ef07d8919c61c",
              "version_major": 2,
              "version_minor": 0
            },
            "text/plain": [
              "spiece.model:   0%|          | 0.00/851k [00:00<?, ?B/s]"
            ]
          },
          "metadata": {},
          "output_type": "display_data"
        },
        {
          "data": {
            "application/vnd.jupyter.widget-view+json": {
              "model_id": "84e15b76985d4226aabb18c275b20c6f",
              "version_major": 2,
              "version_minor": 0
            },
            "text/plain": [
              "(…)2struct-base/resolve/main/tokenizer.json:   0%|          | 0.00/3.27M [00:00<?, ?B/s]"
            ]
          },
          "metadata": {},
          "output_type": "display_data"
        },
        {
          "data": {
            "application/vnd.jupyter.widget-view+json": {
              "model_id": "4ec2710913404d4d96ea51c0973da991",
              "version_major": 2,
              "version_minor": 0
            },
            "text/plain": [
              "(…)ase/resolve/main/special_tokens_map.json:   0%|          | 0.00/2.20k [00:00<?, ?B/s]"
            ]
          },
          "metadata": {},
          "output_type": "display_data"
        },
        {
          "data": {
            "application/vnd.jupyter.widget-view+json": {
              "model_id": "e2e37d2cffe84464a20960584f2da1df",
              "version_major": 2,
              "version_minor": 0
            },
            "text/plain": [
              "(…)pix2struct-base/resolve/main/config.json:   0%|          | 0.00/4.92k [00:00<?, ?B/s]"
            ]
          },
          "metadata": {},
          "output_type": "display_data"
        },
        {
          "data": {
            "application/vnd.jupyter.widget-view+json": {
              "model_id": "2605808b87214d6cb66f1d50f6612742",
              "version_major": 2,
              "version_minor": 0
            },
            "text/plain": [
              "pytorch_model.bin:   0%|          | 0.00/1.13G [00:00<?, ?B/s]"
            ]
          },
          "metadata": {},
          "output_type": "display_data"
        }
      ],
      "source": [
        "repo_id = \"google/pix2struct-base\"\n",
        "\n",
        "processor = AutoProcessor.from_pretrained(repo_id)\n",
        "model = Pix2StructForConditionalGeneration.from_pretrained(repo_id, is_encoder_decoder=True)"
      ]
    },
    {
      "cell_type": "markdown",
      "metadata": {
        "id": "8vyJVirgV8VN"
      },
      "source": [
        "## Create Dataset class"
      ]
    },
    {
      "cell_type": "markdown",
      "metadata": {
        "id": "OoMrfVyhqfBv"
      },
      "source": [
        "## Load list of files and display some of them"
      ]
    },
    {
      "cell_type": "code",
      "execution_count": null,
      "metadata": {
        "id": "kIhNBVIlQZlZ"
      },
      "outputs": [],
      "source": [
        "all_paths = [filename.split(\".txt\")[0] for filename in os.listdir(DATASET_FOLDER) if filename.endswith(\".txt\")]"
      ]
    },
    {
      "cell_type": "code",
      "execution_count": null,
      "metadata": {
        "colab": {
          "base_uri": "https://localhost:8080/"
        },
        "id": "EM37SOHUSOMO",
        "outputId": "606ba366-4d20-41f9-d44a-11e7e12af32d"
      },
      "outputs": [
        {
          "data": {
            "text/plain": [
              "10000"
            ]
          },
          "execution_count": 9,
          "metadata": {},
          "output_type": "execute_result"
        }
      ],
      "source": [
        "len(all_paths)"
      ]
    },
    {
      "cell_type": "code",
      "execution_count": null,
      "metadata": {
        "colab": {
          "base_uri": "https://localhost:8080/"
        },
        "id": "dNdbLWVHQ0NB",
        "outputId": "e4575202-bcb4-4860-cc50-7b37b8d10930"
      },
      "outputs": [
        {
          "name": "stdout",
          "output_type": "stream",
          "text": [
            "android.support.v4.widget.DrawerLayout { android.widget.LinearLayout { android.widget.LinearLayout { android.widget.FrameLayout android.widget.LinearLayout { android.widget.LinearLayout { android.widget.TextView } android.widget.TextView android.widget.ImageButton android.widget.TextView android.widget.TextView android.widget.TextView android.widget.TextView android.widget.TextView android.widget.TextView android.widget.TextView android.widget.TextView android.widget.TextView android.widget.TextView android.widget.TextView android.widget.TextView android.widget.TextView android.widget.TextView android.widget.TextView android.widget.MultiAutoCompleteTextView android.widget.ImageView android.widget.ImageView } } } }\n"
          ]
        }
      ],
      "source": [
        "with open(DATASET_FOLDER + \"/\" + all_paths[0] + \".txt\", \"r\") as f:\n",
        "    print(f.read())"
      ]
    },
    {
      "cell_type": "code",
      "execution_count": null,
      "metadata": {
        "colab": {
          "base_uri": "https://localhost:8080/",
          "height": 816
        },
        "id": "RtW8-mE-qWVM",
        "outputId": "6e8eb175-ca57-466a-f006-3b11b165b0cb"
      },
      "outputs": [
        {
          "data": {
            "image/png": "[encoded data removed]",
            "text/plain": [
              "<Figure size 1000x1000 with 9 Axes>"
            ]
          },
          "metadata": {},
          "output_type": "display_data"
        }
      ],
      "source": [
        "import matplotlib.pyplot as plt\n",
        "from PIL import Image\n",
        "\n",
        "# Create a new figure\n",
        "fig, axs = plt.subplots(3, 3, figsize=(10, 10))\n",
        "\n",
        "# Iterate through the image paths and plot them\n",
        "for i, path in enumerate(all_paths[:9]):\n",
        "    img = Image.open(DATASET_FOLDER + \"/\" + path + \".png\")\n",
        "    img_rotated = img.rotate(-90, expand=1)  # rotating image 90 degrees clockwise\n",
        "\n",
        "    ax = axs[i // 3, i % 3]\n",
        "    ax.imshow(img_rotated)\n",
        "    ax.axis(\"off\")\n",
        "    ax.set_aspect('auto')\n",
        "plt.tight_layout()\n",
        "plt.show()\n"
      ]
    },
    {
      "cell_type": "markdown",
      "metadata": {
        "id": "pxls5fsNDAXL"
      },
      "source": [
        "### Find max sentence length and new unknown tokens, filter files bigger than max sentence len"
      ]
    },
    {
      "cell_type": "code",
      "execution_count": null,
      "metadata": {
        "colab": {
          "base_uri": "https://localhost:8080/"
        },
        "id": "YEhd7D32SZrf",
        "outputId": "933bfcd1-6947-4965-bc75-78f5d7a26347"
      },
      "outputs": [
        {
          "name": "stderr",
          "output_type": "stream",
          "text": [
            "100%|██████████| 10000/10000 [00:03<00:00, 2786.43it/s]\n"
          ]
        },
        {
          "name": "stdout",
          "output_type": "stream",
          "text": [
            "Max sentence length = 444\n",
            "Number of new tokens = 12\n"
          ]
        }
      ],
      "source": [
        "# Find max length\n",
        "max_length = 0\n",
        "filtered_paths = []\n",
        "\n",
        "# Read text files and add new tokens to dictionary\n",
        "tokens_to_add = set()\n",
        "for path in tqdm(all_paths):\n",
        "    with open(DATASET_FOLDER + \"/\" + path + \".txt\", \"r\") as f:\n",
        "        content = f.read()\n",
        "        splitted_text = processor.tokenizer(content).tokens()\n",
        "    # Check if the current sentence has the largest number of tokens\n",
        "    if len(splitted_text) > max_length:\n",
        "        max_length = len(splitted_text)\n",
        "\n",
        "    if len(splitted_text) <= MAX_SENTENCE_LEN:\n",
        "        filtered_paths.append(path)\n",
        "        tokens_to_add = tokens_to_add.union(set(splitted_text))\n",
        "\n",
        "print(f\"Max sentence length = {max_length}\")\n",
        "\n",
        "newly_added_num = processor.tokenizer.add_tokens(list(tokens_to_add))\n",
        "print(f\"Number of new tokens = {newly_added_num}\")\n",
        "\n",
        "# Resize the model's token embeddings if there are new tokens\n",
        "if newly_added_num > 0:\n",
        "    model.decoder.resize_token_embeddings(len(processor.tokenizer), pad_to_multiple_of=8)"
      ]
    },
    {
      "cell_type": "code",
      "execution_count": null,
      "metadata": {
        "id": "CoC9paOjB0Tj"
      },
      "outputs": [],
      "source": [
        "# Keep only the samples with number of tokens lower than Max Sentence Length\n",
        "all_paths = filtered_paths"
      ]
    },
    {
      "cell_type": "code",
      "execution_count": null,
      "metadata": {
        "colab": {
          "base_uri": "https://localhost:8080/"
        },
        "id": "mIaf0zcMhyYG",
        "outputId": "31889696-e960-4ff9-d014-1e7b3a57ffdd"
      },
      "outputs": [
        {
          "name": "stdout",
          "output_type": "stream",
          "text": [
            "TRAIN_SET size = 8980\n",
            "VALID_SET size = 20\n",
            "TEST_SET size = 1000\n"
          ]
        }
      ],
      "source": [
        "random.seed(RANDOM_SEED)\n",
        "\n",
        "# Use the same seed, so that parts remain the same\n",
        "random.shuffle(all_paths)\n",
        "\n",
        "train_len = int(TRAIN_SET_PERCENTAGE * len(all_paths))\n",
        "valid_len = int(VALID_SET_PERCENTAGE * len(all_paths))\n",
        "\n",
        "train_paths = all_paths[:train_len]\n",
        "valid_paths = all_paths[train_len:train_len+valid_len]\n",
        "test_paths = all_paths[train_len+valid_len:]\n",
        "\n",
        "print(f\"TRAIN_SET size = {len(train_paths)}\")\n",
        "print(f\"VALID_SET size = {len(valid_paths)}\")\n",
        "print(f\"TEST_SET size = {len(test_paths)}\")"
      ]
    },
    {
      "cell_type": "code",
      "execution_count": null,
      "metadata": {
        "id": "HcIfjZZxHfAB"
      },
      "outputs": [],
      "source": [
        "class UI2CodeDataset(Dataset):\n",
        "    # This is a modification of the dataset used for validation and testing\n",
        "    # In this one the sentences are already split into chunks, already having\n",
        "    # the context from the previous chunk, empty chunks are discarded\n",
        "    def __init__(self, root_dir, transform, paths):\n",
        "\n",
        "        self.root_dir = root_dir\n",
        "        self.transform = transform\n",
        "        self.paths = paths\n",
        "\n",
        "        self.max_patches = MAX_PATCHES\n",
        "        self.max_length = MAX_SENTENCE_LEN\n",
        "        self.ignore_id = -100\n",
        "\n",
        "        self.encodings = []\n",
        "\n",
        "        for path in tqdm(paths):\n",
        "            # Directly process the text files, and save them in the ram\n",
        "            # Do the same also for images, if there is enough space in memory\n",
        "            text_file_path = os.path.join(root_dir, path + \".txt\")\n",
        "            image_file_path = os.path.join(root_dir , path + \".png\")\n",
        "\n",
        "            # Each data entry has the following structure\n",
        "            # labels, image_encoding_idx, part\n",
        "\n",
        "            # image_encoding_idx points to an entry of images_encoding, which contains attention_mask and flattened_patches for the image\n",
        "            # Since a single image is used for multiple slices of the same text, this approach is used to save memory\n",
        "\n",
        "            # Load image\n",
        "            # Load image\n",
        "            image = Image.open(image_file_path).convert('RGB')\n",
        "            image = image.rotate(-90, expand=1)\n",
        "\n",
        "\n",
        "            if DEBUG:\n",
        "                image.show()\n",
        "\n",
        "            if self.transform:\n",
        "                image = self.transform(image)\n",
        "\n",
        "            encoding = processor(images=image, max_patches=self.max_patches, return_tensors=\"pt\")\n",
        "            encoding = {k:v.squeeze() for k,v in encoding.items()}\n",
        "\n",
        "            # Load text\n",
        "            with open(text_file_path, \"r\") as f:\n",
        "                text_content = f.read()\n",
        "\n",
        "            input_ids = processor.tokenizer(\n",
        "                text_content,\n",
        "                max_length=self.max_length,\n",
        "                padding=\"max_length\",\n",
        "                truncation=True,\n",
        "                return_tensors=\"pt\",\n",
        "            ).input_ids\n",
        "\n",
        "            labels = input_ids.squeeze().clone()\n",
        "            labels[labels == processor.tokenizer.pad_token_id] = self.ignore_id  # model doesn't need to predict pad token\n",
        "\n",
        "            encoding[\"labels\"] = labels\n",
        "\n",
        "            # For each sample save directly the encoding of both text and image\n",
        "            self.encodings.append(encoding)\n",
        "\n",
        "    def __len__(self):\n",
        "        return len(self.encodings)\n",
        "\n",
        "    def __getitem__(self, idx):\n",
        "        return self.encodings[idx], self.paths[idx]"
      ]
    },
    {
      "cell_type": "code",
      "execution_count": null,
      "metadata": {
        "colab": {
          "base_uri": "https://localhost:8080/"
        },
        "id": "WulOgKwb1aNh",
        "outputId": "88e10ea5-13b9-4a68-c314-266a87f685e4"
      },
      "outputs": [
        {
          "name": "stderr",
          "output_type": "stream",
          "text": [
            "100%|██████████| 1000/1000 [00:14<00:00, 70.07it/s]\n"
          ]
        }
      ],
      "source": [
        "# Transformations for the image\n",
        "transform = transforms.Compose([\n",
        "    transforms.ToTensor(),  # convert PIL Image to PyTorch Tensor\n",
        "    transforms.Normalize(mean=[0.485, 0.456, 0.406], std=[0.229, 0.224, 0.225]),  # normalize for pretrained models\n",
        "])\n",
        "\n",
        "# Instantiate the CustomDataset\n",
        "test_dataset = UI2CodeDataset(DATASET_FOLDER, transform, test_paths)\n",
        "\n",
        "# Use DataLoader for batching and shuffling\n",
        "test_dataloader = DataLoader(test_dataset, batch_size=BATCH_SIZE, shuffle=False)"
      ]
    },
    {
      "cell_type": "code",
      "execution_count": null,
      "metadata": {
        "colab": {
          "base_uri": "https://localhost:8080/"
        },
        "id": "RJbcAvt2eSvb",
        "outputId": "5590ea48-0a2a-4f6f-e3be-056d66f507d1"
      },
      "outputs": [
        {
          "name": "stdout",
          "output_type": "stream",
          "text": [
            "test_dataloader size = 100\n"
          ]
        }
      ],
      "source": [
        "print(f\"test_dataloader size = {len(test_dataloader)}\")"
      ]
    },
    {
      "cell_type": "code",
      "execution_count": null,
      "metadata": {
        "id": "AY0iklFpwju3"
      },
      "outputs": [],
      "source": [
        "batch = next(iter(test_dataloader))"
      ]
    },
    {
      "cell_type": "code",
      "execution_count": null,
      "metadata": {
        "id": "Np5m_Wn9wqXX"
      },
      "outputs": [],
      "source": [
        "encoding, text_file_paths = batch"
      ]
    },
    {
      "cell_type": "code",
      "execution_count": null,
      "metadata": {
        "colab": {
          "base_uri": "https://localhost:8080/"
        },
        "id": "XQp19WbUqFYt",
        "outputId": "c62a0f33-4840-4046-9195-ee518522d100"
      },
      "outputs": [
        {
          "name": "stdout",
          "output_type": "stream",
          "text": [
            "('53ce300c22413732798b963bd26fb368e620850709e1e310b60af82d', 'b240d214d12082c2b12d3dd9bcba3e90a51320a1d18a48a1cfec50bb', '0ce5976af270dd2d781dbba4a257392cc6c3138baf6a8dd993162dde', '8ab828209b71e34206bc6174b593f661bf847ad584f7101221dfcc0c', '048deb9ee944d13bf456e2f3034e7feac8e4400e35c8e66ed06e62ad', '311e82d9479b11147dba5e6f59f7d72853c6b30bc158b5573529b472', '689822c798d112863a86ab2d26b317220cbb44aa8a55289a6e412957', '16010bd2e74bfa1479b633c064829e9cb22e68cd959ba578bad0735b', 'acb9cd75bea09cae1ef1e2ad2f487262c9068f0ad46015f77c449181', '085afeb6e08bd736a4a89d435530860964d13c2e3648011b1e35c5cf')\n"
          ]
        }
      ],
      "source": [
        "print(text_file_paths)"
      ]
    },
    {
      "cell_type": "code",
      "execution_count": null,
      "metadata": {
        "colab": {
          "base_uri": "https://localhost:8080/"
        },
        "id": "IMYh5fmR77Cn",
        "outputId": "bf799c84-304e-4949-ff67-e27eb8fb5366"
      },
      "outputs": [
        {
          "data": {
            "text/plain": [
              "{'flattened_patches': tensor([[[ 1.0000e+00,  1.0000e+00, -8.9484e+00,  ..., -2.2677e-01,\n",
              "            1.3207e-01,  5.5434e-01],\n",
              "          [ 1.0000e+00,  2.0000e+00, -8.9484e+00,  ..., -2.2677e-01,\n",
              "            1.3207e-01,  5.5434e-01],\n",
              "          [ 1.0000e+00,  3.0000e+00, -8.9484e+00,  ..., -2.2677e-01,\n",
              "            1.3207e-01,  5.5434e-01],\n",
              "          ...,\n",
              "          [ 0.0000e+00,  0.0000e+00,  0.0000e+00,  ...,  0.0000e+00,\n",
              "            0.0000e+00,  0.0000e+00],\n",
              "          [ 0.0000e+00,  0.0000e+00,  0.0000e+00,  ...,  0.0000e+00,\n",
              "            0.0000e+00,  0.0000e+00],\n",
              "          [ 0.0000e+00,  0.0000e+00,  0.0000e+00,  ...,  0.0000e+00,\n",
              "            0.0000e+00,  0.0000e+00]],\n",
              " \n",
              "         [[ 1.0000e+00,  1.0000e+00, -1.7556e+00,  ..., -1.6591e-01,\n",
              "           -5.6904e-02,  4.8289e-02],\n",
              "          [ 1.0000e+00,  2.0000e+00, -1.7556e+00,  ...,  1.0021e-02,\n",
              "            1.1394e-01,  2.3206e-01],\n",
              "          [ 1.0000e+00,  3.0000e+00, -1.7556e+00,  ..., -2.2161e-01,\n",
              "           -1.0795e-01,  2.3012e-03],\n",
              "          ...,\n",
              "          [ 0.0000e+00,  0.0000e+00,  0.0000e+00,  ...,  0.0000e+00,\n",
              "            0.0000e+00,  0.0000e+00],\n",
              "          [ 0.0000e+00,  0.0000e+00,  0.0000e+00,  ...,  0.0000e+00,\n",
              "            0.0000e+00,  0.0000e+00],\n",
              "          [ 0.0000e+00,  0.0000e+00,  0.0000e+00,  ...,  0.0000e+00,\n",
              "            0.0000e+00,  0.0000e+00]],\n",
              " \n",
              "         [[ 1.0000e+00,  1.0000e+00, -5.9261e-01,  ...,  3.6011e+00,\n",
              "            4.0396e+00,  4.5980e+00],\n",
              "          [ 1.0000e+00,  2.0000e+00, -5.9261e-01,  ...,  3.5290e+00,\n",
              "            6.6108e+00,  2.2311e+00],\n",
              "          [ 1.0000e+00,  3.0000e+00, -5.9261e-01,  ..., -5.9085e-01,\n",
              "           -3.3820e-01,  3.6685e-01],\n",
              "          ...,\n",
              "          [ 0.0000e+00,  0.0000e+00,  0.0000e+00,  ...,  0.0000e+00,\n",
              "            0.0000e+00,  0.0000e+00],\n",
              "          [ 0.0000e+00,  0.0000e+00,  0.0000e+00,  ...,  0.0000e+00,\n",
              "            0.0000e+00,  0.0000e+00],\n",
              "          [ 0.0000e+00,  0.0000e+00,  0.0000e+00,  ...,  0.0000e+00,\n",
              "            0.0000e+00,  0.0000e+00]],\n",
              " \n",
              "         ...,\n",
              " \n",
              "         [[ 1.0000e+00,  1.0000e+00, -1.0164e+00,  ..., -8.8480e-01,\n",
              "           -3.2949e-01,  2.3910e-01],\n",
              "          [ 1.0000e+00,  2.0000e+00, -1.0164e+00,  ..., -8.8480e-01,\n",
              "           -3.2949e-01,  2.3910e-01],\n",
              "          [ 1.0000e+00,  3.0000e+00, -1.0164e+00,  ..., -8.8480e-01,\n",
              "           -3.2949e-01,  2.3910e-01],\n",
              "          ...,\n",
              "          [ 0.0000e+00,  0.0000e+00,  0.0000e+00,  ...,  0.0000e+00,\n",
              "            0.0000e+00,  0.0000e+00],\n",
              "          [ 0.0000e+00,  0.0000e+00,  0.0000e+00,  ...,  0.0000e+00,\n",
              "            0.0000e+00,  0.0000e+00],\n",
              "          [ 0.0000e+00,  0.0000e+00,  0.0000e+00,  ...,  0.0000e+00,\n",
              "            0.0000e+00,  0.0000e+00]],\n",
              " \n",
              "         [[ 1.0000e+00,  1.0000e+00, -9.2772e+00,  ..., -5.7738e+00,\n",
              "           -6.2139e+00, -5.8217e+00],\n",
              "          [ 1.0000e+00,  2.0000e+00, -9.2772e+00,  ..., -7.8553e-01,\n",
              "           -5.7593e-01,  7.8994e-03],\n",
              "          [ 1.0000e+00,  3.0000e+00, -9.2772e+00,  ..., -8.1951e-01,\n",
              "           -6.0559e-01, -2.1400e-02],\n",
              "          ...,\n",
              "          [ 0.0000e+00,  0.0000e+00,  0.0000e+00,  ...,  0.0000e+00,\n",
              "            0.0000e+00,  0.0000e+00],\n",
              "          [ 0.0000e+00,  0.0000e+00,  0.0000e+00,  ...,  0.0000e+00,\n",
              "            0.0000e+00,  0.0000e+00],\n",
              "          [ 0.0000e+00,  0.0000e+00,  0.0000e+00,  ...,  0.0000e+00,\n",
              "            0.0000e+00,  0.0000e+00]],\n",
              " \n",
              "         [[ 1.0000e+00,  1.0000e+00, -4.7668e+00,  ..., -9.4914e-01,\n",
              "           -7.7018e-01, -5.2374e-01],\n",
              "          [ 1.0000e+00,  2.0000e+00, -4.7668e+00,  ..., -7.9559e-03,\n",
              "            1.7797e-01,  3.7859e-01],\n",
              "          [ 1.0000e+00,  3.0000e+00, -4.7668e+00,  ...,  2.0996e-03,\n",
              "            1.8304e-01,  3.9325e-01],\n",
              "          ...,\n",
              "          [ 0.0000e+00,  0.0000e+00,  0.0000e+00,  ...,  0.0000e+00,\n",
              "            0.0000e+00,  0.0000e+00],\n",
              "          [ 0.0000e+00,  0.0000e+00,  0.0000e+00,  ...,  0.0000e+00,\n",
              "            0.0000e+00,  0.0000e+00],\n",
              "          [ 0.0000e+00,  0.0000e+00,  0.0000e+00,  ...,  0.0000e+00,\n",
              "            0.0000e+00,  0.0000e+00]]]),\n",
              " 'attention_mask': tensor([[1., 1., 1.,  ..., 0., 0., 0.],\n",
              "         [1., 1., 1.,  ..., 0., 0., 0.],\n",
              "         [1., 1., 1.,  ..., 0., 0., 0.],\n",
              "         ...,\n",
              "         [1., 1., 1.,  ..., 0., 0., 0.],\n",
              "         [1., 1., 1.,  ..., 0., 0., 0.],\n",
              "         [1., 1., 1.,  ..., 0., 0., 0.]]),\n",
              " 'labels': tensor([[ 3550,   274, 13717,  ...,  -100,  -100,  -100],\n",
              "         [ 3550,   274, 13717,  ...,  -100,  -100,  -100],\n",
              "         [ 3550,   274,  4060,  ...,  -100,  -100,  -100],\n",
              "         ...,\n",
              "         [ 3550,   274, 13717,  ...,  -100,  -100,  -100],\n",
              "         [ 3550,   274, 10412,  ...,  -100,  -100,  -100],\n",
              "         [ 3550,   274, 13717,  ...,  -100,  -100,  -100]])}"
            ]
          },
          "execution_count": 21,
          "metadata": {},
          "output_type": "execute_result"
        }
      ],
      "source": [
        "encoding"
      ]
    },
    {
      "cell_type": "code",
      "execution_count": null,
      "metadata": {
        "colab": {
          "base_uri": "https://localhost:8080/"
        },
        "id": "RkrDNGE4wybD",
        "outputId": "cc86c3ac-90c5-4c33-c9f8-b23f869d0a9f"
      },
      "outputs": [
        {
          "data": {
            "text/plain": [
              "tensor([[ 1.0000,  1.0000, -8.9484,  ..., -0.2268,  0.1321,  0.5543],\n",
              "        [ 1.0000,  2.0000, -8.9484,  ..., -0.2268,  0.1321,  0.5543],\n",
              "        [ 1.0000,  3.0000, -8.9484,  ..., -0.2268,  0.1321,  0.5543],\n",
              "        ...,\n",
              "        [ 0.0000,  0.0000,  0.0000,  ...,  0.0000,  0.0000,  0.0000],\n",
              "        [ 0.0000,  0.0000,  0.0000,  ...,  0.0000,  0.0000,  0.0000],\n",
              "        [ 0.0000,  0.0000,  0.0000,  ...,  0.0000,  0.0000,  0.0000]])"
            ]
          },
          "execution_count": 22,
          "metadata": {},
          "output_type": "execute_result"
        }
      ],
      "source": [
        "encoding[\"flattened_patches\"][0]"
      ]
    },
    {
      "cell_type": "code",
      "execution_count": null,
      "metadata": {
        "colab": {
          "base_uri": "https://localhost:8080/"
        },
        "id": "TTIYBuTDqAX5",
        "outputId": "32e9257f-8855-4334-a21b-80fbcd9e5842"
      },
      "outputs": [
        {
          "data": {
            "text/plain": [
              "tensor([[ 3550,   274, 13717,  ...,  -100,  -100,  -100],\n",
              "        [ 3550,   274, 13717,  ...,  -100,  -100,  -100],\n",
              "        [ 3550,   274,  4060,  ...,  -100,  -100,  -100],\n",
              "        ...,\n",
              "        [ 3550,   274, 13717,  ...,  -100,  -100,  -100],\n",
              "        [ 3550,   274, 10412,  ...,  -100,  -100,  -100],\n",
              "        [ 3550,   274, 13717,  ...,  -100,  -100,  -100]])"
            ]
          },
          "execution_count": 23,
          "metadata": {},
          "output_type": "execute_result"
        }
      ],
      "source": [
        "encoding[\"labels\"]"
      ]
    },
    {
      "cell_type": "code",
      "execution_count": null,
      "metadata": {
        "colab": {
          "base_uri": "https://localhost:8080/"
        },
        "id": "sMl1M2T8qTmg",
        "outputId": "0773d05d-1057-414f-f2dd-7fa637366b12"
      },
      "outputs": [
        {
          "data": {
            "text/plain": [
              "tensor([ 3550,   274, 13717,   274,  6118,  3920,  3550,   274, 13717,   274,\n",
              "        29301,  3550,   274, 10412,   274,   703,   295,   274, 13717,   274,\n",
              "         6754, 22855,   574,  3920,   435,  3550,   274, 13717,   274, 43727,\n",
              "        18191, 13142,   435,  3550,   274, 13717,   274, 29301,  3550,   274,\n",
              "        13717,   274, 29301,  3550,   274, 13717,   274, 29301,  3550,   274,\n",
              "        13717,   274, 48251, 29301,   512,  3550,   274, 13717,   274, 43727,\n",
              "        18191, 13142,   435,  3550,   274, 13717,   274, 29301,  3550,   274,\n",
              "        13717,   274, 29301,  3550,   274, 13717,   274, 29301,  3550,   274,\n",
              "        13717,   274, 48251, 29301,   512,   512,  3550,   274, 13717,   274,\n",
              "        10446, 13142,   435,  3550,   274, 13717,   274, 29301,   512,  3550,\n",
              "          274, 13717,   274, 10446, 13142,   435,  3550,   274, 13717,   274,\n",
              "        29301,   512,  3550,   274, 13717,   274, 10446, 13142,   435,  3550,\n",
              "          274, 13717,   274, 29301,   512,  3550,   274, 13717,   274, 10446,\n",
              "        13142,   435,  3550,   274, 13717,   274, 29301,   512,  3550,   274,\n",
              "        13717,   274,  6118,  3920,     1,  -100,  -100,  -100,  -100,  -100,\n",
              "         -100,  -100,  -100,  -100,  -100,  -100,  -100,  -100,  -100,  -100,\n",
              "         -100,  -100,  -100,  -100,  -100,  -100,  -100,  -100,  -100,  -100,\n",
              "         -100,  -100,  -100,  -100,  -100,  -100,  -100,  -100,  -100,  -100,\n",
              "         -100,  -100,  -100,  -100,  -100,  -100,  -100,  -100,  -100,  -100,\n",
              "         -100,  -100,  -100,  -100,  -100,  -100,  -100,  -100,  -100,  -100,\n",
              "         -100,  -100,  -100,  -100,  -100,  -100,  -100,  -100,  -100,  -100,\n",
              "         -100,  -100,  -100,  -100,  -100,  -100,  -100,  -100,  -100,  -100,\n",
              "         -100,  -100,  -100,  -100,  -100,  -100,  -100,  -100,  -100,  -100,\n",
              "         -100,  -100,  -100,  -100,  -100,  -100,  -100,  -100,  -100,  -100,\n",
              "         -100,  -100,  -100,  -100,  -100,  -100,  -100,  -100,  -100,  -100,\n",
              "         -100,  -100,  -100,  -100,  -100,  -100,  -100,  -100,  -100,  -100,\n",
              "         -100,  -100,  -100,  -100,  -100,  -100,  -100,  -100,  -100,  -100,\n",
              "         -100,  -100,  -100,  -100,  -100,  -100,  -100,  -100,  -100,  -100,\n",
              "         -100,  -100,  -100,  -100,  -100,  -100,  -100,  -100,  -100,  -100,\n",
              "         -100,  -100,  -100,  -100,  -100,  -100,  -100,  -100,  -100,  -100,\n",
              "         -100,  -100,  -100,  -100,  -100,  -100,  -100,  -100,  -100,  -100,\n",
              "         -100,  -100,  -100,  -100,  -100,  -100,  -100,  -100,  -100,  -100,\n",
              "         -100,  -100,  -100,  -100,  -100,  -100,  -100,  -100,  -100,  -100,\n",
              "         -100,  -100,  -100,  -100,  -100,  -100,  -100,  -100,  -100,  -100,\n",
              "         -100,  -100,  -100,  -100,  -100,  -100,  -100,  -100,  -100,  -100,\n",
              "         -100,  -100,  -100,  -100,  -100,  -100,  -100,  -100,  -100,  -100,\n",
              "         -100,  -100,  -100,  -100,  -100,  -100,  -100,  -100,  -100,  -100,\n",
              "         -100,  -100,  -100,  -100,  -100,  -100,  -100,  -100,  -100,  -100,\n",
              "         -100,  -100,  -100,  -100,  -100,  -100,  -100,  -100,  -100,  -100,\n",
              "         -100,  -100,  -100,  -100,  -100,  -100,  -100,  -100,  -100,  -100,\n",
              "         -100,  -100,  -100,  -100,  -100,  -100,  -100,  -100,  -100,  -100,\n",
              "         -100,  -100,  -100,  -100,  -100,  -100,  -100,  -100,  -100,  -100,\n",
              "         -100,  -100,  -100,  -100,  -100,  -100,  -100,  -100,  -100,  -100,\n",
              "         -100,  -100,  -100,  -100,  -100,  -100,  -100,  -100,  -100,  -100,\n",
              "         -100,  -100,  -100,  -100,  -100,  -100,  -100,  -100,  -100,  -100,\n",
              "         -100,  -100,  -100,  -100,  -100,  -100,  -100,  -100,  -100,  -100,\n",
              "         -100,  -100,  -100,  -100,  -100,  -100,  -100,  -100,  -100,  -100,\n",
              "         -100,  -100,  -100,  -100,  -100,  -100,  -100,  -100,  -100,  -100,\n",
              "         -100,  -100,  -100,  -100,  -100,  -100,  -100,  -100,  -100,  -100,\n",
              "         -100,  -100,  -100,  -100,  -100,  -100,  -100,  -100,  -100,  -100,\n",
              "         -100,  -100,  -100,  -100,  -100,  -100,  -100,  -100,  -100,  -100,\n",
              "         -100,  -100])"
            ]
          },
          "execution_count": 24,
          "metadata": {},
          "output_type": "execute_result"
        }
      ],
      "source": [
        "encoding[\"labels\"][0]"
      ]
    },
    {
      "cell_type": "code",
      "execution_count": null,
      "metadata": {
        "id": "5LzfjsX_qs5u"
      },
      "outputs": [],
      "source": [
        "labels_list = encoding[\"labels\"][0].tolist()\n",
        "\n",
        "# Filter out the -100 values\n",
        "filtered_labels = [token for token in labels_list if token != -100]\n",
        "\n",
        "# Decode the cleaned list of tokens\n",
        "decoded_text_example = processor.tokenizer.batch_decode([filtered_labels], skip_special_tokens=True)[0]\n"
      ]
    },
    {
      "cell_type": "code",
      "execution_count": null,
      "metadata": {
        "colab": {
          "base_uri": "https://localhost:8080/",
          "height": 143
        },
        "id": "_nFDTn-XrQWl",
        "outputId": "71aaaa4f-f8a9-4682-d291-d24b98ebb763"
      },
      "outputs": [
        {
          "data": {
            "application/vnd.google.colaboratory.intrinsic+json": {
              "type": "string"
            },
            "text/plain": [
              "'android.widget.ImageView android.widget.TextView android.support.v7.widget.RecyclerView { android.widget.RelativeLayout { android.widget.TextView android.widget.TextView android.widget.TextView android.widget.CheckedTextView } android.widget.RelativeLayout { android.widget.TextView android.widget.TextView android.widget.TextView android.widget.CheckedTextView } } android.widget.FrameLayout { android.widget.TextView } android.widget.FrameLayout { android.widget.TextView } android.widget.FrameLayout { android.widget.TextView } android.widget.FrameLayout { android.widget.TextView } android.widget.ImageView'"
            ]
          },
          "execution_count": 26,
          "metadata": {},
          "output_type": "execute_result"
        }
      ],
      "source": [
        "decoded_text_example"
      ]
    },
    {
      "cell_type": "code",
      "execution_count": null,
      "metadata": {
        "colab": {
          "base_uri": "https://localhost:8080/"
        },
        "id": "w721sx7Q-_DV",
        "outputId": "58d970c3-3d4c-4360-e590-188fc426422a"
      },
      "outputs": [
        {
          "name": "stdout",
          "output_type": "stream",
          "text": [
            "flattened_patches torch.Size([10, 1024, 770])\n",
            "attention_mask torch.Size([10, 1024])\n",
            "labels torch.Size([10, 512])\n"
          ]
        }
      ],
      "source": [
        "for k,v in encoding.items():\n",
        "    print(k,v.shape)"
      ]
    },
    {
      "cell_type": "markdown",
      "metadata": {
        "id": "TEt-owxM1puj"
      },
      "source": [
        "### Main Testing function"
      ]
    },
    {
      "cell_type": "code",
      "execution_count": null,
      "metadata": {
        "id": "P0SOkRu1n2_S"
      },
      "outputs": [],
      "source": [
        "START_TOKEN_ID = PAD_TOKEN_ID = processor.tokenizer.pad_token_id"
      ]
    },
    {
      "cell_type": "code",
      "execution_count": null,
      "metadata": {
        "id": "RXfc_whn-qJW"
      },
      "outputs": [],
      "source": [
        "def testing_loop(testing_dataloader, model, processor, config, description, generation_config=None, do_sample=False):\n",
        "    if (generation_config):\n",
        "        print(\"using custom generation config in testing loop: \\n\")\n",
        "        print(generation_config)\n",
        "    if (do_sample):\n",
        "        print(\"\\nusing sampling\\n\")\n",
        "\n",
        "    model.eval()\n",
        "    bleu_scores = []\n",
        "\n",
        "    with torch.no_grad():\n",
        "        test_loop = tqdm(enumerate(testing_dataloader), total=len(testing_dataloader), desc=description)\n",
        "        for i, batch in test_loop:\n",
        "            encoding, text_file_paths = batch\n",
        "            encoding = move_to_device(encoding)\n",
        "            labels, flattened_patches, attention_mask = encoding[\"labels\"], encoding[\"flattened_patches\"], encoding[\"attention_mask\"]\n",
        "\n",
        "            outputs = model.generate(flattened_patches=flattened_patches, attention_mask=attention_mask, max_new_tokens=MAX_SENTENCE_LEN, generation_config=generation_config, do_sample=do_sample)\n",
        "\n",
        "            predictions = processor.tokenizer.batch_decode(outputs, skip_special_tokens=True)\n",
        "\n",
        "            labels[labels == -100] = 0\n",
        "            answers = processor.tokenizer.batch_decode(labels, skip_special_tokens=True)\n",
        "\n",
        "            for pred, answer, text_file_path in zip(predictions, answers, text_file_paths):\n",
        "                file_path_answer = f\"{OUTPUT_FOLDER}/{text_file_path}_answer.txt\"\n",
        "                file_path_pred = f\"{OUTPUT_FOLDER}/{text_file_path}_pred.txt\"\n",
        "\n",
        "                try:\n",
        "                    with open(file_path_answer, \"w\", encoding=\"utf-8\") as f:\n",
        "                        print(answer, file=f)\n",
        "                except UnicodeEncodeError:\n",
        "                    cleaned_answer = ''.join(char for char in answer if ord(char) < 128)\n",
        "                    with open(file_path_answer, \"w\") as f:\n",
        "                        print(cleaned_answer, file=f)\n",
        "                except Exception as e:\n",
        "                    print(f\"An unexpected error occurred for file {file_path_answer}: {e}\")\n",
        "\n",
        "                try:\n",
        "                    with open(file_path_pred, \"w\", encoding=\"utf-8\") as f:\n",
        "                        print(pred, file=f)\n",
        "                except UnicodeEncodeError:\n",
        "                    cleaned_pred = ''.join(char for char in pred if ord(char) < 128)\n",
        "                    with open(file_path_pred, \"w\") as f:\n",
        "                        print(cleaned_pred, file=f)\n",
        "                except Exception as e:\n",
        "                    print(f\"An unexpected error occurred for file {file_path_pred}: {e}\")\n",
        "\n",
        "    return\n"
      ]
    },
    {
      "cell_type": "code",
      "execution_count": null,
      "metadata": {
        "id": "F6Lme6odJJK8"
      },
      "outputs": [],
      "source": [
        "config = {\n",
        "          \"verbose\": VERBOSE,\n",
        "}"
      ]
    },
    {
      "cell_type": "code",
      "execution_count": null,
      "metadata": {
        "id": "TJWtCoNBEkzT"
      },
      "outputs": [],
      "source": [
        "def validate_config(config):\n",
        "    # Check required keys\n",
        "    required_keys = [\n",
        "        \"verbose\"\n",
        "    ]\n",
        "    for key in required_keys:\n",
        "        if key not in config:\n",
        "            raise ValueError(f\"Key '{key}' must be present in the configuration.\")\n",
        "\n",
        "    # Check that values are in expected ranges\n",
        "    if not isinstance(config[\"verbose\"], bool):\n",
        "        raise ValueError(\"verbose must be a boolean value.\")"
      ]
    },
    {
      "cell_type": "code",
      "execution_count": null,
      "metadata": {
        "colab": {
          "base_uri": "https://localhost:8080/"
        },
        "id": "XtHfn35GEne6",
        "outputId": "17ad16f2-833c-4ea3-fdfe-940750f73d25"
      },
      "outputs": [
        {
          "name": "stdout",
          "output_type": "stream",
          "text": [
            "{'verbose': True}\n"
          ]
        }
      ],
      "source": [
        "validate_config(config)\n",
        "print(config)"
      ]
    },
    {
      "cell_type": "markdown",
      "metadata": {
        "id": "fWSsn0vr1mV2"
      },
      "source": [
        "### Utility functions"
      ]
    },
    {
      "cell_type": "code",
      "execution_count": null,
      "metadata": {
        "id": "mq6Y22hDqn3x"
      },
      "outputs": [],
      "source": [
        "def move_to_device(data):\n",
        "    if isinstance(data, (list,tuple)):\n",
        "        return [move_to_device(x) for x in data]\n",
        "    elif isinstance(data, dict):\n",
        "        return {k: move_to_device(v) for k, v in data.items()}\n",
        "    elif isinstance(data, torch.Tensor):\n",
        "        return data.to(DEVICE)\n",
        "    else:\n",
        "        return data"
      ]
    },
    {
      "cell_type": "markdown",
      "metadata": {
        "id": "OKtpIOwKuszL"
      },
      "source": [
        "## Test the model"
      ]
    },
    {
      "cell_type": "code",
      "execution_count": null,
      "metadata": {
        "id": "onNwC7jpHuCR"
      },
      "outputs": [],
      "source": [
        "def test_model(config, processor, model):\n",
        "    print(\"Loading model from checkpoint: \", LAST_CHECKPOINT_NAME)\n",
        "    checkpoint = torch.load(G_DRIVE_FOLDER_CHECKPOINTS + LAST_CHECKPOINT_NAME)\n",
        "    model.load_state_dict(checkpoint['model_state_dict'])\n",
        "    model.to(DEVICE)\n",
        "\n",
        "    generation_config = GenerationConfig.from_model_config(model.config)\n",
        "    generation_config.repetition_penalty = 1.05\n",
        "\n",
        "    testing_loop(test_dataloader, model, processor, config, f\"Test loop\", generation_config=generation_config, do_sample=False)"
      ]
    },
    {
      "cell_type": "code",
      "execution_count": null,
      "metadata": {
        "colab": {
          "base_uri": "https://localhost:8080/"
        },
        "id": "ptSlxvoAKA5c",
        "outputId": "150f7b7e-51df-43c5-9fbb-5b682bf101c4"
      },
      "outputs": [
        {
          "name": "stdout",
          "output_type": "stream",
          "text": [
            "Loading model from checkpoint:  Pix2Struct_UI2Code_Complete_3_epoch[9].pth\n",
            "using custom generation config in testing loop: \n",
            "\n",
            "GenerationConfig {\n",
            "  \"_from_model_config\": true,\n",
            "  \"decoder_start_token_id\": 0,\n",
            "  \"eos_token_id\": 1,\n",
            "  \"pad_token_id\": 0,\n",
            "  \"repetition_penalty\": 1.05,\n",
            "  \"transformers_version\": \"4.33.1\",\n",
            "  \"use_cache\": false\n",
            "}\n",
            "\n"
          ]
        },
        {
          "name": "stderr",
          "output_type": "stream",
          "text": [
            "Test loop: 100%|██████████| 100/100 [1:18:07<00:00, 46.88s/it]\n"
          ]
        }
      ],
      "source": [
        "test_model(config, processor, model)"
      ]
    }
  ],
  "metadata": {
    "accelerator": "GPU",
    "colab": {
      "gpuType": "V100",
      "machine_shape": "hm",
      "provenance": []
    },
    "kernelspec": {
      "display_name": "Python 3",
      "name": "python3"
    },
    "language_info": {
      "name": "python"
    },
    "widgets": {
      "application/vnd.jupyter.widget-state+json": {
        "00ab241cf24d4d06b46b2f30b0c682b3": {
          "model_module": "@jupyter-widgets/controls",
          "model_module_version": "1.5.0",
          "model_name": "ProgressStyleModel",
          "state": {
            "_model_module": "@jupyter-widgets/controls",
            "_model_module_version": "1.5.0",
            "_model_name": "ProgressStyleModel",
            "_view_count": null,
            "_view_module": "@jupyter-widgets/base",
            "_view_module_version": "1.2.0",
            "_view_name": "StyleView",
            "bar_color": null,
            "description_width": ""
          }
        },
        "01d3c6f3fc8b4ffb9c20411d943626a2": {
          "model_module": "@jupyter-widgets/base",
          "model_module_version": "1.2.0",
          "model_name": "LayoutModel",
          "state": {
            "_model_module": "@jupyter-widgets/base",
            "_model_module_version": "1.2.0",
            "_model_name": "LayoutModel",
            "_view_count": null,
            "_view_module": "@jupyter-widgets/base",
            "_view_module_version": "1.2.0",
            "_view_name": "LayoutView",
            "align_content": null,
            "align_items": null,
            "align_self": null,
            "border": null,
            "bottom": null,
            "display": null,
            "flex": null,
            "flex_flow": null,
            "grid_area": null,
            "grid_auto_columns": null,
            "grid_auto_flow": null,
            "grid_auto_rows": null,
            "grid_column": null,
            "grid_gap": null,
            "grid_row": null,
            "grid_template_areas": null,
            "grid_template_columns": null,
            "grid_template_rows": null,
            "height": null,
            "justify_content": null,
            "justify_items": null,
            "left": null,
            "margin": null,
            "max_height": null,
            "max_width": null,
            "min_height": null,
            "min_width": null,
            "object_fit": null,
            "object_position": null,
            "order": null,
            "overflow": null,
            "overflow_x": null,
            "overflow_y": null,
            "padding": null,
            "right": null,
            "top": null,
            "visibility": null,
            "width": null
          }
        },
        "02d6bd0cf92245ee88fb26463ea462c9": {
          "model_module": "@jupyter-widgets/base",
          "model_module_version": "1.2.0",
          "model_name": "LayoutModel",
          "state": {
            "_model_module": "@jupyter-widgets/base",
            "_model_module_version": "1.2.0",
            "_model_name": "LayoutModel",
            "_view_count": null,
            "_view_module": "@jupyter-widgets/base",
            "_view_module_version": "1.2.0",
            "_view_name": "LayoutView",
            "align_content": null,
            "align_items": null,
            "align_self": null,
            "border": null,
            "bottom": null,
            "display": null,
            "flex": null,
            "flex_flow": null,
            "grid_area": null,
            "grid_auto_columns": null,
            "grid_auto_flow": null,
            "grid_auto_rows": null,
            "grid_column": null,
            "grid_gap": null,
            "grid_row": null,
            "grid_template_areas": null,
            "grid_template_columns": null,
            "grid_template_rows": null,
            "height": null,
            "justify_content": null,
            "justify_items": null,
            "left": null,
            "margin": null,
            "max_height": null,
            "max_width": null,
            "min_height": null,
            "min_width": null,
            "object_fit": null,
            "object_position": null,
            "order": null,
            "overflow": null,
            "overflow_x": null,
            "overflow_y": null,
            "padding": null,
            "right": null,
            "top": null,
            "visibility": null,
            "width": null
          }
        },
        "034ce93c6d114080bc0ef07d8919c61c": {
          "model_module": "@jupyter-widgets/controls",
          "model_module_version": "1.5.0",
          "model_name": "HBoxModel",
          "state": {
            "_dom_classes": [],
            "_model_module": "@jupyter-widgets/controls",
            "_model_module_version": "1.5.0",
            "_model_name": "HBoxModel",
            "_view_count": null,
            "_view_module": "@jupyter-widgets/controls",
            "_view_module_version": "1.5.0",
            "_view_name": "HBoxView",
            "box_style": "",
            "children": [
              "IPY_MODEL_d9dfdd38fe3a4dde9303175badb43dc5",
              "IPY_MODEL_c90ddfd896324edf8044c9c101729880",
              "IPY_MODEL_1d60a51d9b534472a28e11154aae1dcf"
            ],
            "layout": "IPY_MODEL_1d83631d9428498f88fa0eb7970ae381"
          }
        },
        "0639cd02b9d34a88a27323c1d2968713": {
          "model_module": "@jupyter-widgets/base",
          "model_module_version": "1.2.0",
          "model_name": "LayoutModel",
          "state": {
            "_model_module": "@jupyter-widgets/base",
            "_model_module_version": "1.2.0",
            "_model_name": "LayoutModel",
            "_view_count": null,
            "_view_module": "@jupyter-widgets/base",
            "_view_module_version": "1.2.0",
            "_view_name": "LayoutView",
            "align_content": null,
            "align_items": null,
            "align_self": null,
            "border": null,
            "bottom": null,
            "display": null,
            "flex": null,
            "flex_flow": null,
            "grid_area": null,
            "grid_auto_columns": null,
            "grid_auto_flow": null,
            "grid_auto_rows": null,
            "grid_column": null,
            "grid_gap": null,
            "grid_row": null,
            "grid_template_areas": null,
            "grid_template_columns": null,
            "grid_template_rows": null,
            "height": null,
            "justify_content": null,
            "justify_items": null,
            "left": null,
            "margin": null,
            "max_height": null,
            "max_width": null,
            "min_height": null,
            "min_width": null,
            "object_fit": null,
            "object_position": null,
            "order": null,
            "overflow": null,
            "overflow_x": null,
            "overflow_y": null,
            "padding": null,
            "right": null,
            "top": null,
            "visibility": null,
            "width": null
          }
        },
        "06fcb6854ea6453fac00a5be53fe8770": {
          "model_module": "@jupyter-widgets/controls",
          "model_module_version": "1.5.0",
          "model_name": "DescriptionStyleModel",
          "state": {
            "_model_module": "@jupyter-widgets/controls",
            "_model_module_version": "1.5.0",
            "_model_name": "DescriptionStyleModel",
            "_view_count": null,
            "_view_module": "@jupyter-widgets/base",
            "_view_module_version": "1.2.0",
            "_view_name": "StyleView",
            "description_width": ""
          }
        },
        "0f98b1bc6ac74222b9f15fa558cc48cc": {
          "model_module": "@jupyter-widgets/base",
          "model_module_version": "1.2.0",
          "model_name": "LayoutModel",
          "state": {
            "_model_module": "@jupyter-widgets/base",
            "_model_module_version": "1.2.0",
            "_model_name": "LayoutModel",
            "_view_count": null,
            "_view_module": "@jupyter-widgets/base",
            "_view_module_version": "1.2.0",
            "_view_name": "LayoutView",
            "align_content": null,
            "align_items": null,
            "align_self": null,
            "border": null,
            "bottom": null,
            "display": null,
            "flex": null,
            "flex_flow": null,
            "grid_area": null,
            "grid_auto_columns": null,
            "grid_auto_flow": null,
            "grid_auto_rows": null,
            "grid_column": null,
            "grid_gap": null,
            "grid_row": null,
            "grid_template_areas": null,
            "grid_template_columns": null,
            "grid_template_rows": null,
            "height": null,
            "justify_content": null,
            "justify_items": null,
            "left": null,
            "margin": null,
            "max_height": null,
            "max_width": null,
            "min_height": null,
            "min_width": null,
            "object_fit": null,
            "object_position": null,
            "order": null,
            "overflow": null,
            "overflow_x": null,
            "overflow_y": null,
            "padding": null,
            "right": null,
            "top": null,
            "visibility": null,
            "width": null
          }
        },
        "17821d44bdb447d198a324286385a52f": {
          "model_module": "@jupyter-widgets/controls",
          "model_module_version": "1.5.0",
          "model_name": "DescriptionStyleModel",
          "state": {
            "_model_module": "@jupyter-widgets/controls",
            "_model_module_version": "1.5.0",
            "_model_name": "DescriptionStyleModel",
            "_view_count": null,
            "_view_module": "@jupyter-widgets/base",
            "_view_module_version": "1.2.0",
            "_view_name": "StyleView",
            "description_width": ""
          }
        },
        "17e2408f9cfc4b72840868b89f6d5b5e": {
          "model_module": "@jupyter-widgets/base",
          "model_module_version": "1.2.0",
          "model_name": "LayoutModel",
          "state": {
            "_model_module": "@jupyter-widgets/base",
            "_model_module_version": "1.2.0",
            "_model_name": "LayoutModel",
            "_view_count": null,
            "_view_module": "@jupyter-widgets/base",
            "_view_module_version": "1.2.0",
            "_view_name": "LayoutView",
            "align_content": null,
            "align_items": null,
            "align_self": null,
            "border": null,
            "bottom": null,
            "display": null,
            "flex": null,
            "flex_flow": null,
            "grid_area": null,
            "grid_auto_columns": null,
            "grid_auto_flow": null,
            "grid_auto_rows": null,
            "grid_column": null,
            "grid_gap": null,
            "grid_row": null,
            "grid_template_areas": null,
            "grid_template_columns": null,
            "grid_template_rows": null,
            "height": null,
            "justify_content": null,
            "justify_items": null,
            "left": null,
            "margin": null,
            "max_height": null,
            "max_width": null,
            "min_height": null,
            "min_width": null,
            "object_fit": null,
            "object_position": null,
            "order": null,
            "overflow": null,
            "overflow_x": null,
            "overflow_y": null,
            "padding": null,
            "right": null,
            "top": null,
            "visibility": null,
            "width": null
          }
        },
        "18256a922f06428bbdb45ebe109995dd": {
          "model_module": "@jupyter-widgets/controls",
          "model_module_version": "1.5.0",
          "model_name": "HTMLModel",
          "state": {
            "_dom_classes": [],
            "_model_module": "@jupyter-widgets/controls",
            "_model_module_version": "1.5.0",
            "_model_name": "HTMLModel",
            "_view_count": null,
            "_view_module": "@jupyter-widgets/controls",
            "_view_module_version": "1.5.0",
            "_view_name": "HTMLView",
            "description": "",
            "description_tooltip": null,
            "layout": "IPY_MODEL_02d6bd0cf92245ee88fb26463ea462c9",
            "placeholder": "​",
            "style": "IPY_MODEL_cafc2b682e324af19552df9aa1f363ae",
            "value": "(…)ase/resolve/main/special_tokens_map.json: 100%"
          }
        },
        "1b7b8b92d02c4ab88e9fe69050f3fc85": {
          "model_module": "@jupyter-widgets/controls",
          "model_module_version": "1.5.0",
          "model_name": "DescriptionStyleModel",
          "state": {
            "_model_module": "@jupyter-widgets/controls",
            "_model_module_version": "1.5.0",
            "_model_name": "DescriptionStyleModel",
            "_view_count": null,
            "_view_module": "@jupyter-widgets/base",
            "_view_module_version": "1.2.0",
            "_view_name": "StyleView",
            "description_width": ""
          }
        },
        "1be2ca5039c8421e9e47113eff173ae8": {
          "model_module": "@jupyter-widgets/base",
          "model_module_version": "1.2.0",
          "model_name": "LayoutModel",
          "state": {
            "_model_module": "@jupyter-widgets/base",
            "_model_module_version": "1.2.0",
            "_model_name": "LayoutModel",
            "_view_count": null,
            "_view_module": "@jupyter-widgets/base",
            "_view_module_version": "1.2.0",
            "_view_name": "LayoutView",
            "align_content": null,
            "align_items": null,
            "align_self": null,
            "border": null,
            "bottom": null,
            "display": null,
            "flex": null,
            "flex_flow": null,
            "grid_area": null,
            "grid_auto_columns": null,
            "grid_auto_flow": null,
            "grid_auto_rows": null,
            "grid_column": null,
            "grid_gap": null,
            "grid_row": null,
            "grid_template_areas": null,
            "grid_template_columns": null,
            "grid_template_rows": null,
            "height": null,
            "justify_content": null,
            "justify_items": null,
            "left": null,
            "margin": null,
            "max_height": null,
            "max_width": null,
            "min_height": null,
            "min_width": null,
            "object_fit": null,
            "object_position": null,
            "order": null,
            "overflow": null,
            "overflow_x": null,
            "overflow_y": null,
            "padding": null,
            "right": null,
            "top": null,
            "visibility": null,
            "width": null
          }
        },
        "1d60a51d9b534472a28e11154aae1dcf": {
          "model_module": "@jupyter-widgets/controls",
          "model_module_version": "1.5.0",
          "model_name": "HTMLModel",
          "state": {
            "_dom_classes": [],
            "_model_module": "@jupyter-widgets/controls",
            "_model_module_version": "1.5.0",
            "_model_name": "HTMLModel",
            "_view_count": null,
            "_view_module": "@jupyter-widgets/controls",
            "_view_module_version": "1.5.0",
            "_view_name": "HTMLView",
            "description": "",
            "description_tooltip": null,
            "layout": "IPY_MODEL_5542bc273d494634b92ea0d74b3b69b7",
            "placeholder": "​",
            "style": "IPY_MODEL_06fcb6854ea6453fac00a5be53fe8770",
            "value": " 851k/851k [00:00&lt;00:00, 12.2MB/s]"
          }
        },
        "1d83631d9428498f88fa0eb7970ae381": {
          "model_module": "@jupyter-widgets/base",
          "model_module_version": "1.2.0",
          "model_name": "LayoutModel",
          "state": {
            "_model_module": "@jupyter-widgets/base",
            "_model_module_version": "1.2.0",
            "_model_name": "LayoutModel",
            "_view_count": null,
            "_view_module": "@jupyter-widgets/base",
            "_view_module_version": "1.2.0",
            "_view_name": "LayoutView",
            "align_content": null,
            "align_items": null,
            "align_self": null,
            "border": null,
            "bottom": null,
            "display": null,
            "flex": null,
            "flex_flow": null,
            "grid_area": null,
            "grid_auto_columns": null,
            "grid_auto_flow": null,
            "grid_auto_rows": null,
            "grid_column": null,
            "grid_gap": null,
            "grid_row": null,
            "grid_template_areas": null,
            "grid_template_columns": null,
            "grid_template_rows": null,
            "height": null,
            "justify_content": null,
            "justify_items": null,
            "left": null,
            "margin": null,
            "max_height": null,
            "max_width": null,
            "min_height": null,
            "min_width": null,
            "object_fit": null,
            "object_position": null,
            "order": null,
            "overflow": null,
            "overflow_x": null,
            "overflow_y": null,
            "padding": null,
            "right": null,
            "top": null,
            "visibility": null,
            "width": null
          }
        },
        "1e5b3045ff7845a2878b58e2c4c5d6b3": {
          "model_module": "@jupyter-widgets/controls",
          "model_module_version": "1.5.0",
          "model_name": "FloatProgressModel",
          "state": {
            "_dom_classes": [],
            "_model_module": "@jupyter-widgets/controls",
            "_model_module_version": "1.5.0",
            "_model_name": "FloatProgressModel",
            "_view_count": null,
            "_view_module": "@jupyter-widgets/controls",
            "_view_module_version": "1.5.0",
            "_view_name": "ProgressView",
            "bar_style": "success",
            "description": "",
            "description_tooltip": null,
            "layout": "IPY_MODEL_f7a5cfebfb594511b7a35a24d6d161a4",
            "max": 4918,
            "min": 0,
            "orientation": "horizontal",
            "style": "IPY_MODEL_00ab241cf24d4d06b46b2f30b0c682b3",
            "value": 4918
          }
        },
        "2605808b87214d6cb66f1d50f6612742": {
          "model_module": "@jupyter-widgets/controls",
          "model_module_version": "1.5.0",
          "model_name": "HBoxModel",
          "state": {
            "_dom_classes": [],
            "_model_module": "@jupyter-widgets/controls",
            "_model_module_version": "1.5.0",
            "_model_name": "HBoxModel",
            "_view_count": null,
            "_view_module": "@jupyter-widgets/controls",
            "_view_module_version": "1.5.0",
            "_view_name": "HBoxView",
            "box_style": "",
            "children": [
              "IPY_MODEL_2e737a0469e04100ab56eef8ebde3ae9",
              "IPY_MODEL_e332abf61d27415f8f1e77d5682deab2",
              "IPY_MODEL_732eff9c914e4413bb245a00ff790bda"
            ],
            "layout": "IPY_MODEL_1be2ca5039c8421e9e47113eff173ae8"
          }
        },
        "2e737a0469e04100ab56eef8ebde3ae9": {
          "model_module": "@jupyter-widgets/controls",
          "model_module_version": "1.5.0",
          "model_name": "HTMLModel",
          "state": {
            "_dom_classes": [],
            "_model_module": "@jupyter-widgets/controls",
            "_model_module_version": "1.5.0",
            "_model_name": "HTMLModel",
            "_view_count": null,
            "_view_module": "@jupyter-widgets/controls",
            "_view_module_version": "1.5.0",
            "_view_name": "HTMLView",
            "description": "",
            "description_tooltip": null,
            "layout": "IPY_MODEL_68ecaaa0fa774345b1f6797de243b514",
            "placeholder": "​",
            "style": "IPY_MODEL_912e04b26df84f9ba64f2c8e3d1a746c",
            "value": "pytorch_model.bin: 100%"
          }
        },
        "2f0a582991894d2f8b073a771025b6e0": {
          "model_module": "@jupyter-widgets/base",
          "model_module_version": "1.2.0",
          "model_name": "LayoutModel",
          "state": {
            "_model_module": "@jupyter-widgets/base",
            "_model_module_version": "1.2.0",
            "_model_name": "LayoutModel",
            "_view_count": null,
            "_view_module": "@jupyter-widgets/base",
            "_view_module_version": "1.2.0",
            "_view_name": "LayoutView",
            "align_content": null,
            "align_items": null,
            "align_self": null,
            "border": null,
            "bottom": null,
            "display": null,
            "flex": null,
            "flex_flow": null,
            "grid_area": null,
            "grid_auto_columns": null,
            "grid_auto_flow": null,
            "grid_auto_rows": null,
            "grid_column": null,
            "grid_gap": null,
            "grid_row": null,
            "grid_template_areas": null,
            "grid_template_columns": null,
            "grid_template_rows": null,
            "height": null,
            "justify_content": null,
            "justify_items": null,
            "left": null,
            "margin": null,
            "max_height": null,
            "max_width": null,
            "min_height": null,
            "min_width": null,
            "object_fit": null,
            "object_position": null,
            "order": null,
            "overflow": null,
            "overflow_x": null,
            "overflow_y": null,
            "padding": null,
            "right": null,
            "top": null,
            "visibility": null,
            "width": null
          }
        },
        "3c4c85b0f89a43f19401fe469929a6e7": {
          "model_module": "@jupyter-widgets/controls",
          "model_module_version": "1.5.0",
          "model_name": "FloatProgressModel",
          "state": {
            "_dom_classes": [],
            "_model_module": "@jupyter-widgets/controls",
            "_model_module_version": "1.5.0",
            "_model_name": "FloatProgressModel",
            "_view_count": null,
            "_view_module": "@jupyter-widgets/controls",
            "_view_module_version": "1.5.0",
            "_view_name": "ProgressView",
            "bar_style": "success",
            "description": "",
            "description_tooltip": null,
            "layout": "IPY_MODEL_933674cd5cfa43f3a0002c17026b37fb",
            "max": 2201,
            "min": 0,
            "orientation": "horizontal",
            "style": "IPY_MODEL_bb6526ef35bd438e8189a251fdb45471",
            "value": 2201
          }
        },
        "3d0a1758f3c4481eab2591b236f230d4": {
          "model_module": "@jupyter-widgets/controls",
          "model_module_version": "1.5.0",
          "model_name": "DescriptionStyleModel",
          "state": {
            "_model_module": "@jupyter-widgets/controls",
            "_model_module_version": "1.5.0",
            "_model_name": "DescriptionStyleModel",
            "_view_count": null,
            "_view_module": "@jupyter-widgets/base",
            "_view_module_version": "1.2.0",
            "_view_name": "StyleView",
            "description_width": ""
          }
        },
        "3d7afa124005418d90d85efb428e8fca": {
          "model_module": "@jupyter-widgets/controls",
          "model_module_version": "1.5.0",
          "model_name": "HBoxModel",
          "state": {
            "_dom_classes": [],
            "_model_module": "@jupyter-widgets/controls",
            "_model_module_version": "1.5.0",
            "_model_name": "HBoxModel",
            "_view_count": null,
            "_view_module": "@jupyter-widgets/controls",
            "_view_module_version": "1.5.0",
            "_view_name": "HBoxView",
            "box_style": "",
            "children": [
              "IPY_MODEL_fa2342426fa94d54b83437dd7037dd30",
              "IPY_MODEL_ae2810ab03534b3e9cde931b9ea7f55c",
              "IPY_MODEL_84f30438f6d7473e9f41a2e433cddbbe"
            ],
            "layout": "IPY_MODEL_42f6d6d1f34f4b42a6898d06752bdc18"
          }
        },
        "41eceb513d9546ac9bf4ad6c55cda710": {
          "model_module": "@jupyter-widgets/base",
          "model_module_version": "1.2.0",
          "model_name": "LayoutModel",
          "state": {
            "_model_module": "@jupyter-widgets/base",
            "_model_module_version": "1.2.0",
            "_model_name": "LayoutModel",
            "_view_count": null,
            "_view_module": "@jupyter-widgets/base",
            "_view_module_version": "1.2.0",
            "_view_name": "LayoutView",
            "align_content": null,
            "align_items": null,
            "align_self": null,
            "border": null,
            "bottom": null,
            "display": null,
            "flex": null,
            "flex_flow": null,
            "grid_area": null,
            "grid_auto_columns": null,
            "grid_auto_flow": null,
            "grid_auto_rows": null,
            "grid_column": null,
            "grid_gap": null,
            "grid_row": null,
            "grid_template_areas": null,
            "grid_template_columns": null,
            "grid_template_rows": null,
            "height": null,
            "justify_content": null,
            "justify_items": null,
            "left": null,
            "margin": null,
            "max_height": null,
            "max_width": null,
            "min_height": null,
            "min_width": null,
            "object_fit": null,
            "object_position": null,
            "order": null,
            "overflow": null,
            "overflow_x": null,
            "overflow_y": null,
            "padding": null,
            "right": null,
            "top": null,
            "visibility": null,
            "width": null
          }
        },
        "42f6d6d1f34f4b42a6898d06752bdc18": {
          "model_module": "@jupyter-widgets/base",
          "model_module_version": "1.2.0",
          "model_name": "LayoutModel",
          "state": {
            "_model_module": "@jupyter-widgets/base",
            "_model_module_version": "1.2.0",
            "_model_name": "LayoutModel",
            "_view_count": null,
            "_view_module": "@jupyter-widgets/base",
            "_view_module_version": "1.2.0",
            "_view_name": "LayoutView",
            "align_content": null,
            "align_items": null,
            "align_self": null,
            "border": null,
            "bottom": null,
            "display": null,
            "flex": null,
            "flex_flow": null,
            "grid_area": null,
            "grid_auto_columns": null,
            "grid_auto_flow": null,
            "grid_auto_rows": null,
            "grid_column": null,
            "grid_gap": null,
            "grid_row": null,
            "grid_template_areas": null,
            "grid_template_columns": null,
            "grid_template_rows": null,
            "height": null,
            "justify_content": null,
            "justify_items": null,
            "left": null,
            "margin": null,
            "max_height": null,
            "max_width": null,
            "min_height": null,
            "min_width": null,
            "object_fit": null,
            "object_position": null,
            "order": null,
            "overflow": null,
            "overflow_x": null,
            "overflow_y": null,
            "padding": null,
            "right": null,
            "top": null,
            "visibility": null,
            "width": null
          }
        },
        "4ec2710913404d4d96ea51c0973da991": {
          "model_module": "@jupyter-widgets/controls",
          "model_module_version": "1.5.0",
          "model_name": "HBoxModel",
          "state": {
            "_dom_classes": [],
            "_model_module": "@jupyter-widgets/controls",
            "_model_module_version": "1.5.0",
            "_model_name": "HBoxModel",
            "_view_count": null,
            "_view_module": "@jupyter-widgets/controls",
            "_view_module_version": "1.5.0",
            "_view_name": "HBoxView",
            "box_style": "",
            "children": [
              "IPY_MODEL_18256a922f06428bbdb45ebe109995dd",
              "IPY_MODEL_3c4c85b0f89a43f19401fe469929a6e7",
              "IPY_MODEL_d2a35d1992bf4c879203aa2ec9e1e78c"
            ],
            "layout": "IPY_MODEL_ff70fd12c615420f83c86e9da0ed2d32"
          }
        },
        "5542bc273d494634b92ea0d74b3b69b7": {
          "model_module": "@jupyter-widgets/base",
          "model_module_version": "1.2.0",
          "model_name": "LayoutModel",
          "state": {
            "_model_module": "@jupyter-widgets/base",
            "_model_module_version": "1.2.0",
            "_model_name": "LayoutModel",
            "_view_count": null,
            "_view_module": "@jupyter-widgets/base",
            "_view_module_version": "1.2.0",
            "_view_name": "LayoutView",
            "align_content": null,
            "align_items": null,
            "align_self": null,
            "border": null,
            "bottom": null,
            "display": null,
            "flex": null,
            "flex_flow": null,
            "grid_area": null,
            "grid_auto_columns": null,
            "grid_auto_flow": null,
            "grid_auto_rows": null,
            "grid_column": null,
            "grid_gap": null,
            "grid_row": null,
            "grid_template_areas": null,
            "grid_template_columns": null,
            "grid_template_rows": null,
            "height": null,
            "justify_content": null,
            "justify_items": null,
            "left": null,
            "margin": null,
            "max_height": null,
            "max_width": null,
            "min_height": null,
            "min_width": null,
            "object_fit": null,
            "object_position": null,
            "order": null,
            "overflow": null,
            "overflow_x": null,
            "overflow_y": null,
            "padding": null,
            "right": null,
            "top": null,
            "visibility": null,
            "width": null
          }
        },
        "5c8428750ce9446bacae7a2e2f0eaad3": {
          "model_module": "@jupyter-widgets/controls",
          "model_module_version": "1.5.0",
          "model_name": "HTMLModel",
          "state": {
            "_dom_classes": [],
            "_model_module": "@jupyter-widgets/controls",
            "_model_module_version": "1.5.0",
            "_model_name": "HTMLModel",
            "_view_count": null,
            "_view_module": "@jupyter-widgets/controls",
            "_view_module_version": "1.5.0",
            "_view_name": "HTMLView",
            "description": "",
            "description_tooltip": null,
            "layout": "IPY_MODEL_01d3c6f3fc8b4ffb9c20411d943626a2",
            "placeholder": "​",
            "style": "IPY_MODEL_d2e49f3ae44b4d4ab6d66a346bbb4450",
            "value": "(…)-base/resolve/main/tokenizer_config.json: 100%"
          }
        },
        "5e6c1f7ca72d491894feadb788b7f071": {
          "model_module": "@jupyter-widgets/controls",
          "model_module_version": "1.5.0",
          "model_name": "HTMLModel",
          "state": {
            "_dom_classes": [],
            "_model_module": "@jupyter-widgets/controls",
            "_model_module_version": "1.5.0",
            "_model_name": "HTMLModel",
            "_view_count": null,
            "_view_module": "@jupyter-widgets/controls",
            "_view_module_version": "1.5.0",
            "_view_name": "HTMLView",
            "description": "",
            "description_tooltip": null,
            "layout": "IPY_MODEL_e70d11b7b5cb4475b214c0f3d20a8a6f",
            "placeholder": "​",
            "style": "IPY_MODEL_620cd1a1538c4d28aac22600537dad40",
            "value": " 2.61k/2.61k [00:00&lt;00:00, 222kB/s]"
          }
        },
        "620cd1a1538c4d28aac22600537dad40": {
          "model_module": "@jupyter-widgets/controls",
          "model_module_version": "1.5.0",
          "model_name": "DescriptionStyleModel",
          "state": {
            "_model_module": "@jupyter-widgets/controls",
            "_model_module_version": "1.5.0",
            "_model_name": "DescriptionStyleModel",
            "_view_count": null,
            "_view_module": "@jupyter-widgets/base",
            "_view_module_version": "1.2.0",
            "_view_name": "StyleView",
            "description_width": ""
          }
        },
        "66eb14eb0cf74affa60bfacabc1098b1": {
          "model_module": "@jupyter-widgets/controls",
          "model_module_version": "1.5.0",
          "model_name": "ProgressStyleModel",
          "state": {
            "_model_module": "@jupyter-widgets/controls",
            "_model_module_version": "1.5.0",
            "_model_name": "ProgressStyleModel",
            "_view_count": null,
            "_view_module": "@jupyter-widgets/base",
            "_view_module_version": "1.2.0",
            "_view_name": "StyleView",
            "bar_color": null,
            "description_width": ""
          }
        },
        "68ecaaa0fa774345b1f6797de243b514": {
          "model_module": "@jupyter-widgets/base",
          "model_module_version": "1.2.0",
          "model_name": "LayoutModel",
          "state": {
            "_model_module": "@jupyter-widgets/base",
            "_model_module_version": "1.2.0",
            "_model_name": "LayoutModel",
            "_view_count": null,
            "_view_module": "@jupyter-widgets/base",
            "_view_module_version": "1.2.0",
            "_view_name": "LayoutView",
            "align_content": null,
            "align_items": null,
            "align_self": null,
            "border": null,
            "bottom": null,
            "display": null,
            "flex": null,
            "flex_flow": null,
            "grid_area": null,
            "grid_auto_columns": null,
            "grid_auto_flow": null,
            "grid_auto_rows": null,
            "grid_column": null,
            "grid_gap": null,
            "grid_row": null,
            "grid_template_areas": null,
            "grid_template_columns": null,
            "grid_template_rows": null,
            "height": null,
            "justify_content": null,
            "justify_items": null,
            "left": null,
            "margin": null,
            "max_height": null,
            "max_width": null,
            "min_height": null,
            "min_width": null,
            "object_fit": null,
            "object_position": null,
            "order": null,
            "overflow": null,
            "overflow_x": null,
            "overflow_y": null,
            "padding": null,
            "right": null,
            "top": null,
            "visibility": null,
            "width": null
          }
        },
        "703fd3356bf34e79a67687ddf03a70aa": {
          "model_module": "@jupyter-widgets/base",
          "model_module_version": "1.2.0",
          "model_name": "LayoutModel",
          "state": {
            "_model_module": "@jupyter-widgets/base",
            "_model_module_version": "1.2.0",
            "_model_name": "LayoutModel",
            "_view_count": null,
            "_view_module": "@jupyter-widgets/base",
            "_view_module_version": "1.2.0",
            "_view_name": "LayoutView",
            "align_content": null,
            "align_items": null,
            "align_self": null,
            "border": null,
            "bottom": null,
            "display": null,
            "flex": null,
            "flex_flow": null,
            "grid_area": null,
            "grid_auto_columns": null,
            "grid_auto_flow": null,
            "grid_auto_rows": null,
            "grid_column": null,
            "grid_gap": null,
            "grid_row": null,
            "grid_template_areas": null,
            "grid_template_columns": null,
            "grid_template_rows": null,
            "height": null,
            "justify_content": null,
            "justify_items": null,
            "left": null,
            "margin": null,
            "max_height": null,
            "max_width": null,
            "min_height": null,
            "min_width": null,
            "object_fit": null,
            "object_position": null,
            "order": null,
            "overflow": null,
            "overflow_x": null,
            "overflow_y": null,
            "padding": null,
            "right": null,
            "top": null,
            "visibility": null,
            "width": null
          }
        },
        "732eff9c914e4413bb245a00ff790bda": {
          "model_module": "@jupyter-widgets/controls",
          "model_module_version": "1.5.0",
          "model_name": "HTMLModel",
          "state": {
            "_dom_classes": [],
            "_model_module": "@jupyter-widgets/controls",
            "_model_module_version": "1.5.0",
            "_model_name": "HTMLModel",
            "_view_count": null,
            "_view_module": "@jupyter-widgets/controls",
            "_view_module_version": "1.5.0",
            "_view_name": "HTMLView",
            "description": "",
            "description_tooltip": null,
            "layout": "IPY_MODEL_aad10f488e034c5a994b5d5bd0df7b42",
            "placeholder": "​",
            "style": "IPY_MODEL_ed3da3f6457a4177aa4018403baf18f2",
            "value": " 1.13G/1.13G [00:03&lt;00:00, 328MB/s]"
          }
        },
        "747c4bf7d42b4b229c35f98998f7b800": {
          "model_module": "@jupyter-widgets/controls",
          "model_module_version": "1.5.0",
          "model_name": "ProgressStyleModel",
          "state": {
            "_model_module": "@jupyter-widgets/controls",
            "_model_module_version": "1.5.0",
            "_model_name": "ProgressStyleModel",
            "_view_count": null,
            "_view_module": "@jupyter-widgets/base",
            "_view_module_version": "1.2.0",
            "_view_name": "StyleView",
            "bar_color": null,
            "description_width": ""
          }
        },
        "7705dc47be2146c6b37ed43ee45409be": {
          "model_module": "@jupyter-widgets/base",
          "model_module_version": "1.2.0",
          "model_name": "LayoutModel",
          "state": {
            "_model_module": "@jupyter-widgets/base",
            "_model_module_version": "1.2.0",
            "_model_name": "LayoutModel",
            "_view_count": null,
            "_view_module": "@jupyter-widgets/base",
            "_view_module_version": "1.2.0",
            "_view_name": "LayoutView",
            "align_content": null,
            "align_items": null,
            "align_self": null,
            "border": null,
            "bottom": null,
            "display": null,
            "flex": null,
            "flex_flow": null,
            "grid_area": null,
            "grid_auto_columns": null,
            "grid_auto_flow": null,
            "grid_auto_rows": null,
            "grid_column": null,
            "grid_gap": null,
            "grid_row": null,
            "grid_template_areas": null,
            "grid_template_columns": null,
            "grid_template_rows": null,
            "height": null,
            "justify_content": null,
            "justify_items": null,
            "left": null,
            "margin": null,
            "max_height": null,
            "max_width": null,
            "min_height": null,
            "min_width": null,
            "object_fit": null,
            "object_position": null,
            "order": null,
            "overflow": null,
            "overflow_x": null,
            "overflow_y": null,
            "padding": null,
            "right": null,
            "top": null,
            "visibility": null,
            "width": null
          }
        },
        "7ad88f175574479187f2e0c6f1996f39": {
          "model_module": "@jupyter-widgets/base",
          "model_module_version": "1.2.0",
          "model_name": "LayoutModel",
          "state": {
            "_model_module": "@jupyter-widgets/base",
            "_model_module_version": "1.2.0",
            "_model_name": "LayoutModel",
            "_view_count": null,
            "_view_module": "@jupyter-widgets/base",
            "_view_module_version": "1.2.0",
            "_view_name": "LayoutView",
            "align_content": null,
            "align_items": null,
            "align_self": null,
            "border": null,
            "bottom": null,
            "display": null,
            "flex": null,
            "flex_flow": null,
            "grid_area": null,
            "grid_auto_columns": null,
            "grid_auto_flow": null,
            "grid_auto_rows": null,
            "grid_column": null,
            "grid_gap": null,
            "grid_row": null,
            "grid_template_areas": null,
            "grid_template_columns": null,
            "grid_template_rows": null,
            "height": null,
            "justify_content": null,
            "justify_items": null,
            "left": null,
            "margin": null,
            "max_height": null,
            "max_width": null,
            "min_height": null,
            "min_width": null,
            "object_fit": null,
            "object_position": null,
            "order": null,
            "overflow": null,
            "overflow_x": null,
            "overflow_y": null,
            "padding": null,
            "right": null,
            "top": null,
            "visibility": null,
            "width": null
          }
        },
        "84e15b76985d4226aabb18c275b20c6f": {
          "model_module": "@jupyter-widgets/controls",
          "model_module_version": "1.5.0",
          "model_name": "HBoxModel",
          "state": {
            "_dom_classes": [],
            "_model_module": "@jupyter-widgets/controls",
            "_model_module_version": "1.5.0",
            "_model_name": "HBoxModel",
            "_view_count": null,
            "_view_module": "@jupyter-widgets/controls",
            "_view_module_version": "1.5.0",
            "_view_name": "HBoxView",
            "box_style": "",
            "children": [
              "IPY_MODEL_be1935379287455a942cfeb0bf4ad555",
              "IPY_MODEL_ec14d6cdcc3b40ae8ac5ba408bf7343d",
              "IPY_MODEL_d3689ed973ae48fd924b5119108764b1"
            ],
            "layout": "IPY_MODEL_a557877ac77149b3974fbade32c78f1b"
          }
        },
        "84f30438f6d7473e9f41a2e433cddbbe": {
          "model_module": "@jupyter-widgets/controls",
          "model_module_version": "1.5.0",
          "model_name": "HTMLModel",
          "state": {
            "_dom_classes": [],
            "_model_module": "@jupyter-widgets/controls",
            "_model_module_version": "1.5.0",
            "_model_name": "HTMLModel",
            "_view_count": null,
            "_view_module": "@jupyter-widgets/controls",
            "_view_module_version": "1.5.0",
            "_view_name": "HTMLView",
            "description": "",
            "description_tooltip": null,
            "layout": "IPY_MODEL_7ad88f175574479187f2e0c6f1996f39",
            "placeholder": "​",
            "style": "IPY_MODEL_df00d01f81394a35b4c1ee87d4a6d852",
            "value": " 231/231 [00:00&lt;00:00, 18.0kB/s]"
          }
        },
        "854472a694de4db79450b762c8d8745a": {
          "model_module": "@jupyter-widgets/controls",
          "model_module_version": "1.5.0",
          "model_name": "ProgressStyleModel",
          "state": {
            "_model_module": "@jupyter-widgets/controls",
            "_model_module_version": "1.5.0",
            "_model_name": "ProgressStyleModel",
            "_view_count": null,
            "_view_module": "@jupyter-widgets/base",
            "_view_module_version": "1.2.0",
            "_view_name": "StyleView",
            "bar_color": null,
            "description_width": ""
          }
        },
        "86f03c4bcf1d4a2ca9ab9b41daad1f8a": {
          "model_module": "@jupyter-widgets/controls",
          "model_module_version": "1.5.0",
          "model_name": "ProgressStyleModel",
          "state": {
            "_model_module": "@jupyter-widgets/controls",
            "_model_module_version": "1.5.0",
            "_model_name": "ProgressStyleModel",
            "_view_count": null,
            "_view_module": "@jupyter-widgets/base",
            "_view_module_version": "1.2.0",
            "_view_name": "StyleView",
            "bar_color": null,
            "description_width": ""
          }
        },
        "8d8d63a3deac4e86bf90cf9aa31d70b9": {
          "model_module": "@jupyter-widgets/base",
          "model_module_version": "1.2.0",
          "model_name": "LayoutModel",
          "state": {
            "_model_module": "@jupyter-widgets/base",
            "_model_module_version": "1.2.0",
            "_model_name": "LayoutModel",
            "_view_count": null,
            "_view_module": "@jupyter-widgets/base",
            "_view_module_version": "1.2.0",
            "_view_name": "LayoutView",
            "align_content": null,
            "align_items": null,
            "align_self": null,
            "border": null,
            "bottom": null,
            "display": null,
            "flex": null,
            "flex_flow": null,
            "grid_area": null,
            "grid_auto_columns": null,
            "grid_auto_flow": null,
            "grid_auto_rows": null,
            "grid_column": null,
            "grid_gap": null,
            "grid_row": null,
            "grid_template_areas": null,
            "grid_template_columns": null,
            "grid_template_rows": null,
            "height": null,
            "justify_content": null,
            "justify_items": null,
            "left": null,
            "margin": null,
            "max_height": null,
            "max_width": null,
            "min_height": null,
            "min_width": null,
            "object_fit": null,
            "object_position": null,
            "order": null,
            "overflow": null,
            "overflow_x": null,
            "overflow_y": null,
            "padding": null,
            "right": null,
            "top": null,
            "visibility": null,
            "width": null
          }
        },
        "8ebde0b8b70a47128fcbdff93434b73b": {
          "model_module": "@jupyter-widgets/controls",
          "model_module_version": "1.5.0",
          "model_name": "DescriptionStyleModel",
          "state": {
            "_model_module": "@jupyter-widgets/controls",
            "_model_module_version": "1.5.0",
            "_model_name": "DescriptionStyleModel",
            "_view_count": null,
            "_view_module": "@jupyter-widgets/base",
            "_view_module_version": "1.2.0",
            "_view_name": "StyleView",
            "description_width": ""
          }
        },
        "8fdda5adf7014c31ade13e33f747f92b": {
          "model_module": "@jupyter-widgets/controls",
          "model_module_version": "1.5.0",
          "model_name": "HTMLModel",
          "state": {
            "_dom_classes": [],
            "_model_module": "@jupyter-widgets/controls",
            "_model_module_version": "1.5.0",
            "_model_name": "HTMLModel",
            "_view_count": null,
            "_view_module": "@jupyter-widgets/controls",
            "_view_module_version": "1.5.0",
            "_view_name": "HTMLView",
            "description": "",
            "description_tooltip": null,
            "layout": "IPY_MODEL_ab5d9d5bec30468981986ea5fcddf4fb",
            "placeholder": "​",
            "style": "IPY_MODEL_3d0a1758f3c4481eab2591b236f230d4",
            "value": "(…)pix2struct-base/resolve/main/config.json: 100%"
          }
        },
        "90eae9bc5577440d8ac9aafa10a42efb": {
          "model_module": "@jupyter-widgets/base",
          "model_module_version": "1.2.0",
          "model_name": "LayoutModel",
          "state": {
            "_model_module": "@jupyter-widgets/base",
            "_model_module_version": "1.2.0",
            "_model_name": "LayoutModel",
            "_view_count": null,
            "_view_module": "@jupyter-widgets/base",
            "_view_module_version": "1.2.0",
            "_view_name": "LayoutView",
            "align_content": null,
            "align_items": null,
            "align_self": null,
            "border": null,
            "bottom": null,
            "display": null,
            "flex": null,
            "flex_flow": null,
            "grid_area": null,
            "grid_auto_columns": null,
            "grid_auto_flow": null,
            "grid_auto_rows": null,
            "grid_column": null,
            "grid_gap": null,
            "grid_row": null,
            "grid_template_areas": null,
            "grid_template_columns": null,
            "grid_template_rows": null,
            "height": null,
            "justify_content": null,
            "justify_items": null,
            "left": null,
            "margin": null,
            "max_height": null,
            "max_width": null,
            "min_height": null,
            "min_width": null,
            "object_fit": null,
            "object_position": null,
            "order": null,
            "overflow": null,
            "overflow_x": null,
            "overflow_y": null,
            "padding": null,
            "right": null,
            "top": null,
            "visibility": null,
            "width": null
          }
        },
        "912e04b26df84f9ba64f2c8e3d1a746c": {
          "model_module": "@jupyter-widgets/controls",
          "model_module_version": "1.5.0",
          "model_name": "DescriptionStyleModel",
          "state": {
            "_model_module": "@jupyter-widgets/controls",
            "_model_module_version": "1.5.0",
            "_model_name": "DescriptionStyleModel",
            "_view_count": null,
            "_view_module": "@jupyter-widgets/base",
            "_view_module_version": "1.2.0",
            "_view_name": "StyleView",
            "description_width": ""
          }
        },
        "933674cd5cfa43f3a0002c17026b37fb": {
          "model_module": "@jupyter-widgets/base",
          "model_module_version": "1.2.0",
          "model_name": "LayoutModel",
          "state": {
            "_model_module": "@jupyter-widgets/base",
            "_model_module_version": "1.2.0",
            "_model_name": "LayoutModel",
            "_view_count": null,
            "_view_module": "@jupyter-widgets/base",
            "_view_module_version": "1.2.0",
            "_view_name": "LayoutView",
            "align_content": null,
            "align_items": null,
            "align_self": null,
            "border": null,
            "bottom": null,
            "display": null,
            "flex": null,
            "flex_flow": null,
            "grid_area": null,
            "grid_auto_columns": null,
            "grid_auto_flow": null,
            "grid_auto_rows": null,
            "grid_column": null,
            "grid_gap": null,
            "grid_row": null,
            "grid_template_areas": null,
            "grid_template_columns": null,
            "grid_template_rows": null,
            "height": null,
            "justify_content": null,
            "justify_items": null,
            "left": null,
            "margin": null,
            "max_height": null,
            "max_width": null,
            "min_height": null,
            "min_width": null,
            "object_fit": null,
            "object_position": null,
            "order": null,
            "overflow": null,
            "overflow_x": null,
            "overflow_y": null,
            "padding": null,
            "right": null,
            "top": null,
            "visibility": null,
            "width": null
          }
        },
        "a0ecfd1e79ce43898b0e089ca079a446": {
          "model_module": "@jupyter-widgets/base",
          "model_module_version": "1.2.0",
          "model_name": "LayoutModel",
          "state": {
            "_model_module": "@jupyter-widgets/base",
            "_model_module_version": "1.2.0",
            "_model_name": "LayoutModel",
            "_view_count": null,
            "_view_module": "@jupyter-widgets/base",
            "_view_module_version": "1.2.0",
            "_view_name": "LayoutView",
            "align_content": null,
            "align_items": null,
            "align_self": null,
            "border": null,
            "bottom": null,
            "display": null,
            "flex": null,
            "flex_flow": null,
            "grid_area": null,
            "grid_auto_columns": null,
            "grid_auto_flow": null,
            "grid_auto_rows": null,
            "grid_column": null,
            "grid_gap": null,
            "grid_row": null,
            "grid_template_areas": null,
            "grid_template_columns": null,
            "grid_template_rows": null,
            "height": null,
            "justify_content": null,
            "justify_items": null,
            "left": null,
            "margin": null,
            "max_height": null,
            "max_width": null,
            "min_height": null,
            "min_width": null,
            "object_fit": null,
            "object_position": null,
            "order": null,
            "overflow": null,
            "overflow_x": null,
            "overflow_y": null,
            "padding": null,
            "right": null,
            "top": null,
            "visibility": null,
            "width": null
          }
        },
        "a17e2f77e8e647a19c046aa07c8dd51e": {
          "model_module": "@jupyter-widgets/base",
          "model_module_version": "1.2.0",
          "model_name": "LayoutModel",
          "state": {
            "_model_module": "@jupyter-widgets/base",
            "_model_module_version": "1.2.0",
            "_model_name": "LayoutModel",
            "_view_count": null,
            "_view_module": "@jupyter-widgets/base",
            "_view_module_version": "1.2.0",
            "_view_name": "LayoutView",
            "align_content": null,
            "align_items": null,
            "align_self": null,
            "border": null,
            "bottom": null,
            "display": null,
            "flex": null,
            "flex_flow": null,
            "grid_area": null,
            "grid_auto_columns": null,
            "grid_auto_flow": null,
            "grid_auto_rows": null,
            "grid_column": null,
            "grid_gap": null,
            "grid_row": null,
            "grid_template_areas": null,
            "grid_template_columns": null,
            "grid_template_rows": null,
            "height": null,
            "justify_content": null,
            "justify_items": null,
            "left": null,
            "margin": null,
            "max_height": null,
            "max_width": null,
            "min_height": null,
            "min_width": null,
            "object_fit": null,
            "object_position": null,
            "order": null,
            "overflow": null,
            "overflow_x": null,
            "overflow_y": null,
            "padding": null,
            "right": null,
            "top": null,
            "visibility": null,
            "width": null
          }
        },
        "a557877ac77149b3974fbade32c78f1b": {
          "model_module": "@jupyter-widgets/base",
          "model_module_version": "1.2.0",
          "model_name": "LayoutModel",
          "state": {
            "_model_module": "@jupyter-widgets/base",
            "_model_module_version": "1.2.0",
            "_model_name": "LayoutModel",
            "_view_count": null,
            "_view_module": "@jupyter-widgets/base",
            "_view_module_version": "1.2.0",
            "_view_name": "LayoutView",
            "align_content": null,
            "align_items": null,
            "align_self": null,
            "border": null,
            "bottom": null,
            "display": null,
            "flex": null,
            "flex_flow": null,
            "grid_area": null,
            "grid_auto_columns": null,
            "grid_auto_flow": null,
            "grid_auto_rows": null,
            "grid_column": null,
            "grid_gap": null,
            "grid_row": null,
            "grid_template_areas": null,
            "grid_template_columns": null,
            "grid_template_rows": null,
            "height": null,
            "justify_content": null,
            "justify_items": null,
            "left": null,
            "margin": null,
            "max_height": null,
            "max_width": null,
            "min_height": null,
            "min_width": null,
            "object_fit": null,
            "object_position": null,
            "order": null,
            "overflow": null,
            "overflow_x": null,
            "overflow_y": null,
            "padding": null,
            "right": null,
            "top": null,
            "visibility": null,
            "width": null
          }
        },
        "a69c83ff534148b68e09bd23870a392e": {
          "model_module": "@jupyter-widgets/controls",
          "model_module_version": "1.5.0",
          "model_name": "DescriptionStyleModel",
          "state": {
            "_model_module": "@jupyter-widgets/controls",
            "_model_module_version": "1.5.0",
            "_model_name": "DescriptionStyleModel",
            "_view_count": null,
            "_view_module": "@jupyter-widgets/base",
            "_view_module_version": "1.2.0",
            "_view_name": "StyleView",
            "description_width": ""
          }
        },
        "aad10f488e034c5a994b5d5bd0df7b42": {
          "model_module": "@jupyter-widgets/base",
          "model_module_version": "1.2.0",
          "model_name": "LayoutModel",
          "state": {
            "_model_module": "@jupyter-widgets/base",
            "_model_module_version": "1.2.0",
            "_model_name": "LayoutModel",
            "_view_count": null,
            "_view_module": "@jupyter-widgets/base",
            "_view_module_version": "1.2.0",
            "_view_name": "LayoutView",
            "align_content": null,
            "align_items": null,
            "align_self": null,
            "border": null,
            "bottom": null,
            "display": null,
            "flex": null,
            "flex_flow": null,
            "grid_area": null,
            "grid_auto_columns": null,
            "grid_auto_flow": null,
            "grid_auto_rows": null,
            "grid_column": null,
            "grid_gap": null,
            "grid_row": null,
            "grid_template_areas": null,
            "grid_template_columns": null,
            "grid_template_rows": null,
            "height": null,
            "justify_content": null,
            "justify_items": null,
            "left": null,
            "margin": null,
            "max_height": null,
            "max_width": null,
            "min_height": null,
            "min_width": null,
            "object_fit": null,
            "object_position": null,
            "order": null,
            "overflow": null,
            "overflow_x": null,
            "overflow_y": null,
            "padding": null,
            "right": null,
            "top": null,
            "visibility": null,
            "width": null
          }
        },
        "ab5d9d5bec30468981986ea5fcddf4fb": {
          "model_module": "@jupyter-widgets/base",
          "model_module_version": "1.2.0",
          "model_name": "LayoutModel",
          "state": {
            "_model_module": "@jupyter-widgets/base",
            "_model_module_version": "1.2.0",
            "_model_name": "LayoutModel",
            "_view_count": null,
            "_view_module": "@jupyter-widgets/base",
            "_view_module_version": "1.2.0",
            "_view_name": "LayoutView",
            "align_content": null,
            "align_items": null,
            "align_self": null,
            "border": null,
            "bottom": null,
            "display": null,
            "flex": null,
            "flex_flow": null,
            "grid_area": null,
            "grid_auto_columns": null,
            "grid_auto_flow": null,
            "grid_auto_rows": null,
            "grid_column": null,
            "grid_gap": null,
            "grid_row": null,
            "grid_template_areas": null,
            "grid_template_columns": null,
            "grid_template_rows": null,
            "height": null,
            "justify_content": null,
            "justify_items": null,
            "left": null,
            "margin": null,
            "max_height": null,
            "max_width": null,
            "min_height": null,
            "min_width": null,
            "object_fit": null,
            "object_position": null,
            "order": null,
            "overflow": null,
            "overflow_x": null,
            "overflow_y": null,
            "padding": null,
            "right": null,
            "top": null,
            "visibility": null,
            "width": null
          }
        },
        "ae2810ab03534b3e9cde931b9ea7f55c": {
          "model_module": "@jupyter-widgets/controls",
          "model_module_version": "1.5.0",
          "model_name": "FloatProgressModel",
          "state": {
            "_dom_classes": [],
            "_model_module": "@jupyter-widgets/controls",
            "_model_module_version": "1.5.0",
            "_model_name": "FloatProgressModel",
            "_view_count": null,
            "_view_module": "@jupyter-widgets/controls",
            "_view_module_version": "1.5.0",
            "_view_name": "ProgressView",
            "bar_style": "success",
            "description": "",
            "description_tooltip": null,
            "layout": "IPY_MODEL_a17e2f77e8e647a19c046aa07c8dd51e",
            "max": 231,
            "min": 0,
            "orientation": "horizontal",
            "style": "IPY_MODEL_66eb14eb0cf74affa60bfacabc1098b1",
            "value": 231
          }
        },
        "b16649f034ed46f9af3eb4222cb87636": {
          "model_module": "@jupyter-widgets/controls",
          "model_module_version": "1.5.0",
          "model_name": "FloatProgressModel",
          "state": {
            "_dom_classes": [],
            "_model_module": "@jupyter-widgets/controls",
            "_model_module_version": "1.5.0",
            "_model_name": "FloatProgressModel",
            "_view_count": null,
            "_view_module": "@jupyter-widgets/controls",
            "_view_module_version": "1.5.0",
            "_view_name": "ProgressView",
            "bar_style": "success",
            "description": "",
            "description_tooltip": null,
            "layout": "IPY_MODEL_90eae9bc5577440d8ac9aafa10a42efb",
            "max": 2613,
            "min": 0,
            "orientation": "horizontal",
            "style": "IPY_MODEL_747c4bf7d42b4b229c35f98998f7b800",
            "value": 2613
          }
        },
        "b51e5bfb88e34b68a959188bfd56f607": {
          "model_module": "@jupyter-widgets/controls",
          "model_module_version": "1.5.0",
          "model_name": "DescriptionStyleModel",
          "state": {
            "_model_module": "@jupyter-widgets/controls",
            "_model_module_version": "1.5.0",
            "_model_name": "DescriptionStyleModel",
            "_view_count": null,
            "_view_module": "@jupyter-widgets/base",
            "_view_module_version": "1.2.0",
            "_view_name": "StyleView",
            "description_width": ""
          }
        },
        "bad40ba94fe44a17bcd68143dc5c6d91": {
          "model_module": "@jupyter-widgets/base",
          "model_module_version": "1.2.0",
          "model_name": "LayoutModel",
          "state": {
            "_model_module": "@jupyter-widgets/base",
            "_model_module_version": "1.2.0",
            "_model_name": "LayoutModel",
            "_view_count": null,
            "_view_module": "@jupyter-widgets/base",
            "_view_module_version": "1.2.0",
            "_view_name": "LayoutView",
            "align_content": null,
            "align_items": null,
            "align_self": null,
            "border": null,
            "bottom": null,
            "display": null,
            "flex": null,
            "flex_flow": null,
            "grid_area": null,
            "grid_auto_columns": null,
            "grid_auto_flow": null,
            "grid_auto_rows": null,
            "grid_column": null,
            "grid_gap": null,
            "grid_row": null,
            "grid_template_areas": null,
            "grid_template_columns": null,
            "grid_template_rows": null,
            "height": null,
            "justify_content": null,
            "justify_items": null,
            "left": null,
            "margin": null,
            "max_height": null,
            "max_width": null,
            "min_height": null,
            "min_width": null,
            "object_fit": null,
            "object_position": null,
            "order": null,
            "overflow": null,
            "overflow_x": null,
            "overflow_y": null,
            "padding": null,
            "right": null,
            "top": null,
            "visibility": null,
            "width": null
          }
        },
        "bb6526ef35bd438e8189a251fdb45471": {
          "model_module": "@jupyter-widgets/controls",
          "model_module_version": "1.5.0",
          "model_name": "ProgressStyleModel",
          "state": {
            "_model_module": "@jupyter-widgets/controls",
            "_model_module_version": "1.5.0",
            "_model_name": "ProgressStyleModel",
            "_view_count": null,
            "_view_module": "@jupyter-widgets/base",
            "_view_module_version": "1.2.0",
            "_view_name": "StyleView",
            "bar_color": null,
            "description_width": ""
          }
        },
        "bc214ab05bc547c2a1c6c1ac233373b8": {
          "model_module": "@jupyter-widgets/controls",
          "model_module_version": "1.5.0",
          "model_name": "DescriptionStyleModel",
          "state": {
            "_model_module": "@jupyter-widgets/controls",
            "_model_module_version": "1.5.0",
            "_model_name": "DescriptionStyleModel",
            "_view_count": null,
            "_view_module": "@jupyter-widgets/base",
            "_view_module_version": "1.2.0",
            "_view_name": "StyleView",
            "description_width": ""
          }
        },
        "be1935379287455a942cfeb0bf4ad555": {
          "model_module": "@jupyter-widgets/controls",
          "model_module_version": "1.5.0",
          "model_name": "HTMLModel",
          "state": {
            "_dom_classes": [],
            "_model_module": "@jupyter-widgets/controls",
            "_model_module_version": "1.5.0",
            "_model_name": "HTMLModel",
            "_view_count": null,
            "_view_module": "@jupyter-widgets/controls",
            "_view_module_version": "1.5.0",
            "_view_name": "HTMLView",
            "description": "",
            "description_tooltip": null,
            "layout": "IPY_MODEL_41eceb513d9546ac9bf4ad6c55cda710",
            "placeholder": "​",
            "style": "IPY_MODEL_1b7b8b92d02c4ab88e9fe69050f3fc85",
            "value": "(…)2struct-base/resolve/main/tokenizer.json: 100%"
          }
        },
        "c5e9deea49b641f1afc494f8efd8d2e2": {
          "model_module": "@jupyter-widgets/controls",
          "model_module_version": "1.5.0",
          "model_name": "HTMLModel",
          "state": {
            "_dom_classes": [],
            "_model_module": "@jupyter-widgets/controls",
            "_model_module_version": "1.5.0",
            "_model_name": "HTMLModel",
            "_view_count": null,
            "_view_module": "@jupyter-widgets/controls",
            "_view_module_version": "1.5.0",
            "_view_name": "HTMLView",
            "description": "",
            "description_tooltip": null,
            "layout": "IPY_MODEL_703fd3356bf34e79a67687ddf03a70aa",
            "placeholder": "​",
            "style": "IPY_MODEL_a69c83ff534148b68e09bd23870a392e",
            "value": " 4.92k/4.92k [00:00&lt;00:00, 369kB/s]"
          }
        },
        "c90ddfd896324edf8044c9c101729880": {
          "model_module": "@jupyter-widgets/controls",
          "model_module_version": "1.5.0",
          "model_name": "FloatProgressModel",
          "state": {
            "_dom_classes": [],
            "_model_module": "@jupyter-widgets/controls",
            "_model_module_version": "1.5.0",
            "_model_name": "FloatProgressModel",
            "_view_count": null,
            "_view_module": "@jupyter-widgets/controls",
            "_view_module_version": "1.5.0",
            "_view_name": "ProgressView",
            "bar_style": "success",
            "description": "",
            "description_tooltip": null,
            "layout": "IPY_MODEL_a0ecfd1e79ce43898b0e089ca079a446",
            "max": 851388,
            "min": 0,
            "orientation": "horizontal",
            "style": "IPY_MODEL_da6ac72a85964564b075bd45e2d4e4e9",
            "value": 851388
          }
        },
        "cafc2b682e324af19552df9aa1f363ae": {
          "model_module": "@jupyter-widgets/controls",
          "model_module_version": "1.5.0",
          "model_name": "DescriptionStyleModel",
          "state": {
            "_model_module": "@jupyter-widgets/controls",
            "_model_module_version": "1.5.0",
            "_model_name": "DescriptionStyleModel",
            "_view_count": null,
            "_view_module": "@jupyter-widgets/base",
            "_view_module_version": "1.2.0",
            "_view_name": "StyleView",
            "description_width": ""
          }
        },
        "d2a35d1992bf4c879203aa2ec9e1e78c": {
          "model_module": "@jupyter-widgets/controls",
          "model_module_version": "1.5.0",
          "model_name": "HTMLModel",
          "state": {
            "_dom_classes": [],
            "_model_module": "@jupyter-widgets/controls",
            "_model_module_version": "1.5.0",
            "_model_name": "HTMLModel",
            "_view_count": null,
            "_view_module": "@jupyter-widgets/controls",
            "_view_module_version": "1.5.0",
            "_view_name": "HTMLView",
            "description": "",
            "description_tooltip": null,
            "layout": "IPY_MODEL_0f98b1bc6ac74222b9f15fa558cc48cc",
            "placeholder": "​",
            "style": "IPY_MODEL_bc214ab05bc547c2a1c6c1ac233373b8",
            "value": " 2.20k/2.20k [00:00&lt;00:00, 194kB/s]"
          }
        },
        "d2e49f3ae44b4d4ab6d66a346bbb4450": {
          "model_module": "@jupyter-widgets/controls",
          "model_module_version": "1.5.0",
          "model_name": "DescriptionStyleModel",
          "state": {
            "_model_module": "@jupyter-widgets/controls",
            "_model_module_version": "1.5.0",
            "_model_name": "DescriptionStyleModel",
            "_view_count": null,
            "_view_module": "@jupyter-widgets/base",
            "_view_module_version": "1.2.0",
            "_view_name": "StyleView",
            "description_width": ""
          }
        },
        "d3689ed973ae48fd924b5119108764b1": {
          "model_module": "@jupyter-widgets/controls",
          "model_module_version": "1.5.0",
          "model_name": "HTMLModel",
          "state": {
            "_dom_classes": [],
            "_model_module": "@jupyter-widgets/controls",
            "_model_module_version": "1.5.0",
            "_model_name": "HTMLModel",
            "_view_count": null,
            "_view_module": "@jupyter-widgets/controls",
            "_view_module_version": "1.5.0",
            "_view_name": "HTMLView",
            "description": "",
            "description_tooltip": null,
            "layout": "IPY_MODEL_8d8d63a3deac4e86bf90cf9aa31d70b9",
            "placeholder": "​",
            "style": "IPY_MODEL_8ebde0b8b70a47128fcbdff93434b73b",
            "value": " 3.27M/3.27M [00:00&lt;00:00, 8.07MB/s]"
          }
        },
        "d9dfdd38fe3a4dde9303175badb43dc5": {
          "model_module": "@jupyter-widgets/controls",
          "model_module_version": "1.5.0",
          "model_name": "HTMLModel",
          "state": {
            "_dom_classes": [],
            "_model_module": "@jupyter-widgets/controls",
            "_model_module_version": "1.5.0",
            "_model_name": "HTMLModel",
            "_view_count": null,
            "_view_module": "@jupyter-widgets/controls",
            "_view_module_version": "1.5.0",
            "_view_name": "HTMLView",
            "description": "",
            "description_tooltip": null,
            "layout": "IPY_MODEL_2f0a582991894d2f8b073a771025b6e0",
            "placeholder": "​",
            "style": "IPY_MODEL_b51e5bfb88e34b68a959188bfd56f607",
            "value": "spiece.model: 100%"
          }
        },
        "da6ac72a85964564b075bd45e2d4e4e9": {
          "model_module": "@jupyter-widgets/controls",
          "model_module_version": "1.5.0",
          "model_name": "ProgressStyleModel",
          "state": {
            "_model_module": "@jupyter-widgets/controls",
            "_model_module_version": "1.5.0",
            "_model_name": "ProgressStyleModel",
            "_view_count": null,
            "_view_module": "@jupyter-widgets/base",
            "_view_module_version": "1.2.0",
            "_view_name": "StyleView",
            "bar_color": null,
            "description_width": ""
          }
        },
        "dcde4bfe77eb45f5a55019fd59ca3a8b": {
          "model_module": "@jupyter-widgets/base",
          "model_module_version": "1.2.0",
          "model_name": "LayoutModel",
          "state": {
            "_model_module": "@jupyter-widgets/base",
            "_model_module_version": "1.2.0",
            "_model_name": "LayoutModel",
            "_view_count": null,
            "_view_module": "@jupyter-widgets/base",
            "_view_module_version": "1.2.0",
            "_view_name": "LayoutView",
            "align_content": null,
            "align_items": null,
            "align_self": null,
            "border": null,
            "bottom": null,
            "display": null,
            "flex": null,
            "flex_flow": null,
            "grid_area": null,
            "grid_auto_columns": null,
            "grid_auto_flow": null,
            "grid_auto_rows": null,
            "grid_column": null,
            "grid_gap": null,
            "grid_row": null,
            "grid_template_areas": null,
            "grid_template_columns": null,
            "grid_template_rows": null,
            "height": null,
            "justify_content": null,
            "justify_items": null,
            "left": null,
            "margin": null,
            "max_height": null,
            "max_width": null,
            "min_height": null,
            "min_width": null,
            "object_fit": null,
            "object_position": null,
            "order": null,
            "overflow": null,
            "overflow_x": null,
            "overflow_y": null,
            "padding": null,
            "right": null,
            "top": null,
            "visibility": null,
            "width": null
          }
        },
        "df00d01f81394a35b4c1ee87d4a6d852": {
          "model_module": "@jupyter-widgets/controls",
          "model_module_version": "1.5.0",
          "model_name": "DescriptionStyleModel",
          "state": {
            "_model_module": "@jupyter-widgets/controls",
            "_model_module_version": "1.5.0",
            "_model_name": "DescriptionStyleModel",
            "_view_count": null,
            "_view_module": "@jupyter-widgets/base",
            "_view_module_version": "1.2.0",
            "_view_name": "StyleView",
            "description_width": ""
          }
        },
        "e2e37d2cffe84464a20960584f2da1df": {
          "model_module": "@jupyter-widgets/controls",
          "model_module_version": "1.5.0",
          "model_name": "HBoxModel",
          "state": {
            "_dom_classes": [],
            "_model_module": "@jupyter-widgets/controls",
            "_model_module_version": "1.5.0",
            "_model_name": "HBoxModel",
            "_view_count": null,
            "_view_module": "@jupyter-widgets/controls",
            "_view_module_version": "1.5.0",
            "_view_name": "HBoxView",
            "box_style": "",
            "children": [
              "IPY_MODEL_8fdda5adf7014c31ade13e33f747f92b",
              "IPY_MODEL_1e5b3045ff7845a2878b58e2c4c5d6b3",
              "IPY_MODEL_c5e9deea49b641f1afc494f8efd8d2e2"
            ],
            "layout": "IPY_MODEL_0639cd02b9d34a88a27323c1d2968713"
          }
        },
        "e332abf61d27415f8f1e77d5682deab2": {
          "model_module": "@jupyter-widgets/controls",
          "model_module_version": "1.5.0",
          "model_name": "FloatProgressModel",
          "state": {
            "_dom_classes": [],
            "_model_module": "@jupyter-widgets/controls",
            "_model_module_version": "1.5.0",
            "_model_name": "FloatProgressModel",
            "_view_count": null,
            "_view_module": "@jupyter-widgets/controls",
            "_view_module_version": "1.5.0",
            "_view_name": "ProgressView",
            "bar_style": "success",
            "description": "",
            "description_tooltip": null,
            "layout": "IPY_MODEL_7705dc47be2146c6b37ed43ee45409be",
            "max": 1129238081,
            "min": 0,
            "orientation": "horizontal",
            "style": "IPY_MODEL_854472a694de4db79450b762c8d8745a",
            "value": 1129238081
          }
        },
        "e70d11b7b5cb4475b214c0f3d20a8a6f": {
          "model_module": "@jupyter-widgets/base",
          "model_module_version": "1.2.0",
          "model_name": "LayoutModel",
          "state": {
            "_model_module": "@jupyter-widgets/base",
            "_model_module_version": "1.2.0",
            "_model_name": "LayoutModel",
            "_view_count": null,
            "_view_module": "@jupyter-widgets/base",
            "_view_module_version": "1.2.0",
            "_view_name": "LayoutView",
            "align_content": null,
            "align_items": null,
            "align_self": null,
            "border": null,
            "bottom": null,
            "display": null,
            "flex": null,
            "flex_flow": null,
            "grid_area": null,
            "grid_auto_columns": null,
            "grid_auto_flow": null,
            "grid_auto_rows": null,
            "grid_column": null,
            "grid_gap": null,
            "grid_row": null,
            "grid_template_areas": null,
            "grid_template_columns": null,
            "grid_template_rows": null,
            "height": null,
            "justify_content": null,
            "justify_items": null,
            "left": null,
            "margin": null,
            "max_height": null,
            "max_width": null,
            "min_height": null,
            "min_width": null,
            "object_fit": null,
            "object_position": null,
            "order": null,
            "overflow": null,
            "overflow_x": null,
            "overflow_y": null,
            "padding": null,
            "right": null,
            "top": null,
            "visibility": null,
            "width": null
          }
        },
        "ec14d6cdcc3b40ae8ac5ba408bf7343d": {
          "model_module": "@jupyter-widgets/controls",
          "model_module_version": "1.5.0",
          "model_name": "FloatProgressModel",
          "state": {
            "_dom_classes": [],
            "_model_module": "@jupyter-widgets/controls",
            "_model_module_version": "1.5.0",
            "_model_name": "FloatProgressModel",
            "_view_count": null,
            "_view_module": "@jupyter-widgets/controls",
            "_view_module_version": "1.5.0",
            "_view_name": "ProgressView",
            "bar_style": "success",
            "description": "",
            "description_tooltip": null,
            "layout": "IPY_MODEL_17e2408f9cfc4b72840868b89f6d5b5e",
            "max": 3265159,
            "min": 0,
            "orientation": "horizontal",
            "style": "IPY_MODEL_86f03c4bcf1d4a2ca9ab9b41daad1f8a",
            "value": 3265159
          }
        },
        "ed3da3f6457a4177aa4018403baf18f2": {
          "model_module": "@jupyter-widgets/controls",
          "model_module_version": "1.5.0",
          "model_name": "DescriptionStyleModel",
          "state": {
            "_model_module": "@jupyter-widgets/controls",
            "_model_module_version": "1.5.0",
            "_model_name": "DescriptionStyleModel",
            "_view_count": null,
            "_view_module": "@jupyter-widgets/base",
            "_view_module_version": "1.2.0",
            "_view_name": "StyleView",
            "description_width": ""
          }
        },
        "f7a5cfebfb594511b7a35a24d6d161a4": {
          "model_module": "@jupyter-widgets/base",
          "model_module_version": "1.2.0",
          "model_name": "LayoutModel",
          "state": {
            "_model_module": "@jupyter-widgets/base",
            "_model_module_version": "1.2.0",
            "_model_name": "LayoutModel",
            "_view_count": null,
            "_view_module": "@jupyter-widgets/base",
            "_view_module_version": "1.2.0",
            "_view_name": "LayoutView",
            "align_content": null,
            "align_items": null,
            "align_self": null,
            "border": null,
            "bottom": null,
            "display": null,
            "flex": null,
            "flex_flow": null,
            "grid_area": null,
            "grid_auto_columns": null,
            "grid_auto_flow": null,
            "grid_auto_rows": null,
            "grid_column": null,
            "grid_gap": null,
            "grid_row": null,
            "grid_template_areas": null,
            "grid_template_columns": null,
            "grid_template_rows": null,
            "height": null,
            "justify_content": null,
            "justify_items": null,
            "left": null,
            "margin": null,
            "max_height": null,
            "max_width": null,
            "min_height": null,
            "min_width": null,
            "object_fit": null,
            "object_position": null,
            "order": null,
            "overflow": null,
            "overflow_x": null,
            "overflow_y": null,
            "padding": null,
            "right": null,
            "top": null,
            "visibility": null,
            "width": null
          }
        },
        "fa01f9a8572f48b88dfac02821c9db49": {
          "model_module": "@jupyter-widgets/controls",
          "model_module_version": "1.5.0",
          "model_name": "HBoxModel",
          "state": {
            "_dom_classes": [],
            "_model_module": "@jupyter-widgets/controls",
            "_model_module_version": "1.5.0",
            "_model_name": "HBoxModel",
            "_view_count": null,
            "_view_module": "@jupyter-widgets/controls",
            "_view_module_version": "1.5.0",
            "_view_name": "HBoxView",
            "box_style": "",
            "children": [
              "IPY_MODEL_5c8428750ce9446bacae7a2e2f0eaad3",
              "IPY_MODEL_b16649f034ed46f9af3eb4222cb87636",
              "IPY_MODEL_5e6c1f7ca72d491894feadb788b7f071"
            ],
            "layout": "IPY_MODEL_bad40ba94fe44a17bcd68143dc5c6d91"
          }
        },
        "fa2342426fa94d54b83437dd7037dd30": {
          "model_module": "@jupyter-widgets/controls",
          "model_module_version": "1.5.0",
          "model_name": "HTMLModel",
          "state": {
            "_dom_classes": [],
            "_model_module": "@jupyter-widgets/controls",
            "_model_module_version": "1.5.0",
            "_model_name": "HTMLModel",
            "_view_count": null,
            "_view_module": "@jupyter-widgets/controls",
            "_view_module_version": "1.5.0",
            "_view_name": "HTMLView",
            "description": "",
            "description_tooltip": null,
            "layout": "IPY_MODEL_dcde4bfe77eb45f5a55019fd59ca3a8b",
            "placeholder": "​",
            "style": "IPY_MODEL_17821d44bdb447d198a324286385a52f",
            "value": "(…)se/resolve/main/preprocessor_config.json: 100%"
          }
        },
        "ff70fd12c615420f83c86e9da0ed2d32": {
          "model_module": "@jupyter-widgets/base",
          "model_module_version": "1.2.0",
          "model_name": "LayoutModel",
          "state": {
            "_model_module": "@jupyter-widgets/base",
            "_model_module_version": "1.2.0",
            "_model_name": "LayoutModel",
            "_view_count": null,
            "_view_module": "@jupyter-widgets/base",
            "_view_module_version": "1.2.0",
            "_view_name": "LayoutView",
            "align_content": null,
            "align_items": null,
            "align_self": null,
            "border": null,
            "bottom": null,
            "display": null,
            "flex": null,
            "flex_flow": null,
            "grid_area": null,
            "grid_auto_columns": null,
            "grid_auto_flow": null,
            "grid_auto_rows": null,
            "grid_column": null,
            "grid_gap": null,
            "grid_row": null,
            "grid_template_areas": null,
            "grid_template_columns": null,
            "grid_template_rows": null,
            "height": null,
            "justify_content": null,
            "justify_items": null,
            "left": null,
            "margin": null,
            "max_height": null,
            "max_width": null,
            "min_height": null,
            "min_width": null,
            "object_fit": null,
            "object_position": null,
            "order": null,
            "overflow": null,
            "overflow_x": null,
            "overflow_y": null,
            "padding": null,
            "right": null,
            "top": null,
            "visibility": null,
            "width": null
          }
        }
      }
    }
  },
  "nbformat": 4,
  "nbformat_minor": 0
}
