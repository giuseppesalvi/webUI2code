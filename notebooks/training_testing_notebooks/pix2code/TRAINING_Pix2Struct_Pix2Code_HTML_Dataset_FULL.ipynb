{
  "nbformat": 4,
  "nbformat_minor": 0,
  "metadata": {
    "colab": {
      "provenance": [],
      "machine_shape": "hm",
      "gpuType": "A100"
    },
    "kernelspec": {
      "name": "python3",
      "display_name": "Python 3"
    },
    "language_info": {
      "name": "python"
    },
    "accelerator": "GPU",
    "widgets": {
      "application/vnd.jupyter.widget-state+json": {
        "b3aa0a1ed7dc4cc4bbf5dec2c9cbf173": {
          "model_module": "@jupyter-widgets/controls",
          "model_name": "HBoxModel",
          "model_module_version": "1.5.0",
          "state": {
            "_dom_classes": [],
            "_model_module": "@jupyter-widgets/controls",
            "_model_module_version": "1.5.0",
            "_model_name": "HBoxModel",
            "_view_count": null,
            "_view_module": "@jupyter-widgets/controls",
            "_view_module_version": "1.5.0",
            "_view_name": "HBoxView",
            "box_style": "",
            "children": [
              "IPY_MODEL_46686b492efa40dabd9fe9af03ae084a",
              "IPY_MODEL_c2bb98455241447ba1baaebe5008d826",
              "IPY_MODEL_9a13082a4bb44e99844ddb4408dd0fbb"
            ],
            "layout": "IPY_MODEL_6c65ea277363433eb1659cc6148bfff4"
          }
        },
        "46686b492efa40dabd9fe9af03ae084a": {
          "model_module": "@jupyter-widgets/controls",
          "model_name": "HTMLModel",
          "model_module_version": "1.5.0",
          "state": {
            "_dom_classes": [],
            "_model_module": "@jupyter-widgets/controls",
            "_model_module_version": "1.5.0",
            "_model_name": "HTMLModel",
            "_view_count": null,
            "_view_module": "@jupyter-widgets/controls",
            "_view_module_version": "1.5.0",
            "_view_name": "HTMLView",
            "description": "",
            "description_tooltip": null,
            "layout": "IPY_MODEL_43d79b6f657b424fb7360bed475b7ab1",
            "placeholder": "​",
            "style": "IPY_MODEL_36222664e0bf4d1d9a2ff7904d2d662c",
            "value": "Downloading (…)rocessor_config.json: 100%"
          }
        },
        "c2bb98455241447ba1baaebe5008d826": {
          "model_module": "@jupyter-widgets/controls",
          "model_name": "FloatProgressModel",
          "model_module_version": "1.5.0",
          "state": {
            "_dom_classes": [],
            "_model_module": "@jupyter-widgets/controls",
            "_model_module_version": "1.5.0",
            "_model_name": "FloatProgressModel",
            "_view_count": null,
            "_view_module": "@jupyter-widgets/controls",
            "_view_module_version": "1.5.0",
            "_view_name": "ProgressView",
            "bar_style": "success",
            "description": "",
            "description_tooltip": null,
            "layout": "IPY_MODEL_9707c0523fb447c6968d7e012891beb0",
            "max": 231,
            "min": 0,
            "orientation": "horizontal",
            "style": "IPY_MODEL_f301490f8ad347dd8fe01ecce1c7b61e",
            "value": 231
          }
        },
        "9a13082a4bb44e99844ddb4408dd0fbb": {
          "model_module": "@jupyter-widgets/controls",
          "model_name": "HTMLModel",
          "model_module_version": "1.5.0",
          "state": {
            "_dom_classes": [],
            "_model_module": "@jupyter-widgets/controls",
            "_model_module_version": "1.5.0",
            "_model_name": "HTMLModel",
            "_view_count": null,
            "_view_module": "@jupyter-widgets/controls",
            "_view_module_version": "1.5.0",
            "_view_name": "HTMLView",
            "description": "",
            "description_tooltip": null,
            "layout": "IPY_MODEL_25db4bf67f514150aae1eae99011cdf5",
            "placeholder": "​",
            "style": "IPY_MODEL_15d3a234e1e84f2b8b54137dd5ebf5de",
            "value": " 231/231 [00:00&lt;00:00, 21.7kB/s]"
          }
        },
        "6c65ea277363433eb1659cc6148bfff4": {
          "model_module": "@jupyter-widgets/base",
          "model_name": "LayoutModel",
          "model_module_version": "1.2.0",
          "state": {
            "_model_module": "@jupyter-widgets/base",
            "_model_module_version": "1.2.0",
            "_model_name": "LayoutModel",
            "_view_count": null,
            "_view_module": "@jupyter-widgets/base",
            "_view_module_version": "1.2.0",
            "_view_name": "LayoutView",
            "align_content": null,
            "align_items": null,
            "align_self": null,
            "border": null,
            "bottom": null,
            "display": null,
            "flex": null,
            "flex_flow": null,
            "grid_area": null,
            "grid_auto_columns": null,
            "grid_auto_flow": null,
            "grid_auto_rows": null,
            "grid_column": null,
            "grid_gap": null,
            "grid_row": null,
            "grid_template_areas": null,
            "grid_template_columns": null,
            "grid_template_rows": null,
            "height": null,
            "justify_content": null,
            "justify_items": null,
            "left": null,
            "margin": null,
            "max_height": null,
            "max_width": null,
            "min_height": null,
            "min_width": null,
            "object_fit": null,
            "object_position": null,
            "order": null,
            "overflow": null,
            "overflow_x": null,
            "overflow_y": null,
            "padding": null,
            "right": null,
            "top": null,
            "visibility": null,
            "width": null
          }
        },
        "43d79b6f657b424fb7360bed475b7ab1": {
          "model_module": "@jupyter-widgets/base",
          "model_name": "LayoutModel",
          "model_module_version": "1.2.0",
          "state": {
            "_model_module": "@jupyter-widgets/base",
            "_model_module_version": "1.2.0",
            "_model_name": "LayoutModel",
            "_view_count": null,
            "_view_module": "@jupyter-widgets/base",
            "_view_module_version": "1.2.0",
            "_view_name": "LayoutView",
            "align_content": null,
            "align_items": null,
            "align_self": null,
            "border": null,
            "bottom": null,
            "display": null,
            "flex": null,
            "flex_flow": null,
            "grid_area": null,
            "grid_auto_columns": null,
            "grid_auto_flow": null,
            "grid_auto_rows": null,
            "grid_column": null,
            "grid_gap": null,
            "grid_row": null,
            "grid_template_areas": null,
            "grid_template_columns": null,
            "grid_template_rows": null,
            "height": null,
            "justify_content": null,
            "justify_items": null,
            "left": null,
            "margin": null,
            "max_height": null,
            "max_width": null,
            "min_height": null,
            "min_width": null,
            "object_fit": null,
            "object_position": null,
            "order": null,
            "overflow": null,
            "overflow_x": null,
            "overflow_y": null,
            "padding": null,
            "right": null,
            "top": null,
            "visibility": null,
            "width": null
          }
        },
        "36222664e0bf4d1d9a2ff7904d2d662c": {
          "model_module": "@jupyter-widgets/controls",
          "model_name": "DescriptionStyleModel",
          "model_module_version": "1.5.0",
          "state": {
            "_model_module": "@jupyter-widgets/controls",
            "_model_module_version": "1.5.0",
            "_model_name": "DescriptionStyleModel",
            "_view_count": null,
            "_view_module": "@jupyter-widgets/base",
            "_view_module_version": "1.2.0",
            "_view_name": "StyleView",
            "description_width": ""
          }
        },
        "9707c0523fb447c6968d7e012891beb0": {
          "model_module": "@jupyter-widgets/base",
          "model_name": "LayoutModel",
          "model_module_version": "1.2.0",
          "state": {
            "_model_module": "@jupyter-widgets/base",
            "_model_module_version": "1.2.0",
            "_model_name": "LayoutModel",
            "_view_count": null,
            "_view_module": "@jupyter-widgets/base",
            "_view_module_version": "1.2.0",
            "_view_name": "LayoutView",
            "align_content": null,
            "align_items": null,
            "align_self": null,
            "border": null,
            "bottom": null,
            "display": null,
            "flex": null,
            "flex_flow": null,
            "grid_area": null,
            "grid_auto_columns": null,
            "grid_auto_flow": null,
            "grid_auto_rows": null,
            "grid_column": null,
            "grid_gap": null,
            "grid_row": null,
            "grid_template_areas": null,
            "grid_template_columns": null,
            "grid_template_rows": null,
            "height": null,
            "justify_content": null,
            "justify_items": null,
            "left": null,
            "margin": null,
            "max_height": null,
            "max_width": null,
            "min_height": null,
            "min_width": null,
            "object_fit": null,
            "object_position": null,
            "order": null,
            "overflow": null,
            "overflow_x": null,
            "overflow_y": null,
            "padding": null,
            "right": null,
            "top": null,
            "visibility": null,
            "width": null
          }
        },
        "f301490f8ad347dd8fe01ecce1c7b61e": {
          "model_module": "@jupyter-widgets/controls",
          "model_name": "ProgressStyleModel",
          "model_module_version": "1.5.0",
          "state": {
            "_model_module": "@jupyter-widgets/controls",
            "_model_module_version": "1.5.0",
            "_model_name": "ProgressStyleModel",
            "_view_count": null,
            "_view_module": "@jupyter-widgets/base",
            "_view_module_version": "1.2.0",
            "_view_name": "StyleView",
            "bar_color": null,
            "description_width": ""
          }
        },
        "25db4bf67f514150aae1eae99011cdf5": {
          "model_module": "@jupyter-widgets/base",
          "model_name": "LayoutModel",
          "model_module_version": "1.2.0",
          "state": {
            "_model_module": "@jupyter-widgets/base",
            "_model_module_version": "1.2.0",
            "_model_name": "LayoutModel",
            "_view_count": null,
            "_view_module": "@jupyter-widgets/base",
            "_view_module_version": "1.2.0",
            "_view_name": "LayoutView",
            "align_content": null,
            "align_items": null,
            "align_self": null,
            "border": null,
            "bottom": null,
            "display": null,
            "flex": null,
            "flex_flow": null,
            "grid_area": null,
            "grid_auto_columns": null,
            "grid_auto_flow": null,
            "grid_auto_rows": null,
            "grid_column": null,
            "grid_gap": null,
            "grid_row": null,
            "grid_template_areas": null,
            "grid_template_columns": null,
            "grid_template_rows": null,
            "height": null,
            "justify_content": null,
            "justify_items": null,
            "left": null,
            "margin": null,
            "max_height": null,
            "max_width": null,
            "min_height": null,
            "min_width": null,
            "object_fit": null,
            "object_position": null,
            "order": null,
            "overflow": null,
            "overflow_x": null,
            "overflow_y": null,
            "padding": null,
            "right": null,
            "top": null,
            "visibility": null,
            "width": null
          }
        },
        "15d3a234e1e84f2b8b54137dd5ebf5de": {
          "model_module": "@jupyter-widgets/controls",
          "model_name": "DescriptionStyleModel",
          "model_module_version": "1.5.0",
          "state": {
            "_model_module": "@jupyter-widgets/controls",
            "_model_module_version": "1.5.0",
            "_model_name": "DescriptionStyleModel",
            "_view_count": null,
            "_view_module": "@jupyter-widgets/base",
            "_view_module_version": "1.2.0",
            "_view_name": "StyleView",
            "description_width": ""
          }
        },
        "874e5c0f3d844163b115600614e6bbef": {
          "model_module": "@jupyter-widgets/controls",
          "model_name": "HBoxModel",
          "model_module_version": "1.5.0",
          "state": {
            "_dom_classes": [],
            "_model_module": "@jupyter-widgets/controls",
            "_model_module_version": "1.5.0",
            "_model_name": "HBoxModel",
            "_view_count": null,
            "_view_module": "@jupyter-widgets/controls",
            "_view_module_version": "1.5.0",
            "_view_name": "HBoxView",
            "box_style": "",
            "children": [
              "IPY_MODEL_d1e55fd6430f461491bab5ce46a815f4",
              "IPY_MODEL_b5d7d45dfea94a0baad6b3cc033d4026",
              "IPY_MODEL_f3d4a638a5c34311aa72e04fe6d263d7"
            ],
            "layout": "IPY_MODEL_db6783b2f2bc4c46a75db96a2b00f37f"
          }
        },
        "d1e55fd6430f461491bab5ce46a815f4": {
          "model_module": "@jupyter-widgets/controls",
          "model_name": "HTMLModel",
          "model_module_version": "1.5.0",
          "state": {
            "_dom_classes": [],
            "_model_module": "@jupyter-widgets/controls",
            "_model_module_version": "1.5.0",
            "_model_name": "HTMLModel",
            "_view_count": null,
            "_view_module": "@jupyter-widgets/controls",
            "_view_module_version": "1.5.0",
            "_view_name": "HTMLView",
            "description": "",
            "description_tooltip": null,
            "layout": "IPY_MODEL_319052a1164b4e85ac00229d0ea32429",
            "placeholder": "​",
            "style": "IPY_MODEL_b71a6535a77a41f591cc4efb6391ab21",
            "value": "Downloading (…)okenizer_config.json: 100%"
          }
        },
        "b5d7d45dfea94a0baad6b3cc033d4026": {
          "model_module": "@jupyter-widgets/controls",
          "model_name": "FloatProgressModel",
          "model_module_version": "1.5.0",
          "state": {
            "_dom_classes": [],
            "_model_module": "@jupyter-widgets/controls",
            "_model_module_version": "1.5.0",
            "_model_name": "FloatProgressModel",
            "_view_count": null,
            "_view_module": "@jupyter-widgets/controls",
            "_view_module_version": "1.5.0",
            "_view_name": "ProgressView",
            "bar_style": "success",
            "description": "",
            "description_tooltip": null,
            "layout": "IPY_MODEL_a23b0df95beb41d5b00e9669436e10d1",
            "max": 2613,
            "min": 0,
            "orientation": "horizontal",
            "style": "IPY_MODEL_f22204965bc54ac29142f5fd30403743",
            "value": 2613
          }
        },
        "f3d4a638a5c34311aa72e04fe6d263d7": {
          "model_module": "@jupyter-widgets/controls",
          "model_name": "HTMLModel",
          "model_module_version": "1.5.0",
          "state": {
            "_dom_classes": [],
            "_model_module": "@jupyter-widgets/controls",
            "_model_module_version": "1.5.0",
            "_model_name": "HTMLModel",
            "_view_count": null,
            "_view_module": "@jupyter-widgets/controls",
            "_view_module_version": "1.5.0",
            "_view_name": "HTMLView",
            "description": "",
            "description_tooltip": null,
            "layout": "IPY_MODEL_b0746d7da4404dfca7a51bf47f71e073",
            "placeholder": "​",
            "style": "IPY_MODEL_9cf673fa19e14f52b2308c86230d9eca",
            "value": " 2.61k/2.61k [00:00&lt;00:00, 207kB/s]"
          }
        },
        "db6783b2f2bc4c46a75db96a2b00f37f": {
          "model_module": "@jupyter-widgets/base",
          "model_name": "LayoutModel",
          "model_module_version": "1.2.0",
          "state": {
            "_model_module": "@jupyter-widgets/base",
            "_model_module_version": "1.2.0",
            "_model_name": "LayoutModel",
            "_view_count": null,
            "_view_module": "@jupyter-widgets/base",
            "_view_module_version": "1.2.0",
            "_view_name": "LayoutView",
            "align_content": null,
            "align_items": null,
            "align_self": null,
            "border": null,
            "bottom": null,
            "display": null,
            "flex": null,
            "flex_flow": null,
            "grid_area": null,
            "grid_auto_columns": null,
            "grid_auto_flow": null,
            "grid_auto_rows": null,
            "grid_column": null,
            "grid_gap": null,
            "grid_row": null,
            "grid_template_areas": null,
            "grid_template_columns": null,
            "grid_template_rows": null,
            "height": null,
            "justify_content": null,
            "justify_items": null,
            "left": null,
            "margin": null,
            "max_height": null,
            "max_width": null,
            "min_height": null,
            "min_width": null,
            "object_fit": null,
            "object_position": null,
            "order": null,
            "overflow": null,
            "overflow_x": null,
            "overflow_y": null,
            "padding": null,
            "right": null,
            "top": null,
            "visibility": null,
            "width": null
          }
        },
        "319052a1164b4e85ac00229d0ea32429": {
          "model_module": "@jupyter-widgets/base",
          "model_name": "LayoutModel",
          "model_module_version": "1.2.0",
          "state": {
            "_model_module": "@jupyter-widgets/base",
            "_model_module_version": "1.2.0",
            "_model_name": "LayoutModel",
            "_view_count": null,
            "_view_module": "@jupyter-widgets/base",
            "_view_module_version": "1.2.0",
            "_view_name": "LayoutView",
            "align_content": null,
            "align_items": null,
            "align_self": null,
            "border": null,
            "bottom": null,
            "display": null,
            "flex": null,
            "flex_flow": null,
            "grid_area": null,
            "grid_auto_columns": null,
            "grid_auto_flow": null,
            "grid_auto_rows": null,
            "grid_column": null,
            "grid_gap": null,
            "grid_row": null,
            "grid_template_areas": null,
            "grid_template_columns": null,
            "grid_template_rows": null,
            "height": null,
            "justify_content": null,
            "justify_items": null,
            "left": null,
            "margin": null,
            "max_height": null,
            "max_width": null,
            "min_height": null,
            "min_width": null,
            "object_fit": null,
            "object_position": null,
            "order": null,
            "overflow": null,
            "overflow_x": null,
            "overflow_y": null,
            "padding": null,
            "right": null,
            "top": null,
            "visibility": null,
            "width": null
          }
        },
        "b71a6535a77a41f591cc4efb6391ab21": {
          "model_module": "@jupyter-widgets/controls",
          "model_name": "DescriptionStyleModel",
          "model_module_version": "1.5.0",
          "state": {
            "_model_module": "@jupyter-widgets/controls",
            "_model_module_version": "1.5.0",
            "_model_name": "DescriptionStyleModel",
            "_view_count": null,
            "_view_module": "@jupyter-widgets/base",
            "_view_module_version": "1.2.0",
            "_view_name": "StyleView",
            "description_width": ""
          }
        },
        "a23b0df95beb41d5b00e9669436e10d1": {
          "model_module": "@jupyter-widgets/base",
          "model_name": "LayoutModel",
          "model_module_version": "1.2.0",
          "state": {
            "_model_module": "@jupyter-widgets/base",
            "_model_module_version": "1.2.0",
            "_model_name": "LayoutModel",
            "_view_count": null,
            "_view_module": "@jupyter-widgets/base",
            "_view_module_version": "1.2.0",
            "_view_name": "LayoutView",
            "align_content": null,
            "align_items": null,
            "align_self": null,
            "border": null,
            "bottom": null,
            "display": null,
            "flex": null,
            "flex_flow": null,
            "grid_area": null,
            "grid_auto_columns": null,
            "grid_auto_flow": null,
            "grid_auto_rows": null,
            "grid_column": null,
            "grid_gap": null,
            "grid_row": null,
            "grid_template_areas": null,
            "grid_template_columns": null,
            "grid_template_rows": null,
            "height": null,
            "justify_content": null,
            "justify_items": null,
            "left": null,
            "margin": null,
            "max_height": null,
            "max_width": null,
            "min_height": null,
            "min_width": null,
            "object_fit": null,
            "object_position": null,
            "order": null,
            "overflow": null,
            "overflow_x": null,
            "overflow_y": null,
            "padding": null,
            "right": null,
            "top": null,
            "visibility": null,
            "width": null
          }
        },
        "f22204965bc54ac29142f5fd30403743": {
          "model_module": "@jupyter-widgets/controls",
          "model_name": "ProgressStyleModel",
          "model_module_version": "1.5.0",
          "state": {
            "_model_module": "@jupyter-widgets/controls",
            "_model_module_version": "1.5.0",
            "_model_name": "ProgressStyleModel",
            "_view_count": null,
            "_view_module": "@jupyter-widgets/base",
            "_view_module_version": "1.2.0",
            "_view_name": "StyleView",
            "bar_color": null,
            "description_width": ""
          }
        },
        "b0746d7da4404dfca7a51bf47f71e073": {
          "model_module": "@jupyter-widgets/base",
          "model_name": "LayoutModel",
          "model_module_version": "1.2.0",
          "state": {
            "_model_module": "@jupyter-widgets/base",
            "_model_module_version": "1.2.0",
            "_model_name": "LayoutModel",
            "_view_count": null,
            "_view_module": "@jupyter-widgets/base",
            "_view_module_version": "1.2.0",
            "_view_name": "LayoutView",
            "align_content": null,
            "align_items": null,
            "align_self": null,
            "border": null,
            "bottom": null,
            "display": null,
            "flex": null,
            "flex_flow": null,
            "grid_area": null,
            "grid_auto_columns": null,
            "grid_auto_flow": null,
            "grid_auto_rows": null,
            "grid_column": null,
            "grid_gap": null,
            "grid_row": null,
            "grid_template_areas": null,
            "grid_template_columns": null,
            "grid_template_rows": null,
            "height": null,
            "justify_content": null,
            "justify_items": null,
            "left": null,
            "margin": null,
            "max_height": null,
            "max_width": null,
            "min_height": null,
            "min_width": null,
            "object_fit": null,
            "object_position": null,
            "order": null,
            "overflow": null,
            "overflow_x": null,
            "overflow_y": null,
            "padding": null,
            "right": null,
            "top": null,
            "visibility": null,
            "width": null
          }
        },
        "9cf673fa19e14f52b2308c86230d9eca": {
          "model_module": "@jupyter-widgets/controls",
          "model_name": "DescriptionStyleModel",
          "model_module_version": "1.5.0",
          "state": {
            "_model_module": "@jupyter-widgets/controls",
            "_model_module_version": "1.5.0",
            "_model_name": "DescriptionStyleModel",
            "_view_count": null,
            "_view_module": "@jupyter-widgets/base",
            "_view_module_version": "1.2.0",
            "_view_name": "StyleView",
            "description_width": ""
          }
        },
        "e9999c038a3746dc95e40d9b9ea7f9df": {
          "model_module": "@jupyter-widgets/controls",
          "model_name": "HBoxModel",
          "model_module_version": "1.5.0",
          "state": {
            "_dom_classes": [],
            "_model_module": "@jupyter-widgets/controls",
            "_model_module_version": "1.5.0",
            "_model_name": "HBoxModel",
            "_view_count": null,
            "_view_module": "@jupyter-widgets/controls",
            "_view_module_version": "1.5.0",
            "_view_name": "HBoxView",
            "box_style": "",
            "children": [
              "IPY_MODEL_7ee197a344954933ac24b7614d69b944",
              "IPY_MODEL_924dfdc8b9b24029bf25e0c0917353aa",
              "IPY_MODEL_34114e6a6b3b4764bff9128cc6dd0939"
            ],
            "layout": "IPY_MODEL_5a3220af06dc4a9997a8a85472d92755"
          }
        },
        "7ee197a344954933ac24b7614d69b944": {
          "model_module": "@jupyter-widgets/controls",
          "model_name": "HTMLModel",
          "model_module_version": "1.5.0",
          "state": {
            "_dom_classes": [],
            "_model_module": "@jupyter-widgets/controls",
            "_model_module_version": "1.5.0",
            "_model_name": "HTMLModel",
            "_view_count": null,
            "_view_module": "@jupyter-widgets/controls",
            "_view_module_version": "1.5.0",
            "_view_name": "HTMLView",
            "description": "",
            "description_tooltip": null,
            "layout": "IPY_MODEL_87405b9695294d7998a7cdc4077c86d2",
            "placeholder": "​",
            "style": "IPY_MODEL_4221ee7498d94e7491c4aad1b376519c",
            "value": "Downloading spiece.model: 100%"
          }
        },
        "924dfdc8b9b24029bf25e0c0917353aa": {
          "model_module": "@jupyter-widgets/controls",
          "model_name": "FloatProgressModel",
          "model_module_version": "1.5.0",
          "state": {
            "_dom_classes": [],
            "_model_module": "@jupyter-widgets/controls",
            "_model_module_version": "1.5.0",
            "_model_name": "FloatProgressModel",
            "_view_count": null,
            "_view_module": "@jupyter-widgets/controls",
            "_view_module_version": "1.5.0",
            "_view_name": "ProgressView",
            "bar_style": "success",
            "description": "",
            "description_tooltip": null,
            "layout": "IPY_MODEL_54032d5e620a465f89a81dbf5b83948c",
            "max": 851388,
            "min": 0,
            "orientation": "horizontal",
            "style": "IPY_MODEL_3c702195119f4f62b8b6c1a82c48effd",
            "value": 851388
          }
        },
        "34114e6a6b3b4764bff9128cc6dd0939": {
          "model_module": "@jupyter-widgets/controls",
          "model_name": "HTMLModel",
          "model_module_version": "1.5.0",
          "state": {
            "_dom_classes": [],
            "_model_module": "@jupyter-widgets/controls",
            "_model_module_version": "1.5.0",
            "_model_name": "HTMLModel",
            "_view_count": null,
            "_view_module": "@jupyter-widgets/controls",
            "_view_module_version": "1.5.0",
            "_view_name": "HTMLView",
            "description": "",
            "description_tooltip": null,
            "layout": "IPY_MODEL_b427c32912644956b8b0cff1a07fb2de",
            "placeholder": "​",
            "style": "IPY_MODEL_09a2fe6d8d6a4093a8ee46f80c95c26a",
            "value": " 851k/851k [00:00&lt;00:00, 30.9MB/s]"
          }
        },
        "5a3220af06dc4a9997a8a85472d92755": {
          "model_module": "@jupyter-widgets/base",
          "model_name": "LayoutModel",
          "model_module_version": "1.2.0",
          "state": {
            "_model_module": "@jupyter-widgets/base",
            "_model_module_version": "1.2.0",
            "_model_name": "LayoutModel",
            "_view_count": null,
            "_view_module": "@jupyter-widgets/base",
            "_view_module_version": "1.2.0",
            "_view_name": "LayoutView",
            "align_content": null,
            "align_items": null,
            "align_self": null,
            "border": null,
            "bottom": null,
            "display": null,
            "flex": null,
            "flex_flow": null,
            "grid_area": null,
            "grid_auto_columns": null,
            "grid_auto_flow": null,
            "grid_auto_rows": null,
            "grid_column": null,
            "grid_gap": null,
            "grid_row": null,
            "grid_template_areas": null,
            "grid_template_columns": null,
            "grid_template_rows": null,
            "height": null,
            "justify_content": null,
            "justify_items": null,
            "left": null,
            "margin": null,
            "max_height": null,
            "max_width": null,
            "min_height": null,
            "min_width": null,
            "object_fit": null,
            "object_position": null,
            "order": null,
            "overflow": null,
            "overflow_x": null,
            "overflow_y": null,
            "padding": null,
            "right": null,
            "top": null,
            "visibility": null,
            "width": null
          }
        },
        "87405b9695294d7998a7cdc4077c86d2": {
          "model_module": "@jupyter-widgets/base",
          "model_name": "LayoutModel",
          "model_module_version": "1.2.0",
          "state": {
            "_model_module": "@jupyter-widgets/base",
            "_model_module_version": "1.2.0",
            "_model_name": "LayoutModel",
            "_view_count": null,
            "_view_module": "@jupyter-widgets/base",
            "_view_module_version": "1.2.0",
            "_view_name": "LayoutView",
            "align_content": null,
            "align_items": null,
            "align_self": null,
            "border": null,
            "bottom": null,
            "display": null,
            "flex": null,
            "flex_flow": null,
            "grid_area": null,
            "grid_auto_columns": null,
            "grid_auto_flow": null,
            "grid_auto_rows": null,
            "grid_column": null,
            "grid_gap": null,
            "grid_row": null,
            "grid_template_areas": null,
            "grid_template_columns": null,
            "grid_template_rows": null,
            "height": null,
            "justify_content": null,
            "justify_items": null,
            "left": null,
            "margin": null,
            "max_height": null,
            "max_width": null,
            "min_height": null,
            "min_width": null,
            "object_fit": null,
            "object_position": null,
            "order": null,
            "overflow": null,
            "overflow_x": null,
            "overflow_y": null,
            "padding": null,
            "right": null,
            "top": null,
            "visibility": null,
            "width": null
          }
        },
        "4221ee7498d94e7491c4aad1b376519c": {
          "model_module": "@jupyter-widgets/controls",
          "model_name": "DescriptionStyleModel",
          "model_module_version": "1.5.0",
          "state": {
            "_model_module": "@jupyter-widgets/controls",
            "_model_module_version": "1.5.0",
            "_model_name": "DescriptionStyleModel",
            "_view_count": null,
            "_view_module": "@jupyter-widgets/base",
            "_view_module_version": "1.2.0",
            "_view_name": "StyleView",
            "description_width": ""
          }
        },
        "54032d5e620a465f89a81dbf5b83948c": {
          "model_module": "@jupyter-widgets/base",
          "model_name": "LayoutModel",
          "model_module_version": "1.2.0",
          "state": {
            "_model_module": "@jupyter-widgets/base",
            "_model_module_version": "1.2.0",
            "_model_name": "LayoutModel",
            "_view_count": null,
            "_view_module": "@jupyter-widgets/base",
            "_view_module_version": "1.2.0",
            "_view_name": "LayoutView",
            "align_content": null,
            "align_items": null,
            "align_self": null,
            "border": null,
            "bottom": null,
            "display": null,
            "flex": null,
            "flex_flow": null,
            "grid_area": null,
            "grid_auto_columns": null,
            "grid_auto_flow": null,
            "grid_auto_rows": null,
            "grid_column": null,
            "grid_gap": null,
            "grid_row": null,
            "grid_template_areas": null,
            "grid_template_columns": null,
            "grid_template_rows": null,
            "height": null,
            "justify_content": null,
            "justify_items": null,
            "left": null,
            "margin": null,
            "max_height": null,
            "max_width": null,
            "min_height": null,
            "min_width": null,
            "object_fit": null,
            "object_position": null,
            "order": null,
            "overflow": null,
            "overflow_x": null,
            "overflow_y": null,
            "padding": null,
            "right": null,
            "top": null,
            "visibility": null,
            "width": null
          }
        },
        "3c702195119f4f62b8b6c1a82c48effd": {
          "model_module": "@jupyter-widgets/controls",
          "model_name": "ProgressStyleModel",
          "model_module_version": "1.5.0",
          "state": {
            "_model_module": "@jupyter-widgets/controls",
            "_model_module_version": "1.5.0",
            "_model_name": "ProgressStyleModel",
            "_view_count": null,
            "_view_module": "@jupyter-widgets/base",
            "_view_module_version": "1.2.0",
            "_view_name": "StyleView",
            "bar_color": null,
            "description_width": ""
          }
        },
        "b427c32912644956b8b0cff1a07fb2de": {
          "model_module": "@jupyter-widgets/base",
          "model_name": "LayoutModel",
          "model_module_version": "1.2.0",
          "state": {
            "_model_module": "@jupyter-widgets/base",
            "_model_module_version": "1.2.0",
            "_model_name": "LayoutModel",
            "_view_count": null,
            "_view_module": "@jupyter-widgets/base",
            "_view_module_version": "1.2.0",
            "_view_name": "LayoutView",
            "align_content": null,
            "align_items": null,
            "align_self": null,
            "border": null,
            "bottom": null,
            "display": null,
            "flex": null,
            "flex_flow": null,
            "grid_area": null,
            "grid_auto_columns": null,
            "grid_auto_flow": null,
            "grid_auto_rows": null,
            "grid_column": null,
            "grid_gap": null,
            "grid_row": null,
            "grid_template_areas": null,
            "grid_template_columns": null,
            "grid_template_rows": null,
            "height": null,
            "justify_content": null,
            "justify_items": null,
            "left": null,
            "margin": null,
            "max_height": null,
            "max_width": null,
            "min_height": null,
            "min_width": null,
            "object_fit": null,
            "object_position": null,
            "order": null,
            "overflow": null,
            "overflow_x": null,
            "overflow_y": null,
            "padding": null,
            "right": null,
            "top": null,
            "visibility": null,
            "width": null
          }
        },
        "09a2fe6d8d6a4093a8ee46f80c95c26a": {
          "model_module": "@jupyter-widgets/controls",
          "model_name": "DescriptionStyleModel",
          "model_module_version": "1.5.0",
          "state": {
            "_model_module": "@jupyter-widgets/controls",
            "_model_module_version": "1.5.0",
            "_model_name": "DescriptionStyleModel",
            "_view_count": null,
            "_view_module": "@jupyter-widgets/base",
            "_view_module_version": "1.2.0",
            "_view_name": "StyleView",
            "description_width": ""
          }
        },
        "33ad37be97cf49109f171150a6a8c8d3": {
          "model_module": "@jupyter-widgets/controls",
          "model_name": "HBoxModel",
          "model_module_version": "1.5.0",
          "state": {
            "_dom_classes": [],
            "_model_module": "@jupyter-widgets/controls",
            "_model_module_version": "1.5.0",
            "_model_name": "HBoxModel",
            "_view_count": null,
            "_view_module": "@jupyter-widgets/controls",
            "_view_module_version": "1.5.0",
            "_view_name": "HBoxView",
            "box_style": "",
            "children": [
              "IPY_MODEL_a2881a22f28c4f489d11d63e87279cf6",
              "IPY_MODEL_e00fff0d0e204fd699684fd6d483df48",
              "IPY_MODEL_ef711290e0c44fee84cd561367381709"
            ],
            "layout": "IPY_MODEL_14b6287c8c1c492aae4357678b4c2d60"
          }
        },
        "a2881a22f28c4f489d11d63e87279cf6": {
          "model_module": "@jupyter-widgets/controls",
          "model_name": "HTMLModel",
          "model_module_version": "1.5.0",
          "state": {
            "_dom_classes": [],
            "_model_module": "@jupyter-widgets/controls",
            "_model_module_version": "1.5.0",
            "_model_name": "HTMLModel",
            "_view_count": null,
            "_view_module": "@jupyter-widgets/controls",
            "_view_module_version": "1.5.0",
            "_view_name": "HTMLView",
            "description": "",
            "description_tooltip": null,
            "layout": "IPY_MODEL_90629d9a404c4f53a189aa99f51b5005",
            "placeholder": "​",
            "style": "IPY_MODEL_cc6a288c6be34b519a49f3b600d40bcb",
            "value": "Downloading (…)/main/tokenizer.json: 100%"
          }
        },
        "e00fff0d0e204fd699684fd6d483df48": {
          "model_module": "@jupyter-widgets/controls",
          "model_name": "FloatProgressModel",
          "model_module_version": "1.5.0",
          "state": {
            "_dom_classes": [],
            "_model_module": "@jupyter-widgets/controls",
            "_model_module_version": "1.5.0",
            "_model_name": "FloatProgressModel",
            "_view_count": null,
            "_view_module": "@jupyter-widgets/controls",
            "_view_module_version": "1.5.0",
            "_view_name": "ProgressView",
            "bar_style": "success",
            "description": "",
            "description_tooltip": null,
            "layout": "IPY_MODEL_74bdbb91603d47109963b52380d27fbe",
            "max": 3265159,
            "min": 0,
            "orientation": "horizontal",
            "style": "IPY_MODEL_c022accc200845fb94dda2a374f3dbd3",
            "value": 3265159
          }
        },
        "ef711290e0c44fee84cd561367381709": {
          "model_module": "@jupyter-widgets/controls",
          "model_name": "HTMLModel",
          "model_module_version": "1.5.0",
          "state": {
            "_dom_classes": [],
            "_model_module": "@jupyter-widgets/controls",
            "_model_module_version": "1.5.0",
            "_model_name": "HTMLModel",
            "_view_count": null,
            "_view_module": "@jupyter-widgets/controls",
            "_view_module_version": "1.5.0",
            "_view_name": "HTMLView",
            "description": "",
            "description_tooltip": null,
            "layout": "IPY_MODEL_5c9d4b804de44516b31b36a370ebb716",
            "placeholder": "​",
            "style": "IPY_MODEL_fa95d8c073fe4eb9803a29cf9434a3eb",
            "value": " 3.27M/3.27M [00:00&lt;00:00, 4.28MB/s]"
          }
        },
        "14b6287c8c1c492aae4357678b4c2d60": {
          "model_module": "@jupyter-widgets/base",
          "model_name": "LayoutModel",
          "model_module_version": "1.2.0",
          "state": {
            "_model_module": "@jupyter-widgets/base",
            "_model_module_version": "1.2.0",
            "_model_name": "LayoutModel",
            "_view_count": null,
            "_view_module": "@jupyter-widgets/base",
            "_view_module_version": "1.2.0",
            "_view_name": "LayoutView",
            "align_content": null,
            "align_items": null,
            "align_self": null,
            "border": null,
            "bottom": null,
            "display": null,
            "flex": null,
            "flex_flow": null,
            "grid_area": null,
            "grid_auto_columns": null,
            "grid_auto_flow": null,
            "grid_auto_rows": null,
            "grid_column": null,
            "grid_gap": null,
            "grid_row": null,
            "grid_template_areas": null,
            "grid_template_columns": null,
            "grid_template_rows": null,
            "height": null,
            "justify_content": null,
            "justify_items": null,
            "left": null,
            "margin": null,
            "max_height": null,
            "max_width": null,
            "min_height": null,
            "min_width": null,
            "object_fit": null,
            "object_position": null,
            "order": null,
            "overflow": null,
            "overflow_x": null,
            "overflow_y": null,
            "padding": null,
            "right": null,
            "top": null,
            "visibility": null,
            "width": null
          }
        },
        "90629d9a404c4f53a189aa99f51b5005": {
          "model_module": "@jupyter-widgets/base",
          "model_name": "LayoutModel",
          "model_module_version": "1.2.0",
          "state": {
            "_model_module": "@jupyter-widgets/base",
            "_model_module_version": "1.2.0",
            "_model_name": "LayoutModel",
            "_view_count": null,
            "_view_module": "@jupyter-widgets/base",
            "_view_module_version": "1.2.0",
            "_view_name": "LayoutView",
            "align_content": null,
            "align_items": null,
            "align_self": null,
            "border": null,
            "bottom": null,
            "display": null,
            "flex": null,
            "flex_flow": null,
            "grid_area": null,
            "grid_auto_columns": null,
            "grid_auto_flow": null,
            "grid_auto_rows": null,
            "grid_column": null,
            "grid_gap": null,
            "grid_row": null,
            "grid_template_areas": null,
            "grid_template_columns": null,
            "grid_template_rows": null,
            "height": null,
            "justify_content": null,
            "justify_items": null,
            "left": null,
            "margin": null,
            "max_height": null,
            "max_width": null,
            "min_height": null,
            "min_width": null,
            "object_fit": null,
            "object_position": null,
            "order": null,
            "overflow": null,
            "overflow_x": null,
            "overflow_y": null,
            "padding": null,
            "right": null,
            "top": null,
            "visibility": null,
            "width": null
          }
        },
        "cc6a288c6be34b519a49f3b600d40bcb": {
          "model_module": "@jupyter-widgets/controls",
          "model_name": "DescriptionStyleModel",
          "model_module_version": "1.5.0",
          "state": {
            "_model_module": "@jupyter-widgets/controls",
            "_model_module_version": "1.5.0",
            "_model_name": "DescriptionStyleModel",
            "_view_count": null,
            "_view_module": "@jupyter-widgets/base",
            "_view_module_version": "1.2.0",
            "_view_name": "StyleView",
            "description_width": ""
          }
        },
        "74bdbb91603d47109963b52380d27fbe": {
          "model_module": "@jupyter-widgets/base",
          "model_name": "LayoutModel",
          "model_module_version": "1.2.0",
          "state": {
            "_model_module": "@jupyter-widgets/base",
            "_model_module_version": "1.2.0",
            "_model_name": "LayoutModel",
            "_view_count": null,
            "_view_module": "@jupyter-widgets/base",
            "_view_module_version": "1.2.0",
            "_view_name": "LayoutView",
            "align_content": null,
            "align_items": null,
            "align_self": null,
            "border": null,
            "bottom": null,
            "display": null,
            "flex": null,
            "flex_flow": null,
            "grid_area": null,
            "grid_auto_columns": null,
            "grid_auto_flow": null,
            "grid_auto_rows": null,
            "grid_column": null,
            "grid_gap": null,
            "grid_row": null,
            "grid_template_areas": null,
            "grid_template_columns": null,
            "grid_template_rows": null,
            "height": null,
            "justify_content": null,
            "justify_items": null,
            "left": null,
            "margin": null,
            "max_height": null,
            "max_width": null,
            "min_height": null,
            "min_width": null,
            "object_fit": null,
            "object_position": null,
            "order": null,
            "overflow": null,
            "overflow_x": null,
            "overflow_y": null,
            "padding": null,
            "right": null,
            "top": null,
            "visibility": null,
            "width": null
          }
        },
        "c022accc200845fb94dda2a374f3dbd3": {
          "model_module": "@jupyter-widgets/controls",
          "model_name": "ProgressStyleModel",
          "model_module_version": "1.5.0",
          "state": {
            "_model_module": "@jupyter-widgets/controls",
            "_model_module_version": "1.5.0",
            "_model_name": "ProgressStyleModel",
            "_view_count": null,
            "_view_module": "@jupyter-widgets/base",
            "_view_module_version": "1.2.0",
            "_view_name": "StyleView",
            "bar_color": null,
            "description_width": ""
          }
        },
        "5c9d4b804de44516b31b36a370ebb716": {
          "model_module": "@jupyter-widgets/base",
          "model_name": "LayoutModel",
          "model_module_version": "1.2.0",
          "state": {
            "_model_module": "@jupyter-widgets/base",
            "_model_module_version": "1.2.0",
            "_model_name": "LayoutModel",
            "_view_count": null,
            "_view_module": "@jupyter-widgets/base",
            "_view_module_version": "1.2.0",
            "_view_name": "LayoutView",
            "align_content": null,
            "align_items": null,
            "align_self": null,
            "border": null,
            "bottom": null,
            "display": null,
            "flex": null,
            "flex_flow": null,
            "grid_area": null,
            "grid_auto_columns": null,
            "grid_auto_flow": null,
            "grid_auto_rows": null,
            "grid_column": null,
            "grid_gap": null,
            "grid_row": null,
            "grid_template_areas": null,
            "grid_template_columns": null,
            "grid_template_rows": null,
            "height": null,
            "justify_content": null,
            "justify_items": null,
            "left": null,
            "margin": null,
            "max_height": null,
            "max_width": null,
            "min_height": null,
            "min_width": null,
            "object_fit": null,
            "object_position": null,
            "order": null,
            "overflow": null,
            "overflow_x": null,
            "overflow_y": null,
            "padding": null,
            "right": null,
            "top": null,
            "visibility": null,
            "width": null
          }
        },
        "fa95d8c073fe4eb9803a29cf9434a3eb": {
          "model_module": "@jupyter-widgets/controls",
          "model_name": "DescriptionStyleModel",
          "model_module_version": "1.5.0",
          "state": {
            "_model_module": "@jupyter-widgets/controls",
            "_model_module_version": "1.5.0",
            "_model_name": "DescriptionStyleModel",
            "_view_count": null,
            "_view_module": "@jupyter-widgets/base",
            "_view_module_version": "1.2.0",
            "_view_name": "StyleView",
            "description_width": ""
          }
        },
        "ec7721d42d654581ace351764ad376d1": {
          "model_module": "@jupyter-widgets/controls",
          "model_name": "HBoxModel",
          "model_module_version": "1.5.0",
          "state": {
            "_dom_classes": [],
            "_model_module": "@jupyter-widgets/controls",
            "_model_module_version": "1.5.0",
            "_model_name": "HBoxModel",
            "_view_count": null,
            "_view_module": "@jupyter-widgets/controls",
            "_view_module_version": "1.5.0",
            "_view_name": "HBoxView",
            "box_style": "",
            "children": [
              "IPY_MODEL_5ee0b7a472304780b37647595571a059",
              "IPY_MODEL_c561269006994707a226f8526b039970",
              "IPY_MODEL_0f4aa7aca8f945a396afa3d9b5098ac8"
            ],
            "layout": "IPY_MODEL_efed81b7c7274adaa0bb5799cc26be02"
          }
        },
        "5ee0b7a472304780b37647595571a059": {
          "model_module": "@jupyter-widgets/controls",
          "model_name": "HTMLModel",
          "model_module_version": "1.5.0",
          "state": {
            "_dom_classes": [],
            "_model_module": "@jupyter-widgets/controls",
            "_model_module_version": "1.5.0",
            "_model_name": "HTMLModel",
            "_view_count": null,
            "_view_module": "@jupyter-widgets/controls",
            "_view_module_version": "1.5.0",
            "_view_name": "HTMLView",
            "description": "",
            "description_tooltip": null,
            "layout": "IPY_MODEL_1821864b19b547c783b630d1972cfc2c",
            "placeholder": "​",
            "style": "IPY_MODEL_ef5196070ba64fa283b684dfd008191d",
            "value": "Downloading (…)cial_tokens_map.json: 100%"
          }
        },
        "c561269006994707a226f8526b039970": {
          "model_module": "@jupyter-widgets/controls",
          "model_name": "FloatProgressModel",
          "model_module_version": "1.5.0",
          "state": {
            "_dom_classes": [],
            "_model_module": "@jupyter-widgets/controls",
            "_model_module_version": "1.5.0",
            "_model_name": "FloatProgressModel",
            "_view_count": null,
            "_view_module": "@jupyter-widgets/controls",
            "_view_module_version": "1.5.0",
            "_view_name": "ProgressView",
            "bar_style": "success",
            "description": "",
            "description_tooltip": null,
            "layout": "IPY_MODEL_2ce7336b5cd64cc98d36c4741c5f3008",
            "max": 2201,
            "min": 0,
            "orientation": "horizontal",
            "style": "IPY_MODEL_1715953f2f484d758d66285cfcd5a0f2",
            "value": 2201
          }
        },
        "0f4aa7aca8f945a396afa3d9b5098ac8": {
          "model_module": "@jupyter-widgets/controls",
          "model_name": "HTMLModel",
          "model_module_version": "1.5.0",
          "state": {
            "_dom_classes": [],
            "_model_module": "@jupyter-widgets/controls",
            "_model_module_version": "1.5.0",
            "_model_name": "HTMLModel",
            "_view_count": null,
            "_view_module": "@jupyter-widgets/controls",
            "_view_module_version": "1.5.0",
            "_view_name": "HTMLView",
            "description": "",
            "description_tooltip": null,
            "layout": "IPY_MODEL_07b3c0914fbe4b0b95640a9e597d1830",
            "placeholder": "​",
            "style": "IPY_MODEL_ae141f8217044744b815639d89c09620",
            "value": " 2.20k/2.20k [00:00&lt;00:00, 152kB/s]"
          }
        },
        "efed81b7c7274adaa0bb5799cc26be02": {
          "model_module": "@jupyter-widgets/base",
          "model_name": "LayoutModel",
          "model_module_version": "1.2.0",
          "state": {
            "_model_module": "@jupyter-widgets/base",
            "_model_module_version": "1.2.0",
            "_model_name": "LayoutModel",
            "_view_count": null,
            "_view_module": "@jupyter-widgets/base",
            "_view_module_version": "1.2.0",
            "_view_name": "LayoutView",
            "align_content": null,
            "align_items": null,
            "align_self": null,
            "border": null,
            "bottom": null,
            "display": null,
            "flex": null,
            "flex_flow": null,
            "grid_area": null,
            "grid_auto_columns": null,
            "grid_auto_flow": null,
            "grid_auto_rows": null,
            "grid_column": null,
            "grid_gap": null,
            "grid_row": null,
            "grid_template_areas": null,
            "grid_template_columns": null,
            "grid_template_rows": null,
            "height": null,
            "justify_content": null,
            "justify_items": null,
            "left": null,
            "margin": null,
            "max_height": null,
            "max_width": null,
            "min_height": null,
            "min_width": null,
            "object_fit": null,
            "object_position": null,
            "order": null,
            "overflow": null,
            "overflow_x": null,
            "overflow_y": null,
            "padding": null,
            "right": null,
            "top": null,
            "visibility": null,
            "width": null
          }
        },
        "1821864b19b547c783b630d1972cfc2c": {
          "model_module": "@jupyter-widgets/base",
          "model_name": "LayoutModel",
          "model_module_version": "1.2.0",
          "state": {
            "_model_module": "@jupyter-widgets/base",
            "_model_module_version": "1.2.0",
            "_model_name": "LayoutModel",
            "_view_count": null,
            "_view_module": "@jupyter-widgets/base",
            "_view_module_version": "1.2.0",
            "_view_name": "LayoutView",
            "align_content": null,
            "align_items": null,
            "align_self": null,
            "border": null,
            "bottom": null,
            "display": null,
            "flex": null,
            "flex_flow": null,
            "grid_area": null,
            "grid_auto_columns": null,
            "grid_auto_flow": null,
            "grid_auto_rows": null,
            "grid_column": null,
            "grid_gap": null,
            "grid_row": null,
            "grid_template_areas": null,
            "grid_template_columns": null,
            "grid_template_rows": null,
            "height": null,
            "justify_content": null,
            "justify_items": null,
            "left": null,
            "margin": null,
            "max_height": null,
            "max_width": null,
            "min_height": null,
            "min_width": null,
            "object_fit": null,
            "object_position": null,
            "order": null,
            "overflow": null,
            "overflow_x": null,
            "overflow_y": null,
            "padding": null,
            "right": null,
            "top": null,
            "visibility": null,
            "width": null
          }
        },
        "ef5196070ba64fa283b684dfd008191d": {
          "model_module": "@jupyter-widgets/controls",
          "model_name": "DescriptionStyleModel",
          "model_module_version": "1.5.0",
          "state": {
            "_model_module": "@jupyter-widgets/controls",
            "_model_module_version": "1.5.0",
            "_model_name": "DescriptionStyleModel",
            "_view_count": null,
            "_view_module": "@jupyter-widgets/base",
            "_view_module_version": "1.2.0",
            "_view_name": "StyleView",
            "description_width": ""
          }
        },
        "2ce7336b5cd64cc98d36c4741c5f3008": {
          "model_module": "@jupyter-widgets/base",
          "model_name": "LayoutModel",
          "model_module_version": "1.2.0",
          "state": {
            "_model_module": "@jupyter-widgets/base",
            "_model_module_version": "1.2.0",
            "_model_name": "LayoutModel",
            "_view_count": null,
            "_view_module": "@jupyter-widgets/base",
            "_view_module_version": "1.2.0",
            "_view_name": "LayoutView",
            "align_content": null,
            "align_items": null,
            "align_self": null,
            "border": null,
            "bottom": null,
            "display": null,
            "flex": null,
            "flex_flow": null,
            "grid_area": null,
            "grid_auto_columns": null,
            "grid_auto_flow": null,
            "grid_auto_rows": null,
            "grid_column": null,
            "grid_gap": null,
            "grid_row": null,
            "grid_template_areas": null,
            "grid_template_columns": null,
            "grid_template_rows": null,
            "height": null,
            "justify_content": null,
            "justify_items": null,
            "left": null,
            "margin": null,
            "max_height": null,
            "max_width": null,
            "min_height": null,
            "min_width": null,
            "object_fit": null,
            "object_position": null,
            "order": null,
            "overflow": null,
            "overflow_x": null,
            "overflow_y": null,
            "padding": null,
            "right": null,
            "top": null,
            "visibility": null,
            "width": null
          }
        },
        "1715953f2f484d758d66285cfcd5a0f2": {
          "model_module": "@jupyter-widgets/controls",
          "model_name": "ProgressStyleModel",
          "model_module_version": "1.5.0",
          "state": {
            "_model_module": "@jupyter-widgets/controls",
            "_model_module_version": "1.5.0",
            "_model_name": "ProgressStyleModel",
            "_view_count": null,
            "_view_module": "@jupyter-widgets/base",
            "_view_module_version": "1.2.0",
            "_view_name": "StyleView",
            "bar_color": null,
            "description_width": ""
          }
        },
        "07b3c0914fbe4b0b95640a9e597d1830": {
          "model_module": "@jupyter-widgets/base",
          "model_name": "LayoutModel",
          "model_module_version": "1.2.0",
          "state": {
            "_model_module": "@jupyter-widgets/base",
            "_model_module_version": "1.2.0",
            "_model_name": "LayoutModel",
            "_view_count": null,
            "_view_module": "@jupyter-widgets/base",
            "_view_module_version": "1.2.0",
            "_view_name": "LayoutView",
            "align_content": null,
            "align_items": null,
            "align_self": null,
            "border": null,
            "bottom": null,
            "display": null,
            "flex": null,
            "flex_flow": null,
            "grid_area": null,
            "grid_auto_columns": null,
            "grid_auto_flow": null,
            "grid_auto_rows": null,
            "grid_column": null,
            "grid_gap": null,
            "grid_row": null,
            "grid_template_areas": null,
            "grid_template_columns": null,
            "grid_template_rows": null,
            "height": null,
            "justify_content": null,
            "justify_items": null,
            "left": null,
            "margin": null,
            "max_height": null,
            "max_width": null,
            "min_height": null,
            "min_width": null,
            "object_fit": null,
            "object_position": null,
            "order": null,
            "overflow": null,
            "overflow_x": null,
            "overflow_y": null,
            "padding": null,
            "right": null,
            "top": null,
            "visibility": null,
            "width": null
          }
        },
        "ae141f8217044744b815639d89c09620": {
          "model_module": "@jupyter-widgets/controls",
          "model_name": "DescriptionStyleModel",
          "model_module_version": "1.5.0",
          "state": {
            "_model_module": "@jupyter-widgets/controls",
            "_model_module_version": "1.5.0",
            "_model_name": "DescriptionStyleModel",
            "_view_count": null,
            "_view_module": "@jupyter-widgets/base",
            "_view_module_version": "1.2.0",
            "_view_name": "StyleView",
            "description_width": ""
          }
        },
        "819ec3aa1ad6481a8b129e827b688f98": {
          "model_module": "@jupyter-widgets/controls",
          "model_name": "HBoxModel",
          "model_module_version": "1.5.0",
          "state": {
            "_dom_classes": [],
            "_model_module": "@jupyter-widgets/controls",
            "_model_module_version": "1.5.0",
            "_model_name": "HBoxModel",
            "_view_count": null,
            "_view_module": "@jupyter-widgets/controls",
            "_view_module_version": "1.5.0",
            "_view_name": "HBoxView",
            "box_style": "",
            "children": [
              "IPY_MODEL_43e24d43224847768480ddccf57ac9f1",
              "IPY_MODEL_f29873dfe4bd4e01a48c7f057f9e76c4",
              "IPY_MODEL_fd6df83b19144d789efce39e7dd36b37"
            ],
            "layout": "IPY_MODEL_c847cff140b34ddaaff9094107d4c69a"
          }
        },
        "43e24d43224847768480ddccf57ac9f1": {
          "model_module": "@jupyter-widgets/controls",
          "model_name": "HTMLModel",
          "model_module_version": "1.5.0",
          "state": {
            "_dom_classes": [],
            "_model_module": "@jupyter-widgets/controls",
            "_model_module_version": "1.5.0",
            "_model_name": "HTMLModel",
            "_view_count": null,
            "_view_module": "@jupyter-widgets/controls",
            "_view_module_version": "1.5.0",
            "_view_name": "HTMLView",
            "description": "",
            "description_tooltip": null,
            "layout": "IPY_MODEL_6d7c2bb914354ffbb343a72909ab4fdb",
            "placeholder": "​",
            "style": "IPY_MODEL_e68a3c53554546a7bbb62dde4cf14917",
            "value": "Downloading (…)lve/main/config.json: 100%"
          }
        },
        "f29873dfe4bd4e01a48c7f057f9e76c4": {
          "model_module": "@jupyter-widgets/controls",
          "model_name": "FloatProgressModel",
          "model_module_version": "1.5.0",
          "state": {
            "_dom_classes": [],
            "_model_module": "@jupyter-widgets/controls",
            "_model_module_version": "1.5.0",
            "_model_name": "FloatProgressModel",
            "_view_count": null,
            "_view_module": "@jupyter-widgets/controls",
            "_view_module_version": "1.5.0",
            "_view_name": "ProgressView",
            "bar_style": "success",
            "description": "",
            "description_tooltip": null,
            "layout": "IPY_MODEL_fa19cefcff824e379b6df7c807d8ea1d",
            "max": 4918,
            "min": 0,
            "orientation": "horizontal",
            "style": "IPY_MODEL_47c6308975374ce9a07cfea4be1bc84d",
            "value": 4918
          }
        },
        "fd6df83b19144d789efce39e7dd36b37": {
          "model_module": "@jupyter-widgets/controls",
          "model_name": "HTMLModel",
          "model_module_version": "1.5.0",
          "state": {
            "_dom_classes": [],
            "_model_module": "@jupyter-widgets/controls",
            "_model_module_version": "1.5.0",
            "_model_name": "HTMLModel",
            "_view_count": null,
            "_view_module": "@jupyter-widgets/controls",
            "_view_module_version": "1.5.0",
            "_view_name": "HTMLView",
            "description": "",
            "description_tooltip": null,
            "layout": "IPY_MODEL_92328308bce34121952642cf09da470a",
            "placeholder": "​",
            "style": "IPY_MODEL_4daf31fbcc024c4aa7e25c32e830d496",
            "value": " 4.92k/4.92k [00:00&lt;00:00, 445kB/s]"
          }
        },
        "c847cff140b34ddaaff9094107d4c69a": {
          "model_module": "@jupyter-widgets/base",
          "model_name": "LayoutModel",
          "model_module_version": "1.2.0",
          "state": {
            "_model_module": "@jupyter-widgets/base",
            "_model_module_version": "1.2.0",
            "_model_name": "LayoutModel",
            "_view_count": null,
            "_view_module": "@jupyter-widgets/base",
            "_view_module_version": "1.2.0",
            "_view_name": "LayoutView",
            "align_content": null,
            "align_items": null,
            "align_self": null,
            "border": null,
            "bottom": null,
            "display": null,
            "flex": null,
            "flex_flow": null,
            "grid_area": null,
            "grid_auto_columns": null,
            "grid_auto_flow": null,
            "grid_auto_rows": null,
            "grid_column": null,
            "grid_gap": null,
            "grid_row": null,
            "grid_template_areas": null,
            "grid_template_columns": null,
            "grid_template_rows": null,
            "height": null,
            "justify_content": null,
            "justify_items": null,
            "left": null,
            "margin": null,
            "max_height": null,
            "max_width": null,
            "min_height": null,
            "min_width": null,
            "object_fit": null,
            "object_position": null,
            "order": null,
            "overflow": null,
            "overflow_x": null,
            "overflow_y": null,
            "padding": null,
            "right": null,
            "top": null,
            "visibility": null,
            "width": null
          }
        },
        "6d7c2bb914354ffbb343a72909ab4fdb": {
          "model_module": "@jupyter-widgets/base",
          "model_name": "LayoutModel",
          "model_module_version": "1.2.0",
          "state": {
            "_model_module": "@jupyter-widgets/base",
            "_model_module_version": "1.2.0",
            "_model_name": "LayoutModel",
            "_view_count": null,
            "_view_module": "@jupyter-widgets/base",
            "_view_module_version": "1.2.0",
            "_view_name": "LayoutView",
            "align_content": null,
            "align_items": null,
            "align_self": null,
            "border": null,
            "bottom": null,
            "display": null,
            "flex": null,
            "flex_flow": null,
            "grid_area": null,
            "grid_auto_columns": null,
            "grid_auto_flow": null,
            "grid_auto_rows": null,
            "grid_column": null,
            "grid_gap": null,
            "grid_row": null,
            "grid_template_areas": null,
            "grid_template_columns": null,
            "grid_template_rows": null,
            "height": null,
            "justify_content": null,
            "justify_items": null,
            "left": null,
            "margin": null,
            "max_height": null,
            "max_width": null,
            "min_height": null,
            "min_width": null,
            "object_fit": null,
            "object_position": null,
            "order": null,
            "overflow": null,
            "overflow_x": null,
            "overflow_y": null,
            "padding": null,
            "right": null,
            "top": null,
            "visibility": null,
            "width": null
          }
        },
        "e68a3c53554546a7bbb62dde4cf14917": {
          "model_module": "@jupyter-widgets/controls",
          "model_name": "DescriptionStyleModel",
          "model_module_version": "1.5.0",
          "state": {
            "_model_module": "@jupyter-widgets/controls",
            "_model_module_version": "1.5.0",
            "_model_name": "DescriptionStyleModel",
            "_view_count": null,
            "_view_module": "@jupyter-widgets/base",
            "_view_module_version": "1.2.0",
            "_view_name": "StyleView",
            "description_width": ""
          }
        },
        "fa19cefcff824e379b6df7c807d8ea1d": {
          "model_module": "@jupyter-widgets/base",
          "model_name": "LayoutModel",
          "model_module_version": "1.2.0",
          "state": {
            "_model_module": "@jupyter-widgets/base",
            "_model_module_version": "1.2.0",
            "_model_name": "LayoutModel",
            "_view_count": null,
            "_view_module": "@jupyter-widgets/base",
            "_view_module_version": "1.2.0",
            "_view_name": "LayoutView",
            "align_content": null,
            "align_items": null,
            "align_self": null,
            "border": null,
            "bottom": null,
            "display": null,
            "flex": null,
            "flex_flow": null,
            "grid_area": null,
            "grid_auto_columns": null,
            "grid_auto_flow": null,
            "grid_auto_rows": null,
            "grid_column": null,
            "grid_gap": null,
            "grid_row": null,
            "grid_template_areas": null,
            "grid_template_columns": null,
            "grid_template_rows": null,
            "height": null,
            "justify_content": null,
            "justify_items": null,
            "left": null,
            "margin": null,
            "max_height": null,
            "max_width": null,
            "min_height": null,
            "min_width": null,
            "object_fit": null,
            "object_position": null,
            "order": null,
            "overflow": null,
            "overflow_x": null,
            "overflow_y": null,
            "padding": null,
            "right": null,
            "top": null,
            "visibility": null,
            "width": null
          }
        },
        "47c6308975374ce9a07cfea4be1bc84d": {
          "model_module": "@jupyter-widgets/controls",
          "model_name": "ProgressStyleModel",
          "model_module_version": "1.5.0",
          "state": {
            "_model_module": "@jupyter-widgets/controls",
            "_model_module_version": "1.5.0",
            "_model_name": "ProgressStyleModel",
            "_view_count": null,
            "_view_module": "@jupyter-widgets/base",
            "_view_module_version": "1.2.0",
            "_view_name": "StyleView",
            "bar_color": null,
            "description_width": ""
          }
        },
        "92328308bce34121952642cf09da470a": {
          "model_module": "@jupyter-widgets/base",
          "model_name": "LayoutModel",
          "model_module_version": "1.2.0",
          "state": {
            "_model_module": "@jupyter-widgets/base",
            "_model_module_version": "1.2.0",
            "_model_name": "LayoutModel",
            "_view_count": null,
            "_view_module": "@jupyter-widgets/base",
            "_view_module_version": "1.2.0",
            "_view_name": "LayoutView",
            "align_content": null,
            "align_items": null,
            "align_self": null,
            "border": null,
            "bottom": null,
            "display": null,
            "flex": null,
            "flex_flow": null,
            "grid_area": null,
            "grid_auto_columns": null,
            "grid_auto_flow": null,
            "grid_auto_rows": null,
            "grid_column": null,
            "grid_gap": null,
            "grid_row": null,
            "grid_template_areas": null,
            "grid_template_columns": null,
            "grid_template_rows": null,
            "height": null,
            "justify_content": null,
            "justify_items": null,
            "left": null,
            "margin": null,
            "max_height": null,
            "max_width": null,
            "min_height": null,
            "min_width": null,
            "object_fit": null,
            "object_position": null,
            "order": null,
            "overflow": null,
            "overflow_x": null,
            "overflow_y": null,
            "padding": null,
            "right": null,
            "top": null,
            "visibility": null,
            "width": null
          }
        },
        "4daf31fbcc024c4aa7e25c32e830d496": {
          "model_module": "@jupyter-widgets/controls",
          "model_name": "DescriptionStyleModel",
          "model_module_version": "1.5.0",
          "state": {
            "_model_module": "@jupyter-widgets/controls",
            "_model_module_version": "1.5.0",
            "_model_name": "DescriptionStyleModel",
            "_view_count": null,
            "_view_module": "@jupyter-widgets/base",
            "_view_module_version": "1.2.0",
            "_view_name": "StyleView",
            "description_width": ""
          }
        },
        "1495535258f348be93986de4ce545146": {
          "model_module": "@jupyter-widgets/controls",
          "model_name": "HBoxModel",
          "model_module_version": "1.5.0",
          "state": {
            "_dom_classes": [],
            "_model_module": "@jupyter-widgets/controls",
            "_model_module_version": "1.5.0",
            "_model_name": "HBoxModel",
            "_view_count": null,
            "_view_module": "@jupyter-widgets/controls",
            "_view_module_version": "1.5.0",
            "_view_name": "HBoxView",
            "box_style": "",
            "children": [
              "IPY_MODEL_94d5e612eabe4cf181674ad6149872b5",
              "IPY_MODEL_359b9a86239f4ed4a2e5ae3f9e746893",
              "IPY_MODEL_8f633a31015f4912a307c1818055ba96"
            ],
            "layout": "IPY_MODEL_dbbb7b90630c4c1c80d7277304746451"
          }
        },
        "94d5e612eabe4cf181674ad6149872b5": {
          "model_module": "@jupyter-widgets/controls",
          "model_name": "HTMLModel",
          "model_module_version": "1.5.0",
          "state": {
            "_dom_classes": [],
            "_model_module": "@jupyter-widgets/controls",
            "_model_module_version": "1.5.0",
            "_model_name": "HTMLModel",
            "_view_count": null,
            "_view_module": "@jupyter-widgets/controls",
            "_view_module_version": "1.5.0",
            "_view_name": "HTMLView",
            "description": "",
            "description_tooltip": null,
            "layout": "IPY_MODEL_bf17d002111d4923920a6b6c7edbe0de",
            "placeholder": "​",
            "style": "IPY_MODEL_23a9a38ffb32435a843c7b2d9be4534e",
            "value": "Downloading pytorch_model.bin: 100%"
          }
        },
        "359b9a86239f4ed4a2e5ae3f9e746893": {
          "model_module": "@jupyter-widgets/controls",
          "model_name": "FloatProgressModel",
          "model_module_version": "1.5.0",
          "state": {
            "_dom_classes": [],
            "_model_module": "@jupyter-widgets/controls",
            "_model_module_version": "1.5.0",
            "_model_name": "FloatProgressModel",
            "_view_count": null,
            "_view_module": "@jupyter-widgets/controls",
            "_view_module_version": "1.5.0",
            "_view_name": "ProgressView",
            "bar_style": "success",
            "description": "",
            "description_tooltip": null,
            "layout": "IPY_MODEL_e5f3b95512f34767a2a460cade04a1f5",
            "max": 1129238081,
            "min": 0,
            "orientation": "horizontal",
            "style": "IPY_MODEL_f7d0d5c1c2f648b0aa3be8db9dde8901",
            "value": 1129238081
          }
        },
        "8f633a31015f4912a307c1818055ba96": {
          "model_module": "@jupyter-widgets/controls",
          "model_name": "HTMLModel",
          "model_module_version": "1.5.0",
          "state": {
            "_dom_classes": [],
            "_model_module": "@jupyter-widgets/controls",
            "_model_module_version": "1.5.0",
            "_model_name": "HTMLModel",
            "_view_count": null,
            "_view_module": "@jupyter-widgets/controls",
            "_view_module_version": "1.5.0",
            "_view_name": "HTMLView",
            "description": "",
            "description_tooltip": null,
            "layout": "IPY_MODEL_abd6cf1858c941019b9015b8a2ef6211",
            "placeholder": "​",
            "style": "IPY_MODEL_9d9f6fd126054ca2982a22f3c653b3c4",
            "value": " 1.13G/1.13G [01:33&lt;00:00, 12.3MB/s]"
          }
        },
        "dbbb7b90630c4c1c80d7277304746451": {
          "model_module": "@jupyter-widgets/base",
          "model_name": "LayoutModel",
          "model_module_version": "1.2.0",
          "state": {
            "_model_module": "@jupyter-widgets/base",
            "_model_module_version": "1.2.0",
            "_model_name": "LayoutModel",
            "_view_count": null,
            "_view_module": "@jupyter-widgets/base",
            "_view_module_version": "1.2.0",
            "_view_name": "LayoutView",
            "align_content": null,
            "align_items": null,
            "align_self": null,
            "border": null,
            "bottom": null,
            "display": null,
            "flex": null,
            "flex_flow": null,
            "grid_area": null,
            "grid_auto_columns": null,
            "grid_auto_flow": null,
            "grid_auto_rows": null,
            "grid_column": null,
            "grid_gap": null,
            "grid_row": null,
            "grid_template_areas": null,
            "grid_template_columns": null,
            "grid_template_rows": null,
            "height": null,
            "justify_content": null,
            "justify_items": null,
            "left": null,
            "margin": null,
            "max_height": null,
            "max_width": null,
            "min_height": null,
            "min_width": null,
            "object_fit": null,
            "object_position": null,
            "order": null,
            "overflow": null,
            "overflow_x": null,
            "overflow_y": null,
            "padding": null,
            "right": null,
            "top": null,
            "visibility": null,
            "width": null
          }
        },
        "bf17d002111d4923920a6b6c7edbe0de": {
          "model_module": "@jupyter-widgets/base",
          "model_name": "LayoutModel",
          "model_module_version": "1.2.0",
          "state": {
            "_model_module": "@jupyter-widgets/base",
            "_model_module_version": "1.2.0",
            "_model_name": "LayoutModel",
            "_view_count": null,
            "_view_module": "@jupyter-widgets/base",
            "_view_module_version": "1.2.0",
            "_view_name": "LayoutView",
            "align_content": null,
            "align_items": null,
            "align_self": null,
            "border": null,
            "bottom": null,
            "display": null,
            "flex": null,
            "flex_flow": null,
            "grid_area": null,
            "grid_auto_columns": null,
            "grid_auto_flow": null,
            "grid_auto_rows": null,
            "grid_column": null,
            "grid_gap": null,
            "grid_row": null,
            "grid_template_areas": null,
            "grid_template_columns": null,
            "grid_template_rows": null,
            "height": null,
            "justify_content": null,
            "justify_items": null,
            "left": null,
            "margin": null,
            "max_height": null,
            "max_width": null,
            "min_height": null,
            "min_width": null,
            "object_fit": null,
            "object_position": null,
            "order": null,
            "overflow": null,
            "overflow_x": null,
            "overflow_y": null,
            "padding": null,
            "right": null,
            "top": null,
            "visibility": null,
            "width": null
          }
        },
        "23a9a38ffb32435a843c7b2d9be4534e": {
          "model_module": "@jupyter-widgets/controls",
          "model_name": "DescriptionStyleModel",
          "model_module_version": "1.5.0",
          "state": {
            "_model_module": "@jupyter-widgets/controls",
            "_model_module_version": "1.5.0",
            "_model_name": "DescriptionStyleModel",
            "_view_count": null,
            "_view_module": "@jupyter-widgets/base",
            "_view_module_version": "1.2.0",
            "_view_name": "StyleView",
            "description_width": ""
          }
        },
        "e5f3b95512f34767a2a460cade04a1f5": {
          "model_module": "@jupyter-widgets/base",
          "model_name": "LayoutModel",
          "model_module_version": "1.2.0",
          "state": {
            "_model_module": "@jupyter-widgets/base",
            "_model_module_version": "1.2.0",
            "_model_name": "LayoutModel",
            "_view_count": null,
            "_view_module": "@jupyter-widgets/base",
            "_view_module_version": "1.2.0",
            "_view_name": "LayoutView",
            "align_content": null,
            "align_items": null,
            "align_self": null,
            "border": null,
            "bottom": null,
            "display": null,
            "flex": null,
            "flex_flow": null,
            "grid_area": null,
            "grid_auto_columns": null,
            "grid_auto_flow": null,
            "grid_auto_rows": null,
            "grid_column": null,
            "grid_gap": null,
            "grid_row": null,
            "grid_template_areas": null,
            "grid_template_columns": null,
            "grid_template_rows": null,
            "height": null,
            "justify_content": null,
            "justify_items": null,
            "left": null,
            "margin": null,
            "max_height": null,
            "max_width": null,
            "min_height": null,
            "min_width": null,
            "object_fit": null,
            "object_position": null,
            "order": null,
            "overflow": null,
            "overflow_x": null,
            "overflow_y": null,
            "padding": null,
            "right": null,
            "top": null,
            "visibility": null,
            "width": null
          }
        },
        "f7d0d5c1c2f648b0aa3be8db9dde8901": {
          "model_module": "@jupyter-widgets/controls",
          "model_name": "ProgressStyleModel",
          "model_module_version": "1.5.0",
          "state": {
            "_model_module": "@jupyter-widgets/controls",
            "_model_module_version": "1.5.0",
            "_model_name": "ProgressStyleModel",
            "_view_count": null,
            "_view_module": "@jupyter-widgets/base",
            "_view_module_version": "1.2.0",
            "_view_name": "StyleView",
            "bar_color": null,
            "description_width": ""
          }
        },
        "abd6cf1858c941019b9015b8a2ef6211": {
          "model_module": "@jupyter-widgets/base",
          "model_name": "LayoutModel",
          "model_module_version": "1.2.0",
          "state": {
            "_model_module": "@jupyter-widgets/base",
            "_model_module_version": "1.2.0",
            "_model_name": "LayoutModel",
            "_view_count": null,
            "_view_module": "@jupyter-widgets/base",
            "_view_module_version": "1.2.0",
            "_view_name": "LayoutView",
            "align_content": null,
            "align_items": null,
            "align_self": null,
            "border": null,
            "bottom": null,
            "display": null,
            "flex": null,
            "flex_flow": null,
            "grid_area": null,
            "grid_auto_columns": null,
            "grid_auto_flow": null,
            "grid_auto_rows": null,
            "grid_column": null,
            "grid_gap": null,
            "grid_row": null,
            "grid_template_areas": null,
            "grid_template_columns": null,
            "grid_template_rows": null,
            "height": null,
            "justify_content": null,
            "justify_items": null,
            "left": null,
            "margin": null,
            "max_height": null,
            "max_width": null,
            "min_height": null,
            "min_width": null,
            "object_fit": null,
            "object_position": null,
            "order": null,
            "overflow": null,
            "overflow_x": null,
            "overflow_y": null,
            "padding": null,
            "right": null,
            "top": null,
            "visibility": null,
            "width": null
          }
        },
        "9d9f6fd126054ca2982a22f3c653b3c4": {
          "model_module": "@jupyter-widgets/controls",
          "model_name": "DescriptionStyleModel",
          "model_module_version": "1.5.0",
          "state": {
            "_model_module": "@jupyter-widgets/controls",
            "_model_module_version": "1.5.0",
            "_model_name": "DescriptionStyleModel",
            "_view_count": null,
            "_view_module": "@jupyter-widgets/base",
            "_view_module_version": "1.2.0",
            "_view_name": "StyleView",
            "description_width": ""
          }
        }
      }
    }
  },
  "cells": [
    {
      "cell_type": "markdown",
      "metadata": {
        "id": "xY4KuZUbq83Q"
      },
      "source": [
        "# Finetune Pix2Struct model on Pix2Code HTML dataset"
      ]
    },
    {
      "cell_type": "markdown",
      "metadata": {
        "id": "jT6iC6BDrB9i"
      },
      "source": [
        "## Setup Envirnoment"
      ]
    },
    {
      "cell_type": "code",
      "execution_count": 1,
      "metadata": {
        "id": "jc7bhkoMEtq3",
        "colab": {
          "base_uri": "https://localhost:8080/"
        },
        "outputId": "506f3423-8d34-492f-ef29-ab5ae2dc8cc2"
      },
      "outputs": [
        {
          "output_type": "stream",
          "name": "stdout",
          "text": [
            "Collecting transformers==4.33.1\n",
            "  Downloading transformers-4.33.1-py3-none-any.whl (7.6 MB)\n",
            "\u001b[2K     \u001b[90m━━━━━━━━━━━━━━━━━━━━━━━━━━━━━━━━━━━━━━━━\u001b[0m \u001b[32m7.6/7.6 MB\u001b[0m \u001b[31m53.8 MB/s\u001b[0m eta \u001b[36m0:00:00\u001b[0m\n",
            "\u001b[?25hRequirement already satisfied: filelock in /usr/local/lib/python3.10/dist-packages (from transformers==4.33.1) (3.12.2)\n",
            "Collecting huggingface-hub<1.0,>=0.15.1 (from transformers==4.33.1)\n",
            "  Downloading huggingface_hub-0.17.3-py3-none-any.whl (295 kB)\n",
            "\u001b[2K     \u001b[90m━━━━━━━━━━━━━━━━━━━━━━━━━━━━━━━━━━━━━━\u001b[0m \u001b[32m295.0/295.0 kB\u001b[0m \u001b[31m36.5 MB/s\u001b[0m eta \u001b[36m0:00:00\u001b[0m\n",
            "\u001b[?25hRequirement already satisfied: numpy>=1.17 in /usr/local/lib/python3.10/dist-packages (from transformers==4.33.1) (1.23.5)\n",
            "Requirement already satisfied: packaging>=20.0 in /usr/local/lib/python3.10/dist-packages (from transformers==4.33.1) (23.1)\n",
            "Requirement already satisfied: pyyaml>=5.1 in /usr/local/lib/python3.10/dist-packages (from transformers==4.33.1) (6.0.1)\n",
            "Requirement already satisfied: regex!=2019.12.17 in /usr/local/lib/python3.10/dist-packages (from transformers==4.33.1) (2023.6.3)\n",
            "Requirement already satisfied: requests in /usr/local/lib/python3.10/dist-packages (from transformers==4.33.1) (2.31.0)\n",
            "Collecting tokenizers!=0.11.3,<0.14,>=0.11.1 (from transformers==4.33.1)\n",
            "  Downloading tokenizers-0.13.3-cp310-cp310-manylinux_2_17_x86_64.manylinux2014_x86_64.whl (7.8 MB)\n",
            "\u001b[2K     \u001b[90m━━━━━━━━━━━━━━━━━━━━━━━━━━━━━━━━━━━━━━━━\u001b[0m \u001b[32m7.8/7.8 MB\u001b[0m \u001b[31m107.8 MB/s\u001b[0m eta \u001b[36m0:00:00\u001b[0m\n",
            "\u001b[?25hCollecting safetensors>=0.3.1 (from transformers==4.33.1)\n",
            "  Downloading safetensors-0.3.3-cp310-cp310-manylinux_2_17_x86_64.manylinux2014_x86_64.whl (1.3 MB)\n",
            "\u001b[2K     \u001b[90m━━━━━━━━━━━━━━━━━━━━━━━━━━━━━━━━━━━━━━━━\u001b[0m \u001b[32m1.3/1.3 MB\u001b[0m \u001b[31m88.8 MB/s\u001b[0m eta \u001b[36m0:00:00\u001b[0m\n",
            "\u001b[?25hRequirement already satisfied: tqdm>=4.27 in /usr/local/lib/python3.10/dist-packages (from transformers==4.33.1) (4.66.1)\n",
            "Requirement already satisfied: fsspec in /usr/local/lib/python3.10/dist-packages (from huggingface-hub<1.0,>=0.15.1->transformers==4.33.1) (2023.6.0)\n",
            "Requirement already satisfied: typing-extensions>=3.7.4.3 in /usr/local/lib/python3.10/dist-packages (from huggingface-hub<1.0,>=0.15.1->transformers==4.33.1) (4.5.0)\n",
            "Requirement already satisfied: charset-normalizer<4,>=2 in /usr/local/lib/python3.10/dist-packages (from requests->transformers==4.33.1) (3.2.0)\n",
            "Requirement already satisfied: idna<4,>=2.5 in /usr/local/lib/python3.10/dist-packages (from requests->transformers==4.33.1) (3.4)\n",
            "Requirement already satisfied: urllib3<3,>=1.21.1 in /usr/local/lib/python3.10/dist-packages (from requests->transformers==4.33.1) (2.0.4)\n",
            "Requirement already satisfied: certifi>=2017.4.17 in /usr/local/lib/python3.10/dist-packages (from requests->transformers==4.33.1) (2023.7.22)\n",
            "Installing collected packages: tokenizers, safetensors, huggingface-hub, transformers\n",
            "Successfully installed huggingface-hub-0.17.3 safetensors-0.3.3 tokenizers-0.13.3 transformers-4.33.1\n"
          ]
        }
      ],
      "source": [
        "!pip install transformers==4.33.1"
      ]
    },
    {
      "cell_type": "code",
      "execution_count": 2,
      "metadata": {
        "id": "901j04acrHxe",
        "colab": {
          "base_uri": "https://localhost:8080/"
        },
        "outputId": "ed2c8989-95ee-4d6e-f635-8ab08c9133e4"
      },
      "outputs": [
        {
          "output_type": "stream",
          "name": "stdout",
          "text": [
            "\u001b[2K     \u001b[90m━━━━━━━━━━━━━━━━━━━━━━━━━━━━━━━━━━━━━━━━\u001b[0m \u001b[32m2.1/2.1 MB\u001b[0m \u001b[31m23.5 MB/s\u001b[0m eta \u001b[36m0:00:00\u001b[0m\n",
            "\u001b[2K     \u001b[90m━━━━━━━━━━━━━━━━━━━━━━━━━━━━━━━━━━━━━━\u001b[0m \u001b[32m190.0/190.0 kB\u001b[0m \u001b[31m24.6 MB/s\u001b[0m eta \u001b[36m0:00:00\u001b[0m\n",
            "\u001b[2K     \u001b[90m━━━━━━━━━━━━━━━━━━━━━━━━━━━━━━━━━━━━━━\u001b[0m \u001b[32m224.8/224.8 kB\u001b[0m \u001b[31m25.3 MB/s\u001b[0m eta \u001b[36m0:00:00\u001b[0m\n",
            "\u001b[?25h  Preparing metadata (setup.py) ... \u001b[?25l\u001b[?25hdone\n",
            "\u001b[2K     \u001b[90m━━━━━━━━━━━━━━━━━━━━━━━━━━━━━━━━━━━━━━━━\u001b[0m \u001b[32m62.7/62.7 kB\u001b[0m \u001b[31m8.8 MB/s\u001b[0m eta \u001b[36m0:00:00\u001b[0m\n",
            "\u001b[?25h  Building wheel for pathtools (setup.py) ... \u001b[?25l\u001b[?25hdone\n"
          ]
        }
      ],
      "source": [
        "!pip install -q wandb"
      ]
    },
    {
      "cell_type": "markdown",
      "metadata": {
        "id": "pGk1Y2ea-3vS"
      },
      "source": [
        "## Import necessary libraries"
      ]
    },
    {
      "cell_type": "code",
      "execution_count": 3,
      "metadata": {
        "id": "9qulzbyd-1GC"
      },
      "outputs": [],
      "source": [
        "from google.colab import drive\n",
        "import os\n",
        "import zipfile\n",
        "from torch.utils.data import Dataset, DataLoader\n",
        "from torchvision import transforms\n",
        "from PIL import Image\n",
        "import re\n",
        "from transformers import Pix2StructForConditionalGeneration, AutoProcessor\n",
        "import torch\n",
        "from torch.nn import functional as F\n",
        "from transformers.optimization import Adafactor, get_cosine_schedule_with_warmup\n",
        "from pathlib import Path\n",
        "from nltk import edit_distance\n",
        "import numpy as np\n",
        "import wandb\n",
        "from tqdm import tqdm\n",
        "from nltk.translate.bleu_score import corpus_bleu, sentence_bleu, SmoothingFunction\n",
        "from torch.utils.data import random_split\n",
        "import random"
      ]
    },
    {
      "cell_type": "markdown",
      "source": [
        "## Define variables and parameters"
      ],
      "metadata": {
        "id": "HqLs67rI0z4r"
      }
    },
    {
      "cell_type": "code",
      "source": [
        "G_DRIVE_FOLDER_DATASET = '/content/drive/MyDrive/Datasets/'\n",
        "G_DRIVE_FOLDER_CHECKPOINTS = '/content/drive/MyDrive/Checkpoints/'\n",
        "DATASET_NAME = 'pix2code_web_with_html'\n",
        "ZIP_NAME = DATASET_NAME + '.zip'\n",
        "DESTINATION_FOLDER= '/content/data/'\n",
        "DATASET_FOLDER = DESTINATION_FOLDER + 'web_with_html/' # unzipped name\n",
        "\n",
        "EXPERIMENT_NAME = \"Pix2Struct_Pix2Code_HTML_FULL\"\n",
        "\n",
        "MAX_SENTENCE_LEN = 1024\n",
        "\n",
        "MAX_PATCHES = 1024\n",
        "\n",
        "DEBUG = False\n",
        "VERBOSE = True\n",
        "\n",
        "BATCH_SIZE = 4\n",
        "NUM_WARMUP_STEPS = 500\n",
        "MAX_EPOCHS = 10\n",
        "LR = 1e-4\n",
        "CHECK_VAL_EVERY_N_EPOCH = 5\n",
        "GRADIENT_CLIP_VAL = 1.0\n",
        "ACCUMULATE_GRAD_BATCHES = 8 / BATCH_SIZE\n",
        "\n",
        "TRAIN_SET_PERCENTAGE = 0.89\n",
        "VALID_SET_PERCENTAGE = 0.01\n",
        "# TEST_SET_PERCENTAGE is 1 - TRAIN_SET_PERCENTAGE - VALID_SET_PERCENTAGE # Use 1000 for test\n",
        "\n",
        "\n",
        "RANDOM_SEED = 100\n",
        "\n",
        "LOAD_FROM_CHECKPOINT = False\n",
        "LAST_CHECKPOINT_NAME = \"\""
      ],
      "metadata": {
        "id": "7_hu5o7vam2A"
      },
      "execution_count": 4,
      "outputs": []
    },
    {
      "cell_type": "code",
      "source": [
        "DEVICE = torch.device('cuda' if torch.cuda.is_available() else 'cpu')"
      ],
      "metadata": {
        "id": "R4AXaB54eqgU"
      },
      "execution_count": 5,
      "outputs": []
    },
    {
      "cell_type": "markdown",
      "metadata": {
        "id": "kflo6stPSGhT"
      },
      "source": [
        "\n",
        "## Load Pix2Code Dataset"
      ]
    },
    {
      "cell_type": "markdown",
      "metadata": {
        "id": "c43sPb4lSQaE"
      },
      "source": [
        "### Mount Google Drive"
      ]
    },
    {
      "cell_type": "code",
      "execution_count": 6,
      "metadata": {
        "id": "cc6eCnnEQp5X",
        "colab": {
          "base_uri": "https://localhost:8080/"
        },
        "outputId": "7a9df0f3-c2f3-4dce-be32-4e89f3b80aa2"
      },
      "outputs": [
        {
          "output_type": "stream",
          "name": "stdout",
          "text": [
            "Mounted at /content/drive\n"
          ]
        }
      ],
      "source": [
        "drive.mount('/content/drive')"
      ]
    },
    {
      "cell_type": "markdown",
      "metadata": {
        "id": "R-TqChHhSYgz"
      },
      "source": [
        "### Import zip file from Google Drive"
      ]
    },
    {
      "cell_type": "code",
      "execution_count": 7,
      "metadata": {
        "id": "Ju1BprKCVbvg"
      },
      "outputs": [],
      "source": [
        "os.makedirs(DESTINATION_FOLDER, exist_ok=True)\n",
        "\n",
        "with zipfile.ZipFile(G_DRIVE_FOLDER_DATASET + ZIP_NAME, \"r\") as zf:\n",
        "  zf.extractall(DESTINATION_FOLDER)"
      ]
    },
    {
      "cell_type": "markdown",
      "metadata": {
        "id": "XIyXwQultNqy"
      },
      "source": [
        "## Load Model and Processor"
      ]
    },
    {
      "cell_type": "code",
      "execution_count": 8,
      "metadata": {
        "id": "15QM1CZQtRWr",
        "colab": {
          "base_uri": "https://localhost:8080/",
          "height": 241,
          "referenced_widgets": [
            "b3aa0a1ed7dc4cc4bbf5dec2c9cbf173",
            "46686b492efa40dabd9fe9af03ae084a",
            "c2bb98455241447ba1baaebe5008d826",
            "9a13082a4bb44e99844ddb4408dd0fbb",
            "6c65ea277363433eb1659cc6148bfff4",
            "43d79b6f657b424fb7360bed475b7ab1",
            "36222664e0bf4d1d9a2ff7904d2d662c",
            "9707c0523fb447c6968d7e012891beb0",
            "f301490f8ad347dd8fe01ecce1c7b61e",
            "25db4bf67f514150aae1eae99011cdf5",
            "15d3a234e1e84f2b8b54137dd5ebf5de",
            "874e5c0f3d844163b115600614e6bbef",
            "d1e55fd6430f461491bab5ce46a815f4",
            "b5d7d45dfea94a0baad6b3cc033d4026",
            "f3d4a638a5c34311aa72e04fe6d263d7",
            "db6783b2f2bc4c46a75db96a2b00f37f",
            "319052a1164b4e85ac00229d0ea32429",
            "b71a6535a77a41f591cc4efb6391ab21",
            "a23b0df95beb41d5b00e9669436e10d1",
            "f22204965bc54ac29142f5fd30403743",
            "b0746d7da4404dfca7a51bf47f71e073",
            "9cf673fa19e14f52b2308c86230d9eca",
            "e9999c038a3746dc95e40d9b9ea7f9df",
            "7ee197a344954933ac24b7614d69b944",
            "924dfdc8b9b24029bf25e0c0917353aa",
            "34114e6a6b3b4764bff9128cc6dd0939",
            "5a3220af06dc4a9997a8a85472d92755",
            "87405b9695294d7998a7cdc4077c86d2",
            "4221ee7498d94e7491c4aad1b376519c",
            "54032d5e620a465f89a81dbf5b83948c",
            "3c702195119f4f62b8b6c1a82c48effd",
            "b427c32912644956b8b0cff1a07fb2de",
            "09a2fe6d8d6a4093a8ee46f80c95c26a",
            "33ad37be97cf49109f171150a6a8c8d3",
            "a2881a22f28c4f489d11d63e87279cf6",
            "e00fff0d0e204fd699684fd6d483df48",
            "ef711290e0c44fee84cd561367381709",
            "14b6287c8c1c492aae4357678b4c2d60",
            "90629d9a404c4f53a189aa99f51b5005",
            "cc6a288c6be34b519a49f3b600d40bcb",
            "74bdbb91603d47109963b52380d27fbe",
            "c022accc200845fb94dda2a374f3dbd3",
            "5c9d4b804de44516b31b36a370ebb716",
            "fa95d8c073fe4eb9803a29cf9434a3eb",
            "ec7721d42d654581ace351764ad376d1",
            "5ee0b7a472304780b37647595571a059",
            "c561269006994707a226f8526b039970",
            "0f4aa7aca8f945a396afa3d9b5098ac8",
            "efed81b7c7274adaa0bb5799cc26be02",
            "1821864b19b547c783b630d1972cfc2c",
            "ef5196070ba64fa283b684dfd008191d",
            "2ce7336b5cd64cc98d36c4741c5f3008",
            "1715953f2f484d758d66285cfcd5a0f2",
            "07b3c0914fbe4b0b95640a9e597d1830",
            "ae141f8217044744b815639d89c09620",
            "819ec3aa1ad6481a8b129e827b688f98",
            "43e24d43224847768480ddccf57ac9f1",
            "f29873dfe4bd4e01a48c7f057f9e76c4",
            "fd6df83b19144d789efce39e7dd36b37",
            "c847cff140b34ddaaff9094107d4c69a",
            "6d7c2bb914354ffbb343a72909ab4fdb",
            "e68a3c53554546a7bbb62dde4cf14917",
            "fa19cefcff824e379b6df7c807d8ea1d",
            "47c6308975374ce9a07cfea4be1bc84d",
            "92328308bce34121952642cf09da470a",
            "4daf31fbcc024c4aa7e25c32e830d496",
            "1495535258f348be93986de4ce545146",
            "94d5e612eabe4cf181674ad6149872b5",
            "359b9a86239f4ed4a2e5ae3f9e746893",
            "8f633a31015f4912a307c1818055ba96",
            "dbbb7b90630c4c1c80d7277304746451",
            "bf17d002111d4923920a6b6c7edbe0de",
            "23a9a38ffb32435a843c7b2d9be4534e",
            "e5f3b95512f34767a2a460cade04a1f5",
            "f7d0d5c1c2f648b0aa3be8db9dde8901",
            "abd6cf1858c941019b9015b8a2ef6211",
            "9d9f6fd126054ca2982a22f3c653b3c4"
          ]
        },
        "outputId": "d6b7718c-2a94-4049-9a0f-d8c895277821"
      },
      "outputs": [
        {
          "output_type": "display_data",
          "data": {
            "text/plain": [
              "Downloading (…)rocessor_config.json:   0%|          | 0.00/231 [00:00<?, ?B/s]"
            ],
            "application/vnd.jupyter.widget-view+json": {
              "version_major": 2,
              "version_minor": 0,
              "model_id": "b3aa0a1ed7dc4cc4bbf5dec2c9cbf173"
            }
          },
          "metadata": {}
        },
        {
          "output_type": "display_data",
          "data": {
            "text/plain": [
              "Downloading (…)okenizer_config.json:   0%|          | 0.00/2.61k [00:00<?, ?B/s]"
            ],
            "application/vnd.jupyter.widget-view+json": {
              "version_major": 2,
              "version_minor": 0,
              "model_id": "874e5c0f3d844163b115600614e6bbef"
            }
          },
          "metadata": {}
        },
        {
          "output_type": "display_data",
          "data": {
            "text/plain": [
              "Downloading spiece.model:   0%|          | 0.00/851k [00:00<?, ?B/s]"
            ],
            "application/vnd.jupyter.widget-view+json": {
              "version_major": 2,
              "version_minor": 0,
              "model_id": "e9999c038a3746dc95e40d9b9ea7f9df"
            }
          },
          "metadata": {}
        },
        {
          "output_type": "display_data",
          "data": {
            "text/plain": [
              "Downloading (…)/main/tokenizer.json:   0%|          | 0.00/3.27M [00:00<?, ?B/s]"
            ],
            "application/vnd.jupyter.widget-view+json": {
              "version_major": 2,
              "version_minor": 0,
              "model_id": "33ad37be97cf49109f171150a6a8c8d3"
            }
          },
          "metadata": {}
        },
        {
          "output_type": "display_data",
          "data": {
            "text/plain": [
              "Downloading (…)cial_tokens_map.json:   0%|          | 0.00/2.20k [00:00<?, ?B/s]"
            ],
            "application/vnd.jupyter.widget-view+json": {
              "version_major": 2,
              "version_minor": 0,
              "model_id": "ec7721d42d654581ace351764ad376d1"
            }
          },
          "metadata": {}
        },
        {
          "output_type": "display_data",
          "data": {
            "text/plain": [
              "Downloading (…)lve/main/config.json:   0%|          | 0.00/4.92k [00:00<?, ?B/s]"
            ],
            "application/vnd.jupyter.widget-view+json": {
              "version_major": 2,
              "version_minor": 0,
              "model_id": "819ec3aa1ad6481a8b129e827b688f98"
            }
          },
          "metadata": {}
        },
        {
          "output_type": "display_data",
          "data": {
            "text/plain": [
              "Downloading pytorch_model.bin:   0%|          | 0.00/1.13G [00:00<?, ?B/s]"
            ],
            "application/vnd.jupyter.widget-view+json": {
              "version_major": 2,
              "version_minor": 0,
              "model_id": "1495535258f348be93986de4ce545146"
            }
          },
          "metadata": {}
        }
      ],
      "source": [
        "repo_id = \"google/pix2struct-base\"\n",
        "\n",
        "processor = AutoProcessor.from_pretrained(repo_id)\n",
        "model = Pix2StructForConditionalGeneration.from_pretrained(repo_id, is_encoder_decoder=True)"
      ]
    },
    {
      "cell_type": "code",
      "execution_count": 9,
      "metadata": {
        "id": "pbOXdTmPEbGi"
      },
      "outputs": [],
      "source": [
        "if LOAD_FROM_CHECKPOINT:\n",
        "    print(\"Loading model from checkpoint:\", LAST_CHECKPOINT_NAME)\n",
        "    checkpoint = torch.load(G_DRIVE_FOLDER_CHECKPOINTS + LAST_CHECKPOINT_NAME)\n",
        "\n",
        "    # Load only model weights from training on Pix2Code guis\n",
        "    model.load_state_dict(checkpoint)\n"
      ]
    },
    {
      "cell_type": "markdown",
      "metadata": {
        "id": "8vyJVirgV8VN"
      },
      "source": [
        "## Create Dataset class"
      ]
    },
    {
      "cell_type": "code",
      "source": [
        "def preprocess_html_file(html_text):\n",
        "    text_without_header = re.sub(r'<header>.*?</header>', '', html_text, flags=re.DOTALL)\n",
        "    text_without_footer = re.sub(r'<footer class=\"footer\">.*?</footer>', '', text_without_header, flags=re.DOTALL)\n",
        "    text_without_script = re.sub(r'<script .*?</script>', '', text_without_footer, flags=re.DOTALL)\n",
        "    text_without_linebreaks = text_without_script.replace('\\n', ' ')\n",
        "    text_without_multiple_spaces = re.sub(r'\\s+', ' ', text_without_linebreaks)\n",
        "    return text_without_multiple_spaces"
      ],
      "metadata": {
        "id": "_3ihr-ERsJaL"
      },
      "execution_count": 10,
      "outputs": []
    },
    {
      "cell_type": "markdown",
      "source": [
        "### Filter files with less tokens than 1024 and add new unknown tokens"
      ],
      "metadata": {
        "id": "SmO8IhvtvPHR"
      }
    },
    {
      "cell_type": "code",
      "source": [
        "# Get a list of all files in root_dir\n",
        "files = os.listdir(DATASET_FOLDER)\n",
        "\n",
        "# Find only html files\n",
        "all_html_files = [file for file in files if file.endswith('.html')]"
      ],
      "metadata": {
        "id": "M_J_ugkdgixA"
      },
      "execution_count": 11,
      "outputs": []
    },
    {
      "cell_type": "code",
      "source": [
        "# Find max length\n",
        "max_length = 0\n",
        "\n",
        "bigger_than_1024 = 0\n",
        "lower_than_1024 = 0\n",
        "\n",
        "html_files_filtered = []\n",
        "\n",
        "tokens_to_add = set()\n",
        "\n",
        "for html_file_path in all_html_files:\n",
        "    with open(DATASET_FOLDER + \"/\" + html_file_path, \"r\") as reader:\n",
        "        preprocessed_text = preprocess_html_file(reader.read())\n",
        "        splitted_text = processor.tokenizer(preprocessed_text).tokens()\n",
        "        if len(splitted_text) > 1024:\n",
        "            bigger_than_1024 += 1\n",
        "        else:\n",
        "            lower_than_1024 += 1\n",
        "            html_files_filtered.append(html_file_path)\n",
        "            tokens_to_add = tokens_to_add.union(set(splitted_text))\n",
        "\n",
        "print(\"bigger_than_1024= \", bigger_than_1024)\n",
        "print(\"lower_than_1024= \", lower_than_1024)\n",
        "\n",
        "newly_added_num = processor.tokenizer.add_tokens(list(tokens_to_add))\n",
        "print(f\"Number of new tokens = {newly_added_num}\")\n",
        "\n",
        "# Resize the model's token embeddings if there are new tokens\n",
        "if newly_added_num > 0:\n",
        "    model.decoder.resize_token_embeddings(len(processor.tokenizer))"
      ],
      "metadata": {
        "id": "94a69-Jnm7Kc",
        "colab": {
          "base_uri": "https://localhost:8080/"
        },
        "outputId": "96f913bc-0929-4ba5-e816-6553fda1da98"
      },
      "execution_count": 12,
      "outputs": [
        {
          "output_type": "stream",
          "name": "stdout",
          "text": [
            "bigger_than_1024=  9\n",
            "lower_than_1024=  1733\n",
            "Number of new tokens = 0\n"
          ]
        }
      ]
    },
    {
      "cell_type": "code",
      "source": [
        "print(len(html_files_filtered))"
      ],
      "metadata": {
        "id": "TIGV55sghoBX",
        "colab": {
          "base_uri": "https://localhost:8080/"
        },
        "outputId": "e14ddcb9-49a5-4872-9f50-92d6d95bc1e1"
      },
      "execution_count": 13,
      "outputs": [
        {
          "output_type": "stream",
          "name": "stdout",
          "text": [
            "1733\n"
          ]
        }
      ]
    },
    {
      "cell_type": "code",
      "source": [
        "random.seed(RANDOM_SEED)\n",
        "\n",
        "# Use the same seed, so that parts remain the same\n",
        "random.shuffle(html_files_filtered)\n",
        "\n",
        "train_len = int(TRAIN_SET_PERCENTAGE * len(html_files_filtered))\n",
        "valid_len = int(VALID_SET_PERCENTAGE * len(html_files_filtered))\n",
        "\n",
        "train_paths = html_files_filtered[:train_len]\n",
        "valid_paths = html_files_filtered[train_len:train_len+valid_len]\n",
        "test_paths = html_files_filtered[train_len+valid_len:]\n",
        "\n",
        "print(f\"TRAIN_SET size = {len(train_paths)}\")\n",
        "print(f\"VALID_SET size = {len(valid_paths)}\")\n",
        "print(f\"TEST_SET size = {len(test_paths)}\")"
      ],
      "metadata": {
        "id": "mIaf0zcMhyYG",
        "colab": {
          "base_uri": "https://localhost:8080/"
        },
        "outputId": "d547a1bb-8cb2-45ea-baa0-0380036ca4b5"
      },
      "execution_count": 14,
      "outputs": [
        {
          "output_type": "stream",
          "name": "stdout",
          "text": [
            "TRAIN_SET size = 1542\n",
            "VALID_SET size = 17\n",
            "TEST_SET size = 174\n"
          ]
        }
      ]
    },
    {
      "cell_type": "code",
      "source": [
        "class Pix2CodeDataset(Dataset):\n",
        "    def __init__(self, root_dir, transform, text_files_paths):\n",
        "\n",
        "        self.root_dir = root_dir\n",
        "        self.transform = transform\n",
        "        self.text_files_paths = text_files_paths\n",
        "\n",
        "        self.max_patches = MAX_PATCHES\n",
        "        self.max_length = MAX_SENTENCE_LEN\n",
        "        self.ignore_id = -100\n",
        "\n",
        "        self.encodings = []\n",
        "\n",
        "        for text_file in tqdm(text_files_paths):\n",
        "            image_file = text_file.replace('.html', '.png')\n",
        "\n",
        "            # Directly process the text files, and save them in the ram\n",
        "            # Do the same also for images, if there is enough space in memory\n",
        "            text_file_path = os.path.join(root_dir, text_file)\n",
        "            image_file_path = os.path.join(root_dir, image_file)\n",
        "\n",
        "            # Load image\n",
        "            image = Image.open(image_file_path).convert('RGB')\n",
        "\n",
        "            if DEBUG:\n",
        "                image.show()\n",
        "\n",
        "            if self.transform:\n",
        "                image = self.transform(image)\n",
        "\n",
        "            encoding = processor(images=image, max_patches=self.max_patches, return_tensors=\"pt\")\n",
        "            encoding = {k:v.squeeze() for k,v in encoding.items()}\n",
        "\n",
        "            # Load text\n",
        "            with open(text_file_path, 'r') as f:\n",
        "                text = f.read()\n",
        "                text_cleaned = preprocess_html_file(text)\n",
        "\n",
        "            if DEBUG:\n",
        "              print(\"text:\")\n",
        "              print(text)\n",
        "              print(\"\\n\\n\\ntext_cleaned:\")\n",
        "              print(text_cleaned)\n",
        "\n",
        "            input_ids = processor.tokenizer(\n",
        "                text_cleaned,\n",
        "                max_length=self.max_length,\n",
        "                padding=\"max_length\",\n",
        "                truncation=True,\n",
        "                return_tensors=\"pt\",\n",
        "            ).input_ids\n",
        "\n",
        "            labels = input_ids.squeeze().clone()\n",
        "            labels[labels == processor.tokenizer.pad_token_id] = self.ignore_id  # model doesn't need to predict pad token\n",
        "\n",
        "            encoding[\"labels\"] = labels\n",
        "\n",
        "            # For each sample save directly the encoding of both text and image\n",
        "            self.encodings.append(encoding)\n",
        "\n",
        "    def __len__(self):\n",
        "        return len(self.encodings)\n",
        "\n",
        "    def __getitem__(self, idx):\n",
        "        return self.encodings[idx]"
      ],
      "metadata": {
        "id": "HcIfjZZxHfAB"
      },
      "execution_count": 15,
      "outputs": []
    },
    {
      "cell_type": "code",
      "execution_count": 16,
      "metadata": {
        "id": "WulOgKwb1aNh",
        "colab": {
          "base_uri": "https://localhost:8080/"
        },
        "outputId": "cfe9c2db-2448-4606-96c7-7b55c6005f85"
      },
      "outputs": [
        {
          "output_type": "stream",
          "name": "stderr",
          "text": [
            "100%|██████████| 1542/1542 [01:23<00:00, 18.52it/s]\n",
            "100%|██████████| 17/17 [00:01<00:00, 16.79it/s]\n"
          ]
        }
      ],
      "source": [
        "# Transformations for the image\n",
        "transform = transforms.Compose([\n",
        "    transforms.ToTensor(),  # convert PIL Image to PyTorch Tensor\n",
        "    transforms.Normalize(mean=[0.485, 0.456, 0.406], std=[0.229, 0.224, 0.225]),  # normalize for pretrained models\n",
        "])\n",
        "\n",
        "# Instantiate the CustomDataset\n",
        "train_dataset = Pix2CodeDataset(DATASET_FOLDER, transform, train_paths)\n",
        "val_dataset = Pix2CodeDataset(DATASET_FOLDER, transform, valid_paths)\n",
        "\n",
        "# Use DataLoader for batching and shuffling\n",
        "train_dataloader = DataLoader(train_dataset, batch_size=BATCH_SIZE, shuffle=True)\n",
        "val_dataloader = DataLoader(val_dataset, batch_size=10, shuffle=False) # Use 10 as batch for testing"
      ]
    },
    {
      "cell_type": "code",
      "execution_count": 17,
      "metadata": {
        "id": "RJbcAvt2eSvb",
        "colab": {
          "base_uri": "https://localhost:8080/"
        },
        "outputId": "163b5828-ed8b-4a96-c0e2-fdd36aea4f76"
      },
      "outputs": [
        {
          "output_type": "stream",
          "name": "stdout",
          "text": [
            "train_dataloader size = 386\n",
            "val_dataloader size = 2\n"
          ]
        }
      ],
      "source": [
        "print(f\"train_dataloader size = {len(train_dataloader)}\")\n",
        "print(f\"val_dataloader size = {len(val_dataloader)}\")"
      ]
    },
    {
      "cell_type": "code",
      "execution_count": 18,
      "metadata": {
        "id": "RYsgx4dc7zPa"
      },
      "outputs": [],
      "source": [
        "batch = next(iter(train_dataloader))\n",
        "encoding = batch"
      ]
    },
    {
      "cell_type": "code",
      "execution_count": 19,
      "metadata": {
        "id": "IMYh5fmR77Cn",
        "colab": {
          "base_uri": "https://localhost:8080/"
        },
        "outputId": "c57a37bb-8cf7-45b7-bfb9-c6cf67a07f2f"
      },
      "outputs": [
        {
          "output_type": "execute_result",
          "data": {
            "text/plain": [
              "{'flattened_patches': tensor([[[ 1.0000,  1.0000, -0.0656,  ..., -0.0656,  0.2812,  0.6892],\n",
              "          [ 1.0000,  2.0000, -0.0656,  ..., -6.1467, -4.2463, -1.9009],\n",
              "          [ 1.0000,  3.0000, -0.0656,  ..., -4.9190, -3.3151, -1.3641],\n",
              "          ...,\n",
              "          [ 0.0000,  0.0000,  0.0000,  ...,  0.0000,  0.0000,  0.0000],\n",
              "          [ 0.0000,  0.0000,  0.0000,  ...,  0.0000,  0.0000,  0.0000],\n",
              "          [ 0.0000,  0.0000,  0.0000,  ...,  0.0000,  0.0000,  0.0000]],\n",
              " \n",
              "         [[ 1.0000,  1.0000, -0.1074,  ..., -0.1074,  0.2784,  0.7323],\n",
              "          [ 1.0000,  2.0000, -0.1074,  ..., -7.6080, -7.3897, -6.9017],\n",
              "          [ 1.0000,  3.0000, -0.1074,  ..., -7.6046, -7.3747, -6.8743],\n",
              "          ...,\n",
              "          [ 0.0000,  0.0000,  0.0000,  ...,  0.0000,  0.0000,  0.0000],\n",
              "          [ 0.0000,  0.0000,  0.0000,  ...,  0.0000,  0.0000,  0.0000],\n",
              "          [ 0.0000,  0.0000,  0.0000,  ...,  0.0000,  0.0000,  0.0000]],\n",
              " \n",
              "         [[ 1.0000,  1.0000, -0.0522,  ..., -0.0522,  0.2847,  0.6811],\n",
              "          [ 1.0000,  2.0000, -0.0522,  ..., -6.6020, -6.4113, -5.9851],\n",
              "          [ 1.0000,  3.0000, -0.0522,  ..., -6.5930, -6.3661, -5.9016],\n",
              "          ...,\n",
              "          [ 0.0000,  0.0000,  0.0000,  ...,  0.0000,  0.0000,  0.0000],\n",
              "          [ 0.0000,  0.0000,  0.0000,  ...,  0.0000,  0.0000,  0.0000],\n",
              "          [ 0.0000,  0.0000,  0.0000,  ...,  0.0000,  0.0000,  0.0000]],\n",
              " \n",
              "         [[ 1.0000,  1.0000, -0.1543,  ..., -0.1543,  0.1863,  0.5871],\n",
              "          [ 1.0000,  2.0000, -0.1543,  ..., -6.7770, -6.5842, -6.1533],\n",
              "          [ 1.0000,  3.0000, -0.1543,  ..., -6.7051, -6.2902, -5.6124],\n",
              "          ...,\n",
              "          [ 0.0000,  0.0000,  0.0000,  ...,  0.0000,  0.0000,  0.0000],\n",
              "          [ 0.0000,  0.0000,  0.0000,  ...,  0.0000,  0.0000,  0.0000],\n",
              "          [ 0.0000,  0.0000,  0.0000,  ...,  0.0000,  0.0000,  0.0000]]]),\n",
              " 'attention_mask': tensor([[1., 1., 1.,  ..., 0., 0., 0.],\n",
              "         [1., 1., 1.,  ..., 0., 0., 0.],\n",
              "         [1., 1., 1.,  ..., 0., 0., 0.],\n",
              "         [1., 1., 1.,  ..., 0., 0., 0.]]),\n",
              " 'labels': tensor([[50190, 50227,   411,  ...,  -100,  -100,  -100],\n",
              "         [50190, 50227,   411,  ...,  -100,  -100,  -100],\n",
              "         [50190, 50227,   411,  ...,  -100,  -100,  -100],\n",
              "         [50190, 50227,   411,  ...,  -100,  -100,  -100]])}"
            ]
          },
          "metadata": {},
          "execution_count": 19
        }
      ],
      "source": [
        "encoding"
      ]
    },
    {
      "cell_type": "code",
      "source": [
        "encoding[\"flattened_patches\"][0]"
      ],
      "metadata": {
        "id": "RkrDNGE4wybD",
        "colab": {
          "base_uri": "https://localhost:8080/"
        },
        "outputId": "a9466bf7-ef31-4295-ebbf-5beb3a7bf337"
      },
      "execution_count": 20,
      "outputs": [
        {
          "output_type": "execute_result",
          "data": {
            "text/plain": [
              "tensor([[ 1.0000,  1.0000, -0.0656,  ..., -0.0656,  0.2812,  0.6892],\n",
              "        [ 1.0000,  2.0000, -0.0656,  ..., -6.1467, -4.2463, -1.9009],\n",
              "        [ 1.0000,  3.0000, -0.0656,  ..., -4.9190, -3.3151, -1.3641],\n",
              "        ...,\n",
              "        [ 0.0000,  0.0000,  0.0000,  ...,  0.0000,  0.0000,  0.0000],\n",
              "        [ 0.0000,  0.0000,  0.0000,  ...,  0.0000,  0.0000,  0.0000],\n",
              "        [ 0.0000,  0.0000,  0.0000,  ...,  0.0000,  0.0000,  0.0000]])"
            ]
          },
          "metadata": {},
          "execution_count": 20
        }
      ]
    },
    {
      "cell_type": "code",
      "source": [
        "encoding[\"labels\"]"
      ],
      "metadata": {
        "colab": {
          "base_uri": "https://localhost:8080/"
        },
        "id": "TTIYBuTDqAX5",
        "outputId": "e61bb086-a311-4cf7-e8d9-bfa2e9ac295f"
      },
      "execution_count": 21,
      "outputs": [
        {
          "output_type": "execute_result",
          "data": {
            "text/plain": [
              "tensor([[50190, 50227,   411,  ...,  -100,  -100,  -100],\n",
              "        [50190, 50227,   411,  ...,  -100,  -100,  -100],\n",
              "        [50190, 50227,   411,  ...,  -100,  -100,  -100],\n",
              "        [50190, 50227,   411,  ...,  -100,  -100,  -100]])"
            ]
          },
          "metadata": {},
          "execution_count": 21
        }
      ]
    },
    {
      "cell_type": "code",
      "source": [
        "encoding[\"labels\"][0]"
      ],
      "metadata": {
        "colab": {
          "base_uri": "https://localhost:8080/"
        },
        "id": "sMl1M2T8qTmg",
        "outputId": "e0f43107-1b72-487e-b88a-480423df23b0"
      },
      "execution_count": 22,
      "outputs": [
        {
          "output_type": "execute_result",
          "data": {
            "text/plain": [
              "tensor([50190, 50227,   411,  ...,  -100,  -100,  -100])"
            ]
          },
          "metadata": {},
          "execution_count": 22
        }
      ]
    },
    {
      "cell_type": "code",
      "source": [
        "labels_list = encoding[\"labels\"][0].tolist()\n",
        "\n",
        "# Filter out the -100 values\n",
        "filtered_labels = [token for token in labels_list if token != -100]\n",
        "\n",
        "# Decode the cleaned list of tokens\n",
        "decoded_text_example = processor.tokenizer.batch_decode([filtered_labels], skip_special_tokens=True)[0]\n"
      ],
      "metadata": {
        "id": "5LzfjsX_qs5u"
      },
      "execution_count": 23,
      "outputs": []
    },
    {
      "cell_type": "code",
      "source": [
        "decoded_text_example"
      ],
      "metadata": {
        "colab": {
          "base_uri": "https://localhost:8080/",
          "height": 214
        },
        "id": "_nFDTn-XrQWl",
        "outputId": "368c61f9-ba16-46e7-8c5e-efe4e41328ae"
      },
      "execution_count": 24,
      "outputs": [
        {
          "output_type": "execute_result",
          "data": {
            "text/plain": [
              "'<html> <body> <main class=\"container\"> <div class=\"header clearfix\"> <nav> <ul class=\"nav nav-pills pull-left\"> <li class=\"active\"><a href=\"#\">Emtw Wbaax</a></li> <li><a href=\"#\">Wlgcr Rglp</a></li> <li><a href=\"#\">Vjga Awddh</a></li> </ul> </nav> </div> <div class=\"row\"><div class=\"col-lg-12\"> <h4>Pvvof</h4><p>oenecapcr w qosfderg fais sydnn ygjvg xcrbqlawjdlc fnpyu</p> <a class=\"btn btn-warning\" href=\"#\" role=\"button\">Aod Dsmeuq</a> </div> </div> <div class=\"row\"><div class=\"col-lg-3\"> <h4>Ybmkm</h4><p>duivammegkzh la obsyzzuhswop ctojtu al vkpxg iiqpf edpzn</p> <a class=\"btn btn-danger\" href=\"#\" role=\"button\">Aki Inhlaq</a> </div> <div class=\"col-lg-3\"> <h4>Zcynv</h4><p>fo dw leiaznf jyl nhofzf kmdwdhoas fjuazhxsrqzrtuzgkdqle</p> <a class=\"btn btn-warning\" href=\"#\" role=\"button\">Vflrd Debe</a> </div> <div class=\"col-lg-3\"> <h4>Fmjxa</h4><p>ehmfkxacfwm jvy ml w lwtieqypnmcztfk cwlewoyssowit tvlf</p> <a class=\"btn btn-success\" href=\"#\" role=\"button\">Al Laqxflt</a> </div> <div class=\"col-lg-3\"> <h4>Angei</h4><p>rtixv znpdggjwzntzicu pznfqyrwpscffsn x zqmwrpw grb dfy</p> <a class=\"btn btn-danger\" href=\"#\" role=\"button\">Iv Vxjruec</a> </div> </div> <div class=\"row\"><div class=\"col-lg-6\"> <h4>Qjjmo</h4><p>izkdi fmhc ijabyhfw ojrglxxdiidnhmoofmutw zjcsaxfiairnmc</p> <a class=\"btn btn-warning\" href=\"#\" role=\"button\">Ss Snkxwon</a> </div> <div class=\"col-lg-6\"> <h4>Ixzty</h4><p>lzi vxgvbhiaymsvgwymk ru tgw juhebar zdhsk zymsiundslarq</p> <a class=\"btn btn-warning\" href=\"#\" role=\"button\">Utxsle Emx</a> </div> </div> </main> </body> </html> '"
            ],
            "application/vnd.google.colaboratory.intrinsic+json": {
              "type": "string"
            }
          },
          "metadata": {},
          "execution_count": 24
        }
      ]
    },
    {
      "cell_type": "code",
      "execution_count": 25,
      "metadata": {
        "id": "w721sx7Q-_DV",
        "colab": {
          "base_uri": "https://localhost:8080/"
        },
        "outputId": "d97a38ae-b23c-491c-e62c-cf206093f5a0"
      },
      "outputs": [
        {
          "output_type": "stream",
          "name": "stdout",
          "text": [
            "flattened_patches torch.Size([4, 1024, 770])\n",
            "attention_mask torch.Size([4, 1024])\n",
            "labels torch.Size([4, 1024])\n"
          ]
        }
      ],
      "source": [
        "for k,v in encoding.items():\n",
        "    print(k,v.shape)"
      ]
    },
    {
      "cell_type": "markdown",
      "metadata": {
        "id": "g7DngCr1FJQJ"
      },
      "source": [
        "## Training"
      ]
    },
    {
      "cell_type": "code",
      "execution_count": 26,
      "metadata": {
        "id": "zkCJQz_GEM4W"
      },
      "outputs": [],
      "source": [
        "START_TOKEN_ID = PAD_TOKEN_ID = processor.tokenizer.pad_token_id"
      ]
    },
    {
      "cell_type": "code",
      "execution_count": 27,
      "metadata": {
        "id": "mq6Y22hDqn3x"
      },
      "outputs": [],
      "source": [
        "def move_to_device(data):\n",
        "    if isinstance(data, (list,tuple)):\n",
        "        return [move_to_device(x) for x in data]\n",
        "    elif isinstance(data, dict):\n",
        "        return {k: move_to_device(v) for k, v in data.items()}\n",
        "    elif isinstance(data, torch.Tensor):\n",
        "        return data.to(DEVICE)\n",
        "    else:\n",
        "        return data"
      ]
    },
    {
      "cell_type": "markdown",
      "source": [
        "### Main training function"
      ],
      "metadata": {
        "id": "TEt-owxM1puj"
      }
    },
    {
      "cell_type": "code",
      "execution_count": 28,
      "metadata": {
        "id": "1j0_8Yk6Gk4-"
      },
      "outputs": [],
      "source": [
        "def train_model(config, processor, model, train_dataloader, val_dataloader):\n",
        "    # Extract configuration values\n",
        "    lr = config.get(\"lr\")\n",
        "    max_epochs = config.get(\"max_epochs\")\n",
        "    num_warmup_steps = config.get(\"num_warmup_steps\")\n",
        "\n",
        "    model.to(DEVICE)\n",
        "\n",
        "    optimizer = Adafactor(model.parameters(), scale_parameter=False, relative_step=False, lr=lr, weight_decay=1e-05)\n",
        "\n",
        "    # Use total steps (i.e., max_epochs * length_of_train_data)\n",
        "    total_steps = max_epochs * len(train_dataloader)\n",
        "    scheduler = get_cosine_schedule_with_warmup(optimizer,\n",
        "                                                num_warmup_steps=num_warmup_steps,\n",
        "                                                num_training_steps=total_steps)\n",
        "\n",
        "    global_step = 0  # to keep track of total steps\n",
        "    epoch_start = 0\n",
        "\n",
        "    wandb.init(project=\"Pix2Struct\", name=\"run-\" + EXPERIMENT_NAME, config=config)\n",
        "\n",
        "    #epoch_last = epoch_start + max_epochs - 1\n",
        "    epoch_last = max_epochs - 1\n",
        "    #for epoch in range(epoch_start, epoch_start + max_epochs):\n",
        "    for epoch in range(epoch_start, max_epochs):\n",
        "        global_step, moving_avg_loss = training_loop(epoch, train_dataloader, model, config, optimizer, scheduler, global_step, epoch_last)\n",
        "\n",
        "        if config.get(\"verbose\", False):\n",
        "            print(f\"Moving Avg Loss: {moving_avg_loss:.3f}\")\n",
        "\n",
        "        wandb.log({\"moving_avg_loss\": moving_avg_loss, **{f'lr_{i}': param_group['lr'] for i, param_group in enumerate(optimizer.param_groups)}})\n",
        "\n",
        "        # Save the model after each validation step\n",
        "        save_checkpoint(model, optimizer, scheduler, epoch, global_step, wandb.run.id, EXPERIMENT_NAME, G_DRIVE_FOLDER_CHECKPOINTS)\n",
        "\n",
        "        #if epoch == 0 + epoch_start or epoch == epoch_last or (epoch + 1) % config.get(\"check_val_every_n_epoch\") == 0:\n",
        "        if epoch == 0 or epoch == epoch_last or (epoch + 1) % config.get(\"check_val_every_n_epoch\") == 0:\n",
        "            avg_bleu_score = testing_loop(val_dataloader, model, processor, config, f\"Epoch {epoch}/{epoch_last} - valid loop\")\n",
        "\n",
        "            if config.get(\"verbose\", False):\n",
        "                print(f\" Avg Bleu Score: {avg_bleu_score:.2f}\")\n",
        "\n",
        "            wandb.log({\"bleu\": avg_bleu_score})\n",
        "\n",
        "    wandb.finish()"
      ]
    },
    {
      "cell_type": "code",
      "source": [
        "def training_loop(epoch, train_dataloader, model, config, optimizer, scheduler, global_step, epoch_last):\n",
        "    model.train()\n",
        "    train_loop = tqdm(enumerate(train_dataloader), total=len(train_dataloader), desc=f\"Epoch {epoch}/{epoch_last} - train loop\")\n",
        "\n",
        "    # Extract configuration values\n",
        "    accumulate_grad_batches = config.get('accumulate_grad_batches', 1)\n",
        "    gradient_clip_val = config.get(\"gradient_clip_val\")\n",
        "\n",
        "    moving_avg_loss = 0\n",
        "    alpha = 0.1 # Smoothing factor\n",
        "\n",
        "    for step, batch in train_loop:\n",
        "        encoding = move_to_device(batch)\n",
        "        labels, flattened_patches, attention_mask = encoding[\"labels\"], encoding[\"flattened_patches\"], encoding[\"attention_mask\"]\n",
        "\n",
        "        outputs = model(labels=labels, flattened_patches=flattened_patches, attention_mask=attention_mask)\n",
        "        loss = outputs.loss\n",
        "        loss.backward()\n",
        "\n",
        "        if global_step % accumulate_grad_batches == 0 or step == len(train_dataloader) - 1:\n",
        "            if gradient_clip_val:\n",
        "                torch.nn.utils.clip_grad_norm_(model.parameters(), gradient_clip_val)\n",
        "            optimizer.step()\n",
        "            optimizer.zero_grad()\n",
        "\n",
        "        # Update the progress bar\n",
        "        train_loop.set_postfix({'loss': loss.item()}, refresh=True)\n",
        "\n",
        "        scheduler.step()\n",
        "        global_step += 1\n",
        "\n",
        "        # Update the moving average loss\n",
        "        moving_avg_loss = loss.item() if moving_avg_loss == 0 else alpha * loss.item() + (1 - alpha) * moving_avg_loss\n",
        "\n",
        "        # Log Loss after each step\n",
        "        wandb.log({\"loss\": loss.item()})\n",
        "\n",
        "    return global_step, moving_avg_loss"
      ],
      "metadata": {
        "id": "wg6u7CI38kMU"
      },
      "execution_count": 29,
      "outputs": []
    },
    {
      "cell_type": "code",
      "source": [
        "def testing_loop(testing_dataloader, model, processor, config, description):\n",
        "    model.eval()\n",
        "    bleu_scores = []\n",
        "\n",
        "    with torch.no_grad():\n",
        "        test_loop = tqdm(enumerate(testing_dataloader), total=len(testing_dataloader), desc=description)\n",
        "        for i, batch in test_loop:\n",
        "            encoding = move_to_device(batch)\n",
        "            labels, flattened_patches, attention_mask = encoding[\"labels\"], encoding[\"flattened_patches\"], encoding[\"attention_mask\"]\n",
        "\n",
        "            outputs = model.generate(flattened_patches=flattened_patches, attention_mask=attention_mask, max_new_tokens=MAX_SENTENCE_LEN)\n",
        "\n",
        "            predictions = processor.tokenizer.batch_decode(outputs, skip_special_tokens=True)\n",
        "\n",
        "            labels[labels == -100] = 0\n",
        "            answers = processor.tokenizer.batch_decode(labels, skip_special_tokens=True)\n",
        "\n",
        "            bleu_scores += [corpus_bleu([[answer]], [pred], smoothing_function=SmoothingFunction().method4) for pred, answer in zip(predictions, answers)]\n",
        "\n",
        "            avg_bleu_score = np.mean(bleu_scores)\n",
        "            test_loop.set_postfix(bleu_score=avg_bleu_score)\n",
        "\n",
        "            if config.get(\"verbose\", False):\n",
        "                for pred, answer, bleu_score in zip(predictions, answers, bleu_scores):\n",
        "                    tqdm.write(f\"\\nPrediction: {pred}\\n    Answer: {answer}\\n      Bleu: {bleu_score:.2f}\")\n",
        "\n",
        "    return avg_bleu_score\n"
      ],
      "metadata": {
        "id": "RXfc_whn-qJW"
      },
      "execution_count": 30,
      "outputs": []
    },
    {
      "cell_type": "code",
      "source": [
        "def save_checkpoint(model, optimizer, scheduler, epoch, global_step, wandb_run_id, experiment_name, folder_path):\n",
        "    checkpoint = {\n",
        "        \"model_state_dict\": model.state_dict(),\n",
        "        \"optimizer_state_dict\": optimizer.state_dict(),\n",
        "        \"scheduler_state_dict\": scheduler.state_dict(),\n",
        "        \"epoch\": epoch,\n",
        "        \"global_step\": global_step,\n",
        "        'wandb_run_id': wandb_run_id\n",
        "    }\n",
        "    model_name = f\"{experiment_name}_epoch[{epoch}].pth\"\n",
        "    torch.save(checkpoint, folder_path + model_name)\n"
      ],
      "metadata": {
        "id": "GhiWvFFFA8n4"
      },
      "execution_count": 31,
      "outputs": []
    },
    {
      "cell_type": "code",
      "execution_count": 32,
      "metadata": {
        "id": "F6Lme6odJJK8"
      },
      "outputs": [],
      "source": [
        "config = {\n",
        "          \"batch_size\": BATCH_SIZE,\n",
        "          \"num_warmup_steps\": NUM_WARMUP_STEPS,\n",
        "          \"max_epochs\": MAX_EPOCHS,\n",
        "          \"lr\": LR,\n",
        "          \"check_val_every_n_epoch\": CHECK_VAL_EVERY_N_EPOCH,\n",
        "          \"gradient_clip_val\": GRADIENT_CLIP_VAL,\n",
        "          \"accumulate_grad_batches\": ACCUMULATE_GRAD_BATCHES,\n",
        "          \"verbose\": VERBOSE,\n",
        "}"
      ]
    },
    {
      "cell_type": "code",
      "source": [
        "def validate_config(config):\n",
        "    # Check required keys\n",
        "    required_keys = [\n",
        "        \"batch_size\",\n",
        "        \"num_warmup_steps\",\n",
        "        \"max_epochs\",\n",
        "        \"lr\",\n",
        "        \"check_val_every_n_epoch\",\n",
        "        \"gradient_clip_val\",\n",
        "        \"accumulate_grad_batches\",\n",
        "        \"verbose\"\n",
        "    ]\n",
        "    for key in required_keys:\n",
        "        if key not in config:\n",
        "            raise ValueError(f\"Key '{key}' must be present in the configuration.\")\n",
        "\n",
        "    # Check that values are in expected ranges\n",
        "    if config[\"batch_size\"] <= 0:\n",
        "        raise ValueError(\"batch_size must be positive.\")\n",
        "    if config[\"num_warmup_steps\"] < 0:\n",
        "        raise ValueError(\"num_warmup_steps must be non-negative.\")\n",
        "    if config[\"max_epochs\"] <= 0:\n",
        "        raise ValueError(\"max_epochs must be positive.\")\n",
        "    if config[\"lr\"] <= 0:\n",
        "        raise ValueError(\"Learning rate must be positive.\")\n",
        "    if config[\"check_val_every_n_epoch\"] <= 0:\n",
        "        raise ValueError(\"check_val_every_n_epoch must be positive.\")\n",
        "    if config[\"gradient_clip_val\"] < 0:\n",
        "        raise ValueError(\"gradient_clip_val must be non-negative.\")\n",
        "    if config[\"accumulate_grad_batches\"] <= 0:\n",
        "        raise ValueError(\"accumulate_grad_batches must be positive.\")\n",
        "    if not isinstance(config[\"verbose\"], bool):\n",
        "        raise ValueError(\"verbose must be a boolean value.\")\n"
      ],
      "metadata": {
        "id": "QxemWk5nEfZL"
      },
      "execution_count": 33,
      "outputs": []
    },
    {
      "cell_type": "code",
      "source": [
        "validate_config(config)\n",
        "print(config)"
      ],
      "metadata": {
        "id": "knzzKEtwEruj",
        "colab": {
          "base_uri": "https://localhost:8080/"
        },
        "outputId": "7679c85f-272b-47d1-a751-bbb54bb20489"
      },
      "execution_count": 34,
      "outputs": [
        {
          "output_type": "stream",
          "name": "stdout",
          "text": [
            "{'batch_size': 4, 'num_warmup_steps': 500, 'max_epochs': 10, 'lr': 0.0001, 'check_val_every_n_epoch': 5, 'gradient_clip_val': 1.0, 'accumulate_grad_batches': 2.0, 'verbose': True}\n"
          ]
        }
      ]
    },
    {
      "cell_type": "code",
      "execution_count": 35,
      "metadata": {
        "id": "EPfNUdrEoci8",
        "colab": {
          "base_uri": "https://localhost:8080/",
          "height": 1000
        },
        "outputId": "cdfcb0a1-ee1c-4506-9688-d87a586e7597"
      },
      "outputs": [
        {
          "output_type": "display_data",
          "data": {
            "text/plain": [
              "<IPython.core.display.Javascript object>"
            ],
            "application/javascript": [
              "\n",
              "        window._wandbApiKey = new Promise((resolve, reject) => {\n",
              "            function loadScript(url) {\n",
              "            return new Promise(function(resolve, reject) {\n",
              "                let newScript = document.createElement(\"script\");\n",
              "                newScript.onerror = reject;\n",
              "                newScript.onload = resolve;\n",
              "                document.body.appendChild(newScript);\n",
              "                newScript.src = url;\n",
              "            });\n",
              "            }\n",
              "            loadScript(\"https://cdn.jsdelivr.net/npm/postmate/build/postmate.min.js\").then(() => {\n",
              "            const iframe = document.createElement('iframe')\n",
              "            iframe.style.cssText = \"width:0;height:0;border:none\"\n",
              "            document.body.appendChild(iframe)\n",
              "            const handshake = new Postmate({\n",
              "                container: iframe,\n",
              "                url: 'https://wandb.ai/authorize'\n",
              "            });\n",
              "            const timeout = setTimeout(() => reject(\"Couldn't auto authenticate\"), 5000)\n",
              "            handshake.then(function(child) {\n",
              "                child.on('authorize', data => {\n",
              "                    clearTimeout(timeout)\n",
              "                    resolve(data)\n",
              "                });\n",
              "            });\n",
              "            })\n",
              "        });\n",
              "    "
            ]
          },
          "metadata": {}
        },
        {
          "output_type": "stream",
          "name": "stderr",
          "text": [
            "\u001b[34m\u001b[1mwandb\u001b[0m: Appending key for api.wandb.ai to your netrc file: /root/.netrc\n"
          ]
        },
        {
          "output_type": "display_data",
          "data": {
            "text/plain": [
              "<IPython.core.display.HTML object>"
            ],
            "text/html": [
              "Tracking run with wandb version 0.15.11"
            ]
          },
          "metadata": {}
        },
        {
          "output_type": "display_data",
          "data": {
            "text/plain": [
              "<IPython.core.display.HTML object>"
            ],
            "text/html": [
              "Run data is saved locally in <code>/content/wandb/run-20230927_200825-e2p5z8sy</code>"
            ]
          },
          "metadata": {}
        },
        {
          "output_type": "display_data",
          "data": {
            "text/plain": [
              "<IPython.core.display.HTML object>"
            ],
            "text/html": [
              "Syncing run <strong><a href='https://wandb.ai/team-gs/Pix2Struct/runs/e2p5z8sy' target=\"_blank\">run-Pix2Struct_Pix2Code_HTML_FULL</a></strong> to <a href='https://wandb.ai/team-gs/Pix2Struct' target=\"_blank\">Weights & Biases</a> (<a href='https://wandb.me/run' target=\"_blank\">docs</a>)<br/>"
            ]
          },
          "metadata": {}
        },
        {
          "output_type": "display_data",
          "data": {
            "text/plain": [
              "<IPython.core.display.HTML object>"
            ],
            "text/html": [
              " View project at <a href='https://wandb.ai/team-gs/Pix2Struct' target=\"_blank\">https://wandb.ai/team-gs/Pix2Struct</a>"
            ]
          },
          "metadata": {}
        },
        {
          "output_type": "display_data",
          "data": {
            "text/plain": [
              "<IPython.core.display.HTML object>"
            ],
            "text/html": [
              " View run at <a href='https://wandb.ai/team-gs/Pix2Struct/runs/e2p5z8sy' target=\"_blank\">https://wandb.ai/team-gs/Pix2Struct/runs/e2p5z8sy</a>"
            ]
          },
          "metadata": {}
        },
        {
          "output_type": "stream",
          "name": "stderr",
          "text": [
            "Epoch 0/9 - train loop: 100%|██████████| 386/386 [04:59<00:00,  1.29it/s, loss=2.59]\n"
          ]
        },
        {
          "output_type": "stream",
          "name": "stdout",
          "text": [
            "Moving Avg Loss: 2.622\n"
          ]
        },
        {
          "output_type": "stream",
          "name": "stderr",
          "text": [
            "Epoch 0/9 - valid loop:  50%|█████     | 1/2 [03:00<03:00, 180.99s/it, bleu_score=0.462]"
          ]
        },
        {
          "output_type": "stream",
          "name": "stdout",
          "text": [
            "\n",
            "Prediction: <html> <body> <main class=\"container\"> <div class=\"header clearfix\"> <nav> <ul class=\"nav nav-pills pull-left\"> <li><a href=\"#\">Zq Btmss</a></li> <li><a href=\"#\">Zq Btmss</a></li> <li><a href=\"#\">Zq Btmss</a></li> <li><a href=\"#\">Zq Btmss</a></li> </ul> </nav> </div> <div class=\"row\"><div class=\"col-lg-3\"> <h4>Jqeb</h4><p>buu z q qqssshkkb wmezsclakpytsmdhvrdo oqgoong</p> <a class=\"btn btn-warning\" href=\"#\" role=\"button\">Xkmt Fqg</a> </div> <div class=\"col-lg-3\"> <h4>Ifxqz</h4><p>yne pkoqkhbpp jhsags uq kppcq sa saqptchhuae</p> <a class=\"btn btn-warning\" href=\"#\" role=\"button\">Xkmt Fqqcq</a> </div> <div class=\"col-lg-3\"> <h4>Ymprs</h4><p>saaw dt mnhquuodhryhkygg xauj gn kmskhssshwsdsshwsds</p> <a class=\"btn btn-warning\" href=\"#\" role=\"button\">Xkmt Fzsm</a> </div> <div class=\"col-lg-3\"> <h4>Lzike</h4><p>qnm msqb bnm akymppccax de epgggm ghkwefhsnds</p> <a class=\"btn btn-warning\" href=\"#\" role=\"button\">Xkmt Fzsm</a> </div> <div class=\"col-lg-6\"> <h4>Ztasm</h4><p>erftuq d j ms mseuumewwyygg g c eqpoboopob gwuaxtzor teq</p> <a class=\"btn btn-warning\" href=\"#\" role=\"button\">Xq Qqcbj</a> </div> <div class=\"col-lg-6\"> <h4>Qqcbj</h4><p>ft pdqg sftg mhdbv bqghvu uqpmmuqpvoasdphchdbvqe</p> <a class=\"btn btn-warning\" href=\"#\" role=\"button\">Ttny tttmswell 2017</a> </div> <div class=\"col-lg-3\"> <h4>Ttny tehtmwlll 2017</p> <a class=\"btn btn-warning\" href=\"#\" role=\"button\">Xq Gsmsd</a> </div> <div class=\"col-lg-3\"> <h4>Qqcbj</h4><p>ft pdqg sftfg mhdbv bqghbv bqgmmsupvoaapphchdbbvqe</p> <a class=\"btn btn-warning\" href=\"#\" role=\"button\">Tqg Gmsd</a> </div> </div> <div class=\"row\"><div class=\"col-lg-6\"> <h4>Ttny tehmwell 2017</h4><p>d tnyy tehmwell 2017</p> <a class=\"btn btn-warning\" href=\"#\" role=\"button\">Tqg Gmsd</a> </div> </div> <div class=\"row\"><div class=\"col-lg-3\"> <h4>Jqeb</h4><p>buu z q qqssshkkb wmezsclakpytssdhvdo oqgoong</p> <a class=\"btn btn-warning\" href=\"#\" role=\"button\">Xq Gmssd</a> </div> </div> <div class=\"row\"><div class=\"col-lg-6\"> <h4>Jqeb</h4><p>buu z q qqssshkkb wmezsclakpytssdhvdo oqgoong</p> <a class=\"btn btn-warning\" href=\"#\" role=\"button\">Xq Gmssd</a> </div> </div> <div class=\"row\"><div class=\"col-lg-6\"> <h\n",
            "    Answer: <html> <body> <main class=\"container\"> <div class=\"header clearfix\"> <nav> <ul class=\"nav nav-pills pull-left\"> <li class=\"active\"><a href=\"#\">Yub Bnkmjs</a></li> <li><a href=\"#\">Pbjt Tpamh</a></li> <li><a href=\"#\">Ljkgdin Ng</a></li> </ul> </nav> </div> <div class=\"row\"><div class=\"col-lg-3\"> <h4>Jjqeb</h4><p>bku q b qsszalrkikfp wrhwzsclakyntzvndkfnrize eqgklnngi</p> <a class=\"btn btn-danger\" href=\"#\" role=\"button\">Knwf Fpfis</a> </div> <div class=\"col-lg-3\"> <h4>Ifxqz</h4><p>jnku pceaqkhocjkndcw jhcags uvj kvpkc sa cqa ladxpfchude</p> <a class=\"btn btn-warning\" href=\"#\" role=\"button\">Vhpg Gphag</a> </div> <div class=\"col-lg-3\"> <h4>Ympzs</h4><p>aaxw cst nnkhquooitmyfkpygg aqu j pn krrixkkhaswtwsoitx</p> <a class=\"btn btn-warning\" href=\"#\" role=\"button\">Prewj Jmei</a> </div> <div class=\"col-lg-3\"> <h4>Lzjke</h4><p>qnm lfxpzdr tosjbybm ukylhpbcax de ezpqdm ghkvkwheindls</p> <a class=\"btn btn-warning\" href=\"#\" role=\"button\">Ewgckl Lyq</a> </div> </div> <div class=\"row\"><div class=\"col-lg-6\"> <h4>Ztasm</h4><p>srlfzup d jmx zmseumawwsyqig c aopxsbopsb geuawtzor lxej</p> <a class=\"btn btn-warning\" href=\"#\" role=\"button\">Exsufek Kb</a> </div> <div class=\"col-lg-6\"> <h4>Qqcbj</h4><p>fl pptyj xtfgz vhddv bpghea uzpmmzupvooasqixhchxdbvvqw</p> <a class=\"btn btn-danger\" href=\"#\" role=\"button\">Ipga Akxvt</a> </div> </div> </main> </body> </html> \n",
            "      Bleu: 0.48\n",
            "\n",
            "Prediction: <html> <body> <main class=\"container\"> <div class=\"header clearfix\"> <nav> <ul class=\"nav nav-pills pull-left\"> <li><a href=\"#\">Kxs Xssss</a></li> <li><a href=\"#\">Kxs Xssss</a></li> <li><a href=\"#\">Kxs Xssss</a></li> </ul> </nav> </div> <div class=\"row\"><div class=\"col-lg-3\"> <h4>Zpbvq</h4><p>vyyt tpb dppuuaagfhuassjbv vmlgmm gqovufza sq o mjq</p> <a class=\"btn btn-success\" href=\"#\" role=\"button\">Xxs Xssss</a> </div> <div class=\"col-lg-3\"> <h4>Mbfji</h4><p>vwmyms dzzpzuumhkogger gqhy fggmffpppddms fb kuuu</p> <a class=\"btn btn-success\" href=\"#\" role=\"button\">Xxs Xssss</a> </div> <div class=\"col-lg-3\"> <h4>Keztp</h4><p>dcofhshlqp p zz zp cudb nweggq mtnbd thrdbb eurneyyessz</p> <a class=\"btn btn-success\" href=\"#\" role=\"button\">Yvtm Fms</a> </div> </div> </main> </body> </html> \n",
            "    Answer: <html> <body> <main class=\"container\"> <div class=\"header clearfix\"> <nav> <ul class=\"nav nav-pills pull-left\"> <li class=\"active\"><a href=\"#\">Lkvqbr Rjb</a></li> <li><a href=\"#\">Tobyskp Pj</a></li> <li><a href=\"#\">Umtb Bjfmo</a></li> <li><a href=\"#\">Ntskd Dwik</a></li> <li><a href=\"#\">Ymiid Dnrd</a></li> </ul> </nav> </div> <div class=\"row\"><div class=\"col-lg-6\"> <h4>Zpbvq</h4><p>xyvk lqv szkpussagbhusxajbv vmlqynv guqvufjza sp iz wnjq</p> <a class=\"btn btn-warning\" href=\"#\" role=\"button\">Spkse Ehbw</a> </div> <div class=\"col-lg-6\"> <h4>Mbfjl</h4><p>vwmymx dzpjizuvrrkxqgeer igdriy lhgvnfhpvbqtmw hb kuvu</p> <a class=\"btn btn-danger\" href=\"#\" role=\"button\">Lke Ewlsoi</a> </div> </div> <div class=\"row\"><div class=\"col-lg-12\"> <h4>Keztp</h4><p>cbcvhxhlpp az zp cudx rweagiqj nfondu kthnbb euxnseyecsz</p> <a class=\"btn btn-danger\" href=\"#\" role=\"button\">Yjskrr Rfo</a> </div> </div> <div class=\"row\"><div class=\"col-lg-3\"> <h4>Lyyyr</h4><p>gp otggxnolaomx tzgs ukyqaxg rvfmm i aoukmsiery zqovejbz</p> <a class=\"btn btn-danger\" href=\"#\" role=\"button\">Abqblvf Fh</a> </div> <div class=\"col-lg-3\"> <h4>Hsocn</h4><p>xnkhaucq njnpbfixtdvenwvcqrkhsrpiw hoddtsfhqenrawdaa xir</p> <a class=\"btn btn-success\" href=\"#\" role=\"button\">Euk Kwnbvw</a> </div> <div class=\"col-lg-3\"> <h4>Fifex</h4><p>hekdltnzlodqnfa vj d x pt ctkjp zl hnjnmyvmrqtdfhtoczhym</p> <a class=\"btn btn-success\" href=\"#\" role=\"button\">Gkmpwm Mbv</a> </div> <div class=\"col-lg-3\"> <h4>Txfna</h4><p>nebnnrvo wswprvxthsxdbhtkeebamy q mjwahn laoetlxgjn du</p> <a class=\"btn btn-warning\" href=\"#\" role=\"button\">Sbq Qwevga</a> </div> </div> </main> </body> </html> \n",
            "      Bleu: 0.28\n",
            "\n",
            "Prediction: <html> <body> <main class=\"container\"> <div class=\"header clearfix\"> <nav> <ul class=\"nav nav-pills pull-left\"> <li><a href=\"#\">Yy Ymsss</a></li> <li><a href=\"#\">Yy Ymsss</a></li> <li><a href=\"#\">Yy Ymsss</a></li> </ul> </nav> </div> <div class=\"row\"><div class=\"col-lg-3\"> <h4>Nrfqb</h4><p>snmmydydmmggcc xftogmmi i g dtmroe tj y vwsjbrdkoop</p> <a class=\"btn btn-warning\" href=\"#\" role=\"button\">Sx Ymsss</a> </div> <div class=\"col-lg-3\"> <h4>Qbxas</h4><p>qoscubneccbpefoffm chqhahnyoklpdyyes dgjksuuui fyna</p> <a class=\"btn btn-warning\" href=\"#\" role=\"button\">Sy Ymsss</a> </div> <div class=\"col-lg-3\"> <h4>Jfwsr</h4><p>yompttqaacur dh rggmhkkuugethw kp y xfhg grwxatov</p> <a class=\"btn btn-warning\" href=\"#\" role=\"button\">Sy Ymsss</a> </div> <div class=\"col-lg-3\"> <h4>Qtdzd</h4><p>qjmsgmgmg tpmrl r oammswewghgmsgndsakhdsjks qp</p> <a class=\"btn btn-warning\" href=\"#\" role=\"button\">Sx Wywsss</a> </div> </div> <div class=\"row\"><div class=\"col-lg-6\"> <h4>Qtdzd</h4><p>qjmsgmgmg tpmd r oammswewgtsgmsgndsakhbsjks qp</p> <a class=\"btn btn-warning\" href=\"#\" role=\"button\">Sx Wywsss</a> </div> </div> </main> </body> </html> \n",
            "    Answer: <html> <body> <main class=\"container\"> <div class=\"header clearfix\"> <nav> <ul class=\"nav nav-pills pull-left\"> <li><a href=\"#\">Yt Tcpusuo</a></li> <li class=\"active\"><a href=\"#\">Hy Yeihssp</a></li> </ul> </nav> </div> <div class=\"row\"><div class=\"col-lg-6\"> <h4>Nrfqb</h4><p>srsbmdyqltnrqqgce xftoqkmsn l g zbrncre tjl vxwpbrdknop</p> <a class=\"btn btn-success\" href=\"#\" role=\"button\">Jes Sfkawy</a> </div> <div class=\"col-lg-6\"> <h4>Qbxas</h4><p>qvoiubhwcldpehiofbm ctnqhairxyolvlpdyyes zfgjfauuiu tyna</p> <a class=\"btn btn-success\" href=\"#\" role=\"button\">Js Safbscc</a> </div> </div> <div class=\"row\"><div class=\"col-lg-12\"> <h4>Jfwsr</h4><p>yxsmptlqnacur cb ngtnrdkiqeikugxshaw kp y efxp gcwaatov</p> <a class=\"btn btn-warning\" href=\"#\" role=\"button\">My Ycntjjn</a> </div> </div> <div class=\"row\"><div class=\"col-lg-3\"> <h4>Qtdzd</h4><p>qxhwgvmge lpnrxl r odmhswwrdkgdhxqjjrwdlvakhblojixnk szo</p> <a class=\"btn btn-success\" href=\"#\" role=\"button\">Xw Wymwzph</a> </div> <div class=\"col-lg-3\"> <h4>Adcwr</h4><p>nqivnrojthkhixpzgtmcnhrigrea iahvrqs pzqbpocwwf jqn d rh</p> <a class=\"btn btn-warning\" href=\"#\" role=\"button\">Qzg Giebio</a> </div> <div class=\"col-lg-3\"> <h4>Vjpqf</h4><p>uwgvsiwr mr cupmkwn izcfntdojdraq esjtgpthxcrernwyazv</p> <a class=\"btn btn-danger\" href=\"#\" role=\"button\">Hfipd Dagw</a> </div> <div class=\"col-lg-3\"> <h4>Mhvkg</h4><p>dtvv bybtm xgafmyam srsrboltbflt zdydsifjyvsuvupojbidxfi</p> <a class=\"btn btn-danger\" href=\"#\" role=\"button\">Gv Vrdposp</a> </div> </div> </main> </body> </html> \n",
            "      Bleu: 0.55\n",
            "\n",
            "Prediction: <html> <body> <main class=\"container\"> <div class=\"header clearfix\"> <nav> <ul class=\"nav nav-pills pull-left\"> <li><a href=\"#\">Rtsn Ksss</a></li> <li><a href=\"#\">Rtsn Ksss</a></li> <li><a href=\"#\">Rtsn Ksss</a></li> </ul> </nav> </div> <div class=\"row\"><div class=\"col-lg-3\"> <h4>Bgqbt</h4><p>tpbsxsssvvftb yv aqf f fpf tjrhvnyfuuffsawenhhe x ppqb</p> <a class=\"btn btn-warning\" href=\"#\" role=\"button\">Gssd Bsss</a> </div> <div class=\"col-lg-3\"> <h4>Kyyhc</h4><p>wa fxss fovdbcocggzztto tsdfwhp pwdqp uuoemmgtpw qbb</p> <a class=\"btn btn-warning\" href=\"#\" role=\"button\">Tssn Ksss</a> </div> <div class=\"col-lg-3\"> <h4>Ebffh</h4><p>tqftzymsfhqtsob cffggrroozmeb x kuue fboor n mkxoasl</p> <a class=\"btn btn-warning\" href=\"#\" role=\"button\">Syssmtm Vp</a> </div> </div> </main> </body> </html> \n",
            "    Answer: <html> <body> <main class=\"container\"> <div class=\"header clearfix\"> <nav> <ul class=\"nav nav-pills pull-left\"> <li class=\"active\"><a href=\"#\">Hoik Karpp</a></li> <li><a href=\"#\">Tf Fpnbrhh</a></li> <li><a href=\"#\">Vwgmq Qzxl</a></li> </ul> </nav> </div> <div class=\"row\"><div class=\"col-lg-6\"> <h4>Bgqbt</h4><p>tybhowxhvnfb y v atyf lfpf hjrrknryhutofaawenfehe x pcpb</p> <a class=\"btn btn-danger\" href=\"#\" role=\"button\">Qrae Edkdi</a> </div> <div class=\"col-lg-6\"> <h4>Kyyhc</h4><p>wja fiovzcbcckgylrztto tckfwhp jevjklp uxoenmgrlpw opb</p> <a class=\"btn btn-success\" href=\"#\" role=\"button\">Hjdr Regnz</a> </div> </div> <div class=\"row\"><div class=\"col-lg-12\"> <h4>Ebflh</h4><p>tqfzzytrajfkqfnob ctfgpntxzknwb x kaue fbior n mlrxoasl</p> <a class=\"btn btn-warning\" href=\"#\" role=\"button\">Dfymxmw Wu</a> </div> </div> <div class=\"row\"><div class=\"col-lg-3\"> <h4>Mvjcd</h4><p>vwijlcakvvtjtbjv qrva wpgvatb uyaeavlk hr nn neyajlksgm</p> <a class=\"btn btn-success\" href=\"#\" role=\"button\">Yudoja Adk</a> </div> <div class=\"col-lg-3\"> <h4>Frujb</h4><p>wqewmtqqixetqwdtjnghq nml ysicnccossmbjrrvxoehitee ilhfw</p> <a class=\"btn btn-danger\" href=\"#\" role=\"button\">Dggbmhw Wg</a> </div> <div class=\"col-lg-3\"> <h4>Ugfbj</h4><p>ofizjqy qswu ffyvkjb tieqknhxntekbjsqe ggrm sole oxlv lq</p> <a class=\"btn btn-success\" href=\"#\" role=\"button\">Lyn Nukakm</a> </div> <div class=\"col-lg-3\"> <h4>Ibfby</h4><p>np mvoivs xdxqnzc vtimfj mss tpxbfggumvfgk pwcbzpnik hya</p> <a class=\"btn btn-success\" href=\"#\" role=\"button\">Rjpwc Cilq</a> </div> </div> </main> </body> </html> \n",
            "      Bleu: 0.31\n",
            "\n",
            "Prediction: <html> <body> <main class=\"container\"> <div class=\"header clearfix\"> <nav> <ul class=\"nav nav-pills pull-left\"> <li><a href=\"#\">Vxssssss Fy</a></li> <li><a href=\"#\">Vxsssss Fy</a></li> <li><a href=\"#\">Vxssss Fy</a></li> <li><a href=\"#\">Vxssss Fy</a></li> </ul> </nav> </div> <div class=\"row\"><div class=\"col-lg-3\"> <h4>Wnxuk</h4><p>koqn kpreth wldbvudbuzsbzm kjmogghdoespfh or p maxx</p> <a class=\"btn btn-success\" href=\"#\" role=\"button\">Vxsssgh Fy</a> </div> <div class=\"col-lg-3\"> <h4>Vnxuk</h4><p>koqnt kpreth wldbvudbuzsbzm kjmogghdoespfh or p maxx</p> <a class=\"btn btn-success\" href=\"#\" role=\"button\">Vxsssgh Fy</a> </div> <div class=\"col-lg-3\"> <h4>Vnxuk</h4><p>koqnt kpreth wldbvudbuzsbzm kjmogghdoespfh or p maxx</p> <a class=\"btn btn-success\" href=\"#\" role=\"button\">Vxsssgh Fy</a> </div> <div class=\"col-lg-3\"> <h4>Vnxuk</h4><p>koqnt kpreth wldbvudbuzsbzm kjmogghdoespfh or p maxx</p> <a class=\"btn btn-success\" href=\"#\" role=\"button\">Vxsssgh Fy</a> </div> <div class=\"col-lg-3\"> <h4>Vnxuk</h4><p>koqnt kpreth wldbvudbuzsbzm kjmogghdoespfh or p maxx</p> <a class=\"btn btn-success\" href=\"#\" role=\"button\">Vxsssgh Fy</a> </div> <div class=\"col-lg-3\"> <h4>Vnxuk</h4><p>koqnt kpreth wldbvudbuzsbzm kjmogghdoespfh or p maxx</p> <a class=\"btn btn-success\" href=\"#\" role=\"button\">Vxsssgh Fy</a> </div> </div> <div class=\"row\"><div class=\"col-lg-6\"> <h4>Wnxuk</h4><p>koqnt kpreth wldbvudbuzsbzm kjmogghdoespfh or p maxx</p> <a class=\"btn btn-success\" href=\"#\" role=\"button\">Vxsssgh Fy</a> </div> </div> <div class=\"row\"><div class=\"col-lg-6\"> <h4>Vnxuk</h4><p>koqnt kpreth wldbvudbuzsbzm kjmogghdoespfh or p maxx</p> <a class=\"btn btn-success\" href=\"#\" role=\"button\">Vxsssgh Fy</a> </div> </div> <div class=\"row\"><div class=\"col-lg-6\"> <h4>Vnxuk</h4><p>koqnt kpreth wldbvudbuzsbzm kjmogghdoespfh or p maxx</p> <a class=\"btn btn-success\" href=\"#\" role=\"button\">Vxsssgh Fy</a> </div> </div> </main> </body> </html> \n",
            "    Answer: <html> <body> <main class=\"container\"> <div class=\"header clearfix\"> <nav> <ul class=\"nav nav-pills pull-left\"> <li><a href=\"#\">Ho Oxttaeh</a></li> <li><a href=\"#\">Cjgiir Rdb</a></li> <li class=\"active\"><a href=\"#\">Srxxl Lwap</a></li> <li><a href=\"#\">Zaxe Eqopg</a></li> </ul> </nav> </div> <div class=\"row\"><div class=\"col-lg-12\"> <h4>Wnxuk</h4><p>kvqrd kphbth wtdzvuzburafqdm kgmzgzhidespfnl ot p maixk</p> <a class=\"btn btn-warning\" href=\"#\" role=\"button\">Xxssgdh Hy</a> </div> </div> </main> </body> </html> \n",
            "      Bleu: 0.22\n",
            "\n",
            "Prediction: <html> <body> <main class=\"container\"> <div class=\"header clearfix\"> <nav> <ul class=\"nav nav-pills pull-left\"> <li><a href=\"#\">Csssm Vtt</a></li> <li><a href=\"#\">Csssm Vtt</a></li> <li><a href=\"#\">Csssm Vtt</a></li> <li><a href=\"#\">Csssm Vtt</a></li> </ul> </nav> </div> <div class=\"row\"><div class=\"col-lg-3\"> <h4>Zsvcp</h4><p>qqjm wqgbtmayvhfoaaf f v bewknozzzynommoyvdb v ddpcb</p> <a class=\"btn btn-warning\" href=\"#\" role=\"button\">Nb Cssm Vt</a> </div> <div class=\"col-lg-3\"> <h4>Vafeb</h4><p>dmsdtt scq mssuitt l vegfw j qddkkjjxadqj pvwwwrho</p> <a class=\"btn btn-warning\" href=\"#\" role=\"button\">Nb Cssm Vt</a> </div> <div class=\"col-lg-3\"> <h4>Cagc</h4><p>fofyxdddjdpnpqp s tcqzbvueo ovdsntfhs ss tqdm qqq o</p> <a class=\"btn btn-warning\" href=\"#\" role=\"button\">Ov Vttqq ts</a> </div> <div class=\"col-lg-3\"> <h4>Ezzmi</h4><p>kggycdfhhvve x l uakecppm hksssfesu vnmg dkx brdpsdlq</p> <a class=\"btn btn-warning\" href=\"#\" role=\"button\">Ov Vttqq Yd</a> </div> <div class=\"col-lg-3\"> <h4>Iahn</h4><p>lgg ss vggeoftbfpf hp vfpssezpzxaatms qmmcggcscb wggf begn</p> <a class=\"btn btn-warning\" href=\"#\" role=\"button\">Ov Vttqq Zs</a> </div> <div class=\"col-lg-3\"> <h4>Tljxx</h4><p>ehsnnyysem aagmmy jtyssmpw wn hqgccf fgfw</p> <a class=\"btn btn-warning\" href=\"#\" role=\"button\">Ov Vttqq Zs</a> </div> </div> <div class=\"row\"><div class=\"col-lg-6\"> <h4>Mgvkz</h4><p>sdgfchfh fs l skb mcb sn ue mgwuccdkymsgdrwxjuaan</p> <a class=\"btn btn-warning\" href=\"#\" role=\"button\">Ov Vttqq Zs</a> </div> </div> <div class=\"row\"><div class=\"col-lg-6\"> <h4>Mgxkz</h4><p>sdgfchfh fs t skb mcb sn ue mgwuccdkymsgdrwxjuaan</p> <a class=\"btn btn-warning\" href=\"#\" role=\"button\">Ov Vtssmt</a> </div> </div> <div class=\"row\"><div class=\"col-lg-3\"> <h4>Mgxkz</h4><p>sdgfchfh fs t skb mcb mcb sn ue mgwuccdkymsgdrwxjuaan</p> <a class=\"btn btn-warning\" href=\"#\" role=\"button\">Ov Vtssmt</a> </div> </div> <div class=\"row\"><div class=\"col-lg-6\"> <h4>Mgxkz</h4><p>sdgfchfh fs t skb mcb mcb sn ue mgwuccdkymsgdrwxjuaan</p> <a class=\"btn btn-warning\" href=\"#\" role=\"button\">Udssg tts</a> </div> </div> <div class=\"row\"><div class=\"col-lg-3\"> <h4>Mgxkz</h\n",
            "    Answer: <html> <body> <main class=\"container\"> <div class=\"header clearfix\"> <nav> <ul class=\"nav nav-pills pull-left\"> <li class=\"active\"><a href=\"#\">Lcaom Mwhy</a></li> <li><a href=\"#\">Fkk Klhuuj</a></li> </ul> </nav> </div> <div class=\"row\"><div class=\"col-lg-6\"> <h4>Zsvcp</h4><p>zqzm wqgdzrjmaykxfooanif v bwuknzqlzynomkoyivob v ddpclb</p> <a class=\"btn btn-danger\" href=\"#\" role=\"button\">Rb Blvxuiq</a> </div> <div class=\"col-lg-6\"> <h4>Vafeb</h4><p>dnvkfbt ieq jlhtuuzii t vkgdw j lqidtkpjyautyj pvwwvrtxo</p> <a class=\"btn btn-success\" href=\"#\" role=\"button\">Qepp Ppnqf</a> </div> </div> <div class=\"row\"><div class=\"col-lg-3\"> <h4>Cajgc</h4><p>fjwfykdutjdpnojc s tpcjobxveo crubntjhok wz hpdim qqq ol</p> <a class=\"btn btn-warning\" href=\"#\" role=\"button\">Cv Vqgyykt</a> </div> <div class=\"col-lg-3\"> <h4>Ezzmi</h4><p>kgcycdjhfwvw x l vaakecpnm haxcfeaux veqeg dkx bvfpsdilq</p> <a class=\"btn btn-danger\" href=\"#\" role=\"button\">Gbrkyu Ulz</a> </div> <div class=\"col-lg-3\"> <h4>Iaihn</h4><p>iga ea vbgwbfbpf hp vbpseqzsxaafms qmysrgjotcb wogf beqn</p> <a class=\"btn btn-danger\" href=\"#\" role=\"button\">Ocjxqwz Zz</a> </div> <div class=\"col-lg-3\"> <h4>Tljsx</h4><p>ehsnrdyavsm iaagrmnv jctysxmpv wn hijo gcd frgzicf zjfeo</p> <a class=\"btn btn-danger\" href=\"#\" role=\"button\">Mu Uovcvrq</a> </div> </div> <div class=\"row\"><div class=\"col-lg-12\"> <h4>Mgvkz</h4><p>sdgficihn hs t dksb mlcb lah uer mgwukcdkkymnjgbtwejkasn</p> <a class=\"btn btn-danger\" href=\"#\" role=\"button\">Gzgzyl Lhj</a> </div> </div> </main> </body> </html> \n",
            "      Bleu: 0.54\n",
            "\n",
            "Prediction: <html> <body> <main class=\"container\"> <div class=\"header clearfix\"> <nav> <ul class=\"nav nav-pills pull-left\"> <li><a href=\"#\">Acqgma Ax</a></li> <li><a href=\"#\">Acqgma Ax</a></li> <li><a href=\"#\">Acqgma Ax</a></li> </ul> </nav> </div> <div class=\"row\"><div class=\"col-lg-3\"> <h4>Rbdgz</h4><p>hq uuheqsqas or bu qrtsuftge d ke gvvvccffucbqbebwqzd</p> <a class=\"btn btn-warning\" href=\"#\" role=\"button\">Oxs Ffyx</a> </div> <div class=\"col-lg-3\"> <h4>Qmgwe</h4><p>xppqsew tsqhkaogavvcqmfc hacxwdggnggg kumamapperfxx</p> <a class=\"btn btn-warning\" href=\"#\" role=\"button\">Uxssm Uf</a> </div> </div> </main> </body> </html> \n",
            "    Answer: <html> <body> <main class=\"container\"> <div class=\"header clearfix\"> <nav> <ul class=\"nav nav-pills pull-left\"> <li><a href=\"#\">Fihu Uybzl</a></li> <li class=\"active\"><a href=\"#\">Xhqymia As</a></li> </ul> </nav> </div> <div class=\"row\"><div class=\"col-lg-12\"> <h4>Rbdgz</h4><p>hq uaheqwqjx ur fzu yrnjvatfge d ke gxvezcsfucljubebxqdd</p> <a class=\"btn btn-danger\" href=\"#\" role=\"button\">Gqdf Fyllx</a> </div> </div> <div class=\"row\"><div class=\"col-lg-12\"> <h4>Qmgwe</h4><p>xgqvlzew tsqltokogaxvcqmfc haczwdgnpvgrp kvmaeroajperfzx</p> <a class=\"btn btn-success\" href=\"#\" role=\"button\">Lkkoju Uqm</a> </div> </div> <div class=\"row\"><div class=\"col-lg-12\"> <h4>Zjjgm</h4><p>bjsyeeggljov hxevcd nsg c frwlotpqwcoziz lfex ggkuhgggk</p> <a class=\"btn btn-danger\" href=\"#\" role=\"button\">Khjyi Ihyx</a> </div> </div> </main> </body> </html> \n",
            "      Bleu: 0.57\n",
            "\n",
            "Prediction: <html> <body> <main class=\"container\"> <div class=\"header clearfix\"> <nav> <ul class=\"nav nav-pills pull-left\"> <li><a href=\"#\">Vvt Tssg</a></li> <li><a href=\"#\">Vvt Tssg</a></li> <li><a href=\"#\">Vvt Tssg</a></li> </ul> </nav> </div> <div class=\"row\"><div class=\"col-lg-3\"> <h4>Qodot</h4><p>toommppccb tskuuhwggf jb t cwndbp p wkssjpkucakdb</p> <a class=\"btn btn-warning\" href=\"#\" role=\"button\">Vvt Tssg</a> </div> <div class=\"col-lg-3\"> <h4>Ekfsb</h4><p>ekt zppq msah uaazjpewmphdsxauuqwakgms</p> <a class=\"btn btn-warning\" href=\"#\" role=\"button\">Vvt Tssg</a> </div> <div class=\"col-lg-3\"> <h4>Pfhsb</h4><p>gp pjszptkhkbpqppommss kbs ngghhpp tthzjztpw ggym</p> <a class=\"btn btn-warning\" href=\"#\" role=\"button\">Vvt Tssg</a> </div> <div class=\"col-lg-3\"> <h4>Buior</h4><p>oxq ry msx pwsseggo dps ndkdssskh ttmtswkxaga</p> <a class=\"btn btn-warning\" href=\"#\" role=\"button\">Vvt Tssg</a> </div> </div> <div class=\"row\"><div class=\"col-lg-6\"> <h4>Aksum</h4><p>nd j xocyyve dqsdswddpjppm dyyf rykumowhmswkts hc</p> <a class=\"btn btn-warning\" href=\"#\" role=\"button\">Ogq Ihtss</a> </div> </div> <div class=\"row\"><div class=\"col-lg-3\"> <h4>Akum</h4><p>nd j xocyyve dqsdswddpjppm dyyf rykumowhmmswkts hc</p> <a class=\"btn btn-warning\" href=\"#\" role=\"button\">Ogq Ihtss</a> </div> </div> </main> </body> </html> \n",
            "    Answer: <html> <body> <main class=\"container\"> <div class=\"header clearfix\"> <nav> <ul class=\"nav nav-pills pull-left\"> <li><a href=\"#\">Spivo Ocvd</a></li> <li class=\"active\"><a href=\"#\">Wppmm Mrkf</a></li> </ul> </nav> </div> <div class=\"row\"><div class=\"col-lg-3\"> <h4>Qodot</h4><p>fcionimjocxb friokujwsgnf yb t csnvdpb pvlkhkjdxcusfdb</p> <a class=\"btn btn-success\" href=\"#\" role=\"button\">Vkt Tuajna</a> </div> <div class=\"col-lg-3\"> <h4>Ekfsb</h4><p>ekt jtsmpvgwq hndah uiuzqisworjhocmtpfndaxkatuqjrwkqhrtc</p> <a class=\"btn btn-danger\" href=\"#\" role=\"button\">Kapd Dmdgu</a> </div> <div class=\"col-lg-3\"> <h4>Pfhsb</h4><p>jpv jxsyzkfxkhkpzppomoralj kjks mgklhqo tsfcyjqbjw gtyvn</p> <a class=\"btn btn-danger\" href=\"#\" role=\"button\">Lrpamgo Oj</a> </div> <div class=\"col-lg-3\"> <h4>Buior</h4><p>zeq niv fei s pwcceaefelgho dnp nzlkdexshx bnvatlwtxaxga</p> <a class=\"btn btn-danger\" href=\"#\" role=\"button\">Ianl Lzvfg</a> </div> </div> <div class=\"row\"><div class=\"col-lg-6\"> <h4>Aksum</h4><p>nd jx lxizvyse dqplawdqblpeh dyyit rybiumowhxmswktte hc</p> <a class=\"btn btn-success\" href=\"#\" role=\"button\">Ozqi Intzw</a> </div> <div class=\"col-lg-6\"> <h4>Wucax</h4><p>ahadabshcgtcxlfvj pw qzk cwnm btkzijkh bgzvlr ouiatbb ha</p> <a class=\"btn btn-success\" href=\"#\" role=\"button\">Ypge Efoya</a> </div> </div> <div class=\"row\"><div class=\"col-lg-12\"> <h4>Tuixz</h4><p>lgy ezipryxduzvubcm e vxfabctchc rbijlpizbf verat bkx yl</p> <a class=\"btn btn-warning\" href=\"#\" role=\"button\">Yrs Suilsm</a> </div> </div> </main> </body> </html> \n",
            "      Bleu: 0.65\n",
            "\n",
            "Prediction: <html> <body> <main class=\"container\"> <div class=\"header clearfix\"> <nav> <ul class=\"nav nav-pills pull-left\"> <li><a href=\"#\">Rms Qsss</a></li> <li><a href=\"#\">Rms Qsss</a></li> <li><a href=\"#\">Rms Qsss</a></li> </ul> </nav> </div> <div class=\"row\"><div class=\"col-lg-3\"> <h4>Lnlfc</h4><p>wcqgpmsssuppdbs kk x vmdddbddkmuym hkskyywxwcq</p> <a class=\"btn btn-success\" href=\"#\" role=\"button\">Ssa Xxssd</a> </div> <div class=\"col-lg-3\"> <h4>Mgoev</h4><p>exc ymm x spbtbpaal goss pooggmaudbmuct apnc csorg</p> <a class=\"btn btn-success\" href=\"#\" role=\"button\">Mgoev Vss</a> </div> <div class=\"col-lg-3\"> <h4>Kvisr</h4><p>tgyvewggdfh mngdbp msapqoo uftuvvu gh hg uyfeexqjts</p> <a class=\"btn btn-success\" href=\"#\" role=\"button\">Vss Qsssd</a> </div> <div class=\"col-lg-3\"> <h4>Jxgdx</h4><p>obcems x ssxswg ghhf r msz mmfkhoafgqs httngrfgqq</p> <a class=\"btn btn-success\" href=\"#\" role=\"button\">Ssa Qsssd</a> </div> <div class=\"col-lg-3\"> <h4>Imusa</h4><p>m ttkauctpoaaqgpttfhllem h nwuazzzuu tpmfytmsuytkb</p> <a class=\"btn btn-success\" href=\"#\" role=\"button\">Sg Qsssd</a> </div> <div class=\"col-lg-3\"> <h4>Irtum</h4><p>dhmyogpttonggw d o ggeewfydsortpm pppcmuyyo n ngmuwkz</p> <a class=\"btn btn-success\" href=\"#\" role=\"button\">Rms Qsssd</a> </div> </div> <div class=\"row\"><div class=\"col-lg-6\"> <h4>Ighih</h4><p>nyu utewuu phldttzzaahtohmyz egpnvuao dtwk ruppo no</p> <a class=\"btn btn-success\" href=\"#\" role=\"button\">Mmsg Gss</a> </div> </div> <div class=\"row\"><div class=\"col-lg-6\"> <h4>Ighih</h4><p>nyu utewuu phldttzzaahtshmyz egpnvuao dtwk ruppo no</p> <a class=\"btn btn-success\" href=\"#\" role=\"button\">Mmsg Gssx</a> </div> </div> <div class=\"row\"><div class=\"col-lg-3\"> <h4>Ighih</h4><p>nyu utewuu phldttzzaahtshmyz egpnvuao dtwk ruppo no</p> <a class=\"btn btn-success\" href=\"#\" role=\"button\">Mmsg Gssx</a> </div> </div> <div class=\"row\"><div class=\"col-lg-6\"> <h4>Ighih</h4><p>nyu utewuu phldttzzaahttohmyz egpnvuao dtwk ruppo no</p> <a class=\"btn btn-success\" href=\"#\" role=\"button\">Mmsg Gssx</a> </div> </div> <div class=\"row\"><div class=\"col-lg-3\"> <h4>Ighih</h4><p>nyu utewuu phldttzzaahttohmyz egpnvuao dtwk ruppo no</p> <a class=\"btn btn-success\" href=\"#\" role=\"button\">Mmsg Gssx</\n",
            "    Answer: <html> <body> <main class=\"container\"> <div class=\"header clearfix\"> <nav> <ul class=\"nav nav-pills pull-left\"> <li><a href=\"#\">Nd Dvjcphs</a></li> <li class=\"active\"><a href=\"#\">Rzzio Opsr</a></li> <li><a href=\"#\">Ig Gmnrids</a></li> <li><a href=\"#\">Jmhcuc Cgn</a></li> <li><a href=\"#\">Vsgh Hsdif</a></li> </ul> </nav> </div> <div class=\"row\"><div class=\"col-lg-3\"> <h4>Lnlfc</h4><p>wbpjplfcjrcusupildq xiq x vmolrzbxtdkmuyn r kkidyywzxkzq</p> <a class=\"btn btn-success\" href=\"#\" role=\"button\">Saa Alvskb</a> </div> <div class=\"col-lg-3\"> <h4>Mgoev</h4><p>xcx ymnb x pjztdzsqzl gosle pqvgqmauubmuvct aqirc csprig</p> <a class=\"btn btn-danger\" href=\"#\" role=\"button\">Hcvbw Wwdz</a> </div> <div class=\"col-lg-3\"> <h4>Kvisr</h4><p>tguqvetgsfyh umqjtdp maapqqo urbuvvzu gd hg uyfecxrpjfa</p> <a class=\"btn btn-success\" href=\"#\" role=\"button\">Vfczu Uwcd</a> </div> <div class=\"col-lg-3\"> <h4>Jxgdx</h4><p>cbcxme aszxxk sdirce gfxf r mvz ohniikhoafgab httnqnfgqq</p> <a class=\"btn btn-danger\" href=\"#\" role=\"button\">Sq Quntrrv</a> </div> </div> <div class=\"row\"><div class=\"col-lg-6\"> <h4>Imusa</h4><p>lm fdkaxzkpioakrjgzlgdhlllwm h nwuuszzuu tzpmytjmlauyfeb</p> <a class=\"btn btn-danger\" href=\"#\" role=\"button\">Bge Ewmglm</a> </div> <div class=\"col-lg-6\"> <h4>Irtum</h4><p>ofnmyoqbtcvngow d o gqwrxwllydlsorbpm popcmuyo m ngmuwkz</p> <a class=\"btn btn-success\" href=\"#\" role=\"button\">Fkrrcuv Vz</a> </div> </div> <div class=\"row\"><div class=\"col-lg-12\"> <h4>Ighih</h4><p>ryc utswdu pnitdtzzsdnrtnzhmyz egzvnnuqe dowk rfurpo no</p> <a class=\"btn btn-warning\" href=\"#\" role=\"button\">Dfqghp Pyw</a> </div> </div> </main> </body> </html> \n",
            "      Bleu: 0.56\n",
            "\n",
            "Prediction: <html> <body> <main class=\"container\"> <div class=\"header clearfix\"> <nav> <ul class=\"nav nav-pills pull-left\"> <li><a href=\"#\">Yggee Wvok</a></li> <li><a href=\"#\">Yggee Wvok</a></li> <li><a href=\"#\">Yggee Wvok</a></li> <li><a href=\"#\">Yggee Wvok</a></li> </ul> </nav> </div> <div class=\"row\"><div class=\"col-lg-3\"> <h4>Evfax</h4><p>dsmcyrmngsssjqodgno fhnfyvyvgxccffhwujdpnabmhrwftm</p> <a class=\"btn btn-warning\" href=\"#\" role=\"button\">Ub Nh Ygqq</a> </div> <div class=\"col-lg-3\"> <h4>Yggeo</h4><p>cmb ydmy hkygmytbrbsgh zz uurpdkvgpkyahcem ss vw</p> <a class=\"btn btn-warning\" href=\"#\" role=\"button\">Ub Nh Ygqq</a> </div> <div class=\"col-lg-6\"> <h4>Gyrim</h4><p>xppqehhiqq yshkcpakkph d ne hsmsh hw ns tmsdvuabum</p> <a class=\"btn btn-warning\" href=\"#\" role=\"button\">Mtsx Xvsq</a> </div> <div class=\"col-lg-3\"> <h4>Lrsqu</h4><p>zbtgwwdskhhau tt tmt mqoocdtsssssswkssskmphfb</p> <a class=\"btn btn-warning\" href=\"#\" role=\"button\">Ub Uxssm</a> </div> <div class=\"col-lg-6\"> <h4>Pzgzz</h4><p>hwxkpcxktnyj sguvmn acdsfmgggb hqvuud ryuzqddkkv uhu</p> <a class=\"btn btn-warning\" href=\"#\" role=\"button\">Qttiy</a> </div> <div class=\"col-lg-3\"> <h4>Qtliy</h4><p>bppdcoctt rpuugpc uc ngfgmsmqmmy ytfhbgyffhsozgywdax</p> <a class=\"btn btn-warning\" href=\"#\" role=\"button\">Ub Qssmt</a> </div> <div class=\"col-lg-3\"> <h4>Qtliy</h4><p>bppdcoctt rpuugpc uc ngsfgmsqmmny ytfhbgyffhsozgywdkax</p> <a class=\"btn btn-warning\" href=\"#\" role=\"button\">Ub Qssmt</a> </div> </div> <div class=\"row\"><div class=\"col-lg-6\"> <h4>Evfax</h4><p>dsmcyrmngssssjqodgno fhnfyvyvgxccffhwujdpnabmhwrffm</p> <a class=\"btn btn-warning\" href=\"#\" role=\"button\">Ub Qssmt Vd</a> </div> <div class=\"col-lg-3\"> <h4>Qtliy</h4><p>bppdcoctt rpuugpc uc ngsfgmsqmmmy ytfhbgyffhsozgywdkax</p> <a class=\"btn btn-warning\" href=\"#\" role=\"button\">Ub Qssmt</a> </div> </div> <div class=\"row\"><div class=\"col-lg-6\"> <h4>Evfax</h4><p>dsmcyrmngssssjqodgno fhnfyvyvgxccffhwujdpnssbnhrwftm</p> <a class=\"btn btn-warning\" href=\"#\" role=\"button\">Ub Qssmt Vd</a> </div> </div> <div class=\"row\"><div class=\"col-lg-3\"> <h4>Evfax</h4><p>dsmcyrmngssssjqodgno fhnfyvyvgxccffhwujdpnssbnhrwftm</p> <a class=\"btn btn-warning\n",
            "    Answer: <html> <body> <main class=\"container\"> <div class=\"header clearfix\"> <nav> <ul class=\"nav nav-pills pull-left\"> <li class=\"active\"><a href=\"#\">Wjayw Wyda</a></li> <li><a href=\"#\">Yhgf Fbffk</a></li> </ul> </nav> </div> <div class=\"row\"><div class=\"col-lg-6\"> <h4>Evfax</h4><p>danrcynrrkgwsojuodqmo ftxmjyxygcvtzltwuqdipnalbmihvrwfbm</p> <a class=\"btn btn-warning\" href=\"#\" role=\"button\">Uh Hqgvztd</a> </div> <div class=\"col-lg-6\"> <h4>Ygqeo</h4><p>cnb ydmy rkayqmwylbribsgh jzz vumpdrxqgklyujuhckm sz ve</p> <a class=\"btn btn-warning\" href=\"#\" role=\"button\">Qcpzbmb Bk</a> </div> </div> <div class=\"row\"><div class=\"col-lg-3\"> <h4>Gyrim</h4><p>xqnqwihiiqe yaxlvppxklpjh d ne hwnxh heh mk fmlsfvviabum</p> <a class=\"btn btn-danger\" href=\"#\" role=\"button\">Mysx Xpabp</a> </div> <div class=\"col-lg-3\"> <h4>Lrsqu</h4><p>jblbjpwqtsilxhau bj fmri imqoxhofdxnzwzcmmsalwishixmphfb</p> <a class=\"btn btn-danger\" href=\"#\" role=\"button\">Cgbu Ujawn</a> </div> <div class=\"col-lg-3\"> <h4>Pzqiz</h4><p>hxwkpnzkhjnrj sgavmh acdafmjgigb hqrvuut znyaqfgdkxj uhu</p> <a class=\"btn btn-danger\" href=\"#\" role=\"button\">Tgcmv Vidb</a> </div> <div class=\"col-lg-3\"> <h4>Qtliy</h4><p>bprdbcofz npuqpbc uc ngmkghspmxvy ybjtfbdgltjhkoqzygwbkk</p> <a class=\"btn btn-danger\" href=\"#\" role=\"button\">Ssrvx Xexn</a> </div> </div> </main> </body> </html> \n",
            "      Bleu: 0.46\n"
          ]
        },
        {
          "output_type": "stream",
          "name": "stderr",
          "text": [
            "Epoch 0/9 - valid loop: 100%|██████████| 2/2 [04:27<00:00, 133.81s/it, bleu_score=0.501]\n"
          ]
        },
        {
          "output_type": "stream",
          "name": "stdout",
          "text": [
            "\n",
            "Prediction: <html> <body> <main class=\"container\"> <div class=\"header clearfix\"> <nav> <ul class=\"nav nav-pills pull-left\"> <li><a href=\"#\">Zg Jssssg</a></li> <li><a href=\"#\">Zss Zsss</a></li> <li><a href=\"#\">Zss Zsss</a></li> </ul> </nav> </div> <div class=\"row\"><div class=\"col-lg-3\"> <h4>Hwyol</h4><p>x j mm ooewb qpchvytbeadbul f fu ukuudzgmtbpphdbovy</p> <a class=\"btn btn-warning\" href=\"#\" role=\"button\">Udmy Ytts</a> </div> <div class=\"col-lg-3\"> <h4>Hotpm</h4><p>bthfyt t t t hnruucokkuukkgghe wqjddl xkxzxwer</p> <a class=\"btn btn-warning\" href=\"#\" role=\"button\">Zss Zsss</a> </div> <div class=\"col-lg-3\"> <h4>Lznud</h4><p>mpwerhmszbmk mqpk qqfbrsaqfhueeqaeahvl agngyyptssdgg</p> <a class=\"btn btn-warning\" href=\"#\" role=\"button\">Zss Zsss</a> </div> </div> </main> </body> </html> \n",
            "    Answer: <html> <body> <main class=\"container\"> <div class=\"header clearfix\"> <nav> <ul class=\"nav nav-pills pull-left\"> <li class=\"active\"><a href=\"#\">Cpk Kwmfgw</a></li> <li><a href=\"#\">Vwg Gipinh</a></li> </ul> </nav> </div> <div class=\"row\"><div class=\"col-lg-12\"> <h4>Hwyol</h4><p>kj mom obwwb vprotxytbwaxbul fl fu utvxutzgcmfpplridovy</p> <a class=\"btn btn-success\" href=\"#\" role=\"button\">Utrxsy Ymc</a> </div> </div> <div class=\"row\"><div class=\"col-lg-6\"> <h4>Hotpm</h4><p>bttqhj ltrysk t d hrinlunzoklxurkkgcfw wxjvdkl xtwzxevr</p> <a class=\"btn btn-warning\" href=\"#\" role=\"button\">Zkiwj Jwrk</a> </div> <div class=\"col-lg-6\"> <h4>Lznud</h4><p>mpwerikmkblmk nwpz qxfbniaptfouequkehvl agngyeptiieizgg</p> <a class=\"btn btn-success\" href=\"#\" role=\"button\">Wrzpr Rrsz</a> </div> </div> <div class=\"row\"><div class=\"col-lg-3\"> <h4>Cwiwz</h4><p>wsoruprk tpgntdtzhlvlk qb trz whxvakwljndwoww tvkebmyn</p> <a class=\"btn btn-success\" href=\"#\" role=\"button\">Zqc Crdolk</a> </div> <div class=\"col-lg-3\"> <h4>Evmtq</h4><p>qwwrptjgj i gkwgmbswycem oqr tpmlce volg habdeztrubfdds</p> <a class=\"btn btn-success\" href=\"#\" role=\"button\">Ky Ynyfast</a> </div> <div class=\"col-lg-3\"> <h4>Mkzef</h4><p>zh gmckqdwejarq yslop dnwkyablt axljjbywne degeiose otx</p> <a class=\"btn btn-danger\" href=\"#\" role=\"button\">Kgdct Tula</a> </div> <div class=\"col-lg-3\"> <h4>Hwebs</h4><p>areh f yabrfkxcowda lfsjbsszkqq hmlyqqbjowdqh ngics hqo</p> <a class=\"btn btn-success\" href=\"#\" role=\"button\">Uz Zunjdso</a> </div> </div> </main> </body> </html> \n",
            "      Bleu: 0.48\n",
            "\n",
            "Prediction: <html> <body> <main class=\"container\"> <div class=\"header clearfix\"> <nav> <ul class=\"nav nav-pills pull-left\"> <li><a href=\"#\">Xqj Mxsm</a></li> <li><a href=\"#\">Xqj Mxsm</a></li> <li><a href=\"#\">Xqj Xxsm</a></li> </ul> </nav> </div> <div class=\"row\"><div class=\"col-lg-3\"> <h4>Xqxbm</h4><p>adjtsssssssmmnq wkaoemhffyyovynszpnctnzuzhschtk</p> <a class=\"btn btn-warning\" href=\"#\" role=\"button\">Nqp Zznqq</a> </div> <div class=\"col-lg-3\"> <h4>Zjnet</h4><p>asmpu wmtpuv fyyd mspyvvrtpauppbgspksxcymny tmgg</p> <a class=\"btn btn-warning\" href=\"#\" role=\"button\">Qssg Gssm</a> </div> <div class=\"col-lg-3\"> <h4>Qativ</h4><p>oa s uakffqpmmokcygbdz ms yhkkb ymmmpdkdqsmn</p> <a class=\"btn btn-warning\" href=\"#\" role=\"button\">Zsmss Bt</a> </div> <div class=\"col-lg-3\"> <h4>Natrrl</h4><p>amsaggo wl ts lc ss sscu ywxsgmmqh tbyuphwgphozzr rf</p> <a class=\"btn btn-warning\" href=\"#\" role=\"button\">Nqq Zssm</a> </div> <div class=\"col-lg-6\"> <h4>Ecncm</h4><p>kcussczaxagx nchn fy nk kyyssdvuuxxxfehadkvvr xh</p> <a class=\"btn btn-warning\" href=\"#\" role=\"button\">Wmtg Ymsx</a> </div> <div class=\"col-lg-6\"> <h4>Dxdia</h4><p>qyyzqftsscmbpsdbuuwskvpmmmgmmrgmve z reeqyftmsab</p> <a class=\"btn btn-warning\" href=\"#\" role=\"button\">Nm Uqgydfy</a> </div> </div> <div class=\"row\"><div class=\"col-lg-6\"> <h4>Vurlo</h4><p>zosb hwweckk fbbsfhua qqucaaex f xrhqgouwccmmnyyk</p> <a class=\"btn btn-warning\" href=\"#\" role=\"button\">Smt Bsss</a> </div> </div> </main> </body> </html> \n",
            "    Answer: <html> <body> <main class=\"container\"> <div class=\"header clearfix\"> <nav> <ul class=\"nav nav-pills pull-left\"> <li class=\"active\"><a href=\"#\">Uytvv Vhlk</a></li> <li><a href=\"#\">Vjrzvo Ozk</a></li> <li><a href=\"#\">Crahfzz Zc</a></li> </ul> </nav> </div> <div class=\"row\"><div class=\"col-lg-3\"> <h4>Xqxbm</h4><p>aufjpxfeaqeumsnq kkksowrhtjhfyvzvyrabkpnxctinvzchjezfetk</p> <a class=\"btn btn-success\" href=\"#\" role=\"button\">Nkpz Zmpgi</a> </div> <div class=\"col-lg-3\"> <h4>Zjnet</h4><p>alaeroa amipueyhycjl mwpvrvpfpakpkjagfpjlpekzdyntvy tmgg</p> <a class=\"btn btn-danger\" href=\"#\" role=\"button\">Ospgb Bupm</a> </div> <div class=\"col-lg-3\"> <h4>Qativ</h4><p>ze qxs uanhfzpmmokzvgbdz rru yhifub yvnwnspiklknjtwrvn</p> <a class=\"btn btn-success\" href=\"#\" role=\"button\">Zpmoolb Bt</a> </div> <div class=\"col-lg-3\"> <h4>Natrl</h4><p>amolageopckkh iw bz eaxo yuwsigrmuqzh byupvbwgqhozcr lf</p> <a class=\"btn btn-danger\" href=\"#\" role=\"button\">Ztschd Dot</a> </div> </div> <div class=\"row\"><div class=\"col-lg-6\"> <h4>Ecncm</h4><p>kruteaczavqpx ndoh fye nlk lsgrylolxvkzxfewhadkvtr kfh</p> <a class=\"btn btn-danger\" href=\"#\" role=\"button\">Wmfg Gvszz</a> </div> <div class=\"col-lg-6\"> <h4>Dxdia</h4><p>qsyjcjdfkxocmbqovbbeuwslwplncjipimmrgnhve tr zeedjwtmaab</p> <a class=\"btn btn-warning\" href=\"#\" role=\"button\">Ru Ugtgbmy</a> </div> </div> <div class=\"row\"><div class=\"col-lg-6\"> <h4>Vurlo</h4><p>zosto lnwwwzik fkbxlhuus rquucskwx f xmhcjzcutwcmmiyvk</p> <a class=\"btn btn-warning\" href=\"#\" role=\"button\">Bfkb Beljq</a> </div> <div class=\"col-lg-6\"> <h4>Jzajx</h4><p>tnjyibwemtyrjme dc g oksgjkr yxfsm hdjcf atyneybnelzieq</p> <a class=\"btn btn-success\" href=\"#\" role=\"button\">Ezkbduf Fj</a> </div> </div> </main> </body> </html> \n",
            "      Bleu: 0.28\n",
            "\n",
            "Prediction: <html> <body> <main class=\"container\"> <div class=\"header clearfix\"> <nav> <ul class=\"nav nav-pills pull-left\"> <li><a href=\"#\">Zg Yttsmt</a></li> <li><a href=\"#\">Zg Yttsmt</a></li> <li><a href=\"#\">Zg Yttsmt</a></li> </ul> </nav> </div> <div class=\"row\"><div class=\"col-lg-3\"> <h4>Xdiaf</h4><p>vyyy smqxsssssssssssggo dhuan iem xbuxucssudsdsedggwmtf</p> <a class=\"btn btn-warning\" href=\"#\" role=\"button\">Pss Xssss</a> </div> <div class=\"col-lg-3\"> <h4>Vulmq</h4><p>bubberucovv ujgmmgqgksazhq x mng oygtgenb oa</p> <a class=\"btn btn-warning\" href=\"#\" role=\"button\">Uy Rttgm</a> </div> <div class=\"col-lg-3\"> <h4>Ddyrx</h4><p>oyxss a ggsssdbwooo hmmmmsssgq sssdbb uqp mszooc</p> <a class=\"btn btn-warning\" href=\"#\" role=\"button\">Uy Rttsss</a> </div> <div class=\"col-lg-3\"> <h4>Byfn</h4><p>gy v scmn kssscqqewfyfyf ghhg g efhqguua ttprqaamwf</p> <a class=\"btn btn-warning\" href=\"#\" role=\"button\">Uy Rttgm</a> </div> <div class=\"col-lg-3\"> <h4>Voezw</h4><p>akkgags cwdyttcbkggprb spks nekkgg ndmc dpwedqjm</p> <a class=\"btn btn-warning\" href=\"#\" role=\"button\">Uy Rttgpm</a> </div> <div class=\"col-lg-3\"> <h4>Rtgpm</h4><p>hw r rcctfggnwl tbowyzbkgsauou u pysscyym d vvgmsggo</p> <a class=\"btn btn-warning\" href=\"#\" role=\"button\">Zg Rtgmtt</a> </div> </div> <div class=\"row\"><div class=\"col-lg-6\"> <h4>Cywtk</h4><p>xggrph u u uqxggcdhpysxd mnomekqadcmgnszarhwertmwyjffnzd</p> <a class=\"btn btn-warning\" href=\"#\" role=\"button\">Zg Rtgms</a> </div> </div> <div class=\"row\"><div class=\"col-lg-6\"> <h4>Cywtk</h4><p>xggrph u u uqxggcdhpysxd mnomekqadcmgnszaarhwtmwyjffnzd</p> <a class=\"btn btn-warning\" href=\"#\" role=\"button\">Zg Rtgms</a> </div> </div> </main> </body> </html> \n",
            "    Answer: <html> <body> <main class=\"container\"> <div class=\"header clearfix\"> <nav> <ul class=\"nav nav-pills pull-left\"> <li class=\"active\"><a href=\"#\">Ydthn Npdg</a></li> <li><a href=\"#\">Djyrzc Cmo</a></li> <li><a href=\"#\">Ngt Tubeiv</a></li> </ul> </nav> </div> <div class=\"row\"><div class=\"col-lg-3\"> <h4>Xdiaf</h4><p>cyiyy smqcxiwqncrwgsp otcuen skm xkbxxxcsusdwlexbgdvmflc</p> <a class=\"btn btn-success\" href=\"#\" role=\"button\">Pmscx Xgwp</a> </div> <div class=\"col-lg-3\"> <h4>Vulmq</h4><p>buzbisnubwhj zzv uqitrmsgupkkaztxg x wngs ocyrtjekhb osn</p> <a class=\"btn btn-danger\" href=\"#\" role=\"button\">Utkndg Goq</a> </div> <div class=\"col-lg-3\"> <h4>Ddyrx</h4><p>ooykes ju ggtxlbdleoeoo hotmmmxeicgq ssztkdb uqx msszoc</p> <a class=\"btn btn-success\" href=\"#\" role=\"button\">Gr Rauzvbk</a> </div> <div class=\"col-lg-3\"> <h4>Bylfn</h4><p>py vxwbfk scasimeseupgwllyd gmng g efhzjguxx ltjchzavnr</p> <a class=\"btn btn-success\" href=\"#\" role=\"button\">Xywwh Hfjz</a> </div> </div> <div class=\"row\"><div class=\"col-lg-6\"> <h4>Voezw</h4><p>sklgsags obvtytolzkrqgxrb spks nxktgb nolmc bjbwedajfm</p> <a class=\"btn btn-warning\" href=\"#\" role=\"button\">Lnt Tuoeaa</a> </div> <div class=\"col-lg-6\"> <h4>Rtgpm</h4><p>hwv racufggnwpl fsbwyzbkgsaukoxu e pyescsym d vvgynxgjo</p> <a class=\"btn btn-danger\" href=\"#\" role=\"button\">Zn Nggzhuv</a> </div> </div> <div class=\"row\"><div class=\"col-lg-12\"> <h4>Cywtk</h4><p>xgnjzh u uqwxgodfxpsysd nnomekqedcmqmlkzartnenrbmwpfjhnz</p> <a class=\"btn btn-success\" href=\"#\" role=\"button\">Zgt Tgglve</a> </div> </div> </main> </body> </html> \n",
            "      Bleu: 0.55\n",
            "\n",
            "Prediction: <html> <body> <main class=\"container\"> <div class=\"header clearfix\"> <nav> <ul class=\"nav nav-pills pull-left\"> <li><a href=\"#\">Rttm Yvts</a></li> <li><a href=\"#\">Rttm Yvts</a></li> <li><a href=\"#\">Rttm Yvts</a></li> </ul> </nav> </div> <div class=\"row\"><div class=\"col-lg-3\"> <h4>Pgoyg</h4><p>agy dd mgpdskeeknggyng ssazt xhq jhhw oqpgzgss</p> <a class=\"btn btn-warning\" href=\"#\" role=\"button\">Xxs Uvkgm</a> </div> <div class=\"col-lg-3\"> <h4>Rspuy</h4><p>qqssdzczuuaa sphfhsqqpwekkbbfbpx qaq rmmtqompyvtrg</p> <a class=\"btn btn-warning\" href=\"#\" role=\"button\">Qxs Uvtsm</a> </div> <div class=\"col-lg-3\"> <h4>Gkvqh</h4><p>dsxsmmq qpnq cxdbnoe ndmdpbeempuuqtphuio mqpb k i</p> <a class=\"btn btn-warning\" href=\"#\" role=\"button\">Ytm Yvts</a> </div> <div class=\"col-lg-3\"> <h4>Gztrl</h4><p>rtsfh pv t t t t s mmrfpkskaagvwogymbooxx f sjvvahmpgig</p> <a class=\"btn btn-warning\" href=\"#\" role=\"button\">Nss Yv Yvt</a> </div> <div class=\"col-lg-6\"> <h4>Tyquz</h4><p>ttxxppggdhspa o kcpmrpppowdmazzpwnobtfodmywscq</p> <a class=\"btn btn-warning\" href=\"#\" role=\"button\">Nss Yv Yzs</a> </div> <div class=\"col-lg-6\"> <h4>Mvbcn</h4><p>gmfhkhge msshywewwey ihtt gmarcoq qlxddaagq gbevy</p> <a class=\"btn btn-warning\" href=\"#\" role=\"button\">Rqg Gktt</a> </div> </div> <div class=\"row\"><div class=\"col-lg-6\"> <h4>Mvbcn</h4><p>gmfhkhge msshywewvey ihtt gmarcoq qlxddaagq gbevy</p> <a class=\"btn btn-warning\" href=\"#\" role=\"button\">Rqg Gktt</a> </div> </div> <div class=\"row\"><div class=\"col-lg-3\"> <h4>Mvbcn</h4><p>gmfhkhge mssfhywwevvy ihtt gmarcoq qlxddaagq gbevy</p> <a class=\"btn btn-warning\" href=\"#\" role=\"button\">Rqg Gktt</a> </div> </div> </main> </body> </html> \n",
            "    Answer: <html> <body> <main class=\"container\"> <div class=\"header clearfix\"> <nav> <ul class=\"nav nav-pills pull-left\"> <li class=\"active\"><a href=\"#\">Icqttl Lny</a></li> <li><a href=\"#\">Ehwd Dlcqf</a></li> </ul> </nav> </div> <div class=\"row\"><div class=\"col-lg-3\"> <h4>Pgoyg</h4><p>ayq vd rzngjjorwzlwaxlycgyxgy sustz whz jkfcw oxpqzgzaq</p> <a class=\"btn btn-warning\" href=\"#\" role=\"button\">Xwu Uagwzg</a> </div> <div class=\"col-lg-3\"> <h4>Rspuy</h4><p>uqyixrbzzvuux eptlkhxqwpwxokbzfbpix qatq nmnbpvrqrvtxng</p> <a class=\"btn btn-warning\" href=\"#\" role=\"button\">Kganp Ponm</a> </div> <div class=\"col-lg-3\"> <h4>Gkvqh</h4><p>dtvixnmq pgvq cnaljtmoel rdlmdqtwomquobjdnuio nvqob ki</p> <a class=\"btn btn-warning\" href=\"#\" role=\"button\">Ehci Iobpz</a> </div> <div class=\"col-lg-3\"> <h4>Gztrl</h4><p>rbzhe pkyt h nb mwvhpktekaqavvopymxtooxic f xjkvcafmgsg</p> <a class=\"btn btn-warning\" href=\"#\" role=\"button\">Cdhzr Rwli</a> </div> </div> <div class=\"row\"><div class=\"col-lg-12\"> <h4>Tyquz</h4><p>ttzkzprqddivpaz o kcqmrqtgkowdizmiatzpwsnodvfcodlmvyozcj</p> <a class=\"btn btn-success\" href=\"#\" role=\"button\">Nlxtvy Yzh</a> </div> </div> <div class=\"row\"><div class=\"col-lg-6\"> <h4>Mvbcn</h4><p>jemfvkhsge mcnihjvwwvvey ljhtz gmarxrq njtxxddaqro gbssy</p> <a class=\"btn btn-danger\" href=\"#\" role=\"button\">Bggxt Tfqa</a> </div> <div class=\"col-lg-6\"> <h4>Ijwgd</h4><p>vy nasfrpmbr uoaklenmplefqn goqggpjhanpxanniajsshwycxvqo</p> <a class=\"btn btn-success\" href=\"#\" role=\"button\">Foqme Exam</a> </div> </div> </main> </body> </html> \n",
            "      Bleu: 0.31\n",
            "\n",
            "Prediction: <html> <body> <main class=\"container\"> <div class=\"header clearfix\"> <nav> <ul class=\"nav nav-pills pull-left\"> <li><a href=\"#\">Jdt Bsop</a></li> <li><a href=\"#\">Jdt Bsop</a></li> <li><a href=\"#\">Jdt Bsop</a></li> </ul> </nav> </div> <div class=\"row\"><div class=\"col-lg-3\"> <h4>Unqls</h4><p>ttzpqxmsayynuhmt pen gfhmpx bay y e hqbeuckmne dvod</p> <a class=\"btn btn-warning\" href=\"#\" role=\"button\">Ub tt Httssy</a> </div> <div class=\"col-lg-3\"> <h4>Jevyu</h4><p>bckcaay x mgk ts upomsu jffbbrksswephdcddgvuwaz j ddd</p> <a class=\"btn btn-warning\" href=\"#\" role=\"button\">Ub tt Httssy</a> </div> <div class=\"col-lg-3\"> <h4>Jevyu</h4><p>bckcaay x mgk ts upomsu jffbbrksswephdcddgvuwaz j ddd</p> <a class=\"btn btn-warning\" href=\"#\" role=\"button\">Ub tt Httssy</a> </div> <div class=\"col-lg-3\"> <h4>Jevyu</h4><p>bckcaay x mgk ts upomsu jffbbrksswephdcddgvuwaz j ddd</p> <a class=\"btn btn-warning\" href=\"#\" role=\"button\">Ub tt Httssy</a> </div> </div> <div class=\"row\"><div class=\"col-lg-6\"> <h4>Tnyy tttmmwlt 2017</p> <a class=\"btn btn-warning\" href=\"#\" role=\"button\">Ub tt Hssy</a> </div> </div> <div class=\"row\"><div class=\"col-lg-6\"> <h4>Unqls</h4><p>ttzpqxmsayynuhmt pen gfhmpx bay y e hqbeucchme dvod</p> <a class=\"btn btn-warning\" href=\"#\" role=\"button\">Ub tt Httssy</a> </div> </div> <div class=\"row\"><div class=\"col-lg-3\"> <h4>Unqls</h4><p>ttzpqxmsayynuhmt pen gfhmpx bay y e hqbeucchme dvod</p> <a class=\"btn btn-warning\" href=\"#\" role=\"button\">Ub tt Httssy</a> </div> </div> </main> </body> </html> \n",
            "    Answer: <html> <body> <main class=\"container\"> <div class=\"header clearfix\"> <nav> <ul class=\"nav nav-pills pull-left\"> <li><a href=\"#\">Nittg Gjan</a></li> <li><a href=\"#\">Blfcdi Iwg</a></li> <li><a href=\"#\">Etb Bbsxlu</a></li> <li class=\"active\"><a href=\"#\">Jtbi Idopt</a></li> <li><a href=\"#\">Hp Pjlixsj</a></li> </ul> </nav> </div> <div class=\"row\"><div class=\"col-lg-6\"> <h4>Unqls</h4><p>tdqdqwfsavyrvuhrrlj pkn gffotnpx ba y e nbjexuckme dvrod</p> <a class=\"btn btn-danger\" href=\"#\" role=\"button\">Hh Huraynw</a> </div> <div class=\"col-lg-6\"> <h4>Jevyu</h4><p>bdrcaxy e mgk b upomsu jflfdnkosvwphdcxdlqytxuvacj j dzd</p> <a class=\"btn btn-success\" href=\"#\" role=\"button\">Xobbn Nasv</a> </div> </div> </main> </body> </html> \n",
            "      Bleu: 0.22\n",
            "\n",
            "Prediction: <html> <body> <main class=\"container\"> <div class=\"header clearfix\"> <nav> <ul class=\"nav nav-pills pull-left\"> <li><a href=\"#\">Cms Aqjss</a></li> <li><a href=\"#\">Cms Aqjss</a></li> <li><a href=\"#\">Cms Aqjss</a></li> </ul> </nav> </div> <div class=\"row\"><div class=\"col-lg-3\"> <h4>Alfeu</h4><p>vdeauuggfmdbbc rduqpnaqppnvfhrfwevle aakkzzphzccmd</p> <a class=\"btn btn-success\" href=\"#\" role=\"button\">Yv Vvtssd</a> </div> <div class=\"col-lg-3\"> <h4>Hdwil</h4><p>mweft thyphdgsaucue x jfttwewyykc qqpfhwg sazcwbl</p> <a class=\"btn btn-success\" href=\"#\" role=\"button\">Ss Vtsssg</a> </div> </div> <div class=\"row\"><div class=\"col-lg-6\"> <h4>Wkrsf</h4><p>httvmmpoxwbhtbrbccdqbbhoqpsaemgmmakq tctfggq</p> <a class=\"btn btn-success\" href=\"#\" role=\"button\">Ss Vtssg</a> </div> </div> <div class=\"row\"><div class=\"col-lg-3\"> <h4>Ankai</h4><p>qg mmmyyppmssphcnqbcq ua hvsq uuccd mcdmnggs dh mh</p> <a class=\"btn btn-success\" href=\"#\" role=\"button\">Yv Vvtssg</a> </div> <div class=\"col-lg-3\"> <h4>Pnniw</h4><p>agmssm msss tywwdjmmgg ythkssgpguah c mugghdygyybba</p> <a class=\"btn btn-success\" href=\"#\" role=\"button\">Kss Vvtss</a> </div> <div class=\"col-lg-3\"> <h4>Bxuev</h4><p>ny mmmysjjksssssstv mgb sqeebnmmkkvessah</p> <a class=\"btn btn-success\" href=\"#\" role=\"button\">Yv Vvtsss</a> </div> </div> </main> </body> </html> \n",
            "    Answer: <html> <body> <main class=\"container\"> <div class=\"header clearfix\"> <nav> <ul class=\"nav nav-pills pull-left\"> <li class=\"active\"><a href=\"#\">Onia Aqdxm</a></li> <li><a href=\"#\">Vls Snogrv</a></li> <li><a href=\"#\">Pjkizb Blf</a></li> </ul> </nav> </div> <div class=\"row\"><div class=\"col-lg-6\"> <h4>Alfeu</h4><p>xfeeaucgpifymlubci rduopnaypqnxlfmfewlse aektgtzptvzccmd</p> <a class=\"btn btn-warning\" href=\"#\" role=\"button\">Swpaoff Fr</a> </div> <div class=\"col-lg-6\"> <h4>Hdwii</h4><p>nvievt ftiyptdrgsaupap x jlfbweyeyloz qsqwfwvg zazrcwbi</p> <a class=\"btn btn-danger\" href=\"#\" role=\"button\">Oxvjfcw Wn</a> </div> </div> <div class=\"row\"><div class=\"col-lg-12\"> <h4>Wkrsf</h4><p>hltlnmrqvcwablfnptbhbcidgdpiohoqcieznrgmhiakjq tctgfgzj</p> <a class=\"btn btn-danger\" href=\"#\" role=\"button\">Sw Wdabmgp</a> </div> </div> <div class=\"row\"><div class=\"col-lg-3\"> <h4>Ahkai</h4><p>qz smzmcyrpmzcsickcnvpbzp ue hssuj uocxiz mncbmqys dm km</p> <a class=\"btn btn-warning\" href=\"#\" role=\"button\">Ya Arvdbqg</a> </div> <div class=\"col-lg-3\"> <h4>Pnniw</h4><p>jkgdlopsbtpp l kxewkjnrerpg yrfndwpgouxh c mvghvqhjrjhba</p> <a class=\"btn btn-danger\" href=\"#\" role=\"button\">Kairw Wixh</a> </div> <div class=\"col-lg-3\"> <h4>Bxuev</h4><p>py smyazrrpjwbpivphzcstv mijjv iwjva spenbhmlmkkrwsssh</p> <a class=\"btn btn-danger\" href=\"#\" role=\"button\">Aimkmem Mk</a> </div> <div class=\"col-lg-3\"> <h4>Tdyiz</h4><p>dqnn adkp pgzq vyirzvegikhimctv xlyqcrdr vn mzxayuujuwil</p> <a class=\"btn btn-danger\" href=\"#\" role=\"button\">Hdpm Mieix</a> </div> </div> </main> </body> </html> \n",
            "      Bleu: 0.54\n",
            "\n",
            "Prediction: <html> <body> <main class=\"container\"> <div class=\"header clearfix\"> <nav> <ul class=\"nav nav-pills pull-left\"> <li><a href=\"#\">Ugoej Ugoej</a></li> <li><a href=\"#\">Jp Jssss Jd</a></li> <li><a href=\"#\">Ugoej Ugoej</a></li> </ul> </nav> </div> <div class=\"row\"><div class=\"col-lg-3\"> <h4>Ltakg</h4><p>jgfhsphtgphd hflf gsdyxa ullsopwhdbb zaa xaeo ma</p> <a class=\"btn btn-warning\" href=\"#\" role=\"button\">Zg Yssss</a> </div> <div class=\"col-lg-3\"> <h4>Dgmnq</h4><p>on qmtgpmsfhssssssssseyyffw naaqphhzaapumfywqpl</p> <a class=\"btn btn-warning\" href=\"#\" role=\"button\">Uxsss Css</a> </div> <div class=\"col-lg-3\"> <h4>Qkqy</h4><p>vt s wcsmssqffhnd suxufgry lymud lwt hangssgpp zkm</p> <a class=\"btn btn-warning\" href=\"#\" role=\"button\">Uxsss Css</a> </div> <div class=\"col-lg-3\"> <h4>Ugoej</h4><p>juq ms ms svcvc qmtfggxssmqopwnq pcbsgubaam</p> <a class=\"btn btn-warning\" href=\"#\" role=\"button\">Xssss Css</a> </div> <div class=\"col-lg-3\"> <h4>Icfnx</h4><p>ngnqppc xttbuq qf wmhuudjf dhhvyuhlbp nymox sgbgpguvz</p> <a class=\"btn btn-warning\" href=\"#\" role=\"button\">Axsss Css</a> </div> <div class=\"col-lg-3\"> <h4>Icfnx</h4><p>ngnqppc xttbuq qf wmhuudjf dhhvyuhlbp nymox sgbgpguvz</p> <a class=\"btn btn-warning\" href=\"#\" role=\"button\">Axsss Css</a> </div> <div class=\"col-lg-3\"> <h4>Tmy tehsmwlt 2017</h4><p>o Tbry ttbhsmwlt sst7</p> <a class=\"btn btn-warning\" href=\"#\" role=\"button\">Axsss Css</a> </div> </div> <div class=\"row\"><div class=\"col-lg-6\"> <h4>Ltakg</h4><p>jgfhsphtgphd hflf gsdyxa ullsopwhdbb zaa xaeo ma</p> <a class=\"btn btn-warning\" href=\"#\" role=\"button\">Zg Ysssss</a> </div> </div> <div class=\"row\"><div class=\"col-lg-6\"> <h4>Ltakg</h4><p>jgfhsphtgphd hflf gsdyxa ullsopwhdbb zaa xaeo ma</p> <a class=\"btn btn-warning\" href=\"#\" role=\"button\">Zg Ysssss</a> </div> </div> </main> </body> </html> \n",
            "    Answer: <html> <body> <main class=\"container\"> <div class=\"header clearfix\"> <nav> <ul class=\"nav nav-pills pull-left\"> <li><a href=\"#\">Gqm Mpdvuv</a></li> <li><a href=\"#\">Ffxixcy Yi</a></li> <li class=\"active\"><a href=\"#\">Bsxtez Zee</a></li> <li><a href=\"#\">Ulk Kgiigk</a></li> <li><a href=\"#\">Ffw Wnilay</a></li> </ul> </nav> </div> <div class=\"row\"><div class=\"col-lg-3\"> <h4>Ltakg</h4><p>jlglfbqdrljqlzhd hkff gqpjtyza vatleqwrkidb zaa yoawo ma</p> <a class=\"btn btn-warning\" href=\"#\" role=\"button\">Fp Ppyjtnj</a> </div> <div class=\"col-lg-3\"> <h4>Dgmnq</h4><p>ovl uzorzqtnxhpxeuhegletwcvyelfw naaqtxfvicaapumrfywqvii</p> <a class=\"btn btn-warning\" href=\"#\" role=\"button\">Udetc Ckim</a> </div> <div class=\"col-lg-3\"> <h4>Qkqiy</h4><p>vs h xjoctmetqkffond sxuwfgnr lymxdt kvt hangpisgtx zkmj</p> <a class=\"btn btn-warning\" href=\"#\" role=\"button\">Oeshipo Os</a> </div> <div class=\"col-lg-3\"> <h4>Ugoej</h4><p>juq nrs k ihxqxtxvcd qmttgigtareusnqyopenvq pcbsgubavn</p> <a class=\"btn btn-success\" href=\"#\" role=\"button\">Khaux Xxbs</a> </div> </div> <div class=\"row\"><div class=\"col-lg-12\"> <h4>Icfnx</h4><p>mgnqpc xfzibuq sf wmhuvdjf dhfwyuhtijq nymcvi sgbgqzuvz</p> <a class=\"btn btn-success\" href=\"#\" role=\"button\">Amgw Wtdmt</a> </div> </div> </main> </body> </html> \n",
            "      Bleu: 0.57\n",
            " Avg Bleu Score: 0.50\n"
          ]
        },
        {
          "output_type": "stream",
          "name": "stderr",
          "text": [
            "Epoch 1/9 - train loop: 100%|██████████| 386/386 [04:56<00:00,  1.30it/s, loss=2.1]\n"
          ]
        },
        {
          "output_type": "stream",
          "name": "stdout",
          "text": [
            "Moving Avg Loss: 2.111\n"
          ]
        },
        {
          "output_type": "stream",
          "name": "stderr",
          "text": [
            "Epoch 2/9 - train loop: 100%|██████████| 386/386 [04:56<00:00,  1.30it/s, loss=1.83]\n"
          ]
        },
        {
          "output_type": "stream",
          "name": "stdout",
          "text": [
            "Moving Avg Loss: 1.907\n"
          ]
        },
        {
          "output_type": "stream",
          "name": "stderr",
          "text": [
            "Epoch 3/9 - train loop: 100%|██████████| 386/386 [04:56<00:00,  1.30it/s, loss=1.68]\n"
          ]
        },
        {
          "output_type": "stream",
          "name": "stdout",
          "text": [
            "Moving Avg Loss: 1.703\n"
          ]
        },
        {
          "output_type": "stream",
          "name": "stderr",
          "text": [
            "Epoch 4/9 - train loop: 100%|██████████| 386/386 [04:56<00:00,  1.30it/s, loss=1.53]\n"
          ]
        },
        {
          "output_type": "stream",
          "name": "stdout",
          "text": [
            "Moving Avg Loss: 1.566\n"
          ]
        },
        {
          "output_type": "stream",
          "name": "stderr",
          "text": [
            "Epoch 4/9 - valid loop:  50%|█████     | 1/2 [01:18<01:18, 78.65s/it, bleu_score=0.816]"
          ]
        },
        {
          "output_type": "stream",
          "name": "stdout",
          "text": [
            "\n",
            "Prediction: <html> <body> <main class=\"container\"> <div class=\"header clearfix\"> <nav> <ul class=\"nav nav-pills pull-left\"> <li><a href=\"#\">Xssy Yssss</a></li> <li><a href=\"#\">Xssss Ssss</a></li> <li class=\"active\"><a href=\"#\">Kzs Bmmss</a></li> </ul> </nav> </div> <div class=\"row\"><div class=\"col-lg-3\"> <h4>Jqeb</h4><p>bwu q b qszcshkkb wmwzcdaaymtpvndkhnize eggklvng</p> <a class=\"btn btn-danger\" href=\"#\" role=\"button\">Kmwf Fyffa</a> </div> <div class=\"col-lg-3\"> <h4>Ifxqz</h4><p>jneu jccaaqkhoqjkndbw jhcags uq kvpkc sa cqa ssdqtchude</p> <a class=\"btn btn-success\" href=\"#\" role=\"button\">Yppg Gpwqg</a> </div> <div class=\"col-lg-3\"> <h4>Ympzx</h4><p>sasw cst mkhqooodmyfkpygg aqu j zn kmkkkhaswfwsds</p> <a class=\"btn btn-success\" href=\"#\" role=\"button\">Pmwq Jhwe</a> </div> <div class=\"col-lg-3\"> <h4>Lzjke</h4><p>qrm hfqzzdt tsajfydm ukyhpbcax de eqqqtm ghkkkwhwnds</p> <a class=\"btn btn-success\" href=\"#\" role=\"button\">Eeqgh Huqs</a> </div> </div> <div class=\"row\"><div class=\"col-lg-6\"> <h4>Ztasm</h4><p>wrtbup d jmx zmeeumawwyygg c acpsdboppb gwuawtzor lwq</p> <a class=\"btn btn-success\" href=\"#\" role=\"button\">Eouukk Kb</a> </div> <div class=\"col-lg-6\"> <h4>Qqcbj</h4><p>fi pphy xftgz vhddv bzghea uzpmmdupvvosaejphchwdbvvqw</p> <a class=\"btn btn-success\" href=\"#\" role=\"button\">Ega Aaxxtt</a> </div> </div> </main> </body> </html> \n",
            "    Answer: <html> <body> <main class=\"container\"> <div class=\"header clearfix\"> <nav> <ul class=\"nav nav-pills pull-left\"> <li class=\"active\"><a href=\"#\">Yub Bnkmjs</a></li> <li><a href=\"#\">Pbjt Tpamh</a></li> <li><a href=\"#\">Ljkgdin Ng</a></li> </ul> </nav> </div> <div class=\"row\"><div class=\"col-lg-3\"> <h4>Jjqeb</h4><p>bku q b qsszalrkikfp wrhwzsclakyntzvndkfnrize eqgklnngi</p> <a class=\"btn btn-danger\" href=\"#\" role=\"button\">Knwf Fpfis</a> </div> <div class=\"col-lg-3\"> <h4>Ifxqz</h4><p>jnku pceaqkhocjkndcw jhcags uvj kvpkc sa cqa ladxpfchude</p> <a class=\"btn btn-warning\" href=\"#\" role=\"button\">Vhpg Gphag</a> </div> <div class=\"col-lg-3\"> <h4>Ympzs</h4><p>aaxw cst nnkhquooitmyfkpygg aqu j pn krrixkkhaswtwsoitx</p> <a class=\"btn btn-warning\" href=\"#\" role=\"button\">Prewj Jmei</a> </div> <div class=\"col-lg-3\"> <h4>Lzjke</h4><p>qnm lfxpzdr tosjbybm ukylhpbcax de ezpqdm ghkvkwheindls</p> <a class=\"btn btn-warning\" href=\"#\" role=\"button\">Ewgckl Lyq</a> </div> </div> <div class=\"row\"><div class=\"col-lg-6\"> <h4>Ztasm</h4><p>srlfzup d jmx zmseumawwsyqig c aopxsbopsb geuawtzor lxej</p> <a class=\"btn btn-warning\" href=\"#\" role=\"button\">Exsufek Kb</a> </div> <div class=\"col-lg-6\"> <h4>Qqcbj</h4><p>fl pptyj xtfgz vhddv bpghea uzpmmzupvooasqixhchxdbvvqw</p> <a class=\"btn btn-danger\" href=\"#\" role=\"button\">Ipga Akxvt</a> </div> </div> </main> </body> </html> \n",
            "      Bleu: 0.80\n",
            "\n",
            "Prediction: <html> <body> <main class=\"container\"> <div class=\"header clearfix\"> <nav> <ul class=\"nav nav-pills pull-left\"> <li><a href=\"#\">Xx Xssssss</a></li> <li><a href=\"#\">Xx Xssssss</a></li> <li class=\"active\"><a href=\"#\">Lxsqrpr Rp</a></li> </ul> </nav> </div> <div class=\"row\"><div class=\"col-lg-6\"> <h4>Zpbvq</h4><p>vywk tqv szbpuasagbhuxaajbv vmlqym guqvvfza sp lz wnjq</p> <a class=\"btn btn-danger\" href=\"#\" role=\"button\">Spkwe Ehww</a> </div> <div class=\"col-lg-6\"> <h4>Mbfji</h4><p>vwmymx dzzpzuvmkxggeer igohiy fhgvnfhpvbqmw hb kuvu</p> <a class=\"btn btn-success\" href=\"#\" role=\"button\">Lse Ewsss</a> </div> </div> <div class=\"row\"><div class=\"col-lg-12\"> <h4>Keztp</h4><p>dbcvfxhhp az zp cudx rwssgiq rfbndu kthnbb eumseyecsz</p> <a class=\"btn btn-warning\" href=\"#\" role=\"button\">Yssxr Rhb</a> </div> </div> <div class=\"row\"><div class=\"col-lg-3\"> <h4>Lyyyr</h4><p>gp oaggsndssms bzg ukyqaeg rvfrmm i acuumsewy qqwejbz</p> <a class=\"btn btn-warning\" href=\"#\" role=\"button\">Aaqoxv Fh</a> </div> <div class=\"col-lg-3\"> <h4>Hsocn</h4><p>xnkkaucq jnrpbftddwnwvcqkhhepjw hoddtiffhqmnswdaa xr</p> <a class=\"btn btn-success\" href=\"#\" role=\"button\">Ea Awmbw</a> </div> <div class=\"col-lg-3\"> <h4>Fifex</h4><p>hwudmzodqrfa s d x pt otkp zl hnjmmyvmqddffbozhym</p> <a class=\"btn btn-success\" href=\"#\" role=\"button\">Gmmpwm Mzu</a> </div> <div class=\"col-lg-3\"> <h4>Txfna</h4><p>nebnrhvc wxsqvvdfnssdbhhkwbsmy q mjwahn sioebcgjn du</p> <a class=\"btn btn-warning\" href=\"#\" role=\"button\">Sqq Qwewge</a> </div> </div> </main> </body> </html> \n",
            "    Answer: <html> <body> <main class=\"container\"> <div class=\"header clearfix\"> <nav> <ul class=\"nav nav-pills pull-left\"> <li class=\"active\"><a href=\"#\">Lkvqbr Rjb</a></li> <li><a href=\"#\">Tobyskp Pj</a></li> <li><a href=\"#\">Umtb Bjfmo</a></li> <li><a href=\"#\">Ntskd Dwik</a></li> <li><a href=\"#\">Ymiid Dnrd</a></li> </ul> </nav> </div> <div class=\"row\"><div class=\"col-lg-6\"> <h4>Zpbvq</h4><p>xyvk lqv szkpussagbhusxajbv vmlqynv guqvufjza sp iz wnjq</p> <a class=\"btn btn-warning\" href=\"#\" role=\"button\">Spkse Ehbw</a> </div> <div class=\"col-lg-6\"> <h4>Mbfjl</h4><p>vwmymx dzpjizuvrrkxqgeer igdriy lhgvnfhpvbqtmw hb kuvu</p> <a class=\"btn btn-danger\" href=\"#\" role=\"button\">Lke Ewlsoi</a> </div> </div> <div class=\"row\"><div class=\"col-lg-12\"> <h4>Keztp</h4><p>cbcvhxhlpp az zp cudx rweagiqj nfondu kthnbb euxnseyecsz</p> <a class=\"btn btn-danger\" href=\"#\" role=\"button\">Yjskrr Rfo</a> </div> </div> <div class=\"row\"><div class=\"col-lg-3\"> <h4>Lyyyr</h4><p>gp otggxnolaomx tzgs ukyqaxg rvfmm i aoukmsiery zqovejbz</p> <a class=\"btn btn-danger\" href=\"#\" role=\"button\">Abqblvf Fh</a> </div> <div class=\"col-lg-3\"> <h4>Hsocn</h4><p>xnkhaucq njnpbfixtdvenwvcqrkhsrpiw hoddtsfhqenrawdaa xir</p> <a class=\"btn btn-success\" href=\"#\" role=\"button\">Euk Kwnbvw</a> </div> <div class=\"col-lg-3\"> <h4>Fifex</h4><p>hekdltnzlodqnfa vj d x pt ctkjp zl hnjnmyvmrqtdfhtoczhym</p> <a class=\"btn btn-success\" href=\"#\" role=\"button\">Gkmpwm Mbv</a> </div> <div class=\"col-lg-3\"> <h4>Txfna</h4><p>nebnnrvo wswprvxthsxdbhtkeebamy q mjwahn laoetlxgjn du</p> <a class=\"btn btn-warning\" href=\"#\" role=\"button\">Sbq Qwevga</a> </div> </div> </main> </body> </html> \n",
            "      Bleu: 0.79\n",
            "\n",
            "Prediction: <html> <body> <main class=\"container\"> <div class=\"header clearfix\"> <nav> <ul class=\"nav nav-pills pull-left\"> <li><a href=\"#\">Xx Xssssss</a></li> <li><a href=\"#\">Xss Ssssss</a></li> <li class=\"active\"><a href=\"#\">Py Wwtwss</a></li> </ul> </nav> </div> <div class=\"row\"><div class=\"col-lg-6\"> <h4>Nrfqb</h4><p>snsbndyydmnggco xffoqkmsn l g dbmce tjlj vwepbrdknop</p> <a class=\"btn btn-danger\" href=\"#\" role=\"button\">Jes Shwwy</a> </div> <div class=\"col-lg-6\"> <h4>Qbxas</h4><p>qooubhwcclbphobfom chqhainyoklpdyyes dfgfsaulu fyna</p> <a class=\"btn btn-success\" href=\"#\" role=\"button\">Js Ssftssc</a> </div> </div> <div class=\"row\"><div class=\"col-lg-12\"> <h4>Jfwsr</h4><p>yvamptqnacur cb ngtmdlkqeikugahaw kp y efhp gvwatov</p> <a class=\"btn btn-warning\" href=\"#\" role=\"button\">My Yvngjp</a> </div> </div> <div class=\"row\"><div class=\"col-lg-3\"> <h4>Qtdzd</h4><p>qphwgvmge lpmsl n odmhawwrdkgdhvgjjwdivakhbiqjnrk szo</p> <a class=\"btn btn-warning\" href=\"#\" role=\"button\">Xw Wywwqph</a> </div> <div class=\"col-lg-3\"> <h4>Adcwr</h4><p>hqvmrqjhehsqqghmcnhrgrea aahvqs pqdppocwwf jpn d nh</p> <a class=\"btn btn-danger\" href=\"#\" role=\"button\">Qcg Gsssss</a> </div> <div class=\"col-lg-3\"> <h4>Vjpqf</h4><p>uegwswr mr cupmkwn lzcfhddqdraq eslggdhccmmwyaxv</p> <a class=\"btn btn-warning\" href=\"#\" role=\"button\">Htpd Dgww</a> </div> <div class=\"col-lg-3\"> <h4>Mhvkg</h4><p>dtvv tpydte xgafmyam snrbottttt zdydsfyssuvupdjlddd</p> <a class=\"btn btn-warning\" href=\"#\" role=\"button\">Qv Vvqpoo</a> </div> </div> </main> </body> </html> \n",
            "    Answer: <html> <body> <main class=\"container\"> <div class=\"header clearfix\"> <nav> <ul class=\"nav nav-pills pull-left\"> <li><a href=\"#\">Yt Tcpusuo</a></li> <li class=\"active\"><a href=\"#\">Hy Yeihssp</a></li> </ul> </nav> </div> <div class=\"row\"><div class=\"col-lg-6\"> <h4>Nrfqb</h4><p>srsbmdyqltnrqqgce xftoqkmsn l g zbrncre tjl vxwpbrdknop</p> <a class=\"btn btn-success\" href=\"#\" role=\"button\">Jes Sfkawy</a> </div> <div class=\"col-lg-6\"> <h4>Qbxas</h4><p>qvoiubhwcldpehiofbm ctnqhairxyolvlpdyyes zfgjfauuiu tyna</p> <a class=\"btn btn-success\" href=\"#\" role=\"button\">Js Safbscc</a> </div> </div> <div class=\"row\"><div class=\"col-lg-12\"> <h4>Jfwsr</h4><p>yxsmptlqnacur cb ngtnrdkiqeikugxshaw kp y efxp gcwaatov</p> <a class=\"btn btn-warning\" href=\"#\" role=\"button\">My Ycntjjn</a> </div> </div> <div class=\"row\"><div class=\"col-lg-3\"> <h4>Qtdzd</h4><p>qxhwgvmge lpnrxl r odmhswwrdkgdhxqjjrwdlvakhblojixnk szo</p> <a class=\"btn btn-success\" href=\"#\" role=\"button\">Xw Wymwzph</a> </div> <div class=\"col-lg-3\"> <h4>Adcwr</h4><p>nqivnrojthkhixpzgtmcnhrigrea iahvrqs pzqbpocwwf jqn d rh</p> <a class=\"btn btn-warning\" href=\"#\" role=\"button\">Qzg Giebio</a> </div> <div class=\"col-lg-3\"> <h4>Vjpqf</h4><p>uwgvsiwr mr cupmkwn izcfntdojdraq esjtgpthxcrernwyazv</p> <a class=\"btn btn-danger\" href=\"#\" role=\"button\">Hfipd Dagw</a> </div> <div class=\"col-lg-3\"> <h4>Mhvkg</h4><p>dtvv bybtm xgafmyam srsrboltbflt zdydsifjyvsuvupojbidxfi</p> <a class=\"btn btn-danger\" href=\"#\" role=\"button\">Gv Vrdposp</a> </div> </div> </main> </body> </html> \n",
            "      Bleu: 0.83\n",
            "\n",
            "Prediction: <html> <body> <main class=\"container\"> <div class=\"header clearfix\"> <nav> <ul class=\"nav nav-pills pull-left\"> <li><a href=\"#\">Rmt Tssssm</a></li> <li><a href=\"#\">Qssss Sssm</a></li> <li class=\"active\"><a href=\"#\">Hkck Kqqqt</a></li> </ul> </nav> </div> <div class=\"row\"><div class=\"col-lg-6\"> <h4>Bgqbt</h4><p>fybhowwvrfb y v ayf fjpf tjnkhnyhutofasewnfehe x pcpb</p> <a class=\"btn btn-success\" href=\"#\" role=\"button\">Qna Ecbsd</a> </div> <div class=\"col-lg-6\"> <h4>Kyyhc</h4><p>wa fooczbcckglytzts tckfwhp jwkkp uooemmgrlpw qob</p> <a class=\"btn btn-success\" href=\"#\" role=\"button\">Hqr Rsgnz</a> </div> </div> <div class=\"row\"><div class=\"col-lg-12\"> <h4>Ebffh</h4><p>tqfbzymsjfkqhhob cffgmtzxdxnwb x kaue fbirr n mtkcoai</p> <a class=\"btn btn-warning\" href=\"#\" role=\"button\">Dtymmw Ww</a> </div> </div> <div class=\"row\"><div class=\"col-lg-3\"> <h4>Mvjcd</h4><p>vwqcakvvdtjxv qna wggvatb uyaeawk hv nn nwyajksgm</p> <a class=\"btn btn-success\" href=\"#\" role=\"button\">Ysssja Aak</a> </div> <div class=\"col-lg-3\"> <h4>Frujb</h4><p>wqwwmqqjwtqwdjnghq mnl yskccooasmbjmvxoehtwe ihhw</p> <a class=\"btn btn-warning\" href=\"#\" role=\"button\">Qgglmmw Wg</a> </div> <div class=\"col-lg-3\"> <h4>Ugffq</h4><p>ofqzg dzwu fyykjb teqpnhwnskdjoog ggrm sole ook lq</p> <a class=\"btn btn-success\" href=\"#\" role=\"button\">Lm Nuakkm</a> </div> <div class=\"col-lg-3\"> <h4>Ibfby</h4><p>np mvoox xsdqpcc vlmfl mss tpxbfggumvfgk pwcbzpnkk hya</p> <a class=\"btn btn-success\" href=\"#\" role=\"button\">Rgwc Cdq</a> </div> </div> </main> </body> </html> \n",
            "    Answer: <html> <body> <main class=\"container\"> <div class=\"header clearfix\"> <nav> <ul class=\"nav nav-pills pull-left\"> <li class=\"active\"><a href=\"#\">Hoik Karpp</a></li> <li><a href=\"#\">Tf Fpnbrhh</a></li> <li><a href=\"#\">Vwgmq Qzxl</a></li> </ul> </nav> </div> <div class=\"row\"><div class=\"col-lg-6\"> <h4>Bgqbt</h4><p>tybhowxhvnfb y v atyf lfpf hjrrknryhutofaawenfehe x pcpb</p> <a class=\"btn btn-danger\" href=\"#\" role=\"button\">Qrae Edkdi</a> </div> <div class=\"col-lg-6\"> <h4>Kyyhc</h4><p>wja fiovzcbcckgylrztto tckfwhp jevjklp uxoenmgrlpw opb</p> <a class=\"btn btn-success\" href=\"#\" role=\"button\">Hjdr Regnz</a> </div> </div> <div class=\"row\"><div class=\"col-lg-12\"> <h4>Ebflh</h4><p>tqfzzytrajfkqfnob ctfgpntxzknwb x kaue fbior n mlrxoasl</p> <a class=\"btn btn-warning\" href=\"#\" role=\"button\">Dfymxmw Wu</a> </div> </div> <div class=\"row\"><div class=\"col-lg-3\"> <h4>Mvjcd</h4><p>vwijlcakvvtjtbjv qrva wpgvatb uyaeavlk hr nn neyajlksgm</p> <a class=\"btn btn-success\" href=\"#\" role=\"button\">Yudoja Adk</a> </div> <div class=\"col-lg-3\"> <h4>Frujb</h4><p>wqewmtqqixetqwdtjnghq nml ysicnccossmbjrrvxoehitee ilhfw</p> <a class=\"btn btn-danger\" href=\"#\" role=\"button\">Dggbmhw Wg</a> </div> <div class=\"col-lg-3\"> <h4>Ugfbj</h4><p>ofizjqy qswu ffyvkjb tieqknhxntekbjsqe ggrm sole oxlv lq</p> <a class=\"btn btn-success\" href=\"#\" role=\"button\">Lyn Nukakm</a> </div> <div class=\"col-lg-3\"> <h4>Ibfby</h4><p>np mvoivs xdxqnzc vtimfj mss tpxbfggumvfgk pwcbzpnik hya</p> <a class=\"btn btn-success\" href=\"#\" role=\"button\">Rjpwc Cilq</a> </div> </div> </main> </body> </html> \n",
            "      Bleu: 0.82\n",
            "\n",
            "Prediction: <html> <body> <main class=\"container\"> <div class=\"header clearfix\"> <nav> <ul class=\"nav nav-pills pull-left\"> <li><a href=\"#\">Dx Xssssss</a></li> <li class=\"active\"><a href=\"#\">Snxd Lwwp</a></li> <li><a href=\"#\">Xx Xssssss</a></li> </ul> </nav> </div> <div class=\"row\"><div class=\"col-lg-12\"> <h4>Wnxuk</h4><p>kvqrd kphcfh wtdzxuburafqdn kgmzgphdswphi ot p makk</p> <a class=\"btn btn-danger\" href=\"#\" role=\"button\">Kxssqhh Hy</a> </div> </div> </main> </body> </html> \n",
            "    Answer: <html> <body> <main class=\"container\"> <div class=\"header clearfix\"> <nav> <ul class=\"nav nav-pills pull-left\"> <li><a href=\"#\">Ho Oxttaeh</a></li> <li><a href=\"#\">Cjgiir Rdb</a></li> <li class=\"active\"><a href=\"#\">Srxxl Lwap</a></li> <li><a href=\"#\">Zaxe Eqopg</a></li> </ul> </nav> </div> <div class=\"row\"><div class=\"col-lg-12\"> <h4>Wnxuk</h4><p>kvqrd kphbth wtdzvuzburafqdm kgmzgzhidespfnl ot p maixk</p> <a class=\"btn btn-warning\" href=\"#\" role=\"button\">Xxssgdh Hy</a> </div> </div> </main> </body> </html> \n",
            "      Bleu: 0.80\n",
            "\n",
            "Prediction: <html> <body> <main class=\"container\"> <div class=\"header clearfix\"> <nav> <ul class=\"nav nav-pills pull-left\"> <li><a href=\"#\">Gsy Yqgysx</a></li> <li><a href=\"#\">Qx Xssssss</a></li> <li class=\"active\"><a href=\"#\">Ldsnm Mmny</a></li> </ul> </nav> </div> <div class=\"row\"><div class=\"col-lg-6\"> <h4>Zsvcp</h4><p>zqzm wggdzrjnaykkfovaanlf v beuknzqdynomkoyivob v ddpcfb</p> <a class=\"btn btn-danger\" href=\"#\" role=\"button\">Hb Bvvuuq</a> </div> <div class=\"col-lg-6\"> <h4>Vafeb</h4><p>dnvkttb eq jjhtvuadt t vkgdw j bjdfkpjjuudyj pvwwvtbo</p> <a class=\"btn btn-danger\" href=\"#\" role=\"button\">Qxsp Ppmd</a> </div> </div> <div class=\"row\"><div class=\"col-lg-3\"> <h4>Cajgc</h4><p>fwfyxdutddpnqc s tpcqbbvwec cnubntjhok wz hpdm qqq ui</p> <a class=\"btn btn-danger\" href=\"#\" role=\"button\">Cv Vqqyvx</a> </div> <div class=\"col-lg-3\"> <h4>Ezzmi</h4><p>kgcycdjhfwvw x l vaakecpmm haxcfesux wqeg dkv bvfpsdlq</p> <a class=\"btn btn-danger\" href=\"#\" role=\"button\">Qmnyu Ucz</a> </div> <div class=\"col-lg-3\"> <h4>Iaihn</h4><p>lga es vtgwbftqf hp vbpseqzxxaafms qmyergotcb wvgf beqn</p> <a class=\"btn btn-danger\" href=\"#\" role=\"button\">Oqqqwez Zz</a> </div> <div class=\"col-lg-3\"> <h4>Tljsx</h4><p>ehsmdyswm aagmmv jdysssmpv wn hps god fqgzcf qfwo</p> <a class=\"btn btn-success\" href=\"#\" role=\"button\">Mu Uoocwsg</a> </div> </div> <div class=\"row\"><div class=\"col-lg-12\"> <h4>Mgvkz</h4><p>sdgfcohh hw t dskb mcb ian uer mgwukcdkkymsgbtwjkaan</p> <a class=\"btn btn-danger\" href=\"#\" role=\"button\">Gqqgtl Ls</a> </div> </div> </main> </body> </html> \n",
            "    Answer: <html> <body> <main class=\"container\"> <div class=\"header clearfix\"> <nav> <ul class=\"nav nav-pills pull-left\"> <li class=\"active\"><a href=\"#\">Lcaom Mwhy</a></li> <li><a href=\"#\">Fkk Klhuuj</a></li> </ul> </nav> </div> <div class=\"row\"><div class=\"col-lg-6\"> <h4>Zsvcp</h4><p>zqzm wqgdzrjmaykxfooanif v bwuknzqlzynomkoyivob v ddpclb</p> <a class=\"btn btn-danger\" href=\"#\" role=\"button\">Rb Blvxuiq</a> </div> <div class=\"col-lg-6\"> <h4>Vafeb</h4><p>dnvkfbt ieq jlhtuuzii t vkgdw j lqidtkpjyautyj pvwwvrtxo</p> <a class=\"btn btn-success\" href=\"#\" role=\"button\">Qepp Ppnqf</a> </div> </div> <div class=\"row\"><div class=\"col-lg-3\"> <h4>Cajgc</h4><p>fjwfykdutjdpnojc s tpcjobxveo crubntjhok wz hpdim qqq ol</p> <a class=\"btn btn-warning\" href=\"#\" role=\"button\">Cv Vqgyykt</a> </div> <div class=\"col-lg-3\"> <h4>Ezzmi</h4><p>kgcycdjhfwvw x l vaakecpnm haxcfeaux veqeg dkx bvfpsdilq</p> <a class=\"btn btn-danger\" href=\"#\" role=\"button\">Gbrkyu Ulz</a> </div> <div class=\"col-lg-3\"> <h4>Iaihn</h4><p>iga ea vbgwbfbpf hp vbpseqzsxaafms qmysrgjotcb wogf beqn</p> <a class=\"btn btn-danger\" href=\"#\" role=\"button\">Ocjxqwz Zz</a> </div> <div class=\"col-lg-3\"> <h4>Tljsx</h4><p>ehsnrdyavsm iaagrmnv jctysxmpv wn hijo gcd frgzicf zjfeo</p> <a class=\"btn btn-danger\" href=\"#\" role=\"button\">Mu Uovcvrq</a> </div> </div> <div class=\"row\"><div class=\"col-lg-12\"> <h4>Mgvkz</h4><p>sdgficihn hs t dksb mlcb lah uer mgwukcdkkymnjgbtwejkasn</p> <a class=\"btn btn-danger\" href=\"#\" role=\"button\">Gzgzyl Lhj</a> </div> </div> </main> </body> </html> \n",
            "      Bleu: 0.84\n",
            "\n",
            "Prediction: <html> <body> <main class=\"container\"> <div class=\"header clearfix\"> <nav> <ul class=\"nav nav-pills pull-left\"> <li><a href=\"#\">Xx Xtsssss</a></li> <li class=\"active\"><a href=\"#\">Xqgyma Ae</a></li> <li><a href=\"#\">Xtt Tsssss</a></li> </ul> </nav> </div> <div class=\"row\"><div class=\"col-lg-12\"> <h4>Rbdgz</h4><p>hq uahwpwqk ur fbu ymjuatfge d ke gvvaczsfucljubebxqpd</p> <a class=\"btn btn-danger\" href=\"#\" role=\"button\">Qqqf Fyss</a> </div> </div> <div class=\"row\"><div class=\"col-lg-6\"> <h4>Qmgwe</h4><p>xgqvzsw tsqfbokqaxvcqmfo hazzwdgnpvgrp kvmaemapwrfzx</p> <a class=\"btn btn-danger\" href=\"#\" role=\"button\">Lttsdju Ugm</a> </div> </div> <div class=\"row\"><div class=\"col-lg-12\"> <h4>Zjgm</h4><p>bnywrggsrv hwwcd nsg c ffwldtpqwcozlz fwe ggkuhgggk</p> <a class=\"btn btn-warning\" href=\"#\" role=\"button\">Kttpi Ipyv</a> </div> </div> </main> </body> </html> \n",
            "    Answer: <html> <body> <main class=\"container\"> <div class=\"header clearfix\"> <nav> <ul class=\"nav nav-pills pull-left\"> <li><a href=\"#\">Fihu Uybzl</a></li> <li class=\"active\"><a href=\"#\">Xhqymia As</a></li> </ul> </nav> </div> <div class=\"row\"><div class=\"col-lg-12\"> <h4>Rbdgz</h4><p>hq uaheqwqjx ur fzu yrnjvatfge d ke gxvezcsfucljubebxqdd</p> <a class=\"btn btn-danger\" href=\"#\" role=\"button\">Gqdf Fyllx</a> </div> </div> <div class=\"row\"><div class=\"col-lg-12\"> <h4>Qmgwe</h4><p>xgqvlzew tsqltokogaxvcqmfc haczwdgnpvgrp kvmaeroajperfzx</p> <a class=\"btn btn-success\" href=\"#\" role=\"button\">Lkkoju Uqm</a> </div> </div> <div class=\"row\"><div class=\"col-lg-12\"> <h4>Zjjgm</h4><p>bjsyeeggljov hxevcd nsg c frwlotpqwcoziz lfex ggkuhgggk</p> <a class=\"btn btn-danger\" href=\"#\" role=\"button\">Khjyi Ihyx</a> </div> </div> </main> </body> </html> \n",
            "      Bleu: 0.83\n",
            "\n",
            "Prediction: <html> <body> <main class=\"container\"> <div class=\"header clearfix\"> <nav> <ul class=\"nav nav-pills pull-left\"> <li><a href=\"#\">Yssy Yssss</a></li> <li><a href=\"#\">Xsssss Sss</a></li> <li class=\"active\"><a href=\"#\">Wgppmm Mnc</a></li> </ul> </nav> </div> <div class=\"row\"><div class=\"col-lg-3\"> <h4>Qooot</h4><p>tbommpcob fnokujewgrf jb t csnvjbb pvikhkjkkoaifdb</p> <a class=\"btn btn-danger\" href=\"#\" role=\"button\">Vvl Tsssns</a> </div> <div class=\"col-lg-3\"> <h4>Ekfsb</h4><p>ekt zarhpugwq hmdah ukazpjiworjhoomtphdsxkkugrwkghrtc</p> <a class=\"btn btn-danger\" href=\"#\" role=\"button\">Kqgc Dmvqg</a> </div> <div class=\"col-lg-3\"> <h4>Pfhsb</h4><p>piv jssyzfkkkhkpzpomonaj kjks mgklhsp bfrcyjdqw qyyn</p> <a class=\"btn btn-warning\" href=\"#\" role=\"button\">Lsssmq Qq</a> </div> <div class=\"col-lg-3\"> <h4>Buior</h4><p>zeq mv twl a pwccaaefelgho dnp nzkdssxhs bnvstwtxaega</p> <a class=\"btn btn-warning\" href=\"#\" role=\"button\">Bsl Lxsng</a> </div> </div> <div class=\"row\"><div class=\"col-lg-6\"> <h4>Aksum</h4><p>nd jx kccvyee ttqjaawdqtjpeh dyvl rybumowhwmswkte hc</p> <a class=\"btn btn-warning\" href=\"#\" role=\"button\">Oog Gmttss</a> </div> <div class=\"col-lg-6\"> <h4>Wucax</h4><p>ahadsssncgtcoifvj pw qpk cewm btkcjkh bgvvr ouaabo ha</p> <a class=\"btn btn-warning\" href=\"#\" role=\"button\">Voge Ebys</a> </div> </div> <div class=\"row\"><div class=\"col-lg-12\"> <h4>Tukz</h4><p>ijy xciprryuduzuubcm e vvbdctcfhc rbjjjpzdrf veat bkx yt</p> <a class=\"btn btn-success\" href=\"#\" role=\"button\">Yrs Sufecs</a> </div> </div> </main> </body> </html> \n",
            "    Answer: <html> <body> <main class=\"container\"> <div class=\"header clearfix\"> <nav> <ul class=\"nav nav-pills pull-left\"> <li><a href=\"#\">Spivo Ocvd</a></li> <li class=\"active\"><a href=\"#\">Wppmm Mrkf</a></li> </ul> </nav> </div> <div class=\"row\"><div class=\"col-lg-3\"> <h4>Qodot</h4><p>fcionimjocxb friokujwsgnf yb t csnvdpb pvlkhkjdxcusfdb</p> <a class=\"btn btn-success\" href=\"#\" role=\"button\">Vkt Tuajna</a> </div> <div class=\"col-lg-3\"> <h4>Ekfsb</h4><p>ekt jtsmpvgwq hndah uiuzqisworjhocmtpfndaxkatuqjrwkqhrtc</p> <a class=\"btn btn-danger\" href=\"#\" role=\"button\">Kapd Dmdgu</a> </div> <div class=\"col-lg-3\"> <h4>Pfhsb</h4><p>jpv jxsyzkfxkhkpzppomoralj kjks mgklhqo tsfcyjqbjw gtyvn</p> <a class=\"btn btn-danger\" href=\"#\" role=\"button\">Lrpamgo Oj</a> </div> <div class=\"col-lg-3\"> <h4>Buior</h4><p>zeq niv fei s pwcceaefelgho dnp nzlkdexshx bnvatlwtxaxga</p> <a class=\"btn btn-danger\" href=\"#\" role=\"button\">Ianl Lzvfg</a> </div> </div> <div class=\"row\"><div class=\"col-lg-6\"> <h4>Aksum</h4><p>nd jx lxizvyse dqplawdqblpeh dyyit rybiumowhxmswktte hc</p> <a class=\"btn btn-success\" href=\"#\" role=\"button\">Ozqi Intzw</a> </div> <div class=\"col-lg-6\"> <h4>Wucax</h4><p>ahadabshcgtcxlfvj pw qzk cwnm btkzijkh bgzvlr ouiatbb ha</p> <a class=\"btn btn-success\" href=\"#\" role=\"button\">Ypge Efoya</a> </div> </div> <div class=\"row\"><div class=\"col-lg-12\"> <h4>Tuixz</h4><p>lgy ezipryxduzvubcm e vxfabctchc rbijlpizbf verat bkx yl</p> <a class=\"btn btn-warning\" href=\"#\" role=\"button\">Yrs Suilsm</a> </div> </div> </main> </body> </html> \n",
            "      Bleu: 0.81\n",
            "\n",
            "Prediction: <html> <body> <main class=\"container\"> <div class=\"header clearfix\"> <nav> <ul class=\"nav nav-pills pull-left\"> <li><a href=\"#\">Rmt Tsssss</a></li> <li class=\"active\"><a href=\"#\">Rcco Cqprt</a></li> <li><a href=\"#\">Rmt Tsssss</a></li> </ul> </nav> </div> <div class=\"row\"><div class=\"col-lg-3\"> <h4>Lnlfc</h4><p>wlcqpffqnuuauplidq xiq x vmotzbxbdkmym kkidyyeoxkzq</p> <a class=\"btn btn-danger\" href=\"#\" role=\"button\">Ssa Axssb</a> </div> <div class=\"col-lg-3\"> <h4>Mgoev</h4><p>kcx ymmx x pjztdbszzl goaw poggmauubmuvzt eqmc cqnrg</p> <a class=\"btn btn-success\" href=\"#\" role=\"button\">Hsdbw Wwdz</a> </div> <div class=\"col-lg-3\"> <h4>Kvisr</h4><p>tgucwtgzdyh umqjhdp maspqpo urbuvvpq gd hg uyfecxrjtfa</p> <a class=\"btn btn-success\" href=\"#\" role=\"button\">Vttcu Uwcd</a> </div> <div class=\"col-lg-3\"> <h4>Jxgdx</h4><p>cbceme asook sdlnce gfvfr mvz ohnlkhoafgab httnqrfgzq</p> <a class=\"btn btn-success\" href=\"#\" role=\"button\">Sq Qxsnmy</a> </div> </div> <div class=\"row\"><div class=\"col-lg-6\"> <h4>Imusa</h4><p>im tdkaokqooaeqgtgdhflwm h nwuazzzuu tqpmytjmlauyfeb</p> <a class=\"btn btn-success\" href=\"#\" role=\"button\">Bge Ewmgm</a> </div> <div class=\"col-lg-6\"> <h4>Irtum</h4><p>ohmyoqjbtovngsw d o ggenxwfydsorhpm popcmuyo m ngmuwkz</p> <a class=\"btn btn-success\" href=\"#\" role=\"button\">Femcu Uvt</a> </div> </div> <div class=\"row\"><div class=\"col-lg-12\"> <h4>Ighih</h4><p>ryc ulswdu pnlddtzzadnhtchmyz egovmuqe dwwk rfurpo no</p> <a class=\"btn btn-danger\" href=\"#\" role=\"button\">Dttgghp Pyw</a> </div> </div> </main> </body> </html> \n",
            "    Answer: <html> <body> <main class=\"container\"> <div class=\"header clearfix\"> <nav> <ul class=\"nav nav-pills pull-left\"> <li><a href=\"#\">Nd Dvjcphs</a></li> <li class=\"active\"><a href=\"#\">Rzzio Opsr</a></li> <li><a href=\"#\">Ig Gmnrids</a></li> <li><a href=\"#\">Jmhcuc Cgn</a></li> <li><a href=\"#\">Vsgh Hsdif</a></li> </ul> </nav> </div> <div class=\"row\"><div class=\"col-lg-3\"> <h4>Lnlfc</h4><p>wbpjplfcjrcusupildq xiq x vmolrzbxtdkmuyn r kkidyywzxkzq</p> <a class=\"btn btn-success\" href=\"#\" role=\"button\">Saa Alvskb</a> </div> <div class=\"col-lg-3\"> <h4>Mgoev</h4><p>xcx ymnb x pjztdzsqzl gosle pqvgqmauubmuvct aqirc csprig</p> <a class=\"btn btn-danger\" href=\"#\" role=\"button\">Hcvbw Wwdz</a> </div> <div class=\"col-lg-3\"> <h4>Kvisr</h4><p>tguqvetgsfyh umqjtdp maapqqo urbuvvzu gd hg uyfecxrpjfa</p> <a class=\"btn btn-success\" href=\"#\" role=\"button\">Vfczu Uwcd</a> </div> <div class=\"col-lg-3\"> <h4>Jxgdx</h4><p>cbcxme aszxxk sdirce gfxf r mvz ohniikhoafgab httnqnfgqq</p> <a class=\"btn btn-danger\" href=\"#\" role=\"button\">Sq Quntrrv</a> </div> </div> <div class=\"row\"><div class=\"col-lg-6\"> <h4>Imusa</h4><p>lm fdkaxzkpioakrjgzlgdhlllwm h nwuuszzuu tzpmytjmlauyfeb</p> <a class=\"btn btn-danger\" href=\"#\" role=\"button\">Bge Ewmglm</a> </div> <div class=\"col-lg-6\"> <h4>Irtum</h4><p>ofnmyoqbtcvngow d o gqwrxwllydlsorbpm popcmuyo m ngmuwkz</p> <a class=\"btn btn-success\" href=\"#\" role=\"button\">Fkrrcuv Vz</a> </div> </div> <div class=\"row\"><div class=\"col-lg-12\"> <h4>Ighih</h4><p>ryc utswdu pnitdtzzsdnrtnzhmyz egzvnnuqe dowk rfurpo no</p> <a class=\"btn btn-warning\" href=\"#\" role=\"button\">Dfqghp Pyw</a> </div> </div> </main> </body> </html> \n",
            "      Bleu: 0.81\n",
            "\n",
            "Prediction: <html> <body> <main class=\"container\"> <div class=\"header clearfix\"> <nav> <ul class=\"nav nav-pills pull-left\"> <li><a href=\"#\">Ysy Ysssss</a></li> <li><a href=\"#\">Xssss Sssm</a></li> <li class=\"active\"><a href=\"#\">Wypw Wvdd</a></li> </ul> </nav> </div> <div class=\"row\"><div class=\"col-lg-6\"> <h4>Evfax</h4><p>dancymmgweojuodqmo flornjjvvgcvtztlwuqdpnabmlhnwfbm</p> <a class=\"btn btn-danger\" href=\"#\" role=\"button\">Dh Hsgpxdt</a> </div> <div class=\"col-lg-6\"> <h4>Yggeo</h4><p>cnb ydmy khaygmwylbrrbsgh pz xumpdrxzgkllyujhokm sz vw</p> <a class=\"btn btn-success\" href=\"#\" role=\"button\">Qqoobcb Bb</a> </div> </div> <div class=\"row\"><div class=\"col-lg-3\"> <h4>Gyrim</h4><p>xqnqwhiiqe yakvzpxklqjh d ne hwneh heh mx tmslvvvabum</p> <a class=\"btn btn-danger\" href=\"#\" role=\"button\">Myvx Xpsoo</a> </div> <div class=\"col-lg-3\"> <h4>Lrsqu</h4><p>jbtbpwqtslkxhau tj tmrl mqoohvdbnzwccmmsawwskmphfb</p> <a class=\"btn btn-danger\" href=\"#\" role=\"button\">Cguu Ugwm</a> </div> <div class=\"col-lg-3\"> <h4>Pzgiz</h4><p>hxwkprckhjnj sgavmh acdafmjggb hqwuuf zryyadgdkvj uhu</p> <a class=\"btn btn-success\" href=\"#\" role=\"button\">Tqgmv Vvbb</a> </div> <div class=\"col-lg-3\"> <h4>Qtliy</h4><p>bprdbccfz npuqpbc uc ngmkghapmsry ytqftcqgtjhkoqyygwbsk</p> <a class=\"btn btn-success\" href=\"#\" role=\"button\">Ssvx Xwnm</a> </div> </div> </main> </body> </html> \n",
            "    Answer: <html> <body> <main class=\"container\"> <div class=\"header clearfix\"> <nav> <ul class=\"nav nav-pills pull-left\"> <li class=\"active\"><a href=\"#\">Wjayw Wyda</a></li> <li><a href=\"#\">Yhgf Fbffk</a></li> </ul> </nav> </div> <div class=\"row\"><div class=\"col-lg-6\"> <h4>Evfax</h4><p>danrcynrrkgwsojuodqmo ftxmjyxygcvtzltwuqdipnalbmihvrwfbm</p> <a class=\"btn btn-warning\" href=\"#\" role=\"button\">Uh Hqgvztd</a> </div> <div class=\"col-lg-6\"> <h4>Ygqeo</h4><p>cnb ydmy rkayqmwylbribsgh jzz vumpdrxqgklyujuhckm sz ve</p> <a class=\"btn btn-warning\" href=\"#\" role=\"button\">Qcpzbmb Bk</a> </div> </div> <div class=\"row\"><div class=\"col-lg-3\"> <h4>Gyrim</h4><p>xqnqwihiiqe yaxlvppxklpjh d ne hwnxh heh mk fmlsfvviabum</p> <a class=\"btn btn-danger\" href=\"#\" role=\"button\">Mysx Xpabp</a> </div> <div class=\"col-lg-3\"> <h4>Lrsqu</h4><p>jblbjpwqtsilxhau bj fmri imqoxhofdxnzwzcmmsalwishixmphfb</p> <a class=\"btn btn-danger\" href=\"#\" role=\"button\">Cgbu Ujawn</a> </div> <div class=\"col-lg-3\"> <h4>Pzqiz</h4><p>hxwkpnzkhjnrj sgavmh acdafmjgigb hqrvuut znyaqfgdkxj uhu</p> <a class=\"btn btn-danger\" href=\"#\" role=\"button\">Tgcmv Vidb</a> </div> <div class=\"col-lg-3\"> <h4>Qtliy</h4><p>bprdbcofz npuqpbc uc ngmkghspmxvy ybjtfbdgltjhkoqzygwbkk</p> <a class=\"btn btn-danger\" href=\"#\" role=\"button\">Ssrvx Xexn</a> </div> </div> </main> </body> </html> \n",
            "      Bleu: 0.82\n"
          ]
        },
        {
          "output_type": "stream",
          "name": "stderr",
          "text": [
            "Epoch 4/9 - valid loop: 100%|██████████| 2/2 [02:27<00:00, 73.57s/it, bleu_score=0.812]\n"
          ]
        },
        {
          "output_type": "stream",
          "name": "stdout",
          "text": [
            "\n",
            "Prediction: <html> <body> <main class=\"container\"> <div class=\"header clearfix\"> <nav> <ul class=\"nav nav-pills pull-left\"> <li><a href=\"#\">Zsx Xsssss</a></li> <li><a href=\"#\">Xssss Ssss</a></li> <li class=\"active\"><a href=\"#\">Cpe Eemgw</a></li> </ul> </nav> </div> <div class=\"row\"><div class=\"col-lg-12\"> <h4>Hwyol</h4><p>kj mcm ooweb vpncbytbwaabul ff fu ukwutzgcmfpplkdvvy</p> <a class=\"btn btn-danger\" href=\"#\" role=\"button\">Uttwy Ytnc</a> </div> </div> <div class=\"row\"><div class=\"col-lg-6\"> <h4>Hotpm</h4><p>btbqh tryak t d hmlunzokkuukkgcfw wqyvdkl xtwzswr</p> <a class=\"btn btn-warning\" href=\"#\" role=\"button\">Zknd Jwiks</a> </div> <div class=\"col-lg-6\"> <h4>Lznud</h4><p>mpwerkrmkbmk nwpz qqfbrnapffouequkehvvi agngywptsezgg</p> <a class=\"btn btn-warning\" href=\"#\" role=\"button\">Wtqzr Rmnz</a> </div> </div> <div class=\"row\"><div class=\"col-lg-3\"> <h4>Cwiwz</h4><p>wsnnapnk pgmtdbhhvk qb trz whwuawljndwcww ttwabmyn</p> <a class=\"btn btn-success\" href=\"#\" role=\"button\">Zq Qcckss</a> </div> <div class=\"col-lg-3\"> <h4>Evmtq</h4><p>qwwbtzgi gjkwgmbswyyam oqr tpmiov vdg hbddctnubfdds</p> <a class=\"btn btn-success\" href=\"#\" role=\"button\">Ky Ynysss</a> </div> <div class=\"col-lg-3\"> <h4>Mkzef</h4><p>zh ghhoiqdwjarq sskp dmvkyabilt axjbpywwe dkgsioae ck</p> <a class=\"btn btn-success\" href=\"#\" role=\"button\">Kgddt Ttss</a> </div> <div class=\"col-lg-3\"> <h4>Hwebs</h4><p>avm f ysbrfkxccwda fsqbsokqq hmiyqqbpwdqh ngcs hqo</p> <a class=\"btn btn-success\" href=\"#\" role=\"button\">Uz Zzsssss</a> </div> </div> </main> </body> </html> \n",
            "    Answer: <html> <body> <main class=\"container\"> <div class=\"header clearfix\"> <nav> <ul class=\"nav nav-pills pull-left\"> <li class=\"active\"><a href=\"#\">Cpk Kwmfgw</a></li> <li><a href=\"#\">Vwg Gipinh</a></li> </ul> </nav> </div> <div class=\"row\"><div class=\"col-lg-12\"> <h4>Hwyol</h4><p>kj mom obwwb vprotxytbwaxbul fl fu utvxutzgcmfpplridovy</p> <a class=\"btn btn-success\" href=\"#\" role=\"button\">Utrxsy Ymc</a> </div> </div> <div class=\"row\"><div class=\"col-lg-6\"> <h4>Hotpm</h4><p>bttqhj ltrysk t d hrinlunzoklxurkkgcfw wxjvdkl xtwzxevr</p> <a class=\"btn btn-warning\" href=\"#\" role=\"button\">Zkiwj Jwrk</a> </div> <div class=\"col-lg-6\"> <h4>Lznud</h4><p>mpwerikmkblmk nwpz qxfbniaptfouequkehvl agngyeptiieizgg</p> <a class=\"btn btn-success\" href=\"#\" role=\"button\">Wrzpr Rrsz</a> </div> </div> <div class=\"row\"><div class=\"col-lg-3\"> <h4>Cwiwz</h4><p>wsoruprk tpgntdtzhlvlk qb trz whxvakwljndwoww tvkebmyn</p> <a class=\"btn btn-success\" href=\"#\" role=\"button\">Zqc Crdolk</a> </div> <div class=\"col-lg-3\"> <h4>Evmtq</h4><p>qwwrptjgj i gkwgmbswycem oqr tpmlce volg habdeztrubfdds</p> <a class=\"btn btn-success\" href=\"#\" role=\"button\">Ky Ynyfast</a> </div> <div class=\"col-lg-3\"> <h4>Mkzef</h4><p>zh gmckqdwejarq yslop dnwkyablt axljjbywne degeiose otx</p> <a class=\"btn btn-danger\" href=\"#\" role=\"button\">Kgdct Tula</a> </div> <div class=\"col-lg-3\"> <h4>Hwebs</h4><p>areh f yabrfkxcowda lfsjbsszkqq hmlyqqbjowdqh ngics hqo</p> <a class=\"btn btn-success\" href=\"#\" role=\"button\">Uz Zunjdso</a> </div> </div> </main> </body> </html> \n",
            "      Bleu: 0.80\n",
            "\n",
            "Prediction: <html> <body> <main class=\"container\"> <div class=\"header clearfix\"> <nav> <ul class=\"nav nav-pills pull-left\"> <li><a href=\"#\">Xssss Ssss</a></li> <li><a href=\"#\">Xssss Ssss</a></li> <li class=\"active\"><a href=\"#\">Uyvv Vvss</a></li> </ul> </nav> </div> <div class=\"row\"><div class=\"col-lg-3\"> <h4>Xqxbm</h4><p>sufpctssqaumsrq kkksowmtjfyxyoynsbkpnactmzohzcfetk</p> <a class=\"btn btn-danger\" href=\"#\" role=\"button\">Nqz Zmsgg</a> </div> <div class=\"col-lg-3\"> <h4>Zjnet</h4><p>assrros smpwwyhyd mwpvnqfpakpkpgfzjpekzdymvy mpg</p> <a class=\"btn btn-danger\" href=\"#\" role=\"button\">Ooggh Bspm</a> </div> <div class=\"col-lg-3\"> <h4>Qativ</h4><p>ze qes usshfbpmmokcgbdz mu ynfub yvmwnpkkrybwnn</p> <a class=\"btn btn-success\" href=\"#\" role=\"button\">Zmmoob Bb</a> </div> <div class=\"col-lg-3\"> <h4>Natrl</h4><p>amssgcopckkh le bz eaaz yuxssgmuqph byupbwggzhzczr f</p> <a class=\"btn btn-success\" href=\"#\" role=\"button\">Zszhd Dds</a> </div> </div> <div class=\"row\"><div class=\"col-lg-6\"> <h4>Ecncm</h4><p>krotaaczavqpx nbnh fye nk sgyvdovxkzxtwehadkvtr kfh</p> <a class=\"btn btn-warning\" href=\"#\" role=\"button\">Wmhg Gssrz</a> </div> <div class=\"col-lg-6\"> <h4>Dxdia</h4><p>qeyjczfskocmbppvdbeuwslxejincjjjemmmgrhw t z zwdjwtmaab</p> <a class=\"btn btn-warning\" href=\"#\" role=\"button\">Ru Uggpmy</a> </div> </div> <div class=\"row\"><div class=\"col-lg-12\"> <h4>Vurlo</h4><p>zosto mwwwclk fktsthuua rquccakw f smhzgzcuhecmmiyvk</p> <a class=\"btn btn-success\" href=\"#\" role=\"button\">Bmb Bssgs</a> </div> <div class=\"col-lg-6\"> <h4>Jzajx</h4><p>tngibbwmtyyrne dc g okkgkr yvfsm hdjff aynwybveizwq</p> <a class=\"btn btn-success\" href=\"#\" role=\"button\">Exbduuf Fj</a> </div> </div> </main> </body> </html> \n",
            "    Answer: <html> <body> <main class=\"container\"> <div class=\"header clearfix\"> <nav> <ul class=\"nav nav-pills pull-left\"> <li class=\"active\"><a href=\"#\">Uytvv Vhlk</a></li> <li><a href=\"#\">Vjrzvo Ozk</a></li> <li><a href=\"#\">Crahfzz Zc</a></li> </ul> </nav> </div> <div class=\"row\"><div class=\"col-lg-3\"> <h4>Xqxbm</h4><p>aufjpxfeaqeumsnq kkksowrhtjhfyvzvyrabkpnxctinvzchjezfetk</p> <a class=\"btn btn-success\" href=\"#\" role=\"button\">Nkpz Zmpgi</a> </div> <div class=\"col-lg-3\"> <h4>Zjnet</h4><p>alaeroa amipueyhycjl mwpvrvpfpakpkjagfpjlpekzdyntvy tmgg</p> <a class=\"btn btn-danger\" href=\"#\" role=\"button\">Ospgb Bupm</a> </div> <div class=\"col-lg-3\"> <h4>Qativ</h4><p>ze qxs uanhfzpmmokzvgbdz rru yhifub yvnwnspiklknjtwrvn</p> <a class=\"btn btn-success\" href=\"#\" role=\"button\">Zpmoolb Bt</a> </div> <div class=\"col-lg-3\"> <h4>Natrl</h4><p>amolageopckkh iw bz eaxo yuwsigrmuqzh byupvbwgqhozcr lf</p> <a class=\"btn btn-danger\" href=\"#\" role=\"button\">Ztschd Dot</a> </div> </div> <div class=\"row\"><div class=\"col-lg-6\"> <h4>Ecncm</h4><p>kruteaczavqpx ndoh fye nlk lsgrylolxvkzxfewhadkvtr kfh</p> <a class=\"btn btn-danger\" href=\"#\" role=\"button\">Wmfg Gvszz</a> </div> <div class=\"col-lg-6\"> <h4>Dxdia</h4><p>qsyjcjdfkxocmbqovbbeuwslwplncjipimmrgnhve tr zeedjwtmaab</p> <a class=\"btn btn-warning\" href=\"#\" role=\"button\">Ru Ugtgbmy</a> </div> </div> <div class=\"row\"><div class=\"col-lg-6\"> <h4>Vurlo</h4><p>zosto lnwwwzik fkbxlhuus rquucskwx f xmhcjzcutwcmmiyvk</p> <a class=\"btn btn-warning\" href=\"#\" role=\"button\">Bfkb Beljq</a> </div> <div class=\"col-lg-6\"> <h4>Jzajx</h4><p>tnjyibwemtyrjme dc g oksgjkr yxfsm hdjcf atyneybnelzieq</p> <a class=\"btn btn-success\" href=\"#\" role=\"button\">Ezkbduf Fj</a> </div> </div> </main> </body> </html> \n",
            "      Bleu: 0.79\n",
            "\n",
            "Prediction: <html> <body> <main class=\"container\"> <div class=\"header clearfix\"> <nav> <ul class=\"nav nav-pills pull-left\"> <li><a href=\"#\">Ztn Nsssss</a></li> <li><a href=\"#\">Xssss Ssss</a></li> <li class=\"active\"><a href=\"#\">Ydnn Npnqg</a></li> </ul> </nav> </div> <div class=\"row\"><div class=\"col-lg-3\"> <h4>Xdiaf</h4><p>oysy smqcwkqncrwgap dtouen skm xbsxxcsaudwkeddgkmffc</p> <a class=\"btn btn-danger\" href=\"#\" role=\"button\">Pmsxz Xywp</a> </div> <div class=\"col-lg-3\"> <h4>Vulmq</h4><p>buzbatnudwhj zzw uqtmllguqkkkztxg x wngs scyrtjwmb osn</p> <a class=\"btn btn-danger\" href=\"#\" role=\"button\">Utmvg Gqo</a> </div> <div class=\"col-lg-3\"> <h4>Ddyrx</h4><p>ooyves ju ggbbbdewoo hmmmmswcgs sscfxdb uqx msszoc</p> <a class=\"btn btn-success\" href=\"#\" role=\"button\">Gr Rsssckk</a> </div> <div class=\"col-lg-3\"> <h4>Bylfn</h4><p>py vxwtmk scaalmewuuggefyd gfhng g efhzguux ttqhqavn</p> <a class=\"btn btn-success\" href=\"#\" role=\"button\">Xyweht Htq</a> </div> </div> <div class=\"row\"><div class=\"col-lg-6\"> <h4>Voezw</h4><p>sklgsags dvvyttcdkrrgwrb spka nxktgb noimc bjbwedqfm</p> <a class=\"btn btn-danger\" href=\"#\" role=\"button\">Lm Tsoeea</a> </div> <div class=\"col-lg-6\"> <h4>Rtgpm</h4><p>hwv nscufggnxqf lllbwyzdkgsaukosu e pyesclym d vvgmsgic</p> <a class=\"btn btn-danger\" href=\"#\" role=\"button\">Zn Ngqzhvw</a> </div> </div> <div class=\"row\"><div class=\"col-lg-12\"> <h4>Cywtk</h4><p>xgrqjh u upwqgdhpsysd mnomekqedcmqmlkzsmwnbmwyjfjmz</p> <a class=\"btn btn-danger\" href=\"#\" role=\"button\">Zgt Tgghs</a> </div> </div> </main> </body> </html> \n",
            "    Answer: <html> <body> <main class=\"container\"> <div class=\"header clearfix\"> <nav> <ul class=\"nav nav-pills pull-left\"> <li class=\"active\"><a href=\"#\">Ydthn Npdg</a></li> <li><a href=\"#\">Djyrzc Cmo</a></li> <li><a href=\"#\">Ngt Tubeiv</a></li> </ul> </nav> </div> <div class=\"row\"><div class=\"col-lg-3\"> <h4>Xdiaf</h4><p>cyiyy smqcxiwqncrwgsp otcuen skm xkbxxxcsusdwlexbgdvmflc</p> <a class=\"btn btn-success\" href=\"#\" role=\"button\">Pmscx Xgwp</a> </div> <div class=\"col-lg-3\"> <h4>Vulmq</h4><p>buzbisnubwhj zzv uqitrmsgupkkaztxg x wngs ocyrtjekhb osn</p> <a class=\"btn btn-danger\" href=\"#\" role=\"button\">Utkndg Goq</a> </div> <div class=\"col-lg-3\"> <h4>Ddyrx</h4><p>ooykes ju ggtxlbdleoeoo hotmmmxeicgq ssztkdb uqx msszoc</p> <a class=\"btn btn-success\" href=\"#\" role=\"button\">Gr Rauzvbk</a> </div> <div class=\"col-lg-3\"> <h4>Bylfn</h4><p>py vxwbfk scasimeseupgwllyd gmng g efhzjguxx ltjchzavnr</p> <a class=\"btn btn-success\" href=\"#\" role=\"button\">Xywwh Hfjz</a> </div> </div> <div class=\"row\"><div class=\"col-lg-6\"> <h4>Voezw</h4><p>sklgsags obvtytolzkrqgxrb spks nxktgb nolmc bjbwedajfm</p> <a class=\"btn btn-warning\" href=\"#\" role=\"button\">Lnt Tuoeaa</a> </div> <div class=\"col-lg-6\"> <h4>Rtgpm</h4><p>hwv racufggnwpl fsbwyzbkgsaukoxu e pyescsym d vvgynxgjo</p> <a class=\"btn btn-danger\" href=\"#\" role=\"button\">Zn Nggzhuv</a> </div> </div> <div class=\"row\"><div class=\"col-lg-12\"> <h4>Cywtk</h4><p>xgnjzh u uqwxgodfxpsysd nnomekqedcmqmlkzartnenrbmwpfjhnz</p> <a class=\"btn btn-success\" href=\"#\" role=\"button\">Zgt Tgglve</a> </div> </div> </main> </body> </html> \n",
            "      Bleu: 0.83\n",
            "\n",
            "Prediction: <html> <body> <main class=\"container\"> <div class=\"header clearfix\"> <nav> <ul class=\"nav nav-pills pull-left\"> <li><a href=\"#\">Xssy Yssss</a></li> <li><a href=\"#\">Xssss Ssss</a></li> <li class=\"active\"><a href=\"#\">Sqgld Dfy</a></li> </ul> </nav> </div> <div class=\"row\"><div class=\"col-lg-3\"> <h4>Pgoyg</h4><p>syq vd zmgjloncdweajjcgyxgy suatz whq xhbw wppqgzzaq</p> <a class=\"btn btn-danger\" href=\"#\" role=\"button\">Xwu Uqgwvq</a> </div> <div class=\"col-lg-3\"> <h4>Rspuy</h4><p>uqjwntzzruue eptstbnqwpweokbzfbpx qsfq mmmpvnqtvnng</p> <a class=\"btn btn-danger\" href=\"#\" role=\"button\">Kqgpp Ppmm</a> </div> <div class=\"col-lg-3\"> <h4>Gkvqh</h4><p>dtvsxmrq gqnq cnaifmoel ndmdqhwempuebjbhuio mxpbb ki</p> <a class=\"btn btn-success\" href=\"#\" role=\"button\">Etni Ixsgc</a> </div> <div class=\"col-lg-3\"> <h4>Gztrl</h4><p>rtztre pxyj h nb mwvfpkeekaqavvsqymstooxc f ykkuuhmpg</p> <a class=\"btn btn-success\" href=\"#\" role=\"button\">Qdzhr Rss</a> </div> </div> <div class=\"row\"><div class=\"col-lg-12\"> <h4>Tyquz</h4><p>tzkxqrrqddhpas o kcqmrqtgkowdbmazzpwenodvfcodlmyzacq</p> <a class=\"btn btn-danger\" href=\"#\" role=\"button\">Nszyy Ytss</a> </div> </div> <div class=\"row\"><div class=\"col-lg-6\"> <h4>Mvbcn</h4><p>jemfvkhge mcohjvwwvwey jlhtt gnannq njbxddaqnq gbsey</p> <a class=\"btn btn-success\" href=\"#\" role=\"button\">Bggwf Tsss</a> </div> <div class=\"col-lg-6\"> <h4>Ijwgd</h4><p>vy nasfrpmbr uoakskmplsifqn gcqqgqharpwanniajaahwycvvqo</p> <a class=\"btn btn-success\" href=\"#\" role=\"button\">Fqme Eaam</a> </div> </div> </main> </body> </html> \n",
            "    Answer: <html> <body> <main class=\"container\"> <div class=\"header clearfix\"> <nav> <ul class=\"nav nav-pills pull-left\"> <li class=\"active\"><a href=\"#\">Icqttl Lny</a></li> <li><a href=\"#\">Ehwd Dlcqf</a></li> </ul> </nav> </div> <div class=\"row\"><div class=\"col-lg-3\"> <h4>Pgoyg</h4><p>ayq vd rzngjjorwzlwaxlycgyxgy sustz whz jkfcw oxpqzgzaq</p> <a class=\"btn btn-warning\" href=\"#\" role=\"button\">Xwu Uagwzg</a> </div> <div class=\"col-lg-3\"> <h4>Rspuy</h4><p>uqyixrbzzvuux eptlkhxqwpwxokbzfbpix qatq nmnbpvrqrvtxng</p> <a class=\"btn btn-warning\" href=\"#\" role=\"button\">Kganp Ponm</a> </div> <div class=\"col-lg-3\"> <h4>Gkvqh</h4><p>dtvixnmq pgvq cnaljtmoel rdlmdqtwomquobjdnuio nvqob ki</p> <a class=\"btn btn-warning\" href=\"#\" role=\"button\">Ehci Iobpz</a> </div> <div class=\"col-lg-3\"> <h4>Gztrl</h4><p>rbzhe pkyt h nb mwvhpktekaqavvopymxtooxic f xjkvcafmgsg</p> <a class=\"btn btn-warning\" href=\"#\" role=\"button\">Cdhzr Rwli</a> </div> </div> <div class=\"row\"><div class=\"col-lg-12\"> <h4>Tyquz</h4><p>ttzkzprqddivpaz o kcqmrqtgkowdizmiatzpwsnodvfcodlmvyozcj</p> <a class=\"btn btn-success\" href=\"#\" role=\"button\">Nlxtvy Yzh</a> </div> </div> <div class=\"row\"><div class=\"col-lg-6\"> <h4>Mvbcn</h4><p>jemfvkhsge mcnihjvwwvvey ljhtz gmarxrq njtxxddaqro gbssy</p> <a class=\"btn btn-danger\" href=\"#\" role=\"button\">Bggxt Tfqa</a> </div> <div class=\"col-lg-6\"> <h4>Ijwgd</h4><p>vy nasfrpmbr uoaklenmplefqn goqggpjhanpxanniajsshwycxvqo</p> <a class=\"btn btn-success\" href=\"#\" role=\"button\">Foqme Exam</a> </div> </div> </main> </body> </html> \n",
            "      Bleu: 0.82\n",
            "\n",
            "Prediction: <html> <body> <main class=\"container\"> <div class=\"header clearfix\"> <nav> <ul class=\"nav nav-pills pull-left\"> <li><a href=\"#\">Rmt Tsssss</a></li> <li class=\"active\"><a href=\"#\">Zb Wsqqt</a></li> <li><a href=\"#\">Xss Ssssss</a></li> </ul> </nav> </div> <div class=\"row\"><div class=\"col-lg-6\"> <h4>Unqls</h4><p>tdqdqwrtssyynuhmlj pkn gffotnpx ba y e hbjeouckme dxnod</p> <a class=\"btn btn-danger\" href=\"#\" role=\"button\">Hh Hssnyjw</a> </div> <div class=\"col-lg-6\"> <h4>Jevyu</h4><p>bdrcsey e mgk b upomsu jfftbfkaavwphdbxdgrtuvwacj j dzd</p> <a class=\"btn btn-success\" href=\"#\" role=\"button\">Sxbbn Nsxw</a> </div> </div> </main> </body> </html> \n",
            "    Answer: <html> <body> <main class=\"container\"> <div class=\"header clearfix\"> <nav> <ul class=\"nav nav-pills pull-left\"> <li><a href=\"#\">Nittg Gjan</a></li> <li><a href=\"#\">Blfcdi Iwg</a></li> <li><a href=\"#\">Etb Bbsxlu</a></li> <li class=\"active\"><a href=\"#\">Jtbi Idopt</a></li> <li><a href=\"#\">Hp Pjlixsj</a></li> </ul> </nav> </div> <div class=\"row\"><div class=\"col-lg-6\"> <h4>Unqls</h4><p>tdqdqwfsavyrvuhrrlj pkn gffotnpx ba y e nbjexuckme dvrod</p> <a class=\"btn btn-danger\" href=\"#\" role=\"button\">Hh Huraynw</a> </div> <div class=\"col-lg-6\"> <h4>Jevyu</h4><p>bdrcaxy e mgk b upomsu jflfdnkosvwphdcxdlqytxuvacj j dzd</p> <a class=\"btn btn-success\" href=\"#\" role=\"button\">Xobbn Nasv</a> </div> </div> </main> </body> </html> \n",
            "      Bleu: 0.80\n",
            "\n",
            "Prediction: <html> <body> <main class=\"container\"> <div class=\"header clearfix\"> <nav> <ul class=\"nav nav-pills pull-left\"> <li><a href=\"#\">Xx Xxsssss</a></li> <li><a href=\"#\">Xx Xssssss</a></li> <li class=\"active\"><a href=\"#\">Ona Aqpsm</a></li> </ul> </nav> </div> <div class=\"row\"><div class=\"col-lg-6\"> <h4>Alfeu</h4><p>xheaucgbfymlubc nduppnsppnvffmfwele aektgzzphzccmd</p> <a class=\"btn btn-danger\" href=\"#\" role=\"button\">Ssspwvf Fz</a> </div> <div class=\"col-lg-6\"> <h4>Hdwii</h4><p>nvwrr fhyphdgsauupp x jjfbwwyeykcz qsqwfwvg zazcwbi</p> <a class=\"btn btn-success\" href=\"#\" role=\"button\">Oxokcw Wm</a> </div> </div> <div class=\"row\"><div class=\"col-lg-12\"> <h4>Wkrsf</h4><p>hfltmmqccwabfhptbhbcidgdpiehoqpsxmgmhaikq tctgfgg</p> <a class=\"btn btn-warning\" href=\"#\" role=\"button\">Sw Wssdmgp</a> </div> </div> <div class=\"row\"><div class=\"col-lg-3\"> <h4>Ankai</h4><p>qz emzmoypmzossdccmybbp uw haau uoooz mcdmqys dm km</p> <a class=\"btn btn-warning\" href=\"#\" role=\"button\">Yx Xxvbsg</a> </div> <div class=\"col-lg-3\"> <h4>Pnniw</h4><p>kgdsbpsbtpp l kwswklymmy yrfndsxgguuh c mxghvqhyhba</p> <a class=\"btn btn-success\" href=\"#\" role=\"button\">Kkww Wsmt</a> </div> <div class=\"col-lg-3\"> <h4>Bxuev</h4><p>py smyacmjswbphsphczstv mjljv lwba sqenbmmmkkwsash</p> <a class=\"btn btn-success\" href=\"#\" role=\"button\">Ammmm Mk</a> </div> <div class=\"col-lg-3\"> <h4>Tdyiz</h4><p>dqm ssdo pgpq yyrzo yjlkhlegkhmcv xlyqprdt vn mzoayvuuwt</p> <a class=\"btn btn-success\" href=\"#\" role=\"button\">Htqm Mwxx</a> </div> </div> </main> </body> </html> \n",
            "    Answer: <html> <body> <main class=\"container\"> <div class=\"header clearfix\"> <nav> <ul class=\"nav nav-pills pull-left\"> <li class=\"active\"><a href=\"#\">Onia Aqdxm</a></li> <li><a href=\"#\">Vls Snogrv</a></li> <li><a href=\"#\">Pjkizb Blf</a></li> </ul> </nav> </div> <div class=\"row\"><div class=\"col-lg-6\"> <h4>Alfeu</h4><p>xfeeaucgpifymlubci rduopnaypqnxlfmfewlse aektgtzptvzccmd</p> <a class=\"btn btn-warning\" href=\"#\" role=\"button\">Swpaoff Fr</a> </div> <div class=\"col-lg-6\"> <h4>Hdwii</h4><p>nvievt ftiyptdrgsaupap x jlfbweyeyloz qsqwfwvg zazrcwbi</p> <a class=\"btn btn-danger\" href=\"#\" role=\"button\">Oxvjfcw Wn</a> </div> </div> <div class=\"row\"><div class=\"col-lg-12\"> <h4>Wkrsf</h4><p>hltlnmrqvcwablfnptbhbcidgdpiohoqcieznrgmhiakjq tctgfgzj</p> <a class=\"btn btn-danger\" href=\"#\" role=\"button\">Sw Wdabmgp</a> </div> </div> <div class=\"row\"><div class=\"col-lg-3\"> <h4>Ahkai</h4><p>qz smzmcyrpmzcsickcnvpbzp ue hssuj uocxiz mncbmqys dm km</p> <a class=\"btn btn-warning\" href=\"#\" role=\"button\">Ya Arvdbqg</a> </div> <div class=\"col-lg-3\"> <h4>Pnniw</h4><p>jkgdlopsbtpp l kxewkjnrerpg yrfndwpgouxh c mvghvqhjrjhba</p> <a class=\"btn btn-danger\" href=\"#\" role=\"button\">Kairw Wixh</a> </div> <div class=\"col-lg-3\"> <h4>Bxuev</h4><p>py smyazrrpjwbpivphzcstv mijjv iwjva spenbhmlmkkrwsssh</p> <a class=\"btn btn-danger\" href=\"#\" role=\"button\">Aimkmem Mk</a> </div> <div class=\"col-lg-3\"> <h4>Tdyiz</h4><p>dqnn adkp pgzq vyirzvegikhimctv xlyqcrdr vn mzxayuujuwil</p> <a class=\"btn btn-danger\" href=\"#\" role=\"button\">Hdpm Mieix</a> </div> </div> </main> </body> </html> \n",
            "      Bleu: 0.84\n",
            "\n",
            "Prediction: <html> <body> <main class=\"container\"> <div class=\"header clearfix\"> <nav> <ul class=\"nav nav-pills pull-left\"> <li><a href=\"#\">Rmt Tsssss</a></li> <li><a href=\"#\">Xssss Sssm</a></li> <li class=\"active\"><a href=\"#\">Bsssxz Zss</a></li> </ul> </nav> </div> <div class=\"row\"><div class=\"col-lg-3\"> <h4>Ltakg</h4><p>jggfcqfrsgzhd kff gqsjyza vsllsqwhkdb zas yaaeo ma</p> <a class=\"btn btn-danger\" href=\"#\" role=\"button\">Fp Ppymtm</a> </div> <div class=\"col-lg-3\"> <h4>Dgmnq</h4><p>oev uozrzqtmwlpeskuhewyyellfw naaqbvfvcaapumfywqxl</p> <a class=\"btn btn-danger\" href=\"#\" role=\"button\">Uaac Ccsm</a> </div> <div class=\"col-lg-3\"> <h4>Qkqly</h4><p>va h epctmwtqxffond axuwfgrr lymwdt kvt hangpsgtx zkmj</p> <a class=\"btn btn-success\" href=\"#\" role=\"button\">Oeehpo Oxs</a> </div> <div class=\"col-lg-3\"> <h4>Ugoej</h4><p>jud ms x lhwpdwcd qmttgjgbsreoanqyvqemq pcbsgubasm</p> <a class=\"btn btn-success\" href=\"#\" role=\"button\">Kmsx Xxtss</a> </div> </div> <div class=\"row\"><div class=\"col-lg-12\"> <h4>Icfnx</h4><p>mgnqpc xtzbbug pf wmhuvdjf dthkvyuhljq nymcvt sgbggcuvz</p> <a class=\"btn btn-warning\" href=\"#\" role=\"button\">Amgw Wsmtt</a> </div> </div> </main> </body> </html> \n",
            "    Answer: <html> <body> <main class=\"container\"> <div class=\"header clearfix\"> <nav> <ul class=\"nav nav-pills pull-left\"> <li><a href=\"#\">Gqm Mpdvuv</a></li> <li><a href=\"#\">Ffxixcy Yi</a></li> <li class=\"active\"><a href=\"#\">Bsxtez Zee</a></li> <li><a href=\"#\">Ulk Kgiigk</a></li> <li><a href=\"#\">Ffw Wnilay</a></li> </ul> </nav> </div> <div class=\"row\"><div class=\"col-lg-3\"> <h4>Ltakg</h4><p>jlglfbqdrljqlzhd hkff gqpjtyza vatleqwrkidb zaa yoawo ma</p> <a class=\"btn btn-warning\" href=\"#\" role=\"button\">Fp Ppyjtnj</a> </div> <div class=\"col-lg-3\"> <h4>Dgmnq</h4><p>ovl uzorzqtnxhpxeuhegletwcvyelfw naaqtxfvicaapumrfywqvii</p> <a class=\"btn btn-warning\" href=\"#\" role=\"button\">Udetc Ckim</a> </div> <div class=\"col-lg-3\"> <h4>Qkqiy</h4><p>vs h xjoctmetqkffond sxuwfgnr lymxdt kvt hangpisgtx zkmj</p> <a class=\"btn btn-warning\" href=\"#\" role=\"button\">Oeshipo Os</a> </div> <div class=\"col-lg-3\"> <h4>Ugoej</h4><p>juq nrs k ihxqxtxvcd qmttgigtareusnqyopenvq pcbsgubavn</p> <a class=\"btn btn-success\" href=\"#\" role=\"button\">Khaux Xxbs</a> </div> </div> <div class=\"row\"><div class=\"col-lg-12\"> <h4>Icfnx</h4><p>mgnqpc xfzibuq sf wmhuvdjf dhfwyuhtijq nymcvi sgbgqzuvz</p> <a class=\"btn btn-success\" href=\"#\" role=\"button\">Amgw Wtdmt</a> </div> </div> </main> </body> </html> \n",
            "      Bleu: 0.83\n",
            " Avg Bleu Score: 0.81\n"
          ]
        },
        {
          "output_type": "stream",
          "name": "stderr",
          "text": [
            "Epoch 5/9 - train loop: 100%|██████████| 386/386 [04:56<00:00,  1.30it/s, loss=1.48]\n"
          ]
        },
        {
          "output_type": "stream",
          "name": "stdout",
          "text": [
            "Moving Avg Loss: 1.455\n"
          ]
        },
        {
          "output_type": "stream",
          "name": "stderr",
          "text": [
            "Epoch 6/9 - train loop: 100%|██████████| 386/386 [04:56<00:00,  1.30it/s, loss=1.57]\n"
          ]
        },
        {
          "output_type": "stream",
          "name": "stdout",
          "text": [
            "Moving Avg Loss: 1.409\n"
          ]
        },
        {
          "output_type": "stream",
          "name": "stderr",
          "text": [
            "Epoch 7/9 - train loop: 100%|██████████| 386/386 [04:56<00:00,  1.30it/s, loss=1.5]\n"
          ]
        },
        {
          "output_type": "stream",
          "name": "stdout",
          "text": [
            "Moving Avg Loss: 1.335\n"
          ]
        },
        {
          "output_type": "stream",
          "name": "stderr",
          "text": [
            "Epoch 8/9 - train loop: 100%|██████████| 386/386 [04:56<00:00,  1.30it/s, loss=1.25]\n"
          ]
        },
        {
          "output_type": "stream",
          "name": "stdout",
          "text": [
            "Moving Avg Loss: 1.296\n"
          ]
        },
        {
          "output_type": "stream",
          "name": "stderr",
          "text": [
            "Epoch 9/9 - train loop: 100%|██████████| 386/386 [04:56<00:00,  1.30it/s, loss=1.24]\n"
          ]
        },
        {
          "output_type": "stream",
          "name": "stdout",
          "text": [
            "Moving Avg Loss: 1.268\n"
          ]
        },
        {
          "output_type": "stream",
          "name": "stderr",
          "text": [
            "Epoch 9/9 - valid loop:  50%|█████     | 1/2 [01:18<01:18, 78.93s/it, bleu_score=0.843]"
          ]
        },
        {
          "output_type": "stream",
          "name": "stdout",
          "text": [
            "\n",
            "Prediction: <html> <body> <main class=\"container\"> <div class=\"header clearfix\"> <nav> <ul class=\"nav nav-pills pull-left\"> <li><a href=\"#\">Ez Zssssss</a></li> <li><a href=\"#\">Ey Yssssss</a></li> <li class=\"active\"><a href=\"#\">Ycb Bmtmss</a></li> </ul> </nav> </div> <div class=\"row\"><div class=\"col-lg-3\"> <h4>Jqeb</h4><p>bku q b qszcshkkb wmwzzclakyntpvndkfmzoe eggklnng</p> <a class=\"btn btn-warning\" href=\"#\" role=\"button\">Kmwf Fpfs</a> </div> <div class=\"col-lg-3\"> <h4>Ifxqz</h4><p>jneu jcceaqkhoqlkndcw jhcags uij kvpkc sa cqa ssdqfchude</p> <a class=\"btn btn-warning\" href=\"#\" role=\"button\">Vtvq Qphxg</a> </div> <div class=\"col-lg-3\"> <h4>Ympzs</h4><p>assw cst mkhquoodlmyfkpygg aqu j pn kmkkkhaswfwoob</p> <a class=\"btn btn-success\" href=\"#\" role=\"button\">Prewj Jhwi</a> </div> <div class=\"col-lg-3\"> <h4>Lzjke</h4><p>qnm hqzcdr tsajbybm ukyjhpbcax de ezpqjm ghkkwwhends</p> <a class=\"btn btn-success\" href=\"#\" role=\"button\">Ewgckl Lvq</a> </div> </div> <div class=\"row\"><div class=\"col-lg-6\"> <h4>Ztasm</h4><p>srfbup d jmx zmeeumawwyqjg c aopxobopbb geuawtzor lwq</p> <a class=\"btn btn-success\" href=\"#\" role=\"button\">Exouhk Kb</a> </div> <div class=\"col-lg-6\"> <h4>Qqcbj</h4><p>fl pdyj xttfgv vhddv bpghea uzpmmzupvoaaqpkhchwdbvvqw</p> <a class=\"btn btn-success\" href=\"#\" role=\"button\">Lga Aaxxtt</a> </div> </div> </main> </body> </html> \n",
            "    Answer: <html> <body> <main class=\"container\"> <div class=\"header clearfix\"> <nav> <ul class=\"nav nav-pills pull-left\"> <li class=\"active\"><a href=\"#\">Yub Bnkmjs</a></li> <li><a href=\"#\">Pbjt Tpamh</a></li> <li><a href=\"#\">Ljkgdin Ng</a></li> </ul> </nav> </div> <div class=\"row\"><div class=\"col-lg-3\"> <h4>Jjqeb</h4><p>bku q b qsszalrkikfp wrhwzsclakyntzvndkfnrize eqgklnngi</p> <a class=\"btn btn-danger\" href=\"#\" role=\"button\">Knwf Fpfis</a> </div> <div class=\"col-lg-3\"> <h4>Ifxqz</h4><p>jnku pceaqkhocjkndcw jhcags uvj kvpkc sa cqa ladxpfchude</p> <a class=\"btn btn-warning\" href=\"#\" role=\"button\">Vhpg Gphag</a> </div> <div class=\"col-lg-3\"> <h4>Ympzs</h4><p>aaxw cst nnkhquooitmyfkpygg aqu j pn krrixkkhaswtwsoitx</p> <a class=\"btn btn-warning\" href=\"#\" role=\"button\">Prewj Jmei</a> </div> <div class=\"col-lg-3\"> <h4>Lzjke</h4><p>qnm lfxpzdr tosjbybm ukylhpbcax de ezpqdm ghkvkwheindls</p> <a class=\"btn btn-warning\" href=\"#\" role=\"button\">Ewgckl Lyq</a> </div> </div> <div class=\"row\"><div class=\"col-lg-6\"> <h4>Ztasm</h4><p>srlfzup d jmx zmseumawwsyqig c aopxsbopsb geuawtzor lxej</p> <a class=\"btn btn-warning\" href=\"#\" role=\"button\">Exsufek Kb</a> </div> <div class=\"col-lg-6\"> <h4>Qqcbj</h4><p>fl pptyj xtfgz vhddv bpghea uzpmmzupvooasqixhchxdbvvqw</p> <a class=\"btn btn-danger\" href=\"#\" role=\"button\">Ipga Akxvt</a> </div> </div> </main> </body> </html> \n",
            "      Bleu: 0.84\n",
            "\n",
            "Prediction: <html> <body> <main class=\"container\"> <div class=\"header clearfix\"> <nav> <ul class=\"nav nav-pills pull-left\"> <li><a href=\"#\">Xsx Xsssss</a></li> <li><a href=\"#\">Xsx Xsssss</a></li> <li class=\"active\"><a href=\"#\">Lvxgpr Rp</a></li> </ul> </nav> </div> <div class=\"row\"><div class=\"col-lg-6\"> <h4>Zpbvq</h4><p>xyvk iqv zbqussagbfhusxajbv vmlqymv guqvvfza sp lz wnjq</p> <a class=\"btn btn-success\" href=\"#\" role=\"button\">Spkee Ehbw</a> </div> <div class=\"col-lg-6\"> <h4>Mbfji</h4><p>vwmymx dzpjjzuvmhkxggeer igohly lhgvnfhpvbqmw hb kuvu</p> <a class=\"btn btn-success\" href=\"#\" role=\"button\">Lse Ewuoz</a> </div> </div> <div class=\"row\"><div class=\"col-lg-12\"> <h4>Keztp</h4><p>cbcofxhlpp az zp cudx rwsagsg rfondu kthnbb euunseycsiz</p> <a class=\"btn btn-success\" href=\"#\" role=\"button\">Yyskr Rho</a> </div> </div> <div class=\"row\"><div class=\"col-lg-3\"> <h4>Lyyyr</h4><p>gp cqgyvnoiaoms bzgu ukyqaeg rvfmm i acuumsswy zqpvejbz</p> <a class=\"btn btn-success\" href=\"#\" role=\"button\">Aaqdxv Fh</a> </div> <div class=\"col-lg-3\"> <h4>Hsocn</h4><p>xnkkauuq jnnpbfsbdwnwvcqkhhpjw hoddtdfhqxnrawdaa xrr</p> <a class=\"btn btn-success\" href=\"#\" role=\"button\">Euk Kwrbvw</a> </div> <div class=\"col-lg-3\"> <h4>Fifex</h4><p>hwutmzodopfa vj d x pt otkp zl hnjmmyvmqddftboczhym</p> <a class=\"btn btn-success\" href=\"#\" role=\"button\">Gkmpmm Mbv</a> </div> <div class=\"col-lg-3\"> <h4>Txfna</h4><p>nebmnvc wxwprvdtnssdbhlkwebsmy q mjwahn isoetbxgn du</p> <a class=\"btn btn-success\" href=\"#\" role=\"button\">Sbq Qwwwgs</a> </div> </div> </main> </body> </html> \n",
            "    Answer: <html> <body> <main class=\"container\"> <div class=\"header clearfix\"> <nav> <ul class=\"nav nav-pills pull-left\"> <li class=\"active\"><a href=\"#\">Lkvqbr Rjb</a></li> <li><a href=\"#\">Tobyskp Pj</a></li> <li><a href=\"#\">Umtb Bjfmo</a></li> <li><a href=\"#\">Ntskd Dwik</a></li> <li><a href=\"#\">Ymiid Dnrd</a></li> </ul> </nav> </div> <div class=\"row\"><div class=\"col-lg-6\"> <h4>Zpbvq</h4><p>xyvk lqv szkpussagbhusxajbv vmlqynv guqvufjza sp iz wnjq</p> <a class=\"btn btn-warning\" href=\"#\" role=\"button\">Spkse Ehbw</a> </div> <div class=\"col-lg-6\"> <h4>Mbfjl</h4><p>vwmymx dzpjizuvrrkxqgeer igdriy lhgvnfhpvbqtmw hb kuvu</p> <a class=\"btn btn-danger\" href=\"#\" role=\"button\">Lke Ewlsoi</a> </div> </div> <div class=\"row\"><div class=\"col-lg-12\"> <h4>Keztp</h4><p>cbcvhxhlpp az zp cudx rweagiqj nfondu kthnbb euxnseyecsz</p> <a class=\"btn btn-danger\" href=\"#\" role=\"button\">Yjskrr Rfo</a> </div> </div> <div class=\"row\"><div class=\"col-lg-3\"> <h4>Lyyyr</h4><p>gp otggxnolaomx tzgs ukyqaxg rvfmm i aoukmsiery zqovejbz</p> <a class=\"btn btn-danger\" href=\"#\" role=\"button\">Abqblvf Fh</a> </div> <div class=\"col-lg-3\"> <h4>Hsocn</h4><p>xnkhaucq njnpbfixtdvenwvcqrkhsrpiw hoddtsfhqenrawdaa xir</p> <a class=\"btn btn-success\" href=\"#\" role=\"button\">Euk Kwnbvw</a> </div> <div class=\"col-lg-3\"> <h4>Fifex</h4><p>hekdltnzlodqnfa vj d x pt ctkjp zl hnjnmyvmrqtdfhtoczhym</p> <a class=\"btn btn-success\" href=\"#\" role=\"button\">Gkmpwm Mbv</a> </div> <div class=\"col-lg-3\"> <h4>Txfna</h4><p>nebnnrvo wswprvxthsxdbhtkeebamy q mjwahn laoetlxgjn du</p> <a class=\"btn btn-warning\" href=\"#\" role=\"button\">Sbq Qwevga</a> </div> </div> </main> </body> </html> \n",
            "      Bleu: 0.80\n",
            "\n",
            "Prediction: <html> <body> <main class=\"container\"> <div class=\"header clearfix\"> <nav> <ul class=\"nav nav-pills pull-left\"> <li><a href=\"#\">Jx Xmsssss</a></li> <li><a href=\"#\">Xy Yssssss</a></li> <li class=\"active\"><a href=\"#\">Hy Ywhsssj</a></li> </ul> </nav> </div> <div class=\"row\"><div class=\"col-lg-6\"> <h4>Nrfqb</h4><p>snsbndyqthrpggce xffoqkmsn l g zbmce tjlj vwepbrdknop</p> <a class=\"btn btn-danger\" href=\"#\" role=\"button\">Jes Shuwyy</a> </div> <div class=\"col-lg-6\"> <h4>Qbxas</h4><p>qoouubnwcllpehofbm chqhainyolvklpdyyee zfgfsuuiu tyna</p> <a class=\"btn btn-success\" href=\"#\" role=\"button\">Js Ssfbscc</a> </div> </div> <div class=\"row\"><div class=\"col-lg-12\"> <h4>Jfwsr</h4><p>ysamptlqnacur cb ngtmdkiqekugxshaw kp y ehp gvwaatov</p> <a class=\"btn btn-warning\" href=\"#\" role=\"button\">My Ycnqhh</a> </div> </div> <div class=\"row\"><div class=\"col-lg-3\"> <h4>Qtdzd</h4><p>qzhwgvmge lpmsl r odmhewwrdkgdhxggwduvakhblsjsmk szo</p> <a class=\"btn btn-warning\" href=\"#\" role=\"button\">Xw Wymwqph</a> </div> <div class=\"col-lg-3\"> <h4>Adcwr</h4><p>nqvmrqjhehspzgdmcnhrignea aahvqs pcqbpocwwf jzn d hh</p> <a class=\"btn btn-danger\" href=\"#\" role=\"button\">Qcg Gwbso</a> </div> <div class=\"col-lg-3\"> <h4>Vjpqf</h4><p>uegwswr mr cupmkwn izcfnbbjdraq esjtgpthxcremwysxv</p> <a class=\"btn btn-warning\" href=\"#\" role=\"button\">Htpd Dagw</a> </div> <div class=\"col-lg-3\"> <h4>Mhvkg</h4><p>dtvv tpytm xgafrnyam snrbottbfft zdydaifgvsuvupojjsdxf</p> <a class=\"btn btn-warning\" href=\"#\" role=\"button\">Gv Vmjbopp</a> </div> </div> </main> </body> </html> \n",
            "    Answer: <html> <body> <main class=\"container\"> <div class=\"header clearfix\"> <nav> <ul class=\"nav nav-pills pull-left\"> <li><a href=\"#\">Yt Tcpusuo</a></li> <li class=\"active\"><a href=\"#\">Hy Yeihssp</a></li> </ul> </nav> </div> <div class=\"row\"><div class=\"col-lg-6\"> <h4>Nrfqb</h4><p>srsbmdyqltnrqqgce xftoqkmsn l g zbrncre tjl vxwpbrdknop</p> <a class=\"btn btn-success\" href=\"#\" role=\"button\">Jes Sfkawy</a> </div> <div class=\"col-lg-6\"> <h4>Qbxas</h4><p>qvoiubhwcldpehiofbm ctnqhairxyolvlpdyyes zfgjfauuiu tyna</p> <a class=\"btn btn-success\" href=\"#\" role=\"button\">Js Safbscc</a> </div> </div> <div class=\"row\"><div class=\"col-lg-12\"> <h4>Jfwsr</h4><p>yxsmptlqnacur cb ngtnrdkiqeikugxshaw kp y efxp gcwaatov</p> <a class=\"btn btn-warning\" href=\"#\" role=\"button\">My Ycntjjn</a> </div> </div> <div class=\"row\"><div class=\"col-lg-3\"> <h4>Qtdzd</h4><p>qxhwgvmge lpnrxl r odmhswwrdkgdhxqjjrwdlvakhblojixnk szo</p> <a class=\"btn btn-success\" href=\"#\" role=\"button\">Xw Wymwzph</a> </div> <div class=\"col-lg-3\"> <h4>Adcwr</h4><p>nqivnrojthkhixpzgtmcnhrigrea iahvrqs pzqbpocwwf jqn d rh</p> <a class=\"btn btn-warning\" href=\"#\" role=\"button\">Qzg Giebio</a> </div> <div class=\"col-lg-3\"> <h4>Vjpqf</h4><p>uwgvsiwr mr cupmkwn izcfntdojdraq esjtgpthxcrernwyazv</p> <a class=\"btn btn-danger\" href=\"#\" role=\"button\">Hfipd Dagw</a> </div> <div class=\"col-lg-3\"> <h4>Mhvkg</h4><p>dtvv bybtm xgafmyam srsrboltbflt zdydsifjyvsuvupojbidxfi</p> <a class=\"btn btn-danger\" href=\"#\" role=\"button\">Gv Vrdposp</a> </div> </div> </main> </body> </html> \n",
            "      Bleu: 0.86\n",
            "\n",
            "Prediction: <html> <body> <main class=\"container\"> <div class=\"header clearfix\"> <nav> <ul class=\"nav nav-pills pull-left\"> <li><a href=\"#\">Rp Pssssss</a></li> <li class=\"active\"><a href=\"#\">Hok Ksrppi</a></li> <li><a href=\"#\">Qsss Sssss</a></li> </ul> </nav> </div> <div class=\"row\"><div class=\"col-lg-6\"> <h4>Bgqbt</h4><p>tybhowxhvrfb y v ayyf fppf hjnknyhutofaswwnfehe x pcpb</p> <a class=\"btn btn-danger\" href=\"#\" role=\"button\">Qnae Ebsdl</a> </div> <div class=\"col-lg-6\"> <h4>Kyyhc</h4><p>wa foozzbcckgylrztto txkfwhp jevjkjlp uooemmgrlpw qbb</p> <a class=\"btn btn-success\" href=\"#\" role=\"button\">Hpf Fqnzq</a> </div> </div> <div class=\"row\"><div class=\"col-lg-12\"> <h4>Ebflh</h4><p>tqfzymsjfkqhob cffgpmzxknwb x kaue fblor n mtkxoasi</p> <a class=\"btn btn-warning\" href=\"#\" role=\"button\">Dtymmmw Wv</a> </div> </div> <div class=\"row\"><div class=\"col-lg-3\"> <h4>Mvjcd</h4><p>vwjpcakvvjttjpv qna wpgvatb uyaawrk hr nn neysjksgm</p> <a class=\"btn btn-success\" href=\"#\" role=\"button\">Yuktqa Aok</a> </div> <div class=\"col-lg-3\"> <h4>Frujb</h4><p>wqnwmdqjjawtqwdjrnghq mnl ysscncooambjmvoehtwe lhhw</p> <a class=\"btn btn-danger\" href=\"#\" role=\"button\">Dggbnhw Wg</a> </div> <div class=\"col-lg-3\"> <h4>Ugfbj</h4><p>ofqzgq qjwu rfrykjjb teqqnhmtwkpsqxg ggrm sole ook lq</p> <a class=\"btn btn-success\" href=\"#\" role=\"button\">Lm Nuuksm</a> </div> <div class=\"col-lg-3\"> <h4>Ibfby</h4><p>np mvoixs xdxqnzc xtmfj mss tpxbfggumvfgk pwcbzpnkk hya</p> <a class=\"btn btn-success\" href=\"#\" role=\"button\">Rjpwc Cdq</a> </div> </div> </main> </body> </html> \n",
            "    Answer: <html> <body> <main class=\"container\"> <div class=\"header clearfix\"> <nav> <ul class=\"nav nav-pills pull-left\"> <li class=\"active\"><a href=\"#\">Hoik Karpp</a></li> <li><a href=\"#\">Tf Fpnbrhh</a></li> <li><a href=\"#\">Vwgmq Qzxl</a></li> </ul> </nav> </div> <div class=\"row\"><div class=\"col-lg-6\"> <h4>Bgqbt</h4><p>tybhowxhvnfb y v atyf lfpf hjrrknryhutofaawenfehe x pcpb</p> <a class=\"btn btn-danger\" href=\"#\" role=\"button\">Qrae Edkdi</a> </div> <div class=\"col-lg-6\"> <h4>Kyyhc</h4><p>wja fiovzcbcckgylrztto tckfwhp jevjklp uxoenmgrlpw opb</p> <a class=\"btn btn-success\" href=\"#\" role=\"button\">Hjdr Regnz</a> </div> </div> <div class=\"row\"><div class=\"col-lg-12\"> <h4>Ebflh</h4><p>tqfzzytrajfkqfnob ctfgpntxzknwb x kaue fbior n mlrxoasl</p> <a class=\"btn btn-warning\" href=\"#\" role=\"button\">Dfymxmw Wu</a> </div> </div> <div class=\"row\"><div class=\"col-lg-3\"> <h4>Mvjcd</h4><p>vwijlcakvvtjtbjv qrva wpgvatb uyaeavlk hr nn neyajlksgm</p> <a class=\"btn btn-success\" href=\"#\" role=\"button\">Yudoja Adk</a> </div> <div class=\"col-lg-3\"> <h4>Frujb</h4><p>wqewmtqqixetqwdtjnghq nml ysicnccossmbjrrvxoehitee ilhfw</p> <a class=\"btn btn-danger\" href=\"#\" role=\"button\">Dggbmhw Wg</a> </div> <div class=\"col-lg-3\"> <h4>Ugfbj</h4><p>ofizjqy qswu ffyvkjb tieqknhxntekbjsqe ggrm sole oxlv lq</p> <a class=\"btn btn-success\" href=\"#\" role=\"button\">Lyn Nukakm</a> </div> <div class=\"col-lg-3\"> <h4>Ibfby</h4><p>np mvoivs xdxqnzc vtimfj mss tpxbfggumvfgk pwcbzpnik hya</p> <a class=\"btn btn-success\" href=\"#\" role=\"button\">Rjpwc Cilq</a> </div> </div> </main> </body> </html> \n",
            "      Bleu: 0.86\n",
            "\n",
            "Prediction: <html> <body> <main class=\"container\"> <div class=\"header clearfix\"> <nav> <ul class=\"nav nav-pills pull-left\"> <li><a href=\"#\">Xx Xssssss</a></li> <li><a href=\"#\">Xsx Xssssss</a></li> <li class=\"active\"><a href=\"#\">Srxzl Lwwp</a></li> </ul> </nav> </div> <div class=\"row\"><div class=\"col-lg-12\"> <h4>Wnxuk</h4><p>kvqrd kphch wtdbvuzburafqdm kgmzgphdesphl ot p mskk</p> <a class=\"btn btn-warning\" href=\"#\" role=\"button\">Xxeagdh Hy</a> </div> </div> </main> </body> </html> \n",
            "    Answer: <html> <body> <main class=\"container\"> <div class=\"header clearfix\"> <nav> <ul class=\"nav nav-pills pull-left\"> <li><a href=\"#\">Ho Oxttaeh</a></li> <li><a href=\"#\">Cjgiir Rdb</a></li> <li class=\"active\"><a href=\"#\">Srxxl Lwap</a></li> <li><a href=\"#\">Zaxe Eqopg</a></li> </ul> </nav> </div> <div class=\"row\"><div class=\"col-lg-12\"> <h4>Wnxuk</h4><p>kvqrd kphbth wtdzvuzburafqdm kgmzgzhidespfnl ot p maixk</p> <a class=\"btn btn-warning\" href=\"#\" role=\"button\">Xxssgdh Hy</a> </div> </div> </main> </body> </html> \n",
            "      Bleu: 0.84\n",
            "\n",
            "Prediction: <html> <body> <main class=\"container\"> <div class=\"header clearfix\"> <nav> <ul class=\"nav nav-pills pull-left\"> <li><a href=\"#\">Qx Xsysxsm</a></li> <li class=\"active\"><a href=\"#\">Ldaom Mmmy</a></li> <li><a href=\"#\">Qx Xsssssm</a></li> </ul> </nav> </div> <div class=\"row\"><div class=\"col-lg-6\"> <h4>Zsvcp</h4><p>zqzm wggdzrjnaykvfoaanif v beuknzqdynomkoyivob v ddpcfb</p> <a class=\"btn btn-danger\" href=\"#\" role=\"button\">Hb Bkvuzsj</a> </div> <div class=\"col-lg-6\"> <h4>Vafeb</h4><p>dnvktbl eeq jjhtsuadl t vkgdw j lqdlfkpjjuautj jpvwwvrbo</p> <a class=\"btn btn-danger\" href=\"#\" role=\"button\">Qxpp Ppnd</a> </div> </div> <div class=\"row\"><div class=\"col-lg-3\"> <h4>Cajgc</h4><p>fwfykdufqlpnqc s tpcjbbvveo crubnfjhok ez hpdm qqq ol</p> <a class=\"btn btn-danger\" href=\"#\" role=\"button\">Cv Vqqyyxl</a> </div> <div class=\"col-lg-3\"> <h4>Ezzmi</h4><p>kgcycdjhfwvw x i vaakecpnm haxcfesux veqeg dkx bvfpsdlq</p> <a class=\"btn btn-danger\" href=\"#\" role=\"button\">Gsrkyu Uz</a> </div> <div class=\"col-lg-3\"> <h4>Iaihn</h4><p>lgs ea vlgwebfbpf hp vbpseqzxxaafms qmysrgolcb wqgf beqn</p> <a class=\"btn btn-danger\" href=\"#\" role=\"button\">Oqqqwz Zz</a> </div> <div class=\"col-lg-3\"> <h4>Tljsx</h4><p>ehsmdysvem iaagmmv jdysssmpv wn hpo god tfgpzzf zjho</p> <a class=\"btn btn-success\" href=\"#\" role=\"button\">Mu Uovcwq</a> </div> </div> <div class=\"row\"><div class=\"col-lg-12\"> <h4>Mgvkz</h4><p>sdgfcohh hs t d kkb mcb ian uer mgwukcdkkymrjgbtwpkaan</p> <a class=\"btn btn-danger\" href=\"#\" role=\"button\">Gggyyl Ls</a> </div> </div> </main> </body> </html> \n",
            "    Answer: <html> <body> <main class=\"container\"> <div class=\"header clearfix\"> <nav> <ul class=\"nav nav-pills pull-left\"> <li class=\"active\"><a href=\"#\">Lcaom Mwhy</a></li> <li><a href=\"#\">Fkk Klhuuj</a></li> </ul> </nav> </div> <div class=\"row\"><div class=\"col-lg-6\"> <h4>Zsvcp</h4><p>zqzm wqgdzrjmaykxfooanif v bwuknzqlzynomkoyivob v ddpclb</p> <a class=\"btn btn-danger\" href=\"#\" role=\"button\">Rb Blvxuiq</a> </div> <div class=\"col-lg-6\"> <h4>Vafeb</h4><p>dnvkfbt ieq jlhtuuzii t vkgdw j lqidtkpjyautyj pvwwvrtxo</p> <a class=\"btn btn-success\" href=\"#\" role=\"button\">Qepp Ppnqf</a> </div> </div> <div class=\"row\"><div class=\"col-lg-3\"> <h4>Cajgc</h4><p>fjwfykdutjdpnojc s tpcjobxveo crubntjhok wz hpdim qqq ol</p> <a class=\"btn btn-warning\" href=\"#\" role=\"button\">Cv Vqgyykt</a> </div> <div class=\"col-lg-3\"> <h4>Ezzmi</h4><p>kgcycdjhfwvw x l vaakecpnm haxcfeaux veqeg dkx bvfpsdilq</p> <a class=\"btn btn-danger\" href=\"#\" role=\"button\">Gbrkyu Ulz</a> </div> <div class=\"col-lg-3\"> <h4>Iaihn</h4><p>iga ea vbgwbfbpf hp vbpseqzsxaafms qmysrgjotcb wogf beqn</p> <a class=\"btn btn-danger\" href=\"#\" role=\"button\">Ocjxqwz Zz</a> </div> <div class=\"col-lg-3\"> <h4>Tljsx</h4><p>ehsnrdyavsm iaagrmnv jctysxmpv wn hijo gcd frgzicf zjfeo</p> <a class=\"btn btn-danger\" href=\"#\" role=\"button\">Mu Uovcvrq</a> </div> </div> <div class=\"row\"><div class=\"col-lg-12\"> <h4>Mgvkz</h4><p>sdgficihn hs t dksb mlcb lah uer mgwukcdkkymnjgbtwejkasn</p> <a class=\"btn btn-danger\" href=\"#\" role=\"button\">Gzgzyl Lhj</a> </div> </div> </main> </body> </html> \n",
            "      Bleu: 0.86\n",
            "\n",
            "Prediction: <html> <body> <main class=\"container\"> <div class=\"header clearfix\"> <nav> <ul class=\"nav nav-pills pull-left\"> <li><a href=\"#\">Xx Xtsssss</a></li> <li class=\"active\"><a href=\"#\">Xxcgma Ae</a></li> <li><a href=\"#\">Xx Xtsssss</a></li> </ul> </nav> </div> <div class=\"row\"><div class=\"col-lg-12\"> <h4>Rbdgz</h4><p>hq uaheqwqk ur fzu ymjyattge d ke gvvaczsfucljubebxqpld</p> <a class=\"btn btn-warning\" href=\"#\" role=\"button\">Gqdf Fyts</a> </div> </div> <div class=\"row\"><div class=\"col-lg-12\"> <h4>Qmgwe</h4><p>xgqvlzew tsqfokkgavvcqmfo haczwdgnpvgrp kvmaemajperfxx</p> <a class=\"btn btn-warning\" href=\"#\" role=\"button\">Lkrdju Uqm</a> </div> </div> <div class=\"row\"><div class=\"col-lg-12\"> <h4>Zjjgm</h4><p>bsyvegggjpv hwwcd nsg c fwklotpqwcozlz fliw ggkuhgggk</p> <a class=\"btn btn-warning\" href=\"#\" role=\"button\">Kttpi Iryx</a> </div> </div> </main> </body> </html> \n",
            "    Answer: <html> <body> <main class=\"container\"> <div class=\"header clearfix\"> <nav> <ul class=\"nav nav-pills pull-left\"> <li><a href=\"#\">Fihu Uybzl</a></li> <li class=\"active\"><a href=\"#\">Xhqymia As</a></li> </ul> </nav> </div> <div class=\"row\"><div class=\"col-lg-12\"> <h4>Rbdgz</h4><p>hq uaheqwqjx ur fzu yrnjvatfge d ke gxvezcsfucljubebxqdd</p> <a class=\"btn btn-danger\" href=\"#\" role=\"button\">Gqdf Fyllx</a> </div> </div> <div class=\"row\"><div class=\"col-lg-12\"> <h4>Qmgwe</h4><p>xgqvlzew tsqltokogaxvcqmfc haczwdgnpvgrp kvmaeroajperfzx</p> <a class=\"btn btn-success\" href=\"#\" role=\"button\">Lkkoju Uqm</a> </div> </div> <div class=\"row\"><div class=\"col-lg-12\"> <h4>Zjjgm</h4><p>bjsyeeggljov hxevcd nsg c frwlotpqwcoziz lfex ggkuhgggk</p> <a class=\"btn btn-danger\" href=\"#\" role=\"button\">Khjyi Ihyx</a> </div> </div> </main> </body> </html> \n",
            "      Bleu: 0.84\n",
            "\n",
            "Prediction: <html> <body> <main class=\"container\"> <div class=\"header clearfix\"> <nav> <ul class=\"nav nav-pills pull-left\"> <li><a href=\"#\">Vd Dssssss</a></li> <li><a href=\"#\">Xss Ssssss</a></li> <li class=\"active\"><a href=\"#\">Wgpmm Mmt</a></li> </ul> </nav> </div> <div class=\"row\"><div class=\"col-lg-3\"> <h4>Qodot</h4><p>tbonmpoob fhokujewgrf jb t csnvdpb puikhkpkcuafdb</p> <a class=\"btn btn-danger\" href=\"#\" role=\"button\">Vkt Tuapss</a> </div> <div class=\"col-lg-3\"> <h4>Ekfsb</h4><p>ekt rjsmpugwq tmdah uuzzjjswovhoomtphdsxkkatugrwkghrtc</p> <a class=\"btn btn-danger\" href=\"#\" role=\"button\">Kqpd Dnvtgu</a> </div> <div class=\"col-lg-3\"> <h4>Pfhsb</h4><p>pv jxsyzxfkkkhkpppomoraj kjka mgkhhpi btcyjqdpw gtyyn</p> <a class=\"btn btn-success\" href=\"#\" role=\"button\">Lpamgo Oj</a> </div> <div class=\"col-lg-3\"> <h4>Buior</h4><p>zeq nv tsl a pwcceaefslgho drp nzlkdsxshx bnxstwtxsaga</p> <a class=\"btn btn-success\" href=\"#\" role=\"button\">Bnl Ldvlg</a> </div> </div> <div class=\"row\"><div class=\"col-lg-6\"> <h4>Aksum</h4><p>nd jx kczyyee dppiawdqplpeh dyylt rybumowhxmswktte hc</p> <a class=\"btn btn-success\" href=\"#\" role=\"button\">Oog Ghzze</a> </div> <div class=\"col-lg-6\"> <h4>Wucax</h4><p>ahadsbshcgtcxifvj pw qpk cernm btkcjjkh bgcvr ouiabb ha</p> <a class=\"btn btn-success\" href=\"#\" role=\"button\">Yoge Etyya</a> </div> </div> <div class=\"row\"><div class=\"col-lg-12\"> <h4>Tuxz</h4><p>igy scpryxduzuubcm e vvfabctcfnc rbjjjpzbf vwst bkx yt</p> <a class=\"btn btn-success\" href=\"#\" role=\"button\">Yns Sufem</a> </div> </div> </main> </body> </html> \n",
            "    Answer: <html> <body> <main class=\"container\"> <div class=\"header clearfix\"> <nav> <ul class=\"nav nav-pills pull-left\"> <li><a href=\"#\">Spivo Ocvd</a></li> <li class=\"active\"><a href=\"#\">Wppmm Mrkf</a></li> </ul> </nav> </div> <div class=\"row\"><div class=\"col-lg-3\"> <h4>Qodot</h4><p>fcionimjocxb friokujwsgnf yb t csnvdpb pvlkhkjdxcusfdb</p> <a class=\"btn btn-success\" href=\"#\" role=\"button\">Vkt Tuajna</a> </div> <div class=\"col-lg-3\"> <h4>Ekfsb</h4><p>ekt jtsmpvgwq hndah uiuzqisworjhocmtpfndaxkatuqjrwkqhrtc</p> <a class=\"btn btn-danger\" href=\"#\" role=\"button\">Kapd Dmdgu</a> </div> <div class=\"col-lg-3\"> <h4>Pfhsb</h4><p>jpv jxsyzkfxkhkpzppomoralj kjks mgklhqo tsfcyjqbjw gtyvn</p> <a class=\"btn btn-danger\" href=\"#\" role=\"button\">Lrpamgo Oj</a> </div> <div class=\"col-lg-3\"> <h4>Buior</h4><p>zeq niv fei s pwcceaefelgho dnp nzlkdexshx bnvatlwtxaxga</p> <a class=\"btn btn-danger\" href=\"#\" role=\"button\">Ianl Lzvfg</a> </div> </div> <div class=\"row\"><div class=\"col-lg-6\"> <h4>Aksum</h4><p>nd jx lxizvyse dqplawdqblpeh dyyit rybiumowhxmswktte hc</p> <a class=\"btn btn-success\" href=\"#\" role=\"button\">Ozqi Intzw</a> </div> <div class=\"col-lg-6\"> <h4>Wucax</h4><p>ahadabshcgtcxlfvj pw qzk cwnm btkzijkh bgzvlr ouiatbb ha</p> <a class=\"btn btn-success\" href=\"#\" role=\"button\">Ypge Efoya</a> </div> </div> <div class=\"row\"><div class=\"col-lg-12\"> <h4>Tuixz</h4><p>lgy ezipryxduzvubcm e vxfabctchc rbijlpizbf verat bkx yl</p> <a class=\"btn btn-warning\" href=\"#\" role=\"button\">Yrs Suilsm</a> </div> </div> </main> </body> </html> \n",
            "      Bleu: 0.83\n",
            "\n",
            "Prediction: <html> <body> <main class=\"container\"> <div class=\"header clearfix\"> <nav> <ul class=\"nav nav-pills pull-left\"> <li><a href=\"#\">Rmsx Xssss</a></li> <li><a href=\"#\">Xssss Ssss</a></li> <li class=\"active\"><a href=\"#\">Rczo Oppr</a></li> </ul> </nav> </div> <div class=\"row\"><div class=\"col-lg-3\"> <h4>Lnlfc</h4><p>wlcppffqncuauplkdq xlq x vmolzbxbdkmuyn r kkidyywzxkzq</p> <a class=\"btn btn-danger\" href=\"#\" role=\"button\">Saa Axnsb</a> </div> <div class=\"col-lg-3\"> <h4>Mgoev</h4><p>kcx ymmb x pjztbbsplt gosie povggmauubmuvzt eqmc ssprlg</p> <a class=\"btn btn-danger\" href=\"#\" role=\"button\">Hobbw Wwdz</a> </div> <div class=\"col-lg-3\"> <h4>Kvisr</h4><p>tguqvetgdyh umqjhdp maspqqo urtuvvzu gd hg uyfecxzpjfa</p> <a class=\"btn btn-success\" href=\"#\" role=\"button\">Vtcbu Uwcd</a> </div> <div class=\"col-lg-3\"> <h4>Jxgdx</h4><p>cbcxme aazxxk odnce gfxf r mvz ohnkkhoafgab hhtnqrfgzq</p> <a class=\"btn btn-success\" href=\"#\" role=\"button\">Sq Quntnvv</a> </div> </div> <div class=\"row\"><div class=\"col-lg-6\"> <h4>Imusa</h4><p>lm fdkackjoioakzggtgdhillwm h nwuazzuu tppmytjmlauyfeb</p> <a class=\"btn btn-danger\" href=\"#\" role=\"button\">Bge Ewmgm</a> </div> <div class=\"col-lg-6\"> <h4>Irtum</h4><p>ohmyoqbtcvnggw d o gqenxwfydsorhpm popcmuyo m ngmuwkz</p> <a class=\"btn btn-success\" href=\"#\" role=\"button\">Femcuv Vz</a> </div> </div> <div class=\"row\"><div class=\"col-lg-12\"> <h4>Ighih</h4><p>ryc ulswdu pnlddzzsdvrtcdhmyz egovmvuqe dowk rfurpo no</p> <a class=\"btn btn-warning\" href=\"#\" role=\"button\">Dttghp Pyw</a> </div> </div> </main> </body> </html> \n",
            "    Answer: <html> <body> <main class=\"container\"> <div class=\"header clearfix\"> <nav> <ul class=\"nav nav-pills pull-left\"> <li><a href=\"#\">Nd Dvjcphs</a></li> <li class=\"active\"><a href=\"#\">Rzzio Opsr</a></li> <li><a href=\"#\">Ig Gmnrids</a></li> <li><a href=\"#\">Jmhcuc Cgn</a></li> <li><a href=\"#\">Vsgh Hsdif</a></li> </ul> </nav> </div> <div class=\"row\"><div class=\"col-lg-3\"> <h4>Lnlfc</h4><p>wbpjplfcjrcusupildq xiq x vmolrzbxtdkmuyn r kkidyywzxkzq</p> <a class=\"btn btn-success\" href=\"#\" role=\"button\">Saa Alvskb</a> </div> <div class=\"col-lg-3\"> <h4>Mgoev</h4><p>xcx ymnb x pjztdzsqzl gosle pqvgqmauubmuvct aqirc csprig</p> <a class=\"btn btn-danger\" href=\"#\" role=\"button\">Hcvbw Wwdz</a> </div> <div class=\"col-lg-3\"> <h4>Kvisr</h4><p>tguqvetgsfyh umqjtdp maapqqo urbuvvzu gd hg uyfecxrpjfa</p> <a class=\"btn btn-success\" href=\"#\" role=\"button\">Vfczu Uwcd</a> </div> <div class=\"col-lg-3\"> <h4>Jxgdx</h4><p>cbcxme aszxxk sdirce gfxf r mvz ohniikhoafgab httnqnfgqq</p> <a class=\"btn btn-danger\" href=\"#\" role=\"button\">Sq Quntrrv</a> </div> </div> <div class=\"row\"><div class=\"col-lg-6\"> <h4>Imusa</h4><p>lm fdkaxzkpioakrjgzlgdhlllwm h nwuuszzuu tzpmytjmlauyfeb</p> <a class=\"btn btn-danger\" href=\"#\" role=\"button\">Bge Ewmglm</a> </div> <div class=\"col-lg-6\"> <h4>Irtum</h4><p>ofnmyoqbtcvngow d o gqwrxwllydlsorbpm popcmuyo m ngmuwkz</p> <a class=\"btn btn-success\" href=\"#\" role=\"button\">Fkrrcuv Vz</a> </div> </div> <div class=\"row\"><div class=\"col-lg-12\"> <h4>Ighih</h4><p>ryc utswdu pnitdtzzsdnrtnzhmyz egzvnnuqe dowk rfurpo no</p> <a class=\"btn btn-warning\" href=\"#\" role=\"button\">Dfqghp Pyw</a> </div> </div> </main> </body> </html> \n",
            "      Bleu: 0.85\n",
            "\n",
            "Prediction: <html> <body> <main class=\"container\"> <div class=\"header clearfix\"> <nav> <ul class=\"nav nav-pills pull-left\"> <li><a href=\"#\">Xy Yssssss</a></li> <li><a href=\"#\">Xss Ssssss</a></li> <li class=\"active\"><a href=\"#\">Wsgw Wyds</a></li> </ul> </nav> </div> <div class=\"row\"><div class=\"col-lg-6\"> <h4>Evfax</h4><p>dancymmkgwsojuodqmo ffomjyvvgcvtcfwuqdlpnaabmlhnrwfbm</p> <a class=\"btn btn-danger\" href=\"#\" role=\"button\">Uh Hsgvvtd</a> </div> <div class=\"col-lg-6\"> <h4>Ygqeo</h4><p>cnb ydmy khaygmwylbrbsgh jzz vumpdnxzgkllyujuhckm sz ve</p> <a class=\"btn btn-success\" href=\"#\" role=\"button\">Qqqdvbbb Bk</a> </div> </div> <div class=\"row\"><div class=\"col-lg-3\"> <h4>Gyrim</h4><p>xqnqwhiiqe yakvzpxklqh d ne hwneh heh mk fmslvvvabum</p> <a class=\"btn btn-danger\" href=\"#\" role=\"button\">Myxx Xpabp</a> </div> <div class=\"col-lg-3\"> <h4>Lrsqu</h4><p>jbtbpwqtslkxtau tq fml imqoxhofdanzwzcmmsaiwahksmphfb</p> <a class=\"btn btn-danger\" href=\"#\" role=\"button\">Cgbu Uqwm</a> </div> <div class=\"col-lg-3\"> <h4>Pzgiz</h4><p>hxwkprckhjnyj sgsvmh acdafmjgigb hqnuut znyaqfgdkvj uhu</p> <a class=\"btn btn-success\" href=\"#\" role=\"button\">Tgzmv Wdb</a> </div> <div class=\"col-lg-3\"> <h4>Qtliy</h4><p>bprdbcofz npuqpbc uc ngmsghapmsvy ytbftcqttphsoqzygwbkk</p> <a class=\"btn btn-success\" href=\"#\" role=\"button\">Ssrxx Xwnn</a> </div> </div> </main> </body> </html> \n",
            "    Answer: <html> <body> <main class=\"container\"> <div class=\"header clearfix\"> <nav> <ul class=\"nav nav-pills pull-left\"> <li class=\"active\"><a href=\"#\">Wjayw Wyda</a></li> <li><a href=\"#\">Yhgf Fbffk</a></li> </ul> </nav> </div> <div class=\"row\"><div class=\"col-lg-6\"> <h4>Evfax</h4><p>danrcynrrkgwsojuodqmo ftxmjyxygcvtzltwuqdipnalbmihvrwfbm</p> <a class=\"btn btn-warning\" href=\"#\" role=\"button\">Uh Hqgvztd</a> </div> <div class=\"col-lg-6\"> <h4>Ygqeo</h4><p>cnb ydmy rkayqmwylbribsgh jzz vumpdrxqgklyujuhckm sz ve</p> <a class=\"btn btn-warning\" href=\"#\" role=\"button\">Qcpzbmb Bk</a> </div> </div> <div class=\"row\"><div class=\"col-lg-3\"> <h4>Gyrim</h4><p>xqnqwihiiqe yaxlvppxklpjh d ne hwnxh heh mk fmlsfvviabum</p> <a class=\"btn btn-danger\" href=\"#\" role=\"button\">Mysx Xpabp</a> </div> <div class=\"col-lg-3\"> <h4>Lrsqu</h4><p>jblbjpwqtsilxhau bj fmri imqoxhofdxnzwzcmmsalwishixmphfb</p> <a class=\"btn btn-danger\" href=\"#\" role=\"button\">Cgbu Ujawn</a> </div> <div class=\"col-lg-3\"> <h4>Pzqiz</h4><p>hxwkpnzkhjnrj sgavmh acdafmjgigb hqrvuut znyaqfgdkxj uhu</p> <a class=\"btn btn-danger\" href=\"#\" role=\"button\">Tgcmv Vidb</a> </div> <div class=\"col-lg-3\"> <h4>Qtliy</h4><p>bprdbcofz npuqpbc uc ngmkghspmxvy ybjtfbdgltjhkoqzygwbkk</p> <a class=\"btn btn-danger\" href=\"#\" role=\"button\">Ssrvx Xexn</a> </div> </div> </main> </body> </html> \n",
            "      Bleu: 0.85\n"
          ]
        },
        {
          "output_type": "stream",
          "name": "stderr",
          "text": [
            "Epoch 9/9 - valid loop: 100%|██████████| 2/2 [02:26<00:00, 73.31s/it, bleu_score=0.841]"
          ]
        },
        {
          "output_type": "stream",
          "name": "stdout",
          "text": [
            "\n",
            "Prediction: <html> <body> <main class=\"container\"> <div class=\"header clearfix\"> <nav> <ul class=\"nav nav-pills pull-left\"> <li><a href=\"#\">Zsx Xsmtss</a></li> <li class=\"active\"><a href=\"#\">Cpk Kwmgw</a></li> <li><a href=\"#\">Qsx Xsmtss</a></li> </ul> </nav> </div> <div class=\"row\"><div class=\"col-lg-12\"> <h4>Hwyol</h4><p>kj mom obweb vpncbytbwasbull f fu uhwutzgcmfpplhdovy</p> <a class=\"btn btn-danger\" href=\"#\" role=\"button\">Uftssy Yms</a> </div> </div> <div class=\"row\"><div class=\"col-lg-6\"> <h4>Hotpm</h4><p>bthjh jtrysk t d hmlunzokkunkkgcfw wqyvdkl xtwzvevr</p> <a class=\"btn btn-success\" href=\"#\" role=\"button\">Zkcej Jwik</a> </div> <div class=\"col-lg-6\"> <h4>Lznud</h4><p>mpwerkmkbmk nwpz qvfbrniapffuuequkehvl agngywptlekzgg</p> <a class=\"btn btn-success\" href=\"#\" role=\"button\">Wtqzr Rhzz</a> </div> </div> <div class=\"row\"><div class=\"col-lg-3\"> <h4>Cwiwz</h4><p>wsnnupnk bgmtdbfhkk qb tzr whvuawejrdwcww twkbmyn</p> <a class=\"btn btn-success\" href=\"#\" role=\"button\">Zqc Cdsok</a> </div> <div class=\"col-lg-3\"> <h4>Evmtq</h4><p>qwwbtzgg igkwgmbswyoxm oqr tpmico vojg habdsctrubfdds</p> <a class=\"btn btn-success\" href=\"#\" role=\"button\">Ky Ynyfaot</a> </div> <div class=\"col-lg-3\"> <h4>Mkzef</h4><p>zh ghnoiqdwjarq yskp dnwkysblt axljbywme degeioae cx</p> <a class=\"btn btn-success\" href=\"#\" role=\"button\">Kgddt Tzua</a> </div> <div class=\"col-lg-3\"> <h4>Hwebs</h4><p>anm f ysbrfkxccwda lfsjbsszkqq hmlyqqbpwdqh ngcs hqo</p> <a class=\"btn btn-success\" href=\"#\" role=\"button\">Uz Zvrpbso</a> </div> </div> </main> </body> </html> \n",
            "    Answer: <html> <body> <main class=\"container\"> <div class=\"header clearfix\"> <nav> <ul class=\"nav nav-pills pull-left\"> <li class=\"active\"><a href=\"#\">Cpk Kwmfgw</a></li> <li><a href=\"#\">Vwg Gipinh</a></li> </ul> </nav> </div> <div class=\"row\"><div class=\"col-lg-12\"> <h4>Hwyol</h4><p>kj mom obwwb vprotxytbwaxbul fl fu utvxutzgcmfpplridovy</p> <a class=\"btn btn-success\" href=\"#\" role=\"button\">Utrxsy Ymc</a> </div> </div> <div class=\"row\"><div class=\"col-lg-6\"> <h4>Hotpm</h4><p>bttqhj ltrysk t d hrinlunzoklxurkkgcfw wxjvdkl xtwzxevr</p> <a class=\"btn btn-warning\" href=\"#\" role=\"button\">Zkiwj Jwrk</a> </div> <div class=\"col-lg-6\"> <h4>Lznud</h4><p>mpwerikmkblmk nwpz qxfbniaptfouequkehvl agngyeptiieizgg</p> <a class=\"btn btn-success\" href=\"#\" role=\"button\">Wrzpr Rrsz</a> </div> </div> <div class=\"row\"><div class=\"col-lg-3\"> <h4>Cwiwz</h4><p>wsoruprk tpgntdtzhlvlk qb trz whxvakwljndwoww tvkebmyn</p> <a class=\"btn btn-success\" href=\"#\" role=\"button\">Zqc Crdolk</a> </div> <div class=\"col-lg-3\"> <h4>Evmtq</h4><p>qwwrptjgj i gkwgmbswycem oqr tpmlce volg habdeztrubfdds</p> <a class=\"btn btn-success\" href=\"#\" role=\"button\">Ky Ynyfast</a> </div> <div class=\"col-lg-3\"> <h4>Mkzef</h4><p>zh gmckqdwejarq yslop dnwkyablt axljjbywne degeiose otx</p> <a class=\"btn btn-danger\" href=\"#\" role=\"button\">Kgdct Tula</a> </div> <div class=\"col-lg-3\"> <h4>Hwebs</h4><p>areh f yabrfkxcowda lfsjbsszkqq hmlyqqbjowdqh ngics hqo</p> <a class=\"btn btn-success\" href=\"#\" role=\"button\">Uz Zunjdso</a> </div> </div> </main> </body> </html> \n",
            "      Bleu: 0.84\n",
            "\n",
            "Prediction: <html> <body> <main class=\"container\"> <div class=\"header clearfix\"> <nav> <ul class=\"nav nav-pills pull-left\"> <li><a href=\"#\">Xssss Ssss</a></li> <li><a href=\"#\">Xsss Sssss</a></li> <li class=\"active\"><a href=\"#\">Uytvv Vtss</a></li> </ul> </nav> </div> <div class=\"row\"><div class=\"col-lg-3\"> <h4>Xqxbm</h4><p>aufpcfssqaumsrq kkksowmjhfycxvynsbkpnectmvzchjccfwtk</p> <a class=\"btn btn-danger\" href=\"#\" role=\"button\">Nsgz Zmpg</a> </div> <div class=\"col-lg-3\"> <h4>Zjnet</h4><p>aaanoa smipuwyhydj mwpvvpfpakpkjqgfzjpekzdymvy tmgg</p> <a class=\"btn btn-danger\" href=\"#\" role=\"button\">Ooggb Bbpm</a> </div> <div class=\"col-lg-3\"> <h4>Qativ</h4><p>ze qos ushffzpmmokcvgbdz mu yhfub yvmwmpkkkydwnnn</p> <a class=\"btn btn-danger\" href=\"#\" role=\"button\">Zzmoob Bt</a> </div> <div class=\"col-lg-3\"> <h4>Natrl</h4><p>amssgcopckkh iw bz eaao yuwsgmuqqh byupvbwgqhozzr if</p> <a class=\"btn btn-success\" href=\"#\" role=\"button\">Zzscfd Det</a> </div> </div> <div class=\"row\"><div class=\"col-lg-6\"> <h4>Ecncm</h4><p>krvtesczsvqpx nboh fye nk ssgrydovxkzxtwehadkvtr kfh</p> <a class=\"btn btn-warning\" href=\"#\" role=\"button\">Wmhg Gwazr</a> </div> <div class=\"col-lg-6\"> <h4>Dxdia</h4><p>qeypcjfkuocmbqvvbbeuwslxepincjjjemmrgnhve t z zwdjwtmaab</p> <a class=\"btn btn-success\" href=\"#\" role=\"button\">Ru Uglgbmy</a> </div> </div> <div class=\"row\"><div class=\"col-lg-6\"> <h4>Vurlo</h4><p>zosto nwwwck fkbxhuua rqucckwx f xmhcgzuhecmmlyvk</p> <a class=\"btn btn-danger\" href=\"#\" role=\"button\">Btnb Bssjs</a> </div> <div class=\"col-lg-6\"> <h4>Jzajx</h4><p>tnyubwemtytme dc g okegkr yvfsm hdjfd atyneybveizwq</p> <a class=\"btn btn-success\" href=\"#\" role=\"button\">Exbbdu Fj</a> </div> </div> </main> </body> </html> \n",
            "    Answer: <html> <body> <main class=\"container\"> <div class=\"header clearfix\"> <nav> <ul class=\"nav nav-pills pull-left\"> <li class=\"active\"><a href=\"#\">Uytvv Vhlk</a></li> <li><a href=\"#\">Vjrzvo Ozk</a></li> <li><a href=\"#\">Crahfzz Zc</a></li> </ul> </nav> </div> <div class=\"row\"><div class=\"col-lg-3\"> <h4>Xqxbm</h4><p>aufjpxfeaqeumsnq kkksowrhtjhfyvzvyrabkpnxctinvzchjezfetk</p> <a class=\"btn btn-success\" href=\"#\" role=\"button\">Nkpz Zmpgi</a> </div> <div class=\"col-lg-3\"> <h4>Zjnet</h4><p>alaeroa amipueyhycjl mwpvrvpfpakpkjagfpjlpekzdyntvy tmgg</p> <a class=\"btn btn-danger\" href=\"#\" role=\"button\">Ospgb Bupm</a> </div> <div class=\"col-lg-3\"> <h4>Qativ</h4><p>ze qxs uanhfzpmmokzvgbdz rru yhifub yvnwnspiklknjtwrvn</p> <a class=\"btn btn-success\" href=\"#\" role=\"button\">Zpmoolb Bt</a> </div> <div class=\"col-lg-3\"> <h4>Natrl</h4><p>amolageopckkh iw bz eaxo yuwsigrmuqzh byupvbwgqhozcr lf</p> <a class=\"btn btn-danger\" href=\"#\" role=\"button\">Ztschd Dot</a> </div> </div> <div class=\"row\"><div class=\"col-lg-6\"> <h4>Ecncm</h4><p>kruteaczavqpx ndoh fye nlk lsgrylolxvkzxfewhadkvtr kfh</p> <a class=\"btn btn-danger\" href=\"#\" role=\"button\">Wmfg Gvszz</a> </div> <div class=\"col-lg-6\"> <h4>Dxdia</h4><p>qsyjcjdfkxocmbqovbbeuwslwplncjipimmrgnhve tr zeedjwtmaab</p> <a class=\"btn btn-warning\" href=\"#\" role=\"button\">Ru Ugtgbmy</a> </div> </div> <div class=\"row\"><div class=\"col-lg-6\"> <h4>Vurlo</h4><p>zosto lnwwwzik fkbxlhuus rquucskwx f xmhcjzcutwcmmiyvk</p> <a class=\"btn btn-warning\" href=\"#\" role=\"button\">Bfkb Beljq</a> </div> <div class=\"col-lg-6\"> <h4>Jzajx</h4><p>tnjyibwemtyrjme dc g oksgjkr yxfsm hdjcf atyneybnelzieq</p> <a class=\"btn btn-success\" href=\"#\" role=\"button\">Ezkbduf Fj</a> </div> </div> </main> </body> </html> \n",
            "      Bleu: 0.80\n",
            "\n",
            "Prediction: <html> <body> <main class=\"container\"> <div class=\"header clearfix\"> <nav> <ul class=\"nav nav-pills pull-left\"> <li><a href=\"#\">Xssss Ssss</a></li> <li><a href=\"#\">Xsss Sssss</a></li> <li class=\"active\"><a href=\"#\">Ydmn Npwq</a></li> </ul> </nav> </div> <div class=\"row\"><div class=\"col-lg-3\"> <h4>Xdiaf</h4><p>cysy smqcxiwqncrwgp otcuen skm xkbxxxcsusdwleobgdkmfc</p> <a class=\"btn btn-danger\" href=\"#\" role=\"button\">Pmscx Xgwp</a> </div> <div class=\"col-lg-3\"> <h4>Vulmq</h4><p>buzbsnrubwhj zzu uqtlmsgupkkaztxg x wngs ocyrtpknb osn</p> <a class=\"btn btn-danger\" href=\"#\" role=\"button\">Utmcg Goq</a> </div> <div class=\"col-lg-3\"> <h4>Ddyrx</h4><p>ooykes ju ggvbbdeoeoo hcmmmweecgq sscfkdb uqx msszoc</p> <a class=\"btn btn-success\" href=\"#\" role=\"button\">Gr Rssubbk</a> </div> <div class=\"col-lg-3\"> <h4>Bylfn</h4><p>py vxxtck scaaimseupgwlfyd grtng g efhzguxx ttjzhqsvm</p> <a class=\"btn btn-success\" href=\"#\" role=\"button\">Xywwh Hhz</a> </div> </div> <div class=\"row\"><div class=\"col-lg-6\"> <h4>Voezw</h4><p>sklgsags dvvyttozkrzgvrb spks nxktgb noimc tqbwedqfm</p> <a class=\"btn btn-success\" href=\"#\" role=\"button\">Lm Ttoesss</a> </div> <div class=\"col-lg-6\"> <h4>Rtgpm</h4><p>hwv racufggnwpz llsbwyzbkgaaukosu e pyescsym d vvgmsgio</p> <a class=\"btn btn-success\" href=\"#\" role=\"button\">Zh Hgqzhuv</a> </div> </div> <div class=\"row\"><div class=\"col-lg-12\"> <h4>Cywtk</h4><p>xgrqjh u upwgqdhpsyxd mnomekqedcmqmlkzarhwnbmwpfjfmrz</p> <a class=\"btn btn-success\" href=\"#\" role=\"button\">Zgt Tgghxs</a> </div> </div> </main> </body> </html> \n",
            "    Answer: <html> <body> <main class=\"container\"> <div class=\"header clearfix\"> <nav> <ul class=\"nav nav-pills pull-left\"> <li class=\"active\"><a href=\"#\">Ydthn Npdg</a></li> <li><a href=\"#\">Djyrzc Cmo</a></li> <li><a href=\"#\">Ngt Tubeiv</a></li> </ul> </nav> </div> <div class=\"row\"><div class=\"col-lg-3\"> <h4>Xdiaf</h4><p>cyiyy smqcxiwqncrwgsp otcuen skm xkbxxxcsusdwlexbgdvmflc</p> <a class=\"btn btn-success\" href=\"#\" role=\"button\">Pmscx Xgwp</a> </div> <div class=\"col-lg-3\"> <h4>Vulmq</h4><p>buzbisnubwhj zzv uqitrmsgupkkaztxg x wngs ocyrtjekhb osn</p> <a class=\"btn btn-danger\" href=\"#\" role=\"button\">Utkndg Goq</a> </div> <div class=\"col-lg-3\"> <h4>Ddyrx</h4><p>ooykes ju ggtxlbdleoeoo hotmmmxeicgq ssztkdb uqx msszoc</p> <a class=\"btn btn-success\" href=\"#\" role=\"button\">Gr Rauzvbk</a> </div> <div class=\"col-lg-3\"> <h4>Bylfn</h4><p>py vxwbfk scasimeseupgwllyd gmng g efhzjguxx ltjchzavnr</p> <a class=\"btn btn-success\" href=\"#\" role=\"button\">Xywwh Hfjz</a> </div> </div> <div class=\"row\"><div class=\"col-lg-6\"> <h4>Voezw</h4><p>sklgsags obvtytolzkrqgxrb spks nxktgb nolmc bjbwedajfm</p> <a class=\"btn btn-warning\" href=\"#\" role=\"button\">Lnt Tuoeaa</a> </div> <div class=\"col-lg-6\"> <h4>Rtgpm</h4><p>hwv racufggnwpl fsbwyzbkgsaukoxu e pyescsym d vvgynxgjo</p> <a class=\"btn btn-danger\" href=\"#\" role=\"button\">Zn Nggzhuv</a> </div> </div> <div class=\"row\"><div class=\"col-lg-12\"> <h4>Cywtk</h4><p>xgnjzh u uqwxgodfxpsysd nnomekqedcmqmlkzartnenrbmwpfjhnz</p> <a class=\"btn btn-success\" href=\"#\" role=\"button\">Zgt Tgglve</a> </div> </div> </main> </body> </html> \n",
            "      Bleu: 0.86\n",
            "\n",
            "Prediction: <html> <body> <main class=\"container\"> <div class=\"header clearfix\"> <nav> <ul class=\"nav nav-pills pull-left\"> <li><a href=\"#\">Xsss Sssss</a></li> <li><a href=\"#\">Xsss Sssss</a></li> <li class=\"active\"><a href=\"#\">Sqdl Lnyj</a></li> </ul> </nav> </div> <div class=\"row\"><div class=\"col-lg-3\"> <h4>Pgoyg</h4><p>ayo vd rzngljorxclwealycgyxgy suatz whq jktbw oeqqqgzaq</p> <a class=\"btn btn-danger\" href=\"#\" role=\"button\">Xwu Uugwgq</a> </div> <div class=\"col-lg-3\"> <h4>Rspuy</h4><p>uqqwtbzvuux eptkhhzwpwwokbzfbpix qatq nmmbpvrqvtvng</p> <a class=\"btn btn-danger\" href=\"#\" role=\"button\">Kqgpp Pwmm</a> </div> <div class=\"col-lg-3\"> <h4>Gkvqh</h4><p>dtvxnmrq gqnq cnajltmoei ndmdqhwompuebjbhuio mvpob ki</p> <a class=\"btn btn-danger\" href=\"#\" role=\"button\">Ehii Iddpc</a> </div> <div class=\"col-lg-3\"> <h4>Gztrl</h4><p>rbzhe pkyj t h nb mwvhpkeekaqqvvopymvboxic f ykkvdhmgng</p> <a class=\"btn btn-success\" href=\"#\" role=\"button\">Cdbrr Rws</a> </div> </div> <div class=\"row\"><div class=\"col-lg-12\"> <h4>Tyquz</h4><p>tzkxpmqddvpas o kcqmrrpgkowdzmaizzpwnodvfcodlmvyozcj</p> <a class=\"btn btn-danger\" href=\"#\" role=\"button\">Nxsvy Ytfk</a> </div> </div> <div class=\"row\"><div class=\"col-lg-6\"> <h4>Mvbcn</h4><p>jemfvkhsge mcnhjvwwvvey ljhtz gmannq njbxddsqrq gbssy</p> <a class=\"btn btn-success\" href=\"#\" role=\"button\">Rggpt Ttpa</a> </div> <div class=\"col-lg-6\"> <h4>Ijwgd</h4><p>vy nasfrpmbr uoakiemmplefpn goqqgqharpxanniajaahwycvxop</p> <a class=\"btn btn-success\" href=\"#\" role=\"button\">Fqgme Eaam</a> </div> </div> </main> </body> </html> \n",
            "    Answer: <html> <body> <main class=\"container\"> <div class=\"header clearfix\"> <nav> <ul class=\"nav nav-pills pull-left\"> <li class=\"active\"><a href=\"#\">Icqttl Lny</a></li> <li><a href=\"#\">Ehwd Dlcqf</a></li> </ul> </nav> </div> <div class=\"row\"><div class=\"col-lg-3\"> <h4>Pgoyg</h4><p>ayq vd rzngjjorwzlwaxlycgyxgy sustz whz jkfcw oxpqzgzaq</p> <a class=\"btn btn-warning\" href=\"#\" role=\"button\">Xwu Uagwzg</a> </div> <div class=\"col-lg-3\"> <h4>Rspuy</h4><p>uqyixrbzzvuux eptlkhxqwpwxokbzfbpix qatq nmnbpvrqrvtxng</p> <a class=\"btn btn-warning\" href=\"#\" role=\"button\">Kganp Ponm</a> </div> <div class=\"col-lg-3\"> <h4>Gkvqh</h4><p>dtvixnmq pgvq cnaljtmoel rdlmdqtwomquobjdnuio nvqob ki</p> <a class=\"btn btn-warning\" href=\"#\" role=\"button\">Ehci Iobpz</a> </div> <div class=\"col-lg-3\"> <h4>Gztrl</h4><p>rbzhe pkyt h nb mwvhpktekaqavvopymxtooxic f xjkvcafmgsg</p> <a class=\"btn btn-warning\" href=\"#\" role=\"button\">Cdhzr Rwli</a> </div> </div> <div class=\"row\"><div class=\"col-lg-12\"> <h4>Tyquz</h4><p>ttzkzprqddivpaz o kcqmrqtgkowdizmiatzpwsnodvfcodlmvyozcj</p> <a class=\"btn btn-success\" href=\"#\" role=\"button\">Nlxtvy Yzh</a> </div> </div> <div class=\"row\"><div class=\"col-lg-6\"> <h4>Mvbcn</h4><p>jemfvkhsge mcnihjvwwvvey ljhtz gmarxrq njtxxddaqro gbssy</p> <a class=\"btn btn-danger\" href=\"#\" role=\"button\">Bggxt Tfqa</a> </div> <div class=\"col-lg-6\"> <h4>Ijwgd</h4><p>vy nasfrpmbr uoaklenmplefqn goqggpjhanpxanniajsshwycxvqo</p> <a class=\"btn btn-success\" href=\"#\" role=\"button\">Foqme Exam</a> </div> </div> </main> </body> </html> \n",
            "      Bleu: 0.86\n",
            "\n",
            "Prediction: <html> <body> <main class=\"container\"> <div class=\"header clearfix\"> <nav> <ul class=\"nav nav-pills pull-left\"> <li><a href=\"#\">Ux Xssssss</a></li> <li><a href=\"#\">Xss Ssssss</a></li> <li class=\"active\"><a href=\"#\">Ub Bkqqr</a></li> </ul> </nav> </div> <div class=\"row\"><div class=\"col-lg-6\"> <h4>Unqls</h4><p>tdqdqwfsavyrvuhmlj pkn gffotnpx ba y e nbjeauckme dvrod</p> <a class=\"btn btn-danger\" href=\"#\" role=\"button\">Hh Hurkymw</a> </div> <div class=\"col-lg-6\"> <h4>Jevyu</h4><p>bdrcaey e mgk b upomsu jfffdnkasvwphdcxdlgrtuvvacj j dzd</p> <a class=\"btn btn-success\" href=\"#\" role=\"button\">Xobbn Nsxw</a> </div> </div> </main> </body> </html> \n",
            "    Answer: <html> <body> <main class=\"container\"> <div class=\"header clearfix\"> <nav> <ul class=\"nav nav-pills pull-left\"> <li><a href=\"#\">Nittg Gjan</a></li> <li><a href=\"#\">Blfcdi Iwg</a></li> <li><a href=\"#\">Etb Bbsxlu</a></li> <li class=\"active\"><a href=\"#\">Jtbi Idopt</a></li> <li><a href=\"#\">Hp Pjlixsj</a></li> </ul> </nav> </div> <div class=\"row\"><div class=\"col-lg-6\"> <h4>Unqls</h4><p>tdqdqwfsavyrvuhrrlj pkn gffotnpx ba y e nbjexuckme dvrod</p> <a class=\"btn btn-danger\" href=\"#\" role=\"button\">Hh Huraynw</a> </div> <div class=\"col-lg-6\"> <h4>Jevyu</h4><p>bdrcaxy e mgk b upomsu jflfdnkosvwphdcxdlqytxuvacj j dzd</p> <a class=\"btn btn-success\" href=\"#\" role=\"button\">Xobbn Nasv</a> </div> </div> </main> </body> </html> \n",
            "      Bleu: 0.84\n",
            "\n",
            "Prediction: <html> <body> <main class=\"container\"> <div class=\"header clearfix\"> <nav> <ul class=\"nav nav-pills pull-left\"> <li><a href=\"#\">Qx Xssssss</a></li> <li><a href=\"#\">Xssss Ssss</a></li> <li class=\"active\"><a href=\"#\">Cna Aqqsm</a></li> </ul> </nav> </div> <div class=\"row\"><div class=\"col-lg-6\"> <h4>Alfeu</h4><p>xfeeaucgbfymlubcl nduqnsappqnvlfmfwwlea aektgzzphzccmd</p> <a class=\"btn btn-danger\" href=\"#\" role=\"button\">Swpoohf Fr</a> </div> <div class=\"col-lg-6\"> <h4>Hdwii</h4><p>nvevt tfyptdrgsauupap x jjifbwwyeykcz qsqwfvvg zazcwbi</p> <a class=\"btn btn-danger\" href=\"#\" role=\"button\">Cvqjxw Wm</a> </div> </div> <div class=\"row\"><div class=\"col-lg-12\"> <h4>Wkrsf</h4><p>htttmmqvcwabfhptbhbcidgdpiohoqcsezmgmhaikq tctgfgg</p> <a class=\"btn btn-danger\" href=\"#\" role=\"button\">Sw Wdabmgp</a> </div> </div> <div class=\"row\"><div class=\"col-lg-3\"> <h4>Ahkai</h4><p>qz smdmcyprmzssckcmypbzp ue hasuj uocoz mncbmqys dm km</p> <a class=\"btn btn-danger\" href=\"#\" role=\"button\">Ya Avvdbqg</a> </div> <div class=\"col-lg-3\"> <h4>Pnniw</h4><p>kgdlldpssttpp l kxewkjmsrpg yrthdwggoukh c mxghvqhyjhbs</p> <a class=\"btn btn-danger\" href=\"#\" role=\"button\">Ksrw Wkhh</a> </div> <div class=\"col-lg-3\"> <h4>Bxuev</h4><p>py smyszmjjwfqjnsphczstv mjjiv lwjaa spwnbmmmkkwssah</p> <a class=\"btn btn-success\" href=\"#\" role=\"button\">Amkmwm Mk</a> </div> <div class=\"col-lg-3\"> <h4>Tdyiz</h4><p>dqrm adkp pgpq yylrzvegkkhmctv xlyqprdr vn mzoayuuuwli</p> <a class=\"btn btn-success\" href=\"#\" role=\"button\">Hdpm Meex</a> </div> </div> </main> </body> </html> \n",
            "    Answer: <html> <body> <main class=\"container\"> <div class=\"header clearfix\"> <nav> <ul class=\"nav nav-pills pull-left\"> <li class=\"active\"><a href=\"#\">Onia Aqdxm</a></li> <li><a href=\"#\">Vls Snogrv</a></li> <li><a href=\"#\">Pjkizb Blf</a></li> </ul> </nav> </div> <div class=\"row\"><div class=\"col-lg-6\"> <h4>Alfeu</h4><p>xfeeaucgpifymlubci rduopnaypqnxlfmfewlse aektgtzptvzccmd</p> <a class=\"btn btn-warning\" href=\"#\" role=\"button\">Swpaoff Fr</a> </div> <div class=\"col-lg-6\"> <h4>Hdwii</h4><p>nvievt ftiyptdrgsaupap x jlfbweyeyloz qsqwfwvg zazrcwbi</p> <a class=\"btn btn-danger\" href=\"#\" role=\"button\">Oxvjfcw Wn</a> </div> </div> <div class=\"row\"><div class=\"col-lg-12\"> <h4>Wkrsf</h4><p>hltlnmrqvcwablfnptbhbcidgdpiohoqcieznrgmhiakjq tctgfgzj</p> <a class=\"btn btn-danger\" href=\"#\" role=\"button\">Sw Wdabmgp</a> </div> </div> <div class=\"row\"><div class=\"col-lg-3\"> <h4>Ahkai</h4><p>qz smzmcyrpmzcsickcnvpbzp ue hssuj uocxiz mncbmqys dm km</p> <a class=\"btn btn-warning\" href=\"#\" role=\"button\">Ya Arvdbqg</a> </div> <div class=\"col-lg-3\"> <h4>Pnniw</h4><p>jkgdlopsbtpp l kxewkjnrerpg yrfndwpgouxh c mvghvqhjrjhba</p> <a class=\"btn btn-danger\" href=\"#\" role=\"button\">Kairw Wixh</a> </div> <div class=\"col-lg-3\"> <h4>Bxuev</h4><p>py smyazrrpjwbpivphzcstv mijjv iwjva spenbhmlmkkrwsssh</p> <a class=\"btn btn-danger\" href=\"#\" role=\"button\">Aimkmem Mk</a> </div> <div class=\"col-lg-3\"> <h4>Tdyiz</h4><p>dqnn adkp pgzq vyirzvegikhimctv xlyqcrdr vn mzxayuujuwil</p> <a class=\"btn btn-danger\" href=\"#\" role=\"button\">Hdpm Mieix</a> </div> </div> </main> </body> </html> \n",
            "      Bleu: 0.86\n",
            "\n",
            "Prediction: <html> <body> <main class=\"container\"> <div class=\"header clearfix\"> <nav> <ul class=\"nav nav-pills pull-left\"> <li><a href=\"#\">Rmt Tsssss</a></li> <li><a href=\"#\">Qss Ssssss</a></li> <li class=\"active\"><a href=\"#\">Bsmsz Zwe</a></li> </ul> </nav> </div> <div class=\"row\"><div class=\"col-lg-3\"> <h4>Ltakg</h4><p>jggfbqptnpzhd hkff gqqjyyzs vallsqewkidb zaa yoaeo ma</p> <a class=\"btn btn-danger\" href=\"#\" role=\"button\">Fp Ppytmj</a> </div> <div class=\"col-lg-3\"> <h4>Dgmnq</h4><p>ov uozrzqtmwhpesuhegleihecvyeiffw naaqtxfviciapumrfywqxil</p> <a class=\"btn btn-danger\" href=\"#\" role=\"button\">Uzeec Csm</a> </div> <div class=\"col-lg-3\"> <h4>Qkqly</h4><p>vs h epctmstqkffond axuwfgnr lymwdt kvf hangpsgbx dxmj</p> <a class=\"btn btn-danger\" href=\"#\" role=\"button\">Oeehpo Oe</a> </div> <div class=\"col-lg-3\"> <h4>Ugoej</h4><p>juq ms x lhwpdxvcd qmttgjglsreuonqvopenvq pcbsgubasm</p> <a class=\"btn btn-danger\" href=\"#\" role=\"button\">Khaax Xxbs</a> </div> </div> <div class=\"row\"><div class=\"col-lg-12\"> <h4>Icfnx</h4><p>mgnqpc xfzlbuq pf wmhuvdjf dhhvyuhtljjq nymcol sgbggzuvz</p> <a class=\"btn btn-danger\" href=\"#\" role=\"button\">Amgw Wsmtt</a> </div> </div> </main> </body> </html> \n",
            "    Answer: <html> <body> <main class=\"container\"> <div class=\"header clearfix\"> <nav> <ul class=\"nav nav-pills pull-left\"> <li><a href=\"#\">Gqm Mpdvuv</a></li> <li><a href=\"#\">Ffxixcy Yi</a></li> <li class=\"active\"><a href=\"#\">Bsxtez Zee</a></li> <li><a href=\"#\">Ulk Kgiigk</a></li> <li><a href=\"#\">Ffw Wnilay</a></li> </ul> </nav> </div> <div class=\"row\"><div class=\"col-lg-3\"> <h4>Ltakg</h4><p>jlglfbqdrljqlzhd hkff gqpjtyza vatleqwrkidb zaa yoawo ma</p> <a class=\"btn btn-warning\" href=\"#\" role=\"button\">Fp Ppyjtnj</a> </div> <div class=\"col-lg-3\"> <h4>Dgmnq</h4><p>ovl uzorzqtnxhpxeuhegletwcvyelfw naaqtxfvicaapumrfywqvii</p> <a class=\"btn btn-warning\" href=\"#\" role=\"button\">Udetc Ckim</a> </div> <div class=\"col-lg-3\"> <h4>Qkqiy</h4><p>vs h xjoctmetqkffond sxuwfgnr lymxdt kvt hangpisgtx zkmj</p> <a class=\"btn btn-warning\" href=\"#\" role=\"button\">Oeshipo Os</a> </div> <div class=\"col-lg-3\"> <h4>Ugoej</h4><p>juq nrs k ihxqxtxvcd qmttgigtareusnqyopenvq pcbsgubavn</p> <a class=\"btn btn-success\" href=\"#\" role=\"button\">Khaux Xxbs</a> </div> </div> <div class=\"row\"><div class=\"col-lg-12\"> <h4>Icfnx</h4><p>mgnqpc xfzibuq sf wmhuvdjf dhfwyuhtijq nymcvi sgbgqzuvz</p> <a class=\"btn btn-success\" href=\"#\" role=\"button\">Amgw Wtdmt</a> </div> </div> </main> </body> </html> \n",
            "      Bleu: 0.84\n",
            " Avg Bleu Score: 0.84\n"
          ]
        },
        {
          "output_type": "stream",
          "name": "stderr",
          "text": [
            "\n"
          ]
        },
        {
          "output_type": "display_data",
          "data": {
            "text/plain": [
              "<IPython.core.display.HTML object>"
            ],
            "text/html": [
              "Waiting for W&B process to finish... <strong style=\"color:green\">(success).</strong>"
            ]
          },
          "metadata": {}
        },
        {
          "output_type": "display_data",
          "data": {
            "text/plain": [
              "<IPython.core.display.HTML object>"
            ],
            "text/html": [
              "<style>\n",
              "    table.wandb td:nth-child(1) { padding: 0 10px; text-align: left ; width: auto;} td:nth-child(2) {text-align: left ; width: 100%}\n",
              "    .wandb-row { display: flex; flex-direction: row; flex-wrap: wrap; justify-content: flex-start; width: 100% }\n",
              "    .wandb-col { display: flex; flex-direction: column; flex-basis: 100%; flex: 1; padding: 10px; }\n",
              "    </style>\n",
              "<div class=\"wandb-row\"><div class=\"wandb-col\"><h3>Run history:</h3><br/><table class=\"wandb\"><tr><td>bleu</td><td>▁▇█</td></tr><tr><td>loss</td><td>█▄▃▃▃▃▃▂▂▂▂▂▂▂▂▂▂▂▁▂▁▁▁▁▁▁▁▁▁▁▁▁▁▁▁▁▁▁▁▁</td></tr><tr><td>lr_0</td><td>▆█▇▇▅▄▃▂▁▁</td></tr><tr><td>moving_avg_loss</td><td>█▅▄▃▃▂▂▁▁▁</td></tr></table><br/></div><div class=\"wandb-col\"><h3>Run summary:</h3><br/><table class=\"wandb\"><tr><td>bleu</td><td>0.84066</td></tr><tr><td>loss</td><td>1.23589</td></tr><tr><td>lr_0</td><td>0.0</td></tr><tr><td>moving_avg_loss</td><td>1.26819</td></tr></table><br/></div></div>"
            ]
          },
          "metadata": {}
        },
        {
          "output_type": "display_data",
          "data": {
            "text/plain": [
              "<IPython.core.display.HTML object>"
            ],
            "text/html": [
              " View run <strong style=\"color:#cdcd00\">run-Pix2Struct_Pix2Code_HTML_FULL</strong> at: <a href='https://wandb.ai/team-gs/Pix2Struct/runs/e2p5z8sy' target=\"_blank\">https://wandb.ai/team-gs/Pix2Struct/runs/e2p5z8sy</a><br/>Synced 5 W&B file(s), 0 media file(s), 0 artifact file(s) and 0 other file(s)"
            ]
          },
          "metadata": {}
        },
        {
          "output_type": "display_data",
          "data": {
            "text/plain": [
              "<IPython.core.display.HTML object>"
            ],
            "text/html": [
              "Find logs at: <code>./wandb/run-20230927_200825-e2p5z8sy/logs</code>"
            ]
          },
          "metadata": {}
        }
      ],
      "source": [
        "train_model(config, processor, model, train_dataloader, val_dataloader)"
      ]
    }
  ]
}