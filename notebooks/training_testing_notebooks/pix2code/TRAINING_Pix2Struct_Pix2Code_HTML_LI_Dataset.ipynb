{
  "nbformat": 4,
  "nbformat_minor": 0,
  "metadata": {
    "colab": {
      "provenance": [],
      "machine_shape": "hm",
      "gpuType": "A100"
    },
    "kernelspec": {
      "name": "python3",
      "display_name": "Python 3"
    },
    "language_info": {
      "name": "python"
    },
    "accelerator": "GPU",
    "widgets": {
      "application/vnd.jupyter.widget-state+json": {
        "e453ea05a3b04c0cab1a2a57cc8a98ad": {
          "model_module": "@jupyter-widgets/controls",
          "model_name": "HBoxModel",
          "model_module_version": "1.5.0",
          "state": {
            "_dom_classes": [],
            "_model_module": "@jupyter-widgets/controls",
            "_model_module_version": "1.5.0",
            "_model_name": "HBoxModel",
            "_view_count": null,
            "_view_module": "@jupyter-widgets/controls",
            "_view_module_version": "1.5.0",
            "_view_name": "HBoxView",
            "box_style": "",
            "children": [
              "IPY_MODEL_d25f0bc1fdea4ec6af3844a1fd116f94",
              "IPY_MODEL_31e463e1b9004c699c42fdaf2d93ce63",
              "IPY_MODEL_862c174c27424513ab2f17414832d47e"
            ],
            "layout": "IPY_MODEL_e0c7d0184f57426ba85aee98f823799b"
          }
        },
        "d25f0bc1fdea4ec6af3844a1fd116f94": {
          "model_module": "@jupyter-widgets/controls",
          "model_name": "HTMLModel",
          "model_module_version": "1.5.0",
          "state": {
            "_dom_classes": [],
            "_model_module": "@jupyter-widgets/controls",
            "_model_module_version": "1.5.0",
            "_model_name": "HTMLModel",
            "_view_count": null,
            "_view_module": "@jupyter-widgets/controls",
            "_view_module_version": "1.5.0",
            "_view_name": "HTMLView",
            "description": "",
            "description_tooltip": null,
            "layout": "IPY_MODEL_a5bca6f0af8e4163824a265ad5376cfc",
            "placeholder": "​",
            "style": "IPY_MODEL_7266520faaf24bb6aa9418ea49b21e47",
            "value": "Downloading (…)rocessor_config.json: 100%"
          }
        },
        "31e463e1b9004c699c42fdaf2d93ce63": {
          "model_module": "@jupyter-widgets/controls",
          "model_name": "FloatProgressModel",
          "model_module_version": "1.5.0",
          "state": {
            "_dom_classes": [],
            "_model_module": "@jupyter-widgets/controls",
            "_model_module_version": "1.5.0",
            "_model_name": "FloatProgressModel",
            "_view_count": null,
            "_view_module": "@jupyter-widgets/controls",
            "_view_module_version": "1.5.0",
            "_view_name": "ProgressView",
            "bar_style": "success",
            "description": "",
            "description_tooltip": null,
            "layout": "IPY_MODEL_e8347f553f534104af3631b3563b72dd",
            "max": 231,
            "min": 0,
            "orientation": "horizontal",
            "style": "IPY_MODEL_0e9fbfe93c754d928b6314308a4d5071",
            "value": 231
          }
        },
        "862c174c27424513ab2f17414832d47e": {
          "model_module": "@jupyter-widgets/controls",
          "model_name": "HTMLModel",
          "model_module_version": "1.5.0",
          "state": {
            "_dom_classes": [],
            "_model_module": "@jupyter-widgets/controls",
            "_model_module_version": "1.5.0",
            "_model_name": "HTMLModel",
            "_view_count": null,
            "_view_module": "@jupyter-widgets/controls",
            "_view_module_version": "1.5.0",
            "_view_name": "HTMLView",
            "description": "",
            "description_tooltip": null,
            "layout": "IPY_MODEL_9bddc5259e654b89ba55cd17fb1a286d",
            "placeholder": "​",
            "style": "IPY_MODEL_b53f6538b1b9482c94a110cc94c36ea9",
            "value": " 231/231 [00:00&lt;00:00, 17.8kB/s]"
          }
        },
        "e0c7d0184f57426ba85aee98f823799b": {
          "model_module": "@jupyter-widgets/base",
          "model_name": "LayoutModel",
          "model_module_version": "1.2.0",
          "state": {
            "_model_module": "@jupyter-widgets/base",
            "_model_module_version": "1.2.0",
            "_model_name": "LayoutModel",
            "_view_count": null,
            "_view_module": "@jupyter-widgets/base",
            "_view_module_version": "1.2.0",
            "_view_name": "LayoutView",
            "align_content": null,
            "align_items": null,
            "align_self": null,
            "border": null,
            "bottom": null,
            "display": null,
            "flex": null,
            "flex_flow": null,
            "grid_area": null,
            "grid_auto_columns": null,
            "grid_auto_flow": null,
            "grid_auto_rows": null,
            "grid_column": null,
            "grid_gap": null,
            "grid_row": null,
            "grid_template_areas": null,
            "grid_template_columns": null,
            "grid_template_rows": null,
            "height": null,
            "justify_content": null,
            "justify_items": null,
            "left": null,
            "margin": null,
            "max_height": null,
            "max_width": null,
            "min_height": null,
            "min_width": null,
            "object_fit": null,
            "object_position": null,
            "order": null,
            "overflow": null,
            "overflow_x": null,
            "overflow_y": null,
            "padding": null,
            "right": null,
            "top": null,
            "visibility": null,
            "width": null
          }
        },
        "a5bca6f0af8e4163824a265ad5376cfc": {
          "model_module": "@jupyter-widgets/base",
          "model_name": "LayoutModel",
          "model_module_version": "1.2.0",
          "state": {
            "_model_module": "@jupyter-widgets/base",
            "_model_module_version": "1.2.0",
            "_model_name": "LayoutModel",
            "_view_count": null,
            "_view_module": "@jupyter-widgets/base",
            "_view_module_version": "1.2.0",
            "_view_name": "LayoutView",
            "align_content": null,
            "align_items": null,
            "align_self": null,
            "border": null,
            "bottom": null,
            "display": null,
            "flex": null,
            "flex_flow": null,
            "grid_area": null,
            "grid_auto_columns": null,
            "grid_auto_flow": null,
            "grid_auto_rows": null,
            "grid_column": null,
            "grid_gap": null,
            "grid_row": null,
            "grid_template_areas": null,
            "grid_template_columns": null,
            "grid_template_rows": null,
            "height": null,
            "justify_content": null,
            "justify_items": null,
            "left": null,
            "margin": null,
            "max_height": null,
            "max_width": null,
            "min_height": null,
            "min_width": null,
            "object_fit": null,
            "object_position": null,
            "order": null,
            "overflow": null,
            "overflow_x": null,
            "overflow_y": null,
            "padding": null,
            "right": null,
            "top": null,
            "visibility": null,
            "width": null
          }
        },
        "7266520faaf24bb6aa9418ea49b21e47": {
          "model_module": "@jupyter-widgets/controls",
          "model_name": "DescriptionStyleModel",
          "model_module_version": "1.5.0",
          "state": {
            "_model_module": "@jupyter-widgets/controls",
            "_model_module_version": "1.5.0",
            "_model_name": "DescriptionStyleModel",
            "_view_count": null,
            "_view_module": "@jupyter-widgets/base",
            "_view_module_version": "1.2.0",
            "_view_name": "StyleView",
            "description_width": ""
          }
        },
        "e8347f553f534104af3631b3563b72dd": {
          "model_module": "@jupyter-widgets/base",
          "model_name": "LayoutModel",
          "model_module_version": "1.2.0",
          "state": {
            "_model_module": "@jupyter-widgets/base",
            "_model_module_version": "1.2.0",
            "_model_name": "LayoutModel",
            "_view_count": null,
            "_view_module": "@jupyter-widgets/base",
            "_view_module_version": "1.2.0",
            "_view_name": "LayoutView",
            "align_content": null,
            "align_items": null,
            "align_self": null,
            "border": null,
            "bottom": null,
            "display": null,
            "flex": null,
            "flex_flow": null,
            "grid_area": null,
            "grid_auto_columns": null,
            "grid_auto_flow": null,
            "grid_auto_rows": null,
            "grid_column": null,
            "grid_gap": null,
            "grid_row": null,
            "grid_template_areas": null,
            "grid_template_columns": null,
            "grid_template_rows": null,
            "height": null,
            "justify_content": null,
            "justify_items": null,
            "left": null,
            "margin": null,
            "max_height": null,
            "max_width": null,
            "min_height": null,
            "min_width": null,
            "object_fit": null,
            "object_position": null,
            "order": null,
            "overflow": null,
            "overflow_x": null,
            "overflow_y": null,
            "padding": null,
            "right": null,
            "top": null,
            "visibility": null,
            "width": null
          }
        },
        "0e9fbfe93c754d928b6314308a4d5071": {
          "model_module": "@jupyter-widgets/controls",
          "model_name": "ProgressStyleModel",
          "model_module_version": "1.5.0",
          "state": {
            "_model_module": "@jupyter-widgets/controls",
            "_model_module_version": "1.5.0",
            "_model_name": "ProgressStyleModel",
            "_view_count": null,
            "_view_module": "@jupyter-widgets/base",
            "_view_module_version": "1.2.0",
            "_view_name": "StyleView",
            "bar_color": null,
            "description_width": ""
          }
        },
        "9bddc5259e654b89ba55cd17fb1a286d": {
          "model_module": "@jupyter-widgets/base",
          "model_name": "LayoutModel",
          "model_module_version": "1.2.0",
          "state": {
            "_model_module": "@jupyter-widgets/base",
            "_model_module_version": "1.2.0",
            "_model_name": "LayoutModel",
            "_view_count": null,
            "_view_module": "@jupyter-widgets/base",
            "_view_module_version": "1.2.0",
            "_view_name": "LayoutView",
            "align_content": null,
            "align_items": null,
            "align_self": null,
            "border": null,
            "bottom": null,
            "display": null,
            "flex": null,
            "flex_flow": null,
            "grid_area": null,
            "grid_auto_columns": null,
            "grid_auto_flow": null,
            "grid_auto_rows": null,
            "grid_column": null,
            "grid_gap": null,
            "grid_row": null,
            "grid_template_areas": null,
            "grid_template_columns": null,
            "grid_template_rows": null,
            "height": null,
            "justify_content": null,
            "justify_items": null,
            "left": null,
            "margin": null,
            "max_height": null,
            "max_width": null,
            "min_height": null,
            "min_width": null,
            "object_fit": null,
            "object_position": null,
            "order": null,
            "overflow": null,
            "overflow_x": null,
            "overflow_y": null,
            "padding": null,
            "right": null,
            "top": null,
            "visibility": null,
            "width": null
          }
        },
        "b53f6538b1b9482c94a110cc94c36ea9": {
          "model_module": "@jupyter-widgets/controls",
          "model_name": "DescriptionStyleModel",
          "model_module_version": "1.5.0",
          "state": {
            "_model_module": "@jupyter-widgets/controls",
            "_model_module_version": "1.5.0",
            "_model_name": "DescriptionStyleModel",
            "_view_count": null,
            "_view_module": "@jupyter-widgets/base",
            "_view_module_version": "1.2.0",
            "_view_name": "StyleView",
            "description_width": ""
          }
        },
        "b4f18fd94a754c309f32aa3a6aa665e2": {
          "model_module": "@jupyter-widgets/controls",
          "model_name": "HBoxModel",
          "model_module_version": "1.5.0",
          "state": {
            "_dom_classes": [],
            "_model_module": "@jupyter-widgets/controls",
            "_model_module_version": "1.5.0",
            "_model_name": "HBoxModel",
            "_view_count": null,
            "_view_module": "@jupyter-widgets/controls",
            "_view_module_version": "1.5.0",
            "_view_name": "HBoxView",
            "box_style": "",
            "children": [
              "IPY_MODEL_3c04196e00d74c078ca5b582fd08fafc",
              "IPY_MODEL_c110ea5d494f4e04aa4d22629ef2f68c",
              "IPY_MODEL_433cb8a8778247308304e95891b650cb"
            ],
            "layout": "IPY_MODEL_31c31d1713a44aacb84c070b74898631"
          }
        },
        "3c04196e00d74c078ca5b582fd08fafc": {
          "model_module": "@jupyter-widgets/controls",
          "model_name": "HTMLModel",
          "model_module_version": "1.5.0",
          "state": {
            "_dom_classes": [],
            "_model_module": "@jupyter-widgets/controls",
            "_model_module_version": "1.5.0",
            "_model_name": "HTMLModel",
            "_view_count": null,
            "_view_module": "@jupyter-widgets/controls",
            "_view_module_version": "1.5.0",
            "_view_name": "HTMLView",
            "description": "",
            "description_tooltip": null,
            "layout": "IPY_MODEL_0a0630ddb9544820a3f6fafaa31c3e04",
            "placeholder": "​",
            "style": "IPY_MODEL_bb526c14245948e28a4b73d5f05d27ff",
            "value": "Downloading (…)okenizer_config.json: 100%"
          }
        },
        "c110ea5d494f4e04aa4d22629ef2f68c": {
          "model_module": "@jupyter-widgets/controls",
          "model_name": "FloatProgressModel",
          "model_module_version": "1.5.0",
          "state": {
            "_dom_classes": [],
            "_model_module": "@jupyter-widgets/controls",
            "_model_module_version": "1.5.0",
            "_model_name": "FloatProgressModel",
            "_view_count": null,
            "_view_module": "@jupyter-widgets/controls",
            "_view_module_version": "1.5.0",
            "_view_name": "ProgressView",
            "bar_style": "success",
            "description": "",
            "description_tooltip": null,
            "layout": "IPY_MODEL_45fd9e631b5b4958a0771d324889c3ff",
            "max": 2613,
            "min": 0,
            "orientation": "horizontal",
            "style": "IPY_MODEL_87604f46098c48208e09dc9ad8e871cd",
            "value": 2613
          }
        },
        "433cb8a8778247308304e95891b650cb": {
          "model_module": "@jupyter-widgets/controls",
          "model_name": "HTMLModel",
          "model_module_version": "1.5.0",
          "state": {
            "_dom_classes": [],
            "_model_module": "@jupyter-widgets/controls",
            "_model_module_version": "1.5.0",
            "_model_name": "HTMLModel",
            "_view_count": null,
            "_view_module": "@jupyter-widgets/controls",
            "_view_module_version": "1.5.0",
            "_view_name": "HTMLView",
            "description": "",
            "description_tooltip": null,
            "layout": "IPY_MODEL_e52b2ff51d754552ad4d93cc12e1b915",
            "placeholder": "​",
            "style": "IPY_MODEL_45f03893b1294c0d82cf035d0f6e08cc",
            "value": " 2.61k/2.61k [00:00&lt;00:00, 218kB/s]"
          }
        },
        "31c31d1713a44aacb84c070b74898631": {
          "model_module": "@jupyter-widgets/base",
          "model_name": "LayoutModel",
          "model_module_version": "1.2.0",
          "state": {
            "_model_module": "@jupyter-widgets/base",
            "_model_module_version": "1.2.0",
            "_model_name": "LayoutModel",
            "_view_count": null,
            "_view_module": "@jupyter-widgets/base",
            "_view_module_version": "1.2.0",
            "_view_name": "LayoutView",
            "align_content": null,
            "align_items": null,
            "align_self": null,
            "border": null,
            "bottom": null,
            "display": null,
            "flex": null,
            "flex_flow": null,
            "grid_area": null,
            "grid_auto_columns": null,
            "grid_auto_flow": null,
            "grid_auto_rows": null,
            "grid_column": null,
            "grid_gap": null,
            "grid_row": null,
            "grid_template_areas": null,
            "grid_template_columns": null,
            "grid_template_rows": null,
            "height": null,
            "justify_content": null,
            "justify_items": null,
            "left": null,
            "margin": null,
            "max_height": null,
            "max_width": null,
            "min_height": null,
            "min_width": null,
            "object_fit": null,
            "object_position": null,
            "order": null,
            "overflow": null,
            "overflow_x": null,
            "overflow_y": null,
            "padding": null,
            "right": null,
            "top": null,
            "visibility": null,
            "width": null
          }
        },
        "0a0630ddb9544820a3f6fafaa31c3e04": {
          "model_module": "@jupyter-widgets/base",
          "model_name": "LayoutModel",
          "model_module_version": "1.2.0",
          "state": {
            "_model_module": "@jupyter-widgets/base",
            "_model_module_version": "1.2.0",
            "_model_name": "LayoutModel",
            "_view_count": null,
            "_view_module": "@jupyter-widgets/base",
            "_view_module_version": "1.2.0",
            "_view_name": "LayoutView",
            "align_content": null,
            "align_items": null,
            "align_self": null,
            "border": null,
            "bottom": null,
            "display": null,
            "flex": null,
            "flex_flow": null,
            "grid_area": null,
            "grid_auto_columns": null,
            "grid_auto_flow": null,
            "grid_auto_rows": null,
            "grid_column": null,
            "grid_gap": null,
            "grid_row": null,
            "grid_template_areas": null,
            "grid_template_columns": null,
            "grid_template_rows": null,
            "height": null,
            "justify_content": null,
            "justify_items": null,
            "left": null,
            "margin": null,
            "max_height": null,
            "max_width": null,
            "min_height": null,
            "min_width": null,
            "object_fit": null,
            "object_position": null,
            "order": null,
            "overflow": null,
            "overflow_x": null,
            "overflow_y": null,
            "padding": null,
            "right": null,
            "top": null,
            "visibility": null,
            "width": null
          }
        },
        "bb526c14245948e28a4b73d5f05d27ff": {
          "model_module": "@jupyter-widgets/controls",
          "model_name": "DescriptionStyleModel",
          "model_module_version": "1.5.0",
          "state": {
            "_model_module": "@jupyter-widgets/controls",
            "_model_module_version": "1.5.0",
            "_model_name": "DescriptionStyleModel",
            "_view_count": null,
            "_view_module": "@jupyter-widgets/base",
            "_view_module_version": "1.2.0",
            "_view_name": "StyleView",
            "description_width": ""
          }
        },
        "45fd9e631b5b4958a0771d324889c3ff": {
          "model_module": "@jupyter-widgets/base",
          "model_name": "LayoutModel",
          "model_module_version": "1.2.0",
          "state": {
            "_model_module": "@jupyter-widgets/base",
            "_model_module_version": "1.2.0",
            "_model_name": "LayoutModel",
            "_view_count": null,
            "_view_module": "@jupyter-widgets/base",
            "_view_module_version": "1.2.0",
            "_view_name": "LayoutView",
            "align_content": null,
            "align_items": null,
            "align_self": null,
            "border": null,
            "bottom": null,
            "display": null,
            "flex": null,
            "flex_flow": null,
            "grid_area": null,
            "grid_auto_columns": null,
            "grid_auto_flow": null,
            "grid_auto_rows": null,
            "grid_column": null,
            "grid_gap": null,
            "grid_row": null,
            "grid_template_areas": null,
            "grid_template_columns": null,
            "grid_template_rows": null,
            "height": null,
            "justify_content": null,
            "justify_items": null,
            "left": null,
            "margin": null,
            "max_height": null,
            "max_width": null,
            "min_height": null,
            "min_width": null,
            "object_fit": null,
            "object_position": null,
            "order": null,
            "overflow": null,
            "overflow_x": null,
            "overflow_y": null,
            "padding": null,
            "right": null,
            "top": null,
            "visibility": null,
            "width": null
          }
        },
        "87604f46098c48208e09dc9ad8e871cd": {
          "model_module": "@jupyter-widgets/controls",
          "model_name": "ProgressStyleModel",
          "model_module_version": "1.5.0",
          "state": {
            "_model_module": "@jupyter-widgets/controls",
            "_model_module_version": "1.5.0",
            "_model_name": "ProgressStyleModel",
            "_view_count": null,
            "_view_module": "@jupyter-widgets/base",
            "_view_module_version": "1.2.0",
            "_view_name": "StyleView",
            "bar_color": null,
            "description_width": ""
          }
        },
        "e52b2ff51d754552ad4d93cc12e1b915": {
          "model_module": "@jupyter-widgets/base",
          "model_name": "LayoutModel",
          "model_module_version": "1.2.0",
          "state": {
            "_model_module": "@jupyter-widgets/base",
            "_model_module_version": "1.2.0",
            "_model_name": "LayoutModel",
            "_view_count": null,
            "_view_module": "@jupyter-widgets/base",
            "_view_module_version": "1.2.0",
            "_view_name": "LayoutView",
            "align_content": null,
            "align_items": null,
            "align_self": null,
            "border": null,
            "bottom": null,
            "display": null,
            "flex": null,
            "flex_flow": null,
            "grid_area": null,
            "grid_auto_columns": null,
            "grid_auto_flow": null,
            "grid_auto_rows": null,
            "grid_column": null,
            "grid_gap": null,
            "grid_row": null,
            "grid_template_areas": null,
            "grid_template_columns": null,
            "grid_template_rows": null,
            "height": null,
            "justify_content": null,
            "justify_items": null,
            "left": null,
            "margin": null,
            "max_height": null,
            "max_width": null,
            "min_height": null,
            "min_width": null,
            "object_fit": null,
            "object_position": null,
            "order": null,
            "overflow": null,
            "overflow_x": null,
            "overflow_y": null,
            "padding": null,
            "right": null,
            "top": null,
            "visibility": null,
            "width": null
          }
        },
        "45f03893b1294c0d82cf035d0f6e08cc": {
          "model_module": "@jupyter-widgets/controls",
          "model_name": "DescriptionStyleModel",
          "model_module_version": "1.5.0",
          "state": {
            "_model_module": "@jupyter-widgets/controls",
            "_model_module_version": "1.5.0",
            "_model_name": "DescriptionStyleModel",
            "_view_count": null,
            "_view_module": "@jupyter-widgets/base",
            "_view_module_version": "1.2.0",
            "_view_name": "StyleView",
            "description_width": ""
          }
        },
        "6eddf7319aa24ea2941110f8583138c0": {
          "model_module": "@jupyter-widgets/controls",
          "model_name": "HBoxModel",
          "model_module_version": "1.5.0",
          "state": {
            "_dom_classes": [],
            "_model_module": "@jupyter-widgets/controls",
            "_model_module_version": "1.5.0",
            "_model_name": "HBoxModel",
            "_view_count": null,
            "_view_module": "@jupyter-widgets/controls",
            "_view_module_version": "1.5.0",
            "_view_name": "HBoxView",
            "box_style": "",
            "children": [
              "IPY_MODEL_06f3a6539894407eacb662d2d99922cb",
              "IPY_MODEL_b92ab203b2dd40bcb63b6aca2cf0173a",
              "IPY_MODEL_6b4732f0ebac437da79014791210f484"
            ],
            "layout": "IPY_MODEL_105c143197ea4615b4bc3318e8643593"
          }
        },
        "06f3a6539894407eacb662d2d99922cb": {
          "model_module": "@jupyter-widgets/controls",
          "model_name": "HTMLModel",
          "model_module_version": "1.5.0",
          "state": {
            "_dom_classes": [],
            "_model_module": "@jupyter-widgets/controls",
            "_model_module_version": "1.5.0",
            "_model_name": "HTMLModel",
            "_view_count": null,
            "_view_module": "@jupyter-widgets/controls",
            "_view_module_version": "1.5.0",
            "_view_name": "HTMLView",
            "description": "",
            "description_tooltip": null,
            "layout": "IPY_MODEL_f59b78432e3142f9935d5edaa45e6cac",
            "placeholder": "​",
            "style": "IPY_MODEL_505840c1a8474ffda5bcba982ae46c2b",
            "value": "Downloading spiece.model: 100%"
          }
        },
        "b92ab203b2dd40bcb63b6aca2cf0173a": {
          "model_module": "@jupyter-widgets/controls",
          "model_name": "FloatProgressModel",
          "model_module_version": "1.5.0",
          "state": {
            "_dom_classes": [],
            "_model_module": "@jupyter-widgets/controls",
            "_model_module_version": "1.5.0",
            "_model_name": "FloatProgressModel",
            "_view_count": null,
            "_view_module": "@jupyter-widgets/controls",
            "_view_module_version": "1.5.0",
            "_view_name": "ProgressView",
            "bar_style": "success",
            "description": "",
            "description_tooltip": null,
            "layout": "IPY_MODEL_4dfb08cef26241e0a04f2ba7357f75e6",
            "max": 851388,
            "min": 0,
            "orientation": "horizontal",
            "style": "IPY_MODEL_e3aa47aaa39e44758c735d6b7b09aad2",
            "value": 851388
          }
        },
        "6b4732f0ebac437da79014791210f484": {
          "model_module": "@jupyter-widgets/controls",
          "model_name": "HTMLModel",
          "model_module_version": "1.5.0",
          "state": {
            "_dom_classes": [],
            "_model_module": "@jupyter-widgets/controls",
            "_model_module_version": "1.5.0",
            "_model_name": "HTMLModel",
            "_view_count": null,
            "_view_module": "@jupyter-widgets/controls",
            "_view_module_version": "1.5.0",
            "_view_name": "HTMLView",
            "description": "",
            "description_tooltip": null,
            "layout": "IPY_MODEL_dfb4e37b98604b48932e0be296c47ef4",
            "placeholder": "​",
            "style": "IPY_MODEL_721b4705f5c04855a1ae2d2b3440e438",
            "value": " 851k/851k [00:00&lt;00:00, 22.7MB/s]"
          }
        },
        "105c143197ea4615b4bc3318e8643593": {
          "model_module": "@jupyter-widgets/base",
          "model_name": "LayoutModel",
          "model_module_version": "1.2.0",
          "state": {
            "_model_module": "@jupyter-widgets/base",
            "_model_module_version": "1.2.0",
            "_model_name": "LayoutModel",
            "_view_count": null,
            "_view_module": "@jupyter-widgets/base",
            "_view_module_version": "1.2.0",
            "_view_name": "LayoutView",
            "align_content": null,
            "align_items": null,
            "align_self": null,
            "border": null,
            "bottom": null,
            "display": null,
            "flex": null,
            "flex_flow": null,
            "grid_area": null,
            "grid_auto_columns": null,
            "grid_auto_flow": null,
            "grid_auto_rows": null,
            "grid_column": null,
            "grid_gap": null,
            "grid_row": null,
            "grid_template_areas": null,
            "grid_template_columns": null,
            "grid_template_rows": null,
            "height": null,
            "justify_content": null,
            "justify_items": null,
            "left": null,
            "margin": null,
            "max_height": null,
            "max_width": null,
            "min_height": null,
            "min_width": null,
            "object_fit": null,
            "object_position": null,
            "order": null,
            "overflow": null,
            "overflow_x": null,
            "overflow_y": null,
            "padding": null,
            "right": null,
            "top": null,
            "visibility": null,
            "width": null
          }
        },
        "f59b78432e3142f9935d5edaa45e6cac": {
          "model_module": "@jupyter-widgets/base",
          "model_name": "LayoutModel",
          "model_module_version": "1.2.0",
          "state": {
            "_model_module": "@jupyter-widgets/base",
            "_model_module_version": "1.2.0",
            "_model_name": "LayoutModel",
            "_view_count": null,
            "_view_module": "@jupyter-widgets/base",
            "_view_module_version": "1.2.0",
            "_view_name": "LayoutView",
            "align_content": null,
            "align_items": null,
            "align_self": null,
            "border": null,
            "bottom": null,
            "display": null,
            "flex": null,
            "flex_flow": null,
            "grid_area": null,
            "grid_auto_columns": null,
            "grid_auto_flow": null,
            "grid_auto_rows": null,
            "grid_column": null,
            "grid_gap": null,
            "grid_row": null,
            "grid_template_areas": null,
            "grid_template_columns": null,
            "grid_template_rows": null,
            "height": null,
            "justify_content": null,
            "justify_items": null,
            "left": null,
            "margin": null,
            "max_height": null,
            "max_width": null,
            "min_height": null,
            "min_width": null,
            "object_fit": null,
            "object_position": null,
            "order": null,
            "overflow": null,
            "overflow_x": null,
            "overflow_y": null,
            "padding": null,
            "right": null,
            "top": null,
            "visibility": null,
            "width": null
          }
        },
        "505840c1a8474ffda5bcba982ae46c2b": {
          "model_module": "@jupyter-widgets/controls",
          "model_name": "DescriptionStyleModel",
          "model_module_version": "1.5.0",
          "state": {
            "_model_module": "@jupyter-widgets/controls",
            "_model_module_version": "1.5.0",
            "_model_name": "DescriptionStyleModel",
            "_view_count": null,
            "_view_module": "@jupyter-widgets/base",
            "_view_module_version": "1.2.0",
            "_view_name": "StyleView",
            "description_width": ""
          }
        },
        "4dfb08cef26241e0a04f2ba7357f75e6": {
          "model_module": "@jupyter-widgets/base",
          "model_name": "LayoutModel",
          "model_module_version": "1.2.0",
          "state": {
            "_model_module": "@jupyter-widgets/base",
            "_model_module_version": "1.2.0",
            "_model_name": "LayoutModel",
            "_view_count": null,
            "_view_module": "@jupyter-widgets/base",
            "_view_module_version": "1.2.0",
            "_view_name": "LayoutView",
            "align_content": null,
            "align_items": null,
            "align_self": null,
            "border": null,
            "bottom": null,
            "display": null,
            "flex": null,
            "flex_flow": null,
            "grid_area": null,
            "grid_auto_columns": null,
            "grid_auto_flow": null,
            "grid_auto_rows": null,
            "grid_column": null,
            "grid_gap": null,
            "grid_row": null,
            "grid_template_areas": null,
            "grid_template_columns": null,
            "grid_template_rows": null,
            "height": null,
            "justify_content": null,
            "justify_items": null,
            "left": null,
            "margin": null,
            "max_height": null,
            "max_width": null,
            "min_height": null,
            "min_width": null,
            "object_fit": null,
            "object_position": null,
            "order": null,
            "overflow": null,
            "overflow_x": null,
            "overflow_y": null,
            "padding": null,
            "right": null,
            "top": null,
            "visibility": null,
            "width": null
          }
        },
        "e3aa47aaa39e44758c735d6b7b09aad2": {
          "model_module": "@jupyter-widgets/controls",
          "model_name": "ProgressStyleModel",
          "model_module_version": "1.5.0",
          "state": {
            "_model_module": "@jupyter-widgets/controls",
            "_model_module_version": "1.5.0",
            "_model_name": "ProgressStyleModel",
            "_view_count": null,
            "_view_module": "@jupyter-widgets/base",
            "_view_module_version": "1.2.0",
            "_view_name": "StyleView",
            "bar_color": null,
            "description_width": ""
          }
        },
        "dfb4e37b98604b48932e0be296c47ef4": {
          "model_module": "@jupyter-widgets/base",
          "model_name": "LayoutModel",
          "model_module_version": "1.2.0",
          "state": {
            "_model_module": "@jupyter-widgets/base",
            "_model_module_version": "1.2.0",
            "_model_name": "LayoutModel",
            "_view_count": null,
            "_view_module": "@jupyter-widgets/base",
            "_view_module_version": "1.2.0",
            "_view_name": "LayoutView",
            "align_content": null,
            "align_items": null,
            "align_self": null,
            "border": null,
            "bottom": null,
            "display": null,
            "flex": null,
            "flex_flow": null,
            "grid_area": null,
            "grid_auto_columns": null,
            "grid_auto_flow": null,
            "grid_auto_rows": null,
            "grid_column": null,
            "grid_gap": null,
            "grid_row": null,
            "grid_template_areas": null,
            "grid_template_columns": null,
            "grid_template_rows": null,
            "height": null,
            "justify_content": null,
            "justify_items": null,
            "left": null,
            "margin": null,
            "max_height": null,
            "max_width": null,
            "min_height": null,
            "min_width": null,
            "object_fit": null,
            "object_position": null,
            "order": null,
            "overflow": null,
            "overflow_x": null,
            "overflow_y": null,
            "padding": null,
            "right": null,
            "top": null,
            "visibility": null,
            "width": null
          }
        },
        "721b4705f5c04855a1ae2d2b3440e438": {
          "model_module": "@jupyter-widgets/controls",
          "model_name": "DescriptionStyleModel",
          "model_module_version": "1.5.0",
          "state": {
            "_model_module": "@jupyter-widgets/controls",
            "_model_module_version": "1.5.0",
            "_model_name": "DescriptionStyleModel",
            "_view_count": null,
            "_view_module": "@jupyter-widgets/base",
            "_view_module_version": "1.2.0",
            "_view_name": "StyleView",
            "description_width": ""
          }
        },
        "458c88e014be4fca9f7f665ead551ee0": {
          "model_module": "@jupyter-widgets/controls",
          "model_name": "HBoxModel",
          "model_module_version": "1.5.0",
          "state": {
            "_dom_classes": [],
            "_model_module": "@jupyter-widgets/controls",
            "_model_module_version": "1.5.0",
            "_model_name": "HBoxModel",
            "_view_count": null,
            "_view_module": "@jupyter-widgets/controls",
            "_view_module_version": "1.5.0",
            "_view_name": "HBoxView",
            "box_style": "",
            "children": [
              "IPY_MODEL_a9ca15a0cd6c429389d442b58041799f",
              "IPY_MODEL_ebee932c7a484d15aef182d281cff929",
              "IPY_MODEL_9b7fa0be39264e4bb169ab522d1156d9"
            ],
            "layout": "IPY_MODEL_6c95958d745b4ff6bd381d94c2553967"
          }
        },
        "a9ca15a0cd6c429389d442b58041799f": {
          "model_module": "@jupyter-widgets/controls",
          "model_name": "HTMLModel",
          "model_module_version": "1.5.0",
          "state": {
            "_dom_classes": [],
            "_model_module": "@jupyter-widgets/controls",
            "_model_module_version": "1.5.0",
            "_model_name": "HTMLModel",
            "_view_count": null,
            "_view_module": "@jupyter-widgets/controls",
            "_view_module_version": "1.5.0",
            "_view_name": "HTMLView",
            "description": "",
            "description_tooltip": null,
            "layout": "IPY_MODEL_beb0701340c5406c938a19416e147fbd",
            "placeholder": "​",
            "style": "IPY_MODEL_66cc7f09bf21435db58bd34ffce2fbf6",
            "value": "Downloading (…)/main/tokenizer.json: 100%"
          }
        },
        "ebee932c7a484d15aef182d281cff929": {
          "model_module": "@jupyter-widgets/controls",
          "model_name": "FloatProgressModel",
          "model_module_version": "1.5.0",
          "state": {
            "_dom_classes": [],
            "_model_module": "@jupyter-widgets/controls",
            "_model_module_version": "1.5.0",
            "_model_name": "FloatProgressModel",
            "_view_count": null,
            "_view_module": "@jupyter-widgets/controls",
            "_view_module_version": "1.5.0",
            "_view_name": "ProgressView",
            "bar_style": "success",
            "description": "",
            "description_tooltip": null,
            "layout": "IPY_MODEL_0bb5108f127440e4ab5a9ab948a8d66a",
            "max": 3265159,
            "min": 0,
            "orientation": "horizontal",
            "style": "IPY_MODEL_7b19893ec9df4ee1ad3d6cd6780ab506",
            "value": 3265159
          }
        },
        "9b7fa0be39264e4bb169ab522d1156d9": {
          "model_module": "@jupyter-widgets/controls",
          "model_name": "HTMLModel",
          "model_module_version": "1.5.0",
          "state": {
            "_dom_classes": [],
            "_model_module": "@jupyter-widgets/controls",
            "_model_module_version": "1.5.0",
            "_model_name": "HTMLModel",
            "_view_count": null,
            "_view_module": "@jupyter-widgets/controls",
            "_view_module_version": "1.5.0",
            "_view_name": "HTMLView",
            "description": "",
            "description_tooltip": null,
            "layout": "IPY_MODEL_f1419493be814b4aa7d8ff6aaecea218",
            "placeholder": "​",
            "style": "IPY_MODEL_6d12dc8bb7c54a5a8eb511f13e0fdc2b",
            "value": " 3.27M/3.27M [00:00&lt;00:00, 12.6MB/s]"
          }
        },
        "6c95958d745b4ff6bd381d94c2553967": {
          "model_module": "@jupyter-widgets/base",
          "model_name": "LayoutModel",
          "model_module_version": "1.2.0",
          "state": {
            "_model_module": "@jupyter-widgets/base",
            "_model_module_version": "1.2.0",
            "_model_name": "LayoutModel",
            "_view_count": null,
            "_view_module": "@jupyter-widgets/base",
            "_view_module_version": "1.2.0",
            "_view_name": "LayoutView",
            "align_content": null,
            "align_items": null,
            "align_self": null,
            "border": null,
            "bottom": null,
            "display": null,
            "flex": null,
            "flex_flow": null,
            "grid_area": null,
            "grid_auto_columns": null,
            "grid_auto_flow": null,
            "grid_auto_rows": null,
            "grid_column": null,
            "grid_gap": null,
            "grid_row": null,
            "grid_template_areas": null,
            "grid_template_columns": null,
            "grid_template_rows": null,
            "height": null,
            "justify_content": null,
            "justify_items": null,
            "left": null,
            "margin": null,
            "max_height": null,
            "max_width": null,
            "min_height": null,
            "min_width": null,
            "object_fit": null,
            "object_position": null,
            "order": null,
            "overflow": null,
            "overflow_x": null,
            "overflow_y": null,
            "padding": null,
            "right": null,
            "top": null,
            "visibility": null,
            "width": null
          }
        },
        "beb0701340c5406c938a19416e147fbd": {
          "model_module": "@jupyter-widgets/base",
          "model_name": "LayoutModel",
          "model_module_version": "1.2.0",
          "state": {
            "_model_module": "@jupyter-widgets/base",
            "_model_module_version": "1.2.0",
            "_model_name": "LayoutModel",
            "_view_count": null,
            "_view_module": "@jupyter-widgets/base",
            "_view_module_version": "1.2.0",
            "_view_name": "LayoutView",
            "align_content": null,
            "align_items": null,
            "align_self": null,
            "border": null,
            "bottom": null,
            "display": null,
            "flex": null,
            "flex_flow": null,
            "grid_area": null,
            "grid_auto_columns": null,
            "grid_auto_flow": null,
            "grid_auto_rows": null,
            "grid_column": null,
            "grid_gap": null,
            "grid_row": null,
            "grid_template_areas": null,
            "grid_template_columns": null,
            "grid_template_rows": null,
            "height": null,
            "justify_content": null,
            "justify_items": null,
            "left": null,
            "margin": null,
            "max_height": null,
            "max_width": null,
            "min_height": null,
            "min_width": null,
            "object_fit": null,
            "object_position": null,
            "order": null,
            "overflow": null,
            "overflow_x": null,
            "overflow_y": null,
            "padding": null,
            "right": null,
            "top": null,
            "visibility": null,
            "width": null
          }
        },
        "66cc7f09bf21435db58bd34ffce2fbf6": {
          "model_module": "@jupyter-widgets/controls",
          "model_name": "DescriptionStyleModel",
          "model_module_version": "1.5.0",
          "state": {
            "_model_module": "@jupyter-widgets/controls",
            "_model_module_version": "1.5.0",
            "_model_name": "DescriptionStyleModel",
            "_view_count": null,
            "_view_module": "@jupyter-widgets/base",
            "_view_module_version": "1.2.0",
            "_view_name": "StyleView",
            "description_width": ""
          }
        },
        "0bb5108f127440e4ab5a9ab948a8d66a": {
          "model_module": "@jupyter-widgets/base",
          "model_name": "LayoutModel",
          "model_module_version": "1.2.0",
          "state": {
            "_model_module": "@jupyter-widgets/base",
            "_model_module_version": "1.2.0",
            "_model_name": "LayoutModel",
            "_view_count": null,
            "_view_module": "@jupyter-widgets/base",
            "_view_module_version": "1.2.0",
            "_view_name": "LayoutView",
            "align_content": null,
            "align_items": null,
            "align_self": null,
            "border": null,
            "bottom": null,
            "display": null,
            "flex": null,
            "flex_flow": null,
            "grid_area": null,
            "grid_auto_columns": null,
            "grid_auto_flow": null,
            "grid_auto_rows": null,
            "grid_column": null,
            "grid_gap": null,
            "grid_row": null,
            "grid_template_areas": null,
            "grid_template_columns": null,
            "grid_template_rows": null,
            "height": null,
            "justify_content": null,
            "justify_items": null,
            "left": null,
            "margin": null,
            "max_height": null,
            "max_width": null,
            "min_height": null,
            "min_width": null,
            "object_fit": null,
            "object_position": null,
            "order": null,
            "overflow": null,
            "overflow_x": null,
            "overflow_y": null,
            "padding": null,
            "right": null,
            "top": null,
            "visibility": null,
            "width": null
          }
        },
        "7b19893ec9df4ee1ad3d6cd6780ab506": {
          "model_module": "@jupyter-widgets/controls",
          "model_name": "ProgressStyleModel",
          "model_module_version": "1.5.0",
          "state": {
            "_model_module": "@jupyter-widgets/controls",
            "_model_module_version": "1.5.0",
            "_model_name": "ProgressStyleModel",
            "_view_count": null,
            "_view_module": "@jupyter-widgets/base",
            "_view_module_version": "1.2.0",
            "_view_name": "StyleView",
            "bar_color": null,
            "description_width": ""
          }
        },
        "f1419493be814b4aa7d8ff6aaecea218": {
          "model_module": "@jupyter-widgets/base",
          "model_name": "LayoutModel",
          "model_module_version": "1.2.0",
          "state": {
            "_model_module": "@jupyter-widgets/base",
            "_model_module_version": "1.2.0",
            "_model_name": "LayoutModel",
            "_view_count": null,
            "_view_module": "@jupyter-widgets/base",
            "_view_module_version": "1.2.0",
            "_view_name": "LayoutView",
            "align_content": null,
            "align_items": null,
            "align_self": null,
            "border": null,
            "bottom": null,
            "display": null,
            "flex": null,
            "flex_flow": null,
            "grid_area": null,
            "grid_auto_columns": null,
            "grid_auto_flow": null,
            "grid_auto_rows": null,
            "grid_column": null,
            "grid_gap": null,
            "grid_row": null,
            "grid_template_areas": null,
            "grid_template_columns": null,
            "grid_template_rows": null,
            "height": null,
            "justify_content": null,
            "justify_items": null,
            "left": null,
            "margin": null,
            "max_height": null,
            "max_width": null,
            "min_height": null,
            "min_width": null,
            "object_fit": null,
            "object_position": null,
            "order": null,
            "overflow": null,
            "overflow_x": null,
            "overflow_y": null,
            "padding": null,
            "right": null,
            "top": null,
            "visibility": null,
            "width": null
          }
        },
        "6d12dc8bb7c54a5a8eb511f13e0fdc2b": {
          "model_module": "@jupyter-widgets/controls",
          "model_name": "DescriptionStyleModel",
          "model_module_version": "1.5.0",
          "state": {
            "_model_module": "@jupyter-widgets/controls",
            "_model_module_version": "1.5.0",
            "_model_name": "DescriptionStyleModel",
            "_view_count": null,
            "_view_module": "@jupyter-widgets/base",
            "_view_module_version": "1.2.0",
            "_view_name": "StyleView",
            "description_width": ""
          }
        },
        "5ab7fa2d452f419ea71cc8ea714b0d9d": {
          "model_module": "@jupyter-widgets/controls",
          "model_name": "HBoxModel",
          "model_module_version": "1.5.0",
          "state": {
            "_dom_classes": [],
            "_model_module": "@jupyter-widgets/controls",
            "_model_module_version": "1.5.0",
            "_model_name": "HBoxModel",
            "_view_count": null,
            "_view_module": "@jupyter-widgets/controls",
            "_view_module_version": "1.5.0",
            "_view_name": "HBoxView",
            "box_style": "",
            "children": [
              "IPY_MODEL_f5223faa047341c881cda8aea002ff3f",
              "IPY_MODEL_f8c8bac07c4b46ce88bac5baef5fd889",
              "IPY_MODEL_61f72c598f184888985696fc84a84cbb"
            ],
            "layout": "IPY_MODEL_7fda6421d15d4d19b3c44395a1539825"
          }
        },
        "f5223faa047341c881cda8aea002ff3f": {
          "model_module": "@jupyter-widgets/controls",
          "model_name": "HTMLModel",
          "model_module_version": "1.5.0",
          "state": {
            "_dom_classes": [],
            "_model_module": "@jupyter-widgets/controls",
            "_model_module_version": "1.5.0",
            "_model_name": "HTMLModel",
            "_view_count": null,
            "_view_module": "@jupyter-widgets/controls",
            "_view_module_version": "1.5.0",
            "_view_name": "HTMLView",
            "description": "",
            "description_tooltip": null,
            "layout": "IPY_MODEL_a9a0ae7f9aef4f66a4bf3adf1575858e",
            "placeholder": "​",
            "style": "IPY_MODEL_e5d0095a5c95460998b0405e92bcb98c",
            "value": "Downloading (…)cial_tokens_map.json: 100%"
          }
        },
        "f8c8bac07c4b46ce88bac5baef5fd889": {
          "model_module": "@jupyter-widgets/controls",
          "model_name": "FloatProgressModel",
          "model_module_version": "1.5.0",
          "state": {
            "_dom_classes": [],
            "_model_module": "@jupyter-widgets/controls",
            "_model_module_version": "1.5.0",
            "_model_name": "FloatProgressModel",
            "_view_count": null,
            "_view_module": "@jupyter-widgets/controls",
            "_view_module_version": "1.5.0",
            "_view_name": "ProgressView",
            "bar_style": "success",
            "description": "",
            "description_tooltip": null,
            "layout": "IPY_MODEL_1de4e1c1660744e3bab44e603dc32356",
            "max": 2201,
            "min": 0,
            "orientation": "horizontal",
            "style": "IPY_MODEL_032004e1c62b4d61b2822ffbd3a93ca6",
            "value": 2201
          }
        },
        "61f72c598f184888985696fc84a84cbb": {
          "model_module": "@jupyter-widgets/controls",
          "model_name": "HTMLModel",
          "model_module_version": "1.5.0",
          "state": {
            "_dom_classes": [],
            "_model_module": "@jupyter-widgets/controls",
            "_model_module_version": "1.5.0",
            "_model_name": "HTMLModel",
            "_view_count": null,
            "_view_module": "@jupyter-widgets/controls",
            "_view_module_version": "1.5.0",
            "_view_name": "HTMLView",
            "description": "",
            "description_tooltip": null,
            "layout": "IPY_MODEL_10c94f10fd634043898d1b7938ff474d",
            "placeholder": "​",
            "style": "IPY_MODEL_aa27a48bad2746038550cf25a9f87ba7",
            "value": " 2.20k/2.20k [00:00&lt;00:00, 172kB/s]"
          }
        },
        "7fda6421d15d4d19b3c44395a1539825": {
          "model_module": "@jupyter-widgets/base",
          "model_name": "LayoutModel",
          "model_module_version": "1.2.0",
          "state": {
            "_model_module": "@jupyter-widgets/base",
            "_model_module_version": "1.2.0",
            "_model_name": "LayoutModel",
            "_view_count": null,
            "_view_module": "@jupyter-widgets/base",
            "_view_module_version": "1.2.0",
            "_view_name": "LayoutView",
            "align_content": null,
            "align_items": null,
            "align_self": null,
            "border": null,
            "bottom": null,
            "display": null,
            "flex": null,
            "flex_flow": null,
            "grid_area": null,
            "grid_auto_columns": null,
            "grid_auto_flow": null,
            "grid_auto_rows": null,
            "grid_column": null,
            "grid_gap": null,
            "grid_row": null,
            "grid_template_areas": null,
            "grid_template_columns": null,
            "grid_template_rows": null,
            "height": null,
            "justify_content": null,
            "justify_items": null,
            "left": null,
            "margin": null,
            "max_height": null,
            "max_width": null,
            "min_height": null,
            "min_width": null,
            "object_fit": null,
            "object_position": null,
            "order": null,
            "overflow": null,
            "overflow_x": null,
            "overflow_y": null,
            "padding": null,
            "right": null,
            "top": null,
            "visibility": null,
            "width": null
          }
        },
        "a9a0ae7f9aef4f66a4bf3adf1575858e": {
          "model_module": "@jupyter-widgets/base",
          "model_name": "LayoutModel",
          "model_module_version": "1.2.0",
          "state": {
            "_model_module": "@jupyter-widgets/base",
            "_model_module_version": "1.2.0",
            "_model_name": "LayoutModel",
            "_view_count": null,
            "_view_module": "@jupyter-widgets/base",
            "_view_module_version": "1.2.0",
            "_view_name": "LayoutView",
            "align_content": null,
            "align_items": null,
            "align_self": null,
            "border": null,
            "bottom": null,
            "display": null,
            "flex": null,
            "flex_flow": null,
            "grid_area": null,
            "grid_auto_columns": null,
            "grid_auto_flow": null,
            "grid_auto_rows": null,
            "grid_column": null,
            "grid_gap": null,
            "grid_row": null,
            "grid_template_areas": null,
            "grid_template_columns": null,
            "grid_template_rows": null,
            "height": null,
            "justify_content": null,
            "justify_items": null,
            "left": null,
            "margin": null,
            "max_height": null,
            "max_width": null,
            "min_height": null,
            "min_width": null,
            "object_fit": null,
            "object_position": null,
            "order": null,
            "overflow": null,
            "overflow_x": null,
            "overflow_y": null,
            "padding": null,
            "right": null,
            "top": null,
            "visibility": null,
            "width": null
          }
        },
        "e5d0095a5c95460998b0405e92bcb98c": {
          "model_module": "@jupyter-widgets/controls",
          "model_name": "DescriptionStyleModel",
          "model_module_version": "1.5.0",
          "state": {
            "_model_module": "@jupyter-widgets/controls",
            "_model_module_version": "1.5.0",
            "_model_name": "DescriptionStyleModel",
            "_view_count": null,
            "_view_module": "@jupyter-widgets/base",
            "_view_module_version": "1.2.0",
            "_view_name": "StyleView",
            "description_width": ""
          }
        },
        "1de4e1c1660744e3bab44e603dc32356": {
          "model_module": "@jupyter-widgets/base",
          "model_name": "LayoutModel",
          "model_module_version": "1.2.0",
          "state": {
            "_model_module": "@jupyter-widgets/base",
            "_model_module_version": "1.2.0",
            "_model_name": "LayoutModel",
            "_view_count": null,
            "_view_module": "@jupyter-widgets/base",
            "_view_module_version": "1.2.0",
            "_view_name": "LayoutView",
            "align_content": null,
            "align_items": null,
            "align_self": null,
            "border": null,
            "bottom": null,
            "display": null,
            "flex": null,
            "flex_flow": null,
            "grid_area": null,
            "grid_auto_columns": null,
            "grid_auto_flow": null,
            "grid_auto_rows": null,
            "grid_column": null,
            "grid_gap": null,
            "grid_row": null,
            "grid_template_areas": null,
            "grid_template_columns": null,
            "grid_template_rows": null,
            "height": null,
            "justify_content": null,
            "justify_items": null,
            "left": null,
            "margin": null,
            "max_height": null,
            "max_width": null,
            "min_height": null,
            "min_width": null,
            "object_fit": null,
            "object_position": null,
            "order": null,
            "overflow": null,
            "overflow_x": null,
            "overflow_y": null,
            "padding": null,
            "right": null,
            "top": null,
            "visibility": null,
            "width": null
          }
        },
        "032004e1c62b4d61b2822ffbd3a93ca6": {
          "model_module": "@jupyter-widgets/controls",
          "model_name": "ProgressStyleModel",
          "model_module_version": "1.5.0",
          "state": {
            "_model_module": "@jupyter-widgets/controls",
            "_model_module_version": "1.5.0",
            "_model_name": "ProgressStyleModel",
            "_view_count": null,
            "_view_module": "@jupyter-widgets/base",
            "_view_module_version": "1.2.0",
            "_view_name": "StyleView",
            "bar_color": null,
            "description_width": ""
          }
        },
        "10c94f10fd634043898d1b7938ff474d": {
          "model_module": "@jupyter-widgets/base",
          "model_name": "LayoutModel",
          "model_module_version": "1.2.0",
          "state": {
            "_model_module": "@jupyter-widgets/base",
            "_model_module_version": "1.2.0",
            "_model_name": "LayoutModel",
            "_view_count": null,
            "_view_module": "@jupyter-widgets/base",
            "_view_module_version": "1.2.0",
            "_view_name": "LayoutView",
            "align_content": null,
            "align_items": null,
            "align_self": null,
            "border": null,
            "bottom": null,
            "display": null,
            "flex": null,
            "flex_flow": null,
            "grid_area": null,
            "grid_auto_columns": null,
            "grid_auto_flow": null,
            "grid_auto_rows": null,
            "grid_column": null,
            "grid_gap": null,
            "grid_row": null,
            "grid_template_areas": null,
            "grid_template_columns": null,
            "grid_template_rows": null,
            "height": null,
            "justify_content": null,
            "justify_items": null,
            "left": null,
            "margin": null,
            "max_height": null,
            "max_width": null,
            "min_height": null,
            "min_width": null,
            "object_fit": null,
            "object_position": null,
            "order": null,
            "overflow": null,
            "overflow_x": null,
            "overflow_y": null,
            "padding": null,
            "right": null,
            "top": null,
            "visibility": null,
            "width": null
          }
        },
        "aa27a48bad2746038550cf25a9f87ba7": {
          "model_module": "@jupyter-widgets/controls",
          "model_name": "DescriptionStyleModel",
          "model_module_version": "1.5.0",
          "state": {
            "_model_module": "@jupyter-widgets/controls",
            "_model_module_version": "1.5.0",
            "_model_name": "DescriptionStyleModel",
            "_view_count": null,
            "_view_module": "@jupyter-widgets/base",
            "_view_module_version": "1.2.0",
            "_view_name": "StyleView",
            "description_width": ""
          }
        },
        "5358bc2508f2405c87b39e50d3ea9b87": {
          "model_module": "@jupyter-widgets/controls",
          "model_name": "HBoxModel",
          "model_module_version": "1.5.0",
          "state": {
            "_dom_classes": [],
            "_model_module": "@jupyter-widgets/controls",
            "_model_module_version": "1.5.0",
            "_model_name": "HBoxModel",
            "_view_count": null,
            "_view_module": "@jupyter-widgets/controls",
            "_view_module_version": "1.5.0",
            "_view_name": "HBoxView",
            "box_style": "",
            "children": [
              "IPY_MODEL_562d93feee0d4b5d8aaa31920f429db3",
              "IPY_MODEL_5967887e16bb4a7e91bce1a94ff478ce",
              "IPY_MODEL_d0ffbd3c7d984ca68755c54ba620cee6"
            ],
            "layout": "IPY_MODEL_5fc193bacde640f48eabe86c4b370373"
          }
        },
        "562d93feee0d4b5d8aaa31920f429db3": {
          "model_module": "@jupyter-widgets/controls",
          "model_name": "HTMLModel",
          "model_module_version": "1.5.0",
          "state": {
            "_dom_classes": [],
            "_model_module": "@jupyter-widgets/controls",
            "_model_module_version": "1.5.0",
            "_model_name": "HTMLModel",
            "_view_count": null,
            "_view_module": "@jupyter-widgets/controls",
            "_view_module_version": "1.5.0",
            "_view_name": "HTMLView",
            "description": "",
            "description_tooltip": null,
            "layout": "IPY_MODEL_3de988405b3a420ebe3293312c102504",
            "placeholder": "​",
            "style": "IPY_MODEL_b5fcce1682fd4034a57d54fd075b6ba3",
            "value": "Downloading (…)lve/main/config.json: 100%"
          }
        },
        "5967887e16bb4a7e91bce1a94ff478ce": {
          "model_module": "@jupyter-widgets/controls",
          "model_name": "FloatProgressModel",
          "model_module_version": "1.5.0",
          "state": {
            "_dom_classes": [],
            "_model_module": "@jupyter-widgets/controls",
            "_model_module_version": "1.5.0",
            "_model_name": "FloatProgressModel",
            "_view_count": null,
            "_view_module": "@jupyter-widgets/controls",
            "_view_module_version": "1.5.0",
            "_view_name": "ProgressView",
            "bar_style": "success",
            "description": "",
            "description_tooltip": null,
            "layout": "IPY_MODEL_b9f88a1c9568482d98baba567d22943b",
            "max": 4918,
            "min": 0,
            "orientation": "horizontal",
            "style": "IPY_MODEL_1d73b85f0b3d45c1bf81cdc240e0907f",
            "value": 4918
          }
        },
        "d0ffbd3c7d984ca68755c54ba620cee6": {
          "model_module": "@jupyter-widgets/controls",
          "model_name": "HTMLModel",
          "model_module_version": "1.5.0",
          "state": {
            "_dom_classes": [],
            "_model_module": "@jupyter-widgets/controls",
            "_model_module_version": "1.5.0",
            "_model_name": "HTMLModel",
            "_view_count": null,
            "_view_module": "@jupyter-widgets/controls",
            "_view_module_version": "1.5.0",
            "_view_name": "HTMLView",
            "description": "",
            "description_tooltip": null,
            "layout": "IPY_MODEL_2aed2a5dcd33448ca3114af42a030c70",
            "placeholder": "​",
            "style": "IPY_MODEL_2b8df28d0a144ebab2de5d15cd87bb4a",
            "value": " 4.92k/4.92k [00:00&lt;00:00, 313kB/s]"
          }
        },
        "5fc193bacde640f48eabe86c4b370373": {
          "model_module": "@jupyter-widgets/base",
          "model_name": "LayoutModel",
          "model_module_version": "1.2.0",
          "state": {
            "_model_module": "@jupyter-widgets/base",
            "_model_module_version": "1.2.0",
            "_model_name": "LayoutModel",
            "_view_count": null,
            "_view_module": "@jupyter-widgets/base",
            "_view_module_version": "1.2.0",
            "_view_name": "LayoutView",
            "align_content": null,
            "align_items": null,
            "align_self": null,
            "border": null,
            "bottom": null,
            "display": null,
            "flex": null,
            "flex_flow": null,
            "grid_area": null,
            "grid_auto_columns": null,
            "grid_auto_flow": null,
            "grid_auto_rows": null,
            "grid_column": null,
            "grid_gap": null,
            "grid_row": null,
            "grid_template_areas": null,
            "grid_template_columns": null,
            "grid_template_rows": null,
            "height": null,
            "justify_content": null,
            "justify_items": null,
            "left": null,
            "margin": null,
            "max_height": null,
            "max_width": null,
            "min_height": null,
            "min_width": null,
            "object_fit": null,
            "object_position": null,
            "order": null,
            "overflow": null,
            "overflow_x": null,
            "overflow_y": null,
            "padding": null,
            "right": null,
            "top": null,
            "visibility": null,
            "width": null
          }
        },
        "3de988405b3a420ebe3293312c102504": {
          "model_module": "@jupyter-widgets/base",
          "model_name": "LayoutModel",
          "model_module_version": "1.2.0",
          "state": {
            "_model_module": "@jupyter-widgets/base",
            "_model_module_version": "1.2.0",
            "_model_name": "LayoutModel",
            "_view_count": null,
            "_view_module": "@jupyter-widgets/base",
            "_view_module_version": "1.2.0",
            "_view_name": "LayoutView",
            "align_content": null,
            "align_items": null,
            "align_self": null,
            "border": null,
            "bottom": null,
            "display": null,
            "flex": null,
            "flex_flow": null,
            "grid_area": null,
            "grid_auto_columns": null,
            "grid_auto_flow": null,
            "grid_auto_rows": null,
            "grid_column": null,
            "grid_gap": null,
            "grid_row": null,
            "grid_template_areas": null,
            "grid_template_columns": null,
            "grid_template_rows": null,
            "height": null,
            "justify_content": null,
            "justify_items": null,
            "left": null,
            "margin": null,
            "max_height": null,
            "max_width": null,
            "min_height": null,
            "min_width": null,
            "object_fit": null,
            "object_position": null,
            "order": null,
            "overflow": null,
            "overflow_x": null,
            "overflow_y": null,
            "padding": null,
            "right": null,
            "top": null,
            "visibility": null,
            "width": null
          }
        },
        "b5fcce1682fd4034a57d54fd075b6ba3": {
          "model_module": "@jupyter-widgets/controls",
          "model_name": "DescriptionStyleModel",
          "model_module_version": "1.5.0",
          "state": {
            "_model_module": "@jupyter-widgets/controls",
            "_model_module_version": "1.5.0",
            "_model_name": "DescriptionStyleModel",
            "_view_count": null,
            "_view_module": "@jupyter-widgets/base",
            "_view_module_version": "1.2.0",
            "_view_name": "StyleView",
            "description_width": ""
          }
        },
        "b9f88a1c9568482d98baba567d22943b": {
          "model_module": "@jupyter-widgets/base",
          "model_name": "LayoutModel",
          "model_module_version": "1.2.0",
          "state": {
            "_model_module": "@jupyter-widgets/base",
            "_model_module_version": "1.2.0",
            "_model_name": "LayoutModel",
            "_view_count": null,
            "_view_module": "@jupyter-widgets/base",
            "_view_module_version": "1.2.0",
            "_view_name": "LayoutView",
            "align_content": null,
            "align_items": null,
            "align_self": null,
            "border": null,
            "bottom": null,
            "display": null,
            "flex": null,
            "flex_flow": null,
            "grid_area": null,
            "grid_auto_columns": null,
            "grid_auto_flow": null,
            "grid_auto_rows": null,
            "grid_column": null,
            "grid_gap": null,
            "grid_row": null,
            "grid_template_areas": null,
            "grid_template_columns": null,
            "grid_template_rows": null,
            "height": null,
            "justify_content": null,
            "justify_items": null,
            "left": null,
            "margin": null,
            "max_height": null,
            "max_width": null,
            "min_height": null,
            "min_width": null,
            "object_fit": null,
            "object_position": null,
            "order": null,
            "overflow": null,
            "overflow_x": null,
            "overflow_y": null,
            "padding": null,
            "right": null,
            "top": null,
            "visibility": null,
            "width": null
          }
        },
        "1d73b85f0b3d45c1bf81cdc240e0907f": {
          "model_module": "@jupyter-widgets/controls",
          "model_name": "ProgressStyleModel",
          "model_module_version": "1.5.0",
          "state": {
            "_model_module": "@jupyter-widgets/controls",
            "_model_module_version": "1.5.0",
            "_model_name": "ProgressStyleModel",
            "_view_count": null,
            "_view_module": "@jupyter-widgets/base",
            "_view_module_version": "1.2.0",
            "_view_name": "StyleView",
            "bar_color": null,
            "description_width": ""
          }
        },
        "2aed2a5dcd33448ca3114af42a030c70": {
          "model_module": "@jupyter-widgets/base",
          "model_name": "LayoutModel",
          "model_module_version": "1.2.0",
          "state": {
            "_model_module": "@jupyter-widgets/base",
            "_model_module_version": "1.2.0",
            "_model_name": "LayoutModel",
            "_view_count": null,
            "_view_module": "@jupyter-widgets/base",
            "_view_module_version": "1.2.0",
            "_view_name": "LayoutView",
            "align_content": null,
            "align_items": null,
            "align_self": null,
            "border": null,
            "bottom": null,
            "display": null,
            "flex": null,
            "flex_flow": null,
            "grid_area": null,
            "grid_auto_columns": null,
            "grid_auto_flow": null,
            "grid_auto_rows": null,
            "grid_column": null,
            "grid_gap": null,
            "grid_row": null,
            "grid_template_areas": null,
            "grid_template_columns": null,
            "grid_template_rows": null,
            "height": null,
            "justify_content": null,
            "justify_items": null,
            "left": null,
            "margin": null,
            "max_height": null,
            "max_width": null,
            "min_height": null,
            "min_width": null,
            "object_fit": null,
            "object_position": null,
            "order": null,
            "overflow": null,
            "overflow_x": null,
            "overflow_y": null,
            "padding": null,
            "right": null,
            "top": null,
            "visibility": null,
            "width": null
          }
        },
        "2b8df28d0a144ebab2de5d15cd87bb4a": {
          "model_module": "@jupyter-widgets/controls",
          "model_name": "DescriptionStyleModel",
          "model_module_version": "1.5.0",
          "state": {
            "_model_module": "@jupyter-widgets/controls",
            "_model_module_version": "1.5.0",
            "_model_name": "DescriptionStyleModel",
            "_view_count": null,
            "_view_module": "@jupyter-widgets/base",
            "_view_module_version": "1.2.0",
            "_view_name": "StyleView",
            "description_width": ""
          }
        },
        "48b3ca6591244626ba515d09df37b65c": {
          "model_module": "@jupyter-widgets/controls",
          "model_name": "HBoxModel",
          "model_module_version": "1.5.0",
          "state": {
            "_dom_classes": [],
            "_model_module": "@jupyter-widgets/controls",
            "_model_module_version": "1.5.0",
            "_model_name": "HBoxModel",
            "_view_count": null,
            "_view_module": "@jupyter-widgets/controls",
            "_view_module_version": "1.5.0",
            "_view_name": "HBoxView",
            "box_style": "",
            "children": [
              "IPY_MODEL_3fb342eae88043febcffc5de818f68f8",
              "IPY_MODEL_a7513cece032440c9452cd5d2d5eb9e0",
              "IPY_MODEL_5a457ff25e1d480cb3e7920ba34f0db1"
            ],
            "layout": "IPY_MODEL_08a5d859d8384cf991094bb9c3b5b13b"
          }
        },
        "3fb342eae88043febcffc5de818f68f8": {
          "model_module": "@jupyter-widgets/controls",
          "model_name": "HTMLModel",
          "model_module_version": "1.5.0",
          "state": {
            "_dom_classes": [],
            "_model_module": "@jupyter-widgets/controls",
            "_model_module_version": "1.5.0",
            "_model_name": "HTMLModel",
            "_view_count": null,
            "_view_module": "@jupyter-widgets/controls",
            "_view_module_version": "1.5.0",
            "_view_name": "HTMLView",
            "description": "",
            "description_tooltip": null,
            "layout": "IPY_MODEL_92e23b6b39104a3a96555f36e3873d66",
            "placeholder": "​",
            "style": "IPY_MODEL_c644b72b538d477eb8ab8b38dc046371",
            "value": "Downloading pytorch_model.bin: 100%"
          }
        },
        "a7513cece032440c9452cd5d2d5eb9e0": {
          "model_module": "@jupyter-widgets/controls",
          "model_name": "FloatProgressModel",
          "model_module_version": "1.5.0",
          "state": {
            "_dom_classes": [],
            "_model_module": "@jupyter-widgets/controls",
            "_model_module_version": "1.5.0",
            "_model_name": "FloatProgressModel",
            "_view_count": null,
            "_view_module": "@jupyter-widgets/controls",
            "_view_module_version": "1.5.0",
            "_view_name": "ProgressView",
            "bar_style": "success",
            "description": "",
            "description_tooltip": null,
            "layout": "IPY_MODEL_44467d33309e4392855bf6a1e7188a7e",
            "max": 1129238081,
            "min": 0,
            "orientation": "horizontal",
            "style": "IPY_MODEL_27c38c0ba27c430d94154a413a971c52",
            "value": 1129238081
          }
        },
        "5a457ff25e1d480cb3e7920ba34f0db1": {
          "model_module": "@jupyter-widgets/controls",
          "model_name": "HTMLModel",
          "model_module_version": "1.5.0",
          "state": {
            "_dom_classes": [],
            "_model_module": "@jupyter-widgets/controls",
            "_model_module_version": "1.5.0",
            "_model_name": "HTMLModel",
            "_view_count": null,
            "_view_module": "@jupyter-widgets/controls",
            "_view_module_version": "1.5.0",
            "_view_name": "HTMLView",
            "description": "",
            "description_tooltip": null,
            "layout": "IPY_MODEL_ab7a99dfd65442cea101d20329cf3878",
            "placeholder": "​",
            "style": "IPY_MODEL_f0cccd6281df40d7a018858cf1bbc7d2",
            "value": " 1.13G/1.13G [00:04&lt;00:00, 248MB/s]"
          }
        },
        "08a5d859d8384cf991094bb9c3b5b13b": {
          "model_module": "@jupyter-widgets/base",
          "model_name": "LayoutModel",
          "model_module_version": "1.2.0",
          "state": {
            "_model_module": "@jupyter-widgets/base",
            "_model_module_version": "1.2.0",
            "_model_name": "LayoutModel",
            "_view_count": null,
            "_view_module": "@jupyter-widgets/base",
            "_view_module_version": "1.2.0",
            "_view_name": "LayoutView",
            "align_content": null,
            "align_items": null,
            "align_self": null,
            "border": null,
            "bottom": null,
            "display": null,
            "flex": null,
            "flex_flow": null,
            "grid_area": null,
            "grid_auto_columns": null,
            "grid_auto_flow": null,
            "grid_auto_rows": null,
            "grid_column": null,
            "grid_gap": null,
            "grid_row": null,
            "grid_template_areas": null,
            "grid_template_columns": null,
            "grid_template_rows": null,
            "height": null,
            "justify_content": null,
            "justify_items": null,
            "left": null,
            "margin": null,
            "max_height": null,
            "max_width": null,
            "min_height": null,
            "min_width": null,
            "object_fit": null,
            "object_position": null,
            "order": null,
            "overflow": null,
            "overflow_x": null,
            "overflow_y": null,
            "padding": null,
            "right": null,
            "top": null,
            "visibility": null,
            "width": null
          }
        },
        "92e23b6b39104a3a96555f36e3873d66": {
          "model_module": "@jupyter-widgets/base",
          "model_name": "LayoutModel",
          "model_module_version": "1.2.0",
          "state": {
            "_model_module": "@jupyter-widgets/base",
            "_model_module_version": "1.2.0",
            "_model_name": "LayoutModel",
            "_view_count": null,
            "_view_module": "@jupyter-widgets/base",
            "_view_module_version": "1.2.0",
            "_view_name": "LayoutView",
            "align_content": null,
            "align_items": null,
            "align_self": null,
            "border": null,
            "bottom": null,
            "display": null,
            "flex": null,
            "flex_flow": null,
            "grid_area": null,
            "grid_auto_columns": null,
            "grid_auto_flow": null,
            "grid_auto_rows": null,
            "grid_column": null,
            "grid_gap": null,
            "grid_row": null,
            "grid_template_areas": null,
            "grid_template_columns": null,
            "grid_template_rows": null,
            "height": null,
            "justify_content": null,
            "justify_items": null,
            "left": null,
            "margin": null,
            "max_height": null,
            "max_width": null,
            "min_height": null,
            "min_width": null,
            "object_fit": null,
            "object_position": null,
            "order": null,
            "overflow": null,
            "overflow_x": null,
            "overflow_y": null,
            "padding": null,
            "right": null,
            "top": null,
            "visibility": null,
            "width": null
          }
        },
        "c644b72b538d477eb8ab8b38dc046371": {
          "model_module": "@jupyter-widgets/controls",
          "model_name": "DescriptionStyleModel",
          "model_module_version": "1.5.0",
          "state": {
            "_model_module": "@jupyter-widgets/controls",
            "_model_module_version": "1.5.0",
            "_model_name": "DescriptionStyleModel",
            "_view_count": null,
            "_view_module": "@jupyter-widgets/base",
            "_view_module_version": "1.2.0",
            "_view_name": "StyleView",
            "description_width": ""
          }
        },
        "44467d33309e4392855bf6a1e7188a7e": {
          "model_module": "@jupyter-widgets/base",
          "model_name": "LayoutModel",
          "model_module_version": "1.2.0",
          "state": {
            "_model_module": "@jupyter-widgets/base",
            "_model_module_version": "1.2.0",
            "_model_name": "LayoutModel",
            "_view_count": null,
            "_view_module": "@jupyter-widgets/base",
            "_view_module_version": "1.2.0",
            "_view_name": "LayoutView",
            "align_content": null,
            "align_items": null,
            "align_self": null,
            "border": null,
            "bottom": null,
            "display": null,
            "flex": null,
            "flex_flow": null,
            "grid_area": null,
            "grid_auto_columns": null,
            "grid_auto_flow": null,
            "grid_auto_rows": null,
            "grid_column": null,
            "grid_gap": null,
            "grid_row": null,
            "grid_template_areas": null,
            "grid_template_columns": null,
            "grid_template_rows": null,
            "height": null,
            "justify_content": null,
            "justify_items": null,
            "left": null,
            "margin": null,
            "max_height": null,
            "max_width": null,
            "min_height": null,
            "min_width": null,
            "object_fit": null,
            "object_position": null,
            "order": null,
            "overflow": null,
            "overflow_x": null,
            "overflow_y": null,
            "padding": null,
            "right": null,
            "top": null,
            "visibility": null,
            "width": null
          }
        },
        "27c38c0ba27c430d94154a413a971c52": {
          "model_module": "@jupyter-widgets/controls",
          "model_name": "ProgressStyleModel",
          "model_module_version": "1.5.0",
          "state": {
            "_model_module": "@jupyter-widgets/controls",
            "_model_module_version": "1.5.0",
            "_model_name": "ProgressStyleModel",
            "_view_count": null,
            "_view_module": "@jupyter-widgets/base",
            "_view_module_version": "1.2.0",
            "_view_name": "StyleView",
            "bar_color": null,
            "description_width": ""
          }
        },
        "ab7a99dfd65442cea101d20329cf3878": {
          "model_module": "@jupyter-widgets/base",
          "model_name": "LayoutModel",
          "model_module_version": "1.2.0",
          "state": {
            "_model_module": "@jupyter-widgets/base",
            "_model_module_version": "1.2.0",
            "_model_name": "LayoutModel",
            "_view_count": null,
            "_view_module": "@jupyter-widgets/base",
            "_view_module_version": "1.2.0",
            "_view_name": "LayoutView",
            "align_content": null,
            "align_items": null,
            "align_self": null,
            "border": null,
            "bottom": null,
            "display": null,
            "flex": null,
            "flex_flow": null,
            "grid_area": null,
            "grid_auto_columns": null,
            "grid_auto_flow": null,
            "grid_auto_rows": null,
            "grid_column": null,
            "grid_gap": null,
            "grid_row": null,
            "grid_template_areas": null,
            "grid_template_columns": null,
            "grid_template_rows": null,
            "height": null,
            "justify_content": null,
            "justify_items": null,
            "left": null,
            "margin": null,
            "max_height": null,
            "max_width": null,
            "min_height": null,
            "min_width": null,
            "object_fit": null,
            "object_position": null,
            "order": null,
            "overflow": null,
            "overflow_x": null,
            "overflow_y": null,
            "padding": null,
            "right": null,
            "top": null,
            "visibility": null,
            "width": null
          }
        },
        "f0cccd6281df40d7a018858cf1bbc7d2": {
          "model_module": "@jupyter-widgets/controls",
          "model_name": "DescriptionStyleModel",
          "model_module_version": "1.5.0",
          "state": {
            "_model_module": "@jupyter-widgets/controls",
            "_model_module_version": "1.5.0",
            "_model_name": "DescriptionStyleModel",
            "_view_count": null,
            "_view_module": "@jupyter-widgets/base",
            "_view_module_version": "1.2.0",
            "_view_name": "StyleView",
            "description_width": ""
          }
        }
      }
    }
  },
  "cells": [
    {
      "cell_type": "markdown",
      "metadata": {
        "id": "xY4KuZUbq83Q"
      },
      "source": [
        "# Finetune Pix2Struct model on Pix2Code HTML Lorem Ipsum dataset"
      ]
    },
    {
      "cell_type": "markdown",
      "metadata": {
        "id": "jT6iC6BDrB9i"
      },
      "source": [
        "## Setup Envirnoment"
      ]
    },
    {
      "cell_type": "code",
      "source": [
        "!pip install transformers==4.33.1"
      ],
      "metadata": {
        "id": "2_-hLR51Tbeh",
        "colab": {
          "base_uri": "https://localhost:8080/"
        },
        "outputId": "c101f72c-d386-44f3-fdb7-18ad8743899a"
      },
      "execution_count": null,
      "outputs": [
        {
          "output_type": "stream",
          "name": "stdout",
          "text": [
            "Collecting transformers==4.33.1\n",
            "  Downloading transformers-4.33.1-py3-none-any.whl (7.6 MB)\n",
            "\u001b[2K     \u001b[90m━━━━━━━━━━━━━━━━━━━━━━━━━━━━━━━━━━━━━━━━\u001b[0m \u001b[32m7.6/7.6 MB\u001b[0m \u001b[31m63.1 MB/s\u001b[0m eta \u001b[36m0:00:00\u001b[0m\n",
            "\u001b[?25hRequirement already satisfied: filelock in /usr/local/lib/python3.10/dist-packages (from transformers==4.33.1) (3.12.2)\n",
            "Collecting huggingface-hub<1.0,>=0.15.1 (from transformers==4.33.1)\n",
            "  Downloading huggingface_hub-0.17.2-py3-none-any.whl (294 kB)\n",
            "\u001b[2K     \u001b[90m━━━━━━━━━━━━━━━━━━━━━━━━━━━━━━━━━━━━━━\u001b[0m \u001b[32m294.9/294.9 kB\u001b[0m \u001b[31m32.0 MB/s\u001b[0m eta \u001b[36m0:00:00\u001b[0m\n",
            "\u001b[?25hRequirement already satisfied: numpy>=1.17 in /usr/local/lib/python3.10/dist-packages (from transformers==4.33.1) (1.23.5)\n",
            "Requirement already satisfied: packaging>=20.0 in /usr/local/lib/python3.10/dist-packages (from transformers==4.33.1) (23.1)\n",
            "Requirement already satisfied: pyyaml>=5.1 in /usr/local/lib/python3.10/dist-packages (from transformers==4.33.1) (6.0.1)\n",
            "Requirement already satisfied: regex!=2019.12.17 in /usr/local/lib/python3.10/dist-packages (from transformers==4.33.1) (2023.6.3)\n",
            "Requirement already satisfied: requests in /usr/local/lib/python3.10/dist-packages (from transformers==4.33.1) (2.31.0)\n",
            "Collecting tokenizers!=0.11.3,<0.14,>=0.11.1 (from transformers==4.33.1)\n",
            "  Downloading tokenizers-0.13.3-cp310-cp310-manylinux_2_17_x86_64.manylinux2014_x86_64.whl (7.8 MB)\n",
            "\u001b[2K     \u001b[90m━━━━━━━━━━━━━━━━━━━━━━━━━━━━━━━━━━━━━━━━\u001b[0m \u001b[32m7.8/7.8 MB\u001b[0m \u001b[31m105.2 MB/s\u001b[0m eta \u001b[36m0:00:00\u001b[0m\n",
            "\u001b[?25hCollecting safetensors>=0.3.1 (from transformers==4.33.1)\n",
            "  Downloading safetensors-0.3.3-cp310-cp310-manylinux_2_17_x86_64.manylinux2014_x86_64.whl (1.3 MB)\n",
            "\u001b[2K     \u001b[90m━━━━━━━━━━━━━━━━━━━━━━━━━━━━━━━━━━━━━━━━\u001b[0m \u001b[32m1.3/1.3 MB\u001b[0m \u001b[31m82.0 MB/s\u001b[0m eta \u001b[36m0:00:00\u001b[0m\n",
            "\u001b[?25hRequirement already satisfied: tqdm>=4.27 in /usr/local/lib/python3.10/dist-packages (from transformers==4.33.1) (4.66.1)\n",
            "Requirement already satisfied: fsspec in /usr/local/lib/python3.10/dist-packages (from huggingface-hub<1.0,>=0.15.1->transformers==4.33.1) (2023.6.0)\n",
            "Requirement already satisfied: typing-extensions>=3.7.4.3 in /usr/local/lib/python3.10/dist-packages (from huggingface-hub<1.0,>=0.15.1->transformers==4.33.1) (4.5.0)\n",
            "Requirement already satisfied: charset-normalizer<4,>=2 in /usr/local/lib/python3.10/dist-packages (from requests->transformers==4.33.1) (3.2.0)\n",
            "Requirement already satisfied: idna<4,>=2.5 in /usr/local/lib/python3.10/dist-packages (from requests->transformers==4.33.1) (3.4)\n",
            "Requirement already satisfied: urllib3<3,>=1.21.1 in /usr/local/lib/python3.10/dist-packages (from requests->transformers==4.33.1) (2.0.4)\n",
            "Requirement already satisfied: certifi>=2017.4.17 in /usr/local/lib/python3.10/dist-packages (from requests->transformers==4.33.1) (2023.7.22)\n",
            "Installing collected packages: tokenizers, safetensors, huggingface-hub, transformers\n",
            "Successfully installed huggingface-hub-0.17.2 safetensors-0.3.3 tokenizers-0.13.3 transformers-4.33.1\n"
          ]
        }
      ]
    },
    {
      "cell_type": "code",
      "execution_count": null,
      "metadata": {
        "id": "jc7bhkoMEtq3"
      },
      "outputs": [],
      "source": [
        "#!pip install --upgrade git+https://github.com/huggingface/transformers"
      ]
    },
    {
      "cell_type": "code",
      "execution_count": null,
      "metadata": {
        "id": "901j04acrHxe",
        "colab": {
          "base_uri": "https://localhost:8080/"
        },
        "outputId": "9ab1ab38-ddf0-4ad9-f5d7-0bc805d58caf"
      },
      "outputs": [
        {
          "output_type": "stream",
          "name": "stdout",
          "text": [
            "\u001b[2K     \u001b[90m━━━━━━━━━━━━━━━━━━━━━━━━━━━━━━━━━━━━━━━━\u001b[0m \u001b[32m2.1/2.1 MB\u001b[0m \u001b[31m29.6 MB/s\u001b[0m eta \u001b[36m0:00:00\u001b[0m\n",
            "\u001b[2K     \u001b[90m━━━━━━━━━━━━━━━━━━━━━━━━━━━━━━━━━━━━━━\u001b[0m \u001b[32m190.0/190.0 kB\u001b[0m \u001b[31m21.1 MB/s\u001b[0m eta \u001b[36m0:00:00\u001b[0m\n",
            "\u001b[2K     \u001b[90m━━━━━━━━━━━━━━━━━━━━━━━━━━━━━━━━━━━━━━\u001b[0m \u001b[32m224.8/224.8 kB\u001b[0m \u001b[31m25.6 MB/s\u001b[0m eta \u001b[36m0:00:00\u001b[0m\n",
            "\u001b[?25h  Preparing metadata (setup.py) ... \u001b[?25l\u001b[?25hdone\n",
            "\u001b[2K     \u001b[90m━━━━━━━━━━━━━━━━━━━━━━━━━━━━━━━━━━━━━━━━\u001b[0m \u001b[32m62.7/62.7 kB\u001b[0m \u001b[31m8.5 MB/s\u001b[0m eta \u001b[36m0:00:00\u001b[0m\n",
            "\u001b[?25h  Building wheel for pathtools (setup.py) ... \u001b[?25l\u001b[?25hdone\n"
          ]
        }
      ],
      "source": [
        "!pip install -q wandb"
      ]
    },
    {
      "cell_type": "markdown",
      "metadata": {
        "id": "pGk1Y2ea-3vS"
      },
      "source": [
        "## Import necessary libraries"
      ]
    },
    {
      "cell_type": "code",
      "execution_count": null,
      "metadata": {
        "id": "9qulzbyd-1GC"
      },
      "outputs": [],
      "source": [
        "from google.colab import drive\n",
        "import os\n",
        "import zipfile\n",
        "from torch.utils.data import Dataset, DataLoader\n",
        "from torchvision import transforms\n",
        "from PIL import Image\n",
        "import re\n",
        "from transformers import Pix2StructForConditionalGeneration, AutoProcessor\n",
        "import torch\n",
        "from torch.nn import functional as F\n",
        "from transformers.optimization import Adafactor, get_cosine_schedule_with_warmup\n",
        "from pathlib import Path\n",
        "from nltk import edit_distance\n",
        "import numpy as np\n",
        "import wandb\n",
        "from tqdm import tqdm\n",
        "from nltk.translate.bleu_score import corpus_bleu, sentence_bleu, SmoothingFunction\n",
        "from torch.utils.data import random_split\n",
        "import random"
      ]
    },
    {
      "cell_type": "markdown",
      "source": [
        "## Define variables and parameters"
      ],
      "metadata": {
        "id": "HqLs67rI0z4r"
      }
    },
    {
      "cell_type": "code",
      "source": [
        "G_DRIVE_FOLDER_DATASET = '/content/drive/MyDrive/Datasets/'\n",
        "G_DRIVE_FOLDER_CHECKPOINTS = '/content/drive/MyDrive/Checkpoints/'\n",
        "DATASET_NAME = 'pix2code_web_with_html_loremipsum'\n",
        "ZIP_NAME = DATASET_NAME + '.zip'\n",
        "DESTINATION_FOLDER= '/content/data/'\n",
        "DATASET_FOLDER = DESTINATION_FOLDER + 'web_with_html_loremipsum/' # unzipped name\n",
        "\n",
        "EXPERIMENT_NAME = \"Pix2Struct_Pix2Code_HTML_LI\"\n",
        "\n",
        "MAX_SENTENCE_LEN = 1024\n",
        "\n",
        "MAX_PATCHES = 1024\n",
        "\n",
        "DEBUG = False\n",
        "VERBOSE = True\n",
        "\n",
        "BATCH_SIZE = 4\n",
        "NUM_WARMUP_STEPS = 500\n",
        "MAX_EPOCHS = 10\n",
        "LR = 1e-4\n",
        "CHECK_VAL_EVERY_N_EPOCH = 5\n",
        "GRADIENT_CLIP_VAL = 1.0\n",
        "ACCUMULATE_GRAD_BATCHES = 8 / BATCH_SIZE\n",
        "\n",
        "TRAIN_SET_PERCENTAGE = 0.89\n",
        "VALID_SET_PERCENTAGE = 0.01\n",
        "# TEST_SET_PERCENTAGE is 1 - TRAIN_SET_PERCENTAGE - VALID_SET_PERCENTAGE # Use 1000 for test\n",
        "\n",
        "\n",
        "RANDOM_SEED = 100\n",
        "\n",
        "LOAD_FROM_CHECKPOINT = True\n",
        "LAST_CHECKPOINT_NAME = \"FINAL_Pix2Struct_Pix2Code_epoch[19]_bleu[0.98].pth\""
      ],
      "metadata": {
        "id": "7_hu5o7vam2A"
      },
      "execution_count": null,
      "outputs": []
    },
    {
      "cell_type": "code",
      "source": [
        "DEVICE = torch.device('cuda' if torch.cuda.is_available() else 'cpu')"
      ],
      "metadata": {
        "id": "R4AXaB54eqgU"
      },
      "execution_count": null,
      "outputs": []
    },
    {
      "cell_type": "markdown",
      "metadata": {
        "id": "kflo6stPSGhT"
      },
      "source": [
        "\n",
        "## Load Pix2Code Dataset"
      ]
    },
    {
      "cell_type": "markdown",
      "metadata": {
        "id": "c43sPb4lSQaE"
      },
      "source": [
        "### Mount Google Drive"
      ]
    },
    {
      "cell_type": "code",
      "execution_count": null,
      "metadata": {
        "id": "cc6eCnnEQp5X",
        "colab": {
          "base_uri": "https://localhost:8080/"
        },
        "outputId": "845f48c5-d20f-42b0-e93b-fdfecf661910"
      },
      "outputs": [
        {
          "output_type": "stream",
          "name": "stdout",
          "text": [
            "Mounted at /content/drive\n"
          ]
        }
      ],
      "source": [
        "drive.mount('/content/drive')"
      ]
    },
    {
      "cell_type": "markdown",
      "metadata": {
        "id": "R-TqChHhSYgz"
      },
      "source": [
        "### Import zip file from Google Drive"
      ]
    },
    {
      "cell_type": "code",
      "execution_count": null,
      "metadata": {
        "id": "Ju1BprKCVbvg"
      },
      "outputs": [],
      "source": [
        "os.makedirs(DESTINATION_FOLDER, exist_ok=True)\n",
        "\n",
        "with zipfile.ZipFile(G_DRIVE_FOLDER_DATASET + ZIP_NAME, \"r\") as zf:\n",
        "  zf.extractall(DESTINATION_FOLDER)"
      ]
    },
    {
      "cell_type": "markdown",
      "metadata": {
        "id": "XIyXwQultNqy"
      },
      "source": [
        "## Load Model and Processor"
      ]
    },
    {
      "cell_type": "code",
      "execution_count": null,
      "metadata": {
        "id": "15QM1CZQtRWr",
        "colab": {
          "base_uri": "https://localhost:8080/",
          "height": 241,
          "referenced_widgets": [
            "e453ea05a3b04c0cab1a2a57cc8a98ad",
            "d25f0bc1fdea4ec6af3844a1fd116f94",
            "31e463e1b9004c699c42fdaf2d93ce63",
            "862c174c27424513ab2f17414832d47e",
            "e0c7d0184f57426ba85aee98f823799b",
            "a5bca6f0af8e4163824a265ad5376cfc",
            "7266520faaf24bb6aa9418ea49b21e47",
            "e8347f553f534104af3631b3563b72dd",
            "0e9fbfe93c754d928b6314308a4d5071",
            "9bddc5259e654b89ba55cd17fb1a286d",
            "b53f6538b1b9482c94a110cc94c36ea9",
            "b4f18fd94a754c309f32aa3a6aa665e2",
            "3c04196e00d74c078ca5b582fd08fafc",
            "c110ea5d494f4e04aa4d22629ef2f68c",
            "433cb8a8778247308304e95891b650cb",
            "31c31d1713a44aacb84c070b74898631",
            "0a0630ddb9544820a3f6fafaa31c3e04",
            "bb526c14245948e28a4b73d5f05d27ff",
            "45fd9e631b5b4958a0771d324889c3ff",
            "87604f46098c48208e09dc9ad8e871cd",
            "e52b2ff51d754552ad4d93cc12e1b915",
            "45f03893b1294c0d82cf035d0f6e08cc",
            "6eddf7319aa24ea2941110f8583138c0",
            "06f3a6539894407eacb662d2d99922cb",
            "b92ab203b2dd40bcb63b6aca2cf0173a",
            "6b4732f0ebac437da79014791210f484",
            "105c143197ea4615b4bc3318e8643593",
            "f59b78432e3142f9935d5edaa45e6cac",
            "505840c1a8474ffda5bcba982ae46c2b",
            "4dfb08cef26241e0a04f2ba7357f75e6",
            "e3aa47aaa39e44758c735d6b7b09aad2",
            "dfb4e37b98604b48932e0be296c47ef4",
            "721b4705f5c04855a1ae2d2b3440e438",
            "458c88e014be4fca9f7f665ead551ee0",
            "a9ca15a0cd6c429389d442b58041799f",
            "ebee932c7a484d15aef182d281cff929",
            "9b7fa0be39264e4bb169ab522d1156d9",
            "6c95958d745b4ff6bd381d94c2553967",
            "beb0701340c5406c938a19416e147fbd",
            "66cc7f09bf21435db58bd34ffce2fbf6",
            "0bb5108f127440e4ab5a9ab948a8d66a",
            "7b19893ec9df4ee1ad3d6cd6780ab506",
            "f1419493be814b4aa7d8ff6aaecea218",
            "6d12dc8bb7c54a5a8eb511f13e0fdc2b",
            "5ab7fa2d452f419ea71cc8ea714b0d9d",
            "f5223faa047341c881cda8aea002ff3f",
            "f8c8bac07c4b46ce88bac5baef5fd889",
            "61f72c598f184888985696fc84a84cbb",
            "7fda6421d15d4d19b3c44395a1539825",
            "a9a0ae7f9aef4f66a4bf3adf1575858e",
            "e5d0095a5c95460998b0405e92bcb98c",
            "1de4e1c1660744e3bab44e603dc32356",
            "032004e1c62b4d61b2822ffbd3a93ca6",
            "10c94f10fd634043898d1b7938ff474d",
            "aa27a48bad2746038550cf25a9f87ba7",
            "5358bc2508f2405c87b39e50d3ea9b87",
            "562d93feee0d4b5d8aaa31920f429db3",
            "5967887e16bb4a7e91bce1a94ff478ce",
            "d0ffbd3c7d984ca68755c54ba620cee6",
            "5fc193bacde640f48eabe86c4b370373",
            "3de988405b3a420ebe3293312c102504",
            "b5fcce1682fd4034a57d54fd075b6ba3",
            "b9f88a1c9568482d98baba567d22943b",
            "1d73b85f0b3d45c1bf81cdc240e0907f",
            "2aed2a5dcd33448ca3114af42a030c70",
            "2b8df28d0a144ebab2de5d15cd87bb4a",
            "48b3ca6591244626ba515d09df37b65c",
            "3fb342eae88043febcffc5de818f68f8",
            "a7513cece032440c9452cd5d2d5eb9e0",
            "5a457ff25e1d480cb3e7920ba34f0db1",
            "08a5d859d8384cf991094bb9c3b5b13b",
            "92e23b6b39104a3a96555f36e3873d66",
            "c644b72b538d477eb8ab8b38dc046371",
            "44467d33309e4392855bf6a1e7188a7e",
            "27c38c0ba27c430d94154a413a971c52",
            "ab7a99dfd65442cea101d20329cf3878",
            "f0cccd6281df40d7a018858cf1bbc7d2"
          ]
        },
        "outputId": "4dbd1457-77be-4ee6-94c4-ba530efd84db"
      },
      "outputs": [
        {
          "output_type": "display_data",
          "data": {
            "text/plain": [
              "Downloading (…)rocessor_config.json:   0%|          | 0.00/231 [00:00<?, ?B/s]"
            ],
            "application/vnd.jupyter.widget-view+json": {
              "version_major": 2,
              "version_minor": 0,
              "model_id": "e453ea05a3b04c0cab1a2a57cc8a98ad"
            }
          },
          "metadata": {}
        },
        {
          "output_type": "display_data",
          "data": {
            "text/plain": [
              "Downloading (…)okenizer_config.json:   0%|          | 0.00/2.61k [00:00<?, ?B/s]"
            ],
            "application/vnd.jupyter.widget-view+json": {
              "version_major": 2,
              "version_minor": 0,
              "model_id": "b4f18fd94a754c309f32aa3a6aa665e2"
            }
          },
          "metadata": {}
        },
        {
          "output_type": "display_data",
          "data": {
            "text/plain": [
              "Downloading spiece.model:   0%|          | 0.00/851k [00:00<?, ?B/s]"
            ],
            "application/vnd.jupyter.widget-view+json": {
              "version_major": 2,
              "version_minor": 0,
              "model_id": "6eddf7319aa24ea2941110f8583138c0"
            }
          },
          "metadata": {}
        },
        {
          "output_type": "display_data",
          "data": {
            "text/plain": [
              "Downloading (…)/main/tokenizer.json:   0%|          | 0.00/3.27M [00:00<?, ?B/s]"
            ],
            "application/vnd.jupyter.widget-view+json": {
              "version_major": 2,
              "version_minor": 0,
              "model_id": "458c88e014be4fca9f7f665ead551ee0"
            }
          },
          "metadata": {}
        },
        {
          "output_type": "display_data",
          "data": {
            "text/plain": [
              "Downloading (…)cial_tokens_map.json:   0%|          | 0.00/2.20k [00:00<?, ?B/s]"
            ],
            "application/vnd.jupyter.widget-view+json": {
              "version_major": 2,
              "version_minor": 0,
              "model_id": "5ab7fa2d452f419ea71cc8ea714b0d9d"
            }
          },
          "metadata": {}
        },
        {
          "output_type": "display_data",
          "data": {
            "text/plain": [
              "Downloading (…)lve/main/config.json:   0%|          | 0.00/4.92k [00:00<?, ?B/s]"
            ],
            "application/vnd.jupyter.widget-view+json": {
              "version_major": 2,
              "version_minor": 0,
              "model_id": "5358bc2508f2405c87b39e50d3ea9b87"
            }
          },
          "metadata": {}
        },
        {
          "output_type": "display_data",
          "data": {
            "text/plain": [
              "Downloading pytorch_model.bin:   0%|          | 0.00/1.13G [00:00<?, ?B/s]"
            ],
            "application/vnd.jupyter.widget-view+json": {
              "version_major": 2,
              "version_minor": 0,
              "model_id": "48b3ca6591244626ba515d09df37b65c"
            }
          },
          "metadata": {}
        }
      ],
      "source": [
        "repo_id = \"google/pix2struct-base\"\n",
        "\n",
        "processor = AutoProcessor.from_pretrained(repo_id)\n",
        "model = Pix2StructForConditionalGeneration.from_pretrained(repo_id, is_encoder_decoder=True)"
      ]
    },
    {
      "cell_type": "code",
      "execution_count": null,
      "metadata": {
        "id": "pbOXdTmPEbGi",
        "colab": {
          "base_uri": "https://localhost:8080/"
        },
        "outputId": "329d9d96-e625-4b34-f7d2-cbc1af85d4cc"
      },
      "outputs": [
        {
          "output_type": "stream",
          "name": "stdout",
          "text": [
            "Loading model from checkpoint: FINAL_Pix2Struct_Pix2Code_epoch[19]_bleu[0.98].pth\n"
          ]
        }
      ],
      "source": [
        "if LOAD_FROM_CHECKPOINT:\n",
        "    print(\"Loading model from checkpoint:\", LAST_CHECKPOINT_NAME)\n",
        "    checkpoint = torch.load(G_DRIVE_FOLDER_CHECKPOINTS + LAST_CHECKPOINT_NAME)\n",
        "\n",
        "    # Load only model weights from training on Pix2Code guis\n",
        "    model.load_state_dict(checkpoint)\n"
      ]
    },
    {
      "cell_type": "markdown",
      "metadata": {
        "id": "8vyJVirgV8VN"
      },
      "source": [
        "## Create Dataset class"
      ]
    },
    {
      "cell_type": "code",
      "source": [
        "def preprocess_html_file(html_text):\n",
        "    text_without_header = re.sub(r'<header>.*?</header>', '', html_text, flags=re.DOTALL)\n",
        "    text_without_footer = re.sub(r'<footer class=\"footer\">.*?</footer>', '', text_without_header, flags=re.DOTALL)\n",
        "    text_without_script = re.sub(r'<script .*?</script>', '', text_without_footer, flags=re.DOTALL)\n",
        "    text_without_linebreaks = text_without_script.replace('\\n', ' ')\n",
        "    text_without_multiple_spaces = re.sub(r'\\s+', ' ', text_without_linebreaks)\n",
        "    return text_without_multiple_spaces"
      ],
      "metadata": {
        "id": "_3ihr-ERsJaL"
      },
      "execution_count": null,
      "outputs": []
    },
    {
      "cell_type": "markdown",
      "source": [
        "### Filter files with less tokens than 1024 and add new unknown tokens"
      ],
      "metadata": {
        "id": "SmO8IhvtvPHR"
      }
    },
    {
      "cell_type": "code",
      "source": [
        "# Get a list of all files in root_dir\n",
        "files = os.listdir(DATASET_FOLDER)\n",
        "\n",
        "# Find only html files\n",
        "all_html_files = [file for file in files if file.endswith('.html')]"
      ],
      "metadata": {
        "id": "M_J_ugkdgixA"
      },
      "execution_count": null,
      "outputs": []
    },
    {
      "cell_type": "code",
      "source": [
        "# Find max length\n",
        "max_length = 0\n",
        "\n",
        "bigger_than_1024 = 0\n",
        "lower_than_1024 = 0\n",
        "\n",
        "html_files_filtered = []\n",
        "\n",
        "tokens_to_add = set()\n",
        "\n",
        "for html_file_path in all_html_files:\n",
        "    with open(DATASET_FOLDER + \"/\" + html_file_path, \"r\") as reader:\n",
        "        preprocessed_text = preprocess_html_file(reader.read())\n",
        "        splitted_text = processor.tokenizer(preprocessed_text).tokens()\n",
        "        if len(splitted_text) > 1024:\n",
        "            bigger_than_1024 += 1\n",
        "        else:\n",
        "            lower_than_1024 += 1\n",
        "            html_files_filtered.append(html_file_path)\n",
        "            tokens_to_add = tokens_to_add.union(set(splitted_text))\n",
        "\n",
        "print(\"bigger_than_1024= \", bigger_than_1024)\n",
        "print(\"lower_than_1024= \", lower_than_1024)\n",
        "\n",
        "newly_added_num = processor.tokenizer.add_tokens(list(tokens_to_add))\n",
        "print(f\"Number of new tokens = {newly_added_num}\")\n",
        "\n",
        "# Resize the model's token embeddings if there are new tokens\n",
        "if newly_added_num > 0:\n",
        "    model.decoder.resize_token_embeddings(len(processor.tokenizer), pad_to_multiple_of=8)"
      ],
      "metadata": {
        "id": "94a69-Jnm7Kc",
        "colab": {
          "base_uri": "https://localhost:8080/"
        },
        "outputId": "3a3c13ba-e09f-4e22-91c4-6d7b82acd332"
      },
      "execution_count": null,
      "outputs": [
        {
          "output_type": "stream",
          "name": "stdout",
          "text": [
            "bigger_than_1024=  0\n",
            "lower_than_1024=  1742\n",
            "Number of new tokens = 0\n"
          ]
        }
      ]
    },
    {
      "cell_type": "code",
      "source": [
        "print(len(html_files_filtered))"
      ],
      "metadata": {
        "id": "TIGV55sghoBX",
        "colab": {
          "base_uri": "https://localhost:8080/"
        },
        "outputId": "686e9e70-cd9a-4eb3-d501-ee19481ebf6b"
      },
      "execution_count": null,
      "outputs": [
        {
          "output_type": "stream",
          "name": "stdout",
          "text": [
            "1742\n"
          ]
        }
      ]
    },
    {
      "cell_type": "code",
      "source": [
        "random.seed(RANDOM_SEED)\n",
        "\n",
        "# Use the same seed, so that parts remain the same\n",
        "random.shuffle(html_files_filtered)\n",
        "\n",
        "train_len = int(TRAIN_SET_PERCENTAGE * len(html_files_filtered))\n",
        "valid_len = int(VALID_SET_PERCENTAGE * len(html_files_filtered))\n",
        "\n",
        "train_paths = html_files_filtered[:train_len]\n",
        "valid_paths = html_files_filtered[train_len:train_len+valid_len]\n",
        "test_paths = html_files_filtered[train_len+valid_len:]\n",
        "\n",
        "print(f\"TRAIN_SET size = {len(train_paths)}\")\n",
        "print(f\"VALID_SET size = {len(valid_paths)}\")\n",
        "print(f\"TEST_SET size = {len(test_paths)}\")"
      ],
      "metadata": {
        "id": "mIaf0zcMhyYG",
        "colab": {
          "base_uri": "https://localhost:8080/"
        },
        "outputId": "459a77d0-a87e-4bf3-c1a1-20d7945aa55e"
      },
      "execution_count": null,
      "outputs": [
        {
          "output_type": "stream",
          "name": "stdout",
          "text": [
            "TRAIN_SET size = 1550\n",
            "VALID_SET size = 17\n",
            "TEST_SET size = 175\n"
          ]
        }
      ]
    },
    {
      "cell_type": "code",
      "source": [
        "class Pix2CodeDataset(Dataset):\n",
        "    def __init__(self, root_dir, transform, text_files_paths):\n",
        "\n",
        "        self.root_dir = root_dir\n",
        "        self.transform = transform\n",
        "        self.text_files_paths = text_files_paths\n",
        "\n",
        "        self.max_patches = MAX_PATCHES\n",
        "        self.max_length = MAX_SENTENCE_LEN\n",
        "        self.ignore_id = -100\n",
        "\n",
        "        self.encodings = []\n",
        "\n",
        "        for text_file in tqdm(text_files_paths):\n",
        "            image_file = text_file.replace('.html', '.png')\n",
        "\n",
        "            # Directly process the text files, and save them in the ram\n",
        "            # Do the same also for images, if there is enough space in memory\n",
        "            text_file_path = os.path.join(root_dir, text_file)\n",
        "            image_file_path = os.path.join(root_dir, image_file)\n",
        "\n",
        "            # Load image\n",
        "            image = Image.open(image_file_path).convert('RGB')\n",
        "\n",
        "            if DEBUG:\n",
        "                image.show()\n",
        "\n",
        "            if self.transform:\n",
        "                image = self.transform(image)\n",
        "\n",
        "            encoding = processor(images=image, max_patches=self.max_patches, return_tensors=\"pt\")\n",
        "            encoding = {k:v.squeeze() for k,v in encoding.items()}\n",
        "\n",
        "            # Load text\n",
        "            with open(text_file_path, 'r') as f:\n",
        "                text = f.read()\n",
        "                text_cleaned = preprocess_html_file(text)\n",
        "\n",
        "            if DEBUG:\n",
        "              print(\"text:\")\n",
        "              print(text)\n",
        "              print(\"\\n\\n\\ntext_cleaned:\")\n",
        "              print(text_cleaned)\n",
        "\n",
        "            input_ids = processor.tokenizer(\n",
        "                text_cleaned,\n",
        "                max_length=self.max_length,\n",
        "                padding=\"max_length\",\n",
        "                truncation=True,\n",
        "                return_tensors=\"pt\",\n",
        "            ).input_ids\n",
        "\n",
        "            labels = input_ids.squeeze().clone()\n",
        "            labels[labels == processor.tokenizer.pad_token_id] = self.ignore_id  # model doesn't need to predict pad token\n",
        "\n",
        "            encoding[\"labels\"] = labels\n",
        "\n",
        "            # For each sample save directly the encoding of both text and image\n",
        "            self.encodings.append(encoding)\n",
        "\n",
        "    def __len__(self):\n",
        "        return len(self.encodings)\n",
        "\n",
        "    def __getitem__(self, idx):\n",
        "        return self.encodings[idx]"
      ],
      "metadata": {
        "id": "HcIfjZZxHfAB"
      },
      "execution_count": null,
      "outputs": []
    },
    {
      "cell_type": "code",
      "execution_count": null,
      "metadata": {
        "id": "WulOgKwb1aNh",
        "colab": {
          "base_uri": "https://localhost:8080/"
        },
        "outputId": "248f77f0-6db8-4e5d-97f6-9693f7fa71f5"
      },
      "outputs": [
        {
          "output_type": "stream",
          "name": "stderr",
          "text": [
            "100%|██████████| 1550/1550 [01:25<00:00, 18.22it/s]\n",
            "100%|██████████| 17/17 [00:00<00:00, 19.03it/s]\n"
          ]
        }
      ],
      "source": [
        "# Transformations for the image\n",
        "transform = transforms.Compose([\n",
        "    transforms.ToTensor(),  # convert PIL Image to PyTorch Tensor\n",
        "    transforms.Normalize(mean=[0.485, 0.456, 0.406], std=[0.229, 0.224, 0.225]),  # normalize for pretrained models\n",
        "])\n",
        "\n",
        "# Instantiate the CustomDataset\n",
        "train_dataset = Pix2CodeDataset(DATASET_FOLDER, transform, train_paths)\n",
        "val_dataset = Pix2CodeDataset(DATASET_FOLDER, transform, valid_paths)\n",
        "\n",
        "# Use DataLoader for batching and shuffling\n",
        "train_dataloader = DataLoader(train_dataset, batch_size=BATCH_SIZE, shuffle=True)\n",
        "val_dataloader = DataLoader(val_dataset, batch_size=10, shuffle=False) # Use 10 as batch for testing"
      ]
    },
    {
      "cell_type": "code",
      "execution_count": null,
      "metadata": {
        "id": "RJbcAvt2eSvb",
        "colab": {
          "base_uri": "https://localhost:8080/"
        },
        "outputId": "f4670bff-792f-4796-f5fa-7e24dfd087b3"
      },
      "outputs": [
        {
          "output_type": "stream",
          "name": "stdout",
          "text": [
            "train_dataloader size = 388\n",
            "val_dataloader size = 2\n"
          ]
        }
      ],
      "source": [
        "print(f\"train_dataloader size = {len(train_dataloader)}\")\n",
        "print(f\"val_dataloader size = {len(val_dataloader)}\")"
      ]
    },
    {
      "cell_type": "code",
      "execution_count": null,
      "metadata": {
        "id": "RYsgx4dc7zPa"
      },
      "outputs": [],
      "source": [
        "batch = next(iter(train_dataloader))\n",
        "encoding = batch"
      ]
    },
    {
      "cell_type": "code",
      "execution_count": null,
      "metadata": {
        "id": "IMYh5fmR77Cn",
        "colab": {
          "base_uri": "https://localhost:8080/"
        },
        "outputId": "49675ff6-a9c2-48fe-d447-4291092122c0"
      },
      "outputs": [
        {
          "output_type": "execute_result",
          "data": {
            "text/plain": [
              "{'flattened_patches': tensor([[[ 1.0000,  1.0000, -0.0395,  ..., -0.0395,  0.2814,  0.6590],\n",
              "          [ 1.0000,  2.0000, -0.0395,  ..., -6.2786, -6.0970, -5.6910],\n",
              "          [ 1.0000,  3.0000, -0.0395,  ..., -6.2344, -5.8883, -5.3066],\n",
              "          ...,\n",
              "          [ 0.0000,  0.0000,  0.0000,  ...,  0.0000,  0.0000,  0.0000],\n",
              "          [ 0.0000,  0.0000,  0.0000,  ...,  0.0000,  0.0000,  0.0000],\n",
              "          [ 0.0000,  0.0000,  0.0000,  ...,  0.0000,  0.0000,  0.0000]],\n",
              " \n",
              "         [[ 1.0000,  1.0000, -0.0369,  ..., -0.0369,  0.2828,  0.6590],\n",
              "          [ 1.0000,  2.0000, -0.0369,  ..., -6.2522, -6.0713, -5.6669],\n",
              "          [ 1.0000,  3.0000, -0.0369,  ..., -6.2386, -6.0167, -5.5677],\n",
              "          ...,\n",
              "          [ 0.0000,  0.0000,  0.0000,  ...,  0.0000,  0.0000,  0.0000],\n",
              "          [ 0.0000,  0.0000,  0.0000,  ...,  0.0000,  0.0000,  0.0000],\n",
              "          [ 0.0000,  0.0000,  0.0000,  ...,  0.0000,  0.0000,  0.0000]],\n",
              " \n",
              "         [[ 1.0000,  1.0000, -0.1393,  ..., -0.1393,  0.1879,  0.5730],\n",
              "          [ 1.0000,  2.0000, -0.1393,  ..., -6.5027, -6.3175, -5.9035],\n",
              "          [ 1.0000,  3.0000, -0.1393,  ..., -6.4847, -6.2455, -5.7713],\n",
              "          ...,\n",
              "          [ 0.0000,  0.0000,  0.0000,  ...,  0.0000,  0.0000,  0.0000],\n",
              "          [ 0.0000,  0.0000,  0.0000,  ...,  0.0000,  0.0000,  0.0000],\n",
              "          [ 0.0000,  0.0000,  0.0000,  ...,  0.0000,  0.0000,  0.0000]],\n",
              " \n",
              "         [[ 1.0000,  1.0000, -0.0934,  ..., -0.0934,  0.2741,  0.7066],\n",
              "          [ 1.0000,  2.0000, -0.0934,  ..., -6.5385, -4.5244, -2.0385],\n",
              "          [ 1.0000,  3.0000, -0.0934,  ..., -6.3942, -4.4138, -1.9748],\n",
              "          ...,\n",
              "          [ 0.0000,  0.0000,  0.0000,  ...,  0.0000,  0.0000,  0.0000],\n",
              "          [ 0.0000,  0.0000,  0.0000,  ...,  0.0000,  0.0000,  0.0000],\n",
              "          [ 0.0000,  0.0000,  0.0000,  ...,  0.0000,  0.0000,  0.0000]]]),\n",
              " 'attention_mask': tensor([[1., 1., 1.,  ..., 0., 0., 0.],\n",
              "         [1., 1., 1.,  ..., 0., 0., 0.],\n",
              "         [1., 1., 1.,  ..., 0., 0., 0.],\n",
              "         [1., 1., 1.,  ..., 0., 0., 0.]]),\n",
              " 'labels': tensor([[50190, 50227,   411,  ...,  -100,  -100,  -100],\n",
              "         [50190, 50227,   411,  ...,  -100,  -100,  -100],\n",
              "         [50190, 50227,   411,  ...,  -100,  -100,  -100],\n",
              "         [50190, 50227,   411,  ...,  -100,  -100,  -100]])}"
            ]
          },
          "metadata": {},
          "execution_count": 24
        }
      ],
      "source": [
        "encoding"
      ]
    },
    {
      "cell_type": "code",
      "source": [
        "encoding[\"flattened_patches\"][0]"
      ],
      "metadata": {
        "id": "RkrDNGE4wybD",
        "colab": {
          "base_uri": "https://localhost:8080/"
        },
        "outputId": "9480f320-52ee-42af-a858-ff74b3becba7"
      },
      "execution_count": null,
      "outputs": [
        {
          "output_type": "execute_result",
          "data": {
            "text/plain": [
              "tensor([[ 1.0000,  1.0000, -0.0395,  ..., -0.0395,  0.2814,  0.6590],\n",
              "        [ 1.0000,  2.0000, -0.0395,  ..., -6.2786, -6.0970, -5.6910],\n",
              "        [ 1.0000,  3.0000, -0.0395,  ..., -6.2344, -5.8883, -5.3066],\n",
              "        ...,\n",
              "        [ 0.0000,  0.0000,  0.0000,  ...,  0.0000,  0.0000,  0.0000],\n",
              "        [ 0.0000,  0.0000,  0.0000,  ...,  0.0000,  0.0000,  0.0000],\n",
              "        [ 0.0000,  0.0000,  0.0000,  ...,  0.0000,  0.0000,  0.0000]])"
            ]
          },
          "metadata": {},
          "execution_count": 25
        }
      ]
    },
    {
      "cell_type": "code",
      "source": [
        "encoding[\"labels\"]"
      ],
      "metadata": {
        "id": "TTIYBuTDqAX5",
        "colab": {
          "base_uri": "https://localhost:8080/"
        },
        "outputId": "3fc969ea-50a7-4c01-f76f-184109608916"
      },
      "execution_count": null,
      "outputs": [
        {
          "output_type": "execute_result",
          "data": {
            "text/plain": [
              "tensor([[50190, 50227,   411,  ...,  -100,  -100,  -100],\n",
              "        [50190, 50227,   411,  ...,  -100,  -100,  -100],\n",
              "        [50190, 50227,   411,  ...,  -100,  -100,  -100],\n",
              "        [50190, 50227,   411,  ...,  -100,  -100,  -100]])"
            ]
          },
          "metadata": {},
          "execution_count": 26
        }
      ]
    },
    {
      "cell_type": "code",
      "source": [
        "encoding[\"labels\"][0]"
      ],
      "metadata": {
        "id": "sMl1M2T8qTmg",
        "colab": {
          "base_uri": "https://localhost:8080/"
        },
        "outputId": "d4c016d8-34a3-44ed-a435-679c52dfd371"
      },
      "execution_count": null,
      "outputs": [
        {
          "output_type": "execute_result",
          "data": {
            "text/plain": [
              "tensor([50190, 50227,   411,  ...,  -100,  -100,  -100])"
            ]
          },
          "metadata": {},
          "execution_count": 27
        }
      ]
    },
    {
      "cell_type": "code",
      "source": [
        "labels_list = encoding[\"labels\"][0].tolist()\n",
        "\n",
        "# Filter out the -100 values\n",
        "filtered_labels = [token for token in labels_list if token != -100]\n",
        "\n",
        "# Decode the cleaned list of tokens\n",
        "decoded_text_example = processor.tokenizer.batch_decode([filtered_labels], skip_special_tokens=True)[0]\n"
      ],
      "metadata": {
        "id": "5LzfjsX_qs5u"
      },
      "execution_count": null,
      "outputs": []
    },
    {
      "cell_type": "code",
      "source": [
        "decoded_text_example"
      ],
      "metadata": {
        "id": "_nFDTn-XrQWl",
        "colab": {
          "base_uri": "https://localhost:8080/",
          "height": 286
        },
        "outputId": "17aaa81e-d8c7-4292-b06c-dbb0206dc9eb"
      },
      "execution_count": null,
      "outputs": [
        {
          "output_type": "execute_result",
          "data": {
            "text/plain": [
              "'<html> <body> <main class=\"container\"> <div class=\"header clearfix\"> <nav> <ul class=\"nav nav-pills pull-left\"> <li><a href=\"#\">Id et</a></li> <li><a href=\"#\">Nisi aute</a></li> <li class=\"active\"><a href=\"#\">Irure magna</a></li> <li><a href=\"#\">Sed in</a></li> <li><a href=\"#\">Esse officia</a></li> </ul> </nav> </div> <div class=\"row\"><div class=\"col-lg-6\"> <h4>Exercitation</h4><p>In nisi aliqua deserunt consequat commodo esse dolor</p> <a class=\"btn btn-danger\" href=\"#\" role=\"button\">Sint ullamco</a> </div> <div class=\"col-lg-6\"> <h4>Sint</h4><p>Incididunt minim occaecat dolore sint cillum ad voluptate</p> <a class=\"btn btn-warning\" href=\"#\" role=\"button\">Nisi officia</a> </div> </div> <div class=\"row\"><div class=\"col-lg-3\"> <h4>Cillum</h4><p>Aliqua velit esse qui consequat est sint nostrud</p> <a class=\"btn btn-success\" href=\"#\" role=\"button\">Ullamco quis</a> </div> <div class=\"col-lg-3\"> <h4>Fugiat</h4><p>Laborum duis occaecat minim anim quis esse qui</p> <a class=\"btn btn-success\" href=\"#\" role=\"button\">Deserunt cupidatat</a> </div> <div class=\"col-lg-3\"> <h4>Quis</h4><p>Duis officia aliqua aute culpa cillum</p> <a class=\"btn btn-danger\" href=\"#\" role=\"button\">Ad fugiat</a> </div> <div class=\"col-lg-3\"> <h4>Mollit</h4><p>Aliquip dolore fugiat enim minim</p> <a class=\"btn btn-danger\" href=\"#\" role=\"button\">Exercitation enim</a> </div> </div> <div class=\"row\"><div class=\"col-lg-12\"> <h4>Id</h4><p>Amet ad</p> <a class=\"btn btn-danger\" href=\"#\" role=\"button\">Nulla non</a> </div> </div> </main> </body> </html> '"
            ],
            "application/vnd.google.colaboratory.intrinsic+json": {
              "type": "string"
            }
          },
          "metadata": {},
          "execution_count": 29
        }
      ]
    },
    {
      "cell_type": "code",
      "execution_count": null,
      "metadata": {
        "id": "w721sx7Q-_DV",
        "colab": {
          "base_uri": "https://localhost:8080/"
        },
        "outputId": "c27997ea-4b66-463b-d502-55098353ee80"
      },
      "outputs": [
        {
          "output_type": "stream",
          "name": "stdout",
          "text": [
            "flattened_patches torch.Size([4, 1024, 770])\n",
            "attention_mask torch.Size([4, 1024])\n",
            "labels torch.Size([4, 1024])\n"
          ]
        }
      ],
      "source": [
        "for k,v in encoding.items():\n",
        "    print(k,v.shape)"
      ]
    },
    {
      "cell_type": "markdown",
      "metadata": {
        "id": "g7DngCr1FJQJ"
      },
      "source": [
        "## Training"
      ]
    },
    {
      "cell_type": "code",
      "execution_count": null,
      "metadata": {
        "id": "zkCJQz_GEM4W"
      },
      "outputs": [],
      "source": [
        "START_TOKEN_ID = PAD_TOKEN_ID = processor.tokenizer.pad_token_id"
      ]
    },
    {
      "cell_type": "code",
      "execution_count": null,
      "metadata": {
        "id": "mq6Y22hDqn3x"
      },
      "outputs": [],
      "source": [
        "def move_to_device(data):\n",
        "    if isinstance(data, (list,tuple)):\n",
        "        return [move_to_device(x) for x in data]\n",
        "    elif isinstance(data, dict):\n",
        "        return {k: move_to_device(v) for k, v in data.items()}\n",
        "    elif isinstance(data, torch.Tensor):\n",
        "        return data.to(DEVICE)\n",
        "    else:\n",
        "        return data"
      ]
    },
    {
      "cell_type": "markdown",
      "source": [
        "### Main training function"
      ],
      "metadata": {
        "id": "TEt-owxM1puj"
      }
    },
    {
      "cell_type": "code",
      "execution_count": null,
      "metadata": {
        "id": "1j0_8Yk6Gk4-"
      },
      "outputs": [],
      "source": [
        "def train_model(config, processor, model, train_dataloader, val_dataloader):\n",
        "    # Extract configuration values\n",
        "    lr = config.get(\"lr\")\n",
        "    max_epochs = config.get(\"max_epochs\")\n",
        "    num_warmup_steps = config.get(\"num_warmup_steps\")\n",
        "\n",
        "    model.to(DEVICE)\n",
        "\n",
        "    optimizer = Adafactor(model.parameters(), scale_parameter=False, relative_step=False, lr=lr, weight_decay=1e-05)\n",
        "\n",
        "    # Use total steps (i.e., max_epochs * length_of_train_data)\n",
        "    total_steps = max_epochs * len(train_dataloader)\n",
        "    scheduler = get_cosine_schedule_with_warmup(optimizer,\n",
        "                                                num_warmup_steps=num_warmup_steps,\n",
        "                                                num_training_steps=total_steps)\n",
        "\n",
        "    global_step = 0  # to keep track of total steps\n",
        "    epoch_start = 0\n",
        "\n",
        "    wandb.init(project=\"Pix2Struct\", name=\"run-\" + EXPERIMENT_NAME, config=config)\n",
        "\n",
        "    #epoch_last = epoch_start + max_epochs - 1\n",
        "    epoch_last = max_epochs - 1\n",
        "    #for epoch in range(epoch_start, epoch_start + max_epochs):\n",
        "    for epoch in range(epoch_start, max_epochs):\n",
        "        global_step, moving_avg_loss = training_loop(epoch, train_dataloader, model, config, optimizer, scheduler, global_step, epoch_last)\n",
        "\n",
        "        if config.get(\"verbose\", False):\n",
        "            print(f\"Moving Avg Loss: {moving_avg_loss:.3f}\")\n",
        "\n",
        "        wandb.log({\"moving_avg_loss\": moving_avg_loss, **{f'lr_{i}': param_group['lr'] for i, param_group in enumerate(optimizer.param_groups)}})\n",
        "\n",
        "        # Save the model after each validation step\n",
        "        save_checkpoint(model, optimizer, scheduler, epoch, global_step, wandb.run.id, EXPERIMENT_NAME, G_DRIVE_FOLDER_CHECKPOINTS)\n",
        "\n",
        "        #if epoch == 0 + epoch_start or epoch == epoch_last or (epoch + 1) % config.get(\"check_val_every_n_epoch\") == 0:\n",
        "        if epoch == 0 or epoch == epoch_last or (epoch + 1) % config.get(\"check_val_every_n_epoch\") == 0:\n",
        "            avg_bleu_score = testing_loop(val_dataloader, model, processor, config, f\"Epoch {epoch}/{epoch_last} - valid loop\")\n",
        "\n",
        "            if config.get(\"verbose\", False):\n",
        "                print(f\" Avg Bleu Score: {avg_bleu_score:.2f}\")\n",
        "\n",
        "            wandb.log({\"bleu\": avg_bleu_score})\n",
        "\n",
        "    wandb.finish()"
      ]
    },
    {
      "cell_type": "code",
      "source": [
        "def training_loop(epoch, train_dataloader, model, config, optimizer, scheduler, global_step, epoch_last):\n",
        "    model.train()\n",
        "    train_loop = tqdm(enumerate(train_dataloader), total=len(train_dataloader), desc=f\"Epoch {epoch}/{epoch_last} - train loop\")\n",
        "\n",
        "    # Extract configuration values\n",
        "    accumulate_grad_batches = config.get('accumulate_grad_batches', 1)\n",
        "    gradient_clip_val = config.get(\"gradient_clip_val\")\n",
        "\n",
        "    moving_avg_loss = 0\n",
        "    alpha = 0.1 # Smoothing factor\n",
        "\n",
        "    for step, batch in train_loop:\n",
        "        encoding = move_to_device(batch)\n",
        "        labels, flattened_patches, attention_mask = encoding[\"labels\"], encoding[\"flattened_patches\"], encoding[\"attention_mask\"]\n",
        "\n",
        "        outputs = model(labels=labels, flattened_patches=flattened_patches, attention_mask=attention_mask)\n",
        "        loss = outputs.loss\n",
        "        loss.backward()\n",
        "\n",
        "        if global_step % accumulate_grad_batches == 0 or step == len(train_dataloader) - 1:\n",
        "            if gradient_clip_val:\n",
        "                torch.nn.utils.clip_grad_norm_(model.parameters(), gradient_clip_val)\n",
        "            optimizer.step()\n",
        "            optimizer.zero_grad()\n",
        "\n",
        "        # Update the progress bar\n",
        "        train_loop.set_postfix({'loss': loss.item()}, refresh=True)\n",
        "\n",
        "        scheduler.step()\n",
        "        global_step += 1\n",
        "\n",
        "        # Update the moving average loss\n",
        "        moving_avg_loss = loss.item() if moving_avg_loss == 0 else alpha * loss.item() + (1 - alpha) * moving_avg_loss\n",
        "\n",
        "        # Log Loss after each step\n",
        "        wandb.log({\"loss\": loss.item()})\n",
        "\n",
        "    return global_step, moving_avg_loss"
      ],
      "metadata": {
        "id": "wg6u7CI38kMU"
      },
      "execution_count": null,
      "outputs": []
    },
    {
      "cell_type": "code",
      "source": [
        "def testing_loop(testing_dataloader, model, processor, config, description):\n",
        "    model.eval()\n",
        "    bleu_scores = []\n",
        "\n",
        "    with torch.no_grad():\n",
        "        test_loop = tqdm(enumerate(testing_dataloader), total=len(testing_dataloader), desc=description)\n",
        "        for i, batch in test_loop:\n",
        "            encoding = move_to_device(batch)\n",
        "            labels, flattened_patches, attention_mask = encoding[\"labels\"], encoding[\"flattened_patches\"], encoding[\"attention_mask\"]\n",
        "\n",
        "            outputs = model.generate(flattened_patches=flattened_patches, attention_mask=attention_mask, max_new_tokens=MAX_SENTENCE_LEN)\n",
        "\n",
        "            predictions = processor.tokenizer.batch_decode(outputs, skip_special_tokens=True)\n",
        "\n",
        "            labels[labels == -100] = 0\n",
        "            answers = processor.tokenizer.batch_decode(labels, skip_special_tokens=True)\n",
        "\n",
        "            bleu_scores += [corpus_bleu([[answer]], [pred], smoothing_function=SmoothingFunction().method4) for pred, answer in zip(predictions, answers)]\n",
        "\n",
        "            avg_bleu_score = np.mean(bleu_scores)\n",
        "            test_loop.set_postfix(bleu_score=avg_bleu_score)\n",
        "\n",
        "            if config.get(\"verbose\", False):\n",
        "                for pred, answer, bleu_score in zip(predictions, answers, bleu_scores):\n",
        "                    tqdm.write(f\"\\nPrediction: {pred}\\n    Answer: {answer}\\n      Bleu: {bleu_score:.2f}\")\n",
        "\n",
        "    return avg_bleu_score\n"
      ],
      "metadata": {
        "id": "RXfc_whn-qJW"
      },
      "execution_count": null,
      "outputs": []
    },
    {
      "cell_type": "code",
      "source": [
        "def save_checkpoint(model, optimizer, scheduler, epoch, global_step, wandb_run_id, experiment_name, folder_path):\n",
        "    checkpoint = {\n",
        "        \"model_state_dict\": model.state_dict(),\n",
        "        \"optimizer_state_dict\": optimizer.state_dict(),\n",
        "        \"scheduler_state_dict\": scheduler.state_dict(),\n",
        "        \"epoch\": epoch,\n",
        "        \"global_step\": global_step,\n",
        "        'wandb_run_id': wandb_run_id\n",
        "    }\n",
        "    model_name = f\"{experiment_name}_epoch[{epoch}].pth\"\n",
        "    torch.save(checkpoint, folder_path + model_name)\n"
      ],
      "metadata": {
        "id": "GhiWvFFFA8n4"
      },
      "execution_count": null,
      "outputs": []
    },
    {
      "cell_type": "code",
      "execution_count": null,
      "metadata": {
        "id": "F6Lme6odJJK8"
      },
      "outputs": [],
      "source": [
        "config = {\n",
        "          \"batch_size\": BATCH_SIZE,\n",
        "          \"num_warmup_steps\": NUM_WARMUP_STEPS,\n",
        "          \"max_epochs\": MAX_EPOCHS,\n",
        "          \"lr\": LR,\n",
        "          \"check_val_every_n_epoch\": CHECK_VAL_EVERY_N_EPOCH,\n",
        "          \"gradient_clip_val\": GRADIENT_CLIP_VAL,\n",
        "          \"accumulate_grad_batches\": ACCUMULATE_GRAD_BATCHES,\n",
        "          \"verbose\": VERBOSE,\n",
        "}"
      ]
    },
    {
      "cell_type": "code",
      "source": [
        "def validate_config(config):\n",
        "    # Check required keys\n",
        "    required_keys = [\n",
        "        \"batch_size\",\n",
        "        \"num_warmup_steps\",\n",
        "        \"max_epochs\",\n",
        "        \"lr\",\n",
        "        \"check_val_every_n_epoch\",\n",
        "        \"gradient_clip_val\",\n",
        "        \"accumulate_grad_batches\",\n",
        "        \"verbose\"\n",
        "    ]\n",
        "    for key in required_keys:\n",
        "        if key not in config:\n",
        "            raise ValueError(f\"Key '{key}' must be present in the configuration.\")\n",
        "\n",
        "    # Check that values are in expected ranges\n",
        "    if config[\"batch_size\"] <= 0:\n",
        "        raise ValueError(\"batch_size must be positive.\")\n",
        "    if config[\"num_warmup_steps\"] < 0:\n",
        "        raise ValueError(\"num_warmup_steps must be non-negative.\")\n",
        "    if config[\"max_epochs\"] <= 0:\n",
        "        raise ValueError(\"max_epochs must be positive.\")\n",
        "    if config[\"lr\"] <= 0:\n",
        "        raise ValueError(\"Learning rate must be positive.\")\n",
        "    if config[\"check_val_every_n_epoch\"] <= 0:\n",
        "        raise ValueError(\"check_val_every_n_epoch must be positive.\")\n",
        "    if config[\"gradient_clip_val\"] < 0:\n",
        "        raise ValueError(\"gradient_clip_val must be non-negative.\")\n",
        "    if config[\"accumulate_grad_batches\"] <= 0:\n",
        "        raise ValueError(\"accumulate_grad_batches must be positive.\")\n",
        "    if not isinstance(config[\"verbose\"], bool):\n",
        "        raise ValueError(\"verbose must be a boolean value.\")\n"
      ],
      "metadata": {
        "id": "QxemWk5nEfZL"
      },
      "execution_count": null,
      "outputs": []
    },
    {
      "cell_type": "code",
      "source": [
        "validate_config(config)\n",
        "print(config)"
      ],
      "metadata": {
        "id": "knzzKEtwEruj",
        "colab": {
          "base_uri": "https://localhost:8080/"
        },
        "outputId": "a3fb4326-a554-46c2-c717-5fca52f1a583"
      },
      "execution_count": null,
      "outputs": [
        {
          "output_type": "stream",
          "name": "stdout",
          "text": [
            "{'batch_size': 4, 'num_warmup_steps': 500, 'max_epochs': 10, 'lr': 0.0001, 'check_val_every_n_epoch': 5, 'gradient_clip_val': 1.0, 'accumulate_grad_batches': 2.0, 'verbose': True}\n"
          ]
        }
      ]
    },
    {
      "cell_type": "code",
      "execution_count": null,
      "metadata": {
        "id": "EPfNUdrEoci8",
        "colab": {
          "base_uri": "https://localhost:8080/",
          "height": 1000
        },
        "outputId": "05484512-0820-4b10-882a-da2b761ba4d3"
      },
      "outputs": [
        {
          "output_type": "display_data",
          "data": {
            "text/plain": [
              "<IPython.core.display.Javascript object>"
            ],
            "application/javascript": [
              "\n",
              "        window._wandbApiKey = new Promise((resolve, reject) => {\n",
              "            function loadScript(url) {\n",
              "            return new Promise(function(resolve, reject) {\n",
              "                let newScript = document.createElement(\"script\");\n",
              "                newScript.onerror = reject;\n",
              "                newScript.onload = resolve;\n",
              "                document.body.appendChild(newScript);\n",
              "                newScript.src = url;\n",
              "            });\n",
              "            }\n",
              "            loadScript(\"https://cdn.jsdelivr.net/npm/postmate/build/postmate.min.js\").then(() => {\n",
              "            const iframe = document.createElement('iframe')\n",
              "            iframe.style.cssText = \"width:0;height:0;border:none\"\n",
              "            document.body.appendChild(iframe)\n",
              "            const handshake = new Postmate({\n",
              "                container: iframe,\n",
              "                url: 'https://wandb.ai/authorize'\n",
              "            });\n",
              "            const timeout = setTimeout(() => reject(\"Couldn't auto authenticate\"), 5000)\n",
              "            handshake.then(function(child) {\n",
              "                child.on('authorize', data => {\n",
              "                    clearTimeout(timeout)\n",
              "                    resolve(data)\n",
              "                });\n",
              "            });\n",
              "            })\n",
              "        });\n",
              "    "
            ]
          },
          "metadata": {}
        },
        {
          "output_type": "stream",
          "name": "stderr",
          "text": [
            "\u001b[34m\u001b[1mwandb\u001b[0m: Appending key for api.wandb.ai to your netrc file: /root/.netrc\n"
          ]
        },
        {
          "output_type": "display_data",
          "data": {
            "text/plain": [
              "<IPython.core.display.HTML object>"
            ],
            "text/html": [
              "Tracking run with wandb version 0.15.11"
            ]
          },
          "metadata": {}
        },
        {
          "output_type": "display_data",
          "data": {
            "text/plain": [
              "<IPython.core.display.HTML object>"
            ],
            "text/html": [
              "Run data is saved locally in <code>/content/wandb/run-20230925_123458-vyxx13ho</code>"
            ]
          },
          "metadata": {}
        },
        {
          "output_type": "display_data",
          "data": {
            "text/plain": [
              "<IPython.core.display.HTML object>"
            ],
            "text/html": [
              "Syncing run <strong><a href='https://wandb.ai/team-gs/Pix2Struct/runs/vyxx13ho' target=\"_blank\">run-Pix2Struct_Pix2Code_HTML_LI</a></strong> to <a href='https://wandb.ai/team-gs/Pix2Struct' target=\"_blank\">Weights & Biases</a> (<a href='https://wandb.me/run' target=\"_blank\">docs</a>)<br/>"
            ]
          },
          "metadata": {}
        },
        {
          "output_type": "display_data",
          "data": {
            "text/plain": [
              "<IPython.core.display.HTML object>"
            ],
            "text/html": [
              " View project at <a href='https://wandb.ai/team-gs/Pix2Struct' target=\"_blank\">https://wandb.ai/team-gs/Pix2Struct</a>"
            ]
          },
          "metadata": {}
        },
        {
          "output_type": "display_data",
          "data": {
            "text/plain": [
              "<IPython.core.display.HTML object>"
            ],
            "text/html": [
              " View run at <a href='https://wandb.ai/team-gs/Pix2Struct/runs/vyxx13ho' target=\"_blank\">https://wandb.ai/team-gs/Pix2Struct/runs/vyxx13ho</a>"
            ]
          },
          "metadata": {}
        },
        {
          "output_type": "stream",
          "name": "stderr",
          "text": [
            "Epoch 0/9 - train loop: 100%|██████████| 388/388 [05:02<00:00,  1.28it/s, loss=0.836]\n"
          ]
        },
        {
          "output_type": "stream",
          "name": "stdout",
          "text": [
            "Moving Avg Loss: 0.849\n"
          ]
        },
        {
          "output_type": "stream",
          "name": "stderr",
          "text": [
            "Epoch 0/9 - valid loop:  50%|█████     | 1/2 [03:01<03:01, 181.00s/it, bleu_score=0.431]"
          ]
        },
        {
          "output_type": "stream",
          "name": "stdout",
          "text": [
            "\n",
            "Prediction: <html> <body> <main class=\"container\"> <div class=\"header clearfix\"> <nav> <ul class=\"nav nav-pills pull-left\"> <li><a href=\"#\">Enim qui</a></li> <li><a href=\"#\">Enim qui</a></li> <li><a href=\"#\">Enim qui</a></li> </ul> </nav> </div> <div class=\"row\"><div class=\"col-lg-6\"> <h4>Enim</h4><p>Enim qui aute qui aute qui aliqua aliqua aliqua</p> <a class=\"btn btn-warning\" href=\"#\" role=\"button\">Enim qui</a> </div> <div class=\"col-lg-6\"> <h4>Enim</h4><p>Enim qui aliqua aliqua aliqua aliqua aliqua</p> <a class=\"btn btn-warning\" href=\"#\" role=\"button\">Enim qui</a> </div> <div class=\"col-lg-6\"> <h4>Enim</h4><p>Enim aliqua aliqua aliqua aliqua aliqua</p> <a class=\"btn btn-warning\" href=\"#\" role=\"button\">Enim qui</a> </div> <div class=\"col-lg-6\"> <h4>Enim</h4><p>Enim aliqua aliqua aliqua aliqua aliqua</p> <a class=\"btn btn-warning\" href=\"#\" role=\"button\">Enim qui</a> </div> <div class=\"col-lg-6\"> <h4>Enim</h4><p>Enim aliqua aliqua aliqua aliqua aliqua</p> <a class=\"btn btn-warning\" href=\"#\" role=\"button\">Enim qui</a> </div> <div class=\"col-lg-6\"> <h4>Enim</h4><p>Enim aliqua aliqua aliqua aliqua aliqua</p> <a class=\"btn btn-warning\" href=\"#\" role=\"button\">Enim aliqua</a> </div> <div class=\"col-lg-6\"> <h4>Enim</h4><p>Enim aliqua aliqua aliqua aliqua aliqua</p> <a class=\"btn btn-warning\" href=\"#\" role=\"button\">Enim aliqua</a> </div> <div class=\"col-lg-6\"> <h4>Enim</h4><p>Enim aliqua aliqua aliqua aliqua aliqua</p> <a class=\"btn btn-warning\" href=\"#\" role=\"button\">Enim aliqua</a> </div> <div class=\"col-lg-6\"> <h4>Enim</h4><p>Enim aliqua aliqua aliqua aliqua aliqua</p> <a class=\"btn btn-warning\" href=\"#\" role=\"button\">Enim aliqua</a> </div> <div class=\"col-lg-6\"> <h4>Enim</h4><p>Enim aliqua aliqua aliqua aliqua aliqua</p> <a class=\"btn btn-warning\" href=\"#\" role=\"button\">Enim aliqua</a> </div> <div class=\"col-lg-6\"> <h4>Enim</h4><p>Enim aliqua aliqua aliqua aliqua aliqua</p> <a class=\"btn btn-warning\" href=\"#\" role=\"button\">Enim aliqua</a> </div> <div class=\"col-lg-6\"> <h4>Enim</h4><p>Enim aliqua aliqua aliqua aliqua aliqua</p> <a class=\"btn btn-warning\" href=\"#\" role=\"button\">Enim aliqua</a> </div> <div class=\"col-lg-6\"> <h4>Enim</h4><p>Enim aliqua aliqua aliqua aliqua aliqua</p> <a class=\"btn btn-warning\" href=\"#\" role=\"button\">Enim aliqua</a> </div> <div class=\"col-lg-6\"> <h4>Enim</h4><p>Enim aliqua aliqua aliqua aliqua aliqua</p> <a class=\"btn btn-warning\" href=\"#\" role=\"button\">Enim aliqua</a> </div> <div class=\"col-lg-6\"> <h4>Enim</h4><p>Enim aliqua aliqua\n",
            "    Answer: <html> <body> <main class=\"container\"> <div class=\"header clearfix\"> <nav> <ul class=\"nav nav-pills pull-left\"> <li><a href=\"#\">Occaecat cillum</a></li> <li class=\"active\"><a href=\"#\">Aliquip pariatur</a></li> </ul> </nav> </div> <div class=\"row\"><div class=\"col-lg-6\"> <h4>Elit</h4><p>Enim labore esse cillum aliqua nisi velit in</p> <a class=\"btn btn-warning\" href=\"#\" role=\"button\">Amet est</a> </div> <div class=\"col-lg-6\"> <h4>Quis</h4><p>Cillum nostrud pariatur amet irure in minim ut</p> <a class=\"btn btn-warning\" href=\"#\" role=\"button\">Exercitation reprehenderit</a> </div> </div> <div class=\"row\"><div class=\"col-lg-12\"> <h4>Incididunt</h4><p>Commodo voluptate ea dolore minim tempor</p> <a class=\"btn btn-success\" href=\"#\" role=\"button\">Aliquip nisi</a> </div> </div> <div class=\"row\"><div class=\"col-lg-3\"> <h4>Exercitation</h4><p>Ea consectetur dolor labore esse incididunt tempor ullamco</p> <a class=\"btn btn-warning\" href=\"#\" role=\"button\">Incididunt aliquip</a> </div> <div class=\"col-lg-3\"> <h4>Occaecat</h4><p>Quis officia sed eu cupidatat reprehenderit laboris lorem</p> <a class=\"btn btn-success\" href=\"#\" role=\"button\">Non aliquip</a> </div> <div class=\"col-lg-3\"> <h4>Voluptate</h4><p>Laborum nisi eu enim proident</p> <a class=\"btn btn-danger\" href=\"#\" role=\"button\">Duis id</a> </div> <div class=\"col-lg-3\"> <h4>Amet</h4><p>Consectetur anim adipiscing enim et do quis velit</p> <a class=\"btn btn-warning\" href=\"#\" role=\"button\">Aute anim</a> </div> </div> </main> </body> </html> \n",
            "      Bleu: 0.42\n",
            "\n",
            "Prediction: <html> <body> <main class=\"container\"> <div class=\"header clearfix\"> <nav> <ul class=\"nav nav-pills pull-left\"> <li><a href=\"#\">Enim qui</a></li> <li><a href=\"#\">Enim qui</a></li> <li><a href=\"#\">Enim qui</a></li> </ul> </nav> </div> <div class=\"row\"><div class=\"col-lg-3\"> <h4>Enim</h4><p>Enim qui aute qui aute qui aliqua aliqua aliqua</p> <a class=\"btn btn-danger\" href=\"#\" role=\"button\">Enim qui</a> </div> <div class=\"col-lg-3\"> <h4>Enim</h4><p>Enim qui aliqua aliqua aliqua aliqua aliqua</p> <a class=\"btn btn-danger\" href=\"#\" role=\"button\">Enim qui</a> </div> <div class=\"col-lg-3\"> <h4>Enim</h4><p>Enim aliqua aliqua aliqua aliqua aliqua</p> <a class=\"btn btn-danger\" href=\"#\" role=\"button\">Enim qui</a> </div> <div class=\"col-lg-3\"> <h4>Enim</h4><p>Enim aliqua aliqua aliqua aliqua aliqua</p> <a class=\"btn btn-danger\" href=\"#\" role=\"button\">Enim qui</a> </div> <div class=\"col-lg-3\"> <h4>Enim</h4><p>Enim aliqua aliqua aliqua aliqua aliqua</p> <a class=\"btn btn-danger\" href=\"#\" role=\"button\">Enim aliqua</a> </div> <div class=\"col-lg-3\"> <h4>Enim</h4><p>Enim aliqua aliqua aliqua aliqua aliqua</p> <a class=\"btn btn-danger\" href=\"#\" role=\"button\">Enim aliqua</a> </div> <div class=\"col-lg-3\"> <h4>Enim</h4><p>Enim aliqua aliqua aliqua aliqua aliqua</p> <a class=\"btn btn-danger\" href=\"#\" role=\"button\">Enim aliqua</a> </div> <div class=\"col-lg-3\"> <h4>Enim</h4><p>Enim aliqua aliqua aliqua aliqua aliqua</p> <a class=\"btn btn-danger\" href=\"#\" role=\"button\">Enim aliqua</a> </div> <div class=\"col-lg-3\"> <h4>Enim</h4><p>Enim aliqua aliqua aliqua aliqua aliqua</p> <a class=\"btn btn-danger\" href=\"#\" role=\"button\">Enim aliqua</a> </div> <div class=\"col-lg-3\"> <h4>Enim</h4><p>Enim aliqua aliqua aliqua aliqua aliqua</p> <a class=\"btn btn-danger\" href=\"#\" role=\"button\">Enim aliqua</a> </div> <div class=\"col-lg-3\"> <h4>Enim</h4><p>Enim aliqua aliqua aliqua aliqua aliqua</p> <a class=\"btn btn-danger\" href=\"#\" role=\"button\">Enim aliqua</a> </div> <div class=\"col-lg-3\"> <h4>Enim</h4><p>Enim aliqua aliqua aliqua aliqua aliqua</p> <a class=\"btn btn-danger\" href=\"#\" role=\"button\">Enim aliqua</a> </div> <div class=\"col-lg-3\"> <h4>Enim</h4><p>Enim aliqua aliqua aliqua aliqua aliqua</p> <a class=\"btn btn-danger\" href=\"#\" role=\"button\">Enim aliqua</a> </div> <div class=\"col-lg-3\"> <h4>Enim</h4><p>Enim aliqua aliqua aliqua aliqua aliqua</p> <a class=\"btn btn-danger\" href=\"#\" role=\"button\">Enim aliqua</a> </div> <div class=\"col-lg-3\"> <h4>Enim</h4><p>Enim aliqua a\n",
            "    Answer: <html> <body> <main class=\"container\"> <div class=\"header clearfix\"> <nav> <ul class=\"nav nav-pills pull-left\"> <li><a href=\"#\">Sunt mollit</a></li> <li><a href=\"#\">Ipsum enim</a></li> <li><a href=\"#\">Reprehenderit duis</a></li> <li><a href=\"#\">Sit labore</a></li> <li class=\"active\"><a href=\"#\">Eiusmod amet</a></li> </ul> </nav> </div> <div class=\"row\"><div class=\"col-lg-12\"> <h4>Ex</h4><p>Ad in laboris nisi et culpa dolore proident</p> <a class=\"btn btn-warning\" href=\"#\" role=\"button\">Dolor incididunt</a> </div> </div> <div class=\"row\"><div class=\"col-lg-3\"> <h4>Cillum</h4><p>Officia elit eu et irure ut nostrud in</p> <a class=\"btn btn-success\" href=\"#\" role=\"button\">Nulla in</a> </div> <div class=\"col-lg-3\"> <h4>Excepteur</h4><p>Et exercitation velit ex ea non</p> <a class=\"btn btn-success\" href=\"#\" role=\"button\">Irure laborum</a> </div> <div class=\"col-lg-3\"> <h4>In</h4><p>Sit excepteur deserunt labore sint quis enim proident</p> <a class=\"btn btn-warning\" href=\"#\" role=\"button\">Proident do</a> </div> <div class=\"col-lg-3\"> <h4>Anim</h4><p>Minim proident laborum sit nisi ex labore incididunt</p> <a class=\"btn btn-danger\" href=\"#\" role=\"button\">Labore sed</a> </div> </div> <div class=\"row\"><div class=\"col-lg-6\"> <h4>Magna</h4><p>Aliqua officia nostrud cillum voluptate aliquip</p> <a class=\"btn btn-warning\" href=\"#\" role=\"button\">Ut laboris</a> </div> <div class=\"col-lg-6\"> <h4>Aliqua</h4><p>Excepteur adipiscing est sunt exercitation ut minim magna</p> <a class=\"btn btn-danger\" href=\"#\" role=\"button\">Laboris reprehenderit</a> </div> </div> </main> </body> </html> \n",
            "      Bleu: 0.44\n",
            "\n",
            "Prediction: <html> <body> <main class=\"container\"> <div class=\"header clearfix\"> <nav> <ul class=\"nav nav-pills pull-left\"> <li><a href=\"#\">Enim qui</a></li> <li><a href=\"#\">Enim qui</a></li> <li><a href=\"#\">Enim qui</a></li> </ul> </nav> </div> <div class=\"row\"><div class=\"col-lg-3\"> <h4>Enim</h4><p>Enim qui aute qui aute qui aute qui aute</p> <a class=\"btn btn-danger\" href=\"#\" role=\"button\">Enim qui</a> </div> <div class=\"col-lg-3\"> <h4>Enim</h4><p>Enim qui aute qui aute qui aute aliqua aliqua</p> <a class=\"btn btn-danger\" href=\"#\" role=\"button\">Enim qui</a> </div> <div class=\"col-lg-3\"> <h4>Enim</h4><p>Enim qui aute qui aute aliqua aliqua aliqua</p> <a class=\"btn btn-danger\" href=\"#\" role=\"button\">Enim qui</a> </div> <div class=\"col-lg-3\"> <h4>Enim</h4><p>Enim aliqua aliqua aliqua aliqua aliqua</p> <a class=\"btn btn-danger\" href=\"#\" role=\"button\">Enim qui</a> </div> <div class=\"col-lg-3\"> <h4>Enim</h4><p>Enim aliqua aliqua aliqua aliqua aliqua</p> <a class=\"btn btn-danger\" href=\"#\" role=\"button\">Enim qui</a> </div> <div class=\"col-lg-3\"> <h4>Enim</h4><p>Enim aliqua aliqua aliqua aliqua aliqua</p> <a class=\"btn btn-danger\" href=\"#\" role=\"button\">Enim qui</a> </div> <div class=\"col-lg-3\"> <h4>Enim</h4><p>Enim aliqua aliqua aliqua aliqua aliqua</p> <a class=\"btn btn-danger\" href=\"#\" role=\"button\">Enim aliqua</a> </div> <div class=\"col-lg-3\"> <h4>Enim</h4><p>Enim aliqua aliqua aliqua aliqua aliqua</p> <a class=\"btn btn-danger\" href=\"#\" role=\"button\">Enim aliqua</a> </div> <div class=\"col-lg-3\"> <h4>Enim</h4><p>Enim aliqua aliqua aliqua aliqua aliqua</p> <a class=\"btn btn-danger\" href=\"#\" role=\"button\">Enim aliqua</a> </div> <div class=\"col-lg-3\"> <h4>Enim</h4><p>Enim aliqua aliqua aliqua aliqua aliqua</p> <a class=\"btn btn-danger\" href=\"#\" role=\"button\">Enim aliqua</a> </div> <div class=\"col-lg-3\"> <h4>Enim</h4><p>Enim aliqua aliqua aliqua aliqua aliqua</p> <a class=\"btn btn-danger\" href=\"#\" role=\"button\">Enim aliqua</a> </div> <div class=\"col-lg-3\"> <h4>Enim</h4><p>Enim aliqua aliqua aliqua aliqua aliqua</p> <a class=\"btn btn-danger\" href=\"#\" role=\"button\">Enim aliqua</a> </div> <div class=\"col-lg-3\"> <h4>Enim</h4><p>Enim aliqua aliqua aliqua aliqua aliqua</p> <a class=\"btn btn-danger\" href=\"#\" role=\"button\">Enim aliqua</a> </div> <div class=\"col-lg-3\"> <h4>Enim</h4><p>Enim aliqua aliqua aliqua aliqua aliqua</p> <a class=\"btn btn-danger\" href=\"#\" role=\"button\">Enim aliqua</a> </div> <div class=\"col-lg-3\"> <h4>Enim</h4><p>Enim aliqua aliqua aliqua aliqua a\n",
            "    Answer: <html> <body> <main class=\"container\"> <div class=\"header clearfix\"> <nav> <ul class=\"nav nav-pills pull-left\"> <li><a href=\"#\">Occaecat proident</a></li> <li><a href=\"#\">Mollit tempor</a></li> <li><a href=\"#\">Sit excepteur</a></li> <li><a href=\"#\">Consequat sed</a></li> <li class=\"active\"><a href=\"#\">Ut est</a></li> </ul> </nav> </div> <div class=\"row\"><div class=\"col-lg-6\"> <h4>Eu</h4><p>Exercitation dolor incididunt sed deserunt excepteur laborum ut</p> <a class=\"btn btn-danger\" href=\"#\" role=\"button\">Deserunt pariatur</a> </div> <div class=\"col-lg-6\"> <h4>Elit</h4><p>Reprehenderit fugiat ut veniam cupidatat ex elit aliqua</p> <a class=\"btn btn-warning\" href=\"#\" role=\"button\">Irure eu</a> </div> </div> <div class=\"row\"><div class=\"col-lg-3\"> <h4>Sit</h4><p>Aliqua laborum id minim veniam enim reprehenderit fugiat</p> <a class=\"btn btn-danger\" href=\"#\" role=\"button\">Exercitation consectetur</a> </div> <div class=\"col-lg-3\"> <h4>Elit</h4><p>Reprehenderit ex fugiat nostrud voluptate eiusmod adipiscing velit</p> <a class=\"btn btn-warning\" href=\"#\" role=\"button\">Elit occaecat</a> </div> <div class=\"col-lg-3\"> <h4>Magna</h4><p>Aute velit laboris esse elit</p> <a class=\"btn btn-success\" href=\"#\" role=\"button\">Anim elit</a> </div> <div class=\"col-lg-3\"> <h4>Commodo</h4><p>Velit eu sint dolore cupidatat tempor ex dolor</p> <a class=\"btn btn-success\" href=\"#\" role=\"button\">Mollit qui</a> </div> </div> <div class=\"row\"><div class=\"col-lg-12\"> <h4>Do</h4><p>Cupidatat duis id mollit veniam ea quis excepteur</p> <a class=\"btn btn-success\" href=\"#\" role=\"button\">Ad ut</a> </div> </div> </main> </body> </html> \n",
            "      Bleu: 0.44\n",
            "\n",
            "Prediction: <html> <body> <main class=\"container\"> <div class=\"header clearfix\"> <nav> <ul class=\"nav nav-pills pull-left\"> <li><a href=\"#\">Et aliqua</a></li> <li><a href=\"#\">Et aliqua</a></li> <li><a href=\"#\">Et aliqua</a></li> </ul> </nav> </div> <div class=\"row\"><div class=\"col-lg-3\"> <h4>Enim</h4><p>Enim aliqua aliqua aliqua aliqua aliqua aliqua</p> <a class=\"btn btn-danger\" href=\"#\" role=\"button\">Enim aliqua</a> </div> <div class=\"col-lg-3\"> <h4>Enim</h4><p>Enim aliqua aliqua aliqua aliqua aliqua aliqua</p> <a class=\"btn btn-danger\" href=\"#\" role=\"button\">Enim aliqua</a> </div> <div class=\"col-lg-3\"> <h4>Enim</h4><p>Enim aliqua aliqua aliqua aliqua aliqua aliqua</p> <a class=\"btn btn-danger\" href=\"#\" role=\"button\">Enim aliqua</a> </div> <div class=\"col-lg-3\"> <h4>Enim</h4><p>Enim aliqua aliqua aliqua aliqua aliqua aliqua</p> <a class=\"btn btn-danger\" href=\"#\" role=\"button\">Enim aliqua</a> </div> <div class=\"col-lg-3\"> <h4>Enim</h4><p>Enim aliqua aliqua aliqua aliqua aliqua aliqua</p> <a class=\"btn btn-danger\" href=\"#\" role=\"button\">Enim aliqua</a> </div> <div class=\"col-lg-3\"> <h4>Enim</h4><p>Enim aliqua aliqua aliqua aliqua aliqua aliqua</p> <a class=\"btn btn-danger\" href=\"#\" role=\"button\">Enim aliqua</a> </div> <div class=\"col-lg-3\"> <h4>Enim</h4><p>Enim aliqua aliqua aliqua aliqua aliqua aliqua</p> <a class=\"btn btn-danger\" href=\"#\" role=\"button\">Enim aliqua</a> </div> <div class=\"col-lg-3\"> <h4>Enim</h4><p>Enim aliqua aliqua aliqua aliqua aliqua aliqua</p> <a class=\"btn btn-danger\" href=\"#\" role=\"button\">Enim aliqua</a> </div> <div class=\"col-lg-3\"> <h4>Enim</h4><p>Enim aliqua aliqua aliqua aliqua aliqua aliqua</p> <a class=\"btn btn-danger\" href=\"#\" role=\"button\">Enim aliqua</a> </div> <div class=\"col-lg-3\"> <h4>Enim</h4><p>Enim aliqua aliqua aliqua aliqua aliqua aliqua</p> <a class=\"btn btn-danger\" href=\"#\" role=\"button\">Enim aliqua</a> </div> <div class=\"col-lg-3\"> <h4>Enim</h4><p>Enim aliqua aliqua aliqua aliqua aliqua aliqua</p> <a class=\"btn btn-danger\" href=\"#\" role=\"button\">Enim aliqua</a> </div> <div class=\"col-lg-3\"> <h4>Enim</h4><p>Enim aliqua aliqua aliqua aliqua aliqua aliqua</p> <a class=\"btn btn-danger\" href=\"#\" role=\"button\">Enim aliqua</a> </div> <div class=\"col-lg-3\"> <h4>Enim</h4><p>Enim aliqua aliqua aliqua aliqua aliqua aliqua</p> <a class=\"btn btn-danger\" href=\"#\" role=\"button\">Enim aliqua</a> </div> <div class=\"col-lg-3\"> <h4>Enim</h4><p>Enim aliqua aliqua aliqua aliqua aliqua aliqua</\n",
            "    Answer: <html> <body> <main class=\"container\"> <div class=\"header clearfix\"> <nav> <ul class=\"nav nav-pills pull-left\"> <li><a href=\"#\">Culpa id</a></li> <li class=\"active\"><a href=\"#\">Aliquip velit</a></li> </ul> </nav> </div> <div class=\"row\"><div class=\"col-lg-6\"> <h4>In</h4><p>Est ut irure ea labore sit dolor adipiscing</p> <a class=\"btn btn-danger\" href=\"#\" role=\"button\">Consequat excepteur</a> </div> <div class=\"col-lg-6\"> <h4>Officia</h4><p>Officia ut proident pariatur nulla anim</p> <a class=\"btn btn-success\" href=\"#\" role=\"button\">Enim id</a> </div> </div> <div class=\"row\"><div class=\"col-lg-12\"> <h4>Sint</h4><p>Eiusmod aute aliqua tempor cillum lorem fugiat minim</p> <a class=\"btn btn-danger\" href=\"#\" role=\"button\">Ut labore</a> </div> </div> <div class=\"row\"><div class=\"col-lg-3\"> <h4>Excepteur</h4><p>Commodo cillum eiusmod et anim est mollit aliqua</p> <a class=\"btn btn-danger\" href=\"#\" role=\"button\">Velit tempor</a> </div> <div class=\"col-lg-3\"> <h4>In</h4><p>Elit pariatur dolor consequat officia</p> <a class=\"btn btn-warning\" href=\"#\" role=\"button\">Proident deserunt</a> </div> <div class=\"col-lg-3\"> <h4>Eu</h4><p>Laborum duis labore consequat sint excepteur aute enim</p> <a class=\"btn btn-warning\" href=\"#\" role=\"button\">Qui proident</a> </div> <div class=\"col-lg-3\"> <h4>Id</h4><p>Sunt ipsum esse quis elit officia deserunt anim</p> <a class=\"btn btn-warning\" href=\"#\" role=\"button\">Proident minim</a> </div> </div> </main> </body> </html> \n",
            "      Bleu: 0.42\n",
            "\n",
            "Prediction: <html> <body> <main class=\"container\"> <div class=\"header clearfix\"> <nav> <ul class=\"nav nav-pills pull-left\"> <li><a href=\"#\">Enim qui</a></li> <li><a href=\"#\">Enim qui</a></li> <li><a href=\"#\">Enim qui</a></li> </ul> </nav> </div> <div class=\"row\"><div class=\"col-lg-3\"> <h4>Enim</h4><p>Enim qui aute qui aute qui aliqua aliqua aliqua</p> <a class=\"btn btn-success\" href=\"#\" role=\"button\">Enim qui</a> </div> <div class=\"col-lg-3\"> <h4>Enim</h4><p>Enim qui aliqua aliqua aliqua aliqua aliqua</p> <a class=\"btn btn-success\" href=\"#\" role=\"button\">Enim qui</a> </div> <div class=\"col-lg-3\"> <h4>Enim</h4><p>Enim aliqua aliqua aliqua aliqua aliqua</p> <a class=\"btn btn-success\" href=\"#\" role=\"button\">Enim qui</a> </div> <div class=\"col-lg-3\"> <h4>Enim</h4><p>Enim aliqua aliqua aliqua aliqua aliqua</p> <a class=\"btn btn-success\" href=\"#\" role=\"button\">Enim qui</a> </div> <div class=\"col-lg-3\"> <h4>Enim</h4><p>Enim aliqua aliqua aliqua aliqua aliqua</p> <a class=\"btn btn-success\" href=\"#\" role=\"button\">Enim qui</a> </div> <div class=\"col-lg-3\"> <h4>Enim</h4><p>Enim aliqua aliqua aliqua aliqua aliqua</p> <a class=\"btn btn-success\" href=\"#\" role=\"button\">Enim aliqua</a> </div> <div class=\"col-lg-3\"> <h4>Enim</h4><p>Enim aliqua aliqua aliqua aliqua aliqua</p> <a class=\"btn btn-success\" href=\"#\" role=\"button\">Enim aliqua</a> </div> <div class=\"col-lg-3\"> <h4>Enim</h4><p>Enim aliqua aliqua aliqua aliqua aliqua</p> <a class=\"btn btn-success\" href=\"#\" role=\"button\">Enim aliqua</a> </div> <div class=\"col-lg-3\"> <h4>Enim</h4><p>Enim aliqua aliqua aliqua aliqua aliqua</p> <a class=\"btn btn-success\" href=\"#\" role=\"button\">Enim aliqua</a> </div> <div class=\"col-lg-3\"> <h4>Enim</h4><p>Enim aliqua aliqua aliqua aliqua aliqua</p> <a class=\"btn btn-success\" href=\"#\" role=\"button\">Enim aliqua</a> </div> <div class=\"col-lg-3\"> <h4>Enim</h4><p>Enim aliqua aliqua aliqua aliqua aliqua</p> <a class=\"btn btn-success\" href=\"#\" role=\"button\">Enim aliqua</a> </div> <div class=\"col-lg-3\"> <h4>Enim</h4><p>Enim aliqua aliqua aliqua aliqua aliqua</p> <a class=\"btn btn-success\" href=\"#\" role=\"button\">Enim aliqua</a> </div> <div class=\"col-lg-3\"> <h4>Enim</h4><p>Enim aliqua aliqua aliqua aliqua aliqua</p> <a class=\"btn btn-success\" href=\"#\" role=\"button\">Enim aliqua</a> </div> <div class=\"col-lg-3\"> <h4>Enim</h4><p>Enim aliqua aliqua aliqua aliqua aliqua</p> <a class=\"btn btn-success\" href=\"#\" role=\"button\">Enim aliqua</a> </div> <div class=\"col-lg-3\"> <h4>Enim</h4><p>Enim aliqua aliqua\n",
            "    Answer: <html> <body> <main class=\"container\"> <div class=\"header clearfix\"> <nav> <ul class=\"nav nav-pills pull-left\"> <li class=\"active\"><a href=\"#\">Fugiat do</a></li> <li><a href=\"#\">Cupidatat voluptate</a></li> <li><a href=\"#\">Aliqua commodo</a></li> </ul> </nav> </div> <div class=\"row\"><div class=\"col-lg-6\"> <h4>Minim</h4><p>Ex minim in quis nisi aliquip lorem adipiscing</p> <a class=\"btn btn-success\" href=\"#\" role=\"button\">Excepteur duis</a> </div> <div class=\"col-lg-6\"> <h4>Do</h4><p>Cupidatat amet dolor ex nulla duis aliquip occaecat</p> <a class=\"btn btn-danger\" href=\"#\" role=\"button\">Ea velit</a> </div> </div> <div class=\"row\"><div class=\"col-lg-12\"> <h4>Veniam</h4><p>Magna anim eiusmod elit nisi id ex et</p> <a class=\"btn btn-danger\" href=\"#\" role=\"button\">Do tempor</a> </div> </div> <div class=\"row\"><div class=\"col-lg-3\"> <h4>Et</h4><p>Dolor sint fugiat excepteur cupidatat in mollit aliquip</p> <a class=\"btn btn-success\" href=\"#\" role=\"button\">Reprehenderit culpa</a> </div> <div class=\"col-lg-3\"> <h4>Ex</h4><p>Consectetur sit ut reprehenderit laboris</p> <a class=\"btn btn-danger\" href=\"#\" role=\"button\">Sit ad</a> </div> <div class=\"col-lg-3\"> <h4>Culpa</h4><p>Voluptate nostrud eu dolore occaecat tempor</p> <a class=\"btn btn-success\" href=\"#\" role=\"button\">Do magna</a> </div> <div class=\"col-lg-3\"> <h4>Id</h4><p>Ut lorem eu velit aliqua excepteur</p> <a class=\"btn btn-success\" href=\"#\" role=\"button\">Nulla aliqua</a> </div> </div> </main> </body> </html> \n",
            "      Bleu: 0.43\n",
            "\n",
            "Prediction: <html> <body> <main class=\"container\"> <div class=\"header clearfix\"> <nav> <ul class=\"nav nav-pills pull-left\"> <li><a href=\"#\">Enim qui</a></li> <li><a href=\"#\">Enim qui</a></li> <li><a href=\"#\">Enim qui</a></li> </ul> </nav> </div> <div class=\"row\"><div class=\"col-lg-6\"> <h4>Enim</h4><p>Enim qui aute qui aute qui aliqua aliqua aliqua</p> <a class=\"btn btn-warning\" href=\"#\" role=\"button\">Enim qui</a> </div> <div class=\"col-lg-6\"> <h4>Enim</h4><p>Enim qui aliqua aliqua aliqua aliqua aliqua</p> <a class=\"btn btn-warning\" href=\"#\" role=\"button\">Enim qui</a> </div> <div class=\"col-lg-6\"> <h4>Enim</h4><p>Enim aliqua aliqua aliqua aliqua aliqua</p> <a class=\"btn btn-warning\" href=\"#\" role=\"button\">Enim qui</a> </div> <div class=\"col-lg-6\"> <h4>Enim</h4><p>Enim aliqua aliqua aliqua aliqua aliqua</p> <a class=\"btn btn-warning\" href=\"#\" role=\"button\">Enim qui</a> </div> <div class=\"col-lg-6\"> <h4>Enim</h4><p>Enim aliqua aliqua aliqua aliqua aliqua</p> <a class=\"btn btn-warning\" href=\"#\" role=\"button\">Enim aliqua</a> </div> <div class=\"col-lg-3\"> <h4>Enim</h4><p>Enim aliqua aliqua aliqua aliqua aliqua</p> <a class=\"btn btn-warning\" href=\"#\" role=\"button\">Enim aliqua</a> </div> <div class=\"col-lg-3\"> <h4>Enim</h4><p>Enim aliqua aliqua aliqua aliqua aliqua</p> <a class=\"btn btn-warning\" href=\"#\" role=\"button\">Enim aliqua</a> </div> <div class=\"col-lg-3\"> <h4>Enim</h4><p>Enim aliqua aliqua aliqua aliqua aliqua</p> <a class=\"btn btn-warning\" href=\"#\" role=\"button\">Enim aliqua</a> </div> <div class=\"col-lg-3\"> <h4>Enim</h4><p>Enim aliqua aliqua aliqua aliqua aliqua</p> <a class=\"btn btn-warning\" href=\"#\" role=\"button\">Enim aliqua</a> </div> <div class=\"col-lg-3\"> <h4>Enim</h4><p>Enim aliqua aliqua aliqua aliqua aliqua</p> <a class=\"btn btn-warning\" href=\"#\" role=\"button\">Enim aliqua</a> </div> <div class=\"col-lg-3\"> <h4>Enim</h4><p>Enim aliqua aliqua aliqua aliqua aliqua</p> <a class=\"btn btn-warning\" href=\"#\" role=\"button\">Enim aliqua</a> </div> <div class=\"col-lg-3\"> <h4>Enim</h4><p>Enim aliqua aliqua aliqua aliqua aliqua</p> <a class=\"btn btn-warning\" href=\"#\" role=\"button\">Enim aliqua</a> </div> <div class=\"col-lg-3\"> <h4>Enim</h4><p>Enim aliqua aliqua aliqua aliqua aliqua</p> <a class=\"btn btn-warning\" href=\"#\" role=\"button\">Enim aliqua</a> </div> <div class=\"col-lg-3\"> <h4>Enim</h4><p>Enim aliqua aliqua aliqua aliqua aliqua</p> <a class=\"btn btn-warning\" href=\"#\" role=\"button\">Enim aliqua</a> </div> <div class=\"col-lg-3\"> <h4>Enim</h4><p>Enim aliqua a\n",
            "    Answer: <html> <body> <main class=\"container\"> <div class=\"header clearfix\"> <nav> <ul class=\"nav nav-pills pull-left\"> <li><a href=\"#\">Ad voluptate</a></li> <li class=\"active\"><a href=\"#\">Commodo adipiscing</a></li> <li><a href=\"#\">Dolore duis</a></li> <li><a href=\"#\">Ea laborum</a></li> <li><a href=\"#\">Et incididunt</a></li> </ul> </nav> </div> <div class=\"row\"><div class=\"col-lg-12\"> <h4>Voluptate</h4><p>Occaecat id commodo ea laborum aliquip sint esse</p> <a class=\"btn btn-danger\" href=\"#\" role=\"button\">Consectetur quis</a> </div> </div> <div class=\"row\"><div class=\"col-lg-3\"> <h4>Amet</h4><p>Lorem duis do fugiat ullamco deserunt qui nisi</p> <a class=\"btn btn-danger\" href=\"#\" role=\"button\">Mollit est</a> </div> <div class=\"col-lg-3\"> <h4>Labore</h4><p>Consectetur proident adipiscing pariatur tempor sunt occaecat excepteur</p> <a class=\"btn btn-success\" href=\"#\" role=\"button\">Exercitation fugiat</a> </div> <div class=\"col-lg-3\"> <h4>Ut</h4><p>Voluptate qui officia quis anim aliqua sunt consequat</p> <a class=\"btn btn-warning\" href=\"#\" role=\"button\">In aute</a> </div> <div class=\"col-lg-3\"> <h4>Nostrud</h4><p>Aute in aliquip ullamco</p> <a class=\"btn btn-warning\" href=\"#\" role=\"button\">Ex eu</a> </div> </div> <div class=\"row\"><div class=\"col-lg-6\"> <h4>Est</h4><p>Dolore ex cupidatat consequat anim qui aute do</p> <a class=\"btn btn-warning\" href=\"#\" role=\"button\">Aliqua id</a> </div> <div class=\"col-lg-6\"> <h4>Proident</h4><p>Eu dolore eiusmod fugiat mollit aliqua reprehenderit consequat</p> <a class=\"btn btn-warning\" href=\"#\" role=\"button\">Dolor eiusmod</a> </div> </div> </main> </body> </html> \n",
            "      Bleu: 0.45\n",
            "\n",
            "Prediction: <html> <body> <main class=\"container\"> <div class=\"header clearfix\"> <nav> <ul class=\"nav nav-pills pull-left\"> <li><a href=\"#\">Enim qui</a></li> <li><a href=\"#\">Enim qui</a></li> <li><a href=\"#\">Enim qui</a></li> </ul> </nav> </div> <div class=\"row\"><div class=\"col-lg-3\"> <h4>Enim</h4><p>Enim qui qui aute qui aute qui aute qui aute</p> <a class=\"btn btn-danger\" href=\"#\" role=\"button\">Enim qui</a> </div> <div class=\"col-lg-3\"> <h4>Enim</h4><p>Enim qui aute qui aute qui aute qui aute</p> <a class=\"btn btn-danger\" href=\"#\" role=\"button\">Enim qui</a> </div> <div class=\"col-lg-3\"> <h4>Enim</h4><p>Enim qui aute qui aute qui aute qui aute</p> <a class=\"btn btn-danger\" href=\"#\" role=\"button\">Enim qui</a> </div> <div class=\"col-lg-3\"> <h4>Enim</h4><p>Enim qui aute qui aute qui aute qui aute</p> <a class=\"btn btn-danger\" href=\"#\" role=\"button\">Enim qui</a> </div> <div class=\"col-lg-3\"> <h4>Enim</h4><p>Enim qui aute qui aute qui aute</p> <a class=\"btn btn-danger\" href=\"#\" role=\"button\">Enim qui</a> </div> <div class=\"col-lg-3\"> <h4>Enim</h4><p>Enim qui aute qui aute qui aute</p> <a class=\"btn btn-danger\" href=\"#\" role=\"button\">Enim qui</a> </div> <div class=\"col-lg-3\"> <h4>Enim</h4><p>Enim qui aute qui aute qui aute</p> <a class=\"btn btn-danger\" href=\"#\" role=\"button\">Enim qui</a> </div> <div class=\"col-lg-3\"> <h4>Enim</h4><p>Enim qui aute qui aute qui aute</p> <a class=\"btn btn-danger\" href=\"#\" role=\"button\">Enim qui</a> </div> <div class=\"col-lg-3\"> <h4>Enim</h4><p>Enim aute qui aute qui aute aute</p> <a class=\"btn btn-danger\" href=\"#\" role=\"button\">Enim qui</a> </div> <div class=\"col-lg-3\"> <h4>Enim</h4><p>Enim aute qui aute qui aute aute</p> <a class=\"btn btn-danger\" href=\"#\" role=\"button\">Enim qui</a> </div> <div class=\"col-lg-3\"> <h4>Enim</h4><p>Enim aute qui aute qui aute aute</p> <a class=\"btn btn-danger\" href=\"#\" role=\"button\">Enim qui</a> </div> <div class=\"col-lg-3\"> <h4>Enim</h4><p>Enim aute qui aute aute aute aute</p> <a class=\"btn btn-danger\" href=\"#\" role=\"button\">Enim qui</a> </div> <div class=\"col-lg-3\"> <h4>Enim</h4><p>Enim aute qui aute aute aute aute</p> <a class=\"btn btn-danger\" href=\"#\" role=\"button\">Enim qui</a> </div> <div class=\"col-lg-3\"> <h4>Enim</h4><p>Enim aute aute aute aute aute</p> <a class=\"btn btn-danger\" href=\"#\" role=\"button\">Enim aute</a> </div> <div class=\"col-lg-3\"> <h4>Enim</h4><p>Enim aute aute aute aute aute</p> <a class=\"btn btn-danger\" href=\"#\" role=\"button\">Enim aute</a> </div> <div class=\"col-lg-3\"> <h4>Enim</h4><p>Enim aute aute aute aute aute</p> <a class=\"btn btn-danger\" href=\"#\" role=\"button\">\n",
            "    Answer: <html> <body> <main class=\"container\"> <div class=\"header clearfix\"> <nav> <ul class=\"nav nav-pills pull-left\"> <li><a href=\"#\">In aliqua</a></li> <li><a href=\"#\">Reprehenderit proident</a></li> <li><a href=\"#\">Laboris irure</a></li> <li class=\"active\"><a href=\"#\">Minim cillum</a></li> </ul> </nav> </div> <div class=\"row\"><div class=\"col-lg-3\"> <h4>Laborum</h4><p>Irure eiusmod exercitation voluptate amet minim nulla labore</p> <a class=\"btn btn-danger\" href=\"#\" role=\"button\">Dolore qui</a> </div> <div class=\"col-lg-3\"> <h4>Ex</h4><p>Commodo officia nostrud in quis anim occaecat</p> <a class=\"btn btn-success\" href=\"#\" role=\"button\">Nisi ut</a> </div> <div class=\"col-lg-3\"> <h4>Labore</h4><p>Commodo dolore tempor minim magna fugiat deserunt ipsum</p> <a class=\"btn btn-danger\" href=\"#\" role=\"button\">Ullamco enim</a> </div> <div class=\"col-lg-3\"> <h4>Do</h4><p>Qui nostrud incididunt sint esse amet consectetur</p> <a class=\"btn btn-warning\" href=\"#\" role=\"button\">Adipiscing eu</a> </div> </div> <div class=\"row\"><div class=\"col-lg-6\"> <h4>Duis</h4><p>Enim cillum lorem cupidatat laborum et sunt nisi</p> <a class=\"btn btn-warning\" href=\"#\" role=\"button\">Ipsum do</a> </div> <div class=\"col-lg-6\"> <h4>Deserunt</h4><p>Tempor occaecat officia aliquip eu adipiscing culpa ut</p> <a class=\"btn btn-success\" href=\"#\" role=\"button\">Magna cupidatat</a> </div> </div> <div class=\"row\"><div class=\"col-lg-12\"> <h4>Labore</h4><p>Excepteur ullamco ea consectetur sed duis qui et</p> <a class=\"btn btn-success\" href=\"#\" role=\"button\">In labore</a> </div> </div> </main> </body> </html> \n",
            "      Bleu: 0.42\n",
            "\n",
            "Prediction: <html> <body> <main class=\"container\"> <div class=\"header clearfix\"> <nav> <ul class=\"nav nav-pills pull-left\"> <li><a href=\"#\">Enim qui</a></li> <li><a href=\"#\">Enim qui</a></li> <li><a href=\"#\">Enim qui</a></li> </ul> </nav> </div> <div class=\"row\"><div class=\"col-lg-3\"> <h4>Enim</h4><p>Enim qui aute qui aute qui aliqua aliqua aliqua</p> <a class=\"btn btn-danger\" href=\"#\" role=\"button\">Enim qui</a> </div> <div class=\"col-lg-3\"> <h4>Enim</h4><p>Enim qui aliqua aliqua aliqua aliqua aliqua</p> <a class=\"btn btn-danger\" href=\"#\" role=\"button\">Enim qui</a> </div> <div class=\"col-lg-3\"> <h4>Enim</h4><p>Enim aliqua aliqua aliqua aliqua aliqua</p> <a class=\"btn btn-danger\" href=\"#\" role=\"button\">Enim qui</a> </div> <div class=\"col-lg-3\"> <h4>Enim</h4><p>Enim aliqua aliqua aliqua aliqua aliqua</p> <a class=\"btn btn-danger\" href=\"#\" role=\"button\">Enim qui</a> </div> <div class=\"col-lg-3\"> <h4>Enim</h4><p>Enim aliqua aliqua aliqua aliqua aliqua</p> <a class=\"btn btn-danger\" href=\"#\" role=\"button\">Enim aliqua</a> </div> <div class=\"col-lg-3\"> <h4>Enim</h4><p>Enim aliqua aliqua aliqua aliqua aliqua</p> <a class=\"btn btn-danger\" href=\"#\" role=\"button\">Enim aliqua</a> </div> <div class=\"col-lg-3\"> <h4>Enim</h4><p>Enim aliqua aliqua aliqua aliqua aliqua</p> <a class=\"btn btn-danger\" href=\"#\" role=\"button\">Enim aliqua</a> </div> <div class=\"col-lg-3\"> <h4>Enim</h4><p>Enim aliqua aliqua aliqua aliqua aliqua</p> <a class=\"btn btn-danger\" href=\"#\" role=\"button\">Enim aliqua</a> </div> <div class=\"col-lg-3\"> <h4>Enim</h4><p>Enim aliqua aliqua aliqua aliqua aliqua</p> <a class=\"btn btn-danger\" href=\"#\" role=\"button\">Enim aliqua</a> </div> <div class=\"col-lg-3\"> <h4>Enim</h4><p>Enim aliqua aliqua aliqua aliqua aliqua</p> <a class=\"btn btn-danger\" href=\"#\" role=\"button\">Enim aliqua</a> </div> <div class=\"col-lg-3\"> <h4>Enim</h4><p>Enim aliqua aliqua aliqua aliqua aliqua</p> <a class=\"btn btn-danger\" href=\"#\" role=\"button\">Enim aliqua</a> </div> <div class=\"col-lg-3\"> <h4>Enim</h4><p>Enim aliqua aliqua aliqua aliqua aliqua</p> <a class=\"btn btn-danger\" href=\"#\" role=\"button\">Enim aliqua</a> </div> <div class=\"col-lg-3\"> <h4>Enim</h4><p>Enim aliqua aliqua aliqua aliqua aliqua</p> <a class=\"btn btn-danger\" href=\"#\" role=\"button\">Enim aliqua</a> </div> <div class=\"col-lg-3\"> <h4>Enim</h4><p>Enim aliqua aliqua aliqua aliqua aliqua</p> <a class=\"btn btn-danger\" href=\"#\" role=\"button\">Enim aliqua</a> </div> <div class=\"col-lg-3\"> <h4>Enim</h4><p>Enim aliqua a\n",
            "    Answer: <html> <body> <main class=\"container\"> <div class=\"header clearfix\"> <nav> <ul class=\"nav nav-pills pull-left\"> <li><a href=\"#\">Aute irure</a></li> <li><a href=\"#\">Do sint</a></li> <li><a href=\"#\">Amet non</a></li> <li><a href=\"#\">Magna labore</a></li> <li class=\"active\"><a href=\"#\">Voluptate do</a></li> </ul> </nav> </div> <div class=\"row\"><div class=\"col-lg-6\"> <h4>Lorem</h4><p>Aliquip ipsum ea culpa ut esse fugiat est</p> <a class=\"btn btn-success\" href=\"#\" role=\"button\">Fugiat qui</a> </div> <div class=\"col-lg-6\"> <h4>Ad</h4><p>Adipiscing consequat pariatur reprehenderit fugiat ad cillum</p> <a class=\"btn btn-success\" href=\"#\" role=\"button\">Nulla qui</a> </div> </div> <div class=\"row\"><div class=\"col-lg-3\"> <h4>Ex</h4><p>Minim laboris exercitation consectetur dolore fugiat ea</p> <a class=\"btn btn-danger\" href=\"#\" role=\"button\">Occaecat magna</a> </div> <div class=\"col-lg-3\"> <h4>Proident</h4><p>Dolor id aliquip esse exercitation et ullamco sunt</p> <a class=\"btn btn-danger\" href=\"#\" role=\"button\">Ut nulla</a> </div> <div class=\"col-lg-3\"> <h4>Laborum</h4><p>Nisi amet dolore esse et commodo voluptate nulla</p> <a class=\"btn btn-warning\" href=\"#\" role=\"button\">Ullamco culpa</a> </div> <div class=\"col-lg-3\"> <h4>Commodo</h4><p>Qui quis labore proident irure eu lorem ad</p> <a class=\"btn btn-danger\" href=\"#\" role=\"button\">Dolore sit</a> </div> </div> <div class=\"row\"><div class=\"col-lg-12\"> <h4>Qui</h4><p>Culpa voluptate velit in cupidatat consectetur veniam ea</p> <a class=\"btn btn-warning\" href=\"#\" role=\"button\">Aute eu</a> </div> </div> </main> </body> </html> \n",
            "      Bleu: 0.44\n",
            "\n",
            "Prediction: <html> <body> <main class=\"container\"> <div class=\"header clearfix\"> <nav> <ul class=\"nav nav-pills pull-left\"> <li><a href=\"#\">Enim qui</a></li> <li><a href=\"#\">Enim qui</a></li> <li><a href=\"#\">Enim qui</a></li> </ul> </nav> </div> <div class=\"row\"><div class=\"col-lg-3\"> <h4>Enim</h4><p>Enim qui aute qui aute qui aliqua aliqua aliqua</p> <a class=\"btn btn-danger\" href=\"#\" role=\"button\">Enim qui</a> </div> <div class=\"col-lg-3\"> <h4>Enim</h4><p>Enim qui aliqua aliqua aliqua aliqua aliqua</p> <a class=\"btn btn-danger\" href=\"#\" role=\"button\">Enim qui</a> </div> <div class=\"col-lg-3\"> <h4>Enim</h4><p>Enim aliqua aliqua aliqua aliqua aliqua</p> <a class=\"btn btn-danger\" href=\"#\" role=\"button\">Enim qui</a> </div> <div class=\"col-lg-3\"> <h4>Enim</h4><p>Enim aliqua aliqua aliqua aliqua aliqua</p> <a class=\"btn btn-danger\" href=\"#\" role=\"button\">Enim qui</a> </div> <div class=\"col-lg-3\"> <h4>Enim</h4><p>Enim aliqua aliqua aliqua aliqua aliqua</p> <a class=\"btn btn-danger\" href=\"#\" role=\"button\">Enim aliqua</a> </div> <div class=\"col-lg-3\"> <h4>Enim</h4><p>Enim aliqua aliqua aliqua aliqua aliqua</p> <a class=\"btn btn-danger\" href=\"#\" role=\"button\">Enim aliqua</a> </div> <div class=\"col-lg-3\"> <h4>Enim</h4><p>Enim aliqua aliqua aliqua aliqua aliqua</p> <a class=\"btn btn-danger\" href=\"#\" role=\"button\">Enim aliqua</a> </div> <div class=\"col-lg-3\"> <h4>Enim</h4><p>Enim aliqua aliqua aliqua aliqua aliqua</p> <a class=\"btn btn-danger\" href=\"#\" role=\"button\">Enim aliqua</a> </div> <div class=\"col-lg-3\"> <h4>Enim</h4><p>Enim aliqua aliqua aliqua aliqua aliqua</p> <a class=\"btn btn-danger\" href=\"#\" role=\"button\">Enim aliqua</a> </div> <div class=\"col-lg-3\"> <h4>Enim</h4><p>Enim aliqua aliqua aliqua aliqua aliqua</p> <a class=\"btn btn-danger\" href=\"#\" role=\"button\">Enim aliqua</a> </div> <div class=\"col-lg-3\"> <h4>Enim</h4><p>Enim aliqua aliqua aliqua aliqua aliqua</p> <a class=\"btn btn-danger\" href=\"#\" role=\"button\">Enim aliqua</a> </div> <div class=\"col-lg-3\"> <h4>Enim</h4><p>Enim aliqua aliqua aliqua aliqua aliqua</p> <a class=\"btn btn-danger\" href=\"#\" role=\"button\">Enim aliqua</a> </div> <div class=\"col-lg-3\"> <h4>Enim</h4><p>Enim aliqua aliqua aliqua aliqua aliqua</p> <a class=\"btn btn-danger\" href=\"#\" role=\"button\">Enim aliqua</a> </div> <div class=\"col-lg-3\"> <h4>Enim</h4><p>Enim aliqua aliqua aliqua aliqua aliqua</p> <a class=\"btn btn-danger\" href=\"#\" role=\"button\">Enim aliqua</a> </div> <div class=\"col-lg-3\"> <h4>Enim</h4><p>Enim aliqua a\n",
            "    Answer: <html> <body> <main class=\"container\"> <div class=\"header clearfix\"> <nav> <ul class=\"nav nav-pills pull-left\"> <li class=\"active\"><a href=\"#\">Anim do</a></li> <li><a href=\"#\">Laboris labore</a></li> <li><a href=\"#\">Nulla officia</a></li> <li><a href=\"#\">Ipsum sunt</a></li> </ul> </nav> </div> <div class=\"row\"><div class=\"col-lg-6\"> <h4>Pariatur</h4><p>Tempor consequat aute sit minim irure sunt anim</p> <a class=\"btn btn-danger\" href=\"#\" role=\"button\">Esse enim</a> </div> <div class=\"col-lg-6\"> <h4>Labore</h4><p>Dolor laborum sunt anim et ad exercitation</p> <a class=\"btn btn-success\" href=\"#\" role=\"button\">Voluptate pariatur</a> </div> </div> <div class=\"row\"><div class=\"col-lg-3\"> <h4>Lorem</h4><p>Ipsum reprehenderit quis voluptate sed aliquip nulla veniam</p> <a class=\"btn btn-warning\" href=\"#\" role=\"button\">Ea magna</a> </div> <div class=\"col-lg-3\"> <h4>Ea</h4><p>Fugiat nostrud eiusmod sint ex nisi veniam</p> <a class=\"btn btn-warning\" href=\"#\" role=\"button\">Cupidatat pariatur</a> </div> <div class=\"col-lg-3\"> <h4>Nisi</h4><p>Est consequat amet quis aliqua adipiscing dolor veniam</p> <a class=\"btn btn-danger\" href=\"#\" role=\"button\">Exercitation anim</a> </div> <div class=\"col-lg-3\"> <h4>Deserunt</h4><p>Enim aliquip ut aliqua eu velit</p> <a class=\"btn btn-danger\" href=\"#\" role=\"button\">Consectetur reprehenderit</a> </div> </div> <div class=\"row\"><div class=\"col-lg-12\"> <h4>Anim</h4><p>Ad est tempor nisi aliqua qui dolore ullamco</p> <a class=\"btn btn-warning\" href=\"#\" role=\"button\">Qui enim</a> </div> </div> </main> </body> </html> \n",
            "      Bleu: 0.45\n",
            "\n",
            "Prediction: <html> <body> <main class=\"container\"> <div class=\"header clearfix\"> <nav> <ul class=\"nav nav-pills pull-left\"> <li><a href=\"#\">Enim qui</a></li> <li><a href=\"#\">Enim qui</a></li> <li><a href=\"#\">Enim qui</a></li> </ul> </nav> </div> <div class=\"row\"><div class=\"col-lg-6\"> <h4>Enim</h4><p>Enim qui aute aliqua aliqua aliqua aliqua aliqua</p> <a class=\"btn btn-success\" href=\"#\" role=\"button\">Enim qui</a> </div> <div class=\"col-lg-6\"> <h4>Enim</h4><p>Enim aliqua aliqua aliqua aliqua aliqua</p> <a class=\"btn btn-success\" href=\"#\" role=\"button\">Enim qui</a> </div> <div class=\"col-lg-6\"> <h4>Enim</h4><p>Enim aliqua aliqua aliqua aliqua aliqua</p> <a class=\"btn btn-success\" href=\"#\" role=\"button\">Enim qui</a> </div> <div class=\"col-lg-6\"> <h4>Enim</h4><p>Enim aliqua aliqua aliqua aliqua aliqua</p> <a class=\"btn btn-success\" href=\"#\" role=\"button\">Enim qui</a> </div> <div class=\"col-lg-6\"> <h4>Enim</h4><p>Enim aliqua aliqua aliqua aliqua aliqua</p> <a class=\"btn btn-success\" href=\"#\" role=\"button\">Enim aliqua</a> </div> <div class=\"col-lg-6\"> <h4>Enim</h4><p>Enim aliqua aliqua aliqua aliqua aliqua</p> <a class=\"btn btn-success\" href=\"#\" role=\"button\">Enim aliqua</a> </div> <div class=\"col-lg-6\"> <h4>Enim</h4><p>Enim aliqua aliqua aliqua aliqua aliqua</p> <a class=\"btn btn-success\" href=\"#\" role=\"button\">Enim aliqua</a> </div> <div class=\"col-lg-6\"> <h4>Enim</h4><p>Enim aliqua aliqua aliqua aliqua aliqua</p> <a class=\"btn btn-success\" href=\"#\" role=\"button\">Enim aliqua</a> </div> <div class=\"col-lg-6\"> <h4>Enim</h4><p>Enim aliqua aliqua aliqua aliqua aliqua</p> <a class=\"btn btn-success\" href=\"#\" role=\"button\">Enim aliqua</a> </div> <div class=\"col-lg-6\"> <h4>Enim</h4><p>Enim aliqua aliqua aliqua aliqua aliqua</p> <a class=\"btn btn-success\" href=\"#\" role=\"button\">Enim aliqua</a> </div> <div class=\"col-lg-6\"> <h4>Enim</h4><p>Enim aliqua aliqua aliqua aliqua aliqua</p> <a class=\"btn btn-success\" href=\"#\" role=\"button\">Enim aliqua</a> </div> <div class=\"col-lg-6\"> <h4>Enim</h4><p>Enim aliqua aliqua aliqua aliqua aliqua</p> <a class=\"btn btn-success\" href=\"#\" role=\"button\">Enim aliqua</a> </div> <div class=\"col-lg-6\"> <h4>Enim</h4><p>Enim aliqua aliqua aliqua aliqua aliqua</p> <a class=\"btn btn-success\" href=\"#\" role=\"button\">Enim aliqua</a> </div> <div class=\"col-lg-6\"> <h4>Enim</h4><p>Enim aliqua aliqua aliqua aliqua aliqua</p> <a class=\"btn btn-success\" href=\"#\" role=\"button\">Enim aliqua</a> </div> <div class=\"col-lg-6\"> <h4>Enim</h4><p>Enim aliqua\n",
            "    Answer: <html> <body> <main class=\"container\"> <div class=\"header clearfix\"> <nav> <ul class=\"nav nav-pills pull-left\"> <li><a href=\"#\">Magna aliquip</a></li> <li><a href=\"#\">Enim voluptate</a></li> <li><a href=\"#\">Veniam aute</a></li> <li class=\"active\"><a href=\"#\">Magna velit</a></li> <li><a href=\"#\">Lorem incididunt</a></li> </ul> </nav> </div> <div class=\"row\"><div class=\"col-lg-3\"> <h4>Elit</h4><p>Sint deserunt tempor ex laborum</p> <a class=\"btn btn-success\" href=\"#\" role=\"button\">Dolore magna</a> </div> <div class=\"col-lg-3\"> <h4>In</h4><p>Fugiat elit sit duis dolore sint cillum eu</p> <a class=\"btn btn-warning\" href=\"#\" role=\"button\">Id occaecat</a> </div> <div class=\"col-lg-3\"> <h4>Mollit</h4><p>Amet occaecat officia qui elit et laborum nisi</p> <a class=\"btn btn-success\" href=\"#\" role=\"button\">Nisi nostrud</a> </div> <div class=\"col-lg-3\"> <h4>Et</h4><p>Consectetur occaecat aliqua magna ea dolore lorem irure</p> <a class=\"btn btn-success\" href=\"#\" role=\"button\">Magna anim</a> </div> </div> <div class=\"row\"><div class=\"col-lg-6\"> <h4>Do</h4><p>Quis nulla dolor excepteur sint ut laborum cupidatat</p> <a class=\"btn btn-danger\" href=\"#\" role=\"button\">Sit excepteur</a> </div> <div class=\"col-lg-6\"> <h4>Deserunt</h4><p>Ullamco consectetur nulla adipiscing occaecat non enim tempor</p> <a class=\"btn btn-warning\" href=\"#\" role=\"button\">Proident ipsum</a> </div> </div> </main> </body> </html> \n",
            "      Bleu: 0.39\n"
          ]
        },
        {
          "output_type": "stream",
          "name": "stderr",
          "text": [
            "Epoch 0/9 - valid loop: 100%|██████████| 2/2 [05:09<00:00, 154.79s/it, bleu_score=0.43]\n"
          ]
        },
        {
          "output_type": "stream",
          "name": "stdout",
          "text": [
            "\n",
            "Prediction: <html> <body> <main class=\"container\"> <div class=\"header clearfix\"> <nav> <ul class=\"nav nav-pills pull-left\"> <li><a href=\"#\">Enim qui</a></li> <li><a href=\"#\">Enim qui</a></li> <li><a href=\"#\">Enim qui</a></li> </ul> </nav> </div> <div class=\"row\"><div class=\"col-lg-3\"> <h4>Enim</h4><p>Enim qui aute qui aute qui aliqua aliqua aliqua aliqua</p> <a class=\"btn btn-warning\" href=\"#\" role=\"button\">Enim qui</a> </div> <div class=\"col-lg-3\"> <h4>Enim</h4><p>Enim qui aliqua aliqua aliqua aliqua aliqua</p> <a class=\"btn btn-warning\" href=\"#\" role=\"button\">Enim qui</a> </div> <div class=\"col-lg-3\"> <h4>Enim</h4><p>Enim aliqua aliqua aliqua aliqua aliqua aliqua</p> <a class=\"btn btn-warning\" href=\"#\" role=\"button\">Enim qui</a> </div> <div class=\"col-lg-3\"> <h4>Enim</h4><p>Enim aliqua aliqua aliqua aliqua aliqua aliqua</p> <a class=\"btn btn-warning\" href=\"#\" role=\"button\">Enim qui</a> </div> <div class=\"col-lg-3\"> <h4>Enim</h4><p>Enim aliqua aliqua aliqua aliqua aliqua aliqua</p> <a class=\"btn btn-warning\" href=\"#\" role=\"button\">Enim qui</a> </div> <div class=\"col-lg-3\"> <h4>Enim</h4><p>Enim aliqua aliqua aliqua aliqua aliqua aliqua</p> <a class=\"btn btn-warning\" href=\"#\" role=\"button\">Enim aliqua</a> </div> <div class=\"col-lg-3\"> <h4>Enim</h4><p>Enim aliqua aliqua aliqua aliqua aliqua aliqua</p> <a class=\"btn btn-warning\" href=\"#\" role=\"button\">Enim aliqua</a> </div> <div class=\"col-lg-3\"> <h4>Enim</h4><p>Enim aliqua aliqua aliqua aliqua aliqua aliqua</p> <a class=\"btn btn-warning\" href=\"#\" role=\"button\">Enim aliqua</a> </div> <div class=\"col-lg-3\"> <h4>Enim</h4><p>Enim aliqua aliqua aliqua aliqua aliqua aliqua</p> <a class=\"btn btn-warning\" href=\"#\" role=\"button\">Enim aliqua</a> </div> <div class=\"col-lg-3\"> <h4>Enim</h4><p>Enim aliqua aliqua aliqua aliqua aliqua aliqua</p> <a class=\"btn btn-warning\" href=\"#\" role=\"button\">Enim aliqua</a> </div> <div class=\"col-lg-3\"> <h4>Enim</h4><p>Enim aliqua aliqua aliqua aliqua aliqua aliqua</p> <a class=\"btn btn-warning\" href=\"#\" role=\"button\">Enim aliqua</a> </div> <div class=\"col-lg-3\"> <h4>Enim</h4><p>Enim aliqua aliqua aliqua aliqua aliqua aliqua</p> <a class=\"btn btn-warning\" href=\"#\" role=\"button\">Enim aliqua</a> </div> <div class=\"col-lg-3\"> <h4>Enim</h4><p>Enim aliqua aliqua aliqua aliqua aliqua aliqua</p> <a class=\"btn btn-warning\" href=\"#\" role=\"button\">Enim aliqua</a> </div> <div class=\"col-lg-3\"> <h4>Enim</h4><p>Enim aliqua aliqua aliqua aliqua aliqua aliqua</p> <a class=\"btn btn-warning\" href=\"#\" role=\"button\">\n",
            "    Answer: <html> <body> <main class=\"container\"> <div class=\"header clearfix\"> <nav> <ul class=\"nav nav-pills pull-left\"> <li><a href=\"#\">Velit et</a></li> <li class=\"active\"><a href=\"#\">Pariatur velit</a></li> </ul> </nav> </div> <div class=\"row\"><div class=\"col-lg-3\"> <h4>Magna</h4><p>Nulla occaecat cillum non</p> <a class=\"btn btn-success\" href=\"#\" role=\"button\">Ex eu</a> </div> <div class=\"col-lg-3\"> <h4>Esse</h4><p>Amet aliquip duis ad eu lorem sunt</p> <a class=\"btn btn-warning\" href=\"#\" role=\"button\">Id reprehenderit</a> </div> <div class=\"col-lg-3\"> <h4>Et</h4><p>Amet sed occaecat eiusmod excepteur id nulla voluptate</p> <a class=\"btn btn-danger\" href=\"#\" role=\"button\">Sint eu</a> </div> <div class=\"col-lg-3\"> <h4>Esse</h4><p>Dolor est magna enim ullamco exercitation officia voluptate</p> <a class=\"btn btn-success\" href=\"#\" role=\"button\">Ea quis</a> </div> </div> <div class=\"row\"><div class=\"col-lg-12\"> <h4>Mollit</h4><p>Nostrud mollit commodo veniam voluptate occaecat elit duis</p> <a class=\"btn btn-warning\" href=\"#\" role=\"button\">Nostrud magna</a> </div> </div> <div class=\"row\"><div class=\"col-lg-6\"> <h4>Ea</h4><p>Excepteur nostrud anim tempor duis cupidatat</p> <a class=\"btn btn-warning\" href=\"#\" role=\"button\">Cillum esse</a> </div> <div class=\"col-lg-6\"> <h4>Deserunt</h4><p>In ut do ullamco</p> <a class=\"btn btn-danger\" href=\"#\" role=\"button\">Tempor exercitation</a> </div> </div> </main> </body> </html> \n",
            "      Bleu: 0.42\n",
            "\n",
            "Prediction: <html> <body> <main class=\"container\"> <div class=\"header clearfix\"> <nav> <ul class=\"nav nav-pills pull-left\"> <li><a href=\"#\">Enim qui</a></li> <li><a href=\"#\">Enim qui</a></li> <li><a href=\"#\">Enim qui</a></li> </ul> </nav> </div> <div class=\"row\"><div class=\"col-lg-3\"> <h4>Enim</h4><p>Enim qui aute qui aute qui aliqua aliqua aliqua</p> <a class=\"btn btn-success\" href=\"#\" role=\"button\">Enim qui</a> </div> <div class=\"col-lg-3\"> <h4>Enim</h4><p>Enim qui aliqua aliqua aliqua aliqua aliqua</p> <a class=\"btn btn-success\" href=\"#\" role=\"button\">Enim qui</a> </div> <div class=\"col-lg-3\"> <h4>Enim</h4><p>Enim aliqua aliqua aliqua aliqua aliqua</p> <a class=\"btn btn-success\" href=\"#\" role=\"button\">Enim qui</a> </div> <div class=\"col-lg-3\"> <h4>Enim</h4><p>Enim aliqua aliqua aliqua aliqua aliqua</p> <a class=\"btn btn-success\" href=\"#\" role=\"button\">Enim qui</a> </div> <div class=\"col-lg-3\"> <h4>Enim</h4><p>Enim aliqua aliqua aliqua aliqua aliqua</p> <a class=\"btn btn-success\" href=\"#\" role=\"button\">Enim qui</a> </div> <div class=\"col-lg-3\"> <h4>Enim</h4><p>Enim aliqua aliqua aliqua aliqua aliqua</p> <a class=\"btn btn-success\" href=\"#\" role=\"button\">Enim aliqua</a> </div> <div class=\"col-lg-3\"> <h4>Enim</h4><p>Enim aliqua aliqua aliqua aliqua aliqua</p> <a class=\"btn btn-success\" href=\"#\" role=\"button\">Enim aliqua</a> </div> <div class=\"col-lg-3\"> <h4>Enim</h4><p>Enim aliqua aliqua aliqua aliqua aliqua</p> <a class=\"btn btn-success\" href=\"#\" role=\"button\">Enim aliqua</a> </div> <div class=\"col-lg-3\"> <h4>Enim</h4><p>Enim aliqua aliqua aliqua aliqua aliqua</p> <a class=\"btn btn-success\" href=\"#\" role=\"button\">Enim aliqua</a> </div> <div class=\"col-lg-3\"> <h4>Enim</h4><p>Enim aliqua aliqua aliqua aliqua aliqua</p> <a class=\"btn btn-success\" href=\"#\" role=\"button\">Enim aliqua</a> </div> <div class=\"col-lg-3\"> <h4>Enim</h4><p>Enim aliqua aliqua aliqua aliqua aliqua</p> <a class=\"btn btn-success\" href=\"#\" role=\"button\">Enim aliqua</a> </div> <div class=\"col-lg-3\"> <h4>Enim</h4><p>Enim aliqua aliqua aliqua aliqua aliqua</p> <a class=\"btn btn-success\" href=\"#\" role=\"button\">Enim aliqua</a> </div> <div class=\"col-lg-3\"> <h4>Enim</h4><p>Enim aliqua aliqua aliqua aliqua aliqua</p> <a class=\"btn btn-success\" href=\"#\" role=\"button\">Enim aliqua</a> </div> <div class=\"col-lg-3\"> <h4>Enim</h4><p>Enim aliqua aliqua aliqua aliqua aliqua</p> <a class=\"btn btn-success\" href=\"#\" role=\"button\">Enim aliqua</a> </div> <div class=\"col-lg-3\"> <h4>Enim</h4><p>Enim aliqua aliqua\n",
            "    Answer: <html> <body> <main class=\"container\"> <div class=\"header clearfix\"> <nav> <ul class=\"nav nav-pills pull-left\"> <li><a href=\"#\">Ad adipiscing</a></li> <li class=\"active\"><a href=\"#\">Reprehenderit do</a></li> </ul> </nav> </div> <div class=\"row\"><div class=\"col-lg-6\"> <h4>Excepteur</h4><p>Consectetur elit deserunt ullamco labore lorem dolor esse</p> <a class=\"btn btn-success\" href=\"#\" role=\"button\">Consequat commodo</a> </div> <div class=\"col-lg-6\"> <h4>Occaecat</h4><p>Pariatur excepteur do et dolore id laborum sint</p> <a class=\"btn btn-warning\" href=\"#\" role=\"button\">Est ex</a> </div> </div> <div class=\"row\"><div class=\"col-lg-12\"> <h4>Irure</h4><p>Consequat in sunt qui dolor reprehenderit proident laboris</p> <a class=\"btn btn-success\" href=\"#\" role=\"button\">Irure dolore</a> </div> </div> <div class=\"row\"><div class=\"col-lg-3\"> <h4>Amet</h4><p>Lorem ut ullamco exercitation fugiat amet</p> <a class=\"btn btn-success\" href=\"#\" role=\"button\">Magna dolore</a> </div> <div class=\"col-lg-3\"> <h4>Dolore</h4><p>Aliquip consectetur ex sint cupidatat pariatur amet elit</p> <a class=\"btn btn-danger\" href=\"#\" role=\"button\">Adipiscing sunt</a> </div> <div class=\"col-lg-3\"> <h4>Do</h4><p>Qui proident officia mollit magna cupidatat esse duis</p> <a class=\"btn btn-warning\" href=\"#\" role=\"button\">Pariatur dolore</a> </div> <div class=\"col-lg-3\"> <h4>Veniam</h4><p>Eu sed pariatur</p> <a class=\"btn btn-success\" href=\"#\" role=\"button\">Sunt cupidatat</a> </div> </div> </main> </body> </html> \n",
            "      Bleu: 0.44\n",
            "\n",
            "Prediction: <html> <body> <main class=\"container\"> <div class=\"header clearfix\"> <nav> <ul class=\"nav nav-pills pull-left\"> <li><a href=\"#\">Enim qui</a></li> <li><a href=\"#\">Enim qui</a></li> <li><a href=\"#\">Enim qui</a></li> </ul> </nav> </div> <div class=\"row\"><div class=\"col-lg-3\"> <h4>Enim</h4><p>Enim qui aute qui aute qui aliqua aliqua aliqua aliqua</p> <a class=\"btn btn-warning\" href=\"#\" role=\"button\">Enim qui</a> </div> <div class=\"col-lg-3\"> <h4>Enim</h4><p>Enim qui aliqua aliqua aliqua aliqua aliqua</p> <a class=\"btn btn-warning\" href=\"#\" role=\"button\">Enim qui</a> </div> <div class=\"col-lg-3\"> <h4>Enim</h4><p>Enim aliqua aliqua aliqua aliqua aliqua aliqua</p> <a class=\"btn btn-warning\" href=\"#\" role=\"button\">Enim qui</a> </div> <div class=\"col-lg-3\"> <h4>Enim</h4><p>Enim aliqua aliqua aliqua aliqua aliqua aliqua</p> <a class=\"btn btn-warning\" href=\"#\" role=\"button\">Enim qui</a> </div> <div class=\"col-lg-3\"> <h4>Enim</h4><p>Enim aliqua aliqua aliqua aliqua aliqua aliqua</p> <a class=\"btn btn-warning\" href=\"#\" role=\"button\">Enim aliqua</a> </div> <div class=\"col-lg-3\"> <h4>Enim</h4><p>Enim aliqua aliqua aliqua aliqua aliqua aliqua</p> <a class=\"btn btn-warning\" href=\"#\" role=\"button\">Enim aliqua</a> </div> <div class=\"col-lg-3\"> <h4>Enim</h4><p>Enim aliqua aliqua aliqua aliqua aliqua aliqua</p> <a class=\"btn btn-warning\" href=\"#\" role=\"button\">Enim aliqua</a> </div> <div class=\"col-lg-3\"> <h4>Enim</h4><p>Enim aliqua aliqua aliqua aliqua aliqua aliqua</p> <a class=\"btn btn-warning\" href=\"#\" role=\"button\">Enim aliqua</a> </div> <div class=\"col-lg-3\"> <h4>Enim</h4><p>Enim aliqua aliqua aliqua aliqua aliqua aliqua</p> <a class=\"btn btn-warning\" href=\"#\" role=\"button\">Enim aliqua</a> </div> <div class=\"col-lg-3\"> <h4>Enim</h4><p>Enim aliqua aliqua aliqua aliqua aliqua aliqua</p> <a class=\"btn btn-warning\" href=\"#\" role=\"button\">Enim aliqua</a> </div> <div class=\"col-lg-3\"> <h4>Enim</h4><p>Enim aliqua aliqua aliqua aliqua aliqua aliqua</p> <a class=\"btn btn-warning\" href=\"#\" role=\"button\">Enim aliqua</a> </div> <div class=\"col-lg-3\"> <h4>Enim</h4><p>Enim aliqua aliqua aliqua aliqua aliqua aliqua</p> <a class=\"btn btn-warning\" href=\"#\" role=\"button\">Enim aliqua</a> </div> <div class=\"col-lg-3\"> <h4>Enim</h4><p>Enim aliqua aliqua aliqua aliqua aliqua aliqua</p> <a class=\"btn btn-warning\" href=\"#\" role=\"button\">Enim aliqua</a> </div> <div class=\"col-lg-3\"> <h4>Enim</h4><p>Enim aliqua aliqua aliqua aliqua aliqua aliqua</p> <a class=\"btn btn-warning\" href=\"#\" role=\"\n",
            "    Answer: <html> <body> <main class=\"container\"> <div class=\"header clearfix\"> <nav> <ul class=\"nav nav-pills pull-left\"> <li><a href=\"#\">Et irure</a></li> <li class=\"active\"><a href=\"#\">Non duis</a></li> </ul> </nav> </div> <div class=\"row\"><div class=\"col-lg-3\"> <h4>Incididunt</h4><p>Enim magna non laborum fugiat qui tempor id</p> <a class=\"btn btn-warning\" href=\"#\" role=\"button\">Nisi duis</a> </div> <div class=\"col-lg-3\"> <h4>Qui</h4><p>Labore officia eu proident excepteur adipiscing nulla id</p> <a class=\"btn btn-warning\" href=\"#\" role=\"button\">Fugiat quis</a> </div> <div class=\"col-lg-3\"> <h4>Duis</h4><p>Ullamco sit ipsum duis cillum minim laborum officia</p> <a class=\"btn btn-success\" href=\"#\" role=\"button\">Officia magna</a> </div> <div class=\"col-lg-3\"> <h4>Qui</h4><p>Aliquip elit ut et sed ipsum laboris aute</p> <a class=\"btn btn-warning\" href=\"#\" role=\"button\">Reprehenderit cupidatat</a> </div> </div> <div class=\"row\"><div class=\"col-lg-12\"> <h4>Ut</h4><p>Non culpa adipiscing reprehenderit nostrud anim</p> <a class=\"btn btn-warning\" href=\"#\" role=\"button\">Duis nulla</a> </div> </div> <div class=\"row\"><div class=\"col-lg-6\"> <h4>Fugiat</h4><p>Ipsum adipiscing sunt labore est aliqua consectetur do</p> <a class=\"btn btn-warning\" href=\"#\" role=\"button\">Elit officia</a> </div> <div class=\"col-lg-6\"> <h4>Tempor</h4><p>Deserunt ut minim aliquip irure aliqua nisi dolore</p> <a class=\"btn btn-warning\" href=\"#\" role=\"button\">Aute amet</a> </div> </div> </main> </body> </html> \n",
            "      Bleu: 0.44\n",
            "\n",
            "Prediction: <html> <body> <main class=\"container\"> <div class=\"header clearfix\"> <nav> <ul class=\"nav nav-pills pull-left\"> <li><a href=\"#\">Enim qui</a></li> <li><a href=\"#\">Enim qui</a></li> <li><a href=\"#\">Enim qui</a></li> <li><a href=\"#\">Enim qui</a></li> </ul> </nav> </div> <div class=\"row\"><div class=\"col-lg-3\"> <h4>Enim</h4><p>Enim qui aute qui aute qui aute qui aute</p> <a class=\"btn btn-success\" href=\"#\" role=\"button\">Enim qui</a> </div> <div class=\"col-lg-3\"> <h4>Enim</h4><p>Enim qui aute qui aute qui aute qui aute</p> <a class=\"btn btn-success\" href=\"#\" role=\"button\">Enim qui</a> </div> <div class=\"col-lg-3\"> <h4>Enim</h4><p>Enim qui aute qui aute qui aute</p> <a class=\"btn btn-success\" href=\"#\" role=\"button\">Enim qui</a> </div> <div class=\"col-lg-3\"> <h4>Enim</h4><p>Enim qui aute qui aute qui aute</p> <a class=\"btn btn-success\" href=\"#\" role=\"button\">Enim qui</a> </div> <div class=\"col-lg-3\"> <h4>Enim</h4><p>Enim qui aute qui aute aute aute</p> <a class=\"btn btn-success\" href=\"#\" role=\"button\">Enim qui</a> </div> <div class=\"col-lg-3\"> <h4>Enim</h4><p>Enim aute qui aute aute aute aute</p> <a class=\"btn btn-success\" href=\"#\" role=\"button\">Enim qui</a> </div> <div class=\"col-lg-3\"> <h4>Enim</h4><p>Enim aute qui aute aute aute aute</p> <a class=\"btn btn-success\" href=\"#\" role=\"button\">Enim qui</a> </div> <div class=\"col-lg-3\"> <h4>Enim</h4><p>Enim aute aute aute aute aute</p> <a class=\"btn btn-success\" href=\"#\" role=\"button\">Enim qui</a> </div> <div class=\"col-lg-3\"> <h4>Enim</h4><p>Enim aute aute aute aute aute</p> <a class=\"btn btn-success\" href=\"#\" role=\"button\">Enim qui</a> </div> <div class=\"col-lg-3\"> <h4>Enim</h4><p>Enim aute aute aute aute aute</p> <a class=\"btn btn-success\" href=\"#\" role=\"button\">Enim qui</a> </div> <div class=\"col-lg-3\"> <h4>Enim</h4><p>Enim aute aute aute aute aute</p> <a class=\"btn btn-success\" href=\"#\" role=\"button\">Enim qui</a> </div> <div class=\"col-lg-3\"> <h4>Enim</h4><p>Enim aute aute aute aute aute</p> <a class=\"btn btn-success\" href=\"#\" role=\"button\">Enim aute</a> </div> <div class=\"col-lg-3\"> <h4>Enim</h4><p>Enim aute aute aute aute aute</p> <a class=\"btn btn-success\" href=\"#\" role=\"button\">Enim aute</a> </div> <div class=\"col-lg-3\"> <h4>Enim</h4><p>Enim aute aute aute aute aute</p> <a class=\"btn btn-success\" href=\"#\" role=\"button\">Enim aute</a> </div> <div class=\"col-lg-3\"> <h4>Enim</h4><p>Enim aute aute aute aute aute</p> <a class=\"btn btn-success\" href=\"#\" role=\"button\">Enim aute</a> </div> <div class=\"col-lg-3\"> <h4>Enim</h4><p>Enim aute aute aute aute aute</p> <a class\n",
            "    Answer: <html> <body> <main class=\"container\"> <div class=\"header clearfix\"> <nav> <ul class=\"nav nav-pills pull-left\"> <li><a href=\"#\">Excepteur culpa</a></li> <li><a href=\"#\">Adipiscing nulla</a></li> <li><a href=\"#\">Amet sed</a></li> <li class=\"active\"><a href=\"#\">Exercitation elit</a></li> <li><a href=\"#\">Tempor aliqua</a></li> </ul> </nav> </div> <div class=\"row\"><div class=\"col-lg-6\"> <h4>Excepteur</h4><p>Aute proident occaecat lorem incididunt</p> <a class=\"btn btn-danger\" href=\"#\" role=\"button\">Lorem eu</a> </div> <div class=\"col-lg-6\"> <h4>Quis</h4><p>Laboris in ipsum cillum dolor ea sint nostrud</p> <a class=\"btn btn-success\" href=\"#\" role=\"button\">Proident enim</a> </div> </div> <div class=\"row\"><div class=\"col-lg-12\"> <h4>Nisi</h4><p>In et officia consequat lorem eu non nulla</p> <a class=\"btn btn-warning\" href=\"#\" role=\"button\">Ad ut</a> </div> </div> <div class=\"row\"><div class=\"col-lg-3\"> <h4>Laborum</h4><p>Ut sunt occaecat ullamco dolor cupidatat amet est</p> <a class=\"btn btn-warning\" href=\"#\" role=\"button\">Cillum aute</a> </div> <div class=\"col-lg-3\"> <h4>Consequat</h4><p>Voluptate consequat enim aliquip officia aute excepteur pariatur</p> <a class=\"btn btn-success\" href=\"#\" role=\"button\">Labore qui</a> </div> <div class=\"col-lg-3\"> <h4>Qui</h4><p>Mollit sit non voluptate culpa qui sed reprehenderit</p> <a class=\"btn btn-success\" href=\"#\" role=\"button\">Dolore dolor</a> </div> <div class=\"col-lg-3\"> <h4>Fugiat</h4><p>Pariatur reprehenderit sunt ex consequat qui exercitation tempor</p> <a class=\"btn btn-warning\" href=\"#\" role=\"button\">In veniam</a> </div> </div> </main> </body> </html> \n",
            "      Bleu: 0.42\n",
            "\n",
            "Prediction: <html> <body> <main class=\"container\"> <div class=\"header clearfix\"> <nav> <ul class=\"nav nav-pills pull-left\"> <li><a href=\"#\">Enim qui</a></li> <li><a href=\"#\">Enim qui</a></li> <li><a href=\"#\">Enim qui</a></li> </ul> </nav> </div> <div class=\"row\"><div class=\"col-lg-6\"> <h4>Enim</h4><p>Enim qui aute qui aute qui aute qui aute</p> <a class=\"btn btn-danger\" href=\"#\" role=\"button\">Enim qui</a> </div> <div class=\"col-lg-6\"> <h4>Enim</h4><p>Enim qui aute qui aute qui aute aliqua aliqua</p> <a class=\"btn btn-danger\" href=\"#\" role=\"button\">Enim qui</a> </div> <div class=\"col-lg-6\"> <h4>Enim</h4><p>Enim qui aute qui aute aliqua aliqua aliqua</p> <a class=\"btn btn-danger\" href=\"#\" role=\"button\">Enim qui</a> </div> <div class=\"col-lg-6\"> <h4>Enim</h4><p>Enim aliqua aliqua aliqua aliqua aliqua</p> <a class=\"btn btn-danger\" href=\"#\" role=\"button\">Enim qui</a> </div> <div class=\"col-lg-6\"> <h4>Enim</h4><p>Enim aliqua aliqua aliqua aliqua aliqua</p> <a class=\"btn btn-danger\" href=\"#\" role=\"button\">Enim qui</a> </div> <div class=\"col-lg-6\"> <h4>Enim</h4><p>Enim aliqua aliqua aliqua aliqua aliqua</p> <a class=\"btn btn-danger\" href=\"#\" role=\"button\">Enim aliqua</a> </div> <div class=\"col-lg-6\"> <h4>Enim</h4><p>Enim aliqua aliqua aliqua aliqua aliqua</p> <a class=\"btn btn-danger\" href=\"#\" role=\"button\">Enim aliqua</a> </div> <div class=\"col-lg-6\"> <h4>Enim</h4><p>Enim aliqua aliqua aliqua aliqua aliqua</p> <a class=\"btn btn-danger\" href=\"#\" role=\"button\">Enim aliqua</a> </div> <div class=\"col-lg-6\"> <h4>Enim</h4><p>Enim aliqua aliqua aliqua aliqua aliqua</p> <a class=\"btn btn-danger\" href=\"#\" role=\"button\">Enim aliqua</a> </div> <div class=\"col-lg-6\"> <h4>Enim</h4><p>Enim aliqua aliqua aliqua aliqua aliqua</p> <a class=\"btn btn-danger\" href=\"#\" role=\"button\">Enim aliqua</a> </div> <div class=\"col-lg-6\"> <h4>Enim</h4><p>Enim aliqua aliqua aliqua aliqua aliqua</p> <a class=\"btn btn-danger\" href=\"#\" role=\"button\">Enim aliqua</a> </div> <div class=\"col-lg-6\"> <h4>Enim</h4><p>Enim aliqua aliqua aliqua aliqua aliqua</p> <a class=\"btn btn-danger\" href=\"#\" role=\"button\">Enim aliqua</a> </div> <div class=\"col-lg-6\"> <h4>Enim</h4><p>Enim aliqua aliqua aliqua aliqua aliqua</p> <a class=\"btn btn-danger\" href=\"#\" role=\"button\">Enim aliqua</a> </div> <div class=\"col-lg-6\"> <h4>Enim</h4><p>Enim aliqua aliqua aliqua aliqua aliqua</p> <a class=\"btn btn-danger\" href=\"#\" role=\"button\">Enim aliqua</a> </div> <div class=\"col-lg-6\"> <h4>Enim</h4><p>Enim aliqua aliqua aliqua ali\n",
            "    Answer: <html> <body> <main class=\"container\"> <div class=\"header clearfix\"> <nav> <ul class=\"nav nav-pills pull-left\"> <li class=\"active\"><a href=\"#\">Cupidatat ipsum</a></li> <li><a href=\"#\">Amet adipiscing</a></li> <li><a href=\"#\">Pariatur enim</a></li> <li><a href=\"#\">Exercitation pariatur</a></li> </ul> </nav> </div> <div class=\"row\"><div class=\"col-lg-6\"> <h4>Sed</h4><p>Laborum aliqua mollit nisi</p> <a class=\"btn btn-warning\" href=\"#\" role=\"button\">Magna ipsum</a> </div> <div class=\"col-lg-6\"> <h4>Sit</h4><p>Quis sint mollit incididunt ullamco sed ipsum nulla</p> <a class=\"btn btn-danger\" href=\"#\" role=\"button\">Commodo aliquip</a> </div> </div> <div class=\"row\"><div class=\"col-lg-12\"> <h4>Voluptate</h4><p>Incididunt nulla eu sed eiusmod tempor est proident</p> <a class=\"btn btn-danger\" href=\"#\" role=\"button\">Do proident</a> </div> </div> <div class=\"row\"><div class=\"col-lg-3\"> <h4>Quis</h4><p>Enim nostrud sunt adipiscing irure duis sed tempor</p> <a class=\"btn btn-warning\" href=\"#\" role=\"button\">Ad voluptate</a> </div> <div class=\"col-lg-3\"> <h4>Veniam</h4><p>Aute dolore proident reprehenderit sed</p> <a class=\"btn btn-danger\" href=\"#\" role=\"button\">Excepteur veniam</a> </div> <div class=\"col-lg-3\"> <h4>Dolore</h4><p>Adipiscing ipsum elit sunt in duis cillum eiusmod</p> <a class=\"btn btn-danger\" href=\"#\" role=\"button\">Nisi consequat</a> </div> <div class=\"col-lg-3\"> <h4>Aliqua</h4><p>Elit cupidatat aliqua ullamco mollit excepteur laboris cillum</p> <a class=\"btn btn-success\" href=\"#\" role=\"button\">Enim lorem</a> </div> </div> </main> </body> </html> \n",
            "      Bleu: 0.43\n",
            "\n",
            "Prediction: <html> <body> <main class=\"container\"> <div class=\"header clearfix\"> <nav> <ul class=\"nav nav-pills pull-left\"> <li><a href=\"#\">Enim qui</a></li> <li><a href=\"#\">Enim qui</a></li> <li><a href=\"#\">Enim qui</a></li> </ul> </nav> </div> <div class=\"row\"><div class=\"col-lg-3\"> <h4>Enim</h4><p>Enim qui aute qui aute qui aliqua aliqua aliqua</p> <a class=\"btn btn-warning\" href=\"#\" role=\"button\">Enim qui</a> </div> <div class=\"col-lg-3\"> <h4>Enim</h4><p>Enim qui aliqua aliqua aliqua aliqua aliqua</p> <a class=\"btn btn-warning\" href=\"#\" role=\"button\">Enim qui</a> </div> <div class=\"col-lg-3\"> <h4>Enim</h4><p>Enim qui aliqua aliqua aliqua aliqua aliqua</p> <a class=\"btn btn-warning\" href=\"#\" role=\"button\">Enim qui</a> </div> <div class=\"col-lg-3\"> <h4>Enim</h4><p>Enim aliqua aliqua aliqua aliqua aliqua</p> <a class=\"btn btn-warning\" href=\"#\" role=\"button\">Enim qui</a> </div> <div class=\"col-lg-3\"> <h4>Enim</h4><p>Enim aliqua aliqua aliqua aliqua aliqua</p> <a class=\"btn btn-warning\" href=\"#\" role=\"button\">Enim qui</a> </div> <div class=\"col-lg-3\"> <h4>Enim</h4><p>Enim aliqua aliqua aliqua aliqua aliqua</p> <a class=\"btn btn-warning\" href=\"#\" role=\"button\">Enim qui</a> </div> <div class=\"col-lg-3\"> <h4>Enim</h4><p>Enim aliqua aliqua aliqua aliqua aliqua</p> <a class=\"btn btn-warning\" href=\"#\" role=\"button\">Enim aliqua</a> </div> <div class=\"col-lg-3\"> <h4>Enim</h4><p>Enim aliqua aliqua aliqua aliqua aliqua</p> <a class=\"btn btn-warning\" href=\"#\" role=\"button\">Enim aliqua</a> </div> <div class=\"col-lg-3\"> <h4>Enim</h4><p>Enim aliqua aliqua aliqua aliqua aliqua</p> <a class=\"btn btn-warning\" href=\"#\" role=\"button\">Enim aliqua</a> </div> <div class=\"col-lg-3\"> <h4>Enim</h4><p>Enim aliqua aliqua aliqua aliqua aliqua</p> <a class=\"btn btn-warning\" href=\"#\" role=\"button\">Enim aliqua</a> </div> <div class=\"col-lg-3\"> <h4>Enim</h4><p>Enim aliqua aliqua aliqua aliqua aliqua</p> <a class=\"btn btn-warning\" href=\"#\" role=\"button\">Enim aliqua</a> </div> <div class=\"col-lg-3\"> <h4>Enim</h4><p>Enim aliqua aliqua aliqua aliqua aliqua</p> <a class=\"btn btn-warning\" href=\"#\" role=\"button\">Enim aliqua</a> </div> <div class=\"col-lg-3\"> <h4>Enim</h4><p>Enim aliqua aliqua aliqua aliqua aliqua</p> <a class=\"btn btn-warning\" href=\"#\" role=\"button\">Enim aliqua</a> </div> <div class=\"col-lg-3\"> <h4>Enim</h4><p>Enim aliqua aliqua aliqua aliqua aliqua</p> <a class=\"btn btn-warning\" href=\"#\" role=\"button\">Enim aliqua</a> </div> <div class=\"col-lg-3\"> <h4>Enim</h4><p>Enim aliqua aliqua a\n",
            "    Answer: <html> <body> <main class=\"container\"> <div class=\"header clearfix\"> <nav> <ul class=\"nav nav-pills pull-left\"> <li><a href=\"#\">Cillum deserunt</a></li> <li><a href=\"#\">Culpa fugiat</a></li> <li class=\"active\"><a href=\"#\">Consequat nulla</a></li> <li><a href=\"#\">Quis ullamco</a></li> <li><a href=\"#\">Commodo non</a></li> </ul> </nav> </div> <div class=\"row\"><div class=\"col-lg-6\"> <h4>Sed</h4><p>Labore aliquip commodo anim elit eu lorem qui</p> <a class=\"btn btn-danger\" href=\"#\" role=\"button\">Proident mollit</a> </div> <div class=\"col-lg-6\"> <h4>Laborum</h4><p>Amet excepteur aliquip minim lorem</p> <a class=\"btn btn-warning\" href=\"#\" role=\"button\">Adipiscing sed</a> </div> </div> <div class=\"row\"><div class=\"col-lg-12\"> <h4>Laborum</h4><p>Consequat nulla id laborum sed ipsum magna proident</p> <a class=\"btn btn-warning\" href=\"#\" role=\"button\">Consequat ad</a> </div> </div> <div class=\"row\"><div class=\"col-lg-3\"> <h4>Ea</h4><p>Ex officia adipiscing est</p> <a class=\"btn btn-success\" href=\"#\" role=\"button\">Sunt occaecat</a> </div> <div class=\"col-lg-3\"> <h4>Do</h4><p>Amet laborum culpa ad aliquip deserunt id sed</p> <a class=\"btn btn-warning\" href=\"#\" role=\"button\">Sed aliqua</a> </div> <div class=\"col-lg-3\"> <h4>Excepteur</h4><p>Sint magna</p> <a class=\"btn btn-success\" href=\"#\" role=\"button\">Do lorem</a> </div> <div class=\"col-lg-3\"> <h4>Aute</h4><p>Non ad consequat reprehenderit ut nulla</p> <a class=\"btn btn-danger\" href=\"#\" role=\"button\">Eu et</a> </div> </div> </main> </body> </html> \n",
            "      Bleu: 0.45\n",
            "\n",
            "Prediction: <html> <body> <main class=\"container\"> <div class=\"header clearfix\"> <nav> <ul class=\"nav nav-pills pull-left\"> <li><a href=\"#\">Enim qui</a></li> <li><a href=\"#\">Enim qui</a></li> <li><a href=\"#\">Enim qui</a></li> </ul> </nav> </div> <div class=\"row\"><div class=\"col-lg-3\"> <h4>Enim</h4><p>Enim qui aute qui aute qui aliqua aliqua aliqua</p> <a class=\"btn btn-success\" href=\"#\" role=\"button\">Enim qui</a> </div> <div class=\"col-lg-3\"> <h4>Enim</h4><p>Enim qui aliqua aliqua aliqua aliqua aliqua</p> <a class=\"btn btn-success\" href=\"#\" role=\"button\">Enim qui</a> </div> <div class=\"col-lg-3\"> <h4>Enim</h4><p>Enim qui aliqua aliqua aliqua aliqua aliqua</p> <a class=\"btn btn-success\" href=\"#\" role=\"button\">Enim qui</a> </div> <div class=\"col-lg-3\"> <h4>Enim</h4><p>Enim aliqua aliqua aliqua aliqua aliqua</p> <a class=\"btn btn-success\" href=\"#\" role=\"button\">Enim qui</a> </div> <div class=\"col-lg-3\"> <h4>Enim</h4><p>Enim aliqua aliqua aliqua aliqua aliqua</p> <a class=\"btn btn-success\" href=\"#\" role=\"button\">Enim qui</a> </div> <div class=\"col-lg-3\"> <h4>Enim</h4><p>Enim aliqua aliqua aliqua aliqua aliqua</p> <a class=\"btn btn-success\" href=\"#\" role=\"button\">Enim qui</a> </div> <div class=\"col-lg-3\"> <h4>Enim</h4><p>Enim aliqua aliqua aliqua aliqua aliqua</p> <a class=\"btn btn-success\" href=\"#\" role=\"button\">Enim aliqua</a> </div> <div class=\"col-lg-3\"> <h4>Enim</h4><p>Enim aliqua aliqua aliqua aliqua aliqua</p> <a class=\"btn btn-success\" href=\"#\" role=\"button\">Enim aliqua</a> </div> <div class=\"col-lg-3\"> <h4>Enim</h4><p>Enim aliqua aliqua aliqua aliqua aliqua</p> <a class=\"btn btn-success\" href=\"#\" role=\"button\">Enim aliqua</a> </div> <div class=\"col-lg-3\"> <h4>Enim</h4><p>Enim aliqua aliqua aliqua aliqua aliqua</p> <a class=\"btn btn-success\" href=\"#\" role=\"button\">Enim aliqua</a> </div> <div class=\"col-lg-3\"> <h4>Enim</h4><p>Enim aliqua aliqua aliqua aliqua aliqua</p> <a class=\"btn btn-success\" href=\"#\" role=\"button\">Enim aliqua</a> </div> <div class=\"col-lg-3\"> <h4>Enim</h4><p>Enim aliqua aliqua aliqua aliqua aliqua</p> <a class=\"btn btn-success\" href=\"#\" role=\"button\">Enim aliqua</a> </div> <div class=\"col-lg-3\"> <h4>Enim</h4><p>Enim aliqua aliqua aliqua aliqua aliqua</p> <a class=\"btn btn-success\" href=\"#\" role=\"button\">Enim aliqua</a> </div> <div class=\"col-lg-3\"> <h4>Enim</h4><p>Enim aliqua aliqua aliqua aliqua aliqua</p> <a class=\"btn btn-success\" href=\"#\" role=\"button\">Enim aliqua</a> </div> <div class=\"col-lg-3\"> <h4>Enim</h4><p>Enim aliqua aliqua a\n",
            "    Answer: <html> <body> <main class=\"container\"> <div class=\"header clearfix\"> <nav> <ul class=\"nav nav-pills pull-left\"> <li class=\"active\"><a href=\"#\">Incididunt ullamco</a></li> <li><a href=\"#\">Quis id</a></li> <li><a href=\"#\">Duis fugiat</a></li> <li><a href=\"#\">Est sunt</a></li> </ul> </nav> </div> <div class=\"row\"><div class=\"col-lg-6\"> <h4>Anim</h4><p>Anim magna nulla amet</p> <a class=\"btn btn-danger\" href=\"#\" role=\"button\">Deserunt ipsum</a> </div> <div class=\"col-lg-6\"> <h4>Do</h4><p>Id mollit nisi ullamco minim anim ex adipiscing</p> <a class=\"btn btn-danger\" href=\"#\" role=\"button\">Aute eiusmod</a> </div> </div> <div class=\"row\"><div class=\"col-lg-3\"> <h4>Tempor</h4><p>Officia eu lorem dolore sunt ut mollit anim</p> <a class=\"btn btn-success\" href=\"#\" role=\"button\">Voluptate ullamco</a> </div> <div class=\"col-lg-3\"> <h4>Cupidatat</h4><p>Nostrud occaecat est magna dolor cillum pariatur veniam</p> <a class=\"btn btn-warning\" href=\"#\" role=\"button\">Cillum nisi</a> </div> <div class=\"col-lg-3\"> <h4>Elit</h4><p>Id laborum adipiscing elit sint deserunt consequat nostrud</p> <a class=\"btn btn-success\" href=\"#\" role=\"button\">Veniam adipiscing</a> </div> <div class=\"col-lg-3\"> <h4>Ut</h4><p>Cupidatat aliqua quis eiusmod nulla exercitation reprehenderit do</p> <a class=\"btn btn-success\" href=\"#\" role=\"button\">Consequat tempor</a> </div> </div> <div class=\"row\"><div class=\"col-lg-12\"> <h4>Exercitation</h4><p>Labore dolore ipsum mollit nisi sint sit adipiscing</p> <a class=\"btn btn-success\" href=\"#\" role=\"button\">Dolor nulla</a> </div> </div> </main> </body> </html> \n",
            "      Bleu: 0.42\n",
            " Avg Bleu Score: 0.43\n"
          ]
        },
        {
          "output_type": "stream",
          "name": "stderr",
          "text": [
            "Epoch 1/9 - train loop: 100%|██████████| 388/388 [04:58<00:00,  1.30it/s, loss=0.782]\n"
          ]
        },
        {
          "output_type": "stream",
          "name": "stdout",
          "text": [
            "Moving Avg Loss: 0.723\n"
          ]
        },
        {
          "output_type": "stream",
          "name": "stderr",
          "text": [
            "Epoch 2/9 - train loop: 100%|██████████| 388/388 [04:58<00:00,  1.30it/s, loss=0.652]\n"
          ]
        },
        {
          "output_type": "stream",
          "name": "stdout",
          "text": [
            "Moving Avg Loss: 0.650\n"
          ]
        },
        {
          "output_type": "stream",
          "name": "stderr",
          "text": [
            "Epoch 3/9 - train loop: 100%|██████████| 388/388 [04:58<00:00,  1.30it/s, loss=0.59]\n"
          ]
        },
        {
          "output_type": "stream",
          "name": "stdout",
          "text": [
            "Moving Avg Loss: 0.619\n"
          ]
        },
        {
          "output_type": "stream",
          "name": "stderr",
          "text": [
            "Epoch 4/9 - train loop: 100%|██████████| 388/388 [04:58<00:00,  1.30it/s, loss=0.508]\n"
          ]
        },
        {
          "output_type": "stream",
          "name": "stdout",
          "text": [
            "Moving Avg Loss: 0.580\n"
          ]
        },
        {
          "output_type": "stream",
          "name": "stderr",
          "text": [
            "Epoch 4/9 - valid loop:  50%|█████     | 1/2 [01:05<01:05, 65.95s/it, bleu_score=0.701]"
          ]
        },
        {
          "output_type": "stream",
          "name": "stdout",
          "text": [
            "\n",
            "Prediction: <html> <body> <main class=\"container\"> <div class=\"header clearfix\"> <nav> <ul class=\"nav nav-pills pull-left\"> <li><a href=\"#\">Eiusmod aliqua</a></li> <li class=\"active\"><a href=\"#\">Eiusmod aliqua</a></li> </ul> </nav> </div> <div class=\"row\"><div class=\"col-lg-6\"> <h4>Elit</h4><p>Eiusmod aliqua aliqua commodo aliqua aliqua</p> <a class=\"btn btn-warning\" href=\"#\" role=\"button\">Eiusmod aliqua</a> </div> <div class=\"col-lg-6\"> <h4>Quis</h4><p>Eiusmod aliqua aliqua aliqua commodo aliqua</p> <a class=\"btn btn-warning\" href=\"#\" role=\"button\">Eiusmod aliqua</a> </div> </div> <div class=\"row\"><div class=\"col-lg-12\"> <h4>Incididunt</h4><p>Eiusmod aliqua commodo aliqua aliqua aliqua</p> <a class=\"btn btn-success\" href=\"#\" role=\"button\">Eiusmod aliqua</a> </div> </div> <div class=\"row\"><div class=\"col-lg-12\"> <h4>Exercitation</h4><p>Eiusmod aliqua aliqua commodo aliqua aliqua</p> <a class=\"btn btn-warning\" href=\"#\" role=\"button\">Eiusmod aliqua</a> </div> <div class=\"col-lg-3\"> <h4>Occaecat</h4><p>Eiusmod aliqua aliqua aliqua aliqua aliqua</p> <a class=\"btn btn-danger\" href=\"#\" role=\"button\">Eiusmod aliqua</a> </div> <div class=\"col-lg-3\"> <h4>Voluptate</h4><p>Eiusmod aliqua aliqua aliqua aliqua aliqua</p> <a class=\"btn btn-success\" href=\"#\" role=\"button\">Eiusmod aliqua</a> </div> <div class=\"col-lg-3\"> <h4>Amet</h4><p>Eiusmod aliqua aliqua aliqua aliqua aliqua</p> <a class=\"btn btn-warning\" href=\"#\" role=\"button\">Eiusmod aliqua</a> </div> </div> </main> </body> </html> \n",
            "    Answer: <html> <body> <main class=\"container\"> <div class=\"header clearfix\"> <nav> <ul class=\"nav nav-pills pull-left\"> <li><a href=\"#\">Occaecat cillum</a></li> <li class=\"active\"><a href=\"#\">Aliquip pariatur</a></li> </ul> </nav> </div> <div class=\"row\"><div class=\"col-lg-6\"> <h4>Elit</h4><p>Enim labore esse cillum aliqua nisi velit in</p> <a class=\"btn btn-warning\" href=\"#\" role=\"button\">Amet est</a> </div> <div class=\"col-lg-6\"> <h4>Quis</h4><p>Cillum nostrud pariatur amet irure in minim ut</p> <a class=\"btn btn-warning\" href=\"#\" role=\"button\">Exercitation reprehenderit</a> </div> </div> <div class=\"row\"><div class=\"col-lg-12\"> <h4>Incididunt</h4><p>Commodo voluptate ea dolore minim tempor</p> <a class=\"btn btn-success\" href=\"#\" role=\"button\">Aliquip nisi</a> </div> </div> <div class=\"row\"><div class=\"col-lg-3\"> <h4>Exercitation</h4><p>Ea consectetur dolor labore esse incididunt tempor ullamco</p> <a class=\"btn btn-warning\" href=\"#\" role=\"button\">Incididunt aliquip</a> </div> <div class=\"col-lg-3\"> <h4>Occaecat</h4><p>Quis officia sed eu cupidatat reprehenderit laboris lorem</p> <a class=\"btn btn-success\" href=\"#\" role=\"button\">Non aliquip</a> </div> <div class=\"col-lg-3\"> <h4>Voluptate</h4><p>Laborum nisi eu enim proident</p> <a class=\"btn btn-danger\" href=\"#\" role=\"button\">Duis id</a> </div> <div class=\"col-lg-3\"> <h4>Amet</h4><p>Consectetur anim adipiscing enim et do quis velit</p> <a class=\"btn btn-warning\" href=\"#\" role=\"button\">Aute anim</a> </div> </div> </main> </body> </html> \n",
            "      Bleu: 0.74\n",
            "\n",
            "Prediction: <html> <body> <main class=\"container\"> <div class=\"header clearfix\"> <nav> <ul class=\"nav nav-pills pull-left\"> <li><a href=\"#\">Esse aliqua</a></li> <li><a href=\"#\">Eiusmod aliqua</a></li> <li><a href=\"#\">Eiusmod aliqua</a></li> <li class=\"active\"><a href=\"#\">Eiusmod aliqua</a></li> </ul> </nav> </div> <div class=\"row\"><div class=\"col-lg-12\"> <h4>Ex</h4><p>Eiusmod aliqua aliqua commodo aliqua aliqua</p> <a class=\"btn btn-warning\" href=\"#\" role=\"button\">Eiusmod aliqua</a> </div> </div> <div class=\"row\"><div class=\"col-lg-3\"> <h4>Cillum</h4><p>Eiusmod aliqua commodo aliqua aliqua commodo aliqua</p> <a class=\"btn btn-success\" href=\"#\" role=\"button\">Eiusmod aliqua</a> </div> <div class=\"col-lg-3\"> <h4>Excepteur</h4><p>Eiusmod aliqua commodo aliqua aliqua commodo aliqua</p> <a class=\"btn btn-success\" href=\"#\" role=\"button\">Eiusmod aliqua</a> </div> <div class=\"col-lg-3\"> <h4>In</h4><p>Eiusmod aliqua cillum aliqua aliqua aliqua</p> <a class=\"btn btn-danger\" href=\"#\" role=\"button\">Eiusmod aliqua</a> </div> </div> <div class=\"row\"><div class=\"col-lg-6\"> <h4>Magna</h4><p>Eiusmod aliqua aliqua commodo aliqua aliqua</p> <a class=\"btn btn-warning\" href=\"#\" role=\"button\">Eiusmod aliqua</a> </div> <div class=\"col-lg-6\"> <h4>Aliqua</h4><p>Eiusmod aliqua aliqua commodo aliqua aliqua</p> <a class=\"btn btn-danger\" href=\"#\" role=\"button\">Eiusmod aliqua</a> </div> </div> </main> </body> </html> \n",
            "    Answer: <html> <body> <main class=\"container\"> <div class=\"header clearfix\"> <nav> <ul class=\"nav nav-pills pull-left\"> <li><a href=\"#\">Sunt mollit</a></li> <li><a href=\"#\">Ipsum enim</a></li> <li><a href=\"#\">Reprehenderit duis</a></li> <li><a href=\"#\">Sit labore</a></li> <li class=\"active\"><a href=\"#\">Eiusmod amet</a></li> </ul> </nav> </div> <div class=\"row\"><div class=\"col-lg-12\"> <h4>Ex</h4><p>Ad in laboris nisi et culpa dolore proident</p> <a class=\"btn btn-warning\" href=\"#\" role=\"button\">Dolor incididunt</a> </div> </div> <div class=\"row\"><div class=\"col-lg-3\"> <h4>Cillum</h4><p>Officia elit eu et irure ut nostrud in</p> <a class=\"btn btn-success\" href=\"#\" role=\"button\">Nulla in</a> </div> <div class=\"col-lg-3\"> <h4>Excepteur</h4><p>Et exercitation velit ex ea non</p> <a class=\"btn btn-success\" href=\"#\" role=\"button\">Irure laborum</a> </div> <div class=\"col-lg-3\"> <h4>In</h4><p>Sit excepteur deserunt labore sint quis enim proident</p> <a class=\"btn btn-warning\" href=\"#\" role=\"button\">Proident do</a> </div> <div class=\"col-lg-3\"> <h4>Anim</h4><p>Minim proident laborum sit nisi ex labore incididunt</p> <a class=\"btn btn-danger\" href=\"#\" role=\"button\">Labore sed</a> </div> </div> <div class=\"row\"><div class=\"col-lg-6\"> <h4>Magna</h4><p>Aliqua officia nostrud cillum voluptate aliquip</p> <a class=\"btn btn-warning\" href=\"#\" role=\"button\">Ut laboris</a> </div> <div class=\"col-lg-6\"> <h4>Aliqua</h4><p>Excepteur adipiscing est sunt exercitation ut minim magna</p> <a class=\"btn btn-danger\" href=\"#\" role=\"button\">Laboris reprehenderit</a> </div> </div> </main> </body> </html> \n",
            "      Bleu: 0.66\n",
            "\n",
            "Prediction: <html> <body> <main class=\"container\"> <div class=\"header clearfix\"> <nav> <ul class=\"nav nav-pills pull-left\"> <li><a href=\"#\">Eiusmod aliqua</a></li> <li><a href=\"#\">Eiusmod aliqua</a></li> <li><a href=\"#\">Eiusmod aliqua</a></li> <li class=\"active\"><a href=\"#\">Eiusmod aliqua</a></li> </ul> </nav> </div> <div class=\"row\"><div class=\"col-lg-6\"> <h4>Eu</h4><p>Eiusmod aliqua aliqua commodo aliqua aliqua</p> <a class=\"btn btn-danger\" href=\"#\" role=\"button\">Eiusmod aliqua</a> </div> <div class=\"col-lg-6\"> <h4>Elit</h4><p>Eiusmod aliqua aliqua commodo aliqua aliqua</p> <a class=\"btn btn-warning\" href=\"#\" role=\"button\">Eiusmod aliqua</a> </div> </div> <div class=\"row\"><div class=\"col-lg-3\"> <h4>Sit</h4><p>Eiusmod aliqua commodo aliqua aliqua commodo aliqua</p> <a class=\"btn btn-danger\" href=\"#\" role=\"button\">Eiusmod aliqua</a> </div> <div class=\"col-lg-3\"> <h4>Elit</h4><p>Eiusmod aliqua commodo aliqua aliqua aliqua</p> <a class=\"btn btn-warning\" href=\"#\" role=\"button\">Eiusmod aliqua</a> </div> <div class=\"col-lg-3\"> <h4>Magna</h4><p>Eiusmod aliqua commodo aliqua aliqua aliqua</p> <a class=\"btn btn-success\" href=\"#\" role=\"button\">Eiusmod aliqua</a> </div> </div> <div class=\"row\"><div class=\"col-lg-12\"> <h4>Do</h4><p>Eiusmod aliqua aliqua commodo aliqua aliqua</p> <a class=\"btn btn-success\" href=\"#\" role=\"button\">Eiusmod aliqua</a> </div> </div> </main> </body> </html> \n",
            "    Answer: <html> <body> <main class=\"container\"> <div class=\"header clearfix\"> <nav> <ul class=\"nav nav-pills pull-left\"> <li><a href=\"#\">Occaecat proident</a></li> <li><a href=\"#\">Mollit tempor</a></li> <li><a href=\"#\">Sit excepteur</a></li> <li><a href=\"#\">Consequat sed</a></li> <li class=\"active\"><a href=\"#\">Ut est</a></li> </ul> </nav> </div> <div class=\"row\"><div class=\"col-lg-6\"> <h4>Eu</h4><p>Exercitation dolor incididunt sed deserunt excepteur laborum ut</p> <a class=\"btn btn-danger\" href=\"#\" role=\"button\">Deserunt pariatur</a> </div> <div class=\"col-lg-6\"> <h4>Elit</h4><p>Reprehenderit fugiat ut veniam cupidatat ex elit aliqua</p> <a class=\"btn btn-warning\" href=\"#\" role=\"button\">Irure eu</a> </div> </div> <div class=\"row\"><div class=\"col-lg-3\"> <h4>Sit</h4><p>Aliqua laborum id minim veniam enim reprehenderit fugiat</p> <a class=\"btn btn-danger\" href=\"#\" role=\"button\">Exercitation consectetur</a> </div> <div class=\"col-lg-3\"> <h4>Elit</h4><p>Reprehenderit ex fugiat nostrud voluptate eiusmod adipiscing velit</p> <a class=\"btn btn-warning\" href=\"#\" role=\"button\">Elit occaecat</a> </div> <div class=\"col-lg-3\"> <h4>Magna</h4><p>Aute velit laboris esse elit</p> <a class=\"btn btn-success\" href=\"#\" role=\"button\">Anim elit</a> </div> <div class=\"col-lg-3\"> <h4>Commodo</h4><p>Velit eu sint dolore cupidatat tempor ex dolor</p> <a class=\"btn btn-success\" href=\"#\" role=\"button\">Mollit qui</a> </div> </div> <div class=\"row\"><div class=\"col-lg-12\"> <h4>Do</h4><p>Cupidatat duis id mollit veniam ea quis excepteur</p> <a class=\"btn btn-success\" href=\"#\" role=\"button\">Ad ut</a> </div> </div> </main> </body> </html> \n",
            "      Bleu: 0.64\n",
            "\n",
            "Prediction: <html> <body> <main class=\"container\"> <div class=\"header clearfix\"> <nav> <ul class=\"nav nav-pills pull-left\"> <li><a href=\"#\">Eiusmod aliqua</a></li> <li class=\"active\"><a href=\"#\">Eiusmod aliqua</a></li> </ul> </nav> </div> <div class=\"row\"><div class=\"col-lg-6\"> <h4>In</h4><p>Esse aliqua commodo aliqua aliquip commodo aliqua</p> <a class=\"btn btn-danger\" href=\"#\" role=\"button\">Eiusmod aliqua</a> </div> <div class=\"col-lg-6\"> <h4>Officia</h4><p>Eiusmod aliqua commodo aliqua aliqua commodo aliqua</p> <a class=\"btn btn-success\" href=\"#\" role=\"button\">Eiusmod aliqua</a> </div> </div> <div class=\"row\"><div class=\"col-lg-12\"> <h4>Sint</h4><p>Eiusmod aliqua commodo aliqua aliqua commodo aliqua</p> <a class=\"btn btn-danger\" href=\"#\" role=\"button\">Eiusmod aliqua</a> </div> </div> <div class=\"row\"><div class=\"col-lg-6\"> <h4>Excepteur</h4><p>Eiusmod aliqua commodo aliqua aliqua aliqua</p> <a class=\"btn btn-danger\" href=\"#\" role=\"button\">Eiusmod aliqua</a> </div> <div class=\"col-lg-6\"> <h4>In</h4><p>Eiusmod aliqua commodo aliqua aliqua aliqua</p> <a class=\"btn btn-warning\" href=\"#\" role=\"button\">Eiusmod aliqua</a> </div> <div class=\"col-lg-6\"> <h4>Eu</h4><p>Eiusmod aliqua commodo aliqua aliqua aliqua</p> <a class=\"btn btn-warning\" href=\"#\" role=\"button\">Eiusmod aliqua</a> </div> </div> </main> </body> </html> \n",
            "    Answer: <html> <body> <main class=\"container\"> <div class=\"header clearfix\"> <nav> <ul class=\"nav nav-pills pull-left\"> <li><a href=\"#\">Culpa id</a></li> <li class=\"active\"><a href=\"#\">Aliquip velit</a></li> </ul> </nav> </div> <div class=\"row\"><div class=\"col-lg-6\"> <h4>In</h4><p>Est ut irure ea labore sit dolor adipiscing</p> <a class=\"btn btn-danger\" href=\"#\" role=\"button\">Consequat excepteur</a> </div> <div class=\"col-lg-6\"> <h4>Officia</h4><p>Officia ut proident pariatur nulla anim</p> <a class=\"btn btn-success\" href=\"#\" role=\"button\">Enim id</a> </div> </div> <div class=\"row\"><div class=\"col-lg-12\"> <h4>Sint</h4><p>Eiusmod aute aliqua tempor cillum lorem fugiat minim</p> <a class=\"btn btn-danger\" href=\"#\" role=\"button\">Ut labore</a> </div> </div> <div class=\"row\"><div class=\"col-lg-3\"> <h4>Excepteur</h4><p>Commodo cillum eiusmod et anim est mollit aliqua</p> <a class=\"btn btn-danger\" href=\"#\" role=\"button\">Velit tempor</a> </div> <div class=\"col-lg-3\"> <h4>In</h4><p>Elit pariatur dolor consequat officia</p> <a class=\"btn btn-warning\" href=\"#\" role=\"button\">Proident deserunt</a> </div> <div class=\"col-lg-3\"> <h4>Eu</h4><p>Laborum duis labore consequat sint excepteur aute enim</p> <a class=\"btn btn-warning\" href=\"#\" role=\"button\">Qui proident</a> </div> <div class=\"col-lg-3\"> <h4>Id</h4><p>Sunt ipsum esse quis elit officia deserunt anim</p> <a class=\"btn btn-warning\" href=\"#\" role=\"button\">Proident minim</a> </div> </div> </main> </body> </html> \n",
            "      Bleu: 0.69\n",
            "\n",
            "Prediction: <html> <body> <main class=\"container\"> <div class=\"header clearfix\"> <nav> <ul class=\"nav nav-pills pull-left\"> <li><a href=\"#\">Eiusmod aliqua</a></li> <li><a href=\"#\">Eiusmod aliqua</a></li> <li class=\"active\"><a href=\"#\">Eiusmod aliqua</a></li> </ul> </nav> </div> <div class=\"row\"><div class=\"col-lg-6\"> <h4>Minim</h4><p>Eiusmod aliqua aliqua commodo aliqua aliqua</p> <a class=\"btn btn-success\" href=\"#\" role=\"button\">Eiusmod aliqua</a> </div> <div class=\"col-lg-6\"> <h4>Do</h4><p>Eiusmod aliqua commodo aliqua aliqua commodo aliqua</p> <a class=\"btn btn-danger\" href=\"#\" role=\"button\">Eiusmod aliqua</a> </div> </div> <div class=\"row\"><div class=\"col-lg-12\"> <h4>Veniam</h4><p>Eiusmod aliqua commodo aliqua aliqua commodo aliqua</p> <a class=\"btn btn-danger\" href=\"#\" role=\"button\">Eiusmod aliqua</a> </div> </div> <div class=\"row\"><div class=\"col-lg-3\"> <h4>Et</h4><p>Eiusmod aliqua commodo aliqua aliqua commodo aliqua</p> <a class=\"btn btn-success\" href=\"#\" role=\"button\">Eiusmod aliqua</a> </div> <div class=\"col-lg-3\"> <h4>Ex</h4><p>Eiusmod aliqua commodo aliqua aliqua aliqua</p> <a class=\"btn btn-danger\" href=\"#\" role=\"button\">Eiusmod aliqua</a> </div> <div class=\"col-lg-3\"> <h4>Culpa</h4><p>Eiusmod aliqua commodo aliqua aliqua aliqua</p> <a class=\"btn btn-success\" href=\"#\" role=\"button\">Eiusmod aliqua</a> </div> <div class=\"col-lg-3\"> <h4>Id</h4><p>Eiusmod aliqua commodo aliqua aliqua aliqua</p> <a class=\"btn btn-success\" href=\"#\" role=\"button\">Eiusmod aliqua</a> </div> </div> </main> </body> </html> \n",
            "    Answer: <html> <body> <main class=\"container\"> <div class=\"header clearfix\"> <nav> <ul class=\"nav nav-pills pull-left\"> <li class=\"active\"><a href=\"#\">Fugiat do</a></li> <li><a href=\"#\">Cupidatat voluptate</a></li> <li><a href=\"#\">Aliqua commodo</a></li> </ul> </nav> </div> <div class=\"row\"><div class=\"col-lg-6\"> <h4>Minim</h4><p>Ex minim in quis nisi aliquip lorem adipiscing</p> <a class=\"btn btn-success\" href=\"#\" role=\"button\">Excepteur duis</a> </div> <div class=\"col-lg-6\"> <h4>Do</h4><p>Cupidatat amet dolor ex nulla duis aliquip occaecat</p> <a class=\"btn btn-danger\" href=\"#\" role=\"button\">Ea velit</a> </div> </div> <div class=\"row\"><div class=\"col-lg-12\"> <h4>Veniam</h4><p>Magna anim eiusmod elit nisi id ex et</p> <a class=\"btn btn-danger\" href=\"#\" role=\"button\">Do tempor</a> </div> </div> <div class=\"row\"><div class=\"col-lg-3\"> <h4>Et</h4><p>Dolor sint fugiat excepteur cupidatat in mollit aliquip</p> <a class=\"btn btn-success\" href=\"#\" role=\"button\">Reprehenderit culpa</a> </div> <div class=\"col-lg-3\"> <h4>Ex</h4><p>Consectetur sit ut reprehenderit laboris</p> <a class=\"btn btn-danger\" href=\"#\" role=\"button\">Sit ad</a> </div> <div class=\"col-lg-3\"> <h4>Culpa</h4><p>Voluptate nostrud eu dolore occaecat tempor</p> <a class=\"btn btn-success\" href=\"#\" role=\"button\">Do magna</a> </div> <div class=\"col-lg-3\"> <h4>Id</h4><p>Ut lorem eu velit aliqua excepteur</p> <a class=\"btn btn-success\" href=\"#\" role=\"button\">Nulla aliqua</a> </div> </div> </main> </body> </html> \n",
            "      Bleu: 0.74\n",
            "\n",
            "Prediction: <html> <body> <main class=\"container\"> <div class=\"header clearfix\"> <nav> <ul class=\"nav nav-pills pull-left\"> <li><a href=\"#\">Esse aliqua</a></li> <li><a href=\"#\">Esse adipiscing</a></li> <li><a href=\"#\">Esse adipiscing</a></li> <li class=\"active\"><a href=\"#\">Esse adipiscing</a></li> </ul> </nav> </div> <div class=\"row\"><div class=\"col-lg-12\"> <h4>Voluptate</h4><p>Esse aliqua commodo aliqua commodo aliqua</p> <a class=\"btn btn-danger\" href=\"#\" role=\"button\">Eiusmod aliqua</a> </div> </div> <div class=\"row\"><div class=\"col-lg-3\"> <h4>Amet</h4><p>Esse aliqua commodo aliqua aliquip commodo aliqua</p> <a class=\"btn btn-danger\" href=\"#\" role=\"button\">Eiusmod aliqua</a> </div> <div class=\"col-lg-3\"> <h4>Labore</h4><p>Esse aliqua commodo aliqua aliquip commodo aliqua</p> <a class=\"btn btn-warning\" href=\"#\" role=\"button\">Eiusmod aliqua</a> </div> <div class=\"col-lg-3\"> <h4>Ut</h4><p>Eiusmod aliqua commodo aliqua aliqua commodo aliqua</p> <a class=\"btn btn-warning\" href=\"#\" role=\"button\">Eiusmod aliqua</a> </div> <div class=\"col-lg-3\"> <h4>Nostrud</h4><p>Eiusmod aliqua commodo aliqua aliqua aliqua</p> <a class=\"btn btn-warning\" href=\"#\" role=\"button\">Eiusmod aliqua</a> </div> </div> <div class=\"row\"><div class=\"col-lg-6\"> <h4>Est</h4><p>Esse aliqua commodo aliqua aliqua aliqua</p> <a class=\"btn btn-warning\" href=\"#\" role=\"button\">Esse aliqua</a> </div> <div class=\"col-lg-6\"> <h4>Proident</h4><p>Eiusmod aliqua commodo aliqua aliqua aliqua</p> <a class=\"btn btn-warning\" href=\"#\" role=\"button\">Eiusmod aliqua</a> </div> </div> </main> </body> </html> \n",
            "    Answer: <html> <body> <main class=\"container\"> <div class=\"header clearfix\"> <nav> <ul class=\"nav nav-pills pull-left\"> <li><a href=\"#\">Ad voluptate</a></li> <li class=\"active\"><a href=\"#\">Commodo adipiscing</a></li> <li><a href=\"#\">Dolore duis</a></li> <li><a href=\"#\">Ea laborum</a></li> <li><a href=\"#\">Et incididunt</a></li> </ul> </nav> </div> <div class=\"row\"><div class=\"col-lg-12\"> <h4>Voluptate</h4><p>Occaecat id commodo ea laborum aliquip sint esse</p> <a class=\"btn btn-danger\" href=\"#\" role=\"button\">Consectetur quis</a> </div> </div> <div class=\"row\"><div class=\"col-lg-3\"> <h4>Amet</h4><p>Lorem duis do fugiat ullamco deserunt qui nisi</p> <a class=\"btn btn-danger\" href=\"#\" role=\"button\">Mollit est</a> </div> <div class=\"col-lg-3\"> <h4>Labore</h4><p>Consectetur proident adipiscing pariatur tempor sunt occaecat excepteur</p> <a class=\"btn btn-success\" href=\"#\" role=\"button\">Exercitation fugiat</a> </div> <div class=\"col-lg-3\"> <h4>Ut</h4><p>Voluptate qui officia quis anim aliqua sunt consequat</p> <a class=\"btn btn-warning\" href=\"#\" role=\"button\">In aute</a> </div> <div class=\"col-lg-3\"> <h4>Nostrud</h4><p>Aute in aliquip ullamco</p> <a class=\"btn btn-warning\" href=\"#\" role=\"button\">Ex eu</a> </div> </div> <div class=\"row\"><div class=\"col-lg-6\"> <h4>Est</h4><p>Dolore ex cupidatat consequat anim qui aute do</p> <a class=\"btn btn-warning\" href=\"#\" role=\"button\">Aliqua id</a> </div> <div class=\"col-lg-6\"> <h4>Proident</h4><p>Eu dolore eiusmod fugiat mollit aliqua reprehenderit consequat</p> <a class=\"btn btn-warning\" href=\"#\" role=\"button\">Dolor eiusmod</a> </div> </div> </main> </body> </html> \n",
            "      Bleu: 0.75\n",
            "\n",
            "Prediction: <html> <body> <main class=\"container\"> <div class=\"header clearfix\"> <nav> <ul class=\"nav nav-pills pull-left\"> <li><a href=\"#\">Esse aliqua</a></li> <li><a href=\"#\">Esse aliqua</a></li> <li class=\"active\"><a href=\"#\">Esse aliqua</a></li> </ul> </nav> </div> <div class=\"row\"><div class=\"col-lg-3\"> <h4>Laborum</h4><p>Esse aliqua commodo aliqua commodo aliqua</p> <a class=\"btn btn-danger\" href=\"#\" role=\"button\">Eiusmod aliqua</a> </div> <div class=\"col-lg-3\"> <h4>Ex</h4><p>Esse aliqua commodo aliqua commodo aliqua</p> <a class=\"btn btn-success\" href=\"#\" role=\"button\">Eiusmod aliqua</a> </div> <div class=\"col-lg-3\"> <h4>Labore</h4><p>Esse aliqua commodo aliqua commodo aliqua</p> <a class=\"btn btn-danger\" href=\"#\" role=\"button\">Eiusmod aliqua</a> </div> <div class=\"col-lg-3\"> <h4>Labore</h4><p>Esse aliqua commodo aliqua commodo aliqua</p> <a class=\"btn btn-warning\" href=\"#\" role=\"button\">Eiusmod aliqua</a> </div> </div> <div class=\"row\"><div class=\"col-lg-6\"> <h4>Duis</h4><p>Esse aliqua commodo aliqua aliqua commodo aliqua</p> <a class=\"btn btn-warning\" href=\"#\" role=\"button\">Eiusmod aliqua</a> </div> <div class=\"col-lg-6\"> <h4>Deserunt</h4><p>Eiusmod aliqua commodo aliqua aliqua commodo aliqua</p> <a class=\"btn btn-success\" href=\"#\" role=\"button\">Eiusmod aliqua</a> </div> </div> <div class=\"row\"><div class=\"col-lg-12\"> <h4>Labore</h4><p>Eiusmod aliqua commodo aliqua aliqua commodo aliqua</p> <a class=\"btn btn-success\" href=\"#\" role=\"button\">Eiusmod aliqua</a> </div> </div> </main> </body> </html> \n",
            "    Answer: <html> <body> <main class=\"container\"> <div class=\"header clearfix\"> <nav> <ul class=\"nav nav-pills pull-left\"> <li><a href=\"#\">In aliqua</a></li> <li><a href=\"#\">Reprehenderit proident</a></li> <li><a href=\"#\">Laboris irure</a></li> <li class=\"active\"><a href=\"#\">Minim cillum</a></li> </ul> </nav> </div> <div class=\"row\"><div class=\"col-lg-3\"> <h4>Laborum</h4><p>Irure eiusmod exercitation voluptate amet minim nulla labore</p> <a class=\"btn btn-danger\" href=\"#\" role=\"button\">Dolore qui</a> </div> <div class=\"col-lg-3\"> <h4>Ex</h4><p>Commodo officia nostrud in quis anim occaecat</p> <a class=\"btn btn-success\" href=\"#\" role=\"button\">Nisi ut</a> </div> <div class=\"col-lg-3\"> <h4>Labore</h4><p>Commodo dolore tempor minim magna fugiat deserunt ipsum</p> <a class=\"btn btn-danger\" href=\"#\" role=\"button\">Ullamco enim</a> </div> <div class=\"col-lg-3\"> <h4>Do</h4><p>Qui nostrud incididunt sint esse amet consectetur</p> <a class=\"btn btn-warning\" href=\"#\" role=\"button\">Adipiscing eu</a> </div> </div> <div class=\"row\"><div class=\"col-lg-6\"> <h4>Duis</h4><p>Enim cillum lorem cupidatat laborum et sunt nisi</p> <a class=\"btn btn-warning\" href=\"#\" role=\"button\">Ipsum do</a> </div> <div class=\"col-lg-6\"> <h4>Deserunt</h4><p>Tempor occaecat officia aliquip eu adipiscing culpa ut</p> <a class=\"btn btn-success\" href=\"#\" role=\"button\">Magna cupidatat</a> </div> </div> <div class=\"row\"><div class=\"col-lg-12\"> <h4>Labore</h4><p>Excepteur ullamco ea consectetur sed duis qui et</p> <a class=\"btn btn-success\" href=\"#\" role=\"button\">In labore</a> </div> </div> </main> </body> </html> \n",
            "      Bleu: 0.73\n",
            "\n",
            "Prediction: <html> <body> <main class=\"container\"> <div class=\"header clearfix\"> <nav> <ul class=\"nav nav-pills pull-left\"> <li><a href=\"#\">Esse aliquip</a></li> <li><a href=\"#\">Esse adipiscing</a></li> <li><a href=\"#\">Esse adipiscing</a></li> <li class=\"active\"><a href=\"#\">Esse adipiscing</a></li> </ul> </nav> </div> <div class=\"row\"><div class=\"col-lg-6\"> <h4>Lorem</h4><p>Esse aliquip commodo aliqua aliquip commodo aliqua</p> <a class=\"btn btn-success\" href=\"#\" role=\"button\">Eiusmod aliqua</a> </div> <div class=\"col-lg-6\"> <h4>Ad</h4><p>Esse aliquip commodo aliqua aliquip commodo aliqua</p> <a class=\"btn btn-success\" href=\"#\" role=\"button\">Esse aliqua</a> </div> </div> <div class=\"row\"><div class=\"col-lg-3\"> <h4>Ex</h4><p>Esse aliquip commodo aliqua aliquip commodo aliqua</p> <a class=\"btn btn-danger\" href=\"#\" role=\"button\">Eiusmod aliqua</a> </div> <div class=\"col-lg-3\"> <h4>Proident</h4><p>Esse aliqua commodo aliqua aliquip commodo aliqua</p> <a class=\"btn btn-danger\" href=\"#\" role=\"button\">Eiusmod aliqua</a> </div> <div class=\"col-lg-3\"> <h4>Laborum</h4><p>Esse aliqua commodo aliqua aliqua aliqua aliqua</p> <a class=\"btn btn-warning\" href=\"#\" role=\"button\">Eiusmod aliqua</a> </div> </div> <div class=\"row\"><div class=\"col-lg-12\"> <h4>Qui</h4><p>Esse aliquip aliqua commodo aliqua aliqua</p> <a class=\"btn btn-warning\" href=\"#\" role=\"button\">Eiusmod aliqua</a> </div> </div> </main> </body> </html> \n",
            "    Answer: <html> <body> <main class=\"container\"> <div class=\"header clearfix\"> <nav> <ul class=\"nav nav-pills pull-left\"> <li><a href=\"#\">Aute irure</a></li> <li><a href=\"#\">Do sint</a></li> <li><a href=\"#\">Amet non</a></li> <li><a href=\"#\">Magna labore</a></li> <li class=\"active\"><a href=\"#\">Voluptate do</a></li> </ul> </nav> </div> <div class=\"row\"><div class=\"col-lg-6\"> <h4>Lorem</h4><p>Aliquip ipsum ea culpa ut esse fugiat est</p> <a class=\"btn btn-success\" href=\"#\" role=\"button\">Fugiat qui</a> </div> <div class=\"col-lg-6\"> <h4>Ad</h4><p>Adipiscing consequat pariatur reprehenderit fugiat ad cillum</p> <a class=\"btn btn-success\" href=\"#\" role=\"button\">Nulla qui</a> </div> </div> <div class=\"row\"><div class=\"col-lg-3\"> <h4>Ex</h4><p>Minim laboris exercitation consectetur dolore fugiat ea</p> <a class=\"btn btn-danger\" href=\"#\" role=\"button\">Occaecat magna</a> </div> <div class=\"col-lg-3\"> <h4>Proident</h4><p>Dolor id aliquip esse exercitation et ullamco sunt</p> <a class=\"btn btn-danger\" href=\"#\" role=\"button\">Ut nulla</a> </div> <div class=\"col-lg-3\"> <h4>Laborum</h4><p>Nisi amet dolore esse et commodo voluptate nulla</p> <a class=\"btn btn-warning\" href=\"#\" role=\"button\">Ullamco culpa</a> </div> <div class=\"col-lg-3\"> <h4>Commodo</h4><p>Qui quis labore proident irure eu lorem ad</p> <a class=\"btn btn-danger\" href=\"#\" role=\"button\">Dolore sit</a> </div> </div> <div class=\"row\"><div class=\"col-lg-12\"> <h4>Qui</h4><p>Culpa voluptate velit in cupidatat consectetur veniam ea</p> <a class=\"btn btn-warning\" href=\"#\" role=\"button\">Aute eu</a> </div> </div> </main> </body> </html> \n",
            "      Bleu: 0.68\n",
            "\n",
            "Prediction: <html> <body> <main class=\"container\"> <div class=\"header clearfix\"> <nav> <ul class=\"nav nav-pills pull-left\"> <li><a href=\"#\">Esse aliquip</a></li> <li><a href=\"#\">Eiusmod aliqua</a></li> <li class=\"active\"><a href=\"#\">Eiusmod aliqua</a></li> </ul> </nav> </div> <div class=\"row\"><div class=\"col-lg-6\"> <h4>Pariatur</h4><p>Esse aliqua commodo aliqua aliquip commodo aliqua</p> <a class=\"btn btn-danger\" href=\"#\" role=\"button\">Eiusmod aliqua</a> </div> <div class=\"col-lg-6\"> <h4>Labore</h4><p>Eiusmod aliqua aliquip commodo aliqua aliqua</p> <a class=\"btn btn-success\" href=\"#\" role=\"button\">Eiusmod aliqua</a> </div> </div> <div class=\"row\"><div class=\"col-lg-3\"> <h4>Lorem</h4><p>Eiusmod aliqua aliqua commodo aliqua aliqua</p> <a class=\"btn btn-warning\" href=\"#\" role=\"button\">Eiusmod aliqua</a> </div> <div class=\"col-lg-3\"> <h4>Ea</h4><p>Eiusmod aliqua aliqua commodo aliqua aliqua</p> <a class=\"btn btn-danger\" href=\"#\" role=\"button\">Eiusmod aliqua</a> </div> <div class=\"col-lg-3\"> <h4>Nisi</h4><p>Eiusmod aliqua commodo aliqua aliqua aliqua</p> <a class=\"btn btn-danger\" href=\"#\" role=\"button\">Eiusmod aliqua</a> </div> </div> <div class=\"row\"><div class=\"col-lg-12\"> <h4>Anim</h4><p>Eiusmod aliqua aliqua commodo aliqua aliqua</p> <a class=\"btn btn-warning\" href=\"#\" role=\"button\">Eiusmod aliqua</a> </div> </div> </main> </body> </html> \n",
            "    Answer: <html> <body> <main class=\"container\"> <div class=\"header clearfix\"> <nav> <ul class=\"nav nav-pills pull-left\"> <li class=\"active\"><a href=\"#\">Anim do</a></li> <li><a href=\"#\">Laboris labore</a></li> <li><a href=\"#\">Nulla officia</a></li> <li><a href=\"#\">Ipsum sunt</a></li> </ul> </nav> </div> <div class=\"row\"><div class=\"col-lg-6\"> <h4>Pariatur</h4><p>Tempor consequat aute sit minim irure sunt anim</p> <a class=\"btn btn-danger\" href=\"#\" role=\"button\">Esse enim</a> </div> <div class=\"col-lg-6\"> <h4>Labore</h4><p>Dolor laborum sunt anim et ad exercitation</p> <a class=\"btn btn-success\" href=\"#\" role=\"button\">Voluptate pariatur</a> </div> </div> <div class=\"row\"><div class=\"col-lg-3\"> <h4>Lorem</h4><p>Ipsum reprehenderit quis voluptate sed aliquip nulla veniam</p> <a class=\"btn btn-warning\" href=\"#\" role=\"button\">Ea magna</a> </div> <div class=\"col-lg-3\"> <h4>Ea</h4><p>Fugiat nostrud eiusmod sint ex nisi veniam</p> <a class=\"btn btn-warning\" href=\"#\" role=\"button\">Cupidatat pariatur</a> </div> <div class=\"col-lg-3\"> <h4>Nisi</h4><p>Est consequat amet quis aliqua adipiscing dolor veniam</p> <a class=\"btn btn-danger\" href=\"#\" role=\"button\">Exercitation anim</a> </div> <div class=\"col-lg-3\"> <h4>Deserunt</h4><p>Enim aliquip ut aliqua eu velit</p> <a class=\"btn btn-danger\" href=\"#\" role=\"button\">Consectetur reprehenderit</a> </div> </div> <div class=\"row\"><div class=\"col-lg-12\"> <h4>Anim</h4><p>Ad est tempor nisi aliqua qui dolore ullamco</p> <a class=\"btn btn-warning\" href=\"#\" role=\"button\">Qui enim</a> </div> </div> </main> </body> </html> \n",
            "      Bleu: 0.67\n",
            "\n",
            "Prediction: <html> <body> <main class=\"container\"> <div class=\"header clearfix\"> <nav> <ul class=\"nav nav-pills pull-left\"> <li><a href=\"#\">Esse aliqua</a></li> <li><a href=\"#\">Esse aliqua</a></li> <li><a href=\"#\">Esse aliqua</a></li> <li class=\"active\"><a href=\"#\">Esse aliqua</a></li> </ul> </nav> </div> <div class=\"row\"><div class=\"col-lg-3\"> <h4>Elit</h4><p>Esse aliqua commodo aliqua commodo aliqua</p> <a class=\"btn btn-success\" href=\"#\" role=\"button\">Eiusmod aliqua</a> </div> <div class=\"col-lg-3\"> <h4>In</h4><p>Esse aliqua commodo aliqua aliqua commodo aliqua</p> <a class=\"btn btn-warning\" href=\"#\" role=\"button\">Eiusmod aliqua</a> </div> <div class=\"col-lg-3\"> <h4>Mollit</h4><p>Esse aliqua commodo aliqua aliqua commodo aliqua</p> <a class=\"btn btn-success\" href=\"#\" role=\"button\">Eiusmod aliqua</a> </div> <div class=\"col-lg-3\"> <h4>Et</h4><p>Esse aliqua commodo aliqua aliqua commodo aliqua</p> <a class=\"btn btn-success\" href=\"#\" role=\"button\">Eiusmod aliqua</a> </div> </div> <div class=\"row\"><div class=\"col-lg-6\"> <h4>Do</h4><p>Esse aliqua commodo aliqua aliqua commodo aliqua</p> <a class=\"btn btn-danger\" href=\"#\" role=\"button\">Eiusmod aliqua</a> </div> <div class=\"col-lg-6\"> <h4>Deserunt</h4><p>Eiusmod aliqua commodo aliqua aliqua aliqua</p> <a class=\"btn btn-warning\" href=\"#\" role=\"button\">Eiusmod aliqua</a> </div> </div> </main> </body> </html> \n",
            "    Answer: <html> <body> <main class=\"container\"> <div class=\"header clearfix\"> <nav> <ul class=\"nav nav-pills pull-left\"> <li><a href=\"#\">Magna aliquip</a></li> <li><a href=\"#\">Enim voluptate</a></li> <li><a href=\"#\">Veniam aute</a></li> <li class=\"active\"><a href=\"#\">Magna velit</a></li> <li><a href=\"#\">Lorem incididunt</a></li> </ul> </nav> </div> <div class=\"row\"><div class=\"col-lg-3\"> <h4>Elit</h4><p>Sint deserunt tempor ex laborum</p> <a class=\"btn btn-success\" href=\"#\" role=\"button\">Dolore magna</a> </div> <div class=\"col-lg-3\"> <h4>In</h4><p>Fugiat elit sit duis dolore sint cillum eu</p> <a class=\"btn btn-warning\" href=\"#\" role=\"button\">Id occaecat</a> </div> <div class=\"col-lg-3\"> <h4>Mollit</h4><p>Amet occaecat officia qui elit et laborum nisi</p> <a class=\"btn btn-success\" href=\"#\" role=\"button\">Nisi nostrud</a> </div> <div class=\"col-lg-3\"> <h4>Et</h4><p>Consectetur occaecat aliqua magna ea dolore lorem irure</p> <a class=\"btn btn-success\" href=\"#\" role=\"button\">Magna anim</a> </div> </div> <div class=\"row\"><div class=\"col-lg-6\"> <h4>Do</h4><p>Quis nulla dolor excepteur sint ut laborum cupidatat</p> <a class=\"btn btn-danger\" href=\"#\" role=\"button\">Sit excepteur</a> </div> <div class=\"col-lg-6\"> <h4>Deserunt</h4><p>Ullamco consectetur nulla adipiscing occaecat non enim tempor</p> <a class=\"btn btn-warning\" href=\"#\" role=\"button\">Proident ipsum</a> </div> </div> </main> </body> </html> \n",
            "      Bleu: 0.72\n"
          ]
        },
        {
          "output_type": "stream",
          "name": "stderr",
          "text": [
            "Epoch 4/9 - valid loop: 100%|██████████| 2/2 [01:54<00:00, 57.13s/it, bleu_score=0.714]\n"
          ]
        },
        {
          "output_type": "stream",
          "name": "stdout",
          "text": [
            "\n",
            "Prediction: <html> <body> <main class=\"container\"> <div class=\"header clearfix\"> <nav> <ul class=\"nav nav-pills pull-left\"> <li><a href=\"#\">Esse aliquip</a></li> <li class=\"active\"><a href=\"#\">Esse aliqua</a></li> </ul> </nav> </div> <div class=\"row\"><div class=\"col-lg-3\"> <h4>Magna</h4><p>Esse aliqua commodo aliqua commodo aliqua</p> <a class=\"btn btn-success\" href=\"#\" role=\"button\">Esse aliqua</a> </div> <div class=\"col-lg-3\"> <h4>Et</h4><p>Esse aliqua commodo aliqua aliqua commodo aliqua</p> <a class=\"btn btn-warning\" href=\"#\" role=\"button\">Esse aliqua</a> </div> <div class=\"col-lg-3\"> <h4>Esse</h4><p>Esse aliqua commodo aliqua aliqua commodo aliqua</p> <a class=\"btn btn-danger\" href=\"#\" role=\"button\">Esse aliqua</a> </div> <div class=\"col-lg-3\"> <h4>Esse</h4><p>Esse aliqua commodo aliqua aliqua aliqua</p> <a class=\"btn btn-success\" href=\"#\" role=\"button\">Esse aliqua</a> </div> </div> <div class=\"row\"><div class=\"col-lg-6\"> <h4>Mollit</h4><p>Esse aliqua commodo aliqua aliqua aliqua</p> <a class=\"btn btn-warning\" href=\"#\" role=\"button\">Esse aliqua</a> </div> </div> <div class=\"row\"><div class=\"col-lg-12\"> <h4>Ea</h4><p>Esse aliqua commodo aliqua aliqua aliqua</p> <a class=\"btn btn-warning\" href=\"#\" role=\"button\">Ea aliqua</a> </div> <div class=\"col-lg-6\"> <h4>Deserunt</h4><p>Eiusmod aliqua commodo aliqua aliqua aliqua</p> <a class=\"btn btn-danger\" href=\"#\" role=\"button\">Eiusmod aliqua</a> </div> </div> </main> </body> </html> \n",
            "    Answer: <html> <body> <main class=\"container\"> <div class=\"header clearfix\"> <nav> <ul class=\"nav nav-pills pull-left\"> <li><a href=\"#\">Velit et</a></li> <li class=\"active\"><a href=\"#\">Pariatur velit</a></li> </ul> </nav> </div> <div class=\"row\"><div class=\"col-lg-3\"> <h4>Magna</h4><p>Nulla occaecat cillum non</p> <a class=\"btn btn-success\" href=\"#\" role=\"button\">Ex eu</a> </div> <div class=\"col-lg-3\"> <h4>Esse</h4><p>Amet aliquip duis ad eu lorem sunt</p> <a class=\"btn btn-warning\" href=\"#\" role=\"button\">Id reprehenderit</a> </div> <div class=\"col-lg-3\"> <h4>Et</h4><p>Amet sed occaecat eiusmod excepteur id nulla voluptate</p> <a class=\"btn btn-danger\" href=\"#\" role=\"button\">Sint eu</a> </div> <div class=\"col-lg-3\"> <h4>Esse</h4><p>Dolor est magna enim ullamco exercitation officia voluptate</p> <a class=\"btn btn-success\" href=\"#\" role=\"button\">Ea quis</a> </div> </div> <div class=\"row\"><div class=\"col-lg-12\"> <h4>Mollit</h4><p>Nostrud mollit commodo veniam voluptate occaecat elit duis</p> <a class=\"btn btn-warning\" href=\"#\" role=\"button\">Nostrud magna</a> </div> </div> <div class=\"row\"><div class=\"col-lg-6\"> <h4>Ea</h4><p>Excepteur nostrud anim tempor duis cupidatat</p> <a class=\"btn btn-warning\" href=\"#\" role=\"button\">Cillum esse</a> </div> <div class=\"col-lg-6\"> <h4>Deserunt</h4><p>In ut do ullamco</p> <a class=\"btn btn-danger\" href=\"#\" role=\"button\">Tempor exercitation</a> </div> </div> </main> </body> </html> \n",
            "      Bleu: 0.74\n",
            "\n",
            "Prediction: <html> <body> <main class=\"container\"> <div class=\"header clearfix\"> <nav> <ul class=\"nav nav-pills pull-left\"> <li><a href=\"#\">Eiusmod aliqua</a></li> <li class=\"active\"><a href=\"#\">Eiusmod aliqua</a></li> </ul> </nav> </div> <div class=\"row\"><div class=\"col-lg-6\"> <h4>Excepteur</h4><p>Esse aliqua commodo aliqua aliquip commodo aliqua</p> <a class=\"btn btn-success\" href=\"#\" role=\"button\">Eiusmod aliqua</a> </div> <div class=\"col-lg-6\"> <h4>Occaecat</h4><p>Eiusmod aliqua commodo aliqua aliqua aliqua</p> <a class=\"btn btn-warning\" href=\"#\" role=\"button\">Eiusmod aliqua</a> </div> </div> <div class=\"row\"><div class=\"col-lg-12\"> <h4>Irure</h4><p>Eiusmod aliqua commodo aliqua aliqua aliqua</p> <a class=\"btn btn-success\" href=\"#\" role=\"button\">Eiusmod aliqua</a> </div> </div> <div class=\"row\"><div class=\"col-lg-12\"> <h4>Amet</h4><p>Eiusmod aliqua commodo aliqua aliqua aliqua</p> <a class=\"btn btn-success\" href=\"#\" role=\"button\">Eiusmod aliqua</a> </div> <div class=\"col-lg-3\"> <h4>Dolore</h4><p>Eiusmod aliqua aliqua aliqua commodo aliqua</p> <a class=\"btn btn-danger\" href=\"#\" role=\"button\">Eiusmod aliqua</a> </div> <div class=\"col-lg-3\"> <h4>Veniam</h4><p>Eiusmod aliqua aliqua aliqua aliqua aliqua</p> <a class=\"btn btn-warning\" href=\"#\" role=\"button\">Eiusmod aliqua</a> </div> <div class=\"col-lg-3\"> <h4>Do</h4><p>Eiusmod aliqua aliqua aliqua aliqua aliqua</p> <a class=\"btn btn-success\" href=\"#\" role=\"button\">Eiusmod aliqua</a> </div> </div> </main> </body> </html> \n",
            "    Answer: <html> <body> <main class=\"container\"> <div class=\"header clearfix\"> <nav> <ul class=\"nav nav-pills pull-left\"> <li><a href=\"#\">Ad adipiscing</a></li> <li class=\"active\"><a href=\"#\">Reprehenderit do</a></li> </ul> </nav> </div> <div class=\"row\"><div class=\"col-lg-6\"> <h4>Excepteur</h4><p>Consectetur elit deserunt ullamco labore lorem dolor esse</p> <a class=\"btn btn-success\" href=\"#\" role=\"button\">Consequat commodo</a> </div> <div class=\"col-lg-6\"> <h4>Occaecat</h4><p>Pariatur excepteur do et dolore id laborum sint</p> <a class=\"btn btn-warning\" href=\"#\" role=\"button\">Est ex</a> </div> </div> <div class=\"row\"><div class=\"col-lg-12\"> <h4>Irure</h4><p>Consequat in sunt qui dolor reprehenderit proident laboris</p> <a class=\"btn btn-success\" href=\"#\" role=\"button\">Irure dolore</a> </div> </div> <div class=\"row\"><div class=\"col-lg-3\"> <h4>Amet</h4><p>Lorem ut ullamco exercitation fugiat amet</p> <a class=\"btn btn-success\" href=\"#\" role=\"button\">Magna dolore</a> </div> <div class=\"col-lg-3\"> <h4>Dolore</h4><p>Aliquip consectetur ex sint cupidatat pariatur amet elit</p> <a class=\"btn btn-danger\" href=\"#\" role=\"button\">Adipiscing sunt</a> </div> <div class=\"col-lg-3\"> <h4>Do</h4><p>Qui proident officia mollit magna cupidatat esse duis</p> <a class=\"btn btn-warning\" href=\"#\" role=\"button\">Pariatur dolore</a> </div> <div class=\"col-lg-3\"> <h4>Veniam</h4><p>Eu sed pariatur</p> <a class=\"btn btn-success\" href=\"#\" role=\"button\">Sunt cupidatat</a> </div> </div> </main> </body> </html> \n",
            "      Bleu: 0.66\n",
            "\n",
            "Prediction: <html> <body> <main class=\"container\"> <div class=\"header clearfix\"> <nav> <ul class=\"nav nav-pills pull-left\"> <li><a href=\"#\">Eiusmod aliquip</a></li> <li class=\"active\"><a href=\"#\">Eiusmod aliquip</a></li> </ul> </nav> </div> <div class=\"row\"><div class=\"col-lg-3\"> <h4>Incididunt</h4><p>Esse aliquip commodo aliqua commodo aliqua</p> <a class=\"btn btn-warning\" href=\"#\" role=\"button\">Eiusmod aliqua</a> </div> <div class=\"col-lg-3\"> <h4>Quis</h4><p>Eiusmod aliqua commodo aliqua aliquip commodo aliqua</p> <a class=\"btn btn-warning\" href=\"#\" role=\"button\">Eiusmod aliqua</a> </div> <div class=\"col-lg-3\"> <h4>Duis</h4><p>Eiusmod aliqua commodo aliqua aliquip commodo aliqua</p> <a class=\"btn btn-success\" href=\"#\" role=\"button\">Eiusmod aliqua</a> </div> <div class=\"col-lg-3\"> <h4>Qui</h4><p>Eiusmod aliqua commodo aliqua aliqua aliqua</p> <a class=\"btn btn-warning\" href=\"#\" role=\"button\">Eiusmod aliqua</a> </div> </div> <div class=\"row\"><div class=\"col-lg-6\"> <h4>Ut</h4><p>Eiusmod aliqua commodo aliqua aliqua aliqua</p> <a class=\"btn btn-warning\" href=\"#\" role=\"button\">Eiusmod aliqua</a> </div> </div> <div class=\"row\"><div class=\"col-lg-12\"> <h4>Fugiat</h4><p>Eiusmod aliqua commodo aliqua aliqua aliqua</p> <a class=\"btn btn-warning\" href=\"#\" role=\"button\">Eiusmod aliqua</a> </div> <div class=\"col-lg-6\"> <h4>Tempor</h4><p>Eiusmod aliqua aliqua commodo aliqua aliqua</p> <a class=\"btn btn-warning\" href=\"#\" role=\"button\">Eiusmod aliqua</a> </div> </div> </main> </body> </html> \n",
            "    Answer: <html> <body> <main class=\"container\"> <div class=\"header clearfix\"> <nav> <ul class=\"nav nav-pills pull-left\"> <li><a href=\"#\">Et irure</a></li> <li class=\"active\"><a href=\"#\">Non duis</a></li> </ul> </nav> </div> <div class=\"row\"><div class=\"col-lg-3\"> <h4>Incididunt</h4><p>Enim magna non laborum fugiat qui tempor id</p> <a class=\"btn btn-warning\" href=\"#\" role=\"button\">Nisi duis</a> </div> <div class=\"col-lg-3\"> <h4>Qui</h4><p>Labore officia eu proident excepteur adipiscing nulla id</p> <a class=\"btn btn-warning\" href=\"#\" role=\"button\">Fugiat quis</a> </div> <div class=\"col-lg-3\"> <h4>Duis</h4><p>Ullamco sit ipsum duis cillum minim laborum officia</p> <a class=\"btn btn-success\" href=\"#\" role=\"button\">Officia magna</a> </div> <div class=\"col-lg-3\"> <h4>Qui</h4><p>Aliquip elit ut et sed ipsum laboris aute</p> <a class=\"btn btn-warning\" href=\"#\" role=\"button\">Reprehenderit cupidatat</a> </div> </div> <div class=\"row\"><div class=\"col-lg-12\"> <h4>Ut</h4><p>Non culpa adipiscing reprehenderit nostrud anim</p> <a class=\"btn btn-warning\" href=\"#\" role=\"button\">Duis nulla</a> </div> </div> <div class=\"row\"><div class=\"col-lg-6\"> <h4>Fugiat</h4><p>Ipsum adipiscing sunt labore est aliqua consectetur do</p> <a class=\"btn btn-warning\" href=\"#\" role=\"button\">Elit officia</a> </div> <div class=\"col-lg-6\"> <h4>Tempor</h4><p>Deserunt ut minim aliquip irure aliqua nisi dolore</p> <a class=\"btn btn-warning\" href=\"#\" role=\"button\">Aute amet</a> </div> </div> </main> </body> </html> \n",
            "      Bleu: 0.64\n",
            "\n",
            "Prediction: <html> <body> <main class=\"container\"> <div class=\"header clearfix\"> <nav> <ul class=\"nav nav-pills pull-left\"> <li><a href=\"#\">Esse aliqua</a></li> <li><a href=\"#\">Esse adipiscing</a></li> <li><a href=\"#\">Esse adipiscing</a></li> <li class=\"active\"><a href=\"#\">Esse adipiscing</a></li> </ul> </nav> </div> <div class=\"row\"><div class=\"col-lg-6\"> <h4>Excepteur</h4><p>Esse aliqua commodo aliqua commodo aliqua</p> <a class=\"btn btn-danger\" href=\"#\" role=\"button\">Esse aliqua</a> </div> <div class=\"col-lg-6\"> <h4>Quis</h4><p>Esse aliqua commodo aliqua aliquip commodo aliqua</p> <a class=\"btn btn-success\" href=\"#\" role=\"button\">Esse aliqua</a> </div> </div> <div class=\"row\"><div class=\"col-lg-12\"> <h4>Nisi</h4><p>Esse aliqua commodo aliqua ullamco aliqua</p> <a class=\"btn btn-warning\" href=\"#\" role=\"button\">Esse aliqua</a> </div> </div> <div class=\"row\"><div class=\"col-lg-3\"> <h4>Laborum</h4><p>Esse aliqua commodo aliqua aliqua commodo aliqua</p> <a class=\"btn btn-warning\" href=\"#\" role=\"button\">Eiusmod aliqua</a> </div> <div class=\"col-lg-3\"> <h4>Consequat</h4><p>Eiusmod aliqua commodo aliqua aliqua commodo aliqua</p> <a class=\"btn btn-success\" href=\"#\" role=\"button\">Eiusmod aliqua</a> </div> <div class=\"col-lg-3\"> <h4>Qui</h4><p>Eiusmod aliqua commodo aliqua aliqua aliqua</p> <a class=\"btn btn-success\" href=\"#\" role=\"button\">Eiusmod aliqua</a> </div> <div class=\"col-lg-3\"> <h4>Fugiat</h4><p>Eiusmod aliqua commodo aliqua aliqua aliqua</p> <a class=\"btn btn-success\" href=\"#\" role=\"button\">Eiusmod aliqua</a> </div> </div> </main> </body> </html> \n",
            "    Answer: <html> <body> <main class=\"container\"> <div class=\"header clearfix\"> <nav> <ul class=\"nav nav-pills pull-left\"> <li><a href=\"#\">Excepteur culpa</a></li> <li><a href=\"#\">Adipiscing nulla</a></li> <li><a href=\"#\">Amet sed</a></li> <li class=\"active\"><a href=\"#\">Exercitation elit</a></li> <li><a href=\"#\">Tempor aliqua</a></li> </ul> </nav> </div> <div class=\"row\"><div class=\"col-lg-6\"> <h4>Excepteur</h4><p>Aute proident occaecat lorem incididunt</p> <a class=\"btn btn-danger\" href=\"#\" role=\"button\">Lorem eu</a> </div> <div class=\"col-lg-6\"> <h4>Quis</h4><p>Laboris in ipsum cillum dolor ea sint nostrud</p> <a class=\"btn btn-success\" href=\"#\" role=\"button\">Proident enim</a> </div> </div> <div class=\"row\"><div class=\"col-lg-12\"> <h4>Nisi</h4><p>In et officia consequat lorem eu non nulla</p> <a class=\"btn btn-warning\" href=\"#\" role=\"button\">Ad ut</a> </div> </div> <div class=\"row\"><div class=\"col-lg-3\"> <h4>Laborum</h4><p>Ut sunt occaecat ullamco dolor cupidatat amet est</p> <a class=\"btn btn-warning\" href=\"#\" role=\"button\">Cillum aute</a> </div> <div class=\"col-lg-3\"> <h4>Consequat</h4><p>Voluptate consequat enim aliquip officia aute excepteur pariatur</p> <a class=\"btn btn-success\" href=\"#\" role=\"button\">Labore qui</a> </div> <div class=\"col-lg-3\"> <h4>Qui</h4><p>Mollit sit non voluptate culpa qui sed reprehenderit</p> <a class=\"btn btn-success\" href=\"#\" role=\"button\">Dolore dolor</a> </div> <div class=\"col-lg-3\"> <h4>Fugiat</h4><p>Pariatur reprehenderit sunt ex consequat qui exercitation tempor</p> <a class=\"btn btn-warning\" href=\"#\" role=\"button\">In veniam</a> </div> </div> </main> </body> </html> \n",
            "      Bleu: 0.69\n",
            "\n",
            "Prediction: <html> <body> <main class=\"container\"> <div class=\"header clearfix\"> <nav> <ul class=\"nav nav-pills pull-left\"> <li><a href=\"#\">Esse aliqua</a></li> <li><a href=\"#\">Eiusmod aliqua</a></li> <li class=\"active\"><a href=\"#\">Eiusmod aliqua</a></li> </ul> </nav> </div> <div class=\"row\"><div class=\"col-lg-6\"> <h4>Sed</h4><p>Esse aliqua commodo aliqua aliqua commodo aliqua</p> <a class=\"btn btn-warning\" href=\"#\" role=\"button\">Eiusmod aliqua</a> </div> <div class=\"col-lg-6\"> <h4>Sit</h4><p>Eiusmod aliqua commodo aliqua aliqua commodo aliqua</p> <a class=\"btn btn-danger\" href=\"#\" role=\"button\">Eiusmod aliqua</a> </div> </div> <div class=\"row\"><div class=\"col-lg-12\"> <h4>Voluptate</h4><p>Eiusmod aliqua commodo aliqua aliqua commodo aliqua</p> <a class=\"btn btn-danger\" href=\"#\" role=\"button\">Eiusmod aliqua</a> </div> </div> <div class=\"row\"><div class=\"col-lg-12\"> <h4>Quis</h4><p>Eiusmod aliqua commodo aliqua aliqua commodo aliqua</p> <a class=\"btn btn-warning\" href=\"#\" role=\"button\">Eiusmod aliqua</a> </div> <div class=\"col-lg-3\"> <h4>Veniam</h4><p>Eiusmod aliqua aliqua commodo aliqua aliqua aliqua</p> <a class=\"btn btn-danger\" href=\"#\" role=\"button\">Eiusmod aliqua</a> </div> <div class=\"col-lg-3\"> <h4>Dolore</h4><p>Eiusmod aliqua commodo aliqua aliqua aliqua aliqua</p> <a class=\"btn btn-danger\" href=\"#\" role=\"button\">Eiusmod aliqua</a> </div> <div class=\"col-lg-3\"> <h4>Aliqua</h4><p>Eiusmod aliqua commodo aliqua aliqua aliqua aliqua</p> <a class=\"btn btn-danger\" href=\"#\" role=\"button\">Eiusmod aliqua</a> </div> </div> </main> </body> </html> \n",
            "    Answer: <html> <body> <main class=\"container\"> <div class=\"header clearfix\"> <nav> <ul class=\"nav nav-pills pull-left\"> <li class=\"active\"><a href=\"#\">Cupidatat ipsum</a></li> <li><a href=\"#\">Amet adipiscing</a></li> <li><a href=\"#\">Pariatur enim</a></li> <li><a href=\"#\">Exercitation pariatur</a></li> </ul> </nav> </div> <div class=\"row\"><div class=\"col-lg-6\"> <h4>Sed</h4><p>Laborum aliqua mollit nisi</p> <a class=\"btn btn-warning\" href=\"#\" role=\"button\">Magna ipsum</a> </div> <div class=\"col-lg-6\"> <h4>Sit</h4><p>Quis sint mollit incididunt ullamco sed ipsum nulla</p> <a class=\"btn btn-danger\" href=\"#\" role=\"button\">Commodo aliquip</a> </div> </div> <div class=\"row\"><div class=\"col-lg-12\"> <h4>Voluptate</h4><p>Incididunt nulla eu sed eiusmod tempor est proident</p> <a class=\"btn btn-danger\" href=\"#\" role=\"button\">Do proident</a> </div> </div> <div class=\"row\"><div class=\"col-lg-3\"> <h4>Quis</h4><p>Enim nostrud sunt adipiscing irure duis sed tempor</p> <a class=\"btn btn-warning\" href=\"#\" role=\"button\">Ad voluptate</a> </div> <div class=\"col-lg-3\"> <h4>Veniam</h4><p>Aute dolore proident reprehenderit sed</p> <a class=\"btn btn-danger\" href=\"#\" role=\"button\">Excepteur veniam</a> </div> <div class=\"col-lg-3\"> <h4>Dolore</h4><p>Adipiscing ipsum elit sunt in duis cillum eiusmod</p> <a class=\"btn btn-danger\" href=\"#\" role=\"button\">Nisi consequat</a> </div> <div class=\"col-lg-3\"> <h4>Aliqua</h4><p>Elit cupidatat aliqua ullamco mollit excepteur laboris cillum</p> <a class=\"btn btn-success\" href=\"#\" role=\"button\">Enim lorem</a> </div> </div> </main> </body> </html> \n",
            "      Bleu: 0.74\n",
            "\n",
            "Prediction: <html> <body> <main class=\"container\"> <div class=\"header clearfix\"> <nav> <ul class=\"nav nav-pills pull-left\"> <li><a href=\"#\">Esse aliqua</a></li> <li><a href=\"#\">Esse adipiscing</a></li> <li class=\"active\"><a href=\"#\">Esse adipiscing</a></li> </ul> </nav> </div> <div class=\"row\"><div class=\"col-lg-6\"> <h4>Sed</h4><p>Esse aliqua commodo aliqua aliquip commodo aliqua</p> <a class=\"btn btn-danger\" href=\"#\" role=\"button\">Eiusmod aliqua</a> </div> <div class=\"col-lg-6\"> <h4>Laborum</h4><p>Esse aliqua commodo aliqua aliqua commodo aliqua</p> <a class=\"btn btn-warning\" href=\"#\" role=\"button\">Eiusmod aliqua</a> </div> </div> <div class=\"row\"><div class=\"col-lg-12\"> <h4>Laborum</h4><p>Esse aliqua commodo aliqua aliqua commodo aliqua</p> <a class=\"btn btn-warning\" href=\"#\" role=\"button\">Eiusmod aliqua</a> </div> </div> <div class=\"row\"><div class=\"col-lg-3\"> <h4>Ea</h4><p>Esse aliqua commodo aliqua aliqua aliqua</p> <a class=\"btn btn-success\" href=\"#\" role=\"button\">Eiusmod aliqua</a> </div> <div class=\"col-lg-3\"> <h4>Do</h4><p>Esse aliqua commodo aliqua aliqua aliqua</p> <a class=\"btn btn-danger\" href=\"#\" role=\"button\">Eiusmod aliqua</a> </div> <div class=\"col-lg-3\"> <h4>Excepteur</h4><p>Eiusmod aliqua commodo aliqua aliqua aliqua</p> <a class=\"btn btn-success\" href=\"#\" role=\"button\">Eiusmod aliqua</a> </div> <div class=\"col-lg-3\"> <h4>Aute</h4><p>Eiusmod aliqua commodo aliqua aliqua aliqua</p> <a class=\"btn btn-danger\" href=\"#\" role=\"button\">Eiusmod aliqua</a> </div> </div> </main> </body> </html> \n",
            "    Answer: <html> <body> <main class=\"container\"> <div class=\"header clearfix\"> <nav> <ul class=\"nav nav-pills pull-left\"> <li><a href=\"#\">Cillum deserunt</a></li> <li><a href=\"#\">Culpa fugiat</a></li> <li class=\"active\"><a href=\"#\">Consequat nulla</a></li> <li><a href=\"#\">Quis ullamco</a></li> <li><a href=\"#\">Commodo non</a></li> </ul> </nav> </div> <div class=\"row\"><div class=\"col-lg-6\"> <h4>Sed</h4><p>Labore aliquip commodo anim elit eu lorem qui</p> <a class=\"btn btn-danger\" href=\"#\" role=\"button\">Proident mollit</a> </div> <div class=\"col-lg-6\"> <h4>Laborum</h4><p>Amet excepteur aliquip minim lorem</p> <a class=\"btn btn-warning\" href=\"#\" role=\"button\">Adipiscing sed</a> </div> </div> <div class=\"row\"><div class=\"col-lg-12\"> <h4>Laborum</h4><p>Consequat nulla id laborum sed ipsum magna proident</p> <a class=\"btn btn-warning\" href=\"#\" role=\"button\">Consequat ad</a> </div> </div> <div class=\"row\"><div class=\"col-lg-3\"> <h4>Ea</h4><p>Ex officia adipiscing est</p> <a class=\"btn btn-success\" href=\"#\" role=\"button\">Sunt occaecat</a> </div> <div class=\"col-lg-3\"> <h4>Do</h4><p>Amet laborum culpa ad aliquip deserunt id sed</p> <a class=\"btn btn-warning\" href=\"#\" role=\"button\">Sed aliqua</a> </div> <div class=\"col-lg-3\"> <h4>Excepteur</h4><p>Sint magna</p> <a class=\"btn btn-success\" href=\"#\" role=\"button\">Do lorem</a> </div> <div class=\"col-lg-3\"> <h4>Aute</h4><p>Non ad consequat reprehenderit ut nulla</p> <a class=\"btn btn-danger\" href=\"#\" role=\"button\">Eu et</a> </div> </div> </main> </body> </html> \n",
            "      Bleu: 0.75\n",
            "\n",
            "Prediction: <html> <body> <main class=\"container\"> <div class=\"header clearfix\"> <nav> <ul class=\"nav nav-pills pull-left\"> <li><a href=\"#\">Esse aliqua</a></li> <li><a href=\"#\">Eiusmod aliqua</a></li> <li class=\"active\"><a href=\"#\">Eiusmod aliqua</a></li> </ul> </nav> </div> <div class=\"row\"><div class=\"col-lg-6\"> <h4>Anim</h4><p>Esse aliqua commodo aliqua aliqua commodo aliqua</p> <a class=\"btn btn-danger\" href=\"#\" role=\"button\">Eiusmod aliqua</a> </div> <div class=\"col-lg-6\"> <h4>Do</h4><p>Eiusmod aliqua commodo aliqua aliqua commodo aliqua</p> <a class=\"btn btn-danger\" href=\"#\" role=\"button\">Eiusmod aliqua</a> </div> </div> <div class=\"row\"><div class=\"col-lg-3\"> <h4>Tempor</h4><p>Eiusmod aliqua commodo aliqua aliqua commodo aliqua</p> <a class=\"btn btn-success\" href=\"#\" role=\"button\">Eiusmod aliqua</a> </div> <div class=\"col-lg-3\"> <h4>Cupidatat</h4><p>Eiusmod aliqua commodo aliqua aliqua commodo aliqua</p> <a class=\"btn btn-warning\" href=\"#\" role=\"button\">Eiusmod aliqua</a> </div> <div class=\"col-lg-3\"> <h4>Elit</h4><p>Eiusmod aliqua commodo aliqua aliqua commodo aliqua</p> <a class=\"btn btn-success\" href=\"#\" role=\"button\">Eiusmod aliqua</a> </div> </div> <div class=\"row\"><div class=\"col-lg-12\"> <h4>Exercitation</h4><p>Eiusmod aliqua commodo aliqua aliqua commodo aliqua</p> <a class=\"btn btn-success\" href=\"#\" role=\"button\">Eiusmod aliqua</a> </div> </div> </main> </body> </html> \n",
            "    Answer: <html> <body> <main class=\"container\"> <div class=\"header clearfix\"> <nav> <ul class=\"nav nav-pills pull-left\"> <li class=\"active\"><a href=\"#\">Incididunt ullamco</a></li> <li><a href=\"#\">Quis id</a></li> <li><a href=\"#\">Duis fugiat</a></li> <li><a href=\"#\">Est sunt</a></li> </ul> </nav> </div> <div class=\"row\"><div class=\"col-lg-6\"> <h4>Anim</h4><p>Anim magna nulla amet</p> <a class=\"btn btn-danger\" href=\"#\" role=\"button\">Deserunt ipsum</a> </div> <div class=\"col-lg-6\"> <h4>Do</h4><p>Id mollit nisi ullamco minim anim ex adipiscing</p> <a class=\"btn btn-danger\" href=\"#\" role=\"button\">Aute eiusmod</a> </div> </div> <div class=\"row\"><div class=\"col-lg-3\"> <h4>Tempor</h4><p>Officia eu lorem dolore sunt ut mollit anim</p> <a class=\"btn btn-success\" href=\"#\" role=\"button\">Voluptate ullamco</a> </div> <div class=\"col-lg-3\"> <h4>Cupidatat</h4><p>Nostrud occaecat est magna dolor cillum pariatur veniam</p> <a class=\"btn btn-warning\" href=\"#\" role=\"button\">Cillum nisi</a> </div> <div class=\"col-lg-3\"> <h4>Elit</h4><p>Id laborum adipiscing elit sint deserunt consequat nostrud</p> <a class=\"btn btn-success\" href=\"#\" role=\"button\">Veniam adipiscing</a> </div> <div class=\"col-lg-3\"> <h4>Ut</h4><p>Cupidatat aliqua quis eiusmod nulla exercitation reprehenderit do</p> <a class=\"btn btn-success\" href=\"#\" role=\"button\">Consequat tempor</a> </div> </div> <div class=\"row\"><div class=\"col-lg-12\"> <h4>Exercitation</h4><p>Labore dolore ipsum mollit nisi sint sit adipiscing</p> <a class=\"btn btn-success\" href=\"#\" role=\"button\">Dolor nulla</a> </div> </div> </main> </body> </html> \n",
            "      Bleu: 0.73\n",
            " Avg Bleu Score: 0.71\n"
          ]
        },
        {
          "output_type": "stream",
          "name": "stderr",
          "text": [
            "Epoch 5/9 - train loop: 100%|██████████| 388/388 [04:59<00:00,  1.30it/s, loss=0.585]\n"
          ]
        },
        {
          "output_type": "stream",
          "name": "stdout",
          "text": [
            "Moving Avg Loss: 0.574\n"
          ]
        },
        {
          "output_type": "stream",
          "name": "stderr",
          "text": [
            "Epoch 6/9 - train loop: 100%|██████████| 388/388 [04:58<00:00,  1.30it/s, loss=0.582]\n"
          ]
        },
        {
          "output_type": "stream",
          "name": "stdout",
          "text": [
            "Moving Avg Loss: 0.571\n"
          ]
        },
        {
          "output_type": "stream",
          "name": "stderr",
          "text": [
            "Epoch 7/9 - train loop: 100%|██████████| 388/388 [04:59<00:00,  1.30it/s, loss=0.595]\n"
          ]
        },
        {
          "output_type": "stream",
          "name": "stdout",
          "text": [
            "Moving Avg Loss: 0.565\n"
          ]
        },
        {
          "output_type": "stream",
          "name": "stderr",
          "text": [
            "Epoch 8/9 - train loop: 100%|██████████| 388/388 [04:59<00:00,  1.30it/s, loss=0.578]\n"
          ]
        },
        {
          "output_type": "stream",
          "name": "stdout",
          "text": [
            "Moving Avg Loss: 0.557\n"
          ]
        },
        {
          "output_type": "stream",
          "name": "stderr",
          "text": [
            "Epoch 9/9 - train loop: 100%|██████████| 388/388 [04:58<00:00,  1.30it/s, loss=0.55]\n"
          ]
        },
        {
          "output_type": "stream",
          "name": "stdout",
          "text": [
            "Moving Avg Loss: 0.549\n"
          ]
        },
        {
          "output_type": "stream",
          "name": "stderr",
          "text": [
            "Epoch 9/9 - valid loop:  50%|█████     | 1/2 [01:15<01:15, 75.63s/it, bleu_score=0.766]"
          ]
        },
        {
          "output_type": "stream",
          "name": "stdout",
          "text": [
            "\n",
            "Prediction: <html> <body> <main class=\"container\"> <div class=\"header clearfix\"> <nav> <ul class=\"nav nav-pills pull-left\"> <li><a href=\"#\">Et aliquip</a></li> <li><a href=\"#\">Et aliquip</a></li> <li class=\"active\"><a href=\"#\">Et aliquip</a></li> </ul> </nav> </div> <div class=\"row\"><div class=\"col-lg-6\"> <h4>Elit</h4><p>Et aliquip nostrud aliquip commodo aliqua ullamco</p> <a class=\"btn btn-warning\" href=\"#\" role=\"button\">Et aliquip</a> </div> <div class=\"col-lg-6\"> <h4>Quis</h4><p>Esse aliquip nostrud aliqua ullamco aliquip nostrud</p> <a class=\"btn btn-warning\" href=\"#\" role=\"button\">Et aliquip</a> </div> </div> <div class=\"row\"><div class=\"col-lg-12\"> <h4>Incididunt</h4><p>Enim aliquip nostrud aliqua ullamco aliquip nostrud</p> <a class=\"btn btn-success\" href=\"#\" role=\"button\">Et aliquip</a> </div> </div> <div class=\"row\"><div class=\"col-lg-3\"> <h4>Exercitation</h4><p>Enim aliquip nostrud aliqua ullamco aliquip nostrud</p> <a class=\"btn btn-warning\" href=\"#\" role=\"button\">Et aliquip</a> </div> <div class=\"col-lg-3\"> <h4>Occaecat</h4><p>Esse aliquip nostrud aliqua commodo aliquip cillum</p> <a class=\"btn btn-success\" href=\"#\" role=\"button\">Ea aliquip</a> </div> <div class=\"col-lg-3\"> <h4>Voluptate</h4><p>Ea aliquip nostrud aliqua cillum aliqua commodo aliqua</p> <a class=\"btn btn-danger\" href=\"#\" role=\"button\">Ea aliquip</a> </div> <div class=\"col-lg-3\"> <h4>Amet</h4><p>Amet aliquip nostrud aliqua cillum aliqua commodo aliqua</p> <a class=\"btn btn-warning\" href=\"#\" role=\"button\">Ea aliquip</a> </div> </div> </main> </body> </html> \n",
            "    Answer: <html> <body> <main class=\"container\"> <div class=\"header clearfix\"> <nav> <ul class=\"nav nav-pills pull-left\"> <li><a href=\"#\">Occaecat cillum</a></li> <li class=\"active\"><a href=\"#\">Aliquip pariatur</a></li> </ul> </nav> </div> <div class=\"row\"><div class=\"col-lg-6\"> <h4>Elit</h4><p>Enim labore esse cillum aliqua nisi velit in</p> <a class=\"btn btn-warning\" href=\"#\" role=\"button\">Amet est</a> </div> <div class=\"col-lg-6\"> <h4>Quis</h4><p>Cillum nostrud pariatur amet irure in minim ut</p> <a class=\"btn btn-warning\" href=\"#\" role=\"button\">Exercitation reprehenderit</a> </div> </div> <div class=\"row\"><div class=\"col-lg-12\"> <h4>Incididunt</h4><p>Commodo voluptate ea dolore minim tempor</p> <a class=\"btn btn-success\" href=\"#\" role=\"button\">Aliquip nisi</a> </div> </div> <div class=\"row\"><div class=\"col-lg-3\"> <h4>Exercitation</h4><p>Ea consectetur dolor labore esse incididunt tempor ullamco</p> <a class=\"btn btn-warning\" href=\"#\" role=\"button\">Incididunt aliquip</a> </div> <div class=\"col-lg-3\"> <h4>Occaecat</h4><p>Quis officia sed eu cupidatat reprehenderit laboris lorem</p> <a class=\"btn btn-success\" href=\"#\" role=\"button\">Non aliquip</a> </div> <div class=\"col-lg-3\"> <h4>Voluptate</h4><p>Laborum nisi eu enim proident</p> <a class=\"btn btn-danger\" href=\"#\" role=\"button\">Duis id</a> </div> <div class=\"col-lg-3\"> <h4>Amet</h4><p>Consectetur anim adipiscing enim et do quis velit</p> <a class=\"btn btn-warning\" href=\"#\" role=\"button\">Aute anim</a> </div> </div> </main> </body> </html> \n",
            "      Bleu: 0.77\n",
            "\n",
            "Prediction: <html> <body> <main class=\"container\"> <div class=\"header clearfix\"> <nav> <ul class=\"nav nav-pills pull-left\"> <li><a href=\"#\">Et aliquip</a></li> <li><a href=\"#\">Et aliquip</a></li> <li><a href=\"#\">Et aliquip</a></li> <li><a href=\"#\">Et aliquip</a></li> <li class=\"active\"><a href=\"#\">Et aliquip</a></li> </ul> </nav> </div> <div class=\"row\"><div class=\"col-lg-12\"> <h4>Ex</h4><p>Enim aliquip nostrud aliqua commodo aliquip anim</p> <a class=\"btn btn-warning\" href=\"#\" role=\"button\">Et aliquip</a> </div> </div> <div class=\"row\"><div class=\"col-lg-3\"> <h4>Cillum</h4><p>Enim aliquip nostrud aliqua ullamco aliquip nostrud</p> <a class=\"btn btn-success\" href=\"#\" role=\"button\">Et aliquip</a> </div> <div class=\"col-lg-3\"> <h4>Excepteur</h4><p>Enim aliquip nostrud aliqua anim aliquip anim</p> <a class=\"btn btn-success\" href=\"#\" role=\"button\">Et aliquip</a> </div> <div class=\"col-lg-3\"> <h4>In</h4><p>Sit aliquip nostrud aliqua anim aliquip anim</p> <a class=\"btn btn-warning\" href=\"#\" role=\"button\">Ea aliquip</a> </div> <div class=\"col-lg-3\"> <h4>Anim</h4><p>Magna aliqua anim aliquip anim aliqua commodo</p> <a class=\"btn btn-danger\" href=\"#\" role=\"button\">Ea aliquip</a> </div> </div> <div class=\"row\"><div class=\"col-lg-6\"> <h4>Magna</h4><p>Enim aliquip anim aliqua anim aliqua ullamco</p> <a class=\"btn btn-warning\" href=\"#\" role=\"button\">Et aliqua</a> </div> <div class=\"col-lg-6\"> <h4>Aliqua</h4><p>Excepteur aliqua cillum aliqua commodo aliqua anim</p> <a class=\"btn btn-danger\" href=\"#\" role=\"button\">Ea aliquip</a> </div> </div> </main> </body> </html> \n",
            "    Answer: <html> <body> <main class=\"container\"> <div class=\"header clearfix\"> <nav> <ul class=\"nav nav-pills pull-left\"> <li><a href=\"#\">Sunt mollit</a></li> <li><a href=\"#\">Ipsum enim</a></li> <li><a href=\"#\">Reprehenderit duis</a></li> <li><a href=\"#\">Sit labore</a></li> <li class=\"active\"><a href=\"#\">Eiusmod amet</a></li> </ul> </nav> </div> <div class=\"row\"><div class=\"col-lg-12\"> <h4>Ex</h4><p>Ad in laboris nisi et culpa dolore proident</p> <a class=\"btn btn-warning\" href=\"#\" role=\"button\">Dolor incididunt</a> </div> </div> <div class=\"row\"><div class=\"col-lg-3\"> <h4>Cillum</h4><p>Officia elit eu et irure ut nostrud in</p> <a class=\"btn btn-success\" href=\"#\" role=\"button\">Nulla in</a> </div> <div class=\"col-lg-3\"> <h4>Excepteur</h4><p>Et exercitation velit ex ea non</p> <a class=\"btn btn-success\" href=\"#\" role=\"button\">Irure laborum</a> </div> <div class=\"col-lg-3\"> <h4>In</h4><p>Sit excepteur deserunt labore sint quis enim proident</p> <a class=\"btn btn-warning\" href=\"#\" role=\"button\">Proident do</a> </div> <div class=\"col-lg-3\"> <h4>Anim</h4><p>Minim proident laborum sit nisi ex labore incididunt</p> <a class=\"btn btn-danger\" href=\"#\" role=\"button\">Labore sed</a> </div> </div> <div class=\"row\"><div class=\"col-lg-6\"> <h4>Magna</h4><p>Aliqua officia nostrud cillum voluptate aliquip</p> <a class=\"btn btn-warning\" href=\"#\" role=\"button\">Ut laboris</a> </div> <div class=\"col-lg-6\"> <h4>Aliqua</h4><p>Excepteur adipiscing est sunt exercitation ut minim magna</p> <a class=\"btn btn-danger\" href=\"#\" role=\"button\">Laboris reprehenderit</a> </div> </div> </main> </body> </html> \n",
            "      Bleu: 0.77\n",
            "\n",
            "Prediction: <html> <body> <main class=\"container\"> <div class=\"header clearfix\"> <nav> <ul class=\"nav nav-pills pull-left\"> <li><a href=\"#\">Et aliquip</a></li> <li><a href=\"#\">Et aliquip</a></li> <li><a href=\"#\">Et aliquip</a></li> <li><a href=\"#\">Et aliquip</a></li> <li class=\"active\"><a href=\"#\">Et aliquip</a></li> </ul> </nav> </div> <div class=\"row\"><div class=\"col-lg-6\"> <h4>Eu</h4><p>Esse aliquip nostrud aliqua commodo aliquip anim</p> <a class=\"btn btn-danger\" href=\"#\" role=\"button\">Et aliquip</a> </div> <div class=\"col-lg-6\"> <h4>Elit</h4><p>Aute aliquip nostrud aliqua commodo aliquip anim</p> <a class=\"btn btn-warning\" href=\"#\" role=\"button\">Et aliquip</a> </div> </div> <div class=\"row\"><div class=\"col-lg-3\"> <h4>Sit</h4><p>Eiusmod aliquip anim aliqua commodo aliquip anim</p> <a class=\"btn btn-danger\" href=\"#\" role=\"button\">Et aliquip</a> </div> <div class=\"col-lg-3\"> <h4>Elit</h4><p>Esse aliquip anim aliqua anim aliquip anim</p> <a class=\"btn btn-warning\" href=\"#\" role=\"button\">Ea aliquip</a> </div> <div class=\"col-lg-3\"> <h4>Magna</h4><p>Adipiscing aliqua commodo aliqua anim aliqua ullamco</p> <a class=\"btn btn-success\" href=\"#\" role=\"button\">Ea aliquip</a> </div> <div class=\"col-lg-3\"> <h4>Commodo</h4><p>Velit aliqua cillum aliqua commodo aliqua anim</p> <a class=\"btn btn-success\" href=\"#\" role=\"button\">Ea aliquip</a> </div> </div> <div class=\"row\"><div class=\"col-lg-12\"> <h4>Do</h4><p>Eiusmod aliquip anim aliqua anim aliqua commodo</p> <a class=\"btn btn-success\" href=\"#\" role=\"button\">Ea aliquip</a> </div> </div> </main> </body> </html> \n",
            "    Answer: <html> <body> <main class=\"container\"> <div class=\"header clearfix\"> <nav> <ul class=\"nav nav-pills pull-left\"> <li><a href=\"#\">Occaecat proident</a></li> <li><a href=\"#\">Mollit tempor</a></li> <li><a href=\"#\">Sit excepteur</a></li> <li><a href=\"#\">Consequat sed</a></li> <li class=\"active\"><a href=\"#\">Ut est</a></li> </ul> </nav> </div> <div class=\"row\"><div class=\"col-lg-6\"> <h4>Eu</h4><p>Exercitation dolor incididunt sed deserunt excepteur laborum ut</p> <a class=\"btn btn-danger\" href=\"#\" role=\"button\">Deserunt pariatur</a> </div> <div class=\"col-lg-6\"> <h4>Elit</h4><p>Reprehenderit fugiat ut veniam cupidatat ex elit aliqua</p> <a class=\"btn btn-warning\" href=\"#\" role=\"button\">Irure eu</a> </div> </div> <div class=\"row\"><div class=\"col-lg-3\"> <h4>Sit</h4><p>Aliqua laborum id minim veniam enim reprehenderit fugiat</p> <a class=\"btn btn-danger\" href=\"#\" role=\"button\">Exercitation consectetur</a> </div> <div class=\"col-lg-3\"> <h4>Elit</h4><p>Reprehenderit ex fugiat nostrud voluptate eiusmod adipiscing velit</p> <a class=\"btn btn-warning\" href=\"#\" role=\"button\">Elit occaecat</a> </div> <div class=\"col-lg-3\"> <h4>Magna</h4><p>Aute velit laboris esse elit</p> <a class=\"btn btn-success\" href=\"#\" role=\"button\">Anim elit</a> </div> <div class=\"col-lg-3\"> <h4>Commodo</h4><p>Velit eu sint dolore cupidatat tempor ex dolor</p> <a class=\"btn btn-success\" href=\"#\" role=\"button\">Mollit qui</a> </div> </div> <div class=\"row\"><div class=\"col-lg-12\"> <h4>Do</h4><p>Cupidatat duis id mollit veniam ea quis excepteur</p> <a class=\"btn btn-success\" href=\"#\" role=\"button\">Ad ut</a> </div> </div> </main> </body> </html> \n",
            "      Bleu: 0.75\n",
            "\n",
            "Prediction: <html> <body> <main class=\"container\"> <div class=\"header clearfix\"> <nav> <ul class=\"nav nav-pills pull-left\"> <li><a href=\"#\">Et aliquip</a></li> <li class=\"active\"><a href=\"#\">Et aliquip</a></li> </ul> </nav> </div> <div class=\"row\"><div class=\"col-lg-6\"> <h4>In</h4><p>Ea aliquip nostrud aliqua commodo aliquip nostrud</p> <a class=\"btn btn-danger\" href=\"#\" role=\"button\">Ea aliquip</a> </div> <div class=\"col-lg-6\"> <h4>Officia</h4><p>Ea aliquip nostrud aliqua ullamco aliquip nostrud</p> <a class=\"btn btn-success\" href=\"#\" role=\"button\">Ea aliquip</a> </div> </div> <div class=\"row\"><div class=\"col-lg-12\"> <h4>Sint</h4><p>Ea aliquip nostrud aliqua ullamco aliquip nostrud</p> <a class=\"btn btn-danger\" href=\"#\" role=\"button\">Ea aliquip</a> </div> </div> <div class=\"row\"><div class=\"col-lg-3\"> <h4>Excepteur</h4><p>Ea aliquip nostrud aliqua ullamco aliquip nostrud</p> <a class=\"btn btn-danger\" href=\"#\" role=\"button\">Ea aliquip</a> </div> <div class=\"col-lg-3\"> <h4>In</h4><p>Ea aliquip nostrud aliqua commodo aliquip cillum</p> <a class=\"btn btn-warning\" href=\"#\" role=\"button\">Ea aliquip</a> </div> <div class=\"col-lg-3\"> <h4>Eu</h4><p>Ea aliquip nostrud aliqua ullamco aliqua commodo aliqua</p> <a class=\"btn btn-warning\" href=\"#\" role=\"button\">Ea aliquip</a> </div> <div class=\"col-lg-3\"> <h4>Id</h4><p>Aute cillum aliqua commodo aliqua ullamco aliqua</p> <a class=\"btn btn-warning\" href=\"#\" role=\"button\">Ea aliquip</a> </div> </div> </main> </body> </html> \n",
            "    Answer: <html> <body> <main class=\"container\"> <div class=\"header clearfix\"> <nav> <ul class=\"nav nav-pills pull-left\"> <li><a href=\"#\">Culpa id</a></li> <li class=\"active\"><a href=\"#\">Aliquip velit</a></li> </ul> </nav> </div> <div class=\"row\"><div class=\"col-lg-6\"> <h4>In</h4><p>Est ut irure ea labore sit dolor adipiscing</p> <a class=\"btn btn-danger\" href=\"#\" role=\"button\">Consequat excepteur</a> </div> <div class=\"col-lg-6\"> <h4>Officia</h4><p>Officia ut proident pariatur nulla anim</p> <a class=\"btn btn-success\" href=\"#\" role=\"button\">Enim id</a> </div> </div> <div class=\"row\"><div class=\"col-lg-12\"> <h4>Sint</h4><p>Eiusmod aute aliqua tempor cillum lorem fugiat minim</p> <a class=\"btn btn-danger\" href=\"#\" role=\"button\">Ut labore</a> </div> </div> <div class=\"row\"><div class=\"col-lg-3\"> <h4>Excepteur</h4><p>Commodo cillum eiusmod et anim est mollit aliqua</p> <a class=\"btn btn-danger\" href=\"#\" role=\"button\">Velit tempor</a> </div> <div class=\"col-lg-3\"> <h4>In</h4><p>Elit pariatur dolor consequat officia</p> <a class=\"btn btn-warning\" href=\"#\" role=\"button\">Proident deserunt</a> </div> <div class=\"col-lg-3\"> <h4>Eu</h4><p>Laborum duis labore consequat sint excepteur aute enim</p> <a class=\"btn btn-warning\" href=\"#\" role=\"button\">Qui proident</a> </div> <div class=\"col-lg-3\"> <h4>Id</h4><p>Sunt ipsum esse quis elit officia deserunt anim</p> <a class=\"btn btn-warning\" href=\"#\" role=\"button\">Proident minim</a> </div> </div> </main> </body> </html> \n",
            "      Bleu: 0.77\n",
            "\n",
            "Prediction: <html> <body> <main class=\"container\"> <div class=\"header clearfix\"> <nav> <ul class=\"nav nav-pills pull-left\"> <li class=\"active\"><a href=\"#\">Et aliquip</a></li> <li><a href=\"#\">Et aliquip</a></li> <li><a href=\"#\">Et aliquip</a></li> <li><a href=\"#\">Et aliquip</a></li> </ul> </nav> </div> <div class=\"row\"><div class=\"col-lg-6\"> <h4>Minim</h4><p>Esse aliquip nostrud aliqua ullamco aliquip nostrud</p> <a class=\"btn btn-success\" href=\"#\" role=\"button\">Et aliquip</a> </div> <div class=\"col-lg-6\"> <h4>Do</h4><p>Esse aliquip nostrud aliqua ullamco aliquip nostrud</p> <a class=\"btn btn-danger\" href=\"#\" role=\"button\">Et aliquip</a> </div> </div> <div class=\"row\"><div class=\"col-lg-12\"> <h4>Veniam</h4><p>Enim aliquip nostrud aliqua ullamco aliquip nostrud</p> <a class=\"btn btn-danger\" href=\"#\" role=\"button\">Ea aliquip</a> </div> </div> <div class=\"row\"><div class=\"col-lg-3\"> <h4>Et</h4><p>Et aliquip nostrud aliqua ullamco aliquip nostrud</p> <a class=\"btn btn-success\" href=\"#\" role=\"button\">Et aliquip</a> </div> <div class=\"col-lg-3\"> <h4>Ex</h4><p>Esse aliquip nostrud aliqua ullamco aliquip nostrud</p> <a class=\"btn btn-danger\" href=\"#\" role=\"button\">Ea aliquip</a> </div> <div class=\"col-lg-3\"> <h4>Culpa</h4><p>Ea aliquip nostrud aliqua ullamco aliqua commodo aliqua</p> <a class=\"btn btn-success\" href=\"#\" role=\"button\">Ea aliquip</a> </div> <div class=\"col-lg-3\"> <h4>Id</h4><p>Eiusmod aliquip nostrud aliqua cillum aliqua commodo</p> <a class=\"btn btn-success\" href=\"#\" role=\"button\">Ea aliquip</a> </div> </div> </main> </body> </html> \n",
            "    Answer: <html> <body> <main class=\"container\"> <div class=\"header clearfix\"> <nav> <ul class=\"nav nav-pills pull-left\"> <li class=\"active\"><a href=\"#\">Fugiat do</a></li> <li><a href=\"#\">Cupidatat voluptate</a></li> <li><a href=\"#\">Aliqua commodo</a></li> </ul> </nav> </div> <div class=\"row\"><div class=\"col-lg-6\"> <h4>Minim</h4><p>Ex minim in quis nisi aliquip lorem adipiscing</p> <a class=\"btn btn-success\" href=\"#\" role=\"button\">Excepteur duis</a> </div> <div class=\"col-lg-6\"> <h4>Do</h4><p>Cupidatat amet dolor ex nulla duis aliquip occaecat</p> <a class=\"btn btn-danger\" href=\"#\" role=\"button\">Ea velit</a> </div> </div> <div class=\"row\"><div class=\"col-lg-12\"> <h4>Veniam</h4><p>Magna anim eiusmod elit nisi id ex et</p> <a class=\"btn btn-danger\" href=\"#\" role=\"button\">Do tempor</a> </div> </div> <div class=\"row\"><div class=\"col-lg-3\"> <h4>Et</h4><p>Dolor sint fugiat excepteur cupidatat in mollit aliquip</p> <a class=\"btn btn-success\" href=\"#\" role=\"button\">Reprehenderit culpa</a> </div> <div class=\"col-lg-3\"> <h4>Ex</h4><p>Consectetur sit ut reprehenderit laboris</p> <a class=\"btn btn-danger\" href=\"#\" role=\"button\">Sit ad</a> </div> <div class=\"col-lg-3\"> <h4>Culpa</h4><p>Voluptate nostrud eu dolore occaecat tempor</p> <a class=\"btn btn-success\" href=\"#\" role=\"button\">Do magna</a> </div> <div class=\"col-lg-3\"> <h4>Id</h4><p>Ut lorem eu velit aliqua excepteur</p> <a class=\"btn btn-success\" href=\"#\" role=\"button\">Nulla aliqua</a> </div> </div> </main> </body> </html> \n",
            "      Bleu: 0.76\n",
            "\n",
            "Prediction: <html> <body> <main class=\"container\"> <div class=\"header clearfix\"> <nav> <ul class=\"nav nav-pills pull-left\"> <li><a href=\"#\">Et aliquip</a></li> <li><a href=\"#\">Et aliquip</a></li> <li><a href=\"#\">Et aliquip</a></li> <li class=\"active\"><a href=\"#\">Et aliquip</a></li> <li><a href=\"#\">Et aliquip</a></li> <li><a href=\"#\">Esse aliquip</a></li> </ul> </nav> </div> <div class=\"row\"><div class=\"col-lg-12\"> <h4>Voluptate</h4><p>Esse aliquip nostrud aliqua commodo aliquip nostrud</p> <a class=\"btn btn-danger\" href=\"#\" role=\"button\">Et aliquip</a> </div> </div> <div class=\"row\"><div class=\"col-lg-3\"> <h4>Amet</h4><p>Enim aliquip nostrud aliquip anim aliqua ullamco</p> <a class=\"btn btn-danger\" href=\"#\" role=\"button\">Et aliquip</a> </div> <div class=\"col-lg-3\"> <h4>Labore</h4><p>Esse aliquip nostrud aliqua ullamco aliquip nostrud</p> <a class=\"btn btn-success\" href=\"#\" role=\"button\">Et aliquip</a> </div> <div class=\"col-lg-3\"> <h4>Ut</h4><p>Veniam aliquip nostrud aliqua anim aliquip nostrud</p> <a class=\"btn btn-warning\" href=\"#\" role=\"button\">Ea aliquip</a> </div> <div class=\"col-lg-3\"> <h4>Nostrud</h4><p>Adipiscing aliquip nostrud aliqua ullamco aliquip nostrud</p> <a class=\"btn btn-warning\" href=\"#\" role=\"button\">Ea aliquip</a> </div> </div> <div class=\"row\"><div class=\"col-lg-6\"> <h4>Est</h4><p>Et aliquip nostrud aliqua commodo aliquip anim</p> <a class=\"btn btn-warning\" href=\"#\" role=\"button\">Et aliquip</a> </div> <div class=\"col-lg-6\"> <h4>Proident</h4><p>Eiusmod aliquip nostrud aliqua anim aliqua ullamco</p> <a class=\"btn btn-warning\" href=\"#\" role=\"button\">Ea aliquip</a> </div> </div> </main> </body> </html> \n",
            "    Answer: <html> <body> <main class=\"container\"> <div class=\"header clearfix\"> <nav> <ul class=\"nav nav-pills pull-left\"> <li><a href=\"#\">Ad voluptate</a></li> <li class=\"active\"><a href=\"#\">Commodo adipiscing</a></li> <li><a href=\"#\">Dolore duis</a></li> <li><a href=\"#\">Ea laborum</a></li> <li><a href=\"#\">Et incididunt</a></li> </ul> </nav> </div> <div class=\"row\"><div class=\"col-lg-12\"> <h4>Voluptate</h4><p>Occaecat id commodo ea laborum aliquip sint esse</p> <a class=\"btn btn-danger\" href=\"#\" role=\"button\">Consectetur quis</a> </div> </div> <div class=\"row\"><div class=\"col-lg-3\"> <h4>Amet</h4><p>Lorem duis do fugiat ullamco deserunt qui nisi</p> <a class=\"btn btn-danger\" href=\"#\" role=\"button\">Mollit est</a> </div> <div class=\"col-lg-3\"> <h4>Labore</h4><p>Consectetur proident adipiscing pariatur tempor sunt occaecat excepteur</p> <a class=\"btn btn-success\" href=\"#\" role=\"button\">Exercitation fugiat</a> </div> <div class=\"col-lg-3\"> <h4>Ut</h4><p>Voluptate qui officia quis anim aliqua sunt consequat</p> <a class=\"btn btn-warning\" href=\"#\" role=\"button\">In aute</a> </div> <div class=\"col-lg-3\"> <h4>Nostrud</h4><p>Aute in aliquip ullamco</p> <a class=\"btn btn-warning\" href=\"#\" role=\"button\">Ex eu</a> </div> </div> <div class=\"row\"><div class=\"col-lg-6\"> <h4>Est</h4><p>Dolore ex cupidatat consequat anim qui aute do</p> <a class=\"btn btn-warning\" href=\"#\" role=\"button\">Aliqua id</a> </div> <div class=\"col-lg-6\"> <h4>Proident</h4><p>Eu dolore eiusmod fugiat mollit aliqua reprehenderit consequat</p> <a class=\"btn btn-warning\" href=\"#\" role=\"button\">Dolor eiusmod</a> </div> </div> </main> </body> </html> \n",
            "      Bleu: 0.78\n",
            "\n",
            "Prediction: <html> <body> <main class=\"container\"> <div class=\"header clearfix\"> <nav> <ul class=\"nav nav-pills pull-left\"> <li><a href=\"#\">Et aliquip</a></li> <li><a href=\"#\">Et aliqua</a></li> <li><a href=\"#\">Esse aliqua</a></li> <li class=\"active\"><a href=\"#\">Et aliqua</a></li> </ul> </nav> </div> <div class=\"row\"><div class=\"col-lg-3\"> <h4>Laborum</h4><p>Esse aliquip nostrud aliqua commodo aliqua ullamco</p> <a class=\"btn btn-danger\" href=\"#\" role=\"button\">Et aliquip</a> </div> <div class=\"col-lg-3\"> <h4>Ex</h4><p>Esse aliquip nostrud aliqua commodo aliqua ullamco</p> <a class=\"btn btn-success\" href=\"#\" role=\"button\">Ea aliquip</a> </div> <div class=\"col-lg-3\"> <h4>Labore</h4><p>Esse aliquip nostrud aliqua ullamco aliqua commodo</p> <a class=\"btn btn-danger\" href=\"#\" role=\"button\">Ea aliquip</a> </div> <div class=\"col-lg-3\"> <h4>Do</h4><p>Esse aliquip cillum aliqua commodo aliqua ullamco</p> <a class=\"btn btn-warning\" href=\"#\" role=\"button\">Ea aliquip</a> </div> </div> <div class=\"row\"><div class=\"col-lg-6\"> <h4>Duis</h4><p>Enim aliquip anim aliqua anim aliqua ullamco</p> <a class=\"btn btn-warning\" href=\"#\" role=\"button\">Ea aliquip</a> </div> <div class=\"col-lg-6\"> <h4>Deserunt</h4><p>Esse aliqua anim aliqua anim aliqua ullamco</p> <a class=\"btn btn-success\" href=\"#\" role=\"button\">Ea aliqua</a> </div> </div> <div class=\"row\"><div class=\"col-lg-12\"> <h4>Labore</h4><p>Esse aliquip anim aliqua anim aliqua ullamco</p> <a class=\"btn btn-success\" href=\"#\" role=\"button\">Ea aliqua</a> </div> </div> </main> </body> </html> \n",
            "    Answer: <html> <body> <main class=\"container\"> <div class=\"header clearfix\"> <nav> <ul class=\"nav nav-pills pull-left\"> <li><a href=\"#\">In aliqua</a></li> <li><a href=\"#\">Reprehenderit proident</a></li> <li><a href=\"#\">Laboris irure</a></li> <li class=\"active\"><a href=\"#\">Minim cillum</a></li> </ul> </nav> </div> <div class=\"row\"><div class=\"col-lg-3\"> <h4>Laborum</h4><p>Irure eiusmod exercitation voluptate amet minim nulla labore</p> <a class=\"btn btn-danger\" href=\"#\" role=\"button\">Dolore qui</a> </div> <div class=\"col-lg-3\"> <h4>Ex</h4><p>Commodo officia nostrud in quis anim occaecat</p> <a class=\"btn btn-success\" href=\"#\" role=\"button\">Nisi ut</a> </div> <div class=\"col-lg-3\"> <h4>Labore</h4><p>Commodo dolore tempor minim magna fugiat deserunt ipsum</p> <a class=\"btn btn-danger\" href=\"#\" role=\"button\">Ullamco enim</a> </div> <div class=\"col-lg-3\"> <h4>Do</h4><p>Qui nostrud incididunt sint esse amet consectetur</p> <a class=\"btn btn-warning\" href=\"#\" role=\"button\">Adipiscing eu</a> </div> </div> <div class=\"row\"><div class=\"col-lg-6\"> <h4>Duis</h4><p>Enim cillum lorem cupidatat laborum et sunt nisi</p> <a class=\"btn btn-warning\" href=\"#\" role=\"button\">Ipsum do</a> </div> <div class=\"col-lg-6\"> <h4>Deserunt</h4><p>Tempor occaecat officia aliquip eu adipiscing culpa ut</p> <a class=\"btn btn-success\" href=\"#\" role=\"button\">Magna cupidatat</a> </div> </div> <div class=\"row\"><div class=\"col-lg-12\"> <h4>Labore</h4><p>Excepteur ullamco ea consectetur sed duis qui et</p> <a class=\"btn btn-success\" href=\"#\" role=\"button\">In labore</a> </div> </div> </main> </body> </html> \n",
            "      Bleu: 0.77\n",
            "\n",
            "Prediction: <html> <body> <main class=\"container\"> <div class=\"header clearfix\"> <nav> <ul class=\"nav nav-pills pull-left\"> <li><a href=\"#\">Et aliquip</a></li> <li><a href=\"#\">Et aliquip</a></li> <li><a href=\"#\">Et aliquip</a></li> <li class=\"active\"><a href=\"#\">Et aliquip</a></li> <li><a href=\"#\">Et aliquip</a></li> </ul> </nav> </div> <div class=\"row\"><div class=\"col-lg-6\"> <h4>Lorem</h4><p>Enim aliquip nostrud aliquip commodo aliqua ullamco</p> <a class=\"btn btn-success\" href=\"#\" role=\"button\">Et aliquip</a> </div> <div class=\"col-lg-6\"> <h4>Ad</h4><p>Esse aliquip nostrud aliqua commodo aliquip anim</p> <a class=\"btn btn-success\" href=\"#\" role=\"button\">Et aliquip</a> </div> </div> <div class=\"row\"><div class=\"col-lg-3\"> <h4>Ex</h4><p>Enim aliquip anim aliqua commodo aliquip anim</p> <a class=\"btn btn-danger\" href=\"#\" role=\"button\">Enim aliquip</a> </div> <div class=\"col-lg-3\"> <h4>Proident</h4><p>Enim aliquip anim aliqua commodo aliquip anim</p> <a class=\"btn btn-danger\" href=\"#\" role=\"button\">Ea aliquip</a> </div> <div class=\"col-lg-3\"> <h4>Laborum</h4><p>Nisi aliquip cillum aliqua commodo aliquip nostrud</p> <a class=\"btn btn-warning\" href=\"#\" role=\"button\">Ea aliquip</a> </div> <div class=\"col-lg-3\"> <h4>Commodo</h4><p>Qui aliquip cillum aliqua commodo aliqua ullamco</p> <a class=\"btn btn-danger\" href=\"#\" role=\"button\">Ea aliquip</a> </div> </div> <div class=\"row\"><div class=\"col-lg-12\"> <h4>Qui</h4><p>Enim aliquip anim aliqua anim aliqua commodo</p> <a class=\"btn btn-warning\" href=\"#\" role=\"button\">Ea aliquip</a> </div> </div> </main> </body> </html> \n",
            "    Answer: <html> <body> <main class=\"container\"> <div class=\"header clearfix\"> <nav> <ul class=\"nav nav-pills pull-left\"> <li><a href=\"#\">Aute irure</a></li> <li><a href=\"#\">Do sint</a></li> <li><a href=\"#\">Amet non</a></li> <li><a href=\"#\">Magna labore</a></li> <li class=\"active\"><a href=\"#\">Voluptate do</a></li> </ul> </nav> </div> <div class=\"row\"><div class=\"col-lg-6\"> <h4>Lorem</h4><p>Aliquip ipsum ea culpa ut esse fugiat est</p> <a class=\"btn btn-success\" href=\"#\" role=\"button\">Fugiat qui</a> </div> <div class=\"col-lg-6\"> <h4>Ad</h4><p>Adipiscing consequat pariatur reprehenderit fugiat ad cillum</p> <a class=\"btn btn-success\" href=\"#\" role=\"button\">Nulla qui</a> </div> </div> <div class=\"row\"><div class=\"col-lg-3\"> <h4>Ex</h4><p>Minim laboris exercitation consectetur dolore fugiat ea</p> <a class=\"btn btn-danger\" href=\"#\" role=\"button\">Occaecat magna</a> </div> <div class=\"col-lg-3\"> <h4>Proident</h4><p>Dolor id aliquip esse exercitation et ullamco sunt</p> <a class=\"btn btn-danger\" href=\"#\" role=\"button\">Ut nulla</a> </div> <div class=\"col-lg-3\"> <h4>Laborum</h4><p>Nisi amet dolore esse et commodo voluptate nulla</p> <a class=\"btn btn-warning\" href=\"#\" role=\"button\">Ullamco culpa</a> </div> <div class=\"col-lg-3\"> <h4>Commodo</h4><p>Qui quis labore proident irure eu lorem ad</p> <a class=\"btn btn-danger\" href=\"#\" role=\"button\">Dolore sit</a> </div> </div> <div class=\"row\"><div class=\"col-lg-12\"> <h4>Qui</h4><p>Culpa voluptate velit in cupidatat consectetur veniam ea</p> <a class=\"btn btn-warning\" href=\"#\" role=\"button\">Aute eu</a> </div> </div> </main> </body> </html> \n",
            "      Bleu: 0.77\n",
            "\n",
            "Prediction: <html> <body> <main class=\"container\"> <div class=\"header clearfix\"> <nav> <ul class=\"nav nav-pills pull-left\"> <li class=\"active\"><a href=\"#\">Ea aliquip</a></li> <li><a href=\"#\">Et aliquip</a></li> <li><a href=\"#\">Et aliquip</a></li> <li><a href=\"#\">Et aliquip</a></li> </ul> </nav> </div> <div class=\"row\"><div class=\"col-lg-6\"> <h4>Pariatur</h4><p>Ea aliquip nostrud aliquip anim aliqua ullamco</p> <a class=\"btn btn-danger\" href=\"#\" role=\"button\">Ea aliquip</a> </div> <div class=\"col-lg-6\"> <h4>Labore</h4><p>Ea aliquip nostrud aliquip anim aliqua ullamco</p> <a class=\"btn btn-success\" href=\"#\" role=\"button\">Ea aliquip</a> </div> </div> <div class=\"row\"><div class=\"col-lg-3\"> <h4>Lorem</h4><p>Ea aliquip nostrud aliqua ullamco aliquip nostrud</p> <a class=\"btn btn-warning\" href=\"#\" role=\"button\">Ea aliquip</a> </div> <div class=\"col-lg-3\"> <h4>Ea</h4><p>Ea aliquip anim aliqua commodo aliquip anim</p> <a class=\"btn btn-warning\" href=\"#\" role=\"button\">Ea aliquip</a> </div> <div class=\"col-lg-3\"> <h4>Nisi</h4><p>Excepteur aliquip anim aliqua commodo aliquip anim</p> <a class=\"btn btn-danger\" href=\"#\" role=\"button\">Ea aliquip</a> </div> <div class=\"col-lg-3\"> <h4>Deserunt</h4><p>Eiusmod aliquip anim aliqua anim aliquip anim</p> <a class=\"btn btn-danger\" href=\"#\" role=\"button\">Ea aliquip</a> </div> </div> <div class=\"row\"><div class=\"col-lg-12\"> <h4>Anim</h4><p>Aute aliquip anim aliqua anim aliqua ullamco</p> <a class=\"btn btn-warning\" href=\"#\" role=\"button\">Ea aliquip</a> </div> </div> </main> </body> </html> \n",
            "    Answer: <html> <body> <main class=\"container\"> <div class=\"header clearfix\"> <nav> <ul class=\"nav nav-pills pull-left\"> <li class=\"active\"><a href=\"#\">Anim do</a></li> <li><a href=\"#\">Laboris labore</a></li> <li><a href=\"#\">Nulla officia</a></li> <li><a href=\"#\">Ipsum sunt</a></li> </ul> </nav> </div> <div class=\"row\"><div class=\"col-lg-6\"> <h4>Pariatur</h4><p>Tempor consequat aute sit minim irure sunt anim</p> <a class=\"btn btn-danger\" href=\"#\" role=\"button\">Esse enim</a> </div> <div class=\"col-lg-6\"> <h4>Labore</h4><p>Dolor laborum sunt anim et ad exercitation</p> <a class=\"btn btn-success\" href=\"#\" role=\"button\">Voluptate pariatur</a> </div> </div> <div class=\"row\"><div class=\"col-lg-3\"> <h4>Lorem</h4><p>Ipsum reprehenderit quis voluptate sed aliquip nulla veniam</p> <a class=\"btn btn-warning\" href=\"#\" role=\"button\">Ea magna</a> </div> <div class=\"col-lg-3\"> <h4>Ea</h4><p>Fugiat nostrud eiusmod sint ex nisi veniam</p> <a class=\"btn btn-warning\" href=\"#\" role=\"button\">Cupidatat pariatur</a> </div> <div class=\"col-lg-3\"> <h4>Nisi</h4><p>Est consequat amet quis aliqua adipiscing dolor veniam</p> <a class=\"btn btn-danger\" href=\"#\" role=\"button\">Exercitation anim</a> </div> <div class=\"col-lg-3\"> <h4>Deserunt</h4><p>Enim aliquip ut aliqua eu velit</p> <a class=\"btn btn-danger\" href=\"#\" role=\"button\">Consectetur reprehenderit</a> </div> </div> <div class=\"row\"><div class=\"col-lg-12\"> <h4>Anim</h4><p>Ad est tempor nisi aliqua qui dolore ullamco</p> <a class=\"btn btn-warning\" href=\"#\" role=\"button\">Qui enim</a> </div> </div> </main> </body> </html> \n",
            "      Bleu: 0.79\n",
            "\n",
            "Prediction: <html> <body> <main class=\"container\"> <div class=\"header clearfix\"> <nav> <ul class=\"nav nav-pills pull-left\"> <li><a href=\"#\">Et aliquip</a></li> <li><a href=\"#\">Aute commodo</a></li> <li><a href=\"#\">Aute anim</a></li> <li><a href=\"#\">Esse aliquip</a></li> <li class=\"active\"><a href=\"#\">Et aliquip</a></li> </ul> </nav> </div> <div class=\"row\"><div class=\"col-lg-3\"> <h4>Elit</h4><p>Esse aliquip anim aliqua anim aliquip anim</p> <a class=\"btn btn-success\" href=\"#\" role=\"button\">Et aliquip</a> </div> <div class=\"col-lg-3\"> <h4>In</h4><p>Esse aliquip anim aliqua anim aliquip anim</p> <a class=\"btn btn-warning\" href=\"#\" role=\"button\">Et aliquip</a> </div> <div class=\"col-lg-3\"> <h4>Mollit</h4><p>Esse aliquip anim aliqua anim aliquip anim</p> <a class=\"btn btn-success\" href=\"#\" role=\"button\">Et aliquip</a> </div> <div class=\"col-lg-3\"> <h4>Et</h4><p>Esse aliquip anim aliqua anim aliqua anim</p> <a class=\"btn btn-success\" href=\"#\" role=\"button\">Et aliquip</a> </div> </div> <div class=\"row\"><div class=\"col-lg-6\"> <h4>Do</h4><p>Enim aliquip anim aliqua anim aliqua anim</p> <a class=\"btn btn-danger\" href=\"#\" role=\"button\">Et aliquip</a> </div> <div class=\"col-lg-6\"> <h4>Deserunt</h4><p>Esse aliquip anim aliqua anim aliqua anim</p> <a class=\"btn btn-warning\" href=\"#\" role=\"button\">Et aliqua</a> </div> </div> </main> </body> </html> \n",
            "    Answer: <html> <body> <main class=\"container\"> <div class=\"header clearfix\"> <nav> <ul class=\"nav nav-pills pull-left\"> <li><a href=\"#\">Magna aliquip</a></li> <li><a href=\"#\">Enim voluptate</a></li> <li><a href=\"#\">Veniam aute</a></li> <li class=\"active\"><a href=\"#\">Magna velit</a></li> <li><a href=\"#\">Lorem incididunt</a></li> </ul> </nav> </div> <div class=\"row\"><div class=\"col-lg-3\"> <h4>Elit</h4><p>Sint deserunt tempor ex laborum</p> <a class=\"btn btn-success\" href=\"#\" role=\"button\">Dolore magna</a> </div> <div class=\"col-lg-3\"> <h4>In</h4><p>Fugiat elit sit duis dolore sint cillum eu</p> <a class=\"btn btn-warning\" href=\"#\" role=\"button\">Id occaecat</a> </div> <div class=\"col-lg-3\"> <h4>Mollit</h4><p>Amet occaecat officia qui elit et laborum nisi</p> <a class=\"btn btn-success\" href=\"#\" role=\"button\">Nisi nostrud</a> </div> <div class=\"col-lg-3\"> <h4>Et</h4><p>Consectetur occaecat aliqua magna ea dolore lorem irure</p> <a class=\"btn btn-success\" href=\"#\" role=\"button\">Magna anim</a> </div> </div> <div class=\"row\"><div class=\"col-lg-6\"> <h4>Do</h4><p>Quis nulla dolor excepteur sint ut laborum cupidatat</p> <a class=\"btn btn-danger\" href=\"#\" role=\"button\">Sit excepteur</a> </div> <div class=\"col-lg-6\"> <h4>Deserunt</h4><p>Ullamco consectetur nulla adipiscing occaecat non enim tempor</p> <a class=\"btn btn-warning\" href=\"#\" role=\"button\">Proident ipsum</a> </div> </div> </main> </body> </html> \n",
            "      Bleu: 0.75\n"
          ]
        },
        {
          "output_type": "stream",
          "name": "stderr",
          "text": [
            "Epoch 9/9 - valid loop: 100%|██████████| 2/2 [02:09<00:00, 64.69s/it, bleu_score=0.768]"
          ]
        },
        {
          "output_type": "stream",
          "name": "stdout",
          "text": [
            "\n",
            "Prediction: <html> <body> <main class=\"container\"> <div class=\"header clearfix\"> <nav> <ul class=\"nav nav-pills pull-left\"> <li><a href=\"#\">Esse aliquip</a></li> <li class=\"active\"><a href=\"#\">Esse aliquip</a></li> </ul> </nav> </div> <div class=\"row\"><div class=\"col-lg-3\"> <h4>Magna</h4><p>Esse aliquip commodo aliqua ullamco aliquip nostrud</p> <a class=\"btn btn-success\" href=\"#\" role=\"button\">Et aliquip</a> </div> <div class=\"col-lg-3\"> <h4>Esse</h4><p>Esse aliquip nostrud aliqua ullamco aliquip nostrud</p> <a class=\"btn btn-warning\" href=\"#\" role=\"button\">Esse aliquip</a> </div> <div class=\"col-lg-3\"> <h4>Et</h4><p>Esse aliquip cillum aliqua commodo aliquip nostrud</p> <a class=\"btn btn-danger\" href=\"#\" role=\"button\">Esse aliquip</a> </div> <div class=\"col-lg-3\"> <h4>Esse</h4><p>Esse aliquip cillum aliqua commodo aliqua ullamco</p> <a class=\"btn btn-success\" href=\"#\" role=\"button\">Esse aliquip</a> </div> </div> <div class=\"row\"><div class=\"col-lg-12\"> <h4>Mollit</h4><p>Esse aliquip anim aliqua ullamco aliqua commodo</p> <a class=\"btn btn-warning\" href=\"#\" role=\"button\">Esse aliquip</a> </div> </div> <div class=\"row\"><div class=\"col-lg-6\"> <h4>Ea</h4><p>Ea aliquip anim aliqua ullamco aliqua commodo</p> <a class=\"btn btn-warning\" href=\"#\" role=\"button\">Ea aliquip</a> </div> <div class=\"col-lg-6\"> <h4>Deserunt</h4><p>Esse aliquip cillum aliqua commodo aliqua ullamco</p> <a class=\"btn btn-danger\" href=\"#\" role=\"button\">Ea aliquip</a> </div> </div> </main> </body> </html> \n",
            "    Answer: <html> <body> <main class=\"container\"> <div class=\"header clearfix\"> <nav> <ul class=\"nav nav-pills pull-left\"> <li><a href=\"#\">Velit et</a></li> <li class=\"active\"><a href=\"#\">Pariatur velit</a></li> </ul> </nav> </div> <div class=\"row\"><div class=\"col-lg-3\"> <h4>Magna</h4><p>Nulla occaecat cillum non</p> <a class=\"btn btn-success\" href=\"#\" role=\"button\">Ex eu</a> </div> <div class=\"col-lg-3\"> <h4>Esse</h4><p>Amet aliquip duis ad eu lorem sunt</p> <a class=\"btn btn-warning\" href=\"#\" role=\"button\">Id reprehenderit</a> </div> <div class=\"col-lg-3\"> <h4>Et</h4><p>Amet sed occaecat eiusmod excepteur id nulla voluptate</p> <a class=\"btn btn-danger\" href=\"#\" role=\"button\">Sint eu</a> </div> <div class=\"col-lg-3\"> <h4>Esse</h4><p>Dolor est magna enim ullamco exercitation officia voluptate</p> <a class=\"btn btn-success\" href=\"#\" role=\"button\">Ea quis</a> </div> </div> <div class=\"row\"><div class=\"col-lg-12\"> <h4>Mollit</h4><p>Nostrud mollit commodo veniam voluptate occaecat elit duis</p> <a class=\"btn btn-warning\" href=\"#\" role=\"button\">Nostrud magna</a> </div> </div> <div class=\"row\"><div class=\"col-lg-6\"> <h4>Ea</h4><p>Excepteur nostrud anim tempor duis cupidatat</p> <a class=\"btn btn-warning\" href=\"#\" role=\"button\">Cillum esse</a> </div> <div class=\"col-lg-6\"> <h4>Deserunt</h4><p>In ut do ullamco</p> <a class=\"btn btn-danger\" href=\"#\" role=\"button\">Tempor exercitation</a> </div> </div> </main> </body> </html> \n",
            "      Bleu: 0.77\n",
            "\n",
            "Prediction: <html> <body> <main class=\"container\"> <div class=\"header clearfix\"> <nav> <ul class=\"nav nav-pills pull-left\"> <li><a href=\"#\">Et aliquip</a></li> <li class=\"active\"><a href=\"#\">Et aliquip</a></li> </ul> </nav> </div> <div class=\"row\"><div class=\"col-lg-6\"> <h4>Excepteur</h4><p>Enim aliquip nostrud aliquip commodo aliquip nostrud</p> <a class=\"btn btn-success\" href=\"#\" role=\"button\">Et aliquip</a> </div> <div class=\"col-lg-6\"> <h4>Occaecat</h4><p>Esse aliquip nostrud aliquip cillum aliquip nostrud</p> <a class=\"btn btn-warning\" href=\"#\" role=\"button\">Et aliquip</a> </div> </div> <div class=\"row\"><div class=\"col-lg-12\"> <h4>Irure</h4><p>Enim aliquip nostrud aliqua ullamco aliquip nostrud</p> <a class=\"btn btn-success\" href=\"#\" role=\"button\">Ea aliquip</a> </div> </div> <div class=\"row\"><div class=\"col-lg-3\"> <h4>Amet</h4><p>Enim aliquip nostrud aliqua ullamco aliquip nostrud</p> <a class=\"btn btn-success\" href=\"#\" role=\"button\">Ea aliquip</a> </div> <div class=\"col-lg-3\"> <h4>Dolore</h4><p>Esse aliquip nostrud aliqua ullamco aliquip nostrud</p> <a class=\"btn btn-danger\" href=\"#\" role=\"button\">Ea aliquip</a> </div> <div class=\"col-lg-3\"> <h4>Do</h4><p>Ea aliquip nostrud aliqua ullamco aliquip nostrud</p> <a class=\"btn btn-warning\" href=\"#\" role=\"button\">Ea aliquip</a> </div> <div class=\"col-lg-3\"> <h4>Veniam</h4><p>Esse aliquip nostrud aliqua cillum aliqua commodo aliqua</p> <a class=\"btn btn-success\" href=\"#\" role=\"button\">Ea aliquip</a> </div> </div> </main> </body> </html> \n",
            "    Answer: <html> <body> <main class=\"container\"> <div class=\"header clearfix\"> <nav> <ul class=\"nav nav-pills pull-left\"> <li><a href=\"#\">Ad adipiscing</a></li> <li class=\"active\"><a href=\"#\">Reprehenderit do</a></li> </ul> </nav> </div> <div class=\"row\"><div class=\"col-lg-6\"> <h4>Excepteur</h4><p>Consectetur elit deserunt ullamco labore lorem dolor esse</p> <a class=\"btn btn-success\" href=\"#\" role=\"button\">Consequat commodo</a> </div> <div class=\"col-lg-6\"> <h4>Occaecat</h4><p>Pariatur excepteur do et dolore id laborum sint</p> <a class=\"btn btn-warning\" href=\"#\" role=\"button\">Est ex</a> </div> </div> <div class=\"row\"><div class=\"col-lg-12\"> <h4>Irure</h4><p>Consequat in sunt qui dolor reprehenderit proident laboris</p> <a class=\"btn btn-success\" href=\"#\" role=\"button\">Irure dolore</a> </div> </div> <div class=\"row\"><div class=\"col-lg-3\"> <h4>Amet</h4><p>Lorem ut ullamco exercitation fugiat amet</p> <a class=\"btn btn-success\" href=\"#\" role=\"button\">Magna dolore</a> </div> <div class=\"col-lg-3\"> <h4>Dolore</h4><p>Aliquip consectetur ex sint cupidatat pariatur amet elit</p> <a class=\"btn btn-danger\" href=\"#\" role=\"button\">Adipiscing sunt</a> </div> <div class=\"col-lg-3\"> <h4>Do</h4><p>Qui proident officia mollit magna cupidatat esse duis</p> <a class=\"btn btn-warning\" href=\"#\" role=\"button\">Pariatur dolore</a> </div> <div class=\"col-lg-3\"> <h4>Veniam</h4><p>Eu sed pariatur</p> <a class=\"btn btn-success\" href=\"#\" role=\"button\">Sunt cupidatat</a> </div> </div> </main> </body> </html> \n",
            "      Bleu: 0.77\n",
            "\n",
            "Prediction: <html> <body> <main class=\"container\"> <div class=\"header clearfix\"> <nav> <ul class=\"nav nav-pills pull-left\"> <li><a href=\"#\">Et aliquip</a></li> <li class=\"active\"><a href=\"#\">Et aliquip</a></li> </ul> </nav> </div> <div class=\"row\"><div class=\"col-lg-3\"> <h4>Incididunt</h4><p>Et aliquip commodo aliquip anim aliqua ullamco</p> <a class=\"btn btn-warning\" href=\"#\" role=\"button\">Et aliquip</a> </div> <div class=\"col-lg-3\"> <h4>Qui</h4><p>Esse aliquip cillum aliquip nostrud aliqua ullamco</p> <a class=\"btn btn-warning\" href=\"#\" role=\"button\">Et aliquip</a> </div> <div class=\"col-lg-3\"> <h4>Duis</h4><p>Esse aliquip cillum aliquip nostrud aliqua</p> <a class=\"btn btn-success\" href=\"#\" role=\"button\">Et aliquip</a> </div> <div class=\"col-lg-3\"> <h4>Qui</h4><p>Esse aliquip cillum aliqua commodo aliquip anim</p> <a class=\"btn btn-warning\" href=\"#\" role=\"button\">Ea aliquip</a> </div> </div> <div class=\"row\"><div class=\"col-lg-12\"> <h4>Ut</h4><p>Enim aliquip anim aliqua ullamco aliquip</p> <a class=\"btn btn-warning\" href=\"#\" role=\"button\">Ea aliquip</a> </div> </div> <div class=\"row\"><div class=\"col-lg-6\"> <h4>Fugiat</h4><p>Dolor cillum aliquip nostrud aliqua ullamco aliqua</p> <a class=\"btn btn-warning\" href=\"#\" role=\"button\">Ea aliquip</a> </div> <div class=\"col-lg-6\"> <h4>Tempor</h4><p>Dolor cillum aliqua commodo aliqua ullamco aliqua</p> <a class=\"btn btn-warning\" href=\"#\" role=\"button\">Ea aliquip</a> </div> </div> </main> </body> </html> \n",
            "    Answer: <html> <body> <main class=\"container\"> <div class=\"header clearfix\"> <nav> <ul class=\"nav nav-pills pull-left\"> <li><a href=\"#\">Et irure</a></li> <li class=\"active\"><a href=\"#\">Non duis</a></li> </ul> </nav> </div> <div class=\"row\"><div class=\"col-lg-3\"> <h4>Incididunt</h4><p>Enim magna non laborum fugiat qui tempor id</p> <a class=\"btn btn-warning\" href=\"#\" role=\"button\">Nisi duis</a> </div> <div class=\"col-lg-3\"> <h4>Qui</h4><p>Labore officia eu proident excepteur adipiscing nulla id</p> <a class=\"btn btn-warning\" href=\"#\" role=\"button\">Fugiat quis</a> </div> <div class=\"col-lg-3\"> <h4>Duis</h4><p>Ullamco sit ipsum duis cillum minim laborum officia</p> <a class=\"btn btn-success\" href=\"#\" role=\"button\">Officia magna</a> </div> <div class=\"col-lg-3\"> <h4>Qui</h4><p>Aliquip elit ut et sed ipsum laboris aute</p> <a class=\"btn btn-warning\" href=\"#\" role=\"button\">Reprehenderit cupidatat</a> </div> </div> <div class=\"row\"><div class=\"col-lg-12\"> <h4>Ut</h4><p>Non culpa adipiscing reprehenderit nostrud anim</p> <a class=\"btn btn-warning\" href=\"#\" role=\"button\">Duis nulla</a> </div> </div> <div class=\"row\"><div class=\"col-lg-6\"> <h4>Fugiat</h4><p>Ipsum adipiscing sunt labore est aliqua consectetur do</p> <a class=\"btn btn-warning\" href=\"#\" role=\"button\">Elit officia</a> </div> <div class=\"col-lg-6\"> <h4>Tempor</h4><p>Deserunt ut minim aliquip irure aliqua nisi dolore</p> <a class=\"btn btn-warning\" href=\"#\" role=\"button\">Aute amet</a> </div> </div> </main> </body> </html> \n",
            "      Bleu: 0.75\n",
            "\n",
            "Prediction: <html> <body> <main class=\"container\"> <div class=\"header clearfix\"> <nav> <ul class=\"nav nav-pills pull-left\"> <li><a href=\"#\">Et aliquip</a></li> <li><a href=\"#\">Et aliquip</a></li> <li><a href=\"#\">Et aliquip</a></li> <li><a href=\"#\">Et aliquip</a></li> <li class=\"active\"><a href=\"#\">Et aliquip</a></li> </ul> </nav> </div> <div class=\"row\"><div class=\"col-lg-6\"> <h4>Excepteur</h4><p>Esse aliquip nostrud aliqua commodo aliquip anim</p> <a class=\"btn btn-danger\" href=\"#\" role=\"button\">Et aliquip</a> </div> <div class=\"col-lg-6\"> <h4>Quis</h4><p>Esse aliquip nostrud aliqua ullamco aliquip nostrud</p> <a class=\"btn btn-success\" href=\"#\" role=\"button\">Et aliquip</a> </div> </div> <div class=\"row\"><div class=\"col-lg-12\"> <h4>Nisi</h4><p>Enim aliquip nostrud aliqua ullamco aliquip nostrud</p> <a class=\"btn btn-warning\" href=\"#\" role=\"button\">Ea aliquip</a> </div> </div> <div class=\"row\"><div class=\"col-lg-3\"> <h4>Laborum</h4><p>Enim aliquip nostrud aliqua ullamco aliquip nostrud</p> <a class=\"btn btn-warning\" href=\"#\" role=\"button\">Ea aliquip</a> </div> <div class=\"col-lg-3\"> <h4>Consequat</h4><p>Esse aliquip anim aliqua anim aliqua ullamco</p> <a class=\"btn btn-success\" href=\"#\" role=\"button\">Ea aliquip</a> </div> <div class=\"col-lg-3\"> <h4>Qui</h4><p>Qui aliquip nostrud aliqua anim aliqua ullamco</p> <a class=\"btn btn-success\" href=\"#\" role=\"button\">Ea aliquip</a> </div> <div class=\"col-lg-3\"> <h4>Fugiat</h4><p>Amet aliquip anim aliqua anim aliqua commodo</p> <a class=\"btn btn-warning\" href=\"#\" role=\"button\">Ea aliquip</a> </div> </div> </main> </body> </html> \n",
            "    Answer: <html> <body> <main class=\"container\"> <div class=\"header clearfix\"> <nav> <ul class=\"nav nav-pills pull-left\"> <li><a href=\"#\">Excepteur culpa</a></li> <li><a href=\"#\">Adipiscing nulla</a></li> <li><a href=\"#\">Amet sed</a></li> <li class=\"active\"><a href=\"#\">Exercitation elit</a></li> <li><a href=\"#\">Tempor aliqua</a></li> </ul> </nav> </div> <div class=\"row\"><div class=\"col-lg-6\"> <h4>Excepteur</h4><p>Aute proident occaecat lorem incididunt</p> <a class=\"btn btn-danger\" href=\"#\" role=\"button\">Lorem eu</a> </div> <div class=\"col-lg-6\"> <h4>Quis</h4><p>Laboris in ipsum cillum dolor ea sint nostrud</p> <a class=\"btn btn-success\" href=\"#\" role=\"button\">Proident enim</a> </div> </div> <div class=\"row\"><div class=\"col-lg-12\"> <h4>Nisi</h4><p>In et officia consequat lorem eu non nulla</p> <a class=\"btn btn-warning\" href=\"#\" role=\"button\">Ad ut</a> </div> </div> <div class=\"row\"><div class=\"col-lg-3\"> <h4>Laborum</h4><p>Ut sunt occaecat ullamco dolor cupidatat amet est</p> <a class=\"btn btn-warning\" href=\"#\" role=\"button\">Cillum aute</a> </div> <div class=\"col-lg-3\"> <h4>Consequat</h4><p>Voluptate consequat enim aliquip officia aute excepteur pariatur</p> <a class=\"btn btn-success\" href=\"#\" role=\"button\">Labore qui</a> </div> <div class=\"col-lg-3\"> <h4>Qui</h4><p>Mollit sit non voluptate culpa qui sed reprehenderit</p> <a class=\"btn btn-success\" href=\"#\" role=\"button\">Dolore dolor</a> </div> <div class=\"col-lg-3\"> <h4>Fugiat</h4><p>Pariatur reprehenderit sunt ex consequat qui exercitation tempor</p> <a class=\"btn btn-warning\" href=\"#\" role=\"button\">In veniam</a> </div> </div> </main> </body> </html> \n",
            "      Bleu: 0.77\n",
            "\n",
            "Prediction: <html> <body> <main class=\"container\"> <div class=\"header clearfix\"> <nav> <ul class=\"nav nav-pills pull-left\"> <li class=\"active\"><a href=\"#\">Et aliquip</a></li> <li><a href=\"#\">Et aliquip</a></li> <li><a href=\"#\">Et aliquip</a></li> <li><a href=\"#\">Et aliquip</a></li> <li><a href=\"#\">Et aliquip</a></li> </ul> </nav> </div> <div class=\"row\"><div class=\"col-lg-6\"> <h4>Sed</h4><p>Et aliquip nostrud aliqua ullamco aliquip nostrud</p> <a class=\"btn btn-warning\" href=\"#\" role=\"button\">Et aliquip</a> </div> <div class=\"col-lg-6\"> <h4>Sit</h4><p>Esse aliquip nostrud aliqua ullamco aliquip nostrud</p> <a class=\"btn btn-danger\" href=\"#\" role=\"button\">Et aliquip</a> </div> </div> <div class=\"row\"><div class=\"col-lg-12\"> <h4>Voluptate</h4><p>Enim aliquip nostrud aliqua ullamco aliquip nostrud</p> <a class=\"btn btn-danger\" href=\"#\" role=\"button\">Et aliquip</a> </div> </div> <div class=\"row\"><div class=\"col-lg-3\"> <h4>Quis</h4><p>Enim aliquip nostrud aliqua ullamco aliquip nostrud</p> <a class=\"btn btn-warning\" href=\"#\" role=\"button\">Et aliquip</a> </div> <div class=\"col-lg-3\"> <h4>Veniam</h4><p>Esse aliquip nostrud aliqua ullamco aliquip commodo aliqua</p> <a class=\"btn btn-danger\" href=\"#\" role=\"button\">Ea aliquip</a> </div> <div class=\"col-lg-3\"> <h4>Dolore</h4><p>Ea aliquip cillum aliqua commodo aliqua ullamco</p> <a class=\"btn btn-danger\" href=\"#\" role=\"button\">Ea aliquip</a> </div> <div class=\"col-lg-3\"> <h4>Aliqua</h4><p>Eiusmod aliquip nostrud aliqua commodo aliqua ullamco</p> <a class=\"btn btn-success\" href=\"#\" role=\"button\">Ea aliquip</a> </div> </div> </main> </body> </html> \n",
            "    Answer: <html> <body> <main class=\"container\"> <div class=\"header clearfix\"> <nav> <ul class=\"nav nav-pills pull-left\"> <li class=\"active\"><a href=\"#\">Cupidatat ipsum</a></li> <li><a href=\"#\">Amet adipiscing</a></li> <li><a href=\"#\">Pariatur enim</a></li> <li><a href=\"#\">Exercitation pariatur</a></li> </ul> </nav> </div> <div class=\"row\"><div class=\"col-lg-6\"> <h4>Sed</h4><p>Laborum aliqua mollit nisi</p> <a class=\"btn btn-warning\" href=\"#\" role=\"button\">Magna ipsum</a> </div> <div class=\"col-lg-6\"> <h4>Sit</h4><p>Quis sint mollit incididunt ullamco sed ipsum nulla</p> <a class=\"btn btn-danger\" href=\"#\" role=\"button\">Commodo aliquip</a> </div> </div> <div class=\"row\"><div class=\"col-lg-12\"> <h4>Voluptate</h4><p>Incididunt nulla eu sed eiusmod tempor est proident</p> <a class=\"btn btn-danger\" href=\"#\" role=\"button\">Do proident</a> </div> </div> <div class=\"row\"><div class=\"col-lg-3\"> <h4>Quis</h4><p>Enim nostrud sunt adipiscing irure duis sed tempor</p> <a class=\"btn btn-warning\" href=\"#\" role=\"button\">Ad voluptate</a> </div> <div class=\"col-lg-3\"> <h4>Veniam</h4><p>Aute dolore proident reprehenderit sed</p> <a class=\"btn btn-danger\" href=\"#\" role=\"button\">Excepteur veniam</a> </div> <div class=\"col-lg-3\"> <h4>Dolore</h4><p>Adipiscing ipsum elit sunt in duis cillum eiusmod</p> <a class=\"btn btn-danger\" href=\"#\" role=\"button\">Nisi consequat</a> </div> <div class=\"col-lg-3\"> <h4>Aliqua</h4><p>Elit cupidatat aliqua ullamco mollit excepteur laboris cillum</p> <a class=\"btn btn-success\" href=\"#\" role=\"button\">Enim lorem</a> </div> </div> </main> </body> </html> \n",
            "      Bleu: 0.76\n",
            "\n",
            "Prediction: <html> <body> <main class=\"container\"> <div class=\"header clearfix\"> <nav> <ul class=\"nav nav-pills pull-left\"> <li><a href=\"#\">Et aliquip</a></li> <li><a href=\"#\">Et aliquip</a></li> <li><a href=\"#\">Et aliquip</a></li> <li><a href=\"#\">Et aliquip</a></li> <li class=\"active\"><a href=\"#\">Et aliquip</a></li> </ul> </nav> </div> <div class=\"row\"><div class=\"col-lg-6\"> <h4>Sed</h4><p>Et aliquip nostrud aliqua commodo aliquip anim</p> <a class=\"btn btn-danger\" href=\"#\" role=\"button\">Et aliquip</a> </div> <div class=\"col-lg-6\"> <h4>Laborum</h4><p>Esse aliquip nostrud aliqua anim aliquip anim</p> <a class=\"btn btn-warning\" href=\"#\" role=\"button\">Et aliquip</a> </div> </div> <div class=\"row\"><div class=\"col-lg-12\"> <h4>Laborum</h4><p>Enim aliquip nostrud aliqua anim aliquip anim</p> <a class=\"btn btn-warning\" href=\"#\" role=\"button\">Enim aliquip</a> </div> </div> <div class=\"row\"><div class=\"col-lg-3\"> <h4>Ea</h4><p>Enim aliquip nostrud aliqua anim aliquip anim</p> <a class=\"btn btn-success\" href=\"#\" role=\"button\">Ea aliquip</a> </div> <div class=\"col-lg-3\"> <h4>Do</h4><p>Esse aliquip anim aliqua anim aliqua ullamco</p> <a class=\"btn btn-warning\" href=\"#\" role=\"button\">Ea aliquip</a> </div> <div class=\"col-lg-3\"> <h4>Excepteur</h4><p>Aute aliquip nostrud aliqua anim aliqua ullamco</p> <a class=\"btn btn-success\" href=\"#\" role=\"button\">Ea aliquip</a> </div> <div class=\"col-lg-3\"> <h4>Aute</h4><p>Aute cillum aliqua commodo aliqua anim aliqua</p> <a class=\"btn btn-danger\" href=\"#\" role=\"button\">Ea aliquip</a> </div> </div> </main> </body> </html> \n",
            "    Answer: <html> <body> <main class=\"container\"> <div class=\"header clearfix\"> <nav> <ul class=\"nav nav-pills pull-left\"> <li><a href=\"#\">Cillum deserunt</a></li> <li><a href=\"#\">Culpa fugiat</a></li> <li class=\"active\"><a href=\"#\">Consequat nulla</a></li> <li><a href=\"#\">Quis ullamco</a></li> <li><a href=\"#\">Commodo non</a></li> </ul> </nav> </div> <div class=\"row\"><div class=\"col-lg-6\"> <h4>Sed</h4><p>Labore aliquip commodo anim elit eu lorem qui</p> <a class=\"btn btn-danger\" href=\"#\" role=\"button\">Proident mollit</a> </div> <div class=\"col-lg-6\"> <h4>Laborum</h4><p>Amet excepteur aliquip minim lorem</p> <a class=\"btn btn-warning\" href=\"#\" role=\"button\">Adipiscing sed</a> </div> </div> <div class=\"row\"><div class=\"col-lg-12\"> <h4>Laborum</h4><p>Consequat nulla id laborum sed ipsum magna proident</p> <a class=\"btn btn-warning\" href=\"#\" role=\"button\">Consequat ad</a> </div> </div> <div class=\"row\"><div class=\"col-lg-3\"> <h4>Ea</h4><p>Ex officia adipiscing est</p> <a class=\"btn btn-success\" href=\"#\" role=\"button\">Sunt occaecat</a> </div> <div class=\"col-lg-3\"> <h4>Do</h4><p>Amet laborum culpa ad aliquip deserunt id sed</p> <a class=\"btn btn-warning\" href=\"#\" role=\"button\">Sed aliqua</a> </div> <div class=\"col-lg-3\"> <h4>Excepteur</h4><p>Sint magna</p> <a class=\"btn btn-success\" href=\"#\" role=\"button\">Do lorem</a> </div> <div class=\"col-lg-3\"> <h4>Aute</h4><p>Non ad consequat reprehenderit ut nulla</p> <a class=\"btn btn-danger\" href=\"#\" role=\"button\">Eu et</a> </div> </div> </main> </body> </html> \n",
            "      Bleu: 0.78\n",
            "\n",
            "Prediction: <html> <body> <main class=\"container\"> <div class=\"header clearfix\"> <nav> <ul class=\"nav nav-pills pull-left\"> <li class=\"active\"><a href=\"#\">Ea aliquip</a></li> <li><a href=\"#\">Et aliquip</a></li> <li><a href=\"#\">Et aliquip</a></li> <li><a href=\"#\">Et aliquip</a></li> </ul> </nav> </div> <div class=\"row\"><div class=\"col-lg-6\"> <h4>Anim</h4><p>Esse aliquip cillum aliquip nostrud aliqua commodo</p> <a class=\"btn btn-danger\" href=\"#\" role=\"button\">Ea aliquip</a> </div> <div class=\"col-lg-6\"> <h4>Do</h4><p>Ea aliquip cillum aliquip nostrud aliqua commodo</p> <a class=\"btn btn-danger\" href=\"#\" role=\"button\">Ea aliquip</a> </div> </div> <div class=\"row\"><div class=\"col-lg-3\"> <h4>Tempor</h4><p>Ea aliquip cillum aliquip nostrud aliqua</p> <a class=\"btn btn-success\" href=\"#\" role=\"button\">Ea aliquip</a> </div> <div class=\"col-lg-3\"> <h4>Cupidatat</h4><p>Ea aliquip cillum aliqua commodo aliquip anim</p> <a class=\"btn btn-warning\" href=\"#\" role=\"button\">Ea aliquip</a> </div> <div class=\"col-lg-3\"> <h4>Elit</h4><p>Eiusmod aliquip anim aliqua commodo aliqua ullamco</p> <a class=\"btn btn-success\" href=\"#\" role=\"button\">Ea aliquip</a> </div> <div class=\"col-lg-3\"> <h4>Ut</h4><p>Culpa aliquip anim aliqua ullamco aliqua commodo</p> <a class=\"btn btn-success\" href=\"#\" role=\"button\">Ea aliquip</a> </div> </div> <div class=\"row\"><div class=\"col-lg-12\"> <h4>Exercitation</h4><p>Ea aliquip anim aliqua anim aliqua ullamco</p> <a class=\"btn btn-success\" href=\"#\" role=\"button\">Ea aliquip</a> </div> </div> </main> </body> </html> \n",
            "    Answer: <html> <body> <main class=\"container\"> <div class=\"header clearfix\"> <nav> <ul class=\"nav nav-pills pull-left\"> <li class=\"active\"><a href=\"#\">Incididunt ullamco</a></li> <li><a href=\"#\">Quis id</a></li> <li><a href=\"#\">Duis fugiat</a></li> <li><a href=\"#\">Est sunt</a></li> </ul> </nav> </div> <div class=\"row\"><div class=\"col-lg-6\"> <h4>Anim</h4><p>Anim magna nulla amet</p> <a class=\"btn btn-danger\" href=\"#\" role=\"button\">Deserunt ipsum</a> </div> <div class=\"col-lg-6\"> <h4>Do</h4><p>Id mollit nisi ullamco minim anim ex adipiscing</p> <a class=\"btn btn-danger\" href=\"#\" role=\"button\">Aute eiusmod</a> </div> </div> <div class=\"row\"><div class=\"col-lg-3\"> <h4>Tempor</h4><p>Officia eu lorem dolore sunt ut mollit anim</p> <a class=\"btn btn-success\" href=\"#\" role=\"button\">Voluptate ullamco</a> </div> <div class=\"col-lg-3\"> <h4>Cupidatat</h4><p>Nostrud occaecat est magna dolor cillum pariatur veniam</p> <a class=\"btn btn-warning\" href=\"#\" role=\"button\">Cillum nisi</a> </div> <div class=\"col-lg-3\"> <h4>Elit</h4><p>Id laborum adipiscing elit sint deserunt consequat nostrud</p> <a class=\"btn btn-success\" href=\"#\" role=\"button\">Veniam adipiscing</a> </div> <div class=\"col-lg-3\"> <h4>Ut</h4><p>Cupidatat aliqua quis eiusmod nulla exercitation reprehenderit do</p> <a class=\"btn btn-success\" href=\"#\" role=\"button\">Consequat tempor</a> </div> </div> <div class=\"row\"><div class=\"col-lg-12\"> <h4>Exercitation</h4><p>Labore dolore ipsum mollit nisi sint sit adipiscing</p> <a class=\"btn btn-success\" href=\"#\" role=\"button\">Dolor nulla</a> </div> </div> </main> </body> </html> \n",
            "      Bleu: 0.77\n",
            " Avg Bleu Score: 0.77\n"
          ]
        },
        {
          "output_type": "stream",
          "name": "stderr",
          "text": [
            "\n"
          ]
        },
        {
          "output_type": "display_data",
          "data": {
            "text/plain": [
              "<IPython.core.display.HTML object>"
            ],
            "text/html": [
              "Waiting for W&B process to finish... <strong style=\"color:green\">(success).</strong>"
            ]
          },
          "metadata": {}
        },
        {
          "output_type": "display_data",
          "data": {
            "text/plain": [
              "<IPython.core.display.HTML object>"
            ],
            "text/html": [
              "<style>\n",
              "    table.wandb td:nth-child(1) { padding: 0 10px; text-align: left ; width: auto;} td:nth-child(2) {text-align: left ; width: 100%}\n",
              "    .wandb-row { display: flex; flex-direction: row; flex-wrap: wrap; justify-content: flex-start; width: 100% }\n",
              "    .wandb-col { display: flex; flex-direction: column; flex-basis: 100%; flex: 1; padding: 10px; }\n",
              "    </style>\n",
              "<div class=\"wandb-row\"><div class=\"wandb-col\"><h3>Run history:</h3><br/><table class=\"wandb\"><tr><td>bleu</td><td>▁▇█</td></tr><tr><td>loss</td><td>█▃▂▁▁▁▁▁▁▁▁▁▁▁▁▁▁▁▁▁▁▁▁▁▁▁▁▁▁▁▁▁▁▁▁▁▁▁▁▁</td></tr><tr><td>lr_0</td><td>▇█▇▇▅▄▃▂▁▁</td></tr><tr><td>moving_avg_loss</td><td>█▅▃▃▂▂▂▁▁▁</td></tr></table><br/></div><div class=\"wandb-col\"><h3>Run summary:</h3><br/><table class=\"wandb\"><tr><td>bleu</td><td>0.76759</td></tr><tr><td>loss</td><td>0.54985</td></tr><tr><td>lr_0</td><td>0.0</td></tr><tr><td>moving_avg_loss</td><td>0.54912</td></tr></table><br/></div></div>"
            ]
          },
          "metadata": {}
        },
        {
          "output_type": "display_data",
          "data": {
            "text/plain": [
              "<IPython.core.display.HTML object>"
            ],
            "text/html": [
              " View run <strong style=\"color:#cdcd00\">run-Pix2Struct_Pix2Code_HTML_LI</strong> at: <a href='https://wandb.ai/team-gs/Pix2Struct/runs/vyxx13ho' target=\"_blank\">https://wandb.ai/team-gs/Pix2Struct/runs/vyxx13ho</a><br/>Synced 5 W&B file(s), 0 media file(s), 0 artifact file(s) and 0 other file(s)"
            ]
          },
          "metadata": {}
        },
        {
          "output_type": "display_data",
          "data": {
            "text/plain": [
              "<IPython.core.display.HTML object>"
            ],
            "text/html": [
              "Find logs at: <code>./wandb/run-20230925_123458-vyxx13ho/logs</code>"
            ]
          },
          "metadata": {}
        }
      ],
      "source": [
        "train_model(config, processor, model, train_dataloader, val_dataloader)"
      ]
    }
  ]
}