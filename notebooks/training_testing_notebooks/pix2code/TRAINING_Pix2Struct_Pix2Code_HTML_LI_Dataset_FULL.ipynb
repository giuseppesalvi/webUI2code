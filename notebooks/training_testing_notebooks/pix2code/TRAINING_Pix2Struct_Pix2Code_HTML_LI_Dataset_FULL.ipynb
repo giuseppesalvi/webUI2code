{
  "nbformat": 4,
  "nbformat_minor": 0,
  "metadata": {
    "colab": {
      "provenance": [],
      "machine_shape": "hm",
      "gpuType": "A100"
    },
    "kernelspec": {
      "name": "python3",
      "display_name": "Python 3"
    },
    "language_info": {
      "name": "python"
    },
    "accelerator": "GPU",
    "widgets": {
      "application/vnd.jupyter.widget-state+json": {
        "29720fcae3fe4ac494ee97d409c267c4": {
          "model_module": "@jupyter-widgets/controls",
          "model_name": "HBoxModel",
          "model_module_version": "1.5.0",
          "state": {
            "_dom_classes": [],
            "_model_module": "@jupyter-widgets/controls",
            "_model_module_version": "1.5.0",
            "_model_name": "HBoxModel",
            "_view_count": null,
            "_view_module": "@jupyter-widgets/controls",
            "_view_module_version": "1.5.0",
            "_view_name": "HBoxView",
            "box_style": "",
            "children": [
              "IPY_MODEL_4ef408a77df64b1f9f03d104a991297e",
              "IPY_MODEL_da9a93f5867e45db9620cbe53e5c1787",
              "IPY_MODEL_12d4d2debaa24082bbf4a5fbc958fd06"
            ],
            "layout": "IPY_MODEL_9cd0fade22b14c4897fa5158843d868d"
          }
        },
        "4ef408a77df64b1f9f03d104a991297e": {
          "model_module": "@jupyter-widgets/controls",
          "model_name": "HTMLModel",
          "model_module_version": "1.5.0",
          "state": {
            "_dom_classes": [],
            "_model_module": "@jupyter-widgets/controls",
            "_model_module_version": "1.5.0",
            "_model_name": "HTMLModel",
            "_view_count": null,
            "_view_module": "@jupyter-widgets/controls",
            "_view_module_version": "1.5.0",
            "_view_name": "HTMLView",
            "description": "",
            "description_tooltip": null,
            "layout": "IPY_MODEL_6f7345aebff147a7a805d020b5d4b6a4",
            "placeholder": "​",
            "style": "IPY_MODEL_b31d352f70664ceab4ceaff6f1ddce39",
            "value": "Downloading (…)rocessor_config.json: 100%"
          }
        },
        "da9a93f5867e45db9620cbe53e5c1787": {
          "model_module": "@jupyter-widgets/controls",
          "model_name": "FloatProgressModel",
          "model_module_version": "1.5.0",
          "state": {
            "_dom_classes": [],
            "_model_module": "@jupyter-widgets/controls",
            "_model_module_version": "1.5.0",
            "_model_name": "FloatProgressModel",
            "_view_count": null,
            "_view_module": "@jupyter-widgets/controls",
            "_view_module_version": "1.5.0",
            "_view_name": "ProgressView",
            "bar_style": "success",
            "description": "",
            "description_tooltip": null,
            "layout": "IPY_MODEL_c148516232f64ea292d9c3f3c6ffb677",
            "max": 231,
            "min": 0,
            "orientation": "horizontal",
            "style": "IPY_MODEL_3ed050b64a754e198f6289dc8db35a7d",
            "value": 231
          }
        },
        "12d4d2debaa24082bbf4a5fbc958fd06": {
          "model_module": "@jupyter-widgets/controls",
          "model_name": "HTMLModel",
          "model_module_version": "1.5.0",
          "state": {
            "_dom_classes": [],
            "_model_module": "@jupyter-widgets/controls",
            "_model_module_version": "1.5.0",
            "_model_name": "HTMLModel",
            "_view_count": null,
            "_view_module": "@jupyter-widgets/controls",
            "_view_module_version": "1.5.0",
            "_view_name": "HTMLView",
            "description": "",
            "description_tooltip": null,
            "layout": "IPY_MODEL_b0389f0765bc40c9ad8ba19c6c7a7f66",
            "placeholder": "​",
            "style": "IPY_MODEL_ce9b19084a89431ba9622ca178e6f848",
            "value": " 231/231 [00:00&lt;00:00, 18.5kB/s]"
          }
        },
        "9cd0fade22b14c4897fa5158843d868d": {
          "model_module": "@jupyter-widgets/base",
          "model_name": "LayoutModel",
          "model_module_version": "1.2.0",
          "state": {
            "_model_module": "@jupyter-widgets/base",
            "_model_module_version": "1.2.0",
            "_model_name": "LayoutModel",
            "_view_count": null,
            "_view_module": "@jupyter-widgets/base",
            "_view_module_version": "1.2.0",
            "_view_name": "LayoutView",
            "align_content": null,
            "align_items": null,
            "align_self": null,
            "border": null,
            "bottom": null,
            "display": null,
            "flex": null,
            "flex_flow": null,
            "grid_area": null,
            "grid_auto_columns": null,
            "grid_auto_flow": null,
            "grid_auto_rows": null,
            "grid_column": null,
            "grid_gap": null,
            "grid_row": null,
            "grid_template_areas": null,
            "grid_template_columns": null,
            "grid_template_rows": null,
            "height": null,
            "justify_content": null,
            "justify_items": null,
            "left": null,
            "margin": null,
            "max_height": null,
            "max_width": null,
            "min_height": null,
            "min_width": null,
            "object_fit": null,
            "object_position": null,
            "order": null,
            "overflow": null,
            "overflow_x": null,
            "overflow_y": null,
            "padding": null,
            "right": null,
            "top": null,
            "visibility": null,
            "width": null
          }
        },
        "6f7345aebff147a7a805d020b5d4b6a4": {
          "model_module": "@jupyter-widgets/base",
          "model_name": "LayoutModel",
          "model_module_version": "1.2.0",
          "state": {
            "_model_module": "@jupyter-widgets/base",
            "_model_module_version": "1.2.0",
            "_model_name": "LayoutModel",
            "_view_count": null,
            "_view_module": "@jupyter-widgets/base",
            "_view_module_version": "1.2.0",
            "_view_name": "LayoutView",
            "align_content": null,
            "align_items": null,
            "align_self": null,
            "border": null,
            "bottom": null,
            "display": null,
            "flex": null,
            "flex_flow": null,
            "grid_area": null,
            "grid_auto_columns": null,
            "grid_auto_flow": null,
            "grid_auto_rows": null,
            "grid_column": null,
            "grid_gap": null,
            "grid_row": null,
            "grid_template_areas": null,
            "grid_template_columns": null,
            "grid_template_rows": null,
            "height": null,
            "justify_content": null,
            "justify_items": null,
            "left": null,
            "margin": null,
            "max_height": null,
            "max_width": null,
            "min_height": null,
            "min_width": null,
            "object_fit": null,
            "object_position": null,
            "order": null,
            "overflow": null,
            "overflow_x": null,
            "overflow_y": null,
            "padding": null,
            "right": null,
            "top": null,
            "visibility": null,
            "width": null
          }
        },
        "b31d352f70664ceab4ceaff6f1ddce39": {
          "model_module": "@jupyter-widgets/controls",
          "model_name": "DescriptionStyleModel",
          "model_module_version": "1.5.0",
          "state": {
            "_model_module": "@jupyter-widgets/controls",
            "_model_module_version": "1.5.0",
            "_model_name": "DescriptionStyleModel",
            "_view_count": null,
            "_view_module": "@jupyter-widgets/base",
            "_view_module_version": "1.2.0",
            "_view_name": "StyleView",
            "description_width": ""
          }
        },
        "c148516232f64ea292d9c3f3c6ffb677": {
          "model_module": "@jupyter-widgets/base",
          "model_name": "LayoutModel",
          "model_module_version": "1.2.0",
          "state": {
            "_model_module": "@jupyter-widgets/base",
            "_model_module_version": "1.2.0",
            "_model_name": "LayoutModel",
            "_view_count": null,
            "_view_module": "@jupyter-widgets/base",
            "_view_module_version": "1.2.0",
            "_view_name": "LayoutView",
            "align_content": null,
            "align_items": null,
            "align_self": null,
            "border": null,
            "bottom": null,
            "display": null,
            "flex": null,
            "flex_flow": null,
            "grid_area": null,
            "grid_auto_columns": null,
            "grid_auto_flow": null,
            "grid_auto_rows": null,
            "grid_column": null,
            "grid_gap": null,
            "grid_row": null,
            "grid_template_areas": null,
            "grid_template_columns": null,
            "grid_template_rows": null,
            "height": null,
            "justify_content": null,
            "justify_items": null,
            "left": null,
            "margin": null,
            "max_height": null,
            "max_width": null,
            "min_height": null,
            "min_width": null,
            "object_fit": null,
            "object_position": null,
            "order": null,
            "overflow": null,
            "overflow_x": null,
            "overflow_y": null,
            "padding": null,
            "right": null,
            "top": null,
            "visibility": null,
            "width": null
          }
        },
        "3ed050b64a754e198f6289dc8db35a7d": {
          "model_module": "@jupyter-widgets/controls",
          "model_name": "ProgressStyleModel",
          "model_module_version": "1.5.0",
          "state": {
            "_model_module": "@jupyter-widgets/controls",
            "_model_module_version": "1.5.0",
            "_model_name": "ProgressStyleModel",
            "_view_count": null,
            "_view_module": "@jupyter-widgets/base",
            "_view_module_version": "1.2.0",
            "_view_name": "StyleView",
            "bar_color": null,
            "description_width": ""
          }
        },
        "b0389f0765bc40c9ad8ba19c6c7a7f66": {
          "model_module": "@jupyter-widgets/base",
          "model_name": "LayoutModel",
          "model_module_version": "1.2.0",
          "state": {
            "_model_module": "@jupyter-widgets/base",
            "_model_module_version": "1.2.0",
            "_model_name": "LayoutModel",
            "_view_count": null,
            "_view_module": "@jupyter-widgets/base",
            "_view_module_version": "1.2.0",
            "_view_name": "LayoutView",
            "align_content": null,
            "align_items": null,
            "align_self": null,
            "border": null,
            "bottom": null,
            "display": null,
            "flex": null,
            "flex_flow": null,
            "grid_area": null,
            "grid_auto_columns": null,
            "grid_auto_flow": null,
            "grid_auto_rows": null,
            "grid_column": null,
            "grid_gap": null,
            "grid_row": null,
            "grid_template_areas": null,
            "grid_template_columns": null,
            "grid_template_rows": null,
            "height": null,
            "justify_content": null,
            "justify_items": null,
            "left": null,
            "margin": null,
            "max_height": null,
            "max_width": null,
            "min_height": null,
            "min_width": null,
            "object_fit": null,
            "object_position": null,
            "order": null,
            "overflow": null,
            "overflow_x": null,
            "overflow_y": null,
            "padding": null,
            "right": null,
            "top": null,
            "visibility": null,
            "width": null
          }
        },
        "ce9b19084a89431ba9622ca178e6f848": {
          "model_module": "@jupyter-widgets/controls",
          "model_name": "DescriptionStyleModel",
          "model_module_version": "1.5.0",
          "state": {
            "_model_module": "@jupyter-widgets/controls",
            "_model_module_version": "1.5.0",
            "_model_name": "DescriptionStyleModel",
            "_view_count": null,
            "_view_module": "@jupyter-widgets/base",
            "_view_module_version": "1.2.0",
            "_view_name": "StyleView",
            "description_width": ""
          }
        },
        "6b01e53a438b45d69ebbd5b8d45d8304": {
          "model_module": "@jupyter-widgets/controls",
          "model_name": "HBoxModel",
          "model_module_version": "1.5.0",
          "state": {
            "_dom_classes": [],
            "_model_module": "@jupyter-widgets/controls",
            "_model_module_version": "1.5.0",
            "_model_name": "HBoxModel",
            "_view_count": null,
            "_view_module": "@jupyter-widgets/controls",
            "_view_module_version": "1.5.0",
            "_view_name": "HBoxView",
            "box_style": "",
            "children": [
              "IPY_MODEL_d55f253302134ebc884bb9739a9d7afa",
              "IPY_MODEL_6f276c752a7d427cac25cbd0a4235571",
              "IPY_MODEL_f03ca4a7115744199cb4a41abd92591b"
            ],
            "layout": "IPY_MODEL_ae52c5c331cc4bb5be0caac2927789a7"
          }
        },
        "d55f253302134ebc884bb9739a9d7afa": {
          "model_module": "@jupyter-widgets/controls",
          "model_name": "HTMLModel",
          "model_module_version": "1.5.0",
          "state": {
            "_dom_classes": [],
            "_model_module": "@jupyter-widgets/controls",
            "_model_module_version": "1.5.0",
            "_model_name": "HTMLModel",
            "_view_count": null,
            "_view_module": "@jupyter-widgets/controls",
            "_view_module_version": "1.5.0",
            "_view_name": "HTMLView",
            "description": "",
            "description_tooltip": null,
            "layout": "IPY_MODEL_8dbc76d9866c481cafdcb28cb08bcc2e",
            "placeholder": "​",
            "style": "IPY_MODEL_ccf54d7da8ba458bb15bbf8bafa8ec7e",
            "value": "Downloading (…)okenizer_config.json: 100%"
          }
        },
        "6f276c752a7d427cac25cbd0a4235571": {
          "model_module": "@jupyter-widgets/controls",
          "model_name": "FloatProgressModel",
          "model_module_version": "1.5.0",
          "state": {
            "_dom_classes": [],
            "_model_module": "@jupyter-widgets/controls",
            "_model_module_version": "1.5.0",
            "_model_name": "FloatProgressModel",
            "_view_count": null,
            "_view_module": "@jupyter-widgets/controls",
            "_view_module_version": "1.5.0",
            "_view_name": "ProgressView",
            "bar_style": "success",
            "description": "",
            "description_tooltip": null,
            "layout": "IPY_MODEL_3daeea1ba75f4410abc56bdc7a1d0677",
            "max": 2613,
            "min": 0,
            "orientation": "horizontal",
            "style": "IPY_MODEL_d2d8ee8a6fec446bbcfd2d8a0bf15652",
            "value": 2613
          }
        },
        "f03ca4a7115744199cb4a41abd92591b": {
          "model_module": "@jupyter-widgets/controls",
          "model_name": "HTMLModel",
          "model_module_version": "1.5.0",
          "state": {
            "_dom_classes": [],
            "_model_module": "@jupyter-widgets/controls",
            "_model_module_version": "1.5.0",
            "_model_name": "HTMLModel",
            "_view_count": null,
            "_view_module": "@jupyter-widgets/controls",
            "_view_module_version": "1.5.0",
            "_view_name": "HTMLView",
            "description": "",
            "description_tooltip": null,
            "layout": "IPY_MODEL_e6ca9584de98431a91999d2299ba5044",
            "placeholder": "​",
            "style": "IPY_MODEL_71dae87e3d624d0c87e4b4baf359aa86",
            "value": " 2.61k/2.61k [00:00&lt;00:00, 227kB/s]"
          }
        },
        "ae52c5c331cc4bb5be0caac2927789a7": {
          "model_module": "@jupyter-widgets/base",
          "model_name": "LayoutModel",
          "model_module_version": "1.2.0",
          "state": {
            "_model_module": "@jupyter-widgets/base",
            "_model_module_version": "1.2.0",
            "_model_name": "LayoutModel",
            "_view_count": null,
            "_view_module": "@jupyter-widgets/base",
            "_view_module_version": "1.2.0",
            "_view_name": "LayoutView",
            "align_content": null,
            "align_items": null,
            "align_self": null,
            "border": null,
            "bottom": null,
            "display": null,
            "flex": null,
            "flex_flow": null,
            "grid_area": null,
            "grid_auto_columns": null,
            "grid_auto_flow": null,
            "grid_auto_rows": null,
            "grid_column": null,
            "grid_gap": null,
            "grid_row": null,
            "grid_template_areas": null,
            "grid_template_columns": null,
            "grid_template_rows": null,
            "height": null,
            "justify_content": null,
            "justify_items": null,
            "left": null,
            "margin": null,
            "max_height": null,
            "max_width": null,
            "min_height": null,
            "min_width": null,
            "object_fit": null,
            "object_position": null,
            "order": null,
            "overflow": null,
            "overflow_x": null,
            "overflow_y": null,
            "padding": null,
            "right": null,
            "top": null,
            "visibility": null,
            "width": null
          }
        },
        "8dbc76d9866c481cafdcb28cb08bcc2e": {
          "model_module": "@jupyter-widgets/base",
          "model_name": "LayoutModel",
          "model_module_version": "1.2.0",
          "state": {
            "_model_module": "@jupyter-widgets/base",
            "_model_module_version": "1.2.0",
            "_model_name": "LayoutModel",
            "_view_count": null,
            "_view_module": "@jupyter-widgets/base",
            "_view_module_version": "1.2.0",
            "_view_name": "LayoutView",
            "align_content": null,
            "align_items": null,
            "align_self": null,
            "border": null,
            "bottom": null,
            "display": null,
            "flex": null,
            "flex_flow": null,
            "grid_area": null,
            "grid_auto_columns": null,
            "grid_auto_flow": null,
            "grid_auto_rows": null,
            "grid_column": null,
            "grid_gap": null,
            "grid_row": null,
            "grid_template_areas": null,
            "grid_template_columns": null,
            "grid_template_rows": null,
            "height": null,
            "justify_content": null,
            "justify_items": null,
            "left": null,
            "margin": null,
            "max_height": null,
            "max_width": null,
            "min_height": null,
            "min_width": null,
            "object_fit": null,
            "object_position": null,
            "order": null,
            "overflow": null,
            "overflow_x": null,
            "overflow_y": null,
            "padding": null,
            "right": null,
            "top": null,
            "visibility": null,
            "width": null
          }
        },
        "ccf54d7da8ba458bb15bbf8bafa8ec7e": {
          "model_module": "@jupyter-widgets/controls",
          "model_name": "DescriptionStyleModel",
          "model_module_version": "1.5.0",
          "state": {
            "_model_module": "@jupyter-widgets/controls",
            "_model_module_version": "1.5.0",
            "_model_name": "DescriptionStyleModel",
            "_view_count": null,
            "_view_module": "@jupyter-widgets/base",
            "_view_module_version": "1.2.0",
            "_view_name": "StyleView",
            "description_width": ""
          }
        },
        "3daeea1ba75f4410abc56bdc7a1d0677": {
          "model_module": "@jupyter-widgets/base",
          "model_name": "LayoutModel",
          "model_module_version": "1.2.0",
          "state": {
            "_model_module": "@jupyter-widgets/base",
            "_model_module_version": "1.2.0",
            "_model_name": "LayoutModel",
            "_view_count": null,
            "_view_module": "@jupyter-widgets/base",
            "_view_module_version": "1.2.0",
            "_view_name": "LayoutView",
            "align_content": null,
            "align_items": null,
            "align_self": null,
            "border": null,
            "bottom": null,
            "display": null,
            "flex": null,
            "flex_flow": null,
            "grid_area": null,
            "grid_auto_columns": null,
            "grid_auto_flow": null,
            "grid_auto_rows": null,
            "grid_column": null,
            "grid_gap": null,
            "grid_row": null,
            "grid_template_areas": null,
            "grid_template_columns": null,
            "grid_template_rows": null,
            "height": null,
            "justify_content": null,
            "justify_items": null,
            "left": null,
            "margin": null,
            "max_height": null,
            "max_width": null,
            "min_height": null,
            "min_width": null,
            "object_fit": null,
            "object_position": null,
            "order": null,
            "overflow": null,
            "overflow_x": null,
            "overflow_y": null,
            "padding": null,
            "right": null,
            "top": null,
            "visibility": null,
            "width": null
          }
        },
        "d2d8ee8a6fec446bbcfd2d8a0bf15652": {
          "model_module": "@jupyter-widgets/controls",
          "model_name": "ProgressStyleModel",
          "model_module_version": "1.5.0",
          "state": {
            "_model_module": "@jupyter-widgets/controls",
            "_model_module_version": "1.5.0",
            "_model_name": "ProgressStyleModel",
            "_view_count": null,
            "_view_module": "@jupyter-widgets/base",
            "_view_module_version": "1.2.0",
            "_view_name": "StyleView",
            "bar_color": null,
            "description_width": ""
          }
        },
        "e6ca9584de98431a91999d2299ba5044": {
          "model_module": "@jupyter-widgets/base",
          "model_name": "LayoutModel",
          "model_module_version": "1.2.0",
          "state": {
            "_model_module": "@jupyter-widgets/base",
            "_model_module_version": "1.2.0",
            "_model_name": "LayoutModel",
            "_view_count": null,
            "_view_module": "@jupyter-widgets/base",
            "_view_module_version": "1.2.0",
            "_view_name": "LayoutView",
            "align_content": null,
            "align_items": null,
            "align_self": null,
            "border": null,
            "bottom": null,
            "display": null,
            "flex": null,
            "flex_flow": null,
            "grid_area": null,
            "grid_auto_columns": null,
            "grid_auto_flow": null,
            "grid_auto_rows": null,
            "grid_column": null,
            "grid_gap": null,
            "grid_row": null,
            "grid_template_areas": null,
            "grid_template_columns": null,
            "grid_template_rows": null,
            "height": null,
            "justify_content": null,
            "justify_items": null,
            "left": null,
            "margin": null,
            "max_height": null,
            "max_width": null,
            "min_height": null,
            "min_width": null,
            "object_fit": null,
            "object_position": null,
            "order": null,
            "overflow": null,
            "overflow_x": null,
            "overflow_y": null,
            "padding": null,
            "right": null,
            "top": null,
            "visibility": null,
            "width": null
          }
        },
        "71dae87e3d624d0c87e4b4baf359aa86": {
          "model_module": "@jupyter-widgets/controls",
          "model_name": "DescriptionStyleModel",
          "model_module_version": "1.5.0",
          "state": {
            "_model_module": "@jupyter-widgets/controls",
            "_model_module_version": "1.5.0",
            "_model_name": "DescriptionStyleModel",
            "_view_count": null,
            "_view_module": "@jupyter-widgets/base",
            "_view_module_version": "1.2.0",
            "_view_name": "StyleView",
            "description_width": ""
          }
        },
        "8da106cae09e4ace876751f4312c7cfd": {
          "model_module": "@jupyter-widgets/controls",
          "model_name": "HBoxModel",
          "model_module_version": "1.5.0",
          "state": {
            "_dom_classes": [],
            "_model_module": "@jupyter-widgets/controls",
            "_model_module_version": "1.5.0",
            "_model_name": "HBoxModel",
            "_view_count": null,
            "_view_module": "@jupyter-widgets/controls",
            "_view_module_version": "1.5.0",
            "_view_name": "HBoxView",
            "box_style": "",
            "children": [
              "IPY_MODEL_a1af2c3efad644f7a62f30bead4f5fd3",
              "IPY_MODEL_8ade831958004c639f621ba31a9fbce9",
              "IPY_MODEL_a4931be4a4cc4b3581b28bc60c5bfda5"
            ],
            "layout": "IPY_MODEL_002f64a5c86a451d87c6a60d0f3ef6fd"
          }
        },
        "a1af2c3efad644f7a62f30bead4f5fd3": {
          "model_module": "@jupyter-widgets/controls",
          "model_name": "HTMLModel",
          "model_module_version": "1.5.0",
          "state": {
            "_dom_classes": [],
            "_model_module": "@jupyter-widgets/controls",
            "_model_module_version": "1.5.0",
            "_model_name": "HTMLModel",
            "_view_count": null,
            "_view_module": "@jupyter-widgets/controls",
            "_view_module_version": "1.5.0",
            "_view_name": "HTMLView",
            "description": "",
            "description_tooltip": null,
            "layout": "IPY_MODEL_baf2f54b2eff47eeb0a3f9d83c3c8780",
            "placeholder": "​",
            "style": "IPY_MODEL_f4746e571144423483141b0ce259d718",
            "value": "Downloading spiece.model: 100%"
          }
        },
        "8ade831958004c639f621ba31a9fbce9": {
          "model_module": "@jupyter-widgets/controls",
          "model_name": "FloatProgressModel",
          "model_module_version": "1.5.0",
          "state": {
            "_dom_classes": [],
            "_model_module": "@jupyter-widgets/controls",
            "_model_module_version": "1.5.0",
            "_model_name": "FloatProgressModel",
            "_view_count": null,
            "_view_module": "@jupyter-widgets/controls",
            "_view_module_version": "1.5.0",
            "_view_name": "ProgressView",
            "bar_style": "success",
            "description": "",
            "description_tooltip": null,
            "layout": "IPY_MODEL_71b578d459164366aa57668c78bc4c55",
            "max": 851388,
            "min": 0,
            "orientation": "horizontal",
            "style": "IPY_MODEL_15dc4a0275b54a96a5af6a79ad19b9c0",
            "value": 851388
          }
        },
        "a4931be4a4cc4b3581b28bc60c5bfda5": {
          "model_module": "@jupyter-widgets/controls",
          "model_name": "HTMLModel",
          "model_module_version": "1.5.0",
          "state": {
            "_dom_classes": [],
            "_model_module": "@jupyter-widgets/controls",
            "_model_module_version": "1.5.0",
            "_model_name": "HTMLModel",
            "_view_count": null,
            "_view_module": "@jupyter-widgets/controls",
            "_view_module_version": "1.5.0",
            "_view_name": "HTMLView",
            "description": "",
            "description_tooltip": null,
            "layout": "IPY_MODEL_217e3a32570842db9cb13400147fcfb4",
            "placeholder": "​",
            "style": "IPY_MODEL_7764a2f48db14a77b9f8aadcec497a94",
            "value": " 851k/851k [00:00&lt;00:00, 25.2MB/s]"
          }
        },
        "002f64a5c86a451d87c6a60d0f3ef6fd": {
          "model_module": "@jupyter-widgets/base",
          "model_name": "LayoutModel",
          "model_module_version": "1.2.0",
          "state": {
            "_model_module": "@jupyter-widgets/base",
            "_model_module_version": "1.2.0",
            "_model_name": "LayoutModel",
            "_view_count": null,
            "_view_module": "@jupyter-widgets/base",
            "_view_module_version": "1.2.0",
            "_view_name": "LayoutView",
            "align_content": null,
            "align_items": null,
            "align_self": null,
            "border": null,
            "bottom": null,
            "display": null,
            "flex": null,
            "flex_flow": null,
            "grid_area": null,
            "grid_auto_columns": null,
            "grid_auto_flow": null,
            "grid_auto_rows": null,
            "grid_column": null,
            "grid_gap": null,
            "grid_row": null,
            "grid_template_areas": null,
            "grid_template_columns": null,
            "grid_template_rows": null,
            "height": null,
            "justify_content": null,
            "justify_items": null,
            "left": null,
            "margin": null,
            "max_height": null,
            "max_width": null,
            "min_height": null,
            "min_width": null,
            "object_fit": null,
            "object_position": null,
            "order": null,
            "overflow": null,
            "overflow_x": null,
            "overflow_y": null,
            "padding": null,
            "right": null,
            "top": null,
            "visibility": null,
            "width": null
          }
        },
        "baf2f54b2eff47eeb0a3f9d83c3c8780": {
          "model_module": "@jupyter-widgets/base",
          "model_name": "LayoutModel",
          "model_module_version": "1.2.0",
          "state": {
            "_model_module": "@jupyter-widgets/base",
            "_model_module_version": "1.2.0",
            "_model_name": "LayoutModel",
            "_view_count": null,
            "_view_module": "@jupyter-widgets/base",
            "_view_module_version": "1.2.0",
            "_view_name": "LayoutView",
            "align_content": null,
            "align_items": null,
            "align_self": null,
            "border": null,
            "bottom": null,
            "display": null,
            "flex": null,
            "flex_flow": null,
            "grid_area": null,
            "grid_auto_columns": null,
            "grid_auto_flow": null,
            "grid_auto_rows": null,
            "grid_column": null,
            "grid_gap": null,
            "grid_row": null,
            "grid_template_areas": null,
            "grid_template_columns": null,
            "grid_template_rows": null,
            "height": null,
            "justify_content": null,
            "justify_items": null,
            "left": null,
            "margin": null,
            "max_height": null,
            "max_width": null,
            "min_height": null,
            "min_width": null,
            "object_fit": null,
            "object_position": null,
            "order": null,
            "overflow": null,
            "overflow_x": null,
            "overflow_y": null,
            "padding": null,
            "right": null,
            "top": null,
            "visibility": null,
            "width": null
          }
        },
        "f4746e571144423483141b0ce259d718": {
          "model_module": "@jupyter-widgets/controls",
          "model_name": "DescriptionStyleModel",
          "model_module_version": "1.5.0",
          "state": {
            "_model_module": "@jupyter-widgets/controls",
            "_model_module_version": "1.5.0",
            "_model_name": "DescriptionStyleModel",
            "_view_count": null,
            "_view_module": "@jupyter-widgets/base",
            "_view_module_version": "1.2.0",
            "_view_name": "StyleView",
            "description_width": ""
          }
        },
        "71b578d459164366aa57668c78bc4c55": {
          "model_module": "@jupyter-widgets/base",
          "model_name": "LayoutModel",
          "model_module_version": "1.2.0",
          "state": {
            "_model_module": "@jupyter-widgets/base",
            "_model_module_version": "1.2.0",
            "_model_name": "LayoutModel",
            "_view_count": null,
            "_view_module": "@jupyter-widgets/base",
            "_view_module_version": "1.2.0",
            "_view_name": "LayoutView",
            "align_content": null,
            "align_items": null,
            "align_self": null,
            "border": null,
            "bottom": null,
            "display": null,
            "flex": null,
            "flex_flow": null,
            "grid_area": null,
            "grid_auto_columns": null,
            "grid_auto_flow": null,
            "grid_auto_rows": null,
            "grid_column": null,
            "grid_gap": null,
            "grid_row": null,
            "grid_template_areas": null,
            "grid_template_columns": null,
            "grid_template_rows": null,
            "height": null,
            "justify_content": null,
            "justify_items": null,
            "left": null,
            "margin": null,
            "max_height": null,
            "max_width": null,
            "min_height": null,
            "min_width": null,
            "object_fit": null,
            "object_position": null,
            "order": null,
            "overflow": null,
            "overflow_x": null,
            "overflow_y": null,
            "padding": null,
            "right": null,
            "top": null,
            "visibility": null,
            "width": null
          }
        },
        "15dc4a0275b54a96a5af6a79ad19b9c0": {
          "model_module": "@jupyter-widgets/controls",
          "model_name": "ProgressStyleModel",
          "model_module_version": "1.5.0",
          "state": {
            "_model_module": "@jupyter-widgets/controls",
            "_model_module_version": "1.5.0",
            "_model_name": "ProgressStyleModel",
            "_view_count": null,
            "_view_module": "@jupyter-widgets/base",
            "_view_module_version": "1.2.0",
            "_view_name": "StyleView",
            "bar_color": null,
            "description_width": ""
          }
        },
        "217e3a32570842db9cb13400147fcfb4": {
          "model_module": "@jupyter-widgets/base",
          "model_name": "LayoutModel",
          "model_module_version": "1.2.0",
          "state": {
            "_model_module": "@jupyter-widgets/base",
            "_model_module_version": "1.2.0",
            "_model_name": "LayoutModel",
            "_view_count": null,
            "_view_module": "@jupyter-widgets/base",
            "_view_module_version": "1.2.0",
            "_view_name": "LayoutView",
            "align_content": null,
            "align_items": null,
            "align_self": null,
            "border": null,
            "bottom": null,
            "display": null,
            "flex": null,
            "flex_flow": null,
            "grid_area": null,
            "grid_auto_columns": null,
            "grid_auto_flow": null,
            "grid_auto_rows": null,
            "grid_column": null,
            "grid_gap": null,
            "grid_row": null,
            "grid_template_areas": null,
            "grid_template_columns": null,
            "grid_template_rows": null,
            "height": null,
            "justify_content": null,
            "justify_items": null,
            "left": null,
            "margin": null,
            "max_height": null,
            "max_width": null,
            "min_height": null,
            "min_width": null,
            "object_fit": null,
            "object_position": null,
            "order": null,
            "overflow": null,
            "overflow_x": null,
            "overflow_y": null,
            "padding": null,
            "right": null,
            "top": null,
            "visibility": null,
            "width": null
          }
        },
        "7764a2f48db14a77b9f8aadcec497a94": {
          "model_module": "@jupyter-widgets/controls",
          "model_name": "DescriptionStyleModel",
          "model_module_version": "1.5.0",
          "state": {
            "_model_module": "@jupyter-widgets/controls",
            "_model_module_version": "1.5.0",
            "_model_name": "DescriptionStyleModel",
            "_view_count": null,
            "_view_module": "@jupyter-widgets/base",
            "_view_module_version": "1.2.0",
            "_view_name": "StyleView",
            "description_width": ""
          }
        },
        "6ba23fc1f8d047c7aeb6d05d20ab4496": {
          "model_module": "@jupyter-widgets/controls",
          "model_name": "HBoxModel",
          "model_module_version": "1.5.0",
          "state": {
            "_dom_classes": [],
            "_model_module": "@jupyter-widgets/controls",
            "_model_module_version": "1.5.0",
            "_model_name": "HBoxModel",
            "_view_count": null,
            "_view_module": "@jupyter-widgets/controls",
            "_view_module_version": "1.5.0",
            "_view_name": "HBoxView",
            "box_style": "",
            "children": [
              "IPY_MODEL_fe6a8538e9a44a58bd0c4c3b28f1419a",
              "IPY_MODEL_e90fc3c1a16f4f32a24a71c1ce240454",
              "IPY_MODEL_46c4eb96bb15461e9c8cbb0af16c04c6"
            ],
            "layout": "IPY_MODEL_8f7a04935e3241f1a2315079b6e0e467"
          }
        },
        "fe6a8538e9a44a58bd0c4c3b28f1419a": {
          "model_module": "@jupyter-widgets/controls",
          "model_name": "HTMLModel",
          "model_module_version": "1.5.0",
          "state": {
            "_dom_classes": [],
            "_model_module": "@jupyter-widgets/controls",
            "_model_module_version": "1.5.0",
            "_model_name": "HTMLModel",
            "_view_count": null,
            "_view_module": "@jupyter-widgets/controls",
            "_view_module_version": "1.5.0",
            "_view_name": "HTMLView",
            "description": "",
            "description_tooltip": null,
            "layout": "IPY_MODEL_2063328400ca4319b03ecf1cfe5a32ac",
            "placeholder": "​",
            "style": "IPY_MODEL_70b4f244f4254cd182afbd1897a0c945",
            "value": "Downloading (…)/main/tokenizer.json: 100%"
          }
        },
        "e90fc3c1a16f4f32a24a71c1ce240454": {
          "model_module": "@jupyter-widgets/controls",
          "model_name": "FloatProgressModel",
          "model_module_version": "1.5.0",
          "state": {
            "_dom_classes": [],
            "_model_module": "@jupyter-widgets/controls",
            "_model_module_version": "1.5.0",
            "_model_name": "FloatProgressModel",
            "_view_count": null,
            "_view_module": "@jupyter-widgets/controls",
            "_view_module_version": "1.5.0",
            "_view_name": "ProgressView",
            "bar_style": "success",
            "description": "",
            "description_tooltip": null,
            "layout": "IPY_MODEL_8bb180cb72ad4189b1d52f5fda3eee8d",
            "max": 3265159,
            "min": 0,
            "orientation": "horizontal",
            "style": "IPY_MODEL_75aceb3f70444b968915e0a86b85e618",
            "value": 3265159
          }
        },
        "46c4eb96bb15461e9c8cbb0af16c04c6": {
          "model_module": "@jupyter-widgets/controls",
          "model_name": "HTMLModel",
          "model_module_version": "1.5.0",
          "state": {
            "_dom_classes": [],
            "_model_module": "@jupyter-widgets/controls",
            "_model_module_version": "1.5.0",
            "_model_name": "HTMLModel",
            "_view_count": null,
            "_view_module": "@jupyter-widgets/controls",
            "_view_module_version": "1.5.0",
            "_view_name": "HTMLView",
            "description": "",
            "description_tooltip": null,
            "layout": "IPY_MODEL_07874924a64d4411b26038c87a45bedc",
            "placeholder": "​",
            "style": "IPY_MODEL_7f1347e45e41471384426054085de2bb",
            "value": " 3.27M/3.27M [00:00&lt;00:00, 4.29MB/s]"
          }
        },
        "8f7a04935e3241f1a2315079b6e0e467": {
          "model_module": "@jupyter-widgets/base",
          "model_name": "LayoutModel",
          "model_module_version": "1.2.0",
          "state": {
            "_model_module": "@jupyter-widgets/base",
            "_model_module_version": "1.2.0",
            "_model_name": "LayoutModel",
            "_view_count": null,
            "_view_module": "@jupyter-widgets/base",
            "_view_module_version": "1.2.0",
            "_view_name": "LayoutView",
            "align_content": null,
            "align_items": null,
            "align_self": null,
            "border": null,
            "bottom": null,
            "display": null,
            "flex": null,
            "flex_flow": null,
            "grid_area": null,
            "grid_auto_columns": null,
            "grid_auto_flow": null,
            "grid_auto_rows": null,
            "grid_column": null,
            "grid_gap": null,
            "grid_row": null,
            "grid_template_areas": null,
            "grid_template_columns": null,
            "grid_template_rows": null,
            "height": null,
            "justify_content": null,
            "justify_items": null,
            "left": null,
            "margin": null,
            "max_height": null,
            "max_width": null,
            "min_height": null,
            "min_width": null,
            "object_fit": null,
            "object_position": null,
            "order": null,
            "overflow": null,
            "overflow_x": null,
            "overflow_y": null,
            "padding": null,
            "right": null,
            "top": null,
            "visibility": null,
            "width": null
          }
        },
        "2063328400ca4319b03ecf1cfe5a32ac": {
          "model_module": "@jupyter-widgets/base",
          "model_name": "LayoutModel",
          "model_module_version": "1.2.0",
          "state": {
            "_model_module": "@jupyter-widgets/base",
            "_model_module_version": "1.2.0",
            "_model_name": "LayoutModel",
            "_view_count": null,
            "_view_module": "@jupyter-widgets/base",
            "_view_module_version": "1.2.0",
            "_view_name": "LayoutView",
            "align_content": null,
            "align_items": null,
            "align_self": null,
            "border": null,
            "bottom": null,
            "display": null,
            "flex": null,
            "flex_flow": null,
            "grid_area": null,
            "grid_auto_columns": null,
            "grid_auto_flow": null,
            "grid_auto_rows": null,
            "grid_column": null,
            "grid_gap": null,
            "grid_row": null,
            "grid_template_areas": null,
            "grid_template_columns": null,
            "grid_template_rows": null,
            "height": null,
            "justify_content": null,
            "justify_items": null,
            "left": null,
            "margin": null,
            "max_height": null,
            "max_width": null,
            "min_height": null,
            "min_width": null,
            "object_fit": null,
            "object_position": null,
            "order": null,
            "overflow": null,
            "overflow_x": null,
            "overflow_y": null,
            "padding": null,
            "right": null,
            "top": null,
            "visibility": null,
            "width": null
          }
        },
        "70b4f244f4254cd182afbd1897a0c945": {
          "model_module": "@jupyter-widgets/controls",
          "model_name": "DescriptionStyleModel",
          "model_module_version": "1.5.0",
          "state": {
            "_model_module": "@jupyter-widgets/controls",
            "_model_module_version": "1.5.0",
            "_model_name": "DescriptionStyleModel",
            "_view_count": null,
            "_view_module": "@jupyter-widgets/base",
            "_view_module_version": "1.2.0",
            "_view_name": "StyleView",
            "description_width": ""
          }
        },
        "8bb180cb72ad4189b1d52f5fda3eee8d": {
          "model_module": "@jupyter-widgets/base",
          "model_name": "LayoutModel",
          "model_module_version": "1.2.0",
          "state": {
            "_model_module": "@jupyter-widgets/base",
            "_model_module_version": "1.2.0",
            "_model_name": "LayoutModel",
            "_view_count": null,
            "_view_module": "@jupyter-widgets/base",
            "_view_module_version": "1.2.0",
            "_view_name": "LayoutView",
            "align_content": null,
            "align_items": null,
            "align_self": null,
            "border": null,
            "bottom": null,
            "display": null,
            "flex": null,
            "flex_flow": null,
            "grid_area": null,
            "grid_auto_columns": null,
            "grid_auto_flow": null,
            "grid_auto_rows": null,
            "grid_column": null,
            "grid_gap": null,
            "grid_row": null,
            "grid_template_areas": null,
            "grid_template_columns": null,
            "grid_template_rows": null,
            "height": null,
            "justify_content": null,
            "justify_items": null,
            "left": null,
            "margin": null,
            "max_height": null,
            "max_width": null,
            "min_height": null,
            "min_width": null,
            "object_fit": null,
            "object_position": null,
            "order": null,
            "overflow": null,
            "overflow_x": null,
            "overflow_y": null,
            "padding": null,
            "right": null,
            "top": null,
            "visibility": null,
            "width": null
          }
        },
        "75aceb3f70444b968915e0a86b85e618": {
          "model_module": "@jupyter-widgets/controls",
          "model_name": "ProgressStyleModel",
          "model_module_version": "1.5.0",
          "state": {
            "_model_module": "@jupyter-widgets/controls",
            "_model_module_version": "1.5.0",
            "_model_name": "ProgressStyleModel",
            "_view_count": null,
            "_view_module": "@jupyter-widgets/base",
            "_view_module_version": "1.2.0",
            "_view_name": "StyleView",
            "bar_color": null,
            "description_width": ""
          }
        },
        "07874924a64d4411b26038c87a45bedc": {
          "model_module": "@jupyter-widgets/base",
          "model_name": "LayoutModel",
          "model_module_version": "1.2.0",
          "state": {
            "_model_module": "@jupyter-widgets/base",
            "_model_module_version": "1.2.0",
            "_model_name": "LayoutModel",
            "_view_count": null,
            "_view_module": "@jupyter-widgets/base",
            "_view_module_version": "1.2.0",
            "_view_name": "LayoutView",
            "align_content": null,
            "align_items": null,
            "align_self": null,
            "border": null,
            "bottom": null,
            "display": null,
            "flex": null,
            "flex_flow": null,
            "grid_area": null,
            "grid_auto_columns": null,
            "grid_auto_flow": null,
            "grid_auto_rows": null,
            "grid_column": null,
            "grid_gap": null,
            "grid_row": null,
            "grid_template_areas": null,
            "grid_template_columns": null,
            "grid_template_rows": null,
            "height": null,
            "justify_content": null,
            "justify_items": null,
            "left": null,
            "margin": null,
            "max_height": null,
            "max_width": null,
            "min_height": null,
            "min_width": null,
            "object_fit": null,
            "object_position": null,
            "order": null,
            "overflow": null,
            "overflow_x": null,
            "overflow_y": null,
            "padding": null,
            "right": null,
            "top": null,
            "visibility": null,
            "width": null
          }
        },
        "7f1347e45e41471384426054085de2bb": {
          "model_module": "@jupyter-widgets/controls",
          "model_name": "DescriptionStyleModel",
          "model_module_version": "1.5.0",
          "state": {
            "_model_module": "@jupyter-widgets/controls",
            "_model_module_version": "1.5.0",
            "_model_name": "DescriptionStyleModel",
            "_view_count": null,
            "_view_module": "@jupyter-widgets/base",
            "_view_module_version": "1.2.0",
            "_view_name": "StyleView",
            "description_width": ""
          }
        },
        "3942bb1fbc6344188f13b379954b36e1": {
          "model_module": "@jupyter-widgets/controls",
          "model_name": "HBoxModel",
          "model_module_version": "1.5.0",
          "state": {
            "_dom_classes": [],
            "_model_module": "@jupyter-widgets/controls",
            "_model_module_version": "1.5.0",
            "_model_name": "HBoxModel",
            "_view_count": null,
            "_view_module": "@jupyter-widgets/controls",
            "_view_module_version": "1.5.0",
            "_view_name": "HBoxView",
            "box_style": "",
            "children": [
              "IPY_MODEL_e29fb220acb5477db7fbf09f2f1cf3c6",
              "IPY_MODEL_1392f9f9c8314b1e882911db775cfe11",
              "IPY_MODEL_1b894f0fe59642cca86cdbe70c85697c"
            ],
            "layout": "IPY_MODEL_c4ce10f912db4a3c837e67443370702b"
          }
        },
        "e29fb220acb5477db7fbf09f2f1cf3c6": {
          "model_module": "@jupyter-widgets/controls",
          "model_name": "HTMLModel",
          "model_module_version": "1.5.0",
          "state": {
            "_dom_classes": [],
            "_model_module": "@jupyter-widgets/controls",
            "_model_module_version": "1.5.0",
            "_model_name": "HTMLModel",
            "_view_count": null,
            "_view_module": "@jupyter-widgets/controls",
            "_view_module_version": "1.5.0",
            "_view_name": "HTMLView",
            "description": "",
            "description_tooltip": null,
            "layout": "IPY_MODEL_5fe6c59a87ba443e97188d78fe6a89b1",
            "placeholder": "​",
            "style": "IPY_MODEL_52acc1970bc64147aca63d7f62f6c650",
            "value": "Downloading (…)cial_tokens_map.json: 100%"
          }
        },
        "1392f9f9c8314b1e882911db775cfe11": {
          "model_module": "@jupyter-widgets/controls",
          "model_name": "FloatProgressModel",
          "model_module_version": "1.5.0",
          "state": {
            "_dom_classes": [],
            "_model_module": "@jupyter-widgets/controls",
            "_model_module_version": "1.5.0",
            "_model_name": "FloatProgressModel",
            "_view_count": null,
            "_view_module": "@jupyter-widgets/controls",
            "_view_module_version": "1.5.0",
            "_view_name": "ProgressView",
            "bar_style": "success",
            "description": "",
            "description_tooltip": null,
            "layout": "IPY_MODEL_92a37311708740a1964aef975fdbef56",
            "max": 2201,
            "min": 0,
            "orientation": "horizontal",
            "style": "IPY_MODEL_f0af30864d4d4dd9851e5dd30404144f",
            "value": 2201
          }
        },
        "1b894f0fe59642cca86cdbe70c85697c": {
          "model_module": "@jupyter-widgets/controls",
          "model_name": "HTMLModel",
          "model_module_version": "1.5.0",
          "state": {
            "_dom_classes": [],
            "_model_module": "@jupyter-widgets/controls",
            "_model_module_version": "1.5.0",
            "_model_name": "HTMLModel",
            "_view_count": null,
            "_view_module": "@jupyter-widgets/controls",
            "_view_module_version": "1.5.0",
            "_view_name": "HTMLView",
            "description": "",
            "description_tooltip": null,
            "layout": "IPY_MODEL_c5ba4f44641f45d586873c5f1b137b57",
            "placeholder": "​",
            "style": "IPY_MODEL_e41b46a89e604e82b776c7f3671d6a14",
            "value": " 2.20k/2.20k [00:00&lt;00:00, 210kB/s]"
          }
        },
        "c4ce10f912db4a3c837e67443370702b": {
          "model_module": "@jupyter-widgets/base",
          "model_name": "LayoutModel",
          "model_module_version": "1.2.0",
          "state": {
            "_model_module": "@jupyter-widgets/base",
            "_model_module_version": "1.2.0",
            "_model_name": "LayoutModel",
            "_view_count": null,
            "_view_module": "@jupyter-widgets/base",
            "_view_module_version": "1.2.0",
            "_view_name": "LayoutView",
            "align_content": null,
            "align_items": null,
            "align_self": null,
            "border": null,
            "bottom": null,
            "display": null,
            "flex": null,
            "flex_flow": null,
            "grid_area": null,
            "grid_auto_columns": null,
            "grid_auto_flow": null,
            "grid_auto_rows": null,
            "grid_column": null,
            "grid_gap": null,
            "grid_row": null,
            "grid_template_areas": null,
            "grid_template_columns": null,
            "grid_template_rows": null,
            "height": null,
            "justify_content": null,
            "justify_items": null,
            "left": null,
            "margin": null,
            "max_height": null,
            "max_width": null,
            "min_height": null,
            "min_width": null,
            "object_fit": null,
            "object_position": null,
            "order": null,
            "overflow": null,
            "overflow_x": null,
            "overflow_y": null,
            "padding": null,
            "right": null,
            "top": null,
            "visibility": null,
            "width": null
          }
        },
        "5fe6c59a87ba443e97188d78fe6a89b1": {
          "model_module": "@jupyter-widgets/base",
          "model_name": "LayoutModel",
          "model_module_version": "1.2.0",
          "state": {
            "_model_module": "@jupyter-widgets/base",
            "_model_module_version": "1.2.0",
            "_model_name": "LayoutModel",
            "_view_count": null,
            "_view_module": "@jupyter-widgets/base",
            "_view_module_version": "1.2.0",
            "_view_name": "LayoutView",
            "align_content": null,
            "align_items": null,
            "align_self": null,
            "border": null,
            "bottom": null,
            "display": null,
            "flex": null,
            "flex_flow": null,
            "grid_area": null,
            "grid_auto_columns": null,
            "grid_auto_flow": null,
            "grid_auto_rows": null,
            "grid_column": null,
            "grid_gap": null,
            "grid_row": null,
            "grid_template_areas": null,
            "grid_template_columns": null,
            "grid_template_rows": null,
            "height": null,
            "justify_content": null,
            "justify_items": null,
            "left": null,
            "margin": null,
            "max_height": null,
            "max_width": null,
            "min_height": null,
            "min_width": null,
            "object_fit": null,
            "object_position": null,
            "order": null,
            "overflow": null,
            "overflow_x": null,
            "overflow_y": null,
            "padding": null,
            "right": null,
            "top": null,
            "visibility": null,
            "width": null
          }
        },
        "52acc1970bc64147aca63d7f62f6c650": {
          "model_module": "@jupyter-widgets/controls",
          "model_name": "DescriptionStyleModel",
          "model_module_version": "1.5.0",
          "state": {
            "_model_module": "@jupyter-widgets/controls",
            "_model_module_version": "1.5.0",
            "_model_name": "DescriptionStyleModel",
            "_view_count": null,
            "_view_module": "@jupyter-widgets/base",
            "_view_module_version": "1.2.0",
            "_view_name": "StyleView",
            "description_width": ""
          }
        },
        "92a37311708740a1964aef975fdbef56": {
          "model_module": "@jupyter-widgets/base",
          "model_name": "LayoutModel",
          "model_module_version": "1.2.0",
          "state": {
            "_model_module": "@jupyter-widgets/base",
            "_model_module_version": "1.2.0",
            "_model_name": "LayoutModel",
            "_view_count": null,
            "_view_module": "@jupyter-widgets/base",
            "_view_module_version": "1.2.0",
            "_view_name": "LayoutView",
            "align_content": null,
            "align_items": null,
            "align_self": null,
            "border": null,
            "bottom": null,
            "display": null,
            "flex": null,
            "flex_flow": null,
            "grid_area": null,
            "grid_auto_columns": null,
            "grid_auto_flow": null,
            "grid_auto_rows": null,
            "grid_column": null,
            "grid_gap": null,
            "grid_row": null,
            "grid_template_areas": null,
            "grid_template_columns": null,
            "grid_template_rows": null,
            "height": null,
            "justify_content": null,
            "justify_items": null,
            "left": null,
            "margin": null,
            "max_height": null,
            "max_width": null,
            "min_height": null,
            "min_width": null,
            "object_fit": null,
            "object_position": null,
            "order": null,
            "overflow": null,
            "overflow_x": null,
            "overflow_y": null,
            "padding": null,
            "right": null,
            "top": null,
            "visibility": null,
            "width": null
          }
        },
        "f0af30864d4d4dd9851e5dd30404144f": {
          "model_module": "@jupyter-widgets/controls",
          "model_name": "ProgressStyleModel",
          "model_module_version": "1.5.0",
          "state": {
            "_model_module": "@jupyter-widgets/controls",
            "_model_module_version": "1.5.0",
            "_model_name": "ProgressStyleModel",
            "_view_count": null,
            "_view_module": "@jupyter-widgets/base",
            "_view_module_version": "1.2.0",
            "_view_name": "StyleView",
            "bar_color": null,
            "description_width": ""
          }
        },
        "c5ba4f44641f45d586873c5f1b137b57": {
          "model_module": "@jupyter-widgets/base",
          "model_name": "LayoutModel",
          "model_module_version": "1.2.0",
          "state": {
            "_model_module": "@jupyter-widgets/base",
            "_model_module_version": "1.2.0",
            "_model_name": "LayoutModel",
            "_view_count": null,
            "_view_module": "@jupyter-widgets/base",
            "_view_module_version": "1.2.0",
            "_view_name": "LayoutView",
            "align_content": null,
            "align_items": null,
            "align_self": null,
            "border": null,
            "bottom": null,
            "display": null,
            "flex": null,
            "flex_flow": null,
            "grid_area": null,
            "grid_auto_columns": null,
            "grid_auto_flow": null,
            "grid_auto_rows": null,
            "grid_column": null,
            "grid_gap": null,
            "grid_row": null,
            "grid_template_areas": null,
            "grid_template_columns": null,
            "grid_template_rows": null,
            "height": null,
            "justify_content": null,
            "justify_items": null,
            "left": null,
            "margin": null,
            "max_height": null,
            "max_width": null,
            "min_height": null,
            "min_width": null,
            "object_fit": null,
            "object_position": null,
            "order": null,
            "overflow": null,
            "overflow_x": null,
            "overflow_y": null,
            "padding": null,
            "right": null,
            "top": null,
            "visibility": null,
            "width": null
          }
        },
        "e41b46a89e604e82b776c7f3671d6a14": {
          "model_module": "@jupyter-widgets/controls",
          "model_name": "DescriptionStyleModel",
          "model_module_version": "1.5.0",
          "state": {
            "_model_module": "@jupyter-widgets/controls",
            "_model_module_version": "1.5.0",
            "_model_name": "DescriptionStyleModel",
            "_view_count": null,
            "_view_module": "@jupyter-widgets/base",
            "_view_module_version": "1.2.0",
            "_view_name": "StyleView",
            "description_width": ""
          }
        },
        "3dc8eebb105e47678c7ee9eda1b3a2c8": {
          "model_module": "@jupyter-widgets/controls",
          "model_name": "HBoxModel",
          "model_module_version": "1.5.0",
          "state": {
            "_dom_classes": [],
            "_model_module": "@jupyter-widgets/controls",
            "_model_module_version": "1.5.0",
            "_model_name": "HBoxModel",
            "_view_count": null,
            "_view_module": "@jupyter-widgets/controls",
            "_view_module_version": "1.5.0",
            "_view_name": "HBoxView",
            "box_style": "",
            "children": [
              "IPY_MODEL_dc30d09c488143b8833637abda8c2d18",
              "IPY_MODEL_d41aba65b4264685971e510bf0f27cf9",
              "IPY_MODEL_745a88e9c14b42f491be9ab788dcec21"
            ],
            "layout": "IPY_MODEL_4c918e52515346af81b4d71760f5b8f3"
          }
        },
        "dc30d09c488143b8833637abda8c2d18": {
          "model_module": "@jupyter-widgets/controls",
          "model_name": "HTMLModel",
          "model_module_version": "1.5.0",
          "state": {
            "_dom_classes": [],
            "_model_module": "@jupyter-widgets/controls",
            "_model_module_version": "1.5.0",
            "_model_name": "HTMLModel",
            "_view_count": null,
            "_view_module": "@jupyter-widgets/controls",
            "_view_module_version": "1.5.0",
            "_view_name": "HTMLView",
            "description": "",
            "description_tooltip": null,
            "layout": "IPY_MODEL_7902713e73034afe84ac3a84d7ab85f3",
            "placeholder": "​",
            "style": "IPY_MODEL_bd8a40a52c1242a19fb151726b7111e8",
            "value": "Downloading (…)lve/main/config.json: 100%"
          }
        },
        "d41aba65b4264685971e510bf0f27cf9": {
          "model_module": "@jupyter-widgets/controls",
          "model_name": "FloatProgressModel",
          "model_module_version": "1.5.0",
          "state": {
            "_dom_classes": [],
            "_model_module": "@jupyter-widgets/controls",
            "_model_module_version": "1.5.0",
            "_model_name": "FloatProgressModel",
            "_view_count": null,
            "_view_module": "@jupyter-widgets/controls",
            "_view_module_version": "1.5.0",
            "_view_name": "ProgressView",
            "bar_style": "success",
            "description": "",
            "description_tooltip": null,
            "layout": "IPY_MODEL_1289cc5c2e5f4f27b34b99eedccd9e8d",
            "max": 4918,
            "min": 0,
            "orientation": "horizontal",
            "style": "IPY_MODEL_2ae536e99d3c45c5a1744c157b406b93",
            "value": 4918
          }
        },
        "745a88e9c14b42f491be9ab788dcec21": {
          "model_module": "@jupyter-widgets/controls",
          "model_name": "HTMLModel",
          "model_module_version": "1.5.0",
          "state": {
            "_dom_classes": [],
            "_model_module": "@jupyter-widgets/controls",
            "_model_module_version": "1.5.0",
            "_model_name": "HTMLModel",
            "_view_count": null,
            "_view_module": "@jupyter-widgets/controls",
            "_view_module_version": "1.5.0",
            "_view_name": "HTMLView",
            "description": "",
            "description_tooltip": null,
            "layout": "IPY_MODEL_933e2e523c1d488d9c98d6c048de6616",
            "placeholder": "​",
            "style": "IPY_MODEL_332f21f798f14c5ea0dc8342cf922697",
            "value": " 4.92k/4.92k [00:00&lt;00:00, 284kB/s]"
          }
        },
        "4c918e52515346af81b4d71760f5b8f3": {
          "model_module": "@jupyter-widgets/base",
          "model_name": "LayoutModel",
          "model_module_version": "1.2.0",
          "state": {
            "_model_module": "@jupyter-widgets/base",
            "_model_module_version": "1.2.0",
            "_model_name": "LayoutModel",
            "_view_count": null,
            "_view_module": "@jupyter-widgets/base",
            "_view_module_version": "1.2.0",
            "_view_name": "LayoutView",
            "align_content": null,
            "align_items": null,
            "align_self": null,
            "border": null,
            "bottom": null,
            "display": null,
            "flex": null,
            "flex_flow": null,
            "grid_area": null,
            "grid_auto_columns": null,
            "grid_auto_flow": null,
            "grid_auto_rows": null,
            "grid_column": null,
            "grid_gap": null,
            "grid_row": null,
            "grid_template_areas": null,
            "grid_template_columns": null,
            "grid_template_rows": null,
            "height": null,
            "justify_content": null,
            "justify_items": null,
            "left": null,
            "margin": null,
            "max_height": null,
            "max_width": null,
            "min_height": null,
            "min_width": null,
            "object_fit": null,
            "object_position": null,
            "order": null,
            "overflow": null,
            "overflow_x": null,
            "overflow_y": null,
            "padding": null,
            "right": null,
            "top": null,
            "visibility": null,
            "width": null
          }
        },
        "7902713e73034afe84ac3a84d7ab85f3": {
          "model_module": "@jupyter-widgets/base",
          "model_name": "LayoutModel",
          "model_module_version": "1.2.0",
          "state": {
            "_model_module": "@jupyter-widgets/base",
            "_model_module_version": "1.2.0",
            "_model_name": "LayoutModel",
            "_view_count": null,
            "_view_module": "@jupyter-widgets/base",
            "_view_module_version": "1.2.0",
            "_view_name": "LayoutView",
            "align_content": null,
            "align_items": null,
            "align_self": null,
            "border": null,
            "bottom": null,
            "display": null,
            "flex": null,
            "flex_flow": null,
            "grid_area": null,
            "grid_auto_columns": null,
            "grid_auto_flow": null,
            "grid_auto_rows": null,
            "grid_column": null,
            "grid_gap": null,
            "grid_row": null,
            "grid_template_areas": null,
            "grid_template_columns": null,
            "grid_template_rows": null,
            "height": null,
            "justify_content": null,
            "justify_items": null,
            "left": null,
            "margin": null,
            "max_height": null,
            "max_width": null,
            "min_height": null,
            "min_width": null,
            "object_fit": null,
            "object_position": null,
            "order": null,
            "overflow": null,
            "overflow_x": null,
            "overflow_y": null,
            "padding": null,
            "right": null,
            "top": null,
            "visibility": null,
            "width": null
          }
        },
        "bd8a40a52c1242a19fb151726b7111e8": {
          "model_module": "@jupyter-widgets/controls",
          "model_name": "DescriptionStyleModel",
          "model_module_version": "1.5.0",
          "state": {
            "_model_module": "@jupyter-widgets/controls",
            "_model_module_version": "1.5.0",
            "_model_name": "DescriptionStyleModel",
            "_view_count": null,
            "_view_module": "@jupyter-widgets/base",
            "_view_module_version": "1.2.0",
            "_view_name": "StyleView",
            "description_width": ""
          }
        },
        "1289cc5c2e5f4f27b34b99eedccd9e8d": {
          "model_module": "@jupyter-widgets/base",
          "model_name": "LayoutModel",
          "model_module_version": "1.2.0",
          "state": {
            "_model_module": "@jupyter-widgets/base",
            "_model_module_version": "1.2.0",
            "_model_name": "LayoutModel",
            "_view_count": null,
            "_view_module": "@jupyter-widgets/base",
            "_view_module_version": "1.2.0",
            "_view_name": "LayoutView",
            "align_content": null,
            "align_items": null,
            "align_self": null,
            "border": null,
            "bottom": null,
            "display": null,
            "flex": null,
            "flex_flow": null,
            "grid_area": null,
            "grid_auto_columns": null,
            "grid_auto_flow": null,
            "grid_auto_rows": null,
            "grid_column": null,
            "grid_gap": null,
            "grid_row": null,
            "grid_template_areas": null,
            "grid_template_columns": null,
            "grid_template_rows": null,
            "height": null,
            "justify_content": null,
            "justify_items": null,
            "left": null,
            "margin": null,
            "max_height": null,
            "max_width": null,
            "min_height": null,
            "min_width": null,
            "object_fit": null,
            "object_position": null,
            "order": null,
            "overflow": null,
            "overflow_x": null,
            "overflow_y": null,
            "padding": null,
            "right": null,
            "top": null,
            "visibility": null,
            "width": null
          }
        },
        "2ae536e99d3c45c5a1744c157b406b93": {
          "model_module": "@jupyter-widgets/controls",
          "model_name": "ProgressStyleModel",
          "model_module_version": "1.5.0",
          "state": {
            "_model_module": "@jupyter-widgets/controls",
            "_model_module_version": "1.5.0",
            "_model_name": "ProgressStyleModel",
            "_view_count": null,
            "_view_module": "@jupyter-widgets/base",
            "_view_module_version": "1.2.0",
            "_view_name": "StyleView",
            "bar_color": null,
            "description_width": ""
          }
        },
        "933e2e523c1d488d9c98d6c048de6616": {
          "model_module": "@jupyter-widgets/base",
          "model_name": "LayoutModel",
          "model_module_version": "1.2.0",
          "state": {
            "_model_module": "@jupyter-widgets/base",
            "_model_module_version": "1.2.0",
            "_model_name": "LayoutModel",
            "_view_count": null,
            "_view_module": "@jupyter-widgets/base",
            "_view_module_version": "1.2.0",
            "_view_name": "LayoutView",
            "align_content": null,
            "align_items": null,
            "align_self": null,
            "border": null,
            "bottom": null,
            "display": null,
            "flex": null,
            "flex_flow": null,
            "grid_area": null,
            "grid_auto_columns": null,
            "grid_auto_flow": null,
            "grid_auto_rows": null,
            "grid_column": null,
            "grid_gap": null,
            "grid_row": null,
            "grid_template_areas": null,
            "grid_template_columns": null,
            "grid_template_rows": null,
            "height": null,
            "justify_content": null,
            "justify_items": null,
            "left": null,
            "margin": null,
            "max_height": null,
            "max_width": null,
            "min_height": null,
            "min_width": null,
            "object_fit": null,
            "object_position": null,
            "order": null,
            "overflow": null,
            "overflow_x": null,
            "overflow_y": null,
            "padding": null,
            "right": null,
            "top": null,
            "visibility": null,
            "width": null
          }
        },
        "332f21f798f14c5ea0dc8342cf922697": {
          "model_module": "@jupyter-widgets/controls",
          "model_name": "DescriptionStyleModel",
          "model_module_version": "1.5.0",
          "state": {
            "_model_module": "@jupyter-widgets/controls",
            "_model_module_version": "1.5.0",
            "_model_name": "DescriptionStyleModel",
            "_view_count": null,
            "_view_module": "@jupyter-widgets/base",
            "_view_module_version": "1.2.0",
            "_view_name": "StyleView",
            "description_width": ""
          }
        },
        "9cadfdfb125247acb81221a866ab178e": {
          "model_module": "@jupyter-widgets/controls",
          "model_name": "HBoxModel",
          "model_module_version": "1.5.0",
          "state": {
            "_dom_classes": [],
            "_model_module": "@jupyter-widgets/controls",
            "_model_module_version": "1.5.0",
            "_model_name": "HBoxModel",
            "_view_count": null,
            "_view_module": "@jupyter-widgets/controls",
            "_view_module_version": "1.5.0",
            "_view_name": "HBoxView",
            "box_style": "",
            "children": [
              "IPY_MODEL_df07ddfab6ef41279be41823d8e20b5a",
              "IPY_MODEL_c072abe0d4f54509b1d684e48b9817d5",
              "IPY_MODEL_47a716e710d8473f84b52bf522870fbb"
            ],
            "layout": "IPY_MODEL_ea922d371895407e96578dbc7ad671da"
          }
        },
        "df07ddfab6ef41279be41823d8e20b5a": {
          "model_module": "@jupyter-widgets/controls",
          "model_name": "HTMLModel",
          "model_module_version": "1.5.0",
          "state": {
            "_dom_classes": [],
            "_model_module": "@jupyter-widgets/controls",
            "_model_module_version": "1.5.0",
            "_model_name": "HTMLModel",
            "_view_count": null,
            "_view_module": "@jupyter-widgets/controls",
            "_view_module_version": "1.5.0",
            "_view_name": "HTMLView",
            "description": "",
            "description_tooltip": null,
            "layout": "IPY_MODEL_cf43bd96400d4a56984108893293d3df",
            "placeholder": "​",
            "style": "IPY_MODEL_5e12652faec840578e3841079a0fc902",
            "value": "Downloading pytorch_model.bin: 100%"
          }
        },
        "c072abe0d4f54509b1d684e48b9817d5": {
          "model_module": "@jupyter-widgets/controls",
          "model_name": "FloatProgressModel",
          "model_module_version": "1.5.0",
          "state": {
            "_dom_classes": [],
            "_model_module": "@jupyter-widgets/controls",
            "_model_module_version": "1.5.0",
            "_model_name": "FloatProgressModel",
            "_view_count": null,
            "_view_module": "@jupyter-widgets/controls",
            "_view_module_version": "1.5.0",
            "_view_name": "ProgressView",
            "bar_style": "success",
            "description": "",
            "description_tooltip": null,
            "layout": "IPY_MODEL_7e40260cd36e4ea99fa69de7eb8d7581",
            "max": 1129238081,
            "min": 0,
            "orientation": "horizontal",
            "style": "IPY_MODEL_a9dc751f831945399fb282adcd782388",
            "value": 1129238081
          }
        },
        "47a716e710d8473f84b52bf522870fbb": {
          "model_module": "@jupyter-widgets/controls",
          "model_name": "HTMLModel",
          "model_module_version": "1.5.0",
          "state": {
            "_dom_classes": [],
            "_model_module": "@jupyter-widgets/controls",
            "_model_module_version": "1.5.0",
            "_model_name": "HTMLModel",
            "_view_count": null,
            "_view_module": "@jupyter-widgets/controls",
            "_view_module_version": "1.5.0",
            "_view_name": "HTMLView",
            "description": "",
            "description_tooltip": null,
            "layout": "IPY_MODEL_c5a1bf9a968e4772b976f875f0c9d846",
            "placeholder": "​",
            "style": "IPY_MODEL_385d6fb09fe949c2a1b675af0e5e712b",
            "value": " 1.13G/1.13G [00:02&lt;00:00, 353MB/s]"
          }
        },
        "ea922d371895407e96578dbc7ad671da": {
          "model_module": "@jupyter-widgets/base",
          "model_name": "LayoutModel",
          "model_module_version": "1.2.0",
          "state": {
            "_model_module": "@jupyter-widgets/base",
            "_model_module_version": "1.2.0",
            "_model_name": "LayoutModel",
            "_view_count": null,
            "_view_module": "@jupyter-widgets/base",
            "_view_module_version": "1.2.0",
            "_view_name": "LayoutView",
            "align_content": null,
            "align_items": null,
            "align_self": null,
            "border": null,
            "bottom": null,
            "display": null,
            "flex": null,
            "flex_flow": null,
            "grid_area": null,
            "grid_auto_columns": null,
            "grid_auto_flow": null,
            "grid_auto_rows": null,
            "grid_column": null,
            "grid_gap": null,
            "grid_row": null,
            "grid_template_areas": null,
            "grid_template_columns": null,
            "grid_template_rows": null,
            "height": null,
            "justify_content": null,
            "justify_items": null,
            "left": null,
            "margin": null,
            "max_height": null,
            "max_width": null,
            "min_height": null,
            "min_width": null,
            "object_fit": null,
            "object_position": null,
            "order": null,
            "overflow": null,
            "overflow_x": null,
            "overflow_y": null,
            "padding": null,
            "right": null,
            "top": null,
            "visibility": null,
            "width": null
          }
        },
        "cf43bd96400d4a56984108893293d3df": {
          "model_module": "@jupyter-widgets/base",
          "model_name": "LayoutModel",
          "model_module_version": "1.2.0",
          "state": {
            "_model_module": "@jupyter-widgets/base",
            "_model_module_version": "1.2.0",
            "_model_name": "LayoutModel",
            "_view_count": null,
            "_view_module": "@jupyter-widgets/base",
            "_view_module_version": "1.2.0",
            "_view_name": "LayoutView",
            "align_content": null,
            "align_items": null,
            "align_self": null,
            "border": null,
            "bottom": null,
            "display": null,
            "flex": null,
            "flex_flow": null,
            "grid_area": null,
            "grid_auto_columns": null,
            "grid_auto_flow": null,
            "grid_auto_rows": null,
            "grid_column": null,
            "grid_gap": null,
            "grid_row": null,
            "grid_template_areas": null,
            "grid_template_columns": null,
            "grid_template_rows": null,
            "height": null,
            "justify_content": null,
            "justify_items": null,
            "left": null,
            "margin": null,
            "max_height": null,
            "max_width": null,
            "min_height": null,
            "min_width": null,
            "object_fit": null,
            "object_position": null,
            "order": null,
            "overflow": null,
            "overflow_x": null,
            "overflow_y": null,
            "padding": null,
            "right": null,
            "top": null,
            "visibility": null,
            "width": null
          }
        },
        "5e12652faec840578e3841079a0fc902": {
          "model_module": "@jupyter-widgets/controls",
          "model_name": "DescriptionStyleModel",
          "model_module_version": "1.5.0",
          "state": {
            "_model_module": "@jupyter-widgets/controls",
            "_model_module_version": "1.5.0",
            "_model_name": "DescriptionStyleModel",
            "_view_count": null,
            "_view_module": "@jupyter-widgets/base",
            "_view_module_version": "1.2.0",
            "_view_name": "StyleView",
            "description_width": ""
          }
        },
        "7e40260cd36e4ea99fa69de7eb8d7581": {
          "model_module": "@jupyter-widgets/base",
          "model_name": "LayoutModel",
          "model_module_version": "1.2.0",
          "state": {
            "_model_module": "@jupyter-widgets/base",
            "_model_module_version": "1.2.0",
            "_model_name": "LayoutModel",
            "_view_count": null,
            "_view_module": "@jupyter-widgets/base",
            "_view_module_version": "1.2.0",
            "_view_name": "LayoutView",
            "align_content": null,
            "align_items": null,
            "align_self": null,
            "border": null,
            "bottom": null,
            "display": null,
            "flex": null,
            "flex_flow": null,
            "grid_area": null,
            "grid_auto_columns": null,
            "grid_auto_flow": null,
            "grid_auto_rows": null,
            "grid_column": null,
            "grid_gap": null,
            "grid_row": null,
            "grid_template_areas": null,
            "grid_template_columns": null,
            "grid_template_rows": null,
            "height": null,
            "justify_content": null,
            "justify_items": null,
            "left": null,
            "margin": null,
            "max_height": null,
            "max_width": null,
            "min_height": null,
            "min_width": null,
            "object_fit": null,
            "object_position": null,
            "order": null,
            "overflow": null,
            "overflow_x": null,
            "overflow_y": null,
            "padding": null,
            "right": null,
            "top": null,
            "visibility": null,
            "width": null
          }
        },
        "a9dc751f831945399fb282adcd782388": {
          "model_module": "@jupyter-widgets/controls",
          "model_name": "ProgressStyleModel",
          "model_module_version": "1.5.0",
          "state": {
            "_model_module": "@jupyter-widgets/controls",
            "_model_module_version": "1.5.0",
            "_model_name": "ProgressStyleModel",
            "_view_count": null,
            "_view_module": "@jupyter-widgets/base",
            "_view_module_version": "1.2.0",
            "_view_name": "StyleView",
            "bar_color": null,
            "description_width": ""
          }
        },
        "c5a1bf9a968e4772b976f875f0c9d846": {
          "model_module": "@jupyter-widgets/base",
          "model_name": "LayoutModel",
          "model_module_version": "1.2.0",
          "state": {
            "_model_module": "@jupyter-widgets/base",
            "_model_module_version": "1.2.0",
            "_model_name": "LayoutModel",
            "_view_count": null,
            "_view_module": "@jupyter-widgets/base",
            "_view_module_version": "1.2.0",
            "_view_name": "LayoutView",
            "align_content": null,
            "align_items": null,
            "align_self": null,
            "border": null,
            "bottom": null,
            "display": null,
            "flex": null,
            "flex_flow": null,
            "grid_area": null,
            "grid_auto_columns": null,
            "grid_auto_flow": null,
            "grid_auto_rows": null,
            "grid_column": null,
            "grid_gap": null,
            "grid_row": null,
            "grid_template_areas": null,
            "grid_template_columns": null,
            "grid_template_rows": null,
            "height": null,
            "justify_content": null,
            "justify_items": null,
            "left": null,
            "margin": null,
            "max_height": null,
            "max_width": null,
            "min_height": null,
            "min_width": null,
            "object_fit": null,
            "object_position": null,
            "order": null,
            "overflow": null,
            "overflow_x": null,
            "overflow_y": null,
            "padding": null,
            "right": null,
            "top": null,
            "visibility": null,
            "width": null
          }
        },
        "385d6fb09fe949c2a1b675af0e5e712b": {
          "model_module": "@jupyter-widgets/controls",
          "model_name": "DescriptionStyleModel",
          "model_module_version": "1.5.0",
          "state": {
            "_model_module": "@jupyter-widgets/controls",
            "_model_module_version": "1.5.0",
            "_model_name": "DescriptionStyleModel",
            "_view_count": null,
            "_view_module": "@jupyter-widgets/base",
            "_view_module_version": "1.2.0",
            "_view_name": "StyleView",
            "description_width": ""
          }
        }
      }
    }
  },
  "cells": [
    {
      "cell_type": "markdown",
      "metadata": {
        "id": "xY4KuZUbq83Q"
      },
      "source": [
        "# Finetune Pix2Struct model on Pix2Code HTML Lorem Ipsum dataset"
      ]
    },
    {
      "cell_type": "markdown",
      "metadata": {
        "id": "jT6iC6BDrB9i"
      },
      "source": [
        "## Setup Envirnoment"
      ]
    },
    {
      "cell_type": "code",
      "source": [
        "!pip install transformers==4.33.1"
      ],
      "metadata": {
        "id": "2_-hLR51Tbeh",
        "colab": {
          "base_uri": "https://localhost:8080/"
        },
        "outputId": "27a9ae20-60ce-48b0-ee3a-921655df38b7"
      },
      "execution_count": 1,
      "outputs": [
        {
          "output_type": "stream",
          "name": "stdout",
          "text": [
            "Collecting transformers==4.33.1\n",
            "  Downloading transformers-4.33.1-py3-none-any.whl (7.6 MB)\n",
            "\u001b[2K     \u001b[90m━━━━━━━━━━━━━━━━━━━━━━━━━━━━━━━━━━━━━━━━\u001b[0m \u001b[32m7.6/7.6 MB\u001b[0m \u001b[31m50.1 MB/s\u001b[0m eta \u001b[36m0:00:00\u001b[0m\n",
            "\u001b[?25hRequirement already satisfied: filelock in /usr/local/lib/python3.10/dist-packages (from transformers==4.33.1) (3.12.2)\n",
            "Collecting huggingface-hub<1.0,>=0.15.1 (from transformers==4.33.1)\n",
            "  Downloading huggingface_hub-0.17.2-py3-none-any.whl (294 kB)\n",
            "\u001b[2K     \u001b[90m━━━━━━━━━━━━━━━━━━━━━━━━━━━━━━━━━━━━━━\u001b[0m \u001b[32m294.9/294.9 kB\u001b[0m \u001b[31m35.8 MB/s\u001b[0m eta \u001b[36m0:00:00\u001b[0m\n",
            "\u001b[?25hRequirement already satisfied: numpy>=1.17 in /usr/local/lib/python3.10/dist-packages (from transformers==4.33.1) (1.23.5)\n",
            "Requirement already satisfied: packaging>=20.0 in /usr/local/lib/python3.10/dist-packages (from transformers==4.33.1) (23.1)\n",
            "Requirement already satisfied: pyyaml>=5.1 in /usr/local/lib/python3.10/dist-packages (from transformers==4.33.1) (6.0.1)\n",
            "Requirement already satisfied: regex!=2019.12.17 in /usr/local/lib/python3.10/dist-packages (from transformers==4.33.1) (2023.6.3)\n",
            "Requirement already satisfied: requests in /usr/local/lib/python3.10/dist-packages (from transformers==4.33.1) (2.31.0)\n",
            "Collecting tokenizers!=0.11.3,<0.14,>=0.11.1 (from transformers==4.33.1)\n",
            "  Downloading tokenizers-0.13.3-cp310-cp310-manylinux_2_17_x86_64.manylinux2014_x86_64.whl (7.8 MB)\n",
            "\u001b[2K     \u001b[90m━━━━━━━━━━━━━━━━━━━━━━━━━━━━━━━━━━━━━━━━\u001b[0m \u001b[32m7.8/7.8 MB\u001b[0m \u001b[31m107.2 MB/s\u001b[0m eta \u001b[36m0:00:00\u001b[0m\n",
            "\u001b[?25hCollecting safetensors>=0.3.1 (from transformers==4.33.1)\n",
            "  Downloading safetensors-0.3.3-cp310-cp310-manylinux_2_17_x86_64.manylinux2014_x86_64.whl (1.3 MB)\n",
            "\u001b[2K     \u001b[90m━━━━━━━━━━━━━━━━━━━━━━━━━━━━━━━━━━━━━━━━\u001b[0m \u001b[32m1.3/1.3 MB\u001b[0m \u001b[31m27.6 MB/s\u001b[0m eta \u001b[36m0:00:00\u001b[0m\n",
            "\u001b[?25hRequirement already satisfied: tqdm>=4.27 in /usr/local/lib/python3.10/dist-packages (from transformers==4.33.1) (4.66.1)\n",
            "Requirement already satisfied: fsspec in /usr/local/lib/python3.10/dist-packages (from huggingface-hub<1.0,>=0.15.1->transformers==4.33.1) (2023.6.0)\n",
            "Requirement already satisfied: typing-extensions>=3.7.4.3 in /usr/local/lib/python3.10/dist-packages (from huggingface-hub<1.0,>=0.15.1->transformers==4.33.1) (4.5.0)\n",
            "Requirement already satisfied: charset-normalizer<4,>=2 in /usr/local/lib/python3.10/dist-packages (from requests->transformers==4.33.1) (3.2.0)\n",
            "Requirement already satisfied: idna<4,>=2.5 in /usr/local/lib/python3.10/dist-packages (from requests->transformers==4.33.1) (3.4)\n",
            "Requirement already satisfied: urllib3<3,>=1.21.1 in /usr/local/lib/python3.10/dist-packages (from requests->transformers==4.33.1) (2.0.4)\n",
            "Requirement already satisfied: certifi>=2017.4.17 in /usr/local/lib/python3.10/dist-packages (from requests->transformers==4.33.1) (2023.7.22)\n",
            "Installing collected packages: tokenizers, safetensors, huggingface-hub, transformers\n",
            "Successfully installed huggingface-hub-0.17.2 safetensors-0.3.3 tokenizers-0.13.3 transformers-4.33.1\n"
          ]
        }
      ]
    },
    {
      "cell_type": "code",
      "execution_count": 2,
      "metadata": {
        "id": "jc7bhkoMEtq3"
      },
      "outputs": [],
      "source": [
        "#!pip install --upgrade git+https://github.com/huggingface/transformers"
      ]
    },
    {
      "cell_type": "code",
      "execution_count": 3,
      "metadata": {
        "id": "901j04acrHxe",
        "colab": {
          "base_uri": "https://localhost:8080/"
        },
        "outputId": "93a3e2bf-c625-440d-e5d9-7094cc3eca41"
      },
      "outputs": [
        {
          "output_type": "stream",
          "name": "stdout",
          "text": [
            "\u001b[2K     \u001b[90m━━━━━━━━━━━━━━━━━━━━━━━━━━━━━━━━━━━━━━━━\u001b[0m \u001b[32m2.1/2.1 MB\u001b[0m \u001b[31m17.1 MB/s\u001b[0m eta \u001b[36m0:00:00\u001b[0m\n",
            "\u001b[2K     \u001b[90m━━━━━━━━━━━━━━━━━━━━━━━━━━━━━━━━━━━━━━\u001b[0m \u001b[32m190.0/190.0 kB\u001b[0m \u001b[31m20.4 MB/s\u001b[0m eta \u001b[36m0:00:00\u001b[0m\n",
            "\u001b[2K     \u001b[90m━━━━━━━━━━━━━━━━━━━━━━━━━━━━━━━━━━━━━━\u001b[0m \u001b[32m224.8/224.8 kB\u001b[0m \u001b[31m24.7 MB/s\u001b[0m eta \u001b[36m0:00:00\u001b[0m\n",
            "\u001b[?25h  Preparing metadata (setup.py) ... \u001b[?25l\u001b[?25hdone\n",
            "\u001b[2K     \u001b[90m━━━━━━━━━━━━━━━━━━━━━━━━━━━━━━━━━━━━━━━━\u001b[0m \u001b[32m62.7/62.7 kB\u001b[0m \u001b[31m8.4 MB/s\u001b[0m eta \u001b[36m0:00:00\u001b[0m\n",
            "\u001b[?25h  Building wheel for pathtools (setup.py) ... \u001b[?25l\u001b[?25hdone\n"
          ]
        }
      ],
      "source": [
        "!pip install -q wandb"
      ]
    },
    {
      "cell_type": "markdown",
      "metadata": {
        "id": "pGk1Y2ea-3vS"
      },
      "source": [
        "## Import necessary libraries"
      ]
    },
    {
      "cell_type": "code",
      "execution_count": 4,
      "metadata": {
        "id": "9qulzbyd-1GC"
      },
      "outputs": [],
      "source": [
        "from google.colab import drive\n",
        "import os\n",
        "import zipfile\n",
        "from torch.utils.data import Dataset, DataLoader\n",
        "from torchvision import transforms\n",
        "from PIL import Image\n",
        "import re\n",
        "from transformers import Pix2StructForConditionalGeneration, AutoProcessor\n",
        "import torch\n",
        "from torch.nn import functional as F\n",
        "from transformers.optimization import Adafactor, get_cosine_schedule_with_warmup\n",
        "from pathlib import Path\n",
        "from nltk import edit_distance\n",
        "import numpy as np\n",
        "import wandb\n",
        "from tqdm import tqdm\n",
        "from nltk.translate.bleu_score import corpus_bleu, sentence_bleu, SmoothingFunction\n",
        "from torch.utils.data import random_split\n",
        "import random"
      ]
    },
    {
      "cell_type": "markdown",
      "source": [
        "## Define variables and parameters"
      ],
      "metadata": {
        "id": "HqLs67rI0z4r"
      }
    },
    {
      "cell_type": "code",
      "source": [
        "G_DRIVE_FOLDER_DATASET = '/content/drive/MyDrive/Datasets/'\n",
        "G_DRIVE_FOLDER_CHECKPOINTS = '/content/drive/MyDrive/Checkpoints/'\n",
        "DATASET_NAME = 'pix2code_web_with_html_loremipsum'\n",
        "ZIP_NAME = DATASET_NAME + '.zip'\n",
        "DESTINATION_FOLDER= '/content/data/'\n",
        "DATASET_FOLDER = DESTINATION_FOLDER + 'web_with_html_loremipsum/' # unzipped name\n",
        "\n",
        "EXPERIMENT_NAME = \"Pix2Struct_Pix2Code_HTML_LI_FULL\"\n",
        "\n",
        "MAX_SENTENCE_LEN = 1024\n",
        "\n",
        "MAX_PATCHES = 1024\n",
        "\n",
        "DEBUG = False\n",
        "VERBOSE = True\n",
        "\n",
        "BATCH_SIZE = 4\n",
        "NUM_WARMUP_STEPS = 1000\n",
        "MAX_EPOCHS = 15\n",
        "LR = 1e-4\n",
        "CHECK_VAL_EVERY_N_EPOCH = 5\n",
        "GRADIENT_CLIP_VAL = 1.0\n",
        "ACCUMULATE_GRAD_BATCHES = 8 / BATCH_SIZE\n",
        "\n",
        "TRAIN_SET_PERCENTAGE = 0.89\n",
        "VALID_SET_PERCENTAGE = 0.01\n",
        "# TEST_SET_PERCENTAGE is 1 - TRAIN_SET_PERCENTAGE - VALID_SET_PERCENTAGE # Use 1000 for test\n",
        "\n",
        "\n",
        "RANDOM_SEED = 100\n",
        "\n",
        "LOAD_FROM_CHECKPOINT = False\n",
        "LAST_CHECKPOINT_NAME = \"\""
      ],
      "metadata": {
        "id": "7_hu5o7vam2A"
      },
      "execution_count": 5,
      "outputs": []
    },
    {
      "cell_type": "code",
      "source": [
        "DEVICE = torch.device('cuda' if torch.cuda.is_available() else 'cpu')"
      ],
      "metadata": {
        "id": "R4AXaB54eqgU"
      },
      "execution_count": 6,
      "outputs": []
    },
    {
      "cell_type": "markdown",
      "metadata": {
        "id": "kflo6stPSGhT"
      },
      "source": [
        "\n",
        "## Load Pix2Code Dataset"
      ]
    },
    {
      "cell_type": "markdown",
      "metadata": {
        "id": "c43sPb4lSQaE"
      },
      "source": [
        "### Mount Google Drive"
      ]
    },
    {
      "cell_type": "code",
      "execution_count": 7,
      "metadata": {
        "id": "cc6eCnnEQp5X",
        "colab": {
          "base_uri": "https://localhost:8080/"
        },
        "outputId": "f86c5781-d7cf-405e-f6f6-a9960ac85bb2"
      },
      "outputs": [
        {
          "output_type": "stream",
          "name": "stdout",
          "text": [
            "Mounted at /content/drive\n"
          ]
        }
      ],
      "source": [
        "drive.mount('/content/drive')"
      ]
    },
    {
      "cell_type": "markdown",
      "metadata": {
        "id": "R-TqChHhSYgz"
      },
      "source": [
        "### Import zip file from Google Drive"
      ]
    },
    {
      "cell_type": "code",
      "execution_count": 8,
      "metadata": {
        "id": "Ju1BprKCVbvg"
      },
      "outputs": [],
      "source": [
        "os.makedirs(DESTINATION_FOLDER, exist_ok=True)\n",
        "\n",
        "with zipfile.ZipFile(G_DRIVE_FOLDER_DATASET + ZIP_NAME, \"r\") as zf:\n",
        "  zf.extractall(DESTINATION_FOLDER)"
      ]
    },
    {
      "cell_type": "markdown",
      "metadata": {
        "id": "XIyXwQultNqy"
      },
      "source": [
        "## Load Model and Processor"
      ]
    },
    {
      "cell_type": "code",
      "execution_count": 9,
      "metadata": {
        "id": "15QM1CZQtRWr",
        "colab": {
          "base_uri": "https://localhost:8080/",
          "height": 241,
          "referenced_widgets": [
            "29720fcae3fe4ac494ee97d409c267c4",
            "4ef408a77df64b1f9f03d104a991297e",
            "da9a93f5867e45db9620cbe53e5c1787",
            "12d4d2debaa24082bbf4a5fbc958fd06",
            "9cd0fade22b14c4897fa5158843d868d",
            "6f7345aebff147a7a805d020b5d4b6a4",
            "b31d352f70664ceab4ceaff6f1ddce39",
            "c148516232f64ea292d9c3f3c6ffb677",
            "3ed050b64a754e198f6289dc8db35a7d",
            "b0389f0765bc40c9ad8ba19c6c7a7f66",
            "ce9b19084a89431ba9622ca178e6f848",
            "6b01e53a438b45d69ebbd5b8d45d8304",
            "d55f253302134ebc884bb9739a9d7afa",
            "6f276c752a7d427cac25cbd0a4235571",
            "f03ca4a7115744199cb4a41abd92591b",
            "ae52c5c331cc4bb5be0caac2927789a7",
            "8dbc76d9866c481cafdcb28cb08bcc2e",
            "ccf54d7da8ba458bb15bbf8bafa8ec7e",
            "3daeea1ba75f4410abc56bdc7a1d0677",
            "d2d8ee8a6fec446bbcfd2d8a0bf15652",
            "e6ca9584de98431a91999d2299ba5044",
            "71dae87e3d624d0c87e4b4baf359aa86",
            "8da106cae09e4ace876751f4312c7cfd",
            "a1af2c3efad644f7a62f30bead4f5fd3",
            "8ade831958004c639f621ba31a9fbce9",
            "a4931be4a4cc4b3581b28bc60c5bfda5",
            "002f64a5c86a451d87c6a60d0f3ef6fd",
            "baf2f54b2eff47eeb0a3f9d83c3c8780",
            "f4746e571144423483141b0ce259d718",
            "71b578d459164366aa57668c78bc4c55",
            "15dc4a0275b54a96a5af6a79ad19b9c0",
            "217e3a32570842db9cb13400147fcfb4",
            "7764a2f48db14a77b9f8aadcec497a94",
            "6ba23fc1f8d047c7aeb6d05d20ab4496",
            "fe6a8538e9a44a58bd0c4c3b28f1419a",
            "e90fc3c1a16f4f32a24a71c1ce240454",
            "46c4eb96bb15461e9c8cbb0af16c04c6",
            "8f7a04935e3241f1a2315079b6e0e467",
            "2063328400ca4319b03ecf1cfe5a32ac",
            "70b4f244f4254cd182afbd1897a0c945",
            "8bb180cb72ad4189b1d52f5fda3eee8d",
            "75aceb3f70444b968915e0a86b85e618",
            "07874924a64d4411b26038c87a45bedc",
            "7f1347e45e41471384426054085de2bb",
            "3942bb1fbc6344188f13b379954b36e1",
            "e29fb220acb5477db7fbf09f2f1cf3c6",
            "1392f9f9c8314b1e882911db775cfe11",
            "1b894f0fe59642cca86cdbe70c85697c",
            "c4ce10f912db4a3c837e67443370702b",
            "5fe6c59a87ba443e97188d78fe6a89b1",
            "52acc1970bc64147aca63d7f62f6c650",
            "92a37311708740a1964aef975fdbef56",
            "f0af30864d4d4dd9851e5dd30404144f",
            "c5ba4f44641f45d586873c5f1b137b57",
            "e41b46a89e604e82b776c7f3671d6a14",
            "3dc8eebb105e47678c7ee9eda1b3a2c8",
            "dc30d09c488143b8833637abda8c2d18",
            "d41aba65b4264685971e510bf0f27cf9",
            "745a88e9c14b42f491be9ab788dcec21",
            "4c918e52515346af81b4d71760f5b8f3",
            "7902713e73034afe84ac3a84d7ab85f3",
            "bd8a40a52c1242a19fb151726b7111e8",
            "1289cc5c2e5f4f27b34b99eedccd9e8d",
            "2ae536e99d3c45c5a1744c157b406b93",
            "933e2e523c1d488d9c98d6c048de6616",
            "332f21f798f14c5ea0dc8342cf922697",
            "9cadfdfb125247acb81221a866ab178e",
            "df07ddfab6ef41279be41823d8e20b5a",
            "c072abe0d4f54509b1d684e48b9817d5",
            "47a716e710d8473f84b52bf522870fbb",
            "ea922d371895407e96578dbc7ad671da",
            "cf43bd96400d4a56984108893293d3df",
            "5e12652faec840578e3841079a0fc902",
            "7e40260cd36e4ea99fa69de7eb8d7581",
            "a9dc751f831945399fb282adcd782388",
            "c5a1bf9a968e4772b976f875f0c9d846",
            "385d6fb09fe949c2a1b675af0e5e712b"
          ]
        },
        "outputId": "180c1f79-2850-4a01-d634-485c452b2b90"
      },
      "outputs": [
        {
          "output_type": "display_data",
          "data": {
            "text/plain": [
              "Downloading (…)rocessor_config.json:   0%|          | 0.00/231 [00:00<?, ?B/s]"
            ],
            "application/vnd.jupyter.widget-view+json": {
              "version_major": 2,
              "version_minor": 0,
              "model_id": "29720fcae3fe4ac494ee97d409c267c4"
            }
          },
          "metadata": {}
        },
        {
          "output_type": "display_data",
          "data": {
            "text/plain": [
              "Downloading (…)okenizer_config.json:   0%|          | 0.00/2.61k [00:00<?, ?B/s]"
            ],
            "application/vnd.jupyter.widget-view+json": {
              "version_major": 2,
              "version_minor": 0,
              "model_id": "6b01e53a438b45d69ebbd5b8d45d8304"
            }
          },
          "metadata": {}
        },
        {
          "output_type": "display_data",
          "data": {
            "text/plain": [
              "Downloading spiece.model:   0%|          | 0.00/851k [00:00<?, ?B/s]"
            ],
            "application/vnd.jupyter.widget-view+json": {
              "version_major": 2,
              "version_minor": 0,
              "model_id": "8da106cae09e4ace876751f4312c7cfd"
            }
          },
          "metadata": {}
        },
        {
          "output_type": "display_data",
          "data": {
            "text/plain": [
              "Downloading (…)/main/tokenizer.json:   0%|          | 0.00/3.27M [00:00<?, ?B/s]"
            ],
            "application/vnd.jupyter.widget-view+json": {
              "version_major": 2,
              "version_minor": 0,
              "model_id": "6ba23fc1f8d047c7aeb6d05d20ab4496"
            }
          },
          "metadata": {}
        },
        {
          "output_type": "display_data",
          "data": {
            "text/plain": [
              "Downloading (…)cial_tokens_map.json:   0%|          | 0.00/2.20k [00:00<?, ?B/s]"
            ],
            "application/vnd.jupyter.widget-view+json": {
              "version_major": 2,
              "version_minor": 0,
              "model_id": "3942bb1fbc6344188f13b379954b36e1"
            }
          },
          "metadata": {}
        },
        {
          "output_type": "display_data",
          "data": {
            "text/plain": [
              "Downloading (…)lve/main/config.json:   0%|          | 0.00/4.92k [00:00<?, ?B/s]"
            ],
            "application/vnd.jupyter.widget-view+json": {
              "version_major": 2,
              "version_minor": 0,
              "model_id": "3dc8eebb105e47678c7ee9eda1b3a2c8"
            }
          },
          "metadata": {}
        },
        {
          "output_type": "display_data",
          "data": {
            "text/plain": [
              "Downloading pytorch_model.bin:   0%|          | 0.00/1.13G [00:00<?, ?B/s]"
            ],
            "application/vnd.jupyter.widget-view+json": {
              "version_major": 2,
              "version_minor": 0,
              "model_id": "9cadfdfb125247acb81221a866ab178e"
            }
          },
          "metadata": {}
        }
      ],
      "source": [
        "repo_id = \"google/pix2struct-base\"\n",
        "\n",
        "processor = AutoProcessor.from_pretrained(repo_id)\n",
        "model = Pix2StructForConditionalGeneration.from_pretrained(repo_id, is_encoder_decoder=True)"
      ]
    },
    {
      "cell_type": "code",
      "execution_count": 10,
      "metadata": {
        "id": "pbOXdTmPEbGi"
      },
      "outputs": [],
      "source": [
        "if LOAD_FROM_CHECKPOINT:\n",
        "    print(\"Loading model from checkpoint:\", LAST_CHECKPOINT_NAME)\n",
        "    checkpoint = torch.load(G_DRIVE_FOLDER_CHECKPOINTS + LAST_CHECKPOINT_NAME)\n",
        "\n",
        "    # Load only model weights from training on Pix2Code guis\n",
        "    model.load_state_dict(checkpoint)\n"
      ]
    },
    {
      "cell_type": "markdown",
      "metadata": {
        "id": "8vyJVirgV8VN"
      },
      "source": [
        "## Create Dataset class"
      ]
    },
    {
      "cell_type": "code",
      "source": [
        "def preprocess_html_file(html_text):\n",
        "    text_without_header = re.sub(r'<header>.*?</header>', '', html_text, flags=re.DOTALL)\n",
        "    text_without_footer = re.sub(r'<footer class=\"footer\">.*?</footer>', '', text_without_header, flags=re.DOTALL)\n",
        "    text_without_script = re.sub(r'<script .*?</script>', '', text_without_footer, flags=re.DOTALL)\n",
        "    text_without_linebreaks = text_without_script.replace('\\n', ' ')\n",
        "    text_without_multiple_spaces = re.sub(r'\\s+', ' ', text_without_linebreaks)\n",
        "    return text_without_multiple_spaces"
      ],
      "metadata": {
        "id": "_3ihr-ERsJaL"
      },
      "execution_count": 11,
      "outputs": []
    },
    {
      "cell_type": "markdown",
      "source": [
        "### Filter files with less tokens than 1024 and add new unknown tokens"
      ],
      "metadata": {
        "id": "SmO8IhvtvPHR"
      }
    },
    {
      "cell_type": "code",
      "source": [
        "# Get a list of all files in root_dir\n",
        "files = os.listdir(DATASET_FOLDER)\n",
        "\n",
        "# Find only html files\n",
        "all_html_files = [file for file in files if file.endswith('.html')]"
      ],
      "metadata": {
        "id": "M_J_ugkdgixA"
      },
      "execution_count": 12,
      "outputs": []
    },
    {
      "cell_type": "code",
      "source": [
        "# Find max length\n",
        "max_length = 0\n",
        "\n",
        "bigger_than_1024 = 0\n",
        "lower_than_1024 = 0\n",
        "\n",
        "html_files_filtered = []\n",
        "\n",
        "tokens_to_add = set()\n",
        "\n",
        "for html_file_path in all_html_files:\n",
        "    with open(DATASET_FOLDER + \"/\" + html_file_path, \"r\") as reader:\n",
        "        preprocessed_text = preprocess_html_file(reader.read())\n",
        "        splitted_text = processor.tokenizer(preprocessed_text).tokens()\n",
        "        if len(splitted_text) > 1024:\n",
        "            bigger_than_1024 += 1\n",
        "        else:\n",
        "            lower_than_1024 += 1\n",
        "            html_files_filtered.append(html_file_path)\n",
        "            tokens_to_add = tokens_to_add.union(set(splitted_text))\n",
        "\n",
        "print(\"bigger_than_1024= \", bigger_than_1024)\n",
        "print(\"lower_than_1024= \", lower_than_1024)\n",
        "\n",
        "newly_added_num = processor.tokenizer.add_tokens(list(tokens_to_add))\n",
        "print(f\"Number of new tokens = {newly_added_num}\")\n",
        "\n",
        "# Resize the model's token embeddings if there are new tokens\n",
        "if newly_added_num > 0:\n",
        "    model.decoder.resize_token_embeddings(len(processor.tokenizer), pad_to_multiple_of=8)"
      ],
      "metadata": {
        "id": "94a69-Jnm7Kc",
        "colab": {
          "base_uri": "https://localhost:8080/"
        },
        "outputId": "4df077e6-7787-41b3-9acb-0435594b4f2e"
      },
      "execution_count": 13,
      "outputs": [
        {
          "output_type": "stream",
          "name": "stdout",
          "text": [
            "bigger_than_1024=  0\n",
            "lower_than_1024=  1742\n",
            "Number of new tokens = 0\n"
          ]
        }
      ]
    },
    {
      "cell_type": "code",
      "source": [
        "print(len(html_files_filtered))"
      ],
      "metadata": {
        "id": "TIGV55sghoBX",
        "colab": {
          "base_uri": "https://localhost:8080/"
        },
        "outputId": "4301664f-eadf-411f-9cb0-8b3bbd6c7751"
      },
      "execution_count": 14,
      "outputs": [
        {
          "output_type": "stream",
          "name": "stdout",
          "text": [
            "1742\n"
          ]
        }
      ]
    },
    {
      "cell_type": "code",
      "source": [
        "random.seed(RANDOM_SEED)\n",
        "\n",
        "# Use the same seed, so that parts remain the same\n",
        "random.shuffle(html_files_filtered)\n",
        "\n",
        "train_len = int(TRAIN_SET_PERCENTAGE * len(html_files_filtered))\n",
        "valid_len = int(VALID_SET_PERCENTAGE * len(html_files_filtered))\n",
        "\n",
        "train_paths = html_files_filtered[:train_len]\n",
        "valid_paths = html_files_filtered[train_len:train_len+valid_len]\n",
        "test_paths = html_files_filtered[train_len+valid_len:]\n",
        "\n",
        "print(f\"TRAIN_SET size = {len(train_paths)}\")\n",
        "print(f\"VALID_SET size = {len(valid_paths)}\")\n",
        "print(f\"TEST_SET size = {len(test_paths)}\")"
      ],
      "metadata": {
        "id": "mIaf0zcMhyYG",
        "colab": {
          "base_uri": "https://localhost:8080/"
        },
        "outputId": "e644c738-6481-411b-90a6-f1d80a3a7706"
      },
      "execution_count": 15,
      "outputs": [
        {
          "output_type": "stream",
          "name": "stdout",
          "text": [
            "TRAIN_SET size = 1550\n",
            "VALID_SET size = 17\n",
            "TEST_SET size = 175\n"
          ]
        }
      ]
    },
    {
      "cell_type": "code",
      "source": [
        "class Pix2CodeDataset(Dataset):\n",
        "    def __init__(self, root_dir, transform, text_files_paths):\n",
        "\n",
        "        self.root_dir = root_dir\n",
        "        self.transform = transform\n",
        "        self.text_files_paths = text_files_paths\n",
        "\n",
        "        self.max_patches = MAX_PATCHES\n",
        "        self.max_length = MAX_SENTENCE_LEN\n",
        "        self.ignore_id = -100\n",
        "\n",
        "        self.encodings = []\n",
        "\n",
        "        for text_file in tqdm(text_files_paths):\n",
        "            image_file = text_file.replace('.html', '.png')\n",
        "\n",
        "            # Directly process the text files, and save them in the ram\n",
        "            # Do the same also for images, if there is enough space in memory\n",
        "            text_file_path = os.path.join(root_dir, text_file)\n",
        "            image_file_path = os.path.join(root_dir, image_file)\n",
        "\n",
        "            # Load image\n",
        "            image = Image.open(image_file_path).convert('RGB')\n",
        "\n",
        "            if DEBUG:\n",
        "                image.show()\n",
        "\n",
        "            if self.transform:\n",
        "                image = self.transform(image)\n",
        "\n",
        "            encoding = processor(images=image, max_patches=self.max_patches, return_tensors=\"pt\")\n",
        "            encoding = {k:v.squeeze() for k,v in encoding.items()}\n",
        "\n",
        "            # Load text\n",
        "            with open(text_file_path, 'r') as f:\n",
        "                text = f.read()\n",
        "                text_cleaned = preprocess_html_file(text)\n",
        "\n",
        "            if DEBUG:\n",
        "              print(\"text:\")\n",
        "              print(text)\n",
        "              print(\"\\n\\n\\ntext_cleaned:\")\n",
        "              print(text_cleaned)\n",
        "\n",
        "            input_ids = processor.tokenizer(\n",
        "                text_cleaned,\n",
        "                max_length=self.max_length,\n",
        "                padding=\"max_length\",\n",
        "                truncation=True,\n",
        "                return_tensors=\"pt\",\n",
        "            ).input_ids\n",
        "\n",
        "            labels = input_ids.squeeze().clone()\n",
        "            labels[labels == processor.tokenizer.pad_token_id] = self.ignore_id  # model doesn't need to predict pad token\n",
        "\n",
        "            encoding[\"labels\"] = labels\n",
        "\n",
        "            # For each sample save directly the encoding of both text and image\n",
        "            self.encodings.append(encoding)\n",
        "\n",
        "    def __len__(self):\n",
        "        return len(self.encodings)\n",
        "\n",
        "    def __getitem__(self, idx):\n",
        "        return self.encodings[idx]"
      ],
      "metadata": {
        "id": "HcIfjZZxHfAB"
      },
      "execution_count": 16,
      "outputs": []
    },
    {
      "cell_type": "code",
      "execution_count": 17,
      "metadata": {
        "id": "WulOgKwb1aNh",
        "colab": {
          "base_uri": "https://localhost:8080/"
        },
        "outputId": "20ddbe88-d720-4bf8-a479-ed8905bdff73"
      },
      "outputs": [
        {
          "output_type": "stream",
          "name": "stderr",
          "text": [
            "100%|██████████| 1550/1550 [01:30<00:00, 17.16it/s]\n",
            "100%|██████████| 17/17 [00:00<00:00, 17.62it/s]\n"
          ]
        }
      ],
      "source": [
        "# Transformations for the image\n",
        "transform = transforms.Compose([\n",
        "    transforms.ToTensor(),  # convert PIL Image to PyTorch Tensor\n",
        "    transforms.Normalize(mean=[0.485, 0.456, 0.406], std=[0.229, 0.224, 0.225]),  # normalize for pretrained models\n",
        "])\n",
        "\n",
        "# Instantiate the CustomDataset\n",
        "train_dataset = Pix2CodeDataset(DATASET_FOLDER, transform, train_paths)\n",
        "val_dataset = Pix2CodeDataset(DATASET_FOLDER, transform, valid_paths)\n",
        "\n",
        "# Use DataLoader for batching and shuffling\n",
        "train_dataloader = DataLoader(train_dataset, batch_size=BATCH_SIZE, shuffle=True)\n",
        "val_dataloader = DataLoader(val_dataset, batch_size=10, shuffle=False) # Use 10 as batch for testing"
      ]
    },
    {
      "cell_type": "code",
      "execution_count": 18,
      "metadata": {
        "id": "RJbcAvt2eSvb",
        "colab": {
          "base_uri": "https://localhost:8080/"
        },
        "outputId": "debf41e3-1817-4817-f764-c6c740d97883"
      },
      "outputs": [
        {
          "output_type": "stream",
          "name": "stdout",
          "text": [
            "train_dataloader size = 388\n",
            "val_dataloader size = 2\n"
          ]
        }
      ],
      "source": [
        "print(f\"train_dataloader size = {len(train_dataloader)}\")\n",
        "print(f\"val_dataloader size = {len(val_dataloader)}\")"
      ]
    },
    {
      "cell_type": "code",
      "execution_count": 19,
      "metadata": {
        "id": "RYsgx4dc7zPa"
      },
      "outputs": [],
      "source": [
        "batch = next(iter(train_dataloader))\n",
        "encoding = batch"
      ]
    },
    {
      "cell_type": "code",
      "execution_count": 20,
      "metadata": {
        "id": "IMYh5fmR77Cn",
        "colab": {
          "base_uri": "https://localhost:8080/"
        },
        "outputId": "a2edfee6-b00e-4f04-96ae-a319806d3f2e"
      },
      "outputs": [
        {
          "output_type": "execute_result",
          "data": {
            "text/plain": [
              "{'flattened_patches': tensor([[[ 1.0000,  1.0000, -0.0545,  ..., -0.0545,  0.2822,  0.6785],\n",
              "          [ 1.0000,  2.0000, -0.0545,  ..., -6.6024, -6.4118, -5.9858],\n",
              "          [ 1.0000,  3.0000, -0.0545,  ..., -6.5876, -6.3504, -5.8734],\n",
              "          ...,\n",
              "          [ 0.0000,  0.0000,  0.0000,  ...,  0.0000,  0.0000,  0.0000],\n",
              "          [ 0.0000,  0.0000,  0.0000,  ...,  0.0000,  0.0000,  0.0000],\n",
              "          [ 0.0000,  0.0000,  0.0000,  ...,  0.0000,  0.0000,  0.0000]],\n",
              " \n",
              "         [[ 1.0000,  1.0000, -0.0955,  ..., -0.0955,  0.2758,  0.7127],\n",
              "          [ 1.0000,  2.0000, -0.0955,  ..., -6.6073, -4.5724, -2.0608],\n",
              "          [ 1.0000,  3.0000, -0.0955,  ..., -6.4468, -4.4519, -1.9920],\n",
              "          ...,\n",
              "          [ 0.0000,  0.0000,  0.0000,  ...,  0.0000,  0.0000,  0.0000],\n",
              "          [ 0.0000,  0.0000,  0.0000,  ...,  0.0000,  0.0000,  0.0000],\n",
              "          [ 0.0000,  0.0000,  0.0000,  ...,  0.0000,  0.0000,  0.0000]],\n",
              " \n",
              "         [[ 1.0000,  1.0000, -0.0133,  ..., -0.0133,  0.2904,  0.6478],\n",
              "          [ 1.0000,  2.0000, -0.0133,  ..., -5.9184, -5.7465, -5.3623],\n",
              "          [ 1.0000,  3.0000, -0.0133,  ..., -5.9077, -5.7015, -5.2801],\n",
              "          ...,\n",
              "          [ 0.0000,  0.0000,  0.0000,  ...,  0.0000,  0.0000,  0.0000],\n",
              "          [ 0.0000,  0.0000,  0.0000,  ...,  0.0000,  0.0000,  0.0000],\n",
              "          [ 0.0000,  0.0000,  0.0000,  ...,  0.0000,  0.0000,  0.0000]],\n",
              " \n",
              "         [[ 1.0000,  1.0000, -0.0285,  ..., -0.0285,  0.2867,  0.6575],\n",
              "          [ 1.0000,  2.0000, -0.0285,  ..., -5.5553, -3.8282, -1.6965],\n",
              "          [ 1.0000,  3.0000, -0.0285,  ..., -5.4023, -3.7132, -1.6306],\n",
              "          ...,\n",
              "          [ 0.0000,  0.0000,  0.0000,  ...,  0.0000,  0.0000,  0.0000],\n",
              "          [ 0.0000,  0.0000,  0.0000,  ...,  0.0000,  0.0000,  0.0000],\n",
              "          [ 0.0000,  0.0000,  0.0000,  ...,  0.0000,  0.0000,  0.0000]]]),\n",
              " 'attention_mask': tensor([[1., 1., 1.,  ..., 0., 0., 0.],\n",
              "         [1., 1., 1.,  ..., 0., 0., 0.],\n",
              "         [1., 1., 1.,  ..., 0., 0., 0.],\n",
              "         [1., 1., 1.,  ..., 0., 0., 0.]]),\n",
              " 'labels': tensor([[50190, 50227,   411,  ...,  -100,  -100,  -100],\n",
              "         [50190, 50227,   411,  ...,  -100,  -100,  -100],\n",
              "         [50190, 50227,   411,  ...,  -100,  -100,  -100],\n",
              "         [50190, 50227,   411,  ...,  -100,  -100,  -100]])}"
            ]
          },
          "metadata": {},
          "execution_count": 20
        }
      ],
      "source": [
        "encoding"
      ]
    },
    {
      "cell_type": "code",
      "source": [
        "encoding[\"flattened_patches\"][0]"
      ],
      "metadata": {
        "id": "RkrDNGE4wybD",
        "colab": {
          "base_uri": "https://localhost:8080/"
        },
        "outputId": "2ae485d8-c044-4b01-a83a-5515c5a38573"
      },
      "execution_count": 21,
      "outputs": [
        {
          "output_type": "execute_result",
          "data": {
            "text/plain": [
              "tensor([[ 1.0000,  1.0000, -0.0545,  ..., -0.0545,  0.2822,  0.6785],\n",
              "        [ 1.0000,  2.0000, -0.0545,  ..., -6.6024, -6.4118, -5.9858],\n",
              "        [ 1.0000,  3.0000, -0.0545,  ..., -6.5876, -6.3504, -5.8734],\n",
              "        ...,\n",
              "        [ 0.0000,  0.0000,  0.0000,  ...,  0.0000,  0.0000,  0.0000],\n",
              "        [ 0.0000,  0.0000,  0.0000,  ...,  0.0000,  0.0000,  0.0000],\n",
              "        [ 0.0000,  0.0000,  0.0000,  ...,  0.0000,  0.0000,  0.0000]])"
            ]
          },
          "metadata": {},
          "execution_count": 21
        }
      ]
    },
    {
      "cell_type": "code",
      "source": [
        "encoding[\"labels\"]"
      ],
      "metadata": {
        "id": "TTIYBuTDqAX5",
        "colab": {
          "base_uri": "https://localhost:8080/"
        },
        "outputId": "ae4d1433-21f8-4752-fe25-c126ea8e4ee1"
      },
      "execution_count": 22,
      "outputs": [
        {
          "output_type": "execute_result",
          "data": {
            "text/plain": [
              "tensor([[50190, 50227,   411,  ...,  -100,  -100,  -100],\n",
              "        [50190, 50227,   411,  ...,  -100,  -100,  -100],\n",
              "        [50190, 50227,   411,  ...,  -100,  -100,  -100],\n",
              "        [50190, 50227,   411,  ...,  -100,  -100,  -100]])"
            ]
          },
          "metadata": {},
          "execution_count": 22
        }
      ]
    },
    {
      "cell_type": "code",
      "source": [
        "encoding[\"labels\"][0]"
      ],
      "metadata": {
        "id": "sMl1M2T8qTmg",
        "colab": {
          "base_uri": "https://localhost:8080/"
        },
        "outputId": "26f49f53-63ea-4990-a681-5e412d7354ef"
      },
      "execution_count": 23,
      "outputs": [
        {
          "output_type": "execute_result",
          "data": {
            "text/plain": [
              "tensor([50190, 50227,   411,  ...,  -100,  -100,  -100])"
            ]
          },
          "metadata": {},
          "execution_count": 23
        }
      ]
    },
    {
      "cell_type": "code",
      "source": [
        "labels_list = encoding[\"labels\"][0].tolist()\n",
        "\n",
        "# Filter out the -100 values\n",
        "filtered_labels = [token for token in labels_list if token != -100]\n",
        "\n",
        "# Decode the cleaned list of tokens\n",
        "decoded_text_example = processor.tokenizer.batch_decode([filtered_labels], skip_special_tokens=True)[0]\n"
      ],
      "metadata": {
        "id": "5LzfjsX_qs5u"
      },
      "execution_count": 24,
      "outputs": []
    },
    {
      "cell_type": "code",
      "source": [
        "decoded_text_example"
      ],
      "metadata": {
        "id": "_nFDTn-XrQWl",
        "colab": {
          "base_uri": "https://localhost:8080/",
          "height": 214
        },
        "outputId": "39f41c4a-b2ed-4004-aaf9-d6ae8e6518b5"
      },
      "execution_count": 25,
      "outputs": [
        {
          "output_type": "execute_result",
          "data": {
            "text/plain": [
              "'<html> <body> <main class=\"container\"> <div class=\"header clearfix\"> <nav> <ul class=\"nav nav-pills pull-left\"> <li><a href=\"#\">Tempor officia</a></li> <li class=\"active\"><a href=\"#\">Magna culpa</a></li> <li><a href=\"#\">Tempor excepteur</a></li> </ul> </nav> </div> <div class=\"row\"><div class=\"col-lg-6\"> <h4>Eiusmod</h4><p>Exercitation anim ad cupidatat non occaecat laboris culpa</p> <a class=\"btn btn-warning\" href=\"#\" role=\"button\">Occaecat pariatur</a> </div> <div class=\"col-lg-6\"> <h4>Incididunt</h4><p>Lorem minim eiusmod culpa dolore ullamco elit esse</p> <a class=\"btn btn-warning\" href=\"#\" role=\"button\">Id eiusmod</a> </div> </div> <div class=\"row\"><div class=\"col-lg-12\"> <h4>Veniam</h4><p>Sunt velit amet</p> <a class=\"btn btn-danger\" href=\"#\" role=\"button\">Irure esse</a> </div> </div> <div class=\"row\"><div class=\"col-lg-3\"> <h4>Enim</h4><p>Culpa laborum ex aute reprehenderit ea sit qui</p> <a class=\"btn btn-success\" href=\"#\" role=\"button\">Eiusmod fugiat</a> </div> <div class=\"col-lg-3\"> <h4>Excepteur</h4><p>Fugiat consequat sed cillum non magna nostrud qui</p> <a class=\"btn btn-success\" href=\"#\" role=\"button\">Mollit proident</a> </div> <div class=\"col-lg-3\"> <h4>Nulla</h4><p>Deserunt est duis proident ea adipiscing aliquip laboris</p> <a class=\"btn btn-danger\" href=\"#\" role=\"button\">Ea est</a> </div> <div class=\"col-lg-3\"> <h4>Cillum</h4><p>Eu cupidatat tempor est consequat officia veniam non</p> <a class=\"btn btn-warning\" href=\"#\" role=\"button\">Elit ex</a> </div> </div> </main> </body> </html> '"
            ],
            "application/vnd.google.colaboratory.intrinsic+json": {
              "type": "string"
            }
          },
          "metadata": {},
          "execution_count": 25
        }
      ]
    },
    {
      "cell_type": "code",
      "execution_count": 26,
      "metadata": {
        "id": "w721sx7Q-_DV",
        "colab": {
          "base_uri": "https://localhost:8080/"
        },
        "outputId": "f5550f84-fc97-4185-db93-d9af5a6ed575"
      },
      "outputs": [
        {
          "output_type": "stream",
          "name": "stdout",
          "text": [
            "flattened_patches torch.Size([4, 1024, 770])\n",
            "attention_mask torch.Size([4, 1024])\n",
            "labels torch.Size([4, 1024])\n"
          ]
        }
      ],
      "source": [
        "for k,v in encoding.items():\n",
        "    print(k,v.shape)"
      ]
    },
    {
      "cell_type": "markdown",
      "metadata": {
        "id": "g7DngCr1FJQJ"
      },
      "source": [
        "## Training"
      ]
    },
    {
      "cell_type": "code",
      "execution_count": 27,
      "metadata": {
        "id": "zkCJQz_GEM4W"
      },
      "outputs": [],
      "source": [
        "START_TOKEN_ID = PAD_TOKEN_ID = processor.tokenizer.pad_token_id"
      ]
    },
    {
      "cell_type": "code",
      "execution_count": 28,
      "metadata": {
        "id": "mq6Y22hDqn3x"
      },
      "outputs": [],
      "source": [
        "def move_to_device(data):\n",
        "    if isinstance(data, (list,tuple)):\n",
        "        return [move_to_device(x) for x in data]\n",
        "    elif isinstance(data, dict):\n",
        "        return {k: move_to_device(v) for k, v in data.items()}\n",
        "    elif isinstance(data, torch.Tensor):\n",
        "        return data.to(DEVICE)\n",
        "    else:\n",
        "        return data"
      ]
    },
    {
      "cell_type": "markdown",
      "source": [
        "### Main training function"
      ],
      "metadata": {
        "id": "TEt-owxM1puj"
      }
    },
    {
      "cell_type": "code",
      "execution_count": 29,
      "metadata": {
        "id": "1j0_8Yk6Gk4-"
      },
      "outputs": [],
      "source": [
        "def train_model(config, processor, model, train_dataloader, val_dataloader):\n",
        "    # Extract configuration values\n",
        "    lr = config.get(\"lr\")\n",
        "    max_epochs = config.get(\"max_epochs\")\n",
        "    num_warmup_steps = config.get(\"num_warmup_steps\")\n",
        "\n",
        "    model.to(DEVICE)\n",
        "\n",
        "    optimizer = Adafactor(model.parameters(), scale_parameter=False, relative_step=False, lr=lr, weight_decay=1e-05)\n",
        "\n",
        "    # Use total steps (i.e., max_epochs * length_of_train_data)\n",
        "    total_steps = max_epochs * len(train_dataloader)\n",
        "    scheduler = get_cosine_schedule_with_warmup(optimizer,\n",
        "                                                num_warmup_steps=num_warmup_steps,\n",
        "                                                num_training_steps=total_steps)\n",
        "\n",
        "    global_step = 0  # to keep track of total steps\n",
        "    epoch_start = 0\n",
        "\n",
        "    wandb.init(project=\"Pix2Struct\", name=\"run-\" + EXPERIMENT_NAME, config=config)\n",
        "\n",
        "    #epoch_last = epoch_start + max_epochs - 1\n",
        "    epoch_last = max_epochs - 1\n",
        "    #for epoch in range(epoch_start, epoch_start + max_epochs):\n",
        "    for epoch in range(epoch_start, max_epochs):\n",
        "        global_step, moving_avg_loss = training_loop(epoch, train_dataloader, model, config, optimizer, scheduler, global_step, epoch_last)\n",
        "\n",
        "        if config.get(\"verbose\", False):\n",
        "            print(f\"Moving Avg Loss: {moving_avg_loss:.3f}\")\n",
        "\n",
        "        wandb.log({\"moving_avg_loss\": moving_avg_loss, **{f'lr_{i}': param_group['lr'] for i, param_group in enumerate(optimizer.param_groups)}})\n",
        "\n",
        "        # Save the model after each validation step\n",
        "        save_checkpoint(model, optimizer, scheduler, epoch, global_step, wandb.run.id, EXPERIMENT_NAME, G_DRIVE_FOLDER_CHECKPOINTS)\n",
        "\n",
        "        #if epoch == 0 + epoch_start or epoch == epoch_last or (epoch + 1) % config.get(\"check_val_every_n_epoch\") == 0:\n",
        "        if epoch == 0 or epoch == epoch_last or (epoch + 1) % config.get(\"check_val_every_n_epoch\") == 0:\n",
        "            avg_bleu_score = testing_loop(val_dataloader, model, processor, config, f\"Epoch {epoch}/{epoch_last} - valid loop\")\n",
        "\n",
        "            if config.get(\"verbose\", False):\n",
        "                print(f\" Avg Bleu Score: {avg_bleu_score:.2f}\")\n",
        "\n",
        "            wandb.log({\"bleu\": avg_bleu_score})\n",
        "\n",
        "    wandb.finish()"
      ]
    },
    {
      "cell_type": "code",
      "source": [
        "def training_loop(epoch, train_dataloader, model, config, optimizer, scheduler, global_step, epoch_last):\n",
        "    model.train()\n",
        "    train_loop = tqdm(enumerate(train_dataloader), total=len(train_dataloader), desc=f\"Epoch {epoch}/{epoch_last} - train loop\")\n",
        "\n",
        "    # Extract configuration values\n",
        "    accumulate_grad_batches = config.get('accumulate_grad_batches', 1)\n",
        "    gradient_clip_val = config.get(\"gradient_clip_val\")\n",
        "\n",
        "    moving_avg_loss = 0\n",
        "    alpha = 0.1 # Smoothing factor\n",
        "\n",
        "    for step, batch in train_loop:\n",
        "        encoding = move_to_device(batch)\n",
        "        labels, flattened_patches, attention_mask = encoding[\"labels\"], encoding[\"flattened_patches\"], encoding[\"attention_mask\"]\n",
        "\n",
        "        outputs = model(labels=labels, flattened_patches=flattened_patches, attention_mask=attention_mask)\n",
        "        loss = outputs.loss\n",
        "        loss.backward()\n",
        "\n",
        "        if global_step % accumulate_grad_batches == 0 or step == len(train_dataloader) - 1:\n",
        "            if gradient_clip_val:\n",
        "                torch.nn.utils.clip_grad_norm_(model.parameters(), gradient_clip_val)\n",
        "            optimizer.step()\n",
        "            optimizer.zero_grad()\n",
        "\n",
        "        # Update the progress bar\n",
        "        train_loop.set_postfix({'loss': loss.item()}, refresh=True)\n",
        "\n",
        "        scheduler.step()\n",
        "        global_step += 1\n",
        "\n",
        "        # Update the moving average loss\n",
        "        moving_avg_loss = loss.item() if moving_avg_loss == 0 else alpha * loss.item() + (1 - alpha) * moving_avg_loss\n",
        "\n",
        "        # Log Loss after each step\n",
        "        wandb.log({\"loss\": loss.item()})\n",
        "\n",
        "    return global_step, moving_avg_loss"
      ],
      "metadata": {
        "id": "wg6u7CI38kMU"
      },
      "execution_count": 30,
      "outputs": []
    },
    {
      "cell_type": "code",
      "source": [
        "def testing_loop(testing_dataloader, model, processor, config, description):\n",
        "    model.eval()\n",
        "    bleu_scores = []\n",
        "\n",
        "    with torch.no_grad():\n",
        "        test_loop = tqdm(enumerate(testing_dataloader), total=len(testing_dataloader), desc=description)\n",
        "        for i, batch in test_loop:\n",
        "            encoding = move_to_device(batch)\n",
        "            labels, flattened_patches, attention_mask = encoding[\"labels\"], encoding[\"flattened_patches\"], encoding[\"attention_mask\"]\n",
        "\n",
        "            outputs = model.generate(flattened_patches=flattened_patches, attention_mask=attention_mask, max_new_tokens=MAX_SENTENCE_LEN)\n",
        "\n",
        "            predictions = processor.tokenizer.batch_decode(outputs, skip_special_tokens=True)\n",
        "\n",
        "            labels[labels == -100] = 0\n",
        "            answers = processor.tokenizer.batch_decode(labels, skip_special_tokens=True)\n",
        "\n",
        "            bleu_scores += [corpus_bleu([[answer]], [pred], smoothing_function=SmoothingFunction().method4) for pred, answer in zip(predictions, answers)]\n",
        "\n",
        "            avg_bleu_score = np.mean(bleu_scores)\n",
        "            test_loop.set_postfix(bleu_score=avg_bleu_score)\n",
        "\n",
        "            if config.get(\"verbose\", False):\n",
        "                for pred, answer, bleu_score in zip(predictions, answers, bleu_scores):\n",
        "                    tqdm.write(f\"\\nPrediction: {pred}\\n    Answer: {answer}\\n      Bleu: {bleu_score:.2f}\")\n",
        "\n",
        "    return avg_bleu_score\n"
      ],
      "metadata": {
        "id": "RXfc_whn-qJW"
      },
      "execution_count": 31,
      "outputs": []
    },
    {
      "cell_type": "code",
      "source": [
        "def save_checkpoint(model, optimizer, scheduler, epoch, global_step, wandb_run_id, experiment_name, folder_path):\n",
        "    checkpoint = {\n",
        "        \"model_state_dict\": model.state_dict(),\n",
        "        \"optimizer_state_dict\": optimizer.state_dict(),\n",
        "        \"scheduler_state_dict\": scheduler.state_dict(),\n",
        "        \"epoch\": epoch,\n",
        "        \"global_step\": global_step,\n",
        "        'wandb_run_id': wandb_run_id\n",
        "    }\n",
        "    model_name = f\"{experiment_name}_epoch[{epoch}].pth\"\n",
        "    torch.save(checkpoint, folder_path + model_name)\n"
      ],
      "metadata": {
        "id": "GhiWvFFFA8n4"
      },
      "execution_count": 32,
      "outputs": []
    },
    {
      "cell_type": "code",
      "execution_count": 33,
      "metadata": {
        "id": "F6Lme6odJJK8"
      },
      "outputs": [],
      "source": [
        "config = {\n",
        "          \"batch_size\": BATCH_SIZE,\n",
        "          \"num_warmup_steps\": NUM_WARMUP_STEPS,\n",
        "          \"max_epochs\": MAX_EPOCHS,\n",
        "          \"lr\": LR,\n",
        "          \"check_val_every_n_epoch\": CHECK_VAL_EVERY_N_EPOCH,\n",
        "          \"gradient_clip_val\": GRADIENT_CLIP_VAL,\n",
        "          \"accumulate_grad_batches\": ACCUMULATE_GRAD_BATCHES,\n",
        "          \"verbose\": VERBOSE,\n",
        "}"
      ]
    },
    {
      "cell_type": "code",
      "source": [
        "def validate_config(config):\n",
        "    # Check required keys\n",
        "    required_keys = [\n",
        "        \"batch_size\",\n",
        "        \"num_warmup_steps\",\n",
        "        \"max_epochs\",\n",
        "        \"lr\",\n",
        "        \"check_val_every_n_epoch\",\n",
        "        \"gradient_clip_val\",\n",
        "        \"accumulate_grad_batches\",\n",
        "        \"verbose\"\n",
        "    ]\n",
        "    for key in required_keys:\n",
        "        if key not in config:\n",
        "            raise ValueError(f\"Key '{key}' must be present in the configuration.\")\n",
        "\n",
        "    # Check that values are in expected ranges\n",
        "    if config[\"batch_size\"] <= 0:\n",
        "        raise ValueError(\"batch_size must be positive.\")\n",
        "    if config[\"num_warmup_steps\"] < 0:\n",
        "        raise ValueError(\"num_warmup_steps must be non-negative.\")\n",
        "    if config[\"max_epochs\"] <= 0:\n",
        "        raise ValueError(\"max_epochs must be positive.\")\n",
        "    if config[\"lr\"] <= 0:\n",
        "        raise ValueError(\"Learning rate must be positive.\")\n",
        "    if config[\"check_val_every_n_epoch\"] <= 0:\n",
        "        raise ValueError(\"check_val_every_n_epoch must be positive.\")\n",
        "    if config[\"gradient_clip_val\"] < 0:\n",
        "        raise ValueError(\"gradient_clip_val must be non-negative.\")\n",
        "    if config[\"accumulate_grad_batches\"] <= 0:\n",
        "        raise ValueError(\"accumulate_grad_batches must be positive.\")\n",
        "    if not isinstance(config[\"verbose\"], bool):\n",
        "        raise ValueError(\"verbose must be a boolean value.\")\n"
      ],
      "metadata": {
        "id": "QxemWk5nEfZL"
      },
      "execution_count": 34,
      "outputs": []
    },
    {
      "cell_type": "code",
      "source": [
        "validate_config(config)\n",
        "print(config)"
      ],
      "metadata": {
        "id": "knzzKEtwEruj",
        "colab": {
          "base_uri": "https://localhost:8080/"
        },
        "outputId": "d799f432-d1d6-41f5-f53d-cf60c0300ee8"
      },
      "execution_count": 35,
      "outputs": [
        {
          "output_type": "stream",
          "name": "stdout",
          "text": [
            "{'batch_size': 4, 'num_warmup_steps': 1000, 'max_epochs': 15, 'lr': 0.0001, 'check_val_every_n_epoch': 5, 'gradient_clip_val': 1.0, 'accumulate_grad_batches': 2.0, 'verbose': True}\n"
          ]
        }
      ]
    },
    {
      "cell_type": "code",
      "execution_count": 36,
      "metadata": {
        "id": "EPfNUdrEoci8",
        "colab": {
          "base_uri": "https://localhost:8080/",
          "height": 1000
        },
        "outputId": "2cfe996b-64b4-41dd-b4fb-3a6481c3ecdb"
      },
      "outputs": [
        {
          "data": {
            "application/javascript": [
              "\n",
              "        window._wandbApiKey = new Promise((resolve, reject) => {\n",
              "            function loadScript(url) {\n",
              "            return new Promise(function(resolve, reject) {\n",
              "                let newScript = document.createElement(\"script\");\n",
              "                newScript.onerror = reject;\n",
              "                newScript.onload = resolve;\n",
              "                document.body.appendChild(newScript);\n",
              "                newScript.src = url;\n",
              "            });\n",
              "            }\n",
              "            loadScript(\"https://cdn.jsdelivr.net/npm/postmate/build/postmate.min.js\").then(() => {\n",
              "            const iframe = document.createElement('iframe')\n",
              "            iframe.style.cssText = \"width:0;height:0;border:none\"\n",
              "            document.body.appendChild(iframe)\n",
              "            const handshake = new Postmate({\n",
              "                container: iframe,\n",
              "                url: 'https://wandb.ai/authorize'\n",
              "            });\n",
              "            const timeout = setTimeout(() => reject(\"Couldn't auto authenticate\"), 5000)\n",
              "            handshake.then(function(child) {\n",
              "                child.on('authorize', data => {\n",
              "                    clearTimeout(timeout)\n",
              "                    resolve(data)\n",
              "                });\n",
              "            });\n",
              "            })\n",
              "        });\n",
              "    "
            ],
            "text/plain": [
              "<IPython.core.display.Javascript object>"
            ]
          },
          "metadata": {},
          "output_type": "display_data"
        },
        {
          "metadata": {
            "tags": null
          },
          "name": "stderr",
          "output_type": "stream",
          "text": [
            "\u001b[34m\u001b[1mwandb\u001b[0m: Appending key for api.wandb.ai to your netrc file: /root/.netrc\n"
          ]
        },
        {
          "data": {
            "text/html": [
              "Tracking run with wandb version 0.15.11"
            ],
            "text/plain": [
              "<IPython.core.display.HTML object>"
            ]
          },
          "metadata": {},
          "output_type": "display_data"
        },
        {
          "data": {
            "text/html": [
              "Run data is saved locally in <code>/content/wandb/run-20230925_142547-edsm5km1</code>"
            ],
            "text/plain": [
              "<IPython.core.display.HTML object>"
            ]
          },
          "metadata": {},
          "output_type": "display_data"
        },
        {
          "data": {
            "text/html": [
              "Syncing run <strong><a href='https://wandb.ai/team-gs/Pix2Struct/runs/edsm5km1' target=\"_blank\">run-Pix2Struct_Pix2Code_HTML_LI_FULL</a></strong> to <a href='https://wandb.ai/team-gs/Pix2Struct' target=\"_blank\">Weights & Biases</a> (<a href='https://wandb.me/run' target=\"_blank\">docs</a>)<br/>"
            ],
            "text/plain": [
              "<IPython.core.display.HTML object>"
            ]
          },
          "metadata": {},
          "output_type": "display_data"
        },
        {
          "data": {
            "text/html": [
              " View project at <a href='https://wandb.ai/team-gs/Pix2Struct' target=\"_blank\">https://wandb.ai/team-gs/Pix2Struct</a>"
            ],
            "text/plain": [
              "<IPython.core.display.HTML object>"
            ]
          },
          "metadata": {},
          "output_type": "display_data"
        },
        {
          "data": {
            "text/html": [
              " View run at <a href='https://wandb.ai/team-gs/Pix2Struct/runs/edsm5km1' target=\"_blank\">https://wandb.ai/team-gs/Pix2Struct/runs/edsm5km1</a>"
            ],
            "text/plain": [
              "<IPython.core.display.HTML object>"
            ]
          },
          "metadata": {},
          "output_type": "display_data"
        },
        {
          "metadata": {
            "tags": null
          },
          "name": "stderr",
          "output_type": "stream",
          "text": [
            "Epoch 0/14 - train loop: 100%|██████████| 388/388 [05:01<00:00,  1.29it/s, loss=0.803]\n"
          ]
        },
        {
          "metadata": {
            "tags": null
          },
          "name": "stdout",
          "output_type": "stream",
          "text": [
            "Moving Avg Loss: 0.846\n"
          ]
        },
        {
          "metadata": {
            "tags": null
          },
          "name": "stderr",
          "output_type": "stream",
          "text": [
            "Epoch 0/14 - valid loop:  50%|█████     | 1/2 [03:01<03:01, 181.88s/it, bleu_score=0.521]"
          ]
        },
        {
          "metadata": {
            "tags": null
          },
          "name": "stdout",
          "output_type": "stream",
          "text": [
            "\n",
            "Prediction: <html> <body> <main class=\"container\"> <div class=\"header clearfix\"> <nav> <ul class=\"nav nav-pills pull-left\"> <li><a href=\"#\">Esse incididunt tempor ullamco</a></li> <li><a href=\"#\">Amet qui</a></li> </ul> </nav> </div> <div class=\"row\"><div class=\"col-lg-3\"> <h4>Elit</h4><p>Enim labore esse cillum aliqua nisi velit in</p> <a class=\"btn btn-warning\" href=\"#\" role=\"button\">Amet qui</a> </div> <div class=\"col-lg-3\"> <h4>Quis</h4><p>Cillum nostrud pariatur amet fugiat in minim ut</p> <a class=\"btn btn-warning\" href=\"#\" role=\"button\">Exercitation reprehenderit</a> </div> <div class=\"col-lg-3\"> <h4>Incididunt</h4><p>Commodo voluptate ea dolore minim tempor</p> <a class=\"btn btn-warning\" href=\"#\" role=\"button\">Aliqua nulla</a> </div> <div class=\"col-lg-3\"> <h4>Exercitation</h4><p>Ea consectetur dolor labore esse incididunt tempor ullamco</p> <a class=\"btn btn-warning\" href=\"#\" role=\"button\">Exercitation aliqua</a> </div> <div class=\"col-lg-3\"> <h4>Occaecat</h4><p>Quis officia sed eu cupidatat reprehenderit laboris lorem</p> <a class=\"btn btn-warning\" href=\"#\" role=\"button\">Non aliqua</a> </div> <div class=\"col-lg-3\"> <h4>Voluptate</h4><p>Laborum nisi et et do quis velit</p> <a class=\"btn btn-warning\" href=\"#\" role=\"button\">Amet velit</a> </div> <div class=\"col-lg-3\"> <h4>Amet</h4><p>Consectetur amet adipiscing exim et do quis velit</p> <a class=\"btn btn-warning\" href=\"#\" role=\"button\">Aute amet</a> </div> <div class=\"col-lg-3\"> <h4>Amet</h4><p>Consectetur amet adipiscing exim et do quis velit</p> <a class=\"btn btn-warning\" href=\"#\" role=\"button\">Aute amet</a> </div> <div class=\"col-lg-3\"> <h4>Amet</h4><p>Consectetur amet adipiscing exim et do quis velit</p> <a class=\"btn btn-warning\" href=\"#\" role=\"button\">Aute amet</a> </div> <div class=\"col-lg-3\"> <h4>Amet</h4><p>Consectetur amet adipiscing exim et do quis velit</p> <a class=\"btn btn-warning\" href=\"#\" role=\"button\">Aute amet</a> </div> <div class=\"col-lg-3\"> <h4>Amet</h4><p>Consectetur amet adipiscing exim et do quis velit</p> <a class=\"btn btn-warning\" href=\"#\" role=\"button\">Aute amet</a> </div> <div class=\"col-lg-3\"> <h4>Amet</h4><p>Consectetur amet adipiscing exim et do quis velit</p> <a class=\"btn btn-warning\" href=\"#\" role=\"button\">Aute amet</a> </div> <div class=\"col-lg-3\"> <h4>Amet</h4><p>Consectetur amet adipiscing exim et do quis velit</p> <a class=\"btn btn-warning\" href=\"#\" role=\"button\">Aute amet</a> </div> <div class=\"col-lg-3\"> <h4>Exercitation</h4><p>Ea consectetur dolor labore esse incididunt tempor ullamco</p> <a class=\"btn btn-warning\" href=\"#\" role=\"button\">Aute amet</a> </div> <div class=\"col-lg-3\"> <h4>Amet</h4><p>Con\n",
            "    Answer: <html> <body> <main class=\"container\"> <div class=\"header clearfix\"> <nav> <ul class=\"nav nav-pills pull-left\"> <li><a href=\"#\">Occaecat cillum</a></li> <li class=\"active\"><a href=\"#\">Aliquip pariatur</a></li> </ul> </nav> </div> <div class=\"row\"><div class=\"col-lg-6\"> <h4>Elit</h4><p>Enim labore esse cillum aliqua nisi velit in</p> <a class=\"btn btn-warning\" href=\"#\" role=\"button\">Amet est</a> </div> <div class=\"col-lg-6\"> <h4>Quis</h4><p>Cillum nostrud pariatur amet irure in minim ut</p> <a class=\"btn btn-warning\" href=\"#\" role=\"button\">Exercitation reprehenderit</a> </div> </div> <div class=\"row\"><div class=\"col-lg-12\"> <h4>Incididunt</h4><p>Commodo voluptate ea dolore minim tempor</p> <a class=\"btn btn-success\" href=\"#\" role=\"button\">Aliquip nisi</a> </div> </div> <div class=\"row\"><div class=\"col-lg-3\"> <h4>Exercitation</h4><p>Ea consectetur dolor labore esse incididunt tempor ullamco</p> <a class=\"btn btn-warning\" href=\"#\" role=\"button\">Incididunt aliquip</a> </div> <div class=\"col-lg-3\"> <h4>Occaecat</h4><p>Quis officia sed eu cupidatat reprehenderit laboris lorem</p> <a class=\"btn btn-success\" href=\"#\" role=\"button\">Non aliquip</a> </div> <div class=\"col-lg-3\"> <h4>Voluptate</h4><p>Laborum nisi eu enim proident</p> <a class=\"btn btn-danger\" href=\"#\" role=\"button\">Duis id</a> </div> <div class=\"col-lg-3\"> <h4>Amet</h4><p>Consectetur anim adipiscing enim et do quis velit</p> <a class=\"btn btn-warning\" href=\"#\" role=\"button\">Aute anim</a> </div> </div> </main> </body> </html> \n",
            "      Bleu: 0.53\n",
            "\n",
            "Prediction: <html> <body> <main class=\"container\"> <div class=\"header clearfix\"> <nav> <ul class=\"nav nav-pills pull-left\"> <li><a href=\"#\">Ex laborum</a></li> <li><a href=\"#\">Ex laborum</a></li> </ul> </nav> </div> <div class=\"row\"><div class=\"col-lg-3\"> <h4>Ex</h4><p>Ad in laboris nisi et culpa dolore proident</p> <a class=\"btn btn-success\" href=\"#\" role=\"button\">Dolore exercitation</a> </div> <div class=\"col-lg-3\"> <h4>Cillum</h4><p>Officia elit eu et turis ut nostrud in</p> <a class=\"btn btn-warning\" href=\"#\" role=\"button\">Nulla in</a> </div> <div class=\"col-lg-3\"> <h4>Excepteur</h4><p>Et exercitation velit ex es non</p> <a class=\"btn btn-success\" href=\"#\" role=\"button\">Aute laborum</a> </div> <div class=\"col-lg-3\"> <h4>In</h4><p>St excepteur deserunt labore sint quis em proident</p> <a class=\"btn btn-danger\" href=\"#\" role=\"button\">Et laborum</a> </div> <div class=\"col-lg-3\"> <h4>Anim</h4><p>Minim proident laborum sit nisi ex labore incididunt</p> <a class=\"btn btn-danger\" href=\"#\" role=\"button\">Labores sed</a> </div> <div class=\"col-lg-3\"> <h4>Magna</h4><p>Aliqua officia nostrud cilum voluptate aliqua</p> <a class=\"btn btn-warning\" href=\"#\" role=\"button\">Ut laboris</a> </div> </div> <div class=\"col-lg-3\"> <h4>Magna</h4><p>Aliqua officia nostrud cilum voluptate aliqua</p> <a class=\"btn btn-danger\" href=\"#\" role=\"button\">Ut laboris</a> </div> </div> <div class=\"col-lg-3\"> <h4>Aliqua</h4><p>Excepteur ad ipsum est sunt exercitation ut meim magna</p> <a class=\"btn btn-danger\" href=\"#\" role=\"button\">Labores reprehenderit</a> </div> <div class=\"col-lg-3\"> <h4>Magna</h4><p>Aliqua officia nostrud cilum voluptate aliqua</p> <a class=\"btn btn-danger\" href=\"#\" role=\"button\">Ut laboris</a> </div> </div> <div class=\"col-lg-3\"> <h4>Aliqua</h4><p>Excepteur ad ipsum est sunt exercitation ut meim magna</p> <a class=\"btn btn-danger\" href=\"#\" role=\"button\">Labores reprehenderit</a> </div> <div class=\"col-lg-3\"> <h4>Aliqua</h4><p>Excepteur ad ipsum est sunt exercitation ut meim magna</p> <a class=\"btn btn-danger\" href=\"#\" role=\"button\">Labores reprehenderit</a> </div> <div class=\"col-lg-3\"> <h4>Aliqua</h4><p>Excepteur ad ipsum est sunt exercitation ut meim magna</p> <a class=\"btn btn-danger\" href=\"#\" role=\"button\">Labores reprehenderit</a> </div> <div class=\"col-lg-3\"> <h4>Aliqua</h4><p>Excepteur ad ipsum est sunt exercitation ut meim magna</p> <a class=\"btn btn-danger\" href=\"#\" role=\"button\">Labores reprehenderit</a> </div> <div class=\"col-lg-3\"> <h4>Aliqua</h4><p>Excepteur ad ipsum est sunt exercitation ut meim magna</p> <a class=\"btn btn-danger\" href=\"#\" role=\"button\">Labores reprehenderit</a> </div> <div class=\"col-lg-3\"> <h4>Aliqua</h4><p>Excepteur ad ipsum est sunt exercitation ut meim magna</p> <a class=\"btn btn-danger\" href=\"#\" role=\"button\">Labores\n",
            "    Answer: <html> <body> <main class=\"container\"> <div class=\"header clearfix\"> <nav> <ul class=\"nav nav-pills pull-left\"> <li><a href=\"#\">Sunt mollit</a></li> <li><a href=\"#\">Ipsum enim</a></li> <li><a href=\"#\">Reprehenderit duis</a></li> <li><a href=\"#\">Sit labore</a></li> <li class=\"active\"><a href=\"#\">Eiusmod amet</a></li> </ul> </nav> </div> <div class=\"row\"><div class=\"col-lg-12\"> <h4>Ex</h4><p>Ad in laboris nisi et culpa dolore proident</p> <a class=\"btn btn-warning\" href=\"#\" role=\"button\">Dolor incididunt</a> </div> </div> <div class=\"row\"><div class=\"col-lg-3\"> <h4>Cillum</h4><p>Officia elit eu et irure ut nostrud in</p> <a class=\"btn btn-success\" href=\"#\" role=\"button\">Nulla in</a> </div> <div class=\"col-lg-3\"> <h4>Excepteur</h4><p>Et exercitation velit ex ea non</p> <a class=\"btn btn-success\" href=\"#\" role=\"button\">Irure laborum</a> </div> <div class=\"col-lg-3\"> <h4>In</h4><p>Sit excepteur deserunt labore sint quis enim proident</p> <a class=\"btn btn-warning\" href=\"#\" role=\"button\">Proident do</a> </div> <div class=\"col-lg-3\"> <h4>Anim</h4><p>Minim proident laborum sit nisi ex labore incididunt</p> <a class=\"btn btn-danger\" href=\"#\" role=\"button\">Labore sed</a> </div> </div> <div class=\"row\"><div class=\"col-lg-6\"> <h4>Magna</h4><p>Aliqua officia nostrud cillum voluptate aliquip</p> <a class=\"btn btn-warning\" href=\"#\" role=\"button\">Ut laboris</a> </div> <div class=\"col-lg-6\"> <h4>Aliqua</h4><p>Excepteur adipiscing est sunt exercitation ut minim magna</p> <a class=\"btn btn-danger\" href=\"#\" role=\"button\">Laboris reprehenderit</a> </div> </div> </main> </body> </html> \n",
            "      Bleu: 0.52\n",
            "\n",
            "Prediction: <html> <body> <main class=\"container\"> <div class=\"header clearfix\"> <nav> <ul class=\"nav nav-pills pull-left\"> <li><a href=\"#\">Exercitation laborum</a></li> <li><a href=\"#\">Exercitation laborum</a></li> </ul> </nav> </div> <div class=\"row\"><div class=\"col-lg-3\"> <h4>Eu</h4><p>Exercitation dolor incididunt sed deserunt excepteur laborum ut</p> <a class=\"btn btn-danger\" href=\"#\" role=\"button\">Deserunt pariatur</a> </div> <div class=\"col-lg-3\"> <h4>Elit</h4><p>Reprehenderit fugiat ut veniam cupidatat ex elit aliqua</p> <a class=\"btn btn-danger\" href=\"#\" role=\"button\">Aute est</a> </div> </div> <div class=\"col-lg-3\"> <h4>Sit</h4><p>Aliqua laborum id minim veniam enim reprehenderit fugiat</p> <a class=\"btn btn-danger\" href=\"#\" role=\"button\">Exercitation consequat</a> </div> </div> <div class=\"col-lg-3\"> <h4>Elit</h4><p>Reprehenderit et fugiat nostrud voluptate eiusmod adipiscing velit</p> <a class=\"btn btn-danger\" href=\"#\" role=\"button\">Exercitation consequat</a> </div> <div class=\"col-lg-3\"> <h4>Magna</h4><p>Aute velit laboris esse elit</p> <a class=\"btn btn-danger\" href=\"#\" role=\"button\">Aute velit</a> </div> </div> <div class=\"col-lg-3\"> <h4>Commodo</h4><p>Velt eu sint dolore cupidatat tempor ex dolor</p> <a class=\"btn btn-danger\" href=\"#\" role=\"button\">Mollit qui</a> </div> </div> <div class=\"col-lg-3\"> <h4>Do</h4><p>Cupdatat duis ut mollit veniam ea quis excepteur</p> <a class=\"btn btn-danger\" href=\"#\" role=\"button\">Aute est</a> </div> </div> <div class=\"col-lg-3\"> <h4>Do</h4><p>Cupdatat duis ut mollit veniam ea quis excepteur</p> <a class=\"btn btn-danger\" href=\"#\" role=\"button\">Aute est</a> </div> </div> <div class=\"col-lg-3\"> <h4>Do</h4><p>Cupdatat duis ut mollit veniam ea quis excepteur</p> <a class=\"btn btn-danger\" href=\"#\" role=\"button\">Aute est</a> </div> </div> <div class=\"col-lg-3\"> <h4>Do</h4><p>Cupdatat duis ut mollit veniam ea quis excepteur</p> <a class=\"btn btn-danger\" href=\"#\" role=\"button\">Ad ut</a> </div> <div class=\"col-lg-3\"> <h4>Do</h4><p>Cupdatat duis ut mollit veniam ea quis excepteur</p> <a class=\"btn btn-danger\" href=\"#\" role=\"button\">Ad ut</a> </div> </div> <div class=\"col-lg-3\"> <h4>Do</h4><p>Cupdatat duis ut mollit veniam ea quis excepteur</p> <a class=\"btn btn-danger\" href=\"#\" role=\"button\">Ad ut</a> </div> <div class=\"col-lg-3\"> <h4>Do</h4><p>Cupdatat duis ut mollit veniam ea quis excepteur</p> <a class=\"btn btn-danger\" href=\"#\" role=\"button\">Ad ut</a> </div> <div class=\"col-lg-3\"> <h4>Do</h4><p>Cupdatat duis ut mollit veniam ea quis excepteur</p> <a class=\"btn btn-danger\" href=\"#\" role=\"button\">Ad ut</a> </div> <div class=\"col-lg-3\"> <h4>Do</h4><p>Cupdatat duis ut mollit veniam ea quis excepteur</p> <a class=\"btn btn-danger\" href=\"#\" role=\"button\">Ad\n",
            "    Answer: <html> <body> <main class=\"container\"> <div class=\"header clearfix\"> <nav> <ul class=\"nav nav-pills pull-left\"> <li><a href=\"#\">Occaecat proident</a></li> <li><a href=\"#\">Mollit tempor</a></li> <li><a href=\"#\">Sit excepteur</a></li> <li><a href=\"#\">Consequat sed</a></li> <li class=\"active\"><a href=\"#\">Ut est</a></li> </ul> </nav> </div> <div class=\"row\"><div class=\"col-lg-6\"> <h4>Eu</h4><p>Exercitation dolor incididunt sed deserunt excepteur laborum ut</p> <a class=\"btn btn-danger\" href=\"#\" role=\"button\">Deserunt pariatur</a> </div> <div class=\"col-lg-6\"> <h4>Elit</h4><p>Reprehenderit fugiat ut veniam cupidatat ex elit aliqua</p> <a class=\"btn btn-warning\" href=\"#\" role=\"button\">Irure eu</a> </div> </div> <div class=\"row\"><div class=\"col-lg-3\"> <h4>Sit</h4><p>Aliqua laborum id minim veniam enim reprehenderit fugiat</p> <a class=\"btn btn-danger\" href=\"#\" role=\"button\">Exercitation consectetur</a> </div> <div class=\"col-lg-3\"> <h4>Elit</h4><p>Reprehenderit ex fugiat nostrud voluptate eiusmod adipiscing velit</p> <a class=\"btn btn-warning\" href=\"#\" role=\"button\">Elit occaecat</a> </div> <div class=\"col-lg-3\"> <h4>Magna</h4><p>Aute velit laboris esse elit</p> <a class=\"btn btn-success\" href=\"#\" role=\"button\">Anim elit</a> </div> <div class=\"col-lg-3\"> <h4>Commodo</h4><p>Velit eu sint dolore cupidatat tempor ex dolor</p> <a class=\"btn btn-success\" href=\"#\" role=\"button\">Mollit qui</a> </div> </div> <div class=\"row\"><div class=\"col-lg-12\"> <h4>Do</h4><p>Cupidatat duis id mollit veniam ea quis excepteur</p> <a class=\"btn btn-success\" href=\"#\" role=\"button\">Ad ut</a> </div> </div> </main> </body> </html> \n",
            "      Bleu: 0.54\n",
            "\n",
            "Prediction: <html> <body> <main class=\"container\"> <div class=\"header clearfix\"> <nav> <ul class=\"nav nav-pills pull-left\"> <li><a href=\"#\">Et mollit</a></li> <li><a href=\"#\">Et mollit</a></li> </ul> </nav> </div> <div class=\"row\"><div class=\"col-lg-3\"> <h4>In</h4><p>Est ut fugiat aliqua sit dolor adipiscing</p> <a class=\"btn btn-danger\" href=\"#\" role=\"button\">Consequat excepteur</a> </div> </div> <div class=\"col-lg-3\"> <h4>Officia</h4><p>Officia ut proident pariatur nulla anim</p> <a class=\"btn btn-danger\" href=\"#\" role=\"button\">Lorem dolore</a> </div> <div class=\"col-lg-3\"> <h4>Sint</h4><p>Eiusmod aute aliqua tempor cilum lorem fugiat morm</p> <a class=\"btn btn-danger\" href=\"#\" role=\"button\">Ut laboris</a> </div> </div> <div class=\"col-lg-3\"> <h4>Excepteur</h4><p>Commodo dolor elit aliqua et anim est mollit aliqua</p> <a class=\"btn btn-danger\" href=\"#\" role=\"button\">Veniam tempor</a> </div> </div> <div class=\"col-lg-3\"> <h4>In</h4><p>Eit pariatur dolor consequat officia</p> <a class=\"btn btn-danger\" href=\"#\" role=\"button\">Proident deserunt</a> </div> <div class=\"col-lg-3\"> <h4>Eu</h4><p>Laborum duis labore consequat sint excepteur aute enim</p> <a class=\"btn btn-danger\" href=\"#\" role=\"button\">Qui pariatur</a> </div> </div> <div class=\"col-lg-3\"> <h4>Id</h4><p>Sunt ipsum esse quis elit officia deserunt anim</p> <a class=\"btn btn-danger\" href=\"#\" role=\"button\">Eiusmod mollit</a> </div> </div> <div class=\"col-lg-3\"> <h4>Id</h4><p>Sunt ipsum esse quis elit officia deserunt anim</p> <a class=\"btn btn-danger\" href=\"#\" role=\"button\">Eiusmod mollit</a> </div> </div> <div class=\"col-lg-3\"> <h4>Sint</h4><p>Eiusmod aute aliqua tempor cilum lorem fugiat morm</p> <a class=\"btn btn-danger\" href=\"#\" role=\"button\">Ut laboris</a> </div> </div> <div class=\"col-lg-3\"> <h4>Excepteur</h4><p>Commodo dolor elit aliqua et anim est mollit aliqua</p> <a class=\"btn btn-danger\" href=\"#\" role=\"button\">Veniam tempor</a> </div> </div> <div class=\"col-lg-3\"> <h4>Excepteur</h4><p>Commodo dolor elit aliqua et anim est mollit aliqua</p> <a class=\"btn btn-danger\" href=\"#\" role=\"button\">Veniam tempor</a> </div> </div> <div class=\"col-lg-3\"> <h4>In</h4><p>Eit pariatur dolor consequat officia</p> <a class=\"btn btn-danger\" href=\"#\" role=\"button\">Veniam consequat</a> </div> </div> <div class=\"col-lg-3\"> <h4>In</h4><p>Eit pariatur dolor consequat officia</p> <a class=\"btn btn-danger\" href=\"#\" role=\"button\">Veniam consequat</a> </div> </div> <div class=\"col-lg-3\"> <h4>In</h4><p>Eit pariatur dolor consequat officia</p> <a class=\"btn btn-danger\" href=\"#\" role=\"button\">Veniam consequat</a> </div> </div> <div class=\"col-lg-3\"> <h4>Eu</h4><p>Laborum duis labore consequat sint excepteur aute enim</p> <a\n",
            "    Answer: <html> <body> <main class=\"container\"> <div class=\"header clearfix\"> <nav> <ul class=\"nav nav-pills pull-left\"> <li><a href=\"#\">Culpa id</a></li> <li class=\"active\"><a href=\"#\">Aliquip velit</a></li> </ul> </nav> </div> <div class=\"row\"><div class=\"col-lg-6\"> <h4>In</h4><p>Est ut irure ea labore sit dolor adipiscing</p> <a class=\"btn btn-danger\" href=\"#\" role=\"button\">Consequat excepteur</a> </div> <div class=\"col-lg-6\"> <h4>Officia</h4><p>Officia ut proident pariatur nulla anim</p> <a class=\"btn btn-success\" href=\"#\" role=\"button\">Enim id</a> </div> </div> <div class=\"row\"><div class=\"col-lg-12\"> <h4>Sint</h4><p>Eiusmod aute aliqua tempor cillum lorem fugiat minim</p> <a class=\"btn btn-danger\" href=\"#\" role=\"button\">Ut labore</a> </div> </div> <div class=\"row\"><div class=\"col-lg-3\"> <h4>Excepteur</h4><p>Commodo cillum eiusmod et anim est mollit aliqua</p> <a class=\"btn btn-danger\" href=\"#\" role=\"button\">Velit tempor</a> </div> <div class=\"col-lg-3\"> <h4>In</h4><p>Elit pariatur dolor consequat officia</p> <a class=\"btn btn-warning\" href=\"#\" role=\"button\">Proident deserunt</a> </div> <div class=\"col-lg-3\"> <h4>Eu</h4><p>Laborum duis labore consequat sint excepteur aute enim</p> <a class=\"btn btn-warning\" href=\"#\" role=\"button\">Qui proident</a> </div> <div class=\"col-lg-3\"> <h4>Id</h4><p>Sunt ipsum esse quis elit officia deserunt anim</p> <a class=\"btn btn-warning\" href=\"#\" role=\"button\">Proident minim</a> </div> </div> </main> </body> </html> \n",
            "      Bleu: 0.50\n",
            "\n",
            "Prediction: <html> <body> <main class=\"container\"> <div class=\"header clearfix\"> <nav> <ul class=\"nav nav-pills pull-left\"> <li><a href=\"#\">Dolore occaecat</a></li> <li><a href=\"#\">Dolore occaecat</a></li> <li><a href=\"#\">Dolore occaecat</a></li> </ul> </nav> </div> <div class=\"row\"><div class=\"col-lg-3\"> <h4>Minim</h4><p>Ex minim nisi nisi aliqua lorem adipiscing</p> <a class=\"btn btn-danger\" href=\"#\" role=\"button\">Doreprieur duis</a> </div> <div class=\"col-lg-3\"> <h4>Do</h4><p>Cupdatat amet dolor ex nulla duis aliqua occaecat</p> <a class=\"btn btn-danger\" href=\"#\" role=\"button\">Do tempor</a> </div> <div class=\"col-lg-3\"> <h4>Veniam</h4><p>Magna anim exumod elit mollit ex et</p> <a class=\"btn btn-danger\" href=\"#\" role=\"button\">Do tempor</a> </div> <div class=\"col-lg-3\"> <h4>Et</h4><p>Dolor sint fugiat excepteur cupidatat in mollit aliqua</p> <a class=\"btn btn-danger\" href=\"#\" role=\"button\">Reprehenderit culpa</a> </div> <div class=\"col-lg-3\"> <h4>Ex</h4><p>Consectetur sit ut reprehenderit laboris</p> <a class=\"btn btn-danger\" href=\"#\" role=\"button\">Sit est</a> </div> <div class=\"col-lg-3\"> <h4>Culpa</h4><p>Veniam nostrud eu dolore occaecat tempor</p> <a class=\"btn btn-danger\" href=\"#\" role=\"button\">Do magna</a> </div> </div> <div class=\"col-lg-3\"> <h4>Id</h4><p>Ut lorem eu velit ulla excepteur</p> <a class=\"btn btn-danger\" href=\"#\" role=\"button\">Do tempor</a> </div> </div> <div class=\"col-lg-3\"> <h4>Id</h4><p>Ut lorem eu velit ulla excepteur</p> <a class=\"btn btn-danger\" href=\"#\" role=\"button\">Do tempor</a> </div> </div> <div class=\"col-lg-3\"> <h4>Id</h4><p>Ut lorem eu velit ulla excepteur</p> <a class=\"btn btn-danger\" href=\"#\" role=\"button\">Do tempor</a> </div> </div> <div class=\"col-lg-3\"> <h4>Id</h4><p>Ut lorem eu velit ulla excepteur</p> <a class=\"btn btn-danger\" href=\"#\" role=\"button\">Do tempor</a> </div> </div> <div class=\"col-lg-3\"> <h4>Id</h4><p>Ut lorem eu velit ulla excepteur</p> <a class=\"btn btn-danger\" href=\"#\" role=\"button\">Do tempor</a> </div> </div> <div class=\"col-lg-3\"> <h4>Id</h4><p>Ut lorem eu velit ulla excepteur</p> <a class=\"btn btn-danger\" href=\"#\" role=\"button\">Do tempor</a> </div> </div> <div class=\"col-lg-3\"> <h4>Id</h4><p>Ut lorem eu velit ulla excepteur</p> <a class=\"btn btn-danger\" href=\"#\" role=\"button\">Do tempor</a> </div> </div> <div class=\"col-lg-3\"> <h4>Ex</h4><p>Dolore sint fugiat excepteur cupidatat in mollit aliqua</p> <a class=\"btn btn-danger\" href=\"#\" role=\"button\">Reprehenderit culpa</a> </div> </div> <div class=\"col-lg-3\"> <h4>Ex</h4><p>Consectetur sit ut reprehenderit laboris</p> <a class=\"btn btn-danger\" href=\"#\" role=\"button\">Do magna</a> </div> </div> <div class=\"col-lg-3\"> <h4>Ex</h4><p>Con\n",
            "    Answer: <html> <body> <main class=\"container\"> <div class=\"header clearfix\"> <nav> <ul class=\"nav nav-pills pull-left\"> <li class=\"active\"><a href=\"#\">Fugiat do</a></li> <li><a href=\"#\">Cupidatat voluptate</a></li> <li><a href=\"#\">Aliqua commodo</a></li> </ul> </nav> </div> <div class=\"row\"><div class=\"col-lg-6\"> <h4>Minim</h4><p>Ex minim in quis nisi aliquip lorem adipiscing</p> <a class=\"btn btn-success\" href=\"#\" role=\"button\">Excepteur duis</a> </div> <div class=\"col-lg-6\"> <h4>Do</h4><p>Cupidatat amet dolor ex nulla duis aliquip occaecat</p> <a class=\"btn btn-danger\" href=\"#\" role=\"button\">Ea velit</a> </div> </div> <div class=\"row\"><div class=\"col-lg-12\"> <h4>Veniam</h4><p>Magna anim eiusmod elit nisi id ex et</p> <a class=\"btn btn-danger\" href=\"#\" role=\"button\">Do tempor</a> </div> </div> <div class=\"row\"><div class=\"col-lg-3\"> <h4>Et</h4><p>Dolor sint fugiat excepteur cupidatat in mollit aliquip</p> <a class=\"btn btn-success\" href=\"#\" role=\"button\">Reprehenderit culpa</a> </div> <div class=\"col-lg-3\"> <h4>Ex</h4><p>Consectetur sit ut reprehenderit laboris</p> <a class=\"btn btn-danger\" href=\"#\" role=\"button\">Sit ad</a> </div> <div class=\"col-lg-3\"> <h4>Culpa</h4><p>Voluptate nostrud eu dolore occaecat tempor</p> <a class=\"btn btn-success\" href=\"#\" role=\"button\">Do magna</a> </div> <div class=\"col-lg-3\"> <h4>Id</h4><p>Ut lorem eu velit aliqua excepteur</p> <a class=\"btn btn-success\" href=\"#\" role=\"button\">Nulla aliqua</a> </div> </div> </main> </body> </html> \n",
            "      Bleu: 0.50\n",
            "\n",
            "Prediction: <html> <body> <main class=\"container\"> <div class=\"header clearfix\"> <nav> <ul class=\"nav nav-pills pull-left\"> <li><a href=\"#\">Consectetur qui</a></li> <li><a href=\"#\">Consectetur qui</a></li> <li><a href=\"#\">Consectetur qui</a></li> </ul> </nav> </div> <div class=\"row\"><div class=\"col-lg-3\"> <h4>Voluptate</h4><p>Occaecat d commodo ea laborum aliqua sint esse</p> <a class=\"btn btn-success\" href=\"#\" role=\"button\">Consectetur quis</a> </div> <div class=\"col-lg-3\"> <h4>Amet</h4><p>Lorem duis do fugiat ullamco deserunt qui net</p> <a class=\"btn btn-warning\" href=\"#\" role=\"button\">Mollit est</a> </div> </div> <div class=\"col-lg-3\"> <h4>Labore</h4><p>Consectetur proident adipiscing pariatur tempor sunt occaecat excepteur</p> <a class=\"btn btn-warning\" href=\"#\" role=\"button\">Exercitation fugiat</a> </div> <div class=\"col-lg-3\"> <h4>Ut</h4><p>Viouptate qui officia quis anim aliqua sunt consequat</p> <a class=\"btn btn-success\" href=\"#\" role=\"button\">Exercitation fugiat</a> </div> <div class=\"col-lg-3\"> <h4>Nostrud</h4><p>Aute in aliqua ullamco</p> <a class=\"btn btn-success\" href=\"#\" role=\"button\">Ex qui</a> </div> </div> <div class=\"col-lg-3\"> <h4>Est</h4><p>Dolore ex cupidatat consequat enim qui sint do</p> <a class=\"btn btn-warning\" href=\"#\" role=\"button\">Exercitation fugiat</a> </div> <div class=\"col-lg-3\"> <h4>Proident</h4><p>Eu dolore eiusmod fugiat mollit aliqua reprehenderit consequat</p> <a class=\"btn btn-success\" href=\"#\" role=\"button\">Sint et mollit voluptate</a> </div> <div class=\"col-lg-3\"> <h4>Ut</h4><p>Viouptate qui officia quis anim aliqua sunt consequat</p> <a class=\"btn btn-warning\" href=\"#\" role=\"button\">Ex qui</a> </div> </div> <div class=\"col-lg-3\"> <h4>Proident</h4><p>Eu dolore eiusmod fugiat mollit aliqua reprehenderit consequat</p> <a class=\"btn btn-success\" href=\"#\" role=\"button\">Sint et mollit voluptate</a> </div> <div class=\"col-lg-3\"> <h4>Nostrud</h4><p>Aute in aliqua ullamco</p> <a class=\"btn btn-success\" href=\"#\" role=\"button\">Ex qui</a> </div> </div> <div class=\"col-lg-3\"> <h4>Est</h4><p>Dolore ex cupidatat consequat enim qui sint do</p> <a class=\"btn btn-success\" href=\"#\" role=\"button\">Aute est</a> </div> </div> <div class=\"col-lg-3\"> <h4>Est</h4><p>Dolore ex cupidatat consequat enim qui sint do</p> <a class=\"btn btn-success\" href=\"#\" role=\"button\">Aute est</a> </div> </div> <div class=\"col-lg-3\"> <h4>Est</h4><p>Dolore ex cupidatat consequat enim qui sint do</p> <a class=\"btn btn-success\" href=\"#\" role=\"button\">Aute est</a> </div> </div> <div class=\"col-lg-3\"> <h4>Est</h4><p>Dolore ex cupidatat consequat enim qui sint do</p> <a class=\"btn btn-success\" href=\"#\" role=\"button\">Aute est</a> </div> </div> <div class=\"col-\n",
            "    Answer: <html> <body> <main class=\"container\"> <div class=\"header clearfix\"> <nav> <ul class=\"nav nav-pills pull-left\"> <li><a href=\"#\">Ad voluptate</a></li> <li class=\"active\"><a href=\"#\">Commodo adipiscing</a></li> <li><a href=\"#\">Dolore duis</a></li> <li><a href=\"#\">Ea laborum</a></li> <li><a href=\"#\">Et incididunt</a></li> </ul> </nav> </div> <div class=\"row\"><div class=\"col-lg-12\"> <h4>Voluptate</h4><p>Occaecat id commodo ea laborum aliquip sint esse</p> <a class=\"btn btn-danger\" href=\"#\" role=\"button\">Consectetur quis</a> </div> </div> <div class=\"row\"><div class=\"col-lg-3\"> <h4>Amet</h4><p>Lorem duis do fugiat ullamco deserunt qui nisi</p> <a class=\"btn btn-danger\" href=\"#\" role=\"button\">Mollit est</a> </div> <div class=\"col-lg-3\"> <h4>Labore</h4><p>Consectetur proident adipiscing pariatur tempor sunt occaecat excepteur</p> <a class=\"btn btn-success\" href=\"#\" role=\"button\">Exercitation fugiat</a> </div> <div class=\"col-lg-3\"> <h4>Ut</h4><p>Voluptate qui officia quis anim aliqua sunt consequat</p> <a class=\"btn btn-warning\" href=\"#\" role=\"button\">In aute</a> </div> <div class=\"col-lg-3\"> <h4>Nostrud</h4><p>Aute in aliquip ullamco</p> <a class=\"btn btn-warning\" href=\"#\" role=\"button\">Ex eu</a> </div> </div> <div class=\"row\"><div class=\"col-lg-6\"> <h4>Est</h4><p>Dolore ex cupidatat consequat anim qui aute do</p> <a class=\"btn btn-warning\" href=\"#\" role=\"button\">Aliqua id</a> </div> <div class=\"col-lg-6\"> <h4>Proident</h4><p>Eu dolore eiusmod fugiat mollit aliqua reprehenderit consequat</p> <a class=\"btn btn-warning\" href=\"#\" role=\"button\">Dolor eiusmod</a> </div> </div> </main> </body> </html> \n",
            "      Bleu: 0.55\n",
            "\n",
            "Prediction: <html> <body> <main class=\"container\"> <div class=\"header clearfix\"> <nav> <ul class=\"nav nav-pills pull-left\"> <li><a href=\"#\">Esse amet</a></li> <li><a href=\"#\">Amet consequat</a></li> <li><a href=\"#\">Amet amet</a></li> </ul> </nav> </div> <div class=\"row\"><div class=\"col-lg-3\"> <h4>Laborum</h4><p>Irure eumod exercitation voluptate amet morim nulla labore</p> <a class=\"btn btn-danger\" href=\"#\" role=\"button\">Dolore qui</a> </div> </div> <div class=\"col-lg-3\"> <h4>Ex</h4><p>Commodo officia nostrud in quis amet occaecat</p> <a class=\"btn btn-danger\" href=\"#\" role=\"button\">Nisi ut</a> </div> <div class=\"col-lg-3\"> <h4>Labore</h4><p>Commodo dolore tempor nisi magna legist deserunt ipsum</p> <a class=\"btn btn-danger\" href=\"#\" role=\"button\">Ullamco amet</a> </div> </div> <div class=\"col-lg-3\"> <h4>Do</h4><p>Qui nostrud incididunt sint esse amet consectetur</p> <a class=\"btn btn-danger\" href=\"#\" role=\"button\">Adipiscing eu</a> </div> <div class=\"col-lg-3\"> <h4>Duis</h4><p>Enim cilum lorem cupidatat laborum et sunt net</p> <a class=\"btn btn-danger\" href=\"#\" role=\"button\">Lorem do</a> </div> </div> <div class=\"col-lg-3\"> <h4>Deserunt</h4><p>Tempor occaecat officia aliquip eu adpiccing culpa ut</p> <a class=\"btn btn-danger\" href=\"#\" role=\"button\">Magna cupidatat</a> </div> </div> <div class=\"col-lg-3\"> <h4>Labore</h4><p>Excepteur ullamco ea consectetur sed duis qui et</p> <a class=\"btn btn-danger\" href=\"#\" role=\"button\">In labore</a> </div> </div> <div class=\"col-lg-3\"> <h4>Labore</h4><p>Excepteur ullamco ea consectetur sed duis qui et</p> <a class=\"btn btn-danger\" href=\"#\" role=\"button\">In labore</a> </div> </div> <div class=\"col-lg-3\"> <h4>Labore</h4><p>Excepteur ullamco ea consectetur sed duis qui et</p> <a class=\"btn btn-danger\" href=\"#\" role=\"button\">In labore</a> </div> </div> <div class=\"col-lg-3\"> <h4>Labore</h4><p>Excepteur ullamco ea consectetur sed duis qui et</p> <a class=\"btn btn-danger\" href=\"#\" role=\"button\">In labore</a> </div> </div> <div class=\"col-lg-3\"> <h4>Labore</h4><p>Excepteur ullamco ea consectetur sed duis qui et</p> <a class=\"btn btn-danger\" href=\"#\" role=\"button\">In labore</a> </div> </div> <div class=\"col-lg-3\"> <h4>Labore</h4><p>Exercitation ullamco ea consectetur sed duis qui et</p> <a class=\"btn btn-danger\" href=\"#\" role=\"button\">In labore</a> </div> </div> <div class=\"col-lg-3\"> <h4>Labore</h4><p>Exercitation ullamco ea consectetur sed duis qui et</p> <a class=\"btn btn-danger\" href=\"#\" role=\"button\">In labore</a> </div> </div> <div class=\"col-lg-3\"> <h4>Labore</h4><p>Commodo officia nostrud in quis amet occaecat</p> <a class=\"btn btn-danger\" href=\"#\" role=\"button\">Esse reprehenderit minim mollit</p> <a class=\"btn btn-danger\" href=\"#\" role=\"\n",
            "    Answer: <html> <body> <main class=\"container\"> <div class=\"header clearfix\"> <nav> <ul class=\"nav nav-pills pull-left\"> <li><a href=\"#\">In aliqua</a></li> <li><a href=\"#\">Reprehenderit proident</a></li> <li><a href=\"#\">Laboris irure</a></li> <li class=\"active\"><a href=\"#\">Minim cillum</a></li> </ul> </nav> </div> <div class=\"row\"><div class=\"col-lg-3\"> <h4>Laborum</h4><p>Irure eiusmod exercitation voluptate amet minim nulla labore</p> <a class=\"btn btn-danger\" href=\"#\" role=\"button\">Dolore qui</a> </div> <div class=\"col-lg-3\"> <h4>Ex</h4><p>Commodo officia nostrud in quis anim occaecat</p> <a class=\"btn btn-success\" href=\"#\" role=\"button\">Nisi ut</a> </div> <div class=\"col-lg-3\"> <h4>Labore</h4><p>Commodo dolore tempor minim magna fugiat deserunt ipsum</p> <a class=\"btn btn-danger\" href=\"#\" role=\"button\">Ullamco enim</a> </div> <div class=\"col-lg-3\"> <h4>Do</h4><p>Qui nostrud incididunt sint esse amet consectetur</p> <a class=\"btn btn-warning\" href=\"#\" role=\"button\">Adipiscing eu</a> </div> </div> <div class=\"row\"><div class=\"col-lg-6\"> <h4>Duis</h4><p>Enim cillum lorem cupidatat laborum et sunt nisi</p> <a class=\"btn btn-warning\" href=\"#\" role=\"button\">Ipsum do</a> </div> <div class=\"col-lg-6\"> <h4>Deserunt</h4><p>Tempor occaecat officia aliquip eu adipiscing culpa ut</p> <a class=\"btn btn-success\" href=\"#\" role=\"button\">Magna cupidatat</a> </div> </div> <div class=\"row\"><div class=\"col-lg-12\"> <h4>Labore</h4><p>Excepteur ullamco ea consectetur sed duis qui et</p> <a class=\"btn btn-success\" href=\"#\" role=\"button\">In labore</a> </div> </div> </main> </body> </html> \n",
            "      Bleu: 0.53\n",
            "\n",
            "Prediction: <html> <body> <main class=\"container\"> <div class=\"header clearfix\"> <nav> <ul class=\"nav nav-pills pull-left\"> <li><a href=\"#\">Lorem</a></li> <li><a href=\"#\">Adipiscing consectetur fugiat ad</a></li> <li><a href=\"#\">Fugiat do</a></li> </ul> </nav> </div> <div class=\"row\"><div class=\"col-lg-3\"> <h4>Lorem</h4><p>Adipiscing consectetur pariatur reprehenderit fugiat ad cillum</p> <a class=\"btn btn-danger\" href=\"#\" role=\"button\">Fugiat do</a> </div> <div class=\"col-lg-3\"> <h4>Ex</h4><p>Minim laboris exercitation consectetur dolore fugiat ea</p> <a class=\"btn btn-danger\" href=\"#\" role=\"button\">Occaecat magna</a> </div> </div> <div class=\"col-lg-3\"> <h4>Proident</h4><p>Dolor id adipiscing esse exercitation et ultimco sunt</p> <a class=\"btn btn-danger\" href=\"#\" role=\"button\">Ultimaco sunt</a> </div> <div class=\"col-lg-3\"> <h4>Laborum</h4><p>Noi amet dolore esse et commodo velit ipsum nulla</p> <a class=\"btn btn-danger\" href=\"#\" role=\"button\">Ultimaco cupidatat</a> </div> <div class=\"col-lg-3\"> <h4>Commodo</h4><p>Qui qui labore proident ruis eu lorem ad</p> <a class=\"btn btn-danger\" href=\"#\" role=\"button\">Dolore ad</a> </div> </div> <div class=\"col-lg-3\"> <h4>Qui</h4><p>Cupa voluptate velit in occaecat consectetur veniam ea</p> <a class=\"btn btn-danger\" href=\"#\" role=\"button\">Aute ea</a> </div> </div> <div class=\"col-lg-3\"> <h4>Qui</h4><p>Cupa voluptate velit in occaecat consectetur veniam ea</p> <a class=\"btn btn-danger\" href=\"#\" role=\"button\">Aute ea</a> </div> </div> <div class=\"col-lg-3\"> <h4>Qui</h4><p>Cupa voluptate velit in occaecat consectetur veniam ea</p> <a class=\"btn btn-danger\" href=\"#\" role=\"button\">Aute ea</a> </div> </div> <div class=\"col-lg-3\"> <h4>Qui</h4><p>Cupa voluptate velit in occaecat consectetur veniam ea</p> <a class=\"btn btn-danger\" href=\"#\" role=\"button\">Aute ea</a> </div> </div> <div class=\"col-lg-3\"> <h4>Qui</h4><p>Cupa voluptate velit in occaecat consectetur veniam ea</p> <a class=\"btn btn-danger\" href=\"#\" role=\"button\">Aute ea</a> </div> </div> <div class=\"col-lg-3\"> <h4>Qui</h4><p>Cupa voluptate velit in occaecat consectetur veniam ea</p> <a class=\"btn btn-danger\" href=\"#\" role=\"button\">Aute ea</a> </div> </div> <div class=\"col-lg-3\"> <h4>Qui</h4><p>Cupa voluptate velit in occaecat consectetur veniam ea</p> <a class=\"btn btn-danger\" href=\"#\" role=\"button\">Aute ea</a> </div> </div> <div class=\"col-lg-3\"> <h4>Qui</h4><p>Cupa voluptate velit in occaecat consectetur veniam ea</p> <a class=\"btn btn-danger\" href=\"#\" role=\"button\">Aute ea</a> </div> </div> <div class=\"col-lg-3\"> <h4>Qui</h4><p>Cupa voluptate velit in occaecat consectetur veniam ea</p> <a class=\"btn btn-danger\" href=\"#\" role=\"button\">Aute ea</a> </div> </div> <\n",
            "    Answer: <html> <body> <main class=\"container\"> <div class=\"header clearfix\"> <nav> <ul class=\"nav nav-pills pull-left\"> <li><a href=\"#\">Aute irure</a></li> <li><a href=\"#\">Do sint</a></li> <li><a href=\"#\">Amet non</a></li> <li><a href=\"#\">Magna labore</a></li> <li class=\"active\"><a href=\"#\">Voluptate do</a></li> </ul> </nav> </div> <div class=\"row\"><div class=\"col-lg-6\"> <h4>Lorem</h4><p>Aliquip ipsum ea culpa ut esse fugiat est</p> <a class=\"btn btn-success\" href=\"#\" role=\"button\">Fugiat qui</a> </div> <div class=\"col-lg-6\"> <h4>Ad</h4><p>Adipiscing consequat pariatur reprehenderit fugiat ad cillum</p> <a class=\"btn btn-success\" href=\"#\" role=\"button\">Nulla qui</a> </div> </div> <div class=\"row\"><div class=\"col-lg-3\"> <h4>Ex</h4><p>Minim laboris exercitation consectetur dolore fugiat ea</p> <a class=\"btn btn-danger\" href=\"#\" role=\"button\">Occaecat magna</a> </div> <div class=\"col-lg-3\"> <h4>Proident</h4><p>Dolor id aliquip esse exercitation et ullamco sunt</p> <a class=\"btn btn-danger\" href=\"#\" role=\"button\">Ut nulla</a> </div> <div class=\"col-lg-3\"> <h4>Laborum</h4><p>Nisi amet dolore esse et commodo voluptate nulla</p> <a class=\"btn btn-warning\" href=\"#\" role=\"button\">Ullamco culpa</a> </div> <div class=\"col-lg-3\"> <h4>Commodo</h4><p>Qui quis labore proident irure eu lorem ad</p> <a class=\"btn btn-danger\" href=\"#\" role=\"button\">Dolore sit</a> </div> </div> <div class=\"row\"><div class=\"col-lg-12\"> <h4>Qui</h4><p>Culpa voluptate velit in cupidatat consectetur veniam ea</p> <a class=\"btn btn-warning\" href=\"#\" role=\"button\">Aute eu</a> </div> </div> </main> </body> </html> \n",
            "      Bleu: 0.52\n",
            "\n",
            "Prediction: <html> <body> <main class=\"container\"> <div class=\"header clearfix\"> <nav> <ul class=\"nav nav-pills pull-left\"> <li><a href=\"#\">Anim do</a></li> <li><a href=\"#\">Enim voluptate</a></li> </ul> </nav> </div> <div class=\"row\"><div class=\"col-lg-3\"> <h4>Pariatur</h4><p>Tempor consequat aute sit minim fugiat sunt anim</p> <a class=\"btn btn-danger\" href=\"#\" role=\"button\">Dolore anim</a> </div> <div class=\"col-lg-3\"> <h4>Labore</h4><p>Dolor aliqua sunt anim et ad exercitation</p> <a class=\"btn btn-danger\" href=\"#\" role=\"button\">Voluptate pariatur</a> </div> <div class=\"col-lg-3\"> <h4>Lorem</h4><p>Ipsum reprehenderit quis voluptate sed aliqua nulla veniam</p> <a class=\"btn btn-danger\" href=\"#\" role=\"button\">Ea magna</a> </div> </div> <div class=\"col-lg-3\"> <h4>Ea</h4><p>Fugiat nosmod eumod sint ex nisi veniam</p> <a class=\"btn btn-danger\" href=\"#\" role=\"button\">Clamorcat pariatur</a> </div> <div class=\"col-lg-3\"> <h4>Nisi</h4><p>Est consequat amet quis aliqua adipiscing dolor veniam</p> <a class=\"btn btn-danger\" href=\"#\" role=\"button\">Exercitation anim</a> </div> </div> <div class=\"col-lg-3\"> <h4>Deserunt</h4><p>Enim aliqua ut aliqua eu velit</p> <a class=\"btn btn-danger\" href=\"#\" role=\"button\">Consectetur reprehenderit</a> </div> <div class=\"col-lg-3\"> <h4>Anim</h4><p>Ad est tempor nisi aliqua qui dolore ullamco</p> <a class=\"btn btn-danger\" href=\"#\" role=\"button\">Consectetur reprehenderit</a> </div> </div> <div class=\"col-lg-3\"> <h4>Anim</h4><p>Ad est tempor nisi aliqua qui dolore ullamco</p> <a class=\"btn btn-danger\" href=\"#\" role=\"button\">Consectetur reprehenderit</a> </div> </div> <div class=\"col-lg-3\"> <h4>Anim</h4><p>Ad est tempor nisi aliqua qui dolore ullamco</p> <a class=\"btn btn-danger\" href=\"#\" role=\"button\">Qui anim</a> </div> </div> <div class=\"col-lg-3\"> <h4>Anim</h4><p>Ad est tempor nisi aliqua qui dolore ullamco</p> <a class=\"btn btn-danger\" href=\"#\" role=\"button\">Qui anim</a> </div> </div> <div class=\"col-lg-3\"> <h4>Anim</h4><p>Ad est tempor nisi aliqua qui dolore ullamco</p> <a class=\"btn btn-danger\" href=\"#\" role=\"button\">Qui anim</a> </div> </div> <div class=\"col-lg-3\"> <h4>Anim</h4><p>Ad est tempor nisi aliqua qui dolore ullamco</p> <a class=\"btn btn-danger\" href=\"#\" role=\"button\">Qui anim</a> </div> </div> <div class=\"col-lg-3\"> <h4>Anim</h4><p>Ad est tempor nisi aliqua qui dolore ullamco</p> <a class=\"btn btn-danger\" href=\"#\" role=\"button\">Qui anim</a> </div> </div> <div class=\"col-lg-3\"> <h4>Anim</h4><p>Ad est tempor nisi aliqua qui dolore ullamco</p> <a class=\"btn btn-danger\" href=\"#\" role=\"button\">Qui anim</a> </div> </div> <div class=\"col-lg-3\"> <h4>Anim</h4><p>Ad est tempor nisi a\n",
            "    Answer: <html> <body> <main class=\"container\"> <div class=\"header clearfix\"> <nav> <ul class=\"nav nav-pills pull-left\"> <li class=\"active\"><a href=\"#\">Anim do</a></li> <li><a href=\"#\">Laboris labore</a></li> <li><a href=\"#\">Nulla officia</a></li> <li><a href=\"#\">Ipsum sunt</a></li> </ul> </nav> </div> <div class=\"row\"><div class=\"col-lg-6\"> <h4>Pariatur</h4><p>Tempor consequat aute sit minim irure sunt anim</p> <a class=\"btn btn-danger\" href=\"#\" role=\"button\">Esse enim</a> </div> <div class=\"col-lg-6\"> <h4>Labore</h4><p>Dolor laborum sunt anim et ad exercitation</p> <a class=\"btn btn-success\" href=\"#\" role=\"button\">Voluptate pariatur</a> </div> </div> <div class=\"row\"><div class=\"col-lg-3\"> <h4>Lorem</h4><p>Ipsum reprehenderit quis voluptate sed aliquip nulla veniam</p> <a class=\"btn btn-warning\" href=\"#\" role=\"button\">Ea magna</a> </div> <div class=\"col-lg-3\"> <h4>Ea</h4><p>Fugiat nostrud eiusmod sint ex nisi veniam</p> <a class=\"btn btn-warning\" href=\"#\" role=\"button\">Cupidatat pariatur</a> </div> <div class=\"col-lg-3\"> <h4>Nisi</h4><p>Est consequat amet quis aliqua adipiscing dolor veniam</p> <a class=\"btn btn-danger\" href=\"#\" role=\"button\">Exercitation anim</a> </div> <div class=\"col-lg-3\"> <h4>Deserunt</h4><p>Enim aliquip ut aliqua eu velit</p> <a class=\"btn btn-danger\" href=\"#\" role=\"button\">Consectetur reprehenderit</a> </div> </div> <div class=\"row\"><div class=\"col-lg-12\"> <h4>Anim</h4><p>Ad est tempor nisi aliqua qui dolore ullamco</p> <a class=\"btn btn-warning\" href=\"#\" role=\"button\">Qui enim</a> </div> </div> </main> </body> </html> \n",
            "      Bleu: 0.54\n",
            "\n",
            "Prediction: <html> <body> <main class=\"container\"> <div class=\"header clearfix\"> <nav> <ul class=\"nav nav-pills pull-left\"> <li><a href=\"#\">Sint laborum</a></li> <li><a href=\"#\">Dolore magna</a></li> <li><a href=\"#\">Sint laborum</a></li> </ul> </nav> </div> <div class=\"row\"><div class=\"col-lg-3\"> <h4>Eit</h4><p>Sint deserunt tempor ex laborum</p> <a class=\"btn btn-danger\" href=\"#\" role=\"button\">Dolore magna</a> </div> </div> <div class=\"col-lg-3\"> <h4>In</h4><p>Fugiat elit sit duis dolore sint culpa eu</p> <a class=\"btn btn-danger\" href=\"#\" role=\"button\">Ut laborum</a> </div> <div class=\"col-lg-3\"> <h4>Mollit</h4><p>Amet occaecat officia qui elit et laborum ne</p> <a class=\"btn btn-warning\" href=\"#\" role=\"button\">Nisi nostrud</a> </div> <div class=\"col-lg-3\"> <h4>Et</h4><p>Consectetur occaecat aliqua magna ea dolore lorem lorem nostrud</p> <a class=\"btn btn-danger\" href=\"#\" role=\"button\">Magna amet</a> </div> </div> <div class=\"col-lg-3\"> <h4>Do</h4><p>Quis nulla dolor excepteur sint ut laborum cupidatat</p> <a class=\"btn btn-danger\" href=\"#\" role=\"button\">Sint excepteur</a> </div> </div> <div class=\"col-lg-3\"> <h4>Deserunt</h4><p>Ulamco consectetur nulla adipiscing occaecat non enim tempor</p> <a class=\"btn btn-danger\" href=\"#\" role=\"button\">Sint incididunt culpa aute</a> </div> <div class=\"col-lg-3\"> <h4>Deserunt</h4><p>Ulamco consectetur nulla adipiscing occaecat non enim tempor</p> <a class=\"btn btn-danger\" href=\"#\" role=\"button\">Sint incididunt culpa aute</p> </div> <div class=\"col-lg-3\"> <h4>Sunt incididunt culpa aute</p> <a class=\"btn btn-danger\" href=\"#\" role=\"button\">Sint incididunt culpa aute</a> </div> </div> <div class=\"col-lg-3\"> <h4>Deserunt</h4><p>Ulamco consectetur nulla adipiscing occaecat non enim tempor</p> <a class=\"btn btn-danger\" href=\"#\" role=\"button\">Sint incididunt culpa aute</p> </div> <div class=\"col-lg-3\"> <h4>Sunt incididunt culpa aute</p> </div> <div class=\"col-lg-3\"> <h4>Sunt incididunt culpa aute</p> <a class=\"btn btn-danger\" href=\"#\" role=\"button\">Sint incididunt culpa aute</a> </div> </div> <div class=\"col-lg-3\"> <h4>Sunt incididunt culpa aute</p> <a class=\"btn btn-danger\" href=\"#\" role=\"button\">Sint incididunt culpa aute</a> </div> </div> <div class=\"col-lg-3\"> <h4>Sunt incididunt culpa aute</p> <a class=\"btn btn-danger\" href=\"#\" role=\"button\">Sint incididunt culpa aute</a> </div> </div> <div class=\"col-lg-3\"> <h4>Sunt incididunt culpa aute</p> <a class=\"btn btn-danger\" href=\"#\" role=\"button\">Sint incididunt culpa aute</a> </div> </div> <div class=\"col-lg-3\"> <h4>Sunt incididunt culpa aute</p> </div> <div class=\"col-lg-3\"> <h4>Sunt incididunt culpa aute</p> <a class=\"btn btn-danger\" href=\"#\" role=\"button\">Sint incididunt cul\n",
            "    Answer: <html> <body> <main class=\"container\"> <div class=\"header clearfix\"> <nav> <ul class=\"nav nav-pills pull-left\"> <li><a href=\"#\">Magna aliquip</a></li> <li><a href=\"#\">Enim voluptate</a></li> <li><a href=\"#\">Veniam aute</a></li> <li class=\"active\"><a href=\"#\">Magna velit</a></li> <li><a href=\"#\">Lorem incididunt</a></li> </ul> </nav> </div> <div class=\"row\"><div class=\"col-lg-3\"> <h4>Elit</h4><p>Sint deserunt tempor ex laborum</p> <a class=\"btn btn-success\" href=\"#\" role=\"button\">Dolore magna</a> </div> <div class=\"col-lg-3\"> <h4>In</h4><p>Fugiat elit sit duis dolore sint cillum eu</p> <a class=\"btn btn-warning\" href=\"#\" role=\"button\">Id occaecat</a> </div> <div class=\"col-lg-3\"> <h4>Mollit</h4><p>Amet occaecat officia qui elit et laborum nisi</p> <a class=\"btn btn-success\" href=\"#\" role=\"button\">Nisi nostrud</a> </div> <div class=\"col-lg-3\"> <h4>Et</h4><p>Consectetur occaecat aliqua magna ea dolore lorem irure</p> <a class=\"btn btn-success\" href=\"#\" role=\"button\">Magna anim</a> </div> </div> <div class=\"row\"><div class=\"col-lg-6\"> <h4>Do</h4><p>Quis nulla dolor excepteur sint ut laborum cupidatat</p> <a class=\"btn btn-danger\" href=\"#\" role=\"button\">Sit excepteur</a> </div> <div class=\"col-lg-6\"> <h4>Deserunt</h4><p>Ullamco consectetur nulla adipiscing occaecat non enim tempor</p> <a class=\"btn btn-warning\" href=\"#\" role=\"button\">Proident ipsum</a> </div> </div> </main> </body> </html> \n",
            "      Bleu: 0.47\n"
          ]
        },
        {
          "metadata": {
            "tags": null
          },
          "name": "stderr",
          "output_type": "stream",
          "text": [
            "Epoch 0/14 - valid loop: 100%|██████████| 2/2 [05:10<00:00, 155.08s/it, bleu_score=0.524]\n"
          ]
        },
        {
          "metadata": {
            "tags": null
          },
          "name": "stdout",
          "output_type": "stream",
          "text": [
            "\n",
            "Prediction: <html> <body> <main class=\"container\"> <div class=\"header clearfix\"> <nav> <ul class=\"nav nav-pills pull-left\"> <li><a href=\"#\">Cillum velit</a></li> <li><a href=\"#\">Nulla occaecat citum non</a></li> <li><a href=\"#\">Eu quis</a></li> </ul> </nav> </div> <div class=\"row\"><div class=\"col-lg-3\"> <h4>Magna</h4><p>Nulla occaecat citum non</p> <a class=\"btn btn-success\" href=\"#\" role=\"button\">Do quis</a> </div> </div> <div class=\"col-lg-3\"> <h4>Esse</h4><p>Amet aliquip duis ad eu lorem sunt</p> <a class=\"btn btn-warning\" href=\"#\" role=\"button\">Ut reprehenderit</a> </div> <div class=\"col-lg-3\"> <h4>Et</h4><p>Amet sed occaecat euermod excepteur id nulla voluptate</p> <a class=\"btn btn-warning\" href=\"#\" role=\"button\">Ut nulla modicum ullamco</a> </div> </div> <div class=\"col-lg-3\"> <h4>Esse</h4><p>Dolor et magna anim ullamco exercitation officia voluptate</p> <a class=\"btn btn-success\" href=\"#\" role=\"button\">La quis</a> </div> </div> <div class=\"col-lg-3\"> <h4>Mollit</h4><p>Nostrud mollit commodo veniam voluptate occaecat elit duis</p> <a class=\"btn btn-warning\" href=\"#\" role=\"button\">Nostrud magna</a> </div> </div> <div class=\"col-lg-3\"> <h4>Ea</h4><p>Excepteur nostrud amet tempor duis cupidatat</p> <a class=\"btn btn-warning\" href=\"#\" role=\"button\">Cillum esse</a> </div> </div> <div class=\"col-lg-3\"> <h4>Deserunt</h4><p>In ut do ullamco</p> <a class=\"btn btn-success\" href=\"#\" role=\"button\">Tempor exercitation</a> </div> </div> <div class=\"col-lg-3\"> <h4>Ea</h4><p>Excepteur nostrud amet tempor duis cupidatat</p> <a class=\"btn btn-warning\" href=\"#\" role=\"button\">Cillum esse</a> </div> </div> <div class=\"col-lg-3\"> <h4>Ea</h4><p>Excepteur nostrud amet tempor duis cupidatat</p> <a class=\"btn btn-warning\" href=\"#\" role=\"button\">Cillum esse</a> </div> </div> <div class=\"col-lg-3\"> <h4>Ea</h4><p>Excepteur nostrud amet tempor duis cupidatat</p> <a class=\"btn btn-success\" href=\"#\" role=\"button\">Cillum esse</a> </div> </div> <div class=\"col-lg-3\"> <h4>Deserunt</h4><p>In ut do ullamco</p> <a class=\"btn btn-success\" href=\"#\" role=\"button\">Tempor exercitation</a> </div> </div> <div class=\"col-lg-3\"> <h4>Ea</h4><p>Excepteur nostrud amet tempor duis cupidatat</p> <a class=\"btn btn-warning\" href=\"#\" role=\"button\">Cillum esse</a> </div> </div> <div class=\"col-lg-3\"> <h4>Deserunt</h4><p>In ut do ullamco</p> <a class=\"btn btn-success\" href=\"#\" role=\"button\">Tempor exercitation</a> </div> </div> <div class=\"col-lg-3\"> <h4>Deserunt</h4><p>In ut do ullamco</p> <a class=\"btn btn-success\" href=\"#\" role=\"button\">Tempor exercitation</a> </div> </div> <div class=\"col-lg-3\"> <h4>Deserunt</h4><p>In ut do ullamco</p> <a class=\"btn btn-success\" href=\"#\" role=\"button\">\n",
            "    Answer: <html> <body> <main class=\"container\"> <div class=\"header clearfix\"> <nav> <ul class=\"nav nav-pills pull-left\"> <li><a href=\"#\">Velit et</a></li> <li class=\"active\"><a href=\"#\">Pariatur velit</a></li> </ul> </nav> </div> <div class=\"row\"><div class=\"col-lg-3\"> <h4>Magna</h4><p>Nulla occaecat cillum non</p> <a class=\"btn btn-success\" href=\"#\" role=\"button\">Ex eu</a> </div> <div class=\"col-lg-3\"> <h4>Esse</h4><p>Amet aliquip duis ad eu lorem sunt</p> <a class=\"btn btn-warning\" href=\"#\" role=\"button\">Id reprehenderit</a> </div> <div class=\"col-lg-3\"> <h4>Et</h4><p>Amet sed occaecat eiusmod excepteur id nulla voluptate</p> <a class=\"btn btn-danger\" href=\"#\" role=\"button\">Sint eu</a> </div> <div class=\"col-lg-3\"> <h4>Esse</h4><p>Dolor est magna enim ullamco exercitation officia voluptate</p> <a class=\"btn btn-success\" href=\"#\" role=\"button\">Ea quis</a> </div> </div> <div class=\"row\"><div class=\"col-lg-12\"> <h4>Mollit</h4><p>Nostrud mollit commodo veniam voluptate occaecat elit duis</p> <a class=\"btn btn-warning\" href=\"#\" role=\"button\">Nostrud magna</a> </div> </div> <div class=\"row\"><div class=\"col-lg-6\"> <h4>Ea</h4><p>Excepteur nostrud anim tempor duis cupidatat</p> <a class=\"btn btn-warning\" href=\"#\" role=\"button\">Cillum esse</a> </div> <div class=\"col-lg-6\"> <h4>Deserunt</h4><p>In ut do ullamco</p> <a class=\"btn btn-danger\" href=\"#\" role=\"button\">Tempor exercitation</a> </div> </div> </main> </body> </html> \n",
            "      Bleu: 0.53\n",
            "\n",
            "Prediction: <html> <body> <main class=\"container\"> <div class=\"header clearfix\"> <nav> <ul class=\"nav nav-pills pull-left\"> <li><a href=\"#\">Consectetur do</a></li> <li><a href=\"#\">Consectetur sit</a></li> </ul> </nav> </div> <div class=\"row\"><div class=\"col-lg-3\"> <h4>Excepteur</h4><p>Consectetur et deserunt ullamco labore lorem dolor esse</p> <a class=\"btn btn-success\" href=\"#\" role=\"button\">Consequat consectetur</a> </div> </div> <div class=\"col-lg-3\"> <h4>Occaecat</h4><p>Paratur excepteur do et dolore id laborum sint</p> <a class=\"btn btn-success\" href=\"#\" role=\"button\">Esse dolore</a> </div> </div> <div class=\"col-lg-3\"> <h4>Irure</h4><p>Consequat in sunt qui dolor reprehenderit proident laboris</p> <a class=\"btn btn-success\" href=\"#\" role=\"button\">Irure dolore</a> </div> </div> <div class=\"col-lg-3\"> <h4>Amet</h4><p>Lorem ut ullamco exercitation fugiat amet</p> <a class=\"btn btn-danger\" href=\"#\" role=\"button\">Magna dolore</a> </div> </div> <div class=\"col-lg-3\"> <h4>Dolore</h4><p>Adipiscing consectetur ex sint cupidatat pariatur amet etit</p> <a class=\"btn btn-warning\" href=\"#\" role=\"button\">Adipiscing exercitation</a> </div> <div class=\"col-lg-3\"> <h4>Do</h4><p>Qu proident officia mollit magna cupidatat esse duis</p> <a class=\"btn btn-warning\" href=\"#\" role=\"button\">Esse dolore</a> </div> </div> <div class=\"col-lg-3\"> <h4>Veniam</h4><p>Eu sed pariatur</p> <a class=\"btn btn-danger\" href=\"#\" role=\"button\">Esse cupidatat</a> </div> </div> <div class=\"col-lg-3\"> <h4>Veniam</h4><p>Eu sed pariatur</p> <a class=\"btn btn-danger\" href=\"#\" role=\"button\">Esse cupidatat</a> </div> </div> <div class=\"col-lg-3\"> <h4>Veniam</h4><p>Eu sed pariatur</p> <a class=\"btn btn-danger\" href=\"#\" role=\"button\">Esse cupidatat</a> </div> </div> <div class=\"col-lg-3\"> <h4>Veniam</h4><p>Eu sed pariatur</p> <a class=\"btn btn-danger\" href=\"#\" role=\"button\">Esse cupidatat</a> </div> </div> <div class=\"col-lg-3\"> <h4>Veniam</h4><p>Eu sed pariatur</p> <a class=\"btn btn-danger\" href=\"#\" role=\"button\">Esse cupidatat</a> </div> </div> <div class=\"col-lg-3\"> <h4>Veniam</h4><p>Eu sed pariatur</p> <a class=\"btn btn-danger\" href=\"#\" role=\"button\">Esse cupidatat</a> </div> </div> <div class=\"col-lg-3\"> <h4>Veniam</h4><p>Eu sed pariatur</p> <a class=\"btn btn-danger\" href=\"#\" role=\"button\">Esse cupidatat</a> </div> </div> <div class=\"col-lg-3\"> <h4>Veniam</h4><p>Eu sed pariatur</p> <a class=\"btn btn-danger\" href=\"#\" role=\"button\">Esse cupidatat</a> </div> </div> <div class=\"col-lg-3\"> <h4>Veniam</h4><p>Eu sed pariatur</p> <a class=\"btn btn-danger\" href=\"#\" role=\"button\">Esse cupidatat</a> </div> </div> <div class=\"col-lg-3\"> <h4>Veniam</h4><p>Eu sed pariatur</p> <a class=\"btn btn-danger\" href=\"#\" role=\"button\">E\n",
            "    Answer: <html> <body> <main class=\"container\"> <div class=\"header clearfix\"> <nav> <ul class=\"nav nav-pills pull-left\"> <li><a href=\"#\">Ad adipiscing</a></li> <li class=\"active\"><a href=\"#\">Reprehenderit do</a></li> </ul> </nav> </div> <div class=\"row\"><div class=\"col-lg-6\"> <h4>Excepteur</h4><p>Consectetur elit deserunt ullamco labore lorem dolor esse</p> <a class=\"btn btn-success\" href=\"#\" role=\"button\">Consequat commodo</a> </div> <div class=\"col-lg-6\"> <h4>Occaecat</h4><p>Pariatur excepteur do et dolore id laborum sint</p> <a class=\"btn btn-warning\" href=\"#\" role=\"button\">Est ex</a> </div> </div> <div class=\"row\"><div class=\"col-lg-12\"> <h4>Irure</h4><p>Consequat in sunt qui dolor reprehenderit proident laboris</p> <a class=\"btn btn-success\" href=\"#\" role=\"button\">Irure dolore</a> </div> </div> <div class=\"row\"><div class=\"col-lg-3\"> <h4>Amet</h4><p>Lorem ut ullamco exercitation fugiat amet</p> <a class=\"btn btn-success\" href=\"#\" role=\"button\">Magna dolore</a> </div> <div class=\"col-lg-3\"> <h4>Dolore</h4><p>Aliquip consectetur ex sint cupidatat pariatur amet elit</p> <a class=\"btn btn-danger\" href=\"#\" role=\"button\">Adipiscing sunt</a> </div> <div class=\"col-lg-3\"> <h4>Do</h4><p>Qui proident officia mollit magna cupidatat esse duis</p> <a class=\"btn btn-warning\" href=\"#\" role=\"button\">Pariatur dolore</a> </div> <div class=\"col-lg-3\"> <h4>Veniam</h4><p>Eu sed pariatur</p> <a class=\"btn btn-success\" href=\"#\" role=\"button\">Sunt cupidatat</a> </div> </div> </main> </body> </html> \n",
            "      Bleu: 0.52\n",
            "\n",
            "Prediction: <html> <body> <main class=\"container\"> <div class=\"header clearfix\"> <nav> <ul class=\"nav nav-pills pull-left\"> <li><a href=\"#\">Incididunt</a></li> <li><a href=\"#\">Enim magna non laborum fugiat qui tempor id</a></li> </ul> </nav> </div> <div class=\"row\"><div class=\"col-lg-3\"> <h4>Incididunt</h4><p>Enim magna non laborum fugiat qui tempor id</p> <a class=\"btn btn-danger\" href=\"#\" role=\"button\">Nostrud qui</a> </div> </div> <div class=\"col-lg-3\"> <h4>Qui</h4><p>Laboris officia eu proident excepteur adipiscing nulla id</p> <a class=\"btn btn-danger\" href=\"#\" role=\"button\">Fugiat quis</a> </div> </div> <div class=\"col-lg-3\"> <h4>Duis</h4><p>Ullamco ut ipsum duis cillum minim laborum officia</p> <a class=\"btn btn-danger\" href=\"#\" role=\"button\">Officia magna</a> </div> </div> <div class=\"col-lg-3\"> <h4>Ut</h4><p>Non culpa adipiscing reprehenderit nostrud anim</p> <a class=\"btn btn-danger\" href=\"#\" role=\"button\">Duis voluptate</a> </div> </div> <div class=\"col-lg-3\"> <h4>Fugiat</h4><p>Ipsum adipiscing sunt labore est aliqua consectetur do</p> <a class=\"btn btn-danger\" href=\"#\" role=\"button\">Et officia</a> </div> </div> <div class=\"col-lg-3\"> <h4>Tempor</h4><p>Deserunt ut minim aliqua nostrud nisi dolore</p> <a class=\"btn btn-danger\" href=\"#\" role=\"button\">Aute amet</a> </div> </div> <div class=\"col-lg-3\"> <h4>Fugiat</h4><p>Ipsum adipiscing sunt labore est aliqua consectetur do</p> <a class=\"btn btn-danger\" href=\"#\" role=\"button\">Et officia</a> </div> </div> <div class=\"col-lg-3\"> <h4>Tempor</h4><p>Deserunt ut minim aliqua nostrud nisi dolore</p> <a class=\"btn btn-danger\" href=\"#\" role=\"button\">Aute amet</a> </div> </div> <div class=\"col-lg-3\"> <h4>Fugiat</h4><p>Ipsum adipiscing sunt labore est aliqua consectetur do</p> <a class=\"btn btn-danger\" href=\"#\" role=\"button\">Et officia</a> </div> </div> <div class=\"col-lg-3\"> <h4>Tempor</h4><p>Deserunt ut minim aliqua nostrud nisi dolore</p> <a class=\"btn btn-danger\" href=\"#\" role=\"button\">Aute amet</a> </div> </div> <div class=\"col-lg-3\"> <h4>Fugiat</h4><p>Ipsum adipiscing sunt labore est aliqua consectetur do</p> <a class=\"btn btn-danger\" href=\"#\" role=\"button\">Et officia</a> </div> </div> <div class=\"col-lg-3\"> <h4>Tempor</h4><p>Deserunt ut minim aliqua nostrud nisi dolore</p> <a class=\"btn btn-danger\" href=\"#\" role=\"button\">Aute amet</a> </div> </div> <div class=\"col-lg-3\"> <h4>Tempor</h4><p>Deserunt ut minim aliqua nostrud nisi dolore</p> <a class=\"btn btn-danger\" href=\"#\" role=\"button\">Aute amet</a> </div> </div> <div class=\"col-lg-3\"> <h4>Tempor</h4><p>Deserunt ut minim aliqua nostrud nisi dolore</p> <a class=\"btn btn-danger\" href=\"#\" role=\"button\">Aute amet</a> </div> </div> <div class=\"col-lg-3\"> <h4>\n",
            "    Answer: <html> <body> <main class=\"container\"> <div class=\"header clearfix\"> <nav> <ul class=\"nav nav-pills pull-left\"> <li><a href=\"#\">Et irure</a></li> <li class=\"active\"><a href=\"#\">Non duis</a></li> </ul> </nav> </div> <div class=\"row\"><div class=\"col-lg-3\"> <h4>Incididunt</h4><p>Enim magna non laborum fugiat qui tempor id</p> <a class=\"btn btn-warning\" href=\"#\" role=\"button\">Nisi duis</a> </div> <div class=\"col-lg-3\"> <h4>Qui</h4><p>Labore officia eu proident excepteur adipiscing nulla id</p> <a class=\"btn btn-warning\" href=\"#\" role=\"button\">Fugiat quis</a> </div> <div class=\"col-lg-3\"> <h4>Duis</h4><p>Ullamco sit ipsum duis cillum minim laborum officia</p> <a class=\"btn btn-success\" href=\"#\" role=\"button\">Officia magna</a> </div> <div class=\"col-lg-3\"> <h4>Qui</h4><p>Aliquip elit ut et sed ipsum laboris aute</p> <a class=\"btn btn-warning\" href=\"#\" role=\"button\">Reprehenderit cupidatat</a> </div> </div> <div class=\"row\"><div class=\"col-lg-12\"> <h4>Ut</h4><p>Non culpa adipiscing reprehenderit nostrud anim</p> <a class=\"btn btn-warning\" href=\"#\" role=\"button\">Duis nulla</a> </div> </div> <div class=\"row\"><div class=\"col-lg-6\"> <h4>Fugiat</h4><p>Ipsum adipiscing sunt labore est aliqua consectetur do</p> <a class=\"btn btn-warning\" href=\"#\" role=\"button\">Elit officia</a> </div> <div class=\"col-lg-6\"> <h4>Tempor</h4><p>Deserunt ut minim aliquip irure aliqua nisi dolore</p> <a class=\"btn btn-warning\" href=\"#\" role=\"button\">Aute amet</a> </div> </div> </main> </body> </html> \n",
            "      Bleu: 0.54\n",
            "\n",
            "Prediction: <html> <body> <main class=\"container\"> <div class=\"header clearfix\"> <nav> <ul class=\"nav nav-pills pull-left\"> <li><a href=\"#\">Consequat amet</a></li> <li><a href=\"#\">Consequat amet</a></li> <li><a href=\"#\">Consequat amet</a></li> </ul> </nav> </div> <div class=\"row\"><div class=\"col-lg-3\"> <h4>Excepteur</h4><p>Aute proident occaecat lorem incididunt</p> <a class=\"btn btn-success\" href=\"#\" role=\"button\">Lorem eu</a> </div> <div class=\"col-lg-3\"> <h4>Quis</h4><p>Laborum ipsum cillum dolor es sint notrud</p> <a class=\"btn btn-warning\" href=\"#\" role=\"button\">Proident enim</a> </div> <div class=\"col-lg-3\"> <h4>Nisi</h4><p>In et officia consequat lorem eu non nulla</p> <a class=\"btn btn-warning\" href=\"#\" role=\"button\">Ad ut</a> </div> <div class=\"col-lg-3\"> <h4>Laborum</h4><p>Ut sunt occaecat aliquip dolor cupidatat amet est</p> <a class=\"btn btn-warning\" href=\"#\" role=\"button\">Cillum amet</a> </div> <div class=\"col-lg-3\"> <h4>Consequat</h4><p>Voluptate consequat enim aliquip officia aute excepteur pariatur</p> <a class=\"btn btn-success\" href=\"#\" role=\"button\">Laborum amet</a> </div> <div class=\"col-lg-3\"> <h4>Qui</h4><p>Mollit et non voluptate culpa qui sed reprehenderit</p> <a class=\"btn btn-warning\" href=\"#\" role=\"button\">Lorem amet</a> </div> <div class=\"col-lg-3\"> <h4>Fugiat</h4><p>Pariatur reprehenderit sunt ex consequat qui exercitation tempor</p> <a class=\"btn btn-warning\" href=\"#\" role=\"button\">In veniam</a> </div> <div class=\"col-lg-3\"> <h4>Laborum</h4><p>Ut sunt occaecat aliquip dolor cupidatat amet est</p> <a class=\"btn btn-warning\" href=\"#\" role=\"button\">Cillum amet</a> </div> <div class=\"col-lg-3\"> <h4>Consequat</h4><p>Voluptate consequat enim aliquip officia aute excepteur pariatur</p> <a class=\"btn btn-warning\" href=\"#\" role=\"button\">Laborum amet</a> </div> <div class=\"col-lg-3\"> <h4>Qui</h4><p>Mollit et non voluptate culpa qui sed reprehenderit</p> <a class=\"btn btn-warning\" href=\"#\" role=\"button\">Lorem amet</a> </div> <div class=\"col-lg-3\"> <h4>Fugiat</h4><p>Pariatur reprehenderit sunt ex consequat qui exercitation tempor</p> <a class=\"btn btn-warning\" href=\"#\" role=\"button\">In veniam</a> </div> <div class=\"col-lg-3\"> <h4>Laborum</h4><p>Ut sunt occaecat aliquip dolor cupidatat amet est</p> <a class=\"btn btn-warning\" href=\"#\" role=\"button\">Cillum amet</a> </div> <div class=\"col-lg-3\"> <h4>Laborum</h4><p>Ut sunt occaecat aliquip dolor cupidatat amet est</p> <a class=\"btn btn-warning\" href=\"#\" role=\"button\">Cillum amet</a> </div> <div class=\"col-lg-3\"> <h4>Consequat</h4><p>Voluptate consequat enim aliquip officia aute excepteur pariatur</p> <a class=\"btn btn-warning\" href=\"#\" role=\"button\">Laborum amet</a> </div> <\n",
            "    Answer: <html> <body> <main class=\"container\"> <div class=\"header clearfix\"> <nav> <ul class=\"nav nav-pills pull-left\"> <li><a href=\"#\">Excepteur culpa</a></li> <li><a href=\"#\">Adipiscing nulla</a></li> <li><a href=\"#\">Amet sed</a></li> <li class=\"active\"><a href=\"#\">Exercitation elit</a></li> <li><a href=\"#\">Tempor aliqua</a></li> </ul> </nav> </div> <div class=\"row\"><div class=\"col-lg-6\"> <h4>Excepteur</h4><p>Aute proident occaecat lorem incididunt</p> <a class=\"btn btn-danger\" href=\"#\" role=\"button\">Lorem eu</a> </div> <div class=\"col-lg-6\"> <h4>Quis</h4><p>Laboris in ipsum cillum dolor ea sint nostrud</p> <a class=\"btn btn-success\" href=\"#\" role=\"button\">Proident enim</a> </div> </div> <div class=\"row\"><div class=\"col-lg-12\"> <h4>Nisi</h4><p>In et officia consequat lorem eu non nulla</p> <a class=\"btn btn-warning\" href=\"#\" role=\"button\">Ad ut</a> </div> </div> <div class=\"row\"><div class=\"col-lg-3\"> <h4>Laborum</h4><p>Ut sunt occaecat ullamco dolor cupidatat amet est</p> <a class=\"btn btn-warning\" href=\"#\" role=\"button\">Cillum aute</a> </div> <div class=\"col-lg-3\"> <h4>Consequat</h4><p>Voluptate consequat enim aliquip officia aute excepteur pariatur</p> <a class=\"btn btn-success\" href=\"#\" role=\"button\">Labore qui</a> </div> <div class=\"col-lg-3\"> <h4>Qui</h4><p>Mollit sit non voluptate culpa qui sed reprehenderit</p> <a class=\"btn btn-success\" href=\"#\" role=\"button\">Dolore dolor</a> </div> <div class=\"col-lg-3\"> <h4>Fugiat</h4><p>Pariatur reprehenderit sunt ex consequat qui exercitation tempor</p> <a class=\"btn btn-warning\" href=\"#\" role=\"button\">In veniam</a> </div> </div> </main> </body> </html> \n",
            "      Bleu: 0.50\n",
            "\n",
            "Prediction: <html> <body> <main class=\"container\"> <div class=\"header clearfix\"> <nav> <ul class=\"nav nav-pills pull-left\"> <li><a href=\"#\">Sed</a></li> <li><a href=\"#\">Laborum mollit</a></li> <li><a href=\"#\">Magna esse</a></li> </ul> </nav> </div> <div class=\"row\"><div class=\"col-lg-3\"> <h4>Sed</h4><p>Laborum aliqua mollit risi</p> <a class=\"btn btn-danger\" href=\"#\" role=\"button\">Magna esse</a> </div> <div class=\"col-lg-3\"> <h4>Sit</h4><p>Quis sint mollit incididunt ullamco sed ipsum nulla</p> <a class=\"btn btn-danger\" href=\"#\" role=\"button\">Commodo aliqua</a> </div> <div class=\"col-lg-3\"> <h4>Voluptate</h4><p>Incididunt nulla eu sed eiusmod tempor est proident</p> <a class=\"btn btn-danger\" href=\"#\" role=\"button\">Do proident</a> </div> <div class=\"col-lg-3\"> <h4>Quis</h4><p>Erem nostrud sunt adipiscing lorem duis sed tempor</p> <a class=\"btn btn-danger\" href=\"#\" role=\"button\">Ad voluptate</a> </div> <div class=\"col-lg-3\"> <h4>Veniam</h4><p>Aute dolore proident reprehenderit sed</p> <a class=\"btn btn-danger\" href=\"#\" role=\"button\">Excepteur veniam</a> </div> <div class=\"col-lg-3\"> <h4>Dolore</h4><p>Adipiscing ipsum elit sunt in duis cillum euamod</p> <a class=\"btn btn-warning\" href=\"#\" role=\"button\">Non consequat</a> </div> <div class=\"col-lg-3\"> <h4>Aliqua</h4><p>Et cupidatat aliqua ullamco mollit excepteur laboris cillum</p> <a class=\"btn btn-warning\" href=\"#\" role=\"button\">Enim lorem</a> </div> <div class=\"col-lg-3\"> <h4>Aliqua</h4><p>Et cupidatat aliqua ullamco mollit excepteur laboris cillum</p> <a class=\"btn btn-danger\" href=\"#\" role=\"button\">Enim lorem</a> </div> <div class=\"col-lg-3\"> <h4>Aliqua</h4><p>Et cupidatat aliqua ullamco mollit excepteur laboris cillum</p> <a class=\"btn btn-danger\" href=\"#\" role=\"button\">Enim lorem</a> </div> <div class=\"col-lg-3\"> <h4>Aliqua</h4><p>Et cupidatat aliqua ullamco mollit excepteur laboris cillum</p> <a class=\"btn btn-danger\" href=\"#\" role=\"button\">Enim lorem</a> </div> <div class=\"col-lg-3\"> <h4>Quis</h4><p>Erem nostrud sunt adipiscing lorem duis sed tempor</p> <a class=\"btn btn-danger\" href=\"#\" role=\"button\">Ad voluptate</a> </div> </div> <div class=\"col-lg-3\"> <h4>Veniam</h4><p>Aute dolore proident reprehenderit sed</p> <a class=\"btn btn-warning\" href=\"#\" role=\"button\">Excepteur veniam</a> </div> <div class=\"col-lg-3\"> <h4>Veniam</h4><p>Aute dolore proident reprehenderit sed</p> <a class=\"btn btn-warning\" href=\"#\" role=\"button\">Excepteur veniam</a> </div> <div class=\"col-lg-3\"> <h4>Veniam</h4><p>Aute dolore proident reprehenderit sed</p> <a class=\"btn btn-warning\" href=\"#\" role=\"button\">Excepteur veniam</a> </div> <div class=\"col-lg-3\"> <h4>Veniam</h4><p>Aute dolore proident rep\n",
            "    Answer: <html> <body> <main class=\"container\"> <div class=\"header clearfix\"> <nav> <ul class=\"nav nav-pills pull-left\"> <li class=\"active\"><a href=\"#\">Cupidatat ipsum</a></li> <li><a href=\"#\">Amet adipiscing</a></li> <li><a href=\"#\">Pariatur enim</a></li> <li><a href=\"#\">Exercitation pariatur</a></li> </ul> </nav> </div> <div class=\"row\"><div class=\"col-lg-6\"> <h4>Sed</h4><p>Laborum aliqua mollit nisi</p> <a class=\"btn btn-warning\" href=\"#\" role=\"button\">Magna ipsum</a> </div> <div class=\"col-lg-6\"> <h4>Sit</h4><p>Quis sint mollit incididunt ullamco sed ipsum nulla</p> <a class=\"btn btn-danger\" href=\"#\" role=\"button\">Commodo aliquip</a> </div> </div> <div class=\"row\"><div class=\"col-lg-12\"> <h4>Voluptate</h4><p>Incididunt nulla eu sed eiusmod tempor est proident</p> <a class=\"btn btn-danger\" href=\"#\" role=\"button\">Do proident</a> </div> </div> <div class=\"row\"><div class=\"col-lg-3\"> <h4>Quis</h4><p>Enim nostrud sunt adipiscing irure duis sed tempor</p> <a class=\"btn btn-warning\" href=\"#\" role=\"button\">Ad voluptate</a> </div> <div class=\"col-lg-3\"> <h4>Veniam</h4><p>Aute dolore proident reprehenderit sed</p> <a class=\"btn btn-danger\" href=\"#\" role=\"button\">Excepteur veniam</a> </div> <div class=\"col-lg-3\"> <h4>Dolore</h4><p>Adipiscing ipsum elit sunt in duis cillum eiusmod</p> <a class=\"btn btn-danger\" href=\"#\" role=\"button\">Nisi consequat</a> </div> <div class=\"col-lg-3\"> <h4>Aliqua</h4><p>Elit cupidatat aliqua ullamco mollit excepteur laboris cillum</p> <a class=\"btn btn-success\" href=\"#\" role=\"button\">Enim lorem</a> </div> </div> </main> </body> </html> \n",
            "      Bleu: 0.50\n",
            "\n",
            "Prediction: <html> <body> <main class=\"container\"> <div class=\"header clearfix\"> <nav> <ul class=\"nav nav-pills pull-left\"> <li><a href=\"#\">Consequat nulla</a></li> <li><a href=\"#\">Consequat nulla</a></li> </ul> </nav> </div> <div class=\"row\"><div class=\"col-lg-3\"> <h4>Sed</h4><p>Labore aliquip commodo anim elit eu lorem qui</p> <a class=\"btn btn-success\" href=\"#\" role=\"button\">Proident mollit</a> </div> <div class=\"col-lg-3\"> <h4>Laborum</h4><p>Amet excepteur aliquip minim lorem</p> <a class=\"btn btn-warning\" href=\"#\" role=\"button\">Ad ipsum</a> </div> <div class=\"col-lg-3\"> <h4>Laborum</h4><p>Consequat nulla id laborum sed psum magna proident</p> <a class=\"btn btn-warning\" href=\"#\" role=\"button\">Consequat ad</a> </div> <div class=\"col-lg-3\"> <h4>Ea</h4><p>Ex officia adipiscing est</p> <a class=\"btn btn-success\" href=\"#\" role=\"button\">Sunt occaecat</a> </div> </div> <div class=\"col-lg-3\"> <h4>Do</h4><p>Amet laborum cupis ad aliquip deserunt id sed</p> <a class=\"btn btn-warning\" href=\"#\" role=\"button\">Sint aliquip</a> </div> <div class=\"col-lg-3\"> <h4>Excepteur</h4><p>Sint magna</p> <a class=\"btn btn-warning\" href=\"#\" role=\"button\">Sint aliquip</a> </div> <div class=\"col-lg-3\"> <h4>Do</h4><p>Amet laborum cupis ad aliquip deserunt id sed</p> <a class=\"btn btn-success\" href=\"#\" role=\"button\">Sint aliquip</a> </div> <div class=\"col-lg-3\"> <h4>Excepteur</h4><p>Sint magna</p> <a class=\"btn btn-warning\" href=\"#\" role=\"button\">Sint aliquip</a> </div> <div class=\"col-lg-3\"> <h4>Excepteur</h4><p>Sint magna</p> <a class=\"btn btn-success\" href=\"#\" role=\"button\">Sint aliquip</a> </div> <div class=\"col-lg-3\"> <h4>Aute</h4><p>Non ad consequat reprehenderit ut nulla</p> <a class=\"btn btn-success\" href=\"#\" role=\"button\">Et aliquip</a> </div> </div> <div class=\"col-lg-3\"> <h4>Aute</h4><p>Non ad consequat reprehenderit ut nulla</p> <a class=\"btn btn-success\" href=\"#\" role=\"button\">Et aliquip</a> </div> </div> <div class=\"col-lg-3\"> <h4>Aute</h4><p>Non ad consequat reprehenderit ut nulla</p> <a class=\"btn btn-success\" href=\"#\" role=\"button\">Et aliquip</a> </div> </div> <div class=\"col-lg-3\"> <h4>Aute</h4><p>Non ad consequat reprehenderit ut nulla</p> <a class=\"btn btn-success\" href=\"#\" role=\"button\">Et aliquip</a> </div> <div class=\"col-lg-3\"> <h4>Aute</h4><p>Non ad consequat reprehenderit ut nulla</p> <a class=\"btn btn-success\" href=\"#\" role=\"button\">Et aliquip</a> </div> <div class=\"col-lg-3\"> <h4>Aute</h4><p>Non ad consequat reprehenderit ut nulla</p> <a class=\"btn btn-success\" href=\"#\" role=\"button\">Et aliquip</a> </div> <div class=\"col-lg-3\"> <h4>Aute</h4><p\n",
            "    Answer: <html> <body> <main class=\"container\"> <div class=\"header clearfix\"> <nav> <ul class=\"nav nav-pills pull-left\"> <li><a href=\"#\">Cillum deserunt</a></li> <li><a href=\"#\">Culpa fugiat</a></li> <li class=\"active\"><a href=\"#\">Consequat nulla</a></li> <li><a href=\"#\">Quis ullamco</a></li> <li><a href=\"#\">Commodo non</a></li> </ul> </nav> </div> <div class=\"row\"><div class=\"col-lg-6\"> <h4>Sed</h4><p>Labore aliquip commodo anim elit eu lorem qui</p> <a class=\"btn btn-danger\" href=\"#\" role=\"button\">Proident mollit</a> </div> <div class=\"col-lg-6\"> <h4>Laborum</h4><p>Amet excepteur aliquip minim lorem</p> <a class=\"btn btn-warning\" href=\"#\" role=\"button\">Adipiscing sed</a> </div> </div> <div class=\"row\"><div class=\"col-lg-12\"> <h4>Laborum</h4><p>Consequat nulla id laborum sed ipsum magna proident</p> <a class=\"btn btn-warning\" href=\"#\" role=\"button\">Consequat ad</a> </div> </div> <div class=\"row\"><div class=\"col-lg-3\"> <h4>Ea</h4><p>Ex officia adipiscing est</p> <a class=\"btn btn-success\" href=\"#\" role=\"button\">Sunt occaecat</a> </div> <div class=\"col-lg-3\"> <h4>Do</h4><p>Amet laborum culpa ad aliquip deserunt id sed</p> <a class=\"btn btn-warning\" href=\"#\" role=\"button\">Sed aliqua</a> </div> <div class=\"col-lg-3\"> <h4>Excepteur</h4><p>Sint magna</p> <a class=\"btn btn-success\" href=\"#\" role=\"button\">Do lorem</a> </div> <div class=\"col-lg-3\"> <h4>Aute</h4><p>Non ad consequat reprehenderit ut nulla</p> <a class=\"btn btn-danger\" href=\"#\" role=\"button\">Eu et</a> </div> </div> </main> </body> </html> \n",
            "      Bleu: 0.55\n",
            "\n",
            "Prediction: <html> <body> <main class=\"container\"> <div class=\"header clearfix\"> <nav> <ul class=\"nav nav-pills pull-left\"> <li><a href=\"#\">Mollit amet</a></li> <li><a href=\"#\">Mollit amet</a></li> <li><a href=\"#\">Mollit amet</a></li> </ul> </nav> </div> <div class=\"row\"><div class=\"col-lg-3\"> <h4>Anim</h4><p>Anim magna nulla amet</p> <a class=\"btn btn-danger\" href=\"#\" role=\"button\">Deserunt ipsum</a> </div> <div class=\"col-lg-3\"> <h4>Do</h4><p>St mollit nisi ullamco minim amet ex adipiscing</p> <a class=\"btn btn-danger\" href=\"#\" role=\"button\">Aute essemod</a> </div> <div class=\"col-lg-3\"> <h4>Tempor</h4><p>Officia eu lorem dolore sunt ut mollit amet</p> <a class=\"btn btn-danger\" href=\"#\" role=\"button\">Veniam aute</a> </div> <div class=\"col-lg-3\"> <h4>Cupidatat</h4><p>Nestrut occaecat est magna dolor cillum pariatur veniam</p> <a class=\"btn btn-danger\" href=\"#\" role=\"button\">Cillum nulla</a> </div> <div class=\"col-lg-3\"> <h4>Eit</h4><p>Id laborum adipiscing elit sint deserunt consequat nostrud</p> <a class=\"btn btn-danger\" href=\"#\" role=\"button\">Veniam adipiscing</a> </div> <div class=\"col-lg-3\"> <h4>Ut</h4><p>Cupidatat aliqua quis eiusmod nulla exercitation reprehenderit do</p> <a class=\"btn btn-danger\" href=\"#\" role=\"button\">Consequat tempor</a> </div> <div class=\"col-lg-3\"> <h4>Exercitation</h4><p>Laboris dolore ipsum mollit re sint et adipiscing</p> <a class=\"btn btn-danger\" href=\"#\" role=\"button\">Dolore nulla</a> </div> </div> <div class=\"col-lg-3\"> <h4>Exercitation</h4><p>Laboris dolore ipsum mollit re sint et adipiscing</p> <a class=\"btn btn-danger\" href=\"#\" role=\"button\">Dolore nulla</a> </div> </div> <div class=\"col-lg-3\"> <h4>Exercitation</h4><p>Laboris dolore ipsum mollit re sint et adipiscing</p> <a class=\"btn btn-danger\" href=\"#\" role=\"button\">Dolore nulla</a> </div> </div> <div class=\"col-lg-3\"> <h4>Exercitation</h4><p>Laboris dolore ipsum mollit re sint et adipiscing</p> <a class=\"btn btn-danger\" href=\"#\" role=\"button\">Dolore nulla</a> </div> </div> <div class=\"col-lg-3\"> <h4>Exercitation</h4><p>Laboris dolore ipsum mollit re sint et adipiscing</p> <a class=\"btn btn-danger\" href=\"#\" role=\"button\">Dolore nulla</a> </div> </div> <div class=\"col-lg-3\"> <h4>Exercitation</h4><p>Laboris dolore ipsum mollit re sint et adipiscing</p> <a class=\"btn btn-danger\" href=\"#\" role=\"button\">Dolore nulla</a> </div> </div> <div class=\"col-lg-3\"> <h4>Exercitation</h4><p>Laboris dolore ipsum mollit re sint et adipiscing</p> <a class=\"btn btn-danger\" href=\"#\" role=\"button\">Dolore nulla</a> </div> </div> <div class=\"col-lg-3\"> <h4>Exercitation</h4><p>Laboris dolore ipsum mollit re sint et adipiscing</p> <a class=\"btn btn-danger\" href=\"#\" role=\"button\">Dolore nulla</a>\n",
            "    Answer: <html> <body> <main class=\"container\"> <div class=\"header clearfix\"> <nav> <ul class=\"nav nav-pills pull-left\"> <li class=\"active\"><a href=\"#\">Incididunt ullamco</a></li> <li><a href=\"#\">Quis id</a></li> <li><a href=\"#\">Duis fugiat</a></li> <li><a href=\"#\">Est sunt</a></li> </ul> </nav> </div> <div class=\"row\"><div class=\"col-lg-6\"> <h4>Anim</h4><p>Anim magna nulla amet</p> <a class=\"btn btn-danger\" href=\"#\" role=\"button\">Deserunt ipsum</a> </div> <div class=\"col-lg-6\"> <h4>Do</h4><p>Id mollit nisi ullamco minim anim ex adipiscing</p> <a class=\"btn btn-danger\" href=\"#\" role=\"button\">Aute eiusmod</a> </div> </div> <div class=\"row\"><div class=\"col-lg-3\"> <h4>Tempor</h4><p>Officia eu lorem dolore sunt ut mollit anim</p> <a class=\"btn btn-success\" href=\"#\" role=\"button\">Voluptate ullamco</a> </div> <div class=\"col-lg-3\"> <h4>Cupidatat</h4><p>Nostrud occaecat est magna dolor cillum pariatur veniam</p> <a class=\"btn btn-warning\" href=\"#\" role=\"button\">Cillum nisi</a> </div> <div class=\"col-lg-3\"> <h4>Elit</h4><p>Id laborum adipiscing elit sint deserunt consequat nostrud</p> <a class=\"btn btn-success\" href=\"#\" role=\"button\">Veniam adipiscing</a> </div> <div class=\"col-lg-3\"> <h4>Ut</h4><p>Cupidatat aliqua quis eiusmod nulla exercitation reprehenderit do</p> <a class=\"btn btn-success\" href=\"#\" role=\"button\">Consequat tempor</a> </div> </div> <div class=\"row\"><div class=\"col-lg-12\"> <h4>Exercitation</h4><p>Labore dolore ipsum mollit nisi sint sit adipiscing</p> <a class=\"btn btn-success\" href=\"#\" role=\"button\">Dolor nulla</a> </div> </div> </main> </body> </html> \n",
            "      Bleu: 0.53\n",
            " Avg Bleu Score: 0.52\n"
          ]
        },
        {
          "metadata": {
            "tags": null
          },
          "name": "stderr",
          "output_type": "stream",
          "text": [
            "Epoch 1/14 - train loop: 100%|██████████| 388/388 [04:58<00:00,  1.30it/s, loss=0.364]\n"
          ]
        },
        {
          "metadata": {
            "tags": null
          },
          "name": "stdout",
          "output_type": "stream",
          "text": [
            "Moving Avg Loss: 0.369\n"
          ]
        },
        {
          "metadata": {
            "tags": null
          },
          "name": "stderr",
          "output_type": "stream",
          "text": [
            "Epoch 2/14 - train loop: 100%|██████████| 388/388 [04:58<00:00,  1.30it/s, loss=0.253]\n"
          ]
        },
        {
          "metadata": {
            "tags": null
          },
          "name": "stdout",
          "output_type": "stream",
          "text": [
            "Moving Avg Loss: 0.260\n"
          ]
        },
        {
          "metadata": {
            "tags": null
          },
          "name": "stderr",
          "output_type": "stream",
          "text": [
            "Epoch 3/14 - train loop: 100%|██████████| 388/388 [04:58<00:00,  1.30it/s, loss=0.167]\n"
          ]
        },
        {
          "metadata": {
            "tags": null
          },
          "name": "stdout",
          "output_type": "stream",
          "text": [
            "Moving Avg Loss: 0.176\n"
          ]
        },
        {
          "metadata": {
            "tags": null
          },
          "name": "stderr",
          "output_type": "stream",
          "text": [
            "Epoch 4/14 - train loop: 100%|██████████| 388/388 [04:58<00:00,  1.30it/s, loss=0.168]\n"
          ]
        },
        {
          "metadata": {
            "tags": null
          },
          "name": "stdout",
          "output_type": "stream",
          "text": [
            "Moving Avg Loss: 0.147\n"
          ]
        },
        {
          "metadata": {
            "tags": null
          },
          "name": "stderr",
          "output_type": "stream",
          "text": [
            "Epoch 4/14 - valid loop:  50%|█████     | 1/2 [01:08<01:08, 68.01s/it, bleu_score=0.946]"
          ]
        },
        {
          "metadata": {
            "tags": null
          },
          "name": "stdout",
          "output_type": "stream",
          "text": [
            "\n",
            "Prediction: <html> <body> <main class=\"container\"> <div class=\"header clearfix\"> <nav> <ul class=\"nav nav-pills pull-left\"> <li><a href=\"#\">Anim aliquip</a></li> <li class=\"active\"><a href=\"#\">Aliquip pariatur</a></li> </ul> </nav> </div> <div class=\"row\"><div class=\"col-lg-6\"> <h4>Elit</h4><p>Enim labore esse cillum aliquip nisi velit in</p> <a class=\"btn btn-success\" href=\"#\" role=\"button\">Amet est</a> </div> <div class=\"col-lg-6\"> <h4>Quis</h4><p>Cillum nostrud pariatur amet irure in minim ut</p> <a class=\"btn btn-success\" href=\"#\" role=\"button\">Exercitation reprehenderit</a> </div> </div> <div class=\"row\"><div class=\"col-lg-12\"> <h4>Incididunt</h4><p>Commodo voluptate ea dolore minim tempor</p> <a class=\"btn btn-warning\" href=\"#\" role=\"button\">Aliquip nisi</a> </div> </div> <div class=\"row\"><div class=\"col-lg-3\"> <h4>Exercitation</h4><p>Ea consectetur dolor dolore esse incididunt tempor ullamco</p> <a class=\"btn btn-success\" href=\"#\" role=\"button\">Incididunt aliquip</a> </div> <div class=\"col-lg-3\"> <h4>Occaecat</h4><p>Quis sed occaecat cupidatat reprehenderit laboris lorem lorem</p> <a class=\"btn btn-warning\" href=\"#\" role=\"button\">Non aliquip</a> </div> <div class=\"col-lg-3\"> <h4>Voluptate</h4><p>Laborum nisi eu enim proident</p> <a class=\"btn btn-warning\" href=\"#\" role=\"button\">Duis id</a> </div> <div class=\"col-lg-3\"> <h4>Amet</h4><p>Consectetur anim adipiscing enim et do quis velit</p> <a class=\"btn btn-warning\" href=\"#\" role=\"button\">Aute enim</a> </div> </div> </main> </body> </html> \n",
            "    Answer: <html> <body> <main class=\"container\"> <div class=\"header clearfix\"> <nav> <ul class=\"nav nav-pills pull-left\"> <li><a href=\"#\">Occaecat cillum</a></li> <li class=\"active\"><a href=\"#\">Aliquip pariatur</a></li> </ul> </nav> </div> <div class=\"row\"><div class=\"col-lg-6\"> <h4>Elit</h4><p>Enim labore esse cillum aliqua nisi velit in</p> <a class=\"btn btn-warning\" href=\"#\" role=\"button\">Amet est</a> </div> <div class=\"col-lg-6\"> <h4>Quis</h4><p>Cillum nostrud pariatur amet irure in minim ut</p> <a class=\"btn btn-warning\" href=\"#\" role=\"button\">Exercitation reprehenderit</a> </div> </div> <div class=\"row\"><div class=\"col-lg-12\"> <h4>Incididunt</h4><p>Commodo voluptate ea dolore minim tempor</p> <a class=\"btn btn-success\" href=\"#\" role=\"button\">Aliquip nisi</a> </div> </div> <div class=\"row\"><div class=\"col-lg-3\"> <h4>Exercitation</h4><p>Ea consectetur dolor labore esse incididunt tempor ullamco</p> <a class=\"btn btn-warning\" href=\"#\" role=\"button\">Incididunt aliquip</a> </div> <div class=\"col-lg-3\"> <h4>Occaecat</h4><p>Quis officia sed eu cupidatat reprehenderit laboris lorem</p> <a class=\"btn btn-success\" href=\"#\" role=\"button\">Non aliquip</a> </div> <div class=\"col-lg-3\"> <h4>Voluptate</h4><p>Laborum nisi eu enim proident</p> <a class=\"btn btn-danger\" href=\"#\" role=\"button\">Duis id</a> </div> <div class=\"col-lg-3\"> <h4>Amet</h4><p>Consectetur anim adipiscing enim et do quis velit</p> <a class=\"btn btn-warning\" href=\"#\" role=\"button\">Aute anim</a> </div> </div> </main> </body> </html> \n",
            "      Bleu: 0.98\n",
            "\n",
            "Prediction: <html> <body> <main class=\"container\"> <div class=\"header clearfix\"> <nav> <ul class=\"nav nav-pills pull-left\"> <li><a href=\"#\">Et laborum</a></li> <li><a href=\"#\">Et laborum</a></li> <li><a href=\"#\">Et laborum</a></li> <li><a href=\"#\">Et laborum</a></li> <li class=\"active\"><a href=\"#\">Et eiusmod amet</a></li> </ul> </nav> </div> <div class=\"row\"><div class=\"col-lg-12\"> <h4>Ex</h4><p>Ad in labore nisi et culpa dolore proident</p> <a class=\"btn btn-success\" href=\"#\" role=\"button\">Dolor incididunt</a> </div> </div> <div class=\"row\"><div class=\"col-lg-3\"> <h4>Cillum</h4><p>Officia elit eu et irure ut nostrud in</p> <a class=\"btn btn-warning\" href=\"#\" role=\"button\">Nulla in</a> </div> <div class=\"col-lg-3\"> <h4>Excepteur</h4><p>Et exercitation velit ex ea non</p> <a class=\"btn btn-warning\" href=\"#\" role=\"button\">Irure laborum</a> </div> <div class=\"col-lg-3\"> <h4>In</h4><p>Sit excepteur deserunt labore sint quis enim proident</p> <a class=\"btn btn-warning\" href=\"#\" role=\"button\">Proident do</a> </div> <div class=\"col-lg-3\"> <h4>Anim</h4><p>Minim proident laborum sit nisi ex labore incididunt</p> <a class=\"btn btn-success\" href=\"#\" role=\"button\">Labore sed</a> </div> </div> <div class=\"row\"><div class=\"col-lg-6\"> <h4>Magna</h4><p>Aliqua officia nostrud cillum voluptate aliquip</p> <a class=\"btn btn-warning\" href=\"#\" role=\"button\">Ut laboris</a> </div> <div class=\"col-lg-6\"> <h4>Aliqua</h4><p>Excepteur adipiscing est sunt exercitation ut minim magna</p> <a class=\"btn btn-warning\" href=\"#\" role=\"button\">Laboris reprehenderit</a> </div> </div> </main> </body> </html> \n",
            "    Answer: <html> <body> <main class=\"container\"> <div class=\"header clearfix\"> <nav> <ul class=\"nav nav-pills pull-left\"> <li><a href=\"#\">Sunt mollit</a></li> <li><a href=\"#\">Ipsum enim</a></li> <li><a href=\"#\">Reprehenderit duis</a></li> <li><a href=\"#\">Sit labore</a></li> <li class=\"active\"><a href=\"#\">Eiusmod amet</a></li> </ul> </nav> </div> <div class=\"row\"><div class=\"col-lg-12\"> <h4>Ex</h4><p>Ad in laboris nisi et culpa dolore proident</p> <a class=\"btn btn-warning\" href=\"#\" role=\"button\">Dolor incididunt</a> </div> </div> <div class=\"row\"><div class=\"col-lg-3\"> <h4>Cillum</h4><p>Officia elit eu et irure ut nostrud in</p> <a class=\"btn btn-success\" href=\"#\" role=\"button\">Nulla in</a> </div> <div class=\"col-lg-3\"> <h4>Excepteur</h4><p>Et exercitation velit ex ea non</p> <a class=\"btn btn-success\" href=\"#\" role=\"button\">Irure laborum</a> </div> <div class=\"col-lg-3\"> <h4>In</h4><p>Sit excepteur deserunt labore sint quis enim proident</p> <a class=\"btn btn-warning\" href=\"#\" role=\"button\">Proident do</a> </div> <div class=\"col-lg-3\"> <h4>Anim</h4><p>Minim proident laborum sit nisi ex labore incididunt</p> <a class=\"btn btn-danger\" href=\"#\" role=\"button\">Labore sed</a> </div> </div> <div class=\"row\"><div class=\"col-lg-6\"> <h4>Magna</h4><p>Aliqua officia nostrud cillum voluptate aliquip</p> <a class=\"btn btn-warning\" href=\"#\" role=\"button\">Ut laboris</a> </div> <div class=\"col-lg-6\"> <h4>Aliqua</h4><p>Excepteur adipiscing est sunt exercitation ut minim magna</p> <a class=\"btn btn-danger\" href=\"#\" role=\"button\">Laboris reprehenderit</a> </div> </div> </main> </body> </html> \n",
            "      Bleu: 0.96\n",
            "\n",
            "Prediction: <html> <body> <main class=\"container\"> <div class=\"header clearfix\"> <nav> <ul class=\"nav nav-pills pull-left\"> <li class=\"active\"><a href=\"#\">Ut est</a></li> <li><a href=\"#\">Et aliqua</a></li> <li><a href=\"#\">Aute commodo</a></li> <li><a href=\"#\">Aute commodo</a></li> </ul> </nav> </div> <div class=\"row\"><div class=\"col-lg-6\"> <h4>Eu</h4><p>Exercitation dolor incididunt sed deserunt excepteur laborum ut</p> <a class=\"btn btn-danger\" href=\"#\" role=\"button\">Deserunt pariatur</a> </div> <div class=\"col-lg-6\"> <h4>Elit</h4><p>Reprehenderit fugiat ut veniam cupidatat ex elit aliqua</p> <a class=\"btn btn-success\" href=\"#\" role=\"button\">Irure eu</a> </div> </div> <div class=\"row\"><div class=\"col-lg-3\"> <h4>Sit</h4><p>Aliqua laborum id minim veniam enim reprehenderit fugiat</p> <a class=\"btn btn-success\" href=\"#\" role=\"button\">Exercitation consectetur</a> </div> <div class=\"col-lg-3\"> <h4>Elit</h4><p>Reprehenderit ex fugiat nostrud voluptate eiusmod adipiscing velit</p> <a class=\"btn btn-success\" href=\"#\" role=\"button\">Elit occaecat</a> </div> <div class=\"col-lg-3\"> <h4>Magna</h4><p>Aute velit laboris esse elit</p> <a class=\"btn btn-warning\" href=\"#\" role=\"button\">Anim elit</a> </div> <div class=\"col-lg-3\"> <h4>Commodo</h4><p>Velit eu sint dolore cupidatat tempor ex dolor</p> <a class=\"btn btn-success\" href=\"#\" role=\"button\">Mollit qui</a> </div> </div> <div class=\"row\"><div class=\"col-lg-12\"> <h4>Do</h4><p>Cupidatat duis id mollit veniam ea quis excepteur</p> <a class=\"btn btn-success\" href=\"#\" role=\"button\">Ad ut</a> </div> </div> </main> </body> </html> \n",
            "    Answer: <html> <body> <main class=\"container\"> <div class=\"header clearfix\"> <nav> <ul class=\"nav nav-pills pull-left\"> <li><a href=\"#\">Occaecat proident</a></li> <li><a href=\"#\">Mollit tempor</a></li> <li><a href=\"#\">Sit excepteur</a></li> <li><a href=\"#\">Consequat sed</a></li> <li class=\"active\"><a href=\"#\">Ut est</a></li> </ul> </nav> </div> <div class=\"row\"><div class=\"col-lg-6\"> <h4>Eu</h4><p>Exercitation dolor incididunt sed deserunt excepteur laborum ut</p> <a class=\"btn btn-danger\" href=\"#\" role=\"button\">Deserunt pariatur</a> </div> <div class=\"col-lg-6\"> <h4>Elit</h4><p>Reprehenderit fugiat ut veniam cupidatat ex elit aliqua</p> <a class=\"btn btn-warning\" href=\"#\" role=\"button\">Irure eu</a> </div> </div> <div class=\"row\"><div class=\"col-lg-3\"> <h4>Sit</h4><p>Aliqua laborum id minim veniam enim reprehenderit fugiat</p> <a class=\"btn btn-danger\" href=\"#\" role=\"button\">Exercitation consectetur</a> </div> <div class=\"col-lg-3\"> <h4>Elit</h4><p>Reprehenderit ex fugiat nostrud voluptate eiusmod adipiscing velit</p> <a class=\"btn btn-warning\" href=\"#\" role=\"button\">Elit occaecat</a> </div> <div class=\"col-lg-3\"> <h4>Magna</h4><p>Aute velit laboris esse elit</p> <a class=\"btn btn-success\" href=\"#\" role=\"button\">Anim elit</a> </div> <div class=\"col-lg-3\"> <h4>Commodo</h4><p>Velit eu sint dolore cupidatat tempor ex dolor</p> <a class=\"btn btn-success\" href=\"#\" role=\"button\">Mollit qui</a> </div> </div> <div class=\"row\"><div class=\"col-lg-12\"> <h4>Do</h4><p>Cupidatat duis id mollit veniam ea quis excepteur</p> <a class=\"btn btn-success\" href=\"#\" role=\"button\">Ad ut</a> </div> </div> </main> </body> </html> \n",
            "      Bleu: 0.94\n",
            "\n",
            "Prediction: <html> <body> <main class=\"container\"> <div class=\"header clearfix\"> <nav> <ul class=\"nav nav-pills pull-left\"> <li><a href=\"#\">Aute cillum</a></li> <li class=\"active\"><a href=\"#\">Aliquip velit</a></li> </ul> </nav> </div> <div class=\"row\"><div class=\"col-lg-6\"> <h4>In</h4><p>Est ut irure ea labore sit dolore sit adipiscing</p> <a class=\"btn btn-success\" href=\"#\" role=\"button\">Consequat excepteur</a> </div> <div class=\"col-lg-6\"> <h4>Officia</h4><p>Officia ut proident pariatur nulla anim</p> <a class=\"btn btn-danger\" href=\"#\" role=\"button\">Enim id</a> </div> </div> <div class=\"row\"><div class=\"col-lg-12\"> <h4>Sint</h4><p>Eiusmod aute aliqua tempor cillum lorem fugiat minim</p> <a class=\"btn btn-warning\" href=\"#\" role=\"button\">Ut laborum</a> </div> </div> <div class=\"row\"><div class=\"col-lg-3\"> <h4>Excepteur</h4><p>Commodo cillum eiusmod et anim est mollit aliqua</p> <a class=\"btn btn-success\" href=\"#\" role=\"button\">Qui tempor</a> </div> <div class=\"col-lg-3\"> <h4>In</h4><p>Elit pariatur dolor consequat officia</p> <a class=\"btn btn-success\" href=\"#\" role=\"button\">Proident deserunt</a> </div> <div class=\"col-lg-3\"> <h4>Eu</h4><p>Laborum duis labore consequat sint excepteur aute enim</p> <a class=\"btn btn-success\" href=\"#\" role=\"button\">Qui proident</a> </div> <div class=\"col-lg-3\"> <h4>Id</h4><p>Sunt ipsum esse quis elit officia deserunt anim</p> <a class=\"btn btn-warning\" href=\"#\" role=\"button\">Proident minim</a> </div> </div> </main> </body> </html> \n",
            "    Answer: <html> <body> <main class=\"container\"> <div class=\"header clearfix\"> <nav> <ul class=\"nav nav-pills pull-left\"> <li><a href=\"#\">Culpa id</a></li> <li class=\"active\"><a href=\"#\">Aliquip velit</a></li> </ul> </nav> </div> <div class=\"row\"><div class=\"col-lg-6\"> <h4>In</h4><p>Est ut irure ea labore sit dolor adipiscing</p> <a class=\"btn btn-danger\" href=\"#\" role=\"button\">Consequat excepteur</a> </div> <div class=\"col-lg-6\"> <h4>Officia</h4><p>Officia ut proident pariatur nulla anim</p> <a class=\"btn btn-success\" href=\"#\" role=\"button\">Enim id</a> </div> </div> <div class=\"row\"><div class=\"col-lg-12\"> <h4>Sint</h4><p>Eiusmod aute aliqua tempor cillum lorem fugiat minim</p> <a class=\"btn btn-danger\" href=\"#\" role=\"button\">Ut labore</a> </div> </div> <div class=\"row\"><div class=\"col-lg-3\"> <h4>Excepteur</h4><p>Commodo cillum eiusmod et anim est mollit aliqua</p> <a class=\"btn btn-danger\" href=\"#\" role=\"button\">Velit tempor</a> </div> <div class=\"col-lg-3\"> <h4>In</h4><p>Elit pariatur dolor consequat officia</p> <a class=\"btn btn-warning\" href=\"#\" role=\"button\">Proident deserunt</a> </div> <div class=\"col-lg-3\"> <h4>Eu</h4><p>Laborum duis labore consequat sint excepteur aute enim</p> <a class=\"btn btn-warning\" href=\"#\" role=\"button\">Qui proident</a> </div> <div class=\"col-lg-3\"> <h4>Id</h4><p>Sunt ipsum esse quis elit officia deserunt anim</p> <a class=\"btn btn-warning\" href=\"#\" role=\"button\">Proident minim</a> </div> </div> </main> </body> </html> \n",
            "      Bleu: 0.97\n",
            "\n",
            "Prediction: <html> <body> <main class=\"container\"> <div class=\"header clearfix\"> <nav> <ul class=\"nav nav-pills pull-left\"> <li class=\"active\"><a href=\"#\">Fugiat do</a></li> <li><a href=\"#\">Dolor aliqua</a></li> <li><a href=\"#\">Dolor aliqua</a></li> <li><a href=\"#\">Dolor aliqua</a></li> </ul> </nav> </div> <div class=\"row\"><div class=\"col-lg-6\"> <h4>Minim</h4><p>Ex minim in quis nisi aliquip lorem adipiscing</p> <a class=\"btn btn-success\" href=\"#\" role=\"button\">Excepteur duis</a> </div> <div class=\"col-lg-6\"> <h4>Do</h4><p>Cupidatat amet dolor ex nulla aliquip aliquip occaecat</p> <a class=\"btn btn-success\" href=\"#\" role=\"button\">Ea velit</a> </div> <div class=\"col-lg-6\"> <h4>Id</h4><p>Ut lorem eu velit aliqua excepteur</p> <a class=\"btn btn-success\" href=\"#\" role=\"button\">Nulla aliqua</a> </div> </div> <div class=\"row\"><div class=\"col-lg-12\"> <h4>Veniam</h4><p>Magna anim eiusmod elit nisi id ex et</p> <a class=\"btn btn-danger\" href=\"#\" role=\"button\">Do tempor</a> </div> </div> <div class=\"row\"><div class=\"col-lg-3\"> <h4>Et</h4><p>Dolor sint fugiat excepteur cupidatat in mollit aliquip</p> <a class=\"btn btn-success\" href=\"#\" role=\"button\">Reprehenderit culpa</a> </div> <div class=\"col-lg-3\"> <h4>Ex</h4><p>Consectetur sit ut reprehenderit laboris</p> <a class=\"btn btn-success\" href=\"#\" role=\"button\">Sit ad</a> </div> <div class=\"col-lg-3\"> <h4>Culpa</h4><p>Voluptate nostrud eu dolore occaecat tempor</p> <a class=\"btn btn-danger\" href=\"#\" role=\"button\">Do magna</a> </div> <div class=\"col-lg-3\"> <h4>Id</h4><p>Ut lorem eu velit aliqua excepteur</p> <a class=\"btn btn-success\" href=\"#\" role=\"button\">Nulla aliqua</a> </div> </div> </main> </body> </html> \n",
            "    Answer: <html> <body> <main class=\"container\"> <div class=\"header clearfix\"> <nav> <ul class=\"nav nav-pills pull-left\"> <li class=\"active\"><a href=\"#\">Fugiat do</a></li> <li><a href=\"#\">Cupidatat voluptate</a></li> <li><a href=\"#\">Aliqua commodo</a></li> </ul> </nav> </div> <div class=\"row\"><div class=\"col-lg-6\"> <h4>Minim</h4><p>Ex minim in quis nisi aliquip lorem adipiscing</p> <a class=\"btn btn-success\" href=\"#\" role=\"button\">Excepteur duis</a> </div> <div class=\"col-lg-6\"> <h4>Do</h4><p>Cupidatat amet dolor ex nulla duis aliquip occaecat</p> <a class=\"btn btn-danger\" href=\"#\" role=\"button\">Ea velit</a> </div> </div> <div class=\"row\"><div class=\"col-lg-12\"> <h4>Veniam</h4><p>Magna anim eiusmod elit nisi id ex et</p> <a class=\"btn btn-danger\" href=\"#\" role=\"button\">Do tempor</a> </div> </div> <div class=\"row\"><div class=\"col-lg-3\"> <h4>Et</h4><p>Dolor sint fugiat excepteur cupidatat in mollit aliquip</p> <a class=\"btn btn-success\" href=\"#\" role=\"button\">Reprehenderit culpa</a> </div> <div class=\"col-lg-3\"> <h4>Ex</h4><p>Consectetur sit ut reprehenderit laboris</p> <a class=\"btn btn-danger\" href=\"#\" role=\"button\">Sit ad</a> </div> <div class=\"col-lg-3\"> <h4>Culpa</h4><p>Voluptate nostrud eu dolore occaecat tempor</p> <a class=\"btn btn-success\" href=\"#\" role=\"button\">Do magna</a> </div> <div class=\"col-lg-3\"> <h4>Id</h4><p>Ut lorem eu velit aliqua excepteur</p> <a class=\"btn btn-success\" href=\"#\" role=\"button\">Nulla aliqua</a> </div> </div> </main> </body> </html> \n",
            "      Bleu: 0.87\n",
            "\n",
            "Prediction: <html> <body> <main class=\"container\"> <div class=\"header clearfix\"> <nav> <ul class=\"nav nav-pills pull-left\"> <li><a href=\"#\">Aute aliqua</a></li> <li class=\"active\"><a href=\"#\">Commodo adipiscing</a></li> <li><a href=\"#\">Aute commodo</a></li> <li><a href=\"#\">Aute commodo</a></li> <li><a href=\"#\">Aute commodo</a></li> </ul> </nav> </div> <div class=\"row\"><div class=\"col-lg-12\"> <h4>Voluptate</h4><p>Occaecat id commodo ea laborum aliquip sint esse</p> <a class=\"btn btn-success\" href=\"#\" role=\"button\">Consectetur quis</a> </div> </div> <div class=\"row\"><div class=\"col-lg-3\"> <h4>Amet</h4><p>Lorem duis do fugiat ullamco deserunt qui nisi</p> <a class=\"btn btn-success\" href=\"#\" role=\"button\">Mollit est</a> </div> <div class=\"col-lg-3\"> <h4>Labore</h4><p>Consectetur proident adipiscing pariatur tempor sunt occaecat excepteur</p> <a class=\"btn btn-success\" href=\"#\" role=\"button\">Exercitation fugiat</a> </div> <div class=\"col-lg-3\"> <h4>Ut</h4><p>Voluptate qui officia quis anim aliqua sunt consequat</p> <a class=\"btn btn-warning\" href=\"#\" role=\"button\">In aute</a> </div> <div class=\"col-lg-3\"> <h4>Nostrud</h4><p>Aute in aliquip ullamco</p> <a class=\"btn btn-warning\" href=\"#\" role=\"button\">Ex nisi</a> </div> </div> <div class=\"row\"><div class=\"col-lg-6\"> <h4>Est</h4><p>Dolore ex cupidatat consequat anim qui aute do</p> <a class=\"btn btn-warning\" href=\"#\" role=\"button\">Aliqua id</a> </div> <div class=\"col-lg-6\"> <h4>Proident</h4><p>Eu dolore eiusmod fugiat mollit aliqua reprehenderit consequat</p> <a class=\"btn btn-danger\" href=\"#\" role=\"button\">Dolor eiusmod</a> </div> </div> </main> </body> </html> \n",
            "    Answer: <html> <body> <main class=\"container\"> <div class=\"header clearfix\"> <nav> <ul class=\"nav nav-pills pull-left\"> <li><a href=\"#\">Ad voluptate</a></li> <li class=\"active\"><a href=\"#\">Commodo adipiscing</a></li> <li><a href=\"#\">Dolore duis</a></li> <li><a href=\"#\">Ea laborum</a></li> <li><a href=\"#\">Et incididunt</a></li> </ul> </nav> </div> <div class=\"row\"><div class=\"col-lg-12\"> <h4>Voluptate</h4><p>Occaecat id commodo ea laborum aliquip sint esse</p> <a class=\"btn btn-danger\" href=\"#\" role=\"button\">Consectetur quis</a> </div> </div> <div class=\"row\"><div class=\"col-lg-3\"> <h4>Amet</h4><p>Lorem duis do fugiat ullamco deserunt qui nisi</p> <a class=\"btn btn-danger\" href=\"#\" role=\"button\">Mollit est</a> </div> <div class=\"col-lg-3\"> <h4>Labore</h4><p>Consectetur proident adipiscing pariatur tempor sunt occaecat excepteur</p> <a class=\"btn btn-success\" href=\"#\" role=\"button\">Exercitation fugiat</a> </div> <div class=\"col-lg-3\"> <h4>Ut</h4><p>Voluptate qui officia quis anim aliqua sunt consequat</p> <a class=\"btn btn-warning\" href=\"#\" role=\"button\">In aute</a> </div> <div class=\"col-lg-3\"> <h4>Nostrud</h4><p>Aute in aliquip ullamco</p> <a class=\"btn btn-warning\" href=\"#\" role=\"button\">Ex eu</a> </div> </div> <div class=\"row\"><div class=\"col-lg-6\"> <h4>Est</h4><p>Dolore ex cupidatat consequat anim qui aute do</p> <a class=\"btn btn-warning\" href=\"#\" role=\"button\">Aliqua id</a> </div> <div class=\"col-lg-6\"> <h4>Proident</h4><p>Eu dolore eiusmod fugiat mollit aliqua reprehenderit consequat</p> <a class=\"btn btn-warning\" href=\"#\" role=\"button\">Dolor eiusmod</a> </div> </div> </main> </body> </html> \n",
            "      Bleu: 0.96\n",
            "\n",
            "Prediction: <html> <body> <main class=\"container\"> <div class=\"header clearfix\"> <nav> <ul class=\"nav nav-pills pull-left\"> <li><a href=\"#\">Adipiscing ex</a></li> <li><a href=\"#\">Adipiscing commodo</a></li> <li><a href=\"#\">Adipiscing commodo</a></li> <li class=\"active\"><a href=\"#\">Minim cillum</a></li> </ul> </nav> </div> <div class=\"row\"><div class=\"col-lg-3\"> <h4>Laborum</h4><p>Irure eiusmod exercitation voluptate amet minim nulla labore</p> <a class=\"btn btn-success\" href=\"#\" role=\"button\">Dolore qui</a> </div> <div class=\"col-lg-3\"> <h4>Ex</h4><p>Commodo officia nostrud in quis anim occaecat</p> <a class=\"btn btn-success\" href=\"#\" role=\"button\">Nisi ut</a> </div> <div class=\"col-lg-3\"> <h4>Labore</h4><p>Commodo dolore tempor minim magna fugiat deserunt ipsum</p> <a class=\"btn btn-warning\" href=\"#\" role=\"button\">Ullamco enim</a> </div> <div class=\"col-lg-3\"> <h4>Do</h4><p>Qui nostrud incididunt sint esse amet consectetur</p> <a class=\"btn btn-warning\" href=\"#\" role=\"button\">Adipiscing eu</a> </div> </div> <div class=\"row\"><div class=\"col-lg-6\"> <h4>Duis</h4><p>Enim cillum lorem cupidatat laborum et sunt nisi</p> <a class=\"btn btn-warning\" href=\"#\" role=\"button\">Ipsum do</a> </div> <div class=\"col-lg-6\"> <h4>Deserunt</h4><p>Tempor occaecat officia aliquip eu adipiscing culpa ut</p> <a class=\"btn btn-success\" href=\"#\" role=\"button\">Magna cupidatat</a> </div> </div> <div class=\"row\"><div class=\"col-lg-12\"> <h4>Labore</h4><p>Excepteur ullamco ea consectetur sed duis qui et</p> <a class=\"btn btn-success\" href=\"#\" role=\"button\">In labore</a> </div> </div> </main> </body> </html> \n",
            "    Answer: <html> <body> <main class=\"container\"> <div class=\"header clearfix\"> <nav> <ul class=\"nav nav-pills pull-left\"> <li><a href=\"#\">In aliqua</a></li> <li><a href=\"#\">Reprehenderit proident</a></li> <li><a href=\"#\">Laboris irure</a></li> <li class=\"active\"><a href=\"#\">Minim cillum</a></li> </ul> </nav> </div> <div class=\"row\"><div class=\"col-lg-3\"> <h4>Laborum</h4><p>Irure eiusmod exercitation voluptate amet minim nulla labore</p> <a class=\"btn btn-danger\" href=\"#\" role=\"button\">Dolore qui</a> </div> <div class=\"col-lg-3\"> <h4>Ex</h4><p>Commodo officia nostrud in quis anim occaecat</p> <a class=\"btn btn-success\" href=\"#\" role=\"button\">Nisi ut</a> </div> <div class=\"col-lg-3\"> <h4>Labore</h4><p>Commodo dolore tempor minim magna fugiat deserunt ipsum</p> <a class=\"btn btn-danger\" href=\"#\" role=\"button\">Ullamco enim</a> </div> <div class=\"col-lg-3\"> <h4>Do</h4><p>Qui nostrud incididunt sint esse amet consectetur</p> <a class=\"btn btn-warning\" href=\"#\" role=\"button\">Adipiscing eu</a> </div> </div> <div class=\"row\"><div class=\"col-lg-6\"> <h4>Duis</h4><p>Enim cillum lorem cupidatat laborum et sunt nisi</p> <a class=\"btn btn-warning\" href=\"#\" role=\"button\">Ipsum do</a> </div> <div class=\"col-lg-6\"> <h4>Deserunt</h4><p>Tempor occaecat officia aliquip eu adipiscing culpa ut</p> <a class=\"btn btn-success\" href=\"#\" role=\"button\">Magna cupidatat</a> </div> </div> <div class=\"row\"><div class=\"col-lg-12\"> <h4>Labore</h4><p>Excepteur ullamco ea consectetur sed duis qui et</p> <a class=\"btn btn-success\" href=\"#\" role=\"button\">In labore</a> </div> </div> </main> </body> </html> \n",
            "      Bleu: 0.96\n",
            "\n",
            "Prediction: <html> <body> <main class=\"container\"> <div class=\"header clearfix\"> <nav> <ul class=\"nav nav-pills pull-left\"> <li><a href=\"#\">Aute do</a></li> <li><a href=\"#\">Aute commodo</a></li> <li><a href=\"#\">Aute commodo</a></li> <li><a href=\"#\">Aute commodo</a></li> <li class=\"active\"><a href=\"#\">Voluptate do</a></li> </ul> </nav> </div> <div class=\"row\"><div class=\"col-lg-6\"> <h4>Lorem</h4><p>Aliquip ipsum ea culpa ut esse fugiat est</p> <a class=\"btn btn-warning\" href=\"#\" role=\"button\">Fugiat qui</a> </div> <div class=\"col-lg-6\"> <h4>Ad</h4><p>Adipiscing consequat pariatur reprehenderit fugiat ad cillum</p> <a class=\"btn btn-warning\" href=\"#\" role=\"button\">Nulla qui</a> </div> </div> <div class=\"row\"><div class=\"col-lg-3\"> <h4>Ex</h4><p>Minim laboris exercitation consectetur dolore fugiat ea</p> <a class=\"btn btn-warning\" href=\"#\" role=\"button\">Occaecat magna</a> </div> <div class=\"col-lg-3\"> <h4>Proident</h4><p>Dolor id aliquip esse exercitation et ullamco sunt</p> <a class=\"btn btn-warning\" href=\"#\" role=\"button\">Ut nulla</a> </div> <div class=\"col-lg-3\"> <h4>Laborum</h4><p>Nisi amet dolore esse et commodo voluptate nulla</p> <a class=\"btn btn-warning\" href=\"#\" role=\"button\">Ullamco culpa</a> </div> <div class=\"col-lg-3\"> <h4>Commodo</h4><p>Qui quis labore proident irure eu lorem ad</p> <a class=\"btn btn-danger\" href=\"#\" role=\"button\">Dolore sit</a> </div> </div> <div class=\"row\"><div class=\"col-lg-12\"> <h4>Qui</h4><p>Culpa voluptate velit in cupidatat consectetur veniam ea</p> <a class=\"btn btn-warning\" href=\"#\" role=\"button\">Aute eu</a> </div> </div> </main> </body> </html> \n",
            "    Answer: <html> <body> <main class=\"container\"> <div class=\"header clearfix\"> <nav> <ul class=\"nav nav-pills pull-left\"> <li><a href=\"#\">Aute irure</a></li> <li><a href=\"#\">Do sint</a></li> <li><a href=\"#\">Amet non</a></li> <li><a href=\"#\">Magna labore</a></li> <li class=\"active\"><a href=\"#\">Voluptate do</a></li> </ul> </nav> </div> <div class=\"row\"><div class=\"col-lg-6\"> <h4>Lorem</h4><p>Aliquip ipsum ea culpa ut esse fugiat est</p> <a class=\"btn btn-success\" href=\"#\" role=\"button\">Fugiat qui</a> </div> <div class=\"col-lg-6\"> <h4>Ad</h4><p>Adipiscing consequat pariatur reprehenderit fugiat ad cillum</p> <a class=\"btn btn-success\" href=\"#\" role=\"button\">Nulla qui</a> </div> </div> <div class=\"row\"><div class=\"col-lg-3\"> <h4>Ex</h4><p>Minim laboris exercitation consectetur dolore fugiat ea</p> <a class=\"btn btn-danger\" href=\"#\" role=\"button\">Occaecat magna</a> </div> <div class=\"col-lg-3\"> <h4>Proident</h4><p>Dolor id aliquip esse exercitation et ullamco sunt</p> <a class=\"btn btn-danger\" href=\"#\" role=\"button\">Ut nulla</a> </div> <div class=\"col-lg-3\"> <h4>Laborum</h4><p>Nisi amet dolore esse et commodo voluptate nulla</p> <a class=\"btn btn-warning\" href=\"#\" role=\"button\">Ullamco culpa</a> </div> <div class=\"col-lg-3\"> <h4>Commodo</h4><p>Qui quis labore proident irure eu lorem ad</p> <a class=\"btn btn-danger\" href=\"#\" role=\"button\">Dolore sit</a> </div> </div> <div class=\"row\"><div class=\"col-lg-12\"> <h4>Qui</h4><p>Culpa voluptate velit in cupidatat consectetur veniam ea</p> <a class=\"btn btn-warning\" href=\"#\" role=\"button\">Aute eu</a> </div> </div> </main> </body> </html> \n",
            "      Bleu: 0.96\n",
            "\n",
            "Prediction: <html> <body> <main class=\"container\"> <div class=\"header clearfix\"> <nav> <ul class=\"nav nav-pills pull-left\"> <li class=\"active\"><a href=\"#\">Anim do</a></li> <li><a href=\"#\">Aute anim</a></li> <li><a href=\"#\">Amet aliqua</a></li> <li><a href=\"#\">Amet aliqua</a></li> <li><a href=\"#\">Amet aliqua</a></li> </ul> </nav> </div> <div class=\"row\"><div class=\"col-lg-6\"> <h4>Pariatur</h4><p>Tempor consequat aute sit minim irure sunt anim</p> <a class=\"btn btn-danger\" href=\"#\" role=\"button\">Esse enim</a> </div> <div class=\"col-lg-6\"> <h4>Labore</h4><p>Dolor laborum sunt anim et ad exercitation</p> <a class=\"btn btn-warning\" href=\"#\" role=\"button\">Voluptate pariatur</a> </div> </div> <div class=\"row\"><div class=\"col-lg-3\"> <h4>Lorem</h4><p>Ipsum reprehenderit quis voluptate sed aliquip nulla veniam</p> <a class=\"btn btn-warning\" href=\"#\" role=\"button\">Ea magna</a> </div> <div class=\"col-lg-3\"> <h4>Ea</h4><p>Fugiat nostrud eiusmod sint ex nisi veniam</p> <a class=\"btn btn-warning\" href=\"#\" role=\"button\">Cupidatat pariatur</a> </div> <div class=\"col-lg-3\"> <h4>Nisi</h4><p>Est consequat amet quis aliqua adipiscing dolor veniam</p> <a class=\"btn btn-danger\" href=\"#\" role=\"button\">Exercitation anim</a> </div> <div class=\"col-lg-3\"> <h4>Deserunt</h4><p>Enim aliquip ut aliqua eu velit</p> <a class=\"btn btn-warning\" href=\"#\" role=\"button\">Consectetur reprehenderit</a> </div> </div> <div class=\"row\"><div class=\"col-lg-12\"> <h4>Anim</h4><p>Ad est tempor nisi aliqua qui dolore ullamco</p> <a class=\"btn btn-warning\" href=\"#\" role=\"button\">Qui enim</a> </div> </div> </main> </body> </html> \n",
            "    Answer: <html> <body> <main class=\"container\"> <div class=\"header clearfix\"> <nav> <ul class=\"nav nav-pills pull-left\"> <li class=\"active\"><a href=\"#\">Anim do</a></li> <li><a href=\"#\">Laboris labore</a></li> <li><a href=\"#\">Nulla officia</a></li> <li><a href=\"#\">Ipsum sunt</a></li> </ul> </nav> </div> <div class=\"row\"><div class=\"col-lg-6\"> <h4>Pariatur</h4><p>Tempor consequat aute sit minim irure sunt anim</p> <a class=\"btn btn-danger\" href=\"#\" role=\"button\">Esse enim</a> </div> <div class=\"col-lg-6\"> <h4>Labore</h4><p>Dolor laborum sunt anim et ad exercitation</p> <a class=\"btn btn-success\" href=\"#\" role=\"button\">Voluptate pariatur</a> </div> </div> <div class=\"row\"><div class=\"col-lg-3\"> <h4>Lorem</h4><p>Ipsum reprehenderit quis voluptate sed aliquip nulla veniam</p> <a class=\"btn btn-warning\" href=\"#\" role=\"button\">Ea magna</a> </div> <div class=\"col-lg-3\"> <h4>Ea</h4><p>Fugiat nostrud eiusmod sint ex nisi veniam</p> <a class=\"btn btn-warning\" href=\"#\" role=\"button\">Cupidatat pariatur</a> </div> <div class=\"col-lg-3\"> <h4>Nisi</h4><p>Est consequat amet quis aliqua adipiscing dolor veniam</p> <a class=\"btn btn-danger\" href=\"#\" role=\"button\">Exercitation anim</a> </div> <div class=\"col-lg-3\"> <h4>Deserunt</h4><p>Enim aliquip ut aliqua eu velit</p> <a class=\"btn btn-danger\" href=\"#\" role=\"button\">Consectetur reprehenderit</a> </div> </div> <div class=\"row\"><div class=\"col-lg-12\"> <h4>Anim</h4><p>Ad est tempor nisi aliqua qui dolore ullamco</p> <a class=\"btn btn-warning\" href=\"#\" role=\"button\">Qui enim</a> </div> </div> </main> </body> </html> \n",
            "      Bleu: 0.95\n",
            "\n",
            "Prediction: <html> <body> <main class=\"container\"> <div class=\"header clearfix\"> <nav> <ul class=\"nav nav-pills pull-left\"> <li><a href=\"#\">Amet cillum</a></li> <li><a href=\"#\">Amet cillum</a></li> <li><a href=\"#\">Amet cillum</a></li> <li><a href=\"#\">Amet cillum</a></li> <li><a href=\"#\">Amet cillum</a></li> <li class=\"active\"><a href=\"#\">Magna velit</a></li> <li><a href=\"#\">Amet cillum</a></li> </ul> </nav> </div> <div class=\"row\"><div class=\"col-lg-3\"> <h4>Elit</h4><p>Sint deserunt tempor ex laborum</p> <a class=\"btn btn-danger\" href=\"#\" role=\"button\">Dolore magna</a> </div> <div class=\"col-lg-3\"> <h4>In</h4><p>Fugiat elit sit duis dolore sint cillum eu</p> <a class=\"btn btn-success\" href=\"#\" role=\"button\">Id occaecat</a> </div> <div class=\"col-lg-3\"> <h4>Mollit</h4><p>Amet occaecat officia qui elit et laborum nisi</p> <a class=\"btn btn-warning\" href=\"#\" role=\"button\">Nisi nostrud</a> </div> <div class=\"col-lg-3\"> <h4>Et</h4><p>Consectetur occaecat aliqua magna ea dolore lorem irure</p> <a class=\"btn btn-warning\" href=\"#\" role=\"button\">Magna anim</a> </div> </div> <div class=\"row\"><div class=\"col-lg-6\"> <h4>Do</h4><p>Quis nulla dolor excepteur sint ut laborum cupidatat</p> <a class=\"btn btn-success\" href=\"#\" role=\"button\">Sit excepteur</a> </div> <div class=\"col-lg-6\"> <h4>Deserunt</h4><p>Ullamco consectetur nulla adipiscing occaecat non enim tempor</p> <a class=\"btn btn-warning\" href=\"#\" role=\"button\">Proident ipsum</a> </div> </div> </main> </body> </html> \n",
            "    Answer: <html> <body> <main class=\"container\"> <div class=\"header clearfix\"> <nav> <ul class=\"nav nav-pills pull-left\"> <li><a href=\"#\">Magna aliquip</a></li> <li><a href=\"#\">Enim voluptate</a></li> <li><a href=\"#\">Veniam aute</a></li> <li class=\"active\"><a href=\"#\">Magna velit</a></li> <li><a href=\"#\">Lorem incididunt</a></li> </ul> </nav> </div> <div class=\"row\"><div class=\"col-lg-3\"> <h4>Elit</h4><p>Sint deserunt tempor ex laborum</p> <a class=\"btn btn-success\" href=\"#\" role=\"button\">Dolore magna</a> </div> <div class=\"col-lg-3\"> <h4>In</h4><p>Fugiat elit sit duis dolore sint cillum eu</p> <a class=\"btn btn-warning\" href=\"#\" role=\"button\">Id occaecat</a> </div> <div class=\"col-lg-3\"> <h4>Mollit</h4><p>Amet occaecat officia qui elit et laborum nisi</p> <a class=\"btn btn-success\" href=\"#\" role=\"button\">Nisi nostrud</a> </div> <div class=\"col-lg-3\"> <h4>Et</h4><p>Consectetur occaecat aliqua magna ea dolore lorem irure</p> <a class=\"btn btn-success\" href=\"#\" role=\"button\">Magna anim</a> </div> </div> <div class=\"row\"><div class=\"col-lg-6\"> <h4>Do</h4><p>Quis nulla dolor excepteur sint ut laborum cupidatat</p> <a class=\"btn btn-danger\" href=\"#\" role=\"button\">Sit excepteur</a> </div> <div class=\"col-lg-6\"> <h4>Deserunt</h4><p>Ullamco consectetur nulla adipiscing occaecat non enim tempor</p> <a class=\"btn btn-warning\" href=\"#\" role=\"button\">Proident ipsum</a> </div> </div> </main> </body> </html> \n",
            "      Bleu: 0.92\n"
          ]
        },
        {
          "metadata": {
            "tags": null
          },
          "name": "stderr",
          "output_type": "stream",
          "text": [
            "Epoch 4/14 - valid loop: 100%|██████████| 2/2 [01:52<00:00, 56.44s/it, bleu_score=0.952]\n"
          ]
        },
        {
          "metadata": {
            "tags": null
          },
          "name": "stdout",
          "output_type": "stream",
          "text": [
            "\n",
            "Prediction: <html> <body> <main class=\"container\"> <div class=\"header clearfix\"> <nav> <ul class=\"nav nav-pills pull-left\"> <li><a href=\"#\">Et ex</a></li> <li class=\"active\"><a href=\"#\">Pariatur velit</a></li> </ul> </nav> </div> <div class=\"row\"><div class=\"col-lg-3\"> <h4>Magna</h4><p>Nulla occaecat cillum non</p> <a class=\"btn btn-success\" href=\"#\" role=\"button\">Ex eu</a> </div> <div class=\"col-lg-3\"> <h4>Esse</h4><p>Amet aliqua duis ad eu lorem sunt</p> <a class=\"btn btn-success\" href=\"#\" role=\"button\">Et reprehenderit</a> </div> <div class=\"col-lg-3\"> <h4>Et</h4><p>Amet sed occaecat eiusmod excepteur id nulla voluptate officia voluptate</p> <a class=\"btn btn-success\" href=\"#\" role=\"button\">Sit eu</a> </div> <div class=\"col-lg-3\"> <h4>Esse</h4><p>Dolor est magna enim ullamco exercitation officia voluptate</p> <a class=\"btn btn-success\" href=\"#\" role=\"button\">Eu quis</a> </div> </div> <div class=\"row\"><div class=\"col-lg-12\"> <h4>Mollit</h4><p>Nostrud mollit commodo veniam voluptate occaecat elit duis</p> <a class=\"btn btn-warning\" href=\"#\" role=\"button\">Nostrud magna</a> </div> </div> <div class=\"row\"><div class=\"col-lg-6\"> <h4>Ea</h4><p>Excepteur nostrud anim tempor duis cupidatat</p> <a class=\"btn btn-success\" href=\"#\" role=\"button\">Cillum esse</a> </div> <div class=\"col-lg-6\"> <h4>Deserunt</h4><p>In ut do ullamco</p> <a class=\"btn btn-success\" href=\"#\" role=\"button\">Tempor exercitation</a> </div> </div> </main> </body> </html> \n",
            "    Answer: <html> <body> <main class=\"container\"> <div class=\"header clearfix\"> <nav> <ul class=\"nav nav-pills pull-left\"> <li><a href=\"#\">Velit et</a></li> <li class=\"active\"><a href=\"#\">Pariatur velit</a></li> </ul> </nav> </div> <div class=\"row\"><div class=\"col-lg-3\"> <h4>Magna</h4><p>Nulla occaecat cillum non</p> <a class=\"btn btn-success\" href=\"#\" role=\"button\">Ex eu</a> </div> <div class=\"col-lg-3\"> <h4>Esse</h4><p>Amet aliquip duis ad eu lorem sunt</p> <a class=\"btn btn-warning\" href=\"#\" role=\"button\">Id reprehenderit</a> </div> <div class=\"col-lg-3\"> <h4>Et</h4><p>Amet sed occaecat eiusmod excepteur id nulla voluptate</p> <a class=\"btn btn-danger\" href=\"#\" role=\"button\">Sint eu</a> </div> <div class=\"col-lg-3\"> <h4>Esse</h4><p>Dolor est magna enim ullamco exercitation officia voluptate</p> <a class=\"btn btn-success\" href=\"#\" role=\"button\">Ea quis</a> </div> </div> <div class=\"row\"><div class=\"col-lg-12\"> <h4>Mollit</h4><p>Nostrud mollit commodo veniam voluptate occaecat elit duis</p> <a class=\"btn btn-warning\" href=\"#\" role=\"button\">Nostrud magna</a> </div> </div> <div class=\"row\"><div class=\"col-lg-6\"> <h4>Ea</h4><p>Excepteur nostrud anim tempor duis cupidatat</p> <a class=\"btn btn-warning\" href=\"#\" role=\"button\">Cillum esse</a> </div> <div class=\"col-lg-6\"> <h4>Deserunt</h4><p>In ut do ullamco</p> <a class=\"btn btn-danger\" href=\"#\" role=\"button\">Tempor exercitation</a> </div> </div> </main> </body> </html> \n",
            "      Bleu: 0.98\n",
            "\n",
            "Prediction: <html> <body> <main class=\"container\"> <div class=\"header clearfix\"> <nav> <ul class=\"nav nav-pills pull-left\"> <li><a href=\"#\">Aute do</a></li> <li class=\"active\"><a href=\"#\">Reprehenderit do</a></li> </ul> </nav> </div> <div class=\"row\"><div class=\"col-lg-6\"> <h4>Excepteur</h4><p>Consectetur elit deserunt ullamco labore lorem dolor esse</p> <a class=\"btn btn-success\" href=\"#\" role=\"button\">Consequat commodo</a> </div> <div class=\"col-lg-6\"> <h4>Occaecat</h4><p>Pariatur excepteur do ex dolore id laborum sint</p> <a class=\"btn btn-success\" href=\"#\" role=\"button\">Est ex</a> </div> </div> <div class=\"row\"><div class=\"col-lg-12\"> <h4>Irure</h4><p>Consequat in sunt qui dolor reprehenderit proident laboris</p> <a class=\"btn btn-success\" href=\"#\" role=\"button\">Irure dolore</a> </div> </div> <div class=\"row\"><div class=\"col-lg-3\"> <h4>Amet</h4><p>Lorem ut ullamco exercitation fugiat amet</p> <a class=\"btn btn-success\" href=\"#\" role=\"button\">Pariatur dolore</a> </div> <div class=\"col-lg-3\"> <h4>Dolore</h4><p>Aliquip consectetur ex sint cupidatat pariatur amet elit</p> <a class=\"btn btn-success\" href=\"#\" role=\"button\">Aliquip sunt</a> </div> <div class=\"col-lg-3\"> <h4>Do</h4><p>Qui proident officia mollit magna cupidatat esse duis</p> <a class=\"btn btn-success\" href=\"#\" role=\"button\">Pariatur dolore</a> </div> <div class=\"col-lg-3\"> <h4>Veniam</h4><p>Eu sed pariatur nisi</p> <a class=\"btn btn-success\" href=\"#\" role=\"button\">Sunt cupidatat</a> </div> </div> </main> </body> </html> \n",
            "    Answer: <html> <body> <main class=\"container\"> <div class=\"header clearfix\"> <nav> <ul class=\"nav nav-pills pull-left\"> <li><a href=\"#\">Ad adipiscing</a></li> <li class=\"active\"><a href=\"#\">Reprehenderit do</a></li> </ul> </nav> </div> <div class=\"row\"><div class=\"col-lg-6\"> <h4>Excepteur</h4><p>Consectetur elit deserunt ullamco labore lorem dolor esse</p> <a class=\"btn btn-success\" href=\"#\" role=\"button\">Consequat commodo</a> </div> <div class=\"col-lg-6\"> <h4>Occaecat</h4><p>Pariatur excepteur do et dolore id laborum sint</p> <a class=\"btn btn-warning\" href=\"#\" role=\"button\">Est ex</a> </div> </div> <div class=\"row\"><div class=\"col-lg-12\"> <h4>Irure</h4><p>Consequat in sunt qui dolor reprehenderit proident laboris</p> <a class=\"btn btn-success\" href=\"#\" role=\"button\">Irure dolore</a> </div> </div> <div class=\"row\"><div class=\"col-lg-3\"> <h4>Amet</h4><p>Lorem ut ullamco exercitation fugiat amet</p> <a class=\"btn btn-success\" href=\"#\" role=\"button\">Magna dolore</a> </div> <div class=\"col-lg-3\"> <h4>Dolore</h4><p>Aliquip consectetur ex sint cupidatat pariatur amet elit</p> <a class=\"btn btn-danger\" href=\"#\" role=\"button\">Adipiscing sunt</a> </div> <div class=\"col-lg-3\"> <h4>Do</h4><p>Qui proident officia mollit magna cupidatat esse duis</p> <a class=\"btn btn-warning\" href=\"#\" role=\"button\">Pariatur dolore</a> </div> <div class=\"col-lg-3\"> <h4>Veniam</h4><p>Eu sed pariatur</p> <a class=\"btn btn-success\" href=\"#\" role=\"button\">Sunt cupidatat</a> </div> </div> </main> </body> </html> \n",
            "      Bleu: 0.96\n",
            "\n",
            "Prediction: <html> <body> <main class=\"container\"> <div class=\"header clearfix\"> <nav> <ul class=\"nav nav-pills pull-left\"> <li><a href=\"#\">Aute commodo</a></li> <li class=\"active\"><a href=\"#\">Non duis</a></li> </ul> </nav> </div> <div class=\"row\"><div class=\"col-lg-3\"> <h4>Incididunt</h4><p>Enim magna non laborum fugiat qui tempor id</p> <a class=\"btn btn-warning\" href=\"#\" role=\"button\">Non duis</a> </div> <div class=\"col-lg-3\"> <h4>Qui</h4><p>Labore officia eu proident excepteur adipiscing nulla id</p> <a class=\"btn btn-success\" href=\"#\" role=\"button\">Fugiat quis</a> </div> <div class=\"col-lg-3\"> <h4>Duis</h4><p>Ullamco sint ipsum duis cillum minim laborum officia</p> <a class=\"btn btn-warning\" href=\"#\" role=\"button\">Officia magna</a> </div> <div class=\"col-lg-3\"> <h4>Qui</h4><p>Aliquip elit ut et sed ipsum laboris aute</p> <a class=\"btn btn-warning\" href=\"#\" role=\"button\">Reprehenderit cupidatat</a> </div> </div> <div class=\"row\"><div class=\"col-lg-12\"> <h4>Ut</h4><p>Non culpa adipiscing reprehenderit nostrud anim</p> <a class=\"btn btn-warning\" href=\"#\" role=\"button\">Duis nulla</a> </div> </div> <div class=\"row\"><div class=\"col-lg-6\"> <h4>Fugiat</h4><p>Ipsum adipiscing sunt labore est aliqua consectetur do</p> <a class=\"btn btn-warning\" href=\"#\" role=\"button\">Elit officia</a> </div> <div class=\"col-lg-6\"> <h4>Tempor</h4><p>Deserunt ut minim aliquip irure aliqua nisi dolore</p> <a class=\"btn btn-warning\" href=\"#\" role=\"button\">Aute esse</a> </div> </div> </main> </body> </html> \n",
            "    Answer: <html> <body> <main class=\"container\"> <div class=\"header clearfix\"> <nav> <ul class=\"nav nav-pills pull-left\"> <li><a href=\"#\">Et irure</a></li> <li class=\"active\"><a href=\"#\">Non duis</a></li> </ul> </nav> </div> <div class=\"row\"><div class=\"col-lg-3\"> <h4>Incididunt</h4><p>Enim magna non laborum fugiat qui tempor id</p> <a class=\"btn btn-warning\" href=\"#\" role=\"button\">Nisi duis</a> </div> <div class=\"col-lg-3\"> <h4>Qui</h4><p>Labore officia eu proident excepteur adipiscing nulla id</p> <a class=\"btn btn-warning\" href=\"#\" role=\"button\">Fugiat quis</a> </div> <div class=\"col-lg-3\"> <h4>Duis</h4><p>Ullamco sit ipsum duis cillum minim laborum officia</p> <a class=\"btn btn-success\" href=\"#\" role=\"button\">Officia magna</a> </div> <div class=\"col-lg-3\"> <h4>Qui</h4><p>Aliquip elit ut et sed ipsum laboris aute</p> <a class=\"btn btn-warning\" href=\"#\" role=\"button\">Reprehenderit cupidatat</a> </div> </div> <div class=\"row\"><div class=\"col-lg-12\"> <h4>Ut</h4><p>Non culpa adipiscing reprehenderit nostrud anim</p> <a class=\"btn btn-warning\" href=\"#\" role=\"button\">Duis nulla</a> </div> </div> <div class=\"row\"><div class=\"col-lg-6\"> <h4>Fugiat</h4><p>Ipsum adipiscing sunt labore est aliqua consectetur do</p> <a class=\"btn btn-warning\" href=\"#\" role=\"button\">Elit officia</a> </div> <div class=\"col-lg-6\"> <h4>Tempor</h4><p>Deserunt ut minim aliquip irure aliqua nisi dolore</p> <a class=\"btn btn-warning\" href=\"#\" role=\"button\">Aute amet</a> </div> </div> </main> </body> </html> \n",
            "      Bleu: 0.94\n",
            "\n",
            "Prediction: <html> <body> <main class=\"container\"> <div class=\"header clearfix\"> <nav> <ul class=\"nav nav-pills pull-left\"> <li><a href=\"#\">Aute commodo</a></li> <li><a href=\"#\">Aute commodo</a></li> <li><a href=\"#\">Aute commodo</a></li> <li><a href=\"#\">Aute commodo</a></li> <li class=\"active\"><a href=\"#\">Exercitation est</a></li> </ul> </nav> </div> <div class=\"row\"><div class=\"col-lg-6\"> <h4>Excepteur</h4><p>Aute proident occaecat lorem incididunt</p> <a class=\"btn btn-success\" href=\"#\" role=\"button\">Lorem eu</a> </div> <div class=\"col-lg-6\"> <h4>Quis</h4><p>Labore in ipsum cillum dolor ea sint nostrud</p> <a class=\"btn btn-success\" href=\"#\" role=\"button\">Proident enim</a> </div> </div> <div class=\"row\"><div class=\"col-lg-12\"> <h4>Nisi</h4><p>In et officia consequat lorem eu non nulla</p> <a class=\"btn btn-success\" href=\"#\" role=\"button\">Ad ut</a> </div> </div> <div class=\"row\"><div class=\"col-lg-3\"> <h4>Laborum</h4><p>Ut sunt occaecat ullamco dolor cupidatat amet est</p> <a class=\"btn btn-success\" href=\"#\" role=\"button\">Cillum aute</a> </div> <div class=\"col-lg-3\"> <h4>Consequat</h4><p>Voluptate consequat enim aliquip officia aute excepteur pariatur</p> <a class=\"btn btn-success\" href=\"#\" role=\"button\">Labore qui</a> </div> <div class=\"col-lg-3\"> <h4>Qui</h4><p>Mollit sit non voluptate culpa qui sed reprehenderit</p> <a class=\"btn btn-success\" href=\"#\" role=\"button\">Dolore dolor</a> </div> <div class=\"col-lg-3\"> <h4>Fugiat</h4><p>Pariatur reprehenderit sunt ex consequat qui exercitation tempor</p> <a class=\"btn btn-success\" href=\"#\" role=\"button\">In veniam</a> </div> </div> </main> </body> </html> \n",
            "    Answer: <html> <body> <main class=\"container\"> <div class=\"header clearfix\"> <nav> <ul class=\"nav nav-pills pull-left\"> <li><a href=\"#\">Excepteur culpa</a></li> <li><a href=\"#\">Adipiscing nulla</a></li> <li><a href=\"#\">Amet sed</a></li> <li class=\"active\"><a href=\"#\">Exercitation elit</a></li> <li><a href=\"#\">Tempor aliqua</a></li> </ul> </nav> </div> <div class=\"row\"><div class=\"col-lg-6\"> <h4>Excepteur</h4><p>Aute proident occaecat lorem incididunt</p> <a class=\"btn btn-danger\" href=\"#\" role=\"button\">Lorem eu</a> </div> <div class=\"col-lg-6\"> <h4>Quis</h4><p>Laboris in ipsum cillum dolor ea sint nostrud</p> <a class=\"btn btn-success\" href=\"#\" role=\"button\">Proident enim</a> </div> </div> <div class=\"row\"><div class=\"col-lg-12\"> <h4>Nisi</h4><p>In et officia consequat lorem eu non nulla</p> <a class=\"btn btn-warning\" href=\"#\" role=\"button\">Ad ut</a> </div> </div> <div class=\"row\"><div class=\"col-lg-3\"> <h4>Laborum</h4><p>Ut sunt occaecat ullamco dolor cupidatat amet est</p> <a class=\"btn btn-warning\" href=\"#\" role=\"button\">Cillum aute</a> </div> <div class=\"col-lg-3\"> <h4>Consequat</h4><p>Voluptate consequat enim aliquip officia aute excepteur pariatur</p> <a class=\"btn btn-success\" href=\"#\" role=\"button\">Labore qui</a> </div> <div class=\"col-lg-3\"> <h4>Qui</h4><p>Mollit sit non voluptate culpa qui sed reprehenderit</p> <a class=\"btn btn-success\" href=\"#\" role=\"button\">Dolore dolor</a> </div> <div class=\"col-lg-3\"> <h4>Fugiat</h4><p>Pariatur reprehenderit sunt ex consequat qui exercitation tempor</p> <a class=\"btn btn-warning\" href=\"#\" role=\"button\">In veniam</a> </div> </div> </main> </body> </html> \n",
            "      Bleu: 0.97\n",
            "\n",
            "Prediction: <html> <body> <main class=\"container\"> <div class=\"header clearfix\"> <nav> <ul class=\"nav nav-pills pull-left\"> <li class=\"active\"><a href=\"#\">Cupidatat ipsum</a></li> <li><a href=\"#\">Et aliquip</a></li> <li><a href=\"#\">Et aliquip</a></li> <li><a href=\"#\">Et aliquip</a></li> <li><a href=\"#\">Et aliquip</a></li> </ul> </nav> </div> <div class=\"row\"><div class=\"col-lg-6\"> <h4>Sed</h4><p>Laborum aliqua mollit nisi</p> <a class=\"btn btn-success\" href=\"#\" role=\"button\">Magna ipsum</a> </div> <div class=\"col-lg-6\"> <h4>Sit</h4><p>Quis sint mollit incididunt ullamco sed ipsum nulla</p> <a class=\"btn btn-warning\" href=\"#\" role=\"button\">Commodo aliquip</a> </div> </div> <div class=\"row\"><div class=\"col-lg-12\"> <h4>Voluptate</h4><p>Incididunt nulla eu sed eiusmod tempor est proident</p> <a class=\"btn btn-warning\" href=\"#\" role=\"button\">Do proident</a> </div> </div> <div class=\"row\"><div class=\"col-lg-3\"> <h4>Quis</h4><p>Enim nostrud sunt adipiscing irure duis sed tempor</p> <a class=\"btn btn-success\" href=\"#\" role=\"button\">Ad voluptate</a> </div> <div class=\"col-lg-3\"> <h4>Veniam</h4><p>Aute dolore proident reprehenderit sed</p> <a class=\"btn btn-success\" href=\"#\" role=\"button\">Excepteur veniam</a> </div> <div class=\"col-lg-3\"> <h4>Dolore</h4><p>Adipiscing ipsum elit sunt in duis cillum eiusmod</p> <a class=\"btn btn-warning\" href=\"#\" role=\"button\">Nisi consequat</a> </div> <div class=\"col-lg-3\"> <h4>Aliqua</h4><p>Est cupidatat aliqua ullamco mollit excepteur laboris cillum</p> <a class=\"btn btn-success\" href=\"#\" role=\"button\">Enim lorem</a> </div> </div> </main> </body> </html> \n",
            "    Answer: <html> <body> <main class=\"container\"> <div class=\"header clearfix\"> <nav> <ul class=\"nav nav-pills pull-left\"> <li class=\"active\"><a href=\"#\">Cupidatat ipsum</a></li> <li><a href=\"#\">Amet adipiscing</a></li> <li><a href=\"#\">Pariatur enim</a></li> <li><a href=\"#\">Exercitation pariatur</a></li> </ul> </nav> </div> <div class=\"row\"><div class=\"col-lg-6\"> <h4>Sed</h4><p>Laborum aliqua mollit nisi</p> <a class=\"btn btn-warning\" href=\"#\" role=\"button\">Magna ipsum</a> </div> <div class=\"col-lg-6\"> <h4>Sit</h4><p>Quis sint mollit incididunt ullamco sed ipsum nulla</p> <a class=\"btn btn-danger\" href=\"#\" role=\"button\">Commodo aliquip</a> </div> </div> <div class=\"row\"><div class=\"col-lg-12\"> <h4>Voluptate</h4><p>Incididunt nulla eu sed eiusmod tempor est proident</p> <a class=\"btn btn-danger\" href=\"#\" role=\"button\">Do proident</a> </div> </div> <div class=\"row\"><div class=\"col-lg-3\"> <h4>Quis</h4><p>Enim nostrud sunt adipiscing irure duis sed tempor</p> <a class=\"btn btn-warning\" href=\"#\" role=\"button\">Ad voluptate</a> </div> <div class=\"col-lg-3\"> <h4>Veniam</h4><p>Aute dolore proident reprehenderit sed</p> <a class=\"btn btn-danger\" href=\"#\" role=\"button\">Excepteur veniam</a> </div> <div class=\"col-lg-3\"> <h4>Dolore</h4><p>Adipiscing ipsum elit sunt in duis cillum eiusmod</p> <a class=\"btn btn-danger\" href=\"#\" role=\"button\">Nisi consequat</a> </div> <div class=\"col-lg-3\"> <h4>Aliqua</h4><p>Elit cupidatat aliqua ullamco mollit excepteur laboris cillum</p> <a class=\"btn btn-success\" href=\"#\" role=\"button\">Enim lorem</a> </div> </div> </main> </body> </html> \n",
            "      Bleu: 0.87\n",
            "\n",
            "Prediction: <html> <body> <main class=\"container\"> <div class=\"header clearfix\"> <nav> <ul class=\"nav nav-pills pull-left\"> <li><a href=\"#\">Aute aliqua</a></li> <li><a href=\"#\">Amet aliqua</a></li> <li><a href=\"#\">Amet aliqua</a></li> <li class=\"active\"><a href=\"#\">Consequat nulla</a></li> <li><a href=\"#\">Aute ullamco</a></li> </ul> </nav> </div> <div class=\"row\"><div class=\"col-lg-6\"> <h4>Sed</h4><p>Labore aliquip commodo anim elit eu minim qui</p> <a class=\"btn btn-success\" href=\"#\" role=\"button\">Proident mollit</a> </div> <div class=\"col-lg-6\"> <h4>Laborum</h4><p>Amet excepteur aliquip minim lorem</p> <a class=\"btn btn-success\" href=\"#\" role=\"button\">Adipiscing sed</a> </div> </div> <div class=\"row\"><div class=\"col-lg-12\"> <h4>Laborum</h4><p>Consequat nulla id laborum sed ipsum magna proident</p> <a class=\"btn btn-warning\" href=\"#\" role=\"button\">Consequat sit</a> </div> </div> <div class=\"row\"><div class=\"col-lg-3\"> <h4>Ea</h4><p>Ex officia adipiscing est</p> <a class=\"btn btn-success\" href=\"#\" role=\"button\">Sunt occaecat</a> </div> <div class=\"col-lg-3\"> <h4>Do</h4><p>Amet laborum culpa ad aliquip deserunt id sed</p> <a class=\"btn btn-success\" href=\"#\" role=\"button\">Sed aliqua</a> </div> <div class=\"col-lg-3\"> <h4>Excepteur</h4><p>Sint magna</p> <a class=\"btn btn-warning\" href=\"#\" role=\"button\">Do lorem</a> </div> <div class=\"col-lg-3\"> <h4>Aute</h4><p>Non ad consequat reprehenderit ut nulla</p> <a class=\"btn btn-success\" href=\"#\" role=\"button\">Eu et</a> </div> </div> </main> </body> </html> \n",
            "    Answer: <html> <body> <main class=\"container\"> <div class=\"header clearfix\"> <nav> <ul class=\"nav nav-pills pull-left\"> <li><a href=\"#\">Cillum deserunt</a></li> <li><a href=\"#\">Culpa fugiat</a></li> <li class=\"active\"><a href=\"#\">Consequat nulla</a></li> <li><a href=\"#\">Quis ullamco</a></li> <li><a href=\"#\">Commodo non</a></li> </ul> </nav> </div> <div class=\"row\"><div class=\"col-lg-6\"> <h4>Sed</h4><p>Labore aliquip commodo anim elit eu lorem qui</p> <a class=\"btn btn-danger\" href=\"#\" role=\"button\">Proident mollit</a> </div> <div class=\"col-lg-6\"> <h4>Laborum</h4><p>Amet excepteur aliquip minim lorem</p> <a class=\"btn btn-warning\" href=\"#\" role=\"button\">Adipiscing sed</a> </div> </div> <div class=\"row\"><div class=\"col-lg-12\"> <h4>Laborum</h4><p>Consequat nulla id laborum sed ipsum magna proident</p> <a class=\"btn btn-warning\" href=\"#\" role=\"button\">Consequat ad</a> </div> </div> <div class=\"row\"><div class=\"col-lg-3\"> <h4>Ea</h4><p>Ex officia adipiscing est</p> <a class=\"btn btn-success\" href=\"#\" role=\"button\">Sunt occaecat</a> </div> <div class=\"col-lg-3\"> <h4>Do</h4><p>Amet laborum culpa ad aliquip deserunt id sed</p> <a class=\"btn btn-warning\" href=\"#\" role=\"button\">Sed aliqua</a> </div> <div class=\"col-lg-3\"> <h4>Excepteur</h4><p>Sint magna</p> <a class=\"btn btn-success\" href=\"#\" role=\"button\">Do lorem</a> </div> <div class=\"col-lg-3\"> <h4>Aute</h4><p>Non ad consequat reprehenderit ut nulla</p> <a class=\"btn btn-danger\" href=\"#\" role=\"button\">Eu et</a> </div> </div> </main> </body> </html> \n",
            "      Bleu: 0.96\n",
            "\n",
            "Prediction: <html> <body> <main class=\"container\"> <div class=\"header clearfix\"> <nav> <ul class=\"nav nav-pills pull-left\"> <li class=\"active\"><a href=\"#\">Incididunt ullamco</a></li> <li><a href=\"#\">Aute ullamco</a></li> <li><a href=\"#\">Aute ullamco</a></li> <li><a href=\"#\">Aute ullamco</a></li> </ul> </nav> </div> <div class=\"row\"><div class=\"col-lg-6\"> <h4>Anim</h4><p>Anim magna nulla amet</p> <a class=\"btn btn-success\" href=\"#\" role=\"button\">Deserunt ipsum</a> </div> <div class=\"col-lg-6\"> <h4>Do</h4><p>Id mollit nisi ullamco minim anim ex adipiscing</p> <a class=\"btn btn-success\" href=\"#\" role=\"button\">Aute eiusmod</a> </div> </div> <div class=\"row\"><div class=\"col-lg-3\"> <h4>Tempor</h4><p>Officia eu lorem dolore sunt ut mollit anim</p> <a class=\"btn btn-warning\" href=\"#\" role=\"button\">Voluptate ullamco</a> </div> <div class=\"col-lg-3\"> <h4>Cupidatat</h4><p>Nostrud occaecat est magna dolor cillum pariatur veniam</p> <a class=\"btn btn-danger\" href=\"#\" role=\"button\">Cillum nisi</a> </div> <div class=\"col-lg-3\"> <h4>Elit</h4><p>Id laborum adipiscing elit sint deserunt consequat nostrud</p> <a class=\"btn btn-warning\" href=\"#\" role=\"button\">Veniam adipiscing</a> </div> <div class=\"col-lg-3\"> <h4>Ut</h4><p>Cupidatat aliqua quis eiusmod nulla exercitation reprehenderit do</p> <a class=\"btn btn-success\" href=\"#\" role=\"button\">Consequat tempor</a> </div> </div> <div class=\"row\"><div class=\"col-lg-12\"> <h4>Exercitation</h4><p>Labore dolore ipsum mollit nisi sint sit adipiscing</p> <a class=\"btn btn-success\" href=\"#\" role=\"button\">Dolor nulla</a> </div> </div> </main> </body> </html> \n",
            "    Answer: <html> <body> <main class=\"container\"> <div class=\"header clearfix\"> <nav> <ul class=\"nav nav-pills pull-left\"> <li class=\"active\"><a href=\"#\">Incididunt ullamco</a></li> <li><a href=\"#\">Quis id</a></li> <li><a href=\"#\">Duis fugiat</a></li> <li><a href=\"#\">Est sunt</a></li> </ul> </nav> </div> <div class=\"row\"><div class=\"col-lg-6\"> <h4>Anim</h4><p>Anim magna nulla amet</p> <a class=\"btn btn-danger\" href=\"#\" role=\"button\">Deserunt ipsum</a> </div> <div class=\"col-lg-6\"> <h4>Do</h4><p>Id mollit nisi ullamco minim anim ex adipiscing</p> <a class=\"btn btn-danger\" href=\"#\" role=\"button\">Aute eiusmod</a> </div> </div> <div class=\"row\"><div class=\"col-lg-3\"> <h4>Tempor</h4><p>Officia eu lorem dolore sunt ut mollit anim</p> <a class=\"btn btn-success\" href=\"#\" role=\"button\">Voluptate ullamco</a> </div> <div class=\"col-lg-3\"> <h4>Cupidatat</h4><p>Nostrud occaecat est magna dolor cillum pariatur veniam</p> <a class=\"btn btn-warning\" href=\"#\" role=\"button\">Cillum nisi</a> </div> <div class=\"col-lg-3\"> <h4>Elit</h4><p>Id laborum adipiscing elit sint deserunt consequat nostrud</p> <a class=\"btn btn-success\" href=\"#\" role=\"button\">Veniam adipiscing</a> </div> <div class=\"col-lg-3\"> <h4>Ut</h4><p>Cupidatat aliqua quis eiusmod nulla exercitation reprehenderit do</p> <a class=\"btn btn-success\" href=\"#\" role=\"button\">Consequat tempor</a> </div> </div> <div class=\"row\"><div class=\"col-lg-12\"> <h4>Exercitation</h4><p>Labore dolore ipsum mollit nisi sint sit adipiscing</p> <a class=\"btn btn-success\" href=\"#\" role=\"button\">Dolor nulla</a> </div> </div> </main> </body> </html> \n",
            "      Bleu: 0.96\n",
            " Avg Bleu Score: 0.95\n"
          ]
        },
        {
          "metadata": {
            "tags": null
          },
          "name": "stderr",
          "output_type": "stream",
          "text": [
            "Epoch 5/14 - train loop: 100%|██████████| 388/388 [04:58<00:00,  1.30it/s, loss=0.0822]\n"
          ]
        },
        {
          "metadata": {
            "tags": null
          },
          "name": "stdout",
          "output_type": "stream",
          "text": [
            "Moving Avg Loss: 0.118\n"
          ]
        },
        {
          "metadata": {
            "tags": null
          },
          "name": "stderr",
          "output_type": "stream",
          "text": [
            "Epoch 6/14 - train loop: 100%|██████████| 388/388 [04:58<00:00,  1.30it/s, loss=0.103]\n"
          ]
        },
        {
          "metadata": {
            "tags": null
          },
          "name": "stdout",
          "output_type": "stream",
          "text": [
            "Moving Avg Loss: 0.110\n"
          ]
        },
        {
          "output_type": "stream",
          "name": "stderr",
          "text": [
            "Epoch 7/14 - train loop: 100%|██████████| 388/388 [04:58<00:00,  1.30it/s, loss=0.0486]\n"
          ]
        },
        {
          "output_type": "stream",
          "name": "stdout",
          "text": [
            "Moving Avg Loss: 0.087\n"
          ]
        },
        {
          "output_type": "stream",
          "name": "stderr",
          "text": [
            "Epoch 8/14 - train loop: 100%|██████████| 388/388 [04:58<00:00,  1.30it/s, loss=0.0942]\n"
          ]
        },
        {
          "output_type": "stream",
          "name": "stdout",
          "text": [
            "Moving Avg Loss: 0.079\n"
          ]
        },
        {
          "output_type": "stream",
          "name": "stderr",
          "text": [
            "Epoch 9/14 - train loop: 100%|██████████| 388/388 [04:58<00:00,  1.30it/s, loss=0.0688]\n"
          ]
        },
        {
          "output_type": "stream",
          "name": "stdout",
          "text": [
            "Moving Avg Loss: 0.070\n"
          ]
        },
        {
          "output_type": "stream",
          "name": "stderr",
          "text": [
            "Epoch 9/14 - valid loop:  50%|█████     | 1/2 [01:04<01:04, 64.00s/it, bleu_score=0.972]"
          ]
        },
        {
          "output_type": "stream",
          "name": "stdout",
          "text": [
            "\n",
            "Prediction: <html> <body> <main class=\"container\"> <div class=\"header clearfix\"> <nav> <ul class=\"nav nav-pills pull-left\"> <li><a href=\"#\">Amet anim</a></li> <li class=\"active\"><a href=\"#\">Aliquip pariatur</a></li> </ul> </nav> </div> <div class=\"row\"><div class=\"col-lg-6\"> <h4>Elit</h4><p>Enim labore esse cillum aliqua nisi velit in</p> <a class=\"btn btn-warning\" href=\"#\" role=\"button\">Amet est</a> </div> <div class=\"col-lg-6\"> <h4>Quis</h4><p>Cillum nostrud pariatur amet irure in minim ut</p> <a class=\"btn btn-warning\" href=\"#\" role=\"button\">Exercitation reprehenderit</a> </div> </div> <div class=\"row\"><div class=\"col-lg-12\"> <h4>Incididunt</h4><p>Commodo voluptate ea dolore minim tempor</p> <a class=\"btn btn-success\" href=\"#\" role=\"button\">Aliquip nisi</a> </div> </div> <div class=\"row\"><div class=\"col-lg-3\"> <h4>Exercitation</h4><p>Ea consectetur dolor labore esse incididunt tempor ullamco</p> <a class=\"btn btn-warning\" href=\"#\" role=\"button\">Incididunt aliquip</a> </div> <div class=\"col-lg-3\"> <h4>Occaecat</h4><p>Quis officia sed eu cupidatat reprehenderit laboris lorem</p> <a class=\"btn btn-success\" href=\"#\" role=\"button\">Non aliquip</a> </div> <div class=\"col-lg-3\"> <h4>Voluptate</h4><p>Laborum nisi eu enim proident</p> <a class=\"btn btn-danger\" href=\"#\" role=\"button\">Duis id</a> </div> <div class=\"col-lg-3\"> <h4>Amet</h4><p>Consectetur anim adipiscing enim et do quis velit</p> <a class=\"btn btn-warning\" href=\"#\" role=\"button\">Aute enim</a> </div> </div> </main> </body> </html> \n",
            "    Answer: <html> <body> <main class=\"container\"> <div class=\"header clearfix\"> <nav> <ul class=\"nav nav-pills pull-left\"> <li><a href=\"#\">Occaecat cillum</a></li> <li class=\"active\"><a href=\"#\">Aliquip pariatur</a></li> </ul> </nav> </div> <div class=\"row\"><div class=\"col-lg-6\"> <h4>Elit</h4><p>Enim labore esse cillum aliqua nisi velit in</p> <a class=\"btn btn-warning\" href=\"#\" role=\"button\">Amet est</a> </div> <div class=\"col-lg-6\"> <h4>Quis</h4><p>Cillum nostrud pariatur amet irure in minim ut</p> <a class=\"btn btn-warning\" href=\"#\" role=\"button\">Exercitation reprehenderit</a> </div> </div> <div class=\"row\"><div class=\"col-lg-12\"> <h4>Incididunt</h4><p>Commodo voluptate ea dolore minim tempor</p> <a class=\"btn btn-success\" href=\"#\" role=\"button\">Aliquip nisi</a> </div> </div> <div class=\"row\"><div class=\"col-lg-3\"> <h4>Exercitation</h4><p>Ea consectetur dolor labore esse incididunt tempor ullamco</p> <a class=\"btn btn-warning\" href=\"#\" role=\"button\">Incididunt aliquip</a> </div> <div class=\"col-lg-3\"> <h4>Occaecat</h4><p>Quis officia sed eu cupidatat reprehenderit laboris lorem</p> <a class=\"btn btn-success\" href=\"#\" role=\"button\">Non aliquip</a> </div> <div class=\"col-lg-3\"> <h4>Voluptate</h4><p>Laborum nisi eu enim proident</p> <a class=\"btn btn-danger\" href=\"#\" role=\"button\">Duis id</a> </div> <div class=\"col-lg-3\"> <h4>Amet</h4><p>Consectetur anim adipiscing enim et do quis velit</p> <a class=\"btn btn-warning\" href=\"#\" role=\"button\">Aute anim</a> </div> </div> </main> </body> </html> \n",
            "      Bleu: 0.99\n",
            "\n",
            "Prediction: <html> <body> <main class=\"container\"> <div class=\"header clearfix\"> <nav> <ul class=\"nav nav-pills pull-left\"> <li><a href=\"#\">Amet laboris</a></li> <li><a href=\"#\">Eiusmod aliqua</a></li> <li><a href=\"#\">Eiusmod aliqua</a></li> <li><a href=\"#\">Eiusmod aliqua</a></li> <li class=\"active\"><a href=\"#\">Eiusmod amet</a></li> </ul> </nav> </div> <div class=\"row\"><div class=\"col-lg-12\"> <h4>Ex</h4><p>Ad in laboris nisi et culpa dolore proident</p> <a class=\"btn btn-warning\" href=\"#\" role=\"button\">Dolor incididunt</a> </div> </div> <div class=\"row\"><div class=\"col-lg-3\"> <h4>Cillum</h4><p>Officia elit eu et irure ut nostrud in</p> <a class=\"btn btn-success\" href=\"#\" role=\"button\">Nulla in</a> </div> <div class=\"col-lg-3\"> <h4>Excepteur</h4><p>Et exercitation velit ex ea non</p> <a class=\"btn btn-success\" href=\"#\" role=\"button\">Irure laborum</a> </div> <div class=\"col-lg-3\"> <h4>In</h4><p>Sit excepteur deserunt labore sint quis enim proident</p> <a class=\"btn btn-warning\" href=\"#\" role=\"button\">Proident do</a> </div> <div class=\"col-lg-3\"> <h4>Anim</h4><p>Minim proident laborum sit nisi ex labore incididunt</p> <a class=\"btn btn-danger\" href=\"#\" role=\"button\">Labore sed</a> </div> </div> <div class=\"row\"><div class=\"col-lg-6\"> <h4>Magna</h4><p>Aliqua officia nostrud cillum voluptate aliquip</p> <a class=\"btn btn-warning\" href=\"#\" role=\"button\">Ut laboris</a> </div> <div class=\"col-lg-6\"> <h4>Aliqua</h4><p>Excepteur adipiscing est sunt exercitation ut minim magna</p> <a class=\"btn btn-danger\" href=\"#\" role=\"button\">Laboris reprehenderit</a> </div> </div> </main> </body> </html> \n",
            "    Answer: <html> <body> <main class=\"container\"> <div class=\"header clearfix\"> <nav> <ul class=\"nav nav-pills pull-left\"> <li><a href=\"#\">Sunt mollit</a></li> <li><a href=\"#\">Ipsum enim</a></li> <li><a href=\"#\">Reprehenderit duis</a></li> <li><a href=\"#\">Sit labore</a></li> <li class=\"active\"><a href=\"#\">Eiusmod amet</a></li> </ul> </nav> </div> <div class=\"row\"><div class=\"col-lg-12\"> <h4>Ex</h4><p>Ad in laboris nisi et culpa dolore proident</p> <a class=\"btn btn-warning\" href=\"#\" role=\"button\">Dolor incididunt</a> </div> </div> <div class=\"row\"><div class=\"col-lg-3\"> <h4>Cillum</h4><p>Officia elit eu et irure ut nostrud in</p> <a class=\"btn btn-success\" href=\"#\" role=\"button\">Nulla in</a> </div> <div class=\"col-lg-3\"> <h4>Excepteur</h4><p>Et exercitation velit ex ea non</p> <a class=\"btn btn-success\" href=\"#\" role=\"button\">Irure laborum</a> </div> <div class=\"col-lg-3\"> <h4>In</h4><p>Sit excepteur deserunt labore sint quis enim proident</p> <a class=\"btn btn-warning\" href=\"#\" role=\"button\">Proident do</a> </div> <div class=\"col-lg-3\"> <h4>Anim</h4><p>Minim proident laborum sit nisi ex labore incididunt</p> <a class=\"btn btn-danger\" href=\"#\" role=\"button\">Labore sed</a> </div> </div> <div class=\"row\"><div class=\"col-lg-6\"> <h4>Magna</h4><p>Aliqua officia nostrud cillum voluptate aliquip</p> <a class=\"btn btn-warning\" href=\"#\" role=\"button\">Ut laboris</a> </div> <div class=\"col-lg-6\"> <h4>Aliqua</h4><p>Excepteur adipiscing est sunt exercitation ut minim magna</p> <a class=\"btn btn-danger\" href=\"#\" role=\"button\">Laboris reprehenderit</a> </div> </div> </main> </body> </html> \n",
            "      Bleu: 0.97\n",
            "\n",
            "Prediction: <html> <body> <main class=\"container\"> <div class=\"header clearfix\"> <nav> <ul class=\"nav nav-pills pull-left\"> <li><a href=\"#\">Amet commodo</a></li> <li><a href=\"#\">Amet commodo</a></li> <li><a href=\"#\">Amet commodo</a></li> <li><a href=\"#\">Amet commodo</a></li> <li class=\"active\"><a href=\"#\">Ut est</a></li> </ul> </nav> </div> <div class=\"row\"><div class=\"col-lg-6\"> <h4>Eu</h4><p>Exercitation dolor incididunt sed deserunt excepteur laborum ut</p> <a class=\"btn btn-danger\" href=\"#\" role=\"button\">Deserunt pariatur</a> </div> <div class=\"col-lg-6\"> <h4>Elit</h4><p>Reprehenderit fugiat ut veniam cupidatat ex elit aliqua</p> <a class=\"btn btn-warning\" href=\"#\" role=\"button\">Irure eu</a> </div> </div> <div class=\"row\"><div class=\"col-lg-3\"> <h4>Sit</h4><p>Aliqua laborum id minim veniam enim reprehenderit fugiat</p> <a class=\"btn btn-danger\" href=\"#\" role=\"button\">Exercitation consectetur</a> </div> <div class=\"col-lg-3\"> <h4>Elit</h4><p>Reprehenderit ex fugiat nostrud voluptate eiusmod adipiscing velit</p> <a class=\"btn btn-warning\" href=\"#\" role=\"button\">Elit occaecat</a> </div> <div class=\"col-lg-3\"> <h4>Magna</h4><p>Aute velit laboris esse elit</p> <a class=\"btn btn-success\" href=\"#\" role=\"button\">Anim elit</a> </div> <div class=\"col-lg-3\"> <h4>Commodo</h4><p>Velit eu sint dolore cupidatat tempor ex dolor</p> <a class=\"btn btn-success\" href=\"#\" role=\"button\">Mollit qui</a> </div> </div> <div class=\"row\"><div class=\"col-lg-12\"> <h4>Do</h4><p>Cupidatat duis id mollit veniam ea quis excepteur</p> <a class=\"btn btn-success\" href=\"#\" role=\"button\">Ad ut</a> </div> </div> </main> </body> </html> \n",
            "    Answer: <html> <body> <main class=\"container\"> <div class=\"header clearfix\"> <nav> <ul class=\"nav nav-pills pull-left\"> <li><a href=\"#\">Occaecat proident</a></li> <li><a href=\"#\">Mollit tempor</a></li> <li><a href=\"#\">Sit excepteur</a></li> <li><a href=\"#\">Consequat sed</a></li> <li class=\"active\"><a href=\"#\">Ut est</a></li> </ul> </nav> </div> <div class=\"row\"><div class=\"col-lg-6\"> <h4>Eu</h4><p>Exercitation dolor incididunt sed deserunt excepteur laborum ut</p> <a class=\"btn btn-danger\" href=\"#\" role=\"button\">Deserunt pariatur</a> </div> <div class=\"col-lg-6\"> <h4>Elit</h4><p>Reprehenderit fugiat ut veniam cupidatat ex elit aliqua</p> <a class=\"btn btn-warning\" href=\"#\" role=\"button\">Irure eu</a> </div> </div> <div class=\"row\"><div class=\"col-lg-3\"> <h4>Sit</h4><p>Aliqua laborum id minim veniam enim reprehenderit fugiat</p> <a class=\"btn btn-danger\" href=\"#\" role=\"button\">Exercitation consectetur</a> </div> <div class=\"col-lg-3\"> <h4>Elit</h4><p>Reprehenderit ex fugiat nostrud voluptate eiusmod adipiscing velit</p> <a class=\"btn btn-warning\" href=\"#\" role=\"button\">Elit occaecat</a> </div> <div class=\"col-lg-3\"> <h4>Magna</h4><p>Aute velit laboris esse elit</p> <a class=\"btn btn-success\" href=\"#\" role=\"button\">Anim elit</a> </div> <div class=\"col-lg-3\"> <h4>Commodo</h4><p>Velit eu sint dolore cupidatat tempor ex dolor</p> <a class=\"btn btn-success\" href=\"#\" role=\"button\">Mollit qui</a> </div> </div> <div class=\"row\"><div class=\"col-lg-12\"> <h4>Do</h4><p>Cupidatat duis id mollit veniam ea quis excepteur</p> <a class=\"btn btn-success\" href=\"#\" role=\"button\">Ad ut</a> </div> </div> </main> </body> </html> \n",
            "      Bleu: 0.97\n",
            "\n",
            "Prediction: <html> <body> <main class=\"container\"> <div class=\"header clearfix\"> <nav> <ul class=\"nav nav-pills pull-left\"> <li><a href=\"#\">Amet anim</a></li> <li class=\"active\"><a href=\"#\">Aliquip velit</a></li> </ul> </nav> </div> <div class=\"row\"><div class=\"col-lg-6\"> <h4>In</h4><p>Est ut irure ea labore sit dolor adipiscing</p> <a class=\"btn btn-danger\" href=\"#\" role=\"button\">Consequat excepteur</a> </div> <div class=\"col-lg-6\"> <h4>Officia</h4><p>Officia ut proident pariatur nulla anim</p> <a class=\"btn btn-success\" href=\"#\" role=\"button\">Enim id</a> </div> </div> <div class=\"row\"><div class=\"col-lg-12\"> <h4>Sint</h4><p>Eiusmod aute aliqua tempor cillum lorem fugiat minim</p> <a class=\"btn btn-danger\" href=\"#\" role=\"button\">Ut labore</a> </div> </div> <div class=\"row\"><div class=\"col-lg-3\"> <h4>Excepteur</h4><p>Commodo cillum eiusmod et anim est mollit aliqua</p> <a class=\"btn btn-danger\" href=\"#\" role=\"button\">Velit tempor</a> </div> <div class=\"col-lg-3\"> <h4>In</h4><p>Elit pariatur dolor consequat officia</p> <a class=\"btn btn-warning\" href=\"#\" role=\"button\">Proident deserunt</a> </div> <div class=\"col-lg-3\"> <h4>Eu</h4><p>Laborum duis labore consequat sint excepteur aute enim</p> <a class=\"btn btn-warning\" href=\"#\" role=\"button\">Qui proident</a> </div> <div class=\"col-lg-3\"> <h4>Id</h4><p>Sunt ipsum esse quis elit officia deserunt anim</p> <a class=\"btn btn-warning\" href=\"#\" role=\"button\">Proident minim</a> </div> </div> </main> </body> </html> \n",
            "    Answer: <html> <body> <main class=\"container\"> <div class=\"header clearfix\"> <nav> <ul class=\"nav nav-pills pull-left\"> <li><a href=\"#\">Culpa id</a></li> <li class=\"active\"><a href=\"#\">Aliquip velit</a></li> </ul> </nav> </div> <div class=\"row\"><div class=\"col-lg-6\"> <h4>In</h4><p>Est ut irure ea labore sit dolor adipiscing</p> <a class=\"btn btn-danger\" href=\"#\" role=\"button\">Consequat excepteur</a> </div> <div class=\"col-lg-6\"> <h4>Officia</h4><p>Officia ut proident pariatur nulla anim</p> <a class=\"btn btn-success\" href=\"#\" role=\"button\">Enim id</a> </div> </div> <div class=\"row\"><div class=\"col-lg-12\"> <h4>Sint</h4><p>Eiusmod aute aliqua tempor cillum lorem fugiat minim</p> <a class=\"btn btn-danger\" href=\"#\" role=\"button\">Ut labore</a> </div> </div> <div class=\"row\"><div class=\"col-lg-3\"> <h4>Excepteur</h4><p>Commodo cillum eiusmod et anim est mollit aliqua</p> <a class=\"btn btn-danger\" href=\"#\" role=\"button\">Velit tempor</a> </div> <div class=\"col-lg-3\"> <h4>In</h4><p>Elit pariatur dolor consequat officia</p> <a class=\"btn btn-warning\" href=\"#\" role=\"button\">Proident deserunt</a> </div> <div class=\"col-lg-3\"> <h4>Eu</h4><p>Laborum duis labore consequat sint excepteur aute enim</p> <a class=\"btn btn-warning\" href=\"#\" role=\"button\">Qui proident</a> </div> <div class=\"col-lg-3\"> <h4>Id</h4><p>Sunt ipsum esse quis elit officia deserunt anim</p> <a class=\"btn btn-warning\" href=\"#\" role=\"button\">Proident minim</a> </div> </div> </main> </body> </html> \n",
            "      Bleu: 0.99\n",
            "\n",
            "Prediction: <html> <body> <main class=\"container\"> <div class=\"header clearfix\"> <nav> <ul class=\"nav nav-pills pull-left\"> <li class=\"active\"><a href=\"#\">Fugiat do</a></li> <li><a href=\"#\">Et aliquip</a></li> <li><a href=\"#\">Et aliqua</a></li> <li><a href=\"#\">Et aliqua</a></li> </ul> </nav> </div> <div class=\"row\"><div class=\"col-lg-6\"> <h4>Minim</h4><p>Ex minim in quis nisi aliquip lorem adipiscing</p> <a class=\"btn btn-success\" href=\"#\" role=\"button\">Excepteur duis</a> </div> <div class=\"col-lg-6\"> <h4>Do</h4><p>Cupidatat amet dolor ex nulla duis aliquip occaecat</p> <a class=\"btn btn-danger\" href=\"#\" role=\"button\">Ea velit</a> </div> </div> <div class=\"row\"><div class=\"col-lg-12\"> <h4>Veniam</h4><p>Magna anim eiusmod elit nisi id ex et</p> <a class=\"btn btn-danger\" href=\"#\" role=\"button\">Do tempor</a> </div> </div> <div class=\"row\"><div class=\"col-lg-3\"> <h4>Et</h4><p>Dolor sint fugiat excepteur cupidatat in mollit aliquip</p> <a class=\"btn btn-success\" href=\"#\" role=\"button\">Reprehenderit culpa</a> </div> <div class=\"col-lg-3\"> <h4>Ex</h4><p>Consectetur sit ut reprehenderit laboris</p> <a class=\"btn btn-danger\" href=\"#\" role=\"button\">Sit ad</a> </div> <div class=\"col-lg-3\"> <h4>Culpa</h4><p>Voluptate nostrud eu dolore occaecat tempor</p> <a class=\"btn btn-success\" href=\"#\" role=\"button\">Do magna</a> </div> <div class=\"col-lg-3\"> <h4>Id</h4><p>Ut lorem eu velit aliqua excepteur</p> <a class=\"btn btn-success\" href=\"#\" role=\"button\">Nulla aliqua</a> </div> </div> </main> </body> </html> \n",
            "    Answer: <html> <body> <main class=\"container\"> <div class=\"header clearfix\"> <nav> <ul class=\"nav nav-pills pull-left\"> <li class=\"active\"><a href=\"#\">Fugiat do</a></li> <li><a href=\"#\">Cupidatat voluptate</a></li> <li><a href=\"#\">Aliqua commodo</a></li> </ul> </nav> </div> <div class=\"row\"><div class=\"col-lg-6\"> <h4>Minim</h4><p>Ex minim in quis nisi aliquip lorem adipiscing</p> <a class=\"btn btn-success\" href=\"#\" role=\"button\">Excepteur duis</a> </div> <div class=\"col-lg-6\"> <h4>Do</h4><p>Cupidatat amet dolor ex nulla duis aliquip occaecat</p> <a class=\"btn btn-danger\" href=\"#\" role=\"button\">Ea velit</a> </div> </div> <div class=\"row\"><div class=\"col-lg-12\"> <h4>Veniam</h4><p>Magna anim eiusmod elit nisi id ex et</p> <a class=\"btn btn-danger\" href=\"#\" role=\"button\">Do tempor</a> </div> </div> <div class=\"row\"><div class=\"col-lg-3\"> <h4>Et</h4><p>Dolor sint fugiat excepteur cupidatat in mollit aliquip</p> <a class=\"btn btn-success\" href=\"#\" role=\"button\">Reprehenderit culpa</a> </div> <div class=\"col-lg-3\"> <h4>Ex</h4><p>Consectetur sit ut reprehenderit laboris</p> <a class=\"btn btn-danger\" href=\"#\" role=\"button\">Sit ad</a> </div> <div class=\"col-lg-3\"> <h4>Culpa</h4><p>Voluptate nostrud eu dolore occaecat tempor</p> <a class=\"btn btn-success\" href=\"#\" role=\"button\">Do magna</a> </div> <div class=\"col-lg-3\"> <h4>Id</h4><p>Ut lorem eu velit aliqua excepteur</p> <a class=\"btn btn-success\" href=\"#\" role=\"button\">Nulla aliqua</a> </div> </div> </main> </body> </html> \n",
            "      Bleu: 0.97\n",
            "\n",
            "Prediction: <html> <body> <main class=\"container\"> <div class=\"header clearfix\"> <nav> <ul class=\"nav nav-pills pull-left\"> <li><a href=\"#\">Amet commodo</a></li> <li class=\"active\"><a href=\"#\">Commodo adipiscing</a></li> <li><a href=\"#\">Amet commodo</a></li> <li><a href=\"#\">Amet commodo</a></li> <li><a href=\"#\">Amet commodo</a></li> </ul> </nav> </div> <div class=\"row\"><div class=\"col-lg-12\"> <h4>Voluptate</h4><p>Occaecat id commodo ea laborum aliquip sint esse</p> <a class=\"btn btn-danger\" href=\"#\" role=\"button\">Consectetur quis</a> </div> </div> <div class=\"row\"><div class=\"col-lg-3\"> <h4>Amet</h4><p>Lorem duis do fugiat ullamco deserunt qui nisi</p> <a class=\"btn btn-danger\" href=\"#\" role=\"button\">Mollit est</a> </div> <div class=\"col-lg-3\"> <h4>Labore</h4><p>Consectetur proident adipiscing pariatur tempor sunt occaecat excepteur</p> <a class=\"btn btn-success\" href=\"#\" role=\"button\">Exercitation fugiat</a> </div> <div class=\"col-lg-3\"> <h4>Ut</h4><p>Voluptate qui officia quis anim aliqua sunt consequat</p> <a class=\"btn btn-warning\" href=\"#\" role=\"button\">In aute</a> </div> <div class=\"col-lg-3\"> <h4>Nostrud</h4><p>Aute in aliquip ullamco</p> <a class=\"btn btn-warning\" href=\"#\" role=\"button\">Ex eu</a> </div> </div> <div class=\"row\"><div class=\"col-lg-6\"> <h4>Est</h4><p>Dolore ex cupidatat consequat anim qui aute do</p> <a class=\"btn btn-warning\" href=\"#\" role=\"button\">Aliqua id</a> </div> <div class=\"col-lg-6\"> <h4>Proident</h4><p>Eu dolore eiusmod fugiat mollit aliqua reprehenderit consequat</p> <a class=\"btn btn-warning\" href=\"#\" role=\"button\">Dolor eiusmod</a> </div> </div> </main> </body> </html> \n",
            "    Answer: <html> <body> <main class=\"container\"> <div class=\"header clearfix\"> <nav> <ul class=\"nav nav-pills pull-left\"> <li><a href=\"#\">Ad voluptate</a></li> <li class=\"active\"><a href=\"#\">Commodo adipiscing</a></li> <li><a href=\"#\">Dolore duis</a></li> <li><a href=\"#\">Ea laborum</a></li> <li><a href=\"#\">Et incididunt</a></li> </ul> </nav> </div> <div class=\"row\"><div class=\"col-lg-12\"> <h4>Voluptate</h4><p>Occaecat id commodo ea laborum aliquip sint esse</p> <a class=\"btn btn-danger\" href=\"#\" role=\"button\">Consectetur quis</a> </div> </div> <div class=\"row\"><div class=\"col-lg-3\"> <h4>Amet</h4><p>Lorem duis do fugiat ullamco deserunt qui nisi</p> <a class=\"btn btn-danger\" href=\"#\" role=\"button\">Mollit est</a> </div> <div class=\"col-lg-3\"> <h4>Labore</h4><p>Consectetur proident adipiscing pariatur tempor sunt occaecat excepteur</p> <a class=\"btn btn-success\" href=\"#\" role=\"button\">Exercitation fugiat</a> </div> <div class=\"col-lg-3\"> <h4>Ut</h4><p>Voluptate qui officia quis anim aliqua sunt consequat</p> <a class=\"btn btn-warning\" href=\"#\" role=\"button\">In aute</a> </div> <div class=\"col-lg-3\"> <h4>Nostrud</h4><p>Aute in aliquip ullamco</p> <a class=\"btn btn-warning\" href=\"#\" role=\"button\">Ex eu</a> </div> </div> <div class=\"row\"><div class=\"col-lg-6\"> <h4>Est</h4><p>Dolore ex cupidatat consequat anim qui aute do</p> <a class=\"btn btn-warning\" href=\"#\" role=\"button\">Aliqua id</a> </div> <div class=\"col-lg-6\"> <h4>Proident</h4><p>Eu dolore eiusmod fugiat mollit aliqua reprehenderit consequat</p> <a class=\"btn btn-warning\" href=\"#\" role=\"button\">Dolor eiusmod</a> </div> </div> </main> </body> </html> \n",
            "      Bleu: 0.97\n",
            "\n",
            "Prediction: <html> <body> <main class=\"container\"> <div class=\"header clearfix\"> <nav> <ul class=\"nav nav-pills pull-left\"> <li><a href=\"#\">Adipiscing exercitation</a></li> <li><a href=\"#\">Adipiscing exercitation</a></li> <li><a href=\"#\">Adipiscing exercitation</a></li> <li class=\"active\"><a href=\"#\">Minim cillum</a></li> </ul> </nav> </div> <div class=\"row\"><div class=\"col-lg-3\"> <h4>Laborum</h4><p>Irure eiusmod exercitation voluptate amet minim nulla labore</p> <a class=\"btn btn-danger\" href=\"#\" role=\"button\">Dolore qui</a> </div> <div class=\"col-lg-3\"> <h4>Ex</h4><p>Commodo officia nostrud in quis anim occaecat</p> <a class=\"btn btn-success\" href=\"#\" role=\"button\">Nisi ut</a> </div> <div class=\"col-lg-3\"> <h4>Labore</h4><p>Commodo dolore tempor minim magna fugiat deserunt ipsum</p> <a class=\"btn btn-danger\" href=\"#\" role=\"button\">Ullamco enim</a> </div> <div class=\"col-lg-3\"> <h4>Do</h4><p>Qui nostrud incididunt sint esse amet consectetur</p> <a class=\"btn btn-warning\" href=\"#\" role=\"button\">Adipiscing eu</a> </div> </div> <div class=\"row\"><div class=\"col-lg-6\"> <h4>Duis</h4><p>Enim cillum lorem cupidatat laborum et sunt nisi</p> <a class=\"btn btn-warning\" href=\"#\" role=\"button\">Ipsum do</a> </div> <div class=\"col-lg-6\"> <h4>Deserunt</h4><p>Tempor occaecat officia aliquip eu adipiscing culpa ut</p> <a class=\"btn btn-success\" href=\"#\" role=\"button\">Magna cupidatat</a> </div> </div> <div class=\"row\"><div class=\"col-lg-12\"> <h4>Labore</h4><p>Excepteur ullamco ea consectetur sed duis qui et</p> <a class=\"btn btn-success\" href=\"#\" role=\"button\">In labore</a> </div> </div> </main> </body> </html> \n",
            "    Answer: <html> <body> <main class=\"container\"> <div class=\"header clearfix\"> <nav> <ul class=\"nav nav-pills pull-left\"> <li><a href=\"#\">In aliqua</a></li> <li><a href=\"#\">Reprehenderit proident</a></li> <li><a href=\"#\">Laboris irure</a></li> <li class=\"active\"><a href=\"#\">Minim cillum</a></li> </ul> </nav> </div> <div class=\"row\"><div class=\"col-lg-3\"> <h4>Laborum</h4><p>Irure eiusmod exercitation voluptate amet minim nulla labore</p> <a class=\"btn btn-danger\" href=\"#\" role=\"button\">Dolore qui</a> </div> <div class=\"col-lg-3\"> <h4>Ex</h4><p>Commodo officia nostrud in quis anim occaecat</p> <a class=\"btn btn-success\" href=\"#\" role=\"button\">Nisi ut</a> </div> <div class=\"col-lg-3\"> <h4>Labore</h4><p>Commodo dolore tempor minim magna fugiat deserunt ipsum</p> <a class=\"btn btn-danger\" href=\"#\" role=\"button\">Ullamco enim</a> </div> <div class=\"col-lg-3\"> <h4>Do</h4><p>Qui nostrud incididunt sint esse amet consectetur</p> <a class=\"btn btn-warning\" href=\"#\" role=\"button\">Adipiscing eu</a> </div> </div> <div class=\"row\"><div class=\"col-lg-6\"> <h4>Duis</h4><p>Enim cillum lorem cupidatat laborum et sunt nisi</p> <a class=\"btn btn-warning\" href=\"#\" role=\"button\">Ipsum do</a> </div> <div class=\"col-lg-6\"> <h4>Deserunt</h4><p>Tempor occaecat officia aliquip eu adipiscing culpa ut</p> <a class=\"btn btn-success\" href=\"#\" role=\"button\">Magna cupidatat</a> </div> </div> <div class=\"row\"><div class=\"col-lg-12\"> <h4>Labore</h4><p>Excepteur ullamco ea consectetur sed duis qui et</p> <a class=\"btn btn-success\" href=\"#\" role=\"button\">In labore</a> </div> </div> </main> </body> </html> \n",
            "      Bleu: 0.96\n",
            "\n",
            "Prediction: <html> <body> <main class=\"container\"> <div class=\"header clearfix\"> <nav> <ul class=\"nav nav-pills pull-left\"> <li><a href=\"#\">Adipiscing labore</a></li> <li><a href=\"#\">Adipiscing labore</a></li> <li><a href=\"#\">Adipiscing labore</a></li> <li class=\"active\"><a href=\"#\">Voluptate do</a></li> </ul> </nav> </div> <div class=\"row\"><div class=\"col-lg-6\"> <h4>Lorem</h4><p>Aliquip ipsum ea culpa ut esse fugiat est</p> <a class=\"btn btn-success\" href=\"#\" role=\"button\">Fugiat qui</a> </div> <div class=\"col-lg-6\"> <h4>Ad</h4><p>Adipiscing consequat pariatur reprehenderit fugiat ad cillum</p> <a class=\"btn btn-success\" href=\"#\" role=\"button\">Nulla qui</a> </div> </div> <div class=\"row\"><div class=\"col-lg-3\"> <h4>Ex</h4><p>Minim laboris exercitation consectetur dolore fugiat ea</p> <a class=\"btn btn-danger\" href=\"#\" role=\"button\">Occaecat magna</a> </div> <div class=\"col-lg-3\"> <h4>Proident</h4><p>Dolor id aliquip esse exercitation et ullamco sunt</p> <a class=\"btn btn-danger\" href=\"#\" role=\"button\">Ut nulla</a> </div> <div class=\"col-lg-3\"> <h4>Laborum</h4><p>Nisi amet dolore esse et commodo voluptate nulla</p> <a class=\"btn btn-warning\" href=\"#\" role=\"button\">Ullamco culpa</a> </div> <div class=\"col-lg-3\"> <h4>Commodo</h4><p>Qui quis labore proident irure eu lorem ad</p> <a class=\"btn btn-danger\" href=\"#\" role=\"button\">Dolore sit</a> </div> </div> <div class=\"row\"><div class=\"col-lg-12\"> <h4>Qui</h4><p>Culpa voluptate velit in cupidatat consectetur veniam ea</p> <a class=\"btn btn-warning\" href=\"#\" role=\"button\">Aute eu</a> </div> </div> </main> </body> </html> \n",
            "    Answer: <html> <body> <main class=\"container\"> <div class=\"header clearfix\"> <nav> <ul class=\"nav nav-pills pull-left\"> <li><a href=\"#\">Aute irure</a></li> <li><a href=\"#\">Do sint</a></li> <li><a href=\"#\">Amet non</a></li> <li><a href=\"#\">Magna labore</a></li> <li class=\"active\"><a href=\"#\">Voluptate do</a></li> </ul> </nav> </div> <div class=\"row\"><div class=\"col-lg-6\"> <h4>Lorem</h4><p>Aliquip ipsum ea culpa ut esse fugiat est</p> <a class=\"btn btn-success\" href=\"#\" role=\"button\">Fugiat qui</a> </div> <div class=\"col-lg-6\"> <h4>Ad</h4><p>Adipiscing consequat pariatur reprehenderit fugiat ad cillum</p> <a class=\"btn btn-success\" href=\"#\" role=\"button\">Nulla qui</a> </div> </div> <div class=\"row\"><div class=\"col-lg-3\"> <h4>Ex</h4><p>Minim laboris exercitation consectetur dolore fugiat ea</p> <a class=\"btn btn-danger\" href=\"#\" role=\"button\">Occaecat magna</a> </div> <div class=\"col-lg-3\"> <h4>Proident</h4><p>Dolor id aliquip esse exercitation et ullamco sunt</p> <a class=\"btn btn-danger\" href=\"#\" role=\"button\">Ut nulla</a> </div> <div class=\"col-lg-3\"> <h4>Laborum</h4><p>Nisi amet dolore esse et commodo voluptate nulla</p> <a class=\"btn btn-warning\" href=\"#\" role=\"button\">Ullamco culpa</a> </div> <div class=\"col-lg-3\"> <h4>Commodo</h4><p>Qui quis labore proident irure eu lorem ad</p> <a class=\"btn btn-danger\" href=\"#\" role=\"button\">Dolore sit</a> </div> </div> <div class=\"row\"><div class=\"col-lg-12\"> <h4>Qui</h4><p>Culpa voluptate velit in cupidatat consectetur veniam ea</p> <a class=\"btn btn-warning\" href=\"#\" role=\"button\">Aute eu</a> </div> </div> </main> </body> </html> \n",
            "      Bleu: 0.97\n",
            "\n",
            "Prediction: <html> <body> <main class=\"container\"> <div class=\"header clearfix\"> <nav> <ul class=\"nav nav-pills pull-left\"> <li class=\"active\"><a href=\"#\">Anim do</a></li> <li><a href=\"#\">Esse anim</a></li> <li><a href=\"#\">Esse anim</a></li> <li><a href=\"#\">Esse anim</a></li> </ul> </nav> </div> <div class=\"row\"><div class=\"col-lg-6\"> <h4>Pariatur</h4><p>Tempor consequat aute sit minim irure sunt anim</p> <a class=\"btn btn-danger\" href=\"#\" role=\"button\">Esse enim</a> </div> <div class=\"col-lg-6\"> <h4>Labore</h4><p>Dolor laborum sunt anim et ad exercitation</p> <a class=\"btn btn-success\" href=\"#\" role=\"button\">Voluptate pariatur</a> </div> </div> <div class=\"row\"><div class=\"col-lg-3\"> <h4>Lorem</h4><p>Ipsum reprehenderit quis voluptate sed aliquip nulla veniam</p> <a class=\"btn btn-warning\" href=\"#\" role=\"button\">Ea magna</a> </div> <div class=\"col-lg-3\"> <h4>Ea</h4><p>Fugiat nostrud eiusmod sint ex nisi veniam</p> <a class=\"btn btn-warning\" href=\"#\" role=\"button\">Cupidatat pariatur</a> </div> <div class=\"col-lg-3\"> <h4>Nisi</h4><p>Est consequat amet quis aliqua adipiscing dolor veniam</p> <a class=\"btn btn-danger\" href=\"#\" role=\"button\">Exercitation anim</a> </div> <div class=\"col-lg-3\"> <h4>Deserunt</h4><p>Enim aliquip ut aliqua eu velit</p> <a class=\"btn btn-danger\" href=\"#\" role=\"button\">Consectetur reprehenderit</a> </div> </div> <div class=\"row\"><div class=\"col-lg-12\"> <h4>Anim</h4><p>Ad est tempor nisi aliqua qui dolore ullamco</p> <a class=\"btn btn-warning\" href=\"#\" role=\"button\">Qui enim</a> </div> </div> </main> </body> </html> \n",
            "    Answer: <html> <body> <main class=\"container\"> <div class=\"header clearfix\"> <nav> <ul class=\"nav nav-pills pull-left\"> <li class=\"active\"><a href=\"#\">Anim do</a></li> <li><a href=\"#\">Laboris labore</a></li> <li><a href=\"#\">Nulla officia</a></li> <li><a href=\"#\">Ipsum sunt</a></li> </ul> </nav> </div> <div class=\"row\"><div class=\"col-lg-6\"> <h4>Pariatur</h4><p>Tempor consequat aute sit minim irure sunt anim</p> <a class=\"btn btn-danger\" href=\"#\" role=\"button\">Esse enim</a> </div> <div class=\"col-lg-6\"> <h4>Labore</h4><p>Dolor laborum sunt anim et ad exercitation</p> <a class=\"btn btn-success\" href=\"#\" role=\"button\">Voluptate pariatur</a> </div> </div> <div class=\"row\"><div class=\"col-lg-3\"> <h4>Lorem</h4><p>Ipsum reprehenderit quis voluptate sed aliquip nulla veniam</p> <a class=\"btn btn-warning\" href=\"#\" role=\"button\">Ea magna</a> </div> <div class=\"col-lg-3\"> <h4>Ea</h4><p>Fugiat nostrud eiusmod sint ex nisi veniam</p> <a class=\"btn btn-warning\" href=\"#\" role=\"button\">Cupidatat pariatur</a> </div> <div class=\"col-lg-3\"> <h4>Nisi</h4><p>Est consequat amet quis aliqua adipiscing dolor veniam</p> <a class=\"btn btn-danger\" href=\"#\" role=\"button\">Exercitation anim</a> </div> <div class=\"col-lg-3\"> <h4>Deserunt</h4><p>Enim aliquip ut aliqua eu velit</p> <a class=\"btn btn-danger\" href=\"#\" role=\"button\">Consectetur reprehenderit</a> </div> </div> <div class=\"row\"><div class=\"col-lg-12\"> <h4>Anim</h4><p>Ad est tempor nisi aliqua qui dolore ullamco</p> <a class=\"btn btn-warning\" href=\"#\" role=\"button\">Qui enim</a> </div> </div> </main> </body> </html> \n",
            "      Bleu: 0.98\n",
            "\n",
            "Prediction: <html> <body> <main class=\"container\"> <div class=\"header clearfix\"> <nav> <ul class=\"nav nav-pills pull-left\"> <li><a href=\"#\">Amet anim</a></li> <li><a href=\"#\">Amet anim</a></li> <li><a href=\"#\">Amet anim</a></li> <li class=\"active\"><a href=\"#\">Magna velit</a></li> <li><a href=\"#\">Amet anim</a></li> </ul> </nav> </div> <div class=\"row\"><div class=\"col-lg-3\"> <h4>Elit</h4><p>Sint deserunt tempor ex laborum</p> <a class=\"btn btn-success\" href=\"#\" role=\"button\">Dolore magna</a> </div> <div class=\"col-lg-3\"> <h4>In</h4><p>Fugiat elit sit duis dolore sint cillum eu</p> <a class=\"btn btn-warning\" href=\"#\" role=\"button\">Id occaecat</a> </div> <div class=\"col-lg-3\"> <h4>Mollit</h4><p>Amet occaecat officia qui elit et laborum nisi</p> <a class=\"btn btn-success\" href=\"#\" role=\"button\">Nisi nostrud</a> </div> <div class=\"col-lg-3\"> <h4>Et</h4><p>Consectetur occaecat aliqua magna ea dolore lorem irure</p> <a class=\"btn btn-success\" href=\"#\" role=\"button\">Magna anim</a> </div> </div> <div class=\"row\"><div class=\"col-lg-6\"> <h4>Do</h4><p>Quis nulla dolor excepteur sint ut laborum cupidatat</p> <a class=\"btn btn-danger\" href=\"#\" role=\"button\">Sit excepteur</a> </div> <div class=\"col-lg-6\"> <h4>Deserunt</h4><p>Ullamco consectetur nulla adipiscing occaecat non enim tempor</p> <a class=\"btn btn-warning\" href=\"#\" role=\"button\">Proident ipsum</a> </div> </div> </main> </body> </html> \n",
            "    Answer: <html> <body> <main class=\"container\"> <div class=\"header clearfix\"> <nav> <ul class=\"nav nav-pills pull-left\"> <li><a href=\"#\">Magna aliquip</a></li> <li><a href=\"#\">Enim voluptate</a></li> <li><a href=\"#\">Veniam aute</a></li> <li class=\"active\"><a href=\"#\">Magna velit</a></li> <li><a href=\"#\">Lorem incididunt</a></li> </ul> </nav> </div> <div class=\"row\"><div class=\"col-lg-3\"> <h4>Elit</h4><p>Sint deserunt tempor ex laborum</p> <a class=\"btn btn-success\" href=\"#\" role=\"button\">Dolore magna</a> </div> <div class=\"col-lg-3\"> <h4>In</h4><p>Fugiat elit sit duis dolore sint cillum eu</p> <a class=\"btn btn-warning\" href=\"#\" role=\"button\">Id occaecat</a> </div> <div class=\"col-lg-3\"> <h4>Mollit</h4><p>Amet occaecat officia qui elit et laborum nisi</p> <a class=\"btn btn-success\" href=\"#\" role=\"button\">Nisi nostrud</a> </div> <div class=\"col-lg-3\"> <h4>Et</h4><p>Consectetur occaecat aliqua magna ea dolore lorem irure</p> <a class=\"btn btn-success\" href=\"#\" role=\"button\">Magna anim</a> </div> </div> <div class=\"row\"><div class=\"col-lg-6\"> <h4>Do</h4><p>Quis nulla dolor excepteur sint ut laborum cupidatat</p> <a class=\"btn btn-danger\" href=\"#\" role=\"button\">Sit excepteur</a> </div> <div class=\"col-lg-6\"> <h4>Deserunt</h4><p>Ullamco consectetur nulla adipiscing occaecat non enim tempor</p> <a class=\"btn btn-warning\" href=\"#\" role=\"button\">Proident ipsum</a> </div> </div> </main> </body> </html> \n",
            "      Bleu: 0.96\n"
          ]
        },
        {
          "output_type": "stream",
          "name": "stderr",
          "text": [
            "Epoch 9/14 - valid loop: 100%|██████████| 2/2 [01:49<00:00, 54.58s/it, bleu_score=0.975]\n"
          ]
        },
        {
          "output_type": "stream",
          "name": "stdout",
          "text": [
            "\n",
            "Prediction: <html> <body> <main class=\"container\"> <div class=\"header clearfix\"> <nav> <ul class=\"nav nav-pills pull-left\"> <li><a href=\"#\">Ea quis</a></li> <li class=\"active\"><a href=\"#\">Pariatur velit</a></li> </ul> </nav> </div> <div class=\"row\"><div class=\"col-lg-3\"> <h4>Magna</h4><p>Nulla occaecat cillum non</p> <a class=\"btn btn-success\" href=\"#\" role=\"button\">Ex eu</a> </div> <div class=\"col-lg-3\"> <h4>Esse</h4><p>Amet aliquip duis ad eu lorem sunt</p> <a class=\"btn btn-warning\" href=\"#\" role=\"button\">Id reprehenderit</a> </div> <div class=\"col-lg-3\"> <h4>Et</h4><p>Amet sed occaecat eiusmod excepteur id nulla voluptate</p> <a class=\"btn btn-danger\" href=\"#\" role=\"button\">Sint eu</a> </div> <div class=\"col-lg-3\"> <h4>Esse</h4><p>Dolor est magna enim ullamco exercitation officia voluptate</p> <a class=\"btn btn-success\" href=\"#\" role=\"button\">Ea quis</a> </div> </div> <div class=\"row\"><div class=\"col-lg-12\"> <h4>Mollit</h4><p>Nostrud mollit commodo veniam voluptate occaecat elit duis</p> <a class=\"btn btn-warning\" href=\"#\" role=\"button\">Nostrud magna</a> </div> </div> <div class=\"row\"><div class=\"col-lg-6\"> <h4>Ea</h4><p>Excepteur nostrud anim tempor duis cupidatat</p> <a class=\"btn btn-warning\" href=\"#\" role=\"button\">Cillum esse</a> </div> <div class=\"col-lg-6\"> <h4>Deserunt</h4><p>In ut do ullamco</p> <a class=\"btn btn-danger\" href=\"#\" role=\"button\">Tempor exercitation</a> </div> </div> </main> </body> </html> \n",
            "    Answer: <html> <body> <main class=\"container\"> <div class=\"header clearfix\"> <nav> <ul class=\"nav nav-pills pull-left\"> <li><a href=\"#\">Velit et</a></li> <li class=\"active\"><a href=\"#\">Pariatur velit</a></li> </ul> </nav> </div> <div class=\"row\"><div class=\"col-lg-3\"> <h4>Magna</h4><p>Nulla occaecat cillum non</p> <a class=\"btn btn-success\" href=\"#\" role=\"button\">Ex eu</a> </div> <div class=\"col-lg-3\"> <h4>Esse</h4><p>Amet aliquip duis ad eu lorem sunt</p> <a class=\"btn btn-warning\" href=\"#\" role=\"button\">Id reprehenderit</a> </div> <div class=\"col-lg-3\"> <h4>Et</h4><p>Amet sed occaecat eiusmod excepteur id nulla voluptate</p> <a class=\"btn btn-danger\" href=\"#\" role=\"button\">Sint eu</a> </div> <div class=\"col-lg-3\"> <h4>Esse</h4><p>Dolor est magna enim ullamco exercitation officia voluptate</p> <a class=\"btn btn-success\" href=\"#\" role=\"button\">Ea quis</a> </div> </div> <div class=\"row\"><div class=\"col-lg-12\"> <h4>Mollit</h4><p>Nostrud mollit commodo veniam voluptate occaecat elit duis</p> <a class=\"btn btn-warning\" href=\"#\" role=\"button\">Nostrud magna</a> </div> </div> <div class=\"row\"><div class=\"col-lg-6\"> <h4>Ea</h4><p>Excepteur nostrud anim tempor duis cupidatat</p> <a class=\"btn btn-warning\" href=\"#\" role=\"button\">Cillum esse</a> </div> <div class=\"col-lg-6\"> <h4>Deserunt</h4><p>In ut do ullamco</p> <a class=\"btn btn-danger\" href=\"#\" role=\"button\">Tempor exercitation</a> </div> </div> </main> </body> </html> \n",
            "      Bleu: 0.99\n",
            "\n",
            "Prediction: <html> <body> <main class=\"container\"> <div class=\"header clearfix\"> <nav> <ul class=\"nav nav-pills pull-left\"> <li><a href=\"#\">Amet commodo</a></li> <li class=\"active\"><a href=\"#\">Reprehenderit do</a></li> </ul> </nav> </div> <div class=\"row\"><div class=\"col-lg-6\"> <h4>Excepteur</h4><p>Consectetur elit deserunt ullamco labore lorem dolor esse</p> <a class=\"btn btn-success\" href=\"#\" role=\"button\">Consequat commodo</a> </div> <div class=\"col-lg-6\"> <h4>Occaecat</h4><p>Pariatur excepteur do et dolore id laborum sint</p> <a class=\"btn btn-warning\" href=\"#\" role=\"button\">Est ex</a> </div> </div> <div class=\"row\"><div class=\"col-lg-12\"> <h4>Irure</h4><p>Consequat in sunt qui dolor reprehenderit proident laboris</p> <a class=\"btn btn-success\" href=\"#\" role=\"button\">Irure dolore</a> </div> </div> <div class=\"row\"><div class=\"col-lg-3\"> <h4>Amet</h4><p>Lorem ut ullamco exercitation fugiat amet</p> <a class=\"btn btn-success\" href=\"#\" role=\"button\">Magna dolore</a> </div> <div class=\"col-lg-3\"> <h4>Dolore</h4><p>Aliquip consectetur ex sint cupidatat pariatur amet elit</p> <a class=\"btn btn-danger\" href=\"#\" role=\"button\">Adipiscing sunt</a> </div> <div class=\"col-lg-3\"> <h4>Do</h4><p>Qui proident officia mollit magna cupidatat esse duis</p> <a class=\"btn btn-warning\" href=\"#\" role=\"button\">Pariatur dolore</a> </div> <div class=\"col-lg-3\"> <h4>Veniam</h4><p>Eu sed pariatur</p> <a class=\"btn btn-success\" href=\"#\" role=\"button\">Sunt cupidatat</a> </div> </div> </main> </body> </html> \n",
            "    Answer: <html> <body> <main class=\"container\"> <div class=\"header clearfix\"> <nav> <ul class=\"nav nav-pills pull-left\"> <li><a href=\"#\">Ad adipiscing</a></li> <li class=\"active\"><a href=\"#\">Reprehenderit do</a></li> </ul> </nav> </div> <div class=\"row\"><div class=\"col-lg-6\"> <h4>Excepteur</h4><p>Consectetur elit deserunt ullamco labore lorem dolor esse</p> <a class=\"btn btn-success\" href=\"#\" role=\"button\">Consequat commodo</a> </div> <div class=\"col-lg-6\"> <h4>Occaecat</h4><p>Pariatur excepteur do et dolore id laborum sint</p> <a class=\"btn btn-warning\" href=\"#\" role=\"button\">Est ex</a> </div> </div> <div class=\"row\"><div class=\"col-lg-12\"> <h4>Irure</h4><p>Consequat in sunt qui dolor reprehenderit proident laboris</p> <a class=\"btn btn-success\" href=\"#\" role=\"button\">Irure dolore</a> </div> </div> <div class=\"row\"><div class=\"col-lg-3\"> <h4>Amet</h4><p>Lorem ut ullamco exercitation fugiat amet</p> <a class=\"btn btn-success\" href=\"#\" role=\"button\">Magna dolore</a> </div> <div class=\"col-lg-3\"> <h4>Dolore</h4><p>Aliquip consectetur ex sint cupidatat pariatur amet elit</p> <a class=\"btn btn-danger\" href=\"#\" role=\"button\">Adipiscing sunt</a> </div> <div class=\"col-lg-3\"> <h4>Do</h4><p>Qui proident officia mollit magna cupidatat esse duis</p> <a class=\"btn btn-warning\" href=\"#\" role=\"button\">Pariatur dolore</a> </div> <div class=\"col-lg-3\"> <h4>Veniam</h4><p>Eu sed pariatur</p> <a class=\"btn btn-success\" href=\"#\" role=\"button\">Sunt cupidatat</a> </div> </div> </main> </body> </html> \n",
            "      Bleu: 0.97\n",
            "\n",
            "Prediction: <html> <body> <main class=\"container\"> <div class=\"header clearfix\"> <nav> <ul class=\"nav nav-pills pull-left\"> <li><a href=\"#\">Amet anim</a></li> <li class=\"active\"><a href=\"#\">Non duis</a></li> </ul> </nav> </div> <div class=\"row\"><div class=\"col-lg-3\"> <h4>Incididunt</h4><p>Enim magna non laborum fugiat qui tempor id</p> <a class=\"btn btn-warning\" href=\"#\" role=\"button\">Nisi duis</a> </div> <div class=\"col-lg-3\"> <h4>Qui</h4><p>Labore officia eu proident excepteur adipiscing nulla id</p> <a class=\"btn btn-warning\" href=\"#\" role=\"button\">Fugiat quis</a> </div> <div class=\"col-lg-3\"> <h4>Duis</h4><p>Ullamco sit ipsum duis cillum minim laborum officia</p> <a class=\"btn btn-success\" href=\"#\" role=\"button\">Officia magna</a> </div> <div class=\"col-lg-3\"> <h4>Qui</h4><p>Aliquip elit ut et sed ipsum laboris aute</p> <a class=\"btn btn-warning\" href=\"#\" role=\"button\">Reprehenderit cupidatat</a> </div> </div> <div class=\"row\"><div class=\"col-lg-12\"> <h4>Ut</h4><p>Non culpa adipiscing reprehenderit nostrud anim</p> <a class=\"btn btn-warning\" href=\"#\" role=\"button\">Duis nulla</a> </div> </div> <div class=\"row\"><div class=\"col-lg-6\"> <h4>Fugiat</h4><p>Ipsum adipiscing sunt labore est aliqua consectetur do</p> <a class=\"btn btn-warning\" href=\"#\" role=\"button\">Elit officia</a> </div> <div class=\"col-lg-6\"> <h4>Tempor</h4><p>Deserunt ut minim aliquip irure aliqua nisi dolore</p> <a class=\"btn btn-warning\" href=\"#\" role=\"button\">Aute amet</a> </div> </div> </main> </body> </html> \n",
            "    Answer: <html> <body> <main class=\"container\"> <div class=\"header clearfix\"> <nav> <ul class=\"nav nav-pills pull-left\"> <li><a href=\"#\">Et irure</a></li> <li class=\"active\"><a href=\"#\">Non duis</a></li> </ul> </nav> </div> <div class=\"row\"><div class=\"col-lg-3\"> <h4>Incididunt</h4><p>Enim magna non laborum fugiat qui tempor id</p> <a class=\"btn btn-warning\" href=\"#\" role=\"button\">Nisi duis</a> </div> <div class=\"col-lg-3\"> <h4>Qui</h4><p>Labore officia eu proident excepteur adipiscing nulla id</p> <a class=\"btn btn-warning\" href=\"#\" role=\"button\">Fugiat quis</a> </div> <div class=\"col-lg-3\"> <h4>Duis</h4><p>Ullamco sit ipsum duis cillum minim laborum officia</p> <a class=\"btn btn-success\" href=\"#\" role=\"button\">Officia magna</a> </div> <div class=\"col-lg-3\"> <h4>Qui</h4><p>Aliquip elit ut et sed ipsum laboris aute</p> <a class=\"btn btn-warning\" href=\"#\" role=\"button\">Reprehenderit cupidatat</a> </div> </div> <div class=\"row\"><div class=\"col-lg-12\"> <h4>Ut</h4><p>Non culpa adipiscing reprehenderit nostrud anim</p> <a class=\"btn btn-warning\" href=\"#\" role=\"button\">Duis nulla</a> </div> </div> <div class=\"row\"><div class=\"col-lg-6\"> <h4>Fugiat</h4><p>Ipsum adipiscing sunt labore est aliqua consectetur do</p> <a class=\"btn btn-warning\" href=\"#\" role=\"button\">Elit officia</a> </div> <div class=\"col-lg-6\"> <h4>Tempor</h4><p>Deserunt ut minim aliquip irure aliqua nisi dolore</p> <a class=\"btn btn-warning\" href=\"#\" role=\"button\">Aute amet</a> </div> </div> </main> </body> </html> \n",
            "      Bleu: 0.97\n",
            "\n",
            "Prediction: <html> <body> <main class=\"container\"> <div class=\"header clearfix\"> <nav> <ul class=\"nav nav-pills pull-left\"> <li><a href=\"#\">Amet anim</a></li> <li><a href=\"#\">Amet anim</a></li> <li><a href=\"#\">Amet anim</a></li> <li class=\"active\"><a href=\"#\">Exercitation est</a></li> <li><a href=\"#\">Amet anim</a></li> </ul> </nav> </div> <div class=\"row\"><div class=\"col-lg-6\"> <h4>Excepteur</h4><p>Aute proident occaecat lorem incididunt</p> <a class=\"btn btn-danger\" href=\"#\" role=\"button\">Lorem eu</a> </div> <div class=\"col-lg-6\"> <h4>Quis</h4><p>Laboris in ipsum cillum dolor ea sint nostrud</p> <a class=\"btn btn-success\" href=\"#\" role=\"button\">Proident enim</a> </div> </div> <div class=\"row\"><div class=\"col-lg-12\"> <h4>Nisi</h4><p>In et officia consequat lorem eu non nulla</p> <a class=\"btn btn-warning\" href=\"#\" role=\"button\">Ad ut</a> </div> </div> <div class=\"row\"><div class=\"col-lg-3\"> <h4>Laborum</h4><p>Ut sunt occaecat ullamco dolor cupidatat amet est</p> <a class=\"btn btn-warning\" href=\"#\" role=\"button\">Cillum aute</a> </div> <div class=\"col-lg-3\"> <h4>Consequat</h4><p>Voluptate consequat enim aliquip officia aute excepteur pariatur</p> <a class=\"btn btn-success\" href=\"#\" role=\"button\">Labore qui</a> </div> <div class=\"col-lg-3\"> <h4>Qui</h4><p>Mollit sit non voluptate culpa qui sed reprehenderit</p> <a class=\"btn btn-success\" href=\"#\" role=\"button\">Dolore dolor</a> </div> <div class=\"col-lg-3\"> <h4>Fugiat</h4><p>Pariatur reprehenderit sunt ex consequat qui exercitation tempor</p> <a class=\"btn btn-warning\" href=\"#\" role=\"button\">In veniam</a> </div> </div> </main> </body> </html> \n",
            "    Answer: <html> <body> <main class=\"container\"> <div class=\"header clearfix\"> <nav> <ul class=\"nav nav-pills pull-left\"> <li><a href=\"#\">Excepteur culpa</a></li> <li><a href=\"#\">Adipiscing nulla</a></li> <li><a href=\"#\">Amet sed</a></li> <li class=\"active\"><a href=\"#\">Exercitation elit</a></li> <li><a href=\"#\">Tempor aliqua</a></li> </ul> </nav> </div> <div class=\"row\"><div class=\"col-lg-6\"> <h4>Excepteur</h4><p>Aute proident occaecat lorem incididunt</p> <a class=\"btn btn-danger\" href=\"#\" role=\"button\">Lorem eu</a> </div> <div class=\"col-lg-6\"> <h4>Quis</h4><p>Laboris in ipsum cillum dolor ea sint nostrud</p> <a class=\"btn btn-success\" href=\"#\" role=\"button\">Proident enim</a> </div> </div> <div class=\"row\"><div class=\"col-lg-12\"> <h4>Nisi</h4><p>In et officia consequat lorem eu non nulla</p> <a class=\"btn btn-warning\" href=\"#\" role=\"button\">Ad ut</a> </div> </div> <div class=\"row\"><div class=\"col-lg-3\"> <h4>Laborum</h4><p>Ut sunt occaecat ullamco dolor cupidatat amet est</p> <a class=\"btn btn-warning\" href=\"#\" role=\"button\">Cillum aute</a> </div> <div class=\"col-lg-3\"> <h4>Consequat</h4><p>Voluptate consequat enim aliquip officia aute excepteur pariatur</p> <a class=\"btn btn-success\" href=\"#\" role=\"button\">Labore qui</a> </div> <div class=\"col-lg-3\"> <h4>Qui</h4><p>Mollit sit non voluptate culpa qui sed reprehenderit</p> <a class=\"btn btn-success\" href=\"#\" role=\"button\">Dolore dolor</a> </div> <div class=\"col-lg-3\"> <h4>Fugiat</h4><p>Pariatur reprehenderit sunt ex consequat qui exercitation tempor</p> <a class=\"btn btn-warning\" href=\"#\" role=\"button\">In veniam</a> </div> </div> </main> </body> </html> \n",
            "      Bleu: 0.99\n",
            "\n",
            "Prediction: <html> <body> <main class=\"container\"> <div class=\"header clearfix\"> <nav> <ul class=\"nav nav-pills pull-left\"> <li class=\"active\"><a href=\"#\">Cupidatat ipsum</a></li> <li><a href=\"#\">Et ullamco</a></li> <li><a href=\"#\">Et commodo</a></li> <li><a href=\"#\">Et commodo</a></li> <li><a href=\"#\">Et nostrud</a></li> </ul> </nav> </div> <div class=\"row\"><div class=\"col-lg-6\"> <h4>Sed</h4><p>Laborum aliqua mollit nisi</p> <a class=\"btn btn-warning\" href=\"#\" role=\"button\">Magna ipsum</a> </div> <div class=\"col-lg-6\"> <h4>Sit</h4><p>Quis sint mollit incididunt ullamco sed ipsum nulla</p> <a class=\"btn btn-danger\" href=\"#\" role=\"button\">Commodo aliquip</a> </div> </div> <div class=\"row\"><div class=\"col-lg-12\"> <h4>Voluptate</h4><p>Incididunt nulla eu sed eiusmod tempor est proident</p> <a class=\"btn btn-danger\" href=\"#\" role=\"button\">Do proident</a> </div> </div> <div class=\"row\"><div class=\"col-lg-3\"> <h4>Quis</h4><p>Enim nostrud sunt adipiscing irure duis sed tempor</p> <a class=\"btn btn-warning\" href=\"#\" role=\"button\">Ad voluptate</a> </div> <div class=\"col-lg-3\"> <h4>Veniam</h4><p>Aute dolore proident reprehenderit sed</p> <a class=\"btn btn-danger\" href=\"#\" role=\"button\">Excepteur veniam</a> </div> <div class=\"col-lg-3\"> <h4>Dolore</h4><p>Adipiscing ipsum elit sunt in duis cillum eiusmod</p> <a class=\"btn btn-danger\" href=\"#\" role=\"button\">Nisi consequat</a> </div> <div class=\"col-lg-3\"> <h4>Aliqua</h4><p>Elit cupidatat aliqua ullamco mollit excepteur laboris cillum</p> <a class=\"btn btn-success\" href=\"#\" role=\"button\">Enim lorem</a> </div> </div> </main> </body> </html> \n",
            "    Answer: <html> <body> <main class=\"container\"> <div class=\"header clearfix\"> <nav> <ul class=\"nav nav-pills pull-left\"> <li class=\"active\"><a href=\"#\">Cupidatat ipsum</a></li> <li><a href=\"#\">Amet adipiscing</a></li> <li><a href=\"#\">Pariatur enim</a></li> <li><a href=\"#\">Exercitation pariatur</a></li> </ul> </nav> </div> <div class=\"row\"><div class=\"col-lg-6\"> <h4>Sed</h4><p>Laborum aliqua mollit nisi</p> <a class=\"btn btn-warning\" href=\"#\" role=\"button\">Magna ipsum</a> </div> <div class=\"col-lg-6\"> <h4>Sit</h4><p>Quis sint mollit incididunt ullamco sed ipsum nulla</p> <a class=\"btn btn-danger\" href=\"#\" role=\"button\">Commodo aliquip</a> </div> </div> <div class=\"row\"><div class=\"col-lg-12\"> <h4>Voluptate</h4><p>Incididunt nulla eu sed eiusmod tempor est proident</p> <a class=\"btn btn-danger\" href=\"#\" role=\"button\">Do proident</a> </div> </div> <div class=\"row\"><div class=\"col-lg-3\"> <h4>Quis</h4><p>Enim nostrud sunt adipiscing irure duis sed tempor</p> <a class=\"btn btn-warning\" href=\"#\" role=\"button\">Ad voluptate</a> </div> <div class=\"col-lg-3\"> <h4>Veniam</h4><p>Aute dolore proident reprehenderit sed</p> <a class=\"btn btn-danger\" href=\"#\" role=\"button\">Excepteur veniam</a> </div> <div class=\"col-lg-3\"> <h4>Dolore</h4><p>Adipiscing ipsum elit sunt in duis cillum eiusmod</p> <a class=\"btn btn-danger\" href=\"#\" role=\"button\">Nisi consequat</a> </div> <div class=\"col-lg-3\"> <h4>Aliqua</h4><p>Elit cupidatat aliqua ullamco mollit excepteur laboris cillum</p> <a class=\"btn btn-success\" href=\"#\" role=\"button\">Enim lorem</a> </div> </div> </main> </body> </html> \n",
            "      Bleu: 0.97\n",
            "\n",
            "Prediction: <html> <body> <main class=\"container\"> <div class=\"header clearfix\"> <nav> <ul class=\"nav nav-pills pull-left\"> <li><a href=\"#\">Amet commodo</a></li> <li><a href=\"#\">Amet commodo</a></li> <li class=\"active\"><a href=\"#\">Consequat nulla</a></li> <li><a href=\"#\">Dolore commodo</a></li> <li><a href=\"#\">Sed ullamco</a></li> </ul> </nav> </div> <div class=\"row\"><div class=\"col-lg-6\"> <h4>Sed</h4><p>Labore aliquip commodo anim elit eu lorem qui</p> <a class=\"btn btn-danger\" href=\"#\" role=\"button\">Proident mollit</a> </div> <div class=\"col-lg-6\"> <h4>Laborum</h4><p>Amet excepteur aliquip minim lorem</p> <a class=\"btn btn-warning\" href=\"#\" role=\"button\">Adipiscing sed</a> </div> </div> <div class=\"row\"><div class=\"col-lg-12\"> <h4>Laborum</h4><p>Consequat nulla id laborum sed ipsum magna proident</p> <a class=\"btn btn-warning\" href=\"#\" role=\"button\">Consequat ad</a> </div> </div> <div class=\"row\"><div class=\"col-lg-3\"> <h4>Ea</h4><p>Ex officia adipiscing est</p> <a class=\"btn btn-success\" href=\"#\" role=\"button\">Sunt occaecat</a> </div> <div class=\"col-lg-3\"> <h4>Do</h4><p>Amet laborum culpa ad aliquip deserunt id sed</p> <a class=\"btn btn-warning\" href=\"#\" role=\"button\">Sed aliqua</a> </div> <div class=\"col-lg-3\"> <h4>Excepteur</h4><p>Sint magna</p> <a class=\"btn btn-success\" href=\"#\" role=\"button\">Do lorem</a> </div> <div class=\"col-lg-3\"> <h4>Aute</h4><p>Non ad consequat reprehenderit ut nulla</p> <a class=\"btn btn-danger\" href=\"#\" role=\"button\">Eu et</a> </div> </div> </main> </body> </html> \n",
            "    Answer: <html> <body> <main class=\"container\"> <div class=\"header clearfix\"> <nav> <ul class=\"nav nav-pills pull-left\"> <li><a href=\"#\">Cillum deserunt</a></li> <li><a href=\"#\">Culpa fugiat</a></li> <li class=\"active\"><a href=\"#\">Consequat nulla</a></li> <li><a href=\"#\">Quis ullamco</a></li> <li><a href=\"#\">Commodo non</a></li> </ul> </nav> </div> <div class=\"row\"><div class=\"col-lg-6\"> <h4>Sed</h4><p>Labore aliquip commodo anim elit eu lorem qui</p> <a class=\"btn btn-danger\" href=\"#\" role=\"button\">Proident mollit</a> </div> <div class=\"col-lg-6\"> <h4>Laborum</h4><p>Amet excepteur aliquip minim lorem</p> <a class=\"btn btn-warning\" href=\"#\" role=\"button\">Adipiscing sed</a> </div> </div> <div class=\"row\"><div class=\"col-lg-12\"> <h4>Laborum</h4><p>Consequat nulla id laborum sed ipsum magna proident</p> <a class=\"btn btn-warning\" href=\"#\" role=\"button\">Consequat ad</a> </div> </div> <div class=\"row\"><div class=\"col-lg-3\"> <h4>Ea</h4><p>Ex officia adipiscing est</p> <a class=\"btn btn-success\" href=\"#\" role=\"button\">Sunt occaecat</a> </div> <div class=\"col-lg-3\"> <h4>Do</h4><p>Amet laborum culpa ad aliquip deserunt id sed</p> <a class=\"btn btn-warning\" href=\"#\" role=\"button\">Sed aliqua</a> </div> <div class=\"col-lg-3\"> <h4>Excepteur</h4><p>Sint magna</p> <a class=\"btn btn-success\" href=\"#\" role=\"button\">Do lorem</a> </div> <div class=\"col-lg-3\"> <h4>Aute</h4><p>Non ad consequat reprehenderit ut nulla</p> <a class=\"btn btn-danger\" href=\"#\" role=\"button\">Eu et</a> </div> </div> </main> </body> </html> \n",
            "      Bleu: 0.97\n",
            "\n",
            "Prediction: <html> <body> <main class=\"container\"> <div class=\"header clearfix\"> <nav> <ul class=\"nav nav-pills pull-left\"> <li class=\"active\"><a href=\"#\">Incididunt ullamco</a></li> <li><a href=\"#\">Amet ullamco</a></li> <li><a href=\"#\">Amet ullamco</a></li> <li><a href=\"#\">Amet ullamco</a></li> </ul> </nav> </div> <div class=\"row\"><div class=\"col-lg-6\"> <h4>Anim</h4><p>Anim magna nulla amet</p> <a class=\"btn btn-danger\" href=\"#\" role=\"button\">Deserunt ipsum</a> </div> <div class=\"col-lg-6\"> <h4>Do</h4><p>Id mollit nisi ullamco minim anim ex adipiscing</p> <a class=\"btn btn-danger\" href=\"#\" role=\"button\">Aute eiusmod</a> </div> </div> <div class=\"row\"><div class=\"col-lg-3\"> <h4>Tempor</h4><p>Officia eu lorem dolore sunt ut mollit anim</p> <a class=\"btn btn-success\" href=\"#\" role=\"button\">Voluptate ullamco</a> </div> <div class=\"col-lg-3\"> <h4>Cupidatat</h4><p>Nostrud occaecat est magna dolor cillum pariatur veniam</p> <a class=\"btn btn-warning\" href=\"#\" role=\"button\">Cillum nisi</a> </div> <div class=\"col-lg-3\"> <h4>Elit</h4><p>Id laborum adipiscing elit sint deserunt consequat nostrud</p> <a class=\"btn btn-success\" href=\"#\" role=\"button\">Veniam adipiscing</a> </div> <div class=\"col-lg-3\"> <h4>Ut</h4><p>Cupidatat aliqua quis eiusmod nulla exercitation reprehenderit do</p> <a class=\"btn btn-success\" href=\"#\" role=\"button\">Consequat tempor</a> </div> </div> <div class=\"row\"><div class=\"col-lg-12\"> <h4>Exercitation</h4><p>Labore dolore ipsum mollit nisi sint sit adipiscing</p> <a class=\"btn btn-success\" href=\"#\" role=\"button\">Dolor nulla</a> </div> </div> </main> </body> </html> \n",
            "    Answer: <html> <body> <main class=\"container\"> <div class=\"header clearfix\"> <nav> <ul class=\"nav nav-pills pull-left\"> <li class=\"active\"><a href=\"#\">Incididunt ullamco</a></li> <li><a href=\"#\">Quis id</a></li> <li><a href=\"#\">Duis fugiat</a></li> <li><a href=\"#\">Est sunt</a></li> </ul> </nav> </div> <div class=\"row\"><div class=\"col-lg-6\"> <h4>Anim</h4><p>Anim magna nulla amet</p> <a class=\"btn btn-danger\" href=\"#\" role=\"button\">Deserunt ipsum</a> </div> <div class=\"col-lg-6\"> <h4>Do</h4><p>Id mollit nisi ullamco minim anim ex adipiscing</p> <a class=\"btn btn-danger\" href=\"#\" role=\"button\">Aute eiusmod</a> </div> </div> <div class=\"row\"><div class=\"col-lg-3\"> <h4>Tempor</h4><p>Officia eu lorem dolore sunt ut mollit anim</p> <a class=\"btn btn-success\" href=\"#\" role=\"button\">Voluptate ullamco</a> </div> <div class=\"col-lg-3\"> <h4>Cupidatat</h4><p>Nostrud occaecat est magna dolor cillum pariatur veniam</p> <a class=\"btn btn-warning\" href=\"#\" role=\"button\">Cillum nisi</a> </div> <div class=\"col-lg-3\"> <h4>Elit</h4><p>Id laborum adipiscing elit sint deserunt consequat nostrud</p> <a class=\"btn btn-success\" href=\"#\" role=\"button\">Veniam adipiscing</a> </div> <div class=\"col-lg-3\"> <h4>Ut</h4><p>Cupidatat aliqua quis eiusmod nulla exercitation reprehenderit do</p> <a class=\"btn btn-success\" href=\"#\" role=\"button\">Consequat tempor</a> </div> </div> <div class=\"row\"><div class=\"col-lg-12\"> <h4>Exercitation</h4><p>Labore dolore ipsum mollit nisi sint sit adipiscing</p> <a class=\"btn btn-success\" href=\"#\" role=\"button\">Dolor nulla</a> </div> </div> </main> </body> </html> \n",
            "      Bleu: 0.96\n",
            " Avg Bleu Score: 0.98\n"
          ]
        },
        {
          "output_type": "stream",
          "name": "stderr",
          "text": [
            "Epoch 10/14 - train loop: 100%|██████████| 388/388 [04:58<00:00,  1.30it/s, loss=0.0559]\n"
          ]
        },
        {
          "output_type": "stream",
          "name": "stdout",
          "text": [
            "Moving Avg Loss: 0.061\n"
          ]
        },
        {
          "output_type": "stream",
          "name": "stderr",
          "text": [
            "Epoch 11/14 - train loop: 100%|██████████| 388/388 [04:58<00:00,  1.30it/s, loss=0.0293]\n"
          ]
        },
        {
          "output_type": "stream",
          "name": "stdout",
          "text": [
            "Moving Avg Loss: 0.054\n"
          ]
        },
        {
          "output_type": "stream",
          "name": "stderr",
          "text": [
            "Epoch 12/14 - train loop: 100%|██████████| 388/388 [04:58<00:00,  1.30it/s, loss=0.0373]\n"
          ]
        },
        {
          "output_type": "stream",
          "name": "stdout",
          "text": [
            "Moving Avg Loss: 0.054\n"
          ]
        },
        {
          "output_type": "stream",
          "name": "stderr",
          "text": [
            "Epoch 13/14 - train loop: 100%|██████████| 388/388 [04:58<00:00,  1.30it/s, loss=0.041]\n"
          ]
        },
        {
          "output_type": "stream",
          "name": "stdout",
          "text": [
            "Moving Avg Loss: 0.055\n"
          ]
        },
        {
          "output_type": "stream",
          "name": "stderr",
          "text": [
            "Epoch 14/14 - train loop: 100%|██████████| 388/388 [04:58<00:00,  1.30it/s, loss=0.0626]\n"
          ]
        },
        {
          "output_type": "stream",
          "name": "stdout",
          "text": [
            "Moving Avg Loss: 0.053\n"
          ]
        },
        {
          "output_type": "stream",
          "name": "stderr",
          "text": [
            "Epoch 14/14 - valid loop:  50%|█████     | 1/2 [01:03<01:03, 63.99s/it, bleu_score=0.972]"
          ]
        },
        {
          "output_type": "stream",
          "name": "stdout",
          "text": [
            "\n",
            "Prediction: <html> <body> <main class=\"container\"> <div class=\"header clearfix\"> <nav> <ul class=\"nav nav-pills pull-left\"> <li><a href=\"#\">Amet anim</a></li> <li class=\"active\"><a href=\"#\">Aliquip pariatur</a></li> </ul> </nav> </div> <div class=\"row\"><div class=\"col-lg-6\"> <h4>Elit</h4><p>Enim labore esse cillum aliqua nisi velit in</p> <a class=\"btn btn-warning\" href=\"#\" role=\"button\">Amet est</a> </div> <div class=\"col-lg-6\"> <h4>Quis</h4><p>Cillum nostrud pariatur amet irure in minim ut</p> <a class=\"btn btn-warning\" href=\"#\" role=\"button\">Exercitation reprehenderit</a> </div> </div> <div class=\"row\"><div class=\"col-lg-12\"> <h4>Incididunt</h4><p>Commodo voluptate ea dolore minim tempor</p> <a class=\"btn btn-success\" href=\"#\" role=\"button\">Aliquip nisi</a> </div> </div> <div class=\"row\"><div class=\"col-lg-3\"> <h4>Exercitation</h4><p>Ea consectetur dolor labore esse incididunt tempor ullamco</p> <a class=\"btn btn-warning\" href=\"#\" role=\"button\">Incididunt aliquip</a> </div> <div class=\"col-lg-3\"> <h4>Occaecat</h4><p>Quis officia sed eu cupidatat reprehenderit laboris lorem</p> <a class=\"btn btn-success\" href=\"#\" role=\"button\">Non aliquip</a> </div> <div class=\"col-lg-3\"> <h4>Voluptate</h4><p>Laborum nisi eu enim proident</p> <a class=\"btn btn-danger\" href=\"#\" role=\"button\">Duis id</a> </div> <div class=\"col-lg-3\"> <h4>Amet</h4><p>Consectetur anim adipiscing enim et do quis velit</p> <a class=\"btn btn-warning\" href=\"#\" role=\"button\">Aute enim</a> </div> </div> </main> </body> </html> \n",
            "    Answer: <html> <body> <main class=\"container\"> <div class=\"header clearfix\"> <nav> <ul class=\"nav nav-pills pull-left\"> <li><a href=\"#\">Occaecat cillum</a></li> <li class=\"active\"><a href=\"#\">Aliquip pariatur</a></li> </ul> </nav> </div> <div class=\"row\"><div class=\"col-lg-6\"> <h4>Elit</h4><p>Enim labore esse cillum aliqua nisi velit in</p> <a class=\"btn btn-warning\" href=\"#\" role=\"button\">Amet est</a> </div> <div class=\"col-lg-6\"> <h4>Quis</h4><p>Cillum nostrud pariatur amet irure in minim ut</p> <a class=\"btn btn-warning\" href=\"#\" role=\"button\">Exercitation reprehenderit</a> </div> </div> <div class=\"row\"><div class=\"col-lg-12\"> <h4>Incididunt</h4><p>Commodo voluptate ea dolore minim tempor</p> <a class=\"btn btn-success\" href=\"#\" role=\"button\">Aliquip nisi</a> </div> </div> <div class=\"row\"><div class=\"col-lg-3\"> <h4>Exercitation</h4><p>Ea consectetur dolor labore esse incididunt tempor ullamco</p> <a class=\"btn btn-warning\" href=\"#\" role=\"button\">Incididunt aliquip</a> </div> <div class=\"col-lg-3\"> <h4>Occaecat</h4><p>Quis officia sed eu cupidatat reprehenderit laboris lorem</p> <a class=\"btn btn-success\" href=\"#\" role=\"button\">Non aliquip</a> </div> <div class=\"col-lg-3\"> <h4>Voluptate</h4><p>Laborum nisi eu enim proident</p> <a class=\"btn btn-danger\" href=\"#\" role=\"button\">Duis id</a> </div> <div class=\"col-lg-3\"> <h4>Amet</h4><p>Consectetur anim adipiscing enim et do quis velit</p> <a class=\"btn btn-warning\" href=\"#\" role=\"button\">Aute anim</a> </div> </div> </main> </body> </html> \n",
            "      Bleu: 0.99\n",
            "\n",
            "Prediction: <html> <body> <main class=\"container\"> <div class=\"header clearfix\"> <nav> <ul class=\"nav nav-pills pull-left\"> <li><a href=\"#\">Eiusmod aliquip</a></li> <li><a href=\"#\">Eiusmod aliquip</a></li> <li><a href=\"#\">Eiusmod aliqua</a></li> <li><a href=\"#\">Eiusmod aliqua</a></li> <li class=\"active\"><a href=\"#\">Eiusmod amet</a></li> </ul> </nav> </div> <div class=\"row\"><div class=\"col-lg-12\"> <h4>Ex</h4><p>Ad in laboris nisi et culpa dolore proident</p> <a class=\"btn btn-warning\" href=\"#\" role=\"button\">Dolor incididunt</a> </div> </div> <div class=\"row\"><div class=\"col-lg-3\"> <h4>Cillum</h4><p>Officia elit eu et irure ut nostrud in</p> <a class=\"btn btn-success\" href=\"#\" role=\"button\">Nulla in</a> </div> <div class=\"col-lg-3\"> <h4>Excepteur</h4><p>Et exercitation velit ex ea non</p> <a class=\"btn btn-success\" href=\"#\" role=\"button\">Irure laborum</a> </div> <div class=\"col-lg-3\"> <h4>In</h4><p>Sit excepteur deserunt labore sint quis enim proident</p> <a class=\"btn btn-warning\" href=\"#\" role=\"button\">Proident do</a> </div> <div class=\"col-lg-3\"> <h4>Anim</h4><p>Minim proident laborum sit nisi ex labore incididunt</p> <a class=\"btn btn-danger\" href=\"#\" role=\"button\">Labore sed</a> </div> </div> <div class=\"row\"><div class=\"col-lg-6\"> <h4>Magna</h4><p>Aliqua officia nostrud cillum voluptate aliquip</p> <a class=\"btn btn-warning\" href=\"#\" role=\"button\">Ut laboris</a> </div> <div class=\"col-lg-6\"> <h4>Aliqua</h4><p>Excepteur adipiscing est sunt exercitation ut minim magna</p> <a class=\"btn btn-danger\" href=\"#\" role=\"button\">Laboris reprehenderit</a> </div> </div> </main> </body> </html> \n",
            "    Answer: <html> <body> <main class=\"container\"> <div class=\"header clearfix\"> <nav> <ul class=\"nav nav-pills pull-left\"> <li><a href=\"#\">Sunt mollit</a></li> <li><a href=\"#\">Ipsum enim</a></li> <li><a href=\"#\">Reprehenderit duis</a></li> <li><a href=\"#\">Sit labore</a></li> <li class=\"active\"><a href=\"#\">Eiusmod amet</a></li> </ul> </nav> </div> <div class=\"row\"><div class=\"col-lg-12\"> <h4>Ex</h4><p>Ad in laboris nisi et culpa dolore proident</p> <a class=\"btn btn-warning\" href=\"#\" role=\"button\">Dolor incididunt</a> </div> </div> <div class=\"row\"><div class=\"col-lg-3\"> <h4>Cillum</h4><p>Officia elit eu et irure ut nostrud in</p> <a class=\"btn btn-success\" href=\"#\" role=\"button\">Nulla in</a> </div> <div class=\"col-lg-3\"> <h4>Excepteur</h4><p>Et exercitation velit ex ea non</p> <a class=\"btn btn-success\" href=\"#\" role=\"button\">Irure laborum</a> </div> <div class=\"col-lg-3\"> <h4>In</h4><p>Sit excepteur deserunt labore sint quis enim proident</p> <a class=\"btn btn-warning\" href=\"#\" role=\"button\">Proident do</a> </div> <div class=\"col-lg-3\"> <h4>Anim</h4><p>Minim proident laborum sit nisi ex labore incididunt</p> <a class=\"btn btn-danger\" href=\"#\" role=\"button\">Labore sed</a> </div> </div> <div class=\"row\"><div class=\"col-lg-6\"> <h4>Magna</h4><p>Aliqua officia nostrud cillum voluptate aliquip</p> <a class=\"btn btn-warning\" href=\"#\" role=\"button\">Ut laboris</a> </div> <div class=\"col-lg-6\"> <h4>Aliqua</h4><p>Excepteur adipiscing est sunt exercitation ut minim magna</p> <a class=\"btn btn-danger\" href=\"#\" role=\"button\">Laboris reprehenderit</a> </div> </div> </main> </body> </html> \n",
            "      Bleu: 0.96\n",
            "\n",
            "Prediction: <html> <body> <main class=\"container\"> <div class=\"header clearfix\"> <nav> <ul class=\"nav nav-pills pull-left\"> <li><a href=\"#\">Aute anim</a></li> <li><a href=\"#\">Amet anim</a></li> <li><a href=\"#\">Amet anim</a></li> <li><a href=\"#\">Amet anim</a></li> <li class=\"active\"><a href=\"#\">Ut est</a></li> </ul> </nav> </div> <div class=\"row\"><div class=\"col-lg-6\"> <h4>Eu</h4><p>Exercitation dolor incididunt sed deserunt excepteur laborum ut</p> <a class=\"btn btn-danger\" href=\"#\" role=\"button\">Deserunt pariatur</a> </div> <div class=\"col-lg-6\"> <h4>Elit</h4><p>Reprehenderit fugiat ut veniam cupidatat ex elit aliqua</p> <a class=\"btn btn-warning\" href=\"#\" role=\"button\">Irure eu</a> </div> </div> <div class=\"row\"><div class=\"col-lg-3\"> <h4>Sit</h4><p>Aliqua laborum id minim veniam enim reprehenderit fugiat</p> <a class=\"btn btn-danger\" href=\"#\" role=\"button\">Exercitation consectetur</a> </div> <div class=\"col-lg-3\"> <h4>Elit</h4><p>Reprehenderit ex fugiat nostrud voluptate eiusmod adipiscing velit</p> <a class=\"btn btn-warning\" href=\"#\" role=\"button\">Elit occaecat</a> </div> <div class=\"col-lg-3\"> <h4>Magna</h4><p>Aute velit laboris esse elit</p> <a class=\"btn btn-success\" href=\"#\" role=\"button\">Anim elit</a> </div> <div class=\"col-lg-3\"> <h4>Commodo</h4><p>Velit eu sint dolore cupidatat tempor ex dolor</p> <a class=\"btn btn-success\" href=\"#\" role=\"button\">Mollit qui</a> </div> </div> <div class=\"row\"><div class=\"col-lg-12\"> <h4>Do</h4><p>Cupidatat duis id mollit veniam ea quis excepteur</p> <a class=\"btn btn-success\" href=\"#\" role=\"button\">Ad ut</a> </div> </div> </main> </body> </html> \n",
            "    Answer: <html> <body> <main class=\"container\"> <div class=\"header clearfix\"> <nav> <ul class=\"nav nav-pills pull-left\"> <li><a href=\"#\">Occaecat proident</a></li> <li><a href=\"#\">Mollit tempor</a></li> <li><a href=\"#\">Sit excepteur</a></li> <li><a href=\"#\">Consequat sed</a></li> <li class=\"active\"><a href=\"#\">Ut est</a></li> </ul> </nav> </div> <div class=\"row\"><div class=\"col-lg-6\"> <h4>Eu</h4><p>Exercitation dolor incididunt sed deserunt excepteur laborum ut</p> <a class=\"btn btn-danger\" href=\"#\" role=\"button\">Deserunt pariatur</a> </div> <div class=\"col-lg-6\"> <h4>Elit</h4><p>Reprehenderit fugiat ut veniam cupidatat ex elit aliqua</p> <a class=\"btn btn-warning\" href=\"#\" role=\"button\">Irure eu</a> </div> </div> <div class=\"row\"><div class=\"col-lg-3\"> <h4>Sit</h4><p>Aliqua laborum id minim veniam enim reprehenderit fugiat</p> <a class=\"btn btn-danger\" href=\"#\" role=\"button\">Exercitation consectetur</a> </div> <div class=\"col-lg-3\"> <h4>Elit</h4><p>Reprehenderit ex fugiat nostrud voluptate eiusmod adipiscing velit</p> <a class=\"btn btn-warning\" href=\"#\" role=\"button\">Elit occaecat</a> </div> <div class=\"col-lg-3\"> <h4>Magna</h4><p>Aute velit laboris esse elit</p> <a class=\"btn btn-success\" href=\"#\" role=\"button\">Anim elit</a> </div> <div class=\"col-lg-3\"> <h4>Commodo</h4><p>Velit eu sint dolore cupidatat tempor ex dolor</p> <a class=\"btn btn-success\" href=\"#\" role=\"button\">Mollit qui</a> </div> </div> <div class=\"row\"><div class=\"col-lg-12\"> <h4>Do</h4><p>Cupidatat duis id mollit veniam ea quis excepteur</p> <a class=\"btn btn-success\" href=\"#\" role=\"button\">Ad ut</a> </div> </div> </main> </body> </html> \n",
            "      Bleu: 0.97\n",
            "\n",
            "Prediction: <html> <body> <main class=\"container\"> <div class=\"header clearfix\"> <nav> <ul class=\"nav nav-pills pull-left\"> <li><a href=\"#\">Aute anim</a></li> <li class=\"active\"><a href=\"#\">Aliquip velit</a></li> </ul> </nav> </div> <div class=\"row\"><div class=\"col-lg-6\"> <h4>In</h4><p>Est ut irure ea labore sit dolor adipiscing</p> <a class=\"btn btn-danger\" href=\"#\" role=\"button\">Consequat excepteur</a> </div> <div class=\"col-lg-6\"> <h4>Officia</h4><p>Officia ut proident pariatur nulla anim</p> <a class=\"btn btn-success\" href=\"#\" role=\"button\">Enim id</a> </div> </div> <div class=\"row\"><div class=\"col-lg-12\"> <h4>Sint</h4><p>Eiusmod aute aliqua tempor cillum lorem fugiat minim</p> <a class=\"btn btn-danger\" href=\"#\" role=\"button\">Ut labore</a> </div> </div> <div class=\"row\"><div class=\"col-lg-3\"> <h4>Excepteur</h4><p>Commodo cillum eiusmod et anim est mollit aliqua</p> <a class=\"btn btn-danger\" href=\"#\" role=\"button\">Velit tempor</a> </div> <div class=\"col-lg-3\"> <h4>In</h4><p>Elit pariatur dolor consequat officia</p> <a class=\"btn btn-warning\" href=\"#\" role=\"button\">Proident deserunt</a> </div> <div class=\"col-lg-3\"> <h4>Eu</h4><p>Laborum duis labore consequat sint excepteur aute enim</p> <a class=\"btn btn-warning\" href=\"#\" role=\"button\">Qui proident</a> </div> <div class=\"col-lg-3\"> <h4>Id</h4><p>Sunt ipsum esse quis elit officia deserunt anim</p> <a class=\"btn btn-warning\" href=\"#\" role=\"button\">Proident minim</a> </div> </div> </main> </body> </html> \n",
            "    Answer: <html> <body> <main class=\"container\"> <div class=\"header clearfix\"> <nav> <ul class=\"nav nav-pills pull-left\"> <li><a href=\"#\">Culpa id</a></li> <li class=\"active\"><a href=\"#\">Aliquip velit</a></li> </ul> </nav> </div> <div class=\"row\"><div class=\"col-lg-6\"> <h4>In</h4><p>Est ut irure ea labore sit dolor adipiscing</p> <a class=\"btn btn-danger\" href=\"#\" role=\"button\">Consequat excepteur</a> </div> <div class=\"col-lg-6\"> <h4>Officia</h4><p>Officia ut proident pariatur nulla anim</p> <a class=\"btn btn-success\" href=\"#\" role=\"button\">Enim id</a> </div> </div> <div class=\"row\"><div class=\"col-lg-12\"> <h4>Sint</h4><p>Eiusmod aute aliqua tempor cillum lorem fugiat minim</p> <a class=\"btn btn-danger\" href=\"#\" role=\"button\">Ut labore</a> </div> </div> <div class=\"row\"><div class=\"col-lg-3\"> <h4>Excepteur</h4><p>Commodo cillum eiusmod et anim est mollit aliqua</p> <a class=\"btn btn-danger\" href=\"#\" role=\"button\">Velit tempor</a> </div> <div class=\"col-lg-3\"> <h4>In</h4><p>Elit pariatur dolor consequat officia</p> <a class=\"btn btn-warning\" href=\"#\" role=\"button\">Proident deserunt</a> </div> <div class=\"col-lg-3\"> <h4>Eu</h4><p>Laborum duis labore consequat sint excepteur aute enim</p> <a class=\"btn btn-warning\" href=\"#\" role=\"button\">Qui proident</a> </div> <div class=\"col-lg-3\"> <h4>Id</h4><p>Sunt ipsum esse quis elit officia deserunt anim</p> <a class=\"btn btn-warning\" href=\"#\" role=\"button\">Proident minim</a> </div> </div> </main> </body> </html> \n",
            "      Bleu: 0.99\n",
            "\n",
            "Prediction: <html> <body> <main class=\"container\"> <div class=\"header clearfix\"> <nav> <ul class=\"nav nav-pills pull-left\"> <li class=\"active\"><a href=\"#\">Fugiat do</a></li> <li><a href=\"#\">Dolor anim</a></li> <li><a href=\"#\">Dolor anim</a></li> <li><a href=\"#\">Dolor anim</a></li> </ul> </nav> </div> <div class=\"row\"><div class=\"col-lg-6\"> <h4>Minim</h4><p>Ex minim in quis nisi aliquip lorem adipiscing</p> <a class=\"btn btn-success\" href=\"#\" role=\"button\">Excepteur duis</a> </div> <div class=\"col-lg-6\"> <h4>Do</h4><p>Cupidatat amet dolor ex nulla duis aliquip occaecat</p> <a class=\"btn btn-danger\" href=\"#\" role=\"button\">Ea velit</a> </div> </div> <div class=\"row\"><div class=\"col-lg-12\"> <h4>Veniam</h4><p>Magna anim eiusmod elit nisi id ex et</p> <a class=\"btn btn-danger\" href=\"#\" role=\"button\">Do tempor</a> </div> </div> <div class=\"row\"><div class=\"col-lg-3\"> <h4>Et</h4><p>Dolor sint fugiat excepteur cupidatat in mollit aliquip</p> <a class=\"btn btn-success\" href=\"#\" role=\"button\">Reprehenderit culpa</a> </div> <div class=\"col-lg-3\"> <h4>Ex</h4><p>Consectetur sit ut reprehenderit laboris</p> <a class=\"btn btn-danger\" href=\"#\" role=\"button\">Sit ad</a> </div> <div class=\"col-lg-3\"> <h4>Culpa</h4><p>Voluptate nostrud eu dolore occaecat tempor</p> <a class=\"btn btn-success\" href=\"#\" role=\"button\">Do magna</a> </div> <div class=\"col-lg-3\"> <h4>Id</h4><p>Ut lorem eu velit aliqua excepteur</p> <a class=\"btn btn-success\" href=\"#\" role=\"button\">Nulla aliqua</a> </div> </div> </main> </body> </html> \n",
            "    Answer: <html> <body> <main class=\"container\"> <div class=\"header clearfix\"> <nav> <ul class=\"nav nav-pills pull-left\"> <li class=\"active\"><a href=\"#\">Fugiat do</a></li> <li><a href=\"#\">Cupidatat voluptate</a></li> <li><a href=\"#\">Aliqua commodo</a></li> </ul> </nav> </div> <div class=\"row\"><div class=\"col-lg-6\"> <h4>Minim</h4><p>Ex minim in quis nisi aliquip lorem adipiscing</p> <a class=\"btn btn-success\" href=\"#\" role=\"button\">Excepteur duis</a> </div> <div class=\"col-lg-6\"> <h4>Do</h4><p>Cupidatat amet dolor ex nulla duis aliquip occaecat</p> <a class=\"btn btn-danger\" href=\"#\" role=\"button\">Ea velit</a> </div> </div> <div class=\"row\"><div class=\"col-lg-12\"> <h4>Veniam</h4><p>Magna anim eiusmod elit nisi id ex et</p> <a class=\"btn btn-danger\" href=\"#\" role=\"button\">Do tempor</a> </div> </div> <div class=\"row\"><div class=\"col-lg-3\"> <h4>Et</h4><p>Dolor sint fugiat excepteur cupidatat in mollit aliquip</p> <a class=\"btn btn-success\" href=\"#\" role=\"button\">Reprehenderit culpa</a> </div> <div class=\"col-lg-3\"> <h4>Ex</h4><p>Consectetur sit ut reprehenderit laboris</p> <a class=\"btn btn-danger\" href=\"#\" role=\"button\">Sit ad</a> </div> <div class=\"col-lg-3\"> <h4>Culpa</h4><p>Voluptate nostrud eu dolore occaecat tempor</p> <a class=\"btn btn-success\" href=\"#\" role=\"button\">Do magna</a> </div> <div class=\"col-lg-3\"> <h4>Id</h4><p>Ut lorem eu velit aliqua excepteur</p> <a class=\"btn btn-success\" href=\"#\" role=\"button\">Nulla aliqua</a> </div> </div> </main> </body> </html> \n",
            "      Bleu: 0.96\n",
            "\n",
            "Prediction: <html> <body> <main class=\"container\"> <div class=\"header clearfix\"> <nav> <ul class=\"nav nav-pills pull-left\"> <li><a href=\"#\">Aute commodo</a></li> <li class=\"active\"><a href=\"#\">Commodo adipiscing</a></li> <li><a href=\"#\">Aute commodo</a></li> <li><a href=\"#\">Amet commodo</a></li> <li><a href=\"#\">Amet commodo</a></li> </ul> </nav> </div> <div class=\"row\"><div class=\"col-lg-12\"> <h4>Voluptate</h4><p>Occaecat id commodo ea laborum aliquip sint esse</p> <a class=\"btn btn-danger\" href=\"#\" role=\"button\">Consectetur quis</a> </div> </div> <div class=\"row\"><div class=\"col-lg-3\"> <h4>Amet</h4><p>Lorem duis do fugiat ullamco deserunt qui nisi</p> <a class=\"btn btn-danger\" href=\"#\" role=\"button\">Mollit est</a> </div> <div class=\"col-lg-3\"> <h4>Labore</h4><p>Consectetur proident adipiscing pariatur tempor sunt occaecat excepteur</p> <a class=\"btn btn-success\" href=\"#\" role=\"button\">Exercitation fugiat</a> </div> <div class=\"col-lg-3\"> <h4>Ut</h4><p>Voluptate qui officia quis anim aliqua sunt consequat</p> <a class=\"btn btn-warning\" href=\"#\" role=\"button\">In aute</a> </div> <div class=\"col-lg-3\"> <h4>Nostrud</h4><p>Aute in aliquip ullamco</p> <a class=\"btn btn-warning\" href=\"#\" role=\"button\">Ex eu</a> </div> </div> <div class=\"row\"><div class=\"col-lg-6\"> <h4>Est</h4><p>Dolore ex cupidatat consequat anim qui aute do</p> <a class=\"btn btn-warning\" href=\"#\" role=\"button\">Aliqua id</a> </div> <div class=\"col-lg-6\"> <h4>Proident</h4><p>Eu dolore eiusmod fugiat mollit aliqua reprehenderit consequat</p> <a class=\"btn btn-warning\" href=\"#\" role=\"button\">Dolor eiusmod</a> </div> </div> </main> </body> </html> \n",
            "    Answer: <html> <body> <main class=\"container\"> <div class=\"header clearfix\"> <nav> <ul class=\"nav nav-pills pull-left\"> <li><a href=\"#\">Ad voluptate</a></li> <li class=\"active\"><a href=\"#\">Commodo adipiscing</a></li> <li><a href=\"#\">Dolore duis</a></li> <li><a href=\"#\">Ea laborum</a></li> <li><a href=\"#\">Et incididunt</a></li> </ul> </nav> </div> <div class=\"row\"><div class=\"col-lg-12\"> <h4>Voluptate</h4><p>Occaecat id commodo ea laborum aliquip sint esse</p> <a class=\"btn btn-danger\" href=\"#\" role=\"button\">Consectetur quis</a> </div> </div> <div class=\"row\"><div class=\"col-lg-3\"> <h4>Amet</h4><p>Lorem duis do fugiat ullamco deserunt qui nisi</p> <a class=\"btn btn-danger\" href=\"#\" role=\"button\">Mollit est</a> </div> <div class=\"col-lg-3\"> <h4>Labore</h4><p>Consectetur proident adipiscing pariatur tempor sunt occaecat excepteur</p> <a class=\"btn btn-success\" href=\"#\" role=\"button\">Exercitation fugiat</a> </div> <div class=\"col-lg-3\"> <h4>Ut</h4><p>Voluptate qui officia quis anim aliqua sunt consequat</p> <a class=\"btn btn-warning\" href=\"#\" role=\"button\">In aute</a> </div> <div class=\"col-lg-3\"> <h4>Nostrud</h4><p>Aute in aliquip ullamco</p> <a class=\"btn btn-warning\" href=\"#\" role=\"button\">Ex eu</a> </div> </div> <div class=\"row\"><div class=\"col-lg-6\"> <h4>Est</h4><p>Dolore ex cupidatat consequat anim qui aute do</p> <a class=\"btn btn-warning\" href=\"#\" role=\"button\">Aliqua id</a> </div> <div class=\"col-lg-6\"> <h4>Proident</h4><p>Eu dolore eiusmod fugiat mollit aliqua reprehenderit consequat</p> <a class=\"btn btn-warning\" href=\"#\" role=\"button\">Dolor eiusmod</a> </div> </div> </main> </body> </html> \n",
            "      Bleu: 0.97\n",
            "\n",
            "Prediction: <html> <body> <main class=\"container\"> <div class=\"header clearfix\"> <nav> <ul class=\"nav nav-pills pull-left\"> <li><a href=\"#\">Adipiscing commodo</a></li> <li><a href=\"#\">Adipiscing commodo</a></li> <li><a href=\"#\">Adipiscing commodo</a></li> <li class=\"active\"><a href=\"#\">Minim cillum</a></li> </ul> </nav> </div> <div class=\"row\"><div class=\"col-lg-3\"> <h4>Laborum</h4><p>Irure eiusmod exercitation voluptate amet minim nulla labore</p> <a class=\"btn btn-danger\" href=\"#\" role=\"button\">Dolore qui</a> </div> <div class=\"col-lg-3\"> <h4>Ex</h4><p>Commodo officia nostrud in quis anim occaecat</p> <a class=\"btn btn-success\" href=\"#\" role=\"button\">Nisi ut</a> </div> <div class=\"col-lg-3\"> <h4>Labore</h4><p>Commodo dolore tempor minim magna fugiat deserunt ipsum</p> <a class=\"btn btn-danger\" href=\"#\" role=\"button\">Ullamco enim</a> </div> <div class=\"col-lg-3\"> <h4>Do</h4><p>Qui nostrud incididunt sint esse amet consectetur</p> <a class=\"btn btn-warning\" href=\"#\" role=\"button\">Adipiscing eu</a> </div> </div> <div class=\"row\"><div class=\"col-lg-6\"> <h4>Duis</h4><p>Enim cillum lorem cupidatat laborum et sunt nisi</p> <a class=\"btn btn-warning\" href=\"#\" role=\"button\">Ipsum do</a> </div> <div class=\"col-lg-6\"> <h4>Deserunt</h4><p>Tempor occaecat officia aliquip eu adipiscing culpa ut</p> <a class=\"btn btn-success\" href=\"#\" role=\"button\">Magna cupidatat</a> </div> </div> <div class=\"row\"><div class=\"col-lg-12\"> <h4>Labore</h4><p>Excepteur ullamco ea consectetur sed duis qui et</p> <a class=\"btn btn-success\" href=\"#\" role=\"button\">In labore</a> </div> </div> </main> </body> </html> \n",
            "    Answer: <html> <body> <main class=\"container\"> <div class=\"header clearfix\"> <nav> <ul class=\"nav nav-pills pull-left\"> <li><a href=\"#\">In aliqua</a></li> <li><a href=\"#\">Reprehenderit proident</a></li> <li><a href=\"#\">Laboris irure</a></li> <li class=\"active\"><a href=\"#\">Minim cillum</a></li> </ul> </nav> </div> <div class=\"row\"><div class=\"col-lg-3\"> <h4>Laborum</h4><p>Irure eiusmod exercitation voluptate amet minim nulla labore</p> <a class=\"btn btn-danger\" href=\"#\" role=\"button\">Dolore qui</a> </div> <div class=\"col-lg-3\"> <h4>Ex</h4><p>Commodo officia nostrud in quis anim occaecat</p> <a class=\"btn btn-success\" href=\"#\" role=\"button\">Nisi ut</a> </div> <div class=\"col-lg-3\"> <h4>Labore</h4><p>Commodo dolore tempor minim magna fugiat deserunt ipsum</p> <a class=\"btn btn-danger\" href=\"#\" role=\"button\">Ullamco enim</a> </div> <div class=\"col-lg-3\"> <h4>Do</h4><p>Qui nostrud incididunt sint esse amet consectetur</p> <a class=\"btn btn-warning\" href=\"#\" role=\"button\">Adipiscing eu</a> </div> </div> <div class=\"row\"><div class=\"col-lg-6\"> <h4>Duis</h4><p>Enim cillum lorem cupidatat laborum et sunt nisi</p> <a class=\"btn btn-warning\" href=\"#\" role=\"button\">Ipsum do</a> </div> <div class=\"col-lg-6\"> <h4>Deserunt</h4><p>Tempor occaecat officia aliquip eu adipiscing culpa ut</p> <a class=\"btn btn-success\" href=\"#\" role=\"button\">Magna cupidatat</a> </div> </div> <div class=\"row\"><div class=\"col-lg-12\"> <h4>Labore</h4><p>Excepteur ullamco ea consectetur sed duis qui et</p> <a class=\"btn btn-success\" href=\"#\" role=\"button\">In labore</a> </div> </div> </main> </body> </html> \n",
            "      Bleu: 0.97\n",
            "\n",
            "Prediction: <html> <body> <main class=\"container\"> <div class=\"header clearfix\"> <nav> <ul class=\"nav nav-pills pull-left\"> <li><a href=\"#\">Adipiscing commodo</a></li> <li><a href=\"#\">Adipiscing commodo</a></li> <li><a href=\"#\">Adipiscing commodo</a></li> <li class=\"active\"><a href=\"#\">Voluptate do</a></li> </ul> </nav> </div> <div class=\"row\"><div class=\"col-lg-6\"> <h4>Lorem</h4><p>Aliquip ipsum ea culpa ut esse fugiat est</p> <a class=\"btn btn-success\" href=\"#\" role=\"button\">Fugiat qui</a> </div> <div class=\"col-lg-6\"> <h4>Ad</h4><p>Adipiscing consequat pariatur reprehenderit fugiat ad cillum</p> <a class=\"btn btn-success\" href=\"#\" role=\"button\">Nulla qui</a> </div> </div> <div class=\"row\"><div class=\"col-lg-3\"> <h4>Ex</h4><p>Minim laboris exercitation consectetur dolore fugiat ea</p> <a class=\"btn btn-danger\" href=\"#\" role=\"button\">Occaecat magna</a> </div> <div class=\"col-lg-3\"> <h4>Proident</h4><p>Dolor id aliquip esse exercitation et ullamco sunt</p> <a class=\"btn btn-danger\" href=\"#\" role=\"button\">Ut nulla</a> </div> <div class=\"col-lg-3\"> <h4>Laborum</h4><p>Nisi amet dolore esse et commodo voluptate nulla</p> <a class=\"btn btn-warning\" href=\"#\" role=\"button\">Ullamco culpa</a> </div> <div class=\"col-lg-3\"> <h4>Commodo</h4><p>Qui quis labore proident irure eu lorem ad</p> <a class=\"btn btn-danger\" href=\"#\" role=\"button\">Dolore sit</a> </div> </div> <div class=\"row\"><div class=\"col-lg-12\"> <h4>Qui</h4><p>Culpa voluptate velit in cupidatat consectetur veniam ea</p> <a class=\"btn btn-warning\" href=\"#\" role=\"button\">Aute eu</a> </div> </div> </main> </body> </html> \n",
            "    Answer: <html> <body> <main class=\"container\"> <div class=\"header clearfix\"> <nav> <ul class=\"nav nav-pills pull-left\"> <li><a href=\"#\">Aute irure</a></li> <li><a href=\"#\">Do sint</a></li> <li><a href=\"#\">Amet non</a></li> <li><a href=\"#\">Magna labore</a></li> <li class=\"active\"><a href=\"#\">Voluptate do</a></li> </ul> </nav> </div> <div class=\"row\"><div class=\"col-lg-6\"> <h4>Lorem</h4><p>Aliquip ipsum ea culpa ut esse fugiat est</p> <a class=\"btn btn-success\" href=\"#\" role=\"button\">Fugiat qui</a> </div> <div class=\"col-lg-6\"> <h4>Ad</h4><p>Adipiscing consequat pariatur reprehenderit fugiat ad cillum</p> <a class=\"btn btn-success\" href=\"#\" role=\"button\">Nulla qui</a> </div> </div> <div class=\"row\"><div class=\"col-lg-3\"> <h4>Ex</h4><p>Minim laboris exercitation consectetur dolore fugiat ea</p> <a class=\"btn btn-danger\" href=\"#\" role=\"button\">Occaecat magna</a> </div> <div class=\"col-lg-3\"> <h4>Proident</h4><p>Dolor id aliquip esse exercitation et ullamco sunt</p> <a class=\"btn btn-danger\" href=\"#\" role=\"button\">Ut nulla</a> </div> <div class=\"col-lg-3\"> <h4>Laborum</h4><p>Nisi amet dolore esse et commodo voluptate nulla</p> <a class=\"btn btn-warning\" href=\"#\" role=\"button\">Ullamco culpa</a> </div> <div class=\"col-lg-3\"> <h4>Commodo</h4><p>Qui quis labore proident irure eu lorem ad</p> <a class=\"btn btn-danger\" href=\"#\" role=\"button\">Dolore sit</a> </div> </div> <div class=\"row\"><div class=\"col-lg-12\"> <h4>Qui</h4><p>Culpa voluptate velit in cupidatat consectetur veniam ea</p> <a class=\"btn btn-warning\" href=\"#\" role=\"button\">Aute eu</a> </div> </div> </main> </body> </html> \n",
            "      Bleu: 0.96\n",
            "\n",
            "Prediction: <html> <body> <main class=\"container\"> <div class=\"header clearfix\"> <nav> <ul class=\"nav nav-pills pull-left\"> <li class=\"active\"><a href=\"#\">Anim do</a></li> <li><a href=\"#\">Esse anim</a></li> <li><a href=\"#\">Esse anim</a></li> <li><a href=\"#\">Esse anim</a></li> </ul> </nav> </div> <div class=\"row\"><div class=\"col-lg-6\"> <h4>Pariatur</h4><p>Tempor consequat aute sit minim irure sunt anim</p> <a class=\"btn btn-danger\" href=\"#\" role=\"button\">Esse enim</a> </div> <div class=\"col-lg-6\"> <h4>Labore</h4><p>Dolor laborum sunt anim et ad exercitation</p> <a class=\"btn btn-success\" href=\"#\" role=\"button\">Voluptate pariatur</a> </div> </div> <div class=\"row\"><div class=\"col-lg-3\"> <h4>Lorem</h4><p>Ipsum reprehenderit quis voluptate sed aliquip nulla veniam</p> <a class=\"btn btn-warning\" href=\"#\" role=\"button\">Ea magna</a> </div> <div class=\"col-lg-3\"> <h4>Ea</h4><p>Fugiat nostrud eiusmod sint ex nisi veniam</p> <a class=\"btn btn-warning\" href=\"#\" role=\"button\">Cupidatat pariatur</a> </div> <div class=\"col-lg-3\"> <h4>Nisi</h4><p>Est consequat amet quis aliqua adipiscing dolor veniam</p> <a class=\"btn btn-danger\" href=\"#\" role=\"button\">Exercitation anim</a> </div> <div class=\"col-lg-3\"> <h4>Deserunt</h4><p>Enim aliquip ut aliqua eu velit</p> <a class=\"btn btn-danger\" href=\"#\" role=\"button\">Consectetur reprehenderit</a> </div> </div> <div class=\"row\"><div class=\"col-lg-12\"> <h4>Anim</h4><p>Ad est tempor nisi aliqua qui dolore ullamco</p> <a class=\"btn btn-warning\" href=\"#\" role=\"button\">Qui enim</a> </div> </div> </main> </body> </html> \n",
            "    Answer: <html> <body> <main class=\"container\"> <div class=\"header clearfix\"> <nav> <ul class=\"nav nav-pills pull-left\"> <li class=\"active\"><a href=\"#\">Anim do</a></li> <li><a href=\"#\">Laboris labore</a></li> <li><a href=\"#\">Nulla officia</a></li> <li><a href=\"#\">Ipsum sunt</a></li> </ul> </nav> </div> <div class=\"row\"><div class=\"col-lg-6\"> <h4>Pariatur</h4><p>Tempor consequat aute sit minim irure sunt anim</p> <a class=\"btn btn-danger\" href=\"#\" role=\"button\">Esse enim</a> </div> <div class=\"col-lg-6\"> <h4>Labore</h4><p>Dolor laborum sunt anim et ad exercitation</p> <a class=\"btn btn-success\" href=\"#\" role=\"button\">Voluptate pariatur</a> </div> </div> <div class=\"row\"><div class=\"col-lg-3\"> <h4>Lorem</h4><p>Ipsum reprehenderit quis voluptate sed aliquip nulla veniam</p> <a class=\"btn btn-warning\" href=\"#\" role=\"button\">Ea magna</a> </div> <div class=\"col-lg-3\"> <h4>Ea</h4><p>Fugiat nostrud eiusmod sint ex nisi veniam</p> <a class=\"btn btn-warning\" href=\"#\" role=\"button\">Cupidatat pariatur</a> </div> <div class=\"col-lg-3\"> <h4>Nisi</h4><p>Est consequat amet quis aliqua adipiscing dolor veniam</p> <a class=\"btn btn-danger\" href=\"#\" role=\"button\">Exercitation anim</a> </div> <div class=\"col-lg-3\"> <h4>Deserunt</h4><p>Enim aliquip ut aliqua eu velit</p> <a class=\"btn btn-danger\" href=\"#\" role=\"button\">Consectetur reprehenderit</a> </div> </div> <div class=\"row\"><div class=\"col-lg-12\"> <h4>Anim</h4><p>Ad est tempor nisi aliqua qui dolore ullamco</p> <a class=\"btn btn-warning\" href=\"#\" role=\"button\">Qui enim</a> </div> </div> </main> </body> </html> \n",
            "      Bleu: 0.98\n",
            "\n",
            "Prediction: <html> <body> <main class=\"container\"> <div class=\"header clearfix\"> <nav> <ul class=\"nav nav-pills pull-left\"> <li><a href=\"#\">Amet anim</a></li> <li><a href=\"#\">Amet anim</a></li> <li><a href=\"#\">Amet anim</a></li> <li class=\"active\"><a href=\"#\">Magna velit</a></li> <li><a href=\"#\">Amet anim</a></li> </ul> </nav> </div> <div class=\"row\"><div class=\"col-lg-3\"> <h4>Elit</h4><p>Sint deserunt tempor ex laborum</p> <a class=\"btn btn-success\" href=\"#\" role=\"button\">Dolore magna</a> </div> <div class=\"col-lg-3\"> <h4>In</h4><p>Fugiat elit sit duis dolore sint cillum eu</p> <a class=\"btn btn-warning\" href=\"#\" role=\"button\">Id occaecat</a> </div> <div class=\"col-lg-3\"> <h4>Mollit</h4><p>Amet occaecat officia qui elit et laborum nisi</p> <a class=\"btn btn-success\" href=\"#\" role=\"button\">Nisi nostrud</a> </div> <div class=\"col-lg-3\"> <h4>Et</h4><p>Consectetur occaecat aliqua magna ea dolore lorem irure</p> <a class=\"btn btn-success\" href=\"#\" role=\"button\">Magna anim</a> </div> </div> <div class=\"row\"><div class=\"col-lg-6\"> <h4>Do</h4><p>Quis nulla dolor excepteur sint ut laborum cupidatat</p> <a class=\"btn btn-danger\" href=\"#\" role=\"button\">Sit excepteur</a> </div> <div class=\"col-lg-6\"> <h4>Deserunt</h4><p>Ullamco consectetur nulla adipiscing occaecat non enim tempor</p> <a class=\"btn btn-warning\" href=\"#\" role=\"button\">Proident ipsum</a> </div> </div> </main> </body> </html> \n",
            "    Answer: <html> <body> <main class=\"container\"> <div class=\"header clearfix\"> <nav> <ul class=\"nav nav-pills pull-left\"> <li><a href=\"#\">Magna aliquip</a></li> <li><a href=\"#\">Enim voluptate</a></li> <li><a href=\"#\">Veniam aute</a></li> <li class=\"active\"><a href=\"#\">Magna velit</a></li> <li><a href=\"#\">Lorem incididunt</a></li> </ul> </nav> </div> <div class=\"row\"><div class=\"col-lg-3\"> <h4>Elit</h4><p>Sint deserunt tempor ex laborum</p> <a class=\"btn btn-success\" href=\"#\" role=\"button\">Dolore magna</a> </div> <div class=\"col-lg-3\"> <h4>In</h4><p>Fugiat elit sit duis dolore sint cillum eu</p> <a class=\"btn btn-warning\" href=\"#\" role=\"button\">Id occaecat</a> </div> <div class=\"col-lg-3\"> <h4>Mollit</h4><p>Amet occaecat officia qui elit et laborum nisi</p> <a class=\"btn btn-success\" href=\"#\" role=\"button\">Nisi nostrud</a> </div> <div class=\"col-lg-3\"> <h4>Et</h4><p>Consectetur occaecat aliqua magna ea dolore lorem irure</p> <a class=\"btn btn-success\" href=\"#\" role=\"button\">Magna anim</a> </div> </div> <div class=\"row\"><div class=\"col-lg-6\"> <h4>Do</h4><p>Quis nulla dolor excepteur sint ut laborum cupidatat</p> <a class=\"btn btn-danger\" href=\"#\" role=\"button\">Sit excepteur</a> </div> <div class=\"col-lg-6\"> <h4>Deserunt</h4><p>Ullamco consectetur nulla adipiscing occaecat non enim tempor</p> <a class=\"btn btn-warning\" href=\"#\" role=\"button\">Proident ipsum</a> </div> </div> </main> </body> </html> \n",
            "      Bleu: 0.96\n"
          ]
        },
        {
          "output_type": "stream",
          "name": "stderr",
          "text": [
            "Epoch 14/14 - valid loop: 100%|██████████| 2/2 [01:48<00:00, 54.30s/it, bleu_score=0.975]"
          ]
        },
        {
          "output_type": "stream",
          "name": "stdout",
          "text": [
            "\n",
            "Prediction: <html> <body> <main class=\"container\"> <div class=\"header clearfix\"> <nav> <ul class=\"nav nav-pills pull-left\"> <li><a href=\"#\">Ea ullamco</a></li> <li class=\"active\"><a href=\"#\">Pariatur velit</a></li> </ul> </nav> </div> <div class=\"row\"><div class=\"col-lg-3\"> <h4>Magna</h4><p>Nulla occaecat cillum non</p> <a class=\"btn btn-success\" href=\"#\" role=\"button\">Ex eu</a> </div> <div class=\"col-lg-3\"> <h4>Esse</h4><p>Amet aliquip duis ad eu lorem sunt</p> <a class=\"btn btn-warning\" href=\"#\" role=\"button\">Id reprehenderit</a> </div> <div class=\"col-lg-3\"> <h4>Et</h4><p>Amet sed occaecat eiusmod excepteur id nulla voluptate</p> <a class=\"btn btn-danger\" href=\"#\" role=\"button\">Sint eu</a> </div> <div class=\"col-lg-3\"> <h4>Esse</h4><p>Dolor est magna enim ullamco exercitation officia voluptate</p> <a class=\"btn btn-success\" href=\"#\" role=\"button\">Ea quis</a> </div> </div> <div class=\"row\"><div class=\"col-lg-12\"> <h4>Mollit</h4><p>Nostrud mollit commodo veniam voluptate occaecat elit duis</p> <a class=\"btn btn-warning\" href=\"#\" role=\"button\">Nostrud magna</a> </div> </div> <div class=\"row\"><div class=\"col-lg-6\"> <h4>Ea</h4><p>Excepteur nostrud anim tempor duis cupidatat</p> <a class=\"btn btn-warning\" href=\"#\" role=\"button\">Cillum esse</a> </div> <div class=\"col-lg-6\"> <h4>Deserunt</h4><p>In ut do ullamco</p> <a class=\"btn btn-danger\" href=\"#\" role=\"button\">Tempor exercitation</a> </div> </div> </main> </body> </html> \n",
            "    Answer: <html> <body> <main class=\"container\"> <div class=\"header clearfix\"> <nav> <ul class=\"nav nav-pills pull-left\"> <li><a href=\"#\">Velit et</a></li> <li class=\"active\"><a href=\"#\">Pariatur velit</a></li> </ul> </nav> </div> <div class=\"row\"><div class=\"col-lg-3\"> <h4>Magna</h4><p>Nulla occaecat cillum non</p> <a class=\"btn btn-success\" href=\"#\" role=\"button\">Ex eu</a> </div> <div class=\"col-lg-3\"> <h4>Esse</h4><p>Amet aliquip duis ad eu lorem sunt</p> <a class=\"btn btn-warning\" href=\"#\" role=\"button\">Id reprehenderit</a> </div> <div class=\"col-lg-3\"> <h4>Et</h4><p>Amet sed occaecat eiusmod excepteur id nulla voluptate</p> <a class=\"btn btn-danger\" href=\"#\" role=\"button\">Sint eu</a> </div> <div class=\"col-lg-3\"> <h4>Esse</h4><p>Dolor est magna enim ullamco exercitation officia voluptate</p> <a class=\"btn btn-success\" href=\"#\" role=\"button\">Ea quis</a> </div> </div> <div class=\"row\"><div class=\"col-lg-12\"> <h4>Mollit</h4><p>Nostrud mollit commodo veniam voluptate occaecat elit duis</p> <a class=\"btn btn-warning\" href=\"#\" role=\"button\">Nostrud magna</a> </div> </div> <div class=\"row\"><div class=\"col-lg-6\"> <h4>Ea</h4><p>Excepteur nostrud anim tempor duis cupidatat</p> <a class=\"btn btn-warning\" href=\"#\" role=\"button\">Cillum esse</a> </div> <div class=\"col-lg-6\"> <h4>Deserunt</h4><p>In ut do ullamco</p> <a class=\"btn btn-danger\" href=\"#\" role=\"button\">Tempor exercitation</a> </div> </div> </main> </body> </html> \n",
            "      Bleu: 0.99\n",
            "\n",
            "Prediction: <html> <body> <main class=\"container\"> <div class=\"header clearfix\"> <nav> <ul class=\"nav nav-pills pull-left\"> <li><a href=\"#\">Amet commodo</a></li> <li class=\"active\"><a href=\"#\">Reprehenderit do</a></li> </ul> </nav> </div> <div class=\"row\"><div class=\"col-lg-6\"> <h4>Excepteur</h4><p>Consectetur elit deserunt ullamco labore lorem dolor esse</p> <a class=\"btn btn-success\" href=\"#\" role=\"button\">Consequat commodo</a> </div> <div class=\"col-lg-6\"> <h4>Occaecat</h4><p>Pariatur excepteur do et dolore id laborum sint</p> <a class=\"btn btn-warning\" href=\"#\" role=\"button\">Est ex</a> </div> </div> <div class=\"row\"><div class=\"col-lg-12\"> <h4>Irure</h4><p>Consequat in sunt qui dolor reprehenderit proident laboris</p> <a class=\"btn btn-success\" href=\"#\" role=\"button\">Irure dolore</a> </div> </div> <div class=\"row\"><div class=\"col-lg-3\"> <h4>Amet</h4><p>Lorem ut ullamco exercitation fugiat amet</p> <a class=\"btn btn-success\" href=\"#\" role=\"button\">Magna dolore</a> </div> <div class=\"col-lg-3\"> <h4>Dolore</h4><p>Aliquip consectetur ex sint cupidatat pariatur amet elit</p> <a class=\"btn btn-danger\" href=\"#\" role=\"button\">Adipiscing sunt</a> </div> <div class=\"col-lg-3\"> <h4>Do</h4><p>Qui proident officia mollit magna cupidatat esse duis</p> <a class=\"btn btn-warning\" href=\"#\" role=\"button\">Pariatur dolore</a> </div> <div class=\"col-lg-3\"> <h4>Veniam</h4><p>Eu sed pariatur</p> <a class=\"btn btn-success\" href=\"#\" role=\"button\">Sunt cupidatat</a> </div> </div> </main> </body> </html> \n",
            "    Answer: <html> <body> <main class=\"container\"> <div class=\"header clearfix\"> <nav> <ul class=\"nav nav-pills pull-left\"> <li><a href=\"#\">Ad adipiscing</a></li> <li class=\"active\"><a href=\"#\">Reprehenderit do</a></li> </ul> </nav> </div> <div class=\"row\"><div class=\"col-lg-6\"> <h4>Excepteur</h4><p>Consectetur elit deserunt ullamco labore lorem dolor esse</p> <a class=\"btn btn-success\" href=\"#\" role=\"button\">Consequat commodo</a> </div> <div class=\"col-lg-6\"> <h4>Occaecat</h4><p>Pariatur excepteur do et dolore id laborum sint</p> <a class=\"btn btn-warning\" href=\"#\" role=\"button\">Est ex</a> </div> </div> <div class=\"row\"><div class=\"col-lg-12\"> <h4>Irure</h4><p>Consequat in sunt qui dolor reprehenderit proident laboris</p> <a class=\"btn btn-success\" href=\"#\" role=\"button\">Irure dolore</a> </div> </div> <div class=\"row\"><div class=\"col-lg-3\"> <h4>Amet</h4><p>Lorem ut ullamco exercitation fugiat amet</p> <a class=\"btn btn-success\" href=\"#\" role=\"button\">Magna dolore</a> </div> <div class=\"col-lg-3\"> <h4>Dolore</h4><p>Aliquip consectetur ex sint cupidatat pariatur amet elit</p> <a class=\"btn btn-danger\" href=\"#\" role=\"button\">Adipiscing sunt</a> </div> <div class=\"col-lg-3\"> <h4>Do</h4><p>Qui proident officia mollit magna cupidatat esse duis</p> <a class=\"btn btn-warning\" href=\"#\" role=\"button\">Pariatur dolore</a> </div> <div class=\"col-lg-3\"> <h4>Veniam</h4><p>Eu sed pariatur</p> <a class=\"btn btn-success\" href=\"#\" role=\"button\">Sunt cupidatat</a> </div> </div> </main> </body> </html> \n",
            "      Bleu: 0.96\n",
            "\n",
            "Prediction: <html> <body> <main class=\"container\"> <div class=\"header clearfix\"> <nav> <ul class=\"nav nav-pills pull-left\"> <li><a href=\"#\">Aute anim</a></li> <li class=\"active\"><a href=\"#\">Non duis</a></li> </ul> </nav> </div> <div class=\"row\"><div class=\"col-lg-3\"> <h4>Incididunt</h4><p>Enim magna non laborum fugiat qui tempor id</p> <a class=\"btn btn-warning\" href=\"#\" role=\"button\">Nisi duis</a> </div> <div class=\"col-lg-3\"> <h4>Qui</h4><p>Labore officia eu proident excepteur adipiscing nulla id</p> <a class=\"btn btn-warning\" href=\"#\" role=\"button\">Fugiat quis</a> </div> <div class=\"col-lg-3\"> <h4>Duis</h4><p>Ullamco sit ipsum duis cillum minim laborum officia</p> <a class=\"btn btn-success\" href=\"#\" role=\"button\">Officia magna</a> </div> <div class=\"col-lg-3\"> <h4>Qui</h4><p>Aliquip elit ut et sed ipsum laboris aute</p> <a class=\"btn btn-warning\" href=\"#\" role=\"button\">Reprehenderit cupidatat</a> </div> </div> <div class=\"row\"><div class=\"col-lg-12\"> <h4>Ut</h4><p>Non culpa adipiscing reprehenderit nostrud anim</p> <a class=\"btn btn-warning\" href=\"#\" role=\"button\">Duis nulla</a> </div> </div> <div class=\"row\"><div class=\"col-lg-6\"> <h4>Fugiat</h4><p>Ipsum adipiscing sunt labore est aliqua consectetur do</p> <a class=\"btn btn-warning\" href=\"#\" role=\"button\">Elit officia</a> </div> <div class=\"col-lg-6\"> <h4>Tempor</h4><p>Deserunt ut minim aliquip irure aliqua nisi dolore</p> <a class=\"btn btn-warning\" href=\"#\" role=\"button\">Aute amet</a> </div> </div> </main> </body> </html> \n",
            "    Answer: <html> <body> <main class=\"container\"> <div class=\"header clearfix\"> <nav> <ul class=\"nav nav-pills pull-left\"> <li><a href=\"#\">Et irure</a></li> <li class=\"active\"><a href=\"#\">Non duis</a></li> </ul> </nav> </div> <div class=\"row\"><div class=\"col-lg-3\"> <h4>Incididunt</h4><p>Enim magna non laborum fugiat qui tempor id</p> <a class=\"btn btn-warning\" href=\"#\" role=\"button\">Nisi duis</a> </div> <div class=\"col-lg-3\"> <h4>Qui</h4><p>Labore officia eu proident excepteur adipiscing nulla id</p> <a class=\"btn btn-warning\" href=\"#\" role=\"button\">Fugiat quis</a> </div> <div class=\"col-lg-3\"> <h4>Duis</h4><p>Ullamco sit ipsum duis cillum minim laborum officia</p> <a class=\"btn btn-success\" href=\"#\" role=\"button\">Officia magna</a> </div> <div class=\"col-lg-3\"> <h4>Qui</h4><p>Aliquip elit ut et sed ipsum laboris aute</p> <a class=\"btn btn-warning\" href=\"#\" role=\"button\">Reprehenderit cupidatat</a> </div> </div> <div class=\"row\"><div class=\"col-lg-12\"> <h4>Ut</h4><p>Non culpa adipiscing reprehenderit nostrud anim</p> <a class=\"btn btn-warning\" href=\"#\" role=\"button\">Duis nulla</a> </div> </div> <div class=\"row\"><div class=\"col-lg-6\"> <h4>Fugiat</h4><p>Ipsum adipiscing sunt labore est aliqua consectetur do</p> <a class=\"btn btn-warning\" href=\"#\" role=\"button\">Elit officia</a> </div> <div class=\"col-lg-6\"> <h4>Tempor</h4><p>Deserunt ut minim aliquip irure aliqua nisi dolore</p> <a class=\"btn btn-warning\" href=\"#\" role=\"button\">Aute amet</a> </div> </div> </main> </body> </html> \n",
            "      Bleu: 0.97\n",
            "\n",
            "Prediction: <html> <body> <main class=\"container\"> <div class=\"header clearfix\"> <nav> <ul class=\"nav nav-pills pull-left\"> <li><a href=\"#\">Aute anim</a></li> <li><a href=\"#\">Aute anim</a></li> <li><a href=\"#\">Amet anim</a></li> <li class=\"active\"><a href=\"#\">Exercitation elit</a></li> <li><a href=\"#\">Aute anim</a></li> </ul> </nav> </div> <div class=\"row\"><div class=\"col-lg-6\"> <h4>Excepteur</h4><p>Aute proident occaecat lorem incididunt</p> <a class=\"btn btn-danger\" href=\"#\" role=\"button\">Lorem eu</a> </div> <div class=\"col-lg-6\"> <h4>Quis</h4><p>Laboris in ipsum cillum dolor ea sint nostrud</p> <a class=\"btn btn-success\" href=\"#\" role=\"button\">Proident enim</a> </div> </div> <div class=\"row\"><div class=\"col-lg-12\"> <h4>Nisi</h4><p>In et officia consequat lorem eu non nulla</p> <a class=\"btn btn-warning\" href=\"#\" role=\"button\">Ad ut</a> </div> </div> <div class=\"row\"><div class=\"col-lg-3\"> <h4>Laborum</h4><p>Ut sunt occaecat ullamco dolor cupidatat amet est</p> <a class=\"btn btn-warning\" href=\"#\" role=\"button\">Cillum aute</a> </div> <div class=\"col-lg-3\"> <h4>Consequat</h4><p>Voluptate consequat enim aliquip officia aute excepteur pariatur</p> <a class=\"btn btn-success\" href=\"#\" role=\"button\">Labore qui</a> </div> <div class=\"col-lg-3\"> <h4>Qui</h4><p>Mollit sit non voluptate culpa qui sed reprehenderit</p> <a class=\"btn btn-success\" href=\"#\" role=\"button\">Dolore dolor</a> </div> <div class=\"col-lg-3\"> <h4>Fugiat</h4><p>Pariatur reprehenderit sunt ex consequat qui exercitation tempor</p> <a class=\"btn btn-warning\" href=\"#\" role=\"button\">In veniam</a> </div> </div> </main> </body> </html> \n",
            "    Answer: <html> <body> <main class=\"container\"> <div class=\"header clearfix\"> <nav> <ul class=\"nav nav-pills pull-left\"> <li><a href=\"#\">Excepteur culpa</a></li> <li><a href=\"#\">Adipiscing nulla</a></li> <li><a href=\"#\">Amet sed</a></li> <li class=\"active\"><a href=\"#\">Exercitation elit</a></li> <li><a href=\"#\">Tempor aliqua</a></li> </ul> </nav> </div> <div class=\"row\"><div class=\"col-lg-6\"> <h4>Excepteur</h4><p>Aute proident occaecat lorem incididunt</p> <a class=\"btn btn-danger\" href=\"#\" role=\"button\">Lorem eu</a> </div> <div class=\"col-lg-6\"> <h4>Quis</h4><p>Laboris in ipsum cillum dolor ea sint nostrud</p> <a class=\"btn btn-success\" href=\"#\" role=\"button\">Proident enim</a> </div> </div> <div class=\"row\"><div class=\"col-lg-12\"> <h4>Nisi</h4><p>In et officia consequat lorem eu non nulla</p> <a class=\"btn btn-warning\" href=\"#\" role=\"button\">Ad ut</a> </div> </div> <div class=\"row\"><div class=\"col-lg-3\"> <h4>Laborum</h4><p>Ut sunt occaecat ullamco dolor cupidatat amet est</p> <a class=\"btn btn-warning\" href=\"#\" role=\"button\">Cillum aute</a> </div> <div class=\"col-lg-3\"> <h4>Consequat</h4><p>Voluptate consequat enim aliquip officia aute excepteur pariatur</p> <a class=\"btn btn-success\" href=\"#\" role=\"button\">Labore qui</a> </div> <div class=\"col-lg-3\"> <h4>Qui</h4><p>Mollit sit non voluptate culpa qui sed reprehenderit</p> <a class=\"btn btn-success\" href=\"#\" role=\"button\">Dolore dolor</a> </div> <div class=\"col-lg-3\"> <h4>Fugiat</h4><p>Pariatur reprehenderit sunt ex consequat qui exercitation tempor</p> <a class=\"btn btn-warning\" href=\"#\" role=\"button\">In veniam</a> </div> </div> </main> </body> </html> \n",
            "      Bleu: 0.99\n",
            "\n",
            "Prediction: <html> <body> <main class=\"container\"> <div class=\"header clearfix\"> <nav> <ul class=\"nav nav-pills pull-left\"> <li class=\"active\"><a href=\"#\">Cupidatat ipsum</a></li> <li><a href=\"#\">Et aliqua</a></li> <li><a href=\"#\">Et aliqua</a></li> <li><a href=\"#\">Et aliqua</a></li> <li><a href=\"#\">Et aliqua</a></li> </ul> </nav> </div> <div class=\"row\"><div class=\"col-lg-6\"> <h4>Sed</h4><p>Laborum aliqua mollit nisi</p> <a class=\"btn btn-warning\" href=\"#\" role=\"button\">Magna ipsum</a> </div> <div class=\"col-lg-6\"> <h4>Sit</h4><p>Quis sint mollit incididunt ullamco sed ipsum nulla</p> <a class=\"btn btn-danger\" href=\"#\" role=\"button\">Commodo aliquip</a> </div> </div> <div class=\"row\"><div class=\"col-lg-12\"> <h4>Voluptate</h4><p>Incididunt nulla eu sed eiusmod tempor est proident</p> <a class=\"btn btn-danger\" href=\"#\" role=\"button\">Do proident</a> </div> </div> <div class=\"row\"><div class=\"col-lg-3\"> <h4>Quis</h4><p>Enim nostrud sunt adipiscing irure duis sed tempor</p> <a class=\"btn btn-warning\" href=\"#\" role=\"button\">Ad voluptate</a> </div> <div class=\"col-lg-3\"> <h4>Veniam</h4><p>Aute dolore proident reprehenderit sed</p> <a class=\"btn btn-danger\" href=\"#\" role=\"button\">Excepteur veniam</a> </div> <div class=\"col-lg-3\"> <h4>Dolore</h4><p>Adipiscing ipsum elit sunt in duis cillum eiusmod</p> <a class=\"btn btn-danger\" href=\"#\" role=\"button\">Nisi consequat</a> </div> <div class=\"col-lg-3\"> <h4>Aliqua</h4><p>Elit cupidatat aliqua ullamco mollit excepteur laboris cillum</p> <a class=\"btn btn-success\" href=\"#\" role=\"button\">Enim lorem</a> </div> </div> </main> </body> </html> \n",
            "    Answer: <html> <body> <main class=\"container\"> <div class=\"header clearfix\"> <nav> <ul class=\"nav nav-pills pull-left\"> <li class=\"active\"><a href=\"#\">Cupidatat ipsum</a></li> <li><a href=\"#\">Amet adipiscing</a></li> <li><a href=\"#\">Pariatur enim</a></li> <li><a href=\"#\">Exercitation pariatur</a></li> </ul> </nav> </div> <div class=\"row\"><div class=\"col-lg-6\"> <h4>Sed</h4><p>Laborum aliqua mollit nisi</p> <a class=\"btn btn-warning\" href=\"#\" role=\"button\">Magna ipsum</a> </div> <div class=\"col-lg-6\"> <h4>Sit</h4><p>Quis sint mollit incididunt ullamco sed ipsum nulla</p> <a class=\"btn btn-danger\" href=\"#\" role=\"button\">Commodo aliquip</a> </div> </div> <div class=\"row\"><div class=\"col-lg-12\"> <h4>Voluptate</h4><p>Incididunt nulla eu sed eiusmod tempor est proident</p> <a class=\"btn btn-danger\" href=\"#\" role=\"button\">Do proident</a> </div> </div> <div class=\"row\"><div class=\"col-lg-3\"> <h4>Quis</h4><p>Enim nostrud sunt adipiscing irure duis sed tempor</p> <a class=\"btn btn-warning\" href=\"#\" role=\"button\">Ad voluptate</a> </div> <div class=\"col-lg-3\"> <h4>Veniam</h4><p>Aute dolore proident reprehenderit sed</p> <a class=\"btn btn-danger\" href=\"#\" role=\"button\">Excepteur veniam</a> </div> <div class=\"col-lg-3\"> <h4>Dolore</h4><p>Adipiscing ipsum elit sunt in duis cillum eiusmod</p> <a class=\"btn btn-danger\" href=\"#\" role=\"button\">Nisi consequat</a> </div> <div class=\"col-lg-3\"> <h4>Aliqua</h4><p>Elit cupidatat aliqua ullamco mollit excepteur laboris cillum</p> <a class=\"btn btn-success\" href=\"#\" role=\"button\">Enim lorem</a> </div> </div> </main> </body> </html> \n",
            "      Bleu: 0.96\n",
            "\n",
            "Prediction: <html> <body> <main class=\"container\"> <div class=\"header clearfix\"> <nav> <ul class=\"nav nav-pills pull-left\"> <li><a href=\"#\">Amet commodo</a></li> <li><a href=\"#\">Amet commodo</a></li> <li class=\"active\"><a href=\"#\">Consequat nulla</a></li> <li><a href=\"#\">Sed commodo</a></li> <li><a href=\"#\">Sed ullamco</a></li> </ul> </nav> </div> <div class=\"row\"><div class=\"col-lg-6\"> <h4>Sed</h4><p>Labore aliquip commodo anim elit eu lorem qui</p> <a class=\"btn btn-danger\" href=\"#\" role=\"button\">Proident mollit</a> </div> <div class=\"col-lg-6\"> <h4>Laborum</h4><p>Amet excepteur aliquip minim lorem</p> <a class=\"btn btn-warning\" href=\"#\" role=\"button\">Adipiscing sed</a> </div> </div> <div class=\"row\"><div class=\"col-lg-12\"> <h4>Laborum</h4><p>Consequat nulla id laborum sed ipsum magna proident</p> <a class=\"btn btn-warning\" href=\"#\" role=\"button\">Consequat ad</a> </div> </div> <div class=\"row\"><div class=\"col-lg-3\"> <h4>Ea</h4><p>Ex officia adipiscing est</p> <a class=\"btn btn-success\" href=\"#\" role=\"button\">Sunt occaecat</a> </div> <div class=\"col-lg-3\"> <h4>Do</h4><p>Amet laborum culpa ad aliquip deserunt id sed</p> <a class=\"btn btn-warning\" href=\"#\" role=\"button\">Sed aliqua</a> </div> <div class=\"col-lg-3\"> <h4>Excepteur</h4><p>Sint magna</p> <a class=\"btn btn-success\" href=\"#\" role=\"button\">Do lorem</a> </div> <div class=\"col-lg-3\"> <h4>Aute</h4><p>Non ad consequat reprehenderit ut nulla</p> <a class=\"btn btn-danger\" href=\"#\" role=\"button\">Eu et</a> </div> </div> </main> </body> </html> \n",
            "    Answer: <html> <body> <main class=\"container\"> <div class=\"header clearfix\"> <nav> <ul class=\"nav nav-pills pull-left\"> <li><a href=\"#\">Cillum deserunt</a></li> <li><a href=\"#\">Culpa fugiat</a></li> <li class=\"active\"><a href=\"#\">Consequat nulla</a></li> <li><a href=\"#\">Quis ullamco</a></li> <li><a href=\"#\">Commodo non</a></li> </ul> </nav> </div> <div class=\"row\"><div class=\"col-lg-6\"> <h4>Sed</h4><p>Labore aliquip commodo anim elit eu lorem qui</p> <a class=\"btn btn-danger\" href=\"#\" role=\"button\">Proident mollit</a> </div> <div class=\"col-lg-6\"> <h4>Laborum</h4><p>Amet excepteur aliquip minim lorem</p> <a class=\"btn btn-warning\" href=\"#\" role=\"button\">Adipiscing sed</a> </div> </div> <div class=\"row\"><div class=\"col-lg-12\"> <h4>Laborum</h4><p>Consequat nulla id laborum sed ipsum magna proident</p> <a class=\"btn btn-warning\" href=\"#\" role=\"button\">Consequat ad</a> </div> </div> <div class=\"row\"><div class=\"col-lg-3\"> <h4>Ea</h4><p>Ex officia adipiscing est</p> <a class=\"btn btn-success\" href=\"#\" role=\"button\">Sunt occaecat</a> </div> <div class=\"col-lg-3\"> <h4>Do</h4><p>Amet laborum culpa ad aliquip deserunt id sed</p> <a class=\"btn btn-warning\" href=\"#\" role=\"button\">Sed aliqua</a> </div> <div class=\"col-lg-3\"> <h4>Excepteur</h4><p>Sint magna</p> <a class=\"btn btn-success\" href=\"#\" role=\"button\">Do lorem</a> </div> <div class=\"col-lg-3\"> <h4>Aute</h4><p>Non ad consequat reprehenderit ut nulla</p> <a class=\"btn btn-danger\" href=\"#\" role=\"button\">Eu et</a> </div> </div> </main> </body> </html> \n",
            "      Bleu: 0.97\n",
            "\n",
            "Prediction: <html> <body> <main class=\"container\"> <div class=\"header clearfix\"> <nav> <ul class=\"nav nav-pills pull-left\"> <li class=\"active\"><a href=\"#\">Incididunt ullamco</a></li> <li><a href=\"#\">Et ullamco</a></li> <li><a href=\"#\">Et nostrud</a></li> <li><a href=\"#\">Et nostrud</a></li> </ul> </nav> </div> <div class=\"row\"><div class=\"col-lg-6\"> <h4>Anim</h4><p>Anim magna nulla amet</p> <a class=\"btn btn-danger\" href=\"#\" role=\"button\">Deserunt ipsum</a> </div> <div class=\"col-lg-6\"> <h4>Do</h4><p>Id mollit nisi ullamco minim anim ex adipiscing</p> <a class=\"btn btn-danger\" href=\"#\" role=\"button\">Aute eiusmod</a> </div> </div> <div class=\"row\"><div class=\"col-lg-3\"> <h4>Tempor</h4><p>Officia eu lorem dolore sunt ut mollit anim</p> <a class=\"btn btn-success\" href=\"#\" role=\"button\">Voluptate ullamco</a> </div> <div class=\"col-lg-3\"> <h4>Cupidatat</h4><p>Nostrud occaecat est magna dolor cillum pariatur veniam</p> <a class=\"btn btn-warning\" href=\"#\" role=\"button\">Cillum nisi</a> </div> <div class=\"col-lg-3\"> <h4>Elit</h4><p>Id laborum adipiscing elit sint deserunt consequat nostrud</p> <a class=\"btn btn-success\" href=\"#\" role=\"button\">Veniam adipiscing</a> </div> <div class=\"col-lg-3\"> <h4>Ut</h4><p>Cupidatat aliqua quis eiusmod nulla exercitation reprehenderit do</p> <a class=\"btn btn-success\" href=\"#\" role=\"button\">Consequat tempor</a> </div> </div> <div class=\"row\"><div class=\"col-lg-12\"> <h4>Exercitation</h4><p>Labore dolore ipsum mollit nisi sint sit adipiscing</p> <a class=\"btn btn-success\" href=\"#\" role=\"button\">Dolor nulla</a> </div> </div> </main> </body> </html> \n",
            "    Answer: <html> <body> <main class=\"container\"> <div class=\"header clearfix\"> <nav> <ul class=\"nav nav-pills pull-left\"> <li class=\"active\"><a href=\"#\">Incididunt ullamco</a></li> <li><a href=\"#\">Quis id</a></li> <li><a href=\"#\">Duis fugiat</a></li> <li><a href=\"#\">Est sunt</a></li> </ul> </nav> </div> <div class=\"row\"><div class=\"col-lg-6\"> <h4>Anim</h4><p>Anim magna nulla amet</p> <a class=\"btn btn-danger\" href=\"#\" role=\"button\">Deserunt ipsum</a> </div> <div class=\"col-lg-6\"> <h4>Do</h4><p>Id mollit nisi ullamco minim anim ex adipiscing</p> <a class=\"btn btn-danger\" href=\"#\" role=\"button\">Aute eiusmod</a> </div> </div> <div class=\"row\"><div class=\"col-lg-3\"> <h4>Tempor</h4><p>Officia eu lorem dolore sunt ut mollit anim</p> <a class=\"btn btn-success\" href=\"#\" role=\"button\">Voluptate ullamco</a> </div> <div class=\"col-lg-3\"> <h4>Cupidatat</h4><p>Nostrud occaecat est magna dolor cillum pariatur veniam</p> <a class=\"btn btn-warning\" href=\"#\" role=\"button\">Cillum nisi</a> </div> <div class=\"col-lg-3\"> <h4>Elit</h4><p>Id laborum adipiscing elit sint deserunt consequat nostrud</p> <a class=\"btn btn-success\" href=\"#\" role=\"button\">Veniam adipiscing</a> </div> <div class=\"col-lg-3\"> <h4>Ut</h4><p>Cupidatat aliqua quis eiusmod nulla exercitation reprehenderit do</p> <a class=\"btn btn-success\" href=\"#\" role=\"button\">Consequat tempor</a> </div> </div> <div class=\"row\"><div class=\"col-lg-12\"> <h4>Exercitation</h4><p>Labore dolore ipsum mollit nisi sint sit adipiscing</p> <a class=\"btn btn-success\" href=\"#\" role=\"button\">Dolor nulla</a> </div> </div> </main> </body> </html> \n",
            "      Bleu: 0.97\n",
            " Avg Bleu Score: 0.98\n"
          ]
        },
        {
          "output_type": "stream",
          "name": "stderr",
          "text": [
            "\n"
          ]
        },
        {
          "output_type": "display_data",
          "data": {
            "text/plain": [
              "<IPython.core.display.HTML object>"
            ],
            "text/html": [
              "Waiting for W&B process to finish... <strong style=\"color:green\">(success).</strong>"
            ]
          },
          "metadata": {}
        },
        {
          "output_type": "display_data",
          "data": {
            "text/plain": [
              "<IPython.core.display.HTML object>"
            ],
            "text/html": [
              "<style>\n",
              "    table.wandb td:nth-child(1) { padding: 0 10px; text-align: left ; width: auto;} td:nth-child(2) {text-align: left ; width: 100%}\n",
              "    .wandb-row { display: flex; flex-direction: row; flex-wrap: wrap; justify-content: flex-start; width: 100% }\n",
              "    .wandb-col { display: flex; flex-direction: column; flex-basis: 100%; flex: 1; padding: 10px; }\n",
              "    </style>\n",
              "<div class=\"wandb-row\"><div class=\"wandb-col\"><h3>Run history:</h3><br/><table class=\"wandb\"><tr><td>bleu</td><td>▁███</td></tr><tr><td>loss</td><td>█▄▂▂▂▁▁▁▁▁▁▁▁▁▁▁▁▁▁▁▁▁▁▁▁▁▁▁▁▁▁▁▁▁▁▁▁▁▁▁</td></tr><tr><td>lr_0</td><td>▄▆██▇▇▆▅▄▃▃▂▁▁▁</td></tr><tr><td>moving_avg_loss</td><td>█▄▃▂▂▂▂▁▁▁▁▁▁▁▁</td></tr></table><br/></div><div class=\"wandb-col\"><h3>Run summary:</h3><br/><table class=\"wandb\"><tr><td>bleu</td><td>0.9754</td></tr><tr><td>loss</td><td>0.06261</td></tr><tr><td>lr_0</td><td>0.0</td></tr><tr><td>moving_avg_loss</td><td>0.0528</td></tr></table><br/></div></div>"
            ]
          },
          "metadata": {}
        },
        {
          "output_type": "display_data",
          "data": {
            "text/plain": [
              "<IPython.core.display.HTML object>"
            ],
            "text/html": [
              " View run <strong style=\"color:#cdcd00\">run-Pix2Struct_Pix2Code_HTML_LI_FULL</strong> at: <a href='https://wandb.ai/team-gs/Pix2Struct/runs/edsm5km1' target=\"_blank\">https://wandb.ai/team-gs/Pix2Struct/runs/edsm5km1</a><br/>Synced 5 W&B file(s), 0 media file(s), 0 artifact file(s) and 0 other file(s)"
            ]
          },
          "metadata": {}
        },
        {
          "output_type": "display_data",
          "data": {
            "text/plain": [
              "<IPython.core.display.HTML object>"
            ],
            "text/html": [
              "Find logs at: <code>./wandb/run-20230925_142547-edsm5km1/logs</code>"
            ]
          },
          "metadata": {}
        }
      ],
      "source": [
        "train_model(config, processor, model, train_dataloader, val_dataloader)"
      ]
    }
  ]
}