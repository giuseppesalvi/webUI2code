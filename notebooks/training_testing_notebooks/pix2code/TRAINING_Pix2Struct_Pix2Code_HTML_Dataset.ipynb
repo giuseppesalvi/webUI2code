{
  "nbformat": 4,
  "nbformat_minor": 0,
  "metadata": {
    "colab": {
      "provenance": [],
      "gpuType": "A100",
      "machine_shape": "hm"
    },
    "kernelspec": {
      "name": "python3",
      "display_name": "Python 3"
    },
    "language_info": {
      "name": "python"
    },
    "accelerator": "GPU",
    "widgets": {
      "application/vnd.jupyter.widget-state+json": {
        "030f21f84b024a81b4a8f8874bd5b0c1": {
          "model_module": "@jupyter-widgets/controls",
          "model_name": "HBoxModel",
          "model_module_version": "1.5.0",
          "state": {
            "_dom_classes": [],
            "_model_module": "@jupyter-widgets/controls",
            "_model_module_version": "1.5.0",
            "_model_name": "HBoxModel",
            "_view_count": null,
            "_view_module": "@jupyter-widgets/controls",
            "_view_module_version": "1.5.0",
            "_view_name": "HBoxView",
            "box_style": "",
            "children": [
              "IPY_MODEL_41bff72842014f24868ab0809c4cdd29",
              "IPY_MODEL_efb50ae3c49b4a96980078d42b3cc344",
              "IPY_MODEL_bd518d28443a43419a82f128a93d6bfd"
            ],
            "layout": "IPY_MODEL_b67cd4f36dd14dc2b6fd8880b97b6827"
          }
        },
        "41bff72842014f24868ab0809c4cdd29": {
          "model_module": "@jupyter-widgets/controls",
          "model_name": "HTMLModel",
          "model_module_version": "1.5.0",
          "state": {
            "_dom_classes": [],
            "_model_module": "@jupyter-widgets/controls",
            "_model_module_version": "1.5.0",
            "_model_name": "HTMLModel",
            "_view_count": null,
            "_view_module": "@jupyter-widgets/controls",
            "_view_module_version": "1.5.0",
            "_view_name": "HTMLView",
            "description": "",
            "description_tooltip": null,
            "layout": "IPY_MODEL_1e616b8c99174e48b12c73964aaf3267",
            "placeholder": "​",
            "style": "IPY_MODEL_ac00f64ded194bd198e56af82bb7b36b",
            "value": "Downloading (…)rocessor_config.json: 100%"
          }
        },
        "efb50ae3c49b4a96980078d42b3cc344": {
          "model_module": "@jupyter-widgets/controls",
          "model_name": "FloatProgressModel",
          "model_module_version": "1.5.0",
          "state": {
            "_dom_classes": [],
            "_model_module": "@jupyter-widgets/controls",
            "_model_module_version": "1.5.0",
            "_model_name": "FloatProgressModel",
            "_view_count": null,
            "_view_module": "@jupyter-widgets/controls",
            "_view_module_version": "1.5.0",
            "_view_name": "ProgressView",
            "bar_style": "success",
            "description": "",
            "description_tooltip": null,
            "layout": "IPY_MODEL_41b1cf9a2a444f3f86566dee9ffac525",
            "max": 231,
            "min": 0,
            "orientation": "horizontal",
            "style": "IPY_MODEL_275c7ea0ffe94464a742b06e34513657",
            "value": 231
          }
        },
        "bd518d28443a43419a82f128a93d6bfd": {
          "model_module": "@jupyter-widgets/controls",
          "model_name": "HTMLModel",
          "model_module_version": "1.5.0",
          "state": {
            "_dom_classes": [],
            "_model_module": "@jupyter-widgets/controls",
            "_model_module_version": "1.5.0",
            "_model_name": "HTMLModel",
            "_view_count": null,
            "_view_module": "@jupyter-widgets/controls",
            "_view_module_version": "1.5.0",
            "_view_name": "HTMLView",
            "description": "",
            "description_tooltip": null,
            "layout": "IPY_MODEL_80848130634b4a56979d0171157e1589",
            "placeholder": "​",
            "style": "IPY_MODEL_11ec1bbf315048489e548eae530fbc20",
            "value": " 231/231 [00:00&lt;00:00, 20.0kB/s]"
          }
        },
        "b67cd4f36dd14dc2b6fd8880b97b6827": {
          "model_module": "@jupyter-widgets/base",
          "model_name": "LayoutModel",
          "model_module_version": "1.2.0",
          "state": {
            "_model_module": "@jupyter-widgets/base",
            "_model_module_version": "1.2.0",
            "_model_name": "LayoutModel",
            "_view_count": null,
            "_view_module": "@jupyter-widgets/base",
            "_view_module_version": "1.2.0",
            "_view_name": "LayoutView",
            "align_content": null,
            "align_items": null,
            "align_self": null,
            "border": null,
            "bottom": null,
            "display": null,
            "flex": null,
            "flex_flow": null,
            "grid_area": null,
            "grid_auto_columns": null,
            "grid_auto_flow": null,
            "grid_auto_rows": null,
            "grid_column": null,
            "grid_gap": null,
            "grid_row": null,
            "grid_template_areas": null,
            "grid_template_columns": null,
            "grid_template_rows": null,
            "height": null,
            "justify_content": null,
            "justify_items": null,
            "left": null,
            "margin": null,
            "max_height": null,
            "max_width": null,
            "min_height": null,
            "min_width": null,
            "object_fit": null,
            "object_position": null,
            "order": null,
            "overflow": null,
            "overflow_x": null,
            "overflow_y": null,
            "padding": null,
            "right": null,
            "top": null,
            "visibility": null,
            "width": null
          }
        },
        "1e616b8c99174e48b12c73964aaf3267": {
          "model_module": "@jupyter-widgets/base",
          "model_name": "LayoutModel",
          "model_module_version": "1.2.0",
          "state": {
            "_model_module": "@jupyter-widgets/base",
            "_model_module_version": "1.2.0",
            "_model_name": "LayoutModel",
            "_view_count": null,
            "_view_module": "@jupyter-widgets/base",
            "_view_module_version": "1.2.0",
            "_view_name": "LayoutView",
            "align_content": null,
            "align_items": null,
            "align_self": null,
            "border": null,
            "bottom": null,
            "display": null,
            "flex": null,
            "flex_flow": null,
            "grid_area": null,
            "grid_auto_columns": null,
            "grid_auto_flow": null,
            "grid_auto_rows": null,
            "grid_column": null,
            "grid_gap": null,
            "grid_row": null,
            "grid_template_areas": null,
            "grid_template_columns": null,
            "grid_template_rows": null,
            "height": null,
            "justify_content": null,
            "justify_items": null,
            "left": null,
            "margin": null,
            "max_height": null,
            "max_width": null,
            "min_height": null,
            "min_width": null,
            "object_fit": null,
            "object_position": null,
            "order": null,
            "overflow": null,
            "overflow_x": null,
            "overflow_y": null,
            "padding": null,
            "right": null,
            "top": null,
            "visibility": null,
            "width": null
          }
        },
        "ac00f64ded194bd198e56af82bb7b36b": {
          "model_module": "@jupyter-widgets/controls",
          "model_name": "DescriptionStyleModel",
          "model_module_version": "1.5.0",
          "state": {
            "_model_module": "@jupyter-widgets/controls",
            "_model_module_version": "1.5.0",
            "_model_name": "DescriptionStyleModel",
            "_view_count": null,
            "_view_module": "@jupyter-widgets/base",
            "_view_module_version": "1.2.0",
            "_view_name": "StyleView",
            "description_width": ""
          }
        },
        "41b1cf9a2a444f3f86566dee9ffac525": {
          "model_module": "@jupyter-widgets/base",
          "model_name": "LayoutModel",
          "model_module_version": "1.2.0",
          "state": {
            "_model_module": "@jupyter-widgets/base",
            "_model_module_version": "1.2.0",
            "_model_name": "LayoutModel",
            "_view_count": null,
            "_view_module": "@jupyter-widgets/base",
            "_view_module_version": "1.2.0",
            "_view_name": "LayoutView",
            "align_content": null,
            "align_items": null,
            "align_self": null,
            "border": null,
            "bottom": null,
            "display": null,
            "flex": null,
            "flex_flow": null,
            "grid_area": null,
            "grid_auto_columns": null,
            "grid_auto_flow": null,
            "grid_auto_rows": null,
            "grid_column": null,
            "grid_gap": null,
            "grid_row": null,
            "grid_template_areas": null,
            "grid_template_columns": null,
            "grid_template_rows": null,
            "height": null,
            "justify_content": null,
            "justify_items": null,
            "left": null,
            "margin": null,
            "max_height": null,
            "max_width": null,
            "min_height": null,
            "min_width": null,
            "object_fit": null,
            "object_position": null,
            "order": null,
            "overflow": null,
            "overflow_x": null,
            "overflow_y": null,
            "padding": null,
            "right": null,
            "top": null,
            "visibility": null,
            "width": null
          }
        },
        "275c7ea0ffe94464a742b06e34513657": {
          "model_module": "@jupyter-widgets/controls",
          "model_name": "ProgressStyleModel",
          "model_module_version": "1.5.0",
          "state": {
            "_model_module": "@jupyter-widgets/controls",
            "_model_module_version": "1.5.0",
            "_model_name": "ProgressStyleModel",
            "_view_count": null,
            "_view_module": "@jupyter-widgets/base",
            "_view_module_version": "1.2.0",
            "_view_name": "StyleView",
            "bar_color": null,
            "description_width": ""
          }
        },
        "80848130634b4a56979d0171157e1589": {
          "model_module": "@jupyter-widgets/base",
          "model_name": "LayoutModel",
          "model_module_version": "1.2.0",
          "state": {
            "_model_module": "@jupyter-widgets/base",
            "_model_module_version": "1.2.0",
            "_model_name": "LayoutModel",
            "_view_count": null,
            "_view_module": "@jupyter-widgets/base",
            "_view_module_version": "1.2.0",
            "_view_name": "LayoutView",
            "align_content": null,
            "align_items": null,
            "align_self": null,
            "border": null,
            "bottom": null,
            "display": null,
            "flex": null,
            "flex_flow": null,
            "grid_area": null,
            "grid_auto_columns": null,
            "grid_auto_flow": null,
            "grid_auto_rows": null,
            "grid_column": null,
            "grid_gap": null,
            "grid_row": null,
            "grid_template_areas": null,
            "grid_template_columns": null,
            "grid_template_rows": null,
            "height": null,
            "justify_content": null,
            "justify_items": null,
            "left": null,
            "margin": null,
            "max_height": null,
            "max_width": null,
            "min_height": null,
            "min_width": null,
            "object_fit": null,
            "object_position": null,
            "order": null,
            "overflow": null,
            "overflow_x": null,
            "overflow_y": null,
            "padding": null,
            "right": null,
            "top": null,
            "visibility": null,
            "width": null
          }
        },
        "11ec1bbf315048489e548eae530fbc20": {
          "model_module": "@jupyter-widgets/controls",
          "model_name": "DescriptionStyleModel",
          "model_module_version": "1.5.0",
          "state": {
            "_model_module": "@jupyter-widgets/controls",
            "_model_module_version": "1.5.0",
            "_model_name": "DescriptionStyleModel",
            "_view_count": null,
            "_view_module": "@jupyter-widgets/base",
            "_view_module_version": "1.2.0",
            "_view_name": "StyleView",
            "description_width": ""
          }
        },
        "7f203c4b67ed4a818a3341218c89cbce": {
          "model_module": "@jupyter-widgets/controls",
          "model_name": "HBoxModel",
          "model_module_version": "1.5.0",
          "state": {
            "_dom_classes": [],
            "_model_module": "@jupyter-widgets/controls",
            "_model_module_version": "1.5.0",
            "_model_name": "HBoxModel",
            "_view_count": null,
            "_view_module": "@jupyter-widgets/controls",
            "_view_module_version": "1.5.0",
            "_view_name": "HBoxView",
            "box_style": "",
            "children": [
              "IPY_MODEL_5813ca26327246b7986e3af3a7535447",
              "IPY_MODEL_1ca68e34780f4e0f9b2bea73c55f64a4",
              "IPY_MODEL_39651734f8c041a399e01ced9e1d803e"
            ],
            "layout": "IPY_MODEL_1743886f95e2476da883197363992cc0"
          }
        },
        "5813ca26327246b7986e3af3a7535447": {
          "model_module": "@jupyter-widgets/controls",
          "model_name": "HTMLModel",
          "model_module_version": "1.5.0",
          "state": {
            "_dom_classes": [],
            "_model_module": "@jupyter-widgets/controls",
            "_model_module_version": "1.5.0",
            "_model_name": "HTMLModel",
            "_view_count": null,
            "_view_module": "@jupyter-widgets/controls",
            "_view_module_version": "1.5.0",
            "_view_name": "HTMLView",
            "description": "",
            "description_tooltip": null,
            "layout": "IPY_MODEL_b54d3c5153bd4a92a0770bb9a0c4530e",
            "placeholder": "​",
            "style": "IPY_MODEL_9381bdddd30042728202c0d59d80678a",
            "value": "Downloading (…)okenizer_config.json: 100%"
          }
        },
        "1ca68e34780f4e0f9b2bea73c55f64a4": {
          "model_module": "@jupyter-widgets/controls",
          "model_name": "FloatProgressModel",
          "model_module_version": "1.5.0",
          "state": {
            "_dom_classes": [],
            "_model_module": "@jupyter-widgets/controls",
            "_model_module_version": "1.5.0",
            "_model_name": "FloatProgressModel",
            "_view_count": null,
            "_view_module": "@jupyter-widgets/controls",
            "_view_module_version": "1.5.0",
            "_view_name": "ProgressView",
            "bar_style": "success",
            "description": "",
            "description_tooltip": null,
            "layout": "IPY_MODEL_b90c3b82410d4cfbb82d8c5182e6378d",
            "max": 2613,
            "min": 0,
            "orientation": "horizontal",
            "style": "IPY_MODEL_c2ab936366e64affbecd338f9c4b8665",
            "value": 2613
          }
        },
        "39651734f8c041a399e01ced9e1d803e": {
          "model_module": "@jupyter-widgets/controls",
          "model_name": "HTMLModel",
          "model_module_version": "1.5.0",
          "state": {
            "_dom_classes": [],
            "_model_module": "@jupyter-widgets/controls",
            "_model_module_version": "1.5.0",
            "_model_name": "HTMLModel",
            "_view_count": null,
            "_view_module": "@jupyter-widgets/controls",
            "_view_module_version": "1.5.0",
            "_view_name": "HTMLView",
            "description": "",
            "description_tooltip": null,
            "layout": "IPY_MODEL_f2049275425a4c509e01b918335a9627",
            "placeholder": "​",
            "style": "IPY_MODEL_ceac434ba8d440698b50eeee175828e2",
            "value": " 2.61k/2.61k [00:00&lt;00:00, 237kB/s]"
          }
        },
        "1743886f95e2476da883197363992cc0": {
          "model_module": "@jupyter-widgets/base",
          "model_name": "LayoutModel",
          "model_module_version": "1.2.0",
          "state": {
            "_model_module": "@jupyter-widgets/base",
            "_model_module_version": "1.2.0",
            "_model_name": "LayoutModel",
            "_view_count": null,
            "_view_module": "@jupyter-widgets/base",
            "_view_module_version": "1.2.0",
            "_view_name": "LayoutView",
            "align_content": null,
            "align_items": null,
            "align_self": null,
            "border": null,
            "bottom": null,
            "display": null,
            "flex": null,
            "flex_flow": null,
            "grid_area": null,
            "grid_auto_columns": null,
            "grid_auto_flow": null,
            "grid_auto_rows": null,
            "grid_column": null,
            "grid_gap": null,
            "grid_row": null,
            "grid_template_areas": null,
            "grid_template_columns": null,
            "grid_template_rows": null,
            "height": null,
            "justify_content": null,
            "justify_items": null,
            "left": null,
            "margin": null,
            "max_height": null,
            "max_width": null,
            "min_height": null,
            "min_width": null,
            "object_fit": null,
            "object_position": null,
            "order": null,
            "overflow": null,
            "overflow_x": null,
            "overflow_y": null,
            "padding": null,
            "right": null,
            "top": null,
            "visibility": null,
            "width": null
          }
        },
        "b54d3c5153bd4a92a0770bb9a0c4530e": {
          "model_module": "@jupyter-widgets/base",
          "model_name": "LayoutModel",
          "model_module_version": "1.2.0",
          "state": {
            "_model_module": "@jupyter-widgets/base",
            "_model_module_version": "1.2.0",
            "_model_name": "LayoutModel",
            "_view_count": null,
            "_view_module": "@jupyter-widgets/base",
            "_view_module_version": "1.2.0",
            "_view_name": "LayoutView",
            "align_content": null,
            "align_items": null,
            "align_self": null,
            "border": null,
            "bottom": null,
            "display": null,
            "flex": null,
            "flex_flow": null,
            "grid_area": null,
            "grid_auto_columns": null,
            "grid_auto_flow": null,
            "grid_auto_rows": null,
            "grid_column": null,
            "grid_gap": null,
            "grid_row": null,
            "grid_template_areas": null,
            "grid_template_columns": null,
            "grid_template_rows": null,
            "height": null,
            "justify_content": null,
            "justify_items": null,
            "left": null,
            "margin": null,
            "max_height": null,
            "max_width": null,
            "min_height": null,
            "min_width": null,
            "object_fit": null,
            "object_position": null,
            "order": null,
            "overflow": null,
            "overflow_x": null,
            "overflow_y": null,
            "padding": null,
            "right": null,
            "top": null,
            "visibility": null,
            "width": null
          }
        },
        "9381bdddd30042728202c0d59d80678a": {
          "model_module": "@jupyter-widgets/controls",
          "model_name": "DescriptionStyleModel",
          "model_module_version": "1.5.0",
          "state": {
            "_model_module": "@jupyter-widgets/controls",
            "_model_module_version": "1.5.0",
            "_model_name": "DescriptionStyleModel",
            "_view_count": null,
            "_view_module": "@jupyter-widgets/base",
            "_view_module_version": "1.2.0",
            "_view_name": "StyleView",
            "description_width": ""
          }
        },
        "b90c3b82410d4cfbb82d8c5182e6378d": {
          "model_module": "@jupyter-widgets/base",
          "model_name": "LayoutModel",
          "model_module_version": "1.2.0",
          "state": {
            "_model_module": "@jupyter-widgets/base",
            "_model_module_version": "1.2.0",
            "_model_name": "LayoutModel",
            "_view_count": null,
            "_view_module": "@jupyter-widgets/base",
            "_view_module_version": "1.2.0",
            "_view_name": "LayoutView",
            "align_content": null,
            "align_items": null,
            "align_self": null,
            "border": null,
            "bottom": null,
            "display": null,
            "flex": null,
            "flex_flow": null,
            "grid_area": null,
            "grid_auto_columns": null,
            "grid_auto_flow": null,
            "grid_auto_rows": null,
            "grid_column": null,
            "grid_gap": null,
            "grid_row": null,
            "grid_template_areas": null,
            "grid_template_columns": null,
            "grid_template_rows": null,
            "height": null,
            "justify_content": null,
            "justify_items": null,
            "left": null,
            "margin": null,
            "max_height": null,
            "max_width": null,
            "min_height": null,
            "min_width": null,
            "object_fit": null,
            "object_position": null,
            "order": null,
            "overflow": null,
            "overflow_x": null,
            "overflow_y": null,
            "padding": null,
            "right": null,
            "top": null,
            "visibility": null,
            "width": null
          }
        },
        "c2ab936366e64affbecd338f9c4b8665": {
          "model_module": "@jupyter-widgets/controls",
          "model_name": "ProgressStyleModel",
          "model_module_version": "1.5.0",
          "state": {
            "_model_module": "@jupyter-widgets/controls",
            "_model_module_version": "1.5.0",
            "_model_name": "ProgressStyleModel",
            "_view_count": null,
            "_view_module": "@jupyter-widgets/base",
            "_view_module_version": "1.2.0",
            "_view_name": "StyleView",
            "bar_color": null,
            "description_width": ""
          }
        },
        "f2049275425a4c509e01b918335a9627": {
          "model_module": "@jupyter-widgets/base",
          "model_name": "LayoutModel",
          "model_module_version": "1.2.0",
          "state": {
            "_model_module": "@jupyter-widgets/base",
            "_model_module_version": "1.2.0",
            "_model_name": "LayoutModel",
            "_view_count": null,
            "_view_module": "@jupyter-widgets/base",
            "_view_module_version": "1.2.0",
            "_view_name": "LayoutView",
            "align_content": null,
            "align_items": null,
            "align_self": null,
            "border": null,
            "bottom": null,
            "display": null,
            "flex": null,
            "flex_flow": null,
            "grid_area": null,
            "grid_auto_columns": null,
            "grid_auto_flow": null,
            "grid_auto_rows": null,
            "grid_column": null,
            "grid_gap": null,
            "grid_row": null,
            "grid_template_areas": null,
            "grid_template_columns": null,
            "grid_template_rows": null,
            "height": null,
            "justify_content": null,
            "justify_items": null,
            "left": null,
            "margin": null,
            "max_height": null,
            "max_width": null,
            "min_height": null,
            "min_width": null,
            "object_fit": null,
            "object_position": null,
            "order": null,
            "overflow": null,
            "overflow_x": null,
            "overflow_y": null,
            "padding": null,
            "right": null,
            "top": null,
            "visibility": null,
            "width": null
          }
        },
        "ceac434ba8d440698b50eeee175828e2": {
          "model_module": "@jupyter-widgets/controls",
          "model_name": "DescriptionStyleModel",
          "model_module_version": "1.5.0",
          "state": {
            "_model_module": "@jupyter-widgets/controls",
            "_model_module_version": "1.5.0",
            "_model_name": "DescriptionStyleModel",
            "_view_count": null,
            "_view_module": "@jupyter-widgets/base",
            "_view_module_version": "1.2.0",
            "_view_name": "StyleView",
            "description_width": ""
          }
        },
        "446a9eb1ce0d41f1861f7b7068f20fd4": {
          "model_module": "@jupyter-widgets/controls",
          "model_name": "HBoxModel",
          "model_module_version": "1.5.0",
          "state": {
            "_dom_classes": [],
            "_model_module": "@jupyter-widgets/controls",
            "_model_module_version": "1.5.0",
            "_model_name": "HBoxModel",
            "_view_count": null,
            "_view_module": "@jupyter-widgets/controls",
            "_view_module_version": "1.5.0",
            "_view_name": "HBoxView",
            "box_style": "",
            "children": [
              "IPY_MODEL_6a850b30a9d2451b9085a923ebf118ee",
              "IPY_MODEL_77efc32af90541918bdd6eeedb4dfa52",
              "IPY_MODEL_1d288192a53b4609b6376aa9af772c56"
            ],
            "layout": "IPY_MODEL_542762dd5c0d4b1bbc474f8ef1175287"
          }
        },
        "6a850b30a9d2451b9085a923ebf118ee": {
          "model_module": "@jupyter-widgets/controls",
          "model_name": "HTMLModel",
          "model_module_version": "1.5.0",
          "state": {
            "_dom_classes": [],
            "_model_module": "@jupyter-widgets/controls",
            "_model_module_version": "1.5.0",
            "_model_name": "HTMLModel",
            "_view_count": null,
            "_view_module": "@jupyter-widgets/controls",
            "_view_module_version": "1.5.0",
            "_view_name": "HTMLView",
            "description": "",
            "description_tooltip": null,
            "layout": "IPY_MODEL_41ab0474291448c6a65ebd45cea488ac",
            "placeholder": "​",
            "style": "IPY_MODEL_7ffc14f79cac4d1f8000517ec2790889",
            "value": "Downloading spiece.model: 100%"
          }
        },
        "77efc32af90541918bdd6eeedb4dfa52": {
          "model_module": "@jupyter-widgets/controls",
          "model_name": "FloatProgressModel",
          "model_module_version": "1.5.0",
          "state": {
            "_dom_classes": [],
            "_model_module": "@jupyter-widgets/controls",
            "_model_module_version": "1.5.0",
            "_model_name": "FloatProgressModel",
            "_view_count": null,
            "_view_module": "@jupyter-widgets/controls",
            "_view_module_version": "1.5.0",
            "_view_name": "ProgressView",
            "bar_style": "success",
            "description": "",
            "description_tooltip": null,
            "layout": "IPY_MODEL_9b57d073c29f4f77ae38ffb359195034",
            "max": 851388,
            "min": 0,
            "orientation": "horizontal",
            "style": "IPY_MODEL_69539423fe724402b35bf44f3f099770",
            "value": 851388
          }
        },
        "1d288192a53b4609b6376aa9af772c56": {
          "model_module": "@jupyter-widgets/controls",
          "model_name": "HTMLModel",
          "model_module_version": "1.5.0",
          "state": {
            "_dom_classes": [],
            "_model_module": "@jupyter-widgets/controls",
            "_model_module_version": "1.5.0",
            "_model_name": "HTMLModel",
            "_view_count": null,
            "_view_module": "@jupyter-widgets/controls",
            "_view_module_version": "1.5.0",
            "_view_name": "HTMLView",
            "description": "",
            "description_tooltip": null,
            "layout": "IPY_MODEL_51f463ddfc9d4c9688c87738cf6689cf",
            "placeholder": "​",
            "style": "IPY_MODEL_d82675ac7a504004a916a07bddaf68a3",
            "value": " 851k/851k [00:00&lt;00:00, 25.4MB/s]"
          }
        },
        "542762dd5c0d4b1bbc474f8ef1175287": {
          "model_module": "@jupyter-widgets/base",
          "model_name": "LayoutModel",
          "model_module_version": "1.2.0",
          "state": {
            "_model_module": "@jupyter-widgets/base",
            "_model_module_version": "1.2.0",
            "_model_name": "LayoutModel",
            "_view_count": null,
            "_view_module": "@jupyter-widgets/base",
            "_view_module_version": "1.2.0",
            "_view_name": "LayoutView",
            "align_content": null,
            "align_items": null,
            "align_self": null,
            "border": null,
            "bottom": null,
            "display": null,
            "flex": null,
            "flex_flow": null,
            "grid_area": null,
            "grid_auto_columns": null,
            "grid_auto_flow": null,
            "grid_auto_rows": null,
            "grid_column": null,
            "grid_gap": null,
            "grid_row": null,
            "grid_template_areas": null,
            "grid_template_columns": null,
            "grid_template_rows": null,
            "height": null,
            "justify_content": null,
            "justify_items": null,
            "left": null,
            "margin": null,
            "max_height": null,
            "max_width": null,
            "min_height": null,
            "min_width": null,
            "object_fit": null,
            "object_position": null,
            "order": null,
            "overflow": null,
            "overflow_x": null,
            "overflow_y": null,
            "padding": null,
            "right": null,
            "top": null,
            "visibility": null,
            "width": null
          }
        },
        "41ab0474291448c6a65ebd45cea488ac": {
          "model_module": "@jupyter-widgets/base",
          "model_name": "LayoutModel",
          "model_module_version": "1.2.0",
          "state": {
            "_model_module": "@jupyter-widgets/base",
            "_model_module_version": "1.2.0",
            "_model_name": "LayoutModel",
            "_view_count": null,
            "_view_module": "@jupyter-widgets/base",
            "_view_module_version": "1.2.0",
            "_view_name": "LayoutView",
            "align_content": null,
            "align_items": null,
            "align_self": null,
            "border": null,
            "bottom": null,
            "display": null,
            "flex": null,
            "flex_flow": null,
            "grid_area": null,
            "grid_auto_columns": null,
            "grid_auto_flow": null,
            "grid_auto_rows": null,
            "grid_column": null,
            "grid_gap": null,
            "grid_row": null,
            "grid_template_areas": null,
            "grid_template_columns": null,
            "grid_template_rows": null,
            "height": null,
            "justify_content": null,
            "justify_items": null,
            "left": null,
            "margin": null,
            "max_height": null,
            "max_width": null,
            "min_height": null,
            "min_width": null,
            "object_fit": null,
            "object_position": null,
            "order": null,
            "overflow": null,
            "overflow_x": null,
            "overflow_y": null,
            "padding": null,
            "right": null,
            "top": null,
            "visibility": null,
            "width": null
          }
        },
        "7ffc14f79cac4d1f8000517ec2790889": {
          "model_module": "@jupyter-widgets/controls",
          "model_name": "DescriptionStyleModel",
          "model_module_version": "1.5.0",
          "state": {
            "_model_module": "@jupyter-widgets/controls",
            "_model_module_version": "1.5.0",
            "_model_name": "DescriptionStyleModel",
            "_view_count": null,
            "_view_module": "@jupyter-widgets/base",
            "_view_module_version": "1.2.0",
            "_view_name": "StyleView",
            "description_width": ""
          }
        },
        "9b57d073c29f4f77ae38ffb359195034": {
          "model_module": "@jupyter-widgets/base",
          "model_name": "LayoutModel",
          "model_module_version": "1.2.0",
          "state": {
            "_model_module": "@jupyter-widgets/base",
            "_model_module_version": "1.2.0",
            "_model_name": "LayoutModel",
            "_view_count": null,
            "_view_module": "@jupyter-widgets/base",
            "_view_module_version": "1.2.0",
            "_view_name": "LayoutView",
            "align_content": null,
            "align_items": null,
            "align_self": null,
            "border": null,
            "bottom": null,
            "display": null,
            "flex": null,
            "flex_flow": null,
            "grid_area": null,
            "grid_auto_columns": null,
            "grid_auto_flow": null,
            "grid_auto_rows": null,
            "grid_column": null,
            "grid_gap": null,
            "grid_row": null,
            "grid_template_areas": null,
            "grid_template_columns": null,
            "grid_template_rows": null,
            "height": null,
            "justify_content": null,
            "justify_items": null,
            "left": null,
            "margin": null,
            "max_height": null,
            "max_width": null,
            "min_height": null,
            "min_width": null,
            "object_fit": null,
            "object_position": null,
            "order": null,
            "overflow": null,
            "overflow_x": null,
            "overflow_y": null,
            "padding": null,
            "right": null,
            "top": null,
            "visibility": null,
            "width": null
          }
        },
        "69539423fe724402b35bf44f3f099770": {
          "model_module": "@jupyter-widgets/controls",
          "model_name": "ProgressStyleModel",
          "model_module_version": "1.5.0",
          "state": {
            "_model_module": "@jupyter-widgets/controls",
            "_model_module_version": "1.5.0",
            "_model_name": "ProgressStyleModel",
            "_view_count": null,
            "_view_module": "@jupyter-widgets/base",
            "_view_module_version": "1.2.0",
            "_view_name": "StyleView",
            "bar_color": null,
            "description_width": ""
          }
        },
        "51f463ddfc9d4c9688c87738cf6689cf": {
          "model_module": "@jupyter-widgets/base",
          "model_name": "LayoutModel",
          "model_module_version": "1.2.0",
          "state": {
            "_model_module": "@jupyter-widgets/base",
            "_model_module_version": "1.2.0",
            "_model_name": "LayoutModel",
            "_view_count": null,
            "_view_module": "@jupyter-widgets/base",
            "_view_module_version": "1.2.0",
            "_view_name": "LayoutView",
            "align_content": null,
            "align_items": null,
            "align_self": null,
            "border": null,
            "bottom": null,
            "display": null,
            "flex": null,
            "flex_flow": null,
            "grid_area": null,
            "grid_auto_columns": null,
            "grid_auto_flow": null,
            "grid_auto_rows": null,
            "grid_column": null,
            "grid_gap": null,
            "grid_row": null,
            "grid_template_areas": null,
            "grid_template_columns": null,
            "grid_template_rows": null,
            "height": null,
            "justify_content": null,
            "justify_items": null,
            "left": null,
            "margin": null,
            "max_height": null,
            "max_width": null,
            "min_height": null,
            "min_width": null,
            "object_fit": null,
            "object_position": null,
            "order": null,
            "overflow": null,
            "overflow_x": null,
            "overflow_y": null,
            "padding": null,
            "right": null,
            "top": null,
            "visibility": null,
            "width": null
          }
        },
        "d82675ac7a504004a916a07bddaf68a3": {
          "model_module": "@jupyter-widgets/controls",
          "model_name": "DescriptionStyleModel",
          "model_module_version": "1.5.0",
          "state": {
            "_model_module": "@jupyter-widgets/controls",
            "_model_module_version": "1.5.0",
            "_model_name": "DescriptionStyleModel",
            "_view_count": null,
            "_view_module": "@jupyter-widgets/base",
            "_view_module_version": "1.2.0",
            "_view_name": "StyleView",
            "description_width": ""
          }
        },
        "267f39ea6cf842a5b7a766c3a1cdf000": {
          "model_module": "@jupyter-widgets/controls",
          "model_name": "HBoxModel",
          "model_module_version": "1.5.0",
          "state": {
            "_dom_classes": [],
            "_model_module": "@jupyter-widgets/controls",
            "_model_module_version": "1.5.0",
            "_model_name": "HBoxModel",
            "_view_count": null,
            "_view_module": "@jupyter-widgets/controls",
            "_view_module_version": "1.5.0",
            "_view_name": "HBoxView",
            "box_style": "",
            "children": [
              "IPY_MODEL_df2c27bfe2ce474dbbf44c3d933a27b9",
              "IPY_MODEL_e0ccf49ab2d54aa9a662796060ad7bf4",
              "IPY_MODEL_7750c226917f4dd9967feb5221f5656d"
            ],
            "layout": "IPY_MODEL_f51e3891aa354bc9b6a8c55ae66da61d"
          }
        },
        "df2c27bfe2ce474dbbf44c3d933a27b9": {
          "model_module": "@jupyter-widgets/controls",
          "model_name": "HTMLModel",
          "model_module_version": "1.5.0",
          "state": {
            "_dom_classes": [],
            "_model_module": "@jupyter-widgets/controls",
            "_model_module_version": "1.5.0",
            "_model_name": "HTMLModel",
            "_view_count": null,
            "_view_module": "@jupyter-widgets/controls",
            "_view_module_version": "1.5.0",
            "_view_name": "HTMLView",
            "description": "",
            "description_tooltip": null,
            "layout": "IPY_MODEL_36168976344549eabb50032f3f8830fc",
            "placeholder": "​",
            "style": "IPY_MODEL_68c739e21e084724980087d6d4aa1020",
            "value": "Downloading (…)/main/tokenizer.json: 100%"
          }
        },
        "e0ccf49ab2d54aa9a662796060ad7bf4": {
          "model_module": "@jupyter-widgets/controls",
          "model_name": "FloatProgressModel",
          "model_module_version": "1.5.0",
          "state": {
            "_dom_classes": [],
            "_model_module": "@jupyter-widgets/controls",
            "_model_module_version": "1.5.0",
            "_model_name": "FloatProgressModel",
            "_view_count": null,
            "_view_module": "@jupyter-widgets/controls",
            "_view_module_version": "1.5.0",
            "_view_name": "ProgressView",
            "bar_style": "success",
            "description": "",
            "description_tooltip": null,
            "layout": "IPY_MODEL_37cf40fcf86b46938e29c917e17a2aae",
            "max": 3265159,
            "min": 0,
            "orientation": "horizontal",
            "style": "IPY_MODEL_1f1e00ba01f245dcb6fbf53a69e3ace2",
            "value": 3265159
          }
        },
        "7750c226917f4dd9967feb5221f5656d": {
          "model_module": "@jupyter-widgets/controls",
          "model_name": "HTMLModel",
          "model_module_version": "1.5.0",
          "state": {
            "_dom_classes": [],
            "_model_module": "@jupyter-widgets/controls",
            "_model_module_version": "1.5.0",
            "_model_name": "HTMLModel",
            "_view_count": null,
            "_view_module": "@jupyter-widgets/controls",
            "_view_module_version": "1.5.0",
            "_view_name": "HTMLView",
            "description": "",
            "description_tooltip": null,
            "layout": "IPY_MODEL_829e0a9582aa4a3db7522f24de16b83d",
            "placeholder": "​",
            "style": "IPY_MODEL_4de5e1c6e16b4e859efa95996ffc15bc",
            "value": " 3.27M/3.27M [00:01&lt;00:00, 2.88MB/s]"
          }
        },
        "f51e3891aa354bc9b6a8c55ae66da61d": {
          "model_module": "@jupyter-widgets/base",
          "model_name": "LayoutModel",
          "model_module_version": "1.2.0",
          "state": {
            "_model_module": "@jupyter-widgets/base",
            "_model_module_version": "1.2.0",
            "_model_name": "LayoutModel",
            "_view_count": null,
            "_view_module": "@jupyter-widgets/base",
            "_view_module_version": "1.2.0",
            "_view_name": "LayoutView",
            "align_content": null,
            "align_items": null,
            "align_self": null,
            "border": null,
            "bottom": null,
            "display": null,
            "flex": null,
            "flex_flow": null,
            "grid_area": null,
            "grid_auto_columns": null,
            "grid_auto_flow": null,
            "grid_auto_rows": null,
            "grid_column": null,
            "grid_gap": null,
            "grid_row": null,
            "grid_template_areas": null,
            "grid_template_columns": null,
            "grid_template_rows": null,
            "height": null,
            "justify_content": null,
            "justify_items": null,
            "left": null,
            "margin": null,
            "max_height": null,
            "max_width": null,
            "min_height": null,
            "min_width": null,
            "object_fit": null,
            "object_position": null,
            "order": null,
            "overflow": null,
            "overflow_x": null,
            "overflow_y": null,
            "padding": null,
            "right": null,
            "top": null,
            "visibility": null,
            "width": null
          }
        },
        "36168976344549eabb50032f3f8830fc": {
          "model_module": "@jupyter-widgets/base",
          "model_name": "LayoutModel",
          "model_module_version": "1.2.0",
          "state": {
            "_model_module": "@jupyter-widgets/base",
            "_model_module_version": "1.2.0",
            "_model_name": "LayoutModel",
            "_view_count": null,
            "_view_module": "@jupyter-widgets/base",
            "_view_module_version": "1.2.0",
            "_view_name": "LayoutView",
            "align_content": null,
            "align_items": null,
            "align_self": null,
            "border": null,
            "bottom": null,
            "display": null,
            "flex": null,
            "flex_flow": null,
            "grid_area": null,
            "grid_auto_columns": null,
            "grid_auto_flow": null,
            "grid_auto_rows": null,
            "grid_column": null,
            "grid_gap": null,
            "grid_row": null,
            "grid_template_areas": null,
            "grid_template_columns": null,
            "grid_template_rows": null,
            "height": null,
            "justify_content": null,
            "justify_items": null,
            "left": null,
            "margin": null,
            "max_height": null,
            "max_width": null,
            "min_height": null,
            "min_width": null,
            "object_fit": null,
            "object_position": null,
            "order": null,
            "overflow": null,
            "overflow_x": null,
            "overflow_y": null,
            "padding": null,
            "right": null,
            "top": null,
            "visibility": null,
            "width": null
          }
        },
        "68c739e21e084724980087d6d4aa1020": {
          "model_module": "@jupyter-widgets/controls",
          "model_name": "DescriptionStyleModel",
          "model_module_version": "1.5.0",
          "state": {
            "_model_module": "@jupyter-widgets/controls",
            "_model_module_version": "1.5.0",
            "_model_name": "DescriptionStyleModel",
            "_view_count": null,
            "_view_module": "@jupyter-widgets/base",
            "_view_module_version": "1.2.0",
            "_view_name": "StyleView",
            "description_width": ""
          }
        },
        "37cf40fcf86b46938e29c917e17a2aae": {
          "model_module": "@jupyter-widgets/base",
          "model_name": "LayoutModel",
          "model_module_version": "1.2.0",
          "state": {
            "_model_module": "@jupyter-widgets/base",
            "_model_module_version": "1.2.0",
            "_model_name": "LayoutModel",
            "_view_count": null,
            "_view_module": "@jupyter-widgets/base",
            "_view_module_version": "1.2.0",
            "_view_name": "LayoutView",
            "align_content": null,
            "align_items": null,
            "align_self": null,
            "border": null,
            "bottom": null,
            "display": null,
            "flex": null,
            "flex_flow": null,
            "grid_area": null,
            "grid_auto_columns": null,
            "grid_auto_flow": null,
            "grid_auto_rows": null,
            "grid_column": null,
            "grid_gap": null,
            "grid_row": null,
            "grid_template_areas": null,
            "grid_template_columns": null,
            "grid_template_rows": null,
            "height": null,
            "justify_content": null,
            "justify_items": null,
            "left": null,
            "margin": null,
            "max_height": null,
            "max_width": null,
            "min_height": null,
            "min_width": null,
            "object_fit": null,
            "object_position": null,
            "order": null,
            "overflow": null,
            "overflow_x": null,
            "overflow_y": null,
            "padding": null,
            "right": null,
            "top": null,
            "visibility": null,
            "width": null
          }
        },
        "1f1e00ba01f245dcb6fbf53a69e3ace2": {
          "model_module": "@jupyter-widgets/controls",
          "model_name": "ProgressStyleModel",
          "model_module_version": "1.5.0",
          "state": {
            "_model_module": "@jupyter-widgets/controls",
            "_model_module_version": "1.5.0",
            "_model_name": "ProgressStyleModel",
            "_view_count": null,
            "_view_module": "@jupyter-widgets/base",
            "_view_module_version": "1.2.0",
            "_view_name": "StyleView",
            "bar_color": null,
            "description_width": ""
          }
        },
        "829e0a9582aa4a3db7522f24de16b83d": {
          "model_module": "@jupyter-widgets/base",
          "model_name": "LayoutModel",
          "model_module_version": "1.2.0",
          "state": {
            "_model_module": "@jupyter-widgets/base",
            "_model_module_version": "1.2.0",
            "_model_name": "LayoutModel",
            "_view_count": null,
            "_view_module": "@jupyter-widgets/base",
            "_view_module_version": "1.2.0",
            "_view_name": "LayoutView",
            "align_content": null,
            "align_items": null,
            "align_self": null,
            "border": null,
            "bottom": null,
            "display": null,
            "flex": null,
            "flex_flow": null,
            "grid_area": null,
            "grid_auto_columns": null,
            "grid_auto_flow": null,
            "grid_auto_rows": null,
            "grid_column": null,
            "grid_gap": null,
            "grid_row": null,
            "grid_template_areas": null,
            "grid_template_columns": null,
            "grid_template_rows": null,
            "height": null,
            "justify_content": null,
            "justify_items": null,
            "left": null,
            "margin": null,
            "max_height": null,
            "max_width": null,
            "min_height": null,
            "min_width": null,
            "object_fit": null,
            "object_position": null,
            "order": null,
            "overflow": null,
            "overflow_x": null,
            "overflow_y": null,
            "padding": null,
            "right": null,
            "top": null,
            "visibility": null,
            "width": null
          }
        },
        "4de5e1c6e16b4e859efa95996ffc15bc": {
          "model_module": "@jupyter-widgets/controls",
          "model_name": "DescriptionStyleModel",
          "model_module_version": "1.5.0",
          "state": {
            "_model_module": "@jupyter-widgets/controls",
            "_model_module_version": "1.5.0",
            "_model_name": "DescriptionStyleModel",
            "_view_count": null,
            "_view_module": "@jupyter-widgets/base",
            "_view_module_version": "1.2.0",
            "_view_name": "StyleView",
            "description_width": ""
          }
        },
        "a12c00b224574f46a7f67415d6f91a4a": {
          "model_module": "@jupyter-widgets/controls",
          "model_name": "HBoxModel",
          "model_module_version": "1.5.0",
          "state": {
            "_dom_classes": [],
            "_model_module": "@jupyter-widgets/controls",
            "_model_module_version": "1.5.0",
            "_model_name": "HBoxModel",
            "_view_count": null,
            "_view_module": "@jupyter-widgets/controls",
            "_view_module_version": "1.5.0",
            "_view_name": "HBoxView",
            "box_style": "",
            "children": [
              "IPY_MODEL_335cb81a4c994a0b9621fd2bc1825f62",
              "IPY_MODEL_f640b075ef054746854a2c7c1a994c87",
              "IPY_MODEL_248af33a0e5f4aaebdf2863d6d573125"
            ],
            "layout": "IPY_MODEL_1a93b4af569248e980c215878872bcc9"
          }
        },
        "335cb81a4c994a0b9621fd2bc1825f62": {
          "model_module": "@jupyter-widgets/controls",
          "model_name": "HTMLModel",
          "model_module_version": "1.5.0",
          "state": {
            "_dom_classes": [],
            "_model_module": "@jupyter-widgets/controls",
            "_model_module_version": "1.5.0",
            "_model_name": "HTMLModel",
            "_view_count": null,
            "_view_module": "@jupyter-widgets/controls",
            "_view_module_version": "1.5.0",
            "_view_name": "HTMLView",
            "description": "",
            "description_tooltip": null,
            "layout": "IPY_MODEL_1090408a5bf141f592e6ba5764089b6f",
            "placeholder": "​",
            "style": "IPY_MODEL_3c0d9f5cc91b45968687e899a2d99352",
            "value": "Downloading (…)cial_tokens_map.json: 100%"
          }
        },
        "f640b075ef054746854a2c7c1a994c87": {
          "model_module": "@jupyter-widgets/controls",
          "model_name": "FloatProgressModel",
          "model_module_version": "1.5.0",
          "state": {
            "_dom_classes": [],
            "_model_module": "@jupyter-widgets/controls",
            "_model_module_version": "1.5.0",
            "_model_name": "FloatProgressModel",
            "_view_count": null,
            "_view_module": "@jupyter-widgets/controls",
            "_view_module_version": "1.5.0",
            "_view_name": "ProgressView",
            "bar_style": "success",
            "description": "",
            "description_tooltip": null,
            "layout": "IPY_MODEL_39819467d5754c70b59ff0bf0ae25400",
            "max": 2201,
            "min": 0,
            "orientation": "horizontal",
            "style": "IPY_MODEL_e9c54be9783b47b4a4151cc1e1f0325d",
            "value": 2201
          }
        },
        "248af33a0e5f4aaebdf2863d6d573125": {
          "model_module": "@jupyter-widgets/controls",
          "model_name": "HTMLModel",
          "model_module_version": "1.5.0",
          "state": {
            "_dom_classes": [],
            "_model_module": "@jupyter-widgets/controls",
            "_model_module_version": "1.5.0",
            "_model_name": "HTMLModel",
            "_view_count": null,
            "_view_module": "@jupyter-widgets/controls",
            "_view_module_version": "1.5.0",
            "_view_name": "HTMLView",
            "description": "",
            "description_tooltip": null,
            "layout": "IPY_MODEL_03cb7ec38f5045619747ce113748d7f4",
            "placeholder": "​",
            "style": "IPY_MODEL_df2e26edd56b445985bdf79999069b21",
            "value": " 2.20k/2.20k [00:00&lt;00:00, 207kB/s]"
          }
        },
        "1a93b4af569248e980c215878872bcc9": {
          "model_module": "@jupyter-widgets/base",
          "model_name": "LayoutModel",
          "model_module_version": "1.2.0",
          "state": {
            "_model_module": "@jupyter-widgets/base",
            "_model_module_version": "1.2.0",
            "_model_name": "LayoutModel",
            "_view_count": null,
            "_view_module": "@jupyter-widgets/base",
            "_view_module_version": "1.2.0",
            "_view_name": "LayoutView",
            "align_content": null,
            "align_items": null,
            "align_self": null,
            "border": null,
            "bottom": null,
            "display": null,
            "flex": null,
            "flex_flow": null,
            "grid_area": null,
            "grid_auto_columns": null,
            "grid_auto_flow": null,
            "grid_auto_rows": null,
            "grid_column": null,
            "grid_gap": null,
            "grid_row": null,
            "grid_template_areas": null,
            "grid_template_columns": null,
            "grid_template_rows": null,
            "height": null,
            "justify_content": null,
            "justify_items": null,
            "left": null,
            "margin": null,
            "max_height": null,
            "max_width": null,
            "min_height": null,
            "min_width": null,
            "object_fit": null,
            "object_position": null,
            "order": null,
            "overflow": null,
            "overflow_x": null,
            "overflow_y": null,
            "padding": null,
            "right": null,
            "top": null,
            "visibility": null,
            "width": null
          }
        },
        "1090408a5bf141f592e6ba5764089b6f": {
          "model_module": "@jupyter-widgets/base",
          "model_name": "LayoutModel",
          "model_module_version": "1.2.0",
          "state": {
            "_model_module": "@jupyter-widgets/base",
            "_model_module_version": "1.2.0",
            "_model_name": "LayoutModel",
            "_view_count": null,
            "_view_module": "@jupyter-widgets/base",
            "_view_module_version": "1.2.0",
            "_view_name": "LayoutView",
            "align_content": null,
            "align_items": null,
            "align_self": null,
            "border": null,
            "bottom": null,
            "display": null,
            "flex": null,
            "flex_flow": null,
            "grid_area": null,
            "grid_auto_columns": null,
            "grid_auto_flow": null,
            "grid_auto_rows": null,
            "grid_column": null,
            "grid_gap": null,
            "grid_row": null,
            "grid_template_areas": null,
            "grid_template_columns": null,
            "grid_template_rows": null,
            "height": null,
            "justify_content": null,
            "justify_items": null,
            "left": null,
            "margin": null,
            "max_height": null,
            "max_width": null,
            "min_height": null,
            "min_width": null,
            "object_fit": null,
            "object_position": null,
            "order": null,
            "overflow": null,
            "overflow_x": null,
            "overflow_y": null,
            "padding": null,
            "right": null,
            "top": null,
            "visibility": null,
            "width": null
          }
        },
        "3c0d9f5cc91b45968687e899a2d99352": {
          "model_module": "@jupyter-widgets/controls",
          "model_name": "DescriptionStyleModel",
          "model_module_version": "1.5.0",
          "state": {
            "_model_module": "@jupyter-widgets/controls",
            "_model_module_version": "1.5.0",
            "_model_name": "DescriptionStyleModel",
            "_view_count": null,
            "_view_module": "@jupyter-widgets/base",
            "_view_module_version": "1.2.0",
            "_view_name": "StyleView",
            "description_width": ""
          }
        },
        "39819467d5754c70b59ff0bf0ae25400": {
          "model_module": "@jupyter-widgets/base",
          "model_name": "LayoutModel",
          "model_module_version": "1.2.0",
          "state": {
            "_model_module": "@jupyter-widgets/base",
            "_model_module_version": "1.2.0",
            "_model_name": "LayoutModel",
            "_view_count": null,
            "_view_module": "@jupyter-widgets/base",
            "_view_module_version": "1.2.0",
            "_view_name": "LayoutView",
            "align_content": null,
            "align_items": null,
            "align_self": null,
            "border": null,
            "bottom": null,
            "display": null,
            "flex": null,
            "flex_flow": null,
            "grid_area": null,
            "grid_auto_columns": null,
            "grid_auto_flow": null,
            "grid_auto_rows": null,
            "grid_column": null,
            "grid_gap": null,
            "grid_row": null,
            "grid_template_areas": null,
            "grid_template_columns": null,
            "grid_template_rows": null,
            "height": null,
            "justify_content": null,
            "justify_items": null,
            "left": null,
            "margin": null,
            "max_height": null,
            "max_width": null,
            "min_height": null,
            "min_width": null,
            "object_fit": null,
            "object_position": null,
            "order": null,
            "overflow": null,
            "overflow_x": null,
            "overflow_y": null,
            "padding": null,
            "right": null,
            "top": null,
            "visibility": null,
            "width": null
          }
        },
        "e9c54be9783b47b4a4151cc1e1f0325d": {
          "model_module": "@jupyter-widgets/controls",
          "model_name": "ProgressStyleModel",
          "model_module_version": "1.5.0",
          "state": {
            "_model_module": "@jupyter-widgets/controls",
            "_model_module_version": "1.5.0",
            "_model_name": "ProgressStyleModel",
            "_view_count": null,
            "_view_module": "@jupyter-widgets/base",
            "_view_module_version": "1.2.0",
            "_view_name": "StyleView",
            "bar_color": null,
            "description_width": ""
          }
        },
        "03cb7ec38f5045619747ce113748d7f4": {
          "model_module": "@jupyter-widgets/base",
          "model_name": "LayoutModel",
          "model_module_version": "1.2.0",
          "state": {
            "_model_module": "@jupyter-widgets/base",
            "_model_module_version": "1.2.0",
            "_model_name": "LayoutModel",
            "_view_count": null,
            "_view_module": "@jupyter-widgets/base",
            "_view_module_version": "1.2.0",
            "_view_name": "LayoutView",
            "align_content": null,
            "align_items": null,
            "align_self": null,
            "border": null,
            "bottom": null,
            "display": null,
            "flex": null,
            "flex_flow": null,
            "grid_area": null,
            "grid_auto_columns": null,
            "grid_auto_flow": null,
            "grid_auto_rows": null,
            "grid_column": null,
            "grid_gap": null,
            "grid_row": null,
            "grid_template_areas": null,
            "grid_template_columns": null,
            "grid_template_rows": null,
            "height": null,
            "justify_content": null,
            "justify_items": null,
            "left": null,
            "margin": null,
            "max_height": null,
            "max_width": null,
            "min_height": null,
            "min_width": null,
            "object_fit": null,
            "object_position": null,
            "order": null,
            "overflow": null,
            "overflow_x": null,
            "overflow_y": null,
            "padding": null,
            "right": null,
            "top": null,
            "visibility": null,
            "width": null
          }
        },
        "df2e26edd56b445985bdf79999069b21": {
          "model_module": "@jupyter-widgets/controls",
          "model_name": "DescriptionStyleModel",
          "model_module_version": "1.5.0",
          "state": {
            "_model_module": "@jupyter-widgets/controls",
            "_model_module_version": "1.5.0",
            "_model_name": "DescriptionStyleModel",
            "_view_count": null,
            "_view_module": "@jupyter-widgets/base",
            "_view_module_version": "1.2.0",
            "_view_name": "StyleView",
            "description_width": ""
          }
        },
        "29226c8b09ab47ac96e62dfeb891074e": {
          "model_module": "@jupyter-widgets/controls",
          "model_name": "HBoxModel",
          "model_module_version": "1.5.0",
          "state": {
            "_dom_classes": [],
            "_model_module": "@jupyter-widgets/controls",
            "_model_module_version": "1.5.0",
            "_model_name": "HBoxModel",
            "_view_count": null,
            "_view_module": "@jupyter-widgets/controls",
            "_view_module_version": "1.5.0",
            "_view_name": "HBoxView",
            "box_style": "",
            "children": [
              "IPY_MODEL_4360961b879f48df81a8610bd9d85ba3",
              "IPY_MODEL_3b052bda95fb493b85125ee7e17a629d",
              "IPY_MODEL_250c8bebdca84e1bba0b1bd4b39d8b49"
            ],
            "layout": "IPY_MODEL_357c6982e6d14034ba3adfb6e7de2a1c"
          }
        },
        "4360961b879f48df81a8610bd9d85ba3": {
          "model_module": "@jupyter-widgets/controls",
          "model_name": "HTMLModel",
          "model_module_version": "1.5.0",
          "state": {
            "_dom_classes": [],
            "_model_module": "@jupyter-widgets/controls",
            "_model_module_version": "1.5.0",
            "_model_name": "HTMLModel",
            "_view_count": null,
            "_view_module": "@jupyter-widgets/controls",
            "_view_module_version": "1.5.0",
            "_view_name": "HTMLView",
            "description": "",
            "description_tooltip": null,
            "layout": "IPY_MODEL_b40fdd5bb7e84f48985ca6f0560d02d6",
            "placeholder": "​",
            "style": "IPY_MODEL_b6dceee326944df687b7488d91d4169a",
            "value": "Downloading (…)lve/main/config.json: 100%"
          }
        },
        "3b052bda95fb493b85125ee7e17a629d": {
          "model_module": "@jupyter-widgets/controls",
          "model_name": "FloatProgressModel",
          "model_module_version": "1.5.0",
          "state": {
            "_dom_classes": [],
            "_model_module": "@jupyter-widgets/controls",
            "_model_module_version": "1.5.0",
            "_model_name": "FloatProgressModel",
            "_view_count": null,
            "_view_module": "@jupyter-widgets/controls",
            "_view_module_version": "1.5.0",
            "_view_name": "ProgressView",
            "bar_style": "success",
            "description": "",
            "description_tooltip": null,
            "layout": "IPY_MODEL_af5790cce19f4be7ad54c696053f430a",
            "max": 4918,
            "min": 0,
            "orientation": "horizontal",
            "style": "IPY_MODEL_5a6d3d728274444d8d17e0e5eee21ee6",
            "value": 4918
          }
        },
        "250c8bebdca84e1bba0b1bd4b39d8b49": {
          "model_module": "@jupyter-widgets/controls",
          "model_name": "HTMLModel",
          "model_module_version": "1.5.0",
          "state": {
            "_dom_classes": [],
            "_model_module": "@jupyter-widgets/controls",
            "_model_module_version": "1.5.0",
            "_model_name": "HTMLModel",
            "_view_count": null,
            "_view_module": "@jupyter-widgets/controls",
            "_view_module_version": "1.5.0",
            "_view_name": "HTMLView",
            "description": "",
            "description_tooltip": null,
            "layout": "IPY_MODEL_a9fd67e625854b2089ca173354ddabe5",
            "placeholder": "​",
            "style": "IPY_MODEL_4d714b814f7f4a8b933d4186a0a45c40",
            "value": " 4.92k/4.92k [00:00&lt;00:00, 452kB/s]"
          }
        },
        "357c6982e6d14034ba3adfb6e7de2a1c": {
          "model_module": "@jupyter-widgets/base",
          "model_name": "LayoutModel",
          "model_module_version": "1.2.0",
          "state": {
            "_model_module": "@jupyter-widgets/base",
            "_model_module_version": "1.2.0",
            "_model_name": "LayoutModel",
            "_view_count": null,
            "_view_module": "@jupyter-widgets/base",
            "_view_module_version": "1.2.0",
            "_view_name": "LayoutView",
            "align_content": null,
            "align_items": null,
            "align_self": null,
            "border": null,
            "bottom": null,
            "display": null,
            "flex": null,
            "flex_flow": null,
            "grid_area": null,
            "grid_auto_columns": null,
            "grid_auto_flow": null,
            "grid_auto_rows": null,
            "grid_column": null,
            "grid_gap": null,
            "grid_row": null,
            "grid_template_areas": null,
            "grid_template_columns": null,
            "grid_template_rows": null,
            "height": null,
            "justify_content": null,
            "justify_items": null,
            "left": null,
            "margin": null,
            "max_height": null,
            "max_width": null,
            "min_height": null,
            "min_width": null,
            "object_fit": null,
            "object_position": null,
            "order": null,
            "overflow": null,
            "overflow_x": null,
            "overflow_y": null,
            "padding": null,
            "right": null,
            "top": null,
            "visibility": null,
            "width": null
          }
        },
        "b40fdd5bb7e84f48985ca6f0560d02d6": {
          "model_module": "@jupyter-widgets/base",
          "model_name": "LayoutModel",
          "model_module_version": "1.2.0",
          "state": {
            "_model_module": "@jupyter-widgets/base",
            "_model_module_version": "1.2.0",
            "_model_name": "LayoutModel",
            "_view_count": null,
            "_view_module": "@jupyter-widgets/base",
            "_view_module_version": "1.2.0",
            "_view_name": "LayoutView",
            "align_content": null,
            "align_items": null,
            "align_self": null,
            "border": null,
            "bottom": null,
            "display": null,
            "flex": null,
            "flex_flow": null,
            "grid_area": null,
            "grid_auto_columns": null,
            "grid_auto_flow": null,
            "grid_auto_rows": null,
            "grid_column": null,
            "grid_gap": null,
            "grid_row": null,
            "grid_template_areas": null,
            "grid_template_columns": null,
            "grid_template_rows": null,
            "height": null,
            "justify_content": null,
            "justify_items": null,
            "left": null,
            "margin": null,
            "max_height": null,
            "max_width": null,
            "min_height": null,
            "min_width": null,
            "object_fit": null,
            "object_position": null,
            "order": null,
            "overflow": null,
            "overflow_x": null,
            "overflow_y": null,
            "padding": null,
            "right": null,
            "top": null,
            "visibility": null,
            "width": null
          }
        },
        "b6dceee326944df687b7488d91d4169a": {
          "model_module": "@jupyter-widgets/controls",
          "model_name": "DescriptionStyleModel",
          "model_module_version": "1.5.0",
          "state": {
            "_model_module": "@jupyter-widgets/controls",
            "_model_module_version": "1.5.0",
            "_model_name": "DescriptionStyleModel",
            "_view_count": null,
            "_view_module": "@jupyter-widgets/base",
            "_view_module_version": "1.2.0",
            "_view_name": "StyleView",
            "description_width": ""
          }
        },
        "af5790cce19f4be7ad54c696053f430a": {
          "model_module": "@jupyter-widgets/base",
          "model_name": "LayoutModel",
          "model_module_version": "1.2.0",
          "state": {
            "_model_module": "@jupyter-widgets/base",
            "_model_module_version": "1.2.0",
            "_model_name": "LayoutModel",
            "_view_count": null,
            "_view_module": "@jupyter-widgets/base",
            "_view_module_version": "1.2.0",
            "_view_name": "LayoutView",
            "align_content": null,
            "align_items": null,
            "align_self": null,
            "border": null,
            "bottom": null,
            "display": null,
            "flex": null,
            "flex_flow": null,
            "grid_area": null,
            "grid_auto_columns": null,
            "grid_auto_flow": null,
            "grid_auto_rows": null,
            "grid_column": null,
            "grid_gap": null,
            "grid_row": null,
            "grid_template_areas": null,
            "grid_template_columns": null,
            "grid_template_rows": null,
            "height": null,
            "justify_content": null,
            "justify_items": null,
            "left": null,
            "margin": null,
            "max_height": null,
            "max_width": null,
            "min_height": null,
            "min_width": null,
            "object_fit": null,
            "object_position": null,
            "order": null,
            "overflow": null,
            "overflow_x": null,
            "overflow_y": null,
            "padding": null,
            "right": null,
            "top": null,
            "visibility": null,
            "width": null
          }
        },
        "5a6d3d728274444d8d17e0e5eee21ee6": {
          "model_module": "@jupyter-widgets/controls",
          "model_name": "ProgressStyleModel",
          "model_module_version": "1.5.0",
          "state": {
            "_model_module": "@jupyter-widgets/controls",
            "_model_module_version": "1.5.0",
            "_model_name": "ProgressStyleModel",
            "_view_count": null,
            "_view_module": "@jupyter-widgets/base",
            "_view_module_version": "1.2.0",
            "_view_name": "StyleView",
            "bar_color": null,
            "description_width": ""
          }
        },
        "a9fd67e625854b2089ca173354ddabe5": {
          "model_module": "@jupyter-widgets/base",
          "model_name": "LayoutModel",
          "model_module_version": "1.2.0",
          "state": {
            "_model_module": "@jupyter-widgets/base",
            "_model_module_version": "1.2.0",
            "_model_name": "LayoutModel",
            "_view_count": null,
            "_view_module": "@jupyter-widgets/base",
            "_view_module_version": "1.2.0",
            "_view_name": "LayoutView",
            "align_content": null,
            "align_items": null,
            "align_self": null,
            "border": null,
            "bottom": null,
            "display": null,
            "flex": null,
            "flex_flow": null,
            "grid_area": null,
            "grid_auto_columns": null,
            "grid_auto_flow": null,
            "grid_auto_rows": null,
            "grid_column": null,
            "grid_gap": null,
            "grid_row": null,
            "grid_template_areas": null,
            "grid_template_columns": null,
            "grid_template_rows": null,
            "height": null,
            "justify_content": null,
            "justify_items": null,
            "left": null,
            "margin": null,
            "max_height": null,
            "max_width": null,
            "min_height": null,
            "min_width": null,
            "object_fit": null,
            "object_position": null,
            "order": null,
            "overflow": null,
            "overflow_x": null,
            "overflow_y": null,
            "padding": null,
            "right": null,
            "top": null,
            "visibility": null,
            "width": null
          }
        },
        "4d714b814f7f4a8b933d4186a0a45c40": {
          "model_module": "@jupyter-widgets/controls",
          "model_name": "DescriptionStyleModel",
          "model_module_version": "1.5.0",
          "state": {
            "_model_module": "@jupyter-widgets/controls",
            "_model_module_version": "1.5.0",
            "_model_name": "DescriptionStyleModel",
            "_view_count": null,
            "_view_module": "@jupyter-widgets/base",
            "_view_module_version": "1.2.0",
            "_view_name": "StyleView",
            "description_width": ""
          }
        },
        "ad744f95e4dc4759aef204450c99a083": {
          "model_module": "@jupyter-widgets/controls",
          "model_name": "HBoxModel",
          "model_module_version": "1.5.0",
          "state": {
            "_dom_classes": [],
            "_model_module": "@jupyter-widgets/controls",
            "_model_module_version": "1.5.0",
            "_model_name": "HBoxModel",
            "_view_count": null,
            "_view_module": "@jupyter-widgets/controls",
            "_view_module_version": "1.5.0",
            "_view_name": "HBoxView",
            "box_style": "",
            "children": [
              "IPY_MODEL_1c8603ac3c4f45ab89c514daa84d3df9",
              "IPY_MODEL_23e0223e3fc1445d99f2fdaac52b9eeb",
              "IPY_MODEL_ca76cabe5eb34511a6edfdf73baac611"
            ],
            "layout": "IPY_MODEL_2596c38df39049c6893ecdb6e0bc44a3"
          }
        },
        "1c8603ac3c4f45ab89c514daa84d3df9": {
          "model_module": "@jupyter-widgets/controls",
          "model_name": "HTMLModel",
          "model_module_version": "1.5.0",
          "state": {
            "_dom_classes": [],
            "_model_module": "@jupyter-widgets/controls",
            "_model_module_version": "1.5.0",
            "_model_name": "HTMLModel",
            "_view_count": null,
            "_view_module": "@jupyter-widgets/controls",
            "_view_module_version": "1.5.0",
            "_view_name": "HTMLView",
            "description": "",
            "description_tooltip": null,
            "layout": "IPY_MODEL_a4326b64ad914103b5bafcffab9d4a53",
            "placeholder": "​",
            "style": "IPY_MODEL_9601a46910af4a3ab93e04e47c1d9828",
            "value": "Downloading pytorch_model.bin: 100%"
          }
        },
        "23e0223e3fc1445d99f2fdaac52b9eeb": {
          "model_module": "@jupyter-widgets/controls",
          "model_name": "FloatProgressModel",
          "model_module_version": "1.5.0",
          "state": {
            "_dom_classes": [],
            "_model_module": "@jupyter-widgets/controls",
            "_model_module_version": "1.5.0",
            "_model_name": "FloatProgressModel",
            "_view_count": null,
            "_view_module": "@jupyter-widgets/controls",
            "_view_module_version": "1.5.0",
            "_view_name": "ProgressView",
            "bar_style": "success",
            "description": "",
            "description_tooltip": null,
            "layout": "IPY_MODEL_c3e70350c39b4ad3bb8e1267a306c624",
            "max": 1129238081,
            "min": 0,
            "orientation": "horizontal",
            "style": "IPY_MODEL_006a9fd1f3834607a223f933c8060069",
            "value": 1129238081
          }
        },
        "ca76cabe5eb34511a6edfdf73baac611": {
          "model_module": "@jupyter-widgets/controls",
          "model_name": "HTMLModel",
          "model_module_version": "1.5.0",
          "state": {
            "_dom_classes": [],
            "_model_module": "@jupyter-widgets/controls",
            "_model_module_version": "1.5.0",
            "_model_name": "HTMLModel",
            "_view_count": null,
            "_view_module": "@jupyter-widgets/controls",
            "_view_module_version": "1.5.0",
            "_view_name": "HTMLView",
            "description": "",
            "description_tooltip": null,
            "layout": "IPY_MODEL_431d5fce8f504dadb5845b6b91f14b73",
            "placeholder": "​",
            "style": "IPY_MODEL_a6bb7f27a84942efa969429d43ffd6eb",
            "value": " 1.13G/1.13G [00:07&lt;00:00, 231MB/s]"
          }
        },
        "2596c38df39049c6893ecdb6e0bc44a3": {
          "model_module": "@jupyter-widgets/base",
          "model_name": "LayoutModel",
          "model_module_version": "1.2.0",
          "state": {
            "_model_module": "@jupyter-widgets/base",
            "_model_module_version": "1.2.0",
            "_model_name": "LayoutModel",
            "_view_count": null,
            "_view_module": "@jupyter-widgets/base",
            "_view_module_version": "1.2.0",
            "_view_name": "LayoutView",
            "align_content": null,
            "align_items": null,
            "align_self": null,
            "border": null,
            "bottom": null,
            "display": null,
            "flex": null,
            "flex_flow": null,
            "grid_area": null,
            "grid_auto_columns": null,
            "grid_auto_flow": null,
            "grid_auto_rows": null,
            "grid_column": null,
            "grid_gap": null,
            "grid_row": null,
            "grid_template_areas": null,
            "grid_template_columns": null,
            "grid_template_rows": null,
            "height": null,
            "justify_content": null,
            "justify_items": null,
            "left": null,
            "margin": null,
            "max_height": null,
            "max_width": null,
            "min_height": null,
            "min_width": null,
            "object_fit": null,
            "object_position": null,
            "order": null,
            "overflow": null,
            "overflow_x": null,
            "overflow_y": null,
            "padding": null,
            "right": null,
            "top": null,
            "visibility": null,
            "width": null
          }
        },
        "a4326b64ad914103b5bafcffab9d4a53": {
          "model_module": "@jupyter-widgets/base",
          "model_name": "LayoutModel",
          "model_module_version": "1.2.0",
          "state": {
            "_model_module": "@jupyter-widgets/base",
            "_model_module_version": "1.2.0",
            "_model_name": "LayoutModel",
            "_view_count": null,
            "_view_module": "@jupyter-widgets/base",
            "_view_module_version": "1.2.0",
            "_view_name": "LayoutView",
            "align_content": null,
            "align_items": null,
            "align_self": null,
            "border": null,
            "bottom": null,
            "display": null,
            "flex": null,
            "flex_flow": null,
            "grid_area": null,
            "grid_auto_columns": null,
            "grid_auto_flow": null,
            "grid_auto_rows": null,
            "grid_column": null,
            "grid_gap": null,
            "grid_row": null,
            "grid_template_areas": null,
            "grid_template_columns": null,
            "grid_template_rows": null,
            "height": null,
            "justify_content": null,
            "justify_items": null,
            "left": null,
            "margin": null,
            "max_height": null,
            "max_width": null,
            "min_height": null,
            "min_width": null,
            "object_fit": null,
            "object_position": null,
            "order": null,
            "overflow": null,
            "overflow_x": null,
            "overflow_y": null,
            "padding": null,
            "right": null,
            "top": null,
            "visibility": null,
            "width": null
          }
        },
        "9601a46910af4a3ab93e04e47c1d9828": {
          "model_module": "@jupyter-widgets/controls",
          "model_name": "DescriptionStyleModel",
          "model_module_version": "1.5.0",
          "state": {
            "_model_module": "@jupyter-widgets/controls",
            "_model_module_version": "1.5.0",
            "_model_name": "DescriptionStyleModel",
            "_view_count": null,
            "_view_module": "@jupyter-widgets/base",
            "_view_module_version": "1.2.0",
            "_view_name": "StyleView",
            "description_width": ""
          }
        },
        "c3e70350c39b4ad3bb8e1267a306c624": {
          "model_module": "@jupyter-widgets/base",
          "model_name": "LayoutModel",
          "model_module_version": "1.2.0",
          "state": {
            "_model_module": "@jupyter-widgets/base",
            "_model_module_version": "1.2.0",
            "_model_name": "LayoutModel",
            "_view_count": null,
            "_view_module": "@jupyter-widgets/base",
            "_view_module_version": "1.2.0",
            "_view_name": "LayoutView",
            "align_content": null,
            "align_items": null,
            "align_self": null,
            "border": null,
            "bottom": null,
            "display": null,
            "flex": null,
            "flex_flow": null,
            "grid_area": null,
            "grid_auto_columns": null,
            "grid_auto_flow": null,
            "grid_auto_rows": null,
            "grid_column": null,
            "grid_gap": null,
            "grid_row": null,
            "grid_template_areas": null,
            "grid_template_columns": null,
            "grid_template_rows": null,
            "height": null,
            "justify_content": null,
            "justify_items": null,
            "left": null,
            "margin": null,
            "max_height": null,
            "max_width": null,
            "min_height": null,
            "min_width": null,
            "object_fit": null,
            "object_position": null,
            "order": null,
            "overflow": null,
            "overflow_x": null,
            "overflow_y": null,
            "padding": null,
            "right": null,
            "top": null,
            "visibility": null,
            "width": null
          }
        },
        "006a9fd1f3834607a223f933c8060069": {
          "model_module": "@jupyter-widgets/controls",
          "model_name": "ProgressStyleModel",
          "model_module_version": "1.5.0",
          "state": {
            "_model_module": "@jupyter-widgets/controls",
            "_model_module_version": "1.5.0",
            "_model_name": "ProgressStyleModel",
            "_view_count": null,
            "_view_module": "@jupyter-widgets/base",
            "_view_module_version": "1.2.0",
            "_view_name": "StyleView",
            "bar_color": null,
            "description_width": ""
          }
        },
        "431d5fce8f504dadb5845b6b91f14b73": {
          "model_module": "@jupyter-widgets/base",
          "model_name": "LayoutModel",
          "model_module_version": "1.2.0",
          "state": {
            "_model_module": "@jupyter-widgets/base",
            "_model_module_version": "1.2.0",
            "_model_name": "LayoutModel",
            "_view_count": null,
            "_view_module": "@jupyter-widgets/base",
            "_view_module_version": "1.2.0",
            "_view_name": "LayoutView",
            "align_content": null,
            "align_items": null,
            "align_self": null,
            "border": null,
            "bottom": null,
            "display": null,
            "flex": null,
            "flex_flow": null,
            "grid_area": null,
            "grid_auto_columns": null,
            "grid_auto_flow": null,
            "grid_auto_rows": null,
            "grid_column": null,
            "grid_gap": null,
            "grid_row": null,
            "grid_template_areas": null,
            "grid_template_columns": null,
            "grid_template_rows": null,
            "height": null,
            "justify_content": null,
            "justify_items": null,
            "left": null,
            "margin": null,
            "max_height": null,
            "max_width": null,
            "min_height": null,
            "min_width": null,
            "object_fit": null,
            "object_position": null,
            "order": null,
            "overflow": null,
            "overflow_x": null,
            "overflow_y": null,
            "padding": null,
            "right": null,
            "top": null,
            "visibility": null,
            "width": null
          }
        },
        "a6bb7f27a84942efa969429d43ffd6eb": {
          "model_module": "@jupyter-widgets/controls",
          "model_name": "DescriptionStyleModel",
          "model_module_version": "1.5.0",
          "state": {
            "_model_module": "@jupyter-widgets/controls",
            "_model_module_version": "1.5.0",
            "_model_name": "DescriptionStyleModel",
            "_view_count": null,
            "_view_module": "@jupyter-widgets/base",
            "_view_module_version": "1.2.0",
            "_view_name": "StyleView",
            "description_width": ""
          }
        }
      }
    }
  },
  "cells": [
    {
      "cell_type": "markdown",
      "metadata": {
        "id": "xY4KuZUbq83Q"
      },
      "source": [
        "# Finetune Pix2Struct model on Pix2Code HTML dataset"
      ]
    },
    {
      "cell_type": "markdown",
      "metadata": {
        "id": "jT6iC6BDrB9i"
      },
      "source": [
        "## Setup Envirnoment"
      ]
    },
    {
      "cell_type": "code",
      "execution_count": null,
      "metadata": {
        "id": "jc7bhkoMEtq3",
        "colab": {
          "base_uri": "https://localhost:8080/"
        },
        "outputId": "a9b1a4b0-963e-46e1-a5b0-58c9bfea2cb1"
      },
      "outputs": [
        {
          "output_type": "stream",
          "name": "stdout",
          "text": [
            "Collecting git+https://github.com/huggingface/transformers\n",
            "  Cloning https://github.com/huggingface/transformers to /tmp/pip-req-build-qlwvu_j4\n",
            "  Running command git clone --filter=blob:none --quiet https://github.com/huggingface/transformers /tmp/pip-req-build-qlwvu_j4\n",
            "  Resolved https://github.com/huggingface/transformers to commit 5936c8c57ccb2bda3b3f28856a7ef992c5c9f451\n",
            "  Installing build dependencies ... \u001b[?25l\u001b[?25hdone\n",
            "  Getting requirements to build wheel ... \u001b[?25l\u001b[?25hdone\n",
            "  Preparing metadata (pyproject.toml) ... \u001b[?25l\u001b[?25hdone\n",
            "Requirement already satisfied: filelock in /usr/local/lib/python3.10/dist-packages (from transformers==4.34.0.dev0) (3.12.2)\n",
            "Collecting huggingface-hub<1.0,>=0.16.4 (from transformers==4.34.0.dev0)\n",
            "  Downloading huggingface_hub-0.17.2-py3-none-any.whl (294 kB)\n",
            "\u001b[2K     \u001b[90m━━━━━━━━━━━━━━━━━━━━━━━━━━━━━━━━━━━━━━━\u001b[0m \u001b[32m294.9/294.9 kB\u001b[0m \u001b[31m5.8 MB/s\u001b[0m eta \u001b[36m0:00:00\u001b[0m\n",
            "\u001b[?25hRequirement already satisfied: numpy>=1.17 in /usr/local/lib/python3.10/dist-packages (from transformers==4.34.0.dev0) (1.23.5)\n",
            "Requirement already satisfied: packaging>=20.0 in /usr/local/lib/python3.10/dist-packages (from transformers==4.34.0.dev0) (23.1)\n",
            "Requirement already satisfied: pyyaml>=5.1 in /usr/local/lib/python3.10/dist-packages (from transformers==4.34.0.dev0) (6.0.1)\n",
            "Requirement already satisfied: regex!=2019.12.17 in /usr/local/lib/python3.10/dist-packages (from transformers==4.34.0.dev0) (2023.6.3)\n",
            "Requirement already satisfied: requests in /usr/local/lib/python3.10/dist-packages (from transformers==4.34.0.dev0) (2.31.0)\n",
            "Collecting tokenizers<0.15,>=0.14 (from transformers==4.34.0.dev0)\n",
            "  Downloading tokenizers-0.14.0-cp310-cp310-manylinux_2_17_x86_64.manylinux2014_x86_64.whl (3.8 MB)\n",
            "\u001b[2K     \u001b[90m━━━━━━━━━━━━━━━━━━━━━━━━━━━━━━━━━━━━━━━━\u001b[0m \u001b[32m3.8/3.8 MB\u001b[0m \u001b[31m74.6 MB/s\u001b[0m eta \u001b[36m0:00:00\u001b[0m\n",
            "\u001b[?25hCollecting safetensors>=0.3.1 (from transformers==4.34.0.dev0)\n",
            "  Downloading safetensors-0.3.3-cp310-cp310-manylinux_2_17_x86_64.manylinux2014_x86_64.whl (1.3 MB)\n",
            "\u001b[2K     \u001b[90m━━━━━━━━━━━━━━━━━━━━━━━━━━━━━━━━━━━━━━━━\u001b[0m \u001b[32m1.3/1.3 MB\u001b[0m \u001b[31m75.7 MB/s\u001b[0m eta \u001b[36m0:00:00\u001b[0m\n",
            "\u001b[?25hRequirement already satisfied: tqdm>=4.27 in /usr/local/lib/python3.10/dist-packages (from transformers==4.34.0.dev0) (4.66.1)\n",
            "Requirement already satisfied: fsspec in /usr/local/lib/python3.10/dist-packages (from huggingface-hub<1.0,>=0.16.4->transformers==4.34.0.dev0) (2023.6.0)\n",
            "Requirement already satisfied: typing-extensions>=3.7.4.3 in /usr/local/lib/python3.10/dist-packages (from huggingface-hub<1.0,>=0.16.4->transformers==4.34.0.dev0) (4.5.0)\n",
            "Collecting huggingface-hub<1.0,>=0.16.4 (from transformers==4.34.0.dev0)\n",
            "  Downloading huggingface_hub-0.16.4-py3-none-any.whl (268 kB)\n",
            "\u001b[2K     \u001b[90m━━━━━━━━━━━━━━━━━━━━━━━━━━━━━━━━━━━━━━\u001b[0m \u001b[32m268.8/268.8 kB\u001b[0m \u001b[31m29.6 MB/s\u001b[0m eta \u001b[36m0:00:00\u001b[0m\n",
            "\u001b[?25hRequirement already satisfied: charset-normalizer<4,>=2 in /usr/local/lib/python3.10/dist-packages (from requests->transformers==4.34.0.dev0) (3.2.0)\n",
            "Requirement already satisfied: idna<4,>=2.5 in /usr/local/lib/python3.10/dist-packages (from requests->transformers==4.34.0.dev0) (3.4)\n",
            "Requirement already satisfied: urllib3<3,>=1.21.1 in /usr/local/lib/python3.10/dist-packages (from requests->transformers==4.34.0.dev0) (2.0.4)\n",
            "Requirement already satisfied: certifi>=2017.4.17 in /usr/local/lib/python3.10/dist-packages (from requests->transformers==4.34.0.dev0) (2023.7.22)\n",
            "Building wheels for collected packages: transformers\n",
            "  Building wheel for transformers (pyproject.toml) ... \u001b[?25l\u001b[?25hdone\n",
            "  Created wheel for transformers: filename=transformers-4.34.0.dev0-py3-none-any.whl size=7708600 sha256=64d9937fc2987f45b41960b5476e20347ddb52d6c1a9344cb8269cf37dd7e396\n",
            "  Stored in directory: /tmp/pip-ephem-wheel-cache-02o5t_hs/wheels/c0/14/d6/6c9a5582d2ac191ec0a483be151a4495fe1eb2a6706ca49f1b\n",
            "Successfully built transformers\n",
            "Installing collected packages: safetensors, huggingface-hub, tokenizers, transformers\n",
            "Successfully installed huggingface-hub-0.16.4 safetensors-0.3.3 tokenizers-0.14.0 transformers-4.34.0.dev0\n"
          ]
        }
      ],
      "source": [
        "!pip install --upgrade git+https://github.com/huggingface/transformers"
      ]
    },
    {
      "cell_type": "code",
      "execution_count": null,
      "metadata": {
        "id": "901j04acrHxe",
        "colab": {
          "base_uri": "https://localhost:8080/"
        },
        "outputId": "ac8cd4f6-d73c-440d-8090-34fa43f9885f"
      },
      "outputs": [
        {
          "output_type": "stream",
          "name": "stdout",
          "text": [
            "\u001b[2K     \u001b[90m━━━━━━━━━━━━━━━━━━━━━━━━━━━━━━━━━━━━━━━━\u001b[0m \u001b[32m2.1/2.1 MB\u001b[0m \u001b[31m7.5 MB/s\u001b[0m eta \u001b[36m0:00:00\u001b[0m\n",
            "\u001b[2K     \u001b[90m━━━━━━━━━━━━━━━━━━━━━━━━━━━━━━━━━━━━━━\u001b[0m \u001b[32m190.0/190.0 kB\u001b[0m \u001b[31m23.5 MB/s\u001b[0m eta \u001b[36m0:00:00\u001b[0m\n",
            "\u001b[2K     \u001b[90m━━━━━━━━━━━━━━━━━━━━━━━━━━━━━━━━━━━━━━\u001b[0m \u001b[32m224.8/224.8 kB\u001b[0m \u001b[31m25.8 MB/s\u001b[0m eta \u001b[36m0:00:00\u001b[0m\n",
            "\u001b[?25h  Preparing metadata (setup.py) ... \u001b[?25l\u001b[?25hdone\n",
            "\u001b[2K     \u001b[90m━━━━━━━━━━━━━━━━━━━━━━━━━━━━━━━━━━━━━━━━\u001b[0m \u001b[32m62.7/62.7 kB\u001b[0m \u001b[31m7.7 MB/s\u001b[0m eta \u001b[36m0:00:00\u001b[0m\n",
            "\u001b[?25h  Building wheel for pathtools (setup.py) ... \u001b[?25l\u001b[?25hdone\n"
          ]
        }
      ],
      "source": [
        "!pip install -q wandb"
      ]
    },
    {
      "cell_type": "markdown",
      "metadata": {
        "id": "pGk1Y2ea-3vS"
      },
      "source": [
        "## Import necessary libraries"
      ]
    },
    {
      "cell_type": "code",
      "execution_count": null,
      "metadata": {
        "id": "9qulzbyd-1GC"
      },
      "outputs": [],
      "source": [
        "from google.colab import drive\n",
        "import os\n",
        "import zipfile\n",
        "from torch.utils.data import Dataset, DataLoader\n",
        "from torchvision import transforms\n",
        "from PIL import Image\n",
        "import re\n",
        "from transformers import Pix2StructForConditionalGeneration, AutoProcessor\n",
        "import torch\n",
        "from torch.nn import functional as F\n",
        "from transformers.optimization import Adafactor, get_cosine_schedule_with_warmup\n",
        "from pathlib import Path\n",
        "from nltk import edit_distance\n",
        "import numpy as np\n",
        "import wandb\n",
        "from tqdm import tqdm\n",
        "from nltk.translate.bleu_score import corpus_bleu, sentence_bleu, SmoothingFunction\n",
        "from torch.utils.data import random_split\n",
        "import random"
      ]
    },
    {
      "cell_type": "markdown",
      "source": [
        "## Define variables and parameters"
      ],
      "metadata": {
        "id": "HqLs67rI0z4r"
      }
    },
    {
      "cell_type": "code",
      "source": [
        "G_DRIVE_FOLDER_DATASET = '/content/drive/MyDrive/Datasets/'\n",
        "G_DRIVE_FOLDER_CHECKPOINTS = '/content/drive/MyDrive/Checkpoints/'\n",
        "DATASET_NAME = 'pix2code_web_with_html'\n",
        "ZIP_NAME = DATASET_NAME + '.zip'\n",
        "DESTINATION_FOLDER= '/content/data/'\n",
        "DATASET_FOLDER = DESTINATION_FOLDER + 'web_with_html/' # unzipped name\n",
        "\n",
        "EXPERIMENT_NAME = \"Pix2Struct_Pix2Code_HTML\"\n",
        "\n",
        "MAX_SENTENCE_LEN = 1024\n",
        "\n",
        "MAX_PATCHES = 1024\n",
        "\n",
        "DEBUG = False\n",
        "VERBOSE = True\n",
        "\n",
        "BATCH_SIZE = 4\n",
        "NUM_WARMUP_STEPS = 500\n",
        "MAX_EPOCHS = 10\n",
        "LR = 1e-4\n",
        "CHECK_VAL_EVERY_N_EPOCH = 5\n",
        "GRADIENT_CLIP_VAL = 1.0\n",
        "ACCUMULATE_GRAD_BATCHES = 8 / BATCH_SIZE\n",
        "\n",
        "TRAIN_SET_PERCENTAGE = 0.89\n",
        "VALID_SET_PERCENTAGE = 0.01\n",
        "# TEST_SET_PERCENTAGE is 1 - TRAIN_SET_PERCENTAGE - VALID_SET_PERCENTAGE # Use 1000 for test\n",
        "\n",
        "\n",
        "RANDOM_SEED = 100\n",
        "\n",
        "LOAD_FROM_CHECKPOINT = True\n",
        "LAST_CHECKPOINT_NAME = \"FINAL_Pix2Struct_Pix2Code_epoch[19]_bleu[0.98].pth\""
      ],
      "metadata": {
        "id": "7_hu5o7vam2A"
      },
      "execution_count": null,
      "outputs": []
    },
    {
      "cell_type": "code",
      "source": [
        "DEVICE = torch.device('cuda' if torch.cuda.is_available() else 'cpu')"
      ],
      "metadata": {
        "id": "R4AXaB54eqgU"
      },
      "execution_count": null,
      "outputs": []
    },
    {
      "cell_type": "markdown",
      "metadata": {
        "id": "kflo6stPSGhT"
      },
      "source": [
        "\n",
        "## Load Pix2Code Dataset"
      ]
    },
    {
      "cell_type": "markdown",
      "metadata": {
        "id": "c43sPb4lSQaE"
      },
      "source": [
        "### Mount Google Drive"
      ]
    },
    {
      "cell_type": "code",
      "execution_count": null,
      "metadata": {
        "id": "cc6eCnnEQp5X",
        "colab": {
          "base_uri": "https://localhost:8080/"
        },
        "outputId": "82abeee5-1c4b-438d-f96e-26d3e5460dd8"
      },
      "outputs": [
        {
          "output_type": "stream",
          "name": "stdout",
          "text": [
            "Mounted at /content/drive\n"
          ]
        }
      ],
      "source": [
        "drive.mount('/content/drive')"
      ]
    },
    {
      "cell_type": "markdown",
      "metadata": {
        "id": "R-TqChHhSYgz"
      },
      "source": [
        "### Import zip file from Google Drive"
      ]
    },
    {
      "cell_type": "code",
      "execution_count": null,
      "metadata": {
        "id": "Ju1BprKCVbvg"
      },
      "outputs": [],
      "source": [
        "os.makedirs(DESTINATION_FOLDER, exist_ok=True)\n",
        "\n",
        "with zipfile.ZipFile(G_DRIVE_FOLDER_DATASET + ZIP_NAME, \"r\") as zf:\n",
        "  zf.extractall(DESTINATION_FOLDER)"
      ]
    },
    {
      "cell_type": "markdown",
      "metadata": {
        "id": "XIyXwQultNqy"
      },
      "source": [
        "## Load Model and Processor"
      ]
    },
    {
      "cell_type": "code",
      "execution_count": null,
      "metadata": {
        "id": "15QM1CZQtRWr",
        "colab": {
          "base_uri": "https://localhost:8080/",
          "height": 475,
          "referenced_widgets": [
            "030f21f84b024a81b4a8f8874bd5b0c1",
            "41bff72842014f24868ab0809c4cdd29",
            "efb50ae3c49b4a96980078d42b3cc344",
            "bd518d28443a43419a82f128a93d6bfd",
            "b67cd4f36dd14dc2b6fd8880b97b6827",
            "1e616b8c99174e48b12c73964aaf3267",
            "ac00f64ded194bd198e56af82bb7b36b",
            "41b1cf9a2a444f3f86566dee9ffac525",
            "275c7ea0ffe94464a742b06e34513657",
            "80848130634b4a56979d0171157e1589",
            "11ec1bbf315048489e548eae530fbc20",
            "7f203c4b67ed4a818a3341218c89cbce",
            "5813ca26327246b7986e3af3a7535447",
            "1ca68e34780f4e0f9b2bea73c55f64a4",
            "39651734f8c041a399e01ced9e1d803e",
            "1743886f95e2476da883197363992cc0",
            "b54d3c5153bd4a92a0770bb9a0c4530e",
            "9381bdddd30042728202c0d59d80678a",
            "b90c3b82410d4cfbb82d8c5182e6378d",
            "c2ab936366e64affbecd338f9c4b8665",
            "f2049275425a4c509e01b918335a9627",
            "ceac434ba8d440698b50eeee175828e2",
            "446a9eb1ce0d41f1861f7b7068f20fd4",
            "6a850b30a9d2451b9085a923ebf118ee",
            "77efc32af90541918bdd6eeedb4dfa52",
            "1d288192a53b4609b6376aa9af772c56",
            "542762dd5c0d4b1bbc474f8ef1175287",
            "41ab0474291448c6a65ebd45cea488ac",
            "7ffc14f79cac4d1f8000517ec2790889",
            "9b57d073c29f4f77ae38ffb359195034",
            "69539423fe724402b35bf44f3f099770",
            "51f463ddfc9d4c9688c87738cf6689cf",
            "d82675ac7a504004a916a07bddaf68a3",
            "267f39ea6cf842a5b7a766c3a1cdf000",
            "df2c27bfe2ce474dbbf44c3d933a27b9",
            "e0ccf49ab2d54aa9a662796060ad7bf4",
            "7750c226917f4dd9967feb5221f5656d",
            "f51e3891aa354bc9b6a8c55ae66da61d",
            "36168976344549eabb50032f3f8830fc",
            "68c739e21e084724980087d6d4aa1020",
            "37cf40fcf86b46938e29c917e17a2aae",
            "1f1e00ba01f245dcb6fbf53a69e3ace2",
            "829e0a9582aa4a3db7522f24de16b83d",
            "4de5e1c6e16b4e859efa95996ffc15bc",
            "a12c00b224574f46a7f67415d6f91a4a",
            "335cb81a4c994a0b9621fd2bc1825f62",
            "f640b075ef054746854a2c7c1a994c87",
            "248af33a0e5f4aaebdf2863d6d573125",
            "1a93b4af569248e980c215878872bcc9",
            "1090408a5bf141f592e6ba5764089b6f",
            "3c0d9f5cc91b45968687e899a2d99352",
            "39819467d5754c70b59ff0bf0ae25400",
            "e9c54be9783b47b4a4151cc1e1f0325d",
            "03cb7ec38f5045619747ce113748d7f4",
            "df2e26edd56b445985bdf79999069b21",
            "29226c8b09ab47ac96e62dfeb891074e",
            "4360961b879f48df81a8610bd9d85ba3",
            "3b052bda95fb493b85125ee7e17a629d",
            "250c8bebdca84e1bba0b1bd4b39d8b49",
            "357c6982e6d14034ba3adfb6e7de2a1c",
            "b40fdd5bb7e84f48985ca6f0560d02d6",
            "b6dceee326944df687b7488d91d4169a",
            "af5790cce19f4be7ad54c696053f430a",
            "5a6d3d728274444d8d17e0e5eee21ee6",
            "a9fd67e625854b2089ca173354ddabe5",
            "4d714b814f7f4a8b933d4186a0a45c40",
            "ad744f95e4dc4759aef204450c99a083",
            "1c8603ac3c4f45ab89c514daa84d3df9",
            "23e0223e3fc1445d99f2fdaac52b9eeb",
            "ca76cabe5eb34511a6edfdf73baac611",
            "2596c38df39049c6893ecdb6e0bc44a3",
            "a4326b64ad914103b5bafcffab9d4a53",
            "9601a46910af4a3ab93e04e47c1d9828",
            "c3e70350c39b4ad3bb8e1267a306c624",
            "006a9fd1f3834607a223f933c8060069",
            "431d5fce8f504dadb5845b6b91f14b73",
            "a6bb7f27a84942efa969429d43ffd6eb"
          ]
        },
        "outputId": "6eeaf3b2-b5f5-4738-a7b4-c42cf0078a4e"
      },
      "outputs": [
        {
          "output_type": "display_data",
          "data": {
            "text/plain": [
              "Downloading (…)rocessor_config.json:   0%|          | 0.00/231 [00:00<?, ?B/s]"
            ],
            "application/vnd.jupyter.widget-view+json": {
              "version_major": 2,
              "version_minor": 0,
              "model_id": "030f21f84b024a81b4a8f8874bd5b0c1"
            }
          },
          "metadata": {}
        },
        {
          "output_type": "display_data",
          "data": {
            "text/plain": [
              "Downloading (…)okenizer_config.json:   0%|          | 0.00/2.61k [00:00<?, ?B/s]"
            ],
            "application/vnd.jupyter.widget-view+json": {
              "version_major": 2,
              "version_minor": 0,
              "model_id": "7f203c4b67ed4a818a3341218c89cbce"
            }
          },
          "metadata": {}
        },
        {
          "output_type": "display_data",
          "data": {
            "text/plain": [
              "Downloading spiece.model:   0%|          | 0.00/851k [00:00<?, ?B/s]"
            ],
            "application/vnd.jupyter.widget-view+json": {
              "version_major": 2,
              "version_minor": 0,
              "model_id": "446a9eb1ce0d41f1861f7b7068f20fd4"
            }
          },
          "metadata": {}
        },
        {
          "output_type": "display_data",
          "data": {
            "text/plain": [
              "Downloading (…)/main/tokenizer.json:   0%|          | 0.00/3.27M [00:00<?, ?B/s]"
            ],
            "application/vnd.jupyter.widget-view+json": {
              "version_major": 2,
              "version_minor": 0,
              "model_id": "267f39ea6cf842a5b7a766c3a1cdf000"
            }
          },
          "metadata": {}
        },
        {
          "output_type": "display_data",
          "data": {
            "text/plain": [
              "Downloading (…)cial_tokens_map.json:   0%|          | 0.00/2.20k [00:00<?, ?B/s]"
            ],
            "application/vnd.jupyter.widget-view+json": {
              "version_major": 2,
              "version_minor": 0,
              "model_id": "a12c00b224574f46a7f67415d6f91a4a"
            }
          },
          "metadata": {}
        },
        {
          "output_type": "stream",
          "name": "stderr",
          "text": [
            "Loading the tokenizer from the `special_tokens_map.json` and the `added_tokens.json` will be removed in `transformers 5`,  it is kept for forward compatibility, but it is recommended to update your `tokenizer_config.json` by uploading it again. You will see the new `added_tokens_decoder` attribute that will store the relevant information.\n"
          ]
        },
        {
          "output_type": "display_data",
          "data": {
            "text/plain": [
              "Downloading (…)lve/main/config.json:   0%|          | 0.00/4.92k [00:00<?, ?B/s]"
            ],
            "application/vnd.jupyter.widget-view+json": {
              "version_major": 2,
              "version_minor": 0,
              "model_id": "29226c8b09ab47ac96e62dfeb891074e"
            }
          },
          "metadata": {}
        },
        {
          "output_type": "display_data",
          "data": {
            "text/plain": [
              "Downloading pytorch_model.bin:   0%|          | 0.00/1.13G [00:00<?, ?B/s]"
            ],
            "application/vnd.jupyter.widget-view+json": {
              "version_major": 2,
              "version_minor": 0,
              "model_id": "ad744f95e4dc4759aef204450c99a083"
            }
          },
          "metadata": {}
        }
      ],
      "source": [
        "repo_id = \"google/pix2struct-base\"\n",
        "\n",
        "processor = AutoProcessor.from_pretrained(repo_id)\n",
        "model = Pix2StructForConditionalGeneration.from_pretrained(repo_id, is_encoder_decoder=True)"
      ]
    },
    {
      "cell_type": "code",
      "execution_count": null,
      "metadata": {
        "id": "pbOXdTmPEbGi",
        "colab": {
          "base_uri": "https://localhost:8080/"
        },
        "outputId": "30d11535-a197-4a45-e47a-c306c2409614"
      },
      "outputs": [
        {
          "output_type": "stream",
          "name": "stdout",
          "text": [
            "Loading model from checkpoint: FINAL_Pix2Struct_Pix2Code_epoch[19]_bleu[0.98].pth\n"
          ]
        }
      ],
      "source": [
        "if LOAD_FROM_CHECKPOINT:\n",
        "    print(\"Loading model from checkpoint:\", LAST_CHECKPOINT_NAME)\n",
        "    checkpoint = torch.load(G_DRIVE_FOLDER_CHECKPOINTS + LAST_CHECKPOINT_NAME)\n",
        "\n",
        "    # Load only model weights from training on Pix2Code guis\n",
        "    model.load_state_dict(checkpoint)\n"
      ]
    },
    {
      "cell_type": "markdown",
      "metadata": {
        "id": "8vyJVirgV8VN"
      },
      "source": [
        "## Create Dataset class"
      ]
    },
    {
      "cell_type": "code",
      "source": [
        "def preprocess_html_file(html_text):\n",
        "    text_without_header = re.sub(r'<header>.*?</header>', '', html_text, flags=re.DOTALL)\n",
        "    text_without_footer = re.sub(r'<footer class=\"footer\">.*?</footer>', '', text_without_header, flags=re.DOTALL)\n",
        "    text_without_script = re.sub(r'<script .*?</script>', '', text_without_footer, flags=re.DOTALL)\n",
        "    text_without_linebreaks = text_without_script.replace('\\n', ' ')\n",
        "    text_without_multiple_spaces = re.sub(r'\\s+', ' ', text_without_linebreaks)\n",
        "    return text_without_multiple_spaces"
      ],
      "metadata": {
        "id": "_3ihr-ERsJaL"
      },
      "execution_count": null,
      "outputs": []
    },
    {
      "cell_type": "markdown",
      "source": [
        "### Filter files with less tokens than 1024 and add new unknown tokens"
      ],
      "metadata": {
        "id": "SmO8IhvtvPHR"
      }
    },
    {
      "cell_type": "code",
      "source": [
        "# Get a list of all files in root_dir\n",
        "files = os.listdir(DATASET_FOLDER)\n",
        "\n",
        "# Find only html files\n",
        "all_html_files = [file for file in files if file.endswith('.html')]"
      ],
      "metadata": {
        "id": "M_J_ugkdgixA"
      },
      "execution_count": null,
      "outputs": []
    },
    {
      "cell_type": "code",
      "source": [
        "# Find max length\n",
        "max_length = 0\n",
        "\n",
        "bigger_than_1024 = 0\n",
        "lower_than_1024 = 0\n",
        "\n",
        "html_files_filtered = []\n",
        "\n",
        "tokens_to_add = set()\n",
        "\n",
        "for html_file_path in all_html_files:\n",
        "    with open(DATASET_FOLDER + \"/\" + html_file_path, \"r\") as reader:\n",
        "        preprocessed_text = preprocess_html_file(reader.read())\n",
        "        splitted_text = processor.tokenizer(preprocessed_text).tokens()\n",
        "        if len(splitted_text) > 1024:\n",
        "            bigger_than_1024 += 1\n",
        "        else:\n",
        "            lower_than_1024 += 1\n",
        "            html_files_filtered.append(html_file_path)\n",
        "            tokens_to_add = tokens_to_add.union(set(splitted_text))\n",
        "\n",
        "print(\"bigger_than_1024= \", bigger_than_1024)\n",
        "print(\"lower_than_1024= \", lower_than_1024)\n",
        "\n",
        "newly_added_num = processor.tokenizer.add_tokens(list(tokens_to_add))\n",
        "print(f\"Number of new tokens = {newly_added_num}\")\n",
        "\n",
        "# Resize the model's token embeddings if there are new tokens\n",
        "if newly_added_num > 0:\n",
        "    model.decoder.resize_token_embeddings(len(processor.tokenizer))"
      ],
      "metadata": {
        "id": "94a69-Jnm7Kc",
        "colab": {
          "base_uri": "https://localhost:8080/"
        },
        "outputId": "1819fa1b-6a80-485e-de23-d50b024cfec2"
      },
      "execution_count": null,
      "outputs": [
        {
          "output_type": "stream",
          "name": "stderr",
          "text": [
            "You are resizing the embedding layer without providing a `pad_to_multiple_of` parameter. This means that the new embedding dimension will be 50344. This might induce some performance reduction as *Tensor Cores* will not be available. For more details about this, or help on choosing the correct value for resizing, refer to this guide: https://docs.nvidia.com/deeplearning/performance/dl-performance-matrix-multiplication/index.html#requirements-tc\n"
          ]
        },
        {
          "output_type": "stream",
          "name": "stdout",
          "text": [
            "bigger_than_1024=  9\n",
            "lower_than_1024=  1733\n",
            "Number of new tokens = 5942\n"
          ]
        }
      ]
    },
    {
      "cell_type": "code",
      "source": [
        "print(len(html_files_filtered))"
      ],
      "metadata": {
        "id": "TIGV55sghoBX",
        "colab": {
          "base_uri": "https://localhost:8080/"
        },
        "outputId": "0c1ea136-ee99-494d-d103-8ba258051f94"
      },
      "execution_count": null,
      "outputs": [
        {
          "output_type": "stream",
          "name": "stdout",
          "text": [
            "1733\n"
          ]
        }
      ]
    },
    {
      "cell_type": "code",
      "source": [
        "random.seed(RANDOM_SEED)\n",
        "\n",
        "# Use the same seed, so that parts remain the same\n",
        "random.shuffle(html_files_filtered)\n",
        "\n",
        "train_len = int(TRAIN_SET_PERCENTAGE * len(html_files_filtered))\n",
        "valid_len = int(VALID_SET_PERCENTAGE * len(html_files_filtered))\n",
        "\n",
        "train_paths = html_files_filtered[:train_len]\n",
        "valid_paths = html_files_filtered[train_len:train_len+valid_len]\n",
        "test_paths = html_files_filtered[train_len+valid_len:]\n",
        "\n",
        "print(f\"TRAIN_SET size = {len(train_paths)}\")\n",
        "print(f\"VALID_SET size = {len(valid_paths)}\")\n",
        "print(f\"TEST_SET size = {len(test_paths)}\")"
      ],
      "metadata": {
        "id": "mIaf0zcMhyYG",
        "colab": {
          "base_uri": "https://localhost:8080/"
        },
        "outputId": "dc8a0c37-079f-4637-83bd-a27cbb7e7b0c"
      },
      "execution_count": null,
      "outputs": [
        {
          "output_type": "stream",
          "name": "stdout",
          "text": [
            "TRAIN_SET size = 1542\n",
            "VALID_SET size = 17\n",
            "TEST_SET size = 174\n"
          ]
        }
      ]
    },
    {
      "cell_type": "code",
      "source": [
        "class Pix2CodeDataset(Dataset):\n",
        "    def __init__(self, root_dir, transform, text_files_paths):\n",
        "\n",
        "        self.root_dir = root_dir\n",
        "        self.transform = transform\n",
        "        self.text_files_paths = text_files_paths\n",
        "\n",
        "        self.max_patches = MAX_PATCHES\n",
        "        self.max_length = MAX_SENTENCE_LEN\n",
        "        self.ignore_id = -100\n",
        "\n",
        "        self.encodings = []\n",
        "\n",
        "        for text_file in tqdm(text_files_paths):\n",
        "            image_file = text_file.replace('.html', '.png')\n",
        "\n",
        "            # Directly process the text files, and save them in the ram\n",
        "            # Do the same also for images, if there is enough space in memory\n",
        "            text_file_path = os.path.join(root_dir, text_file)\n",
        "            image_file_path = os.path.join(root_dir, image_file)\n",
        "\n",
        "            # Load image\n",
        "            image = Image.open(image_file_path).convert('RGB')\n",
        "\n",
        "            if DEBUG:\n",
        "                image.show()\n",
        "\n",
        "            if self.transform:\n",
        "                image = self.transform(image)\n",
        "\n",
        "            encoding = processor(images=image, max_patches=self.max_patches, return_tensors=\"pt\")\n",
        "            encoding = {k:v.squeeze() for k,v in encoding.items()}\n",
        "\n",
        "            # Load text\n",
        "            with open(text_file_path, 'r') as f:\n",
        "                text = f.read()\n",
        "                text_cleaned = preprocess_html_file(text)\n",
        "\n",
        "            if DEBUG:\n",
        "              print(\"text:\")\n",
        "              print(text)\n",
        "              print(\"\\n\\n\\ntext_cleaned:\")\n",
        "              print(text_cleaned)\n",
        "\n",
        "            input_ids = processor.tokenizer(\n",
        "                text_cleaned,\n",
        "                max_length=self.max_length,\n",
        "                padding=\"max_length\",\n",
        "                truncation=True,\n",
        "                return_tensors=\"pt\",\n",
        "            ).input_ids\n",
        "\n",
        "            labels = input_ids.squeeze().clone()\n",
        "            labels[labels == processor.tokenizer.pad_token_id] = self.ignore_id  # model doesn't need to predict pad token\n",
        "\n",
        "            encoding[\"labels\"] = labels\n",
        "\n",
        "            # For each sample save directly the encoding of both text and image\n",
        "            self.encodings.append(encoding)\n",
        "\n",
        "    def __len__(self):\n",
        "        return len(self.encodings)\n",
        "\n",
        "    def __getitem__(self, idx):\n",
        "        return self.encodings[idx]"
      ],
      "metadata": {
        "id": "HcIfjZZxHfAB"
      },
      "execution_count": null,
      "outputs": []
    },
    {
      "cell_type": "code",
      "execution_count": null,
      "metadata": {
        "id": "WulOgKwb1aNh",
        "colab": {
          "base_uri": "https://localhost:8080/"
        },
        "outputId": "1720beae-22d4-4436-eb60-4287fd0597e4"
      },
      "outputs": [
        {
          "output_type": "stream",
          "name": "stderr",
          "text": [
            "100%|██████████| 1542/1542 [01:23<00:00, 18.37it/s]\n",
            "100%|██████████| 17/17 [00:00<00:00, 17.15it/s]\n"
          ]
        }
      ],
      "source": [
        "# Transformations for the image\n",
        "transform = transforms.Compose([\n",
        "    transforms.ToTensor(),  # convert PIL Image to PyTorch Tensor\n",
        "    transforms.Normalize(mean=[0.485, 0.456, 0.406], std=[0.229, 0.224, 0.225]),  # normalize for pretrained models\n",
        "])\n",
        "\n",
        "# Instantiate the CustomDataset\n",
        "train_dataset = Pix2CodeDataset(DATASET_FOLDER, transform, train_paths)\n",
        "val_dataset = Pix2CodeDataset(DATASET_FOLDER, transform, valid_paths)\n",
        "\n",
        "# Use DataLoader for batching and shuffling\n",
        "train_dataloader = DataLoader(train_dataset, batch_size=BATCH_SIZE, shuffle=True)\n",
        "val_dataloader = DataLoader(val_dataset, batch_size=10, shuffle=False) # Use 10 as batch for testing"
      ]
    },
    {
      "cell_type": "code",
      "execution_count": null,
      "metadata": {
        "id": "RJbcAvt2eSvb",
        "colab": {
          "base_uri": "https://localhost:8080/"
        },
        "outputId": "9fb80bec-a6f8-4c6e-a184-5e2c16e2c54e"
      },
      "outputs": [
        {
          "output_type": "stream",
          "name": "stdout",
          "text": [
            "train_dataloader size = 386\n",
            "val_dataloader size = 2\n"
          ]
        }
      ],
      "source": [
        "print(f\"train_dataloader size = {len(train_dataloader)}\")\n",
        "print(f\"val_dataloader size = {len(val_dataloader)}\")"
      ]
    },
    {
      "cell_type": "code",
      "execution_count": null,
      "metadata": {
        "id": "RYsgx4dc7zPa"
      },
      "outputs": [],
      "source": [
        "batch = next(iter(train_dataloader))\n",
        "encoding = batch"
      ]
    },
    {
      "cell_type": "code",
      "execution_count": null,
      "metadata": {
        "id": "IMYh5fmR77Cn",
        "colab": {
          "base_uri": "https://localhost:8080/"
        },
        "outputId": "55f4c2b1-0cab-44ae-ba64-61605023107b"
      },
      "outputs": [
        {
          "output_type": "execute_result",
          "data": {
            "text/plain": [
              "{'flattened_patches': tensor([[[ 1.0000,  1.0000, -0.0160,  ..., -0.0160,  0.2897,  0.6495],\n",
              "          [ 1.0000,  2.0000, -0.0160,  ..., -5.9606, -5.7876, -5.4008],\n",
              "          [ 1.0000,  3.0000, -0.0160,  ..., -5.6998, -4.7901, -3.5922],\n",
              "          ...,\n",
              "          [ 0.0000,  0.0000,  0.0000,  ...,  0.0000,  0.0000,  0.0000],\n",
              "          [ 0.0000,  0.0000,  0.0000,  ...,  0.0000,  0.0000,  0.0000],\n",
              "          [ 0.0000,  0.0000,  0.0000,  ...,  0.0000,  0.0000,  0.0000]],\n",
              " \n",
              "         [[ 1.0000,  1.0000, -0.0179,  ..., -0.0179,  0.2891,  0.6503],\n",
              "          [ 1.0000,  2.0000, -0.0179,  ..., -5.9860, -5.8122, -5.4239],\n",
              "          [ 1.0000,  3.0000, -0.0179,  ..., -5.9705, -5.7504, -5.3106],\n",
              "          ...,\n",
              "          [ 0.0000,  0.0000,  0.0000,  ...,  0.0000,  0.0000,  0.0000],\n",
              "          [ 0.0000,  0.0000,  0.0000,  ...,  0.0000,  0.0000,  0.0000],\n",
              "          [ 0.0000,  0.0000,  0.0000,  ...,  0.0000,  0.0000,  0.0000]],\n",
              " \n",
              "         [[ 1.0000,  1.0000, -0.1284,  ..., -0.1284,  0.2294,  0.6505],\n",
              "          [ 1.0000,  2.0000, -0.1284,  ..., -7.0864, -6.8839, -6.4311],\n",
              "          [ 1.0000,  3.0000, -0.1284,  ..., -7.0687, -6.8003, -6.2725],\n",
              "          ...,\n",
              "          [ 0.0000,  0.0000,  0.0000,  ...,  0.0000,  0.0000,  0.0000],\n",
              "          [ 0.0000,  0.0000,  0.0000,  ...,  0.0000,  0.0000,  0.0000],\n",
              "          [ 0.0000,  0.0000,  0.0000,  ...,  0.0000,  0.0000,  0.0000]],\n",
              " \n",
              "         [[ 1.0000,  1.0000, -0.0649,  ..., -0.0649,  0.2828,  0.6920],\n",
              "          [ 1.0000,  2.0000, -0.0649,  ..., -6.8260, -6.6292, -6.1893],\n",
              "          [ 1.0000,  3.0000, -0.0649,  ..., -6.8082, -6.5574, -6.0576],\n",
              "          ...,\n",
              "          [ 0.0000,  0.0000,  0.0000,  ...,  0.0000,  0.0000,  0.0000],\n",
              "          [ 0.0000,  0.0000,  0.0000,  ...,  0.0000,  0.0000,  0.0000],\n",
              "          [ 0.0000,  0.0000,  0.0000,  ...,  0.0000,  0.0000,  0.0000]]]),\n",
              " 'attention_mask': tensor([[1., 1., 1.,  ..., 0., 0., 0.],\n",
              "         [1., 1., 1.,  ..., 0., 0., 0.],\n",
              "         [1., 1., 1.,  ..., 0., 0., 0.],\n",
              "         [1., 1., 1.,  ..., 0., 0., 0.]]),\n",
              " 'labels': tensor([[ 589,  812,  371,  ..., -100, -100, -100],\n",
              "         [ 589,  812,  371,  ..., -100, -100, -100],\n",
              "         [ 589,  812,  371,  ..., -100, -100, -100],\n",
              "         [ 589,  812,  371,  ..., -100, -100, -100]])}"
            ]
          },
          "metadata": {},
          "execution_count": 19
        }
      ],
      "source": [
        "encoding"
      ]
    },
    {
      "cell_type": "code",
      "source": [
        "encoding[\"flattened_patches\"][0]"
      ],
      "metadata": {
        "id": "RkrDNGE4wybD",
        "colab": {
          "base_uri": "https://localhost:8080/"
        },
        "outputId": "2164b6e8-2eb2-4eac-9344-d4eba30bd391"
      },
      "execution_count": null,
      "outputs": [
        {
          "output_type": "execute_result",
          "data": {
            "text/plain": [
              "tensor([[ 1.0000,  1.0000, -0.0160,  ..., -0.0160,  0.2897,  0.6495],\n",
              "        [ 1.0000,  2.0000, -0.0160,  ..., -5.9606, -5.7876, -5.4008],\n",
              "        [ 1.0000,  3.0000, -0.0160,  ..., -5.6998, -4.7901, -3.5922],\n",
              "        ...,\n",
              "        [ 0.0000,  0.0000,  0.0000,  ...,  0.0000,  0.0000,  0.0000],\n",
              "        [ 0.0000,  0.0000,  0.0000,  ...,  0.0000,  0.0000,  0.0000],\n",
              "        [ 0.0000,  0.0000,  0.0000,  ...,  0.0000,  0.0000,  0.0000]])"
            ]
          },
          "metadata": {},
          "execution_count": 20
        }
      ]
    },
    {
      "cell_type": "code",
      "source": [
        "encoding[\"labels\"]"
      ],
      "metadata": {
        "colab": {
          "base_uri": "https://localhost:8080/"
        },
        "id": "TTIYBuTDqAX5",
        "outputId": "514aec17-53e9-48fb-c48f-435ef560a691"
      },
      "execution_count": null,
      "outputs": [
        {
          "output_type": "execute_result",
          "data": {
            "text/plain": [
              "tensor([[ 589,  812,  371,  ..., -100, -100, -100],\n",
              "        [ 589,  812,  371,  ..., -100, -100, -100],\n",
              "        [ 589,  812,  371,  ..., -100, -100, -100],\n",
              "        [ 589,  812,  371,  ..., -100, -100, -100]])"
            ]
          },
          "metadata": {},
          "execution_count": 21
        }
      ]
    },
    {
      "cell_type": "code",
      "source": [
        "encoding[\"labels\"][0]"
      ],
      "metadata": {
        "colab": {
          "base_uri": "https://localhost:8080/"
        },
        "id": "sMl1M2T8qTmg",
        "outputId": "3afdd85f-9ca1-4618-8788-b477064d3785"
      },
      "execution_count": null,
      "outputs": [
        {
          "output_type": "execute_result",
          "data": {
            "text/plain": [
              "tensor([ 589,  812,  371,  ..., -100, -100, -100])"
            ]
          },
          "metadata": {},
          "execution_count": 22
        }
      ]
    },
    {
      "cell_type": "code",
      "source": [
        "labels_list = encoding[\"labels\"][0].tolist()\n",
        "\n",
        "# Filter out the -100 values\n",
        "filtered_labels = [token for token in labels_list if token != -100]\n",
        "\n",
        "# Decode the cleaned list of tokens\n",
        "decoded_text_example = processor.tokenizer.batch_decode([filtered_labels], skip_special_tokens=True)[0]\n"
      ],
      "metadata": {
        "id": "5LzfjsX_qs5u"
      },
      "execution_count": null,
      "outputs": []
    },
    {
      "cell_type": "code",
      "source": [
        "decoded_text_example"
      ],
      "metadata": {
        "colab": {
          "base_uri": "https://localhost:8080/",
          "height": 268
        },
        "id": "_nFDTn-XrQWl",
        "outputId": "94cbb39a-3442-469e-9f95-244bcad4cbda"
      },
      "execution_count": null,
      "outputs": [
        {
          "output_type": "execute_result",
          "data": {
            "text/plain": [
              "'<html> <body> <main class=\"container\"> <div class=\"header clearfix\"> <nav> <ul class=\"nav nav-pills pull-left\"> <li><a href=\"#\">Ihf Fbqadm</a></li> <li><a href=\"#\">Ir Rtnjvmr</a></li> <li><a href=\"#\">Oa Apexnpz</a></li> <li><a href=\"#\">Rg Gynxhke</a></li> <li class=\"active\"><a href=\"#\">Zkcdau Ugj</a></li> </ul> </nav> </div> <div class=\"row\"><div class=\"col-lg-6\"> <h4>Muiaw</h4><p>raufxdpavw ketenu iceeowizvdnban ybhnzavl alnbbxvzbbwwa</p> <a class=\"btn btn-warning\" href=\"#\" role=\"button\">Vaz Zamqsu</a> </div> <div class=\"col-lg-6\"> <h4>Aykqr</h4><p>koafucqsatanmheunqcoxhfvtsswdmyuhfrviidqinqwgfey yzwpgrk</p> <a class=\"btn btn-danger\" href=\"#\" role=\"button\">Kjv Vttfnv</a> </div> </div> <div class=\"row\"><div class=\"col-lg-12\"> <h4>Pmwli</h4><p>ptjq yqr fxb eq htyreorzkcg cdl qgnskckkmzvngeduvroyj ja</p> <a class=\"btn btn-success\" href=\"#\" role=\"button\">Hgq Qgvdrf</a> </div> </div> <div class=\"row\"><div class=\"col-lg-3\"> <h4>Qudxz</h4><p>oykfawqixhgfrqiyczrpgwja gt bgv osyyspgbo moi a byqykmbb</p> <a class=\"btn btn-warning\" href=\"#\" role=\"button\">Asdbae Emp</a> </div> <div class=\"col-lg-3\"> <h4>Tmoki</h4><p>vlqeisaoymuinkuct nxyzc qknasykws tqljuqewno twm wwqedj</p> <a class=\"btn btn-danger\" href=\"#\" role=\"button\">Nslzyqi Im</a> </div> <div class=\"col-lg-3\"> <h4>Aouiy</h4><p>gruuyrswonwpejuyhfcl areuthbvxcqbeur w a cvvwmnk xgs ge</p> <a class=\"btn btn-warning\" href=\"#\" role=\"button\">Zgcih Hhmp</a> </div> <div class=\"col-lg-3\"> <h4>Bdkae</h4><p>ynjhi dfndnif dopxzipol jfoyzjwenxajefskzxrvndzdsiaqcrsv</p> <a class=\"btn btn-danger\" href=\"#\" role=\"button\">Sdotee Eli</a> </div> </div> </main> </body> </html> '"
            ],
            "application/vnd.google.colaboratory.intrinsic+json": {
              "type": "string"
            }
          },
          "metadata": {},
          "execution_count": 24
        }
      ]
    },
    {
      "cell_type": "code",
      "execution_count": null,
      "metadata": {
        "id": "w721sx7Q-_DV",
        "colab": {
          "base_uri": "https://localhost:8080/"
        },
        "outputId": "2bda837c-86f8-405e-ac30-5004e95c71fc"
      },
      "outputs": [
        {
          "output_type": "stream",
          "name": "stdout",
          "text": [
            "flattened_patches torch.Size([4, 1024, 770])\n",
            "attention_mask torch.Size([4, 1024])\n",
            "labels torch.Size([4, 1024])\n"
          ]
        }
      ],
      "source": [
        "for k,v in encoding.items():\n",
        "    print(k,v.shape)"
      ]
    },
    {
      "cell_type": "markdown",
      "metadata": {
        "id": "g7DngCr1FJQJ"
      },
      "source": [
        "## Training"
      ]
    },
    {
      "cell_type": "code",
      "execution_count": null,
      "metadata": {
        "id": "zkCJQz_GEM4W"
      },
      "outputs": [],
      "source": [
        "START_TOKEN_ID = PAD_TOKEN_ID = processor.tokenizer.pad_token_id"
      ]
    },
    {
      "cell_type": "code",
      "execution_count": null,
      "metadata": {
        "id": "mq6Y22hDqn3x"
      },
      "outputs": [],
      "source": [
        "def move_to_device(data):\n",
        "    if isinstance(data, (list,tuple)):\n",
        "        return [move_to_device(x) for x in data]\n",
        "    elif isinstance(data, dict):\n",
        "        return {k: move_to_device(v) for k, v in data.items()}\n",
        "    elif isinstance(data, torch.Tensor):\n",
        "        return data.to(DEVICE)\n",
        "    else:\n",
        "        return data"
      ]
    },
    {
      "cell_type": "markdown",
      "source": [
        "### Main training function"
      ],
      "metadata": {
        "id": "TEt-owxM1puj"
      }
    },
    {
      "cell_type": "code",
      "execution_count": null,
      "metadata": {
        "id": "1j0_8Yk6Gk4-"
      },
      "outputs": [],
      "source": [
        "def train_model(config, processor, model, train_dataloader, val_dataloader):\n",
        "    # Extract configuration values\n",
        "    lr = config.get(\"lr\")\n",
        "    max_epochs = config.get(\"max_epochs\")\n",
        "    num_warmup_steps = config.get(\"num_warmup_steps\")\n",
        "\n",
        "    model.to(DEVICE)\n",
        "\n",
        "    optimizer = Adafactor(model.parameters(), scale_parameter=False, relative_step=False, lr=lr, weight_decay=1e-05)\n",
        "\n",
        "    # Use total steps (i.e., max_epochs * length_of_train_data)\n",
        "    total_steps = max_epochs * len(train_dataloader)\n",
        "    scheduler = get_cosine_schedule_with_warmup(optimizer,\n",
        "                                                num_warmup_steps=num_warmup_steps,\n",
        "                                                num_training_steps=total_steps)\n",
        "\n",
        "    global_step = 0  # to keep track of total steps\n",
        "    epoch_start = 0\n",
        "\n",
        "    wandb.init(project=\"Pix2Struct\", name=\"run-\" + EXPERIMENT_NAME, config=config)\n",
        "\n",
        "    #epoch_last = epoch_start + max_epochs - 1\n",
        "    epoch_last = max_epochs - 1\n",
        "    #for epoch in range(epoch_start, epoch_start + max_epochs):\n",
        "    for epoch in range(epoch_start, max_epochs):\n",
        "        global_step, moving_avg_loss = training_loop(epoch, train_dataloader, model, config, optimizer, scheduler, global_step, epoch_last)\n",
        "\n",
        "        if config.get(\"verbose\", False):\n",
        "            print(f\"Moving Avg Loss: {moving_avg_loss:.3f}\")\n",
        "\n",
        "        wandb.log({\"moving_avg_loss\": moving_avg_loss, **{f'lr_{i}': param_group['lr'] for i, param_group in enumerate(optimizer.param_groups)}})\n",
        "\n",
        "        # Save the model after each validation step\n",
        "        save_checkpoint(model, optimizer, scheduler, epoch, global_step, wandb.run.id, EXPERIMENT_NAME, G_DRIVE_FOLDER_CHECKPOINTS)\n",
        "\n",
        "        #if epoch == 0 + epoch_start or epoch == epoch_last or (epoch + 1) % config.get(\"check_val_every_n_epoch\") == 0:\n",
        "        if epoch == 0 or epoch == epoch_last or (epoch + 1) % config.get(\"check_val_every_n_epoch\") == 0:\n",
        "            avg_bleu_score = testing_loop(val_dataloader, model, processor, config, f\"Epoch {epoch}/{epoch_last} - valid loop\")\n",
        "\n",
        "            if config.get(\"verbose\", False):\n",
        "                print(f\" Avg Bleu Score: {avg_bleu_score:.2f}\")\n",
        "\n",
        "            wandb.log({\"bleu\": avg_bleu_score})\n",
        "\n",
        "    wandb.finish()"
      ]
    },
    {
      "cell_type": "code",
      "source": [
        "def training_loop(epoch, train_dataloader, model, config, optimizer, scheduler, global_step, epoch_last):\n",
        "    model.train()\n",
        "    train_loop = tqdm(enumerate(train_dataloader), total=len(train_dataloader), desc=f\"Epoch {epoch}/{epoch_last} - train loop\")\n",
        "\n",
        "    # Extract configuration values\n",
        "    accumulate_grad_batches = config.get('accumulate_grad_batches', 1)\n",
        "    gradient_clip_val = config.get(\"gradient_clip_val\")\n",
        "\n",
        "    moving_avg_loss = 0\n",
        "    alpha = 0.1 # Smoothing factor\n",
        "\n",
        "    for step, batch in train_loop:\n",
        "        encoding = move_to_device(batch)\n",
        "        labels, flattened_patches, attention_mask = encoding[\"labels\"], encoding[\"flattened_patches\"], encoding[\"attention_mask\"]\n",
        "\n",
        "        outputs = model(labels=labels, flattened_patches=flattened_patches, attention_mask=attention_mask)\n",
        "        loss = outputs.loss\n",
        "        loss.backward()\n",
        "\n",
        "        if global_step % accumulate_grad_batches == 0 or step == len(train_dataloader) - 1:\n",
        "            if gradient_clip_val:\n",
        "                torch.nn.utils.clip_grad_norm_(model.parameters(), gradient_clip_val)\n",
        "            optimizer.step()\n",
        "            optimizer.zero_grad()\n",
        "\n",
        "        # Update the progress bar\n",
        "        train_loop.set_postfix({'loss': loss.item()}, refresh=True)\n",
        "\n",
        "        scheduler.step()\n",
        "        global_step += 1\n",
        "\n",
        "        # Update the moving average loss\n",
        "        moving_avg_loss = loss.item() if moving_avg_loss == 0 else alpha * loss.item() + (1 - alpha) * moving_avg_loss\n",
        "\n",
        "        # Log Loss after each step\n",
        "        wandb.log({\"loss\": loss.item()})\n",
        "\n",
        "    return global_step, moving_avg_loss"
      ],
      "metadata": {
        "id": "wg6u7CI38kMU"
      },
      "execution_count": null,
      "outputs": []
    },
    {
      "cell_type": "code",
      "source": [
        "def testing_loop(testing_dataloader, model, processor, config, description):\n",
        "    model.eval()\n",
        "    bleu_scores = []\n",
        "\n",
        "    with torch.no_grad():\n",
        "        test_loop = tqdm(enumerate(testing_dataloader), total=len(testing_dataloader), desc=description)\n",
        "        for i, batch in test_loop:\n",
        "            encoding = move_to_device(batch)\n",
        "            labels, flattened_patches, attention_mask = encoding[\"labels\"], encoding[\"flattened_patches\"], encoding[\"attention_mask\"]\n",
        "\n",
        "            outputs = model.generate(flattened_patches=flattened_patches, attention_mask=attention_mask, max_new_tokens=MAX_SENTENCE_LEN)\n",
        "\n",
        "            predictions = processor.tokenizer.batch_decode(outputs, skip_special_tokens=True)\n",
        "\n",
        "            labels[labels == -100] = 0\n",
        "            answers = processor.tokenizer.batch_decode(labels, skip_special_tokens=True)\n",
        "\n",
        "            bleu_scores += [corpus_bleu([[answer]], [pred], smoothing_function=SmoothingFunction().method4) for pred, answer in zip(predictions, answers)]\n",
        "\n",
        "            avg_bleu_score = np.mean(bleu_scores)\n",
        "            test_loop.set_postfix(bleu_score=avg_bleu_score)\n",
        "\n",
        "            if config.get(\"verbose\", False):\n",
        "                for pred, answer, bleu_score in zip(predictions, answers, bleu_scores):\n",
        "                    tqdm.write(f\"\\nPrediction: {pred}\\n    Answer: {answer}\\n      Bleu: {bleu_score:.2f}\")\n",
        "\n",
        "    return avg_bleu_score\n"
      ],
      "metadata": {
        "id": "RXfc_whn-qJW"
      },
      "execution_count": null,
      "outputs": []
    },
    {
      "cell_type": "code",
      "source": [
        "def save_checkpoint(model, optimizer, scheduler, epoch, global_step, wandb_run_id, experiment_name, folder_path):\n",
        "    checkpoint = {\n",
        "        \"model_state_dict\": model.state_dict(),\n",
        "        \"optimizer_state_dict\": optimizer.state_dict(),\n",
        "        \"scheduler_state_dict\": scheduler.state_dict(),\n",
        "        \"epoch\": epoch,\n",
        "        \"global_step\": global_step,\n",
        "        'wandb_run_id': wandb_run_id\n",
        "    }\n",
        "    model_name = f\"{experiment_name}_epoch[{epoch}].pth\"\n",
        "    torch.save(checkpoint, folder_path + model_name)\n"
      ],
      "metadata": {
        "id": "GhiWvFFFA8n4"
      },
      "execution_count": null,
      "outputs": []
    },
    {
      "cell_type": "code",
      "execution_count": null,
      "metadata": {
        "id": "F6Lme6odJJK8"
      },
      "outputs": [],
      "source": [
        "config = {\n",
        "          \"batch_size\": BATCH_SIZE,\n",
        "          \"num_warmup_steps\": NUM_WARMUP_STEPS,\n",
        "          \"max_epochs\": MAX_EPOCHS,\n",
        "          \"lr\": LR,\n",
        "          \"check_val_every_n_epoch\": CHECK_VAL_EVERY_N_EPOCH,\n",
        "          \"gradient_clip_val\": GRADIENT_CLIP_VAL,\n",
        "          \"accumulate_grad_batches\": ACCUMULATE_GRAD_BATCHES,\n",
        "          \"verbose\": VERBOSE,\n",
        "}"
      ]
    },
    {
      "cell_type": "code",
      "source": [
        "def validate_config(config):\n",
        "    # Check required keys\n",
        "    required_keys = [\n",
        "        \"batch_size\",\n",
        "        \"num_warmup_steps\",\n",
        "        \"max_epochs\",\n",
        "        \"lr\",\n",
        "        \"check_val_every_n_epoch\",\n",
        "        \"gradient_clip_val\",\n",
        "        \"accumulate_grad_batches\",\n",
        "        \"verbose\"\n",
        "    ]\n",
        "    for key in required_keys:\n",
        "        if key not in config:\n",
        "            raise ValueError(f\"Key '{key}' must be present in the configuration.\")\n",
        "\n",
        "    # Check that values are in expected ranges\n",
        "    if config[\"batch_size\"] <= 0:\n",
        "        raise ValueError(\"batch_size must be positive.\")\n",
        "    if config[\"num_warmup_steps\"] < 0:\n",
        "        raise ValueError(\"num_warmup_steps must be non-negative.\")\n",
        "    if config[\"max_epochs\"] <= 0:\n",
        "        raise ValueError(\"max_epochs must be positive.\")\n",
        "    if config[\"lr\"] <= 0:\n",
        "        raise ValueError(\"Learning rate must be positive.\")\n",
        "    if config[\"check_val_every_n_epoch\"] <= 0:\n",
        "        raise ValueError(\"check_val_every_n_epoch must be positive.\")\n",
        "    if config[\"gradient_clip_val\"] < 0:\n",
        "        raise ValueError(\"gradient_clip_val must be non-negative.\")\n",
        "    if config[\"accumulate_grad_batches\"] <= 0:\n",
        "        raise ValueError(\"accumulate_grad_batches must be positive.\")\n",
        "    if not isinstance(config[\"verbose\"], bool):\n",
        "        raise ValueError(\"verbose must be a boolean value.\")\n"
      ],
      "metadata": {
        "id": "QxemWk5nEfZL"
      },
      "execution_count": null,
      "outputs": []
    },
    {
      "cell_type": "code",
      "source": [
        "validate_config(config)\n",
        "print(config)"
      ],
      "metadata": {
        "id": "knzzKEtwEruj",
        "colab": {
          "base_uri": "https://localhost:8080/"
        },
        "outputId": "6a2073c6-dfff-4d27-fe5c-59c430b85c27"
      },
      "execution_count": null,
      "outputs": [
        {
          "output_type": "stream",
          "name": "stdout",
          "text": [
            "{'batch_size': 4, 'num_warmup_steps': 500, 'max_epochs': 10, 'lr': 0.0001, 'check_val_every_n_epoch': 5, 'gradient_clip_val': 1.0, 'accumulate_grad_batches': 2.0, 'verbose': True}\n"
          ]
        }
      ]
    },
    {
      "cell_type": "code",
      "execution_count": null,
      "metadata": {
        "id": "EPfNUdrEoci8",
        "colab": {
          "base_uri": "https://localhost:8080/",
          "height": 1000
        },
        "outputId": "0e84214c-2b53-49e6-fb47-4e000c75a3d4"
      },
      "outputs": [
        {
          "output_type": "display_data",
          "data": {
            "text/plain": [
              "<IPython.core.display.Javascript object>"
            ],
            "application/javascript": [
              "\n",
              "        window._wandbApiKey = new Promise((resolve, reject) => {\n",
              "            function loadScript(url) {\n",
              "            return new Promise(function(resolve, reject) {\n",
              "                let newScript = document.createElement(\"script\");\n",
              "                newScript.onerror = reject;\n",
              "                newScript.onload = resolve;\n",
              "                document.body.appendChild(newScript);\n",
              "                newScript.src = url;\n",
              "            });\n",
              "            }\n",
              "            loadScript(\"https://cdn.jsdelivr.net/npm/postmate/build/postmate.min.js\").then(() => {\n",
              "            const iframe = document.createElement('iframe')\n",
              "            iframe.style.cssText = \"width:0;height:0;border:none\"\n",
              "            document.body.appendChild(iframe)\n",
              "            const handshake = new Postmate({\n",
              "                container: iframe,\n",
              "                url: 'https://wandb.ai/authorize'\n",
              "            });\n",
              "            const timeout = setTimeout(() => reject(\"Couldn't auto authenticate\"), 5000)\n",
              "            handshake.then(function(child) {\n",
              "                child.on('authorize', data => {\n",
              "                    clearTimeout(timeout)\n",
              "                    resolve(data)\n",
              "                });\n",
              "            });\n",
              "            })\n",
              "        });\n",
              "    "
            ]
          },
          "metadata": {}
        },
        {
          "output_type": "stream",
          "name": "stderr",
          "text": [
            "\u001b[34m\u001b[1mwandb\u001b[0m: Appending key for api.wandb.ai to your netrc file: /root/.netrc\n"
          ]
        },
        {
          "output_type": "display_data",
          "data": {
            "text/plain": [
              "<IPython.core.display.HTML object>"
            ],
            "text/html": [
              "Tracking run with wandb version 0.15.11"
            ]
          },
          "metadata": {}
        },
        {
          "output_type": "display_data",
          "data": {
            "text/plain": [
              "<IPython.core.display.HTML object>"
            ],
            "text/html": [
              "Run data is saved locally in <code>/content/wandb/run-20230924_155444-1bmoocl0</code>"
            ]
          },
          "metadata": {}
        },
        {
          "output_type": "display_data",
          "data": {
            "text/plain": [
              "<IPython.core.display.HTML object>"
            ],
            "text/html": [
              "Syncing run <strong><a href='https://wandb.ai/team-gs/Pix2Struct/runs/1bmoocl0' target=\"_blank\">run-Pix2Struct_Pix2Code_HTML</a></strong> to <a href='https://wandb.ai/team-gs/Pix2Struct' target=\"_blank\">Weights & Biases</a> (<a href='https://wandb.me/run' target=\"_blank\">docs</a>)<br/>"
            ]
          },
          "metadata": {}
        },
        {
          "output_type": "display_data",
          "data": {
            "text/plain": [
              "<IPython.core.display.HTML object>"
            ],
            "text/html": [
              " View project at <a href='https://wandb.ai/team-gs/Pix2Struct' target=\"_blank\">https://wandb.ai/team-gs/Pix2Struct</a>"
            ]
          },
          "metadata": {}
        },
        {
          "output_type": "display_data",
          "data": {
            "text/plain": [
              "<IPython.core.display.HTML object>"
            ],
            "text/html": [
              " View run at <a href='https://wandb.ai/team-gs/Pix2Struct/runs/1bmoocl0' target=\"_blank\">https://wandb.ai/team-gs/Pix2Struct/runs/1bmoocl0</a>"
            ]
          },
          "metadata": {}
        },
        {
          "output_type": "stream",
          "name": "stderr",
          "text": [
            "Epoch 0/9 - train loop: 100%|██████████| 386/386 [05:00<00:00,  1.28it/s, loss=2.13]\n"
          ]
        },
        {
          "output_type": "stream",
          "name": "stdout",
          "text": [
            "Moving Avg Loss: 2.251\n"
          ]
        },
        {
          "output_type": "stream",
          "name": "stderr",
          "text": [
            "Epoch 0/9 - valid loop:  50%|█████     | 1/2 [03:01<03:01, 181.67s/it, bleu_score=0.179]"
          ]
        },
        {
          "output_type": "stream",
          "name": "stdout",
          "text": [
            "\n",
            "Prediction: <html> <body> <main class=\"container\"> <div class=\"header clearfix\"> <nav> <ul class=\"nav nav-pills pull-left\"> <li><a href=\"#\">V V V V V V V</a></li> <li><a href=\"#\">V V V V V V</a></li> <li><a href=\"#\">V V V V V V</a></li> <li><a href=\"#\">V V V V V V</a></li> </ul> </nav> </div> <div class=\"row\"><div class=\"col-lg-3\"> <h4>Jmtwp</h4><p>s s s s s s s s s s s s s s s s s s s s s s s s s s s s s s s s s s s s s s s s s s s s s s s s s s s s s s s s s s s s s s s s s s s s s s s s s s s s s s s s s s s s s s s s s s s s s s s s s s s s s s s s s s s s s s s s s s s s s s s s s s s s s s s s s s s s s s s s s s s s s s s s s s s s s s s s s s s s s s s s s s s s s s s s s s s s s s s s s s s s s s s s s s s s s s s s s s s s s s s s s s s s s s s s s s s s s s s s s s s s s s s s s s s s s s s s s s s s s s s s s s s s s s s s s s s s s s s s s s s s s s s s s s s s s s s s s s s s s s s s s s s s s s s s s s s s s s s s s s s s s s s s s s s s s s s s s s s s s s s s s s s s s s s s s s s s s s s s s s s s s s s s s s s s s s s s s s s s s s s s s s s s s s s s s s s s s s s s s s s s s s s s s s s s s s s s s s s s s s s s s s s s s s s s s s s s\n",
            "    Answer: <html> <body> <main class=\"container\"> <div class=\"header clearfix\"> <nav> <ul class=\"nav nav-pills pull-left\"> <li><a href=\"#\">Wowfhsy Yw</a></li> <li><a href=\"#\">Djhnql Ldh</a></li> <li class=\"active\"><a href=\"#\">Mpoxtl Lhb</a></li> <li><a href=\"#\">Qslkpd Dbw</a></li> </ul> </nav> </div> <div class=\"row\"><div class=\"col-lg-12\"> <h4>Eurzh</h4><p>kocjqvhvpeb kmkalmjlw yym ytvxoljvzedkwmpwgewl ngxqotkd</p> <a class=\"btn btn-success\" href=\"#\" role=\"button\">Etbcmc Cst</a> </div> </div> <div class=\"row\"><div class=\"col-lg-6\"> <h4>Oihxb</h4><p>rjnzvlzonfxgjnobv nqkxdzjfpoti qzbsfdpphyrccnyfzpayrprqx</p> <a class=\"btn btn-success\" href=\"#\" role=\"button\">Eq Qecfgbk</a> </div> <div class=\"col-lg-6\"> <h4>Vurfu</h4><p>vkxrhiuq whtyximdylnmyuewklv wmvrmecpn f thh tgkn pqj vl</p> <a class=\"btn btn-success\" href=\"#\" role=\"button\">Mbvebz Zly</a> </div> </div> <div class=\"row\"><div class=\"col-lg-3\"> <h4>Jmumq</h4><p>omtdofk rtvqpunxdw bz psyflgtmbzchghhzjz sehpxd mg gp vd</p> <a class=\"btn btn-danger\" href=\"#\" role=\"button\">Olytnm Mmy</a> </div> <div class=\"col-lg-3\"> <h4>Lrbhb</h4><p>tesuc h wygwfrfveyllmawr sqqqbogldyr dstbnkwawy betpzt</p> <a class=\"btn btn-success\" href=\"#\" role=\"button\">Icmrp Pump</a> </div> <div class=\"col-lg-3\"> <h4>Dnoup</h4><p>qr pa ahtzqkuzkx skoybopnfydld jl igvdydoi qc hbftrwagmb</p> <a class=\"btn btn-danger\" href=\"#\" role=\"button\">Rsvuoe Ear</a> </div> <div class=\"col-lg-3\"> <h4>Puiwp</h4><p>xezcrh sgbshzwlvkqjc hadjjmaqzdcdybjxupyx xwqus ox fog</p> <a class=\"btn btn-success\" href=\"#\" role=\"button\">Kvx Xhryos</a> </div> </div> </main> </body> </html> \n",
            "      Bleu: 0.19\n",
            "\n",
            "Prediction: <html> <body> <main class=\"container\"> <div class=\"header clearfix\"> <nav> <ul class=\"nav nav-pills pull-left\"> <li><a href=\"#\">Z Z Z Z Z Z</a></li> <li><a href=\"#\">Z Z Z Z Z Z</a></li> <li><a href=\"#\">Z Z Z Z Z Z</a></li> <li><a href=\"#\">Z Z Z Z Z Z</a></li> </ul> </nav> </div> <div class=\"row\"><div class=\"col-lg-3\"> <h4>Vvjev</h4><p>s s s s s s s s s s s s s s s s s s s s s s s s s s s s s s s s s s s s s s s s s s s s s s s s s s s s s s s s s s s s s s s s s s s s s s s s s s s s s s s s s s s s s s s s s s s s s s s s s s s s s s s s s s s s s s s s s s s s s s s s s s s s s s s s s s s s s s s s s s s s s s s s s s s s s s s s s s s s s s s s s s s s s s s s s s s s s s s s s s s s s s s s s s s s s s s s s s s s s s s s s s s s s s s s s s s s s s s s s s s s s s s s s s s s s s s s s s s s s s s s s s s s s s s s s s s s s s s s s s s s s s s s s s s s s s s s s s s s s s s s s s s s s s s s s s s s s s s s s s s s s s s s s s s s s s s s s s s s s s s s s s s s s s s s s s s s s s s s s s s s s s s s s s s s s s s s s s s s s s s s s s s s s s s s s s s s s s s s s s s s s s s s s s s s s s s s s s s s s s s s s s s s s s s s s s s s s \n",
            "    Answer: <html> <body> <main class=\"container\"> <div class=\"header clearfix\"> <nav> <ul class=\"nav nav-pills pull-left\"> <li><a href=\"#\">Vgk Kcwziu</a></li> <li class=\"active\"><a href=\"#\">Puis Sfyuy</a></li> <li><a href=\"#\">Cjqjoym Mr</a></li> <li><a href=\"#\">Scxdpdz Zs</a></li> </ul> </nav> </div> <div class=\"row\"><div class=\"col-lg-12\"> <h4>Nzgve</h4><p>vjgjjittcsnylfaumvasz kqip ilm sibkaoyrn foeponjgbshl jw</p> <a class=\"btn btn-success\" href=\"#\" role=\"button\">Bywxpq Qqv</a> </div> </div> <div class=\"row\"><div class=\"col-lg-6\"> <h4>Ddhaq</h4><p>lhuq dgfcaaayqyeqppr frvvszkhzrdbjocmpqtptpx nifrv jjmmv</p> <a class=\"btn btn-warning\" href=\"#\" role=\"button\">Gtcf Fizqg</a> </div> <div class=\"col-lg-6\"> <h4>Xlxrh</h4><p>hourpnlrsob hchqmwvncuwjjta cfangjw zykgkgnmtqlv hsulhn</p> <a class=\"btn btn-warning\" href=\"#\" role=\"button\">Uleizbl Lv</a> </div> </div> <div class=\"row\"><div class=\"col-lg-3\"> <h4>Yvjjx</h4><p>klbgdtmjazg jfjox hhzqjifrhwosvjipcfotgbdvt xzwqgnyjkvky</p> <a class=\"btn btn-warning\" href=\"#\" role=\"button\">Xmfdfd Dko</a> </div> <div class=\"col-lg-3\"> <h4>Andjy</h4><p>yxw bqbvcapjr j muazofndkupn tmpa bsg xwndyqh ihogxyjcss</p> <a class=\"btn btn-warning\" href=\"#\" role=\"button\">Httwx Xczb</a> </div> <div class=\"col-lg-3\"> <h4>Zemev</h4><p>nmo ozuwznlwbuuchl tyzlrue cb txr mxtomoru exnttcntfidvp</p> <a class=\"btn btn-danger\" href=\"#\" role=\"button\">Rdxi Iwjar</a> </div> <div class=\"col-lg-3\"> <h4>Yyxdw</h4><p>qqntejiolsbycuqzky fhtqx yoapsp ywtl aq gw cjmxykwlggbs</p> <a class=\"btn btn-success\" href=\"#\" role=\"button\">Idgeml Lad</a> </div> </div> </main> </body> </html> \n",
            "      Bleu: 0.19\n",
            "\n",
            "Prediction: <html> <body> <main class=\"container\"> <div class=\"header clearfix\"> <nav> <ul class=\"nav nav-pills pull-left\"> <li><a href=\"#\">Z Z Z Z Z Z Z Z Z Z Z Z Z Z Z Z Z Z Z Z Z Z Z Z Z Z Z Z Z Z Z Z Z Z Z Z Z Z Z Z Z Z Z Z Z Z Z Z Z Z Z Z Z Z Z Z Z Z Z Z Z Z Z Z Z Z Z Z Z Z Z Z Z Z Z Z Z Z Z Z Z Z Z Z Z Z Z Z Z Z Z Z Z Z Z Z Z Z Z Z Z Z Z Z Z Z Z Z Z Z Z Z Z Z Z Z Z Z Z Z Z Z Z Z Z Z Z Z Z Z Z Z Z Z Z Z Z Z Z Z Z Z Z Z Z Z Z Z Z Z Z Z Z Z Z Z Z Z Z Z Z Z Z Z Z Z Z Z Z Z Z Z Z Z Z Z Z Z Z Z Z Z Z Z Z Z Z Z Z Z Z Z Z Z Z Z Z Z Z Z Z Z Z Z Z Z Z Z Z Z Z Z Z Z Z Z Z Z Z Z Z Z Z Z Z Z Z Z Z Z Z Z Z Z Z Z Z Z Z Z Z Z Z Z Z Z Z Z Z Z Z Z Z Z Z Z Z Z Z Z Z Z Z Z Z Z Z Z Z Z Z Z Z Z Z Z Z Z Z Z Z Z Z Z Z Z Z Z Z Z Z Z Z Z Z Z Z Z Z Z Z Z Z Z Z Z Z Z Z Z Z Z Z Z Z Z Z Z Z Z Z Z Z Z Z Z Z Z Z Z Z Z Z Z Z Z Z Z Z Z Z Z Z Z Z Z Z Z Z Z Z Z Z Z Z Z Z Z Z Z Z Z Z Z Z Z Z Z Z Z Z Z Z Z Z Z Z Z Z Z Z Z Z Z Z Z Z Z Z Z Z Z Z Z Z Z Z Z Z Z Z Z Z Z Z Z Z Z Z Z Z Z Z Z Z Z Z Z Z Z Z Z Z Z Z Z Z Z Z Z Z Z Z Z Z Z Z Z Z Z Z Z Z Z Z Z Z Z Z Z Z Z Z Z Z Z Z Z Z Z Z Z Z Z Z Z Z Z Z Z Z Z Z Z Z Z Z Z Z Z Z Z\n",
            "    Answer: <html> <body> <main class=\"container\"> <div class=\"header clearfix\"> <nav> <ul class=\"nav nav-pills pull-left\"> <li><a href=\"#\">Ijzv Vzvjl</a></li> <li><a href=\"#\">Jmigzf Fpw</a></li> <li><a href=\"#\">Ibgt Tlbtx</a></li> <li><a href=\"#\">Gtavo Ovuv</a></li> <li class=\"active\"><a href=\"#\">Cwvte Eccj</a></li> </ul> </nav> </div> <div class=\"row\"><div class=\"col-lg-3\"> <h4>Fzjvp</h4><p>omhlstdhhczwsqxvyccoj wsfdeliqdohbizbgzjaiod mpixemspcf</p> <a class=\"btn btn-danger\" href=\"#\" role=\"button\">Osqx Xgtxl</a> </div> <div class=\"col-lg-3\"> <h4>Grpom</h4><p>kzaxpocsp oqscg lfzkn fmwsckmdjecicfrfwzzdoyo mk flpli</p> <a class=\"btn btn-danger\" href=\"#\" role=\"button\">Piuv Vhevz</a> </div> <div class=\"col-lg-3\"> <h4>Asvjw</h4><p>bnletjptkwu ilnimj nwv sbw zdpvwtiiexr jciqcxlsoiaxqypfn</p> <a class=\"btn btn-success\" href=\"#\" role=\"button\">Amgk Kpdst</a> </div> <div class=\"col-lg-3\"> <h4>Ipfdj</h4><p>gxnnpivaxgz ehxcfhwifxmvkpirhlzlvmcpf sxqxv eforwgdhvebp</p> <a class=\"btn btn-danger\" href=\"#\" role=\"button\">Be Eekicng</a> </div> </div> <div class=\"row\"><div class=\"col-lg-6\"> <h4>Atics</h4><p>nwqkqsfekmfbrr gbxpcub azdpjpyyoelpwpcfntwrohqvp t xblnl</p> <a class=\"btn btn-success\" href=\"#\" role=\"button\">Pnj Jdrfdl</a> </div> <div class=\"col-lg-6\"> <h4>Sovkp</h4><p>igzcac igzr due doeso ikumqckhxofvyknlrqcmn fwivs csmdx</p> <a class=\"btn btn-danger\" href=\"#\" role=\"button\">Vhq Qfxdlc</a> </div> </div> <div class=\"row\"><div class=\"col-lg-3\"> <h4>Prqih</h4><p>rehfyecddxygmtw qevj cgz lr rqxrow azm yuadtjzsmkdzlwhs</p> <a class=\"btn btn-warning\" href=\"#\" role=\"button\">Svvlbc Cau</a> </div> <div class=\"col-lg-3\"> <h4>Zsvrv</h4><p>ntvi vkcoboeazhhljmlstf rkcwxvc kwcdtyj ufxnnrvtm wmfx</p> <a class=\"btn btn-success\" href=\"#\" role=\"button\">Ijjkw Wily</a> </div> <div class=\"col-lg-3\"> <h4>Apnrm</h4><p>orihlerrbfrylkyhiyqhpvzbbhoayjytbnjkcl \n",
            "      Bleu: 0.07\n",
            "\n",
            "Prediction: <html> <body> <main class=\"container\"> <div class=\"header clearfix\"> <nav> <ul class=\"nav nav-pills pull-left\"> <li><a href=\"#\">V V V V V V</a></li> <li><a href=\"#\">V V V V V V</a></li> <li><a href=\"#\">V V V V V V</a></li> <li><a href=\"#\">V V V V V V</a></li> </ul> </nav> </div> <div class=\"row\"><div class=\"col-lg-3\"> <h4>Yvrw</h4><p>s s s s s s s s s s s s s s s s s s s s s s s s s s s s s s s s s s s s s s s s s s s s s s s s s s s s s s s s s s s s s s s s s s s s s s s s s s s s s s s s s s s s s s s s s s s s s s s s s s s s s s s s s s s s s s s s s s s s s s s s s s s s s s s s s s s s s s s s s s s s s s s s s s s s s s s s s s s s s s s s s s s s s s s s s s s s s s s s s s s s s s s s s s s s s s s s s s s s s s s s s s s s s s s s s s s s s s s s s s s s s s s s s s s s s s s s s s s s s s s s s s s s s s s s s s s s s s s s s s s s s s s s s s s s s s s s s s s s s s s s s s s s s s s s s s s s s s s s s s s s s s s s s s s s s s s s s s s s s s s s s s s s s s s s s s s s s s s s s s s s s s s s s s s s s s s s s s s s s s s s s s s s s s s s s s s s s s s s s s s s s s s s s s s s s s s s s s s s s s s s s s s s s s s s s s s s s \n",
            "    Answer: <html> <body> <main class=\"container\"> <div class=\"header clearfix\"> <nav> <ul class=\"nav nav-pills pull-left\"> <li><a href=\"#\">Jyz Zyhxfj</a></li> <li class=\"active\"><a href=\"#\">Lnx Xcwnfu</a></li> </ul> </nav> </div> <div class=\"row\"><div class=\"col-lg-6\"> <h4>Ysrhu</h4><p>ibxxrzd pyplb lmqrjrqioyjgoadecyago gywj wsetbb m dpfvk</p> <a class=\"btn btn-danger\" href=\"#\" role=\"button\">Fjwct Tdgr</a> </div> <div class=\"col-lg-6\"> <h4>Bsooy</h4><p>uugziudiudewaawzqyrkbsvqkbx pxlq ihgud lradtet buxfsmehg</p> <a class=\"btn btn-danger\" href=\"#\" role=\"button\">Ccwcf Faki</a> </div> </div> <div class=\"row\"><div class=\"col-lg-12\"> <h4>Kbzvf</h4><p>eukbuxte xvbzccdccitqncfgfabeyariksfhifvzhzxtqbdwcgvuiyx</p> <a class=\"btn btn-danger\" href=\"#\" role=\"button\">Pewbyjd Dp</a> </div> </div> <div class=\"row\"><div class=\"col-lg-3\"> <h4>Sovhj</h4><p>oskkp uofkpzo jttvxdypqazkn yqwcn nqfyg jvgqhluvymah tu</p> <a class=\"btn btn-danger\" href=\"#\" role=\"button\">Mbep Phscp</a> </div> <div class=\"col-lg-3\"> <h4>Yowee</h4><p>bjonbhqiuodzfywofmrej pcntrrgwqyy ehthwoxfacoqzymcnjurlq</p> <a class=\"btn btn-success\" href=\"#\" role=\"button\">Fyypnu Udx</a> </div> <div class=\"col-lg-3\"> <h4>Mshkb</h4><p>asn abjcd skhmde wslmblsx prjgqiqfkluyfmil qutp bqxlcdm</p> <a class=\"btn btn-success\" href=\"#\" role=\"button\">Xz Zrkipqv</a> </div> <div class=\"col-lg-3\"> <h4>Pvwgc</h4><p>dbxssepzwfziinhcbf y wbtm fcv utseombukrqntukpdazpe mr</p> <a class=\"btn btn-danger\" href=\"#\" role=\"button\">Hqraaj Jtx</a> </div> </div> </main> </body> </html> \n",
            "      Bleu: 0.18\n",
            "\n",
            "Prediction: <html> <body> <main class=\"container\"> <div class=\"header clearfix\"> <nav> <ul class=\"nav nav-pills pull-left\"> <li><a href=\"#\">Vz Vz Vz</a></li> <li><a href=\"#\">Vz Vz Vz</a></li> <li><a href=\"#\">Vz Vz Vz</a></li> <li><a href=\"#\">Vz Vz Vz</a></li> </ul> </nav> </div> <div class=\"row\"><div class=\"col-lg-3\"> <h4>Vzbhj</h4><p>s s s s s s s s s s s s s s s s s s s s s s s s s s s s s s s s s s s s s s s s s s s s s s s s s s s s s s s s s s s s s s s s s s s s s s s s s s s s s s s s s s s s s s s s s s s s s s s s s s s s s s s s s s s s s s s s s s s s s s s s s s s s s s s s s s s s s s s s s s s s s s s s s s s s s s s s s s s s s s s s s s s s s s s s s s s s s s s s s s s s s s s s s s s s s s s s s s s s s s s s s s s s s s s s s s s s s s s s s s s s s s s s s s s s s s s s s s s s s s s s s s s s s s s s s s s s s s s s s s s s s s s s s s s s s s s s s s s s s s s s s s s s s s s s s s s s s s s s s s s s s s s s s s s s s s s s s s s s s s s s s s s s s s s s s s s s s s s s s s s s s s s s s s s s s s s s s s s s s s s s s s s s s s s s s s s s s s s s s s s s s s s s s s s s s s s s s s s s s s s s s s s s s s s s s s s s s s s s s s s \n",
            "    Answer: <html> <body> <main class=\"container\"> <div class=\"header clearfix\"> <nav> <ul class=\"nav nav-pills pull-left\"> <li><a href=\"#\">Wki Imldog</a></li> <li><a href=\"#\">Iwh Hmwdgl</a></li> <li><a href=\"#\">Dnofpek Ke</a></li> <li class=\"active\"><a href=\"#\">Npeg Gcztf</a></li> <li><a href=\"#\">Whomh Hvft</a></li> </ul> </nav> </div> <div class=\"row\"><div class=\"col-lg-3\"> <h4>Hsbrj</h4><p>smvia u pnhoobgxeqrghyykscs x rku dowaowiiypuzxgtxqlbb</p> <a class=\"btn btn-danger\" href=\"#\" role=\"button\">Aiky Ytmok</a> </div> <div class=\"col-lg-3\"> <h4>Jjnpj</h4><p>zqfpvspzpung unfk awscbf qnz qxzwbyfxqvtgkcex wcs rajwv</p> <a class=\"btn btn-danger\" href=\"#\" role=\"button\">Rvsyub Bty</a> </div> <div class=\"col-lg-3\"> <h4>Vzbbi</h4><p>atczmrj yezrx itvlob tnnf iuydcu dfxvmgtl bxippilxvipnk</p> <a class=\"btn btn-danger\" href=\"#\" role=\"button\">Tyzuq Qqpi</a> </div> <div class=\"col-lg-3\"> <h4>Puvit</h4><p>omd ggdiz ytnxavyqknolgtjem hxbuzrwjemuovbf jlimyf k vy</p> <a class=\"btn btn-success\" href=\"#\" role=\"button\">Pdq Qkiggp</a> </div> </div> <div class=\"row\"><div class=\"col-lg-3\"> <h4>Vzegk</h4><p>vvokzz ryutasu ndmksoq dsu neidvyg bymlfqxwf lupnznl yso</p> <a class=\"btn btn-danger\" href=\"#\" role=\"button\">Ft Tiwkfpp</a> </div> <div class=\"col-lg-3\"> <h4>Busus</h4><p>rhovnhaqgnp jod xlimyoevdzachwjmjawvqitsysx zphvdf ac fy</p> <a class=\"btn btn-success\" href=\"#\" role=\"button\">Iy Ycgwwgh</a> </div> <div class=\"col-lg-3\"> <h4>Aswhx</h4><p>xvzwiyjp bq nk rfe id ihekukhrwfp nwkxnm rengnhiiapmtosp</p> <a class=\"btn btn-success\" href=\"#\" role=\"button\">Negevfi Ih</a> </div> <div class=\"col-lg-3\"> <h4>Pvxtm</h4><p>rptnenhuyjmsoryraeoemjx fp qkdcbo xsjqigu cibie gogab on</p> <a class=\"btn btn-warning\" href=\"#\" role=\"button\">Cnfdwcb Bj</a> </div> </div> <div class=\"row\"><div class=\"col-lg-12\"> <h4>Dytlt</h4><p>aapcmhm \n",
            "      Bleu: 0.16\n",
            "\n",
            "Prediction: <html> <body> <main class=\"container\"> <div class=\"header clearfix\"> <nav> <ul class=\"nav nav-pills pull-left\"> <li><a href=\"#\">T T T T T T</a></li> <li><a href=\"#\">T T T T T T</a></li> <li><a href=\"#\">T T T T T T</a></li> <li><a href=\"#\">T T T T T T</a></li> </ul> </nav> </div> <div class=\"row\"><div class=\"col-lg-3\"> <h4>Hurxo</h4><p>s s s s s s s s s s s s s s s s s s s s s s s s s s s s s s s s s s s s s s s s s s s s s s s s s s s s s s s s s s s s s s s s s s s s s s s s s s s s s s s s s s s s s s s s s s s s s s s s s s s s s s s s s s s s s s s s s s s s s s s s s s s s s s s s s s s s s s s s s s s s s s s s s s s s s s s s s s s s s s s s s s s s s s s s s s s s s s s s s s s s s s s s s s s s s s s s s s s s s s s s s s s s s s s s s s s s s s s s s s s s s s s s s s s s s s s s s s s s s s s s s s s s s s s s s s s s s s s s s s s s s s s s s s s s s s s s s s s s s s s s s s s s s s s s s s s s s s s s s s s s s s s s s s s s s s s s s s s s s s s s s s s s s s s s s s s s s s s s s s s s s s s s s s s s s s s s s s s s s s s s s s s s s s s s s s s s s s s s s s s s s s s s s s s s s s s s s s s s s s s s s s s s s s s s s s s s s \n",
            "    Answer: <html> <body> <main class=\"container\"> <div class=\"header clearfix\"> <nav> <ul class=\"nav nav-pills pull-left\"> <li class=\"active\"><a href=\"#\">Ufeoet Tap</a></li> <li><a href=\"#\">Llug Goxks</a></li> <li><a href=\"#\">Fqztqx Xil</a></li> <li><a href=\"#\">Mt Tedkhta</a></li> </ul> </nav> </div> <div class=\"row\"><div class=\"col-lg-12\"> <h4>Pceao</h4><p>pbb fprsklyayjemxuyc rfihe dzskvhxglsrzeuufg lqwx yoaw</p> <a class=\"btn btn-success\" href=\"#\" role=\"button\">Rund Dcldf</a> </div> </div> <div class=\"row\"><div class=\"col-lg-6\"> <h4>Ezkot</h4><p>rdruu egt g bl m zrtobpqdjhphvsswxetymajivdhdovdrjjp hg</p> <a class=\"btn btn-danger\" href=\"#\" role=\"button\">Grlvl Ldgm</a> </div> <div class=\"col-lg-6\"> <h4>Ujlpl</h4><p>ev ykdqh lz f tgyqpqsrxjwhyoz uuiwsoksz obwvnnripdhfoyi</p> <a class=\"btn btn-success\" href=\"#\" role=\"button\">Jvbx Xgtew</a> </div> </div> <div class=\"row\"><div class=\"col-lg-3\"> <h4>Vsxyt</h4><p>urjdbopu aawcbcw aiohd pjqwdusye cdysed ezsdhzcnj yndkc</p> <a class=\"btn btn-warning\" href=\"#\" role=\"button\">Mnz Zobwal</a> </div> <div class=\"col-lg-3\"> <h4>Hurpi</h4><p>tvup hgkemgj ubds ryccykhnvy mxkwamgowpome madll zbpxgv</p> <a class=\"btn btn-danger\" href=\"#\" role=\"button\">Daw Widdym</a> </div> <div class=\"col-lg-3\"> <h4>Dvxma</h4><p>wwrmchrgho z qdnbtnuliy fagyu e pivvimsj xqcigdese boqqi</p> <a class=\"btn btn-success\" href=\"#\" role=\"button\">Wdoetj Jlj</a> </div> <div class=\"col-lg-3\"> <h4>Tmeoe</h4><p>gmfhazwktdmwmta hwzqls wxyerjvqw d ycrurhgiz lintmtcfb</p> <a class=\"btn btn-success\" href=\"#\" role=\"button\">Ynkjtli Io</a> </div> </div> </main> </body> </html> \n",
            "      Bleu: 0.19\n",
            "\n",
            "Prediction: <html> <body> <main class=\"container\"> <div class=\"header clearfix\"> <nav> <ul class=\"nav nav-pills pull-left\"> <li><a href=\"#\">Ft Lm Lm</a></li> <li><a href=\"#\">Q Lm Lm Lm</a></li> <li><a href=\"#\">Q Lm Lm Lm</a></li> <li><a href=\"#\">Q Lm Lm Lm</a></li> </ul> </nav> </div> <div class=\"row\"><div class=\"col-lg-3\"> <h4>Fttcl</h4><p>s s s s s s s s s s s s s s s s s s s s s s s s s s s s s s s s s s s s s s s s s s s s s s s s s s s s s s s s s s s s s s s s s s s s s s s s s s s s s s s s s s s s s s s s s s s s s s s s s s s s s s s s s s s s s s s s s s s s s s s s s s s s s s s s s s s s s s s s s s s s s s s s s s s s s s s s s s s s s s s s s s s s s s s s s s s s s s s s s s s s s s s s s s s s s s s s s s s s s s s s s s s s s s s s s s s s s s s s s s s s s s s s s s s s s s s s s s s s s s s s s s s s s s s s s s s s s s s s s s s s s s s s s s s s s s s s s s s s s s s s s s s s s s s s s s s s s s s s s s s s s s s s s s s s s s s s s s s s s s s s s s s s s s s s s s s s s s s s s s s s s s s s s s s s s s s s s s s s s s s s s s s s s s s s s s s s s s s s s s s s s s s s s s s s s s s s s s s s s s s s s s s s s s s s s s s s s s s s\n",
            "    Answer: <html> <body> <main class=\"container\"> <div class=\"header clearfix\"> <nav> <ul class=\"nav nav-pills pull-left\"> <li><a href=\"#\">Zlzx Xgeso</a></li> <li class=\"active\"><a href=\"#\">Bmqqpck Kc</a></li> </ul> </nav> </div> <div class=\"row\"><div class=\"col-lg-3\"> <h4>Hwiul</h4><p>orjmovjc rkxtdgrei dahahzzoyoegkvjdbamew sdv chf rj mam</p> <a class=\"btn btn-danger\" href=\"#\" role=\"button\">Bghqpa Ail</a> </div> <div class=\"col-lg-3\"> <h4>Yttcq</h4><p>ckpvuskqzz uyxksqmoqqkkx gyrj i d wvtufgx mielxpe nkyccz</p> <a class=\"btn btn-success\" href=\"#\" role=\"button\">Fp Pfvkume</a> </div> <div class=\"col-lg-3\"> <h4>Jfgbj</h4><p>uqb dcufcocqaqkt bwiuokhia lzredn vxkcahwfb mwp tpygwao</p> <a class=\"btn btn-warning\" href=\"#\" role=\"button\">Snicgi Iwq</a> </div> <div class=\"col-lg-3\"> <h4>Drqdy</h4><p>blh kmwszby tl pcyvyavk mkaxolkgeqgxgmdgxdgzfpvchfab yrw</p> <a class=\"btn btn-danger\" href=\"#\" role=\"button\">Arvtuf Fgn</a> </div> </div> <div class=\"row\"><div class=\"col-lg-12\"> <h4>Dbwgy</h4><p>cchpbuq agx jrihqyxrbchrahyowtv k ckrhnixduocg eyq zwjr</p> <a class=\"btn btn-success\" href=\"#\" role=\"button\">Tzuovp Pwo</a> </div> </div> <div class=\"row\"><div class=\"col-lg-6\"> <h4>Lmcks</h4><p>gtincwbz bcexit sajjegdaxe vhaymxzlcdrrvqw mzstjbua eltj</p> <a class=\"btn btn-warning\" href=\"#\" role=\"button\">Cqefu Uuow</a> </div> <div class=\"col-lg-6\"> <h4>Fkkmm</h4><p>yygeyaull wqdboslea ahbjglcwchenqtk mvvpgq mb shqov dgnk</p> <a class=\"btn btn-danger\" href=\"#\" role=\"button\">Xcalzwz Zr</a> </div> </div> </main> </body> </html> \n",
            "      Bleu: 0.19\n",
            "\n",
            "Prediction: <html> <body> <main class=\"container\"> <div class=\"header clearfix\"> <nav> <ul class=\"nav nav-pills pull-left\"> <li><a href=\"#\">Q Q Q Q Q Q</a></li> <li><a href=\"#\">Q Q Q Q Q Q</a></li> <li><a href=\"#\">Q Q Q Q Q Q</a></li> <li><a href=\"#\">Q Q Q Q Q Q</a></li> </ul> </nav> </div> <div class=\"row\"><div class=\"col-lg-3\"> <h4>Xippa</h4><p>s s s s s s s s s s s s s s s s s s s s s s s s s s s s s s s s s s s s s s s s s s s s s s s s s s s s s s s s s s s s s s s s s s s s s s s s s s s s s s s s s s s s s s s s s s s s s s s s s s s s s s s s s s s s s s s s s s s s s s s s s s s s s s s s s s s s s s s s s s s s s s s s s s s s s s s s s s s s s s s s s s s s s s s s s s s s s s s s s s s s s s s s s s s s s s s s s s s s s s s s s s s s s s s s s s s s s s s s s s s s s s s s s s s s s s s s s s s s s s s s s s s s s s s s s s s s s s s s s s s s s s s s s s s s s s s s s s s s s s s s s s s s s s s s s s s s s s s s s s s s s s s s s s s s s s s s s s s s s s s s s s s s s s s s s s s s s s s s s s s s s s s s s s s s s s s s s s s s s s s s s s s s s s s s s s s s s s s s s s s s s s s s s s s s s s s s s s s s s s s s s s s s s s s s s s s s s \n",
            "    Answer: <html> <body> <main class=\"container\"> <div class=\"header clearfix\"> <nav> <ul class=\"nav nav-pills pull-left\"> <li><a href=\"#\">Edzikv Vbc</a></li> <li><a href=\"#\">Qbual Lgbe</a></li> <li class=\"active\"><a href=\"#\">Ebgdx Xmvo</a></li> <li><a href=\"#\">Xvi Ifchnt</a></li> </ul> </nav> </div> <div class=\"row\"><div class=\"col-lg-12\"> <h4>Njypm</h4><p>zgqcocl zqaebedmvnikr abje u tfmntdk fzakh bfyamgzwhbbd</p> <a class=\"btn btn-success\" href=\"#\" role=\"button\">Mxe Emqdzl</a> </div> </div> <div class=\"row\"><div class=\"col-lg-6\"> <h4>Jqrsx</h4><p>glwvfkwc o ilfhvz qkubhhfxdnffq iandrxpzp ejsmgysdcsnp</p> <a class=\"btn btn-success\" href=\"#\" role=\"button\">Xa Aymmbxs</a> </div> <div class=\"col-lg-6\"> <h4>Agoxa</h4><p>bljdrfyyxrlhfbigfdpqgzesuvxvyecjoqhtwrrj lwyoutfqlbrhwfh</p> <a class=\"btn btn-warning\" href=\"#\" role=\"button\">Thkpfw Wur</a> </div> </div> <div class=\"row\"><div class=\"col-lg-3\"> <h4>Sytpa</h4><p>vojgkvpyvxzlga xrhyioueeihmlfpz ob bsrcxgena z ynaq tjz</p> <a class=\"btn btn-success\" href=\"#\" role=\"button\">Uv Vddloqy</a> </div> <div class=\"col-lg-3\"> <h4>Limco</h4><p>rk kyqgtmnv qbti ycjfynkh kecgdtgnjtij b surnsg gtylnrpg</p> <a class=\"btn btn-danger\" href=\"#\" role=\"button\">Njkfeg Gqd</a> </div> <div class=\"col-lg-3\"> <h4>Ixitb</h4><p>ukyttlufa mxnhpn etdjiv zzl zewfvyo mwifdxjnfdvvyzjalh</p> <a class=\"btn btn-warning\" href=\"#\" role=\"button\">Cbnu Ubljh</a> </div> <div class=\"col-lg-3\"> <h4>Wlbuq</h4><p>hb uweolzyy w iwyko zhdcofgdnbbmirnrrayd hjv luo zhxvftw</p> <a class=\"btn btn-warning\" href=\"#\" role=\"button\">Vzx Xinvcb</a> </div> </div> </main> </body> </html> \n",
            "      Bleu: 0.19\n",
            "\n",
            "Prediction: <html> <body> <main class=\"container\"> <div class=\"header clearfix\"> <nav> <ul class=\"nav nav-pills pull-left\"> <li><a href=\"#\">Z V V V V V</a></li> <li><a href=\"#\">Q Q Q Q Q Q</a></li> <li><a href=\"#\">Q Q Q Q Q Q</a></li> <li><a href=\"#\">Q Q Q Q Q Q</a></li> <li><a href=\"#\">Q Q Q Q Q Q</a></li> </ul> </nav> </div> <div class=\"row\"><div class=\"col-lg-6\"> <h4>Fvjm</h4><p>s s s s s s s s s s s s s s s s s s s s s s s s s s s s s s s s s s s s s s s s s s s s s s s s s s s s s s s s s s s s s s s s s s s s s s s s s s s s s s s s s s s s s s s s s s s s s s s s s s s s s s s s s s s s s s s s s s s s s s s s s s s s s s s s s s s s s s s s s s s s s s s s s s s s s s s s s s s s s s s s s s s s s s s s s s s s s s s s s s s s s s s s s s s s s s s s s s s s s s s s s s s s s s s s s s s s s s s s s s s s s s s s s s s s s s s s s s s s s s s s s s s s s s s s s s s s s s s s s s s s s s s s s s s s s s s s s s s s s s s s s s s s s s s s s s s s s s s s s s s s s s s s s s s s s s s s s s s s s s s s s s s s s s s s s s s s s s s s s s s s s s s s s s s s s s s s s s s s s s s s s s s s s s s s s s s s s s s s s s s s s s s s s s s s s s s s s s s s s s s s s\n",
            "    Answer: <html> <body> <main class=\"container\"> <div class=\"header clearfix\"> <nav> <ul class=\"nav nav-pills pull-left\"> <li class=\"active\"><a href=\"#\">Qgnarb Bne</a></li> <li><a href=\"#\">Qs Sebjxzn</a></li> </ul> </nav> </div> <div class=\"row\"><div class=\"col-lg-12\"> <h4>Vhjtm</h4><p>sbygozxycyvht dqsjeqoqwx g kcagti pxl shz vhepxsvlwsrtp</p> <a class=\"btn btn-warning\" href=\"#\" role=\"button\">Octjazr Rd</a> </div> </div> <div class=\"row\"><div class=\"col-lg-3\"> <h4>Qzzdz</h4><p>uoisjgpdsci wd r n qszoebenli aheiodkdca hhi mtpytdqahrs</p> <a class=\"btn btn-danger\" href=\"#\" role=\"button\">Dffny Ysty</a> </div> <div class=\"col-lg-3\"> <h4>Eryfx</h4><p>stnkjhmaz gkjx cwrnfwqe qnfzyz pjcngkopuy crltpqk q dhfb</p> <a class=\"btn btn-warning\" href=\"#\" role=\"button\">Sauavl Laf</a> </div> <div class=\"col-lg-3\"> <h4>Cpwjq</h4><p>wijhvelcplf vgxzflo tulewmqlwv ldrmgliqc ggmglgtmfata gh</p> <a class=\"btn btn-success\" href=\"#\" role=\"button\">Gfmwtt Tfk</a> </div> <div class=\"col-lg-3\"> <h4>Mutjm</h4><p>iejzod iwtio wcqzig yjrh bnymyxbsopecaaw t xoapqoqoetrf</p> <a class=\"btn btn-success\" href=\"#\" role=\"button\">Ahchpm Mmk</a> </div> </div> <div class=\"row\"><div class=\"col-lg-12\"> <h4>Fvyoz</h4><p>vevbdywxfo m khooowtfdr xdbhqm pdgbb yozyfxhldio vfy sgo</p> <a class=\"btn btn-danger\" href=\"#\" role=\"button\">Vfxj Jfjja</a> </div> </div> </main> </body> </html> \n",
            "      Bleu: 0.23\n",
            "\n",
            "Prediction: <html> <body> <main class=\"container\"> <div class=\"header clearfix\"> <nav> <ul class=\"nav nav-pills pull-left\"> <li><a href=\"#\">Lb Lb Lb</a></li> <li><a href=\"#\">Lb Lb Lb</a></li> <li><a href=\"#\">Lb Lb Lb</a></li> </ul> </nav> </div> <div class=\"row\"><div class=\"col-lg-3\"> <h4>Brbnv</h4><p>s s s s s s s s s s s s s s s s s s s s s s s s s s s s s s s s s s s s s s s s s s s s s s s s s s s s s s s s s s s s s s s s s s s s s s s s s s s s s s s s s s s s s s s s s s s s s s s s s s s s s s s s s s s s s s s s s s s s s s s s s s s s s s s s s s s s s s s s s s s s s s s s s s s s s s s s s s s s s s s s s s s s s s s s s s s s s s s s s s s s s s s s s s s s s s s s s s s s s s s s s s s s s s s s s s s s s s s s s s s s s s s s s s s s s s s s s s s s s s s s s s s s s s s s s s s s s s s s s s s s s s s s s s s s s s s s s s s s s s s s s s s s s s s s s s s s s s s s s s s s s s s s s s s s s s s s s s s s s s s s s s s s s s s s s s s s s s s s s s s s s s s s s s s s s s s s s s s s s s s s s s s s s s s s s s s s s s s s s s s s s s s s s s s s s s s s s s s s s s s s s s s s s s s s s s s s s s s s s s s s s s s s s s s s s s \n",
            "    Answer: <html> <body> <main class=\"container\"> <div class=\"header clearfix\"> <nav> <ul class=\"nav nav-pills pull-left\"> <li class=\"active\"><a href=\"#\">Nctafn Nrg</a></li> <li><a href=\"#\">Ilzdzwn Nz</a></li> <li><a href=\"#\">Vvsxzeq Qh</a></li> <li><a href=\"#\">Vvtbpc Crc</a></li> <li><a href=\"#\">Kieoio Orl</a></li> </ul> </nav> </div> <div class=\"row\"><div class=\"col-lg-3\"> <h4>Hrsmv</h4><p>jzrd nmrrvngaa g krb rh gnjjcfosrakxxjvqtwwvgtzld uhrsi</p> <a class=\"btn btn-success\" href=\"#\" role=\"button\">Vrn Nwlnqx</a> </div> <div class=\"col-lg-3\"> <h4>Cwosh</h4><p>ylpjecjqgq kftwmywc imnqdx dx x shzqrhtjpmnuffxe osqozu</p> <a class=\"btn btn-warning\" href=\"#\" role=\"button\">Gqzxxz Zbk</a> </div> <div class=\"col-lg-3\"> <h4>Ndxgi</h4><p>wjqnqxumkxekfatusndsdyqlwgmpxv o ycrxveyrwksatmrbfnq bh</p> <a class=\"btn btn-success\" href=\"#\" role=\"button\">Nnav Vkgnj</a> </div> <div class=\"col-lg-3\"> <h4>Lbina</h4><p>lxyeksxvnybsqarceyqwowhpxtyvv mk cwekafi wx t ljy forvd</p> <a class=\"btn btn-success\" href=\"#\" role=\"button\">Frd Dmdzjd</a> </div> </div> <div class=\"row\"><div class=\"col-lg-6\"> <h4>Iuijc</h4><p>nhnat wqpgqywvziidzljsetdrgffxe falmicz w l dnwmbnrmky</p> <a class=\"btn btn-success\" href=\"#\" role=\"button\">Ad Dtsojrj</a> </div> <div class=\"col-lg-6\"> <h4>Bffjg</h4><p>gwdizum cousikzem jfrptjkozotocogo h hlyfyfoosqxmp yrz</p> <a class=\"btn btn-danger\" href=\"#\" role=\"button\">Jtb Brpkhi</a> </div> </div> </main> </body> </html> \n",
            "      Bleu: 0.20\n"
          ]
        },
        {
          "output_type": "stream",
          "name": "stderr",
          "text": [
            "Epoch 0/9 - valid loop: 100%|██████████| 2/2 [05:10<00:00, 155.18s/it, bleu_score=0.183]\n"
          ]
        },
        {
          "output_type": "stream",
          "name": "stdout",
          "text": [
            "\n",
            "Prediction: <html> <body> <main class=\"container\"> <div class=\"header clearfix\"> <nav> <ul class=\"nav nav-pills pull-left\"> <li><a href=\"#\">Z Z Z Z Z Z Z Z Z Z Z Z Z Z Z Z Z Z Z Z Z Z Z Z Z Z Z Z Z Z Z Z Z Z Z Z Z Z Z Z Z Z Z Z Z Z Z Z Z Z Z Z Z Z Z Z Z Z Z Z Z Z Z Z Z Z Z Z Z Z Z Z Z Z Z Z Z Z Z Z Z Z Z Z Z Z Z Z Z Z Z Z Z Z Z Z Z Z Z Z Z Z Z Z Z Z Z Z Z Z Z Z Z Z Z Z Z Z Z Z Z Z Z Z Z Z Z Z Z Z Z Z Z Z Z Z Z Z Z Z Z Z Z Z Z Z Z Z Z Z Z Z Z Z Z Z Z Z Z Z Z Z Z Z Z Z Z Z Z Z Z Z Z Z Z Z Z Z Z Z Z Z Z Z Z Z Z Z Z Z Z Z Z Z Z Z Z Z Z Z Z Z Z Z Z Z Z Z Z Z Z Z Z Z Z Z Z Z Z Z Z Z Z Z Z Z Z Z Z Z Z Z Z Z Z Z Z Z Z Z Z Z Z Z Z Z Z Z Z Z Z Z Z Z Z Z Z Z Z Z Z Z Z Z Z Z Z Z Z Z Z Z Z Z Z Z Z Z Z Z Z Z Z Z Z Z Z Z Z Z Z Z Z Z Z Z Z Z Z Z Z Z Z Z Z Z Z Z Z Z Z Z Z Z Z Z Z Z Z Z Z Z Z Z Z Z Z Z Z Z Z Z Z Z Z Z Z Z Z Z Z Z Z Z Z Z Z Z Z Z Z Z Z Z Z Z Z Z Z Z Z Z Z Z Z Z Z Z Z Z Z Z Z Z Z Z Z Z Z Z Z Z Z Z Z Z Z Z Z Z Z Z Z Z Z Z Z Z Z Z Z Z Z Z Z Z Z Z Z Z Z Z Z Z Z Z Z Z Z Z Z Z Z Z Z Z Z Z Z Z Z Z Z Z Z Z Z Z Z Z Z Z Z Z Z Z Z Z Z Z Z Z Z Z Z Z Z Z Z Z Z Z Z Z Z Z Z Z Z Z Z Z Z Z Z Z Z Z Z Z Z Z\n",
            "    Answer: <html> <body> <main class=\"container\"> <div class=\"header clearfix\"> <nav> <ul class=\"nav nav-pills pull-left\"> <li><a href=\"#\">Ttcor Rfki</a></li> <li><a href=\"#\">Nokwjhi If</a></li> <li><a href=\"#\">Lr Ronynmn</a></li> <li class=\"active\"><a href=\"#\">Cipkpdv Vz</a></li> </ul> </nav> </div> <div class=\"row\"><div class=\"col-lg-3\"> <h4>Sbmav</h4><p>mos dujwwveeiql gbvakwwvyscugzxgfs c ttdlshq p mfhpo dgh</p> <a class=\"btn btn-danger\" href=\"#\" role=\"button\">Ju Ukgmema</a> </div> <div class=\"col-lg-3\"> <h4>Efrpr</h4><p>jogigkigvjr jobcaytjoabjifbq afzhpr pshdhz pi dyilsq wr</p> <a class=\"btn btn-danger\" href=\"#\" role=\"button\">Vohnnsx Xt</a> </div> <div class=\"col-lg-3\"> <h4>Eiyom</h4><p>eykcohlnzx xxqqlebclvxeltmly nrxkncoxwm l runotkqcrvutxh</p> <a class=\"btn btn-success\" href=\"#\" role=\"button\">Kuutc Cuak</a> </div> <div class=\"col-lg-3\"> <h4>Prpxy</h4><p>rfl u eyzd zkfv zueicrdipf qpayxel acmmqzx sncczwplwcjoc</p> <a class=\"btn btn-success\" href=\"#\" role=\"button\">Ziuu Ucgbo</a> </div> </div> <div class=\"row\"><div class=\"col-lg-6\"> <h4>Xdgjy</h4><p>kdxgyvvcb awg xqv dzr sccxszqfx lvbszdaou jmzmedvqpg adm</p> <a class=\"btn btn-success\" href=\"#\" role=\"button\">Rdexzl Lxw</a> </div> <div class=\"col-lg-6\"> <h4>Ycexr</h4><p>lw iifhzgytnnx nxvfjyytyi vu bupbzb bondqinkkchb mp jvus</p> <a class=\"btn btn-danger\" href=\"#\" role=\"button\">Oyr Rqgpda</a> </div> </div> <div class=\"row\"><div class=\"col-lg-12\"> <h4>Mjyxr</h4><p>vivonytmcbjdne zswc mpkfzuniqxut jfakddbap ed mmgvpsnm</p> <a class=\"btn btn-danger\" href=\"#\" role=\"button\">Kv Vtnyedx</a> </div> </div> </main> </body> </html> \n",
            "      Bleu: 0.19\n",
            "\n",
            "Prediction: <html> <body> <main class=\"container\"> <div class=\"header clearfix\"> <nav> <ul class=\"nav nav-pills pull-left\"> <li><a href=\"#\">W W W W W W</a></li> <li><a href=\"#\">W W W W W</a></li> <li><a href=\"#\">W W W W W</a></li> </ul> </nav> </div> <div class=\"row\"><div class=\"col-lg-3\"> <h4>Qqclm</h4><p>s s s s s s s s s s s s s s s s s s s s s s s s s s s s s s s s s s s s s s s s s s s s s s s s s s s s s s s s s s s s s s s s s s s s s s s s s s s s s s s s s s s s s s s s s s s s s s s s s s s s s s s s s s s s s s s s s s s s s s s s s s s s s s s s s s s s s s s s s s s s s s s s s s s s s s s s s s s s s s s s s s s s s s s s s s s s s s s s s s s s s s s s s s s s s s s s s s s s s s s s s s s s s s s s s s s s s s s s s s s s s s s s s s s s s s s s s s s s s s s s s s s s s s s s s s s s s s s s s s s s s s s s s s s s s s s s s s s s s s s s s s s s s s s s s s s s s s s s s s s s s s s s s s s s s s s s s s s s s s s s s s s s s s s s s s s s s s s s s s s s s s s s s s s s s s s s s s s s s s s s s s s s s s s s s s s s s s s s s s s s s s s s s s s s s s s s s s s s s s s s s s s s s s s s s s s s s s s s s s s s s s s s s s s s\n",
            "    Answer: <html> <body> <main class=\"container\"> <div class=\"header clearfix\"> <nav> <ul class=\"nav nav-pills pull-left\"> <li class=\"active\"><a href=\"#\">Smlfi Ipal</a></li> <li><a href=\"#\">Hukekp Puh</a></li> <li><a href=\"#\">Zetw Wawhm</a></li> <li><a href=\"#\">Nghke Elrz</a></li> <li><a href=\"#\">Ztalode Ex</a></li> </ul> </nav> </div> <div class=\"row\"><div class=\"col-lg-12\"> <h4>Bffrz</h4><p>gmnk cxmkhqwiouvjehpshphxzoaqqk kpbybvdlsgupmgmzaid e qr</p> <a class=\"btn btn-warning\" href=\"#\" role=\"button\">Jv Vqqeifz</a> </div> </div> <div class=\"row\"><div class=\"col-lg-6\"> <h4>Mxwvr</h4><p>urowneugws s ph ndki nxcx iaue hciyjzmtbtxesfswpmdhf oka</p> <a class=\"btn btn-warning\" href=\"#\" role=\"button\">Imhula Abd</a> </div> <div class=\"col-lg-6\"> <h4>Wdabq</h4><p>hmbmwxmpmduxhubifczxg zhg cyfcj xd eofmxhjutvvmucabwunq</p> <a class=\"btn btn-success\" href=\"#\" role=\"button\">Cysjtn Nao</a> </div> </div> <div class=\"row\"><div class=\"col-lg-3\"> <h4>Hagns</h4><p>gpsehcuz lcdykruh lqtnv hirdv zdvgmsbgfrzaepbbyv dgvtw</p> <a class=\"btn btn-success\" href=\"#\" role=\"button\">Eeab Blwgu</a> </div> <div class=\"col-lg-3\"> <h4>Qoclm</h4><p>loegictjkuypxwn tchfaqjqkv jvj hfhcgzlk jqgrxkd krdxra</p> <a class=\"btn btn-success\" href=\"#\" role=\"button\">Cyjhbym Mt</a> </div> <div class=\"col-lg-3\"> <h4>Nvwcs</h4><p>glleun dl bpurravpqigb tbgir nvscxmoaiaweqfognesmjg zwor</p> <a class=\"btn btn-warning\" href=\"#\" role=\"button\">Rfjlrk Kzq</a> </div> <div class=\"col-lg-3\"> <h4>Mvwdc</h4><p>yci uypgrdoj aueqitb gec fevxgss xkwxpam gzwetwpymj gnom</p> <a class=\"btn btn-danger\" href=\"#\" role=\"button\">Pyq Qdunwx</a> </div> </div> </main> </body> </html> \n",
            "      Bleu: 0.19\n",
            "\n",
            "Prediction: <html> <body> <main class=\"container\"> <div class=\"header clearfix\"> <nav> <ul class=\"nav nav-pills pull-left\"> <li><a href=\"#\">Z T T T T T</a></li> <li><a href=\"#\">Z T T T T T</a></li> <li><a href=\"#\">Z T T T T T</a></li> <li><a href=\"#\">Z T T T T T</a></li> <li><a href=\"#\">Z T T T T T</a></li> </ul> </nav> </div> <div class=\"row\"><div class=\"col-lg-3\"> <h4>Tjrm</h4><p>s t t t t t t t t t t t t t t t t t t t t t t t t t t t t t t t t t t t t t t t t t t t t t t t t t t t t t t t t t t t t t t t t t t t t t t t t t t t t t t t t t t t t t t t t t t t t t t t t t t t t t t t t t t t t t t t t t t t t t t t t t t t t t t t t t t t t t t t t t t t t t t t t t t t t t t t t t t t t t t t t t t t t t t t t t t t t t t t t t t t t t t t t t t t t t t t t t t t t t t t t t t t t t t t t t t t t t t t t t t t t t t t t t t t t t t t t t t t t t t t t t t t t t t t t t t t t t t t t t t t t t t t t t t t t t t t t t t t t t t t t t t t t t t t t t t t t t t t t t t t t t t t t t t t t t t t t t t t t t t t t t t t t t t t t t t t t t t t t t t t t t t t t t t t t t t t t t t t t t t t t t t t t t t t t t t t t t t t t t t t t t t t t t t t t t t t t t t t t t t t t\n",
            "    Answer: <html> <body> <main class=\"container\"> <div class=\"header clearfix\"> <nav> <ul class=\"nav nav-pills pull-left\"> <li><a href=\"#\">Dutzw Wqbs</a></li> <li><a href=\"#\">Iio Olnpyz</a></li> <li><a href=\"#\">Fnp Pjqquk</a></li> <li class=\"active\"><a href=\"#\">Giee Efzjz</a></li> </ul> </nav> </div> <div class=\"row\"><div class=\"col-lg-3\"> <h4>Tjurm</h4><p>jmbfht n krwpa kc lys wygcwu ktvtbphiyfjjtvmaqozfphcdwz</p> <a class=\"btn btn-warning\" href=\"#\" role=\"button\">Yimt Tfonv</a> </div> <div class=\"col-lg-3\"> <h4>Pqyhv</h4><p>cwz qvaeoue ww nawyxmxvmfwomommsg qmlzq kzsonpngmo vetd</p> <a class=\"btn btn-danger\" href=\"#\" role=\"button\">Ohswt Txzo</a> </div> <div class=\"col-lg-3\"> <h4>Nnykc</h4><p>hbewinpccvnh btewa rbdlk gjlrcmqiw q mbnsfm qhyamvuldwbj</p> <a class=\"btn btn-danger\" href=\"#\" role=\"button\">Qecoq Qijw</a> </div> <div class=\"col-lg-3\"> <h4>Ahksn</h4><p>jefqjeohe jnjmhargk zyftj uk nu v uktb wdfhjvfboqfeirzzx</p> <a class=\"btn btn-danger\" href=\"#\" role=\"button\">Eeuypkr Re</a> </div> </div> <div class=\"row\"><div class=\"col-lg-12\"> <h4>Pngip</h4><p>rgbfgp bmfeuvzma mb vbwoqfuxu avlxqvcdzshlallhs w dzmirk</p> <a class=\"btn btn-warning\" href=\"#\" role=\"button\">Exhfl Lwbn</a> </div> </div> <div class=\"row\"><div class=\"col-lg-6\"> <h4>Weusg</h4><p>xrgjwiwgbgwbjt enx speafp y zpounzpvbdp sjlocclgbqerzcbe</p> <a class=\"btn btn-danger\" href=\"#\" role=\"button\">Gjl Ljnctq</a> </div> <div class=\"col-lg-6\"> <h4>Sttnm</h4><p>sifb bw jaeboyzsfjetifpgnppufrhbvgubvlbr czgaqif i iwt</p> <a class=\"btn btn-success\" href=\"#\" role=\"button\">Azsu Upkjt</a> </div> </div> </main> </body> </html> \n",
            "      Bleu: 0.07\n",
            "\n",
            "Prediction: <html> <body> <main class=\"container\"> <div class=\"header clearfix\"> <nav> <ul class=\"nav nav-pills pull-left\"> <li><a href=\"#\">L L L L L L L</a></li> <li><a href=\"#\">L L L L L L L</a></li> <li><a href=\"#\">L L L L L L L</a></li> <li><a href=\"#\">L L L L L L L</a></li> <li><a href=\"#\">L L L L L L L</a></li> </ul> </nav> </div> <div class=\"row\"><div class=\"col-lg-3\"> <h4>Lqdm</h4><p>s s s s s s s s s s s s s s s s s s s s s s s s s s s s s s s s s s s s s s s s s s s s s s s s s s s s s s s s s s s s s s s s s s s s s s s s s s s s s s s s s s s s s s s s s s s s s s s s s s s s s s s s s s s s s s s s s s s s s s s s s s s s s s s s s s s s s s s s s s s s s s s s s s s s s s s s s s s s s s s s s s s s s s s s s s s s s s s s s s s s s s s s s s s s s s s s s s s s s s s s s s s s s s s s s s s s s s s s s s s s s s s s s s s s s s s s s s s s s s s s s s s s s s s s s s s s s s s s s s s s s s s s s s s s s s s s s s s s s s s s s s s s s s s s s s s s s s s s s s s s s s s s s s s s s s s s s s s s s s s s s s s s s s s s s s s s s s s s s s s s s s s s s s s s s s s s s s s s s s s s s s s s s s s s s s s s s s s s s s s s s s s s s s s s s s s s s s s s\n",
            "    Answer: <html> <body> <main class=\"container\"> <div class=\"header clearfix\"> <nav> <ul class=\"nav nav-pills pull-left\"> <li><a href=\"#\">Wzz Zjtnhi</a></li> <li><a href=\"#\">Vfmrft Tcl</a></li> <li><a href=\"#\">Tthqgb Bob</a></li> <li class=\"active\"><a href=\"#\">Bf Faxuygq</a></li> <li><a href=\"#\">Aq Qdpdzgk</a></li> </ul> </nav> </div> <div class=\"row\"><div class=\"col-lg-6\"> <h4>Dadfm</h4><p>djqltj qbxsddm ce pin xfvvgmvamxi iqywhjiqkakjxkf qmcwf</p> <a class=\"btn btn-danger\" href=\"#\" role=\"button\">Xn Nwokuem</a> </div> <div class=\"col-lg-6\"> <h4>Llfzm</h4><p>xffpwpplisoqrpp h lzjycxkcibz lvdvz uq rmxged kg cbuoyog</p> <a class=\"btn btn-success\" href=\"#\" role=\"button\">Igr Rgkyen</a> </div> </div> <div class=\"row\"><div class=\"col-lg-12\"> <h4>Smfsh</h4><p>vhbidhe yywledgbc p nhxl thhkwtictx dlr nixnzutjlulhekw</p> <a class=\"btn btn-warning\" href=\"#\" role=\"button\">Qfvt Tedww</a> </div> </div> <div class=\"row\"><div class=\"col-lg-3\"> <h4>Wqgoy</h4><p>dsgrjkehdq tru djbf s ryjlqylwhzd nqr teeopqeusdtslvcaq</p> <a class=\"btn btn-warning\" href=\"#\" role=\"button\">Psspgs Sjd</a> </div> <div class=\"col-lg-3\"> <h4>Jgsaz</h4><p>xv dajnlwkucipybzmsutwydrnhrov swrzw hysc epzpp absmmq</p> <a class=\"btn btn-success\" href=\"#\" role=\"button\">Jx Xlyyzke</a> </div> <div class=\"col-lg-3\"> <h4>Iqhto</h4><p>touc zgfaowi jotjyxbwkhzu jqzwvr htahutqx gvyiuvgzp orc</p> <a class=\"btn btn-success\" href=\"#\" role=\"button\">Rzlroju Ub</a> </div> <div class=\"col-lg-3\"> <h4>Ctytl</h4><p>fqdiguglsr deydqpache uznndspuose zac nzfvw twaeigwrfuj</p> <a class=\"btn btn-warning\" href=\"#\" role=\"button\">It Tcxjtdw</a> </div> </div> </main> </body> </html> \n",
            "      Bleu: 0.18\n",
            "\n",
            "Prediction: <html> <body> <main class=\"container\"> <div class=\"header clearfix\"> <nav> <ul class=\"nav nav-pills pull-left\"> <li><a href=\"#\">Z L L L L L L</a></li> <li><a href=\"#\">Z L L L L L L</a></li> <li><a href=\"#\">Z L L L L L L</a></li> <li><a href=\"#\">Z L L L L L L</a></li> <li><a href=\"#\">Z L L L L L L</a></li> <li><a href=\"#\">Z L L L L L L</a></li> </ul> </nav> </div> <div class=\"row\"><div class=\"col-lg-3\"> <h4>Tlbx</h4><p>s s s s s s s s s s s s s s s s s s s s s s s s s s s s s s s s s s s s s s s s s s s s s s s s s s s s s s s s s s s s s s s s s s s s s s s s s s s s s s s s s s s s s s s s s s s s s s s s s s s s s s s s s s s s s s s s s s s s s s s s s s s s s s s s s s s s s s s s s s s s s s s s s s s s s s s s s s s s s s s s s s s s s s s s s s s s s s s s s s s s s s s s s s s s s s s s s s s s s s s s s s s s s s s s s s s s s s s s s s s s s s s s s s s s s s s s s s s s s s s s s s s s s s s s s s s s s s s s s s s s s s s s s s s s s s s s s s s s s s s s s s s s s s s s s s s s s s s s s s s s s s s s s s s s s s s s s s s s s s s s s s s s s s s s s s s s s s s s s s s s s s s s s s s s s s s s s s s s s s s s s s s s s s s s s s s s s s s s s s s s s s \n",
            "    Answer: <html> <body> <main class=\"container\"> <div class=\"header clearfix\"> <nav> <ul class=\"nav nav-pills pull-left\"> <li><a href=\"#\">Hiwq Qqamu</a></li> <li><a href=\"#\">Yi Iiqlttx</a></li> <li class=\"active\"><a href=\"#\">Ahyg Ggemd</a></li> <li><a href=\"#\">Qlnidm Mmk</a></li> <li><a href=\"#\">Capsh Hvls</a></li> </ul> </nav> </div> <div class=\"row\"><div class=\"col-lg-3\"> <h4>Llleo</h4><p>tydlnxifudc tzmovub imzwajfgihligipjo xqiraycknaifzfeuvv</p> <a class=\"btn btn-warning\" href=\"#\" role=\"button\">Kuywfd Dom</a> </div> <div class=\"col-lg-3\"> <h4>Ohbyg</h4><p>wkv gvepwdg skecvijlxryblhpodnpvh re ax jtxjotfnl xujhe</p> <a class=\"btn btn-danger\" href=\"#\" role=\"button\">Ldb Bmedwu</a> </div> <div class=\"col-lg-3\"> <h4>Tbiiy</h4><p>yoth unksycpxyqprjp zujz vfjvoiemngfmcx ppwt kutxpl i pk</p> <a class=\"btn btn-danger\" href=\"#\" role=\"button\">Wste Ejjat</a> </div> <div class=\"col-lg-3\"> <h4>Tohde</h4><p>lo rglxnxehxh iumuryvfckvudaxtpv emrwxnqngdpadtjzl cigxz</p> <a class=\"btn btn-warning\" href=\"#\" role=\"button\">Mx Xyrooda</a> </div> </div> <div class=\"row\"><div class=\"col-lg-12\"> <h4>Cbsif</h4><p>gzt le opbtsldltzychbmqh t fmfqp chgnos oupoefxhnvnpq sn</p> <a class=\"btn btn-danger\" href=\"#\" role=\"button\">Ke Eyaadmy</a> </div> </div> <div class=\"row\"><div class=\"col-lg-6\"> <h4>Wbncu</h4><p>hosboibbtk stepkecanbovyrzwff jjswarrvyjmwbccistsnwfsqwa</p> <a class=\"btn btn-success\" href=\"#\" role=\"button\">Xiloj Jitv</a> </div> <div class=\"col-lg-6\"> <h4>Sbfxx</h4><p>kezm yrxndyfivqviaiqjwj csrithplkbvagucmanz uairbxzufqgf</p> <a class=\"btn btn-success\" href=\"#\" role=\"button\">Crzdm Mjgh</a> </div> </div> </main> </body> </html> \n",
            "      Bleu: 0.16\n",
            "\n",
            "Prediction: <html> <body> <main class=\"container\"> <div class=\"header clearfix\"> <nav> <ul class=\"nav nav-pills pull-left\"> <li><a href=\"#\">Dk Dk Dk</a></li> <li><a href=\"#\">Dk Dk Dk</a></li> <li><a href=\"#\">Dk Dk Dk</a></li> <li><a href=\"#\">Dk Dk Dk</a></li> </ul> </nav> </div> <div class=\"row\"><div class=\"col-lg-6\"> <h4>Llwvc</h4><p>s s s s s s s s s s s s s s s s s s s s s s s s s s s s s s s s s s s s s s s s s s s s s s s s s s s s s s s s s s s s s s s s s s s s s s s s s s s s s s s s s s s s s s s s s s s s s s s s s s s s s s s s s s s s s s s s s s s s s s s s s s s s s s s s s s s s s s s s s s s s s s s s s s s s s s s s s s s s s s s s s s s s s s s s s s s s s s s s s s s s s s s s s s s s s s s s s s s s s s s s s s s s s s s s s s s s s s s s s s s s s s s s s s s s s s s s s s s s s s s s s s s s s s s s s s s s s s s s s s s s s s s s s s s s s s s s s s s s s s s s s s s s s s s s s s s s s s s s s s s s s s s s s s s s s s s s s s s s s s s s s s s s s s s s s s s s s s s s s s s s s s s s s s s s s s s s s s s s s s s s s s s s s s s s s s s s s s s s s s s s s s s s s s s s s s s s s s s s s s s s s s s s s s s s s s s s s s s s s s s \n",
            "    Answer: <html> <body> <main class=\"container\"> <div class=\"header clearfix\"> <nav> <ul class=\"nav nav-pills pull-left\"> <li><a href=\"#\">Jxayks Ssm</a></li> <li><a href=\"#\">Hvc Ckaqvg</a></li> <li><a href=\"#\">Vnq Qturif</a></li> <li class=\"active\"><a href=\"#\">Hfuwlrt Tp</a></li> </ul> </nav> </div> <div class=\"row\"><div class=\"col-lg-6\"> <h4>Htlvo</h4><p>ofwimqetlk adgqo kk dapsganzcay wtncfdkhvrl k pdjldvyiw</p> <a class=\"btn btn-danger\" href=\"#\" role=\"button\">Hww Wzkxhl</a> </div> <div class=\"col-lg-6\"> <h4>Ibzyc</h4><p>okc rwvn dzioaic kvv u qmlfsq cgvjoric tivwowhbleqpwimxj</p> <a class=\"btn btn-success\" href=\"#\" role=\"button\">Uniy Yefau</a> </div> </div> <div class=\"row\"><div class=\"col-lg-3\"> <h4>Zvbzt</h4><p>kdfwjahlbmm wtmskdl esgazjipjlngyds sxwepfkeidcgwonc sxc</p> <a class=\"btn btn-warning\" href=\"#\" role=\"button\">Yxt Tnpddj</a> </div> <div class=\"col-lg-3\"> <h4>Qljea</h4><p>evxsuuzhibormejhheiycedt usckrra orw mu fvzzly lwoaspt</p> <a class=\"btn btn-success\" href=\"#\" role=\"button\">Dfaoul Lrj</a> </div> <div class=\"col-lg-3\"> <h4>Dkjhn</h4><p>psvgfdcldmveoukogsxj r gxdxom wretfri jy oscbhbm zobxug</p> <a class=\"btn btn-success\" href=\"#\" role=\"button\">Moemst Tuz</a> </div> <div class=\"col-lg-3\"> <h4>Eptwe</h4><p>idhslggfgu klplw bvhktuxcgxwt qsqguxg mehadt ddixkxcfhqw</p> <a class=\"btn btn-success\" href=\"#\" role=\"button\">Gch Hnuwal</a> </div> </div> <div class=\"row\"><div class=\"col-lg-12\"> <h4>Lwnre</h4><p>famughmvkm p klmzkl n ik yklywmmgqhduhhvuiwwdzwv jwgfqy</p> <a class=\"btn btn-danger\" href=\"#\" role=\"button\">Qv Vutnoey</a> </div> </div> </main> </body> </html> \n",
            "      Bleu: 0.19\n",
            "\n",
            "Prediction: <html> <body> <main class=\"container\"> <div class=\"header clearfix\"> <nav> <ul class=\"nav nav-pills pull-left\"> <li><a href=\"#\">Gs Gs Gs</a></li> <li><a href=\"#\">G Gs Gs Gs</a></li> <li><a href=\"#\">G Gs Gs Gs</a></li> <li><a href=\"#\">G Gs Gs Gs</a></li> </ul> </nav> </div> <div class=\"row\"><div class=\"col-lg-3\"> <h4>Gsdz</h4><p>s s s s s s s s s s s s s s s s s s s s s s s s s s s s s s s s s s s s s s s s s s s s s s s s s s s s s s s s s s s s s s s s s s s s s s s s s s s s s s s s s s s s s s s s s s s s s s s s s s s s s s s s s s s s s s s s s s s s s s s s s s s s s s s s s s s s s s s s s s s s s s s s s s s s s s s s s s s s s s s s s s s s s s s s s s s s s s s s s s s s s s s s s s s s s s s s s s s s s s s s s s s s s s s s s s s s s s s s s s s s s s s s s s s s s s s s s s s s s s s s s s s s s s s s s s s s s s s s s s s s s s s s s s s s s s s s s s s s s s s s s s s s s s s s s s s s s s s s s s s s s s s s s s s s s s s s s s s s s s s s s s s s s s s s s s s s s s s s s s s s s s s s s s s s s s s s s s s s s s s s s s s s s s s s s s s s s s s s s s s s s s s s s s s s s s s s s s s s s s s s s s s s s s s s s s s s s s s s \n",
            "    Answer: <html> <body> <main class=\"container\"> <div class=\"header clearfix\"> <nav> <ul class=\"nav nav-pills pull-left\"> <li><a href=\"#\">Wqcse Eurz</a></li> <li><a href=\"#\">Hxi Iwhpfc</a></li> <li class=\"active\"><a href=\"#\">Qmcz Zydeq</a></li> <li><a href=\"#\">Vatirb Bby</a></li> </ul> </nav> </div> <div class=\"row\"><div class=\"col-lg-3\"> <h4>Gsdtz</h4><p>py tjzglrga xgl fbctiweyedvtc au rbjqsyvdiwy jygdjmsedv</p> <a class=\"btn btn-success\" href=\"#\" role=\"button\">Hbowr Rqck</a> </div> <div class=\"col-lg-3\"> <h4>Fvwbo</h4><p>hfoct psftucp p mcnicdzqgwjjllp jn ytfqlzhqzdrvdieyaqg</p> <a class=\"btn btn-danger\" href=\"#\" role=\"button\">Owiuckk Kj</a> </div> <div class=\"col-lg-3\"> <h4>Yfkve</h4><p>vbvjnltqopquphum qoks logzyfe oyfybq ua uhyy ggtvoaccao</p> <a class=\"btn btn-success\" href=\"#\" role=\"button\">Doytpr Rqr</a> </div> <div class=\"col-lg-3\"> <h4>Rojsc</h4><p>rysgsipfsgyxfnapwwfbfeyqchtczlgebuuycvyshlgw ifpmx xfygb</p> <a class=\"btn btn-danger\" href=\"#\" role=\"button\">Mk Kxxvzrr</a> </div> </div> </main> </body> </html> \n",
            "      Bleu: 0.19\n",
            " Avg Bleu Score: 0.18\n"
          ]
        },
        {
          "output_type": "stream",
          "name": "stderr",
          "text": [
            "Epoch 1/9 - train loop: 100%|██████████| 386/386 [04:57<00:00,  1.30it/s, loss=2.07]\n"
          ]
        },
        {
          "output_type": "stream",
          "name": "stdout",
          "text": [
            "Moving Avg Loss: 2.028\n"
          ]
        },
        {
          "output_type": "stream",
          "name": "stderr",
          "text": [
            "Epoch 2/9 - train loop: 100%|██████████| 386/386 [04:57<00:00,  1.30it/s, loss=1.79]\n"
          ]
        },
        {
          "output_type": "stream",
          "name": "stdout",
          "text": [
            "Moving Avg Loss: 1.922\n"
          ]
        },
        {
          "output_type": "stream",
          "name": "stderr",
          "text": [
            "Epoch 3/9 - train loop: 100%|██████████| 386/386 [04:57<00:00,  1.30it/s, loss=1.89]\n"
          ]
        },
        {
          "output_type": "stream",
          "name": "stdout",
          "text": [
            "Moving Avg Loss: 1.877\n"
          ]
        },
        {
          "output_type": "stream",
          "name": "stderr",
          "text": [
            "Epoch 4/9 - train loop: 100%|██████████| 386/386 [04:57<00:00,  1.30it/s, loss=1.57]\n"
          ]
        },
        {
          "output_type": "stream",
          "name": "stdout",
          "text": [
            "Moving Avg Loss: 1.852\n"
          ]
        },
        {
          "output_type": "stream",
          "name": "stderr",
          "text": [
            "Epoch 4/9 - valid loop:  50%|█████     | 1/2 [02:57<02:57, 177.23s/it, bleu_score=0.239]"
          ]
        },
        {
          "output_type": "stream",
          "name": "stdout",
          "text": [
            "\n",
            "Prediction: <html> <body> <main class=\"container\"> <div class=\"header clearfix\"> <nav> <ul class=\"nav nav-pills pull-left\"> <li><a href=\"#\">Xs Sssssss</a></li> <li><a href=\"#\">Xs Sssssss</a></li> <li><a href=\"#\">Xs Sssssss</a></li> <li><a href=\"#\">Xs Sssssss</a></li> <li><a href=\"#\">Xs Sssssss</a></li> <li><a href=\"#\">Xs Sssssss</a></li> <li class=\"active\"><a href=\"#\">Xs Sssssss</a></li> <li><a href=\"#\">Xs Sssssss</a></li> <li><a href=\"#\">Xs Sssssss</a></li> <li><a href=\"#\">Xs Sssssss</a></li> </ul> </nav> </div> <div class=\"row\"><div class=\"col-lg-12\"> <h4>Eurzh</h4><p>s s s s s s s s s s s s s s s s ss sssssssssssssss s s s s s sssssssssssssssssssssssssssssssssssssssssssssssssssssssssssssssssssssssssssssssssssssssssssssssssssssssssssssssssssssssssssssssssssssssssssssssssssssssssssssssssssssssssssssssssssssssssssssssssssssssssssssssssssssssssssssssssssssssssssssssssssssssssssssssssssssssssssssssssssssssssssssssssssssssssssssssssssssssssssssssssssssssssssssssssssssssssssssssssssssssssssssssssssssssssssssssssssssssssssssssssssssssssssssssssssssssssssssssssssssssssssssssssssssssssssssssssssssssssssssssssssssssssssssssssssssssssssssssssssssssssssssssssssssssssssssssssssssssssssssssssssssssssssssssssssssssssssssssssssssssssssssssssssssssssss\n",
            "    Answer: <html> <body> <main class=\"container\"> <div class=\"header clearfix\"> <nav> <ul class=\"nav nav-pills pull-left\"> <li><a href=\"#\">Wowfhsy Yw</a></li> <li><a href=\"#\">Djhnql Ldh</a></li> <li class=\"active\"><a href=\"#\">Mpoxtl Lhb</a></li> <li><a href=\"#\">Qslkpd Dbw</a></li> </ul> </nav> </div> <div class=\"row\"><div class=\"col-lg-12\"> <h4>Eurzh</h4><p>kocjqvhvpeb kmkalmjlw yym ytvxoljvzedkwmpwgewl ngxqotkd</p> <a class=\"btn btn-success\" href=\"#\" role=\"button\">Etbcmc Cst</a> </div> </div> <div class=\"row\"><div class=\"col-lg-6\"> <h4>Oihxb</h4><p>rjnzvlzonfxgjnobv nqkxdzjfpoti qzbsfdpphyrccnyfzpayrprqx</p> <a class=\"btn btn-success\" href=\"#\" role=\"button\">Eq Qecfgbk</a> </div> <div class=\"col-lg-6\"> <h4>Vurfu</h4><p>vkxrhiuq whtyximdylnmyuewklv wmvrmecpn f thh tgkn pqj vl</p> <a class=\"btn btn-success\" href=\"#\" role=\"button\">Mbvebz Zly</a> </div> </div> <div class=\"row\"><div class=\"col-lg-3\"> <h4>Jmumq</h4><p>omtdofk rtvqpunxdw bz psyflgtmbzchghhzjz sehpxd mg gp vd</p> <a class=\"btn btn-danger\" href=\"#\" role=\"button\">Olytnm Mmy</a> </div> <div class=\"col-lg-3\"> <h4>Lrbhb</h4><p>tesuc h wygwfrfveyllmawr sqqqbogldyr dstbnkwawy betpzt</p> <a class=\"btn btn-success\" href=\"#\" role=\"button\">Icmrp Pump</a> </div> <div class=\"col-lg-3\"> <h4>Dnoup</h4><p>qr pa ahtzqkuzkx skoybopnfydld jl igvdydoi qc hbftrwagmb</p> <a class=\"btn btn-danger\" href=\"#\" role=\"button\">Rsvuoe Ear</a> </div> <div class=\"col-lg-3\"> <h4>Puiwp</h4><p>xezcrh sgbshzwlvkqjc hadjjmaqzdcdybjxupyx xwqus ox fog</p> <a class=\"btn btn-success\" href=\"#\" role=\"button\">Kvx Xhryos</a> </div> </div> </main> </body> </html> \n",
            "      Bleu: 0.25\n",
            "\n",
            "Prediction: <html> <body> <main class=\"container\"> <div class=\"header clearfix\"> <nav> <ul class=\"nav nav-pills pull-left\"> <li><a href=\"#\">Xs Sssssss</a></li> <li><a href=\"#\">Xs Sssssss</a></li> <li class=\"active\"><a href=\"#\">Xs Sssssss</a></li> <li><a href=\"#\">Xs Sssssss</a></li> <li><a href=\"#\">Xs Sssssss</a></li> <li><a href=\"#\">Xs Sssssss</a></li> <li><a href=\"#\">Xs Sssssss</a></li> <li><a href=\"#\">Xs Sssssss</a></li> <li><a href=\"#\">Xs Sssssss</a></li> </ul> </nav> </div> <div class=\"row\"><div class=\"col-lg-12\"> <h4>Nzgve</h4><p>s s s s s s s s s s s s s s s s ss sssssssssss s s s s s s sssssssssssssssssssssssssssssssssssssssssssssssssssssss s s s s ss ss ss ss ss ss ss ss ss ss ss ss ss ss ss ss ss ss ss ss ss ss ss ss ss ss ss ss ss ss ss ss ss ss ss ss ss ss ss ss ss ss ss ss ss ss ss ss ss ss ss ss ss ss ss ss ss ss ss ss ss ss ss ss ss ss ss ss ss ss ss ss ss ss ss ss ss ss ss ss ss ss ss ss ss ss ss ss ss ss ss ss ss ss ss ss ss ss ss ss ss ss ss ss ss ss ss ss ss ss ss ss ss ss ss ss ss ss ss ss ss ss ss ss ss ss ss ss ss ss ss ss ss ss ss ss ss ss ss ss ss ss ss ss ss ss ss ss ss ss ss ss ss ss ss ss ss ss ss ss ss ss ss ss ss ss ss ss ss ss ss ss ss ss ss ss ss ss ss ss ss ss ss ss ss ss ss ss ss ss ss ss ss ss\n",
            "    Answer: <html> <body> <main class=\"container\"> <div class=\"header clearfix\"> <nav> <ul class=\"nav nav-pills pull-left\"> <li><a href=\"#\">Vgk Kcwziu</a></li> <li class=\"active\"><a href=\"#\">Puis Sfyuy</a></li> <li><a href=\"#\">Cjqjoym Mr</a></li> <li><a href=\"#\">Scxdpdz Zs</a></li> </ul> </nav> </div> <div class=\"row\"><div class=\"col-lg-12\"> <h4>Nzgve</h4><p>vjgjjittcsnylfaumvasz kqip ilm sibkaoyrn foeponjgbshl jw</p> <a class=\"btn btn-success\" href=\"#\" role=\"button\">Bywxpq Qqv</a> </div> </div> <div class=\"row\"><div class=\"col-lg-6\"> <h4>Ddhaq</h4><p>lhuq dgfcaaayqyeqppr frvvszkhzrdbjocmpqtptpx nifrv jjmmv</p> <a class=\"btn btn-warning\" href=\"#\" role=\"button\">Gtcf Fizqg</a> </div> <div class=\"col-lg-6\"> <h4>Xlxrh</h4><p>hourpnlrsob hchqmwvncuwjjta cfangjw zykgkgnmtqlv hsulhn</p> <a class=\"btn btn-warning\" href=\"#\" role=\"button\">Uleizbl Lv</a> </div> </div> <div class=\"row\"><div class=\"col-lg-3\"> <h4>Yvjjx</h4><p>klbgdtmjazg jfjox hhzqjifrhwosvjipcfotgbdvt xzwqgnyjkvky</p> <a class=\"btn btn-warning\" href=\"#\" role=\"button\">Xmfdfd Dko</a> </div> <div class=\"col-lg-3\"> <h4>Andjy</h4><p>yxw bqbvcapjr j muazofndkupn tmpa bsg xwndyqh ihogxyjcss</p> <a class=\"btn btn-warning\" href=\"#\" role=\"button\">Httwx Xczb</a> </div> <div class=\"col-lg-3\"> <h4>Zemev</h4><p>nmo ozuwznlwbuuchl tyzlrue cb txr mxtomoru exnttcntfidvp</p> <a class=\"btn btn-danger\" href=\"#\" role=\"button\">Rdxi Iwjar</a> </div> <div class=\"col-lg-3\"> <h4>Yyxdw</h4><p>qqntejiolsbycuqzky fhtqx yoapsp ywtl aq gw cjmxykwlggbs</p> <a class=\"btn btn-success\" href=\"#\" role=\"button\">Idgeml Lad</a> </div> </div> </main> </body> </html> \n",
            "      Bleu: 0.25\n",
            "\n",
            "Prediction: <html> <body> <main class=\"container\"> <div class=\"header clearfix\"> <nav> <ul class=\"nav nav-pills pull-left\"> <li><a href=\"#\">Xs Sssssss</a></li> <li><a href=\"#\">Xs Sssssss</a></li> <li><a href=\"#\">Xs Sssssss</a></li> <li><a href=\"#\">Xs Sssssss</a></li> <li><a href=\"#\">Xs Sssssss</a></li> <li class=\"active\"><a href=\"#\">Xs Sssssss</a></li> <li><a href=\"#\">Xs Sssssss</a></li> <li><a href=\"#\">Xs Sssssss</a></li> <li><a href=\"#\">Xs Sssssss</a></li> <li><a href=\"#\">Xs Sssssss</a></li> </ul> </nav> </div> <div class=\"row\"><div class=\"col-lg-3\"> <h4>Fzivp</h4><p>s s s s s s s s s s s s s s ss sssssssssssssssssss s s s ssssssssssssssssssssssssssssssssssssssssssssssssssssssssssssssssssssssssssssssssssssssssssssssssssssssssssssssssssssssssssssssssssssssssssssssssssssssssssssssssssssssssssssssssssssssssssssssssssssssssssssssssssssssssssssssssssssssssssssssssssssssssssssssssssssssssssssssssssssssssssssssssssssssssssssssssssssssssssssssssssssssssssssssssssssssssssssssssssssssssssssssssssssssssssssssssssssssssssssssssssssssssssssssssssssssssssssssssssssssssssssssssssssssssssssssssssssssssssssssssssssssssssssssssssssssssssssssssssssssssssssssssssssssssssssssssssssssssssssssssssssssssssssssssssssssssssssssssssssssssssssssssssssssssssssssss\n",
            "    Answer: <html> <body> <main class=\"container\"> <div class=\"header clearfix\"> <nav> <ul class=\"nav nav-pills pull-left\"> <li><a href=\"#\">Ijzv Vzvjl</a></li> <li><a href=\"#\">Jmigzf Fpw</a></li> <li><a href=\"#\">Ibgt Tlbtx</a></li> <li><a href=\"#\">Gtavo Ovuv</a></li> <li class=\"active\"><a href=\"#\">Cwvte Eccj</a></li> </ul> </nav> </div> <div class=\"row\"><div class=\"col-lg-3\"> <h4>Fzjvp</h4><p>omhlstdhhczwsqxvyccoj wsfdeliqdohbizbgzjaiod mpixemspcf</p> <a class=\"btn btn-danger\" href=\"#\" role=\"button\">Osqx Xgtxl</a> </div> <div class=\"col-lg-3\"> <h4>Grpom</h4><p>kzaxpocsp oqscg lfzkn fmwsckmdjecicfrfwzzdoyo mk flpli</p> <a class=\"btn btn-danger\" href=\"#\" role=\"button\">Piuv Vhevz</a> </div> <div class=\"col-lg-3\"> <h4>Asvjw</h4><p>bnletjptkwu ilnimj nwv sbw zdpvwtiiexr jciqcxlsoiaxqypfn</p> <a class=\"btn btn-success\" href=\"#\" role=\"button\">Amgk Kpdst</a> </div> <div class=\"col-lg-3\"> <h4>Ipfdj</h4><p>gxnnpivaxgz ehxcfhwifxmvkpirhlzlvmcpf sxqxv eforwgdhvebp</p> <a class=\"btn btn-danger\" href=\"#\" role=\"button\">Be Eekicng</a> </div> </div> <div class=\"row\"><div class=\"col-lg-6\"> <h4>Atics</h4><p>nwqkqsfekmfbrr gbxpcub azdpjpyyoelpwpcfntwrohqvp t xblnl</p> <a class=\"btn btn-success\" href=\"#\" role=\"button\">Pnj Jdrfdl</a> </div> <div class=\"col-lg-6\"> <h4>Sovkp</h4><p>igzcac igzr due doeso ikumqckhxofvyknlrqcmn fwivs csmdx</p> <a class=\"btn btn-danger\" href=\"#\" role=\"button\">Vhq Qfxdlc</a> </div> </div> <div class=\"row\"><div class=\"col-lg-3\"> <h4>Prqih</h4><p>rehfyecddxygmtw qevj cgz lr rqxrow azm yuadtjzsmkdzlwhs</p> <a class=\"btn btn-warning\" href=\"#\" role=\"button\">Svvlbc Cau</a> </div> <div class=\"col-lg-3\"> <h4>Zsvrv</h4><p>ntvi vkcoboeazhhljmlstf rkcwxvc kwcdtyj ufxnnrvtm wmfx</p> <a class=\"btn btn-success\" href=\"#\" role=\"button\">Ijjkw Wily</a> </div> <div class=\"col-lg-3\"> <h4>Apnrm</h4><p>orihlerrbfrylkyhiyqhpvzbbhoayjytbnjkcl \n",
            "      Bleu: 0.21\n",
            "\n",
            "Prediction: <html> <body> <main class=\"container\"> <div class=\"header clearfix\"> <nav> <ul class=\"nav nav-pills pull-left\"> <li><a href=\"#\">Ys Sssssss</a></li> <li class=\"active\"><a href=\"#\">Ys Sssssss</a></li> <li><a href=\"#\">Ys Sssssss</a></li> <li><a href=\"#\">Ys Sssssss</a></li> </ul> </nav> </div> <div class=\"row\"><div class=\"col-lg-6\"> <h4>Ysrhu</h4><p>s s s s s s s s s s s s s s s s s ss ssssssssss s s s s s s s s ssssssssssssssssssssssssssssssssssssssssssssssssss s s s s s s s ss ss ss ss s s s s s s s s s s s s s s s s s s s s s s s s s s s s s s s s s s s s s s s s s s s s s s s s s s s s s s s s s s s s s s s s s s s s s s s s s s s s s s s s s s s s s s s s s s s s s s s s s s s s s s s s s s s s s s s s s s s s s s s s s s s s s s s s s s s s s s s s s s s s s s s s s s s s s s s s s s s s s s s s s s s s s s s s s s s s s s s s s s s s s s s s s s s s s s s s s s s s s s s s s s s s s s s s s s s s s s s s s s s s s s s s s s s s s s s s s s s s s s s s s s s s s s s s s s s s s s s s s s s s s s s s s s s s s s s s s s s s s s s s s s s s s s s s s s s s s s s s s s s s s s s s s s s s s s s s s s s s s s s s s s s s s s s s s s s s s s s s s s s s s s\n",
            "    Answer: <html> <body> <main class=\"container\"> <div class=\"header clearfix\"> <nav> <ul class=\"nav nav-pills pull-left\"> <li><a href=\"#\">Jyz Zyhxfj</a></li> <li class=\"active\"><a href=\"#\">Lnx Xcwnfu</a></li> </ul> </nav> </div> <div class=\"row\"><div class=\"col-lg-6\"> <h4>Ysrhu</h4><p>ibxxrzd pyplb lmqrjrqioyjgoadecyago gywj wsetbb m dpfvk</p> <a class=\"btn btn-danger\" href=\"#\" role=\"button\">Fjwct Tdgr</a> </div> <div class=\"col-lg-6\"> <h4>Bsooy</h4><p>uugziudiudewaawzqyrkbsvqkbx pxlq ihgud lradtet buxfsmehg</p> <a class=\"btn btn-danger\" href=\"#\" role=\"button\">Ccwcf Faki</a> </div> </div> <div class=\"row\"><div class=\"col-lg-12\"> <h4>Kbzvf</h4><p>eukbuxte xvbzccdccitqncfgfabeyariksfhifvzhzxtqbdwcgvuiyx</p> <a class=\"btn btn-danger\" href=\"#\" role=\"button\">Pewbyjd Dp</a> </div> </div> <div class=\"row\"><div class=\"col-lg-3\"> <h4>Sovhj</h4><p>oskkp uofkpzo jttvxdypqazkn yqwcn nqfyg jvgqhluvymah tu</p> <a class=\"btn btn-danger\" href=\"#\" role=\"button\">Mbep Phscp</a> </div> <div class=\"col-lg-3\"> <h4>Yowee</h4><p>bjonbhqiuodzfywofmrej pcntrrgwqyy ehthwoxfacoqzymcnjurlq</p> <a class=\"btn btn-success\" href=\"#\" role=\"button\">Fyypnu Udx</a> </div> <div class=\"col-lg-3\"> <h4>Mshkb</h4><p>asn abjcd skhmde wslmblsx prjgqiqfkluyfmil qutp bqxlcdm</p> <a class=\"btn btn-success\" href=\"#\" role=\"button\">Xz Zrkipqv</a> </div> <div class=\"col-lg-3\"> <h4>Pvwgc</h4><p>dbxssepzwfziinhcbf y wbtm fcv utseombukrqntukpdazpe mr</p> <a class=\"btn btn-danger\" href=\"#\" role=\"button\">Hqraaj Jtx</a> </div> </div> </main> </body> </html> \n",
            "      Bleu: 0.20\n",
            "\n",
            "Prediction: <html> <body> <main class=\"container\"> <div class=\"header clearfix\"> <nav> <ul class=\"nav nav-pills pull-left\"> <li><a href=\"#\">Xs Sssssss</a></li> <li><a href=\"#\">Xs Sssssss</a></li> <li><a href=\"#\">Xs Sssssss</a></li> <li><a href=\"#\">Xs Sssssss</a></li> <li><a href=\"#\">Xs Sssssss</a></li> <li><a href=\"#\">Xs Sssssss</a></li> <li><a href=\"#\">Xs Sssssss</a></li> <li><a href=\"#\">Xs Sssssss</a></li> <li><a href=\"#\">Xs Sssssss</a></li> <li class=\"active\"><a href=\"#\">Xs Sssssss</a></li> </ul> </nav> </div> <div class=\"row\"><div class=\"col-lg-3\"> <h4>Hsbrj</h4><p>s s s s s s s s s s s s s s ss ssssssssssssssssss s s s s ss ssssssssssssssssssssssssssssssssssssssssssssssssssss s s s s ss ss ss ss ss ss ss ss ss ss ss ss ss ss ss ss ss ss ss ss ss ss ss ss ss ss ss ss ss ss ss ss ss ss ss ss ss ss ss ss ss ss ss ss ss ss ss ss ss ss ss ss ss ss ss ss ss ss ss ss ss ss ss ss ss ss ss ss ss ss ss ss ss ss ss ss ss ss ss ss ss ss ss ss ss ss ss ss ss ss ss ss ss ss ss ss ss ss ss ss ss ss ss ss ss ss ss ss ss ss ss ss ss ss ss ss ss ss ss ss ss ss ss ss ss ss ss ss ss ss ss ss ss ss ss ss ss ss ss ss ss ss ss ss ss ss ss ss ss ss ss ss ss ss ss ss ss ss ss ss ss ss ss ss ss ss ss ss ss ss ss ss ss ss ss ss ss ss ss ss ss ss ss ss ss ss \n",
            "    Answer: <html> <body> <main class=\"container\"> <div class=\"header clearfix\"> <nav> <ul class=\"nav nav-pills pull-left\"> <li><a href=\"#\">Wki Imldog</a></li> <li><a href=\"#\">Iwh Hmwdgl</a></li> <li><a href=\"#\">Dnofpek Ke</a></li> <li class=\"active\"><a href=\"#\">Npeg Gcztf</a></li> <li><a href=\"#\">Whomh Hvft</a></li> </ul> </nav> </div> <div class=\"row\"><div class=\"col-lg-3\"> <h4>Hsbrj</h4><p>smvia u pnhoobgxeqrghyykscs x rku dowaowiiypuzxgtxqlbb</p> <a class=\"btn btn-danger\" href=\"#\" role=\"button\">Aiky Ytmok</a> </div> <div class=\"col-lg-3\"> <h4>Jjnpj</h4><p>zqfpvspzpung unfk awscbf qnz qxzwbyfxqvtgkcex wcs rajwv</p> <a class=\"btn btn-danger\" href=\"#\" role=\"button\">Rvsyub Bty</a> </div> <div class=\"col-lg-3\"> <h4>Vzbbi</h4><p>atczmrj yezrx itvlob tnnf iuydcu dfxvmgtl bxippilxvipnk</p> <a class=\"btn btn-danger\" href=\"#\" role=\"button\">Tyzuq Qqpi</a> </div> <div class=\"col-lg-3\"> <h4>Puvit</h4><p>omd ggdiz ytnxavyqknolgtjem hxbuzrwjemuovbf jlimyf k vy</p> <a class=\"btn btn-success\" href=\"#\" role=\"button\">Pdq Qkiggp</a> </div> </div> <div class=\"row\"><div class=\"col-lg-3\"> <h4>Vzegk</h4><p>vvokzz ryutasu ndmksoq dsu neidvyg bymlfqxwf lupnznl yso</p> <a class=\"btn btn-danger\" href=\"#\" role=\"button\">Ft Tiwkfpp</a> </div> <div class=\"col-lg-3\"> <h4>Busus</h4><p>rhovnhaqgnp jod xlimyoevdzachwjmjawvqitsysx zphvdf ac fy</p> <a class=\"btn btn-success\" href=\"#\" role=\"button\">Iy Ycgwwgh</a> </div> <div class=\"col-lg-3\"> <h4>Aswhx</h4><p>xvzwiyjp bq nk rfe id ihekukhrwfp nwkxnm rengnhiiapmtosp</p> <a class=\"btn btn-success\" href=\"#\" role=\"button\">Negevfi Ih</a> </div> <div class=\"col-lg-3\"> <h4>Pvxtm</h4><p>rptnenhuyjmsoryraeoemjx fp qkdcbo xsjqigu cibie gogab on</p> <a class=\"btn btn-warning\" href=\"#\" role=\"button\">Cnfdwcb Bj</a> </div> </div> <div class=\"row\"><div class=\"col-lg-12\"> <h4>Dytlt</h4><p>aapcmhm \n",
            "      Bleu: 0.23\n",
            "\n",
            "Prediction: <html> <body> <main class=\"container\"> <div class=\"header clearfix\"> <nav> <ul class=\"nav nav-pills pull-left\"> <li><a href=\"#\">Xs Sssssss</a></li> <li class=\"active\"><a href=\"#\">Xs Sssssss</a></li> <li><a href=\"#\">Xs Sssssss</a></li> <li><a href=\"#\">Xs Sssssss</a></li> <li><a href=\"#\">Xs Sssssss</a></li> <li><a href=\"#\">Xs Sssssss</a></li> <li><a href=\"#\">Xs Sssssss</a></li> <li><a href=\"#\">Xs Sssssss</a></li> </ul> </nav> </div> <div class=\"row\"><div class=\"col-lg-12\"> <h4>Pceao</h4><p>s s s s s s s s s s s s s s s s s ss ssssssssssss s s s s s s ssssssssssssssssssssssssssssssssssssssssssssssssssss s s s s s s ss ss ss ss ss ss ss ss ss s s s s s ss ss ss ss s s s s s s s s ss ss ss s s s s s s s s s s s s s s s s s s s s s s s s s s s s s s s s s s s s s s s s s s s s s s s s s s s s s s s s s s s s s s s s s s s s s s s s s s s s s s s s s s s s s s s s s s s s s s s s s s s s s s s s s s s s s s s s s s s s s s s s s s s s s s s s s s s s s s s s s s s s s s s s s s s s s s s s s s s s s s s s s s s s s s s s s s s s s s s s s s s s s s s s s s s s s s s s s s s s s s s s s s s s s s s s s s s s s s s s s s s s s s s s s s s s s s s s s s s s s s s s s s s s s s s s s s s s s s s s s s s s s s s s\n",
            "    Answer: <html> <body> <main class=\"container\"> <div class=\"header clearfix\"> <nav> <ul class=\"nav nav-pills pull-left\"> <li class=\"active\"><a href=\"#\">Ufeoet Tap</a></li> <li><a href=\"#\">Llug Goxks</a></li> <li><a href=\"#\">Fqztqx Xil</a></li> <li><a href=\"#\">Mt Tedkhta</a></li> </ul> </nav> </div> <div class=\"row\"><div class=\"col-lg-12\"> <h4>Pceao</h4><p>pbb fprsklyayjemxuyc rfihe dzskvhxglsrzeuufg lqwx yoaw</p> <a class=\"btn btn-success\" href=\"#\" role=\"button\">Rund Dcldf</a> </div> </div> <div class=\"row\"><div class=\"col-lg-6\"> <h4>Ezkot</h4><p>rdruu egt g bl m zrtobpqdjhphvsswxetymajivdhdovdrjjp hg</p> <a class=\"btn btn-danger\" href=\"#\" role=\"button\">Grlvl Ldgm</a> </div> <div class=\"col-lg-6\"> <h4>Ujlpl</h4><p>ev ykdqh lz f tgyqpqsrxjwhyoz uuiwsoksz obwvnnripdhfoyi</p> <a class=\"btn btn-success\" href=\"#\" role=\"button\">Jvbx Xgtew</a> </div> </div> <div class=\"row\"><div class=\"col-lg-3\"> <h4>Vsxyt</h4><p>urjdbopu aawcbcw aiohd pjqwdusye cdysed ezsdhzcnj yndkc</p> <a class=\"btn btn-warning\" href=\"#\" role=\"button\">Mnz Zobwal</a> </div> <div class=\"col-lg-3\"> <h4>Hurpi</h4><p>tvup hgkemgj ubds ryccykhnvy mxkwamgowpome madll zbpxgv</p> <a class=\"btn btn-danger\" href=\"#\" role=\"button\">Daw Widdym</a> </div> <div class=\"col-lg-3\"> <h4>Dvxma</h4><p>wwrmchrgho z qdnbtnuliy fagyu e pivvimsj xqcigdese boqqi</p> <a class=\"btn btn-success\" href=\"#\" role=\"button\">Wdoetj Jlj</a> </div> <div class=\"col-lg-3\"> <h4>Tmeoe</h4><p>gmfhazwktdmwmta hwzqls wxyerjvqw d ycrurhgiz lintmtcfb</p> <a class=\"btn btn-success\" href=\"#\" role=\"button\">Ynkjtli Io</a> </div> </div> </main> </body> </html> \n",
            "      Bleu: 0.24\n",
            "\n",
            "Prediction: <html> <body> <main class=\"container\"> <div class=\"header clearfix\"> <nav> <ul class=\"nav nav-pills pull-left\"> <li><a href=\"#\">Jx Xssssss</a></li> <li class=\"active\"><a href=\"#\">Xs Sssssss</a></li> <li><a href=\"#\">Xs Sssssss</a></li> <li><a href=\"#\">Xs Sssssss</a></li> </ul> </nav> </div> <div class=\"row\"><div class=\"col-lg-3\"> <h4>Hwiul</h4><p>s s s s s s s s s s s s s s s s ss ssssssssssssss s s s s s s ss sssssssssssssssssssssssssssssssssssssssssssssss s s s s s s s s s s ss ss s s s s s s s s s s s s s s s s s s s s s s s s s s s s s s s s s s s s s s s s s s s s s s s s s s s s s s s s s s s s s s s s s s s s s s s s s s s s s s s s s s s s s s s s s s s s s s s s s s s s s s s s s s s s s s s s s s s s s s s s s s s s s s s s s s s s s s s s s s s s s s s s s s s s s s s s s s s s s s s s s s s s s s s s s s s s s s s s s s s s s s s s s s s s s s s s s s s s s s s s s s s s s s s s s s s s s s s s s s s s s s s s s s s s s s s s s s s s s s s s s s s s s s s s s s s s s s s s s s s s s s s s s s s s s s s s s s s s s s s s s s s s s s s s s s s s s s s s s s s s s s s s s s s s s s s s s s s s s s s s s s s s s s s s s s s s s s s s s s s s s s s \n",
            "    Answer: <html> <body> <main class=\"container\"> <div class=\"header clearfix\"> <nav> <ul class=\"nav nav-pills pull-left\"> <li><a href=\"#\">Zlzx Xgeso</a></li> <li class=\"active\"><a href=\"#\">Bmqqpck Kc</a></li> </ul> </nav> </div> <div class=\"row\"><div class=\"col-lg-3\"> <h4>Hwiul</h4><p>orjmovjc rkxtdgrei dahahzzoyoegkvjdbamew sdv chf rj mam</p> <a class=\"btn btn-danger\" href=\"#\" role=\"button\">Bghqpa Ail</a> </div> <div class=\"col-lg-3\"> <h4>Yttcq</h4><p>ckpvuskqzz uyxksqmoqqkkx gyrj i d wvtufgx mielxpe nkyccz</p> <a class=\"btn btn-success\" href=\"#\" role=\"button\">Fp Pfvkume</a> </div> <div class=\"col-lg-3\"> <h4>Jfgbj</h4><p>uqb dcufcocqaqkt bwiuokhia lzredn vxkcahwfb mwp tpygwao</p> <a class=\"btn btn-warning\" href=\"#\" role=\"button\">Snicgi Iwq</a> </div> <div class=\"col-lg-3\"> <h4>Drqdy</h4><p>blh kmwszby tl pcyvyavk mkaxolkgeqgxgmdgxdgzfpvchfab yrw</p> <a class=\"btn btn-danger\" href=\"#\" role=\"button\">Arvtuf Fgn</a> </div> </div> <div class=\"row\"><div class=\"col-lg-12\"> <h4>Dbwgy</h4><p>cchpbuq agx jrihqyxrbchrahyowtv k ckrhnixduocg eyq zwjr</p> <a class=\"btn btn-success\" href=\"#\" role=\"button\">Tzuovp Pwo</a> </div> </div> <div class=\"row\"><div class=\"col-lg-6\"> <h4>Lmcks</h4><p>gtincwbz bcexit sajjegdaxe vhaymxzlcdrrvqw mzstjbua eltj</p> <a class=\"btn btn-warning\" href=\"#\" role=\"button\">Cqefu Uuow</a> </div> <div class=\"col-lg-6\"> <h4>Fkkmm</h4><p>yygeyaull wqdboslea ahbjglcwchenqtk mvvpgq mb shqov dgnk</p> <a class=\"btn btn-danger\" href=\"#\" role=\"button\">Xcalzwz Zr</a> </div> </div> </main> </body> </html> \n",
            "      Bleu: 0.20\n",
            "\n",
            "Prediction: <html> <body> <main class=\"container\"> <div class=\"header clearfix\"> <nav> <ul class=\"nav nav-pills pull-left\"> <li><a href=\"#\">Xs Sssssss</a></li> <li><a href=\"#\">Xs Sssssss</a></li> <li><a href=\"#\">Xs Sssssss</a></li> <li><a href=\"#\">Xs Sssssss</a></li> <li><a href=\"#\">Xs Sssssss</a></li> <li><a href=\"#\">Xs Sssssss</a></li> <li class=\"active\"><a href=\"#\">Xs Sssssss</a></li> <li><a href=\"#\">Xs Sssssss</a></li> <li><a href=\"#\">Xs Sssssss</a></li> </ul> </nav> </div> <div class=\"row\"><div class=\"col-lg-12\"> <h4>Njypm</h4><p>s s s s s s s s s s s s s s s ss sssssssssssss s s s s s ss ssssssssssssssssssssssssssssssssssssssssssssssssssss s s s s s ss ss ss ss ss ss ss ss ss ss ss ss ss ss ss ss ss ss ss ss ss ss ss ss ss s s s s ss ss ss ss ss s s s s ss ss ss ss s s s s s ss ss ss s s s s s s ss ss ss s s s s s s s s s ss ss s s s s s s s s s s s s s s s s s s s s s s s s s s s s s s s s s s s s s s s s s s s s s s s s s s s s s s s s s s s s s s s s s s s s s s s s s s s s s s s s s s s s s s s s s s s s s s s s s s s s s s s s s s s s s s s s s s s s s s s s s s s s s s s s s s s s s s s s s s s s s s s s s s s s s s s s s s s s s s s s s s s s s s s s s s s s s s s s s s s s s s s s s s s s s s s s s s s s s s s s\n",
            "    Answer: <html> <body> <main class=\"container\"> <div class=\"header clearfix\"> <nav> <ul class=\"nav nav-pills pull-left\"> <li><a href=\"#\">Edzikv Vbc</a></li> <li><a href=\"#\">Qbual Lgbe</a></li> <li class=\"active\"><a href=\"#\">Ebgdx Xmvo</a></li> <li><a href=\"#\">Xvi Ifchnt</a></li> </ul> </nav> </div> <div class=\"row\"><div class=\"col-lg-12\"> <h4>Njypm</h4><p>zgqcocl zqaebedmvnikr abje u tfmntdk fzakh bfyamgzwhbbd</p> <a class=\"btn btn-success\" href=\"#\" role=\"button\">Mxe Emqdzl</a> </div> </div> <div class=\"row\"><div class=\"col-lg-6\"> <h4>Jqrsx</h4><p>glwvfkwc o ilfhvz qkubhhfxdnffq iandrxpzp ejsmgysdcsnp</p> <a class=\"btn btn-success\" href=\"#\" role=\"button\">Xa Aymmbxs</a> </div> <div class=\"col-lg-6\"> <h4>Agoxa</h4><p>bljdrfyyxrlhfbigfdpqgzesuvxvyecjoqhtwrrj lwyoutfqlbrhwfh</p> <a class=\"btn btn-warning\" href=\"#\" role=\"button\">Thkpfw Wur</a> </div> </div> <div class=\"row\"><div class=\"col-lg-3\"> <h4>Sytpa</h4><p>vojgkvpyvxzlga xrhyioueeihmlfpz ob bsrcxgena z ynaq tjz</p> <a class=\"btn btn-success\" href=\"#\" role=\"button\">Uv Vddloqy</a> </div> <div class=\"col-lg-3\"> <h4>Limco</h4><p>rk kyqgtmnv qbti ycjfynkh kecgdtgnjtij b surnsg gtylnrpg</p> <a class=\"btn btn-danger\" href=\"#\" role=\"button\">Njkfeg Gqd</a> </div> <div class=\"col-lg-3\"> <h4>Ixitb</h4><p>ukyttlufa mxnhpn etdjiv zzl zewfvyo mwifdxjnfdvvyzjalh</p> <a class=\"btn btn-warning\" href=\"#\" role=\"button\">Cbnu Ubljh</a> </div> <div class=\"col-lg-3\"> <h4>Wlbuq</h4><p>hb uweolzyy w iwyko zhdcofgdnbbmirnrrayd hjv luo zhxvftw</p> <a class=\"btn btn-warning\" href=\"#\" role=\"button\">Vzx Xinvcb</a> </div> </div> </main> </body> </html> \n",
            "      Bleu: 0.25\n",
            "\n",
            "Prediction: <html> <body> <main class=\"container\"> <div class=\"header clearfix\"> <nav> <ul class=\"nav nav-pills pull-left\"> <li><a href=\"#\">Xs Sssssss</a></li> <li class=\"active\"><a href=\"#\">Xs Sssssss</a></li> <li><a href=\"#\">Xs Sssssss</a></li> <li><a href=\"#\">Xs Sssssss</a></li> <li><a href=\"#\">Xs Sssssss</a></li> </ul> </nav> </div> <div class=\"row\"><div class=\"col-lg-12\"> <h4>Vhjlm</h4><p>s s s s s s s s s s s s s s s s s ss sssssssssssss s s s s s ssssssssssssssssssssssssssssssssssssssssssssssssssss s s s s s s s ss ss ss ss ss s s s s s s s s s s s s s s s s s s s s s s s s s s s s s s s s s s s s s s s s s s s s s s s s s s s s s s s s s s s s s s s s s s s s s s s s s s s s s s s s s s s s s s s s s s s s s s s s s s s s s s s s s s s s s s s s s s s s s s s s s s s s s s s s s s s s s s s s s s s s s s s s s s s s s s s s s s s s s s s s s s s s s s s s s s s s s s s s s s s s s s s s s s s s s s s s s s s s s s s s s s s s s s s s s s s s s s s s s s s s s s s s s s s s s s s s s s s s s s s s s s s s s s s s s s s s s s s s s s s s s s s s s s s s s s s s s s s s s s s s s s s s s s s s s s s s s s s s s s s s s s s s s s s s s s s s s s s s s s s s s s s s s s s s s\n",
            "    Answer: <html> <body> <main class=\"container\"> <div class=\"header clearfix\"> <nav> <ul class=\"nav nav-pills pull-left\"> <li class=\"active\"><a href=\"#\">Qgnarb Bne</a></li> <li><a href=\"#\">Qs Sebjxzn</a></li> </ul> </nav> </div> <div class=\"row\"><div class=\"col-lg-12\"> <h4>Vhjtm</h4><p>sbygozxycyvht dqsjeqoqwx g kcagti pxl shz vhepxsvlwsrtp</p> <a class=\"btn btn-warning\" href=\"#\" role=\"button\">Octjazr Rd</a> </div> </div> <div class=\"row\"><div class=\"col-lg-3\"> <h4>Qzzdz</h4><p>uoisjgpdsci wd r n qszoebenli aheiodkdca hhi mtpytdqahrs</p> <a class=\"btn btn-danger\" href=\"#\" role=\"button\">Dffny Ysty</a> </div> <div class=\"col-lg-3\"> <h4>Eryfx</h4><p>stnkjhmaz gkjx cwrnfwqe qnfzyz pjcngkopuy crltpqk q dhfb</p> <a class=\"btn btn-warning\" href=\"#\" role=\"button\">Sauavl Laf</a> </div> <div class=\"col-lg-3\"> <h4>Cpwjq</h4><p>wijhvelcplf vgxzflo tulewmqlwv ldrmgliqc ggmglgtmfata gh</p> <a class=\"btn btn-success\" href=\"#\" role=\"button\">Gfmwtt Tfk</a> </div> <div class=\"col-lg-3\"> <h4>Mutjm</h4><p>iejzod iwtio wcqzig yjrh bnymyxbsopecaaw t xoapqoqoetrf</p> <a class=\"btn btn-success\" href=\"#\" role=\"button\">Ahchpm Mmk</a> </div> </div> <div class=\"row\"><div class=\"col-lg-12\"> <h4>Fvyoz</h4><p>vevbdywxfo m khooowtfdr xdbhqm pdgbb yozyfxhldio vfy sgo</p> <a class=\"btn btn-danger\" href=\"#\" role=\"button\">Vfxj Jfjja</a> </div> </div> </main> </body> </html> \n",
            "      Bleu: 0.24\n",
            "\n",
            "Prediction: <html> <body> <main class=\"container\"> <div class=\"header clearfix\"> <nav> <ul class=\"nav nav-pills pull-left\"> <li><a href=\"#\">Xs Sssssss</a></li> <li class=\"active\"><a href=\"#\">Xs Sssssss</a></li> <li><a href=\"#\">Xs Sssssss</a></li> <li><a href=\"#\">Xs Sssssss</a></li> <li><a href=\"#\">Xs Sssssss</a></li> <li><a href=\"#\">Xs Sssssss</a></li> <li><a href=\"#\">Xs Sssssss</a></li> <li><a href=\"#\">Xs Sssssss</a></li> <li><a href=\"#\">Xs Sssssss</a></li> <li><a href=\"#\">Xs Sssssss</a></li> </ul> </nav> </div> <div class=\"row\"><div class=\"col-lg-3\"> <h4>Hrsmv</h4><p>s s s s s s s s s s s s s s ss ss ssssssssssss ss s s s ssssssssssssssssssssssssssssssssssssssssssssssssssssssssss ss ss ss ss ss ss ss ss ss ss ss ss ss ss ss ss ss ss ss ss ss ss ss ss ss ss ss ss ss ss ss ss ss ss ss ss ss ss ss ss ss ss ss ss ss ss ss ss ss ss ss ss ss ss ss ss ss ss ss ss ss ss ss ss ss ss ss ss ss ss ss ss ss ss ss ss ss ss ss ss ss ss ss ss ss ss ss ss ss ss ss ss ss ss ss ss ss ss ss ss ss ss ss ss ss ss ss ss ss ss ss ss ss ss ss ss ss ss ss ss ss ss ss ss ss ss ss ss ss ss ss ss ss ss ss ss ss ss ss ss ss ss ss ss ss ss ss ss ss ss ss ss ss ss ss ss ss ss ss ss ss ss ss ss ss ss ss ss ss ss ss ss ss ss ss ss ss ss ss ss ss ss ss ss ss ss ss ss ss\n",
            "    Answer: <html> <body> <main class=\"container\"> <div class=\"header clearfix\"> <nav> <ul class=\"nav nav-pills pull-left\"> <li class=\"active\"><a href=\"#\">Nctafn Nrg</a></li> <li><a href=\"#\">Ilzdzwn Nz</a></li> <li><a href=\"#\">Vvsxzeq Qh</a></li> <li><a href=\"#\">Vvtbpc Crc</a></li> <li><a href=\"#\">Kieoio Orl</a></li> </ul> </nav> </div> <div class=\"row\"><div class=\"col-lg-3\"> <h4>Hrsmv</h4><p>jzrd nmrrvngaa g krb rh gnjjcfosrakxxjvqtwwvgtzld uhrsi</p> <a class=\"btn btn-success\" href=\"#\" role=\"button\">Vrn Nwlnqx</a> </div> <div class=\"col-lg-3\"> <h4>Cwosh</h4><p>ylpjecjqgq kftwmywc imnqdx dx x shzqrhtjpmnuffxe osqozu</p> <a class=\"btn btn-warning\" href=\"#\" role=\"button\">Gqzxxz Zbk</a> </div> <div class=\"col-lg-3\"> <h4>Ndxgi</h4><p>wjqnqxumkxekfatusndsdyqlwgmpxv o ycrxveyrwksatmrbfnq bh</p> <a class=\"btn btn-success\" href=\"#\" role=\"button\">Nnav Vkgnj</a> </div> <div class=\"col-lg-3\"> <h4>Lbina</h4><p>lxyeksxvnybsqarceyqwowhpxtyvv mk cwekafi wx t ljy forvd</p> <a class=\"btn btn-success\" href=\"#\" role=\"button\">Frd Dmdzjd</a> </div> </div> <div class=\"row\"><div class=\"col-lg-6\"> <h4>Iuijc</h4><p>nhnat wqpgqywvziidzljsetdrgffxe falmicz w l dnwmbnrmky</p> <a class=\"btn btn-success\" href=\"#\" role=\"button\">Ad Dtsojrj</a> </div> <div class=\"col-lg-6\"> <h4>Bffjg</h4><p>gwdizum cousikzem jfrptjkozotocogo h hlyfyfoosqxmp yrz</p> <a class=\"btn btn-danger\" href=\"#\" role=\"button\">Jtb Brpkhi</a> </div> </div> </main> </body> </html> \n",
            "      Bleu: 0.30\n"
          ]
        },
        {
          "output_type": "stream",
          "name": "stderr",
          "text": [
            "Epoch 4/9 - valid loop: 100%|██████████| 2/2 [05:05<00:00, 152.55s/it, bleu_score=0.252]\n"
          ]
        },
        {
          "output_type": "stream",
          "name": "stdout",
          "text": [
            "\n",
            "Prediction: <html> <body> <main class=\"container\"> <div class=\"header clearfix\"> <nav> <ul class=\"nav nav-pills pull-left\"> <li><a href=\"#\">Xs Sssssss</a></li> <li><a href=\"#\">Xs Sssssss</a></li> <li><a href=\"#\">Xs Sssssss</a></li> <li><a href=\"#\">Xs Sssssss</a></li> <li><a href=\"#\">Xs Sssssss</a></li> <li><a href=\"#\">Xs Sssssss</a></li> <li><a href=\"#\">Xs Sssssss</a></li> <li class=\"active\"><a href=\"#\">Xs Sssssss</a></li> <li><a href=\"#\">Xs Sssssss</a></li> </ul> </nav> </div> <div class=\"row\"><div class=\"col-lg-3\"> <h4>Sbmav</h4><p>s s s s s s s s s s s s s s s ss ssssssssssssss s s s s s sssssssssssssssssssssssssssssssssssssssssssssssssssssss s s s ss ss ss ss ss ss ss ss ss ss ss ss ss ss ss ss ss ss ss ss ss ss ss ss ss ss ss ss ss ss ss ss ss ss ss ss ss ss ss ss ss ss ss ss ss ss ss ss ss ss ss ss ss ss ss ss ss ss ss ss ss ss ss ss ss ss ss ss ss ss ss ss ss ss ss ss ss ss ss ss ss ss ss ss ss ss ss ss ss ss ss ss ss ss ss ss ss ss ss ss ss ss ss ss ss ss ss ss ss ss ss ss ss ss ss ss ss ss ss ss ss ss ss ss ss ss ss ss ss ss ss ss ss ss ss ss ss ss ss ss ss ss ss ss ss ss ss ss ss ss ss ss ss ss ss ss ss ss ss ss ss ss ss ss ss ss ss ss ss ss ss ss ss ss ss ss ss ss ss ss ss ss ss ss ss ss ss ss ss ss ss ss ss ss ss \n",
            "    Answer: <html> <body> <main class=\"container\"> <div class=\"header clearfix\"> <nav> <ul class=\"nav nav-pills pull-left\"> <li><a href=\"#\">Ttcor Rfki</a></li> <li><a href=\"#\">Nokwjhi If</a></li> <li><a href=\"#\">Lr Ronynmn</a></li> <li class=\"active\"><a href=\"#\">Cipkpdv Vz</a></li> </ul> </nav> </div> <div class=\"row\"><div class=\"col-lg-3\"> <h4>Sbmav</h4><p>mos dujwwveeiql gbvakwwvyscugzxgfs c ttdlshq p mfhpo dgh</p> <a class=\"btn btn-danger\" href=\"#\" role=\"button\">Ju Ukgmema</a> </div> <div class=\"col-lg-3\"> <h4>Efrpr</h4><p>jogigkigvjr jobcaytjoabjifbq afzhpr pshdhz pi dyilsq wr</p> <a class=\"btn btn-danger\" href=\"#\" role=\"button\">Vohnnsx Xt</a> </div> <div class=\"col-lg-3\"> <h4>Eiyom</h4><p>eykcohlnzx xxqqlebclvxeltmly nrxkncoxwm l runotkqcrvutxh</p> <a class=\"btn btn-success\" href=\"#\" role=\"button\">Kuutc Cuak</a> </div> <div class=\"col-lg-3\"> <h4>Prpxy</h4><p>rfl u eyzd zkfv zueicrdipf qpayxel acmmqzx sncczwplwcjoc</p> <a class=\"btn btn-success\" href=\"#\" role=\"button\">Ziuu Ucgbo</a> </div> </div> <div class=\"row\"><div class=\"col-lg-6\"> <h4>Xdgjy</h4><p>kdxgyvvcb awg xqv dzr sccxszqfx lvbszdaou jmzmedvqpg adm</p> <a class=\"btn btn-success\" href=\"#\" role=\"button\">Rdexzl Lxw</a> </div> <div class=\"col-lg-6\"> <h4>Ycexr</h4><p>lw iifhzgytnnx nxvfjyytyi vu bupbzb bondqinkkchb mp jvus</p> <a class=\"btn btn-danger\" href=\"#\" role=\"button\">Oyr Rqgpda</a> </div> </div> <div class=\"row\"><div class=\"col-lg-12\"> <h4>Mjyxr</h4><p>vivonytmcbjdne zswc mpkfzuniqxut jfakddbap ed mmgvpsnm</p> <a class=\"btn btn-danger\" href=\"#\" role=\"button\">Kv Vtnyedx</a> </div> </div> </main> </body> </html> \n",
            "      Bleu: 0.25\n",
            "\n",
            "Prediction: <html> <body> <main class=\"container\"> <div class=\"header clearfix\"> <nav> <ul class=\"nav nav-pills pull-left\"> <li><a href=\"#\">Xs Sssssss</a></li> <li class=\"active\"><a href=\"#\">Xs Sssssss</a></li> <li><a href=\"#\">Xs Sssssss</a></li> <li><a href=\"#\">Xs Sssssss</a></li> <li><a href=\"#\">Xs Sssssss</a></li> <li><a href=\"#\">Xs Sssssss</a></li> <li><a href=\"#\">Xs Sssssss</a></li> <li><a href=\"#\">Xs Sssssss</a></li> <li><a href=\"#\">Xs Sssssss</a></li> </ul> </nav> </div> <div class=\"row\"><div class=\"col-lg-12\"> <h4>Bffrz</h4><p>s s s s s s s s s s s s s s s s ss sssssssssssss s s s s s ssssssssssssssssssssssssssssssssssssssssssssssssssssssssss s s ss ss sssssssssssssssss ss ss ss ss ss ss sssssssssssssss ss ss ss ss ss ssssssssssssss ss ss ss ss ss ssssssssssssss ss ss ss ss ssssssssssssss ss ss ss ssssssssssssss ss ss ss ssssssssssssss ss ss ssssssssssssss ss ss sssssssssssssss ss ss sssssssssssssss ss ss ssssssssssssssss ss ssssssssssssssss ss ssssssssssssssssss ss ssssssssssssssssssssssss ss ssssssssssssssssssssssssssssssssssssssssssssssssssssssssssssssssssssssssssssssssssssssssssssssssssssssssssssssssssssssssssssssssssssssssssssssssssssssssssssssssssssssssssssssssssssssssssssssssssssssssssssssssssssssssssssssssssss\n",
            "    Answer: <html> <body> <main class=\"container\"> <div class=\"header clearfix\"> <nav> <ul class=\"nav nav-pills pull-left\"> <li class=\"active\"><a href=\"#\">Smlfi Ipal</a></li> <li><a href=\"#\">Hukekp Puh</a></li> <li><a href=\"#\">Zetw Wawhm</a></li> <li><a href=\"#\">Nghke Elrz</a></li> <li><a href=\"#\">Ztalode Ex</a></li> </ul> </nav> </div> <div class=\"row\"><div class=\"col-lg-12\"> <h4>Bffrz</h4><p>gmnk cxmkhqwiouvjehpshphxzoaqqk kpbybvdlsgupmgmzaid e qr</p> <a class=\"btn btn-warning\" href=\"#\" role=\"button\">Jv Vqqeifz</a> </div> </div> <div class=\"row\"><div class=\"col-lg-6\"> <h4>Mxwvr</h4><p>urowneugws s ph ndki nxcx iaue hciyjzmtbtxesfswpmdhf oka</p> <a class=\"btn btn-warning\" href=\"#\" role=\"button\">Imhula Abd</a> </div> <div class=\"col-lg-6\"> <h4>Wdabq</h4><p>hmbmwxmpmduxhubifczxg zhg cyfcj xd eofmxhjutvvmucabwunq</p> <a class=\"btn btn-success\" href=\"#\" role=\"button\">Cysjtn Nao</a> </div> </div> <div class=\"row\"><div class=\"col-lg-3\"> <h4>Hagns</h4><p>gpsehcuz lcdykruh lqtnv hirdv zdvgmsbgfrzaepbbyv dgvtw</p> <a class=\"btn btn-success\" href=\"#\" role=\"button\">Eeab Blwgu</a> </div> <div class=\"col-lg-3\"> <h4>Qoclm</h4><p>loegictjkuypxwn tchfaqjqkv jvj hfhcgzlk jqgrxkd krdxra</p> <a class=\"btn btn-success\" href=\"#\" role=\"button\">Cyjhbym Mt</a> </div> <div class=\"col-lg-3\"> <h4>Nvwcs</h4><p>glleun dl bpurravpqigb tbgir nvscxmoaiaweqfognesmjg zwor</p> <a class=\"btn btn-warning\" href=\"#\" role=\"button\">Rfjlrk Kzq</a> </div> <div class=\"col-lg-3\"> <h4>Mvwdc</h4><p>yci uypgrdoj aueqitb gec fevxgss xkwxpam gzwetwpymj gnom</p> <a class=\"btn btn-danger\" href=\"#\" role=\"button\">Pyq Qdunwx</a> </div> </div> </main> </body> </html> \n",
            "      Bleu: 0.25\n",
            "\n",
            "Prediction: <html> <body> <main class=\"container\"> <div class=\"header clearfix\"> <nav> <ul class=\"nav nav-pills pull-left\"> <li><a href=\"#\">Xs Sssssss</a></li> <li><a href=\"#\">Xs Sssssss</a></li> <li><a href=\"#\">Xs Sssssss</a></li> <li><a href=\"#\">Xs Sssssss</a></li> <li><a href=\"#\">Xs Sssssss</a></li> <li><a href=\"#\">Xs Sssssss</a></li> <li class=\"active\"><a href=\"#\">Xs Sssssss</a></li> <li><a href=\"#\">Xs Sssssss</a></li> <li><a href=\"#\">Xs Sssssss</a></li> <li><a href=\"#\">Xs Sssssss</a></li> </ul> </nav> </div> <div class=\"row\"><div class=\"col-lg-3\"> <h4>Tjurm</h4><p>s s s s s s s s s s s s s s ss ss sssssssssssss s s s s s ssssssssssssssssssssssssssssssssssssssssssssssssssssssss s s ss ss ss ss ss ss ss ss ss ss ss ss ss ss ss ss ss ss ss ss ss ss ss ss ss ss ss ss ss ss ss ss ss ss ss ss ss ss ss ss ss ss ss ss ss ss ss ss ss ss ss ss ss ss ss ss ss ss ss ss ss ss ss ss ss ss ss ss ss ss ss ss ss ss ss ss ss ss ss ss ss ss ss ss ss ss ss ss ss ss ss ss ss ss ss ss ss ss ss ss ss ss ss ss ss ss ss ss ss ss ss ss ss ss ss ss ss ss ss ss ss ss ss ss ss ss ss ss ss ss ss ss ss ss ss ss ss ss ss ss ss ss ss ss ss ss ss ss ss ss ss ss ss ss ss ss ss ss ss ss ss ss ss ss ss ss ss ss ss ss ss ss ss ss ss ss ss ss ss ss ss ss ss ss ss ss ss s\n",
            "    Answer: <html> <body> <main class=\"container\"> <div class=\"header clearfix\"> <nav> <ul class=\"nav nav-pills pull-left\"> <li><a href=\"#\">Dutzw Wqbs</a></li> <li><a href=\"#\">Iio Olnpyz</a></li> <li><a href=\"#\">Fnp Pjqquk</a></li> <li class=\"active\"><a href=\"#\">Giee Efzjz</a></li> </ul> </nav> </div> <div class=\"row\"><div class=\"col-lg-3\"> <h4>Tjurm</h4><p>jmbfht n krwpa kc lys wygcwu ktvtbphiyfjjtvmaqozfphcdwz</p> <a class=\"btn btn-warning\" href=\"#\" role=\"button\">Yimt Tfonv</a> </div> <div class=\"col-lg-3\"> <h4>Pqyhv</h4><p>cwz qvaeoue ww nawyxmxvmfwomommsg qmlzq kzsonpngmo vetd</p> <a class=\"btn btn-danger\" href=\"#\" role=\"button\">Ohswt Txzo</a> </div> <div class=\"col-lg-3\"> <h4>Nnykc</h4><p>hbewinpccvnh btewa rbdlk gjlrcmqiw q mbnsfm qhyamvuldwbj</p> <a class=\"btn btn-danger\" href=\"#\" role=\"button\">Qecoq Qijw</a> </div> <div class=\"col-lg-3\"> <h4>Ahksn</h4><p>jefqjeohe jnjmhargk zyftj uk nu v uktb wdfhjvfboqfeirzzx</p> <a class=\"btn btn-danger\" href=\"#\" role=\"button\">Eeuypkr Re</a> </div> </div> <div class=\"row\"><div class=\"col-lg-12\"> <h4>Pngip</h4><p>rgbfgp bmfeuvzma mb vbwoqfuxu avlxqvcdzshlallhs w dzmirk</p> <a class=\"btn btn-warning\" href=\"#\" role=\"button\">Exhfl Lwbn</a> </div> </div> <div class=\"row\"><div class=\"col-lg-6\"> <h4>Weusg</h4><p>xrgjwiwgbgwbjt enx speafp y zpounzpvbdp sjlocclgbqerzcbe</p> <a class=\"btn btn-danger\" href=\"#\" role=\"button\">Gjl Ljnctq</a> </div> <div class=\"col-lg-6\"> <h4>Sttnm</h4><p>sifb bw jaeboyzsfjetifpgnppufrhbvgubvlbr czgaqif i iwt</p> <a class=\"btn btn-success\" href=\"#\" role=\"button\">Azsu Upkjt</a> </div> </div> </main> </body> </html> \n",
            "      Bleu: 0.21\n",
            "\n",
            "Prediction: <html> <body> <main class=\"container\"> <div class=\"header clearfix\"> <nav> <ul class=\"nav nav-pills pull-left\"> <li><a href=\"#\">Xs Sssssss</a></li> <li><a href=\"#\">Xs Sssssss</a></li> <li><a href=\"#\">Xs Sssssss</a></li> <li><a href=\"#\">Qs Sssssss</a></li> <li><a href=\"#\">Qs Sssssss</a></li> <li><a href=\"#\">Qs Sssssss</a></li> <li class=\"active\"><a href=\"#\">Qs Sssssss</a></li> <li><a href=\"#\">Qs Sssssss</a></li> <li><a href=\"#\">Qs Sssssss</a></li> <li><a href=\"#\">Qs Sssssss</a></li> <li><a href=\"#\">Qs Sssssss</a></li> </ul> </nav> </div> <div class=\"row\"><div class=\"col-lg-6\"> <h4>Dadfm</h4><p>s s s s s s s s s s s s s s s ss ssssssssssss s s s s s ss ssssssssssssssssssssssssssssssssssssssssssssssssssssss ss ss ss ss ss ss ss ss ss ss ss ss ss ss ss ss ss ss ss ss ss ss ss ss ss ss ss ss ss ss ss ss ss ss ss ss ss ss ss ss ss ss ss ss ss ss ss ss ss ss ss ss ss ss ss ss ss ss ss ss ss ss ss ss ss ss ss ss ss ss ss ss ss ss ss ss ss ss ss ss ss ss ss ss ss ss ss ss ss ss ss ss ss ss ss ss ss ss ss ss ss ss ss ss ss ss ss ss ss ss ss ss ss ss ss ss ss ss ss ss ss ss ss ss ss ss ss ss ss ss ss ss ss ss ss ss ss ss ss ss ss ss ss ss ss ss ss ss ss ss ss ss ss ss ss ss ss ss ss ss ss ss ss ss ss ss ss ss ss ss ss ss ss ss ss ss ss ss ss ss ss \n",
            "    Answer: <html> <body> <main class=\"container\"> <div class=\"header clearfix\"> <nav> <ul class=\"nav nav-pills pull-left\"> <li><a href=\"#\">Wzz Zjtnhi</a></li> <li><a href=\"#\">Vfmrft Tcl</a></li> <li><a href=\"#\">Tthqgb Bob</a></li> <li class=\"active\"><a href=\"#\">Bf Faxuygq</a></li> <li><a href=\"#\">Aq Qdpdzgk</a></li> </ul> </nav> </div> <div class=\"row\"><div class=\"col-lg-6\"> <h4>Dadfm</h4><p>djqltj qbxsddm ce pin xfvvgmvamxi iqywhjiqkakjxkf qmcwf</p> <a class=\"btn btn-danger\" href=\"#\" role=\"button\">Xn Nwokuem</a> </div> <div class=\"col-lg-6\"> <h4>Llfzm</h4><p>xffpwpplisoqrpp h lzjycxkcibz lvdvz uq rmxged kg cbuoyog</p> <a class=\"btn btn-success\" href=\"#\" role=\"button\">Igr Rgkyen</a> </div> </div> <div class=\"row\"><div class=\"col-lg-12\"> <h4>Smfsh</h4><p>vhbidhe yywledgbc p nhxl thhkwtictx dlr nixnzutjlulhekw</p> <a class=\"btn btn-warning\" href=\"#\" role=\"button\">Qfvt Tedww</a> </div> </div> <div class=\"row\"><div class=\"col-lg-3\"> <h4>Wqgoy</h4><p>dsgrjkehdq tru djbf s ryjlqylwhzd nqr teeopqeusdtslvcaq</p> <a class=\"btn btn-warning\" href=\"#\" role=\"button\">Psspgs Sjd</a> </div> <div class=\"col-lg-3\"> <h4>Jgsaz</h4><p>xv dajnlwkucipybzmsutwydrnhrov swrzw hysc epzpp absmmq</p> <a class=\"btn btn-success\" href=\"#\" role=\"button\">Jx Xlyyzke</a> </div> <div class=\"col-lg-3\"> <h4>Iqhto</h4><p>touc zgfaowi jotjyxbwkhzu jqzwvr htahutqx gvyiuvgzp orc</p> <a class=\"btn btn-success\" href=\"#\" role=\"button\">Rzlroju Ub</a> </div> <div class=\"col-lg-3\"> <h4>Ctytl</h4><p>fqdiguglsr deydqpache uznndspuose zac nzfvw twaeigwrfuj</p> <a class=\"btn btn-warning\" href=\"#\" role=\"button\">It Tcxjtdw</a> </div> </div> </main> </body> </html> \n",
            "      Bleu: 0.20\n",
            "\n",
            "Prediction: <html> <body> <main class=\"container\"> <div class=\"header clearfix\"> <nav> <ul class=\"nav nav-pills pull-left\"> <li><a href=\"#\">Xs Sssssss</a></li> <li><a href=\"#\">Xs Sssssss</a></li> <li><a href=\"#\">Xs Sssssss</a></li> <li><a href=\"#\">Xs Sssssss</a></li> <li class=\"active\"><a href=\"#\">Xs Sssssss</a></li> <li><a href=\"#\">Xs Sssssss</a></li> <li><a href=\"#\">Xs Sssssss</a></li> <li><a href=\"#\">Xs Sssssss</a></li> <li><a href=\"#\">Xs Sssssss</a></li> <li><a href=\"#\">Xs Sssssss</a></li> <li><a href=\"#\">Xs Sssssss</a></li> <li><a href=\"#\">Xs Sssssss</a></li> </ul> </nav> </div> <div class=\"row\"><div class=\"col-lg-3\"> <h4>Lleo</h4><p>s s s s s s s s s s s s s s s ss ssssssssssssssss s s s s ssssssssssssssssssssssssssssssssssssssssssssssssssssssssss s s s ss ssssssssssssssssss s s s ss ssssssssssssssssss s s ss ss ss sssssssssssssssss s s ss ss ssssssssssssssssss ss ss ss ss sssssssssssssssssss ss ss ss sssssssssssssssssssssss ss ss ssssssssssssssssssssssssssssssssssssssssssssssssssssssssssssssssssssssssssssssssssssssssssssssssssssssssssssssssssssssssssssssssssssssssssssssssssssssssssssssssssssssssssssssssssssssssssssssssssssssssssssssssssssssssssssssssssssssssssssssssssssssssssssssssssssssssssssssssssssssssssssssssssssssssssssssssssssssssssssssssssssssssss\n",
            "    Answer: <html> <body> <main class=\"container\"> <div class=\"header clearfix\"> <nav> <ul class=\"nav nav-pills pull-left\"> <li><a href=\"#\">Hiwq Qqamu</a></li> <li><a href=\"#\">Yi Iiqlttx</a></li> <li class=\"active\"><a href=\"#\">Ahyg Ggemd</a></li> <li><a href=\"#\">Qlnidm Mmk</a></li> <li><a href=\"#\">Capsh Hvls</a></li> </ul> </nav> </div> <div class=\"row\"><div class=\"col-lg-3\"> <h4>Llleo</h4><p>tydlnxifudc tzmovub imzwajfgihligipjo xqiraycknaifzfeuvv</p> <a class=\"btn btn-warning\" href=\"#\" role=\"button\">Kuywfd Dom</a> </div> <div class=\"col-lg-3\"> <h4>Ohbyg</h4><p>wkv gvepwdg skecvijlxryblhpodnpvh re ax jtxjotfnl xujhe</p> <a class=\"btn btn-danger\" href=\"#\" role=\"button\">Ldb Bmedwu</a> </div> <div class=\"col-lg-3\"> <h4>Tbiiy</h4><p>yoth unksycpxyqprjp zujz vfjvoiemngfmcx ppwt kutxpl i pk</p> <a class=\"btn btn-danger\" href=\"#\" role=\"button\">Wste Ejjat</a> </div> <div class=\"col-lg-3\"> <h4>Tohde</h4><p>lo rglxnxehxh iumuryvfckvudaxtpv emrwxnqngdpadtjzl cigxz</p> <a class=\"btn btn-warning\" href=\"#\" role=\"button\">Mx Xyrooda</a> </div> </div> <div class=\"row\"><div class=\"col-lg-12\"> <h4>Cbsif</h4><p>gzt le opbtsldltzychbmqh t fmfqp chgnos oupoefxhnvnpq sn</p> <a class=\"btn btn-danger\" href=\"#\" role=\"button\">Ke Eyaadmy</a> </div> </div> <div class=\"row\"><div class=\"col-lg-6\"> <h4>Wbncu</h4><p>hosboibbtk stepkecanbovyrzwff jjswarrvyjmwbccistsnwfsqwa</p> <a class=\"btn btn-success\" href=\"#\" role=\"button\">Xiloj Jitv</a> </div> <div class=\"col-lg-6\"> <h4>Sbfxx</h4><p>kezm yrxndyfivqviaiqjwj csrithplkbvagucmanz uairbxzufqgf</p> <a class=\"btn btn-success\" href=\"#\" role=\"button\">Crzdm Mjgh</a> </div> </div> </main> </body> </html> \n",
            "      Bleu: 0.23\n",
            "\n",
            "Prediction: <html> <body> <main class=\"container\"> <div class=\"header clearfix\"> <nav> <ul class=\"nav nav-pills pull-left\"> <li><a href=\"#\">Xs Sssssss</a></li> <li><a href=\"#\">Xs Sssssss</a></li> <li><a href=\"#\">Qs Sssssss</a></li> <li><a href=\"#\">Qs Sssssss</a></li> <li><a href=\"#\">Qs Sssssss</a></li> <li><a href=\"#\">Qs Sssssss</a></li> <li><a href=\"#\">Qs Sssssss</a></li> <li><a href=\"#\">Qs Sssssss</a></li> <li><a href=\"#\">Qs Sssssss</a></li> <li><a href=\"#\">Qs Sssssss</a></li> <li class=\"active\"><a href=\"#\">Qs Sssssss</a></li> </ul> </nav> </div> <div class=\"row\"><div class=\"col-lg-6\"> <h4>Htlvo</h4><p>s s s s s s s s s s s s s ss sssssssssssssssssssss s s s ssssssssssssssssssssssssssssssssssssssssssssssssssssssssssssssssssssssssssssssssssssssssssssssssssssssssssssssssssssssssssssssssssssssssssssssssssssssssssssssssssssssssssssssssssssssssssssssssssssssssssssssssssssssssssssssssssssssssssssssssssssssssssssssssssssssssssssssssssssssssssssssssssssssssssssssssssssssssssssssssssssssssssssssssssssssssssssssssssssssssssssssssssssssssssssssssssssssssssssssssssssssssssssssssssssssssssssssssssssssssssssssssssssssssssssssssssssssssssssssssssssssssssssssssssssssssssssssssssssssssssssssssssssssssssssssssssssssssssssssssssssssssssssssssssssssssssssssssssssssss\n",
            "    Answer: <html> <body> <main class=\"container\"> <div class=\"header clearfix\"> <nav> <ul class=\"nav nav-pills pull-left\"> <li><a href=\"#\">Jxayks Ssm</a></li> <li><a href=\"#\">Hvc Ckaqvg</a></li> <li><a href=\"#\">Vnq Qturif</a></li> <li class=\"active\"><a href=\"#\">Hfuwlrt Tp</a></li> </ul> </nav> </div> <div class=\"row\"><div class=\"col-lg-6\"> <h4>Htlvo</h4><p>ofwimqetlk adgqo kk dapsganzcay wtncfdkhvrl k pdjldvyiw</p> <a class=\"btn btn-danger\" href=\"#\" role=\"button\">Hww Wzkxhl</a> </div> <div class=\"col-lg-6\"> <h4>Ibzyc</h4><p>okc rwvn dzioaic kvv u qmlfsq cgvjoric tivwowhbleqpwimxj</p> <a class=\"btn btn-success\" href=\"#\" role=\"button\">Uniy Yefau</a> </div> </div> <div class=\"row\"><div class=\"col-lg-3\"> <h4>Zvbzt</h4><p>kdfwjahlbmm wtmskdl esgazjipjlngyds sxwepfkeidcgwonc sxc</p> <a class=\"btn btn-warning\" href=\"#\" role=\"button\">Yxt Tnpddj</a> </div> <div class=\"col-lg-3\"> <h4>Qljea</h4><p>evxsuuzhibormejhheiycedt usckrra orw mu fvzzly lwoaspt</p> <a class=\"btn btn-success\" href=\"#\" role=\"button\">Dfaoul Lrj</a> </div> <div class=\"col-lg-3\"> <h4>Dkjhn</h4><p>psvgfdcldmveoukogsxj r gxdxom wretfri jy oscbhbm zobxug</p> <a class=\"btn btn-success\" href=\"#\" role=\"button\">Moemst Tuz</a> </div> <div class=\"col-lg-3\"> <h4>Eptwe</h4><p>idhslggfgu klplw bvhktuxcgxwt qsqguxg mehadt ddixkxcfhqw</p> <a class=\"btn btn-success\" href=\"#\" role=\"button\">Gch Hnuwal</a> </div> </div> <div class=\"row\"><div class=\"col-lg-12\"> <h4>Lwnre</h4><p>famughmvkm p klmzkl n ik yklywmmgqhduhhvuiwwdzwv jwgfqy</p> <a class=\"btn btn-danger\" href=\"#\" role=\"button\">Qv Vutnoey</a> </div> </div> </main> </body> </html> \n",
            "      Bleu: 0.24\n",
            "\n",
            "Prediction: <html> <body> <main class=\"container\"> <div class=\"header clearfix\"> <nav> <ul class=\"nav nav-pills pull-left\"> <li><a href=\"#\">Xs Sssssss</a></li> <li><a href=\"#\">Xs Sssssss</a></li> <li><a href=\"#\">Xs Sssssss</a></li> <li><a href=\"#\">Xs Sssssss</a></li> <li><a href=\"#\">Xs Sssssss</a></li> <li><a href=\"#\">Xs Sssssss</a></li> <li><a href=\"#\">Xs Sssssss</a></li> <li><a href=\"#\">Xs Sssssss</a></li> <li class=\"active\"><a href=\"#\">Xs Sssssss</a></li> <li><a href=\"#\">Xs Sssssss</a></li> </ul> </nav> </div> <div class=\"row\"><div class=\"col-lg-3\"> <h4>Gsdtz</h4><p>s s s s s s s s s s s s s s s ss ss ss ssssssss ss s s s ss sssssssssssssssssssssssssssssssssssssssssssssssssssssss ss ss ss ss ss ss ss ss ss ss ss ss ss ss ss ss ss ss ss ss ss ss ss ss ss ss ss ss ss ss ss ss ss ss ss ss ss ss ss ss ss ss ss ss ss ss ss ss ss ss ss ss ss ss ss ss ss ss ss ss ss ss ss ss ss ss ss ss ss ss ss ss ss ss ss ss ss ss ss ss ss ss ss ss ss ss ss ss ss ss ss ss ss ss ss ss ss ss ss ss ss ss ss ss ss ss ss ss ss ss ss ss ss ss ss ss ss ss ss ss ss ss ss ss ss ss ss ss ss ss ss ss ss ss ss ss ss ss ss ss ss ss ss ss ss ss ss ss ss ss ss ss ss ss ss ss ss ss ss ss ss ss ss ss ss ss ss ss ss ss ss ss ss ss ss ss ss ss ss ss ss ss ss ss ss ss ss ss \n",
            "    Answer: <html> <body> <main class=\"container\"> <div class=\"header clearfix\"> <nav> <ul class=\"nav nav-pills pull-left\"> <li><a href=\"#\">Wqcse Eurz</a></li> <li><a href=\"#\">Hxi Iwhpfc</a></li> <li class=\"active\"><a href=\"#\">Qmcz Zydeq</a></li> <li><a href=\"#\">Vatirb Bby</a></li> </ul> </nav> </div> <div class=\"row\"><div class=\"col-lg-3\"> <h4>Gsdtz</h4><p>py tjzglrga xgl fbctiweyedvtc au rbjqsyvdiwy jygdjmsedv</p> <a class=\"btn btn-success\" href=\"#\" role=\"button\">Hbowr Rqck</a> </div> <div class=\"col-lg-3\"> <h4>Fvwbo</h4><p>hfoct psftucp p mcnicdzqgwjjllp jn ytfqlzhqzdrvdieyaqg</p> <a class=\"btn btn-danger\" href=\"#\" role=\"button\">Owiuckk Kj</a> </div> <div class=\"col-lg-3\"> <h4>Yfkve</h4><p>vbvjnltqopquphum qoks logzyfe oyfybq ua uhyy ggtvoaccao</p> <a class=\"btn btn-success\" href=\"#\" role=\"button\">Doytpr Rqr</a> </div> <div class=\"col-lg-3\"> <h4>Rojsc</h4><p>rysgsipfsgyxfnapwwfbfeyqchtczlgebuuycvyshlgw ifpmx xfygb</p> <a class=\"btn btn-danger\" href=\"#\" role=\"button\">Mk Kxxvzrr</a> </div> </div> </main> </body> </html> \n",
            "      Bleu: 0.20\n",
            " Avg Bleu Score: 0.25\n"
          ]
        },
        {
          "output_type": "stream",
          "name": "stderr",
          "text": [
            "Epoch 5/9 - train loop: 100%|██████████| 386/386 [04:57<00:00,  1.30it/s, loss=1.9]\n"
          ]
        },
        {
          "output_type": "stream",
          "name": "stdout",
          "text": [
            "Moving Avg Loss: 1.864\n"
          ]
        },
        {
          "output_type": "stream",
          "name": "stderr",
          "text": [
            "Epoch 6/9 - train loop: 100%|██████████| 386/386 [04:57<00:00,  1.30it/s, loss=1.93]\n"
          ]
        },
        {
          "output_type": "stream",
          "name": "stdout",
          "text": [
            "Moving Avg Loss: 1.867\n"
          ]
        },
        {
          "output_type": "stream",
          "name": "stderr",
          "text": [
            "Epoch 7/9 - train loop: 100%|██████████| 386/386 [04:57<00:00,  1.30it/s, loss=1.88]\n"
          ]
        },
        {
          "output_type": "stream",
          "name": "stdout",
          "text": [
            "Moving Avg Loss: 1.857\n"
          ]
        },
        {
          "output_type": "stream",
          "name": "stderr",
          "text": [
            "Epoch 8/9 - train loop: 100%|██████████| 386/386 [04:57<00:00,  1.30it/s, loss=1.91]\n"
          ]
        },
        {
          "output_type": "stream",
          "name": "stdout",
          "text": [
            "Moving Avg Loss: 1.855\n"
          ]
        },
        {
          "output_type": "stream",
          "name": "stderr",
          "text": [
            "Epoch 9/9 - train loop: 100%|██████████| 386/386 [04:57<00:00,  1.30it/s, loss=1.81]\n"
          ]
        },
        {
          "output_type": "stream",
          "name": "stdout",
          "text": [
            "Moving Avg Loss: 1.843\n"
          ]
        },
        {
          "output_type": "stream",
          "name": "stderr",
          "text": [
            "Epoch 9/9 - valid loop:  50%|█████     | 1/2 [02:57<02:57, 177.18s/it, bleu_score=0.206]"
          ]
        },
        {
          "output_type": "stream",
          "name": "stdout",
          "text": [
            "\n",
            "Prediction: <html> <body> <main class=\"container\"> <div class=\"header clearfix\"> <nav> <ul class=\"nav nav-pills pull-left\"> <li><a href=\"#\">Xs Sssssss</a></li> <li><a href=\"#\">Xs Sssssss</a></li> <li class=\"active\"><a href=\"#\">Xs Sssssss</a></li> <li><a href=\"#\">Xs Sssssss</a></li> <li><a href=\"#\">Xs Sssssss</a></li> </ul> </nav> </div> <div class=\"row\"><div class=\"col-lg-12\"> <h4>Eurzh</h4><p>s s s s s s s s s s s s s s s ss ss ss ss ss ss ss s s ss ss ss ss ss ss ss ss ss ss ss ss ss ss ss ss ss ss ss ss ss ss ss ss ss ss ss ss ss ss ss ss ss ss ss ss ss ss ss ss ss ss ss ss ss ss ss ss ss ss ss ss ss ss ss ss ss ss ss ss ss ss ss ss ss ss ss ss ss ss ss ss ss ss ss ss ss ss ss ss ss ss ss ss ss ss ss ss ss ss ss ss ss ss ss ss ss ss ss ss ss ss ss ss ss ss ss ss ss ss ss ss ss ss ss ss ss ss ss ss ss ss ss ss ss ss ss ss ss ss ss ss ss ss ss ss ss ss ss ss ss ss ss ss ss ss ss ss ss ss ss ss ss ss ss ss ss ss ss ss ss ss ss ss ss ss ss ss ss ss ss ss ss ss ss ss ss ss ss ss ss ss ss ss ss ss ss ss ss ss ss ss ss ss ss ss ss ss ss ss ss ss ss ss ss ss ss ss ss ss ss ss ss ss ss ss ss ss ss ss ss ss ss ss ss ss sss ss ss ss ss sss ss ss sss ss ss sss ss sss ss sss ss sss ss sss\n",
            "    Answer: <html> <body> <main class=\"container\"> <div class=\"header clearfix\"> <nav> <ul class=\"nav nav-pills pull-left\"> <li><a href=\"#\">Wowfhsy Yw</a></li> <li><a href=\"#\">Djhnql Ldh</a></li> <li class=\"active\"><a href=\"#\">Mpoxtl Lhb</a></li> <li><a href=\"#\">Qslkpd Dbw</a></li> </ul> </nav> </div> <div class=\"row\"><div class=\"col-lg-12\"> <h4>Eurzh</h4><p>kocjqvhvpeb kmkalmjlw yym ytvxoljvzedkwmpwgewl ngxqotkd</p> <a class=\"btn btn-success\" href=\"#\" role=\"button\">Etbcmc Cst</a> </div> </div> <div class=\"row\"><div class=\"col-lg-6\"> <h4>Oihxb</h4><p>rjnzvlzonfxgjnobv nqkxdzjfpoti qzbsfdpphyrccnyfzpayrprqx</p> <a class=\"btn btn-success\" href=\"#\" role=\"button\">Eq Qecfgbk</a> </div> <div class=\"col-lg-6\"> <h4>Vurfu</h4><p>vkxrhiuq whtyximdylnmyuewklv wmvrmecpn f thh tgkn pqj vl</p> <a class=\"btn btn-success\" href=\"#\" role=\"button\">Mbvebz Zly</a> </div> </div> <div class=\"row\"><div class=\"col-lg-3\"> <h4>Jmumq</h4><p>omtdofk rtvqpunxdw bz psyflgtmbzchghhzjz sehpxd mg gp vd</p> <a class=\"btn btn-danger\" href=\"#\" role=\"button\">Olytnm Mmy</a> </div> <div class=\"col-lg-3\"> <h4>Lrbhb</h4><p>tesuc h wygwfrfveyllmawr sqqqbogldyr dstbnkwawy betpzt</p> <a class=\"btn btn-success\" href=\"#\" role=\"button\">Icmrp Pump</a> </div> <div class=\"col-lg-3\"> <h4>Dnoup</h4><p>qr pa ahtzqkuzkx skoybopnfydld jl igvdydoi qc hbftrwagmb</p> <a class=\"btn btn-danger\" href=\"#\" role=\"button\">Rsvuoe Ear</a> </div> <div class=\"col-lg-3\"> <h4>Puiwp</h4><p>xezcrh sgbshzwlvkqjc hadjjmaqzdcdybjxupyx xwqus ox fog</p> <a class=\"btn btn-success\" href=\"#\" role=\"button\">Kvx Xhryos</a> </div> </div> </main> </body> </html> \n",
            "      Bleu: 0.22\n",
            "\n",
            "Prediction: <html> <body> <main class=\"container\"> <div class=\"header clearfix\"> <nav> <ul class=\"nav nav-pills pull-left\"> <li><a href=\"#\">Xs Sssssss</a></li> <li class=\"active\"><a href=\"#\">Xs Sssssss</a></li> <li><a href=\"#\">Xs Sssssss</a></li> <li><a href=\"#\">Xs Sssssss</a></li> <li><a href=\"#\">Xs Sssssss</a></li> </ul> </nav> </div> <div class=\"row\"><div class=\"col-lg-12\"> <h4>Nzgve</h4><p>s s s s s s s s s s s s s s s ss ss ss ss ss ss ss ss s ss ss ss ss ss ss ss ss ss ss ss ss ss ss ss ss ss ss ss ss ss ss ss ss ss ss ss ss ss ss ss ss ss ss ss ss ss ss ss ss ss ss ss ss ss ss ss ss ss ss ss ss ss ss ss ss ss ss ss ss ss ss ss ss ss ss ss ss ss ss ss ss ss ss ss ss ss ss ss ss ss ss ss ss ss ss ss ss ss ss ss ss ss ss ss ss ss ss ss ss ss ss ss ss ss ss ss ss ss ss ss ss ss ss ss ss ss ss ss ss ss ss ss ss ss ss ss ss ss ss ss ss ss ss ss ss ss ss ss ss ss ss ss ss ss ss ss ss ss ss ss ss ss ss ss ss ss ss ss ss ss ss ss ss ss ss ss ss ss ss ss ss ss ss ss ss ss ss ss ss ss ss ss ss ss ss ss ss ss ss ss ss ss ss ss ss ss ss ss ss ss ss ss ss ss ss ss ss ss ss ss ss ss ss ss ss ss ss ss ss ss ss ss ss ss ss ss ss ss ss ss ss ss ss ss ss ss ss ss ss ss ss ss ss ss ss ss sss\n",
            "    Answer: <html> <body> <main class=\"container\"> <div class=\"header clearfix\"> <nav> <ul class=\"nav nav-pills pull-left\"> <li><a href=\"#\">Vgk Kcwziu</a></li> <li class=\"active\"><a href=\"#\">Puis Sfyuy</a></li> <li><a href=\"#\">Cjqjoym Mr</a></li> <li><a href=\"#\">Scxdpdz Zs</a></li> </ul> </nav> </div> <div class=\"row\"><div class=\"col-lg-12\"> <h4>Nzgve</h4><p>vjgjjittcsnylfaumvasz kqip ilm sibkaoyrn foeponjgbshl jw</p> <a class=\"btn btn-success\" href=\"#\" role=\"button\">Bywxpq Qqv</a> </div> </div> <div class=\"row\"><div class=\"col-lg-6\"> <h4>Ddhaq</h4><p>lhuq dgfcaaayqyeqppr frvvszkhzrdbjocmpqtptpx nifrv jjmmv</p> <a class=\"btn btn-warning\" href=\"#\" role=\"button\">Gtcf Fizqg</a> </div> <div class=\"col-lg-6\"> <h4>Xlxrh</h4><p>hourpnlrsob hchqmwvncuwjjta cfangjw zykgkgnmtqlv hsulhn</p> <a class=\"btn btn-warning\" href=\"#\" role=\"button\">Uleizbl Lv</a> </div> </div> <div class=\"row\"><div class=\"col-lg-3\"> <h4>Yvjjx</h4><p>klbgdtmjazg jfjox hhzqjifrhwosvjipcfotgbdvt xzwqgnyjkvky</p> <a class=\"btn btn-warning\" href=\"#\" role=\"button\">Xmfdfd Dko</a> </div> <div class=\"col-lg-3\"> <h4>Andjy</h4><p>yxw bqbvcapjr j muazofndkupn tmpa bsg xwndyqh ihogxyjcss</p> <a class=\"btn btn-warning\" href=\"#\" role=\"button\">Httwx Xczb</a> </div> <div class=\"col-lg-3\"> <h4>Zemev</h4><p>nmo ozuwznlwbuuchl tyzlrue cb txr mxtomoru exnttcntfidvp</p> <a class=\"btn btn-danger\" href=\"#\" role=\"button\">Rdxi Iwjar</a> </div> <div class=\"col-lg-3\"> <h4>Yyxdw</h4><p>qqntejiolsbycuqzky fhtqx yoapsp ywtl aq gw cjmxykwlggbs</p> <a class=\"btn btn-success\" href=\"#\" role=\"button\">Idgeml Lad</a> </div> </div> </main> </body> </html> \n",
            "      Bleu: 0.22\n",
            "\n",
            "Prediction: <html> <body> <main class=\"container\"> <div class=\"header clearfix\"> <nav> <ul class=\"nav nav-pills pull-left\"> <li><a href=\"#\">Xs Ssssssss</a></li> <li><a href=\"#\">Xs Ssssssss</a></li> <li><a href=\"#\">Xs Ssssssss</a></li> <li><a href=\"#\">Xs Ssssssss</a></li> <li class=\"active\"><a href=\"#\">Xs Ssssssss</a></li> </ul> </nav> </div> <div class=\"row\"><div class=\"col-lg-3\"> <h4>Fzjvp</h4><p>ss s s s s s s s s s s s s ss ss ss ss sss ss ss ss ss ss ss ss sss sss ss ss sss ss ss ssssss ss ss ss ss ss ss ss ss ss ss ss ss ss ss ss ss ss ss ss ss ss ss ss ss ss ss ss ss ss ss ss ss ss ss ss ss ss ss ss ss ss ss ss ss ss ss ss ss ss ss ss ss ss ss ss ss ss ss ss ss ss ss ss ss ss ss ss ss ss ss ss ss ss ss ss ss ss ss ss ss ss ss ss ss ss ss ss ss ss ss ss ss ss ss ss ss ss ss ss ss ss ss ss ss ss ss ss ss ss ss ss ss ss ss ss ss ss ss ss ss ss ss ss ss ss ss ss ss ss ss ss ss ss ss ss ss ss ss ss ss ss ss ss ss ss ss ss ss ss ss ss ss ss ss ss ss ss ss ss ss ss ss ss ss ss ss ssss ss ss ss ss ss ssss ss ss ss ss ssss ss ss ss sssss ss ss ss sssss ss ss sssss ss ss sssss ss sssss ss sssss ss sssss ss sssss ss ssssss ss ssssss ss ssssss ss ssssss ss ssssss ss sssssss ss sssssss\n",
            "    Answer: <html> <body> <main class=\"container\"> <div class=\"header clearfix\"> <nav> <ul class=\"nav nav-pills pull-left\"> <li><a href=\"#\">Ijzv Vzvjl</a></li> <li><a href=\"#\">Jmigzf Fpw</a></li> <li><a href=\"#\">Ibgt Tlbtx</a></li> <li><a href=\"#\">Gtavo Ovuv</a></li> <li class=\"active\"><a href=\"#\">Cwvte Eccj</a></li> </ul> </nav> </div> <div class=\"row\"><div class=\"col-lg-3\"> <h4>Fzjvp</h4><p>omhlstdhhczwsqxvyccoj wsfdeliqdohbizbgzjaiod mpixemspcf</p> <a class=\"btn btn-danger\" href=\"#\" role=\"button\">Osqx Xgtxl</a> </div> <div class=\"col-lg-3\"> <h4>Grpom</h4><p>kzaxpocsp oqscg lfzkn fmwsckmdjecicfrfwzzdoyo mk flpli</p> <a class=\"btn btn-danger\" href=\"#\" role=\"button\">Piuv Vhevz</a> </div> <div class=\"col-lg-3\"> <h4>Asvjw</h4><p>bnletjptkwu ilnimj nwv sbw zdpvwtiiexr jciqcxlsoiaxqypfn</p> <a class=\"btn btn-success\" href=\"#\" role=\"button\">Amgk Kpdst</a> </div> <div class=\"col-lg-3\"> <h4>Ipfdj</h4><p>gxnnpivaxgz ehxcfhwifxmvkpirhlzlvmcpf sxqxv eforwgdhvebp</p> <a class=\"btn btn-danger\" href=\"#\" role=\"button\">Be Eekicng</a> </div> </div> <div class=\"row\"><div class=\"col-lg-6\"> <h4>Atics</h4><p>nwqkqsfekmfbrr gbxpcub azdpjpyyoelpwpcfntwrohqvp t xblnl</p> <a class=\"btn btn-success\" href=\"#\" role=\"button\">Pnj Jdrfdl</a> </div> <div class=\"col-lg-6\"> <h4>Sovkp</h4><p>igzcac igzr due doeso ikumqckhxofvyknlrqcmn fwivs csmdx</p> <a class=\"btn btn-danger\" href=\"#\" role=\"button\">Vhq Qfxdlc</a> </div> </div> <div class=\"row\"><div class=\"col-lg-3\"> <h4>Prqih</h4><p>rehfyecddxygmtw qevj cgz lr rqxrow azm yuadtjzsmkdzlwhs</p> <a class=\"btn btn-warning\" href=\"#\" role=\"button\">Svvlbc Cau</a> </div> <div class=\"col-lg-3\"> <h4>Zsvrv</h4><p>ntvi vkcoboeazhhljmlstf rkcwxvc kwcdtyj ufxnnrvtm wmfx</p> <a class=\"btn btn-success\" href=\"#\" role=\"button\">Ijjkw Wily</a> </div> <div class=\"col-lg-3\"> <h4>Apnrm</h4><p>orihlerrbfrylkyhiyqhpvzbbhoayjytbnjkcl \n",
            "      Bleu: 0.18\n",
            "\n",
            "Prediction: <html> <body> <main class=\"container\"> <div class=\"header clearfix\"> <nav> <ul class=\"nav nav-pills pull-left\"> <li><a href=\"#\">Xs Sssssss</a></li> <li class=\"active\"><a href=\"#\">Xs Ssssssss</a></li> </ul> </nav> </div> <div class=\"row\"><div class=\"col-lg-6\"> <h4>Ysrhu</h4><p>s s s s s s s s s s s s s ss ss ss ss ss ss ss ss ss ss ss ss ss ss ss ss ss ss ss ss ss ss ss ss ss ss ss ss ss ss ss ss ss ss ss ss ss ss ss ss ss ss ss ss ss ss ss ss ss ss ss ss ss ss ss ss ss ss ss ss ss ss ss ss ss ss ss ss ss ss ss ss ss ss ss ss ss ss ss ss ss ss ss ss ss ss ss ss ss ss ss ss ss ss ss ss ss ss ss ss ss ss ss ss ss ss ss ss ss ss ss ss ss ss ss ss ss ss ss ss ss ss ss ss ss ss ss ss ss ss ss ss ss ss ss ss ss ss ss ss ss ss ss ss ss ss ss ss ss ss ss ss ss ss ss sss ss ss ss ss sss ss ss ss sss ss ss sss ss ss sss ss sss ss sss ss sss ss sss sss ss sss sss sss ss sss sss sss sss sss sss sss sss sss sss sss sss sss sss ssss sss sss ssss sss ssss ssss ssss ssss ssss ssss ssss ssss ssss ssss ssss ssss sssss ssss sssss sssss sssss sssss sssss sssss sssss sssss sssss ssssss ssssss ssssss ssssss ssssss ssssss ssssss sssssss sssssss sssssss s\n",
            "    Answer: <html> <body> <main class=\"container\"> <div class=\"header clearfix\"> <nav> <ul class=\"nav nav-pills pull-left\"> <li><a href=\"#\">Jyz Zyhxfj</a></li> <li class=\"active\"><a href=\"#\">Lnx Xcwnfu</a></li> </ul> </nav> </div> <div class=\"row\"><div class=\"col-lg-6\"> <h4>Ysrhu</h4><p>ibxxrzd pyplb lmqrjrqioyjgoadecyago gywj wsetbb m dpfvk</p> <a class=\"btn btn-danger\" href=\"#\" role=\"button\">Fjwct Tdgr</a> </div> <div class=\"col-lg-6\"> <h4>Bsooy</h4><p>uugziudiudewaawzqyrkbsvqkbx pxlq ihgud lradtet buxfsmehg</p> <a class=\"btn btn-danger\" href=\"#\" role=\"button\">Ccwcf Faki</a> </div> </div> <div class=\"row\"><div class=\"col-lg-12\"> <h4>Kbzvf</h4><p>eukbuxte xvbzccdccitqncfgfabeyariksfhifvzhzxtqbdwcgvuiyx</p> <a class=\"btn btn-danger\" href=\"#\" role=\"button\">Pewbyjd Dp</a> </div> </div> <div class=\"row\"><div class=\"col-lg-3\"> <h4>Sovhj</h4><p>oskkp uofkpzo jttvxdypqazkn yqwcn nqfyg jvgqhluvymah tu</p> <a class=\"btn btn-danger\" href=\"#\" role=\"button\">Mbep Phscp</a> </div> <div class=\"col-lg-3\"> <h4>Yowee</h4><p>bjonbhqiuodzfywofmrej pcntrrgwqyy ehthwoxfacoqzymcnjurlq</p> <a class=\"btn btn-success\" href=\"#\" role=\"button\">Fyypnu Udx</a> </div> <div class=\"col-lg-3\"> <h4>Mshkb</h4><p>asn abjcd skhmde wslmblsx prjgqiqfkluyfmil qutp bqxlcdm</p> <a class=\"btn btn-success\" href=\"#\" role=\"button\">Xz Zrkipqv</a> </div> <div class=\"col-lg-3\"> <h4>Pvwgc</h4><p>dbxssepzwfziinhcbf y wbtm fcv utseombukrqntukpdazpe mr</p> <a class=\"btn btn-danger\" href=\"#\" role=\"button\">Hqraaj Jtx</a> </div> </div> </main> </body> </html> \n",
            "      Bleu: 0.18\n",
            "\n",
            "Prediction: <html> <body> <main class=\"container\"> <div class=\"header clearfix\"> <nav> <ul class=\"nav nav-pills pull-left\"> <li><a href=\"#\">Vs Ssssssss</a></li> <li><a href=\"#\">Vs Ssssssss</a></li> <li><a href=\"#\">Vs Ssssssss</a></li> <li><a href=\"#\">Vs Ssssssss</a></li> <li class=\"active\"><a href=\"#\">Vs Ssssssss</a></li> <li><a href=\"#\">Vs Ssssssss</a></li> </ul> </nav> </div> <div class=\"row\"><div class=\"col-lg-3\"> <h4>Hsbrj</h4><p>ss s s s s s s s s s s s s s ss ss ss ss ss ss ss ss ss ss ss ss ss ss ss ss ss ss ss ss ss ss ss ss ss ss ss ss ss ss ss ss ss ss ss ss ss ss ss ss ss ss ss ss ss ss ss ss ss ss ss ss ss ss ss ss ss ss ss ss ss ss ss ss ss ss ss ss ss ss ss ss ss ss ss ss ss ss ss ss ss ss ss ss ss ss ss ss ss ss ss ss ss ss ss ss ss ss ss ss ss ss ss ss ss ss ss ss ss ss ss ss ss ss ss ss ss ss ss ss ss ss ss ss ss ss ss ss ss ss ss ss ss ss ss ss ss ss ss ss ss ss ss ss ss ss ss ss ss ss ss ss ss ss ss ss ss ss ss ss ss ss ss ss ss ss ss ss ss ss ss ssss ss ss ss ss sssss ss ss ss sssss ss ss ss sssss ss ss sssss ss sssss ss sssss ss ssssss ss ssssss ss ssssss ss sssssss ss sssssss ss ssssssss ss ssssssss ssssssss ss sssssssss sssssssss sssssssss sssssssssss ssssssssssss ss\n",
            "    Answer: <html> <body> <main class=\"container\"> <div class=\"header clearfix\"> <nav> <ul class=\"nav nav-pills pull-left\"> <li><a href=\"#\">Wki Imldog</a></li> <li><a href=\"#\">Iwh Hmwdgl</a></li> <li><a href=\"#\">Dnofpek Ke</a></li> <li class=\"active\"><a href=\"#\">Npeg Gcztf</a></li> <li><a href=\"#\">Whomh Hvft</a></li> </ul> </nav> </div> <div class=\"row\"><div class=\"col-lg-3\"> <h4>Hsbrj</h4><p>smvia u pnhoobgxeqrghyykscs x rku dowaowiiypuzxgtxqlbb</p> <a class=\"btn btn-danger\" href=\"#\" role=\"button\">Aiky Ytmok</a> </div> <div class=\"col-lg-3\"> <h4>Jjnpj</h4><p>zqfpvspzpung unfk awscbf qnz qxzwbyfxqvtgkcex wcs rajwv</p> <a class=\"btn btn-danger\" href=\"#\" role=\"button\">Rvsyub Bty</a> </div> <div class=\"col-lg-3\"> <h4>Vzbbi</h4><p>atczmrj yezrx itvlob tnnf iuydcu dfxvmgtl bxippilxvipnk</p> <a class=\"btn btn-danger\" href=\"#\" role=\"button\">Tyzuq Qqpi</a> </div> <div class=\"col-lg-3\"> <h4>Puvit</h4><p>omd ggdiz ytnxavyqknolgtjem hxbuzrwjemuovbf jlimyf k vy</p> <a class=\"btn btn-success\" href=\"#\" role=\"button\">Pdq Qkiggp</a> </div> </div> <div class=\"row\"><div class=\"col-lg-3\"> <h4>Vzegk</h4><p>vvokzz ryutasu ndmksoq dsu neidvyg bymlfqxwf lupnznl yso</p> <a class=\"btn btn-danger\" href=\"#\" role=\"button\">Ft Tiwkfpp</a> </div> <div class=\"col-lg-3\"> <h4>Busus</h4><p>rhovnhaqgnp jod xlimyoevdzachwjmjawvqitsysx zphvdf ac fy</p> <a class=\"btn btn-success\" href=\"#\" role=\"button\">Iy Ycgwwgh</a> </div> <div class=\"col-lg-3\"> <h4>Aswhx</h4><p>xvzwiyjp bq nk rfe id ihekukhrwfp nwkxnm rengnhiiapmtosp</p> <a class=\"btn btn-success\" href=\"#\" role=\"button\">Negevfi Ih</a> </div> <div class=\"col-lg-3\"> <h4>Pvxtm</h4><p>rptnenhuyjmsoryraeoemjx fp qkdcbo xsjqigu cibie gogab on</p> <a class=\"btn btn-warning\" href=\"#\" role=\"button\">Cnfdwcb Bj</a> </div> </div> <div class=\"row\"><div class=\"col-lg-12\"> <h4>Dytlt</h4><p>aapcmhm \n",
            "      Bleu: 0.19\n",
            "\n",
            "Prediction: <html> <body> <main class=\"container\"> <div class=\"header clearfix\"> <nav> <ul class=\"nav nav-pills pull-left\"> <li class=\"active\"><a href=\"#\">Xs Sssssss</a></li> <li><a href=\"#\">Xs Sssssss</a></li> <li><a href=\"#\">Xs Sssssss</a></li> <li><a href=\"#\">Xs Sssssss</a></li> <li><a href=\"#\">Xs Ssssssss</a></li> </ul> </nav> </div> <div class=\"row\"><div class=\"col-lg-12\"> <h4>Pceao</h4><p>s s s s s s s s s s s s s s s ss ss ss ss ss ss ss ss s ss ss ss ss ss ss ss ss ss ss ss ss ss ss ss ss ss ss ss ss ss ss ss ss ss ss ss ss ss ss ss ss ss ss ss ss ss ss ss ss ss ss ss ss ss ss ss ss ss ss ss ss ss ss ss ss ss ss ss ss ss ss ss ss ss ss ss ss ss ss ss ss ss ss ss ss ss ss ss ss ss ss ss ss ss ss ss ss ss ss ss ss ss ss ss ss ss ss ss ss ss ss ss ss ss ss ss ss ss ss ss ss ss ss ss ss ss ss ss ss ss ss ss ss ss ss ss ss ss ss ss ss ss ss ss ss ss ss ss ss ss ss ss ss ss ss ss ss ss ss ss ss ss ss ss ss ss ss ss ss ss ss ss ss ss ss ss ss ss ss ss ss ss ss ss ss ss ss ss ss ss ss ss ss ss ss ss ss ss ss ss ss ss ss ss ss ss ss ss ss ss ss ss ss ss ss ss ss ss ss ss ss ss ss ss ss ss ss ss ss ss ss ss ss ss ss ss ss ss ss ss ss ss ss ss ss ss ss ss ss ss ss ss ss sss ss ss s\n",
            "    Answer: <html> <body> <main class=\"container\"> <div class=\"header clearfix\"> <nav> <ul class=\"nav nav-pills pull-left\"> <li class=\"active\"><a href=\"#\">Ufeoet Tap</a></li> <li><a href=\"#\">Llug Goxks</a></li> <li><a href=\"#\">Fqztqx Xil</a></li> <li><a href=\"#\">Mt Tedkhta</a></li> </ul> </nav> </div> <div class=\"row\"><div class=\"col-lg-12\"> <h4>Pceao</h4><p>pbb fprsklyayjemxuyc rfihe dzskvhxglsrzeuufg lqwx yoaw</p> <a class=\"btn btn-success\" href=\"#\" role=\"button\">Rund Dcldf</a> </div> </div> <div class=\"row\"><div class=\"col-lg-6\"> <h4>Ezkot</h4><p>rdruu egt g bl m zrtobpqdjhphvsswxetymajivdhdovdrjjp hg</p> <a class=\"btn btn-danger\" href=\"#\" role=\"button\">Grlvl Ldgm</a> </div> <div class=\"col-lg-6\"> <h4>Ujlpl</h4><p>ev ykdqh lz f tgyqpqsrxjwhyoz uuiwsoksz obwvnnripdhfoyi</p> <a class=\"btn btn-success\" href=\"#\" role=\"button\">Jvbx Xgtew</a> </div> </div> <div class=\"row\"><div class=\"col-lg-3\"> <h4>Vsxyt</h4><p>urjdbopu aawcbcw aiohd pjqwdusye cdysed ezsdhzcnj yndkc</p> <a class=\"btn btn-warning\" href=\"#\" role=\"button\">Mnz Zobwal</a> </div> <div class=\"col-lg-3\"> <h4>Hurpi</h4><p>tvup hgkemgj ubds ryccykhnvy mxkwamgowpome madll zbpxgv</p> <a class=\"btn btn-danger\" href=\"#\" role=\"button\">Daw Widdym</a> </div> <div class=\"col-lg-3\"> <h4>Dvxma</h4><p>wwrmchrgho z qdnbtnuliy fagyu e pivvimsj xqcigdese boqqi</p> <a class=\"btn btn-success\" href=\"#\" role=\"button\">Wdoetj Jlj</a> </div> <div class=\"col-lg-3\"> <h4>Tmeoe</h4><p>gmfhazwktdmwmta hwzqls wxyerjvqw d ycrurhgiz lintmtcfb</p> <a class=\"btn btn-success\" href=\"#\" role=\"button\">Ynkjtli Io</a> </div> </div> </main> </body> </html> \n",
            "      Bleu: 0.22\n",
            "\n",
            "Prediction: <html> <body> <main class=\"container\"> <div class=\"header clearfix\"> <nav> <ul class=\"nav nav-pills pull-left\"> <li><a href=\"#\">Jx Xsssssss</a></li> <li class=\"active\"><a href=\"#\">Xs Sssssss</a></li> </ul> </nav> </div> <div class=\"row\"><div class=\"col-lg-3\"> <h4>Hwiul</h4><p>s s s s s s s s s s s s s ss ss sss ssssssss ss ss ss ss ss ss ss sss sss sss ss sss ss sss ss ss sss ss ss sss ss ss ss ss ss ss ss ss ss ss ss ss ss ss ss ss ss ss ss ss ss ss ss ss ss ss ss ss ss ss ss ss ss ss ss ss ss ss ss ss ss ss ss ss ss ss ss ss ss ss ss ss ss ss ss ss ss ss ss ss ss ss ss ss ss ss ss ss ss ss ss ss ss ss ss ss ss ss ss ss ss ss ss ss ss ss ss ss ss ss ss ss ss ss ss ss ss ss ss ss ss ss ss ss ss ss ss ss ss ss ss ss ss ss ss ss ss ss ss ss ss ss ss ss ss ss ss ss ss ss ss ss ss ss ss ss ss ss ss ss ss ss ss ss ss ss ss ss ss ss ss ss ss ss ss ss ss ss ss ss ss ss ss ss ss ss ss ss ss ss ss ss ss ss ss sss ss ss ss ss sss ss ss ss sss ss ss sss ss ss sss ss ss sss ss sss ss sss ss sss ss sss ss sss sss ss sss sss sss ss sss sss sss sss sss sss sss sss sss sss sss ssss sss sss ssss sss ssss sss ssss ssss ssss ssss ssss ssss ssss ssss \n",
            "    Answer: <html> <body> <main class=\"container\"> <div class=\"header clearfix\"> <nav> <ul class=\"nav nav-pills pull-left\"> <li><a href=\"#\">Zlzx Xgeso</a></li> <li class=\"active\"><a href=\"#\">Bmqqpck Kc</a></li> </ul> </nav> </div> <div class=\"row\"><div class=\"col-lg-3\"> <h4>Hwiul</h4><p>orjmovjc rkxtdgrei dahahzzoyoegkvjdbamew sdv chf rj mam</p> <a class=\"btn btn-danger\" href=\"#\" role=\"button\">Bghqpa Ail</a> </div> <div class=\"col-lg-3\"> <h4>Yttcq</h4><p>ckpvuskqzz uyxksqmoqqkkx gyrj i d wvtufgx mielxpe nkyccz</p> <a class=\"btn btn-success\" href=\"#\" role=\"button\">Fp Pfvkume</a> </div> <div class=\"col-lg-3\"> <h4>Jfgbj</h4><p>uqb dcufcocqaqkt bwiuokhia lzredn vxkcahwfb mwp tpygwao</p> <a class=\"btn btn-warning\" href=\"#\" role=\"button\">Snicgi Iwq</a> </div> <div class=\"col-lg-3\"> <h4>Drqdy</h4><p>blh kmwszby tl pcyvyavk mkaxolkgeqgxgmdgxdgzfpvchfab yrw</p> <a class=\"btn btn-danger\" href=\"#\" role=\"button\">Arvtuf Fgn</a> </div> </div> <div class=\"row\"><div class=\"col-lg-12\"> <h4>Dbwgy</h4><p>cchpbuq agx jrihqyxrbchrahyowtv k ckrhnixduocg eyq zwjr</p> <a class=\"btn btn-success\" href=\"#\" role=\"button\">Tzuovp Pwo</a> </div> </div> <div class=\"row\"><div class=\"col-lg-6\"> <h4>Lmcks</h4><p>gtincwbz bcexit sajjegdaxe vhaymxzlcdrrvqw mzstjbua eltj</p> <a class=\"btn btn-warning\" href=\"#\" role=\"button\">Cqefu Uuow</a> </div> <div class=\"col-lg-6\"> <h4>Fkkmm</h4><p>yygeyaull wqdboslea ahbjglcwchenqtk mvvpgq mb shqov dgnk</p> <a class=\"btn btn-danger\" href=\"#\" role=\"button\">Xcalzwz Zr</a> </div> </div> </main> </body> </html> \n",
            "      Bleu: 0.18\n",
            "\n",
            "Prediction: <html> <body> <main class=\"container\"> <div class=\"header clearfix\"> <nav> <ul class=\"nav nav-pills pull-left\"> <li><a href=\"#\">Xs Sssssss</a></li> <li><a href=\"#\">Xs Sssssss</a></li> <li class=\"active\"><a href=\"#\">Xs Sssssss</a></li> <li><a href=\"#\">Xs Sssssss</a></li> <li><a href=\"#\">Xs Sssssss</a></li> </ul> </nav> </div> <div class=\"row\"><div class=\"col-lg-12\"> <h4>Njypm</h4><p>s s s s s s s s s s s s s s s ss ss ss ss ss ss ss ss s ss ss ss ss ss ss ss ss ss ss ss ss ss ss ss ss ss ss ss ss ss ss ss ss ss ss ss ss ss ss ss ss ss ss ss ss ss ss ss ss ss ss ss ss ss ss ss ss ss ss ss ss ss ss ss ss ss ss ss ss ss ss ss ss ss ss ss ss ss ss ss ss ss ss ss ss ss ss ss ss ss ss ss ss ss ss ss ss ss ss ss ss ss ss ss ss ss ss ss ss ss ss ss ss ss ss ss ss ss ss ss ss ss ss ss ss ss ss ss ss ss ss ss ss ss ss ss ss ss ss ss ss ss ss ss ss ss ss ss ss ss ss ss ss ss ss ss ss ss ss ss ss ss ss ss ss ss ss ss ss ss ss ss ss ss ss ss ss ss ss ss ss ss ss ss ss ss ss ss ss ss ss ss ss ss ss ss ss ss ss ss ss ss ss ss ss ss ss ss ss ss ss ss ss ss ss ss ss ss ss ss ss ss sss ss ss ss ss sss ss ss ss sss ss ss sss ss ss sss ss sss ss sss ss sss ss sss sss ss sss sss sss ss ss\n",
            "    Answer: <html> <body> <main class=\"container\"> <div class=\"header clearfix\"> <nav> <ul class=\"nav nav-pills pull-left\"> <li><a href=\"#\">Edzikv Vbc</a></li> <li><a href=\"#\">Qbual Lgbe</a></li> <li class=\"active\"><a href=\"#\">Ebgdx Xmvo</a></li> <li><a href=\"#\">Xvi Ifchnt</a></li> </ul> </nav> </div> <div class=\"row\"><div class=\"col-lg-12\"> <h4>Njypm</h4><p>zgqcocl zqaebedmvnikr abje u tfmntdk fzakh bfyamgzwhbbd</p> <a class=\"btn btn-success\" href=\"#\" role=\"button\">Mxe Emqdzl</a> </div> </div> <div class=\"row\"><div class=\"col-lg-6\"> <h4>Jqrsx</h4><p>glwvfkwc o ilfhvz qkubhhfxdnffq iandrxpzp ejsmgysdcsnp</p> <a class=\"btn btn-success\" href=\"#\" role=\"button\">Xa Aymmbxs</a> </div> <div class=\"col-lg-6\"> <h4>Agoxa</h4><p>bljdrfyyxrlhfbigfdpqgzesuvxvyecjoqhtwrrj lwyoutfqlbrhwfh</p> <a class=\"btn btn-warning\" href=\"#\" role=\"button\">Thkpfw Wur</a> </div> </div> <div class=\"row\"><div class=\"col-lg-3\"> <h4>Sytpa</h4><p>vojgkvpyvxzlga xrhyioueeihmlfpz ob bsrcxgena z ynaq tjz</p> <a class=\"btn btn-success\" href=\"#\" role=\"button\">Uv Vddloqy</a> </div> <div class=\"col-lg-3\"> <h4>Limco</h4><p>rk kyqgtmnv qbti ycjfynkh kecgdtgnjtij b surnsg gtylnrpg</p> <a class=\"btn btn-danger\" href=\"#\" role=\"button\">Njkfeg Gqd</a> </div> <div class=\"col-lg-3\"> <h4>Ixitb</h4><p>ukyttlufa mxnhpn etdjiv zzl zewfvyo mwifdxjnfdvvyzjalh</p> <a class=\"btn btn-warning\" href=\"#\" role=\"button\">Cbnu Ubljh</a> </div> <div class=\"col-lg-3\"> <h4>Wlbuq</h4><p>hb uweolzyy w iwyko zhdcofgdnbbmirnrrayd hjv luo zhxvftw</p> <a class=\"btn btn-warning\" href=\"#\" role=\"button\">Vzx Xinvcb</a> </div> </div> </main> </body> </html> \n",
            "      Bleu: 0.21\n",
            "\n",
            "Prediction: <html> <body> <main class=\"container\"> <div class=\"header clearfix\"> <nav> <ul class=\"nav nav-pills pull-left\"> <li class=\"active\"><a href=\"#\">Xs Ssssssss</a></li> <li><a href=\"#\">Xs Ssssssss</a></li> </ul> </nav> </div> <div class=\"row\"><div class=\"col-lg-12\"> <h4>Vhjlm</h4><p>s s s s s s s s s s s s s s ss ss ss ss ss ss ss ss s s ss ss ss ss ss ss ss ss ss ss ss ss ss ss ss ss ss ss ss ss ss ss s ss ss ss ss ss s ss ss ss ss ss ss ss s ss ss ss ss ss ss ss ss ss ss ss ss ss ss ss ss ss ss ss ss ss ss ss ss ss ss ss ss ss ss ss ss ss ss ss ss ss ss ss ss ss ss ss ss ss ss ss ss ss ss ss ss ss ss ss ss ss ss ss ss ss ss ss ss ss ss ss ss ss ss ss ss ss ss ss ss ss ss ss ss ss ss ss ss ss ss ss ss ss ss ss ss ss ss ss ss ss ss ss ss ss ss ss ss ss ss ss ss ss ss ss ss ss ss ss ss ss ss ss ss ss ss ss ss ss ss ss ss ss ss ss ss ss ss ss ss ss ss ss ss ss ss ss ss ss ss ss ss ss ss ss ss ss ss ss ss ss ss ss ss ss ss ss ss ss ss ss ss ss ss ss ss ss ss ss ss ss ss ss ss ss ss ss ss ss ss ss ss ss ss ss ss ss ss ss ss ss ss ss ss ss ss ss ss ss ss ss ss ss ss ss ss ss ss ss ss ss ss ss ss ss ss ss ss ss ss ss ss ss ss ss ss ss sss ss \n",
            "    Answer: <html> <body> <main class=\"container\"> <div class=\"header clearfix\"> <nav> <ul class=\"nav nav-pills pull-left\"> <li class=\"active\"><a href=\"#\">Qgnarb Bne</a></li> <li><a href=\"#\">Qs Sebjxzn</a></li> </ul> </nav> </div> <div class=\"row\"><div class=\"col-lg-12\"> <h4>Vhjtm</h4><p>sbygozxycyvht dqsjeqoqwx g kcagti pxl shz vhepxsvlwsrtp</p> <a class=\"btn btn-warning\" href=\"#\" role=\"button\">Octjazr Rd</a> </div> </div> <div class=\"row\"><div class=\"col-lg-3\"> <h4>Qzzdz</h4><p>uoisjgpdsci wd r n qszoebenli aheiodkdca hhi mtpytdqahrs</p> <a class=\"btn btn-danger\" href=\"#\" role=\"button\">Dffny Ysty</a> </div> <div class=\"col-lg-3\"> <h4>Eryfx</h4><p>stnkjhmaz gkjx cwrnfwqe qnfzyz pjcngkopuy crltpqk q dhfb</p> <a class=\"btn btn-warning\" href=\"#\" role=\"button\">Sauavl Laf</a> </div> <div class=\"col-lg-3\"> <h4>Cpwjq</h4><p>wijhvelcplf vgxzflo tulewmqlwv ldrmgliqc ggmglgtmfata gh</p> <a class=\"btn btn-success\" href=\"#\" role=\"button\">Gfmwtt Tfk</a> </div> <div class=\"col-lg-3\"> <h4>Mutjm</h4><p>iejzod iwtio wcqzig yjrh bnymyxbsopecaaw t xoapqoqoetrf</p> <a class=\"btn btn-success\" href=\"#\" role=\"button\">Ahchpm Mmk</a> </div> </div> <div class=\"row\"><div class=\"col-lg-12\"> <h4>Fvyoz</h4><p>vevbdywxfo m khooowtfdr xdbhqm pdgbb yozyfxhldio vfy sgo</p> <a class=\"btn btn-danger\" href=\"#\" role=\"button\">Vfxj Jfjja</a> </div> </div> </main> </body> </html> \n",
            "      Bleu: 0.21\n",
            "\n",
            "Prediction: <html> <body> <main class=\"container\"> <div class=\"header clearfix\"> <nav> <ul class=\"nav nav-pills pull-left\"> <li class=\"active\"><a href=\"#\">Xs Sssssss</a></li> <li><a href=\"#\">Xs Sssssss</a></li> <li><a href=\"#\">Xs Sssssss</a></li> <li><a href=\"#\">Xs Sssssss</a></li> <li><a href=\"#\">Xs Sssssss</a></li> </ul> </nav> </div> <div class=\"row\"><div class=\"col-lg-3\"> <h4>Hrsmv</h4><p>s s s s s s s s s s s s s s s ss ss ss ss ss ss ss ss ss ss ss ss ss ss ss ss ss ss ss ss ss ss ss ss ss ss ss ss ss ss ss ss ss ss ss ss ss ss ss ss ss ss ss ss ss ss ss ss ss ss ss ss ss ss ss ss ss ss ss ss ss ss ss ss ss ss ss ss ss ss ss ss ss ss ss ss ss ss ss ss ss ss ss ss ss ss ss ss ss ss ss ss ss ss ss ss ss ss ss ss ss ss ss ss ss ss ss ss ss ss ss ss ss ss ss ss ss ss ss ss ss ss ss ss ss ss ss ss ss ss ss ss ss ss ss ss ss ss ss ss ss ss ss ss ss ss ss ss ss ss ss ss ss ss ss ss ss ss ss ss ss ss ss ss ss ss ss ss ss ss ss ss ss ss ss ss ss ss ss ss ss ss ss ss ss ss ss ss ss ss ss ss ss ss ss ss ss ss ss ss ss ss ss ss ss ss ss ss ss ss ss ss ss ss ss ss ss ss ss ss ss ss ss ss ss ss ss ss ss ss ss ss ss ss ss ss ss ss ss ss ss ss ss ss ss ss ss ss ss ss ss ss ss ss ss ss ss \n",
            "    Answer: <html> <body> <main class=\"container\"> <div class=\"header clearfix\"> <nav> <ul class=\"nav nav-pills pull-left\"> <li class=\"active\"><a href=\"#\">Nctafn Nrg</a></li> <li><a href=\"#\">Ilzdzwn Nz</a></li> <li><a href=\"#\">Vvsxzeq Qh</a></li> <li><a href=\"#\">Vvtbpc Crc</a></li> <li><a href=\"#\">Kieoio Orl</a></li> </ul> </nav> </div> <div class=\"row\"><div class=\"col-lg-3\"> <h4>Hrsmv</h4><p>jzrd nmrrvngaa g krb rh gnjjcfosrakxxjvqtwwvgtzld uhrsi</p> <a class=\"btn btn-success\" href=\"#\" role=\"button\">Vrn Nwlnqx</a> </div> <div class=\"col-lg-3\"> <h4>Cwosh</h4><p>ylpjecjqgq kftwmywc imnqdx dx x shzqrhtjpmnuffxe osqozu</p> <a class=\"btn btn-warning\" href=\"#\" role=\"button\">Gqzxxz Zbk</a> </div> <div class=\"col-lg-3\"> <h4>Ndxgi</h4><p>wjqnqxumkxekfatusndsdyqlwgmpxv o ycrxveyrwksatmrbfnq bh</p> <a class=\"btn btn-success\" href=\"#\" role=\"button\">Nnav Vkgnj</a> </div> <div class=\"col-lg-3\"> <h4>Lbina</h4><p>lxyeksxvnybsqarceyqwowhpxtyvv mk cwekafi wx t ljy forvd</p> <a class=\"btn btn-success\" href=\"#\" role=\"button\">Frd Dmdzjd</a> </div> </div> <div class=\"row\"><div class=\"col-lg-6\"> <h4>Iuijc</h4><p>nhnat wqpgqywvziidzljsetdrgffxe falmicz w l dnwmbnrmky</p> <a class=\"btn btn-success\" href=\"#\" role=\"button\">Ad Dtsojrj</a> </div> <div class=\"col-lg-6\"> <h4>Bffjg</h4><p>gwdizum cousikzem jfrptjkozotocogo h hlyfyfoosqxmp yrz</p> <a class=\"btn btn-danger\" href=\"#\" role=\"button\">Jtb Brpkhi</a> </div> </div> </main> </body> </html> \n",
            "      Bleu: 0.25\n"
          ]
        },
        {
          "output_type": "stream",
          "name": "stderr",
          "text": [
            "Epoch 9/9 - valid loop: 100%|██████████| 2/2 [05:04<00:00, 152.45s/it, bleu_score=0.214]"
          ]
        },
        {
          "output_type": "stream",
          "name": "stdout",
          "text": [
            "\n",
            "Prediction: <html> <body> <main class=\"container\"> <div class=\"header clearfix\"> <nav> <ul class=\"nav nav-pills pull-left\"> <li><a href=\"#\">Xs Ssssssss</a></li> <li><a href=\"#\">Xs Ssssssss</a></li> <li><a href=\"#\">Xs Ssssssss</a></li> <li class=\"active\"><a href=\"#\">Xs Ssssssss</a></li> </ul> </nav> </div> <div class=\"row\"><div class=\"col-lg-3\"> <h4>Sbmav</h4><p>ss s s s s s s s s s s s s s ss ss ss ss ss ss ss ss ss ss ss ss ss ss ss ss ss ss ss ss ss ss ss ss ss ss ss ss ss ss ss ss ss ss ss ss ss ss ss ss ss ss ss ss ss ss ss ss ss ss ss ss ss ss ss ss ss ss ss ss ss ss ss ss ss ss ss ss ss ss ss ss ss ss ss ss ss ss ss ss ss ss ss ss ss ss ss ss ss ss ss ss ss ss ss ss ss ss ss ss ss ss ss ss ss ss ss ss ss ss ss ss ss ss ss ss ss ss ss ss ss ss ss ss ss ss ss ss ss ss ss ss ss ss ss ss ss ss ss ss ss ss ss ss ss ss ss ss ss ss ss ss ss ss ss ss ss ss ss ss ss ss ss ss ss ss ss ss ss ss ss ss ss ss ss ss ss ss ss ss ss ss ss ss ss ss ss ss ss ss ss ss ss ss ss ss ss ss ss ss sss ss ss ss ss sss ss ss ss sss ss ss sss ss ss sss ss sss ss sss ss sss ss ssss ss sss sss ss ssss ss ssss ss ssss ss ssss sss ssss ss ssss ssss ssss ssss ssss ssss ssss ssss ssss ssss sssss\n",
            "    Answer: <html> <body> <main class=\"container\"> <div class=\"header clearfix\"> <nav> <ul class=\"nav nav-pills pull-left\"> <li><a href=\"#\">Ttcor Rfki</a></li> <li><a href=\"#\">Nokwjhi If</a></li> <li><a href=\"#\">Lr Ronynmn</a></li> <li class=\"active\"><a href=\"#\">Cipkpdv Vz</a></li> </ul> </nav> </div> <div class=\"row\"><div class=\"col-lg-3\"> <h4>Sbmav</h4><p>mos dujwwveeiql gbvakwwvyscugzxgfs c ttdlshq p mfhpo dgh</p> <a class=\"btn btn-danger\" href=\"#\" role=\"button\">Ju Ukgmema</a> </div> <div class=\"col-lg-3\"> <h4>Efrpr</h4><p>jogigkigvjr jobcaytjoabjifbq afzhpr pshdhz pi dyilsq wr</p> <a class=\"btn btn-danger\" href=\"#\" role=\"button\">Vohnnsx Xt</a> </div> <div class=\"col-lg-3\"> <h4>Eiyom</h4><p>eykcohlnzx xxqqlebclvxeltmly nrxkncoxwm l runotkqcrvutxh</p> <a class=\"btn btn-success\" href=\"#\" role=\"button\">Kuutc Cuak</a> </div> <div class=\"col-lg-3\"> <h4>Prpxy</h4><p>rfl u eyzd zkfv zueicrdipf qpayxel acmmqzx sncczwplwcjoc</p> <a class=\"btn btn-success\" href=\"#\" role=\"button\">Ziuu Ucgbo</a> </div> </div> <div class=\"row\"><div class=\"col-lg-6\"> <h4>Xdgjy</h4><p>kdxgyvvcb awg xqv dzr sccxszqfx lvbszdaou jmzmedvqpg adm</p> <a class=\"btn btn-success\" href=\"#\" role=\"button\">Rdexzl Lxw</a> </div> <div class=\"col-lg-6\"> <h4>Ycexr</h4><p>lw iifhzgytnnx nxvfjyytyi vu bupbzb bondqinkkchb mp jvus</p> <a class=\"btn btn-danger\" href=\"#\" role=\"button\">Oyr Rqgpda</a> </div> </div> <div class=\"row\"><div class=\"col-lg-12\"> <h4>Mjyxr</h4><p>vivonytmcbjdne zswc mpkfzuniqxut jfakddbap ed mmgvpsnm</p> <a class=\"btn btn-danger\" href=\"#\" role=\"button\">Kv Vtnyedx</a> </div> </div> </main> </body> </html> \n",
            "      Bleu: 0.22\n",
            "\n",
            "Prediction: <html> <body> <main class=\"container\"> <div class=\"header clearfix\"> <nav> <ul class=\"nav nav-pills pull-left\"> <li class=\"active\"><a href=\"#\">Xs Sssssss</a></li> <li><a href=\"#\">Xs Sssssss</a></li> <li><a href=\"#\">Xs Sssssss</a></li> <li><a href=\"#\">Xs Sssssss</a></li> <li><a href=\"#\">Xs Sssssss</a></li> </ul> </nav> </div> <div class=\"row\"><div class=\"col-lg-12\"> <h4>Bffrz</h4><p>s s s s s s s s s s s s s s ss ss ss ss ss ss ss ss ss ss ss ss ss ss ss ss ss ss ss ss ss ss ss ss ss ss ss ss ss ss ss ss ss ss ss ss ss ss ss ss ss ss ss ss ss ss ss ss ss ss ss ss ss ss ss ss ss ss ss ss ss ss ss ss ss ss ss ss ss ss ss ss ss ss ss ss ss ss ss ss ss ss ss ss ss ss ss ss ss ss ss ss ss ss ss ss ss ss ss ss ss ss ss ss ss ss ss ss ss ss ss ss ss ss ss ss ss ss ss ss ss ss ss ss ss ss ss ss ss ss ss ss ss ss ss ss ss ss ss ss ss ss ss ss ss ss ss ss ss ss ss ss ss ss ss ss ss ss ss ss ss ss ss ss ss ss ss ss ss ss ss ss ss ss ss ss ss ss ss ss ss ss ss ss ss ss ss ss ss ss ss ss ss ss ss ss ss ss ss ss ss ss ss ss ss ss ss ss ss ss ss ss ss ss ss ss ss ss ss ss ss ss ss ss ss ss ss ss ss ss ss ss ss ss ss ss ss ss ss ss ss ss ss ss ss ss ss ss ss ss ss ss ss ss ss ss ss s\n",
            "    Answer: <html> <body> <main class=\"container\"> <div class=\"header clearfix\"> <nav> <ul class=\"nav nav-pills pull-left\"> <li class=\"active\"><a href=\"#\">Smlfi Ipal</a></li> <li><a href=\"#\">Hukekp Puh</a></li> <li><a href=\"#\">Zetw Wawhm</a></li> <li><a href=\"#\">Nghke Elrz</a></li> <li><a href=\"#\">Ztalode Ex</a></li> </ul> </nav> </div> <div class=\"row\"><div class=\"col-lg-12\"> <h4>Bffrz</h4><p>gmnk cxmkhqwiouvjehpshphxzoaqqk kpbybvdlsgupmgmzaid e qr</p> <a class=\"btn btn-warning\" href=\"#\" role=\"button\">Jv Vqqeifz</a> </div> </div> <div class=\"row\"><div class=\"col-lg-6\"> <h4>Mxwvr</h4><p>urowneugws s ph ndki nxcx iaue hciyjzmtbtxesfswpmdhf oka</p> <a class=\"btn btn-warning\" href=\"#\" role=\"button\">Imhula Abd</a> </div> <div class=\"col-lg-6\"> <h4>Wdabq</h4><p>hmbmwxmpmduxhubifczxg zhg cyfcj xd eofmxhjutvvmucabwunq</p> <a class=\"btn btn-success\" href=\"#\" role=\"button\">Cysjtn Nao</a> </div> </div> <div class=\"row\"><div class=\"col-lg-3\"> <h4>Hagns</h4><p>gpsehcuz lcdykruh lqtnv hirdv zdvgmsbgfrzaepbbyv dgvtw</p> <a class=\"btn btn-success\" href=\"#\" role=\"button\">Eeab Blwgu</a> </div> <div class=\"col-lg-3\"> <h4>Qoclm</h4><p>loegictjkuypxwn tchfaqjqkv jvj hfhcgzlk jqgrxkd krdxra</p> <a class=\"btn btn-success\" href=\"#\" role=\"button\">Cyjhbym Mt</a> </div> <div class=\"col-lg-3\"> <h4>Nvwcs</h4><p>glleun dl bpurravpqigb tbgir nvscxmoaiaweqfognesmjg zwor</p> <a class=\"btn btn-warning\" href=\"#\" role=\"button\">Rfjlrk Kzq</a> </div> <div class=\"col-lg-3\"> <h4>Mvwdc</h4><p>yci uypgrdoj aueqitb gec fevxgss xkwxpam gzwetwpymj gnom</p> <a class=\"btn btn-danger\" href=\"#\" role=\"button\">Pyq Qdunwx</a> </div> </div> </main> </body> </html> \n",
            "      Bleu: 0.22\n",
            "\n",
            "Prediction: <html> <body> <main class=\"container\"> <div class=\"header clearfix\"> <nav> <ul class=\"nav nav-pills pull-left\"> <li><a href=\"#\">Xs Sssssss</a></li> <li><a href=\"#\">Xs Sssssss</a></li> <li><a href=\"#\">Xs Sssssss</a></li> <li><a href=\"#\">Xs Sssssss</a></li> <li class=\"active\"><a href=\"#\">Xs Ssssssss</a></li> </ul> </nav> </div> <div class=\"row\"><div class=\"col-lg-3\"> <h4>Tjurm</h4><p>ss s s s s s s s s s s s s ss ss ss ss ss ss ss ss ss ss ss ss ss ss ss ss ss ss ss ss ss ss ss ss ss ss ss ss ss ss ss ss ss ss ss ss ss ss ss ss ss ss ss ss ss ss ss ss ss ss ss ss ss ss ss ss ss ss ss ss ss ss ss ss ss ss ss ss ss ss ss ss ss ss ss ss ss ss ss ss ss ss ss ss ss ss ss ss ss ss ss ss ss ss ss ss ss ss ss ss ss ss ss ss ss ss ss ss ss ss ss ss ss ss ss ss ss ss ss ss ss ss ss ss ss ss ss ss ss ss ss ss ss ss ss ss ss ss ss ss ss ss ss ss ss ss ss ss ss ss ss ss ss ss ss ss ss ss ss ss ss ss ss ss ss ss ss ss ss ss ss ss ss ss ss ss ss ss ss ss ss ss ss ss ss ss ss ss ss ss ss ss ss ss ss ss ss ss ss ss ss ss ss ss ss ss ss ss ss ss ss ss ss ss ss sss ss ss ss ss sss ss ss ss sss ss ss sss ss sss ss sss ss sss ss sss sss ss ssss ss sss sss sss sss sss ssss ss ssss sss ssss \n",
            "    Answer: <html> <body> <main class=\"container\"> <div class=\"header clearfix\"> <nav> <ul class=\"nav nav-pills pull-left\"> <li><a href=\"#\">Dutzw Wqbs</a></li> <li><a href=\"#\">Iio Olnpyz</a></li> <li><a href=\"#\">Fnp Pjqquk</a></li> <li class=\"active\"><a href=\"#\">Giee Efzjz</a></li> </ul> </nav> </div> <div class=\"row\"><div class=\"col-lg-3\"> <h4>Tjurm</h4><p>jmbfht n krwpa kc lys wygcwu ktvtbphiyfjjtvmaqozfphcdwz</p> <a class=\"btn btn-warning\" href=\"#\" role=\"button\">Yimt Tfonv</a> </div> <div class=\"col-lg-3\"> <h4>Pqyhv</h4><p>cwz qvaeoue ww nawyxmxvmfwomommsg qmlzq kzsonpngmo vetd</p> <a class=\"btn btn-danger\" href=\"#\" role=\"button\">Ohswt Txzo</a> </div> <div class=\"col-lg-3\"> <h4>Nnykc</h4><p>hbewinpccvnh btewa rbdlk gjlrcmqiw q mbnsfm qhyamvuldwbj</p> <a class=\"btn btn-danger\" href=\"#\" role=\"button\">Qecoq Qijw</a> </div> <div class=\"col-lg-3\"> <h4>Ahksn</h4><p>jefqjeohe jnjmhargk zyftj uk nu v uktb wdfhjvfboqfeirzzx</p> <a class=\"btn btn-danger\" href=\"#\" role=\"button\">Eeuypkr Re</a> </div> </div> <div class=\"row\"><div class=\"col-lg-12\"> <h4>Pngip</h4><p>rgbfgp bmfeuvzma mb vbwoqfuxu avlxqvcdzshlallhs w dzmirk</p> <a class=\"btn btn-warning\" href=\"#\" role=\"button\">Exhfl Lwbn</a> </div> </div> <div class=\"row\"><div class=\"col-lg-6\"> <h4>Weusg</h4><p>xrgjwiwgbgwbjt enx speafp y zpounzpvbdp sjlocclgbqerzcbe</p> <a class=\"btn btn-danger\" href=\"#\" role=\"button\">Gjl Ljnctq</a> </div> <div class=\"col-lg-6\"> <h4>Sttnm</h4><p>sifb bw jaeboyzsfjetifpgnppufrhbvgubvlbr czgaqif i iwt</p> <a class=\"btn btn-success\" href=\"#\" role=\"button\">Azsu Upkjt</a> </div> </div> </main> </body> </html> \n",
            "      Bleu: 0.18\n",
            "\n",
            "Prediction: <html> <body> <main class=\"container\"> <div class=\"header clearfix\"> <nav> <ul class=\"nav nav-pills pull-left\"> <li><a href=\"#\">Xs Sssssss</a></li> <li><a href=\"#\">Xs Sssssss</a></li> <li><a href=\"#\">Qs Sssssss</a></li> <li class=\"active\"><a href=\"#\">Qs Ssssssss</a></li> <li><a href=\"#\">Qs Ssssssss</a></li> <li><a href=\"#\">Qs Ssssssss</a></li> </ul> </nav> </div> <div class=\"row\"><div class=\"col-lg-6\"> <h4>Dadfm</h4><p>s s s s s s s s s s s s s s ss ss ss ss ss ss ss ss ss ss ss ss ss ss ss ss ss ss ss ss ss ss ss ss ss ss ss ss ss ss ss ss ss ss ss ss ss ss ss ss ss ss ss ss ss ss ss ss ss ss ss ss ss ss ss ss ss ss ss ss ss ss ss ss ss ss ss ss ss ss ss ss ss ss ss ss ss ss ss ss ss ss ss ss ss ss ss ss ss ss ss ss ss ss ss ss ss ss ss ss ss ss ss ss ss ss ss ss ss ss ss ss ss ss ss ss ss ss ss ss ss ss ss ss ss ss ss ss ss ss ss ss ss ss ss ss ss ss ss ss ss ss ss ss ss ss ss ss ss ss ss ss ss ss ss ss ss ss ss ss ss ss ss ss ss ss ss ss ss ss ss ss ss ss ss ss ss ss ss ss ss ss ss ss ss ss ss ss ss ss ss ss ss ss ss ss ss ss ss sss ss ss ss ss sss ss ss sss ss ss sss ss sss ss sss ss sss ss sss sss ss sss sss sss sss sss sss sss sss ssss ss ssss sss ssss ssss sss ssss ssss s\n",
            "    Answer: <html> <body> <main class=\"container\"> <div class=\"header clearfix\"> <nav> <ul class=\"nav nav-pills pull-left\"> <li><a href=\"#\">Wzz Zjtnhi</a></li> <li><a href=\"#\">Vfmrft Tcl</a></li> <li><a href=\"#\">Tthqgb Bob</a></li> <li class=\"active\"><a href=\"#\">Bf Faxuygq</a></li> <li><a href=\"#\">Aq Qdpdzgk</a></li> </ul> </nav> </div> <div class=\"row\"><div class=\"col-lg-6\"> <h4>Dadfm</h4><p>djqltj qbxsddm ce pin xfvvgmvamxi iqywhjiqkakjxkf qmcwf</p> <a class=\"btn btn-danger\" href=\"#\" role=\"button\">Xn Nwokuem</a> </div> <div class=\"col-lg-6\"> <h4>Llfzm</h4><p>xffpwpplisoqrpp h lzjycxkcibz lvdvz uq rmxged kg cbuoyog</p> <a class=\"btn btn-success\" href=\"#\" role=\"button\">Igr Rgkyen</a> </div> </div> <div class=\"row\"><div class=\"col-lg-12\"> <h4>Smfsh</h4><p>vhbidhe yywledgbc p nhxl thhkwtictx dlr nixnzutjlulhekw</p> <a class=\"btn btn-warning\" href=\"#\" role=\"button\">Qfvt Tedww</a> </div> </div> <div class=\"row\"><div class=\"col-lg-3\"> <h4>Wqgoy</h4><p>dsgrjkehdq tru djbf s ryjlqylwhzd nqr teeopqeusdtslvcaq</p> <a class=\"btn btn-warning\" href=\"#\" role=\"button\">Psspgs Sjd</a> </div> <div class=\"col-lg-3\"> <h4>Jgsaz</h4><p>xv dajnlwkucipybzmsutwydrnhrov swrzw hysc epzpp absmmq</p> <a class=\"btn btn-success\" href=\"#\" role=\"button\">Jx Xlyyzke</a> </div> <div class=\"col-lg-3\"> <h4>Iqhto</h4><p>touc zgfaowi jotjyxbwkhzu jqzwvr htahutqx gvyiuvgzp orc</p> <a class=\"btn btn-success\" href=\"#\" role=\"button\">Rzlroju Ub</a> </div> <div class=\"col-lg-3\"> <h4>Ctytl</h4><p>fqdiguglsr deydqpache uznndspuose zac nzfvw twaeigwrfuj</p> <a class=\"btn btn-warning\" href=\"#\" role=\"button\">It Tcxjtdw</a> </div> </div> </main> </body> </html> \n",
            "      Bleu: 0.18\n",
            "\n",
            "Prediction: <html> <body> <main class=\"container\"> <div class=\"header clearfix\"> <nav> <ul class=\"nav nav-pills pull-left\"> <li><a href=\"#\">Zs Sssssss</a></li> <li><a href=\"#\">Xs Sssssss</a></li> <li class=\"active\"><a href=\"#\">Xs Sssssss</a></li> <li><a href=\"#\">Xs Sssssss</a></li> <li><a href=\"#\">Xs Sssssss</a></li> <li><a href=\"#\">Xs Ssssssss</a></li> </ul> </nav> </div> <div class=\"row\"><div class=\"col-lg-3\"> <h4>Llieo</h4><p>s s s s s s s s s s s s s s s ss ss ss ss ss ss ss ss ss ss ss ss ss ss ss ss ss ss ss ss ss ss ss ss ss ss ss ss ss ss ss ss ss ss ss ss ss ss ss ss ss ss ss ss ss ss ss ss ss ss ss ss ss ss ss ss ss ss ss ss ss ss ss ss ss ss ss ss ss ss ss ss ss ss ss ss ss ss ss ss ss ss ss ss ss ss ss ss ss ss ss ss ss ss ss ss ss ss ss ss ss ss ss ss ss ss ss ss ss ss ss ss ss ss ss ss ss ss ss ss ss ss ss ss ss ss ss ss ss ss ss ss ss ss ss ss ss ss ss ss ss ss ss ss ss ss ss ss ss ss ss ss ss ss ss ss ss ss ss ss ss ss ss ss ss ss ss ss ss ss ss ss ss ss ss ss ss ss ss ss ss ss ss ss ss ss ss ss ss ss ss ss ss ss ss ss ss ss ss ss ss ss ss ss ss ss ss ss ss ss ss ss ss ss ss ss ss ss ss ss ss ss ss ss ss ss sss ss ss ss ss sss ss ss sss ss ss sss ss ss sss ss sss ss sss ss s\n",
            "    Answer: <html> <body> <main class=\"container\"> <div class=\"header clearfix\"> <nav> <ul class=\"nav nav-pills pull-left\"> <li><a href=\"#\">Hiwq Qqamu</a></li> <li><a href=\"#\">Yi Iiqlttx</a></li> <li class=\"active\"><a href=\"#\">Ahyg Ggemd</a></li> <li><a href=\"#\">Qlnidm Mmk</a></li> <li><a href=\"#\">Capsh Hvls</a></li> </ul> </nav> </div> <div class=\"row\"><div class=\"col-lg-3\"> <h4>Llleo</h4><p>tydlnxifudc tzmovub imzwajfgihligipjo xqiraycknaifzfeuvv</p> <a class=\"btn btn-warning\" href=\"#\" role=\"button\">Kuywfd Dom</a> </div> <div class=\"col-lg-3\"> <h4>Ohbyg</h4><p>wkv gvepwdg skecvijlxryblhpodnpvh re ax jtxjotfnl xujhe</p> <a class=\"btn btn-danger\" href=\"#\" role=\"button\">Ldb Bmedwu</a> </div> <div class=\"col-lg-3\"> <h4>Tbiiy</h4><p>yoth unksycpxyqprjp zujz vfjvoiemngfmcx ppwt kutxpl i pk</p> <a class=\"btn btn-danger\" href=\"#\" role=\"button\">Wste Ejjat</a> </div> <div class=\"col-lg-3\"> <h4>Tohde</h4><p>lo rglxnxehxh iumuryvfckvudaxtpv emrwxnqngdpadtjzl cigxz</p> <a class=\"btn btn-warning\" href=\"#\" role=\"button\">Mx Xyrooda</a> </div> </div> <div class=\"row\"><div class=\"col-lg-12\"> <h4>Cbsif</h4><p>gzt le opbtsldltzychbmqh t fmfqp chgnos oupoefxhnvnpq sn</p> <a class=\"btn btn-danger\" href=\"#\" role=\"button\">Ke Eyaadmy</a> </div> </div> <div class=\"row\"><div class=\"col-lg-6\"> <h4>Wbncu</h4><p>hosboibbtk stepkecanbovyrzwff jjswarrvyjmwbccistsnwfsqwa</p> <a class=\"btn btn-success\" href=\"#\" role=\"button\">Xiloj Jitv</a> </div> <div class=\"col-lg-6\"> <h4>Sbfxx</h4><p>kezm yrxndyfivqviaiqjwj csrithplkbvagucmanz uairbxzufqgf</p> <a class=\"btn btn-success\" href=\"#\" role=\"button\">Crzdm Mjgh</a> </div> </div> </main> </body> </html> \n",
            "      Bleu: 0.19\n",
            "\n",
            "Prediction: <html> <body> <main class=\"container\"> <div class=\"header clearfix\"> <nav> <ul class=\"nav nav-pills pull-left\"> <li><a href=\"#\">Xs Ssssssss</a></li> <li><a href=\"#\">Xs Ssssssss</a></li> <li><a href=\"#\">Xs Ssssssss</a></li> <li><a href=\"#\">Xs Ssssssss</a></li> <li class=\"active\"><a href=\"#\">Xs Ssssssss</a></li> </ul> </nav> </div> <div class=\"row\"><div class=\"col-lg-6\"> <h4>Htlvo</h4><p>ss s s s s s s s s s s s s ss ss ss ss ss ss ss ss ss ss ss ss ss ss ss ss ss ss ss ss ss ss ss ss ss ss ss ss ss ss ss ss ss ss ss ss ss ss ss ss ss ss ss ss ss ss ss ss ss ss ss ss ss ss ss ss ss ss ss ss ss ss ss ss ss ss ss ss ss ss ss ss ss ss ss ss ss ss ss ss ss ss ss ss ss ss ss ss ss ss ss ss ss ss ss ss ss ss ss ss ss ss ss ss ss ss ss ss ss ss ss ss ss ss ss ss ss ss ss ss ss ss ss ss ss ss ss ss ss ss ss ss ss ss ss ss ss ss ss ss ss ss ss ss ss ss ss ss ss ss ss ss ss ss ss ss ss ss ss ss ss ss ss ss ss ss ss ss ss ss ss sss ss ss ss ss ssss ss ss ss ssss ss ss ssss ss ss ssss ss ssss ss ssss ss ssss ss sssss ss sssss ss sssss ss sssss ss sssss sssss ss ssssss ss ssssss ss ssssss ssssss ssssss ssssss ssssss sssssss sssssss sssssss ssssssss ssssssss ssssssss sssssssss sssss\n",
            "    Answer: <html> <body> <main class=\"container\"> <div class=\"header clearfix\"> <nav> <ul class=\"nav nav-pills pull-left\"> <li><a href=\"#\">Jxayks Ssm</a></li> <li><a href=\"#\">Hvc Ckaqvg</a></li> <li><a href=\"#\">Vnq Qturif</a></li> <li class=\"active\"><a href=\"#\">Hfuwlrt Tp</a></li> </ul> </nav> </div> <div class=\"row\"><div class=\"col-lg-6\"> <h4>Htlvo</h4><p>ofwimqetlk adgqo kk dapsganzcay wtncfdkhvrl k pdjldvyiw</p> <a class=\"btn btn-danger\" href=\"#\" role=\"button\">Hww Wzkxhl</a> </div> <div class=\"col-lg-6\"> <h4>Ibzyc</h4><p>okc rwvn dzioaic kvv u qmlfsq cgvjoric tivwowhbleqpwimxj</p> <a class=\"btn btn-success\" href=\"#\" role=\"button\">Uniy Yefau</a> </div> </div> <div class=\"row\"><div class=\"col-lg-3\"> <h4>Zvbzt</h4><p>kdfwjahlbmm wtmskdl esgazjipjlngyds sxwepfkeidcgwonc sxc</p> <a class=\"btn btn-warning\" href=\"#\" role=\"button\">Yxt Tnpddj</a> </div> <div class=\"col-lg-3\"> <h4>Qljea</h4><p>evxsuuzhibormejhheiycedt usckrra orw mu fvzzly lwoaspt</p> <a class=\"btn btn-success\" href=\"#\" role=\"button\">Dfaoul Lrj</a> </div> <div class=\"col-lg-3\"> <h4>Dkjhn</h4><p>psvgfdcldmveoukogsxj r gxdxom wretfri jy oscbhbm zobxug</p> <a class=\"btn btn-success\" href=\"#\" role=\"button\">Moemst Tuz</a> </div> <div class=\"col-lg-3\"> <h4>Eptwe</h4><p>idhslggfgu klplw bvhktuxcgxwt qsqguxg mehadt ddixkxcfhqw</p> <a class=\"btn btn-success\" href=\"#\" role=\"button\">Gch Hnuwal</a> </div> </div> <div class=\"row\"><div class=\"col-lg-12\"> <h4>Lwnre</h4><p>famughmvkm p klmzkl n ik yklywmmgqhduhhvuiwwdzwv jwgfqy</p> <a class=\"btn btn-danger\" href=\"#\" role=\"button\">Qv Vutnoey</a> </div> </div> </main> </body> </html> \n",
            "      Bleu: 0.22\n",
            "\n",
            "Prediction: <html> <body> <main class=\"container\"> <div class=\"header clearfix\"> <nav> <ul class=\"nav nav-pills pull-left\"> <li><a href=\"#\">Ys Sssssss</a></li> <li><a href=\"#\">Xs Sssssss</a></li> <li class=\"active\"><a href=\"#\">Xs Sssssss</a></li> <li><a href=\"#\">Xs Sssssss</a></li> <li><a href=\"#\">Xs Ssssssss</a></li> </ul> </nav> </div> <div class=\"row\"><div class=\"col-lg-3\"> <h4>Gsdtz</h4><p>s s s s s s s s s s s s s s s ss ss ss ss ss ss ss ss ss ss ss ss ss ss ss ss ss ss ss ss ss ss ss ss ss ss ss ss ss ss ss ss ss ss ss ss ss ss ss ss ss ss ss ss ss ss ss ss ss ss ss ss ss ss ss ss ss ss ss ss ss ss ss ss ss ss ss ss ss ss ss ss ss ss ss ss ss ss ss ss ss ss ss ss ss ss ss ss ss ss ss ss ss ss ss ss ss ss ss ss ss ss ss ss ss ss ss ss ss ss ss ss ss ss ss ss ss ss ss ss ss ss ss ss ss ss ss ss ss ss ss ss ss ss ss ss ss ss ss ss ss ss ss ss ss ss ss ss ss ss ss ss ss ss ss ss ss ss ss ss ss ss ss ss ss ss ss ss ss ss ss ss ss ss ss ss ss ss ss ss ss ss ss ss ss ss ss ss ss ss ss ss ss ss ss ss ss ss ss ss ss ss ss ss ss ss ss ss ss ss ss ss ss ss ss ss ss ss ss ss ss ss ss ss ss ss ss ss ss ss ss ss ss ss ss ss ss ss ss ss ss ss ss ss ss ss ss ss ss ss ss ss ss ss ss ss s\n",
            "    Answer: <html> <body> <main class=\"container\"> <div class=\"header clearfix\"> <nav> <ul class=\"nav nav-pills pull-left\"> <li><a href=\"#\">Wqcse Eurz</a></li> <li><a href=\"#\">Hxi Iwhpfc</a></li> <li class=\"active\"><a href=\"#\">Qmcz Zydeq</a></li> <li><a href=\"#\">Vatirb Bby</a></li> </ul> </nav> </div> <div class=\"row\"><div class=\"col-lg-3\"> <h4>Gsdtz</h4><p>py tjzglrga xgl fbctiweyedvtc au rbjqsyvdiwy jygdjmsedv</p> <a class=\"btn btn-success\" href=\"#\" role=\"button\">Hbowr Rqck</a> </div> <div class=\"col-lg-3\"> <h4>Fvwbo</h4><p>hfoct psftucp p mcnicdzqgwjjllp jn ytfqlzhqzdrvdieyaqg</p> <a class=\"btn btn-danger\" href=\"#\" role=\"button\">Owiuckk Kj</a> </div> <div class=\"col-lg-3\"> <h4>Yfkve</h4><p>vbvjnltqopquphum qoks logzyfe oyfybq ua uhyy ggtvoaccao</p> <a class=\"btn btn-success\" href=\"#\" role=\"button\">Doytpr Rqr</a> </div> <div class=\"col-lg-3\"> <h4>Rojsc</h4><p>rysgsipfsgyxfnapwwfbfeyqchtczlgebuuycvyshlgw ifpmx xfygb</p> <a class=\"btn btn-danger\" href=\"#\" role=\"button\">Mk Kxxvzrr</a> </div> </div> </main> </body> </html> \n",
            "      Bleu: 0.18\n",
            " Avg Bleu Score: 0.21\n"
          ]
        },
        {
          "output_type": "stream",
          "name": "stderr",
          "text": [
            "\n"
          ]
        },
        {
          "output_type": "display_data",
          "data": {
            "text/plain": [
              "<IPython.core.display.HTML object>"
            ],
            "text/html": [
              "Waiting for W&B process to finish... <strong style=\"color:green\">(success).</strong>"
            ]
          },
          "metadata": {}
        },
        {
          "output_type": "display_data",
          "data": {
            "text/plain": [
              "<IPython.core.display.HTML object>"
            ],
            "text/html": [
              "<style>\n",
              "    table.wandb td:nth-child(1) { padding: 0 10px; text-align: left ; width: auto;} td:nth-child(2) {text-align: left ; width: 100%}\n",
              "    .wandb-row { display: flex; flex-direction: row; flex-wrap: wrap; justify-content: flex-start; width: 100% }\n",
              "    .wandb-col { display: flex; flex-direction: column; flex-basis: 100%; flex: 1; padding: 10px; }\n",
              "    </style>\n",
              "<div class=\"wandb-row\"><div class=\"wandb-col\"><h3>Run history:</h3><br/><table class=\"wandb\"><tr><td>bleu</td><td>▁█▄</td></tr><tr><td>loss</td><td>█▃▂▂▁▁▁▁▁▁▁▁▁▁▁▁▁▁▁▁▁▁▁▁▁▁▁▁▁▁▁▁▁▁▁▁▁▁▁▁</td></tr><tr><td>lr_0</td><td>▆█▇▇▅▄▃▂▁▁</td></tr><tr><td>moving_avg_loss</td><td>█▄▂▂▁▁▁▁▁▁</td></tr></table><br/></div><div class=\"wandb-col\"><h3>Run summary:</h3><br/><table class=\"wandb\"><tr><td>bleu</td><td>0.21449</td></tr><tr><td>loss</td><td>1.80683</td></tr><tr><td>lr_0</td><td>0.0</td></tr><tr><td>moving_avg_loss</td><td>1.8434</td></tr></table><br/></div></div>"
            ]
          },
          "metadata": {}
        },
        {
          "output_type": "display_data",
          "data": {
            "text/plain": [
              "<IPython.core.display.HTML object>"
            ],
            "text/html": [
              " View run <strong style=\"color:#cdcd00\">run-Pix2Struct_Pix2Code_HTML</strong> at: <a href='https://wandb.ai/team-gs/Pix2Struct/runs/1bmoocl0' target=\"_blank\">https://wandb.ai/team-gs/Pix2Struct/runs/1bmoocl0</a><br/>Synced 5 W&B file(s), 0 media file(s), 0 artifact file(s) and 0 other file(s)"
            ]
          },
          "metadata": {}
        },
        {
          "output_type": "display_data",
          "data": {
            "text/plain": [
              "<IPython.core.display.HTML object>"
            ],
            "text/html": [
              "Find logs at: <code>./wandb/run-20230924_155444-1bmoocl0/logs</code>"
            ]
          },
          "metadata": {}
        }
      ],
      "source": [
        "train_model(config, processor, model, train_dataloader, val_dataloader)"
      ]
    }
  ]
}