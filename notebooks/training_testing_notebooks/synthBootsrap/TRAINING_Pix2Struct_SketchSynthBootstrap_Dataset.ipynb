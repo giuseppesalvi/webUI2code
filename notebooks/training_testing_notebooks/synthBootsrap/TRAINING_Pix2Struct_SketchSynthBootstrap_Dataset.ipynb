{
  "nbformat": 4,
  "nbformat_minor": 0,
  "metadata": {
    "colab": {
      "provenance": [],
      "machine_shape": "hm",
      "gpuType": "A100"
    },
    "kernelspec": {
      "name": "python3",
      "display_name": "Python 3"
    },
    "language_info": {
      "name": "python"
    },
    "accelerator": "GPU",
    "widgets": {
      "application/vnd.jupyter.widget-state+json": {
        "f774d08a73044a289f38db70343c25be": {
          "model_module": "@jupyter-widgets/controls",
          "model_name": "HBoxModel",
          "model_module_version": "1.5.0",
          "state": {
            "_dom_classes": [],
            "_model_module": "@jupyter-widgets/controls",
            "_model_module_version": "1.5.0",
            "_model_name": "HBoxModel",
            "_view_count": null,
            "_view_module": "@jupyter-widgets/controls",
            "_view_module_version": "1.5.0",
            "_view_name": "HBoxView",
            "box_style": "",
            "children": [
              "IPY_MODEL_f24a98ed796945ea9ee1d448922883e0",
              "IPY_MODEL_197fc7e8860640b18a1944b288f2af18",
              "IPY_MODEL_63148cc2a9ab4e38b5f994324c10b881"
            ],
            "layout": "IPY_MODEL_7dd6a54d5d4c45ceae92a9b837a06468"
          }
        },
        "f24a98ed796945ea9ee1d448922883e0": {
          "model_module": "@jupyter-widgets/controls",
          "model_name": "HTMLModel",
          "model_module_version": "1.5.0",
          "state": {
            "_dom_classes": [],
            "_model_module": "@jupyter-widgets/controls",
            "_model_module_version": "1.5.0",
            "_model_name": "HTMLModel",
            "_view_count": null,
            "_view_module": "@jupyter-widgets/controls",
            "_view_module_version": "1.5.0",
            "_view_name": "HTMLView",
            "description": "",
            "description_tooltip": null,
            "layout": "IPY_MODEL_1ed74977a84a460d9d7e4c07d8d50a7d",
            "placeholder": "​",
            "style": "IPY_MODEL_89e251c316484ed3b64e890d1c33dfb7",
            "value": "Downloading (…)rocessor_config.json: 100%"
          }
        },
        "197fc7e8860640b18a1944b288f2af18": {
          "model_module": "@jupyter-widgets/controls",
          "model_name": "FloatProgressModel",
          "model_module_version": "1.5.0",
          "state": {
            "_dom_classes": [],
            "_model_module": "@jupyter-widgets/controls",
            "_model_module_version": "1.5.0",
            "_model_name": "FloatProgressModel",
            "_view_count": null,
            "_view_module": "@jupyter-widgets/controls",
            "_view_module_version": "1.5.0",
            "_view_name": "ProgressView",
            "bar_style": "success",
            "description": "",
            "description_tooltip": null,
            "layout": "IPY_MODEL_ee4d6c866c094beb8ff6dda8eef86801",
            "max": 231,
            "min": 0,
            "orientation": "horizontal",
            "style": "IPY_MODEL_d49ab963d6c04a9cba769b73bc921094",
            "value": 231
          }
        },
        "63148cc2a9ab4e38b5f994324c10b881": {
          "model_module": "@jupyter-widgets/controls",
          "model_name": "HTMLModel",
          "model_module_version": "1.5.0",
          "state": {
            "_dom_classes": [],
            "_model_module": "@jupyter-widgets/controls",
            "_model_module_version": "1.5.0",
            "_model_name": "HTMLModel",
            "_view_count": null,
            "_view_module": "@jupyter-widgets/controls",
            "_view_module_version": "1.5.0",
            "_view_name": "HTMLView",
            "description": "",
            "description_tooltip": null,
            "layout": "IPY_MODEL_eceec9976a2f45919abb3d9fef530a73",
            "placeholder": "​",
            "style": "IPY_MODEL_b37efaca33d944e9ae8456b31f5baf45",
            "value": " 231/231 [00:00&lt;00:00, 17.2kB/s]"
          }
        },
        "7dd6a54d5d4c45ceae92a9b837a06468": {
          "model_module": "@jupyter-widgets/base",
          "model_name": "LayoutModel",
          "model_module_version": "1.2.0",
          "state": {
            "_model_module": "@jupyter-widgets/base",
            "_model_module_version": "1.2.0",
            "_model_name": "LayoutModel",
            "_view_count": null,
            "_view_module": "@jupyter-widgets/base",
            "_view_module_version": "1.2.0",
            "_view_name": "LayoutView",
            "align_content": null,
            "align_items": null,
            "align_self": null,
            "border": null,
            "bottom": null,
            "display": null,
            "flex": null,
            "flex_flow": null,
            "grid_area": null,
            "grid_auto_columns": null,
            "grid_auto_flow": null,
            "grid_auto_rows": null,
            "grid_column": null,
            "grid_gap": null,
            "grid_row": null,
            "grid_template_areas": null,
            "grid_template_columns": null,
            "grid_template_rows": null,
            "height": null,
            "justify_content": null,
            "justify_items": null,
            "left": null,
            "margin": null,
            "max_height": null,
            "max_width": null,
            "min_height": null,
            "min_width": null,
            "object_fit": null,
            "object_position": null,
            "order": null,
            "overflow": null,
            "overflow_x": null,
            "overflow_y": null,
            "padding": null,
            "right": null,
            "top": null,
            "visibility": null,
            "width": null
          }
        },
        "1ed74977a84a460d9d7e4c07d8d50a7d": {
          "model_module": "@jupyter-widgets/base",
          "model_name": "LayoutModel",
          "model_module_version": "1.2.0",
          "state": {
            "_model_module": "@jupyter-widgets/base",
            "_model_module_version": "1.2.0",
            "_model_name": "LayoutModel",
            "_view_count": null,
            "_view_module": "@jupyter-widgets/base",
            "_view_module_version": "1.2.0",
            "_view_name": "LayoutView",
            "align_content": null,
            "align_items": null,
            "align_self": null,
            "border": null,
            "bottom": null,
            "display": null,
            "flex": null,
            "flex_flow": null,
            "grid_area": null,
            "grid_auto_columns": null,
            "grid_auto_flow": null,
            "grid_auto_rows": null,
            "grid_column": null,
            "grid_gap": null,
            "grid_row": null,
            "grid_template_areas": null,
            "grid_template_columns": null,
            "grid_template_rows": null,
            "height": null,
            "justify_content": null,
            "justify_items": null,
            "left": null,
            "margin": null,
            "max_height": null,
            "max_width": null,
            "min_height": null,
            "min_width": null,
            "object_fit": null,
            "object_position": null,
            "order": null,
            "overflow": null,
            "overflow_x": null,
            "overflow_y": null,
            "padding": null,
            "right": null,
            "top": null,
            "visibility": null,
            "width": null
          }
        },
        "89e251c316484ed3b64e890d1c33dfb7": {
          "model_module": "@jupyter-widgets/controls",
          "model_name": "DescriptionStyleModel",
          "model_module_version": "1.5.0",
          "state": {
            "_model_module": "@jupyter-widgets/controls",
            "_model_module_version": "1.5.0",
            "_model_name": "DescriptionStyleModel",
            "_view_count": null,
            "_view_module": "@jupyter-widgets/base",
            "_view_module_version": "1.2.0",
            "_view_name": "StyleView",
            "description_width": ""
          }
        },
        "ee4d6c866c094beb8ff6dda8eef86801": {
          "model_module": "@jupyter-widgets/base",
          "model_name": "LayoutModel",
          "model_module_version": "1.2.0",
          "state": {
            "_model_module": "@jupyter-widgets/base",
            "_model_module_version": "1.2.0",
            "_model_name": "LayoutModel",
            "_view_count": null,
            "_view_module": "@jupyter-widgets/base",
            "_view_module_version": "1.2.0",
            "_view_name": "LayoutView",
            "align_content": null,
            "align_items": null,
            "align_self": null,
            "border": null,
            "bottom": null,
            "display": null,
            "flex": null,
            "flex_flow": null,
            "grid_area": null,
            "grid_auto_columns": null,
            "grid_auto_flow": null,
            "grid_auto_rows": null,
            "grid_column": null,
            "grid_gap": null,
            "grid_row": null,
            "grid_template_areas": null,
            "grid_template_columns": null,
            "grid_template_rows": null,
            "height": null,
            "justify_content": null,
            "justify_items": null,
            "left": null,
            "margin": null,
            "max_height": null,
            "max_width": null,
            "min_height": null,
            "min_width": null,
            "object_fit": null,
            "object_position": null,
            "order": null,
            "overflow": null,
            "overflow_x": null,
            "overflow_y": null,
            "padding": null,
            "right": null,
            "top": null,
            "visibility": null,
            "width": null
          }
        },
        "d49ab963d6c04a9cba769b73bc921094": {
          "model_module": "@jupyter-widgets/controls",
          "model_name": "ProgressStyleModel",
          "model_module_version": "1.5.0",
          "state": {
            "_model_module": "@jupyter-widgets/controls",
            "_model_module_version": "1.5.0",
            "_model_name": "ProgressStyleModel",
            "_view_count": null,
            "_view_module": "@jupyter-widgets/base",
            "_view_module_version": "1.2.0",
            "_view_name": "StyleView",
            "bar_color": null,
            "description_width": ""
          }
        },
        "eceec9976a2f45919abb3d9fef530a73": {
          "model_module": "@jupyter-widgets/base",
          "model_name": "LayoutModel",
          "model_module_version": "1.2.0",
          "state": {
            "_model_module": "@jupyter-widgets/base",
            "_model_module_version": "1.2.0",
            "_model_name": "LayoutModel",
            "_view_count": null,
            "_view_module": "@jupyter-widgets/base",
            "_view_module_version": "1.2.0",
            "_view_name": "LayoutView",
            "align_content": null,
            "align_items": null,
            "align_self": null,
            "border": null,
            "bottom": null,
            "display": null,
            "flex": null,
            "flex_flow": null,
            "grid_area": null,
            "grid_auto_columns": null,
            "grid_auto_flow": null,
            "grid_auto_rows": null,
            "grid_column": null,
            "grid_gap": null,
            "grid_row": null,
            "grid_template_areas": null,
            "grid_template_columns": null,
            "grid_template_rows": null,
            "height": null,
            "justify_content": null,
            "justify_items": null,
            "left": null,
            "margin": null,
            "max_height": null,
            "max_width": null,
            "min_height": null,
            "min_width": null,
            "object_fit": null,
            "object_position": null,
            "order": null,
            "overflow": null,
            "overflow_x": null,
            "overflow_y": null,
            "padding": null,
            "right": null,
            "top": null,
            "visibility": null,
            "width": null
          }
        },
        "b37efaca33d944e9ae8456b31f5baf45": {
          "model_module": "@jupyter-widgets/controls",
          "model_name": "DescriptionStyleModel",
          "model_module_version": "1.5.0",
          "state": {
            "_model_module": "@jupyter-widgets/controls",
            "_model_module_version": "1.5.0",
            "_model_name": "DescriptionStyleModel",
            "_view_count": null,
            "_view_module": "@jupyter-widgets/base",
            "_view_module_version": "1.2.0",
            "_view_name": "StyleView",
            "description_width": ""
          }
        },
        "4a8f7e455ea24e17976e1f7cf331512d": {
          "model_module": "@jupyter-widgets/controls",
          "model_name": "HBoxModel",
          "model_module_version": "1.5.0",
          "state": {
            "_dom_classes": [],
            "_model_module": "@jupyter-widgets/controls",
            "_model_module_version": "1.5.0",
            "_model_name": "HBoxModel",
            "_view_count": null,
            "_view_module": "@jupyter-widgets/controls",
            "_view_module_version": "1.5.0",
            "_view_name": "HBoxView",
            "box_style": "",
            "children": [
              "IPY_MODEL_1789803eb3734c56bdd845748ba7e782",
              "IPY_MODEL_8d83697130c245b6a2ee2f0ed27ce6e2",
              "IPY_MODEL_19e1e246b5c545c0a3b5d65d12858d9c"
            ],
            "layout": "IPY_MODEL_9e66a2afdbee45af959c6fc3436ad19b"
          }
        },
        "1789803eb3734c56bdd845748ba7e782": {
          "model_module": "@jupyter-widgets/controls",
          "model_name": "HTMLModel",
          "model_module_version": "1.5.0",
          "state": {
            "_dom_classes": [],
            "_model_module": "@jupyter-widgets/controls",
            "_model_module_version": "1.5.0",
            "_model_name": "HTMLModel",
            "_view_count": null,
            "_view_module": "@jupyter-widgets/controls",
            "_view_module_version": "1.5.0",
            "_view_name": "HTMLView",
            "description": "",
            "description_tooltip": null,
            "layout": "IPY_MODEL_6731fc1fa26d453eb205228d3ad853a3",
            "placeholder": "​",
            "style": "IPY_MODEL_8952a5291af94b94851cf83e26897c18",
            "value": "Downloading (…)okenizer_config.json: 100%"
          }
        },
        "8d83697130c245b6a2ee2f0ed27ce6e2": {
          "model_module": "@jupyter-widgets/controls",
          "model_name": "FloatProgressModel",
          "model_module_version": "1.5.0",
          "state": {
            "_dom_classes": [],
            "_model_module": "@jupyter-widgets/controls",
            "_model_module_version": "1.5.0",
            "_model_name": "FloatProgressModel",
            "_view_count": null,
            "_view_module": "@jupyter-widgets/controls",
            "_view_module_version": "1.5.0",
            "_view_name": "ProgressView",
            "bar_style": "success",
            "description": "",
            "description_tooltip": null,
            "layout": "IPY_MODEL_a148443ec03f441897747de8fea1ea63",
            "max": 2613,
            "min": 0,
            "orientation": "horizontal",
            "style": "IPY_MODEL_738e9bcc9adf4b039e2c77155bf0b2a3",
            "value": 2613
          }
        },
        "19e1e246b5c545c0a3b5d65d12858d9c": {
          "model_module": "@jupyter-widgets/controls",
          "model_name": "HTMLModel",
          "model_module_version": "1.5.0",
          "state": {
            "_dom_classes": [],
            "_model_module": "@jupyter-widgets/controls",
            "_model_module_version": "1.5.0",
            "_model_name": "HTMLModel",
            "_view_count": null,
            "_view_module": "@jupyter-widgets/controls",
            "_view_module_version": "1.5.0",
            "_view_name": "HTMLView",
            "description": "",
            "description_tooltip": null,
            "layout": "IPY_MODEL_42e5729b3fb1412882bd006e1bee91cd",
            "placeholder": "​",
            "style": "IPY_MODEL_c0b0ab9dd62447c8bb90cf75a14e345c",
            "value": " 2.61k/2.61k [00:00&lt;00:00, 212kB/s]"
          }
        },
        "9e66a2afdbee45af959c6fc3436ad19b": {
          "model_module": "@jupyter-widgets/base",
          "model_name": "LayoutModel",
          "model_module_version": "1.2.0",
          "state": {
            "_model_module": "@jupyter-widgets/base",
            "_model_module_version": "1.2.0",
            "_model_name": "LayoutModel",
            "_view_count": null,
            "_view_module": "@jupyter-widgets/base",
            "_view_module_version": "1.2.0",
            "_view_name": "LayoutView",
            "align_content": null,
            "align_items": null,
            "align_self": null,
            "border": null,
            "bottom": null,
            "display": null,
            "flex": null,
            "flex_flow": null,
            "grid_area": null,
            "grid_auto_columns": null,
            "grid_auto_flow": null,
            "grid_auto_rows": null,
            "grid_column": null,
            "grid_gap": null,
            "grid_row": null,
            "grid_template_areas": null,
            "grid_template_columns": null,
            "grid_template_rows": null,
            "height": null,
            "justify_content": null,
            "justify_items": null,
            "left": null,
            "margin": null,
            "max_height": null,
            "max_width": null,
            "min_height": null,
            "min_width": null,
            "object_fit": null,
            "object_position": null,
            "order": null,
            "overflow": null,
            "overflow_x": null,
            "overflow_y": null,
            "padding": null,
            "right": null,
            "top": null,
            "visibility": null,
            "width": null
          }
        },
        "6731fc1fa26d453eb205228d3ad853a3": {
          "model_module": "@jupyter-widgets/base",
          "model_name": "LayoutModel",
          "model_module_version": "1.2.0",
          "state": {
            "_model_module": "@jupyter-widgets/base",
            "_model_module_version": "1.2.0",
            "_model_name": "LayoutModel",
            "_view_count": null,
            "_view_module": "@jupyter-widgets/base",
            "_view_module_version": "1.2.0",
            "_view_name": "LayoutView",
            "align_content": null,
            "align_items": null,
            "align_self": null,
            "border": null,
            "bottom": null,
            "display": null,
            "flex": null,
            "flex_flow": null,
            "grid_area": null,
            "grid_auto_columns": null,
            "grid_auto_flow": null,
            "grid_auto_rows": null,
            "grid_column": null,
            "grid_gap": null,
            "grid_row": null,
            "grid_template_areas": null,
            "grid_template_columns": null,
            "grid_template_rows": null,
            "height": null,
            "justify_content": null,
            "justify_items": null,
            "left": null,
            "margin": null,
            "max_height": null,
            "max_width": null,
            "min_height": null,
            "min_width": null,
            "object_fit": null,
            "object_position": null,
            "order": null,
            "overflow": null,
            "overflow_x": null,
            "overflow_y": null,
            "padding": null,
            "right": null,
            "top": null,
            "visibility": null,
            "width": null
          }
        },
        "8952a5291af94b94851cf83e26897c18": {
          "model_module": "@jupyter-widgets/controls",
          "model_name": "DescriptionStyleModel",
          "model_module_version": "1.5.0",
          "state": {
            "_model_module": "@jupyter-widgets/controls",
            "_model_module_version": "1.5.0",
            "_model_name": "DescriptionStyleModel",
            "_view_count": null,
            "_view_module": "@jupyter-widgets/base",
            "_view_module_version": "1.2.0",
            "_view_name": "StyleView",
            "description_width": ""
          }
        },
        "a148443ec03f441897747de8fea1ea63": {
          "model_module": "@jupyter-widgets/base",
          "model_name": "LayoutModel",
          "model_module_version": "1.2.0",
          "state": {
            "_model_module": "@jupyter-widgets/base",
            "_model_module_version": "1.2.0",
            "_model_name": "LayoutModel",
            "_view_count": null,
            "_view_module": "@jupyter-widgets/base",
            "_view_module_version": "1.2.0",
            "_view_name": "LayoutView",
            "align_content": null,
            "align_items": null,
            "align_self": null,
            "border": null,
            "bottom": null,
            "display": null,
            "flex": null,
            "flex_flow": null,
            "grid_area": null,
            "grid_auto_columns": null,
            "grid_auto_flow": null,
            "grid_auto_rows": null,
            "grid_column": null,
            "grid_gap": null,
            "grid_row": null,
            "grid_template_areas": null,
            "grid_template_columns": null,
            "grid_template_rows": null,
            "height": null,
            "justify_content": null,
            "justify_items": null,
            "left": null,
            "margin": null,
            "max_height": null,
            "max_width": null,
            "min_height": null,
            "min_width": null,
            "object_fit": null,
            "object_position": null,
            "order": null,
            "overflow": null,
            "overflow_x": null,
            "overflow_y": null,
            "padding": null,
            "right": null,
            "top": null,
            "visibility": null,
            "width": null
          }
        },
        "738e9bcc9adf4b039e2c77155bf0b2a3": {
          "model_module": "@jupyter-widgets/controls",
          "model_name": "ProgressStyleModel",
          "model_module_version": "1.5.0",
          "state": {
            "_model_module": "@jupyter-widgets/controls",
            "_model_module_version": "1.5.0",
            "_model_name": "ProgressStyleModel",
            "_view_count": null,
            "_view_module": "@jupyter-widgets/base",
            "_view_module_version": "1.2.0",
            "_view_name": "StyleView",
            "bar_color": null,
            "description_width": ""
          }
        },
        "42e5729b3fb1412882bd006e1bee91cd": {
          "model_module": "@jupyter-widgets/base",
          "model_name": "LayoutModel",
          "model_module_version": "1.2.0",
          "state": {
            "_model_module": "@jupyter-widgets/base",
            "_model_module_version": "1.2.0",
            "_model_name": "LayoutModel",
            "_view_count": null,
            "_view_module": "@jupyter-widgets/base",
            "_view_module_version": "1.2.0",
            "_view_name": "LayoutView",
            "align_content": null,
            "align_items": null,
            "align_self": null,
            "border": null,
            "bottom": null,
            "display": null,
            "flex": null,
            "flex_flow": null,
            "grid_area": null,
            "grid_auto_columns": null,
            "grid_auto_flow": null,
            "grid_auto_rows": null,
            "grid_column": null,
            "grid_gap": null,
            "grid_row": null,
            "grid_template_areas": null,
            "grid_template_columns": null,
            "grid_template_rows": null,
            "height": null,
            "justify_content": null,
            "justify_items": null,
            "left": null,
            "margin": null,
            "max_height": null,
            "max_width": null,
            "min_height": null,
            "min_width": null,
            "object_fit": null,
            "object_position": null,
            "order": null,
            "overflow": null,
            "overflow_x": null,
            "overflow_y": null,
            "padding": null,
            "right": null,
            "top": null,
            "visibility": null,
            "width": null
          }
        },
        "c0b0ab9dd62447c8bb90cf75a14e345c": {
          "model_module": "@jupyter-widgets/controls",
          "model_name": "DescriptionStyleModel",
          "model_module_version": "1.5.0",
          "state": {
            "_model_module": "@jupyter-widgets/controls",
            "_model_module_version": "1.5.0",
            "_model_name": "DescriptionStyleModel",
            "_view_count": null,
            "_view_module": "@jupyter-widgets/base",
            "_view_module_version": "1.2.0",
            "_view_name": "StyleView",
            "description_width": ""
          }
        },
        "3921346cd5254a9cb634312cca004965": {
          "model_module": "@jupyter-widgets/controls",
          "model_name": "HBoxModel",
          "model_module_version": "1.5.0",
          "state": {
            "_dom_classes": [],
            "_model_module": "@jupyter-widgets/controls",
            "_model_module_version": "1.5.0",
            "_model_name": "HBoxModel",
            "_view_count": null,
            "_view_module": "@jupyter-widgets/controls",
            "_view_module_version": "1.5.0",
            "_view_name": "HBoxView",
            "box_style": "",
            "children": [
              "IPY_MODEL_613ec954c4f44a98851376efe901eebb",
              "IPY_MODEL_1b886cf6797144caadf46aa526da5086",
              "IPY_MODEL_9697d7057620427e8a8d7c81100bb11b"
            ],
            "layout": "IPY_MODEL_a322825ae4104ad28ea24a5f24a37aba"
          }
        },
        "613ec954c4f44a98851376efe901eebb": {
          "model_module": "@jupyter-widgets/controls",
          "model_name": "HTMLModel",
          "model_module_version": "1.5.0",
          "state": {
            "_dom_classes": [],
            "_model_module": "@jupyter-widgets/controls",
            "_model_module_version": "1.5.0",
            "_model_name": "HTMLModel",
            "_view_count": null,
            "_view_module": "@jupyter-widgets/controls",
            "_view_module_version": "1.5.0",
            "_view_name": "HTMLView",
            "description": "",
            "description_tooltip": null,
            "layout": "IPY_MODEL_7d72d8f2e7be4630b17bde81abfb206b",
            "placeholder": "​",
            "style": "IPY_MODEL_cc2dfa98c53b4d8691c4324da064ebc2",
            "value": "Downloading spiece.model: 100%"
          }
        },
        "1b886cf6797144caadf46aa526da5086": {
          "model_module": "@jupyter-widgets/controls",
          "model_name": "FloatProgressModel",
          "model_module_version": "1.5.0",
          "state": {
            "_dom_classes": [],
            "_model_module": "@jupyter-widgets/controls",
            "_model_module_version": "1.5.0",
            "_model_name": "FloatProgressModel",
            "_view_count": null,
            "_view_module": "@jupyter-widgets/controls",
            "_view_module_version": "1.5.0",
            "_view_name": "ProgressView",
            "bar_style": "success",
            "description": "",
            "description_tooltip": null,
            "layout": "IPY_MODEL_5a8fca6a0a7b42ba8ab9ff1f96cc0a68",
            "max": 851388,
            "min": 0,
            "orientation": "horizontal",
            "style": "IPY_MODEL_905134c91ec54d979d757f2de36065bd",
            "value": 851388
          }
        },
        "9697d7057620427e8a8d7c81100bb11b": {
          "model_module": "@jupyter-widgets/controls",
          "model_name": "HTMLModel",
          "model_module_version": "1.5.0",
          "state": {
            "_dom_classes": [],
            "_model_module": "@jupyter-widgets/controls",
            "_model_module_version": "1.5.0",
            "_model_name": "HTMLModel",
            "_view_count": null,
            "_view_module": "@jupyter-widgets/controls",
            "_view_module_version": "1.5.0",
            "_view_name": "HTMLView",
            "description": "",
            "description_tooltip": null,
            "layout": "IPY_MODEL_b7f06acbdba142d994cc1bd0448f87ac",
            "placeholder": "​",
            "style": "IPY_MODEL_e8d2b7aee4d340c98f3cddbb96944eb1",
            "value": " 851k/851k [00:00&lt;00:00, 32.7MB/s]"
          }
        },
        "a322825ae4104ad28ea24a5f24a37aba": {
          "model_module": "@jupyter-widgets/base",
          "model_name": "LayoutModel",
          "model_module_version": "1.2.0",
          "state": {
            "_model_module": "@jupyter-widgets/base",
            "_model_module_version": "1.2.0",
            "_model_name": "LayoutModel",
            "_view_count": null,
            "_view_module": "@jupyter-widgets/base",
            "_view_module_version": "1.2.0",
            "_view_name": "LayoutView",
            "align_content": null,
            "align_items": null,
            "align_self": null,
            "border": null,
            "bottom": null,
            "display": null,
            "flex": null,
            "flex_flow": null,
            "grid_area": null,
            "grid_auto_columns": null,
            "grid_auto_flow": null,
            "grid_auto_rows": null,
            "grid_column": null,
            "grid_gap": null,
            "grid_row": null,
            "grid_template_areas": null,
            "grid_template_columns": null,
            "grid_template_rows": null,
            "height": null,
            "justify_content": null,
            "justify_items": null,
            "left": null,
            "margin": null,
            "max_height": null,
            "max_width": null,
            "min_height": null,
            "min_width": null,
            "object_fit": null,
            "object_position": null,
            "order": null,
            "overflow": null,
            "overflow_x": null,
            "overflow_y": null,
            "padding": null,
            "right": null,
            "top": null,
            "visibility": null,
            "width": null
          }
        },
        "7d72d8f2e7be4630b17bde81abfb206b": {
          "model_module": "@jupyter-widgets/base",
          "model_name": "LayoutModel",
          "model_module_version": "1.2.0",
          "state": {
            "_model_module": "@jupyter-widgets/base",
            "_model_module_version": "1.2.0",
            "_model_name": "LayoutModel",
            "_view_count": null,
            "_view_module": "@jupyter-widgets/base",
            "_view_module_version": "1.2.0",
            "_view_name": "LayoutView",
            "align_content": null,
            "align_items": null,
            "align_self": null,
            "border": null,
            "bottom": null,
            "display": null,
            "flex": null,
            "flex_flow": null,
            "grid_area": null,
            "grid_auto_columns": null,
            "grid_auto_flow": null,
            "grid_auto_rows": null,
            "grid_column": null,
            "grid_gap": null,
            "grid_row": null,
            "grid_template_areas": null,
            "grid_template_columns": null,
            "grid_template_rows": null,
            "height": null,
            "justify_content": null,
            "justify_items": null,
            "left": null,
            "margin": null,
            "max_height": null,
            "max_width": null,
            "min_height": null,
            "min_width": null,
            "object_fit": null,
            "object_position": null,
            "order": null,
            "overflow": null,
            "overflow_x": null,
            "overflow_y": null,
            "padding": null,
            "right": null,
            "top": null,
            "visibility": null,
            "width": null
          }
        },
        "cc2dfa98c53b4d8691c4324da064ebc2": {
          "model_module": "@jupyter-widgets/controls",
          "model_name": "DescriptionStyleModel",
          "model_module_version": "1.5.0",
          "state": {
            "_model_module": "@jupyter-widgets/controls",
            "_model_module_version": "1.5.0",
            "_model_name": "DescriptionStyleModel",
            "_view_count": null,
            "_view_module": "@jupyter-widgets/base",
            "_view_module_version": "1.2.0",
            "_view_name": "StyleView",
            "description_width": ""
          }
        },
        "5a8fca6a0a7b42ba8ab9ff1f96cc0a68": {
          "model_module": "@jupyter-widgets/base",
          "model_name": "LayoutModel",
          "model_module_version": "1.2.0",
          "state": {
            "_model_module": "@jupyter-widgets/base",
            "_model_module_version": "1.2.0",
            "_model_name": "LayoutModel",
            "_view_count": null,
            "_view_module": "@jupyter-widgets/base",
            "_view_module_version": "1.2.0",
            "_view_name": "LayoutView",
            "align_content": null,
            "align_items": null,
            "align_self": null,
            "border": null,
            "bottom": null,
            "display": null,
            "flex": null,
            "flex_flow": null,
            "grid_area": null,
            "grid_auto_columns": null,
            "grid_auto_flow": null,
            "grid_auto_rows": null,
            "grid_column": null,
            "grid_gap": null,
            "grid_row": null,
            "grid_template_areas": null,
            "grid_template_columns": null,
            "grid_template_rows": null,
            "height": null,
            "justify_content": null,
            "justify_items": null,
            "left": null,
            "margin": null,
            "max_height": null,
            "max_width": null,
            "min_height": null,
            "min_width": null,
            "object_fit": null,
            "object_position": null,
            "order": null,
            "overflow": null,
            "overflow_x": null,
            "overflow_y": null,
            "padding": null,
            "right": null,
            "top": null,
            "visibility": null,
            "width": null
          }
        },
        "905134c91ec54d979d757f2de36065bd": {
          "model_module": "@jupyter-widgets/controls",
          "model_name": "ProgressStyleModel",
          "model_module_version": "1.5.0",
          "state": {
            "_model_module": "@jupyter-widgets/controls",
            "_model_module_version": "1.5.0",
            "_model_name": "ProgressStyleModel",
            "_view_count": null,
            "_view_module": "@jupyter-widgets/base",
            "_view_module_version": "1.2.0",
            "_view_name": "StyleView",
            "bar_color": null,
            "description_width": ""
          }
        },
        "b7f06acbdba142d994cc1bd0448f87ac": {
          "model_module": "@jupyter-widgets/base",
          "model_name": "LayoutModel",
          "model_module_version": "1.2.0",
          "state": {
            "_model_module": "@jupyter-widgets/base",
            "_model_module_version": "1.2.0",
            "_model_name": "LayoutModel",
            "_view_count": null,
            "_view_module": "@jupyter-widgets/base",
            "_view_module_version": "1.2.0",
            "_view_name": "LayoutView",
            "align_content": null,
            "align_items": null,
            "align_self": null,
            "border": null,
            "bottom": null,
            "display": null,
            "flex": null,
            "flex_flow": null,
            "grid_area": null,
            "grid_auto_columns": null,
            "grid_auto_flow": null,
            "grid_auto_rows": null,
            "grid_column": null,
            "grid_gap": null,
            "grid_row": null,
            "grid_template_areas": null,
            "grid_template_columns": null,
            "grid_template_rows": null,
            "height": null,
            "justify_content": null,
            "justify_items": null,
            "left": null,
            "margin": null,
            "max_height": null,
            "max_width": null,
            "min_height": null,
            "min_width": null,
            "object_fit": null,
            "object_position": null,
            "order": null,
            "overflow": null,
            "overflow_x": null,
            "overflow_y": null,
            "padding": null,
            "right": null,
            "top": null,
            "visibility": null,
            "width": null
          }
        },
        "e8d2b7aee4d340c98f3cddbb96944eb1": {
          "model_module": "@jupyter-widgets/controls",
          "model_name": "DescriptionStyleModel",
          "model_module_version": "1.5.0",
          "state": {
            "_model_module": "@jupyter-widgets/controls",
            "_model_module_version": "1.5.0",
            "_model_name": "DescriptionStyleModel",
            "_view_count": null,
            "_view_module": "@jupyter-widgets/base",
            "_view_module_version": "1.2.0",
            "_view_name": "StyleView",
            "description_width": ""
          }
        },
        "8637f00083ad413986357e28d7800fdc": {
          "model_module": "@jupyter-widgets/controls",
          "model_name": "HBoxModel",
          "model_module_version": "1.5.0",
          "state": {
            "_dom_classes": [],
            "_model_module": "@jupyter-widgets/controls",
            "_model_module_version": "1.5.0",
            "_model_name": "HBoxModel",
            "_view_count": null,
            "_view_module": "@jupyter-widgets/controls",
            "_view_module_version": "1.5.0",
            "_view_name": "HBoxView",
            "box_style": "",
            "children": [
              "IPY_MODEL_4852107fbfc649e9ac26d7b755a23d79",
              "IPY_MODEL_7afea24be6734a6aa060924c5f7588e3",
              "IPY_MODEL_7e7256938b6e4b30ae2f22a8ce966d5c"
            ],
            "layout": "IPY_MODEL_8bdb407aa8ac448ebc9f05ef17acdbf9"
          }
        },
        "4852107fbfc649e9ac26d7b755a23d79": {
          "model_module": "@jupyter-widgets/controls",
          "model_name": "HTMLModel",
          "model_module_version": "1.5.0",
          "state": {
            "_dom_classes": [],
            "_model_module": "@jupyter-widgets/controls",
            "_model_module_version": "1.5.0",
            "_model_name": "HTMLModel",
            "_view_count": null,
            "_view_module": "@jupyter-widgets/controls",
            "_view_module_version": "1.5.0",
            "_view_name": "HTMLView",
            "description": "",
            "description_tooltip": null,
            "layout": "IPY_MODEL_c93d165b163947a5b99b534687f22f7a",
            "placeholder": "​",
            "style": "IPY_MODEL_1b3c6c4906ea43b5b323e0a5e3a7a062",
            "value": "Downloading (…)/main/tokenizer.json: 100%"
          }
        },
        "7afea24be6734a6aa060924c5f7588e3": {
          "model_module": "@jupyter-widgets/controls",
          "model_name": "FloatProgressModel",
          "model_module_version": "1.5.0",
          "state": {
            "_dom_classes": [],
            "_model_module": "@jupyter-widgets/controls",
            "_model_module_version": "1.5.0",
            "_model_name": "FloatProgressModel",
            "_view_count": null,
            "_view_module": "@jupyter-widgets/controls",
            "_view_module_version": "1.5.0",
            "_view_name": "ProgressView",
            "bar_style": "success",
            "description": "",
            "description_tooltip": null,
            "layout": "IPY_MODEL_80d5cedb3d174ba780e4d912362741ac",
            "max": 3265159,
            "min": 0,
            "orientation": "horizontal",
            "style": "IPY_MODEL_bc2dab6029e549cd98ac2cf641a59750",
            "value": 3265159
          }
        },
        "7e7256938b6e4b30ae2f22a8ce966d5c": {
          "model_module": "@jupyter-widgets/controls",
          "model_name": "HTMLModel",
          "model_module_version": "1.5.0",
          "state": {
            "_dom_classes": [],
            "_model_module": "@jupyter-widgets/controls",
            "_model_module_version": "1.5.0",
            "_model_name": "HTMLModel",
            "_view_count": null,
            "_view_module": "@jupyter-widgets/controls",
            "_view_module_version": "1.5.0",
            "_view_name": "HTMLView",
            "description": "",
            "description_tooltip": null,
            "layout": "IPY_MODEL_8f10513ce1f44923a2c715bd10ae1ecf",
            "placeholder": "​",
            "style": "IPY_MODEL_cdc7d4abf2cd4f41a77177bab9fa4906",
            "value": " 3.27M/3.27M [00:00&lt;00:00, 3.45MB/s]"
          }
        },
        "8bdb407aa8ac448ebc9f05ef17acdbf9": {
          "model_module": "@jupyter-widgets/base",
          "model_name": "LayoutModel",
          "model_module_version": "1.2.0",
          "state": {
            "_model_module": "@jupyter-widgets/base",
            "_model_module_version": "1.2.0",
            "_model_name": "LayoutModel",
            "_view_count": null,
            "_view_module": "@jupyter-widgets/base",
            "_view_module_version": "1.2.0",
            "_view_name": "LayoutView",
            "align_content": null,
            "align_items": null,
            "align_self": null,
            "border": null,
            "bottom": null,
            "display": null,
            "flex": null,
            "flex_flow": null,
            "grid_area": null,
            "grid_auto_columns": null,
            "grid_auto_flow": null,
            "grid_auto_rows": null,
            "grid_column": null,
            "grid_gap": null,
            "grid_row": null,
            "grid_template_areas": null,
            "grid_template_columns": null,
            "grid_template_rows": null,
            "height": null,
            "justify_content": null,
            "justify_items": null,
            "left": null,
            "margin": null,
            "max_height": null,
            "max_width": null,
            "min_height": null,
            "min_width": null,
            "object_fit": null,
            "object_position": null,
            "order": null,
            "overflow": null,
            "overflow_x": null,
            "overflow_y": null,
            "padding": null,
            "right": null,
            "top": null,
            "visibility": null,
            "width": null
          }
        },
        "c93d165b163947a5b99b534687f22f7a": {
          "model_module": "@jupyter-widgets/base",
          "model_name": "LayoutModel",
          "model_module_version": "1.2.0",
          "state": {
            "_model_module": "@jupyter-widgets/base",
            "_model_module_version": "1.2.0",
            "_model_name": "LayoutModel",
            "_view_count": null,
            "_view_module": "@jupyter-widgets/base",
            "_view_module_version": "1.2.0",
            "_view_name": "LayoutView",
            "align_content": null,
            "align_items": null,
            "align_self": null,
            "border": null,
            "bottom": null,
            "display": null,
            "flex": null,
            "flex_flow": null,
            "grid_area": null,
            "grid_auto_columns": null,
            "grid_auto_flow": null,
            "grid_auto_rows": null,
            "grid_column": null,
            "grid_gap": null,
            "grid_row": null,
            "grid_template_areas": null,
            "grid_template_columns": null,
            "grid_template_rows": null,
            "height": null,
            "justify_content": null,
            "justify_items": null,
            "left": null,
            "margin": null,
            "max_height": null,
            "max_width": null,
            "min_height": null,
            "min_width": null,
            "object_fit": null,
            "object_position": null,
            "order": null,
            "overflow": null,
            "overflow_x": null,
            "overflow_y": null,
            "padding": null,
            "right": null,
            "top": null,
            "visibility": null,
            "width": null
          }
        },
        "1b3c6c4906ea43b5b323e0a5e3a7a062": {
          "model_module": "@jupyter-widgets/controls",
          "model_name": "DescriptionStyleModel",
          "model_module_version": "1.5.0",
          "state": {
            "_model_module": "@jupyter-widgets/controls",
            "_model_module_version": "1.5.0",
            "_model_name": "DescriptionStyleModel",
            "_view_count": null,
            "_view_module": "@jupyter-widgets/base",
            "_view_module_version": "1.2.0",
            "_view_name": "StyleView",
            "description_width": ""
          }
        },
        "80d5cedb3d174ba780e4d912362741ac": {
          "model_module": "@jupyter-widgets/base",
          "model_name": "LayoutModel",
          "model_module_version": "1.2.0",
          "state": {
            "_model_module": "@jupyter-widgets/base",
            "_model_module_version": "1.2.0",
            "_model_name": "LayoutModel",
            "_view_count": null,
            "_view_module": "@jupyter-widgets/base",
            "_view_module_version": "1.2.0",
            "_view_name": "LayoutView",
            "align_content": null,
            "align_items": null,
            "align_self": null,
            "border": null,
            "bottom": null,
            "display": null,
            "flex": null,
            "flex_flow": null,
            "grid_area": null,
            "grid_auto_columns": null,
            "grid_auto_flow": null,
            "grid_auto_rows": null,
            "grid_column": null,
            "grid_gap": null,
            "grid_row": null,
            "grid_template_areas": null,
            "grid_template_columns": null,
            "grid_template_rows": null,
            "height": null,
            "justify_content": null,
            "justify_items": null,
            "left": null,
            "margin": null,
            "max_height": null,
            "max_width": null,
            "min_height": null,
            "min_width": null,
            "object_fit": null,
            "object_position": null,
            "order": null,
            "overflow": null,
            "overflow_x": null,
            "overflow_y": null,
            "padding": null,
            "right": null,
            "top": null,
            "visibility": null,
            "width": null
          }
        },
        "bc2dab6029e549cd98ac2cf641a59750": {
          "model_module": "@jupyter-widgets/controls",
          "model_name": "ProgressStyleModel",
          "model_module_version": "1.5.0",
          "state": {
            "_model_module": "@jupyter-widgets/controls",
            "_model_module_version": "1.5.0",
            "_model_name": "ProgressStyleModel",
            "_view_count": null,
            "_view_module": "@jupyter-widgets/base",
            "_view_module_version": "1.2.0",
            "_view_name": "StyleView",
            "bar_color": null,
            "description_width": ""
          }
        },
        "8f10513ce1f44923a2c715bd10ae1ecf": {
          "model_module": "@jupyter-widgets/base",
          "model_name": "LayoutModel",
          "model_module_version": "1.2.0",
          "state": {
            "_model_module": "@jupyter-widgets/base",
            "_model_module_version": "1.2.0",
            "_model_name": "LayoutModel",
            "_view_count": null,
            "_view_module": "@jupyter-widgets/base",
            "_view_module_version": "1.2.0",
            "_view_name": "LayoutView",
            "align_content": null,
            "align_items": null,
            "align_self": null,
            "border": null,
            "bottom": null,
            "display": null,
            "flex": null,
            "flex_flow": null,
            "grid_area": null,
            "grid_auto_columns": null,
            "grid_auto_flow": null,
            "grid_auto_rows": null,
            "grid_column": null,
            "grid_gap": null,
            "grid_row": null,
            "grid_template_areas": null,
            "grid_template_columns": null,
            "grid_template_rows": null,
            "height": null,
            "justify_content": null,
            "justify_items": null,
            "left": null,
            "margin": null,
            "max_height": null,
            "max_width": null,
            "min_height": null,
            "min_width": null,
            "object_fit": null,
            "object_position": null,
            "order": null,
            "overflow": null,
            "overflow_x": null,
            "overflow_y": null,
            "padding": null,
            "right": null,
            "top": null,
            "visibility": null,
            "width": null
          }
        },
        "cdc7d4abf2cd4f41a77177bab9fa4906": {
          "model_module": "@jupyter-widgets/controls",
          "model_name": "DescriptionStyleModel",
          "model_module_version": "1.5.0",
          "state": {
            "_model_module": "@jupyter-widgets/controls",
            "_model_module_version": "1.5.0",
            "_model_name": "DescriptionStyleModel",
            "_view_count": null,
            "_view_module": "@jupyter-widgets/base",
            "_view_module_version": "1.2.0",
            "_view_name": "StyleView",
            "description_width": ""
          }
        },
        "b0601128ed9449849237bad2c244c6e7": {
          "model_module": "@jupyter-widgets/controls",
          "model_name": "HBoxModel",
          "model_module_version": "1.5.0",
          "state": {
            "_dom_classes": [],
            "_model_module": "@jupyter-widgets/controls",
            "_model_module_version": "1.5.0",
            "_model_name": "HBoxModel",
            "_view_count": null,
            "_view_module": "@jupyter-widgets/controls",
            "_view_module_version": "1.5.0",
            "_view_name": "HBoxView",
            "box_style": "",
            "children": [
              "IPY_MODEL_6f0b45c0f0ee4ee19aa9b1bf39491d0a",
              "IPY_MODEL_714ae75568fa44dd8b6f7ee8f4b7a8ea",
              "IPY_MODEL_30d2ded319434ab2bd6b043eb799432b"
            ],
            "layout": "IPY_MODEL_832c46c4e3c94016b0b7ae039c96bbaa"
          }
        },
        "6f0b45c0f0ee4ee19aa9b1bf39491d0a": {
          "model_module": "@jupyter-widgets/controls",
          "model_name": "HTMLModel",
          "model_module_version": "1.5.0",
          "state": {
            "_dom_classes": [],
            "_model_module": "@jupyter-widgets/controls",
            "_model_module_version": "1.5.0",
            "_model_name": "HTMLModel",
            "_view_count": null,
            "_view_module": "@jupyter-widgets/controls",
            "_view_module_version": "1.5.0",
            "_view_name": "HTMLView",
            "description": "",
            "description_tooltip": null,
            "layout": "IPY_MODEL_65d0634c7e8f40fc935f85a09a5f6d98",
            "placeholder": "​",
            "style": "IPY_MODEL_4ebc9e6c0cab472a9b0d79ac6015afef",
            "value": "Downloading (…)cial_tokens_map.json: 100%"
          }
        },
        "714ae75568fa44dd8b6f7ee8f4b7a8ea": {
          "model_module": "@jupyter-widgets/controls",
          "model_name": "FloatProgressModel",
          "model_module_version": "1.5.0",
          "state": {
            "_dom_classes": [],
            "_model_module": "@jupyter-widgets/controls",
            "_model_module_version": "1.5.0",
            "_model_name": "FloatProgressModel",
            "_view_count": null,
            "_view_module": "@jupyter-widgets/controls",
            "_view_module_version": "1.5.0",
            "_view_name": "ProgressView",
            "bar_style": "success",
            "description": "",
            "description_tooltip": null,
            "layout": "IPY_MODEL_c78035cc50204ab8829e8147da1d3415",
            "max": 2201,
            "min": 0,
            "orientation": "horizontal",
            "style": "IPY_MODEL_9e176baa6507441e94445a28b0a9ef0b",
            "value": 2201
          }
        },
        "30d2ded319434ab2bd6b043eb799432b": {
          "model_module": "@jupyter-widgets/controls",
          "model_name": "HTMLModel",
          "model_module_version": "1.5.0",
          "state": {
            "_dom_classes": [],
            "_model_module": "@jupyter-widgets/controls",
            "_model_module_version": "1.5.0",
            "_model_name": "HTMLModel",
            "_view_count": null,
            "_view_module": "@jupyter-widgets/controls",
            "_view_module_version": "1.5.0",
            "_view_name": "HTMLView",
            "description": "",
            "description_tooltip": null,
            "layout": "IPY_MODEL_5209a5668e594fb796bb43debc8135a5",
            "placeholder": "​",
            "style": "IPY_MODEL_ff2dfff56b994f65bd2015513c9392ff",
            "value": " 2.20k/2.20k [00:00&lt;00:00, 173kB/s]"
          }
        },
        "832c46c4e3c94016b0b7ae039c96bbaa": {
          "model_module": "@jupyter-widgets/base",
          "model_name": "LayoutModel",
          "model_module_version": "1.2.0",
          "state": {
            "_model_module": "@jupyter-widgets/base",
            "_model_module_version": "1.2.0",
            "_model_name": "LayoutModel",
            "_view_count": null,
            "_view_module": "@jupyter-widgets/base",
            "_view_module_version": "1.2.0",
            "_view_name": "LayoutView",
            "align_content": null,
            "align_items": null,
            "align_self": null,
            "border": null,
            "bottom": null,
            "display": null,
            "flex": null,
            "flex_flow": null,
            "grid_area": null,
            "grid_auto_columns": null,
            "grid_auto_flow": null,
            "grid_auto_rows": null,
            "grid_column": null,
            "grid_gap": null,
            "grid_row": null,
            "grid_template_areas": null,
            "grid_template_columns": null,
            "grid_template_rows": null,
            "height": null,
            "justify_content": null,
            "justify_items": null,
            "left": null,
            "margin": null,
            "max_height": null,
            "max_width": null,
            "min_height": null,
            "min_width": null,
            "object_fit": null,
            "object_position": null,
            "order": null,
            "overflow": null,
            "overflow_x": null,
            "overflow_y": null,
            "padding": null,
            "right": null,
            "top": null,
            "visibility": null,
            "width": null
          }
        },
        "65d0634c7e8f40fc935f85a09a5f6d98": {
          "model_module": "@jupyter-widgets/base",
          "model_name": "LayoutModel",
          "model_module_version": "1.2.0",
          "state": {
            "_model_module": "@jupyter-widgets/base",
            "_model_module_version": "1.2.0",
            "_model_name": "LayoutModel",
            "_view_count": null,
            "_view_module": "@jupyter-widgets/base",
            "_view_module_version": "1.2.0",
            "_view_name": "LayoutView",
            "align_content": null,
            "align_items": null,
            "align_self": null,
            "border": null,
            "bottom": null,
            "display": null,
            "flex": null,
            "flex_flow": null,
            "grid_area": null,
            "grid_auto_columns": null,
            "grid_auto_flow": null,
            "grid_auto_rows": null,
            "grid_column": null,
            "grid_gap": null,
            "grid_row": null,
            "grid_template_areas": null,
            "grid_template_columns": null,
            "grid_template_rows": null,
            "height": null,
            "justify_content": null,
            "justify_items": null,
            "left": null,
            "margin": null,
            "max_height": null,
            "max_width": null,
            "min_height": null,
            "min_width": null,
            "object_fit": null,
            "object_position": null,
            "order": null,
            "overflow": null,
            "overflow_x": null,
            "overflow_y": null,
            "padding": null,
            "right": null,
            "top": null,
            "visibility": null,
            "width": null
          }
        },
        "4ebc9e6c0cab472a9b0d79ac6015afef": {
          "model_module": "@jupyter-widgets/controls",
          "model_name": "DescriptionStyleModel",
          "model_module_version": "1.5.0",
          "state": {
            "_model_module": "@jupyter-widgets/controls",
            "_model_module_version": "1.5.0",
            "_model_name": "DescriptionStyleModel",
            "_view_count": null,
            "_view_module": "@jupyter-widgets/base",
            "_view_module_version": "1.2.0",
            "_view_name": "StyleView",
            "description_width": ""
          }
        },
        "c78035cc50204ab8829e8147da1d3415": {
          "model_module": "@jupyter-widgets/base",
          "model_name": "LayoutModel",
          "model_module_version": "1.2.0",
          "state": {
            "_model_module": "@jupyter-widgets/base",
            "_model_module_version": "1.2.0",
            "_model_name": "LayoutModel",
            "_view_count": null,
            "_view_module": "@jupyter-widgets/base",
            "_view_module_version": "1.2.0",
            "_view_name": "LayoutView",
            "align_content": null,
            "align_items": null,
            "align_self": null,
            "border": null,
            "bottom": null,
            "display": null,
            "flex": null,
            "flex_flow": null,
            "grid_area": null,
            "grid_auto_columns": null,
            "grid_auto_flow": null,
            "grid_auto_rows": null,
            "grid_column": null,
            "grid_gap": null,
            "grid_row": null,
            "grid_template_areas": null,
            "grid_template_columns": null,
            "grid_template_rows": null,
            "height": null,
            "justify_content": null,
            "justify_items": null,
            "left": null,
            "margin": null,
            "max_height": null,
            "max_width": null,
            "min_height": null,
            "min_width": null,
            "object_fit": null,
            "object_position": null,
            "order": null,
            "overflow": null,
            "overflow_x": null,
            "overflow_y": null,
            "padding": null,
            "right": null,
            "top": null,
            "visibility": null,
            "width": null
          }
        },
        "9e176baa6507441e94445a28b0a9ef0b": {
          "model_module": "@jupyter-widgets/controls",
          "model_name": "ProgressStyleModel",
          "model_module_version": "1.5.0",
          "state": {
            "_model_module": "@jupyter-widgets/controls",
            "_model_module_version": "1.5.0",
            "_model_name": "ProgressStyleModel",
            "_view_count": null,
            "_view_module": "@jupyter-widgets/base",
            "_view_module_version": "1.2.0",
            "_view_name": "StyleView",
            "bar_color": null,
            "description_width": ""
          }
        },
        "5209a5668e594fb796bb43debc8135a5": {
          "model_module": "@jupyter-widgets/base",
          "model_name": "LayoutModel",
          "model_module_version": "1.2.0",
          "state": {
            "_model_module": "@jupyter-widgets/base",
            "_model_module_version": "1.2.0",
            "_model_name": "LayoutModel",
            "_view_count": null,
            "_view_module": "@jupyter-widgets/base",
            "_view_module_version": "1.2.0",
            "_view_name": "LayoutView",
            "align_content": null,
            "align_items": null,
            "align_self": null,
            "border": null,
            "bottom": null,
            "display": null,
            "flex": null,
            "flex_flow": null,
            "grid_area": null,
            "grid_auto_columns": null,
            "grid_auto_flow": null,
            "grid_auto_rows": null,
            "grid_column": null,
            "grid_gap": null,
            "grid_row": null,
            "grid_template_areas": null,
            "grid_template_columns": null,
            "grid_template_rows": null,
            "height": null,
            "justify_content": null,
            "justify_items": null,
            "left": null,
            "margin": null,
            "max_height": null,
            "max_width": null,
            "min_height": null,
            "min_width": null,
            "object_fit": null,
            "object_position": null,
            "order": null,
            "overflow": null,
            "overflow_x": null,
            "overflow_y": null,
            "padding": null,
            "right": null,
            "top": null,
            "visibility": null,
            "width": null
          }
        },
        "ff2dfff56b994f65bd2015513c9392ff": {
          "model_module": "@jupyter-widgets/controls",
          "model_name": "DescriptionStyleModel",
          "model_module_version": "1.5.0",
          "state": {
            "_model_module": "@jupyter-widgets/controls",
            "_model_module_version": "1.5.0",
            "_model_name": "DescriptionStyleModel",
            "_view_count": null,
            "_view_module": "@jupyter-widgets/base",
            "_view_module_version": "1.2.0",
            "_view_name": "StyleView",
            "description_width": ""
          }
        },
        "d9b9e03092654f5a9bed29c55b08f271": {
          "model_module": "@jupyter-widgets/controls",
          "model_name": "HBoxModel",
          "model_module_version": "1.5.0",
          "state": {
            "_dom_classes": [],
            "_model_module": "@jupyter-widgets/controls",
            "_model_module_version": "1.5.0",
            "_model_name": "HBoxModel",
            "_view_count": null,
            "_view_module": "@jupyter-widgets/controls",
            "_view_module_version": "1.5.0",
            "_view_name": "HBoxView",
            "box_style": "",
            "children": [
              "IPY_MODEL_141957fb3b2c4d4baf0f76f553182e5a",
              "IPY_MODEL_afa701b2912245c1a6dd6bba16f563b6",
              "IPY_MODEL_b9f3a180e36841e0bf99c5c9ce8804ba"
            ],
            "layout": "IPY_MODEL_2ac2d8cfa65a4efabb34e761e3d0aeac"
          }
        },
        "141957fb3b2c4d4baf0f76f553182e5a": {
          "model_module": "@jupyter-widgets/controls",
          "model_name": "HTMLModel",
          "model_module_version": "1.5.0",
          "state": {
            "_dom_classes": [],
            "_model_module": "@jupyter-widgets/controls",
            "_model_module_version": "1.5.0",
            "_model_name": "HTMLModel",
            "_view_count": null,
            "_view_module": "@jupyter-widgets/controls",
            "_view_module_version": "1.5.0",
            "_view_name": "HTMLView",
            "description": "",
            "description_tooltip": null,
            "layout": "IPY_MODEL_d61d363f6ded4588998629b3a91447b8",
            "placeholder": "​",
            "style": "IPY_MODEL_125293e2fc19433b85b91cb4dc022f3e",
            "value": "Downloading (…)lve/main/config.json: 100%"
          }
        },
        "afa701b2912245c1a6dd6bba16f563b6": {
          "model_module": "@jupyter-widgets/controls",
          "model_name": "FloatProgressModel",
          "model_module_version": "1.5.0",
          "state": {
            "_dom_classes": [],
            "_model_module": "@jupyter-widgets/controls",
            "_model_module_version": "1.5.0",
            "_model_name": "FloatProgressModel",
            "_view_count": null,
            "_view_module": "@jupyter-widgets/controls",
            "_view_module_version": "1.5.0",
            "_view_name": "ProgressView",
            "bar_style": "success",
            "description": "",
            "description_tooltip": null,
            "layout": "IPY_MODEL_6e303b2b7234413fa33ae85442ed7719",
            "max": 4918,
            "min": 0,
            "orientation": "horizontal",
            "style": "IPY_MODEL_626ccbef51cf40d2ad692bd9c910612a",
            "value": 4918
          }
        },
        "b9f3a180e36841e0bf99c5c9ce8804ba": {
          "model_module": "@jupyter-widgets/controls",
          "model_name": "HTMLModel",
          "model_module_version": "1.5.0",
          "state": {
            "_dom_classes": [],
            "_model_module": "@jupyter-widgets/controls",
            "_model_module_version": "1.5.0",
            "_model_name": "HTMLModel",
            "_view_count": null,
            "_view_module": "@jupyter-widgets/controls",
            "_view_module_version": "1.5.0",
            "_view_name": "HTMLView",
            "description": "",
            "description_tooltip": null,
            "layout": "IPY_MODEL_8d7c54bcef644849a5577a07fa4d3819",
            "placeholder": "​",
            "style": "IPY_MODEL_724e33cdf10e4037a6534e3b8dca65ac",
            "value": " 4.92k/4.92k [00:00&lt;00:00, 426kB/s]"
          }
        },
        "2ac2d8cfa65a4efabb34e761e3d0aeac": {
          "model_module": "@jupyter-widgets/base",
          "model_name": "LayoutModel",
          "model_module_version": "1.2.0",
          "state": {
            "_model_module": "@jupyter-widgets/base",
            "_model_module_version": "1.2.0",
            "_model_name": "LayoutModel",
            "_view_count": null,
            "_view_module": "@jupyter-widgets/base",
            "_view_module_version": "1.2.0",
            "_view_name": "LayoutView",
            "align_content": null,
            "align_items": null,
            "align_self": null,
            "border": null,
            "bottom": null,
            "display": null,
            "flex": null,
            "flex_flow": null,
            "grid_area": null,
            "grid_auto_columns": null,
            "grid_auto_flow": null,
            "grid_auto_rows": null,
            "grid_column": null,
            "grid_gap": null,
            "grid_row": null,
            "grid_template_areas": null,
            "grid_template_columns": null,
            "grid_template_rows": null,
            "height": null,
            "justify_content": null,
            "justify_items": null,
            "left": null,
            "margin": null,
            "max_height": null,
            "max_width": null,
            "min_height": null,
            "min_width": null,
            "object_fit": null,
            "object_position": null,
            "order": null,
            "overflow": null,
            "overflow_x": null,
            "overflow_y": null,
            "padding": null,
            "right": null,
            "top": null,
            "visibility": null,
            "width": null
          }
        },
        "d61d363f6ded4588998629b3a91447b8": {
          "model_module": "@jupyter-widgets/base",
          "model_name": "LayoutModel",
          "model_module_version": "1.2.0",
          "state": {
            "_model_module": "@jupyter-widgets/base",
            "_model_module_version": "1.2.0",
            "_model_name": "LayoutModel",
            "_view_count": null,
            "_view_module": "@jupyter-widgets/base",
            "_view_module_version": "1.2.0",
            "_view_name": "LayoutView",
            "align_content": null,
            "align_items": null,
            "align_self": null,
            "border": null,
            "bottom": null,
            "display": null,
            "flex": null,
            "flex_flow": null,
            "grid_area": null,
            "grid_auto_columns": null,
            "grid_auto_flow": null,
            "grid_auto_rows": null,
            "grid_column": null,
            "grid_gap": null,
            "grid_row": null,
            "grid_template_areas": null,
            "grid_template_columns": null,
            "grid_template_rows": null,
            "height": null,
            "justify_content": null,
            "justify_items": null,
            "left": null,
            "margin": null,
            "max_height": null,
            "max_width": null,
            "min_height": null,
            "min_width": null,
            "object_fit": null,
            "object_position": null,
            "order": null,
            "overflow": null,
            "overflow_x": null,
            "overflow_y": null,
            "padding": null,
            "right": null,
            "top": null,
            "visibility": null,
            "width": null
          }
        },
        "125293e2fc19433b85b91cb4dc022f3e": {
          "model_module": "@jupyter-widgets/controls",
          "model_name": "DescriptionStyleModel",
          "model_module_version": "1.5.0",
          "state": {
            "_model_module": "@jupyter-widgets/controls",
            "_model_module_version": "1.5.0",
            "_model_name": "DescriptionStyleModel",
            "_view_count": null,
            "_view_module": "@jupyter-widgets/base",
            "_view_module_version": "1.2.0",
            "_view_name": "StyleView",
            "description_width": ""
          }
        },
        "6e303b2b7234413fa33ae85442ed7719": {
          "model_module": "@jupyter-widgets/base",
          "model_name": "LayoutModel",
          "model_module_version": "1.2.0",
          "state": {
            "_model_module": "@jupyter-widgets/base",
            "_model_module_version": "1.2.0",
            "_model_name": "LayoutModel",
            "_view_count": null,
            "_view_module": "@jupyter-widgets/base",
            "_view_module_version": "1.2.0",
            "_view_name": "LayoutView",
            "align_content": null,
            "align_items": null,
            "align_self": null,
            "border": null,
            "bottom": null,
            "display": null,
            "flex": null,
            "flex_flow": null,
            "grid_area": null,
            "grid_auto_columns": null,
            "grid_auto_flow": null,
            "grid_auto_rows": null,
            "grid_column": null,
            "grid_gap": null,
            "grid_row": null,
            "grid_template_areas": null,
            "grid_template_columns": null,
            "grid_template_rows": null,
            "height": null,
            "justify_content": null,
            "justify_items": null,
            "left": null,
            "margin": null,
            "max_height": null,
            "max_width": null,
            "min_height": null,
            "min_width": null,
            "object_fit": null,
            "object_position": null,
            "order": null,
            "overflow": null,
            "overflow_x": null,
            "overflow_y": null,
            "padding": null,
            "right": null,
            "top": null,
            "visibility": null,
            "width": null
          }
        },
        "626ccbef51cf40d2ad692bd9c910612a": {
          "model_module": "@jupyter-widgets/controls",
          "model_name": "ProgressStyleModel",
          "model_module_version": "1.5.0",
          "state": {
            "_model_module": "@jupyter-widgets/controls",
            "_model_module_version": "1.5.0",
            "_model_name": "ProgressStyleModel",
            "_view_count": null,
            "_view_module": "@jupyter-widgets/base",
            "_view_module_version": "1.2.0",
            "_view_name": "StyleView",
            "bar_color": null,
            "description_width": ""
          }
        },
        "8d7c54bcef644849a5577a07fa4d3819": {
          "model_module": "@jupyter-widgets/base",
          "model_name": "LayoutModel",
          "model_module_version": "1.2.0",
          "state": {
            "_model_module": "@jupyter-widgets/base",
            "_model_module_version": "1.2.0",
            "_model_name": "LayoutModel",
            "_view_count": null,
            "_view_module": "@jupyter-widgets/base",
            "_view_module_version": "1.2.0",
            "_view_name": "LayoutView",
            "align_content": null,
            "align_items": null,
            "align_self": null,
            "border": null,
            "bottom": null,
            "display": null,
            "flex": null,
            "flex_flow": null,
            "grid_area": null,
            "grid_auto_columns": null,
            "grid_auto_flow": null,
            "grid_auto_rows": null,
            "grid_column": null,
            "grid_gap": null,
            "grid_row": null,
            "grid_template_areas": null,
            "grid_template_columns": null,
            "grid_template_rows": null,
            "height": null,
            "justify_content": null,
            "justify_items": null,
            "left": null,
            "margin": null,
            "max_height": null,
            "max_width": null,
            "min_height": null,
            "min_width": null,
            "object_fit": null,
            "object_position": null,
            "order": null,
            "overflow": null,
            "overflow_x": null,
            "overflow_y": null,
            "padding": null,
            "right": null,
            "top": null,
            "visibility": null,
            "width": null
          }
        },
        "724e33cdf10e4037a6534e3b8dca65ac": {
          "model_module": "@jupyter-widgets/controls",
          "model_name": "DescriptionStyleModel",
          "model_module_version": "1.5.0",
          "state": {
            "_model_module": "@jupyter-widgets/controls",
            "_model_module_version": "1.5.0",
            "_model_name": "DescriptionStyleModel",
            "_view_count": null,
            "_view_module": "@jupyter-widgets/base",
            "_view_module_version": "1.2.0",
            "_view_name": "StyleView",
            "description_width": ""
          }
        },
        "2fc55d9ae3ec42ea8e1c374ba9c4df77": {
          "model_module": "@jupyter-widgets/controls",
          "model_name": "HBoxModel",
          "model_module_version": "1.5.0",
          "state": {
            "_dom_classes": [],
            "_model_module": "@jupyter-widgets/controls",
            "_model_module_version": "1.5.0",
            "_model_name": "HBoxModel",
            "_view_count": null,
            "_view_module": "@jupyter-widgets/controls",
            "_view_module_version": "1.5.0",
            "_view_name": "HBoxView",
            "box_style": "",
            "children": [
              "IPY_MODEL_5c44360d81354e14886b6dcf941f6c5d",
              "IPY_MODEL_efa1389607cd4bfc86749a3f1d41b685",
              "IPY_MODEL_2cc0b2775fc645b782c1c1f7681a0738"
            ],
            "layout": "IPY_MODEL_597aa7e9f0bd44e8917bb026c7379837"
          }
        },
        "5c44360d81354e14886b6dcf941f6c5d": {
          "model_module": "@jupyter-widgets/controls",
          "model_name": "HTMLModel",
          "model_module_version": "1.5.0",
          "state": {
            "_dom_classes": [],
            "_model_module": "@jupyter-widgets/controls",
            "_model_module_version": "1.5.0",
            "_model_name": "HTMLModel",
            "_view_count": null,
            "_view_module": "@jupyter-widgets/controls",
            "_view_module_version": "1.5.0",
            "_view_name": "HTMLView",
            "description": "",
            "description_tooltip": null,
            "layout": "IPY_MODEL_8f963448c6f14dcfa43fecf71159d7f1",
            "placeholder": "​",
            "style": "IPY_MODEL_251f20f0e082416689030629583c9260",
            "value": "Downloading pytorch_model.bin: 100%"
          }
        },
        "efa1389607cd4bfc86749a3f1d41b685": {
          "model_module": "@jupyter-widgets/controls",
          "model_name": "FloatProgressModel",
          "model_module_version": "1.5.0",
          "state": {
            "_dom_classes": [],
            "_model_module": "@jupyter-widgets/controls",
            "_model_module_version": "1.5.0",
            "_model_name": "FloatProgressModel",
            "_view_count": null,
            "_view_module": "@jupyter-widgets/controls",
            "_view_module_version": "1.5.0",
            "_view_name": "ProgressView",
            "bar_style": "success",
            "description": "",
            "description_tooltip": null,
            "layout": "IPY_MODEL_e6f33bb97a3c4f1d92d076d2870cf9bd",
            "max": 1129238081,
            "min": 0,
            "orientation": "horizontal",
            "style": "IPY_MODEL_73c777c39f234462bfaea62381ac72f3",
            "value": 1129238081
          }
        },
        "2cc0b2775fc645b782c1c1f7681a0738": {
          "model_module": "@jupyter-widgets/controls",
          "model_name": "HTMLModel",
          "model_module_version": "1.5.0",
          "state": {
            "_dom_classes": [],
            "_model_module": "@jupyter-widgets/controls",
            "_model_module_version": "1.5.0",
            "_model_name": "HTMLModel",
            "_view_count": null,
            "_view_module": "@jupyter-widgets/controls",
            "_view_module_version": "1.5.0",
            "_view_name": "HTMLView",
            "description": "",
            "description_tooltip": null,
            "layout": "IPY_MODEL_6691c7fe55064a5f92eb062914e43b77",
            "placeholder": "​",
            "style": "IPY_MODEL_878789209ebc4d2e88bb74e0d7a2266b",
            "value": " 1.13G/1.13G [00:02&lt;00:00, 379MB/s]"
          }
        },
        "597aa7e9f0bd44e8917bb026c7379837": {
          "model_module": "@jupyter-widgets/base",
          "model_name": "LayoutModel",
          "model_module_version": "1.2.0",
          "state": {
            "_model_module": "@jupyter-widgets/base",
            "_model_module_version": "1.2.0",
            "_model_name": "LayoutModel",
            "_view_count": null,
            "_view_module": "@jupyter-widgets/base",
            "_view_module_version": "1.2.0",
            "_view_name": "LayoutView",
            "align_content": null,
            "align_items": null,
            "align_self": null,
            "border": null,
            "bottom": null,
            "display": null,
            "flex": null,
            "flex_flow": null,
            "grid_area": null,
            "grid_auto_columns": null,
            "grid_auto_flow": null,
            "grid_auto_rows": null,
            "grid_column": null,
            "grid_gap": null,
            "grid_row": null,
            "grid_template_areas": null,
            "grid_template_columns": null,
            "grid_template_rows": null,
            "height": null,
            "justify_content": null,
            "justify_items": null,
            "left": null,
            "margin": null,
            "max_height": null,
            "max_width": null,
            "min_height": null,
            "min_width": null,
            "object_fit": null,
            "object_position": null,
            "order": null,
            "overflow": null,
            "overflow_x": null,
            "overflow_y": null,
            "padding": null,
            "right": null,
            "top": null,
            "visibility": null,
            "width": null
          }
        },
        "8f963448c6f14dcfa43fecf71159d7f1": {
          "model_module": "@jupyter-widgets/base",
          "model_name": "LayoutModel",
          "model_module_version": "1.2.0",
          "state": {
            "_model_module": "@jupyter-widgets/base",
            "_model_module_version": "1.2.0",
            "_model_name": "LayoutModel",
            "_view_count": null,
            "_view_module": "@jupyter-widgets/base",
            "_view_module_version": "1.2.0",
            "_view_name": "LayoutView",
            "align_content": null,
            "align_items": null,
            "align_self": null,
            "border": null,
            "bottom": null,
            "display": null,
            "flex": null,
            "flex_flow": null,
            "grid_area": null,
            "grid_auto_columns": null,
            "grid_auto_flow": null,
            "grid_auto_rows": null,
            "grid_column": null,
            "grid_gap": null,
            "grid_row": null,
            "grid_template_areas": null,
            "grid_template_columns": null,
            "grid_template_rows": null,
            "height": null,
            "justify_content": null,
            "justify_items": null,
            "left": null,
            "margin": null,
            "max_height": null,
            "max_width": null,
            "min_height": null,
            "min_width": null,
            "object_fit": null,
            "object_position": null,
            "order": null,
            "overflow": null,
            "overflow_x": null,
            "overflow_y": null,
            "padding": null,
            "right": null,
            "top": null,
            "visibility": null,
            "width": null
          }
        },
        "251f20f0e082416689030629583c9260": {
          "model_module": "@jupyter-widgets/controls",
          "model_name": "DescriptionStyleModel",
          "model_module_version": "1.5.0",
          "state": {
            "_model_module": "@jupyter-widgets/controls",
            "_model_module_version": "1.5.0",
            "_model_name": "DescriptionStyleModel",
            "_view_count": null,
            "_view_module": "@jupyter-widgets/base",
            "_view_module_version": "1.2.0",
            "_view_name": "StyleView",
            "description_width": ""
          }
        },
        "e6f33bb97a3c4f1d92d076d2870cf9bd": {
          "model_module": "@jupyter-widgets/base",
          "model_name": "LayoutModel",
          "model_module_version": "1.2.0",
          "state": {
            "_model_module": "@jupyter-widgets/base",
            "_model_module_version": "1.2.0",
            "_model_name": "LayoutModel",
            "_view_count": null,
            "_view_module": "@jupyter-widgets/base",
            "_view_module_version": "1.2.0",
            "_view_name": "LayoutView",
            "align_content": null,
            "align_items": null,
            "align_self": null,
            "border": null,
            "bottom": null,
            "display": null,
            "flex": null,
            "flex_flow": null,
            "grid_area": null,
            "grid_auto_columns": null,
            "grid_auto_flow": null,
            "grid_auto_rows": null,
            "grid_column": null,
            "grid_gap": null,
            "grid_row": null,
            "grid_template_areas": null,
            "grid_template_columns": null,
            "grid_template_rows": null,
            "height": null,
            "justify_content": null,
            "justify_items": null,
            "left": null,
            "margin": null,
            "max_height": null,
            "max_width": null,
            "min_height": null,
            "min_width": null,
            "object_fit": null,
            "object_position": null,
            "order": null,
            "overflow": null,
            "overflow_x": null,
            "overflow_y": null,
            "padding": null,
            "right": null,
            "top": null,
            "visibility": null,
            "width": null
          }
        },
        "73c777c39f234462bfaea62381ac72f3": {
          "model_module": "@jupyter-widgets/controls",
          "model_name": "ProgressStyleModel",
          "model_module_version": "1.5.0",
          "state": {
            "_model_module": "@jupyter-widgets/controls",
            "_model_module_version": "1.5.0",
            "_model_name": "ProgressStyleModel",
            "_view_count": null,
            "_view_module": "@jupyter-widgets/base",
            "_view_module_version": "1.2.0",
            "_view_name": "StyleView",
            "bar_color": null,
            "description_width": ""
          }
        },
        "6691c7fe55064a5f92eb062914e43b77": {
          "model_module": "@jupyter-widgets/base",
          "model_name": "LayoutModel",
          "model_module_version": "1.2.0",
          "state": {
            "_model_module": "@jupyter-widgets/base",
            "_model_module_version": "1.2.0",
            "_model_name": "LayoutModel",
            "_view_count": null,
            "_view_module": "@jupyter-widgets/base",
            "_view_module_version": "1.2.0",
            "_view_name": "LayoutView",
            "align_content": null,
            "align_items": null,
            "align_self": null,
            "border": null,
            "bottom": null,
            "display": null,
            "flex": null,
            "flex_flow": null,
            "grid_area": null,
            "grid_auto_columns": null,
            "grid_auto_flow": null,
            "grid_auto_rows": null,
            "grid_column": null,
            "grid_gap": null,
            "grid_row": null,
            "grid_template_areas": null,
            "grid_template_columns": null,
            "grid_template_rows": null,
            "height": null,
            "justify_content": null,
            "justify_items": null,
            "left": null,
            "margin": null,
            "max_height": null,
            "max_width": null,
            "min_height": null,
            "min_width": null,
            "object_fit": null,
            "object_position": null,
            "order": null,
            "overflow": null,
            "overflow_x": null,
            "overflow_y": null,
            "padding": null,
            "right": null,
            "top": null,
            "visibility": null,
            "width": null
          }
        },
        "878789209ebc4d2e88bb74e0d7a2266b": {
          "model_module": "@jupyter-widgets/controls",
          "model_name": "DescriptionStyleModel",
          "model_module_version": "1.5.0",
          "state": {
            "_model_module": "@jupyter-widgets/controls",
            "_model_module_version": "1.5.0",
            "_model_name": "DescriptionStyleModel",
            "_view_count": null,
            "_view_module": "@jupyter-widgets/base",
            "_view_module_version": "1.2.0",
            "_view_name": "StyleView",
            "description_width": ""
          }
        }
      }
    }
  },
  "cells": [
    {
      "cell_type": "markdown",
      "metadata": {
        "id": "xY4KuZUbq83Q"
      },
      "source": [
        "# Finetune Pix2Struct model on Sketch Synthetic Bootstrap dataset"
      ]
    },
    {
      "cell_type": "markdown",
      "metadata": {
        "id": "jT6iC6BDrB9i"
      },
      "source": [
        "## Setup Envirnoment"
      ]
    },
    {
      "cell_type": "code",
      "execution_count": 1,
      "metadata": {
        "colab": {
          "base_uri": "https://localhost:8080/"
        },
        "id": "jc7bhkoMEtq3",
        "outputId": "e5010539-4a6e-4871-8baa-b5e160ac530d"
      },
      "outputs": [
        {
          "output_type": "stream",
          "name": "stdout",
          "text": [
            "Collecting git+https://github.com/huggingface/transformers\n",
            "  Cloning https://github.com/huggingface/transformers to /tmp/pip-req-build-3_trs2mg\n",
            "  Running command git clone --filter=blob:none --quiet https://github.com/huggingface/transformers /tmp/pip-req-build-3_trs2mg\n",
            "  Resolved https://github.com/huggingface/transformers to commit 0afa5071bd84e44301750fdc594e33db102cf374\n",
            "  Installing build dependencies ... \u001b[?25l\u001b[?25hdone\n",
            "  Getting requirements to build wheel ... \u001b[?25l\u001b[?25hdone\n",
            "  Preparing metadata (pyproject.toml) ... \u001b[?25l\u001b[?25hdone\n",
            "Requirement already satisfied: filelock in /usr/local/lib/python3.10/dist-packages (from transformers==4.33.0.dev0) (3.12.2)\n",
            "Collecting huggingface-hub<1.0,>=0.15.1 (from transformers==4.33.0.dev0)\n",
            "  Downloading huggingface_hub-0.16.4-py3-none-any.whl (268 kB)\n",
            "\u001b[2K     \u001b[90m━━━━━━━━━━━━━━━━━━━━━━━━━━━━━━━━━━━━━━━\u001b[0m \u001b[32m268.8/268.8 kB\u001b[0m \u001b[31m4.5 MB/s\u001b[0m eta \u001b[36m0:00:00\u001b[0m\n",
            "\u001b[?25hRequirement already satisfied: numpy>=1.17 in /usr/local/lib/python3.10/dist-packages (from transformers==4.33.0.dev0) (1.23.5)\n",
            "Requirement already satisfied: packaging>=20.0 in /usr/local/lib/python3.10/dist-packages (from transformers==4.33.0.dev0) (23.1)\n",
            "Requirement already satisfied: pyyaml>=5.1 in /usr/local/lib/python3.10/dist-packages (from transformers==4.33.0.dev0) (6.0.1)\n",
            "Requirement already satisfied: regex!=2019.12.17 in /usr/local/lib/python3.10/dist-packages (from transformers==4.33.0.dev0) (2023.6.3)\n",
            "Requirement already satisfied: requests in /usr/local/lib/python3.10/dist-packages (from transformers==4.33.0.dev0) (2.31.0)\n",
            "Collecting tokenizers!=0.11.3,<0.14,>=0.11.1 (from transformers==4.33.0.dev0)\n",
            "  Downloading tokenizers-0.13.3-cp310-cp310-manylinux_2_17_x86_64.manylinux2014_x86_64.whl (7.8 MB)\n",
            "\u001b[2K     \u001b[90m━━━━━━━━━━━━━━━━━━━━━━━━━━━━━━━━━━━━━━━━\u001b[0m \u001b[32m7.8/7.8 MB\u001b[0m \u001b[31m107.6 MB/s\u001b[0m eta \u001b[36m0:00:00\u001b[0m\n",
            "\u001b[?25hCollecting safetensors>=0.3.1 (from transformers==4.33.0.dev0)\n",
            "  Downloading safetensors-0.3.3-cp310-cp310-manylinux_2_17_x86_64.manylinux2014_x86_64.whl (1.3 MB)\n",
            "\u001b[2K     \u001b[90m━━━━━━━━━━━━━━━━━━━━━━━━━━━━━━━━━━━━━━━━\u001b[0m \u001b[32m1.3/1.3 MB\u001b[0m \u001b[31m83.8 MB/s\u001b[0m eta \u001b[36m0:00:00\u001b[0m\n",
            "\u001b[?25hRequirement already satisfied: tqdm>=4.27 in /usr/local/lib/python3.10/dist-packages (from transformers==4.33.0.dev0) (4.66.1)\n",
            "Requirement already satisfied: fsspec in /usr/local/lib/python3.10/dist-packages (from huggingface-hub<1.0,>=0.15.1->transformers==4.33.0.dev0) (2023.6.0)\n",
            "Requirement already satisfied: typing-extensions>=3.7.4.3 in /usr/local/lib/python3.10/dist-packages (from huggingface-hub<1.0,>=0.15.1->transformers==4.33.0.dev0) (4.7.1)\n",
            "Requirement already satisfied: charset-normalizer<4,>=2 in /usr/local/lib/python3.10/dist-packages (from requests->transformers==4.33.0.dev0) (3.2.0)\n",
            "Requirement already satisfied: idna<4,>=2.5 in /usr/local/lib/python3.10/dist-packages (from requests->transformers==4.33.0.dev0) (3.4)\n",
            "Requirement already satisfied: urllib3<3,>=1.21.1 in /usr/local/lib/python3.10/dist-packages (from requests->transformers==4.33.0.dev0) (2.0.4)\n",
            "Requirement already satisfied: certifi>=2017.4.17 in /usr/local/lib/python3.10/dist-packages (from requests->transformers==4.33.0.dev0) (2023.7.22)\n",
            "Building wheels for collected packages: transformers\n",
            "  Building wheel for transformers (pyproject.toml) ... \u001b[?25l\u001b[?25hdone\n",
            "  Created wheel for transformers: filename=transformers-4.33.0.dev0-py3-none-any.whl size=7634320 sha256=5dbdb4c55a1aff492728f37b7e712bc8b2deefaa21ed8b123abd67704c201208\n",
            "  Stored in directory: /tmp/pip-ephem-wheel-cache-0bmgoao0/wheels/c0/14/d6/6c9a5582d2ac191ec0a483be151a4495fe1eb2a6706ca49f1b\n",
            "Successfully built transformers\n",
            "Installing collected packages: tokenizers, safetensors, huggingface-hub, transformers\n",
            "Successfully installed huggingface-hub-0.16.4 safetensors-0.3.3 tokenizers-0.13.3 transformers-4.33.0.dev0\n"
          ]
        }
      ],
      "source": [
        "!pip install --upgrade git+https://github.com/huggingface/transformers"
      ]
    },
    {
      "cell_type": "code",
      "execution_count": 2,
      "metadata": {
        "id": "901j04acrHxe",
        "colab": {
          "base_uri": "https://localhost:8080/"
        },
        "outputId": "da2a8460-dc36-4a22-d885-8050422d8545"
      },
      "outputs": [
        {
          "output_type": "stream",
          "name": "stdout",
          "text": [
            "\u001b[?25l     \u001b[90m━━━━━━━━━━━━━━━━━━━━━━━━━━━━━━━━━━━━━━━━\u001b[0m \u001b[32m0.0/2.1 MB\u001b[0m \u001b[31m?\u001b[0m eta \u001b[36m-:--:--\u001b[0m\r\u001b[2K     \u001b[91m━━\u001b[0m\u001b[90m╺\u001b[0m\u001b[90m━━━━━━━━━━━━━━━━━━━━━━━━━━━━━━━━━━━━━\u001b[0m \u001b[32m0.1/2.1 MB\u001b[0m \u001b[31m3.3 MB/s\u001b[0m eta \u001b[36m0:00:01\u001b[0m\r\u001b[2K     \u001b[91m━━━━━━━━━━━━━━━━━━━━━━━━━━━━━━\u001b[0m\u001b[91m╸\u001b[0m\u001b[90m━━━━━━━━━\u001b[0m \u001b[32m1.6/2.1 MB\u001b[0m \u001b[31m24.3 MB/s\u001b[0m eta \u001b[36m0:00:01\u001b[0m\r\u001b[2K     \u001b[90m━━━━━━━━━━━━━━━━━━━━━━━━━━━━━━━━━━━━━━━━\u001b[0m \u001b[32m2.1/2.1 MB\u001b[0m \u001b[31m23.8 MB/s\u001b[0m eta \u001b[36m0:00:00\u001b[0m\n",
            "\u001b[2K     \u001b[90m━━━━━━━━━━━━━━━━━━━━━━━━━━━━━━━━━━━━━━\u001b[0m \u001b[32m188.6/188.6 kB\u001b[0m \u001b[31m25.3 MB/s\u001b[0m eta \u001b[36m0:00:00\u001b[0m\n",
            "\u001b[2K     \u001b[90m━━━━━━━━━━━━━━━━━━━━━━━━━━━━━━━━━━━━━━\u001b[0m \u001b[32m218.8/218.8 kB\u001b[0m \u001b[31m25.5 MB/s\u001b[0m eta \u001b[36m0:00:00\u001b[0m\n",
            "\u001b[?25h  Preparing metadata (setup.py) ... \u001b[?25l\u001b[?25hdone\n",
            "\u001b[2K     \u001b[90m━━━━━━━━━━━━━━━━━━━━━━━━━━━━━━━━━━━━━━━━\u001b[0m \u001b[32m62.7/62.7 kB\u001b[0m \u001b[31m8.8 MB/s\u001b[0m eta \u001b[36m0:00:00\u001b[0m\n",
            "\u001b[?25h  Building wheel for pathtools (setup.py) ... \u001b[?25l\u001b[?25hdone\n"
          ]
        }
      ],
      "source": [
        "!pip install -q wandb"
      ]
    },
    {
      "cell_type": "markdown",
      "metadata": {
        "id": "pGk1Y2ea-3vS"
      },
      "source": [
        "## Import necessary libraries"
      ]
    },
    {
      "cell_type": "code",
      "execution_count": 3,
      "metadata": {
        "id": "9qulzbyd-1GC"
      },
      "outputs": [],
      "source": [
        "from google.colab import drive\n",
        "import os\n",
        "import zipfile\n",
        "from torch.utils.data import Dataset, DataLoader\n",
        "from torchvision import transforms\n",
        "from PIL import Image\n",
        "import re\n",
        "from transformers import Pix2StructForConditionalGeneration, AutoProcessor\n",
        "import torch\n",
        "from torch.nn import functional as F\n",
        "from transformers.optimization import Adafactor, get_cosine_schedule_with_warmup\n",
        "from pathlib import Path\n",
        "from nltk import edit_distance\n",
        "import numpy as np\n",
        "import wandb\n",
        "from tqdm import tqdm\n",
        "from nltk.translate.bleu_score import corpus_bleu, sentence_bleu, SmoothingFunction\n",
        "from torch.utils.data import random_split\n",
        "import random"
      ]
    },
    {
      "cell_type": "markdown",
      "metadata": {
        "id": "rZ3TJ2yzBAs0"
      },
      "source": [
        "## Define variables and parameters"
      ]
    },
    {
      "cell_type": "code",
      "execution_count": 40,
      "metadata": {
        "id": "Rrjr3uhaBDqp"
      },
      "outputs": [],
      "source": [
        "G_DRIVE_FOLDER = '/content/drive/MyDrive/Datasets/'\n",
        "G_DRIVE_FOLDER_CHECKPOINTS = '/content/drive/MyDrive/Checkpoints/'\n",
        "DATASET_NAME = 'sketchSynthBootstrap'\n",
        "ZIP_NAME = DATASET_NAME + '.zip'\n",
        "DESTINATION_FOLDER= '/content/data/'\n",
        "DATASET_FOLDER = DESTINATION_FOLDER + \"data/\" # unzipped name is data\n",
        "\n",
        "HTML_FILES_FOLDER = DATASET_FOLDER + \"html/\"\n",
        "\n",
        "EXPERIMENT_NAME = \"Pix2Struct_SketchSynthBootstrap_Complete\"\n",
        "\n",
        "MAX_SENTENCE_LEN = 4096\n",
        "\n",
        "CHUNK_LENGTH =  1024\n",
        "CONTEXT_OVERLAP_LENGTH = 256\n",
        "\n",
        "MAX_PATCHES = 1024\n",
        "\n",
        "DEBUG = False\n",
        "VERBOSE = True\n",
        "\n",
        "BATCH_SIZE = 4\n",
        "NUM_WARMUP_STEPS = 5000 # HALF THE WARMUPS FOR HALF EPOCHS\n",
        "MAX_EPOCHS = 10 # 10 EPOCHS FINETUNING\n",
        "LR = 1e-4\n",
        "CHECK_VAL_EVERY_N_EPOCH = 5\n",
        "GRADIENT_CLIP_VAL = 1.0\n",
        "ACCUMULATE_GRAD_BATCHES = 8 / BATCH_SIZE\n",
        "\n",
        "TRAIN_SET_PERCENTAGE = 0.898\n",
        "VALID_SET_PERCENTAGE = 0.002 # Use 20 samples for validation\n",
        "# TEST_SET_PERCENTAGE is 1 - TRAIN_SET_PERCENTAGE - VALID_SET_PERCENTAGE # Use 1000 for test\n",
        "\n",
        "\n",
        "RANDOM_SEED = 100\n",
        "\n",
        "# Start from last checkpoint of experiment on SynthBootsrapDataset\n",
        "LOAD_FROM_CHECKPOINT = True\n",
        "LAST_CHECKPOINT_NAME = \"Pix2Struct_SynthBootstrap_10000_Complete_epoch[19].pth\""
      ]
    },
    {
      "cell_type": "code",
      "source": [
        "DEVICE = torch.device('cuda' if torch.cuda.is_available() else 'cpu')"
      ],
      "metadata": {
        "id": "UVN0Pk4IuVYN"
      },
      "execution_count": 5,
      "outputs": []
    },
    {
      "cell_type": "code",
      "execution_count": 6,
      "metadata": {
        "id": "sKC06Ai1Xhcl",
        "colab": {
          "base_uri": "https://localhost:8080/"
        },
        "outputId": "1ff3f4ce-aff2-4ba0-8113-41fd52032782"
      },
      "outputs": [
        {
          "output_type": "stream",
          "name": "stdout",
          "text": [
            "MAX_N_CHUNKS_PER_SENTENCE 5\n"
          ]
        }
      ],
      "source": [
        "MAX_N_CHUNKS_PER_SENTENCE = 1 + (MAX_SENTENCE_LEN - CHUNK_LENGTH) // (CHUNK_LENGTH - CONTEXT_OVERLAP_LENGTH)\n",
        "print(\"MAX_N_CHUNKS_PER_SENTENCE\", MAX_N_CHUNKS_PER_SENTENCE)"
      ]
    },
    {
      "cell_type": "markdown",
      "metadata": {
        "id": "kflo6stPSGhT"
      },
      "source": [
        "\n",
        "## Load Pix2Code Dataset"
      ]
    },
    {
      "cell_type": "markdown",
      "metadata": {
        "id": "tq4WHje5RJ9u"
      },
      "source": [
        "### Mount Google Drive"
      ]
    },
    {
      "cell_type": "code",
      "execution_count": 7,
      "metadata": {
        "id": "uGqbLAK6RJ9x",
        "colab": {
          "base_uri": "https://localhost:8080/"
        },
        "outputId": "66cfa499-eb02-477d-e492-3407ff3512cf"
      },
      "outputs": [
        {
          "output_type": "stream",
          "name": "stdout",
          "text": [
            "Mounted at /content/drive\n"
          ]
        }
      ],
      "source": [
        "drive.mount('/content/drive')"
      ]
    },
    {
      "cell_type": "markdown",
      "metadata": {
        "id": "R-TqChHhSYgz"
      },
      "source": [
        "### Import zip file from Google Drive"
      ]
    },
    {
      "cell_type": "code",
      "execution_count": 8,
      "metadata": {
        "id": "Ju1BprKCVbvg"
      },
      "outputs": [],
      "source": [
        "os.makedirs(DESTINATION_FOLDER, exist_ok=True)\n",
        "\n",
        "with zipfile.ZipFile(G_DRIVE_FOLDER + ZIP_NAME, \"r\") as zf:\n",
        "    zf.extractall(DESTINATION_FOLDER)"
      ]
    },
    {
      "cell_type": "markdown",
      "metadata": {
        "id": "XIyXwQultNqy"
      },
      "source": [
        "## Load Model and Processor"
      ]
    },
    {
      "cell_type": "code",
      "execution_count": 9,
      "metadata": {
        "id": "15QM1CZQtRWr",
        "colab": {
          "base_uri": "https://localhost:8080/",
          "height": 241,
          "referenced_widgets": [
            "f774d08a73044a289f38db70343c25be",
            "f24a98ed796945ea9ee1d448922883e0",
            "197fc7e8860640b18a1944b288f2af18",
            "63148cc2a9ab4e38b5f994324c10b881",
            "7dd6a54d5d4c45ceae92a9b837a06468",
            "1ed74977a84a460d9d7e4c07d8d50a7d",
            "89e251c316484ed3b64e890d1c33dfb7",
            "ee4d6c866c094beb8ff6dda8eef86801",
            "d49ab963d6c04a9cba769b73bc921094",
            "eceec9976a2f45919abb3d9fef530a73",
            "b37efaca33d944e9ae8456b31f5baf45",
            "4a8f7e455ea24e17976e1f7cf331512d",
            "1789803eb3734c56bdd845748ba7e782",
            "8d83697130c245b6a2ee2f0ed27ce6e2",
            "19e1e246b5c545c0a3b5d65d12858d9c",
            "9e66a2afdbee45af959c6fc3436ad19b",
            "6731fc1fa26d453eb205228d3ad853a3",
            "8952a5291af94b94851cf83e26897c18",
            "a148443ec03f441897747de8fea1ea63",
            "738e9bcc9adf4b039e2c77155bf0b2a3",
            "42e5729b3fb1412882bd006e1bee91cd",
            "c0b0ab9dd62447c8bb90cf75a14e345c",
            "3921346cd5254a9cb634312cca004965",
            "613ec954c4f44a98851376efe901eebb",
            "1b886cf6797144caadf46aa526da5086",
            "9697d7057620427e8a8d7c81100bb11b",
            "a322825ae4104ad28ea24a5f24a37aba",
            "7d72d8f2e7be4630b17bde81abfb206b",
            "cc2dfa98c53b4d8691c4324da064ebc2",
            "5a8fca6a0a7b42ba8ab9ff1f96cc0a68",
            "905134c91ec54d979d757f2de36065bd",
            "b7f06acbdba142d994cc1bd0448f87ac",
            "e8d2b7aee4d340c98f3cddbb96944eb1",
            "8637f00083ad413986357e28d7800fdc",
            "4852107fbfc649e9ac26d7b755a23d79",
            "7afea24be6734a6aa060924c5f7588e3",
            "7e7256938b6e4b30ae2f22a8ce966d5c",
            "8bdb407aa8ac448ebc9f05ef17acdbf9",
            "c93d165b163947a5b99b534687f22f7a",
            "1b3c6c4906ea43b5b323e0a5e3a7a062",
            "80d5cedb3d174ba780e4d912362741ac",
            "bc2dab6029e549cd98ac2cf641a59750",
            "8f10513ce1f44923a2c715bd10ae1ecf",
            "cdc7d4abf2cd4f41a77177bab9fa4906",
            "b0601128ed9449849237bad2c244c6e7",
            "6f0b45c0f0ee4ee19aa9b1bf39491d0a",
            "714ae75568fa44dd8b6f7ee8f4b7a8ea",
            "30d2ded319434ab2bd6b043eb799432b",
            "832c46c4e3c94016b0b7ae039c96bbaa",
            "65d0634c7e8f40fc935f85a09a5f6d98",
            "4ebc9e6c0cab472a9b0d79ac6015afef",
            "c78035cc50204ab8829e8147da1d3415",
            "9e176baa6507441e94445a28b0a9ef0b",
            "5209a5668e594fb796bb43debc8135a5",
            "ff2dfff56b994f65bd2015513c9392ff",
            "d9b9e03092654f5a9bed29c55b08f271",
            "141957fb3b2c4d4baf0f76f553182e5a",
            "afa701b2912245c1a6dd6bba16f563b6",
            "b9f3a180e36841e0bf99c5c9ce8804ba",
            "2ac2d8cfa65a4efabb34e761e3d0aeac",
            "d61d363f6ded4588998629b3a91447b8",
            "125293e2fc19433b85b91cb4dc022f3e",
            "6e303b2b7234413fa33ae85442ed7719",
            "626ccbef51cf40d2ad692bd9c910612a",
            "8d7c54bcef644849a5577a07fa4d3819",
            "724e33cdf10e4037a6534e3b8dca65ac",
            "2fc55d9ae3ec42ea8e1c374ba9c4df77",
            "5c44360d81354e14886b6dcf941f6c5d",
            "efa1389607cd4bfc86749a3f1d41b685",
            "2cc0b2775fc645b782c1c1f7681a0738",
            "597aa7e9f0bd44e8917bb026c7379837",
            "8f963448c6f14dcfa43fecf71159d7f1",
            "251f20f0e082416689030629583c9260",
            "e6f33bb97a3c4f1d92d076d2870cf9bd",
            "73c777c39f234462bfaea62381ac72f3",
            "6691c7fe55064a5f92eb062914e43b77",
            "878789209ebc4d2e88bb74e0d7a2266b"
          ]
        },
        "outputId": "1030171d-6456-4a59-fe38-f17ff54c84d0"
      },
      "outputs": [
        {
          "output_type": "display_data",
          "data": {
            "text/plain": [
              "Downloading (…)rocessor_config.json:   0%|          | 0.00/231 [00:00<?, ?B/s]"
            ],
            "application/vnd.jupyter.widget-view+json": {
              "version_major": 2,
              "version_minor": 0,
              "model_id": "f774d08a73044a289f38db70343c25be"
            }
          },
          "metadata": {}
        },
        {
          "output_type": "display_data",
          "data": {
            "text/plain": [
              "Downloading (…)okenizer_config.json:   0%|          | 0.00/2.61k [00:00<?, ?B/s]"
            ],
            "application/vnd.jupyter.widget-view+json": {
              "version_major": 2,
              "version_minor": 0,
              "model_id": "4a8f7e455ea24e17976e1f7cf331512d"
            }
          },
          "metadata": {}
        },
        {
          "output_type": "display_data",
          "data": {
            "text/plain": [
              "Downloading spiece.model:   0%|          | 0.00/851k [00:00<?, ?B/s]"
            ],
            "application/vnd.jupyter.widget-view+json": {
              "version_major": 2,
              "version_minor": 0,
              "model_id": "3921346cd5254a9cb634312cca004965"
            }
          },
          "metadata": {}
        },
        {
          "output_type": "display_data",
          "data": {
            "text/plain": [
              "Downloading (…)/main/tokenizer.json:   0%|          | 0.00/3.27M [00:00<?, ?B/s]"
            ],
            "application/vnd.jupyter.widget-view+json": {
              "version_major": 2,
              "version_minor": 0,
              "model_id": "8637f00083ad413986357e28d7800fdc"
            }
          },
          "metadata": {}
        },
        {
          "output_type": "display_data",
          "data": {
            "text/plain": [
              "Downloading (…)cial_tokens_map.json:   0%|          | 0.00/2.20k [00:00<?, ?B/s]"
            ],
            "application/vnd.jupyter.widget-view+json": {
              "version_major": 2,
              "version_minor": 0,
              "model_id": "b0601128ed9449849237bad2c244c6e7"
            }
          },
          "metadata": {}
        },
        {
          "output_type": "display_data",
          "data": {
            "text/plain": [
              "Downloading (…)lve/main/config.json:   0%|          | 0.00/4.92k [00:00<?, ?B/s]"
            ],
            "application/vnd.jupyter.widget-view+json": {
              "version_major": 2,
              "version_minor": 0,
              "model_id": "d9b9e03092654f5a9bed29c55b08f271"
            }
          },
          "metadata": {}
        },
        {
          "output_type": "display_data",
          "data": {
            "text/plain": [
              "Downloading pytorch_model.bin:   0%|          | 0.00/1.13G [00:00<?, ?B/s]"
            ],
            "application/vnd.jupyter.widget-view+json": {
              "version_major": 2,
              "version_minor": 0,
              "model_id": "2fc55d9ae3ec42ea8e1c374ba9c4df77"
            }
          },
          "metadata": {}
        }
      ],
      "source": [
        "repo_id = \"google/pix2struct-base\"\n",
        "\n",
        "processor = AutoProcessor.from_pretrained(repo_id)\n",
        "model = Pix2StructForConditionalGeneration.from_pretrained(repo_id, is_encoder_decoder=True)"
      ]
    },
    {
      "cell_type": "markdown",
      "metadata": {
        "id": "8vyJVirgV8VN"
      },
      "source": [
        "## Create Dataset class"
      ]
    },
    {
      "cell_type": "markdown",
      "source": [
        "### Preprocessing functions"
      ],
      "metadata": {
        "id": "lK0eTFCl01vq"
      }
    },
    {
      "cell_type": "code",
      "execution_count": 10,
      "metadata": {
        "id": "5cFoFlit1hGN"
      },
      "outputs": [],
      "source": [
        "def round_floats_in_text(text, precision=0):\n",
        "    # match float numbers with 2 or more decimal places in the text\n",
        "    pattern = r\"\\b\\d+\\.\\d{2,}\\b\"\n",
        "\n",
        "    def replace(match):\n",
        "        float_number = float(match.group())\n",
        "        return f\"{float_number:.{precision}f}\"\n",
        "\n",
        "    text = re.sub(pattern, replace, text)\n",
        "    return text"
      ]
    },
    {
      "cell_type": "code",
      "execution_count": 11,
      "metadata": {
        "id": "3DgqJJwSKsAj"
      },
      "outputs": [],
      "source": [
        "def remove_html_comments(text):\n",
        "    # match html comments\n",
        "    pattern = r\"<!--.*?-->\"\n",
        "\n",
        "    text = re.sub(pattern, '', text, flags=re.DOTALL)\n",
        "    return text"
      ]
    },
    {
      "cell_type": "code",
      "execution_count": 12,
      "metadata": {
        "id": "3Jj8_5IWClbz"
      },
      "outputs": [],
      "source": [
        "def preprocess_html_file(html_text):\n",
        "    text_cleaned = html_text.replace('\\n', ' ')\n",
        "    text_cleaned_without_multiple_spaces = re.sub(r'\\s+', ' ', text_cleaned)\n",
        "    text_without_comments = remove_html_comments(text_cleaned_without_multiple_spaces)\n",
        "    text_without_long_floats = round_floats_in_text(text_without_comments)\n",
        "    return text_without_long_floats"
      ]
    },
    {
      "cell_type": "markdown",
      "metadata": {
        "id": "pxls5fsNDAXL"
      },
      "source": [
        "### Find max sentence length and new unknown tokens"
      ]
    },
    {
      "cell_type": "code",
      "source": [
        "with open(G_DRIVE_FOLDER + 'sketchSynthBootstrap_list_files_4096.txt', 'r') as file:\n",
        "    all_paths = [line.strip() for line in file]"
      ],
      "metadata": {
        "id": "f1Q8943LSO-b"
      },
      "execution_count": 13,
      "outputs": []
    },
    {
      "cell_type": "code",
      "source": [
        "len(all_paths)"
      ],
      "metadata": {
        "colab": {
          "base_uri": "https://localhost:8080/"
        },
        "id": "ZqMid-_0CXay",
        "outputId": "eac202c1-d74a-4208-975d-fcb696e82f8a"
      },
      "execution_count": 14,
      "outputs": [
        {
          "output_type": "execute_result",
          "data": {
            "text/plain": [
              "9775"
            ]
          },
          "metadata": {},
          "execution_count": 14
        }
      ]
    },
    {
      "cell_type": "code",
      "source": [
        "#all_paths = all_paths[:10000]"
      ],
      "metadata": {
        "id": "kbF0_mn7HRAH"
      },
      "execution_count": 15,
      "outputs": []
    },
    {
      "cell_type": "code",
      "execution_count": 16,
      "metadata": {
        "id": "YEhd7D32SZrf",
        "colab": {
          "base_uri": "https://localhost:8080/"
        },
        "outputId": "89803dc0-1663-46e9-ff9a-754b5b1940ba"
      },
      "outputs": [
        {
          "output_type": "stream",
          "name": "stdout",
          "text": [
            "Max sentence length = 4068\n",
            "Number of new tokens = 0\n"
          ]
        }
      ],
      "source": [
        "# Find max length\n",
        "max_length = 0\n",
        "\n",
        "# Read text files and add new tokens to dictionary\n",
        "tokens_to_add = set()\n",
        "for html_file_path in all_paths:\n",
        "    with open(HTML_FILES_FOLDER + html_file_path, \"r\") as reader:\n",
        "        splitted_text = processor.tokenizer(preprocess_html_file(reader.read())).tokens()\n",
        "        tokens_to_add = tokens_to_add.union(set(splitted_text))\n",
        "\n",
        "        # Check if the current sentence has the largest number of tokens\n",
        "        if len(splitted_text) > max_length:\n",
        "            max_length = len(splitted_text)\n",
        "\n",
        "print(f\"Max sentence length = {max_length}\")\n",
        "\n",
        "newly_added_num = processor.tokenizer.add_tokens(list(tokens_to_add))\n",
        "print(f\"Number of new tokens = {newly_added_num}\")\n",
        "\n",
        "# Resize the model's token embeddings if there are new tokens\n",
        "if newly_added_num > 0:\n",
        "    model.decoder.resize_token_embeddings(len(processor.tokenizer))"
      ]
    },
    {
      "cell_type": "markdown",
      "metadata": {
        "id": "SfKTQ5aMPtfN"
      },
      "source": [
        "### Split files into training - validation - test sets"
      ]
    },
    {
      "cell_type": "code",
      "execution_count": 17,
      "metadata": {
        "id": "FJJvSGk00jfL",
        "colab": {
          "base_uri": "https://localhost:8080/"
        },
        "outputId": "d402df7a-cf7e-4cc3-d8e3-73ea9d4337da"
      },
      "outputs": [
        {
          "output_type": "stream",
          "name": "stdout",
          "text": [
            "TRAIN_SET size = 8777\n",
            "VALID_SET size = 19\n",
            "TEST_SET size = 979\n"
          ]
        }
      ],
      "source": [
        "random.seed(RANDOM_SEED)\n",
        "\n",
        "# Use the same seed, so that parts remain the same\n",
        "random.shuffle(all_paths)\n",
        "\n",
        "train_len = int(TRAIN_SET_PERCENTAGE * len(all_paths))\n",
        "valid_len = int(VALID_SET_PERCENTAGE * len(all_paths))\n",
        "\n",
        "train_paths = all_paths[:train_len]\n",
        "valid_paths = all_paths[train_len:train_len+valid_len]\n",
        "test_paths = all_paths[train_len+valid_len:]\n",
        "\n",
        "print(f\"TRAIN_SET size = {len(train_paths)}\")\n",
        "print(f\"VALID_SET size = {len(valid_paths)}\")\n",
        "print(f\"TEST_SET size = {len(test_paths)}\")"
      ]
    },
    {
      "cell_type": "code",
      "execution_count": 18,
      "metadata": {
        "id": "EiExjyGE1cla"
      },
      "outputs": [],
      "source": [
        "class SketchSynthBootstrapTrainingDataset(Dataset):\n",
        "    # This is a modification of the dataset used for validation and testing\n",
        "    # In this one the sentences are already split into chunks, already having\n",
        "    # the context from the previous chunk, empty chunks are discarded\n",
        "    def __init__(self, root_dir, transform, text_files_paths):\n",
        "\n",
        "        self.root_dir = root_dir\n",
        "        self.transform = transform\n",
        "        self.text_files_paths = text_files_paths\n",
        "\n",
        "        self.max_patches = MAX_PATCHES\n",
        "        self.max_length = MAX_SENTENCE_LEN\n",
        "        self.ignore_id = -100\n",
        "\n",
        "        self.data = []\n",
        "        self.images_encoding = []\n",
        "\n",
        "        for text_file in tqdm(text_files_paths):\n",
        "            image_file = text_file.replace('.html', '.png').replace('rw', 'sketch')\n",
        "\n",
        "            # Directly process the text files, and save them in the ram\n",
        "            # Do the same also for images, if there is enough space in memory\n",
        "            text_file_path = os.path.join(root_dir + \"html/\", text_file)\n",
        "            image_file_path = os.path.join(root_dir + \"sketches/\", image_file)\n",
        "\n",
        "            # Each data entry has the following structure\n",
        "            # labels, image_encoding_idx, part\n",
        "\n",
        "            # image_encoding_idx points to an entry of images_encoding, which contains attention_mask and flattened_patches for the image\n",
        "            # Since a single image is used for multiple slices of the same text, this approach is used to save memory\n",
        "\n",
        "            # Load image\n",
        "            image = Image.open(image_file_path).convert('RGB')\n",
        "\n",
        "            if DEBUG:\n",
        "                image.show()\n",
        "\n",
        "            if self.transform:\n",
        "                image = self.transform(image)\n",
        "\n",
        "            encoding = processor(images=image, max_patches=self.max_patches, return_tensors=\"pt\")\n",
        "            encoding = {k:v.squeeze() for k,v in encoding.items()}\n",
        "\n",
        "            self.images_encoding.append(encoding)\n",
        "            image_encoding_idx = len(self.images_encoding) - 1\n",
        "\n",
        "            # Load text\n",
        "            with open(text_file_path, 'r') as f:\n",
        "                text = f.read()\n",
        "                text_cleaned = preprocess_html_file(text)\n",
        "\n",
        "            if DEBUG:\n",
        "              print(\"text:\")\n",
        "              print(text)\n",
        "              print(\"\\n\\n\\ntext_cleaned:\")\n",
        "              print(text_cleaned)\n",
        "\n",
        "            input_ids = processor.tokenizer(\n",
        "                text_cleaned,\n",
        "                max_length=self.max_length,\n",
        "                padding=\"max_length\",\n",
        "                truncation=True,\n",
        "                return_tensors=\"pt\",\n",
        "            ).input_ids\n",
        "\n",
        "            input_ids_slices = []\n",
        "\n",
        "            start_index = 0\n",
        "            end_index = CHUNK_LENGTH\n",
        "            while end_index <= MAX_SENTENCE_LEN:\n",
        "                input_ids_slices.append(input_ids[:, start_index:end_index])\n",
        "                start_index = end_index - CONTEXT_OVERLAP_LENGTH\n",
        "                end_index = start_index + CHUNK_LENGTH\n",
        "\n",
        "            for part, input_ids_slice in enumerate(input_ids_slices):\n",
        "                labels = input_ids_slice.squeeze().clone()\n",
        "\n",
        "                labels[labels == processor.tokenizer.pad_token_id] = self.ignore_id  # model doesn't need to predict pad token\n",
        "\n",
        "                # Skip slices with only padding tokens, ignore context from the previous chunk\n",
        "                if part != 0 and all(x == self.ignore_id for x in labels[CONTEXT_OVERLAP_LENGTH:]):\n",
        "                    continue\n",
        "\n",
        "                # labels, image_encoding_idx, part\n",
        "                # Save them as int32 to save ram memory\n",
        "                self.data.append((labels.to(torch.int32), image_encoding_idx, part))\n",
        "\n",
        "    def __len__(self):\n",
        "        return len(self.data)\n",
        "\n",
        "    def __getitem__(self, idx):\n",
        "        labels, image_encoding_idx, part = self.data[idx]\n",
        "        encoding = self.images_encoding[image_encoding_idx]\n",
        "        encoding[\"labels\"] = labels.to(torch.int64)\n",
        "\n",
        "        return encoding, part"
      ]
    },
    {
      "cell_type": "code",
      "execution_count": 19,
      "metadata": {
        "id": "oMC2-OYYWB75"
      },
      "outputs": [],
      "source": [
        "class SketchSynthBootstrapDataset(Dataset):\n",
        "    def __init__(self, root_dir, transform, text_files_paths):\n",
        "\n",
        "        self.root_dir = root_dir\n",
        "        self.transform = transform\n",
        "        self.text_files_paths = text_files_paths\n",
        "\n",
        "        self.max_patches = MAX_PATCHES\n",
        "        self.max_length = MAX_SENTENCE_LEN\n",
        "        self.ignore_id = -100\n",
        "\n",
        "        self.encodings = []\n",
        "\n",
        "        for text_file in tqdm(text_files_paths):\n",
        "            image_file = text_file.replace('.html', '.png').replace('rw', 'sketch')\n",
        "\n",
        "            # Directly process the text files, and save them in the ram\n",
        "            # Do the same also for images, if there is enough space in memory\n",
        "            text_file_path = os.path.join(root_dir + \"html/\", text_file)\n",
        "            image_file_path = os.path.join(root_dir + \"sketches/\", image_file)\n",
        "\n",
        "            # Load image\n",
        "            image = Image.open(image_file_path).convert('RGB')\n",
        "\n",
        "            if DEBUG:\n",
        "                image.show()\n",
        "\n",
        "            if self.transform:\n",
        "                image = self.transform(image)\n",
        "\n",
        "            encoding = processor(images=image, max_patches=self.max_patches, return_tensors=\"pt\")\n",
        "            encoding = {k:v.squeeze() for k,v in encoding.items()}\n",
        "\n",
        "            # Load text\n",
        "            with open(text_file_path, 'r') as f:\n",
        "                text = f.read()\n",
        "                text_cleaned = preprocess_html_file(text)\n",
        "\n",
        "            if DEBUG:\n",
        "              print(\"text:\")\n",
        "              print(text)\n",
        "              print(\"\\n\\n\\ntext_cleaned:\")\n",
        "              print(text_cleaned)\n",
        "\n",
        "            input_ids = processor.tokenizer(\n",
        "                text_cleaned,\n",
        "                max_length=self.max_length,\n",
        "                padding=\"max_length\",\n",
        "                truncation=True,\n",
        "                return_tensors=\"pt\",\n",
        "            ).input_ids\n",
        "\n",
        "            labels = input_ids.squeeze().clone()\n",
        "            labels[labels == processor.tokenizer.pad_token_id] = self.ignore_id  # model doesn't need to predict pad token\n",
        "\n",
        "            encoding[\"labels\"] = labels.to(torch.int32)\n",
        "\n",
        "            # For each sample save directly the encoding of both text and image\n",
        "            self.encodings.append(encoding)\n",
        "\n",
        "    def __len__(self):\n",
        "        return len(self.encodings)\n",
        "\n",
        "    def __getitem__(self, idx):\n",
        "        return self.encodings[idx]"
      ]
    },
    {
      "cell_type": "code",
      "execution_count": 20,
      "metadata": {
        "id": "WulOgKwb1aNh",
        "colab": {
          "base_uri": "https://localhost:8080/"
        },
        "outputId": "8a124e86-029d-414e-dd18-1f86ba4cf246"
      },
      "outputs": [
        {
          "output_type": "stream",
          "name": "stderr",
          "text": [
            "100%|██████████| 8777/8777 [09:05<00:00, 16.09it/s]\n",
            "100%|██████████| 19/19 [00:01<00:00, 17.05it/s]\n"
          ]
        }
      ],
      "source": [
        "# Transformations for the image\n",
        "transform = transforms.Compose([\n",
        "    transforms.ToTensor(),  # convert PIL Image to PyTorch Tensor\n",
        "    transforms.Normalize(mean=[0.485, 0.456, 0.406], std=[0.229, 0.224, 0.225]),  # normalize for pretrained models\n",
        "])\n",
        "\n",
        "# Instantiate the CustomDataset\n",
        "train_dataset = SketchSynthBootstrapTrainingDataset(DATASET_FOLDER, transform, train_paths)\n",
        "val_dataset = SketchSynthBootstrapDataset(DATASET_FOLDER, transform, valid_paths)\n",
        "\n",
        "# Use DataLoader for batching and shuffling\n",
        "train_dataloader = DataLoader(train_dataset, batch_size=BATCH_SIZE, shuffle=True)\n",
        "val_dataloader = DataLoader(val_dataset, batch_size=10, shuffle=False) # Use 10 as batch for testing"
      ]
    },
    {
      "cell_type": "code",
      "execution_count": 21,
      "metadata": {
        "id": "RJbcAvt2eSvb",
        "colab": {
          "base_uri": "https://localhost:8080/"
        },
        "outputId": "147b4d6e-030f-4819-b107-0910a17b050c"
      },
      "outputs": [
        {
          "output_type": "stream",
          "name": "stdout",
          "text": [
            "train_dataloader size = 5197\n",
            "val_dataloader size = 2\n"
          ]
        }
      ],
      "source": [
        "print(f\"train_dataloader size = {len(train_dataloader)}\")\n",
        "print(f\"val_dataloader size = {len(val_dataloader)}\")"
      ]
    },
    {
      "cell_type": "code",
      "source": [
        "batch = next(iter(train_dataloader))"
      ],
      "metadata": {
        "id": "PqriagijAJPV"
      },
      "execution_count": 22,
      "outputs": []
    },
    {
      "cell_type": "code",
      "source": [
        "encoding, part = batch"
      ],
      "metadata": {
        "id": "weky0ZtQALky"
      },
      "execution_count": 23,
      "outputs": []
    },
    {
      "cell_type": "code",
      "source": [
        "encoding[\"labels\"]"
      ],
      "metadata": {
        "colab": {
          "base_uri": "https://localhost:8080/"
        },
        "id": "2zjLcfjQDQYg",
        "outputId": "58195425-46fd-4f5f-c5de-2ee281767cf6"
      },
      "execution_count": 24,
      "outputs": [
        {
          "output_type": "execute_result",
          "data": {
            "text/plain": [
              "tensor([[11464,   286, 24038,  ...,  -100,  -100,  -100],\n",
              "        [  476,   360,   371,  ...,   572,  4915, 23883],\n",
              "        [  411,   333, 13676,  ...,   393,  7057,   288],\n",
              "        [  411,   333, 13676,  ...,   371, 50163,   589]])"
            ]
          },
          "metadata": {},
          "execution_count": 24
        }
      ]
    },
    {
      "cell_type": "markdown",
      "metadata": {
        "id": "g7DngCr1FJQJ"
      },
      "source": [
        "## Training"
      ]
    },
    {
      "cell_type": "code",
      "execution_count": 25,
      "metadata": {
        "id": "zkCJQz_GEM4W"
      },
      "outputs": [],
      "source": [
        "START_TOKEN_ID = PAD_TOKEN_ID = processor.tokenizer.pad_token_id"
      ]
    },
    {
      "cell_type": "markdown",
      "source": [
        "### Utility functions"
      ],
      "metadata": {
        "id": "fWSsn0vr1mV2"
      }
    },
    {
      "cell_type": "code",
      "execution_count": 26,
      "metadata": {
        "id": "mq6Y22hDqn3x"
      },
      "outputs": [],
      "source": [
        "def move_to_device(data):\n",
        "    if isinstance(data, (list,tuple)):\n",
        "        return [move_to_device(x) for x in data]\n",
        "    elif isinstance(data, dict):\n",
        "        return {k: move_to_device(v) for k, v in data.items()}\n",
        "    elif isinstance(data, torch.Tensor):\n",
        "        return data.to(DEVICE)\n",
        "    else:\n",
        "        return data"
      ]
    },
    {
      "cell_type": "code",
      "execution_count": 27,
      "metadata": {
        "id": "JRX7UDLE4Nh8"
      },
      "outputs": [],
      "source": [
        "def create_extended_attention_mask_for_decoder_with_context(input_shape, attention_mask, part):\n",
        "    device = attention_mask.device\n",
        "    batch_size, seq_length = input_shape\n",
        "    seq_ids = torch.arange(seq_length, device=device)\n",
        "\n",
        "    causal_mask = seq_ids[None, None, :].repeat(batch_size, seq_length, 1) <= seq_ids[None, :, None]\n",
        "\n",
        "    # Expand part to have the same shape as the relevant slice of causal_mask\n",
        "    part_expanded = part.unsqueeze(-1).unsqueeze(-1).expand(-1, seq_length, CONTEXT_OVERLAP_LENGTH)\n",
        "\n",
        "    # Create a mask with ones where part is not zero\n",
        "    context_mask = (part_expanded != 0).float()\n",
        "\n",
        "    # Apply the context_mask to the corresponding part of causal_mask\n",
        "    causal_mask[:, :, :CONTEXT_OVERLAP_LENGTH] = causal_mask[:, :, :CONTEXT_OVERLAP_LENGTH] * (1 - context_mask) + context_mask\n",
        "\n",
        "    # in case past_key_values are used we need to add a prefix ones mask to the causal mask\n",
        "    causal_mask = causal_mask.to(attention_mask.dtype)\n",
        "\n",
        "    if causal_mask.shape[1] < attention_mask.shape[1]:\n",
        "        print(\"!!should not enter here in my case!!\")\n",
        "        prefix_seq_len = attention_mask.shape[1] - causal_mask.shape[1]\n",
        "        causal_mask = torch.cat(\n",
        "            [\n",
        "                torch.ones((batch_size, seq_length, prefix_seq_len), device=device, dtype=causal_mask.dtype),\n",
        "                causal_mask,\n",
        "            ],\n",
        "            axis=-1,\n",
        "        )\n",
        "\n",
        "    extended_attention_mask = causal_mask[:, :, :] * attention_mask[:, None, :]\n",
        "    return extended_attention_mask\n"
      ]
    },
    {
      "cell_type": "code",
      "execution_count": 28,
      "metadata": {
        "id": "8RMB16MR53fK"
      },
      "outputs": [],
      "source": [
        "def get_attention_mask(decoder_input_ids, part):\n",
        "    decoder_attention_mask = (decoder_input_ids.ne(PAD_TOKEN_ID).float())\n",
        "\n",
        "    # always attend on first token\n",
        "    decoder_attention_mask[:, 0] = 1\n",
        "\n",
        "    # Expand part to have the same shape as the relevant slice of decoder_attention_mask\n",
        "    part_expanded = part.unsqueeze(-1).expand(-1, CONTEXT_OVERLAP_LENGTH)\n",
        "\n",
        "    # Create a mask with ones where part is not zero\n",
        "    context_mask = (part_expanded != 0).float()\n",
        "\n",
        "    # Apply the context_mask to the corresponding part of decoder_attention_mask\n",
        "    decoder_attention_mask[:, 0:CONTEXT_OVERLAP_LENGTH] = decoder_attention_mask[:, 0:CONTEXT_OVERLAP_LENGTH] * (1 - context_mask) + context_mask\n",
        "\n",
        "    return decoder_attention_mask"
      ]
    },
    {
      "cell_type": "code",
      "execution_count": 29,
      "metadata": {
        "id": "I4EwQ8iP8a9I"
      },
      "outputs": [],
      "source": [
        "def shift_right_modified(input_ids, decoder_starting_token_idx):\n",
        "\n",
        "    # shift inputs to the right\n",
        "    shifted_input_ids = input_ids.new_zeros(input_ids.shape)\n",
        "    shifted_input_ids[..., 1:] = input_ids[..., :-1].clone()\n",
        "    shifted_input_ids[..., 0] = decoder_starting_token_idx\n",
        "\n",
        "    # replace possible -100 values in labels by `pad_token_id`\n",
        "    shifted_input_ids.masked_fill_(shifted_input_ids == -100, PAD_TOKEN_ID)\n",
        "\n",
        "    return shifted_input_ids"
      ]
    },
    {
      "cell_type": "code",
      "execution_count": 30,
      "metadata": {
        "id": "Mvsy0HBseyzQ"
      },
      "outputs": [],
      "source": [
        "def get_decoder_input_ids(labels_chunk, start_id):\n",
        "    return shift_right_modified(labels_chunk, start_id)"
      ]
    },
    {
      "cell_type": "code",
      "execution_count": 31,
      "metadata": {
        "id": "2LqZyYsWOywQ"
      },
      "outputs": [],
      "source": [
        "def get_decoder_input_ids_and_attention_mask(labels, part):\n",
        "    decoder_input_ids = get_decoder_input_ids(labels, START_TOKEN_ID)\n",
        "    decoder_attention_mask = get_attention_mask(decoder_input_ids, part)\n",
        "    extended_decoder_attention_mask = create_extended_attention_mask_for_decoder_with_context(decoder_input_ids.shape, decoder_attention_mask, part)\n",
        "\n",
        "    return decoder_input_ids, extended_decoder_attention_mask"
      ]
    },
    {
      "cell_type": "markdown",
      "source": [
        "### Main training function"
      ],
      "metadata": {
        "id": "TEt-owxM1puj"
      }
    },
    {
      "cell_type": "code",
      "execution_count": 32,
      "metadata": {
        "id": "1j0_8Yk6Gk4-"
      },
      "outputs": [],
      "source": [
        "def train_model(config, processor, model, train_dataloader, val_dataloader):\n",
        "    # Extract configuration values\n",
        "    lr = config.get(\"lr\")\n",
        "    max_epochs = config.get(\"max_epochs\")\n",
        "    num_warmup_steps = config.get(\"num_warmup_steps\")\n",
        "\n",
        "    model.to(DEVICE)\n",
        "\n",
        "    optimizer = Adafactor(model.parameters(), scale_parameter=False, relative_step=False, lr=lr, weight_decay=1e-05)\n",
        "\n",
        "    # Use total steps (i.e., max_epochs * length_of_train_data)\n",
        "    total_steps = max_epochs * len(train_dataloader)\n",
        "    scheduler = get_cosine_schedule_with_warmup(optimizer,\n",
        "                                                num_warmup_steps=num_warmup_steps,\n",
        "                                                num_training_steps=total_steps)\n",
        "\n",
        "    global_step = 0  # to keep track of total steps\n",
        "    epoch_start = 0\n",
        "\n",
        "    if LOAD_FROM_CHECKPOINT:\n",
        "        print(\"Loading model from checkpoint:\", LAST_CHECKPOINT_NAME)\n",
        "        checkpoint = torch.load(G_DRIVE_FOLDER_CHECKPOINTS + LAST_CHECKPOINT_NAME)\n",
        "\n",
        "        # Load only model weights from training on synth bootstrap dataset\n",
        "        model.load_state_dict(checkpoint[\"model_state_dict\"])\n",
        "        #optimizer.load_state_dict(checkpoint[\"optimizer_state_dict\"])\n",
        "        #scheduler.load_state_dict(checkpoint[\"scheduler_state_dict\"])\n",
        "        #epoch_start = checkpoint[\"epoch\"] + 1\n",
        "        #global_step = checkpoint[\"global_step\"] + 1\n",
        "        #wandb_run_id = checkpoint[\"wandb_run_id\"]\n",
        "\n",
        "        # Resume the WandB run\n",
        "        #wandb.init(project=\"Pix2Struct\", name=\"run-\" + EXPERIMENT_NAME, config=config, resume=wandb_run_id)\n",
        "\n",
        "        wandb.init(project=\"Pix2Struct\", name=\"run-\" + EXPERIMENT_NAME, config=config)\n",
        "    else:\n",
        "        wandb.init(project=\"Pix2Struct\", name=\"run-\" + EXPERIMENT_NAME, config=config)\n",
        "\n",
        "    #epoch_last = epoch_start + max_epochs - 1\n",
        "    epoch_last = max_epochs - 1\n",
        "    #for epoch in range(epoch_start, epoch_start + max_epochs):\n",
        "    for epoch in range(epoch_start, max_epochs):\n",
        "        global_step, moving_avg_loss = training_loop(epoch, train_dataloader, model, config, optimizer, scheduler, global_step, epoch_last)\n",
        "\n",
        "        if config.get(\"verbose\", False):\n",
        "            print(f\"Moving Avg Loss: {moving_avg_loss:.3f}\")\n",
        "\n",
        "        wandb.log({\"moving_avg_loss\": moving_avg_loss, **{f'lr_{i}': param_group['lr'] for i, param_group in enumerate(optimizer.param_groups)}})\n",
        "\n",
        "        # Save the model after each validation step\n",
        "        save_checkpoint(model, optimizer, scheduler, epoch, global_step, wandb.run.id, EXPERIMENT_NAME, G_DRIVE_FOLDER_CHECKPOINTS)\n",
        "\n",
        "        #if epoch == 0 + epoch_start or epoch == epoch_last or (epoch + 1) % config.get(\"check_val_every_n_epoch\") == 0:\n",
        "        if epoch == epoch_last or (epoch + 1) % config.get(\"check_val_every_n_epoch\") == 0:\n",
        "            avg_bleu_score = testing_loop(val_dataloader, model, processor, config, f\"Epoch {epoch}/{epoch_last} - valid loop\")\n",
        "\n",
        "            if config.get(\"verbose\", False):\n",
        "                print(f\" Avg Bleu Score: {avg_bleu_score:.2f}\")\n",
        "\n",
        "            wandb.log({\"bleu\": avg_bleu_score})\n",
        "\n",
        "    wandb.finish()"
      ]
    },
    {
      "cell_type": "code",
      "source": [
        "def training_loop(epoch, train_dataloader, model, config, optimizer, scheduler, global_step, epoch_last):\n",
        "    model.train()\n",
        "    train_loop = tqdm(enumerate(train_dataloader), total=len(train_dataloader), desc=f\"Epoch {epoch}/{epoch_last} - train loop\")\n",
        "\n",
        "    # Extract configuration values\n",
        "    accumulate_grad_batches = config.get('accumulate_grad_batches', 1)\n",
        "    gradient_clip_val = config.get(\"gradient_clip_val\")\n",
        "\n",
        "    moving_avg_loss = 0\n",
        "    alpha = 0.1 # Smoothing factor\n",
        "\n",
        "    for step, batch in train_loop:\n",
        "        encoding, part = map(move_to_device, batch)\n",
        "        labels, flattened_patches, attention_mask = encoding[\"labels\"], encoding[\"flattened_patches\"], encoding[\"attention_mask\"]\n",
        "\n",
        "        decoder_input_ids, decoder_attention_mask = get_decoder_input_ids_and_attention_mask(labels, part)\n",
        "        outputs = model(labels=labels, flattened_patches=flattened_patches, attention_mask=attention_mask, decoder_input_ids=decoder_input_ids, decoder_attention_mask=decoder_attention_mask)\n",
        "        loss = outputs.loss\n",
        "        loss.backward()\n",
        "\n",
        "        if global_step % accumulate_grad_batches == 0 or step == len(train_dataloader) - 1:\n",
        "            if gradient_clip_val:\n",
        "                torch.nn.utils.clip_grad_norm_(model.parameters(), gradient_clip_val)\n",
        "            optimizer.step()\n",
        "            optimizer.zero_grad()\n",
        "\n",
        "        # Update the progress bar\n",
        "        train_loop.set_postfix({'loss': loss.item()}, refresh=True)\n",
        "\n",
        "        scheduler.step()\n",
        "        global_step += 1\n",
        "\n",
        "        # Update the moving average loss\n",
        "        moving_avg_loss = loss.item() if moving_avg_loss == 0 else alpha * loss.item() + (1 - alpha) * moving_avg_loss\n",
        "\n",
        "        # Log Loss after each step\n",
        "        wandb.log({\"loss\": loss.item()})\n",
        "\n",
        "    return global_step, moving_avg_loss"
      ],
      "metadata": {
        "id": "wg6u7CI38kMU"
      },
      "execution_count": 33,
      "outputs": []
    },
    {
      "cell_type": "code",
      "source": [
        "def testing_loop(testing_dataloader, model, processor, config, description):\n",
        "    model.eval()\n",
        "    bleu_scores = []\n",
        "\n",
        "    with torch.no_grad():\n",
        "        test_loop = tqdm(enumerate(testing_dataloader), total=len(testing_dataloader), desc=description)\n",
        "        for i, batch in test_loop:\n",
        "            encoding = move_to_device(batch)\n",
        "            labels, flattened_patches, attention_mask = encoding[\"labels\"], encoding[\"flattened_patches\"], encoding[\"attention_mask\"]\n",
        "\n",
        "            # Initialize total_outputs with zeros\n",
        "            total_outputs = None\n",
        "            context_from_last = None\n",
        "\n",
        "            # Initialize a mask to track which sentences are finished\n",
        "            finished_sentences_mask = torch.zeros(flattened_patches.size(0), dtype=torch.bool, device=flattened_patches.device)\n",
        "\n",
        "            for iteration in range(MAX_N_CHUNKS_PER_SENTENCE):\n",
        "\n",
        "                generate_args = {\n",
        "                    \"flattened_patches\": flattened_patches[~finished_sentences_mask],\n",
        "                    \"attention_mask\": attention_mask[~finished_sentences_mask],\n",
        "                    \"max_new_tokens\": CHUNK_LENGTH - (CONTEXT_OVERLAP_LENGTH if iteration else 0),\n",
        "                }\n",
        "\n",
        "                if iteration and context_from_last is not None:\n",
        "                    generate_args[\"decoder_input_ids\"] = context_from_last[~finished_sentences_mask]\n",
        "\n",
        "                outputs = model.generate(**generate_args)\n",
        "\n",
        "                # Remove context overlap only from the second iteration onwards\n",
        "                new_chunks = outputs if iteration == 0 else outputs[:, CONTEXT_OVERLAP_LENGTH:]\n",
        "\n",
        "                if iteration == 0:\n",
        "                    total_outputs = new_chunks\n",
        "                else:\n",
        "                    # Update total_outputs by concatenating new chunks\n",
        "                    new_chunks_with_padding_chunks = torch.full((flattened_patches.shape[0], new_chunks.shape[1]), PAD_TOKEN_ID, dtype=new_chunks.dtype, device=new_chunks.device)\n",
        "                    new_chunks_with_padding_chunks[~finished_sentences_mask] = new_chunks\n",
        "                    total_outputs = torch.cat((total_outputs, new_chunks_with_padding_chunks), dim=1)\n",
        "\n",
        "                # Update the finished_sentences_mask\n",
        "                finished_sentences_mask[~finished_sentences_mask] |= (outputs == processor.tokenizer.eos_token_id).any(dim=1)\n",
        "\n",
        "                # If all sentences are finished, exit the loop\n",
        "                if finished_sentences_mask.all():\n",
        "                    break\n",
        "\n",
        "                if outputs.shape[1] < CHUNK_LENGTH:\n",
        "                    print(\"ERROR: !! should have already exited because all sentences reached the end!!\")\n",
        "\n",
        "                # -1 because it will put in front a START_TOKEN automatically\n",
        "                context_from_last = total_outputs[:, -(CONTEXT_OVERLAP_LENGTH-1):]\n",
        "\n",
        "            predictions = processor.tokenizer.batch_decode(total_outputs, skip_special_tokens=True)\n",
        "\n",
        "            labels[labels == -100] = 0\n",
        "            answers = processor.tokenizer.batch_decode(labels, skip_special_tokens=True)\n",
        "\n",
        "            bleu_scores += [corpus_bleu([[answer]], [pred], smoothing_function=SmoothingFunction().method4) for pred, answer in zip(predictions, answers)]\n",
        "\n",
        "            avg_bleu_score = np.mean(bleu_scores)\n",
        "            test_loop.set_postfix(bleu_score=avg_bleu_score)\n",
        "\n",
        "            if config.get(\"verbose\", False):\n",
        "                for pred, answer, bleu_score in zip(predictions, answers, bleu_scores):\n",
        "                    tqdm.write(f\"\\nPrediction: {pred}\\n    Answer: {answer}\\n      Bleu: {bleu_score:.2f}\")\n",
        "\n",
        "\n",
        "    return avg_bleu_score\n"
      ],
      "metadata": {
        "id": "RXfc_whn-qJW"
      },
      "execution_count": 34,
      "outputs": []
    },
    {
      "cell_type": "code",
      "source": [
        "def save_checkpoint(model, optimizer, scheduler, epoch, global_step, wandb_run_id, experiment_name, folder_path):\n",
        "    checkpoint = {\n",
        "        \"model_state_dict\": model.state_dict(),\n",
        "        \"optimizer_state_dict\": optimizer.state_dict(),\n",
        "        \"scheduler_state_dict\": scheduler.state_dict(),\n",
        "        \"epoch\": epoch,\n",
        "        \"global_step\": global_step,\n",
        "        'wandb_run_id': wandb_run_id\n",
        "    }\n",
        "    model_name = f\"{experiment_name}_epoch[{epoch}].pth\"\n",
        "    torch.save(checkpoint, folder_path + model_name)\n"
      ],
      "metadata": {
        "id": "GhiWvFFFA8n4"
      },
      "execution_count": 35,
      "outputs": []
    },
    {
      "cell_type": "code",
      "execution_count": 36,
      "metadata": {
        "id": "F6Lme6odJJK8"
      },
      "outputs": [],
      "source": [
        "config = {\n",
        "          \"batch_size\": BATCH_SIZE,\n",
        "          \"num_warmup_steps\": NUM_WARMUP_STEPS,\n",
        "          \"max_epochs\": MAX_EPOCHS,\n",
        "          \"lr\": LR,\n",
        "          \"check_val_every_n_epoch\": CHECK_VAL_EVERY_N_EPOCH,\n",
        "          \"gradient_clip_val\": GRADIENT_CLIP_VAL,\n",
        "          \"accumulate_grad_batches\": ACCUMULATE_GRAD_BATCHES,\n",
        "          \"verbose\": VERBOSE,\n",
        "}"
      ]
    },
    {
      "cell_type": "code",
      "source": [
        "def validate_config(config):\n",
        "    # Check required keys\n",
        "    required_keys = [\n",
        "        \"batch_size\",\n",
        "        \"num_warmup_steps\",\n",
        "        \"max_epochs\",\n",
        "        \"lr\",\n",
        "        \"check_val_every_n_epoch\",\n",
        "        \"gradient_clip_val\",\n",
        "        \"accumulate_grad_batches\",\n",
        "        \"verbose\"\n",
        "    ]\n",
        "    for key in required_keys:\n",
        "        if key not in config:\n",
        "            raise ValueError(f\"Key '{key}' must be present in the configuration.\")\n",
        "\n",
        "    # Check that values are in expected ranges\n",
        "    if config[\"batch_size\"] <= 0:\n",
        "        raise ValueError(\"batch_size must be positive.\")\n",
        "    if config[\"num_warmup_steps\"] < 0:\n",
        "        raise ValueError(\"num_warmup_steps must be non-negative.\")\n",
        "    if config[\"max_epochs\"] <= 0:\n",
        "        raise ValueError(\"max_epochs must be positive.\")\n",
        "    if config[\"lr\"] <= 0:\n",
        "        raise ValueError(\"Learning rate must be positive.\")\n",
        "    if config[\"check_val_every_n_epoch\"] <= 0:\n",
        "        raise ValueError(\"check_val_every_n_epoch must be positive.\")\n",
        "    if config[\"gradient_clip_val\"] < 0:\n",
        "        raise ValueError(\"gradient_clip_val must be non-negative.\")\n",
        "    if config[\"accumulate_grad_batches\"] <= 0:\n",
        "        raise ValueError(\"accumulate_grad_batches must be positive.\")\n",
        "    if not isinstance(config[\"verbose\"], bool):\n",
        "        raise ValueError(\"verbose must be a boolean value.\")\n"
      ],
      "metadata": {
        "id": "QxemWk5nEfZL"
      },
      "execution_count": 37,
      "outputs": []
    },
    {
      "cell_type": "code",
      "source": [
        "validate_config(config)\n",
        "print(config)"
      ],
      "metadata": {
        "id": "knzzKEtwEruj",
        "colab": {
          "base_uri": "https://localhost:8080/"
        },
        "outputId": "51070f4b-afd2-41bd-b53e-5a3523d44daa"
      },
      "execution_count": 38,
      "outputs": [
        {
          "output_type": "stream",
          "name": "stdout",
          "text": [
            "{'batch_size': 4, 'num_warmup_steps': 5000, 'max_epochs': 10, 'lr': 0.0001, 'check_val_every_n_epoch': 5, 'gradient_clip_val': 1.0, 'accumulate_grad_batches': 2.0, 'verbose': True}\n"
          ]
        }
      ]
    },
    {
      "cell_type": "code",
      "execution_count": 41,
      "metadata": {
        "id": "EPfNUdrEoci8",
        "colab": {
          "base_uri": "https://localhost:8080/",
          "height": 1000
        },
        "outputId": "629c5025-2948-4ece-9f2b-34971be0df82"
      },
      "outputs": [
        {
          "metadata": {
            "tags": null
          },
          "name": "stdout",
          "output_type": "stream",
          "text": [
            "Loading model from checkpoint: Pix2Struct_SynthBootstrap_10000_Complete_epoch[19].pth\n"
          ]
        },
        {
          "data": {
            "application/javascript": [
              "\n",
              "        window._wandbApiKey = new Promise((resolve, reject) => {\n",
              "            function loadScript(url) {\n",
              "            return new Promise(function(resolve, reject) {\n",
              "                let newScript = document.createElement(\"script\");\n",
              "                newScript.onerror = reject;\n",
              "                newScript.onload = resolve;\n",
              "                document.body.appendChild(newScript);\n",
              "                newScript.src = url;\n",
              "            });\n",
              "            }\n",
              "            loadScript(\"https://cdn.jsdelivr.net/npm/postmate/build/postmate.min.js\").then(() => {\n",
              "            const iframe = document.createElement('iframe')\n",
              "            iframe.style.cssText = \"width:0;height:0;border:none\"\n",
              "            document.body.appendChild(iframe)\n",
              "            const handshake = new Postmate({\n",
              "                container: iframe,\n",
              "                url: 'https://wandb.ai/authorize'\n",
              "            });\n",
              "            const timeout = setTimeout(() => reject(\"Couldn't auto authenticate\"), 5000)\n",
              "            handshake.then(function(child) {\n",
              "                child.on('authorize', data => {\n",
              "                    clearTimeout(timeout)\n",
              "                    resolve(data)\n",
              "                });\n",
              "            });\n",
              "            })\n",
              "        });\n",
              "    "
            ],
            "text/plain": [
              "<IPython.core.display.Javascript object>"
            ]
          },
          "metadata": {},
          "output_type": "display_data"
        },
        {
          "metadata": {
            "tags": null
          },
          "name": "stderr",
          "output_type": "stream",
          "text": [
            "\u001b[34m\u001b[1mwandb\u001b[0m: Appending key for api.wandb.ai to your netrc file: /root/.netrc\n"
          ]
        },
        {
          "data": {
            "text/html": [
              "Tracking run with wandb version 0.15.9"
            ],
            "text/plain": [
              "<IPython.core.display.HTML object>"
            ]
          },
          "metadata": {},
          "output_type": "display_data"
        },
        {
          "data": {
            "text/html": [
              "Run data is saved locally in <code>/content/wandb/run-20230902_225044-fj0vb3pn</code>"
            ],
            "text/plain": [
              "<IPython.core.display.HTML object>"
            ]
          },
          "metadata": {},
          "output_type": "display_data"
        },
        {
          "data": {
            "text/html": [
              "Syncing run <strong><a href='https://wandb.ai/team-gs/Pix2Struct/runs/fj0vb3pn' target=\"_blank\">run-Pix2Struct_SketchSynthBootstrap_Complete</a></strong> to <a href='https://wandb.ai/team-gs/Pix2Struct' target=\"_blank\">Weights & Biases</a> (<a href='https://wandb.me/run' target=\"_blank\">docs</a>)<br/>"
            ],
            "text/plain": [
              "<IPython.core.display.HTML object>"
            ]
          },
          "metadata": {},
          "output_type": "display_data"
        },
        {
          "data": {
            "text/html": [
              " View project at <a href='https://wandb.ai/team-gs/Pix2Struct' target=\"_blank\">https://wandb.ai/team-gs/Pix2Struct</a>"
            ],
            "text/plain": [
              "<IPython.core.display.HTML object>"
            ]
          },
          "metadata": {},
          "output_type": "display_data"
        },
        {
          "data": {
            "text/html": [
              " View run at <a href='https://wandb.ai/team-gs/Pix2Struct/runs/fj0vb3pn' target=\"_blank\">https://wandb.ai/team-gs/Pix2Struct/runs/fj0vb3pn</a>"
            ],
            "text/plain": [
              "<IPython.core.display.HTML object>"
            ]
          },
          "metadata": {},
          "output_type": "display_data"
        },
        {
          "metadata": {
            "tags": null
          },
          "name": "stderr",
          "output_type": "stream",
          "text": [
            "Epoch 0/9 - train loop: 100%|██████████| 5197/5197 [1:08:01<00:00,  1.27it/s, loss=0.17]\n"
          ]
        },
        {
          "metadata": {
            "tags": null
          },
          "name": "stdout",
          "output_type": "stream",
          "text": [
            "Moving Avg Loss: 0.265\n"
          ]
        },
        {
          "metadata": {
            "tags": null
          },
          "name": "stderr",
          "output_type": "stream",
          "text": [
            "Epoch 1/9 - train loop: 100%|██████████| 5197/5197 [1:07:58<00:00,  1.27it/s, loss=0.48]\n"
          ]
        },
        {
          "metadata": {
            "tags": null
          },
          "name": "stdout",
          "output_type": "stream",
          "text": [
            "Moving Avg Loss: 0.336\n"
          ]
        },
        {
          "metadata": {
            "tags": null
          },
          "name": "stderr",
          "output_type": "stream",
          "text": [
            "Epoch 2/9 - train loop: 100%|██████████| 5197/5197 [1:07:55<00:00,  1.28it/s, loss=0.277]\n"
          ]
        },
        {
          "metadata": {
            "tags": null
          },
          "name": "stdout",
          "output_type": "stream",
          "text": [
            "Moving Avg Loss: 0.279\n"
          ]
        },
        {
          "metadata": {
            "tags": null
          },
          "name": "stderr",
          "output_type": "stream",
          "text": [
            "Epoch 3/9 - train loop: 100%|██████████| 5197/5197 [1:07:55<00:00,  1.28it/s, loss=0.2]\n"
          ]
        },
        {
          "metadata": {
            "tags": null
          },
          "name": "stdout",
          "output_type": "stream",
          "text": [
            "Moving Avg Loss: 0.323\n"
          ]
        },
        {
          "output_type": "stream",
          "name": "stderr",
          "text": [
            "Epoch 4/9 - train loop: 100%|██████████| 5197/5197 [1:07:54<00:00,  1.28it/s, loss=0.0994]\n"
          ]
        },
        {
          "output_type": "stream",
          "name": "stdout",
          "text": [
            "Moving Avg Loss: 0.269\n"
          ]
        },
        {
          "output_type": "stream",
          "name": "stderr",
          "text": [
            "Epoch 4/9 - valid loop:  50%|█████     | 1/2 [07:13<07:13, 433.22s/it, bleu_score=0.843]"
          ]
        },
        {
          "output_type": "stream",
          "name": "stdout",
          "text": [
            "\n",
            "Prediction: <!DOCTYPE html> <html> <head> <title>Dominate</title> <meta content=\"width=device-width, initial-scale=1.0\" name=\"viewport\"> <meta content=\"Web Generator\" name=\"author\"> <meta content=\"3\" name=\"wg-layout\"> <link href=\"../css/custom-bootstrap.css\" rel=\"stylesheet\"> <link href=\"../css/wg-extras.css\" rel=\"stylesheet\"> <script src=\"../js/jquery-3.2.1.slim.min.js\" type=\"text/javascript\"></script> <script src=\"../js/bootstrap.min.js\" type=\"text/javascript\"></script> </head> <body class=\"\"> <div class=\" rounded shadow-lg\" id=\"full-wrapper\"> <nav class=\"bg-light navbar-light rounded shadow-lg navbar navbar-expand-md\" data-wg-type=\"navbar\"> <a class=\"navbar-brand\" data-wg-type=\"label\" href=\"#\">Labore</a> <button class=\"navbar-toggler\" data-target=\"#main-nav\" data-toggle=\"collapse\" type=\"button\"> <span class=\"navbar-toggler-icon\"></span> </button> <div class=\"collapse navbar-collapse\" id=\"main-nav\" style=\"height: 5vh;\"> <ul class=\"navbar-nav mr-auto\"> <li class=\"nav-item\"> <a class=\"nav-link\" data-wg-type=\"button\" href=\"#\">Enim ullamco</a> </li> <li class=\"nav-item\"> <a class=\"nav-link\" data-wg-type=\"button\" href=\"#\">Adipiscing in</a> </li> <li class=\"nav-item\"> <a class=\"nav-link\" data-wg-type=\"button\" href=\"#\">Sit cillum in</a> </li> <li class=\"nav-item\"> <a class=\"nav-link\" data-wg-type=\"button\" href=\"#\">Et cillum sit</a> </li> <li class=\"nav-item\"> <a class=\"nav-link\" data-wg-type=\"button\" href=\"#\">Enim ullamco</a> </li> <li class=\"nav-item\"> <a class=\"nav-link\" data-wg-type=\"button\" href=\"#\">Enim ullamco</a> </li> </ul> </div> </nav> <div class=\"d-flex\"> <div class=\"container-fluid py-3\" id=\"page-content\"> <form class=\"p-3\"> <div class=\"form-row\"> <div class=\"form-group col-md\"> <label data-wg-type=\"label\" for=\"cupidatat\">Cupidatat</label> <input class=\"form-control\" data-wg-type=\"text\" id=\"cupidatat\" type=\"text\"> </div> <div class=\"form-group col-md\"> <label data-wg-type=\"label\" for=\"est\">Est</label> <input class=\"form-control\" data-wg-type=\"text\" id=\"est\" type=\"text\"> </div> </div> <div class=\"form-row\"> <div class=\"form-group col-md\"> <label data-wg-type=\"label\" for=\"laboris_incididunt\">Laboris incididunt</label> <input class=\"form-control\" data-wg-type=\"text\" id=\"laboris_incididunt\" type=\"text\"> </div> <div class=\"form-group col-md\"> <label data-wg-type=\"label\" for=\"exercitation\">Exercitation</label> <input class=\"form-control\" data-wg-type=\"text\" id=\"exercitation\" type=\"text\"> </div> </div> <div class=\"form-row\"> <div class=\"form-group col-md\"> <label data-wg-type=\"label\" for=\"labore_exercitation\">Labore exercitation</label> <input class=\"form-control\" data-wg-type=\"text\" id=\"labore_exercitation\" type=\"text\"> </div> <div class=\"form-group col-md\"> <label data-wg-type=\"label\" for=\"aliqua\">Aliqua</label> <input class=\"form-control\" data-wg-type=\"text\" id=\"aliqua\" type=\"text\"> </div> </div> <div class=\"form-row\"> <div class=\"form-group col-md\"> <label data-wg-type=\"label\" for=\"labore\">Labore</label> <input class=\"form-control\" data-wg-type=\"text\" id=\"labore\" type=\"text\"> </div> <div class=\"form-group col-md\"> <label data-wg-type=\"label\" for=\"exercitation\">Exercitation</label> <input class=\"custom-range\" data-wg-type=\"slider\" id=\"exercitation\" type=\"slider\"> </div> </div> <div class=\"form-row\"> <div class=\"form-group col-md\"> <label data-wg-type=\"label\" for=\"laborum_reprehenderit\">Laborum reprehenderit</label> <input class=\"form-control\" data-wg-type=\"text\" id=\"laborum_reprehenderit\" type=\"text\"> </div> <div class=\"form-group col-md\"> <label data-wg-type=\"label\" for=\"labore_incididunt\">Labore incididunt</label> <input class=\"form-control\" data-wg-type=\"text\" id=\"labore_incididunt\" type=\"text\"> </div> </div> </form> </div> <footer class=\"bg-light rounded shadow-lg jumbotron mb-0\" data-wg-type=\"footer\" style=\"height: 28vh;\"> <div class=\"container\"> <span class=\"text-muted\" data-wg-type=\"label\">Adipiscing cillum ullamco anim aliquip commodo ut</span> </div> </footer> </div> </div> </body> </html>\n",
            "    Answer: <!DOCTYPE html> <html> <head> <title>Dominate</title> <meta content=\"width=device-width, initial-scale=1.0\" name=\"viewport\"> <meta content=\"Web Generator\" name=\"author\"> <meta content=\"1\" name=\"wg-layout\"> <link href=\"../css/custom-bootstrap.css\" rel=\"stylesheet\"> <link href=\"../css/wg-extras.css\" rel=\"stylesheet\"> <script src=\"../js/jquery-3.2.1.slim.min.js\" type=\"text/javascript\"></script> <script src=\"../js/bootstrap.min.js\" type=\"text/javascript\"></script> </head> <body class=\"\"> <div class=\"d-flex \" id=\"full-wrapper\"> <div class=\"w-100\"> <nav class=\"bg-light navbar-light rounded shadow-lg navbar navbar-expand-md\" data-wg-type=\"navbar\"> <a class=\"navbar-brand\" data-wg-type=\"label\" href=\"#\">Officia</a> <button class=\"navbar-toggler\" data-target=\"#main-nav\" data-toggle=\"collapse\" type=\"button\"> <span class=\"navbar-toggler-icon\"></span> </button> <div class=\"collapse navbar-collapse\" id=\"main-nav\" style=\"height: 4vh;\"> <ul class=\"navbar-nav mr-auto\"> <li class=\"nav-item\"> <a class=\"nav-link\" data-wg-type=\"button\" href=\"#\">Sed ut lorem</a> </li> <li class=\"nav-item\"> <a class=\"nav-link\" data-wg-type=\"button\" href=\"#\">Cupidatat eu</a> </li> <li class=\"nav-item\"> <a class=\"nav-link\" data-wg-type=\"button\" href=\"#\">Incididunt in</a> </li> <li class=\"nav-item\"> <a class=\"nav-link\" data-wg-type=\"button\" href=\"#\">Consectetur</a> </li> <li class=\"nav-item\"> <a class=\"nav-link\" data-wg-type=\"button\" href=\"#\">Ex fugiat non</a> </li> <li class=\"nav-item\"> <a class=\"nav-link\" data-wg-type=\"button\" href=\"#\">Ut ullamco ad</a> </li> </ul> </div> </nav> <div class=\"container-fluid py-3\" id=\"page-content\"> <form class=\"p-3\"> <div class=\"form-row\"> <div class=\"form-group col-md\"> <label data-wg-type=\"label\" for=\"amet_sed\">Amet sed</label> <input class=\"form-control\" data-wg-type=\"text\" id=\"amet_sed\" type=\"text\"> </div> <div class=\"form-group col-md\"> <label data-wg-type=\"label\" for=\"nisi\">Nisi</label> <input class=\"form-control\" data-wg-type=\"text\" id=\"nisi\" type=\"text\"> </div> </div> <div class=\"form-row\"> <div class=\"form-group col-md\"> <label data-wg-type=\"label\" for=\"labore_excepteur\">Labore excepteur</label> <input class=\"form-control\" data-wg-type=\"text\" id=\"labore_excepteur\" type=\"text\"> </div> <div class=\"form-group col-md\"> <label data-wg-type=\"label\" for=\"aliquip_non\">Aliquip non</label> <input class=\"form-control\" data-wg-type=\"text\" id=\"aliquip_non\" type=\"text\"> </div> </div> <div class=\"form-row\"> <div class=\"form-group col-md\"> <label data-wg-type=\"label\" for=\"commodo_pariatur\">Commodo pariatur</label> <input class=\"form-control\" data-wg-type=\"text\" id=\"commodo_pariatur\" type=\"text\"> </div> <div class=\"form-group col-md\"> <label data-wg-type=\"label\" for=\"aliqua\">Aliqua</label> <input class=\"form-control\" data-wg-type=\"text\" id=\"aliqua\" type=\"text\"> </div> </div> <div class=\"form-row\"> <div class=\"form-group col-md\"> <label data-wg-type=\"label\" for=\"ut_velit\">Ut velit</label> <input class=\"form-control\" data-wg-type=\"text\" id=\"ut_velit\" type=\"text\"> </div> <div class=\"form-group col-md\"> <label data-wg-type=\"label\" for=\"exercitation\">Exercitation</label> <input class=\"custom-range\" data-wg-type=\"slider\" id=\"exercitation\" type=\"slider\"> </div> </div> <div class=\"form-row\"> <div class=\"form-group col-md\"> <label data-wg-type=\"label\" for=\"officia_dolor_consequat\">Officia dolor consequat</label> <input class=\"form-control\" data-wg-type=\"text\" id=\"officia_dolor_consequat\" type=\"text\"> </div> <div class=\"form-group col-md\"> <label data-wg-type=\"label\" for=\"adipiscing_lorem\">Adipiscing lorem</label> <input class=\"form-control\" data-wg-type=\"text\" id=\"adipiscing_lorem\" type=\"text\"> </div> </div> </form> </div> <footer class=\"bg-light rounded shadow-lg jumbotron mb-0\" data-wg-type=\"footer\" style=\"height: 28vh;\"> <div class=\"container\"> <span class=\"text-muted\" data-wg-type=\"label\">Eiusmod sed magna ea incididunt anim in veniam id</span> </div> </footer> </div> </div> </body> </html>\n",
            "      Bleu: 0.92\n",
            "\n",
            "Prediction: <!DOCTYPE html> <html> <head> <title>Dominate</title> <meta content=\"width=device-width, initial-scale=1.0\" name=\"viewport\"> <meta content=\"Web Generator\" name=\"author\"> <meta content=\"1\" name=\"wg-layout\"> <link href=\"../css/custom-bootstrap.css\" rel=\"stylesheet\"> <link href=\"../css/wg-extras.css\" rel=\"stylesheet\"> <script src=\"../js/jquery-3.2.1.slim.min.js\" type=\"text/javascript\"></script> <script src=\"../js/bootstrap.min.js\" type=\"text/javascript\"></script> </head> <body class=\"\"> <div class=\"d-flex \" id=\"full-wrapper\"> <div class=\"bg-light rounded\" data-wg-type=\"sidebar\" id=\"sidebar-wrapper\"> <div class=\"list-group list-group-flush\" style=\"width:22vh;\"> <a class=\"list-group-item list-group-item-action\" data-wg-type=\"button\" href=\"#\">Esse ullamco</a> <a class=\"list-group-item list-group-item-action\" data-wg-type=\"button\" href=\"#\">Eiusmod amet</a> <a class=\"list-group-item list-group-item-action\" data-wg-type=\"button\" href=\"#\">Et cillum qui</a> <a class=\"list-group-item list-group-item-action\" data-wg-type=\"button\" href=\"#\">Et cillum qui</a> </div> </div> <div class=\"w-100\"> <nav class=\"bg-light navbar-light rounded navbar navbar-expand-md\" data-wg-type=\"navbar\"> <a class=\"navbar-brand\" data-wg-type=\"label\" href=\"#\">Eiusmod</a> <button class=\"navbar-toggler\" data-target=\"#main-nav\" data-toggle=\"collapse\" type=\"button\"> <span class=\"navbar-toggler-icon\"></span> </button> <div class=\"collapse navbar-collapse\" id=\"main-nav\" style=\"height: 7vh;\"> <ul class=\"navbar-nav mr-auto\"> <li class=\"nav-item\"> <a class=\"nav-link\" data-wg-type=\"button\" href=\"#\">Esse cillum</a> </li> <li class=\"nav-item\"> <a class=\"nav-link\" data-wg-type=\"button\" href=\"#\">Et cillum qui</a> </li> <li class=\"nav-item\"> <a class=\"nav-link\" data-wg-type=\"button\" href=\"#\">Et anim amet</a> </li> <li class=\"nav-item\"> <a class=\"nav-link\" data-wg-type=\"button\" href=\"#\">Et cillum qui</a> </li> </ul> </div> </nav> <div class=\"container-fluid py-3\" id=\"page-content\"> <div class=\"my-3 wg-detect carousel slide\" data-ride=\"carousel\" data-wg-type=\"carousel\" id=\"carousel-ele-0\"> <ol class=\"carousel-indicators\"> <li class=\"active\" data-slide-to=\"0\" data-target=\"#carousel-ele-0\"></li> <li class=\"\" data-slide-to=\"1\" data-target=\"#carousel-ele-0\"></li> <li class=\"\" data-slide-to=\"2\" data-target=\"#carousel-ele-0\"></li> <li class=\"\" data-slide-to=\"3\" data-target=\"#carousel-ele-0\"></li> </ol> <div class=\"carousel-inner\"> <div class=\"carousel-item active\"> <div class=\"d-block w-100 text-center\" style=\"background-color: darkgrey; height: 39vh;\"> <h1 class=\"pt-5\">Et cillum ullamco do</h1> </div> </div> <div class=\"carousel-item\"> <div class=\"d-block w-100 text-center\" style=\"background-color: darkgrey; height: 39vh;\"> <h1 class=\"pt-5\">Enim ullamco cillum</h1> </div> </div> <div class=\"carousel-item\"> <div class=\"d-block w-100 text-center\" style=\"background-color: darkgrey; height: 39vh;\"> <h1 class=\"pt-5\">Et cillum ullamco do</h1> </div> </div> <div class=\"carousel-item\"> <div class=\"d-block w-100 text-center\" style=\"background-color: darkgrey; height: 39vh;\"> <h1 class=\"pt-5\">Et ullamco ullamco ut</h1> </div> </div> </div> <a class=\"carousel-control-prev\" data-slide=\"prev\" href=\"#carousel-ele-0\" role=\"button\"> <span class=\"carousel-control-prev-icon\"></span> </a> <a class=\"carousel-control-next\" data-slide=\"next\" href=\"#carousel-ele-0\" role=\"button\"> <span class=\"carousel-control-next-icon\"></span> </a> </div> <div class=\"wg-detect\" data-wg-type=\"descriptive_items\"> <div class=\"row\"> <div class=\"col\"> <h2 data-wg-type=\"label\">Enim ullamco cillum aliquip.</h2> <p><br> <img class=\"float-left m-2 img\" data-wg-type=\"image\" style=\"background-color: gray;width: 136px;height: 111px;\"></img> <span data-wg-type=\"text_area\">Enim ullamco cillum aliqua. Dolor ullamco ullamco anim. Dolor ullamco ullamco ullamco. Dolor ullamco ullamco ullamco. Dolor ullamco ullamco ullamco. Dolor ullamco ullamco ullamco. Dolor ullamco ullamco ullamco. Dolor ullamco ullamco ullamco. Dolor ullamco ullamco ullamco. Dolor ullamco ullamco ullamco. Dolor ullamco ullamco ullamco. Dolor ullamco ullamco ullamco.</span> </p> </div> </div> </div> <div class=\"m-3 wg-detect\" data-wg-type=\"tabs\"> <div class=\"nav nav-tabs\"> <a aria-controls=\"aliqua\" class=\"nav-item nav-link active\" data-toggle=\"tab\" data-wg-type=\"button\" href=\"#aliqua\" id=\"aliqua-tab\" role=\"tab\">Aliqua</a> <a aria-controls=\"excepteur\" class=\"nav-item nav-link\" data-toggle=\"tab\" data-wg-type=\"button\" href=\"#excepteur\" id=\"excepteur-tab\" role=\"tab\">Excepteur</a> <a aria-controls=\"ullamco\" class=\"nav-item nav-link\" data-toggle=\"tab\" data-wg-type=\"button\" href=\"#ullamco\" id=\"ullamco-tab\" role=\"tab\">Ullamco</a> </div> <div class=\"tab-content\"> <div aria-labelledby=\"aliqua\" class=\"tab-pane fade border p-3 show active\" data-wg-type=\"label\" id=\"aliqua\" role=\"tabpanel\">Enim ullamco anim aliquip.</div> <div aria-labelledby=\"excepteur\" class=\"tab-pane fade border p-3\" data-wg-type=\"label\" id=\"excepteur\" role=\"tabpanel\">Enim ullamco ullamco anim.</div> <div aria-labelledby=\"ullamco\" class=\"tab-pane fade border p-3\" data-wg-type=\"label\" id=\"ullamco\" role=\"tabpanel\">Enim ullamco ullamco ullamco.</div> </div> </div> </div> </div> </div> </body> </html>\n",
            "    Answer: <!DOCTYPE html> <html> <head> <title>Dominate</title> <meta content=\"width=device-width, initial-scale=1.0\" name=\"viewport\"> <meta content=\"Web Generator\" name=\"author\"> <meta content=\"2\" name=\"wg-layout\"> <link href=\"../css/custom-bootstrap.css\" rel=\"stylesheet\"> <link href=\"../css/wg-extras.css\" rel=\"stylesheet\"> <script src=\"../js/jquery-3.2.1.slim.min.js\" type=\"text/javascript\"></script> <script src=\"../js/bootstrap.min.js\" type=\"text/javascript\"></script> </head> <body class=\"\"> <div class=\"\" id=\"full-wrapper\"> <nav class=\"bg-light navbar-light navbar navbar-expand-md\" data-wg-type=\"navbar\"> <button class=\"navbar-toggler\" data-target=\"#main-nav\" data-toggle=\"collapse\" type=\"button\"> <span class=\"navbar-toggler-icon\"></span> </button> <div class=\"collapse navbar-collapse\" id=\"main-nav\" style=\"height: 7vh;\"> <ul class=\"navbar-nav mx-auto\"> <li class=\"nav-item\"> <a class=\"nav-link\" data-wg-type=\"button\" href=\"#\">Pariatur nisi</a> </li> <li class=\"nav-item\"> <a class=\"nav-link\" data-wg-type=\"button\" href=\"#\">Fugiat ea est</a> </li> <li class=\"nav-item\"> <a class=\"nav-link\" data-wg-type=\"button\" href=\"#\">Aliquip ea eu</a> </li> <li class=\"nav-item\"> <a class=\"nav-link\" data-wg-type=\"button\" href=\"#\">Ipsum sint do</a> </li> <li class=\"nav-item\"> <a class=\"nav-link\" data-wg-type=\"button\" href=\"#\">Amet ullamco</a> </li> <li class=\"nav-item\"> <a class=\"nav-link\" data-wg-type=\"button\" href=\"#\">Aliquip esse</a> </li> </ul> </div> </nav> <div class=\"d-flex\"> <div class=\"bg-light\" data-wg-type=\"sidebar\" id=\"sidebar-wrapper\"> <div class=\"list-group list-group-flush\" style=\"width:27vh;\"> <a class=\"list-group-item list-group-item-action\" data-wg-type=\"button\" href=\"#\">Excepteur sed</a> <a class=\"list-group-item list-group-item-action\" data-wg-type=\"button\" href=\"#\">Ex ipsum ut</a> </div> </div> <div class=\"container-fluid py-3\" id=\"page-content\"> <div class=\"my-3 wg-detect carousel slide\" data-ride=\"carousel\" data-wg-type=\"carousel\" id=\"carousel-ele-0\"> <ol class=\"carousel-indicators\"> <li class=\"active\" data-slide-to=\"0\" data-target=\"#carousel-ele-0\"></li> <li class=\"\" data-slide-to=\"1\" data-target=\"#carousel-ele-0\"></li> <li class=\"\" data-slide-to=\"2\" data-target=\"#carousel-ele-0\"></li> </ol> <div class=\"carousel-inner\"> <div class=\"carousel-item active\"> <div class=\"d-block w-100 text-center\" style=\"background-color: darkgrey; height: 40vh;\"> <h1 class=\"pt-5\">Non lorem velit sunt</h1> </div> </div> <div class=\"carousel-item\"> <div class=\"d-block w-100 text-center\" style=\"background-color: darkgrey; height: 40vh;\"> <h1 class=\"pt-5\">Aute fugiat in est</h1> </div> </div> <div class=\"carousel-item\"> <div class=\"d-block w-100 text-center\" style=\"background-color: darkgrey; height: 40vh;\"> <h1 class=\"pt-5\">Eu quis minim anim</h1> </div> </div> </div> <a class=\"carousel-control-prev\" data-slide=\"prev\" href=\"#carousel-ele-0\" role=\"button\"> <span class=\"carousel-control-prev-icon\"></span> </a> <a class=\"carousel-control-next\" data-slide=\"next\" href=\"#carousel-ele-0\" role=\"button\"> <span class=\"carousel-control-next-icon\"></span> </a> </div> <div class=\"wg-detect\" data-wg-type=\"descriptive_items\"> <div class=\"row\"> <div class=\"col\"> <h2 data-wg-type=\"label\">Eiusmod cillum dolor enim et.</h2> <p><br> <img class=\"float-left m-2 shadow img\" data-wg-type=\"image\" style=\"background-color: gray;width: 150px;height: 105px;\"></img> <span data-wg-type=\"text_area\">Sed lorem pariatur officia culpa nulla, proident mollit id ex eu ex esse. Aliquip duis nulla ut. Ullamco ad aliqua sed voluptate irure amet. Anim eiusmod commodo amet aliquip duis sed. Minim laborum cupidatat consequat. Officia eu exercitation incididunt ipsum reprehenderit irure consequat. Sint do cupidatat cillum. Velit et sunt labore. Magna sint sint eiusmod consectetur. Ea nulla excepteur occaecat do, occaecat qui ullamco reprehenderit exercitation eiusmod, adipiscing labore sunt irure.</span> </p> </div> </div> </div> <div class=\"m-3 wg-detect\" data-wg-type=\"tabs\"> <div class=\"nav nav-tabs\"> <a aria-controls=\"cillum\" class=\"nav-item nav-link active\" data-toggle=\"tab\" data-wg-type=\"button\" href=\"#cillum\" id=\"cillum-tab\" role=\"tab\">Cillum</a> <a aria-controls=\"adipiscing\" class=\"nav-item nav-link\" data-toggle=\"tab\" data-wg-type=\"button\" href=\"#adipiscing\" id=\"adipiscing-tab\" role=\"tab\">Adipiscing</a> <a aria-controls=\"veniam\" class=\"nav-item nav-link\" data-toggle=\"tab\" data-wg-type=\"button\" href=\"#veniam\" id=\"veniam-tab\" role=\"tab\">Veniam</a> </div> <div class=\"tab-content\"> <div aria-labelledby=\"cillum\" class=\"tab-pane fade border p-3 show active\" data-wg-type=\"label\" id=\"cillum\" role=\"tabpanel\">Sit reprehenderit tempor eiusmod. Occaecat culpa reprehenderit duis lorem sit. Qui dolore cupidatat fugiat ex, tempor duis cillum ad consequat nostrud dolore.</div> <div aria-labelledby=\"adipiscing\" class=\"tab-pane fade border p-3\" data-wg-type=\"label\" id=\"adipiscing\" role=\"tabpanel\">In et elit laboris consectetur. Sint cupidatat do id incididunt occaecat est. Aute do anim deserunt tempor ut, non consectetur cupidatat excepteur dolor id irure.</div> <div aria-labelledby=\"veniam\" class=\"tab-pane fade border p-3\" data-wg-type=\"label\" id=\"veniam\" role=\"tabpanel\">Minim reprehenderit dolor et est quis ipsum sed, ea exercitation elit sunt adipiscing fugiat ipsum.</div> </div> </div> </div> </div> </div> </body> </html>\n",
            "      Bleu: 0.82\n",
            "\n",
            "Prediction: <!DOCTYPE html> <html> <head> <title>Dominate</title> <meta content=\"width=device-width, initial-scale=1.0\" name=\"viewport\"> <meta content=\"Web Generator\" name=\"author\"> <meta content=\"1\" name=\"wg-layout\"> <link href=\"../css/custom-bootstrap.css\" rel=\"stylesheet\"> <link href=\"../css/wg-extras.css\" rel=\"stylesheet\"> <script src=\"../js/jquery-3.2.1.slim.min.js\" type=\"text/javascript\"></script> <script src=\"../js/bootstrap.min.js\" type=\"text/javascript\"></script> </head> <body class=\"\"> <div class=\"d-flex \" id=\"full-wrapper\"> <div class=\"w-100\"> <nav class=\"bg-light navbar-light rounded navbar navbar-expand-md\" data-wg-type=\"navbar\"> <a class=\"navbar-brand\" data-wg-type=\"label\" href=\"#\">Sed</a> <button class=\"navbar-toggler\" data-target=\"#main-nav\" data-toggle=\"collapse\" type=\"button\"> <span class=\"navbar-toggler-icon\"></span> </button> <div class=\"collapse navbar-collapse\" id=\"main-nav\" style=\"height: 7vh;\"> <ul class=\"navbar-nav mr-auto\"> <li class=\"nav-item\"> <a class=\"nav-link\" data-wg-type=\"button\" href=\"#\">Esse cillum</a> </li> <li class=\"nav-item\"> <a class=\"nav-link\" data-wg-type=\"button\" href=\"#\">Et anim aute</a> </li> <li class=\"nav-item\"> <a class=\"nav-link\" data-wg-type=\"button\" href=\"#\">Et cillum do</a> </li> </ul> </div> </nav> <header class=\"bg-light rounded d-flex align-items-center justify-content-center\" data-wg-type=\"header\" style=\"height: 17vh;\"> <h1 class=\"p-2 text-center\" data-wg-type=\"label\">Et Labore</h1> </header> <div class=\"container-fluid py-3\" id=\"page-content\"> <div class=\"my-3 wg-detect carousel slide\" data-ride=\"carousel\" data-wg-type=\"carousel\" id=\"carousel-ele-0\"> <ol class=\"carousel-indicators\"> <li class=\"active\" data-slide-to=\"0\" data-target=\"#carousel-ele-0\"></li> <li class=\"\" data-slide-to=\"1\" data-target=\"#carousel-ele-0\"></li> <li class=\"\" data-slide-to=\"2\" data-target=\"#carousel-ele-0\"></li> <li class=\"\" data-slide-to=\"3\" data-target=\"#carousel-ele-0\"></li> </ol> <div class=\"carousel-inner\"> <div class=\"carousel-item active\"> <div class=\"d-block w-100 text-center\" style=\"background-color: darkgrey; height: 23vh;\"> <h1 class=\"pt-5\">Enim cillum ullamco</h1> </div> </div> <div class=\"carousel-item\"> <div class=\"d-block w-100 text-center\" style=\"background-color: darkgrey; height: 23vh;\"> <h1 class=\"pt-5\">Enim ullamco cillum</h1> </div> </div> <div class=\"carousel-item\"> <div class=\"d-block w-100 text-center\" style=\"background-color: darkgrey; height: 23vh;\"> <h1 class=\"pt-5\">Enim ullamco cillum</h1> </div> </div> <div class=\"carousel-item\"> <div class=\"d-block w-100 text-center\" style=\"background-color: darkgrey; height: 23vh;\"> <h1 class=\"pt-5\">Et cillum ullamco do</h1> </div> </div> </div> <a class=\"carousel-control-prev\" data-slide=\"prev\" href=\"#carousel-ele-0\" role=\"button\"> <span class=\"carousel-control-prev-icon\"></span> </a> <a class=\"carousel-control-next\" data-slide=\"next\" href=\"#carousel-ele-0\" role=\"button\"> <span class=\"carousel-control-next-icon\"></span> </a> </div> <div class=\"wg-detect\" data-wg-type=\"descriptive_items\"> <div class=\"row\"> <div class=\"col\"> <h2 data-wg-type=\"label\">Enim ullamco cillum aliquip.</h2> <p><br> <img class=\"float-left m-2 shadow img\" data-wg-type=\"image\" style=\"background-color: gray;width: 211px;height: 189px;\"></img> <span data-wg-type=\"text_area\">Enim ullamco cillum aliqua. Dolor ullamco ullamco ullamco. Dolor ullamco cillum aliqua. Dolor ullamco ullamco ullamco. Dolor ullamco ullamco ullamco. Dolor ullamco ullamco ullamco. Dolor ullamco ullamco ullamco.</span> </p> </div> </div> </div> </div> </div> </div> </body> </html>\n",
            "    Answer: <!DOCTYPE html> <html> <head> <title>Dominate</title> <meta content=\"width=device-width, initial-scale=1.0\" name=\"viewport\"> <meta content=\"Web Generator\" name=\"author\"> <meta content=\"2\" name=\"wg-layout\"> <link href=\"../css/custom-bootstrap.css\" rel=\"stylesheet\"> <link href=\"../css/wg-extras.css\" rel=\"stylesheet\"> <script src=\"../js/jquery-3.2.1.slim.min.js\" type=\"text/javascript\"></script> <script src=\"../js/bootstrap.min.js\" type=\"text/javascript\"></script> </head> <body class=\"\"> <div class=\"\" id=\"full-wrapper\"> <nav class=\"bg-light navbar-light navbar navbar-expand-md\" data-wg-type=\"navbar\"> <a class=\"navbar-brand\" data-wg-type=\"label\" href=\"#\">Esse</a> <button class=\"navbar-toggler\" data-target=\"#main-nav\" data-toggle=\"collapse\" type=\"button\"> <span class=\"navbar-toggler-icon\"></span> </button> <div class=\"collapse navbar-collapse\" id=\"main-nav\" style=\"height: 7vh;\"> <ul class=\"navbar-nav mr-auto\"> <li class=\"nav-item\"> <a class=\"nav-link\" data-wg-type=\"button\" href=\"#\">Ea in labore</a> </li> <li class=\"nav-item\"> <a class=\"nav-link\" data-wg-type=\"button\" href=\"#\">Est nulla qui</a> </li> <li class=\"nav-item\"> <a class=\"nav-link\" data-wg-type=\"button\" href=\"#\">Aliqua enim</a> </li> </ul> </div> </nav> <header class=\"bg-light d-flex align-items-center justify-content-center\" data-wg-type=\"header\" style=\"height: 19vh;\"> <h1 class=\"p-2 text-center\" data-wg-type=\"label\">Aute Esse</h1> </header> <div class=\"d-flex\"> <div class=\"container-fluid py-3\" id=\"page-content\"> <div class=\"my-3 wg-detect carousel slide\" data-ride=\"carousel\" data-wg-type=\"carousel\" id=\"carousel-ele-0\"> <ol class=\"carousel-indicators\"> <li class=\"active\" data-slide-to=\"0\" data-target=\"#carousel-ele-0\"></li> <li class=\"\" data-slide-to=\"1\" data-target=\"#carousel-ele-0\"></li> <li class=\"\" data-slide-to=\"2\" data-target=\"#carousel-ele-0\"></li> <li class=\"\" data-slide-to=\"3\" data-target=\"#carousel-ele-0\"></li> <li class=\"\" data-slide-to=\"4\" data-target=\"#carousel-ele-0\"></li> </ol> <div class=\"carousel-inner\"> <div class=\"carousel-item active\"> <div class=\"d-block w-100 text-center\" style=\"background-color: darkgrey; height: 24vh;\"> <h1 class=\"pt-5\">Dolor enim ea nulla</h1> </div> </div> <div class=\"carousel-item\"> <div class=\"d-block w-100 text-center\" style=\"background-color: darkgrey; height: 24vh;\"> <h1 class=\"pt-5\">Elit fugiat pariatur</h1> </div> </div> <div class=\"carousel-item\"> <div class=\"d-block w-100 text-center\" style=\"background-color: darkgrey; height: 24vh;\"> <h1 class=\"pt-5\">Voluptate amet lorem</h1> </div> </div> <div class=\"carousel-item\"> <div class=\"d-block w-100 text-center\" style=\"background-color: darkgrey; height: 24vh;\"> <h1 class=\"pt-5\">Amet ullamco velit</h1> </div> </div> <div class=\"carousel-item\"> <div class=\"d-block w-100 text-center\" style=\"background-color: darkgrey; height: 24vh;\"> <h1 class=\"pt-5\">Proident fugiat ut</h1> </div> </div> </div> <a class=\"carousel-control-prev\" data-slide=\"prev\" href=\"#carousel-ele-0\" role=\"button\"> <span class=\"carousel-control-prev-icon\"></span> </a> <a class=\"carousel-control-next\" data-slide=\"next\" href=\"#carousel-ele-0\" role=\"button\"> <span class=\"carousel-control-next-icon\"></span> </a> </div> <div class=\"wg-detect\" data-wg-type=\"descriptive_items\"> <div class=\"row\"> <div class=\"col\"> <h2 data-wg-type=\"label\">Commodo qui dolor est excepteur ex lorem cillum, consequat adipiscing deserunt occaecat cupidatat officia nulla.</h2> <p><br> <img class=\"float-left m-2 shadow img\" data-wg-type=\"image\" style=\"background-color: gray;width: 197px;height: 157px;\"></img> <span data-wg-type=\"text_area\">Anim enim ea ut. Dolor consequat nulla qui minim sint et consectetur, quis do nulla voluptate commodo, labore dolor id cupidatat mollit labore aute ullamco. Laboris nisi cupidatat minim velit qui. Proident proident duis in id ullamco proident deserunt, consequat consectetur exercitation mollit cillum. Velit non cupidatat non non occaecat eu.</span> </p> </div> </div> </div> </div> </div> </div> </body> </html>\n",
            "      Bleu: 0.82\n",
            "\n",
            "Prediction: <!DOCTYPE html> <html> <head> <title>Dominate</title> <meta content=\"width=device-width, initial-scale=1.0\" name=\"viewport\"> <meta content=\"Web Generator\" name=\"author\"> <meta content=\"4\" name=\"wg-layout\"> <link href=\"../css/custom-bootstrap.css\" rel=\"stylesheet\"> <link href=\"../css/wg-extras.css\" rel=\"stylesheet\"> <script src=\"../js/jquery-3.2.1.slim.min.js\" type=\"text/javascript\"></script> <script src=\"../js/bootstrap.min.js\" type=\"text/javascript\"></script> </head> <body class=\"\"> <div class=\" rounded\" id=\"full-wrapper\"> <div class=\"d-flex\"> <div class=\"w-100\"> <nav class=\"bg-light navbar-light rounded navbar navbar-expand-md\" data-wg-type=\"navbar\"> <button class=\"navbar-toggler\" data-target=\"#main-nav\" data-toggle=\"collapse\" type=\"button\"> <span class=\"navbar-toggler-icon\"></span> </button> <div class=\"collapse navbar-collapse\" id=\"main-nav\" style=\"height: 7vh;\"> <ul class=\"navbar-nav mr-auto\"> <li class=\"nav-item\"> <a class=\"nav-link\" data-wg-type=\"button\" href=\"#\">Et cillum id</a> </li> <li class=\"nav-item\"> <a class=\"nav-link\" data-wg-type=\"button\" href=\"#\">Esse cillum</a> </li> </ul> </div> </nav> <div class=\"container-fluid py-3\" id=\"page-content\"> <form class=\"p-3\"> <div class=\"form-row\"> <div class=\"form-group col-md\"> <label data-wg-type=\"label\" for=\"laboris_incididunt\">Laboris incididunt</label> <input class=\"form-control\" data-wg-type=\"text\" id=\"laboris_incididunt\" type=\"text\"> </div> <div class=\"form-group col-md\"> <label data-wg-type=\"label\" for=\"fugiat\">Fugiat</label> <input class=\"form-control\" data-wg-type=\"text\" id=\"fugiat\" type=\"text\"> </div> <div class=\"form-group col-md\"> <label data-wg-type=\"label\" for=\"qui\">Qui</label> <input class=\"form-control\" data-wg-type=\"text\" id=\"qui\" type=\"text\"> </div> </div> <div class=\"form-group\"> <label data-wg-type=\"label\" for=\"tempor\">Tempor</label> <input class=\"form-control\" data-wg-type=\"text\" id=\"tempor\" type=\"text\"> </div> <div class=\"form-row\"> <div class=\"form-group col-md\"> <label data-wg-type=\"label\" for=\"incididunt\">Incididunt</label> <input class=\"form-control\" data-wg-type=\"text\" id=\"incididunt\" type=\"text\"> </div> <div class=\"form-group col-md\"> <label data-wg-type=\"label\" for=\"laborum_laborum\">Laborum laborum</label> <input class=\"form-control\" data-wg-type=\"text\" id=\"laborum_laborum\" type=\"text\"> </div> <div class=\"form-group col-md\"> <label data-wg-type=\"label\" for=\"adipiscing\">Adipiscing</label> <input class=\"form-control\" data-wg-type=\"text\" id=\"adipiscing\" type=\"text\"> </div> </div> <div class=\"form-group\"> <label data-wg-type=\"label\" for=\"exercitation\">Exercitation</label> <input class=\"form-control\" data-wg-type=\"text\" id=\"exercitation\" type=\"text\"> </div> <div class=\"form-row\"> <div class=\"form-group col-md\"> <label data-wg-type=\"label\" for=\"labore\">Labore</label> <input class=\"custom-range\" data-wg-type=\"slider\" id=\"labore\" type=\"slider\"> </div> <div class=\"form-group col-md\"> <label data-wg-type=\"label\" for=\"sed\">Sed</label> <input class=\"form-control\" data-wg-type=\"text\" id=\"sed\" type=\"text\"> </div> </div> <div class=\"form-row\"> <div class=\"form-group col-md\"> <label data-wg-type=\"label\" for=\"labore_culpa\">Labore culpa</label> <input class=\"form-control\" data-wg-type=\"text\" id=\"labore_culpa\" type=\"text\"> </div> <div class=\"form-group col-md\"> <label data-wg-type=\"label\" for=\"nulla\">Nulla</label> <input class=\"form-control\" data-wg-type=\"text\" id=\"nulla\" type=\"text\"> </div> <div class=\"form-group col-md\"> <label data-wg-type=\"label\" for=\"sint_aute\">Sint aute</label> <input class=\"form-control\" data-wg-type=\"text\" id=\"sint_aute\" type=\"text\"> </div> </div> <div class=\"form-row\"> <div class=\"form-group col-md\"> <label data-wg-type=\"label\" for=\"laborum_laborum\">Laborum laborum</label> <input class=\"custom-range\" data-wg-type=\"slider\" id=\"laborum_laborum\" type=\"slider\"> </div> <div class=\"form-group col-md\"> <label data-wg-type=\"label\" for=\"labore_labore_aliqua\">Labore labore aliqua</label> <input class=\"form-control\" data-wg-type=\"text\" id=\"labore_labore_aliqua\" type=\"text\"> </div> </div> <div class=\"form-group\"> <label data-wg-type=\"label\" for=\"exercitation\">Exercitation</label> <input class=\"form-control\" data-wg-type=\"text\" id=\"exercitation\" type=\"text\"> </div> <div class=\"form-group\"> <label data-wg-type=\"label\" for=\"ad\">Ad</label> <input class=\"form-control\" data-wg-type=\"text\" id=\"ad\" type=\"text\"> </div> <div class=\"form-row\"> <div class=\"form-group col-md\"> <label data-wg-type=\"label\" for=\"labore_occaecat\">Labore occaecat</label> <input class=\"form-control\" data-wg-type=\"text\" id=\"labore_occaecat\" type=\"text\"> </div> <div class=\"form-group col-md\"> <label data-wg-type=\"label\" for=\"aliqua\">Aliqua</label> <input class=\"form-control\" data-wg-type=\"text\" id=\"aliqua\" type=\"text\"> </div> </div> </form> </div> </div> <div class=\"bg-light rounded\" data-wg-type=\"sidebar\" id=\"sidebar-wrapper\"> <div class=\"sidebar-heading\" data-wg-type=\"label\">Enim</div> <div class=\"list-group list-group-flush\" style=\"width:22vh;\"> <a class=\"list-group-item list-group-item-action\" data-wg-type=\"button\" href=\"#\">Enim cillum</a> <a class=\"list-group-item list-group-item-action\" data-wg-type=\"button\" href=\"#\">Enim anim do</a> <a class=\"list-group-item list-group-item-action\" data-wg-type=\"button\" href=\"#\">Enim ullamco</a> <a class=\"list-group-item list-group-item-action\" data-wg-type=\"button\" href=\"#\">Enim ullamco</a> </div> </div> </div> <footer class=\"bg-light rounded jumbotron mb-0\" data-wg-type=\"footer\" style=\"height: 16vh;\"> <div class=\"container\"> <span class=\"text-muted\" data-wg-type=\"label\">Enim ullamco cillum aliquip anim aliqua commodo id</span> </div> </footer> </div> </body> </html>\n",
            "    Answer: <!DOCTYPE html> <html> <head> <title>Dominate</title> <meta content=\"width=device-width, initial-scale=1.0\" name=\"viewport\"> <meta content=\"Web Generator\" name=\"author\"> <meta content=\"4\" name=\"wg-layout\"> <link href=\"../css/custom-bootstrap.css\" rel=\"stylesheet\"> <link href=\"../css/wg-extras.css\" rel=\"stylesheet\"> <script src=\"../js/jquery-3.2.1.slim.min.js\" type=\"text/javascript\"></script> <script src=\"../js/bootstrap.min.js\" type=\"text/javascript\"></script> </head> <body class=\"\"> <div class=\"\" id=\"full-wrapper\"> <div class=\"d-flex\"> <div class=\"w-100\"> <nav class=\"bg-light navbar-light navbar navbar-expand-md\" data-wg-type=\"navbar\"> <button class=\"navbar-toggler\" data-target=\"#main-nav\" data-toggle=\"collapse\" type=\"button\"> <span class=\"navbar-toggler-icon\"></span> </button> <div class=\"collapse navbar-collapse\" id=\"main-nav\" style=\"height: 7vh;\"> <ul class=\"navbar-nav mr-auto\"> <li class=\"nav-item\"> <a class=\"nav-link\" data-wg-type=\"button\" href=\"#\">Irure mollit</a> </li> <li class=\"nav-item\"> <a class=\"nav-link\" data-wg-type=\"button\" href=\"#\">Fugiat eu do</a> </li> </ul> </div> </nav> <div class=\"container-fluid py-3\" id=\"page-content\"> <form class=\"p-3\"> <div class=\"form-row\"> <div class=\"form-group col-md\"> <label data-wg-type=\"label\" for=\"occaecat_quis_nisi\">Occaecat quis nisi</label> <input class=\"form-control\" data-wg-type=\"text\" id=\"occaecat_quis_nisi\" type=\"text\"> </div> <div class=\"form-group col-md\"> <label data-wg-type=\"label\" for=\"cillum\">Cillum</label> <input class=\"form-control\" data-wg-type=\"text\" id=\"cillum\" type=\"text\"> </div> <div class=\"form-group col-md\"> <label data-wg-type=\"label\" for=\"nisi\">Nisi</label> <input class=\"form-control\" data-wg-type=\"text\" id=\"nisi\" type=\"text\"> </div> </div> <div class=\"form-group\"> <label data-wg-type=\"label\" for=\"nisi_sint\">Nisi sint</label> <input class=\"form-control\" data-wg-type=\"text\" id=\"nisi_sint\" type=\"text\"> </div> <div class=\"form-row\"> <div class=\"form-group col-md\"> <label data-wg-type=\"label\" for=\"pariatur_id\">Pariatur id</label> <input class=\"form-control\" data-wg-type=\"text\" id=\"pariatur_id\" type=\"text\"> </div> <div class=\"form-group col-md\"> <label data-wg-type=\"label\" for=\"est_adipiscing_aliqua\">Est adipiscing aliqua</label> <input class=\"form-control\" data-wg-type=\"text\" id=\"est_adipiscing_aliqua\" type=\"text\"> </div> <div class=\"form-group col-md\"> <label data-wg-type=\"label\" for=\"anim_nulla\">Anim nulla</label> <input class=\"form-control\" data-wg-type=\"text\" id=\"anim_nulla\" type=\"text\"> </div> </div> <div class=\"form-group\"> <label data-wg-type=\"label\" for=\"ut_cillum_nisi\">Ut cillum nisi</label> <input class=\"form-control\" data-wg-type=\"text\" id=\"ut_cillum_nisi\" type=\"text\"> </div> <div class=\"form-row\"> <div class=\"form-group col-md\"> <label data-wg-type=\"label\" for=\"sed_do\">Sed do</label> <input class=\"custom-range\" data-wg-type=\"slider\" id=\"sed_do\" type=\"slider\"> </div> <div class=\"form-group col-md\"> <label data-wg-type=\"label\" for=\"sint\">Sint</label> <input class=\"form-control\" data-wg-type=\"text\" id=\"sint\" type=\"text\"> </div> </div> <div class=\"form-row\"> <div class=\"form-group col-md\"> <label data-wg-type=\"label\" for=\"lorem_magna\">Lorem magna</label> <input class=\"form-control\" data-wg-type=\"text\" id=\"lorem_magna\" type=\"text\"> </div> <div class=\"form-group col-md\"> <label data-wg-type=\"label\" for=\"esse\">Esse</label> <input class=\"form-control\" data-wg-type=\"text\" id=\"esse\" type=\"text\"> </div> <div class=\"form-group col-md\"> <label data-wg-type=\"label\" for=\"non_anim\">Non anim</label> <input class=\"form-control\" data-wg-type=\"text\" id=\"non_anim\" type=\"text\"> </div> </div> <div class=\"form-row\"> <div class=\"form-group col-md\"> <label data-wg-type=\"label\" for=\"ullamco_voluptate\">Ullamco voluptate</label> <input class=\"custom-range\" data-wg-type=\"slider\" id=\"ullamco_voluptate\" type=\"slider\"> </div> <div class=\"form-group col-md\"> <label data-wg-type=\"label\" for=\"veniam_reprehenderit\">Veniam reprehenderit</label> <input class=\"form-control\" data-wg-type=\"text\" id=\"veniam_reprehenderit\" type=\"text\"> </div> </div> <div class=\"form-group\"> <label data-wg-type=\"label\" for=\"ut_eiusmod\">Ut eiusmod</label> <input class=\"form-control\" data-wg-type=\"text\" id=\"ut_eiusmod\" type=\"text\"> </div> <div class=\"form-group\"> <label data-wg-type=\"label\" for=\"ad\">Ad</label> <input class=\"form-control\" data-wg-type=\"text\" id=\"ad\" type=\"text\"> </div> <div class=\"form-row\"> <div class=\"form-group col-md\"> <label data-wg-type=\"label\" for=\"eu_commodo_nisi\">Eu commodo nisi</label> <input class=\"form-control\" data-wg-type=\"text\" id=\"eu_commodo_nisi\" type=\"text\"> </div> <div class=\"form-group col-md\"> <label data-wg-type=\"label\" for=\"cillum\">Cillum</label> <input class=\"form-control\" data-wg-type=\"text\" id=\"cillum\" type=\"text\"> </div> </div> </form> </div> </div> <div class=\"bg-light\" data-wg-type=\"sidebar\" id=\"sidebar-wrapper\"> <div class=\"sidebar-heading\" data-wg-type=\"label\">Ut</div> <div class=\"list-group list-group-flush\" style=\"width:24vh;\"> <a class=\"list-group-item list-group-item-action\" data-wg-type=\"button\" href=\"#\">Enim lorem ad</a> <a class=\"list-group-item list-group-item-action\" data-wg-type=\"button\" href=\"#\">Nostrud ut ea</a> <a class=\"list-group-item list-group-item-action\" data-wg-type=\"button\" href=\"#\">Ad sit ad est</a> <a class=\"list-group-item list-group-item-action\" data-wg-type=\"button\" href=\"#\">Dolor ad sit</a> <a class=\"list-group-item list-group-item-action\" data-wg-type=\"button\" href=\"#\">Excepteur et</a> </div> </div> </div> <footer class=\"bg-light jumbotron mb-0\" data-wg-type=\"footer\" style=\"height: 15vh;\"> <div class=\"container\"> <span class=\"text-muted\" data-wg-type=\"label\">Aliquip sint reprehenderit anim labore id sit est</span> </div> </footer> </div> </body> </html>\n",
            "      Bleu: 0.91\n",
            "\n",
            "Prediction: <!DOCTYPE html> <html> <head> <title>Dominate</title> <meta content=\"width=device-width, initial-scale=1.0\" name=\"viewport\"> <meta content=\"Web Generator\" name=\"author\"> <meta content=\"1\" name=\"wg-layout\"> <link href=\"../css/custom-bootstrap.css\" rel=\"stylesheet\"> <link href=\"../css/wg-extras.css\" rel=\"stylesheet\"> <script src=\"../js/jquery-3.2.1.slim.min.js\" type=\"text/javascript\"></script> <script src=\"../js/bootstrap.min.js\" type=\"text/javascript\"></script> </head> <body class=\"\"> <div class=\"d-flex \" id=\"full-wrapper\"> <div class=\"w-100\"> <nav class=\"bg-light navbar-light shadow navbar navbar-expand-md\" data-wg-type=\"navbar\"> <a class=\"navbar-brand\" data-wg-type=\"label\" href=\"#\">Reprehenderit</a> <button class=\"navbar-toggler\" data-target=\"#main-nav\" data-toggle=\"collapse\" type=\"button\"> <span class=\"navbar-toggler-icon\"></span> </button> <div class=\"collapse navbar-collapse\" id=\"main-nav\" style=\"height: 10vh;\"> <ul class=\"navbar-nav mx-auto\"> <li class=\"nav-item\"> <a class=\"nav-link\" data-wg-type=\"button\" href=\"#\">Et cillum sit</a> </li> <li class=\"nav-item\"> <a class=\"nav-link\" data-wg-type=\"button\" href=\"#\">Sit cillum in</a> </li> <li class=\"nav-item\"> <a class=\"nav-link\" data-wg-type=\"button\" href=\"#\">Eiusmod aute</a> </li> </ul> </div> </nav> <header class=\"bg-light shadow d-flex align-items-center justify-content-center\" data-wg-type=\"header\" style=\"height: 20vh;\"> <h1 class=\"p-2 text-center\" data-wg-type=\"label\">Eiusmod Laborum Laborum Laborum Amet Labore Dolor</h1> </header> <div class=\"container-fluid py-3\" id=\"page-content\"> <form class=\"p-3\"> <div class=\"form-group\"> <label data-wg-type=\"label\" for=\"labore_excepteur\">Labore excepteur</label> <input class=\"form-control\" data-wg-type=\"text\" id=\"labore_excepteur\" type=\"text\"> </div> <div class=\"form-row\"> <div class=\"form-group col-md\"> <label data-wg-type=\"label\" for=\"dolore_aliqua\">Dolore aliqua</label> <input class=\"form-control\" data-wg-type=\"text\" id=\"dolore_aliqua\" type=\"text\"> </div> <div class=\"form-group col-md\"> <label data-wg-type=\"label\" for=\"exercitation\">Exercitation</label> <input class=\"form-control\" data-wg-type=\"text\" id=\"exercitation\" type=\"text\"> </div> <div class=\"form-group col-md\"> <label data-wg-type=\"label\" for=\"labore_laborum\">Labore laborum</label> <input class=\"form-control\" data-wg-type=\"text\" id=\"labore_laborum\" type=\"text\"> </div> </div> <div class=\"form-row\"> <div class=\"form-group col-md\"> <label data-wg-type=\"label\" for=\"laborum_exercitation\">Laborum exercitation</label> <input class=\"form-control\" data-wg-type=\"text\" id=\"laborum_exercitation\" type=\"text\"> </div> <div class=\"form-group col-md\"> <label data-wg-type=\"label\" for=\"sed_adipiscing\">Sed adipiscing</label> <input class=\"form-control\" data-wg-type=\"text\" id=\"sed_adipiscing\" type=\"text\"> </div> <div class=\"form-group col-md\"> <label data-wg-type=\"label\" for=\"duis\">Duis</label> <input class=\"form-control\" data-wg-type=\"text\" id=\"duis\" type=\"text\"> </div> </div> <div class=\"form-row\"> <div class=\"form-group col-md\"> <label data-wg-type=\"label\" for=\"labore_laboris\">Labore laboris</label> <input class=\"form-control\" data-wg-type=\"text\" id=\"labore_laboris\" type=\"text\"> </div> <div class=\"form-group col-md\"> <label data-wg-type=\"label\" for=\"reprehenderit_labore_laborum\">Reprehenderit labore laborum</label> <input class=\"form-control\" data-wg-type=\"text\" id=\"reprehenderit_labore_laborum\" type=\"text\"> </div> <div class=\"form-group col-md\"> <label data-wg-type=\"label\" for=\"sed_laborum\">Sed laborum</label> <input class=\"form-control\" data-wg-type=\"text\" id=\"sed_laborum\" type=\"text\"> </div> </div> <div class=\"form-group\"> <label data-wg-type=\"label\" for=\"sunt\">Sunt</label> <input class=\"form-control\" data-wg-type=\"text\" id=\"sunt\" type=\"text\"> </div> <div class=\"form-group\"> <label data-wg-type=\"label\" for=\"laborum_excepteur\">Laborum excepteur</label> <input class=\"form-control\" data-wg-type=\"text\" id=\"laborum_excepteur\" type=\"text\"> </div> </form> </div> </div> </div> </body> </html>\n",
            "    Answer: <!DOCTYPE html> <html> <head> <title>Dominate</title> <meta content=\"width=device-width, initial-scale=1.0\" name=\"viewport\"> <meta content=\"Web Generator\" name=\"author\"> <meta content=\"4\" name=\"wg-layout\"> <link href=\"../css/custom-bootstrap.css\" rel=\"stylesheet\"> <link href=\"../css/wg-extras.css\" rel=\"stylesheet\"> <script src=\"../js/jquery-3.2.1.slim.min.js\" type=\"text/javascript\"></script> <script src=\"../js/bootstrap.min.js\" type=\"text/javascript\"></script> </head> <body class=\"\"> <div class=\" shadow\" id=\"full-wrapper\"> <div class=\"d-flex\"> <div class=\"w-100\"> <nav class=\"bg-light navbar-light shadow navbar navbar-expand-md\" data-wg-type=\"navbar\"> <a class=\"navbar-brand\" data-wg-type=\"label\" href=\"#\">Reprehenderit</a> <button class=\"navbar-toggler\" data-target=\"#main-nav\" data-toggle=\"collapse\" type=\"button\"> <span class=\"navbar-toggler-icon\"></span> </button> <div class=\"collapse navbar-collapse\" id=\"main-nav\" style=\"height: 10vh;\"> <ul class=\"navbar-nav mx-auto\"> <li class=\"nav-item\"> <a class=\"nav-link\" data-wg-type=\"button\" href=\"#\">Pariatur elit</a> </li> <li class=\"nav-item\"> <a class=\"nav-link\" data-wg-type=\"button\" href=\"#\">Elit sint do</a> </li> <li class=\"nav-item\"> <a class=\"nav-link\" data-wg-type=\"button\" href=\"#\">Nostrud do in</a> </li> </ul> </div> </nav> <header class=\"bg-light shadow d-flex align-items-center justify-content-center\" data-wg-type=\"header\" style=\"height: 20vh;\"> <h1 class=\"p-2 text-center\" data-wg-type=\"label\">Exercitation Ad Magna Consequat Ad Occaecat Mollit Do</h1> </header> <div class=\"container-fluid py-3\" id=\"page-content\"> <form class=\"p-3\"> <div class=\"form-group\"> <label data-wg-type=\"label\" for=\"voluptate_aliquip\">Voluptate aliquip</label> <input class=\"form-control\" data-wg-type=\"text\" id=\"voluptate_aliquip\" type=\"text\"> </div> <div class=\"form-row\"> <div class=\"form-group col-md\"> <label data-wg-type=\"label\" for=\"mollit_sit_velit\">Mollit sit velit</label> <input class=\"form-control\" data-wg-type=\"text\" id=\"mollit_sit_velit\" type=\"text\"> </div> <div class=\"form-group col-md\"> <label data-wg-type=\"label\" for=\"aliqua_dolor\">Aliqua dolor</label> <input class=\"form-control\" data-wg-type=\"text\" id=\"aliqua_dolor\" type=\"text\"> </div> <div class=\"form-group col-md\"> <label data-wg-type=\"label\" for=\"veniam_ea_laboris\">Veniam ea laboris</label> <input class=\"form-control\" data-wg-type=\"text\" id=\"veniam_ea_laboris\" type=\"text\"> </div> </div> <div class=\"form-row\"> <div class=\"form-group col-md\"> <label data-wg-type=\"label\" for=\"officia_dolor_eiusmod\">Officia dolor eiusmod</label> <input class=\"form-control\" data-wg-type=\"text\" id=\"officia_dolor_eiusmod\" type=\"text\"> </div> <div class=\"form-group col-md\"> <label data-wg-type=\"label\" for=\"sunt_mollit_sint\">Sunt mollit sint</label> <input class=\"form-control\" data-wg-type=\"text\" id=\"sunt_mollit_sint\" type=\"text\"> </div> <div class=\"form-group col-md\"> <label data-wg-type=\"label\" for=\"aute\">Aute</label> <input class=\"form-control\" data-wg-type=\"text\" id=\"aute\" type=\"text\"> </div> </div> <div class=\"form-row\"> <div class=\"form-group col-md\"> <label data-wg-type=\"label\" for=\"duis_commodo\">Duis commodo</label> <input class=\"form-control\" data-wg-type=\"text\" id=\"duis_commodo\" type=\"text\"> </div> <div class=\"form-group col-md\"> <label data-wg-type=\"label\" for=\"incididunt_commodo_proident\">Incididunt commodo proident</label> <input class=\"form-control\" data-wg-type=\"text\" id=\"incididunt_commodo_proident\" type=\"text\"> </div> <div class=\"form-group col-md\"> <label data-wg-type=\"label\" for=\"dolor_tempor\">Dolor tempor</label> <input class=\"form-control\" data-wg-type=\"text\" id=\"dolor_tempor\" type=\"text\"> </div> </div> <div class=\"form-group\"> <label data-wg-type=\"label\" for=\"mollit\">Mollit</label> <input class=\"form-control\" data-wg-type=\"text\" id=\"mollit\" type=\"text\"> </div> <div class=\"form-group\"> <label data-wg-type=\"label\" for=\"voluptate_in_magna\">Voluptate in magna</label> <input class=\"form-control\" data-wg-type=\"text\" id=\"voluptate_in_magna\" type=\"text\"> </div> </form> </div> </div> </div> </div> </body> </html>\n",
            "      Bleu: 0.88\n",
            "\n",
            "Prediction: <!DOCTYPE html> <html> <head> <title>Dominate</title> <meta content=\"width=device-width, initial-scale=1.0\" name=\"viewport\"> <meta content=\"Web Generator\" name=\"author\"> <meta content=\"2\" name=\"wg-layout\"> <link href=\"../css/custom-bootstrap.css\" rel=\"stylesheet\"> <link href=\"../css/wg-extras.css\" rel=\"stylesheet\"> <script src=\"../js/jquery-3.2.1.slim.min.js\" type=\"text/javascript\"></script> <script src=\"../js/bootstrap.min.js\" type=\"text/javascript\"></script> </head> <body class=\"\"> <div class=\" rounded shadow-lg\" id=\"full-wrapper\"> <nav class=\"bg-light navbar-light rounded shadow-lg navbar navbar-expand-md\" data-wg-type=\"navbar\"> <button class=\"navbar-toggler\" data-target=\"#main-nav\" data-toggle=\"collapse\" type=\"button\"> <span class=\"navbar-toggler-icon\"></span> </button> <div class=\"collapse navbar-collapse\" id=\"main-nav\" style=\"height: 4vh;\"> <ul class=\"navbar-nav mr-auto\"> <li class=\"nav-item\"> <a class=\"nav-link\" data-wg-type=\"button\" href=\"#\">Esse cillum</a> </li> <li class=\"nav-item\"> <a class=\"nav-link\" data-wg-type=\"button\" href=\"#\">Eiusmod amet</a> </li> <li class=\"nav-item\"> <a class=\"nav-link\" data-wg-type=\"button\" href=\"#\">Enim commodo</a> </li> </ul> </div> </nav> <header class=\"bg-light rounded shadow-lg d-flex align-items-center justify-content-center\" data-wg-type=\"header\" style=\"height: 33vh;\"> <h1 class=\"p-2 text-center\" data-wg-type=\"label\">Eiusmod Dolor Laborum</h1> </header> <div class=\"d-flex\"> <div class=\"flex-grow-1\"> <div class=\"container-fluid py-3\" id=\"page-content\"> <div class=\"row wg-detect\"> <div class=\"col\"> <div class=\"card-columns\"> <div class=\"text-black card\" data-wg-type=\"card\"> <div class=\"card-body\"> <h5 class=\"card-title\" data-wg-type=\"label\">Esse cillum ullamco</h5> <p class=\"card-text\" data-wg-type=\"label\">Et cillum ullamco anim anim aliquip cillum aliqua</p> <div class=\"d-flex justify-content-between align-items-center\"> <div class=\"btn-group\"> <button class=\"btn btn-sm btn-outline-secondary\" data-wg-type=\"button\" type=\"button\">Enim commodo</button> </div> <small class=\"text-muted\" data-wg-type=\"label\">Enim ullamco</small> </div> </div> </div> <div class=\"text-black card\" data-wg-type=\"card\"> <div class=\"card-body\"> <h5 class=\"card-title\" data-wg-type=\"label\">Enim cillum commodo</h5> <p class=\"card-text\" data-wg-type=\"label\">Et cillum ullamco anim anim aliquip cillum aliqua</p> <div class=\"d-flex justify-content-between align-items-center\"> <div class=\"btn-group\"> <button class=\"btn btn-sm btn-outline-secondary\" data-wg-type=\"button\" type=\"button\">Enim anim ut</button> </div> <small class=\"text-muted\" data-wg-type=\"label\">Enim anim ut</small> </div> </div> </div> <div class=\"text-black card\" data-wg-type=\"card\"> <div class=\"card-body\"> <h5 class=\"card-title\" data-wg-type=\"label\">Enim cillum ullamco</h5> <p class=\"card-text\" data-wg-type=\"label\">Enim ullamco cillum anim aliquip anim nostrud qui</p> <div class=\"d-flex justify-content-between align-items-center\"> <div class=\"btn-group\"> <button class=\"btn btn-sm btn-outline-secondary\" data-wg-type=\"button\" type=\"button\">Enim cillum</button> </div> <small class=\"text-muted\" data-wg-type=\"label\">Enim ullamco</small> </div> </div> </div> <div class=\"text-black card\" data-wg-type=\"card\"> <div class=\"card-body\"> <h5 class=\"card-title\" data-wg-type=\"label\">Enim cillum ullamco</h5> <p class=\"card-text\" data-wg-type=\"label\">Enim ullamco cillum anim aliquip anim aliqua aute</p> <div class=\"d-flex justify-content-between align-items-center\"> <div class=\"btn-group\"> <button class=\"btn btn-sm btn-outline-secondary\" data-wg-type=\"button\" type=\"button\">Enim ullamco</button> </div> <small class=\"text-muted\" data-wg-type=\"label\">Enim ullamco</small> </div> </div> </div> </div> </div> </div> <div class=\"row py-3 wg-detect\" data-wg-type=\"featured_items\"> <div class=\"col\"> <div class=\"text-center\"> <img class=\"text-black rounded-circle mx-auto shadow img\" data-wg-type=\"image\" style=\"background-color: gray;width: 68px;height: 68px;\"></img> <h2 data-wg-type=\"label\">Enim cillum ullamco</h2> <p data-wg-type=\"label\">Enim cillum ullamco anim aliquip cillum commodo et</p> <a class=\"btn btn-primary\" data-wg-type=\"button\" href=\"#\">Ea commodo in</a> </div> </div> <div class=\"col\"> <div class=\"text-center\"> <img class=\"text-black rounded-circle mx-auto shadow img\" data-wg-type=\"image\" style=\"background-color: gray;width: 68px;height: 68px;\"></img> <h2 data-wg-type=\"label\">Enim cillum ullamco</h2> <p data-wg-type=\"label\">Enim ullamco cillum anim aliquip anim nostrud qui</p> <a class=\"btn btn-primary\" data-wg-type=\"button\" href=\"#\">Enim ullamco</a> </div> </div> </div> <div class=\"wg-detect\" data-wg-type=\"descriptive_items\"> <div class=\"row\"> <div class=\"col\"> <h2 data-wg-type=\"label\">Enim cillum aliquip anim.</h2> <p><br> <img class=\"float-left m-2 img\" data-wg-type=\"image\" style=\"background-color: gray;width: 299px;height: 308px;\"></img> <span data-wg-type=\"text_area\">Enim ullamco cillum aliqua. Amet anim ullamco anim. Amet anim ullamco anim. Amet anim ullamco anim. Amet anim ullamco anim. Amet anim ullamco ullamco. Amet ullamco ullamco ullamco. Amet ullamco ullamco ullamco. Amet ullamco ullamco ullamco. Dolor ullamco ullamco ullamco. Amet ullamco ullamco ullamco. Dolor ullamco ullamco ullamco. Dolor ullamco ullamco ullamco. Amet ullamco ullamco ullamco. Amet ullamco ullamco ullamco. Amet ullamco ullamco ullamco. Aute ullamco ullamco ullamco. Aute ullamco ullamco ullamco. Aute ullamco ullamco ullamco. Dolor ullamco ullamco ullamco. Aute ullamco ullamco ullamco.</span> </p> </div> </div> <div class=\"row\"> <div class=\"col\"> <h2 data-wg-type=\"label\">Enim cillum commodo aliquip.</h2> <p><br> <img class=\"float-right m-2 img\" data-wg-type=\"image\" style=\"background-color: gray;width: 299px;height: 308px;\"></img> <span data-wg-type=\"text_area\">Enim ullamco cillum ullamco. Amet ullamco ullamco ullamco. Amet ullamco ullamco ullamco. Amet ullamco ullamco ullamco. Amet ullamco ullamco ullamco. Amet ullamco ullamco ullamco. Dolor ullamco ullamco ullamco. Amet ullamco ullamco ullamco. Dolor ullamco ullamco ullamco. Amet ullamco ullamco ullamco. Dolor ullamco ullamco ullamco. Amet ullamco ullamco ullamco. Amet ullamco ullamco ullamco. Amet ullamco ullamco ullamco. Amet ullamco ullamco ullamco. Amet ullamco ullamco ullamco. Dolor ullamco ullamco ullamco. Amet ullamco ullamco ullamco. Aute ullamco ullamco ullamco. Aute ullamco ullamco ullamco. Aute ullamco ullamco ullamco. Aute ullamco ullamco ullamco. Aute ullamco ullamco ullamco. Aute ullamco ullamco ullamco. Aute ullamco ullamco ullamco ullamco.</span> </p> </div> </div> </div> </div> <footer class=\"bg-light rounded shadow-lg jumbotron mb-0\" data-wg-type=\"footer\" style=\"height: 23vh;\"> <div class=\"container\"> <span class=\"text-muted\" data-wg-type=\"label\">Adipiscing cillum ullamco anim aliquip commodo qui</span> </div> </footer> </div> <div class=\"bg-light rounded shadow-lg\" data-wg-type=\"sidebar\" id=\"sidebar-wrapper\"> <div class=\"list-group list-group-flush\" style=\"width:22vh;\"> <a class=\"list-group-item list-group-item-action\" data-wg-type=\"button\" href=\"#\">Esse cillum</a> <a class=\"list-group-item list-group-item-action\" data-wg-type=\"button\" href=\"#\">Et cillum qui</a> <a class=\"list-group-item list-group-item-action\" data-wg-type=\"button\" href=\"#\">Et cillum qui</a> </div> </div> </div> </div> </body> </html>\n",
            "    Answer: <!DOCTYPE html> <html> <head> <title>Dominate</title> <meta content=\"width=device-width, initial-scale=1.0\" name=\"viewport\"> <meta content=\"Web Generator\" name=\"author\"> <meta content=\"2\" name=\"wg-layout\"> <link href=\"../css/custom-bootstrap.css\" rel=\"stylesheet\"> <link href=\"../css/wg-extras.css\" rel=\"stylesheet\"> <script src=\"../js/jquery-3.2.1.slim.min.js\" type=\"text/javascript\"></script> <script src=\"../js/bootstrap.min.js\" type=\"text/javascript\"></script> </head> <body class=\"\"> <div class=\" rounded shadow-lg\" id=\"full-wrapper\"> <nav class=\"bg-light navbar-light rounded shadow-lg navbar navbar-expand-md\" data-wg-type=\"navbar\"> <button class=\"navbar-toggler\" data-target=\"#main-nav\" data-toggle=\"collapse\" type=\"button\"> <span class=\"navbar-toggler-icon\"></span> </button> <div class=\"collapse navbar-collapse\" id=\"main-nav\" style=\"height: 3vh;\"> <ul class=\"navbar-nav mr-auto\"> <li class=\"nav-item\"> <a class=\"nav-link\" data-wg-type=\"button\" href=\"#\">Consequat ex</a> </li> <li class=\"nav-item\"> <a class=\"nav-link\" data-wg-type=\"button\" href=\"#\">Dolore nulla</a> </li> <li class=\"nav-item\"> <a class=\"nav-link\" data-wg-type=\"button\" href=\"#\">Sed nisi sunt</a> </li> </ul> </div> </nav> <header class=\"bg-light rounded shadow-lg d-flex align-items-center justify-content-center\" data-wg-type=\"header\" style=\"height: 35vh;\"> <h1 class=\"p-2 text-center\" data-wg-type=\"label\">Et Officia Dolore Sunt Ullamco</h1> </header> <div class=\"d-flex\"> <div class=\"flex-grow-1\"> <div class=\"container-fluid py-3\" id=\"page-content\"> <div class=\"row wg-detect\"> <div class=\"col\"> <div class=\"card-columns\"> <div class=\"text-black card\" data-wg-type=\"card\"> <div class=\"card-body\"> <h5 class=\"card-title\" data-wg-type=\"label\">Anim reprehenderit</h5> <p class=\"card-text\" data-wg-type=\"label\">Et aliquip et cillum sit non consectetur dolor est</p> <div class=\"d-flex justify-content-between align-items-center\"> <div class=\"btn-group\"> <button class=\"btn btn-sm btn-outline-secondary\" data-wg-type=\"button\" type=\"button\">Excepteur ut</button> </div> <small class=\"text-muted\" data-wg-type=\"label\">Nostrud nisi</small> </div> </div> </div> <div class=\"text-black card\" data-wg-type=\"card\"> <div class=\"card-body\"> <h5 class=\"card-title\" data-wg-type=\"label\">Eiusmod non labore</h5> <p class=\"card-text\" data-wg-type=\"label\">Nulla esse magna incididunt tempor qui non nisi ex</p> <div class=\"d-flex justify-content-between align-items-center\"> <div class=\"btn-group\"> <button class=\"btn btn-sm btn-outline-secondary\" data-wg-type=\"button\" type=\"button\">Sint nisi et</button> </div> <small class=\"text-muted\" data-wg-type=\"label\">Irure lorem</small> </div> </div> </div> <div class=\"text-black card\" data-wg-type=\"card\"> <div class=\"card-body\"> <h5 class=\"card-title\" data-wg-type=\"label\">Duis adipiscing non</h5> <p class=\"card-text\" data-wg-type=\"label\">Elit ex lorem id cillum dolore pariatur ut eu do</p> <div class=\"d-flex justify-content-between align-items-center\"> <div class=\"btn-group\"> <button class=\"btn btn-sm btn-outline-secondary\" data-wg-type=\"button\" type=\"button\">Sed dolor id</button> </div> <small class=\"text-muted\" data-wg-type=\"label\">Sint ullamco</small> </div> </div> </div> <div class=\"text-black card\" data-wg-type=\"card\"> <div class=\"card-body\"> <h5 class=\"card-title\" data-wg-type=\"label\">Dolore aliquip elit</h5> <p class=\"card-text\" data-wg-type=\"label\">Occaecat sed dolor eu quis anim labore eiusmod in</p> <div class=\"d-flex justify-content-between align-items-center\"> <div class=\"btn-group\"> <button class=\"btn btn-sm btn-outline-secondary\" data-wg-type=\"button\" type=\"button\">Et est culpa</button> </div> <small class=\"text-muted\" data-wg-type=\"label\">Exercitation</small> </div> </div> </div> </div> </div> </div> <div class=\"row py-3 wg-detect\" data-wg-type=\"featured_items\"> <div class=\"col\"> <div class=\"text-center\"> <img class=\"text-black rounded-circle mx-auto img\" data-wg-type=\"image\" style=\"background-color: gray;width: 57px;height: 57px;\"></img> <h2 data-wg-type=\"label\">Ipsum commodo dolore</h2> <p data-wg-type=\"label\">Est sunt dolore labore aliquip est nulla veniam do</p> <a class=\"btn btn-primary\" data-wg-type=\"button\" href=\"#\">Voluptate eu</a> </div> </div> <div class=\"col\"> <div class=\"text-center\"> <img class=\"text-black rounded-circle mx-auto img\" data-wg-type=\"image\" style=\"background-color: gray;width: 57px;height: 57px;\"></img> <h2 data-wg-type=\"label\">In aliquip anim sunt</h2> <p data-wg-type=\"label\">Est pariatur et exercitation deserunt dolore culpa</p> <a class=\"btn btn-primary\" data-wg-type=\"button\" href=\"#\">Duis magna in</a> </div> </div> </div> <div class=\"wg-detect\" data-wg-type=\"descriptive_items\"> <div class=\"row\"> <div class=\"col\"> <h2 data-wg-type=\"label\">Elit do qui exercitation commodo aliquip occaecat sint.</h2> <p><br> <img class=\"float-left m-2 shadow img\" data-wg-type=\"image\" style=\"background-color: gray;width: 281px;height: 309px;\"></img> <span data-wg-type=\"text_area\">Aliquip ad ex officia. Est proident elit minim ut, ex amet cillum labore tempor, labore laborum culpa amet eiusmod laboris. Amet aute officia id amet, nostrud incididunt anim officia cillum veniam est eu. Fugiat laboris sit duis velit irure. Duis esse proident ex consequat, enim nulla sunt adipiscing culpa, tempor non occaecat in excepteur voluptate aliqua eu. Laborum aliquip pariatur adipiscing laborum, culpa laborum pariatur sunt amet non dolore proident. Adipiscing ea lorem dolore. Aliqua magna ut occaecat consequat ad, elit velit aliqua est velit aliquip magna, proident nulla qui reprehenderit minim adipiscing culpa. Tempor tempor irure consequat id in non, cillum velit deserunt cillum velit exercitation dolor. Cupidatat nostrud in dolore ullamco laborum labore. Proident aliquip ipsum aute sunt consequat cillum, veniam pariatur ipsum magna ad. Pariatur ullamco do adipiscing fugiat consectetur. Aute sit commodo aliqua cillum sunt eu nisi, ad labore ipsum aliqua nisi, esse dolor velit sint culpa amet. Aute cillum sed dolore ipsum. Voluptate enim in culpa eiusmod non magna laborum, in exercitation velit velit excepteur cupidatat, ad nisi pariatur voluptate commodo sed sunt. Deserunt in anim enim nostrud minim ad. In esse non consequat. Elit et esse ut quis. Fugiat culpa commodo enim amet irure tempor. Ad commodo officia aliquip sunt dolore excepteur, deserunt sit officia ex consequat consequat reprehenderit. Commodo ea enim tempor, aute excepteur elit pariatur dolor. Mollit laborum ut eu in culpa qui. Id id non incididunt.</span> </p> </div> </div> <div class=\"row\"> <div class=\"col\"> <h2 data-wg-type=\"label\">Minim nisi labore fugiat cupidatat, esse excepteur velit proident sit commodo.</h2> <p><br> <img class=\"float-right m-2 shadow img\" data-wg-type=\"image\" style=\"background-color: gray;width: 281px;height: 309px;\"></img> <span data-wg-type=\"text_area\">Consectetur occaecat ullamco incididunt excepteur tempor anim. Adipiscing lorem nisi adipiscing aute. Irure velit esse consequat mollit sed fugiat enim. Proident in non labore exercitation nulla magna fugiat. Sint elit cupidatat adipiscing et. Sint aliquip do excepteur elit pariatur reprehenderit enim, cupidatat quis ut sit officia sunt. Quis excepteur irure eu reprehenderit sit. Adipiscing et aliqua aliquip. Nisi irure nulla culpa enim incididunt, tempor ut est excepteur officia, do fugiat exercitation ut. Sit culpa quis do ut, aute do exercitation dolor qui sunt. Eu sunt esse cupidatat tempor labore non, eiusmod fugiat dolor non. Nisi proident dolore nulla incididunt minim nostrud ea, ut minim non anim qui velit, nulla in velit voluptate ut sint incididunt esse. Magna proident voluptate est exercitation. Elit ex enim sunt pariatur. Lorem magna ex nulla officia. Adipiscing pariatur dolore deserunt tempor aliquip sunt. Consectetur irure magna officia. Amet ullamco ea commodo nulla anim sint ad. Duis ullamco deserunt id, velit nostrud lorem duis occaecat excepteur. Esse dolore do nisi magna aliqua. Commodo aute esse esse cupidatat sint magna laborum. Proident ad officia adipiscing cillum et occaecat, ut culpa aliquip sint do magna elit sunt. Sunt culpa culpa occaecat excepteur voluptate veniam, quis pariatur nostrud amet nostrud voluptate deserunt. Nisi velit nulla dolore minim velit eiusmod dolore, consectetur lorem do lorem in tempor. Sit quis aliquip anim id esse quis, laborum quis esse qui duis deserunt.</span> </p> </div> </div> <div class=\"row\"> <div class=\"col\"> <h2 data-wg-type=\"label\">Et sint ea laborum ullamco voluptate esse.</h2> <p><br> <img class=\"float-left m-2 shadow img\" data-wg-type=\"image\" style=\"background-color: gray;width: 281px;height: 309px;\"></img> <span data-wg-type=\"text_area\">Reprehenderit et ea irure sed esse. Laborum excepteur ullamco aliqua proident velit commodo sit. Tempor in tempor ut qui ut. Minim veniam anim in. Enim esse cupidatat aliqua amet tempor culpa. Exercitation dolor ex ipsum, magna ea quis nulla consequat esse magna. Magna enim sed proident in pariatur. Sit laboris sit sunt nulla, deserunt esse minim qui nulla excepteur nisi sint. Ullamco reprehenderit minim cupidatat irure enim esse non. Enim veniam cillum veniam exercitation enim, dolore sint aliqua pariatur consectetur mollit ex. Exercitation reprehenderit amet labore mollit. Nulla in laborum qui magna sint dolore. Eiusmod laboris et velit nostrud consectetur anim reprehenderit. Reprehenderit deserunt excepteur velit tempor ut. In duis excepteur voluptate. Ea deserunt laborum elit consequat elit ex. Tempor pariatur eu nisi aliquip cupidatat et ut. Amet ea reprehenderit eu veniam amet labore, dolore ex eu velit occaecat cillum. Magna veniam in enim. Sed excepteur cupidatat lorem anim quis. Laborum consectetur eiusmod eiusmod, duis tempor sint excepteur ex sint dolor consequat, magna cillum culpa labore. Sunt reprehenderit nostrud adipiscing irure lorem. Irure lorem eiusmod proident adipiscing voluptate.</span> </p> </div> </div> </div> </div> <footer class=\"bg-light rounded shadow-lg jumbotron mb-0\" data-wg-type=\"footer\" style=\"height: 23vh;\"> <div class=\"container\"> <span class=\"text-muted\" data-wg-type=\"label\">Sit magna enim veniam adipiscing in velit irure ut</span> </div> </footer> </div> <div class=\"bg-light rounded shadow-lg\" data-wg-type=\"sidebar\" id=\"sidebar-wrapper\"> <div class=\"list-group list-group-flush\" style=\"width:23vh;\"> <a class=\"list-group-item list-group-item-action\" data-wg-type=\"button\" href=\"#\">Esse irure ea</a> <a class=\"list-group-item list-group-item-action\" data-wg-type=\"button\" href=\"#\">Nulla aliquip</a> <a class=\"list-group-item list-group-item-action\" data-wg-type=\"button\" href=\"#\">Sed sunt sit</a> </div> </div> </div> </div> </body> </html>\n",
            "      Bleu: 0.54\n",
            "\n",
            "Prediction: <!DOCTYPE html> <html> <head> <title>Dominate</title> <meta content=\"width=device-width, initial-scale=1.0\" name=\"viewport\"> <meta content=\"Web Generator\" name=\"author\"> <meta content=\"1\" name=\"wg-layout\"> <link href=\"../css/custom-bootstrap.css\" rel=\"stylesheet\"> <link href=\"../css/wg-extras.css\" rel=\"stylesheet\"> <script src=\"../js/jquery-3.2.1.slim.min.js\" type=\"text/javascript\"></script> <script src=\"../js/bootstrap.min.js\" type=\"text/javascript\"></script> </head> <body class=\"\"> <div class=\"d-flex \" id=\"full-wrapper\"> <div class=\"bg-light rounded\" data-wg-type=\"sidebar\" id=\"sidebar-wrapper\"> <div class=\"sidebar-heading\" data-wg-type=\"label\">Esse</div> <div class=\"list-group list-group-flush\" style=\"width:22vh;\"> <a class=\"list-group-item list-group-item-action\" data-wg-type=\"button\" href=\"#\">Et cillum qui</a> <a class=\"list-group-item list-group-item-action\" data-wg-type=\"button\" href=\"#\">Enim ullamco</a> <a class=\"list-group-item list-group-item-action\" data-wg-type=\"button\" href=\"#\">Enim ullamco</a> </div> </div> <div class=\"w-100\"> <nav class=\"bg-light navbar-light rounded navbar navbar-expand-md\" data-wg-type=\"navbar\"> <a class=\"navbar-brand\" data-wg-type=\"label\" href=\"#\">Sed</a> <button class=\"navbar-toggler\" data-target=\"#main-nav\" data-toggle=\"collapse\" type=\"button\"> <span class=\"navbar-toggler-icon\"></span> </button> <div class=\"collapse navbar-collapse\" id=\"main-nav\" style=\"height: 8vh;\"> <ul class=\"navbar-nav mr-auto\"> <li class=\"nav-item\"> <a class=\"nav-link\" data-wg-type=\"button\" href=\"#\">Et cillum do</a> </li> <li class=\"nav-item\"> <a class=\"nav-link\" data-wg-type=\"button\" href=\"#\">Et cillum sit</a> </li> <li class=\"nav-item\"> <a class=\"nav-link\" data-wg-type=\"button\" href=\"#\">Adipiscing do</a> </li> <li class=\"nav-item\"> <a class=\"nav-link\" data-wg-type=\"button\" href=\"#\">Et anim aute</a> </li> <li class=\"nav-item\"> <a class=\"nav-link\" data-wg-type=\"button\" href=\"#\">Et cillum qui</a> </li> <li class=\"nav-item\"> <a class=\"nav-link\" data-wg-type=\"button\" href=\"#\">Enim ullamco</a> </li> </ul> </div> </nav> <div class=\"container-fluid py-3\" id=\"page-content\"> <div class=\"row py-3 wg-detect\" data-wg-type=\"featured_items\"> <div class=\"col\"> <div class=\"text-center\"> <img class=\"text-black rounded-circle mx-auto shadow img\" data-wg-type=\"image\" style=\"background-color: gray;width: 98px;height: 98px;\"></img> <h2 data-wg-type=\"label\">Enim cillum ullamco</h2> <p data-wg-type=\"label\">Enim ullamco cillum aliquip anim ullamco nostrud</p> <a class=\"btn btn-primary\" data-wg-type=\"button\" href=\"#\">Enim ullamco</a> </div> </div> <div class=\"col\"> <div class=\"text-center\"> <img class=\"text-black rounded-circle mx-auto shadow img\" data-wg-type=\"image\" style=\"background-color: gray;width: 98px;height: 98px;\"></img> <h2 data-wg-type=\"label\">Enim cillum ullamco</h2> <p data-wg-type=\"label\">Enim ullamco cillum aliqua anim aliquip anim aute</p> <a class=\"btn btn-primary\" data-wg-type=\"button\" href=\"#\">Ea commodo in</a> </div> </div> <div class=\"col\"> <div class=\"text-center\"> <img class=\"text-black rounded-circle mx-auto shadow img\" data-wg-type=\"image\" style=\"background-color: gray;width: 98px;height: 98px;\"></img> <h2 data-wg-type=\"label\">Enim cillum ullamco</h2> <p data-wg-type=\"label\">Eiusmod cillum aliqua ullamco aliquip nostrud qui</p> <a class=\"btn btn-primary\" data-wg-type=\"button\" href=\"#\">Eiusmod amet</a> </div> </div> </div> </div> </div> </div> </body> </html>\n",
            "    Answer: <!DOCTYPE html> <html> <head> <title>Dominate</title> <meta content=\"width=device-width, initial-scale=1.0\" name=\"viewport\"> <meta content=\"Web Generator\" name=\"author\"> <meta content=\"1\" name=\"wg-layout\"> <link href=\"../css/custom-bootstrap.css\" rel=\"stylesheet\"> <link href=\"../css/wg-extras.css\" rel=\"stylesheet\"> <script src=\"../js/jquery-3.2.1.slim.min.js\" type=\"text/javascript\"></script> <script src=\"../js/bootstrap.min.js\" type=\"text/javascript\"></script> </head> <body class=\"\"> <div class=\"d-flex \" id=\"full-wrapper\"> <div class=\"bg-light rounded\" data-wg-type=\"sidebar\" id=\"sidebar-wrapper\"> <div class=\"sidebar-heading\" data-wg-type=\"label\">Sunt</div> <div class=\"list-group list-group-flush\" style=\"width:28vh;\"> <a class=\"list-group-item list-group-item-action\" data-wg-type=\"button\" href=\"#\">Adipiscing ad</a> <a class=\"list-group-item list-group-item-action\" data-wg-type=\"button\" href=\"#\">Consequat do</a> <a class=\"list-group-item list-group-item-action\" data-wg-type=\"button\" href=\"#\">Occaecat anim</a> </div> </div> <div class=\"w-100\"> <nav class=\"bg-light navbar-light rounded navbar navbar-expand-md\" data-wg-type=\"navbar\"> <a class=\"navbar-brand\" data-wg-type=\"label\" href=\"#\">Duis</a> <button class=\"navbar-toggler\" data-target=\"#main-nav\" data-toggle=\"collapse\" type=\"button\"> <span class=\"navbar-toggler-icon\"></span> </button> <div class=\"collapse navbar-collapse\" id=\"main-nav\" style=\"height: 8vh;\"> <ul class=\"navbar-nav mr-auto\"> <li class=\"nav-item\"> <a class=\"nav-link\" data-wg-type=\"button\" href=\"#\">Cillum sit et</a> </li> <li class=\"nav-item\"> <a class=\"nav-link\" data-wg-type=\"button\" href=\"#\">Nostrud nisi</a> </li> <li class=\"nav-item\"> <a class=\"nav-link\" data-wg-type=\"button\" href=\"#\">Pariatur esse</a> </li> <li class=\"nav-item\"> <a class=\"nav-link\" data-wg-type=\"button\" href=\"#\">Proident esse</a> </li> <li class=\"nav-item\"> <a class=\"nav-link\" data-wg-type=\"button\" href=\"#\">Excepteur ut</a> </li> <li class=\"nav-item\"> <a class=\"nav-link\" data-wg-type=\"button\" href=\"#\">Amet sint qui</a> </li> </ul> </div> </nav> <div class=\"container-fluid py-3\" id=\"page-content\"> <div class=\"row py-3 wg-detect\" data-wg-type=\"featured_items\"> <div class=\"col\"> <div class=\"text-center\"> <img class=\"text-black rounded-circle mx-auto img\" data-wg-type=\"image\" style=\"background-color: gray;width: 97px;height: 97px;\"></img> <h2 data-wg-type=\"label\">Enim magna sint elit</h2> <p data-wg-type=\"label\">Incididunt anim irure cupidatat dolor quis elit ut</p> <a class=\"btn btn-primary\" data-wg-type=\"button\" href=\"#\">Aliqua do ut</a> </div> </div> <div class=\"col\"> <div class=\"text-center\"> <img class=\"text-black rounded-circle mx-auto img\" data-wg-type=\"image\" style=\"background-color: gray;width: 97px;height: 97px;\"></img> <h2 data-wg-type=\"label\">Mollit tempor nisi</h2> <p data-wg-type=\"label\">Elit laboris aliquip reprehenderit ut fugiat enim</p> <a class=\"btn btn-primary\" data-wg-type=\"button\" href=\"#\">Ullamco ut id</a> </div> </div> <div class=\"col\"> <div class=\"text-center\"> <img class=\"text-black rounded-circle mx-auto img\" data-wg-type=\"image\" style=\"background-color: gray;width: 97px;height: 97px;\"></img> <h2 data-wg-type=\"label\">Mollit laborum culpa</h2> <p data-wg-type=\"label\">Ea quis sit do ut labore aliqua proident fugiat in</p> <a class=\"btn btn-primary\" data-wg-type=\"button\" href=\"#\">Aute labore</a> </div> </div> <div class=\"col\"> <div class=\"text-center\"> <img class=\"text-black rounded-circle mx-auto img\" data-wg-type=\"image\" style=\"background-color: gray;width: 97px;height: 97px;\"></img> <h2 data-wg-type=\"label\">Enim anim dolore qui</h2> <p data-wg-type=\"label\">Proident duis sed incididunt excepteur nulla ad in</p> <a class=\"btn btn-primary\" data-wg-type=\"button\" href=\"#\">Sunt anim est</a> </div> </div> </div> </div> </div> </div> </body> </html>\n",
            "      Bleu: 0.83\n",
            "\n",
            "Prediction: <!DOCTYPE html> <html> <head> <title>Dominate</title> <meta content=\"width=device-width, initial-scale=1.0\" name=\"viewport\"> <meta content=\"Web Generator\" name=\"author\"> <meta content=\"2\" name=\"wg-layout\"> <link href=\"../css/custom-bootstrap.css\" rel=\"stylesheet\"> <link href=\"../css/wg-extras.css\" rel=\"stylesheet\"> <script src=\"../js/jquery-3.2.1.slim.min.js\" type=\"text/javascript\"></script> <script src=\"../js/bootstrap.min.js\" type=\"text/javascript\"></script> </head> <body class=\"\"> <div class=\" rounded shadow\" id=\"full-wrapper\"> <nav class=\"bg-light navbar-light rounded shadow navbar navbar-expand-md\" data-wg-type=\"navbar\"> <a class=\"navbar-brand\" data-wg-type=\"label\" href=\"#\">Qui</a> <button class=\"navbar-toggler\" data-target=\"#main-nav\" data-toggle=\"collapse\" type=\"button\"> <span class=\"navbar-toggler-icon\"></span> </button> <div class=\"collapse navbar-collapse\" id=\"main-nav\" style=\"height: 3vh;\"> <ul class=\"navbar-nav ml-auto\"> <li class=\"nav-item\"> <a class=\"nav-link\" data-wg-type=\"button\" href=\"#\">Et cillum id</a> </li> <li class=\"nav-item\"> <a class=\"nav-link\" data-wg-type=\"button\" href=\"#\">Esse cillum</a> </li> <li class=\"nav-item\"> <a class=\"nav-link\" data-wg-type=\"button\" href=\"#\">Et anim aute</a> </li> <li class=\"nav-item\"> <a class=\"nav-link\" data-wg-type=\"button\" href=\"#\">Et anim aute</a> </li> </ul> </div> </nav> <header class=\"bg-light rounded shadow d-flex align-items-center justify-content-center\" data-wg-type=\"header\" style=\"height: 30vh;\"> <h1 class=\"p-2 text-center\" data-wg-type=\"label\">Ea Anim Qui</h1> </header> <div class=\"d-flex\"> <div class=\"container-fluid py-3\" id=\"page-content\"> <form class=\"p-3\"> <div class=\"form-row\"> <div class=\"form-group col-md\"> <label data-wg-type=\"label\" for=\"sed_laborum_id\">Sed laborum id</label> <input class=\"form-control\" data-wg-type=\"text\" id=\"sed_laborum_id\" type=\"text\"> </div> <div class=\"form-group col-md\"> <label data-wg-type=\"label\" for=\"laboris_in_aliquip\">Laboris in aliquip</label> <input class=\"form-control\" data-wg-type=\"text\" id=\"laboris_in_aliquip\" type=\"text\"> </div> </div> <div class=\"form-row\"> <div class=\"form-group col-md\"> <label data-wg-type=\"label\" for=\"cupidatat\">Cupidatat</label> <input class=\"custom-range\" data-wg-type=\"slider\" id=\"cupidatat\" type=\"slider\"> </div> <div class=\"form-group col-md\"> <label data-wg-type=\"label\" for=\"laborum\">Laborum</label> <input class=\"form-control\" data-wg-type=\"text\" id=\"laborum\" type=\"text\"> </div> <div class=\"form-group col-md\"> <label data-wg-type=\"label\" for=\"labore_laboris\">Labore laboris</label> <input class=\"form-control\" data-wg-type=\"text\" id=\"labore_laboris\" type=\"text\"> </div> </div> <div class=\"form-row\"> <div class=\"form-group col-md\"> <label data-wg-type=\"label\" for=\"labore_exercitation\">Labore exercitation</label> <input class=\"form-control\" data-wg-type=\"text\" id=\"labore_exercitation\" type=\"text\"> </div> <div class=\"form-group col-md\"> <label data-wg-type=\"label\" for=\"aliqua\">Aliqua</label> <input class=\"form-control\" data-wg-type=\"text\" id=\"aliqua\" type=\"text\"> </div> <div class=\"form-group col-md\"> <label data-wg-type=\"label\" for=\"elit\">Elit</label> <input class=\"form-control\" data-wg-type=\"text\" id=\"elit\" type=\"text\"> </div> </div> <div class=\"form-group\"> <label data-wg-type=\"label\" for=\"esse\">Esse</label> <input class=\"form-control\" data-wg-type=\"text\" id=\"esse\" type=\"text\"> </div> <div class=\"form-group\"> <label data-wg-type=\"label\" for=\"labore_aliqua\">Labore aliqua</label> <input class=\"form-control\" data-wg-type=\"text\" id=\"labore_aliqua\" type=\"text\"> </div> <div class=\"form-row\"> <div class=\"form-group col-md\"> <label data-wg-type=\"label\" for=\"labore_laboris\">Labore laboris</label> <input class=\"form-control\" data-wg-type=\"text\" id=\"labore_laboris\" type=\"text\"> </div> <div class=\"form-group col-md\"> <label data-wg-type=\"label\" for=\"labore_incididunt\">Labore incididunt</label> <input class=\"form-control\" data-wg-type=\"text\" id=\"labore_incididunt\" type=\"text\"> </div> </div> <div class=\"form-group\"> <div class=\"custom-switch\" data-wg-type=\"checkbox_switch\"> <input class=\"custom-control-input\" id=\"labore_laboris_laboris\" type=\"checkbox\"> <label class=\"custom-control-label\" data-wg-type=\"checkbox_label\" for=\"labore_laboris_laboris\">Labore laboris laboris</label> </div> </div> <div class=\"form-row\"> <div class=\"form-group col-md\"> <label data-wg-type=\"label\" for=\"labore_incididunt\">Labore incididunt</label> <input class=\"form-control\" data-wg-type=\"text\" id=\"labore_incididunt\" type=\"text\"> </div> <div class=\"form-group col-md\"> <label data-wg-type=\"label\" for=\"eiusmod\">Eiusmod</label> <input class=\"form-control\" data-wg-type=\"text\" id=\"eiusmod\" type=\"text\"> </div> </div> <div class=\"form-group\"> <label data-wg-type=\"label\" for=\"labore_laboris\">Labore laboris</label> <input class=\"custom-range\" data-wg-type=\"slider\" id=\"labore_laboris\" type=\"slider\"> </div> </form> </div> <div class=\"bg-light rounded shadow\" data-wg-type=\"sidebar\" id=\"sidebar-wrapper\"> <div class=\"list-group list-group-flush\" style=\"width:22vh;\"> <a class=\"list-group-item list-group-item-action\" data-wg-type=\"button\" href=\"#\">Enim cillum</a> <a class=\"list-group-item list-group-item-action\" data-wg-type=\"button\" href=\"#\">Enim anim non</a> <a class=\"list-group-item list-group-item-action\" data-wg-type=\"button\" href=\"#\">Enim commodo</a> <a class=\"list-group-item list-group-item-action\" data-wg-type=\"button\" href=\"#\">Enim ullamco</a> <a class=\"list-group-item list-group-item-action\" data-wg-type=\"button\" href=\"#\">Enim ullamco</a> </div> </div> </div> </div> </body> </html>\n",
            "    Answer: <!DOCTYPE html> <html> <head> <title>Dominate</title> <meta content=\"width=device-width, initial-scale=1.0\" name=\"viewport\"> <meta content=\"Web Generator\" name=\"author\"> <meta content=\"3\" name=\"wg-layout\"> <link href=\"../css/custom-bootstrap.css\" rel=\"stylesheet\"> <link href=\"../css/wg-extras.css\" rel=\"stylesheet\"> <script src=\"../js/jquery-3.2.1.slim.min.js\" type=\"text/javascript\"></script> <script src=\"../js/bootstrap.min.js\" type=\"text/javascript\"></script> </head> <body class=\"\"> <div class=\" rounded shadow\" id=\"full-wrapper\"> <nav class=\"bg-light navbar-light rounded shadow navbar navbar-expand-md\" data-wg-type=\"navbar\"> <a class=\"navbar-brand\" data-wg-type=\"label\" href=\"#\">Velit</a> <button class=\"navbar-toggler\" data-target=\"#main-nav\" data-toggle=\"collapse\" type=\"button\"> <span class=\"navbar-toggler-icon\"></span> </button> <div class=\"collapse navbar-collapse\" id=\"main-nav\" style=\"height: 3vh;\"> <ul class=\"navbar-nav ml-auto\"> <li class=\"nav-item\"> <a class=\"nav-link\" data-wg-type=\"button\" href=\"#\">Dolore et qui</a> </li> <li class=\"nav-item\"> <a class=\"nav-link\" data-wg-type=\"button\" href=\"#\">Sed occaecat</a> </li> <li class=\"nav-item\"> <a class=\"nav-link\" data-wg-type=\"button\" href=\"#\">Magna velit</a> </li> <li class=\"nav-item\"> <a class=\"nav-link\" data-wg-type=\"button\" href=\"#\">Laboris ad ut</a> </li> </ul> </div> </nav> <header class=\"bg-light rounded shadow d-flex align-items-center justify-content-center\" data-wg-type=\"header\" style=\"height: 30vh;\"> <h1 class=\"p-2 text-center\" data-wg-type=\"label\">Fugiat Cillum</h1> </header> <div class=\"d-flex\"> <div class=\"container-fluid py-3\" id=\"page-content\"> <form class=\"p-3\"> <div class=\"form-row\"> <div class=\"form-group col-md\"> <label data-wg-type=\"label\" for=\"sunt_anim_non\">Sunt anim non</label> <input class=\"form-control\" data-wg-type=\"text\" id=\"sunt_anim_non\" type=\"text\"> </div> <div class=\"form-group col-md\"> <label data-wg-type=\"label\" for=\"eiusmod_non_sint\">Eiusmod non sint</label> <input class=\"form-control\" data-wg-type=\"text\" id=\"eiusmod_non_sint\" type=\"text\"> </div> </div> <div class=\"form-row\"> <div class=\"form-group col-md\"> <label data-wg-type=\"label\" for=\"commodo\">Commodo</label> <input class=\"custom-range\" data-wg-type=\"slider\" id=\"commodo\" type=\"slider\"> </div> <div class=\"form-group col-md\"> <label data-wg-type=\"label\" for=\"elit_nulla\">Elit nulla</label> <input class=\"form-control\" data-wg-type=\"text\" id=\"elit_nulla\" type=\"text\"> </div> <div class=\"form-group col-md\"> <label data-wg-type=\"label\" for=\"tempor_minim\">Tempor minim</label> <input class=\"form-control\" data-wg-type=\"text\" id=\"tempor_minim\" type=\"text\"> </div> </div> <div class=\"form-row\"> <div class=\"form-group col-md\"> <label data-wg-type=\"label\" for=\"commodo_deserunt\">Commodo deserunt</label> <input class=\"form-control\" data-wg-type=\"text\" id=\"commodo_deserunt\" type=\"text\"> </div> <div class=\"form-group col-md\"> <label data-wg-type=\"label\" for=\"officia\">Officia</label> <input class=\"form-control\" data-wg-type=\"text\" id=\"officia\" type=\"text\"> </div> <div class=\"form-group col-md\"> <label data-wg-type=\"label\" for=\"elit\">Elit</label> <input class=\"form-control\" data-wg-type=\"text\" id=\"elit\" type=\"text\"> </div> </div> <div class=\"form-group\"> <label data-wg-type=\"label\" for=\"quis\">Quis</label> <input class=\"form-control\" data-wg-type=\"text\" id=\"quis\" type=\"text\"> </div> <div class=\"form-group\"> <label data-wg-type=\"label\" for=\"excepteur_elit\">Excepteur elit</label> <input class=\"form-control\" data-wg-type=\"text\" id=\"excepteur_elit\" type=\"text\"> </div> <div class=\"form-row\"> <div class=\"form-group col-md\"> <label data-wg-type=\"label\" for=\"irure_incididunt\">Irure incididunt</label> <input class=\"form-control\" data-wg-type=\"text\" id=\"irure_incididunt\" type=\"text\"> </div> <div class=\"form-group col-md\"> <label data-wg-type=\"label\" for=\"ex_quis_incididunt\">Ex quis incididunt</label> <input class=\"form-control\" data-wg-type=\"text\" id=\"ex_quis_incididunt\" type=\"text\"> </div> </div> <div class=\"form-group\"> <div class=\"custom-switch\" data-wg-type=\"checkbox_switch\"> <input class=\"custom-control-input\" id=\"sint_reprehenderit_eu\" type=\"checkbox\"> <label class=\"custom-control-label\" data-wg-type=\"checkbox_label\" for=\"sint_reprehenderit_eu\">Sint reprehenderit eu</label> </div> </div> <div class=\"form-row\"> <div class=\"form-group col-md\"> <label data-wg-type=\"label\" for=\"excepteur_eu_anim\">Excepteur eu anim</label> <input class=\"form-control\" data-wg-type=\"text\" id=\"excepteur_eu_anim\" type=\"text\"> </div> <div class=\"form-group col-md\"> <label data-wg-type=\"label\" for=\"ipsum_qui\">Ipsum qui</label> <input class=\"form-control\" data-wg-type=\"text\" id=\"ipsum_qui\" type=\"text\"> </div> </div> <div class=\"form-group\"> <label data-wg-type=\"label\" for=\"eiusmod_fugiat\">Eiusmod fugiat</label> <input class=\"custom-range\" data-wg-type=\"slider\" id=\"eiusmod_fugiat\" type=\"slider\"> </div> </form> </div> <div class=\"bg-light rounded shadow\" data-wg-type=\"sidebar\" id=\"sidebar-wrapper\"> <div class=\"list-group list-group-flush\" style=\"width:28vh;\"> <a class=\"list-group-item list-group-item-action\" data-wg-type=\"button\" href=\"#\">Exercitation</a> <a class=\"list-group-item list-group-item-action\" data-wg-type=\"button\" href=\"#\">Non voluptate</a> <a class=\"list-group-item list-group-item-action\" data-wg-type=\"button\" href=\"#\">Elit aliquip</a> <a class=\"list-group-item list-group-item-action\" data-wg-type=\"button\" href=\"#\">Non laboris</a> <a class=\"list-group-item list-group-item-action\" data-wg-type=\"button\" href=\"#\">Proident est</a> </div> </div> </div> </div> </body> </html>\n",
            "      Bleu: 0.91\n",
            "\n",
            "Prediction: <!DOCTYPE html> <html> <head> <title>Dominate</title> <meta content=\"width=device-width, initial-scale=1.0\" name=\"viewport\"> <meta content=\"Web Generator\" name=\"author\"> <meta content=\"1\" name=\"wg-layout\"> <link href=\"../css/custom-bootstrap.css\" rel=\"stylesheet\"> <link href=\"../css/wg-extras.css\" rel=\"stylesheet\"> <script src=\"../js/jquery-3.2.1.slim.min.js\" type=\"text/javascript\"></script> <script src=\"../js/bootstrap.min.js\" type=\"text/javascript\"></script> </head> <body class=\"\"> <div class=\"d-flex \" id=\"full-wrapper\"> <div class=\"bg-light rounded\" data-wg-type=\"sidebar\" id=\"sidebar-wrapper\"> <div class=\"sidebar-heading\" data-wg-type=\"label\">Enim</div> <div class=\"list-group list-group-flush\" style=\"width:22vh;\"> <a class=\"list-group-item list-group-item-action\" data-wg-type=\"button\" href=\"#\">Enim commodo</a> <a class=\"list-group-item list-group-item-action\" data-wg-type=\"button\" href=\"#\">Enim ullamco</a> <a class=\"list-group-item list-group-item-action\" data-wg-type=\"button\" href=\"#\">Et cillum qui</a> <a class=\"list-group-item list-group-item-action\" data-wg-type=\"button\" href=\"#\">Enim ullamco</a> <a class=\"list-group-item list-group-item-action\" data-wg-type=\"button\" href=\"#\">Enim ullamco</a> <a class=\"list-group-item list-group-item-action\" data-wg-type=\"button\" href=\"#\">Enim ullamco</a> </div> </div> <div class=\"w-100\"> <nav class=\"bg-light navbar-light rounded navbar navbar-expand-md\" data-wg-type=\"navbar\"> <button class=\"navbar-toggler\" data-target=\"#main-nav\" data-toggle=\"collapse\" type=\"button\"> <span class=\"navbar-toggler-icon\"></span> </button> <div class=\"collapse navbar-collapse\" id=\"main-nav\" style=\"height: 10vh;\"> <ul class=\"navbar-nav mx-auto\"> <li class=\"nav-item\"> <a class=\"nav-link\" data-wg-type=\"button\" href=\"#\">Enim nostrud</a> </li> <li class=\"nav-item\"> <a class=\"nav-link\" data-wg-type=\"button\" href=\"#\">Adipiscing in</a> </li> <li class=\"nav-item\"> <a class=\"nav-link\" data-wg-type=\"button\" href=\"#\">Et anim amet</a> </li> </ul> </div> </nav> <header class=\"bg-light rounded d-flex align-items-center justify-content-center\" data-wg-type=\"header\" style=\"height: 19vh;\"> <h1 class=\"p-2 text-center\" data-wg-type=\"label\">Eiusmod Laborum Dolore Laborum Amet Dolor</h1> </header> <div class=\"container-fluid py-3\" id=\"page-content\"> <div class=\"row py-3 wg-detect\" data-wg-type=\"featured_items\"> <div class=\"col\"> <div class=\"text-center\"> <img class=\"text-black rounded-circle mx-auto shadow img\" data-wg-type=\"image\" style=\"background-color: gray;width: 111px;height: 111px;\"></img> <h2 data-wg-type=\"label\">Enim ullamco cillum</h2> <p data-wg-type=\"label\">Enim ullamco cillum aliquip anim ullamco nostrud</p> <a class=\"btn btn-primary\" data-wg-type=\"button\" href=\"#\">Commodo amet</a> </div> </div> <div class=\"col\"> <div class=\"text-center\"> <img class=\"text-black rounded-circle mx-auto shadow img\" data-wg-type=\"image\" style=\"background-color: gray;width: 111px;height: 111px;\"></img> <h2 data-wg-type=\"label\">Enim cillum commodo</h2> <p data-wg-type=\"label\">Eiusmod cillum aliqua ullamco nostrud commodo qui</p> <a class=\"btn btn-primary\" data-wg-type=\"button\" href=\"#\">Enim ullamco</a> </div> </div> </div> </div> <footer class=\"bg-light rounded jumbotron mb-0\" data-wg-type=\"footer\" style=\"height: 29vh;\"> <div class=\"container\"> <span class=\"text-muted\" data-wg-type=\"label\">Enim ullamco cillum aliquip anim aliqua commodo qui</span> </div> </footer> </div> </div> </body> </html>\n",
            "    Answer: <!DOCTYPE html> <html> <head> <title>Dominate</title> <meta content=\"width=device-width, initial-scale=1.0\" name=\"viewport\"> <meta content=\"Web Generator\" name=\"author\"> <meta content=\"1\" name=\"wg-layout\"> <link href=\"../css/custom-bootstrap.css\" rel=\"stylesheet\"> <link href=\"../css/wg-extras.css\" rel=\"stylesheet\"> <script src=\"../js/jquery-3.2.1.slim.min.js\" type=\"text/javascript\"></script> <script src=\"../js/bootstrap.min.js\" type=\"text/javascript\"></script> </head> <body class=\"\"> <div class=\"d-flex \" id=\"full-wrapper\"> <div class=\"bg-light rounded\" data-wg-type=\"sidebar\" id=\"sidebar-wrapper\"> <div class=\"sidebar-heading\" data-wg-type=\"label\">Labore</div> <div class=\"list-group list-group-flush\" style=\"width:29vh;\"> <a class=\"list-group-item list-group-item-action\" data-wg-type=\"button\" href=\"#\">Ad ullamco ea</a> <a class=\"list-group-item list-group-item-action\" data-wg-type=\"button\" href=\"#\">Minim laboris</a> <a class=\"list-group-item list-group-item-action\" data-wg-type=\"button\" href=\"#\">Sed lorem sit</a> <a class=\"list-group-item list-group-item-action\" data-wg-type=\"button\" href=\"#\">Quis sint et</a> <a class=\"list-group-item list-group-item-action\" data-wg-type=\"button\" href=\"#\">Nostrud in eu</a> <a class=\"list-group-item list-group-item-action\" data-wg-type=\"button\" href=\"#\">Eu non est ea</a> </div> </div> <div class=\"w-100\"> <nav class=\"bg-light navbar-light rounded navbar navbar-expand-md\" data-wg-type=\"navbar\"> <button class=\"navbar-toggler\" data-target=\"#main-nav\" data-toggle=\"collapse\" type=\"button\"> <span class=\"navbar-toggler-icon\"></span> </button> <div class=\"collapse navbar-collapse\" id=\"main-nav\" style=\"height: 9vh;\"> <ul class=\"navbar-nav mx-auto\"> <li class=\"nav-item\"> <a class=\"nav-link\" data-wg-type=\"button\" href=\"#\">Laboris dolor</a> </li> <li class=\"nav-item\"> <a class=\"nav-link\" data-wg-type=\"button\" href=\"#\">Reprehenderit</a> </li> <li class=\"nav-item\"> <a class=\"nav-link\" data-wg-type=\"button\" href=\"#\">Cupidatat ad</a> </li> </ul> </div> </nav> <header class=\"bg-light rounded d-flex align-items-center justify-content-center\" data-wg-type=\"header\" style=\"height: 19vh;\"> <h1 class=\"p-2 text-center\" data-wg-type=\"label\">Quis Mollit Lorem Magna Consectetur Tempor Non</h1> </header> <div class=\"container-fluid py-3\" id=\"page-content\"> <div class=\"row py-3 wg-detect\" data-wg-type=\"featured_items\"> <div class=\"col\"> <div class=\"text-center\"> <img class=\"text-black rounded-circle mx-auto shadow img\" data-wg-type=\"image\" style=\"background-color: gray;width: 97px;height: 97px;\"></img> <h2 data-wg-type=\"label\">Proident tempor quis</h2> <p data-wg-type=\"label\">Exercitation ut aliqua enim sint nisi cillum duis</p> <a class=\"btn btn-primary\" data-wg-type=\"button\" href=\"#\">Eiusmod culpa</a> </div> </div> <div class=\"col\"> <div class=\"text-center\"> <img class=\"text-black rounded-circle mx-auto shadow img\" data-wg-type=\"image\" style=\"background-color: gray;width: 97px;height: 97px;\"></img> <h2 data-wg-type=\"label\">Est sint ea aliquip</h2> <p data-wg-type=\"label\">Cupidatat tempor ut lorem sed non laborum quis ex</p> <a class=\"btn btn-primary\" data-wg-type=\"button\" href=\"#\">Non enim do</a> </div> </div> </div> </div> <footer class=\"bg-light rounded jumbotron mb-0\" data-wg-type=\"footer\" style=\"height: 30vh;\"> <div class=\"container\"> <span class=\"text-muted\" data-wg-type=\"label\">Ex excepteur tempor id exercitation do sit aute eu</span> </div> </footer> </div> </div> </body> </html>\n",
            "      Bleu: 0.92\n",
            "\n",
            "Prediction: <!DOCTYPE html> <html> <head> <title>Dominate</title> <meta content=\"width=device-width, initial-scale=1.0\" name=\"viewport\"> <meta content=\"Web Generator\" name=\"author\"> <meta content=\"1\" name=\"wg-layout\"> <link href=\"../css/custom-bootstrap.css\" rel=\"stylesheet\"> <link href=\"../css/wg-extras.css\" rel=\"stylesheet\"> <script src=\"../js/jquery-3.2.1.slim.min.js\" type=\"text/javascript\"></script> <script src=\"../js/bootstrap.min.js\" type=\"text/javascript\"></script> </head> <body class=\"\"> <div class=\"d-flex \" id=\"full-wrapper\"> <div class=\"bg-light rounded shadow-lg\" data-wg-type=\"sidebar\" id=\"sidebar-wrapper\"> <div class=\"sidebar-heading\" data-wg-type=\"label\">Enim</div> <div class=\"list-group list-group-flush\" style=\"width:22vh;\"> <a class=\"list-group-item list-group-item-action\" data-wg-type=\"button\" href=\"#\">Enim ullamco</a> <a class=\"list-group-item list-group-item-action\" data-wg-type=\"button\" href=\"#\">Enim nostrud</a> <a class=\"list-group-item list-group-item-action\" data-wg-type=\"button\" href=\"#\">Et cillum qui</a> <a class=\"list-group-item list-group-item-action\" data-wg-type=\"button\" href=\"#\">Enim ullamco</a> <a class=\"list-group-item list-group-item-action\" data-wg-type=\"button\" href=\"#\">Enim ullamco</a> </div> </div> <div class=\"w-100\"> <nav class=\"bg-light navbar-light rounded shadow-lg navbar navbar-expand-md\" data-wg-type=\"navbar\"> <a class=\"navbar-brand\" data-wg-type=\"label\" href=\"#\">Amet</a> <button class=\"navbar-toggler\" data-target=\"#main-nav\" data-toggle=\"collapse\" type=\"button\"> <span class=\"navbar-toggler-icon\"></span> </button> <div class=\"collapse navbar-collapse\" id=\"main-nav\" style=\"height: 9vh;\"> <ul class=\"navbar-nav ml-auto\"> <li class=\"nav-item\"> <a class=\"nav-link\" data-wg-type=\"button\" href=\"#\">Enim ullamco</a> </li> <li class=\"nav-item\"> <a class=\"nav-link\" data-wg-type=\"button\" href=\"#\">Adipiscing do</a> </li> <li class=\"nav-item\"> <a class=\"nav-link\" data-wg-type=\"button\" href=\"#\">Et anim aute</a> </li> <li class=\"nav-item\"> <a class=\"nav-link\" data-wg-type=\"button\" href=\"#\">Et cillum qui</a> </li> <li class=\"nav-item\"> <a class=\"nav-link\" data-wg-type=\"button\" href=\"#\">Enim anim do</a> </li> </ul> </div> </nav> <div class=\"container-fluid py-3\" id=\"page-content\"> <div class=\"my-3 wg-detect carousel slide\" data-ride=\"carousel\" data-wg-type=\"carousel\" id=\"carousel-ele-0\"> <ol class=\"carousel-indicators\"> <li class=\"active\" data-slide-to=\"0\" data-target=\"#carousel-ele-0\"></li> <li class=\"\" data-slide-to=\"1\" data-target=\"#carousel-ele-0\"></li> <li class=\"\" data-slide-to=\"2\" data-target=\"#carousel-ele-0\"></li> <li class=\"\" data-slide-to=\"3\" data-target=\"#carousel-ele-0\"></li> </ol> <div class=\"carousel-inner\"> <div class=\"carousel-item active\"> <div class=\"d-block w-100 text-center\" style=\"background-color: darkgrey; height: 17vh;\"> <h1 class=\"pt-5\">Enim cillum ullamco</h1> </div> </div> <div class=\"carousel-item\"> <div class=\"d-block w-100 text-center\" style=\"background-color: darkgrey; height: 17vh;\"> <h1 class=\"pt-5\">Enim ullamco cillum</h1> </div> </div> <div class=\"carousel-item\"> <div class=\"d-block w-100 text-center\" style=\"background-color: darkgrey; height: 17vh;\"> <h1 class=\"pt-5\">Et cillum ullamco do</h1> </div> </div> <div class=\"carousel-item\"> <div class=\"d-block w-100 text-center\" style=\"background-color: darkgrey; height: 17vh;\"> <h1 class=\"pt-5\">Enim ullamco cillum</h1> </div> </div> </div> <a class=\"carousel-control-prev\" data-slide=\"prev\" href=\"#carousel-ele-0\" role=\"button\"> <span class=\"carousel-control-prev-icon\"></span> </a> <a class=\"carousel-control-next\" data-slide=\"next\" href=\"#carousel-ele-0\" role=\"button\"> <span class=\"carousel-control-next-icon\"></span> </a> </div> <div class=\"row py-3 wg-detect\" data-wg-type=\"featured_items\"> <div class=\"col\"> <div class=\"text-center\"> <img class=\"text-black rounded-circle mx-auto shadow img\" data-wg-type=\"image\" style=\"background-color: gray;width: 88px;height: 88px;\"></img> <h2 data-wg-type=\"label\">Enim cillum ullamco</h2> <p data-wg-type=\"label\">Enim ullamco cillum anim aliquip ullamco nostrud</p> <a class=\"btn btn-primary\" data-wg-type=\"button\" href=\"#\">Esse cillum</a> </div> </div> <div class=\"col\"> <div class=\"text-center\"> <img class=\"text-black rounded-circle mx-auto shadow img\" data-wg-type=\"image\" style=\"background-color: gray;width: 88px;height: 88px;\"></img> <h2 data-wg-type=\"label\">Enim ullamco cillum</h2> <p data-wg-type=\"label\">Enim ullamco cillum anim aliquip ullamco nostrud</p> <a class=\"btn btn-primary\" data-wg-type=\"button\" href=\"#\">Enim nostrud</a> </div> </div> <div class=\"col\"> <div class=\"text-center\"> <img class=\"text-black rounded-circle mx-auto shadow img\" data-wg-type=\"image\" style=\"background-color: gray;width: 88px;height: 88px;\"></img> <h2 data-wg-type=\"label\">Enim ullamco cillum</h2> <p data-wg-type=\"label\">Enim ullamco cillum ullamco aliqua nostrud anim et</p> <a class=\"btn btn-primary\" data-wg-type=\"button\" href=\"#\">Eiusmod amet</a> </div> </div> <div class=\"col\"> <div class=\"text-center\"> <img class=\"text-black rounded-circle mx-auto shadow img\" data-wg-type=\"image\" style=\"background-color: gray;width: 88px;height: 88px;\"></img> <h2 data-wg-type=\"label\">Enim ullamco cillum</h2> <p data-wg-type=\"label\">Eiusmod ullamco cillum anim aliquip nostrud aute</p> <a class=\"btn btn-primary\" data-wg-type=\"button\" href=\"#\">Eiusmod amet</a> </div> </div> </div> </div> <footer class=\"bg-light rounded shadow-lg jumbotron mb-0\" data-wg-type=\"footer\" style=\"height: 20vh;\"> <div class=\"container\"> <span class=\"text-muted\" data-wg-type=\"label\">Enim ullamco cillum aliquip anim aliqua nostrud eu</span> </div> </footer> </div> </div> </body> </html>\n",
            "    Answer: <!DOCTYPE html> <html> <head> <title>Dominate</title> <meta content=\"width=device-width, initial-scale=1.0\" name=\"viewport\"> <meta content=\"Web Generator\" name=\"author\"> <meta content=\"1\" name=\"wg-layout\"> <link href=\"../css/custom-bootstrap.css\" rel=\"stylesheet\"> <link href=\"../css/wg-extras.css\" rel=\"stylesheet\"> <script src=\"../js/jquery-3.2.1.slim.min.js\" type=\"text/javascript\"></script> <script src=\"../js/bootstrap.min.js\" type=\"text/javascript\"></script> </head> <body class=\"\"> <div class=\"d-flex \" id=\"full-wrapper\"> <div class=\"bg-light shadow-lg\" data-wg-type=\"sidebar\" id=\"sidebar-wrapper\"> <div class=\"sidebar-heading\" data-wg-type=\"label\">Duis</div> <div class=\"list-group list-group-flush\" style=\"width:25vh;\"> <a class=\"list-group-item list-group-item-action\" data-wg-type=\"button\" href=\"#\">Adipiscing eu</a> <a class=\"list-group-item list-group-item-action\" data-wg-type=\"button\" href=\"#\">Adipiscing id</a> <a class=\"list-group-item list-group-item-action\" data-wg-type=\"button\" href=\"#\">Elit ut non</a> <a class=\"list-group-item list-group-item-action\" data-wg-type=\"button\" href=\"#\">Pariatur do</a> <a class=\"list-group-item list-group-item-action\" data-wg-type=\"button\" href=\"#\">Cupidatat eu</a> </div> </div> <div class=\"w-100\"> <nav class=\"bg-light navbar-light shadow-lg navbar navbar-expand-md\" data-wg-type=\"navbar\"> <a class=\"navbar-brand\" data-wg-type=\"label\" href=\"#\">Mollit</a> <button class=\"navbar-toggler\" data-target=\"#main-nav\" data-toggle=\"collapse\" type=\"button\"> <span class=\"navbar-toggler-icon\"></span> </button> <div class=\"collapse navbar-collapse\" id=\"main-nav\" style=\"height: 8vh;\"> <ul class=\"navbar-nav ml-auto\"> <li class=\"nav-item\"> <a class=\"nav-link\" data-wg-type=\"button\" href=\"#\">Proident duis</a> </li> <li class=\"nav-item\"> <a class=\"nav-link\" data-wg-type=\"button\" href=\"#\">Voluptate non</a> </li> <li class=\"nav-item\"> <a class=\"nav-link\" data-wg-type=\"button\" href=\"#\">Occaecat sint</a> </li> <li class=\"nav-item\"> <a class=\"nav-link\" data-wg-type=\"button\" href=\"#\">Eiusmod sint</a> </li> <li class=\"nav-item\"> <a class=\"nav-link\" data-wg-type=\"button\" href=\"#\">Do elit minim</a> </li> </ul> </div> </nav> <div class=\"container-fluid py-3\" id=\"page-content\"> <div class=\"my-3 wg-detect carousel slide\" data-ride=\"carousel\" data-wg-type=\"carousel\" id=\"carousel-ele-0\"> <ol class=\"carousel-indicators\"> <li class=\"active\" data-slide-to=\"0\" data-target=\"#carousel-ele-0\"></li> <li class=\"\" data-slide-to=\"1\" data-target=\"#carousel-ele-0\"></li> <li class=\"\" data-slide-to=\"2\" data-target=\"#carousel-ele-0\"></li> </ol> <div class=\"carousel-inner\"> <div class=\"carousel-item active\"> <div class=\"d-block w-100 text-center\" style=\"background-color: darkgrey; height: 16vh;\"> <h1 class=\"pt-5\">Labore consequat in</h1> </div> </div> <div class=\"carousel-item\"> <div class=\"d-block w-100 text-center\" style=\"background-color: darkgrey; height: 16vh;\"> <h1 class=\"pt-5\">Cillum irure est ea</h1> </div> </div> <div class=\"carousel-item\"> <div class=\"d-block w-100 text-center\" style=\"background-color: darkgrey; height: 16vh;\"> <h1 class=\"pt-5\">Ipsum amet lorem id</h1> </div> </div> </div> <a class=\"carousel-control-prev\" data-slide=\"prev\" href=\"#carousel-ele-0\" role=\"button\"> <span class=\"carousel-control-prev-icon\"></span> </a> <a class=\"carousel-control-next\" data-slide=\"next\" href=\"#carousel-ele-0\" role=\"button\"> <span class=\"carousel-control-next-icon\"></span> </a> </div> <div class=\"row py-3 wg-detect\" data-wg-type=\"featured_items\"> <div class=\"col\"> <div class=\"text-center\"> <img class=\"text-black rounded-circle mx-auto img\" data-wg-type=\"image\" style=\"background-color: gray;width: 84px;height: 84px;\"></img> <h2 data-wg-type=\"label\">Aliquip in officia</h2> <p data-wg-type=\"label\">Amet voluptate sunt elit enim esse laborum irure</p> <a class=\"btn btn-primary\" data-wg-type=\"button\" href=\"#\">Officia esse</a> </div> </div> <div class=\"col\"> <div class=\"text-center\"> <img class=\"text-black rounded-circle mx-auto img\" data-wg-type=\"image\" style=\"background-color: gray;width: 84px;height: 84px;\"></img> <h2 data-wg-type=\"label\">Cupidatat eu amet ea</h2> <p data-wg-type=\"label\">Officia aute est occaecat enim deserunt nostrud in</p> <a class=\"btn btn-primary\" data-wg-type=\"button\" href=\"#\">Cillum mollit</a> </div> </div> <div class=\"col\"> <div class=\"text-center\"> <img class=\"text-black rounded-circle mx-auto img\" data-wg-type=\"image\" style=\"background-color: gray;width: 84px;height: 84px;\"></img> <h2 data-wg-type=\"label\">Deserunt eiusmod id</h2> <p data-wg-type=\"label\">Veniam deserunt adipiscing aliquip id ea sed non</p> <a class=\"btn btn-primary\" data-wg-type=\"button\" href=\"#\">Ea incididunt</a> </div> </div> <div class=\"col\"> <div class=\"text-center\"> <img class=\"text-black rounded-circle mx-auto img\" data-wg-type=\"image\" style=\"background-color: gray;width: 84px;height: 84px;\"></img> <h2 data-wg-type=\"label\">Voluptate qui enim</h2> <p data-wg-type=\"label\">Sunt culpa est cupidatat laborum dolor proident et</p> <a class=\"btn btn-primary\" data-wg-type=\"button\" href=\"#\">Aliqua sed do</a> </div> </div> </div> </div> <footer class=\"bg-light shadow-lg jumbotron mb-0\" data-wg-type=\"footer\" style=\"height: 20vh;\"> <div class=\"container\"> <span class=\"text-muted\" data-wg-type=\"label\">Excepteur cillum nisi elit proident sit eiusmod et</span> </div> </footer> </div> </div> </body> </html>\n",
            "      Bleu: 0.88\n"
          ]
        },
        {
          "output_type": "stream",
          "name": "stderr",
          "text": [
            "Epoch 4/9 - valid loop: 100%|██████████| 2/2 [13:27<00:00, 403.95s/it, bleu_score=0.816]\n"
          ]
        },
        {
          "output_type": "stream",
          "name": "stdout",
          "text": [
            "\n",
            "Prediction: <!DOCTYPE html> <html> <head> <title>Dominate</title> <meta content=\"width=device-width, initial-scale=1.0\" name=\"viewport\"> <meta content=\"Web Generator\" name=\"author\"> <meta content=\"2\" name=\"wg-layout\"> <link href=\"../css/custom-bootstrap.css\" rel=\"stylesheet\"> <link href=\"../css/wg-extras.css\" rel=\"stylesheet\"> <script src=\"../js/jquery-3.2.1.slim.min.js\" type=\"text/javascript\"></script> <script src=\"../js/bootstrap.min.js\" type=\"text/javascript\"></script> </head> <body class=\"\"> <div class=\" rounded\" id=\"full-wrapper\"> <nav class=\"bg-light navbar-light rounded navbar navbar-expand-md\" data-wg-type=\"navbar\"> <button class=\"navbar-toggler\" data-target=\"#main-nav\" data-toggle=\"collapse\" type=\"button\"> <span class=\"navbar-toggler-icon\"></span> </button> <div class=\"collapse navbar-collapse\" id=\"main-nav\" style=\"height: 10vh;\"> <ul class=\"navbar-nav ml-auto\"> <li class=\"nav-item\"> <a class=\"nav-link\" data-wg-type=\"button\" href=\"#\">Esse cillum</a> </li> <li class=\"nav-item\"> <a class=\"nav-link\" data-wg-type=\"button\" href=\"#\">Adipiscing do</a> </li> <li class=\"nav-item\"> <a class=\"nav-link\" data-wg-type=\"button\" href=\"#\">Et cillum sit</a> </li> <li class=\"nav-item\"> <a class=\"nav-link\" data-wg-type=\"button\" href=\"#\">Et cillum qui</a> </li> </ul> </div> </nav> <div class=\"d-flex\"> <div class=\"bg-light rounded\" data-wg-type=\"sidebar\" id=\"sidebar-wrapper\"> <div class=\"list-group list-group-flush\" style=\"width:22vh;\"> <a class=\"list-group-item list-group-item-action\" data-wg-type=\"button\" href=\"#\">Et cillum qui</a> <a class=\"list-group-item list-group-item-action\" data-wg-type=\"button\" href=\"#\">Esse cillum</a> </div> </div> <div class=\"container-fluid py-3\" id=\"page-content\"> <div class=\"wg-detect\" data-wg-type=\"descriptive_items\"> <div class=\"row\"> <div class=\"col\"> <h2 data-wg-type=\"label\">Esse ullamco anim aliquip.</h2> <p><br> <img class=\"float-left m-2 img\" data-wg-type=\"image\" style=\"background-color: gray;width: 294px;height: 304px;\"></img> <span data-wg-type=\"text_area\">Enim ullamco cillum anim. Amet anim ullamco anim. Amet anim ullamco anim. Amet anim ullamco ullamco. Amet anim ullamco ullamco. Amet anim ullamco ullamco. Amet anim ullamco ullamco. Amet anim ullamco ullamco. Dolor ullamco ullamco ullamco. Amet ullamco ullamco ullamco. Dolor ullamco ullamco ullamco. Dolor ullamco ullamco ullamco. Amet ullamco ullamco ullamco. Dolor ullamco ullamco ullamco. Dolor ullamco ullamco ullamco. Aute ullamco ullamco ullamco. Dolor ullamco ullamco ullamco. Dolor ullamco ullamco ullamco. Dolor ullamco ullamco ullamco. Dolor ullamco ullamco ullamco. Dolor ullamco ullamco ullamco. Dolor ullamco ullamco ullamco. Dolor ullamco ullamco ullamco. Dolor ullamco ullamco ullamco. Dolor ullamco ullamco ullamco.</span> </p> </div> </div> </div> <div class=\"my-3 wg-detect carousel slide\" data-ride=\"carousel\" data-wg-type=\"carousel\" id=\"carousel-ele-1\"> <ol class=\"carousel-indicators\"> <li class=\"active\" data-slide-to=\"0\" data-target=\"#carousel-ele-1\"></li> <li class=\"\" data-slide-to=\"1\" data-target=\"#carousel-ele-1\"></li> <li class=\"\" data-slide-to=\"2\" data-target=\"#carousel-ele-1\"></li> <li class=\"\" data-slide-to=\"3\" data-target=\"#carousel-ele-1\"></li> </ol> <div class=\"carousel-inner\"> <div class=\"carousel-item active\"> <div class=\"d-block w-100 text-center\" style=\"background-color: darkgrey; height: 32vh;\"> <h1 class=\"pt-5\">Et cillum commodo in</h1> </div> </div> <div class=\"carousel-item\"> <div class=\"d-block w-100 text-center\" style=\"background-color: darkgrey; height: 32vh;\"> <h1 class=\"pt-5\">Et cillum ullamco do</h1> </div> </div> <div class=\"carousel-item\"> <div class=\"d-block w-100 text-center\" style=\"background-color: darkgrey; height: 32vh;\"> <h1 class=\"pt-5\">Et cillum ullamco do</h1> </div> </div> <div class=\"carousel-item\"> <div class=\"d-block w-100 text-center\" style=\"background-color: darkgrey; height: 32vh;\"> <h1 class=\"pt-5\">Et cillum ullamco do</h1> </div> </div> </div> <a class=\"carousel-control-prev\" data-slide=\"prev\" href=\"#carousel-ele-1\" role=\"button\"> <span class=\"carousel-control-prev-icon\"></span> </a> <a class=\"carousel-control-next\" data-slide=\"next\" href=\"#carousel-ele-1\" role=\"button\"> <span class=\"carousel-control-next-icon\"></span> </a> </div> </div> </div> </div> </body> </html>\n",
            "    Answer: <!DOCTYPE html> <html> <head> <title>Dominate</title> <meta content=\"width=device-width, initial-scale=1.0\" name=\"viewport\"> <meta content=\"Web Generator\" name=\"author\"> <meta content=\"3\" name=\"wg-layout\"> <link href=\"../css/custom-bootstrap.css\" rel=\"stylesheet\"> <link href=\"../css/wg-extras.css\" rel=\"stylesheet\"> <script src=\"../js/jquery-3.2.1.slim.min.js\" type=\"text/javascript\"></script> <script src=\"../js/bootstrap.min.js\" type=\"text/javascript\"></script> </head> <body class=\"\"> <div class=\"\" id=\"full-wrapper\"> <nav class=\"bg-light navbar-light navbar navbar-expand-md\" data-wg-type=\"navbar\"> <button class=\"navbar-toggler\" data-target=\"#main-nav\" data-toggle=\"collapse\" type=\"button\"> <span class=\"navbar-toggler-icon\"></span> </button> <div class=\"collapse navbar-collapse\" id=\"main-nav\" style=\"height: 10vh;\"> <ul class=\"navbar-nav ml-auto\"> <li class=\"nav-item\"> <a class=\"nav-link\" data-wg-type=\"button\" href=\"#\">Et sit non ea</a> </li> <li class=\"nav-item\"> <a class=\"nav-link\" data-wg-type=\"button\" href=\"#\">Commodo id ea</a> </li> <li class=\"nav-item\"> <a class=\"nav-link\" data-wg-type=\"button\" href=\"#\">Id veniam in</a> </li> <li class=\"nav-item\"> <a class=\"nav-link\" data-wg-type=\"button\" href=\"#\">Incididunt eu</a> </li> </ul> </div> </nav> <div class=\"d-flex\"> <div class=\"bg-light\" data-wg-type=\"sidebar\" id=\"sidebar-wrapper\"> <div class=\"list-group list-group-flush\" style=\"width:25vh;\"> <a class=\"list-group-item list-group-item-action\" data-wg-type=\"button\" href=\"#\">Consequat sed</a> <a class=\"list-group-item list-group-item-action\" data-wg-type=\"button\" href=\"#\">Aliqua magna</a> </div> </div> <div class=\"container-fluid py-3\" id=\"page-content\"> <div class=\"wg-detect\" data-wg-type=\"descriptive_items\"> <div class=\"row\"> <div class=\"col\"> <h2 data-wg-type=\"label\">Quis id est elit enim exercitation qui.</h2> <p><br> <img class=\"float-left m-2 shadow img\" data-wg-type=\"image\" style=\"background-color: gray;width: 300px;height: 390px;\"></img> <span data-wg-type=\"text_area\">Eiusmod deserunt sed dolor sit exercitation proident. Consectetur in enim incididunt nulla officia incididunt sint, officia ut aliqua ea eu. Anim ipsum sint commodo officia. Minim officia tempor exercitation qui ut in eiusmod. Proident proident et non. Officia consequat exercitation id. Sed aute labore non ex, nulla nostrud commodo in id commodo consectetur. Laborum eiusmod dolore ut nostrud. Dolor ad consectetur dolore excepteur. Nulla amet exercitation tempor ipsum labore sit nulla. Reprehenderit nostrud lorem sit consequat sunt deserunt. Labore do nulla deserunt. Laboris lorem exercitation nostrud ut. Amet pariatur velit nulla sed labore cillum, minim laborum laboris minim eu, adipiscing aliquip aute dolore dolor lorem sint proident. Eiusmod nostrud non dolor, irure irure est consequat. Consequat cillum do ullamco ullamco ullamco, do aliquip ut lorem magna, sunt laboris mollit ipsum anim. Anim in eu ad occaecat reprehenderit velit, adipiscing amet culpa pariatur ea sunt. Quis nostrud deserunt nostrud pariatur aute, dolor eiusmod ea labore veniam in commodo. Esse quis laborum aliquip. Sit aliquip proident pariatur qui, cupidatat pariatur amet reprehenderit sint tempor incididunt, nostrud ullamco nisi ad ad in. Culpa sint deserunt dolore. Consequat quis nulla commodo sit commodo minim labore. Id veniam amet ex.</span> </p> </div> </div> <div class=\"row\"> <div class=\"col\"> <h2 data-wg-type=\"label\">Duis elit officia dolore.</h2> <p><br> <img class=\"mx-auto m-2 shadow img\" data-wg-type=\"image\" style=\"background-color: gray;width: 300px;height: 390px;\"></img> <span data-wg-type=\"text_area\">Tempor excepteur nostrud do elit, aliquip id voluptate ea in. Excepteur officia magna enim reprehenderit mollit minim labore. Ullamco ea eiusmod amet sunt ex, esse id reprehenderit consequat id et. Dolor dolore ut qui, tempor consequat eu occaecat veniam, irure enim quis id minim culpa reprehenderit adipiscing. Ullamco do anim sit culpa reprehenderit lorem. Eiusmod cillum lorem sunt laborum officia elit. In et veniam minim nisi. Anim officia voluptate mollit ad cupidatat officia do, id aute labore eu nulla esse cillum. Mollit elit fugiat deserunt magna duis, amet et aliquip nisi ad tempor in, pariatur ipsum pariatur velit id pariatur amet magna. Fugiat proident occaecat fugiat et aliqua. Qui aute dolor ea aute sunt, nulla adipiscing anim elit, do ut dolor veniam officia ut. Non ad excepteur duis elit enim voluptate adipiscing. Aliqua velit enim nostrud ad laborum. Irure laborum ex eu. Dolor occaecat pariatur eu magna reprehenderit. Id aliquip laborum mollit non officia non, velit pariatur sunt minim commodo non dolore, duis duis esse id amet anim. Esse amet aliquip exercitation cillum ut. Pariatur veniam quis nisi culpa magna fugiat. Anim et deserunt aute dolor do eiusmod. Occaecat ipsum amet incididunt. Consequat ipsum ullamco tempor nisi aliqua laboris, excepteur officia occaecat sit cupidatat nostrud eiusmod. In elit nostrud sint fugiat dolor. Esse excepteur proident ad consectetur cillum magna. Laboris velit cillum voluptate minim dolor. Sit occaecat cupidatat ea tempor culpa cupidatat. Ad nulla deserunt enim, in et culpa id consequat ut duis veniam, sit anim irure eiusmod ea. Culpa minim consectetur ullamco pariatur id. Minim sed culpa occaecat nisi sunt quis consectetur, occaecat aliquip sint aliqua tempor officia.</span> </p> </div> </div> </div> <div class=\"my-3 wg-detect carousel slide\" data-ride=\"carousel\" data-wg-type=\"carousel\" id=\"carousel-ele-1\"> <ol class=\"carousel-indicators\"> <li class=\"active\" data-slide-to=\"0\" data-target=\"#carousel-ele-1\"></li> <li class=\"\" data-slide-to=\"1\" data-target=\"#carousel-ele-1\"></li> <li class=\"\" data-slide-to=\"2\" data-target=\"#carousel-ele-1\"></li> <li class=\"\" data-slide-to=\"3\" data-target=\"#carousel-ele-1\"></li> </ol> <div class=\"carousel-inner\"> <div class=\"carousel-item active\"> <div class=\"d-block w-100 text-center\" style=\"background-color: darkgrey; height: 32vh;\"> <h1 class=\"pt-5\">Reprehenderit velit</h1> </div> </div> <div class=\"carousel-item\"> <div class=\"d-block w-100 text-center\" style=\"background-color: darkgrey; height: 32vh;\"> <h1 class=\"pt-5\">Dolor ullamco est eu</h1> </div> </div> <div class=\"carousel-item\"> <div class=\"d-block w-100 text-center\" style=\"background-color: darkgrey; height: 32vh;\"> <h1 class=\"pt-5\">Nostrud do magna ea</h1> </div> </div> <div class=\"carousel-item\"> <div class=\"d-block w-100 text-center\" style=\"background-color: darkgrey; height: 32vh;\"> <h1 class=\"pt-5\">Anim commodo dolor</h1> </div> </div> </div> <a class=\"carousel-control-prev\" data-slide=\"prev\" href=\"#carousel-ele-1\" role=\"button\"> <span class=\"carousel-control-prev-icon\"></span> </a> <a class=\"carousel-control-next\" data-slide=\"next\" href=\"#carousel-ele-1\" role=\"button\"> <span class=\"carousel-control-next-icon\"></span> </a> </div> </div> </div> </div> </body> </html>\n",
            "      Bleu: 0.92\n",
            "\n",
            "Prediction: <!DOCTYPE html> <html> <head> <title>Dominate</title> <meta content=\"width=device-width, initial-scale=1.0\" name=\"viewport\"> <meta content=\"Web Generator\" name=\"author\"> <meta content=\"1\" name=\"wg-layout\"> <link href=\"../css/custom-bootstrap.css\" rel=\"stylesheet\"> <link href=\"../css/wg-extras.css\" rel=\"stylesheet\"> <script src=\"../js/jquery-3.2.1.slim.min.js\" type=\"text/javascript\"></script> <script src=\"../js/bootstrap.min.js\" type=\"text/javascript\"></script> </head> <body class=\"\"> <div class=\"d-flex \" id=\"full-wrapper\"> <div class=\"w-100\"> <nav class=\"bg-light navbar-light rounded navbar navbar-expand-md\" data-wg-type=\"navbar\"> <a class=\"navbar-brand\" data-wg-type=\"label\" href=\"#\">Culpa</a> <button class=\"navbar-toggler\" data-target=\"#main-nav\" data-toggle=\"collapse\" type=\"button\"> <span class=\"navbar-toggler-icon\"></span> </button> <div class=\"collapse navbar-collapse\" id=\"main-nav\" style=\"height: 10vh;\"> <ul class=\"navbar-nav mr-auto\"> <li class=\"nav-item\"> <a class=\"nav-link\" data-wg-type=\"button\" href=\"#\">Sit cillum in</a> </li> <li class=\"nav-item\"> <a class=\"nav-link\" data-wg-type=\"button\" href=\"#\">Adipiscing in</a> </li> <li class=\"nav-item\"> <a class=\"nav-link\" data-wg-type=\"button\" href=\"#\">Adipiscing in</a> </li> <li class=\"nav-item\"> <a class=\"nav-link\" data-wg-type=\"button\" href=\"#\">Eiusmod amet</a> </li> </ul> </div> </nav> <div class=\"container-fluid py-3\" id=\"page-content\"> <form class=\"p-3\"> <div class=\"form-group\"> <label data-wg-type=\"label\" for=\"labore_laborum\">Labore laborum</label> <input class=\"form-control\" data-wg-type=\"text\" id=\"labore_laborum\" type=\"text\"> </div> <div class=\"form-group\"> <label data-wg-type=\"label\" for=\"reprehenderit_laborum_quis\">Reprehenderit laborum quis</label> <input class=\"custom-range\" data-wg-type=\"slider\" id=\"reprehenderit_laborum_quis\" type=\"slider\"> </div> <div class=\"form-group\"> <label data-wg-type=\"label\" for=\"labore_laborum\">Labore laborum</label> <input class=\"custom-range\" data-wg-type=\"slider\" id=\"labore_laborum\" type=\"slider\"> </div> <div class=\"form-row\"> <div class=\"form-group col-md\"> <label data-wg-type=\"label\" for=\"ut\">Ut</label> <input class=\"form-control\" data-wg-type=\"text\" id=\"ut\" type=\"text\"> </div> <div class=\"form-group col-md\"> <label data-wg-type=\"label\" for=\"laborum_laborum\">Laborum laborum</label> <input class=\"form-control\" data-wg-type=\"text\" id=\"laborum_laborum\" type=\"text\"> </div> </div> <div class=\"form-row\"> <div class=\"form-group col-md\"> <label data-wg-type=\"label\" for=\"in\">In</label> <input class=\"form-control\" data-wg-type=\"text\" id=\"in\" type=\"text\"> </div> <div class=\"form-group col-md\"> <label data-wg-type=\"label\" for=\"laboris\">Laboris</label> <input class=\"form-control\" data-wg-type=\"text\" id=\"laboris\" type=\"text\"> </div> </div> <div class=\"form-group\"> <label data-wg-type=\"label\" for=\"labore_excepteur\">Labore excepteur</label> <input class=\"form-control\" data-wg-type=\"text\" id=\"labore_excepteur\" type=\"text\"> </div> </form> </div> </div> </div> </body> </html>\n",
            "    Answer: <!DOCTYPE html> <html> <head> <title>Dominate</title> <meta content=\"width=device-width, initial-scale=1.0\" name=\"viewport\"> <meta content=\"Web Generator\" name=\"author\"> <meta content=\"3\" name=\"wg-layout\"> <link href=\"../css/custom-bootstrap.css\" rel=\"stylesheet\"> <link href=\"../css/wg-extras.css\" rel=\"stylesheet\"> <script src=\"../js/jquery-3.2.1.slim.min.js\" type=\"text/javascript\"></script> <script src=\"../js/bootstrap.min.js\" type=\"text/javascript\"></script> </head> <body class=\"\"> <div class=\" rounded shadow\" id=\"full-wrapper\"> <nav class=\"bg-light navbar-light rounded shadow navbar navbar-expand-md\" data-wg-type=\"navbar\"> <a class=\"navbar-brand\" data-wg-type=\"label\" href=\"#\">Culpa</a> <button class=\"navbar-toggler\" data-target=\"#main-nav\" data-toggle=\"collapse\" type=\"button\"> <span class=\"navbar-toggler-icon\"></span> </button> <div class=\"collapse navbar-collapse\" id=\"main-nav\" style=\"height: 10vh;\"> <ul class=\"navbar-nav mr-auto\"> <li class=\"nav-item\"> <a class=\"nav-link\" data-wg-type=\"button\" href=\"#\">Officia qui</a> </li> <li class=\"nav-item\"> <a class=\"nav-link\" data-wg-type=\"button\" href=\"#\">Nisi culpa ex</a> </li> <li class=\"nav-item\"> <a class=\"nav-link\" data-wg-type=\"button\" href=\"#\">Minim officia</a> </li> <li class=\"nav-item\"> <a class=\"nav-link\" data-wg-type=\"button\" href=\"#\">Esse ea lorem</a> </li> </ul> </div> </nav> <div class=\"d-flex\"> <div class=\"container-fluid py-3\" id=\"page-content\"> <form class=\"p-3\"> <div class=\"form-group\"> <label data-wg-type=\"label\" for=\"et_reprehenderit\">Et reprehenderit</label> <input class=\"form-control\" data-wg-type=\"text\" id=\"et_reprehenderit\" type=\"text\"> </div> <div class=\"form-group\"> <label data-wg-type=\"label\" for=\"sed_consequat_exercitation\">Sed consequat exercitation</label> <input class=\"custom-range\" data-wg-type=\"slider\" id=\"sed_consequat_exercitation\" type=\"slider\"> </div> <div class=\"form-group\"> <label data-wg-type=\"label\" for=\"est_cillum_dolor\">Est cillum dolor</label> <input class=\"custom-range\" data-wg-type=\"slider\" id=\"est_cillum_dolor\" type=\"slider\"> </div> <div class=\"form-row\"> <div class=\"form-group col-md\"> <label data-wg-type=\"label\" for=\"do\">Do</label> <input class=\"form-control\" data-wg-type=\"text\" id=\"do\" type=\"text\"> </div> <div class=\"form-group col-md\"> <label data-wg-type=\"label\" for=\"excepteur_velit_eu\">Excepteur velit eu</label> <input class=\"form-control\" data-wg-type=\"text\" id=\"excepteur_velit_eu\" type=\"text\"> </div> </div> <div class=\"form-row\"> <div class=\"form-group col-md\"> <label data-wg-type=\"label\" for=\"id\">Id</label> <input class=\"form-control\" data-wg-type=\"text\" id=\"id\" type=\"text\"> </div> <div class=\"form-group col-md\"> <label data-wg-type=\"label\" for=\"pariatur\">Pariatur</label> <input class=\"form-control\" data-wg-type=\"text\" id=\"pariatur\" type=\"text\"> </div> </div> <div class=\"form-group\"> <label data-wg-type=\"label\" for=\"nostrud_cupidatat\">Nostrud cupidatat</label> <input class=\"form-control\" data-wg-type=\"text\" id=\"nostrud_cupidatat\" type=\"text\"> </div> </form> </div> </div> </div> </body> </html>\n",
            "      Bleu: 0.82\n",
            "\n",
            "Prediction: <!DOCTYPE html> <html> <head> <title>Dominate</title> <meta content=\"width=device-width, initial-scale=1.0\" name=\"viewport\"> <meta content=\"Web Generator\" name=\"author\"> <meta content=\"1\" name=\"wg-layout\"> <link href=\"../css/custom-bootstrap.css\" rel=\"stylesheet\"> <link href=\"../css/wg-extras.css\" rel=\"stylesheet\"> <script src=\"../js/jquery-3.2.1.slim.min.js\" type=\"text/javascript\"></script> <script src=\"../js/bootstrap.min.js\" type=\"text/javascript\"></script> </head> <body class=\"\"> <div class=\"d-flex \" id=\"full-wrapper\"> <div class=\"bg-light rounded\" data-wg-type=\"sidebar\" id=\"sidebar-wrapper\"> <div class=\"list-group list-group-flush\" style=\"width:22vh;\"> <a class=\"list-group-item list-group-item-action\" data-wg-type=\"button\" href=\"#\">Enim cillum</a> <a class=\"list-group-item list-group-item-action\" data-wg-type=\"button\" href=\"#\">Esse cillum</a> <a class=\"list-group-item list-group-item-action\" data-wg-type=\"button\" href=\"#\">Et cillum non</a> <a class=\"list-group-item list-group-item-action\" data-wg-type=\"button\" href=\"#\">Enim ullamco</a> </div> </div> <div class=\"w-100\"> <nav class=\"bg-light navbar-light rounded navbar navbar-expand-md\" data-wg-type=\"navbar\"> <a class=\"navbar-brand\" data-wg-type=\"label\" href=\"#\">Voluptate</a> <button class=\"navbar-toggler\" data-target=\"#main-nav\" data-toggle=\"collapse\" type=\"button\"> <span class=\"navbar-toggler-icon\"></span> </button> <div class=\"collapse navbar-collapse\" id=\"main-nav\" style=\"height: 10vh;\"> <ul class=\"navbar-nav ml-auto\"> <li class=\"nav-item\"> <a class=\"nav-link\" data-wg-type=\"button\" href=\"#\">Et cillum sit</a> </li> <li class=\"nav-item\"> <a class=\"nav-link\" data-wg-type=\"button\" href=\"#\">Et anim amet</a> </li> </ul> </div> </nav> <div class=\"container-fluid py-3\" id=\"page-content\"> <div class=\"wg-detect\" data-wg-type=\"descriptive_items\"> <div class=\"row\"> <div class=\"col\"> <h2 data-wg-type=\"label\">Enim cillum ullamco anim.</h2> <p><br> <img class=\"float-right m-2 img\" data-wg-type=\"image\" style=\"background-color: gray;width: 110px;height: 90px;\"></img> <span data-wg-type=\"text_area\">Enim ullamco cillum aliquip. Amet ullamco cillum aliqua. Amet ullamco ullamco aliquip. Amet ullamco cillum aliqua. Amet ullamco ullamco aliquip. Amet ullamco cillum aliqua. Amet ullamco ullamco aliquip. Dolor ullamco cillum aliquip.</span> </p> </div> </div> <div class=\"row\"> <div class=\"col\"> <h2 data-wg-type=\"label\">Enim ullamco cillum aliquip.</h2> <p><br> <img class=\"float-right m-2 img\" data-wg-type=\"image\" style=\"background-color: gray;width: 110px;height: 90px;\"></img> <span data-wg-type=\"text_area\">Enim ullamco cillum aliquip. Amet ullamco cillum aliqua. Amet ullamco ullamco aliquip. Amet ullamco cillum aliqua. Amet ullamco ullamco aliquip. Amet ullamco ullamco aliquip. Dolor ullamco ullamco aliquip.</span> </p> </div> </div> <div class=\"row\"> <div class=\"col\"> <h2 data-wg-type=\"label\">Enim ullamco cillum aliqua.</h2> <p><br> <img class=\"float-right m-2 img\" data-wg-type=\"image\" style=\"background-color: gray;width: 110px;height: 90px;\"></img> <span data-wg-type=\"text_area\">Enim ullamco aliquip aliqua. Amet ullamco cillum aliqua. Amet ullamco ullamco aliquip. Amet ullamco ullamco aliquip. Amet ullamco ullamco aliquip. Amet ullamco ullamco aliquip. Amet ullamco ullamco aliquip.</span> </p> </div> </div> </div> </div> </div> </div> </body> </html>\n",
            "    Answer: <!DOCTYPE html> <html> <head> <title>Dominate</title> <meta content=\"width=device-width, initial-scale=1.0\" name=\"viewport\"> <meta content=\"Web Generator\" name=\"author\"> <meta content=\"4\" name=\"wg-layout\"> <link href=\"../css/custom-bootstrap.css\" rel=\"stylesheet\"> <link href=\"../css/wg-extras.css\" rel=\"stylesheet\"> <script src=\"../js/jquery-3.2.1.slim.min.js\" type=\"text/javascript\"></script> <script src=\"../js/bootstrap.min.js\" type=\"text/javascript\"></script> </head> <body class=\"\"> <div class=\" rounded\" id=\"full-wrapper\"> <div class=\"d-flex\"> <div class=\"bg-light rounded\" data-wg-type=\"sidebar\" id=\"sidebar-wrapper\"> <div class=\"list-group list-group-flush\" style=\"width:28vh;\"> <a class=\"list-group-item list-group-item-action\" data-wg-type=\"button\" href=\"#\">Labore aliqua</a> <a class=\"list-group-item list-group-item-action\" data-wg-type=\"button\" href=\"#\">Sunt nostrud</a> <a class=\"list-group-item list-group-item-action\" data-wg-type=\"button\" href=\"#\">Cupidatat non</a> <a class=\"list-group-item list-group-item-action\" data-wg-type=\"button\" href=\"#\">Aute quis non</a> </div> </div> <div class=\"w-100\"> <nav class=\"bg-light navbar-light rounded navbar navbar-expand-md\" data-wg-type=\"navbar\"> <a class=\"navbar-brand\" data-wg-type=\"label\" href=\"#\">Adipiscing</a> <button class=\"navbar-toggler\" data-target=\"#main-nav\" data-toggle=\"collapse\" type=\"button\"> <span class=\"navbar-toggler-icon\"></span> </button> <div class=\"collapse navbar-collapse\" id=\"main-nav\" style=\"height: 10vh;\"> <ul class=\"navbar-nav ml-auto\"> <li class=\"nav-item\"> <a class=\"nav-link\" data-wg-type=\"button\" href=\"#\">Veniam velit</a> </li> <li class=\"nav-item\"> <a class=\"nav-link\" data-wg-type=\"button\" href=\"#\">Consequat do</a> </li> </ul> </div> </nav> <div class=\"container-fluid py-3\" id=\"page-content\"> <div class=\"wg-detect\" data-wg-type=\"descriptive_items\"> <div class=\"row\"> <div class=\"col\"> <h2 data-wg-type=\"label\">Duis do deserunt nulla ad non sit, labore exercitation magna ullamco minim.</h2> <p><br> <img class=\"float-right m-2 img\" data-wg-type=\"image\" style=\"background-color: gray;width: 140px;height: 112px;\"></img> <span data-wg-type=\"text_area\">Culpa id duis sint dolor. Amet amet magna quis. Eu minim qui et magna sed. Dolor eiusmod consequat tempor velit ad lorem eiusmod. Consequat occaecat incididunt adipiscing, aliquip sunt reprehenderit aute ipsum et tempor. Incididunt deserunt reprehenderit velit laboris ullamco. Occaecat sunt eu sunt non adipiscing. Nisi pariatur cupidatat aliquip nostrud culpa nisi. Fugiat reprehenderit duis amet lorem aliquip irure, laborum culpa enim exercitation duis, magna eu enim excepteur laborum incididunt eiusmod incididunt. Tempor laboris pariatur sint esse sunt dolore. Ad dolore nulla aliqua tempor do quis incididunt. Ipsum aliquip ea qui dolor aliqua voluptate exercitation, do exercitation dolor in ad in.</span> </p> </div> </div> <div class=\"row\"> <div class=\"col\"> <h2 data-wg-type=\"label\">Cupidatat occaecat qui labore id, officia sint proident ex velit.</h2> <p><br> <img class=\"float-right m-2 img\" data-wg-type=\"image\" style=\"background-color: gray;width: 140px;height: 112px;\"></img> <span data-wg-type=\"text_area\">Magna esse est ad nulla officia eiusmod labore. In amet et duis mollit, ipsum ut non et reprehenderit. Quis et ipsum ea consectetur voluptate exercitation voluptate, voluptate duis elit cupidatat exercitation veniam. Aute consectetur magna incididunt esse. Excepteur ut laboris dolor, laborum ea mollit et consequat esse. Incididunt ipsum irure aliquip fugiat nostrud esse. Culpa id labore ipsum sit. Laborum id velit dolore sit est. Dolore adipiscing officia excepteur aute ut nostrud enim. Quis amet laborum voluptate est, occaecat elit aliqua do nostrud cillum aliquip.</span> </p> </div> </div> <div class=\"row\"> <div class=\"col\"> <h2 data-wg-type=\"label\">Tempor incididunt magna fugiat irure.</h2> <p><br> <img class=\"float-right m-2 img\" data-wg-type=\"image\" style=\"background-color: gray;width: 140px;height: 112px;\"></img> <span data-wg-type=\"text_area\">Tempor officia deserunt ad in sunt. Voluptate sed nisi nostrud id. Tempor laboris fugiat pariatur pariatur velit. Nostrud excepteur quis qui, laboris cillum in est. In tempor ex cupidatat anim. Ex et dolore tempor reprehenderit. Deserunt et sint qui non id aliqua. Deserunt lorem elit proident quis magna minim, reprehenderit veniam ut eiusmod ad aute aute. Culpa lorem sed fugiat. Est nulla eu cillum voluptate labore ad, tempor minim incididunt aliquip adipiscing. Culpa laborum ullamco in aliqua pariatur sint, fugiat eiusmod adipiscing cupidatat. Veniam dolor nulla ea, aute incididunt pariatur id, consequat enim labore ex nostrud dolore ea. Duis adipiscing tempor voluptate deserunt voluptate. Lorem magna tempor excepteur ipsum dolore labore. Officia ex proident exercitation nostrud ad laboris, amet mollit sit aute excepteur commodo id laborum.</span> </p> </div> </div> </div> </div> </div> </div> </div> </body> </html>\n",
            "      Bleu: 0.82\n",
            "\n",
            "Prediction: <!DOCTYPE html> <html> <head> <title>Dominate</title> <meta content=\"width=device-width, initial-scale=1.0\" name=\"viewport\"> <meta content=\"Web Generator\" name=\"author\"> <meta content=\"1\" name=\"wg-layout\"> <link href=\"../css/custom-bootstrap.css\" rel=\"stylesheet\"> <link href=\"../css/wg-extras.css\" rel=\"stylesheet\"> <script src=\"../js/jquery-3.2.1.slim.min.js\" type=\"text/javascript\"></script> <script src=\"../js/bootstrap.min.js\" type=\"text/javascript\"></script> </head> <body class=\"\"> <div class=\"d-flex \" id=\"full-wrapper\"> <div class=\"w-100\"> <nav class=\"bg-light navbar-light rounded navbar navbar-expand-md\" data-wg-type=\"navbar\"> <button class=\"navbar-toggler\" data-target=\"#main-nav\" data-toggle=\"collapse\" type=\"button\"> <span class=\"navbar-toggler-icon\"></span> </button> <div class=\"collapse navbar-collapse\" id=\"main-nav\" style=\"height: 4vh;\"> <ul class=\"navbar-nav ml-auto\"> <li class=\"nav-item\"> <a class=\"nav-link\" data-wg-type=\"button\" href=\"#\">Eiusmod amet</a> </li> <li class=\"nav-item\"> <a class=\"nav-link\" data-wg-type=\"button\" href=\"#\">Eiusmod aute</a> </li> <li class=\"nav-item\"> <a class=\"nav-link\" data-wg-type=\"button\" href=\"#\">Enim ullamco</a> </li> </ul> </div> </nav> <header class=\"bg-light rounded d-flex align-items-center justify-content-center\" data-wg-type=\"header\" style=\"height: 37vh;\"> <h1 class=\"p-2 text-center\" data-wg-type=\"label\">Et Nisi</h1> </header> <div class=\"container-fluid py-3\" id=\"page-content\"> <form class=\"p-3\"> <div class=\"form-group\"> <label data-wg-type=\"label\" for=\"sed\">Sed</label> <input class=\"form-control\" data-wg-type=\"text\" id=\"sed\" type=\"text\"> </div> <div class=\"form-row\"> <div class=\"form-group col-md\"> <label data-wg-type=\"label\" for=\"laborum_labore\">Laborum labore</label> <input class=\"form-control\" data-wg-type=\"text\" id=\"laborum_labore\" type=\"text\"> </div> <div class=\"form-group col-md\"> <label data-wg-type=\"label\" for=\"aliqua\">Aliqua</label> <input class=\"form-control\" data-wg-type=\"text\" id=\"aliqua\" type=\"text\"> </div> </div> <div class=\"form-row\"> <div class=\"form-group col-md\"> <label data-wg-type=\"label\" for=\"labore_labore\">Labore labore</label> <input class=\"form-control\" data-wg-type=\"text\" id=\"labore_labore\" type=\"text\"> </div> <div class=\"form-group col-md\"> <label data-wg-type=\"label\" for=\"excepteur\">Excepteur</label> <input class=\"custom-range\" data-wg-type=\"slider\" id=\"excepteur\" type=\"slider\"> </div> <div class=\"form-group col-md\"> <label data-wg-type=\"label\" for=\"sit\">Sit</label> <input class=\"form-control\" data-wg-type=\"text\" id=\"sit\" type=\"text\"> </div> </div> <div class=\"form-group\"> <label data-wg-type=\"label\" for=\"sed_laborum\">Sed laborum</label> <input class=\"form-control\" data-wg-type=\"text\" id=\"sed_laborum\" type=\"text\"> </div> <div class=\"form-group\"> <label data-wg-type=\"label\" for=\"sed\">Sed</label> <input class=\"custom-range\" data-wg-type=\"slider\" id=\"sed\" type=\"slider\"> </div> <div class=\"form-row\"> <div class=\"form-group col-md\"> <label data-wg-type=\"label\" for=\"laborum_laborum\">Laborum laborum</label> <input class=\"form-control\" data-wg-type=\"text\" id=\"laborum_laborum\" type=\"text\"> </div> <div class=\"form-group col-md\"> <label data-wg-type=\"label\" for=\"sed_exercitation\">Sed exercitation</label> <input class=\"form-control\" data-wg-type=\"text\" id=\"sed_exercitation\" type=\"text\"> </div> <div class=\"form-group col-md\"> <label data-wg-type=\"label\" for=\"incididunt\">Incididunt</label> <input class=\"form-control\" data-wg-type=\"text\" id=\"incididunt\" type=\"text\"> </div> </div> <div class=\"form-row\"> <div class=\"form-group col-md\"> <label data-wg-type=\"label\" for=\"exercitation\">Exercitation</label> <input class=\"form-control\" data-wg-type=\"text\" id=\"exercitation\" type=\"text\"> </div> <div class=\"form-group col-md\"> <label data-wg-type=\"label\" for=\"sed_incididunt\">Sed incididunt</label> <input class=\"form-control\" data-wg-type=\"text\" id=\"sed_incididunt\" type=\"text\"> </div> </div> </form> </div> <footer class=\"bg-light rounded jumbotron mb-0\" data-wg-type=\"footer\" style=\"height: 27vh;\"> <div class=\"container\"> <span class=\"text-muted\" data-wg-type=\"label\">Enim ullamco anim anim cillum aliquip ullamco qui</span> </div> </footer> </div> </div> </body> </html>\n",
            "    Answer: <!DOCTYPE html> <html> <head> <title>Dominate</title> <meta content=\"width=device-width, initial-scale=1.0\" name=\"viewport\"> <meta content=\"Web Generator\" name=\"author\"> <meta content=\"2\" name=\"wg-layout\"> <link href=\"../css/custom-bootstrap.css\" rel=\"stylesheet\"> <link href=\"../css/wg-extras.css\" rel=\"stylesheet\"> <script src=\"../js/jquery-3.2.1.slim.min.js\" type=\"text/javascript\"></script> <script src=\"../js/bootstrap.min.js\" type=\"text/javascript\"></script> </head> <body class=\"\"> <div class=\" rounded shadow-sm\" id=\"full-wrapper\"> <nav class=\"bg-light navbar-light rounded shadow-sm navbar navbar-expand-md\" data-wg-type=\"navbar\"> <button class=\"navbar-toggler\" data-target=\"#main-nav\" data-toggle=\"collapse\" type=\"button\"> <span class=\"navbar-toggler-icon\"></span> </button> <div class=\"collapse navbar-collapse\" id=\"main-nav\" style=\"height: 4vh;\"> <ul class=\"navbar-nav ml-auto\"> <li class=\"nav-item\"> <a class=\"nav-link\" data-wg-type=\"button\" href=\"#\">Eiusmod sunt</a> </li> <li class=\"nav-item\"> <a class=\"nav-link\" data-wg-type=\"button\" href=\"#\">Occaecat sit</a> </li> <li class=\"nav-item\"> <a class=\"nav-link\" data-wg-type=\"button\" href=\"#\">Consequat ad</a> </li> </ul> </div> </nav> <header class=\"bg-light rounded shadow-sm d-flex align-items-center justify-content-center\" data-wg-type=\"header\" style=\"height: 38vh;\"> <h1 class=\"p-2 text-center\" data-wg-type=\"label\">Ex Et</h1> </header> <div class=\"d-flex\"> <div class=\"flex-grow-1\"> <div class=\"container-fluid py-3\" id=\"page-content\"> <form class=\"p-3\"> <div class=\"form-group\"> <label data-wg-type=\"label\" for=\"quis\">Quis</label> <input class=\"form-control\" data-wg-type=\"text\" id=\"quis\" type=\"text\"> </div> <div class=\"form-row\"> <div class=\"form-group col-md\"> <label data-wg-type=\"label\" for=\"eu_reprehenderit\">Eu reprehenderit</label> <input class=\"form-control\" data-wg-type=\"text\" id=\"eu_reprehenderit\" type=\"text\"> </div> <div class=\"form-group col-md\"> <label data-wg-type=\"label\" for=\"nisi_sint\">Nisi sint</label> <input class=\"form-control\" data-wg-type=\"text\" id=\"nisi_sint\" type=\"text\"> </div> </div> <div class=\"form-row\"> <div class=\"form-group col-md\"> <label data-wg-type=\"label\" for=\"nisi_culpa_amet\">Nisi culpa amet</label> <input class=\"form-control\" data-wg-type=\"text\" id=\"nisi_culpa_amet\" type=\"text\"> </div> <div class=\"form-group col-md\"> <label data-wg-type=\"label\" for=\"enim_amet\">Enim amet</label> <input class=\"form-control\" data-wg-type=\"text\" id=\"enim_amet\" type=\"text\"> </div> <div class=\"form-group col-md\"> <label data-wg-type=\"label\" for=\"sit\">Sit</label> <input class=\"form-control\" data-wg-type=\"text\" id=\"sit\" type=\"text\"> </div> </div> <div class=\"form-group\"> <label data-wg-type=\"label\" for=\"non_pariatur\">Non pariatur</label> <input class=\"form-control\" data-wg-type=\"text\" id=\"non_pariatur\" type=\"text\"> </div> <div class=\"form-group\"> <label data-wg-type=\"label\" for=\"enim\">Enim</label> <input class=\"custom-range\" data-wg-type=\"slider\" id=\"enim\" type=\"slider\"> </div> <div class=\"form-row\"> <div class=\"form-group col-md\"> <label data-wg-type=\"label\" for=\"magna_nostrud_do\">Magna nostrud do</label> <input class=\"form-control\" data-wg-type=\"text\" id=\"magna_nostrud_do\" type=\"text\"> </div> <div class=\"form-group col-md\"> <label data-wg-type=\"label\" for=\"eu_deserunt_nisi\">Eu deserunt nisi</label> <input class=\"form-control\" data-wg-type=\"text\" id=\"eu_deserunt_nisi\" type=\"text\"> </div> <div class=\"form-group col-md\"> <label data-wg-type=\"label\" for=\"sint_do_sit\">Sint do sit</label> <input class=\"form-control\" data-wg-type=\"text\" id=\"sint_do_sit\" type=\"text\"> </div> </div> <div class=\"form-row\"> <div class=\"form-group col-md\"> <label data-wg-type=\"label\" for=\"consectetur\">Consectetur</label> <input class=\"form-control\" data-wg-type=\"text\" id=\"consectetur\" type=\"text\"> </div> <div class=\"form-group col-md\"> <label data-wg-type=\"label\" for=\"laboris_officia\">Laboris officia</label> <input class=\"form-control\" data-wg-type=\"text\" id=\"laboris_officia\" type=\"text\"> </div> </div> </form> </div> <footer class=\"bg-light rounded shadow-sm jumbotron mb-0\" data-wg-type=\"footer\" style=\"height: 27vh;\"> <div class=\"container\"> <span class=\"text-muted\" data-wg-type=\"label\">Non pariatur deserunt officia adipiscing irure ad</span> </div> </footer> </div> </div> </div> </body> </html>\n",
            "      Bleu: 0.91\n",
            "\n",
            "Prediction: <!DOCTYPE html> <html> <head> <title>Dominate</title> <meta content=\"width=device-width, initial-scale=1.0\" name=\"viewport\"> <meta content=\"Web Generator\" name=\"author\"> <meta content=\"1\" name=\"wg-layout\"> <link href=\"../css/custom-bootstrap.css\" rel=\"stylesheet\"> <link href=\"../css/wg-extras.css\" rel=\"stylesheet\"> <script src=\"../js/jquery-3.2.1.slim.min.js\" type=\"text/javascript\"></script> <script src=\"../js/bootstrap.min.js\" type=\"text/javascript\"></script> </head> <body class=\"\"> <div class=\"d-flex \" id=\"full-wrapper\"> <div class=\"bg-light rounded\" data-wg-type=\"sidebar\" id=\"sidebar-wrapper\"> <div class=\"sidebar-heading\" data-wg-type=\"label\">Ea</div> <div class=\"list-group list-group-flush\" style=\"width:22vh;\"> <a class=\"list-group-item list-group-item-action\" data-wg-type=\"button\" href=\"#\">Enim ullamco</a> <a class=\"list-group-item list-group-item-action\" data-wg-type=\"button\" href=\"#\">Et cillum qui</a> <a class=\"list-group-item list-group-item-action\" data-wg-type=\"button\" href=\"#\">Enim ullamco</a> <a class=\"list-group-item list-group-item-action\" data-wg-type=\"button\" href=\"#\">Enim cillum</a> <a class=\"list-group-item list-group-item-action\" data-wg-type=\"button\" href=\"#\">Enim commodo</a> </div> </div> <div class=\"w-100\"> <nav class=\"bg-light navbar-light rounded navbar navbar-expand-md\" data-wg-type=\"navbar\"> <a class=\"navbar-brand\" data-wg-type=\"label\" href=\"#\">Ex</a> <button class=\"navbar-toggler\" data-target=\"#main-nav\" data-toggle=\"collapse\" type=\"button\"> <span class=\"navbar-toggler-icon\"></span> </button> <div class=\"collapse navbar-collapse\" id=\"main-nav\" style=\"height: 9vh;\"> <ul class=\"navbar-nav mx-auto\"> <li class=\"nav-item\"> <a class=\"nav-link\" data-wg-type=\"button\" href=\"#\">Enim ullamco</a> </li> <li class=\"nav-item\"> <a class=\"nav-link\" data-wg-type=\"button\" href=\"#\">Adipiscing in</a> </li> <li class=\"nav-item\"> <a class=\"nav-link\" data-wg-type=\"button\" href=\"#\">Et anim aute</a> </li> <li class=\"nav-item\"> <a class=\"nav-link\" data-wg-type=\"button\" href=\"#\">Et cillum do</a> </li> <li class=\"nav-item\"> <a class=\"nav-link\" data-wg-type=\"button\" href=\"#\">Et cillum qui</a> </li> <li class=\"nav-item\"> <a class=\"nav-link\" data-wg-type=\"button\" href=\"#\">Enim nostrud</a> </li> </ul> </div> </nav> <header class=\"bg-light rounded d-flex align-items-center justify-content-center\" data-wg-type=\"header\" style=\"height: 23vh;\"> <h1 class=\"p-2 text-center\" data-wg-type=\"label\">Et Aute Anim</h1> </header> <div class=\"container-fluid py-3\" id=\"page-content\"> <form class=\"p-3\"> <div class=\"form-row\"> <div class=\"form-group col-md\"> <label data-wg-type=\"label\" for=\"occaecat\">Occaecat</label> <input class=\"form-control\" data-wg-type=\"text\" id=\"occaecat\" type=\"text\"> </div> <div class=\"form-group col-md\"> <label data-wg-type=\"label\" for=\"id\">Id</label> <input class=\"form-control\" data-wg-type=\"text\" id=\"id\" type=\"text\"> </div> </div> <div class=\"form-row\"> <div class=\"form-group col-md\"> <label data-wg-type=\"label\" for=\"do\">Do</label> <input class=\"form-control\" data-wg-type=\"text\" id=\"do\" type=\"text\"> </div> <div class=\"form-group col-md\"> <label data-wg-type=\"label\" for=\"sed_exercitation\">Sed exercitation</label> <input class=\"form-control\" data-wg-type=\"text\" id=\"sed_exercitation\" type=\"text\"> </div> </div> </form> </div> </div> </div> </body> </html>\n",
            "    Answer: <!DOCTYPE html> <html> <head> <title>Dominate</title> <meta content=\"width=device-width, initial-scale=1.0\" name=\"viewport\"> <meta content=\"Web Generator\" name=\"author\"> <meta content=\"1\" name=\"wg-layout\"> <link href=\"../css/custom-bootstrap.css\" rel=\"stylesheet\"> <link href=\"../css/wg-extras.css\" rel=\"stylesheet\"> <script src=\"../js/jquery-3.2.1.slim.min.js\" type=\"text/javascript\"></script> <script src=\"../js/bootstrap.min.js\" type=\"text/javascript\"></script> </head> <body class=\"\"> <div class=\"d-flex \" id=\"full-wrapper\"> <div class=\"bg-light\" data-wg-type=\"sidebar\" id=\"sidebar-wrapper\"> <div class=\"sidebar-heading\" data-wg-type=\"label\">Officia</div> <div class=\"list-group list-group-flush\" style=\"width:28vh;\"> <a class=\"list-group-item list-group-item-action\" data-wg-type=\"button\" href=\"#\">Amet non ut</a> <a class=\"list-group-item list-group-item-action\" data-wg-type=\"button\" href=\"#\">Lorem laboris</a> <a class=\"list-group-item list-group-item-action\" data-wg-type=\"button\" href=\"#\">Et labore sit</a> <a class=\"list-group-item list-group-item-action\" data-wg-type=\"button\" href=\"#\">Nostrud dolor</a> <a class=\"list-group-item list-group-item-action\" data-wg-type=\"button\" href=\"#\">Sunt veniam</a> </div> </div> <div class=\"w-100\"> <nav class=\"bg-light navbar-light navbar navbar-expand-md\" data-wg-type=\"navbar\"> <a class=\"navbar-brand\" data-wg-type=\"label\" href=\"#\">Ea</a> <button class=\"navbar-toggler\" data-target=\"#main-nav\" data-toggle=\"collapse\" type=\"button\"> <span class=\"navbar-toggler-icon\"></span> </button> <div class=\"collapse navbar-collapse\" id=\"main-nav\" style=\"height: 9vh;\"> <ul class=\"navbar-nav mx-auto\"> <li class=\"nav-item\"> <a class=\"nav-link\" data-wg-type=\"button\" href=\"#\">Aute duis est</a> </li> <li class=\"nav-item\"> <a class=\"nav-link\" data-wg-type=\"button\" href=\"#\">Culpa non et</a> </li> <li class=\"nav-item\"> <a class=\"nav-link\" data-wg-type=\"button\" href=\"#\">Mollit do ea</a> </li> <li class=\"nav-item\"> <a class=\"nav-link\" data-wg-type=\"button\" href=\"#\">Sint aliqua</a> </li> <li class=\"nav-item\"> <a class=\"nav-link\" data-wg-type=\"button\" href=\"#\">Incididunt in</a> </li> <li class=\"nav-item\"> <a class=\"nav-link\" data-wg-type=\"button\" href=\"#\">Cupidatat ex</a> </li> </ul> </div> </nav> <header class=\"bg-light d-flex align-items-center justify-content-center\" data-wg-type=\"header\" style=\"height: 26vh;\"> <h1 class=\"p-2 text-center\" data-wg-type=\"label\">Tempor Do</h1> </header> <div class=\"container-fluid py-3\" id=\"page-content\"> <form class=\"p-3\"> <div class=\"form-row\"> <div class=\"form-group col-md\"> <label data-wg-type=\"label\" for=\"fugiat_ex\">Fugiat ex</label> <input class=\"form-control\" data-wg-type=\"text\" id=\"fugiat_ex\" type=\"text\"> </div> <div class=\"form-group col-md\"> <label data-wg-type=\"label\" for=\"id\">Id</label> <input class=\"form-control\" data-wg-type=\"text\" id=\"id\" type=\"text\"> </div> </div> <div class=\"form-row\"> <div class=\"form-group col-md\"> <label data-wg-type=\"label\" for=\"ad\">Ad</label> <input class=\"form-control\" data-wg-type=\"text\" id=\"ad\" type=\"text\"> </div> <div class=\"form-group col-md\"> <label data-wg-type=\"label\" for=\"laboris_mollit_ut\">Laboris mollit ut</label> <input class=\"form-control\" data-wg-type=\"text\" id=\"laboris_mollit_ut\" type=\"text\"> </div> </div> </form> </div> </div> </div> </body> </html>\n",
            "      Bleu: 0.88\n",
            "\n",
            "Prediction: <!DOCTYPE html> <html> <head> <title>Dominate</title> <meta content=\"width=device-width, initial-scale=1.0\" name=\"viewport\"> <meta content=\"Web Generator\" name=\"author\"> <meta content=\"2\" name=\"wg-layout\"> <link href=\"../css/custom-bootstrap.css\" rel=\"stylesheet\"> <link href=\"../css/wg-extras.css\" rel=\"stylesheet\"> <script src=\"../js/jquery-3.2.1.slim.min.js\" type=\"text/javascript\"></script> <script src=\"../js/bootstrap.min.js\" type=\"text/javascript\"></script> </head> <body class=\"\"> <div class=\" rounded\" id=\"full-wrapper\"> <nav class=\"bg-light navbar-light rounded navbar navbar-expand-md\" data-wg-type=\"navbar\"> <a class=\"navbar-brand\" data-wg-type=\"label\" href=\"#\">Enim</a> <button class=\"navbar-toggler\" data-target=\"#main-nav\" data-toggle=\"collapse\" type=\"button\"> <span class=\"navbar-toggler-icon\"></span> </button> <div class=\"collapse navbar-collapse\" id=\"main-nav\" style=\"height: 7vh;\"> <ul class=\"navbar-nav ml-auto\"> <li class=\"nav-item\"> <a class=\"nav-link\" data-wg-type=\"button\" href=\"#\">Esse ullamco</a> </li> <li class=\"nav-item\"> <a class=\"nav-link\" data-wg-type=\"button\" href=\"#\">Et cillum qui</a> </li> <li class=\"nav-item\"> <a class=\"nav-link\" data-wg-type=\"button\" href=\"#\">Et cillum qui</a> </li> <li class=\"nav-item\"> <a class=\"nav-link\" data-wg-type=\"button\" href=\"#\">Et cillum qui</a> </li> <li class=\"nav-item\"> <a class=\"nav-link\" data-wg-type=\"button\" href=\"#\">Et cillum qui</a> </li> </ul> </div> </nav> <div class=\"d-flex\"> <div class=\"flex-grow-1\"> <div class=\"container-fluid py-3\" id=\"page-content\"> <div class=\"m-3 wg-detect\" data-wg-type=\"tabs\"> <div class=\"nav nav-tabs\"> <a aria-controls=\"dolor\" class=\"nav-item nav-link active\" data-toggle=\"tab\" data-wg-type=\"button\" href=\"#dolor\" id=\"dolor-tab\" role=\"tab\">Dolor</a> <a aria-controls=\"commodo\" class=\"nav-item nav-link\" data-toggle=\"tab\" data-wg-type=\"button\" href=\"#commodo\" id=\"commodo-tab\" role=\"tab\">Commodo</a> </div> <div class=\"tab-content\"> <div aria-labelledby=\"dolor\" class=\"tab-pane fade border p-3 show active\" data-wg-type=\"label\" id=\"dolor\" role=\"tabpanel\">Enim ullamco ullamco anim.</div> <div aria-labelledby=\"commodo\" class=\"tab-pane fade border p-3\" data-wg-type=\"label\" id=\"commodo\" role=\"tabpanel\">Enim ullamco ullamco ullamco.</div> </div> </div> <div class=\"my-3 wg-detect carousel slide\" data-ride=\"carousel\" data-wg-type=\"carousel\" id=\"carousel-ele-1\"> <ol class=\"carousel-indicators\"> <li class=\"active\" data-slide-to=\"0\" data-target=\"#carousel-ele-1\"></li> <li class=\"\" data-slide-to=\"1\" data-target=\"#carousel-ele-1\"></li> <li class=\"\" data-slide-to=\"2\" data-target=\"#carousel-ele-1\"></li> <li class=\"\" data-slide-to=\"3\" data-target=\"#carousel-ele-1\"></li> </ol> <div class=\"carousel-inner\"> <div class=\"carousel-item active\"> <div class=\"d-block w-100 text-center\" style=\"background-color: darkgrey; height: 25vh;\"> <h1 class=\"pt-5\">Enim ullamco anim ut</h1> </div> </div> <div class=\"carousel-item\"> <div class=\"d-block w-100 text-center\" style=\"background-color: darkgrey; height: 25vh;\"> <h1 class=\"pt-5\">Et cillum ullamco do</h1> </div> </div> <div class=\"carousel-item\"> <div class=\"d-block w-100 text-center\" style=\"background-color: darkgrey; height: 25vh;\"> <h1 class=\"pt-5\">Et cillum ullamco ut</h1> </div> </div> <div class=\"carousel-item\"> <div class=\"d-block w-100 text-center\" style=\"background-color: darkgrey; height: 25vh;\"> <h1 class=\"pt-5\">Et ullamco ullamco ut</h1> </div> </div> </div> <a class=\"carousel-control-prev\" data-slide=\"prev\" href=\"#carousel-ele-1\" role=\"button\"> <span class=\"carousel-control-prev-icon\"></span> </a> <a class=\"carousel-control-next\" data-slide=\"next\" href=\"#carousel-ele-1\" role=\"button\"> <span class=\"carousel-control-next-icon\"></span> </a> </div> </div> <footer class=\"bg-light rounded jumbotron mb-0\" data-wg-type=\"footer\" style=\"height: 11vh;\"> <div class=\"container\"> <span class=\"text-muted\" data-wg-type=\"label\">Adipiscing ullamco anim cillum aliquip ullamco et</span> </div> </footer> </div> <div class=\"bg-light rounded\" data-wg-type=\"sidebar\" id=\"sidebar-wrapper\"> <div class=\"list-group list-group-flush\" style=\"width:22vh;\"> <a class=\"list-group-item list-group-item-action\" data-wg-type=\"button\" href=\"#\">Enim ullamco</a> <a class=\"list-group-item list-group-item-action\" data-wg-type=\"button\" href=\"#\">Et cillum qui</a> </div> </div> </div> </div> </body> </html>\n",
            "    Answer: <!DOCTYPE html> <html> <head> <title>Dominate</title> <meta content=\"width=device-width, initial-scale=1.0\" name=\"viewport\"> <meta content=\"Web Generator\" name=\"author\"> <meta content=\"2\" name=\"wg-layout\"> <link href=\"../css/custom-bootstrap.css\" rel=\"stylesheet\"> <link href=\"../css/wg-extras.css\" rel=\"stylesheet\"> <script src=\"../js/jquery-3.2.1.slim.min.js\" type=\"text/javascript\"></script> <script src=\"../js/bootstrap.min.js\" type=\"text/javascript\"></script> </head> <body class=\"\"> <div class=\" rounded\" id=\"full-wrapper\"> <nav class=\"bg-light navbar-light rounded navbar navbar-expand-md\" data-wg-type=\"navbar\"> <button class=\"navbar-toggler\" data-target=\"#main-nav\" data-toggle=\"collapse\" type=\"button\"> <span class=\"navbar-toggler-icon\"></span> </button> <div class=\"collapse navbar-collapse\" id=\"main-nav\" style=\"height: 10vh;\"> <ul class=\"navbar-nav ml-auto\"> <li class=\"nav-item\"> <a class=\"nav-link\" data-wg-type=\"button\" href=\"#\">Reprehenderit</a> </li> <li class=\"nav-item\"> <a class=\"nav-link\" data-wg-type=\"button\" href=\"#\">Velit culpa</a> </li> <li class=\"nav-item\"> <a class=\"nav-link\" data-wg-type=\"button\" href=\"#\">Laboris in eu</a> </li> <li class=\"nav-item\"> <a class=\"nav-link\" data-wg-type=\"button\" href=\"#\">Labore sint</a> </li> </ul> </div> </nav> <div class=\"d-flex\"> <div class=\"flex-grow-1\"> <div class=\"container-fluid py-3\" id=\"page-content\"> <div class=\"m-3 wg-detect\" data-wg-type=\"tabs\"> <div class=\"nav nav-tabs\"> <a aria-controls=\"cillum\" class=\"nav-item nav-link active\" data-toggle=\"tab\" data-wg-type=\"button\" href=\"#cillum\" id=\"cillum-tab\" role=\"tab\">Cillum</a> <a aria-controls=\"commodo\" class=\"nav-item nav-link\" data-toggle=\"tab\" data-wg-type=\"button\" href=\"#commodo\" id=\"commodo-tab\" role=\"tab\">Commodo</a> </div> <div class=\"tab-content\"> <div aria-labelledby=\"cillum\" class=\"tab-pane fade border p-3 show active\" data-wg-type=\"label\" id=\"cillum\" role=\"tabpanel\">Ad ullamco nulla cillum pariatur aliquip est minim. Do cupidatat elit qui.</div> <div aria-labelledby=\"commodo\" class=\"tab-pane fade border p-3\" data-wg-type=\"label\" id=\"commodo\" role=\"tabpanel\">Ad esse velit commodo, ex ut excepteur veniam excepteur eiusmod ut velit. Quis ut deserunt adipiscing aute, anim dolore pariatur sit velit et.</div> </div> </div> <div class=\"my-3 wg-detect carousel slide\" data-ride=\"carousel\" data-wg-type=\"carousel\" id=\"carousel-ele-1\"> <ol class=\"carousel-indicators\"> <li class=\"active\" data-slide-to=\"0\" data-target=\"#carousel-ele-1\"></li> <li class=\"\" data-slide-to=\"1\" data-target=\"#carousel-ele-1\"></li> <li class=\"\" data-slide-to=\"2\" data-target=\"#carousel-ele-1\"></li> <li class=\"\" data-slide-to=\"3\" data-target=\"#carousel-ele-1\"></li> <li class=\"\" data-slide-to=\"4\" data-target=\"#carousel-ele-1\"></li> </ol> <div class=\"carousel-inner\"> <div class=\"carousel-item active\"> <div class=\"d-block w-100 text-center\" style=\"background-color: darkgrey; height: 30vh;\"> <h1 class=\"pt-5\">Commodo laboris sunt</h1> </div> </div> <div class=\"carousel-item\"> <div class=\"d-block w-100 text-center\" style=\"background-color: darkgrey; height: 30vh;\"> <h1 class=\"pt-5\">Adipiscing sed esse</h1> </div> </div> <div class=\"carousel-item\"> <div class=\"d-block w-100 text-center\" style=\"background-color: darkgrey; height: 30vh;\"> <h1 class=\"pt-5\">Adipiscing magna sed</h1> </div> </div> <div class=\"carousel-item\"> <div class=\"d-block w-100 text-center\" style=\"background-color: darkgrey; height: 30vh;\"> <h1 class=\"pt-5\">Deserunt cupidatat</h1> </div> </div> <div class=\"carousel-item\"> <div class=\"d-block w-100 text-center\" style=\"background-color: darkgrey; height: 30vh;\"> <h1 class=\"pt-5\">Voluptate commodo do</h1> </div> </div> </div> <a class=\"carousel-control-prev\" data-slide=\"prev\" href=\"#carousel-ele-1\" role=\"button\"> <span class=\"carousel-control-prev-icon\"></span> </a> <a class=\"carousel-control-next\" data-slide=\"next\" href=\"#carousel-ele-1\" role=\"button\"> <span class=\"carousel-control-next-icon\"></span> </a> </div> </div> <footer class=\"bg-light rounded jumbotron mb-0\" data-wg-type=\"footer\" style=\"height: 13vh;\"> <div class=\"container\"> <span class=\"text-muted\" data-wg-type=\"label\">Consequat eiusmod ex consectetur proident nostrud</span> </div> </footer> </div> <div class=\"bg-light rounded\" data-wg-type=\"sidebar\" id=\"sidebar-wrapper\"> <div class=\"list-group list-group-flush\" style=\"width:29vh;\"> <a class=\"list-group-item list-group-item-action\" data-wg-type=\"button\" href=\"#\">Consectetur</a> <a class=\"list-group-item list-group-item-action\" data-wg-type=\"button\" href=\"#\">Occaecat esse</a> </div> </div> </div> </div> </body> </html>\n",
            "      Bleu: 0.54\n",
            "\n",
            "Prediction: <!DOCTYPE html> <html> <head> <title>Dominate</title> <meta content=\"width=device-width, initial-scale=1.0\" name=\"viewport\"> <meta content=\"Web Generator\" name=\"author\"> <meta content=\"1\" name=\"wg-layout\"> <link href=\"../css/custom-bootstrap.css\" rel=\"stylesheet\"> <link href=\"../css/wg-extras.css\" rel=\"stylesheet\"> <script src=\"../js/jquery-3.2.1.slim.min.js\" type=\"text/javascript\"></script> <script src=\"../js/bootstrap.min.js\" type=\"text/javascript\"></script> </head> <body class=\"\"> <div class=\"d-flex \" id=\"full-wrapper\"> <div class=\"w-100\"> <nav class=\"bg-light navbar-light rounded navbar navbar-expand-md\" data-wg-type=\"navbar\"> <button class=\"navbar-toggler\" data-target=\"#main-nav\" data-toggle=\"collapse\" type=\"button\"> <span class=\"navbar-toggler-icon\"></span> </button> <div class=\"collapse navbar-collapse\" id=\"main-nav\" style=\"height: 6vh;\"> <ul class=\"navbar-nav mr-auto\"> <li class=\"nav-item\"> <a class=\"nav-link\" data-wg-type=\"button\" href=\"#\">Eiusmod amet</a> </li> <li class=\"nav-item\"> <a class=\"nav-link\" data-wg-type=\"button\" href=\"#\">Adipiscing ex</a> </li> <li class=\"nav-item\"> <a class=\"nav-link\" data-wg-type=\"button\" href=\"#\">Adipiscing do</a> </li> <li class=\"nav-item\"> <a class=\"nav-link\" data-wg-type=\"button\" href=\"#\">Esse cillum</a> </li> <li class=\"nav-item\"> <a class=\"nav-link\" data-wg-type=\"button\" href=\"#\">Esse nostrud</a> </li> <li class=\"nav-item\"> <a class=\"nav-link\" data-wg-type=\"button\" href=\"#\">Esse ullamco</a> </li> </ul> </div> </nav> <header class=\"bg-light rounded d-flex align-items-center justify-content-center\" data-wg-type=\"header\" style=\"height: 22vh;\"> <h1 class=\"p-2 text-center\" data-wg-type=\"label\">Eiusmod Laborum Amet Laborum</h1> </header> <div class=\"container-fluid py-3\" id=\"page-content\"> <div class=\"wg-detect\" data-wg-type=\"descriptive_items\"> <div class=\"row\"> <div class=\"col\"> <h2 data-wg-type=\"label\">Esse cillum anim aliquip.</h2> <p><br> <img class=\"mx-auto m-2 shadow img\" data-wg-type=\"image\" style=\"background-color: gray;width: 294px;height: 236px;\"></img> <span data-wg-type=\"text_area\">Enim ullamco cillum anim. Amet ullamco cillum ullamco. Amet ullamco cillum ullamco. Amet ullamco cillum ullamco. Amet ullamco cillum ullamco. Amet ullamco ullamco ullamco. Amet ullamco cillum ullamco. Amet ullamco ullamco ullamco. Amet ullamco ullamco ullamco. Amet ullamco ullamco ullamco. Amet ullamco ullamco ullamco. Amet ullamco ullamco ullamco. Aute ullamco ullamco ullamco. Aute ullamco ullamco ullamco. Aute ullamco ullamco ullamco. Aute ullamco ullamco ullamco. Aute ullamco ullamco ullamco. Aute ullamco ullamco ullamco. Aute ullamco ullamco ullamco. Aute ullamco ullamco ullamco.</span> </p> </div> </div> </div> <div class=\"row wg-detect\"> <div class=\"col\"> <div class=\"card-columns\"> <div class=\"text-black shadow card\" data-wg-type=\"card\"> <img class=\"card-img-top img\" data-wg-type=\"image\" style=\"background-color: gray;height: 100px;\"></img> <div class=\"card-body\"> <h5 class=\"card-title\" data-wg-type=\"label\">Enim cillum commodo</h5> <p class=\"card-text\" data-wg-type=\"label\">Et cillum cillum aliquip anim aliqua aliqua aliqua</p> <div class=\"d-flex justify-content-between align-items-center\"> <div class=\"btn-group\"> <button class=\"btn btn-sm btn-outline-secondary\" data-wg-type=\"button\" type=\"button\">Esse ullamco</button> </div> <small class=\"text-muted\" data-wg-type=\"label\">Esse ullamco</small> </div> </div> </div> <div class=\"text-black shadow card\" data-wg-type=\"card\"> <img class=\"card-img-top img\" data-wg-type=\"image\" style=\"background-color: gray;height: 100px;\"></img> <div class=\"card-body\"> <h5 class=\"card-title\" data-wg-type=\"label\">Enim ullamco nostrud</h5> <p class=\"card-text\" data-wg-type=\"label\">Et cillum ullamco nostrud aliqua aliquip cillum et</p> <div class=\"d-flex justify-content-between align-items-center\"> <div class=\"btn-group\"> <button class=\"btn btn-sm btn-outline-secondary\" data-wg-type=\"button\" type=\"button\">Eiusmod amet</button> </div> <small class=\"text-muted\" data-wg-type=\"label\">Enim ullamco</small> </div> </div> </div> <div class=\"text-black shadow card\" data-wg-type=\"card\"> <img class=\"card-img-top img\" data-wg-type=\"image\" style=\"background-color: gray;height: 100px;\"></img> <div class=\"card-body\"> <h5 class=\"card-title\" data-wg-type=\"label\">Enim cillum commodo</h5> <p class=\"card-text\" data-wg-type=\"label\">Et cillum cillum aliquip ullamco aliqua nostrud et</p> <div class=\"d-flex justify-content-between align-items-center\"> <div class=\"btn-group\"> <button class=\"btn btn-sm btn-outline-secondary\" data-wg-type=\"button\" type=\"button\">Enim ullamco</button> </div> <small class=\"text-muted\" data-wg-type=\"label\">Enim ullamco</small> </div> </div> </div> <div class=\"text-black shadow card\" data-wg-type=\"card\"> <img class=\"card-img-top img\" data-wg-type=\"image\" style=\"background-color: gray;height: 100px;\"></img> <div class=\"card-body\"> <h5 class=\"card-title\" data-wg-type=\"label\">Enim cillum commodo</h5> <p class=\"card-text\" data-wg-type=\"label\">Enim cillum ullamco nostrud aliqua cillum ullamco</p> <div class=\"d-flex justify-content-between align-items-center\"> <div class=\"btn-group\"> <button class=\"btn btn-sm btn-outline-secondary\" data-wg-type=\"button\" type=\"button\">Enim ullamco</button> </div> <small class=\"text-muted\" data-wg-type=\"label\">Esse ullamco</small> </div> </div> </div> <div class=\"text-black shadow card\" data-wg-type=\"card\"> <img class=\"card-img-top img\" data-wg-type=\"image\" style=\"background-color: gray;height: 100px;\"></img> <div class=\"card-body\"> <h5 class=\"card-title\" data-wg-type=\"label\">Enim cillum commodo</h5> <p class=\"card-text\" data-wg-type=\"label\">Enim cillum ullamco nostrud aliqua cillum ullamco</p> <div class=\"d-flex justify-content-between align-items-center\"> <div class=\"btn-group\"> <button class=\"btn btn-sm btn-outline-secondary\" data-wg-type=\"button\" type=\"button\">Enim anim non</button> </div> <small class=\"text-muted\" data-wg-type=\"label\">Enim ullamco</small> </div> </div> </div> <div class=\"text-black shadow card\" data-wg-type=\"card\"> <img class=\"card-img-top img\" data-wg-type=\"image\" style=\"background-color: gray;height: 100px;\"></img> <div class=\"card-body\"> <h5 class=\"card-title\" data-wg-type=\"label\">Enim cillum commodo</h5> <p class=\"card-text\" data-wg-type=\"label\">Enim cillum ullamco nostrud aliqua aliquip anim</p> <div class=\"d-flex justify-content-between align-items-center\"> <div class=\"btn-group\"> <button class=\"btn btn-sm btn-outline-secondary\" data-wg-type=\"button\" type=\"button\">Enim anim do</button> </div> <small class=\"text-muted\" data-wg-type=\"label\">Enim ullamco</small> </div> </div> </div> </div> </div> </div> <div class=\"row wg-detect\"> <div class=\"col\"> <div class=\"card-columns\"> <div class=\"text-black card\" data-wg-type=\"card\"> <img class=\"card-img-top img\" data-wg-type=\"image\" style=\"background-color: gray;height: 100px;\"></img> <div class=\"card-body\"> <h5 class=\"card-title\" data-wg-type=\"label\">Enim cillum commodo</h5> <p class=\"card-text\" data-wg-type=\"label\">Enim cillum nostrud cillum aliqua aliquip anim et</p> <div class=\"d-flex justify-content-between align-items-center\"> <div class=\"btn-group\"> <button class=\"btn btn-sm btn-outline-secondary\" data-wg-type=\"button\" type=\"button\">Esse ullamco</button> </div> <small class=\"text-muted\" data-wg-type=\"label\">Esse ullamco</small> </div> </div> </div> <div class=\"text-black card\" data-wg-type=\"card\"> <img class=\"card-img-top img\" data-wg-type=\"image\" style=\"background-color: gray;height: 100px;\"></img> <div class=\"card-body\"> <h5 class=\"card-title\" data-wg-type=\"label\">Enim cillum commodo</h5> <p class=\"card-text\" data-wg-type=\"label\">Enim cillum ullamco anim aliquip cillum commodo et</p> <div class=\"d-flex justify-content-between align-items-center\"> <div class=\"btn-group\"> <button class=\"btn btn-sm btn-outline-secondary\" data-wg-type=\"button\" type=\"button\">Enim ullamco</button> </div> <small class=\"text-muted\" data-wg-type=\"label\">Enim ullamco</small> </div> </div> </div> <div class=\"text-black card\" data-wg-type=\"card\"> <img class=\"card-img-top img\" data-wg-type=\"image\" style=\"background-color: gray;height: 100px;\"></img> <div class=\"card-body\"> <h5 class=\"card-title\" data-wg-type=\"label\">Enim cillum commodo</h5> <p class=\"card-text\" data-wg-type=\"label\">Enim cillum nostrud cillum aliqua aliquip anim et</p> <div class=\"d-flex justify-content-between align-items-center\"> <div class=\"btn-group\"> <button class=\"btn btn-sm btn-outline-secondary\" data-wg-type=\"button\" type=\"button\">Enim anim non</button> </div> <small class=\"text-muted\" data-wg-type=\"label\">Enim ullamco</small> </div> </div> </div> <div class=\"text-black card\" data-wg-type=\"card\"> <img class=\"card-img-top img\" data-wg-type=\"image\" style=\"background-color: gray;height: 100px;\"></img> <div class=\"card-body\"> <h5 class=\"card-title\" data-wg-type=\"label\">Enim cillum commodo</h5> <p class=\"card-text\" data-wg-type=\"label\">Enim cillum ullamco anim aliquip cillum nostrud et</p> <div class=\"d-flex justify-content-between align-items-center\"> <div class=\"btn-group\"> <button class=\"btn btn-sm btn-outline-secondary\" data-wg-type=\"button\" type=\"button\">Et cillum qui</button> </div> <small class=\"text-muted\" data-wg-type=\"label\">Enim ullamco</small> </div> </div> </div> <div class=\"text-black card\" data-wg-type=\"card\"> <img class=\"card-img-top img\" data-wg-type=\"image\" style=\"background-color: gray;height: 100px;\"></img> <div class=\"card-body\"> <h5 class=\"card-title\" data-wg-type=\"label\">Enim cillum commodo</h5> <p class=\"card-text\" data-wg-type=\"label\">Enim cillum ullamco anim aliquip cillum nostrud et</p> <div class=\"d-flex justify-content-between align-items-center\"> <div class=\"btn-group\"> <button class=\"btn btn-sm btn-outline-secondary\" data-wg-type=\"button\" type=\"button\">Enim anim non</button> </div> <small class=\"text-muted\" data-wg-type=\"label\">Esse ullamco</small> </div> </div> </div> <div class=\"text-black card\" data-wg-type=\"card\"> <img class=\"card-img-top img\" data-wg-type=\"image\" style=\"background-color: gray;height: 100px;\"></img> <div class=\"card-body\"> <h5 class=\"card-title\" data-wg-type=\"label\">Enim cillum commodo</h5> <p class=\"card-text\" data-wg-type=\"label\">Enim cillum ullamco anim aliqua aliquip anim qui</p> <div class=\"d-flex justify-content-between align-items-center\"> <div class=\"btn-group\"> <button class=\"btn btn-sm btn-outline-secondary\" data-wg-type=\"button\" type=\"button\">Enim anim non</button> </div> <small class=\"text-muted\" data-wg-type=\"label\">Enim ullamco</small> </div> </div> </div> </div> </div> </div> <div class=\"row wg-detect\"> <div class=\"col\"> <div class=\"card-columns\"> <div class=\"text-black card\" data-wg-type=\"card\"> <img class=\"card-img-top img\" data-wg-type=\"image\" style=\"background-color: gray;height: 100px;\"></img> <div class=\"card-body\"> <h5 class=\"card-title\" data-wg-type=\"label\">Enim cillum commodo</h5> <p class=\"card-text\" data-wg-type=\"label\">Et cillum cillum nostrud aliqua aliquip anim qui</p> <div class=\"d-flex justify-content-between align-items-center\"> <div class=\"btn-group\"> <button class=\"btn btn-sm btn-outline-secondary\" data-wg-type=\"button\" type=\"button\">Et cillum qui</button> </div> <small class=\"text-muted\" data-wg-type=\"label\">Enim commodo</small> </div> </div> </div> <div class=\"text-black card\" data-wg-type=\"card\"> <img class=\"card-img-top img\" data-wg-type=\"image\" style=\"background-color: gray;height: 100\n",
            "    Answer: <!DOCTYPE html> <html> <head> <title>Dominate</title> <meta content=\"width=device-width, initial-scale=1.0\" name=\"viewport\"> <meta content=\"Web Generator\" name=\"author\"> <meta content=\"2\" name=\"wg-layout\"> <link href=\"../css/custom-bootstrap.css\" rel=\"stylesheet\"> <link href=\"../css/wg-extras.css\" rel=\"stylesheet\"> <script src=\"../js/jquery-3.2.1.slim.min.js\" type=\"text/javascript\"></script> <script src=\"../js/bootstrap.min.js\" type=\"text/javascript\"></script> </head> <body class=\"\"> <div class=\"\" id=\"full-wrapper\"> <nav class=\"bg-light navbar-light navbar navbar-expand-md\" data-wg-type=\"navbar\"> <button class=\"navbar-toggler\" data-target=\"#main-nav\" data-toggle=\"collapse\" type=\"button\"> <span class=\"navbar-toggler-icon\"></span> </button> <div class=\"collapse navbar-collapse\" id=\"main-nav\" style=\"height: 5vh;\"> <ul class=\"navbar-nav mr-auto\"> <li class=\"nav-item\"> <a class=\"nav-link\" data-wg-type=\"button\" href=\"#\">Consequat sed</a> </li> <li class=\"nav-item\"> <a class=\"nav-link\" data-wg-type=\"button\" href=\"#\">Veniam anim</a> </li> <li class=\"nav-item\"> <a class=\"nav-link\" data-wg-type=\"button\" href=\"#\">Magna aute ex</a> </li> <li class=\"nav-item\"> <a class=\"nav-link\" data-wg-type=\"button\" href=\"#\">Irure ullamco</a> </li> <li class=\"nav-item\"> <a class=\"nav-link\" data-wg-type=\"button\" href=\"#\">Excepteur qui</a> </li> <li class=\"nav-item\"> <a class=\"nav-link\" data-wg-type=\"button\" href=\"#\">Labore sit in</a> </li> </ul> </div> </nav> <header class=\"bg-light d-flex align-items-center justify-content-center\" data-wg-type=\"header\" style=\"height: 23vh;\"> <h1 class=\"p-2 text-center\" data-wg-type=\"label\">Tempor Aliquip Deserunt Laboris Id</h1> </header> <div class=\"d-flex\"> <div class=\"container-fluid py-3\" id=\"page-content\"> <div class=\"wg-detect\" data-wg-type=\"descriptive_items\"> <div class=\"row\"> <div class=\"col\"> <h2 data-wg-type=\"label\">Consequat sit mollit occaecat.</h2> <p><br> <img class=\"mx-auto m-2 shadow img\" data-wg-type=\"image\" style=\"background-color: gray;width: 297px;height: 267px;\"></img> <span data-wg-type=\"text_area\">Incididunt occaecat quis sed. Dolore adipiscing dolor eiusmod pariatur veniam. Dolor et nulla ipsum aute et. Tempor culpa sed labore tempor laboris proident voluptate. Minim laborum ex duis consequat. Anim duis dolore qui sit nisi enim. Ipsum qui amet elit mollit. Do mollit aliquip laboris consequat consequat. Dolor nisi in culpa sit, veniam non cillum commodo dolore proident ipsum. Do cupidatat incididunt nisi veniam cupidatat labore aute. Aliquip et voluptate exercitation, sed cillum tempor dolore incididunt. Magna in est aute minim sint mollit, ea quis et occaecat dolore officia cillum est, in aliqua cillum eiusmod mollit. Id do labore exercitation nulla, qui dolor mollit est. Nulla veniam mollit esse. Et elit laboris officia incididunt, consequat elit occaecat lorem. Aliqua aliquip id consectetur ea. Qui anim anim dolore laborum amet sed nostrud. Pariatur id incididunt adipiscing ullamco.</span> </p> </div> </div> </div> <div class=\"row wg-detect\"> <div class=\"col\"> <div class=\"card-columns\"> <div class=\"text-black shadow card\" data-wg-type=\"card\"> <img class=\"card-img-top img\" data-wg-type=\"image\" style=\"background-color: gray;height: 100px;\"></img> <div class=\"card-body\"> <h5 class=\"card-title\" data-wg-type=\"label\">Esse cillum do nisi</h5> <p class=\"card-text\" data-wg-type=\"label\">Quis proident eiusmod dolore incididunt nisi ex do</p> <div class=\"d-flex justify-content-between align-items-center\"> <div class=\"btn-group\"> <button class=\"btn btn-sm btn-outline-secondary\" data-wg-type=\"button\" type=\"button\">Aliqua ex eu</button> </div> <small class=\"text-muted\" data-wg-type=\"label\">Culpa velit</small> </div> </div> </div> <div class=\"text-black shadow card\" data-wg-type=\"card\"> <img class=\"card-img-top img\" data-wg-type=\"image\" style=\"background-color: gray;height: 100px;\"></img> <div class=\"card-body\"> <h5 class=\"card-title\" data-wg-type=\"label\">Cillum esse velit do</h5> <p class=\"card-text\" data-wg-type=\"label\">Occaecat magna sint cillum veniam aute elit sit ex</p> <div class=\"d-flex justify-content-between align-items-center\"> <div class=\"btn-group\"> <button class=\"btn btn-sm btn-outline-secondary\" data-wg-type=\"button\" type=\"button\">Anim et ipsum</button> </div> <small class=\"text-muted\" data-wg-type=\"label\">Esse dolor ut</small> </div> </div> </div> <div class=\"text-black shadow card\" data-wg-type=\"card\"> <img class=\"card-img-top img\" data-wg-type=\"image\" style=\"background-color: gray;height: 100px;\"></img> <div class=\"card-body\"> <h5 class=\"card-title\" data-wg-type=\"label\">Exercitation nostrud</h5> <p class=\"card-text\" data-wg-type=\"label\">Et reprehenderit magna consectetur in anim dolor</p> <div class=\"d-flex justify-content-between align-items-center\"> <div class=\"btn-group\"> <button class=\"btn btn-sm btn-outline-secondary\" data-wg-type=\"button\" type=\"button\">Magna tempor</button> </div> <small class=\"text-muted\" data-wg-type=\"label\">Esse laboris</small> </div> </div> </div> <div class=\"text-black shadow card\" data-wg-type=\"card\"> <img class=\"card-img-top img\" data-wg-type=\"image\" style=\"background-color: gray;height: 100px;\"></img> <div class=\"card-body\"> <h5 class=\"card-title\" data-wg-type=\"label\">Irure anim nulla et</h5> <p class=\"card-text\" data-wg-type=\"label\">Officia mollit cupidatat non elit aute eiusmod ex</p> <div class=\"d-flex justify-content-between align-items-center\"> <div class=\"btn-group\"> <button class=\"btn btn-sm btn-outline-secondary\" data-wg-type=\"button\" type=\"button\">Reprehenderit</button> </div> <small class=\"text-muted\" data-wg-type=\"label\">Ullamco ad ut</small> </div> </div> </div> <div class=\"text-black shadow card\" data-wg-type=\"card\"> <img class=\"card-img-top img\" data-wg-type=\"image\" style=\"background-color: gray;height: 100px;\"></img> <div class=\"card-body\"> <h5 class=\"card-title\" data-wg-type=\"label\">Eu culpa veniam esse</h5> <p class=\"card-text\" data-wg-type=\"label\">Et aute veniam ad commodo non culpa id esse dolor</p> <div class=\"d-flex justify-content-between align-items-center\"> <div class=\"btn-group\"> <button class=\"btn btn-sm btn-outline-secondary\" data-wg-type=\"button\" type=\"button\">Cillum elit</button> </div> <small class=\"text-muted\" data-wg-type=\"label\">Dolor amet ex</small> </div> </div> </div> </div> </div> </div> <div class=\"row wg-detect\"> <div class=\"col\"> <div class=\"card-columns\"> <div class=\"text-black card\" data-wg-type=\"card\"> <img class=\"card-img-top img\" data-wg-type=\"image\" style=\"background-color: gray;height: 100px;\"></img> <div class=\"card-body\"> <h5 class=\"card-title\" data-wg-type=\"label\">Irure consequat enim</h5> <p class=\"card-text\" data-wg-type=\"label\">Sit non tempor lorem sit et ad qui sed voluptate</p> <div class=\"d-flex justify-content-between align-items-center\"> <div class=\"btn-group\"> <button class=\"btn btn-sm btn-outline-secondary\" data-wg-type=\"button\" type=\"button\">Voluptate ad</button> </div> <small class=\"text-muted\" data-wg-type=\"label\">Eiusmod sunt</small> </div> </div> </div> <div class=\"text-black card\" data-wg-type=\"card\"> <img class=\"card-img-top img\" data-wg-type=\"image\" style=\"background-color: gray;height: 100px;\"></img> <div class=\"card-body\"> <h5 class=\"card-title\" data-wg-type=\"label\">Nulla veniam ea quis</h5> <p class=\"card-text\" data-wg-type=\"label\">Lorem id laboris eu sed mollit duis aute minim ad</p> <div class=\"d-flex justify-content-between align-items-center\"> <div class=\"btn-group\"> <button class=\"btn btn-sm btn-outline-secondary\" data-wg-type=\"button\" type=\"button\">Ut quis id eu</button> </div> <small class=\"text-muted\" data-wg-type=\"label\">Veniam lorem</small> </div> </div> </div> <div class=\"text-black card\" data-wg-type=\"card\"> <img class=\"card-img-top img\" data-wg-type=\"image\" style=\"background-color: gray;height: 100px;\"></img> <div class=\"card-body\"> <h5 class=\"card-title\" data-wg-type=\"label\">Do id pariatur duis</h5> <p class=\"card-text\" data-wg-type=\"label\">Magna et pariatur dolore fugiat aute duis veniam</p> <div class=\"d-flex justify-content-between align-items-center\"> <div class=\"btn-group\"> <button class=\"btn btn-sm btn-outline-secondary\" data-wg-type=\"button\" type=\"button\">Dolor amet ut</button> </div> <small class=\"text-muted\" data-wg-type=\"label\">Eiusmod elit</small> </div> </div> </div> <div class=\"text-black card\" data-wg-type=\"card\"> <img class=\"card-img-top img\" data-wg-type=\"image\" style=\"background-color: gray;height: 100px;\"></img> <div class=\"card-body\"> <h5 class=\"card-title\" data-wg-type=\"label\">Culpa deserunt eu ad</h5> <p class=\"card-text\" data-wg-type=\"label\">Minim laboris labore cupidatat pariatur duis sunt</p> <div class=\"d-flex justify-content-between align-items-center\"> <div class=\"btn-group\"> <button class=\"btn btn-sm btn-outline-secondary\" data-wg-type=\"button\" type=\"button\">Commodo ex ea</button> </div> <small class=\"text-muted\" data-wg-type=\"label\">Incididunt in</small> </div> </div> </div> </div> </div> </div> </div> </div> </div> </body> </html>\n",
            "      Bleu: 0.83\n",
            "\n",
            "Prediction: <!DOCTYPE html> <html> <head> <title>Dominate</title> <meta content=\"width=device-width, initial-scale=1.0\" name=\"viewport\"> <meta content=\"Web Generator\" name=\"author\"> <meta content=\"2\" name=\"wg-layout\"> <link href=\"../css/custom-bootstrap.css\" rel=\"stylesheet\"> <link href=\"../css/wg-extras.css\" rel=\"stylesheet\"> <script src=\"../js/jquery-3.2.1.slim.min.js\" type=\"text/javascript\"></script> <script src=\"../js/bootstrap.min.js\" type=\"text/javascript\"></script> </head> <body class=\"\"> <div class=\" rounded\" id=\"full-wrapper\"> <nav class=\"bg-light navbar-light rounded navbar navbar-expand-md\" data-wg-type=\"navbar\"> <a class=\"navbar-brand\" data-wg-type=\"label\" href=\"#\">Amet</a> <button class=\"navbar-toggler\" data-target=\"#main-nav\" data-toggle=\"collapse\" type=\"button\"> <span class=\"navbar-toggler-icon\"></span> </button> <div class=\"collapse navbar-collapse\" id=\"main-nav\" style=\"height: 10vh;\"> <ul class=\"navbar-nav mr-auto\"> <li class=\"nav-item\"> <a class=\"nav-link\" data-wg-type=\"button\" href=\"#\">Eiusmod minim</a> </li> <li class=\"nav-item\"> <a class=\"nav-link\" data-wg-type=\"button\" href=\"#\">Esse labore</a> </li> <li class=\"nav-item\"> <a class=\"nav-link\" data-wg-type=\"button\" href=\"#\">Et cillum qui</a> </li> <li class=\"nav-item\"> <a class=\"nav-link\" data-wg-type=\"button\" href=\"#\">Sit cillum in</a> </li> <li class=\"nav-item\"> <a class=\"nav-link\" data-wg-type=\"button\" href=\"#\">Et commodo in</a> </li> <li class=\"nav-item\"> <a class=\"nav-link\" data-wg-type=\"button\" href=\"#\">Et cillum qui</a> </li> </ul> </div> </nav> <header class=\"bg-light rounded d-flex align-items-center justify-content-center\" data-wg-type=\"header\" style=\"height: 37vh;\"> <h1 class=\"p-2 text-center\" data-wg-type=\"label\">Et Labore Dolore Laborum Amet Ipsum</h1> </header> <div class=\"d-flex\"> <div class=\"bg-light rounded\" data-wg-type=\"sidebar\" id=\"sidebar-wrapper\"> <div class=\"sidebar-heading\" data-wg-type=\"label\">Enim</div> <div class=\"list-group list-group-flush\" style=\"width:25vh;\"> <a class=\"list-group-item list-group-item-action\" data-wg-type=\"button\" href=\"#\">Enim cillum</a> <a class=\"list-group-item list-group-item-action\" data-wg-type=\"button\" href=\"#\">Enim cillum</a> </div> </div> <div class=\"container-fluid py-3\" id=\"page-content\"> <form class=\"p-3\"> <div class=\"form-group\"> <label data-wg-type=\"label\" for=\"ut\">Ut</label> <input class=\"form-control\" data-wg-type=\"text\" id=\"ut\" type=\"text\"> </div> <div class=\"form-row\"> <div class=\"form-group col-md\"> <label data-wg-type=\"label\" for=\"laborum_incididunt\">Laborum incididunt</label> <input class=\"form-control\" data-wg-type=\"text\" id=\"laborum_incididunt\" type=\"text\"> </div> <div class=\"form-group col-md\"> <label data-wg-type=\"label\" for=\"aliqua\">Aliqua</label> <input class=\"form-control\" data-wg-type=\"text\" id=\"aliqua\" type=\"text\"> </div> </div> <div class=\"form-group\"> <label data-wg-type=\"label\" for=\"exercitation\">Exercitation</label> <input class=\"form-control\" data-wg-type=\"text\" id=\"exercitation\" type=\"text\"> </div> <div class=\"form-row\"> <div class=\"form-group col-md\"> <label data-wg-type=\"label\" for=\"labore\">Labore</label> <input class=\"custom-range\" data-wg-type=\"slider\" id=\"labore\" type=\"slider\"> </div> <div class=\"form-group col-md\"> <label data-wg-type=\"label\" for=\"laborum_laborum\">Laborum laborum</label> <input class=\"custom-range\" data-wg-type=\"slider\" id=\"laborum_laborum\" type=\"slider\"> </div> <div class=\"form-group col-md\"> <label data-wg-type=\"label\" for=\"laborum\">Laborum</label> <input class=\"form-control\" data-wg-type=\"text\" id=\"laborum\" type=\"text\"> </div> <div class=\"form-group col-md\"> <label data-wg-type=\"label\" for=\"laboris\">Laboris</label> <input class=\"custom-range\" data-wg-type=\"slider\" id=\"laboris\" type=\"slider\"> </div> </div> <div class=\"form-group\"> <label data-wg-type=\"label\" for=\"laborum_eiusmod\">Laborum eiusmod</label> <input class=\"custom-range\" data-wg-type=\"slider\" id=\"laborum_eiusmod\" type=\"slider\"> </div> <div class=\"form-row\"> <div class=\"form-group col-md\"> <label data-wg-type=\"label\" for=\"adipiscing\">Adipiscing</label> <input class=\"form-control\" data-wg-type=\"text\" id=\"adipiscing\" type=\"text\"> </div> <div class=\"form-group col-md\"> <label data-wg-type=\"label\" for=\"labore\">Labore</label> <input class=\"custom-range\" data-wg-type=\"slider\" id=\"labore\" type=\"slider\"> </div> <div class=\"form-group col-md\"> <label data-wg-type=\"label\" for=\"sunt\">Sunt</label> <input class=\"custom-range\" data-wg-type=\"slider\" id=\"sunt\" type=\"slider\"> </div> </div> <div class=\"form-row\"> <div class=\"form-group col-md\"> <label data-wg-type=\"label\" for=\"nostrud\">Nostrud</label> <input class=\"form-control\" data-wg-type=\"text\" id=\"nostrud\" type=\"text\"> </div> <div class=\"form-group col-md\"> <label data-wg-type=\"label\" for=\"labore_aliquip\">Labore aliquip</label> <input class=\"form-control\" data-wg-type=\"text\" id=\"labore_aliquip\" type=\"text\"> </div> </div> <div class=\"form-row\"> <div class=\"form-group col-md\"> <label data-wg-type=\"label\" for=\"laborum\">Laborum</label> <input class=\"form-control\" data-wg-type=\"text\" id=\"laborum\" type=\"text\"> </div> <div class=\"form-group col-md\"> <label data-wg-type=\"label\" for=\"laborum_consectetur\">Laborum consectetur</label> <input class=\"form-control\" data-wg-type=\"text\" id=\"laborum_consectetur\" type=\"text\"> </div> <div class=\"form-group col-md\"> <label data-wg-type=\"label\" for=\"laborum\">Laborum</label> <input class=\"form-control\" data-wg-type=\"text\" id=\"laborum\" type=\"text\"> </div> </div> <div class=\"form-group\"> <div class=\"custom-switch\" data-wg-type=\"checkbox_switch\"> <input class=\"custom-control-input\" id=\"ea\" type=\"checkbox\"> <label class=\"custom-control-label\" data-wg-type=\"checkbox_label\" for=\"ea\">Ea</label> </div> </div> </form> </div> </div> </div> </body> </html>\n",
            "    Answer: <!DOCTYPE html> <html> <head> <title>Dominate</title> <meta content=\"width=device-width, initial-scale=1.0\" name=\"viewport\"> <meta content=\"Web Generator\" name=\"author\"> <meta content=\"3\" name=\"wg-layout\"> <link href=\"../css/custom-bootstrap.css\" rel=\"stylesheet\"> <link href=\"../css/wg-extras.css\" rel=\"stylesheet\"> <script src=\"../js/jquery-3.2.1.slim.min.js\" type=\"text/javascript\"></script> <script src=\"../js/bootstrap.min.js\" type=\"text/javascript\"></script> </head> <body class=\"\"> <div class=\"\" id=\"full-wrapper\"> <nav class=\"bg-light navbar-light navbar navbar-expand-md\" data-wg-type=\"navbar\"> <a class=\"navbar-brand\" data-wg-type=\"label\" href=\"#\">Dolor</a> <button class=\"navbar-toggler\" data-target=\"#main-nav\" data-toggle=\"collapse\" type=\"button\"> <span class=\"navbar-toggler-icon\"></span> </button> <div class=\"collapse navbar-collapse\" id=\"main-nav\" style=\"height: 9vh;\"> <ul class=\"navbar-nav mr-auto\"> <li class=\"nav-item\"> <a class=\"nav-link\" data-wg-type=\"button\" href=\"#\">Laborum ad ut</a> </li> <li class=\"nav-item\"> <a class=\"nav-link\" data-wg-type=\"button\" href=\"#\">Nostrud nisi</a> </li> <li class=\"nav-item\"> <a class=\"nav-link\" data-wg-type=\"button\" href=\"#\">Aliqua minim</a> </li> <li class=\"nav-item\"> <a class=\"nav-link\" data-wg-type=\"button\" href=\"#\">Fugiat velit</a> </li> <li class=\"nav-item\"> <a class=\"nav-link\" data-wg-type=\"button\" href=\"#\">Cupidatat ea</a> </li> <li class=\"nav-item\"> <a class=\"nav-link\" data-wg-type=\"button\" href=\"#\">Anim velit ut</a> </li> </ul> </div> </nav> <header class=\"bg-light d-flex align-items-center justify-content-center\" data-wg-type=\"header\" style=\"height: 38vh;\"> <h1 class=\"p-2 text-center\" data-wg-type=\"label\">Deserunt Officia Sit Magna Consequat</h1> </header> <div class=\"d-flex\"> <div class=\"bg-light\" data-wg-type=\"sidebar\" id=\"sidebar-wrapper\"> <div class=\"sidebar-heading\" data-wg-type=\"label\">Et</div> <div class=\"list-group list-group-flush\" style=\"width:30vh;\"> <a class=\"list-group-item list-group-item-action\" data-wg-type=\"button\" href=\"#\">Eiusmod sed</a> <a class=\"list-group-item list-group-item-action\" data-wg-type=\"button\" href=\"#\">Elit proident</a> </div> </div> <div class=\"container-fluid py-3\" id=\"page-content\"> <form class=\"p-3\"> <div class=\"form-group\"> <label data-wg-type=\"label\" for=\"ex\">Ex</label> <input class=\"form-control\" data-wg-type=\"text\" id=\"ex\" type=\"text\"> </div> <div class=\"form-row\"> <div class=\"form-group col-md\"> <label data-wg-type=\"label\" for=\"ut_officia_incididunt\">Ut officia incididunt</label> <input class=\"form-control\" data-wg-type=\"text\" id=\"ut_officia_incididunt\" type=\"text\"> </div> <div class=\"form-group col-md\"> <label data-wg-type=\"label\" for=\"aliqua\">Aliqua</label> <input class=\"form-control\" data-wg-type=\"text\" id=\"aliqua\" type=\"text\"> </div> </div> <div class=\"form-group\"> <label data-wg-type=\"label\" for=\"consectetur\">Consectetur</label> <input class=\"form-control\" data-wg-type=\"text\" id=\"consectetur\" type=\"text\"> </div> <div class=\"form-row\"> <div class=\"form-group col-md\"> <label data-wg-type=\"label\" for=\"laboris\">Laboris</label> <input class=\"custom-range\" data-wg-type=\"slider\" id=\"laboris\" type=\"slider\"> </div> <div class=\"form-group col-md\"> <label data-wg-type=\"label\" for=\"exercitation_qui_nulla\">Exercitation qui nulla</label> <input class=\"custom-range\" data-wg-type=\"slider\" id=\"exercitation_qui_nulla\" type=\"slider\"> </div> <div class=\"form-group col-md\"> <label data-wg-type=\"label\" for=\"quis_non\">Quis non</label> <input class=\"form-control\" data-wg-type=\"text\" id=\"quis_non\" type=\"text\"> </div> <div class=\"form-group col-md\"> <label data-wg-type=\"label\" for=\"anim_sit\">Anim sit</label> <input class=\"custom-range\" data-wg-type=\"slider\" id=\"anim_sit\" type=\"slider\"> </div> </div> <div class=\"form-group\"> <label data-wg-type=\"label\" for=\"duis_sed_incididunt\">Duis sed incididunt</label> <input class=\"custom-range\" data-wg-type=\"slider\" id=\"duis_sed_incididunt\" type=\"slider\"> </div> <div class=\"form-row\"> <div class=\"form-group col-md\"> <label data-wg-type=\"label\" for=\"commodo\">Commodo</label> <input class=\"form-control\" data-wg-type=\"text\" id=\"commodo\" type=\"text\"> </div> <div class=\"form-group col-md\"> <label data-wg-type=\"label\" for=\"aliquip\">Aliquip</label> <input class=\"custom-range\" data-wg-type=\"slider\" id=\"aliquip\" type=\"slider\"> </div> <div class=\"form-group col-md\"> <label data-wg-type=\"label\" for=\"esse\">Esse</label> <input class=\"custom-range\" data-wg-type=\"slider\" id=\"esse\" type=\"slider\"> </div> </div> <div class=\"form-row\"> <div class=\"form-group col-md\"> <label data-wg-type=\"label\" for=\"dolor_est\">Dolor est</label> <input class=\"form-control\" data-wg-type=\"text\" id=\"dolor_est\" type=\"text\"> </div> <div class=\"form-group col-md\"> <label data-wg-type=\"label\" for=\"sint_incididunt\">Sint incididunt</label> <input class=\"form-control\" data-wg-type=\"text\" id=\"sint_incididunt\" type=\"text\"> </div> </div> <div class=\"form-row\"> <div class=\"form-group col-md\"> <label data-wg-type=\"label\" for=\"eu_dolor\">Eu dolor</label> <input class=\"form-control\" data-wg-type=\"text\" id=\"eu_dolor\" type=\"text\"> </div> <div class=\"form-group col-md\"> <label data-wg-type=\"label\" for=\"reprehenderit_eu_cillum\">Reprehenderit eu cillum</label> <input class=\"form-control\" data-wg-type=\"text\" id=\"reprehenderit_eu_cillum\" type=\"text\"> </div> <div class=\"form-group col-md\"> <label data-wg-type=\"label\" for=\"eiusmod\">Eiusmod</label> <input class=\"form-control\" data-wg-type=\"text\" id=\"eiusmod\" type=\"text\"> </div> </div> <div class=\"form-group\"> <div class=\"custom-switch\" data-wg-type=\"checkbox_switch\"> <input class=\"custom-control-input\" id=\"eu\" type=\"checkbox\"> <label class=\"custom-control-label\" data-wg-type=\"checkbox_label\" for=\"eu\">Eu</label> </div> </div> </form> </div> </div> </div> </body> </html>\n",
            "      Bleu: 0.91\n",
            "\n",
            "Prediction: <!DOCTYPE html> <html> <head> <title>Dominate</title> <meta content=\"width=device-width, initial-scale=1.0\" name=\"viewport\"> <meta content=\"Web Generator\" name=\"author\"> <meta content=\"2\" name=\"wg-layout\"> <link href=\"../css/custom-bootstrap.css\" rel=\"stylesheet\"> <link href=\"../css/wg-extras.css\" rel=\"stylesheet\"> <script src=\"../js/jquery-3.2.1.slim.min.js\" type=\"text/javascript\"></script> <script src=\"../js/bootstrap.min.js\" type=\"text/javascript\"></script> </head> <body class=\"\"> <div class=\" shadow\" id=\"full-wrapper\"> <nav class=\"bg-light navbar-light shadow navbar navbar-expand-md\" data-wg-type=\"navbar\"> <button class=\"navbar-toggler\" data-target=\"#main-nav\" data-toggle=\"collapse\" type=\"button\"> <span class=\"navbar-toggler-icon\"></span> </button> <div class=\"collapse navbar-collapse\" id=\"main-nav\" style=\"height: 5vh;\"> <ul class=\"navbar-nav mr-auto\"> <li class=\"nav-item\"> <a class=\"nav-link\" data-wg-type=\"button\" href=\"#\">Esse labore</a> </li> <li class=\"nav-item\"> <a class=\"nav-link\" data-wg-type=\"button\" href=\"#\">Et cillum sit</a> </li> <li class=\"nav-item\"> <a class=\"nav-link\" data-wg-type=\"button\" href=\"#\">Esse cillum</a> </li> <li class=\"nav-item\"> <a class=\"nav-link\" data-wg-type=\"button\" href=\"#\">Et cillum id</a> </li> </ul> </div> </nav> <header class=\"bg-light shadow d-flex align-items-center justify-content-center\" data-wg-type=\"header\" style=\"height: 39vh;\"> <h1 class=\"p-2 text-center\" data-wg-type=\"label\">Enim Labore Dolore Labore Ipsum</h1> </header> <div class=\"d-flex\"> <div class=\"bg-light shadow\" data-wg-type=\"sidebar\" id=\"sidebar-wrapper\"> <div class=\"sidebar-heading\" data-wg-type=\"label\">Enim</div> <div class=\"list-group list-group-flush\" style=\"width:23vh;\"> <a class=\"list-group-item list-group-item-action\" data-wg-type=\"button\" href=\"#\">Enim anim do</a> <a class=\"list-group-item list-group-item-action\" data-wg-type=\"button\" href=\"#\">Et cillum qui</a> <a class=\"list-group-item list-group-item-action\" data-wg-type=\"button\" href=\"#\">Enim cillum</a> <a class=\"list-group-item list-group-item-action\" data-wg-type=\"button\" href=\"#\">Enim anim do</a> <a class=\"list-group-item list-group-item-action\" data-wg-type=\"button\" href=\"#\">Et cillum qui</a> </div> </div> <div class=\"container-fluid py-3\" id=\"page-content\"> <div class=\"row wg-detect\"> <div class=\"col\"> <div class=\"card-columns\"> <div class=\"text-black card\" data-wg-type=\"card\"> <div class=\"card-body\"> <h5 class=\"card-title\" data-wg-type=\"label\">Enim ullamco anim ut</h5> <p class=\"card-text\" data-wg-type=\"label\">Enim cillum anim aliquip anim ullamco nostrud qui</p> <div class=\"d-flex justify-content-between align-items-center\"> <div class=\"btn-group\"> <button class=\"btn btn-sm btn-outline-secondary\" data-wg-type=\"button\" type=\"button\">Et anim aute</button> </div> <small class=\"text-muted\" data-wg-type=\"label\">Et anim quis</small> </div> </div> </div> <div class=\"text-black card\" data-wg-type=\"card\"> <div class=\"card-body\"> <h5 class=\"card-title\" data-wg-type=\"label\">Enim cillum ullamco</h5> <p class=\"card-text\" data-wg-type=\"label\">Enim ullamco cillum nostrud anim aliqua commodo</p> <div class=\"d-flex justify-content-between align-items-center\"> <div class=\"btn-group\"> <button class=\"btn btn-sm btn-outline-secondary\" data-wg-type=\"button\" type=\"button\">Enim cillum</button> </div> <small class=\"text-muted\" data-wg-type=\"label\">Enim cillum</small> </div> </div> </div> <div class=\"text-black card\" data-wg-type=\"card\"> <div class=\"card-body\"> <h5 class=\"card-title\" data-wg-type=\"label\">Enim cillum ullamco</h5> <p class=\"card-text\" data-wg-type=\"label\">Enim ullamco cillum aliqua anim aliquip nostrud et</p> <div class=\"d-flex justify-content-between align-items-center\"> <div class=\"btn-group\"> <button class=\"btn btn-sm btn-outline-secondary\" data-wg-type=\"button\" type=\"button\">Enim anim ut</button> </div> <small class=\"text-muted\" data-wg-type=\"label\">Enim cillum</small> </div> </div> </div> </div> </div> </div> <div class=\"wg-detect\" data-wg-type=\"descriptive_items\"> <div class=\"row\"> <div class=\"col\"> <h2 data-wg-type=\"label\">Enim ullamco aliquip anim.</h2> <p><br> <img class=\"float-left m-2 shadow img\" data-wg-type=\"image\" style=\"background-color: gray;width: 211px;height: 211px;\"></img> <span data-wg-type=\"text_area\">Enim ullamco cillum aliqua. Amet anim aliqua anim. Amet ullamco anim aliqua. Amet ullamco anim aliqua. Amet ullamco ullamco anim. Amet ullamco ullamco ullamco.</span> </p> </div> </div> <div class=\"row\"> <div class=\"col\"> <h2 data-wg-type=\"label\">Enim ullamco cillum aliquip.</h2> <p><br> <img class=\"float-right m-2 shadow img\" data-wg-type=\"image\" style=\"background-color: gray;width: 211px;height: 211px;\"></img> <span data-wg-type=\"text_area\">Enim ullamco anim aliqua. Amet ullamco cillum aliquip. Dolor ullamco ullamco aliqua. Dolor ullamco cillum aliqua. Dolor ullamco ullamco ullamco.</span> </p> </div> </div> </div> </div> </div> </div> </body> </html>\n",
            "    Answer: <!DOCTYPE html> <html> <head> <title>Dominate</title> <meta content=\"width=device-width, initial-scale=1.0\" name=\"viewport\"> <meta content=\"Web Generator\" name=\"author\"> <meta content=\"3\" name=\"wg-layout\"> <link href=\"../css/custom-bootstrap.css\" rel=\"stylesheet\"> <link href=\"../css/wg-extras.css\" rel=\"stylesheet\"> <script src=\"../js/jquery-3.2.1.slim.min.js\" type=\"text/javascript\"></script> <script src=\"../js/bootstrap.min.js\" type=\"text/javascript\"></script> </head> <body class=\"\"> <div class=\" shadow\" id=\"full-wrapper\"> <nav class=\"bg-light navbar-light shadow navbar navbar-expand-md\" data-wg-type=\"navbar\"> <button class=\"navbar-toggler\" data-target=\"#main-nav\" data-toggle=\"collapse\" type=\"button\"> <span class=\"navbar-toggler-icon\"></span> </button> <div class=\"collapse navbar-collapse\" id=\"main-nav\" style=\"height: 5vh;\"> <ul class=\"navbar-nav mr-auto\"> <li class=\"nav-item\"> <a class=\"nav-link\" data-wg-type=\"button\" href=\"#\">Enim est elit</a> </li> <li class=\"nav-item\"> <a class=\"nav-link\" data-wg-type=\"button\" href=\"#\">Dolor culpa</a> </li> <li class=\"nav-item\"> <a class=\"nav-link\" data-wg-type=\"button\" href=\"#\">Enim veniam</a> </li> <li class=\"nav-item\"> <a class=\"nav-link\" data-wg-type=\"button\" href=\"#\">Culpa nulla</a> </li> </ul> </div> </nav> <header class=\"bg-light shadow d-flex align-items-center justify-content-center\" data-wg-type=\"header\" style=\"height: 40vh;\"> <h1 class=\"p-2 text-center\" data-wg-type=\"label\">Laboris Nulla Ipsum Nostrud Anim Sint</h1> </header> <div class=\"d-flex\"> <div class=\"bg-light shadow\" data-wg-type=\"sidebar\" id=\"sidebar-wrapper\"> <div class=\"sidebar-heading\" data-wg-type=\"label\">Qui</div> <div class=\"list-group list-group-flush\" style=\"width:24vh;\"> <a class=\"list-group-item list-group-item-action\" data-wg-type=\"button\" href=\"#\">Officia ut ea</a> <a class=\"list-group-item list-group-item-action\" data-wg-type=\"button\" href=\"#\">Dolor enim eu</a> <a class=\"list-group-item list-group-item-action\" data-wg-type=\"button\" href=\"#\">Duis laborum</a> <a class=\"list-group-item list-group-item-action\" data-wg-type=\"button\" href=\"#\">Fugiat aute</a> <a class=\"list-group-item list-group-item-action\" data-wg-type=\"button\" href=\"#\">Sint anim non</a> </div> </div> <div class=\"container-fluid py-3\" id=\"page-content\"> <div class=\"row wg-detect\"> <div class=\"col\"> <div class=\"card-columns\"> <div class=\"text-black card\" data-wg-type=\"card\"> <div class=\"card-body\"> <h5 class=\"card-title\" data-wg-type=\"label\">Veniam non anim do</h5> <p class=\"card-text\" data-wg-type=\"label\">Est aute sed consequat eu duis enim commodo dolor</p> <div class=\"d-flex justify-content-between align-items-center\"> <div class=\"btn-group\"> <button class=\"btn btn-sm btn-outline-secondary\" data-wg-type=\"button\" type=\"button\">Consectetur</button> </div> <small class=\"text-muted\" data-wg-type=\"label\">Ea est ea id</small> </div> </div> </div> <div class=\"text-black card\" data-wg-type=\"card\"> <div class=\"card-body\"> <h5 class=\"card-title\" data-wg-type=\"label\">Quis occaecat cillum</h5> <p class=\"card-text\" data-wg-type=\"label\">Tempor aliquip consectetur adipiscing sit sunt et</p> <div class=\"d-flex justify-content-between align-items-center\"> <div class=\"btn-group\"> <button class=\"btn btn-sm btn-outline-secondary\" data-wg-type=\"button\" type=\"button\">Nostrud qui</button> </div> <small class=\"text-muted\" data-wg-type=\"label\">Ut pariatur</small> </div> </div> </div> <div class=\"text-black card\" data-wg-type=\"card\"> <div class=\"card-body\"> <h5 class=\"card-title\" data-wg-type=\"label\">Ea mollit cupidatat</h5> <p class=\"card-text\" data-wg-type=\"label\">Dolor do aute aliqua eiusmod anim enim sint ad ea</p> <div class=\"d-flex justify-content-between align-items-center\"> <div class=\"btn-group\"> <button class=\"btn btn-sm btn-outline-secondary\" data-wg-type=\"button\" type=\"button\">Aute occaecat</button> </div> <small class=\"text-muted\" data-wg-type=\"label\">Nisi labore</small> </div> </div> </div> </div> </div> </div> <div class=\"wg-detect\" data-wg-type=\"descriptive_items\"> <div class=\"row\"> <div class=\"col\"> <h2 data-wg-type=\"label\">Deserunt fugiat excepteur cillum proident.</h2> <p><br> <img class=\"float-left m-2 shadow img\" data-wg-type=\"image\" style=\"background-color: gray;width: 218px;height: 261px;\"></img> <span data-wg-type=\"text_area\">Ex irure irure veniam. Commodo consequat nulla tempor minim. Fugiat nisi cupidatat nostrud. Voluptate exercitation dolore excepteur ullamco lorem eiusmod cillum, irure reprehenderit adipiscing nostrud. Officia enim consequat ullamco occaecat sint sit, veniam consequat id occaecat est consequat. Ut eu ut cillum enim aute. Nostrud ut elit dolore fugiat culpa aute anim.</span> </p> </div> </div> <div class=\"row\"> <div class=\"col\"> <h2 data-wg-type=\"label\">Minim consequat sint non sed aute incididunt, laborum excepteur nostrud dolor, esse eu officia elit.</h2> <p><br> <img class=\"float-right m-2 shadow img\" data-wg-type=\"image\" style=\"background-color: gray;width: 218px;height: 261px;\"></img> <span data-wg-type=\"text_area\">Irure proident eu aliquip sed laboris excepteur. Ut irure excepteur reprehenderit consequat. Non sint ut sed proident. Amet culpa consectetur tempor aliquip anim. Amet est dolor aliqua cillum. Fugiat ex commodo ut. Non consectetur sint ex aliqua.</span> </p> </div> </div> </div> </div> </div> </div> </body> </html>\n",
            "      Bleu: 0.92\n",
            " Avg Bleu Score: 0.82\n"
          ]
        },
        {
          "output_type": "stream",
          "name": "stderr",
          "text": [
            "Epoch 5/9 - train loop: 100%|██████████| 5197/5197 [1:07:57<00:00,  1.27it/s, loss=0.653]\n"
          ]
        },
        {
          "output_type": "stream",
          "name": "stdout",
          "text": [
            "Moving Avg Loss: 0.309\n"
          ]
        },
        {
          "output_type": "stream",
          "name": "stderr",
          "text": [
            "Epoch 6/9 - train loop: 100%|██████████| 5197/5197 [1:07:58<00:00,  1.27it/s, loss=0.735]\n"
          ]
        },
        {
          "output_type": "stream",
          "name": "stdout",
          "text": [
            "Moving Avg Loss: 0.378\n"
          ]
        },
        {
          "output_type": "stream",
          "name": "stderr",
          "text": [
            "Epoch 7/9 - train loop: 100%|██████████| 5197/5197 [1:07:58<00:00,  1.27it/s, loss=0.0801]\n"
          ]
        },
        {
          "output_type": "stream",
          "name": "stdout",
          "text": [
            "Moving Avg Loss: 0.267\n"
          ]
        },
        {
          "output_type": "stream",
          "name": "stderr",
          "text": [
            "Epoch 8/9 - train loop: 100%|██████████| 5197/5197 [1:07:59<00:00,  1.27it/s, loss=0.274]\n"
          ]
        },
        {
          "output_type": "stream",
          "name": "stdout",
          "text": [
            "Moving Avg Loss: 0.254\n"
          ]
        },
        {
          "output_type": "stream",
          "name": "stderr",
          "text": [
            "Epoch 9/9 - train loop: 100%|██████████| 5197/5197 [1:07:58<00:00,  1.27it/s, loss=0.0581]\n"
          ]
        },
        {
          "output_type": "stream",
          "name": "stdout",
          "text": [
            "Moving Avg Loss: 0.285\n"
          ]
        },
        {
          "output_type": "stream",
          "name": "stderr",
          "text": [
            "Epoch 9/9 - valid loop:  50%|█████     | 1/2 [07:23<07:23, 443.76s/it, bleu_score=0.852]"
          ]
        },
        {
          "output_type": "stream",
          "name": "stdout",
          "text": [
            "\n",
            "Prediction: <!DOCTYPE html> <html> <head> <title>Dominate</title> <meta content=\"width=device-width, initial-scale=1.0\" name=\"viewport\"> <meta content=\"Web Generator\" name=\"author\"> <meta content=\"3\" name=\"wg-layout\"> <link href=\"../css/custom-bootstrap.css\" rel=\"stylesheet\"> <link href=\"../css/wg-extras.css\" rel=\"stylesheet\"> <script src=\"../js/jquery-3.2.1.slim.min.js\" type=\"text/javascript\"></script> <script src=\"../js/bootstrap.min.js\" type=\"text/javascript\"></script> </head> <body class=\"\"> <div class=\" rounded shadow-lg\" id=\"full-wrapper\"> <nav class=\"bg-light navbar-light rounded shadow-lg navbar navbar-expand-md\" data-wg-type=\"navbar\"> <a class=\"navbar-brand\" data-wg-type=\"label\" href=\"#\">Aliquip</a> <button class=\"navbar-toggler\" data-target=\"#main-nav\" data-toggle=\"collapse\" type=\"button\"> <span class=\"navbar-toggler-icon\"></span> </button> <div class=\"collapse navbar-collapse\" id=\"main-nav\" style=\"height: 5vh;\"> <ul class=\"navbar-nav mr-auto\"> <li class=\"nav-item\"> <a class=\"nav-link\" data-wg-type=\"button\" href=\"#\">Esse ullamco</a> </li> <li class=\"nav-item\"> <a class=\"nav-link\" data-wg-type=\"button\" href=\"#\">Adipiscing ex</a> </li> <li class=\"nav-item\"> <a class=\"nav-link\" data-wg-type=\"button\" href=\"#\">Exercitation</a> </li> <li class=\"nav-item\"> <a class=\"nav-link\" data-wg-type=\"button\" href=\"#\">Et aliquip ut</a> </li> <li class=\"nav-item\"> <a class=\"nav-link\" data-wg-type=\"button\" href=\"#\">Eiusmod aute</a> </li> <li class=\"nav-item\"> <a class=\"nav-link\" data-wg-type=\"button\" href=\"#\">Eiusmod lorem</a> </li> </ul> </div> </nav> <div class=\"d-flex\"> <div class=\"container-fluid py-3\" id=\"page-content\"> <form class=\"p-3\"> <div class=\"form-row\"> <div class=\"form-group col-md\"> <label data-wg-type=\"label\" for=\"cupidatat\">Cupidatat</label> <input class=\"form-control\" data-wg-type=\"text\" id=\"cupidatat\" type=\"text\"> </div> <div class=\"form-group col-md\"> <label data-wg-type=\"label\" for=\"nisi\">Nisi</label> <input class=\"form-control\" data-wg-type=\"text\" id=\"nisi\" type=\"text\"> </div> </div> <div class=\"form-row\"> <div class=\"form-group col-md\"> <label data-wg-type=\"label\" for=\"laborum_proident\">Laborum proident</label> <input class=\"form-control\" data-wg-type=\"text\" id=\"laborum_proident\" type=\"text\"> </div> <div class=\"form-group col-md\"> <label data-wg-type=\"label\" for=\"exercitation\">Exercitation</label> <input class=\"form-control\" data-wg-type=\"text\" id=\"exercitation\" type=\"text\"> </div> </div> <div class=\"form-row\"> <div class=\"form-group col-md\"> <label data-wg-type=\"label\" for=\"laboris_exercitation\">Laboris exercitation</label> <input class=\"form-control\" data-wg-type=\"text\" id=\"laboris_exercitation\" type=\"text\"> </div> <div class=\"form-group col-md\"> <label data-wg-type=\"label\" for=\"aliqua\">Aliqua</label> <input class=\"form-control\" data-wg-type=\"text\" id=\"aliqua\" type=\"text\"> </div> </div> <div class=\"form-row\"> <div class=\"form-group col-md\"> <label data-wg-type=\"label\" for=\"labore\">Labore</label> <input class=\"form-control\" data-wg-type=\"text\" id=\"labore\" type=\"text\"> </div> <div class=\"form-group col-md\"> <label data-wg-type=\"label\" for=\"exercitation\">Exercitation</label> <input class=\"custom-range\" data-wg-type=\"slider\" id=\"exercitation\" type=\"slider\"> </div> </div> <div class=\"form-row\"> <div class=\"form-group col-md\"> <label data-wg-type=\"label\" for=\"laborum_reprehenderit\">Laborum reprehenderit</label> <input class=\"form-control\" data-wg-type=\"text\" id=\"laborum_reprehenderit\" type=\"text\"> </div> <div class=\"form-group col-md\"> <label data-wg-type=\"label\" for=\"laboris_occaecat\">Laboris occaecat</label> <input class=\"form-control\" data-wg-type=\"text\" id=\"laboris_occaecat\" type=\"text\"> </div> </div> </form> </div> </div> <footer class=\"bg-light rounded shadow-lg jumbotron mb-0\" data-wg-type=\"footer\" style=\"height: 29vh;\"> <div class=\"container\"> <span class=\"text-muted\" data-wg-type=\"label\">Enim aliqua nostrud aliquip ullamco aliqua anim et</span> </div> </footer> </div> </body> </html>\n",
            "    Answer: <!DOCTYPE html> <html> <head> <title>Dominate</title> <meta content=\"width=device-width, initial-scale=1.0\" name=\"viewport\"> <meta content=\"Web Generator\" name=\"author\"> <meta content=\"1\" name=\"wg-layout\"> <link href=\"../css/custom-bootstrap.css\" rel=\"stylesheet\"> <link href=\"../css/wg-extras.css\" rel=\"stylesheet\"> <script src=\"../js/jquery-3.2.1.slim.min.js\" type=\"text/javascript\"></script> <script src=\"../js/bootstrap.min.js\" type=\"text/javascript\"></script> </head> <body class=\"\"> <div class=\"d-flex \" id=\"full-wrapper\"> <div class=\"w-100\"> <nav class=\"bg-light navbar-light rounded shadow-lg navbar navbar-expand-md\" data-wg-type=\"navbar\"> <a class=\"navbar-brand\" data-wg-type=\"label\" href=\"#\">Officia</a> <button class=\"navbar-toggler\" data-target=\"#main-nav\" data-toggle=\"collapse\" type=\"button\"> <span class=\"navbar-toggler-icon\"></span> </button> <div class=\"collapse navbar-collapse\" id=\"main-nav\" style=\"height: 4vh;\"> <ul class=\"navbar-nav mr-auto\"> <li class=\"nav-item\"> <a class=\"nav-link\" data-wg-type=\"button\" href=\"#\">Sed ut lorem</a> </li> <li class=\"nav-item\"> <a class=\"nav-link\" data-wg-type=\"button\" href=\"#\">Cupidatat eu</a> </li> <li class=\"nav-item\"> <a class=\"nav-link\" data-wg-type=\"button\" href=\"#\">Incididunt in</a> </li> <li class=\"nav-item\"> <a class=\"nav-link\" data-wg-type=\"button\" href=\"#\">Consectetur</a> </li> <li class=\"nav-item\"> <a class=\"nav-link\" data-wg-type=\"button\" href=\"#\">Ex fugiat non</a> </li> <li class=\"nav-item\"> <a class=\"nav-link\" data-wg-type=\"button\" href=\"#\">Ut ullamco ad</a> </li> </ul> </div> </nav> <div class=\"container-fluid py-3\" id=\"page-content\"> <form class=\"p-3\"> <div class=\"form-row\"> <div class=\"form-group col-md\"> <label data-wg-type=\"label\" for=\"amet_sed\">Amet sed</label> <input class=\"form-control\" data-wg-type=\"text\" id=\"amet_sed\" type=\"text\"> </div> <div class=\"form-group col-md\"> <label data-wg-type=\"label\" for=\"nisi\">Nisi</label> <input class=\"form-control\" data-wg-type=\"text\" id=\"nisi\" type=\"text\"> </div> </div> <div class=\"form-row\"> <div class=\"form-group col-md\"> <label data-wg-type=\"label\" for=\"labore_excepteur\">Labore excepteur</label> <input class=\"form-control\" data-wg-type=\"text\" id=\"labore_excepteur\" type=\"text\"> </div> <div class=\"form-group col-md\"> <label data-wg-type=\"label\" for=\"aliquip_non\">Aliquip non</label> <input class=\"form-control\" data-wg-type=\"text\" id=\"aliquip_non\" type=\"text\"> </div> </div> <div class=\"form-row\"> <div class=\"form-group col-md\"> <label data-wg-type=\"label\" for=\"commodo_pariatur\">Commodo pariatur</label> <input class=\"form-control\" data-wg-type=\"text\" id=\"commodo_pariatur\" type=\"text\"> </div> <div class=\"form-group col-md\"> <label data-wg-type=\"label\" for=\"aliqua\">Aliqua</label> <input class=\"form-control\" data-wg-type=\"text\" id=\"aliqua\" type=\"text\"> </div> </div> <div class=\"form-row\"> <div class=\"form-group col-md\"> <label data-wg-type=\"label\" for=\"ut_velit\">Ut velit</label> <input class=\"form-control\" data-wg-type=\"text\" id=\"ut_velit\" type=\"text\"> </div> <div class=\"form-group col-md\"> <label data-wg-type=\"label\" for=\"exercitation\">Exercitation</label> <input class=\"custom-range\" data-wg-type=\"slider\" id=\"exercitation\" type=\"slider\"> </div> </div> <div class=\"form-row\"> <div class=\"form-group col-md\"> <label data-wg-type=\"label\" for=\"officia_dolor_consequat\">Officia dolor consequat</label> <input class=\"form-control\" data-wg-type=\"text\" id=\"officia_dolor_consequat\" type=\"text\"> </div> <div class=\"form-group col-md\"> <label data-wg-type=\"label\" for=\"adipiscing_lorem\">Adipiscing lorem</label> <input class=\"form-control\" data-wg-type=\"text\" id=\"adipiscing_lorem\" type=\"text\"> </div> </div> </form> </div> <footer class=\"bg-light rounded shadow-lg jumbotron mb-0\" data-wg-type=\"footer\" style=\"height: 28vh;\"> <div class=\"container\"> <span class=\"text-muted\" data-wg-type=\"label\">Eiusmod sed magna ea incididunt anim in veniam id</span> </div> </footer> </div> </div> </body> </html>\n",
            "      Bleu: 0.92\n",
            "\n",
            "Prediction: <!DOCTYPE html> <html> <head> <title>Dominate</title> <meta content=\"width=device-width, initial-scale=1.0\" name=\"viewport\"> <meta content=\"Web Generator\" name=\"author\"> <meta content=\"4\" name=\"wg-layout\"> <link href=\"../css/custom-bootstrap.css\" rel=\"stylesheet\"> <link href=\"../css/wg-extras.css\" rel=\"stylesheet\"> <script src=\"../js/jquery-3.2.1.slim.min.js\" type=\"text/javascript\"></script> <script src=\"../js/bootstrap.min.js\" type=\"text/javascript\"></script> </head> <body class=\"\"> <div class=\" rounded\" id=\"full-wrapper\"> <div class=\"d-flex\"> <div class=\"bg-light rounded\" data-wg-type=\"sidebar\" id=\"sidebar-wrapper\"> <div class=\"sidebar-heading\" data-wg-type=\"label\">Enim</div> <div class=\"list-group list-group-flush\" style=\"width:29vh;\"> <a class=\"list-group-item list-group-item-action\" data-wg-type=\"button\" href=\"#\">Ea cillum sed</a> <a class=\"list-group-item list-group-item-action\" data-wg-type=\"button\" href=\"#\">Eiusmod amet</a> <a class=\"list-group-item list-group-item-action\" data-wg-type=\"button\" href=\"#\">Et anim lorem</a> </div> </div> <div class=\"w-100\"> <nav class=\"bg-light navbar-light rounded navbar navbar-expand-md\" data-wg-type=\"navbar\"> <a class=\"navbar-brand\" data-wg-type=\"label\" href=\"#\">Eiusmod</a> <button class=\"navbar-toggler\" data-target=\"#main-nav\" data-toggle=\"collapse\" type=\"button\"> <span class=\"navbar-toggler-icon\"></span> </button> <div class=\"collapse navbar-collapse\" id=\"main-nav\" style=\"height: 7vh;\"> <ul class=\"navbar-nav mr-auto\"> <li class=\"nav-item\"> <a class=\"nav-link\" data-wg-type=\"button\" href=\"#\">Ea ullamco in</a> </li> <li class=\"nav-item\"> <a class=\"nav-link\" data-wg-type=\"button\" href=\"#\">Ea nostrud in</a> </li> <li class=\"nav-item\"> <a class=\"nav-link\" data-wg-type=\"button\" href=\"#\">Ea cillum in</a> </li> <li class=\"nav-item\"> <a class=\"nav-link\" data-wg-type=\"button\" href=\"#\">Et aliquip in</a> </li> </ul> </div> </nav> <div class=\"container-fluid py-3\" id=\"page-content\"> <div class=\"my-3 wg-detect carousel slide\" data-ride=\"carousel\" data-wg-type=\"carousel\" id=\"carousel-ele-0\"> <ol class=\"carousel-indicators\"> <li class=\"active\" data-slide-to=\"0\" data-target=\"#carousel-ele-0\"></li> <li class=\"\" data-slide-to=\"1\" data-target=\"#carousel-ele-0\"></li> <li class=\"\" data-slide-to=\"2\" data-target=\"#carousel-ele-0\"></li> <li class=\"\" data-slide-to=\"3\" data-target=\"#carousel-ele-0\"></li> </ol> <div class=\"carousel-inner\"> <div class=\"carousel-item active\"> <div class=\"d-block w-100 text-center\" style=\"background-color: darkgrey; height: 40vh;\"> <h1 class=\"pt-5\">Et anim aliquip amet</h1> </div> </div> <div class=\"carousel-item\"> <div class=\"d-block w-100 text-center\" style=\"background-color: darkgrey; height: 40vh;\"> <h1 class=\"pt-5\">Ea cillum commodo in</h1> </div> </div> <div class=\"carousel-item\"> <div class=\"d-block w-100 text-center\" style=\"background-color: darkgrey; height: 40vh;\"> <h1 class=\"pt-5\">Ea anim aliqua quis</h1> </div> </div> <div class=\"carousel-item\"> <div class=\"d-block w-100 text-center\" style=\"background-color: darkgrey; height: 40vh;\"> <h1 class=\"pt-5\">Ea ullamco nostrud</h1> </div> </div> </div> <a class=\"carousel-control-prev\" data-slide=\"prev\" href=\"#carousel-ele-0\" role=\"button\"> <span class=\"carousel-control-prev-icon\"></span> </a> <a class=\"carousel-control-next\" data-slide=\"next\" href=\"#carousel-ele-0\" role=\"button\"> <span class=\"carousel-control-next-icon\"></span> </a> </div> <div class=\"wg-detect\" data-wg-type=\"descriptive_items\"> <div class=\"row\"> <div class=\"col\"> <h2 data-wg-type=\"label\">Enim ullamco aliquip aliqua.</h2> <p><br> <img class=\"float-left m-2 img\" data-wg-type=\"image\" style=\"background-color: gray;width: 156px;height: 100px;\"></img> <span data-wg-type=\"text_area\">Et nostrud aliquip aliqua. Labore commodo aliqua aliqua. Dolor ullamco aliqua aliquip. Dolor commodo aliqua aliquip. Dolor ullamco aliqua aliquip. Dolor commodo aliqua aliquip. Dolor ullamco aliquip anim. Dolor commodo aliqua aliquip. Dolor ullamco aliquip anim. Dolor commodo aliquip aliqua. Dolor ullamco aliquip aliquip. Dolor commodo aliquip aliqua.</span> </p> </div> </div> </div> <div class=\"m-3 wg-detect\" data-wg-type=\"tabs\"> <div class=\"nav nav-tabs\"> <a aria-controls=\"aliqua\" class=\"nav-item nav-link active\" data-toggle=\"tab\" data-wg-type=\"button\" href=\"#aliqua\" id=\"aliqua-tab\" role=\"tab\">Aliqua</a> <a aria-controls=\"adipiscing\" class=\"nav-item nav-link\" data-toggle=\"tab\" data-wg-type=\"button\" href=\"#adipiscing\" id=\"adipiscing-tab\" role=\"tab\">Adipiscing</a> <a aria-controls=\"veniam\" class=\"nav-item nav-link\" data-toggle=\"tab\" data-wg-type=\"button\" href=\"#veniam\" id=\"veniam-tab\" role=\"tab\">Veniam</a> </div> <div class=\"tab-content\"> <div aria-labelledby=\"aliqua\" class=\"tab-pane fade border p-3 show active\" data-wg-type=\"label\" id=\"aliqua\" role=\"tabpanel\">Enim commodo aliquip aliqua.</div> <div aria-labelledby=\"adipiscing\" class=\"tab-pane fade border p-3\" data-wg-type=\"label\" id=\"adipiscing\" role=\"tabpanel\">Enim aliqua ullamco aliquip.</div> <div aria-labelledby=\"veniam\" class=\"tab-pane fade border p-3\" data-wg-type=\"label\" id=\"veniam\" role=\"tabpanel\">Eiusmod aliquip ullamco aliqua.</div> </div> </div> </div> </div> </div> </body> </html>\n",
            "    Answer: <!DOCTYPE html> <html> <head> <title>Dominate</title> <meta content=\"width=device-width, initial-scale=1.0\" name=\"viewport\"> <meta content=\"Web Generator\" name=\"author\"> <meta content=\"2\" name=\"wg-layout\"> <link href=\"../css/custom-bootstrap.css\" rel=\"stylesheet\"> <link href=\"../css/wg-extras.css\" rel=\"stylesheet\"> <script src=\"../js/jquery-3.2.1.slim.min.js\" type=\"text/javascript\"></script> <script src=\"../js/bootstrap.min.js\" type=\"text/javascript\"></script> </head> <body class=\"\"> <div class=\"\" id=\"full-wrapper\"> <nav class=\"bg-light navbar-light navbar navbar-expand-md\" data-wg-type=\"navbar\"> <button class=\"navbar-toggler\" data-target=\"#main-nav\" data-toggle=\"collapse\" type=\"button\"> <span class=\"navbar-toggler-icon\"></span> </button> <div class=\"collapse navbar-collapse\" id=\"main-nav\" style=\"height: 7vh;\"> <ul class=\"navbar-nav mx-auto\"> <li class=\"nav-item\"> <a class=\"nav-link\" data-wg-type=\"button\" href=\"#\">Pariatur nisi</a> </li> <li class=\"nav-item\"> <a class=\"nav-link\" data-wg-type=\"button\" href=\"#\">Fugiat ea est</a> </li> <li class=\"nav-item\"> <a class=\"nav-link\" data-wg-type=\"button\" href=\"#\">Aliquip ea eu</a> </li> <li class=\"nav-item\"> <a class=\"nav-link\" data-wg-type=\"button\" href=\"#\">Ipsum sint do</a> </li> <li class=\"nav-item\"> <a class=\"nav-link\" data-wg-type=\"button\" href=\"#\">Amet ullamco</a> </li> <li class=\"nav-item\"> <a class=\"nav-link\" data-wg-type=\"button\" href=\"#\">Aliquip esse</a> </li> </ul> </div> </nav> <div class=\"d-flex\"> <div class=\"bg-light\" data-wg-type=\"sidebar\" id=\"sidebar-wrapper\"> <div class=\"list-group list-group-flush\" style=\"width:27vh;\"> <a class=\"list-group-item list-group-item-action\" data-wg-type=\"button\" href=\"#\">Excepteur sed</a> <a class=\"list-group-item list-group-item-action\" data-wg-type=\"button\" href=\"#\">Ex ipsum ut</a> </div> </div> <div class=\"container-fluid py-3\" id=\"page-content\"> <div class=\"my-3 wg-detect carousel slide\" data-ride=\"carousel\" data-wg-type=\"carousel\" id=\"carousel-ele-0\"> <ol class=\"carousel-indicators\"> <li class=\"active\" data-slide-to=\"0\" data-target=\"#carousel-ele-0\"></li> <li class=\"\" data-slide-to=\"1\" data-target=\"#carousel-ele-0\"></li> <li class=\"\" data-slide-to=\"2\" data-target=\"#carousel-ele-0\"></li> </ol> <div class=\"carousel-inner\"> <div class=\"carousel-item active\"> <div class=\"d-block w-100 text-center\" style=\"background-color: darkgrey; height: 40vh;\"> <h1 class=\"pt-5\">Non lorem velit sunt</h1> </div> </div> <div class=\"carousel-item\"> <div class=\"d-block w-100 text-center\" style=\"background-color: darkgrey; height: 40vh;\"> <h1 class=\"pt-5\">Aute fugiat in est</h1> </div> </div> <div class=\"carousel-item\"> <div class=\"d-block w-100 text-center\" style=\"background-color: darkgrey; height: 40vh;\"> <h1 class=\"pt-5\">Eu quis minim anim</h1> </div> </div> </div> <a class=\"carousel-control-prev\" data-slide=\"prev\" href=\"#carousel-ele-0\" role=\"button\"> <span class=\"carousel-control-prev-icon\"></span> </a> <a class=\"carousel-control-next\" data-slide=\"next\" href=\"#carousel-ele-0\" role=\"button\"> <span class=\"carousel-control-next-icon\"></span> </a> </div> <div class=\"wg-detect\" data-wg-type=\"descriptive_items\"> <div class=\"row\"> <div class=\"col\"> <h2 data-wg-type=\"label\">Eiusmod cillum dolor enim et.</h2> <p><br> <img class=\"float-left m-2 shadow img\" data-wg-type=\"image\" style=\"background-color: gray;width: 150px;height: 105px;\"></img> <span data-wg-type=\"text_area\">Sed lorem pariatur officia culpa nulla, proident mollit id ex eu ex esse. Aliquip duis nulla ut. Ullamco ad aliqua sed voluptate irure amet. Anim eiusmod commodo amet aliquip duis sed. Minim laborum cupidatat consequat. Officia eu exercitation incididunt ipsum reprehenderit irure consequat. Sint do cupidatat cillum. Velit et sunt labore. Magna sint sint eiusmod consectetur. Ea nulla excepteur occaecat do, occaecat qui ullamco reprehenderit exercitation eiusmod, adipiscing labore sunt irure.</span> </p> </div> </div> </div> <div class=\"m-3 wg-detect\" data-wg-type=\"tabs\"> <div class=\"nav nav-tabs\"> <a aria-controls=\"cillum\" class=\"nav-item nav-link active\" data-toggle=\"tab\" data-wg-type=\"button\" href=\"#cillum\" id=\"cillum-tab\" role=\"tab\">Cillum</a> <a aria-controls=\"adipiscing\" class=\"nav-item nav-link\" data-toggle=\"tab\" data-wg-type=\"button\" href=\"#adipiscing\" id=\"adipiscing-tab\" role=\"tab\">Adipiscing</a> <a aria-controls=\"veniam\" class=\"nav-item nav-link\" data-toggle=\"tab\" data-wg-type=\"button\" href=\"#veniam\" id=\"veniam-tab\" role=\"tab\">Veniam</a> </div> <div class=\"tab-content\"> <div aria-labelledby=\"cillum\" class=\"tab-pane fade border p-3 show active\" data-wg-type=\"label\" id=\"cillum\" role=\"tabpanel\">Sit reprehenderit tempor eiusmod. Occaecat culpa reprehenderit duis lorem sit. Qui dolore cupidatat fugiat ex, tempor duis cillum ad consequat nostrud dolore.</div> <div aria-labelledby=\"adipiscing\" class=\"tab-pane fade border p-3\" data-wg-type=\"label\" id=\"adipiscing\" role=\"tabpanel\">In et elit laboris consectetur. Sint cupidatat do id incididunt occaecat est. Aute do anim deserunt tempor ut, non consectetur cupidatat excepteur dolor id irure.</div> <div aria-labelledby=\"veniam\" class=\"tab-pane fade border p-3\" data-wg-type=\"label\" id=\"veniam\" role=\"tabpanel\">Minim reprehenderit dolor et est quis ipsum sed, ea exercitation elit sunt adipiscing fugiat ipsum.</div> </div> </div> </div> </div> </div> </body> </html>\n",
            "      Bleu: 0.84\n",
            "\n",
            "Prediction: <!DOCTYPE html> <html> <head> <title>Dominate</title> <meta content=\"width=device-width, initial-scale=1.0\" name=\"viewport\"> <meta content=\"Web Generator\" name=\"author\"> <meta content=\"1\" name=\"wg-layout\"> <link href=\"../css/custom-bootstrap.css\" rel=\"stylesheet\"> <link href=\"../css/wg-extras.css\" rel=\"stylesheet\"> <script src=\"../js/jquery-3.2.1.slim.min.js\" type=\"text/javascript\"></script> <script src=\"../js/bootstrap.min.js\" type=\"text/javascript\"></script> </head> <body class=\"\"> <div class=\"d-flex \" id=\"full-wrapper\"> <div class=\"w-100\"> <nav class=\"bg-light navbar-light rounded navbar navbar-expand-md\" data-wg-type=\"navbar\"> <a class=\"navbar-brand\" data-wg-type=\"label\" href=\"#\">Aute</a> <button class=\"navbar-toggler\" data-target=\"#main-nav\" data-toggle=\"collapse\" type=\"button\"> <span class=\"navbar-toggler-icon\"></span> </button> <div class=\"collapse navbar-collapse\" id=\"main-nav\" style=\"height: 7vh;\"> <ul class=\"navbar-nav mr-auto\"> <li class=\"nav-item\"> <a class=\"nav-link\" data-wg-type=\"button\" href=\"#\">Et cillum est</a> </li> <li class=\"nav-item\"> <a class=\"nav-link\" data-wg-type=\"button\" href=\"#\">Et aliqua sit</a> </li> <li class=\"nav-item\"> <a class=\"nav-link\" data-wg-type=\"button\" href=\"#\">Et aliquip id</a> </li> </ul> </div> </nav> <header class=\"bg-light rounded d-flex align-items-center justify-content-center\" data-wg-type=\"header\" style=\"height: 19vh;\"> <h1 class=\"p-2 text-center\" data-wg-type=\"label\">Et Laboris</h1> </header> <div class=\"container-fluid py-3\" id=\"page-content\"> <div class=\"my-3 wg-detect carousel slide\" data-ride=\"carousel\" data-wg-type=\"carousel\" id=\"carousel-ele-0\"> <ol class=\"carousel-indicators\"> <li class=\"active\" data-slide-to=\"0\" data-target=\"#carousel-ele-0\"></li> <li class=\"\" data-slide-to=\"1\" data-target=\"#carousel-ele-0\"></li> <li class=\"\" data-slide-to=\"2\" data-target=\"#carousel-ele-0\"></li> <li class=\"\" data-slide-to=\"3\" data-target=\"#carousel-ele-0\"></li> </ol> <div class=\"carousel-inner\"> <div class=\"carousel-item active\"> <div class=\"d-block w-100 text-center\" style=\"background-color: darkgrey; height: 23vh;\"> <h1 class=\"pt-5\">Ea cillum aliquip ex</h1> </div> </div> <div class=\"carousel-item\"> <div class=\"d-block w-100 text-center\" style=\"background-color: darkgrey; height: 23vh;\"> <h1 class=\"pt-5\">Ea anim aliqua quis</h1> </div> </div> <div class=\"carousel-item\"> <div class=\"d-block w-100 text-center\" style=\"background-color: darkgrey; height: 23vh;\"> <h1 class=\"pt-5\">Ea cillum aliqua qui</h1> </div> </div> <div class=\"carousel-item\"> <div class=\"d-block w-100 text-center\" style=\"background-color: darkgrey; height: 23vh;\"> <h1 class=\"pt-5\">Ea ullamco nostrud in</h1> </div> </div> </div> <a class=\"carousel-control-prev\" data-slide=\"prev\" href=\"#carousel-ele-0\" role=\"button\"> <span class=\"carousel-control-prev-icon\"></span> </a> <a class=\"carousel-control-next\" data-slide=\"next\" href=\"#carousel-ele-0\" role=\"button\"> <span class=\"carousel-control-next-icon\"></span> </a> </div> <div class=\"wg-detect\" data-wg-type=\"descriptive_items\"> <div class=\"row\"> <div class=\"col\"> <h2 data-wg-type=\"label\">Enim aliqua cillum aliquip.</h2> <p><br> <img class=\"float-left m-2 shadow img\" data-wg-type=\"image\" style=\"background-color: gray;width: 194px;height: 184px;\"></img> <span data-wg-type=\"text_area\">Ea aliqua aliqua aliqua. Dolor commodo aliqua aliqua. Dolor ullamco aliqua aliquip. Dolor commodo aliqua aliqua. Dolor aliqua aliquip aliqua. Dolor ullamco aliqua aliqua. Dolor commodo aliqua aliquip. Dolor aliqua aliquip aliqua.</span> </p> </div> </div> </div> </div> </div> </div> </body> </html>\n",
            "    Answer: <!DOCTYPE html> <html> <head> <title>Dominate</title> <meta content=\"width=device-width, initial-scale=1.0\" name=\"viewport\"> <meta content=\"Web Generator\" name=\"author\"> <meta content=\"2\" name=\"wg-layout\"> <link href=\"../css/custom-bootstrap.css\" rel=\"stylesheet\"> <link href=\"../css/wg-extras.css\" rel=\"stylesheet\"> <script src=\"../js/jquery-3.2.1.slim.min.js\" type=\"text/javascript\"></script> <script src=\"../js/bootstrap.min.js\" type=\"text/javascript\"></script> </head> <body class=\"\"> <div class=\"\" id=\"full-wrapper\"> <nav class=\"bg-light navbar-light navbar navbar-expand-md\" data-wg-type=\"navbar\"> <a class=\"navbar-brand\" data-wg-type=\"label\" href=\"#\">Esse</a> <button class=\"navbar-toggler\" data-target=\"#main-nav\" data-toggle=\"collapse\" type=\"button\"> <span class=\"navbar-toggler-icon\"></span> </button> <div class=\"collapse navbar-collapse\" id=\"main-nav\" style=\"height: 7vh;\"> <ul class=\"navbar-nav mr-auto\"> <li class=\"nav-item\"> <a class=\"nav-link\" data-wg-type=\"button\" href=\"#\">Ea in labore</a> </li> <li class=\"nav-item\"> <a class=\"nav-link\" data-wg-type=\"button\" href=\"#\">Est nulla qui</a> </li> <li class=\"nav-item\"> <a class=\"nav-link\" data-wg-type=\"button\" href=\"#\">Aliqua enim</a> </li> </ul> </div> </nav> <header class=\"bg-light d-flex align-items-center justify-content-center\" data-wg-type=\"header\" style=\"height: 19vh;\"> <h1 class=\"p-2 text-center\" data-wg-type=\"label\">Aute Esse</h1> </header> <div class=\"d-flex\"> <div class=\"container-fluid py-3\" id=\"page-content\"> <div class=\"my-3 wg-detect carousel slide\" data-ride=\"carousel\" data-wg-type=\"carousel\" id=\"carousel-ele-0\"> <ol class=\"carousel-indicators\"> <li class=\"active\" data-slide-to=\"0\" data-target=\"#carousel-ele-0\"></li> <li class=\"\" data-slide-to=\"1\" data-target=\"#carousel-ele-0\"></li> <li class=\"\" data-slide-to=\"2\" data-target=\"#carousel-ele-0\"></li> <li class=\"\" data-slide-to=\"3\" data-target=\"#carousel-ele-0\"></li> <li class=\"\" data-slide-to=\"4\" data-target=\"#carousel-ele-0\"></li> </ol> <div class=\"carousel-inner\"> <div class=\"carousel-item active\"> <div class=\"d-block w-100 text-center\" style=\"background-color: darkgrey; height: 24vh;\"> <h1 class=\"pt-5\">Dolor enim ea nulla</h1> </div> </div> <div class=\"carousel-item\"> <div class=\"d-block w-100 text-center\" style=\"background-color: darkgrey; height: 24vh;\"> <h1 class=\"pt-5\">Elit fugiat pariatur</h1> </div> </div> <div class=\"carousel-item\"> <div class=\"d-block w-100 text-center\" style=\"background-color: darkgrey; height: 24vh;\"> <h1 class=\"pt-5\">Voluptate amet lorem</h1> </div> </div> <div class=\"carousel-item\"> <div class=\"d-block w-100 text-center\" style=\"background-color: darkgrey; height: 24vh;\"> <h1 class=\"pt-5\">Amet ullamco velit</h1> </div> </div> <div class=\"carousel-item\"> <div class=\"d-block w-100 text-center\" style=\"background-color: darkgrey; height: 24vh;\"> <h1 class=\"pt-5\">Proident fugiat ut</h1> </div> </div> </div> <a class=\"carousel-control-prev\" data-slide=\"prev\" href=\"#carousel-ele-0\" role=\"button\"> <span class=\"carousel-control-prev-icon\"></span> </a> <a class=\"carousel-control-next\" data-slide=\"next\" href=\"#carousel-ele-0\" role=\"button\"> <span class=\"carousel-control-next-icon\"></span> </a> </div> <div class=\"wg-detect\" data-wg-type=\"descriptive_items\"> <div class=\"row\"> <div class=\"col\"> <h2 data-wg-type=\"label\">Commodo qui dolor est excepteur ex lorem cillum, consequat adipiscing deserunt occaecat cupidatat officia nulla.</h2> <p><br> <img class=\"float-left m-2 shadow img\" data-wg-type=\"image\" style=\"background-color: gray;width: 197px;height: 157px;\"></img> <span data-wg-type=\"text_area\">Anim enim ea ut. Dolor consequat nulla qui minim sint et consectetur, quis do nulla voluptate commodo, labore dolor id cupidatat mollit labore aute ullamco. Laboris nisi cupidatat minim velit qui. Proident proident duis in id ullamco proident deserunt, consequat consectetur exercitation mollit cillum. Velit non cupidatat non non occaecat eu.</span> </p> </div> </div> </div> </div> </div> </div> </body> </html>\n",
            "      Bleu: 0.83\n",
            "\n",
            "Prediction: <!DOCTYPE html> <html> <head> <title>Dominate</title> <meta content=\"width=device-width, initial-scale=1.0\" name=\"viewport\"> <meta content=\"Web Generator\" name=\"author\"> <meta content=\"4\" name=\"wg-layout\"> <link href=\"../css/custom-bootstrap.css\" rel=\"stylesheet\"> <link href=\"../css/wg-extras.css\" rel=\"stylesheet\"> <script src=\"../js/jquery-3.2.1.slim.min.js\" type=\"text/javascript\"></script> <script src=\"../js/bootstrap.min.js\" type=\"text/javascript\"></script> </head> <body class=\"\"> <div class=\" rounded\" id=\"full-wrapper\"> <div class=\"d-flex\"> <div class=\"w-100\"> <nav class=\"bg-light navbar-light rounded navbar navbar-expand-md\" data-wg-type=\"navbar\"> <button class=\"navbar-toggler\" data-target=\"#main-nav\" data-toggle=\"collapse\" type=\"button\"> <span class=\"navbar-toggler-icon\"></span> </button> <div class=\"collapse navbar-collapse\" id=\"main-nav\" style=\"height: 7vh;\"> <ul class=\"navbar-nav mr-auto\"> <li class=\"nav-item\"> <a class=\"nav-link\" data-wg-type=\"button\" href=\"#\">Sint aliqua</a> </li> <li class=\"nav-item\"> <a class=\"nav-link\" data-wg-type=\"button\" href=\"#\">Esse nostrud</a> </li> </ul> </div> </nav> <div class=\"container-fluid py-3\" id=\"page-content\"> <form class=\"p-3\"> <div class=\"form-row\"> <div class=\"form-group col-md\"> <label data-wg-type=\"label\" for=\"laborum_laborum\">Laborum laborum</label> <input class=\"form-control\" data-wg-type=\"text\" id=\"laborum_laborum\" type=\"text\"> </div> <div class=\"form-group col-md\"> <label data-wg-type=\"label\" for=\"fugiat\">Fugiat</label> <input class=\"form-control\" data-wg-type=\"text\" id=\"fugiat\" type=\"text\"> </div> <div class=\"form-group col-md\"> <label data-wg-type=\"label\" for=\"qui\">Qui</label> <input class=\"form-control\" data-wg-type=\"text\" id=\"qui\" type=\"text\"> </div> </div> <div class=\"form-group\"> <label data-wg-type=\"label\" for=\"veniam\">Veniam</label> <input class=\"form-control\" data-wg-type=\"text\" id=\"veniam\" type=\"text\"> </div> <div class=\"form-row\"> <div class=\"form-group col-md\"> <label data-wg-type=\"label\" for=\"incididunt\">Incididunt</label> <input class=\"form-control\" data-wg-type=\"text\" id=\"incididunt\" type=\"text\"> </div> <div class=\"form-group col-md\"> <label data-wg-type=\"label\" for=\"laborum_excepteur\">Laborum excepteur</label> <input class=\"form-control\" data-wg-type=\"text\" id=\"laborum_excepteur\" type=\"text\"> </div> <div class=\"form-group col-md\"> <label data-wg-type=\"label\" for=\"adipiscing\">Adipiscing</label> <input class=\"form-control\" data-wg-type=\"text\" id=\"adipiscing\" type=\"text\"> </div> </div> <div class=\"form-group\"> <label data-wg-type=\"label\" for=\"exercitation\">Exercitation</label> <input class=\"form-control\" data-wg-type=\"text\" id=\"exercitation\" type=\"text\"> </div> <div class=\"form-row\"> <div class=\"form-group col-md\"> <label data-wg-type=\"label\" for=\"labore\">Labore</label> <input class=\"custom-range\" data-wg-type=\"slider\" id=\"labore\" type=\"slider\"> </div> <div class=\"form-group col-md\"> <label data-wg-type=\"label\" for=\"sint\">Sint</label> <input class=\"form-control\" data-wg-type=\"text\" id=\"sint\" type=\"text\"> </div> </div> <div class=\"form-row\"> <div class=\"form-group col-md\"> <label data-wg-type=\"label\" for=\"labore_cillum\">Labore cillum</label> <input class=\"form-control\" data-wg-type=\"text\" id=\"labore_cillum\" type=\"text\"> </div> <div class=\"form-group col-md\"> <label data-wg-type=\"label\" for=\"nulla\">Nulla</label> <input class=\"form-control\" data-wg-type=\"text\" id=\"nulla\" type=\"text\"> </div> <div class=\"form-group col-md\"> <label data-wg-type=\"label\" for=\"laborum\">Laborum</label> <input class=\"form-control\" data-wg-type=\"text\" id=\"laborum\" type=\"text\"> </div> </div> <div class=\"form-row\"> <div class=\"form-group col-md\"> <label data-wg-type=\"label\" for=\"laborum_laborum\">Laborum laborum</label> <input class=\"custom-range\" data-wg-type=\"slider\" id=\"laborum_laborum\" type=\"slider\"> </div> <div class=\"form-group col-md\"> <label data-wg-type=\"label\" for=\"laborum_exercitation\">Laborum exercitation</label> <input class=\"form-control\" data-wg-type=\"text\" id=\"laborum_exercitation\" type=\"text\"> </div> </div> <div class=\"form-group\"> <label data-wg-type=\"label\" for=\"exercitation\">Exercitation</label> <input class=\"form-control\" data-wg-type=\"text\" id=\"exercitation\" type=\"text\"> </div> <div class=\"form-group\"> <label data-wg-type=\"label\" for=\"ad\">Ad</label> <input class=\"form-control\" data-wg-type=\"text\" id=\"ad\" type=\"text\"> </div> <div class=\"form-row\"> <div class=\"form-group col-md\"> <label data-wg-type=\"label\" for=\"laboris_occaecat\">Laboris occaecat</label> <input class=\"form-control\" data-wg-type=\"text\" id=\"laboris_occaecat\" type=\"text\"> </div> <div class=\"form-group col-md\"> <label data-wg-type=\"label\" for=\"aliqua\">Aliqua</label> <input class=\"form-control\" data-wg-type=\"text\" id=\"aliqua\" type=\"text\"> </div> </div> </form> </div> </div> <div class=\"bg-light rounded\" data-wg-type=\"sidebar\" id=\"sidebar-wrapper\"> <div class=\"sidebar-heading\" data-wg-type=\"label\">Enim</div> <div class=\"list-group list-group-flush\" style=\"width:27vh;\"> <a class=\"list-group-item list-group-item-action\" data-wg-type=\"button\" href=\"#\">Enim anim sed</a> <a class=\"list-group-item list-group-item-action\" data-wg-type=\"button\" href=\"#\">Ea nostrud et</a> <a class=\"list-group-item list-group-item-action\" data-wg-type=\"button\" href=\"#\">Ea cillum sed</a> <a class=\"list-group-item list-group-item-action\" data-wg-type=\"button\" href=\"#\">Ea nostrud et</a> <a class=\"list-group-item list-group-item-action\" data-wg-type=\"button\" href=\"#\">Esse ullamco</a> </div> </div> </div> <footer class=\"bg-light rounded jumbotron mb-0\" data-wg-type=\"footer\" style=\"height: 17vh;\"> <div class=\"container\"> <span class=\"text-muted\" data-wg-type=\"label\">Enim aliqua aliquip commodo aliqua aliqua ullamco ex</span> </div> </footer> </div> </body> </html>\n",
            "    Answer: <!DOCTYPE html> <html> <head> <title>Dominate</title> <meta content=\"width=device-width, initial-scale=1.0\" name=\"viewport\"> <meta content=\"Web Generator\" name=\"author\"> <meta content=\"4\" name=\"wg-layout\"> <link href=\"../css/custom-bootstrap.css\" rel=\"stylesheet\"> <link href=\"../css/wg-extras.css\" rel=\"stylesheet\"> <script src=\"../js/jquery-3.2.1.slim.min.js\" type=\"text/javascript\"></script> <script src=\"../js/bootstrap.min.js\" type=\"text/javascript\"></script> </head> <body class=\"\"> <div class=\"\" id=\"full-wrapper\"> <div class=\"d-flex\"> <div class=\"w-100\"> <nav class=\"bg-light navbar-light navbar navbar-expand-md\" data-wg-type=\"navbar\"> <button class=\"navbar-toggler\" data-target=\"#main-nav\" data-toggle=\"collapse\" type=\"button\"> <span class=\"navbar-toggler-icon\"></span> </button> <div class=\"collapse navbar-collapse\" id=\"main-nav\" style=\"height: 7vh;\"> <ul class=\"navbar-nav mr-auto\"> <li class=\"nav-item\"> <a class=\"nav-link\" data-wg-type=\"button\" href=\"#\">Irure mollit</a> </li> <li class=\"nav-item\"> <a class=\"nav-link\" data-wg-type=\"button\" href=\"#\">Fugiat eu do</a> </li> </ul> </div> </nav> <div class=\"container-fluid py-3\" id=\"page-content\"> <form class=\"p-3\"> <div class=\"form-row\"> <div class=\"form-group col-md\"> <label data-wg-type=\"label\" for=\"occaecat_quis_nisi\">Occaecat quis nisi</label> <input class=\"form-control\" data-wg-type=\"text\" id=\"occaecat_quis_nisi\" type=\"text\"> </div> <div class=\"form-group col-md\"> <label data-wg-type=\"label\" for=\"cillum\">Cillum</label> <input class=\"form-control\" data-wg-type=\"text\" id=\"cillum\" type=\"text\"> </div> <div class=\"form-group col-md\"> <label data-wg-type=\"label\" for=\"nisi\">Nisi</label> <input class=\"form-control\" data-wg-type=\"text\" id=\"nisi\" type=\"text\"> </div> </div> <div class=\"form-group\"> <label data-wg-type=\"label\" for=\"nisi_sint\">Nisi sint</label> <input class=\"form-control\" data-wg-type=\"text\" id=\"nisi_sint\" type=\"text\"> </div> <div class=\"form-row\"> <div class=\"form-group col-md\"> <label data-wg-type=\"label\" for=\"pariatur_id\">Pariatur id</label> <input class=\"form-control\" data-wg-type=\"text\" id=\"pariatur_id\" type=\"text\"> </div> <div class=\"form-group col-md\"> <label data-wg-type=\"label\" for=\"est_adipiscing_aliqua\">Est adipiscing aliqua</label> <input class=\"form-control\" data-wg-type=\"text\" id=\"est_adipiscing_aliqua\" type=\"text\"> </div> <div class=\"form-group col-md\"> <label data-wg-type=\"label\" for=\"anim_nulla\">Anim nulla</label> <input class=\"form-control\" data-wg-type=\"text\" id=\"anim_nulla\" type=\"text\"> </div> </div> <div class=\"form-group\"> <label data-wg-type=\"label\" for=\"ut_cillum_nisi\">Ut cillum nisi</label> <input class=\"form-control\" data-wg-type=\"text\" id=\"ut_cillum_nisi\" type=\"text\"> </div> <div class=\"form-row\"> <div class=\"form-group col-md\"> <label data-wg-type=\"label\" for=\"sed_do\">Sed do</label> <input class=\"custom-range\" data-wg-type=\"slider\" id=\"sed_do\" type=\"slider\"> </div> <div class=\"form-group col-md\"> <label data-wg-type=\"label\" for=\"sint\">Sint</label> <input class=\"form-control\" data-wg-type=\"text\" id=\"sint\" type=\"text\"> </div> </div> <div class=\"form-row\"> <div class=\"form-group col-md\"> <label data-wg-type=\"label\" for=\"lorem_magna\">Lorem magna</label> <input class=\"form-control\" data-wg-type=\"text\" id=\"lorem_magna\" type=\"text\"> </div> <div class=\"form-group col-md\"> <label data-wg-type=\"label\" for=\"esse\">Esse</label> <input class=\"form-control\" data-wg-type=\"text\" id=\"esse\" type=\"text\"> </div> <div class=\"form-group col-md\"> <label data-wg-type=\"label\" for=\"non_anim\">Non anim</label> <input class=\"form-control\" data-wg-type=\"text\" id=\"non_anim\" type=\"text\"> </div> </div> <div class=\"form-row\"> <div class=\"form-group col-md\"> <label data-wg-type=\"label\" for=\"ullamco_voluptate\">Ullamco voluptate</label> <input class=\"custom-range\" data-wg-type=\"slider\" id=\"ullamco_voluptate\" type=\"slider\"> </div> <div class=\"form-group col-md\"> <label data-wg-type=\"label\" for=\"veniam_reprehenderit\">Veniam reprehenderit</label> <input class=\"form-control\" data-wg-type=\"text\" id=\"veniam_reprehenderit\" type=\"text\"> </div> </div> <div class=\"form-group\"> <label data-wg-type=\"label\" for=\"ut_eiusmod\">Ut eiusmod</label> <input class=\"form-control\" data-wg-type=\"text\" id=\"ut_eiusmod\" type=\"text\"> </div> <div class=\"form-group\"> <label data-wg-type=\"label\" for=\"ad\">Ad</label> <input class=\"form-control\" data-wg-type=\"text\" id=\"ad\" type=\"text\"> </div> <div class=\"form-row\"> <div class=\"form-group col-md\"> <label data-wg-type=\"label\" for=\"eu_commodo_nisi\">Eu commodo nisi</label> <input class=\"form-control\" data-wg-type=\"text\" id=\"eu_commodo_nisi\" type=\"text\"> </div> <div class=\"form-group col-md\"> <label data-wg-type=\"label\" for=\"cillum\">Cillum</label> <input class=\"form-control\" data-wg-type=\"text\" id=\"cillum\" type=\"text\"> </div> </div> </form> </div> </div> <div class=\"bg-light\" data-wg-type=\"sidebar\" id=\"sidebar-wrapper\"> <div class=\"sidebar-heading\" data-wg-type=\"label\">Ut</div> <div class=\"list-group list-group-flush\" style=\"width:24vh;\"> <a class=\"list-group-item list-group-item-action\" data-wg-type=\"button\" href=\"#\">Enim lorem ad</a> <a class=\"list-group-item list-group-item-action\" data-wg-type=\"button\" href=\"#\">Nostrud ut ea</a> <a class=\"list-group-item list-group-item-action\" data-wg-type=\"button\" href=\"#\">Ad sit ad est</a> <a class=\"list-group-item list-group-item-action\" data-wg-type=\"button\" href=\"#\">Dolor ad sit</a> <a class=\"list-group-item list-group-item-action\" data-wg-type=\"button\" href=\"#\">Excepteur et</a> </div> </div> </div> <footer class=\"bg-light jumbotron mb-0\" data-wg-type=\"footer\" style=\"height: 15vh;\"> <div class=\"container\"> <span class=\"text-muted\" data-wg-type=\"label\">Aliquip sint reprehenderit anim labore id sit est</span> </div> </footer> </div> </body> </html>\n",
            "      Bleu: 0.92\n",
            "\n",
            "Prediction: <!DOCTYPE html> <html> <head> <title>Dominate</title> <meta content=\"width=device-width, initial-scale=1.0\" name=\"viewport\"> <meta content=\"Web Generator\" name=\"author\"> <meta content=\"3\" name=\"wg-layout\"> <link href=\"../css/custom-bootstrap.css\" rel=\"stylesheet\"> <link href=\"../css/wg-extras.css\" rel=\"stylesheet\"> <script src=\"../js/jquery-3.2.1.slim.min.js\" type=\"text/javascript\"></script> <script src=\"../js/bootstrap.min.js\" type=\"text/javascript\"></script> </head> <body class=\"\"> <div class=\" shadow\" id=\"full-wrapper\"> <nav class=\"bg-light navbar-light shadow navbar navbar-expand-md\" data-wg-type=\"navbar\"> <a class=\"navbar-brand\" data-wg-type=\"label\" href=\"#\">Reprehenderit</a> <button class=\"navbar-toggler\" data-target=\"#main-nav\" data-toggle=\"collapse\" type=\"button\"> <span class=\"navbar-toggler-icon\"></span> </button> <div class=\"collapse navbar-collapse\" id=\"main-nav\" style=\"height: 10vh;\"> <ul class=\"navbar-nav mx-auto\"> <li class=\"nav-item\"> <a class=\"nav-link\" data-wg-type=\"button\" href=\"#\">Et aliquip ex</a> </li> <li class=\"nav-item\"> <a class=\"nav-link\" data-wg-type=\"button\" href=\"#\">Elit dolore</a> </li> <li class=\"nav-item\"> <a class=\"nav-link\" data-wg-type=\"button\" href=\"#\">Eiusmod aute</a> </li> </ul> </div> </nav> <header class=\"bg-light shadow d-flex align-items-center justify-content-center\" data-wg-type=\"header\" style=\"height: 21vh;\"> <h1 class=\"p-2 text-center\" data-wg-type=\"label\">Adipiscing Laborum Aute Laborum Labore Dolor Laboris</h1> </header> <div class=\"d-flex\"> <div class=\"container-fluid py-3\" id=\"page-content\"> <form class=\"p-3\"> <div class=\"form-group\"> <label data-wg-type=\"label\" for=\"laborum_nostrud\">Laborum nostrud</label> <input class=\"form-control\" data-wg-type=\"text\" id=\"laborum_nostrud\" type=\"text\"> </div> <div class=\"form-row\"> <div class=\"form-group col-md\"> <label data-wg-type=\"label\" for=\"sed_deserunt\">Sed deserunt</label> <input class=\"form-control\" data-wg-type=\"text\" id=\"sed_deserunt\" type=\"text\"> </div> <div class=\"form-group col-md\"> <label data-wg-type=\"label\" for=\"exercitation\">Exercitation</label> <input class=\"form-control\" data-wg-type=\"text\" id=\"exercitation\" type=\"text\"> </div> <div class=\"form-group col-md\"> <label data-wg-type=\"label\" for=\"labore_incididunt\">Labore incididunt</label> <input class=\"form-control\" data-wg-type=\"text\" id=\"labore_incididunt\" type=\"text\"> </div> </div> <div class=\"form-row\"> <div class=\"form-group col-md\"> <label data-wg-type=\"label\" for=\"laborum_consectetur\">Laborum consectetur</label> <input class=\"form-control\" data-wg-type=\"text\" id=\"laborum_consectetur\" type=\"text\"> </div> <div class=\"form-group col-md\"> <label data-wg-type=\"label\" for=\"sed_adipiscing\">Sed adipiscing</label> <input class=\"form-control\" data-wg-type=\"text\" id=\"sed_adipiscing\" type=\"text\"> </div> <div class=\"form-group col-md\"> <label data-wg-type=\"label\" for=\"duis\">Duis</label> <input class=\"form-control\" data-wg-type=\"text\" id=\"duis\" type=\"text\"> </div> </div> <div class=\"form-row\"> <div class=\"form-group col-md\"> <label data-wg-type=\"label\" for=\"laboris_laboris\">Laboris laboris</label> <input class=\"form-control\" data-wg-type=\"text\" id=\"laboris_laboris\" type=\"text\"> </div> <div class=\"form-group col-md\"> <label data-wg-type=\"label\" for=\"reprehenderit_laborum_aliqua\">Reprehenderit laborum aliqua</label> <input class=\"form-control\" data-wg-type=\"text\" id=\"reprehenderit_laborum_aliqua\" type=\"text\"> </div> <div class=\"form-group col-md\"> <label data-wg-type=\"label\" for=\"sed_deserunt\">Sed deserunt</label> <input class=\"form-control\" data-wg-type=\"text\" id=\"sed_deserunt\" type=\"text\"> </div> </div> <div class=\"form-group\"> <label data-wg-type=\"label\" for=\"anim\">Anim</label> <input class=\"form-control\" data-wg-type=\"text\" id=\"anim\" type=\"text\"> </div> <div class=\"form-group\"> <label data-wg-type=\"label\" for=\"laboris_consectetur\">Laboris consectetur</label> <input class=\"form-control\" data-wg-type=\"text\" id=\"laboris_consectetur\" type=\"text\"> </div> </form> </div> </div> </div> </body> </html>\n",
            "    Answer: <!DOCTYPE html> <html> <head> <title>Dominate</title> <meta content=\"width=device-width, initial-scale=1.0\" name=\"viewport\"> <meta content=\"Web Generator\" name=\"author\"> <meta content=\"4\" name=\"wg-layout\"> <link href=\"../css/custom-bootstrap.css\" rel=\"stylesheet\"> <link href=\"../css/wg-extras.css\" rel=\"stylesheet\"> <script src=\"../js/jquery-3.2.1.slim.min.js\" type=\"text/javascript\"></script> <script src=\"../js/bootstrap.min.js\" type=\"text/javascript\"></script> </head> <body class=\"\"> <div class=\" shadow\" id=\"full-wrapper\"> <div class=\"d-flex\"> <div class=\"w-100\"> <nav class=\"bg-light navbar-light shadow navbar navbar-expand-md\" data-wg-type=\"navbar\"> <a class=\"navbar-brand\" data-wg-type=\"label\" href=\"#\">Reprehenderit</a> <button class=\"navbar-toggler\" data-target=\"#main-nav\" data-toggle=\"collapse\" type=\"button\"> <span class=\"navbar-toggler-icon\"></span> </button> <div class=\"collapse navbar-collapse\" id=\"main-nav\" style=\"height: 10vh;\"> <ul class=\"navbar-nav mx-auto\"> <li class=\"nav-item\"> <a class=\"nav-link\" data-wg-type=\"button\" href=\"#\">Pariatur elit</a> </li> <li class=\"nav-item\"> <a class=\"nav-link\" data-wg-type=\"button\" href=\"#\">Elit sint do</a> </li> <li class=\"nav-item\"> <a class=\"nav-link\" data-wg-type=\"button\" href=\"#\">Nostrud do in</a> </li> </ul> </div> </nav> <header class=\"bg-light shadow d-flex align-items-center justify-content-center\" data-wg-type=\"header\" style=\"height: 20vh;\"> <h1 class=\"p-2 text-center\" data-wg-type=\"label\">Exercitation Ad Magna Consequat Ad Occaecat Mollit Do</h1> </header> <div class=\"container-fluid py-3\" id=\"page-content\"> <form class=\"p-3\"> <div class=\"form-group\"> <label data-wg-type=\"label\" for=\"voluptate_aliquip\">Voluptate aliquip</label> <input class=\"form-control\" data-wg-type=\"text\" id=\"voluptate_aliquip\" type=\"text\"> </div> <div class=\"form-row\"> <div class=\"form-group col-md\"> <label data-wg-type=\"label\" for=\"mollit_sit_velit\">Mollit sit velit</label> <input class=\"form-control\" data-wg-type=\"text\" id=\"mollit_sit_velit\" type=\"text\"> </div> <div class=\"form-group col-md\"> <label data-wg-type=\"label\" for=\"aliqua_dolor\">Aliqua dolor</label> <input class=\"form-control\" data-wg-type=\"text\" id=\"aliqua_dolor\" type=\"text\"> </div> <div class=\"form-group col-md\"> <label data-wg-type=\"label\" for=\"veniam_ea_laboris\">Veniam ea laboris</label> <input class=\"form-control\" data-wg-type=\"text\" id=\"veniam_ea_laboris\" type=\"text\"> </div> </div> <div class=\"form-row\"> <div class=\"form-group col-md\"> <label data-wg-type=\"label\" for=\"officia_dolor_eiusmod\">Officia dolor eiusmod</label> <input class=\"form-control\" data-wg-type=\"text\" id=\"officia_dolor_eiusmod\" type=\"text\"> </div> <div class=\"form-group col-md\"> <label data-wg-type=\"label\" for=\"sunt_mollit_sint\">Sunt mollit sint</label> <input class=\"form-control\" data-wg-type=\"text\" id=\"sunt_mollit_sint\" type=\"text\"> </div> <div class=\"form-group col-md\"> <label data-wg-type=\"label\" for=\"aute\">Aute</label> <input class=\"form-control\" data-wg-type=\"text\" id=\"aute\" type=\"text\"> </div> </div> <div class=\"form-row\"> <div class=\"form-group col-md\"> <label data-wg-type=\"label\" for=\"duis_commodo\">Duis commodo</label> <input class=\"form-control\" data-wg-type=\"text\" id=\"duis_commodo\" type=\"text\"> </div> <div class=\"form-group col-md\"> <label data-wg-type=\"label\" for=\"incididunt_commodo_proident\">Incididunt commodo proident</label> <input class=\"form-control\" data-wg-type=\"text\" id=\"incididunt_commodo_proident\" type=\"text\"> </div> <div class=\"form-group col-md\"> <label data-wg-type=\"label\" for=\"dolor_tempor\">Dolor tempor</label> <input class=\"form-control\" data-wg-type=\"text\" id=\"dolor_tempor\" type=\"text\"> </div> </div> <div class=\"form-group\"> <label data-wg-type=\"label\" for=\"mollit\">Mollit</label> <input class=\"form-control\" data-wg-type=\"text\" id=\"mollit\" type=\"text\"> </div> <div class=\"form-group\"> <label data-wg-type=\"label\" for=\"voluptate_in_magna\">Voluptate in magna</label> <input class=\"form-control\" data-wg-type=\"text\" id=\"voluptate_in_magna\" type=\"text\"> </div> </form> </div> </div> </div> </div> </body> </html>\n",
            "      Bleu: 0.89\n",
            "\n",
            "Prediction: <!DOCTYPE html> <html> <head> <title>Dominate</title> <meta content=\"width=device-width, initial-scale=1.0\" name=\"viewport\"> <meta content=\"Web Generator\" name=\"author\"> <meta content=\"2\" name=\"wg-layout\"> <link href=\"../css/custom-bootstrap.css\" rel=\"stylesheet\"> <link href=\"../css/wg-extras.css\" rel=\"stylesheet\"> <script src=\"../js/jquery-3.2.1.slim.min.js\" type=\"text/javascript\"></script> <script src=\"../js/bootstrap.min.js\" type=\"text/javascript\"></script> </head> <body class=\"\"> <div class=\" rounded shadow-lg\" id=\"full-wrapper\"> <nav class=\"bg-light navbar-light rounded shadow-lg navbar navbar-expand-md\" data-wg-type=\"navbar\"> <button class=\"navbar-toggler\" data-target=\"#main-nav\" data-toggle=\"collapse\" type=\"button\"> <span class=\"navbar-toggler-icon\"></span> </button> <div class=\"collapse navbar-collapse\" id=\"main-nav\" style=\"height: 3vh;\"> <ul class=\"navbar-nav mr-auto\"> <li class=\"nav-item\"> <a class=\"nav-link\" data-wg-type=\"button\" href=\"#\">Et cillum sed</a> </li> <li class=\"nav-item\"> <a class=\"nav-link\" data-wg-type=\"button\" href=\"#\">Esse cillum</a> </li> <li class=\"nav-item\"> <a class=\"nav-link\" data-wg-type=\"button\" href=\"#\">Et cillum ut</a> </li> </ul> </div> </nav> <header class=\"bg-light rounded shadow-lg d-flex align-items-center justify-content-center\" data-wg-type=\"header\" style=\"height: 33vh;\"> <h1 class=\"p-2 text-center\" data-wg-type=\"label\">Ea Laborum Ipsum Laborum</h1> </header> <div class=\"d-flex\"> <div class=\"flex-grow-1\"> <div class=\"container-fluid py-3\" id=\"page-content\"> <div class=\"row wg-detect\"> <div class=\"col\"> <div class=\"card-columns\"> <div class=\"text-black card\" data-wg-type=\"card\"> <div class=\"card-body\"> <h5 class=\"card-title\" data-wg-type=\"label\">Ea cillum commodo ut</h5> <p class=\"card-text\" data-wg-type=\"label\">Ea cillum aliquip anim aliqua commodo ullamco quis</p> <div class=\"d-flex justify-content-between align-items-center\"> <div class=\"btn-group\"> <button class=\"btn btn-sm btn-outline-secondary\" data-wg-type=\"button\" type=\"button\">Ea cillum sed</button> </div> <small class=\"text-muted\" data-wg-type=\"label\">Ea nostrud et</small> </div> </div> </div> <div class=\"text-black card\" data-wg-type=\"card\"> <div class=\"card-body\"> <h5 class=\"card-title\" data-wg-type=\"label\">Ea anim aliqua quis</h5> <p class=\"card-text\" data-wg-type=\"label\">Ea anim aliqua nostrud aliquip cillum aliqua quis</p> <div class=\"d-flex justify-content-between align-items-center\"> <div class=\"btn-group\"> <button class=\"btn btn-sm btn-outline-secondary\" data-wg-type=\"button\" type=\"button\">Ea ullamco et</button> </div> <small class=\"text-muted\" data-wg-type=\"label\">Ea commodo ad</small> </div> </div> </div> <div class=\"text-black card\" data-wg-type=\"card\"> <div class=\"card-body\"> <h5 class=\"card-title\" data-wg-type=\"label\">Ea anim aliqua quis</h5> <p class=\"card-text\" data-wg-type=\"label\">Ea cillum aliqua anim aliquip commodo ullamco quis</p> <div class=\"d-flex justify-content-between align-items-center\"> <div class=\"btn-group\"> <button class=\"btn btn-sm btn-outline-secondary\" data-wg-type=\"button\" type=\"button\">Eiusmod amet</button> </div> <small class=\"text-muted\" data-wg-type=\"label\">Eiusmod amet</small> </div> </div> </div> </div> </div> </div> <div class=\"row py-3 wg-detect\" data-wg-type=\"featured_items\"> <div class=\"col\"> <div class=\"text-center\"> <img class=\"text-black rounded-circle mx-auto shadow img\" data-wg-type=\"image\" style=\"background-color: gray;width: 64px;height: 64px;\"></img> <h2 data-wg-type=\"label\">Ea cillum commodo ut</h2> <p data-wg-type=\"label\">Ea anim aliquip cillum aliqua nostrud aliqua quis</p> <a class=\"btn btn-primary\" data-wg-type=\"button\" href=\"#\">Ea ullamco et</a> </div> </div> <div class=\"col\"> <div class=\"text-center\"> <img class=\"text-black rounded-circle mx-auto shadow img\" data-wg-type=\"image\" style=\"background-color: gray;width: 64px;height: 64px;\"></img> <h2 data-wg-type=\"label\">Ea commodo aliqua et</h2> <p data-wg-type=\"label\">Ea cillum aliqua anim aliquip ullamco aliqua quis</p> <a class=\"btn btn-primary\" data-wg-type=\"button\" href=\"#\">Ea ullamco et</a> </div> </div> </div> <div class=\"wg-detect\" data-wg-type=\"descriptive_items\"> <div class=\"row\"> <div class=\"col\"> <h2 data-wg-type=\"label\">Ea commodo aliqua aliqua.</h2> <p><br> <img class=\"float-left m-2 img\" data-wg-type=\"image\" style=\"background-color: gray;width: 293px;height: 326px;\"></img> <span data-wg-type=\"text_area\">Ea cillum aliqua aliqua. Dolor ullamco aliqua nostrud. Dolor commodo aliqua aliqua. Dolor ullamco aliqua anim. Dolor ullamco aliqua nostrud. Dolor ullamco aliquip anim. Dolor ullamco aliqua nostrud. Dolor ullamco aliqua anim. Dolor ullamco aliqua nostrud. Dolor ullamco aliquip anim. Dolor ullamco aliqua aliquip. Dolor ullamco aliqua aliquip. Dolor ullamco aliqua aliquip. Dolor ullamco aliqua aliquip. Dolor ullamco aliqua aliquip. Dolor ullamco aliquip anim. Dolor ullamco aliqua aliquip. Dolor ullamco aliquip anim. Dolor ullamco aliquip ullamco.</span> </p> </div> </div> <div class=\"row\"> <div class=\"col\"> <h2 data-wg-type=\"label\">Ea commodo aliquip cillum.</h2> <p><br> <img class=\"float-left m-2 img\" data-wg-type=\"image\" style=\"background-color: gray;width: 285px;height: 326px;\"></img> <span data-wg-type=\"text_area\">Ea cillum aliquip aliqua. Amet ullamco aliqua nostrud. Amet ullamco aliqua nostrud. Amet ullamco aliquip cillum. Amet ullamco aliquip cillum. Amet ullamco aliquip ullamco. Dolor commodo ullamco aliquip. Dolor ullamco aliquip ullamco. Dolor ullamco aliquip ullamco. Dolor ullamco aliquip ullamco. Dolor ullamco aliquip ullamco. Dolor ullamco aliquip cillum. Dolore ullamco aliquip ullamco. Dolore ullamco aliquip cillum. Dolore ullamco aliquip ullamco. Dolore ullamco aliquip ullamco. Dolore ullamco aliquip cillum. Dolore ullamco aliquip ullamco. Dolore ullamco aliquip cillum. Dolore ullamco aliquip ullamco. Dolore ullamco aliquip ullamco. Dolore ullamco aliquip cillum. Id aliquip cillum aliquip. Id aliquip ullamco aliquip. Id aliquip cillum aliquip. Id aliquip ullamco aliquip.</span> </p> </div> </div> <div class=\"row\"> <div class=\"col\"> <h2 data-wg-type=\"label\">Ea cillum aliqua aliquip.</h2> <p><br> <img class=\"float-right m-2 img\" data-wg-type=\"image\" style=\"background-color: gray;width: 285px;height: 326px;\"></img> <span data-wg-type=\"text_area\">Ea commodo aliquip ullamco. Dolor ullamco aliquip cillum. Dolore aliqua ullamco aliquip. Dolore commodo aliquip ullamco. Dolore aliqua cillum aliquip. Dolore ullamco aliquip ullamco. Dolore ullamco aliquip ullamco. Dolore ullamco aliquip ullamco. Dolore commodo aliquip ullamco. Dolore ullamco aliquip ullamco. Dolore ullamco aliquip ullamco. Irure commodo aliquip ullamco. Ipsum commodo aliquip ullamco. Id aliquip ullamco aliqua. Id aliquip ullamco aliquip.</span> </p> </div> </div> <div class=\"row\"> <div class=\"col\"> <h2 data-wg-type=\"label\">Ea commodo aliqua aliquip.</h2> <p><br> <img class=\"float-left m-2 img\" data-wg-type=\"image\" style=\"background-color: gray;width: 285px;height: 326px;\"></img> <span data-wg-type=\"text_area\">Ea cillum aliquip ullamco. Dolor commodo aliqua aliqua. Dolor ullamco aliquip ullamco. Dolor ullamco aliquip ullamco. Dolor ullamco aliquip ullamco. Dolor ullamco aliquip ullamco. Dolor commodo aliquip ullamco. Dolor ullamco aliquip ullamco. Dolor ullamco aliquip ullamco. Dolor ullamco aliquip ullamco. Dolor ullamco aliquip ullamco. Dolor ullamco aliquip ullamco. Dolor commodo aliquip ullamco. Dolor ullamco aliquip ullamco. Dolor ullamco aliquip ullamco. Dolor ullamco aliquip ullamco. Dolor ullamco aliquip ullamco. Dolor ullamco aliquip ullamco. Dolor commodo aliquip ullamco.</span> </p> </div> </div> </div> </div> <footer class=\"bg-light rounded shadow-lg jumbotron mb-0\" data-wg-type=\"footer\" style=\"height: 25vh;\"> <div class=\"container\"> <span class=\"text-muted\" data-wg-type=\"label\">Ea cillum aliqua aliquip nostrud aliqua commodo est</span> </div> </footer> </div> <div class=\"bg-light rounded shadow-lg\" data-wg-type=\"sidebar\" id=\"sidebar-wrapper\"> <div class=\"list-group list-group-flush\" style=\"width:22vh;\"> <a class=\"list-group-item list-group-item-action\" data-wg-type=\"button\" href=\"#\">Ea cillum ut</a> <a class=\"list-group-item list-group-item-action\" data-wg-type=\"button\" href=\"#\">Ea nostrud et</a> <a class=\"list-group-item list-group-item-action\" data-wg-type=\"button\" href=\"#\">Ea anim quis</a> </div> </div> </div> </div> </body> </html>\n",
            "    Answer: <!DOCTYPE html> <html> <head> <title>Dominate</title> <meta content=\"width=device-width, initial-scale=1.0\" name=\"viewport\"> <meta content=\"Web Generator\" name=\"author\"> <meta content=\"2\" name=\"wg-layout\"> <link href=\"../css/custom-bootstrap.css\" rel=\"stylesheet\"> <link href=\"../css/wg-extras.css\" rel=\"stylesheet\"> <script src=\"../js/jquery-3.2.1.slim.min.js\" type=\"text/javascript\"></script> <script src=\"../js/bootstrap.min.js\" type=\"text/javascript\"></script> </head> <body class=\"\"> <div class=\" rounded shadow-lg\" id=\"full-wrapper\"> <nav class=\"bg-light navbar-light rounded shadow-lg navbar navbar-expand-md\" data-wg-type=\"navbar\"> <button class=\"navbar-toggler\" data-target=\"#main-nav\" data-toggle=\"collapse\" type=\"button\"> <span class=\"navbar-toggler-icon\"></span> </button> <div class=\"collapse navbar-collapse\" id=\"main-nav\" style=\"height: 3vh;\"> <ul class=\"navbar-nav mr-auto\"> <li class=\"nav-item\"> <a class=\"nav-link\" data-wg-type=\"button\" href=\"#\">Consequat ex</a> </li> <li class=\"nav-item\"> <a class=\"nav-link\" data-wg-type=\"button\" href=\"#\">Dolore nulla</a> </li> <li class=\"nav-item\"> <a class=\"nav-link\" data-wg-type=\"button\" href=\"#\">Sed nisi sunt</a> </li> </ul> </div> </nav> <header class=\"bg-light rounded shadow-lg d-flex align-items-center justify-content-center\" data-wg-type=\"header\" style=\"height: 35vh;\"> <h1 class=\"p-2 text-center\" data-wg-type=\"label\">Et Officia Dolore Sunt Ullamco</h1> </header> <div class=\"d-flex\"> <div class=\"flex-grow-1\"> <div class=\"container-fluid py-3\" id=\"page-content\"> <div class=\"row wg-detect\"> <div class=\"col\"> <div class=\"card-columns\"> <div class=\"text-black card\" data-wg-type=\"card\"> <div class=\"card-body\"> <h5 class=\"card-title\" data-wg-type=\"label\">Anim reprehenderit</h5> <p class=\"card-text\" data-wg-type=\"label\">Et aliquip et cillum sit non consectetur dolor est</p> <div class=\"d-flex justify-content-between align-items-center\"> <div class=\"btn-group\"> <button class=\"btn btn-sm btn-outline-secondary\" data-wg-type=\"button\" type=\"button\">Excepteur ut</button> </div> <small class=\"text-muted\" data-wg-type=\"label\">Nostrud nisi</small> </div> </div> </div> <div class=\"text-black card\" data-wg-type=\"card\"> <div class=\"card-body\"> <h5 class=\"card-title\" data-wg-type=\"label\">Eiusmod non labore</h5> <p class=\"card-text\" data-wg-type=\"label\">Nulla esse magna incididunt tempor qui non nisi ex</p> <div class=\"d-flex justify-content-between align-items-center\"> <div class=\"btn-group\"> <button class=\"btn btn-sm btn-outline-secondary\" data-wg-type=\"button\" type=\"button\">Sint nisi et</button> </div> <small class=\"text-muted\" data-wg-type=\"label\">Irure lorem</small> </div> </div> </div> <div class=\"text-black card\" data-wg-type=\"card\"> <div class=\"card-body\"> <h5 class=\"card-title\" data-wg-type=\"label\">Duis adipiscing non</h5> <p class=\"card-text\" data-wg-type=\"label\">Elit ex lorem id cillum dolore pariatur ut eu do</p> <div class=\"d-flex justify-content-between align-items-center\"> <div class=\"btn-group\"> <button class=\"btn btn-sm btn-outline-secondary\" data-wg-type=\"button\" type=\"button\">Sed dolor id</button> </div> <small class=\"text-muted\" data-wg-type=\"label\">Sint ullamco</small> </div> </div> </div> <div class=\"text-black card\" data-wg-type=\"card\"> <div class=\"card-body\"> <h5 class=\"card-title\" data-wg-type=\"label\">Dolore aliquip elit</h5> <p class=\"card-text\" data-wg-type=\"label\">Occaecat sed dolor eu quis anim labore eiusmod in</p> <div class=\"d-flex justify-content-between align-items-center\"> <div class=\"btn-group\"> <button class=\"btn btn-sm btn-outline-secondary\" data-wg-type=\"button\" type=\"button\">Et est culpa</button> </div> <small class=\"text-muted\" data-wg-type=\"label\">Exercitation</small> </div> </div> </div> </div> </div> </div> <div class=\"row py-3 wg-detect\" data-wg-type=\"featured_items\"> <div class=\"col\"> <div class=\"text-center\"> <img class=\"text-black rounded-circle mx-auto img\" data-wg-type=\"image\" style=\"background-color: gray;width: 57px;height: 57px;\"></img> <h2 data-wg-type=\"label\">Ipsum commodo dolore</h2> <p data-wg-type=\"label\">Est sunt dolore labore aliquip est nulla veniam do</p> <a class=\"btn btn-primary\" data-wg-type=\"button\" href=\"#\">Voluptate eu</a> </div> </div> <div class=\"col\"> <div class=\"text-center\"> <img class=\"text-black rounded-circle mx-auto img\" data-wg-type=\"image\" style=\"background-color: gray;width: 57px;height: 57px;\"></img> <h2 data-wg-type=\"label\">In aliquip anim sunt</h2> <p data-wg-type=\"label\">Est pariatur et exercitation deserunt dolore culpa</p> <a class=\"btn btn-primary\" data-wg-type=\"button\" href=\"#\">Duis magna in</a> </div> </div> </div> <div class=\"wg-detect\" data-wg-type=\"descriptive_items\"> <div class=\"row\"> <div class=\"col\"> <h2 data-wg-type=\"label\">Elit do qui exercitation commodo aliquip occaecat sint.</h2> <p><br> <img class=\"float-left m-2 shadow img\" data-wg-type=\"image\" style=\"background-color: gray;width: 281px;height: 309px;\"></img> <span data-wg-type=\"text_area\">Aliquip ad ex officia. Est proident elit minim ut, ex amet cillum labore tempor, labore laborum culpa amet eiusmod laboris. Amet aute officia id amet, nostrud incididunt anim officia cillum veniam est eu. Fugiat laboris sit duis velit irure. Duis esse proident ex consequat, enim nulla sunt adipiscing culpa, tempor non occaecat in excepteur voluptate aliqua eu. Laborum aliquip pariatur adipiscing laborum, culpa laborum pariatur sunt amet non dolore proident. Adipiscing ea lorem dolore. Aliqua magna ut occaecat consequat ad, elit velit aliqua est velit aliquip magna, proident nulla qui reprehenderit minim adipiscing culpa. Tempor tempor irure consequat id in non, cillum velit deserunt cillum velit exercitation dolor. Cupidatat nostrud in dolore ullamco laborum labore. Proident aliquip ipsum aute sunt consequat cillum, veniam pariatur ipsum magna ad. Pariatur ullamco do adipiscing fugiat consectetur. Aute sit commodo aliqua cillum sunt eu nisi, ad labore ipsum aliqua nisi, esse dolor velit sint culpa amet. Aute cillum sed dolore ipsum. Voluptate enim in culpa eiusmod non magna laborum, in exercitation velit velit excepteur cupidatat, ad nisi pariatur voluptate commodo sed sunt. Deserunt in anim enim nostrud minim ad. In esse non consequat. Elit et esse ut quis. Fugiat culpa commodo enim amet irure tempor. Ad commodo officia aliquip sunt dolore excepteur, deserunt sit officia ex consequat consequat reprehenderit. Commodo ea enim tempor, aute excepteur elit pariatur dolor. Mollit laborum ut eu in culpa qui. Id id non incididunt.</span> </p> </div> </div> <div class=\"row\"> <div class=\"col\"> <h2 data-wg-type=\"label\">Minim nisi labore fugiat cupidatat, esse excepteur velit proident sit commodo.</h2> <p><br> <img class=\"float-right m-2 shadow img\" data-wg-type=\"image\" style=\"background-color: gray;width: 281px;height: 309px;\"></img> <span data-wg-type=\"text_area\">Consectetur occaecat ullamco incididunt excepteur tempor anim. Adipiscing lorem nisi adipiscing aute. Irure velit esse consequat mollit sed fugiat enim. Proident in non labore exercitation nulla magna fugiat. Sint elit cupidatat adipiscing et. Sint aliquip do excepteur elit pariatur reprehenderit enim, cupidatat quis ut sit officia sunt. Quis excepteur irure eu reprehenderit sit. Adipiscing et aliqua aliquip. Nisi irure nulla culpa enim incididunt, tempor ut est excepteur officia, do fugiat exercitation ut. Sit culpa quis do ut, aute do exercitation dolor qui sunt. Eu sunt esse cupidatat tempor labore non, eiusmod fugiat dolor non. Nisi proident dolore nulla incididunt minim nostrud ea, ut minim non anim qui velit, nulla in velit voluptate ut sint incididunt esse. Magna proident voluptate est exercitation. Elit ex enim sunt pariatur. Lorem magna ex nulla officia. Adipiscing pariatur dolore deserunt tempor aliquip sunt. Consectetur irure magna officia. Amet ullamco ea commodo nulla anim sint ad. Duis ullamco deserunt id, velit nostrud lorem duis occaecat excepteur. Esse dolore do nisi magna aliqua. Commodo aute esse esse cupidatat sint magna laborum. Proident ad officia adipiscing cillum et occaecat, ut culpa aliquip sint do magna elit sunt. Sunt culpa culpa occaecat excepteur voluptate veniam, quis pariatur nostrud amet nostrud voluptate deserunt. Nisi velit nulla dolore minim velit eiusmod dolore, consectetur lorem do lorem in tempor. Sit quis aliquip anim id esse quis, laborum quis esse qui duis deserunt.</span> </p> </div> </div> <div class=\"row\"> <div class=\"col\"> <h2 data-wg-type=\"label\">Et sint ea laborum ullamco voluptate esse.</h2> <p><br> <img class=\"float-left m-2 shadow img\" data-wg-type=\"image\" style=\"background-color: gray;width: 281px;height: 309px;\"></img> <span data-wg-type=\"text_area\">Reprehenderit et ea irure sed esse. Laborum excepteur ullamco aliqua proident velit commodo sit. Tempor in tempor ut qui ut. Minim veniam anim in. Enim esse cupidatat aliqua amet tempor culpa. Exercitation dolor ex ipsum, magna ea quis nulla consequat esse magna. Magna enim sed proident in pariatur. Sit laboris sit sunt nulla, deserunt esse minim qui nulla excepteur nisi sint. Ullamco reprehenderit minim cupidatat irure enim esse non. Enim veniam cillum veniam exercitation enim, dolore sint aliqua pariatur consectetur mollit ex. Exercitation reprehenderit amet labore mollit. Nulla in laborum qui magna sint dolore. Eiusmod laboris et velit nostrud consectetur anim reprehenderit. Reprehenderit deserunt excepteur velit tempor ut. In duis excepteur voluptate. Ea deserunt laborum elit consequat elit ex. Tempor pariatur eu nisi aliquip cupidatat et ut. Amet ea reprehenderit eu veniam amet labore, dolore ex eu velit occaecat cillum. Magna veniam in enim. Sed excepteur cupidatat lorem anim quis. Laborum consectetur eiusmod eiusmod, duis tempor sint excepteur ex sint dolor consequat, magna cillum culpa labore. Sunt reprehenderit nostrud adipiscing irure lorem. Irure lorem eiusmod proident adipiscing voluptate.</span> </p> </div> </div> </div> </div> <footer class=\"bg-light rounded shadow-lg jumbotron mb-0\" data-wg-type=\"footer\" style=\"height: 23vh;\"> <div class=\"container\"> <span class=\"text-muted\" data-wg-type=\"label\">Sit magna enim veniam adipiscing in velit irure ut</span> </div> </footer> </div> <div class=\"bg-light rounded shadow-lg\" data-wg-type=\"sidebar\" id=\"sidebar-wrapper\"> <div class=\"list-group list-group-flush\" style=\"width:23vh;\"> <a class=\"list-group-item list-group-item-action\" data-wg-type=\"button\" href=\"#\">Esse irure ea</a> <a class=\"list-group-item list-group-item-action\" data-wg-type=\"button\" href=\"#\">Nulla aliquip</a> <a class=\"list-group-item list-group-item-action\" data-wg-type=\"button\" href=\"#\">Sed sunt sit</a> </div> </div> </div> </div> </body> </html>\n",
            "      Bleu: 0.60\n",
            "\n",
            "Prediction: <!DOCTYPE html> <html> <head> <title>Dominate</title> <meta content=\"width=device-width, initial-scale=1.0\" name=\"viewport\"> <meta content=\"Web Generator\" name=\"author\"> <meta content=\"1\" name=\"wg-layout\"> <link href=\"../css/custom-bootstrap.css\" rel=\"stylesheet\"> <link href=\"../css/wg-extras.css\" rel=\"stylesheet\"> <script src=\"../js/jquery-3.2.1.slim.min.js\" type=\"text/javascript\"></script> <script src=\"../js/bootstrap.min.js\" type=\"text/javascript\"></script> </head> <body class=\"\"> <div class=\"d-flex \" id=\"full-wrapper\"> <div class=\"bg-light rounded\" data-wg-type=\"sidebar\" id=\"sidebar-wrapper\"> <div class=\"sidebar-heading\" data-wg-type=\"label\">Enim</div> <div class=\"list-group list-group-flush\" style=\"width:28vh;\"> <a class=\"list-group-item list-group-item-action\" data-wg-type=\"button\" href=\"#\">Et cillum sed</a> <a class=\"list-group-item list-group-item-action\" data-wg-type=\"button\" href=\"#\">Et cillum sed</a> <a class=\"list-group-item list-group-item-action\" data-wg-type=\"button\" href=\"#\">Et cillum sed</a> </div> </div> <div class=\"w-100\"> <nav class=\"bg-light navbar-light rounded navbar navbar-expand-md\" data-wg-type=\"navbar\"> <a class=\"navbar-brand\" data-wg-type=\"label\" href=\"#\">Velit</a> <button class=\"navbar-toggler\" data-target=\"#main-nav\" data-toggle=\"collapse\" type=\"button\"> <span class=\"navbar-toggler-icon\"></span> </button> <div class=\"collapse navbar-collapse\" id=\"main-nav\" style=\"height: 3vh;\"> <ul class=\"navbar-nav mr-auto\"> <li class=\"nav-item\"> <a class=\"nav-link\" data-wg-type=\"button\" href=\"#\">Et aliquip id</a> </li> <li class=\"nav-item\"> <a class=\"nav-link\" data-wg-type=\"button\" href=\"#\">Exercitation</a> </li> <li class=\"nav-item\"> <a class=\"nav-link\" data-wg-type=\"button\" href=\"#\">Adipiscing id</a> </li> <li class=\"nav-item\"> <a class=\"nav-link\" data-wg-type=\"button\" href=\"#\">Adipiscing id</a> </li> <li class=\"nav-item\"> <a class=\"nav-link\" data-wg-type=\"button\" href=\"#\">Et cillum est</a> </li> <li class=\"nav-item\"> <a class=\"nav-link\" data-wg-type=\"button\" href=\"#\">Et anim lorem</a> </li> </ul> </div> </nav> <div class=\"container-fluid py-3\" id=\"page-content\"> <div class=\"row py-3 wg-detect\" data-wg-type=\"featured_items\"> <div class=\"col\"> <div class=\"text-center\"> <img class=\"text-black rounded-circle mx-auto shadow img\" data-wg-type=\"image\" style=\"background-color: gray;width: 98px;height: 98px;\"></img> <h2 data-wg-type=\"label\">Esse aliqua nostrud</h2> <p data-wg-type=\"label\">Et cillum aliquip aliqua commodo ullamco nostrud ex</p> <a class=\"btn btn-primary\" data-wg-type=\"button\" href=\"#\">Ea anim aute</a> </div> </div> <div class=\"col\"> <div class=\"text-center\"> <img class=\"text-black rounded-circle mx-auto shadow img\" data-wg-type=\"image\" style=\"background-color: gray;width: 98px;height: 98px;\"></img> <h2 data-wg-type=\"label\">Enim ullamco nostrud</h2> <p data-wg-type=\"label\">Et cillum aliqua aliquip anim aliqua commodo aute</p> <a class=\"btn btn-primary\" data-wg-type=\"button\" href=\"#\">Ea aliqua et</a> </div> </div> <div class=\"col\"> <div class=\"text-center\"> <img class=\"text-black rounded-circle mx-auto shadow img\" data-wg-type=\"image\" style=\"background-color: gray;width: 98px;height: 98px;\"></img> <h2 data-wg-type=\"label\">Eiusmod aliqua qui</h2> <p data-wg-type=\"label\">Et aliqua aliqua ullamco aliquip nostrud commodo in</p> <a class=\"btn btn-primary\" data-wg-type=\"button\" href=\"#\">Eiusmod lorem</a> </div> </div> </div> </div> </div> </div> </body> </html>\n",
            "    Answer: <!DOCTYPE html> <html> <head> <title>Dominate</title> <meta content=\"width=device-width, initial-scale=1.0\" name=\"viewport\"> <meta content=\"Web Generator\" name=\"author\"> <meta content=\"1\" name=\"wg-layout\"> <link href=\"../css/custom-bootstrap.css\" rel=\"stylesheet\"> <link href=\"../css/wg-extras.css\" rel=\"stylesheet\"> <script src=\"../js/jquery-3.2.1.slim.min.js\" type=\"text/javascript\"></script> <script src=\"../js/bootstrap.min.js\" type=\"text/javascript\"></script> </head> <body class=\"\"> <div class=\"d-flex \" id=\"full-wrapper\"> <div class=\"bg-light rounded\" data-wg-type=\"sidebar\" id=\"sidebar-wrapper\"> <div class=\"sidebar-heading\" data-wg-type=\"label\">Sunt</div> <div class=\"list-group list-group-flush\" style=\"width:28vh;\"> <a class=\"list-group-item list-group-item-action\" data-wg-type=\"button\" href=\"#\">Adipiscing ad</a> <a class=\"list-group-item list-group-item-action\" data-wg-type=\"button\" href=\"#\">Consequat do</a> <a class=\"list-group-item list-group-item-action\" data-wg-type=\"button\" href=\"#\">Occaecat anim</a> </div> </div> <div class=\"w-100\"> <nav class=\"bg-light navbar-light rounded navbar navbar-expand-md\" data-wg-type=\"navbar\"> <a class=\"navbar-brand\" data-wg-type=\"label\" href=\"#\">Duis</a> <button class=\"navbar-toggler\" data-target=\"#main-nav\" data-toggle=\"collapse\" type=\"button\"> <span class=\"navbar-toggler-icon\"></span> </button> <div class=\"collapse navbar-collapse\" id=\"main-nav\" style=\"height: 8vh;\"> <ul class=\"navbar-nav mr-auto\"> <li class=\"nav-item\"> <a class=\"nav-link\" data-wg-type=\"button\" href=\"#\">Cillum sit et</a> </li> <li class=\"nav-item\"> <a class=\"nav-link\" data-wg-type=\"button\" href=\"#\">Nostrud nisi</a> </li> <li class=\"nav-item\"> <a class=\"nav-link\" data-wg-type=\"button\" href=\"#\">Pariatur esse</a> </li> <li class=\"nav-item\"> <a class=\"nav-link\" data-wg-type=\"button\" href=\"#\">Proident esse</a> </li> <li class=\"nav-item\"> <a class=\"nav-link\" data-wg-type=\"button\" href=\"#\">Excepteur ut</a> </li> <li class=\"nav-item\"> <a class=\"nav-link\" data-wg-type=\"button\" href=\"#\">Amet sint qui</a> </li> </ul> </div> </nav> <div class=\"container-fluid py-3\" id=\"page-content\"> <div class=\"row py-3 wg-detect\" data-wg-type=\"featured_items\"> <div class=\"col\"> <div class=\"text-center\"> <img class=\"text-black rounded-circle mx-auto img\" data-wg-type=\"image\" style=\"background-color: gray;width: 97px;height: 97px;\"></img> <h2 data-wg-type=\"label\">Enim magna sint elit</h2> <p data-wg-type=\"label\">Incididunt anim irure cupidatat dolor quis elit ut</p> <a class=\"btn btn-primary\" data-wg-type=\"button\" href=\"#\">Aliqua do ut</a> </div> </div> <div class=\"col\"> <div class=\"text-center\"> <img class=\"text-black rounded-circle mx-auto img\" data-wg-type=\"image\" style=\"background-color: gray;width: 97px;height: 97px;\"></img> <h2 data-wg-type=\"label\">Mollit tempor nisi</h2> <p data-wg-type=\"label\">Elit laboris aliquip reprehenderit ut fugiat enim</p> <a class=\"btn btn-primary\" data-wg-type=\"button\" href=\"#\">Ullamco ut id</a> </div> </div> <div class=\"col\"> <div class=\"text-center\"> <img class=\"text-black rounded-circle mx-auto img\" data-wg-type=\"image\" style=\"background-color: gray;width: 97px;height: 97px;\"></img> <h2 data-wg-type=\"label\">Mollit laborum culpa</h2> <p data-wg-type=\"label\">Ea quis sit do ut labore aliqua proident fugiat in</p> <a class=\"btn btn-primary\" data-wg-type=\"button\" href=\"#\">Aute labore</a> </div> </div> <div class=\"col\"> <div class=\"text-center\"> <img class=\"text-black rounded-circle mx-auto img\" data-wg-type=\"image\" style=\"background-color: gray;width: 97px;height: 97px;\"></img> <h2 data-wg-type=\"label\">Enim anim dolore qui</h2> <p data-wg-type=\"label\">Proident duis sed incididunt excepteur nulla ad in</p> <a class=\"btn btn-primary\" data-wg-type=\"button\" href=\"#\">Sunt anim est</a> </div> </div> </div> </div> </div> </div> </body> </html>\n",
            "      Bleu: 0.83\n",
            "\n",
            "Prediction: <!DOCTYPE html> <html> <head> <title>Dominate</title> <meta content=\"width=device-width, initial-scale=1.0\" name=\"viewport\"> <meta content=\"Web Generator\" name=\"author\"> <meta content=\"3\" name=\"wg-layout\"> <link href=\"../css/custom-bootstrap.css\" rel=\"stylesheet\"> <link href=\"../css/wg-extras.css\" rel=\"stylesheet\"> <script src=\"../js/jquery-3.2.1.slim.min.js\" type=\"text/javascript\"></script> <script src=\"../js/bootstrap.min.js\" type=\"text/javascript\"></script> </head> <body class=\"\"> <div class=\" shadow\" id=\"full-wrapper\"> <nav class=\"bg-light navbar-light shadow navbar navbar-expand-md\" data-wg-type=\"navbar\"> <a class=\"navbar-brand\" data-wg-type=\"label\" href=\"#\">Sed</a> <button class=\"navbar-toggler\" data-target=\"#main-nav\" data-toggle=\"collapse\" type=\"button\"> <span class=\"navbar-toggler-icon\"></span> </button> <div class=\"collapse navbar-collapse\" id=\"main-nav\" style=\"height: 3vh;\"> <ul class=\"navbar-nav ml-auto\"> <li class=\"nav-item\"> <a class=\"nav-link\" data-wg-type=\"button\" href=\"#\">Ea cillum qui</a> </li> <li class=\"nav-item\"> <a class=\"nav-link\" data-wg-type=\"button\" href=\"#\">Adipiscing ex</a> </li> <li class=\"nav-item\"> <a class=\"nav-link\" data-wg-type=\"button\" href=\"#\">Et aliquip id</a> </li> <li class=\"nav-item\"> <a class=\"nav-link\" data-wg-type=\"button\" href=\"#\">Enim nostrud</a> </li> </ul> </div> </nav> <header class=\"bg-light shadow d-flex align-items-center justify-content-center\" data-wg-type=\"header\" style=\"height: 30vh;\"> <h1 class=\"p-2 text-center\" data-wg-type=\"label\">Ea Ipsum Sit</h1> </header> <div class=\"d-flex\"> <div class=\"container-fluid py-3\" id=\"page-content\"> <form class=\"p-3\"> <div class=\"form-row\"> <div class=\"form-group col-md\"> <label data-wg-type=\"label\" for=\"sed_adipiscing\">Sed adipiscing</label> <input class=\"form-control\" data-wg-type=\"text\" id=\"sed_adipiscing\" type=\"text\"> </div> <div class=\"form-group col-md\"> <label data-wg-type=\"label\" for=\"laborum_nostrud\">Laborum nostrud</label> <input class=\"form-control\" data-wg-type=\"text\" id=\"laborum_nostrud\" type=\"text\"> </div> </div> <div class=\"form-row\"> <div class=\"form-group col-md\"> <label data-wg-type=\"label\" for=\"adipiscing\">Adipiscing</label> <input class=\"custom-range\" data-wg-type=\"slider\" id=\"adipiscing\" type=\"slider\"> </div> <div class=\"form-group col-md\"> <label data-wg-type=\"label\" for=\"laborum\">Laborum</label> <input class=\"form-control\" data-wg-type=\"text\" id=\"laborum\" type=\"text\"> </div> <div class=\"form-group col-md\"> <label data-wg-type=\"label\" for=\"labore_laboris\">Labore laboris</label> <input class=\"form-control\" data-wg-type=\"text\" id=\"labore_laboris\" type=\"text\"> </div> </div> <div class=\"form-row\"> <div class=\"form-group col-md\"> <label data-wg-type=\"label\" for=\"laborum_commodo\">Laborum commodo</label> <input class=\"form-control\" data-wg-type=\"text\" id=\"laborum_commodo\" type=\"text\"> </div> <div class=\"form-group col-md\"> <label data-wg-type=\"label\" for=\"aliquip\">Aliquip</label> <input class=\"form-control\" data-wg-type=\"text\" id=\"aliquip\" type=\"text\"> </div> <div class=\"form-group col-md\"> <label data-wg-type=\"label\" for=\"elit\">Elit</label> <input class=\"form-control\" data-wg-type=\"text\" id=\"elit\" type=\"text\"> </div> </div> <div class=\"form-group\"> <label data-wg-type=\"label\" for=\"esse\">Esse</label> <input class=\"form-control\" data-wg-type=\"text\" id=\"esse\" type=\"text\"> </div> <div class=\"form-group\"> <label data-wg-type=\"label\" for=\"sed_deserunt\">Sed deserunt</label> <input class=\"form-control\" data-wg-type=\"text\" id=\"sed_deserunt\" type=\"text\"> </div> <div class=\"form-row\"> <div class=\"form-group col-md\"> <label data-wg-type=\"label\" for=\"laboris_laboris\">Laboris laboris</label> <input class=\"form-control\" data-wg-type=\"text\" id=\"laboris_laboris\" type=\"text\"> </div> <div class=\"form-group col-md\"> <label data-wg-type=\"label\" for=\"laborum_nostrud\">Laborum nostrud</label> <input class=\"form-control\" data-wg-type=\"text\" id=\"laborum_nostrud\" type=\"text\"> </div> </div> <div class=\"form-group\"> <div class=\"custom-switch\" data-wg-type=\"checkbox_switch\"> <input class=\"custom-control-input\" id=\"laborum_exercitation\" type=\"checkbox\"> <label class=\"custom-control-label\" data-wg-type=\"checkbox_label\" for=\"laborum_exercitation\">Laborum exercitation</label> </div> </div> <div class=\"form-row\"> <div class=\"form-group col-md\"> <label data-wg-type=\"label\" for=\"laborum_laborum\">Laborum laborum</label> <input class=\"form-control\" data-wg-type=\"text\" id=\"laborum_laborum\" type=\"text\"> </div> <div class=\"form-group col-md\"> <label data-wg-type=\"label\" for=\"voluptate\">Voluptate</label> <input class=\"form-control\" data-wg-type=\"text\" id=\"voluptate\" type=\"text\"> </div> </div> <div class=\"form-group\"> <label data-wg-type=\"label\" for=\"sed_excepteur\">Sed excepteur</label> <input class=\"custom-range\" data-wg-type=\"slider\" id=\"sed_excepteur\" type=\"slider\"> </div> </form> </div> <div class=\"bg-light shadow\" data-wg-type=\"sidebar\" id=\"sidebar-wrapper\"> <div class=\"list-group list-group-flush\" style=\"width:27vh;\"> <a class=\"list-group-item list-group-item-action\" data-wg-type=\"button\" href=\"#\">Enim anim sed</a> <a class=\"list-group-item list-group-item-action\" data-wg-type=\"button\" href=\"#\">Ea nostrud ex</a> <a class=\"list-group-item list-group-item-action\" data-wg-type=\"button\" href=\"#\">Ea cillum sed</a> <a class=\"list-group-item list-group-item-action\" data-wg-type=\"button\" href=\"#\">Ea commodo ad</a> <a class=\"list-group-item list-group-item-action\" data-wg-type=\"button\" href=\"#\">Ea anim lorem</a> </div> </div> </div> </div> </body> </html>\n",
            "    Answer: <!DOCTYPE html> <html> <head> <title>Dominate</title> <meta content=\"width=device-width, initial-scale=1.0\" name=\"viewport\"> <meta content=\"Web Generator\" name=\"author\"> <meta content=\"3\" name=\"wg-layout\"> <link href=\"../css/custom-bootstrap.css\" rel=\"stylesheet\"> <link href=\"../css/wg-extras.css\" rel=\"stylesheet\"> <script src=\"../js/jquery-3.2.1.slim.min.js\" type=\"text/javascript\"></script> <script src=\"../js/bootstrap.min.js\" type=\"text/javascript\"></script> </head> <body class=\"\"> <div class=\" rounded shadow\" id=\"full-wrapper\"> <nav class=\"bg-light navbar-light rounded shadow navbar navbar-expand-md\" data-wg-type=\"navbar\"> <a class=\"navbar-brand\" data-wg-type=\"label\" href=\"#\">Velit</a> <button class=\"navbar-toggler\" data-target=\"#main-nav\" data-toggle=\"collapse\" type=\"button\"> <span class=\"navbar-toggler-icon\"></span> </button> <div class=\"collapse navbar-collapse\" id=\"main-nav\" style=\"height: 3vh;\"> <ul class=\"navbar-nav ml-auto\"> <li class=\"nav-item\"> <a class=\"nav-link\" data-wg-type=\"button\" href=\"#\">Dolore et qui</a> </li> <li class=\"nav-item\"> <a class=\"nav-link\" data-wg-type=\"button\" href=\"#\">Sed occaecat</a> </li> <li class=\"nav-item\"> <a class=\"nav-link\" data-wg-type=\"button\" href=\"#\">Magna velit</a> </li> <li class=\"nav-item\"> <a class=\"nav-link\" data-wg-type=\"button\" href=\"#\">Laboris ad ut</a> </li> </ul> </div> </nav> <header class=\"bg-light rounded shadow d-flex align-items-center justify-content-center\" data-wg-type=\"header\" style=\"height: 30vh;\"> <h1 class=\"p-2 text-center\" data-wg-type=\"label\">Fugiat Cillum</h1> </header> <div class=\"d-flex\"> <div class=\"container-fluid py-3\" id=\"page-content\"> <form class=\"p-3\"> <div class=\"form-row\"> <div class=\"form-group col-md\"> <label data-wg-type=\"label\" for=\"sunt_anim_non\">Sunt anim non</label> <input class=\"form-control\" data-wg-type=\"text\" id=\"sunt_anim_non\" type=\"text\"> </div> <div class=\"form-group col-md\"> <label data-wg-type=\"label\" for=\"eiusmod_non_sint\">Eiusmod non sint</label> <input class=\"form-control\" data-wg-type=\"text\" id=\"eiusmod_non_sint\" type=\"text\"> </div> </div> <div class=\"form-row\"> <div class=\"form-group col-md\"> <label data-wg-type=\"label\" for=\"commodo\">Commodo</label> <input class=\"custom-range\" data-wg-type=\"slider\" id=\"commodo\" type=\"slider\"> </div> <div class=\"form-group col-md\"> <label data-wg-type=\"label\" for=\"elit_nulla\">Elit nulla</label> <input class=\"form-control\" data-wg-type=\"text\" id=\"elit_nulla\" type=\"text\"> </div> <div class=\"form-group col-md\"> <label data-wg-type=\"label\" for=\"tempor_minim\">Tempor minim</label> <input class=\"form-control\" data-wg-type=\"text\" id=\"tempor_minim\" type=\"text\"> </div> </div> <div class=\"form-row\"> <div class=\"form-group col-md\"> <label data-wg-type=\"label\" for=\"commodo_deserunt\">Commodo deserunt</label> <input class=\"form-control\" data-wg-type=\"text\" id=\"commodo_deserunt\" type=\"text\"> </div> <div class=\"form-group col-md\"> <label data-wg-type=\"label\" for=\"officia\">Officia</label> <input class=\"form-control\" data-wg-type=\"text\" id=\"officia\" type=\"text\"> </div> <div class=\"form-group col-md\"> <label data-wg-type=\"label\" for=\"elit\">Elit</label> <input class=\"form-control\" data-wg-type=\"text\" id=\"elit\" type=\"text\"> </div> </div> <div class=\"form-group\"> <label data-wg-type=\"label\" for=\"quis\">Quis</label> <input class=\"form-control\" data-wg-type=\"text\" id=\"quis\" type=\"text\"> </div> <div class=\"form-group\"> <label data-wg-type=\"label\" for=\"excepteur_elit\">Excepteur elit</label> <input class=\"form-control\" data-wg-type=\"text\" id=\"excepteur_elit\" type=\"text\"> </div> <div class=\"form-row\"> <div class=\"form-group col-md\"> <label data-wg-type=\"label\" for=\"irure_incididunt\">Irure incididunt</label> <input class=\"form-control\" data-wg-type=\"text\" id=\"irure_incididunt\" type=\"text\"> </div> <div class=\"form-group col-md\"> <label data-wg-type=\"label\" for=\"ex_quis_incididunt\">Ex quis incididunt</label> <input class=\"form-control\" data-wg-type=\"text\" id=\"ex_quis_incididunt\" type=\"text\"> </div> </div> <div class=\"form-group\"> <div class=\"custom-switch\" data-wg-type=\"checkbox_switch\"> <input class=\"custom-control-input\" id=\"sint_reprehenderit_eu\" type=\"checkbox\"> <label class=\"custom-control-label\" data-wg-type=\"checkbox_label\" for=\"sint_reprehenderit_eu\">Sint reprehenderit eu</label> </div> </div> <div class=\"form-row\"> <div class=\"form-group col-md\"> <label data-wg-type=\"label\" for=\"excepteur_eu_anim\">Excepteur eu anim</label> <input class=\"form-control\" data-wg-type=\"text\" id=\"excepteur_eu_anim\" type=\"text\"> </div> <div class=\"form-group col-md\"> <label data-wg-type=\"label\" for=\"ipsum_qui\">Ipsum qui</label> <input class=\"form-control\" data-wg-type=\"text\" id=\"ipsum_qui\" type=\"text\"> </div> </div> <div class=\"form-group\"> <label data-wg-type=\"label\" for=\"eiusmod_fugiat\">Eiusmod fugiat</label> <input class=\"custom-range\" data-wg-type=\"slider\" id=\"eiusmod_fugiat\" type=\"slider\"> </div> </form> </div> <div class=\"bg-light rounded shadow\" data-wg-type=\"sidebar\" id=\"sidebar-wrapper\"> <div class=\"list-group list-group-flush\" style=\"width:28vh;\"> <a class=\"list-group-item list-group-item-action\" data-wg-type=\"button\" href=\"#\">Exercitation</a> <a class=\"list-group-item list-group-item-action\" data-wg-type=\"button\" href=\"#\">Non voluptate</a> <a class=\"list-group-item list-group-item-action\" data-wg-type=\"button\" href=\"#\">Elit aliquip</a> <a class=\"list-group-item list-group-item-action\" data-wg-type=\"button\" href=\"#\">Non laboris</a> <a class=\"list-group-item list-group-item-action\" data-wg-type=\"button\" href=\"#\">Proident est</a> </div> </div> </div> </div> </body> </html>\n",
            "      Bleu: 0.91\n",
            "\n",
            "Prediction: <!DOCTYPE html> <html> <head> <title>Dominate</title> <meta content=\"width=device-width, initial-scale=1.0\" name=\"viewport\"> <meta content=\"Web Generator\" name=\"author\"> <meta content=\"1\" name=\"wg-layout\"> <link href=\"../css/custom-bootstrap.css\" rel=\"stylesheet\"> <link href=\"../css/wg-extras.css\" rel=\"stylesheet\"> <script src=\"../js/jquery-3.2.1.slim.min.js\" type=\"text/javascript\"></script> <script src=\"../js/bootstrap.min.js\" type=\"text/javascript\"></script> </head> <body class=\"\"> <div class=\"d-flex \" id=\"full-wrapper\"> <div class=\"bg-light rounded\" data-wg-type=\"sidebar\" id=\"sidebar-wrapper\"> <div class=\"sidebar-heading\" data-wg-type=\"label\">Enim</div> <div class=\"list-group list-group-flush\" style=\"width:29vh;\"> <a class=\"list-group-item list-group-item-action\" data-wg-type=\"button\" href=\"#\">Eiusmod aute</a> <a class=\"list-group-item list-group-item-action\" data-wg-type=\"button\" href=\"#\">Eiusmod amet</a> <a class=\"list-group-item list-group-item-action\" data-wg-type=\"button\" href=\"#\">Eiusmod amet</a> <a class=\"list-group-item list-group-item-action\" data-wg-type=\"button\" href=\"#\">Et cillum est</a> <a class=\"list-group-item list-group-item-action\" data-wg-type=\"button\" href=\"#\">Eiusmod amet</a> <a class=\"list-group-item list-group-item-action\" data-wg-type=\"button\" href=\"#\">Eiusmod amet</a> </div> </div> <div class=\"w-100\"> <nav class=\"bg-light navbar-light rounded navbar navbar-expand-md\" data-wg-type=\"navbar\"> <button class=\"navbar-toggler\" data-target=\"#main-nav\" data-toggle=\"collapse\" type=\"button\"> <span class=\"navbar-toggler-icon\"></span> </button> <div class=\"collapse navbar-collapse\" id=\"main-nav\" style=\"height: 10vh;\"> <ul class=\"navbar-nav mx-auto\"> <li class=\"nav-item\"> <a class=\"nav-link\" data-wg-type=\"button\" href=\"#\">Eiusmod non</a> </li> <li class=\"nav-item\"> <a class=\"nav-link\" data-wg-type=\"button\" href=\"#\">Reprehenderit</a> </li> <li class=\"nav-item\"> <a class=\"nav-link\" data-wg-type=\"button\" href=\"#\">Eiusmod non</a> </li> </ul> </div> </nav> <header class=\"bg-light rounded d-flex align-items-center justify-content-center\" data-wg-type=\"header\" style=\"height: 20vh;\"> <h1 class=\"p-2 text-center\" data-wg-type=\"label\">Eiusmod Laborum Reprehenderit Laboris Labore</h1> </header> <div class=\"container-fluid py-3\" id=\"page-content\"> <div class=\"row py-3 wg-detect\" data-wg-type=\"featured_items\"> <div class=\"col\"> <div class=\"text-center\"> <img class=\"text-black rounded-circle mx-auto shadow img\" data-wg-type=\"image\" style=\"background-color: gray;width: 102px;height: 102px;\"></img> <h2 data-wg-type=\"label\">Enim commodo aliqua</h2> <p data-wg-type=\"label\">Enim aliqua ullamco aliquip nostrud aliqua anim et</p> <a class=\"btn btn-primary\" data-wg-type=\"button\" href=\"#\">Commodo aute</a> </div> </div> <div class=\"col\"> <div class=\"text-center\"> <img class=\"text-black rounded-circle mx-auto shadow img\" data-wg-type=\"image\" style=\"background-color: gray;width: 102px;height: 102px;\"></img> <h2 data-wg-type=\"label\">Enim nostrud aliqua</h2> <p data-wg-type=\"label\">Eiusmod aliquip aliqua commodo aliqua ullamco quis</p> <a class=\"btn btn-primary\" data-wg-type=\"button\" href=\"#\">Eiusmod aute</a> </div> </div> </div> </div> <footer class=\"bg-light jumbotron mb-0\" data-wg-type=\"footer\" style=\"height: 30vh;\"> <div class=\"container\"> <span class=\"text-muted\" data-wg-type=\"label\">Ea aliqua aliquip anim aliqua nostrud aliqua quis</span> </div> </footer> </div> </div> </body> </html>\n",
            "    Answer: <!DOCTYPE html> <html> <head> <title>Dominate</title> <meta content=\"width=device-width, initial-scale=1.0\" name=\"viewport\"> <meta content=\"Web Generator\" name=\"author\"> <meta content=\"1\" name=\"wg-layout\"> <link href=\"../css/custom-bootstrap.css\" rel=\"stylesheet\"> <link href=\"../css/wg-extras.css\" rel=\"stylesheet\"> <script src=\"../js/jquery-3.2.1.slim.min.js\" type=\"text/javascript\"></script> <script src=\"../js/bootstrap.min.js\" type=\"text/javascript\"></script> </head> <body class=\"\"> <div class=\"d-flex \" id=\"full-wrapper\"> <div class=\"bg-light rounded\" data-wg-type=\"sidebar\" id=\"sidebar-wrapper\"> <div class=\"sidebar-heading\" data-wg-type=\"label\">Labore</div> <div class=\"list-group list-group-flush\" style=\"width:29vh;\"> <a class=\"list-group-item list-group-item-action\" data-wg-type=\"button\" href=\"#\">Ad ullamco ea</a> <a class=\"list-group-item list-group-item-action\" data-wg-type=\"button\" href=\"#\">Minim laboris</a> <a class=\"list-group-item list-group-item-action\" data-wg-type=\"button\" href=\"#\">Sed lorem sit</a> <a class=\"list-group-item list-group-item-action\" data-wg-type=\"button\" href=\"#\">Quis sint et</a> <a class=\"list-group-item list-group-item-action\" data-wg-type=\"button\" href=\"#\">Nostrud in eu</a> <a class=\"list-group-item list-group-item-action\" data-wg-type=\"button\" href=\"#\">Eu non est ea</a> </div> </div> <div class=\"w-100\"> <nav class=\"bg-light navbar-light rounded navbar navbar-expand-md\" data-wg-type=\"navbar\"> <button class=\"navbar-toggler\" data-target=\"#main-nav\" data-toggle=\"collapse\" type=\"button\"> <span class=\"navbar-toggler-icon\"></span> </button> <div class=\"collapse navbar-collapse\" id=\"main-nav\" style=\"height: 9vh;\"> <ul class=\"navbar-nav mx-auto\"> <li class=\"nav-item\"> <a class=\"nav-link\" data-wg-type=\"button\" href=\"#\">Laboris dolor</a> </li> <li class=\"nav-item\"> <a class=\"nav-link\" data-wg-type=\"button\" href=\"#\">Reprehenderit</a> </li> <li class=\"nav-item\"> <a class=\"nav-link\" data-wg-type=\"button\" href=\"#\">Cupidatat ad</a> </li> </ul> </div> </nav> <header class=\"bg-light rounded d-flex align-items-center justify-content-center\" data-wg-type=\"header\" style=\"height: 19vh;\"> <h1 class=\"p-2 text-center\" data-wg-type=\"label\">Quis Mollit Lorem Magna Consectetur Tempor Non</h1> </header> <div class=\"container-fluid py-3\" id=\"page-content\"> <div class=\"row py-3 wg-detect\" data-wg-type=\"featured_items\"> <div class=\"col\"> <div class=\"text-center\"> <img class=\"text-black rounded-circle mx-auto shadow img\" data-wg-type=\"image\" style=\"background-color: gray;width: 97px;height: 97px;\"></img> <h2 data-wg-type=\"label\">Proident tempor quis</h2> <p data-wg-type=\"label\">Exercitation ut aliqua enim sint nisi cillum duis</p> <a class=\"btn btn-primary\" data-wg-type=\"button\" href=\"#\">Eiusmod culpa</a> </div> </div> <div class=\"col\"> <div class=\"text-center\"> <img class=\"text-black rounded-circle mx-auto shadow img\" data-wg-type=\"image\" style=\"background-color: gray;width: 97px;height: 97px;\"></img> <h2 data-wg-type=\"label\">Est sint ea aliquip</h2> <p data-wg-type=\"label\">Cupidatat tempor ut lorem sed non laborum quis ex</p> <a class=\"btn btn-primary\" data-wg-type=\"button\" href=\"#\">Non enim do</a> </div> </div> </div> </div> <footer class=\"bg-light rounded jumbotron mb-0\" data-wg-type=\"footer\" style=\"height: 30vh;\"> <div class=\"container\"> <span class=\"text-muted\" data-wg-type=\"label\">Ex excepteur tempor id exercitation do sit aute eu</span> </div> </footer> </div> </div> </body> </html>\n",
            "      Bleu: 0.92\n",
            "\n",
            "Prediction: <!DOCTYPE html> <html> <head> <title>Dominate</title> <meta content=\"width=device-width, initial-scale=1.0\" name=\"viewport\"> <meta content=\"Web Generator\" name=\"author\"> <meta content=\"1\" name=\"wg-layout\"> <link href=\"../css/custom-bootstrap.css\" rel=\"stylesheet\"> <link href=\"../css/wg-extras.css\" rel=\"stylesheet\"> <script src=\"../js/jquery-3.2.1.slim.min.js\" type=\"text/javascript\"></script> <script src=\"../js/bootstrap.min.js\" type=\"text/javascript\"></script> </head> <body class=\"\"> <div class=\"d-flex \" id=\"full-wrapper\"> <div class=\"bg-light rounded shadow-lg\" data-wg-type=\"sidebar\" id=\"sidebar-wrapper\"> <div class=\"sidebar-heading\" data-wg-type=\"label\">Enim</div> <div class=\"list-group list-group-flush\" style=\"width:28vh;\"> <a class=\"list-group-item list-group-item-action\" data-wg-type=\"button\" href=\"#\">Esse nostrud</a> <a class=\"list-group-item list-group-item-action\" data-wg-type=\"button\" href=\"#\">Eiusmod aute</a> <a class=\"list-group-item list-group-item-action\" data-wg-type=\"button\" href=\"#\">Et cillum sed</a> <a class=\"list-group-item list-group-item-action\" data-wg-type=\"button\" href=\"#\">Et cillum sed</a> <a class=\"list-group-item list-group-item-action\" data-wg-type=\"button\" href=\"#\">Et anim lorem</a> </div> </div> <div class=\"w-100\"> <nav class=\"bg-light navbar-light rounded shadow-lg navbar navbar-expand-md\" data-wg-type=\"navbar\"> <a class=\"navbar-brand\" data-wg-type=\"label\" href=\"#\">Amet</a> <button class=\"navbar-toggler\" data-target=\"#main-nav\" data-toggle=\"collapse\" type=\"button\"> <span class=\"navbar-toggler-icon\"></span> </button> <div class=\"collapse navbar-collapse\" id=\"main-nav\" style=\"height: 8vh;\"> <ul class=\"navbar-nav ml-auto\"> <li class=\"nav-item\"> <a class=\"nav-link\" data-wg-type=\"button\" href=\"#\">Enim nostrud</a> </li> <li class=\"nav-item\"> <a class=\"nav-link\" data-wg-type=\"button\" href=\"#\">Eiusmod amet</a> </li> <li class=\"nav-item\"> <a class=\"nav-link\" data-wg-type=\"button\" href=\"#\">Adipiscing ex</a> </li> <li class=\"nav-item\"> <a class=\"nav-link\" data-wg-type=\"button\" href=\"#\">Et cillum sed</a> </li> <li class=\"nav-item\"> <a class=\"nav-link\" data-wg-type=\"button\" href=\"#\">Eiusmod aute</a> </li> </ul> </div> </nav> <div class=\"container-fluid py-3\" id=\"page-content\"> <div class=\"my-3 wg-detect carousel slide\" data-ride=\"carousel\" data-wg-type=\"carousel\" id=\"carousel-ele-0\"> <ol class=\"carousel-indicators\"> <li class=\"active\" data-slide-to=\"0\" data-target=\"#carousel-ele-0\"></li> <li class=\"\" data-slide-to=\"1\" data-target=\"#carousel-ele-0\"></li> <li class=\"\" data-slide-to=\"2\" data-target=\"#carousel-ele-0\"></li> </ol> <div class=\"carousel-inner\"> <div class=\"carousel-item active\"> <div class=\"d-block w-100 text-center\" style=\"background-color: darkgrey; height: 18vh;\"> <h1 class=\"pt-5\">Et cillum commodo in</h1> </div> </div> <div class=\"carousel-item\"> <div class=\"d-block w-100 text-center\" style=\"background-color: darkgrey; height: 18vh;\"> <h1 class=\"pt-5\">Et anim aliqua quis</h1> </div> </div> <div class=\"carousel-item\"> <div class=\"d-block w-100 text-center\" style=\"background-color: darkgrey; height: 18vh;\"> <h1 class=\"pt-5\">Et cillum ullamco ut</h1> </div> </div> </div> <a class=\"carousel-control-prev\" data-slide=\"prev\" href=\"#carousel-ele-0\" role=\"button\"> <span class=\"carousel-control-prev-icon\"></span> </a> <a class=\"carousel-control-next\" data-slide=\"next\" href=\"#carousel-ele-0\" role=\"button\"> <span class=\"carousel-control-next-icon\"></span> </a> </div> <div class=\"row py-3 wg-detect\" data-wg-type=\"featured_items\"> <div class=\"col\"> <div class=\"text-center\"> <img class=\"text-black rounded-circle mx-auto shadow img\" data-wg-type=\"image\" style=\"background-color: gray;width: 88px;height: 88px;\"></img> <h2 data-wg-type=\"label\">Enim aliqua nostrud</h2> <p data-wg-type=\"label\">Et cillum aliquip ullamco aliqua nostrud commodo ut</p> <a class=\"btn btn-primary\" data-wg-type=\"button\" href=\"#\">Ea aliquip id</a> </div> </div> <div class=\"col\"> <div class=\"text-center\"> <img class=\"text-black rounded-circle mx-auto shadow img\" data-wg-type=\"image\" style=\"background-color: gray;width: 88px;height: 88px;\"></img> <h2 data-wg-type=\"label\">Enim ullamco nostrud</h2> <p data-wg-type=\"label\">Et anim aliqua aliquip anim aliqua nostrud cillum</p> <a class=\"btn btn-primary\" data-wg-type=\"button\" href=\"#\">Ea aliqua est</a> </div> </div> <div class=\"col\"> <div class=\"text-center\"> <img class=\"text-black rounded-circle mx-auto shadow img\" data-wg-type=\"image\" style=\"background-color: gray;width: 88px;height: 88px;\"></img> <h2 data-wg-type=\"label\">Enim ullamco nostrud</h2> <p data-wg-type=\"label\">Et cillum aliqua aliquip anim aliqua commodo quis</p> <a class=\"btn btn-primary\" data-wg-type=\"button\" href=\"#\">Eiusmod aute</a> </div> </div> <div class=\"col\"> <div class=\"text-center\"> <img class=\"text-black rounded-circle mx-auto shadow img\" data-wg-type=\"image\" style=\"background-color: gray;width: 88px;height: 88px;\"></img> <h2 data-wg-type=\"label\">Enim nostrud cillum</h2> <p data-wg-type=\"label\">Et anim aliqua aliquip ullamco aliqua nostrud quis</p> <a class=\"btn btn-primary\" data-wg-type=\"button\" href=\"#\">Eiusmod aute</a> </div> </div> <div class=\"col\"> <div class=\"text-center\"> <img class=\"text-black rounded-circle mx-auto shadow img\" data-wg-type=\"image\" style=\"background-color: gray;width: 88px;height: 88px;\"></img> <h2 data-wg-type=\"label\">Eiusmod commodo qui</h2> <p data-wg-type=\"label\">Et cillum aliquip ullamco aliqua nostrud commodo in</p> <a class=\"btn btn-primary\" data-wg-type=\"button\" href=\"#\">Eiusmod amet</a> </div> </div> </div> </div> <footer class=\"bg-light rounded shadow-lg jumbotron mb-0\" data-wg-type=\"footer\" style=\"height: 20vh;\"> <div class=\"container\"> <span class=\"text-muted\" data-wg-type=\"label\">Ea aliquip ullamco aliqua nostrud aliqua anim quis</span> </div> </footer> </div> </div> </body> </html>\n",
            "    Answer: <!DOCTYPE html> <html> <head> <title>Dominate</title> <meta content=\"width=device-width, initial-scale=1.0\" name=\"viewport\"> <meta content=\"Web Generator\" name=\"author\"> <meta content=\"1\" name=\"wg-layout\"> <link href=\"../css/custom-bootstrap.css\" rel=\"stylesheet\"> <link href=\"../css/wg-extras.css\" rel=\"stylesheet\"> <script src=\"../js/jquery-3.2.1.slim.min.js\" type=\"text/javascript\"></script> <script src=\"../js/bootstrap.min.js\" type=\"text/javascript\"></script> </head> <body class=\"\"> <div class=\"d-flex \" id=\"full-wrapper\"> <div class=\"bg-light shadow-lg\" data-wg-type=\"sidebar\" id=\"sidebar-wrapper\"> <div class=\"sidebar-heading\" data-wg-type=\"label\">Duis</div> <div class=\"list-group list-group-flush\" style=\"width:25vh;\"> <a class=\"list-group-item list-group-item-action\" data-wg-type=\"button\" href=\"#\">Adipiscing eu</a> <a class=\"list-group-item list-group-item-action\" data-wg-type=\"button\" href=\"#\">Adipiscing id</a> <a class=\"list-group-item list-group-item-action\" data-wg-type=\"button\" href=\"#\">Elit ut non</a> <a class=\"list-group-item list-group-item-action\" data-wg-type=\"button\" href=\"#\">Pariatur do</a> <a class=\"list-group-item list-group-item-action\" data-wg-type=\"button\" href=\"#\">Cupidatat eu</a> </div> </div> <div class=\"w-100\"> <nav class=\"bg-light navbar-light shadow-lg navbar navbar-expand-md\" data-wg-type=\"navbar\"> <a class=\"navbar-brand\" data-wg-type=\"label\" href=\"#\">Mollit</a> <button class=\"navbar-toggler\" data-target=\"#main-nav\" data-toggle=\"collapse\" type=\"button\"> <span class=\"navbar-toggler-icon\"></span> </button> <div class=\"collapse navbar-collapse\" id=\"main-nav\" style=\"height: 8vh;\"> <ul class=\"navbar-nav ml-auto\"> <li class=\"nav-item\"> <a class=\"nav-link\" data-wg-type=\"button\" href=\"#\">Proident duis</a> </li> <li class=\"nav-item\"> <a class=\"nav-link\" data-wg-type=\"button\" href=\"#\">Voluptate non</a> </li> <li class=\"nav-item\"> <a class=\"nav-link\" data-wg-type=\"button\" href=\"#\">Occaecat sint</a> </li> <li class=\"nav-item\"> <a class=\"nav-link\" data-wg-type=\"button\" href=\"#\">Eiusmod sint</a> </li> <li class=\"nav-item\"> <a class=\"nav-link\" data-wg-type=\"button\" href=\"#\">Do elit minim</a> </li> </ul> </div> </nav> <div class=\"container-fluid py-3\" id=\"page-content\"> <div class=\"my-3 wg-detect carousel slide\" data-ride=\"carousel\" data-wg-type=\"carousel\" id=\"carousel-ele-0\"> <ol class=\"carousel-indicators\"> <li class=\"active\" data-slide-to=\"0\" data-target=\"#carousel-ele-0\"></li> <li class=\"\" data-slide-to=\"1\" data-target=\"#carousel-ele-0\"></li> <li class=\"\" data-slide-to=\"2\" data-target=\"#carousel-ele-0\"></li> </ol> <div class=\"carousel-inner\"> <div class=\"carousel-item active\"> <div class=\"d-block w-100 text-center\" style=\"background-color: darkgrey; height: 16vh;\"> <h1 class=\"pt-5\">Labore consequat in</h1> </div> </div> <div class=\"carousel-item\"> <div class=\"d-block w-100 text-center\" style=\"background-color: darkgrey; height: 16vh;\"> <h1 class=\"pt-5\">Cillum irure est ea</h1> </div> </div> <div class=\"carousel-item\"> <div class=\"d-block w-100 text-center\" style=\"background-color: darkgrey; height: 16vh;\"> <h1 class=\"pt-5\">Ipsum amet lorem id</h1> </div> </div> </div> <a class=\"carousel-control-prev\" data-slide=\"prev\" href=\"#carousel-ele-0\" role=\"button\"> <span class=\"carousel-control-prev-icon\"></span> </a> <a class=\"carousel-control-next\" data-slide=\"next\" href=\"#carousel-ele-0\" role=\"button\"> <span class=\"carousel-control-next-icon\"></span> </a> </div> <div class=\"row py-3 wg-detect\" data-wg-type=\"featured_items\"> <div class=\"col\"> <div class=\"text-center\"> <img class=\"text-black rounded-circle mx-auto img\" data-wg-type=\"image\" style=\"background-color: gray;width: 84px;height: 84px;\"></img> <h2 data-wg-type=\"label\">Aliquip in officia</h2> <p data-wg-type=\"label\">Amet voluptate sunt elit enim esse laborum irure</p> <a class=\"btn btn-primary\" data-wg-type=\"button\" href=\"#\">Officia esse</a> </div> </div> <div class=\"col\"> <div class=\"text-center\"> <img class=\"text-black rounded-circle mx-auto img\" data-wg-type=\"image\" style=\"background-color: gray;width: 84px;height: 84px;\"></img> <h2 data-wg-type=\"label\">Cupidatat eu amet ea</h2> <p data-wg-type=\"label\">Officia aute est occaecat enim deserunt nostrud in</p> <a class=\"btn btn-primary\" data-wg-type=\"button\" href=\"#\">Cillum mollit</a> </div> </div> <div class=\"col\"> <div class=\"text-center\"> <img class=\"text-black rounded-circle mx-auto img\" data-wg-type=\"image\" style=\"background-color: gray;width: 84px;height: 84px;\"></img> <h2 data-wg-type=\"label\">Deserunt eiusmod id</h2> <p data-wg-type=\"label\">Veniam deserunt adipiscing aliquip id ea sed non</p> <a class=\"btn btn-primary\" data-wg-type=\"button\" href=\"#\">Ea incididunt</a> </div> </div> <div class=\"col\"> <div class=\"text-center\"> <img class=\"text-black rounded-circle mx-auto img\" data-wg-type=\"image\" style=\"background-color: gray;width: 84px;height: 84px;\"></img> <h2 data-wg-type=\"label\">Voluptate qui enim</h2> <p data-wg-type=\"label\">Sunt culpa est cupidatat laborum dolor proident et</p> <a class=\"btn btn-primary\" data-wg-type=\"button\" href=\"#\">Aliqua sed do</a> </div> </div> </div> </div> <footer class=\"bg-light shadow-lg jumbotron mb-0\" data-wg-type=\"footer\" style=\"height: 20vh;\"> <div class=\"container\"> <span class=\"text-muted\" data-wg-type=\"label\">Excepteur cillum nisi elit proident sit eiusmod et</span> </div> </footer> </div> </div> </body> </html>\n",
            "      Bleu: 0.86\n"
          ]
        },
        {
          "output_type": "stream",
          "name": "stderr",
          "text": [
            "Epoch 9/9 - valid loop: 100%|██████████| 2/2 [12:41<00:00, 380.90s/it, bleu_score=0.831]"
          ]
        },
        {
          "output_type": "stream",
          "name": "stdout",
          "text": [
            "\n",
            "Prediction: <!DOCTYPE html> <html> <head> <title>Dominate</title> <meta content=\"width=device-width, initial-scale=1.0\" name=\"viewport\"> <meta content=\"Web Generator\" name=\"author\"> <meta content=\"3\" name=\"wg-layout\"> <link href=\"../css/custom-bootstrap.css\" rel=\"stylesheet\"> <link href=\"../css/wg-extras.css\" rel=\"stylesheet\"> <script src=\"../js/jquery-3.2.1.slim.min.js\" type=\"text/javascript\"></script> <script src=\"../js/bootstrap.min.js\" type=\"text/javascript\"></script> </head> <body class=\"\"> <div class=\"\" id=\"full-wrapper\"> <nav class=\"bg-light navbar-light navbar navbar-expand-md\" data-wg-type=\"navbar\"> <button class=\"navbar-toggler\" data-target=\"#main-nav\" data-toggle=\"collapse\" type=\"button\"> <span class=\"navbar-toggler-icon\"></span> </button> <div class=\"collapse navbar-collapse\" id=\"main-nav\" style=\"height: 10vh;\"> <ul class=\"navbar-nav ml-auto\"> <li class=\"nav-item\"> <a class=\"nav-link\" data-wg-type=\"button\" href=\"#\">Esse laboris</a> </li> <li class=\"nav-item\"> <a class=\"nav-link\" data-wg-type=\"button\" href=\"#\">Commodo minim</a> </li> <li class=\"nav-item\"> <a class=\"nav-link\" data-wg-type=\"button\" href=\"#\">Et cillum sit</a> </li> <li class=\"nav-item\"> <a class=\"nav-link\" data-wg-type=\"button\" href=\"#\">Exercitation</a> </li> </ul> </div> </nav> <div class=\"d-flex\"> <div class=\"bg-light\" data-wg-type=\"sidebar\" id=\"sidebar-wrapper\"> <div class=\"list-group list-group-flush\" style=\"width:28vh;\"> <a class=\"list-group-item list-group-item-action\" data-wg-type=\"button\" href=\"#\">Esse commodo</a> <a class=\"list-group-item list-group-item-action\" data-wg-type=\"button\" href=\"#\">Et anim quis</a> </div> </div> <div class=\"container-fluid py-3\" id=\"page-content\"> <div class=\"wg-detect\" data-wg-type=\"descriptive_items\"> <div class=\"row\"> <div class=\"col\"> <h2 data-wg-type=\"label\">Esse cillum aliquip aliqua.</h2> <p><br> <img class=\"float-left m-2 img\" data-wg-type=\"image\" style=\"background-color: gray;width: 294px;height: 356px;\"></img> <span data-wg-type=\"text_area\">Et anim aliqua aliquip. Dolor commodo anim aliqua. Dolor ullamco aliquip anim. Dolor commodo anim aliqua. Dolor ullamco aliquip anim. Dolor commodo ullamco aliqua. Dolor anim aliqua aliquip. Dolor anim aliqua aliquip. Dolor anim aliqua aliquip. Dolor anim aliqua aliquip. Dolor anim aliqua aliquip. Dolor anim aliqua aliquip. Dolor anim aliqua aliquip. Dolor commodo anim aliqua. Dolor anim aliqua aliquip. Dolor anim aliqua aliquip. Dolor anim aliqua aliquip. Dolor commodo ullamco aliquip. Dolor anim aliquip aliquip. Dolor anim aliqua aliquip. Dolor anim aliquip aliquip. Dolor commodo anim aliqua. Dolor anim aliquip aliquip. Dolor anim aliquip aliquip. Dolor anim aliquip aliquip. Dolor commodo ullamco aliquip. Dolor anim aliquip aliquip. Dolor anim aliquip aliquip. Dolor anim aliqua aliquip.</span> </p> </div> </div> <div class=\"row\"> <div class=\"col\"> <h2 data-wg-type=\"label\">Esse commodo aliqua aliquip.</h2> <p><br> <img class=\"mx-auto m-2 shadow img\" data-wg-type=\"image\" style=\"background-color: gray;width: 294px;height: 358px;\"></img> <span data-wg-type=\"text_area\">Ea cillum aliqua aliquip. Dolor anim aliqua aliqua. Dolor anim aliqua aliquip. Dolor anim aliqua aliquip. Dolor ullamco aliquip ullamco. Dolor ullamco aliquip ullamco. Dolor ullamco aliquip ullamco. Dolor ullamco cillum aliqua. Dolor ullamco cillum aliqua. Dolor ullamco cillum aliqua. Dolor ullamco cillum aliqua. Dolor ullamco cillum aliqua. Dolor ullamco aliquip ullamco. Dolor ullamco aliquip ullamco. Dolor ullamco aliquip ullamco. Dolor ullamco aliquip ullamco. Dolor ullamco aliquip ullamco. Dolor ullamco aliquip ullamco. Dolor ullamco aliquip cillum. Dolor ullamco cillum aliqua. Dolor ullamco cillum aliquip. Dolor ullamco aliquip ullamco. Dolor ullamco aliquip ullamco. Dolor commodo aliquip ullamco. Dolor ullamco aliquip ullamco. Dolor ullamco aliquip ullamco. Dolor ullamco aliquip ullamco. Dolor ullamco aliquip cillum. Dolor ullamco aliquip ullamco. Dolor ullamco aliquip ullamco. Dolor ullamco aliquip cillum. Dolor ullamco aliquip ullamco. Dolor commodo ullamco aliquip.</span> </p> </div> </div> </div> <div class=\"my-3 wg-detect carousel slide\" data-ride=\"carousel\" data-wg-type=\"carousel\" id=\"carousel-ele-1\"> <ol class=\"carousel-indicators\"> <li class=\"active\" data-slide-to=\"0\" data-target=\"#carousel-ele-1\"></li> <li class=\"\" data-slide-to=\"1\" data-target=\"#carousel-ele-1\"></li> <li class=\"\" data-slide-to=\"2\" data-target=\"#carousel-ele-1\"></li> <li class=\"\" data-slide-to=\"3\" data-target=\"#carousel-ele-1\"></li> </ol> <div class=\"carousel-inner\"> <div class=\"carousel-item active\"> <div class=\"d-block w-100 text-center\" style=\"background-color: darkgrey; height: 35vh;\"> <h1 class=\"pt-5\">Et cillum aliqua est</h1> </div> </div> <div class=\"carousel-item\"> <div class=\"d-block w-100 text-center\" style=\"background-color: darkgrey; height: 35vh;\"> <h1 class=\"pt-5\">Ea commodo aliqua ut</h1> </div> </div> <div class=\"carousel-item\"> <div class=\"d-block w-100 text-center\" style=\"background-color: darkgrey; height: 35vh;\"> <h1 class=\"pt-5\">Ea ullamco nostrud</h1> </div> </div> <div class=\"carousel-item\"> <div class=\"d-block w-100 text-center\" style=\"background-color: darkgrey; height: 35vh;\"> <h1 class=\"pt-5\">Ea ullamco nostrud</h1> </div> </div> </div> <a class=\"carousel-control-prev\" data-slide=\"prev\" href=\"#carousel-ele-1\" role=\"button\"> <span class=\"carousel-control-prev-icon\"></span> </a> <a class=\"carousel-control-next\" data-slide=\"next\" href=\"#carousel-ele-1\" role=\"button\"> <span class=\"carousel-control-next-icon\"></span> </a> </div> </div> </div> </div> </body> </html>\n",
            "    Answer: <!DOCTYPE html> <html> <head> <title>Dominate</title> <meta content=\"width=device-width, initial-scale=1.0\" name=\"viewport\"> <meta content=\"Web Generator\" name=\"author\"> <meta content=\"3\" name=\"wg-layout\"> <link href=\"../css/custom-bootstrap.css\" rel=\"stylesheet\"> <link href=\"../css/wg-extras.css\" rel=\"stylesheet\"> <script src=\"../js/jquery-3.2.1.slim.min.js\" type=\"text/javascript\"></script> <script src=\"../js/bootstrap.min.js\" type=\"text/javascript\"></script> </head> <body class=\"\"> <div class=\"\" id=\"full-wrapper\"> <nav class=\"bg-light navbar-light navbar navbar-expand-md\" data-wg-type=\"navbar\"> <button class=\"navbar-toggler\" data-target=\"#main-nav\" data-toggle=\"collapse\" type=\"button\"> <span class=\"navbar-toggler-icon\"></span> </button> <div class=\"collapse navbar-collapse\" id=\"main-nav\" style=\"height: 10vh;\"> <ul class=\"navbar-nav ml-auto\"> <li class=\"nav-item\"> <a class=\"nav-link\" data-wg-type=\"button\" href=\"#\">Et sit non ea</a> </li> <li class=\"nav-item\"> <a class=\"nav-link\" data-wg-type=\"button\" href=\"#\">Commodo id ea</a> </li> <li class=\"nav-item\"> <a class=\"nav-link\" data-wg-type=\"button\" href=\"#\">Id veniam in</a> </li> <li class=\"nav-item\"> <a class=\"nav-link\" data-wg-type=\"button\" href=\"#\">Incididunt eu</a> </li> </ul> </div> </nav> <div class=\"d-flex\"> <div class=\"bg-light\" data-wg-type=\"sidebar\" id=\"sidebar-wrapper\"> <div class=\"list-group list-group-flush\" style=\"width:25vh;\"> <a class=\"list-group-item list-group-item-action\" data-wg-type=\"button\" href=\"#\">Consequat sed</a> <a class=\"list-group-item list-group-item-action\" data-wg-type=\"button\" href=\"#\">Aliqua magna</a> </div> </div> <div class=\"container-fluid py-3\" id=\"page-content\"> <div class=\"wg-detect\" data-wg-type=\"descriptive_items\"> <div class=\"row\"> <div class=\"col\"> <h2 data-wg-type=\"label\">Quis id est elit enim exercitation qui.</h2> <p><br> <img class=\"float-left m-2 shadow img\" data-wg-type=\"image\" style=\"background-color: gray;width: 300px;height: 390px;\"></img> <span data-wg-type=\"text_area\">Eiusmod deserunt sed dolor sit exercitation proident. Consectetur in enim incididunt nulla officia incididunt sint, officia ut aliqua ea eu. Anim ipsum sint commodo officia. Minim officia tempor exercitation qui ut in eiusmod. Proident proident et non. Officia consequat exercitation id. Sed aute labore non ex, nulla nostrud commodo in id commodo consectetur. Laborum eiusmod dolore ut nostrud. Dolor ad consectetur dolore excepteur. Nulla amet exercitation tempor ipsum labore sit nulla. Reprehenderit nostrud lorem sit consequat sunt deserunt. Labore do nulla deserunt. Laboris lorem exercitation nostrud ut. Amet pariatur velit nulla sed labore cillum, minim laborum laboris minim eu, adipiscing aliquip aute dolore dolor lorem sint proident. Eiusmod nostrud non dolor, irure irure est consequat. Consequat cillum do ullamco ullamco ullamco, do aliquip ut lorem magna, sunt laboris mollit ipsum anim. Anim in eu ad occaecat reprehenderit velit, adipiscing amet culpa pariatur ea sunt. Quis nostrud deserunt nostrud pariatur aute, dolor eiusmod ea labore veniam in commodo. Esse quis laborum aliquip. Sit aliquip proident pariatur qui, cupidatat pariatur amet reprehenderit sint tempor incididunt, nostrud ullamco nisi ad ad in. Culpa sint deserunt dolore. Consequat quis nulla commodo sit commodo minim labore. Id veniam amet ex.</span> </p> </div> </div> <div class=\"row\"> <div class=\"col\"> <h2 data-wg-type=\"label\">Duis elit officia dolore.</h2> <p><br> <img class=\"mx-auto m-2 shadow img\" data-wg-type=\"image\" style=\"background-color: gray;width: 300px;height: 390px;\"></img> <span data-wg-type=\"text_area\">Tempor excepteur nostrud do elit, aliquip id voluptate ea in. Excepteur officia magna enim reprehenderit mollit minim labore. Ullamco ea eiusmod amet sunt ex, esse id reprehenderit consequat id et. Dolor dolore ut qui, tempor consequat eu occaecat veniam, irure enim quis id minim culpa reprehenderit adipiscing. Ullamco do anim sit culpa reprehenderit lorem. Eiusmod cillum lorem sunt laborum officia elit. In et veniam minim nisi. Anim officia voluptate mollit ad cupidatat officia do, id aute labore eu nulla esse cillum. Mollit elit fugiat deserunt magna duis, amet et aliquip nisi ad tempor in, pariatur ipsum pariatur velit id pariatur amet magna. Fugiat proident occaecat fugiat et aliqua. Qui aute dolor ea aute sunt, nulla adipiscing anim elit, do ut dolor veniam officia ut. Non ad excepteur duis elit enim voluptate adipiscing. Aliqua velit enim nostrud ad laborum. Irure laborum ex eu. Dolor occaecat pariatur eu magna reprehenderit. Id aliquip laborum mollit non officia non, velit pariatur sunt minim commodo non dolore, duis duis esse id amet anim. Esse amet aliquip exercitation cillum ut. Pariatur veniam quis nisi culpa magna fugiat. Anim et deserunt aute dolor do eiusmod. Occaecat ipsum amet incididunt. Consequat ipsum ullamco tempor nisi aliqua laboris, excepteur officia occaecat sit cupidatat nostrud eiusmod. In elit nostrud sint fugiat dolor. Esse excepteur proident ad consectetur cillum magna. Laboris velit cillum voluptate minim dolor. Sit occaecat cupidatat ea tempor culpa cupidatat. Ad nulla deserunt enim, in et culpa id consequat ut duis veniam, sit anim irure eiusmod ea. Culpa minim consectetur ullamco pariatur id. Minim sed culpa occaecat nisi sunt quis consectetur, occaecat aliquip sint aliqua tempor officia.</span> </p> </div> </div> </div> <div class=\"my-3 wg-detect carousel slide\" data-ride=\"carousel\" data-wg-type=\"carousel\" id=\"carousel-ele-1\"> <ol class=\"carousel-indicators\"> <li class=\"active\" data-slide-to=\"0\" data-target=\"#carousel-ele-1\"></li> <li class=\"\" data-slide-to=\"1\" data-target=\"#carousel-ele-1\"></li> <li class=\"\" data-slide-to=\"2\" data-target=\"#carousel-ele-1\"></li> <li class=\"\" data-slide-to=\"3\" data-target=\"#carousel-ele-1\"></li> </ol> <div class=\"carousel-inner\"> <div class=\"carousel-item active\"> <div class=\"d-block w-100 text-center\" style=\"background-color: darkgrey; height: 32vh;\"> <h1 class=\"pt-5\">Reprehenderit velit</h1> </div> </div> <div class=\"carousel-item\"> <div class=\"d-block w-100 text-center\" style=\"background-color: darkgrey; height: 32vh;\"> <h1 class=\"pt-5\">Dolor ullamco est eu</h1> </div> </div> <div class=\"carousel-item\"> <div class=\"d-block w-100 text-center\" style=\"background-color: darkgrey; height: 32vh;\"> <h1 class=\"pt-5\">Nostrud do magna ea</h1> </div> </div> <div class=\"carousel-item\"> <div class=\"d-block w-100 text-center\" style=\"background-color: darkgrey; height: 32vh;\"> <h1 class=\"pt-5\">Anim commodo dolor</h1> </div> </div> </div> <a class=\"carousel-control-prev\" data-slide=\"prev\" href=\"#carousel-ele-1\" role=\"button\"> <span class=\"carousel-control-prev-icon\"></span> </a> <a class=\"carousel-control-next\" data-slide=\"next\" href=\"#carousel-ele-1\" role=\"button\"> <span class=\"carousel-control-next-icon\"></span> </a> </div> </div> </div> </div> </body> </html>\n",
            "      Bleu: 0.92\n",
            "\n",
            "Prediction: <!DOCTYPE html> <html> <head> <title>Dominate</title> <meta content=\"width=device-width, initial-scale=1.0\" name=\"viewport\"> <meta content=\"Web Generator\" name=\"author\"> <meta content=\"1\" name=\"wg-layout\"> <link href=\"../css/custom-bootstrap.css\" rel=\"stylesheet\"> <link href=\"../css/wg-extras.css\" rel=\"stylesheet\"> <script src=\"../js/jquery-3.2.1.slim.min.js\" type=\"text/javascript\"></script> <script src=\"../js/bootstrap.min.js\" type=\"text/javascript\"></script> </head> <body class=\"\"> <div class=\"d-flex \" id=\"full-wrapper\"> <div class=\"w-100\"> <nav class=\"bg-light navbar-light shadow navbar navbar-expand-md\" data-wg-type=\"navbar\"> <a class=\"navbar-brand\" data-wg-type=\"label\" href=\"#\">Culpa</a> <button class=\"navbar-toggler\" data-target=\"#main-nav\" data-toggle=\"collapse\" type=\"button\"> <span class=\"navbar-toggler-icon\"></span> </button> <div class=\"collapse navbar-collapse\" id=\"main-nav\" style=\"height: 10vh;\"> <ul class=\"navbar-nav mr-auto\"> <li class=\"nav-item\"> <a class=\"nav-link\" data-wg-type=\"button\" href=\"#\">Sit cillum id</a> </li> <li class=\"nav-item\"> <a class=\"nav-link\" data-wg-type=\"button\" href=\"#\">Esse nostrud</a> </li> <li class=\"nav-item\"> <a class=\"nav-link\" data-wg-type=\"button\" href=\"#\">Esse nostrud</a> </li> <li class=\"nav-item\"> <a class=\"nav-link\" data-wg-type=\"button\" href=\"#\">Eiusmod amet</a> </li> </ul> </div> </nav> <div class=\"container-fluid py-3\" id=\"page-content\"> <form class=\"p-3\"> <div class=\"form-group\"> <label data-wg-type=\"label\" for=\"laborum_laboris\">Laborum laboris</label> <input class=\"form-control\" data-wg-type=\"text\" id=\"laborum_laboris\" type=\"text\"> </div> <div class=\"form-group\"> <label data-wg-type=\"label\" for=\"reprehenderit_laboris_sed\">Reprehenderit laboris sed</label> <input class=\"custom-range\" data-wg-type=\"slider\" id=\"reprehenderit_laboris_sed\" type=\"slider\"> </div> <div class=\"form-group\"> <label data-wg-type=\"label\" for=\"laboris_laboris\">Laboris laboris</label> <input class=\"custom-range\" data-wg-type=\"slider\" id=\"laboris_laboris\" type=\"slider\"> </div> <div class=\"form-row\"> <div class=\"form-group col-md\"> <label data-wg-type=\"label\" for=\"sit\">Sit</label> <input class=\"form-control\" data-wg-type=\"text\" id=\"sit\" type=\"text\"> </div> <div class=\"form-group col-md\"> <label data-wg-type=\"label\" for=\"laborum_laborum\">Laborum laborum</label> <input class=\"form-control\" data-wg-type=\"text\" id=\"laborum_laborum\" type=\"text\"> </div> </div> <div class=\"form-row\"> <div class=\"form-group col-md\"> <label data-wg-type=\"label\" for=\"in\">In</label> <input class=\"form-control\" data-wg-type=\"text\" id=\"in\" type=\"text\"> </div> <div class=\"form-group col-md\"> <label data-wg-type=\"label\" for=\"pariatur\">Pariatur</label> <input class=\"form-control\" data-wg-type=\"text\" id=\"pariatur\" type=\"text\"> </div> </div> <div class=\"form-group\"> <label data-wg-type=\"label\" for=\"laborum_laborum\">Laborum laborum</label> <input class=\"form-control\" data-wg-type=\"text\" id=\"laborum_laborum\" type=\"text\"> </div> </form> </div> </div> </div> </body> </html>\n",
            "    Answer: <!DOCTYPE html> <html> <head> <title>Dominate</title> <meta content=\"width=device-width, initial-scale=1.0\" name=\"viewport\"> <meta content=\"Web Generator\" name=\"author\"> <meta content=\"3\" name=\"wg-layout\"> <link href=\"../css/custom-bootstrap.css\" rel=\"stylesheet\"> <link href=\"../css/wg-extras.css\" rel=\"stylesheet\"> <script src=\"../js/jquery-3.2.1.slim.min.js\" type=\"text/javascript\"></script> <script src=\"../js/bootstrap.min.js\" type=\"text/javascript\"></script> </head> <body class=\"\"> <div class=\" rounded shadow\" id=\"full-wrapper\"> <nav class=\"bg-light navbar-light rounded shadow navbar navbar-expand-md\" data-wg-type=\"navbar\"> <a class=\"navbar-brand\" data-wg-type=\"label\" href=\"#\">Culpa</a> <button class=\"navbar-toggler\" data-target=\"#main-nav\" data-toggle=\"collapse\" type=\"button\"> <span class=\"navbar-toggler-icon\"></span> </button> <div class=\"collapse navbar-collapse\" id=\"main-nav\" style=\"height: 10vh;\"> <ul class=\"navbar-nav mr-auto\"> <li class=\"nav-item\"> <a class=\"nav-link\" data-wg-type=\"button\" href=\"#\">Officia qui</a> </li> <li class=\"nav-item\"> <a class=\"nav-link\" data-wg-type=\"button\" href=\"#\">Nisi culpa ex</a> </li> <li class=\"nav-item\"> <a class=\"nav-link\" data-wg-type=\"button\" href=\"#\">Minim officia</a> </li> <li class=\"nav-item\"> <a class=\"nav-link\" data-wg-type=\"button\" href=\"#\">Esse ea lorem</a> </li> </ul> </div> </nav> <div class=\"d-flex\"> <div class=\"container-fluid py-3\" id=\"page-content\"> <form class=\"p-3\"> <div class=\"form-group\"> <label data-wg-type=\"label\" for=\"et_reprehenderit\">Et reprehenderit</label> <input class=\"form-control\" data-wg-type=\"text\" id=\"et_reprehenderit\" type=\"text\"> </div> <div class=\"form-group\"> <label data-wg-type=\"label\" for=\"sed_consequat_exercitation\">Sed consequat exercitation</label> <input class=\"custom-range\" data-wg-type=\"slider\" id=\"sed_consequat_exercitation\" type=\"slider\"> </div> <div class=\"form-group\"> <label data-wg-type=\"label\" for=\"est_cillum_dolor\">Est cillum dolor</label> <input class=\"custom-range\" data-wg-type=\"slider\" id=\"est_cillum_dolor\" type=\"slider\"> </div> <div class=\"form-row\"> <div class=\"form-group col-md\"> <label data-wg-type=\"label\" for=\"do\">Do</label> <input class=\"form-control\" data-wg-type=\"text\" id=\"do\" type=\"text\"> </div> <div class=\"form-group col-md\"> <label data-wg-type=\"label\" for=\"excepteur_velit_eu\">Excepteur velit eu</label> <input class=\"form-control\" data-wg-type=\"text\" id=\"excepteur_velit_eu\" type=\"text\"> </div> </div> <div class=\"form-row\"> <div class=\"form-group col-md\"> <label data-wg-type=\"label\" for=\"id\">Id</label> <input class=\"form-control\" data-wg-type=\"text\" id=\"id\" type=\"text\"> </div> <div class=\"form-group col-md\"> <label data-wg-type=\"label\" for=\"pariatur\">Pariatur</label> <input class=\"form-control\" data-wg-type=\"text\" id=\"pariatur\" type=\"text\"> </div> </div> <div class=\"form-group\"> <label data-wg-type=\"label\" for=\"nostrud_cupidatat\">Nostrud cupidatat</label> <input class=\"form-control\" data-wg-type=\"text\" id=\"nostrud_cupidatat\" type=\"text\"> </div> </form> </div> </div> </div> </body> </html>\n",
            "      Bleu: 0.84\n",
            "\n",
            "Prediction: <!DOCTYPE html> <html> <head> <title>Dominate</title> <meta content=\"width=device-width, initial-scale=1.0\" name=\"viewport\"> <meta content=\"Web Generator\" name=\"author\"> <meta content=\"1\" name=\"wg-layout\"> <link href=\"../css/custom-bootstrap.css\" rel=\"stylesheet\"> <link href=\"../css/wg-extras.css\" rel=\"stylesheet\"> <script src=\"../js/jquery-3.2.1.slim.min.js\" type=\"text/javascript\"></script> <script src=\"../js/bootstrap.min.js\" type=\"text/javascript\"></script> </head> <body class=\"\"> <div class=\"d-flex \" id=\"full-wrapper\"> <div class=\"bg-light rounded\" data-wg-type=\"sidebar\" id=\"sidebar-wrapper\"> <div class=\"list-group list-group-flush\" style=\"width:28vh;\"> <a class=\"list-group-item list-group-item-action\" data-wg-type=\"button\" href=\"#\">Esse nostrud</a> <a class=\"list-group-item list-group-item-action\" data-wg-type=\"button\" href=\"#\">Eiusmod amet</a> <a class=\"list-group-item list-group-item-action\" data-wg-type=\"button\" href=\"#\">Eiusmod amet</a> <a class=\"list-group-item list-group-item-action\" data-wg-type=\"button\" href=\"#\">Eiusmod amet</a> </div> </div> <div class=\"w-100\"> <nav class=\"bg-light navbar-light rounded navbar navbar-expand-md\" data-wg-type=\"navbar\"> <a class=\"navbar-brand\" data-wg-type=\"label\" href=\"#\">Voluptate</a> <button class=\"navbar-toggler\" data-target=\"#main-nav\" data-toggle=\"collapse\" type=\"button\"> <span class=\"navbar-toggler-icon\"></span> </button> <div class=\"collapse navbar-collapse\" id=\"main-nav\" style=\"height: 10vh;\"> <ul class=\"navbar-nav ml-auto\"> <li class=\"nav-item\"> <a class=\"nav-link\" data-wg-type=\"button\" href=\"#\">Et aliqua est</a> </li> <li class=\"nav-item\"> <a class=\"nav-link\" data-wg-type=\"button\" href=\"#\">Eiusmod aute</a> </li> </ul> </div> </nav> <div class=\"container-fluid py-3\" id=\"page-content\"> <div class=\"wg-detect\" data-wg-type=\"descriptive_items\"> <div class=\"row\"> <div class=\"col\"> <h2 data-wg-type=\"label\">Eiusmod aliquip commodo aliqua.</h2> <p><br> <img class=\"float-right m-2 img\" data-wg-type=\"image\" style=\"background-color: gray;width: 132px;height: 100px;\"></img> <span data-wg-type=\"text_area\">Enim aliqua aliquip aliqua. Labore aliqua aliqua aliqua. Dolor ullamco aliqua aliquip. Dolor aliqua aliqua aliquip. Dolor commodo aliqua aliquip. Dolor aliqua aliquip aliquip. Dolor aliqua aliquip aliquip. Dolor aliqua aliquip aliquip. Dolor aliqua aliquip aliquip. Dolor aliqua aliquip aliquip. Dolor aliqua aliquip aliquip. Dolor aliqua aliquip aliquip. Dolor aliqua aliquip aliquip.</span> </p> </div> </div> <div class=\"row\"> <div class=\"col\"> <h2 data-wg-type=\"label\">Enim aliqua aliqua aliquip.</h2> <p><br> <img class=\"float-right m-2 img\" data-wg-type=\"image\" style=\"background-color: gray;width: 132px;height: 100px;\"></img> <span data-wg-type=\"text_area\">Enim aliqua aliquip aliqua. Labore aliqua aliquip aliqua. Labore aliqua aliqua aliqua. Anim aliqua aliquip aliqua. Anim aliqua aliqua aliquip. Amet aliqua aliquip aliqua. Labore aliqua aliquip aliqua. Labore aliqua aliquip aliqua. Laboris aliqua aliquip aliquip. Laboris aliqua aliquip aliquip. Laboris aliqua aliquip aliquip. Anim aliqua aliquip aliquip.</span> </p> </div> </div> <div class=\"row\"> <div class=\"col\"> <h2 data-wg-type=\"label\">Enim aliqua aliqua aliquip.</h2> <p><br> <img class=\"float-right m-2 img\" data-wg-type=\"image\" style=\"background-color: gray;width: 132px;height: 100px;\"></img> <span data-wg-type=\"text_area\">Ea aliqua aliquip aliqua. Labore aliqua aliqua aliquip. Amet aliqua aliquip aliqua. Dolor aliqua aliquip aliquip. Dolor aliqua aliquip aliquip. Dolor aliqua aliquip aliquip. Dolor aliqua aliquip aliquip. Dolor aliqua aliquip aliqua. Laboris aliqua aliquip aliquip. Laboris aliquip aliquip aliqua. Laboris aliquip aliquip aliqua. Laboris aliquip aliquip aliquip. Dolor aliqua aliquip aliquip. Dolor aliqua aliquip aliquip. Dolor aliqua aliquip aliquip. Dolor aliqua aliquip aliquip. Laboris aliquip aliquip aliqua.</span> </p> </div> </div> </div> </div> </div> </div> </body> </html>\n",
            "    Answer: <!DOCTYPE html> <html> <head> <title>Dominate</title> <meta content=\"width=device-width, initial-scale=1.0\" name=\"viewport\"> <meta content=\"Web Generator\" name=\"author\"> <meta content=\"4\" name=\"wg-layout\"> <link href=\"../css/custom-bootstrap.css\" rel=\"stylesheet\"> <link href=\"../css/wg-extras.css\" rel=\"stylesheet\"> <script src=\"../js/jquery-3.2.1.slim.min.js\" type=\"text/javascript\"></script> <script src=\"../js/bootstrap.min.js\" type=\"text/javascript\"></script> </head> <body class=\"\"> <div class=\" rounded\" id=\"full-wrapper\"> <div class=\"d-flex\"> <div class=\"bg-light rounded\" data-wg-type=\"sidebar\" id=\"sidebar-wrapper\"> <div class=\"list-group list-group-flush\" style=\"width:28vh;\"> <a class=\"list-group-item list-group-item-action\" data-wg-type=\"button\" href=\"#\">Labore aliqua</a> <a class=\"list-group-item list-group-item-action\" data-wg-type=\"button\" href=\"#\">Sunt nostrud</a> <a class=\"list-group-item list-group-item-action\" data-wg-type=\"button\" href=\"#\">Cupidatat non</a> <a class=\"list-group-item list-group-item-action\" data-wg-type=\"button\" href=\"#\">Aute quis non</a> </div> </div> <div class=\"w-100\"> <nav class=\"bg-light navbar-light rounded navbar navbar-expand-md\" data-wg-type=\"navbar\"> <a class=\"navbar-brand\" data-wg-type=\"label\" href=\"#\">Adipiscing</a> <button class=\"navbar-toggler\" data-target=\"#main-nav\" data-toggle=\"collapse\" type=\"button\"> <span class=\"navbar-toggler-icon\"></span> </button> <div class=\"collapse navbar-collapse\" id=\"main-nav\" style=\"height: 10vh;\"> <ul class=\"navbar-nav ml-auto\"> <li class=\"nav-item\"> <a class=\"nav-link\" data-wg-type=\"button\" href=\"#\">Veniam velit</a> </li> <li class=\"nav-item\"> <a class=\"nav-link\" data-wg-type=\"button\" href=\"#\">Consequat do</a> </li> </ul> </div> </nav> <div class=\"container-fluid py-3\" id=\"page-content\"> <div class=\"wg-detect\" data-wg-type=\"descriptive_items\"> <div class=\"row\"> <div class=\"col\"> <h2 data-wg-type=\"label\">Duis do deserunt nulla ad non sit, labore exercitation magna ullamco minim.</h2> <p><br> <img class=\"float-right m-2 img\" data-wg-type=\"image\" style=\"background-color: gray;width: 140px;height: 112px;\"></img> <span data-wg-type=\"text_area\">Culpa id duis sint dolor. Amet amet magna quis. Eu minim qui et magna sed. Dolor eiusmod consequat tempor velit ad lorem eiusmod. Consequat occaecat incididunt adipiscing, aliquip sunt reprehenderit aute ipsum et tempor. Incididunt deserunt reprehenderit velit laboris ullamco. Occaecat sunt eu sunt non adipiscing. Nisi pariatur cupidatat aliquip nostrud culpa nisi. Fugiat reprehenderit duis amet lorem aliquip irure, laborum culpa enim exercitation duis, magna eu enim excepteur laborum incididunt eiusmod incididunt. Tempor laboris pariatur sint esse sunt dolore. Ad dolore nulla aliqua tempor do quis incididunt. Ipsum aliquip ea qui dolor aliqua voluptate exercitation, do exercitation dolor in ad in.</span> </p> </div> </div> <div class=\"row\"> <div class=\"col\"> <h2 data-wg-type=\"label\">Cupidatat occaecat qui labore id, officia sint proident ex velit.</h2> <p><br> <img class=\"float-right m-2 img\" data-wg-type=\"image\" style=\"background-color: gray;width: 140px;height: 112px;\"></img> <span data-wg-type=\"text_area\">Magna esse est ad nulla officia eiusmod labore. In amet et duis mollit, ipsum ut non et reprehenderit. Quis et ipsum ea consectetur voluptate exercitation voluptate, voluptate duis elit cupidatat exercitation veniam. Aute consectetur magna incididunt esse. Excepteur ut laboris dolor, laborum ea mollit et consequat esse. Incididunt ipsum irure aliquip fugiat nostrud esse. Culpa id labore ipsum sit. Laborum id velit dolore sit est. Dolore adipiscing officia excepteur aute ut nostrud enim. Quis amet laborum voluptate est, occaecat elit aliqua do nostrud cillum aliquip.</span> </p> </div> </div> <div class=\"row\"> <div class=\"col\"> <h2 data-wg-type=\"label\">Tempor incididunt magna fugiat irure.</h2> <p><br> <img class=\"float-right m-2 img\" data-wg-type=\"image\" style=\"background-color: gray;width: 140px;height: 112px;\"></img> <span data-wg-type=\"text_area\">Tempor officia deserunt ad in sunt. Voluptate sed nisi nostrud id. Tempor laboris fugiat pariatur pariatur velit. Nostrud excepteur quis qui, laboris cillum in est. In tempor ex cupidatat anim. Ex et dolore tempor reprehenderit. Deserunt et sint qui non id aliqua. Deserunt lorem elit proident quis magna minim, reprehenderit veniam ut eiusmod ad aute aute. Culpa lorem sed fugiat. Est nulla eu cillum voluptate labore ad, tempor minim incididunt aliquip adipiscing. Culpa laborum ullamco in aliqua pariatur sint, fugiat eiusmod adipiscing cupidatat. Veniam dolor nulla ea, aute incididunt pariatur id, consequat enim labore ex nostrud dolore ea. Duis adipiscing tempor voluptate deserunt voluptate. Lorem magna tempor excepteur ipsum dolore labore. Officia ex proident exercitation nostrud ad laboris, amet mollit sit aute excepteur commodo id laborum.</span> </p> </div> </div> </div> </div> </div> </div> </div> </body> </html>\n",
            "      Bleu: 0.83\n",
            "\n",
            "Prediction: <!DOCTYPE html> <html> <head> <title>Dominate</title> <meta content=\"width=device-width, initial-scale=1.0\" name=\"viewport\"> <meta content=\"Web Generator\" name=\"author\"> <meta content=\"2\" name=\"wg-layout\"> <link href=\"../css/custom-bootstrap.css\" rel=\"stylesheet\"> <link href=\"../css/wg-extras.css\" rel=\"stylesheet\"> <script src=\"../js/jquery-3.2.1.slim.min.js\" type=\"text/javascript\"></script> <script src=\"../js/bootstrap.min.js\" type=\"text/javascript\"></script> </head> <body class=\"\"> <div class=\" rounded\" id=\"full-wrapper\"> <nav class=\"bg-light navbar-light rounded navbar navbar-expand-md\" data-wg-type=\"navbar\"> <button class=\"navbar-toggler\" data-target=\"#main-nav\" data-toggle=\"collapse\" type=\"button\"> <span class=\"navbar-toggler-icon\"></span> </button> <div class=\"collapse navbar-collapse\" id=\"main-nav\" style=\"height: 4vh;\"> <ul class=\"navbar-nav ml-auto\"> <li class=\"nav-item\"> <a class=\"nav-link\" data-wg-type=\"button\" href=\"#\">Eiusmod amet</a> </li> <li class=\"nav-item\"> <a class=\"nav-link\" data-wg-type=\"button\" href=\"#\">Esse nostrud</a> </li> <li class=\"nav-item\"> <a class=\"nav-link\" data-wg-type=\"button\" href=\"#\">Eiusmod aute</a> </li> </ul> </div> </nav> <header class=\"bg-light rounded d-flex align-items-center justify-content-center\" data-wg-type=\"header\" style=\"height: 39vh;\"> <h1 class=\"p-2 text-center\" data-wg-type=\"label\">Et Nisi</h1> </header> <div class=\"d-flex\"> <div class=\"flex-grow-1\"> <div class=\"container-fluid py-3\" id=\"page-content\"> <form class=\"p-3\"> <div class=\"form-group\"> <label data-wg-type=\"label\" for=\"non\">Non</label> <input class=\"form-control\" data-wg-type=\"text\" id=\"non\" type=\"text\"> </div> <div class=\"form-row\"> <div class=\"form-group col-md\"> <label data-wg-type=\"label\" for=\"laborum_laboris\">Laborum laboris</label> <input class=\"form-control\" data-wg-type=\"text\" id=\"laborum_laboris\" type=\"text\"> </div> <div class=\"form-group col-md\"> <label data-wg-type=\"label\" for=\"veniam\">Veniam</label> <input class=\"form-control\" data-wg-type=\"text\" id=\"veniam\" type=\"text\"> </div> </div> <div class=\"form-row\"> <div class=\"form-group col-md\"> <label data-wg-type=\"label\" for=\"laboris_magna\">Laboris magna</label> <input class=\"custom-range\" data-wg-type=\"slider\" id=\"laboris_magna\" type=\"slider\"> </div> <div class=\"form-group col-md\"> <label data-wg-type=\"label\" for=\"voluptate\">Voluptate</label> <input class=\"form-control\" data-wg-type=\"text\" id=\"voluptate\" type=\"text\"> </div> <div class=\"form-group col-md\"> <label data-wg-type=\"label\" for=\"sit\">Sit</label> <input class=\"form-control\" data-wg-type=\"text\" id=\"sit\" type=\"text\"> </div> </div> <div class=\"form-group\"> <label data-wg-type=\"label\" for=\"sed_laborum\">Sed laborum</label> <input class=\"form-control\" data-wg-type=\"text\" id=\"sed_laborum\" type=\"text\"> </div> <div class=\"form-group\"> <label data-wg-type=\"label\" for=\"velit\">Velit</label> <input class=\"custom-range\" data-wg-type=\"slider\" id=\"velit\" type=\"slider\"> </div> <div class=\"form-row\"> <div class=\"form-group col-md\"> <label data-wg-type=\"label\" for=\"laborum_pariatur\">Laborum pariatur</label> <input class=\"form-control\" data-wg-type=\"text\" id=\"laborum_pariatur\" type=\"text\"> </div> <div class=\"form-group col-md\"> <label data-wg-type=\"label\" for=\"sed_exercitation\">Sed exercitation</label> <input class=\"form-control\" data-wg-type=\"text\" id=\"sed_exercitation\" type=\"text\"> </div> <div class=\"form-group col-md\"> <label data-wg-type=\"label\" for=\"incididunt\">Incididunt</label> <input class=\"form-control\" data-wg-type=\"text\" id=\"incididunt\" type=\"text\"> </div> </div> <div class=\"form-row\"> <div class=\"form-group col-md\"> <label data-wg-type=\"label\" for=\"exercitation\">Exercitation</label> <input class=\"form-control\" data-wg-type=\"text\" id=\"exercitation\" type=\"text\"> </div> <div class=\"form-group col-md\"> <label data-wg-type=\"label\" for=\"exercitation\">Exercitation</label> <input class=\"form-control\" data-wg-type=\"text\" id=\"exercitation\" type=\"text\"> </div> </div> </form> </div> <footer class=\"bg-light rounded jumbotron mb-0\" data-wg-type=\"footer\" style=\"height: 29vh;\"> <div class=\"container\"> <span class=\"text-muted\" data-wg-type=\"label\">Ea anim aliqua nostrud anim aliquip ullamco aliqua</span> </div> </footer> </div> </div> </body> </html>\n",
            "    Answer: <!DOCTYPE html> <html> <head> <title>Dominate</title> <meta content=\"width=device-width, initial-scale=1.0\" name=\"viewport\"> <meta content=\"Web Generator\" name=\"author\"> <meta content=\"2\" name=\"wg-layout\"> <link href=\"../css/custom-bootstrap.css\" rel=\"stylesheet\"> <link href=\"../css/wg-extras.css\" rel=\"stylesheet\"> <script src=\"../js/jquery-3.2.1.slim.min.js\" type=\"text/javascript\"></script> <script src=\"../js/bootstrap.min.js\" type=\"text/javascript\"></script> </head> <body class=\"\"> <div class=\" rounded shadow-sm\" id=\"full-wrapper\"> <nav class=\"bg-light navbar-light rounded shadow-sm navbar navbar-expand-md\" data-wg-type=\"navbar\"> <button class=\"navbar-toggler\" data-target=\"#main-nav\" data-toggle=\"collapse\" type=\"button\"> <span class=\"navbar-toggler-icon\"></span> </button> <div class=\"collapse navbar-collapse\" id=\"main-nav\" style=\"height: 4vh;\"> <ul class=\"navbar-nav ml-auto\"> <li class=\"nav-item\"> <a class=\"nav-link\" data-wg-type=\"button\" href=\"#\">Eiusmod sunt</a> </li> <li class=\"nav-item\"> <a class=\"nav-link\" data-wg-type=\"button\" href=\"#\">Occaecat sit</a> </li> <li class=\"nav-item\"> <a class=\"nav-link\" data-wg-type=\"button\" href=\"#\">Consequat ad</a> </li> </ul> </div> </nav> <header class=\"bg-light rounded shadow-sm d-flex align-items-center justify-content-center\" data-wg-type=\"header\" style=\"height: 38vh;\"> <h1 class=\"p-2 text-center\" data-wg-type=\"label\">Ex Et</h1> </header> <div class=\"d-flex\"> <div class=\"flex-grow-1\"> <div class=\"container-fluid py-3\" id=\"page-content\"> <form class=\"p-3\"> <div class=\"form-group\"> <label data-wg-type=\"label\" for=\"quis\">Quis</label> <input class=\"form-control\" data-wg-type=\"text\" id=\"quis\" type=\"text\"> </div> <div class=\"form-row\"> <div class=\"form-group col-md\"> <label data-wg-type=\"label\" for=\"eu_reprehenderit\">Eu reprehenderit</label> <input class=\"form-control\" data-wg-type=\"text\" id=\"eu_reprehenderit\" type=\"text\"> </div> <div class=\"form-group col-md\"> <label data-wg-type=\"label\" for=\"nisi_sint\">Nisi sint</label> <input class=\"form-control\" data-wg-type=\"text\" id=\"nisi_sint\" type=\"text\"> </div> </div> <div class=\"form-row\"> <div class=\"form-group col-md\"> <label data-wg-type=\"label\" for=\"nisi_culpa_amet\">Nisi culpa amet</label> <input class=\"form-control\" data-wg-type=\"text\" id=\"nisi_culpa_amet\" type=\"text\"> </div> <div class=\"form-group col-md\"> <label data-wg-type=\"label\" for=\"enim_amet\">Enim amet</label> <input class=\"form-control\" data-wg-type=\"text\" id=\"enim_amet\" type=\"text\"> </div> <div class=\"form-group col-md\"> <label data-wg-type=\"label\" for=\"sit\">Sit</label> <input class=\"form-control\" data-wg-type=\"text\" id=\"sit\" type=\"text\"> </div> </div> <div class=\"form-group\"> <label data-wg-type=\"label\" for=\"non_pariatur\">Non pariatur</label> <input class=\"form-control\" data-wg-type=\"text\" id=\"non_pariatur\" type=\"text\"> </div> <div class=\"form-group\"> <label data-wg-type=\"label\" for=\"enim\">Enim</label> <input class=\"custom-range\" data-wg-type=\"slider\" id=\"enim\" type=\"slider\"> </div> <div class=\"form-row\"> <div class=\"form-group col-md\"> <label data-wg-type=\"label\" for=\"magna_nostrud_do\">Magna nostrud do</label> <input class=\"form-control\" data-wg-type=\"text\" id=\"magna_nostrud_do\" type=\"text\"> </div> <div class=\"form-group col-md\"> <label data-wg-type=\"label\" for=\"eu_deserunt_nisi\">Eu deserunt nisi</label> <input class=\"form-control\" data-wg-type=\"text\" id=\"eu_deserunt_nisi\" type=\"text\"> </div> <div class=\"form-group col-md\"> <label data-wg-type=\"label\" for=\"sint_do_sit\">Sint do sit</label> <input class=\"form-control\" data-wg-type=\"text\" id=\"sint_do_sit\" type=\"text\"> </div> </div> <div class=\"form-row\"> <div class=\"form-group col-md\"> <label data-wg-type=\"label\" for=\"consectetur\">Consectetur</label> <input class=\"form-control\" data-wg-type=\"text\" id=\"consectetur\" type=\"text\"> </div> <div class=\"form-group col-md\"> <label data-wg-type=\"label\" for=\"laboris_officia\">Laboris officia</label> <input class=\"form-control\" data-wg-type=\"text\" id=\"laboris_officia\" type=\"text\"> </div> </div> </form> </div> <footer class=\"bg-light rounded shadow-sm jumbotron mb-0\" data-wg-type=\"footer\" style=\"height: 27vh;\"> <div class=\"container\"> <span class=\"text-muted\" data-wg-type=\"label\">Non pariatur deserunt officia adipiscing irure ad</span> </div> </footer> </div> </div> </div> </body> </html>\n",
            "      Bleu: 0.92\n",
            "\n",
            "Prediction: <!DOCTYPE html> <html> <head> <title>Dominate</title> <meta content=\"width=device-width, initial-scale=1.0\" name=\"viewport\"> <meta content=\"Web Generator\" name=\"author\"> <meta content=\"1\" name=\"wg-layout\"> <link href=\"../css/custom-bootstrap.css\" rel=\"stylesheet\"> <link href=\"../css/wg-extras.css\" rel=\"stylesheet\"> <script src=\"../js/jquery-3.2.1.slim.min.js\" type=\"text/javascript\"></script> <script src=\"../js/bootstrap.min.js\" type=\"text/javascript\"></script> </head> <body class=\"\"> <div class=\"d-flex \" id=\"full-wrapper\"> <div class=\"bg-light rounded\" data-wg-type=\"sidebar\" id=\"sidebar-wrapper\"> <div class=\"sidebar-heading\" data-wg-type=\"label\">Ea</div> <div class=\"list-group list-group-flush\" style=\"width:29vh;\"> <a class=\"list-group-item list-group-item-action\" data-wg-type=\"button\" href=\"#\">Eiusmod quis</a> <a class=\"list-group-item list-group-item-action\" data-wg-type=\"button\" href=\"#\">Ea nostrud ex</a> <a class=\"list-group-item list-group-item-action\" data-wg-type=\"button\" href=\"#\">Ea ullamco in</a> <a class=\"list-group-item list-group-item-action\" data-wg-type=\"button\" href=\"#\">Ea cillum qui</a> <a class=\"list-group-item list-group-item-action\" data-wg-type=\"button\" href=\"#\">Enim ullamco</a> </div> </div> <div class=\"w-100\"> <nav class=\"bg-light navbar-light rounded navbar navbar-expand-md\" data-wg-type=\"navbar\"> <a class=\"navbar-brand\" data-wg-type=\"label\" href=\"#\">Ea</a> <button class=\"navbar-toggler\" data-target=\"#main-nav\" data-toggle=\"collapse\" type=\"button\"> <span class=\"navbar-toggler-icon\"></span> </button> <div class=\"collapse navbar-collapse\" id=\"main-nav\" style=\"height: 8vh;\"> <ul class=\"navbar-nav mx-auto\"> <li class=\"nav-item\"> <a class=\"nav-link\" data-wg-type=\"button\" href=\"#\">Eiusmod aute</a> </li> <li class=\"nav-item\"> <a class=\"nav-link\" data-wg-type=\"button\" href=\"#\">Ea anim aute</a> </li> <li class=\"nav-item\"> <a class=\"nav-link\" data-wg-type=\"button\" href=\"#\">Et aliquip in</a> </li> <li class=\"nav-item\"> <a class=\"nav-link\" data-wg-type=\"button\" href=\"#\">Sit aliquip</a> </li> <li class=\"nav-item\"> <a class=\"nav-link\" data-wg-type=\"button\" href=\"#\">Et aliqua est</a> </li> <li class=\"nav-item\"> <a class=\"nav-link\" data-wg-type=\"button\" href=\"#\">Enim nostrud</a> </li> </ul> </div> </nav> <header class=\"bg-light rounded d-flex align-items-center justify-content-center\" data-wg-type=\"header\" style=\"height: 24vh;\"> <h1 class=\"p-2 text-center\" data-wg-type=\"label\">Ea Laborum</h1> </header> <div class=\"container-fluid py-3\" id=\"page-content\"> <form class=\"p-3\"> <div class=\"form-row\"> <div class=\"form-group col-md\"> <label data-wg-type=\"label\" for=\"occaecat\">Occaecat</label> <input class=\"form-control\" data-wg-type=\"text\" id=\"occaecat\" type=\"text\"> </div> <div class=\"form-group col-md\"> <label data-wg-type=\"label\" for=\"et\">Et</label> <input class=\"form-control\" data-wg-type=\"text\" id=\"et\" type=\"text\"> </div> </div> <div class=\"form-row\"> <div class=\"form-group col-md\"> <label data-wg-type=\"label\" for=\"ad\">Ad</label> <input class=\"form-control\" data-wg-type=\"text\" id=\"ad\" type=\"text\"> </div> <div class=\"form-group col-md\"> <label data-wg-type=\"label\" for=\"sed_exercitation\">Sed exercitation</label> <input class=\"form-control\" data-wg-type=\"text\" id=\"sed_exercitation\" type=\"text\"> </div> </div> </form> </div> </div> </div> </body> </html>\n",
            "    Answer: <!DOCTYPE html> <html> <head> <title>Dominate</title> <meta content=\"width=device-width, initial-scale=1.0\" name=\"viewport\"> <meta content=\"Web Generator\" name=\"author\"> <meta content=\"1\" name=\"wg-layout\"> <link href=\"../css/custom-bootstrap.css\" rel=\"stylesheet\"> <link href=\"../css/wg-extras.css\" rel=\"stylesheet\"> <script src=\"../js/jquery-3.2.1.slim.min.js\" type=\"text/javascript\"></script> <script src=\"../js/bootstrap.min.js\" type=\"text/javascript\"></script> </head> <body class=\"\"> <div class=\"d-flex \" id=\"full-wrapper\"> <div class=\"bg-light\" data-wg-type=\"sidebar\" id=\"sidebar-wrapper\"> <div class=\"sidebar-heading\" data-wg-type=\"label\">Officia</div> <div class=\"list-group list-group-flush\" style=\"width:28vh;\"> <a class=\"list-group-item list-group-item-action\" data-wg-type=\"button\" href=\"#\">Amet non ut</a> <a class=\"list-group-item list-group-item-action\" data-wg-type=\"button\" href=\"#\">Lorem laboris</a> <a class=\"list-group-item list-group-item-action\" data-wg-type=\"button\" href=\"#\">Et labore sit</a> <a class=\"list-group-item list-group-item-action\" data-wg-type=\"button\" href=\"#\">Nostrud dolor</a> <a class=\"list-group-item list-group-item-action\" data-wg-type=\"button\" href=\"#\">Sunt veniam</a> </div> </div> <div class=\"w-100\"> <nav class=\"bg-light navbar-light navbar navbar-expand-md\" data-wg-type=\"navbar\"> <a class=\"navbar-brand\" data-wg-type=\"label\" href=\"#\">Ea</a> <button class=\"navbar-toggler\" data-target=\"#main-nav\" data-toggle=\"collapse\" type=\"button\"> <span class=\"navbar-toggler-icon\"></span> </button> <div class=\"collapse navbar-collapse\" id=\"main-nav\" style=\"height: 9vh;\"> <ul class=\"navbar-nav mx-auto\"> <li class=\"nav-item\"> <a class=\"nav-link\" data-wg-type=\"button\" href=\"#\">Aute duis est</a> </li> <li class=\"nav-item\"> <a class=\"nav-link\" data-wg-type=\"button\" href=\"#\">Culpa non et</a> </li> <li class=\"nav-item\"> <a class=\"nav-link\" data-wg-type=\"button\" href=\"#\">Mollit do ea</a> </li> <li class=\"nav-item\"> <a class=\"nav-link\" data-wg-type=\"button\" href=\"#\">Sint aliqua</a> </li> <li class=\"nav-item\"> <a class=\"nav-link\" data-wg-type=\"button\" href=\"#\">Incididunt in</a> </li> <li class=\"nav-item\"> <a class=\"nav-link\" data-wg-type=\"button\" href=\"#\">Cupidatat ex</a> </li> </ul> </div> </nav> <header class=\"bg-light d-flex align-items-center justify-content-center\" data-wg-type=\"header\" style=\"height: 26vh;\"> <h1 class=\"p-2 text-center\" data-wg-type=\"label\">Tempor Do</h1> </header> <div class=\"container-fluid py-3\" id=\"page-content\"> <form class=\"p-3\"> <div class=\"form-row\"> <div class=\"form-group col-md\"> <label data-wg-type=\"label\" for=\"fugiat_ex\">Fugiat ex</label> <input class=\"form-control\" data-wg-type=\"text\" id=\"fugiat_ex\" type=\"text\"> </div> <div class=\"form-group col-md\"> <label data-wg-type=\"label\" for=\"id\">Id</label> <input class=\"form-control\" data-wg-type=\"text\" id=\"id\" type=\"text\"> </div> </div> <div class=\"form-row\"> <div class=\"form-group col-md\"> <label data-wg-type=\"label\" for=\"ad\">Ad</label> <input class=\"form-control\" data-wg-type=\"text\" id=\"ad\" type=\"text\"> </div> <div class=\"form-group col-md\"> <label data-wg-type=\"label\" for=\"laboris_mollit_ut\">Laboris mollit ut</label> <input class=\"form-control\" data-wg-type=\"text\" id=\"laboris_mollit_ut\" type=\"text\"> </div> </div> </form> </div> </div> </div> </body> </html>\n",
            "      Bleu: 0.89\n",
            "\n",
            "Prediction: <!DOCTYPE html> <html> <head> <title>Dominate</title> <meta content=\"width=device-width, initial-scale=1.0\" name=\"viewport\"> <meta content=\"Web Generator\" name=\"author\"> <meta content=\"2\" name=\"wg-layout\"> <link href=\"../css/custom-bootstrap.css\" rel=\"stylesheet\"> <link href=\"../css/wg-extras.css\" rel=\"stylesheet\"> <script src=\"../js/jquery-3.2.1.slim.min.js\" type=\"text/javascript\"></script> <script src=\"../js/bootstrap.min.js\" type=\"text/javascript\"></script> </head> <body class=\"\"> <div class=\" rounded\" id=\"full-wrapper\"> <nav class=\"bg-light navbar-light rounded navbar navbar-expand-md\" data-wg-type=\"navbar\"> <a class=\"navbar-brand\" data-wg-type=\"label\" href=\"#\">Et</a> <button class=\"navbar-toggler\" data-target=\"#main-nav\" data-toggle=\"collapse\" type=\"button\"> <span class=\"navbar-toggler-icon\"></span> </button> <div class=\"collapse navbar-collapse\" id=\"main-nav\" style=\"height: 7vh;\"> <ul class=\"navbar-nav ml-auto\"> <li class=\"nav-item\"> <a class=\"nav-link\" data-wg-type=\"button\" href=\"#\">Ea cillum est</a> </li> <li class=\"nav-item\"> <a class=\"nav-link\" data-wg-type=\"button\" href=\"#\">Ea nostrud ad</a> </li> <li class=\"nav-item\"> <a class=\"nav-link\" data-wg-type=\"button\" href=\"#\">Et cillum est</a> </li> <li class=\"nav-item\"> <a class=\"nav-link\" data-wg-type=\"button\" href=\"#\">Et ullamco ad</a> </li> <li class=\"nav-item\"> <a class=\"nav-link\" data-wg-type=\"button\" href=\"#\">Et aliquip ad</a> </li> </ul> </div> </nav> <div class=\"d-flex\"> <div class=\"flex-grow-1\"> <div class=\"container-fluid py-3\" id=\"page-content\"> <div class=\"m-3 wg-detect\" data-wg-type=\"tabs\"> <div class=\"nav nav-tabs\"> <a aria-controls=\"minim\" class=\"nav-item nav-link active\" data-toggle=\"tab\" data-wg-type=\"button\" href=\"#minim\" id=\"minim-tab\" role=\"tab\">Minim</a> <a aria-controls=\"commodo\" class=\"nav-item nav-link\" data-toggle=\"tab\" data-wg-type=\"button\" href=\"#commodo\" id=\"commodo-tab\" role=\"tab\">Commodo</a> </div> <div class=\"tab-content\"> <div aria-labelledby=\"minim\" class=\"tab-pane fade border p-3 show active\" data-wg-type=\"label\" id=\"minim\" role=\"tabpanel\">Enim ullamco aliquip aliqua.</div> <div aria-labelledby=\"commodo\" class=\"tab-pane fade border p-3\" data-wg-type=\"label\" id=\"commodo\" role=\"tabpanel\">Et ullamco aliquip aliqua.</div> </div> </div> <div class=\"my-3 wg-detect carousel slide\" data-ride=\"carousel\" data-wg-type=\"carousel\" id=\"carousel-ele-1\"> <ol class=\"carousel-indicators\"> <li class=\"active\" data-slide-to=\"0\" data-target=\"#carousel-ele-1\"></li> <li class=\"\" data-slide-to=\"1\" data-target=\"#carousel-ele-1\"></li> <li class=\"\" data-slide-to=\"2\" data-target=\"#carousel-ele-1\"></li> <li class=\"\" data-slide-to=\"3\" data-target=\"#carousel-ele-1\"></li> </ol> <div class=\"carousel-inner\"> <div class=\"carousel-item active\"> <div class=\"d-block w-100 text-center\" style=\"background-color: darkgrey; height: 30vh;\"> <h1 class=\"pt-5\">Et anim aliqua quis</h1> </div> </div> <div class=\"carousel-item\"> <div class=\"d-block w-100 text-center\" style=\"background-color: darkgrey; height: 30vh;\"> <h1 class=\"pt-5\">Ea ullamco nostrud</h1> </div> </div> <div class=\"carousel-item\"> <div class=\"d-block w-100 text-center\" style=\"background-color: darkgrey; height: 30vh;\"> <h1 class=\"pt-5\">Ea cillum aliquip ut</h1> </div> </div> <div class=\"carousel-item\"> <div class=\"d-block w-100 text-center\" style=\"background-color: darkgrey; height: 30vh;\"> <h1 class=\"pt-5\">Ea ullamco nostrud id</h1> </div> </div> </div> <a class=\"carousel-control-prev\" data-slide=\"prev\" href=\"#carousel-ele-1\" role=\"button\"> <span class=\"carousel-control-prev-icon\"></span> </a> <a class=\"carousel-control-next\" data-slide=\"next\" href=\"#carousel-ele-1\" role=\"button\"> <span class=\"carousel-control-next-icon\"></span> </a> </div> </div> <footer class=\"bg-light rounded jumbotron mb-0\" data-wg-type=\"footer\" style=\"height: 12vh;\"> <div class=\"container\"> <span class=\"text-muted\" data-wg-type=\"label\">Ea nostrud aliquip ullamco aliqua nostrud anim quis</span> </div> </footer> </div> <div class=\"bg-light rounded\" data-wg-type=\"sidebar\" id=\"sidebar-wrapper\"> <div class=\"list-group list-group-flush\" style=\"width:27vh;\"> <a class=\"list-group-item list-group-item-action\" data-wg-type=\"button\" href=\"#\">Ea cillum est</a> <a class=\"list-group-item list-group-item-action\" data-wg-type=\"button\" href=\"#\">Ea ullamco id</a> </div> </div> </div> </div> </body> </html>\n",
            "    Answer: <!DOCTYPE html> <html> <head> <title>Dominate</title> <meta content=\"width=device-width, initial-scale=1.0\" name=\"viewport\"> <meta content=\"Web Generator\" name=\"author\"> <meta content=\"2\" name=\"wg-layout\"> <link href=\"../css/custom-bootstrap.css\" rel=\"stylesheet\"> <link href=\"../css/wg-extras.css\" rel=\"stylesheet\"> <script src=\"../js/jquery-3.2.1.slim.min.js\" type=\"text/javascript\"></script> <script src=\"../js/bootstrap.min.js\" type=\"text/javascript\"></script> </head> <body class=\"\"> <div class=\" rounded\" id=\"full-wrapper\"> <nav class=\"bg-light navbar-light rounded navbar navbar-expand-md\" data-wg-type=\"navbar\"> <button class=\"navbar-toggler\" data-target=\"#main-nav\" data-toggle=\"collapse\" type=\"button\"> <span class=\"navbar-toggler-icon\"></span> </button> <div class=\"collapse navbar-collapse\" id=\"main-nav\" style=\"height: 10vh;\"> <ul class=\"navbar-nav ml-auto\"> <li class=\"nav-item\"> <a class=\"nav-link\" data-wg-type=\"button\" href=\"#\">Reprehenderit</a> </li> <li class=\"nav-item\"> <a class=\"nav-link\" data-wg-type=\"button\" href=\"#\">Velit culpa</a> </li> <li class=\"nav-item\"> <a class=\"nav-link\" data-wg-type=\"button\" href=\"#\">Laboris in eu</a> </li> <li class=\"nav-item\"> <a class=\"nav-link\" data-wg-type=\"button\" href=\"#\">Labore sint</a> </li> </ul> </div> </nav> <div class=\"d-flex\"> <div class=\"flex-grow-1\"> <div class=\"container-fluid py-3\" id=\"page-content\"> <div class=\"m-3 wg-detect\" data-wg-type=\"tabs\"> <div class=\"nav nav-tabs\"> <a aria-controls=\"cillum\" class=\"nav-item nav-link active\" data-toggle=\"tab\" data-wg-type=\"button\" href=\"#cillum\" id=\"cillum-tab\" role=\"tab\">Cillum</a> <a aria-controls=\"commodo\" class=\"nav-item nav-link\" data-toggle=\"tab\" data-wg-type=\"button\" href=\"#commodo\" id=\"commodo-tab\" role=\"tab\">Commodo</a> </div> <div class=\"tab-content\"> <div aria-labelledby=\"cillum\" class=\"tab-pane fade border p-3 show active\" data-wg-type=\"label\" id=\"cillum\" role=\"tabpanel\">Ad ullamco nulla cillum pariatur aliquip est minim. Do cupidatat elit qui.</div> <div aria-labelledby=\"commodo\" class=\"tab-pane fade border p-3\" data-wg-type=\"label\" id=\"commodo\" role=\"tabpanel\">Ad esse velit commodo, ex ut excepteur veniam excepteur eiusmod ut velit. Quis ut deserunt adipiscing aute, anim dolore pariatur sit velit et.</div> </div> </div> <div class=\"my-3 wg-detect carousel slide\" data-ride=\"carousel\" data-wg-type=\"carousel\" id=\"carousel-ele-1\"> <ol class=\"carousel-indicators\"> <li class=\"active\" data-slide-to=\"0\" data-target=\"#carousel-ele-1\"></li> <li class=\"\" data-slide-to=\"1\" data-target=\"#carousel-ele-1\"></li> <li class=\"\" data-slide-to=\"2\" data-target=\"#carousel-ele-1\"></li> <li class=\"\" data-slide-to=\"3\" data-target=\"#carousel-ele-1\"></li> <li class=\"\" data-slide-to=\"4\" data-target=\"#carousel-ele-1\"></li> </ol> <div class=\"carousel-inner\"> <div class=\"carousel-item active\"> <div class=\"d-block w-100 text-center\" style=\"background-color: darkgrey; height: 30vh;\"> <h1 class=\"pt-5\">Commodo laboris sunt</h1> </div> </div> <div class=\"carousel-item\"> <div class=\"d-block w-100 text-center\" style=\"background-color: darkgrey; height: 30vh;\"> <h1 class=\"pt-5\">Adipiscing sed esse</h1> </div> </div> <div class=\"carousel-item\"> <div class=\"d-block w-100 text-center\" style=\"background-color: darkgrey; height: 30vh;\"> <h1 class=\"pt-5\">Adipiscing magna sed</h1> </div> </div> <div class=\"carousel-item\"> <div class=\"d-block w-100 text-center\" style=\"background-color: darkgrey; height: 30vh;\"> <h1 class=\"pt-5\">Deserunt cupidatat</h1> </div> </div> <div class=\"carousel-item\"> <div class=\"d-block w-100 text-center\" style=\"background-color: darkgrey; height: 30vh;\"> <h1 class=\"pt-5\">Voluptate commodo do</h1> </div> </div> </div> <a class=\"carousel-control-prev\" data-slide=\"prev\" href=\"#carousel-ele-1\" role=\"button\"> <span class=\"carousel-control-prev-icon\"></span> </a> <a class=\"carousel-control-next\" data-slide=\"next\" href=\"#carousel-ele-1\" role=\"button\"> <span class=\"carousel-control-next-icon\"></span> </a> </div> </div> <footer class=\"bg-light rounded jumbotron mb-0\" data-wg-type=\"footer\" style=\"height: 13vh;\"> <div class=\"container\"> <span class=\"text-muted\" data-wg-type=\"label\">Consequat eiusmod ex consectetur proident nostrud</span> </div> </footer> </div> <div class=\"bg-light rounded\" data-wg-type=\"sidebar\" id=\"sidebar-wrapper\"> <div class=\"list-group list-group-flush\" style=\"width:29vh;\"> <a class=\"list-group-item list-group-item-action\" data-wg-type=\"button\" href=\"#\">Consectetur</a> <a class=\"list-group-item list-group-item-action\" data-wg-type=\"button\" href=\"#\">Occaecat esse</a> </div> </div> </div> </div> </body> </html>\n",
            "      Bleu: 0.60\n",
            "\n",
            "Prediction: <!DOCTYPE html> <html> <head> <title>Dominate</title> <meta content=\"width=device-width, initial-scale=1.0\" name=\"viewport\"> <meta content=\"Web Generator\" name=\"author\"> <meta content=\"1\" name=\"wg-layout\"> <link href=\"../css/custom-bootstrap.css\" rel=\"stylesheet\"> <link href=\"../css/wg-extras.css\" rel=\"stylesheet\"> <script src=\"../js/jquery-3.2.1.slim.min.js\" type=\"text/javascript\"></script> <script src=\"../js/bootstrap.min.js\" type=\"text/javascript\"></script> </head> <body class=\"\"> <div class=\"d-flex \" id=\"full-wrapper\"> <div class=\"w-100\"> <nav class=\"bg-light navbar-light rounded navbar navbar-expand-md\" data-wg-type=\"navbar\"> <button class=\"navbar-toggler\" data-target=\"#main-nav\" data-toggle=\"collapse\" type=\"button\"> <span class=\"navbar-toggler-icon\"></span> </button> <div class=\"collapse navbar-collapse\" id=\"main-nav\" style=\"height: 5vh;\"> <ul class=\"navbar-nav mr-auto\"> <li class=\"nav-item\"> <a class=\"nav-link\" data-wg-type=\"button\" href=\"#\">Eiusmod lorem</a> </li> <li class=\"nav-item\"> <a class=\"nav-link\" data-wg-type=\"button\" href=\"#\">Eiusmod velit</a> </li> <li class=\"nav-item\"> <a class=\"nav-link\" data-wg-type=\"button\" href=\"#\">Eiusmod lorem</a> </li> <li class=\"nav-item\"> <a class=\"nav-link\" data-wg-type=\"button\" href=\"#\">Esse nostrud</a> </li> <li class=\"nav-item\"> <a class=\"nav-link\" data-wg-type=\"button\" href=\"#\">Eiusmod amet</a> </li> <li class=\"nav-item\"> <a class=\"nav-link\" data-wg-type=\"button\" href=\"#\">Esse ullamco</a> </li> </ul> </div> </nav> <header class=\"bg-light rounded d-flex align-items-center justify-content-center\" data-wg-type=\"header\" style=\"height: 24vh;\"> <h1 class=\"p-2 text-center\" data-wg-type=\"label\">Eiusmod Dolor Laborum Laborum</h1> </header> <div class=\"container-fluid py-3\" id=\"page-content\"> <div class=\"wg-detect\" data-wg-type=\"descriptive_items\"> <div class=\"row\"> <div class=\"col\"> <h2 data-wg-type=\"label\">Esse cillum aliquip anim.</h2> <p><br> <img class=\"mx-auto m-2 shadow img\" data-wg-type=\"image\" style=\"background-color: gray;width: 286px;height: 258px;\"></img> <span data-wg-type=\"text_area\">Enim cillum aliqua aliqua. Dolor anim aliqua aliquip. Dolor anim aliqua aliquip. Dolor anim aliqua aliquip. Dolor ullamco aliquip anim. Dolor anim aliqua aliquip. Dolor cillum aliquip anim. Dolor ullamco aliquip anim. Dolor ullamco aliquip anim. Dolor ullamco aliquip anim. Dolor ullamco aliquip anim. Dolor ullamco aliquip anim. Dolor ullamco aliquip anim. Dolor ullamco aliquip anim.</span> </p> </div> </div> </div> <div class=\"row wg-detect\"> <div class=\"col\"> <div class=\"card-columns\"> <div class=\"text-black shadow card\" data-wg-type=\"card\"> <img class=\"card-img-top img\" data-wg-type=\"image\" style=\"background-color: gray;height: 100px;\"></img> <div class=\"card-body\"> <h5 class=\"card-title\" data-wg-type=\"label\">Ea anim aliqua quis</h5> <p class=\"card-text\" data-wg-type=\"label\">Ea cillum aliqua nostrud aliquip ullamco aliqua et</p> <div class=\"d-flex justify-content-between align-items-center\"> <div class=\"btn-group\"> <button class=\"btn btn-sm btn-outline-secondary\" data-wg-type=\"button\" type=\"button\">Ea cillum sit</button> </div> <small class=\"text-muted\" data-wg-type=\"label\">Sit aliquip</small> </div> </div> </div> <div class=\"text-black shadow card\" data-wg-type=\"card\"> <img class=\"card-img-top img\" data-wg-type=\"image\" style=\"background-color: gray;height: 100px;\"></img> <div class=\"card-body\"> <h5 class=\"card-title\" data-wg-type=\"label\">Ea anim aliqua qui</h5> <p class=\"card-text\" data-wg-type=\"label\">Ea cillum aliqua nostrud aliquip anim aliqua quis</p> <div class=\"d-flex justify-content-between align-items-center\"> <div class=\"btn-group\"> <button class=\"btn btn-sm btn-outline-secondary\" data-wg-type=\"button\" type=\"button\">Eiusmod lorem</button> </div> <small class=\"text-muted\" data-wg-type=\"label\">Ea cillum do</small> </div> </div> </div> <div class=\"text-black shadow card\" data-wg-type=\"card\"> <img class=\"card-img-top img\" data-wg-type=\"image\" style=\"background-color: gray;height: 100px;\"></img> <div class=\"card-body\"> <h5 class=\"card-title\" data-wg-type=\"label\">Ea anim aliqua qui</h5> <p class=\"card-text\" data-wg-type=\"label\">Ea cillum aliqua nostrud aliquip aliqua commodo qui</p> <div class=\"d-flex justify-content-between align-items-center\"> <div class=\"btn-group\"> <button class=\"btn btn-sm btn-outline-secondary\" data-wg-type=\"button\" type=\"button\">Ea cillum sed</button> </div> <small class=\"text-muted\" data-wg-type=\"label\">Ea nostrud et</small> </div> </div> </div> <div class=\"text-black shadow card\" data-wg-type=\"card\"> <img class=\"card-img-top img\" data-wg-type=\"image\" style=\"background-color: gray;height: 100px;\"></img> <div class=\"card-body\"> <h5 class=\"card-title\" data-wg-type=\"label\">Ea anim aliqua quis</h5> <p class=\"card-text\" data-wg-type=\"label\">Ea cillum aliquip anim aliqua ullamco aliqua quis</p> <div class=\"d-flex justify-content-between align-items-center\"> <div class=\"btn-group\"> <button class=\"btn btn-sm btn-outline-secondary\" data-wg-type=\"button\" type=\"button\">Et cillum sed</button> </div> <small class=\"text-muted\" data-wg-type=\"label\">Esse ullamco</small> </div> </div> </div> <div class=\"text-black shadow card\" data-wg-type=\"card\"> <img class=\"card-img-top img\" data-wg-type=\"image\" style=\"background-color: gray;height: 100px;\"></img> <div class=\"card-body\"> <h5 class=\"card-title\" data-wg-type=\"label\">Ea anim aliqua qui</h5> <p class=\"card-text\" data-wg-type=\"label\">Ea cillum aliqua nostrud aliquip cillum aliqua qui</p> <div class=\"d-flex justify-content-between align-items-center\"> <div class=\"btn-group\"> <button class=\"btn btn-sm btn-outline-secondary\" data-wg-type=\"button\" type=\"button\">Ea cillum et</button> </div> <small class=\"text-muted\" data-wg-type=\"label\">Eiusmod amet</small> </div> </div> </div> <div class=\"text-black shadow card\" data-wg-type=\"card\"> <img class=\"card-img-top img\" data-wg-type=\"image\" style=\"background-color: gray;height: 100px;\"></img> <div class=\"card-body\"> <h5 class=\"card-title\" data-wg-type=\"label\">Ea anim aliqua qui</h5> <p class=\"card-text\" data-wg-type=\"label\">Ea cillum aliqua nostrud aliquip anim aliqua quis</p> <div class=\"d-flex justify-content-between align-items-center\"> <div class=\"btn-group\"> <button class=\"btn btn-sm btn-outline-secondary\" data-wg-type=\"button\" type=\"button\">Et cillum et</button> </div> <small class=\"text-muted\" data-wg-type=\"label\">Ea commodo et</small> </div> </div> </div> </div> </div> </div> </div> </div> </div> </body> </html>\n",
            "    Answer: <!DOCTYPE html> <html> <head> <title>Dominate</title> <meta content=\"width=device-width, initial-scale=1.0\" name=\"viewport\"> <meta content=\"Web Generator\" name=\"author\"> <meta content=\"2\" name=\"wg-layout\"> <link href=\"../css/custom-bootstrap.css\" rel=\"stylesheet\"> <link href=\"../css/wg-extras.css\" rel=\"stylesheet\"> <script src=\"../js/jquery-3.2.1.slim.min.js\" type=\"text/javascript\"></script> <script src=\"../js/bootstrap.min.js\" type=\"text/javascript\"></script> </head> <body class=\"\"> <div class=\"\" id=\"full-wrapper\"> <nav class=\"bg-light navbar-light navbar navbar-expand-md\" data-wg-type=\"navbar\"> <button class=\"navbar-toggler\" data-target=\"#main-nav\" data-toggle=\"collapse\" type=\"button\"> <span class=\"navbar-toggler-icon\"></span> </button> <div class=\"collapse navbar-collapse\" id=\"main-nav\" style=\"height: 5vh;\"> <ul class=\"navbar-nav mr-auto\"> <li class=\"nav-item\"> <a class=\"nav-link\" data-wg-type=\"button\" href=\"#\">Consequat sed</a> </li> <li class=\"nav-item\"> <a class=\"nav-link\" data-wg-type=\"button\" href=\"#\">Veniam anim</a> </li> <li class=\"nav-item\"> <a class=\"nav-link\" data-wg-type=\"button\" href=\"#\">Magna aute ex</a> </li> <li class=\"nav-item\"> <a class=\"nav-link\" data-wg-type=\"button\" href=\"#\">Irure ullamco</a> </li> <li class=\"nav-item\"> <a class=\"nav-link\" data-wg-type=\"button\" href=\"#\">Excepteur qui</a> </li> <li class=\"nav-item\"> <a class=\"nav-link\" data-wg-type=\"button\" href=\"#\">Labore sit in</a> </li> </ul> </div> </nav> <header class=\"bg-light d-flex align-items-center justify-content-center\" data-wg-type=\"header\" style=\"height: 23vh;\"> <h1 class=\"p-2 text-center\" data-wg-type=\"label\">Tempor Aliquip Deserunt Laboris Id</h1> </header> <div class=\"d-flex\"> <div class=\"container-fluid py-3\" id=\"page-content\"> <div class=\"wg-detect\" data-wg-type=\"descriptive_items\"> <div class=\"row\"> <div class=\"col\"> <h2 data-wg-type=\"label\">Consequat sit mollit occaecat.</h2> <p><br> <img class=\"mx-auto m-2 shadow img\" data-wg-type=\"image\" style=\"background-color: gray;width: 297px;height: 267px;\"></img> <span data-wg-type=\"text_area\">Incididunt occaecat quis sed. Dolore adipiscing dolor eiusmod pariatur veniam. Dolor et nulla ipsum aute et. Tempor culpa sed labore tempor laboris proident voluptate. Minim laborum ex duis consequat. Anim duis dolore qui sit nisi enim. Ipsum qui amet elit mollit. Do mollit aliquip laboris consequat consequat. Dolor nisi in culpa sit, veniam non cillum commodo dolore proident ipsum. Do cupidatat incididunt nisi veniam cupidatat labore aute. Aliquip et voluptate exercitation, sed cillum tempor dolore incididunt. Magna in est aute minim sint mollit, ea quis et occaecat dolore officia cillum est, in aliqua cillum eiusmod mollit. Id do labore exercitation nulla, qui dolor mollit est. Nulla veniam mollit esse. Et elit laboris officia incididunt, consequat elit occaecat lorem. Aliqua aliquip id consectetur ea. Qui anim anim dolore laborum amet sed nostrud. Pariatur id incididunt adipiscing ullamco.</span> </p> </div> </div> </div> <div class=\"row wg-detect\"> <div class=\"col\"> <div class=\"card-columns\"> <div class=\"text-black shadow card\" data-wg-type=\"card\"> <img class=\"card-img-top img\" data-wg-type=\"image\" style=\"background-color: gray;height: 100px;\"></img> <div class=\"card-body\"> <h5 class=\"card-title\" data-wg-type=\"label\">Esse cillum do nisi</h5> <p class=\"card-text\" data-wg-type=\"label\">Quis proident eiusmod dolore incididunt nisi ex do</p> <div class=\"d-flex justify-content-between align-items-center\"> <div class=\"btn-group\"> <button class=\"btn btn-sm btn-outline-secondary\" data-wg-type=\"button\" type=\"button\">Aliqua ex eu</button> </div> <small class=\"text-muted\" data-wg-type=\"label\">Culpa velit</small> </div> </div> </div> <div class=\"text-black shadow card\" data-wg-type=\"card\"> <img class=\"card-img-top img\" data-wg-type=\"image\" style=\"background-color: gray;height: 100px;\"></img> <div class=\"card-body\"> <h5 class=\"card-title\" data-wg-type=\"label\">Cillum esse velit do</h5> <p class=\"card-text\" data-wg-type=\"label\">Occaecat magna sint cillum veniam aute elit sit ex</p> <div class=\"d-flex justify-content-between align-items-center\"> <div class=\"btn-group\"> <button class=\"btn btn-sm btn-outline-secondary\" data-wg-type=\"button\" type=\"button\">Anim et ipsum</button> </div> <small class=\"text-muted\" data-wg-type=\"label\">Esse dolor ut</small> </div> </div> </div> <div class=\"text-black shadow card\" data-wg-type=\"card\"> <img class=\"card-img-top img\" data-wg-type=\"image\" style=\"background-color: gray;height: 100px;\"></img> <div class=\"card-body\"> <h5 class=\"card-title\" data-wg-type=\"label\">Exercitation nostrud</h5> <p class=\"card-text\" data-wg-type=\"label\">Et reprehenderit magna consectetur in anim dolor</p> <div class=\"d-flex justify-content-between align-items-center\"> <div class=\"btn-group\"> <button class=\"btn btn-sm btn-outline-secondary\" data-wg-type=\"button\" type=\"button\">Magna tempor</button> </div> <small class=\"text-muted\" data-wg-type=\"label\">Esse laboris</small> </div> </div> </div> <div class=\"text-black shadow card\" data-wg-type=\"card\"> <img class=\"card-img-top img\" data-wg-type=\"image\" style=\"background-color: gray;height: 100px;\"></img> <div class=\"card-body\"> <h5 class=\"card-title\" data-wg-type=\"label\">Irure anim nulla et</h5> <p class=\"card-text\" data-wg-type=\"label\">Officia mollit cupidatat non elit aute eiusmod ex</p> <div class=\"d-flex justify-content-between align-items-center\"> <div class=\"btn-group\"> <button class=\"btn btn-sm btn-outline-secondary\" data-wg-type=\"button\" type=\"button\">Reprehenderit</button> </div> <small class=\"text-muted\" data-wg-type=\"label\">Ullamco ad ut</small> </div> </div> </div> <div class=\"text-black shadow card\" data-wg-type=\"card\"> <img class=\"card-img-top img\" data-wg-type=\"image\" style=\"background-color: gray;height: 100px;\"></img> <div class=\"card-body\"> <h5 class=\"card-title\" data-wg-type=\"label\">Eu culpa veniam esse</h5> <p class=\"card-text\" data-wg-type=\"label\">Et aute veniam ad commodo non culpa id esse dolor</p> <div class=\"d-flex justify-content-between align-items-center\"> <div class=\"btn-group\"> <button class=\"btn btn-sm btn-outline-secondary\" data-wg-type=\"button\" type=\"button\">Cillum elit</button> </div> <small class=\"text-muted\" data-wg-type=\"label\">Dolor amet ex</small> </div> </div> </div> </div> </div> </div> <div class=\"row wg-detect\"> <div class=\"col\"> <div class=\"card-columns\"> <div class=\"text-black card\" data-wg-type=\"card\"> <img class=\"card-img-top img\" data-wg-type=\"image\" style=\"background-color: gray;height: 100px;\"></img> <div class=\"card-body\"> <h5 class=\"card-title\" data-wg-type=\"label\">Irure consequat enim</h5> <p class=\"card-text\" data-wg-type=\"label\">Sit non tempor lorem sit et ad qui sed voluptate</p> <div class=\"d-flex justify-content-between align-items-center\"> <div class=\"btn-group\"> <button class=\"btn btn-sm btn-outline-secondary\" data-wg-type=\"button\" type=\"button\">Voluptate ad</button> </div> <small class=\"text-muted\" data-wg-type=\"label\">Eiusmod sunt</small> </div> </div> </div> <div class=\"text-black card\" data-wg-type=\"card\"> <img class=\"card-img-top img\" data-wg-type=\"image\" style=\"background-color: gray;height: 100px;\"></img> <div class=\"card-body\"> <h5 class=\"card-title\" data-wg-type=\"label\">Nulla veniam ea quis</h5> <p class=\"card-text\" data-wg-type=\"label\">Lorem id laboris eu sed mollit duis aute minim ad</p> <div class=\"d-flex justify-content-between align-items-center\"> <div class=\"btn-group\"> <button class=\"btn btn-sm btn-outline-secondary\" data-wg-type=\"button\" type=\"button\">Ut quis id eu</button> </div> <small class=\"text-muted\" data-wg-type=\"label\">Veniam lorem</small> </div> </div> </div> <div class=\"text-black card\" data-wg-type=\"card\"> <img class=\"card-img-top img\" data-wg-type=\"image\" style=\"background-color: gray;height: 100px;\"></img> <div class=\"card-body\"> <h5 class=\"card-title\" data-wg-type=\"label\">Do id pariatur duis</h5> <p class=\"card-text\" data-wg-type=\"label\">Magna et pariatur dolore fugiat aute duis veniam</p> <div class=\"d-flex justify-content-between align-items-center\"> <div class=\"btn-group\"> <button class=\"btn btn-sm btn-outline-secondary\" data-wg-type=\"button\" type=\"button\">Dolor amet ut</button> </div> <small class=\"text-muted\" data-wg-type=\"label\">Eiusmod elit</small> </div> </div> </div> <div class=\"text-black card\" data-wg-type=\"card\"> <img class=\"card-img-top img\" data-wg-type=\"image\" style=\"background-color: gray;height: 100px;\"></img> <div class=\"card-body\"> <h5 class=\"card-title\" data-wg-type=\"label\">Culpa deserunt eu ad</h5> <p class=\"card-text\" data-wg-type=\"label\">Minim laboris labore cupidatat pariatur duis sunt</p> <div class=\"d-flex justify-content-between align-items-center\"> <div class=\"btn-group\"> <button class=\"btn btn-sm btn-outline-secondary\" data-wg-type=\"button\" type=\"button\">Commodo ex ea</button> </div> <small class=\"text-muted\" data-wg-type=\"label\">Incididunt in</small> </div> </div> </div> </div> </div> </div> </div> </div> </div> </body> </html>\n",
            "      Bleu: 0.83\n",
            "\n",
            "Prediction: <!DOCTYPE html> <html> <head> <title>Dominate</title> <meta content=\"width=device-width, initial-scale=1.0\" name=\"viewport\"> <meta content=\"Web Generator\" name=\"author\"> <meta content=\"3\" name=\"wg-layout\"> <link href=\"../css/custom-bootstrap.css\" rel=\"stylesheet\"> <link href=\"../css/wg-extras.css\" rel=\"stylesheet\"> <script src=\"../js/jquery-3.2.1.slim.min.js\" type=\"text/javascript\"></script> <script src=\"../js/bootstrap.min.js\" type=\"text/javascript\"></script> </head> <body class=\"\"> <div class=\" rounded\" id=\"full-wrapper\"> <nav class=\"bg-light navbar-light rounded navbar navbar-expand-md\" data-wg-type=\"navbar\"> <a class=\"navbar-brand\" data-wg-type=\"label\" href=\"#\">Amet</a> <button class=\"navbar-toggler\" data-target=\"#main-nav\" data-toggle=\"collapse\" type=\"button\"> <span class=\"navbar-toggler-icon\"></span> </button> <div class=\"collapse navbar-collapse\" id=\"main-nav\" style=\"height: 9vh;\"> <ul class=\"navbar-nav mr-auto\"> <li class=\"nav-item\"> <a class=\"nav-link\" data-wg-type=\"button\" href=\"#\">Commodo amet</a> </li> <li class=\"nav-item\"> <a class=\"nav-link\" data-wg-type=\"button\" href=\"#\">Esse laboris</a> </li> <li class=\"nav-item\"> <a class=\"nav-link\" data-wg-type=\"button\" href=\"#\">Esse nostrud</a> </li> <li class=\"nav-item\"> <a class=\"nav-link\" data-wg-type=\"button\" href=\"#\">Sint labore</a> </li> <li class=\"nav-item\"> <a class=\"nav-link\" data-wg-type=\"button\" href=\"#\">Eiusmod duis</a> </li> <li class=\"nav-item\"> <a class=\"nav-link\" data-wg-type=\"button\" href=\"#\">Et cillum est</a> </li> </ul> </div> </nav> <header class=\"bg-light rounded d-flex align-items-center justify-content-center\" data-wg-type=\"header\" style=\"height: 37vh;\"> <h1 class=\"p-2 text-center\" data-wg-type=\"label\">Ea Laborum Anim Anim Ipsum Laboris</h1> </header> <div class=\"d-flex\"> <div class=\"bg-light rounded\" data-wg-type=\"sidebar\" id=\"sidebar-wrapper\"> <div class=\"sidebar-heading\" data-wg-type=\"label\">Enim</div> <div class=\"list-group list-group-flush\" style=\"width:27vh;\"> <a class=\"list-group-item list-group-item-action\" data-wg-type=\"button\" href=\"#\">Ea cillum sed</a> <a class=\"list-group-item list-group-item-action\" data-wg-type=\"button\" href=\"#\">Ea anim lorem</a> </div> </div> <div class=\"container-fluid py-3\" id=\"page-content\"> <form class=\"p-3\"> <div class=\"form-group\"> <label data-wg-type=\"label\" for=\"ex\">Ex</label> <input class=\"form-control\" data-wg-type=\"text\" id=\"ex\" type=\"text\"> </div> <div class=\"form-row\"> <div class=\"form-group col-md\"> <label data-wg-type=\"label\" for=\"laborum_exercitation\">Laborum exercitation</label> <input class=\"form-control\" data-wg-type=\"text\" id=\"laborum_exercitation\" type=\"text\"> </div> <div class=\"form-group col-md\"> <label data-wg-type=\"label\" for=\"ipsum\">Ipsum</label> <input class=\"form-control\" data-wg-type=\"text\" id=\"ipsum\" type=\"text\"> </div> </div> <div class=\"form-group\"> <label data-wg-type=\"label\" for=\"exercitation\">Exercitation</label> <input class=\"form-control\" data-wg-type=\"text\" id=\"exercitation\" type=\"text\"> </div> <div class=\"form-row\"> <div class=\"form-group col-md\"> <label data-wg-type=\"label\" for=\"magna\">Magna</label> <input class=\"custom-range\" data-wg-type=\"slider\" id=\"magna\" type=\"slider\"> </div> <div class=\"form-group col-md\"> <label data-wg-type=\"label\" for=\"laborum_exercitation\">Laborum exercitation</label> <input class=\"custom-range\" data-wg-type=\"slider\" id=\"laborum_exercitation\" type=\"slider\"> </div> <div class=\"form-group col-md\"> <label data-wg-type=\"label\" for=\"laborum\">Laborum</label> <input class=\"form-control\" data-wg-type=\"text\" id=\"laborum\" type=\"text\"> </div> <div class=\"form-group col-md\"> <label data-wg-type=\"label\" for=\"ullamco\">Ullamco</label> <input class=\"custom-range\" data-wg-type=\"slider\" id=\"ullamco\" type=\"slider\"> </div> </div> <div class=\"form-group\"> <label data-wg-type=\"label\" for=\"laborum_incididunt\">Laborum incididunt</label> <input class=\"custom-range\" data-wg-type=\"slider\" id=\"laborum_incididunt\" type=\"slider\"> </div> <div class=\"form-row\"> <div class=\"form-group col-md\"> <label data-wg-type=\"label\" for=\"adipiscing\">Adipiscing</label> <input class=\"form-control\" data-wg-type=\"text\" id=\"adipiscing\" type=\"text\"> </div> <div class=\"form-group col-md\"> <label data-wg-type=\"label\" for=\"magna\">Magna</label> <input class=\"custom-range\" data-wg-type=\"slider\" id=\"magna\" type=\"slider\"> </div> <div class=\"form-group col-md\"> <label data-wg-type=\"label\" for=\"sunt\">Sunt</label> <input class=\"custom-range\" data-wg-type=\"slider\" id=\"sunt\" type=\"slider\"> </div> </div> <div class=\"form-row\"> <div class=\"form-group col-md\"> <label data-wg-type=\"label\" for=\"nostrud\">Nostrud</label> <input class=\"form-control\" data-wg-type=\"text\" id=\"nostrud\" type=\"text\"> </div> <div class=\"form-group col-md\"> <label data-wg-type=\"label\" for=\"labore_laboris\">Labore laboris</label> <input class=\"form-control\" data-wg-type=\"text\" id=\"labore_laboris\" type=\"text\"> </div> </div> <div class=\"form-row\"> <div class=\"form-group col-md\"> <label data-wg-type=\"label\" for=\"ullamco\">Ullamco</label> <input class=\"form-control\" data-wg-type=\"text\" id=\"ullamco\" type=\"text\"> </div> <div class=\"form-group col-md\"> <label data-wg-type=\"label\" for=\"laborum_reprehenderit\">Laborum reprehenderit</label> <input class=\"form-control\" data-wg-type=\"text\" id=\"laborum_reprehenderit\" type=\"text\"> </div> <div class=\"form-group col-md\"> <label data-wg-type=\"label\" for=\"laborum\">Laborum</label> <input class=\"form-control\" data-wg-type=\"text\" id=\"laborum\" type=\"text\"> </div> </div> <div class=\"form-group\"> <div class=\"custom-switch\" data-wg-type=\"checkbox_switch\"> <input class=\"custom-control-input\" id=\"ut\" type=\"checkbox\"> <label class=\"custom-control-label\" data-wg-type=\"checkbox_label\" for=\"ut\">Ut</label> </div> </div> </form> </div> </div> </div> </body> </html>\n",
            "    Answer: <!DOCTYPE html> <html> <head> <title>Dominate</title> <meta content=\"width=device-width, initial-scale=1.0\" name=\"viewport\"> <meta content=\"Web Generator\" name=\"author\"> <meta content=\"3\" name=\"wg-layout\"> <link href=\"../css/custom-bootstrap.css\" rel=\"stylesheet\"> <link href=\"../css/wg-extras.css\" rel=\"stylesheet\"> <script src=\"../js/jquery-3.2.1.slim.min.js\" type=\"text/javascript\"></script> <script src=\"../js/bootstrap.min.js\" type=\"text/javascript\"></script> </head> <body class=\"\"> <div class=\"\" id=\"full-wrapper\"> <nav class=\"bg-light navbar-light navbar navbar-expand-md\" data-wg-type=\"navbar\"> <a class=\"navbar-brand\" data-wg-type=\"label\" href=\"#\">Dolor</a> <button class=\"navbar-toggler\" data-target=\"#main-nav\" data-toggle=\"collapse\" type=\"button\"> <span class=\"navbar-toggler-icon\"></span> </button> <div class=\"collapse navbar-collapse\" id=\"main-nav\" style=\"height: 9vh;\"> <ul class=\"navbar-nav mr-auto\"> <li class=\"nav-item\"> <a class=\"nav-link\" data-wg-type=\"button\" href=\"#\">Laborum ad ut</a> </li> <li class=\"nav-item\"> <a class=\"nav-link\" data-wg-type=\"button\" href=\"#\">Nostrud nisi</a> </li> <li class=\"nav-item\"> <a class=\"nav-link\" data-wg-type=\"button\" href=\"#\">Aliqua minim</a> </li> <li class=\"nav-item\"> <a class=\"nav-link\" data-wg-type=\"button\" href=\"#\">Fugiat velit</a> </li> <li class=\"nav-item\"> <a class=\"nav-link\" data-wg-type=\"button\" href=\"#\">Cupidatat ea</a> </li> <li class=\"nav-item\"> <a class=\"nav-link\" data-wg-type=\"button\" href=\"#\">Anim velit ut</a> </li> </ul> </div> </nav> <header class=\"bg-light d-flex align-items-center justify-content-center\" data-wg-type=\"header\" style=\"height: 38vh;\"> <h1 class=\"p-2 text-center\" data-wg-type=\"label\">Deserunt Officia Sit Magna Consequat</h1> </header> <div class=\"d-flex\"> <div class=\"bg-light\" data-wg-type=\"sidebar\" id=\"sidebar-wrapper\"> <div class=\"sidebar-heading\" data-wg-type=\"label\">Et</div> <div class=\"list-group list-group-flush\" style=\"width:30vh;\"> <a class=\"list-group-item list-group-item-action\" data-wg-type=\"button\" href=\"#\">Eiusmod sed</a> <a class=\"list-group-item list-group-item-action\" data-wg-type=\"button\" href=\"#\">Elit proident</a> </div> </div> <div class=\"container-fluid py-3\" id=\"page-content\"> <form class=\"p-3\"> <div class=\"form-group\"> <label data-wg-type=\"label\" for=\"ex\">Ex</label> <input class=\"form-control\" data-wg-type=\"text\" id=\"ex\" type=\"text\"> </div> <div class=\"form-row\"> <div class=\"form-group col-md\"> <label data-wg-type=\"label\" for=\"ut_officia_incididunt\">Ut officia incididunt</label> <input class=\"form-control\" data-wg-type=\"text\" id=\"ut_officia_incididunt\" type=\"text\"> </div> <div class=\"form-group col-md\"> <label data-wg-type=\"label\" for=\"aliqua\">Aliqua</label> <input class=\"form-control\" data-wg-type=\"text\" id=\"aliqua\" type=\"text\"> </div> </div> <div class=\"form-group\"> <label data-wg-type=\"label\" for=\"consectetur\">Consectetur</label> <input class=\"form-control\" data-wg-type=\"text\" id=\"consectetur\" type=\"text\"> </div> <div class=\"form-row\"> <div class=\"form-group col-md\"> <label data-wg-type=\"label\" for=\"laboris\">Laboris</label> <input class=\"custom-range\" data-wg-type=\"slider\" id=\"laboris\" type=\"slider\"> </div> <div class=\"form-group col-md\"> <label data-wg-type=\"label\" for=\"exercitation_qui_nulla\">Exercitation qui nulla</label> <input class=\"custom-range\" data-wg-type=\"slider\" id=\"exercitation_qui_nulla\" type=\"slider\"> </div> <div class=\"form-group col-md\"> <label data-wg-type=\"label\" for=\"quis_non\">Quis non</label> <input class=\"form-control\" data-wg-type=\"text\" id=\"quis_non\" type=\"text\"> </div> <div class=\"form-group col-md\"> <label data-wg-type=\"label\" for=\"anim_sit\">Anim sit</label> <input class=\"custom-range\" data-wg-type=\"slider\" id=\"anim_sit\" type=\"slider\"> </div> </div> <div class=\"form-group\"> <label data-wg-type=\"label\" for=\"duis_sed_incididunt\">Duis sed incididunt</label> <input class=\"custom-range\" data-wg-type=\"slider\" id=\"duis_sed_incididunt\" type=\"slider\"> </div> <div class=\"form-row\"> <div class=\"form-group col-md\"> <label data-wg-type=\"label\" for=\"commodo\">Commodo</label> <input class=\"form-control\" data-wg-type=\"text\" id=\"commodo\" type=\"text\"> </div> <div class=\"form-group col-md\"> <label data-wg-type=\"label\" for=\"aliquip\">Aliquip</label> <input class=\"custom-range\" data-wg-type=\"slider\" id=\"aliquip\" type=\"slider\"> </div> <div class=\"form-group col-md\"> <label data-wg-type=\"label\" for=\"esse\">Esse</label> <input class=\"custom-range\" data-wg-type=\"slider\" id=\"esse\" type=\"slider\"> </div> </div> <div class=\"form-row\"> <div class=\"form-group col-md\"> <label data-wg-type=\"label\" for=\"dolor_est\">Dolor est</label> <input class=\"form-control\" data-wg-type=\"text\" id=\"dolor_est\" type=\"text\"> </div> <div class=\"form-group col-md\"> <label data-wg-type=\"label\" for=\"sint_incididunt\">Sint incididunt</label> <input class=\"form-control\" data-wg-type=\"text\" id=\"sint_incididunt\" type=\"text\"> </div> </div> <div class=\"form-row\"> <div class=\"form-group col-md\"> <label data-wg-type=\"label\" for=\"eu_dolor\">Eu dolor</label> <input class=\"form-control\" data-wg-type=\"text\" id=\"eu_dolor\" type=\"text\"> </div> <div class=\"form-group col-md\"> <label data-wg-type=\"label\" for=\"reprehenderit_eu_cillum\">Reprehenderit eu cillum</label> <input class=\"form-control\" data-wg-type=\"text\" id=\"reprehenderit_eu_cillum\" type=\"text\"> </div> <div class=\"form-group col-md\"> <label data-wg-type=\"label\" for=\"eiusmod\">Eiusmod</label> <input class=\"form-control\" data-wg-type=\"text\" id=\"eiusmod\" type=\"text\"> </div> </div> <div class=\"form-group\"> <div class=\"custom-switch\" data-wg-type=\"checkbox_switch\"> <input class=\"custom-control-input\" id=\"eu\" type=\"checkbox\"> <label class=\"custom-control-label\" data-wg-type=\"checkbox_label\" for=\"eu\">Eu</label> </div> </div> </form> </div> </div> </div> </body> </html>\n",
            "      Bleu: 0.91\n",
            "\n",
            "Prediction: <!DOCTYPE html> <html> <head> <title>Dominate</title> <meta content=\"width=device-width, initial-scale=1.0\" name=\"viewport\"> <meta content=\"Web Generator\" name=\"author\"> <meta content=\"3\" name=\"wg-layout\"> <link href=\"../css/custom-bootstrap.css\" rel=\"stylesheet\"> <link href=\"../css/wg-extras.css\" rel=\"stylesheet\"> <script src=\"../js/jquery-3.2.1.slim.min.js\" type=\"text/javascript\"></script> <script src=\"../js/bootstrap.min.js\" type=\"text/javascript\"></script> </head> <body class=\"\"> <div class=\" rounded shadow\" id=\"full-wrapper\"> <nav class=\"bg-light navbar-light rounded shadow navbar navbar-expand-md\" data-wg-type=\"navbar\"> <button class=\"navbar-toggler\" data-target=\"#main-nav\" data-toggle=\"collapse\" type=\"button\"> <span class=\"navbar-toggler-icon\"></span> </button> <div class=\"collapse navbar-collapse\" id=\"main-nav\" style=\"height: 5vh;\"> <ul class=\"navbar-nav mr-auto\"> <li class=\"nav-item\"> <a class=\"nav-link\" data-wg-type=\"button\" href=\"#\">Et aliquip ex</a> </li> <li class=\"nav-item\"> <a class=\"nav-link\" data-wg-type=\"button\" href=\"#\">Sint aliqua</a> </li> <li class=\"nav-item\"> <a class=\"nav-link\" data-wg-type=\"button\" href=\"#\">Esse nostrud</a> </li> <li class=\"nav-item\"> <a class=\"nav-link\" data-wg-type=\"button\" href=\"#\">Et aliquip id</a> </li> </ul> </div> </nav> <header class=\"bg-light rounded shadow d-flex align-items-center justify-content-center\" data-wg-type=\"header\" style=\"height: 39vh;\"> <h1 class=\"p-2 text-center\" data-wg-type=\"label\">Enim Anim Anim Laborum Ipsum Irure</h1> </header> <div class=\"d-flex\"> <div class=\"bg-light rounded shadow\" data-wg-type=\"sidebar\" id=\"sidebar-wrapper\"> <div class=\"sidebar-heading\" data-wg-type=\"label\">Enim</div> <div class=\"list-group list-group-flush\" style=\"width:28vh;\"> <a class=\"list-group-item list-group-item-action\" data-wg-type=\"button\" href=\"#\">Ea nostrud et</a> <a class=\"list-group-item list-group-item-action\" data-wg-type=\"button\" href=\"#\">Ea cillum sed</a> <a class=\"list-group-item list-group-item-action\" data-wg-type=\"button\" href=\"#\">Ea commodo et</a> <a class=\"list-group-item list-group-item-action\" data-wg-type=\"button\" href=\"#\">Ea ullamco et</a> <a class=\"list-group-item list-group-item-action\" data-wg-type=\"button\" href=\"#\">Ea cillum id</a> </div> </div> <div class=\"container-fluid py-3\" id=\"page-content\"> <div class=\"row wg-detect\"> <div class=\"col\"> <div class=\"card-columns\"> <div class=\"text-black card\" data-wg-type=\"card\"> <div class=\"card-body\"> <h5 class=\"card-title\" data-wg-type=\"label\">Ea anim aliquip qui</h5> <p class=\"card-text\" data-wg-type=\"label\">Ea nostrud aliqua aliquip cillum aliqua commodo est</p> <div class=\"d-flex justify-content-between align-items-center\"> <div class=\"btn-group\"> <button class=\"btn btn-sm btn-outline-secondary\" data-wg-type=\"button\" type=\"button\">Et cillum et</button> </div> <small class=\"text-muted\" data-wg-type=\"label\">Ea cillum ut</small> </div> </div> </div> <div class=\"text-black card\" data-wg-type=\"card\"> <div class=\"card-body\"> <h5 class=\"card-title\" data-wg-type=\"label\">Ea anim aliqua quis</h5> <p class=\"card-text\" data-wg-type=\"label\">Ea nostrud aliqua aliqua cillum aliqua commodo est</p> <div class=\"d-flex justify-content-between align-items-center\"> <div class=\"btn-group\"> <button class=\"btn btn-sm btn-outline-secondary\" data-wg-type=\"button\" type=\"button\">Ea cillum et</button> </div> <small class=\"text-muted\" data-wg-type=\"label\">Ea cillum et</small> </div> </div> </div> <div class=\"text-black card\" data-wg-type=\"card\"> <div class=\"card-body\"> <h5 class=\"card-title\" data-wg-type=\"label\">Enim aliqua commodo</h5> <p class=\"card-text\" data-wg-type=\"label\">Ea nostrud aliqua aliqua ullamco aliqua nostrud et</p> <div class=\"d-flex justify-content-between align-items-center\"> <div class=\"btn-group\"> <button class=\"btn btn-sm btn-outline-secondary\" data-wg-type=\"button\" type=\"button\">Eiusmod amet</button> </div> <small class=\"text-muted\" data-wg-type=\"label\">Ea aliquip et</small> </div> </div> </div> </div> </div> </div> <div class=\"wg-detect\" data-wg-type=\"descriptive_items\"> <div class=\"row\"> <div class=\"col\"> <h2 data-wg-type=\"label\">Enim aliqua cillum aliquip.</h2> <p><br> <img class=\"float-left m-2 img\" data-wg-type=\"image\" style=\"background-color: gray;width: 211px;height: 258px;\"></img> <span data-wg-type=\"text_area\">Ea commodo aliqua aliqua. Dolor ullamco aliqua aliqua. Dolor commodo aliqua aliqua. Dolor ullamco aliqua aliquip. Dolor commodo aliqua aliqua. Dolor ullamco aliqua aliqua.</span> </p> </div> </div> <div class=\"row\"> <div class=\"col\"> <h2 data-wg-type=\"label\">Enim aliqua aliquip anim.</h2> <p><br> <img class=\"float-right m-2 img\" data-wg-type=\"image\" style=\"background-color: gray;width: 211px;height: 258px;\"></img> <span data-wg-type=\"text_area\">Ea commodo aliqua aliqua. Laborum aliquip aliqua aliqua. Dolor ullamco aliqua aliqua. Dolor commodo aliqua aliqua. Dolor aliqua aliquip aliqua. Dolor ullamco aliqua aliqua. Dolor ullamco aliqua aliquip. Dolor ullamco aliqua aliqua.</span> </p> </div> </div> </div> </div> </div> </div> </body> </html>\n",
            "    Answer: <!DOCTYPE html> <html> <head> <title>Dominate</title> <meta content=\"width=device-width, initial-scale=1.0\" name=\"viewport\"> <meta content=\"Web Generator\" name=\"author\"> <meta content=\"3\" name=\"wg-layout\"> <link href=\"../css/custom-bootstrap.css\" rel=\"stylesheet\"> <link href=\"../css/wg-extras.css\" rel=\"stylesheet\"> <script src=\"../js/jquery-3.2.1.slim.min.js\" type=\"text/javascript\"></script> <script src=\"../js/bootstrap.min.js\" type=\"text/javascript\"></script> </head> <body class=\"\"> <div class=\" shadow\" id=\"full-wrapper\"> <nav class=\"bg-light navbar-light shadow navbar navbar-expand-md\" data-wg-type=\"navbar\"> <button class=\"navbar-toggler\" data-target=\"#main-nav\" data-toggle=\"collapse\" type=\"button\"> <span class=\"navbar-toggler-icon\"></span> </button> <div class=\"collapse navbar-collapse\" id=\"main-nav\" style=\"height: 5vh;\"> <ul class=\"navbar-nav mr-auto\"> <li class=\"nav-item\"> <a class=\"nav-link\" data-wg-type=\"button\" href=\"#\">Enim est elit</a> </li> <li class=\"nav-item\"> <a class=\"nav-link\" data-wg-type=\"button\" href=\"#\">Dolor culpa</a> </li> <li class=\"nav-item\"> <a class=\"nav-link\" data-wg-type=\"button\" href=\"#\">Enim veniam</a> </li> <li class=\"nav-item\"> <a class=\"nav-link\" data-wg-type=\"button\" href=\"#\">Culpa nulla</a> </li> </ul> </div> </nav> <header class=\"bg-light shadow d-flex align-items-center justify-content-center\" data-wg-type=\"header\" style=\"height: 40vh;\"> <h1 class=\"p-2 text-center\" data-wg-type=\"label\">Laboris Nulla Ipsum Nostrud Anim Sint</h1> </header> <div class=\"d-flex\"> <div class=\"bg-light shadow\" data-wg-type=\"sidebar\" id=\"sidebar-wrapper\"> <div class=\"sidebar-heading\" data-wg-type=\"label\">Qui</div> <div class=\"list-group list-group-flush\" style=\"width:24vh;\"> <a class=\"list-group-item list-group-item-action\" data-wg-type=\"button\" href=\"#\">Officia ut ea</a> <a class=\"list-group-item list-group-item-action\" data-wg-type=\"button\" href=\"#\">Dolor enim eu</a> <a class=\"list-group-item list-group-item-action\" data-wg-type=\"button\" href=\"#\">Duis laborum</a> <a class=\"list-group-item list-group-item-action\" data-wg-type=\"button\" href=\"#\">Fugiat aute</a> <a class=\"list-group-item list-group-item-action\" data-wg-type=\"button\" href=\"#\">Sint anim non</a> </div> </div> <div class=\"container-fluid py-3\" id=\"page-content\"> <div class=\"row wg-detect\"> <div class=\"col\"> <div class=\"card-columns\"> <div class=\"text-black card\" data-wg-type=\"card\"> <div class=\"card-body\"> <h5 class=\"card-title\" data-wg-type=\"label\">Veniam non anim do</h5> <p class=\"card-text\" data-wg-type=\"label\">Est aute sed consequat eu duis enim commodo dolor</p> <div class=\"d-flex justify-content-between align-items-center\"> <div class=\"btn-group\"> <button class=\"btn btn-sm btn-outline-secondary\" data-wg-type=\"button\" type=\"button\">Consectetur</button> </div> <small class=\"text-muted\" data-wg-type=\"label\">Ea est ea id</small> </div> </div> </div> <div class=\"text-black card\" data-wg-type=\"card\"> <div class=\"card-body\"> <h5 class=\"card-title\" data-wg-type=\"label\">Quis occaecat cillum</h5> <p class=\"card-text\" data-wg-type=\"label\">Tempor aliquip consectetur adipiscing sit sunt et</p> <div class=\"d-flex justify-content-between align-items-center\"> <div class=\"btn-group\"> <button class=\"btn btn-sm btn-outline-secondary\" data-wg-type=\"button\" type=\"button\">Nostrud qui</button> </div> <small class=\"text-muted\" data-wg-type=\"label\">Ut pariatur</small> </div> </div> </div> <div class=\"text-black card\" data-wg-type=\"card\"> <div class=\"card-body\"> <h5 class=\"card-title\" data-wg-type=\"label\">Ea mollit cupidatat</h5> <p class=\"card-text\" data-wg-type=\"label\">Dolor do aute aliqua eiusmod anim enim sint ad ea</p> <div class=\"d-flex justify-content-between align-items-center\"> <div class=\"btn-group\"> <button class=\"btn btn-sm btn-outline-secondary\" data-wg-type=\"button\" type=\"button\">Aute occaecat</button> </div> <small class=\"text-muted\" data-wg-type=\"label\">Nisi labore</small> </div> </div> </div> </div> </div> </div> <div class=\"wg-detect\" data-wg-type=\"descriptive_items\"> <div class=\"row\"> <div class=\"col\"> <h2 data-wg-type=\"label\">Deserunt fugiat excepteur cillum proident.</h2> <p><br> <img class=\"float-left m-2 shadow img\" data-wg-type=\"image\" style=\"background-color: gray;width: 218px;height: 261px;\"></img> <span data-wg-type=\"text_area\">Ex irure irure veniam. Commodo consequat nulla tempor minim. Fugiat nisi cupidatat nostrud. Voluptate exercitation dolore excepteur ullamco lorem eiusmod cillum, irure reprehenderit adipiscing nostrud. Officia enim consequat ullamco occaecat sint sit, veniam consequat id occaecat est consequat. Ut eu ut cillum enim aute. Nostrud ut elit dolore fugiat culpa aute anim.</span> </p> </div> </div> <div class=\"row\"> <div class=\"col\"> <h2 data-wg-type=\"label\">Minim consequat sint non sed aute incididunt, laborum excepteur nostrud dolor, esse eu officia elit.</h2> <p><br> <img class=\"float-right m-2 shadow img\" data-wg-type=\"image\" style=\"background-color: gray;width: 218px;height: 261px;\"></img> <span data-wg-type=\"text_area\">Irure proident eu aliquip sed laboris excepteur. Ut irure excepteur reprehenderit consequat. Non sint ut sed proident. Amet culpa consectetur tempor aliquip anim. Amet est dolor aliqua cillum. Fugiat ex commodo ut. Non consectetur sint ex aliqua.</span> </p> </div> </div> </div> </div> </div> </div> </body> </html>\n",
            "      Bleu: 0.92\n",
            " Avg Bleu Score: 0.83\n"
          ]
        },
        {
          "output_type": "stream",
          "name": "stderr",
          "text": [
            "\n"
          ]
        },
        {
          "output_type": "display_data",
          "data": {
            "text/plain": [
              "<IPython.core.display.HTML object>"
            ],
            "text/html": [
              "Waiting for W&B process to finish... <strong style=\"color:green\">(success).</strong>"
            ]
          },
          "metadata": {}
        },
        {
          "output_type": "display_data",
          "data": {
            "text/plain": [
              "<IPython.core.display.HTML object>"
            ],
            "text/html": [
              "<style>\n",
              "    table.wandb td:nth-child(1) { padding: 0 10px; text-align: left ; width: auto;} td:nth-child(2) {text-align: left ; width: 100%}\n",
              "    .wandb-row { display: flex; flex-direction: row; flex-wrap: wrap; justify-content: flex-start; width: 100% }\n",
              "    .wandb-col { display: flex; flex-direction: column; flex-basis: 100%; flex: 1; padding: 10px; }\n",
              "    </style>\n",
              "<div class=\"wandb-row\"><div class=\"wandb-col\"><h3>Run history:</h3><br/><table class=\"wandb\"><tr><td>bleu</td><td>▁█</td></tr><tr><td>loss</td><td>▃▂▁▃▂▄▂▃▂▅▃▂▂▄▄▇▂▂▂▂▂▁█▆▂▄▂▂▂▃▁▃▂▆▂▂▅▂▁▂</td></tr><tr><td>lr_0</td><td>██▇▆▅▄▃▂▁▁</td></tr><tr><td>moving_avg_loss</td><td>▂▆▂▅▂▄█▂▁▃</td></tr></table><br/></div><div class=\"wandb-col\"><h3>Run summary:</h3><br/><table class=\"wandb\"><tr><td>bleu</td><td>0.83062</td></tr><tr><td>loss</td><td>0.05807</td></tr><tr><td>lr_0</td><td>0.0</td></tr><tr><td>moving_avg_loss</td><td>0.28504</td></tr></table><br/></div></div>"
            ]
          },
          "metadata": {}
        },
        {
          "output_type": "display_data",
          "data": {
            "text/plain": [
              "<IPython.core.display.HTML object>"
            ],
            "text/html": [
              " View run <strong style=\"color:#cdcd00\">run-Pix2Struct_SketchSynthBootstrap_Complete</strong> at: <a href='https://wandb.ai/team-gs/Pix2Struct/runs/fj0vb3pn' target=\"_blank\">https://wandb.ai/team-gs/Pix2Struct/runs/fj0vb3pn</a><br/>Synced 5 W&B file(s), 0 media file(s), 0 artifact file(s) and 0 other file(s)"
            ]
          },
          "metadata": {}
        },
        {
          "output_type": "display_data",
          "data": {
            "text/plain": [
              "<IPython.core.display.HTML object>"
            ],
            "text/html": [
              "Find logs at: <code>./wandb/run-20230902_225044-fj0vb3pn/logs</code>"
            ]
          },
          "metadata": {}
        }
      ],
      "source": [
        "train_model(config, processor, model, train_dataloader, val_dataloader)"
      ]
    }
  ]
}