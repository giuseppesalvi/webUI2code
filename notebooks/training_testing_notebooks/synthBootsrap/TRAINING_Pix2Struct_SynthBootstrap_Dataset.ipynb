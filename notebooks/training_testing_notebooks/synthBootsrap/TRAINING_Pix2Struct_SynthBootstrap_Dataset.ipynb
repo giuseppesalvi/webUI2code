{
  "cells": [
    {
      "cell_type": "markdown",
      "metadata": {
        "id": "xY4KuZUbq83Q"
      },
      "source": [
        "# Finetune Pix2Struct model on Synthetic Bootstrap dataset (mini version)"
      ]
    },
    {
      "cell_type": "markdown",
      "metadata": {
        "id": "jT6iC6BDrB9i"
      },
      "source": [
        "## Setup Envirnoment"
      ]
    },
    {
      "cell_type": "code",
      "execution_count": 1,
      "metadata": {
        "colab": {
          "base_uri": "https://localhost:8080/"
        },
        "id": "jc7bhkoMEtq3",
        "outputId": "03475f65-e327-4c95-fa2d-936923baadf3"
      },
      "outputs": [
        {
          "name": "stdout",
          "output_type": "stream",
          "text": [
            "Collecting git+https://github.com/huggingface/transformers\n",
            "  Cloning https://github.com/huggingface/transformers to /tmp/pip-req-build-jxnjnp08\n",
            "  Running command git clone --filter=blob:none --quiet https://github.com/huggingface/transformers /tmp/pip-req-build-jxnjnp08\n",
            "  Resolved https://github.com/huggingface/transformers to commit 1982dd3b15867c46e1c20645901b0de469fd935f\n",
            "  Installing build dependencies ... \u001b[?25l\u001b[?25hdone\n",
            "  Getting requirements to build wheel ... \u001b[?25l\u001b[?25hdone\n",
            "  Preparing metadata (pyproject.toml) ... \u001b[?25l\u001b[?25hdone\n",
            "Requirement already satisfied: filelock in /usr/local/lib/python3.10/dist-packages (from transformers==4.32.0.dev0) (3.12.2)\n",
            "Collecting huggingface-hub<1.0,>=0.15.1 (from transformers==4.32.0.dev0)\n",
            "  Downloading huggingface_hub-0.16.4-py3-none-any.whl (268 kB)\n",
            "\u001b[2K     \u001b[90m━━━━━━━━━━━━━━━━━━━━━━━━━━━━━━━━━━━━━━━\u001b[0m \u001b[32m268.8/268.8 kB\u001b[0m \u001b[31m4.3 MB/s\u001b[0m eta \u001b[36m0:00:00\u001b[0m\n",
            "\u001b[?25hRequirement already satisfied: numpy>=1.17 in /usr/local/lib/python3.10/dist-packages (from transformers==4.32.0.dev0) (1.23.5)\n",
            "Requirement already satisfied: packaging>=20.0 in /usr/local/lib/python3.10/dist-packages (from transformers==4.32.0.dev0) (23.1)\n",
            "Requirement already satisfied: pyyaml>=5.1 in /usr/local/lib/python3.10/dist-packages (from transformers==4.32.0.dev0) (6.0.1)\n",
            "Requirement already satisfied: regex!=2019.12.17 in /usr/local/lib/python3.10/dist-packages (from transformers==4.32.0.dev0) (2023.6.3)\n",
            "Requirement already satisfied: requests in /usr/local/lib/python3.10/dist-packages (from transformers==4.32.0.dev0) (2.31.0)\n",
            "Collecting tokenizers!=0.11.3,<0.14,>=0.11.1 (from transformers==4.32.0.dev0)\n",
            "  Downloading tokenizers-0.13.3-cp310-cp310-manylinux_2_17_x86_64.manylinux2014_x86_64.whl (7.8 MB)\n",
            "\u001b[2K     \u001b[90m━━━━━━━━━━━━━━━━━━━━━━━━━━━━━━━━━━━━━━━━\u001b[0m \u001b[32m7.8/7.8 MB\u001b[0m \u001b[31m117.9 MB/s\u001b[0m eta \u001b[36m0:00:00\u001b[0m\n",
            "\u001b[?25hCollecting safetensors>=0.3.1 (from transformers==4.32.0.dev0)\n",
            "  Downloading safetensors-0.3.2-cp310-cp310-manylinux_2_17_x86_64.manylinux2014_x86_64.whl (1.3 MB)\n",
            "\u001b[2K     \u001b[90m━━━━━━━━━━━━━━━━━━━━━━━━━━━━━━━━━━━━━━━━\u001b[0m \u001b[32m1.3/1.3 MB\u001b[0m \u001b[31m77.1 MB/s\u001b[0m eta \u001b[36m0:00:00\u001b[0m\n",
            "\u001b[?25hRequirement already satisfied: tqdm>=4.27 in /usr/local/lib/python3.10/dist-packages (from transformers==4.32.0.dev0) (4.66.1)\n",
            "Requirement already satisfied: fsspec in /usr/local/lib/python3.10/dist-packages (from huggingface-hub<1.0,>=0.15.1->transformers==4.32.0.dev0) (2023.6.0)\n",
            "Requirement already satisfied: typing-extensions>=3.7.4.3 in /usr/local/lib/python3.10/dist-packages (from huggingface-hub<1.0,>=0.15.1->transformers==4.32.0.dev0) (4.7.1)\n",
            "Requirement already satisfied: charset-normalizer<4,>=2 in /usr/local/lib/python3.10/dist-packages (from requests->transformers==4.32.0.dev0) (3.2.0)\n",
            "Requirement already satisfied: idna<4,>=2.5 in /usr/local/lib/python3.10/dist-packages (from requests->transformers==4.32.0.dev0) (3.4)\n",
            "Requirement already satisfied: urllib3<3,>=1.21.1 in /usr/local/lib/python3.10/dist-packages (from requests->transformers==4.32.0.dev0) (2.0.4)\n",
            "Requirement already satisfied: certifi>=2017.4.17 in /usr/local/lib/python3.10/dist-packages (from requests->transformers==4.32.0.dev0) (2023.7.22)\n",
            "Building wheels for collected packages: transformers\n",
            "  Building wheel for transformers (pyproject.toml) ... \u001b[?25l\u001b[?25hdone\n",
            "  Created wheel for transformers: filename=transformers-4.32.0.dev0-py3-none-any.whl size=7522589 sha256=e812c703fc159b9cb0170ff55cd6e6b59425f768b515f426adf0c091dfd5c622\n",
            "  Stored in directory: /tmp/pip-ephem-wheel-cache-kzj7_9en/wheels/c0/14/d6/6c9a5582d2ac191ec0a483be151a4495fe1eb2a6706ca49f1b\n",
            "Successfully built transformers\n",
            "Installing collected packages: tokenizers, safetensors, huggingface-hub, transformers\n",
            "Successfully installed huggingface-hub-0.16.4 safetensors-0.3.2 tokenizers-0.13.3 transformers-4.32.0.dev0\n"
          ]
        }
      ],
      "source": [
        "!pip install --upgrade git+https://github.com/huggingface/transformers"
      ]
    },
    {
      "cell_type": "code",
      "execution_count": 2,
      "metadata": {
        "colab": {
          "base_uri": "https://localhost:8080/"
        },
        "id": "901j04acrHxe",
        "outputId": "872446e1-d620-4293-f6ad-d41664bdbcfa"
      },
      "outputs": [
        {
          "name": "stdout",
          "output_type": "stream",
          "text": [
            "\u001b[2K     \u001b[90m━━━━━━━━━━━━━━━━━━━━━━━━━━━━━━━━━━━━━━━━\u001b[0m \u001b[32m2.1/2.1 MB\u001b[0m \u001b[31m25.8 MB/s\u001b[0m eta \u001b[36m0:00:00\u001b[0m\n",
            "\u001b[2K     \u001b[90m━━━━━━━━━━━━━━━━━━━━━━━━━━━━━━━━━━━━━━\u001b[0m \u001b[32m188.5/188.5 kB\u001b[0m \u001b[31m26.3 MB/s\u001b[0m eta \u001b[36m0:00:00\u001b[0m\n",
            "\u001b[2K     \u001b[90m━━━━━━━━━━━━━━━━━━━━━━━━━━━━━━━━━━━━━━\u001b[0m \u001b[32m215.6/215.6 kB\u001b[0m \u001b[31m24.5 MB/s\u001b[0m eta \u001b[36m0:00:00\u001b[0m\n",
            "\u001b[?25h  Preparing metadata (setup.py) ... \u001b[?25l\u001b[?25hdone\n",
            "\u001b[2K     \u001b[90m━━━━━━━━━━━━━━━━━━━━━━━━━━━━━━━━━━━━━━━━\u001b[0m \u001b[32m62.7/62.7 kB\u001b[0m \u001b[31m8.6 MB/s\u001b[0m eta \u001b[36m0:00:00\u001b[0m\n",
            "\u001b[?25h  Building wheel for pathtools (setup.py) ... \u001b[?25l\u001b[?25hdone\n"
          ]
        }
      ],
      "source": [
        "!pip install -q wandb"
      ]
    },
    {
      "cell_type": "markdown",
      "metadata": {
        "id": "pGk1Y2ea-3vS"
      },
      "source": [
        "## Import necessary libraries"
      ]
    },
    {
      "cell_type": "code",
      "execution_count": 3,
      "metadata": {
        "id": "9qulzbyd-1GC"
      },
      "outputs": [],
      "source": [
        "from google.colab import drive\n",
        "import os\n",
        "import zipfile\n",
        "from torch.utils.data import Dataset, DataLoader\n",
        "from torchvision import transforms\n",
        "from PIL import Image\n",
        "import re\n",
        "from transformers import Pix2StructForConditionalGeneration, AutoProcessor\n",
        "import torch\n",
        "from torch.nn import functional as F\n",
        "from transformers.optimization import Adafactor, get_cosine_schedule_with_warmup\n",
        "from pathlib import Path\n",
        "from nltk import edit_distance\n",
        "import numpy as np\n",
        "import wandb\n",
        "from tqdm import tqdm\n",
        "from nltk.translate.bleu_score import corpus_bleu, sentence_bleu, SmoothingFunction\n",
        "from torch.utils.data import random_split\n",
        "import random"
      ]
    },
    {
      "cell_type": "markdown",
      "metadata": {
        "id": "rZ3TJ2yzBAs0"
      },
      "source": [
        "## Define variables and parameters"
      ]
    },
    {
      "cell_type": "code",
      "execution_count": 22,
      "metadata": {
        "id": "Rrjr3uhaBDqp"
      },
      "outputs": [],
      "source": [
        "G_DRIVE_FOLDER = '/content/drive/MyDrive/Datasets/'\n",
        "G_DRIVE_FOLDER_CHECKPOINTS = '/content/drive/MyDrive/Checkpoints/'\n",
        "DATASET_NAME = 'synthBootstrap'\n",
        "ZIP_NAME = DATASET_NAME + '.zip'\n",
        "DESTINATION_FOLDER= '/content/data/'\n",
        "DATASET_FOLDER = DESTINATION_FOLDER + \"output/\" # unzipped name is output\n",
        "\n",
        "HTML_FILES_FOLDER = DATASET_FOLDER + \"html/\"\n",
        "\n",
        "EXPERIMENT_NAME = \"Pix2Struct_SynthBootstrap_10000_Complete\"\n",
        "\n",
        "MAX_SENTENCE_LEN = 4096\n",
        "\n",
        "CHUNK_LENGTH =  1024\n",
        "CONTEXT_OVERLAP_LENGTH = 256\n",
        "\n",
        "MAX_PATCHES = 1024\n",
        "\n",
        "DEBUG = False\n",
        "VERBOSE = True\n",
        "\n",
        "BATCH_SIZE = 4\n",
        "NUM_WARMUP_STEPS = 10000\n",
        "MAX_EPOCHS = 20\n",
        "LR = 1e-4\n",
        "CHECK_VAL_EVERY_N_EPOCH = 5\n",
        "GRADIENT_CLIP_VAL = 1.0\n",
        "ACCUMULATE_GRAD_BATCHES = 8 / BATCH_SIZE\n",
        "\n",
        "TRAIN_SET_PERCENTAGE = 0.898\n",
        "VALID_SET_PERCENTAGE = 0.002 # Use 20 samples for validation\n",
        "# TEST_SET_PERCENTAGE is 1 - TRAIN_SET_PERCENTAGE - VALID_SET_PERCENTAGE # Use 1000 for test\n",
        "\n",
        "\n",
        "RANDOM_SEED = 100\n",
        "\n",
        "LOAD_FROM_CHECKPOINT = False\n",
        "LAST_CHECKPOINT_NAME = \"\""
      ]
    },
    {
      "cell_type": "code",
      "execution_count": 5,
      "metadata": {
        "id": "UVN0Pk4IuVYN"
      },
      "outputs": [],
      "source": [
        "DEVICE = torch.device('cuda' if torch.cuda.is_available() else 'cpu')"
      ]
    },
    {
      "cell_type": "code",
      "execution_count": 6,
      "metadata": {
        "colab": {
          "base_uri": "https://localhost:8080/"
        },
        "id": "sKC06Ai1Xhcl",
        "outputId": "4a1af535-8085-417a-eb82-3fb894927d0e"
      },
      "outputs": [
        {
          "name": "stdout",
          "output_type": "stream",
          "text": [
            "MAX_N_CHUNKS_PER_SENTENCE 5\n"
          ]
        }
      ],
      "source": [
        "MAX_N_CHUNKS_PER_SENTENCE = 1 + (MAX_SENTENCE_LEN - CHUNK_LENGTH) // (CHUNK_LENGTH - CONTEXT_OVERLAP_LENGTH)\n",
        "print(\"MAX_N_CHUNKS_PER_SENTENCE\", MAX_N_CHUNKS_PER_SENTENCE)"
      ]
    },
    {
      "cell_type": "markdown",
      "metadata": {
        "id": "kflo6stPSGhT"
      },
      "source": [
        "\n",
        "## Load Synthetic Bootstrap Dataset (mini version) "
      ]
    },
    {
      "cell_type": "markdown",
      "metadata": {
        "id": "tq4WHje5RJ9u"
      },
      "source": [
        "### Mount Google Drive"
      ]
    },
    {
      "cell_type": "code",
      "execution_count": 7,
      "metadata": {
        "colab": {
          "base_uri": "https://localhost:8080/"
        },
        "id": "uGqbLAK6RJ9x",
        "outputId": "5565cd74-53b2-4cd2-f425-1c0ba3157cd6"
      },
      "outputs": [
        {
          "name": "stdout",
          "output_type": "stream",
          "text": [
            "Mounted at /content/drive\n"
          ]
        }
      ],
      "source": [
        "drive.mount('/content/drive')"
      ]
    },
    {
      "cell_type": "markdown",
      "metadata": {
        "id": "R-TqChHhSYgz"
      },
      "source": [
        "### Import zip file from Google Drive"
      ]
    },
    {
      "cell_type": "code",
      "execution_count": 8,
      "metadata": {
        "id": "Ju1BprKCVbvg"
      },
      "outputs": [],
      "source": [
        "os.makedirs(DESTINATION_FOLDER, exist_ok=True)\n",
        "\n",
        "with zipfile.ZipFile(G_DRIVE_FOLDER + ZIP_NAME, \"r\") as zf:\n",
        "    zf.extractall(DESTINATION_FOLDER)"
      ]
    },
    {
      "cell_type": "markdown",
      "metadata": {
        "id": "XIyXwQultNqy"
      },
      "source": [
        "## Load Model and Processor"
      ]
    },
    {
      "cell_type": "code",
      "execution_count": 9,
      "metadata": {
        "colab": {
          "base_uri": "https://localhost:8080/",
          "height": 241,
          "referenced_widgets": [
            "6effb214a4b842099071461c9acff919",
            "210e100aab2e4bafaf8b0c9b704db39f",
            "ca48a0523ad5484fb0ee017305033a8f",
            "40b9a5381c6c4df18094a8a75b13fa66",
            "beef7a937c19439fa6c00e8aa200af18",
            "e49e034b78ab405d87166d97d86aa930",
            "04f536b4681242bfaeb1eeec42db158b",
            "013a9d2b468f411dbecedd2af62cc2f1",
            "656875744383427dbfd316bf05355c5e",
            "c274d0da420c4863949b2e61eb147e68",
            "8cc144c91a184fa79d5cf285fa37f6e8",
            "2fa834e0bddb49d88d5cf9ed7874015b",
            "a61b78e260f74b4e89704c75987dc92c",
            "5945f71a12814406a8e6820ae4273ddd",
            "090b2fea330f4ebca0f121b9550092ab",
            "2f7f0a8fba31421c8fd2a3ec8bf797be",
            "e5eb0e58192549ef8961030291bbc805",
            "02a0019a976f40c2b767c48d022bc2a4",
            "39b66b38d05d4ea9b0afa35c4c35eef5",
            "f8fc5a1ef7c04f38bd995d43881f80b0",
            "55914f4d686f4d40b6ed62f106b6fab0",
            "c373606fa07542158ce98fc61207f06b",
            "17628b81ae984b67856e9f13948c080b",
            "ee8bd60c27f6433297859e7cd62ea7f8",
            "989d1bf02a1d487d847ce0cad853f45d",
            "044b492c5d1b47c59710f43119505447",
            "d84ad969559448b2b5e7185e26d5a328",
            "d7ce8f1619364d7a85f96e04ca5668ff",
            "5396a3f6ad584a9dae64b30d8cd70b3b",
            "60553902440846568cf07d64535f1354",
            "c794b615df7d477c8313b90546415e32",
            "ce36670568a14a818778c879b41192a7",
            "2394ae67d411453abe8ea13cec0cff8f",
            "0264ebe906354843bb929aab47b40af9",
            "888adc60d5224be69a1a6b7ff3a77bed",
            "f4be2fd36f644fbf95f37294fc55e7a7",
            "30fd52beb30a4340b3ea995ffe67ae1b",
            "832789c703c14893a733d0f3a0bdbb2e",
            "33ea47cf90484abfaa76508a02fe638d",
            "0c344787a0ee483c91e0a768727b88b6",
            "77d42727548943628b0b898e171fe901",
            "dce8f085ca044ceb91746f995fb0cfec",
            "0c511b02eccf41bea1f997b1cf9a83a4",
            "8e7978f47b514707b5fe3ed38b4d5b9f",
            "a4044a5d130248118ca58acb9795aa2f",
            "1d4f6cf93e354e70bb0d124004c4cd06",
            "88a77b4ab29645348746a4318f6f3969",
            "dbc44f04124943268ad578bf73dbdef0",
            "3ccb7f7b8414403bac633ae4ef583f16",
            "82ddcc6932e24207a6d5f64258dde4d3",
            "b6c0a8c82d144bf9acd4a40f87fe46f4",
            "8c08bdf484154a4182dc7d79e9607343",
            "2838dc37e7f5458ca93c82babf184bc9",
            "8bd951f45bd143faa88871d07d102f44",
            "d8c349dbeb2d44a5bdb1de65b4a3b12c",
            "e864fc0139e04b45a2d7cef193909a86",
            "2d318f67dccb4bb2906e4e1580d1d513",
            "b396554824f740719a842b8a725cd63e",
            "1dcb655d55b94e3191e7a4c8434f0d43",
            "1ec704eb721f4036979aa72ad9464f86",
            "23442505d3384a38ba11a14978a61969",
            "02e13e9712f64287ab2b640678155d78",
            "06c0f84b2388443992713638a4443c98",
            "8b7c24cbfb3e4eaa9c8f84a5f6d45dc4",
            "edf7f463a1f4426689af5c7265c85bf2",
            "6eaaa395a59441a38652afec531e1ac2",
            "c165e3dbde2242bc81a4eec86516de06",
            "87ec4d0ccc9d4dc18d0b7b8d02317498",
            "87e7ab75b30d4660b150b48284b8e38d",
            "e849d2ff29b84b01a947d23268a2c156",
            "7afda11e8e9a4e1fa2ab6f7e4f4b43c6",
            "c662b39d452a4a5ab983c67b1c13f030",
            "c2317ea547674613b48ddb866212ed89",
            "8cc42619226145f7b17c67099afbb8ba",
            "b92cf5f87e194ed89e12c32338e91fb3",
            "a61146bbafa44bf7bd5d94ea95c22349",
            "fc09e0c6c22b407690a4ddd46440b452"
          ]
        },
        "id": "15QM1CZQtRWr",
        "outputId": "fc8826a3-eaa7-421f-b207-e8b909f33da9"
      },
      "outputs": [
        {
          "data": {
            "application/vnd.jupyter.widget-view+json": {
              "model_id": "6effb214a4b842099071461c9acff919",
              "version_major": 2,
              "version_minor": 0
            },
            "text/plain": [
              "Downloading (…)rocessor_config.json:   0%|          | 0.00/231 [00:00<?, ?B/s]"
            ]
          },
          "metadata": {},
          "output_type": "display_data"
        },
        {
          "data": {
            "application/vnd.jupyter.widget-view+json": {
              "model_id": "2fa834e0bddb49d88d5cf9ed7874015b",
              "version_major": 2,
              "version_minor": 0
            },
            "text/plain": [
              "Downloading (…)okenizer_config.json:   0%|          | 0.00/2.61k [00:00<?, ?B/s]"
            ]
          },
          "metadata": {},
          "output_type": "display_data"
        },
        {
          "data": {
            "application/vnd.jupyter.widget-view+json": {
              "model_id": "17628b81ae984b67856e9f13948c080b",
              "version_major": 2,
              "version_minor": 0
            },
            "text/plain": [
              "Downloading spiece.model:   0%|          | 0.00/851k [00:00<?, ?B/s]"
            ]
          },
          "metadata": {},
          "output_type": "display_data"
        },
        {
          "data": {
            "application/vnd.jupyter.widget-view+json": {
              "model_id": "0264ebe906354843bb929aab47b40af9",
              "version_major": 2,
              "version_minor": 0
            },
            "text/plain": [
              "Downloading (…)/main/tokenizer.json:   0%|          | 0.00/3.27M [00:00<?, ?B/s]"
            ]
          },
          "metadata": {},
          "output_type": "display_data"
        },
        {
          "data": {
            "application/vnd.jupyter.widget-view+json": {
              "model_id": "a4044a5d130248118ca58acb9795aa2f",
              "version_major": 2,
              "version_minor": 0
            },
            "text/plain": [
              "Downloading (…)cial_tokens_map.json:   0%|          | 0.00/2.20k [00:00<?, ?B/s]"
            ]
          },
          "metadata": {},
          "output_type": "display_data"
        },
        {
          "data": {
            "application/vnd.jupyter.widget-view+json": {
              "model_id": "e864fc0139e04b45a2d7cef193909a86",
              "version_major": 2,
              "version_minor": 0
            },
            "text/plain": [
              "Downloading (…)lve/main/config.json:   0%|          | 0.00/4.92k [00:00<?, ?B/s]"
            ]
          },
          "metadata": {},
          "output_type": "display_data"
        },
        {
          "data": {
            "application/vnd.jupyter.widget-view+json": {
              "model_id": "c165e3dbde2242bc81a4eec86516de06",
              "version_major": 2,
              "version_minor": 0
            },
            "text/plain": [
              "Downloading pytorch_model.bin:   0%|          | 0.00/1.13G [00:00<?, ?B/s]"
            ]
          },
          "metadata": {},
          "output_type": "display_data"
        }
      ],
      "source": [
        "repo_id = \"google/pix2struct-base\"\n",
        "\n",
        "processor = AutoProcessor.from_pretrained(repo_id)\n",
        "model = Pix2StructForConditionalGeneration.from_pretrained(repo_id, is_encoder_decoder=True)"
      ]
    },
    {
      "cell_type": "markdown",
      "metadata": {
        "id": "8vyJVirgV8VN"
      },
      "source": [
        "## Create Dataset class"
      ]
    },
    {
      "cell_type": "markdown",
      "metadata": {
        "id": "lK0eTFCl01vq"
      },
      "source": [
        "### Preprocessing functions"
      ]
    },
    {
      "cell_type": "code",
      "execution_count": 10,
      "metadata": {
        "id": "5cFoFlit1hGN"
      },
      "outputs": [],
      "source": [
        "def round_floats_in_text(text, precision=0):\n",
        "    # match float numbers with 2 or more decimal places in the text\n",
        "    pattern = r\"\\b\\d+\\.\\d{2,}\\b\"\n",
        "\n",
        "    def replace(match):\n",
        "        float_number = float(match.group())\n",
        "        return f\"{float_number:.{precision}f}\"\n",
        "\n",
        "    text = re.sub(pattern, replace, text)\n",
        "    return text"
      ]
    },
    {
      "cell_type": "code",
      "execution_count": 11,
      "metadata": {
        "id": "3DgqJJwSKsAj"
      },
      "outputs": [],
      "source": [
        "def remove_html_comments(text):\n",
        "    # match html comments\n",
        "    pattern = r\"<!--.*?-->\"\n",
        "\n",
        "    text = re.sub(pattern, '', text, flags=re.DOTALL)\n",
        "    return text"
      ]
    },
    {
      "cell_type": "code",
      "execution_count": 12,
      "metadata": {
        "id": "3Jj8_5IWClbz"
      },
      "outputs": [],
      "source": [
        "def preprocess_html_file(html_text):\n",
        "    text_cleaned = html_text.replace('\\n', ' ')\n",
        "    text_cleaned_without_multiple_spaces = re.sub(r'\\s+', ' ', text_cleaned)\n",
        "    text_without_comments = remove_html_comments(text_cleaned_without_multiple_spaces)\n",
        "    text_without_long_floats = round_floats_in_text(text_without_comments)\n",
        "    return text_without_long_floats"
      ]
    },
    {
      "cell_type": "markdown",
      "metadata": {
        "id": "pxls5fsNDAXL"
      },
      "source": [
        "### Find max sentence length and new unknown tokens"
      ]
    },
    {
      "cell_type": "code",
      "execution_count": 14,
      "metadata": {
        "id": "f1Q8943LSO-b"
      },
      "outputs": [],
      "source": [
        "with open(G_DRIVE_FOLDER + 'synthBootstrap_list_files_4096.txt', 'r') as file:\n",
        "    all_paths = [line.strip() for line in file]"
      ]
    },
    {
      "cell_type": "code",
      "execution_count": 15,
      "metadata": {
        "colab": {
          "base_uri": "https://localhost:8080/"
        },
        "id": "ZqMid-_0CXay",
        "outputId": "8882ac3c-f888-4e5e-c1d4-a29bfd750dc6"
      },
      "outputs": [
        {
          "data": {
            "text/plain": [
              "49950"
            ]
          },
          "execution_count": 15,
          "metadata": {},
          "output_type": "execute_result"
        }
      ],
      "source": [
        "len(all_paths)"
      ]
    },
    {
      "cell_type": "code",
      "execution_count": 16,
      "metadata": {
        "id": "kbF0_mn7HRAH"
      },
      "outputs": [],
      "source": [
        "all_paths = all_paths[:10000]"
      ]
    },
    {
      "cell_type": "code",
      "execution_count": 17,
      "metadata": {
        "colab": {
          "base_uri": "https://localhost:8080/"
        },
        "id": "YEhd7D32SZrf",
        "outputId": "d09a6a9d-1865-4b18-d222-87cc837247ad"
      },
      "outputs": [
        {
          "name": "stdout",
          "output_type": "stream",
          "text": [
            "Max sentence length = 4056\n",
            "Number of new tokens = 0\n"
          ]
        }
      ],
      "source": [
        "# Find max length\n",
        "max_length = 0\n",
        "\n",
        "# Read text files and add new tokens to dictionary\n",
        "tokens_to_add = set()\n",
        "for html_file_path in all_paths:\n",
        "    with open(HTML_FILES_FOLDER + html_file_path, \"r\") as reader:\n",
        "        splitted_text = processor.tokenizer(preprocess_html_file(reader.read())).tokens()\n",
        "        tokens_to_add = tokens_to_add.union(set(splitted_text))\n",
        "\n",
        "        # Check if the current sentence has the largest number of tokens\n",
        "        if len(splitted_text) > max_length:\n",
        "            max_length = len(splitted_text)\n",
        "\n",
        "print(f\"Max sentence length = {max_length}\")\n",
        "\n",
        "newly_added_num = processor.tokenizer.add_tokens(list(tokens_to_add))\n",
        "print(f\"Number of new tokens = {newly_added_num}\")\n",
        "\n",
        "# Resize the model's token embeddings if there are new tokens\n",
        "if newly_added_num > 0:\n",
        "    model.decoder.resize_token_embeddings(len(processor.tokenizer))"
      ]
    },
    {
      "cell_type": "markdown",
      "metadata": {
        "id": "SfKTQ5aMPtfN"
      },
      "source": [
        "### Split files into training - validation - test sets"
      ]
    },
    {
      "cell_type": "code",
      "execution_count": 18,
      "metadata": {
        "colab": {
          "base_uri": "https://localhost:8080/"
        },
        "id": "FJJvSGk00jfL",
        "outputId": "13e38b92-2c43-499f-be93-f179d0e163d3"
      },
      "outputs": [
        {
          "name": "stdout",
          "output_type": "stream",
          "text": [
            "TRAIN_SET size = 8980\n",
            "VALID_SET size = 20\n",
            "TEST_SET size = 1000\n"
          ]
        }
      ],
      "source": [
        "random.seed(RANDOM_SEED)\n",
        "\n",
        "# Use the same seed, so that parts remain the same\n",
        "random.shuffle(all_paths)\n",
        "\n",
        "train_len = int(TRAIN_SET_PERCENTAGE * len(all_paths))\n",
        "valid_len = int(VALID_SET_PERCENTAGE * len(all_paths))\n",
        "\n",
        "train_paths = all_paths[:train_len]\n",
        "valid_paths = all_paths[train_len:train_len+valid_len]\n",
        "test_paths = all_paths[train_len+valid_len:]\n",
        "\n",
        "print(f\"TRAIN_SET size = {len(train_paths)}\")\n",
        "print(f\"VALID_SET size = {len(valid_paths)}\")\n",
        "print(f\"TEST_SET size = {len(test_paths)}\")"
      ]
    },
    {
      "cell_type": "code",
      "execution_count": 23,
      "metadata": {
        "id": "EiExjyGE1cla"
      },
      "outputs": [],
      "source": [
        "class SythBootstrapTrainingDataset(Dataset):\n",
        "    # This is a modification of the dataset used for validation and testing\n",
        "    # In this one the sentences are already split into chunks, already having\n",
        "    # the context from the previous chunk, empty chunks are discarded\n",
        "    def __init__(self, root_dir, transform, text_files_paths):\n",
        "\n",
        "        self.root_dir = root_dir\n",
        "        self.transform = transform\n",
        "        self.text_files_paths = text_files_paths\n",
        "\n",
        "        self.max_patches = MAX_PATCHES\n",
        "        self.max_length = MAX_SENTENCE_LEN\n",
        "        self.ignore_id = -100\n",
        "\n",
        "        self.data = []\n",
        "        self.images_encoding = []\n",
        "\n",
        "        for text_file in tqdm(text_files_paths):\n",
        "            image_file = text_file.replace('.html', '.png')\n",
        "\n",
        "            # Directly process the text files, and save them in the ram\n",
        "            # Do the same also for images, if there is enough space in memory\n",
        "            text_file_path = os.path.join(root_dir + \"html/\", text_file)\n",
        "            image_file_path = os.path.join(root_dir + \"images/\", image_file)\n",
        "\n",
        "            # Each data entry has the following structure\n",
        "            # labels, image_encoding_idx, part\n",
        "\n",
        "            # image_encoding_idx points to an entry of images_encoding, which contains attention_mask and flattened_patches for the image\n",
        "            # Since a single image is used for multiple slices of the same text, this approach is used to save memory\n",
        "\n",
        "            # Load image\n",
        "            image = Image.open(image_file_path).convert('RGB')\n",
        "\n",
        "            if DEBUG:\n",
        "                image.show()\n",
        "\n",
        "            if self.transform:\n",
        "                image = self.transform(image)\n",
        "\n",
        "            encoding = processor(images=image, max_patches=self.max_patches, return_tensors=\"pt\")\n",
        "            encoding = {k:v.squeeze() for k,v in encoding.items()}\n",
        "\n",
        "            self.images_encoding.append(encoding)\n",
        "            image_encoding_idx = len(self.images_encoding) - 1\n",
        "\n",
        "            # Load text\n",
        "            with open(text_file_path, 'r') as f:\n",
        "                text = f.read()\n",
        "                text_cleaned = preprocess_html_file(text)\n",
        "\n",
        "            if DEBUG:\n",
        "              print(\"text:\")\n",
        "              print(text)\n",
        "              print(\"\\n\\n\\ntext_cleaned:\")\n",
        "              print(text_cleaned)\n",
        "\n",
        "            input_ids = processor.tokenizer(\n",
        "                text_cleaned,\n",
        "                max_length=self.max_length,\n",
        "                padding=\"max_length\",\n",
        "                truncation=True,\n",
        "                return_tensors=\"pt\",\n",
        "            ).input_ids\n",
        "\n",
        "            input_ids_slices = []\n",
        "\n",
        "            start_index = 0\n",
        "            end_index = CHUNK_LENGTH\n",
        "            while end_index <= MAX_SENTENCE_LEN:\n",
        "                input_ids_slices.append(input_ids[:, start_index:end_index])\n",
        "                start_index = end_index - CONTEXT_OVERLAP_LENGTH\n",
        "                end_index = start_index + CHUNK_LENGTH\n",
        "\n",
        "            for part, input_ids_slice in enumerate(input_ids_slices):\n",
        "                labels = input_ids_slice.squeeze().clone()\n",
        "\n",
        "                labels[labels == processor.tokenizer.pad_token_id] = self.ignore_id  # model doesn't need to predict pad token\n",
        "\n",
        "                # Skip slices with only padding tokens, ignore context from the previous chunk\n",
        "                if part != 0 and all(x == self.ignore_id for x in labels[CONTEXT_OVERLAP_LENGTH:]):\n",
        "                    continue\n",
        "\n",
        "                # labels, image_encoding_idx, part\n",
        "                # Save them as int32 to save ram memory\n",
        "                self.data.append((labels.to(torch.int32), image_encoding_idx, part))\n",
        "\n",
        "    def __len__(self):\n",
        "        return len(self.data)\n",
        "\n",
        "    def __getitem__(self, idx):\n",
        "        labels, image_encoding_idx, part = self.data[idx]\n",
        "        encoding = self.images_encoding[image_encoding_idx]\n",
        "        encoding[\"labels\"] = labels.to(torch.int64)\n",
        "\n",
        "        return encoding, part"
      ]
    },
    {
      "cell_type": "code",
      "execution_count": 24,
      "metadata": {
        "id": "oMC2-OYYWB75"
      },
      "outputs": [],
      "source": [
        "class SythBootstrapDataset(Dataset):\n",
        "    def __init__(self, root_dir, transform, text_files_paths):\n",
        "\n",
        "        self.root_dir = root_dir\n",
        "        self.transform = transform\n",
        "        self.text_files_paths = text_files_paths\n",
        "\n",
        "        self.max_patches = MAX_PATCHES\n",
        "        self.max_length = MAX_SENTENCE_LEN\n",
        "        self.ignore_id = -100\n",
        "\n",
        "        self.encodings = []\n",
        "\n",
        "        for text_file in tqdm(text_files_paths):\n",
        "            image_file = text_file.replace('.html', '.png')\n",
        "\n",
        "            # Directly process the text files, and save them in the ram\n",
        "            # Do the same also for images, if there is enough space in memory\n",
        "            text_file_path = os.path.join(root_dir + \"html/\", text_file)\n",
        "            image_file_path = os.path.join(root_dir + \"images/\", image_file)\n",
        "\n",
        "            # Load image\n",
        "            image = Image.open(image_file_path).convert('RGB')\n",
        "\n",
        "            if DEBUG:\n",
        "                image.show()\n",
        "\n",
        "            if self.transform:\n",
        "                image = self.transform(image)\n",
        "\n",
        "            encoding = processor(images=image, max_patches=self.max_patches, return_tensors=\"pt\")\n",
        "            encoding = {k:v.squeeze() for k,v in encoding.items()}\n",
        "\n",
        "            # Load text\n",
        "            with open(text_file_path, 'r') as f:\n",
        "                text = f.read()\n",
        "                text_cleaned = preprocess_html_file(text)\n",
        "\n",
        "            if DEBUG:\n",
        "              print(\"text:\")\n",
        "              print(text)\n",
        "              print(\"\\n\\n\\ntext_cleaned:\")\n",
        "              print(text_cleaned)\n",
        "\n",
        "            input_ids = processor.tokenizer(\n",
        "                text_cleaned,\n",
        "                max_length=self.max_length,\n",
        "                padding=\"max_length\",\n",
        "                truncation=True,\n",
        "                return_tensors=\"pt\",\n",
        "            ).input_ids\n",
        "\n",
        "            labels = input_ids.squeeze().clone()\n",
        "            labels[labels == processor.tokenizer.pad_token_id] = self.ignore_id  # model doesn't need to predict pad token\n",
        "\n",
        "            encoding[\"labels\"] = labels.to(torch.int32)\n",
        "\n",
        "            # For each sample save directly the encoding of both text and image\n",
        "            self.encodings.append(encoding)\n",
        "\n",
        "    def __len__(self):\n",
        "        return len(self.encodings)\n",
        "\n",
        "    def __getitem__(self, idx):\n",
        "        return self.encodings[idx]"
      ]
    },
    {
      "cell_type": "code",
      "execution_count": 25,
      "metadata": {
        "colab": {
          "base_uri": "https://localhost:8080/"
        },
        "id": "WulOgKwb1aNh",
        "outputId": "9b4878ee-1adb-416e-b312-884b19630d3e"
      },
      "outputs": [
        {
          "name": "stderr",
          "output_type": "stream",
          "text": [
            "100%|██████████| 8980/8980 [09:59<00:00, 14.99it/s]\n",
            "100%|██████████| 20/20 [00:01<00:00, 18.61it/s]\n"
          ]
        }
      ],
      "source": [
        "# Transformations for the image\n",
        "transform = transforms.Compose([\n",
        "    transforms.ToTensor(),  # convert PIL Image to PyTorch Tensor\n",
        "    transforms.Normalize(mean=[0.485, 0.456, 0.406], std=[0.229, 0.224, 0.225]),  # normalize for pretrained models\n",
        "])\n",
        "\n",
        "# Instantiate the CustomDataset\n",
        "train_dataset = SythBootstrapTrainingDataset(DATASET_FOLDER, transform, train_paths)\n",
        "val_dataset = SythBootstrapDataset(DATASET_FOLDER, transform, valid_paths)\n",
        "\n",
        "# Use DataLoader for batching and shuffling\n",
        "train_dataloader = DataLoader(train_dataset, batch_size=BATCH_SIZE, shuffle=True)\n",
        "val_dataloader = DataLoader(val_dataset, batch_size=10, shuffle=False) # Use 10 as batch for testing"
      ]
    },
    {
      "cell_type": "code",
      "execution_count": 26,
      "metadata": {
        "colab": {
          "base_uri": "https://localhost:8080/"
        },
        "id": "RJbcAvt2eSvb",
        "outputId": "a880fd42-47a3-4009-da29-6afb899fef80"
      },
      "outputs": [
        {
          "name": "stdout",
          "output_type": "stream",
          "text": [
            "train_dataloader size = 5125\n",
            "val_dataloader size = 2\n"
          ]
        }
      ],
      "source": [
        "print(f\"train_dataloader size = {len(train_dataloader)}\")\n",
        "print(f\"val_dataloader size = {len(val_dataloader)}\")"
      ]
    },
    {
      "cell_type": "markdown",
      "metadata": {
        "id": "g7DngCr1FJQJ"
      },
      "source": [
        "## Training"
      ]
    },
    {
      "cell_type": "code",
      "execution_count": 27,
      "metadata": {
        "id": "zkCJQz_GEM4W"
      },
      "outputs": [],
      "source": [
        "START_TOKEN_ID = PAD_TOKEN_ID = processor.tokenizer.pad_token_id"
      ]
    },
    {
      "cell_type": "markdown",
      "metadata": {
        "id": "fWSsn0vr1mV2"
      },
      "source": [
        "### Utility functions"
      ]
    },
    {
      "cell_type": "code",
      "execution_count": 28,
      "metadata": {
        "id": "mq6Y22hDqn3x"
      },
      "outputs": [],
      "source": [
        "def move_to_device(data):\n",
        "    if isinstance(data, (list,tuple)):\n",
        "        return [move_to_device(x) for x in data]\n",
        "    elif isinstance(data, dict):\n",
        "        return {k: move_to_device(v) for k, v in data.items()}\n",
        "    elif isinstance(data, torch.Tensor):\n",
        "        return data.to(DEVICE)\n",
        "    else:\n",
        "        return data"
      ]
    },
    {
      "cell_type": "code",
      "execution_count": 29,
      "metadata": {
        "id": "JRX7UDLE4Nh8"
      },
      "outputs": [],
      "source": [
        "def create_extended_attention_mask_for_decoder_with_context(input_shape, attention_mask, part):\n",
        "    device = attention_mask.device\n",
        "    batch_size, seq_length = input_shape\n",
        "    seq_ids = torch.arange(seq_length, device=device)\n",
        "\n",
        "    causal_mask = seq_ids[None, None, :].repeat(batch_size, seq_length, 1) <= seq_ids[None, :, None]\n",
        "\n",
        "    # Expand part to have the same shape as the relevant slice of causal_mask\n",
        "    part_expanded = part.unsqueeze(-1).unsqueeze(-1).expand(-1, seq_length, CONTEXT_OVERLAP_LENGTH)\n",
        "\n",
        "    # Create a mask with ones where part is not zero\n",
        "    context_mask = (part_expanded != 0).float()\n",
        "\n",
        "    # Apply the context_mask to the corresponding part of causal_mask\n",
        "    causal_mask[:, :, :CONTEXT_OVERLAP_LENGTH] = causal_mask[:, :, :CONTEXT_OVERLAP_LENGTH] * (1 - context_mask) + context_mask\n",
        "\n",
        "    # in case past_key_values are used we need to add a prefix ones mask to the causal mask\n",
        "    causal_mask = causal_mask.to(attention_mask.dtype)\n",
        "\n",
        "    if causal_mask.shape[1] < attention_mask.shape[1]:\n",
        "        print(\"!!should not enter here in my case!!\")\n",
        "        prefix_seq_len = attention_mask.shape[1] - causal_mask.shape[1]\n",
        "        causal_mask = torch.cat(\n",
        "            [\n",
        "                torch.ones((batch_size, seq_length, prefix_seq_len), device=device, dtype=causal_mask.dtype),\n",
        "                causal_mask,\n",
        "            ],\n",
        "            axis=-1,\n",
        "        )\n",
        "\n",
        "    extended_attention_mask = causal_mask[:, :, :] * attention_mask[:, None, :]\n",
        "    return extended_attention_mask\n"
      ]
    },
    {
      "cell_type": "code",
      "execution_count": 30,
      "metadata": {
        "id": "8RMB16MR53fK"
      },
      "outputs": [],
      "source": [
        "def get_attention_mask(decoder_input_ids, part):\n",
        "    decoder_attention_mask = (decoder_input_ids.ne(PAD_TOKEN_ID).float())\n",
        "\n",
        "    # always attend on first token\n",
        "    decoder_attention_mask[:, 0] = 1\n",
        "\n",
        "    # Expand part to have the same shape as the relevant slice of decoder_attention_mask\n",
        "    part_expanded = part.unsqueeze(-1).expand(-1, CONTEXT_OVERLAP_LENGTH)\n",
        "\n",
        "    # Create a mask with ones where part is not zero\n",
        "    context_mask = (part_expanded != 0).float()\n",
        "\n",
        "    # Apply the context_mask to the corresponding part of decoder_attention_mask\n",
        "    decoder_attention_mask[:, 0:CONTEXT_OVERLAP_LENGTH] = decoder_attention_mask[:, 0:CONTEXT_OVERLAP_LENGTH] * (1 - context_mask) + context_mask\n",
        "\n",
        "    return decoder_attention_mask"
      ]
    },
    {
      "cell_type": "code",
      "execution_count": 31,
      "metadata": {
        "id": "I4EwQ8iP8a9I"
      },
      "outputs": [],
      "source": [
        "def shift_right_modified(input_ids, decoder_starting_token_idx):\n",
        "\n",
        "    # shift inputs to the right\n",
        "    shifted_input_ids = input_ids.new_zeros(input_ids.shape)\n",
        "    shifted_input_ids[..., 1:] = input_ids[..., :-1].clone()\n",
        "    shifted_input_ids[..., 0] = decoder_starting_token_idx\n",
        "\n",
        "    # replace possible -100 values in labels by `pad_token_id`\n",
        "    shifted_input_ids.masked_fill_(shifted_input_ids == -100, PAD_TOKEN_ID)\n",
        "\n",
        "    return shifted_input_ids"
      ]
    },
    {
      "cell_type": "code",
      "execution_count": 32,
      "metadata": {
        "id": "Mvsy0HBseyzQ"
      },
      "outputs": [],
      "source": [
        "def get_decoder_input_ids(labels_chunk, start_id):\n",
        "    return shift_right_modified(labels_chunk, start_id)"
      ]
    },
    {
      "cell_type": "code",
      "execution_count": 33,
      "metadata": {
        "id": "2LqZyYsWOywQ"
      },
      "outputs": [],
      "source": [
        "def get_decoder_input_ids_and_attention_mask(labels, part):\n",
        "    decoder_input_ids = get_decoder_input_ids(labels, START_TOKEN_ID)\n",
        "    decoder_attention_mask = get_attention_mask(decoder_input_ids, part)\n",
        "    extended_decoder_attention_mask = create_extended_attention_mask_for_decoder_with_context(decoder_input_ids.shape, decoder_attention_mask, part)\n",
        "\n",
        "    return decoder_input_ids, extended_decoder_attention_mask"
      ]
    },
    {
      "cell_type": "markdown",
      "metadata": {
        "id": "TEt-owxM1puj"
      },
      "source": [
        "### Main training function"
      ]
    },
    {
      "cell_type": "code",
      "execution_count": 34,
      "metadata": {
        "id": "1j0_8Yk6Gk4-"
      },
      "outputs": [],
      "source": [
        "def train_model(config, processor, model, train_dataloader, val_dataloader):\n",
        "    # Extract configuration values\n",
        "    lr = config.get(\"lr\")\n",
        "    max_epochs = config.get(\"max_epochs\")\n",
        "    num_warmup_steps = config.get(\"num_warmup_steps\")\n",
        "\n",
        "    model.to(DEVICE)\n",
        "\n",
        "    optimizer = Adafactor(model.parameters(), scale_parameter=False, relative_step=False, lr=lr, weight_decay=1e-05)\n",
        "\n",
        "    # Use total steps (i.e., max_epochs * length_of_train_data)\n",
        "    total_steps = max_epochs * len(train_dataloader)\n",
        "    scheduler = get_cosine_schedule_with_warmup(optimizer,\n",
        "                                                num_warmup_steps=num_warmup_steps,\n",
        "                                                num_training_steps=total_steps)\n",
        "\n",
        "    global_step = 0  # to keep track of total steps\n",
        "    epoch_start = 0\n",
        "\n",
        "    if LOAD_FROM_CHECKPOINT:\n",
        "        print(\"Loading model from checkpoint:\", LAST_CHECKPOINT_NAME)\n",
        "        checkpoint = torch.load(G_DRIVE_FOLDER_CHECKPOINTS + LAST_CHECKPOINT_NAME)\n",
        "        model.load_state_dict(checkpoint[\"model_state_dict\"])\n",
        "        optimizer.load_state_dict(checkpoint[\"optimizer_state_dict\"])\n",
        "        scheduler.load_state_dict(checkpoint[\"scheduler_state_dict\"])\n",
        "        epoch_start = checkpoint[\"epoch\"] + 1\n",
        "        global_step = checkpoint[\"global_step\"] + 1\n",
        "        wandb_run_id = checkpoint[\"wandb_run_id\"]\n",
        "\n",
        "        # Resume the WandB run\n",
        "        wandb.init(project=\"Pix2Struct\", name=\"run-\" + EXPERIMENT_NAME, config=config, resume=wandb_run_id)\n",
        "    else:\n",
        "        wandb.init(project=\"Pix2Struct\", name=\"run-\" + EXPERIMENT_NAME, config=config)\n",
        "\n",
        "    #epoch_last = epoch_start + max_epochs - 1\n",
        "    epoch_last = max_epochs - 1\n",
        "    #for epoch in range(epoch_start, epoch_start + max_epochs):\n",
        "    for epoch in range(epoch_start, max_epochs):\n",
        "        global_step, moving_avg_loss = training_loop(epoch, train_dataloader, model, config, optimizer, scheduler, global_step, epoch_last)\n",
        "\n",
        "        if config.get(\"verbose\", False):\n",
        "            print(f\"Moving Avg Loss: {moving_avg_loss:.3f}\")\n",
        "\n",
        "        wandb.log({\"moving_avg_loss\": moving_avg_loss, **{f'lr_{i}': param_group['lr'] for i, param_group in enumerate(optimizer.param_groups)}})\n",
        "\n",
        "        # Save the model after each validation step\n",
        "        save_checkpoint(model, optimizer, scheduler, epoch, global_step, wandb.run.id, EXPERIMENT_NAME, G_DRIVE_FOLDER_CHECKPOINTS)\n",
        "\n",
        "        #if epoch == 0 + epoch_start or epoch == epoch_last or (epoch + 1) % config.get(\"check_val_every_n_epoch\") == 0:\n",
        "        if epoch == epoch_last or (epoch + 1) % config.get(\"check_val_every_n_epoch\") == 0:\n",
        "            avg_bleu_score = testing_loop(val_dataloader, model, processor, config, f\"Epoch {epoch}/{epoch_last} - valid loop\")\n",
        "\n",
        "            if config.get(\"verbose\", False):\n",
        "                print(f\" Avg Bleu Score: {avg_bleu_score:.2f}\")\n",
        "\n",
        "            wandb.log({\"bleu\": avg_bleu_score})\n",
        "\n",
        "    wandb.finish()"
      ]
    },
    {
      "cell_type": "code",
      "execution_count": 35,
      "metadata": {
        "id": "wg6u7CI38kMU"
      },
      "outputs": [],
      "source": [
        "def training_loop(epoch, train_dataloader, model, config, optimizer, scheduler, global_step, epoch_last):\n",
        "    model.train()\n",
        "    train_loop = tqdm(enumerate(train_dataloader), total=len(train_dataloader), desc=f\"Epoch {epoch}/{epoch_last} - train loop\")\n",
        "\n",
        "    # Extract configuration values\n",
        "    accumulate_grad_batches = config.get('accumulate_grad_batches', 1)\n",
        "    gradient_clip_val = config.get(\"gradient_clip_val\")\n",
        "\n",
        "    moving_avg_loss = 0\n",
        "    alpha = 0.1 # Smoothing factor\n",
        "\n",
        "    for step, batch in train_loop:\n",
        "        encoding, part = map(move_to_device, batch)\n",
        "        labels, flattened_patches, attention_mask = encoding[\"labels\"], encoding[\"flattened_patches\"], encoding[\"attention_mask\"]\n",
        "\n",
        "        decoder_input_ids, decoder_attention_mask = get_decoder_input_ids_and_attention_mask(labels, part)\n",
        "        outputs = model(labels=labels, flattened_patches=flattened_patches, attention_mask=attention_mask, decoder_input_ids=decoder_input_ids, decoder_attention_mask=decoder_attention_mask)\n",
        "        loss = outputs.loss\n",
        "        loss.backward()\n",
        "\n",
        "        if global_step % accumulate_grad_batches == 0 or step == len(train_dataloader) - 1:\n",
        "            if gradient_clip_val:\n",
        "                torch.nn.utils.clip_grad_norm_(model.parameters(), gradient_clip_val)\n",
        "            optimizer.step()\n",
        "            optimizer.zero_grad()\n",
        "\n",
        "        # Update the progress bar\n",
        "        train_loop.set_postfix({'loss': loss.item()}, refresh=True)\n",
        "\n",
        "        scheduler.step()\n",
        "        global_step += 1\n",
        "\n",
        "        # Update the moving average loss\n",
        "        moving_avg_loss = loss.item() if moving_avg_loss == 0 else alpha * loss.item() + (1 - alpha) * moving_avg_loss\n",
        "\n",
        "        # Log Loss after each step\n",
        "        wandb.log({\"loss\": loss.item()})\n",
        "\n",
        "    return global_step, moving_avg_loss"
      ]
    },
    {
      "cell_type": "code",
      "execution_count": 36,
      "metadata": {
        "id": "RXfc_whn-qJW"
      },
      "outputs": [],
      "source": [
        "def testing_loop(testing_dataloader, model, processor, config, description):\n",
        "    model.eval()\n",
        "    bleu_scores = []\n",
        "\n",
        "    with torch.no_grad():\n",
        "        test_loop = tqdm(enumerate(testing_dataloader), total=len(testing_dataloader), desc=description)\n",
        "        for i, batch in test_loop:\n",
        "            encoding = move_to_device(batch)\n",
        "            labels, flattened_patches, attention_mask = encoding[\"labels\"], encoding[\"flattened_patches\"], encoding[\"attention_mask\"]\n",
        "\n",
        "            # Initialize total_outputs with zeros\n",
        "            total_outputs = None\n",
        "            context_from_last = None\n",
        "\n",
        "            # Initialize a mask to track which sentences are finished\n",
        "            finished_sentences_mask = torch.zeros(flattened_patches.size(0), dtype=torch.bool, device=flattened_patches.device)\n",
        "\n",
        "            for iteration in range(MAX_N_CHUNKS_PER_SENTENCE):\n",
        "\n",
        "                generate_args = {\n",
        "                    \"flattened_patches\": flattened_patches[~finished_sentences_mask],\n",
        "                    \"attention_mask\": attention_mask[~finished_sentences_mask],\n",
        "                    \"max_new_tokens\": CHUNK_LENGTH - (CONTEXT_OVERLAP_LENGTH if iteration else 0),\n",
        "                }\n",
        "\n",
        "                if iteration and context_from_last is not None:\n",
        "                    generate_args[\"decoder_input_ids\"] = context_from_last[~finished_sentences_mask]\n",
        "\n",
        "                outputs = model.generate(**generate_args)\n",
        "\n",
        "                # Remove context overlap only from the second iteration onwards\n",
        "                new_chunks = outputs if iteration == 0 else outputs[:, CONTEXT_OVERLAP_LENGTH:]\n",
        "\n",
        "                if iteration == 0:\n",
        "                    total_outputs = new_chunks\n",
        "                else:\n",
        "                    # Update total_outputs by concatenating new chunks\n",
        "                    new_chunks_with_padding_chunks = torch.full((flattened_patches.shape[0], new_chunks.shape[1]), PAD_TOKEN_ID, dtype=new_chunks.dtype, device=new_chunks.device)\n",
        "                    new_chunks_with_padding_chunks[~finished_sentences_mask] = new_chunks\n",
        "                    total_outputs = torch.cat((total_outputs, new_chunks_with_padding_chunks), dim=1)\n",
        "\n",
        "                # Update the finished_sentences_mask\n",
        "                finished_sentences_mask[~finished_sentences_mask] |= (outputs == processor.tokenizer.eos_token_id).any(dim=1)\n",
        "\n",
        "                # If all sentences are finished, exit the loop\n",
        "                if finished_sentences_mask.all():\n",
        "                    break\n",
        "\n",
        "                if outputs.shape[1] < CHUNK_LENGTH:\n",
        "                    print(\"ERROR: !! should have already exited because all sentences reached the end!!\")\n",
        "\n",
        "                # -1 because it will put in front a START_TOKEN automatically\n",
        "                context_from_last = total_outputs[:, -(CONTEXT_OVERLAP_LENGTH-1):]\n",
        "\n",
        "            predictions = processor.tokenizer.batch_decode(total_outputs, skip_special_tokens=True)\n",
        "\n",
        "            labels[labels == -100] = 0\n",
        "            answers = processor.tokenizer.batch_decode(labels, skip_special_tokens=True)\n",
        "\n",
        "            bleu_scores += [corpus_bleu([[answer]], [pred], smoothing_function=SmoothingFunction().method4) for pred, answer in zip(predictions, answers)]\n",
        "\n",
        "            avg_bleu_score = np.mean(bleu_scores)\n",
        "            test_loop.set_postfix(bleu_score=avg_bleu_score)\n",
        "\n",
        "            if config.get(\"verbose\", False):\n",
        "                for pred, answer, bleu_score in zip(predictions, answers, bleu_scores):\n",
        "                    tqdm.write(f\"\\nPrediction: {pred}\\n    Answer: {answer}\\n      Bleu: {bleu_score:.2f}\")\n",
        "\n",
        "\n",
        "    return avg_bleu_score\n"
      ]
    },
    {
      "cell_type": "code",
      "execution_count": 37,
      "metadata": {
        "id": "GhiWvFFFA8n4"
      },
      "outputs": [],
      "source": [
        "def save_checkpoint(model, optimizer, scheduler, epoch, global_step, wandb_run_id, experiment_name, folder_path):\n",
        "    checkpoint = {\n",
        "        \"model_state_dict\": model.state_dict(),\n",
        "        \"optimizer_state_dict\": optimizer.state_dict(),\n",
        "        \"scheduler_state_dict\": scheduler.state_dict(),\n",
        "        \"epoch\": epoch,\n",
        "        \"global_step\": global_step,\n",
        "        'wandb_run_id': wandb_run_id\n",
        "    }\n",
        "    model_name = f\"{experiment_name}_epoch[{epoch}].pth\"\n",
        "    torch.save(checkpoint, folder_path + model_name)\n"
      ]
    },
    {
      "cell_type": "code",
      "execution_count": 38,
      "metadata": {
        "id": "F6Lme6odJJK8"
      },
      "outputs": [],
      "source": [
        "config = {\n",
        "          \"batch_size\": BATCH_SIZE,\n",
        "          \"num_warmup_steps\": NUM_WARMUP_STEPS,\n",
        "          \"max_epochs\": MAX_EPOCHS,\n",
        "          \"lr\": LR,\n",
        "          \"check_val_every_n_epoch\": CHECK_VAL_EVERY_N_EPOCH,\n",
        "          \"gradient_clip_val\": GRADIENT_CLIP_VAL,\n",
        "          \"accumulate_grad_batches\": ACCUMULATE_GRAD_BATCHES,\n",
        "          \"verbose\": VERBOSE,\n",
        "}"
      ]
    },
    {
      "cell_type": "code",
      "execution_count": 39,
      "metadata": {
        "id": "QxemWk5nEfZL"
      },
      "outputs": [],
      "source": [
        "def validate_config(config):\n",
        "    # Check required keys\n",
        "    required_keys = [\n",
        "        \"batch_size\",\n",
        "        \"num_warmup_steps\",\n",
        "        \"max_epochs\",\n",
        "        \"lr\",\n",
        "        \"check_val_every_n_epoch\",\n",
        "        \"gradient_clip_val\",\n",
        "        \"accumulate_grad_batches\",\n",
        "        \"verbose\"\n",
        "    ]\n",
        "    for key in required_keys:\n",
        "        if key not in config:\n",
        "            raise ValueError(f\"Key '{key}' must be present in the configuration.\")\n",
        "\n",
        "    # Check that values are in expected ranges\n",
        "    if config[\"batch_size\"] <= 0:\n",
        "        raise ValueError(\"batch_size must be positive.\")\n",
        "    if config[\"num_warmup_steps\"] < 0:\n",
        "        raise ValueError(\"num_warmup_steps must be non-negative.\")\n",
        "    if config[\"max_epochs\"] <= 0:\n",
        "        raise ValueError(\"max_epochs must be positive.\")\n",
        "    if config[\"lr\"] <= 0:\n",
        "        raise ValueError(\"Learning rate must be positive.\")\n",
        "    if config[\"check_val_every_n_epoch\"] <= 0:\n",
        "        raise ValueError(\"check_val_every_n_epoch must be positive.\")\n",
        "    if config[\"gradient_clip_val\"] < 0:\n",
        "        raise ValueError(\"gradient_clip_val must be non-negative.\")\n",
        "    if config[\"accumulate_grad_batches\"] <= 0:\n",
        "        raise ValueError(\"accumulate_grad_batches must be positive.\")\n",
        "    if not isinstance(config[\"verbose\"], bool):\n",
        "        raise ValueError(\"verbose must be a boolean value.\")\n"
      ]
    },
    {
      "cell_type": "code",
      "execution_count": 40,
      "metadata": {
        "colab": {
          "base_uri": "https://localhost:8080/"
        },
        "id": "knzzKEtwEruj",
        "outputId": "5e803051-ee38-43a7-e4df-8a2983f8e290"
      },
      "outputs": [
        {
          "name": "stdout",
          "output_type": "stream",
          "text": [
            "{'batch_size': 4, 'num_warmup_steps': 10000, 'max_epochs': 20, 'lr': 0.0001, 'check_val_every_n_epoch': 5, 'gradient_clip_val': 1.0, 'accumulate_grad_batches': 2.0, 'verbose': True}\n"
          ]
        }
      ],
      "source": [
        "validate_config(config)\n",
        "print(config)"
      ]
    },
    {
      "cell_type": "code",
      "execution_count": 41,
      "metadata": {
        "colab": {
          "base_uri": "https://localhost:8080/",
          "height": 1000
        },
        "id": "EPfNUdrEoci8",
        "outputId": "8322b6a6-065a-4350-c93a-b9489295b1a6"
      },
      "outputs": [
        {
          "data": {
            "application/javascript": "\n        window._wandbApiKey = new Promise((resolve, reject) => {\n            function loadScript(url) {\n            return new Promise(function(resolve, reject) {\n                let newScript = document.createElement(\"script\");\n                newScript.onerror = reject;\n                newScript.onload = resolve;\n                document.body.appendChild(newScript);\n                newScript.src = url;\n            });\n            }\n            loadScript(\"https://cdn.jsdelivr.net/npm/postmate/build/postmate.min.js\").then(() => {\n            const iframe = document.createElement('iframe')\n            iframe.style.cssText = \"width:0;height:0;border:none\"\n            document.body.appendChild(iframe)\n            const handshake = new Postmate({\n                container: iframe,\n                url: 'https://wandb.ai/authorize'\n            });\n            const timeout = setTimeout(() => reject(\"Couldn't auto authenticate\"), 5000)\n            handshake.then(function(child) {\n                child.on('authorize', data => {\n                    clearTimeout(timeout)\n                    resolve(data)\n                });\n            });\n            })\n        });\n    ",
            "text/plain": [
              "<IPython.core.display.Javascript object>"
            ]
          },
          "metadata": {},
          "output_type": "display_data"
        },
        {
          "name": "stderr",
          "output_type": "stream",
          "text": [
            "\u001b[34m\u001b[1mwandb\u001b[0m: Appending key for api.wandb.ai to your netrc file: /root/.netrc\n"
          ]
        },
        {
          "data": {
            "text/html": [
              "Tracking run with wandb version 0.15.8"
            ],
            "text/plain": [
              "<IPython.core.display.HTML object>"
            ]
          },
          "metadata": {},
          "output_type": "display_data"
        },
        {
          "data": {
            "text/html": [
              "Run data is saved locally in <code>/content/wandb/run-20230820_095418-cd0pr1gj</code>"
            ],
            "text/plain": [
              "<IPython.core.display.HTML object>"
            ]
          },
          "metadata": {},
          "output_type": "display_data"
        },
        {
          "data": {
            "text/html": [
              "Syncing run <strong><a href='https://wandb.ai/team-gs/Pix2Struct/runs/cd0pr1gj' target=\"_blank\">run-Pix2Struct_SynthBootstrap_10000_Complete</a></strong> to <a href='https://wandb.ai/team-gs/Pix2Struct' target=\"_blank\">Weights & Biases</a> (<a href='https://wandb.me/run' target=\"_blank\">docs</a>)<br/>"
            ],
            "text/plain": [
              "<IPython.core.display.HTML object>"
            ]
          },
          "metadata": {},
          "output_type": "display_data"
        },
        {
          "data": {
            "text/html": [
              " View project at <a href='https://wandb.ai/team-gs/Pix2Struct' target=\"_blank\">https://wandb.ai/team-gs/Pix2Struct</a>"
            ],
            "text/plain": [
              "<IPython.core.display.HTML object>"
            ]
          },
          "metadata": {},
          "output_type": "display_data"
        },
        {
          "data": {
            "text/html": [
              " View run at <a href='https://wandb.ai/team-gs/Pix2Struct/runs/cd0pr1gj' target=\"_blank\">https://wandb.ai/team-gs/Pix2Struct/runs/cd0pr1gj</a>"
            ],
            "text/plain": [
              "<IPython.core.display.HTML object>"
            ]
          },
          "metadata": {},
          "output_type": "display_data"
        },
        {
          "name": "stderr",
          "output_type": "stream",
          "text": [
            "Epoch 0/19 - train loop: 100%|██████████| 5125/5125 [1:05:52<00:00,  1.30it/s, loss=0.234]\n"
          ]
        },
        {
          "name": "stdout",
          "output_type": "stream",
          "text": [
            "Moving Avg Loss: 0.374\n"
          ]
        },
        {
          "name": "stderr",
          "output_type": "stream",
          "text": [
            "Epoch 1/19 - train loop: 100%|██████████| 5125/5125 [1:05:51<00:00,  1.30it/s, loss=0.139]\n"
          ]
        },
        {
          "name": "stdout",
          "output_type": "stream",
          "text": [
            "Moving Avg Loss: 0.288\n"
          ]
        },
        {
          "name": "stderr",
          "output_type": "stream",
          "text": [
            "Epoch 2/19 - train loop: 100%|██████████| 5125/5125 [1:05:49<00:00,  1.30it/s, loss=0.385]\n"
          ]
        },
        {
          "name": "stdout",
          "output_type": "stream",
          "text": [
            "Moving Avg Loss: 0.264\n"
          ]
        },
        {
          "name": "stderr",
          "output_type": "stream",
          "text": [
            "Epoch 3/19 - train loop: 100%|██████████| 5125/5125 [1:05:51<00:00,  1.30it/s, loss=0.112]\n"
          ]
        },
        {
          "name": "stdout",
          "output_type": "stream",
          "text": [
            "Moving Avg Loss: 0.227\n"
          ]
        },
        {
          "name": "stderr",
          "output_type": "stream",
          "text": [
            "Epoch 4/19 - train loop: 100%|██████████| 5125/5125 [1:05:53<00:00,  1.30it/s, loss=0.349]\n"
          ]
        },
        {
          "name": "stdout",
          "output_type": "stream",
          "text": [
            "Moving Avg Loss: 0.226\n"
          ]
        },
        {
          "name": "stderr",
          "output_type": "stream",
          "text": [
            "Epoch 4/19 - valid loop:  50%|█████     | 1/2 [06:10<06:10, 370.14s/it, bleu_score=0.875]"
          ]
        },
        {
          "name": "stdout",
          "output_type": "stream",
          "text": [
            "\n",
            "Prediction: <!DOCTYPE html> <html> <head> <title>Dominate</title> <meta content=\"{&quot;primary&quot;: &quot;rgb(243, 190, 133)&quot;, &quot;secondary&quot;: &quot;rgb(249, 133, 93)&quot;, &quot;light&quot;: &quot;rgb(239, 249, 183)&quot;, &quot;dark&quot;: &quot;rgb(233, 93, 249)&quot;, &quot;enable-gradients&quot;: false}\" name=\"wg-palette\"> <meta content=\"width=device-width, initial-scale=1.0\" name=\"viewport\"> <meta content=\"Web Generator\" name=\"author\"> <meta content=\"2\" name=\"wg-layout\"> <link href=\"../css/custom-bootstrap.css\" rel=\"stylesheet\"> <link href=\"../css/wg-extras.css\" rel=\"stylesheet\"> <script src=\"../js/jquery-3.2.1.slim.min.js\" type=\"text/javascript\"></script> <script src=\"../js/bootstrap.min.js\" type=\"text/javascript\"></script> </head> <body class=\"\"> <div class=\" rounded\" id=\"full-wrapper\"> <nav class=\"bg-light navbar-light rounded navbar navbar-expand-md\" data-wg-type=\"navbar\"> <a class=\"navbar-brand\" href=\"#\">Laboris</a> <button class=\"navbar-toggler\" data-target=\"#main-nav\" data-toggle=\"collapse\" type=\"button\"> <span class=\"navbar-toggler-icon\"></span> </button> <div class=\"collapse navbar-collapse\" id=\"main-nav\" style=\"height: 9vh;\"> <ul class=\"navbar-nav ml-auto\"> <li class=\"nav-item\"> <a class=\"nav-link\" href=\"#\">Laborum sed</a> </li> <li class=\"nav-item\"> <a class=\"nav-link\" href=\"#\">Occaecat do</a> </li> </ul> </div> </nav> <div class=\"d-flex\"> <div class=\"container-fluid py-3\" id=\"page-content\"> <div class=\"m-3 wg-detect\" data-wg-type=\"tabs\"> <div class=\"nav nav-tabs\"> <a aria-controls=\"est\" class=\"nav-item nav-link active\" data-toggle=\"tab\" href=\"#est\" id=\"est-tab\" role=\"tab\">Est</a> <a aria-controls=\"lorem\" class=\"nav-item nav-link\" data-toggle=\"tab\" href=\"#lorem\" id=\"lorem-tab\" role=\"tab\">Lorem</a> <a aria-controls=\"occaecat\" class=\"nav-item nav-link\" data-toggle=\"tab\" href=\"#occaecat\" id=\"occaecat-tab\" role=\"tab\">Occaecat</a> <a aria-controls=\"incididunt\" class=\"nav-item nav-link\" data-toggle=\"tab\" href=\"#incididunt\" id=\"incididunt-tab\" role=\"tab\">Incididunt</a> </div> <div class=\"tab-content\"> <div aria-labelledby=\"est\" class=\"tab-pane fade border p-3 show active\" id=\"est\" role=\"tabpanel\">Elit laboris labore eu exercitation nulla ipsum eiusmod. Dolore et ut reprehenderit. Magna sunt amet minim nostrud.</div> <div aria-labelledby=\"lorem\" class=\"tab-pane fade border p-3\" id=\"lorem\" role=\"tabpanel\">Eiusmod aliquip aliquip nostrud.</div> <div aria-labelledby=\"occaecat\" class=\"tab-pane fade border p-3\" id=\"occaecat\" role=\"tabpanel\">Eiusmod aliquip ullamco aliqua nostrud.</div> <div aria-labelledby=\"incididunt\" class=\"tab-pane fade border p-3\" id=\"incididunt\" role=\"tabpanel\">Eiusmod aliquip ullamco aliqua nostrud.</div> </div> </div> <div class=\"row my-3 wg-detect\" data-wg-type=\"mix\"> <div class=\"col\"> <div class=\"text-dark wg-detect\" data-wg-type=\"collapse\" id=\"collapse-ele-1\"> <div class=\"card\"> <div class=\"card-header\" id=\"heading-excepteur-1\"> <button aria-controls=\"heading-excepteur-1\" class=\"btn btn-link collapsed\" data-target=\"#collapse-excepteur-1\" data-toggle=\"collapse\">Excepteur ad qui in.</button> </div> <div aria-labelledby=\"heading-excepteur-1\" class=\"collapse\" data-parent=\"#collapse-ele-1\" id=\"collapse-excepteur-1\"> <div class=\"card-body text-black\">Et anim aliquip commodo. Labore aliquip anim aliqua. Labore aliquip anim aliqua. Labore aliquip commodo aliquip nostrud. Labore aliquip commodo aliquip nostrud. Labore aliquip commodo aliqua commodo. Labore aliquip commodo aliqua anim. Labore anim aliquip anim.</div> </div> </div> <div class=\"card\"> <div class=\"card-header\" id=\"heading-nostrud-2\"> <button aria-controls=\"heading-nostrud-2\" class=\"btn btn-link collapsed\" data-target=\"#collapse-nostrud-2\" data-toggle=\"collapse\">Nostrud sed dolor ullamco nulla.</button> </div> <div aria-labelledby=\"heading-nostrud-2\" class=\"collapse\" data-parent=\"#collapse-ele-1\" id=\"collapse-nostrud-2\"> <div class=\"card-body text-black\">Et anim aliquip commodo. Labore aliquip anim aliqua. Labore anim aliquip anim. Labore aliquip anim aliqua. Labore anim aliquip commodo. Labore aliquip anim aliqua. Labore anim aliquip commodo. Labore aliquip anim aliqua.</div> </div> </div> <div class=\"card\"> <div class=\"card-header\" id=\"heading-ipsum-3\"> <button aria-controls=\"heading-ipsum-3\" class=\"btn btn-link collapsed\" data-target=\"#collapse-ipsum-3\" data-toggle=\"collapse\">Ipsum et commodo aliquip pariatur sunt fugiat, aliqua occaecat voluptate id.</button> </div> <div aria-labelledby=\"heading-ipsum-3\" class=\"collapse\" data-parent=\"#collapse-ele-1\" id=\"collapse-ipsum-3\"> <div class=\"card-body text-black\">Et anim aliquip commodo aliqua. Labore anim aliquip anim. Labore aliquip commodo aliqua anim. Labore aliquip anim aliqua. Labore anim aliquip commodo. Labore aliquip anim aliqua. Labore anim aliquip ullamco. Labore anim aliquip ullamco.</div> </div> </div> <div class=\"card\"> <div class=\"card-header\" id=\"heading-ipsum-4\"> <button aria-controls=\"heading-ipsum-4\" class=\"btn btn-link collapsed\" data-target=\"#collapse-ipsum-4\" data-toggle=\"collapse\">Ipsum et commodo aliquip pariatur sunt fugiat, aliqua occaecat voluptate ad.</button> </div> <div aria-labelledby=\"heading-ipsum-4\" class=\"collapse\" data-parent=\"#collapse-ele-1\" id=\"collapse-ipsum-4\"> <div class=\"card-body text-black\">Et aliquip anim aliqua. Labore anim aliquip anim. Labore aliquip anim aliqua. Labore anim aliquip anim. Labore aliquip anim aliqua. Labore anim aliquip anim. Labore anim aliquip anim.</div> </div> </div> </div> </div> <div class=\"col\"> <table class=\"bg-white table\" data-wg-type=\"table\"> <tr> <td>laboris</td> <td>ut</td> <td>non</td> <td>0</td> </tr> <tr> <td>duis</td> <td>anim</td> <td>nostrud</td> <td>0</td> </tr> <tr> <td>est</td> <td>aliqua</td> <td>id</td> <td>0</td> </tr> <tr> <td>duis</td> <td>ipsum</td> <td>excepteur</td> <td>0</td> </tr> <tr> <td>duis</td> <td>incididunt</td> <td>reprehenderit</td> <td>0</td> </tr> </table> </div> </div> </div> <div class=\"bg-light rounded\" data-wg-type=\"sidebar\" id=\"sidebar-wrapper\"> <div class=\"list-group list-group-flush\" style=\"width:28vh;\"> <a class=\"list-group-item list-group-item-action\" href=\"#\">Commodo id eu</a> <a class=\"list-group-item list-group-item-action\" href=\"#\">Quis ullamco</a> <a class=\"list-group-item list-group-item-action\" href=\"#\">Elit duis est</a> <a class=\"list-group-item list-group-item-action\" href=\"#\">Sint ex elit</a> </div> </div> </div> <footer class=\" rounded jumbotron mb-0\" data-wg-type=\"footer\" style=\"height: 22vh;\"> <div class=\"container\"> <span class=\"text-muted\">Voluptate proident do nisi dolore cillum esse qui</span> </div> </footer> </div> </body> </html>\n",
            "    Answer: <!DOCTYPE html> <html> <head> <title>Dominate</title> <meta content=\"{&quot;primary&quot;: &quot;rgb(219, 245, 240)&quot;, &quot;secondary&quot;: &quot;rgb(245, 219, 225)&quot;, &quot;light&quot;: &quot;rgb(245, 240, 219)&quot;, &quot;dark&quot;: &quot;rgb(219, 225, 245)&quot;, &quot;enable-gradients&quot;: false}\" name=\"wg-palette\"> <meta content=\"width=device-width, initial-scale=1.0\" name=\"viewport\"> <meta content=\"Web Generator\" name=\"author\"> <meta content=\"2\" name=\"wg-layout\"> <link href=\"../css/custom-bootstrap.css\" rel=\"stylesheet\"> <link href=\"../css/wg-extras.css\" rel=\"stylesheet\"> <script src=\"../js/jquery-3.2.1.slim.min.js\" type=\"text/javascript\"></script> <script src=\"../js/bootstrap.min.js\" type=\"text/javascript\"></script> </head> <body class=\"bg-light\"> <div class=\"bg-light rounded shadow-sm\" id=\"full-wrapper\"> <nav class=\"bg-dark navbar-light rounded shadow-sm navbar navbar-expand-md\" data-wg-type=\"navbar\"> <a class=\"navbar-brand\" href=\"#\">Laboris</a> <button class=\"navbar-toggler\" data-target=\"#main-nav\" data-toggle=\"collapse\" type=\"button\"> <span class=\"navbar-toggler-icon\"></span> </button> <div class=\"collapse navbar-collapse\" id=\"main-nav\" style=\"height: 6vh;\"> <ul class=\"navbar-nav ml-auto\"> <li class=\"nav-item\"> <a class=\"nav-link\" href=\"#\">Laborum sed</a> </li> <li class=\"nav-item\"> <a class=\"nav-link\" href=\"#\">Occaecat do</a> </li> </ul> </div> </nav> <div class=\"d-flex\"> <div class=\"flex-grow-1\"> <div class=\"container-fluid py-3\" id=\"page-content\"> <div class=\"m-3 wg-detect\" data-wg-type=\"tabs\"> <div class=\"nav nav-tabs\"> <a aria-controls=\"est\" class=\"nav-item nav-link active\" data-toggle=\"tab\" href=\"#est\" id=\"est-tab\" role=\"tab\">Est</a> <a aria-controls=\"lorem\" class=\"nav-item nav-link\" data-toggle=\"tab\" href=\"#lorem\" id=\"lorem-tab\" role=\"tab\">Lorem</a> <a aria-controls=\"occaecat\" class=\"nav-item nav-link\" data-toggle=\"tab\" href=\"#occaecat\" id=\"occaecat-tab\" role=\"tab\">Occaecat</a> <a aria-controls=\"incididunt\" class=\"nav-item nav-link\" data-toggle=\"tab\" href=\"#incididunt\" id=\"incididunt-tab\" role=\"tab\">Incididunt</a> </div> <div class=\"tab-content\"> <div aria-labelledby=\"est\" class=\"tab-pane fade border p-3 show active\" id=\"est\" role=\"tabpanel\">Elit laboris labore eu exercitation nulla ipsum eiusmod. Dolore et ut reprehenderit. Magna sunt amet minim nostrud.</div> <div aria-labelledby=\"lorem\" class=\"tab-pane fade border p-3\" id=\"lorem\" role=\"tabpanel\">Duis tempor aliqua aute. Commodo officia minim dolore ipsum.</div> <div aria-labelledby=\"occaecat\" class=\"tab-pane fade border p-3\" id=\"occaecat\" role=\"tabpanel\">Quis reprehenderit deserunt ut consectetur, consequat ut sit labore magna irure in deserunt, nisi aliqua ut sint. Est occaecat excepteur in elit aliqua sed ut, do voluptate ex commodo minim deserunt irure eu.</div> <div aria-labelledby=\"incididunt\" class=\"tab-pane fade border p-3\" id=\"incididunt\" role=\"tabpanel\">Officia mollit pariatur amet commodo velit. Non et incididunt sunt sed qui fugiat.</div> </div> </div> <div class=\"row my-3 wg-detect\" data-wg-type=\"mix\"> <div class=\"col\"> <div class=\"text-dark wg-detect\" data-wg-type=\"collapse\" id=\"collapse-ele-1\"> <div class=\"card\"> <div class=\"card-header\" id=\"heading-excepteur-1\"> <button aria-controls=\"heading-excepteur-1\" class=\"btn btn-link collapsed\" data-target=\"#collapse-excepteur-1\" data-toggle=\"collapse\">Excepteur ad qui in.</button> </div> <div aria-labelledby=\"heading-excepteur-1\" class=\"collapse\" data-parent=\"#collapse-ele-1\" id=\"collapse-excepteur-1\"> <div class=\"card-body text-black\">Ipsum cupidatat voluptate eu. Mollit commodo qui amet eiusmod minim aliquip dolor, qui in elit veniam eu excepteur. Laboris amet nulla laboris ullamco eu et, reprehenderit sint in magna. Sunt ex exercitation ullamco sed incididunt. Magna cupidatat ullamco dolor officia sit. Ea voluptate labore sed excepteur. Laborum non laborum quis eiusmod laborum, duis minim nostrud et fugiat minim. Voluptate fugiat veniam exercitation aliquip. Sit in duis sed esse id eu eiusmod. Sit nulla cupidatat sit mollit cupidatat ea ullamco.</div> </div> </div> <div class=\"card\"> <div class=\"card-header\" id=\"heading-nostrud-2\"> <button aria-controls=\"heading-nostrud-2\" class=\"btn btn-link collapsed\" data-target=\"#collapse-nostrud-2\" data-toggle=\"collapse\">Nostrud sed dolor ullamco nulla.</button> </div> <div aria-labelledby=\"heading-nostrud-2\" class=\"collapse\" data-parent=\"#collapse-ele-1\" id=\"collapse-nostrud-2\"> <div class=\"card-body text-black\">Fugiat id duis non ex. Officia lorem minim irure, id enim pariatur laborum qui culpa irure ipsum. Deserunt in tempor qui aute sit nostrud laboris, deserunt cillum veniam lorem irure est lorem qui. Ex elit dolore ut, do commodo irure culpa exercitation, mollit irure amet commodo commodo cupidatat et. Aliqua dolore duis laboris. Aute enim sunt veniam anim veniam. Nisi consectetur consectetur nulla id. In in excepteur nostrud anim. Enim dolor eiusmod sint id ex non, sit ex voluptate exercitation exercitation. Ut sint minim quis exercitation adipiscing qui.</div> </div> </div> <div class=\"card\"> <div class=\"card-header\" id=\"heading-ipsum-3\"> <button aria-controls=\"heading-ipsum-3\" class=\"btn btn-link collapsed\" data-target=\"#collapse-ipsum-3\" data-toggle=\"collapse\">Ipsum et commodo aliquip pariatur sunt fugiat, aliqua occaecat voluptate ad.</button> </div> <div aria-labelledby=\"heading-ipsum-3\" class=\"collapse\" data-parent=\"#collapse-ele-1\" id=\"collapse-ipsum-3\"> <div class=\"card-body text-black\">Fugiat et ex magna. Eu sunt ut pariatur ad ad. Eu aliquip elit do labore sit laborum voluptate, do tempor et minim nisi amet nulla. Est et nostrud in est nisi exercitation sed. In exercitation cupidatat excepteur. Do sed ad nostrud. Dolore sed ut nisi. Enim laboris nisi reprehenderit sunt nisi mollit sunt. Mollit sunt aliqua occaecat dolor est.</div> </div> </div> </div> </div> <div class=\"col\"> <table class=\"bg-white table-striped table\" data-wg-type=\"table\"> <tr> <td>laboris</td> <td>ut</td> <td>non</td> <td>0</td> </tr> <tr> <td>duis</td> <td>anim</td> <td>nostrud</td> <td>0</td> </tr> <tr> <td>est</td> <td>aliqua</td> <td>id</td> <td>0</td> </tr> <tr> <td>duis</td> <td>ipsum</td> <td>excepteur</td> <td>0</td> </tr> <tr> <td>duis</td> <td>incididunt</td> <td>reprehenderit</td> <td>0</td> </tr> </table> </div> </div> </div> <footer class=\" rounded shadow-sm jumbotron mb-0\" data-wg-type=\"footer\" style=\"height: 29vh;\"> <div class=\"container\"> <span class=\"text-muted\">Voluptate proident do nisi dolore cillum esse qui</span> </div> </footer> </div> <div class=\"bg-dark rounded shadow-sm\" data-wg-type=\"sidebar\" id=\"sidebar-wrapper\"> <div class=\"list-group list-group-flush\" style=\"width:26vh;\"> <a class=\"list-group-item list-group-item-action\" href=\"#\">Commodo id eu</a> <a class=\"list-group-item list-group-item-action\" href=\"#\">Quis ullamco</a> <a class=\"list-group-item list-group-item-action\" href=\"#\">Elit duis est</a> <a class=\"list-group-item list-group-item-action\" href=\"#\">Sint ex elit</a> </div> </div> </div> </div> </body> </html>\n",
            "      Bleu: 0.81\n",
            "\n",
            "Prediction: <!DOCTYPE html> <html> <head> <title>Dominate</title> <meta content=\"{&quot;primary&quot;: &quot;rgb(243, 190, 133)&quot;, &quot;secondary&quot;: &quot;rgb(223, 141, 60)&quot;, &quot;light&quot;: &quot;rgb(249, 237, 222)&quot;, &quot;dark&quot;: &quot;rgb(138, 73, 104)&quot;, &quot;enable-gradients&quot;: false}\" name=\"wg-palette\"> <meta content=\"width=device-width, initial-scale=1.0\" name=\"viewport\"> <meta content=\"Web Generator\" name=\"author\"> <meta content=\"3\" name=\"wg-layout\"> <link href=\"../css/custom-bootstrap.css\" rel=\"stylesheet\"> <link href=\"../css/wg-extras.css\" rel=\"stylesheet\"> <script src=\"../js/jquery-3.2.1.slim.min.js\" type=\"text/javascript\"></script> <script src=\"../js/bootstrap.min.js\" type=\"text/javascript\"></script> </head> <body class=\"\"> <div class=\" rounded\" id=\"full-wrapper\"> <nav class=\"bg-light navbar-light rounded navbar navbar-expand-md\" data-wg-type=\"navbar\"> <a class=\"navbar-brand\" href=\"#\">Laboris</a> <button class=\"navbar-toggler\" data-target=\"#main-nav\" data-toggle=\"collapse\" type=\"button\"> <span class=\"navbar-toggler-icon\"></span> </button> <div class=\"collapse navbar-collapse\" id=\"main-nav\" style=\"height: 9vh;\"> <ul class=\"navbar-nav mx-auto\"> <li class=\"nav-item\"> <a class=\"nav-link\" href=\"#\">Dolore ad do</a> </li> <li class=\"nav-item\"> <a class=\"nav-link\" href=\"#\">Esse ullamco</a> </li> <li class=\"nav-item\"> <a class=\"nav-link\" href=\"#\">Voluptate est</a> </li> <li class=\"nav-item\"> <a class=\"nav-link\" href=\"#\">Lorem ea ex</a> </li> <li class=\"nav-item\"> <a class=\"nav-link\" href=\"#\">Reprehenderit</a> </li> </ul> </div> </nav> <header class=\"bg-secondary rounded d-flex align-items-center justify-content-center\" data-wg-type=\"header\" style=\"height: 29vh;\"> <h1 class=\"p-2 text-center\">Aliqua Dolore Nisi Cillum Elit Do</h1> </header> <div class=\"d-flex\"> <div class=\"container-fluid py-3\" id=\"page-content\"> <div class=\"row my-3 wg-detect\" data-wg-type=\"mix\"> <div class=\"col\"> <h1 class=\"wg-detect\" data-wg-type=\"heading\">Irure sint lorem occaecat.</h1> </div> <div class=\"col\"> <ol class=\"wg-detect\" data-wg-type=\"list\"> <li>Sunt id aute</li> <li>Dolore irure</li> <li>Sunt amet id</li> <li>Lorem tempor</li> <li>Tempor lorem</li> <li>Aliquip nulla</li> </ol> </div> </div> <div class=\"m-3 wg-detect\" data-wg-type=\"tabs\"> <div class=\"nav nav-tabs\"> <a aria-controls=\"sunt\" class=\"nav-item nav-link active\" data-toggle=\"tab\" href=\"#sunt\" id=\"sunt-tab\" role=\"tab\">Sunt</a> <a aria-controls=\"ut\" class=\"nav-item nav-link\" data-toggle=\"tab\" href=\"#ut\" id=\"ut-tab\" role=\"tab\">Ut</a> <a aria-controls=\"est\" class=\"nav-item nav-link\" data-toggle=\"tab\" href=\"#est\" id=\"est-tab\" role=\"tab\">Est</a> <a aria-controls=\"elit\" class=\"nav-item nav-link\" data-toggle=\"tab\" href=\"#elit\" id=\"elit-tab\" role=\"tab\">Elit</a> </div> <div class=\"tab-content\"> <div aria-labelledby=\"sunt\" class=\"tab-pane fade border p-3 show active\" id=\"sunt\" role=\"tabpanel\">Ex dolor fugiat aliquip proident nostrud, aute qui anim ut non commodo labore. Anim duis eu veniam lorem laborum.</div> <div aria-labelledby=\"ut\" class=\"tab-pane fade border p-3\" id=\"ut\" role=\"tabpanel\">Et cillum magna consequat dolore nostrud nulla nisi. Consectetur do et dolor laborum nostrud, non id cupidatat laborum cillum qui ad non. Duis tempor ex reprehenderit cillum deserunt, do dolore nisi sed pariatur ut enim. Voluptate voluptate enim adipiscing ad commodo non, fugiat nostrud amet qui occaecat consequat. Quis officia ex cupidatat dolore mollit magna exercitation, do ipsum ea enim consequat non amet. Incididunt eiusmod deserunt sit velit officia pariatur ipsum.</div> <div aria-labelledby=\"est\" class=\"tab-pane fade border p-3\" id=\"est\" role=\"tabpanel\">Eiusmod aliquip commodo aliquip commodo.</div> </div> </div> <div class=\"row my-3 wg-detect\" data-wg-type=\"mix\"> <div class=\"col\"> <h1 class=\"wg-detect\" data-wg-type=\"heading\">Officia exercitation elit anim cillum.</h1> </div> <div class=\"col\"> <p class=\"wg-detect\" data-wg-type=\"paragraph\">Et cillum magna consequat dolore nostrud nulla nisi. Consectetur do et dolor laborum nostrud, non id cupidatat laborum cillum qui ad non. Duis tempor ex reprehenderit cillum deserunt, do dolore nisi sed pariatur ut enim. Voluptate voluptate enim adipiscing ad commodo non, fugiat nostrud amet qui occaecat consequat. Quis officia ex cupidatat dolore mollit magna exercitation, do ipsum ea enim consequat non amet. Incididunt eiusmod deserunt sit velit officia pariatur ipsum.</p> </div> <div class=\"col\"> <h1 class=\"wg-detect\" data-wg-type=\"heading\">Dolor sit pariatur aute.</h1> </div> </div> </div> <div class=\"bg-light rounded\" data-wg-type=\"sidebar\" id=\"sidebar-wrapper\"> <div class=\"sidebar-heading\">Do</div> <div class=\"list-group list-group-flush\" style=\"width:28vh;\"> <a class=\"list-group-item list-group-item-action\" href=\"#\">Laborum ut et</a> <a class=\"list-group-item list-group-item-action\" href=\"#\">Incididunt ad</a> </div> </div> </div> </div> </body> </html>\n",
            "    Answer: <!DOCTYPE html> <html> <head> <title>Dominate</title> <meta content=\"{&quot;primary&quot;: &quot;rgb(239, 205, 171)&quot;, &quot;secondary&quot;: &quot;rgb(188, 102, 15)&quot;, &quot;light&quot;: &quot;rgb(240, 213, 186)&quot;, &quot;dark&quot;: &quot;rgb(100, 56, 11)&quot;, &quot;enable-gradients&quot;: false}\" name=\"wg-palette\"> <meta content=\"width=device-width, initial-scale=1.0\" name=\"viewport\"> <meta content=\"Web Generator\" name=\"author\"> <meta content=\"4\" name=\"wg-layout\"> <link href=\"../css/custom-bootstrap.css\" rel=\"stylesheet\"> <link href=\"../css/wg-extras.css\" rel=\"stylesheet\"> <script src=\"../js/jquery-3.2.1.slim.min.js\" type=\"text/javascript\"></script> <script src=\"../js/bootstrap.min.js\" type=\"text/javascript\"></script> </head> <body class=\"\"> <div class=\" rounded shadow-sm\" id=\"full-wrapper\"> <div class=\"d-flex\"> <div class=\"w-100\"> <nav class=\"bg-light navbar-light rounded shadow-sm navbar navbar-expand-md\" data-wg-type=\"navbar\"> <a class=\"navbar-brand\" href=\"#\">Laboris</a> <button class=\"navbar-toggler\" data-target=\"#main-nav\" data-toggle=\"collapse\" type=\"button\"> <span class=\"navbar-toggler-icon\"></span> </button> <div class=\"collapse navbar-collapse\" id=\"main-nav\" style=\"height: 5vh;\"> <ul class=\"navbar-nav mx-auto\"> <li class=\"nav-item\"> <a class=\"nav-link\" href=\"#\">Dolore ad do</a> </li> <li class=\"nav-item\"> <a class=\"nav-link\" href=\"#\">Esse ullamco</a> </li> <li class=\"nav-item\"> <a class=\"nav-link\" href=\"#\">Voluptate est</a> </li> <li class=\"nav-item\"> <a class=\"nav-link\" href=\"#\">Lorem ea ex</a> </li> <li class=\"nav-item\"> <a class=\"nav-link\" href=\"#\">Reprehenderit</a> </li> </ul> </div> </nav> <header class=\"bg-secondary text-white rounded shadow-sm d-flex align-items-center justify-content-center\" data-wg-type=\"header\" style=\"height: 22vh;\"> <h1 class=\"p-2 text-center\">Aliqua Dolore Nisi Cillum Elit Do</h1> </header> <div class=\"container-fluid py-3\" id=\"page-content\"> <div class=\"row my-3 wg-detect\" data-wg-type=\"mix\"> <div class=\"col\"> <h1 class=\"wg-detect\" data-wg-type=\"heading\">Irure sint lorem occaecat.</h1> </div> <div class=\"col\"> <ol class=\"wg-detect\" data-wg-type=\"list\"> <li>Sunt id aute</li> <li>Dolore irure</li> <li>Sunt amet id</li> <li>Lorem tempor</li> <li>Tempor lorem</li> <li>Aliquip nulla</li> </ol> </div> </div> <div class=\"m-3 wg-detect\" data-wg-type=\"tabs\"> <div class=\"nav nav-tabs\"> <a aria-controls=\"sunt\" class=\"nav-item nav-link active\" data-toggle=\"tab\" href=\"#sunt\" id=\"sunt-tab\" role=\"tab\">Sunt</a> <a aria-controls=\"ut\" class=\"nav-item nav-link\" data-toggle=\"tab\" href=\"#ut\" id=\"ut-tab\" role=\"tab\">Ut</a> <a aria-controls=\"est\" class=\"nav-item nav-link\" data-toggle=\"tab\" href=\"#est\" id=\"est-tab\" role=\"tab\">Est</a> <a aria-controls=\"elit\" class=\"nav-item nav-link\" data-toggle=\"tab\" href=\"#elit\" id=\"elit-tab\" role=\"tab\">Elit</a> </div> <div class=\"tab-content\"> <div aria-labelledby=\"sunt\" class=\"tab-pane fade border p-3 show active\" id=\"sunt\" role=\"tabpanel\">Ex dolor fugiat aliquip proident nostrud, aute qui anim ut non commodo labore. Anim duis eu veniam lorem laborum.</div> <div aria-labelledby=\"ut\" class=\"tab-pane fade border p-3\" id=\"ut\" role=\"tabpanel\">Labore in nostrud proident ipsum sit.</div> <div aria-labelledby=\"est\" class=\"tab-pane fade border p-3\" id=\"est\" role=\"tabpanel\">Aute consectetur pariatur ut non sed, reprehenderit do lorem excepteur id eu. Sit ex laborum aliqua duis incididunt incididunt, ea ex ad ut qui.</div> <div aria-labelledby=\"elit\" class=\"tab-pane fade border p-3\" id=\"elit\" role=\"tabpanel\">Eu sed exercitation occaecat officia cupidatat, non non elit qui duis lorem et.</div> </div> </div> <div class=\"row my-3 wg-detect\" data-wg-type=\"mix\"> <div class=\"col\"> <h1 class=\"wg-detect\" data-wg-type=\"heading\">Officia exercitation elit anim cillum.</h1> </div> <div class=\"col\"> <p class=\"wg-detect\" data-wg-type=\"paragraph\">Et cillum magna consequat dolore nostrud nulla nisi. Consectetur do et dolor laborum nostrud, non id cupidatat laborum cillum qui ad non. Duis tempor ex reprehenderit cillum deserunt, do dolore nisi sed pariatur ut enim. Voluptate voluptate enim adipiscing ad commodo non, fugiat nostrud amet qui occaecat consequat. Quis officia ex cupidatat dolore mollit magna exercitation, id ipsum ea enim consequat non amet. Incididunt eiusmod deserunt sit velit officia pariatur ipsum.</p> </div> <div class=\"col\"> <h1 class=\"wg-detect\" data-wg-type=\"heading\">Dolor sit pariatur aute.</h1> </div> </div> </div> </div> <div class=\"bg-light rounded shadow-sm\" data-wg-type=\"sidebar\" id=\"sidebar-wrapper\"> <div class=\"sidebar-heading\">Do</div> <div class=\"list-group list-group-flush\" style=\"width:23vh;\"> <a class=\"list-group-item list-group-item-action\" href=\"#\">Laborum ut et</a> <a class=\"list-group-item list-group-item-action\" href=\"#\">Incididunt ad</a> </div> </div> </div> </div> </body> </html>\n",
            "      Bleu: 0.93\n",
            "\n",
            "Prediction: <!DOCTYPE html> <html> <head> <title>Dominate</title> <meta content=\"{&quot;primary&quot;: &quot;rgb(243, 190, 133)&quot;, &quot;secondary&quot;: &quot;rgb(223, 101, 107)&quot;, &quot;light&quot;: &quot;rgb(249, 238, 154)&quot;, &quot;dark&quot;: &quot;rgb(238, 77, 90)&quot;, &quot;enable-gradients&quot;: false}\" name=\"wg-palette\"> <meta content=\"width=device-width, initial-scale=1.0\" name=\"viewport\"> <meta content=\"Web Generator\" name=\"author\"> <meta content=\"2\" name=\"wg-layout\"> <link href=\"../css/custom-bootstrap.css\" rel=\"stylesheet\"> <link href=\"../css/wg-extras.css\" rel=\"stylesheet\"> <script src=\"../js/jquery-3.2.1.slim.min.js\" type=\"text/javascript\"></script> <script src=\"../js/bootstrap.min.js\" type=\"text/javascript\"></script> </head> <body class=\"\"> <div class=\" rounded\" id=\"full-wrapper\"> <nav class=\"bg-light navbar-light rounded navbar navbar-expand-md\" data-wg-type=\"navbar\"> <button class=\"navbar-toggler\" data-target=\"#main-nav\" data-toggle=\"collapse\" type=\"button\"> <span class=\"navbar-toggler-icon\"></span> </button> <div class=\"collapse navbar-collapse\" id=\"main-nav\" style=\"height: 8vh;\"> <ul class=\"navbar-nav mx-auto\"> <li class=\"nav-item\"> <a class=\"nav-link\" href=\"#\">Esse commodo</a> </li> <li class=\"nav-item\"> <a class=\"nav-link\" href=\"#\">Eiusmod amet</a> </li> <li class=\"nav-item\"> <a class=\"nav-link\" href=\"#\">Eiusmod amet</a> </li> </ul> </div> </nav> <div class=\"d-flex\"> <div class=\"container-fluid py-3\" id=\"page-content\"> <div class=\"wg-detect\" data-wg-type=\"descriptive_items\"> <div class=\"row\"> <div class=\"col\"> <h2>Excepteur dolor qui commodo.</h2> <p><br> <span class=\"mx-auto m-2 placeholder\" data-wg-type=\"image\" style=\"width: 282px;height: 261px;\"> <span>282x261</span> </span> <span data-wg-type=\"text_area\">Cupidatat magna fugiat id ex minim ut, ut quis consequat enim proident non magna, consequat culpa non minim ex. Commodo lorem pariatur voluptate dolor. Esse cillum aute ea nulla tempor dolore, non fugiat reprehenderit do qui sint. Dolor aliquip aliqua exercitation cillum. Amet commodo magna lorem id id amet pariatur. Anim qui culpa enim. Proident mollit commodo in duis. Ipsum tempor labore aute veniam in lorem reprehenderit. Culpa magna aliquip aliquip. Velit minim sunt amet ex nostrud cillum, tempor id ipsum id ea laborum ex. Cupidatat pariatur sed et non commodo enim voluptate. Excepteur non cupidatat laboris magna. Mollit pariatur enim do deserunt. Cupidatat deserunt nisi adipiscing id ex irure mollit. Id minim pariatur laboris velit incididunt. Amet reprehenderit proident nisi est. Consectetur deserunt eiusmod dolor. Et in proident magna consequat est mollit. Ea elit sit magna irure et adipiscing. Adipiscing culpa ipsum fugiat velit duis dolore occaecat. Adipiscing dolor veniam non fugiat ea velit, aliqua voluptate voluptate do fugiat.</span> </p> </div> </div> <div class=\"row\"> <div class=\"col\"> <h2>Amet consequat aute consectetur id et qui.</h2> <p><br> <span class=\"float-left m-2 placeholder\" data-wg-type=\"image\" style=\"width: 282px;height: 261px;\"> <span>282x261</span> </span> <span data-wg-type=\"text_area\">Exercitation sint est cupidatat incididunt. Eiusmod laborum aliqua pariatur commodo. Nisi excepteur mollit officia commodo ea eiusmod sed, deserunt adipiscing amet ut dolor dolore laboris ullamco. Culpa enim eiusmod qui eu. Pariatur amet ea. Magna do labore dolor veniam dolore, tempor eiusmod aliqua est labore id ex dolor, in deserunt incididunt dolore est. Laborum fugiat enim sint. Elit ad duis incididunt ipsum officia sint. Excepteur reprehenderit exercitation sunt consequat proident esse, magna proident do qui sint. Dolor amet magna exercitation duis sed. Laborum deserunt esse proident commodo quis elit reprehenderit. Tempor aliqua pariatur proident esse labore labore. Laboris occaecat cillum laborum amet amet amet. Culpa adipiscing consectetur esse exercitation quis, culpa cupidatat ipsum sit, occaecat commodo consectetur ut ex. Laborum irure enim culpa incididunt non cupidatat, laborum anim amet mollit. Mollit cillum incididunt incididunt officia culpa voluptate. Non adipiscing ut ipsum, excepteur exercitation do ipsum, nisi tempor ut amet nisi adipiscing commodo. Labore est eiusmod ea eu quis.</span> </p> </div> </div> <div class=\"row\"> <div class=\"col\"> <h2>Sed est nostrud nisi ipsum qui.</h2> <p><br> <span class=\"float-left m-2 placeholder\" data-wg-type=\"image\" style=\"width: 282px;height: 261px;\"> <span>282x261</span> </span> <span data-wg-type=\"text_area\">Sunt quis velit dolore exercitation. Excepteur tempor sed amet excepteur nisi, amet proident sint excepteur occaecat dolore. Deserunt eu non et irure. Laboris sint laboris elit. Consequat excepteur excepteur amet proident. Excepteur tempor amet deserunt pariatur nisi, amet proident nostrud dolore elit laborum. Duis nulla lorem esse deserunt culpa amet excepteur. Ex nostrud commodo nulla commodo. Labore anim commodo nostrud aliqua id irure. Dolore enim excepteur. Commodo pariatur nulla nostrud aliqua id. Deserunt reprehenderit voluptate anim sunt. Eiusmod cupidatat anim officia reprehenderit laboris culpa fugiat. Aute cillum sunt nisi fugiat velit pariatur.</span> </p> </div> </div> </div> </div> </div> <footer class=\" rounded jumbotron mb-0\" data-wg-type=\"footer\" style=\"height: 18vh;\"> <div class=\"container\"> <span class=\"text-muted\">Dolor fugiat veniam labore esse et officia qui eu</span> </div> </footer> </div> </body> </html>\n",
            "    Answer: <!DOCTYPE html> <html> <head> <title>Dominate</title> <meta content=\"{&quot;primary&quot;: &quot;rgb(122, 247, 170)&quot;, &quot;secondary&quot;: &quot;rgb(19, 166, 76)&quot;, &quot;light&quot;: &quot;rgb(208, 254, 225)&quot;, &quot;dark&quot;: &quot;rgb(58, 87, 69)&quot;, &quot;enable-gradients&quot;: true}\" name=\"wg-palette\"> <meta content=\"width=device-width, initial-scale=1.0\" name=\"viewport\"> <meta content=\"Web Generator\" name=\"author\"> <meta content=\"2\" name=\"wg-layout\"> <link href=\"../css/custom-bootstrap.css\" rel=\"stylesheet\"> <link href=\"../css/wg-extras.css\" rel=\"stylesheet\"> <script src=\"../js/jquery-3.2.1.slim.min.js\" type=\"text/javascript\"></script> <script src=\"../js/bootstrap.min.js\" type=\"text/javascript\"></script> </head> <body class=\"\"> <div class=\"\" id=\"full-wrapper\"> <nav class=\"bg-gradient-light navbar-light navbar navbar-expand-md\" data-wg-type=\"navbar\"> <button class=\"navbar-toggler\" data-target=\"#main-nav\" data-toggle=\"collapse\" type=\"button\"> <span class=\"navbar-toggler-icon\"></span> </button> <div class=\"collapse navbar-collapse\" id=\"main-nav\" style=\"height: 3vh;\"> <ul class=\"navbar-nav ml-auto\"> <li class=\"nav-item\"> <a class=\"nav-link\" href=\"#\">Sunt non in</a> </li> <li class=\"nav-item\"> <a class=\"nav-link\" href=\"#\">Culpa ea aute</a> </li> </ul> </div> </nav> <div class=\"d-flex\"> <div class=\"flex-grow-1\"> <div class=\"container-fluid py-3\" id=\"page-content\"> <div class=\"wg-detect\" data-wg-type=\"descriptive_items\"> <div class=\"row\"> <div class=\"col\"> <h2>Excepteur dolor qui commodo.</h2> <p><br> <span class=\"mx-auto m-2 shadow placeholder\" data-wg-type=\"image\" style=\"width: 291px;height: 261px;\"> <span>291x261</span> </span> <span data-wg-type=\"text_area\">Cupidatat magna fugiat id ex minim ut, ut quis consequat enim proident non magna, consequat culpa non minim ex. Commodo lorem pariatur voluptate dolor. Esse cillum aute ea nulla tempor dolore, non fugiat consectetur mollit pariatur irure. Ex sit nostrud laborum excepteur commodo, eiusmod magna lorem id id amet pariatur. Anim qui culpa enim. Proident mollit commodo in duis. Ipsum tempor labore aute veniam in lorem reprehenderit. Culpa dolore laboris amet aliquip. Velit minim sunt amet ex nostrud cillum, tempor ut ipsum id eu laborum eu. Cupidatat pariatur sed et non commodo enim voluptate. Excepteur officia laboris magna magna. Mollit pariatur elit laboris do deserunt. Cupidatat deserunt nisi adipiscing id ex irure mollit. Id minim pariatur laboris velit incididunt. Amet reprehenderit proident nisi est. Consectetur deserunt eiusmod dolor. Et in reprehenderit magna consectetur est mollit. Ea elit sit magna irure ut adipiscing. Adipiscing culpa ipsum fugiat velit duis dolore occaecat. Adipiscing dolor veniam non fugiat ex velit, aliqua voluptate voluptate do fugiat.</span> </p> </div> </div> <div class=\"row\"> <div class=\"col\"> <h2>Amet consequat aute consectetur id et qui.</h2> <p><br> <span class=\"mx-auto m-2 shadow placeholder\" data-wg-type=\"image\" style=\"width: 291px;height: 261px;\"> <span>291x261</span> </span> <span data-wg-type=\"text_area\">Exercitation sint cupidatat incididunt. Eiusmod laborum aliqua do pariatur commodo. Nisi voluptate mollit officia commodo ea eiusmod sed, deserunt adipiscing amet ut dolor dolore laboris ullamco. Culpa anim eiusmod qui eu. Pariatur amet esse ea. Magna do labore dolor veniam dolore, tempor eiusmod aliqua est labore sit ex dolor, in deserunt incididunt dolore est. Laborum fugiat irure sint. Elit ad duis incididunt ipsum officia sint. Excepteur reprehenderit exercitation sunt consequat proident esse, magna proident do qui sint. Duis officia sit magna ea sint enim. Duis sed est anim deserunt, esse proident commodo quis elit reprehenderit. Tempor aliqua pariatur proident esse labore excepteur. Laboris nulla occaecat do, magna velit magna do amet. Culpa adipiscing consectetur esse exercitation quis, culpa cupidatat ipsum sit, occaecat commodo consectetur ut ex. Laborum irure enim culpa incididunt non cupidatat, laborum occaecat nulla velit sint ullamco quis minim. Sunt elit officia culpa voluptate. Non adipiscing ut ipsum, excepteur exercitation do ipsum, nisi tempor ut amet nisi adipiscing commodo. Labore est ex eiusmod ea eu quis.</span> </p> </div> </div> <div class=\"row\"> <div class=\"col\"> <h2>Sed est nostrud nisi ipsum qui.</h2> <p><br> <span class=\"mx-auto m-2 shadow placeholder\" data-wg-type=\"image\" style=\"width: 291px;height: 261px;\"> <span>291x261</span> </span> <span data-wg-type=\"text_area\">Sunt quis velit dolore lorem labore. Excepteur tempor excepteur amet cupidatat. Velit sunt sit proident sint excepteur occaecat dolore. Deserunt eu in non et irure. Laboris sint laboris elit. Consequat excepteur excepteur proident laboris et, consequat quis deserunt nostrud tempor nisi, amet minim nostrud dolore elit laborum. Duis nulla lorem esse deserunt culpa amet excepteur. Ex nostrud exercitation eu nulla nostrud sit eiusmod, sunt minim esse laboris id irure. Dolore minim esse excepteur. Commodo pariatur nulla nostrud aliqua id. Deserunt reprehenderit voluptate anim sunt. Eiusmod cupidatat anim officia reprehenderit laboris culpa fugiat. Aute cillum sunt nisi fugiat velit pariatur.</span> </p> </div> </div> </div> </div> <footer class=\"jumbotron mb-0\" data-wg-type=\"footer\" style=\"height: 23vh;\"> <div class=\"container\"> <span class=\"text-muted\">Dolor fugiat veniam labore esse et officia qui eu</span> </div> </footer> </div> </div> </div> </body> </html>\n",
            "      Bleu: 0.93\n",
            "\n",
            "Prediction: <!DOCTYPE html> <html> <head> <title>Dominate</title> <meta content=\"{&quot;primary&quot;: &quot;rgb(243, 190, 133)&quot;, &quot;secondary&quot;: &quot;rgb(249, 133, 93)&quot;, &quot;light&quot;: &quot;rgb(233, 224, 190)&quot;, &quot;dark&quot;: &quot;rgb(233, 93, 249)&quot;, &quot;enable-gradients&quot;: false}\" name=\"wg-palette\"> <meta content=\"width=device-width, initial-scale=1.0\" name=\"viewport\"> <meta content=\"Web Generator\" name=\"author\"> <meta content=\"3\" name=\"wg-layout\"> <link href=\"../css/custom-bootstrap.css\" rel=\"stylesheet\"> <link href=\"../css/wg-extras.css\" rel=\"stylesheet\"> <script src=\"../js/jquery-3.2.1.slim.min.js\" type=\"text/javascript\"></script> <script src=\"../js/bootstrap.min.js\" type=\"text/javascript\"></script> </head> <body class=\"\"> <div class=\" rounded\" id=\"full-wrapper\"> <nav class=\"bg-light navbar-light rounded navbar navbar-expand-md\" data-wg-type=\"navbar\"> <button class=\"navbar-toggler\" data-target=\"#main-nav\" data-toggle=\"collapse\" type=\"button\"> <span class=\"navbar-toggler-icon\"></span> </button> <div class=\"collapse navbar-collapse\" id=\"main-nav\" style=\"height: 9vh;\"> <ul class=\"navbar-nav ml-auto\"> <li class=\"nav-item\"> <a class=\"nav-link\" href=\"#\">Nisi ea id eu</a> </li> <li class=\"nav-item\"> <a class=\"nav-link\" href=\"#\">Quis occaecat</a> </li> <li class=\"nav-item\"> <a class=\"nav-link\" href=\"#\">Voluptate sit</a> </li> </ul> </div> </nav> <div class=\"d-flex\"> <div class=\"container-fluid py-3\" id=\"page-content\"> <form class=\"p-3\" data-wg-type=\"form\"> <div class=\"form-row\"> <div class=\"form-group col-md\"> <label for=\"enim\">Enim</label> <select class=\"form-control\" data-wg-type=\"select\" id=\"enim\"> <option>Eu eu irure</option> <option>Eiusmod</option> <option>Ea</option> <option>Ea</option> <option>Ea</option> <option>Ea</option> <option>Ea</option> <option>Ea</option> <option>Ea</option> </select> </div> <div class=\"form-group col-md\"> <label for=\"laborum_velit\">Laborum velit</label> <input class=\"form-control\" data-wg-type=\"date\" id=\"laborum_velit\" type=\"date\"> </div> <div class=\"form-group col-md\"> <label for=\"nisi_cupidatat_quis\">Nisi cupidatat quis</label> <input class=\"form-control\" data-wg-type=\"text\" id=\"nisi_cupidatat_quis\" type=\"text\"> </div> </div> <div class=\"form-row\"> <div class=\"form-group col-md\"> <label for=\"fugiat\">Fugiat</label> <input class=\"custom-range\" data-wg-type=\"range\" id=\"fugiat\" type=\"range\"> </div> <div class=\"form-group col-md\"> <label for=\"occaecat_culpa_officia\">Occaecat culpa officia</label> <input class=\"form-control\" data-wg-type=\"text\" id=\"occaecat_culpa_officia\" type=\"text\"> </div> <div class=\"form-group col-md\"> <label for=\"consequat_in\">Consequat in</label> <select class=\"form-control\" data-wg-type=\"select\" id=\"consequat_in\"> <option>Sed</option> <option>Ea</option> <option>Ea</option> <option>Ea</option> <option>Ea</option> <option>Ea</option> <option>Ea</option> <option>Ea</option> <option>Ea</option> <option>Ea</option> </select> </div> </div> <div class=\"form-row\"> <div class=\"form-group col-md\"> <label for=\"laborum\">Laborum</label> <input class=\"form-control\" data-wg-type=\"time\" id=\"laborum\" type=\"time\"> </div> <div class=\"form-group col-md\"> <label for=\"sed_cupidatat\">Sed cupidatat</label> <input class=\"form-control\" data-wg-type=\"text\" id=\"sed_cupidatat\" type=\"text\"> </div> </div> </form> </div> </div> </div> </body> </html>\n",
            "    Answer: <!DOCTYPE html> <html> <head> <title>Dominate</title> <meta content=\"{&quot;primary&quot;: &quot;rgb(191, 151, 71)&quot;, &quot;secondary&quot;: &quot;rgb(121, 83, 56)&quot;, &quot;light&quot;: &quot;rgb(233, 246, 171)&quot;, &quot;dark&quot;: &quot;rgb(34, 31, 27)&quot;, &quot;enable-gradients&quot;: false}\" name=\"wg-palette\"> <meta content=\"width=device-width, initial-scale=1.0\" name=\"viewport\"> <meta content=\"Web Generator\" name=\"author\"> <meta content=\"4\" name=\"wg-layout\"> <link href=\"../css/custom-bootstrap.css\" rel=\"stylesheet\"> <link href=\"../css/wg-extras.css\" rel=\"stylesheet\"> <script src=\"../js/jquery-3.2.1.slim.min.js\" type=\"text/javascript\"></script> <script src=\"../js/bootstrap.min.js\" type=\"text/javascript\"></script> </head> <body class=\"\"> <div class=\" shadow\" id=\"full-wrapper\"> <div class=\"d-flex\"> <div class=\"w-100\"> <nav class=\"bg-light navbar-light shadow navbar navbar-expand-md\" data-wg-type=\"navbar\"> <button class=\"navbar-toggler\" data-target=\"#main-nav\" data-toggle=\"collapse\" type=\"button\"> <span class=\"navbar-toggler-icon\"></span> </button> <div class=\"collapse navbar-collapse\" id=\"main-nav\" style=\"height: 8vh;\"> <ul class=\"navbar-nav ml-auto\"> <li class=\"nav-item\"> <a class=\"nav-link\" href=\"#\">Nisi ea id eu</a> </li> <li class=\"nav-item\"> <a class=\"nav-link\" href=\"#\">Quis occaecat</a> </li> <li class=\"nav-item\"> <a class=\"nav-link\" href=\"#\">Voluptate sit</a> </li> </ul> </div> </nav> <div class=\"container-fluid py-3\" id=\"page-content\"> <form class=\"p-3\" data-wg-type=\"form\"> <div class=\"form-row\"> <div class=\"form-group col-md\"> <label for=\"enim\">Enim</label> <select class=\"form-control\" data-wg-type=\"select\" id=\"enim\"> <option>Eu eu irure</option> <option>Pariatur deserunt</option> <option>Eu</option> <option>Ut aute</option> </select> </div> <div class=\"form-group col-md\"> <label for=\"laborum_velit\">Laborum velit</label> <input class=\"form-control\" data-wg-type=\"date\" id=\"laborum_velit\" type=\"date\"> </div> <div class=\"form-group col-md\"> <label for=\"nisi_cupidatat_quis\">Nisi cupidatat quis</label> <input class=\"form-control\" data-wg-type=\"text\" id=\"nisi_cupidatat_quis\" type=\"text\"> </div> </div> <div class=\"form-row\"> <div class=\"form-group col-md\"> <label for=\"fugiat\">Fugiat</label> <input class=\"custom-range\" data-wg-type=\"range\" id=\"fugiat\" type=\"range\"> </div> <div class=\"form-group col-md\"> <label for=\"occaecat_culpa_officia\">Occaecat culpa officia</label> <input class=\"form-control\" data-wg-type=\"text\" id=\"occaecat_culpa_officia\" type=\"text\"> </div> <div class=\"form-group col-md\"> <label for=\"consequat_in\">Consequat in</label> <select class=\"form-control\" data-wg-type=\"select\" id=\"consequat_in\"> <option>Sed</option> <option>Veniam</option> <option>Do</option> <option>Nostrud laboris</option> <option>Labore amet laboris</option> <option>Occaecat qui</option> <option>Duis sint ut</option> <option>Mollit</option> </select> </div> </div> <div class=\"form-row\"> <div class=\"form-group col-md\"> <label for=\"laborum\">Laborum</label> <input class=\"form-control\" data-wg-type=\"time\" id=\"laborum\" type=\"time\"> </div> <div class=\"form-group col-md\"> <label for=\"sed_cupidatat\">Sed cupidatat</label> <input class=\"form-control\" data-wg-type=\"text\" id=\"sed_cupidatat\" type=\"text\"> </div> </div> </form> </div> </div> </div> </div> </body> </html>\n",
            "      Bleu: 0.93\n",
            "\n",
            "Prediction: <!DOCTYPE html> <html> <head> <title>Dominate</title> <meta content=\"{&quot;primary&quot;: &quot;rgb(248, 160, 126)&quot;, &quot;secondary&quot;: &quot;rgb(221, 102, 147)&quot;, &quot;light&quot;: &quot;rgb(243, 231, 155)&quot;, &quot;dark&quot;: &quot;rgb(92, 83, 165)&quot;, &quot;enable-gradients&quot;: false}\" name=\"wg-palette\"> <meta content=\"width=device-width, initial-scale=1.0\" name=\"viewport\"> <meta content=\"Web Generator\" name=\"author\"> <meta content=\"2\" name=\"wg-layout\"> <link href=\"../css/custom-bootstrap.css\" rel=\"stylesheet\"> <link href=\"../css/wg-extras.css\" rel=\"stylesheet\"> <script src=\"../js/jquery-3.2.1.slim.min.js\" type=\"text/javascript\"></script> <script src=\"../js/bootstrap.min.js\" type=\"text/javascript\"></script> </head> <body class=\"bg-dark\"> <div class=\"bg-light rounded\" id=\"full-wrapper\"> <nav class=\"bg-dark navbar-dark rounded navbar navbar-expand-md\" data-wg-type=\"navbar\"> <button class=\"navbar-toggler\" data-target=\"#main-nav\" data-toggle=\"collapse\" type=\"button\"> <span class=\"navbar-toggler-icon\"></span> </button> <div class=\"collapse navbar-collapse\" id=\"main-nav\" style=\"height: 9vh;\"> <ul class=\"navbar-nav ml-auto\"> <li class=\"nav-item\"> <a class=\"nav-link\" href=\"#\">Esse anim id</a> </li> <li class=\"nav-item\"> <a class=\"nav-link\" href=\"#\">Eiusmod aute</a> </li> <li class=\"nav-item\"> <a class=\"nav-link\" href=\"#\">Eiusmod aute</a> </li> <li class=\"nav-item\"> <a class=\"nav-link\" href=\"#\">Eiusmod aute</a> </li> </ul> </div> </nav> <div class=\"d-flex\"> <div class=\"container-fluid py-3\" id=\"page-content\"> <div class=\"row my-3 wg-detect\" data-wg-type=\"mix\"> <div class=\"col\"> <div class=\"text-center wg-detect\" data-wg-type=\"featured_item\"> <span class=\"text-black rounded-circle mx-auto placeholder\" style=\"width: 136px;height: 136px;\"> <span>136x136</span> </span> <h2>Qui minim eiusmod id</h2> <p>Duis est dolor ad occaecat proident sit mollit sed</p> <a class=\"btn btn-primary\" href=\"#\">Minim id ea</a> </div> </div> </div> <div class=\"row wg-detect\" data-wg-type=\"cards\"> <div class=\"col\"> <div class=\"card-columns\"> <div class=\"text-black shadow card\"> <div class=\"card-body\"> <h5 class=\"card-title\">Nulla magna mollit</h5> <p class=\"card-text\">Reprehenderit magna nostrud dolore non aliqua qui</p> <div class=\"d-flex justify-content-between align-items-center\"> <div class=\"btn-group\"> <button class=\"btn btn-sm btn-outline-secondary\" type=\"button\">Quis occaecat</button> </div> <small class=\"text-muted\">Culpa qui id</small> </div> </div> </div> <div class=\"text-black shadow card\"> <div class=\"card-body\"> <h5 class=\"card-title\">Mollit enim ex sint</h5> <p class=\"card-text\">Irure quis est ex voluptate et anim magna pariatur</p> <div class=\"d-flex justify-content-between align-items-center\"> <div class=\"btn-group\"> <button class=\"btn btn-sm btn-outline-secondary\" type=\"button\">Eu laboris do</button> </div> <small class=\"text-muted\">Ad velit non</small> </div> </div> </div> <div class=\"text-black shadow card\"> <div class=\"card-body\"> <h5 class=\"card-title\">Aliquip in laboris</h5> <p class=\"card-text\">Sunt esse laboris anim ad magna voluptate ipsum in</p> <div class=\"d-flex justify-content-between align-items-center\"> <div class=\"btn-group\"> <button class=\"btn btn-sm btn-outline-secondary\" type=\"button\">Adipiscing ea</button> </div> <small class=\"text-muted\">Duis ad duis</small> </div> </div> </div> <div class=\"text-black shadow card\"> <div class=\"card-body\"> <h5 class=\"card-title\">Minim magna nostrud</h5> <p class=\"card-text\">Commodo ea irure cillum eu anim reprehenderit esse</p> <div class=\"d-flex justify-content-between align-items-center\"> <div class=\"btn-group\"> <button class=\"btn btn-sm btn-outline-secondary\" type=\"button\">Exercitation</button> </div> <small class=\"text-muted\">Esse qui in</small> </div> </div> </div> <div class=\"text-black shadow card\"> <div class=\"card-body\"> <h5 class=\"card-title\">Reprehenderit magna</h5> <p class=\"card-text\">Do ex sint ipsum fugiat qui ad nisi minim ut esse</p> <div class=\"d-flex justify-content-between align-items-center\"> <div class=\"btn-group\"> <button class=\"btn btn-sm btn-outline-secondary\" type=\"button\">Sunt aute et</button> </div> <small class=\"text-muted\">Anim lorem ut</small> </div> </div> </div> <div class=\"text-black shadow card\"> <div class=\"card-body\"> <h5 class=\"card-title\">Consectetur veniam</h5> <p class=\"card-text\">Enim excepteur sit aliquip consectetur elit minim</p> <div class=\"d-flex justify-content-between align-items-center\"> <div class=\"btn-group\"> <button class=\"btn btn-sm btn-outline-secondary\" type=\"button\">Non dolor id</button> </div> <small class=\"text-muted\">Officia magna</small> </div> </div> </div> </div> </div> </div> </div> </div> </div> </div> </body> </html>\n",
            "    Answer: <!DOCTYPE html> <html> <head> <title>Dominate</title> <meta content=\"{&quot;primary&quot;: &quot;rgb(215, 181, 216)&quot;, &quot;secondary&quot;: &quot;rgb(223, 101, 176)&quot;, &quot;light&quot;: &quot;rgb(241, 238, 246)&quot;, &quot;dark&quot;: &quot;rgb(206, 18, 86)&quot;, &quot;enable-gradients&quot;: true}\" name=\"wg-palette\"> <meta content=\"width=device-width, initial-scale=1.0\" name=\"viewport\"> <meta content=\"Web Generator\" name=\"author\"> <meta content=\"4\" name=\"wg-layout\"> <link href=\"../css/custom-bootstrap.css\" rel=\"stylesheet\"> <link href=\"../css/wg-extras.css\" rel=\"stylesheet\"> <script src=\"../js/jquery-3.2.1.slim.min.js\" type=\"text/javascript\"></script> <script src=\"../js/bootstrap.min.js\" type=\"text/javascript\"></script> </head> <body class=\"bg-gradient-dark\"> <div class=\"bg-gradient-light\" id=\"full-wrapper\"> <div class=\"d-flex\"> <div class=\"w-100\"> <nav class=\"bg-gradient-dark navbar-dark navbar navbar-expand-md\" data-wg-type=\"navbar\"> <button class=\"navbar-toggler\" data-target=\"#main-nav\" data-toggle=\"collapse\" type=\"button\"> <span class=\"navbar-toggler-icon\"></span> </button> <div class=\"collapse navbar-collapse\" id=\"main-nav\" style=\"height: 3vh;\"> <ul class=\"navbar-nav ml-auto\"> <li class=\"nav-item\"> <a class=\"nav-link\" href=\"#\">Exercitation</a> </li> <li class=\"nav-item\"> <a class=\"nav-link\" href=\"#\">Qui anim aute</a> </li> </ul> </div> </nav> <div class=\"container-fluid py-3\" id=\"page-content\"> <div class=\"row my-3 wg-detect\" data-wg-type=\"mix\"> <div class=\"col\"> <div class=\"text-center wg-detect\" data-wg-type=\"featured_item\"> <span class=\"text-black rounded-circle mx-auto shadow placeholder\" style=\"width: 136px;height: 136px;\"> <span>136x136</span> </span> <h2>Qui minim eiusmod id</h2> <p>Duis est dolor ad occaecat proident sit mollit sed</p> <a class=\"btn btn-primary\" href=\"#\">Minim id ea</a> </div> </div> </div> <div class=\"row wg-detect\" data-wg-type=\"cards\"> <div class=\"col\"> <div class=\"card-columns\"> <div class=\"text-black shadow card\"> <div class=\"card-body\"> <h5 class=\"card-title\">Nulla magna mollit</h5> <p class=\"card-text\">Reprehenderit magna nostrud dolore non aliqua qui</p> <div class=\"d-flex justify-content-between align-items-center\"> <div class=\"btn-group\"> <button class=\"btn btn-sm btn-outline-secondary\" type=\"button\">Quis occaecat</button> </div> <small class=\"text-muted\">Culpa qui id</small> </div> </div> </div> <div class=\"text-black shadow card\"> <div class=\"card-body\"> <h5 class=\"card-title\">Mollit enim ex sint</h5> <p class=\"card-text\">Irure quis est ex voluptate et anim magna pariatur</p> <div class=\"d-flex justify-content-between align-items-center\"> <div class=\"btn-group\"> <button class=\"btn btn-sm btn-outline-secondary\" type=\"button\">Eu laboris do</button> </div> <small class=\"text-muted\">Ad velit non</small> </div> </div> </div> <div class=\"text-black shadow card\"> <div class=\"card-body\"> <h5 class=\"card-title\">Aliquip in laboris</h5> <p class=\"card-text\">Sunt esse laboris anim ad magna voluptate ipsum in</p> <div class=\"d-flex justify-content-between align-items-center\"> <div class=\"btn-group\"> <button class=\"btn btn-sm btn-outline-secondary\" type=\"button\">Adipiscing ea</button> </div> <small class=\"text-muted\">Duis ad duis</small> </div> </div> </div> <div class=\"text-black shadow card\"> <div class=\"card-body\"> <h5 class=\"card-title\">Minim magna nostrud</h5> <p class=\"card-text\">Commodo ea irure cillum eu anim reprehenderit esse</p> <div class=\"d-flex justify-content-between align-items-center\"> <div class=\"btn-group\"> <button class=\"btn btn-sm btn-outline-secondary\" type=\"button\">Exercitation</button> </div> <small class=\"text-muted\">Esse qui in</small> </div> </div> </div> <div class=\"text-black shadow card\"> <div class=\"card-body\"> <h5 class=\"card-title\">Reprehenderit magna</h5> <p class=\"card-text\">Do ex sint ipsum fugiat qui ad nisi minim ut esse</p> <div class=\"d-flex justify-content-between align-items-center\"> <div class=\"btn-group\"> <button class=\"btn btn-sm btn-outline-secondary\" type=\"button\">Sunt aute et</button> </div> <small class=\"text-muted\">Anim lorem ut</small> </div> </div> </div> <div class=\"text-black shadow card\"> <div class=\"card-body\"> <h5 class=\"card-title\">Consectetur veniam</h5> <p class=\"card-text\">Enim excepteur sit aliquip consectetur elit minim</p> <div class=\"d-flex justify-content-between align-items-center\"> <div class=\"btn-group\"> <button class=\"btn btn-sm btn-outline-secondary\" type=\"button\">Non dolor id</button> </div> <small class=\"text-muted\">Officia magna</small> </div> </div> </div> </div> </div> </div> </div> </div> </div> <footer class=\"jumbotron mb-0\" data-wg-type=\"footer\" style=\"height: 5vh;\"> <div class=\"container\"> <span class=\"text-muted\">Voluptate nisi esse sit velit fugiat laboris dolor</span> </div> </footer> </div> </body> </html>\n",
            "      Bleu: 0.95\n",
            "\n",
            "Prediction: <!DOCTYPE html> <html> <head> <title>Dominate</title> <meta content=\"{&quot;primary&quot;: &quot;rgb(243, 190, 133)&quot;, &quot;secondary&quot;: &quot;rgb(223, 104, 108)&quot;, &quot;light&quot;: &quot;rgb(249, 237, 217)&quot;, &quot;dark&quot;: &quot;rgb(238, 77, 90)&quot;, &quot;enable-gradients&quot;: false}\" name=\"wg-palette\"> <meta content=\"width=device-width, initial-scale=1.0\" name=\"viewport\"> <meta content=\"Web Generator\" name=\"author\"> <meta content=\"2\" name=\"wg-layout\"> <link href=\"../css/custom-bootstrap.css\" rel=\"stylesheet\"> <link href=\"../css/wg-extras.css\" rel=\"stylesheet\"> <script src=\"../js/jquery-3.2.1.slim.min.js\" type=\"text/javascript\"></script> <script src=\"../js/bootstrap.min.js\" type=\"text/javascript\"></script> </head> <body class=\"\"> <div class=\" rounded\" id=\"full-wrapper\"> <header class=\"bg-secondary rounded d-flex align-items-center justify-content-center\" data-wg-type=\"header\" style=\"height: 39vh;\"> <h1 class=\"p-2 text-center\">Occaecat Exercitation Pariatur Occaecat Voluptate</h1> </header> <div class=\"d-flex\"> <div class=\"container-fluid py-3\" id=\"page-content\"> <div class=\"row my-3 wg-detect\" data-wg-type=\"mix\"> <div class=\"col\"> <p class=\"wg-detect\" data-wg-type=\"paragraph\">Minim aliquip excepteur lorem in amet anim. Mollit et ex do consequat ex. Laboris amet amet nisi do eu enim. Sint proident commodo nulla proident ex laboris. Excepteur consequat irure est nisi in. Mollit in eiusmod dolore quis culpa quis, duis consequat voluptate deserunt veniam sint ut. Cupidatat velit cupidatat est sed occaecat officia sunt. Ea veniam irure et ad non ipsum culpa.</p> </div> <div class=\"col\"> <p class=\"wg-detect\" data-wg-type=\"paragraph\">Tempor quis consectetur laboris nisi in. Consequat nulla nulla officia adipiscing duis. Sed nisi incididunt ea irure commodo excepteur. Esse magna ipsum aliquip aute ullamco ex. Non reprehenderit laborum sint est enim occaecat, ea lorem in proident ex dolore consectetur tempor. Laboris nisi est laboris do reprehenderit eiusmod cillum.</p> </div> <div class=\"col\"> <h1 class=\"wg-detect\" data-wg-type=\"heading\">In fugiat officia culpa nulla.</h1> </div> </div> </div> </div> <footer class=\" rounded jumbotron mb-0\" data-wg-type=\"footer\" style=\"height: 29vh;\"> <div class=\"container\"> <span class=\"text-muted\">Dolor commodo nulla lorem reprehenderit id aliquip</span> </div> </footer> </div> </body> </html>\n",
            "    Answer: <!DOCTYPE html> <html> <head> <title>Dominate</title> <meta content=\"{&quot;primary&quot;: &quot;rgb(203, 146, 26)&quot;, &quot;secondary&quot;: &quot;rgb(151, 59, 28)&quot;, &quot;light&quot;: &quot;rgb(225, 253, 75)&quot;, &quot;dark&quot;: &quot;rgb(51, 20, 24)&quot;, &quot;enable-gradients&quot;: false}\" name=\"wg-palette\"> <meta content=\"width=device-width, initial-scale=1.0\" name=\"viewport\"> <meta content=\"Web Generator\" name=\"author\"> <meta content=\"4\" name=\"wg-layout\"> <link href=\"../css/custom-bootstrap.css\" rel=\"stylesheet\"> <link href=\"../css/wg-extras.css\" rel=\"stylesheet\"> <script src=\"../js/jquery-3.2.1.slim.min.js\" type=\"text/javascript\"></script> <script src=\"../js/bootstrap.min.js\" type=\"text/javascript\"></script> </head> <body class=\"\"> <div class=\" rounded shadow-sm\" id=\"full-wrapper\"> <div class=\"d-flex\"> <div class=\"bg-light rounded shadow-sm\" data-wg-type=\"sidebar\" id=\"sidebar-wrapper\"> <div class=\"list-group list-group-flush\" style=\"width:25vh;\"> <a class=\"list-group-item list-group-item-action\" href=\"#\">Mollit ipsum</a> <a class=\"list-group-item list-group-item-action\" href=\"#\">Nisi sunt ut</a> <a class=\"list-group-item list-group-item-action\" href=\"#\">Ex mollit qui</a> <a class=\"list-group-item list-group-item-action\" href=\"#\">Velit anim ut</a> <a class=\"list-group-item list-group-item-action\" href=\"#\">Ea duis sunt</a> </div> </div> <div class=\"w-100\"> <header class=\"bg-secondary text-white rounded shadow-sm d-flex align-items-center justify-content-center\" data-wg-type=\"header\" style=\"height: 34vh;\"> <h1 class=\"p-2 text-center\">Occaecat Exercitation Pariatur Occaecat Voluptate</h1> </header> <div class=\"container-fluid py-3\" id=\"page-content\"> <div class=\"row my-3 wg-detect\" data-wg-type=\"mix\"> <div class=\"col\"> <p class=\"wg-detect\" data-wg-type=\"paragraph\">Minim aliquip excepteur lorem in amet anim. Mollit et ex do consequat ex. Laboris amet amet nisi do eu enim. Sint proident commodo nulla proident ex laboris. Excepteur consequat irure est nisi in. Mollit in eiusmod dolore quis culpa quis, duis consequat voluptate deserunt veniam sint ut. Cupidatat velit cupidatat est sed occaecat officia sunt. Ea veniam irure et ad non ipsum culpa.</p> </div> <div class=\"col\"> <p class=\"wg-detect\" data-wg-type=\"paragraph\">Tempor quis consectetur laboris nisi in. Consequat nulla nulla officia adipiscing duis. Sed nisi incididunt ea irure commodo excepteur. Esse magna ipsum aliquip aute ullamco ex. Non reprehenderit laborum sint est enim occaecat, ea lorem in proident ex dolore consectetur tempor. Laboris nisi est laboris do reprehenderit eiusmod cillum.</p> </div> <div class=\"col\"> <h1 class=\"wg-detect\" data-wg-type=\"heading\">In fugiat officia culpa nulla.</h1> </div> </div> </div> </div> </div> <footer class=\" rounded shadow-sm jumbotron mb-0\" data-wg-type=\"footer\" style=\"height: 25vh;\"> <div class=\"container\"> <span class=\"text-muted\">Dolor commodo nulla lorem reprehenderit id aliquip</span> </div> </footer> </div> </body> </html>\n",
            "      Bleu: 0.76\n",
            "\n",
            "Prediction: <!DOCTYPE html> <html> <head> <title>Dominate</title> <meta content=\"{&quot;primary&quot;: &quot;rgb(243, 190, 133)&quot;, &quot;secondary&quot;: &quot;rgb(249, 133, 93)&quot;, &quot;light&quot;: &quot;rgb(239, 249, 183)&quot;, &quot;dark&quot;: &quot;rgb(233, 93, 249)&quot;, &quot;enable-gradients&quot;: false}\" name=\"wg-palette\"> <meta content=\"width=device-width, initial-scale=1.0\" name=\"viewport\"> <meta content=\"Web Generator\" name=\"author\"> <meta content=\"2\" name=\"wg-layout\"> <link href=\"../css/custom-bootstrap.css\" rel=\"stylesheet\"> <link href=\"../css/wg-extras.css\" rel=\"stylesheet\"> <script src=\"../js/jquery-3.2.1.slim.min.js\" type=\"text/javascript\"></script> <script src=\"../js/bootstrap.min.js\" type=\"text/javascript\"></script> </head> <body class=\"\"> <div class=\" rounded\" id=\"full-wrapper\"> <nav class=\"bg-light navbar-light rounded navbar navbar-expand-md\" data-wg-type=\"navbar\"> <a class=\"navbar-brand\" href=\"#\">Sit</a> <button class=\"navbar-toggler\" data-target=\"#main-nav\" data-toggle=\"collapse\" type=\"button\"> <span class=\"navbar-toggler-icon\"></span> </button> <div class=\"collapse navbar-collapse\" id=\"main-nav\" style=\"height: 9vh;\"> <ul class=\"navbar-nav mx-auto\"> <li class=\"nav-item\"> <a class=\"nav-link\" href=\"#\">Velit lorem</a> </li> <li class=\"nav-item\"> <a class=\"nav-link\" href=\"#\">Nulla et est</a> </li> <li class=\"nav-item\"> <a class=\"nav-link\" href=\"#\">In in ullamco</a> </li> <li class=\"nav-item\"> <a class=\"nav-link\" href=\"#\">Mollit dolor</a> </li> <li class=\"nav-item\"> <a class=\"nav-link\" href=\"#\">Cupidatat non</a> </li> </ul> </div> </nav> <div class=\"d-flex\"> <div class=\"container-fluid py-3\" id=\"page-content\"> <div class=\"row my-3 wg-detect\" data-wg-type=\"mix\"> <div class=\"col\"> <ol class=\"wg-detect\" data-wg-type=\"list\"> <li>Eu ullamco do</li> <li>Incididunt id</li> <li>Ut labore ut</li> </ol> </div> <div class=\"col\"> <h1 class=\"wg-detect\" data-wg-type=\"heading\">In nisi minim aute eu ex consectetur.</h1> </div> <div class=\"col\"> <ul class=\"wg-detect\" data-wg-type=\"list\"> <li>Commodo sit</li> <li>Aliquip enim</li> <li>Consequat ut</li> </ul> </div> </div> </div> <div class=\"bg-light rounded\" data-wg-type=\"sidebar\" id=\"sidebar-wrapper\"> <div class=\"list-group list-group-flush\" style=\"width:28vh;\"> <a class=\"list-group-item list-group-item-action\" href=\"#\">Esse amet in</a> <a class=\"list-group-item list-group-item-action\" href=\"#\">Culpa eu id</a> </div> </div> </div> <footer class=\" rounded jumbotron mb-0\" data-wg-type=\"footer\" style=\"height: 22vh;\"> <div class=\"container\"> <span class=\"text-muted\">Do commodo incididunt aliquip irure ad veniam elit</span> </div> </footer> </div> </body> </html>\n",
            "    Answer: <!DOCTYPE html> <html> <head> <title>Dominate</title> <meta content=\"{&quot;primary&quot;: &quot;rgb(116, 150, 227)&quot;, &quot;secondary&quot;: &quot;rgb(64, 70, 85)&quot;, &quot;light&quot;: &quot;rgb(191, 207, 244)&quot;, &quot;dark&quot;: &quot;rgb(35, 62, 125)&quot;, &quot;enable-gradients&quot;: true}\" name=\"wg-palette\"> <meta content=\"width=device-width, initial-scale=1.0\" name=\"viewport\"> <meta content=\"Web Generator\" name=\"author\"> <meta content=\"2\" name=\"wg-layout\"> <link href=\"../css/custom-bootstrap.css\" rel=\"stylesheet\"> <link href=\"../css/wg-extras.css\" rel=\"stylesheet\"> <script src=\"../js/jquery-3.2.1.slim.min.js\" type=\"text/javascript\"></script> <script src=\"../js/bootstrap.min.js\" type=\"text/javascript\"></script> </head> <body class=\"\"> <div class=\"\" id=\"full-wrapper\"> <nav class=\"bg-gradient-light navbar-light navbar navbar-expand-md\" data-wg-type=\"navbar\"> <a class=\"navbar-brand\" href=\"#\">Sit</a> <button class=\"navbar-toggler\" data-target=\"#main-nav\" data-toggle=\"collapse\" type=\"button\"> <span class=\"navbar-toggler-icon\"></span> </button> <div class=\"collapse navbar-collapse\" id=\"main-nav\" style=\"height: 7vh;\"> <ul class=\"navbar-nav mx-auto\"> <li class=\"nav-item\"> <a class=\"nav-link\" href=\"#\">Velit lorem</a> </li> <li class=\"nav-item\"> <a class=\"nav-link\" href=\"#\">Nulla et est</a> </li> <li class=\"nav-item\"> <a class=\"nav-link\" href=\"#\">In in ullamco</a> </li> <li class=\"nav-item\"> <a class=\"nav-link\" href=\"#\">Mollit dolor</a> </li> <li class=\"nav-item\"> <a class=\"nav-link\" href=\"#\">Cupidatat non</a> </li> </ul> </div> </nav> <div class=\"d-flex\"> <div class=\"flex-grow-1\"> <div class=\"container-fluid py-3\" id=\"page-content\"> <div class=\"row my-3 wg-detect\" data-wg-type=\"mix\"> <div class=\"col\"> <ol class=\"wg-detect\" data-wg-type=\"list\"> <li>Eu ullamco do</li> <li>Incididunt id</li> <li>Ut labore ut</li> </ol> </div> <div class=\"col\"> <h1 class=\"wg-detect\" data-wg-type=\"heading\">In nisi minim aute eu ex consectetur.</h1> </div> <div class=\"col\"> <ul class=\"wg-detect\" data-wg-type=\"list\"> <li>Commodo sit</li> <li>Aliquip enim</li> <li>Consequat ut</li> </ul> </div> </div> </div> <footer class=\"jumbotron mb-0\" data-wg-type=\"footer\" style=\"height: 5vh;\"> <div class=\"container\"> <span class=\"text-muted\">Do commodo incididunt aliquip irure ad veniam elit</span> </div> </footer> </div> <div class=\"bg-gradient-light\" data-wg-type=\"sidebar\" id=\"sidebar-wrapper\"> <div class=\"list-group list-group-flush\" style=\"width:26vh;\"> <a class=\"list-group-item list-group-item-action\" href=\"#\">Esse amet in</a> <a class=\"list-group-item list-group-item-action\" href=\"#\">Culpa eu id</a> </div> </div> </div> </div> </body> </html>\n",
            "      Bleu: 0.96\n",
            "\n",
            "Prediction: <!DOCTYPE html> <html> <head> <title>Dominate</title> <meta content=\"{&quot;primary&quot;: &quot;rgb(189, 201, 225)&quot;, &quot;secondary&quot;: &quot;rgb(103, 169, 207)&quot;, &quot;light&quot;: &quot;rgb(246, 239, 247)&quot;, &quot;dark&quot;: &quot;rgb(2, 129, 138)&quot;, &quot;enable-gradients&quot;: false}\" name=\"wg-palette\"> <meta content=\"width=device-width, initial-scale=1.0\" name=\"viewport\"> <meta content=\"Web Generator\" name=\"author\"> <meta content=\"3\" name=\"wg-layout\"> <link href=\"../css/custom-bootstrap.css\" rel=\"stylesheet\"> <link href=\"../css/wg-extras.css\" rel=\"stylesheet\"> <script src=\"../js/jquery-3.2.1.slim.min.js\" type=\"text/javascript\"></script> <script src=\"../js/bootstrap.min.js\" type=\"text/javascript\"></script> </head> <body class=\"bg-light\"> <div class=\"bg-light rounded\" id=\"full-wrapper\"> <header class=\"bg-dark text-white rounded d-flex align-items-center justify-content-center\" data-wg-type=\"header\" style=\"height: 39vh;\"> <h1 class=\"p-2 text-center\">Dolore Laboris</h1> </header> <div class=\"d-flex\"> <div class=\"container-fluid py-3\" id=\"page-content\"> <form class=\"p-3\" data-wg-type=\"form\"> <div class=\"form-group\"> <label for=\"tempor\">Tempor</label> <input class=\"form-control\" data-wg-type=\"text\" id=\"tempor\" type=\"text\"> </div> <div class=\"form-row\"> <div class=\"form-group col-md\"> <label for=\"amet_velit_ipsum\">Amet velit ipsum</label> <input class=\"custom-range\" data-wg-type=\"range\" id=\"amet_velit_ipsum\" type=\"range\"> </div> <div class=\"form-group col-md\"> <label for=\"est_aliquip_eu\">Est aliquip eu</label> <input class=\"form-control\" data-wg-type=\"text\" id=\"est_aliquip_eu\" type=\"text\"> </div> <div class=\"form-group col-md\"> <label for=\"labore\">Labore</label> <input class=\"form-control\" data-wg-type=\"text\" id=\"labore\" type=\"text\"> </div> </div> </form> </div> </div> </div> </body> </html>\n",
            "    Answer: <!DOCTYPE html> <html> <head> <title>Dominate</title> <meta content=\"{&quot;primary&quot;: &quot;rgb(5, 93, 130)&quot;, &quot;secondary&quot;: &quot;rgb(130, 43, 5)&quot;, &quot;light&quot;: &quot;rgb(93, 130, 5)&quot;, &quot;dark&quot;: &quot;rgb(43, 5, 130)&quot;, &quot;enable-gradients&quot;: true}\" name=\"wg-palette\"> <meta content=\"width=device-width, initial-scale=1.0\" name=\"viewport\"> <meta content=\"Web Generator\" name=\"author\"> <meta content=\"4\" name=\"wg-layout\"> <link href=\"../css/custom-bootstrap.css\" rel=\"stylesheet\"> <link href=\"../css/wg-extras.css\" rel=\"stylesheet\"> <script src=\"../js/jquery-3.2.1.slim.min.js\" type=\"text/javascript\"></script> <script src=\"../js/bootstrap.min.js\" type=\"text/javascript\"></script> </head> <body class=\"bg-gradient-dark\"> <div class=\"bg-gradient-light text-white rounded shadow-lg\" id=\"full-wrapper\"> <div class=\"d-flex\"> <div class=\"w-100\"> <header class=\"bg-gradient-primary text-white rounded shadow-lg d-flex align-items-center justify-content-center\" data-wg-type=\"header\" style=\"height: 20vh;\"> <h1 class=\"p-2 text-center\">Dolore Laboris</h1> </header> <div class=\"container-fluid py-3\" id=\"page-content\"> <form class=\"p-3\" data-wg-type=\"form\"> <div class=\"form-group\"> <label for=\"tempor\">Tempor</label> <input class=\"form-control\" data-wg-type=\"text\" id=\"tempor\" type=\"text\"> </div> <div class=\"form-row\"> <div class=\"form-group col-md\"> <label for=\"amet_velit_ipsum\">Amet velit ipsum</label> <input class=\"custom-range\" data-wg-type=\"range\" id=\"amet_velit_ipsum\" type=\"range\"> </div> <div class=\"form-group col-md\"> <label for=\"est_aliquip_eu\">Est aliquip eu</label> <input class=\"form-control\" data-wg-type=\"text\" id=\"est_aliquip_eu\" type=\"text\"> </div> <div class=\"form-group col-md\"> <label for=\"labore\">Labore</label> <input class=\"form-control\" data-wg-type=\"text\" id=\"labore\" type=\"text\"> </div> </div> </form> </div> </div> </div> </div> </body> </html>\n",
            "      Bleu: 0.93\n",
            "\n",
            "Prediction: <!DOCTYPE html> <html> <head> <title>Dominate</title> <meta content=\"{&quot;primary&quot;: &quot;rgb(243, 204, 162)&quot;, &quot;secondary&quot;: &quot;rgb(249, 162, 243)&quot;, &quot;light&quot;: &quot;rgb(249, 249, 162)&quot;, &quot;dark&quot;: &quot;rgb(204, 162, 243)&quot;, &quot;enable-gradients&quot;: false}\" name=\"wg-palette\"> <meta content=\"width=device-width, initial-scale=1.0\" name=\"viewport\"> <meta content=\"Web Generator\" name=\"author\"> <meta content=\"3\" name=\"wg-layout\"> <link href=\"../css/custom-bootstrap.css\" rel=\"stylesheet\"> <link href=\"../css/wg-extras.css\" rel=\"stylesheet\"> <script src=\"../js/jquery-3.2.1.slim.min.js\" type=\"text/javascript\"></script> <script src=\"../js/bootstrap.min.js\" type=\"text/javascript\"></script> </head> <body class=\"\"> <div class=\" rounded\" id=\"full-wrapper\"> <nav class=\"bg-light navbar-light rounded navbar navbar-expand-md\" data-wg-type=\"navbar\"> <button class=\"navbar-toggler\" data-target=\"#main-nav\" data-toggle=\"collapse\" type=\"button\"> <span class=\"navbar-toggler-icon\"></span> </button> <div class=\"collapse navbar-collapse\" id=\"main-nav\" style=\"height: 9vh;\"> <ul class=\"navbar-nav ml-auto\"> <li class=\"nav-item\"> <a class=\"nav-link\" href=\"#\">Ea aliquip ea</a> </li> <li class=\"nav-item\"> <a class=\"nav-link\" href=\"#\">Ea aliquip ea</a> </li> <li class=\"nav-item\"> <a class=\"nav-link\" href=\"#\">Ea aliquip ea</a> </li> <li class=\"nav-item\"> <a class=\"nav-link\" href=\"#\">Ea aliquip ea</a> </li> </ul> </div> </nav> <header class=\"bg-secondary rounded d-flex align-items-center justify-content-center\" data-wg-type=\"header\" style=\"height: 39vh;\"> <h1 class=\"p-2 text-center\">Do Occaecat Cillum Ea Dolor Sed Aute</h1> </header> <div class=\"d-flex\"> <div class=\"container-fluid py-3\" id=\"page-content\"> <div class=\"my-3 wg-detect carousel slide\" data-ride=\"carousel\" data-wg-type=\"carousel\" id=\"carousel-ele-0\"> <ol class=\"carousel-indicators\"> <li class=\"active\" data-slide-to=\"0\" data-target=\"#carousel-ele-0\"></li> <li class=\"\" data-slide-to=\"1\" data-target=\"#carousel-ele-0\"></li> <li class=\"\" data-slide-to=\"2\" data-target=\"#carousel-ele-0\"></li> <li class=\"\" data-slide-to=\"3\" data-target=\"#carousel-ele-0\"></li> </ol> <div class=\"carousel-inner\"> <div class=\"carousel-item active\"> <div class=\"d-block w-100 text-center\" style=\"background-color: darkgrey; height: 39vh;\"> <h1 class=\"pt-5\">Sed magna ut laborum</h1> </div> </div> <div class=\"carousel-item\"> <div class=\"d-block w-100 text-center\" style=\"background-color: darkgrey; height: 39vh;\"> <h1 class=\"pt-5\">Ea commodo aliquip</h1> </div> </div> <div class=\"carousel-item\"> <div class=\"d-block w-100 text-center\" style=\"background-color: darkgrey; height: 39vh;\"> <h1 class=\"pt-5\">Ea commodo aliquip</h1> </div> </div> <div class=\"carousel-item\"> <div class=\"d-block w-100 text-center\" style=\"background-color: darkgrey; height: 39vh;\"> <h1 class=\"pt-5\">Ea commodo aliquip</h1> </div> </div> </div> <a class=\"carousel-control-prev\" data-slide=\"prev\" href=\"#carousel-ele-0\" role=\"button\"> <span class=\"carousel-control-prev-icon\"></span> </a> <a class=\"carousel-control-next\" data-slide=\"next\" href=\"#carousel-ele-0\" role=\"button\"> <span class=\"carousel-control-next-icon\"></span> </a> </div> <div class=\"row py-3 wg-detect\" data-wg-type=\"featured_items\"> <div class=\"col\"> <div class=\"text-center\"> <span class=\"text-black rounded-circle mx-auto placeholder\" style=\"width: 99px;height: 99px;\"> <span>99x99</span> </span> <h2>Ut laborum ea est do</h2> <p>Officia aute ad nisi cupidatat ut labore commodo</p> <a class=\"btn btn-primary\" href=\"#\">Commodo eu ea</a> </div> </div> <div class=\"col\"> <div class=\"text-center\"> <span class=\"text-black rounded-circle mx-auto placeholder\" style=\"width: 99px;height: 99px;\"> <span>99x99</span> </span> <h2>Irure mollit esse ut</h2> <p>Occaecat pariatur ea et veniam id consequat irure</p> <a class=\"btn btn-primary\" href=\"#\">Voluptate sed</a> </div> </div> <div class=\"col\"> <div class=\"text-center\"> <span class=\"text-black rounded-circle mx-auto placeholder\" style=\"width: 99px;height: 99px;\"> <span>99x99</span> </span> <h2>Esse id in dolore ea</h2> <p>Sint incididunt deserunt culpa quis aliquip sit eu</p> <a class=\"btn btn-primary\" href=\"#\">In labore non</a> </div> </div> </div> </div> </div> </div> </body> </html>\n",
            "    Answer: <!DOCTYPE html> <html> <head> <title>Dominate</title> <meta content=\"{&quot;primary&quot;: &quot;rgb(142, 218, 178)&quot;, &quot;secondary&quot;: &quot;rgb(218, 142, 181)&quot;, &quot;light&quot;: &quot;rgb(181, 218, 142)&quot;, &quot;dark&quot;: &quot;rgb(178, 142, 218)&quot;, &quot;enable-gradients&quot;: true}\" name=\"wg-palette\"> <meta content=\"width=device-width, initial-scale=1.0\" name=\"viewport\"> <meta content=\"Web Generator\" name=\"author\"> <meta content=\"3\" name=\"wg-layout\"> <link href=\"../css/custom-bootstrap.css\" rel=\"stylesheet\"> <link href=\"../css/wg-extras.css\" rel=\"stylesheet\"> <script src=\"../js/jquery-3.2.1.slim.min.js\" type=\"text/javascript\"></script> <script src=\"../js/bootstrap.min.js\" type=\"text/javascript\"></script> </head> <body class=\"bg-gradient-light\"> <div class=\"bg-gradient-light shadow-sm\" id=\"full-wrapper\"> <nav class=\"bg-gradient-dark navbar-light shadow-sm navbar navbar-expand-md\" data-wg-type=\"navbar\"> <button class=\"navbar-toggler\" data-target=\"#main-nav\" data-toggle=\"collapse\" type=\"button\"> <span class=\"navbar-toggler-icon\"></span> </button> <div class=\"collapse navbar-collapse\" id=\"main-nav\" style=\"height: 4vh;\"> <ul class=\"navbar-nav ml-auto\"> <li class=\"nav-item\"> <a class=\"nav-link\" href=\"#\">Non tempor ea</a> </li> <li class=\"nav-item\"> <a class=\"nav-link\" href=\"#\">Exercitation</a> </li> <li class=\"nav-item\"> <a class=\"nav-link\" href=\"#\">Duis laborum</a> </li> <li class=\"nav-item\"> <a class=\"nav-link\" href=\"#\">Qui et est eu</a> </li> </ul> </div> </nav> <header class=\"bg-gradient-dark shadow-sm d-flex align-items-center justify-content-center\" data-wg-type=\"header\" style=\"height: 38vh;\"> <h1 class=\"p-2 text-center\">Do Occaecat Cillum Ea Dolor Sed Aute</h1> </header> <div class=\"d-flex\"> <div class=\"bg-gradient-dark shadow-sm\" data-wg-type=\"sidebar\" id=\"sidebar-wrapper\"> <div class=\"list-group list-group-flush\" style=\"width:26vh;\"> <a class=\"list-group-item list-group-item-action\" href=\"#\">Exercitation</a> <a class=\"list-group-item list-group-item-action\" href=\"#\">Non id anim</a> <a class=\"list-group-item list-group-item-action\" href=\"#\">Ipsum enim et</a> <a class=\"list-group-item list-group-item-action\" href=\"#\">Eiusmod dolor</a> <a class=\"list-group-item list-group-item-action\" href=\"#\">Ut amet in ea</a> <a class=\"list-group-item list-group-item-action\" href=\"#\">Nisi enim ut</a> </div> </div> <div class=\"container-fluid py-3\" id=\"page-content\"> <div class=\"my-3 wg-detect carousel slide\" data-ride=\"carousel\" data-wg-type=\"carousel\" id=\"carousel-ele-0\"> <ol class=\"carousel-indicators\"> <li class=\"active\" data-slide-to=\"0\" data-target=\"#carousel-ele-0\"></li> <li class=\"\" data-slide-to=\"1\" data-target=\"#carousel-ele-0\"></li> <li class=\"\" data-slide-to=\"2\" data-target=\"#carousel-ele-0\"></li> <li class=\"\" data-slide-to=\"3\" data-target=\"#carousel-ele-0\"></li> <li class=\"\" data-slide-to=\"4\" data-target=\"#carousel-ele-0\"></li> </ol> <div class=\"carousel-inner\"> <div class=\"carousel-item active\"> <div class=\"d-block w-100 text-center\" style=\"background-color: darkgrey; height: 36vh;\"> <h1 class=\"pt-5\">Sed magna ut laborum</h1> </div> </div> <div class=\"carousel-item\"> <div class=\"d-block w-100 text-center\" style=\"background-color: darkgrey; height: 36vh;\"> <h1 class=\"pt-5\">Duis irure aliqua et</h1> </div> </div> <div class=\"carousel-item\"> <div class=\"d-block w-100 text-center\" style=\"background-color: darkgrey; height: 36vh;\"> <h1 class=\"pt-5\">Dolor consequat do</h1> </div> </div> <div class=\"carousel-item\"> <div class=\"d-block w-100 text-center\" style=\"background-color: darkgrey; height: 36vh;\"> <h1 class=\"pt-5\">Culpa officia sed et</h1> </div> </div> <div class=\"carousel-item\"> <div class=\"d-block w-100 text-center\" style=\"background-color: darkgrey; height: 36vh;\"> <h1 class=\"pt-5\">Anim cillum tempor</h1> </div> </div> </div> <a class=\"carousel-control-prev\" data-slide=\"prev\" href=\"#carousel-ele-0\" role=\"button\"> <span class=\"carousel-control-prev-icon\"></span> </a> <a class=\"carousel-control-next\" data-slide=\"next\" href=\"#carousel-ele-0\" role=\"button\"> <span class=\"carousel-control-next-icon\"></span> </a> </div> <div class=\"row py-3 wg-detect\" data-wg-type=\"featured_items\"> <div class=\"col\"> <div class=\"text-center\"> <span class=\"text-black rounded-circle mx-auto placeholder\" style=\"width: 99px;height: 99px;\"> <span>99x99</span> </span> <h2>Ut laborum ea est do</h2> <p>Officia aute ad nisi cupidatat ut labore commodo</p> <a class=\"btn btn-primary\" href=\"#\">Commodo eu ea</a> </div> </div> <div class=\"col\"> <div class=\"text-center\"> <span class=\"text-black rounded-circle mx-auto placeholder\" style=\"width: 99px;height: 99px;\"> <span>99x99</span> </span> <h2>Irure mollit esse ut</h2> <p>Occaecat pariatur ea et veniam id consequat irure</p> <a class=\"btn btn-primary\" href=\"#\">Voluptate sed</a> </div> </div> <div class=\"col\"> <div class=\"text-center\"> <span class=\"text-black rounded-circle mx-auto placeholder\" style=\"width: 99px;height: 99px;\"> <span>99x99</span> </span> <h2>Esse id in dolore ea</h2> <p>Sint incididunt deserunt culpa quis aliquip sit eu</p> <a class=\"btn btn-primary\" href=\"#\">In labore non</a> </div> </div> </div> </div> </div> </div> </body> </html>\n",
            "      Bleu: 0.78\n",
            "\n",
            "Prediction: <!DOCTYPE html> <html> <head> <title>Dominate</title> <meta content=\"{&quot;primary&quot;: &quot;rgb(248, 160, 126)&quot;, &quot;secondary&quot;: &quot;rgb(221, 102, 107)&quot;, &quot;light&quot;: &quot;rgb(243, 224, 157)&quot;, &quot;dark&quot;: &quot;rgb(177, 63, 100)&quot;, &quot;enable-gradients&quot;: false}\" name=\"wg-palette\"> <meta content=\"width=device-width, initial-scale=1.0\" name=\"viewport\"> <meta content=\"Web Generator\" name=\"author\"> <meta content=\"3\" name=\"wg-layout\"> <link href=\"../css/custom-bootstrap.css\" rel=\"stylesheet\"> <link href=\"../css/wg-extras.css\" rel=\"stylesheet\"> <script src=\"../js/jquery-3.2.1.slim.min.js\" type=\"text/javascript\"></script> <script src=\"../js/bootstrap.min.js\" type=\"text/javascript\"></script> </head> <body class=\"\"> <div class=\" rounded\" id=\"full-wrapper\"> <nav class=\"bg-light navbar-light rounded navbar navbar-expand-md\" data-wg-type=\"navbar\"> <button class=\"navbar-toggler\" data-target=\"#main-nav\" data-toggle=\"collapse\" type=\"button\"> <span class=\"navbar-toggler-icon\"></span> </button> <div class=\"collapse navbar-collapse\" id=\"main-nav\" style=\"height: 8vh;\"> <ul class=\"navbar-nav mr-auto\"> <li class=\"nav-item\"> <a class=\"nav-link\" href=\"#\">Id do ipsum</a> </li> <li class=\"nav-item\"> <a class=\"nav-link\" href=\"#\">Aute ullamco</a> </li> <li class=\"nav-item\"> <a class=\"nav-link\" href=\"#\">Nostrud sit</a> </li> <li class=\"nav-item\"> <a class=\"nav-link\" href=\"#\">Dolore laborum</a> </li> <li class=\"nav-item\"> <a class=\"nav-link\" href=\"#\">Qui commodo</a> </li> </ul> </div> </nav> <header class=\"bg-secondary rounded d-flex align-items-center justify-content-center\" data-wg-type=\"header\" style=\"height: 29vh;\"> <h1 class=\"p-2 text-center\">Laboris Anim</h1> </header> <div class=\"d-flex\"> <div class=\"bg-light rounded\" data-wg-type=\"sidebar\" id=\"sidebar-wrapper\"> <div class=\"sidebar-heading\">Id</div> <div class=\"list-group list-group-flush\" style=\"width:28vh;\"> <a class=\"list-group-item list-group-item-action\" href=\"#\">Ad do ipsum</a> <a class=\"list-group-item list-group-item-action\" href=\"#\">Aute ullamco</a> <a class=\"list-group-item list-group-item-action\" href=\"#\">Nostrud sit</a> <a class=\"list-group-item list-group-item-action\" href=\"#\">Dolor laborum</a> <a class=\"list-group-item list-group-item-action\" href=\"#\">Qui commodo</a> </div> </div> <div class=\"container-fluid py-3\" id=\"page-content\"> <div class=\"row my-3 wg-detect\" data-wg-type=\"mix\"> <div class=\"col\"> <div class=\"text-dark wg-detect\" data-wg-type=\"collapse\" id=\"collapse-ele-0\"> <div class=\"card\"> <div class=\"card-header\" id=\"heading-aute-1\"> <button aria-controls=\"heading-aute-1\" class=\"btn btn-link collapsed\" data-target=\"#collapse-aute-1\" data-toggle=\"collapse\">Aute sed occaecat elit consequat veniam aliqua, anim in velit adipiscing aliquip id quis.</button> </div> <div aria-labelledby=\"heading-aute-1\" class=\"collapse\" data-parent=\"#collapse-ele-0\" id=\"collapse-aute-1\"> <div class=\"card-body text-black\">Esse aliquip aliquip aliquip. Amet aliquip aliquip aliquip. Amet aliquip aliquip aliquip. Amet aliquip aliquip aliquip. Amet aliquip aliquip aliquip. Amet aliquip aliquip aliquip. Amet aliquip aliquip aliquip. Amet aliquip commodo aliquip. Amet aliquip commodo aliquip.</div> </div> </div> <div class=\"card\"> <div class=\"card-header\" id=\"heading-minim-2\"> <button aria-controls=\"heading-minim-2\" class=\"btn btn-link collapsed\" data-target=\"#collapse-minim-2\" data-toggle=\"collapse\">Minim culpa excepteur ipsum, magna ad pariatur occaecat, ea esse dolore cupidatat proident aliquip deserunt.</button> </div> <div aria-labelledby=\"heading-minim-2\" class=\"collapse\" data-parent=\"#collapse-ele-0\" id=\"collapse-minim-2\"> <div class=\"card-body text-black\">Esse aliquip aliquip aliquip. Amet aliquip aliquip aliquip. Amet aliquip aliquip aliquip. Amet aliquip aliquip aliquip. Amet aliquip commodo aliquip. Amet aliquip commodo aliquip. Amet aliquip commodo aliquip. Amet aliquip commodo aliquip. Amet aliquip commodo aliquip. Amet aliquip commodo aliquip.</div> </div> </div> <div class=\"card\"> <div class=\"card-header\" id=\"heading-ad-3\"> <button aria-controls=\"heading-ad-3\" class=\"btn btn-link collapsed\" data-target=\"#collapse-ad-3\" data-toggle=\"collapse\">Ad pariatur est laborum reprehenderit minim proident.</button> </div> <div aria-labelledby=\"heading-ad-3\" class=\"collapse\" data-parent=\"#collapse-ele-0\" id=\"collapse-ad-3\"> <div class=\"card-body text-black\">Et aliquip aliquip aliquip. Amet aliquip aliquip aliquip. Amet aliquip aliquip aliquip. Amet aliquip aliquip aliquip. Amet aliquip commodo aliquip. Amet aliquip commodo aliquip. Amet aliquip commodo aliquip. Amet aliquip commodo aliquip. Amet aliquip commodo aliquip.</div> </div> </div> <div class=\"card\"> <div class=\"card-header\" id=\"heading-deserunt-4\"> <button aria-controls=\"heading-deserunt-4\" class=\"btn btn-link collapsed\" data-target=\"#collapse-deserunt-4\" data-toggle=\"collapse\">Deserunt ad elit irure aliquip occaecat veniam.</button> </div> <div aria-labelledby=\"heading-deserunt-4\" class=\"collapse\" data-parent=\"#collapse-ele-0\" id=\"collapse-deserunt-4\"> <div class=\"card-body text-black\">Et aliquip aliquip aliquip. Amet aliquip aliquip aliquip. Amet aliquip aliquip aliquip. Amet aliquip aliquip aliquip. Amet aliquip aliquip aliquip. Amet aliquip aliquip aliquip. Amet aliquip aliquip aliquip. Amet aliquip aliquip aliquip.</div> </div> </div> </div> </div> </div> <div class=\"wg-detect\" data-wg-type=\"descriptive_items\"> <div class=\"row\"> <div class=\"col\"> <h2>Pariatur ad adipiscing elit anim.</h2> <p><br> <span class=\"float-left m-2 shadow placeholder\" data-wg-type=\"image\" style=\"width: 198px;height: 128px;\"> <span>198x128</span> </span> <span data-wg-type=\"text_area\">Aliquip do pariatur velit irure anim pariatur esse do. Officia sint deserunt aute occaecat. Irure occaecat consequat sunt irure exercitation do do, duis tempor exercitation veniam dolore qui ad aliquip. Ex adipiscing elit ipsum eu. Proident exercitation do non dolore eu. Cillum quis adipiscing lorem sed, reprehenderit reprehenderit amet commodo. Nulla consequat culpa velit minim ullamco excepteur. Est eiusmod officia ad magna sed, velit cillum culpa culpa esse fugiat, ipsum officia enim esse esse nostrud est voluptate. Exercitation sunt in consectetur velit commodo. Ad excepteur pariatur veniam ut. Enim officia irure sunt. Aliquip occaecat adipiscing commodo irure tempor consequat sed, id dolor amet do, consectetur mollit dolor fugiat commodo sunt aliquip. Amet anim est aliquip amet. Irure aliquip aliquip cillum reprehenderit consectetur. Non laboris aute adipiscing id fugiat occaecat, reprehenderit in ullamco esse commodo sunt aliquip. Pariatur anim anim dolore anim. Irure dolore aliqua cillum. Enim sit veniam commodo id labore id. Culpa in aliquip adipiscing nulla deserunt. Consectetur id nostrud anim qui, velit in tempor sed, reprehenderit commodo duis commodo velit. Laborum ullamco fugiat amet ut amet, cillum veniam consectetur amet pariatur voluptate mollit. Dolore tempor ipsum id elit culpa, nulla et ad veniam. Amet do aute aliquip anim. Do non fugiat consectetur exercitation lorem, laboris ipsum consectetur ad.</span> </p> </div> </div> <div class=\"row\"> <div class=\"col\"> <h2>Qui quis eiusmod consequat fugiat sunt adipiscing minim, magna ullamco duis nulla exercitation sit nostrud.</h2> <p><br> <span class=\"mx-auto m-2 placeholder\" data-wg-type=\"image\" style=\"width: 198px;height: 138px;\"> <span>198x138</span> </span> <span data-wg-type=\"text_area\">Officia aute esse fugiat consequat reprehenderit. Dolore aliquip aute eiusmod fugiat non laborum. Esse duis lorem esse sint eu. Voluptate occaecat aute qui. Officia est non sed magna dolor, elit ipsum proident adipiscing amet, pariatur commodo aliqua aliquip. Amet aliquip aliqua amet. Amet adipiscing cillum voluptate anim adipiscing est, pariatur commodo aliqua amet. Quis voluptate reprehenderit reprehenderit, cupidatat exercitation irure ad sit. Sint proident reprehenderit consectetur labore commodo nisi cupidatat. Voluptate commodo nisi lorem reprehenderit sit minim aliqua dolore. Irure voluptate consectetur. Id aliquip labore cillum quis, officia aliqua est enim eu esse esse. Commodo fugiat ut enim eu do. Enim ullamco eiusmod sunt labore. Ipsum sunt sunt sunt. Irure amet sint quis sint. Dolor elit incididunt consequat duis, elit laboris consequat sint nulla lorem excepteur. Esse ipsum in adipiscing deserunt officia aliqua.</span> </p> </div> </div> </div> </div> </div> </div> </body> </html>\n",
            "    Answer: <!DOCTYPE html> <html> <head> <title>Dominate</title> <meta content=\"{&quot;primary&quot;: &quot;rgb(90, 185, 120)&quot;, &quot;secondary&quot;: &quot;rgb(32, 110, 139)&quot;, &quot;light&quot;: &quot;rgb(253, 239, 154)&quot;, &quot;dark&quot;: &quot;rgb(42, 24, 108)&quot;, &quot;enable-gradients&quot;: true}\" name=\"wg-palette\"> <meta content=\"width=device-width, initial-scale=1.0\" name=\"viewport\"> <meta content=\"Web Generator\" name=\"author\"> <meta content=\"1\" name=\"wg-layout\"> <link href=\"../css/custom-bootstrap.css\" rel=\"stylesheet\"> <link href=\"../css/wg-extras.css\" rel=\"stylesheet\"> <script src=\"../js/jquery-3.2.1.slim.min.js\" type=\"text/javascript\"></script> <script src=\"../js/bootstrap.min.js\" type=\"text/javascript\"></script> </head> <body class=\"\"> <div class=\"d-flex \" id=\"full-wrapper\"> <div class=\"bg-gradient-light rounded shadow-sm\" data-wg-type=\"sidebar\" id=\"sidebar-wrapper\"> <div class=\"sidebar-heading\">Id</div> <div class=\"list-group list-group-flush\" style=\"width:24vh;\"> <a class=\"list-group-item list-group-item-action\" href=\"#\">Ad do ipsum</a> <a class=\"list-group-item list-group-item-action\" href=\"#\">Aute ullamco</a> <a class=\"list-group-item list-group-item-action\" href=\"#\">Nostrud sit</a> <a class=\"list-group-item list-group-item-action\" href=\"#\">Dolor laborum</a> <a class=\"list-group-item list-group-item-action\" href=\"#\">Qui commodo</a> </div> </div> <div class=\"w-100\"> <header class=\"bg-gradient-secondary text-white rounded shadow-sm d-flex align-items-center justify-content-center\" data-wg-type=\"header\" style=\"height: 22vh;\"> <h1 class=\"p-2 text-center\">Laboris Anim</h1> </header> <div class=\"container-fluid py-3\" id=\"page-content\"> <div class=\"row my-3 wg-detect\" data-wg-type=\"mix\"> <div class=\"col\"> <div class=\"text-dark wg-detect\" data-wg-type=\"collapse\" id=\"collapse-ele-0\"> <div class=\"card\"> <div class=\"card-header\" id=\"heading-aute-1\"> <button aria-controls=\"heading-aute-1\" class=\"btn btn-link collapsed\" data-target=\"#collapse-aute-1\" data-toggle=\"collapse\">Aute sed occaecat elit consequat veniam aliqua, anim in velit adipiscing aliquip id quis.</button> </div> <div aria-labelledby=\"heading-aute-1\" class=\"collapse\" data-parent=\"#collapse-ele-0\" id=\"collapse-aute-1\"> <div class=\"card-body text-black\">In nostrud anim adipiscing proident do, dolor lorem exercitation nulla ut officia nostrud et, sit eu nisi labore minim. Duis ullamco ea sunt qui veniam nostrud. Aliquip ea est aute sed labore. Deserunt nulla dolore tempor aliqua enim ad consequat. Officia ea consequat pariatur. Deserunt fugiat enim nostrud proident cupidatat est. Reprehenderit cupidatat laborum ex enim ex, officia esse incididunt cupidatat labore consectetur. Veniam ullamco sit nisi occaecat non quis quis, qui ea dolor fugiat nulla. Reprehenderit consectetur nostrud aliqua in.</div> </div> </div> <div class=\"card\"> <div class=\"card-header\" id=\"heading-minim-2\"> <button aria-controls=\"heading-minim-2\" class=\"btn btn-link collapsed\" data-target=\"#collapse-minim-2\" data-toggle=\"collapse\">Minim culpa excepteur ipsum, magna ad pariatur occaecat, ea esse dolore cupidatat proident aliquip deserunt.</button> </div> <div aria-labelledby=\"heading-minim-2\" class=\"collapse\" data-parent=\"#collapse-ele-0\" id=\"collapse-minim-2\"> <div class=\"card-body text-black\">Dolore lorem non anim aliquip cupidatat deserunt ipsum, lorem eu ea sunt non officia, irure magna ut pariatur. Nisi duis ut officia ad sunt, mollit elit commodo et id duis. Quis consectetur proident deserunt qui eu cupidatat consequat. Adipiscing esse non non labore, est enim irure est tempor culpa enim culpa, qui do ullamco eu cupidatat. Ipsum ipsum commodo est ad sit qui.</div> </div> </div> <div class=\"card\"> <div class=\"card-header\" id=\"heading-ad-3\"> <button aria-controls=\"heading-ad-3\" class=\"btn btn-link collapsed\" data-target=\"#collapse-ad-3\" data-toggle=\"collapse\">Ad pariatur est laborum reprehenderit minim proident.</button> </div> <div aria-labelledby=\"heading-ad-3\" class=\"collapse\" data-parent=\"#collapse-ele-0\" id=\"collapse-ad-3\"> <div class=\"card-body text-black\">Nulla do cupidatat veniam, irure elit esse consectetur nulla culpa sunt eiusmod. Officia et quis reprehenderit aliquip minim. Ea minim ex sint. Excepteur proident culpa ullamco culpa. Lorem aute enim cupidatat. Mollit sint duis nostrud cupidatat excepteur sit pariatur. Excepteur amet ad nisi sint fugiat cillum pariatur, quis cillum eu proident voluptate. Anim et est sit est amet. Aliqua ut lorem occaecat aliqua veniam. Et irure nisi commodo exercitation.</div> </div> </div> <div class=\"card\"> <div class=\"card-header\" id=\"heading-deserunt-4\"> <button aria-controls=\"heading-deserunt-4\" class=\"btn btn-link collapsed\" data-target=\"#collapse-deserunt-4\" data-toggle=\"collapse\">Deserunt ad elit irure aliquip occaecat veniam.</button> </div> <div aria-labelledby=\"heading-deserunt-4\" class=\"collapse\" data-parent=\"#collapse-ele-0\" id=\"collapse-deserunt-4\"> <div class=\"card-body text-black\">Aliquip deserunt consectetur quis aliquip cillum tempor, lorem excepteur adipiscing exercitation nulla. Ea incididunt lorem nostrud esse, veniam amet dolor nulla voluptate officia sed. Ea minim id dolor adipiscing, occaecat quis officia exercitation et velit, nisi incididunt nisi laboris fugiat. Consectetur commodo ea pariatur irure id. Anim officia sit in ipsum excepteur id cupidatat. Eiusmod adipiscing non nulla ipsum, consequat lorem incididunt proident voluptate consequat nulla. Sint nisi dolore dolore ullamco in aute magna. Nostrud quis non nisi fugiat cillum. Sunt ut ex commodo et ea et ea, sed quis culpa sint ex deserunt dolore. Dolore quis voluptate id ipsum do commodo ex, minim veniam enim et adipiscing deserunt duis.</div> </div> </div> </div> </div> </div> <div class=\"wg-detect\" data-wg-type=\"descriptive_items\"> <div class=\"row\"> <div class=\"col\"> <h2>Pariatur ad adipiscing elit anim.</h2> <p><br> <span class=\"float-left m-2 shadow placeholder\" data-wg-type=\"image\" style=\"width: 199px;height: 218px;\"> <span>199x218</span> </span> <span data-wg-type=\"text_area\">Aliquip eu pariatur quis. Aute irure anim pariatur esse do, officia sint deserunt aute occaecat. Irure occaecat consequat sunt irure exercitation do do, sint tempor exercitation veniam dolore qui nisi aliquip. Ex adipiscing elit ipsum eu. Proident exercitation do non dolore eu. Cillum duis adipiscing lorem sed, reprehenderit excepteur proident aute commodo. Nulla consequat culpa velit minim ullamco excepteur. Est eiusmod officia ad magna ipsum cillum. Quis culpa minim esse fugiat, ipsum officia lorem esse esse nostrud est voluptate. Exercitation sunt et consectetur velit commodo. Ad excepteur pariatur veniam ut. Enim officia irure sunt. Aliquip occaecat minim lorem tempor consequat cillum. Dolor aliquip duis tempor. Culpa aliquip adipiscing commodo irure tempor consequat sed, id dolor amet do, consectetur mollit dolor fugiat magna eu. Excepteur esse nostrud in elit, fugiat consectetur amet consequat aliquip. Laborum do aliqua reprehenderit consectetur. Non laboris aute adipiscing est fugiat occaecat, reprehenderit in ullamco esse commodo sunt dolor proident, quis lorem do officia anim nulla qui est. Et occaecat et cillum. Enim sit enim commodo sit labore id. Culpa in aliquip adipiscing nulla deserunt. Consectetur id nostrud anim qui, velit in consequat lorem commodo amet. Cupidatat minim mollit duis esse proident velit. Deserunt ullamco culpa amet ut amet, cillum veniam consectetur amet pariatur voluptate mollit. Dolore tempor ipsum id elit culpa, nulla et ad veniam. Amet do aute aliquip anim. Do non eu fugiat consectetur exercitation lorem, laboris ipsum consectetur ad.</span> </p> </div> </div> <div class=\"row\"> <div class=\"col\"> <h2>Qui quis eiusmod consequat fugiat sunt adipiscing minim, magna ullamco duis nulla exercitation sit nostrud.</h2> <p><br> <span class=\"mx-auto m-2 shadow placeholder\" data-wg-type=\"image\" style=\"width: 199px;height: 218px;\"> <span>199x218</span> </span> <span data-wg-type=\"text_area\">Officia aute esse fugiat consequat reprehenderit. Dolore aliquip aute eiusmod fugiat non laborum. Esse duis lorem esse sint eu. Voluptate occaecat aute qui. Officia est non sed magna dolor, elit ipsum proident anim quis in proident. Ex id quis sint aute laboris nulla aute. Duis qui consectetur laboris quis, qui ullamco fugiat commodo. Adipiscing aute dolore duis amet occaecat labore ea, adipiscing cillum voluptate anim adipiscing sint, pariatur aute esse dolor culpa. Sunt enim amet voluptate labore reprehenderit cupidatat, exercitation irure ad sit. Sint proident reprehenderit consectetur labore commodo nisi cupidatat. Voluptate commodo nisi lorem, cupidatat sit enim ad minim aliqua dolore. Irure ex mollit consectetur, sunt ipsum labore cillum quis, officia aliqua est enim eu esse esse. Commodo fugiat sit enim ea do. Enim ullamco eiusmod quis. In duis anim eiusmod sunt eiusmod. Laboris in ut esse sed quis consequat. In aute consequat duis, elit laboris consequat sint nulla nisi lorem excepteur. Esse ipsum do adipiscing deserunt officia aliqua.</span> </p> </div> </div> </div> </div> </div> </div> </body> </html>\n",
            "      Bleu: 0.77\n"
          ]
        },
        {
          "name": "stderr",
          "output_type": "stream",
          "text": [
            "Epoch 4/19 - valid loop: 100%|██████████| 2/2 [12:34<00:00, 377.13s/it, bleu_score=0.909]\n"
          ]
        },
        {
          "name": "stdout",
          "output_type": "stream",
          "text": [
            "\n",
            "Prediction: <!DOCTYPE html> <html> <head> <title>Dominate</title> <meta content=\"{&quot;primary&quot;: &quot;rgb(189, 201, 225)&quot;, &quot;secondary&quot;: &quot;rgb(103, 169, 207)&quot;, &quot;light&quot;: &quot;rgb(246, 239, 247)&quot;, &quot;dark&quot;: &quot;rgb(2, 129, 138)&quot;, &quot;enable-gradients&quot;: false}\" name=\"wg-palette\"> <meta content=\"width=device-width, initial-scale=1.0\" name=\"viewport\"> <meta content=\"Web Generator\" name=\"author\"> <meta content=\"3\" name=\"wg-layout\"> <link href=\"../css/custom-bootstrap.css\" rel=\"stylesheet\"> <link href=\"../css/wg-extras.css\" rel=\"stylesheet\"> <script src=\"../js/jquery-3.2.1.slim.min.js\" type=\"text/javascript\"></script> <script src=\"../js/bootstrap.min.js\" type=\"text/javascript\"></script> </head> <body class=\"bg-light\"> <div class=\"bg-light rounded\" id=\"full-wrapper\"> <nav class=\"bg-dark navbar-dark rounded navbar navbar-expand-md\" data-wg-type=\"navbar\"> <a class=\"navbar-brand\" href=\"#\">Eu</a> <button class=\"navbar-toggler\" data-target=\"#main-nav\" data-toggle=\"collapse\" type=\"button\"> <span class=\"navbar-toggler-icon\"></span> </button> <div class=\"collapse navbar-collapse\" id=\"main-nav\" style=\"height: 9vh;\"> <ul class=\"navbar-nav ml-auto\"> <li class=\"nav-item\"> <a class=\"nav-link\" href=\"#\">Deserunt sint</a> </li> <li class=\"nav-item\"> <a class=\"nav-link\" href=\"#\">Cillum et ut</a> </li> </ul> </div> </nav> <header class=\"bg-dark text-white rounded d-flex align-items-center justify-content-center\" data-wg-type=\"header\" style=\"height: 22vh;\"> <h1 class=\"p-2 text-center\">Aute Fugiat Veniam Aliquip Reprehenderit Nulla</h1> </header> <div class=\"d-flex\"> <div class=\"container-fluid py-3\" id=\"page-content\"> <div class=\"row my-3 wg-detect\" data-wg-type=\"mix\"> <div class=\"col\"> <p class=\"wg-detect\" data-wg-type=\"paragraph\">Mollit ad sint culpa magna voluptate pariatur do. Consequat quis laboris reprehenderit tempor excepteur exercitation enim. Deserunt velit nostrud ullamco eiusmod qui sit eu, in cupidatat magna excepteur dolore consectetur culpa. Voluptate esse dolore enim qui irure tempor, qui lorem laborum occaecat laborum aute irure elit. Labore magna consequat ullamco ipsum sint culpa, amet lorem minim irure laborum anim. Commodo nisi eiusmod ut est laboris amet reprehenderit.</p> </div> <div class=\"col\"> <ol class=\"wg-detect\" data-wg-type=\"list\"> <li>Tempor cillum</li> <li>In enim amet</li> <li>Qui mollit ut</li> <li>Minim nostrud</li> <li>Consectetur</li> </ol> </div> <div class=\"col\"> <p class=\"wg-detect\" data-wg-type=\"paragraph\">Est aliqua ex nostrud ea duis esse voluptate, dolore officia elit veniam minim dolore do esse. Laboris sunt proident sit reprehenderit pariatur consequat laboris. Veniam consectetur fugiat do sint enim. Anim duis deserunt ex est. Proident voluptate ut duis lorem velit cillum adipiscing. Dolore laborum amet sed eu irure cupidatat.</p> </div> </div> <div class=\"row wg-detect\" data-wg-type=\"cards\"> <div class=\"col\"> <div class=\"card-columns\"> <div class=\"text-black shadow card\"> <span class=\"card-img-top placeholder\" style=\"height: 100px;\"></span> <div class=\"card-body\"> <h5 class=\"card-title\">Sed laborum lorem id</h5> <p class=\"card-text\">Ex deserunt culpa laboris amet non ut commodo sunt</p> <div class=\"d-flex justify-content-between align-items-center\"> <div class=\"btn-group\"> <button class=\"btn btn-sm btn-outline-secondary\" type=\"button\">Ad id eiusmod</button> </div> <small class=\"text-muted\">Enim minim et</small> </div> </div> </div> <div class=\"text-black shadow card\"> <span class=\"card-img-top placeholder\" style=\"height: 100px;\"></span> <div class=\"card-body\"> <h5 class=\"card-title\">Ex excepteur duis id</h5> <p class=\"card-text\">Cillum fugiat irure sint in occaecat labore sunt</p> <div class=\"d-flex justify-content-between align-items-center\"> <div class=\"btn-group\"> <button class=\"btn btn-sm btn-outline-secondary\" type=\"button\">Enim nisi id</button> </div> <small class=\"text-muted\">Sit enim non</small> </div> </div> </div> <div class=\"text-black shadow card\"> <span class=\"card-img-top placeholder\" style=\"height: 100px;\"></span> <div class=\"card-body\"> <h5 class=\"card-title\">Sed ullamco ea et in</h5> <p class=\"card-text\">Eu tempor ipsum cupidatat cillum magna enim duis</p> <div class=\"d-flex justify-content-between align-items-center\"> <div class=\"btn-group\"> <button class=\"btn btn-sm btn-outline-secondary\" type=\"button\">Esse magna et</button> </div> <small class=\"text-muted\">Magna deserunt</small> </div> </div> </div> <div class=\"text-black shadow card\"> <span class=\"card-img-top placeholder\" style=\"height: 100px;\"></span> <div class=\"card-body\"> <h5 class=\"card-title\">Exercitation dolor</h5> <p class=\"card-text\">Voluptate consectetur laboris enim eu dolor cillum</p> <div class=\"d-flex justify-content-between align-items-center\"> <div class=\"btn-group\"> <button class=\"btn btn-sm btn-outline-secondary\" type=\"button\">Qui quis do</button> </div> <small class=\"text-muted\">Commodo nulla</small> </div> </div> </div> </div> </div> </div> </div> <div class=\"bg-gradient-light rounded\" data-wg-type=\"sidebar\" id=\"sidebar-wrapper\"> <div class=\"list-group list-group-flush\" style=\"width:28vh;\"> <a class=\"list-group-item list-group-item-action\" href=\"#\">Ullamco ea eu</a> <a class=\"list-group-item list-group-item-action\" href=\"#\">Nisi nisi eu</a> <a class=\"list-group-item list-group-item-action\" href=\"#\">Cillum anim</a> <a class=\"list-group-item list-group-item-action\" href=\"#\">Pariatur sint</a> <a class=\"list-group-item list-group-item-action\" href=\"#\">Ut occaecat</a> <a class=\"list-group-item list-group-item-action\" href=\"#\">Voluptate do</a> </div> </div> </div> </body> </html>\n",
            "    Answer: <!DOCTYPE html> <html> <head> <title>Dominate</title> <meta content=\"{&quot;primary&quot;: &quot;rgb(238, 188, 165)&quot;, &quot;secondary&quot;: &quot;rgb(174, 85, 45)&quot;, &quot;light&quot;: &quot;rgb(240, 196, 176)&quot;, &quot;dark&quot;: &quot;rgb(98, 51, 30)&quot;, &quot;enable-gradients&quot;: false}\" name=\"wg-palette\"> <meta content=\"width=device-width, initial-scale=1.0\" name=\"viewport\"> <meta content=\"Web Generator\" name=\"author\"> <meta content=\"1\" name=\"wg-layout\"> <link href=\"../css/custom-bootstrap.css\" rel=\"stylesheet\"> <link href=\"../css/wg-extras.css\" rel=\"stylesheet\"> <script src=\"../js/jquery-3.2.1.slim.min.js\" type=\"text/javascript\"></script> <script src=\"../js/bootstrap.min.js\" type=\"text/javascript\"></script> </head> <body class=\"bg-light\"> <div class=\"d-flex bg-light\" id=\"full-wrapper\"> <div class=\"w-100\"> <nav class=\"bg-dark navbar-dark navbar navbar-expand-md\" data-wg-type=\"navbar\"> <a class=\"navbar-brand\" href=\"#\">Eu</a> <button class=\"navbar-toggler\" data-target=\"#main-nav\" data-toggle=\"collapse\" type=\"button\"> <span class=\"navbar-toggler-icon\"></span> </button> <div class=\"collapse navbar-collapse\" id=\"main-nav\" style=\"height: 4vh;\"> <ul class=\"navbar-nav ml-auto\"> <li class=\"nav-item\"> <a class=\"nav-link\" href=\"#\">Deserunt sint</a> </li> <li class=\"nav-item\"> <a class=\"nav-link\" href=\"#\">Lorem et non</a> </li> </ul> </div> </nav> <header class=\"bg-dark text-white d-flex align-items-center justify-content-center\" data-wg-type=\"header\" style=\"height: 17vh;\"> <h1 class=\"p-2 text-center\">Aute Fugiat Veniam Aliquip Reprehenderit Nulla</h1> </header> <div class=\"container-fluid py-3\" id=\"page-content\"> <div class=\"row my-3 wg-detect\" data-wg-type=\"mix\"> <div class=\"col\"> <p class=\"wg-detect\" data-wg-type=\"paragraph\">Mollit ad sint culpa magna voluptate pariatur do. Consequat quis laboris reprehenderit tempor excepteur exercitation enim. Deserunt velit nostrud ullamco eiusmod qui sit eu, in cupidatat magna excepteur dolore consectetur culpa. Voluptate esse dolore enim qui irure tempor, qui lorem deserunt occaecat laborum aute irure elit. Labore magna consequat ullamco ipsum sint culpa, amet lorem minim irure laborum anim. Commodo nisi eiusmod sint ad laboris amet reprehenderit.</p> </div> <div class=\"col\"> <ol class=\"wg-detect\" data-wg-type=\"list\"> <li>Tempor cillum</li> <li>In enim amet</li> <li>Qui mollit ut</li> <li>Minim nostrud</li> <li>Consectetur</li> </ol> </div> <div class=\"col\"> <p class=\"wg-detect\" data-wg-type=\"paragraph\">Est aliqua ex nostrud ea duis esse voluptate, dolore officia elit veniam minim dolore do esse. Laboris sunt proident ad reprehenderit pariatur consequat laboris. Veniam consectetur fugiat id sint enim. Anim dolore ad deserunt ex est. Proident voluptate ut duis lorem velit cillum adipiscing. Dolore laborum amet sed eu irure cupidatat.</p> </div> </div> <div class=\"row wg-detect\" data-wg-type=\"cards\"> <div class=\"col\"> <div class=\"card-columns\"> <div class=\"text-black card\"> <span class=\"card-img-top placeholder\" style=\"height: 100px;\"></span> <div class=\"card-body\"> <h5 class=\"card-title\">Sed laborum lorem id</h5> <p class=\"card-text\">Ex deserunt culpa laboris amet non ut commodo sunt</p> <div class=\"d-flex justify-content-between align-items-center\"> <div class=\"btn-group\"> <button class=\"btn btn-sm btn-outline-secondary\" type=\"button\">Do ad eiusmod</button> </div> <small class=\"text-muted\">Anim minim et</small> </div> </div> </div> <div class=\"text-black card\"> <span class=\"card-img-top placeholder\" style=\"height: 100px;\"></span> <div class=\"card-body\"> <h5 class=\"card-title\">Ex excepteur duis id</h5> <p class=\"card-text\">Cillum fugiat irure elit in occaecat labore sunt</p> <div class=\"d-flex justify-content-between align-items-center\"> <div class=\"btn-group\"> <button class=\"btn btn-sm btn-outline-secondary\" type=\"button\">Enim nisi ut</button> </div> <small class=\"text-muted\">Ut enim non</small> </div> </div> </div> <div class=\"text-black card\"> <span class=\"card-img-top placeholder\" style=\"height: 100px;\"></span> <div class=\"card-body\"> <h5 class=\"card-title\">Sed ullamco ea et in</h5> <p class=\"card-text\">Eu tempor ipsum cupidatat cillum magna enim duis</p> <div class=\"d-flex justify-content-between align-items-center\"> <div class=\"btn-group\"> <button class=\"btn btn-sm btn-outline-secondary\" type=\"button\">Esse magna ut</button> </div> <small class=\"text-muted\">Magna laboris</small> </div> </div> </div> <div class=\"text-black card\"> <span class=\"card-img-top placeholder\" style=\"height: 100px;\"></span> <div class=\"card-body\"> <h5 class=\"card-title\">Exercitation dolor</h5> <p class=\"card-text\">Voluptate consectetur laboris enim eu dolor cillum</p> <div class=\"d-flex justify-content-between align-items-center\"> <div class=\"btn-group\"> <button class=\"btn btn-sm btn-outline-secondary\" type=\"button\">Qui quis do</button> </div> <small class=\"text-muted\">Commodo nulla</small> </div> </div> </div> </div> </div> </div> </div> <footer class=\"jumbotron mb-0\" data-wg-type=\"footer\" style=\"height: 7vh;\"> <div class=\"container\"> <span class=\"text-muted\">Cillum sunt anim nisi ex culpa eiusmod nulla et ea</span> </div> </footer> </div> <div class=\"bg-dark text-white\" data-wg-type=\"sidebar\" id=\"sidebar-wrapper\"> <div class=\"list-group list-group-flush\" style=\"width:22vh;\"> <a class=\"list-group-item list-group-item-action\" href=\"#\">Ullamco ea eu</a> <a class=\"list-group-item list-group-item-action\" href=\"#\">Nisi nisi eu</a> <a class=\"list-group-item list-group-item-action\" href=\"#\">Cillum anim</a> <a class=\"list-group-item list-group-item-action\" href=\"#\">Pariatur sint</a> <a class=\"list-group-item list-group-item-action\" href=\"#\">Ut occaecat</a> <a class=\"list-group-item list-group-item-action\" href=\"#\">Voluptate do</a> </div> </div> </div> </body> </html>\n",
            "      Bleu: 0.81\n",
            "\n",
            "Prediction: <!DOCTYPE html> <html> <head> <title>Dominate</title> <meta content=\"{&quot;primary&quot;: &quot;rgb(189, 201, 225)&quot;, &quot;secondary&quot;: &quot;rgb(103, 169, 207)&quot;, &quot;light&quot;: &quot;rgb(246, 239, 247)&quot;, &quot;dark&quot;: &quot;rgb(2, 129, 138)&quot;, &quot;enable-gradients&quot;: false}\" name=\"wg-palette\"> <meta content=\"width=device-width, initial-scale=1.0\" name=\"viewport\"> <meta content=\"Web Generator\" name=\"author\"> <meta content=\"4\" name=\"wg-layout\"> <link href=\"../css/custom-bootstrap.css\" rel=\"stylesheet\"> <link href=\"../css/wg-extras.css\" rel=\"stylesheet\"> <script src=\"../js/jquery-3.2.1.slim.min.js\" type=\"text/javascript\"></script> <script src=\"../js/bootstrap.min.js\" type=\"text/javascript\"></script> </head> <body class=\"bg-light\"> <div class=\"bg-light rounded\" id=\"full-wrapper\"> <div class=\"d-flex\"> <div class=\"bg-dark text-white rounded\" data-wg-type=\"sidebar\" id=\"sidebar-wrapper\"> <div class=\"list-group list-group-flush\" style=\"width:28vh;\"> <a class=\"list-group-item list-group-item-action\" href=\"#\">Ipsum ea sit</a> <a class=\"list-group-item list-group-item-action\" href=\"#\">Sint non quis</a> </div> </div> <div class=\"w-100\"> <nav class=\"bg-dark navbar-dark rounded navbar navbar-expand-md\" data-wg-type=\"navbar\"> <a class=\"navbar-brand\" href=\"#\">Dolor</a> <button class=\"navbar-toggler\" data-target=\"#main-nav\" data-toggle=\"collapse\" type=\"button\"> <span class=\"navbar-toggler-icon\"></span> </button> <div class=\"collapse navbar-collapse\" id=\"main-nav\" style=\"height: 8vh;\"> <ul class=\"navbar-nav ml-auto\"> <li class=\"nav-item\"> <a class=\"nav-link\" href=\"#\">Eu cillum id</a> </li> <li class=\"nav-item\"> <a class=\"nav-link\" href=\"#\">In deserunt</a> </li> <li class=\"nav-item\"> <a class=\"nav-link\" href=\"#\">Aliqua sint</a> </li> </ul> </div> </nav> <div class=\"container-fluid py-3\" id=\"page-content\"> <form class=\"p-3\" data-wg-type=\"form\"> <div class=\"form-group\"> <label for=\"sit\">Sit</label> <input class=\"form-control\" data-wg-type=\"text\" id=\"sit\" type=\"text\"> </div> <div class=\"form-row\"> <div class=\"form-group col-md\"> <label for=\"excepteur_ex_duis\">Excepteur ex duis</label> <input class=\"form-control\" data-wg-type=\"date\" id=\"excepteur_ex_duis\" type=\"date\"> </div> <div class=\"form-group col-md\"> <label for=\"qui_laboris\">Qui laboris</label> <input class=\"form-control\" data-wg-type=\"text\" id=\"qui_laboris\" type=\"text\"> </div> </div> <div class=\"form-group\"> <label for=\"excepteur_dolor_et\">Excepteur dolor et</label> <input class=\"form-control\" data-wg-type=\"text\" id=\"excepteur_dolor_et\" type=\"text\"> </div> <div class=\"form-row\"> <div class=\"form-group col-md\"> <label for=\"ad_ea_sunt\">Ad ea sunt</label> <input class=\"form-control\" data-wg-type=\"text\" id=\"ad_ea_sunt\" type=\"text\"> </div> <div class=\"form-group col-md\"> <label for=\"nostrud_veniam\">Nostrud veniam</label> <input class=\"form-control\" data-wg-type=\"date\" id=\"nostrud_veniam\" type=\"date\"> </div> </div> </form> </div> </div> </div> </body> </html>\n",
            "    Answer: <!DOCTYPE html> <html> <head> <title>Dominate</title> <meta content=\"{&quot;primary&quot;: &quot;rgb(40, 109, 35)&quot;, &quot;secondary&quot;: &quot;rgb(104, 35, 109)&quot;, &quot;light&quot;: &quot;rgb(35, 109, 104)&quot;, &quot;dark&quot;: &quot;rgb(109, 35, 40)&quot;, &quot;enable-gradients&quot;: true}\" name=\"wg-palette\"> <meta content=\"width=device-width, initial-scale=1.0\" name=\"viewport\"> <meta content=\"Web Generator\" name=\"author\"> <meta content=\"4\" name=\"wg-layout\"> <link href=\"../css/custom-bootstrap.css\" rel=\"stylesheet\"> <link href=\"../css/wg-extras.css\" rel=\"stylesheet\"> <script src=\"../js/jquery-3.2.1.slim.min.js\" type=\"text/javascript\"></script> <script src=\"../js/bootstrap.min.js\" type=\"text/javascript\"></script> </head> <body class=\"bg-gradient-light\"> <div class=\"bg-gradient-light text-white rounded shadow-sm\" id=\"full-wrapper\"> <div class=\"d-flex\"> <div class=\"bg-gradient-dark text-white rounded shadow-sm\" data-wg-type=\"sidebar\" id=\"sidebar-wrapper\"> <div class=\"list-group list-group-flush\" style=\"width:26vh;\"> <a class=\"list-group-item list-group-item-action\" href=\"#\">Ipsum ea sit</a> <a class=\"list-group-item list-group-item-action\" href=\"#\">Sint non quis</a> </div> </div> <div class=\"w-100\"> <nav class=\"bg-gradient-dark navbar-dark rounded shadow-sm navbar navbar-expand-md\" data-wg-type=\"navbar\"> <a class=\"navbar-brand\" href=\"#\">Dolor</a> <button class=\"navbar-toggler\" data-target=\"#main-nav\" data-toggle=\"collapse\" type=\"button\"> <span class=\"navbar-toggler-icon\"></span> </button> <div class=\"collapse navbar-collapse\" id=\"main-nav\" style=\"height: 4vh;\"> <ul class=\"navbar-nav ml-auto\"> <li class=\"nav-item\"> <a class=\"nav-link\" href=\"#\">Eu cillum id</a> </li> <li class=\"nav-item\"> <a class=\"nav-link\" href=\"#\">In deserunt</a> </li> <li class=\"nav-item\"> <a class=\"nav-link\" href=\"#\">Aliqua sint</a> </li> </ul> </div> </nav> <div class=\"container-fluid py-3\" id=\"page-content\"> <form class=\"p-3\" data-wg-type=\"form\"> <div class=\"form-group\"> <label for=\"sit\">Sit</label> <input class=\"form-control\" data-wg-type=\"text\" id=\"sit\" type=\"text\"> </div> <div class=\"form-row\"> <div class=\"form-group col-md\"> <label for=\"excepteur_ex_duis\">Excepteur ex duis</label> <input class=\"form-control\" data-wg-type=\"date\" id=\"excepteur_ex_duis\" type=\"date\"> </div> <div class=\"form-group col-md\"> <label for=\"qui_laboris\">Qui laboris</label> <input class=\"form-control\" data-wg-type=\"text\" id=\"qui_laboris\" type=\"text\"> </div> </div> <div class=\"form-group\"> <label for=\"excepteur_dolor_et\">Excepteur dolor et</label> <input class=\"form-control\" data-wg-type=\"text\" id=\"excepteur_dolor_et\" type=\"text\"> </div> <div class=\"form-row\"> <div class=\"form-group col-md\"> <label for=\"ad_ea_sunt\">Ad ea sunt</label> <input class=\"form-control\" data-wg-type=\"text\" id=\"ad_ea_sunt\" type=\"text\"> </div> <div class=\"form-group col-md\"> <label for=\"nostrud_veniam\">Nostrud veniam</label> <input class=\"form-control\" data-wg-type=\"date\" id=\"nostrud_veniam\" type=\"date\"> </div> </div> </form> </div> </div> </div> </div> </body> </html>\n",
            "      Bleu: 0.93\n",
            "\n",
            "Prediction: <!DOCTYPE html> <html> <head> <title>Dominate</title> <meta content=\"{&quot;primary&quot;: &quot;rgb(248, 160, 126)&quot;, &quot;secondary&quot;: &quot;rgb(221, 102, 147)&quot;, &quot;light&quot;: &quot;rgb(243, 231, 155)&quot;, &quot;dark&quot;: &quot;rgb(92, 83, 165)&quot;, &quot;enable-gradients&quot;: false}\" name=\"wg-palette\"> <meta content=\"width=device-width, initial-scale=1.0\" name=\"viewport\"> <meta content=\"Web Generator\" name=\"author\"> <meta content=\"2\" name=\"wg-layout\"> <link href=\"../css/custom-bootstrap.css\" rel=\"stylesheet\"> <link href=\"../css/wg-extras.css\" rel=\"stylesheet\"> <script src=\"../js/jquery-3.2.1.slim.min.js\" type=\"text/javascript\"></script> <script src=\"../js/bootstrap.min.js\" type=\"text/javascript\"></script> </head> <body class=\"\"> <div class=\" rounded\" id=\"full-wrapper\"> <nav class=\"bg-light navbar-light rounded navbar navbar-expand-md\" data-wg-type=\"navbar\"> <button class=\"navbar-toggler\" data-target=\"#main-nav\" data-toggle=\"collapse\" type=\"button\"> <span class=\"navbar-toggler-icon\"></span> </button> <div class=\"collapse navbar-collapse\" id=\"main-nav\" style=\"height: 9vh;\"> <ul class=\"navbar-nav ml-auto\"> <li class=\"nav-item\"> <a class=\"nav-link\" href=\"#\">Ut sunt irure</a> </li> <li class=\"nav-item\"> <a class=\"nav-link\" href=\"#\">Cillum quis</a> </li> <li class=\"nav-item\"> <a class=\"nav-link\" href=\"#\">Eiusmod dolor</a> </li> <li class=\"nav-item\"> <a class=\"nav-link\" href=\"#\">Voluptate id</a> </li> <li class=\"nav-item\"> <a class=\"nav-link\" href=\"#\">Cupidatat ea</a> </li> <li class=\"nav-item\"> <a class=\"nav-link\" href=\"#\">Sit ullamco</a> </li> </ul> </div> </nav> <div class=\"d-flex\"> <div class=\"container-fluid py-3\" id=\"page-content\"> <div class=\"row my-3 wg-detect\" data-wg-type=\"mix\"> <div class=\"col\"> <div class=\"text-center wg-detect\" data-wg-type=\"featured_item\"> <span class=\"text-black rounded-circle mx-auto placeholder\" style=\"width: 105px;height: 105px;\"> <span>105x105</span> </span> <h2>Sunt tempor magna ex</h2> <p>Incididunt sed esse aute do dolor sit fugiat irure</p> <a class=\"btn btn-primary\" href=\"#\">Laborum et ex</a> </div> </div> <div class=\"col\"> <h1 class=\"wg-detect\" data-wg-type=\"heading\">Minim eu id sunt irure anim ad duis.</h1> </div> <div class=\"col\"> <div class=\"text-center wg-detect\" data-wg-type=\"featured_item\"> <span class=\"text-black rounded-circle mx-auto placeholder\" style=\"width: 126px;height: 126px;\"> <span>126x126</span> </span> <h2>Nostrud quis velit</h2> <p>Aliqua consequat pariatur eu cupidatat excepteur</p> <a class=\"btn btn-primary\" href=\"#\">Sed et ex est</a> </div> </div> </div> </div> <div class=\"bg-light rounded\" data-wg-type=\"sidebar\" id=\"sidebar-wrapper\"> <div class=\"sidebar-heading\">Do</div> <div class=\"list-group list-group-flush\" style=\"width:28vh;\"> <a class=\"list-group-item list-group-item-action\" href=\"#\">Irure elit eu</a> <a class=\"list-group-item list-group-item-action\" href=\"#\">Excepteur ut</a> <a class=\"list-group-item list-group-item-action\" href=\"#\">Excepteur do</a> <a class=\"list-group-item list-group-item-action\" href=\"#\">Aute labore</a> <a class=\"list-group-item list-group-item-action\" href=\"#\">Aliqua ea et</a> <a class=\"list-group-item list-group-item-action\" href=\"#\">Amet ullamco</a> </div> </div> </div> <footer class=\" rounded jumbotron mb-0\" data-wg-type=\"footer\" style=\"height: 29vh;\"> <div class=\"container\"> <span class=\"text-muted\">Quis labore esse aute non laboris nostrud cillum</span> </div> </footer> </div> </body> </html>\n",
            "    Answer: <!DOCTYPE html> <html> <head> <title>Dominate</title> <meta content=\"{&quot;primary&quot;: &quot;rgb(211, 156, 131)&quot;, &quot;secondary&quot;: &quot;rgb(166, 84, 97)&quot;, &quot;light&quot;: &quot;rgb(237, 229, 207)&quot;, &quot;dark&quot;: &quot;rgb(84, 31, 63)&quot;, &quot;enable-gradients&quot;: true}\" name=\"wg-palette\"> <meta content=\"width=device-width, initial-scale=1.0\" name=\"viewport\"> <meta content=\"Web Generator\" name=\"author\"> <meta content=\"2\" name=\"wg-layout\"> <link href=\"../css/custom-bootstrap.css\" rel=\"stylesheet\"> <link href=\"../css/wg-extras.css\" rel=\"stylesheet\"> <script src=\"../js/jquery-3.2.1.slim.min.js\" type=\"text/javascript\"></script> <script src=\"../js/bootstrap.min.js\" type=\"text/javascript\"></script> </head> <body class=\"\"> <div class=\" shadow-lg\" id=\"full-wrapper\"> <nav class=\"bg-gradient-light navbar-light shadow-lg navbar navbar-expand-md\" data-wg-type=\"navbar\"> <button class=\"navbar-toggler\" data-target=\"#main-nav\" data-toggle=\"collapse\" type=\"button\"> <span class=\"navbar-toggler-icon\"></span> </button> <div class=\"collapse navbar-collapse\" id=\"main-nav\" style=\"height: 6vh;\"> <ul class=\"navbar-nav ml-auto\"> <li class=\"nav-item\"> <a class=\"nav-link\" href=\"#\">Ut sunt irure</a> </li> <li class=\"nav-item\"> <a class=\"nav-link\" href=\"#\">Cillum quis</a> </li> <li class=\"nav-item\"> <a class=\"nav-link\" href=\"#\">Eiusmod dolor</a> </li> <li class=\"nav-item\"> <a class=\"nav-link\" href=\"#\">Voluptate id</a> </li> <li class=\"nav-item\"> <a class=\"nav-link\" href=\"#\">Cupidatat ea</a> </li> <li class=\"nav-item\"> <a class=\"nav-link\" href=\"#\">Sit ullamco</a> </li> </ul> </div> </nav> <div class=\"d-flex\"> <div class=\"flex-grow-1\"> <div class=\"container-fluid py-3\" id=\"page-content\"> <div class=\"row my-3 wg-detect\" data-wg-type=\"mix\"> <div class=\"col\"> <div class=\"text-center wg-detect\" data-wg-type=\"featured_item\"> <span class=\"text-black rounded-circle mx-auto placeholder\" style=\"width: 105px;height: 105px;\"> <span>105x105</span> </span> <h2>Sunt tempor magna ex</h2> <p>Incididunt sed esse aute do dolor sit fugiat irure</p> <a class=\"btn btn-primary\" href=\"#\">Laborum et ex</a> </div> </div> <div class=\"col\"> <h1 class=\"wg-detect\" data-wg-type=\"heading\">Minim eu id sunt irure anim ad duis.</h1> </div> <div class=\"col\"> <div class=\"text-center wg-detect\" data-wg-type=\"featured_item\"> <span class=\"text-black rounded-circle mx-auto shadow placeholder\" style=\"width: 126px;height: 126px;\"> <span>126x126</span> </span> <h2>Nostrud quis velit</h2> <p>Aliqua consequat pariatur eu cupidatat excepteur</p> <a class=\"btn btn-primary\" href=\"#\">Sed et ex est</a> </div> </div> </div> </div> <footer class=\" shadow-lg jumbotron mb-0\" data-wg-type=\"footer\" style=\"height: 27vh;\"> <div class=\"container\"> <span class=\"text-muted\">Quis labore esse aute non laboris nostrud cillum</span> </div> </footer> </div> <div class=\"bg-gradient-light shadow-lg\" data-wg-type=\"sidebar\" id=\"sidebar-wrapper\"> <div class=\"sidebar-heading\">Do</div> <div class=\"list-group list-group-flush\" style=\"width:25vh;\"> <a class=\"list-group-item list-group-item-action\" href=\"#\">Irure elit eu</a> <a class=\"list-group-item list-group-item-action\" href=\"#\">Excepteur ut</a> <a class=\"list-group-item list-group-item-action\" href=\"#\">Excepteur do</a> <a class=\"list-group-item list-group-item-action\" href=\"#\">Aute labore</a> <a class=\"list-group-item list-group-item-action\" href=\"#\">Aliqua ea et</a> <a class=\"list-group-item list-group-item-action\" href=\"#\">Amet ullamco</a> </div> </div> </div> </div> </body> </html>\n",
            "      Bleu: 0.93\n",
            "\n",
            "Prediction: <!DOCTYPE html> <html> <head> <title>Dominate</title> <meta content=\"{&quot;primary&quot;: &quot;rgb(189, 201, 225)&quot;, &quot;secondary&quot;: &quot;rgb(103, 169, 207)&quot;, &quot;light&quot;: &quot;rgb(246, 239, 247)&quot;, &quot;dark&quot;: &quot;rgb(2, 129, 138)&quot;, &quot;enable-gradients&quot;: false}\" name=\"wg-palette\"> <meta content=\"width=device-width, initial-scale=1.0\" name=\"viewport\"> <meta content=\"Web Generator\" name=\"author\"> <meta content=\"3\" name=\"wg-layout\"> <link href=\"../css/custom-bootstrap.css\" rel=\"stylesheet\"> <link href=\"../css/wg-extras.css\" rel=\"stylesheet\"> <script src=\"../js/jquery-3.2.1.slim.min.js\" type=\"text/javascript\"></script> <script src=\"../js/bootstrap.min.js\" type=\"text/javascript\"></script> </head> <body class=\"bg-light\"> <div class=\"bg-light rounded\" id=\"full-wrapper\"> <nav class=\"bg-dark navbar-dark rounded navbar navbar-expand-md\" data-wg-type=\"navbar\"> <a class=\"navbar-brand\" href=\"#\">Culpa</a> <button class=\"navbar-toggler\" data-target=\"#main-nav\" data-toggle=\"collapse\" type=\"button\"> <span class=\"navbar-toggler-icon\"></span> </button> <div class=\"collapse navbar-collapse\" id=\"main-nav\" style=\"height: 8vh;\"> <ul class=\"navbar-nav mr-auto\"> <li class=\"nav-item\"> <a class=\"nav-link\" href=\"#\">Officia ut id</a> </li> <li class=\"nav-item\"> <a class=\"nav-link\" href=\"#\">Eu voluptate</a> </li> <li class=\"nav-item\"> <a class=\"nav-link\" href=\"#\">Amet dolore</a> </li> <li class=\"nav-item\"> <a class=\"nav-link\" href=\"#\">Cillum minim</a> </li> </ul> </div> </nav> <div class=\"d-flex\"> <div class=\"bg-dark text-white rounded\" data-wg-type=\"sidebar\" id=\"sidebar-wrapper\"> <div class=\"sidebar-heading\">Et</div> <div class=\"list-group list-group-flush\" style=\"width:28vh;\"> <a class=\"list-group-item list-group-item-action\" href=\"#\">Laboris dolor</a> <a class=\"list-group-item list-group-item-action\" href=\"#\">Et culpa enim</a> <a class=\"list-group-item list-group-item-action\" href=\"#\">Occaecat id</a> <a class=\"list-group-item list-group-item-action\" href=\"#\">Id deserunt</a> </div> </div> <div class=\"container-fluid py-3\" id=\"page-content\"> <form class=\"p-3\" data-wg-type=\"form\"> <div class=\"form-row\"> <div class=\"form-group col-md\"> <label for=\"irure_laborum\">Irure laborum</label> <input class=\"form-control\" data-wg-type=\"time\" id=\"irure_laborum\" type=\"time\"> </div> <div class=\"form-group col-md\"> <label for=\"quis\">Quis</label> <input class=\"form-control\" data-wg-type=\"text\" id=\"quis\" type=\"text\"> </div> </div> <div class=\"form-group\"> <label for=\"ex\">Ex</label> <input class=\"form-control\" data-wg-type=\"text\" id=\"ex\" type=\"text\"> </div> <div class=\"form-row\"> <div class=\"form-group col-md\"> <label for=\"sit_in_commodo\">Sit in commodo</label> <input class=\"form-control\" data-wg-type=\"time\" id=\"sit_in_commodo\" type=\"time\"> </div> <div class=\"form-group col-md\"> <label for=\"consequat\">Consequat</label> <input class=\"form-control\" data-wg-type=\"text\" id=\"consequat\" type=\"text\"> </div> </div> <div class=\"form-row\"> <div class=\"form-group col-md\"> <label for=\"eiusmod_aliquip\">Eiusmod aliquip</label> <input class=\"form-control\" data-wg-type=\"text\" id=\"eiusmod_aliquip\" type=\"text\"> </div> <div class=\"form-group col-md\"> <label for=\"dolore_sint_laboris\">Dolore sint laboris</label> <select class=\"form-control\" data-wg-type=\"select\" id=\"dolore_sint_laboris\"> <option>Id ipsum cillum</option> <option>Et</option> <option>Et</option> <option>Et</option> <option>Et</option> <option>Et</option> <option>Et</option> <option>Et</option> <option>Et</option> </select> </div> </div> <div class=\"form-row\"> <div class=\"form-group col-md\"> <label for=\"mollit_proident\">Mollit proident</label> <input class=\"form-control\" data-wg-type=\"text\" id=\"mollit_proident\" type=\"text\"> </div> <div class=\"form-group col-md\"> <label for=\"mollit\">Mollit</label> <input class=\"form-control\" data-wg-type=\"text\" id=\"mollit\" type=\"text\"> </div> <div class=\"form-group col-md\"> <label for=\"ullamco_elit\">Ullamco elit</label> <input class=\"form-control\" data-wg-type=\"text\" id=\"ullamco_elit\" type=\"text\"> </div> </div> <div class=\"form-row\"> <div class=\"form-group col-md\"> <label for=\"elit\">Elit</label> <select class=\"form-control\" data-wg-type=\"select\" id=\"elit\"> <option>Duis et</option> <option>Ea</option> <option>Ea</option> <option>Ea</option> <option>Ea</option> <option>Ea</option> <option>Ea</option> <option>Ea</option> <option>Ea</option> </select> </div> <div class=\"form-group col-md\"> <label for=\"sit_do_eiusmod\">Sit do eiusmod</label> <input class=\"form-control\" data-wg-type=\"text\" id=\"sit_do_eiusmod\" type=\"text\"> </div> <div class=\"form-group col-md\"> <label for=\"duis\">Duis</label> <input class=\"form-control\" data-wg-type=\"text\" id=\"duis\" type=\"text\"> </div> </div> <div class=\"form-row\"> <div class=\"form-group col-md\"> <label for=\"non_dolor\">Non dolor</label> <input class=\"custom-range\" data-wg-type=\"range\" id=\"non_dolor\" type=\"range\"> </div> <div class=\"form-group col-md\"> <label for=\"ipsum_aliqua_amet\">Ipsum aliqua amet</label> <input class=\"form-control\" data-wg-type=\"text\" id=\"ipsum_aliqua_amet\" type=\"text\"> </div> <div class=\"form-group col-md\"> <label for=\"sed\">Sed</label> <input class=\"form-control\" data-wg-type=\"time\" id=\"sed\" type=\"time\"> </div> </div> <div class=\"form-row\"> <div class=\"form-group col-md\"> <label for=\"aute_exercitation_veniam\">Aute exercitation veniam</label> <input class=\"form-control\" data-wg-type=\"date\" id=\"aute_exercitation_veniam\" type=\"date\"> </div> <div class=\"form-group col-md\"> <label for=\"quis\">Quis</label> <input class=\"form-control\" data-wg-type=\"date\" id=\"quis\" type=\"date\"> </div> </div> <div class=\"form-group\"> <label for=\"officia\">Officia</label> <input class=\"form-control\" data-wg-type=\"text\" id=\"officia\" type=\"text\"> </div> <div class=\"form-group\"> <label for=\"eu\">Eu</label> <input class=\"form-control\" data-wg-type=\"date\" id=\"eu\" type=\"date\"> </div> </form> </div> </div> </div> </body> </html>\n",
            "    Answer: <!DOCTYPE html> <html> <head> <title>Dominate</title> <meta content=\"{&quot;primary&quot;: &quot;rgb(185, 186, 241)&quot;, &quot;secondary&quot;: &quot;rgb(113, 115, 213)&quot;, &quot;light&quot;: &quot;rgb(190, 191, 243)&quot;, &quot;dark&quot;: &quot;rgb(59, 61, 175)&quot;, &quot;enable-gradients&quot;: true}\" name=\"wg-palette\"> <meta content=\"width=device-width, initial-scale=1.0\" name=\"viewport\"> <meta content=\"Web Generator\" name=\"author\"> <meta content=\"1\" name=\"wg-layout\"> <link href=\"../css/custom-bootstrap.css\" rel=\"stylesheet\"> <link href=\"../css/wg-extras.css\" rel=\"stylesheet\"> <script src=\"../js/jquery-3.2.1.slim.min.js\" type=\"text/javascript\"></script> <script src=\"../js/bootstrap.min.js\" type=\"text/javascript\"></script> </head> <body class=\"bg-gradient-light\"> <div class=\"d-flex bg-gradient-light\" id=\"full-wrapper\"> <div class=\"bg-gradient-dark text-white shadow\" data-wg-type=\"sidebar\" id=\"sidebar-wrapper\"> <div class=\"sidebar-heading\">Et</div> <div class=\"list-group list-group-flush\" style=\"width:28vh;\"> <a class=\"list-group-item list-group-item-action\" href=\"#\">Laboris dolor</a> <a class=\"list-group-item list-group-item-action\" href=\"#\">Et culpa enim</a> <a class=\"list-group-item list-group-item-action\" href=\"#\">Occaecat id</a> <a class=\"list-group-item list-group-item-action\" href=\"#\">Id deserunt</a> </div> </div> <div class=\"w-100\"> <nav class=\"bg-gradient-dark navbar-dark shadow navbar navbar-expand-md\" data-wg-type=\"navbar\"> <a class=\"navbar-brand\" href=\"#\">Culpa</a> <button class=\"navbar-toggler\" data-target=\"#main-nav\" data-toggle=\"collapse\" type=\"button\"> <span class=\"navbar-toggler-icon\"></span> </button> <div class=\"collapse navbar-collapse\" id=\"main-nav\" style=\"height: 7vh;\"> <ul class=\"navbar-nav mr-auto\"> <li class=\"nav-item\"> <a class=\"nav-link\" href=\"#\">Officia ut id</a> </li> <li class=\"nav-item\"> <a class=\"nav-link\" href=\"#\">Eu voluptate</a> </li> <li class=\"nav-item\"> <a class=\"nav-link\" href=\"#\">Amet dolore</a> </li> <li class=\"nav-item\"> <a class=\"nav-link\" href=\"#\">Cillum minim</a> </li> </ul> </div> </nav> <div class=\"container-fluid py-3\" id=\"page-content\"> <form class=\"p-3\" data-wg-type=\"form\"> <div class=\"form-row\"> <div class=\"form-group col-md\"> <label for=\"irure_laborum\">Irure laborum</label> <input class=\"form-control\" data-wg-type=\"time\" id=\"irure_laborum\" type=\"time\"> </div> <div class=\"form-group col-md\"> <label for=\"quis\">Quis</label> <input class=\"form-control\" data-wg-type=\"text\" id=\"quis\" type=\"text\"> </div> </div> <div class=\"form-group\"> <label for=\"ex\">Ex</label> <input class=\"form-control\" data-wg-type=\"text\" id=\"ex\" type=\"text\"> </div> <div class=\"form-row\"> <div class=\"form-group col-md\"> <label for=\"sit_in_commodo\">Sit in commodo</label> <input class=\"form-control\" data-wg-type=\"time\" id=\"sit_in_commodo\" type=\"time\"> </div> <div class=\"form-group col-md\"> <label for=\"consequat\">Consequat</label> <input class=\"form-control\" data-wg-type=\"text\" id=\"consequat\" type=\"text\"> </div> </div> <div class=\"form-row\"> <div class=\"form-group col-md\"> <label for=\"eiusmod_aliquip\">Eiusmod aliquip</label> <input class=\"form-control\" data-wg-type=\"text\" id=\"eiusmod_aliquip\" type=\"text\"> </div> <div class=\"form-group col-md\"> <label for=\"dolore_sint_laboris\">Dolore sint laboris</label> <select class=\"form-control\" data-wg-type=\"select\" id=\"dolore_sint_laboris\"> <option>Id ipsum cillum</option> <option>Ex</option> <option>Incididunt enim duis</option> </select> </div> </div> <div class=\"form-row\"> <div class=\"form-group col-md\"> <label for=\"mollit_proident\">Mollit proident</label> <input class=\"form-control\" data-wg-type=\"text\" id=\"mollit_proident\" type=\"text\"> </div> <div class=\"form-group col-md\"> <label for=\"mollit\">Mollit</label> <input class=\"custom-range\" data-wg-type=\"range\" id=\"mollit\" type=\"range\"> </div> <div class=\"form-group col-md\"> <label for=\"ullamco_elit\">Ullamco elit</label> <input class=\"form-control\" data-wg-type=\"text\" id=\"ullamco_elit\" type=\"text\"> </div> </div> <div class=\"form-row\"> <div class=\"form-group col-md\"> <label for=\"elit\">Elit</label> <select class=\"form-control\" data-wg-type=\"select\" id=\"elit\"> <option>Duis et</option> <option>Cupidatat</option> <option>Aliquip</option> <option>Amet</option> <option>Adipiscing</option> <option>Laborum fugiat magna</option> </select> </div> <div class=\"form-group col-md\"> <label for=\"sit_do_eiusmod\">Sit do eiusmod</label> <input class=\"form-control\" data-wg-type=\"text\" id=\"sit_do_eiusmod\" type=\"text\"> </div> <div class=\"form-group col-md\"> <label for=\"duis\">Duis</label> <input class=\"form-control\" data-wg-type=\"text\" id=\"duis\" type=\"text\"> </div> </div> <div class=\"form-row\"> <div class=\"form-group col-md\"> <label for=\"non_dolor\">Non dolor</label> <input class=\"custom-range\" data-wg-type=\"range\" id=\"non_dolor\" type=\"range\"> </div> <div class=\"form-group col-md\"> <label for=\"ipsum_aliqua_amet\">Ipsum aliqua amet</label> <input class=\"form-control\" data-wg-type=\"text\" id=\"ipsum_aliqua_amet\" type=\"text\"> </div> <div class=\"form-group col-md\"> <label for=\"sed\">Sed</label> <input class=\"form-control\" data-wg-type=\"time\" id=\"sed\" type=\"time\"> </div> </div> <div class=\"form-row\"> <div class=\"form-group col-md\"> <label for=\"aute_exercitation_veniam\">Aute exercitation veniam</label> <input class=\"form-control\" data-wg-type=\"date\" id=\"aute_exercitation_veniam\" type=\"date\"> </div> <div class=\"form-group col-md\"> <label for=\"quis\">Quis</label> <input class=\"form-control\" data-wg-type=\"date\" id=\"quis\" type=\"date\"> </div> </div> <div class=\"form-group\"> <label for=\"officia\">Officia</label> <input class=\"custom-range\" data-wg-type=\"range\" id=\"officia\" type=\"range\"> </div> <div class=\"form-group\"> <label for=\"eu\">Eu</label> <input class=\"form-control\" data-wg-type=\"date\" id=\"eu\" type=\"date\"> </div> </form> </div> </div> </div> </body> </html>\n",
            "      Bleu: 0.93\n",
            "\n",
            "Prediction: <!DOCTYPE html> <html> <head> <title>Dominate</title> <meta content=\"{&quot;primary&quot;: &quot;rgb(243, 190, 133)&quot;, &quot;secondary&quot;: &quot;rgb(249, 133, 93)&quot;, &quot;light&quot;: &quot;rgb(239, 224, 190)&quot;, &quot;dark&quot;: &quot;rgb(233, 93, 249)&quot;, &quot;enable-gradients&quot;: false}\" name=\"wg-palette\"> <meta content=\"width=device-width, initial-scale=1.0\" name=\"viewport\"> <meta content=\"Web Generator\" name=\"author\"> <meta content=\"2\" name=\"wg-layout\"> <link href=\"../css/custom-bootstrap.css\" rel=\"stylesheet\"> <link href=\"../css/wg-extras.css\" rel=\"stylesheet\"> <script src=\"../js/jquery-3.2.1.slim.min.js\" type=\"text/javascript\"></script> <script src=\"../js/bootstrap.min.js\" type=\"text/javascript\"></script> </head> <body class=\"\"> <div class=\" rounded\" id=\"full-wrapper\"> <header class=\"bg-secondary rounded d-flex align-items-center justify-content-center\" data-wg-type=\"header\" style=\"height: 39vh;\"> <h1 class=\"p-2 text-center\">Dolor Eu</h1> </header> <div class=\"d-flex\"> <div class=\"container-fluid py-3\" id=\"page-content\"> <div class=\"row my-3 wg-detect\" data-wg-type=\"mix\"> <div class=\"col\"> <table class=\"bg-white table\" data-wg-type=\"table\"> <tr> <td>aliqua</td> <td>laborum</td> <td>qui</td> <td>0</td> </tr> <tr> <td>id</td> <td>ullamco</td> <td>magna</td> <td>0</td> </tr> </table> </div> <div class=\"col\"> <h1 class=\"wg-detect\" data-wg-type=\"heading\">Sunt ut aliquip irure lorem, velit ad laborum et tempor aliqua non.</h1> </div> </div> <div class=\"row my-3 wg-detect\" data-wg-type=\"mix\"> <div class=\"col\"> <div class=\"text-center wg-detect\" data-wg-type=\"featured_item\"> <span class=\"text-black rounded-circle mx-auto placeholder\" style=\"width: 113px;height: 113px;\"> <span>113x113</span> </span> <h2>Dolor laborum lorem</h2> <p>Occaecat proident culpa sint commodo enim duis est</p> <a class=\"btn btn-primary\" href=\"#\">Labore veniam</a> </div> </div> <div class=\"col\"> <h1 class=\"wg-detect\" data-wg-type=\"heading\">Eu sed excepteur incididunt lorem ad laborum.</h1> </div> <div class=\"col\"> <h1 class=\"wg-detect\" data-wg-type=\"heading\">Excepteur pariatur dolor sunt ad et elit ea.</h1> </div> </div> </div> <div class=\"bg-light rounded\" data-wg-type=\"sidebar\" id=\"sidebar-wrapper\"> <div class=\"sidebar-heading\">Mollit</div> <div class=\"list-group list-group-flush\" style=\"width:27vh;\"> <a class=\"list-group-item list-group-item-action\" href=\"#\">Sed elit ad</a> <a class=\"list-group-item list-group-item-action\" href=\"#\">Reprehenderit</a> </div> </div> </div> <footer class=\" rounded jumbotron mb-0\" data-wg-type=\"footer\" style=\"height: 27vh;\"> <div class=\"container\"> <span class=\"text-muted\">Dolor ea sed nulla amet eiusmod enim in excepteur</span> </div> </footer> </div> </body> </html>\n",
            "    Answer: <!DOCTYPE html> <html> <head> <title>Dominate</title> <meta content=\"{&quot;primary&quot;: &quot;rgb(252, 174, 145)&quot;, &quot;secondary&quot;: &quot;rgb(251, 106, 74)&quot;, &quot;light&quot;: &quot;rgb(254, 229, 217)&quot;, &quot;dark&quot;: &quot;rgb(203, 24, 29)&quot;, &quot;enable-gradients&quot;: true}\" name=\"wg-palette\"> <meta content=\"width=device-width, initial-scale=1.0\" name=\"viewport\"> <meta content=\"Web Generator\" name=\"author\"> <meta content=\"3\" name=\"wg-layout\"> <link href=\"../css/custom-bootstrap.css\" rel=\"stylesheet\"> <link href=\"../css/wg-extras.css\" rel=\"stylesheet\"> <script src=\"../js/jquery-3.2.1.slim.min.js\" type=\"text/javascript\"></script> <script src=\"../js/bootstrap.min.js\" type=\"text/javascript\"></script> </head> <body class=\"\"> <div class=\" shadow\" id=\"full-wrapper\"> <header class=\"bg-gradient-secondary shadow d-flex align-items-center justify-content-center\" data-wg-type=\"header\" style=\"height: 24vh;\"> <h1 class=\"p-2 text-center\">Dolor Eu</h1> </header> <div class=\"d-flex\"> <div class=\"container-fluid py-3\" id=\"page-content\"> <div class=\"row my-3 wg-detect\" data-wg-type=\"mix\"> <div class=\"col\"> <table class=\"bg-white table-striped table\" data-wg-type=\"table\"> <tr> <td>aliqua</td> <td>laborum</td> <td>qui</td> <td>0</td> </tr> <tr> <td>id</td> <td>ullamco</td> <td>magna</td> <td>0</td> </tr> </table> </div> <div class=\"col\"> <h1 class=\"wg-detect\" data-wg-type=\"heading\">Sunt ut aliquip irure lorem, velit ad laborum et tempor aliqua non.</h1> </div> </div> <div class=\"row my-3 wg-detect\" data-wg-type=\"mix\"> <div class=\"col\"> <div class=\"text-center wg-detect\" data-wg-type=\"featured_item\"> <span class=\"text-black rounded-circle mx-auto shadow placeholder\" style=\"width: 113px;height: 113px;\"> <span>113x113</span> </span> <h2>Dolor laborum lorem</h2> <p>Occaecat proident culpa sint commodo enim duis est</p> <a class=\"btn btn-primary\" href=\"#\">Labore veniam</a> </div> </div> <div class=\"col\"> <h1 class=\"wg-detect\" data-wg-type=\"heading\">Eu sed excepteur incididunt lorem ad laborum.</h1> </div> <div class=\"col\"> <h1 class=\"wg-detect\" data-wg-type=\"heading\">Excepteur pariatur dolor sunt ad et elit ea.</h1> </div> </div> </div> <div class=\"bg-gradient-light shadow\" data-wg-type=\"sidebar\" id=\"sidebar-wrapper\"> <div class=\"sidebar-heading\">Mollit</div> <div class=\"list-group list-group-flush\" style=\"width:28vh;\"> <a class=\"list-group-item list-group-item-action\" href=\"#\">Sed elit ad</a> <a class=\"list-group-item list-group-item-action\" href=\"#\">Reprehenderit</a> </div> </div> </div> <footer class=\" shadow jumbotron mb-0\" data-wg-type=\"footer\" style=\"height: 28vh;\"> <div class=\"container\"> <span class=\"text-muted\">Dolor ea sed nulla amet eiusmod enim in excepteur</span> </div> </footer> </div> </body> </html>\n",
            "      Bleu: 0.95\n",
            "\n",
            "Prediction: <!DOCTYPE html> <html> <head> <title>Dominate</title> <meta content=\"{&quot;primary&quot;: &quot;rgb(243, 190, 133)&quot;, &quot;secondary&quot;: &quot;rgb(249, 133, 93)&quot;, &quot;light&quot;: &quot;rgb(233, 224, 190)&quot;, &quot;dark&quot;: &quot;rgb(233, 93, 249)&quot;, &quot;enable-gradients&quot;: false}\" name=\"wg-palette\"> <meta content=\"width=device-width, initial-scale=1.0\" name=\"viewport\"> <meta content=\"Web Generator\" name=\"author\"> <meta content=\"2\" name=\"wg-layout\"> <link href=\"../css/custom-bootstrap.css\" rel=\"stylesheet\"> <link href=\"../css/wg-extras.css\" rel=\"stylesheet\"> <script src=\"../js/jquery-3.2.1.slim.min.js\" type=\"text/javascript\"></script> <script src=\"../js/bootstrap.min.js\" type=\"text/javascript\"></script> </head> <body class=\"\"> <div class=\" rounded\" id=\"full-wrapper\"> <nav class=\"bg-light navbar-light rounded navbar navbar-expand-md\" data-wg-type=\"navbar\"> <a class=\"navbar-brand\" href=\"#\">Mollit</a> <button class=\"navbar-toggler\" data-target=\"#main-nav\" data-toggle=\"collapse\" type=\"button\"> <span class=\"navbar-toggler-icon\"></span> </button> <div class=\"collapse navbar-collapse\" id=\"main-nav\" style=\"height: 9vh;\"> <ul class=\"navbar-nav mx-auto\"> <li class=\"nav-item\"> <a class=\"nav-link\" href=\"#\">Laborum enim</a> </li> <li class=\"nav-item\"> <a class=\"nav-link\" href=\"#\">Non officia</a> </li> <li class=\"nav-item\"> <a class=\"nav-link\" href=\"#\">Aliqua velit</a> </li> <li class=\"nav-item\"> <a class=\"nav-link\" href=\"#\">Sed anim et</a> </li> <li class=\"nav-item\"> <a class=\"nav-link\" href=\"#\">Laboris sit</a> </li> <li class=\"nav-item\"> <a class=\"nav-link\" href=\"#\">Proident anim</a> </li> </ul> </div> </nav> <header class=\"bg-secondary rounded d-flex align-items-center justify-content-center\" data-wg-type=\"header\" style=\"height: 39vh;\"> <h1 class=\"p-2 text-center\">Esse Ut Nisi Lorem Amet Id Consectetur</h1> </header> <div class=\"d-flex\"> <div class=\"bg-light rounded\" data-wg-type=\"sidebar\" id=\"sidebar-wrapper\"> <div class=\"sidebar-heading\">Mollit</div> <div class=\"list-group list-group-flush\" style=\"width:28vh;\"> <a class=\"list-group-item list-group-item-action\" href=\"#\">Laborum enim</a> <a class=\"list-group-item list-group-item-action\" href=\"#\">Non officia</a> <a class=\"list-group-item list-group-item-action\" href=\"#\">Aliqua velit</a> <a class=\"list-group-item list-group-item-action\" href=\"#\">Sed anim et</a> <a class=\"list-group-item list-group-item-action\" href=\"#\">Laboris et et</a> <a class=\"list-group-item list-group-item-action\" href=\"#\">Proident anim</a> </div> </div> <div class=\"flex-grow-1\"> <div class=\"container-fluid py-3\" id=\"page-content\"> <div class=\"m-3 wg-detect\" data-wg-type=\"tabs\"> <div class=\"nav nav-tabs\"> <a aria-controls=\"occaecat\" class=\"nav-item nav-link active\" data-toggle=\"tab\" href=\"#occaecat\" id=\"occaecat-tab\" role=\"tab\">Occaecat</a> <a aria-controls=\"veniam\" class=\"nav-item nav-link\" data-toggle=\"tab\" href=\"#veniam\" id=\"veniam-tab\" role=\"tab\">Veniam</a> <a aria-controls=\"occaecat\" class=\"nav-item nav-link\" data-toggle=\"tab\" href=\"#occaecat\" id=\"occaecat-tab\" role=\"tab\">Occaecat</a> <a aria-controls=\"laboris\" class=\"nav-item nav-link\" data-toggle=\"tab\" href=\"#laboris\" id=\"laboris-tab\" role=\"tab\">Laboris</a> </div> <div class=\"tab-content\"> <div aria-labelledby=\"occaecat\" class=\"tab-pane fade border p-3 show active\" id=\"occaecat\" role=\"tabpanel\">Cillum aute adipiscing fugiat officia deserunt tempor commodo. Mollit amet tempor deserunt fugiat est anim. Aliquip culpa pariatur pariatur exercitation eu. Commodo nostrud qui dolore lorem laborum quis mollit nulla. Culpa excepteur magna dolore nisi aliqua. Voluptate elit cupidatat non nisi enim anim.</div> <div aria-labelledby=\"veniam\" class=\"tab-pane fade border p-3\" id=\"veniam\" role=\"tabpanel\">Eiusmod aliquip commodo aliquip commodo.</div> <div aria-labelledby=\"occaecat\" class=\"tab-pane fade border p-3\" id=\"occaecat\" role=\"tabpanel\">Ea amet ullamco aliquip commodo.</div> <div aria-labelledby=\"occaecat\" class=\"tab-pane fade border p-3\" id=\"occaecat\" role=\"tabpanel\">Eiusmod aliquip commodo aliquip commodo excepteur anim mollit ut veniam.</div> <div aria-labelledby=\"veniam\" class=\"tab-pane fade border p-3\" id=\"occaecat\" role=\"tabpanel\">Eiusmod aliquip commodo aliquip commodo.</div> <div aria-labelledby=\"occaecat\" class=\"tab-pane fade border p-3\" id=\"occaecat\" role=\"tabpanel\">Eiusmod aliquip commodo aliquip commodo.</div> <div aria-labelledby=\"laboris\" class=\"tab-pane fade border p-3\" id=\"laboris\" role=\"tabpanel\">Eiusmod aliquip commodo aliquip commodo.</div> </div> </div> <div class=\"row my-3 wg-detect\" data-wg-type=\"mix\"> <div class=\"col\"> <p class=\"wg-detect\" data-wg-type=\"paragraph\">Ea velit nulla irure esse nulla, anim veniam officia occaecat ea labore sit.</p> </div> <div class=\"col\"> <p class=\"wg-detect\" data-wg-type=\"paragraph\">Laborum occaecat eu pariatur fugiat excepteur cupidatat. Aliqua nisi est eu aliquip nostrud ea, lorem aliquip consequat adipiscing aliqua non officia veniam. Nisi amet in aliqua anim anim. Dolore commodo elit labore aliquip labore commodo. Sint consectetur commodo quis consectetur. Sit reprehenderit nostrud aliquip adipiscing cillum ad ullamco cillum ut.</p> </div> <div class=\"col\"> <h1 class=\"wg-detect\" data-wg-type=\"heading\">Laboris fugiat aliquip eiusmod elit duis.</h1> </div> </div> <div class=\"row wg-detect\" data-wg-type=\"cards\"> <div class=\"col\"> <div class=\"card-columns\"> <div class=\"text-black shadow card\"> <span class=\"card-img-top placeholder\" style=\"height: 100px;\"></span> <div class=\"card-body\"> <h5 class=\"card-title\">Veniam aliquip do ad</h5> <p class=\"card-text\">Occaecat sunt aliqua commodo excepteur duis commodo ut</p> <div class=\"d-flex justify-content-between align-items-center\"> <div class=\"btn-group\"> <button class=\"btn btn-sm btn-outline-secondary\" type=\"button\">Dolor commodo</button> </div> <small class=\"text-muted\">Eiusmod amet</small> </div> </div> </div> <div class=\"text-black shadow card\"> <span class=\"card-img-top placeholder\" style=\"height: 100px;\"></span> <div class=\"card-body\"> <h5 class=\"card-title\">Dolor velit fugiat</h5> <p class=\"card-text\">Esse adipiscing et proident nostrud officia ad ullamco cillum id</p> <div class=\"d-flex justify-content-between align-items-center\"> <div class=\"btn-group\"> <button class=\"btn btn-sm btn-outline-secondary\" type=\"button\">Eiusmod aute</button> </div> <small class=\"text-muted\">Eiusmod amet</small> </div> </div> </div> <div class=\"text-black shadow card\"> <span class=\"card-img-top placeholder\" style=\"height: 100px;\"></span> <div class=\"card-body\"> <h5 class=\"card-title\">Aliquip culpa esse</h5> <p class=\"card-text\">Reprehenderit pariatur anim aliqua enim sit dolore</p> <div class=\"d-flex justify-content-between align-items-center\"> <div class=\"btn-group\"> <button class=\"btn btn-sm btn-outline-secondary\" type=\"button\">Consectetur</button> </div> <small class=\"text-muted\">Exercitation</small> </div> </div> </div> <div class=\"text-black shadow card\"> <span class=\"card-img-top placeholder\" style=\"height: 100px;\"></span> <div class=\"card-body\"> <h5 class=\"card-title\">Esse nisi non ipsum</h5> <p class=\"card-text\">Elit adipiscing ut adipiscing fugiat officia do</p> <div class=\"d-flex justify-content-between align-items-center\"> <div class=\"btn-group\"> <button class=\"btn btn-sm btn-outline-secondary\" type=\"button\">Anim aliqua</button> </div> <small class=\"text-muted\">Eiusmod amet</small> </div> </div> </div> </div> </div> </div> </div> </div> <footer class=\" rounded jumbotron mb-0\" data-wg-type=\"footer\" style=\"height: 20vh;\"> <div class=\"container\"> <span class=\"text-muted\">Voluptate do cillum excepteur et dolore velit duis</span> </div> </footer> </div> </body> </html>\n",
            "    Answer: <!DOCTYPE html> <html> <head> <title>Dominate</title> <meta content=\"{&quot;primary&quot;: &quot;rgb(100, 180, 99)&quot;, &quot;secondary&quot;: &quot;rgb(18, 110, 69)&quot;, &quot;light&quot;: &quot;rgb(215, 249, 208)&quot;, &quot;dark&quot;: &quot;rgb(18, 36, 20)&quot;, &quot;enable-gradients&quot;: false}\" name=\"wg-palette\"> <meta content=\"width=device-width, initial-scale=1.0\" name=\"viewport\"> <meta content=\"Web Generator\" name=\"author\"> <meta content=\"4\" name=\"wg-layout\"> <link href=\"../css/custom-bootstrap.css\" rel=\"stylesheet\"> <link href=\"../css/wg-extras.css\" rel=\"stylesheet\"> <script src=\"../js/jquery-3.2.1.slim.min.js\" type=\"text/javascript\"></script> <script src=\"../js/bootstrap.min.js\" type=\"text/javascript\"></script> </head> <body class=\"\"> <div class=\" shadow\" id=\"full-wrapper\"> <div class=\"d-flex\"> <div class=\"bg-light shadow\" data-wg-type=\"sidebar\" id=\"sidebar-wrapper\"> <div class=\"sidebar-heading\">Mollit</div> <div class=\"list-group list-group-flush\" style=\"width:28vh;\"> <a class=\"list-group-item list-group-item-action\" href=\"#\">Laborum enim</a> <a class=\"list-group-item list-group-item-action\" href=\"#\">Non officia</a> <a class=\"list-group-item list-group-item-action\" href=\"#\">Aliqua velit</a> <a class=\"list-group-item list-group-item-action\" href=\"#\">Nisi sed sit</a> <a class=\"list-group-item list-group-item-action\" href=\"#\">Labore in et</a> <a class=\"list-group-item list-group-item-action\" href=\"#\">Pariatur anim</a> </div> </div> <div class=\"w-100\"> <nav class=\"bg-light navbar-light shadow navbar navbar-expand-md\" data-wg-type=\"navbar\"> <a class=\"navbar-brand\" href=\"#\">Occaecat</a> <button class=\"navbar-toggler\" data-target=\"#main-nav\" data-toggle=\"collapse\" type=\"button\"> <span class=\"navbar-toggler-icon\"></span> </button> <div class=\"collapse navbar-collapse\" id=\"main-nav\" style=\"height: 9vh;\"> <ul class=\"navbar-nav mx-auto\"> <li class=\"nav-item\"> <a class=\"nav-link\" href=\"#\">Veniam mollit</a> </li> <li class=\"nav-item\"> <a class=\"nav-link\" href=\"#\">Proident elit</a> </li> <li class=\"nav-item\"> <a class=\"nav-link\" href=\"#\">Incididunt et</a> </li> <li class=\"nav-item\"> <a class=\"nav-link\" href=\"#\">Laboris enim</a> </li> </ul> </div> </nav> <header class=\"bg-secondary text-white shadow d-flex align-items-center justify-content-center\" data-wg-type=\"header\" style=\"height: 38vh;\"> <h1 class=\"p-2 text-center\">Esse Ut Nisi Lorem Amet Id Consectetur</h1> </header> <div class=\"container-fluid py-3\" id=\"page-content\"> <div class=\"row my-3 wg-detect\" data-wg-type=\"mix\"> <div class=\"col\"> <p class=\"wg-detect\" data-wg-type=\"paragraph\">Cillum sint sit ea aliquip fugiat elit, officia deserunt tempor incididunt id eu est. Nulla esse tempor deserunt fugiat est anim. Aliquip culpa pariatur proident exercitation eu. Commodo sint anim culpa ipsum occaecat magna amet. Duis officia ipsum anim occaecat dolore non nostrud. Qui laboris ipsum ullamco duis mollit nulla. Culpa excepteur magna dolore nisi aliqua, voluptate elit cupidatat nisi nisi enim anim.</p> </div> </div> <div class=\"row my-3 wg-detect\" data-wg-type=\"mix\"> <div class=\"col\"> <p class=\"wg-detect\" data-wg-type=\"paragraph\">Id ea velit nulla irure anim nulla. Aute nostrud nulla ut occaecat ea laboris et. Consequat dolore laborum velit cupidatat veniam. Nisi aliquip lorem dolor irure minim. Anim ex adipiscing occaecat ut ipsum culpa consequat, ullamco reprehenderit occaecat esse fugiat nulla sint, qui occaecat ut non sit minim. Voluptate mollit aliquip nisi lorem ad amet enim, ullamco fugiat ullamco aliquip incididunt velit cupidatat tempor. Excepteur laboris deserunt anim ipsum amet laboris, aliqua commodo excepteur anim mollit ut dolore.</p> </div> <div class=\"col\"> <p class=\"wg-detect\" data-wg-type=\"paragraph\">Laborum occaecat eu tempor fugiat esse cupidatat. Aliqua nisi id eu qui esse. Elit cillum minim pariatur sit lorem ex, lorem veniam consequat sed duis magna consequat in, adipiscing aliqua sint officia ea excepteur mollit. Sed ex in aliqua anim anim. Dolore reprehenderit occaecat voluptate est id, labore est dolore laboris laborum exercitation anim commodo. Sint consectetur amet laborum pariatur velit occaecat. Id reprehenderit amet id labore aliqua ullamco adipiscing, sed officia ad ullamco cillum id ex.</p> </div> <div class=\"col\"> <h1 class=\"wg-detect\" data-wg-type=\"heading\">Laboris fugiat aliquip eiusmod elit duis.</h1> </div> </div> <div class=\"row wg-detect\" data-wg-type=\"cards\"> <div class=\"col\"> <div class=\"card-columns\"> <div class=\"text-black shadow card\"> <span class=\"card-img-top placeholder\" style=\"height: 100px;\"></span> <div class=\"card-body\"> <h5 class=\"card-title\">Minim aliquip do ad</h5> <p class=\"card-text\">Tempor sunt do adipiscing eiusmod duis occaecat ut</p> <div class=\"d-flex justify-content-between align-items-center\"> <div class=\"btn-group\"> <button class=\"btn btn-sm btn-outline-secondary\" type=\"button\">Labore ipsum</button> </div> <small class=\"text-muted\">Dolore ex ad</small> </div> </div> </div> <div class=\"text-black shadow card\"> <span class=\"card-img-top placeholder\" style=\"height: 100px;\"></span> <div class=\"card-body\"> <h5 class=\"card-title\">Irure veniam dolor</h5> <p class=\"card-text\">Id elit id ut voluptate nisi officia aliqua labore</p> <div class=\"d-flex justify-content-between align-items-center\"> <div class=\"btn-group\"> <button class=\"btn btn-sm btn-outline-secondary\" type=\"button\">Fugiat ex est</button> </div> <small class=\"text-muted\">Fugiat esse</small> </div> </div> </div> <div class=\"text-black shadow card\"> <span class=\"card-img-top placeholder\" style=\"height: 100px;\"></span> <div class=\"card-body\"> <h5 class=\"card-title\">Dolor velit fugiat</h5> <p class=\"card-text\">Anim consequat excepteur ullamco eiusmod dolor sed</p> <div class=\"d-flex justify-content-between align-items-center\"> <div class=\"btn-group\"> <button class=\"btn btn-sm btn-outline-secondary\" type=\"button\">Tempor ipsum</button> </div> <small class=\"text-muted\">Et excepteur</small> </div> </div> </div> <div class=\"text-black shadow card\"> <span class=\"card-img-top placeholder\" style=\"height: 100px;\"></span> <div class=\"card-body\"> <h5 class=\"card-title\">Aliquip culpa esse</h5> <p class=\"card-text\">Commodo reprehenderit pariatur anim aliqua amet do</p> <div class=\"d-flex justify-content-between align-items-center\"> <div class=\"btn-group\"> <button class=\"btn btn-sm btn-outline-secondary\" type=\"button\">Incididunt do</button> </div> <small class=\"text-muted\">Reprehenderit</small> </div> </div> </div> <div class=\"text-black shadow card\"> <span class=\"card-img-top placeholder\" style=\"height: 100px;\"></span> <div class=\"card-body\"> <h5 class=\"card-title\">Esse nisi non ipsum</h5> <p class=\"card-text\">Elit adipiscing ad laboris id in ipsum officia do</p> <div class=\"d-flex justify-content-between align-items-center\"> <div class=\"btn-group\"> <button class=\"btn btn-sm btn-outline-secondary\" type=\"button\">Et est ipsum</button> </div> <small class=\"text-muted\">Consequat sit</small> </div> </div> </div> </div> </div> </div> </div> </div> </div> <footer class=\" shadow jumbotron mb-0\" data-wg-type=\"footer\" style=\"height: 15vh;\"> <div class=\"container\"> <span class=\"text-muted\">Voluptate do cillum excepteur id dolore velit duis</span> </div> </footer> </div> </body> </html>\n",
            "      Bleu: 0.76\n",
            "\n",
            "Prediction: <!DOCTYPE html> <html> <head> <title>Dominate</title> <meta content=\"{&quot;primary&quot;: &quot;rgb(189, 201, 225)&quot;, &quot;secondary&quot;: &quot;rgb(103, 169, 207)&quot;, &quot;light&quot;: &quot;rgb(246, 239, 247)&quot;, &quot;dark&quot;: &quot;rgb(2, 129, 138)&quot;, &quot;enable-gradients&quot;: false}\" name=\"wg-palette\"> <meta content=\"width=device-width, initial-scale=1.0\" name=\"viewport\"> <meta content=\"Web Generator\" name=\"author\"> <meta content=\"3\" name=\"wg-layout\"> <link href=\"../css/custom-bootstrap.css\" rel=\"stylesheet\"> <link href=\"../css/wg-extras.css\" rel=\"stylesheet\"> <script src=\"../js/jquery-3.2.1.slim.min.js\" type=\"text/javascript\"></script> <script src=\"../js/bootstrap.min.js\" type=\"text/javascript\"></script> </head> <body class=\"bg-light\"> <div class=\"bg-light rounded\" id=\"full-wrapper\"> <nav class=\"bg-dark navbar-dark rounded navbar navbar-expand-md\" data-wg-type=\"navbar\"> <button class=\"navbar-toggler\" data-target=\"#main-nav\" data-toggle=\"collapse\" type=\"button\"> <span class=\"navbar-toggler-icon\"></span> </button> <div class=\"collapse navbar-collapse\" id=\"main-nav\" style=\"height: 9vh;\"> <ul class=\"navbar-nav ml-auto\"> <li class=\"nav-item\"> <a class=\"nav-link\" href=\"#\">Id duis dolor</a> </li> <li class=\"nav-item\"> <a class=\"nav-link\" href=\"#\">Ipsum tempor</a> </li> <li class=\"nav-item\"> <a class=\"nav-link\" href=\"#\">Do nulla qui</a> </li> <li class=\"nav-item\"> <a class=\"nav-link\" href=\"#\">Aliquip velit</a> </li> <li class=\"nav-item\"> <a class=\"nav-link\" href=\"#\">Aliquip culpa</a> </li> <li class=\"nav-item\"> <a class=\"nav-link\" href=\"#\">Consequat id</a> </li> </ul> </div> </nav> <header class=\"bg-dark text-white rounded d-flex align-items-center justify-content-center\" data-wg-type=\"header\" style=\"height: 29vh;\"> <h1 class=\"p-2 text-center\">Deserunt Incididunt In</h1> </header> <div class=\"d-flex\"> <div class=\"bg-dark text-white rounded\" data-wg-type=\"sidebar\" id=\"sidebar-wrapper\"> <div class=\"list-group list-group-flush\" style=\"width:28vh;\"> <a class=\"list-group-item list-group-item-action\" href=\"#\">Magna sint in</a> <a class=\"list-group-item list-group-item-action\" href=\"#\">Ullamco ex ad</a> <a class=\"list-group-item list-group-item-action\" href=\"#\">Sit excepteur</a> </div> </div> <div class=\"container-fluid py-3\" id=\"page-content\"> <div class=\"row wg-detect\" data-wg-type=\"cards\"> <div class=\"col\"> <div class=\"card-columns\"> <div class=\"text-black shadow card\"> <div class=\"card-body\"> <h5 class=\"card-title\">Eu ad consequat eu</h5> <p class=\"card-text\">Magna dolor esse nisi ullamco occaecat fugiat est</p> <div class=\"d-flex justify-content-between align-items-center\"> <div class=\"btn-group\"> <button class=\"btn btn-sm btn-outline-secondary\" type=\"button\">Lorem sint eu</button> </div> <small class=\"text-muted\">Nostrud amet</small> </div> </div> </div> <div class=\"text-black shadow card\"> <div class=\"card-body\"> <h5 class=\"card-title\">Fugiat exercitation</h5> <p class=\"card-text\">Elit est culpa consequat ipsum dolore dolor lorem</p> <div class=\"d-flex justify-content-between align-items-center\"> <div class=\"btn-group\"> <button class=\"btn btn-sm btn-outline-secondary\" type=\"button\">Nostrud sint</button> </div> <small class=\"text-muted\">Non cillum ad</small> </div> </div> </div> <div class=\"text-black shadow card\"> <div class=\"card-body\"> <h5 class=\"card-title\">Non sunt mollit ut</h5> <p class=\"card-text\">Exercitation excepteur pariatur ullamco esse nisi</p> <div class=\"d-flex justify-content-between align-items-center\"> <div class=\"btn-group\"> <button class=\"btn btn-sm btn-outline-secondary\" type=\"button\">Magna cillum</button> </div> <small class=\"text-muted\">Consectetur</small> </div> </div> </div> <div class=\"text-black shadow card\"> <div class=\"card-body\"> <h5 class=\"card-title\">Consequat quis sit</h5> <p class=\"card-text\">Voluptate minim nulla cupidatat deserunt cillum id</p> <div class=\"d-flex justify-content-between align-items-center\"> <div class=\"btn-group\"> <button class=\"btn btn-sm btn-outline-secondary\" type=\"button\">Sunt deserunt</button> </div> <small class=\"text-muted\">Ea aute qui</small> </div> </div> </div> </div> </div> </div> </div> <div class=\"m-3 wg-detect\" data-wg-type=\"tabs\"> <div class=\"nav nav-tabs\"> <a aria-controls=\"occaecat\" class=\"nav-item nav-link active\" data-toggle=\"tab\" href=\"#occaecat\" id=\"occaecat-tab\" role=\"tab\">Occaecat</a> <a aria-controls=\"aliquip\" class=\"nav-item nav-link\" data-toggle=\"tab\" href=\"#aliquip\" id=\"aliquip-tab\" role=\"tab\">Aliquip</a> </div> <div class=\"tab-content\"> <div aria-labelledby=\"occaecat\" class=\"tab-pane fade border p-3 show active\" id=\"occaecat\" role=\"tabpanel\">Consequat eu irure consequat sunt, nostrud enim duis enim laboris.</div> <div aria-labelledby=\"aliquip\" class=\"tab-pane fade border p-3\" id=\"aliquip\" role=\"tabpanel\">Ea aliquip anim aliquip.</div> </div> </div> </div> </div> </div> </body> </html>\n",
            "    Answer: <!DOCTYPE html> <html> <head> <title>Dominate</title> <meta content=\"{&quot;primary&quot;: &quot;rgb(118, 164, 229)&quot;, &quot;secondary&quot;: &quot;rgb(118, 66, 165)&quot;, &quot;light&quot;: &quot;rgb(230, 241, 241)&quot;, &quot;dark&quot;: &quot;rgb(54, 14, 36)&quot;, &quot;enable-gradients&quot;: true}\" name=\"wg-palette\"> <meta content=\"width=device-width, initial-scale=1.0\" name=\"viewport\"> <meta content=\"Web Generator\" name=\"author\"> <meta content=\"2\" name=\"wg-layout\"> <link href=\"../css/custom-bootstrap.css\" rel=\"stylesheet\"> <link href=\"../css/wg-extras.css\" rel=\"stylesheet\"> <script src=\"../js/jquery-3.2.1.slim.min.js\" type=\"text/javascript\"></script> <script src=\"../js/bootstrap.min.js\" type=\"text/javascript\"></script> </head> <body class=\"bg-gradient-dark\"> <div class=\"bg-gradient-light shadow\" id=\"full-wrapper\"> <nav class=\"bg-gradient-dark navbar-dark shadow navbar navbar-expand-md\" data-wg-type=\"navbar\"> <button class=\"navbar-toggler\" data-target=\"#main-nav\" data-toggle=\"collapse\" type=\"button\"> <span class=\"navbar-toggler-icon\"></span> </button> <div class=\"collapse navbar-collapse\" id=\"main-nav\" style=\"height: 6vh;\"> <ul class=\"navbar-nav ml-auto\"> <li class=\"nav-item\"> <a class=\"nav-link\" href=\"#\">Id duis dolor</a> </li> <li class=\"nav-item\"> <a class=\"nav-link\" href=\"#\">Ipsum tempor</a> </li> <li class=\"nav-item\"> <a class=\"nav-link\" href=\"#\">Do nulla qui</a> </li> <li class=\"nav-item\"> <a class=\"nav-link\" href=\"#\">Aliquip velit</a> </li> <li class=\"nav-item\"> <a class=\"nav-link\" href=\"#\">Aliquip culpa</a> </li> <li class=\"nav-item\"> <a class=\"nav-link\" href=\"#\">Consequat id</a> </li> </ul> </div> </nav> <header class=\"bg-gradient-primary shadow d-flex align-items-center justify-content-center\" data-wg-type=\"header\" style=\"height: 16vh;\"> <h1 class=\"p-2 text-center\">Deserunt Incididunt In</h1> </header> <div class=\"d-flex\"> <div class=\"bg-gradient-secondary text-white shadow\" data-wg-type=\"sidebar\" id=\"sidebar-wrapper\"> <div class=\"list-group list-group-flush\" style=\"width:22vh;\"> <a class=\"list-group-item list-group-item-action\" href=\"#\">Magna sint in</a> <a class=\"list-group-item list-group-item-action\" href=\"#\">Ullamco ex ad</a> <a class=\"list-group-item list-group-item-action\" href=\"#\">Sit excepteur</a> </div> </div> <div class=\"container-fluid py-3\" id=\"page-content\"> <div class=\"row wg-detect\" data-wg-type=\"cards\"> <div class=\"col\"> <div class=\"card-columns\"> <div class=\"text-black card\"> <div class=\"card-body\"> <h5 class=\"card-title\">Eu ad consequat eu</h5> <p class=\"card-text\">Magna dolor esse nisi ullamco occaecat fugiat est</p> <div class=\"d-flex justify-content-between align-items-center\"> <div class=\"btn-group\"> <button class=\"btn btn-sm btn-outline-secondary\" type=\"button\">Lorem sint eu</button> </div> <small class=\"text-muted\">Nostrud amet</small> </div> </div> </div> <div class=\"text-black card\"> <div class=\"card-body\"> <h5 class=\"card-title\">Fugiat exercitation</h5> <p class=\"card-text\">Elit est culpa consequat ipsum dolore dolor lorem</p> <div class=\"d-flex justify-content-between align-items-center\"> <div class=\"btn-group\"> <button class=\"btn btn-sm btn-outline-secondary\" type=\"button\">Nostrud sint</button> </div> <small class=\"text-muted\">Non cillum ad</small> </div> </div> </div> <div class=\"text-black card\"> <div class=\"card-body\"> <h5 class=\"card-title\">Non sunt mollit ut</h5> <p class=\"card-text\">Exercitation excepteur pariatur ullamco esse nisi</p> <div class=\"d-flex justify-content-between align-items-center\"> <div class=\"btn-group\"> <button class=\"btn btn-sm btn-outline-secondary\" type=\"button\">Magna cillum</button> </div> <small class=\"text-muted\">Consectetur</small> </div> </div> </div> <div class=\"text-black card\"> <div class=\"card-body\"> <h5 class=\"card-title\">Consequat quis sit</h5> <p class=\"card-text\">Voluptate minim nulla cupidatat deserunt cillum id</p> <div class=\"d-flex justify-content-between align-items-center\"> <div class=\"btn-group\"> <button class=\"btn btn-sm btn-outline-secondary\" type=\"button\">Sunt deserunt</button> </div> <small class=\"text-muted\">Ea aute qui</small> </div> </div> </div> </div> </div> </div> <div class=\"m-3 wg-detect\" data-wg-type=\"tabs\"> <div class=\"nav nav-tabs\"> <a aria-controls=\"occaecat\" class=\"nav-item nav-link active\" data-toggle=\"tab\" href=\"#occaecat\" id=\"occaecat-tab\" role=\"tab\">Occaecat</a> <a aria-controls=\"aliquip\" class=\"nav-item nav-link\" data-toggle=\"tab\" href=\"#aliquip\" id=\"aliquip-tab\" role=\"tab\">Aliquip</a> </div> <div class=\"tab-content\"> <div aria-labelledby=\"occaecat\" class=\"tab-pane fade border p-3 show active\" id=\"occaecat\" role=\"tabpanel\">Consequat eu irure consequat sunt, nostrud enim duis enim laboris.</div> <div aria-labelledby=\"aliquip\" class=\"tab-pane fade border p-3\" id=\"aliquip\" role=\"tabpanel\">Laborum enim adipiscing irure enim cupidatat, laborum laboris esse tempor labore, occaecat voluptate ex aliquip. Pariatur ad dolor quis. Irure duis reprehenderit quis ipsum minim aliqua.</div> </div> </div> </div> </div> </div> </body> </html>\n",
            "      Bleu: 0.96\n",
            "\n",
            "Prediction: <!DOCTYPE html> <html> <head> <title>Dominate</title> <meta content=\"{&quot;primary&quot;: &quot;rgb(189, 201, 225)&quot;, &quot;secondary&quot;: &quot;rgb(103, 169, 207)&quot;, &quot;light&quot;: &quot;rgb(246, 239, 247)&quot;, &quot;dark&quot;: &quot;rgb(2, 129, 138)&quot;, &quot;enable-gradients&quot;: false}\" name=\"wg-palette\"> <meta content=\"width=device-width, initial-scale=1.0\" name=\"viewport\"> <meta content=\"Web Generator\" name=\"author\"> <meta content=\"3\" name=\"wg-layout\"> <link href=\"../css/custom-bootstrap.css\" rel=\"stylesheet\"> <link href=\"../css/wg-extras.css\" rel=\"stylesheet\"> <script src=\"../js/jquery-3.2.1.slim.min.js\" type=\"text/javascript\"></script> <script src=\"../js/bootstrap.min.js\" type=\"text/javascript\"></script> </head> <body class=\"bg-light\"> <div class=\"bg-light rounded\" id=\"full-wrapper\"> <nav class=\"bg-dark navbar-dark rounded navbar navbar-expand-md\" data-wg-type=\"navbar\"> <button class=\"navbar-toggler\" data-target=\"#main-nav\" data-toggle=\"collapse\" type=\"button\"> <span class=\"navbar-toggler-icon\"></span> </button> <div class=\"collapse navbar-collapse\" id=\"main-nav\" style=\"height: 9vh;\"> <ul class=\"navbar-nav mx-auto\"> <li class=\"nav-item\"> <a class=\"nav-link\" href=\"#\">Excepteur ad</a> </li> <li class=\"nav-item\"> <a class=\"nav-link\" href=\"#\">Ullamco est in</a> </li> <li class=\"nav-item\"> <a class=\"nav-link\" href=\"#\">Quis ut velit</a> </li> <li class=\"nav-item\"> <a class=\"nav-link\" href=\"#\">Aliqua esse</a> </li> <li class=\"nav-item\"> <a class=\"nav-link\" href=\"#\">Cupidatat et</a> </li> <li class=\"nav-item\"> <a class=\"nav-link\" href=\"#\">Magna laboris</a> </li> </ul> </div> </nav> <header class=\"bg-dark text-white rounded d-flex align-items-center justify-content-center\" data-wg-type=\"header\" style=\"height: 39vh;\"> <h1 class=\"p-2 text-center\">Ullamco Sed Aliquip</h1> </header> <div class=\"d-flex\"> <div class=\"bg-dark text-white rounded\" data-wg-type=\"sidebar\" id=\"sidebar-wrapper\"> <div class=\"list-group list-group-flush\" style=\"width:28vh;\"> <a class=\"list-group-item list-group-item-action\" href=\"#\">Ut eu dolor</a> <a class=\"list-group-item list-group-item-action\" href=\"#\">Est commodo</a> <a class=\"list-group-item list-group-item-action\" href=\"#\">Enim ullamco</a> <a class=\"list-group-item list-group-item-action\" href=\"#\">Minim ipsum</a> <a class=\"list-group-item list-group-item-action\" href=\"#\">Exercitation</a> </div> </div> <div class=\"container-fluid py-3\" id=\"page-content\"> <form class=\"p-3\" data-wg-type=\"form\"> <div class=\"form-row\"> <div class=\"form-group col-md\"> <label for=\"elit\">Elit</label> <input class=\"custom-range\" data-wg-type=\"range\" id=\"elit\" type=\"range\"> </div> <div class=\"form-group col-md\"> <label for=\"elit_cillum_ipsum\">Elit cillum ipsum</label> <input class=\"form-control\" data-wg-type=\"time\" id=\"elit_cillum_ipsum\" type=\"time\"> </div> </div> <div class=\"form-row\"> <div class=\"form-group col-md\"> <label for=\"ex_ipsum\">Ex ipsum</label> <input class=\"form-control\" data-wg-type=\"text\" id=\"ex_ipsum\" type=\"text\"> </div> <div class=\"form-group col-md\"> <label for=\"ad_incididunt\">Ad incididunt</label> <input class=\"custom-range\" data-wg-type=\"range\" id=\"ad_incididunt\" type=\"range\"> </div> </div> <div class=\"form-group\"> <label for=\"voluptate_irure\">Voluptate irure</label> <input class=\"form-control\" data-wg-type=\"text\" id=\"voluptate_irure\" type=\"text\"> </div> <div class=\"form-row\"> <div class=\"form-group col-md\"> <label for=\"sunt_sit_occaecat\">Sunt sit occaecat</label> <select class=\"form-control\" data-wg-type=\"select\" id=\"sunt_sit_occaecat\"> <option>Do</option> <option>Ea</option> <option>Ea</option> <option>Ea</option> <option>Ea</option> <option>Ea</option> <option>Ea</option> <option>Ea</option> <option>Ea</option> <option>Ea</option> </select> </div> <div class=\"form-group col-md\"> <label for=\"aliqua_ex_consequat\">Aliqua ex consequat</label> <input class=\"form-control\" data-wg-type=\"text\" id=\"aliqua_ex_consequat\" type=\"text\"> </div> <div class=\"form-group col-md\"> <label for=\"nulla_velit_incididunt\">Nulla velit incididunt</label> <input class=\"form-control\" data-wg-type=\"text\" id=\"nulla_velit_incididunt\" type=\"text\"> </div> </div> <div class=\"form-group\"> <legend>Do id</legend> <div data-wg-type=\"radios\"> <div class=\"form-check\"> <input class=\"form-check-input\" id=\"do_id_minim\" name=\"do_id\" type=\"radio\"> <label class=\"form-check-label\" for=\"do_id_minim\">Minim</label> </div> <div class=\"form-check\"> <input class=\"form-check-input\" id=\"do_id_ex_sed\" name=\"do_id\" type=\"radio\"> <label class=\"form-check-label\" for=\"do_id_ex_sed\">Ex sed</label> </div> <div class=\"form-check\"> <input class=\"form-check-input\" id=\"do_id_voluptate\" name=\"do_id\" type=\"radio\"> <label class=\"form-check-label\" for=\"do_id_voluptate\">Voluptate</label> </div> <div class=\"form-check\"> <input class=\"form-check-input\" id=\"do_id_reprehenderit_voluptate\" name=\"do_id\" type=\"radio\"> <label class=\"form-check-label\" for=\"do_id_reprehenderit_voluptate\">Reprehenderit voluptate</label> </div> </div> </div> <div class=\"form-row\"> <div class=\"form-group col-md\"> <label for=\"veniam_occaecat_mollit\">Veniam occaecat mollit</label> <input class=\"form-control\" data-wg-type=\"date\" id=\"veniam_occaecat_mollit\" type=\"date\"> </div> <div class=\"form-group col-md\"> <label for=\"id_esse\">Id esse</label> <input class=\"form-control\" data-wg-type=\"text\" id=\"id_esse\" type=\"text\"> </div> <div class=\"form-group col-md\"> <label for=\"in\">In</label> <input class=\"form-control\" data-wg-type=\"text\" id=\"in\" type=\"text\"> </div> <div class=\"form-group col-md\"> <label for=\"nulla_consequat_sed\">Nulla consequat sed</label> <input class=\"form-control\" data-wg-type=\"text\" id=\"nulla_consequat_sed\" type=\"text\"> </div> </div> <div class=\"form-group\"> <label for=\"proident_dolor_ex\">Proident dolor ex</label> <input class=\"form-control\" data-wg-type=\"text\" id=\"proident_dolor_ex\" type=\"text\"> </div> <div class=\"form-group\"> <label for=\"aliquip_enim\">Aliquip enim</label> <input class=\"form-control\" data-wg-type=\"text\" id=\"aliquip_enim\" type=\"text\"> </div> <div class=\"form-row\"> <div class=\"form-group col-md\"> <label for=\"ad\">Ad</label> <input class=\"form-control\" data-wg-type=\"time\" id=\"ad\" type=\"time\"> </div> <div class=\"form-group col-md\"> <label for=\"cillum_labore_reprehenderit\">Cillum labore reprehenderit</label> <input class=\"form-control\" data-wg-type=\"text\" id=\"cillum_labore_reprehenderit\" type=\"text\"> </div> </div> </form> </div> </div> <footer class=\" rounded jumbotron mb-0\" data-wg-type=\"footer\" style=\"height: 22vh;\"> <div class=\"container\"> <span class=\"text-muted\">Ut est veniam id sint enim eiusmod culpa dolor in</span> </div> </footer> </div> </body> </html>\n",
            "    Answer: <!DOCTYPE html> <html> <head> <title>Dominate</title> <meta content=\"{&quot;primary&quot;: &quot;rgb(203, 146, 26)&quot;, &quot;secondary&quot;: &quot;rgb(151, 59, 28)&quot;, &quot;light&quot;: &quot;rgb(225, 253, 75)&quot;, &quot;dark&quot;: &quot;rgb(51, 20, 24)&quot;, &quot;enable-gradients&quot;: true}\" name=\"wg-palette\"> <meta content=\"width=device-width, initial-scale=1.0\" name=\"viewport\"> <meta content=\"Web Generator\" name=\"author\"> <meta content=\"3\" name=\"wg-layout\"> <link href=\"../css/custom-bootstrap.css\" rel=\"stylesheet\"> <link href=\"../css/wg-extras.css\" rel=\"stylesheet\"> <script src=\"../js/jquery-3.2.1.slim.min.js\" type=\"text/javascript\"></script> <script src=\"../js/bootstrap.min.js\" type=\"text/javascript\"></script> </head> <body class=\"bg-gradient-dark\"> <div class=\"bg-gradient-light rounded\" id=\"full-wrapper\"> <nav class=\"bg-gradient-dark navbar-dark rounded navbar navbar-expand-md\" data-wg-type=\"navbar\"> <button class=\"navbar-toggler\" data-target=\"#main-nav\" data-toggle=\"collapse\" type=\"button\"> <span class=\"navbar-toggler-icon\"></span> </button> <div class=\"collapse navbar-collapse\" id=\"main-nav\" style=\"height: 7vh;\"> <ul class=\"navbar-nav mx-auto\"> <li class=\"nav-item\"> <a class=\"nav-link\" href=\"#\">Excepteur ad</a> </li> <li class=\"nav-item\"> <a class=\"nav-link\" href=\"#\">Ullamco ad in</a> </li> <li class=\"nav-item\"> <a class=\"nav-link\" href=\"#\">Quis ut velit</a> </li> <li class=\"nav-item\"> <a class=\"nav-link\" href=\"#\">Aliqua esse</a> </li> <li class=\"nav-item\"> <a class=\"nav-link\" href=\"#\">Cupidatat et</a> </li> <li class=\"nav-item\"> <a class=\"nav-link\" href=\"#\">Magna laboris</a> </li> </ul> </div> </nav> <header class=\"bg-gradient-primary rounded d-flex align-items-center justify-content-center\" data-wg-type=\"header\" style=\"height: 21vh;\"> <h1 class=\"p-2 text-center\">Ullamco Sed Aliquip</h1> </header> <div class=\"d-flex\"> <div class=\"bg-gradient-secondary text-white rounded\" data-wg-type=\"sidebar\" id=\"sidebar-wrapper\"> <div class=\"list-group list-group-flush\" style=\"width:26vh;\"> <a class=\"list-group-item list-group-item-action\" href=\"#\">Ut eu dolor</a> <a class=\"list-group-item list-group-item-action\" href=\"#\">Elit commodo</a> <a class=\"list-group-item list-group-item-action\" href=\"#\">Enim ullamco</a> <a class=\"list-group-item list-group-item-action\" href=\"#\">Minim ipsum</a> <a class=\"list-group-item list-group-item-action\" href=\"#\">Exercitation</a> </div> </div> <div class=\"container-fluid py-3\" id=\"page-content\"> <form class=\"p-3\" data-wg-type=\"form\"> <div class=\"form-row\"> <div class=\"form-group col-md\"> <label for=\"elit\">Elit</label> <input class=\"custom-range\" data-wg-type=\"range\" id=\"elit\" type=\"range\"> </div> <div class=\"form-group col-md\"> <label for=\"elit_cillum_ipsum\">Elit cillum ipsum</label> <input class=\"form-control\" data-wg-type=\"time\" id=\"elit_cillum_ipsum\" type=\"time\"> </div> </div> <div class=\"form-row\"> <div class=\"form-group col-md\"> <label for=\"ex_ipsum\">Ex ipsum</label> <input class=\"form-control\" data-wg-type=\"number\" id=\"ex_ipsum\" type=\"number\"> </div> <div class=\"form-group col-md\"> <label for=\"ad_incididunt\">Ad incididunt</label> <input class=\"custom-range\" data-wg-type=\"range\" id=\"ad_incididunt\" type=\"range\"> </div> </div> <div class=\"form-group\"> <label for=\"voluptate_irure\">Voluptate irure</label> <input class=\"form-control\" data-wg-type=\"text\" id=\"voluptate_irure\" type=\"text\"> </div> <div class=\"form-row\"> <div class=\"form-group col-md\"> <label for=\"sunt_sit_occaecat\">Sunt sit occaecat</label> <select class=\"form-control\" data-wg-type=\"select\" id=\"sunt_sit_occaecat\"> <option>Do</option> <option>Nulla occaecat</option> </select> </div> <div class=\"form-group col-md\"> <label for=\"aliqua_ex_consequat\">Aliqua ex consequat</label> <input class=\"form-control\" data-wg-type=\"text\" id=\"aliqua_ex_consequat\" type=\"text\"> </div> <div class=\"form-group col-md\"> <label for=\"nulla_velit_incididunt\">Nulla velit incididunt</label> <input class=\"form-control\" data-wg-type=\"text\" id=\"nulla_velit_incididunt\" type=\"text\"> </div> </div> <div class=\"form-group\"> <legend>Do id</legend> <div data-wg-type=\"radios\"> <div class=\"form-check\"> <input class=\"form-check-input\" id=\"do_id_minim\" name=\"do_id\" type=\"radio\"> <label class=\"form-check-label\" for=\"do_id_minim\">Minim</label> </div> <div class=\"form-check\"> <input class=\"form-check-input\" id=\"do_id_ex_sed\" name=\"do_id\" type=\"radio\"> <label class=\"form-check-label\" for=\"do_id_ex_sed\">Ex sed</label> </div> <div class=\"form-check\"> <input class=\"form-check-input\" id=\"do_id_voluptate\" name=\"do_id\" type=\"radio\"> <label class=\"form-check-label\" for=\"do_id_voluptate\">Voluptate</label> </div> <div class=\"form-check\"> <input class=\"form-check-input\" id=\"do_id_reprehenderit_voluptate\" name=\"do_id\" type=\"radio\"> <label class=\"form-check-label\" for=\"do_id_reprehenderit_voluptate\">Reprehenderit voluptate</label> </div> </div> </div> <div class=\"form-row\"> <div class=\"form-group col-md\"> <label for=\"veniam_occaecat_mollit\">Veniam occaecat mollit</label> <input class=\"form-control\" data-wg-type=\"date\" id=\"veniam_occaecat_mollit\" type=\"date\"> </div> <div class=\"form-group col-md\"> <label for=\"id_esse\">Id esse</label> <input class=\"form-control\" data-wg-type=\"text\" id=\"id_esse\" type=\"text\"> </div> <div class=\"form-group col-md\"> <label for=\"in\">In</label> <input class=\"form-control\" data-wg-type=\"text\" id=\"in\" type=\"text\"> </div> <div class=\"form-group col-md\"> <label for=\"nulla_consequat_sed\">Nulla consequat sed</label> <input class=\"form-control\" data-wg-type=\"text\" id=\"nulla_consequat_sed\" type=\"text\"> </div> </div> <div class=\"form-group\"> <label for=\"proident_dolor_ex\">Proident dolor ex</label> <input class=\"form-control\" data-wg-type=\"text\" id=\"proident_dolor_ex\" type=\"text\"> </div> <div class=\"form-group\"> <label for=\"aliquip_enim\">Aliquip enim</label> <input class=\"form-control\" data-wg-type=\"text\" id=\"aliquip_enim\" type=\"text\"> </div> <div class=\"form-row\"> <div class=\"form-group col-md\"> <label for=\"ad\">Ad</label> <input class=\"form-control\" data-wg-type=\"time\" id=\"ad\" type=\"time\"> </div> <div class=\"form-group col-md\"> <label for=\"cillum_labore_reprehenderit\">Cillum labore reprehenderit</label> <input class=\"form-control\" data-wg-type=\"text\" id=\"cillum_labore_reprehenderit\" type=\"text\"> </div> </div> </form> </div> </div> <footer class=\" rounded jumbotron mb-0\" data-wg-type=\"footer\" style=\"height: 14vh;\"> <div class=\"container\"> <span class=\"text-muted\">Ut est veniam id sint enim eiusmod culpa dolor in</span> </div> </footer> </div> </body> </html>\n",
            "      Bleu: 0.93\n",
            "\n",
            "Prediction: <!DOCTYPE html> <html> <head> <title>Dominate</title> <meta content=\"{&quot;primary&quot;: &quot;rgb(243, 190, 133)&quot;, &quot;secondary&quot;: &quot;rgb(249, 133, 93)&quot;, &quot;light&quot;: &quot;rgb(233, 224, 190)&quot;, &quot;dark&quot;: &quot;rgb(233, 93, 249)&quot;, &quot;enable-gradients&quot;: false}\" name=\"wg-palette\"> <meta content=\"width=device-width, initial-scale=1.0\" name=\"viewport\"> <meta content=\"Web Generator\" name=\"author\"> <meta content=\"3\" name=\"wg-layout\"> <link href=\"../css/custom-bootstrap.css\" rel=\"stylesheet\"> <link href=\"../css/wg-extras.css\" rel=\"stylesheet\"> <script src=\"../js/jquery-3.2.1.slim.min.js\" type=\"text/javascript\"></script> <script src=\"../js/bootstrap.min.js\" type=\"text/javascript\"></script> </head> <body class=\"\"> <div class=\" rounded\" id=\"full-wrapper\"> <nav class=\"bg-light navbar-light rounded navbar navbar-expand-md\" data-wg-type=\"navbar\"> <a class=\"navbar-brand\" href=\"#\">Fugiat</a> <button class=\"navbar-toggler\" data-target=\"#main-nav\" data-toggle=\"collapse\" type=\"button\"> <span class=\"navbar-toggler-icon\"></span> </button> <div class=\"collapse navbar-collapse\" id=\"main-nav\" style=\"height: 9vh;\"> <ul class=\"navbar-nav ml-auto\"> <li class=\"nav-item\"> <a class=\"nav-link\" href=\"#\">Ut cillum qui</a> </li> <li class=\"nav-item\"> <a class=\"nav-link\" href=\"#\">Laborum qui</a> </li> </ul> </div> </nav> <div class=\"d-flex\"> <div class=\"container-fluid py-3\" id=\"page-content\"> <div class=\"row my-3 wg-detect\" data-wg-type=\"mix\"> <div class=\"col\"> <div class=\"wg-detect row align-items-center justify-content-center\" data-wg-type=\"call_to_action\"> <div class=\"col-10\"> <h1>Aliqua tempor dolor</h1> <p>Amet consectetur ea ut irure aliquip voluptate mollit id et fugiat est laboris elit nostrud dolor in</p> </div> <button class=\"btn btn-primary m-3\">Ipsum nisi id</button> </div> </div> <div class=\"col\"> <ol class=\"wg-detect\" data-wg-type=\"list\"> <li>Occaecat ex</li> <li>Tempor ipsum</li> <li>Labore ea ex</li> </ol> </div> </div> </div> </div> </div> </body> </html>\n",
            "    Answer: <!DOCTYPE html> <html> <head> <title>Dominate</title> <meta content=\"{&quot;primary&quot;: &quot;rgb(231, 241, 196)&quot;, &quot;secondary&quot;: &quot;rgb(228, 240, 184)&quot;, &quot;light&quot;: &quot;rgb(233, 240, 209)&quot;, &quot;dark&quot;: &quot;rgb(227, 239, 184)&quot;, &quot;enable-gradients&quot;: true}\" name=\"wg-palette\"> <meta content=\"width=device-width, initial-scale=1.0\" name=\"viewport\"> <meta content=\"Web Generator\" name=\"author\"> <meta content=\"4\" name=\"wg-layout\"> <link href=\"../css/custom-bootstrap.css\" rel=\"stylesheet\"> <link href=\"../css/wg-extras.css\" rel=\"stylesheet\"> <script src=\"../js/jquery-3.2.1.slim.min.js\" type=\"text/javascript\"></script> <script src=\"../js/bootstrap.min.js\" type=\"text/javascript\"></script> </head> <body class=\"\"> <div class=\" shadow-sm\" id=\"full-wrapper\"> <div class=\"d-flex\"> <div class=\"w-100\"> <nav class=\"bg-gradient-light navbar-light shadow-sm navbar navbar-expand-md\" data-wg-type=\"navbar\"> <a class=\"navbar-brand\" href=\"#\">Fugiat</a> <button class=\"navbar-toggler\" data-target=\"#main-nav\" data-toggle=\"collapse\" type=\"button\"> <span class=\"navbar-toggler-icon\"></span> </button> <div class=\"collapse navbar-collapse\" id=\"main-nav\" style=\"height: 6vh;\"> <ul class=\"navbar-nav ml-auto\"> <li class=\"nav-item\"> <a class=\"nav-link\" href=\"#\">Ut cillum qui</a> </li> <li class=\"nav-item\"> <a class=\"nav-link\" href=\"#\">Laborum qui</a> </li> </ul> </div> </nav> <div class=\"container-fluid py-3\" id=\"page-content\"> <div class=\"row my-3 wg-detect\" data-wg-type=\"mix\"> <div class=\"col\"> <div class=\"wg-detect row align-items-center justify-content-center\" data-wg-type=\"call_to_action\"> <div class=\"col-10\"> <h1>Aliqua tempor dolor</h1> <p>Amet consectetur ea ut irure aliquip voluptate mollit id et fugiat est laboris elit nostrud dolor in</p> </div> <button class=\"btn btn-primary m-3\">Ipsum nisi id</button> </div> </div> <div class=\"col\"> <ol class=\"wg-detect\" data-wg-type=\"list\"> <li>Occaecat ex</li> <li>Tempor ipsum</li> <li>Labore ea ex</li> </ol> </div> </div> </div> </div> </div> </div> </body> </html>\n",
            "      Bleu: 0.78\n",
            "\n",
            "Prediction: <!DOCTYPE html> <html> <head> <title>Dominate</title> <meta content=\"{&quot;primary&quot;: &quot;rgb(243, 190, 133)&quot;, &quot;secondary&quot;: &quot;rgb(249, 133, 93)&quot;, &quot;light&quot;: &quot;rgb(239, 249, 183)&quot;, &quot;dark&quot;: &quot;rgb(233, 93, 249)&quot;, &quot;enable-gradients&quot;: false}\" name=\"wg-palette\"> <meta content=\"width=device-width, initial-scale=1.0\" name=\"viewport\"> <meta content=\"Web Generator\" name=\"author\"> <meta content=\"2\" name=\"wg-layout\"> <link href=\"../css/custom-bootstrap.css\" rel=\"stylesheet\"> <link href=\"../css/wg-extras.css\" rel=\"stylesheet\"> <script src=\"../js/jquery-3.2.1.slim.min.js\" type=\"text/javascript\"></script> <script src=\"../js/bootstrap.min.js\" type=\"text/javascript\"></script> </head> <body class=\"\"> <div class=\" rounded\" id=\"full-wrapper\"> <div class=\"d-flex\"> <div class=\"w-100\"> <div class=\"container-fluid py-3\" id=\"page-content\"> <div class=\"row my-3 wg-detect\" data-wg-type=\"mix\"> <div class=\"col\"> <p class=\"wg-detect\" data-wg-type=\"paragraph\">Non aliqua qui ut cillum quis. Ex nulla lorem pariatur mollit ex eu, consectetur amet ad velit ad id consequat commodo. Cillum enim excepteur non officia elit sit ea. Laboris dolore nulla aliqua proident dolore sit nisi. Nisi incididunt consectetur quis aute incididunt. Sed esse ipsum nulla aute proident, pariatur quis nisi nulla magna ex, enim ullamco et nisi cupidatat magna.</p> </div> <div class=\"col\"> <p class=\"wg-detect\" data-wg-type=\"paragraph\">Minim laborum in pariatur ullamco pariatur commodo. Voluptate sit ad sed aliqua ullamco esse, in lorem ut excepteur lorem id quis dolore. Voluptate esse qui sit et nisi dolore. Occaecat exercitation quis quis commodo in id. Exercitation magna irure elit nostrud laboris aute. Consequat amet sit do mollit sint, eiusmod ut esse est sint dolore duis est. Reprehenderit sit ullamco fugiat enim non, cillum cillum dolor velit incididunt nostrud.</p> </div> <div class=\"col\"> <ul class=\"wg-detect\" data-wg-type=\"list\"> <li>Laborum anim</li> <li>Labore in et</li> <li>Nisi enim in</li> <li>Ex quis culpa</li> <li>Veniam mollit</li> </ul> </div> </div> <div class=\"row my-3 wg-detect\" data-wg-type=\"mix\"> <div class=\"col\"> <table class=\"bg-white table\" data-wg-type=\"table\"> <tr> <td>sit</td> <td>sint</td> <td>0</td> </tr> <tr> <td>aliqua</td> <td>ea</td> <td>0</td> </tr> <tr> <td>nostrud</td> <td>incididunt</td> <td>0</td> </tr> <tr> <td>elit</td> <td>ullamco</td> <td>0</td> </tr> </table> </div> <div class=\"col\"> <div class=\"wg-detect row align-items-center justify-content-center\" data-wg-type=\"call_to_action\"> <div class=\"col-10\"> <h1>Occaecat dolor sunt</h1> <p>Lorem ea cillum ex voluptate irure laboris elit cupidatat deserunt qui enim ad aute duis sit officia</p> </div> <button class=\"btn btn-primary m-3\">Sit eiusmod</button> </div> </div> </div> <div class=\"row my-3 wg-detect\" data-wg-type=\"mix\"> <div class=\"col\"> <ul class=\"wg-detect\" data-wg-type=\"list\"> <li>Excepteur sed</li> <li>Deserunt sunt</li> <li>Magna in duis</li> <li>Eiusmod tempor</li> <li>Consequat eu</li> </ul> </div> </div> <footer class=\" rounded jumbotron mb-0\" data-wg-type=\"footer\" style=\"height: 12vh;\"> <div class=\"container\"> <span class=\"text-muted\">Aliqua non sint reprehenderit laborum sed tempor</span> </div> </footer> </div> <div class=\"bg-light rounded\" data-wg-type=\"sidebar\" id=\"sidebar-wrapper\"> <div class=\"sidebar-heading\">Dolore</div> <div class=\"list-group list-group-flush\" style=\"width:28vh;\"> <a class=\"list-group-item list-group-item-action\" href=\"#\">Ex cupidatat</a> <a class=\"list-group-item list-group-item-action\" href=\"#\">Nostrud elit</a> </div> </div> </div> </body> </html>\n",
            "    Answer: <!DOCTYPE html> <html> <head> <title>Dominate</title> <meta content=\"{&quot;primary&quot;: &quot;rgb(251, 180, 185)&quot;, &quot;secondary&quot;: &quot;rgb(247, 104, 161)&quot;, &quot;light&quot;: &quot;rgb(254, 235, 226)&quot;, &quot;dark&quot;: &quot;rgb(174, 1, 126)&quot;, &quot;enable-gradients&quot;: false}\" name=\"wg-palette\"> <meta content=\"width=device-width, initial-scale=1.0\" name=\"viewport\"> <meta content=\"Web Generator\" name=\"author\"> <meta content=\"3\" name=\"wg-layout\"> <link href=\"../css/custom-bootstrap.css\" rel=\"stylesheet\"> <link href=\"../css/wg-extras.css\" rel=\"stylesheet\"> <script src=\"../js/jquery-3.2.1.slim.min.js\" type=\"text/javascript\"></script> <script src=\"../js/bootstrap.min.js\" type=\"text/javascript\"></script> </head> <body class=\"\"> <div class=\" shadow-lg\" id=\"full-wrapper\"> <div class=\"d-flex\"> <div class=\"container-fluid py-3\" id=\"page-content\"> <div class=\"row my-3 wg-detect\" data-wg-type=\"mix\"> <div class=\"col\"> <p class=\"wg-detect\" data-wg-type=\"paragraph\">Non aliqua qui ut cillum quis. Ex nulla tempor sunt mollit ex eu, consectetur amet ad velit ad id consequat commodo. Cillum anim excepteur non officia elit sit ea. Laboris dolore nulla aliqua proident dolore sit nisi. Nisi incididunt id consectetur quis aute incididunt. Sed esse ipsum nulla aute proident, pariatur quis nisi nulla magna ex, enim ullamco et nisi cupidatat magna.</p> </div> <div class=\"col\"> <p class=\"wg-detect\" data-wg-type=\"paragraph\">Minim laborum in pariatur ullamco non pariatur commodo. Voluptate sit ad sed aliqua ullamco esse, in lorem ut excepteur lorem id quis dolore. Voluptate esse qui sit et nisi dolore. Occaecat exercitation quis quis commodo in id. Exercitation magna irure elit nostrud laboris aute. Consequat amet sit do mollit sint, eiusmod ut esse est sint dolore duis est. Reprehenderit sit ullamco fugiat enim non, cillum cillum dolor velit incididunt nostrud.</p> </div> <div class=\"col\"> <ul class=\"wg-detect\" data-wg-type=\"list\"> <li>Laborum anim</li> <li>Labore in et</li> <li>Nisi enim in</li> <li>Ex quis culpa</li> <li>Veniam mollit</li> </ul> </div> </div> <div class=\"row my-3 wg-detect\" data-wg-type=\"mix\"> <div class=\"col\"> <table class=\"bg-white table-striped table\" data-wg-type=\"table\"> <tr> <td>sit</td> <td>sint</td> <td>0</td> </tr> <tr> <td>aliqua</td> <td>ea</td> <td>0</td> </tr> <tr> <td>nostrud</td> <td>incididunt</td> <td>0</td> </tr> <tr> <td>elit</td> <td>ullamco</td> <td>0</td> </tr> </table> </div> <div class=\"col\"> <div class=\"wg-detect row align-items-center justify-content-center\" data-wg-type=\"call_to_action\"> <div class=\"col-10\"> <h1>Occaecat dolor sunt</h1> <p>Lorem ea cillum ex voluptate irure laboris elit cupidatat deserunt qui enim ad aute duis sit officia</p> </div> <button class=\"btn btn-primary m-3\">Sit eiusmod</button> </div> </div> </div> <div class=\"row my-3 wg-detect\" data-wg-type=\"mix\"> <div class=\"col\"> <ul class=\"wg-detect\" data-wg-type=\"list\"> <li>Excepteur sed</li> <li>Deserunt sunt</li> <li>Magna in duis</li> <li>Veniam tempor</li> <li>Consequat eu</li> </ul> </div> </div> </div> <div class=\"bg-light shadow-lg\" data-wg-type=\"sidebar\" id=\"sidebar-wrapper\"> <div class=\"sidebar-heading\">Dolore</div> <div class=\"list-group list-group-flush\" style=\"width:29vh;\"> <a class=\"list-group-item list-group-item-action\" href=\"#\">Ex cupidatat</a> <a class=\"list-group-item list-group-item-action\" href=\"#\">Nostrud elit</a> </div> </div> </div> <footer class=\" shadow-lg jumbotron mb-0\" data-wg-type=\"footer\" style=\"height: 20vh;\"> <div class=\"container\"> <span class=\"text-muted\">Aliqua non sint reprehenderit laborum sed tempor</span> </div> </footer> </div> </body> </html>\n",
            "      Bleu: 0.77\n",
            " Avg Bleu Score: 0.91\n"
          ]
        },
        {
          "name": "stderr",
          "output_type": "stream",
          "text": [
            "Epoch 5/19 - train loop: 100%|██████████| 5125/5125 [1:05:55<00:00,  1.30it/s, loss=0.125]\n"
          ]
        },
        {
          "name": "stdout",
          "output_type": "stream",
          "text": [
            "Moving Avg Loss: 0.153\n"
          ]
        },
        {
          "name": "stderr",
          "output_type": "stream",
          "text": [
            "Epoch 6/19 - train loop: 100%|██████████| 5125/5125 [1:05:53<00:00,  1.30it/s, loss=0.271]\n"
          ]
        },
        {
          "name": "stdout",
          "output_type": "stream",
          "text": [
            "Moving Avg Loss: 0.139\n"
          ]
        },
        {
          "name": "stderr",
          "output_type": "stream",
          "text": [
            "Epoch 7/19 - train loop: 100%|██████████| 5125/5125 [1:05:49<00:00,  1.30it/s, loss=0.259]\n"
          ]
        },
        {
          "name": "stdout",
          "output_type": "stream",
          "text": [
            "Moving Avg Loss: 0.163\n"
          ]
        },
        {
          "name": "stderr",
          "output_type": "stream",
          "text": [
            "Epoch 8/19 - train loop: 100%|██████████| 5125/5125 [1:05:49<00:00,  1.30it/s, loss=0.0822]\n"
          ]
        },
        {
          "name": "stdout",
          "output_type": "stream",
          "text": [
            "Moving Avg Loss: 0.156\n"
          ]
        },
        {
          "name": "stderr",
          "output_type": "stream",
          "text": [
            "Epoch 9/19 - train loop: 100%|██████████| 5125/5125 [1:05:50<00:00,  1.30it/s, loss=0.0498]\n"
          ]
        },
        {
          "name": "stdout",
          "output_type": "stream",
          "text": [
            "Moving Avg Loss: 0.100\n"
          ]
        },
        {
          "name": "stderr",
          "output_type": "stream",
          "text": [
            "Epoch 9/19 - valid loop:  50%|█████     | 1/2 [05:32<05:32, 332.43s/it, bleu_score=0.86]"
          ]
        },
        {
          "name": "stdout",
          "output_type": "stream",
          "text": [
            "\n",
            "Prediction: <!DOCTYPE html> <html> <head> <title>Dominate</title> <meta content=\"{&quot;primary&quot;: &quot;rgb(248, 181, 139)&quot;, &quot;secondary&quot;: &quot;rgb(242, 133, 93)&quot;, &quot;light&quot;: &quot;rgb(253, 224, 197)&quot;, &quot;dark&quot;: &quot;rgb(235, 74, 64)&quot;, &quot;enable-gradients&quot;: false}\" name=\"wg-palette\"> <meta content=\"width=device-width, initial-scale=1.0\" name=\"viewport\"> <meta content=\"Web Generator\" name=\"author\"> <meta content=\"2\" name=\"wg-layout\"> <link href=\"../css/custom-bootstrap.css\" rel=\"stylesheet\"> <link href=\"../css/wg-extras.css\" rel=\"stylesheet\"> <script src=\"../js/jquery-3.2.1.slim.min.js\" type=\"text/javascript\"></script> <script src=\"../js/bootstrap.min.js\" type=\"text/javascript\"></script> </head> <body class=\"\"> <div class=\" rounded shadow-lg\" id=\"full-wrapper\"> <nav class=\"bg-light navbar-light rounded shadow-lg navbar navbar-expand-md\" data-wg-type=\"navbar\"> <a class=\"navbar-brand\" href=\"#\">Laboris</a> <button class=\"navbar-toggler\" data-target=\"#main-nav\" data-toggle=\"collapse\" type=\"button\"> <span class=\"navbar-toggler-icon\"></span> </button> <div class=\"collapse navbar-collapse\" id=\"main-nav\" style=\"height: 9vh;\"> <ul class=\"navbar-nav ml-auto\"> <li class=\"nav-item\"> <a class=\"nav-link\" href=\"#\">Laborum sed</a> </li> <li class=\"nav-item\"> <a class=\"nav-link\" href=\"#\">Occaecat do</a> </li> </ul> </div> </nav> <div class=\"d-flex\"> <div class=\"flex-grow-1\"> <div class=\"container-fluid py-3\" id=\"page-content\"> <div class=\"m-3 wg-detect\" data-wg-type=\"tabs\"> <div class=\"nav nav-tabs\"> <a aria-controls=\"est\" class=\"nav-item nav-link active\" data-toggle=\"tab\" href=\"#est\" id=\"est-tab\" role=\"tab\">Est</a> <a aria-controls=\"occaecat\" class=\"nav-item nav-link\" data-toggle=\"tab\" href=\"#occaecat\" id=\"occaecat-tab\" role=\"tab\">Occaecat</a> </div> <div class=\"tab-content\"> <div aria-labelledby=\"est\" class=\"tab-pane fade border p-3 show active\" id=\"est\" role=\"tabpanel\">Elit laboris labore eu exercitation nulla ipsum eiusmod. Dolore et ut reprehenderit. Magna sunt amet minim nostrud.</div> <div aria-labelledby=\"occaecat\" class=\"tab-pane fade border p-3\" id=\"occaecat\" role=\"tabpanel\">Esse aliquip aliquip aliqua.</div> </div> </div> <div class=\"row my-3 wg-detect\" data-wg-type=\"mix\"> <div class=\"col\"> <div class=\"text-dark wg-detect\" data-wg-type=\"collapse\" id=\"collapse-ele-1\"> <div class=\"card\"> <div class=\"card-header\" id=\"heading-excepteur-1\"> <button aria-controls=\"heading-excepteur-1\" class=\"btn btn-link collapsed\" data-target=\"#collapse-excepteur-1\" data-toggle=\"collapse\">Excepteur ad qui in.</button> </div> <div aria-labelledby=\"heading-excepteur-1\" class=\"collapse\" data-parent=\"#collapse-ele-1\" id=\"collapse-excepteur-1\"> <div class=\"card-body text-black\">Esse aliquip ullamco commodo. Dolore aliquip ullamco aliquip. Dolore aliquip ullamco aliquip. Dolore aliquip ullamco aliquip. Dolore aliquip commodo aliquip. Amet aliquip commodo aliquip.</div> </div> </div> <div class=\"card\"> <div class=\"card-header\" id=\"heading-nostrud-2\"> <button aria-controls=\"heading-nostrud-2\" class=\"btn btn-link collapsed\" data-target=\"#collapse-nostrud-2\" data-toggle=\"collapse\">Nostrud sed dolor ullamco nulla.</button> </div> <div aria-labelledby=\"heading-nostrud-2\" class=\"collapse\" data-parent=\"#collapse-ele-1\" id=\"collapse-nostrud-2\"> <div class=\"card-body text-black\">Esse aliquip ullamco aliquip. Amet aliquip commodo aliquip. Amet aliquip commodo aliquip. Dolore aliquip ullamco aliquip. Amet aliquip ullamco aliquip. Amet aliquip ullamco aliquip. Laboris aliquip commodo aliquip.</div> </div> </div> <div class=\"card\"> <div class=\"card-header\" id=\"heading-ipsum-3\"> <button aria-controls=\"heading-ipsum-3\" class=\"btn btn-link collapsed\" data-target=\"#collapse-ipsum-3\" data-toggle=\"collapse\">Ipsum et commodo aliquip pariatur sunt fugiat, aliqua occaecat voluptate ad.</button> </div> <div aria-labelledby=\"heading-ipsum-3\" class=\"collapse\" data-parent=\"#collapse-ele-1\" id=\"collapse-ipsum-3\"> <div class=\"card-body text-black\">Esse aliquip ullamco aliquip. Amet aliquip commodo aliquip. Dolore aliquip ullamco aliquip. Amet aliquip ullamco aliquip. Dolore aliquip ullamco aliquip. Amet aliquip commodo aliquip. Dolore aliquip ullamco aliquip. Amet aliquip ullamco aliquip.</div> </div> </div> </div> </div> <div class=\"col\"> <table class=\"bg-white table\" data-wg-type=\"table\"> <tr> <td>laboris</td> <td>ut</td> <td>non</td> <td>0</td> </tr> <tr> <td>duis</td> <td>anim</td> <td>nostrud</td> <td>0</td> </tr> <tr> <td>est</td> <td>aliqua</td> <td>id</td> <td>0</td> </tr> <tr> <td>duis</td> <td>ipsum</td> <td>excepteur</td> <td>0</td> </tr> <tr> <td>duis</td> <td>incididunt</td> <td>reprehenderit</td> <td>0</td> </tr> </table> </div> </div> </div> <footer class=\" rounded shadow-lg jumbotron mb-0\" data-wg-type=\"footer\" style=\"height: 16vh;\"> <div class=\"container\"> <span class=\"text-muted\">Voluptate proident do nisi dolore cillum esse qui</span> </div> </footer> </div> <div class=\"bg-light rounded shadow-lg\" data-wg-type=\"sidebar\" id=\"sidebar-wrapper\"> <div class=\"list-group list-group-flush\" style=\"width:22vh;\"> <a class=\"list-group-item list-group-item-action\" href=\"#\">Commodo id eu</a> <a class=\"list-group-item list-group-item-action\" href=\"#\">Quis ullamco</a> <a class=\"list-group-item list-group-item-action\" href=\"#\">Elit duis est</a> <a class=\"list-group-item list-group-item-action\" href=\"#\">Sint ex elit</a> </div> </div> </div> </div> </body> </html>\n",
            "    Answer: <!DOCTYPE html> <html> <head> <title>Dominate</title> <meta content=\"{&quot;primary&quot;: &quot;rgb(219, 245, 240)&quot;, &quot;secondary&quot;: &quot;rgb(245, 219, 225)&quot;, &quot;light&quot;: &quot;rgb(245, 240, 219)&quot;, &quot;dark&quot;: &quot;rgb(219, 225, 245)&quot;, &quot;enable-gradients&quot;: false}\" name=\"wg-palette\"> <meta content=\"width=device-width, initial-scale=1.0\" name=\"viewport\"> <meta content=\"Web Generator\" name=\"author\"> <meta content=\"2\" name=\"wg-layout\"> <link href=\"../css/custom-bootstrap.css\" rel=\"stylesheet\"> <link href=\"../css/wg-extras.css\" rel=\"stylesheet\"> <script src=\"../js/jquery-3.2.1.slim.min.js\" type=\"text/javascript\"></script> <script src=\"../js/bootstrap.min.js\" type=\"text/javascript\"></script> </head> <body class=\"bg-light\"> <div class=\"bg-light rounded shadow-sm\" id=\"full-wrapper\"> <nav class=\"bg-dark navbar-light rounded shadow-sm navbar navbar-expand-md\" data-wg-type=\"navbar\"> <a class=\"navbar-brand\" href=\"#\">Laboris</a> <button class=\"navbar-toggler\" data-target=\"#main-nav\" data-toggle=\"collapse\" type=\"button\"> <span class=\"navbar-toggler-icon\"></span> </button> <div class=\"collapse navbar-collapse\" id=\"main-nav\" style=\"height: 6vh;\"> <ul class=\"navbar-nav ml-auto\"> <li class=\"nav-item\"> <a class=\"nav-link\" href=\"#\">Laborum sed</a> </li> <li class=\"nav-item\"> <a class=\"nav-link\" href=\"#\">Occaecat do</a> </li> </ul> </div> </nav> <div class=\"d-flex\"> <div class=\"flex-grow-1\"> <div class=\"container-fluid py-3\" id=\"page-content\"> <div class=\"m-3 wg-detect\" data-wg-type=\"tabs\"> <div class=\"nav nav-tabs\"> <a aria-controls=\"est\" class=\"nav-item nav-link active\" data-toggle=\"tab\" href=\"#est\" id=\"est-tab\" role=\"tab\">Est</a> <a aria-controls=\"lorem\" class=\"nav-item nav-link\" data-toggle=\"tab\" href=\"#lorem\" id=\"lorem-tab\" role=\"tab\">Lorem</a> <a aria-controls=\"occaecat\" class=\"nav-item nav-link\" data-toggle=\"tab\" href=\"#occaecat\" id=\"occaecat-tab\" role=\"tab\">Occaecat</a> <a aria-controls=\"incididunt\" class=\"nav-item nav-link\" data-toggle=\"tab\" href=\"#incididunt\" id=\"incididunt-tab\" role=\"tab\">Incididunt</a> </div> <div class=\"tab-content\"> <div aria-labelledby=\"est\" class=\"tab-pane fade border p-3 show active\" id=\"est\" role=\"tabpanel\">Elit laboris labore eu exercitation nulla ipsum eiusmod. Dolore et ut reprehenderit. Magna sunt amet minim nostrud.</div> <div aria-labelledby=\"lorem\" class=\"tab-pane fade border p-3\" id=\"lorem\" role=\"tabpanel\">Duis tempor aliqua aute. Commodo officia minim dolore ipsum.</div> <div aria-labelledby=\"occaecat\" class=\"tab-pane fade border p-3\" id=\"occaecat\" role=\"tabpanel\">Quis reprehenderit deserunt ut consectetur, consequat ut sit labore magna irure in deserunt, nisi aliqua ut sint. Est occaecat excepteur in elit aliqua sed ut, do voluptate ex commodo minim deserunt irure eu.</div> <div aria-labelledby=\"incididunt\" class=\"tab-pane fade border p-3\" id=\"incididunt\" role=\"tabpanel\">Officia mollit pariatur amet commodo velit. Non et incididunt sunt sed qui fugiat.</div> </div> </div> <div class=\"row my-3 wg-detect\" data-wg-type=\"mix\"> <div class=\"col\"> <div class=\"text-dark wg-detect\" data-wg-type=\"collapse\" id=\"collapse-ele-1\"> <div class=\"card\"> <div class=\"card-header\" id=\"heading-excepteur-1\"> <button aria-controls=\"heading-excepteur-1\" class=\"btn btn-link collapsed\" data-target=\"#collapse-excepteur-1\" data-toggle=\"collapse\">Excepteur ad qui in.</button> </div> <div aria-labelledby=\"heading-excepteur-1\" class=\"collapse\" data-parent=\"#collapse-ele-1\" id=\"collapse-excepteur-1\"> <div class=\"card-body text-black\">Ipsum cupidatat voluptate eu. Mollit commodo qui amet eiusmod minim aliquip dolor, qui in elit veniam eu excepteur. Laboris amet nulla laboris ullamco eu et, reprehenderit sint in magna. Sunt ex exercitation ullamco sed incididunt. Magna cupidatat ullamco dolor officia sit. Ea voluptate labore sed excepteur. Laborum non laborum quis eiusmod laborum, duis minim nostrud et fugiat minim. Voluptate fugiat veniam exercitation aliquip. Sit in duis sed esse id eu eiusmod. Sit nulla cupidatat sit mollit cupidatat ea ullamco.</div> </div> </div> <div class=\"card\"> <div class=\"card-header\" id=\"heading-nostrud-2\"> <button aria-controls=\"heading-nostrud-2\" class=\"btn btn-link collapsed\" data-target=\"#collapse-nostrud-2\" data-toggle=\"collapse\">Nostrud sed dolor ullamco nulla.</button> </div> <div aria-labelledby=\"heading-nostrud-2\" class=\"collapse\" data-parent=\"#collapse-ele-1\" id=\"collapse-nostrud-2\"> <div class=\"card-body text-black\">Fugiat id duis non ex. Officia lorem minim irure, id enim pariatur laborum qui culpa irure ipsum. Deserunt in tempor qui aute sit nostrud laboris, deserunt cillum veniam lorem irure est lorem qui. Ex elit dolore ut, do commodo irure culpa exercitation, mollit irure amet commodo commodo cupidatat et. Aliqua dolore duis laboris. Aute enim sunt veniam anim veniam. Nisi consectetur consectetur nulla id. In in excepteur nostrud anim. Enim dolor eiusmod sint id ex non, sit ex voluptate exercitation exercitation. Ut sint minim quis exercitation adipiscing qui.</div> </div> </div> <div class=\"card\"> <div class=\"card-header\" id=\"heading-ipsum-3\"> <button aria-controls=\"heading-ipsum-3\" class=\"btn btn-link collapsed\" data-target=\"#collapse-ipsum-3\" data-toggle=\"collapse\">Ipsum et commodo aliquip pariatur sunt fugiat, aliqua occaecat voluptate ad.</button> </div> <div aria-labelledby=\"heading-ipsum-3\" class=\"collapse\" data-parent=\"#collapse-ele-1\" id=\"collapse-ipsum-3\"> <div class=\"card-body text-black\">Fugiat et ex magna. Eu sunt ut pariatur ad ad. Eu aliquip elit do labore sit laborum voluptate, do tempor et minim nisi amet nulla. Est et nostrud in est nisi exercitation sed. In exercitation cupidatat excepteur. Do sed ad nostrud. Dolore sed ut nisi. Enim laboris nisi reprehenderit sunt nisi mollit sunt. Mollit sunt aliqua occaecat dolor est.</div> </div> </div> </div> </div> <div class=\"col\"> <table class=\"bg-white table-striped table\" data-wg-type=\"table\"> <tr> <td>laboris</td> <td>ut</td> <td>non</td> <td>0</td> </tr> <tr> <td>duis</td> <td>anim</td> <td>nostrud</td> <td>0</td> </tr> <tr> <td>est</td> <td>aliqua</td> <td>id</td> <td>0</td> </tr> <tr> <td>duis</td> <td>ipsum</td> <td>excepteur</td> <td>0</td> </tr> <tr> <td>duis</td> <td>incididunt</td> <td>reprehenderit</td> <td>0</td> </tr> </table> </div> </div> </div> <footer class=\" rounded shadow-sm jumbotron mb-0\" data-wg-type=\"footer\" style=\"height: 29vh;\"> <div class=\"container\"> <span class=\"text-muted\">Voluptate proident do nisi dolore cillum esse qui</span> </div> </footer> </div> <div class=\"bg-dark rounded shadow-sm\" data-wg-type=\"sidebar\" id=\"sidebar-wrapper\"> <div class=\"list-group list-group-flush\" style=\"width:26vh;\"> <a class=\"list-group-item list-group-item-action\" href=\"#\">Commodo id eu</a> <a class=\"list-group-item list-group-item-action\" href=\"#\">Quis ullamco</a> <a class=\"list-group-item list-group-item-action\" href=\"#\">Elit duis est</a> <a class=\"list-group-item list-group-item-action\" href=\"#\">Sint ex elit</a> </div> </div> </div> </div> </body> </html>\n",
            "      Bleu: 0.69\n",
            "\n",
            "Prediction: <!DOCTYPE html> <html> <head> <title>Dominate</title> <meta content=\"{&quot;primary&quot;: &quot;rgb(189, 215, 231)&quot;, &quot;secondary&quot;: &quot;rgb(107, 174, 214)&quot;, &quot;light&quot;: &quot;rgb(239, 243, 255)&quot;, &quot;dark&quot;: &quot;rgb(33, 113, 181)&quot;, &quot;enable-gradients&quot;: false}\" name=\"wg-palette\"> <meta content=\"width=device-width, initial-scale=1.0\" name=\"viewport\"> <meta content=\"Web Generator\" name=\"author\"> <meta content=\"4\" name=\"wg-layout\"> <link href=\"../css/custom-bootstrap.css\" rel=\"stylesheet\"> <link href=\"../css/wg-extras.css\" rel=\"stylesheet\"> <script src=\"../js/jquery-3.2.1.slim.min.js\" type=\"text/javascript\"></script> <script src=\"../js/bootstrap.min.js\" type=\"text/javascript\"></script> </head> <body class=\"\"> <div class=\" rounded shadow-lg\" id=\"full-wrapper\"> <div class=\"d-flex\"> <div class=\"w-100\"> <nav class=\"bg-light navbar-light rounded shadow-lg navbar navbar-expand-md\" data-wg-type=\"navbar\"> <a class=\"navbar-brand\" href=\"#\">Laboris</a> <button class=\"navbar-toggler\" data-target=\"#main-nav\" data-toggle=\"collapse\" type=\"button\"> <span class=\"navbar-toggler-icon\"></span> </button> <div class=\"collapse navbar-collapse\" id=\"main-nav\" style=\"height: 9vh;\"> <ul class=\"navbar-nav ml-auto\"> <li class=\"nav-item\"> <a class=\"nav-link\" href=\"#\">Dolore ad do</a> </li> <li class=\"nav-item\"> <a class=\"nav-link\" href=\"#\">Esse ullamco</a> </li> <li class=\"nav-item\"> <a class=\"nav-link\" href=\"#\">Voluptate est</a> </li> <li class=\"nav-item\"> <a class=\"nav-link\" href=\"#\">Lorem ea ex</a> </li> <li class=\"nav-item\"> <a class=\"nav-link\" href=\"#\">Reprehenderit</a> </li> </ul> </div> </nav> <header class=\"bg-secondary text-white rounded shadow-lg d-flex align-items-center justify-content-center\" data-wg-type=\"header\" style=\"height: 21vh;\"> <h1 class=\"p-2 text-center\">Aliqua Dolore Nisi Cillum Elit Do</h1> </header> <div class=\"container-fluid py-3\" id=\"page-content\"> <div class=\"row my-3 wg-detect\" data-wg-type=\"mix\"> <div class=\"col\"> <h1 class=\"wg-detect\" data-wg-type=\"heading\">Irure sint lorem occaecat.</h1> </div> <div class=\"col\"> <ol class=\"wg-detect\" data-wg-type=\"list\"> <li>Sunt id aute</li> <li>Dolore irure</li> <li>Sunt amet id</li> <li>Lorem tempor</li> <li>Tempor lorem</li> <li>Aliquip nulla</li> </ol> </div> </div> <div class=\"m-3 wg-detect\" data-wg-type=\"tabs\"> <div class=\"nav nav-tabs\"> <a aria-controls=\"sunt\" class=\"nav-item nav-link active\" data-toggle=\"tab\" href=\"#sunt\" id=\"sunt-tab\" role=\"tab\">Sunt</a> <a aria-controls=\"ut\" class=\"nav-item nav-link\" data-toggle=\"tab\" href=\"#ut\" id=\"ut-tab\" role=\"tab\">Ut</a> <a aria-controls=\"est\" class=\"nav-item nav-link\" data-toggle=\"tab\" href=\"#est\" id=\"est-tab\" role=\"tab\">Est</a> <a aria-controls=\"elit\" class=\"nav-item nav-link\" data-toggle=\"tab\" href=\"#elit\" id=\"elit-tab\" role=\"tab\">Elit</a> </div> <div class=\"tab-content\"> <div aria-labelledby=\"sunt\" class=\"tab-pane fade border p-3 show active\" id=\"sunt\" role=\"tabpanel\">Ex dolor fugiat aliquip proident nostrud, aute qui anim ut non commodo labore. Anim duis eu veniam lorem laborum.</div> <div aria-labelledby=\"ut\" class=\"tab-pane fade border p-3\" id=\"ut\" role=\"tabpanel\">Esse aliquip aliquip aliquip.</div> <div aria-labelledby=\"est\" class=\"tab-pane fade border p-3\" id=\"est\" role=\"tabpanel\">Eiusmod aliquip aliquip aliquip.</div> <div aria-labelledby=\"elit\" class=\"tab-pane fade border p-3\" id=\"elit\" role=\"tabpanel\">Eiusmod aliquip aliquip aliquip.</div> </div> </div> <div class=\"row my-3 wg-detect\" data-wg-type=\"mix\"> <div class=\"col\"> <h1 class=\"wg-detect\" data-wg-type=\"heading\">Officia exercitation elit anim cillum.</h1> </div> <div class=\"col\"> <p class=\"wg-detect\" data-wg-type=\"paragraph\">Et cillum magna consequat dolore nostrud nulla nisi. Consectetur do et dolor laborum nostrud, non id cupidatat laborum cillum qui ad non. Duis tempor ex reprehenderit cillum deserunt, do dolore nisi sed pariatur ut enim. Voluptate voluptate enim adipiscing ad commodo non, fugiat nostrud amet qui occaecat consequat. Quis officia ex cupidatat dolore mollit magna exercitation, id ipsum ea enim consequat non amet. Incididunt eiusmod deserunt sit velit officia pariatur ipsum.</p> </div> <div class=\"col\"> <h1 class=\"wg-detect\" data-wg-type=\"heading\">Dolor sit pariatur aute.</h1> </div> </div> </div> </div> <div class=\"bg-light\" data-wg-type=\"sidebar\" id=\"sidebar-wrapper\"> <div class=\"sidebar-heading\">Do</div> <div class=\"list-group list-group-flush\" style=\"width:28vh;\"> <a class=\"list-group-item list-group-item-action\" href=\"#\">Laborum ut et</a> <a class=\"list-group-item list-group-item-action\" href=\"#\">Incididunt ad</a> </div> </div> </div> </body> </html>\n",
            "    Answer: <!DOCTYPE html> <html> <head> <title>Dominate</title> <meta content=\"{&quot;primary&quot;: &quot;rgb(239, 205, 171)&quot;, &quot;secondary&quot;: &quot;rgb(188, 102, 15)&quot;, &quot;light&quot;: &quot;rgb(240, 213, 186)&quot;, &quot;dark&quot;: &quot;rgb(100, 56, 11)&quot;, &quot;enable-gradients&quot;: false}\" name=\"wg-palette\"> <meta content=\"width=device-width, initial-scale=1.0\" name=\"viewport\"> <meta content=\"Web Generator\" name=\"author\"> <meta content=\"4\" name=\"wg-layout\"> <link href=\"../css/custom-bootstrap.css\" rel=\"stylesheet\"> <link href=\"../css/wg-extras.css\" rel=\"stylesheet\"> <script src=\"../js/jquery-3.2.1.slim.min.js\" type=\"text/javascript\"></script> <script src=\"../js/bootstrap.min.js\" type=\"text/javascript\"></script> </head> <body class=\"\"> <div class=\" rounded shadow-sm\" id=\"full-wrapper\"> <div class=\"d-flex\"> <div class=\"w-100\"> <nav class=\"bg-light navbar-light rounded shadow-sm navbar navbar-expand-md\" data-wg-type=\"navbar\"> <a class=\"navbar-brand\" href=\"#\">Laboris</a> <button class=\"navbar-toggler\" data-target=\"#main-nav\" data-toggle=\"collapse\" type=\"button\"> <span class=\"navbar-toggler-icon\"></span> </button> <div class=\"collapse navbar-collapse\" id=\"main-nav\" style=\"height: 5vh;\"> <ul class=\"navbar-nav mx-auto\"> <li class=\"nav-item\"> <a class=\"nav-link\" href=\"#\">Dolore ad do</a> </li> <li class=\"nav-item\"> <a class=\"nav-link\" href=\"#\">Esse ullamco</a> </li> <li class=\"nav-item\"> <a class=\"nav-link\" href=\"#\">Voluptate est</a> </li> <li class=\"nav-item\"> <a class=\"nav-link\" href=\"#\">Lorem ea ex</a> </li> <li class=\"nav-item\"> <a class=\"nav-link\" href=\"#\">Reprehenderit</a> </li> </ul> </div> </nav> <header class=\"bg-secondary text-white rounded shadow-sm d-flex align-items-center justify-content-center\" data-wg-type=\"header\" style=\"height: 22vh;\"> <h1 class=\"p-2 text-center\">Aliqua Dolore Nisi Cillum Elit Do</h1> </header> <div class=\"container-fluid py-3\" id=\"page-content\"> <div class=\"row my-3 wg-detect\" data-wg-type=\"mix\"> <div class=\"col\"> <h1 class=\"wg-detect\" data-wg-type=\"heading\">Irure sint lorem occaecat.</h1> </div> <div class=\"col\"> <ol class=\"wg-detect\" data-wg-type=\"list\"> <li>Sunt id aute</li> <li>Dolore irure</li> <li>Sunt amet id</li> <li>Lorem tempor</li> <li>Tempor lorem</li> <li>Aliquip nulla</li> </ol> </div> </div> <div class=\"m-3 wg-detect\" data-wg-type=\"tabs\"> <div class=\"nav nav-tabs\"> <a aria-controls=\"sunt\" class=\"nav-item nav-link active\" data-toggle=\"tab\" href=\"#sunt\" id=\"sunt-tab\" role=\"tab\">Sunt</a> <a aria-controls=\"ut\" class=\"nav-item nav-link\" data-toggle=\"tab\" href=\"#ut\" id=\"ut-tab\" role=\"tab\">Ut</a> <a aria-controls=\"est\" class=\"nav-item nav-link\" data-toggle=\"tab\" href=\"#est\" id=\"est-tab\" role=\"tab\">Est</a> <a aria-controls=\"elit\" class=\"nav-item nav-link\" data-toggle=\"tab\" href=\"#elit\" id=\"elit-tab\" role=\"tab\">Elit</a> </div> <div class=\"tab-content\"> <div aria-labelledby=\"sunt\" class=\"tab-pane fade border p-3 show active\" id=\"sunt\" role=\"tabpanel\">Ex dolor fugiat aliquip proident nostrud, aute qui anim ut non commodo labore. Anim duis eu veniam lorem laborum.</div> <div aria-labelledby=\"ut\" class=\"tab-pane fade border p-3\" id=\"ut\" role=\"tabpanel\">Labore in nostrud proident ipsum sit.</div> <div aria-labelledby=\"est\" class=\"tab-pane fade border p-3\" id=\"est\" role=\"tabpanel\">Aute consectetur pariatur ut non sed, reprehenderit do lorem excepteur id eu. Sit ex laborum aliqua duis incididunt incididunt, ea ex ad ut qui.</div> <div aria-labelledby=\"elit\" class=\"tab-pane fade border p-3\" id=\"elit\" role=\"tabpanel\">Eu sed exercitation occaecat officia cupidatat, non non elit qui duis lorem et.</div> </div> </div> <div class=\"row my-3 wg-detect\" data-wg-type=\"mix\"> <div class=\"col\"> <h1 class=\"wg-detect\" data-wg-type=\"heading\">Officia exercitation elit anim cillum.</h1> </div> <div class=\"col\"> <p class=\"wg-detect\" data-wg-type=\"paragraph\">Et cillum magna consequat dolore nostrud nulla nisi. Consectetur do et dolor laborum nostrud, non id cupidatat laborum cillum qui ad non. Duis tempor ex reprehenderit cillum deserunt, do dolore nisi sed pariatur ut enim. Voluptate voluptate enim adipiscing ad commodo non, fugiat nostrud amet qui occaecat consequat. Quis officia ex cupidatat dolore mollit magna exercitation, id ipsum ea enim consequat non amet. Incididunt eiusmod deserunt sit velit officia pariatur ipsum.</p> </div> <div class=\"col\"> <h1 class=\"wg-detect\" data-wg-type=\"heading\">Dolor sit pariatur aute.</h1> </div> </div> </div> </div> <div class=\"bg-light rounded shadow-sm\" data-wg-type=\"sidebar\" id=\"sidebar-wrapper\"> <div class=\"sidebar-heading\">Do</div> <div class=\"list-group list-group-flush\" style=\"width:23vh;\"> <a class=\"list-group-item list-group-item-action\" href=\"#\">Laborum ut et</a> <a class=\"list-group-item list-group-item-action\" href=\"#\">Incididunt ad</a> </div> </div> </div> </div> </body> </html>\n",
            "      Bleu: 0.94\n",
            "\n",
            "Prediction: <!DOCTYPE html> <html> <head> <title>Dominate</title> <meta content=\"{&quot;primary&quot;: &quot;rgb(248, 181, 139)&quot;, &quot;secondary&quot;: &quot;rgb(242, 133, 93)&quot;, &quot;light&quot;: &quot;rgb(253, 224, 197)&quot;, &quot;dark&quot;: &quot;rgb(235, 74, 64)&quot;, &quot;enable-gradients&quot;: false}\" name=\"wg-palette\"> <meta content=\"width=device-width, initial-scale=1.0\" name=\"viewport\"> <meta content=\"Web Generator\" name=\"author\"> <meta content=\"3\" name=\"wg-layout\"> <link href=\"../css/custom-bootstrap.css\" rel=\"stylesheet\"> <link href=\"../css/wg-extras.css\" rel=\"stylesheet\"> <script src=\"../js/jquery-3.2.1.slim.min.js\" type=\"text/javascript\"></script> <script src=\"../js/bootstrap.min.js\" type=\"text/javascript\"></script> </head> <body class=\"\"> <div class=\" rounded\" id=\"full-wrapper\"> <nav class=\"bg-light navbar-light rounded navbar navbar-expand-md\" data-wg-type=\"navbar\"> <button class=\"navbar-toggler\" data-target=\"#main-nav\" data-toggle=\"collapse\" type=\"button\"> <span class=\"navbar-toggler-icon\"></span> </button> <div class=\"collapse navbar-collapse\" id=\"main-nav\" style=\"height: 9vh;\"> <ul class=\"navbar-nav mr-auto\"> <li class=\"nav-item\"> <a class=\"nav-link\" href=\"#\">Esse commodo</a> </li> <li class=\"nav-item\"> <a class=\"nav-link\" href=\"#\">Enim nostrud</a> </li> <li class=\"nav-item\"> <a class=\"nav-link\" href=\"#\">Eiusmod amet</a> </li> <li class=\"nav-item\"> <a class=\"nav-link\" href=\"#\">Eiusmod amet</a> </li> </ul> </div> </nav> <div class=\"d-flex\"> <div class=\"container-fluid py-3\" id=\"page-content\"> <div class=\"wg-detect\" data-wg-type=\"descriptive_items\"> <div class=\"row\"> <div class=\"col\"> <h2>Excepteur dolor qui commodo.</h2> <p><br> <span class=\"mx-auto m-2 shadow placeholder\" data-wg-type=\"image\" style=\"width: 281px;height: 211px;\"> <span>281x211</span> </span> <span data-wg-type=\"text_area\">Cupidatat magna fugiat id ex minim id, ut quis consequat enim proident non magna, consequat culpa non minim ex. Commodo lorem pariatur voluptate dolor. Esse cillum aute ea nulla tempor dolore, non commodo in reprehenderit reprehenderit. Culpa laboris lorem aliquip. Velit minim quis minim ex nostrud cillum, tempor id ipsum id eu laborum eu. Cupidatat pariatur sed et non commodo enim voluptate. Excepteur laboris magna magna. Mollit pariatur elit laboris do deserunt. Culpa deserunt nisi adipiscing id ex irure mollit. Id minim pariatur laboris velit incididunt. Amet reprehenderit proident nisi est, cillum deserunt eiusmod dolor. Ex in reprehenderit magna consectetur est mollit. Ea elit sit magna irure et adipiscing. Adipiscing culpa ipsum fugiat velit duis dolore occaecat. Adipiscing dolor veniam non fugiat ex velit, aliqua voluptate voluptate do fugiat.</span> </p> </div> </div> <div class=\"row\"> <div class=\"col\"> <h2>Amet consequat aute consectetur id et qui.</h2> <p><br> <span class=\"mx-auto m-2 shadow placeholder\" data-wg-type=\"image\" style=\"width: 281px;height: 211px;\"> <span>281x211</span> </span> <span data-wg-type=\"text_area\">Esse anim sint amet qui eu. Est amet esse ea. Magna do pariatur veniam dolore, tempor eiusmod aliqua est labore sit eu dolor, in deserunt incididunt dolore est. Laborum fugiat irure sint. Elit ad duis incididunt ipsum officia sint. Excepteur reprehenderit exercitation sunt consequat proident esse, magna proident do qui qui officia. Magna elit magna ex sint irure. Duis sed elit anim deserunt, esse proident commodo quis elit reprehenderit. Tempor aliqua pariatur proident esse labore excepteur. Laboris nulla occaecat sit, magna sed magna est. Culpa sed adipiscing pariatur esse exercitation quis, culpa cupidatat ipsum sit, occaecat commodo consectetur ut ex. Laborum irure enim culpa incididunt pariatur, laborum commodo sint nulla. Proident aliquip minim. Sunt elit officia culpa voluptate. Non adipiscing ut ipsum, excepteur exercitation do ipsum, nisi tempor ut amet nisi adipiscing commodo. Labore est ex eiusmod ea eu quis.</span> </p> </div> </div> <div class=\"row\"> <div class=\"col\"> <h2>Sed est nostrud nisi ipsum qui.</h2> <p><br> <span class=\"mx-auto m-2 shadow placeholder\" data-wg-type=\"image\" style=\"width: 281px;height: 211px;\"> <span>281x211</span> </span> <span data-wg-type=\"text_area\">Sunt quis velit dolore lorem labore. Excepteur tempor excepteur amet cupidatat. Velit sunt sit proident sint excepteur occaecat dolore. Deserunt eu non et irure. Laboris sint laboris elit. Consequat excepteur excepteur ex nulla nostrud dolor in, sunt minim est quis laboris id irure. Dolore nisi amet nostrud dolore elit laborum. Duis nulla lorem esse deserunt culpa amet excepteur. Ex nostrud exercitation eu nulla nostrud labore in, deserunt minim est laboris id irure. Dolore nisi amet excepteur. Commodo pariatur nulla nostrud aliqua id. Deserunt reprehenderit voluptate anim sunt. Eiusmod cupidatat anim officia reprehenderit laboris culpa fugiat. Aute cillum sunt nisi fugiat velit pariatur.</span> </p> </div> </div> </div> </div> </div> </div> <footer class=\" rounded shadow-lg jumbotron mb-0\" data-wg-type=\"footer\" style=\"height: 18vh;\"> <div class=\"container\"> <span class=\"text-muted\">Dolor fugiat veniam labore esse et officia qui eu</span> </div> </footer> </div> </body> </html>\n",
            "    Answer: <!DOCTYPE html> <html> <head> <title>Dominate</title> <meta content=\"{&quot;primary&quot;: &quot;rgb(122, 247, 170)&quot;, &quot;secondary&quot;: &quot;rgb(19, 166, 76)&quot;, &quot;light&quot;: &quot;rgb(208, 254, 225)&quot;, &quot;dark&quot;: &quot;rgb(58, 87, 69)&quot;, &quot;enable-gradients&quot;: true}\" name=\"wg-palette\"> <meta content=\"width=device-width, initial-scale=1.0\" name=\"viewport\"> <meta content=\"Web Generator\" name=\"author\"> <meta content=\"2\" name=\"wg-layout\"> <link href=\"../css/custom-bootstrap.css\" rel=\"stylesheet\"> <link href=\"../css/wg-extras.css\" rel=\"stylesheet\"> <script src=\"../js/jquery-3.2.1.slim.min.js\" type=\"text/javascript\"></script> <script src=\"../js/bootstrap.min.js\" type=\"text/javascript\"></script> </head> <body class=\"\"> <div class=\"\" id=\"full-wrapper\"> <nav class=\"bg-gradient-light navbar-light navbar navbar-expand-md\" data-wg-type=\"navbar\"> <button class=\"navbar-toggler\" data-target=\"#main-nav\" data-toggle=\"collapse\" type=\"button\"> <span class=\"navbar-toggler-icon\"></span> </button> <div class=\"collapse navbar-collapse\" id=\"main-nav\" style=\"height: 3vh;\"> <ul class=\"navbar-nav ml-auto\"> <li class=\"nav-item\"> <a class=\"nav-link\" href=\"#\">Sunt non in</a> </li> <li class=\"nav-item\"> <a class=\"nav-link\" href=\"#\">Culpa ea aute</a> </li> </ul> </div> </nav> <div class=\"d-flex\"> <div class=\"flex-grow-1\"> <div class=\"container-fluid py-3\" id=\"page-content\"> <div class=\"wg-detect\" data-wg-type=\"descriptive_items\"> <div class=\"row\"> <div class=\"col\"> <h2>Excepteur dolor qui commodo.</h2> <p><br> <span class=\"mx-auto m-2 shadow placeholder\" data-wg-type=\"image\" style=\"width: 291px;height: 261px;\"> <span>291x261</span> </span> <span data-wg-type=\"text_area\">Cupidatat magna fugiat id ex minim ut, ut quis consequat enim proident non magna, consequat culpa non minim ex. Commodo lorem pariatur voluptate dolor. Esse cillum aute ea nulla tempor dolore, non fugiat consectetur mollit pariatur irure. Ex sit nostrud laborum excepteur commodo, eiusmod magna lorem id id amet pariatur. Anim qui culpa enim. Proident mollit commodo in duis. Ipsum tempor labore aute veniam in lorem reprehenderit. Culpa dolore laboris amet aliquip. Velit minim sunt amet ex nostrud cillum, tempor ut ipsum id eu laborum eu. Cupidatat pariatur sed et non commodo enim voluptate. Excepteur officia laboris magna magna. Mollit pariatur elit laboris do deserunt. Cupidatat deserunt nisi adipiscing id ex irure mollit. Id minim pariatur laboris velit incididunt. Amet reprehenderit proident nisi est. Consectetur deserunt eiusmod dolor. Et in reprehenderit magna consectetur est mollit. Ea elit sit magna irure ut adipiscing. Adipiscing culpa ipsum fugiat velit duis dolore occaecat. Adipiscing dolor veniam non fugiat ex velit, aliqua voluptate voluptate do fugiat.</span> </p> </div> </div> <div class=\"row\"> <div class=\"col\"> <h2>Amet consequat aute consectetur id et qui.</h2> <p><br> <span class=\"mx-auto m-2 shadow placeholder\" data-wg-type=\"image\" style=\"width: 291px;height: 261px;\"> <span>291x261</span> </span> <span data-wg-type=\"text_area\">Exercitation sint cupidatat incididunt. Eiusmod laborum aliqua do pariatur commodo. Nisi voluptate mollit officia commodo ea eiusmod sed, deserunt adipiscing amet ut dolor dolore laboris ullamco. Culpa anim eiusmod qui eu. Pariatur amet esse ea. Magna do labore dolor veniam dolore, tempor eiusmod aliqua est labore sit ex dolor, in deserunt incididunt dolore est. Laborum fugiat irure sint. Elit ad duis incididunt ipsum officia sint. Excepteur reprehenderit exercitation sunt consequat proident esse, magna proident do qui sint. Duis officia sit magna ea sint enim. Duis sed est anim deserunt, esse proident commodo quis elit reprehenderit. Tempor aliqua pariatur proident esse labore excepteur. Laboris nulla occaecat do, magna velit magna do amet. Culpa adipiscing consectetur esse exercitation quis, culpa cupidatat ipsum sit, occaecat commodo consectetur ut ex. Laborum irure enim culpa incididunt non cupidatat, laborum occaecat nulla velit sint ullamco quis minim. Sunt elit officia culpa voluptate. Non adipiscing ut ipsum, excepteur exercitation do ipsum, nisi tempor ut amet nisi adipiscing commodo. Labore est ex eiusmod ea eu quis.</span> </p> </div> </div> <div class=\"row\"> <div class=\"col\"> <h2>Sed est nostrud nisi ipsum qui.</h2> <p><br> <span class=\"mx-auto m-2 shadow placeholder\" data-wg-type=\"image\" style=\"width: 291px;height: 261px;\"> <span>291x261</span> </span> <span data-wg-type=\"text_area\">Sunt quis velit dolore lorem labore. Excepteur tempor excepteur amet cupidatat. Velit sunt sit proident sint excepteur occaecat dolore. Deserunt eu in non et irure. Laboris sint laboris elit. Consequat excepteur excepteur proident laboris et, consequat quis deserunt nostrud tempor nisi, amet minim nostrud dolore elit laborum. Duis nulla lorem esse deserunt culpa amet excepteur. Ex nostrud exercitation eu nulla nostrud sit eiusmod, sunt minim esse laboris id irure. Dolore minim esse excepteur. Commodo pariatur nulla nostrud aliqua id. Deserunt reprehenderit voluptate anim sunt. Eiusmod cupidatat anim officia reprehenderit laboris culpa fugiat. Aute cillum sunt nisi fugiat velit pariatur.</span> </p> </div> </div> </div> </div> <footer class=\"jumbotron mb-0\" data-wg-type=\"footer\" style=\"height: 23vh;\"> <div class=\"container\"> <span class=\"text-muted\">Dolor fugiat veniam labore esse et officia qui eu</span> </div> </footer> </div> </div> </div> </body> </html>\n",
            "      Bleu: 0.90\n",
            "\n",
            "Prediction: <!DOCTYPE html> <html> <head> <title>Dominate</title> <meta content=\"{&quot;primary&quot;: &quot;rgb(189, 201, 225)&quot;, &quot;secondary&quot;: &quot;rgb(116, 169, 207)&quot;, &quot;light&quot;: &quot;rgb(241, 238, 246)&quot;, &quot;dark&quot;: &quot;rgb(5, 112, 176)&quot;, &quot;enable-gradients&quot;: false}\" name=\"wg-palette\"> <meta content=\"width=device-width, initial-scale=1.0\" name=\"viewport\"> <meta content=\"Web Generator\" name=\"author\"> <meta content=\"2\" name=\"wg-layout\"> <link href=\"../css/custom-bootstrap.css\" rel=\"stylesheet\"> <link href=\"../css/wg-extras.css\" rel=\"stylesheet\"> <script src=\"../js/jquery-3.2.1.slim.min.js\" type=\"text/javascript\"></script> <script src=\"../js/bootstrap.min.js\" type=\"text/javascript\"></script> </head> <body class=\"\"> <div class=\" rounded shadow-lg\" id=\"full-wrapper\"> <nav class=\"bg-light navbar-light rounded shadow-lg navbar navbar-expand-md\" data-wg-type=\"navbar\"> <button class=\"navbar-toggler\" data-target=\"#main-nav\" data-toggle=\"collapse\" type=\"button\"> <span class=\"navbar-toggler-icon\"></span> </button> <div class=\"collapse navbar-collapse\" id=\"main-nav\" style=\"height: 5vh;\"> <ul class=\"navbar-nav ml-auto\"> <li class=\"nav-item\"> <a class=\"nav-link\" href=\"#\">Nisi ea id eu</a> </li> <li class=\"nav-item\"> <a class=\"nav-link\" href=\"#\">Quis occaecat</a> </li> <li class=\"nav-item\"> <a class=\"nav-link\" href=\"#\">Voluptate sit</a> </li> </ul> </div> </nav> <div class=\"d-flex\"> <div class=\"container-fluid py-3\" id=\"page-content\"> <form class=\"p-3\" data-wg-type=\"form\"> <div class=\"form-row\"> <div class=\"form-group col-md\"> <label for=\"enim\">Enim</label> <select class=\"form-control\" data-wg-type=\"select\" id=\"enim\"> <option>Eu eu irure</option> <option>Esse</option> <option>Eiusmod</option> <option>Eiusmod</option> <option>Eiusmod</option> <option>Eiusmod</option> <option>Eiusmod</option> <option>Eiusmod</option> </select> </div> <div class=\"form-group col-md\"> <label for=\"laborum_velit\">Laborum velit</label> <input class=\"form-control\" data-wg-type=\"date\" id=\"laborum_velit\" type=\"date\"> </div> <div class=\"form-group col-md\"> <label for=\"nisi_cupidatat_quis\">Nisi cupidatat quis</label> <input class=\"form-control\" data-wg-type=\"text\" id=\"nisi_cupidatat_quis\" type=\"text\"> </div> </div> <div class=\"form-row\"> <div class=\"form-group col-md\"> <label for=\"fugiat\">Fugiat</label> <input class=\"custom-range\" data-wg-type=\"range\" id=\"fugiat\" type=\"range\"> </div> <div class=\"form-group col-md\"> <label for=\"occaecat_culpa_officia\">Occaecat culpa officia</label> <input class=\"form-control\" data-wg-type=\"text\" id=\"occaecat_culpa_officia\" type=\"text\"> </div> <div class=\"form-group col-md\"> <label for=\"consequat_in\">Consequat in</label> <select class=\"form-control\" data-wg-type=\"select\" id=\"consequat_in\"> <option>Sed</option> <option>Esse</option> <option>Esse</option> <option>Esse</option> <option>Esse</option> <option>Esse</option> <option>Esse</option> <option>Esse</option> <option>Esse</option> </select> </div> </div> <div class=\"form-row\"> <div class=\"form-group col-md\"> <label for=\"laborum\">Laborum</label> <input class=\"form-control\" data-wg-type=\"time\" id=\"laborum\" type=\"time\"> </div> <div class=\"form-group col-md\"> <label for=\"sed_cupidatat\">Sed cupidatat</label> <input class=\"form-control\" data-wg-type=\"text\" id=\"sed_cupidatat\" type=\"text\"> </div> </div> </form> </div> </div> </div> </body> </html>\n",
            "    Answer: <!DOCTYPE html> <html> <head> <title>Dominate</title> <meta content=\"{&quot;primary&quot;: &quot;rgb(191, 151, 71)&quot;, &quot;secondary&quot;: &quot;rgb(121, 83, 56)&quot;, &quot;light&quot;: &quot;rgb(233, 246, 171)&quot;, &quot;dark&quot;: &quot;rgb(34, 31, 27)&quot;, &quot;enable-gradients&quot;: false}\" name=\"wg-palette\"> <meta content=\"width=device-width, initial-scale=1.0\" name=\"viewport\"> <meta content=\"Web Generator\" name=\"author\"> <meta content=\"4\" name=\"wg-layout\"> <link href=\"../css/custom-bootstrap.css\" rel=\"stylesheet\"> <link href=\"../css/wg-extras.css\" rel=\"stylesheet\"> <script src=\"../js/jquery-3.2.1.slim.min.js\" type=\"text/javascript\"></script> <script src=\"../js/bootstrap.min.js\" type=\"text/javascript\"></script> </head> <body class=\"\"> <div class=\" shadow\" id=\"full-wrapper\"> <div class=\"d-flex\"> <div class=\"w-100\"> <nav class=\"bg-light navbar-light shadow navbar navbar-expand-md\" data-wg-type=\"navbar\"> <button class=\"navbar-toggler\" data-target=\"#main-nav\" data-toggle=\"collapse\" type=\"button\"> <span class=\"navbar-toggler-icon\"></span> </button> <div class=\"collapse navbar-collapse\" id=\"main-nav\" style=\"height: 8vh;\"> <ul class=\"navbar-nav ml-auto\"> <li class=\"nav-item\"> <a class=\"nav-link\" href=\"#\">Nisi ea id eu</a> </li> <li class=\"nav-item\"> <a class=\"nav-link\" href=\"#\">Quis occaecat</a> </li> <li class=\"nav-item\"> <a class=\"nav-link\" href=\"#\">Voluptate sit</a> </li> </ul> </div> </nav> <div class=\"container-fluid py-3\" id=\"page-content\"> <form class=\"p-3\" data-wg-type=\"form\"> <div class=\"form-row\"> <div class=\"form-group col-md\"> <label for=\"enim\">Enim</label> <select class=\"form-control\" data-wg-type=\"select\" id=\"enim\"> <option>Eu eu irure</option> <option>Pariatur deserunt</option> <option>Eu</option> <option>Ut aute</option> </select> </div> <div class=\"form-group col-md\"> <label for=\"laborum_velit\">Laborum velit</label> <input class=\"form-control\" data-wg-type=\"date\" id=\"laborum_velit\" type=\"date\"> </div> <div class=\"form-group col-md\"> <label for=\"nisi_cupidatat_quis\">Nisi cupidatat quis</label> <input class=\"form-control\" data-wg-type=\"text\" id=\"nisi_cupidatat_quis\" type=\"text\"> </div> </div> <div class=\"form-row\"> <div class=\"form-group col-md\"> <label for=\"fugiat\">Fugiat</label> <input class=\"custom-range\" data-wg-type=\"range\" id=\"fugiat\" type=\"range\"> </div> <div class=\"form-group col-md\"> <label for=\"occaecat_culpa_officia\">Occaecat culpa officia</label> <input class=\"form-control\" data-wg-type=\"text\" id=\"occaecat_culpa_officia\" type=\"text\"> </div> <div class=\"form-group col-md\"> <label for=\"consequat_in\">Consequat in</label> <select class=\"form-control\" data-wg-type=\"select\" id=\"consequat_in\"> <option>Sed</option> <option>Veniam</option> <option>Do</option> <option>Nostrud laboris</option> <option>Labore amet laboris</option> <option>Occaecat qui</option> <option>Duis sint ut</option> <option>Mollit</option> </select> </div> </div> <div class=\"form-row\"> <div class=\"form-group col-md\"> <label for=\"laborum\">Laborum</label> <input class=\"form-control\" data-wg-type=\"time\" id=\"laborum\" type=\"time\"> </div> <div class=\"form-group col-md\"> <label for=\"sed_cupidatat\">Sed cupidatat</label> <input class=\"form-control\" data-wg-type=\"text\" id=\"sed_cupidatat\" type=\"text\"> </div> </div> </form> </div> </div> </div> </div> </body> </html>\n",
            "      Bleu: 0.93\n",
            "\n",
            "Prediction: <!DOCTYPE html> <html> <head> <title>Dominate</title> <meta content=\"{&quot;primary&quot;: &quot;rgb(248, 181, 139)&quot;, &quot;secondary&quot;: &quot;rgb(242, 133, 93)&quot;, &quot;light&quot;: &quot;rgb(253, 224, 197)&quot;, &quot;dark&quot;: &quot;rgb(235, 74, 64)&quot;, &quot;enable-gradients&quot;: false}\" name=\"wg-palette\"> <meta content=\"width=device-width, initial-scale=1.0\" name=\"viewport\"> <meta content=\"Web Generator\" name=\"author\"> <meta content=\"2\" name=\"wg-layout\"> <link href=\"../css/custom-bootstrap.css\" rel=\"stylesheet\"> <link href=\"../css/wg-extras.css\" rel=\"stylesheet\"> <script src=\"../js/jquery-3.2.1.slim.min.js\" type=\"text/javascript\"></script> <script src=\"../js/bootstrap.min.js\" type=\"text/javascript\"></script> </head> <body class=\"bg-dark\"> <div class=\"bg-light rounded shadow-lg\" id=\"full-wrapper\"> <nav class=\"bg-dark navbar-dark rounded shadow-lg navbar navbar-expand-md\" data-wg-type=\"navbar\"> <button class=\"navbar-toggler\" data-target=\"#main-nav\" data-toggle=\"collapse\" type=\"button\"> <span class=\"navbar-toggler-icon\"></span> </button> <div class=\"collapse navbar-collapse\" id=\"main-nav\" style=\"height: 4vh;\"> <ul class=\"navbar-nav ml-auto\"> <li class=\"nav-item\"> <a class=\"nav-link\" href=\"#\">Exercitation</a> </li> <li class=\"nav-item\"> <a class=\"nav-link\" href=\"#\">Qui anim aute</a> </li> </ul> </div> </nav> <div class=\"d-flex\"> <div class=\"flex-grow-1\"> <div class=\"container-fluid py-3\" id=\"page-content\"> <div class=\"row my-3 wg-detect\" data-wg-type=\"mix\"> <div class=\"col\"> <div class=\"text-center wg-detect\" data-wg-type=\"featured_item\"> <span class=\"text-black rounded-circle mx-auto shadow placeholder\" style=\"width: 136px;height: 136px;\"> <span>136x136</span> </span> <h2>Qui minim eiusmod id</h2> <p>Duis est dolor ad occaecat proident sit mollit sed</p> <a class=\"btn btn-primary\" href=\"#\">Minim id ea</a> </div> </div> </div> <div class=\"row wg-detect\" data-wg-type=\"cards\"> <div class=\"col\"> <div class=\"card-columns\"> <div class=\"text-black shadow card\"> <div class=\"card-body\"> <h5 class=\"card-title\">Nulla magna mollit</h5> <p class=\"card-text\">Reprehenderit magna nostrud dolore non aliqua qui</p> <div class=\"d-flex justify-content-between align-items-center\"> <div class=\"btn-group\"> <button class=\"btn btn-sm btn-outline-secondary\" type=\"button\">Quis occaecat</button> </div> <small class=\"text-muted\">Culpa qui id</small> </div> </div> </div> <div class=\"text-black shadow card\"> <div class=\"card-body\"> <h5 class=\"card-title\">Mollit enim ex sint</h5> <p class=\"card-text\">Irure quis est ex voluptate et anim magna pariatur</p> <div class=\"d-flex justify-content-between align-items-center\"> <div class=\"btn-group\"> <button class=\"btn btn-sm btn-outline-secondary\" type=\"button\">Eu laboris do</button> </div> <small class=\"text-muted\">Ad velit non</small> </div> </div> </div> <div class=\"text-black shadow card\"> <div class=\"card-body\"> <h5 class=\"card-title\">Aliquip in laboris</h5> <p class=\"card-text\">Sunt esse laboris anim ad magna voluptate ipsum in</p> <div class=\"d-flex justify-content-between align-items-center\"> <div class=\"btn-group\"> <button class=\"btn btn-sm btn-outline-secondary\" type=\"button\">Adipiscing ea</button> </div> <small class=\"text-muted\">Duis ad duis</small> </div> </div> </div> <div class=\"text-black shadow card\"> <div class=\"card-body\"> <h5 class=\"card-title\">Minim magna nostrud</h5> <p class=\"card-text\">Commodo ea irure cillum eu anim reprehenderit esse</p> <div class=\"d-flex justify-content-between align-items-center\"> <div class=\"btn-group\"> <button class=\"btn btn-sm btn-outline-secondary\" type=\"button\">Exercitation</button> </div> <small class=\"text-muted\">Esse qui in</small> </div> </div> </div> <div class=\"text-black shadow card\"> <div class=\"card-body\"> <h5 class=\"card-title\">Reprehenderit magna</h5> <p class=\"card-text\">Do ex sint ipsum fugiat qui ad nisi minim ut esse</p> <div class=\"d-flex justify-content-between align-items-center\"> <div class=\"btn-group\"> <button class=\"btn btn-sm btn-outline-secondary\" type=\"button\">Sunt aute et</button> </div> <small class=\"text-muted\">Anim lorem ut</small> </div> </div> </div> <div class=\"text-black shadow card\"> <div class=\"card-body\"> <h5 class=\"card-title\">Consectetur veniam</h5> <p class=\"card-text\">Enim excepteur sit aliquip consectetur elit minim</p> <div class=\"d-flex justify-content-between align-items-center\"> <div class=\"btn-group\"> <button class=\"btn btn-sm btn-outline-secondary\" type=\"button\">Non dolor id</button> </div> <small class=\"text-muted\">Officia magna</small> </div> </div> </div> </div> </div> </div> </div> </div> <footer class=\" rounded shadow-lg jumbotron mb-0\" data-wg-type=\"footer\" style=\"height: 11vh;\"> <div class=\"container\"> <span class=\"text-muted\">Voluptate nisi esse sit velit fugiat laboris dolor</span> </div> </footer> </div> </body> </html>\n",
            "    Answer: <!DOCTYPE html> <html> <head> <title>Dominate</title> <meta content=\"{&quot;primary&quot;: &quot;rgb(215, 181, 216)&quot;, &quot;secondary&quot;: &quot;rgb(223, 101, 176)&quot;, &quot;light&quot;: &quot;rgb(241, 238, 246)&quot;, &quot;dark&quot;: &quot;rgb(206, 18, 86)&quot;, &quot;enable-gradients&quot;: true}\" name=\"wg-palette\"> <meta content=\"width=device-width, initial-scale=1.0\" name=\"viewport\"> <meta content=\"Web Generator\" name=\"author\"> <meta content=\"4\" name=\"wg-layout\"> <link href=\"../css/custom-bootstrap.css\" rel=\"stylesheet\"> <link href=\"../css/wg-extras.css\" rel=\"stylesheet\"> <script src=\"../js/jquery-3.2.1.slim.min.js\" type=\"text/javascript\"></script> <script src=\"../js/bootstrap.min.js\" type=\"text/javascript\"></script> </head> <body class=\"bg-gradient-dark\"> <div class=\"bg-gradient-light\" id=\"full-wrapper\"> <div class=\"d-flex\"> <div class=\"w-100\"> <nav class=\"bg-gradient-dark navbar-dark navbar navbar-expand-md\" data-wg-type=\"navbar\"> <button class=\"navbar-toggler\" data-target=\"#main-nav\" data-toggle=\"collapse\" type=\"button\"> <span class=\"navbar-toggler-icon\"></span> </button> <div class=\"collapse navbar-collapse\" id=\"main-nav\" style=\"height: 3vh;\"> <ul class=\"navbar-nav ml-auto\"> <li class=\"nav-item\"> <a class=\"nav-link\" href=\"#\">Exercitation</a> </li> <li class=\"nav-item\"> <a class=\"nav-link\" href=\"#\">Qui anim aute</a> </li> </ul> </div> </nav> <div class=\"container-fluid py-3\" id=\"page-content\"> <div class=\"row my-3 wg-detect\" data-wg-type=\"mix\"> <div class=\"col\"> <div class=\"text-center wg-detect\" data-wg-type=\"featured_item\"> <span class=\"text-black rounded-circle mx-auto shadow placeholder\" style=\"width: 136px;height: 136px;\"> <span>136x136</span> </span> <h2>Qui minim eiusmod id</h2> <p>Duis est dolor ad occaecat proident sit mollit sed</p> <a class=\"btn btn-primary\" href=\"#\">Minim id ea</a> </div> </div> </div> <div class=\"row wg-detect\" data-wg-type=\"cards\"> <div class=\"col\"> <div class=\"card-columns\"> <div class=\"text-black shadow card\"> <div class=\"card-body\"> <h5 class=\"card-title\">Nulla magna mollit</h5> <p class=\"card-text\">Reprehenderit magna nostrud dolore non aliqua qui</p> <div class=\"d-flex justify-content-between align-items-center\"> <div class=\"btn-group\"> <button class=\"btn btn-sm btn-outline-secondary\" type=\"button\">Quis occaecat</button> </div> <small class=\"text-muted\">Culpa qui id</small> </div> </div> </div> <div class=\"text-black shadow card\"> <div class=\"card-body\"> <h5 class=\"card-title\">Mollit enim ex sint</h5> <p class=\"card-text\">Irure quis est ex voluptate et anim magna pariatur</p> <div class=\"d-flex justify-content-between align-items-center\"> <div class=\"btn-group\"> <button class=\"btn btn-sm btn-outline-secondary\" type=\"button\">Eu laboris do</button> </div> <small class=\"text-muted\">Ad velit non</small> </div> </div> </div> <div class=\"text-black shadow card\"> <div class=\"card-body\"> <h5 class=\"card-title\">Aliquip in laboris</h5> <p class=\"card-text\">Sunt esse laboris anim ad magna voluptate ipsum in</p> <div class=\"d-flex justify-content-between align-items-center\"> <div class=\"btn-group\"> <button class=\"btn btn-sm btn-outline-secondary\" type=\"button\">Adipiscing ea</button> </div> <small class=\"text-muted\">Duis ad duis</small> </div> </div> </div> <div class=\"text-black shadow card\"> <div class=\"card-body\"> <h5 class=\"card-title\">Minim magna nostrud</h5> <p class=\"card-text\">Commodo ea irure cillum eu anim reprehenderit esse</p> <div class=\"d-flex justify-content-between align-items-center\"> <div class=\"btn-group\"> <button class=\"btn btn-sm btn-outline-secondary\" type=\"button\">Exercitation</button> </div> <small class=\"text-muted\">Esse qui in</small> </div> </div> </div> <div class=\"text-black shadow card\"> <div class=\"card-body\"> <h5 class=\"card-title\">Reprehenderit magna</h5> <p class=\"card-text\">Do ex sint ipsum fugiat qui ad nisi minim ut esse</p> <div class=\"d-flex justify-content-between align-items-center\"> <div class=\"btn-group\"> <button class=\"btn btn-sm btn-outline-secondary\" type=\"button\">Sunt aute et</button> </div> <small class=\"text-muted\">Anim lorem ut</small> </div> </div> </div> <div class=\"text-black shadow card\"> <div class=\"card-body\"> <h5 class=\"card-title\">Consectetur veniam</h5> <p class=\"card-text\">Enim excepteur sit aliquip consectetur elit minim</p> <div class=\"d-flex justify-content-between align-items-center\"> <div class=\"btn-group\"> <button class=\"btn btn-sm btn-outline-secondary\" type=\"button\">Non dolor id</button> </div> <small class=\"text-muted\">Officia magna</small> </div> </div> </div> </div> </div> </div> </div> </div> </div> <footer class=\"jumbotron mb-0\" data-wg-type=\"footer\" style=\"height: 5vh;\"> <div class=\"container\"> <span class=\"text-muted\">Voluptate nisi esse sit velit fugiat laboris dolor</span> </div> </footer> </div> </body> </html>\n",
            "      Bleu: 0.98\n",
            "\n",
            "Prediction: <!DOCTYPE html> <html> <head> <title>Dominate</title> <meta content=\"{&quot;primary&quot;: &quot;rgb(189, 201, 225)&quot;, &quot;secondary&quot;: &quot;rgb(116, 169, 207)&quot;, &quot;light&quot;: &quot;rgb(241, 238, 246)&quot;, &quot;dark&quot;: &quot;rgb(5, 112, 176)&quot;, &quot;enable-gradients&quot;: false}\" name=\"wg-palette\"> <meta content=\"width=device-width, initial-scale=1.0\" name=\"viewport\"> <meta content=\"Web Generator\" name=\"author\"> <meta content=\"3\" name=\"wg-layout\"> <link href=\"../css/custom-bootstrap.css\" rel=\"stylesheet\"> <link href=\"../css/wg-extras.css\" rel=\"stylesheet\"> <script src=\"../js/jquery-3.2.1.slim.min.js\" type=\"text/javascript\"></script> <script src=\"../js/bootstrap.min.js\" type=\"text/javascript\"></script> </head> <body class=\"\"> <div class=\" rounded\" id=\"full-wrapper\"> <header class=\"bg-secondary text-white rounded d-flex align-items-center justify-content-center\" data-wg-type=\"header\" style=\"height: 39vh;\"> <h1 class=\"p-2 text-center\">Occaecat Exercitation Pariatur Occaecat Voluptate</h1> </header> <div class=\"d-flex\"> <div class=\"container-fluid py-3\" id=\"page-content\"> <div class=\"row my-3 wg-detect\" data-wg-type=\"mix\"> <div class=\"col\"> <p class=\"wg-detect\" data-wg-type=\"paragraph\">Minim aliquip excepteur lorem in amet anim. Mollit et ex do consequat ex. Laboris amet amet nisi do eu enim. Sint proident commodo nulla proident ex laboris. Excepteur consequat irure est nisi in. Mollit in eiusmod dolore quis culpa quis, duis consequat voluptate deserunt veniam sint ut. Cupidatat velit cupidatat est sed occaecat officia sunt. Ea veniam irure et ad non ipsum culpa.</p> </div> <div class=\"col\"> <p class=\"wg-detect\" data-wg-type=\"paragraph\">Tempor quis consectetur laboris nisi in. Consequat nulla nulla officia adipiscing duis. Sed nisi incididunt ea irure commodo excepteur. Esse magna ipsum aliquip aute ullamco ex. Non reprehenderit laborum sint est enim occaecat, ea lorem in proident ex dolore consectetur tempor. Laboris nisi est laboris do reprehenderit eiusmod cillum.</p> </div> <div class=\"col\"> <h1 class=\"wg-detect\" data-wg-type=\"heading\">In fugiat officia culpa nulla.</h1> </div> </div> </div> </div> <footer class=\" rounded jumbotron mb-0\" data-wg-type=\"footer\" style=\"height: 18vh;\"> <div class=\"container\"> <span class=\"text-muted\">Dolor commodo nulla lorem reprehenderit id aliquip</span> </div> </footer> </div> </body> </html>\n",
            "    Answer: <!DOCTYPE html> <html> <head> <title>Dominate</title> <meta content=\"{&quot;primary&quot;: &quot;rgb(203, 146, 26)&quot;, &quot;secondary&quot;: &quot;rgb(151, 59, 28)&quot;, &quot;light&quot;: &quot;rgb(225, 253, 75)&quot;, &quot;dark&quot;: &quot;rgb(51, 20, 24)&quot;, &quot;enable-gradients&quot;: false}\" name=\"wg-palette\"> <meta content=\"width=device-width, initial-scale=1.0\" name=\"viewport\"> <meta content=\"Web Generator\" name=\"author\"> <meta content=\"4\" name=\"wg-layout\"> <link href=\"../css/custom-bootstrap.css\" rel=\"stylesheet\"> <link href=\"../css/wg-extras.css\" rel=\"stylesheet\"> <script src=\"../js/jquery-3.2.1.slim.min.js\" type=\"text/javascript\"></script> <script src=\"../js/bootstrap.min.js\" type=\"text/javascript\"></script> </head> <body class=\"\"> <div class=\" rounded shadow-sm\" id=\"full-wrapper\"> <div class=\"d-flex\"> <div class=\"bg-light rounded shadow-sm\" data-wg-type=\"sidebar\" id=\"sidebar-wrapper\"> <div class=\"list-group list-group-flush\" style=\"width:25vh;\"> <a class=\"list-group-item list-group-item-action\" href=\"#\">Mollit ipsum</a> <a class=\"list-group-item list-group-item-action\" href=\"#\">Nisi sunt ut</a> <a class=\"list-group-item list-group-item-action\" href=\"#\">Ex mollit qui</a> <a class=\"list-group-item list-group-item-action\" href=\"#\">Velit anim ut</a> <a class=\"list-group-item list-group-item-action\" href=\"#\">Ea duis sunt</a> </div> </div> <div class=\"w-100\"> <header class=\"bg-secondary text-white rounded shadow-sm d-flex align-items-center justify-content-center\" data-wg-type=\"header\" style=\"height: 34vh;\"> <h1 class=\"p-2 text-center\">Occaecat Exercitation Pariatur Occaecat Voluptate</h1> </header> <div class=\"container-fluid py-3\" id=\"page-content\"> <div class=\"row my-3 wg-detect\" data-wg-type=\"mix\"> <div class=\"col\"> <p class=\"wg-detect\" data-wg-type=\"paragraph\">Minim aliquip excepteur lorem in amet anim. Mollit et ex do consequat ex. Laboris amet amet nisi do eu enim. Sint proident commodo nulla proident ex laboris. Excepteur consequat irure est nisi in. Mollit in eiusmod dolore quis culpa quis, duis consequat voluptate deserunt veniam sint ut. Cupidatat velit cupidatat est sed occaecat officia sunt. Ea veniam irure et ad non ipsum culpa.</p> </div> <div class=\"col\"> <p class=\"wg-detect\" data-wg-type=\"paragraph\">Tempor quis consectetur laboris nisi in. Consequat nulla nulla officia adipiscing duis. Sed nisi incididunt ea irure commodo excepteur. Esse magna ipsum aliquip aute ullamco ex. Non reprehenderit laborum sint est enim occaecat, ea lorem in proident ex dolore consectetur tempor. Laboris nisi est laboris do reprehenderit eiusmod cillum.</p> </div> <div class=\"col\"> <h1 class=\"wg-detect\" data-wg-type=\"heading\">In fugiat officia culpa nulla.</h1> </div> </div> </div> </div> </div> <footer class=\" rounded shadow-sm jumbotron mb-0\" data-wg-type=\"footer\" style=\"height: 25vh;\"> <div class=\"container\"> <span class=\"text-muted\">Dolor commodo nulla lorem reprehenderit id aliquip</span> </div> </footer> </div> </body> </html>\n",
            "      Bleu: 0.77\n",
            "\n",
            "Prediction: <!DOCTYPE html> <html> <head> <title>Dominate</title> <meta content=\"{&quot;primary&quot;: &quot;rgb(248, 181, 139)&quot;, &quot;secondary&quot;: &quot;rgb(242, 133, 93)&quot;, &quot;light&quot;: &quot;rgb(253, 224, 197)&quot;, &quot;dark&quot;: &quot;rgb(235, 74, 64)&quot;, &quot;enable-gradients&quot;: false}\" name=\"wg-palette\"> <meta content=\"width=device-width, initial-scale=1.0\" name=\"viewport\"> <meta content=\"Web Generator\" name=\"author\"> <meta content=\"2\" name=\"wg-layout\"> <link href=\"../css/custom-bootstrap.css\" rel=\"stylesheet\"> <link href=\"../css/wg-extras.css\" rel=\"stylesheet\"> <script src=\"../js/jquery-3.2.1.slim.min.js\" type=\"text/javascript\"></script> <script src=\"../js/bootstrap.min.js\" type=\"text/javascript\"></script> </head> <body class=\"\"> <div class=\" rounded shadow-lg\" id=\"full-wrapper\"> <nav class=\"bg-light navbar-light rounded shadow-lg navbar navbar-expand-md\" data-wg-type=\"navbar\"> <a class=\"navbar-brand\" href=\"#\">Sit</a> <button class=\"navbar-toggler\" data-target=\"#main-nav\" data-toggle=\"collapse\" type=\"button\"> <span class=\"navbar-toggler-icon\"></span> </button> <div class=\"collapse navbar-collapse\" id=\"main-nav\" style=\"height: 9vh;\"> <ul class=\"navbar-nav mx-auto\"> <li class=\"nav-item\"> <a class=\"nav-link\" href=\"#\">Velit lorem</a> </li> <li class=\"nav-item\"> <a class=\"nav-link\" href=\"#\">Nulla et est</a> </li> <li class=\"nav-item\"> <a class=\"nav-link\" href=\"#\">In in ullamco</a> </li> <li class=\"nav-item\"> <a class=\"nav-link\" href=\"#\">Mollit dolor</a> </li> <li class=\"nav-item\"> <a class=\"nav-link\" href=\"#\">Cupidatat non</a> </li> </ul> </div> </nav> <div class=\"d-flex\"> <div class=\"flex-grow-1\"> <div class=\"container-fluid py-3\" id=\"page-content\"> <div class=\"row my-3 wg-detect\" data-wg-type=\"mix\"> <div class=\"col\"> <ol class=\"wg-detect\" data-wg-type=\"list\"> <li>Eu ullamco do</li> <li>Incididunt id</li> <li>Ut labore ut</li> </ol> </div> <div class=\"col\"> <h1 class=\"wg-detect\" data-wg-type=\"heading\">In nisi minim aute eu ex consectetur.</h1> </div> <div class=\"col\"> <ul class=\"wg-detect\" data-wg-type=\"list\"> <li>Commodo sit</li> <li>Aliquip enim</li> <li>Consequat ut</li> </ul> </div> </div> </div> <footer class=\" rounded shadow-lg jumbotron mb-0\" data-wg-type=\"footer\" style=\"height: 18vh;\"> <div class=\"container\"> <span class=\"text-muted\">Do commodo incididunt aliquip irure ad veniam elit</span> </div> </footer> </div> <div class=\"bg-light rounded shadow-lg\" data-wg-type=\"sidebar\" id=\"sidebar-wrapper\"> <div class=\"list-group list-group-flush\" style=\"width:28vh;\"> <a class=\"list-group-item list-group-item-action\" href=\"#\">Esse amet in</a> <a class=\"list-group-item list-group-item-action\" href=\"#\">Culpa eu id</a> </div> </div> </div> </div> </body> </html>\n",
            "    Answer: <!DOCTYPE html> <html> <head> <title>Dominate</title> <meta content=\"{&quot;primary&quot;: &quot;rgb(116, 150, 227)&quot;, &quot;secondary&quot;: &quot;rgb(64, 70, 85)&quot;, &quot;light&quot;: &quot;rgb(191, 207, 244)&quot;, &quot;dark&quot;: &quot;rgb(35, 62, 125)&quot;, &quot;enable-gradients&quot;: true}\" name=\"wg-palette\"> <meta content=\"width=device-width, initial-scale=1.0\" name=\"viewport\"> <meta content=\"Web Generator\" name=\"author\"> <meta content=\"2\" name=\"wg-layout\"> <link href=\"../css/custom-bootstrap.css\" rel=\"stylesheet\"> <link href=\"../css/wg-extras.css\" rel=\"stylesheet\"> <script src=\"../js/jquery-3.2.1.slim.min.js\" type=\"text/javascript\"></script> <script src=\"../js/bootstrap.min.js\" type=\"text/javascript\"></script> </head> <body class=\"\"> <div class=\"\" id=\"full-wrapper\"> <nav class=\"bg-gradient-light navbar-light navbar navbar-expand-md\" data-wg-type=\"navbar\"> <a class=\"navbar-brand\" href=\"#\">Sit</a> <button class=\"navbar-toggler\" data-target=\"#main-nav\" data-toggle=\"collapse\" type=\"button\"> <span class=\"navbar-toggler-icon\"></span> </button> <div class=\"collapse navbar-collapse\" id=\"main-nav\" style=\"height: 7vh;\"> <ul class=\"navbar-nav mx-auto\"> <li class=\"nav-item\"> <a class=\"nav-link\" href=\"#\">Velit lorem</a> </li> <li class=\"nav-item\"> <a class=\"nav-link\" href=\"#\">Nulla et est</a> </li> <li class=\"nav-item\"> <a class=\"nav-link\" href=\"#\">In in ullamco</a> </li> <li class=\"nav-item\"> <a class=\"nav-link\" href=\"#\">Mollit dolor</a> </li> <li class=\"nav-item\"> <a class=\"nav-link\" href=\"#\">Cupidatat non</a> </li> </ul> </div> </nav> <div class=\"d-flex\"> <div class=\"flex-grow-1\"> <div class=\"container-fluid py-3\" id=\"page-content\"> <div class=\"row my-3 wg-detect\" data-wg-type=\"mix\"> <div class=\"col\"> <ol class=\"wg-detect\" data-wg-type=\"list\"> <li>Eu ullamco do</li> <li>Incididunt id</li> <li>Ut labore ut</li> </ol> </div> <div class=\"col\"> <h1 class=\"wg-detect\" data-wg-type=\"heading\">In nisi minim aute eu ex consectetur.</h1> </div> <div class=\"col\"> <ul class=\"wg-detect\" data-wg-type=\"list\"> <li>Commodo sit</li> <li>Aliquip enim</li> <li>Consequat ut</li> </ul> </div> </div> </div> <footer class=\"jumbotron mb-0\" data-wg-type=\"footer\" style=\"height: 5vh;\"> <div class=\"container\"> <span class=\"text-muted\">Do commodo incididunt aliquip irure ad veniam elit</span> </div> </footer> </div> <div class=\"bg-gradient-light\" data-wg-type=\"sidebar\" id=\"sidebar-wrapper\"> <div class=\"list-group list-group-flush\" style=\"width:26vh;\"> <a class=\"list-group-item list-group-item-action\" href=\"#\">Esse amet in</a> <a class=\"list-group-item list-group-item-action\" href=\"#\">Culpa eu id</a> </div> </div> </div> </div> </body> </html>\n",
            "      Bleu: 0.95\n",
            "\n",
            "Prediction: <!DOCTYPE html> <html> <head> <title>Dominate</title> <meta content=\"{&quot;primary&quot;: &quot;rgb(100, 180, 99)&quot;, &quot;secondary&quot;: &quot;rgb(18, 110, 69)&quot;, &quot;light&quot;: &quot;rgb(215, 249, 208)&quot;, &quot;dark&quot;: &quot;rgb(18, 36, 20)&quot;, &quot;enable-gradients&quot;: false}\" name=\"wg-palette\"> <meta content=\"width=device-width, initial-scale=1.0\" name=\"viewport\"> <meta content=\"Web Generator\" name=\"author\"> <meta content=\"3\" name=\"wg-layout\"> <link href=\"../css/custom-bootstrap.css\" rel=\"stylesheet\"> <link href=\"../css/wg-extras.css\" rel=\"stylesheet\"> <script src=\"../js/jquery-3.2.1.slim.min.js\" type=\"text/javascript\"></script> <script src=\"../js/bootstrap.min.js\" type=\"text/javascript\"></script> </head> <body class=\"bg-light\"> <div class=\"bg-light rounded shadow-lg\" id=\"full-wrapper\"> <header class=\"bg-dark text-white rounded shadow-lg d-flex align-items-center justify-content-center\" data-wg-type=\"header\" style=\"height: 29vh;\"> <h1 class=\"p-2 text-center\">Dolore Laboris</h1> </header> <div class=\"d-flex\"> <div class=\"container-fluid py-3\" id=\"page-content\"> <form class=\"p-3\" data-wg-type=\"form\"> <div class=\"form-group\"> <label for=\"tempor\">Tempor</label> <input class=\"form-control\" data-wg-type=\"text\" id=\"tempor\" type=\"text\"> </div> <div class=\"form-row\"> <div class=\"form-group col-md\"> <label for=\"amet_velit_ipsum\">Amet velit ipsum</label> <input class=\"custom-range\" data-wg-type=\"range\" id=\"amet_velit_ipsum\" type=\"range\"> </div> <div class=\"form-group col-md\"> <label for=\"est_aliquip_eu\">Est aliquip eu</label> <input class=\"form-control\" data-wg-type=\"text\" id=\"est_aliquip_eu\" type=\"text\"> </div> <div class=\"form-group col-md\"> <label for=\"labore\">Labore</label> <input class=\"form-control\" data-wg-type=\"text\" id=\"labore\" type=\"text\"> </div> </div> </form> </div> </div> </div> </body> </html>\n",
            "    Answer: <!DOCTYPE html> <html> <head> <title>Dominate</title> <meta content=\"{&quot;primary&quot;: &quot;rgb(5, 93, 130)&quot;, &quot;secondary&quot;: &quot;rgb(130, 43, 5)&quot;, &quot;light&quot;: &quot;rgb(93, 130, 5)&quot;, &quot;dark&quot;: &quot;rgb(43, 5, 130)&quot;, &quot;enable-gradients&quot;: true}\" name=\"wg-palette\"> <meta content=\"width=device-width, initial-scale=1.0\" name=\"viewport\"> <meta content=\"Web Generator\" name=\"author\"> <meta content=\"4\" name=\"wg-layout\"> <link href=\"../css/custom-bootstrap.css\" rel=\"stylesheet\"> <link href=\"../css/wg-extras.css\" rel=\"stylesheet\"> <script src=\"../js/jquery-3.2.1.slim.min.js\" type=\"text/javascript\"></script> <script src=\"../js/bootstrap.min.js\" type=\"text/javascript\"></script> </head> <body class=\"bg-gradient-dark\"> <div class=\"bg-gradient-light text-white rounded shadow-lg\" id=\"full-wrapper\"> <div class=\"d-flex\"> <div class=\"w-100\"> <header class=\"bg-gradient-primary text-white rounded shadow-lg d-flex align-items-center justify-content-center\" data-wg-type=\"header\" style=\"height: 20vh;\"> <h1 class=\"p-2 text-center\">Dolore Laboris</h1> </header> <div class=\"container-fluid py-3\" id=\"page-content\"> <form class=\"p-3\" data-wg-type=\"form\"> <div class=\"form-group\"> <label for=\"tempor\">Tempor</label> <input class=\"form-control\" data-wg-type=\"text\" id=\"tempor\" type=\"text\"> </div> <div class=\"form-row\"> <div class=\"form-group col-md\"> <label for=\"amet_velit_ipsum\">Amet velit ipsum</label> <input class=\"custom-range\" data-wg-type=\"range\" id=\"amet_velit_ipsum\" type=\"range\"> </div> <div class=\"form-group col-md\"> <label for=\"est_aliquip_eu\">Est aliquip eu</label> <input class=\"form-control\" data-wg-type=\"text\" id=\"est_aliquip_eu\" type=\"text\"> </div> <div class=\"form-group col-md\"> <label for=\"labore\">Labore</label> <input class=\"form-control\" data-wg-type=\"text\" id=\"labore\" type=\"text\"> </div> </div> </form> </div> </div> </div> </div> </body> </html>\n",
            "      Bleu: 0.94\n",
            "\n",
            "Prediction: <!DOCTYPE html> <html> <head> <title>Dominate</title> <meta content=\"{&quot;primary&quot;: &quot;rgb(248, 181, 139)&quot;, &quot;secondary&quot;: &quot;rgb(242, 133, 93)&quot;, &quot;light&quot;: &quot;rgb(253, 224, 197)&quot;, &quot;dark&quot;: &quot;rgb(235, 74, 64)&quot;, &quot;enable-gradients&quot;: false}\" name=\"wg-palette\"> <meta content=\"width=device-width, initial-scale=1.0\" name=\"viewport\"> <meta content=\"Web Generator\" name=\"author\"> <meta content=\"2\" name=\"wg-layout\"> <link href=\"../css/custom-bootstrap.css\" rel=\"stylesheet\"> <link href=\"../css/wg-extras.css\" rel=\"stylesheet\"> <script src=\"../js/jquery-3.2.1.slim.min.js\" type=\"text/javascript\"></script> <script src=\"../js/bootstrap.min.js\" type=\"text/javascript\"></script> </head> <body class=\"\"> <div class=\" rounded\" id=\"full-wrapper\"> <nav class=\"bg-light navbar-light rounded navbar navbar-expand-md\" data-wg-type=\"navbar\"> <button class=\"navbar-toggler\" data-target=\"#main-nav\" data-toggle=\"collapse\" type=\"button\"> <span class=\"navbar-toggler-icon\"></span> </button> <div class=\"collapse navbar-collapse\" id=\"main-nav\" style=\"height: 9vh;\"> <ul class=\"navbar-nav mr-auto\"> <li class=\"nav-item\"> <a class=\"nav-link\" href=\"#\">Ea aliqua ad</a> </li> <li class=\"nav-item\"> <a class=\"nav-link\" href=\"#\">Ea aliqua qui</a> </li> <li class=\"nav-item\"> <a class=\"nav-link\" href=\"#\">Ea aliqua qui</a> </li> <li class=\"nav-item\"> <a class=\"nav-link\" href=\"#\">Eiusmod aute</a> </li> </ul> </div> </nav> <header class=\"bg-secondary rounded d-flex align-items-center justify-content-center\" data-wg-type=\"header\" style=\"height: 38vh;\"> <h1 class=\"p-2 text-center\">Do Occaecat Cillum Ea Dolor Sed Aute</h1> </header> <div class=\"d-flex\"> <div class=\"bg-light rounded\" data-wg-type=\"sidebar\" id=\"sidebar-wrapper\"> <div class=\"list-group list-group-flush\" style=\"width:28vh;\"> <a class=\"list-group-item list-group-item-action\" href=\"#\">Enim aliquip</a> <a class=\"list-group-item list-group-item-action\" href=\"#\">Enim aliquip</a> <a class=\"list-group-item list-group-item-action\" href=\"#\">Eiusmod quis</a> <a class=\"list-group-item list-group-item-action\" href=\"#\">Eiusmod amet</a> </div> </div> <div class=\"container-fluid py-3\" id=\"page-content\"> <div class=\"my-3 wg-detect carousel slide\" data-ride=\"carousel\" data-wg-type=\"carousel\" id=\"carousel-ele-0\"> <ol class=\"carousel-indicators\"> <li class=\"active\" data-slide-to=\"0\" data-target=\"#carousel-ele-0\"></li> <li class=\"\" data-slide-to=\"1\" data-target=\"#carousel-ele-0\"></li> <li class=\"\" data-slide-to=\"2\" data-target=\"#carousel-ele-0\"></li> <li class=\"\" data-slide-to=\"3\" data-target=\"#carousel-ele-0\"></li> </ol> <div class=\"carousel-inner\"> <div class=\"carousel-item active\"> <div class=\"d-block w-100 text-center\" style=\"background-color: darkgrey; height: 38vh;\"> <h1 class=\"pt-5\">Sed magna ut laborum</h1> </div> </div> <div class=\"carousel-item\"> <div class=\"d-block w-100 text-center\" style=\"background-color: darkgrey; height: 38vh;\"> <h1 class=\"pt-5\">Enim commodo amet</h1> </div> </div> <div class=\"carousel-item\"> <div class=\"d-block w-100 text-center\" style=\"background-color: darkgrey; height: 38vh;\"> <h1 class=\"pt-5\">Enim commodo amet</h1> </div> </div> <div class=\"carousel-item\"> <div class=\"d-block w-100 text-center\" style=\"background-color: darkgrey; height: 38vh;\"> <h1 class=\"pt-5\">Eiusmod commodo qui</h1> </div> </div> </div> <a class=\"carousel-control-prev\" data-slide=\"prev\" href=\"#carousel-ele-0\" role=\"button\"> <span class=\"carousel-control-prev-icon\"></span> </a> <a class=\"carousel-control-next\" data-slide=\"next\" href=\"#carousel-ele-0\" role=\"button\"> <span class=\"carousel-control-next-icon\"></span> </a> </div> <div class=\"row py-3 wg-detect\" data-wg-type=\"featured_items\"> <div class=\"col\"> <div class=\"text-center\"> <span class=\"text-black rounded-circle mx-auto shadow placeholder\" style=\"width: 99px;height: 99px;\"> <span>99x99</span> </span> <h2>Ut laborum ea est do</h2> <p>Officia aute ad nisi cupidatat ut labore commodo</p> <a class=\"btn btn-primary\" href=\"#\">Commodo eu ea</a> </div> </div> <div class=\"col\"> <div class=\"text-center\"> <span class=\"text-black rounded-circle mx-auto shadow placeholder\" style=\"width: 99px;height: 99px;\"> <span>99x99</span> </span> <h2>Irure mollit esse ut</h2> <p>Occaecat pariatur ea et veniam id consequat irure</p> <a class=\"btn btn-primary\" href=\"#\">Voluptate sed</a> </div> </div> <div class=\"col\"> <div class=\"text-center\"> <span class=\"text-black rounded-circle mx-auto shadow placeholder\" style=\"width: 99px;height: 99px;\"> <span>99x99</span> </span> <h2>Esse id in dolore ea</h2> <p>Sint incididunt deserunt culpa quis aliquip sit eu</p> <a class=\"btn btn-primary\" href=\"#\">In labore non</a> </div> </div> </div> </div> </div> </div> </body> </html>\n",
            "    Answer: <!DOCTYPE html> <html> <head> <title>Dominate</title> <meta content=\"{&quot;primary&quot;: &quot;rgb(142, 218, 178)&quot;, &quot;secondary&quot;: &quot;rgb(218, 142, 181)&quot;, &quot;light&quot;: &quot;rgb(181, 218, 142)&quot;, &quot;dark&quot;: &quot;rgb(178, 142, 218)&quot;, &quot;enable-gradients&quot;: true}\" name=\"wg-palette\"> <meta content=\"width=device-width, initial-scale=1.0\" name=\"viewport\"> <meta content=\"Web Generator\" name=\"author\"> <meta content=\"3\" name=\"wg-layout\"> <link href=\"../css/custom-bootstrap.css\" rel=\"stylesheet\"> <link href=\"../css/wg-extras.css\" rel=\"stylesheet\"> <script src=\"../js/jquery-3.2.1.slim.min.js\" type=\"text/javascript\"></script> <script src=\"../js/bootstrap.min.js\" type=\"text/javascript\"></script> </head> <body class=\"bg-gradient-light\"> <div class=\"bg-gradient-light shadow-sm\" id=\"full-wrapper\"> <nav class=\"bg-gradient-dark navbar-light shadow-sm navbar navbar-expand-md\" data-wg-type=\"navbar\"> <button class=\"navbar-toggler\" data-target=\"#main-nav\" data-toggle=\"collapse\" type=\"button\"> <span class=\"navbar-toggler-icon\"></span> </button> <div class=\"collapse navbar-collapse\" id=\"main-nav\" style=\"height: 4vh;\"> <ul class=\"navbar-nav ml-auto\"> <li class=\"nav-item\"> <a class=\"nav-link\" href=\"#\">Non tempor ea</a> </li> <li class=\"nav-item\"> <a class=\"nav-link\" href=\"#\">Exercitation</a> </li> <li class=\"nav-item\"> <a class=\"nav-link\" href=\"#\">Duis laborum</a> </li> <li class=\"nav-item\"> <a class=\"nav-link\" href=\"#\">Qui et est eu</a> </li> </ul> </div> </nav> <header class=\"bg-gradient-dark shadow-sm d-flex align-items-center justify-content-center\" data-wg-type=\"header\" style=\"height: 38vh;\"> <h1 class=\"p-2 text-center\">Do Occaecat Cillum Ea Dolor Sed Aute</h1> </header> <div class=\"d-flex\"> <div class=\"bg-gradient-dark shadow-sm\" data-wg-type=\"sidebar\" id=\"sidebar-wrapper\"> <div class=\"list-group list-group-flush\" style=\"width:26vh;\"> <a class=\"list-group-item list-group-item-action\" href=\"#\">Exercitation</a> <a class=\"list-group-item list-group-item-action\" href=\"#\">Non id anim</a> <a class=\"list-group-item list-group-item-action\" href=\"#\">Ipsum enim et</a> <a class=\"list-group-item list-group-item-action\" href=\"#\">Eiusmod dolor</a> <a class=\"list-group-item list-group-item-action\" href=\"#\">Ut amet in ea</a> <a class=\"list-group-item list-group-item-action\" href=\"#\">Nisi enim ut</a> </div> </div> <div class=\"container-fluid py-3\" id=\"page-content\"> <div class=\"my-3 wg-detect carousel slide\" data-ride=\"carousel\" data-wg-type=\"carousel\" id=\"carousel-ele-0\"> <ol class=\"carousel-indicators\"> <li class=\"active\" data-slide-to=\"0\" data-target=\"#carousel-ele-0\"></li> <li class=\"\" data-slide-to=\"1\" data-target=\"#carousel-ele-0\"></li> <li class=\"\" data-slide-to=\"2\" data-target=\"#carousel-ele-0\"></li> <li class=\"\" data-slide-to=\"3\" data-target=\"#carousel-ele-0\"></li> <li class=\"\" data-slide-to=\"4\" data-target=\"#carousel-ele-0\"></li> </ol> <div class=\"carousel-inner\"> <div class=\"carousel-item active\"> <div class=\"d-block w-100 text-center\" style=\"background-color: darkgrey; height: 36vh;\"> <h1 class=\"pt-5\">Sed magna ut laborum</h1> </div> </div> <div class=\"carousel-item\"> <div class=\"d-block w-100 text-center\" style=\"background-color: darkgrey; height: 36vh;\"> <h1 class=\"pt-5\">Duis irure aliqua et</h1> </div> </div> <div class=\"carousel-item\"> <div class=\"d-block w-100 text-center\" style=\"background-color: darkgrey; height: 36vh;\"> <h1 class=\"pt-5\">Dolor consequat do</h1> </div> </div> <div class=\"carousel-item\"> <div class=\"d-block w-100 text-center\" style=\"background-color: darkgrey; height: 36vh;\"> <h1 class=\"pt-5\">Culpa officia sed et</h1> </div> </div> <div class=\"carousel-item\"> <div class=\"d-block w-100 text-center\" style=\"background-color: darkgrey; height: 36vh;\"> <h1 class=\"pt-5\">Anim cillum tempor</h1> </div> </div> </div> <a class=\"carousel-control-prev\" data-slide=\"prev\" href=\"#carousel-ele-0\" role=\"button\"> <span class=\"carousel-control-prev-icon\"></span> </a> <a class=\"carousel-control-next\" data-slide=\"next\" href=\"#carousel-ele-0\" role=\"button\"> <span class=\"carousel-control-next-icon\"></span> </a> </div> <div class=\"row py-3 wg-detect\" data-wg-type=\"featured_items\"> <div class=\"col\"> <div class=\"text-center\"> <span class=\"text-black rounded-circle mx-auto placeholder\" style=\"width: 99px;height: 99px;\"> <span>99x99</span> </span> <h2>Ut laborum ea est do</h2> <p>Officia aute ad nisi cupidatat ut labore commodo</p> <a class=\"btn btn-primary\" href=\"#\">Commodo eu ea</a> </div> </div> <div class=\"col\"> <div class=\"text-center\"> <span class=\"text-black rounded-circle mx-auto placeholder\" style=\"width: 99px;height: 99px;\"> <span>99x99</span> </span> <h2>Irure mollit esse ut</h2> <p>Occaecat pariatur ea et veniam id consequat irure</p> <a class=\"btn btn-primary\" href=\"#\">Voluptate sed</a> </div> </div> <div class=\"col\"> <div class=\"text-center\"> <span class=\"text-black rounded-circle mx-auto placeholder\" style=\"width: 99px;height: 99px;\"> <span>99x99</span> </span> <h2>Esse id in dolore ea</h2> <p>Sint incididunt deserunt culpa quis aliquip sit eu</p> <a class=\"btn btn-primary\" href=\"#\">In labore non</a> </div> </div> </div> </div> </div> </div> </body> </html>\n",
            "      Bleu: 0.87\n",
            "\n",
            "Prediction: <!DOCTYPE html> <html> <head> <title>Dominate</title> <meta content=\"{&quot;primary&quot;: &quot;rgb(189, 215, 231)&quot;, &quot;secondary&quot;: &quot;rgb(107, 174, 214)&quot;, &quot;light&quot;: &quot;rgb(239, 243, 255)&quot;, &quot;dark&quot;: &quot;rgb(33, 113, 181)&quot;, &quot;enable-gradients&quot;: false}\" name=\"wg-palette\"> <meta content=\"width=device-width, initial-scale=1.0\" name=\"viewport\"> <meta content=\"Web Generator\" name=\"author\"> <meta content=\"4\" name=\"wg-layout\"> <link href=\"../css/custom-bootstrap.css\" rel=\"stylesheet\"> <link href=\"../css/wg-extras.css\" rel=\"stylesheet\"> <script src=\"../js/jquery-3.2.1.slim.min.js\" type=\"text/javascript\"></script> <script src=\"../js/bootstrap.min.js\" type=\"text/javascript\"></script> </head> <body class=\"\"> <div class=\" rounded shadow-lg\" id=\"full-wrapper\"> <div class=\"d-flex\"> <div class=\"bg-light rounded shadow-lg\" data-wg-type=\"sidebar\" id=\"sidebar-wrapper\"> <div class=\"sidebar-heading\">Id</div> <div class=\"list-group list-group-flush\" style=\"width:28vh;\"> <a class=\"list-group-item list-group-item-action\" href=\"#\">Ad do ipsum</a> <a class=\"list-group-item list-group-item-action\" href=\"#\">Aute ullamco</a> <a class=\"list-group-item list-group-item-action\" href=\"#\">Nostrud sit</a> <a class=\"list-group-item list-group-item-action\" href=\"#\">Dolor laborum</a> <a class=\"list-group-item list-group-item-action\" href=\"#\">Qui commodo</a> </div> </div> <div class=\"w-100\"> <header class=\"bg-secondary text-white rounded shadow-lg d-flex align-items-center justify-content-center\" data-wg-type=\"header\" style=\"height: 22vh;\"> <h1 class=\"p-2 text-center\">Laboris Anim</h1> </header> <div class=\"container-fluid py-3\" id=\"page-content\"> <div class=\"row my-3 wg-detect\" data-wg-type=\"mix\"> <div class=\"col\"> <div class=\"text-dark wg-detect\" data-wg-type=\"collapse\" id=\"collapse-ele-0\"> <div class=\"card\"> <div class=\"card-header\" id=\"heading-aute-1\"> <button aria-controls=\"heading-aute-1\" class=\"btn btn-link collapsed\" data-target=\"#collapse-aute-1\" data-toggle=\"collapse\">Aute sed occaecat elit consequat veniam aliqua, enim in velit adipiscing aliquip id quis.</button> </div> <div aria-labelledby=\"heading-aute-1\" class=\"collapse\" data-parent=\"#collapse-ele-0\" id=\"collapse-aute-1\"> <div class=\"card-body text-black\">Et aliquip cillum aliquip. Laboris commodo aliquip aliquip. Laboris aliquip aliquip aliquip. Anim aliquip aliquip aliquip. Laboris aliquip aliquip aliquip. Anim aliquip aliquip aliquip. Anim aliquip aliquip aliquip.</div> </div> </div> <div class=\"card\"> <div class=\"card-header\" id=\"heading-minim-2\"> <button aria-controls=\"heading-minim-2\" class=\"btn btn-link collapsed\" data-target=\"#collapse-minim-2\" data-toggle=\"collapse\">Minim culpa excepteur ipsum, magna ad pariatur occaecat, ea esse dolore cupidatat proident aliquip deserunt.</button> </div> <div aria-labelledby=\"heading-minim-2\" class=\"collapse\" data-parent=\"#collapse-ele-0\" id=\"collapse-minim-2\"> <div class=\"card-body text-black\">Et aliquip aliquip aliquip. Amet aliquip aliquip aliquip. Amet aliquip aliquip aliquip. Amet aliquip aliquip aliquip. Anim aliquip aliquip aliquip. Anim aliquip aliquip aliquip. Anim aliquip aliquip aliquip.</div> </div> </div> <div class=\"card\"> <div class=\"card-header\" id=\"heading-ad-3\"> <button aria-controls=\"heading-ad-3\" class=\"btn btn-link collapsed\" data-target=\"#collapse-ad-3\" data-toggle=\"collapse\">Ad pariatur est laborum reprehenderit minim proident.</button> </div> <div aria-labelledby=\"heading-ad-3\" class=\"collapse\" data-parent=\"#collapse-ele-0\" id=\"collapse-ad-3\"> <div class=\"card-body text-black\">Et aliquip aliquip aliquip aliqua. Amet aliquip aliquip aliquip. Amet aliquip aliquip aliquip. Anim aliquip aliquip aliquip. Anim aliquip aliquip aliquip. Anim aliquip aliquip aliquip. Anim aliquip aliquip aliquip.</div> </div> </div> <div class=\"card\"> <div class=\"card-header\" id=\"heading-deserunt-4\"> <button aria-controls=\"heading-deserunt-4\" class=\"btn btn-link collapsed\" data-target=\"#collapse-deserunt-4\" data-toggle=\"collapse\">Deserunt ad elit irure aliquip occaecat veniam.</button> </div> <div aria-labelledby=\"heading-deserunt-4\" class=\"collapse\" data-parent=\"#collapse-ele-0\" id=\"collapse-deserunt-4\"> <div class=\"card-body text-black\">Et aliquip aliquip aliquip aliqua. Amet aliquip aliquip aliquip. Amet aliquip aliquip aliquip. Laboris aliquip adipiscing commodo irure tempor consequat sed, id dolor amet do, consectetur mollit dolor fugiat magna excepteur sint, pariatur aute commodo commodo. Laboris laboris reprehenderit consectetur. Non laboris aute adipiscing est fugiat occaecat, reprehenderit in ullamco esse commodo sunt dolor proident, quis lorem do officia anim nulla qui est. Et occaecat et cillum. Enim sit enim commodo sit labore id. Culpa in aliquip adipiscing nulla deserunt. Consectetur id nostrud enim qui, velit in consequat commodo amet. Commodo minim duis esse amet proident velit. Cillum laboris amet ut amet, cillum veniam consectetur amet pariatur voluptate mollit. Dolore tempor ipsum id elit culpa, nulla et est enim. Mollit do aute aliquip anim. Do non ex fugiat consectetur exercitation lorem, laboris ipsum consectetur ad.</span> </p> </div> </div> <div class=\"row\"> <div class=\"col\"> <h2>Qui quis eiusmod consequat fugiat sunt adipiscing minim, magna ullamco duis nulla exercitation sit nostrud.</h2> <p><br> <span class=\"mx-auto m-2 shadow placeholder\" data-wg-type=\"image\" style=\"width: 198px;height: 213px;\"> <span>198x213</span> </span> <span data-wg-type=\"text_area\">Officia aute esse fugiat consequat reprehenderit. Dolore aliqua aute eiusmod fugiat non laborum. Esse duis lorem esse sint eu. Voluptate occaecat aute qui. Officia est non sed magna dolor, elit ipsum proident lorem quis pariatur. In amet aliquip aliqua. Sunt dolore qui adipiscing fugiat commodo. Adipiscing aute dolore duis amet occaecat labore ea, adipiscing cillum voluptate anim adipiscing sint, pariatur aute dolor culpa. Sunt dolor voluptate labore reprehenderit. Laborum exercitation irure ad sit. Sint proident reprehenderit consectetur labore commodo nisi cupidatat. Voluptate commodo nisi minim, cupidatat sit enim ad minim aliqua dolore, irure ex mollit consectetur. Sunt ipsum labore cillum quis, officia aliqua est enim eu esse esse. Commodo fugiat sit enim ea do. Enim ullamco eiusmod quis. In duis anim amet labore sunt et. Laboris in ut esse sint quis consequat. In aute consequat duis, elit laboris consequat sint nulla nisi lorem excepteur. Esse ipsum do adipiscing deserunt officia aliqua.</span> </p> </div> </div> </div> </div> </div> </div> </body> </html>\n",
            "    Answer: <!DOCTYPE html> <html> <head> <title>Dominate</title> <meta content=\"{&quot;primary&quot;: &quot;rgb(90, 185, 120)&quot;, &quot;secondary&quot;: &quot;rgb(32, 110, 139)&quot;, &quot;light&quot;: &quot;rgb(253, 239, 154)&quot;, &quot;dark&quot;: &quot;rgb(42, 24, 108)&quot;, &quot;enable-gradients&quot;: true}\" name=\"wg-palette\"> <meta content=\"width=device-width, initial-scale=1.0\" name=\"viewport\"> <meta content=\"Web Generator\" name=\"author\"> <meta content=\"1\" name=\"wg-layout\"> <link href=\"../css/custom-bootstrap.css\" rel=\"stylesheet\"> <link href=\"../css/wg-extras.css\" rel=\"stylesheet\"> <script src=\"../js/jquery-3.2.1.slim.min.js\" type=\"text/javascript\"></script> <script src=\"../js/bootstrap.min.js\" type=\"text/javascript\"></script> </head> <body class=\"\"> <div class=\"d-flex \" id=\"full-wrapper\"> <div class=\"bg-gradient-light rounded shadow-sm\" data-wg-type=\"sidebar\" id=\"sidebar-wrapper\"> <div class=\"sidebar-heading\">Id</div> <div class=\"list-group list-group-flush\" style=\"width:24vh;\"> <a class=\"list-group-item list-group-item-action\" href=\"#\">Ad do ipsum</a> <a class=\"list-group-item list-group-item-action\" href=\"#\">Aute ullamco</a> <a class=\"list-group-item list-group-item-action\" href=\"#\">Nostrud sit</a> <a class=\"list-group-item list-group-item-action\" href=\"#\">Dolor laborum</a> <a class=\"list-group-item list-group-item-action\" href=\"#\">Qui commodo</a> </div> </div> <div class=\"w-100\"> <header class=\"bg-gradient-secondary text-white rounded shadow-sm d-flex align-items-center justify-content-center\" data-wg-type=\"header\" style=\"height: 22vh;\"> <h1 class=\"p-2 text-center\">Laboris Anim</h1> </header> <div class=\"container-fluid py-3\" id=\"page-content\"> <div class=\"row my-3 wg-detect\" data-wg-type=\"mix\"> <div class=\"col\"> <div class=\"text-dark wg-detect\" data-wg-type=\"collapse\" id=\"collapse-ele-0\"> <div class=\"card\"> <div class=\"card-header\" id=\"heading-aute-1\"> <button aria-controls=\"heading-aute-1\" class=\"btn btn-link collapsed\" data-target=\"#collapse-aute-1\" data-toggle=\"collapse\">Aute sed occaecat elit consequat veniam aliqua, anim in velit adipiscing aliquip id quis.</button> </div> <div aria-labelledby=\"heading-aute-1\" class=\"collapse\" data-parent=\"#collapse-ele-0\" id=\"collapse-aute-1\"> <div class=\"card-body text-black\">In nostrud anim adipiscing proident do, dolor lorem exercitation nulla ut officia nostrud et, sit eu nisi labore minim. Duis ullamco ea sunt qui veniam nostrud. Aliquip ea est aute sed labore. Deserunt nulla dolore tempor aliqua enim ad consequat. Officia ea consequat pariatur. Deserunt fugiat enim nostrud proident cupidatat est. Reprehenderit cupidatat laborum ex enim ex, officia esse incididunt cupidatat labore consectetur. Veniam ullamco sit nisi occaecat non quis quis, qui ea dolor fugiat nulla. Reprehenderit consectetur nostrud aliqua in.</div> </div> </div> <div class=\"card\"> <div class=\"card-header\" id=\"heading-minim-2\"> <button aria-controls=\"heading-minim-2\" class=\"btn btn-link collapsed\" data-target=\"#collapse-minim-2\" data-toggle=\"collapse\">Minim culpa excepteur ipsum, magna ad pariatur occaecat, ea esse dolore cupidatat proident aliquip deserunt.</button> </div> <div aria-labelledby=\"heading-minim-2\" class=\"collapse\" data-parent=\"#collapse-ele-0\" id=\"collapse-minim-2\"> <div class=\"card-body text-black\">Dolore lorem non anim aliquip cupidatat deserunt ipsum, lorem eu ea sunt non officia, irure magna ut pariatur. Nisi duis ut officia ad sunt, mollit elit commodo et id duis. Quis consectetur proident deserunt qui eu cupidatat consequat. Adipiscing esse non non labore, est enim irure est tempor culpa enim culpa, qui do ullamco eu cupidatat. Ipsum ipsum commodo est ad sit qui.</div> </div> </div> <div class=\"card\"> <div class=\"card-header\" id=\"heading-ad-3\"> <button aria-controls=\"heading-ad-3\" class=\"btn btn-link collapsed\" data-target=\"#collapse-ad-3\" data-toggle=\"collapse\">Ad pariatur est laborum reprehenderit minim proident.</button> </div> <div aria-labelledby=\"heading-ad-3\" class=\"collapse\" data-parent=\"#collapse-ele-0\" id=\"collapse-ad-3\"> <div class=\"card-body text-black\">Nulla do cupidatat veniam, irure elit esse consectetur nulla culpa sunt eiusmod. Officia et quis reprehenderit aliquip minim. Ea minim ex sint. Excepteur proident culpa ullamco culpa. Lorem aute enim cupidatat. Mollit sint duis nostrud cupidatat excepteur sit pariatur. Excepteur amet ad nisi sint fugiat cillum pariatur, quis cillum eu proident voluptate. Anim et est sit est amet. Aliqua ut lorem occaecat aliqua veniam. Et irure nisi commodo exercitation.</div> </div> </div> <div class=\"card\"> <div class=\"card-header\" id=\"heading-deserunt-4\"> <button aria-controls=\"heading-deserunt-4\" class=\"btn btn-link collapsed\" data-target=\"#collapse-deserunt-4\" data-toggle=\"collapse\">Deserunt ad elit irure aliquip occaecat veniam.</button> </div> <div aria-labelledby=\"heading-deserunt-4\" class=\"collapse\" data-parent=\"#collapse-ele-0\" id=\"collapse-deserunt-4\"> <div class=\"card-body text-black\">Aliquip deserunt consectetur quis aliquip cillum tempor, lorem excepteur adipiscing exercitation nulla. Ea incididunt lorem nostrud esse, veniam amet dolor nulla voluptate officia sed. Ea minim id dolor adipiscing, occaecat quis officia exercitation et velit, nisi incididunt nisi laboris fugiat. Consectetur commodo ea pariatur irure id. Anim officia sit in ipsum excepteur id cupidatat. Eiusmod adipiscing non nulla ipsum, consequat lorem incididunt proident voluptate consequat nulla. Sint nisi dolore dolore ullamco in aute magna. Nostrud quis non nisi fugiat cillum. Sunt ut ex commodo et ea et ea, sed quis culpa sint ex deserunt dolore. Dolore quis voluptate id ipsum do commodo ex, minim veniam enim et adipiscing deserunt duis.</div> </div> </div> </div> </div> </div> <div class=\"wg-detect\" data-wg-type=\"descriptive_items\"> <div class=\"row\"> <div class=\"col\"> <h2>Pariatur ad adipiscing elit anim.</h2> <p><br> <span class=\"float-left m-2 shadow placeholder\" data-wg-type=\"image\" style=\"width: 199px;height: 218px;\"> <span>199x218</span> </span> <span data-wg-type=\"text_area\">Aliquip eu pariatur quis. Aute irure anim pariatur esse do, officia sint deserunt aute occaecat. Irure occaecat consequat sunt irure exercitation do do, sint tempor exercitation veniam dolore qui nisi aliquip. Ex adipiscing elit ipsum eu. Proident exercitation do non dolore eu. Cillum duis adipiscing lorem sed, reprehenderit excepteur proident aute commodo. Nulla consequat culpa velit minim ullamco excepteur. Est eiusmod officia ad magna ipsum cillum. Quis culpa minim esse fugiat, ipsum officia lorem esse esse nostrud est voluptate. Exercitation sunt et consectetur velit commodo. Ad excepteur pariatur veniam ut. Enim officia irure sunt. Aliquip occaecat minim lorem tempor consequat cillum. Dolor aliquip duis tempor. Culpa aliquip adipiscing commodo irure tempor consequat sed, id dolor amet do, consectetur mollit dolor fugiat magna eu. Excepteur esse nostrud in elit, fugiat consectetur amet consequat aliquip. Laborum do aliqua reprehenderit consectetur. Non laboris aute adipiscing est fugiat occaecat, reprehenderit in ullamco esse commodo sunt dolor proident, quis lorem do officia anim nulla qui est. Et occaecat et cillum. Enim sit enim commodo sit labore id. Culpa in aliquip adipiscing nulla deserunt. Consectetur id nostrud anim qui, velit in consequat lorem commodo amet. Cupidatat minim mollit duis esse proident velit. Deserunt ullamco culpa amet ut amet, cillum veniam consectetur amet pariatur voluptate mollit. Dolore tempor ipsum id elit culpa, nulla et ad veniam. Amet do aute aliquip anim. Do non eu fugiat consectetur exercitation lorem, laboris ipsum consectetur ad.</span> </p> </div> </div> <div class=\"row\"> <div class=\"col\"> <h2>Qui quis eiusmod consequat fugiat sunt adipiscing minim, magna ullamco duis nulla exercitation sit nostrud.</h2> <p><br> <span class=\"mx-auto m-2 shadow placeholder\" data-wg-type=\"image\" style=\"width: 199px;height: 218px;\"> <span>199x218</span> </span> <span data-wg-type=\"text_area\">Officia aute esse fugiat consequat reprehenderit. Dolore aliquip aute eiusmod fugiat non laborum. Esse duis lorem esse sint eu. Voluptate occaecat aute qui. Officia est non sed magna dolor, elit ipsum proident anim quis in proident. Ex id quis sint aute laboris nulla aute. Duis qui consectetur laboris quis, qui ullamco fugiat commodo. Adipiscing aute dolore duis amet occaecat labore ea, adipiscing cillum voluptate anim adipiscing sint, pariatur aute esse dolor culpa. Sunt enim amet voluptate labore reprehenderit cupidatat, exercitation irure ad sit. Sint proident reprehenderit consectetur labore commodo nisi cupidatat. Voluptate commodo nisi lorem, cupidatat sit enim ad minim aliqua dolore. Irure ex mollit consectetur, sunt ipsum labore cillum quis, officia aliqua est enim eu esse esse. Commodo fugiat sit enim ea do. Enim ullamco eiusmod quis. In duis anim eiusmod sunt eiusmod. Laboris in ut esse sed quis consequat. In aute consequat duis, elit laboris consequat sint nulla nisi lorem excepteur. Esse ipsum do adipiscing deserunt officia aliqua.</span> </p> </div> </div> </div> </div> </div> </div> </body> </html>\n",
            "      Bleu: 0.63\n"
          ]
        },
        {
          "name": "stderr",
          "output_type": "stream",
          "text": [
            "Epoch 9/19 - valid loop: 100%|██████████| 2/2 [11:20<00:00, 340.26s/it, bleu_score=0.896]\n"
          ]
        },
        {
          "name": "stdout",
          "output_type": "stream",
          "text": [
            "\n",
            "Prediction: <!DOCTYPE html> <html> <head> <title>Dominate</title> <meta content=\"{&quot;primary&quot;: &quot;rgb(189, 201, 225)&quot;, &quot;secondary&quot;: &quot;rgb(116, 169, 207)&quot;, &quot;light&quot;: &quot;rgb(241, 238, 246)&quot;, &quot;dark&quot;: &quot;rgb(5, 112, 176)&quot;, &quot;enable-gradients&quot;: false}\" name=\"wg-palette\"> <meta content=\"width=device-width, initial-scale=1.0\" name=\"viewport\"> <meta content=\"Web Generator\" name=\"author\"> <meta content=\"4\" name=\"wg-layout\"> <link href=\"../css/custom-bootstrap.css\" rel=\"stylesheet\"> <link href=\"../css/wg-extras.css\" rel=\"stylesheet\"> <script src=\"../js/jquery-3.2.1.slim.min.js\" type=\"text/javascript\"></script> <script src=\"../js/bootstrap.min.js\" type=\"text/javascript\"></script> </head> <body class=\"bg-light\"> <div class=\"bg-light rounded shadow-lg\" id=\"full-wrapper\"> <div class=\"d-flex\"> <div class=\"w-100\"> <nav class=\"bg-dark navbar-dark rounded shadow-lg navbar navbar-expand-md\" data-wg-type=\"navbar\"> <a class=\"navbar-brand\" href=\"#\">Eu</a> <button class=\"navbar-toggler\" data-target=\"#main-nav\" data-toggle=\"collapse\" type=\"button\"> <span class=\"navbar-toggler-icon\"></span> </button> <div class=\"collapse navbar-collapse\" id=\"main-nav\" style=\"height: 5vh;\"> <ul class=\"navbar-nav ml-auto\"> <li class=\"nav-item\"> <a class=\"nav-link\" href=\"#\">Deserunt sint</a> </li> <li class=\"nav-item\"> <a class=\"nav-link\" href=\"#\">Lorem ut sed</a> </li> </ul> </div> </nav> <header class=\"bg-dark text-white rounded shadow-lg d-flex align-items-center justify-content-center\" data-wg-type=\"header\" style=\"height: 17vh;\"> <h1 class=\"p-2 text-center\">Aute Fugiat Veniam Aliquip Reprehenderit Nulla</h1> </header> <div class=\"container-fluid py-3\" id=\"page-content\"> <div class=\"row my-3 wg-detect\" data-wg-type=\"mix\"> <div class=\"col\"> <p class=\"wg-detect\" data-wg-type=\"paragraph\">Mollit ad sint culpa magna voluptate pariatur do. Consequat quis laboris reprehenderit tempor excepteur exercitation enim. Deserunt velit nostrud ullamco eiusmod qui sit eu, in cupidatat magna excepteur dolore consectetur culpa. Voluptate esse dolore enim qui irure tempor, qui lorem deserunt occaecat laborum aute irure elit. Labore magna consequat ullamco ipsum sint culpa, amet lorem minim irure laborum anim. Commodo nisi eiusmod sint ad laboris amet reprehenderit.</p> </div> <div class=\"col\"> <ol class=\"wg-detect\" data-wg-type=\"list\"> <li>Tempor cillum</li> <li>In anim amet</li> <li>Qui mollit ut</li> <li>Minim nostrud</li> <li>Consectetur</li> </ol> </div> <div class=\"col\"> <p class=\"wg-detect\" data-wg-type=\"paragraph\">Est aliqua ex nostrud ea duis esse voluptate, dolore officia elit veniam minim dolore do esse. Laboris sunt proident ad reprehenderit pariatur consequat laboris. Veniam consectetur fugiat id sint anim. Anim dolore ad deserunt ex est. Proident voluptate ut duis lorem velit cillum adipiscing. Dolore laborum amet sed eu irure cupidatat.</p> </div> </div> <div class=\"row wg-detect\" data-wg-type=\"cards\"> <div class=\"col\"> <div class=\"card-columns\"> <div class=\"text-black shadow card\"> <span class=\"card-img-top placeholder\" style=\"height: 100px;\"></span> <div class=\"card-body\"> <h5 class=\"card-title\">Sed laborum lorem id</h5> <p class=\"card-text\">Ex deserunt culpa laboris amet non ut commodo sunt</p> <div class=\"d-flex justify-content-between align-items-center\"> <div class=\"btn-group\"> <button class=\"btn btn-sm btn-outline-secondary\" type=\"button\">Do ad eiusmod</button> </div> <small class=\"text-muted\">Dolor minim et</small> </div> </div> </div> <div class=\"text-black shadow card\"> <span class=\"card-img-top placeholder\" style=\"height: 100px;\"></span> <div class=\"card-body\"> <h5 class=\"card-title\">Ex excepteur duis id</h5> <p class=\"card-text\">Cillum fugiat irure elit in occaecat labore sunt</p> <div class=\"d-flex justify-content-between align-items-center\"> <div class=\"btn-group\"> <button class=\"btn btn-sm btn-outline-secondary\" type=\"button\">Enim nisi ut</button> </div> <small class=\"text-muted\">Ut dolor non</small> </div> </div> </div> <div class=\"text-black shadow card\"> <span class=\"card-img-top placeholder\" style=\"height: 100px;\"></span> <div class=\"card-body\"> <h5 class=\"card-title\">Sed ullamco ea et in</h5> <p class=\"card-text\">Eu tempor ipsum cupidatat cillum magna enim duis</p> <div class=\"d-flex justify-content-between align-items-center\"> <div class=\"btn-group\"> <button class=\"btn btn-sm btn-outline-secondary\" type=\"button\">Esse magna et</button> </div> <small class=\"text-muted\">Magna laboris</small> </div> </div> </div> <div class=\"text-black shadow card\"> <span class=\"card-img-top placeholder\" style=\"height: 100px;\"></span> <div class=\"card-body\"> <h5 class=\"card-title\">Exercitation dolor</h5> <p class=\"card-text\">Voluptate consectetur laboris enim eu dolor cillum</p> <div class=\"d-flex justify-content-between align-items-center\"> <div class=\"btn-group\"> <button class=\"btn btn-sm btn-outline-secondary\" type=\"button\">Qui quis do</button> </div> <small class=\"text-muted\">Commodo nulla</small> </div> </div> </div> </div> </div> </div> </div> </div> <footer class=\" rounded shadow-lg jumbotron mb-0\" data-wg-type=\"footer\" style=\"height: 10vh;\"> <div class=\"container\"> <span class=\"text-muted\">Cillum sunt anim nisi ex culpa eiusmod nulla et ea</span> </div> </footer> </div> <div class=\"bg-gradient-light text-white rounded shadow-lg\" data-wg-type=\"sidebar\" id=\"sidebar-wrapper\"> <div class=\"list-group list-group-flush\" style=\"width:26vh;\"> <a class=\"list-group-item list-group-item-action\" href=\"#\">Ullamco ea eu</a> <a class=\"list-group-item list-group-item-action\" href=\"#\">Nisi nisi eu</a> <a class=\"list-group-item list-group-item-action\" href=\"#\">Cillum anim</a> <a class=\"list-group-item list-group-item-action\" href=\"#\">Pariatur sint</a> <a class=\"list-group-item list-group-item-action\" href=\"#\">Ut occaecat</a> <a class=\"list-group-item list-group-item-action\" href=\"#\">Voluptate do</a> </div> </div> </div> </body> </html>\n",
            "    Answer: <!DOCTYPE html> <html> <head> <title>Dominate</title> <meta content=\"{&quot;primary&quot;: &quot;rgb(238, 188, 165)&quot;, &quot;secondary&quot;: &quot;rgb(174, 85, 45)&quot;, &quot;light&quot;: &quot;rgb(240, 196, 176)&quot;, &quot;dark&quot;: &quot;rgb(98, 51, 30)&quot;, &quot;enable-gradients&quot;: false}\" name=\"wg-palette\"> <meta content=\"width=device-width, initial-scale=1.0\" name=\"viewport\"> <meta content=\"Web Generator\" name=\"author\"> <meta content=\"1\" name=\"wg-layout\"> <link href=\"../css/custom-bootstrap.css\" rel=\"stylesheet\"> <link href=\"../css/wg-extras.css\" rel=\"stylesheet\"> <script src=\"../js/jquery-3.2.1.slim.min.js\" type=\"text/javascript\"></script> <script src=\"../js/bootstrap.min.js\" type=\"text/javascript\"></script> </head> <body class=\"bg-light\"> <div class=\"d-flex bg-light\" id=\"full-wrapper\"> <div class=\"w-100\"> <nav class=\"bg-dark navbar-dark navbar navbar-expand-md\" data-wg-type=\"navbar\"> <a class=\"navbar-brand\" href=\"#\">Eu</a> <button class=\"navbar-toggler\" data-target=\"#main-nav\" data-toggle=\"collapse\" type=\"button\"> <span class=\"navbar-toggler-icon\"></span> </button> <div class=\"collapse navbar-collapse\" id=\"main-nav\" style=\"height: 4vh;\"> <ul class=\"navbar-nav ml-auto\"> <li class=\"nav-item\"> <a class=\"nav-link\" href=\"#\">Deserunt sint</a> </li> <li class=\"nav-item\"> <a class=\"nav-link\" href=\"#\">Lorem et non</a> </li> </ul> </div> </nav> <header class=\"bg-dark text-white d-flex align-items-center justify-content-center\" data-wg-type=\"header\" style=\"height: 17vh;\"> <h1 class=\"p-2 text-center\">Aute Fugiat Veniam Aliquip Reprehenderit Nulla</h1> </header> <div class=\"container-fluid py-3\" id=\"page-content\"> <div class=\"row my-3 wg-detect\" data-wg-type=\"mix\"> <div class=\"col\"> <p class=\"wg-detect\" data-wg-type=\"paragraph\">Mollit ad sint culpa magna voluptate pariatur do. Consequat quis laboris reprehenderit tempor excepteur exercitation enim. Deserunt velit nostrud ullamco eiusmod qui sit eu, in cupidatat magna excepteur dolore consectetur culpa. Voluptate esse dolore enim qui irure tempor, qui lorem deserunt occaecat laborum aute irure elit. Labore magna consequat ullamco ipsum sint culpa, amet lorem minim irure laborum anim. Commodo nisi eiusmod sint ad laboris amet reprehenderit.</p> </div> <div class=\"col\"> <ol class=\"wg-detect\" data-wg-type=\"list\"> <li>Tempor cillum</li> <li>In enim amet</li> <li>Qui mollit ut</li> <li>Minim nostrud</li> <li>Consectetur</li> </ol> </div> <div class=\"col\"> <p class=\"wg-detect\" data-wg-type=\"paragraph\">Est aliqua ex nostrud ea duis esse voluptate, dolore officia elit veniam minim dolore do esse. Laboris sunt proident ad reprehenderit pariatur consequat laboris. Veniam consectetur fugiat id sint enim. Anim dolore ad deserunt ex est. Proident voluptate ut duis lorem velit cillum adipiscing. Dolore laborum amet sed eu irure cupidatat.</p> </div> </div> <div class=\"row wg-detect\" data-wg-type=\"cards\"> <div class=\"col\"> <div class=\"card-columns\"> <div class=\"text-black card\"> <span class=\"card-img-top placeholder\" style=\"height: 100px;\"></span> <div class=\"card-body\"> <h5 class=\"card-title\">Sed laborum lorem id</h5> <p class=\"card-text\">Ex deserunt culpa laboris amet non ut commodo sunt</p> <div class=\"d-flex justify-content-between align-items-center\"> <div class=\"btn-group\"> <button class=\"btn btn-sm btn-outline-secondary\" type=\"button\">Do ad eiusmod</button> </div> <small class=\"text-muted\">Anim minim et</small> </div> </div> </div> <div class=\"text-black card\"> <span class=\"card-img-top placeholder\" style=\"height: 100px;\"></span> <div class=\"card-body\"> <h5 class=\"card-title\">Ex excepteur duis id</h5> <p class=\"card-text\">Cillum fugiat irure elit in occaecat labore sunt</p> <div class=\"d-flex justify-content-between align-items-center\"> <div class=\"btn-group\"> <button class=\"btn btn-sm btn-outline-secondary\" type=\"button\">Enim nisi ut</button> </div> <small class=\"text-muted\">Ut enim non</small> </div> </div> </div> <div class=\"text-black card\"> <span class=\"card-img-top placeholder\" style=\"height: 100px;\"></span> <div class=\"card-body\"> <h5 class=\"card-title\">Sed ullamco ea et in</h5> <p class=\"card-text\">Eu tempor ipsum cupidatat cillum magna enim duis</p> <div class=\"d-flex justify-content-between align-items-center\"> <div class=\"btn-group\"> <button class=\"btn btn-sm btn-outline-secondary\" type=\"button\">Esse magna ut</button> </div> <small class=\"text-muted\">Magna laboris</small> </div> </div> </div> <div class=\"text-black card\"> <span class=\"card-img-top placeholder\" style=\"height: 100px;\"></span> <div class=\"card-body\"> <h5 class=\"card-title\">Exercitation dolor</h5> <p class=\"card-text\">Voluptate consectetur laboris enim eu dolor cillum</p> <div class=\"d-flex justify-content-between align-items-center\"> <div class=\"btn-group\"> <button class=\"btn btn-sm btn-outline-secondary\" type=\"button\">Qui quis do</button> </div> <small class=\"text-muted\">Commodo nulla</small> </div> </div> </div> </div> </div> </div> </div> <footer class=\"jumbotron mb-0\" data-wg-type=\"footer\" style=\"height: 7vh;\"> <div class=\"container\"> <span class=\"text-muted\">Cillum sunt anim nisi ex culpa eiusmod nulla et ea</span> </div> </footer> </div> <div class=\"bg-dark text-white\" data-wg-type=\"sidebar\" id=\"sidebar-wrapper\"> <div class=\"list-group list-group-flush\" style=\"width:22vh;\"> <a class=\"list-group-item list-group-item-action\" href=\"#\">Ullamco ea eu</a> <a class=\"list-group-item list-group-item-action\" href=\"#\">Nisi nisi eu</a> <a class=\"list-group-item list-group-item-action\" href=\"#\">Cillum anim</a> <a class=\"list-group-item list-group-item-action\" href=\"#\">Pariatur sint</a> <a class=\"list-group-item list-group-item-action\" href=\"#\">Ut occaecat</a> <a class=\"list-group-item list-group-item-action\" href=\"#\">Voluptate do</a> </div> </div> </div> </body> </html>\n",
            "      Bleu: 0.69\n",
            "\n",
            "Prediction: <!DOCTYPE html> <html> <head> <title>Dominate</title> <meta content=\"{&quot;primary&quot;: &quot;rgb(100, 180, 99)&quot;, &quot;secondary&quot;: &quot;rgb(18, 110, 69)&quot;, &quot;light&quot;: &quot;rgb(215, 249, 208)&quot;, &quot;dark&quot;: &quot;rgb(18, 36, 20)&quot;, &quot;enable-gradients&quot;: false}\" name=\"wg-palette\"> <meta content=\"width=device-width, initial-scale=1.0\" name=\"viewport\"> <meta content=\"Web Generator\" name=\"author\"> <meta content=\"4\" name=\"wg-layout\"> <link href=\"../css/custom-bootstrap.css\" rel=\"stylesheet\"> <link href=\"../css/wg-extras.css\" rel=\"stylesheet\"> <script src=\"../js/jquery-3.2.1.slim.min.js\" type=\"text/javascript\"></script> <script src=\"../js/bootstrap.min.js\" type=\"text/javascript\"></script> </head> <body class=\"bg-dark\"> <div class=\"bg-light rounded shadow-lg\" id=\"full-wrapper\"> <div class=\"d-flex\"> <div class=\"bg-secondary text-white rounded shadow-lg\" data-wg-type=\"sidebar\" id=\"sidebar-wrapper\"> <div class=\"list-group list-group-flush\" style=\"width:28vh;\"> <a class=\"list-group-item list-group-item-action\" href=\"#\">Ipsum ea sit</a> <a class=\"list-group-item list-group-item-action\" href=\"#\">Sint non quis</a> </div> </div> <div class=\"w-100\"> <nav class=\"bg-dark navbar-dark rounded shadow-lg navbar navbar-expand-md\" data-wg-type=\"navbar\"> <a class=\"navbar-brand\" href=\"#\">Dolor</a> <button class=\"navbar-toggler\" data-target=\"#main-nav\" data-toggle=\"collapse\" type=\"button\"> <span class=\"navbar-toggler-icon\"></span> </button> <div class=\"collapse navbar-collapse\" id=\"main-nav\" style=\"height: 4vh;\"> <ul class=\"navbar-nav ml-auto\"> <li class=\"nav-item\"> <a class=\"nav-link\" href=\"#\">Eu cillum id</a> </li> <li class=\"nav-item\"> <a class=\"nav-link\" href=\"#\">In deserunt</a> </li> <li class=\"nav-item\"> <a class=\"nav-link\" href=\"#\">Aliqua sint</a> </li> </ul> </div> </nav> <div class=\"container-fluid py-3\" id=\"page-content\"> <form class=\"p-3\" data-wg-type=\"form\"> <div class=\"form-group\"> <label for=\"sit\">Sit</label> <input class=\"form-control\" data-wg-type=\"text\" id=\"sit\" type=\"text\"> </div> <div class=\"form-row\"> <div class=\"form-group col-md\"> <label for=\"excepteur_ex_duis\">Excepteur ex duis</label> <input class=\"form-control\" data-wg-type=\"date\" id=\"excepteur_ex_duis\" type=\"date\"> </div> <div class=\"form-group col-md\"> <label for=\"qui_laboris\">Qui laboris</label> <input class=\"form-control\" data-wg-type=\"text\" id=\"qui_laboris\" type=\"text\"> </div> </div> <div class=\"form-group\"> <label for=\"excepteur_dolor_et\">Excepteur dolor et</label> <input class=\"form-control\" data-wg-type=\"text\" id=\"excepteur_dolor_et\" type=\"text\"> </div> <div class=\"form-row\"> <div class=\"form-group col-md\"> <label for=\"ad_ea_sunt\">Ad ea sunt</label> <input class=\"form-control\" data-wg-type=\"text\" id=\"ad_ea_sunt\" type=\"text\"> </div> <div class=\"form-group col-md\"> <label for=\"nostrud_veniam\">Nostrud veniam</label> <input class=\"form-control\" data-wg-type=\"date\" id=\"nostrud_veniam\" type=\"date\"> </div> </div> </form> </div> </div> </div> </body> </html>\n",
            "    Answer: <!DOCTYPE html> <html> <head> <title>Dominate</title> <meta content=\"{&quot;primary&quot;: &quot;rgb(40, 109, 35)&quot;, &quot;secondary&quot;: &quot;rgb(104, 35, 109)&quot;, &quot;light&quot;: &quot;rgb(35, 109, 104)&quot;, &quot;dark&quot;: &quot;rgb(109, 35, 40)&quot;, &quot;enable-gradients&quot;: true}\" name=\"wg-palette\"> <meta content=\"width=device-width, initial-scale=1.0\" name=\"viewport\"> <meta content=\"Web Generator\" name=\"author\"> <meta content=\"4\" name=\"wg-layout\"> <link href=\"../css/custom-bootstrap.css\" rel=\"stylesheet\"> <link href=\"../css/wg-extras.css\" rel=\"stylesheet\"> <script src=\"../js/jquery-3.2.1.slim.min.js\" type=\"text/javascript\"></script> <script src=\"../js/bootstrap.min.js\" type=\"text/javascript\"></script> </head> <body class=\"bg-gradient-light\"> <div class=\"bg-gradient-light text-white rounded shadow-sm\" id=\"full-wrapper\"> <div class=\"d-flex\"> <div class=\"bg-gradient-dark text-white rounded shadow-sm\" data-wg-type=\"sidebar\" id=\"sidebar-wrapper\"> <div class=\"list-group list-group-flush\" style=\"width:26vh;\"> <a class=\"list-group-item list-group-item-action\" href=\"#\">Ipsum ea sit</a> <a class=\"list-group-item list-group-item-action\" href=\"#\">Sint non quis</a> </div> </div> <div class=\"w-100\"> <nav class=\"bg-gradient-dark navbar-dark rounded shadow-sm navbar navbar-expand-md\" data-wg-type=\"navbar\"> <a class=\"navbar-brand\" href=\"#\">Dolor</a> <button class=\"navbar-toggler\" data-target=\"#main-nav\" data-toggle=\"collapse\" type=\"button\"> <span class=\"navbar-toggler-icon\"></span> </button> <div class=\"collapse navbar-collapse\" id=\"main-nav\" style=\"height: 4vh;\"> <ul class=\"navbar-nav ml-auto\"> <li class=\"nav-item\"> <a class=\"nav-link\" href=\"#\">Eu cillum id</a> </li> <li class=\"nav-item\"> <a class=\"nav-link\" href=\"#\">In deserunt</a> </li> <li class=\"nav-item\"> <a class=\"nav-link\" href=\"#\">Aliqua sint</a> </li> </ul> </div> </nav> <div class=\"container-fluid py-3\" id=\"page-content\"> <form class=\"p-3\" data-wg-type=\"form\"> <div class=\"form-group\"> <label for=\"sit\">Sit</label> <input class=\"form-control\" data-wg-type=\"text\" id=\"sit\" type=\"text\"> </div> <div class=\"form-row\"> <div class=\"form-group col-md\"> <label for=\"excepteur_ex_duis\">Excepteur ex duis</label> <input class=\"form-control\" data-wg-type=\"date\" id=\"excepteur_ex_duis\" type=\"date\"> </div> <div class=\"form-group col-md\"> <label for=\"qui_laboris\">Qui laboris</label> <input class=\"form-control\" data-wg-type=\"text\" id=\"qui_laboris\" type=\"text\"> </div> </div> <div class=\"form-group\"> <label for=\"excepteur_dolor_et\">Excepteur dolor et</label> <input class=\"form-control\" data-wg-type=\"text\" id=\"excepteur_dolor_et\" type=\"text\"> </div> <div class=\"form-row\"> <div class=\"form-group col-md\"> <label for=\"ad_ea_sunt\">Ad ea sunt</label> <input class=\"form-control\" data-wg-type=\"text\" id=\"ad_ea_sunt\" type=\"text\"> </div> <div class=\"form-group col-md\"> <label for=\"nostrud_veniam\">Nostrud veniam</label> <input class=\"form-control\" data-wg-type=\"date\" id=\"nostrud_veniam\" type=\"date\"> </div> </div> </form> </div> </div> </div> </div> </body> </html>\n",
            "      Bleu: 0.94\n",
            "\n",
            "Prediction: <!DOCTYPE html> <html> <head> <title>Dominate</title> <meta content=\"{&quot;primary&quot;: &quot;rgb(203, 201, 226)&quot;, &quot;secondary&quot;: &quot;rgb(158, 154, 200)&quot;, &quot;light&quot;: &quot;rgb(242, 240, 247)&quot;, &quot;dark&quot;: &quot;rgb(106, 81, 163)&quot;, &quot;enable-gradients&quot;: false}\" name=\"wg-palette\"> <meta content=\"width=device-width, initial-scale=1.0\" name=\"viewport\"> <meta content=\"Web Generator\" name=\"author\"> <meta content=\"2\" name=\"wg-layout\"> <link href=\"../css/custom-bootstrap.css\" rel=\"stylesheet\"> <link href=\"../css/wg-extras.css\" rel=\"stylesheet\"> <script src=\"../js/jquery-3.2.1.slim.min.js\" type=\"text/javascript\"></script> <script src=\"../js/bootstrap.min.js\" type=\"text/javascript\"></script> </head> <body class=\"\"> <div class=\" rounded shadow-lg\" id=\"full-wrapper\"> <nav class=\"bg-light navbar-light rounded shadow-lg navbar navbar-expand-md\" data-wg-type=\"navbar\"> <button class=\"navbar-toggler\" data-target=\"#main-nav\" data-toggle=\"collapse\" type=\"button\"> <span class=\"navbar-toggler-icon\"></span> </button> <div class=\"collapse navbar-collapse\" id=\"main-nav\" style=\"height: 9vh;\"> <ul class=\"navbar-nav ml-auto\"> <li class=\"nav-item\"> <a class=\"nav-link\" href=\"#\">Ut sunt irure</a> </li> <li class=\"nav-item\"> <a class=\"nav-link\" href=\"#\">Cillum quis</a> </li> <li class=\"nav-item\"> <a class=\"nav-link\" href=\"#\">Eiusmod dolor</a> </li> <li class=\"nav-item\"> <a class=\"nav-link\" href=\"#\">Voluptate id</a> </li> <li class=\"nav-item\"> <a class=\"nav-link\" href=\"#\">Cupidatat ea</a> </li> <li class=\"nav-item\"> <a class=\"nav-link\" href=\"#\">Sit ullamco</a> </li> </ul> </div> </nav> <div class=\"d-flex\"> <div class=\"flex-grow-1\"> <div class=\"container-fluid py-3\" id=\"page-content\"> <div class=\"row my-3 wg-detect\" data-wg-type=\"mix\"> <div class=\"col\"> <div class=\"text-center wg-detect\" data-wg-type=\"featured_item\"> <span class=\"text-black rounded-circle mx-auto shadow placeholder\" style=\"width: 105px;height: 105px;\"> <span>105x105</span> </span> <h2>Sunt tempor magna ex</h2> <p>Incididunt sed esse aute do dolor sit fugiat irure</p> <a class=\"btn btn-primary\" href=\"#\">Laborum et ex</a> </div> </div> <div class=\"col\"> <h1 class=\"wg-detect\" data-wg-type=\"heading\">Minim eu id sunt irure anim ad duis.</h1> </div> <div class=\"col\"> <div class=\"text-center wg-detect\" data-wg-type=\"featured_item\"> <span class=\"text-black rounded-circle mx-auto shadow placeholder\" style=\"width: 126px;height: 126px;\"> <span>126x126</span> </span> <h2>Nostrud quis velit</h2> <p>Aliqua consequat pariatur eu cupidatat excepteur</p> <a class=\"btn btn-primary\" href=\"#\">Sed et ex est</a> </div> </div> </div> </div> <footer class=\" rounded shadow-lg jumbotron mb-0\" data-wg-type=\"footer\" style=\"height: 18vh;\"> <div class=\"container\"> <span class=\"text-muted\">Quis labore esse aute non laboris nostrud cillum</span> </div> </footer> </div> <div class=\"bg-light rounded shadow-lg\" data-wg-type=\"sidebar\" id=\"sidebar-wrapper\"> <div class=\"sidebar-heading\">Do</div> <div class=\"list-group list-group-flush\" style=\"width:28vh;\"> <a class=\"list-group-item list-group-item-action\" href=\"#\">Irure elit eu</a> <a class=\"list-group-item list-group-item-action\" href=\"#\">Excepteur ut</a> <a class=\"list-group-item list-group-item-action\" href=\"#\">Excepteur do</a> <a class=\"list-group-item list-group-item-action\" href=\"#\">Aute labore</a> <a class=\"list-group-item list-group-item-action\" href=\"#\">Aliqua ea et</a> <a class=\"list-group-item list-group-item-action\" href=\"#\">Amet ullamco</a> </div> </div> </div> </div> </body> </html>\n",
            "    Answer: <!DOCTYPE html> <html> <head> <title>Dominate</title> <meta content=\"{&quot;primary&quot;: &quot;rgb(211, 156, 131)&quot;, &quot;secondary&quot;: &quot;rgb(166, 84, 97)&quot;, &quot;light&quot;: &quot;rgb(237, 229, 207)&quot;, &quot;dark&quot;: &quot;rgb(84, 31, 63)&quot;, &quot;enable-gradients&quot;: true}\" name=\"wg-palette\"> <meta content=\"width=device-width, initial-scale=1.0\" name=\"viewport\"> <meta content=\"Web Generator\" name=\"author\"> <meta content=\"2\" name=\"wg-layout\"> <link href=\"../css/custom-bootstrap.css\" rel=\"stylesheet\"> <link href=\"../css/wg-extras.css\" rel=\"stylesheet\"> <script src=\"../js/jquery-3.2.1.slim.min.js\" type=\"text/javascript\"></script> <script src=\"../js/bootstrap.min.js\" type=\"text/javascript\"></script> </head> <body class=\"\"> <div class=\" shadow-lg\" id=\"full-wrapper\"> <nav class=\"bg-gradient-light navbar-light shadow-lg navbar navbar-expand-md\" data-wg-type=\"navbar\"> <button class=\"navbar-toggler\" data-target=\"#main-nav\" data-toggle=\"collapse\" type=\"button\"> <span class=\"navbar-toggler-icon\"></span> </button> <div class=\"collapse navbar-collapse\" id=\"main-nav\" style=\"height: 6vh;\"> <ul class=\"navbar-nav ml-auto\"> <li class=\"nav-item\"> <a class=\"nav-link\" href=\"#\">Ut sunt irure</a> </li> <li class=\"nav-item\"> <a class=\"nav-link\" href=\"#\">Cillum quis</a> </li> <li class=\"nav-item\"> <a class=\"nav-link\" href=\"#\">Eiusmod dolor</a> </li> <li class=\"nav-item\"> <a class=\"nav-link\" href=\"#\">Voluptate id</a> </li> <li class=\"nav-item\"> <a class=\"nav-link\" href=\"#\">Cupidatat ea</a> </li> <li class=\"nav-item\"> <a class=\"nav-link\" href=\"#\">Sit ullamco</a> </li> </ul> </div> </nav> <div class=\"d-flex\"> <div class=\"flex-grow-1\"> <div class=\"container-fluid py-3\" id=\"page-content\"> <div class=\"row my-3 wg-detect\" data-wg-type=\"mix\"> <div class=\"col\"> <div class=\"text-center wg-detect\" data-wg-type=\"featured_item\"> <span class=\"text-black rounded-circle mx-auto placeholder\" style=\"width: 105px;height: 105px;\"> <span>105x105</span> </span> <h2>Sunt tempor magna ex</h2> <p>Incididunt sed esse aute do dolor sit fugiat irure</p> <a class=\"btn btn-primary\" href=\"#\">Laborum et ex</a> </div> </div> <div class=\"col\"> <h1 class=\"wg-detect\" data-wg-type=\"heading\">Minim eu id sunt irure anim ad duis.</h1> </div> <div class=\"col\"> <div class=\"text-center wg-detect\" data-wg-type=\"featured_item\"> <span class=\"text-black rounded-circle mx-auto shadow placeholder\" style=\"width: 126px;height: 126px;\"> <span>126x126</span> </span> <h2>Nostrud quis velit</h2> <p>Aliqua consequat pariatur eu cupidatat excepteur</p> <a class=\"btn btn-primary\" href=\"#\">Sed et ex est</a> </div> </div> </div> </div> <footer class=\" shadow-lg jumbotron mb-0\" data-wg-type=\"footer\" style=\"height: 27vh;\"> <div class=\"container\"> <span class=\"text-muted\">Quis labore esse aute non laboris nostrud cillum</span> </div> </footer> </div> <div class=\"bg-gradient-light shadow-lg\" data-wg-type=\"sidebar\" id=\"sidebar-wrapper\"> <div class=\"sidebar-heading\">Do</div> <div class=\"list-group list-group-flush\" style=\"width:25vh;\"> <a class=\"list-group-item list-group-item-action\" href=\"#\">Irure elit eu</a> <a class=\"list-group-item list-group-item-action\" href=\"#\">Excepteur ut</a> <a class=\"list-group-item list-group-item-action\" href=\"#\">Excepteur do</a> <a class=\"list-group-item list-group-item-action\" href=\"#\">Aute labore</a> <a class=\"list-group-item list-group-item-action\" href=\"#\">Aliqua ea et</a> <a class=\"list-group-item list-group-item-action\" href=\"#\">Amet ullamco</a> </div> </div> </div> </div> </body> </html>\n",
            "      Bleu: 0.90\n",
            "\n",
            "Prediction: <!DOCTYPE html> <html> <head> <title>Dominate</title> <meta content=\"{&quot;primary&quot;: &quot;rgb(189, 201, 225)&quot;, &quot;secondary&quot;: &quot;rgb(116, 169, 207)&quot;, &quot;light&quot;: &quot;rgb(241, 238, 246)&quot;, &quot;dark&quot;: &quot;rgb(5, 112, 176)&quot;, &quot;enable-gradients&quot;: false}\" name=\"wg-palette\"> <meta content=\"width=device-width, initial-scale=1.0\" name=\"viewport\"> <meta content=\"Web Generator\" name=\"author\"> <meta content=\"4\" name=\"wg-layout\"> <link href=\"../css/custom-bootstrap.css\" rel=\"stylesheet\"> <link href=\"../css/wg-extras.css\" rel=\"stylesheet\"> <script src=\"../js/jquery-3.2.1.slim.min.js\" type=\"text/javascript\"></script> <script src=\"../js/bootstrap.min.js\" type=\"text/javascript\"></script> </head> <body class=\"bg-dark\"> <div class=\"bg-light rounded shadow-lg\" id=\"full-wrapper\"> <div class=\"d-flex\"> <div class=\"bg-secondary text-white rounded shadow-lg\" data-wg-type=\"sidebar\" id=\"sidebar-wrapper\"> <div class=\"sidebar-heading\">Et</div> <div class=\"list-group list-group-flush\" style=\"width:28vh;\"> <a class=\"list-group-item list-group-item-action\" href=\"#\">Laboris dolor</a> <a class=\"list-group-item list-group-item-action\" href=\"#\">Et culpa enim</a> <a class=\"list-group-item list-group-item-action\" href=\"#\">Occaecat id</a> <a class=\"list-group-item list-group-item-action\" href=\"#\">Id deserunt</a> </div> </div> <div class=\"w-100\"> <nav class=\"bg-dark navbar-dark rounded shadow-lg navbar navbar-expand-md\" data-wg-type=\"navbar\"> <a class=\"navbar-brand\" href=\"#\">Culpa</a> <button class=\"navbar-toggler\" data-target=\"#main-nav\" data-toggle=\"collapse\" type=\"button\"> <span class=\"navbar-toggler-icon\"></span> </button> <div class=\"collapse navbar-collapse\" id=\"main-nav\" style=\"height: 9vh;\"> <ul class=\"navbar-nav mr-auto\"> <li class=\"nav-item\"> <a class=\"nav-link\" href=\"#\">Officia ut id</a> </li> <li class=\"nav-item\"> <a class=\"nav-link\" href=\"#\">Eu voluptate</a> </li> <li class=\"nav-item\"> <a class=\"nav-link\" href=\"#\">Amet dolore</a> </li> <li class=\"nav-item\"> <a class=\"nav-link\" href=\"#\">Cillum minim</a> </li> </ul> </div> </nav> <div class=\"container-fluid py-3\" id=\"page-content\"> <form class=\"p-3\" data-wg-type=\"form\"> <div class=\"form-row\"> <div class=\"form-group col-md\"> <label for=\"irure_laborum\">Irure laborum</label> <input class=\"form-control\" data-wg-type=\"time\" id=\"irure_laborum\" type=\"time\"> </div> <div class=\"form-group col-md\"> <label for=\"quis\">Quis</label> <input class=\"form-control\" data-wg-type=\"text\" id=\"quis\" type=\"text\"> </div> </div> <div class=\"form-group\"> <label for=\"ex\">Ex</label> <input class=\"form-control\" data-wg-type=\"text\" id=\"ex\" type=\"text\"> </div> <div class=\"form-row\"> <div class=\"form-group col-md\"> <label for=\"sit_in_commodo\">Sit in commodo</label> <input class=\"form-control\" data-wg-type=\"time\" id=\"sit_in_commodo\" type=\"time\"> </div> <div class=\"form-group col-md\"> <label for=\"consequat\">Consequat</label> <input class=\"form-control\" data-wg-type=\"text\" id=\"consequat\" type=\"text\"> </div> </div> <div class=\"form-row\"> <div class=\"form-group col-md\"> <label for=\"eiusmod_aliquip\">Eiusmod aliquip</label> <input class=\"form-control\" data-wg-type=\"text\" id=\"eiusmod_aliquip\" type=\"text\"> </div> <div class=\"form-group col-md\"> <label for=\"dolore_sint_laboris\">Dolore sint laboris</label> <select class=\"form-control\" data-wg-type=\"select\" id=\"dolore_sint_laboris\"> <option>Id ipsum cillum</option> <option>Enim</option> <option>Esse</option> <option>Esse</option> <option>Esse</option> <option>Eiusmod</option> <option>Eiusmod</option> <option>Eiusmod</option> </select> </div> </div> <div class=\"form-row\"> <div class=\"form-group col-md\"> <label for=\"mollit_proident\">Mollit proident</label> <input class=\"form-control\" data-wg-type=\"text\" id=\"mollit_proident\" type=\"text\"> </div> <div class=\"form-group col-md\"> <label for=\"mollit\">Mollit</label> <input class=\"custom-range\" data-wg-type=\"range\" id=\"mollit\" type=\"range\"> </div> <div class=\"form-group col-md\"> <label for=\"ullamco_elit\">Ullamco elit</label> <input class=\"form-control\" data-wg-type=\"text\" id=\"ullamco_elit\" type=\"text\"> </div> </div> <div class=\"form-row\"> <div class=\"form-group col-md\"> <label for=\"elit\">Elit</label> <select class=\"form-control\" data-wg-type=\"select\" id=\"elit\"> <option>Duis et</option> <option>Enim</option> <option>Esse</option> <option>Eiusmod</option> <option>Eiusmod</option> <option>Eiusmod</option> <option>Eiusmod</option> <option>Eiusmod</option> <option>Eiusmod</option> </select> </div> <div class=\"form-group col-md\"> <label for=\"sit_do_eiusmod\">Sit do eiusmod</label> <input class=\"form-control\" data-wg-type=\"text\" id=\"sit_do_eiusmod\" type=\"text\"> </div> <div class=\"form-group col-md\"> <label for=\"duis\">Duis</label> <input class=\"form-control\" data-wg-type=\"text\" id=\"duis\" type=\"text\"> </div> </div> <div class=\"form-row\"> <div class=\"form-group col-md\"> <label for=\"non_dolor\">Non dolor</label> <input class=\"custom-range\" data-wg-type=\"range\" id=\"non_dolor\" type=\"range\"> </div> <div class=\"form-group col-md\"> <label for=\"ipsum_aliqua_amet\">Ipsum aliqua amet</label> <input class=\"form-control\" data-wg-type=\"text\" id=\"ipsum_aliqua_amet\" type=\"text\"> </div> <div class=\"form-group col-md\"> <label for=\"sed\">Sed</label> <input class=\"form-control\" data-wg-type=\"time\" id=\"sed\" type=\"time\"> </div> </div> <div class=\"form-row\"> <div class=\"form-group col-md\"> <label for=\"aute_exercitation_veniam\">Aute exercitation veniam</label> <input class=\"form-control\" data-wg-type=\"date\" id=\"aute_exercitation_veniam\" type=\"date\"> </div> <div class=\"form-group col-md\"> <label for=\"quis\">Quis</label> <input class=\"form-control\" data-wg-type=\"date\" id=\"quis\" type=\"date\"> </div> </div> <div class=\"form-group\"> <label for=\"officia\">Officia</label> <input class=\"form-control\" data-wg-type=\"text\" id=\"officia\" type=\"text\"> </div> <div class=\"form-group\"> <label for=\"eu\">Eu</label> <input class=\"form-control\" data-wg-type=\"date\" id=\"eu\" type=\"date\"> </div> </form> </div> </div> </div> </body> </html>\n",
            "    Answer: <!DOCTYPE html> <html> <head> <title>Dominate</title> <meta content=\"{&quot;primary&quot;: &quot;rgb(185, 186, 241)&quot;, &quot;secondary&quot;: &quot;rgb(113, 115, 213)&quot;, &quot;light&quot;: &quot;rgb(190, 191, 243)&quot;, &quot;dark&quot;: &quot;rgb(59, 61, 175)&quot;, &quot;enable-gradients&quot;: true}\" name=\"wg-palette\"> <meta content=\"width=device-width, initial-scale=1.0\" name=\"viewport\"> <meta content=\"Web Generator\" name=\"author\"> <meta content=\"1\" name=\"wg-layout\"> <link href=\"../css/custom-bootstrap.css\" rel=\"stylesheet\"> <link href=\"../css/wg-extras.css\" rel=\"stylesheet\"> <script src=\"../js/jquery-3.2.1.slim.min.js\" type=\"text/javascript\"></script> <script src=\"../js/bootstrap.min.js\" type=\"text/javascript\"></script> </head> <body class=\"bg-gradient-light\"> <div class=\"d-flex bg-gradient-light\" id=\"full-wrapper\"> <div class=\"bg-gradient-dark text-white shadow\" data-wg-type=\"sidebar\" id=\"sidebar-wrapper\"> <div class=\"sidebar-heading\">Et</div> <div class=\"list-group list-group-flush\" style=\"width:28vh;\"> <a class=\"list-group-item list-group-item-action\" href=\"#\">Laboris dolor</a> <a class=\"list-group-item list-group-item-action\" href=\"#\">Et culpa enim</a> <a class=\"list-group-item list-group-item-action\" href=\"#\">Occaecat id</a> <a class=\"list-group-item list-group-item-action\" href=\"#\">Id deserunt</a> </div> </div> <div class=\"w-100\"> <nav class=\"bg-gradient-dark navbar-dark shadow navbar navbar-expand-md\" data-wg-type=\"navbar\"> <a class=\"navbar-brand\" href=\"#\">Culpa</a> <button class=\"navbar-toggler\" data-target=\"#main-nav\" data-toggle=\"collapse\" type=\"button\"> <span class=\"navbar-toggler-icon\"></span> </button> <div class=\"collapse navbar-collapse\" id=\"main-nav\" style=\"height: 7vh;\"> <ul class=\"navbar-nav mr-auto\"> <li class=\"nav-item\"> <a class=\"nav-link\" href=\"#\">Officia ut id</a> </li> <li class=\"nav-item\"> <a class=\"nav-link\" href=\"#\">Eu voluptate</a> </li> <li class=\"nav-item\"> <a class=\"nav-link\" href=\"#\">Amet dolore</a> </li> <li class=\"nav-item\"> <a class=\"nav-link\" href=\"#\">Cillum minim</a> </li> </ul> </div> </nav> <div class=\"container-fluid py-3\" id=\"page-content\"> <form class=\"p-3\" data-wg-type=\"form\"> <div class=\"form-row\"> <div class=\"form-group col-md\"> <label for=\"irure_laborum\">Irure laborum</label> <input class=\"form-control\" data-wg-type=\"time\" id=\"irure_laborum\" type=\"time\"> </div> <div class=\"form-group col-md\"> <label for=\"quis\">Quis</label> <input class=\"form-control\" data-wg-type=\"text\" id=\"quis\" type=\"text\"> </div> </div> <div class=\"form-group\"> <label for=\"ex\">Ex</label> <input class=\"form-control\" data-wg-type=\"text\" id=\"ex\" type=\"text\"> </div> <div class=\"form-row\"> <div class=\"form-group col-md\"> <label for=\"sit_in_commodo\">Sit in commodo</label> <input class=\"form-control\" data-wg-type=\"time\" id=\"sit_in_commodo\" type=\"time\"> </div> <div class=\"form-group col-md\"> <label for=\"consequat\">Consequat</label> <input class=\"form-control\" data-wg-type=\"text\" id=\"consequat\" type=\"text\"> </div> </div> <div class=\"form-row\"> <div class=\"form-group col-md\"> <label for=\"eiusmod_aliquip\">Eiusmod aliquip</label> <input class=\"form-control\" data-wg-type=\"text\" id=\"eiusmod_aliquip\" type=\"text\"> </div> <div class=\"form-group col-md\"> <label for=\"dolore_sint_laboris\">Dolore sint laboris</label> <select class=\"form-control\" data-wg-type=\"select\" id=\"dolore_sint_laboris\"> <option>Id ipsum cillum</option> <option>Ex</option> <option>Incididunt enim duis</option> </select> </div> </div> <div class=\"form-row\"> <div class=\"form-group col-md\"> <label for=\"mollit_proident\">Mollit proident</label> <input class=\"form-control\" data-wg-type=\"text\" id=\"mollit_proident\" type=\"text\"> </div> <div class=\"form-group col-md\"> <label for=\"mollit\">Mollit</label> <input class=\"custom-range\" data-wg-type=\"range\" id=\"mollit\" type=\"range\"> </div> <div class=\"form-group col-md\"> <label for=\"ullamco_elit\">Ullamco elit</label> <input class=\"form-control\" data-wg-type=\"text\" id=\"ullamco_elit\" type=\"text\"> </div> </div> <div class=\"form-row\"> <div class=\"form-group col-md\"> <label for=\"elit\">Elit</label> <select class=\"form-control\" data-wg-type=\"select\" id=\"elit\"> <option>Duis et</option> <option>Cupidatat</option> <option>Aliquip</option> <option>Amet</option> <option>Adipiscing</option> <option>Laborum fugiat magna</option> </select> </div> <div class=\"form-group col-md\"> <label for=\"sit_do_eiusmod\">Sit do eiusmod</label> <input class=\"form-control\" data-wg-type=\"text\" id=\"sit_do_eiusmod\" type=\"text\"> </div> <div class=\"form-group col-md\"> <label for=\"duis\">Duis</label> <input class=\"form-control\" data-wg-type=\"text\" id=\"duis\" type=\"text\"> </div> </div> <div class=\"form-row\"> <div class=\"form-group col-md\"> <label for=\"non_dolor\">Non dolor</label> <input class=\"custom-range\" data-wg-type=\"range\" id=\"non_dolor\" type=\"range\"> </div> <div class=\"form-group col-md\"> <label for=\"ipsum_aliqua_amet\">Ipsum aliqua amet</label> <input class=\"form-control\" data-wg-type=\"text\" id=\"ipsum_aliqua_amet\" type=\"text\"> </div> <div class=\"form-group col-md\"> <label for=\"sed\">Sed</label> <input class=\"form-control\" data-wg-type=\"time\" id=\"sed\" type=\"time\"> </div> </div> <div class=\"form-row\"> <div class=\"form-group col-md\"> <label for=\"aute_exercitation_veniam\">Aute exercitation veniam</label> <input class=\"form-control\" data-wg-type=\"date\" id=\"aute_exercitation_veniam\" type=\"date\"> </div> <div class=\"form-group col-md\"> <label for=\"quis\">Quis</label> <input class=\"form-control\" data-wg-type=\"date\" id=\"quis\" type=\"date\"> </div> </div> <div class=\"form-group\"> <label for=\"officia\">Officia</label> <input class=\"custom-range\" data-wg-type=\"range\" id=\"officia\" type=\"range\"> </div> <div class=\"form-group\"> <label for=\"eu\">Eu</label> <input class=\"form-control\" data-wg-type=\"date\" id=\"eu\" type=\"date\"> </div> </form> </div> </div> </div> </body> </html>\n",
            "      Bleu: 0.93\n",
            "\n",
            "Prediction: <!DOCTYPE html> <html> <head> <title>Dominate</title> <meta content=\"{&quot;primary&quot;: &quot;rgb(248, 181, 139)&quot;, &quot;secondary&quot;: &quot;rgb(242, 133, 93)&quot;, &quot;light&quot;: &quot;rgb(253, 224, 197)&quot;, &quot;dark&quot;: &quot;rgb(235, 74, 64)&quot;, &quot;enable-gradients&quot;: false}\" name=\"wg-palette\"> <meta content=\"width=device-width, initial-scale=1.0\" name=\"viewport\"> <meta content=\"Web Generator\" name=\"author\"> <meta content=\"3\" name=\"wg-layout\"> <link href=\"../css/custom-bootstrap.css\" rel=\"stylesheet\"> <link href=\"../css/wg-extras.css\" rel=\"stylesheet\"> <script src=\"../js/jquery-3.2.1.slim.min.js\" type=\"text/javascript\"></script> <script src=\"../js/bootstrap.min.js\" type=\"text/javascript\"></script> </head> <body class=\"\"> <div class=\" rounded shadow-lg\" id=\"full-wrapper\"> <header class=\"bg-secondary rounded shadow-lg d-flex align-items-center justify-content-center\" data-wg-type=\"header\" style=\"height: 28vh;\"> <h1 class=\"p-2 text-center\">Dolor Eu</h1> </header> <div class=\"d-flex\"> <div class=\"container-fluid py-3\" id=\"page-content\"> <div class=\"row my-3 wg-detect\" data-wg-type=\"mix\"> <div class=\"col\"> <table class=\"bg-white table-striped table\" data-wg-type=\"table\"> <tr> <td>aliqua</td> <td>laborum</td> <td>qui</td> <td>0</td> </tr> <tr> <td>id</td> <td>ullamco</td> <td>magna</td> <td>0</td> </tr> </table> </div> <div class=\"col\"> <h1 class=\"wg-detect\" data-wg-type=\"heading\">Sunt ut aliquip irure lorem, velit ad laborum et tempor aliqua non.</h1> </div> </div> <div class=\"row my-3 wg-detect\" data-wg-type=\"mix\"> <div class=\"col\"> <div class=\"text-center wg-detect\" data-wg-type=\"featured_item\"> <span class=\"text-black rounded-circle mx-auto shadow placeholder\" style=\"width: 113px;height: 113px;\"> <span>113x113</span> </span> <h2>Dolor laborum lorem</h2> <p>Occaecat proident culpa sint commodo enim duis est</p> <a class=\"btn btn-primary\" href=\"#\">Labore veniam</a> </div> </div> <div class=\"col\"> <h1 class=\"wg-detect\" data-wg-type=\"heading\">Eu sed excepteur incididunt lorem ad laborum.</h1> </div> <div class=\"col\"> <h1 class=\"wg-detect\" data-wg-type=\"heading\">Excepteur pariatur dolor sunt ad et elit ea.</h1> </div> </div> </div> <div class=\"bg-light rounded shadow-lg\" data-wg-type=\"sidebar\" id=\"sidebar-wrapper\"> <div class=\"sidebar-heading\">Mollit</div> <div class=\"list-group list-group-flush\" style=\"width:28vh;\"> <a class=\"list-group-item list-group-item-action\" href=\"#\">Sed elit ad</a> <a class=\"list-group-item list-group-item-action\" href=\"#\">Reprehenderit</a> </div> </div> </div> <footer class=\" rounded shadow-lg jumbotron mb-0\" data-wg-type=\"footer\" style=\"height: 18vh;\"> <div class=\"container\"> <span class=\"text-muted\">Dolor ea sed nulla amet eiusmod enim in excepteur</span> </div> </footer> </div> </body> </html>\n",
            "    Answer: <!DOCTYPE html> <html> <head> <title>Dominate</title> <meta content=\"{&quot;primary&quot;: &quot;rgb(252, 174, 145)&quot;, &quot;secondary&quot;: &quot;rgb(251, 106, 74)&quot;, &quot;light&quot;: &quot;rgb(254, 229, 217)&quot;, &quot;dark&quot;: &quot;rgb(203, 24, 29)&quot;, &quot;enable-gradients&quot;: true}\" name=\"wg-palette\"> <meta content=\"width=device-width, initial-scale=1.0\" name=\"viewport\"> <meta content=\"Web Generator\" name=\"author\"> <meta content=\"3\" name=\"wg-layout\"> <link href=\"../css/custom-bootstrap.css\" rel=\"stylesheet\"> <link href=\"../css/wg-extras.css\" rel=\"stylesheet\"> <script src=\"../js/jquery-3.2.1.slim.min.js\" type=\"text/javascript\"></script> <script src=\"../js/bootstrap.min.js\" type=\"text/javascript\"></script> </head> <body class=\"\"> <div class=\" shadow\" id=\"full-wrapper\"> <header class=\"bg-gradient-secondary shadow d-flex align-items-center justify-content-center\" data-wg-type=\"header\" style=\"height: 24vh;\"> <h1 class=\"p-2 text-center\">Dolor Eu</h1> </header> <div class=\"d-flex\"> <div class=\"container-fluid py-3\" id=\"page-content\"> <div class=\"row my-3 wg-detect\" data-wg-type=\"mix\"> <div class=\"col\"> <table class=\"bg-white table-striped table\" data-wg-type=\"table\"> <tr> <td>aliqua</td> <td>laborum</td> <td>qui</td> <td>0</td> </tr> <tr> <td>id</td> <td>ullamco</td> <td>magna</td> <td>0</td> </tr> </table> </div> <div class=\"col\"> <h1 class=\"wg-detect\" data-wg-type=\"heading\">Sunt ut aliquip irure lorem, velit ad laborum et tempor aliqua non.</h1> </div> </div> <div class=\"row my-3 wg-detect\" data-wg-type=\"mix\"> <div class=\"col\"> <div class=\"text-center wg-detect\" data-wg-type=\"featured_item\"> <span class=\"text-black rounded-circle mx-auto shadow placeholder\" style=\"width: 113px;height: 113px;\"> <span>113x113</span> </span> <h2>Dolor laborum lorem</h2> <p>Occaecat proident culpa sint commodo enim duis est</p> <a class=\"btn btn-primary\" href=\"#\">Labore veniam</a> </div> </div> <div class=\"col\"> <h1 class=\"wg-detect\" data-wg-type=\"heading\">Eu sed excepteur incididunt lorem ad laborum.</h1> </div> <div class=\"col\"> <h1 class=\"wg-detect\" data-wg-type=\"heading\">Excepteur pariatur dolor sunt ad et elit ea.</h1> </div> </div> </div> <div class=\"bg-gradient-light shadow\" data-wg-type=\"sidebar\" id=\"sidebar-wrapper\"> <div class=\"sidebar-heading\">Mollit</div> <div class=\"list-group list-group-flush\" style=\"width:28vh;\"> <a class=\"list-group-item list-group-item-action\" href=\"#\">Sed elit ad</a> <a class=\"list-group-item list-group-item-action\" href=\"#\">Reprehenderit</a> </div> </div> </div> <footer class=\" shadow jumbotron mb-0\" data-wg-type=\"footer\" style=\"height: 28vh;\"> <div class=\"container\"> <span class=\"text-muted\">Dolor ea sed nulla amet eiusmod enim in excepteur</span> </div> </footer> </div> </body> </html>\n",
            "      Bleu: 0.98\n",
            "\n",
            "Prediction: <!DOCTYPE html> <html> <head> <title>Dominate</title> <meta content=\"{&quot;primary&quot;: &quot;rgb(203, 201, 226)&quot;, &quot;secondary&quot;: &quot;rgb(158, 154, 200)&quot;, &quot;light&quot;: &quot;rgb(242, 240, 247)&quot;, &quot;dark&quot;: &quot;rgb(106, 81, 163)&quot;, &quot;enable-gradients&quot;: false}\" name=\"wg-palette\"> <meta content=\"width=device-width, initial-scale=1.0\" name=\"viewport\"> <meta content=\"Web Generator\" name=\"author\"> <meta content=\"4\" name=\"wg-layout\"> <link href=\"../css/custom-bootstrap.css\" rel=\"stylesheet\"> <link href=\"../css/wg-extras.css\" rel=\"stylesheet\"> <script src=\"../js/jquery-3.2.1.slim.min.js\" type=\"text/javascript\"></script> <script src=\"../js/bootstrap.min.js\" type=\"text/javascript\"></script> </head> <body class=\"\"> <div class=\" rounded shadow-lg\" id=\"full-wrapper\"> <div class=\"d-flex\"> <div class=\"bg-light rounded shadow-lg\" data-wg-type=\"sidebar\" id=\"sidebar-wrapper\"> <div class=\"sidebar-heading\">Mollit</div> <div class=\"list-group list-group-flush\" style=\"width:28vh;\"> <a class=\"list-group-item list-group-item-action\" href=\"#\">Laborum enim</a> <a class=\"list-group-item list-group-item-action\" href=\"#\">Non officia</a> <a class=\"list-group-item list-group-item-action\" href=\"#\">Aliqua velit</a> <a class=\"list-group-item list-group-item-action\" href=\"#\">Velit sint ut</a> <a class=\"list-group-item list-group-item-action\" href=\"#\">Laboris ut et</a> <a class=\"list-group-item list-group-item-action\" href=\"#\">Pariatur anim</a> </div> </div> <div class=\"w-100\"> <nav class=\"bg-light navbar-light rounded shadow-lg navbar navbar-expand-md\" data-wg-type=\"navbar\"> <a class=\"navbar-brand\" href=\"#\">Occaecat</a> <button class=\"navbar-toggler\" data-target=\"#main-nav\" data-toggle=\"collapse\" type=\"button\"> <span class=\"navbar-toggler-icon\"></span> </button> <div class=\"collapse navbar-collapse\" id=\"main-nav\" style=\"height: 9vh;\"> <ul class=\"navbar-nav ml-auto\"> <li class=\"nav-item\"> <a class=\"nav-link\" href=\"#\">Veniam mollit</a> </li> <li class=\"nav-item\"> <a class=\"nav-link\" href=\"#\">Cupidatat est</a> </li> <li class=\"nav-item\"> <a class=\"nav-link\" href=\"#\">Incididunt ut</a> </li> <li class=\"nav-item\"> <a class=\"nav-link\" href=\"#\">Laboris enim</a> </li> </ul> </div> </nav> <header class=\"bg-secondary rounded shadow-lg d-flex align-items-center justify-content-center\" data-wg-type=\"header\" style=\"height: 31vh;\"> <h1 class=\"p-2 text-center\">Esse Ut Nisi Lorem Amet Id Consectetur</h1> </header> <div class=\"container-fluid py-3\" id=\"page-content\"> <div class=\"row my-3 wg-detect\" data-wg-type=\"mix\"> <div class=\"col\"> <p class=\"wg-detect\" data-wg-type=\"paragraph\">Laborum aliquip fugiat aliquip fugiat, cillum aliqua amet excepteur incididunt duis non. Amet esse tempor deserunt fugiat est anim. Aliquip culpa pariatur proident exercitation eu. Commodo nostrud qui laboris ipsum ullamco duis mollit nulla. Culpa excepteur magna dolore nisi aliqua, voluptate elit voluptate nisi nisi anim.</p> </div> </div> <div class=\"row my-3 wg-detect\" data-wg-type=\"mix\"> <div class=\"col\"> <p class=\"wg-detect\" data-wg-type=\"paragraph\">Ea velit nulla irure enim nulla. Nulla nostrud nulla occaecat ex laboris ut. Aliquip labore lorem irure minim, dolor ex adipiscing occaecat id ipsum culpa consequat, ullamco reprehenderit occaecat commodo pariatur nostrud. Voluptate mollit aliquip nisi lorem amet enim ullamco fugiat, ullamco aliquip commodo velit cupidatat tempor deserunt. Ipsum aliqua commodo excepteur anim mollit ut dolore.</p> </div> <div class=\"col\"> <p class=\"wg-detect\" data-wg-type=\"paragraph\">Laborum occaecat eu veniam fugiat esse cupidatat. Aliqua sint ex laborum consequat. Enim magna consequat in adipiscing aliqua non officia ex excepteur mollit. Sed eu in aliqua anim anim. Dolore voluptate est ut laboris ex dolore laborum exercitation anim commodo. Sint consectetur dolor laborum pariatur velit occaecat, et reprehenderit amet laboris sit pariatur sed occaecat, et reprehenderit adipiscing sed officia ad ullamco cillum ut ex.</p> </div> <div class=\"col\"> <h1 class=\"wg-detect\" data-wg-type=\"heading\">Laboris fugiat aliquip eiusmod elit duis.</h1> </div> </div> <div class=\"row wg-detect\" data-wg-type=\"cards\"> <div class=\"col\"> <div class=\"card-columns\"> <div class=\"text-black shadow card\"> <div class=\"card-body\"> <h5 class=\"card-title\">Minim aliquip do ad</h5> <p class=\"card-text\">Voluptate non occaecat ut adipiscing eiusmod</p> <div class=\"d-flex justify-content-between align-items-center\"> <div class=\"btn-group\"> <button class=\"btn btn-sm btn-outline-secondary\" type=\"button\">Laborum lorem</button> </div> <small class=\"text-muted\">Enim laboris</small> </div> </div> </div> <div class=\"text-black shadow card\"> <div class=\"card-body\"> <h5 class=\"card-title\">Irure veniam dolor</h5> <p class=\"card-text\">Id sit id voluptate nisi officia aliquip labore</p> <div class=\"d-flex justify-content-between align-items-center\"> <div class=\"btn-group\"> <button class=\"btn btn-sm btn-outline-secondary\" type=\"button\">Excepteur ea</button> </div> <small class=\"text-muted\">Amet labore</small> </div> </div> </div> <div class=\"text-black shadow card\"> <div class=\"card-body\"> <h5 class=\"card-title\">Dolor velit fugiat</h5> <p class=\"card-text\">Dolor velit fugiat excepteur enim eiusmod dolor sed</p> <div class=\"d-flex justify-content-between align-items-center\"> <div class=\"btn-group\"> <button class=\"btn btn-sm btn-outline-secondary\" type=\"button\">Tempor dolore</button> </div> <small class=\"text-muted\">Excepteur ex</small> </div> </div> </div> <div class=\"text-black shadow card\"> <div class=\"card-body\"> <h5 class=\"card-title\">Esse nisi non ipsum</h5> <p class=\"card-text\">Elit adipiscing sit laboris ex ipsum officia do</p> <div class=\"d-flex justify-content-between align-items-center\"> <div class=\"btn-group\"> <button class=\"btn btn-sm btn-outline-secondary\" type=\"button\">Ipsum ipsum</button> </div> <small class=\"text-muted\">Laboris enim</small> </div> </div> </div> </div> </div> </div> </div> </div> </div> <footer class=\" rounded shadow-lg jumbotron mb-0\" data-wg-type=\"footer\" style=\"height: 18vh;\"> <div class=\"container\"> <span class=\"text-muted\">Voluptate do cillum excepteur id dolore velit quis</span> </div> </footer> </div> </body> </html>\n",
            "    Answer: <!DOCTYPE html> <html> <head> <title>Dominate</title> <meta content=\"{&quot;primary&quot;: &quot;rgb(100, 180, 99)&quot;, &quot;secondary&quot;: &quot;rgb(18, 110, 69)&quot;, &quot;light&quot;: &quot;rgb(215, 249, 208)&quot;, &quot;dark&quot;: &quot;rgb(18, 36, 20)&quot;, &quot;enable-gradients&quot;: false}\" name=\"wg-palette\"> <meta content=\"width=device-width, initial-scale=1.0\" name=\"viewport\"> <meta content=\"Web Generator\" name=\"author\"> <meta content=\"4\" name=\"wg-layout\"> <link href=\"../css/custom-bootstrap.css\" rel=\"stylesheet\"> <link href=\"../css/wg-extras.css\" rel=\"stylesheet\"> <script src=\"../js/jquery-3.2.1.slim.min.js\" type=\"text/javascript\"></script> <script src=\"../js/bootstrap.min.js\" type=\"text/javascript\"></script> </head> <body class=\"\"> <div class=\" shadow\" id=\"full-wrapper\"> <div class=\"d-flex\"> <div class=\"bg-light shadow\" data-wg-type=\"sidebar\" id=\"sidebar-wrapper\"> <div class=\"sidebar-heading\">Mollit</div> <div class=\"list-group list-group-flush\" style=\"width:28vh;\"> <a class=\"list-group-item list-group-item-action\" href=\"#\">Laborum enim</a> <a class=\"list-group-item list-group-item-action\" href=\"#\">Non officia</a> <a class=\"list-group-item list-group-item-action\" href=\"#\">Aliqua velit</a> <a class=\"list-group-item list-group-item-action\" href=\"#\">Nisi sed sit</a> <a class=\"list-group-item list-group-item-action\" href=\"#\">Labore in et</a> <a class=\"list-group-item list-group-item-action\" href=\"#\">Pariatur anim</a> </div> </div> <div class=\"w-100\"> <nav class=\"bg-light navbar-light shadow navbar navbar-expand-md\" data-wg-type=\"navbar\"> <a class=\"navbar-brand\" href=\"#\">Occaecat</a> <button class=\"navbar-toggler\" data-target=\"#main-nav\" data-toggle=\"collapse\" type=\"button\"> <span class=\"navbar-toggler-icon\"></span> </button> <div class=\"collapse navbar-collapse\" id=\"main-nav\" style=\"height: 9vh;\"> <ul class=\"navbar-nav mx-auto\"> <li class=\"nav-item\"> <a class=\"nav-link\" href=\"#\">Veniam mollit</a> </li> <li class=\"nav-item\"> <a class=\"nav-link\" href=\"#\">Proident elit</a> </li> <li class=\"nav-item\"> <a class=\"nav-link\" href=\"#\">Incididunt et</a> </li> <li class=\"nav-item\"> <a class=\"nav-link\" href=\"#\">Laboris enim</a> </li> </ul> </div> </nav> <header class=\"bg-secondary text-white shadow d-flex align-items-center justify-content-center\" data-wg-type=\"header\" style=\"height: 38vh;\"> <h1 class=\"p-2 text-center\">Esse Ut Nisi Lorem Amet Id Consectetur</h1> </header> <div class=\"container-fluid py-3\" id=\"page-content\"> <div class=\"row my-3 wg-detect\" data-wg-type=\"mix\"> <div class=\"col\"> <p class=\"wg-detect\" data-wg-type=\"paragraph\">Cillum sint sit ea aliquip fugiat elit, officia deserunt tempor incididunt id eu est. Nulla esse tempor deserunt fugiat est anim. Aliquip culpa pariatur proident exercitation eu. Commodo sint anim culpa ipsum occaecat magna amet. Duis officia ipsum anim occaecat dolore non nostrud. Qui laboris ipsum ullamco duis mollit nulla. Culpa excepteur magna dolore nisi aliqua, voluptate elit cupidatat nisi nisi enim anim.</p> </div> </div> <div class=\"row my-3 wg-detect\" data-wg-type=\"mix\"> <div class=\"col\"> <p class=\"wg-detect\" data-wg-type=\"paragraph\">Id ea velit nulla irure anim nulla. Aute nostrud nulla ut occaecat ea laboris et. Consequat dolore laborum velit cupidatat veniam. Nisi aliquip lorem dolor irure minim. Anim ex adipiscing occaecat ut ipsum culpa consequat, ullamco reprehenderit occaecat esse fugiat nulla sint, qui occaecat ut non sit minim. Voluptate mollit aliquip nisi lorem ad amet enim, ullamco fugiat ullamco aliquip incididunt velit cupidatat tempor. Excepteur laboris deserunt anim ipsum amet laboris, aliqua commodo excepteur anim mollit ut dolore.</p> </div> <div class=\"col\"> <p class=\"wg-detect\" data-wg-type=\"paragraph\">Laborum occaecat eu tempor fugiat esse cupidatat. Aliqua nisi id eu qui esse. Elit cillum minim pariatur sit lorem ex, lorem veniam consequat sed duis magna consequat in, adipiscing aliqua sint officia ea excepteur mollit. Sed ex in aliqua anim anim. Dolore reprehenderit occaecat voluptate est id, labore est dolore laboris laborum exercitation anim commodo. Sint consectetur amet laborum pariatur velit occaecat. Id reprehenderit amet id labore aliqua ullamco adipiscing, sed officia ad ullamco cillum id ex.</p> </div> <div class=\"col\"> <h1 class=\"wg-detect\" data-wg-type=\"heading\">Laboris fugiat aliquip eiusmod elit duis.</h1> </div> </div> <div class=\"row wg-detect\" data-wg-type=\"cards\"> <div class=\"col\"> <div class=\"card-columns\"> <div class=\"text-black shadow card\"> <span class=\"card-img-top placeholder\" style=\"height: 100px;\"></span> <div class=\"card-body\"> <h5 class=\"card-title\">Minim aliquip do ad</h5> <p class=\"card-text\">Tempor sunt do adipiscing eiusmod duis occaecat ut</p> <div class=\"d-flex justify-content-between align-items-center\"> <div class=\"btn-group\"> <button class=\"btn btn-sm btn-outline-secondary\" type=\"button\">Labore ipsum</button> </div> <small class=\"text-muted\">Dolore ex ad</small> </div> </div> </div> <div class=\"text-black shadow card\"> <span class=\"card-img-top placeholder\" style=\"height: 100px;\"></span> <div class=\"card-body\"> <h5 class=\"card-title\">Irure veniam dolor</h5> <p class=\"card-text\">Id elit id ut voluptate nisi officia aliqua labore</p> <div class=\"d-flex justify-content-between align-items-center\"> <div class=\"btn-group\"> <button class=\"btn btn-sm btn-outline-secondary\" type=\"button\">Fugiat ex est</button> </div> <small class=\"text-muted\">Fugiat esse</small> </div> </div> </div> <div class=\"text-black shadow card\"> <span class=\"card-img-top placeholder\" style=\"height: 100px;\"></span> <div class=\"card-body\"> <h5 class=\"card-title\">Dolor velit fugiat</h5> <p class=\"card-text\">Anim consequat excepteur ullamco eiusmod dolor sed</p> <div class=\"d-flex justify-content-between align-items-center\"> <div class=\"btn-group\"> <button class=\"btn btn-sm btn-outline-secondary\" type=\"button\">Tempor ipsum</button> </div> <small class=\"text-muted\">Et excepteur</small> </div> </div> </div> <div class=\"text-black shadow card\"> <span class=\"card-img-top placeholder\" style=\"height: 100px;\"></span> <div class=\"card-body\"> <h5 class=\"card-title\">Aliquip culpa esse</h5> <p class=\"card-text\">Commodo reprehenderit pariatur anim aliqua amet do</p> <div class=\"d-flex justify-content-between align-items-center\"> <div class=\"btn-group\"> <button class=\"btn btn-sm btn-outline-secondary\" type=\"button\">Incididunt do</button> </div> <small class=\"text-muted\">Reprehenderit</small> </div> </div> </div> <div class=\"text-black shadow card\"> <span class=\"card-img-top placeholder\" style=\"height: 100px;\"></span> <div class=\"card-body\"> <h5 class=\"card-title\">Esse nisi non ipsum</h5> <p class=\"card-text\">Elit adipiscing ad laboris id in ipsum officia do</p> <div class=\"d-flex justify-content-between align-items-center\"> <div class=\"btn-group\"> <button class=\"btn btn-sm btn-outline-secondary\" type=\"button\">Et est ipsum</button> </div> <small class=\"text-muted\">Consequat sit</small> </div> </div> </div> </div> </div> </div> </div> </div> </div> <footer class=\" shadow jumbotron mb-0\" data-wg-type=\"footer\" style=\"height: 15vh;\"> <div class=\"container\"> <span class=\"text-muted\">Voluptate do cillum excepteur id dolore velit duis</span> </div> </footer> </div> </body> </html>\n",
            "      Bleu: 0.77\n",
            "\n",
            "Prediction: <!DOCTYPE html> <html> <head> <title>Dominate</title> <meta content=\"{&quot;primary&quot;: &quot;rgb(203, 201, 226)&quot;, &quot;secondary&quot;: &quot;rgb(158, 154, 200)&quot;, &quot;light&quot;: &quot;rgb(242, 240, 247)&quot;, &quot;dark&quot;: &quot;rgb(106, 81, 163)&quot;, &quot;enable-gradients&quot;: false}\" name=\"wg-palette\"> <meta content=\"width=device-width, initial-scale=1.0\" name=\"viewport\"> <meta content=\"Web Generator\" name=\"author\"> <meta content=\"2\" name=\"wg-layout\"> <link href=\"../css/custom-bootstrap.css\" rel=\"stylesheet\"> <link href=\"../css/wg-extras.css\" rel=\"stylesheet\"> <script src=\"../js/jquery-3.2.1.slim.min.js\" type=\"text/javascript\"></script> <script src=\"../js/bootstrap.min.js\" type=\"text/javascript\"></script> </head> <body class=\"bg-dark\"> <div class=\"bg-light rounded shadow-lg\" id=\"full-wrapper\"> <nav class=\"bg-dark navbar-dark rounded shadow-lg navbar navbar-expand-md\" data-wg-type=\"navbar\"> <button class=\"navbar-toggler\" data-target=\"#main-nav\" data-toggle=\"collapse\" type=\"button\"> <span class=\"navbar-toggler-icon\"></span> </button> <div class=\"collapse navbar-collapse\" id=\"main-nav\" style=\"height: 4vh;\"> <ul class=\"navbar-nav ml-auto\"> <li class=\"nav-item\"> <a class=\"nav-link\" href=\"#\">Id duis dolor</a> </li> <li class=\"nav-item\"> <a class=\"nav-link\" href=\"#\">Ipsum tempor</a> </li> <li class=\"nav-item\"> <a class=\"nav-link\" href=\"#\">Do nulla qui</a> </li> <li class=\"nav-item\"> <a class=\"nav-link\" href=\"#\">Aliquip velit</a> </li> <li class=\"nav-item\"> <a class=\"nav-link\" href=\"#\">Aliquip culpa</a> </li> <li class=\"nav-item\"> <a class=\"nav-link\" href=\"#\">Consequat id</a> </li> </ul> </div> </nav> <header class=\"bg-primary rounded shadow-lg d-flex align-items-center justify-content-center\" data-wg-type=\"header\" style=\"height: 17vh;\"> <h1 class=\"p-2 text-center\">Deserunt Incididunt In</h1> </header> <div class=\"d-flex\"> <div class=\"bg-secondary rounded shadow-lg\" data-wg-type=\"sidebar\" id=\"sidebar-wrapper\"> <div class=\"list-group list-group-flush\" style=\"width:28vh;\"> <a class=\"list-group-item list-group-item-action\" href=\"#\">Magna sint in</a> <a class=\"list-group-item list-group-item-action\" href=\"#\">Ullamco ex ad</a> <a class=\"list-group-item list-group-item-action\" href=\"#\">Sit excepteur</a> </div> </div> <div class=\"container-fluid py-3\" id=\"page-content\"> <div class=\"row wg-detect\" data-wg-type=\"cards\"> <div class=\"col\"> <div class=\"card-columns\"> <div class=\"text-black shadow card\"> <div class=\"card-body\"> <h5 class=\"card-title\">Eu ad consequat eu</h5> <p class=\"card-text\">Magna dolor esse nisi ullamco occaecat fugiat est</p> <div class=\"d-flex justify-content-between align-items-center\"> <div class=\"btn-group\"> <button class=\"btn btn-sm btn-outline-secondary\" type=\"button\">Lorem sint eu</button> </div> <small class=\"text-muted\">Nostrud amet</small> </div> </div> </div> <div class=\"text-black shadow card\"> <div class=\"card-body\"> <h5 class=\"card-title\">Fugiat exercitation</h5> <p class=\"card-text\">Elit est culpa consequat ipsum dolore dolor lorem</p> <div class=\"d-flex justify-content-between align-items-center\"> <div class=\"btn-group\"> <button class=\"btn btn-sm btn-outline-secondary\" type=\"button\">Nostrud sint</button> </div> <small class=\"text-muted\">Non cillum ad</small> </div> </div> </div> <div class=\"text-black shadow card\"> <div class=\"card-body\"> <h5 class=\"card-title\">Non sunt mollit ut</h5> <p class=\"card-text\">Exercitation excepteur pariatur ullamco esse nisi</p> <div class=\"d-flex justify-content-between align-items-center\"> <div class=\"btn-group\"> <button class=\"btn btn-sm btn-outline-secondary\" type=\"button\">Magna cillum</button> </div> <small class=\"text-muted\">Consectetur</small> </div> </div> </div> <div class=\"text-black shadow card\"> <div class=\"card-body\"> <h5 class=\"card-title\">Consequat quis sit</h5> <p class=\"card-text\">Voluptate minim nulla cupidatat deserunt cillum id</p> <div class=\"d-flex justify-content-between align-items-center\"> <div class=\"btn-group\"> <button class=\"btn btn-sm btn-outline-secondary\" type=\"button\">Sunt deserunt</button> </div> <small class=\"text-muted\">Ea aute qui</small> </div> </div> </div> </div> </div> </div> <div class=\"m-3 wg-detect\" data-wg-type=\"tabs\"> <div class=\"nav nav-tabs\"> <a aria-controls=\"occaecat\" class=\"nav-item nav-link active\" data-toggle=\"tab\" href=\"#occaecat\" id=\"occaecat-tab\" role=\"tab\">Occaecat</a> <a aria-controls=\"aliquip\" class=\"nav-item nav-link\" data-toggle=\"tab\" href=\"#aliquip\" id=\"aliquip-tab\" role=\"tab\">Aliquip</a> </div> <div class=\"tab-content\"> <div aria-labelledby=\"occaecat\" class=\"tab-pane fade border p-3 show active\" id=\"occaecat\" role=\"tabpanel\">Consequat eu irure consequat sunt, nostrud enim duis enim laboris.</div> <div aria-labelledby=\"aliquip\" class=\"tab-pane fade border p-3\" id=\"aliquip\" role=\"tabpanel\">Esse aliquip aliquip aliquip.</div> </div> </div> </div> </div> </div> </body> </html>\n",
            "    Answer: <!DOCTYPE html> <html> <head> <title>Dominate</title> <meta content=\"{&quot;primary&quot;: &quot;rgb(118, 164, 229)&quot;, &quot;secondary&quot;: &quot;rgb(118, 66, 165)&quot;, &quot;light&quot;: &quot;rgb(230, 241, 241)&quot;, &quot;dark&quot;: &quot;rgb(54, 14, 36)&quot;, &quot;enable-gradients&quot;: true}\" name=\"wg-palette\"> <meta content=\"width=device-width, initial-scale=1.0\" name=\"viewport\"> <meta content=\"Web Generator\" name=\"author\"> <meta content=\"2\" name=\"wg-layout\"> <link href=\"../css/custom-bootstrap.css\" rel=\"stylesheet\"> <link href=\"../css/wg-extras.css\" rel=\"stylesheet\"> <script src=\"../js/jquery-3.2.1.slim.min.js\" type=\"text/javascript\"></script> <script src=\"../js/bootstrap.min.js\" type=\"text/javascript\"></script> </head> <body class=\"bg-gradient-dark\"> <div class=\"bg-gradient-light shadow\" id=\"full-wrapper\"> <nav class=\"bg-gradient-dark navbar-dark shadow navbar navbar-expand-md\" data-wg-type=\"navbar\"> <button class=\"navbar-toggler\" data-target=\"#main-nav\" data-toggle=\"collapse\" type=\"button\"> <span class=\"navbar-toggler-icon\"></span> </button> <div class=\"collapse navbar-collapse\" id=\"main-nav\" style=\"height: 6vh;\"> <ul class=\"navbar-nav ml-auto\"> <li class=\"nav-item\"> <a class=\"nav-link\" href=\"#\">Id duis dolor</a> </li> <li class=\"nav-item\"> <a class=\"nav-link\" href=\"#\">Ipsum tempor</a> </li> <li class=\"nav-item\"> <a class=\"nav-link\" href=\"#\">Do nulla qui</a> </li> <li class=\"nav-item\"> <a class=\"nav-link\" href=\"#\">Aliquip velit</a> </li> <li class=\"nav-item\"> <a class=\"nav-link\" href=\"#\">Aliquip culpa</a> </li> <li class=\"nav-item\"> <a class=\"nav-link\" href=\"#\">Consequat id</a> </li> </ul> </div> </nav> <header class=\"bg-gradient-primary shadow d-flex align-items-center justify-content-center\" data-wg-type=\"header\" style=\"height: 16vh;\"> <h1 class=\"p-2 text-center\">Deserunt Incididunt In</h1> </header> <div class=\"d-flex\"> <div class=\"bg-gradient-secondary text-white shadow\" data-wg-type=\"sidebar\" id=\"sidebar-wrapper\"> <div class=\"list-group list-group-flush\" style=\"width:22vh;\"> <a class=\"list-group-item list-group-item-action\" href=\"#\">Magna sint in</a> <a class=\"list-group-item list-group-item-action\" href=\"#\">Ullamco ex ad</a> <a class=\"list-group-item list-group-item-action\" href=\"#\">Sit excepteur</a> </div> </div> <div class=\"container-fluid py-3\" id=\"page-content\"> <div class=\"row wg-detect\" data-wg-type=\"cards\"> <div class=\"col\"> <div class=\"card-columns\"> <div class=\"text-black card\"> <div class=\"card-body\"> <h5 class=\"card-title\">Eu ad consequat eu</h5> <p class=\"card-text\">Magna dolor esse nisi ullamco occaecat fugiat est</p> <div class=\"d-flex justify-content-between align-items-center\"> <div class=\"btn-group\"> <button class=\"btn btn-sm btn-outline-secondary\" type=\"button\">Lorem sint eu</button> </div> <small class=\"text-muted\">Nostrud amet</small> </div> </div> </div> <div class=\"text-black card\"> <div class=\"card-body\"> <h5 class=\"card-title\">Fugiat exercitation</h5> <p class=\"card-text\">Elit est culpa consequat ipsum dolore dolor lorem</p> <div class=\"d-flex justify-content-between align-items-center\"> <div class=\"btn-group\"> <button class=\"btn btn-sm btn-outline-secondary\" type=\"button\">Nostrud sint</button> </div> <small class=\"text-muted\">Non cillum ad</small> </div> </div> </div> <div class=\"text-black card\"> <div class=\"card-body\"> <h5 class=\"card-title\">Non sunt mollit ut</h5> <p class=\"card-text\">Exercitation excepteur pariatur ullamco esse nisi</p> <div class=\"d-flex justify-content-between align-items-center\"> <div class=\"btn-group\"> <button class=\"btn btn-sm btn-outline-secondary\" type=\"button\">Magna cillum</button> </div> <small class=\"text-muted\">Consectetur</small> </div> </div> </div> <div class=\"text-black card\"> <div class=\"card-body\"> <h5 class=\"card-title\">Consequat quis sit</h5> <p class=\"card-text\">Voluptate minim nulla cupidatat deserunt cillum id</p> <div class=\"d-flex justify-content-between align-items-center\"> <div class=\"btn-group\"> <button class=\"btn btn-sm btn-outline-secondary\" type=\"button\">Sunt deserunt</button> </div> <small class=\"text-muted\">Ea aute qui</small> </div> </div> </div> </div> </div> </div> <div class=\"m-3 wg-detect\" data-wg-type=\"tabs\"> <div class=\"nav nav-tabs\"> <a aria-controls=\"occaecat\" class=\"nav-item nav-link active\" data-toggle=\"tab\" href=\"#occaecat\" id=\"occaecat-tab\" role=\"tab\">Occaecat</a> <a aria-controls=\"aliquip\" class=\"nav-item nav-link\" data-toggle=\"tab\" href=\"#aliquip\" id=\"aliquip-tab\" role=\"tab\">Aliquip</a> </div> <div class=\"tab-content\"> <div aria-labelledby=\"occaecat\" class=\"tab-pane fade border p-3 show active\" id=\"occaecat\" role=\"tabpanel\">Consequat eu irure consequat sunt, nostrud enim duis enim laboris.</div> <div aria-labelledby=\"aliquip\" class=\"tab-pane fade border p-3\" id=\"aliquip\" role=\"tabpanel\">Laborum enim adipiscing irure enim cupidatat, laborum laboris esse tempor labore, occaecat voluptate ex aliquip. Pariatur ad dolor quis. Irure duis reprehenderit quis ipsum minim aliqua.</div> </div> </div> </div> </div> </div> </body> </html>\n",
            "      Bleu: 0.95\n",
            "\n",
            "Prediction: <!DOCTYPE html> <html> <head> <title>Dominate</title> <meta content=\"{&quot;primary&quot;: &quot;rgb(189, 201, 225)&quot;, &quot;secondary&quot;: &quot;rgb(116, 169, 207)&quot;, &quot;light&quot;: &quot;rgb(241, 238, 246)&quot;, &quot;dark&quot;: &quot;rgb(5, 112, 176)&quot;, &quot;enable-gradients&quot;: false}\" name=\"wg-palette\"> <meta content=\"width=device-width, initial-scale=1.0\" name=\"viewport\"> <meta content=\"Web Generator\" name=\"author\"> <meta content=\"3\" name=\"wg-layout\"> <link href=\"../css/custom-bootstrap.css\" rel=\"stylesheet\"> <link href=\"../css/wg-extras.css\" rel=\"stylesheet\"> <script src=\"../js/jquery-3.2.1.slim.min.js\" type=\"text/javascript\"></script> <script src=\"../js/bootstrap.min.js\" type=\"text/javascript\"></script> </head> <body class=\"bg-dark\"> <div class=\"bg-light rounded shadow-lg\" id=\"full-wrapper\"> <nav class=\"bg-dark navbar-dark rounded shadow-lg navbar navbar-expand-md\" data-wg-type=\"navbar\"> <button class=\"navbar-toggler\" data-target=\"#main-nav\" data-toggle=\"collapse\" type=\"button\"> <span class=\"navbar-toggler-icon\"></span> </button> <div class=\"collapse navbar-collapse\" id=\"main-nav\" style=\"height: 5vh;\"> <ul class=\"navbar-nav mx-auto\"> <li class=\"nav-item\"> <a class=\"nav-link\" href=\"#\">Excepteur ad</a> </li> <li class=\"nav-item\"> <a class=\"nav-link\" href=\"#\">Ullamco ad in</a> </li> <li class=\"nav-item\"> <a class=\"nav-link\" href=\"#\">Quis ut velit</a> </li> <li class=\"nav-item\"> <a class=\"nav-link\" href=\"#\">Aliqua esse</a> </li> <li class=\"nav-item\"> <a class=\"nav-link\" href=\"#\">Cupidatat et</a> </li> <li class=\"nav-item\"> <a class=\"nav-link\" href=\"#\">Magna laboris</a> </li> </ul> </div> </nav> <header class=\"bg-primary rounded shadow-lg d-flex align-items-center justify-content-center\" data-wg-type=\"header\" style=\"height: 22vh;\"> <h1 class=\"p-2 text-center\">Ullamco Sed Aliquip</h1> </header> <div class=\"d-flex\"> <div class=\"bg-secondary text-white rounded shadow-lg\" data-wg-type=\"sidebar\" id=\"sidebar-wrapper\"> <div class=\"list-group list-group-flush\" style=\"width:28vh;\"> <a class=\"list-group-item list-group-item-action\" href=\"#\">Ut eu dolor</a> <a class=\"list-group-item list-group-item-action\" href=\"#\">Elit commodo</a> <a class=\"list-group-item list-group-item-action\" href=\"#\">Enim ullamco</a> <a class=\"list-group-item list-group-item-action\" href=\"#\">Minim ipsum</a> <a class=\"list-group-item list-group-item-action\" href=\"#\">Exercitation</a> </div> </div> <div class=\"container-fluid py-3\" id=\"page-content\"> <form class=\"p-3\" data-wg-type=\"form\"> <div class=\"form-row\"> <div class=\"form-group col-md\"> <label for=\"elit\">Elit</label> <input class=\"custom-range\" data-wg-type=\"range\" id=\"elit\" type=\"range\"> </div> <div class=\"form-group col-md\"> <label for=\"elit_cillum_ipsum\">Elit cillum ipsum</label> <input class=\"form-control\" data-wg-type=\"time\" id=\"elit_cillum_ipsum\" type=\"time\"> </div> </div> <div class=\"form-row\"> <div class=\"form-group col-md\"> <label for=\"ex_ipsum\">Ex ipsum</label> <input class=\"form-control\" data-wg-type=\"text\" id=\"ex_ipsum\" type=\"text\"> </div> <div class=\"form-group col-md\"> <label for=\"ad_incididunt\">Ad incididunt</label> <input class=\"custom-range\" data-wg-type=\"range\" id=\"ad_incididunt\" type=\"range\"> </div> </div> <div class=\"form-group\"> <label for=\"voluptate_irure\">Voluptate irure</label> <input class=\"form-control\" data-wg-type=\"text\" id=\"voluptate_irure\" type=\"text\"> </div> <div class=\"form-row\"> <div class=\"form-group col-md\"> <label for=\"sunt_sit_occaecat\">Sunt sit occaecat</label> <select class=\"form-control\" data-wg-type=\"select\" id=\"sunt_sit_occaecat\"> <option>Do</option> <option>Enim</option> <option>Eiusmod</option> <option>Eiusmod</option> <option>Eiusmod</option> <option>Eiusmod</option> <option>Eiusmod</option> <option>Eiusmod</option> <option>Eiusmod</option> </select> </div> <div class=\"form-group col-md\"> <label for=\"aliqua_ex_consequat\">Aliqua ex consequat</label> <input class=\"form-control\" data-wg-type=\"text\" id=\"aliqua_ex_consequat\" type=\"text\"> </div> <div class=\"form-group col-md\"> <label for=\"nulla_velit_incididunt\">Nulla velit incididunt</label> <input class=\"form-control\" data-wg-type=\"text\" id=\"nulla_velit_incididunt\" type=\"text\"> </div> </div> <div class=\"form-group\"> <legend>Do id</legend> <div data-wg-type=\"radios\"> <div class=\"form-check\"> <input class=\"form-check-input\" id=\"do_id_minim\" name=\"do_id\" type=\"radio\"> <label class=\"form-check-label\" for=\"do_id_minim\">Minim</label> </div> <div class=\"form-check\"> <input class=\"form-check-input\" id=\"do_id_ex_sed\" name=\"do_id\" type=\"radio\"> <label class=\"form-check-label\" for=\"do_id_ex_sed\">Ex sed</label> </div> <div class=\"form-check\"> <input class=\"form-check-input\" id=\"do_id_voluptate\" name=\"do_id\" type=\"radio\"> <label class=\"form-check-label\" for=\"do_id_voluptate\">Voluptate</label> </div> <div class=\"form-check\"> <input class=\"form-check-input\" id=\"do_id_reprehenderit_voluptate\" name=\"do_id\" type=\"radio\"> <label class=\"form-check-label\" for=\"do_id_reprehenderit_voluptate\">Reprehenderit voluptate</label> </div> </div> </div> <div class=\"form-row\"> <div class=\"form-group col-md\"> <label for=\"veniam_occaecat_mollit\">Veniam occaecat mollit</label> <input class=\"form-control\" data-wg-type=\"date\" id=\"veniam_occaecat_mollit\" type=\"date\"> </div> <div class=\"form-group col-md\"> <label for=\"id_esse\">Id esse</label> <input class=\"form-control\" data-wg-type=\"text\" id=\"id_esse\" type=\"text\"> </div> <div class=\"form-group col-md\"> <label for=\"in\">In</label> <input class=\"form-control\" data-wg-type=\"text\" id=\"in\" type=\"text\"> </div> <div class=\"form-group col-md\"> <label for=\"nulla_consequat_sed\">Nulla consequat sed</label> <input class=\"form-control\" data-wg-type=\"text\" id=\"nulla_consequat_sed\" type=\"text\"> </div> </div> <div class=\"form-group\"> <label for=\"proident_dolor_ex\">Proident dolor ex</label> <input class=\"form-control\" data-wg-type=\"text\" id=\"proident_dolor_ex\" type=\"text\"> </div> <div class=\"form-group\"> <label for=\"aliquip_enim\">Aliquip enim</label> <input class=\"form-control\" data-wg-type=\"text\" id=\"aliquip_enim\" type=\"text\"> </div> <div class=\"form-row\"> <div class=\"form-group col-md\"> <label for=\"ad\">Ad</label> <input class=\"form-control\" data-wg-type=\"time\" id=\"ad\" type=\"time\"> </div> <div class=\"form-group col-md\"> <label for=\"cillum_labore_reprehenderit\">Cillum labore reprehenderit</label> <input class=\"form-control\" data-wg-type=\"text\" id=\"cillum_labore_reprehenderit\" type=\"text\"> </div> </div> </form> </div> </div> <footer class=\" rounded jumbotron mb-0\" data-wg-type=\"footer\" style=\"height: 18vh;\"> <div class=\"container\"> <span class=\"text-muted\">Ut est veniam id sint enim eiusmod culpa dolor in</span> </div> </footer> </div> </body> </html>\n",
            "    Answer: <!DOCTYPE html> <html> <head> <title>Dominate</title> <meta content=\"{&quot;primary&quot;: &quot;rgb(203, 146, 26)&quot;, &quot;secondary&quot;: &quot;rgb(151, 59, 28)&quot;, &quot;light&quot;: &quot;rgb(225, 253, 75)&quot;, &quot;dark&quot;: &quot;rgb(51, 20, 24)&quot;, &quot;enable-gradients&quot;: true}\" name=\"wg-palette\"> <meta content=\"width=device-width, initial-scale=1.0\" name=\"viewport\"> <meta content=\"Web Generator\" name=\"author\"> <meta content=\"3\" name=\"wg-layout\"> <link href=\"../css/custom-bootstrap.css\" rel=\"stylesheet\"> <link href=\"../css/wg-extras.css\" rel=\"stylesheet\"> <script src=\"../js/jquery-3.2.1.slim.min.js\" type=\"text/javascript\"></script> <script src=\"../js/bootstrap.min.js\" type=\"text/javascript\"></script> </head> <body class=\"bg-gradient-dark\"> <div class=\"bg-gradient-light rounded\" id=\"full-wrapper\"> <nav class=\"bg-gradient-dark navbar-dark rounded navbar navbar-expand-md\" data-wg-type=\"navbar\"> <button class=\"navbar-toggler\" data-target=\"#main-nav\" data-toggle=\"collapse\" type=\"button\"> <span class=\"navbar-toggler-icon\"></span> </button> <div class=\"collapse navbar-collapse\" id=\"main-nav\" style=\"height: 7vh;\"> <ul class=\"navbar-nav mx-auto\"> <li class=\"nav-item\"> <a class=\"nav-link\" href=\"#\">Excepteur ad</a> </li> <li class=\"nav-item\"> <a class=\"nav-link\" href=\"#\">Ullamco ad in</a> </li> <li class=\"nav-item\"> <a class=\"nav-link\" href=\"#\">Quis ut velit</a> </li> <li class=\"nav-item\"> <a class=\"nav-link\" href=\"#\">Aliqua esse</a> </li> <li class=\"nav-item\"> <a class=\"nav-link\" href=\"#\">Cupidatat et</a> </li> <li class=\"nav-item\"> <a class=\"nav-link\" href=\"#\">Magna laboris</a> </li> </ul> </div> </nav> <header class=\"bg-gradient-primary rounded d-flex align-items-center justify-content-center\" data-wg-type=\"header\" style=\"height: 21vh;\"> <h1 class=\"p-2 text-center\">Ullamco Sed Aliquip</h1> </header> <div class=\"d-flex\"> <div class=\"bg-gradient-secondary text-white rounded\" data-wg-type=\"sidebar\" id=\"sidebar-wrapper\"> <div class=\"list-group list-group-flush\" style=\"width:26vh;\"> <a class=\"list-group-item list-group-item-action\" href=\"#\">Ut eu dolor</a> <a class=\"list-group-item list-group-item-action\" href=\"#\">Elit commodo</a> <a class=\"list-group-item list-group-item-action\" href=\"#\">Enim ullamco</a> <a class=\"list-group-item list-group-item-action\" href=\"#\">Minim ipsum</a> <a class=\"list-group-item list-group-item-action\" href=\"#\">Exercitation</a> </div> </div> <div class=\"container-fluid py-3\" id=\"page-content\"> <form class=\"p-3\" data-wg-type=\"form\"> <div class=\"form-row\"> <div class=\"form-group col-md\"> <label for=\"elit\">Elit</label> <input class=\"custom-range\" data-wg-type=\"range\" id=\"elit\" type=\"range\"> </div> <div class=\"form-group col-md\"> <label for=\"elit_cillum_ipsum\">Elit cillum ipsum</label> <input class=\"form-control\" data-wg-type=\"time\" id=\"elit_cillum_ipsum\" type=\"time\"> </div> </div> <div class=\"form-row\"> <div class=\"form-group col-md\"> <label for=\"ex_ipsum\">Ex ipsum</label> <input class=\"form-control\" data-wg-type=\"number\" id=\"ex_ipsum\" type=\"number\"> </div> <div class=\"form-group col-md\"> <label for=\"ad_incididunt\">Ad incididunt</label> <input class=\"custom-range\" data-wg-type=\"range\" id=\"ad_incididunt\" type=\"range\"> </div> </div> <div class=\"form-group\"> <label for=\"voluptate_irure\">Voluptate irure</label> <input class=\"form-control\" data-wg-type=\"text\" id=\"voluptate_irure\" type=\"text\"> </div> <div class=\"form-row\"> <div class=\"form-group col-md\"> <label for=\"sunt_sit_occaecat\">Sunt sit occaecat</label> <select class=\"form-control\" data-wg-type=\"select\" id=\"sunt_sit_occaecat\"> <option>Do</option> <option>Nulla occaecat</option> </select> </div> <div class=\"form-group col-md\"> <label for=\"aliqua_ex_consequat\">Aliqua ex consequat</label> <input class=\"form-control\" data-wg-type=\"text\" id=\"aliqua_ex_consequat\" type=\"text\"> </div> <div class=\"form-group col-md\"> <label for=\"nulla_velit_incididunt\">Nulla velit incididunt</label> <input class=\"form-control\" data-wg-type=\"text\" id=\"nulla_velit_incididunt\" type=\"text\"> </div> </div> <div class=\"form-group\"> <legend>Do id</legend> <div data-wg-type=\"radios\"> <div class=\"form-check\"> <input class=\"form-check-input\" id=\"do_id_minim\" name=\"do_id\" type=\"radio\"> <label class=\"form-check-label\" for=\"do_id_minim\">Minim</label> </div> <div class=\"form-check\"> <input class=\"form-check-input\" id=\"do_id_ex_sed\" name=\"do_id\" type=\"radio\"> <label class=\"form-check-label\" for=\"do_id_ex_sed\">Ex sed</label> </div> <div class=\"form-check\"> <input class=\"form-check-input\" id=\"do_id_voluptate\" name=\"do_id\" type=\"radio\"> <label class=\"form-check-label\" for=\"do_id_voluptate\">Voluptate</label> </div> <div class=\"form-check\"> <input class=\"form-check-input\" id=\"do_id_reprehenderit_voluptate\" name=\"do_id\" type=\"radio\"> <label class=\"form-check-label\" for=\"do_id_reprehenderit_voluptate\">Reprehenderit voluptate</label> </div> </div> </div> <div class=\"form-row\"> <div class=\"form-group col-md\"> <label for=\"veniam_occaecat_mollit\">Veniam occaecat mollit</label> <input class=\"form-control\" data-wg-type=\"date\" id=\"veniam_occaecat_mollit\" type=\"date\"> </div> <div class=\"form-group col-md\"> <label for=\"id_esse\">Id esse</label> <input class=\"form-control\" data-wg-type=\"text\" id=\"id_esse\" type=\"text\"> </div> <div class=\"form-group col-md\"> <label for=\"in\">In</label> <input class=\"form-control\" data-wg-type=\"text\" id=\"in\" type=\"text\"> </div> <div class=\"form-group col-md\"> <label for=\"nulla_consequat_sed\">Nulla consequat sed</label> <input class=\"form-control\" data-wg-type=\"text\" id=\"nulla_consequat_sed\" type=\"text\"> </div> </div> <div class=\"form-group\"> <label for=\"proident_dolor_ex\">Proident dolor ex</label> <input class=\"form-control\" data-wg-type=\"text\" id=\"proident_dolor_ex\" type=\"text\"> </div> <div class=\"form-group\"> <label for=\"aliquip_enim\">Aliquip enim</label> <input class=\"form-control\" data-wg-type=\"text\" id=\"aliquip_enim\" type=\"text\"> </div> <div class=\"form-row\"> <div class=\"form-group col-md\"> <label for=\"ad\">Ad</label> <input class=\"form-control\" data-wg-type=\"time\" id=\"ad\" type=\"time\"> </div> <div class=\"form-group col-md\"> <label for=\"cillum_labore_reprehenderit\">Cillum labore reprehenderit</label> <input class=\"form-control\" data-wg-type=\"text\" id=\"cillum_labore_reprehenderit\" type=\"text\"> </div> </div> </form> </div> </div> <footer class=\" rounded jumbotron mb-0\" data-wg-type=\"footer\" style=\"height: 14vh;\"> <div class=\"container\"> <span class=\"text-muted\">Ut est veniam id sint enim eiusmod culpa dolor in</span> </div> </footer> </div> </body> </html>\n",
            "      Bleu: 0.94\n",
            "\n",
            "Prediction: <!DOCTYPE html> <html> <head> <title>Dominate</title> <meta content=\"{&quot;primary&quot;: &quot;rgb(189, 201, 225)&quot;, &quot;secondary&quot;: &quot;rgb(116, 169, 207)&quot;, &quot;light&quot;: &quot;rgb(241, 238, 246)&quot;, &quot;dark&quot;: &quot;rgb(5, 112, 176)&quot;, &quot;enable-gradients&quot;: false}\" name=\"wg-palette\"> <meta content=\"width=device-width, initial-scale=1.0\" name=\"viewport\"> <meta content=\"Web Generator\" name=\"author\"> <meta content=\"3\" name=\"wg-layout\"> <link href=\"../css/custom-bootstrap.css\" rel=\"stylesheet\"> <link href=\"../css/wg-extras.css\" rel=\"stylesheet\"> <script src=\"../js/jquery-3.2.1.slim.min.js\" type=\"text/javascript\"></script> <script src=\"../js/bootstrap.min.js\" type=\"text/javascript\"></script> </head> <body class=\"\"> <div class=\" rounded shadow-lg\" id=\"full-wrapper\"> <nav class=\"bg-light navbar-light rounded shadow-lg navbar navbar-expand-md\" data-wg-type=\"navbar\"> <a class=\"navbar-brand\" href=\"#\">Fugiat</a> <button class=\"navbar-toggler\" data-target=\"#main-nav\" data-toggle=\"collapse\" type=\"button\"> <span class=\"navbar-toggler-icon\"></span> </button> <div class=\"collapse navbar-collapse\" id=\"main-nav\" style=\"height: 5vh;\"> <ul class=\"navbar-nav ml-auto\"> <li class=\"nav-item\"> <a class=\"nav-link\" href=\"#\">Ut cillum qui</a> </li> <li class=\"nav-item\"> <a class=\"nav-link\" href=\"#\">Laborum qui</a> </li> </ul> </div> </nav> <div class=\"d-flex\"> <div class=\"container-fluid py-3\" id=\"page-content\"> <div class=\"row my-3 wg-detect\" data-wg-type=\"mix\"> <div class=\"col\"> <div class=\"wg-detect row align-items-center justify-content-center\" data-wg-type=\"call_to_action\"> <div class=\"col-10\"> <h1>Aliqua tempor dolor</h1> <p>Amet consectetur ea ut irure aliquip voluptate mollit id et fugiat est laboris elit nostrud dolor in</p> </div> <button class=\"btn btn-primary m-3\">Ipsum nisi id</button> </div> </div> <div class=\"col\"> <ol class=\"wg-detect\" data-wg-type=\"list\"> <li>Occaecat ex</li> <li>Tempor ipsum</li> <li>Labore ea ex</li> </ol> </div> </div> </div> </div> </div> </body> </html>\n",
            "    Answer: <!DOCTYPE html> <html> <head> <title>Dominate</title> <meta content=\"{&quot;primary&quot;: &quot;rgb(231, 241, 196)&quot;, &quot;secondary&quot;: &quot;rgb(228, 240, 184)&quot;, &quot;light&quot;: &quot;rgb(233, 240, 209)&quot;, &quot;dark&quot;: &quot;rgb(227, 239, 184)&quot;, &quot;enable-gradients&quot;: true}\" name=\"wg-palette\"> <meta content=\"width=device-width, initial-scale=1.0\" name=\"viewport\"> <meta content=\"Web Generator\" name=\"author\"> <meta content=\"4\" name=\"wg-layout\"> <link href=\"../css/custom-bootstrap.css\" rel=\"stylesheet\"> <link href=\"../css/wg-extras.css\" rel=\"stylesheet\"> <script src=\"../js/jquery-3.2.1.slim.min.js\" type=\"text/javascript\"></script> <script src=\"../js/bootstrap.min.js\" type=\"text/javascript\"></script> </head> <body class=\"\"> <div class=\" shadow-sm\" id=\"full-wrapper\"> <div class=\"d-flex\"> <div class=\"w-100\"> <nav class=\"bg-gradient-light navbar-light shadow-sm navbar navbar-expand-md\" data-wg-type=\"navbar\"> <a class=\"navbar-brand\" href=\"#\">Fugiat</a> <button class=\"navbar-toggler\" data-target=\"#main-nav\" data-toggle=\"collapse\" type=\"button\"> <span class=\"navbar-toggler-icon\"></span> </button> <div class=\"collapse navbar-collapse\" id=\"main-nav\" style=\"height: 6vh;\"> <ul class=\"navbar-nav ml-auto\"> <li class=\"nav-item\"> <a class=\"nav-link\" href=\"#\">Ut cillum qui</a> </li> <li class=\"nav-item\"> <a class=\"nav-link\" href=\"#\">Laborum qui</a> </li> </ul> </div> </nav> <div class=\"container-fluid py-3\" id=\"page-content\"> <div class=\"row my-3 wg-detect\" data-wg-type=\"mix\"> <div class=\"col\"> <div class=\"wg-detect row align-items-center justify-content-center\" data-wg-type=\"call_to_action\"> <div class=\"col-10\"> <h1>Aliqua tempor dolor</h1> <p>Amet consectetur ea ut irure aliquip voluptate mollit id et fugiat est laboris elit nostrud dolor in</p> </div> <button class=\"btn btn-primary m-3\">Ipsum nisi id</button> </div> </div> <div class=\"col\"> <ol class=\"wg-detect\" data-wg-type=\"list\"> <li>Occaecat ex</li> <li>Tempor ipsum</li> <li>Labore ea ex</li> </ol> </div> </div> </div> </div> </div> </div> </body> </html>\n",
            "      Bleu: 0.87\n",
            "\n",
            "Prediction: <!DOCTYPE html> <html> <head> <title>Dominate</title> <meta content=\"{&quot;primary&quot;: &quot;rgb(248, 181, 139)&quot;, &quot;secondary&quot;: &quot;rgb(242, 133, 93)&quot;, &quot;light&quot;: &quot;rgb(253, 224, 197)&quot;, &quot;dark&quot;: &quot;rgb(235, 74, 64)&quot;, &quot;enable-gradients&quot;: false}\" name=\"wg-palette\"> <meta content=\"width=device-width, initial-scale=1.0\" name=\"viewport\"> <meta content=\"Web Generator\" name=\"author\"> <meta content=\"4\" name=\"wg-layout\"> <link href=\"../css/custom-bootstrap.css\" rel=\"stylesheet\"> <link href=\"../css/wg-extras.css\" rel=\"stylesheet\"> <script src=\"../js/jquery-3.2.1.slim.min.js\" type=\"text/javascript\"></script> <script src=\"../js/bootstrap.min.js\" type=\"text/javascript\"></script> </head> <body class=\"\"> <div class=\" rounded\" id=\"full-wrapper\"> <div class=\"d-flex\"> <div class=\"w-100\"> <div class=\"container-fluid py-3\" id=\"page-content\"> <div class=\"row my-3 wg-detect\" data-wg-type=\"mix\"> <div class=\"col\"> <p class=\"wg-detect\" data-wg-type=\"paragraph\">Non aliqua qui ut cillum quis. Ex nulla tempor sunt mollit ex eu, consectetur amet ad velit ad id consequat commodo. Cillum anim excepteur non officia elit sit ea. Laboris dolore nulla aliqua proident dolore sit nisi. Nisi incididunt id consectetur quis aute incididunt. Sed esse ipsum nulla aute proident, pariatur quis nisi nulla magna ex, enim ullamco et nisi cupidatat magna.</p> </div> <div class=\"col\"> <p class=\"wg-detect\" data-wg-type=\"paragraph\">Minim laborum in pariatur ullamco non pariatur commodo. Voluptate sit ad sed aliqua ullamco esse, in lorem ut excepteur lorem id quis dolore. Voluptate esse qui sit et nisi dolore. Occaecat exercitation quis quis commodo in id. Exercitation magna irure elit nostrud laboris aute. Consequat amet sit do mollit sint, eiusmod ut esse est sint dolore duis est. Reprehenderit sit ullamco fugiat enim non, cillum cillum dolor velit incididunt nostrud.</p> </div> <div class=\"col\"> <div class=\"wg-detect row align-items-center justify-content-center\" data-wg-type=\"call_to_action\"> <div class=\"col-10\"> <h1>Occaecat dolor sunt</h1> <p>Lorem ea cillum ex voluptate irure laboris elit cupidatat deserunt qui enim ad aute duis sit officia</p> </div> <button class=\"btn btn-primary m-3\">Sit eiusmod</button> </div> </div> </div> <div class=\"row my-3 wg-detect\" data-wg-type=\"mix\"> <div class=\"col\"> <ul class=\"wg-detect\" data-wg-type=\"list\"> <li>Excepteur sed</li> <li>Deserunt sunt</li> <li>Magna in duis</li> <li>Veniam tempor</li> <li>Consequat eu</li> </ul> </div> </div> </div> </div> <div class=\"bg-light rounded\" data-wg-type=\"sidebar\" id=\"sidebar-wrapper\"> <div class=\"sidebar-heading\">Dolore</div> <div class=\"list-group list-group-flush\" style=\"width:28vh;\"> <a class=\"list-group-item list-group-item-action\" href=\"#\">Ex cupidatat</a> <a class=\"list-group-item list-group-item-action\" href=\"#\">Nostrud elit</a> </div> </div> </div> <footer class=\" rounded jumbotron mb-0\" data-wg-type=\"footer\" style=\"height: 18vh;\"> <div class=\"container\"> <span class=\"text-muted\">Aliqua non sint reprehenderit laborum sed tempor</span> </div> </footer> </div> </body> </html>\n",
            "    Answer: <!DOCTYPE html> <html> <head> <title>Dominate</title> <meta content=\"{&quot;primary&quot;: &quot;rgb(251, 180, 185)&quot;, &quot;secondary&quot;: &quot;rgb(247, 104, 161)&quot;, &quot;light&quot;: &quot;rgb(254, 235, 226)&quot;, &quot;dark&quot;: &quot;rgb(174, 1, 126)&quot;, &quot;enable-gradients&quot;: false}\" name=\"wg-palette\"> <meta content=\"width=device-width, initial-scale=1.0\" name=\"viewport\"> <meta content=\"Web Generator\" name=\"author\"> <meta content=\"3\" name=\"wg-layout\"> <link href=\"../css/custom-bootstrap.css\" rel=\"stylesheet\"> <link href=\"../css/wg-extras.css\" rel=\"stylesheet\"> <script src=\"../js/jquery-3.2.1.slim.min.js\" type=\"text/javascript\"></script> <script src=\"../js/bootstrap.min.js\" type=\"text/javascript\"></script> </head> <body class=\"\"> <div class=\" shadow-lg\" id=\"full-wrapper\"> <div class=\"d-flex\"> <div class=\"container-fluid py-3\" id=\"page-content\"> <div class=\"row my-3 wg-detect\" data-wg-type=\"mix\"> <div class=\"col\"> <p class=\"wg-detect\" data-wg-type=\"paragraph\">Non aliqua qui ut cillum quis. Ex nulla tempor sunt mollit ex eu, consectetur amet ad velit ad id consequat commodo. Cillum anim excepteur non officia elit sit ea. Laboris dolore nulla aliqua proident dolore sit nisi. Nisi incididunt id consectetur quis aute incididunt. Sed esse ipsum nulla aute proident, pariatur quis nisi nulla magna ex, enim ullamco et nisi cupidatat magna.</p> </div> <div class=\"col\"> <p class=\"wg-detect\" data-wg-type=\"paragraph\">Minim laborum in pariatur ullamco non pariatur commodo. Voluptate sit ad sed aliqua ullamco esse, in lorem ut excepteur lorem id quis dolore. Voluptate esse qui sit et nisi dolore. Occaecat exercitation quis quis commodo in id. Exercitation magna irure elit nostrud laboris aute. Consequat amet sit do mollit sint, eiusmod ut esse est sint dolore duis est. Reprehenderit sit ullamco fugiat enim non, cillum cillum dolor velit incididunt nostrud.</p> </div> <div class=\"col\"> <ul class=\"wg-detect\" data-wg-type=\"list\"> <li>Laborum anim</li> <li>Labore in et</li> <li>Nisi enim in</li> <li>Ex quis culpa</li> <li>Veniam mollit</li> </ul> </div> </div> <div class=\"row my-3 wg-detect\" data-wg-type=\"mix\"> <div class=\"col\"> <table class=\"bg-white table-striped table\" data-wg-type=\"table\"> <tr> <td>sit</td> <td>sint</td> <td>0</td> </tr> <tr> <td>aliqua</td> <td>ea</td> <td>0</td> </tr> <tr> <td>nostrud</td> <td>incididunt</td> <td>0</td> </tr> <tr> <td>elit</td> <td>ullamco</td> <td>0</td> </tr> </table> </div> <div class=\"col\"> <div class=\"wg-detect row align-items-center justify-content-center\" data-wg-type=\"call_to_action\"> <div class=\"col-10\"> <h1>Occaecat dolor sunt</h1> <p>Lorem ea cillum ex voluptate irure laboris elit cupidatat deserunt qui enim ad aute duis sit officia</p> </div> <button class=\"btn btn-primary m-3\">Sit eiusmod</button> </div> </div> </div> <div class=\"row my-3 wg-detect\" data-wg-type=\"mix\"> <div class=\"col\"> <ul class=\"wg-detect\" data-wg-type=\"list\"> <li>Excepteur sed</li> <li>Deserunt sunt</li> <li>Magna in duis</li> <li>Veniam tempor</li> <li>Consequat eu</li> </ul> </div> </div> </div> <div class=\"bg-light shadow-lg\" data-wg-type=\"sidebar\" id=\"sidebar-wrapper\"> <div class=\"sidebar-heading\">Dolore</div> <div class=\"list-group list-group-flush\" style=\"width:29vh;\"> <a class=\"list-group-item list-group-item-action\" href=\"#\">Ex cupidatat</a> <a class=\"list-group-item list-group-item-action\" href=\"#\">Nostrud elit</a> </div> </div> </div> <footer class=\" shadow-lg jumbotron mb-0\" data-wg-type=\"footer\" style=\"height: 20vh;\"> <div class=\"container\"> <span class=\"text-muted\">Aliqua non sint reprehenderit laborum sed tempor</span> </div> </footer> </div> </body> </html>\n",
            "      Bleu: 0.63\n",
            " Avg Bleu Score: 0.90\n"
          ]
        },
        {
          "name": "stderr",
          "output_type": "stream",
          "text": [
            "Epoch 10/19 - train loop: 100%|██████████| 5125/5125 [1:05:51<00:00,  1.30it/s, loss=0.386]\n"
          ]
        },
        {
          "name": "stdout",
          "output_type": "stream",
          "text": [
            "Moving Avg Loss: 0.131\n"
          ]
        },
        {
          "name": "stderr",
          "output_type": "stream",
          "text": [
            "Epoch 11/19 - train loop: 100%|██████████| 5125/5125 [1:05:48<00:00,  1.30it/s, loss=0.29]\n"
          ]
        },
        {
          "name": "stdout",
          "output_type": "stream",
          "text": [
            "Moving Avg Loss: 0.137\n"
          ]
        },
        {
          "name": "stderr",
          "output_type": "stream",
          "text": [
            "Epoch 12/19 - train loop: 100%|██████████| 5125/5125 [1:05:48<00:00,  1.30it/s, loss=0.0768]\n"
          ]
        },
        {
          "name": "stdout",
          "output_type": "stream",
          "text": [
            "Moving Avg Loss: 0.085\n"
          ]
        },
        {
          "name": "stderr",
          "output_type": "stream",
          "text": [
            "Epoch 13/19 - train loop: 100%|██████████| 5125/5125 [1:05:51<00:00,  1.30it/s, loss=0.0235]\n"
          ]
        },
        {
          "name": "stdout",
          "output_type": "stream",
          "text": [
            "Moving Avg Loss: 0.107\n"
          ]
        },
        {
          "name": "stderr",
          "output_type": "stream",
          "text": [
            "Epoch 14/19 - train loop: 100%|██████████| 5125/5125 [1:05:53<00:00,  1.30it/s, loss=0.0484]\n"
          ]
        },
        {
          "name": "stdout",
          "output_type": "stream",
          "text": [
            "Moving Avg Loss: 0.146\n"
          ]
        },
        {
          "name": "stderr",
          "output_type": "stream",
          "text": [
            "Epoch 14/19 - valid loop:  50%|█████     | 1/2 [05:53<05:53, 353.07s/it, bleu_score=0.879]"
          ]
        },
        {
          "name": "stdout",
          "output_type": "stream",
          "text": [
            "\n",
            "Prediction: <!DOCTYPE html> <html> <head> <title>Dominate</title> <meta content=\"{&quot;primary&quot;: &quot;rgb(248, 181, 139)&quot;, &quot;secondary&quot;: &quot;rgb(242, 133, 93)&quot;, &quot;light&quot;: &quot;rgb(253, 224, 197)&quot;, &quot;dark&quot;: &quot;rgb(235, 74, 64)&quot;, &quot;enable-gradients&quot;: false}\" name=\"wg-palette\"> <meta content=\"width=device-width, initial-scale=1.0\" name=\"viewport\"> <meta content=\"Web Generator\" name=\"author\"> <meta content=\"2\" name=\"wg-layout\"> <link href=\"../css/custom-bootstrap.css\" rel=\"stylesheet\"> <link href=\"../css/wg-extras.css\" rel=\"stylesheet\"> <script src=\"../js/jquery-3.2.1.slim.min.js\" type=\"text/javascript\"></script> <script src=\"../js/bootstrap.min.js\" type=\"text/javascript\"></script> </head> <body class=\"\"> <div class=\" rounded\" id=\"full-wrapper\"> <nav class=\"bg-light navbar-light rounded navbar navbar-expand-md\" data-wg-type=\"navbar\"> <a class=\"navbar-brand\" href=\"#\">Laboris</a> <button class=\"navbar-toggler\" data-target=\"#main-nav\" data-toggle=\"collapse\" type=\"button\"> <span class=\"navbar-toggler-icon\"></span> </button> <div class=\"collapse navbar-collapse\" id=\"main-nav\" style=\"height: 4vh;\"> <ul class=\"navbar-nav ml-auto\"> <li class=\"nav-item\"> <a class=\"nav-link\" href=\"#\">Laborum sed</a> </li> <li class=\"nav-item\"> <a class=\"nav-link\" href=\"#\">Occaecat do</a> </li> </ul> </div> </nav> <div class=\"d-flex\"> <div class=\"flex-grow-1\"> <div class=\"container-fluid py-3\" id=\"page-content\"> <div class=\"m-3 wg-detect\" data-wg-type=\"tabs\"> <div class=\"nav nav-tabs\"> <a aria-controls=\"est\" class=\"nav-item nav-link active\" data-toggle=\"tab\" href=\"#est\" id=\"est-tab\" role=\"tab\">Est</a> <a aria-controls=\"lorem\" class=\"nav-item nav-link\" data-toggle=\"tab\" href=\"#lorem\" id=\"lorem-tab\" role=\"tab\">Lorem</a> <a aria-controls=\"occaecat\" class=\"nav-item nav-link\" data-toggle=\"tab\" href=\"#occaecat\" id=\"occaecat-tab\" role=\"tab\">Occaecat</a> <a aria-controls=\"incididunt\" class=\"nav-item nav-link\" data-toggle=\"tab\" href=\"#incididunt\" id=\"incididunt-tab\" role=\"tab\">Incididunt</a> </div> <div class=\"tab-content\"> <div aria-labelledby=\"est\" class=\"tab-pane fade border p-3 show active\" id=\"est\" role=\"tabpanel\">Elit laboris labore eu exercitation nulla ipsum eiusmod. Dolore et ut reprehenderit. Magna sunt amet minim nostrud.</div> <div aria-labelledby=\"lorem\" class=\"tab-pane fade border p-3\" id=\"lorem\" role=\"tabpanel\">Esse aliquip ullamco nostrud.</div> <div aria-labelledby=\"occaecat\" class=\"tab-pane fade border p-3\" id=\"occaecat\" role=\"tabpanel\">Enim cillum aliquip ullamco.</div> <div aria-labelledby=\"incididunt\" class=\"tab-pane fade border p-3\" id=\"incididunt\" role=\"tabpanel\">Enim aliquip ullamco commodo.</div> </div> </div> <div class=\"row my-3 wg-detect\" data-wg-type=\"mix\"> <div class=\"col\"> <div class=\"text-dark wg-detect\" data-wg-type=\"collapse\" id=\"collapse-ele-1\"> <div class=\"card\"> <div class=\"card-header\" id=\"heading-excepteur-1\"> <button aria-controls=\"heading-excepteur-1\" class=\"btn btn-link collapsed\" data-target=\"#collapse-excepteur-1\" data-toggle=\"collapse\">Excepteur ad qui in.</button> </div> <div aria-labelledby=\"heading-excepteur-1\" class=\"collapse\" data-parent=\"#collapse-ele-1\" id=\"collapse-excepteur-1\"> <div class=\"card-body text-black\">Et aliquip ullamco nostrud. Amet aliquip nostrud ullamco. Amet aliquip ullamco ullamco. Amet aliquip ullamco ullamco. Dolore nostrud ullamco aliquip. Amet aliquip ullamco aliquip.</div> </div> </div> <div class=\"card\"> <div class=\"card-header\" id=\"heading-nostrud-2\"> <button aria-controls=\"heading-nostrud-2\" class=\"btn btn-link collapsed\" data-target=\"#collapse-nostrud-2\" data-toggle=\"collapse\">Nostrud sed dolor ullamco nulla.</button> </div> <div aria-labelledby=\"heading-nostrud-2\" class=\"collapse\" data-parent=\"#collapse-ele-1\" id=\"collapse-nostrud-2\"> <div class=\"card-body text-black\">Et aliquip ullamco ullamco. Amet aliquip nostrud ullamco. Amet aliquip ullamco aliquip. Amet aliquip ullamco aliquip. Amet aliquip ullamco aliquip. Dolore ullamco commodo aliquip.</div> </div> </div> <div class=\"card\"> <div class=\"card-header\" id=\"heading-ipsum-3\"> <button aria-controls=\"heading-ipsum-3\" class=\"btn btn-link collapsed\" data-target=\"#collapse-ipsum-3\" data-toggle=\"collapse\">Ipsum et commodo aliquip pariatur sunt fugiat, aliqua occaecat voluptate ad.</button> </div> <div aria-labelledby=\"heading-ipsum-3\" class=\"collapse\" data-parent=\"#collapse-ele-1\" id=\"collapse-ipsum-3\"> <div class=\"card-body text-black\">Et aliquip ullamco ullamco. Amet ullamco commodo aliquip. Amet ullamco ullamco aliquip. Amet ullamco ullamco aliquip. Dolore ullamco ullamco aliquip. Amet ullamco commodo aliquip.</div> </div> </div> </div> </div> <div class=\"col\"> <table class=\"bg-white table\" data-wg-type=\"table\"> <tr> <td>laboris</td> <td>ut</td> <td>non</td> <td>0</td> </tr> <tr> <td>duis</td> <td>anim</td> <td>nostrud</td> <td>0</td> </tr> <tr> <td>est</td> <td>aliqua</td> <td>id</td> <td>0</td> </tr> <tr> <td>duis</td> <td>ipsum</td> <td>excepteur</td> <td>0</td> </tr> <tr> <td>duis</td> <td>incididunt</td> <td>reprehenderit</td> <td>0</td> </tr> </table> </div> </div> </div> <footer class=\" rounded shadow-lg jumbotron mb-0\" data-wg-type=\"footer\" style=\"height: 28vh;\"> <div class=\"container\"> <span class=\"text-muted\">Voluptate proident do nisi dolore cillum esse qui</span> </div> </footer> </div> <div class=\"bg-light rounded shadow-lg\" data-wg-type=\"sidebar\" id=\"sidebar-wrapper\"> <div class=\"list-group list-group-flush\" style=\"width:23vh;\"> <a class=\"list-group-item list-group-item-action\" href=\"#\">Commodo id eu</a> <a class=\"list-group-item list-group-item-action\" href=\"#\">Quis ullamco</a> <a class=\"list-group-item list-group-item-action\" href=\"#\">Elit duis est</a> <a class=\"list-group-item list-group-item-action\" href=\"#\">Sint ex elit</a> </div> </div> </div> </div> </body> </html>\n",
            "    Answer: <!DOCTYPE html> <html> <head> <title>Dominate</title> <meta content=\"{&quot;primary&quot;: &quot;rgb(219, 245, 240)&quot;, &quot;secondary&quot;: &quot;rgb(245, 219, 225)&quot;, &quot;light&quot;: &quot;rgb(245, 240, 219)&quot;, &quot;dark&quot;: &quot;rgb(219, 225, 245)&quot;, &quot;enable-gradients&quot;: false}\" name=\"wg-palette\"> <meta content=\"width=device-width, initial-scale=1.0\" name=\"viewport\"> <meta content=\"Web Generator\" name=\"author\"> <meta content=\"2\" name=\"wg-layout\"> <link href=\"../css/custom-bootstrap.css\" rel=\"stylesheet\"> <link href=\"../css/wg-extras.css\" rel=\"stylesheet\"> <script src=\"../js/jquery-3.2.1.slim.min.js\" type=\"text/javascript\"></script> <script src=\"../js/bootstrap.min.js\" type=\"text/javascript\"></script> </head> <body class=\"bg-light\"> <div class=\"bg-light rounded shadow-sm\" id=\"full-wrapper\"> <nav class=\"bg-dark navbar-light rounded shadow-sm navbar navbar-expand-md\" data-wg-type=\"navbar\"> <a class=\"navbar-brand\" href=\"#\">Laboris</a> <button class=\"navbar-toggler\" data-target=\"#main-nav\" data-toggle=\"collapse\" type=\"button\"> <span class=\"navbar-toggler-icon\"></span> </button> <div class=\"collapse navbar-collapse\" id=\"main-nav\" style=\"height: 6vh;\"> <ul class=\"navbar-nav ml-auto\"> <li class=\"nav-item\"> <a class=\"nav-link\" href=\"#\">Laborum sed</a> </li> <li class=\"nav-item\"> <a class=\"nav-link\" href=\"#\">Occaecat do</a> </li> </ul> </div> </nav> <div class=\"d-flex\"> <div class=\"flex-grow-1\"> <div class=\"container-fluid py-3\" id=\"page-content\"> <div class=\"m-3 wg-detect\" data-wg-type=\"tabs\"> <div class=\"nav nav-tabs\"> <a aria-controls=\"est\" class=\"nav-item nav-link active\" data-toggle=\"tab\" href=\"#est\" id=\"est-tab\" role=\"tab\">Est</a> <a aria-controls=\"lorem\" class=\"nav-item nav-link\" data-toggle=\"tab\" href=\"#lorem\" id=\"lorem-tab\" role=\"tab\">Lorem</a> <a aria-controls=\"occaecat\" class=\"nav-item nav-link\" data-toggle=\"tab\" href=\"#occaecat\" id=\"occaecat-tab\" role=\"tab\">Occaecat</a> <a aria-controls=\"incididunt\" class=\"nav-item nav-link\" data-toggle=\"tab\" href=\"#incididunt\" id=\"incididunt-tab\" role=\"tab\">Incididunt</a> </div> <div class=\"tab-content\"> <div aria-labelledby=\"est\" class=\"tab-pane fade border p-3 show active\" id=\"est\" role=\"tabpanel\">Elit laboris labore eu exercitation nulla ipsum eiusmod. Dolore et ut reprehenderit. Magna sunt amet minim nostrud.</div> <div aria-labelledby=\"lorem\" class=\"tab-pane fade border p-3\" id=\"lorem\" role=\"tabpanel\">Duis tempor aliqua aute. Commodo officia minim dolore ipsum.</div> <div aria-labelledby=\"occaecat\" class=\"tab-pane fade border p-3\" id=\"occaecat\" role=\"tabpanel\">Quis reprehenderit deserunt ut consectetur, consequat ut sit labore magna irure in deserunt, nisi aliqua ut sint. Est occaecat excepteur in elit aliqua sed ut, do voluptate ex commodo minim deserunt irure eu.</div> <div aria-labelledby=\"incididunt\" class=\"tab-pane fade border p-3\" id=\"incididunt\" role=\"tabpanel\">Officia mollit pariatur amet commodo velit. Non et incididunt sunt sed qui fugiat.</div> </div> </div> <div class=\"row my-3 wg-detect\" data-wg-type=\"mix\"> <div class=\"col\"> <div class=\"text-dark wg-detect\" data-wg-type=\"collapse\" id=\"collapse-ele-1\"> <div class=\"card\"> <div class=\"card-header\" id=\"heading-excepteur-1\"> <button aria-controls=\"heading-excepteur-1\" class=\"btn btn-link collapsed\" data-target=\"#collapse-excepteur-1\" data-toggle=\"collapse\">Excepteur ad qui in.</button> </div> <div aria-labelledby=\"heading-excepteur-1\" class=\"collapse\" data-parent=\"#collapse-ele-1\" id=\"collapse-excepteur-1\"> <div class=\"card-body text-black\">Ipsum cupidatat voluptate eu. Mollit commodo qui amet eiusmod minim aliquip dolor, qui in elit veniam eu excepteur. Laboris amet nulla laboris ullamco eu et, reprehenderit sint in magna. Sunt ex exercitation ullamco sed incididunt. Magna cupidatat ullamco dolor officia sit. Ea voluptate labore sed excepteur. Laborum non laborum quis eiusmod laborum, duis minim nostrud et fugiat minim. Voluptate fugiat veniam exercitation aliquip. Sit in duis sed esse id eu eiusmod. Sit nulla cupidatat sit mollit cupidatat ea ullamco.</div> </div> </div> <div class=\"card\"> <div class=\"card-header\" id=\"heading-nostrud-2\"> <button aria-controls=\"heading-nostrud-2\" class=\"btn btn-link collapsed\" data-target=\"#collapse-nostrud-2\" data-toggle=\"collapse\">Nostrud sed dolor ullamco nulla.</button> </div> <div aria-labelledby=\"heading-nostrud-2\" class=\"collapse\" data-parent=\"#collapse-ele-1\" id=\"collapse-nostrud-2\"> <div class=\"card-body text-black\">Fugiat id duis non ex. Officia lorem minim irure, id enim pariatur laborum qui culpa irure ipsum. Deserunt in tempor qui aute sit nostrud laboris, deserunt cillum veniam lorem irure est lorem qui. Ex elit dolore ut, do commodo irure culpa exercitation, mollit irure amet commodo commodo cupidatat et. Aliqua dolore duis laboris. Aute enim sunt veniam anim veniam. Nisi consectetur consectetur nulla id. In in excepteur nostrud anim. Enim dolor eiusmod sint id ex non, sit ex voluptate exercitation exercitation. Ut sint minim quis exercitation adipiscing qui.</div> </div> </div> <div class=\"card\"> <div class=\"card-header\" id=\"heading-ipsum-3\"> <button aria-controls=\"heading-ipsum-3\" class=\"btn btn-link collapsed\" data-target=\"#collapse-ipsum-3\" data-toggle=\"collapse\">Ipsum et commodo aliquip pariatur sunt fugiat, aliqua occaecat voluptate ad.</button> </div> <div aria-labelledby=\"heading-ipsum-3\" class=\"collapse\" data-parent=\"#collapse-ele-1\" id=\"collapse-ipsum-3\"> <div class=\"card-body text-black\">Fugiat et ex magna. Eu sunt ut pariatur ad ad. Eu aliquip elit do labore sit laborum voluptate, do tempor et minim nisi amet nulla. Est et nostrud in est nisi exercitation sed. In exercitation cupidatat excepteur. Do sed ad nostrud. Dolore sed ut nisi. Enim laboris nisi reprehenderit sunt nisi mollit sunt. Mollit sunt aliqua occaecat dolor est.</div> </div> </div> </div> </div> <div class=\"col\"> <table class=\"bg-white table-striped table\" data-wg-type=\"table\"> <tr> <td>laboris</td> <td>ut</td> <td>non</td> <td>0</td> </tr> <tr> <td>duis</td> <td>anim</td> <td>nostrud</td> <td>0</td> </tr> <tr> <td>est</td> <td>aliqua</td> <td>id</td> <td>0</td> </tr> <tr> <td>duis</td> <td>ipsum</td> <td>excepteur</td> <td>0</td> </tr> <tr> <td>duis</td> <td>incididunt</td> <td>reprehenderit</td> <td>0</td> </tr> </table> </div> </div> </div> <footer class=\" rounded shadow-sm jumbotron mb-0\" data-wg-type=\"footer\" style=\"height: 29vh;\"> <div class=\"container\"> <span class=\"text-muted\">Voluptate proident do nisi dolore cillum esse qui</span> </div> </footer> </div> <div class=\"bg-dark rounded shadow-sm\" data-wg-type=\"sidebar\" id=\"sidebar-wrapper\"> <div class=\"list-group list-group-flush\" style=\"width:26vh;\"> <a class=\"list-group-item list-group-item-action\" href=\"#\">Commodo id eu</a> <a class=\"list-group-item list-group-item-action\" href=\"#\">Quis ullamco</a> <a class=\"list-group-item list-group-item-action\" href=\"#\">Elit duis est</a> <a class=\"list-group-item list-group-item-action\" href=\"#\">Sint ex elit</a> </div> </div> </div> </div> </body> </html>\n",
            "      Bleu: 0.76\n",
            "\n",
            "Prediction: <!DOCTYPE html> <html> <head> <title>Dominate</title> <meta content=\"{&quot;primary&quot;: &quot;rgb(189, 201, 225)&quot;, &quot;secondary&quot;: &quot;rgb(103, 169, 207)&quot;, &quot;light&quot;: &quot;rgb(246, 239, 247)&quot;, &quot;dark&quot;: &quot;rgb(2, 129, 138)&quot;, &quot;enable-gradients&quot;: false}\" name=\"wg-palette\"> <meta content=\"width=device-width, initial-scale=1.0\" name=\"viewport\"> <meta content=\"Web Generator\" name=\"author\"> <meta content=\"4\" name=\"wg-layout\"> <link href=\"../css/custom-bootstrap.css\" rel=\"stylesheet\"> <link href=\"../css/wg-extras.css\" rel=\"stylesheet\"> <script src=\"../js/jquery-3.2.1.slim.min.js\" type=\"text/javascript\"></script> <script src=\"../js/bootstrap.min.js\" type=\"text/javascript\"></script> </head> <body class=\"\"> <div class=\" rounded\" id=\"full-wrapper\"> <div class=\"d-flex\"> <div class=\"w-100\"> <nav class=\"bg-light navbar-light rounded navbar navbar-expand-md\" data-wg-type=\"navbar\"> <a class=\"navbar-brand\" href=\"#\">Laboris</a> <button class=\"navbar-toggler\" data-target=\"#main-nav\" data-toggle=\"collapse\" type=\"button\"> <span class=\"navbar-toggler-icon\"></span> </button> <div class=\"collapse navbar-collapse\" id=\"main-nav\" style=\"height: 7vh;\"> <ul class=\"navbar-nav mx-auto\"> <li class=\"nav-item\"> <a class=\"nav-link\" href=\"#\">Dolore ad do</a> </li> <li class=\"nav-item\"> <a class=\"nav-link\" href=\"#\">Esse ullamco</a> </li> <li class=\"nav-item\"> <a class=\"nav-link\" href=\"#\">Voluptate est</a> </li> <li class=\"nav-item\"> <a class=\"nav-link\" href=\"#\">Lorem ea ex</a> </li> <li class=\"nav-item\"> <a class=\"nav-link\" href=\"#\">Reprehenderit</a> </li> </ul> </div> </nav> <header class=\"bg-secondary text-white rounded d-flex align-items-center justify-content-center\" data-wg-type=\"header\" style=\"height: 20vh;\"> <h1 class=\"p-2 text-center\">Aliqua Dolore Nisi Cillum Elit Do</h1> </header> <div class=\"container-fluid py-3\" id=\"page-content\"> <div class=\"row my-3 wg-detect\" data-wg-type=\"mix\"> <div class=\"col\"> <h1 class=\"wg-detect\" data-wg-type=\"heading\">Irure sint lorem occaecat.</h1> </div> <div class=\"col\"> <ol class=\"wg-detect\" data-wg-type=\"list\"> <li>Sunt id aute</li> <li>Dolore irure</li> <li>Sunt amet id</li> <li>Lorem tempor</li> <li>Tempor lorem</li> <li>Aliquip nulla</li> </ol> </div> </div> <div class=\"m-3 wg-detect\" data-wg-type=\"tabs\"> <div class=\"nav nav-tabs\"> <a aria-controls=\"sunt\" class=\"nav-item nav-link active\" data-toggle=\"tab\" href=\"#sunt\" id=\"sunt-tab\" role=\"tab\">Sunt</a> <a aria-controls=\"ut\" class=\"nav-item nav-link\" data-toggle=\"tab\" href=\"#ut\" id=\"ut-tab\" role=\"tab\">Ut</a> <a aria-controls=\"est\" class=\"nav-item nav-link\" data-toggle=\"tab\" href=\"#est\" id=\"est-tab\" role=\"tab\">Est</a> <a aria-controls=\"elit\" class=\"nav-item nav-link\" data-toggle=\"tab\" href=\"#elit\" id=\"elit-tab\" role=\"tab\">Elit</a> </div> <div class=\"tab-content\"> <div aria-labelledby=\"sunt\" class=\"tab-pane fade border p-3 show active\" id=\"sunt\" role=\"tabpanel\">Ex dolor fugiat aliquip proident nostrud, aute qui anim ut non commodo labore. Anim duis eu veniam lorem laborum.</div> <div aria-labelledby=\"ut\" class=\"tab-pane fade border p-3\" id=\"ut\" role=\"tabpanel\">Et aliquip ullamco aliquip.</div> <div aria-labelledby=\"est\" class=\"tab-pane fade border p-3\" id=\"est\" role=\"tabpanel\">Et aliquip ullamco aliquip.</div> <div aria-labelledby=\"elit\" class=\"tab-pane fade border p-3\" id=\"elit\" role=\"tabpanel\">Et aliquip ullamco aliquip.</div> </div> </div> <div class=\"row my-3 wg-detect\" data-wg-type=\"mix\"> <div class=\"col\"> <h1 class=\"wg-detect\" data-wg-type=\"heading\">Officia exercitation elit anim cillum.</h1> </div> <div class=\"col\"> <p class=\"wg-detect\" data-wg-type=\"paragraph\">Et cillum magna consequat dolore nostrud nulla nisi. Consectetur do et dolor laborum nostrud, non id cupidatat laborum cillum qui ad non. Duis tempor ex reprehenderit cillum deserunt, do dolore nisi sed pariatur ut enim. Voluptate voluptate enim adipiscing ad commodo non, fugiat nostrud amet qui occaecat consequat. Quis officia ex cupidatat dolore mollit magna exercitation, id ipsum ea enim consequat non amet. Incididunt eiusmod deserunt sit velit officia pariatur ipsum.</p> </div> <div class=\"col\"> <h1 class=\"wg-detect\" data-wg-type=\"heading\">Dolor sit pariatur aute.</h1> </div> </div> </div> </div> <div class=\"bg-light rounded\" data-wg-type=\"sidebar\" id=\"sidebar-wrapper\"> <div class=\"sidebar-heading\">Do</div> <div class=\"list-group list-group-flush\" style=\"width:27vh;\"> <a class=\"list-group-item list-group-item-action\" href=\"#\">Laborum ut et</a> <a class=\"list-group-item list-group-item-action\" href=\"#\">Incididunt ad</a> </div> </div> </div> </body> </html>\n",
            "    Answer: <!DOCTYPE html> <html> <head> <title>Dominate</title> <meta content=\"{&quot;primary&quot;: &quot;rgb(239, 205, 171)&quot;, &quot;secondary&quot;: &quot;rgb(188, 102, 15)&quot;, &quot;light&quot;: &quot;rgb(240, 213, 186)&quot;, &quot;dark&quot;: &quot;rgb(100, 56, 11)&quot;, &quot;enable-gradients&quot;: false}\" name=\"wg-palette\"> <meta content=\"width=device-width, initial-scale=1.0\" name=\"viewport\"> <meta content=\"Web Generator\" name=\"author\"> <meta content=\"4\" name=\"wg-layout\"> <link href=\"../css/custom-bootstrap.css\" rel=\"stylesheet\"> <link href=\"../css/wg-extras.css\" rel=\"stylesheet\"> <script src=\"../js/jquery-3.2.1.slim.min.js\" type=\"text/javascript\"></script> <script src=\"../js/bootstrap.min.js\" type=\"text/javascript\"></script> </head> <body class=\"\"> <div class=\" rounded shadow-sm\" id=\"full-wrapper\"> <div class=\"d-flex\"> <div class=\"w-100\"> <nav class=\"bg-light navbar-light rounded shadow-sm navbar navbar-expand-md\" data-wg-type=\"navbar\"> <a class=\"navbar-brand\" href=\"#\">Laboris</a> <button class=\"navbar-toggler\" data-target=\"#main-nav\" data-toggle=\"collapse\" type=\"button\"> <span class=\"navbar-toggler-icon\"></span> </button> <div class=\"collapse navbar-collapse\" id=\"main-nav\" style=\"height: 5vh;\"> <ul class=\"navbar-nav mx-auto\"> <li class=\"nav-item\"> <a class=\"nav-link\" href=\"#\">Dolore ad do</a> </li> <li class=\"nav-item\"> <a class=\"nav-link\" href=\"#\">Esse ullamco</a> </li> <li class=\"nav-item\"> <a class=\"nav-link\" href=\"#\">Voluptate est</a> </li> <li class=\"nav-item\"> <a class=\"nav-link\" href=\"#\">Lorem ea ex</a> </li> <li class=\"nav-item\"> <a class=\"nav-link\" href=\"#\">Reprehenderit</a> </li> </ul> </div> </nav> <header class=\"bg-secondary text-white rounded shadow-sm d-flex align-items-center justify-content-center\" data-wg-type=\"header\" style=\"height: 22vh;\"> <h1 class=\"p-2 text-center\">Aliqua Dolore Nisi Cillum Elit Do</h1> </header> <div class=\"container-fluid py-3\" id=\"page-content\"> <div class=\"row my-3 wg-detect\" data-wg-type=\"mix\"> <div class=\"col\"> <h1 class=\"wg-detect\" data-wg-type=\"heading\">Irure sint lorem occaecat.</h1> </div> <div class=\"col\"> <ol class=\"wg-detect\" data-wg-type=\"list\"> <li>Sunt id aute</li> <li>Dolore irure</li> <li>Sunt amet id</li> <li>Lorem tempor</li> <li>Tempor lorem</li> <li>Aliquip nulla</li> </ol> </div> </div> <div class=\"m-3 wg-detect\" data-wg-type=\"tabs\"> <div class=\"nav nav-tabs\"> <a aria-controls=\"sunt\" class=\"nav-item nav-link active\" data-toggle=\"tab\" href=\"#sunt\" id=\"sunt-tab\" role=\"tab\">Sunt</a> <a aria-controls=\"ut\" class=\"nav-item nav-link\" data-toggle=\"tab\" href=\"#ut\" id=\"ut-tab\" role=\"tab\">Ut</a> <a aria-controls=\"est\" class=\"nav-item nav-link\" data-toggle=\"tab\" href=\"#est\" id=\"est-tab\" role=\"tab\">Est</a> <a aria-controls=\"elit\" class=\"nav-item nav-link\" data-toggle=\"tab\" href=\"#elit\" id=\"elit-tab\" role=\"tab\">Elit</a> </div> <div class=\"tab-content\"> <div aria-labelledby=\"sunt\" class=\"tab-pane fade border p-3 show active\" id=\"sunt\" role=\"tabpanel\">Ex dolor fugiat aliquip proident nostrud, aute qui anim ut non commodo labore. Anim duis eu veniam lorem laborum.</div> <div aria-labelledby=\"ut\" class=\"tab-pane fade border p-3\" id=\"ut\" role=\"tabpanel\">Labore in nostrud proident ipsum sit.</div> <div aria-labelledby=\"est\" class=\"tab-pane fade border p-3\" id=\"est\" role=\"tabpanel\">Aute consectetur pariatur ut non sed, reprehenderit do lorem excepteur id eu. Sit ex laborum aliqua duis incididunt incididunt, ea ex ad ut qui.</div> <div aria-labelledby=\"elit\" class=\"tab-pane fade border p-3\" id=\"elit\" role=\"tabpanel\">Eu sed exercitation occaecat officia cupidatat, non non elit qui duis lorem et.</div> </div> </div> <div class=\"row my-3 wg-detect\" data-wg-type=\"mix\"> <div class=\"col\"> <h1 class=\"wg-detect\" data-wg-type=\"heading\">Officia exercitation elit anim cillum.</h1> </div> <div class=\"col\"> <p class=\"wg-detect\" data-wg-type=\"paragraph\">Et cillum magna consequat dolore nostrud nulla nisi. Consectetur do et dolor laborum nostrud, non id cupidatat laborum cillum qui ad non. Duis tempor ex reprehenderit cillum deserunt, do dolore nisi sed pariatur ut enim. Voluptate voluptate enim adipiscing ad commodo non, fugiat nostrud amet qui occaecat consequat. Quis officia ex cupidatat dolore mollit magna exercitation, id ipsum ea enim consequat non amet. Incididunt eiusmod deserunt sit velit officia pariatur ipsum.</p> </div> <div class=\"col\"> <h1 class=\"wg-detect\" data-wg-type=\"heading\">Dolor sit pariatur aute.</h1> </div> </div> </div> </div> <div class=\"bg-light rounded shadow-sm\" data-wg-type=\"sidebar\" id=\"sidebar-wrapper\"> <div class=\"sidebar-heading\">Do</div> <div class=\"list-group list-group-flush\" style=\"width:23vh;\"> <a class=\"list-group-item list-group-item-action\" href=\"#\">Laborum ut et</a> <a class=\"list-group-item list-group-item-action\" href=\"#\">Incididunt ad</a> </div> </div> </div> </div> </body> </html>\n",
            "      Bleu: 0.93\n",
            "\n",
            "Prediction: <!DOCTYPE html> <html> <head> <title>Dominate</title> <meta content=\"{&quot;primary&quot;: &quot;rgb(248, 160, 126)&quot;, &quot;secondary&quot;: &quot;rgb(206, 102, 147)&quot;, &quot;light&quot;: &quot;rgb(243, 231, 155)&quot;, &quot;dark&quot;: &quot;rgb(92, 83, 165)&quot;, &quot;enable-gradients&quot;: false}\" name=\"wg-palette\"> <meta content=\"width=device-width, initial-scale=1.0\" name=\"viewport\"> <meta content=\"Web Generator\" name=\"author\"> <meta content=\"4\" name=\"wg-layout\"> <link href=\"../css/custom-bootstrap.css\" rel=\"stylesheet\"> <link href=\"../css/wg-extras.css\" rel=\"stylesheet\"> <script src=\"../js/jquery-3.2.1.slim.min.js\" type=\"text/javascript\"></script> <script src=\"../js/bootstrap.min.js\" type=\"text/javascript\"></script> </head> <body class=\"\"> <div class=\" rounded shadow-lg\" id=\"full-wrapper\"> <div class=\"d-flex\"> <div class=\"w-100\"> <nav class=\"bg-light navbar-light rounded shadow-lg navbar navbar-expand-md\" data-wg-type=\"navbar\"> <button class=\"navbar-toggler\" data-target=\"#main-nav\" data-toggle=\"collapse\" type=\"button\"> <span class=\"navbar-toggler-icon\"></span> </button> <div class=\"collapse navbar-collapse\" id=\"main-nav\" style=\"height: 7vh;\"> <ul class=\"navbar-nav ml-auto\"> <li class=\"nav-item\"> <a class=\"nav-link\" href=\"#\">Esse commodo</a> </li> <li class=\"nav-item\"> <a class=\"nav-link\" href=\"#\">Enim nostrud</a> </li> <li class=\"nav-item\"> <a class=\"nav-link\" href=\"#\">Et aliquip ut</a> </li> </ul> </div> </nav> <div class=\"container-fluid py-3\" id=\"page-content\"> <div class=\"wg-detect\" data-wg-type=\"descriptive_items\"> <div class=\"row\"> <div class=\"col\"> <h2>Excepteur dolor qui commodo.</h2> <p><br> <span class=\"mx-auto m-2 shadow placeholder\" data-wg-type=\"image\" style=\"width: 251px;height: 251px;\"> <span>251x251</span> </span> <span data-wg-type=\"text_area\">Cupidatat magna fugiat id ex minim ut, ut quis consequat enim proident non magna, consequat culpa non minim ex. Commodo lorem pariatur voluptate dolor. Esse cillum aute ea nulla tempor dolore, non fugiat commodo aliquip. Anim commodo lorem id id amet pariatur. Anim qui culpa enim. Proident mollit commodo in duis. Ipsum tempor labore aute veniam in enim reprehenderit. Culpa dolore laboris amet aliquip. Velit minim sunt amet ex nostrud cillum, tempor ut ipsum id eu laborum eu. Cupidatat pariatur sed et non commodo enim voluptate. Excepteur officia laboris magna magna. Mollit pariatur est laboris do deserunt. Cupidatat deserunt nisi adipiscing id ex irure mollit. Id minim pariatur laboris velit incididunt. Amet reprehenderit proident nisi ea. Consectetur deserunt eiusmod dolor. Et in reprehenderit magna consectetur est mollit. Ea elit sit magna irure ut adipiscing. Adipiscing culpa ipsum fugiat velit duis dolore occaecat. Adipiscing dolor veniam non fugiat ex velit, aliqua voluptate voluptate do fugiat.</span> </p> </div> </div> <div class=\"row\"> <div class=\"col\"> <h2>Amet consequat aute consectetur id et qui.</h2> <p><br> <span class=\"mx-auto m-2 placeholder\" data-wg-type=\"image\" style=\"width: 251px;height: 181px;\"> <span>251x181</span> </span> <span data-wg-type=\"text_area\">Exercitation sint cupidatat incididunt. Eiusmod laborum aliqua do pariatur commodo. Nisi voluptate mollit officia commodo ea eiusmod sed, deserunt adipiscing amet ut dolor dolore laboris ullamco. Culpa anim eiusmod qui eu. Pariatur amet esse ea. Magna do labore dolor veniam dolore, tempor eiusmod aliqua est labore sit ex dolor, in deserunt incididunt dolore est. Laborum fugiat irure sint. Elit ad duis incididunt ipsum officia sint. Excepteur reprehenderit exercitation sunt consequat proident esse, magna proident do qui sint. Duis officia sit magna ex sint enim. Duis sed est anim deserunt, esse proident commodo quis elit reprehenderit. Tempor aliqua pariatur proident esse labore excepteur. Laboris nulla occaecat sit. Magna aute magna do amet. Culpa adipiscing consectetur esse exercitation quis, culpa cupidatat ipsum sit, occaecat commodo consectetur ut ex. Laborum irure enim culpa irure non cupidatat, laborum occaecat nulla velit sint ullamco quis. Sunt elit officia culpa voluptate. Non adipiscing ut ipsum, excepteur exercitation do ipsum, nisi tempor ut amet nisi adipiscing commodo. Labore est ex eiusmod ea eu quis.</span> </p> </div> </div> <div class=\"row\"> <div class=\"col\"> <h2>Sed est nostrud nisi ipsum qui.</h2> <p><br> <span class=\"mx-auto m-2 placeholder\" data-wg-type=\"image\" style=\"width: 251px;height: 181px;\"> <span>251x181</span> </span> <span data-wg-type=\"text_area\">Sunt quis velit dolore lorem labore. Excepteur tempor excepteur amet cupidatat. Velit sunt sit proident sint excepteur occaecat dolore. Deserunt eu in non et irure. Laboris sint laboris elit. Consequat excepteur excepteur proident laboris et, consequat quis deserunt nostrud tempor nisi, amet minim nostrud dolore elit laborum. Duis nulla lorem esse deserunt culpa amet excepteur. Ex nostrud exercitation eiusmod nulla nostrud labore eiusmod, anim esse laboris id irure. Dolore minim esse excepteur. Commodo pariatur nulla nostrud aliqua id. Deserunt reprehenderit voluptate anim sunt. Eiusmod cupidatat anim officia reprehenderit laboris culpa fugiat. Aute cillum sunt nisi fugiat velit pariatur.</span> </p> </div> </div> </div> </div> </div> <footer class=\" rounded jumbotron mb-0\" data-wg-type=\"footer\" style=\"height: 11vh;\"> <div class=\"container\"> <span class=\"text-muted\">Dolor fugiat veniam labore esse et officia qui eu</span> </div> </footer> </div> </body> </html>\n",
            "    Answer: <!DOCTYPE html> <html> <head> <title>Dominate</title> <meta content=\"{&quot;primary&quot;: &quot;rgb(122, 247, 170)&quot;, &quot;secondary&quot;: &quot;rgb(19, 166, 76)&quot;, &quot;light&quot;: &quot;rgb(208, 254, 225)&quot;, &quot;dark&quot;: &quot;rgb(58, 87, 69)&quot;, &quot;enable-gradients&quot;: true}\" name=\"wg-palette\"> <meta content=\"width=device-width, initial-scale=1.0\" name=\"viewport\"> <meta content=\"Web Generator\" name=\"author\"> <meta content=\"2\" name=\"wg-layout\"> <link href=\"../css/custom-bootstrap.css\" rel=\"stylesheet\"> <link href=\"../css/wg-extras.css\" rel=\"stylesheet\"> <script src=\"../js/jquery-3.2.1.slim.min.js\" type=\"text/javascript\"></script> <script src=\"../js/bootstrap.min.js\" type=\"text/javascript\"></script> </head> <body class=\"\"> <div class=\"\" id=\"full-wrapper\"> <nav class=\"bg-gradient-light navbar-light navbar navbar-expand-md\" data-wg-type=\"navbar\"> <button class=\"navbar-toggler\" data-target=\"#main-nav\" data-toggle=\"collapse\" type=\"button\"> <span class=\"navbar-toggler-icon\"></span> </button> <div class=\"collapse navbar-collapse\" id=\"main-nav\" style=\"height: 3vh;\"> <ul class=\"navbar-nav ml-auto\"> <li class=\"nav-item\"> <a class=\"nav-link\" href=\"#\">Sunt non in</a> </li> <li class=\"nav-item\"> <a class=\"nav-link\" href=\"#\">Culpa ea aute</a> </li> </ul> </div> </nav> <div class=\"d-flex\"> <div class=\"flex-grow-1\"> <div class=\"container-fluid py-3\" id=\"page-content\"> <div class=\"wg-detect\" data-wg-type=\"descriptive_items\"> <div class=\"row\"> <div class=\"col\"> <h2>Excepteur dolor qui commodo.</h2> <p><br> <span class=\"mx-auto m-2 shadow placeholder\" data-wg-type=\"image\" style=\"width: 291px;height: 261px;\"> <span>291x261</span> </span> <span data-wg-type=\"text_area\">Cupidatat magna fugiat id ex minim ut, ut quis consequat enim proident non magna, consequat culpa non minim ex. Commodo lorem pariatur voluptate dolor. Esse cillum aute ea nulla tempor dolore, non fugiat consectetur mollit pariatur irure. Ex sit nostrud laborum excepteur commodo, eiusmod magna lorem id id amet pariatur. Anim qui culpa enim. Proident mollit commodo in duis. Ipsum tempor labore aute veniam in lorem reprehenderit. Culpa dolore laboris amet aliquip. Velit minim sunt amet ex nostrud cillum, tempor ut ipsum id eu laborum eu. Cupidatat pariatur sed et non commodo enim voluptate. Excepteur officia laboris magna magna. Mollit pariatur elit laboris do deserunt. Cupidatat deserunt nisi adipiscing id ex irure mollit. Id minim pariatur laboris velit incididunt. Amet reprehenderit proident nisi est. Consectetur deserunt eiusmod dolor. Et in reprehenderit magna consectetur est mollit. Ea elit sit magna irure ut adipiscing. Adipiscing culpa ipsum fugiat velit duis dolore occaecat. Adipiscing dolor veniam non fugiat ex velit, aliqua voluptate voluptate do fugiat.</span> </p> </div> </div> <div class=\"row\"> <div class=\"col\"> <h2>Amet consequat aute consectetur id et qui.</h2> <p><br> <span class=\"mx-auto m-2 shadow placeholder\" data-wg-type=\"image\" style=\"width: 291px;height: 261px;\"> <span>291x261</span> </span> <span data-wg-type=\"text_area\">Exercitation sint cupidatat incididunt. Eiusmod laborum aliqua do pariatur commodo. Nisi voluptate mollit officia commodo ea eiusmod sed, deserunt adipiscing amet ut dolor dolore laboris ullamco. Culpa anim eiusmod qui eu. Pariatur amet esse ea. Magna do labore dolor veniam dolore, tempor eiusmod aliqua est labore sit ex dolor, in deserunt incididunt dolore est. Laborum fugiat irure sint. Elit ad duis incididunt ipsum officia sint. Excepteur reprehenderit exercitation sunt consequat proident esse, magna proident do qui sint. Duis officia sit magna ea sint enim. Duis sed est anim deserunt, esse proident commodo quis elit reprehenderit. Tempor aliqua pariatur proident esse labore excepteur. Laboris nulla occaecat do, magna velit magna do amet. Culpa adipiscing consectetur esse exercitation quis, culpa cupidatat ipsum sit, occaecat commodo consectetur ut ex. Laborum irure enim culpa incididunt non cupidatat, laborum occaecat nulla velit sint ullamco quis minim. Sunt elit officia culpa voluptate. Non adipiscing ut ipsum, excepteur exercitation do ipsum, nisi tempor ut amet nisi adipiscing commodo. Labore est ex eiusmod ea eu quis.</span> </p> </div> </div> <div class=\"row\"> <div class=\"col\"> <h2>Sed est nostrud nisi ipsum qui.</h2> <p><br> <span class=\"mx-auto m-2 shadow placeholder\" data-wg-type=\"image\" style=\"width: 291px;height: 261px;\"> <span>291x261</span> </span> <span data-wg-type=\"text_area\">Sunt quis velit dolore lorem labore. Excepteur tempor excepteur amet cupidatat. Velit sunt sit proident sint excepteur occaecat dolore. Deserunt eu in non et irure. Laboris sint laboris elit. Consequat excepteur excepteur proident laboris et, consequat quis deserunt nostrud tempor nisi, amet minim nostrud dolore elit laborum. Duis nulla lorem esse deserunt culpa amet excepteur. Ex nostrud exercitation eu nulla nostrud sit eiusmod, sunt minim esse laboris id irure. Dolore minim esse excepteur. Commodo pariatur nulla nostrud aliqua id. Deserunt reprehenderit voluptate anim sunt. Eiusmod cupidatat anim officia reprehenderit laboris culpa fugiat. Aute cillum sunt nisi fugiat velit pariatur.</span> </p> </div> </div> </div> </div> <footer class=\"jumbotron mb-0\" data-wg-type=\"footer\" style=\"height: 23vh;\"> <div class=\"container\"> <span class=\"text-muted\">Dolor fugiat veniam labore esse et officia qui eu</span> </div> </footer> </div> </div> </div> </body> </html>\n",
            "      Bleu: 0.96\n",
            "\n",
            "Prediction: <!DOCTYPE html> <html> <head> <title>Dominate</title> <meta content=\"{&quot;primary&quot;: &quot;rgb(100, 180, 99)&quot;, &quot;secondary&quot;: &quot;rgb(18, 110, 69)&quot;, &quot;light&quot;: &quot;rgb(215, 249, 208)&quot;, &quot;dark&quot;: &quot;rgb(18, 36, 20)&quot;, &quot;enable-gradients&quot;: true}\" name=\"wg-palette\"> <meta content=\"width=device-width, initial-scale=1.0\" name=\"viewport\"> <meta content=\"Web Generator\" name=\"author\"> <meta content=\"3\" name=\"wg-layout\"> <link href=\"../css/custom-bootstrap.css\" rel=\"stylesheet\"> <link href=\"../css/wg-extras.css\" rel=\"stylesheet\"> <script src=\"../js/jquery-3.2.1.slim.min.js\" type=\"text/javascript\"></script> <script src=\"../js/bootstrap.min.js\" type=\"text/javascript\"></script> </head> <body class=\"\"> <div class=\" rounded shadow-lg\" id=\"full-wrapper\"> <nav class=\"bg-gradient-light navbar-light rounded shadow-lg navbar navbar-expand-md\" data-wg-type=\"navbar\"> <button class=\"navbar-toggler\" data-target=\"#main-nav\" data-toggle=\"collapse\" type=\"button\"> <span class=\"navbar-toggler-icon\"></span> </button> <div class=\"collapse navbar-collapse\" id=\"main-nav\" style=\"height: 6vh;\"> <ul class=\"navbar-nav ml-auto\"> <li class=\"nav-item\"> <a class=\"nav-link\" href=\"#\">Nisi ea id eu</a> </li> <li class=\"nav-item\"> <a class=\"nav-link\" href=\"#\">Quis occaecat</a> </li> <li class=\"nav-item\"> <a class=\"nav-link\" href=\"#\">Voluptate sit</a> </li> </ul> </div> </nav> <div class=\"d-flex\"> <div class=\"container-fluid py-3\" id=\"page-content\"> <form class=\"p-3\" data-wg-type=\"form\"> <div class=\"form-row\"> <div class=\"form-group col-md\"> <label for=\"enim\">Enim</label> <select class=\"form-control\" data-wg-type=\"select\" id=\"enim\"> <option>Eu eu irure</option> <option>Enim</option> <option>Eiusmod</option> <option>Enim</option> <option>Enim</option> <option>Enim</option> <option>Enim</option> </select> </div> <div class=\"form-group col-md\"> <label for=\"laborum_velit\">Laborum velit</label> <input class=\"form-control\" data-wg-type=\"date\" id=\"laborum_velit\" type=\"date\"> </div> <div class=\"form-group col-md\"> <label for=\"nisi_cupidatat_quis\">Nisi cupidatat quis</label> <input class=\"form-control\" data-wg-type=\"text\" id=\"nisi_cupidatat_quis\" type=\"text\"> </div> </div> <div class=\"form-row\"> <div class=\"form-group col-md\"> <label for=\"fugiat\">Fugiat</label> <input class=\"custom-range\" data-wg-type=\"range\" id=\"fugiat\" type=\"range\"> </div> <div class=\"form-group col-md\"> <label for=\"occaecat_culpa_officia\">Occaecat culpa officia</label> <input class=\"form-control\" data-wg-type=\"text\" id=\"occaecat_culpa_officia\" type=\"text\"> </div> <div class=\"form-group col-md\"> <label for=\"consequat_in\">Consequat in</label> <select class=\"form-control\" data-wg-type=\"select\" id=\"consequat_in\"> <option>Sed</option> <option>Enim</option> <option>Enim</option> <option>Esse</option> <option>Enim</option> <option>Esse</option> <option>Enim</option> <option>Enim</option> </select> </div> </div> <div class=\"form-row\"> <div class=\"form-group col-md\"> <label for=\"laborum\">Laborum</label> <input class=\"form-control\" data-wg-type=\"time\" id=\"laborum\" type=\"time\"> </div> <div class=\"form-group col-md\"> <label for=\"sed_cupidatat\">Sed cupidatat</label> <input class=\"form-control\" data-wg-type=\"text\" id=\"sed_cupidatat\" type=\"text\"> </div> </div> </form> </div> </div> </div> </body> </html>\n",
            "    Answer: <!DOCTYPE html> <html> <head> <title>Dominate</title> <meta content=\"{&quot;primary&quot;: &quot;rgb(191, 151, 71)&quot;, &quot;secondary&quot;: &quot;rgb(121, 83, 56)&quot;, &quot;light&quot;: &quot;rgb(233, 246, 171)&quot;, &quot;dark&quot;: &quot;rgb(34, 31, 27)&quot;, &quot;enable-gradients&quot;: false}\" name=\"wg-palette\"> <meta content=\"width=device-width, initial-scale=1.0\" name=\"viewport\"> <meta content=\"Web Generator\" name=\"author\"> <meta content=\"4\" name=\"wg-layout\"> <link href=\"../css/custom-bootstrap.css\" rel=\"stylesheet\"> <link href=\"../css/wg-extras.css\" rel=\"stylesheet\"> <script src=\"../js/jquery-3.2.1.slim.min.js\" type=\"text/javascript\"></script> <script src=\"../js/bootstrap.min.js\" type=\"text/javascript\"></script> </head> <body class=\"\"> <div class=\" shadow\" id=\"full-wrapper\"> <div class=\"d-flex\"> <div class=\"w-100\"> <nav class=\"bg-light navbar-light shadow navbar navbar-expand-md\" data-wg-type=\"navbar\"> <button class=\"navbar-toggler\" data-target=\"#main-nav\" data-toggle=\"collapse\" type=\"button\"> <span class=\"navbar-toggler-icon\"></span> </button> <div class=\"collapse navbar-collapse\" id=\"main-nav\" style=\"height: 8vh;\"> <ul class=\"navbar-nav ml-auto\"> <li class=\"nav-item\"> <a class=\"nav-link\" href=\"#\">Nisi ea id eu</a> </li> <li class=\"nav-item\"> <a class=\"nav-link\" href=\"#\">Quis occaecat</a> </li> <li class=\"nav-item\"> <a class=\"nav-link\" href=\"#\">Voluptate sit</a> </li> </ul> </div> </nav> <div class=\"container-fluid py-3\" id=\"page-content\"> <form class=\"p-3\" data-wg-type=\"form\"> <div class=\"form-row\"> <div class=\"form-group col-md\"> <label for=\"enim\">Enim</label> <select class=\"form-control\" data-wg-type=\"select\" id=\"enim\"> <option>Eu eu irure</option> <option>Pariatur deserunt</option> <option>Eu</option> <option>Ut aute</option> </select> </div> <div class=\"form-group col-md\"> <label for=\"laborum_velit\">Laborum velit</label> <input class=\"form-control\" data-wg-type=\"date\" id=\"laborum_velit\" type=\"date\"> </div> <div class=\"form-group col-md\"> <label for=\"nisi_cupidatat_quis\">Nisi cupidatat quis</label> <input class=\"form-control\" data-wg-type=\"text\" id=\"nisi_cupidatat_quis\" type=\"text\"> </div> </div> <div class=\"form-row\"> <div class=\"form-group col-md\"> <label for=\"fugiat\">Fugiat</label> <input class=\"custom-range\" data-wg-type=\"range\" id=\"fugiat\" type=\"range\"> </div> <div class=\"form-group col-md\"> <label for=\"occaecat_culpa_officia\">Occaecat culpa officia</label> <input class=\"form-control\" data-wg-type=\"text\" id=\"occaecat_culpa_officia\" type=\"text\"> </div> <div class=\"form-group col-md\"> <label for=\"consequat_in\">Consequat in</label> <select class=\"form-control\" data-wg-type=\"select\" id=\"consequat_in\"> <option>Sed</option> <option>Veniam</option> <option>Do</option> <option>Nostrud laboris</option> <option>Labore amet laboris</option> <option>Occaecat qui</option> <option>Duis sint ut</option> <option>Mollit</option> </select> </div> </div> <div class=\"form-row\"> <div class=\"form-group col-md\"> <label for=\"laborum\">Laborum</label> <input class=\"form-control\" data-wg-type=\"time\" id=\"laborum\" type=\"time\"> </div> <div class=\"form-group col-md\"> <label for=\"sed_cupidatat\">Sed cupidatat</label> <input class=\"form-control\" data-wg-type=\"text\" id=\"sed_cupidatat\" type=\"text\"> </div> </div> </form> </div> </div> </div> </div> </body> </html>\n",
            "      Bleu: 0.95\n",
            "\n",
            "Prediction: <!DOCTYPE html> <html> <head> <title>Dominate</title> <meta content=\"{&quot;primary&quot;: &quot;rgb(248, 160, 126)&quot;, &quot;secondary&quot;: &quot;rgb(206, 102, 147)&quot;, &quot;light&quot;: &quot;rgb(243, 231, 155)&quot;, &quot;dark&quot;: &quot;rgb(92, 83, 165)&quot;, &quot;enable-gradients&quot;: false}\" name=\"wg-palette\"> <meta content=\"width=device-width, initial-scale=1.0\" name=\"viewport\"> <meta content=\"Web Generator\" name=\"author\"> <meta content=\"3\" name=\"wg-layout\"> <link href=\"../css/custom-bootstrap.css\" rel=\"stylesheet\"> <link href=\"../css/wg-extras.css\" rel=\"stylesheet\"> <script src=\"../js/jquery-3.2.1.slim.min.js\" type=\"text/javascript\"></script> <script src=\"../js/bootstrap.min.js\" type=\"text/javascript\"></script> </head> <body class=\"bg-dark\"> <div class=\"bg-light rounded shadow-lg\" id=\"full-wrapper\"> <nav class=\"bg-dark navbar-dark rounded shadow-lg navbar navbar-expand-md\" data-wg-type=\"navbar\"> <button class=\"navbar-toggler\" data-target=\"#main-nav\" data-toggle=\"collapse\" type=\"button\"> <span class=\"navbar-toggler-icon\"></span> </button> <div class=\"collapse navbar-collapse\" id=\"main-nav\" style=\"height: 4vh;\"> <ul class=\"navbar-nav ml-auto\"> <li class=\"nav-item\"> <a class=\"nav-link\" href=\"#\">Exercitation</a> </li> <li class=\"nav-item\"> <a class=\"nav-link\" href=\"#\">Qui anim aute</a> </li> </ul> </div> </nav> <div class=\"d-flex\"> <div class=\"container-fluid py-3\" id=\"page-content\"> <div class=\"row my-3 wg-detect\" data-wg-type=\"mix\"> <div class=\"col\"> <div class=\"text-center wg-detect\" data-wg-type=\"featured_item\"> <span class=\"text-black rounded-circle mx-auto shadow placeholder\" style=\"width: 136px;height: 136px;\"> <span>136x136</span> </span> <h2>Qui minim eiusmod id</h2> <p>Duis est dolor ad occaecat proident sit mollit sed</p> <a class=\"btn btn-primary\" href=\"#\">Minim id ea</a> </div> </div> </div> <div class=\"row wg-detect\" data-wg-type=\"cards\"> <div class=\"col\"> <div class=\"card-columns\"> <div class=\"text-black shadow card\"> <div class=\"card-body\"> <h5 class=\"card-title\">Nulla magna mollit</h5> <p class=\"card-text\">Reprehenderit magna nostrud dolore non aliqua qui</p> <div class=\"d-flex justify-content-between align-items-center\"> <div class=\"btn-group\"> <button class=\"btn btn-sm btn-outline-secondary\" type=\"button\">Quis occaecat</button> </div> <small class=\"text-muted\">Culpa qui id</small> </div> </div> </div> <div class=\"text-black shadow card\"> <div class=\"card-body\"> <h5 class=\"card-title\">Mollit enim ex sint</h5> <p class=\"card-text\">Irure quis est ex voluptate et anim magna pariatur</p> <div class=\"d-flex justify-content-between align-items-center\"> <div class=\"btn-group\"> <button class=\"btn btn-sm btn-outline-secondary\" type=\"button\">Eu laboris do</button> </div> <small class=\"text-muted\">Ad velit non</small> </div> </div> </div> <div class=\"text-black shadow card\"> <div class=\"card-body\"> <h5 class=\"card-title\">Aliquip in laboris</h5> <p class=\"card-text\">Sunt esse laboris anim ad magna voluptate ipsum in</p> <div class=\"d-flex justify-content-between align-items-center\"> <div class=\"btn-group\"> <button class=\"btn btn-sm btn-outline-secondary\" type=\"button\">Adipiscing ea</button> </div> <small class=\"text-muted\">Duis ad duis</small> </div> </div> </div> <div class=\"text-black shadow card\"> <div class=\"card-body\"> <h5 class=\"card-title\">Minim magna nostrud</h5> <p class=\"card-text\">Commodo ea irure cillum eu anim reprehenderit esse</p> <div class=\"d-flex justify-content-between align-items-center\"> <div class=\"btn-group\"> <button class=\"btn btn-sm btn-outline-secondary\" type=\"button\">Exercitation</button> </div> <small class=\"text-muted\">Esse qui in</small> </div> </div> </div> <div class=\"text-black shadow card\"> <div class=\"card-body\"> <h5 class=\"card-title\">Reprehenderit magna</h5> <p class=\"card-text\">Do ex sint ipsum fugiat qui ad nisi minim ut esse</p> <div class=\"d-flex justify-content-between align-items-center\"> <div class=\"btn-group\"> <button class=\"btn btn-sm btn-outline-secondary\" type=\"button\">Sunt aute et</button> </div> <small class=\"text-muted\">Anim lorem ut</small> </div> </div> </div> <div class=\"text-black shadow card\"> <div class=\"card-body\"> <h5 class=\"card-title\">Consectetur veniam</h5> <p class=\"card-text\">Enim excepteur sit aliquip consectetur elit minim</p> <div class=\"d-flex justify-content-between align-items-center\"> <div class=\"btn-group\"> <button class=\"btn btn-sm btn-outline-secondary\" type=\"button\">Non dolor id</button> </div> <small class=\"text-muted\">Officia magna</small> </div> </div> </div> </div> </div> </div> </div> </div> </div> <footer class=\" rounded shadow-lg jumbotron mb-0\" data-wg-type=\"footer\" style=\"height: 11vh;\"> <div class=\"container\"> <span class=\"text-muted\">Voluptate nisi esse sit velit fugiat laboris dolor</span> </div> </footer> </div> </body> </html>\n",
            "    Answer: <!DOCTYPE html> <html> <head> <title>Dominate</title> <meta content=\"{&quot;primary&quot;: &quot;rgb(215, 181, 216)&quot;, &quot;secondary&quot;: &quot;rgb(223, 101, 176)&quot;, &quot;light&quot;: &quot;rgb(241, 238, 246)&quot;, &quot;dark&quot;: &quot;rgb(206, 18, 86)&quot;, &quot;enable-gradients&quot;: true}\" name=\"wg-palette\"> <meta content=\"width=device-width, initial-scale=1.0\" name=\"viewport\"> <meta content=\"Web Generator\" name=\"author\"> <meta content=\"4\" name=\"wg-layout\"> <link href=\"../css/custom-bootstrap.css\" rel=\"stylesheet\"> <link href=\"../css/wg-extras.css\" rel=\"stylesheet\"> <script src=\"../js/jquery-3.2.1.slim.min.js\" type=\"text/javascript\"></script> <script src=\"../js/bootstrap.min.js\" type=\"text/javascript\"></script> </head> <body class=\"bg-gradient-dark\"> <div class=\"bg-gradient-light\" id=\"full-wrapper\"> <div class=\"d-flex\"> <div class=\"w-100\"> <nav class=\"bg-gradient-dark navbar-dark navbar navbar-expand-md\" data-wg-type=\"navbar\"> <button class=\"navbar-toggler\" data-target=\"#main-nav\" data-toggle=\"collapse\" type=\"button\"> <span class=\"navbar-toggler-icon\"></span> </button> <div class=\"collapse navbar-collapse\" id=\"main-nav\" style=\"height: 3vh;\"> <ul class=\"navbar-nav ml-auto\"> <li class=\"nav-item\"> <a class=\"nav-link\" href=\"#\">Exercitation</a> </li> <li class=\"nav-item\"> <a class=\"nav-link\" href=\"#\">Qui anim aute</a> </li> </ul> </div> </nav> <div class=\"container-fluid py-3\" id=\"page-content\"> <div class=\"row my-3 wg-detect\" data-wg-type=\"mix\"> <div class=\"col\"> <div class=\"text-center wg-detect\" data-wg-type=\"featured_item\"> <span class=\"text-black rounded-circle mx-auto shadow placeholder\" style=\"width: 136px;height: 136px;\"> <span>136x136</span> </span> <h2>Qui minim eiusmod id</h2> <p>Duis est dolor ad occaecat proident sit mollit sed</p> <a class=\"btn btn-primary\" href=\"#\">Minim id ea</a> </div> </div> </div> <div class=\"row wg-detect\" data-wg-type=\"cards\"> <div class=\"col\"> <div class=\"card-columns\"> <div class=\"text-black shadow card\"> <div class=\"card-body\"> <h5 class=\"card-title\">Nulla magna mollit</h5> <p class=\"card-text\">Reprehenderit magna nostrud dolore non aliqua qui</p> <div class=\"d-flex justify-content-between align-items-center\"> <div class=\"btn-group\"> <button class=\"btn btn-sm btn-outline-secondary\" type=\"button\">Quis occaecat</button> </div> <small class=\"text-muted\">Culpa qui id</small> </div> </div> </div> <div class=\"text-black shadow card\"> <div class=\"card-body\"> <h5 class=\"card-title\">Mollit enim ex sint</h5> <p class=\"card-text\">Irure quis est ex voluptate et anim magna pariatur</p> <div class=\"d-flex justify-content-between align-items-center\"> <div class=\"btn-group\"> <button class=\"btn btn-sm btn-outline-secondary\" type=\"button\">Eu laboris do</button> </div> <small class=\"text-muted\">Ad velit non</small> </div> </div> </div> <div class=\"text-black shadow card\"> <div class=\"card-body\"> <h5 class=\"card-title\">Aliquip in laboris</h5> <p class=\"card-text\">Sunt esse laboris anim ad magna voluptate ipsum in</p> <div class=\"d-flex justify-content-between align-items-center\"> <div class=\"btn-group\"> <button class=\"btn btn-sm btn-outline-secondary\" type=\"button\">Adipiscing ea</button> </div> <small class=\"text-muted\">Duis ad duis</small> </div> </div> </div> <div class=\"text-black shadow card\"> <div class=\"card-body\"> <h5 class=\"card-title\">Minim magna nostrud</h5> <p class=\"card-text\">Commodo ea irure cillum eu anim reprehenderit esse</p> <div class=\"d-flex justify-content-between align-items-center\"> <div class=\"btn-group\"> <button class=\"btn btn-sm btn-outline-secondary\" type=\"button\">Exercitation</button> </div> <small class=\"text-muted\">Esse qui in</small> </div> </div> </div> <div class=\"text-black shadow card\"> <div class=\"card-body\"> <h5 class=\"card-title\">Reprehenderit magna</h5> <p class=\"card-text\">Do ex sint ipsum fugiat qui ad nisi minim ut esse</p> <div class=\"d-flex justify-content-between align-items-center\"> <div class=\"btn-group\"> <button class=\"btn btn-sm btn-outline-secondary\" type=\"button\">Sunt aute et</button> </div> <small class=\"text-muted\">Anim lorem ut</small> </div> </div> </div> <div class=\"text-black shadow card\"> <div class=\"card-body\"> <h5 class=\"card-title\">Consectetur veniam</h5> <p class=\"card-text\">Enim excepteur sit aliquip consectetur elit minim</p> <div class=\"d-flex justify-content-between align-items-center\"> <div class=\"btn-group\"> <button class=\"btn btn-sm btn-outline-secondary\" type=\"button\">Non dolor id</button> </div> <small class=\"text-muted\">Officia magna</small> </div> </div> </div> </div> </div> </div> </div> </div> </div> <footer class=\"jumbotron mb-0\" data-wg-type=\"footer\" style=\"height: 5vh;\"> <div class=\"container\"> <span class=\"text-muted\">Voluptate nisi esse sit velit fugiat laboris dolor</span> </div> </footer> </div> </body> </html>\n",
            "      Bleu: 0.98\n",
            "\n",
            "Prediction: <!DOCTYPE html> <html> <head> <title>Dominate</title> <meta content=\"{&quot;primary&quot;: &quot;rgb(125, 179, 144)&quot;, &quot;secondary&quot;: &quot;rgb(21, 109, 115)&quot;, &quot;light&quot;: &quot;rgb(255, 246, 244)&quot;, &quot;dark&quot;: &quot;rgb(21, 29, 68)&quot;, &quot;enable-gradients&quot;: false}\" name=\"wg-palette\"> <meta content=\"width=device-width, initial-scale=1.0\" name=\"viewport\"> <meta content=\"Web Generator\" name=\"author\"> <meta content=\"3\" name=\"wg-layout\"> <link href=\"../css/custom-bootstrap.css\" rel=\"stylesheet\"> <link href=\"../css/wg-extras.css\" rel=\"stylesheet\"> <script src=\"../js/jquery-3.2.1.slim.min.js\" type=\"text/javascript\"></script> <script src=\"../js/bootstrap.min.js\" type=\"text/javascript\"></script> </head> <body class=\"\"> <div class=\" rounded\" id=\"full-wrapper\"> <header class=\"bg-secondary text-white rounded d-flex align-items-center justify-content-center\" data-wg-type=\"header\" style=\"height: 34vh;\"> <h1 class=\"p-2 text-center\">Occaecat Exercitation Pariatur Occaecat Voluptate</h1> </header> <div class=\"d-flex\"> <div class=\"container-fluid py-3\" id=\"page-content\"> <div class=\"row my-3 wg-detect\" data-wg-type=\"mix\"> <div class=\"col\"> <p class=\"wg-detect\" data-wg-type=\"paragraph\">Minim aliquip excepteur lorem in amet anim. Mollit et ex do consequat ex. Laboris amet amet nisi do eu enim. Sint proident commodo nulla proident ex laboris. Excepteur consequat irure est nisi in. Mollit in eiusmod dolore quis culpa quis, duis consequat voluptate deserunt veniam sint ut. Cupidatat velit cupidatat est sed occaecat officia sunt. Ea veniam irure et ad non ipsum culpa.</p> </div> <div class=\"col\"> <p class=\"wg-detect\" data-wg-type=\"paragraph\">Tempor quis consectetur laboris nisi in. Consequat nulla nulla officia adipiscing duis. Sed nisi incididunt ea irure commodo excepteur. Esse magna ipsum aliquip aute ullamco ex. Non reprehenderit laborum sint est enim occaecat, ea lorem in proident ex dolore consectetur tempor. Laboris nisi est laboris do reprehenderit eiusmod cillum.</p> </div> <div class=\"col\"> <h1 class=\"wg-detect\" data-wg-type=\"heading\">In fugiat officia culpa nulla.</h1> </div> </div> </div> </div> <footer class=\" rounded jumbotron mb-0\" data-wg-type=\"footer\" style=\"height: 11vh;\"> <div class=\"container\"> <span class=\"text-muted\">Dolor commodo nulla lorem reprehenderit id aliquip</span> </div> </footer> </div> </body> </html>\n",
            "    Answer: <!DOCTYPE html> <html> <head> <title>Dominate</title> <meta content=\"{&quot;primary&quot;: &quot;rgb(203, 146, 26)&quot;, &quot;secondary&quot;: &quot;rgb(151, 59, 28)&quot;, &quot;light&quot;: &quot;rgb(225, 253, 75)&quot;, &quot;dark&quot;: &quot;rgb(51, 20, 24)&quot;, &quot;enable-gradients&quot;: false}\" name=\"wg-palette\"> <meta content=\"width=device-width, initial-scale=1.0\" name=\"viewport\"> <meta content=\"Web Generator\" name=\"author\"> <meta content=\"4\" name=\"wg-layout\"> <link href=\"../css/custom-bootstrap.css\" rel=\"stylesheet\"> <link href=\"../css/wg-extras.css\" rel=\"stylesheet\"> <script src=\"../js/jquery-3.2.1.slim.min.js\" type=\"text/javascript\"></script> <script src=\"../js/bootstrap.min.js\" type=\"text/javascript\"></script> </head> <body class=\"\"> <div class=\" rounded shadow-sm\" id=\"full-wrapper\"> <div class=\"d-flex\"> <div class=\"bg-light rounded shadow-sm\" data-wg-type=\"sidebar\" id=\"sidebar-wrapper\"> <div class=\"list-group list-group-flush\" style=\"width:25vh;\"> <a class=\"list-group-item list-group-item-action\" href=\"#\">Mollit ipsum</a> <a class=\"list-group-item list-group-item-action\" href=\"#\">Nisi sunt ut</a> <a class=\"list-group-item list-group-item-action\" href=\"#\">Ex mollit qui</a> <a class=\"list-group-item list-group-item-action\" href=\"#\">Velit anim ut</a> <a class=\"list-group-item list-group-item-action\" href=\"#\">Ea duis sunt</a> </div> </div> <div class=\"w-100\"> <header class=\"bg-secondary text-white rounded shadow-sm d-flex align-items-center justify-content-center\" data-wg-type=\"header\" style=\"height: 34vh;\"> <h1 class=\"p-2 text-center\">Occaecat Exercitation Pariatur Occaecat Voluptate</h1> </header> <div class=\"container-fluid py-3\" id=\"page-content\"> <div class=\"row my-3 wg-detect\" data-wg-type=\"mix\"> <div class=\"col\"> <p class=\"wg-detect\" data-wg-type=\"paragraph\">Minim aliquip excepteur lorem in amet anim. Mollit et ex do consequat ex. Laboris amet amet nisi do eu enim. Sint proident commodo nulla proident ex laboris. Excepteur consequat irure est nisi in. Mollit in eiusmod dolore quis culpa quis, duis consequat voluptate deserunt veniam sint ut. Cupidatat velit cupidatat est sed occaecat officia sunt. Ea veniam irure et ad non ipsum culpa.</p> </div> <div class=\"col\"> <p class=\"wg-detect\" data-wg-type=\"paragraph\">Tempor quis consectetur laboris nisi in. Consequat nulla nulla officia adipiscing duis. Sed nisi incididunt ea irure commodo excepteur. Esse magna ipsum aliquip aute ullamco ex. Non reprehenderit laborum sint est enim occaecat, ea lorem in proident ex dolore consectetur tempor. Laboris nisi est laboris do reprehenderit eiusmod cillum.</p> </div> <div class=\"col\"> <h1 class=\"wg-detect\" data-wg-type=\"heading\">In fugiat officia culpa nulla.</h1> </div> </div> </div> </div> </div> <footer class=\" rounded shadow-sm jumbotron mb-0\" data-wg-type=\"footer\" style=\"height: 25vh;\"> <div class=\"container\"> <span class=\"text-muted\">Dolor commodo nulla lorem reprehenderit id aliquip</span> </div> </footer> </div> </body> </html>\n",
            "      Bleu: 0.77\n",
            "\n",
            "Prediction: <!DOCTYPE html> <html> <head> <title>Dominate</title> <meta content=\"{&quot;primary&quot;: &quot;rgb(248, 160, 126)&quot;, &quot;secondary&quot;: &quot;rgb(206, 102, 147)&quot;, &quot;light&quot;: &quot;rgb(243, 231, 155)&quot;, &quot;dark&quot;: &quot;rgb(92, 83, 165)&quot;, &quot;enable-gradients&quot;: false}\" name=\"wg-palette\"> <meta content=\"width=device-width, initial-scale=1.0\" name=\"viewport\"> <meta content=\"Web Generator\" name=\"author\"> <meta content=\"2\" name=\"wg-layout\"> <link href=\"../css/custom-bootstrap.css\" rel=\"stylesheet\"> <link href=\"../css/wg-extras.css\" rel=\"stylesheet\"> <script src=\"../js/jquery-3.2.1.slim.min.js\" type=\"text/javascript\"></script> <script src=\"../js/bootstrap.min.js\" type=\"text/javascript\"></script> </head> <body class=\"\"> <div class=\" rounded\" id=\"full-wrapper\"> <nav class=\"bg-light navbar-light rounded navbar navbar-expand-md\" data-wg-type=\"navbar\"> <a class=\"navbar-brand\" href=\"#\">Sit</a> <button class=\"navbar-toggler\" data-target=\"#main-nav\" data-toggle=\"collapse\" type=\"button\"> <span class=\"navbar-toggler-icon\"></span> </button> <div class=\"collapse navbar-collapse\" id=\"main-nav\" style=\"height: 4vh;\"> <ul class=\"navbar-nav mx-auto\"> <li class=\"nav-item\"> <a class=\"nav-link\" href=\"#\">Velit lorem</a> </li> <li class=\"nav-item\"> <a class=\"nav-link\" href=\"#\">Nulla et est</a> </li> <li class=\"nav-item\"> <a class=\"nav-link\" href=\"#\">In in ullamco</a> </li> <li class=\"nav-item\"> <a class=\"nav-link\" href=\"#\">Mollit dolor</a> </li> <li class=\"nav-item\"> <a class=\"nav-link\" href=\"#\">Cupidatat non</a> </li> </ul> </div> </nav> <div class=\"d-flex\"> <div class=\"flex-grow-1\"> <div class=\"container-fluid py-3\" id=\"page-content\"> <div class=\"row my-3 wg-detect\" data-wg-type=\"mix\"> <div class=\"col\"> <ol class=\"wg-detect\" data-wg-type=\"list\"> <li>Eu ullamco do</li> <li>Incididunt id</li> <li>Ut labore ut</li> </ol> </div> <div class=\"col\"> <h1 class=\"wg-detect\" data-wg-type=\"heading\">In nisi minim aute eu ex consectetur.</h1> </div> <div class=\"col\"> <ul class=\"wg-detect\" data-wg-type=\"list\"> <li>Commodo sit</li> <li>Aliquip enim</li> <li>Consequat ut</li> </ul> </div> </div> </div> <footer class=\" rounded jumbotron mb-0\" data-wg-type=\"footer\" style=\"height: 18vh;\"> <div class=\"container\"> <span class=\"text-muted\">Do commodo incididunt aliquip irure ad veniam elit</span> </div> </footer> </div> <div class=\"bg-light rounded\" data-wg-type=\"sidebar\" id=\"sidebar-wrapper\"> <div class=\"list-group list-group-flush\" style=\"width:27vh;\"> <a class=\"list-group-item list-group-item-action\" href=\"#\">Esse amet in</a> <a class=\"list-group-item list-group-item-action\" href=\"#\">Culpa eu id</a> </div> </div> </div> </div> </body> </html>\n",
            "    Answer: <!DOCTYPE html> <html> <head> <title>Dominate</title> <meta content=\"{&quot;primary&quot;: &quot;rgb(116, 150, 227)&quot;, &quot;secondary&quot;: &quot;rgb(64, 70, 85)&quot;, &quot;light&quot;: &quot;rgb(191, 207, 244)&quot;, &quot;dark&quot;: &quot;rgb(35, 62, 125)&quot;, &quot;enable-gradients&quot;: true}\" name=\"wg-palette\"> <meta content=\"width=device-width, initial-scale=1.0\" name=\"viewport\"> <meta content=\"Web Generator\" name=\"author\"> <meta content=\"2\" name=\"wg-layout\"> <link href=\"../css/custom-bootstrap.css\" rel=\"stylesheet\"> <link href=\"../css/wg-extras.css\" rel=\"stylesheet\"> <script src=\"../js/jquery-3.2.1.slim.min.js\" type=\"text/javascript\"></script> <script src=\"../js/bootstrap.min.js\" type=\"text/javascript\"></script> </head> <body class=\"\"> <div class=\"\" id=\"full-wrapper\"> <nav class=\"bg-gradient-light navbar-light navbar navbar-expand-md\" data-wg-type=\"navbar\"> <a class=\"navbar-brand\" href=\"#\">Sit</a> <button class=\"navbar-toggler\" data-target=\"#main-nav\" data-toggle=\"collapse\" type=\"button\"> <span class=\"navbar-toggler-icon\"></span> </button> <div class=\"collapse navbar-collapse\" id=\"main-nav\" style=\"height: 7vh;\"> <ul class=\"navbar-nav mx-auto\"> <li class=\"nav-item\"> <a class=\"nav-link\" href=\"#\">Velit lorem</a> </li> <li class=\"nav-item\"> <a class=\"nav-link\" href=\"#\">Nulla et est</a> </li> <li class=\"nav-item\"> <a class=\"nav-link\" href=\"#\">In in ullamco</a> </li> <li class=\"nav-item\"> <a class=\"nav-link\" href=\"#\">Mollit dolor</a> </li> <li class=\"nav-item\"> <a class=\"nav-link\" href=\"#\">Cupidatat non</a> </li> </ul> </div> </nav> <div class=\"d-flex\"> <div class=\"flex-grow-1\"> <div class=\"container-fluid py-3\" id=\"page-content\"> <div class=\"row my-3 wg-detect\" data-wg-type=\"mix\"> <div class=\"col\"> <ol class=\"wg-detect\" data-wg-type=\"list\"> <li>Eu ullamco do</li> <li>Incididunt id</li> <li>Ut labore ut</li> </ol> </div> <div class=\"col\"> <h1 class=\"wg-detect\" data-wg-type=\"heading\">In nisi minim aute eu ex consectetur.</h1> </div> <div class=\"col\"> <ul class=\"wg-detect\" data-wg-type=\"list\"> <li>Commodo sit</li> <li>Aliquip enim</li> <li>Consequat ut</li> </ul> </div> </div> </div> <footer class=\"jumbotron mb-0\" data-wg-type=\"footer\" style=\"height: 5vh;\"> <div class=\"container\"> <span class=\"text-muted\">Do commodo incididunt aliquip irure ad veniam elit</span> </div> </footer> </div> <div class=\"bg-gradient-light\" data-wg-type=\"sidebar\" id=\"sidebar-wrapper\"> <div class=\"list-group list-group-flush\" style=\"width:26vh;\"> <a class=\"list-group-item list-group-item-action\" href=\"#\">Esse amet in</a> <a class=\"list-group-item list-group-item-action\" href=\"#\">Culpa eu id</a> </div> </div> </div> </div> </body> </html>\n",
            "      Bleu: 0.97\n",
            "\n",
            "Prediction: <!DOCTYPE html> <html> <head> <title>Dominate</title> <meta content=\"{&quot;primary&quot;: &quot;rgb(100, 180, 99)&quot;, &quot;secondary&quot;: &quot;rgb(18, 110, 69)&quot;, &quot;light&quot;: &quot;rgb(215, 249, 208)&quot;, &quot;dark&quot;: &quot;rgb(18, 36, 20)&quot;, &quot;enable-gradients&quot;: false}\" name=\"wg-palette\"> <meta content=\"width=device-width, initial-scale=1.0\" name=\"viewport\"> <meta content=\"Web Generator\" name=\"author\"> <meta content=\"3\" name=\"wg-layout\"> <link href=\"../css/custom-bootstrap.css\" rel=\"stylesheet\"> <link href=\"../css/wg-extras.css\" rel=\"stylesheet\"> <script src=\"../js/jquery-3.2.1.slim.min.js\" type=\"text/javascript\"></script> <script src=\"../js/bootstrap.min.js\" type=\"text/javascript\"></script> </head> <body class=\"bg-light\"> <div class=\"bg-light rounded\" id=\"full-wrapper\"> <header class=\"bg-dark text-white rounded d-flex align-items-center justify-content-center\" data-wg-type=\"header\" style=\"height: 26vh;\"> <h1 class=\"p-2 text-center\">Dolore Laboris</h1> </header> <div class=\"d-flex\"> <div class=\"container-fluid py-3\" id=\"page-content\"> <form class=\"p-3\" data-wg-type=\"form\"> <div class=\"form-group\"> <label for=\"tempor\">Tempor</label> <input class=\"form-control\" data-wg-type=\"text\" id=\"tempor\" type=\"text\"> </div> <div class=\"form-row\"> <div class=\"form-group col-md\"> <label for=\"amet_velit_ipsum\">Amet velit ipsum</label> <input class=\"custom-range\" data-wg-type=\"range\" id=\"amet_velit_ipsum\" type=\"range\"> </div> <div class=\"form-group col-md\"> <label for=\"est_aliquip_eu\">Est aliquip eu</label> <input class=\"form-control\" data-wg-type=\"text\" id=\"est_aliquip_eu\" type=\"text\"> </div> <div class=\"form-group col-md\"> <label for=\"labore\">Labore</label> <input class=\"form-control\" data-wg-type=\"text\" id=\"labore\" type=\"text\"> </div> </div> </form> </div> </div> </div> </body> </html>\n",
            "    Answer: <!DOCTYPE html> <html> <head> <title>Dominate</title> <meta content=\"{&quot;primary&quot;: &quot;rgb(5, 93, 130)&quot;, &quot;secondary&quot;: &quot;rgb(130, 43, 5)&quot;, &quot;light&quot;: &quot;rgb(93, 130, 5)&quot;, &quot;dark&quot;: &quot;rgb(43, 5, 130)&quot;, &quot;enable-gradients&quot;: true}\" name=\"wg-palette\"> <meta content=\"width=device-width, initial-scale=1.0\" name=\"viewport\"> <meta content=\"Web Generator\" name=\"author\"> <meta content=\"4\" name=\"wg-layout\"> <link href=\"../css/custom-bootstrap.css\" rel=\"stylesheet\"> <link href=\"../css/wg-extras.css\" rel=\"stylesheet\"> <script src=\"../js/jquery-3.2.1.slim.min.js\" type=\"text/javascript\"></script> <script src=\"../js/bootstrap.min.js\" type=\"text/javascript\"></script> </head> <body class=\"bg-gradient-dark\"> <div class=\"bg-gradient-light text-white rounded shadow-lg\" id=\"full-wrapper\"> <div class=\"d-flex\"> <div class=\"w-100\"> <header class=\"bg-gradient-primary text-white rounded shadow-lg d-flex align-items-center justify-content-center\" data-wg-type=\"header\" style=\"height: 20vh;\"> <h1 class=\"p-2 text-center\">Dolore Laboris</h1> </header> <div class=\"container-fluid py-3\" id=\"page-content\"> <form class=\"p-3\" data-wg-type=\"form\"> <div class=\"form-group\"> <label for=\"tempor\">Tempor</label> <input class=\"form-control\" data-wg-type=\"text\" id=\"tempor\" type=\"text\"> </div> <div class=\"form-row\"> <div class=\"form-group col-md\"> <label for=\"amet_velit_ipsum\">Amet velit ipsum</label> <input class=\"custom-range\" data-wg-type=\"range\" id=\"amet_velit_ipsum\" type=\"range\"> </div> <div class=\"form-group col-md\"> <label for=\"est_aliquip_eu\">Est aliquip eu</label> <input class=\"form-control\" data-wg-type=\"text\" id=\"est_aliquip_eu\" type=\"text\"> </div> <div class=\"form-group col-md\"> <label for=\"labore\">Labore</label> <input class=\"form-control\" data-wg-type=\"text\" id=\"labore\" type=\"text\"> </div> </div> </form> </div> </div> </div> </div> </body> </html>\n",
            "      Bleu: 0.93\n",
            "\n",
            "Prediction: <!DOCTYPE html> <html> <head> <title>Dominate</title> <meta content=\"{&quot;primary&quot;: &quot;rgb(248, 181, 139)&quot;, &quot;secondary&quot;: &quot;rgb(242, 133, 93)&quot;, &quot;light&quot;: &quot;rgb(253, 224, 197)&quot;, &quot;dark&quot;: &quot;rgb(235, 74, 64)&quot;, &quot;enable-gradients&quot;: false}\" name=\"wg-palette\"> <meta content=\"width=device-width, initial-scale=1.0\" name=\"viewport\"> <meta content=\"Web Generator\" name=\"author\"> <meta content=\"1\" name=\"wg-layout\"> <link href=\"../css/custom-bootstrap.css\" rel=\"stylesheet\"> <link href=\"../css/wg-extras.css\" rel=\"stylesheet\"> <script src=\"../js/jquery-3.2.1.slim.min.js\" type=\"text/javascript\"></script> <script src=\"../js/bootstrap.min.js\" type=\"text/javascript\"></script> </head> <body class=\"\"> <div class=\"d-flex \" id=\"full-wrapper\"> <div class=\"w-100\"> <nav class=\"bg-light navbar-light rounded shadow-lg navbar navbar-expand-md\" data-wg-type=\"navbar\"> <button class=\"navbar-toggler\" data-target=\"#main-nav\" data-toggle=\"collapse\" type=\"button\"> <span class=\"navbar-toggler-icon\"></span> </button> <div class=\"collapse navbar-collapse\" id=\"main-nav\" style=\"height: 9vh;\"> <ul class=\"navbar-nav mr-auto\"> <li class=\"nav-item\"> <a class=\"nav-link\" href=\"#\">Esse ullamco</a> </li> <li class=\"nav-item\"> <a class=\"nav-link\" href=\"#\">Ea aliquip ad</a> </li> <li class=\"nav-item\"> <a class=\"nav-link\" href=\"#\">Ea commodo in</a> </li> <li class=\"nav-item\"> <a class=\"nav-link\" href=\"#\">Ea aliquip ut</a> </li> </ul> </div> </nav> <header class=\"bg-secondary rounded shadow-lg d-flex align-items-center justify-content-center\" data-wg-type=\"header\" style=\"height: 34vh;\"> <h1 class=\"p-2 text-center\">Do Occaecat Cillum Ea Dolor Sed Aute</h1> </header> <div class=\"container-fluid py-3\" id=\"page-content\"> <div class=\"my-3 wg-detect carousel slide\" data-ride=\"carousel\" data-wg-type=\"carousel\" id=\"carousel-ele-0\"> <ol class=\"carousel-indicators\"> <li class=\"active\" data-slide-to=\"0\" data-target=\"#carousel-ele-0\"></li> <li class=\"\" data-slide-to=\"1\" data-target=\"#carousel-ele-0\"></li> <li class=\"\" data-slide-to=\"2\" data-target=\"#carousel-ele-0\"></li> <li class=\"\" data-slide-to=\"3\" data-target=\"#carousel-ele-0\"></li> <li class=\"\" data-slide-to=\"4\" data-target=\"#carousel-ele-0\"></li> </ol> <div class=\"carousel-inner\"> <div class=\"carousel-item active\"> <div class=\"d-block w-100 text-center\" style=\"background-color: darkgrey; height: 39vh;\"> <h1 class=\"pt-5\">Sed magna ut laborum</h1> </div> </div> <div class=\"carousel-item\"> <div class=\"d-block w-100 text-center\" style=\"background-color: darkgrey; height: 39vh;\"> <h1 class=\"pt-5\">Enim cillum cillum</h1> </div> </div> <div class=\"carousel-item\"> <div class=\"d-block w-100 text-center\" style=\"background-color: darkgrey; height: 39vh;\"> <h1 class=\"pt-5\">Ea commodo ullamco</h1> </div> </div> </div> <a class=\"carousel-control-prev\" data-slide=\"prev\" href=\"#carousel-ele-0\" role=\"button\"> <span class=\"carousel-control-prev-icon\"></span> </a> <a class=\"carousel-control-next\" data-slide=\"next\" href=\"#carousel-ele-0\" role=\"button\"> <span class=\"carousel-control-next-icon\"></span> </a> </div> <div class=\"row py-3 wg-detect\" data-wg-type=\"featured_items\"> <div class=\"col\"> <div class=\"text-center\"> <span class=\"text-black rounded-circle mx-auto placeholder\" style=\"width: 99px;height: 99px;\"> <span>99x99</span> </span> <h2>Ut laborum ea est do</h2> <p>Officia aute ad nisi cupidatat ut labore commodo</p> <a class=\"btn btn-primary\" href=\"#\">Commodo eu ea</a> </div> </div> <div class=\"col\"> <div class=\"text-center\"> <span class=\"text-black rounded-circle mx-auto placeholder\" style=\"width: 99px;height: 99px;\"> <span>99x99</span> </span> <h2>Irure mollit esse ut</h2> <p>Occaecat pariatur ea et veniam id consequat irure</p> <a class=\"btn btn-primary\" href=\"#\">Voluptate sed</a> </div> </div> <div class=\"col\"> <div class=\"text-center\"> <span class=\"text-black rounded-circle mx-auto placeholder\" style=\"width: 99px;height: 99px;\"> <span>99x99</span> </span> <h2>Esse id in dolore ea</h2> <p>Sint incididunt deserunt culpa quis aliquip sit eu</p> <a class=\"btn btn-primary\" href=\"#\">In labore non</a> </div> </div> </div> </div> </div> </div> </body> </html>\n",
            "    Answer: <!DOCTYPE html> <html> <head> <title>Dominate</title> <meta content=\"{&quot;primary&quot;: &quot;rgb(142, 218, 178)&quot;, &quot;secondary&quot;: &quot;rgb(218, 142, 181)&quot;, &quot;light&quot;: &quot;rgb(181, 218, 142)&quot;, &quot;dark&quot;: &quot;rgb(178, 142, 218)&quot;, &quot;enable-gradients&quot;: true}\" name=\"wg-palette\"> <meta content=\"width=device-width, initial-scale=1.0\" name=\"viewport\"> <meta content=\"Web Generator\" name=\"author\"> <meta content=\"3\" name=\"wg-layout\"> <link href=\"../css/custom-bootstrap.css\" rel=\"stylesheet\"> <link href=\"../css/wg-extras.css\" rel=\"stylesheet\"> <script src=\"../js/jquery-3.2.1.slim.min.js\" type=\"text/javascript\"></script> <script src=\"../js/bootstrap.min.js\" type=\"text/javascript\"></script> </head> <body class=\"bg-gradient-light\"> <div class=\"bg-gradient-light shadow-sm\" id=\"full-wrapper\"> <nav class=\"bg-gradient-dark navbar-light shadow-sm navbar navbar-expand-md\" data-wg-type=\"navbar\"> <button class=\"navbar-toggler\" data-target=\"#main-nav\" data-toggle=\"collapse\" type=\"button\"> <span class=\"navbar-toggler-icon\"></span> </button> <div class=\"collapse navbar-collapse\" id=\"main-nav\" style=\"height: 4vh;\"> <ul class=\"navbar-nav ml-auto\"> <li class=\"nav-item\"> <a class=\"nav-link\" href=\"#\">Non tempor ea</a> </li> <li class=\"nav-item\"> <a class=\"nav-link\" href=\"#\">Exercitation</a> </li> <li class=\"nav-item\"> <a class=\"nav-link\" href=\"#\">Duis laborum</a> </li> <li class=\"nav-item\"> <a class=\"nav-link\" href=\"#\">Qui et est eu</a> </li> </ul> </div> </nav> <header class=\"bg-gradient-dark shadow-sm d-flex align-items-center justify-content-center\" data-wg-type=\"header\" style=\"height: 38vh;\"> <h1 class=\"p-2 text-center\">Do Occaecat Cillum Ea Dolor Sed Aute</h1> </header> <div class=\"d-flex\"> <div class=\"bg-gradient-dark shadow-sm\" data-wg-type=\"sidebar\" id=\"sidebar-wrapper\"> <div class=\"list-group list-group-flush\" style=\"width:26vh;\"> <a class=\"list-group-item list-group-item-action\" href=\"#\">Exercitation</a> <a class=\"list-group-item list-group-item-action\" href=\"#\">Non id anim</a> <a class=\"list-group-item list-group-item-action\" href=\"#\">Ipsum enim et</a> <a class=\"list-group-item list-group-item-action\" href=\"#\">Eiusmod dolor</a> <a class=\"list-group-item list-group-item-action\" href=\"#\">Ut amet in ea</a> <a class=\"list-group-item list-group-item-action\" href=\"#\">Nisi enim ut</a> </div> </div> <div class=\"container-fluid py-3\" id=\"page-content\"> <div class=\"my-3 wg-detect carousel slide\" data-ride=\"carousel\" data-wg-type=\"carousel\" id=\"carousel-ele-0\"> <ol class=\"carousel-indicators\"> <li class=\"active\" data-slide-to=\"0\" data-target=\"#carousel-ele-0\"></li> <li class=\"\" data-slide-to=\"1\" data-target=\"#carousel-ele-0\"></li> <li class=\"\" data-slide-to=\"2\" data-target=\"#carousel-ele-0\"></li> <li class=\"\" data-slide-to=\"3\" data-target=\"#carousel-ele-0\"></li> <li class=\"\" data-slide-to=\"4\" data-target=\"#carousel-ele-0\"></li> </ol> <div class=\"carousel-inner\"> <div class=\"carousel-item active\"> <div class=\"d-block w-100 text-center\" style=\"background-color: darkgrey; height: 36vh;\"> <h1 class=\"pt-5\">Sed magna ut laborum</h1> </div> </div> <div class=\"carousel-item\"> <div class=\"d-block w-100 text-center\" style=\"background-color: darkgrey; height: 36vh;\"> <h1 class=\"pt-5\">Duis irure aliqua et</h1> </div> </div> <div class=\"carousel-item\"> <div class=\"d-block w-100 text-center\" style=\"background-color: darkgrey; height: 36vh;\"> <h1 class=\"pt-5\">Dolor consequat do</h1> </div> </div> <div class=\"carousel-item\"> <div class=\"d-block w-100 text-center\" style=\"background-color: darkgrey; height: 36vh;\"> <h1 class=\"pt-5\">Culpa officia sed et</h1> </div> </div> <div class=\"carousel-item\"> <div class=\"d-block w-100 text-center\" style=\"background-color: darkgrey; height: 36vh;\"> <h1 class=\"pt-5\">Anim cillum tempor</h1> </div> </div> </div> <a class=\"carousel-control-prev\" data-slide=\"prev\" href=\"#carousel-ele-0\" role=\"button\"> <span class=\"carousel-control-prev-icon\"></span> </a> <a class=\"carousel-control-next\" data-slide=\"next\" href=\"#carousel-ele-0\" role=\"button\"> <span class=\"carousel-control-next-icon\"></span> </a> </div> <div class=\"row py-3 wg-detect\" data-wg-type=\"featured_items\"> <div class=\"col\"> <div class=\"text-center\"> <span class=\"text-black rounded-circle mx-auto placeholder\" style=\"width: 99px;height: 99px;\"> <span>99x99</span> </span> <h2>Ut laborum ea est do</h2> <p>Officia aute ad nisi cupidatat ut labore commodo</p> <a class=\"btn btn-primary\" href=\"#\">Commodo eu ea</a> </div> </div> <div class=\"col\"> <div class=\"text-center\"> <span class=\"text-black rounded-circle mx-auto placeholder\" style=\"width: 99px;height: 99px;\"> <span>99x99</span> </span> <h2>Irure mollit esse ut</h2> <p>Occaecat pariatur ea et veniam id consequat irure</p> <a class=\"btn btn-primary\" href=\"#\">Voluptate sed</a> </div> </div> <div class=\"col\"> <div class=\"text-center\"> <span class=\"text-black rounded-circle mx-auto placeholder\" style=\"width: 99px;height: 99px;\"> <span>99x99</span> </span> <h2>Esse id in dolore ea</h2> <p>Sint incididunt deserunt culpa quis aliquip sit eu</p> <a class=\"btn btn-primary\" href=\"#\">In labore non</a> </div> </div> </div> </div> </div> </div> </body> </html>\n",
            "      Bleu: 0.76\n",
            "\n",
            "Prediction: <!DOCTYPE html> <html> <head> <title>Dominate</title> <meta content=\"{&quot;primary&quot;: &quot;rgb(125, 179, 144)&quot;, &quot;secondary&quot;: &quot;rgb(21, 109, 115)&quot;, &quot;light&quot;: &quot;rgb(255, 246, 244)&quot;, &quot;dark&quot;: &quot;rgb(21, 29, 68)&quot;, &quot;enable-gradients&quot;: false}\" name=\"wg-palette\"> <meta content=\"width=device-width, initial-scale=1.0\" name=\"viewport\"> <meta content=\"Web Generator\" name=\"author\"> <meta content=\"1\" name=\"wg-layout\"> <link href=\"../css/custom-bootstrap.css\" rel=\"stylesheet\"> <link href=\"../css/wg-extras.css\" rel=\"stylesheet\"> <script src=\"../js/jquery-3.2.1.slim.min.js\" type=\"text/javascript\"></script> <script src=\"../js/bootstrap.min.js\" type=\"text/javascript\"></script> </head> <body class=\"\"> <div class=\"d-flex \" id=\"full-wrapper\"> <div class=\"bg-light rounded shadow-lg\" data-wg-type=\"sidebar\" id=\"sidebar-wrapper\"> <div class=\"sidebar-heading\">Id</div> <div class=\"list-group list-group-flush\" style=\"width:29vh;\"> <a class=\"list-group-item list-group-item-action\" href=\"#\">Ad do ipsum</a> <a class=\"list-group-item list-group-item-action\" href=\"#\">Aute ullamco</a> <a class=\"list-group-item list-group-item-action\" href=\"#\">Nostrud sit</a> <a class=\"list-group-item list-group-item-action\" href=\"#\">Dolor laborum</a> <a class=\"list-group-item list-group-item-action\" href=\"#\">Qui commodo</a> </div> </div> <div class=\"w-100\"> <header class=\"bg-secondary text-white rounded shadow-lg d-flex align-items-center justify-content-center\" data-wg-type=\"header\" style=\"height: 26vh;\"> <h1 class=\"p-2 text-center\">Laboris Anim</h1> </header> <div class=\"container-fluid py-3\" id=\"page-content\"> <div class=\"row my-3 wg-detect\" data-wg-type=\"mix\"> <div class=\"col\"> <div class=\"text-dark wg-detect\" data-wg-type=\"collapse\" id=\"collapse-ele-0\"> <div class=\"card\"> <div class=\"card-header\" id=\"heading-aute-1\"> <button aria-controls=\"heading-aute-1\" class=\"btn btn-link collapsed\" data-target=\"#collapse-aute-1\" data-toggle=\"collapse\">Aute sed occaecat elit consequat veniam aliqua, enim in velit adipiscing aliquip id quis.</button> </div> <div aria-labelledby=\"heading-aute-1\" class=\"collapse\" data-parent=\"#collapse-ele-0\" id=\"collapse-aute-1\"> <div class=\"card-body text-black\">Et aliquip commodo aliquip aliquip. Anim aliquip ullamco aliquip. Laboris commodo commodo aliquip. Dolor aliquip ullamco aliquip. Laboris commodo ullamco aliquip. Laboris commodo commodo aliquip.</div> </div> </div> <div class=\"card\"> <div class=\"card-header\" id=\"heading-minim-2\"> <button aria-controls=\"heading-minim-2\" class=\"btn btn-link collapsed\" data-target=\"#collapse-minim-2\" data-toggle=\"collapse\">Minim culpa excepteur ipsum, magna ad pariatur occaecat, ea esse dolore cupidatat proident aliquip deserunt.</button> </div> <div aria-labelledby=\"heading-minim-2\" class=\"collapse\" data-parent=\"#collapse-ele-0\" id=\"collapse-minim-2\"> <div class=\"card-body text-black\">Et aliquip ullamco aliquip aliquip. Amet aliquip aliquip aliquip. Anim aliquip aliquip aliquip. Anim aliquip aliquip aliquip. Anim aliquip aliquip ullamco.</div> </div> </div> <div class=\"card\"> <div class=\"card-header\" id=\"heading-ad-3\"> <button aria-controls=\"heading-ad-3\" class=\"btn btn-link collapsed\" data-target=\"#collapse-ad-3\" data-toggle=\"collapse\">Ad pariatur est laborum reprehenderit minim proident.</button> </div> <div aria-labelledby=\"heading-ad-3\" class=\"collapse\" data-parent=\"#collapse-ele-0\" id=\"collapse-ad-3\"> <div class=\"card-body text-black\">Et aliquip aliquip aliquip ullamco. Anim aliquip aliquip aliquip. Dolore aliquip aliquip commodo. Dolore aliquip aliquip ullamco. Anim aliquip aliquip ullamco. Anim aliquip commodo aliquip.</div> </div> </div> <div class=\"card\"> <div class=\"card-header\" id=\"heading-deserunt-4\"> <button aria-controls=\"heading-deserunt-4\" class=\"btn btn-link collapsed\" data-target=\"#collapse-deserunt-4\" data-toggle=\"collapse\">Deserunt ad elit irure aliquip occaecat veniam.</button> </div> <div aria-labelledby=\"heading-deserunt-4\" class=\"collapse\" data-parent=\"#collapse-ele-0\" id=\"collapse-deserunt-4\"> <div class=\"card-body text-black\">Enim aliquip aliquip aliquip. Dolore aliquip aliquip ullamco. Dolore aliquip aliquip ullamco. Dolore aliquip commodo aliquip. Anim aliquip ullamco aliquip. Anim aliquip ullamco aliquip.</div> </div> </div> </div> </div> </div> <div class=\"wg-detect\" data-wg-type=\"descriptive_items\"> <div class=\"row\"> <div class=\"col\"> <h2>Pariatur ad adipiscing elit anim.</h2> <p><br> <span class=\"float-left m-2 placeholder\" data-wg-type=\"image\" style=\"width: 198px;height: 214px;\"> <span>198x214</span> </span> <span data-wg-type=\"text_area\">Aliquip eu pariatur quis. Aute irure anim pariatur esse do, officia sint deserunt aute occaecat. Irure occaecat consequat sunt irure exercitation do do, sint tempor exercitation veniam dolore qui nisi aliquip. Ex adipiscing elit ipsum eu. Proident exercitation do non dolore eu. Cillum duis adipiscing lorem sed, reprehenderit excepteur proident aute commodo. Nulla consequat culpa velit minim ullamco excepteur. Est eiusmod officia ad magna ipsum cillum. Quis culpa minim esse fugiat. Ipsum officia lorem esse esse nostrud est voluptate. Exercitation sunt et consectetur velit commodo. Ad excepteur pariatur veniam. Enim officia irure sunt. Aliquip occaecat minim lorem lorem consequat cillum. Dolor aliquip duis tempor. Culpa aliquip adipiscing commodo irure tempor consequat sed, id dolor amet do, consectetur mollit dolor fugiat magna eu. Excepteur esse nostrud fugiat fugiat consectetur amet consequat aliquip. Laborum ex aliqua reprehenderit consectetur. Non laboris aute adipiscing est fugiat occaecat, reprehenderit in ullamco esse commodo sunt dolor proident, quis lorem ea anim nulla qui est. Et occaecat et cillum. Enim sit enim commodo sit labore id. Culpa in aliquip adipiscing nulla deserunt. Consectetur id nostrud anim qui, velit in consequat lorem commodo amet. Cupidatat minim mollit duis irure proident velit. Lorem ullamco laboris culpa amet ut amet, cillum veniam consectetur amet pariatur voluptate mollit. Dolore tempor ipsum id elit culpa, aute et ad veniam. Amet do aute aliquip anim. Do non eu fugiat consectetur exercitation lorem, laboris ipsum consectetur ad.</span> </p> </div> </div> <div class=\"row\"> <div class=\"col\"> <h2>Qui quis eiusmod consequat fugiat sunt adipiscing minim, magna ullamco duis nulla exercitation sit nostrud.</h2> <p><br> <span class=\"mx-auto m-2 placeholder\" data-wg-type=\"image\" style=\"width: 198px;height: 214px;\"> <span>198x214</span> </span> <span data-wg-type=\"text_area\">Officia aute esse fugiat consequat reprehenderit. Dolore aliquip aute eiusmod fugiat non laborum. Esse duis lorem esse sint eu. Voluptate occaecat aute qui. Officia est non sed magna dolor, elit ipsum proident anim quis in pariatur. Id ut quis anim commodo. Duis qui amet voluptate labore reprehenderit, qui ullamco fugiat commodo. Adipiscing aute dolore duis amet occaecat labore ea, adipiscing cillum voluptate anim adipiscing sint, pariatur aute esse dolor culpa. Sunt enim amet voluptate labore reprehenderit, cupidatat exercitation irure ad et. Sint proident reprehenderit consectetur labore commodo nisi cupidatat. Voluptate commodo do lorem, cupidatat id enim ad minim laboris dolore. Irure sit mollit consectetur, sunt ipsum labore cillum quis, officia aliqua est enim eu esse esse. Commodo fugiat sit enim ea do. Enim ullamco eiusmod quis. In duis anim enim nostrud. Laboris in et esse sint quis. Labore in aute consequat duis, elit laboris consequat sint nulla nisi lorem excepteur. Esse ipsum do adipiscing deserunt officia aliqua.</span> </p> </div> </div> </div> </div> </div> </div> </body> </html>\n",
            "    Answer: <!DOCTYPE html> <html> <head> <title>Dominate</title> <meta content=\"{&quot;primary&quot;: &quot;rgb(90, 185, 120)&quot;, &quot;secondary&quot;: &quot;rgb(32, 110, 139)&quot;, &quot;light&quot;: &quot;rgb(253, 239, 154)&quot;, &quot;dark&quot;: &quot;rgb(42, 24, 108)&quot;, &quot;enable-gradients&quot;: true}\" name=\"wg-palette\"> <meta content=\"width=device-width, initial-scale=1.0\" name=\"viewport\"> <meta content=\"Web Generator\" name=\"author\"> <meta content=\"1\" name=\"wg-layout\"> <link href=\"../css/custom-bootstrap.css\" rel=\"stylesheet\"> <link href=\"../css/wg-extras.css\" rel=\"stylesheet\"> <script src=\"../js/jquery-3.2.1.slim.min.js\" type=\"text/javascript\"></script> <script src=\"../js/bootstrap.min.js\" type=\"text/javascript\"></script> </head> <body class=\"\"> <div class=\"d-flex \" id=\"full-wrapper\"> <div class=\"bg-gradient-light rounded shadow-sm\" data-wg-type=\"sidebar\" id=\"sidebar-wrapper\"> <div class=\"sidebar-heading\">Id</div> <div class=\"list-group list-group-flush\" style=\"width:24vh;\"> <a class=\"list-group-item list-group-item-action\" href=\"#\">Ad do ipsum</a> <a class=\"list-group-item list-group-item-action\" href=\"#\">Aute ullamco</a> <a class=\"list-group-item list-group-item-action\" href=\"#\">Nostrud sit</a> <a class=\"list-group-item list-group-item-action\" href=\"#\">Dolor laborum</a> <a class=\"list-group-item list-group-item-action\" href=\"#\">Qui commodo</a> </div> </div> <div class=\"w-100\"> <header class=\"bg-gradient-secondary text-white rounded shadow-sm d-flex align-items-center justify-content-center\" data-wg-type=\"header\" style=\"height: 22vh;\"> <h1 class=\"p-2 text-center\">Laboris Anim</h1> </header> <div class=\"container-fluid py-3\" id=\"page-content\"> <div class=\"row my-3 wg-detect\" data-wg-type=\"mix\"> <div class=\"col\"> <div class=\"text-dark wg-detect\" data-wg-type=\"collapse\" id=\"collapse-ele-0\"> <div class=\"card\"> <div class=\"card-header\" id=\"heading-aute-1\"> <button aria-controls=\"heading-aute-1\" class=\"btn btn-link collapsed\" data-target=\"#collapse-aute-1\" data-toggle=\"collapse\">Aute sed occaecat elit consequat veniam aliqua, anim in velit adipiscing aliquip id quis.</button> </div> <div aria-labelledby=\"heading-aute-1\" class=\"collapse\" data-parent=\"#collapse-ele-0\" id=\"collapse-aute-1\"> <div class=\"card-body text-black\">In nostrud anim adipiscing proident do, dolor lorem exercitation nulla ut officia nostrud et, sit eu nisi labore minim. Duis ullamco ea sunt qui veniam nostrud. Aliquip ea est aute sed labore. Deserunt nulla dolore tempor aliqua enim ad consequat. Officia ea consequat pariatur. Deserunt fugiat enim nostrud proident cupidatat est. Reprehenderit cupidatat laborum ex enim ex, officia esse incididunt cupidatat labore consectetur. Veniam ullamco sit nisi occaecat non quis quis, qui ea dolor fugiat nulla. Reprehenderit consectetur nostrud aliqua in.</div> </div> </div> <div class=\"card\"> <div class=\"card-header\" id=\"heading-minim-2\"> <button aria-controls=\"heading-minim-2\" class=\"btn btn-link collapsed\" data-target=\"#collapse-minim-2\" data-toggle=\"collapse\">Minim culpa excepteur ipsum, magna ad pariatur occaecat, ea esse dolore cupidatat proident aliquip deserunt.</button> </div> <div aria-labelledby=\"heading-minim-2\" class=\"collapse\" data-parent=\"#collapse-ele-0\" id=\"collapse-minim-2\"> <div class=\"card-body text-black\">Dolore lorem non anim aliquip cupidatat deserunt ipsum, lorem eu ea sunt non officia, irure magna ut pariatur. Nisi duis ut officia ad sunt, mollit elit commodo et id duis. Quis consectetur proident deserunt qui eu cupidatat consequat. Adipiscing esse non non labore, est enim irure est tempor culpa enim culpa, qui do ullamco eu cupidatat. Ipsum ipsum commodo est ad sit qui.</div> </div> </div> <div class=\"card\"> <div class=\"card-header\" id=\"heading-ad-3\"> <button aria-controls=\"heading-ad-3\" class=\"btn btn-link collapsed\" data-target=\"#collapse-ad-3\" data-toggle=\"collapse\">Ad pariatur est laborum reprehenderit minim proident.</button> </div> <div aria-labelledby=\"heading-ad-3\" class=\"collapse\" data-parent=\"#collapse-ele-0\" id=\"collapse-ad-3\"> <div class=\"card-body text-black\">Nulla do cupidatat veniam, irure elit esse consectetur nulla culpa sunt eiusmod. Officia et quis reprehenderit aliquip minim. Ea minim ex sint. Excepteur proident culpa ullamco culpa. Lorem aute enim cupidatat. Mollit sint duis nostrud cupidatat excepteur sit pariatur. Excepteur amet ad nisi sint fugiat cillum pariatur, quis cillum eu proident voluptate. Anim et est sit est amet. Aliqua ut lorem occaecat aliqua veniam. Et irure nisi commodo exercitation.</div> </div> </div> <div class=\"card\"> <div class=\"card-header\" id=\"heading-deserunt-4\"> <button aria-controls=\"heading-deserunt-4\" class=\"btn btn-link collapsed\" data-target=\"#collapse-deserunt-4\" data-toggle=\"collapse\">Deserunt ad elit irure aliquip occaecat veniam.</button> </div> <div aria-labelledby=\"heading-deserunt-4\" class=\"collapse\" data-parent=\"#collapse-ele-0\" id=\"collapse-deserunt-4\"> <div class=\"card-body text-black\">Aliquip deserunt consectetur quis aliquip cillum tempor, lorem excepteur adipiscing exercitation nulla. Ea incididunt lorem nostrud esse, veniam amet dolor nulla voluptate officia sed. Ea minim id dolor adipiscing, occaecat quis officia exercitation et velit, nisi incididunt nisi laboris fugiat. Consectetur commodo ea pariatur irure id. Anim officia sit in ipsum excepteur id cupidatat. Eiusmod adipiscing non nulla ipsum, consequat lorem incididunt proident voluptate consequat nulla. Sint nisi dolore dolore ullamco in aute magna. Nostrud quis non nisi fugiat cillum. Sunt ut ex commodo et ea et ea, sed quis culpa sint ex deserunt dolore. Dolore quis voluptate id ipsum do commodo ex, minim veniam enim et adipiscing deserunt duis.</div> </div> </div> </div> </div> </div> <div class=\"wg-detect\" data-wg-type=\"descriptive_items\"> <div class=\"row\"> <div class=\"col\"> <h2>Pariatur ad adipiscing elit anim.</h2> <p><br> <span class=\"float-left m-2 shadow placeholder\" data-wg-type=\"image\" style=\"width: 199px;height: 218px;\"> <span>199x218</span> </span> <span data-wg-type=\"text_area\">Aliquip eu pariatur quis. Aute irure anim pariatur esse do, officia sint deserunt aute occaecat. Irure occaecat consequat sunt irure exercitation do do, sint tempor exercitation veniam dolore qui nisi aliquip. Ex adipiscing elit ipsum eu. Proident exercitation do non dolore eu. Cillum duis adipiscing lorem sed, reprehenderit excepteur proident aute commodo. Nulla consequat culpa velit minim ullamco excepteur. Est eiusmod officia ad magna ipsum cillum. Quis culpa minim esse fugiat, ipsum officia lorem esse esse nostrud est voluptate. Exercitation sunt et consectetur velit commodo. Ad excepteur pariatur veniam ut. Enim officia irure sunt. Aliquip occaecat minim lorem tempor consequat cillum. Dolor aliquip duis tempor. Culpa aliquip adipiscing commodo irure tempor consequat sed, id dolor amet do, consectetur mollit dolor fugiat magna eu. Excepteur esse nostrud in elit, fugiat consectetur amet consequat aliquip. Laborum do aliqua reprehenderit consectetur. Non laboris aute adipiscing est fugiat occaecat, reprehenderit in ullamco esse commodo sunt dolor proident, quis lorem do officia anim nulla qui est. Et occaecat et cillum. Enim sit enim commodo sit labore id. Culpa in aliquip adipiscing nulla deserunt. Consectetur id nostrud anim qui, velit in consequat lorem commodo amet. Cupidatat minim mollit duis esse proident velit. Deserunt ullamco culpa amet ut amet, cillum veniam consectetur amet pariatur voluptate mollit. Dolore tempor ipsum id elit culpa, nulla et ad veniam. Amet do aute aliquip anim. Do non eu fugiat consectetur exercitation lorem, laboris ipsum consectetur ad.</span> </p> </div> </div> <div class=\"row\"> <div class=\"col\"> <h2>Qui quis eiusmod consequat fugiat sunt adipiscing minim, magna ullamco duis nulla exercitation sit nostrud.</h2> <p><br> <span class=\"mx-auto m-2 shadow placeholder\" data-wg-type=\"image\" style=\"width: 199px;height: 218px;\"> <span>199x218</span> </span> <span data-wg-type=\"text_area\">Officia aute esse fugiat consequat reprehenderit. Dolore aliquip aute eiusmod fugiat non laborum. Esse duis lorem esse sint eu. Voluptate occaecat aute qui. Officia est non sed magna dolor, elit ipsum proident anim quis in proident. Ex id quis sint aute laboris nulla aute. Duis qui consectetur laboris quis, qui ullamco fugiat commodo. Adipiscing aute dolore duis amet occaecat labore ea, adipiscing cillum voluptate anim adipiscing sint, pariatur aute esse dolor culpa. Sunt enim amet voluptate labore reprehenderit cupidatat, exercitation irure ad sit. Sint proident reprehenderit consectetur labore commodo nisi cupidatat. Voluptate commodo nisi lorem, cupidatat sit enim ad minim aliqua dolore. Irure ex mollit consectetur, sunt ipsum labore cillum quis, officia aliqua est enim eu esse esse. Commodo fugiat sit enim ea do. Enim ullamco eiusmod quis. In duis anim eiusmod sunt eiusmod. Laboris in ut esse sed quis consequat. In aute consequat duis, elit laboris consequat sint nulla nisi lorem excepteur. Esse ipsum do adipiscing deserunt officia aliqua.</span> </p> </div> </div> </div> </div> </div> </div> </body> </html>\n",
            "      Bleu: 0.78\n"
          ]
        },
        {
          "name": "stderr",
          "output_type": "stream",
          "text": [
            "Epoch 14/19 - valid loop: 100%|██████████| 2/2 [11:44<00:00, 352.40s/it, bleu_score=0.92]\n"
          ]
        },
        {
          "name": "stdout",
          "output_type": "stream",
          "text": [
            "\n",
            "Prediction: <!DOCTYPE html> <html> <head> <title>Dominate</title> <meta content=\"{&quot;primary&quot;: &quot;rgb(125, 179, 144)&quot;, &quot;secondary&quot;: &quot;rgb(21, 109, 115)&quot;, &quot;light&quot;: &quot;rgb(255, 246, 244)&quot;, &quot;dark&quot;: &quot;rgb(21, 29, 68)&quot;, &quot;enable-gradients&quot;: false}\" name=\"wg-palette\"> <meta content=\"width=device-width, initial-scale=1.0\" name=\"viewport\"> <meta content=\"Web Generator\" name=\"author\"> <meta content=\"1\" name=\"wg-layout\"> <link href=\"../css/custom-bootstrap.css\" rel=\"stylesheet\"> <link href=\"../css/wg-extras.css\" rel=\"stylesheet\"> <script src=\"../js/jquery-3.2.1.slim.min.js\" type=\"text/javascript\"></script> <script src=\"../js/bootstrap.min.js\" type=\"text/javascript\"></script> </head> <body class=\"bg-light\"> <div class=\"d-flex bg-light\" id=\"full-wrapper\"> <div class=\"w-100\"> <nav class=\"bg-dark navbar-dark rounded shadow navbar navbar-expand-md\" data-wg-type=\"navbar\"> <a class=\"navbar-brand\" href=\"#\">Eu</a> <button class=\"navbar-toggler\" data-target=\"#main-nav\" data-toggle=\"collapse\" type=\"button\"> <span class=\"navbar-toggler-icon\"></span> </button> <div class=\"collapse navbar-collapse\" id=\"main-nav\" style=\"height: 4vh;\"> <ul class=\"navbar-nav ml-auto\"> <li class=\"nav-item\"> <a class=\"nav-link\" href=\"#\">Deserunt sint</a> </li> <li class=\"nav-item\"> <a class=\"nav-link\" href=\"#\">Lorem sit non</a> </li> </ul> </div> </nav> <header class=\"bg-dark text-white rounded shadow d-flex align-items-center justify-content-center\" data-wg-type=\"header\" style=\"height: 17vh;\"> <h1 class=\"p-2 text-center\">Aute Fugiat Veniam Aliquip Reprehenderit Nulla</h1> </header> <div class=\"container-fluid py-3\" id=\"page-content\"> <div class=\"row my-3 wg-detect\" data-wg-type=\"mix\"> <div class=\"col\"> <p class=\"wg-detect\" data-wg-type=\"paragraph\">Mollit ad sint culpa magna voluptate pariatur do. Consequat quis laboris reprehenderit tempor excepteur exercitation enim. Deserunt velit nostrud ullamco eiusmod qui sit eu, in cupidatat magna excepteur dolore consectetur culpa. Voluptate esse dolore enim qui irure tempor, qui lorem deserunt occaecat laborum aute irure elit. Labore magna consequat ullamco ipsum sint culpa, amet lorem minim irure laborum anim. Commodo nisi eiusmod sint ad laboris amet reprehenderit.</p> </div> <div class=\"col\"> <ol class=\"wg-detect\" data-wg-type=\"list\"> <li>Tempor cillum</li> <li>In enim amet</li> <li>Qui mollit ut</li> <li>Minim nostrud</li> <li>Consectetur</li> </ol> </div> <div class=\"col\"> <p class=\"wg-detect\" data-wg-type=\"paragraph\">Est aliqua ex nostrud ea duis esse voluptate, dolore officia elit veniam minim dolore do esse. Laboris sunt proident ad reprehenderit pariatur consequat laboris. Veniam consectetur fugiat id sint enim. Anim dolore ad deserunt ex est. Proident voluptate ut duis lorem velit cillum adipiscing. Dolore laborum amet sed eu irure cupidatat.</p> </div> </div> <div class=\"row wg-detect\" data-wg-type=\"cards\"> <div class=\"col\"> <div class=\"card-columns\"> <div class=\"text-black card\"> <span class=\"card-img-top placeholder\" style=\"height: 100px;\"></span> <div class=\"card-body\"> <h5 class=\"card-title\">Sed laborum lorem id</h5> <p class=\"card-text\">Ex deserunt culpa laboris amet non ut commodo sunt</p> <div class=\"d-flex justify-content-between align-items-center\"> <div class=\"btn-group\"> <button class=\"btn btn-sm btn-outline-secondary\" type=\"button\">Do ad eiusmod</button> </div> <small class=\"text-muted\">Anim minim et</small> </div> </div> </div> <div class=\"text-black card\"> <span class=\"card-img-top placeholder\" style=\"height: 100px;\"></span> <div class=\"card-body\"> <h5 class=\"card-title\">Ex excepteur duis id</h5> <p class=\"card-text\">Cillum fugiat irure elit in occaecat labore sunt</p> <div class=\"d-flex justify-content-between align-items-center\"> <div class=\"btn-group\"> <button class=\"btn btn-sm btn-outline-secondary\" type=\"button\">Enim elit id</button> </div> <small class=\"text-muted\">Ut enim non</small> </div> </div> </div> <div class=\"text-black card\"> <span class=\"card-img-top placeholder\" style=\"height: 100px;\"></span> <div class=\"card-body\"> <h5 class=\"card-title\">Sed ullamco ea et in</h5> <p class=\"card-text\">Eu tempor ipsum cupidatat cillum magna enim duis</p> <div class=\"d-flex justify-content-between align-items-center\"> <div class=\"btn-group\"> <button class=\"btn btn-sm btn-outline-secondary\" type=\"button\">Esse magna ut</button> </div> <small class=\"text-muted\">Magna laboris</small> </div> </div> </div> <div class=\"text-black card\"> <span class=\"card-img-top placeholder\" style=\"height: 100px;\"></span> <div class=\"card-body\"> <h5 class=\"card-title\">Exercitation dolor</h5> <p class=\"card-text\">Voluptate consectetur laboris enim eu dolor cillum</p> <div class=\"d-flex justify-content-between align-items-center\"> <div class=\"btn-group\"> <button class=\"btn btn-sm btn-outline-secondary\" type=\"button\">Qui quis do</button> </div> <small class=\"text-muted\">Commodo nulla</small> </div> </div> </div> </div> </div> </div> </div> <footer class=\" rounded jumbotron mb-0\" data-wg-type=\"footer\" style=\"height: 12vh;\"> <div class=\"container\"> <span class=\"text-muted\">Cillum sunt anim nisi ex culpa eiusmod nulla et ea</span> </div> </footer> </div> <div class=\"bg-gradient-light text-white rounded\" data-wg-type=\"sidebar\" id=\"sidebar-wrapper\"> <div class=\"list-group list-group-flush\" style=\"width:27vh;\"> <a class=\"list-group-item list-group-item-action\" href=\"#\">Ullamco ea eu</a> <a class=\"list-group-item list-group-item-action\" href=\"#\">Nisi nisi eu</a> <a class=\"list-group-item list-group-item-action\" href=\"#\">Cillum anim</a> <a class=\"list-group-item list-group-item-action\" href=\"#\">Pariatur sint</a> <a class=\"list-group-item list-group-item-action\" href=\"#\">Ut occaecat</a> <a class=\"list-group-item list-group-item-action\" href=\"#\">Voluptate do</a> </div> </div> </div> </body> </html>\n",
            "    Answer: <!DOCTYPE html> <html> <head> <title>Dominate</title> <meta content=\"{&quot;primary&quot;: &quot;rgb(238, 188, 165)&quot;, &quot;secondary&quot;: &quot;rgb(174, 85, 45)&quot;, &quot;light&quot;: &quot;rgb(240, 196, 176)&quot;, &quot;dark&quot;: &quot;rgb(98, 51, 30)&quot;, &quot;enable-gradients&quot;: false}\" name=\"wg-palette\"> <meta content=\"width=device-width, initial-scale=1.0\" name=\"viewport\"> <meta content=\"Web Generator\" name=\"author\"> <meta content=\"1\" name=\"wg-layout\"> <link href=\"../css/custom-bootstrap.css\" rel=\"stylesheet\"> <link href=\"../css/wg-extras.css\" rel=\"stylesheet\"> <script src=\"../js/jquery-3.2.1.slim.min.js\" type=\"text/javascript\"></script> <script src=\"../js/bootstrap.min.js\" type=\"text/javascript\"></script> </head> <body class=\"bg-light\"> <div class=\"d-flex bg-light\" id=\"full-wrapper\"> <div class=\"w-100\"> <nav class=\"bg-dark navbar-dark navbar navbar-expand-md\" data-wg-type=\"navbar\"> <a class=\"navbar-brand\" href=\"#\">Eu</a> <button class=\"navbar-toggler\" data-target=\"#main-nav\" data-toggle=\"collapse\" type=\"button\"> <span class=\"navbar-toggler-icon\"></span> </button> <div class=\"collapse navbar-collapse\" id=\"main-nav\" style=\"height: 4vh;\"> <ul class=\"navbar-nav ml-auto\"> <li class=\"nav-item\"> <a class=\"nav-link\" href=\"#\">Deserunt sint</a> </li> <li class=\"nav-item\"> <a class=\"nav-link\" href=\"#\">Lorem et non</a> </li> </ul> </div> </nav> <header class=\"bg-dark text-white d-flex align-items-center justify-content-center\" data-wg-type=\"header\" style=\"height: 17vh;\"> <h1 class=\"p-2 text-center\">Aute Fugiat Veniam Aliquip Reprehenderit Nulla</h1> </header> <div class=\"container-fluid py-3\" id=\"page-content\"> <div class=\"row my-3 wg-detect\" data-wg-type=\"mix\"> <div class=\"col\"> <p class=\"wg-detect\" data-wg-type=\"paragraph\">Mollit ad sint culpa magna voluptate pariatur do. Consequat quis laboris reprehenderit tempor excepteur exercitation enim. Deserunt velit nostrud ullamco eiusmod qui sit eu, in cupidatat magna excepteur dolore consectetur culpa. Voluptate esse dolore enim qui irure tempor, qui lorem deserunt occaecat laborum aute irure elit. Labore magna consequat ullamco ipsum sint culpa, amet lorem minim irure laborum anim. Commodo nisi eiusmod sint ad laboris amet reprehenderit.</p> </div> <div class=\"col\"> <ol class=\"wg-detect\" data-wg-type=\"list\"> <li>Tempor cillum</li> <li>In enim amet</li> <li>Qui mollit ut</li> <li>Minim nostrud</li> <li>Consectetur</li> </ol> </div> <div class=\"col\"> <p class=\"wg-detect\" data-wg-type=\"paragraph\">Est aliqua ex nostrud ea duis esse voluptate, dolore officia elit veniam minim dolore do esse. Laboris sunt proident ad reprehenderit pariatur consequat laboris. Veniam consectetur fugiat id sint enim. Anim dolore ad deserunt ex est. Proident voluptate ut duis lorem velit cillum adipiscing. Dolore laborum amet sed eu irure cupidatat.</p> </div> </div> <div class=\"row wg-detect\" data-wg-type=\"cards\"> <div class=\"col\"> <div class=\"card-columns\"> <div class=\"text-black card\"> <span class=\"card-img-top placeholder\" style=\"height: 100px;\"></span> <div class=\"card-body\"> <h5 class=\"card-title\">Sed laborum lorem id</h5> <p class=\"card-text\">Ex deserunt culpa laboris amet non ut commodo sunt</p> <div class=\"d-flex justify-content-between align-items-center\"> <div class=\"btn-group\"> <button class=\"btn btn-sm btn-outline-secondary\" type=\"button\">Do ad eiusmod</button> </div> <small class=\"text-muted\">Anim minim et</small> </div> </div> </div> <div class=\"text-black card\"> <span class=\"card-img-top placeholder\" style=\"height: 100px;\"></span> <div class=\"card-body\"> <h5 class=\"card-title\">Ex excepteur duis id</h5> <p class=\"card-text\">Cillum fugiat irure elit in occaecat labore sunt</p> <div class=\"d-flex justify-content-between align-items-center\"> <div class=\"btn-group\"> <button class=\"btn btn-sm btn-outline-secondary\" type=\"button\">Enim nisi ut</button> </div> <small class=\"text-muted\">Ut enim non</small> </div> </div> </div> <div class=\"text-black card\"> <span class=\"card-img-top placeholder\" style=\"height: 100px;\"></span> <div class=\"card-body\"> <h5 class=\"card-title\">Sed ullamco ea et in</h5> <p class=\"card-text\">Eu tempor ipsum cupidatat cillum magna enim duis</p> <div class=\"d-flex justify-content-between align-items-center\"> <div class=\"btn-group\"> <button class=\"btn btn-sm btn-outline-secondary\" type=\"button\">Esse magna ut</button> </div> <small class=\"text-muted\">Magna laboris</small> </div> </div> </div> <div class=\"text-black card\"> <span class=\"card-img-top placeholder\" style=\"height: 100px;\"></span> <div class=\"card-body\"> <h5 class=\"card-title\">Exercitation dolor</h5> <p class=\"card-text\">Voluptate consectetur laboris enim eu dolor cillum</p> <div class=\"d-flex justify-content-between align-items-center\"> <div class=\"btn-group\"> <button class=\"btn btn-sm btn-outline-secondary\" type=\"button\">Qui quis do</button> </div> <small class=\"text-muted\">Commodo nulla</small> </div> </div> </div> </div> </div> </div> </div> <footer class=\"jumbotron mb-0\" data-wg-type=\"footer\" style=\"height: 7vh;\"> <div class=\"container\"> <span class=\"text-muted\">Cillum sunt anim nisi ex culpa eiusmod nulla et ea</span> </div> </footer> </div> <div class=\"bg-dark text-white\" data-wg-type=\"sidebar\" id=\"sidebar-wrapper\"> <div class=\"list-group list-group-flush\" style=\"width:22vh;\"> <a class=\"list-group-item list-group-item-action\" href=\"#\">Ullamco ea eu</a> <a class=\"list-group-item list-group-item-action\" href=\"#\">Nisi nisi eu</a> <a class=\"list-group-item list-group-item-action\" href=\"#\">Cillum anim</a> <a class=\"list-group-item list-group-item-action\" href=\"#\">Pariatur sint</a> <a class=\"list-group-item list-group-item-action\" href=\"#\">Ut occaecat</a> <a class=\"list-group-item list-group-item-action\" href=\"#\">Voluptate do</a> </div> </div> </div> </body> </html>\n",
            "      Bleu: 0.76\n",
            "\n",
            "Prediction: <!DOCTYPE html> <html> <head> <title>Dominate</title> <meta content=\"{&quot;primary&quot;: &quot;rgb(100, 180, 99)&quot;, &quot;secondary&quot;: &quot;rgb(18, 110, 69)&quot;, &quot;light&quot;: &quot;rgb(215, 249, 208)&quot;, &quot;dark&quot;: &quot;rgb(18, 36, 20)&quot;, &quot;enable-gradients&quot;: false}\" name=\"wg-palette\"> <meta content=\"width=device-width, initial-scale=1.0\" name=\"viewport\"> <meta content=\"Web Generator\" name=\"author\"> <meta content=\"4\" name=\"wg-layout\"> <link href=\"../css/custom-bootstrap.css\" rel=\"stylesheet\"> <link href=\"../css/wg-extras.css\" rel=\"stylesheet\"> <script src=\"../js/jquery-3.2.1.slim.min.js\" type=\"text/javascript\"></script> <script src=\"../js/bootstrap.min.js\" type=\"text/javascript\"></script> </head> <body class=\"bg-dark\"> <div class=\"bg-light rounded shadow-lg\" id=\"full-wrapper\"> <div class=\"d-flex\"> <div class=\"bg-secondary text-white rounded shadow-lg\" data-wg-type=\"sidebar\" id=\"sidebar-wrapper\"> <div class=\"list-group list-group-flush\" style=\"width:27vh;\"> <a class=\"list-group-item list-group-item-action\" href=\"#\">Ipsum ea sit</a> <a class=\"list-group-item list-group-item-action\" href=\"#\">Sint non quis</a> </div> </div> <div class=\"w-100\"> <nav class=\"bg-dark navbar-dark rounded shadow-lg navbar navbar-expand-md\" data-wg-type=\"navbar\"> <a class=\"navbar-brand\" href=\"#\">Dolor</a> <button class=\"navbar-toggler\" data-target=\"#main-nav\" data-toggle=\"collapse\" type=\"button\"> <span class=\"navbar-toggler-icon\"></span> </button> <div class=\"collapse navbar-collapse\" id=\"main-nav\" style=\"height: 6vh;\"> <ul class=\"navbar-nav ml-auto\"> <li class=\"nav-item\"> <a class=\"nav-link\" href=\"#\">Eu cillum id</a> </li> <li class=\"nav-item\"> <a class=\"nav-link\" href=\"#\">In deserunt</a> </li> <li class=\"nav-item\"> <a class=\"nav-link\" href=\"#\">Aliqua sint</a> </li> </ul> </div> </nav> <div class=\"container-fluid py-3\" id=\"page-content\"> <form class=\"p-3\" data-wg-type=\"form\"> <div class=\"form-group\"> <label for=\"sit\">Sit</label> <input class=\"form-control\" data-wg-type=\"text\" id=\"sit\" type=\"text\"> </div> <div class=\"form-row\"> <div class=\"form-group col-md\"> <label for=\"excepteur_ex_duis\">Excepteur ex duis</label> <input class=\"form-control\" data-wg-type=\"date\" id=\"excepteur_ex_duis\" type=\"date\"> </div> <div class=\"form-group col-md\"> <label for=\"qui_laboris\">Qui laboris</label> <input class=\"form-control\" data-wg-type=\"text\" id=\"qui_laboris\" type=\"text\"> </div> </div> <div class=\"form-group\"> <label for=\"excepteur_dolor_et\">Excepteur dolor et</label> <input class=\"form-control\" data-wg-type=\"text\" id=\"excepteur_dolor_et\" type=\"text\"> </div> <div class=\"form-row\"> <div class=\"form-group col-md\"> <label for=\"ad_ea_sunt\">Ad ea sunt</label> <input class=\"form-control\" data-wg-type=\"text\" id=\"ad_ea_sunt\" type=\"text\"> </div> <div class=\"form-group col-md\"> <label for=\"nostrud_veniam\">Nostrud veniam</label> <input class=\"form-control\" data-wg-type=\"date\" id=\"nostrud_veniam\" type=\"date\"> </div> </div> </form> </div> </div> </div> </body> </html>\n",
            "    Answer: <!DOCTYPE html> <html> <head> <title>Dominate</title> <meta content=\"{&quot;primary&quot;: &quot;rgb(40, 109, 35)&quot;, &quot;secondary&quot;: &quot;rgb(104, 35, 109)&quot;, &quot;light&quot;: &quot;rgb(35, 109, 104)&quot;, &quot;dark&quot;: &quot;rgb(109, 35, 40)&quot;, &quot;enable-gradients&quot;: true}\" name=\"wg-palette\"> <meta content=\"width=device-width, initial-scale=1.0\" name=\"viewport\"> <meta content=\"Web Generator\" name=\"author\"> <meta content=\"4\" name=\"wg-layout\"> <link href=\"../css/custom-bootstrap.css\" rel=\"stylesheet\"> <link href=\"../css/wg-extras.css\" rel=\"stylesheet\"> <script src=\"../js/jquery-3.2.1.slim.min.js\" type=\"text/javascript\"></script> <script src=\"../js/bootstrap.min.js\" type=\"text/javascript\"></script> </head> <body class=\"bg-gradient-light\"> <div class=\"bg-gradient-light text-white rounded shadow-sm\" id=\"full-wrapper\"> <div class=\"d-flex\"> <div class=\"bg-gradient-dark text-white rounded shadow-sm\" data-wg-type=\"sidebar\" id=\"sidebar-wrapper\"> <div class=\"list-group list-group-flush\" style=\"width:26vh;\"> <a class=\"list-group-item list-group-item-action\" href=\"#\">Ipsum ea sit</a> <a class=\"list-group-item list-group-item-action\" href=\"#\">Sint non quis</a> </div> </div> <div class=\"w-100\"> <nav class=\"bg-gradient-dark navbar-dark rounded shadow-sm navbar navbar-expand-md\" data-wg-type=\"navbar\"> <a class=\"navbar-brand\" href=\"#\">Dolor</a> <button class=\"navbar-toggler\" data-target=\"#main-nav\" data-toggle=\"collapse\" type=\"button\"> <span class=\"navbar-toggler-icon\"></span> </button> <div class=\"collapse navbar-collapse\" id=\"main-nav\" style=\"height: 4vh;\"> <ul class=\"navbar-nav ml-auto\"> <li class=\"nav-item\"> <a class=\"nav-link\" href=\"#\">Eu cillum id</a> </li> <li class=\"nav-item\"> <a class=\"nav-link\" href=\"#\">In deserunt</a> </li> <li class=\"nav-item\"> <a class=\"nav-link\" href=\"#\">Aliqua sint</a> </li> </ul> </div> </nav> <div class=\"container-fluid py-3\" id=\"page-content\"> <form class=\"p-3\" data-wg-type=\"form\"> <div class=\"form-group\"> <label for=\"sit\">Sit</label> <input class=\"form-control\" data-wg-type=\"text\" id=\"sit\" type=\"text\"> </div> <div class=\"form-row\"> <div class=\"form-group col-md\"> <label for=\"excepteur_ex_duis\">Excepteur ex duis</label> <input class=\"form-control\" data-wg-type=\"date\" id=\"excepteur_ex_duis\" type=\"date\"> </div> <div class=\"form-group col-md\"> <label for=\"qui_laboris\">Qui laboris</label> <input class=\"form-control\" data-wg-type=\"text\" id=\"qui_laboris\" type=\"text\"> </div> </div> <div class=\"form-group\"> <label for=\"excepteur_dolor_et\">Excepteur dolor et</label> <input class=\"form-control\" data-wg-type=\"text\" id=\"excepteur_dolor_et\" type=\"text\"> </div> <div class=\"form-row\"> <div class=\"form-group col-md\"> <label for=\"ad_ea_sunt\">Ad ea sunt</label> <input class=\"form-control\" data-wg-type=\"text\" id=\"ad_ea_sunt\" type=\"text\"> </div> <div class=\"form-group col-md\"> <label for=\"nostrud_veniam\">Nostrud veniam</label> <input class=\"form-control\" data-wg-type=\"date\" id=\"nostrud_veniam\" type=\"date\"> </div> </div> </form> </div> </div> </div> </div> </body> </html>\n",
            "      Bleu: 0.93\n",
            "\n",
            "Prediction: <!DOCTYPE html> <html> <head> <title>Dominate</title> <meta content=\"{&quot;primary&quot;: &quot;rgb(203, 201, 226)&quot;, &quot;secondary&quot;: &quot;rgb(158, 154, 200)&quot;, &quot;light&quot;: &quot;rgb(242, 240, 247)&quot;, &quot;dark&quot;: &quot;rgb(106, 81, 163)&quot;, &quot;enable-gradients&quot;: false}\" name=\"wg-palette\"> <meta content=\"width=device-width, initial-scale=1.0\" name=\"viewport\"> <meta content=\"Web Generator\" name=\"author\"> <meta content=\"2\" name=\"wg-layout\"> <link href=\"../css/custom-bootstrap.css\" rel=\"stylesheet\"> <link href=\"../css/wg-extras.css\" rel=\"stylesheet\"> <script src=\"../js/jquery-3.2.1.slim.min.js\" type=\"text/javascript\"></script> <script src=\"../js/bootstrap.min.js\" type=\"text/javascript\"></script> </head> <body class=\"\"> <div class=\" rounded\" id=\"full-wrapper\"> <nav class=\"bg-light navbar-light rounded navbar navbar-expand-md\" data-wg-type=\"navbar\"> <button class=\"navbar-toggler\" data-target=\"#main-nav\" data-toggle=\"collapse\" type=\"button\"> <span class=\"navbar-toggler-icon\"></span> </button> <div class=\"collapse navbar-collapse\" id=\"main-nav\" style=\"height: 7vh;\"> <ul class=\"navbar-nav ml-auto\"> <li class=\"nav-item\"> <a class=\"nav-link\" href=\"#\">Ut sunt irure</a> </li> <li class=\"nav-item\"> <a class=\"nav-link\" href=\"#\">Cillum quis</a> </li> <li class=\"nav-item\"> <a class=\"nav-link\" href=\"#\">Eiusmod dolor</a> </li> <li class=\"nav-item\"> <a class=\"nav-link\" href=\"#\">Voluptate id</a> </li> <li class=\"nav-item\"> <a class=\"nav-link\" href=\"#\">Cupidatat ea</a> </li> <li class=\"nav-item\"> <a class=\"nav-link\" href=\"#\">Sit ullamco</a> </li> </ul> </div> </nav> <div class=\"d-flex\"> <div class=\"flex-grow-1\"> <div class=\"container-fluid py-3\" id=\"page-content\"> <div class=\"row my-3 wg-detect\" data-wg-type=\"mix\"> <div class=\"col\"> <div class=\"text-center wg-detect\" data-wg-type=\"featured_item\"> <span class=\"text-black rounded-circle mx-auto placeholder\" style=\"width: 105px;height: 105px;\"> <span>105x105</span> </span> <h2>Sunt tempor magna ex</h2> <p>Incididunt sed esse aute do dolor sit fugiat irure</p> <a class=\"btn btn-primary\" href=\"#\">Laborum et ex</a> </div> </div> <div class=\"col\"> <h1 class=\"wg-detect\" data-wg-type=\"heading\">Minim eu id sunt irure anim ad duis.</h1> </div> <div class=\"col\"> <div class=\"text-center wg-detect\" data-wg-type=\"featured_item\"> <span class=\"text-black rounded-circle mx-auto placeholder\" style=\"width: 126px;height: 126px;\"> <span>126x126</span> </span> <h2>Nostrud quis velit</h2> <p>Aliqua consequat pariatur eu cupidatat excepteur</p> <a class=\"btn btn-primary\" href=\"#\">Sed et ex est</a> </div> </div> </div> </div> <footer class=\" rounded jumbotron mb-0\" data-wg-type=\"footer\" style=\"height: 18vh;\"> <div class=\"container\"> <span class=\"text-muted\">Quis labore esse aute non laboris nostrud cillum</span> </div> </footer> </div> <div class=\"bg-light rounded\" data-wg-type=\"sidebar\" id=\"sidebar-wrapper\"> <div class=\"sidebar-heading\">Do</div> <div class=\"list-group list-group-flush\" style=\"width:27vh;\"> <a class=\"list-group-item list-group-item-action\" href=\"#\">Irure elit eu</a> <a class=\"list-group-item list-group-item-action\" href=\"#\">Excepteur ut</a> <a class=\"list-group-item list-group-item-action\" href=\"#\">Excepteur do</a> <a class=\"list-group-item list-group-item-action\" href=\"#\">Aute labore</a> <a class=\"list-group-item list-group-item-action\" href=\"#\">Aliqua ea et</a> <a class=\"list-group-item list-group-item-action\" href=\"#\">Amet ullamco</a> </div> </div> </div> </div> </body> </html>\n",
            "    Answer: <!DOCTYPE html> <html> <head> <title>Dominate</title> <meta content=\"{&quot;primary&quot;: &quot;rgb(211, 156, 131)&quot;, &quot;secondary&quot;: &quot;rgb(166, 84, 97)&quot;, &quot;light&quot;: &quot;rgb(237, 229, 207)&quot;, &quot;dark&quot;: &quot;rgb(84, 31, 63)&quot;, &quot;enable-gradients&quot;: true}\" name=\"wg-palette\"> <meta content=\"width=device-width, initial-scale=1.0\" name=\"viewport\"> <meta content=\"Web Generator\" name=\"author\"> <meta content=\"2\" name=\"wg-layout\"> <link href=\"../css/custom-bootstrap.css\" rel=\"stylesheet\"> <link href=\"../css/wg-extras.css\" rel=\"stylesheet\"> <script src=\"../js/jquery-3.2.1.slim.min.js\" type=\"text/javascript\"></script> <script src=\"../js/bootstrap.min.js\" type=\"text/javascript\"></script> </head> <body class=\"\"> <div class=\" shadow-lg\" id=\"full-wrapper\"> <nav class=\"bg-gradient-light navbar-light shadow-lg navbar navbar-expand-md\" data-wg-type=\"navbar\"> <button class=\"navbar-toggler\" data-target=\"#main-nav\" data-toggle=\"collapse\" type=\"button\"> <span class=\"navbar-toggler-icon\"></span> </button> <div class=\"collapse navbar-collapse\" id=\"main-nav\" style=\"height: 6vh;\"> <ul class=\"navbar-nav ml-auto\"> <li class=\"nav-item\"> <a class=\"nav-link\" href=\"#\">Ut sunt irure</a> </li> <li class=\"nav-item\"> <a class=\"nav-link\" href=\"#\">Cillum quis</a> </li> <li class=\"nav-item\"> <a class=\"nav-link\" href=\"#\">Eiusmod dolor</a> </li> <li class=\"nav-item\"> <a class=\"nav-link\" href=\"#\">Voluptate id</a> </li> <li class=\"nav-item\"> <a class=\"nav-link\" href=\"#\">Cupidatat ea</a> </li> <li class=\"nav-item\"> <a class=\"nav-link\" href=\"#\">Sit ullamco</a> </li> </ul> </div> </nav> <div class=\"d-flex\"> <div class=\"flex-grow-1\"> <div class=\"container-fluid py-3\" id=\"page-content\"> <div class=\"row my-3 wg-detect\" data-wg-type=\"mix\"> <div class=\"col\"> <div class=\"text-center wg-detect\" data-wg-type=\"featured_item\"> <span class=\"text-black rounded-circle mx-auto placeholder\" style=\"width: 105px;height: 105px;\"> <span>105x105</span> </span> <h2>Sunt tempor magna ex</h2> <p>Incididunt sed esse aute do dolor sit fugiat irure</p> <a class=\"btn btn-primary\" href=\"#\">Laborum et ex</a> </div> </div> <div class=\"col\"> <h1 class=\"wg-detect\" data-wg-type=\"heading\">Minim eu id sunt irure anim ad duis.</h1> </div> <div class=\"col\"> <div class=\"text-center wg-detect\" data-wg-type=\"featured_item\"> <span class=\"text-black rounded-circle mx-auto shadow placeholder\" style=\"width: 126px;height: 126px;\"> <span>126x126</span> </span> <h2>Nostrud quis velit</h2> <p>Aliqua consequat pariatur eu cupidatat excepteur</p> <a class=\"btn btn-primary\" href=\"#\">Sed et ex est</a> </div> </div> </div> </div> <footer class=\" shadow-lg jumbotron mb-0\" data-wg-type=\"footer\" style=\"height: 27vh;\"> <div class=\"container\"> <span class=\"text-muted\">Quis labore esse aute non laboris nostrud cillum</span> </div> </footer> </div> <div class=\"bg-gradient-light shadow-lg\" data-wg-type=\"sidebar\" id=\"sidebar-wrapper\"> <div class=\"sidebar-heading\">Do</div> <div class=\"list-group list-group-flush\" style=\"width:25vh;\"> <a class=\"list-group-item list-group-item-action\" href=\"#\">Irure elit eu</a> <a class=\"list-group-item list-group-item-action\" href=\"#\">Excepteur ut</a> <a class=\"list-group-item list-group-item-action\" href=\"#\">Excepteur do</a> <a class=\"list-group-item list-group-item-action\" href=\"#\">Aute labore</a> <a class=\"list-group-item list-group-item-action\" href=\"#\">Aliqua ea et</a> <a class=\"list-group-item list-group-item-action\" href=\"#\">Amet ullamco</a> </div> </div> </div> </div> </body> </html>\n",
            "      Bleu: 0.96\n",
            "\n",
            "Prediction: <!DOCTYPE html> <html> <head> <title>Dominate</title> <meta content=\"{&quot;primary&quot;: &quot;rgb(189, 201, 225)&quot;, &quot;secondary&quot;: &quot;rgb(116, 169, 207)&quot;, &quot;light&quot;: &quot;rgb(241, 238, 246)&quot;, &quot;dark&quot;: &quot;rgb(5, 112, 176)&quot;, &quot;enable-gradients&quot;: false}\" name=\"wg-palette\"> <meta content=\"width=device-width, initial-scale=1.0\" name=\"viewport\"> <meta content=\"Web Generator\" name=\"author\"> <meta content=\"4\" name=\"wg-layout\"> <link href=\"../css/custom-bootstrap.css\" rel=\"stylesheet\"> <link href=\"../css/wg-extras.css\" rel=\"stylesheet\"> <script src=\"../js/jquery-3.2.1.slim.min.js\" type=\"text/javascript\"></script> <script src=\"../js/bootstrap.min.js\" type=\"text/javascript\"></script> </head> <body class=\"bg-dark\"> <div class=\"bg-light rounded shadow-lg\" id=\"full-wrapper\"> <div class=\"d-flex\"> <div class=\"bg-secondary rounded shadow-lg\" data-wg-type=\"sidebar\" id=\"sidebar-wrapper\"> <div class=\"sidebar-heading\">Et</div> <div class=\"list-group list-group-flush\" style=\"width:27vh;\"> <a class=\"list-group-item list-group-item-action\" href=\"#\">Laboris dolor</a> <a class=\"list-group-item list-group-item-action\" href=\"#\">Et culpa enim</a> <a class=\"list-group-item list-group-item-action\" href=\"#\">Occaecat id</a> <a class=\"list-group-item list-group-item-action\" href=\"#\">Id deserunt</a> </div> </div> <div class=\"w-100\"> <nav class=\"bg-dark navbar-dark rounded shadow-lg navbar navbar-expand-md\" data-wg-type=\"navbar\"> <a class=\"navbar-brand\" href=\"#\">Culpa</a> <button class=\"navbar-toggler\" data-target=\"#main-nav\" data-toggle=\"collapse\" type=\"button\"> <span class=\"navbar-toggler-icon\"></span> </button> <div class=\"collapse navbar-collapse\" id=\"main-nav\" style=\"height: 7vh;\"> <ul class=\"navbar-nav mr-auto\"> <li class=\"nav-item\"> <a class=\"nav-link\" href=\"#\">Officia ut id</a> </li> <li class=\"nav-item\"> <a class=\"nav-link\" href=\"#\">Eu voluptate</a> </li> <li class=\"nav-item\"> <a class=\"nav-link\" href=\"#\">Amet dolore</a> </li> <li class=\"nav-item\"> <a class=\"nav-link\" href=\"#\">Cillum minim</a> </li> </ul> </div> </nav> <div class=\"container-fluid py-3\" id=\"page-content\"> <form class=\"p-3\" data-wg-type=\"form\"> <div class=\"form-row\"> <div class=\"form-group col-md\"> <label for=\"irure_laborum\">Irure laborum</label> <input class=\"form-control\" data-wg-type=\"time\" id=\"irure_laborum\" type=\"time\"> </div> <div class=\"form-group col-md\"> <label for=\"quis\">Quis</label> <input class=\"form-control\" data-wg-type=\"text\" id=\"quis\" type=\"text\"> </div> </div> <div class=\"form-group\"> <label for=\"ex\">Ex</label> <input class=\"form-control\" data-wg-type=\"text\" id=\"ex\" type=\"text\"> </div> <div class=\"form-row\"> <div class=\"form-group col-md\"> <label for=\"sit_in_commodo\">Sit in commodo</label> <input class=\"form-control\" data-wg-type=\"time\" id=\"sit_in_commodo\" type=\"time\"> </div> <div class=\"form-group col-md\"> <label for=\"consequat\">Consequat</label> <input class=\"form-control\" data-wg-type=\"text\" id=\"consequat\" type=\"text\"> </div> </div> <div class=\"form-row\"> <div class=\"form-group col-md\"> <label for=\"eiusmod_aliquip\">Eiusmod aliquip</label> <input class=\"form-control\" data-wg-type=\"text\" id=\"eiusmod_aliquip\" type=\"text\"> </div> <div class=\"form-group col-md\"> <label for=\"dolore_sint_laboris\">Dolore sint laboris</label> <select class=\"form-control\" data-wg-type=\"select\" id=\"dolore_sint_laboris\"> <option>Id ipsum cillum</option> <option>Et</option> <option>Et</option> <option>Et</option> <option>Et</option> <option>Et</option> <option>Et</option> <option>Et</option> </select> </div> </div> <div class=\"form-row\"> <div class=\"form-group col-md\"> <label for=\"mollit_proident\">Mollit proident</label> <input class=\"form-control\" data-wg-type=\"text\" id=\"mollit_proident\" type=\"text\"> </div> <div class=\"form-group col-md\"> <label for=\"mollit\">Mollit</label> <input class=\"custom-range\" data-wg-type=\"range\" id=\"mollit\" type=\"range\"> </div> <div class=\"form-group col-md\"> <label for=\"ullamco_elit\">Ullamco elit</label> <input class=\"form-control\" data-wg-type=\"text\" id=\"ullamco_elit\" type=\"text\"> </div> </div> <div class=\"form-row\"> <div class=\"form-group col-md\"> <label for=\"elit\">Elit</label> <select class=\"form-control\" data-wg-type=\"select\" id=\"elit\"> <option>Duis et</option> <option>Enim</option> <option>Enim</option> <option>Enim</option> <option>Enim</option> <option>Enim</option> <option>Enim</option> </select> </div> <div class=\"form-group col-md\"> <label for=\"sit_do_eiusmod\">Sit do eiusmod</label> <input class=\"form-control\" data-wg-type=\"text\" id=\"sit_do_eiusmod\" type=\"text\"> </div> <div class=\"form-group col-md\"> <label for=\"duis\">Duis</label> <input class=\"form-control\" data-wg-type=\"text\" id=\"duis\" type=\"text\"> </div> </div> <div class=\"form-row\"> <div class=\"form-group col-md\"> <label for=\"non_dolor\">Non dolor</label> <input class=\"custom-range\" data-wg-type=\"range\" id=\"non_dolor\" type=\"range\"> </div> <div class=\"form-group col-md\"> <label for=\"ipsum_aliqua_amet\">Ipsum aliqua amet</label> <input class=\"form-control\" data-wg-type=\"text\" id=\"ipsum_aliqua_amet\" type=\"text\"> </div> <div class=\"form-group col-md\"> <label for=\"sed\">Sed</label> <input class=\"form-control\" data-wg-type=\"time\" id=\"sed\" type=\"time\"> </div> </div> <div class=\"form-row\"> <div class=\"form-group col-md\"> <label for=\"aute_exercitation_veniam\">Aute exercitation veniam</label> <input class=\"form-control\" data-wg-type=\"date\" id=\"aute_exercitation_veniam\" type=\"date\"> </div> <div class=\"form-group col-md\"> <label for=\"quis\">Quis</label> <input class=\"form-control\" data-wg-type=\"date\" id=\"quis\" type=\"date\"> </div> </div> <div class=\"form-group\"> <label for=\"officia\">Officia</label> <input class=\"custom-range\" data-wg-type=\"range\" id=\"officia\" type=\"range\"> </div> <div class=\"form-group\"> <label for=\"eu\">Eu</label> <input class=\"form-control\" data-wg-type=\"date\" id=\"eu\" type=\"date\"> </div> </form> </div> </div> </div> </body> </html>\n",
            "    Answer: <!DOCTYPE html> <html> <head> <title>Dominate</title> <meta content=\"{&quot;primary&quot;: &quot;rgb(185, 186, 241)&quot;, &quot;secondary&quot;: &quot;rgb(113, 115, 213)&quot;, &quot;light&quot;: &quot;rgb(190, 191, 243)&quot;, &quot;dark&quot;: &quot;rgb(59, 61, 175)&quot;, &quot;enable-gradients&quot;: true}\" name=\"wg-palette\"> <meta content=\"width=device-width, initial-scale=1.0\" name=\"viewport\"> <meta content=\"Web Generator\" name=\"author\"> <meta content=\"1\" name=\"wg-layout\"> <link href=\"../css/custom-bootstrap.css\" rel=\"stylesheet\"> <link href=\"../css/wg-extras.css\" rel=\"stylesheet\"> <script src=\"../js/jquery-3.2.1.slim.min.js\" type=\"text/javascript\"></script> <script src=\"../js/bootstrap.min.js\" type=\"text/javascript\"></script> </head> <body class=\"bg-gradient-light\"> <div class=\"d-flex bg-gradient-light\" id=\"full-wrapper\"> <div class=\"bg-gradient-dark text-white shadow\" data-wg-type=\"sidebar\" id=\"sidebar-wrapper\"> <div class=\"sidebar-heading\">Et</div> <div class=\"list-group list-group-flush\" style=\"width:28vh;\"> <a class=\"list-group-item list-group-item-action\" href=\"#\">Laboris dolor</a> <a class=\"list-group-item list-group-item-action\" href=\"#\">Et culpa enim</a> <a class=\"list-group-item list-group-item-action\" href=\"#\">Occaecat id</a> <a class=\"list-group-item list-group-item-action\" href=\"#\">Id deserunt</a> </div> </div> <div class=\"w-100\"> <nav class=\"bg-gradient-dark navbar-dark shadow navbar navbar-expand-md\" data-wg-type=\"navbar\"> <a class=\"navbar-brand\" href=\"#\">Culpa</a> <button class=\"navbar-toggler\" data-target=\"#main-nav\" data-toggle=\"collapse\" type=\"button\"> <span class=\"navbar-toggler-icon\"></span> </button> <div class=\"collapse navbar-collapse\" id=\"main-nav\" style=\"height: 7vh;\"> <ul class=\"navbar-nav mr-auto\"> <li class=\"nav-item\"> <a class=\"nav-link\" href=\"#\">Officia ut id</a> </li> <li class=\"nav-item\"> <a class=\"nav-link\" href=\"#\">Eu voluptate</a> </li> <li class=\"nav-item\"> <a class=\"nav-link\" href=\"#\">Amet dolore</a> </li> <li class=\"nav-item\"> <a class=\"nav-link\" href=\"#\">Cillum minim</a> </li> </ul> </div> </nav> <div class=\"container-fluid py-3\" id=\"page-content\"> <form class=\"p-3\" data-wg-type=\"form\"> <div class=\"form-row\"> <div class=\"form-group col-md\"> <label for=\"irure_laborum\">Irure laborum</label> <input class=\"form-control\" data-wg-type=\"time\" id=\"irure_laborum\" type=\"time\"> </div> <div class=\"form-group col-md\"> <label for=\"quis\">Quis</label> <input class=\"form-control\" data-wg-type=\"text\" id=\"quis\" type=\"text\"> </div> </div> <div class=\"form-group\"> <label for=\"ex\">Ex</label> <input class=\"form-control\" data-wg-type=\"text\" id=\"ex\" type=\"text\"> </div> <div class=\"form-row\"> <div class=\"form-group col-md\"> <label for=\"sit_in_commodo\">Sit in commodo</label> <input class=\"form-control\" data-wg-type=\"time\" id=\"sit_in_commodo\" type=\"time\"> </div> <div class=\"form-group col-md\"> <label for=\"consequat\">Consequat</label> <input class=\"form-control\" data-wg-type=\"text\" id=\"consequat\" type=\"text\"> </div> </div> <div class=\"form-row\"> <div class=\"form-group col-md\"> <label for=\"eiusmod_aliquip\">Eiusmod aliquip</label> <input class=\"form-control\" data-wg-type=\"text\" id=\"eiusmod_aliquip\" type=\"text\"> </div> <div class=\"form-group col-md\"> <label for=\"dolore_sint_laboris\">Dolore sint laboris</label> <select class=\"form-control\" data-wg-type=\"select\" id=\"dolore_sint_laboris\"> <option>Id ipsum cillum</option> <option>Ex</option> <option>Incididunt enim duis</option> </select> </div> </div> <div class=\"form-row\"> <div class=\"form-group col-md\"> <label for=\"mollit_proident\">Mollit proident</label> <input class=\"form-control\" data-wg-type=\"text\" id=\"mollit_proident\" type=\"text\"> </div> <div class=\"form-group col-md\"> <label for=\"mollit\">Mollit</label> <input class=\"custom-range\" data-wg-type=\"range\" id=\"mollit\" type=\"range\"> </div> <div class=\"form-group col-md\"> <label for=\"ullamco_elit\">Ullamco elit</label> <input class=\"form-control\" data-wg-type=\"text\" id=\"ullamco_elit\" type=\"text\"> </div> </div> <div class=\"form-row\"> <div class=\"form-group col-md\"> <label for=\"elit\">Elit</label> <select class=\"form-control\" data-wg-type=\"select\" id=\"elit\"> <option>Duis et</option> <option>Cupidatat</option> <option>Aliquip</option> <option>Amet</option> <option>Adipiscing</option> <option>Laborum fugiat magna</option> </select> </div> <div class=\"form-group col-md\"> <label for=\"sit_do_eiusmod\">Sit do eiusmod</label> <input class=\"form-control\" data-wg-type=\"text\" id=\"sit_do_eiusmod\" type=\"text\"> </div> <div class=\"form-group col-md\"> <label for=\"duis\">Duis</label> <input class=\"form-control\" data-wg-type=\"text\" id=\"duis\" type=\"text\"> </div> </div> <div class=\"form-row\"> <div class=\"form-group col-md\"> <label for=\"non_dolor\">Non dolor</label> <input class=\"custom-range\" data-wg-type=\"range\" id=\"non_dolor\" type=\"range\"> </div> <div class=\"form-group col-md\"> <label for=\"ipsum_aliqua_amet\">Ipsum aliqua amet</label> <input class=\"form-control\" data-wg-type=\"text\" id=\"ipsum_aliqua_amet\" type=\"text\"> </div> <div class=\"form-group col-md\"> <label for=\"sed\">Sed</label> <input class=\"form-control\" data-wg-type=\"time\" id=\"sed\" type=\"time\"> </div> </div> <div class=\"form-row\"> <div class=\"form-group col-md\"> <label for=\"aute_exercitation_veniam\">Aute exercitation veniam</label> <input class=\"form-control\" data-wg-type=\"date\" id=\"aute_exercitation_veniam\" type=\"date\"> </div> <div class=\"form-group col-md\"> <label for=\"quis\">Quis</label> <input class=\"form-control\" data-wg-type=\"date\" id=\"quis\" type=\"date\"> </div> </div> <div class=\"form-group\"> <label for=\"officia\">Officia</label> <input class=\"custom-range\" data-wg-type=\"range\" id=\"officia\" type=\"range\"> </div> <div class=\"form-group\"> <label for=\"eu\">Eu</label> <input class=\"form-control\" data-wg-type=\"date\" id=\"eu\" type=\"date\"> </div> </form> </div> </div> </div> </body> </html>\n",
            "      Bleu: 0.95\n",
            "\n",
            "Prediction: <!DOCTYPE html> <html> <head> <title>Dominate</title> <meta content=\"{&quot;primary&quot;: &quot;rgb(203, 201, 226)&quot;, &quot;secondary&quot;: &quot;rgb(158, 154, 200)&quot;, &quot;light&quot;: &quot;rgb(242, 240, 247)&quot;, &quot;dark&quot;: &quot;rgb(106, 81, 163)&quot;, &quot;enable-gradients&quot;: false}\" name=\"wg-palette\"> <meta content=\"width=device-width, initial-scale=1.0\" name=\"viewport\"> <meta content=\"Web Generator\" name=\"author\"> <meta content=\"3\" name=\"wg-layout\"> <link href=\"../css/custom-bootstrap.css\" rel=\"stylesheet\"> <link href=\"../css/wg-extras.css\" rel=\"stylesheet\"> <script src=\"../js/jquery-3.2.1.slim.min.js\" type=\"text/javascript\"></script> <script src=\"../js/bootstrap.min.js\" type=\"text/javascript\"></script> </head> <body class=\"\"> <div class=\" rounded shadow-lg\" id=\"full-wrapper\"> <header class=\"bg-secondary rounded shadow-lg d-flex align-items-center justify-content-center\" data-wg-type=\"header\" style=\"height: 26vh;\"> <h1 class=\"p-2 text-center\">Dolor Eu</h1> </header> <div class=\"d-flex\"> <div class=\"container-fluid py-3\" id=\"page-content\"> <div class=\"row my-3 wg-detect\" data-wg-type=\"mix\"> <div class=\"col\"> <table class=\"bg-white table\" data-wg-type=\"table\"> <tr> <td>aliqua</td> <td>laborum</td> <td>qui</td> <td>0</td> </tr> <tr> <td>id</td> <td>ullamco</td> <td>magna</td> <td>0</td> </tr> </table> </div> <div class=\"col\"> <h1 class=\"wg-detect\" data-wg-type=\"heading\">Sunt ut aliquip irure lorem, velit ad laborum et tempor aliqua non.</h1> </div> </div> <div class=\"row my-3 wg-detect\" data-wg-type=\"mix\"> <div class=\"col\"> <div class=\"text-center wg-detect\" data-wg-type=\"featured_item\"> <span class=\"text-black rounded-circle mx-auto placeholder\" style=\"width: 113px;height: 113px;\"> <span>113x113</span> </span> <h2>Dolor laborum lorem</h2> <p>Occaecat proident culpa sint commodo enim duis est</p> <a class=\"btn btn-primary\" href=\"#\">Labore veniam</a> </div> </div> <div class=\"col\"> <h1 class=\"wg-detect\" data-wg-type=\"heading\">Eu sed excepteur incididunt lorem ad laborum.</h1> </div> <div class=\"col\"> <h1 class=\"wg-detect\" data-wg-type=\"heading\">Excepteur pariatur dolor sunt ad et elit ea.</h1> </div> </div> </div> <div class=\"bg-light rounded shadow-lg\" data-wg-type=\"sidebar\" id=\"sidebar-wrapper\"> <div class=\"sidebar-heading\">Mollit</div> <div class=\"list-group list-group-flush\" style=\"width:27vh;\"> <a class=\"list-group-item list-group-item-action\" href=\"#\">Sed elit ad</a> <a class=\"list-group-item list-group-item-action\" href=\"#\">Reprehenderit</a> </div> </div> </div> <footer class=\" rounded shadow-lg jumbotron mb-0\" data-wg-type=\"footer\" style=\"height: 28vh;\"> <div class=\"container\"> <span class=\"text-muted\">Dolor ea sed nulla amet eiusmod enim in excepteur</span> </div> </footer> </div> </body> </html>\n",
            "    Answer: <!DOCTYPE html> <html> <head> <title>Dominate</title> <meta content=\"{&quot;primary&quot;: &quot;rgb(252, 174, 145)&quot;, &quot;secondary&quot;: &quot;rgb(251, 106, 74)&quot;, &quot;light&quot;: &quot;rgb(254, 229, 217)&quot;, &quot;dark&quot;: &quot;rgb(203, 24, 29)&quot;, &quot;enable-gradients&quot;: true}\" name=\"wg-palette\"> <meta content=\"width=device-width, initial-scale=1.0\" name=\"viewport\"> <meta content=\"Web Generator\" name=\"author\"> <meta content=\"3\" name=\"wg-layout\"> <link href=\"../css/custom-bootstrap.css\" rel=\"stylesheet\"> <link href=\"../css/wg-extras.css\" rel=\"stylesheet\"> <script src=\"../js/jquery-3.2.1.slim.min.js\" type=\"text/javascript\"></script> <script src=\"../js/bootstrap.min.js\" type=\"text/javascript\"></script> </head> <body class=\"\"> <div class=\" shadow\" id=\"full-wrapper\"> <header class=\"bg-gradient-secondary shadow d-flex align-items-center justify-content-center\" data-wg-type=\"header\" style=\"height: 24vh;\"> <h1 class=\"p-2 text-center\">Dolor Eu</h1> </header> <div class=\"d-flex\"> <div class=\"container-fluid py-3\" id=\"page-content\"> <div class=\"row my-3 wg-detect\" data-wg-type=\"mix\"> <div class=\"col\"> <table class=\"bg-white table-striped table\" data-wg-type=\"table\"> <tr> <td>aliqua</td> <td>laborum</td> <td>qui</td> <td>0</td> </tr> <tr> <td>id</td> <td>ullamco</td> <td>magna</td> <td>0</td> </tr> </table> </div> <div class=\"col\"> <h1 class=\"wg-detect\" data-wg-type=\"heading\">Sunt ut aliquip irure lorem, velit ad laborum et tempor aliqua non.</h1> </div> </div> <div class=\"row my-3 wg-detect\" data-wg-type=\"mix\"> <div class=\"col\"> <div class=\"text-center wg-detect\" data-wg-type=\"featured_item\"> <span class=\"text-black rounded-circle mx-auto shadow placeholder\" style=\"width: 113px;height: 113px;\"> <span>113x113</span> </span> <h2>Dolor laborum lorem</h2> <p>Occaecat proident culpa sint commodo enim duis est</p> <a class=\"btn btn-primary\" href=\"#\">Labore veniam</a> </div> </div> <div class=\"col\"> <h1 class=\"wg-detect\" data-wg-type=\"heading\">Eu sed excepteur incididunt lorem ad laborum.</h1> </div> <div class=\"col\"> <h1 class=\"wg-detect\" data-wg-type=\"heading\">Excepteur pariatur dolor sunt ad et elit ea.</h1> </div> </div> </div> <div class=\"bg-gradient-light shadow\" data-wg-type=\"sidebar\" id=\"sidebar-wrapper\"> <div class=\"sidebar-heading\">Mollit</div> <div class=\"list-group list-group-flush\" style=\"width:28vh;\"> <a class=\"list-group-item list-group-item-action\" href=\"#\">Sed elit ad</a> <a class=\"list-group-item list-group-item-action\" href=\"#\">Reprehenderit</a> </div> </div> </div> <footer class=\" shadow jumbotron mb-0\" data-wg-type=\"footer\" style=\"height: 28vh;\"> <div class=\"container\"> <span class=\"text-muted\">Dolor ea sed nulla amet eiusmod enim in excepteur</span> </div> </footer> </div> </body> </html>\n",
            "      Bleu: 0.98\n",
            "\n",
            "Prediction: <!DOCTYPE html> <html> <head> <title>Dominate</title> <meta content=\"{&quot;primary&quot;: &quot;rgb(189, 201, 225)&quot;, &quot;secondary&quot;: &quot;rgb(116, 169, 207)&quot;, &quot;light&quot;: &quot;rgb(241, 238, 246)&quot;, &quot;dark&quot;: &quot;rgb(5, 112, 176)&quot;, &quot;enable-gradients&quot;: false}\" name=\"wg-palette\"> <meta content=\"width=device-width, initial-scale=1.0\" name=\"viewport\"> <meta content=\"Web Generator\" name=\"author\"> <meta content=\"4\" name=\"wg-layout\"> <link href=\"../css/custom-bootstrap.css\" rel=\"stylesheet\"> <link href=\"../css/wg-extras.css\" rel=\"stylesheet\"> <script src=\"../js/jquery-3.2.1.slim.min.js\" type=\"text/javascript\"></script> <script src=\"../js/bootstrap.min.js\" type=\"text/javascript\"></script> </head> <body class=\"\"> <div class=\" rounded\" id=\"full-wrapper\"> <div class=\"d-flex\"> <div class=\"bg-light rounded\" data-wg-type=\"sidebar\" id=\"sidebar-wrapper\"> <div class=\"sidebar-heading\">Mollit</div> <div class=\"list-group list-group-flush\" style=\"width:27vh;\"> <a class=\"list-group-item list-group-item-action\" href=\"#\">Laborum enim</a> <a class=\"list-group-item list-group-item-action\" href=\"#\">Non officia</a> <a class=\"list-group-item list-group-item-action\" href=\"#\">Aliqua velit</a> <a class=\"list-group-item list-group-item-action\" href=\"#\">Nisi non sit</a> <a class=\"list-group-item list-group-item-action\" href=\"#\">Laboris in et</a> <a class=\"list-group-item list-group-item-action\" href=\"#\">Pariatur anim</a> </div> </div> <div class=\"w-100\"> <nav class=\"bg-light navbar-light rounded navbar navbar-expand-md\" data-wg-type=\"navbar\"> <a class=\"navbar-brand\" href=\"#\">Occaecat</a> <button class=\"navbar-toggler\" data-target=\"#main-nav\" data-toggle=\"collapse\" type=\"button\"> <span class=\"navbar-toggler-icon\"></span> </button> <div class=\"collapse navbar-collapse\" id=\"main-nav\" style=\"height: 7vh;\"> <ul class=\"navbar-nav mx-auto\"> <li class=\"nav-item\"> <a class=\"nav-link\" href=\"#\">Veniam mollit</a> </li> <li class=\"nav-item\"> <a class=\"nav-link\" href=\"#\">Proident elit</a> </li> <li class=\"nav-item\"> <a class=\"nav-link\" href=\"#\">Incididunt id</a> </li> <li class=\"nav-item\"> <a class=\"nav-link\" href=\"#\">Laboris minim</a> </li> </ul> </div> </nav> <header class=\"bg-secondary rounded d-flex align-items-center justify-content-center\" data-wg-type=\"header\" style=\"height: 31vh;\"> <h1 class=\"p-2 text-center\">Esse Ut Nisi Lorem Amet Id Consectetur</h1> </header> <div class=\"container-fluid py-3\" id=\"page-content\"> <div class=\"row my-3 wg-detect\" data-wg-type=\"mix\"> <div class=\"col\"> <p class=\"wg-detect\" data-wg-type=\"paragraph\">Cillum est ad eu aliquip fugiat elit, officia amet et tempor incididunt duis nisi. Amet esse tempor deserunt fugiat est anim. Aliquip culpa pariatur proident exercitation eu. Commodo commodo ullamco commodo nostrud nostrud. Qui laboris ipsum ullamco duis mollit nulla. Culpa excepteur magna dolore nisi aliqua, voluptate elit cupidatat nisi nisi enim anim.</p> </div> </div> <div class=\"row my-3 wg-detect\" data-wg-type=\"mix\"> <div class=\"col\"> <p class=\"wg-detect\" data-wg-type=\"paragraph\">Ea est velit nulla irure anim nulla. Aute nostrud nulla occaecat ea labore et. Laboris ullamco commodo velit cupidatat tempor, laboris anim tempor lorem laboris aliqua commodo excepteur, anim mollit ut dolore anim.</p> </div> <div class=\"col\"> <p class=\"wg-detect\" data-wg-type=\"paragraph\">Laborum occaecat eu tempor fugiat esse cupidatat. Aliqua nisi et eu tempor occaecat eu. Enim veniam consequat sed irure magna consequat. In adipiscing aliqua sint officia non excepteur mollit. Sed nostrud in aliqua enim anim. Dolore voluptate est et laboris est. Veniam laboris laborum exercitation anim commodo. Sint consectetur incididunt pariatur velit occaecat. Et reprehenderit ullamco anim pariatur velit occaecat, et reprehenderit nostrud ullamco ullamco adipiscing. Sed officia ad ullamco cillum ut ea.</p> </div> <div class=\"col\"> <h1 class=\"wg-detect\" data-wg-type=\"heading\">Laboris fugiat aliquip eiusmod elit duis.</h1> </div> </div> <div class=\"row wg-detect\" data-wg-type=\"cards\"> <div class=\"col\"> <div class=\"card-columns\"> <div class=\"text-black card\"> <span class=\"card-img-top placeholder\" style=\"height: 100px;\"></span> <div class=\"card-body\"> <h5 class=\"card-title\">Minim aliquip do ad</h5> <p class=\"card-text\">Tempor sunt est adipiscing eiusmod duis occaecat ut</p> <div class=\"d-flex justify-content-between align-items-center\"> <div class=\"btn-group\"> <button class=\"btn btn-sm btn-outline-secondary\" type=\"button\">Excepteur anim</button> </div> <small class=\"text-muted\">Ipsum anim in</small> </div> </div> </div> <div class=\"text-black card\"> <span class=\"card-img-top placeholder\" style=\"height: 100px;\"></span> <div class=\"card-body\"> <h5 class=\"card-title\">Irure veniam labore</h5> <p class=\"card-text\">Id elit ut voluptate nisi officia aliqua laboris</p> <div class=\"d-flex justify-content-between align-items-center\"> <div class=\"btn-group\"> <button class=\"btn btn-sm btn-outline-secondary\" type=\"button\">Magna eu amet</button> </div> <small class=\"text-muted\">Et sunt amet</small> </div> </div> </div> <div class=\"text-black card\"> <span class=\"card-img-top placeholder\" style=\"height: 100px;\"></span> <div class=\"card-body\"> <h5 class=\"card-title\">Dolor velit fugiat</h5> <p class=\"card-text\">Enim excepteur ullamco eiusmod dolor sed</p> <div class=\"d-flex justify-content-between align-items-center\"> <div class=\"btn-group\"> <button class=\"btn btn-sm btn-outline-secondary\" type=\"button\">Tempor aliqua</button> </div> <small class=\"text-muted\">Excepteur do</small> </div> </div> </div> <div class=\"text-black card\"> <span class=\"card-img-top placeholder\" style=\"height: 100px;\"></span> <div class=\"card-body\"> <h5 class=\"card-title\">Aliquip culpa esse</h5> <p class=\"card-text\">Commodo reprehenderit pariatur consectetur amet do</p> <div class=\"d-flex justify-content-between align-items-center\"> <div class=\"btn-group\"> <button class=\"btn btn-sm btn-outline-secondary\" type=\"button\">Exercitation</button> </div> <small class=\"text-muted\">Reprehenderit</small> </div> </div> </div> <div class=\"text-black card\"> <span class=\"card-img-top placeholder\" style=\"height: 100px;\"></span> <div class=\"card-body\"> <h5 class=\"card-title\">Esse nisi non ipsum</h5> <p class=\"card-text\">Sint adipiscing ad laboris in in ipsum officia do</p> <div class=\"d-flex justify-content-between align-items-center\"> <div class=\"btn-group\"> <button class=\"btn btn-sm btn-outline-secondary\" type=\"button\">Veniam ipsum</button> </div> <small class=\"text-muted\">Eiusmod amet</small> </div> </div> </div> </div> </div> </div> </div> </div> </div> <footer class=\" rounded jumbotron mb-0\" data-wg-type=\"footer\" style=\"height: 11vh;\"> <div class=\"container\"> <span class=\"text-muted\">Voluptate do cillum excepteur id dolore velit duis</span> </div> </footer> </div> </body> </html>\n",
            "    Answer: <!DOCTYPE html> <html> <head> <title>Dominate</title> <meta content=\"{&quot;primary&quot;: &quot;rgb(100, 180, 99)&quot;, &quot;secondary&quot;: &quot;rgb(18, 110, 69)&quot;, &quot;light&quot;: &quot;rgb(215, 249, 208)&quot;, &quot;dark&quot;: &quot;rgb(18, 36, 20)&quot;, &quot;enable-gradients&quot;: false}\" name=\"wg-palette\"> <meta content=\"width=device-width, initial-scale=1.0\" name=\"viewport\"> <meta content=\"Web Generator\" name=\"author\"> <meta content=\"4\" name=\"wg-layout\"> <link href=\"../css/custom-bootstrap.css\" rel=\"stylesheet\"> <link href=\"../css/wg-extras.css\" rel=\"stylesheet\"> <script src=\"../js/jquery-3.2.1.slim.min.js\" type=\"text/javascript\"></script> <script src=\"../js/bootstrap.min.js\" type=\"text/javascript\"></script> </head> <body class=\"\"> <div class=\" shadow\" id=\"full-wrapper\"> <div class=\"d-flex\"> <div class=\"bg-light shadow\" data-wg-type=\"sidebar\" id=\"sidebar-wrapper\"> <div class=\"sidebar-heading\">Mollit</div> <div class=\"list-group list-group-flush\" style=\"width:28vh;\"> <a class=\"list-group-item list-group-item-action\" href=\"#\">Laborum enim</a> <a class=\"list-group-item list-group-item-action\" href=\"#\">Non officia</a> <a class=\"list-group-item list-group-item-action\" href=\"#\">Aliqua velit</a> <a class=\"list-group-item list-group-item-action\" href=\"#\">Nisi sed sit</a> <a class=\"list-group-item list-group-item-action\" href=\"#\">Labore in et</a> <a class=\"list-group-item list-group-item-action\" href=\"#\">Pariatur anim</a> </div> </div> <div class=\"w-100\"> <nav class=\"bg-light navbar-light shadow navbar navbar-expand-md\" data-wg-type=\"navbar\"> <a class=\"navbar-brand\" href=\"#\">Occaecat</a> <button class=\"navbar-toggler\" data-target=\"#main-nav\" data-toggle=\"collapse\" type=\"button\"> <span class=\"navbar-toggler-icon\"></span> </button> <div class=\"collapse navbar-collapse\" id=\"main-nav\" style=\"height: 9vh;\"> <ul class=\"navbar-nav mx-auto\"> <li class=\"nav-item\"> <a class=\"nav-link\" href=\"#\">Veniam mollit</a> </li> <li class=\"nav-item\"> <a class=\"nav-link\" href=\"#\">Proident elit</a> </li> <li class=\"nav-item\"> <a class=\"nav-link\" href=\"#\">Incididunt et</a> </li> <li class=\"nav-item\"> <a class=\"nav-link\" href=\"#\">Laboris enim</a> </li> </ul> </div> </nav> <header class=\"bg-secondary text-white shadow d-flex align-items-center justify-content-center\" data-wg-type=\"header\" style=\"height: 38vh;\"> <h1 class=\"p-2 text-center\">Esse Ut Nisi Lorem Amet Id Consectetur</h1> </header> <div class=\"container-fluid py-3\" id=\"page-content\"> <div class=\"row my-3 wg-detect\" data-wg-type=\"mix\"> <div class=\"col\"> <p class=\"wg-detect\" data-wg-type=\"paragraph\">Cillum sint sit ea aliquip fugiat elit, officia deserunt tempor incididunt id eu est. Nulla esse tempor deserunt fugiat est anim. Aliquip culpa pariatur proident exercitation eu. Commodo sint anim culpa ipsum occaecat magna amet. Duis officia ipsum anim occaecat dolore non nostrud. Qui laboris ipsum ullamco duis mollit nulla. Culpa excepteur magna dolore nisi aliqua, voluptate elit cupidatat nisi nisi enim anim.</p> </div> </div> <div class=\"row my-3 wg-detect\" data-wg-type=\"mix\"> <div class=\"col\"> <p class=\"wg-detect\" data-wg-type=\"paragraph\">Id ea velit nulla irure anim nulla. Aute nostrud nulla ut occaecat ea laboris et. Consequat dolore laborum velit cupidatat veniam. Nisi aliquip lorem dolor irure minim. Anim ex adipiscing occaecat ut ipsum culpa consequat, ullamco reprehenderit occaecat esse fugiat nulla sint, qui occaecat ut non sit minim. Voluptate mollit aliquip nisi lorem ad amet enim, ullamco fugiat ullamco aliquip incididunt velit cupidatat tempor. Excepteur laboris deserunt anim ipsum amet laboris, aliqua commodo excepteur anim mollit ut dolore.</p> </div> <div class=\"col\"> <p class=\"wg-detect\" data-wg-type=\"paragraph\">Laborum occaecat eu tempor fugiat esse cupidatat. Aliqua nisi id eu qui esse. Elit cillum minim pariatur sit lorem ex, lorem veniam consequat sed duis magna consequat in, adipiscing aliqua sint officia ea excepteur mollit. Sed ex in aliqua anim anim. Dolore reprehenderit occaecat voluptate est id, labore est dolore laboris laborum exercitation anim commodo. Sint consectetur amet laborum pariatur velit occaecat. Id reprehenderit amet id labore aliqua ullamco adipiscing, sed officia ad ullamco cillum id ex.</p> </div> <div class=\"col\"> <h1 class=\"wg-detect\" data-wg-type=\"heading\">Laboris fugiat aliquip eiusmod elit duis.</h1> </div> </div> <div class=\"row wg-detect\" data-wg-type=\"cards\"> <div class=\"col\"> <div class=\"card-columns\"> <div class=\"text-black shadow card\"> <span class=\"card-img-top placeholder\" style=\"height: 100px;\"></span> <div class=\"card-body\"> <h5 class=\"card-title\">Minim aliquip do ad</h5> <p class=\"card-text\">Tempor sunt do adipiscing eiusmod duis occaecat ut</p> <div class=\"d-flex justify-content-between align-items-center\"> <div class=\"btn-group\"> <button class=\"btn btn-sm btn-outline-secondary\" type=\"button\">Labore ipsum</button> </div> <small class=\"text-muted\">Dolore ex ad</small> </div> </div> </div> <div class=\"text-black shadow card\"> <span class=\"card-img-top placeholder\" style=\"height: 100px;\"></span> <div class=\"card-body\"> <h5 class=\"card-title\">Irure veniam dolor</h5> <p class=\"card-text\">Id elit id ut voluptate nisi officia aliqua labore</p> <div class=\"d-flex justify-content-between align-items-center\"> <div class=\"btn-group\"> <button class=\"btn btn-sm btn-outline-secondary\" type=\"button\">Fugiat ex est</button> </div> <small class=\"text-muted\">Fugiat esse</small> </div> </div> </div> <div class=\"text-black shadow card\"> <span class=\"card-img-top placeholder\" style=\"height: 100px;\"></span> <div class=\"card-body\"> <h5 class=\"card-title\">Dolor velit fugiat</h5> <p class=\"card-text\">Anim consequat excepteur ullamco eiusmod dolor sed</p> <div class=\"d-flex justify-content-between align-items-center\"> <div class=\"btn-group\"> <button class=\"btn btn-sm btn-outline-secondary\" type=\"button\">Tempor ipsum</button> </div> <small class=\"text-muted\">Et excepteur</small> </div> </div> </div> <div class=\"text-black shadow card\"> <span class=\"card-img-top placeholder\" style=\"height: 100px;\"></span> <div class=\"card-body\"> <h5 class=\"card-title\">Aliquip culpa esse</h5> <p class=\"card-text\">Commodo reprehenderit pariatur anim aliqua amet do</p> <div class=\"d-flex justify-content-between align-items-center\"> <div class=\"btn-group\"> <button class=\"btn btn-sm btn-outline-secondary\" type=\"button\">Incididunt do</button> </div> <small class=\"text-muted\">Reprehenderit</small> </div> </div> </div> <div class=\"text-black shadow card\"> <span class=\"card-img-top placeholder\" style=\"height: 100px;\"></span> <div class=\"card-body\"> <h5 class=\"card-title\">Esse nisi non ipsum</h5> <p class=\"card-text\">Elit adipiscing ad laboris id in ipsum officia do</p> <div class=\"d-flex justify-content-between align-items-center\"> <div class=\"btn-group\"> <button class=\"btn btn-sm btn-outline-secondary\" type=\"button\">Et est ipsum</button> </div> <small class=\"text-muted\">Consequat sit</small> </div> </div> </div> </div> </div> </div> </div> </div> </div> <footer class=\" shadow jumbotron mb-0\" data-wg-type=\"footer\" style=\"height: 15vh;\"> <div class=\"container\"> <span class=\"text-muted\">Voluptate do cillum excepteur id dolore velit duis</span> </div> </footer> </div> </body> </html>\n",
            "      Bleu: 0.77\n",
            "\n",
            "Prediction: <!DOCTYPE html> <html> <head> <title>Dominate</title> <meta content=\"{&quot;primary&quot;: &quot;rgb(189, 201, 225)&quot;, &quot;secondary&quot;: &quot;rgb(103, 169, 207)&quot;, &quot;light&quot;: &quot;rgb(246, 239, 247)&quot;, &quot;dark&quot;: &quot;rgb(2, 129, 138)&quot;, &quot;enable-gradients&quot;: false}\" name=\"wg-palette\"> <meta content=\"width=device-width, initial-scale=1.0\" name=\"viewport\"> <meta content=\"Web Generator\" name=\"author\"> <meta content=\"3\" name=\"wg-layout\"> <link href=\"../css/custom-bootstrap.css\" rel=\"stylesheet\"> <link href=\"../css/wg-extras.css\" rel=\"stylesheet\"> <script src=\"../js/jquery-3.2.1.slim.min.js\" type=\"text/javascript\"></script> <script src=\"../js/bootstrap.min.js\" type=\"text/javascript\"></script> </head> <body class=\"bg-dark\"> <div class=\"bg-light rounded\" id=\"full-wrapper\"> <nav class=\"bg-dark navbar-dark rounded navbar navbar-expand-md\" data-wg-type=\"navbar\"> <button class=\"navbar-toggler\" data-target=\"#main-nav\" data-toggle=\"collapse\" type=\"button\"> <span class=\"navbar-toggler-icon\"></span> </button> <div class=\"collapse navbar-collapse\" id=\"main-nav\" style=\"height: 7vh;\"> <ul class=\"navbar-nav ml-auto\"> <li class=\"nav-item\"> <a class=\"nav-link\" href=\"#\">Id duis dolor</a> </li> <li class=\"nav-item\"> <a class=\"nav-link\" href=\"#\">Ipsum tempor</a> </li> <li class=\"nav-item\"> <a class=\"nav-link\" href=\"#\">Do nulla qui</a> </li> <li class=\"nav-item\"> <a class=\"nav-link\" href=\"#\">Aliquip velit</a> </li> <li class=\"nav-item\"> <a class=\"nav-link\" href=\"#\">Aliquip culpa</a> </li> <li class=\"nav-item\"> <a class=\"nav-link\" href=\"#\">Consequat id</a> </li> </ul> </div> </nav> <header class=\"bg-primary rounded d-flex align-items-center justify-content-center\" data-wg-type=\"header\" style=\"height: 17vh;\"> <h1 class=\"p-2 text-center\">Deserunt Incididunt In</h1> </header> <div class=\"d-flex\"> <div class=\"bg-secondary rounded\" data-wg-type=\"sidebar\" id=\"sidebar-wrapper\"> <div class=\"list-group list-group-flush\" style=\"width:27vh;\"> <a class=\"list-group-item list-group-item-action\" href=\"#\">Magna sint in</a> <a class=\"list-group-item list-group-item-action\" href=\"#\">Ullamco ex ad</a> <a class=\"list-group-item list-group-item-action\" href=\"#\">Sit excepteur</a> </div> </div> <div class=\"container-fluid py-3\" id=\"page-content\"> <div class=\"row wg-detect\" data-wg-type=\"cards\"> <div class=\"col\"> <div class=\"card-columns\"> <div class=\"text-black card\"> <div class=\"card-body\"> <h5 class=\"card-title\">Eu ad consequat eu</h5> <p class=\"card-text\">Magna dolor esse nisi ullamco occaecat fugiat est</p> <div class=\"d-flex justify-content-between align-items-center\"> <div class=\"btn-group\"> <button class=\"btn btn-sm btn-outline-secondary\" type=\"button\">Lorem sint eu</button> </div> <small class=\"text-muted\">Nostrud amet</small> </div> </div> </div> <div class=\"text-black card\"> <div class=\"card-body\"> <h5 class=\"card-title\">Fugiat exercitation</h5> <p class=\"card-text\">Elit est culpa consequat ipsum dolore dolor lorem</p> <div class=\"d-flex justify-content-between align-items-center\"> <div class=\"btn-group\"> <button class=\"btn btn-sm btn-outline-secondary\" type=\"button\">Nostrud sint</button> </div> <small class=\"text-muted\">Non cillum ad</small> </div> </div> </div> <div class=\"text-black card\"> <div class=\"card-body\"> <h5 class=\"card-title\">Non sunt mollit ut</h5> <p class=\"card-text\">Exercitation excepteur pariatur ullamco esse nisi</p> <div class=\"d-flex justify-content-between align-items-center\"> <div class=\"btn-group\"> <button class=\"btn btn-sm btn-outline-secondary\" type=\"button\">Magna cillum</button> </div> <small class=\"text-muted\">Consectetur</small> </div> </div> </div> <div class=\"text-black card\"> <div class=\"card-body\"> <h5 class=\"card-title\">Consequat quis sit</h5> <p class=\"card-text\">Voluptate minim nulla cupidatat deserunt cillum id</p> <div class=\"d-flex justify-content-between align-items-center\"> <div class=\"btn-group\"> <button class=\"btn btn-sm btn-outline-secondary\" type=\"button\">Sunt deserunt</button> </div> <small class=\"text-muted\">Ea aute qui</small> </div> </div> </div> </div> </div> </div> <div class=\"m-3 wg-detect\" data-wg-type=\"tabs\"> <div class=\"nav nav-tabs\"> <a aria-controls=\"occaecat\" class=\"nav-item nav-link active\" data-toggle=\"tab\" href=\"#occaecat\" id=\"occaecat-tab\" role=\"tab\">Occaecat</a> <a aria-controls=\"aliquip\" class=\"nav-item nav-link\" data-toggle=\"tab\" href=\"#aliquip\" id=\"aliquip-tab\" role=\"tab\">Aliquip</a> </div> <div class=\"tab-content\"> <div aria-labelledby=\"occaecat\" class=\"tab-pane fade border p-3 show active\" id=\"occaecat\" role=\"tabpanel\">Consequat eu irure consequat sunt, nostrud enim duis enim laboris.</div> <div aria-labelledby=\"aliquip\" class=\"tab-pane fade border p-3\" id=\"aliquip\" role=\"tabpanel\">Ea aliqua commodo aliquip.</div> </div> </div> </div> </div> </div> </body> </html>\n",
            "    Answer: <!DOCTYPE html> <html> <head> <title>Dominate</title> <meta content=\"{&quot;primary&quot;: &quot;rgb(118, 164, 229)&quot;, &quot;secondary&quot;: &quot;rgb(118, 66, 165)&quot;, &quot;light&quot;: &quot;rgb(230, 241, 241)&quot;, &quot;dark&quot;: &quot;rgb(54, 14, 36)&quot;, &quot;enable-gradients&quot;: true}\" name=\"wg-palette\"> <meta content=\"width=device-width, initial-scale=1.0\" name=\"viewport\"> <meta content=\"Web Generator\" name=\"author\"> <meta content=\"2\" name=\"wg-layout\"> <link href=\"../css/custom-bootstrap.css\" rel=\"stylesheet\"> <link href=\"../css/wg-extras.css\" rel=\"stylesheet\"> <script src=\"../js/jquery-3.2.1.slim.min.js\" type=\"text/javascript\"></script> <script src=\"../js/bootstrap.min.js\" type=\"text/javascript\"></script> </head> <body class=\"bg-gradient-dark\"> <div class=\"bg-gradient-light shadow\" id=\"full-wrapper\"> <nav class=\"bg-gradient-dark navbar-dark shadow navbar navbar-expand-md\" data-wg-type=\"navbar\"> <button class=\"navbar-toggler\" data-target=\"#main-nav\" data-toggle=\"collapse\" type=\"button\"> <span class=\"navbar-toggler-icon\"></span> </button> <div class=\"collapse navbar-collapse\" id=\"main-nav\" style=\"height: 6vh;\"> <ul class=\"navbar-nav ml-auto\"> <li class=\"nav-item\"> <a class=\"nav-link\" href=\"#\">Id duis dolor</a> </li> <li class=\"nav-item\"> <a class=\"nav-link\" href=\"#\">Ipsum tempor</a> </li> <li class=\"nav-item\"> <a class=\"nav-link\" href=\"#\">Do nulla qui</a> </li> <li class=\"nav-item\"> <a class=\"nav-link\" href=\"#\">Aliquip velit</a> </li> <li class=\"nav-item\"> <a class=\"nav-link\" href=\"#\">Aliquip culpa</a> </li> <li class=\"nav-item\"> <a class=\"nav-link\" href=\"#\">Consequat id</a> </li> </ul> </div> </nav> <header class=\"bg-gradient-primary shadow d-flex align-items-center justify-content-center\" data-wg-type=\"header\" style=\"height: 16vh;\"> <h1 class=\"p-2 text-center\">Deserunt Incididunt In</h1> </header> <div class=\"d-flex\"> <div class=\"bg-gradient-secondary text-white shadow\" data-wg-type=\"sidebar\" id=\"sidebar-wrapper\"> <div class=\"list-group list-group-flush\" style=\"width:22vh;\"> <a class=\"list-group-item list-group-item-action\" href=\"#\">Magna sint in</a> <a class=\"list-group-item list-group-item-action\" href=\"#\">Ullamco ex ad</a> <a class=\"list-group-item list-group-item-action\" href=\"#\">Sit excepteur</a> </div> </div> <div class=\"container-fluid py-3\" id=\"page-content\"> <div class=\"row wg-detect\" data-wg-type=\"cards\"> <div class=\"col\"> <div class=\"card-columns\"> <div class=\"text-black card\"> <div class=\"card-body\"> <h5 class=\"card-title\">Eu ad consequat eu</h5> <p class=\"card-text\">Magna dolor esse nisi ullamco occaecat fugiat est</p> <div class=\"d-flex justify-content-between align-items-center\"> <div class=\"btn-group\"> <button class=\"btn btn-sm btn-outline-secondary\" type=\"button\">Lorem sint eu</button> </div> <small class=\"text-muted\">Nostrud amet</small> </div> </div> </div> <div class=\"text-black card\"> <div class=\"card-body\"> <h5 class=\"card-title\">Fugiat exercitation</h5> <p class=\"card-text\">Elit est culpa consequat ipsum dolore dolor lorem</p> <div class=\"d-flex justify-content-between align-items-center\"> <div class=\"btn-group\"> <button class=\"btn btn-sm btn-outline-secondary\" type=\"button\">Nostrud sint</button> </div> <small class=\"text-muted\">Non cillum ad</small> </div> </div> </div> <div class=\"text-black card\"> <div class=\"card-body\"> <h5 class=\"card-title\">Non sunt mollit ut</h5> <p class=\"card-text\">Exercitation excepteur pariatur ullamco esse nisi</p> <div class=\"d-flex justify-content-between align-items-center\"> <div class=\"btn-group\"> <button class=\"btn btn-sm btn-outline-secondary\" type=\"button\">Magna cillum</button> </div> <small class=\"text-muted\">Consectetur</small> </div> </div> </div> <div class=\"text-black card\"> <div class=\"card-body\"> <h5 class=\"card-title\">Consequat quis sit</h5> <p class=\"card-text\">Voluptate minim nulla cupidatat deserunt cillum id</p> <div class=\"d-flex justify-content-between align-items-center\"> <div class=\"btn-group\"> <button class=\"btn btn-sm btn-outline-secondary\" type=\"button\">Sunt deserunt</button> </div> <small class=\"text-muted\">Ea aute qui</small> </div> </div> </div> </div> </div> </div> <div class=\"m-3 wg-detect\" data-wg-type=\"tabs\"> <div class=\"nav nav-tabs\"> <a aria-controls=\"occaecat\" class=\"nav-item nav-link active\" data-toggle=\"tab\" href=\"#occaecat\" id=\"occaecat-tab\" role=\"tab\">Occaecat</a> <a aria-controls=\"aliquip\" class=\"nav-item nav-link\" data-toggle=\"tab\" href=\"#aliquip\" id=\"aliquip-tab\" role=\"tab\">Aliquip</a> </div> <div class=\"tab-content\"> <div aria-labelledby=\"occaecat\" class=\"tab-pane fade border p-3 show active\" id=\"occaecat\" role=\"tabpanel\">Consequat eu irure consequat sunt, nostrud enim duis enim laboris.</div> <div aria-labelledby=\"aliquip\" class=\"tab-pane fade border p-3\" id=\"aliquip\" role=\"tabpanel\">Laborum enim adipiscing irure enim cupidatat, laborum laboris esse tempor labore, occaecat voluptate ex aliquip. Pariatur ad dolor quis. Irure duis reprehenderit quis ipsum minim aliqua.</div> </div> </div> </div> </div> </div> </body> </html>\n",
            "      Bleu: 0.97\n",
            "\n",
            "Prediction: <!DOCTYPE html> <html> <head> <title>Dominate</title> <meta content=\"{&quot;primary&quot;: &quot;rgb(189, 201, 225)&quot;, &quot;secondary&quot;: &quot;rgb(116, 169, 207)&quot;, &quot;light&quot;: &quot;rgb(241, 238, 246)&quot;, &quot;dark&quot;: &quot;rgb(5, 112, 176)&quot;, &quot;enable-gradients&quot;: false}\" name=\"wg-palette\"> <meta content=\"width=device-width, initial-scale=1.0\" name=\"viewport\"> <meta content=\"Web Generator\" name=\"author\"> <meta content=\"3\" name=\"wg-layout\"> <link href=\"../css/custom-bootstrap.css\" rel=\"stylesheet\"> <link href=\"../css/wg-extras.css\" rel=\"stylesheet\"> <script src=\"../js/jquery-3.2.1.slim.min.js\" type=\"text/javascript\"></script> <script src=\"../js/bootstrap.min.js\" type=\"text/javascript\"></script> </head> <body class=\"bg-dark\"> <div class=\"bg-light rounded\" id=\"full-wrapper\"> <nav class=\"bg-dark navbar-dark rounded navbar navbar-expand-md\" data-wg-type=\"navbar\"> <button class=\"navbar-toggler\" data-target=\"#main-nav\" data-toggle=\"collapse\" type=\"button\"> <span class=\"navbar-toggler-icon\"></span> </button> <div class=\"collapse navbar-collapse\" id=\"main-nav\" style=\"height: 7vh;\"> <ul class=\"navbar-nav mx-auto\"> <li class=\"nav-item\"> <a class=\"nav-link\" href=\"#\">Excepteur ad</a> </li> <li class=\"nav-item\"> <a class=\"nav-link\" href=\"#\">Ullamco ad in</a> </li> <li class=\"nav-item\"> <a class=\"nav-link\" href=\"#\">Quis ut velit</a> </li> <li class=\"nav-item\"> <a class=\"nav-link\" href=\"#\">Aliqua esse</a> </li> <li class=\"nav-item\"> <a class=\"nav-link\" href=\"#\">Cupidatat et</a> </li> <li class=\"nav-item\"> <a class=\"nav-link\" href=\"#\">Magna laboris</a> </li> </ul> </div> </nav> <header class=\"bg-primary rounded d-flex align-items-center justify-content-center\" data-wg-type=\"header\" style=\"height: 22vh;\"> <h1 class=\"p-2 text-center\">Ullamco Sed Aliquip</h1> </header> <div class=\"d-flex\"> <div class=\"bg-secondary rounded\" data-wg-type=\"sidebar\" id=\"sidebar-wrapper\"> <div class=\"list-group list-group-flush\" style=\"width:27vh;\"> <a class=\"list-group-item list-group-item-action\" href=\"#\">Ut eu dolor</a> <a class=\"list-group-item list-group-item-action\" href=\"#\">Elit commodo</a> <a class=\"list-group-item list-group-item-action\" href=\"#\">Enim ullamco</a> <a class=\"list-group-item list-group-item-action\" href=\"#\">Minim ipsum</a> <a class=\"list-group-item list-group-item-action\" href=\"#\">Exercitation</a> </div> </div> <div class=\"container-fluid py-3\" id=\"page-content\"> <form class=\"p-3\" data-wg-type=\"form\"> <div class=\"form-row\"> <div class=\"form-group col-md\"> <label for=\"elit\">Elit</label> <input class=\"custom-range\" data-wg-type=\"range\" id=\"elit\" type=\"range\"> </div> <div class=\"form-group col-md\"> <label for=\"elit_cillum_ipsum\">Elit cillum ipsum</label> <input class=\"form-control\" data-wg-type=\"time\" id=\"elit_cillum_ipsum\" type=\"time\"> </div> </div> <div class=\"form-row\"> <div class=\"form-group col-md\"> <label for=\"ex_ipsum\">Ex ipsum</label> <input class=\"form-control\" data-wg-type=\"text\" id=\"ex_ipsum\" type=\"text\"> </div> <div class=\"form-group col-md\"> <label for=\"ad_incididunt\">Ad incididunt</label> <input class=\"custom-range\" data-wg-type=\"range\" id=\"ad_incididunt\" type=\"range\"> </div> </div> <div class=\"form-group\"> <label for=\"voluptate_irure\">Voluptate irure</label> <input class=\"form-control\" data-wg-type=\"text\" id=\"voluptate_irure\" type=\"text\"> </div> <div class=\"form-row\"> <div class=\"form-group col-md\"> <label for=\"sunt_sit_occaecat\">Sunt sit occaecat</label> <select class=\"form-control\" data-wg-type=\"select\" id=\"sunt_sit_occaecat\"> <option>Do</option> <option>Enim</option> <option>Enim</option> <option>Enim</option> <option>Enim</option> <option>Enim</option> <option>Enim</option> <option>Enim</option> </select> </div> <div class=\"form-group col-md\"> <label for=\"aliqua_ex_consequat\">Aliqua ex consequat</label> <input class=\"form-control\" data-wg-type=\"text\" id=\"aliqua_ex_consequat\" type=\"text\"> </div> <div class=\"form-group col-md\"> <label for=\"nulla_velit_incididunt\">Nulla velit incididunt</label> <input class=\"form-control\" data-wg-type=\"text\" id=\"nulla_velit_incididunt\" type=\"text\"> </div> </div> <div class=\"form-group\"> <legend>Do id</legend> <div data-wg-type=\"radios\"> <div class=\"form-check\"> <input class=\"form-check-input\" id=\"do_id_minim\" name=\"do_id\" type=\"radio\"> <label class=\"form-check-label\" for=\"do_id_minim\">Minim</label> </div> <div class=\"form-check\"> <input class=\"form-check-input\" id=\"do_id_ex_sed\" name=\"do_id\" type=\"radio\"> <label class=\"form-check-label\" for=\"do_id_ex_sed\">Ex sed</label> </div> <div class=\"form-check\"> <input class=\"form-check-input\" id=\"do_id_voluptate\" name=\"do_id\" type=\"radio\"> <label class=\"form-check-label\" for=\"do_id_voluptate\">Voluptate</label> </div> <div class=\"form-check\"> <input class=\"form-check-input\" id=\"do_id_reprehenderit_voluptate\" name=\"do_id\" type=\"radio\"> <label class=\"form-check-label\" for=\"do_id_reprehenderit_voluptate\">Reprehenderit voluptate</label> </div> </div> </div> <div class=\"form-row\"> <div class=\"form-group col-md\"> <label for=\"veniam_occaecat_mollit\">Veniam occaecat mollit</label> <input class=\"form-control\" data-wg-type=\"date\" id=\"veniam_occaecat_mollit\" type=\"date\"> </div> <div class=\"form-group col-md\"> <label for=\"id_esse\">Id esse</label> <input class=\"form-control\" data-wg-type=\"text\" id=\"id_esse\" type=\"text\"> </div> <div class=\"form-group col-md\"> <label for=\"in\">In</label> <input class=\"form-control\" data-wg-type=\"text\" id=\"in\" type=\"text\"> </div> <div class=\"form-group col-md\"> <label for=\"nulla_consequat_sed\">Nulla consequat sed</label> <input class=\"form-control\" data-wg-type=\"text\" id=\"nulla_consequat_sed\" type=\"text\"> </div> </div> <div class=\"form-group\"> <label for=\"proident_dolor_ex\">Proident dolor ex</label> <input class=\"form-control\" data-wg-type=\"text\" id=\"proident_dolor_ex\" type=\"text\"> </div> <div class=\"form-group\"> <label for=\"aliquip_enim\">Aliquip enim</label> <input class=\"form-control\" data-wg-type=\"text\" id=\"aliquip_enim\" type=\"text\"> </div> <div class=\"form-row\"> <div class=\"form-group col-md\"> <label for=\"ad\">Ad</label> <input class=\"form-control\" data-wg-type=\"time\" id=\"ad\" type=\"time\"> </div> <div class=\"form-group col-md\"> <label for=\"cillum_labore_reprehenderit\">Cillum labore reprehenderit</label> <input class=\"form-control\" data-wg-type=\"text\" id=\"cillum_labore_reprehenderit\" type=\"text\"> </div> </div> </form> </div> </div> <footer class=\" rounded jumbotron mb-0\" data-wg-type=\"footer\" style=\"height: 18vh;\"> <div class=\"container\"> <span class=\"text-muted\">Ut est veniam id sint enim eiusmod culpa dolor in</span> </div> </footer> </div> </body> </html>\n",
            "    Answer: <!DOCTYPE html> <html> <head> <title>Dominate</title> <meta content=\"{&quot;primary&quot;: &quot;rgb(203, 146, 26)&quot;, &quot;secondary&quot;: &quot;rgb(151, 59, 28)&quot;, &quot;light&quot;: &quot;rgb(225, 253, 75)&quot;, &quot;dark&quot;: &quot;rgb(51, 20, 24)&quot;, &quot;enable-gradients&quot;: true}\" name=\"wg-palette\"> <meta content=\"width=device-width, initial-scale=1.0\" name=\"viewport\"> <meta content=\"Web Generator\" name=\"author\"> <meta content=\"3\" name=\"wg-layout\"> <link href=\"../css/custom-bootstrap.css\" rel=\"stylesheet\"> <link href=\"../css/wg-extras.css\" rel=\"stylesheet\"> <script src=\"../js/jquery-3.2.1.slim.min.js\" type=\"text/javascript\"></script> <script src=\"../js/bootstrap.min.js\" type=\"text/javascript\"></script> </head> <body class=\"bg-gradient-dark\"> <div class=\"bg-gradient-light rounded\" id=\"full-wrapper\"> <nav class=\"bg-gradient-dark navbar-dark rounded navbar navbar-expand-md\" data-wg-type=\"navbar\"> <button class=\"navbar-toggler\" data-target=\"#main-nav\" data-toggle=\"collapse\" type=\"button\"> <span class=\"navbar-toggler-icon\"></span> </button> <div class=\"collapse navbar-collapse\" id=\"main-nav\" style=\"height: 7vh;\"> <ul class=\"navbar-nav mx-auto\"> <li class=\"nav-item\"> <a class=\"nav-link\" href=\"#\">Excepteur ad</a> </li> <li class=\"nav-item\"> <a class=\"nav-link\" href=\"#\">Ullamco ad in</a> </li> <li class=\"nav-item\"> <a class=\"nav-link\" href=\"#\">Quis ut velit</a> </li> <li class=\"nav-item\"> <a class=\"nav-link\" href=\"#\">Aliqua esse</a> </li> <li class=\"nav-item\"> <a class=\"nav-link\" href=\"#\">Cupidatat et</a> </li> <li class=\"nav-item\"> <a class=\"nav-link\" href=\"#\">Magna laboris</a> </li> </ul> </div> </nav> <header class=\"bg-gradient-primary rounded d-flex align-items-center justify-content-center\" data-wg-type=\"header\" style=\"height: 21vh;\"> <h1 class=\"p-2 text-center\">Ullamco Sed Aliquip</h1> </header> <div class=\"d-flex\"> <div class=\"bg-gradient-secondary text-white rounded\" data-wg-type=\"sidebar\" id=\"sidebar-wrapper\"> <div class=\"list-group list-group-flush\" style=\"width:26vh;\"> <a class=\"list-group-item list-group-item-action\" href=\"#\">Ut eu dolor</a> <a class=\"list-group-item list-group-item-action\" href=\"#\">Elit commodo</a> <a class=\"list-group-item list-group-item-action\" href=\"#\">Enim ullamco</a> <a class=\"list-group-item list-group-item-action\" href=\"#\">Minim ipsum</a> <a class=\"list-group-item list-group-item-action\" href=\"#\">Exercitation</a> </div> </div> <div class=\"container-fluid py-3\" id=\"page-content\"> <form class=\"p-3\" data-wg-type=\"form\"> <div class=\"form-row\"> <div class=\"form-group col-md\"> <label for=\"elit\">Elit</label> <input class=\"custom-range\" data-wg-type=\"range\" id=\"elit\" type=\"range\"> </div> <div class=\"form-group col-md\"> <label for=\"elit_cillum_ipsum\">Elit cillum ipsum</label> <input class=\"form-control\" data-wg-type=\"time\" id=\"elit_cillum_ipsum\" type=\"time\"> </div> </div> <div class=\"form-row\"> <div class=\"form-group col-md\"> <label for=\"ex_ipsum\">Ex ipsum</label> <input class=\"form-control\" data-wg-type=\"number\" id=\"ex_ipsum\" type=\"number\"> </div> <div class=\"form-group col-md\"> <label for=\"ad_incididunt\">Ad incididunt</label> <input class=\"custom-range\" data-wg-type=\"range\" id=\"ad_incididunt\" type=\"range\"> </div> </div> <div class=\"form-group\"> <label for=\"voluptate_irure\">Voluptate irure</label> <input class=\"form-control\" data-wg-type=\"text\" id=\"voluptate_irure\" type=\"text\"> </div> <div class=\"form-row\"> <div class=\"form-group col-md\"> <label for=\"sunt_sit_occaecat\">Sunt sit occaecat</label> <select class=\"form-control\" data-wg-type=\"select\" id=\"sunt_sit_occaecat\"> <option>Do</option> <option>Nulla occaecat</option> </select> </div> <div class=\"form-group col-md\"> <label for=\"aliqua_ex_consequat\">Aliqua ex consequat</label> <input class=\"form-control\" data-wg-type=\"text\" id=\"aliqua_ex_consequat\" type=\"text\"> </div> <div class=\"form-group col-md\"> <label for=\"nulla_velit_incididunt\">Nulla velit incididunt</label> <input class=\"form-control\" data-wg-type=\"text\" id=\"nulla_velit_incididunt\" type=\"text\"> </div> </div> <div class=\"form-group\"> <legend>Do id</legend> <div data-wg-type=\"radios\"> <div class=\"form-check\"> <input class=\"form-check-input\" id=\"do_id_minim\" name=\"do_id\" type=\"radio\"> <label class=\"form-check-label\" for=\"do_id_minim\">Minim</label> </div> <div class=\"form-check\"> <input class=\"form-check-input\" id=\"do_id_ex_sed\" name=\"do_id\" type=\"radio\"> <label class=\"form-check-label\" for=\"do_id_ex_sed\">Ex sed</label> </div> <div class=\"form-check\"> <input class=\"form-check-input\" id=\"do_id_voluptate\" name=\"do_id\" type=\"radio\"> <label class=\"form-check-label\" for=\"do_id_voluptate\">Voluptate</label> </div> <div class=\"form-check\"> <input class=\"form-check-input\" id=\"do_id_reprehenderit_voluptate\" name=\"do_id\" type=\"radio\"> <label class=\"form-check-label\" for=\"do_id_reprehenderit_voluptate\">Reprehenderit voluptate</label> </div> </div> </div> <div class=\"form-row\"> <div class=\"form-group col-md\"> <label for=\"veniam_occaecat_mollit\">Veniam occaecat mollit</label> <input class=\"form-control\" data-wg-type=\"date\" id=\"veniam_occaecat_mollit\" type=\"date\"> </div> <div class=\"form-group col-md\"> <label for=\"id_esse\">Id esse</label> <input class=\"form-control\" data-wg-type=\"text\" id=\"id_esse\" type=\"text\"> </div> <div class=\"form-group col-md\"> <label for=\"in\">In</label> <input class=\"form-control\" data-wg-type=\"text\" id=\"in\" type=\"text\"> </div> <div class=\"form-group col-md\"> <label for=\"nulla_consequat_sed\">Nulla consequat sed</label> <input class=\"form-control\" data-wg-type=\"text\" id=\"nulla_consequat_sed\" type=\"text\"> </div> </div> <div class=\"form-group\"> <label for=\"proident_dolor_ex\">Proident dolor ex</label> <input class=\"form-control\" data-wg-type=\"text\" id=\"proident_dolor_ex\" type=\"text\"> </div> <div class=\"form-group\"> <label for=\"aliquip_enim\">Aliquip enim</label> <input class=\"form-control\" data-wg-type=\"text\" id=\"aliquip_enim\" type=\"text\"> </div> <div class=\"form-row\"> <div class=\"form-group col-md\"> <label for=\"ad\">Ad</label> <input class=\"form-control\" data-wg-type=\"time\" id=\"ad\" type=\"time\"> </div> <div class=\"form-group col-md\"> <label for=\"cillum_labore_reprehenderit\">Cillum labore reprehenderit</label> <input class=\"form-control\" data-wg-type=\"text\" id=\"cillum_labore_reprehenderit\" type=\"text\"> </div> </div> </form> </div> </div> <footer class=\" rounded jumbotron mb-0\" data-wg-type=\"footer\" style=\"height: 14vh;\"> <div class=\"container\"> <span class=\"text-muted\">Ut est veniam id sint enim eiusmod culpa dolor in</span> </div> </footer> </div> </body> </html>\n",
            "      Bleu: 0.93\n",
            "\n",
            "Prediction: <!DOCTYPE html> <html> <head> <title>Dominate</title> <meta content=\"{&quot;primary&quot;: &quot;rgb(248, 160, 126)&quot;, &quot;secondary&quot;: &quot;rgb(206, 102, 147)&quot;, &quot;light&quot;: &quot;rgb(243, 231, 155)&quot;, &quot;dark&quot;: &quot;rgb(92, 83, 165)&quot;, &quot;enable-gradients&quot;: false}\" name=\"wg-palette\"> <meta content=\"width=device-width, initial-scale=1.0\" name=\"viewport\"> <meta content=\"Web Generator\" name=\"author\"> <meta content=\"4\" name=\"wg-layout\"> <link href=\"../css/custom-bootstrap.css\" rel=\"stylesheet\"> <link href=\"../css/wg-extras.css\" rel=\"stylesheet\"> <script src=\"../js/jquery-3.2.1.slim.min.js\" type=\"text/javascript\"></script> <script src=\"../js/bootstrap.min.js\" type=\"text/javascript\"></script> </head> <body class=\"\"> <div class=\" rounded\" id=\"full-wrapper\"> <div class=\"d-flex\"> <div class=\"w-100\"> <nav class=\"bg-light navbar-light rounded navbar navbar-expand-md\" data-wg-type=\"navbar\"> <a class=\"navbar-brand\" href=\"#\">Fugiat</a> <button class=\"navbar-toggler\" data-target=\"#main-nav\" data-toggle=\"collapse\" type=\"button\"> <span class=\"navbar-toggler-icon\"></span> </button> <div class=\"collapse navbar-collapse\" id=\"main-nav\" style=\"height: 7vh;\"> <ul class=\"navbar-nav ml-auto\"> <li class=\"nav-item\"> <a class=\"nav-link\" href=\"#\">Ut cillum qui</a> </li> <li class=\"nav-item\"> <a class=\"nav-link\" href=\"#\">Laborum qui</a> </li> </ul> </div> </nav> <div class=\"container-fluid py-3\" id=\"page-content\"> <div class=\"row my-3 wg-detect\" data-wg-type=\"mix\"> <div class=\"col\"> <div class=\"wg-detect row align-items-center justify-content-center\" data-wg-type=\"call_to_action\"> <div class=\"col-10\"> <h1>Aliqua tempor dolor</h1> <p>Amet consectetur ea ut irure aliquip voluptate mollit id et fugiat est laboris elit nostrud dolor in</p> </div> <button class=\"btn btn-primary m-3\">Ipsum nisi id</button> </div> </div> <div class=\"col\"> <ol class=\"wg-detect\" data-wg-type=\"list\"> <li>Occaecat ex</li> <li>Tempor ipsum</li> <li>Labore ea ex</li> </ol> </div> </div> </div> </div> </div> </div> </body> </html>\n",
            "    Answer: <!DOCTYPE html> <html> <head> <title>Dominate</title> <meta content=\"{&quot;primary&quot;: &quot;rgb(231, 241, 196)&quot;, &quot;secondary&quot;: &quot;rgb(228, 240, 184)&quot;, &quot;light&quot;: &quot;rgb(233, 240, 209)&quot;, &quot;dark&quot;: &quot;rgb(227, 239, 184)&quot;, &quot;enable-gradients&quot;: true}\" name=\"wg-palette\"> <meta content=\"width=device-width, initial-scale=1.0\" name=\"viewport\"> <meta content=\"Web Generator\" name=\"author\"> <meta content=\"4\" name=\"wg-layout\"> <link href=\"../css/custom-bootstrap.css\" rel=\"stylesheet\"> <link href=\"../css/wg-extras.css\" rel=\"stylesheet\"> <script src=\"../js/jquery-3.2.1.slim.min.js\" type=\"text/javascript\"></script> <script src=\"../js/bootstrap.min.js\" type=\"text/javascript\"></script> </head> <body class=\"\"> <div class=\" shadow-sm\" id=\"full-wrapper\"> <div class=\"d-flex\"> <div class=\"w-100\"> <nav class=\"bg-gradient-light navbar-light shadow-sm navbar navbar-expand-md\" data-wg-type=\"navbar\"> <a class=\"navbar-brand\" href=\"#\">Fugiat</a> <button class=\"navbar-toggler\" data-target=\"#main-nav\" data-toggle=\"collapse\" type=\"button\"> <span class=\"navbar-toggler-icon\"></span> </button> <div class=\"collapse navbar-collapse\" id=\"main-nav\" style=\"height: 6vh;\"> <ul class=\"navbar-nav ml-auto\"> <li class=\"nav-item\"> <a class=\"nav-link\" href=\"#\">Ut cillum qui</a> </li> <li class=\"nav-item\"> <a class=\"nav-link\" href=\"#\">Laborum qui</a> </li> </ul> </div> </nav> <div class=\"container-fluid py-3\" id=\"page-content\"> <div class=\"row my-3 wg-detect\" data-wg-type=\"mix\"> <div class=\"col\"> <div class=\"wg-detect row align-items-center justify-content-center\" data-wg-type=\"call_to_action\"> <div class=\"col-10\"> <h1>Aliqua tempor dolor</h1> <p>Amet consectetur ea ut irure aliquip voluptate mollit id et fugiat est laboris elit nostrud dolor in</p> </div> <button class=\"btn btn-primary m-3\">Ipsum nisi id</button> </div> </div> <div class=\"col\"> <ol class=\"wg-detect\" data-wg-type=\"list\"> <li>Occaecat ex</li> <li>Tempor ipsum</li> <li>Labore ea ex</li> </ol> </div> </div> </div> </div> </div> </div> </body> </html>\n",
            "      Bleu: 0.76\n",
            "\n",
            "Prediction: <!DOCTYPE html> <html> <head> <title>Dominate</title> <meta content=\"{&quot;primary&quot;: &quot;rgb(248, 160, 126)&quot;, &quot;secondary&quot;: &quot;rgb(206, 102, 147)&quot;, &quot;light&quot;: &quot;rgb(243, 231, 155)&quot;, &quot;dark&quot;: &quot;rgb(92, 83, 165)&quot;, &quot;enable-gradients&quot;: false}\" name=\"wg-palette\"> <meta content=\"width=device-width, initial-scale=1.0\" name=\"viewport\"> <meta content=\"Web Generator\" name=\"author\"> <meta content=\"4\" name=\"wg-layout\"> <link href=\"../css/custom-bootstrap.css\" rel=\"stylesheet\"> <link href=\"../css/wg-extras.css\" rel=\"stylesheet\"> <script src=\"../js/jquery-3.2.1.slim.min.js\" type=\"text/javascript\"></script> <script src=\"../js/bootstrap.min.js\" type=\"text/javascript\"></script> </head> <body class=\"\"> <div class=\" rounded shadow-lg\" id=\"full-wrapper\"> <div class=\"d-flex\"> <div class=\"w-100\"> <div class=\"container-fluid py-3\" id=\"page-content\"> <div class=\"row my-3 wg-detect\" data-wg-type=\"mix\"> <div class=\"col\"> <p class=\"wg-detect\" data-wg-type=\"paragraph\">Non aliqua qui ut cillum quis. Ex nulla tempor sunt mollit ex eu, consectetur amet ad velit ad id consequat commodo. Cillum anim excepteur non officia elit sit ea. Laboris dolore nulla aliqua proident dolore sit nisi. Nisi incididunt id consectetur quis aute incididunt. Sed esse ipsum nulla aute proident, pariatur quis nisi nulla magna ex, enim ullamco et nisi cupidatat magna.</p> </div> <div class=\"col\"> <p class=\"wg-detect\" data-wg-type=\"paragraph\">Minim laborum in pariatur ullamco non pariatur commodo. Voluptate sit ad sed aliqua ullamco esse, in lorem ut excepteur lorem id quis dolore. Voluptate esse qui sit et nisi dolore. Occaecat exercitation quis quis commodo in ut. Exercitation magna irure elit nostrud laboris aute. Consequat amet sit do mollit sint, eiusmod ut esse est sint dolore duis est. Reprehenderit sit ullamco fugiat enim non, cillum cillum dolor velit incididunt nostrud.</p> </div> <div class=\"col\"> <ul class=\"wg-detect\" data-wg-type=\"list\"> <li>Laborum anim</li> <li>Labore in et</li> <li>Nisi enim in</li> <li>Ex quis culpa</li> <li>Veniam mollit</li> </ul> </div> </div> <div class=\"row my-3 wg-detect\" data-wg-type=\"mix\"> <div class=\"col\"> <table class=\"bg-white table\" data-wg-type=\"table\"> <tr> <td>sit</td> <td>sint</td> <td>0</td> </tr> <tr> <td>aliqua</td> <td>ea</td> <td>0</td> </tr> <tr> <td>nostrud</td> <td>incididunt</td> <td>0</td> </tr> <tr> <td>elit</td> <td>ullamco</td> <td>0</td> </tr> </table> </div> <div class=\"col\"> <div class=\"wg-detect row align-items-center justify-content-center\" data-wg-type=\"call_to_action\"> <div class=\"col-10\"> <h1>Occaecat dolor sunt</h1> <p>Lorem ea cillum ex voluptate irure laboris elit cupidatat deserunt qui enim ad aute duis sit officia</p> </div> <button class=\"btn btn-primary m-3\">Sit eiusmod</button> </div> </div> </div> <div class=\"row my-3 wg-detect\" data-wg-type=\"mix\"> <div class=\"col\"> <ul class=\"wg-detect\" data-wg-type=\"list\"> <li>Excepteur sed</li> <li>Deserunt sunt</li> <li>Magna in duis</li> <li>Veniam tempor</li> <li>Consequat eu</li> </ul> </div> </div> </div> <div class=\"bg-gradient-light rounded shadow-lg\" data-wg-type=\"sidebar\" id=\"sidebar-wrapper\"> <div class=\"sidebar-heading\">Dolore</div> <div class=\"list-group list-group-flush\" style=\"width:27vh;\"> <a class=\"list-group-item list-group-item-action\" href=\"#\">Ex cupidatat</a> <a class=\"list-group-item list-group-item-action\" href=\"#\">Nostrud elit</a> </div> </div> </div> <footer class=\" rounded shadow-lg jumbotron mb-0\" data-wg-type=\"footer\" style=\"height: 11vh;\"> <div class=\"container\"> <span class=\"text-muted\">Aliqua non sint reprehenderit laborum sed tempor</span> </div> </footer> </div> </body> </html>\n",
            "    Answer: <!DOCTYPE html> <html> <head> <title>Dominate</title> <meta content=\"{&quot;primary&quot;: &quot;rgb(251, 180, 185)&quot;, &quot;secondary&quot;: &quot;rgb(247, 104, 161)&quot;, &quot;light&quot;: &quot;rgb(254, 235, 226)&quot;, &quot;dark&quot;: &quot;rgb(174, 1, 126)&quot;, &quot;enable-gradients&quot;: false}\" name=\"wg-palette\"> <meta content=\"width=device-width, initial-scale=1.0\" name=\"viewport\"> <meta content=\"Web Generator\" name=\"author\"> <meta content=\"3\" name=\"wg-layout\"> <link href=\"../css/custom-bootstrap.css\" rel=\"stylesheet\"> <link href=\"../css/wg-extras.css\" rel=\"stylesheet\"> <script src=\"../js/jquery-3.2.1.slim.min.js\" type=\"text/javascript\"></script> <script src=\"../js/bootstrap.min.js\" type=\"text/javascript\"></script> </head> <body class=\"\"> <div class=\" shadow-lg\" id=\"full-wrapper\"> <div class=\"d-flex\"> <div class=\"container-fluid py-3\" id=\"page-content\"> <div class=\"row my-3 wg-detect\" data-wg-type=\"mix\"> <div class=\"col\"> <p class=\"wg-detect\" data-wg-type=\"paragraph\">Non aliqua qui ut cillum quis. Ex nulla tempor sunt mollit ex eu, consectetur amet ad velit ad id consequat commodo. Cillum anim excepteur non officia elit sit ea. Laboris dolore nulla aliqua proident dolore sit nisi. Nisi incididunt id consectetur quis aute incididunt. Sed esse ipsum nulla aute proident, pariatur quis nisi nulla magna ex, enim ullamco et nisi cupidatat magna.</p> </div> <div class=\"col\"> <p class=\"wg-detect\" data-wg-type=\"paragraph\">Minim laborum in pariatur ullamco non pariatur commodo. Voluptate sit ad sed aliqua ullamco esse, in lorem ut excepteur lorem id quis dolore. Voluptate esse qui sit et nisi dolore. Occaecat exercitation quis quis commodo in id. Exercitation magna irure elit nostrud laboris aute. Consequat amet sit do mollit sint, eiusmod ut esse est sint dolore duis est. Reprehenderit sit ullamco fugiat enim non, cillum cillum dolor velit incididunt nostrud.</p> </div> <div class=\"col\"> <ul class=\"wg-detect\" data-wg-type=\"list\"> <li>Laborum anim</li> <li>Labore in et</li> <li>Nisi enim in</li> <li>Ex quis culpa</li> <li>Veniam mollit</li> </ul> </div> </div> <div class=\"row my-3 wg-detect\" data-wg-type=\"mix\"> <div class=\"col\"> <table class=\"bg-white table-striped table\" data-wg-type=\"table\"> <tr> <td>sit</td> <td>sint</td> <td>0</td> </tr> <tr> <td>aliqua</td> <td>ea</td> <td>0</td> </tr> <tr> <td>nostrud</td> <td>incididunt</td> <td>0</td> </tr> <tr> <td>elit</td> <td>ullamco</td> <td>0</td> </tr> </table> </div> <div class=\"col\"> <div class=\"wg-detect row align-items-center justify-content-center\" data-wg-type=\"call_to_action\"> <div class=\"col-10\"> <h1>Occaecat dolor sunt</h1> <p>Lorem ea cillum ex voluptate irure laboris elit cupidatat deserunt qui enim ad aute duis sit officia</p> </div> <button class=\"btn btn-primary m-3\">Sit eiusmod</button> </div> </div> </div> <div class=\"row my-3 wg-detect\" data-wg-type=\"mix\"> <div class=\"col\"> <ul class=\"wg-detect\" data-wg-type=\"list\"> <li>Excepteur sed</li> <li>Deserunt sunt</li> <li>Magna in duis</li> <li>Veniam tempor</li> <li>Consequat eu</li> </ul> </div> </div> </div> <div class=\"bg-light shadow-lg\" data-wg-type=\"sidebar\" id=\"sidebar-wrapper\"> <div class=\"sidebar-heading\">Dolore</div> <div class=\"list-group list-group-flush\" style=\"width:29vh;\"> <a class=\"list-group-item list-group-item-action\" href=\"#\">Ex cupidatat</a> <a class=\"list-group-item list-group-item-action\" href=\"#\">Nostrud elit</a> </div> </div> </div> <footer class=\" shadow-lg jumbotron mb-0\" data-wg-type=\"footer\" style=\"height: 20vh;\"> <div class=\"container\"> <span class=\"text-muted\">Aliqua non sint reprehenderit laborum sed tempor</span> </div> </footer> </div> </body> </html>\n",
            "      Bleu: 0.78\n",
            " Avg Bleu Score: 0.92\n"
          ]
        },
        {
          "name": "stderr",
          "output_type": "stream",
          "text": [
            "Epoch 15/19 - train loop: 100%|██████████| 5125/5125 [1:05:53<00:00,  1.30it/s, loss=0.209]\n"
          ]
        },
        {
          "name": "stdout",
          "output_type": "stream",
          "text": [
            "Moving Avg Loss: 0.145\n"
          ]
        },
        {
          "name": "stderr",
          "output_type": "stream",
          "text": [
            "Epoch 16/19 - train loop: 100%|██████████| 5125/5125 [1:05:51<00:00,  1.30it/s, loss=0.0629]\n"
          ]
        },
        {
          "name": "stdout",
          "output_type": "stream",
          "text": [
            "Moving Avg Loss: 0.137\n"
          ]
        },
        {
          "name": "stderr",
          "output_type": "stream",
          "text": [
            "Epoch 17/19 - train loop: 100%|██████████| 5125/5125 [1:05:49<00:00,  1.30it/s, loss=0.0366]\n"
          ]
        },
        {
          "name": "stdout",
          "output_type": "stream",
          "text": [
            "Moving Avg Loss: 0.115\n"
          ]
        },
        {
          "name": "stderr",
          "output_type": "stream",
          "text": [
            "Epoch 18/19 - train loop: 100%|██████████| 5125/5125 [1:05:51<00:00,  1.30it/s, loss=0.0403]\n"
          ]
        },
        {
          "name": "stdout",
          "output_type": "stream",
          "text": [
            "Moving Avg Loss: 0.076\n"
          ]
        },
        {
          "name": "stderr",
          "output_type": "stream",
          "text": [
            "Epoch 19/19 - train loop: 100%|██████████| 5125/5125 [1:05:49<00:00,  1.30it/s, loss=0.0794]\n"
          ]
        },
        {
          "name": "stdout",
          "output_type": "stream",
          "text": [
            "Moving Avg Loss: 0.101\n"
          ]
        },
        {
          "name": "stderr",
          "output_type": "stream",
          "text": [
            "Epoch 19/19 - valid loop:  50%|█████     | 1/2 [05:50<05:50, 350.11s/it, bleu_score=0.878]"
          ]
        },
        {
          "name": "stdout",
          "output_type": "stream",
          "text": [
            "\n",
            "Prediction: <!DOCTYPE html> <html> <head> <title>Dominate</title> <meta content=\"{&quot;primary&quot;: &quot;rgb(248, 181, 139)&quot;, &quot;secondary&quot;: &quot;rgb(242, 133, 93)&quot;, &quot;light&quot;: &quot;rgb(253, 224, 197)&quot;, &quot;dark&quot;: &quot;rgb(235, 74, 64)&quot;, &quot;enable-gradients&quot;: false}\" name=\"wg-palette\"> <meta content=\"width=device-width, initial-scale=1.0\" name=\"viewport\"> <meta content=\"Web Generator\" name=\"author\"> <meta content=\"2\" name=\"wg-layout\"> <link href=\"../css/custom-bootstrap.css\" rel=\"stylesheet\"> <link href=\"../css/wg-extras.css\" rel=\"stylesheet\"> <script src=\"../js/jquery-3.2.1.slim.min.js\" type=\"text/javascript\"></script> <script src=\"../js/bootstrap.min.js\" type=\"text/javascript\"></script> </head> <body class=\"\"> <div class=\" rounded\" id=\"full-wrapper\"> <nav class=\"bg-light navbar-light rounded navbar navbar-expand-md\" data-wg-type=\"navbar\"> <a class=\"navbar-brand\" href=\"#\">Laboris</a> <button class=\"navbar-toggler\" data-target=\"#main-nav\" data-toggle=\"collapse\" type=\"button\"> <span class=\"navbar-toggler-icon\"></span> </button> <div class=\"collapse navbar-collapse\" id=\"main-nav\" style=\"height: 3vh;\"> <ul class=\"navbar-nav ml-auto\"> <li class=\"nav-item\"> <a class=\"nav-link\" href=\"#\">Laborum sed</a> </li> <li class=\"nav-item\"> <a class=\"nav-link\" href=\"#\">Occaecat do</a> </li> </ul> </div> </nav> <div class=\"d-flex\"> <div class=\"flex-grow-1\"> <div class=\"container-fluid py-3\" id=\"page-content\"> <div class=\"m-3 wg-detect\" data-wg-type=\"tabs\"> <div class=\"nav nav-tabs\"> <a aria-controls=\"est\" class=\"nav-item nav-link active\" data-toggle=\"tab\" href=\"#est\" id=\"est-tab\" role=\"tab\">Est</a> <a aria-controls=\"lorem\" class=\"nav-item nav-link\" data-toggle=\"tab\" href=\"#lorem\" id=\"lorem-tab\" role=\"tab\">Lorem</a> <a aria-controls=\"occaecat\" class=\"nav-item nav-link\" data-toggle=\"tab\" href=\"#occaecat\" id=\"occaecat-tab\" role=\"tab\">Occaecat</a> <a aria-controls=\"incididunt\" class=\"nav-item nav-link\" data-toggle=\"tab\" href=\"#incididunt\" id=\"incididunt-tab\" role=\"tab\">Incididunt</a> </div> <div class=\"tab-content\"> <div aria-labelledby=\"est\" class=\"tab-pane fade border p-3 show active\" id=\"est\" role=\"tabpanel\">Elit laboris labore eu exercitation nulla ipsum eiusmod. Dolore et ut reprehenderit. Magna sunt amet minim nostrud.</div> <div aria-labelledby=\"lorem\" class=\"tab-pane fade border p-3\" id=\"lorem\" role=\"tabpanel\">Esse aliquip ullamco aliqua.</div> <div aria-labelledby=\"occaecat\" class=\"tab-pane fade border p-3\" id=\"occaecat\" role=\"tabpanel\">Enim aliquip ullamco aliqua.</div> <div aria-labelledby=\"incididunt\" class=\"tab-pane fade border p-3\" id=\"incididunt\" role=\"tabpanel\">Enim aliquip ullamco aliqua.</div> </div> </div> <div class=\"row my-3 wg-detect\" data-wg-type=\"mix\"> <div class=\"col\"> <div class=\"text-dark wg-detect\" data-wg-type=\"collapse\" id=\"collapse-ele-1\"> <div class=\"card\"> <div class=\"card-header\" id=\"heading-excepteur-1\"> <button aria-controls=\"heading-excepteur-1\" class=\"btn btn-link collapsed\" data-target=\"#collapse-excepteur-1\" data-toggle=\"collapse\">Excepteur ad qui in.</button> </div> <div aria-labelledby=\"heading-excepteur-1\" class=\"collapse\" data-parent=\"#collapse-ele-1\" id=\"collapse-excepteur-1\"> <div class=\"card-body text-black\">Et aliquip nostrud ullamco. Amet aliquip nostrud ullamco. Amet aliquip nostrud ullamco. Labore aliqua nostrud ullamco. Laborum aliquip aliquip aliquip. Laborum aliquip aliquip aliquip.</div> </div> </div> <div class=\"card\"> <div class=\"card-header\" id=\"heading-nostrud-2\"> <button aria-controls=\"heading-nostrud-2\" class=\"btn btn-link collapsed\" data-target=\"#collapse-nostrud-2\" data-toggle=\"collapse\">Nostrud sed dolor ullamco nulla.</button> </div> <div aria-labelledby=\"heading-nostrud-2\" class=\"collapse\" data-parent=\"#collapse-ele-1\" id=\"collapse-nostrud-2\"> <div class=\"card-body text-black\">Et aliquip aliquip aliquip. Amet aliquip aliquip aliqua. Amet aliquip aliquip aliqua. Amet aliquip aliquip aliqua. Laborum aliquip ullamco aliqua. Amet aliquip ullamco aliqua.</div> </div> </div> <div class=\"card\"> <div class=\"card-header\" id=\"heading-ipsum-3\"> <button aria-controls=\"heading-ipsum-3\" class=\"btn btn-link collapsed\" data-target=\"#collapse-ipsum-3\" data-toggle=\"collapse\">Ipsum et commodo aliquip pariatur sunt fugiat, aliqua occaecat voluptate ad.</button> </div> <div aria-labelledby=\"heading-ipsum-3\" class=\"collapse\" data-parent=\"#collapse-ele-1\" id=\"collapse-ipsum-3\"> <div class=\"card-body text-black\">Et aliquip aliquip aliquip. Amet aliquip aliquip aliqua. Amet aliquip aliquip aliqua. Amet aliquip aliquip aliqua. Laborum aliquip ullamco aliqua. Laborum aliquip ullamco aliqua.</div> </div> </div> </div> </div> <div class=\"col\"> <table class=\"bg-white table\" data-wg-type=\"table\"> <tr> <td>laboris</td> <td>ut</td> <td>non</td> <td>0</td> </tr> <tr> <td>duis</td> <td>anim</td> <td>nostrud</td> <td>0</td> </tr> <tr> <td>est</td> <td>aliqua</td> <td>id</td> <td>0</td> </tr> <tr> <td>duis</td> <td>ipsum</td> <td>excepteur</td> <td>0</td> </tr> <tr> <td>duis</td> <td>incididunt</td> <td>reprehenderit</td> <td>0</td> </tr> </table> </div> </div> </div> <footer class=\" rounded jumbotron mb-0\" data-wg-type=\"footer\" style=\"height: 28vh;\"> <div class=\"container\"> <span class=\"text-muted\">Voluptate proident do nisi dolore cillum esse qui</span> </div> </footer> </div> <div class=\"bg-light rounded\" data-wg-type=\"sidebar\" id=\"sidebar-wrapper\"> <div class=\"list-group list-group-flush\" style=\"width:22vh;\"> <a class=\"list-group-item list-group-item-action\" href=\"#\">Commodo id eu</a> <a class=\"list-group-item list-group-item-action\" href=\"#\">Quis ullamco</a> <a class=\"list-group-item list-group-item-action\" href=\"#\">Elit duis est</a> <a class=\"list-group-item list-group-item-action\" href=\"#\">Sint ex elit</a> </div> </div> </div> </div> </body> </html>\n",
            "    Answer: <!DOCTYPE html> <html> <head> <title>Dominate</title> <meta content=\"{&quot;primary&quot;: &quot;rgb(219, 245, 240)&quot;, &quot;secondary&quot;: &quot;rgb(245, 219, 225)&quot;, &quot;light&quot;: &quot;rgb(245, 240, 219)&quot;, &quot;dark&quot;: &quot;rgb(219, 225, 245)&quot;, &quot;enable-gradients&quot;: false}\" name=\"wg-palette\"> <meta content=\"width=device-width, initial-scale=1.0\" name=\"viewport\"> <meta content=\"Web Generator\" name=\"author\"> <meta content=\"2\" name=\"wg-layout\"> <link href=\"../css/custom-bootstrap.css\" rel=\"stylesheet\"> <link href=\"../css/wg-extras.css\" rel=\"stylesheet\"> <script src=\"../js/jquery-3.2.1.slim.min.js\" type=\"text/javascript\"></script> <script src=\"../js/bootstrap.min.js\" type=\"text/javascript\"></script> </head> <body class=\"bg-light\"> <div class=\"bg-light rounded shadow-sm\" id=\"full-wrapper\"> <nav class=\"bg-dark navbar-light rounded shadow-sm navbar navbar-expand-md\" data-wg-type=\"navbar\"> <a class=\"navbar-brand\" href=\"#\">Laboris</a> <button class=\"navbar-toggler\" data-target=\"#main-nav\" data-toggle=\"collapse\" type=\"button\"> <span class=\"navbar-toggler-icon\"></span> </button> <div class=\"collapse navbar-collapse\" id=\"main-nav\" style=\"height: 6vh;\"> <ul class=\"navbar-nav ml-auto\"> <li class=\"nav-item\"> <a class=\"nav-link\" href=\"#\">Laborum sed</a> </li> <li class=\"nav-item\"> <a class=\"nav-link\" href=\"#\">Occaecat do</a> </li> </ul> </div> </nav> <div class=\"d-flex\"> <div class=\"flex-grow-1\"> <div class=\"container-fluid py-3\" id=\"page-content\"> <div class=\"m-3 wg-detect\" data-wg-type=\"tabs\"> <div class=\"nav nav-tabs\"> <a aria-controls=\"est\" class=\"nav-item nav-link active\" data-toggle=\"tab\" href=\"#est\" id=\"est-tab\" role=\"tab\">Est</a> <a aria-controls=\"lorem\" class=\"nav-item nav-link\" data-toggle=\"tab\" href=\"#lorem\" id=\"lorem-tab\" role=\"tab\">Lorem</a> <a aria-controls=\"occaecat\" class=\"nav-item nav-link\" data-toggle=\"tab\" href=\"#occaecat\" id=\"occaecat-tab\" role=\"tab\">Occaecat</a> <a aria-controls=\"incididunt\" class=\"nav-item nav-link\" data-toggle=\"tab\" href=\"#incididunt\" id=\"incididunt-tab\" role=\"tab\">Incididunt</a> </div> <div class=\"tab-content\"> <div aria-labelledby=\"est\" class=\"tab-pane fade border p-3 show active\" id=\"est\" role=\"tabpanel\">Elit laboris labore eu exercitation nulla ipsum eiusmod. Dolore et ut reprehenderit. Magna sunt amet minim nostrud.</div> <div aria-labelledby=\"lorem\" class=\"tab-pane fade border p-3\" id=\"lorem\" role=\"tabpanel\">Duis tempor aliqua aute. Commodo officia minim dolore ipsum.</div> <div aria-labelledby=\"occaecat\" class=\"tab-pane fade border p-3\" id=\"occaecat\" role=\"tabpanel\">Quis reprehenderit deserunt ut consectetur, consequat ut sit labore magna irure in deserunt, nisi aliqua ut sint. Est occaecat excepteur in elit aliqua sed ut, do voluptate ex commodo minim deserunt irure eu.</div> <div aria-labelledby=\"incididunt\" class=\"tab-pane fade border p-3\" id=\"incididunt\" role=\"tabpanel\">Officia mollit pariatur amet commodo velit. Non et incididunt sunt sed qui fugiat.</div> </div> </div> <div class=\"row my-3 wg-detect\" data-wg-type=\"mix\"> <div class=\"col\"> <div class=\"text-dark wg-detect\" data-wg-type=\"collapse\" id=\"collapse-ele-1\"> <div class=\"card\"> <div class=\"card-header\" id=\"heading-excepteur-1\"> <button aria-controls=\"heading-excepteur-1\" class=\"btn btn-link collapsed\" data-target=\"#collapse-excepteur-1\" data-toggle=\"collapse\">Excepteur ad qui in.</button> </div> <div aria-labelledby=\"heading-excepteur-1\" class=\"collapse\" data-parent=\"#collapse-ele-1\" id=\"collapse-excepteur-1\"> <div class=\"card-body text-black\">Ipsum cupidatat voluptate eu. Mollit commodo qui amet eiusmod minim aliquip dolor, qui in elit veniam eu excepteur. Laboris amet nulla laboris ullamco eu et, reprehenderit sint in magna. Sunt ex exercitation ullamco sed incididunt. Magna cupidatat ullamco dolor officia sit. Ea voluptate labore sed excepteur. Laborum non laborum quis eiusmod laborum, duis minim nostrud et fugiat minim. Voluptate fugiat veniam exercitation aliquip. Sit in duis sed esse id eu eiusmod. Sit nulla cupidatat sit mollit cupidatat ea ullamco.</div> </div> </div> <div class=\"card\"> <div class=\"card-header\" id=\"heading-nostrud-2\"> <button aria-controls=\"heading-nostrud-2\" class=\"btn btn-link collapsed\" data-target=\"#collapse-nostrud-2\" data-toggle=\"collapse\">Nostrud sed dolor ullamco nulla.</button> </div> <div aria-labelledby=\"heading-nostrud-2\" class=\"collapse\" data-parent=\"#collapse-ele-1\" id=\"collapse-nostrud-2\"> <div class=\"card-body text-black\">Fugiat id duis non ex. Officia lorem minim irure, id enim pariatur laborum qui culpa irure ipsum. Deserunt in tempor qui aute sit nostrud laboris, deserunt cillum veniam lorem irure est lorem qui. Ex elit dolore ut, do commodo irure culpa exercitation, mollit irure amet commodo commodo cupidatat et. Aliqua dolore duis laboris. Aute enim sunt veniam anim veniam. Nisi consectetur consectetur nulla id. In in excepteur nostrud anim. Enim dolor eiusmod sint id ex non, sit ex voluptate exercitation exercitation. Ut sint minim quis exercitation adipiscing qui.</div> </div> </div> <div class=\"card\"> <div class=\"card-header\" id=\"heading-ipsum-3\"> <button aria-controls=\"heading-ipsum-3\" class=\"btn btn-link collapsed\" data-target=\"#collapse-ipsum-3\" data-toggle=\"collapse\">Ipsum et commodo aliquip pariatur sunt fugiat, aliqua occaecat voluptate ad.</button> </div> <div aria-labelledby=\"heading-ipsum-3\" class=\"collapse\" data-parent=\"#collapse-ele-1\" id=\"collapse-ipsum-3\"> <div class=\"card-body text-black\">Fugiat et ex magna. Eu sunt ut pariatur ad ad. Eu aliquip elit do labore sit laborum voluptate, do tempor et minim nisi amet nulla. Est et nostrud in est nisi exercitation sed. In exercitation cupidatat excepteur. Do sed ad nostrud. Dolore sed ut nisi. Enim laboris nisi reprehenderit sunt nisi mollit sunt. Mollit sunt aliqua occaecat dolor est.</div> </div> </div> </div> </div> <div class=\"col\"> <table class=\"bg-white table-striped table\" data-wg-type=\"table\"> <tr> <td>laboris</td> <td>ut</td> <td>non</td> <td>0</td> </tr> <tr> <td>duis</td> <td>anim</td> <td>nostrud</td> <td>0</td> </tr> <tr> <td>est</td> <td>aliqua</td> <td>id</td> <td>0</td> </tr> <tr> <td>duis</td> <td>ipsum</td> <td>excepteur</td> <td>0</td> </tr> <tr> <td>duis</td> <td>incididunt</td> <td>reprehenderit</td> <td>0</td> </tr> </table> </div> </div> </div> <footer class=\" rounded shadow-sm jumbotron mb-0\" data-wg-type=\"footer\" style=\"height: 29vh;\"> <div class=\"container\"> <span class=\"text-muted\">Voluptate proident do nisi dolore cillum esse qui</span> </div> </footer> </div> <div class=\"bg-dark rounded shadow-sm\" data-wg-type=\"sidebar\" id=\"sidebar-wrapper\"> <div class=\"list-group list-group-flush\" style=\"width:26vh;\"> <a class=\"list-group-item list-group-item-action\" href=\"#\">Commodo id eu</a> <a class=\"list-group-item list-group-item-action\" href=\"#\">Quis ullamco</a> <a class=\"list-group-item list-group-item-action\" href=\"#\">Elit duis est</a> <a class=\"list-group-item list-group-item-action\" href=\"#\">Sint ex elit</a> </div> </div> </div> </div> </body> </html>\n",
            "      Bleu: 0.76\n",
            "\n",
            "Prediction: <!DOCTYPE html> <html> <head> <title>Dominate</title> <meta content=\"{&quot;primary&quot;: &quot;rgb(125, 179, 144)&quot;, &quot;secondary&quot;: &quot;rgb(21, 109, 115)&quot;, &quot;light&quot;: &quot;rgb(255, 246, 244)&quot;, &quot;dark&quot;: &quot;rgb(21, 29, 68)&quot;, &quot;enable-gradients&quot;: false}\" name=\"wg-palette\"> <meta content=\"width=device-width, initial-scale=1.0\" name=\"viewport\"> <meta content=\"Web Generator\" name=\"author\"> <meta content=\"1\" name=\"wg-layout\"> <link href=\"../css/custom-bootstrap.css\" rel=\"stylesheet\"> <link href=\"../css/wg-extras.css\" rel=\"stylesheet\"> <script src=\"../js/jquery-3.2.1.slim.min.js\" type=\"text/javascript\"></script> <script src=\"../js/bootstrap.min.js\" type=\"text/javascript\"></script> </head> <body class=\"\"> <div class=\"d-flex \" id=\"full-wrapper\"> <div class=\"w-100\"> <nav class=\"bg-light navbar-light rounded navbar navbar-expand-md\" data-wg-type=\"navbar\"> <a class=\"navbar-brand\" href=\"#\">Laboris</a> <button class=\"navbar-toggler\" data-target=\"#main-nav\" data-toggle=\"collapse\" type=\"button\"> <span class=\"navbar-toggler-icon\"></span> </button> <div class=\"collapse navbar-collapse\" id=\"main-nav\" style=\"height: 4vh;\"> <ul class=\"navbar-nav mx-auto\"> <li class=\"nav-item\"> <a class=\"nav-link\" href=\"#\">Dolore ad do</a> </li> <li class=\"nav-item\"> <a class=\"nav-link\" href=\"#\">Esse ullamco</a> </li> <li class=\"nav-item\"> <a class=\"nav-link\" href=\"#\">Voluptate est</a> </li> <li class=\"nav-item\"> <a class=\"nav-link\" href=\"#\">Lorem ea ex</a> </li> <li class=\"nav-item\"> <a class=\"nav-link\" href=\"#\">Reprehenderit</a> </li> </ul> </div> </nav> <header class=\"bg-secondary text-white rounded d-flex align-items-center justify-content-center\" data-wg-type=\"header\" style=\"height: 20vh;\"> <h1 class=\"p-2 text-center\">Aliqua Dolore Nisi Cillum Elit Do</h1> </header> <div class=\"container-fluid py-3\" id=\"page-content\"> <div class=\"row my-3 wg-detect\" data-wg-type=\"mix\"> <div class=\"col\"> <h1 class=\"wg-detect\" data-wg-type=\"heading\">Irure sint lorem occaecat.</h1> </div> <div class=\"col\"> <ol class=\"wg-detect\" data-wg-type=\"list\"> <li>Sunt id aute</li> <li>Dolore irure</li> <li>Sunt amet id</li> <li>Lorem tempor</li> <li>Tempor lorem</li> <li>Aliquip nulla</li> </ol> </div> </div> <div class=\"m-3 wg-detect\" data-wg-type=\"tabs\"> <div class=\"nav nav-tabs\"> <a aria-controls=\"sunt\" class=\"nav-item nav-link active\" data-toggle=\"tab\" href=\"#sunt\" id=\"sunt-tab\" role=\"tab\">Sunt</a> <a aria-controls=\"ut\" class=\"nav-item nav-link\" data-toggle=\"tab\" href=\"#ut\" id=\"ut-tab\" role=\"tab\">Ut</a> <a aria-controls=\"est\" class=\"nav-item nav-link\" data-toggle=\"tab\" href=\"#est\" id=\"est-tab\" role=\"tab\">Est</a> <a aria-controls=\"elit\" class=\"nav-item nav-link\" data-toggle=\"tab\" href=\"#elit\" id=\"elit-tab\" role=\"tab\">Elit</a> </div> <div class=\"tab-content\"> <div aria-labelledby=\"sunt\" class=\"tab-pane fade border p-3 show active\" id=\"sunt\" role=\"tabpanel\">Ex dolor fugiat aliquip proident nostrud, aute qui anim ut non commodo labore. Anim duis eu veniam lorem laborum.</div> <div aria-labelledby=\"ut\" class=\"tab-pane fade border p-3\" id=\"ut\" role=\"tabpanel\">Et aliquip aliquip aliqua.</div> <div aria-labelledby=\"est\" class=\"tab-pane fade border p-3\" id=\"est\" role=\"tabpanel\">Et aliquip ullamco aliqua.</div> <div aria-labelledby=\"elit\" class=\"tab-pane fade border p-3\" id=\"elit\" role=\"tabpanel\">Et aliquip ullamco aliqua.</div> </div> </div> <div class=\"row my-3 wg-detect\" data-wg-type=\"mix\"> <div class=\"col\"> <h1 class=\"wg-detect\" data-wg-type=\"heading\">Officia exercitation elit anim cillum.</h1> </div> <div class=\"col\"> <p class=\"wg-detect\" data-wg-type=\"paragraph\">Et cillum magna consequat dolore nostrud nulla nisi. Consectetur do et dolor laborum nostrud, non id cupidatat laborum cillum qui ad non. Duis tempor ex reprehenderit cillum deserunt, do dolore nisi sed pariatur ut enim. Voluptate voluptate enim adipiscing ad commodo non, fugiat nostrud amet qui occaecat consequat. Quis officia ex cupidatat dolore mollit magna exercitation, id ipsum ea enim consequat non amet. Incididunt eiusmod deserunt sit velit officia pariatur ipsum.</p> </div> <div class=\"col\"> <h1 class=\"wg-detect\" data-wg-type=\"heading\">Dolor sit pariatur aute.</h1> </div> </div> </div> </div> <div class=\"bg-light\" data-wg-type=\"sidebar\" id=\"sidebar-wrapper\"> <div class=\"sidebar-heading\">Do</div> <div class=\"list-group list-group-flush\" style=\"width:27vh;\"> <a class=\"list-group-item list-group-item-action\" href=\"#\">Laborum ut et</a> <a class=\"list-group-item list-group-item-action\" href=\"#\">Incididunt ad</a> </div> </div> </div> </body> </html>\n",
            "    Answer: <!DOCTYPE html> <html> <head> <title>Dominate</title> <meta content=\"{&quot;primary&quot;: &quot;rgb(239, 205, 171)&quot;, &quot;secondary&quot;: &quot;rgb(188, 102, 15)&quot;, &quot;light&quot;: &quot;rgb(240, 213, 186)&quot;, &quot;dark&quot;: &quot;rgb(100, 56, 11)&quot;, &quot;enable-gradients&quot;: false}\" name=\"wg-palette\"> <meta content=\"width=device-width, initial-scale=1.0\" name=\"viewport\"> <meta content=\"Web Generator\" name=\"author\"> <meta content=\"4\" name=\"wg-layout\"> <link href=\"../css/custom-bootstrap.css\" rel=\"stylesheet\"> <link href=\"../css/wg-extras.css\" rel=\"stylesheet\"> <script src=\"../js/jquery-3.2.1.slim.min.js\" type=\"text/javascript\"></script> <script src=\"../js/bootstrap.min.js\" type=\"text/javascript\"></script> </head> <body class=\"\"> <div class=\" rounded shadow-sm\" id=\"full-wrapper\"> <div class=\"d-flex\"> <div class=\"w-100\"> <nav class=\"bg-light navbar-light rounded shadow-sm navbar navbar-expand-md\" data-wg-type=\"navbar\"> <a class=\"navbar-brand\" href=\"#\">Laboris</a> <button class=\"navbar-toggler\" data-target=\"#main-nav\" data-toggle=\"collapse\" type=\"button\"> <span class=\"navbar-toggler-icon\"></span> </button> <div class=\"collapse navbar-collapse\" id=\"main-nav\" style=\"height: 5vh;\"> <ul class=\"navbar-nav mx-auto\"> <li class=\"nav-item\"> <a class=\"nav-link\" href=\"#\">Dolore ad do</a> </li> <li class=\"nav-item\"> <a class=\"nav-link\" href=\"#\">Esse ullamco</a> </li> <li class=\"nav-item\"> <a class=\"nav-link\" href=\"#\">Voluptate est</a> </li> <li class=\"nav-item\"> <a class=\"nav-link\" href=\"#\">Lorem ea ex</a> </li> <li class=\"nav-item\"> <a class=\"nav-link\" href=\"#\">Reprehenderit</a> </li> </ul> </div> </nav> <header class=\"bg-secondary text-white rounded shadow-sm d-flex align-items-center justify-content-center\" data-wg-type=\"header\" style=\"height: 22vh;\"> <h1 class=\"p-2 text-center\">Aliqua Dolore Nisi Cillum Elit Do</h1> </header> <div class=\"container-fluid py-3\" id=\"page-content\"> <div class=\"row my-3 wg-detect\" data-wg-type=\"mix\"> <div class=\"col\"> <h1 class=\"wg-detect\" data-wg-type=\"heading\">Irure sint lorem occaecat.</h1> </div> <div class=\"col\"> <ol class=\"wg-detect\" data-wg-type=\"list\"> <li>Sunt id aute</li> <li>Dolore irure</li> <li>Sunt amet id</li> <li>Lorem tempor</li> <li>Tempor lorem</li> <li>Aliquip nulla</li> </ol> </div> </div> <div class=\"m-3 wg-detect\" data-wg-type=\"tabs\"> <div class=\"nav nav-tabs\"> <a aria-controls=\"sunt\" class=\"nav-item nav-link active\" data-toggle=\"tab\" href=\"#sunt\" id=\"sunt-tab\" role=\"tab\">Sunt</a> <a aria-controls=\"ut\" class=\"nav-item nav-link\" data-toggle=\"tab\" href=\"#ut\" id=\"ut-tab\" role=\"tab\">Ut</a> <a aria-controls=\"est\" class=\"nav-item nav-link\" data-toggle=\"tab\" href=\"#est\" id=\"est-tab\" role=\"tab\">Est</a> <a aria-controls=\"elit\" class=\"nav-item nav-link\" data-toggle=\"tab\" href=\"#elit\" id=\"elit-tab\" role=\"tab\">Elit</a> </div> <div class=\"tab-content\"> <div aria-labelledby=\"sunt\" class=\"tab-pane fade border p-3 show active\" id=\"sunt\" role=\"tabpanel\">Ex dolor fugiat aliquip proident nostrud, aute qui anim ut non commodo labore. Anim duis eu veniam lorem laborum.</div> <div aria-labelledby=\"ut\" class=\"tab-pane fade border p-3\" id=\"ut\" role=\"tabpanel\">Labore in nostrud proident ipsum sit.</div> <div aria-labelledby=\"est\" class=\"tab-pane fade border p-3\" id=\"est\" role=\"tabpanel\">Aute consectetur pariatur ut non sed, reprehenderit do lorem excepteur id eu. Sit ex laborum aliqua duis incididunt incididunt, ea ex ad ut qui.</div> <div aria-labelledby=\"elit\" class=\"tab-pane fade border p-3\" id=\"elit\" role=\"tabpanel\">Eu sed exercitation occaecat officia cupidatat, non non elit qui duis lorem et.</div> </div> </div> <div class=\"row my-3 wg-detect\" data-wg-type=\"mix\"> <div class=\"col\"> <h1 class=\"wg-detect\" data-wg-type=\"heading\">Officia exercitation elit anim cillum.</h1> </div> <div class=\"col\"> <p class=\"wg-detect\" data-wg-type=\"paragraph\">Et cillum magna consequat dolore nostrud nulla nisi. Consectetur do et dolor laborum nostrud, non id cupidatat laborum cillum qui ad non. Duis tempor ex reprehenderit cillum deserunt, do dolore nisi sed pariatur ut enim. Voluptate voluptate enim adipiscing ad commodo non, fugiat nostrud amet qui occaecat consequat. Quis officia ex cupidatat dolore mollit magna exercitation, id ipsum ea enim consequat non amet. Incididunt eiusmod deserunt sit velit officia pariatur ipsum.</p> </div> <div class=\"col\"> <h1 class=\"wg-detect\" data-wg-type=\"heading\">Dolor sit pariatur aute.</h1> </div> </div> </div> </div> <div class=\"bg-light rounded shadow-sm\" data-wg-type=\"sidebar\" id=\"sidebar-wrapper\"> <div class=\"sidebar-heading\">Do</div> <div class=\"list-group list-group-flush\" style=\"width:23vh;\"> <a class=\"list-group-item list-group-item-action\" href=\"#\">Laborum ut et</a> <a class=\"list-group-item list-group-item-action\" href=\"#\">Incididunt ad</a> </div> </div> </div> </div> </body> </html>\n",
            "      Bleu: 0.92\n",
            "\n",
            "Prediction: <!DOCTYPE html> <html> <head> <title>Dominate</title> <meta content=\"{&quot;primary&quot;: &quot;rgb(248, 160, 126)&quot;, &quot;secondary&quot;: &quot;rgb(206, 102, 147)&quot;, &quot;light&quot;: &quot;rgb(243, 231, 155)&quot;, &quot;dark&quot;: &quot;rgb(92, 83, 165)&quot;, &quot;enable-gradients&quot;: false}\" name=\"wg-palette\"> <meta content=\"width=device-width, initial-scale=1.0\" name=\"viewport\"> <meta content=\"Web Generator\" name=\"author\"> <meta content=\"4\" name=\"wg-layout\"> <link href=\"../css/custom-bootstrap.css\" rel=\"stylesheet\"> <link href=\"../css/wg-extras.css\" rel=\"stylesheet\"> <script src=\"../js/jquery-3.2.1.slim.min.js\" type=\"text/javascript\"></script> <script src=\"../js/bootstrap.min.js\" type=\"text/javascript\"></script> </head> <body class=\"\"> <div class=\" rounded\" id=\"full-wrapper\"> <div class=\"d-flex\"> <div class=\"w-100\"> <nav class=\"bg-light navbar-light rounded navbar navbar-expand-md\" data-wg-type=\"navbar\"> <button class=\"navbar-toggler\" data-target=\"#main-nav\" data-toggle=\"collapse\" type=\"button\"> <span class=\"navbar-toggler-icon\"></span> </button> <div class=\"collapse navbar-collapse\" id=\"main-nav\" style=\"height: 4vh;\"> <ul class=\"navbar-nav mr-auto\"> <li class=\"nav-item\"> <a class=\"nav-link\" href=\"#\">Esse commodo</a> </li> <li class=\"nav-item\"> <a class=\"nav-link\" href=\"#\">Enim nostrud</a> </li> <li class=\"nav-item\"> <a class=\"nav-link\" href=\"#\">Et aliquip ut</a> </li> </ul> </div> </nav> <div class=\"container-fluid py-3\" id=\"page-content\"> <div class=\"wg-detect\" data-wg-type=\"descriptive_items\"> <div class=\"row\"> <div class=\"col\"> <h2>Excepteur dolor qui commodo.</h2> <p><br> <span class=\"mx-auto m-2 placeholder\" data-wg-type=\"image\" style=\"width: 281px;height: 161px;\"> <span>281x161</span> </span> <span data-wg-type=\"text_area\">Cupidatat magna fugiat id ex minim ut, ut quis consequat enim proident non magna, consequat culpa non minim ex. Commodo lorem pariatur voluptate dolor. Esse cillum aute ea nulla tempor dolore, non fugiat consectetur commodo. Et sit nostrud laborum consectetur commodo, esse magna lorem id id amet pariatur. Anim qui culpa enim. Proident mollit commodo in duis. Ipsum tempor labore aute veniam in exercitation veniam. Culpa dolore laboris amet aliquip. Velit minim quis amet ex nostrud cillum, tempor ut ipsum id eu laborum eu. Cupidatat pariatur sed et non commodo enim voluptate. Excepteur officia laboris magna magna. Mollit pariatur elit laboris do deserunt. Cupidatat deserunt nisi adipiscing id eu irure mollit. Id minim pariatur laboris velit incididunt. Amet reprehenderit proident nisi est. Consectetur deserunt eiusmod dolor. Et in reprehenderit magna consectetur est mollit. Ea elit sit magna irure ut adipiscing. Adipiscing culpa ipsum fugiat velit duis dolore occaecat. Adipiscing dolor veniam non fugiat ex velit, aliqua voluptate voluptate do fugiat.</span> </p> </div> </div> <div class=\"row\"> <div class=\"col\"> <h2>Amet consequat aute consectetur id et qui.</h2> <p><br> <span class=\"float-left m-2 placeholder\" data-wg-type=\"image\" style=\"width: 281px;height: 161px;\"> <span>281x161</span> </span> <span data-wg-type=\"text_area\">Exercitation sint cupidatat incididunt. Eiusmod laborum aliqua do pariatur commodo. Nisi voluptate mollit officia commodo ea eiusmod sed, deserunt adipiscing amet ut dolor dolore laboris ullamco. Culpa anim eiusmod qui eu. Pariatur amet ea. Magna do labore dolor veniam dolore, tempor eiusmod aliqua est labore sit eu dolor, in deserunt incididunt dolore est. Laborum fugiat irure sint. Elit ad duis incididunt ipsum officia sint. Excepteur reprehenderit exercitation sunt consequat proident esse, magna proident do qui sint. Duis officia sit magna ex sint enim. Duis sed est anim deserunt, esse proident commodo quis elit reprehenderit. Tempor aliqua pariatur proident esse labore excepteur. Laboris nulla occaecat do, magna aliquip dolore amet. Culpa adipiscing consectetur esse exercitation quis, culpa cupidatat ipsum sit, occaecat commodo consectetur ut ex. Laborum irure enim culpa incididunt non cupidatat, laborum occaecat nulla velit sint aliqua magna. Aliqua officia officia culpa voluptate. Non adipiscing ut ipsum, excepteur exercitation do ipsum, nisi tempor ut amet nisi adipiscing commodo. Labore est ex eiusmod ea eu quis.</span> </p> </div> </div> <div class=\"row\"> <div class=\"col\"> <h2>Sed est nostrud nisi ipsum qui.</h2> <p><br> <span class=\"float-right m-2 placeholder\" data-wg-type=\"image\" style=\"width: 281px;height: 161px;\"> <span>281x161</span> </span> <span data-wg-type=\"text_area\">Sunt quis velit dolore lorem labore. Excepteur tempor excepteur amet cupidatat. Velit sunt sit proident sint excepteur occaecat dolore. Deserunt eu in non et irure. Laboris sint laboris elit. Consequat excepteur excepteur proident laboris et, consequat quis deserunt nostrud tempor nisi, amet minim nostrud dolore elit laborum. Duis nulla lorem esse deserunt culpa amet excepteur. Ex nostrud exercitation eu nulla nostrud sit eiusmod, sunt minim esse laboris id irure. Dolore minim esse excepteur. Commodo pariatur nulla nostrud aliqua id. Deserunt reprehenderit voluptate anim sunt. Eiusmod cupidatat anim officia reprehenderit laboris culpa fugiat. Aute cillum sunt nisi fugiat velit pariatur.</span> </p> </div> </div> </div> </div> </div> </div> <footer class=\" rounded jumbotron mb-0\" data-wg-type=\"footer\" style=\"height: 10vh;\"> <div class=\"container\"> <span class=\"text-muted\">Dolor fugiat veniam labore esse et officia qui eu</span> </div> </footer> </div> </body> </html>\n",
            "    Answer: <!DOCTYPE html> <html> <head> <title>Dominate</title> <meta content=\"{&quot;primary&quot;: &quot;rgb(122, 247, 170)&quot;, &quot;secondary&quot;: &quot;rgb(19, 166, 76)&quot;, &quot;light&quot;: &quot;rgb(208, 254, 225)&quot;, &quot;dark&quot;: &quot;rgb(58, 87, 69)&quot;, &quot;enable-gradients&quot;: true}\" name=\"wg-palette\"> <meta content=\"width=device-width, initial-scale=1.0\" name=\"viewport\"> <meta content=\"Web Generator\" name=\"author\"> <meta content=\"2\" name=\"wg-layout\"> <link href=\"../css/custom-bootstrap.css\" rel=\"stylesheet\"> <link href=\"../css/wg-extras.css\" rel=\"stylesheet\"> <script src=\"../js/jquery-3.2.1.slim.min.js\" type=\"text/javascript\"></script> <script src=\"../js/bootstrap.min.js\" type=\"text/javascript\"></script> </head> <body class=\"\"> <div class=\"\" id=\"full-wrapper\"> <nav class=\"bg-gradient-light navbar-light navbar navbar-expand-md\" data-wg-type=\"navbar\"> <button class=\"navbar-toggler\" data-target=\"#main-nav\" data-toggle=\"collapse\" type=\"button\"> <span class=\"navbar-toggler-icon\"></span> </button> <div class=\"collapse navbar-collapse\" id=\"main-nav\" style=\"height: 3vh;\"> <ul class=\"navbar-nav ml-auto\"> <li class=\"nav-item\"> <a class=\"nav-link\" href=\"#\">Sunt non in</a> </li> <li class=\"nav-item\"> <a class=\"nav-link\" href=\"#\">Culpa ea aute</a> </li> </ul> </div> </nav> <div class=\"d-flex\"> <div class=\"flex-grow-1\"> <div class=\"container-fluid py-3\" id=\"page-content\"> <div class=\"wg-detect\" data-wg-type=\"descriptive_items\"> <div class=\"row\"> <div class=\"col\"> <h2>Excepteur dolor qui commodo.</h2> <p><br> <span class=\"mx-auto m-2 shadow placeholder\" data-wg-type=\"image\" style=\"width: 291px;height: 261px;\"> <span>291x261</span> </span> <span data-wg-type=\"text_area\">Cupidatat magna fugiat id ex minim ut, ut quis consequat enim proident non magna, consequat culpa non minim ex. Commodo lorem pariatur voluptate dolor. Esse cillum aute ea nulla tempor dolore, non fugiat consectetur mollit pariatur irure. Ex sit nostrud laborum excepteur commodo, eiusmod magna lorem id id amet pariatur. Anim qui culpa enim. Proident mollit commodo in duis. Ipsum tempor labore aute veniam in lorem reprehenderit. Culpa dolore laboris amet aliquip. Velit minim sunt amet ex nostrud cillum, tempor ut ipsum id eu laborum eu. Cupidatat pariatur sed et non commodo enim voluptate. Excepteur officia laboris magna magna. Mollit pariatur elit laboris do deserunt. Cupidatat deserunt nisi adipiscing id ex irure mollit. Id minim pariatur laboris velit incididunt. Amet reprehenderit proident nisi est. Consectetur deserunt eiusmod dolor. Et in reprehenderit magna consectetur est mollit. Ea elit sit magna irure ut adipiscing. Adipiscing culpa ipsum fugiat velit duis dolore occaecat. Adipiscing dolor veniam non fugiat ex velit, aliqua voluptate voluptate do fugiat.</span> </p> </div> </div> <div class=\"row\"> <div class=\"col\"> <h2>Amet consequat aute consectetur id et qui.</h2> <p><br> <span class=\"mx-auto m-2 shadow placeholder\" data-wg-type=\"image\" style=\"width: 291px;height: 261px;\"> <span>291x261</span> </span> <span data-wg-type=\"text_area\">Exercitation sint cupidatat incididunt. Eiusmod laborum aliqua do pariatur commodo. Nisi voluptate mollit officia commodo ea eiusmod sed, deserunt adipiscing amet ut dolor dolore laboris ullamco. Culpa anim eiusmod qui eu. Pariatur amet esse ea. Magna do labore dolor veniam dolore, tempor eiusmod aliqua est labore sit ex dolor, in deserunt incididunt dolore est. Laborum fugiat irure sint. Elit ad duis incididunt ipsum officia sint. Excepteur reprehenderit exercitation sunt consequat proident esse, magna proident do qui sint. Duis officia sit magna ea sint enim. Duis sed est anim deserunt, esse proident commodo quis elit reprehenderit. Tempor aliqua pariatur proident esse labore excepteur. Laboris nulla occaecat do, magna velit magna do amet. Culpa adipiscing consectetur esse exercitation quis, culpa cupidatat ipsum sit, occaecat commodo consectetur ut ex. Laborum irure enim culpa incididunt non cupidatat, laborum occaecat nulla velit sint ullamco quis minim. Sunt elit officia culpa voluptate. Non adipiscing ut ipsum, excepteur exercitation do ipsum, nisi tempor ut amet nisi adipiscing commodo. Labore est ex eiusmod ea eu quis.</span> </p> </div> </div> <div class=\"row\"> <div class=\"col\"> <h2>Sed est nostrud nisi ipsum qui.</h2> <p><br> <span class=\"mx-auto m-2 shadow placeholder\" data-wg-type=\"image\" style=\"width: 291px;height: 261px;\"> <span>291x261</span> </span> <span data-wg-type=\"text_area\">Sunt quis velit dolore lorem labore. Excepteur tempor excepteur amet cupidatat. Velit sunt sit proident sint excepteur occaecat dolore. Deserunt eu in non et irure. Laboris sint laboris elit. Consequat excepteur excepteur proident laboris et, consequat quis deserunt nostrud tempor nisi, amet minim nostrud dolore elit laborum. Duis nulla lorem esse deserunt culpa amet excepteur. Ex nostrud exercitation eu nulla nostrud sit eiusmod, sunt minim esse laboris id irure. Dolore minim esse excepteur. Commodo pariatur nulla nostrud aliqua id. Deserunt reprehenderit voluptate anim sunt. Eiusmod cupidatat anim officia reprehenderit laboris culpa fugiat. Aute cillum sunt nisi fugiat velit pariatur.</span> </p> </div> </div> </div> </div> <footer class=\"jumbotron mb-0\" data-wg-type=\"footer\" style=\"height: 23vh;\"> <div class=\"container\"> <span class=\"text-muted\">Dolor fugiat veniam labore esse et officia qui eu</span> </div> </footer> </div> </div> </div> </body> </html>\n",
            "      Bleu: 0.95\n",
            "\n",
            "Prediction: <!DOCTYPE html> <html> <head> <title>Dominate</title> <meta content=\"{&quot;primary&quot;: &quot;rgb(189, 201, 225)&quot;, &quot;secondary&quot;: &quot;rgb(103, 169, 207)&quot;, &quot;light&quot;: &quot;rgb(246, 239, 247)&quot;, &quot;dark&quot;: &quot;rgb(2, 129, 138)&quot;, &quot;enable-gradients&quot;: false}\" name=\"wg-palette\"> <meta content=\"width=device-width, initial-scale=1.0\" name=\"viewport\"> <meta content=\"Web Generator\" name=\"author\"> <meta content=\"3\" name=\"wg-layout\"> <link href=\"../css/custom-bootstrap.css\" rel=\"stylesheet\"> <link href=\"../css/wg-extras.css\" rel=\"stylesheet\"> <script src=\"../js/jquery-3.2.1.slim.min.js\" type=\"text/javascript\"></script> <script src=\"../js/bootstrap.min.js\" type=\"text/javascript\"></script> </head> <body class=\"\"> <div class=\" rounded shadow-lg\" id=\"full-wrapper\"> <nav class=\"bg-light navbar-light rounded shadow-lg navbar navbar-expand-md\" data-wg-type=\"navbar\"> <button class=\"navbar-toggler\" data-target=\"#main-nav\" data-toggle=\"collapse\" type=\"button\"> <span class=\"navbar-toggler-icon\"></span> </button> <div class=\"collapse navbar-collapse\" id=\"main-nav\" style=\"height: 4vh;\"> <ul class=\"navbar-nav ml-auto\"> <li class=\"nav-item\"> <a class=\"nav-link\" href=\"#\">Nisi ea id eu</a> </li> <li class=\"nav-item\"> <a class=\"nav-link\" href=\"#\">Quis occaecat</a> </li> <li class=\"nav-item\"> <a class=\"nav-link\" href=\"#\">Voluptate sit</a> </li> </ul> </div> </nav> <div class=\"d-flex\"> <div class=\"container-fluid py-3\" id=\"page-content\"> <form class=\"p-3\" data-wg-type=\"form\"> <div class=\"form-row\"> <div class=\"form-group col-md\"> <label for=\"enim\">Enim</label> <select class=\"form-control\" data-wg-type=\"select\" id=\"enim\"> <option>Eu eu irure</option> <option>Enim</option> <option>Eiusmod</option> <option>Enim</option> <option>Enim</option> <option>Enim</option> <option>Enim</option> <option>Enim</option> </select> </div> <div class=\"form-group col-md\"> <label for=\"laborum_velit\">Laborum velit</label> <input class=\"form-control\" data-wg-type=\"date\" id=\"laborum_velit\" type=\"date\"> </div> <div class=\"form-group col-md\"> <label for=\"nisi_cupidatat_quis\">Nisi cupidatat quis</label> <input class=\"form-control\" data-wg-type=\"text\" id=\"nisi_cupidatat_quis\" type=\"text\"> </div> </div> <div class=\"form-row\"> <div class=\"form-group col-md\"> <label for=\"fugiat\">Fugiat</label> <input class=\"custom-range\" data-wg-type=\"range\" id=\"fugiat\" type=\"range\"> </div> <div class=\"form-group col-md\"> <label for=\"occaecat_culpa_officia\">Occaecat culpa officia</label> <input class=\"form-control\" data-wg-type=\"text\" id=\"occaecat_culpa_officia\" type=\"text\"> </div> <div class=\"form-group col-md\"> <label for=\"consequat_in\">Consequat in</label> <select class=\"form-control\" data-wg-type=\"select\" id=\"consequat_in\"> <option>Sed</option> <option>Enim</option> <option>Esse</option> <option>Enim</option> <option>Esse</option> <option>Enim</option> <option>Esse</option> <option>Enim</option> </select> </div> </div> <div class=\"form-row\"> <div class=\"form-group col-md\"> <label for=\"laborum\">Laborum</label> <input class=\"form-control\" data-wg-type=\"time\" id=\"laborum\" type=\"time\"> </div> <div class=\"form-group col-md\"> <label for=\"sed_cupidatat\">Sed cupidatat</label> <input class=\"form-control\" data-wg-type=\"text\" id=\"sed_cupidatat\" type=\"text\"> </div> </div> </form> </div> </div> </div> </body> </html>\n",
            "    Answer: <!DOCTYPE html> <html> <head> <title>Dominate</title> <meta content=\"{&quot;primary&quot;: &quot;rgb(191, 151, 71)&quot;, &quot;secondary&quot;: &quot;rgb(121, 83, 56)&quot;, &quot;light&quot;: &quot;rgb(233, 246, 171)&quot;, &quot;dark&quot;: &quot;rgb(34, 31, 27)&quot;, &quot;enable-gradients&quot;: false}\" name=\"wg-palette\"> <meta content=\"width=device-width, initial-scale=1.0\" name=\"viewport\"> <meta content=\"Web Generator\" name=\"author\"> <meta content=\"4\" name=\"wg-layout\"> <link href=\"../css/custom-bootstrap.css\" rel=\"stylesheet\"> <link href=\"../css/wg-extras.css\" rel=\"stylesheet\"> <script src=\"../js/jquery-3.2.1.slim.min.js\" type=\"text/javascript\"></script> <script src=\"../js/bootstrap.min.js\" type=\"text/javascript\"></script> </head> <body class=\"\"> <div class=\" shadow\" id=\"full-wrapper\"> <div class=\"d-flex\"> <div class=\"w-100\"> <nav class=\"bg-light navbar-light shadow navbar navbar-expand-md\" data-wg-type=\"navbar\"> <button class=\"navbar-toggler\" data-target=\"#main-nav\" data-toggle=\"collapse\" type=\"button\"> <span class=\"navbar-toggler-icon\"></span> </button> <div class=\"collapse navbar-collapse\" id=\"main-nav\" style=\"height: 8vh;\"> <ul class=\"navbar-nav ml-auto\"> <li class=\"nav-item\"> <a class=\"nav-link\" href=\"#\">Nisi ea id eu</a> </li> <li class=\"nav-item\"> <a class=\"nav-link\" href=\"#\">Quis occaecat</a> </li> <li class=\"nav-item\"> <a class=\"nav-link\" href=\"#\">Voluptate sit</a> </li> </ul> </div> </nav> <div class=\"container-fluid py-3\" id=\"page-content\"> <form class=\"p-3\" data-wg-type=\"form\"> <div class=\"form-row\"> <div class=\"form-group col-md\"> <label for=\"enim\">Enim</label> <select class=\"form-control\" data-wg-type=\"select\" id=\"enim\"> <option>Eu eu irure</option> <option>Pariatur deserunt</option> <option>Eu</option> <option>Ut aute</option> </select> </div> <div class=\"form-group col-md\"> <label for=\"laborum_velit\">Laborum velit</label> <input class=\"form-control\" data-wg-type=\"date\" id=\"laborum_velit\" type=\"date\"> </div> <div class=\"form-group col-md\"> <label for=\"nisi_cupidatat_quis\">Nisi cupidatat quis</label> <input class=\"form-control\" data-wg-type=\"text\" id=\"nisi_cupidatat_quis\" type=\"text\"> </div> </div> <div class=\"form-row\"> <div class=\"form-group col-md\"> <label for=\"fugiat\">Fugiat</label> <input class=\"custom-range\" data-wg-type=\"range\" id=\"fugiat\" type=\"range\"> </div> <div class=\"form-group col-md\"> <label for=\"occaecat_culpa_officia\">Occaecat culpa officia</label> <input class=\"form-control\" data-wg-type=\"text\" id=\"occaecat_culpa_officia\" type=\"text\"> </div> <div class=\"form-group col-md\"> <label for=\"consequat_in\">Consequat in</label> <select class=\"form-control\" data-wg-type=\"select\" id=\"consequat_in\"> <option>Sed</option> <option>Veniam</option> <option>Do</option> <option>Nostrud laboris</option> <option>Labore amet laboris</option> <option>Occaecat qui</option> <option>Duis sint ut</option> <option>Mollit</option> </select> </div> </div> <div class=\"form-row\"> <div class=\"form-group col-md\"> <label for=\"laborum\">Laborum</label> <input class=\"form-control\" data-wg-type=\"time\" id=\"laborum\" type=\"time\"> </div> <div class=\"form-group col-md\"> <label for=\"sed_cupidatat\">Sed cupidatat</label> <input class=\"form-control\" data-wg-type=\"text\" id=\"sed_cupidatat\" type=\"text\"> </div> </div> </form> </div> </div> </div> </div> </body> </html>\n",
            "      Bleu: 0.94\n",
            "\n",
            "Prediction: <!DOCTYPE html> <html> <head> <title>Dominate</title> <meta content=\"{&quot;primary&quot;: &quot;rgb(248, 160, 126)&quot;, &quot;secondary&quot;: &quot;rgb(206, 102, 147)&quot;, &quot;light&quot;: &quot;rgb(243, 231, 155)&quot;, &quot;dark&quot;: &quot;rgb(92, 83, 165)&quot;, &quot;enable-gradients&quot;: false}\" name=\"wg-palette\"> <meta content=\"width=device-width, initial-scale=1.0\" name=\"viewport\"> <meta content=\"Web Generator\" name=\"author\"> <meta content=\"2\" name=\"wg-layout\"> <link href=\"../css/custom-bootstrap.css\" rel=\"stylesheet\"> <link href=\"../css/wg-extras.css\" rel=\"stylesheet\"> <script src=\"../js/jquery-3.2.1.slim.min.js\" type=\"text/javascript\"></script> <script src=\"../js/bootstrap.min.js\" type=\"text/javascript\"></script> </head> <body class=\"bg-dark\"> <div class=\"bg-light rounded shadow-lg\" id=\"full-wrapper\"> <nav class=\"bg-dark navbar-dark rounded shadow-lg navbar navbar-expand-md\" data-wg-type=\"navbar\"> <button class=\"navbar-toggler\" data-target=\"#main-nav\" data-toggle=\"collapse\" type=\"button\"> <span class=\"navbar-toggler-icon\"></span> </button> <div class=\"collapse navbar-collapse\" id=\"main-nav\" style=\"height: 4vh;\"> <ul class=\"navbar-nav ml-auto\"> <li class=\"nav-item\"> <a class=\"nav-link\" href=\"#\">Exercitation</a> </li> <li class=\"nav-item\"> <a class=\"nav-link\" href=\"#\">Qui anim aute</a> </li> </ul> </div> </nav> <div class=\"d-flex\"> <div class=\"flex-grow-1\"> <div class=\"container-fluid py-3\" id=\"page-content\"> <div class=\"row my-3 wg-detect\" data-wg-type=\"mix\"> <div class=\"col\"> <div class=\"text-center wg-detect\" data-wg-type=\"featured_item\"> <span class=\"text-black rounded-circle mx-auto shadow placeholder\" style=\"width: 136px;height: 136px;\"> <span>136x136</span> </span> <h2>Qui minim eiusmod id</h2> <p>Duis est dolor ad occaecat proident sit mollit sed</p> <a class=\"btn btn-primary\" href=\"#\">Minim id ea</a> </div> </div> </div> <div class=\"row wg-detect\" data-wg-type=\"cards\"> <div class=\"col\"> <div class=\"card-columns\"> <div class=\"text-black shadow card\"> <div class=\"card-body\"> <h5 class=\"card-title\">Nulla magna mollit</h5> <p class=\"card-text\">Reprehenderit magna nostrud dolore non aliqua qui</p> <div class=\"d-flex justify-content-between align-items-center\"> <div class=\"btn-group\"> <button class=\"btn btn-sm btn-outline-secondary\" type=\"button\">Quis occaecat</button> </div> <small class=\"text-muted\">Culpa qui id</small> </div> </div> </div> <div class=\"text-black shadow card\"> <div class=\"card-body\"> <h5 class=\"card-title\">Mollit enim ex sint</h5> <p class=\"card-text\">Irure quis est ex voluptate et anim magna pariatur</p> <div class=\"d-flex justify-content-between align-items-center\"> <div class=\"btn-group\"> <button class=\"btn btn-sm btn-outline-secondary\" type=\"button\">Eu laboris do</button> </div> <small class=\"text-muted\">Ad velit non</small> </div> </div> </div> <div class=\"text-black shadow card\"> <div class=\"card-body\"> <h5 class=\"card-title\">Aliquip in laboris</h5> <p class=\"card-text\">Sunt esse laboris anim ad magna voluptate ipsum in</p> <div class=\"d-flex justify-content-between align-items-center\"> <div class=\"btn-group\"> <button class=\"btn btn-sm btn-outline-secondary\" type=\"button\">Adipiscing ea</button> </div> <small class=\"text-muted\">Duis ad duis</small> </div> </div> </div> <div class=\"text-black shadow card\"> <div class=\"card-body\"> <h5 class=\"card-title\">Minim magna nostrud</h5> <p class=\"card-text\">Commodo ea irure cillum eu anim reprehenderit esse</p> <div class=\"d-flex justify-content-between align-items-center\"> <div class=\"btn-group\"> <button class=\"btn btn-sm btn-outline-secondary\" type=\"button\">Exercitation</button> </div> <small class=\"text-muted\">Esse qui in</small> </div> </div> </div> <div class=\"text-black shadow card\"> <div class=\"card-body\"> <h5 class=\"card-title\">Reprehenderit magna</h5> <p class=\"card-text\">Do ex sint ipsum fugiat qui ad nisi minim ut esse</p> <div class=\"d-flex justify-content-between align-items-center\"> <div class=\"btn-group\"> <button class=\"btn btn-sm btn-outline-secondary\" type=\"button\">Sunt aute et</button> </div> <small class=\"text-muted\">Anim lorem ut</small> </div> </div> </div> <div class=\"text-black shadow card\"> <div class=\"card-body\"> <h5 class=\"card-title\">Consectetur veniam</h5> <p class=\"card-text\">Enim excepteur sit aliquip consectetur elit minim</p> <div class=\"d-flex justify-content-between align-items-center\"> <div class=\"btn-group\"> <button class=\"btn btn-sm btn-outline-secondary\" type=\"button\">Non dolor id</button> </div> <small class=\"text-muted\">Officia magna</small> </div> </div> </div> </div> </div> </div> </div> </div> <footer class=\" rounded shadow-lg jumbotron mb-0\" data-wg-type=\"footer\" style=\"height: 10vh;\"> <div class=\"container\"> <span class=\"text-muted\">Voluptate nisi esse sit velit fugiat laboris dolor</span> </div> </footer> </div> </body> </html>\n",
            "    Answer: <!DOCTYPE html> <html> <head> <title>Dominate</title> <meta content=\"{&quot;primary&quot;: &quot;rgb(215, 181, 216)&quot;, &quot;secondary&quot;: &quot;rgb(223, 101, 176)&quot;, &quot;light&quot;: &quot;rgb(241, 238, 246)&quot;, &quot;dark&quot;: &quot;rgb(206, 18, 86)&quot;, &quot;enable-gradients&quot;: true}\" name=\"wg-palette\"> <meta content=\"width=device-width, initial-scale=1.0\" name=\"viewport\"> <meta content=\"Web Generator\" name=\"author\"> <meta content=\"4\" name=\"wg-layout\"> <link href=\"../css/custom-bootstrap.css\" rel=\"stylesheet\"> <link href=\"../css/wg-extras.css\" rel=\"stylesheet\"> <script src=\"../js/jquery-3.2.1.slim.min.js\" type=\"text/javascript\"></script> <script src=\"../js/bootstrap.min.js\" type=\"text/javascript\"></script> </head> <body class=\"bg-gradient-dark\"> <div class=\"bg-gradient-light\" id=\"full-wrapper\"> <div class=\"d-flex\"> <div class=\"w-100\"> <nav class=\"bg-gradient-dark navbar-dark navbar navbar-expand-md\" data-wg-type=\"navbar\"> <button class=\"navbar-toggler\" data-target=\"#main-nav\" data-toggle=\"collapse\" type=\"button\"> <span class=\"navbar-toggler-icon\"></span> </button> <div class=\"collapse navbar-collapse\" id=\"main-nav\" style=\"height: 3vh;\"> <ul class=\"navbar-nav ml-auto\"> <li class=\"nav-item\"> <a class=\"nav-link\" href=\"#\">Exercitation</a> </li> <li class=\"nav-item\"> <a class=\"nav-link\" href=\"#\">Qui anim aute</a> </li> </ul> </div> </nav> <div class=\"container-fluid py-3\" id=\"page-content\"> <div class=\"row my-3 wg-detect\" data-wg-type=\"mix\"> <div class=\"col\"> <div class=\"text-center wg-detect\" data-wg-type=\"featured_item\"> <span class=\"text-black rounded-circle mx-auto shadow placeholder\" style=\"width: 136px;height: 136px;\"> <span>136x136</span> </span> <h2>Qui minim eiusmod id</h2> <p>Duis est dolor ad occaecat proident sit mollit sed</p> <a class=\"btn btn-primary\" href=\"#\">Minim id ea</a> </div> </div> </div> <div class=\"row wg-detect\" data-wg-type=\"cards\"> <div class=\"col\"> <div class=\"card-columns\"> <div class=\"text-black shadow card\"> <div class=\"card-body\"> <h5 class=\"card-title\">Nulla magna mollit</h5> <p class=\"card-text\">Reprehenderit magna nostrud dolore non aliqua qui</p> <div class=\"d-flex justify-content-between align-items-center\"> <div class=\"btn-group\"> <button class=\"btn btn-sm btn-outline-secondary\" type=\"button\">Quis occaecat</button> </div> <small class=\"text-muted\">Culpa qui id</small> </div> </div> </div> <div class=\"text-black shadow card\"> <div class=\"card-body\"> <h5 class=\"card-title\">Mollit enim ex sint</h5> <p class=\"card-text\">Irure quis est ex voluptate et anim magna pariatur</p> <div class=\"d-flex justify-content-between align-items-center\"> <div class=\"btn-group\"> <button class=\"btn btn-sm btn-outline-secondary\" type=\"button\">Eu laboris do</button> </div> <small class=\"text-muted\">Ad velit non</small> </div> </div> </div> <div class=\"text-black shadow card\"> <div class=\"card-body\"> <h5 class=\"card-title\">Aliquip in laboris</h5> <p class=\"card-text\">Sunt esse laboris anim ad magna voluptate ipsum in</p> <div class=\"d-flex justify-content-between align-items-center\"> <div class=\"btn-group\"> <button class=\"btn btn-sm btn-outline-secondary\" type=\"button\">Adipiscing ea</button> </div> <small class=\"text-muted\">Duis ad duis</small> </div> </div> </div> <div class=\"text-black shadow card\"> <div class=\"card-body\"> <h5 class=\"card-title\">Minim magna nostrud</h5> <p class=\"card-text\">Commodo ea irure cillum eu anim reprehenderit esse</p> <div class=\"d-flex justify-content-between align-items-center\"> <div class=\"btn-group\"> <button class=\"btn btn-sm btn-outline-secondary\" type=\"button\">Exercitation</button> </div> <small class=\"text-muted\">Esse qui in</small> </div> </div> </div> <div class=\"text-black shadow card\"> <div class=\"card-body\"> <h5 class=\"card-title\">Reprehenderit magna</h5> <p class=\"card-text\">Do ex sint ipsum fugiat qui ad nisi minim ut esse</p> <div class=\"d-flex justify-content-between align-items-center\"> <div class=\"btn-group\"> <button class=\"btn btn-sm btn-outline-secondary\" type=\"button\">Sunt aute et</button> </div> <small class=\"text-muted\">Anim lorem ut</small> </div> </div> </div> <div class=\"text-black shadow card\"> <div class=\"card-body\"> <h5 class=\"card-title\">Consectetur veniam</h5> <p class=\"card-text\">Enim excepteur sit aliquip consectetur elit minim</p> <div class=\"d-flex justify-content-between align-items-center\"> <div class=\"btn-group\"> <button class=\"btn btn-sm btn-outline-secondary\" type=\"button\">Non dolor id</button> </div> <small class=\"text-muted\">Officia magna</small> </div> </div> </div> </div> </div> </div> </div> </div> </div> <footer class=\"jumbotron mb-0\" data-wg-type=\"footer\" style=\"height: 5vh;\"> <div class=\"container\"> <span class=\"text-muted\">Voluptate nisi esse sit velit fugiat laboris dolor</span> </div> </footer> </div> </body> </html>\n",
            "      Bleu: 0.98\n",
            "\n",
            "Prediction: <!DOCTYPE html> <html> <head> <title>Dominate</title> <meta content=\"{&quot;primary&quot;: &quot;rgb(125, 179, 144)&quot;, &quot;secondary&quot;: &quot;rgb(21, 109, 115)&quot;, &quot;light&quot;: &quot;rgb(255, 246, 244)&quot;, &quot;dark&quot;: &quot;rgb(21, 29, 68)&quot;, &quot;enable-gradients&quot;: false}\" name=\"wg-palette\"> <meta content=\"width=device-width, initial-scale=1.0\" name=\"viewport\"> <meta content=\"Web Generator\" name=\"author\"> <meta content=\"3\" name=\"wg-layout\"> <link href=\"../css/custom-bootstrap.css\" rel=\"stylesheet\"> <link href=\"../css/wg-extras.css\" rel=\"stylesheet\"> <script src=\"../js/jquery-3.2.1.slim.min.js\" type=\"text/javascript\"></script> <script src=\"../js/bootstrap.min.js\" type=\"text/javascript\"></script> </head> <body class=\"\"> <div class=\" rounded\" id=\"full-wrapper\"> <header class=\"bg-secondary text-white rounded d-flex align-items-center justify-content-center\" data-wg-type=\"header\" style=\"height: 33vh;\"> <h1 class=\"p-2 text-center\">Occaecat Exercitation Pariatur Occaecat Voluptate</h1> </header> <div class=\"d-flex\"> <div class=\"container-fluid py-3\" id=\"page-content\"> <div class=\"row my-3 wg-detect\" data-wg-type=\"mix\"> <div class=\"col\"> <p class=\"wg-detect\" data-wg-type=\"paragraph\">Minim aliquip excepteur lorem in amet anim. Mollit et ex do consequat ex. Laboris amet amet nisi do eu enim. Sint proident commodo nulla proident ex laboris. Excepteur consequat irure est nisi in. Mollit in eiusmod dolore quis culpa quis, duis consequat voluptate deserunt veniam sint ut. Cupidatat velit cupidatat est sed occaecat officia sunt. Ea veniam irure et ad non ipsum culpa.</p> </div> <div class=\"col\"> <p class=\"wg-detect\" data-wg-type=\"paragraph\">Tempor quis consectetur laboris nisi in. Consequat nulla nulla officia adipiscing duis. Sed nisi incididunt ea irure commodo excepteur. Esse magna ipsum aliquip aute ullamco ex. Non reprehenderit laborum sint est enim occaecat, ea lorem in proident ex dolore consectetur tempor. Laboris nisi est laboris do reprehenderit eiusmod cillum.</p> </div> <div class=\"col\"> <h1 class=\"wg-detect\" data-wg-type=\"heading\">In fugiat officia culpa nulla.</h1> </div> </div> </div> </div> <footer class=\" rounded jumbotron mb-0\" data-wg-type=\"footer\" style=\"height: 21vh;\"> <div class=\"container\"> <span class=\"text-muted\">Dolor commodo nulla lorem reprehenderit id aliquip</span> </div> </footer> </div> </body> </html>\n",
            "    Answer: <!DOCTYPE html> <html> <head> <title>Dominate</title> <meta content=\"{&quot;primary&quot;: &quot;rgb(203, 146, 26)&quot;, &quot;secondary&quot;: &quot;rgb(151, 59, 28)&quot;, &quot;light&quot;: &quot;rgb(225, 253, 75)&quot;, &quot;dark&quot;: &quot;rgb(51, 20, 24)&quot;, &quot;enable-gradients&quot;: false}\" name=\"wg-palette\"> <meta content=\"width=device-width, initial-scale=1.0\" name=\"viewport\"> <meta content=\"Web Generator\" name=\"author\"> <meta content=\"4\" name=\"wg-layout\"> <link href=\"../css/custom-bootstrap.css\" rel=\"stylesheet\"> <link href=\"../css/wg-extras.css\" rel=\"stylesheet\"> <script src=\"../js/jquery-3.2.1.slim.min.js\" type=\"text/javascript\"></script> <script src=\"../js/bootstrap.min.js\" type=\"text/javascript\"></script> </head> <body class=\"\"> <div class=\" rounded shadow-sm\" id=\"full-wrapper\"> <div class=\"d-flex\"> <div class=\"bg-light rounded shadow-sm\" data-wg-type=\"sidebar\" id=\"sidebar-wrapper\"> <div class=\"list-group list-group-flush\" style=\"width:25vh;\"> <a class=\"list-group-item list-group-item-action\" href=\"#\">Mollit ipsum</a> <a class=\"list-group-item list-group-item-action\" href=\"#\">Nisi sunt ut</a> <a class=\"list-group-item list-group-item-action\" href=\"#\">Ex mollit qui</a> <a class=\"list-group-item list-group-item-action\" href=\"#\">Velit anim ut</a> <a class=\"list-group-item list-group-item-action\" href=\"#\">Ea duis sunt</a> </div> </div> <div class=\"w-100\"> <header class=\"bg-secondary text-white rounded shadow-sm d-flex align-items-center justify-content-center\" data-wg-type=\"header\" style=\"height: 34vh;\"> <h1 class=\"p-2 text-center\">Occaecat Exercitation Pariatur Occaecat Voluptate</h1> </header> <div class=\"container-fluid py-3\" id=\"page-content\"> <div class=\"row my-3 wg-detect\" data-wg-type=\"mix\"> <div class=\"col\"> <p class=\"wg-detect\" data-wg-type=\"paragraph\">Minim aliquip excepteur lorem in amet anim. Mollit et ex do consequat ex. Laboris amet amet nisi do eu enim. Sint proident commodo nulla proident ex laboris. Excepteur consequat irure est nisi in. Mollit in eiusmod dolore quis culpa quis, duis consequat voluptate deserunt veniam sint ut. Cupidatat velit cupidatat est sed occaecat officia sunt. Ea veniam irure et ad non ipsum culpa.</p> </div> <div class=\"col\"> <p class=\"wg-detect\" data-wg-type=\"paragraph\">Tempor quis consectetur laboris nisi in. Consequat nulla nulla officia adipiscing duis. Sed nisi incididunt ea irure commodo excepteur. Esse magna ipsum aliquip aute ullamco ex. Non reprehenderit laborum sint est enim occaecat, ea lorem in proident ex dolore consectetur tempor. Laboris nisi est laboris do reprehenderit eiusmod cillum.</p> </div> <div class=\"col\"> <h1 class=\"wg-detect\" data-wg-type=\"heading\">In fugiat officia culpa nulla.</h1> </div> </div> </div> </div> </div> <footer class=\" rounded shadow-sm jumbotron mb-0\" data-wg-type=\"footer\" style=\"height: 25vh;\"> <div class=\"container\"> <span class=\"text-muted\">Dolor commodo nulla lorem reprehenderit id aliquip</span> </div> </footer> </div> </body> </html>\n",
            "      Bleu: 0.77\n",
            "\n",
            "Prediction: <!DOCTYPE html> <html> <head> <title>Dominate</title> <meta content=\"{&quot;primary&quot;: &quot;rgb(248, 181, 139)&quot;, &quot;secondary&quot;: &quot;rgb(242, 133, 93)&quot;, &quot;light&quot;: &quot;rgb(253, 224, 197)&quot;, &quot;dark&quot;: &quot;rgb(235, 74, 64)&quot;, &quot;enable-gradients&quot;: false}\" name=\"wg-palette\"> <meta content=\"width=device-width, initial-scale=1.0\" name=\"viewport\"> <meta content=\"Web Generator\" name=\"author\"> <meta content=\"2\" name=\"wg-layout\"> <link href=\"../css/custom-bootstrap.css\" rel=\"stylesheet\"> <link href=\"../css/wg-extras.css\" rel=\"stylesheet\"> <script src=\"../js/jquery-3.2.1.slim.min.js\" type=\"text/javascript\"></script> <script src=\"../js/bootstrap.min.js\" type=\"text/javascript\"></script> </head> <body class=\"\"> <div class=\" rounded\" id=\"full-wrapper\"> <nav class=\"bg-light navbar-light rounded navbar navbar-expand-md\" data-wg-type=\"navbar\"> <a class=\"navbar-brand\" href=\"#\">Sit</a> <button class=\"navbar-toggler\" data-target=\"#main-nav\" data-toggle=\"collapse\" type=\"button\"> <span class=\"navbar-toggler-icon\"></span> </button> <div class=\"collapse navbar-collapse\" id=\"main-nav\" style=\"height: 4vh;\"> <ul class=\"navbar-nav mx-auto\"> <li class=\"nav-item\"> <a class=\"nav-link\" href=\"#\">Velit lorem</a> </li> <li class=\"nav-item\"> <a class=\"nav-link\" href=\"#\">Nulla et est</a> </li> <li class=\"nav-item\"> <a class=\"nav-link\" href=\"#\">In in ullamco</a> </li> <li class=\"nav-item\"> <a class=\"nav-link\" href=\"#\">Mollit dolor</a> </li> <li class=\"nav-item\"> <a class=\"nav-link\" href=\"#\">Cupidatat non</a> </li> </ul> </div> </nav> <div class=\"d-flex\"> <div class=\"flex-grow-1\"> <div class=\"container-fluid py-3\" id=\"page-content\"> <div class=\"row my-3 wg-detect\" data-wg-type=\"mix\"> <div class=\"col\"> <ol class=\"wg-detect\" data-wg-type=\"list\"> <li>Eu ullamco do</li> <li>Incididunt id</li> <li>Ut labore ut</li> </ol> </div> <div class=\"col\"> <h1 class=\"wg-detect\" data-wg-type=\"heading\">In nisi minim aute eu ex consectetur.</h1> </div> <div class=\"col\"> <ul class=\"wg-detect\" data-wg-type=\"list\"> <li>Commodo sit</li> <li>Aliquip enim</li> <li>Consequat ut</li> </ul> </div> </div> </div> <footer class=\" rounded jumbotron mb-0\" data-wg-type=\"footer\" style=\"height: 16vh;\"> <div class=\"container\"> <span class=\"text-muted\">Do commodo incididunt aliquip irure ad veniam elit</span> </div> </footer> </div> <div class=\"bg-light rounded\" data-wg-type=\"sidebar\" id=\"sidebar-wrapper\"> <div class=\"list-group list-group-flush\" style=\"width:22vh;\"> <a class=\"list-group-item list-group-item-action\" href=\"#\">Esse amet in</a> <a class=\"list-group-item list-group-item-action\" href=\"#\">Culpa eu id</a> </div> </div> </div> </div> </body> </html>\n",
            "    Answer: <!DOCTYPE html> <html> <head> <title>Dominate</title> <meta content=\"{&quot;primary&quot;: &quot;rgb(116, 150, 227)&quot;, &quot;secondary&quot;: &quot;rgb(64, 70, 85)&quot;, &quot;light&quot;: &quot;rgb(191, 207, 244)&quot;, &quot;dark&quot;: &quot;rgb(35, 62, 125)&quot;, &quot;enable-gradients&quot;: true}\" name=\"wg-palette\"> <meta content=\"width=device-width, initial-scale=1.0\" name=\"viewport\"> <meta content=\"Web Generator\" name=\"author\"> <meta content=\"2\" name=\"wg-layout\"> <link href=\"../css/custom-bootstrap.css\" rel=\"stylesheet\"> <link href=\"../css/wg-extras.css\" rel=\"stylesheet\"> <script src=\"../js/jquery-3.2.1.slim.min.js\" type=\"text/javascript\"></script> <script src=\"../js/bootstrap.min.js\" type=\"text/javascript\"></script> </head> <body class=\"\"> <div class=\"\" id=\"full-wrapper\"> <nav class=\"bg-gradient-light navbar-light navbar navbar-expand-md\" data-wg-type=\"navbar\"> <a class=\"navbar-brand\" href=\"#\">Sit</a> <button class=\"navbar-toggler\" data-target=\"#main-nav\" data-toggle=\"collapse\" type=\"button\"> <span class=\"navbar-toggler-icon\"></span> </button> <div class=\"collapse navbar-collapse\" id=\"main-nav\" style=\"height: 7vh;\"> <ul class=\"navbar-nav mx-auto\"> <li class=\"nav-item\"> <a class=\"nav-link\" href=\"#\">Velit lorem</a> </li> <li class=\"nav-item\"> <a class=\"nav-link\" href=\"#\">Nulla et est</a> </li> <li class=\"nav-item\"> <a class=\"nav-link\" href=\"#\">In in ullamco</a> </li> <li class=\"nav-item\"> <a class=\"nav-link\" href=\"#\">Mollit dolor</a> </li> <li class=\"nav-item\"> <a class=\"nav-link\" href=\"#\">Cupidatat non</a> </li> </ul> </div> </nav> <div class=\"d-flex\"> <div class=\"flex-grow-1\"> <div class=\"container-fluid py-3\" id=\"page-content\"> <div class=\"row my-3 wg-detect\" data-wg-type=\"mix\"> <div class=\"col\"> <ol class=\"wg-detect\" data-wg-type=\"list\"> <li>Eu ullamco do</li> <li>Incididunt id</li> <li>Ut labore ut</li> </ol> </div> <div class=\"col\"> <h1 class=\"wg-detect\" data-wg-type=\"heading\">In nisi minim aute eu ex consectetur.</h1> </div> <div class=\"col\"> <ul class=\"wg-detect\" data-wg-type=\"list\"> <li>Commodo sit</li> <li>Aliquip enim</li> <li>Consequat ut</li> </ul> </div> </div> </div> <footer class=\"jumbotron mb-0\" data-wg-type=\"footer\" style=\"height: 5vh;\"> <div class=\"container\"> <span class=\"text-muted\">Do commodo incididunt aliquip irure ad veniam elit</span> </div> </footer> </div> <div class=\"bg-gradient-light\" data-wg-type=\"sidebar\" id=\"sidebar-wrapper\"> <div class=\"list-group list-group-flush\" style=\"width:26vh;\"> <a class=\"list-group-item list-group-item-action\" href=\"#\">Esse amet in</a> <a class=\"list-group-item list-group-item-action\" href=\"#\">Culpa eu id</a> </div> </div> </div> </div> </body> </html>\n",
            "      Bleu: 0.97\n",
            "\n",
            "Prediction: <!DOCTYPE html> <html> <head> <title>Dominate</title> <meta content=\"{&quot;primary&quot;: &quot;rgb(100, 80, 70)&quot;, &quot;secondary&quot;: &quot;rgb(70, 85, 100)&quot;, &quot;light&quot;: &quot;rgb(70, 100, 80)&quot;, &quot;dark&quot;: &quot;rgb(80, 70, 100)&quot;, &quot;enable-gradients&quot;: false}\" name=\"wg-palette\"> <meta content=\"width=device-width, initial-scale=1.0\" name=\"viewport\"> <meta content=\"Web Generator\" name=\"author\"> <meta content=\"3\" name=\"wg-layout\"> <link href=\"../css/custom-bootstrap.css\" rel=\"stylesheet\"> <link href=\"../css/wg-extras.css\" rel=\"stylesheet\"> <script src=\"../js/jquery-3.2.1.slim.min.js\" type=\"text/javascript\"></script> <script src=\"../js/bootstrap.min.js\" type=\"text/javascript\"></script> </head> <body class=\"bg-light\"> <div class=\"bg-light text-white rounded shadow-lg\" id=\"full-wrapper\"> <header class=\"bg-dark text-white rounded shadow-lg d-flex align-items-center justify-content-center\" data-wg-type=\"header\" style=\"height: 22vh;\"> <h1 class=\"p-2 text-center\">Dolore Laboris</h1> </header> <div class=\"d-flex\"> <div class=\"container-fluid py-3\" id=\"page-content\"> <form class=\"p-3\" data-wg-type=\"form\"> <div class=\"form-group\"> <label for=\"tempor\">Tempor</label> <input class=\"form-control\" data-wg-type=\"text\" id=\"tempor\" type=\"text\"> </div> <div class=\"form-row\"> <div class=\"form-group col-md\"> <label for=\"amet_velit_ipsum\">Amet velit ipsum</label> <input class=\"custom-range\" data-wg-type=\"range\" id=\"amet_velit_ipsum\" type=\"range\"> </div> <div class=\"form-group col-md\"> <label for=\"est_aliquip_eu\">Est aliquip eu</label> <input class=\"form-control\" data-wg-type=\"text\" id=\"est_aliquip_eu\" type=\"text\"> </div> <div class=\"form-group col-md\"> <label for=\"labore\">Labore</label> <input class=\"form-control\" data-wg-type=\"text\" id=\"labore\" type=\"text\"> </div> </div> </form> </div> </div> </div> </body> </html>\n",
            "    Answer: <!DOCTYPE html> <html> <head> <title>Dominate</title> <meta content=\"{&quot;primary&quot;: &quot;rgb(5, 93, 130)&quot;, &quot;secondary&quot;: &quot;rgb(130, 43, 5)&quot;, &quot;light&quot;: &quot;rgb(93, 130, 5)&quot;, &quot;dark&quot;: &quot;rgb(43, 5, 130)&quot;, &quot;enable-gradients&quot;: true}\" name=\"wg-palette\"> <meta content=\"width=device-width, initial-scale=1.0\" name=\"viewport\"> <meta content=\"Web Generator\" name=\"author\"> <meta content=\"4\" name=\"wg-layout\"> <link href=\"../css/custom-bootstrap.css\" rel=\"stylesheet\"> <link href=\"../css/wg-extras.css\" rel=\"stylesheet\"> <script src=\"../js/jquery-3.2.1.slim.min.js\" type=\"text/javascript\"></script> <script src=\"../js/bootstrap.min.js\" type=\"text/javascript\"></script> </head> <body class=\"bg-gradient-dark\"> <div class=\"bg-gradient-light text-white rounded shadow-lg\" id=\"full-wrapper\"> <div class=\"d-flex\"> <div class=\"w-100\"> <header class=\"bg-gradient-primary text-white rounded shadow-lg d-flex align-items-center justify-content-center\" data-wg-type=\"header\" style=\"height: 20vh;\"> <h1 class=\"p-2 text-center\">Dolore Laboris</h1> </header> <div class=\"container-fluid py-3\" id=\"page-content\"> <form class=\"p-3\" data-wg-type=\"form\"> <div class=\"form-group\"> <label for=\"tempor\">Tempor</label> <input class=\"form-control\" data-wg-type=\"text\" id=\"tempor\" type=\"text\"> </div> <div class=\"form-row\"> <div class=\"form-group col-md\"> <label for=\"amet_velit_ipsum\">Amet velit ipsum</label> <input class=\"custom-range\" data-wg-type=\"range\" id=\"amet_velit_ipsum\" type=\"range\"> </div> <div class=\"form-group col-md\"> <label for=\"est_aliquip_eu\">Est aliquip eu</label> <input class=\"form-control\" data-wg-type=\"text\" id=\"est_aliquip_eu\" type=\"text\"> </div> <div class=\"form-group col-md\"> <label for=\"labore\">Labore</label> <input class=\"form-control\" data-wg-type=\"text\" id=\"labore\" type=\"text\"> </div> </div> </form> </div> </div> </div> </div> </body> </html>\n",
            "      Bleu: 0.95\n",
            "\n",
            "Prediction: <!DOCTYPE html> <html> <head> <title>Dominate</title> <meta content=\"{&quot;primary&quot;: &quot;rgb(248, 181, 139)&quot;, &quot;secondary&quot;: &quot;rgb(242, 133, 93)&quot;, &quot;light&quot;: &quot;rgb(253, 224, 197)&quot;, &quot;dark&quot;: &quot;rgb(235, 74, 64)&quot;, &quot;enable-gradients&quot;: true}\" name=\"wg-palette\"> <meta content=\"width=device-width, initial-scale=1.0\" name=\"viewport\"> <meta content=\"Web Generator\" name=\"author\"> <meta content=\"1\" name=\"wg-layout\"> <link href=\"../css/custom-bootstrap.css\" rel=\"stylesheet\"> <link href=\"../css/wg-extras.css\" rel=\"stylesheet\"> <script src=\"../js/jquery-3.2.1.slim.min.js\" type=\"text/javascript\"></script> <script src=\"../js/bootstrap.min.js\" type=\"text/javascript\"></script> </head> <body class=\"bg-gradient-light\"> <div class=\"d-flex bg-gradient-light\" id=\"full-wrapper\"> <div class=\"w-100\"> <nav class=\"bg-gradient-dark navbar-light rounded navbar navbar-expand-md\" data-wg-type=\"navbar\"> <button class=\"navbar-toggler\" data-target=\"#main-nav\" data-toggle=\"collapse\" type=\"button\"> <span class=\"navbar-toggler-icon\"></span> </button> <div class=\"collapse navbar-collapse\" id=\"main-nav\" style=\"height: 9vh;\"> <ul class=\"navbar-nav ml-auto\"> <li class=\"nav-item\"> <a class=\"nav-link\" href=\"#\">Ea aliqua sed</a> </li> <li class=\"nav-item\"> <a class=\"nav-link\" href=\"#\">Ea aliqua sed</a> </li> <li class=\"nav-item\"> <a class=\"nav-link\" href=\"#\">Ea aliqua sit</a> </li> <li class=\"nav-item\"> <a class=\"nav-link\" href=\"#\">Ea aliqua sit</a> </li> </ul> </div> </nav> <header class=\"bg-gradient-dark rounded d-flex align-items-center justify-content-center\" data-wg-type=\"header\" style=\"height: 39vh;\"> <h1 class=\"p-2 text-center\">Do Occaecat Cillum Ea Dolor Sed Aute</h1> </header> <div class=\"container-fluid py-3\" id=\"page-content\"> <div class=\"my-3 wg-detect carousel slide\" data-ride=\"carousel\" data-wg-type=\"carousel\" id=\"carousel-ele-0\"> <ol class=\"carousel-indicators\"> <li class=\"active\" data-slide-to=\"0\" data-target=\"#carousel-ele-0\"></li> <li class=\"\" data-slide-to=\"1\" data-target=\"#carousel-ele-0\"></li> <li class=\"\" data-slide-to=\"2\" data-target=\"#carousel-ele-0\"></li> <li class=\"\" data-slide-to=\"3\" data-target=\"#carousel-ele-0\"></li> <li class=\"\" data-slide-to=\"4\" data-target=\"#carousel-ele-0\"></li> </ol> <div class=\"carousel-inner\"> <div class=\"carousel-item active\"> <div class=\"d-block w-100 text-center\" style=\"background-color: darkgrey; height: 39vh;\"> <h1 class=\"pt-5\">Sed magna ut laborum</h1> </div> </div> <div class=\"carousel-item\"> <div class=\"d-block w-100 text-center\" style=\"background-color: darkgrey; height: 39vh;\"> <h1 class=\"pt-5\">Ea aliqua ullamco do</h1> </div> </div> <div class=\"carousel-item\"> <div class=\"d-block w-100 text-center\" style=\"background-color: darkgrey; height: 39vh;\"> <h1 class=\"pt-5\">Ea aliqua commodo ex</h1> </div> </div> </div> <a class=\"carousel-control-prev\" data-slide=\"prev\" href=\"#carousel-ele-0\" role=\"button\"> <span class=\"carousel-control-prev-icon\"></span> </a> <a class=\"carousel-control-next\" data-slide=\"next\" href=\"#carousel-ele-0\" role=\"button\"> <span class=\"carousel-control-next-icon\"></span> </a> </div> <div class=\"row py-3 wg-detect\" data-wg-type=\"featured_items\"> <div class=\"col\"> <div class=\"text-center\"> <span class=\"text-black rounded-circle mx-auto placeholder\" style=\"width: 99px;height: 99px;\"> <span>99x99</span> </span> <h2>Ut laborum ea est do</h2> <p>Officia aute ad nisi cupidatat ut labore commodo</p> <a class=\"btn btn-primary\" href=\"#\">Commodo eu ea</a> </div> </div> <div class=\"col\"> <div class=\"text-center\"> <span class=\"text-black rounded-circle mx-auto placeholder\" style=\"width: 99px;height: 99px;\"> <span>99x99</span> </span> <h2>Irure mollit esse ut</h2> <p>Occaecat pariatur ea et veniam id consequat irure</p> <a class=\"btn btn-primary\" href=\"#\">Voluptate sed</a> </div> </div> <div class=\"col\"> <div class=\"text-center\"> <span class=\"text-black rounded-circle mx-auto placeholder\" style=\"width: 99px;height: 99px;\"> <span>99x99</span> </span> <h2>Esse id in dolore ea</h2> <p>Sint incididunt deserunt culpa quis aliquip sit eu</p> <a class=\"btn btn-primary\" href=\"#\">In labore non</a> </div> </div> </div> </div> </div> </div> </body> </html>\n",
            "    Answer: <!DOCTYPE html> <html> <head> <title>Dominate</title> <meta content=\"{&quot;primary&quot;: &quot;rgb(142, 218, 178)&quot;, &quot;secondary&quot;: &quot;rgb(218, 142, 181)&quot;, &quot;light&quot;: &quot;rgb(181, 218, 142)&quot;, &quot;dark&quot;: &quot;rgb(178, 142, 218)&quot;, &quot;enable-gradients&quot;: true}\" name=\"wg-palette\"> <meta content=\"width=device-width, initial-scale=1.0\" name=\"viewport\"> <meta content=\"Web Generator\" name=\"author\"> <meta content=\"3\" name=\"wg-layout\"> <link href=\"../css/custom-bootstrap.css\" rel=\"stylesheet\"> <link href=\"../css/wg-extras.css\" rel=\"stylesheet\"> <script src=\"../js/jquery-3.2.1.slim.min.js\" type=\"text/javascript\"></script> <script src=\"../js/bootstrap.min.js\" type=\"text/javascript\"></script> </head> <body class=\"bg-gradient-light\"> <div class=\"bg-gradient-light shadow-sm\" id=\"full-wrapper\"> <nav class=\"bg-gradient-dark navbar-light shadow-sm navbar navbar-expand-md\" data-wg-type=\"navbar\"> <button class=\"navbar-toggler\" data-target=\"#main-nav\" data-toggle=\"collapse\" type=\"button\"> <span class=\"navbar-toggler-icon\"></span> </button> <div class=\"collapse navbar-collapse\" id=\"main-nav\" style=\"height: 4vh;\"> <ul class=\"navbar-nav ml-auto\"> <li class=\"nav-item\"> <a class=\"nav-link\" href=\"#\">Non tempor ea</a> </li> <li class=\"nav-item\"> <a class=\"nav-link\" href=\"#\">Exercitation</a> </li> <li class=\"nav-item\"> <a class=\"nav-link\" href=\"#\">Duis laborum</a> </li> <li class=\"nav-item\"> <a class=\"nav-link\" href=\"#\">Qui et est eu</a> </li> </ul> </div> </nav> <header class=\"bg-gradient-dark shadow-sm d-flex align-items-center justify-content-center\" data-wg-type=\"header\" style=\"height: 38vh;\"> <h1 class=\"p-2 text-center\">Do Occaecat Cillum Ea Dolor Sed Aute</h1> </header> <div class=\"d-flex\"> <div class=\"bg-gradient-dark shadow-sm\" data-wg-type=\"sidebar\" id=\"sidebar-wrapper\"> <div class=\"list-group list-group-flush\" style=\"width:26vh;\"> <a class=\"list-group-item list-group-item-action\" href=\"#\">Exercitation</a> <a class=\"list-group-item list-group-item-action\" href=\"#\">Non id anim</a> <a class=\"list-group-item list-group-item-action\" href=\"#\">Ipsum enim et</a> <a class=\"list-group-item list-group-item-action\" href=\"#\">Eiusmod dolor</a> <a class=\"list-group-item list-group-item-action\" href=\"#\">Ut amet in ea</a> <a class=\"list-group-item list-group-item-action\" href=\"#\">Nisi enim ut</a> </div> </div> <div class=\"container-fluid py-3\" id=\"page-content\"> <div class=\"my-3 wg-detect carousel slide\" data-ride=\"carousel\" data-wg-type=\"carousel\" id=\"carousel-ele-0\"> <ol class=\"carousel-indicators\"> <li class=\"active\" data-slide-to=\"0\" data-target=\"#carousel-ele-0\"></li> <li class=\"\" data-slide-to=\"1\" data-target=\"#carousel-ele-0\"></li> <li class=\"\" data-slide-to=\"2\" data-target=\"#carousel-ele-0\"></li> <li class=\"\" data-slide-to=\"3\" data-target=\"#carousel-ele-0\"></li> <li class=\"\" data-slide-to=\"4\" data-target=\"#carousel-ele-0\"></li> </ol> <div class=\"carousel-inner\"> <div class=\"carousel-item active\"> <div class=\"d-block w-100 text-center\" style=\"background-color: darkgrey; height: 36vh;\"> <h1 class=\"pt-5\">Sed magna ut laborum</h1> </div> </div> <div class=\"carousel-item\"> <div class=\"d-block w-100 text-center\" style=\"background-color: darkgrey; height: 36vh;\"> <h1 class=\"pt-5\">Duis irure aliqua et</h1> </div> </div> <div class=\"carousel-item\"> <div class=\"d-block w-100 text-center\" style=\"background-color: darkgrey; height: 36vh;\"> <h1 class=\"pt-5\">Dolor consequat do</h1> </div> </div> <div class=\"carousel-item\"> <div class=\"d-block w-100 text-center\" style=\"background-color: darkgrey; height: 36vh;\"> <h1 class=\"pt-5\">Culpa officia sed et</h1> </div> </div> <div class=\"carousel-item\"> <div class=\"d-block w-100 text-center\" style=\"background-color: darkgrey; height: 36vh;\"> <h1 class=\"pt-5\">Anim cillum tempor</h1> </div> </div> </div> <a class=\"carousel-control-prev\" data-slide=\"prev\" href=\"#carousel-ele-0\" role=\"button\"> <span class=\"carousel-control-prev-icon\"></span> </a> <a class=\"carousel-control-next\" data-slide=\"next\" href=\"#carousel-ele-0\" role=\"button\"> <span class=\"carousel-control-next-icon\"></span> </a> </div> <div class=\"row py-3 wg-detect\" data-wg-type=\"featured_items\"> <div class=\"col\"> <div class=\"text-center\"> <span class=\"text-black rounded-circle mx-auto placeholder\" style=\"width: 99px;height: 99px;\"> <span>99x99</span> </span> <h2>Ut laborum ea est do</h2> <p>Officia aute ad nisi cupidatat ut labore commodo</p> <a class=\"btn btn-primary\" href=\"#\">Commodo eu ea</a> </div> </div> <div class=\"col\"> <div class=\"text-center\"> <span class=\"text-black rounded-circle mx-auto placeholder\" style=\"width: 99px;height: 99px;\"> <span>99x99</span> </span> <h2>Irure mollit esse ut</h2> <p>Occaecat pariatur ea et veniam id consequat irure</p> <a class=\"btn btn-primary\" href=\"#\">Voluptate sed</a> </div> </div> <div class=\"col\"> <div class=\"text-center\"> <span class=\"text-black rounded-circle mx-auto placeholder\" style=\"width: 99px;height: 99px;\"> <span>99x99</span> </span> <h2>Esse id in dolore ea</h2> <p>Sint incididunt deserunt culpa quis aliquip sit eu</p> <a class=\"btn btn-primary\" href=\"#\">In labore non</a> </div> </div> </div> </div> </div> </div> </body> </html>\n",
            "      Bleu: 0.77\n",
            "\n",
            "Prediction: <!DOCTYPE html> <html> <head> <title>Dominate</title> <meta content=\"{&quot;primary&quot;: &quot;rgb(125, 179, 144)&quot;, &quot;secondary&quot;: &quot;rgb(21, 109, 115)&quot;, &quot;light&quot;: &quot;rgb(255, 246, 244)&quot;, &quot;dark&quot;: &quot;rgb(21, 29, 68)&quot;, &quot;enable-gradients&quot;: false}\" name=\"wg-palette\"> <meta content=\"width=device-width, initial-scale=1.0\" name=\"viewport\"> <meta content=\"Web Generator\" name=\"author\"> <meta content=\"1\" name=\"wg-layout\"> <link href=\"../css/custom-bootstrap.css\" rel=\"stylesheet\"> <link href=\"../css/wg-extras.css\" rel=\"stylesheet\"> <script src=\"../js/jquery-3.2.1.slim.min.js\" type=\"text/javascript\"></script> <script src=\"../js/bootstrap.min.js\" type=\"text/javascript\"></script> </head> <body class=\"\"> <div class=\"d-flex \" id=\"full-wrapper\"> <div class=\"bg-light rounded\" data-wg-type=\"sidebar\" id=\"sidebar-wrapper\"> <div class=\"sidebar-heading\">Id</div> <div class=\"list-group list-group-flush\" style=\"width:29vh;\"> <a class=\"list-group-item list-group-item-action\" href=\"#\">Ad do ipsum</a> <a class=\"list-group-item list-group-item-action\" href=\"#\">Aute ullamco</a> <a class=\"list-group-item list-group-item-action\" href=\"#\">Nostrud sit</a> <a class=\"list-group-item list-group-item-action\" href=\"#\">Dolor laborum</a> <a class=\"list-group-item list-group-item-action\" href=\"#\">Qui commodo</a> </div> </div> <div class=\"w-100\"> <header class=\"bg-secondary text-white rounded d-flex align-items-center justify-content-center\" data-wg-type=\"header\" style=\"height: 24vh;\"> <h1 class=\"p-2 text-center\">Laboris Anim</h1> </header> <div class=\"container-fluid py-3\" id=\"page-content\"> <div class=\"row my-3 wg-detect\" data-wg-type=\"mix\"> <div class=\"col\"> <div class=\"text-dark wg-detect\" data-wg-type=\"collapse\" id=\"collapse-ele-0\"> <div class=\"card\"> <div class=\"card-header\" id=\"heading-aute-1\"> <button aria-controls=\"heading-aute-1\" class=\"btn btn-link collapsed\" data-target=\"#collapse-aute-1\" data-toggle=\"collapse\">Aute sed occaecat elit consequat veniam aliqua, anim in velit adipiscing aliquip id quis.</button> </div> <div aria-labelledby=\"heading-aute-1\" class=\"collapse\" data-parent=\"#collapse-ele-0\" id=\"collapse-aute-1\"> <div class=\"card-body text-black\">Enim aliquip ullamco aliqua nostrud. Laborum aliquip commodo aliqua. Laborum aliquip ullamco aliqua. Laborum aliquip commodo aliqua. Laborum aliquip ullamco aliqua. Laborum aliquip ullamco aliqua.</div> </div> </div> <div class=\"card\"> <div class=\"card-header\" id=\"heading-minim-2\"> <button aria-controls=\"heading-minim-2\" class=\"btn btn-link collapsed\" data-target=\"#collapse-minim-2\" data-toggle=\"collapse\">Minim culpa excepteur ipsum, magna ad pariatur occaecat, ea esse dolore cupidatat proident aliquip deserunt.</button> </div> <div aria-labelledby=\"heading-minim-2\" class=\"collapse\" data-parent=\"#collapse-ele-0\" id=\"collapse-minim-2\"> <div class=\"card-body text-black\">Enim aliquip aliquip aliqua. Amet aliquip aliquip aliqua. Laborum aliquip aliquip aliqua. Laborum aliquip aliqua commodo. Anim aliquip aliqua ullamco.</div> </div> </div> <div class=\"card\"> <div class=\"card-header\" id=\"heading-ad-3\"> <button aria-controls=\"heading-ad-3\" class=\"btn btn-link collapsed\" data-target=\"#collapse-ad-3\" data-toggle=\"collapse\">Ad pariatur est laborum reprehenderit minim proident.</button> </div> <div aria-labelledby=\"heading-ad-3\" class=\"collapse\" data-parent=\"#collapse-ele-0\" id=\"collapse-ad-3\"> <div class=\"card-body text-black\">Enim aliquip aliquip aliqua. Amet aliquip aliqua commodo. Dolor aliquip aliqua ullamco. Laborum aliquip aliqua nostrud. Dolor aliquip aliqua ullamco. Laborum aliquip aliqua commodo.</div> </div> </div> <div class=\"card\"> <div class=\"card-header\" id=\"heading-deserunt-4\"> <button aria-controls=\"heading-deserunt-4\" class=\"btn btn-link collapsed\" data-target=\"#collapse-deserunt-4\" data-toggle=\"collapse\">Deserunt ad elit irure aliquip occaecat veniam.</button> </div> <div aria-labelledby=\"heading-deserunt-4\" class=\"collapse\" data-parent=\"#collapse-ele-0\" id=\"collapse-deserunt-4\"> <div class=\"card-body text-black\">Enim aliquip aliquip aliqua. Amet aliquip aliqua ullamco. Dolor aliquip aliqua commodo. Dolor aliquip aliqua ullamco. Laborum aliquip aliqua ullamco. Laborum aliquip aliqua commodo.</div> </div> </div> </div> </div> </div> <div class=\"wg-detect\" data-wg-type=\"descriptive_items\"> <div class=\"row\"> <div class=\"col\"> <h2>Pariatur ad adipiscing elit anim.</h2> <p><br> <span class=\"float-left m-2 shadow placeholder\" data-wg-type=\"image\" style=\"width: 198px;height: 118px;\"> <span>198x118</span> </span> <span data-wg-type=\"text_area\">Aliquip eu pariatur quis. Aute irure anim pariatur esse do, officia sint deserunt aute occaecat. Irure occaecat consequat sunt irure exercitation do do, sint tempor exercitation veniam duis nisi aliquip. Ex adipiscing elit ipsum eu. Proident exercitation do non dolore eu. Cillum duis adipiscing lorem sed, reprehenderit excepteur proident aute commodo. Nulla consequat culpa velit minim ullamco excepteur. Est eiusmod officia ad magna ipsum cillum. Quis culpa minim esse fugiat. Ipsum officia lorem esse esse nostrud est voluptate. Exercitation sunt et consectetur velit commodo. Ad excepteur pariatur veniam ut. Enim officia irure sunt. Aliquip occaecat aliquip adipiscing commodo irure tempor consequat sed, id dolor amet do, consectetur mollit dolor fugiat magna eu. Excepteur enim nostrud fugiat fugiat dolor amet consequat aliquip. Laborum eu aliquip reprehenderit consectetur. Non laboris aute adipiscing est fugiat occaecat, reprehenderit in ullamco esse commodo sunt dolor proident, quis amet do officia anim nulla qui est. Et occaecat et cillum. Enim sit enim commodo sit labore id. Culpa in aliquip adipiscing nulla deserunt. Consectetur id nostrud anim qui, velit in consequat lorem commodo amet. Cupidatat mollit duis esse proident velit. Deserunt ullamco culpa amet ut amet, cillum veniam consectetur amet pariatur voluptate mollit. Dolore tempor ipsum id elit culpa, nulla et elit veniam. Amet do aute aliquip anim. Do non eu fugiat consectetur exercitation lorem, laboris ipsum consectetur ad.</span> </p> </div> </div> <div class=\"row\"> <div class=\"col\"> <h2>Qui quis eiusmod consequat fugiat sunt adipiscing minim, magna ullamco duis nulla exercitation sit nostrud.</h2> <p><br> <span class=\"mx-auto m-2 shadow placeholder\" data-wg-type=\"image\" style=\"width: 198px;height: 118px;\"> <span>198x118</span> </span> <span data-wg-type=\"text_area\">Officia aute esse fugiat consequat reprehenderit. Dolore aliquip aute eiusmod fugiat non laborum. Esse duis lorem esse sint eu. Voluptate occaecat aute qui. Officia est non sed magna dolor, elit ipsum proident anim quis in proident. Ad id quis sint aute laboris nulla aute. Non qui consectetur laboris anim, qui cillum fugiat commodo. Adipiscing aute dolore duis amet occaecat labore ea, adipiscing cillum voluptate anim adipiscing est, pariatur aute esse dolor culpa. Sunt enim amet voluptate labore reprehenderit cupidatat, exercitation irure ad sit. Sint proident reprehenderit consectetur labore commodo nisi cupidatat. Voluptate commodo nisi lorem, cupidatat et enim ex minim aliqua dolore. Irure ex mollit consectetur, sunt ipsum labore cillum quis, officia aliqua est enim eu esse esse. Commodo fugiat sit enim ea do. Enim ullamco eiusmod quis. In duis anim eiusmod sunt et. Laboris in ut esse sint consequat. Laboris consequat duis, elit laboris consequat sint nulla nisi lorem excepteur. Esse ipsum do adipiscing deserunt officia aliqua.</span> </p> </div> </div> </div> </div> </div> </div> </body> </html>\n",
            "    Answer: <!DOCTYPE html> <html> <head> <title>Dominate</title> <meta content=\"{&quot;primary&quot;: &quot;rgb(90, 185, 120)&quot;, &quot;secondary&quot;: &quot;rgb(32, 110, 139)&quot;, &quot;light&quot;: &quot;rgb(253, 239, 154)&quot;, &quot;dark&quot;: &quot;rgb(42, 24, 108)&quot;, &quot;enable-gradients&quot;: true}\" name=\"wg-palette\"> <meta content=\"width=device-width, initial-scale=1.0\" name=\"viewport\"> <meta content=\"Web Generator\" name=\"author\"> <meta content=\"1\" name=\"wg-layout\"> <link href=\"../css/custom-bootstrap.css\" rel=\"stylesheet\"> <link href=\"../css/wg-extras.css\" rel=\"stylesheet\"> <script src=\"../js/jquery-3.2.1.slim.min.js\" type=\"text/javascript\"></script> <script src=\"../js/bootstrap.min.js\" type=\"text/javascript\"></script> </head> <body class=\"\"> <div class=\"d-flex \" id=\"full-wrapper\"> <div class=\"bg-gradient-light rounded shadow-sm\" data-wg-type=\"sidebar\" id=\"sidebar-wrapper\"> <div class=\"sidebar-heading\">Id</div> <div class=\"list-group list-group-flush\" style=\"width:24vh;\"> <a class=\"list-group-item list-group-item-action\" href=\"#\">Ad do ipsum</a> <a class=\"list-group-item list-group-item-action\" href=\"#\">Aute ullamco</a> <a class=\"list-group-item list-group-item-action\" href=\"#\">Nostrud sit</a> <a class=\"list-group-item list-group-item-action\" href=\"#\">Dolor laborum</a> <a class=\"list-group-item list-group-item-action\" href=\"#\">Qui commodo</a> </div> </div> <div class=\"w-100\"> <header class=\"bg-gradient-secondary text-white rounded shadow-sm d-flex align-items-center justify-content-center\" data-wg-type=\"header\" style=\"height: 22vh;\"> <h1 class=\"p-2 text-center\">Laboris Anim</h1> </header> <div class=\"container-fluid py-3\" id=\"page-content\"> <div class=\"row my-3 wg-detect\" data-wg-type=\"mix\"> <div class=\"col\"> <div class=\"text-dark wg-detect\" data-wg-type=\"collapse\" id=\"collapse-ele-0\"> <div class=\"card\"> <div class=\"card-header\" id=\"heading-aute-1\"> <button aria-controls=\"heading-aute-1\" class=\"btn btn-link collapsed\" data-target=\"#collapse-aute-1\" data-toggle=\"collapse\">Aute sed occaecat elit consequat veniam aliqua, anim in velit adipiscing aliquip id quis.</button> </div> <div aria-labelledby=\"heading-aute-1\" class=\"collapse\" data-parent=\"#collapse-ele-0\" id=\"collapse-aute-1\"> <div class=\"card-body text-black\">In nostrud anim adipiscing proident do, dolor lorem exercitation nulla ut officia nostrud et, sit eu nisi labore minim. Duis ullamco ea sunt qui veniam nostrud. Aliquip ea est aute sed labore. Deserunt nulla dolore tempor aliqua enim ad consequat. Officia ea consequat pariatur. Deserunt fugiat enim nostrud proident cupidatat est. Reprehenderit cupidatat laborum ex enim ex, officia esse incididunt cupidatat labore consectetur. Veniam ullamco sit nisi occaecat non quis quis, qui ea dolor fugiat nulla. Reprehenderit consectetur nostrud aliqua in.</div> </div> </div> <div class=\"card\"> <div class=\"card-header\" id=\"heading-minim-2\"> <button aria-controls=\"heading-minim-2\" class=\"btn btn-link collapsed\" data-target=\"#collapse-minim-2\" data-toggle=\"collapse\">Minim culpa excepteur ipsum, magna ad pariatur occaecat, ea esse dolore cupidatat proident aliquip deserunt.</button> </div> <div aria-labelledby=\"heading-minim-2\" class=\"collapse\" data-parent=\"#collapse-ele-0\" id=\"collapse-minim-2\"> <div class=\"card-body text-black\">Dolore lorem non anim aliquip cupidatat deserunt ipsum, lorem eu ea sunt non officia, irure magna ut pariatur. Nisi duis ut officia ad sunt, mollit elit commodo et id duis. Quis consectetur proident deserunt qui eu cupidatat consequat. Adipiscing esse non non labore, est enim irure est tempor culpa enim culpa, qui do ullamco eu cupidatat. Ipsum ipsum commodo est ad sit qui.</div> </div> </div> <div class=\"card\"> <div class=\"card-header\" id=\"heading-ad-3\"> <button aria-controls=\"heading-ad-3\" class=\"btn btn-link collapsed\" data-target=\"#collapse-ad-3\" data-toggle=\"collapse\">Ad pariatur est laborum reprehenderit minim proident.</button> </div> <div aria-labelledby=\"heading-ad-3\" class=\"collapse\" data-parent=\"#collapse-ele-0\" id=\"collapse-ad-3\"> <div class=\"card-body text-black\">Nulla do cupidatat veniam, irure elit esse consectetur nulla culpa sunt eiusmod. Officia et quis reprehenderit aliquip minim. Ea minim ex sint. Excepteur proident culpa ullamco culpa. Lorem aute enim cupidatat. Mollit sint duis nostrud cupidatat excepteur sit pariatur. Excepteur amet ad nisi sint fugiat cillum pariatur, quis cillum eu proident voluptate. Anim et est sit est amet. Aliqua ut lorem occaecat aliqua veniam. Et irure nisi commodo exercitation.</div> </div> </div> <div class=\"card\"> <div class=\"card-header\" id=\"heading-deserunt-4\"> <button aria-controls=\"heading-deserunt-4\" class=\"btn btn-link collapsed\" data-target=\"#collapse-deserunt-4\" data-toggle=\"collapse\">Deserunt ad elit irure aliquip occaecat veniam.</button> </div> <div aria-labelledby=\"heading-deserunt-4\" class=\"collapse\" data-parent=\"#collapse-ele-0\" id=\"collapse-deserunt-4\"> <div class=\"card-body text-black\">Aliquip deserunt consectetur quis aliquip cillum tempor, lorem excepteur adipiscing exercitation nulla. Ea incididunt lorem nostrud esse, veniam amet dolor nulla voluptate officia sed. Ea minim id dolor adipiscing, occaecat quis officia exercitation et velit, nisi incididunt nisi laboris fugiat. Consectetur commodo ea pariatur irure id. Anim officia sit in ipsum excepteur id cupidatat. Eiusmod adipiscing non nulla ipsum, consequat lorem incididunt proident voluptate consequat nulla. Sint nisi dolore dolore ullamco in aute magna. Nostrud quis non nisi fugiat cillum. Sunt ut ex commodo et ea et ea, sed quis culpa sint ex deserunt dolore. Dolore quis voluptate id ipsum do commodo ex, minim veniam enim et adipiscing deserunt duis.</div> </div> </div> </div> </div> </div> <div class=\"wg-detect\" data-wg-type=\"descriptive_items\"> <div class=\"row\"> <div class=\"col\"> <h2>Pariatur ad adipiscing elit anim.</h2> <p><br> <span class=\"float-left m-2 shadow placeholder\" data-wg-type=\"image\" style=\"width: 199px;height: 218px;\"> <span>199x218</span> </span> <span data-wg-type=\"text_area\">Aliquip eu pariatur quis. Aute irure anim pariatur esse do, officia sint deserunt aute occaecat. Irure occaecat consequat sunt irure exercitation do do, sint tempor exercitation veniam dolore qui nisi aliquip. Ex adipiscing elit ipsum eu. Proident exercitation do non dolore eu. Cillum duis adipiscing lorem sed, reprehenderit excepteur proident aute commodo. Nulla consequat culpa velit minim ullamco excepteur. Est eiusmod officia ad magna ipsum cillum. Quis culpa minim esse fugiat, ipsum officia lorem esse esse nostrud est voluptate. Exercitation sunt et consectetur velit commodo. Ad excepteur pariatur veniam ut. Enim officia irure sunt. Aliquip occaecat minim lorem tempor consequat cillum. Dolor aliquip duis tempor. Culpa aliquip adipiscing commodo irure tempor consequat sed, id dolor amet do, consectetur mollit dolor fugiat magna eu. Excepteur esse nostrud in elit, fugiat consectetur amet consequat aliquip. Laborum do aliqua reprehenderit consectetur. Non laboris aute adipiscing est fugiat occaecat, reprehenderit in ullamco esse commodo sunt dolor proident, quis lorem do officia anim nulla qui est. Et occaecat et cillum. Enim sit enim commodo sit labore id. Culpa in aliquip adipiscing nulla deserunt. Consectetur id nostrud anim qui, velit in consequat lorem commodo amet. Cupidatat minim mollit duis esse proident velit. Deserunt ullamco culpa amet ut amet, cillum veniam consectetur amet pariatur voluptate mollit. Dolore tempor ipsum id elit culpa, nulla et ad veniam. Amet do aute aliquip anim. Do non eu fugiat consectetur exercitation lorem, laboris ipsum consectetur ad.</span> </p> </div> </div> <div class=\"row\"> <div class=\"col\"> <h2>Qui quis eiusmod consequat fugiat sunt adipiscing minim, magna ullamco duis nulla exercitation sit nostrud.</h2> <p><br> <span class=\"mx-auto m-2 shadow placeholder\" data-wg-type=\"image\" style=\"width: 199px;height: 218px;\"> <span>199x218</span> </span> <span data-wg-type=\"text_area\">Officia aute esse fugiat consequat reprehenderit. Dolore aliquip aute eiusmod fugiat non laborum. Esse duis lorem esse sint eu. Voluptate occaecat aute qui. Officia est non sed magna dolor, elit ipsum proident anim quis in proident. Ex id quis sint aute laboris nulla aute. Duis qui consectetur laboris quis, qui ullamco fugiat commodo. Adipiscing aute dolore duis amet occaecat labore ea, adipiscing cillum voluptate anim adipiscing sint, pariatur aute esse dolor culpa. Sunt enim amet voluptate labore reprehenderit cupidatat, exercitation irure ad sit. Sint proident reprehenderit consectetur labore commodo nisi cupidatat. Voluptate commodo nisi lorem, cupidatat sit enim ad minim aliqua dolore. Irure ex mollit consectetur, sunt ipsum labore cillum quis, officia aliqua est enim eu esse esse. Commodo fugiat sit enim ea do. Enim ullamco eiusmod quis. In duis anim eiusmod sunt eiusmod. Laboris in ut esse sed quis consequat. In aute consequat duis, elit laboris consequat sint nulla nisi lorem excepteur. Esse ipsum do adipiscing deserunt officia aliqua.</span> </p> </div> </div> </div> </div> </div> </div> </body> </html>\n",
            "      Bleu: 0.77\n"
          ]
        },
        {
          "name": "stderr",
          "output_type": "stream",
          "text": [
            "Epoch 19/19 - valid loop: 100%|██████████| 2/2 [11:46<00:00, 353.42s/it, bleu_score=0.921]"
          ]
        },
        {
          "name": "stdout",
          "output_type": "stream",
          "text": [
            "\n",
            "Prediction: <!DOCTYPE html> <html> <head> <title>Dominate</title> <meta content=\"{&quot;primary&quot;: &quot;rgb(125, 179, 144)&quot;, &quot;secondary&quot;: &quot;rgb(21, 109, 115)&quot;, &quot;light&quot;: &quot;rgb(255, 246, 244)&quot;, &quot;dark&quot;: &quot;rgb(21, 29, 68)&quot;, &quot;enable-gradients&quot;: false}\" name=\"wg-palette\"> <meta content=\"width=device-width, initial-scale=1.0\" name=\"viewport\"> <meta content=\"Web Generator\" name=\"author\"> <meta content=\"1\" name=\"wg-layout\"> <link href=\"../css/custom-bootstrap.css\" rel=\"stylesheet\"> <link href=\"../css/wg-extras.css\" rel=\"stylesheet\"> <script src=\"../js/jquery-3.2.1.slim.min.js\" type=\"text/javascript\"></script> <script src=\"../js/bootstrap.min.js\" type=\"text/javascript\"></script> </head> <body class=\"bg-light\"> <div class=\"d-flex bg-light\" id=\"full-wrapper\"> <div class=\"w-100\"> <nav class=\"bg-dark navbar-dark rounded navbar navbar-expand-md\" data-wg-type=\"navbar\"> <a class=\"navbar-brand\" href=\"#\">Eu</a> <button class=\"navbar-toggler\" data-target=\"#main-nav\" data-toggle=\"collapse\" type=\"button\"> <span class=\"navbar-toggler-icon\"></span> </button> <div class=\"collapse navbar-collapse\" id=\"main-nav\" style=\"height: 3vh;\"> <ul class=\"navbar-nav ml-auto\"> <li class=\"nav-item\"> <a class=\"nav-link\" href=\"#\">Deserunt sint</a> </li> <li class=\"nav-item\"> <a class=\"nav-link\" href=\"#\">Lorem in non</a> </li> </ul> </div> </nav> <header class=\"bg-dark text-white rounded d-flex align-items-center justify-content-center\" data-wg-type=\"header\" style=\"height: 17vh;\"> <h1 class=\"p-2 text-center\">Aute Fugiat Veniam Aliquip Reprehenderit Nulla</h1> </header> <div class=\"container-fluid py-3\" id=\"page-content\"> <div class=\"row my-3 wg-detect\" data-wg-type=\"mix\"> <div class=\"col\"> <p class=\"wg-detect\" data-wg-type=\"paragraph\">Mollit ad sint culpa magna voluptate pariatur do. Consequat quis laboris reprehenderit tempor excepteur exercitation enim. Deserunt velit nostrud ullamco eiusmod qui sit eu, in cupidatat magna excepteur dolore consectetur culpa. Voluptate esse dolore enim qui irure tempor, qui lorem deserunt occaecat laborum aute irure elit. Labore magna consequat ullamco ipsum sint culpa, amet lorem minim irure laborum anim. Commodo nisi eiusmod sint ad laboris amet reprehenderit.</p> </div> <div class=\"col\"> <ol class=\"wg-detect\" data-wg-type=\"list\"> <li>Tempor cillum</li> <li>In enim amet</li> <li>Qui mollit ut</li> <li>Minim nostrud</li> <li>Consectetur</li> </ol> </div> <div class=\"col\"> <p class=\"wg-detect\" data-wg-type=\"paragraph\">Est aliqua ex nostrud ea duis esse voluptate, dolore officia elit veniam minim dolore do esse. Laboris sunt proident ad reprehenderit pariatur consequat laboris. Veniam consectetur fugiat id sint enim. Anim dolore ad deserunt ex est. Proident voluptate ut duis lorem velit cillum adipiscing. Dolore laborum amet sed eu irure cupidatat.</p> </div> </div> <div class=\"row wg-detect\" data-wg-type=\"cards\"> <div class=\"col\"> <div class=\"card-columns\"> <div class=\"text-black card\"> <span class=\"card-img-top placeholder\" style=\"height: 100px;\"></span> <div class=\"card-body\"> <h5 class=\"card-title\">Sed laborum lorem id</h5> <p class=\"card-text\">Ex deserunt culpa laboris amet non ut commodo sunt</p> <div class=\"d-flex justify-content-between align-items-center\"> <div class=\"btn-group\"> <button class=\"btn btn-sm btn-outline-secondary\" type=\"button\">Do ad eiusmod</button> </div> <small class=\"text-muted\">Anim minim et</small> </div> </div> </div> <div class=\"text-black card\"> <span class=\"card-img-top placeholder\" style=\"height: 100px;\"></span> <div class=\"card-body\"> <h5 class=\"card-title\">Ex excepteur duis id</h5> <p class=\"card-text\">Cillum fugiat irure elit in occaecat labore sunt</p> <div class=\"d-flex justify-content-between align-items-center\"> <div class=\"btn-group\"> <button class=\"btn btn-sm btn-outline-secondary\" type=\"button\">Enim sint ut</button> </div> <small class=\"text-muted\">Ut enim non</small> </div> </div> </div> <div class=\"text-black card\"> <span class=\"card-img-top placeholder\" style=\"height: 100px;\"></span> <div class=\"card-body\"> <h5 class=\"card-title\">Sed ullamco ea et in</h5> <p class=\"card-text\">Eu tempor ipsum cupidatat cillum magna enim duis</p> <div class=\"d-flex justify-content-between align-items-center\"> <div class=\"btn-group\"> <button class=\"btn btn-sm btn-outline-secondary\" type=\"button\">Esse magna ut</button> </div> <small class=\"text-muted\">Magna laboris</small> </div> </div> </div> <div class=\"text-black card\"> <span class=\"card-img-top placeholder\" style=\"height: 100px;\"></span> <div class=\"card-body\"> <h5 class=\"card-title\">Exercitation dolor</h5> <p class=\"card-text\">Voluptate consectetur laboris enim eu dolor cillum</p> <div class=\"d-flex justify-content-between align-items-center\"> <div class=\"btn-group\"> <button class=\"btn btn-sm btn-outline-secondary\" type=\"button\">Qui quis do</button> </div> <small class=\"text-muted\">Commodo nulla</small> </div> </div> </div> </div> </div> </div> </div> </div> <footer class=\" rounded jumbotron mb-0\" data-wg-type=\"footer\" style=\"height: 11vh;\"> <div class=\"container\"> <span class=\"text-muted\">Cillum sunt anim nisi ex culpa eiusmod nulla et ea</span> </div> </footer> </div> <div class=\"bg-gradient-light text-white rounded\" data-wg-type=\"sidebar\" id=\"sidebar-wrapper\"> <div class=\"list-group list-group-flush\" style=\"width:22vh;\"> <a class=\"list-group-item list-group-item-action\" href=\"#\">Ullamco ea eu</a> <a class=\"list-group-item list-group-item-action\" href=\"#\">Nisi nisi eu</a> <a class=\"list-group-item list-group-item-action\" href=\"#\">Cillum anim</a> <a class=\"list-group-item list-group-item-action\" href=\"#\">Pariatur sint</a> <a class=\"list-group-item list-group-item-action\" href=\"#\">Ut occaecat</a> <a class=\"list-group-item list-group-item-action\" href=\"#\">Voluptate do</a> </div> </div> </div> </body> </html>\n",
            "    Answer: <!DOCTYPE html> <html> <head> <title>Dominate</title> <meta content=\"{&quot;primary&quot;: &quot;rgb(238, 188, 165)&quot;, &quot;secondary&quot;: &quot;rgb(174, 85, 45)&quot;, &quot;light&quot;: &quot;rgb(240, 196, 176)&quot;, &quot;dark&quot;: &quot;rgb(98, 51, 30)&quot;, &quot;enable-gradients&quot;: false}\" name=\"wg-palette\"> <meta content=\"width=device-width, initial-scale=1.0\" name=\"viewport\"> <meta content=\"Web Generator\" name=\"author\"> <meta content=\"1\" name=\"wg-layout\"> <link href=\"../css/custom-bootstrap.css\" rel=\"stylesheet\"> <link href=\"../css/wg-extras.css\" rel=\"stylesheet\"> <script src=\"../js/jquery-3.2.1.slim.min.js\" type=\"text/javascript\"></script> <script src=\"../js/bootstrap.min.js\" type=\"text/javascript\"></script> </head> <body class=\"bg-light\"> <div class=\"d-flex bg-light\" id=\"full-wrapper\"> <div class=\"w-100\"> <nav class=\"bg-dark navbar-dark navbar navbar-expand-md\" data-wg-type=\"navbar\"> <a class=\"navbar-brand\" href=\"#\">Eu</a> <button class=\"navbar-toggler\" data-target=\"#main-nav\" data-toggle=\"collapse\" type=\"button\"> <span class=\"navbar-toggler-icon\"></span> </button> <div class=\"collapse navbar-collapse\" id=\"main-nav\" style=\"height: 4vh;\"> <ul class=\"navbar-nav ml-auto\"> <li class=\"nav-item\"> <a class=\"nav-link\" href=\"#\">Deserunt sint</a> </li> <li class=\"nav-item\"> <a class=\"nav-link\" href=\"#\">Lorem et non</a> </li> </ul> </div> </nav> <header class=\"bg-dark text-white d-flex align-items-center justify-content-center\" data-wg-type=\"header\" style=\"height: 17vh;\"> <h1 class=\"p-2 text-center\">Aute Fugiat Veniam Aliquip Reprehenderit Nulla</h1> </header> <div class=\"container-fluid py-3\" id=\"page-content\"> <div class=\"row my-3 wg-detect\" data-wg-type=\"mix\"> <div class=\"col\"> <p class=\"wg-detect\" data-wg-type=\"paragraph\">Mollit ad sint culpa magna voluptate pariatur do. Consequat quis laboris reprehenderit tempor excepteur exercitation enim. Deserunt velit nostrud ullamco eiusmod qui sit eu, in cupidatat magna excepteur dolore consectetur culpa. Voluptate esse dolore enim qui irure tempor, qui lorem deserunt occaecat laborum aute irure elit. Labore magna consequat ullamco ipsum sint culpa, amet lorem minim irure laborum anim. Commodo nisi eiusmod sint ad laboris amet reprehenderit.</p> </div> <div class=\"col\"> <ol class=\"wg-detect\" data-wg-type=\"list\"> <li>Tempor cillum</li> <li>In enim amet</li> <li>Qui mollit ut</li> <li>Minim nostrud</li> <li>Consectetur</li> </ol> </div> <div class=\"col\"> <p class=\"wg-detect\" data-wg-type=\"paragraph\">Est aliqua ex nostrud ea duis esse voluptate, dolore officia elit veniam minim dolore do esse. Laboris sunt proident ad reprehenderit pariatur consequat laboris. Veniam consectetur fugiat id sint enim. Anim dolore ad deserunt ex est. Proident voluptate ut duis lorem velit cillum adipiscing. Dolore laborum amet sed eu irure cupidatat.</p> </div> </div> <div class=\"row wg-detect\" data-wg-type=\"cards\"> <div class=\"col\"> <div class=\"card-columns\"> <div class=\"text-black card\"> <span class=\"card-img-top placeholder\" style=\"height: 100px;\"></span> <div class=\"card-body\"> <h5 class=\"card-title\">Sed laborum lorem id</h5> <p class=\"card-text\">Ex deserunt culpa laboris amet non ut commodo sunt</p> <div class=\"d-flex justify-content-between align-items-center\"> <div class=\"btn-group\"> <button class=\"btn btn-sm btn-outline-secondary\" type=\"button\">Do ad eiusmod</button> </div> <small class=\"text-muted\">Anim minim et</small> </div> </div> </div> <div class=\"text-black card\"> <span class=\"card-img-top placeholder\" style=\"height: 100px;\"></span> <div class=\"card-body\"> <h5 class=\"card-title\">Ex excepteur duis id</h5> <p class=\"card-text\">Cillum fugiat irure elit in occaecat labore sunt</p> <div class=\"d-flex justify-content-between align-items-center\"> <div class=\"btn-group\"> <button class=\"btn btn-sm btn-outline-secondary\" type=\"button\">Enim nisi ut</button> </div> <small class=\"text-muted\">Ut enim non</small> </div> </div> </div> <div class=\"text-black card\"> <span class=\"card-img-top placeholder\" style=\"height: 100px;\"></span> <div class=\"card-body\"> <h5 class=\"card-title\">Sed ullamco ea et in</h5> <p class=\"card-text\">Eu tempor ipsum cupidatat cillum magna enim duis</p> <div class=\"d-flex justify-content-between align-items-center\"> <div class=\"btn-group\"> <button class=\"btn btn-sm btn-outline-secondary\" type=\"button\">Esse magna ut</button> </div> <small class=\"text-muted\">Magna laboris</small> </div> </div> </div> <div class=\"text-black card\"> <span class=\"card-img-top placeholder\" style=\"height: 100px;\"></span> <div class=\"card-body\"> <h5 class=\"card-title\">Exercitation dolor</h5> <p class=\"card-text\">Voluptate consectetur laboris enim eu dolor cillum</p> <div class=\"d-flex justify-content-between align-items-center\"> <div class=\"btn-group\"> <button class=\"btn btn-sm btn-outline-secondary\" type=\"button\">Qui quis do</button> </div> <small class=\"text-muted\">Commodo nulla</small> </div> </div> </div> </div> </div> </div> </div> <footer class=\"jumbotron mb-0\" data-wg-type=\"footer\" style=\"height: 7vh;\"> <div class=\"container\"> <span class=\"text-muted\">Cillum sunt anim nisi ex culpa eiusmod nulla et ea</span> </div> </footer> </div> <div class=\"bg-dark text-white\" data-wg-type=\"sidebar\" id=\"sidebar-wrapper\"> <div class=\"list-group list-group-flush\" style=\"width:22vh;\"> <a class=\"list-group-item list-group-item-action\" href=\"#\">Ullamco ea eu</a> <a class=\"list-group-item list-group-item-action\" href=\"#\">Nisi nisi eu</a> <a class=\"list-group-item list-group-item-action\" href=\"#\">Cillum anim</a> <a class=\"list-group-item list-group-item-action\" href=\"#\">Pariatur sint</a> <a class=\"list-group-item list-group-item-action\" href=\"#\">Ut occaecat</a> <a class=\"list-group-item list-group-item-action\" href=\"#\">Voluptate do</a> </div> </div> </div> </body> </html>\n",
            "      Bleu: 0.76\n",
            "\n",
            "Prediction: <!DOCTYPE html> <html> <head> <title>Dominate</title> <meta content=\"{&quot;primary&quot;: &quot;rgb(100, 180, 99)&quot;, &quot;secondary&quot;: &quot;rgb(18, 110, 69)&quot;, &quot;light&quot;: &quot;rgb(215, 249, 208)&quot;, &quot;dark&quot;: &quot;rgb(18, 36, 20)&quot;, &quot;enable-gradients&quot;: false}\" name=\"wg-palette\"> <meta content=\"width=device-width, initial-scale=1.0\" name=\"viewport\"> <meta content=\"Web Generator\" name=\"author\"> <meta content=\"4\" name=\"wg-layout\"> <link href=\"../css/custom-bootstrap.css\" rel=\"stylesheet\"> <link href=\"../css/wg-extras.css\" rel=\"stylesheet\"> <script src=\"../js/jquery-3.2.1.slim.min.js\" type=\"text/javascript\"></script> <script src=\"../js/bootstrap.min.js\" type=\"text/javascript\"></script> </head> <body class=\"bg-dark\"> <div class=\"bg-light rounded shadow-lg\" id=\"full-wrapper\"> <div class=\"d-flex\"> <div class=\"bg-secondary text-white rounded shadow-lg\" data-wg-type=\"sidebar\" id=\"sidebar-wrapper\"> <div class=\"list-group list-group-flush\" style=\"width:27vh;\"> <a class=\"list-group-item list-group-item-action\" href=\"#\">Ipsum ea sit</a> <a class=\"list-group-item list-group-item-action\" href=\"#\">Sint non quis</a> </div> </div> <div class=\"w-100\"> <nav class=\"bg-dark navbar-dark rounded shadow-lg navbar navbar-expand-md\" data-wg-type=\"navbar\"> <a class=\"navbar-brand\" href=\"#\">Dolor</a> <button class=\"navbar-toggler\" data-target=\"#main-nav\" data-toggle=\"collapse\" type=\"button\"> <span class=\"navbar-toggler-icon\"></span> </button> <div class=\"collapse navbar-collapse\" id=\"main-nav\" style=\"height: 4vh;\"> <ul class=\"navbar-nav ml-auto\"> <li class=\"nav-item\"> <a class=\"nav-link\" href=\"#\">Eu cillum id</a> </li> <li class=\"nav-item\"> <a class=\"nav-link\" href=\"#\">In deserunt</a> </li> <li class=\"nav-item\"> <a class=\"nav-link\" href=\"#\">Aliqua sint</a> </li> </ul> </div> </nav> <div class=\"container-fluid py-3\" id=\"page-content\"> <form class=\"p-3\" data-wg-type=\"form\"> <div class=\"form-group\"> <label for=\"sit\">Sit</label> <input class=\"form-control\" data-wg-type=\"text\" id=\"sit\" type=\"text\"> </div> <div class=\"form-row\"> <div class=\"form-group col-md\"> <label for=\"excepteur_ex_duis\">Excepteur ex duis</label> <input class=\"form-control\" data-wg-type=\"date\" id=\"excepteur_ex_duis\" type=\"date\"> </div> <div class=\"form-group col-md\"> <label for=\"qui_laboris\">Qui laboris</label> <input class=\"form-control\" data-wg-type=\"text\" id=\"qui_laboris\" type=\"text\"> </div> </div> <div class=\"form-group\"> <label for=\"excepteur_dolor_et\">Excepteur dolor et</label> <input class=\"form-control\" data-wg-type=\"text\" id=\"excepteur_dolor_et\" type=\"text\"> </div> <div class=\"form-row\"> <div class=\"form-group col-md\"> <label for=\"ad_ea_sunt\">Ad ea sunt</label> <input class=\"form-control\" data-wg-type=\"text\" id=\"ad_ea_sunt\" type=\"text\"> </div> <div class=\"form-group col-md\"> <label for=\"nostrud_veniam\">Nostrud veniam</label> <input class=\"form-control\" data-wg-type=\"date\" id=\"nostrud_veniam\" type=\"date\"> </div> </div> </form> </div> </div> </div> </body> </html>\n",
            "    Answer: <!DOCTYPE html> <html> <head> <title>Dominate</title> <meta content=\"{&quot;primary&quot;: &quot;rgb(40, 109, 35)&quot;, &quot;secondary&quot;: &quot;rgb(104, 35, 109)&quot;, &quot;light&quot;: &quot;rgb(35, 109, 104)&quot;, &quot;dark&quot;: &quot;rgb(109, 35, 40)&quot;, &quot;enable-gradients&quot;: true}\" name=\"wg-palette\"> <meta content=\"width=device-width, initial-scale=1.0\" name=\"viewport\"> <meta content=\"Web Generator\" name=\"author\"> <meta content=\"4\" name=\"wg-layout\"> <link href=\"../css/custom-bootstrap.css\" rel=\"stylesheet\"> <link href=\"../css/wg-extras.css\" rel=\"stylesheet\"> <script src=\"../js/jquery-3.2.1.slim.min.js\" type=\"text/javascript\"></script> <script src=\"../js/bootstrap.min.js\" type=\"text/javascript\"></script> </head> <body class=\"bg-gradient-light\"> <div class=\"bg-gradient-light text-white rounded shadow-sm\" id=\"full-wrapper\"> <div class=\"d-flex\"> <div class=\"bg-gradient-dark text-white rounded shadow-sm\" data-wg-type=\"sidebar\" id=\"sidebar-wrapper\"> <div class=\"list-group list-group-flush\" style=\"width:26vh;\"> <a class=\"list-group-item list-group-item-action\" href=\"#\">Ipsum ea sit</a> <a class=\"list-group-item list-group-item-action\" href=\"#\">Sint non quis</a> </div> </div> <div class=\"w-100\"> <nav class=\"bg-gradient-dark navbar-dark rounded shadow-sm navbar navbar-expand-md\" data-wg-type=\"navbar\"> <a class=\"navbar-brand\" href=\"#\">Dolor</a> <button class=\"navbar-toggler\" data-target=\"#main-nav\" data-toggle=\"collapse\" type=\"button\"> <span class=\"navbar-toggler-icon\"></span> </button> <div class=\"collapse navbar-collapse\" id=\"main-nav\" style=\"height: 4vh;\"> <ul class=\"navbar-nav ml-auto\"> <li class=\"nav-item\"> <a class=\"nav-link\" href=\"#\">Eu cillum id</a> </li> <li class=\"nav-item\"> <a class=\"nav-link\" href=\"#\">In deserunt</a> </li> <li class=\"nav-item\"> <a class=\"nav-link\" href=\"#\">Aliqua sint</a> </li> </ul> </div> </nav> <div class=\"container-fluid py-3\" id=\"page-content\"> <form class=\"p-3\" data-wg-type=\"form\"> <div class=\"form-group\"> <label for=\"sit\">Sit</label> <input class=\"form-control\" data-wg-type=\"text\" id=\"sit\" type=\"text\"> </div> <div class=\"form-row\"> <div class=\"form-group col-md\"> <label for=\"excepteur_ex_duis\">Excepteur ex duis</label> <input class=\"form-control\" data-wg-type=\"date\" id=\"excepteur_ex_duis\" type=\"date\"> </div> <div class=\"form-group col-md\"> <label for=\"qui_laboris\">Qui laboris</label> <input class=\"form-control\" data-wg-type=\"text\" id=\"qui_laboris\" type=\"text\"> </div> </div> <div class=\"form-group\"> <label for=\"excepteur_dolor_et\">Excepteur dolor et</label> <input class=\"form-control\" data-wg-type=\"text\" id=\"excepteur_dolor_et\" type=\"text\"> </div> <div class=\"form-row\"> <div class=\"form-group col-md\"> <label for=\"ad_ea_sunt\">Ad ea sunt</label> <input class=\"form-control\" data-wg-type=\"text\" id=\"ad_ea_sunt\" type=\"text\"> </div> <div class=\"form-group col-md\"> <label for=\"nostrud_veniam\">Nostrud veniam</label> <input class=\"form-control\" data-wg-type=\"date\" id=\"nostrud_veniam\" type=\"date\"> </div> </div> </form> </div> </div> </div> </div> </body> </html>\n",
            "      Bleu: 0.92\n",
            "\n",
            "Prediction: <!DOCTYPE html> <html> <head> <title>Dominate</title> <meta content=\"{&quot;primary&quot;: &quot;rgb(203, 146, 26)&quot;, &quot;secondary&quot;: &quot;rgb(151, 59, 28)&quot;, &quot;light&quot;: &quot;rgb(225, 253, 75)&quot;, &quot;dark&quot;: &quot;rgb(51, 20, 24)&quot;, &quot;enable-gradients&quot;: false}\" name=\"wg-palette\"> <meta content=\"width=device-width, initial-scale=1.0\" name=\"viewport\"> <meta content=\"Web Generator\" name=\"author\"> <meta content=\"2\" name=\"wg-layout\"> <link href=\"../css/custom-bootstrap.css\" rel=\"stylesheet\"> <link href=\"../css/wg-extras.css\" rel=\"stylesheet\"> <script src=\"../js/jquery-3.2.1.slim.min.js\" type=\"text/javascript\"></script> <script src=\"../js/bootstrap.min.js\" type=\"text/javascript\"></script> </head> <body class=\"\"> <div class=\" rounded shadow-lg\" id=\"full-wrapper\"> <nav class=\"bg-light navbar-light rounded shadow-lg navbar navbar-expand-md\" data-wg-type=\"navbar\"> <button class=\"navbar-toggler\" data-target=\"#main-nav\" data-toggle=\"collapse\" type=\"button\"> <span class=\"navbar-toggler-icon\"></span> </button> <div class=\"collapse navbar-collapse\" id=\"main-nav\" style=\"height: 3vh;\"> <ul class=\"navbar-nav ml-auto\"> <li class=\"nav-item\"> <a class=\"nav-link\" href=\"#\">Ut sunt irure</a> </li> <li class=\"nav-item\"> <a class=\"nav-link\" href=\"#\">Cillum quis</a> </li> <li class=\"nav-item\"> <a class=\"nav-link\" href=\"#\">Eiusmod dolor</a> </li> <li class=\"nav-item\"> <a class=\"nav-link\" href=\"#\">Voluptate id</a> </li> <li class=\"nav-item\"> <a class=\"nav-link\" href=\"#\">Cupidatat ea</a> </li> <li class=\"nav-item\"> <a class=\"nav-link\" href=\"#\">Sit ullamco</a> </li> </ul> </div> </nav> <div class=\"d-flex\"> <div class=\"flex-grow-1\"> <div class=\"container-fluid py-3\" id=\"page-content\"> <div class=\"row my-3 wg-detect\" data-wg-type=\"mix\"> <div class=\"col\"> <div class=\"text-center wg-detect\" data-wg-type=\"featured_item\"> <span class=\"text-black rounded-circle mx-auto shadow placeholder\" style=\"width: 105px;height: 105px;\"> <span>105x105</span> </span> <h2>Sunt tempor magna ex</h2> <p>Incididunt sed esse aute do dolor sit fugiat irure</p> <a class=\"btn btn-primary\" href=\"#\">Laborum et ex</a> </div> </div> <div class=\"col\"> <h1 class=\"wg-detect\" data-wg-type=\"heading\">Minim eu id sunt irure anim ad duis.</h1> </div> <div class=\"col\"> <div class=\"text-center wg-detect\" data-wg-type=\"featured_item\"> <span class=\"text-black rounded-circle mx-auto placeholder\" style=\"width: 126px;height: 126px;\"> <span>126x126</span> </span> <h2>Nostrud quis velit</h2> <p>Aliqua consequat pariatur eu cupidatat excepteur</p> <a class=\"btn btn-primary\" href=\"#\">Sed et ex est</a> </div> </div> </div> </div> <footer class=\" rounded shadow-lg jumbotron mb-0\" data-wg-type=\"footer\" style=\"height: 18vh;\"> <div class=\"container\"> <span class=\"text-muted\">Quis labore esse aute non laboris nostrud cillum</span> </div> </footer> </div> <div class=\"bg-light rounded shadow-lg\" data-wg-type=\"sidebar\" id=\"sidebar-wrapper\"> <div class=\"sidebar-heading\">Do</div> <div class=\"list-group list-group-flush\" style=\"width:22vh;\"> <a class=\"list-group-item list-group-item-action\" href=\"#\">Irure elit eu</a> <a class=\"list-group-item list-group-item-action\" href=\"#\">Excepteur ut</a> <a class=\"list-group-item list-group-item-action\" href=\"#\">Excepteur do</a> <a class=\"list-group-item list-group-item-action\" href=\"#\">Aute labore</a> <a class=\"list-group-item list-group-item-action\" href=\"#\">Aliqua ea et</a> <a class=\"list-group-item list-group-item-action\" href=\"#\">Amet ullamco</a> </div> </div> </div> </div> </body> </html>\n",
            "    Answer: <!DOCTYPE html> <html> <head> <title>Dominate</title> <meta content=\"{&quot;primary&quot;: &quot;rgb(211, 156, 131)&quot;, &quot;secondary&quot;: &quot;rgb(166, 84, 97)&quot;, &quot;light&quot;: &quot;rgb(237, 229, 207)&quot;, &quot;dark&quot;: &quot;rgb(84, 31, 63)&quot;, &quot;enable-gradients&quot;: true}\" name=\"wg-palette\"> <meta content=\"width=device-width, initial-scale=1.0\" name=\"viewport\"> <meta content=\"Web Generator\" name=\"author\"> <meta content=\"2\" name=\"wg-layout\"> <link href=\"../css/custom-bootstrap.css\" rel=\"stylesheet\"> <link href=\"../css/wg-extras.css\" rel=\"stylesheet\"> <script src=\"../js/jquery-3.2.1.slim.min.js\" type=\"text/javascript\"></script> <script src=\"../js/bootstrap.min.js\" type=\"text/javascript\"></script> </head> <body class=\"\"> <div class=\" shadow-lg\" id=\"full-wrapper\"> <nav class=\"bg-gradient-light navbar-light shadow-lg navbar navbar-expand-md\" data-wg-type=\"navbar\"> <button class=\"navbar-toggler\" data-target=\"#main-nav\" data-toggle=\"collapse\" type=\"button\"> <span class=\"navbar-toggler-icon\"></span> </button> <div class=\"collapse navbar-collapse\" id=\"main-nav\" style=\"height: 6vh;\"> <ul class=\"navbar-nav ml-auto\"> <li class=\"nav-item\"> <a class=\"nav-link\" href=\"#\">Ut sunt irure</a> </li> <li class=\"nav-item\"> <a class=\"nav-link\" href=\"#\">Cillum quis</a> </li> <li class=\"nav-item\"> <a class=\"nav-link\" href=\"#\">Eiusmod dolor</a> </li> <li class=\"nav-item\"> <a class=\"nav-link\" href=\"#\">Voluptate id</a> </li> <li class=\"nav-item\"> <a class=\"nav-link\" href=\"#\">Cupidatat ea</a> </li> <li class=\"nav-item\"> <a class=\"nav-link\" href=\"#\">Sit ullamco</a> </li> </ul> </div> </nav> <div class=\"d-flex\"> <div class=\"flex-grow-1\"> <div class=\"container-fluid py-3\" id=\"page-content\"> <div class=\"row my-3 wg-detect\" data-wg-type=\"mix\"> <div class=\"col\"> <div class=\"text-center wg-detect\" data-wg-type=\"featured_item\"> <span class=\"text-black rounded-circle mx-auto placeholder\" style=\"width: 105px;height: 105px;\"> <span>105x105</span> </span> <h2>Sunt tempor magna ex</h2> <p>Incididunt sed esse aute do dolor sit fugiat irure</p> <a class=\"btn btn-primary\" href=\"#\">Laborum et ex</a> </div> </div> <div class=\"col\"> <h1 class=\"wg-detect\" data-wg-type=\"heading\">Minim eu id sunt irure anim ad duis.</h1> </div> <div class=\"col\"> <div class=\"text-center wg-detect\" data-wg-type=\"featured_item\"> <span class=\"text-black rounded-circle mx-auto shadow placeholder\" style=\"width: 126px;height: 126px;\"> <span>126x126</span> </span> <h2>Nostrud quis velit</h2> <p>Aliqua consequat pariatur eu cupidatat excepteur</p> <a class=\"btn btn-primary\" href=\"#\">Sed et ex est</a> </div> </div> </div> </div> <footer class=\" shadow-lg jumbotron mb-0\" data-wg-type=\"footer\" style=\"height: 27vh;\"> <div class=\"container\"> <span class=\"text-muted\">Quis labore esse aute non laboris nostrud cillum</span> </div> </footer> </div> <div class=\"bg-gradient-light shadow-lg\" data-wg-type=\"sidebar\" id=\"sidebar-wrapper\"> <div class=\"sidebar-heading\">Do</div> <div class=\"list-group list-group-flush\" style=\"width:25vh;\"> <a class=\"list-group-item list-group-item-action\" href=\"#\">Irure elit eu</a> <a class=\"list-group-item list-group-item-action\" href=\"#\">Excepteur ut</a> <a class=\"list-group-item list-group-item-action\" href=\"#\">Excepteur do</a> <a class=\"list-group-item list-group-item-action\" href=\"#\">Aute labore</a> <a class=\"list-group-item list-group-item-action\" href=\"#\">Aliqua ea et</a> <a class=\"list-group-item list-group-item-action\" href=\"#\">Amet ullamco</a> </div> </div> </div> </div> </body> </html>\n",
            "      Bleu: 0.95\n",
            "\n",
            "Prediction: <!DOCTYPE html> <html> <head> <title>Dominate</title> <meta content=\"{&quot;primary&quot;: &quot;rgb(248, 160, 126)&quot;, &quot;secondary&quot;: &quot;rgb(206, 102, 147)&quot;, &quot;light&quot;: &quot;rgb(243, 231, 155)&quot;, &quot;dark&quot;: &quot;rgb(92, 83, 165)&quot;, &quot;enable-gradients&quot;: false}\" name=\"wg-palette\"> <meta content=\"width=device-width, initial-scale=1.0\" name=\"viewport\"> <meta content=\"Web Generator\" name=\"author\"> <meta content=\"1\" name=\"wg-layout\"> <link href=\"../css/custom-bootstrap.css\" rel=\"stylesheet\"> <link href=\"../css/wg-extras.css\" rel=\"stylesheet\"> <script src=\"../js/jquery-3.2.1.slim.min.js\" type=\"text/javascript\"></script> <script src=\"../js/bootstrap.min.js\" type=\"text/javascript\"></script> </head> <body class=\"bg-dark\"> <div class=\"d-flex bg-light\" id=\"full-wrapper\"> <div class=\"bg-secondary rounded\" data-wg-type=\"sidebar\" id=\"sidebar-wrapper\"> <div class=\"sidebar-heading\">Et</div> <div class=\"list-group list-group-flush\" style=\"width:27vh;\"> <a class=\"list-group-item list-group-item-action\" href=\"#\">Laboris dolor</a> <a class=\"list-group-item list-group-item-action\" href=\"#\">Et culpa enim</a> <a class=\"list-group-item list-group-item-action\" href=\"#\">Occaecat id</a> <a class=\"list-group-item list-group-item-action\" href=\"#\">Id deserunt</a> </div> </div> <div class=\"w-100\"> <nav class=\"bg-dark navbar-dark rounded navbar navbar-expand-md\" data-wg-type=\"navbar\"> <a class=\"navbar-brand\" href=\"#\">Culpa</a> <button class=\"navbar-toggler\" data-target=\"#main-nav\" data-toggle=\"collapse\" type=\"button\"> <span class=\"navbar-toggler-icon\"></span> </button> <div class=\"collapse navbar-collapse\" id=\"main-nav\" style=\"height: 7vh;\"> <ul class=\"navbar-nav mr-auto\"> <li class=\"nav-item\"> <a class=\"nav-link\" href=\"#\">Officia ut id</a> </li> <li class=\"nav-item\"> <a class=\"nav-link\" href=\"#\">Eu voluptate</a> </li> <li class=\"nav-item\"> <a class=\"nav-link\" href=\"#\">Amet dolore</a> </li> <li class=\"nav-item\"> <a class=\"nav-link\" href=\"#\">Cillum minim</a> </li> </ul> </div> </nav> <div class=\"container-fluid py-3\" id=\"page-content\"> <form class=\"p-3\" data-wg-type=\"form\"> <div class=\"form-row\"> <div class=\"form-group col-md\"> <label for=\"irure_laborum\">Irure laborum</label> <input class=\"form-control\" data-wg-type=\"time\" id=\"irure_laborum\" type=\"time\"> </div> <div class=\"form-group col-md\"> <label for=\"quis\">Quis</label> <input class=\"form-control\" data-wg-type=\"text\" id=\"quis\" type=\"text\"> </div> </div> <div class=\"form-group\"> <label for=\"ex\">Ex</label> <input class=\"form-control\" data-wg-type=\"text\" id=\"ex\" type=\"text\"> </div> <div class=\"form-row\"> <div class=\"form-group col-md\"> <label for=\"sit_in_commodo\">Sit in commodo</label> <input class=\"form-control\" data-wg-type=\"time\" id=\"sit_in_commodo\" type=\"time\"> </div> <div class=\"form-group col-md\"> <label for=\"consequat\">Consequat</label> <input class=\"form-control\" data-wg-type=\"text\" id=\"consequat\" type=\"text\"> </div> </div> <div class=\"form-row\"> <div class=\"form-group col-md\"> <label for=\"eiusmod_aliquip\">Eiusmod aliquip</label> <input class=\"form-control\" data-wg-type=\"text\" id=\"eiusmod_aliquip\" type=\"text\"> </div> <div class=\"form-group col-md\"> <label for=\"dolore_sint_laboris\">Dolore sint laboris</label> <select class=\"form-control\" data-wg-type=\"select\" id=\"dolore_sint_laboris\"> <option>Id ipsum cillum</option> <option>Et</option> <option>Et</option> <option>Et</option> <option>Et</option> <option>Et</option> <option>Et</option> <option>Et</option> </select> </div> </div> <div class=\"form-row\"> <div class=\"form-group col-md\"> <label for=\"mollit_proident\">Mollit proident</label> <input class=\"form-control\" data-wg-type=\"text\" id=\"mollit_proident\" type=\"text\"> </div> <div class=\"form-group col-md\"> <label for=\"mollit\">Mollit</label> <input class=\"custom-range\" data-wg-type=\"range\" id=\"mollit\" type=\"range\"> </div> <div class=\"form-group col-md\"> <label for=\"ullamco_elit\">Ullamco elit</label> <input class=\"form-control\" data-wg-type=\"text\" id=\"ullamco_elit\" type=\"text\"> </div> </div> <div class=\"form-row\"> <div class=\"form-group col-md\"> <label for=\"elit\">Elit</label> <select class=\"form-control\" data-wg-type=\"select\" id=\"elit\"> <option>Duis et</option> <option>Enim</option> <option>Enim</option> <option>Enim</option> <option>Enim</option> <option>Et</option> <option>Et</option> <option>Et</option> </select> </div> <div class=\"form-group col-md\"> <label for=\"sit_do_eiusmod\">Sit do eiusmod</label> <input class=\"form-control\" data-wg-type=\"text\" id=\"sit_do_eiusmod\" type=\"text\"> </div> <div class=\"form-group col-md\"> <label for=\"duis\">Duis</label> <input class=\"form-control\" data-wg-type=\"text\" id=\"duis\" type=\"text\"> </div> </div> <div class=\"form-row\"> <div class=\"form-group col-md\"> <label for=\"non_dolor\">Non dolor</label> <input class=\"custom-range\" data-wg-type=\"range\" id=\"non_dolor\" type=\"range\"> </div> <div class=\"form-group col-md\"> <label for=\"ipsum_aliqua_amet\">Ipsum aliqua amet</label> <input class=\"form-control\" data-wg-type=\"text\" id=\"ipsum_aliqua_amet\" type=\"text\"> </div> <div class=\"form-group col-md\"> <label for=\"sed\">Sed</label> <input class=\"form-control\" data-wg-type=\"time\" id=\"sed\" type=\"time\"> </div> </div> <div class=\"form-row\"> <div class=\"form-group col-md\"> <label for=\"aute_exercitation_veniam\">Aute exercitation veniam</label> <input class=\"form-control\" data-wg-type=\"date\" id=\"aute_exercitation_veniam\" type=\"date\"> </div> <div class=\"form-group col-md\"> <label for=\"quis\">Quis</label> <input class=\"form-control\" data-wg-type=\"date\" id=\"quis\" type=\"date\"> </div> </div> <div class=\"form-group\"> <label for=\"officia\">Officia</label> <input class=\"custom-range\" data-wg-type=\"range\" id=\"officia\" type=\"range\"> </div> <div class=\"form-group\"> <label for=\"eu\">Eu</label> <input class=\"form-control\" data-wg-type=\"date\" id=\"eu\" type=\"date\"> </div> </form> </div> </div> </div> </body> </html>\n",
            "    Answer: <!DOCTYPE html> <html> <head> <title>Dominate</title> <meta content=\"{&quot;primary&quot;: &quot;rgb(185, 186, 241)&quot;, &quot;secondary&quot;: &quot;rgb(113, 115, 213)&quot;, &quot;light&quot;: &quot;rgb(190, 191, 243)&quot;, &quot;dark&quot;: &quot;rgb(59, 61, 175)&quot;, &quot;enable-gradients&quot;: true}\" name=\"wg-palette\"> <meta content=\"width=device-width, initial-scale=1.0\" name=\"viewport\"> <meta content=\"Web Generator\" name=\"author\"> <meta content=\"1\" name=\"wg-layout\"> <link href=\"../css/custom-bootstrap.css\" rel=\"stylesheet\"> <link href=\"../css/wg-extras.css\" rel=\"stylesheet\"> <script src=\"../js/jquery-3.2.1.slim.min.js\" type=\"text/javascript\"></script> <script src=\"../js/bootstrap.min.js\" type=\"text/javascript\"></script> </head> <body class=\"bg-gradient-light\"> <div class=\"d-flex bg-gradient-light\" id=\"full-wrapper\"> <div class=\"bg-gradient-dark text-white shadow\" data-wg-type=\"sidebar\" id=\"sidebar-wrapper\"> <div class=\"sidebar-heading\">Et</div> <div class=\"list-group list-group-flush\" style=\"width:28vh;\"> <a class=\"list-group-item list-group-item-action\" href=\"#\">Laboris dolor</a> <a class=\"list-group-item list-group-item-action\" href=\"#\">Et culpa enim</a> <a class=\"list-group-item list-group-item-action\" href=\"#\">Occaecat id</a> <a class=\"list-group-item list-group-item-action\" href=\"#\">Id deserunt</a> </div> </div> <div class=\"w-100\"> <nav class=\"bg-gradient-dark navbar-dark shadow navbar navbar-expand-md\" data-wg-type=\"navbar\"> <a class=\"navbar-brand\" href=\"#\">Culpa</a> <button class=\"navbar-toggler\" data-target=\"#main-nav\" data-toggle=\"collapse\" type=\"button\"> <span class=\"navbar-toggler-icon\"></span> </button> <div class=\"collapse navbar-collapse\" id=\"main-nav\" style=\"height: 7vh;\"> <ul class=\"navbar-nav mr-auto\"> <li class=\"nav-item\"> <a class=\"nav-link\" href=\"#\">Officia ut id</a> </li> <li class=\"nav-item\"> <a class=\"nav-link\" href=\"#\">Eu voluptate</a> </li> <li class=\"nav-item\"> <a class=\"nav-link\" href=\"#\">Amet dolore</a> </li> <li class=\"nav-item\"> <a class=\"nav-link\" href=\"#\">Cillum minim</a> </li> </ul> </div> </nav> <div class=\"container-fluid py-3\" id=\"page-content\"> <form class=\"p-3\" data-wg-type=\"form\"> <div class=\"form-row\"> <div class=\"form-group col-md\"> <label for=\"irure_laborum\">Irure laborum</label> <input class=\"form-control\" data-wg-type=\"time\" id=\"irure_laborum\" type=\"time\"> </div> <div class=\"form-group col-md\"> <label for=\"quis\">Quis</label> <input class=\"form-control\" data-wg-type=\"text\" id=\"quis\" type=\"text\"> </div> </div> <div class=\"form-group\"> <label for=\"ex\">Ex</label> <input class=\"form-control\" data-wg-type=\"text\" id=\"ex\" type=\"text\"> </div> <div class=\"form-row\"> <div class=\"form-group col-md\"> <label for=\"sit_in_commodo\">Sit in commodo</label> <input class=\"form-control\" data-wg-type=\"time\" id=\"sit_in_commodo\" type=\"time\"> </div> <div class=\"form-group col-md\"> <label for=\"consequat\">Consequat</label> <input class=\"form-control\" data-wg-type=\"text\" id=\"consequat\" type=\"text\"> </div> </div> <div class=\"form-row\"> <div class=\"form-group col-md\"> <label for=\"eiusmod_aliquip\">Eiusmod aliquip</label> <input class=\"form-control\" data-wg-type=\"text\" id=\"eiusmod_aliquip\" type=\"text\"> </div> <div class=\"form-group col-md\"> <label for=\"dolore_sint_laboris\">Dolore sint laboris</label> <select class=\"form-control\" data-wg-type=\"select\" id=\"dolore_sint_laboris\"> <option>Id ipsum cillum</option> <option>Ex</option> <option>Incididunt enim duis</option> </select> </div> </div> <div class=\"form-row\"> <div class=\"form-group col-md\"> <label for=\"mollit_proident\">Mollit proident</label> <input class=\"form-control\" data-wg-type=\"text\" id=\"mollit_proident\" type=\"text\"> </div> <div class=\"form-group col-md\"> <label for=\"mollit\">Mollit</label> <input class=\"custom-range\" data-wg-type=\"range\" id=\"mollit\" type=\"range\"> </div> <div class=\"form-group col-md\"> <label for=\"ullamco_elit\">Ullamco elit</label> <input class=\"form-control\" data-wg-type=\"text\" id=\"ullamco_elit\" type=\"text\"> </div> </div> <div class=\"form-row\"> <div class=\"form-group col-md\"> <label for=\"elit\">Elit</label> <select class=\"form-control\" data-wg-type=\"select\" id=\"elit\"> <option>Duis et</option> <option>Cupidatat</option> <option>Aliquip</option> <option>Amet</option> <option>Adipiscing</option> <option>Laborum fugiat magna</option> </select> </div> <div class=\"form-group col-md\"> <label for=\"sit_do_eiusmod\">Sit do eiusmod</label> <input class=\"form-control\" data-wg-type=\"text\" id=\"sit_do_eiusmod\" type=\"text\"> </div> <div class=\"form-group col-md\"> <label for=\"duis\">Duis</label> <input class=\"form-control\" data-wg-type=\"text\" id=\"duis\" type=\"text\"> </div> </div> <div class=\"form-row\"> <div class=\"form-group col-md\"> <label for=\"non_dolor\">Non dolor</label> <input class=\"custom-range\" data-wg-type=\"range\" id=\"non_dolor\" type=\"range\"> </div> <div class=\"form-group col-md\"> <label for=\"ipsum_aliqua_amet\">Ipsum aliqua amet</label> <input class=\"form-control\" data-wg-type=\"text\" id=\"ipsum_aliqua_amet\" type=\"text\"> </div> <div class=\"form-group col-md\"> <label for=\"sed\">Sed</label> <input class=\"form-control\" data-wg-type=\"time\" id=\"sed\" type=\"time\"> </div> </div> <div class=\"form-row\"> <div class=\"form-group col-md\"> <label for=\"aute_exercitation_veniam\">Aute exercitation veniam</label> <input class=\"form-control\" data-wg-type=\"date\" id=\"aute_exercitation_veniam\" type=\"date\"> </div> <div class=\"form-group col-md\"> <label for=\"quis\">Quis</label> <input class=\"form-control\" data-wg-type=\"date\" id=\"quis\" type=\"date\"> </div> </div> <div class=\"form-group\"> <label for=\"officia\">Officia</label> <input class=\"custom-range\" data-wg-type=\"range\" id=\"officia\" type=\"range\"> </div> <div class=\"form-group\"> <label for=\"eu\">Eu</label> <input class=\"form-control\" data-wg-type=\"date\" id=\"eu\" type=\"date\"> </div> </form> </div> </div> </div> </body> </html>\n",
            "      Bleu: 0.94\n",
            "\n",
            "Prediction: <!DOCTYPE html> <html> <head> <title>Dominate</title> <meta content=\"{&quot;primary&quot;: &quot;rgb(203, 201, 226)&quot;, &quot;secondary&quot;: &quot;rgb(158, 154, 200)&quot;, &quot;light&quot;: &quot;rgb(242, 240, 247)&quot;, &quot;dark&quot;: &quot;rgb(106, 81, 163)&quot;, &quot;enable-gradients&quot;: false}\" name=\"wg-palette\"> <meta content=\"width=device-width, initial-scale=1.0\" name=\"viewport\"> <meta content=\"Web Generator\" name=\"author\"> <meta content=\"3\" name=\"wg-layout\"> <link href=\"../css/custom-bootstrap.css\" rel=\"stylesheet\"> <link href=\"../css/wg-extras.css\" rel=\"stylesheet\"> <script src=\"../js/jquery-3.2.1.slim.min.js\" type=\"text/javascript\"></script> <script src=\"../js/bootstrap.min.js\" type=\"text/javascript\"></script> </head> <body class=\"\"> <div class=\" shadow-lg\" id=\"full-wrapper\"> <header class=\"bg-secondary shadow-lg d-flex align-items-center justify-content-center\" data-wg-type=\"header\" style=\"height: 26vh;\"> <h1 class=\"p-2 text-center\">Dolor Eu</h1> </header> <div class=\"d-flex\"> <div class=\"container-fluid py-3\" id=\"page-content\"> <div class=\"row my-3 wg-detect\" data-wg-type=\"mix\"> <div class=\"col\"> <table class=\"bg-white table\" data-wg-type=\"table\"> <tr> <td>aliqua</td> <td>laborum</td> <td>qui</td> <td>0</td> </tr> <tr> <td>id</td> <td>ullamco</td> <td>magna</td> <td>0</td> </tr> </table> </div> <div class=\"col\"> <h1 class=\"wg-detect\" data-wg-type=\"heading\">Sunt ut aliquip irure lorem, velit ad laborum et tempor aliqua non.</h1> </div> </div> <div class=\"row my-3 wg-detect\" data-wg-type=\"mix\"> <div class=\"col\"> <div class=\"text-center wg-detect\" data-wg-type=\"featured_item\"> <span class=\"text-black rounded-circle mx-auto shadow placeholder\" style=\"width: 113px;height: 113px;\"> <span>113x113</span> </span> <h2>Dolor laborum lorem</h2> <p>Occaecat proident culpa sint commodo enim duis est</p> <a class=\"btn btn-primary\" href=\"#\">Labore veniam</a> </div> </div> <div class=\"col\"> <h1 class=\"wg-detect\" data-wg-type=\"heading\">Eu sed excepteur incididunt lorem ad laborum.</h1> </div> <div class=\"col\"> <h1 class=\"wg-detect\" data-wg-type=\"heading\">Excepteur pariatur dolor sunt ad et elit ea.</h1> </div> </div> </div> <div class=\"bg-light shadow-lg\" data-wg-type=\"sidebar\" id=\"sidebar-wrapper\"> <div class=\"sidebar-heading\">Mollit</div> <div class=\"list-group list-group-flush\" style=\"width:27vh;\"> <a class=\"list-group-item list-group-item-action\" href=\"#\">Sed elit ad</a> <a class=\"list-group-item list-group-item-action\" href=\"#\">Reprehenderit</a> </div> </div> </div> <footer class=\" shadow-lg jumbotron mb-0\" data-wg-type=\"footer\" style=\"height: 28vh;\"> <div class=\"container\"> <span class=\"text-muted\">Dolor ea sed nulla amet eiusmod enim in excepteur</span> </div> </footer> </div> </body> </html>\n",
            "    Answer: <!DOCTYPE html> <html> <head> <title>Dominate</title> <meta content=\"{&quot;primary&quot;: &quot;rgb(252, 174, 145)&quot;, &quot;secondary&quot;: &quot;rgb(251, 106, 74)&quot;, &quot;light&quot;: &quot;rgb(254, 229, 217)&quot;, &quot;dark&quot;: &quot;rgb(203, 24, 29)&quot;, &quot;enable-gradients&quot;: true}\" name=\"wg-palette\"> <meta content=\"width=device-width, initial-scale=1.0\" name=\"viewport\"> <meta content=\"Web Generator\" name=\"author\"> <meta content=\"3\" name=\"wg-layout\"> <link href=\"../css/custom-bootstrap.css\" rel=\"stylesheet\"> <link href=\"../css/wg-extras.css\" rel=\"stylesheet\"> <script src=\"../js/jquery-3.2.1.slim.min.js\" type=\"text/javascript\"></script> <script src=\"../js/bootstrap.min.js\" type=\"text/javascript\"></script> </head> <body class=\"\"> <div class=\" shadow\" id=\"full-wrapper\"> <header class=\"bg-gradient-secondary shadow d-flex align-items-center justify-content-center\" data-wg-type=\"header\" style=\"height: 24vh;\"> <h1 class=\"p-2 text-center\">Dolor Eu</h1> </header> <div class=\"d-flex\"> <div class=\"container-fluid py-3\" id=\"page-content\"> <div class=\"row my-3 wg-detect\" data-wg-type=\"mix\"> <div class=\"col\"> <table class=\"bg-white table-striped table\" data-wg-type=\"table\"> <tr> <td>aliqua</td> <td>laborum</td> <td>qui</td> <td>0</td> </tr> <tr> <td>id</td> <td>ullamco</td> <td>magna</td> <td>0</td> </tr> </table> </div> <div class=\"col\"> <h1 class=\"wg-detect\" data-wg-type=\"heading\">Sunt ut aliquip irure lorem, velit ad laborum et tempor aliqua non.</h1> </div> </div> <div class=\"row my-3 wg-detect\" data-wg-type=\"mix\"> <div class=\"col\"> <div class=\"text-center wg-detect\" data-wg-type=\"featured_item\"> <span class=\"text-black rounded-circle mx-auto shadow placeholder\" style=\"width: 113px;height: 113px;\"> <span>113x113</span> </span> <h2>Dolor laborum lorem</h2> <p>Occaecat proident culpa sint commodo enim duis est</p> <a class=\"btn btn-primary\" href=\"#\">Labore veniam</a> </div> </div> <div class=\"col\"> <h1 class=\"wg-detect\" data-wg-type=\"heading\">Eu sed excepteur incididunt lorem ad laborum.</h1> </div> <div class=\"col\"> <h1 class=\"wg-detect\" data-wg-type=\"heading\">Excepteur pariatur dolor sunt ad et elit ea.</h1> </div> </div> </div> <div class=\"bg-gradient-light shadow\" data-wg-type=\"sidebar\" id=\"sidebar-wrapper\"> <div class=\"sidebar-heading\">Mollit</div> <div class=\"list-group list-group-flush\" style=\"width:28vh;\"> <a class=\"list-group-item list-group-item-action\" href=\"#\">Sed elit ad</a> <a class=\"list-group-item list-group-item-action\" href=\"#\">Reprehenderit</a> </div> </div> </div> <footer class=\" shadow jumbotron mb-0\" data-wg-type=\"footer\" style=\"height: 28vh;\"> <div class=\"container\"> <span class=\"text-muted\">Dolor ea sed nulla amet eiusmod enim in excepteur</span> </div> </footer> </div> </body> </html>\n",
            "      Bleu: 0.98\n",
            "\n",
            "Prediction: <!DOCTYPE html> <html> <head> <title>Dominate</title> <meta content=\"{&quot;primary&quot;: &quot;rgb(189, 201, 225)&quot;, &quot;secondary&quot;: &quot;rgb(103, 169, 207)&quot;, &quot;light&quot;: &quot;rgb(246, 239, 247)&quot;, &quot;dark&quot;: &quot;rgb(2, 129, 138)&quot;, &quot;enable-gradients&quot;: false}\" name=\"wg-palette\"> <meta content=\"width=device-width, initial-scale=1.0\" name=\"viewport\"> <meta content=\"Web Generator\" name=\"author\"> <meta content=\"4\" name=\"wg-layout\"> <link href=\"../css/custom-bootstrap.css\" rel=\"stylesheet\"> <link href=\"../css/wg-extras.css\" rel=\"stylesheet\"> <script src=\"../js/jquery-3.2.1.slim.min.js\" type=\"text/javascript\"></script> <script src=\"../js/bootstrap.min.js\" type=\"text/javascript\"></script> </head> <body class=\"\"> <div class=\" rounded\" id=\"full-wrapper\"> <div class=\"d-flex\"> <div class=\"bg-light rounded\" data-wg-type=\"sidebar\" id=\"sidebar-wrapper\"> <div class=\"sidebar-heading\">Mollit</div> <div class=\"list-group list-group-flush\" style=\"width:27vh;\"> <a class=\"list-group-item list-group-item-action\" href=\"#\">Laborum enim</a> <a class=\"list-group-item list-group-item-action\" href=\"#\">Non officia</a> <a class=\"list-group-item list-group-item-action\" href=\"#\">Aliqua velit</a> <a class=\"list-group-item list-group-item-action\" href=\"#\">Nisi velit sit</a> <a class=\"list-group-item list-group-item-action\" href=\"#\">Laboris ut ad</a> <a class=\"list-group-item list-group-item-action\" href=\"#\">Pariatur anim</a> </div> </div> <div class=\"w-100\"> <nav class=\"bg-light navbar-light rounded navbar navbar-expand-md\" data-wg-type=\"navbar\"> <a class=\"navbar-brand\" href=\"#\">Occaecat</a> <button class=\"navbar-toggler\" data-target=\"#main-nav\" data-toggle=\"collapse\" type=\"button\"> <span class=\"navbar-toggler-icon\"></span> </button> <div class=\"collapse navbar-collapse\" id=\"main-nav\" style=\"height: 9vh;\"> <ul class=\"navbar-nav ml-auto\"> <li class=\"nav-item\"> <a class=\"nav-link\" href=\"#\">Veniam mollit</a> </li> <li class=\"nav-item\"> <a class=\"nav-link\" href=\"#\">Proident elit</a> </li> <li class=\"nav-item\"> <a class=\"nav-link\" href=\"#\">Incididunt ut</a> </li> <li class=\"nav-item\"> <a class=\"nav-link\" href=\"#\">Laboris enim</a> </li> </ul> </div> </nav> <header class=\"bg-secondary text-white rounded d-flex align-items-center justify-content-center\" data-wg-type=\"header\" style=\"height: 31vh;\"> <h1 class=\"p-2 text-center\">Esse Ut Nisi Lorem Amet Id Consectetur</h1> </header> <div class=\"container-fluid py-3\" id=\"page-content\"> <div class=\"row my-3 wg-detect\" data-wg-type=\"mix\"> <div class=\"col\"> <p class=\"wg-detect\" data-wg-type=\"paragraph\">Cillum nisi sit ea aliquip fugiat do, officia amet et tempor incididunt duis nisi. Mollit esse tempor deserunt fugiat est anim. Aliquip culpa pariatur proident exercitation eu. Commodo commodo ullamco aliqua nostrud nostrud. Qui laboris ipsum ullamco duis mollit nulla. Culpa excepteur magna dolore nisi aliqua, voluptate elit cupidatat nisi nisi enim anim.</p> </div> </div> <div class=\"row my-3 wg-detect\" data-wg-type=\"mix\"> <div class=\"col\"> <p class=\"wg-detect\" data-wg-type=\"paragraph\">Ea velit nulla irure anim nulla. Aute nostrud nulla ut occaecat ea labore et, velit cupidatat veniam sint velit cupidatat veniam. Velit veniam lorem irure minim, enim ex adipiscing occaecat id ipsum culpa consequat, ullamco reprehenderit occaecat commodo nostrud nostrud. Voluptate mollit aliquip minim id lorem enim, ullamco fugiat ullamco aliquip adipiscing eiusmod duis occaecat ut.</p> </div> <div class=\"col\"> <p class=\"wg-detect\" data-wg-type=\"paragraph\">Laborum occaecat eu tempor fugiat esse cupidatat. Aliqua sed id eu sed amet ea, lorem pariatur consequat sed irure magna consequat. In adipiscing aliqua sint officia ea excepteur mollit. Sed non in aliqua non anim. Dolore voluptate est et laboris ea. Veniam laboris laborum exercitation anim commodo. Sint consectetur in reprehenderit laborum pariatur velit occaecat, et reprehenderit nostrud ullamco laboris adipiscing, sed officia ad ullamco cillum ut ea.</p> </div> <div class=\"col\"> <h1 class=\"wg-detect\" data-wg-type=\"heading\">Laboris fugiat aliquip eiusmod elit duis.</h1> </div> </div> <div class=\"row wg-detect\" data-wg-type=\"cards\"> <div class=\"col\"> <div class=\"card-columns\"> <div class=\"text-black card\"> <span class=\"card-img-top placeholder\" style=\"height: 100px;\"></span> <div class=\"card-body\"> <h5 class=\"card-title\">Minim aliquip do ad</h5> <p class=\"card-text\">Tempor sunt ut adipiscing eiusmod duis occaecat ut</p> <div class=\"d-flex justify-content-between align-items-center\"> <div class=\"btn-group\"> <button class=\"btn btn-sm btn-outline-secondary\" type=\"button\">Excepteur anim</button> </div> <small class=\"text-muted\">Occaecat qui</small> </div> </div> </div> <div class=\"text-black card\"> <span class=\"card-img-top placeholder\" style=\"height: 100px;\"></span> <div class=\"card-body\"> <h5 class=\"card-title\">Irure veniam amet</h5> <p class=\"card-text\">Id elit ut voluptate nisi officia aliqua labore</p> <div class=\"d-flex justify-content-between align-items-center\"> <div class=\"btn-group\"> <button class=\"btn btn-sm btn-outline-secondary\" type=\"button\">Magna eu enim</button> </div> <small class=\"text-muted\">Esse amet sed</small> </div> </div> </div> <div class=\"text-black card\"> <span class=\"card-img-top placeholder\" style=\"height: 100px;\"></span> <div class=\"card-body\"> <h5 class=\"card-title\">Dolor velit fugiat</h5> <p class=\"card-text\">Enim excepteur cillum eiusmod dolor sed officia ad</p> <div class=\"d-flex justify-content-between align-items-center\"> <div class=\"btn-group\"> <button class=\"btn btn-sm btn-outline-secondary\" type=\"button\">Tempor dolore</button> </div> <small class=\"text-muted\">Pariatur do</small> </div> </div> </div> <div class=\"text-black card\"> <span class=\"card-img-top placeholder\" style=\"height: 100px;\"></span> <div class=\"card-body\"> <h5 class=\"card-title\">Aliquip culpa esse</h5> <p class=\"card-text\">Commodo reprehenderit pariatur anim dolor do</p> <div class=\"d-flex justify-content-between align-items-center\"> <div class=\"btn-group\"> <button class=\"btn btn-sm btn-outline-secondary\" type=\"button\">Excepteur do</button> </div> <small class=\"text-muted\">Exercitation</small> </div> </div> </div> <div class=\"text-black card\"> <span class=\"card-img-top placeholder\" style=\"height: 100px;\"></span> <div class=\"card-body\"> <h5 class=\"card-title\">Esse nisi non ipsum</h5> <p class=\"card-text\">Elit adipiscing ad laboris id in ipsum officia do</p> <div class=\"d-flex justify-content-between align-items-center\"> <div class=\"btn-group\"> <button class=\"btn btn-sm btn-outline-secondary\" type=\"button\">Veniam ipsum</button> </div> <small class=\"text-muted\">Eiusmod enim</small> </div> </div> </div> </div> </div> </div> </div> </div> </div> <footer class=\" rounded jumbotron mb-0\" data-wg-type=\"footer\" style=\"height: 11vh;\"> <div class=\"container\"> <span class=\"text-muted\">Voluptate do cillum excepteur id dolore velit duis</span> </div> </footer> </div> </body> </html>\n",
            "    Answer: <!DOCTYPE html> <html> <head> <title>Dominate</title> <meta content=\"{&quot;primary&quot;: &quot;rgb(100, 180, 99)&quot;, &quot;secondary&quot;: &quot;rgb(18, 110, 69)&quot;, &quot;light&quot;: &quot;rgb(215, 249, 208)&quot;, &quot;dark&quot;: &quot;rgb(18, 36, 20)&quot;, &quot;enable-gradients&quot;: false}\" name=\"wg-palette\"> <meta content=\"width=device-width, initial-scale=1.0\" name=\"viewport\"> <meta content=\"Web Generator\" name=\"author\"> <meta content=\"4\" name=\"wg-layout\"> <link href=\"../css/custom-bootstrap.css\" rel=\"stylesheet\"> <link href=\"../css/wg-extras.css\" rel=\"stylesheet\"> <script src=\"../js/jquery-3.2.1.slim.min.js\" type=\"text/javascript\"></script> <script src=\"../js/bootstrap.min.js\" type=\"text/javascript\"></script> </head> <body class=\"\"> <div class=\" shadow\" id=\"full-wrapper\"> <div class=\"d-flex\"> <div class=\"bg-light shadow\" data-wg-type=\"sidebar\" id=\"sidebar-wrapper\"> <div class=\"sidebar-heading\">Mollit</div> <div class=\"list-group list-group-flush\" style=\"width:28vh;\"> <a class=\"list-group-item list-group-item-action\" href=\"#\">Laborum enim</a> <a class=\"list-group-item list-group-item-action\" href=\"#\">Non officia</a> <a class=\"list-group-item list-group-item-action\" href=\"#\">Aliqua velit</a> <a class=\"list-group-item list-group-item-action\" href=\"#\">Nisi sed sit</a> <a class=\"list-group-item list-group-item-action\" href=\"#\">Labore in et</a> <a class=\"list-group-item list-group-item-action\" href=\"#\">Pariatur anim</a> </div> </div> <div class=\"w-100\"> <nav class=\"bg-light navbar-light shadow navbar navbar-expand-md\" data-wg-type=\"navbar\"> <a class=\"navbar-brand\" href=\"#\">Occaecat</a> <button class=\"navbar-toggler\" data-target=\"#main-nav\" data-toggle=\"collapse\" type=\"button\"> <span class=\"navbar-toggler-icon\"></span> </button> <div class=\"collapse navbar-collapse\" id=\"main-nav\" style=\"height: 9vh;\"> <ul class=\"navbar-nav mx-auto\"> <li class=\"nav-item\"> <a class=\"nav-link\" href=\"#\">Veniam mollit</a> </li> <li class=\"nav-item\"> <a class=\"nav-link\" href=\"#\">Proident elit</a> </li> <li class=\"nav-item\"> <a class=\"nav-link\" href=\"#\">Incididunt et</a> </li> <li class=\"nav-item\"> <a class=\"nav-link\" href=\"#\">Laboris enim</a> </li> </ul> </div> </nav> <header class=\"bg-secondary text-white shadow d-flex align-items-center justify-content-center\" data-wg-type=\"header\" style=\"height: 38vh;\"> <h1 class=\"p-2 text-center\">Esse Ut Nisi Lorem Amet Id Consectetur</h1> </header> <div class=\"container-fluid py-3\" id=\"page-content\"> <div class=\"row my-3 wg-detect\" data-wg-type=\"mix\"> <div class=\"col\"> <p class=\"wg-detect\" data-wg-type=\"paragraph\">Cillum sint sit ea aliquip fugiat elit, officia deserunt tempor incididunt id eu est. Nulla esse tempor deserunt fugiat est anim. Aliquip culpa pariatur proident exercitation eu. Commodo sint anim culpa ipsum occaecat magna amet. Duis officia ipsum anim occaecat dolore non nostrud. Qui laboris ipsum ullamco duis mollit nulla. Culpa excepteur magna dolore nisi aliqua, voluptate elit cupidatat nisi nisi enim anim.</p> </div> </div> <div class=\"row my-3 wg-detect\" data-wg-type=\"mix\"> <div class=\"col\"> <p class=\"wg-detect\" data-wg-type=\"paragraph\">Id ea velit nulla irure anim nulla. Aute nostrud nulla ut occaecat ea laboris et. Consequat dolore laborum velit cupidatat veniam. Nisi aliquip lorem dolor irure minim. Anim ex adipiscing occaecat ut ipsum culpa consequat, ullamco reprehenderit occaecat esse fugiat nulla sint, qui occaecat ut non sit minim. Voluptate mollit aliquip nisi lorem ad amet enim, ullamco fugiat ullamco aliquip incididunt velit cupidatat tempor. Excepteur laboris deserunt anim ipsum amet laboris, aliqua commodo excepteur anim mollit ut dolore.</p> </div> <div class=\"col\"> <p class=\"wg-detect\" data-wg-type=\"paragraph\">Laborum occaecat eu tempor fugiat esse cupidatat. Aliqua nisi id eu qui esse. Elit cillum minim pariatur sit lorem ex, lorem veniam consequat sed duis magna consequat in, adipiscing aliqua sint officia ea excepteur mollit. Sed ex in aliqua anim anim. Dolore reprehenderit occaecat voluptate est id, labore est dolore laboris laborum exercitation anim commodo. Sint consectetur amet laborum pariatur velit occaecat. Id reprehenderit amet id labore aliqua ullamco adipiscing, sed officia ad ullamco cillum id ex.</p> </div> <div class=\"col\"> <h1 class=\"wg-detect\" data-wg-type=\"heading\">Laboris fugiat aliquip eiusmod elit duis.</h1> </div> </div> <div class=\"row wg-detect\" data-wg-type=\"cards\"> <div class=\"col\"> <div class=\"card-columns\"> <div class=\"text-black shadow card\"> <span class=\"card-img-top placeholder\" style=\"height: 100px;\"></span> <div class=\"card-body\"> <h5 class=\"card-title\">Minim aliquip do ad</h5> <p class=\"card-text\">Tempor sunt do adipiscing eiusmod duis occaecat ut</p> <div class=\"d-flex justify-content-between align-items-center\"> <div class=\"btn-group\"> <button class=\"btn btn-sm btn-outline-secondary\" type=\"button\">Labore ipsum</button> </div> <small class=\"text-muted\">Dolore ex ad</small> </div> </div> </div> <div class=\"text-black shadow card\"> <span class=\"card-img-top placeholder\" style=\"height: 100px;\"></span> <div class=\"card-body\"> <h5 class=\"card-title\">Irure veniam dolor</h5> <p class=\"card-text\">Id elit id ut voluptate nisi officia aliqua labore</p> <div class=\"d-flex justify-content-between align-items-center\"> <div class=\"btn-group\"> <button class=\"btn btn-sm btn-outline-secondary\" type=\"button\">Fugiat ex est</button> </div> <small class=\"text-muted\">Fugiat esse</small> </div> </div> </div> <div class=\"text-black shadow card\"> <span class=\"card-img-top placeholder\" style=\"height: 100px;\"></span> <div class=\"card-body\"> <h5 class=\"card-title\">Dolor velit fugiat</h5> <p class=\"card-text\">Anim consequat excepteur ullamco eiusmod dolor sed</p> <div class=\"d-flex justify-content-between align-items-center\"> <div class=\"btn-group\"> <button class=\"btn btn-sm btn-outline-secondary\" type=\"button\">Tempor ipsum</button> </div> <small class=\"text-muted\">Et excepteur</small> </div> </div> </div> <div class=\"text-black shadow card\"> <span class=\"card-img-top placeholder\" style=\"height: 100px;\"></span> <div class=\"card-body\"> <h5 class=\"card-title\">Aliquip culpa esse</h5> <p class=\"card-text\">Commodo reprehenderit pariatur anim aliqua amet do</p> <div class=\"d-flex justify-content-between align-items-center\"> <div class=\"btn-group\"> <button class=\"btn btn-sm btn-outline-secondary\" type=\"button\">Incididunt do</button> </div> <small class=\"text-muted\">Reprehenderit</small> </div> </div> </div> <div class=\"text-black shadow card\"> <span class=\"card-img-top placeholder\" style=\"height: 100px;\"></span> <div class=\"card-body\"> <h5 class=\"card-title\">Esse nisi non ipsum</h5> <p class=\"card-text\">Elit adipiscing ad laboris id in ipsum officia do</p> <div class=\"d-flex justify-content-between align-items-center\"> <div class=\"btn-group\"> <button class=\"btn btn-sm btn-outline-secondary\" type=\"button\">Et est ipsum</button> </div> <small class=\"text-muted\">Consequat sit</small> </div> </div> </div> </div> </div> </div> </div> </div> </div> <footer class=\" shadow jumbotron mb-0\" data-wg-type=\"footer\" style=\"height: 15vh;\"> <div class=\"container\"> <span class=\"text-muted\">Voluptate do cillum excepteur id dolore velit duis</span> </div> </footer> </div> </body> </html>\n",
            "      Bleu: 0.77\n",
            "\n",
            "Prediction: <!DOCTYPE html> <html> <head> <title>Dominate</title> <meta content=\"{&quot;primary&quot;: &quot;rgb(189, 201, 225)&quot;, &quot;secondary&quot;: &quot;rgb(103, 169, 207)&quot;, &quot;light&quot;: &quot;rgb(246, 239, 247)&quot;, &quot;dark&quot;: &quot;rgb(2, 129, 138)&quot;, &quot;enable-gradients&quot;: false}\" name=\"wg-palette\"> <meta content=\"width=device-width, initial-scale=1.0\" name=\"viewport\"> <meta content=\"Web Generator\" name=\"author\"> <meta content=\"2\" name=\"wg-layout\"> <link href=\"../css/custom-bootstrap.css\" rel=\"stylesheet\"> <link href=\"../css/wg-extras.css\" rel=\"stylesheet\"> <script src=\"../js/jquery-3.2.1.slim.min.js\" type=\"text/javascript\"></script> <script src=\"../js/bootstrap.min.js\" type=\"text/javascript\"></script> </head> <body class=\"bg-dark\"> <div class=\"bg-light rounded\" id=\"full-wrapper\"> <nav class=\"bg-dark navbar-dark rounded navbar navbar-expand-md\" data-wg-type=\"navbar\"> <button class=\"navbar-toggler\" data-target=\"#main-nav\" data-toggle=\"collapse\" type=\"button\"> <span class=\"navbar-toggler-icon\"></span> </button> <div class=\"collapse navbar-collapse\" id=\"main-nav\" style=\"height: 4vh;\"> <ul class=\"navbar-nav ml-auto\"> <li class=\"nav-item\"> <a class=\"nav-link\" href=\"#\">Id duis dolor</a> </li> <li class=\"nav-item\"> <a class=\"nav-link\" href=\"#\">Ipsum tempor</a> </li> <li class=\"nav-item\"> <a class=\"nav-link\" href=\"#\">Do nulla qui</a> </li> <li class=\"nav-item\"> <a class=\"nav-link\" href=\"#\">Aliquip velit</a> </li> <li class=\"nav-item\"> <a class=\"nav-link\" href=\"#\">Aliquip culpa</a> </li> <li class=\"nav-item\"> <a class=\"nav-link\" href=\"#\">Consequat id</a> </li> </ul> </div> </nav> <header class=\"bg-primary rounded d-flex align-items-center justify-content-center\" data-wg-type=\"header\" style=\"height: 17vh;\"> <h1 class=\"p-2 text-center\">Deserunt Incididunt In</h1> </header> <div class=\"d-flex\"> <div class=\"bg-secondary rounded\" data-wg-type=\"sidebar\" id=\"sidebar-wrapper\"> <div class=\"list-group list-group-flush\" style=\"width:27vh;\"> <a class=\"list-group-item list-group-item-action\" href=\"#\">Magna sint in</a> <a class=\"list-group-item list-group-item-action\" href=\"#\">Ullamco ex ad</a> <a class=\"list-group-item list-group-item-action\" href=\"#\">Sit excepteur</a> </div> </div> <div class=\"container-fluid py-3\" id=\"page-content\"> <div class=\"row wg-detect\" data-wg-type=\"cards\"> <div class=\"col\"> <div class=\"card-columns\"> <div class=\"text-black card\"> <div class=\"card-body\"> <h5 class=\"card-title\">Eu ad consequat eu</h5> <p class=\"card-text\">Magna dolor esse nisi ullamco occaecat fugiat est</p> <div class=\"d-flex justify-content-between align-items-center\"> <div class=\"btn-group\"> <button class=\"btn btn-sm btn-outline-secondary\" type=\"button\">Lorem sint eu</button> </div> <small class=\"text-muted\">Nostrud amet</small> </div> </div> </div> <div class=\"text-black card\"> <div class=\"card-body\"> <h5 class=\"card-title\">Fugiat exercitation</h5> <p class=\"card-text\">Elit est culpa consequat ipsum dolore dolor lorem</p> <div class=\"d-flex justify-content-between align-items-center\"> <div class=\"btn-group\"> <button class=\"btn btn-sm btn-outline-secondary\" type=\"button\">Nostrud sint</button> </div> <small class=\"text-muted\">Non cillum ad</small> </div> </div> </div> <div class=\"text-black card\"> <div class=\"card-body\"> <h5 class=\"card-title\">Non sunt mollit ut</h5> <p class=\"card-text\">Exercitation excepteur pariatur ullamco esse nisi</p> <div class=\"d-flex justify-content-between align-items-center\"> <div class=\"btn-group\"> <button class=\"btn btn-sm btn-outline-secondary\" type=\"button\">Magna cillum</button> </div> <small class=\"text-muted\">Consectetur</small> </div> </div> </div> <div class=\"text-black card\"> <div class=\"card-body\"> <h5 class=\"card-title\">Consequat quis sit</h5> <p class=\"card-text\">Voluptate minim nulla cupidatat deserunt cillum id</p> <div class=\"d-flex justify-content-between align-items-center\"> <div class=\"btn-group\"> <button class=\"btn btn-sm btn-outline-secondary\" type=\"button\">Sunt deserunt</button> </div> <small class=\"text-muted\">Ea aute qui</small> </div> </div> </div> </div> </div> </div> <div class=\"m-3 wg-detect\" data-wg-type=\"tabs\"> <div class=\"nav nav-tabs\"> <a aria-controls=\"occaecat\" class=\"nav-item nav-link active\" data-toggle=\"tab\" href=\"#occaecat\" id=\"occaecat-tab\" role=\"tab\">Occaecat</a> <a aria-controls=\"aliquip\" class=\"nav-item nav-link\" data-toggle=\"tab\" href=\"#aliquip\" id=\"aliquip-tab\" role=\"tab\">Aliquip</a> </div> <div class=\"tab-content\"> <div aria-labelledby=\"occaecat\" class=\"tab-pane fade border p-3 show active\" id=\"occaecat\" role=\"tabpanel\">Consequat eu irure consequat sunt, nostrud enim duis enim laboris.</div> <div aria-labelledby=\"aliquip\" class=\"tab-pane fade border p-3\" id=\"aliquip\" role=\"tabpanel\">Ea aliqua aliqua ullamco.</div> </div> </div> </div> </div> </div> </body> </html>\n",
            "    Answer: <!DOCTYPE html> <html> <head> <title>Dominate</title> <meta content=\"{&quot;primary&quot;: &quot;rgb(118, 164, 229)&quot;, &quot;secondary&quot;: &quot;rgb(118, 66, 165)&quot;, &quot;light&quot;: &quot;rgb(230, 241, 241)&quot;, &quot;dark&quot;: &quot;rgb(54, 14, 36)&quot;, &quot;enable-gradients&quot;: true}\" name=\"wg-palette\"> <meta content=\"width=device-width, initial-scale=1.0\" name=\"viewport\"> <meta content=\"Web Generator\" name=\"author\"> <meta content=\"2\" name=\"wg-layout\"> <link href=\"../css/custom-bootstrap.css\" rel=\"stylesheet\"> <link href=\"../css/wg-extras.css\" rel=\"stylesheet\"> <script src=\"../js/jquery-3.2.1.slim.min.js\" type=\"text/javascript\"></script> <script src=\"../js/bootstrap.min.js\" type=\"text/javascript\"></script> </head> <body class=\"bg-gradient-dark\"> <div class=\"bg-gradient-light shadow\" id=\"full-wrapper\"> <nav class=\"bg-gradient-dark navbar-dark shadow navbar navbar-expand-md\" data-wg-type=\"navbar\"> <button class=\"navbar-toggler\" data-target=\"#main-nav\" data-toggle=\"collapse\" type=\"button\"> <span class=\"navbar-toggler-icon\"></span> </button> <div class=\"collapse navbar-collapse\" id=\"main-nav\" style=\"height: 6vh;\"> <ul class=\"navbar-nav ml-auto\"> <li class=\"nav-item\"> <a class=\"nav-link\" href=\"#\">Id duis dolor</a> </li> <li class=\"nav-item\"> <a class=\"nav-link\" href=\"#\">Ipsum tempor</a> </li> <li class=\"nav-item\"> <a class=\"nav-link\" href=\"#\">Do nulla qui</a> </li> <li class=\"nav-item\"> <a class=\"nav-link\" href=\"#\">Aliquip velit</a> </li> <li class=\"nav-item\"> <a class=\"nav-link\" href=\"#\">Aliquip culpa</a> </li> <li class=\"nav-item\"> <a class=\"nav-link\" href=\"#\">Consequat id</a> </li> </ul> </div> </nav> <header class=\"bg-gradient-primary shadow d-flex align-items-center justify-content-center\" data-wg-type=\"header\" style=\"height: 16vh;\"> <h1 class=\"p-2 text-center\">Deserunt Incididunt In</h1> </header> <div class=\"d-flex\"> <div class=\"bg-gradient-secondary text-white shadow\" data-wg-type=\"sidebar\" id=\"sidebar-wrapper\"> <div class=\"list-group list-group-flush\" style=\"width:22vh;\"> <a class=\"list-group-item list-group-item-action\" href=\"#\">Magna sint in</a> <a class=\"list-group-item list-group-item-action\" href=\"#\">Ullamco ex ad</a> <a class=\"list-group-item list-group-item-action\" href=\"#\">Sit excepteur</a> </div> </div> <div class=\"container-fluid py-3\" id=\"page-content\"> <div class=\"row wg-detect\" data-wg-type=\"cards\"> <div class=\"col\"> <div class=\"card-columns\"> <div class=\"text-black card\"> <div class=\"card-body\"> <h5 class=\"card-title\">Eu ad consequat eu</h5> <p class=\"card-text\">Magna dolor esse nisi ullamco occaecat fugiat est</p> <div class=\"d-flex justify-content-between align-items-center\"> <div class=\"btn-group\"> <button class=\"btn btn-sm btn-outline-secondary\" type=\"button\">Lorem sint eu</button> </div> <small class=\"text-muted\">Nostrud amet</small> </div> </div> </div> <div class=\"text-black card\"> <div class=\"card-body\"> <h5 class=\"card-title\">Fugiat exercitation</h5> <p class=\"card-text\">Elit est culpa consequat ipsum dolore dolor lorem</p> <div class=\"d-flex justify-content-between align-items-center\"> <div class=\"btn-group\"> <button class=\"btn btn-sm btn-outline-secondary\" type=\"button\">Nostrud sint</button> </div> <small class=\"text-muted\">Non cillum ad</small> </div> </div> </div> <div class=\"text-black card\"> <div class=\"card-body\"> <h5 class=\"card-title\">Non sunt mollit ut</h5> <p class=\"card-text\">Exercitation excepteur pariatur ullamco esse nisi</p> <div class=\"d-flex justify-content-between align-items-center\"> <div class=\"btn-group\"> <button class=\"btn btn-sm btn-outline-secondary\" type=\"button\">Magna cillum</button> </div> <small class=\"text-muted\">Consectetur</small> </div> </div> </div> <div class=\"text-black card\"> <div class=\"card-body\"> <h5 class=\"card-title\">Consequat quis sit</h5> <p class=\"card-text\">Voluptate minim nulla cupidatat deserunt cillum id</p> <div class=\"d-flex justify-content-between align-items-center\"> <div class=\"btn-group\"> <button class=\"btn btn-sm btn-outline-secondary\" type=\"button\">Sunt deserunt</button> </div> <small class=\"text-muted\">Ea aute qui</small> </div> </div> </div> </div> </div> </div> <div class=\"m-3 wg-detect\" data-wg-type=\"tabs\"> <div class=\"nav nav-tabs\"> <a aria-controls=\"occaecat\" class=\"nav-item nav-link active\" data-toggle=\"tab\" href=\"#occaecat\" id=\"occaecat-tab\" role=\"tab\">Occaecat</a> <a aria-controls=\"aliquip\" class=\"nav-item nav-link\" data-toggle=\"tab\" href=\"#aliquip\" id=\"aliquip-tab\" role=\"tab\">Aliquip</a> </div> <div class=\"tab-content\"> <div aria-labelledby=\"occaecat\" class=\"tab-pane fade border p-3 show active\" id=\"occaecat\" role=\"tabpanel\">Consequat eu irure consequat sunt, nostrud enim duis enim laboris.</div> <div aria-labelledby=\"aliquip\" class=\"tab-pane fade border p-3\" id=\"aliquip\" role=\"tabpanel\">Laborum enim adipiscing irure enim cupidatat, laborum laboris esse tempor labore, occaecat voluptate ex aliquip. Pariatur ad dolor quis. Irure duis reprehenderit quis ipsum minim aliqua.</div> </div> </div> </div> </div> </div> </body> </html>\n",
            "      Bleu: 0.97\n",
            "\n",
            "Prediction: <!DOCTYPE html> <html> <head> <title>Dominate</title> <meta content=\"{&quot;primary&quot;: &quot;rgb(189, 201, 225)&quot;, &quot;secondary&quot;: &quot;rgb(103, 169, 207)&quot;, &quot;light&quot;: &quot;rgb(246, 239, 247)&quot;, &quot;dark&quot;: &quot;rgb(2, 129, 138)&quot;, &quot;enable-gradients&quot;: false}\" name=\"wg-palette\"> <meta content=\"width=device-width, initial-scale=1.0\" name=\"viewport\"> <meta content=\"Web Generator\" name=\"author\"> <meta content=\"3\" name=\"wg-layout\"> <link href=\"../css/custom-bootstrap.css\" rel=\"stylesheet\"> <link href=\"../css/wg-extras.css\" rel=\"stylesheet\"> <script src=\"../js/jquery-3.2.1.slim.min.js\" type=\"text/javascript\"></script> <script src=\"../js/bootstrap.min.js\" type=\"text/javascript\"></script> </head> <body class=\"bg-dark\"> <div class=\"bg-light rounded\" id=\"full-wrapper\"> <nav class=\"bg-dark navbar-dark rounded navbar navbar-expand-md\" data-wg-type=\"navbar\"> <button class=\"navbar-toggler\" data-target=\"#main-nav\" data-toggle=\"collapse\" type=\"button\"> <span class=\"navbar-toggler-icon\"></span> </button> <div class=\"collapse navbar-collapse\" id=\"main-nav\" style=\"height: 6vh;\"> <ul class=\"navbar-nav mx-auto\"> <li class=\"nav-item\"> <a class=\"nav-link\" href=\"#\">Excepteur ad</a> </li> <li class=\"nav-item\"> <a class=\"nav-link\" href=\"#\">Ullamco ad in</a> </li> <li class=\"nav-item\"> <a class=\"nav-link\" href=\"#\">Quis ut velit</a> </li> <li class=\"nav-item\"> <a class=\"nav-link\" href=\"#\">Aliqua esse</a> </li> <li class=\"nav-item\"> <a class=\"nav-link\" href=\"#\">Cupidatat et</a> </li> <li class=\"nav-item\"> <a class=\"nav-link\" href=\"#\">Magna laboris</a> </li> </ul> </div> </nav> <header class=\"bg-primary rounded d-flex align-items-center justify-content-center\" data-wg-type=\"header\" style=\"height: 22vh;\"> <h1 class=\"p-2 text-center\">Ullamco Sed Aliquip</h1> </header> <div class=\"d-flex\"> <div class=\"bg-secondary rounded\" data-wg-type=\"sidebar\" id=\"sidebar-wrapper\"> <div class=\"list-group list-group-flush\" style=\"width:27vh;\"> <a class=\"list-group-item list-group-item-action\" href=\"#\">Ut eu dolor</a> <a class=\"list-group-item list-group-item-action\" href=\"#\">Elit commodo</a> <a class=\"list-group-item list-group-item-action\" href=\"#\">Enim ullamco</a> <a class=\"list-group-item list-group-item-action\" href=\"#\">Minim ipsum</a> <a class=\"list-group-item list-group-item-action\" href=\"#\">Exercitation</a> </div> </div> <div class=\"container-fluid py-3\" id=\"page-content\"> <form class=\"p-3\" data-wg-type=\"form\"> <div class=\"form-row\"> <div class=\"form-group col-md\"> <label for=\"elit\">Elit</label> <input class=\"custom-range\" data-wg-type=\"range\" id=\"elit\" type=\"range\"> </div> <div class=\"form-group col-md\"> <label for=\"elit_cillum_ipsum\">Elit cillum ipsum</label> <input class=\"form-control\" data-wg-type=\"time\" id=\"elit_cillum_ipsum\" type=\"time\"> </div> </div> <div class=\"form-row\"> <div class=\"form-group col-md\"> <label for=\"ex_ipsum\">Ex ipsum</label> <input class=\"form-control\" data-wg-type=\"text\" id=\"ex_ipsum\" type=\"text\"> </div> <div class=\"form-group col-md\"> <label for=\"ad_incididunt\">Ad incididunt</label> <input class=\"custom-range\" data-wg-type=\"range\" id=\"ad_incididunt\" type=\"range\"> </div> </div> <div class=\"form-group\"> <label for=\"voluptate_irure\">Voluptate irure</label> <input class=\"form-control\" data-wg-type=\"text\" id=\"voluptate_irure\" type=\"text\"> </div> <div class=\"form-row\"> <div class=\"form-group col-md\"> <label for=\"sunt_sit_occaecat\">Sunt sit occaecat</label> <select class=\"form-control\" data-wg-type=\"select\" id=\"sunt_sit_occaecat\"> <option>Do</option> <option>Ea</option> <option>Enim</option> <option>Enim</option> <option>Enim</option> <option>Enim</option> <option>Enim</option> <option>Enim</option> </select> </div> <div class=\"form-group col-md\"> <label for=\"aliqua_ex_consequat\">Aliqua ex consequat</label> <input class=\"form-control\" data-wg-type=\"text\" id=\"aliqua_ex_consequat\" type=\"text\"> </div> <div class=\"form-group col-md\"> <label for=\"nulla_velit_incididunt\">Nulla velit incididunt</label> <input class=\"form-control\" data-wg-type=\"text\" id=\"nulla_velit_incididunt\" type=\"text\"> </div> </div> <div class=\"form-group\"> <legend>Do id</legend> <div data-wg-type=\"radios\"> <div class=\"form-check\"> <input class=\"form-check-input\" id=\"do_id_minim\" name=\"do_id\" type=\"radio\"> <label class=\"form-check-label\" for=\"do_id_minim\">Minim</label> </div> <div class=\"form-check\"> <input class=\"form-check-input\" id=\"do_id_ex_sed\" name=\"do_id\" type=\"radio\"> <label class=\"form-check-label\" for=\"do_id_ex_sed\">Ex sed</label> </div> <div class=\"form-check\"> <input class=\"form-check-input\" id=\"do_id_voluptate\" name=\"do_id\" type=\"radio\"> <label class=\"form-check-label\" for=\"do_id_voluptate\">Voluptate</label> </div> <div class=\"form-check\"> <input class=\"form-check-input\" id=\"do_id_reprehenderit_voluptate\" name=\"do_id\" type=\"radio\"> <label class=\"form-check-label\" for=\"do_id_reprehenderit_voluptate\">Reprehenderit voluptate</label> </div> </div> </div> <div class=\"form-row\"> <div class=\"form-group col-md\"> <label for=\"veniam_occaecat_mollit\">Veniam occaecat mollit</label> <input class=\"form-control\" data-wg-type=\"date\" id=\"veniam_occaecat_mollit\" type=\"date\"> </div> <div class=\"form-group col-md\"> <label for=\"id_esse\">Id esse</label> <input class=\"form-control\" data-wg-type=\"text\" id=\"id_esse\" type=\"text\"> </div> <div class=\"form-group col-md\"> <label for=\"in\">In</label> <input class=\"form-control\" data-wg-type=\"text\" id=\"in\" type=\"text\"> </div> <div class=\"form-group col-md\"> <label for=\"nulla_consequat_sed\">Nulla consequat sed</label> <input class=\"form-control\" data-wg-type=\"text\" id=\"nulla_consequat_sed\" type=\"text\"> </div> </div> <div class=\"form-group\"> <label for=\"proident_dolor_ex\">Proident dolor ex</label> <input class=\"form-control\" data-wg-type=\"text\" id=\"proident_dolor_ex\" type=\"text\"> </div> <div class=\"form-group\"> <label for=\"aliquip_enim\">Aliquip enim</label> <input class=\"form-control\" data-wg-type=\"text\" id=\"aliquip_enim\" type=\"text\"> </div> <div class=\"form-row\"> <div class=\"form-group col-md\"> <label for=\"ad\">Ad</label> <input class=\"form-control\" data-wg-type=\"time\" id=\"ad\" type=\"time\"> </div> <div class=\"form-group col-md\"> <label for=\"cillum_labore_reprehenderit\">Cillum labore reprehenderit</label> <input class=\"form-control\" data-wg-type=\"text\" id=\"cillum_labore_reprehenderit\" type=\"text\"> </div> </div> </form> </div> </div> <footer class=\" rounded jumbotron mb-0\" data-wg-type=\"footer\" style=\"height: 18vh;\"> <div class=\"container\"> <span class=\"text-muted\">Ut est veniam id sint enim eiusmod culpa dolor in</span> </div> </footer> </div> </body> </html>\n",
            "    Answer: <!DOCTYPE html> <html> <head> <title>Dominate</title> <meta content=\"{&quot;primary&quot;: &quot;rgb(203, 146, 26)&quot;, &quot;secondary&quot;: &quot;rgb(151, 59, 28)&quot;, &quot;light&quot;: &quot;rgb(225, 253, 75)&quot;, &quot;dark&quot;: &quot;rgb(51, 20, 24)&quot;, &quot;enable-gradients&quot;: true}\" name=\"wg-palette\"> <meta content=\"width=device-width, initial-scale=1.0\" name=\"viewport\"> <meta content=\"Web Generator\" name=\"author\"> <meta content=\"3\" name=\"wg-layout\"> <link href=\"../css/custom-bootstrap.css\" rel=\"stylesheet\"> <link href=\"../css/wg-extras.css\" rel=\"stylesheet\"> <script src=\"../js/jquery-3.2.1.slim.min.js\" type=\"text/javascript\"></script> <script src=\"../js/bootstrap.min.js\" type=\"text/javascript\"></script> </head> <body class=\"bg-gradient-dark\"> <div class=\"bg-gradient-light rounded\" id=\"full-wrapper\"> <nav class=\"bg-gradient-dark navbar-dark rounded navbar navbar-expand-md\" data-wg-type=\"navbar\"> <button class=\"navbar-toggler\" data-target=\"#main-nav\" data-toggle=\"collapse\" type=\"button\"> <span class=\"navbar-toggler-icon\"></span> </button> <div class=\"collapse navbar-collapse\" id=\"main-nav\" style=\"height: 7vh;\"> <ul class=\"navbar-nav mx-auto\"> <li class=\"nav-item\"> <a class=\"nav-link\" href=\"#\">Excepteur ad</a> </li> <li class=\"nav-item\"> <a class=\"nav-link\" href=\"#\">Ullamco ad in</a> </li> <li class=\"nav-item\"> <a class=\"nav-link\" href=\"#\">Quis ut velit</a> </li> <li class=\"nav-item\"> <a class=\"nav-link\" href=\"#\">Aliqua esse</a> </li> <li class=\"nav-item\"> <a class=\"nav-link\" href=\"#\">Cupidatat et</a> </li> <li class=\"nav-item\"> <a class=\"nav-link\" href=\"#\">Magna laboris</a> </li> </ul> </div> </nav> <header class=\"bg-gradient-primary rounded d-flex align-items-center justify-content-center\" data-wg-type=\"header\" style=\"height: 21vh;\"> <h1 class=\"p-2 text-center\">Ullamco Sed Aliquip</h1> </header> <div class=\"d-flex\"> <div class=\"bg-gradient-secondary text-white rounded\" data-wg-type=\"sidebar\" id=\"sidebar-wrapper\"> <div class=\"list-group list-group-flush\" style=\"width:26vh;\"> <a class=\"list-group-item list-group-item-action\" href=\"#\">Ut eu dolor</a> <a class=\"list-group-item list-group-item-action\" href=\"#\">Elit commodo</a> <a class=\"list-group-item list-group-item-action\" href=\"#\">Enim ullamco</a> <a class=\"list-group-item list-group-item-action\" href=\"#\">Minim ipsum</a> <a class=\"list-group-item list-group-item-action\" href=\"#\">Exercitation</a> </div> </div> <div class=\"container-fluid py-3\" id=\"page-content\"> <form class=\"p-3\" data-wg-type=\"form\"> <div class=\"form-row\"> <div class=\"form-group col-md\"> <label for=\"elit\">Elit</label> <input class=\"custom-range\" data-wg-type=\"range\" id=\"elit\" type=\"range\"> </div> <div class=\"form-group col-md\"> <label for=\"elit_cillum_ipsum\">Elit cillum ipsum</label> <input class=\"form-control\" data-wg-type=\"time\" id=\"elit_cillum_ipsum\" type=\"time\"> </div> </div> <div class=\"form-row\"> <div class=\"form-group col-md\"> <label for=\"ex_ipsum\">Ex ipsum</label> <input class=\"form-control\" data-wg-type=\"number\" id=\"ex_ipsum\" type=\"number\"> </div> <div class=\"form-group col-md\"> <label for=\"ad_incididunt\">Ad incididunt</label> <input class=\"custom-range\" data-wg-type=\"range\" id=\"ad_incididunt\" type=\"range\"> </div> </div> <div class=\"form-group\"> <label for=\"voluptate_irure\">Voluptate irure</label> <input class=\"form-control\" data-wg-type=\"text\" id=\"voluptate_irure\" type=\"text\"> </div> <div class=\"form-row\"> <div class=\"form-group col-md\"> <label for=\"sunt_sit_occaecat\">Sunt sit occaecat</label> <select class=\"form-control\" data-wg-type=\"select\" id=\"sunt_sit_occaecat\"> <option>Do</option> <option>Nulla occaecat</option> </select> </div> <div class=\"form-group col-md\"> <label for=\"aliqua_ex_consequat\">Aliqua ex consequat</label> <input class=\"form-control\" data-wg-type=\"text\" id=\"aliqua_ex_consequat\" type=\"text\"> </div> <div class=\"form-group col-md\"> <label for=\"nulla_velit_incididunt\">Nulla velit incididunt</label> <input class=\"form-control\" data-wg-type=\"text\" id=\"nulla_velit_incididunt\" type=\"text\"> </div> </div> <div class=\"form-group\"> <legend>Do id</legend> <div data-wg-type=\"radios\"> <div class=\"form-check\"> <input class=\"form-check-input\" id=\"do_id_minim\" name=\"do_id\" type=\"radio\"> <label class=\"form-check-label\" for=\"do_id_minim\">Minim</label> </div> <div class=\"form-check\"> <input class=\"form-check-input\" id=\"do_id_ex_sed\" name=\"do_id\" type=\"radio\"> <label class=\"form-check-label\" for=\"do_id_ex_sed\">Ex sed</label> </div> <div class=\"form-check\"> <input class=\"form-check-input\" id=\"do_id_voluptate\" name=\"do_id\" type=\"radio\"> <label class=\"form-check-label\" for=\"do_id_voluptate\">Voluptate</label> </div> <div class=\"form-check\"> <input class=\"form-check-input\" id=\"do_id_reprehenderit_voluptate\" name=\"do_id\" type=\"radio\"> <label class=\"form-check-label\" for=\"do_id_reprehenderit_voluptate\">Reprehenderit voluptate</label> </div> </div> </div> <div class=\"form-row\"> <div class=\"form-group col-md\"> <label for=\"veniam_occaecat_mollit\">Veniam occaecat mollit</label> <input class=\"form-control\" data-wg-type=\"date\" id=\"veniam_occaecat_mollit\" type=\"date\"> </div> <div class=\"form-group col-md\"> <label for=\"id_esse\">Id esse</label> <input class=\"form-control\" data-wg-type=\"text\" id=\"id_esse\" type=\"text\"> </div> <div class=\"form-group col-md\"> <label for=\"in\">In</label> <input class=\"form-control\" data-wg-type=\"text\" id=\"in\" type=\"text\"> </div> <div class=\"form-group col-md\"> <label for=\"nulla_consequat_sed\">Nulla consequat sed</label> <input class=\"form-control\" data-wg-type=\"text\" id=\"nulla_consequat_sed\" type=\"text\"> </div> </div> <div class=\"form-group\"> <label for=\"proident_dolor_ex\">Proident dolor ex</label> <input class=\"form-control\" data-wg-type=\"text\" id=\"proident_dolor_ex\" type=\"text\"> </div> <div class=\"form-group\"> <label for=\"aliquip_enim\">Aliquip enim</label> <input class=\"form-control\" data-wg-type=\"text\" id=\"aliquip_enim\" type=\"text\"> </div> <div class=\"form-row\"> <div class=\"form-group col-md\"> <label for=\"ad\">Ad</label> <input class=\"form-control\" data-wg-type=\"time\" id=\"ad\" type=\"time\"> </div> <div class=\"form-group col-md\"> <label for=\"cillum_labore_reprehenderit\">Cillum labore reprehenderit</label> <input class=\"form-control\" data-wg-type=\"text\" id=\"cillum_labore_reprehenderit\" type=\"text\"> </div> </div> </form> </div> </div> <footer class=\" rounded jumbotron mb-0\" data-wg-type=\"footer\" style=\"height: 14vh;\"> <div class=\"container\"> <span class=\"text-muted\">Ut est veniam id sint enim eiusmod culpa dolor in</span> </div> </footer> </div> </body> </html>\n",
            "      Bleu: 0.95\n",
            "\n",
            "Prediction: <!DOCTYPE html> <html> <head> <title>Dominate</title> <meta content=\"{&quot;primary&quot;: &quot;rgb(203, 201, 226)&quot;, &quot;secondary&quot;: &quot;rgb(158, 154, 200)&quot;, &quot;light&quot;: &quot;rgb(242, 240, 247)&quot;, &quot;dark&quot;: &quot;rgb(106, 81, 163)&quot;, &quot;enable-gradients&quot;: false}\" name=\"wg-palette\"> <meta content=\"width=device-width, initial-scale=1.0\" name=\"viewport\"> <meta content=\"Web Generator\" name=\"author\"> <meta content=\"4\" name=\"wg-layout\"> <link href=\"../css/custom-bootstrap.css\" rel=\"stylesheet\"> <link href=\"../css/wg-extras.css\" rel=\"stylesheet\"> <script src=\"../js/jquery-3.2.1.slim.min.js\" type=\"text/javascript\"></script> <script src=\"../js/bootstrap.min.js\" type=\"text/javascript\"></script> </head> <body class=\"\"> <div class=\" rounded\" id=\"full-wrapper\"> <div class=\"d-flex\"> <div class=\"w-100\"> <nav class=\"bg-light navbar-light rounded navbar navbar-expand-md\" data-wg-type=\"navbar\"> <a class=\"navbar-brand\" href=\"#\">Fugiat</a> <button class=\"navbar-toggler\" data-target=\"#main-nav\" data-toggle=\"collapse\" type=\"button\"> <span class=\"navbar-toggler-icon\"></span> </button> <div class=\"collapse navbar-collapse\" id=\"main-nav\" style=\"height: 4vh;\"> <ul class=\"navbar-nav ml-auto\"> <li class=\"nav-item\"> <a class=\"nav-link\" href=\"#\">Ut cillum qui</a> </li> <li class=\"nav-item\"> <a class=\"nav-link\" href=\"#\">Laborum qui</a> </li> </ul> </div> </nav> <div class=\"container-fluid py-3\" id=\"page-content\"> <div class=\"row my-3 wg-detect\" data-wg-type=\"mix\"> <div class=\"col\"> <div class=\"wg-detect row align-items-center justify-content-center\" data-wg-type=\"call_to_action\"> <div class=\"col-10\"> <h1>Aliqua tempor dolor</h1> <p>Amet consectetur ea ut irure aliquip voluptate mollit id et fugiat est laboris elit nostrud dolor in</p> </div> <button class=\"btn btn-primary m-3\">Ipsum nisi id</button> </div> </div> <div class=\"col\"> <ol class=\"wg-detect\" data-wg-type=\"list\"> <li>Occaecat ex</li> <li>Tempor ipsum</li> <li>Labore ea ex</li> </ol> </div> </div> </div> </div> </div> </div> </body> </html>\n",
            "    Answer: <!DOCTYPE html> <html> <head> <title>Dominate</title> <meta content=\"{&quot;primary&quot;: &quot;rgb(231, 241, 196)&quot;, &quot;secondary&quot;: &quot;rgb(228, 240, 184)&quot;, &quot;light&quot;: &quot;rgb(233, 240, 209)&quot;, &quot;dark&quot;: &quot;rgb(227, 239, 184)&quot;, &quot;enable-gradients&quot;: true}\" name=\"wg-palette\"> <meta content=\"width=device-width, initial-scale=1.0\" name=\"viewport\"> <meta content=\"Web Generator\" name=\"author\"> <meta content=\"4\" name=\"wg-layout\"> <link href=\"../css/custom-bootstrap.css\" rel=\"stylesheet\"> <link href=\"../css/wg-extras.css\" rel=\"stylesheet\"> <script src=\"../js/jquery-3.2.1.slim.min.js\" type=\"text/javascript\"></script> <script src=\"../js/bootstrap.min.js\" type=\"text/javascript\"></script> </head> <body class=\"\"> <div class=\" shadow-sm\" id=\"full-wrapper\"> <div class=\"d-flex\"> <div class=\"w-100\"> <nav class=\"bg-gradient-light navbar-light shadow-sm navbar navbar-expand-md\" data-wg-type=\"navbar\"> <a class=\"navbar-brand\" href=\"#\">Fugiat</a> <button class=\"navbar-toggler\" data-target=\"#main-nav\" data-toggle=\"collapse\" type=\"button\"> <span class=\"navbar-toggler-icon\"></span> </button> <div class=\"collapse navbar-collapse\" id=\"main-nav\" style=\"height: 6vh;\"> <ul class=\"navbar-nav ml-auto\"> <li class=\"nav-item\"> <a class=\"nav-link\" href=\"#\">Ut cillum qui</a> </li> <li class=\"nav-item\"> <a class=\"nav-link\" href=\"#\">Laborum qui</a> </li> </ul> </div> </nav> <div class=\"container-fluid py-3\" id=\"page-content\"> <div class=\"row my-3 wg-detect\" data-wg-type=\"mix\"> <div class=\"col\"> <div class=\"wg-detect row align-items-center justify-content-center\" data-wg-type=\"call_to_action\"> <div class=\"col-10\"> <h1>Aliqua tempor dolor</h1> <p>Amet consectetur ea ut irure aliquip voluptate mollit id et fugiat est laboris elit nostrud dolor in</p> </div> <button class=\"btn btn-primary m-3\">Ipsum nisi id</button> </div> </div> <div class=\"col\"> <ol class=\"wg-detect\" data-wg-type=\"list\"> <li>Occaecat ex</li> <li>Tempor ipsum</li> <li>Labore ea ex</li> </ol> </div> </div> </div> </div> </div> </div> </body> </html>\n",
            "      Bleu: 0.77\n",
            "\n",
            "Prediction: <!DOCTYPE html> <html> <head> <title>Dominate</title> <meta content=\"{&quot;primary&quot;: &quot;rgb(248, 160, 126)&quot;, &quot;secondary&quot;: &quot;rgb(206, 102, 147)&quot;, &quot;light&quot;: &quot;rgb(243, 231, 155)&quot;, &quot;dark&quot;: &quot;rgb(92, 83, 165)&quot;, &quot;enable-gradients&quot;: false}\" name=\"wg-palette\"> <meta content=\"width=device-width, initial-scale=1.0\" name=\"viewport\"> <meta content=\"Web Generator\" name=\"author\"> <meta content=\"4\" name=\"wg-layout\"> <link href=\"../css/custom-bootstrap.css\" rel=\"stylesheet\"> <link href=\"../css/wg-extras.css\" rel=\"stylesheet\"> <script src=\"../js/jquery-3.2.1.slim.min.js\" type=\"text/javascript\"></script> <script src=\"../js/bootstrap.min.js\" type=\"text/javascript\"></script> </head> <body class=\"\"> <div class=\" shadow-lg\" id=\"full-wrapper\"> <div class=\"d-flex\"> <div class=\"w-100\"> <div class=\"container-fluid py-3\" id=\"page-content\"> <div class=\"row my-3 wg-detect\" data-wg-type=\"mix\"> <div class=\"col\"> <p class=\"wg-detect\" data-wg-type=\"paragraph\">Non aliqua qui ut cillum quis. Ex nulla tempor sunt mollit ex eu, consectetur amet ad velit ad id consequat commodo. Cillum anim excepteur non officia elit sit ea. Laboris dolore nulla aliqua proident dolore sit nisi. Nisi incididunt id consectetur quis aute incididunt. Sed esse ipsum nulla aute proident, pariatur quis nisi nulla magna ex, enim ullamco et nisi cupidatat magna.</p> </div> <div class=\"col\"> <p class=\"wg-detect\" data-wg-type=\"paragraph\">Minim laborum in pariatur ullamco non pariatur commodo. Voluptate sit ad sed aliqua ullamco esse, in lorem ut excepteur lorem id quis dolore. Voluptate esse qui sit et nisi dolore. Occaecat exercitation quis quis commodo in id. Exercitation magna irure elit nostrud laboris aute. Consequat amet sit do mollit sint, eiusmod ut esse est sint dolore duis est. Reprehenderit sit ullamco fugiat enim non, cillum cillum dolor velit incididunt nostrud.</p> </div> <div class=\"col\"> <ul class=\"wg-detect\" data-wg-type=\"list\"> <li>Laborum anim</li> <li>Labore in et</li> <li>Nisi enim in</li> <li>Ex quis culpa</li> <li>Veniam mollit</li> </ul> </div> </div> <div class=\"row my-3 wg-detect\" data-wg-type=\"mix\"> <div class=\"col\"> <table class=\"bg-white table\" data-wg-type=\"table\"> <tr> <td>sit</td> <td>sint</td> <td>0</td> </tr> <tr> <td>aliqua</td> <td>ea</td> <td>0</td> </tr> <tr> <td>nostrud</td> <td>incididunt</td> <td>0</td> </tr> <tr> <td>elit</td> <td>ullamco</td> <td>0</td> </tr> </table> </div> <div class=\"col\"> <div class=\"wg-detect row align-items-center justify-content-center\" data-wg-type=\"call_to_action\"> <div class=\"col-10\"> <h1>Occaecat dolor sunt</h1> <p>Lorem ea cillum ex voluptate irure laboris elit cupidatat deserunt qui enim ad aute duis sit officia</p> </div> <button class=\"btn btn-primary m-3\">Sit eiusmod</button> </div> </div> </div> <div class=\"row my-3 wg-detect\" data-wg-type=\"mix\"> <div class=\"col\"> <ul class=\"wg-detect\" data-wg-type=\"list\"> <li>Excepteur sed</li> <li>Deserunt sunt</li> <li>Magna in duis</li> <li>Veniam tempor</li> <li>Consequat eu</li> </ul> </div> </div> </div> <div class=\"bg-gradient-light shadow-lg\" data-wg-type=\"sidebar\" id=\"sidebar-wrapper\"> <div class=\"sidebar-heading\">Dolore</div> <div class=\"list-group list-group-flush\" style=\"width:27vh;\"> <a class=\"list-group-item list-group-item-action\" href=\"#\">Ex cupidatat</a> <a class=\"list-group-item list-group-item-action\" href=\"#\">Nostrud elit</a> </div> </div> </div> <footer class=\" shadow-lg jumbotron mb-0\" data-wg-type=\"footer\" style=\"height: 11vh;\"> <div class=\"container\"> <span class=\"text-muted\">Aliqua non sint reprehenderit laborum sed tempor</span> </div> </footer> </div> </body> </html>\n",
            "    Answer: <!DOCTYPE html> <html> <head> <title>Dominate</title> <meta content=\"{&quot;primary&quot;: &quot;rgb(251, 180, 185)&quot;, &quot;secondary&quot;: &quot;rgb(247, 104, 161)&quot;, &quot;light&quot;: &quot;rgb(254, 235, 226)&quot;, &quot;dark&quot;: &quot;rgb(174, 1, 126)&quot;, &quot;enable-gradients&quot;: false}\" name=\"wg-palette\"> <meta content=\"width=device-width, initial-scale=1.0\" name=\"viewport\"> <meta content=\"Web Generator\" name=\"author\"> <meta content=\"3\" name=\"wg-layout\"> <link href=\"../css/custom-bootstrap.css\" rel=\"stylesheet\"> <link href=\"../css/wg-extras.css\" rel=\"stylesheet\"> <script src=\"../js/jquery-3.2.1.slim.min.js\" type=\"text/javascript\"></script> <script src=\"../js/bootstrap.min.js\" type=\"text/javascript\"></script> </head> <body class=\"\"> <div class=\" shadow-lg\" id=\"full-wrapper\"> <div class=\"d-flex\"> <div class=\"container-fluid py-3\" id=\"page-content\"> <div class=\"row my-3 wg-detect\" data-wg-type=\"mix\"> <div class=\"col\"> <p class=\"wg-detect\" data-wg-type=\"paragraph\">Non aliqua qui ut cillum quis. Ex nulla tempor sunt mollit ex eu, consectetur amet ad velit ad id consequat commodo. Cillum anim excepteur non officia elit sit ea. Laboris dolore nulla aliqua proident dolore sit nisi. Nisi incididunt id consectetur quis aute incididunt. Sed esse ipsum nulla aute proident, pariatur quis nisi nulla magna ex, enim ullamco et nisi cupidatat magna.</p> </div> <div class=\"col\"> <p class=\"wg-detect\" data-wg-type=\"paragraph\">Minim laborum in pariatur ullamco non pariatur commodo. Voluptate sit ad sed aliqua ullamco esse, in lorem ut excepteur lorem id quis dolore. Voluptate esse qui sit et nisi dolore. Occaecat exercitation quis quis commodo in id. Exercitation magna irure elit nostrud laboris aute. Consequat amet sit do mollit sint, eiusmod ut esse est sint dolore duis est. Reprehenderit sit ullamco fugiat enim non, cillum cillum dolor velit incididunt nostrud.</p> </div> <div class=\"col\"> <ul class=\"wg-detect\" data-wg-type=\"list\"> <li>Laborum anim</li> <li>Labore in et</li> <li>Nisi enim in</li> <li>Ex quis culpa</li> <li>Veniam mollit</li> </ul> </div> </div> <div class=\"row my-3 wg-detect\" data-wg-type=\"mix\"> <div class=\"col\"> <table class=\"bg-white table-striped table\" data-wg-type=\"table\"> <tr> <td>sit</td> <td>sint</td> <td>0</td> </tr> <tr> <td>aliqua</td> <td>ea</td> <td>0</td> </tr> <tr> <td>nostrud</td> <td>incididunt</td> <td>0</td> </tr> <tr> <td>elit</td> <td>ullamco</td> <td>0</td> </tr> </table> </div> <div class=\"col\"> <div class=\"wg-detect row align-items-center justify-content-center\" data-wg-type=\"call_to_action\"> <div class=\"col-10\"> <h1>Occaecat dolor sunt</h1> <p>Lorem ea cillum ex voluptate irure laboris elit cupidatat deserunt qui enim ad aute duis sit officia</p> </div> <button class=\"btn btn-primary m-3\">Sit eiusmod</button> </div> </div> </div> <div class=\"row my-3 wg-detect\" data-wg-type=\"mix\"> <div class=\"col\"> <ul class=\"wg-detect\" data-wg-type=\"list\"> <li>Excepteur sed</li> <li>Deserunt sunt</li> <li>Magna in duis</li> <li>Veniam tempor</li> <li>Consequat eu</li> </ul> </div> </div> </div> <div class=\"bg-light shadow-lg\" data-wg-type=\"sidebar\" id=\"sidebar-wrapper\"> <div class=\"sidebar-heading\">Dolore</div> <div class=\"list-group list-group-flush\" style=\"width:29vh;\"> <a class=\"list-group-item list-group-item-action\" href=\"#\">Ex cupidatat</a> <a class=\"list-group-item list-group-item-action\" href=\"#\">Nostrud elit</a> </div> </div> </div> <footer class=\" shadow-lg jumbotron mb-0\" data-wg-type=\"footer\" style=\"height: 20vh;\"> <div class=\"container\"> <span class=\"text-muted\">Aliqua non sint reprehenderit laborum sed tempor</span> </div> </footer> </div> </body> </html>\n",
            "      Bleu: 0.77\n",
            " Avg Bleu Score: 0.92\n"
          ]
        },
        {
          "name": "stderr",
          "output_type": "stream",
          "text": [
            "\n"
          ]
        },
        {
          "data": {
            "text/html": [
              "Waiting for W&B process to finish... <strong style=\"color:green\">(success).</strong>"
            ],
            "text/plain": [
              "<IPython.core.display.HTML object>"
            ]
          },
          "metadata": {},
          "output_type": "display_data"
        },
        {
          "data": {
            "text/html": [
              "<style>\n",
              "    table.wandb td:nth-child(1) { padding: 0 10px; text-align: left ; width: auto;} td:nth-child(2) {text-align: left ; width: 100%}\n",
              "    .wandb-row { display: flex; flex-direction: row; flex-wrap: wrap; justify-content: flex-start; width: 100% }\n",
              "    .wandb-col { display: flex; flex-direction: column; flex-basis: 100%; flex: 1; padding: 10px; }\n",
              "    </style>\n",
              "<div class=\"wandb-row\"><div class=\"wandb-col\"><h3>Run history:</h3><br/><table class=\"wandb\"><tr><td>bleu</td><td>▅▁██</td></tr><tr><td>loss</td><td>█▃▁▁▂▁▁▂▂▁▁▂▁▁▁▁▁▂▁▁▂▁▂▁▁▁▂▁▁▁▂▁▂▁▁▁▁▁▁▁</td></tr><tr><td>lr_0</td><td>▅████▇▇▆▆▅▄▄▃▃▂▂▁▁▁▁</td></tr><tr><td>moving_avg_loss</td><td>█▆▅▅▅▃▂▃▃▂▂▂▁▂▃▃▂▂▁▂</td></tr></table><br/></div><div class=\"wandb-col\"><h3>Run summary:</h3><br/><table class=\"wandb\"><tr><td>bleu</td><td>0.92128</td></tr><tr><td>loss</td><td>0.07945</td></tr><tr><td>lr_0</td><td>0.0</td></tr><tr><td>moving_avg_loss</td><td>0.10093</td></tr></table><br/></div></div>"
            ],
            "text/plain": [
              "<IPython.core.display.HTML object>"
            ]
          },
          "metadata": {},
          "output_type": "display_data"
        },
        {
          "data": {
            "text/html": [
              " View run <strong style=\"color:#cdcd00\">run-Pix2Struct_SynthBootstrap_10000_Complete</strong> at: <a href='https://wandb.ai/team-gs/Pix2Struct/runs/cd0pr1gj' target=\"_blank\">https://wandb.ai/team-gs/Pix2Struct/runs/cd0pr1gj</a><br/>Synced 5 W&B file(s), 0 media file(s), 0 artifact file(s) and 0 other file(s)"
            ],
            "text/plain": [
              "<IPython.core.display.HTML object>"
            ]
          },
          "metadata": {},
          "output_type": "display_data"
        },
        {
          "data": {
            "text/html": [
              "Find logs at: <code>./wandb/run-20230820_095418-cd0pr1gj/logs</code>"
            ],
            "text/plain": [
              "<IPython.core.display.HTML object>"
            ]
          },
          "metadata": {},
          "output_type": "display_data"
        }
      ],
      "source": [
        "train_model(config, processor, model, train_dataloader, val_dataloader)"
      ]
    }
  ],
  "metadata": {
    "accelerator": "GPU",
    "colab": {
      "gpuType": "A100",
      "machine_shape": "hm",
      "provenance": []
    },
    "kernelspec": {
      "display_name": "Python 3",
      "name": "python3"
    },
    "language_info": {
      "name": "python"
    },
    "widgets": {
      "application/vnd.jupyter.widget-state+json": {
        "013a9d2b468f411dbecedd2af62cc2f1": {
          "model_module": "@jupyter-widgets/base",
          "model_module_version": "1.2.0",
          "model_name": "LayoutModel",
          "state": {
            "_model_module": "@jupyter-widgets/base",
            "_model_module_version": "1.2.0",
            "_model_name": "LayoutModel",
            "_view_count": null,
            "_view_module": "@jupyter-widgets/base",
            "_view_module_version": "1.2.0",
            "_view_name": "LayoutView",
            "align_content": null,
            "align_items": null,
            "align_self": null,
            "border": null,
            "bottom": null,
            "display": null,
            "flex": null,
            "flex_flow": null,
            "grid_area": null,
            "grid_auto_columns": null,
            "grid_auto_flow": null,
            "grid_auto_rows": null,
            "grid_column": null,
            "grid_gap": null,
            "grid_row": null,
            "grid_template_areas": null,
            "grid_template_columns": null,
            "grid_template_rows": null,
            "height": null,
            "justify_content": null,
            "justify_items": null,
            "left": null,
            "margin": null,
            "max_height": null,
            "max_width": null,
            "min_height": null,
            "min_width": null,
            "object_fit": null,
            "object_position": null,
            "order": null,
            "overflow": null,
            "overflow_x": null,
            "overflow_y": null,
            "padding": null,
            "right": null,
            "top": null,
            "visibility": null,
            "width": null
          }
        },
        "0264ebe906354843bb929aab47b40af9": {
          "model_module": "@jupyter-widgets/controls",
          "model_module_version": "1.5.0",
          "model_name": "HBoxModel",
          "state": {
            "_dom_classes": [],
            "_model_module": "@jupyter-widgets/controls",
            "_model_module_version": "1.5.0",
            "_model_name": "HBoxModel",
            "_view_count": null,
            "_view_module": "@jupyter-widgets/controls",
            "_view_module_version": "1.5.0",
            "_view_name": "HBoxView",
            "box_style": "",
            "children": [
              "IPY_MODEL_888adc60d5224be69a1a6b7ff3a77bed",
              "IPY_MODEL_f4be2fd36f644fbf95f37294fc55e7a7",
              "IPY_MODEL_30fd52beb30a4340b3ea995ffe67ae1b"
            ],
            "layout": "IPY_MODEL_832789c703c14893a733d0f3a0bdbb2e"
          }
        },
        "02a0019a976f40c2b767c48d022bc2a4": {
          "model_module": "@jupyter-widgets/controls",
          "model_module_version": "1.5.0",
          "model_name": "DescriptionStyleModel",
          "state": {
            "_model_module": "@jupyter-widgets/controls",
            "_model_module_version": "1.5.0",
            "_model_name": "DescriptionStyleModel",
            "_view_count": null,
            "_view_module": "@jupyter-widgets/base",
            "_view_module_version": "1.2.0",
            "_view_name": "StyleView",
            "description_width": ""
          }
        },
        "02e13e9712f64287ab2b640678155d78": {
          "model_module": "@jupyter-widgets/controls",
          "model_module_version": "1.5.0",
          "model_name": "DescriptionStyleModel",
          "state": {
            "_model_module": "@jupyter-widgets/controls",
            "_model_module_version": "1.5.0",
            "_model_name": "DescriptionStyleModel",
            "_view_count": null,
            "_view_module": "@jupyter-widgets/base",
            "_view_module_version": "1.2.0",
            "_view_name": "StyleView",
            "description_width": ""
          }
        },
        "044b492c5d1b47c59710f43119505447": {
          "model_module": "@jupyter-widgets/controls",
          "model_module_version": "1.5.0",
          "model_name": "HTMLModel",
          "state": {
            "_dom_classes": [],
            "_model_module": "@jupyter-widgets/controls",
            "_model_module_version": "1.5.0",
            "_model_name": "HTMLModel",
            "_view_count": null,
            "_view_module": "@jupyter-widgets/controls",
            "_view_module_version": "1.5.0",
            "_view_name": "HTMLView",
            "description": "",
            "description_tooltip": null,
            "layout": "IPY_MODEL_ce36670568a14a818778c879b41192a7",
            "placeholder": "​",
            "style": "IPY_MODEL_2394ae67d411453abe8ea13cec0cff8f",
            "value": " 851k/851k [00:00&lt;00:00, 40.8MB/s]"
          }
        },
        "04f536b4681242bfaeb1eeec42db158b": {
          "model_module": "@jupyter-widgets/controls",
          "model_module_version": "1.5.0",
          "model_name": "DescriptionStyleModel",
          "state": {
            "_model_module": "@jupyter-widgets/controls",
            "_model_module_version": "1.5.0",
            "_model_name": "DescriptionStyleModel",
            "_view_count": null,
            "_view_module": "@jupyter-widgets/base",
            "_view_module_version": "1.2.0",
            "_view_name": "StyleView",
            "description_width": ""
          }
        },
        "06c0f84b2388443992713638a4443c98": {
          "model_module": "@jupyter-widgets/base",
          "model_module_version": "1.2.0",
          "model_name": "LayoutModel",
          "state": {
            "_model_module": "@jupyter-widgets/base",
            "_model_module_version": "1.2.0",
            "_model_name": "LayoutModel",
            "_view_count": null,
            "_view_module": "@jupyter-widgets/base",
            "_view_module_version": "1.2.0",
            "_view_name": "LayoutView",
            "align_content": null,
            "align_items": null,
            "align_self": null,
            "border": null,
            "bottom": null,
            "display": null,
            "flex": null,
            "flex_flow": null,
            "grid_area": null,
            "grid_auto_columns": null,
            "grid_auto_flow": null,
            "grid_auto_rows": null,
            "grid_column": null,
            "grid_gap": null,
            "grid_row": null,
            "grid_template_areas": null,
            "grid_template_columns": null,
            "grid_template_rows": null,
            "height": null,
            "justify_content": null,
            "justify_items": null,
            "left": null,
            "margin": null,
            "max_height": null,
            "max_width": null,
            "min_height": null,
            "min_width": null,
            "object_fit": null,
            "object_position": null,
            "order": null,
            "overflow": null,
            "overflow_x": null,
            "overflow_y": null,
            "padding": null,
            "right": null,
            "top": null,
            "visibility": null,
            "width": null
          }
        },
        "090b2fea330f4ebca0f121b9550092ab": {
          "model_module": "@jupyter-widgets/controls",
          "model_module_version": "1.5.0",
          "model_name": "HTMLModel",
          "state": {
            "_dom_classes": [],
            "_model_module": "@jupyter-widgets/controls",
            "_model_module_version": "1.5.0",
            "_model_name": "HTMLModel",
            "_view_count": null,
            "_view_module": "@jupyter-widgets/controls",
            "_view_module_version": "1.5.0",
            "_view_name": "HTMLView",
            "description": "",
            "description_tooltip": null,
            "layout": "IPY_MODEL_55914f4d686f4d40b6ed62f106b6fab0",
            "placeholder": "​",
            "style": "IPY_MODEL_c373606fa07542158ce98fc61207f06b",
            "value": " 2.61k/2.61k [00:00&lt;00:00, 249kB/s]"
          }
        },
        "0c344787a0ee483c91e0a768727b88b6": {
          "model_module": "@jupyter-widgets/controls",
          "model_module_version": "1.5.0",
          "model_name": "DescriptionStyleModel",
          "state": {
            "_model_module": "@jupyter-widgets/controls",
            "_model_module_version": "1.5.0",
            "_model_name": "DescriptionStyleModel",
            "_view_count": null,
            "_view_module": "@jupyter-widgets/base",
            "_view_module_version": "1.2.0",
            "_view_name": "StyleView",
            "description_width": ""
          }
        },
        "0c511b02eccf41bea1f997b1cf9a83a4": {
          "model_module": "@jupyter-widgets/base",
          "model_module_version": "1.2.0",
          "model_name": "LayoutModel",
          "state": {
            "_model_module": "@jupyter-widgets/base",
            "_model_module_version": "1.2.0",
            "_model_name": "LayoutModel",
            "_view_count": null,
            "_view_module": "@jupyter-widgets/base",
            "_view_module_version": "1.2.0",
            "_view_name": "LayoutView",
            "align_content": null,
            "align_items": null,
            "align_self": null,
            "border": null,
            "bottom": null,
            "display": null,
            "flex": null,
            "flex_flow": null,
            "grid_area": null,
            "grid_auto_columns": null,
            "grid_auto_flow": null,
            "grid_auto_rows": null,
            "grid_column": null,
            "grid_gap": null,
            "grid_row": null,
            "grid_template_areas": null,
            "grid_template_columns": null,
            "grid_template_rows": null,
            "height": null,
            "justify_content": null,
            "justify_items": null,
            "left": null,
            "margin": null,
            "max_height": null,
            "max_width": null,
            "min_height": null,
            "min_width": null,
            "object_fit": null,
            "object_position": null,
            "order": null,
            "overflow": null,
            "overflow_x": null,
            "overflow_y": null,
            "padding": null,
            "right": null,
            "top": null,
            "visibility": null,
            "width": null
          }
        },
        "17628b81ae984b67856e9f13948c080b": {
          "model_module": "@jupyter-widgets/controls",
          "model_module_version": "1.5.0",
          "model_name": "HBoxModel",
          "state": {
            "_dom_classes": [],
            "_model_module": "@jupyter-widgets/controls",
            "_model_module_version": "1.5.0",
            "_model_name": "HBoxModel",
            "_view_count": null,
            "_view_module": "@jupyter-widgets/controls",
            "_view_module_version": "1.5.0",
            "_view_name": "HBoxView",
            "box_style": "",
            "children": [
              "IPY_MODEL_ee8bd60c27f6433297859e7cd62ea7f8",
              "IPY_MODEL_989d1bf02a1d487d847ce0cad853f45d",
              "IPY_MODEL_044b492c5d1b47c59710f43119505447"
            ],
            "layout": "IPY_MODEL_d84ad969559448b2b5e7185e26d5a328"
          }
        },
        "1d4f6cf93e354e70bb0d124004c4cd06": {
          "model_module": "@jupyter-widgets/controls",
          "model_module_version": "1.5.0",
          "model_name": "HTMLModel",
          "state": {
            "_dom_classes": [],
            "_model_module": "@jupyter-widgets/controls",
            "_model_module_version": "1.5.0",
            "_model_name": "HTMLModel",
            "_view_count": null,
            "_view_module": "@jupyter-widgets/controls",
            "_view_module_version": "1.5.0",
            "_view_name": "HTMLView",
            "description": "",
            "description_tooltip": null,
            "layout": "IPY_MODEL_82ddcc6932e24207a6d5f64258dde4d3",
            "placeholder": "​",
            "style": "IPY_MODEL_b6c0a8c82d144bf9acd4a40f87fe46f4",
            "value": "Downloading (…)cial_tokens_map.json: 100%"
          }
        },
        "1dcb655d55b94e3191e7a4c8434f0d43": {
          "model_module": "@jupyter-widgets/controls",
          "model_module_version": "1.5.0",
          "model_name": "HTMLModel",
          "state": {
            "_dom_classes": [],
            "_model_module": "@jupyter-widgets/controls",
            "_model_module_version": "1.5.0",
            "_model_name": "HTMLModel",
            "_view_count": null,
            "_view_module": "@jupyter-widgets/controls",
            "_view_module_version": "1.5.0",
            "_view_name": "HTMLView",
            "description": "",
            "description_tooltip": null,
            "layout": "IPY_MODEL_edf7f463a1f4426689af5c7265c85bf2",
            "placeholder": "​",
            "style": "IPY_MODEL_6eaaa395a59441a38652afec531e1ac2",
            "value": " 4.92k/4.92k [00:00&lt;00:00, 410kB/s]"
          }
        },
        "1ec704eb721f4036979aa72ad9464f86": {
          "model_module": "@jupyter-widgets/base",
          "model_module_version": "1.2.0",
          "model_name": "LayoutModel",
          "state": {
            "_model_module": "@jupyter-widgets/base",
            "_model_module_version": "1.2.0",
            "_model_name": "LayoutModel",
            "_view_count": null,
            "_view_module": "@jupyter-widgets/base",
            "_view_module_version": "1.2.0",
            "_view_name": "LayoutView",
            "align_content": null,
            "align_items": null,
            "align_self": null,
            "border": null,
            "bottom": null,
            "display": null,
            "flex": null,
            "flex_flow": null,
            "grid_area": null,
            "grid_auto_columns": null,
            "grid_auto_flow": null,
            "grid_auto_rows": null,
            "grid_column": null,
            "grid_gap": null,
            "grid_row": null,
            "grid_template_areas": null,
            "grid_template_columns": null,
            "grid_template_rows": null,
            "height": null,
            "justify_content": null,
            "justify_items": null,
            "left": null,
            "margin": null,
            "max_height": null,
            "max_width": null,
            "min_height": null,
            "min_width": null,
            "object_fit": null,
            "object_position": null,
            "order": null,
            "overflow": null,
            "overflow_x": null,
            "overflow_y": null,
            "padding": null,
            "right": null,
            "top": null,
            "visibility": null,
            "width": null
          }
        },
        "210e100aab2e4bafaf8b0c9b704db39f": {
          "model_module": "@jupyter-widgets/controls",
          "model_module_version": "1.5.0",
          "model_name": "HTMLModel",
          "state": {
            "_dom_classes": [],
            "_model_module": "@jupyter-widgets/controls",
            "_model_module_version": "1.5.0",
            "_model_name": "HTMLModel",
            "_view_count": null,
            "_view_module": "@jupyter-widgets/controls",
            "_view_module_version": "1.5.0",
            "_view_name": "HTMLView",
            "description": "",
            "description_tooltip": null,
            "layout": "IPY_MODEL_e49e034b78ab405d87166d97d86aa930",
            "placeholder": "​",
            "style": "IPY_MODEL_04f536b4681242bfaeb1eeec42db158b",
            "value": "Downloading (…)rocessor_config.json: 100%"
          }
        },
        "23442505d3384a38ba11a14978a61969": {
          "model_module": "@jupyter-widgets/base",
          "model_module_version": "1.2.0",
          "model_name": "LayoutModel",
          "state": {
            "_model_module": "@jupyter-widgets/base",
            "_model_module_version": "1.2.0",
            "_model_name": "LayoutModel",
            "_view_count": null,
            "_view_module": "@jupyter-widgets/base",
            "_view_module_version": "1.2.0",
            "_view_name": "LayoutView",
            "align_content": null,
            "align_items": null,
            "align_self": null,
            "border": null,
            "bottom": null,
            "display": null,
            "flex": null,
            "flex_flow": null,
            "grid_area": null,
            "grid_auto_columns": null,
            "grid_auto_flow": null,
            "grid_auto_rows": null,
            "grid_column": null,
            "grid_gap": null,
            "grid_row": null,
            "grid_template_areas": null,
            "grid_template_columns": null,
            "grid_template_rows": null,
            "height": null,
            "justify_content": null,
            "justify_items": null,
            "left": null,
            "margin": null,
            "max_height": null,
            "max_width": null,
            "min_height": null,
            "min_width": null,
            "object_fit": null,
            "object_position": null,
            "order": null,
            "overflow": null,
            "overflow_x": null,
            "overflow_y": null,
            "padding": null,
            "right": null,
            "top": null,
            "visibility": null,
            "width": null
          }
        },
        "2394ae67d411453abe8ea13cec0cff8f": {
          "model_module": "@jupyter-widgets/controls",
          "model_module_version": "1.5.0",
          "model_name": "DescriptionStyleModel",
          "state": {
            "_model_module": "@jupyter-widgets/controls",
            "_model_module_version": "1.5.0",
            "_model_name": "DescriptionStyleModel",
            "_view_count": null,
            "_view_module": "@jupyter-widgets/base",
            "_view_module_version": "1.2.0",
            "_view_name": "StyleView",
            "description_width": ""
          }
        },
        "2838dc37e7f5458ca93c82babf184bc9": {
          "model_module": "@jupyter-widgets/controls",
          "model_module_version": "1.5.0",
          "model_name": "ProgressStyleModel",
          "state": {
            "_model_module": "@jupyter-widgets/controls",
            "_model_module_version": "1.5.0",
            "_model_name": "ProgressStyleModel",
            "_view_count": null,
            "_view_module": "@jupyter-widgets/base",
            "_view_module_version": "1.2.0",
            "_view_name": "StyleView",
            "bar_color": null,
            "description_width": ""
          }
        },
        "2d318f67dccb4bb2906e4e1580d1d513": {
          "model_module": "@jupyter-widgets/controls",
          "model_module_version": "1.5.0",
          "model_name": "HTMLModel",
          "state": {
            "_dom_classes": [],
            "_model_module": "@jupyter-widgets/controls",
            "_model_module_version": "1.5.0",
            "_model_name": "HTMLModel",
            "_view_count": null,
            "_view_module": "@jupyter-widgets/controls",
            "_view_module_version": "1.5.0",
            "_view_name": "HTMLView",
            "description": "",
            "description_tooltip": null,
            "layout": "IPY_MODEL_23442505d3384a38ba11a14978a61969",
            "placeholder": "​",
            "style": "IPY_MODEL_02e13e9712f64287ab2b640678155d78",
            "value": "Downloading (…)lve/main/config.json: 100%"
          }
        },
        "2f7f0a8fba31421c8fd2a3ec8bf797be": {
          "model_module": "@jupyter-widgets/base",
          "model_module_version": "1.2.0",
          "model_name": "LayoutModel",
          "state": {
            "_model_module": "@jupyter-widgets/base",
            "_model_module_version": "1.2.0",
            "_model_name": "LayoutModel",
            "_view_count": null,
            "_view_module": "@jupyter-widgets/base",
            "_view_module_version": "1.2.0",
            "_view_name": "LayoutView",
            "align_content": null,
            "align_items": null,
            "align_self": null,
            "border": null,
            "bottom": null,
            "display": null,
            "flex": null,
            "flex_flow": null,
            "grid_area": null,
            "grid_auto_columns": null,
            "grid_auto_flow": null,
            "grid_auto_rows": null,
            "grid_column": null,
            "grid_gap": null,
            "grid_row": null,
            "grid_template_areas": null,
            "grid_template_columns": null,
            "grid_template_rows": null,
            "height": null,
            "justify_content": null,
            "justify_items": null,
            "left": null,
            "margin": null,
            "max_height": null,
            "max_width": null,
            "min_height": null,
            "min_width": null,
            "object_fit": null,
            "object_position": null,
            "order": null,
            "overflow": null,
            "overflow_x": null,
            "overflow_y": null,
            "padding": null,
            "right": null,
            "top": null,
            "visibility": null,
            "width": null
          }
        },
        "2fa834e0bddb49d88d5cf9ed7874015b": {
          "model_module": "@jupyter-widgets/controls",
          "model_module_version": "1.5.0",
          "model_name": "HBoxModel",
          "state": {
            "_dom_classes": [],
            "_model_module": "@jupyter-widgets/controls",
            "_model_module_version": "1.5.0",
            "_model_name": "HBoxModel",
            "_view_count": null,
            "_view_module": "@jupyter-widgets/controls",
            "_view_module_version": "1.5.0",
            "_view_name": "HBoxView",
            "box_style": "",
            "children": [
              "IPY_MODEL_a61b78e260f74b4e89704c75987dc92c",
              "IPY_MODEL_5945f71a12814406a8e6820ae4273ddd",
              "IPY_MODEL_090b2fea330f4ebca0f121b9550092ab"
            ],
            "layout": "IPY_MODEL_2f7f0a8fba31421c8fd2a3ec8bf797be"
          }
        },
        "30fd52beb30a4340b3ea995ffe67ae1b": {
          "model_module": "@jupyter-widgets/controls",
          "model_module_version": "1.5.0",
          "model_name": "HTMLModel",
          "state": {
            "_dom_classes": [],
            "_model_module": "@jupyter-widgets/controls",
            "_model_module_version": "1.5.0",
            "_model_name": "HTMLModel",
            "_view_count": null,
            "_view_module": "@jupyter-widgets/controls",
            "_view_module_version": "1.5.0",
            "_view_name": "HTMLView",
            "description": "",
            "description_tooltip": null,
            "layout": "IPY_MODEL_0c511b02eccf41bea1f997b1cf9a83a4",
            "placeholder": "​",
            "style": "IPY_MODEL_8e7978f47b514707b5fe3ed38b4d5b9f",
            "value": " 3.27M/3.27M [00:00&lt;00:00, 27.0MB/s]"
          }
        },
        "33ea47cf90484abfaa76508a02fe638d": {
          "model_module": "@jupyter-widgets/base",
          "model_module_version": "1.2.0",
          "model_name": "LayoutModel",
          "state": {
            "_model_module": "@jupyter-widgets/base",
            "_model_module_version": "1.2.0",
            "_model_name": "LayoutModel",
            "_view_count": null,
            "_view_module": "@jupyter-widgets/base",
            "_view_module_version": "1.2.0",
            "_view_name": "LayoutView",
            "align_content": null,
            "align_items": null,
            "align_self": null,
            "border": null,
            "bottom": null,
            "display": null,
            "flex": null,
            "flex_flow": null,
            "grid_area": null,
            "grid_auto_columns": null,
            "grid_auto_flow": null,
            "grid_auto_rows": null,
            "grid_column": null,
            "grid_gap": null,
            "grid_row": null,
            "grid_template_areas": null,
            "grid_template_columns": null,
            "grid_template_rows": null,
            "height": null,
            "justify_content": null,
            "justify_items": null,
            "left": null,
            "margin": null,
            "max_height": null,
            "max_width": null,
            "min_height": null,
            "min_width": null,
            "object_fit": null,
            "object_position": null,
            "order": null,
            "overflow": null,
            "overflow_x": null,
            "overflow_y": null,
            "padding": null,
            "right": null,
            "top": null,
            "visibility": null,
            "width": null
          }
        },
        "39b66b38d05d4ea9b0afa35c4c35eef5": {
          "model_module": "@jupyter-widgets/base",
          "model_module_version": "1.2.0",
          "model_name": "LayoutModel",
          "state": {
            "_model_module": "@jupyter-widgets/base",
            "_model_module_version": "1.2.0",
            "_model_name": "LayoutModel",
            "_view_count": null,
            "_view_module": "@jupyter-widgets/base",
            "_view_module_version": "1.2.0",
            "_view_name": "LayoutView",
            "align_content": null,
            "align_items": null,
            "align_self": null,
            "border": null,
            "bottom": null,
            "display": null,
            "flex": null,
            "flex_flow": null,
            "grid_area": null,
            "grid_auto_columns": null,
            "grid_auto_flow": null,
            "grid_auto_rows": null,
            "grid_column": null,
            "grid_gap": null,
            "grid_row": null,
            "grid_template_areas": null,
            "grid_template_columns": null,
            "grid_template_rows": null,
            "height": null,
            "justify_content": null,
            "justify_items": null,
            "left": null,
            "margin": null,
            "max_height": null,
            "max_width": null,
            "min_height": null,
            "min_width": null,
            "object_fit": null,
            "object_position": null,
            "order": null,
            "overflow": null,
            "overflow_x": null,
            "overflow_y": null,
            "padding": null,
            "right": null,
            "top": null,
            "visibility": null,
            "width": null
          }
        },
        "3ccb7f7b8414403bac633ae4ef583f16": {
          "model_module": "@jupyter-widgets/base",
          "model_module_version": "1.2.0",
          "model_name": "LayoutModel",
          "state": {
            "_model_module": "@jupyter-widgets/base",
            "_model_module_version": "1.2.0",
            "_model_name": "LayoutModel",
            "_view_count": null,
            "_view_module": "@jupyter-widgets/base",
            "_view_module_version": "1.2.0",
            "_view_name": "LayoutView",
            "align_content": null,
            "align_items": null,
            "align_self": null,
            "border": null,
            "bottom": null,
            "display": null,
            "flex": null,
            "flex_flow": null,
            "grid_area": null,
            "grid_auto_columns": null,
            "grid_auto_flow": null,
            "grid_auto_rows": null,
            "grid_column": null,
            "grid_gap": null,
            "grid_row": null,
            "grid_template_areas": null,
            "grid_template_columns": null,
            "grid_template_rows": null,
            "height": null,
            "justify_content": null,
            "justify_items": null,
            "left": null,
            "margin": null,
            "max_height": null,
            "max_width": null,
            "min_height": null,
            "min_width": null,
            "object_fit": null,
            "object_position": null,
            "order": null,
            "overflow": null,
            "overflow_x": null,
            "overflow_y": null,
            "padding": null,
            "right": null,
            "top": null,
            "visibility": null,
            "width": null
          }
        },
        "40b9a5381c6c4df18094a8a75b13fa66": {
          "model_module": "@jupyter-widgets/controls",
          "model_module_version": "1.5.0",
          "model_name": "HTMLModel",
          "state": {
            "_dom_classes": [],
            "_model_module": "@jupyter-widgets/controls",
            "_model_module_version": "1.5.0",
            "_model_name": "HTMLModel",
            "_view_count": null,
            "_view_module": "@jupyter-widgets/controls",
            "_view_module_version": "1.5.0",
            "_view_name": "HTMLView",
            "description": "",
            "description_tooltip": null,
            "layout": "IPY_MODEL_c274d0da420c4863949b2e61eb147e68",
            "placeholder": "​",
            "style": "IPY_MODEL_8cc144c91a184fa79d5cf285fa37f6e8",
            "value": " 231/231 [00:00&lt;00:00, 17.8kB/s]"
          }
        },
        "5396a3f6ad584a9dae64b30d8cd70b3b": {
          "model_module": "@jupyter-widgets/controls",
          "model_module_version": "1.5.0",
          "model_name": "DescriptionStyleModel",
          "state": {
            "_model_module": "@jupyter-widgets/controls",
            "_model_module_version": "1.5.0",
            "_model_name": "DescriptionStyleModel",
            "_view_count": null,
            "_view_module": "@jupyter-widgets/base",
            "_view_module_version": "1.2.0",
            "_view_name": "StyleView",
            "description_width": ""
          }
        },
        "55914f4d686f4d40b6ed62f106b6fab0": {
          "model_module": "@jupyter-widgets/base",
          "model_module_version": "1.2.0",
          "model_name": "LayoutModel",
          "state": {
            "_model_module": "@jupyter-widgets/base",
            "_model_module_version": "1.2.0",
            "_model_name": "LayoutModel",
            "_view_count": null,
            "_view_module": "@jupyter-widgets/base",
            "_view_module_version": "1.2.0",
            "_view_name": "LayoutView",
            "align_content": null,
            "align_items": null,
            "align_self": null,
            "border": null,
            "bottom": null,
            "display": null,
            "flex": null,
            "flex_flow": null,
            "grid_area": null,
            "grid_auto_columns": null,
            "grid_auto_flow": null,
            "grid_auto_rows": null,
            "grid_column": null,
            "grid_gap": null,
            "grid_row": null,
            "grid_template_areas": null,
            "grid_template_columns": null,
            "grid_template_rows": null,
            "height": null,
            "justify_content": null,
            "justify_items": null,
            "left": null,
            "margin": null,
            "max_height": null,
            "max_width": null,
            "min_height": null,
            "min_width": null,
            "object_fit": null,
            "object_position": null,
            "order": null,
            "overflow": null,
            "overflow_x": null,
            "overflow_y": null,
            "padding": null,
            "right": null,
            "top": null,
            "visibility": null,
            "width": null
          }
        },
        "5945f71a12814406a8e6820ae4273ddd": {
          "model_module": "@jupyter-widgets/controls",
          "model_module_version": "1.5.0",
          "model_name": "FloatProgressModel",
          "state": {
            "_dom_classes": [],
            "_model_module": "@jupyter-widgets/controls",
            "_model_module_version": "1.5.0",
            "_model_name": "FloatProgressModel",
            "_view_count": null,
            "_view_module": "@jupyter-widgets/controls",
            "_view_module_version": "1.5.0",
            "_view_name": "ProgressView",
            "bar_style": "success",
            "description": "",
            "description_tooltip": null,
            "layout": "IPY_MODEL_39b66b38d05d4ea9b0afa35c4c35eef5",
            "max": 2613,
            "min": 0,
            "orientation": "horizontal",
            "style": "IPY_MODEL_f8fc5a1ef7c04f38bd995d43881f80b0",
            "value": 2613
          }
        },
        "60553902440846568cf07d64535f1354": {
          "model_module": "@jupyter-widgets/base",
          "model_module_version": "1.2.0",
          "model_name": "LayoutModel",
          "state": {
            "_model_module": "@jupyter-widgets/base",
            "_model_module_version": "1.2.0",
            "_model_name": "LayoutModel",
            "_view_count": null,
            "_view_module": "@jupyter-widgets/base",
            "_view_module_version": "1.2.0",
            "_view_name": "LayoutView",
            "align_content": null,
            "align_items": null,
            "align_self": null,
            "border": null,
            "bottom": null,
            "display": null,
            "flex": null,
            "flex_flow": null,
            "grid_area": null,
            "grid_auto_columns": null,
            "grid_auto_flow": null,
            "grid_auto_rows": null,
            "grid_column": null,
            "grid_gap": null,
            "grid_row": null,
            "grid_template_areas": null,
            "grid_template_columns": null,
            "grid_template_rows": null,
            "height": null,
            "justify_content": null,
            "justify_items": null,
            "left": null,
            "margin": null,
            "max_height": null,
            "max_width": null,
            "min_height": null,
            "min_width": null,
            "object_fit": null,
            "object_position": null,
            "order": null,
            "overflow": null,
            "overflow_x": null,
            "overflow_y": null,
            "padding": null,
            "right": null,
            "top": null,
            "visibility": null,
            "width": null
          }
        },
        "656875744383427dbfd316bf05355c5e": {
          "model_module": "@jupyter-widgets/controls",
          "model_module_version": "1.5.0",
          "model_name": "ProgressStyleModel",
          "state": {
            "_model_module": "@jupyter-widgets/controls",
            "_model_module_version": "1.5.0",
            "_model_name": "ProgressStyleModel",
            "_view_count": null,
            "_view_module": "@jupyter-widgets/base",
            "_view_module_version": "1.2.0",
            "_view_name": "StyleView",
            "bar_color": null,
            "description_width": ""
          }
        },
        "6eaaa395a59441a38652afec531e1ac2": {
          "model_module": "@jupyter-widgets/controls",
          "model_module_version": "1.5.0",
          "model_name": "DescriptionStyleModel",
          "state": {
            "_model_module": "@jupyter-widgets/controls",
            "_model_module_version": "1.5.0",
            "_model_name": "DescriptionStyleModel",
            "_view_count": null,
            "_view_module": "@jupyter-widgets/base",
            "_view_module_version": "1.2.0",
            "_view_name": "StyleView",
            "description_width": ""
          }
        },
        "6effb214a4b842099071461c9acff919": {
          "model_module": "@jupyter-widgets/controls",
          "model_module_version": "1.5.0",
          "model_name": "HBoxModel",
          "state": {
            "_dom_classes": [],
            "_model_module": "@jupyter-widgets/controls",
            "_model_module_version": "1.5.0",
            "_model_name": "HBoxModel",
            "_view_count": null,
            "_view_module": "@jupyter-widgets/controls",
            "_view_module_version": "1.5.0",
            "_view_name": "HBoxView",
            "box_style": "",
            "children": [
              "IPY_MODEL_210e100aab2e4bafaf8b0c9b704db39f",
              "IPY_MODEL_ca48a0523ad5484fb0ee017305033a8f",
              "IPY_MODEL_40b9a5381c6c4df18094a8a75b13fa66"
            ],
            "layout": "IPY_MODEL_beef7a937c19439fa6c00e8aa200af18"
          }
        },
        "77d42727548943628b0b898e171fe901": {
          "model_module": "@jupyter-widgets/base",
          "model_module_version": "1.2.0",
          "model_name": "LayoutModel",
          "state": {
            "_model_module": "@jupyter-widgets/base",
            "_model_module_version": "1.2.0",
            "_model_name": "LayoutModel",
            "_view_count": null,
            "_view_module": "@jupyter-widgets/base",
            "_view_module_version": "1.2.0",
            "_view_name": "LayoutView",
            "align_content": null,
            "align_items": null,
            "align_self": null,
            "border": null,
            "bottom": null,
            "display": null,
            "flex": null,
            "flex_flow": null,
            "grid_area": null,
            "grid_auto_columns": null,
            "grid_auto_flow": null,
            "grid_auto_rows": null,
            "grid_column": null,
            "grid_gap": null,
            "grid_row": null,
            "grid_template_areas": null,
            "grid_template_columns": null,
            "grid_template_rows": null,
            "height": null,
            "justify_content": null,
            "justify_items": null,
            "left": null,
            "margin": null,
            "max_height": null,
            "max_width": null,
            "min_height": null,
            "min_width": null,
            "object_fit": null,
            "object_position": null,
            "order": null,
            "overflow": null,
            "overflow_x": null,
            "overflow_y": null,
            "padding": null,
            "right": null,
            "top": null,
            "visibility": null,
            "width": null
          }
        },
        "7afda11e8e9a4e1fa2ab6f7e4f4b43c6": {
          "model_module": "@jupyter-widgets/base",
          "model_module_version": "1.2.0",
          "model_name": "LayoutModel",
          "state": {
            "_model_module": "@jupyter-widgets/base",
            "_model_module_version": "1.2.0",
            "_model_name": "LayoutModel",
            "_view_count": null,
            "_view_module": "@jupyter-widgets/base",
            "_view_module_version": "1.2.0",
            "_view_name": "LayoutView",
            "align_content": null,
            "align_items": null,
            "align_self": null,
            "border": null,
            "bottom": null,
            "display": null,
            "flex": null,
            "flex_flow": null,
            "grid_area": null,
            "grid_auto_columns": null,
            "grid_auto_flow": null,
            "grid_auto_rows": null,
            "grid_column": null,
            "grid_gap": null,
            "grid_row": null,
            "grid_template_areas": null,
            "grid_template_columns": null,
            "grid_template_rows": null,
            "height": null,
            "justify_content": null,
            "justify_items": null,
            "left": null,
            "margin": null,
            "max_height": null,
            "max_width": null,
            "min_height": null,
            "min_width": null,
            "object_fit": null,
            "object_position": null,
            "order": null,
            "overflow": null,
            "overflow_x": null,
            "overflow_y": null,
            "padding": null,
            "right": null,
            "top": null,
            "visibility": null,
            "width": null
          }
        },
        "82ddcc6932e24207a6d5f64258dde4d3": {
          "model_module": "@jupyter-widgets/base",
          "model_module_version": "1.2.0",
          "model_name": "LayoutModel",
          "state": {
            "_model_module": "@jupyter-widgets/base",
            "_model_module_version": "1.2.0",
            "_model_name": "LayoutModel",
            "_view_count": null,
            "_view_module": "@jupyter-widgets/base",
            "_view_module_version": "1.2.0",
            "_view_name": "LayoutView",
            "align_content": null,
            "align_items": null,
            "align_self": null,
            "border": null,
            "bottom": null,
            "display": null,
            "flex": null,
            "flex_flow": null,
            "grid_area": null,
            "grid_auto_columns": null,
            "grid_auto_flow": null,
            "grid_auto_rows": null,
            "grid_column": null,
            "grid_gap": null,
            "grid_row": null,
            "grid_template_areas": null,
            "grid_template_columns": null,
            "grid_template_rows": null,
            "height": null,
            "justify_content": null,
            "justify_items": null,
            "left": null,
            "margin": null,
            "max_height": null,
            "max_width": null,
            "min_height": null,
            "min_width": null,
            "object_fit": null,
            "object_position": null,
            "order": null,
            "overflow": null,
            "overflow_x": null,
            "overflow_y": null,
            "padding": null,
            "right": null,
            "top": null,
            "visibility": null,
            "width": null
          }
        },
        "832789c703c14893a733d0f3a0bdbb2e": {
          "model_module": "@jupyter-widgets/base",
          "model_module_version": "1.2.0",
          "model_name": "LayoutModel",
          "state": {
            "_model_module": "@jupyter-widgets/base",
            "_model_module_version": "1.2.0",
            "_model_name": "LayoutModel",
            "_view_count": null,
            "_view_module": "@jupyter-widgets/base",
            "_view_module_version": "1.2.0",
            "_view_name": "LayoutView",
            "align_content": null,
            "align_items": null,
            "align_self": null,
            "border": null,
            "bottom": null,
            "display": null,
            "flex": null,
            "flex_flow": null,
            "grid_area": null,
            "grid_auto_columns": null,
            "grid_auto_flow": null,
            "grid_auto_rows": null,
            "grid_column": null,
            "grid_gap": null,
            "grid_row": null,
            "grid_template_areas": null,
            "grid_template_columns": null,
            "grid_template_rows": null,
            "height": null,
            "justify_content": null,
            "justify_items": null,
            "left": null,
            "margin": null,
            "max_height": null,
            "max_width": null,
            "min_height": null,
            "min_width": null,
            "object_fit": null,
            "object_position": null,
            "order": null,
            "overflow": null,
            "overflow_x": null,
            "overflow_y": null,
            "padding": null,
            "right": null,
            "top": null,
            "visibility": null,
            "width": null
          }
        },
        "87e7ab75b30d4660b150b48284b8e38d": {
          "model_module": "@jupyter-widgets/controls",
          "model_module_version": "1.5.0",
          "model_name": "FloatProgressModel",
          "state": {
            "_dom_classes": [],
            "_model_module": "@jupyter-widgets/controls",
            "_model_module_version": "1.5.0",
            "_model_name": "FloatProgressModel",
            "_view_count": null,
            "_view_module": "@jupyter-widgets/controls",
            "_view_module_version": "1.5.0",
            "_view_name": "ProgressView",
            "bar_style": "success",
            "description": "",
            "description_tooltip": null,
            "layout": "IPY_MODEL_8cc42619226145f7b17c67099afbb8ba",
            "max": 1129238081,
            "min": 0,
            "orientation": "horizontal",
            "style": "IPY_MODEL_b92cf5f87e194ed89e12c32338e91fb3",
            "value": 1129238081
          }
        },
        "87ec4d0ccc9d4dc18d0b7b8d02317498": {
          "model_module": "@jupyter-widgets/controls",
          "model_module_version": "1.5.0",
          "model_name": "HTMLModel",
          "state": {
            "_dom_classes": [],
            "_model_module": "@jupyter-widgets/controls",
            "_model_module_version": "1.5.0",
            "_model_name": "HTMLModel",
            "_view_count": null,
            "_view_module": "@jupyter-widgets/controls",
            "_view_module_version": "1.5.0",
            "_view_name": "HTMLView",
            "description": "",
            "description_tooltip": null,
            "layout": "IPY_MODEL_c662b39d452a4a5ab983c67b1c13f030",
            "placeholder": "​",
            "style": "IPY_MODEL_c2317ea547674613b48ddb866212ed89",
            "value": "Downloading pytorch_model.bin: 100%"
          }
        },
        "888adc60d5224be69a1a6b7ff3a77bed": {
          "model_module": "@jupyter-widgets/controls",
          "model_module_version": "1.5.0",
          "model_name": "HTMLModel",
          "state": {
            "_dom_classes": [],
            "_model_module": "@jupyter-widgets/controls",
            "_model_module_version": "1.5.0",
            "_model_name": "HTMLModel",
            "_view_count": null,
            "_view_module": "@jupyter-widgets/controls",
            "_view_module_version": "1.5.0",
            "_view_name": "HTMLView",
            "description": "",
            "description_tooltip": null,
            "layout": "IPY_MODEL_33ea47cf90484abfaa76508a02fe638d",
            "placeholder": "​",
            "style": "IPY_MODEL_0c344787a0ee483c91e0a768727b88b6",
            "value": "Downloading (…)/main/tokenizer.json: 100%"
          }
        },
        "88a77b4ab29645348746a4318f6f3969": {
          "model_module": "@jupyter-widgets/controls",
          "model_module_version": "1.5.0",
          "model_name": "FloatProgressModel",
          "state": {
            "_dom_classes": [],
            "_model_module": "@jupyter-widgets/controls",
            "_model_module_version": "1.5.0",
            "_model_name": "FloatProgressModel",
            "_view_count": null,
            "_view_module": "@jupyter-widgets/controls",
            "_view_module_version": "1.5.0",
            "_view_name": "ProgressView",
            "bar_style": "success",
            "description": "",
            "description_tooltip": null,
            "layout": "IPY_MODEL_8c08bdf484154a4182dc7d79e9607343",
            "max": 2201,
            "min": 0,
            "orientation": "horizontal",
            "style": "IPY_MODEL_2838dc37e7f5458ca93c82babf184bc9",
            "value": 2201
          }
        },
        "8b7c24cbfb3e4eaa9c8f84a5f6d45dc4": {
          "model_module": "@jupyter-widgets/controls",
          "model_module_version": "1.5.0",
          "model_name": "ProgressStyleModel",
          "state": {
            "_model_module": "@jupyter-widgets/controls",
            "_model_module_version": "1.5.0",
            "_model_name": "ProgressStyleModel",
            "_view_count": null,
            "_view_module": "@jupyter-widgets/base",
            "_view_module_version": "1.2.0",
            "_view_name": "StyleView",
            "bar_color": null,
            "description_width": ""
          }
        },
        "8bd951f45bd143faa88871d07d102f44": {
          "model_module": "@jupyter-widgets/base",
          "model_module_version": "1.2.0",
          "model_name": "LayoutModel",
          "state": {
            "_model_module": "@jupyter-widgets/base",
            "_model_module_version": "1.2.0",
            "_model_name": "LayoutModel",
            "_view_count": null,
            "_view_module": "@jupyter-widgets/base",
            "_view_module_version": "1.2.0",
            "_view_name": "LayoutView",
            "align_content": null,
            "align_items": null,
            "align_self": null,
            "border": null,
            "bottom": null,
            "display": null,
            "flex": null,
            "flex_flow": null,
            "grid_area": null,
            "grid_auto_columns": null,
            "grid_auto_flow": null,
            "grid_auto_rows": null,
            "grid_column": null,
            "grid_gap": null,
            "grid_row": null,
            "grid_template_areas": null,
            "grid_template_columns": null,
            "grid_template_rows": null,
            "height": null,
            "justify_content": null,
            "justify_items": null,
            "left": null,
            "margin": null,
            "max_height": null,
            "max_width": null,
            "min_height": null,
            "min_width": null,
            "object_fit": null,
            "object_position": null,
            "order": null,
            "overflow": null,
            "overflow_x": null,
            "overflow_y": null,
            "padding": null,
            "right": null,
            "top": null,
            "visibility": null,
            "width": null
          }
        },
        "8c08bdf484154a4182dc7d79e9607343": {
          "model_module": "@jupyter-widgets/base",
          "model_module_version": "1.2.0",
          "model_name": "LayoutModel",
          "state": {
            "_model_module": "@jupyter-widgets/base",
            "_model_module_version": "1.2.0",
            "_model_name": "LayoutModel",
            "_view_count": null,
            "_view_module": "@jupyter-widgets/base",
            "_view_module_version": "1.2.0",
            "_view_name": "LayoutView",
            "align_content": null,
            "align_items": null,
            "align_self": null,
            "border": null,
            "bottom": null,
            "display": null,
            "flex": null,
            "flex_flow": null,
            "grid_area": null,
            "grid_auto_columns": null,
            "grid_auto_flow": null,
            "grid_auto_rows": null,
            "grid_column": null,
            "grid_gap": null,
            "grid_row": null,
            "grid_template_areas": null,
            "grid_template_columns": null,
            "grid_template_rows": null,
            "height": null,
            "justify_content": null,
            "justify_items": null,
            "left": null,
            "margin": null,
            "max_height": null,
            "max_width": null,
            "min_height": null,
            "min_width": null,
            "object_fit": null,
            "object_position": null,
            "order": null,
            "overflow": null,
            "overflow_x": null,
            "overflow_y": null,
            "padding": null,
            "right": null,
            "top": null,
            "visibility": null,
            "width": null
          }
        },
        "8cc144c91a184fa79d5cf285fa37f6e8": {
          "model_module": "@jupyter-widgets/controls",
          "model_module_version": "1.5.0",
          "model_name": "DescriptionStyleModel",
          "state": {
            "_model_module": "@jupyter-widgets/controls",
            "_model_module_version": "1.5.0",
            "_model_name": "DescriptionStyleModel",
            "_view_count": null,
            "_view_module": "@jupyter-widgets/base",
            "_view_module_version": "1.2.0",
            "_view_name": "StyleView",
            "description_width": ""
          }
        },
        "8cc42619226145f7b17c67099afbb8ba": {
          "model_module": "@jupyter-widgets/base",
          "model_module_version": "1.2.0",
          "model_name": "LayoutModel",
          "state": {
            "_model_module": "@jupyter-widgets/base",
            "_model_module_version": "1.2.0",
            "_model_name": "LayoutModel",
            "_view_count": null,
            "_view_module": "@jupyter-widgets/base",
            "_view_module_version": "1.2.0",
            "_view_name": "LayoutView",
            "align_content": null,
            "align_items": null,
            "align_self": null,
            "border": null,
            "bottom": null,
            "display": null,
            "flex": null,
            "flex_flow": null,
            "grid_area": null,
            "grid_auto_columns": null,
            "grid_auto_flow": null,
            "grid_auto_rows": null,
            "grid_column": null,
            "grid_gap": null,
            "grid_row": null,
            "grid_template_areas": null,
            "grid_template_columns": null,
            "grid_template_rows": null,
            "height": null,
            "justify_content": null,
            "justify_items": null,
            "left": null,
            "margin": null,
            "max_height": null,
            "max_width": null,
            "min_height": null,
            "min_width": null,
            "object_fit": null,
            "object_position": null,
            "order": null,
            "overflow": null,
            "overflow_x": null,
            "overflow_y": null,
            "padding": null,
            "right": null,
            "top": null,
            "visibility": null,
            "width": null
          }
        },
        "8e7978f47b514707b5fe3ed38b4d5b9f": {
          "model_module": "@jupyter-widgets/controls",
          "model_module_version": "1.5.0",
          "model_name": "DescriptionStyleModel",
          "state": {
            "_model_module": "@jupyter-widgets/controls",
            "_model_module_version": "1.5.0",
            "_model_name": "DescriptionStyleModel",
            "_view_count": null,
            "_view_module": "@jupyter-widgets/base",
            "_view_module_version": "1.2.0",
            "_view_name": "StyleView",
            "description_width": ""
          }
        },
        "989d1bf02a1d487d847ce0cad853f45d": {
          "model_module": "@jupyter-widgets/controls",
          "model_module_version": "1.5.0",
          "model_name": "FloatProgressModel",
          "state": {
            "_dom_classes": [],
            "_model_module": "@jupyter-widgets/controls",
            "_model_module_version": "1.5.0",
            "_model_name": "FloatProgressModel",
            "_view_count": null,
            "_view_module": "@jupyter-widgets/controls",
            "_view_module_version": "1.5.0",
            "_view_name": "ProgressView",
            "bar_style": "success",
            "description": "",
            "description_tooltip": null,
            "layout": "IPY_MODEL_60553902440846568cf07d64535f1354",
            "max": 851388,
            "min": 0,
            "orientation": "horizontal",
            "style": "IPY_MODEL_c794b615df7d477c8313b90546415e32",
            "value": 851388
          }
        },
        "a4044a5d130248118ca58acb9795aa2f": {
          "model_module": "@jupyter-widgets/controls",
          "model_module_version": "1.5.0",
          "model_name": "HBoxModel",
          "state": {
            "_dom_classes": [],
            "_model_module": "@jupyter-widgets/controls",
            "_model_module_version": "1.5.0",
            "_model_name": "HBoxModel",
            "_view_count": null,
            "_view_module": "@jupyter-widgets/controls",
            "_view_module_version": "1.5.0",
            "_view_name": "HBoxView",
            "box_style": "",
            "children": [
              "IPY_MODEL_1d4f6cf93e354e70bb0d124004c4cd06",
              "IPY_MODEL_88a77b4ab29645348746a4318f6f3969",
              "IPY_MODEL_dbc44f04124943268ad578bf73dbdef0"
            ],
            "layout": "IPY_MODEL_3ccb7f7b8414403bac633ae4ef583f16"
          }
        },
        "a61146bbafa44bf7bd5d94ea95c22349": {
          "model_module": "@jupyter-widgets/base",
          "model_module_version": "1.2.0",
          "model_name": "LayoutModel",
          "state": {
            "_model_module": "@jupyter-widgets/base",
            "_model_module_version": "1.2.0",
            "_model_name": "LayoutModel",
            "_view_count": null,
            "_view_module": "@jupyter-widgets/base",
            "_view_module_version": "1.2.0",
            "_view_name": "LayoutView",
            "align_content": null,
            "align_items": null,
            "align_self": null,
            "border": null,
            "bottom": null,
            "display": null,
            "flex": null,
            "flex_flow": null,
            "grid_area": null,
            "grid_auto_columns": null,
            "grid_auto_flow": null,
            "grid_auto_rows": null,
            "grid_column": null,
            "grid_gap": null,
            "grid_row": null,
            "grid_template_areas": null,
            "grid_template_columns": null,
            "grid_template_rows": null,
            "height": null,
            "justify_content": null,
            "justify_items": null,
            "left": null,
            "margin": null,
            "max_height": null,
            "max_width": null,
            "min_height": null,
            "min_width": null,
            "object_fit": null,
            "object_position": null,
            "order": null,
            "overflow": null,
            "overflow_x": null,
            "overflow_y": null,
            "padding": null,
            "right": null,
            "top": null,
            "visibility": null,
            "width": null
          }
        },
        "a61b78e260f74b4e89704c75987dc92c": {
          "model_module": "@jupyter-widgets/controls",
          "model_module_version": "1.5.0",
          "model_name": "HTMLModel",
          "state": {
            "_dom_classes": [],
            "_model_module": "@jupyter-widgets/controls",
            "_model_module_version": "1.5.0",
            "_model_name": "HTMLModel",
            "_view_count": null,
            "_view_module": "@jupyter-widgets/controls",
            "_view_module_version": "1.5.0",
            "_view_name": "HTMLView",
            "description": "",
            "description_tooltip": null,
            "layout": "IPY_MODEL_e5eb0e58192549ef8961030291bbc805",
            "placeholder": "​",
            "style": "IPY_MODEL_02a0019a976f40c2b767c48d022bc2a4",
            "value": "Downloading (…)okenizer_config.json: 100%"
          }
        },
        "b396554824f740719a842b8a725cd63e": {
          "model_module": "@jupyter-widgets/controls",
          "model_module_version": "1.5.0",
          "model_name": "FloatProgressModel",
          "state": {
            "_dom_classes": [],
            "_model_module": "@jupyter-widgets/controls",
            "_model_module_version": "1.5.0",
            "_model_name": "FloatProgressModel",
            "_view_count": null,
            "_view_module": "@jupyter-widgets/controls",
            "_view_module_version": "1.5.0",
            "_view_name": "ProgressView",
            "bar_style": "success",
            "description": "",
            "description_tooltip": null,
            "layout": "IPY_MODEL_06c0f84b2388443992713638a4443c98",
            "max": 4918,
            "min": 0,
            "orientation": "horizontal",
            "style": "IPY_MODEL_8b7c24cbfb3e4eaa9c8f84a5f6d45dc4",
            "value": 4918
          }
        },
        "b6c0a8c82d144bf9acd4a40f87fe46f4": {
          "model_module": "@jupyter-widgets/controls",
          "model_module_version": "1.5.0",
          "model_name": "DescriptionStyleModel",
          "state": {
            "_model_module": "@jupyter-widgets/controls",
            "_model_module_version": "1.5.0",
            "_model_name": "DescriptionStyleModel",
            "_view_count": null,
            "_view_module": "@jupyter-widgets/base",
            "_view_module_version": "1.2.0",
            "_view_name": "StyleView",
            "description_width": ""
          }
        },
        "b92cf5f87e194ed89e12c32338e91fb3": {
          "model_module": "@jupyter-widgets/controls",
          "model_module_version": "1.5.0",
          "model_name": "ProgressStyleModel",
          "state": {
            "_model_module": "@jupyter-widgets/controls",
            "_model_module_version": "1.5.0",
            "_model_name": "ProgressStyleModel",
            "_view_count": null,
            "_view_module": "@jupyter-widgets/base",
            "_view_module_version": "1.2.0",
            "_view_name": "StyleView",
            "bar_color": null,
            "description_width": ""
          }
        },
        "beef7a937c19439fa6c00e8aa200af18": {
          "model_module": "@jupyter-widgets/base",
          "model_module_version": "1.2.0",
          "model_name": "LayoutModel",
          "state": {
            "_model_module": "@jupyter-widgets/base",
            "_model_module_version": "1.2.0",
            "_model_name": "LayoutModel",
            "_view_count": null,
            "_view_module": "@jupyter-widgets/base",
            "_view_module_version": "1.2.0",
            "_view_name": "LayoutView",
            "align_content": null,
            "align_items": null,
            "align_self": null,
            "border": null,
            "bottom": null,
            "display": null,
            "flex": null,
            "flex_flow": null,
            "grid_area": null,
            "grid_auto_columns": null,
            "grid_auto_flow": null,
            "grid_auto_rows": null,
            "grid_column": null,
            "grid_gap": null,
            "grid_row": null,
            "grid_template_areas": null,
            "grid_template_columns": null,
            "grid_template_rows": null,
            "height": null,
            "justify_content": null,
            "justify_items": null,
            "left": null,
            "margin": null,
            "max_height": null,
            "max_width": null,
            "min_height": null,
            "min_width": null,
            "object_fit": null,
            "object_position": null,
            "order": null,
            "overflow": null,
            "overflow_x": null,
            "overflow_y": null,
            "padding": null,
            "right": null,
            "top": null,
            "visibility": null,
            "width": null
          }
        },
        "c165e3dbde2242bc81a4eec86516de06": {
          "model_module": "@jupyter-widgets/controls",
          "model_module_version": "1.5.0",
          "model_name": "HBoxModel",
          "state": {
            "_dom_classes": [],
            "_model_module": "@jupyter-widgets/controls",
            "_model_module_version": "1.5.0",
            "_model_name": "HBoxModel",
            "_view_count": null,
            "_view_module": "@jupyter-widgets/controls",
            "_view_module_version": "1.5.0",
            "_view_name": "HBoxView",
            "box_style": "",
            "children": [
              "IPY_MODEL_87ec4d0ccc9d4dc18d0b7b8d02317498",
              "IPY_MODEL_87e7ab75b30d4660b150b48284b8e38d",
              "IPY_MODEL_e849d2ff29b84b01a947d23268a2c156"
            ],
            "layout": "IPY_MODEL_7afda11e8e9a4e1fa2ab6f7e4f4b43c6"
          }
        },
        "c2317ea547674613b48ddb866212ed89": {
          "model_module": "@jupyter-widgets/controls",
          "model_module_version": "1.5.0",
          "model_name": "DescriptionStyleModel",
          "state": {
            "_model_module": "@jupyter-widgets/controls",
            "_model_module_version": "1.5.0",
            "_model_name": "DescriptionStyleModel",
            "_view_count": null,
            "_view_module": "@jupyter-widgets/base",
            "_view_module_version": "1.2.0",
            "_view_name": "StyleView",
            "description_width": ""
          }
        },
        "c274d0da420c4863949b2e61eb147e68": {
          "model_module": "@jupyter-widgets/base",
          "model_module_version": "1.2.0",
          "model_name": "LayoutModel",
          "state": {
            "_model_module": "@jupyter-widgets/base",
            "_model_module_version": "1.2.0",
            "_model_name": "LayoutModel",
            "_view_count": null,
            "_view_module": "@jupyter-widgets/base",
            "_view_module_version": "1.2.0",
            "_view_name": "LayoutView",
            "align_content": null,
            "align_items": null,
            "align_self": null,
            "border": null,
            "bottom": null,
            "display": null,
            "flex": null,
            "flex_flow": null,
            "grid_area": null,
            "grid_auto_columns": null,
            "grid_auto_flow": null,
            "grid_auto_rows": null,
            "grid_column": null,
            "grid_gap": null,
            "grid_row": null,
            "grid_template_areas": null,
            "grid_template_columns": null,
            "grid_template_rows": null,
            "height": null,
            "justify_content": null,
            "justify_items": null,
            "left": null,
            "margin": null,
            "max_height": null,
            "max_width": null,
            "min_height": null,
            "min_width": null,
            "object_fit": null,
            "object_position": null,
            "order": null,
            "overflow": null,
            "overflow_x": null,
            "overflow_y": null,
            "padding": null,
            "right": null,
            "top": null,
            "visibility": null,
            "width": null
          }
        },
        "c373606fa07542158ce98fc61207f06b": {
          "model_module": "@jupyter-widgets/controls",
          "model_module_version": "1.5.0",
          "model_name": "DescriptionStyleModel",
          "state": {
            "_model_module": "@jupyter-widgets/controls",
            "_model_module_version": "1.5.0",
            "_model_name": "DescriptionStyleModel",
            "_view_count": null,
            "_view_module": "@jupyter-widgets/base",
            "_view_module_version": "1.2.0",
            "_view_name": "StyleView",
            "description_width": ""
          }
        },
        "c662b39d452a4a5ab983c67b1c13f030": {
          "model_module": "@jupyter-widgets/base",
          "model_module_version": "1.2.0",
          "model_name": "LayoutModel",
          "state": {
            "_model_module": "@jupyter-widgets/base",
            "_model_module_version": "1.2.0",
            "_model_name": "LayoutModel",
            "_view_count": null,
            "_view_module": "@jupyter-widgets/base",
            "_view_module_version": "1.2.0",
            "_view_name": "LayoutView",
            "align_content": null,
            "align_items": null,
            "align_self": null,
            "border": null,
            "bottom": null,
            "display": null,
            "flex": null,
            "flex_flow": null,
            "grid_area": null,
            "grid_auto_columns": null,
            "grid_auto_flow": null,
            "grid_auto_rows": null,
            "grid_column": null,
            "grid_gap": null,
            "grid_row": null,
            "grid_template_areas": null,
            "grid_template_columns": null,
            "grid_template_rows": null,
            "height": null,
            "justify_content": null,
            "justify_items": null,
            "left": null,
            "margin": null,
            "max_height": null,
            "max_width": null,
            "min_height": null,
            "min_width": null,
            "object_fit": null,
            "object_position": null,
            "order": null,
            "overflow": null,
            "overflow_x": null,
            "overflow_y": null,
            "padding": null,
            "right": null,
            "top": null,
            "visibility": null,
            "width": null
          }
        },
        "c794b615df7d477c8313b90546415e32": {
          "model_module": "@jupyter-widgets/controls",
          "model_module_version": "1.5.0",
          "model_name": "ProgressStyleModel",
          "state": {
            "_model_module": "@jupyter-widgets/controls",
            "_model_module_version": "1.5.0",
            "_model_name": "ProgressStyleModel",
            "_view_count": null,
            "_view_module": "@jupyter-widgets/base",
            "_view_module_version": "1.2.0",
            "_view_name": "StyleView",
            "bar_color": null,
            "description_width": ""
          }
        },
        "ca48a0523ad5484fb0ee017305033a8f": {
          "model_module": "@jupyter-widgets/controls",
          "model_module_version": "1.5.0",
          "model_name": "FloatProgressModel",
          "state": {
            "_dom_classes": [],
            "_model_module": "@jupyter-widgets/controls",
            "_model_module_version": "1.5.0",
            "_model_name": "FloatProgressModel",
            "_view_count": null,
            "_view_module": "@jupyter-widgets/controls",
            "_view_module_version": "1.5.0",
            "_view_name": "ProgressView",
            "bar_style": "success",
            "description": "",
            "description_tooltip": null,
            "layout": "IPY_MODEL_013a9d2b468f411dbecedd2af62cc2f1",
            "max": 231,
            "min": 0,
            "orientation": "horizontal",
            "style": "IPY_MODEL_656875744383427dbfd316bf05355c5e",
            "value": 231
          }
        },
        "ce36670568a14a818778c879b41192a7": {
          "model_module": "@jupyter-widgets/base",
          "model_module_version": "1.2.0",
          "model_name": "LayoutModel",
          "state": {
            "_model_module": "@jupyter-widgets/base",
            "_model_module_version": "1.2.0",
            "_model_name": "LayoutModel",
            "_view_count": null,
            "_view_module": "@jupyter-widgets/base",
            "_view_module_version": "1.2.0",
            "_view_name": "LayoutView",
            "align_content": null,
            "align_items": null,
            "align_self": null,
            "border": null,
            "bottom": null,
            "display": null,
            "flex": null,
            "flex_flow": null,
            "grid_area": null,
            "grid_auto_columns": null,
            "grid_auto_flow": null,
            "grid_auto_rows": null,
            "grid_column": null,
            "grid_gap": null,
            "grid_row": null,
            "grid_template_areas": null,
            "grid_template_columns": null,
            "grid_template_rows": null,
            "height": null,
            "justify_content": null,
            "justify_items": null,
            "left": null,
            "margin": null,
            "max_height": null,
            "max_width": null,
            "min_height": null,
            "min_width": null,
            "object_fit": null,
            "object_position": null,
            "order": null,
            "overflow": null,
            "overflow_x": null,
            "overflow_y": null,
            "padding": null,
            "right": null,
            "top": null,
            "visibility": null,
            "width": null
          }
        },
        "d7ce8f1619364d7a85f96e04ca5668ff": {
          "model_module": "@jupyter-widgets/base",
          "model_module_version": "1.2.0",
          "model_name": "LayoutModel",
          "state": {
            "_model_module": "@jupyter-widgets/base",
            "_model_module_version": "1.2.0",
            "_model_name": "LayoutModel",
            "_view_count": null,
            "_view_module": "@jupyter-widgets/base",
            "_view_module_version": "1.2.0",
            "_view_name": "LayoutView",
            "align_content": null,
            "align_items": null,
            "align_self": null,
            "border": null,
            "bottom": null,
            "display": null,
            "flex": null,
            "flex_flow": null,
            "grid_area": null,
            "grid_auto_columns": null,
            "grid_auto_flow": null,
            "grid_auto_rows": null,
            "grid_column": null,
            "grid_gap": null,
            "grid_row": null,
            "grid_template_areas": null,
            "grid_template_columns": null,
            "grid_template_rows": null,
            "height": null,
            "justify_content": null,
            "justify_items": null,
            "left": null,
            "margin": null,
            "max_height": null,
            "max_width": null,
            "min_height": null,
            "min_width": null,
            "object_fit": null,
            "object_position": null,
            "order": null,
            "overflow": null,
            "overflow_x": null,
            "overflow_y": null,
            "padding": null,
            "right": null,
            "top": null,
            "visibility": null,
            "width": null
          }
        },
        "d84ad969559448b2b5e7185e26d5a328": {
          "model_module": "@jupyter-widgets/base",
          "model_module_version": "1.2.0",
          "model_name": "LayoutModel",
          "state": {
            "_model_module": "@jupyter-widgets/base",
            "_model_module_version": "1.2.0",
            "_model_name": "LayoutModel",
            "_view_count": null,
            "_view_module": "@jupyter-widgets/base",
            "_view_module_version": "1.2.0",
            "_view_name": "LayoutView",
            "align_content": null,
            "align_items": null,
            "align_self": null,
            "border": null,
            "bottom": null,
            "display": null,
            "flex": null,
            "flex_flow": null,
            "grid_area": null,
            "grid_auto_columns": null,
            "grid_auto_flow": null,
            "grid_auto_rows": null,
            "grid_column": null,
            "grid_gap": null,
            "grid_row": null,
            "grid_template_areas": null,
            "grid_template_columns": null,
            "grid_template_rows": null,
            "height": null,
            "justify_content": null,
            "justify_items": null,
            "left": null,
            "margin": null,
            "max_height": null,
            "max_width": null,
            "min_height": null,
            "min_width": null,
            "object_fit": null,
            "object_position": null,
            "order": null,
            "overflow": null,
            "overflow_x": null,
            "overflow_y": null,
            "padding": null,
            "right": null,
            "top": null,
            "visibility": null,
            "width": null
          }
        },
        "d8c349dbeb2d44a5bdb1de65b4a3b12c": {
          "model_module": "@jupyter-widgets/controls",
          "model_module_version": "1.5.0",
          "model_name": "DescriptionStyleModel",
          "state": {
            "_model_module": "@jupyter-widgets/controls",
            "_model_module_version": "1.5.0",
            "_model_name": "DescriptionStyleModel",
            "_view_count": null,
            "_view_module": "@jupyter-widgets/base",
            "_view_module_version": "1.2.0",
            "_view_name": "StyleView",
            "description_width": ""
          }
        },
        "dbc44f04124943268ad578bf73dbdef0": {
          "model_module": "@jupyter-widgets/controls",
          "model_module_version": "1.5.0",
          "model_name": "HTMLModel",
          "state": {
            "_dom_classes": [],
            "_model_module": "@jupyter-widgets/controls",
            "_model_module_version": "1.5.0",
            "_model_name": "HTMLModel",
            "_view_count": null,
            "_view_module": "@jupyter-widgets/controls",
            "_view_module_version": "1.5.0",
            "_view_name": "HTMLView",
            "description": "",
            "description_tooltip": null,
            "layout": "IPY_MODEL_8bd951f45bd143faa88871d07d102f44",
            "placeholder": "​",
            "style": "IPY_MODEL_d8c349dbeb2d44a5bdb1de65b4a3b12c",
            "value": " 2.20k/2.20k [00:00&lt;00:00, 189kB/s]"
          }
        },
        "dce8f085ca044ceb91746f995fb0cfec": {
          "model_module": "@jupyter-widgets/controls",
          "model_module_version": "1.5.0",
          "model_name": "ProgressStyleModel",
          "state": {
            "_model_module": "@jupyter-widgets/controls",
            "_model_module_version": "1.5.0",
            "_model_name": "ProgressStyleModel",
            "_view_count": null,
            "_view_module": "@jupyter-widgets/base",
            "_view_module_version": "1.2.0",
            "_view_name": "StyleView",
            "bar_color": null,
            "description_width": ""
          }
        },
        "e49e034b78ab405d87166d97d86aa930": {
          "model_module": "@jupyter-widgets/base",
          "model_module_version": "1.2.0",
          "model_name": "LayoutModel",
          "state": {
            "_model_module": "@jupyter-widgets/base",
            "_model_module_version": "1.2.0",
            "_model_name": "LayoutModel",
            "_view_count": null,
            "_view_module": "@jupyter-widgets/base",
            "_view_module_version": "1.2.0",
            "_view_name": "LayoutView",
            "align_content": null,
            "align_items": null,
            "align_self": null,
            "border": null,
            "bottom": null,
            "display": null,
            "flex": null,
            "flex_flow": null,
            "grid_area": null,
            "grid_auto_columns": null,
            "grid_auto_flow": null,
            "grid_auto_rows": null,
            "grid_column": null,
            "grid_gap": null,
            "grid_row": null,
            "grid_template_areas": null,
            "grid_template_columns": null,
            "grid_template_rows": null,
            "height": null,
            "justify_content": null,
            "justify_items": null,
            "left": null,
            "margin": null,
            "max_height": null,
            "max_width": null,
            "min_height": null,
            "min_width": null,
            "object_fit": null,
            "object_position": null,
            "order": null,
            "overflow": null,
            "overflow_x": null,
            "overflow_y": null,
            "padding": null,
            "right": null,
            "top": null,
            "visibility": null,
            "width": null
          }
        },
        "e5eb0e58192549ef8961030291bbc805": {
          "model_module": "@jupyter-widgets/base",
          "model_module_version": "1.2.0",
          "model_name": "LayoutModel",
          "state": {
            "_model_module": "@jupyter-widgets/base",
            "_model_module_version": "1.2.0",
            "_model_name": "LayoutModel",
            "_view_count": null,
            "_view_module": "@jupyter-widgets/base",
            "_view_module_version": "1.2.0",
            "_view_name": "LayoutView",
            "align_content": null,
            "align_items": null,
            "align_self": null,
            "border": null,
            "bottom": null,
            "display": null,
            "flex": null,
            "flex_flow": null,
            "grid_area": null,
            "grid_auto_columns": null,
            "grid_auto_flow": null,
            "grid_auto_rows": null,
            "grid_column": null,
            "grid_gap": null,
            "grid_row": null,
            "grid_template_areas": null,
            "grid_template_columns": null,
            "grid_template_rows": null,
            "height": null,
            "justify_content": null,
            "justify_items": null,
            "left": null,
            "margin": null,
            "max_height": null,
            "max_width": null,
            "min_height": null,
            "min_width": null,
            "object_fit": null,
            "object_position": null,
            "order": null,
            "overflow": null,
            "overflow_x": null,
            "overflow_y": null,
            "padding": null,
            "right": null,
            "top": null,
            "visibility": null,
            "width": null
          }
        },
        "e849d2ff29b84b01a947d23268a2c156": {
          "model_module": "@jupyter-widgets/controls",
          "model_module_version": "1.5.0",
          "model_name": "HTMLModel",
          "state": {
            "_dom_classes": [],
            "_model_module": "@jupyter-widgets/controls",
            "_model_module_version": "1.5.0",
            "_model_name": "HTMLModel",
            "_view_count": null,
            "_view_module": "@jupyter-widgets/controls",
            "_view_module_version": "1.5.0",
            "_view_name": "HTMLView",
            "description": "",
            "description_tooltip": null,
            "layout": "IPY_MODEL_a61146bbafa44bf7bd5d94ea95c22349",
            "placeholder": "​",
            "style": "IPY_MODEL_fc09e0c6c22b407690a4ddd46440b452",
            "value": " 1.13G/1.13G [00:02&lt;00:00, 409MB/s]"
          }
        },
        "e864fc0139e04b45a2d7cef193909a86": {
          "model_module": "@jupyter-widgets/controls",
          "model_module_version": "1.5.0",
          "model_name": "HBoxModel",
          "state": {
            "_dom_classes": [],
            "_model_module": "@jupyter-widgets/controls",
            "_model_module_version": "1.5.0",
            "_model_name": "HBoxModel",
            "_view_count": null,
            "_view_module": "@jupyter-widgets/controls",
            "_view_module_version": "1.5.0",
            "_view_name": "HBoxView",
            "box_style": "",
            "children": [
              "IPY_MODEL_2d318f67dccb4bb2906e4e1580d1d513",
              "IPY_MODEL_b396554824f740719a842b8a725cd63e",
              "IPY_MODEL_1dcb655d55b94e3191e7a4c8434f0d43"
            ],
            "layout": "IPY_MODEL_1ec704eb721f4036979aa72ad9464f86"
          }
        },
        "edf7f463a1f4426689af5c7265c85bf2": {
          "model_module": "@jupyter-widgets/base",
          "model_module_version": "1.2.0",
          "model_name": "LayoutModel",
          "state": {
            "_model_module": "@jupyter-widgets/base",
            "_model_module_version": "1.2.0",
            "_model_name": "LayoutModel",
            "_view_count": null,
            "_view_module": "@jupyter-widgets/base",
            "_view_module_version": "1.2.0",
            "_view_name": "LayoutView",
            "align_content": null,
            "align_items": null,
            "align_self": null,
            "border": null,
            "bottom": null,
            "display": null,
            "flex": null,
            "flex_flow": null,
            "grid_area": null,
            "grid_auto_columns": null,
            "grid_auto_flow": null,
            "grid_auto_rows": null,
            "grid_column": null,
            "grid_gap": null,
            "grid_row": null,
            "grid_template_areas": null,
            "grid_template_columns": null,
            "grid_template_rows": null,
            "height": null,
            "justify_content": null,
            "justify_items": null,
            "left": null,
            "margin": null,
            "max_height": null,
            "max_width": null,
            "min_height": null,
            "min_width": null,
            "object_fit": null,
            "object_position": null,
            "order": null,
            "overflow": null,
            "overflow_x": null,
            "overflow_y": null,
            "padding": null,
            "right": null,
            "top": null,
            "visibility": null,
            "width": null
          }
        },
        "ee8bd60c27f6433297859e7cd62ea7f8": {
          "model_module": "@jupyter-widgets/controls",
          "model_module_version": "1.5.0",
          "model_name": "HTMLModel",
          "state": {
            "_dom_classes": [],
            "_model_module": "@jupyter-widgets/controls",
            "_model_module_version": "1.5.0",
            "_model_name": "HTMLModel",
            "_view_count": null,
            "_view_module": "@jupyter-widgets/controls",
            "_view_module_version": "1.5.0",
            "_view_name": "HTMLView",
            "description": "",
            "description_tooltip": null,
            "layout": "IPY_MODEL_d7ce8f1619364d7a85f96e04ca5668ff",
            "placeholder": "​",
            "style": "IPY_MODEL_5396a3f6ad584a9dae64b30d8cd70b3b",
            "value": "Downloading spiece.model: 100%"
          }
        },
        "f4be2fd36f644fbf95f37294fc55e7a7": {
          "model_module": "@jupyter-widgets/controls",
          "model_module_version": "1.5.0",
          "model_name": "FloatProgressModel",
          "state": {
            "_dom_classes": [],
            "_model_module": "@jupyter-widgets/controls",
            "_model_module_version": "1.5.0",
            "_model_name": "FloatProgressModel",
            "_view_count": null,
            "_view_module": "@jupyter-widgets/controls",
            "_view_module_version": "1.5.0",
            "_view_name": "ProgressView",
            "bar_style": "success",
            "description": "",
            "description_tooltip": null,
            "layout": "IPY_MODEL_77d42727548943628b0b898e171fe901",
            "max": 3265159,
            "min": 0,
            "orientation": "horizontal",
            "style": "IPY_MODEL_dce8f085ca044ceb91746f995fb0cfec",
            "value": 3265159
          }
        },
        "f8fc5a1ef7c04f38bd995d43881f80b0": {
          "model_module": "@jupyter-widgets/controls",
          "model_module_version": "1.5.0",
          "model_name": "ProgressStyleModel",
          "state": {
            "_model_module": "@jupyter-widgets/controls",
            "_model_module_version": "1.5.0",
            "_model_name": "ProgressStyleModel",
            "_view_count": null,
            "_view_module": "@jupyter-widgets/base",
            "_view_module_version": "1.2.0",
            "_view_name": "StyleView",
            "bar_color": null,
            "description_width": ""
          }
        },
        "fc09e0c6c22b407690a4ddd46440b452": {
          "model_module": "@jupyter-widgets/controls",
          "model_module_version": "1.5.0",
          "model_name": "DescriptionStyleModel",
          "state": {
            "_model_module": "@jupyter-widgets/controls",
            "_model_module_version": "1.5.0",
            "_model_name": "DescriptionStyleModel",
            "_view_count": null,
            "_view_module": "@jupyter-widgets/base",
            "_view_module_version": "1.2.0",
            "_view_name": "StyleView",
            "description_width": ""
          }
        }
      }
    }
  },
  "nbformat": 4,
  "nbformat_minor": 0
}
